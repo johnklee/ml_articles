{
 "cells": [
  {
   "cell_type": "markdown",
   "id": "6a76ef3d-abd3-4286-9532-6651cab267e3",
   "metadata": {},
   "source": [
    "## <b><font color='darkblue'>Preface</font></b>\n",
    "([source](https://courses.dataschool.io/view/courses/build-ai-agents-with-python/3021202-chapter-3-building-a-translation-app)) Building a translation app"
   ]
  },
  {
   "cell_type": "markdown",
   "id": "db308ba9-4c76-4f8f-9681-06700948ac0d",
   "metadata": {},
   "source": [
    "### <b><font color='darkgreen'>Section 1: Translating to one language</font></b>\n",
    "([source](https://courses.dataschool.io/view/courses/build-ai-agents-with-python/3021202-chapter-3-building-a-translation-app/9966136-translating-to-one-language))"
   ]
  },
  {
   "cell_type": "code",
   "execution_count": 1,
   "id": "8bd1bcf1-fa71-4f7e-8103-346e26eadcac",
   "metadata": {},
   "outputs": [],
   "source": [
    "import chatbot\n",
    "\n",
    "translate_to_japanese_chatbot = chatbot.get(\n",
    "    'Translate any input message into Japanese.',\n",
    "    by_message='Bye')"
   ]
  },
  {
   "cell_type": "code",
   "execution_count": 2,
   "id": "ebaa1afd-20c5-4328-be4d-e24abeed476a",
   "metadata": {},
   "outputs": [
    {
     "name": "stdin",
     "output_type": "stream",
     "text": [
      "User: Nice to meet you!\n"
     ]
    },
    {
     "name": "stdout",
     "output_type": "stream",
     "text": [
      "AI: はじめまして！ (Hajimemashite!)\n",
      "\n",
      "\n"
     ]
    },
    {
     "name": "stdin",
     "output_type": "stream",
     "text": [
      "User: bye\n"
     ]
    },
    {
     "name": "stdout",
     "output_type": "stream",
     "text": [
      "AI: さようなら (Sayounara)\n",
      "\n",
      "Or, more casually:\n",
      "\n",
      "*   じゃあね (Jaa ne)\n",
      "*   またね (Mata ne)\n",
      "*   バイバイ (Bai bai)\n",
      "\n",
      "\n"
     ]
    },
    {
     "name": "stdin",
     "output_type": "stream",
     "text": [
      "User: exit\n"
     ]
    },
    {
     "name": "stdout",
     "output_type": "stream",
     "text": [
      "AI: Bye!\n"
     ]
    }
   ],
   "source": [
    "translate_to_japanese_chatbot()"
   ]
  },
  {
   "cell_type": "markdown",
   "id": "71679af0-3a14-4118-8600-0f91a67576b6",
   "metadata": {},
   "source": [
    "### <b><font color='darkgreen'>Section 2: Translating to any language</font></b>\n",
    "([source](https://courses.dataschool.io/view/courses/build-ai-agents-with-python/3021202-chapter-3-building-a-translation-app/9966557-translating-to-any-language)) In this tutorial, you will add additional fields `language` to the state to define complex behavior without relying on the message list. ([details](https://langchain-ai.github.io/langgraph/tutorials/get-started/5-customize-state/))"
   ]
  },
  {
   "cell_type": "code",
   "execution_count": 10,
   "id": "9c38e8e5-a161-42fe-865e-0c973196b478",
   "metadata": {},
   "outputs": [],
   "source": [
    "from langgraph.graph import StateGraph, MessagesState, START\n",
    "from langchain_core.prompts import ChatPromptTemplate\n",
    "from langgraph.checkpoint.memory import MemorySaver\n",
    "\n",
    "\n",
    "class CustomState(MessagesState):\n",
    "    language: str\n",
    "\n",
    "\n",
    "model = chatbot.get_model()\n",
    "prompt = ChatPromptTemplate(\n",
    "    [(\"system\", \"Translate the input from English to {language}.\"),\n",
    "     (\"placeholder\", \"{messages}\")])\n",
    "chain = prompt | model"
   ]
  },
  {
   "cell_type": "code",
   "execution_count": 8,
   "id": "6349a92d-04d5-4018-8281-d947706ab519",
   "metadata": {},
   "outputs": [],
   "source": [
    "def call_model(state: CustomState, chain=chain):\n",
    "    updated_messages = chain.invoke(state)\n",
    "    return {\"messages\": updated_messages}"
   ]
  },
  {
   "cell_type": "code",
   "execution_count": 11,
   "id": "0d1b19a0-0498-4847-aa10-85a010bf7f09",
   "metadata": {},
   "outputs": [],
   "source": [
    "workflow = StateGraph(CustomState)\n",
    "workflow.add_node(\"model_node\", call_model)\n",
    "workflow.add_edge(START, \"model_node\")\n",
    "\n",
    "memory = MemorySaver()\n",
    "app = workflow.compile(memory)"
   ]
  },
  {
   "cell_type": "code",
   "execution_count": 12,
   "id": "3f70fae6-7fa2-4a69-a1d9-f7a9e3de406b",
   "metadata": {},
   "outputs": [],
   "source": [
    "def translatebot(language: str):\n",
    "    config = {\"configurable\": {\"thread_id\": 999}}\n",
    "\n",
    "    while True:\n",
    "        user_input = input(\"User:\")\n",
    "\n",
    "        if user_input in [\"exit\", \"quit\", \"bye\"]:\n",
    "            print(\"AI: See you later!\")\n",
    "            break\n",
    "        \n",
    "        else:\n",
    "            print(\"AI: \", end=\"\")\n",
    "            for chunk, metadata in app.stream({\"messages\": user_input, \"language\": language}, config, stream_mode=\"messages\"):\n",
    "                print(chunk.content, end=\"\", flush=True)\n",
    "            print(\"\\n\")"
   ]
  },
  {
   "cell_type": "code",
   "execution_count": 13,
   "id": "34ef170f-69b8-45c2-8989-482c0b237ca1",
   "metadata": {},
   "outputs": [
    {
     "name": "stdin",
     "output_type": "stream",
     "text": [
      "User: Hello\n"
     ]
    },
    {
     "name": "stdout",
     "output_type": "stream",
     "text": [
      "AI: 你好 (Nǐ hǎo)\n",
      "\n",
      "\n"
     ]
    },
    {
     "name": "stdin",
     "output_type": "stream",
     "text": [
      "User: Bye\n"
     ]
    },
    {
     "name": "stdout",
     "output_type": "stream",
     "text": [
      "AI: 再见 (Zài jiàn)\n",
      "\n",
      "\n"
     ]
    },
    {
     "name": "stdin",
     "output_type": "stream",
     "text": [
      "User: exit\n"
     ]
    },
    {
     "name": "stdout",
     "output_type": "stream",
     "text": [
      "AI: See you later!\n"
     ]
    }
   ],
   "source": [
    "translatebot('Chinese')"
   ]
  }
 ],
 "metadata": {
  "kernelspec": {
   "display_name": "Python 3 (ipykernel)",
   "language": "python",
   "name": "python3"
  },
  "language_info": {
   "codemirror_mode": {
    "name": "ipython",
    "version": 3
   },
   "file_extension": ".py",
   "mimetype": "text/x-python",
   "name": "python",
   "nbconvert_exporter": "python",
   "pygments_lexer": "ipython3",
   "version": "3.12.9"
  }
 },
 "nbformat": 4,
 "nbformat_minor": 5
}
