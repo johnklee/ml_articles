{
 "cells": [
  {
   "cell_type": "markdown",
   "id": "219225e3-e31c-4cbf-9cd8-e9aa17b4d163",
   "metadata": {},
   "source": [
    "## <b><font color='darkblue'>Answeing Question With SQL</font></b>\n",
    "([source](https://courses.dataschool.io/view/courses/build-ai-agents-with-python/3021213-chapter-6-answering-questions-with-sql/10019656-downloading-a-sample-database))\n",
    "\n",
    "![sql](images/1.jpg)"
   ]
  },
  {
   "cell_type": "code",
   "execution_count": 1,
   "id": "c00a39d1-229a-406f-b94a-74f78321211e",
   "metadata": {},
   "outputs": [],
   "source": [
    "from langchain_google_genai import ChatGoogleGenerativeAI"
   ]
  },
  {
   "cell_type": "markdown",
   "id": "064923e6-80ee-4c0d-9dda-91a4a6bb86cf",
   "metadata": {},
   "source": [
    "### <b><font color='darkgreen'>Downloading a sample database</font></b>\n",
    "([source](https://courses.dataschool.io/view/courses/build-ai-agents-with-python/3021213-chapter-6-answering-questions-with-sql/10019656-downloading-a-sample-database))\n",
    "- [**SQL Q&A tutorial** (LangChain documentation)](https://python.langchain.com/docs/tutorials/sql_qa/)\n",
    "- [**Chinook database** (GitHub)](https://github.com/lerocha/chinook-database)\n",
    "- [**Starter code for this chapter** (GitHub)](https://gist.github.com/justmarkham/7a67fc434e4dc8b9b4f9857609591086)\n",
    "\n",
    "![database](https://private-user-images.githubusercontent.com/135025/299867754-cea7a05a-5c36-40cd-84c7-488307a123f4.png?jwt=eyJhbGciOiJIUzI1NiIsInR5cCI6IkpXVCJ9.eyJpc3MiOiJnaXRodWIuY29tIiwiYXVkIjoicmF3LmdpdGh1YnVzZXJjb250ZW50LmNvbSIsImtleSI6ImtleTUiLCJleHAiOjE3NDg2OTMyMTAsIm5iZiI6MTc0ODY5MjkxMCwicGF0aCI6Ii8xMzUwMjUvMjk5ODY3NzU0LWNlYTdhMDVhLTVjMzYtNDBjZC04NGM3LTQ4ODMwN2ExMjNmNC5wbmc_WC1BbXotQWxnb3JpdGhtPUFXUzQtSE1BQy1TSEEyNTYmWC1BbXotQ3JlZGVudGlhbD1BS0lBVkNPRFlMU0E1M1BRSzRaQSUyRjIwMjUwNTMxJTJGdXMtZWFzdC0xJTJGczMlMkZhd3M0X3JlcXVlc3QmWC1BbXotRGF0ZT0yMDI1MDUzMVQxMjAxNTBaJlgtQW16LUV4cGlyZXM9MzAwJlgtQW16LVNpZ25hdHVyZT05OTY4Y2UzZDMzMGQ3OTFkNjIxMzliMzNiNTIxNTg5MWU0OTY2MDY2N2Q2NjFlNDU4YTIxZGE5OTgxMDg1N2NiJlgtQW16LVNpZ25lZEhlYWRlcnM9aG9zdCJ9.AsvjEG5HNOkRQoUpbBV5RV0mo9GdiAAJRLZBE1FkSX0)"
   ]
  },
  {
   "cell_type": "code",
   "execution_count": 2,
   "id": "4f996e68-ff17-49ab-a943-27393ef6fc37",
   "metadata": {},
   "outputs": [],
   "source": [
    "from langchain_community.utilities.sql_database import SQLDatabase\n",
    "\n",
    "db = SQLDatabase.from_uri('sqlite:///Chinook_Sqlite.sqlite')"
   ]
  },
  {
   "cell_type": "code",
   "execution_count": 3,
   "id": "516ba01b-00b7-4a2b-8e84-09c5e91a0e05",
   "metadata": {},
   "outputs": [
    {
     "data": {
      "text/plain": [
       "['Album',\n",
       " 'Artist',\n",
       " 'Customer',\n",
       " 'Employee',\n",
       " 'Genre',\n",
       " 'Invoice',\n",
       " 'InvoiceLine',\n",
       " 'MediaType',\n",
       " 'Playlist',\n",
       " 'PlaylistTrack',\n",
       " 'Track']"
      ]
     },
     "execution_count": 3,
     "metadata": {},
     "output_type": "execute_result"
    }
   ],
   "source": [
    "db.get_usable_table_names()"
   ]
  },
  {
   "cell_type": "code",
   "execution_count": 4,
   "id": "6fcdc378-585b-4101-a2e5-82a83a58da40",
   "metadata": {},
   "outputs": [
    {
     "data": {
      "text/plain": [
       "\"[(1, 'AC/DC'), (2, 'Accept'), (3, 'Aerosmith'), (4, 'Alanis Morissette'), (5, 'Alice In Chains'), (6, 'Antônio Carlos Jobim'), (7, 'Apocalyptica'), (8, 'Audioslave'), (9, 'BackBeat'), (10, 'Billy Cobham')]\""
      ]
     },
     "execution_count": 4,
     "metadata": {},
     "output_type": "execute_result"
    }
   ],
   "source": [
    "db.run('SELECT * FROM Artist LIMIT 10')"
   ]
  },
  {
   "cell_type": "markdown",
   "id": "d55e8405-aeda-44f9-ad2b-c29ab32073cd",
   "metadata": {},
   "source": [
    "### <b><font color='darkgreen'>Getting the SQL toolkit</font></b>\n",
    "([source](https://courses.dataschool.io/view/courses/build-ai-agents-with-python/3021213-chapter-6-answering-questions-with-sql/10020544-getting-the-sql-toolkit))\n",
    "- [**SQLDatabase Toolkit**: This will help you get started with the SQL Database toolkit. ](https://python.langchain.com/docs/integrations/tools/sql_database/)"
   ]
  },
  {
   "cell_type": "code",
   "execution_count": 5,
   "id": "f472cb96-b882-4ff7-89e1-2846dc11fa51",
   "metadata": {},
   "outputs": [],
   "source": [
    "from langchain_community.agent_toolkits import SQLDatabaseToolkit"
   ]
  },
  {
   "cell_type": "code",
   "execution_count": 6,
   "id": "1c277d4c-2807-47b4-bd87-a5d952a720ac",
   "metadata": {},
   "outputs": [],
   "source": [
    "sql_model = ChatGoogleGenerativeAI(\n",
    "    model='gemini-2.0-flash',\n",
    "    temperature=0,\n",
    "    max_tokens=None,\n",
    "    timeout=None,\n",
    "    max_retries=2)"
   ]
  },
  {
   "cell_type": "code",
   "execution_count": 7,
   "id": "b5f3faca-72db-4c20-b89c-447fe54b7d71",
   "metadata": {},
   "outputs": [],
   "source": [
    "toolkit = SQLDatabaseToolkit(db=db, llm=sql_model)\n",
    "tool_list = toolkit.get_tools()"
   ]
  },
  {
   "cell_type": "code",
   "execution_count": 8,
   "id": "efd68147-2160-4b83-8c62-ad70cc1c7cf4",
   "metadata": {},
   "outputs": [
    {
     "name": "stdout",
     "output_type": "stream",
     "text": [
      "sql_db_query:\n",
      "Input to this tool is a detailed and correct SQL query, output is a result from the database. If the query is not correct, an error message will be returned. If an error is returned, rewrite the query, check the query, and try again. If you encounter an issue with Unknown column 'xxxx' in 'field list', use sql_db_schema to query the correct table fields.\n",
      "\n",
      "\n",
      "sql_db_schema:\n",
      "Input to this tool is a comma-separated list of tables, output is the schema and sample rows for those tables. Be sure that the tables actually exist by calling sql_db_list_tables first! Example Input: table1, table2, table3\n",
      "\n",
      "\n",
      "sql_db_list_tables:\n",
      "Input is an empty string, output is a comma-separated list of tables in the database.\n",
      "\n",
      "\n",
      "sql_db_query_checker:\n",
      "Use this tool to double check if your query is correct before executing it. Always use this tool before executing a query with sql_db_query!\n",
      "\n",
      "\n"
     ]
    }
   ],
   "source": [
    "_ = [print(f'{tool.name}:\\n{tool.description}\\n\\n') for tool in tool_list]"
   ]
  },
  {
   "cell_type": "code",
   "execution_count": 23,
   "id": "653e0b49-6148-4a45-882e-e5e2c1f721a9",
   "metadata": {},
   "outputs": [
    {
     "data": {
      "text/plain": [
       "QuerySQLDatabaseTool(description=\"Input to this tool is a detailed and correct SQL query, output is a result from the database. If the query is not correct, an error message will be returned. If an error is returned, rewrite the query, check the query, and try again. If you encounter an issue with Unknown column 'xxxx' in 'field list', use sql_db_schema to query the correct table fields.\", db=<langchain_community.utilities.sql_database.SQLDatabase object at 0x7fa28cf11bb0>)"
      ]
     },
     "execution_count": 23,
     "metadata": {},
     "output_type": "execute_result"
    }
   ],
   "source": [
    "tool_list[0]"
   ]
  },
  {
   "cell_type": "markdown",
   "id": "961bd31a-d03b-463a-9b78-54d9680132b1",
   "metadata": {},
   "source": [
    "### <b><font color='darkgreen'>Adding the toolkit to the workflow</font></b>\n",
    "([source](https://courses.dataschool.io/view/courses/build-ai-agents-with-python/3021213-chapter-6-answering-questions-with-sql/10023180-adding-the-toolkit-to-the-workflow))\n",
    "- [**SQL agent system prompt** (LangChain Hub)](https://smith.langchain.com/hub/langchain-ai/sql-agent-system-prompt)"
   ]
  },
  {
   "cell_type": "code",
   "execution_count": 35,
   "id": "67b83d81-ff6d-4a34-aed0-695866020ba8",
   "metadata": {},
   "outputs": [],
   "source": [
    "import getpass\n",
    "import os\n",
    "from dotenv import load_dotenv\n",
    "from langchain_openai import ChatOpenAI\n",
    "from langgraph.graph import StateGraph, MessagesState, START\n",
    "from langgraph.prebuilt import ToolNode, tools_condition\n",
    "from langgraph.checkpoint.memory import MemorySaver\n",
    "from langchain_google_genai import ChatGoogleGenerativeAI\n",
    "from langchain_core.prompts import ChatPromptTemplate\n",
    "from langchain_community.agent_toolkits import SQLDatabaseToolkit\n",
    "from langchain_experimental.chat_models import Llama2Chat\n",
    "\n",
    "_ = load_dotenv()\n",
    "db = SQLDatabase.from_uri('sqlite:///Chinook_Sqlite.sqlite')\n",
    "sql_model = ChatGoogleGenerativeAI(\n",
    "    model='gemini-2.0-flash',\n",
    "    temperature=0,\n",
    "    max_tokens=None,\n",
    "    timeout=None,\n",
    "    max_retries=2)\n",
    "toolkit = SQLDatabaseToolkit(db=db, llm=sql_model)\n",
    "tool_list = toolkit.get_tools()"
   ]
  },
  {
   "cell_type": "code",
   "execution_count": 36,
   "id": "5eda45ea-82ab-4125-911a-72c3418b5ccf",
   "metadata": {},
   "outputs": [],
   "source": [
    "model_with_tools = ChatGoogleGenerativeAI(\n",
    "    model='gemini-2.5-pro-preview-03-25',\n",
    "    temperature=0,\n",
    "    max_tokens=None,\n",
    "    timeout=None,\n",
    "    max_retries=2).bind_tools(tool_list)"
   ]
  },
  {
   "cell_type": "code",
   "execution_count": 37,
   "id": "60b9380f-3f1e-4eeb-87f3-ef70365e0ff9",
   "metadata": {},
   "outputs": [],
   "source": [
    "system_sql_prompt_message_str = '''\n",
    "You are an agent designed to interact with a SQL database.\n",
    "Given an input question, create a syntactically correct SQLite query to run, then look at the results of the query and return the answer.\n",
    "Unless the user specifies a specific number of examples they wish to obtain, always limit your query to at most 5 results.\n",
    "You can order the results by a relevant column to return the most interesting examples in the database.\n",
    "Never query for all the columns from a specific table, only ask for the relevant columns given the question.\n",
    "You have access to tools for interacting with the database.\n",
    "Only use the below tools. Only use the information returned by the below tools to construct your final answer.\n",
    "You MUST double check your query before executing it. If you get an error while executing a query, rewrite the query and try again.\n",
    "DO NOT make any DML statements (INSERT, UPDATE, DELETE, DROP etc.) to the database.\n",
    "To start you should ALWAYS look at the tables in the database to see what you can query.\n",
    "Do NOT skip this step.\n",
    "Then you should compose the SQL query and call the tool `sql_db_query` to get the information and answer the questions.\n",
    "Do NOT just return the SQL string only to the user.'''"
   ]
  },
  {
   "cell_type": "code",
   "execution_count": 38,
   "id": "12a7ec33-87b7-44bf-beb2-1d703377bf5c",
   "metadata": {},
   "outputs": [],
   "source": [
    "prompt = ChatPromptTemplate([\n",
    "    ('system', system_sql_prompt_message_str),\n",
    "    ('human', '{messages}'),\n",
    "])"
   ]
  },
  {
   "cell_type": "code",
   "execution_count": 26,
   "id": "08fa6ef7-e9a8-41ab-b9d1-087b7959672c",
   "metadata": {},
   "outputs": [
    {
     "data": {
      "text/plain": [
       "ChatPromptValue(messages=[SystemMessage(content='\\nYou are an agent designed to interact with a SQL database.\\nGiven an input question, create a syntactically correct SQLite query to run, then look at the results of the query and return the answer.\\nUnless the user specifies a specific number of examples they wish to obtain, always limit your query to at most 5 results.\\nYou can order the results by a relevant column to return the most interesting examples in the database.\\nNever query for all the columns from a specific table, only ask for the relevant columns given the question.\\nYou have access to tools for interacting with the database.\\nOnly use the below tools. Only use the information returned by the below tools to construct your final answer.\\nYou MUST double check your query before executing it. If you get an error while executing a query, rewrite the query and try again.\\nDO NOT make any DML statements (INSERT, UPDATE, DELETE, DROP etc.) to the database.\\nTo start you should ALWAYS look at the tables in the database to see what you can query.\\nDo NOT skip this step.\\nThen you should compose the SQL query and call the tool `sql_db_query` to get the information and answer the questions.\\nDo NOT just return the SQL string only to the user.', additional_kwargs={}, response_metadata={}), HumanMessage(content=\"[{'messages': 'test'}]\", additional_kwargs={}, response_metadata={})])"
      ]
     },
     "execution_count": 26,
     "metadata": {},
     "output_type": "execute_result"
    }
   ],
   "source": [
    "prompt.invoke([{'messages': 'test'}])"
   ]
  },
  {
   "cell_type": "code",
   "execution_count": 39,
   "id": "0439daf1-0f6e-4998-800d-3e8c0eeb9e83",
   "metadata": {},
   "outputs": [],
   "source": [
    "chain = prompt | model_with_tools"
   ]
  },
  {
   "cell_type": "code",
   "execution_count": 40,
   "id": "e11f9f87-718d-46b5-8d76-2c3e66791df2",
   "metadata": {},
   "outputs": [],
   "source": [
    "call_tool = ToolNode(tool_list)"
   ]
  },
  {
   "cell_type": "code",
   "execution_count": 41,
   "id": "d249b1a1-e577-41dc-b993-500c2e9795de",
   "metadata": {},
   "outputs": [],
   "source": [
    "def call_model(state: MessagesState, chain=chain):\n",
    "    updated_messages = chain.invoke(state[\"messages\"])\n",
    "    return {\"messages\": updated_messages}"
   ]
  },
  {
   "cell_type": "code",
   "execution_count": 42,
   "id": "9776b215-3cc0-43bc-8cba-080132a4bd7e",
   "metadata": {},
   "outputs": [],
   "source": [
    "workflow = StateGraph(MessagesState)\n",
    "workflow.add_node(\"model_node\", call_model)\n",
    "workflow.add_node(\"tools\", call_tool)\n",
    "workflow.add_edge(START, \"model_node\")\n",
    "workflow.add_conditional_edges(\"model_node\", tools_condition)\n",
    "workflow.add_edge(\"tools\", \"model_node\")\n",
    "\n",
    "memory = MemorySaver()\n",
    "app = workflow.compile(memory)"
   ]
  },
  {
   "cell_type": "code",
   "execution_count": 43,
   "id": "d37f24a1-7396-4aea-a008-e76315dfdf99",
   "metadata": {},
   "outputs": [],
   "source": [
    "def examine_chatbot(chat_id: int=123, app=app):\n",
    "    config = {\"configurable\": {\"thread_id\": chat_id}}\n",
    "\n",
    "    while True:\n",
    "        user_input = input(\"User:\")\n",
    "\n",
    "        if user_input in [\"exit\", \"quit\"]:\n",
    "            print(\"AI: See you later!\")\n",
    "            break\n",
    "        \n",
    "        else:\n",
    "            print(\"AI: \", end=\"\")\n",
    "            for state in app.stream({\"messages\": user_input}, config, stream_mode=\"values\"):\n",
    "                message = state['messages'][-1]\n",
    "                message.pretty_print()\n",
    "            print(\"\\n\")"
   ]
  },
  {
   "cell_type": "code",
   "execution_count": 44,
   "id": "d7618bda-345f-4760-88eb-aaadccfd9f18",
   "metadata": {},
   "outputs": [
    {
     "name": "stdin",
     "output_type": "stream",
     "text": [
      "User: Which country's customers spent the most?\n"
     ]
    },
    {
     "name": "stdout",
     "output_type": "stream",
     "text": [
      "AI: ================================\u001b[1m Human Message \u001b[0m=================================\n",
      "\n",
      "Which country's customers spent the most?\n",
      "==================================\u001b[1m Ai Message \u001b[0m==================================\n",
      "Tool Calls:\n",
      "  sql_db_list_tables (d10d0076-09a7-45aa-bc2f-d64548444d20)\n",
      " Call ID: d10d0076-09a7-45aa-bc2f-d64548444d20\n",
      "  Args:\n",
      "=================================\u001b[1m Tool Message \u001b[0m=================================\n",
      "Name: sql_db_list_tables\n",
      "\n",
      "Album, Artist, Customer, Employee, Genre, Invoice, InvoiceLine, MediaType, Playlist, PlaylistTrack, Track\n",
      "==================================\u001b[1m Ai Message \u001b[0m==================================\n",
      "Tool Calls:\n",
      "  sql_db_schema (4833a69b-a7d5-4dcd-b557-a3dcd123f2df)\n",
      " Call ID: 4833a69b-a7d5-4dcd-b557-a3dcd123f2df\n",
      "  Args:\n",
      "    table_names: Customer, Invoice\n",
      "=================================\u001b[1m Tool Message \u001b[0m=================================\n",
      "Name: sql_db_schema\n",
      "\n",
      "\n",
      "CREATE TABLE \"Customer\" (\n",
      "\t\"CustomerId\" INTEGER NOT NULL, \n",
      "\t\"FirstName\" NVARCHAR(40) NOT NULL, \n",
      "\t\"LastName\" NVARCHAR(20) NOT NULL, \n",
      "\t\"Company\" NVARCHAR(80), \n",
      "\t\"Address\" NVARCHAR(70), \n",
      "\t\"City\" NVARCHAR(40), \n",
      "\t\"State\" NVARCHAR(40), \n",
      "\t\"Country\" NVARCHAR(40), \n",
      "\t\"PostalCode\" NVARCHAR(10), \n",
      "\t\"Phone\" NVARCHAR(24), \n",
      "\t\"Fax\" NVARCHAR(24), \n",
      "\t\"Email\" NVARCHAR(60) NOT NULL, \n",
      "\t\"SupportRepId\" INTEGER, \n",
      "\tPRIMARY KEY (\"CustomerId\"), \n",
      "\tFOREIGN KEY(\"SupportRepId\") REFERENCES \"Employee\" (\"EmployeeId\")\n",
      ")\n",
      "\n",
      "/*\n",
      "3 rows from Customer table:\n",
      "CustomerId\tFirstName\tLastName\tCompany\tAddress\tCity\tState\tCountry\tPostalCode\tPhone\tFax\tEmail\tSupportRepId\n",
      "1\tLuís\tGonçalves\tEmbraer - Empresa Brasileira de Aeronáutica S.A.\tAv. Brigadeiro Faria Lima, 2170\tSão José dos Campos\tSP\tBrazil\t12227-000\t+55 (12) 3923-5555\t+55 (12) 3923-5566\tluisg@embraer.com.br\t3\n",
      "2\tLeonie\tKöhler\tNone\tTheodor-Heuss-Straße 34\tStuttgart\tNone\tGermany\t70174\t+49 0711 2842222\tNone\tleonekohler@surfeu.de\t5\n",
      "3\tFrançois\tTremblay\tNone\t1498 rue Bélanger\tMontréal\tQC\tCanada\tH2G 1A7\t+1 (514) 721-4711\tNone\tftremblay@gmail.com\t3\n",
      "*/\n",
      "\n",
      "\n",
      "CREATE TABLE \"Invoice\" (\n",
      "\t\"InvoiceId\" INTEGER NOT NULL, \n",
      "\t\"CustomerId\" INTEGER NOT NULL, \n",
      "\t\"InvoiceDate\" DATETIME NOT NULL, \n",
      "\t\"BillingAddress\" NVARCHAR(70), \n",
      "\t\"BillingCity\" NVARCHAR(40), \n",
      "\t\"BillingState\" NVARCHAR(40), \n",
      "\t\"BillingCountry\" NVARCHAR(40), \n",
      "\t\"BillingPostalCode\" NVARCHAR(10), \n",
      "\t\"Total\" NUMERIC(10, 2) NOT NULL, \n",
      "\tPRIMARY KEY (\"InvoiceId\"), \n",
      "\tFOREIGN KEY(\"CustomerId\") REFERENCES \"Customer\" (\"CustomerId\")\n",
      ")\n",
      "\n",
      "/*\n",
      "3 rows from Invoice table:\n",
      "InvoiceId\tCustomerId\tInvoiceDate\tBillingAddress\tBillingCity\tBillingState\tBillingCountry\tBillingPostalCode\tTotal\n",
      "1\t2\t2009-01-01 00:00:00\tTheodor-Heuss-Straße 34\tStuttgart\tNone\tGermany\t70174\t1.98\n",
      "2\t4\t2009-01-02 00:00:00\tUllevålsveien 14\tOslo\tNone\tNorway\t0171\t3.96\n",
      "3\t8\t2009-01-03 00:00:00\tGrétrystraat 63\tBrussels\tNone\tBelgium\t1000\t5.94\n",
      "*/\n",
      "==================================\u001b[1m Ai Message \u001b[0m==================================\n",
      "Tool Calls:\n",
      "  sql_db_query_checker (60b612a2-09fc-4130-be24-e5f2f3e8caef)\n",
      " Call ID: 60b612a2-09fc-4130-be24-e5f2f3e8caef\n",
      "  Args:\n",
      "    query: SELECT T1.Country, SUM(T2.Total) AS TotalSpending FROM Customer AS T1 INNER JOIN Invoice AS T2 ON T1.CustomerId = T2.CustomerId GROUP BY T1.Country ORDER BY TotalSpending DESC LIMIT 1\n",
      "=================================\u001b[1m Tool Message \u001b[0m=================================\n",
      "Name: sql_db_query_checker\n",
      "\n",
      "```sql\n",
      "SELECT T1.Country, SUM(T2.Total) AS TotalSpending FROM Customer AS T1 INNER JOIN Invoice AS T2 ON T1.CustomerId = T2.CustomerId GROUP BY T1.Country ORDER BY TotalSpending DESC LIMIT 1\n",
      "```\n",
      "==================================\u001b[1m Ai Message \u001b[0m==================================\n",
      "Tool Calls:\n",
      "  sql_db_query (2755cb60-5ac7-45b0-8210-575f204c7f46)\n",
      " Call ID: 2755cb60-5ac7-45b0-8210-575f204c7f46\n",
      "  Args:\n",
      "    query: SELECT T1.Country, SUM(T2.Total) AS TotalSpending FROM Customer AS T1 INNER JOIN Invoice AS T2 ON T1.CustomerId = T2.CustomerId GROUP BY T1.Country ORDER BY TotalSpending DESC LIMIT 1\n",
      "=================================\u001b[1m Tool Message \u001b[0m=================================\n",
      "Name: sql_db_query\n",
      "\n",
      "[('USA', 523.06)]\n",
      "==================================\u001b[1m Ai Message \u001b[0m==================================\n",
      "\n",
      "The customers from the USA spent the most, with a total of $523.06.\n",
      "\n",
      "\n"
     ]
    },
    {
     "name": "stdin",
     "output_type": "stream",
     "text": [
      "User: exit\n"
     ]
    },
    {
     "name": "stdout",
     "output_type": "stream",
     "text": [
      "AI: See you later!\n"
     ]
    }
   ],
   "source": [
    "# Which country's customers spent the most?\n",
    "examine_chatbot()"
   ]
  },
  {
   "cell_type": "code",
   "execution_count": 33,
   "id": "7e7ec440-d2c9-4461-a94e-2ec118873639",
   "metadata": {},
   "outputs": [
    {
     "data": {
      "text/plain": [
       "\"[('USA', 523.06), ('Canada', 303.96), ('France', 195.1), ('Brazil', 190.1), ('Germany', 156.48)]\""
      ]
     },
     "execution_count": 33,
     "metadata": {},
     "output_type": "execute_result"
    }
   ],
   "source": [
    "db.run('''SELECT\n",
    "  c.Country,\n",
    "  SUM(i.Total) AS TotalSpent\n",
    "FROM Customer AS c\n",
    "JOIN Invoice AS i\n",
    "  ON c.CustomerId = i.CustomerId\n",
    "GROUP BY\n",
    "  c.Country\n",
    "ORDER BY\n",
    "  TotalSpent DESC\n",
    "LIMIT 5;''')"
   ]
  },
  {
   "cell_type": "markdown",
   "id": "da66939d-7bf8-4aa9-8933-5b5c25e81b44",
   "metadata": {},
   "source": [
    "### <b><font color='darkgreen'>Updating the chatbot</font></b>\n",
    "([source](https://courses.dataschool.io/view/courses/build-ai-agents-with-python/3021213-chapter-6-answering-questions-with-sql/10023733-updating-the-chatbot))\n",
    "- [**Conclusion code for this chapter** (GitHub)](https://gist.github.com/justmarkham/69732803e77346b761da5b389d6447b5)"
   ]
  }
 ],
 "metadata": {
  "kernelspec": {
   "display_name": "Python 3 (ipykernel)",
   "language": "python",
   "name": "python3"
  },
  "language_info": {
   "codemirror_mode": {
    "name": "ipython",
    "version": 3
   },
   "file_extension": ".py",
   "mimetype": "text/x-python",
   "name": "python",
   "nbconvert_exporter": "python",
   "pygments_lexer": "ipython3",
   "version": "3.12.9"
  }
 },
 "nbformat": 4,
 "nbformat_minor": 5
}
