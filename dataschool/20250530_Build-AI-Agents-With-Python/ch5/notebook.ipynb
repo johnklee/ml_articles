{
 "cells": [
  {
   "cell_type": "markdown",
   "id": "85eaa080-4933-4d72-ad99-8e7ad0158c40",
   "metadata": {},
   "source": [
    "## <b><font color='darkblue'>Adding custom data with RAG</font></b>\n",
    "([source](https://courses.dataschool.io/view/courses/build-ai-agents-with-python/3021206-chapter-5-adding-custom-data-with-rag/9982602-introducing-retrieval-augmented-generation-rag))"
   ]
  },
  {
   "cell_type": "markdown",
   "id": "6eef224b-6a38-4c36-b1e5-25f81e655fa8",
   "metadata": {},
   "source": [
    "### <b><font color='darkgreen'>Section: Introducing Retrieval Augmented Generation (RAG)</font></b>\n",
    "([source](https://courses.dataschool.io/view/courses/build-ai-agents-with-python/3021206-chapter-5-adding-custom-data-with-rag/9982602-introducing-retrieval-augmented-generation-rag))\n",
    "- [**RAG tutorial** (LangChain documentation)](https://python.langchain.com/docs/tutorials/rag/)"
   ]
  },
  {
   "cell_type": "markdown",
   "id": "7df4f3c4-3c27-4d0d-835c-c15a86a4fad3",
   "metadata": {},
   "source": [
    "### <b><font color='darkgreen'>Section: Loading documents</font></b>\n",
    "([source](https://courses.dataschool.io/view/courses/build-ai-agents-with-python/3021206-chapter-5-adding-custom-data-with-rag/10012919-loading-documents))\n",
    "* [**RAG tutorial** (LangChain documentation)](https://python.langchain.com/docs/tutorials/rag/)\n",
    "* [**Document loaders** (LangChain documentation)](https://python.langchain.com/docs/integrations/document_loaders/)"
   ]
  },
  {
   "cell_type": "code",
   "execution_count": 63,
   "id": "162a16e4-2e4c-40f6-b858-d791dffc1523",
   "metadata": {},
   "outputs": [],
   "source": [
    "from langchain_community.document_loaders import WebBaseLoader\n",
    "\n",
    "PYTHON3_14_WHAT_NEW_URL = 'https://docs.python.org/3.15/whatsnew/3.14.html'\n",
    "loader = WebBaseLoader(PYTHON3_14_WHAT_NEW_URL)"
   ]
  },
  {
   "cell_type": "code",
   "execution_count": 7,
   "id": "8d26c8b7-60e3-498a-a191-5b4648130292",
   "metadata": {},
   "outputs": [],
   "source": [
    "docs = loader.load()"
   ]
  },
  {
   "cell_type": "code",
   "execution_count": 8,
   "id": "d357ae13-3a4f-41e5-9b42-ac8bfa47eda4",
   "metadata": {},
   "outputs": [
    {
     "data": {
      "text/plain": [
       "1"
      ]
     },
     "execution_count": 8,
     "metadata": {},
     "output_type": "execute_result"
    }
   ],
   "source": [
    "len(docs)"
   ]
  },
  {
   "cell_type": "code",
   "execution_count": 9,
   "id": "18acea78-172b-4ac0-ab84-77c5b94bffb4",
   "metadata": {},
   "outputs": [
    {
     "data": {
      "text/plain": [
       "{'source': 'https://docs.python.org/3.15/whatsnew/3.14.html',\n",
       " 'title': 'What’s new in Python 3.14 — Python 3.15.0a0 documentation',\n",
       " 'description': 'Editor, Hugo van Kemenade,. This article explains the new features in Python 3.14, compared to 3.13. For full details, see the changelog. Summary – release highlights: Python 3.14 beta is the pre-r...',\n",
       " 'language': 'en'}"
      ]
     },
     "execution_count": 9,
     "metadata": {},
     "output_type": "execute_result"
    }
   ],
   "source": [
    "docs[0].metadata"
   ]
  },
  {
   "cell_type": "code",
   "execution_count": 10,
   "id": "1a9f634c-67f1-42bf-873d-e7d168cd0dc5",
   "metadata": {},
   "outputs": [
    {
     "data": {
      "text/plain": [
       "111637"
      ]
     },
     "execution_count": 10,
     "metadata": {},
     "output_type": "execute_result"
    }
   ],
   "source": [
    "len(docs[0].page_content)"
   ]
  },
  {
   "cell_type": "code",
   "execution_count": 13,
   "id": "a30d87e1-94cd-4ec3-a5ff-457641fae531",
   "metadata": {},
   "outputs": [
    {
     "name": "stdout",
     "output_type": "stream",
     "text": [
      "What’s new in Python 3.14 — Python 3.15.0a0 documentation\n",
      "    Theme\n",
      "    \n",
      "Auto\n",
      "Light\n",
      "Dark\n",
      "Table of Contents\n",
      "What’s new in Python 3.14\n",
      "Summary – release highlights\n",
      "Incompatible changes\n",
      "New features\n",
      "PEP 750: Template strings\n",
      "PEP 768: Safe external debugger interface for CPython\n",
      "PEP 784: Adding Zstandard to the standard library\n",
      "Remote attaching to a running Python process with PDB\n",
      "PEP 758 – Allow except and except* expressions w\n"
     ]
    }
   ],
   "source": [
    "print('\\n'.join([line for line in docs[0].page_content[:500].strip().split('\\n') if line]))"
   ]
  },
  {
   "cell_type": "markdown",
   "id": "779ab338-4ec0-4804-8669-0f88e4e442ce",
   "metadata": {},
   "source": [
    "### <b><font color='darkgreen'>Section: Splitting documents into chunks</font></b>\n",
    "([source](https://courses.dataschool.io/view/courses/build-ai-agents-with-python/3021206-chapter-5-adding-custom-data-with-rag/10014069-splitting-documents-into-chunks))\n",
    "* [**LangChain TextSplitter**: Text splitters split documents into smaller chunks for use in downstream applications.](https://python.langchain.com/docs/concepts/text_splitters/)"
   ]
  },
  {
   "cell_type": "code",
   "execution_count": 15,
   "id": "41e2ae46-d038-425f-96fd-cc820cbfcc22",
   "metadata": {},
   "outputs": [],
   "source": [
    "from langchain_text_splitters import RecursiveCharacterTextSplitter\n",
    "\n",
    "text_splitter = RecursiveCharacterTextSplitter(chunk_size=1000, chunk_overlap=200)"
   ]
  },
  {
   "cell_type": "code",
   "execution_count": 46,
   "id": "11b125d1-a895-47ab-b76e-276eff8163ed",
   "metadata": {},
   "outputs": [],
   "source": [
    "chunks = text_splitter.split_documents(docs)"
   ]
  },
  {
   "cell_type": "code",
   "execution_count": 47,
   "id": "d25f7e65-647b-45f2-aaf5-0a0f305ec7dd",
   "metadata": {},
   "outputs": [
    {
     "data": {
      "text/plain": [
       "157"
      ]
     },
     "execution_count": 47,
     "metadata": {},
     "output_type": "execute_result"
    }
   ],
   "source": [
    "len(chunks)"
   ]
  },
  {
   "cell_type": "code",
   "execution_count": 49,
   "id": "2a8891da-19eb-4422-8d3e-edd33f08202e",
   "metadata": {},
   "outputs": [
    {
     "name": "stdout",
     "output_type": "stream",
     "text": [
      "991\n",
      "me\n",
      "    \n",
      "Auto\n",
      "Light\n",
      "Dark\n",
      "\n",
      " |\n",
      "\n",
      "\n",
      "\n",
      "\n",
      "\n",
      "\n",
      "\n",
      "What’s new in Python 3.14¶\n",
      "\n",
      "Editor:\n",
      "Hugo van Kemenade\n",
      "\n",
      "\n",
      "This article explains the new features in Python 3.14, compared to 3.13.\n",
      "For full details, see the changelog.\n"
     ]
    }
   ],
   "source": [
    "print(len(chunks[2].page_content))\n",
    "print(chunks[2].page_content[-200:])"
   ]
  },
  {
   "cell_type": "code",
   "execution_count": 50,
   "id": "bf76960e-fa55-46f7-9dda-da366d7dc469",
   "metadata": {},
   "outputs": [
    {
     "name": "stdout",
     "output_type": "stream",
     "text": [
      "|\n",
      "\n",
      "\n",
      "\n",
      "\n",
      "\n",
      "\n",
      "\n",
      "What’s new in Python 3.14¶\n",
      "\n",
      "Editor:\n",
      "Hugo van Kemenade\n",
      "\n",
      "\n",
      "This article explains the new features in Python 3.14, compared to 3.13.\n",
      "For full details, see the changelog.\n",
      "\n",
      "See also\n",
      "PEP 745 – Pytho\n"
     ]
    }
   ],
   "source": [
    "print(chunks[3].page_content[:200])"
   ]
  },
  {
   "cell_type": "markdown",
   "id": "c0bb0048-011e-43d7-b455-b72b42e1ff99",
   "metadata": {},
   "source": [
    "### <b><font color='darkgreen'>Section: Creating a vector store</font></b>\n",
    "([source](https://courses.dataschool.io/view/courses/build-ai-agents-with-python/3021206-chapter-5-adding-custom-data-with-rag/10014349-creating-a-vector-store))\n",
    "- [**RAG tutorial** (LangChain documentation)](https://python.langchain.com/docs/tutorials/rag/)\n",
    "- [**Gemini Embedding API**](https://ai.google.dev/gemini-api/docs/embeddings)\n",
    "- [**Langchain API - Google Generative AI Embeddings** (AI Studio & Gemini API)](https://python.langchain.com/docs/integrations/text_embedding/google_generative_ai/)\n",
    "- [**Gemini embedding model list**](https://ai.google.dev/gemini-api/docs/models#text-embedding)\n",
    "- [**Embeddings: What they are and why they matter** (Simon Willison's weblog)](https://simonwillison.net/2023/Oct/23/embeddings/)\n",
    "- [**Embedding models conceptual guide** (LangChain documentation)](https://python.langchain.com/docs/concepts/embedding_models/)\n",
    "- [**Embedding models** (LangChain documentation)](https://python.langchain.com/docs/integrations/text_embedding/)\n",
    "- [**OpenAI API pricing for embeddings**](https://platform.openai.com/docs/pricing#embeddings)\n",
    "- [**Vector stores** (LangChain documentation)](https://python.langchain.com/docs/integrations/vectorstores/)"
   ]
  },
  {
   "cell_type": "code",
   "execution_count": 66,
   "id": "e20a3ee8-ce61-476f-a950-a5b3940465b0",
   "metadata": {},
   "outputs": [],
   "source": [
    "from langchain_google_genai import GoogleGenerativeAIEmbeddings\n",
    "\n",
    "embeddings = GoogleGenerativeAIEmbeddings(model=\"models/text-embedding-004\")"
   ]
  },
  {
   "cell_type": "code",
   "execution_count": 67,
   "id": "c3d50eaa-d725-44d0-8c55-53fdc586fb0b",
   "metadata": {},
   "outputs": [],
   "source": [
    "vector = embeddings.embed_query(\"hello, world!\")"
   ]
  },
  {
   "cell_type": "code",
   "execution_count": 41,
   "id": "3624ac03-814b-434a-b7e9-0ad6ebd8e64b",
   "metadata": {},
   "outputs": [
    {
     "data": {
      "text/plain": [
       "768"
      ]
     },
     "execution_count": 41,
     "metadata": {},
     "output_type": "execute_result"
    }
   ],
   "source": [
    "len(vector)"
   ]
  },
  {
   "cell_type": "code",
   "execution_count": 51,
   "id": "ace58e0b-530e-4803-8a4f-9d5583d2ac9d",
   "metadata": {},
   "outputs": [],
   "source": [
    "from langchain_core.vectorstores import InMemoryVectorStore\n",
    "\n",
    "vector_score = InMemoryVectorStore.from_documents(chunks, embeddings)"
   ]
  },
  {
   "cell_type": "markdown",
   "id": "d01605b7-da23-4ea2-b4ac-94c13ee94f6b",
   "metadata": {},
   "source": [
    "### <b><font color='darkgreen'>Section: Retrieving relevant documents</font></b>\n",
    "([source](https://courses.dataschool.io/view/courses/build-ai-agents-with-python/3021206-chapter-5-adding-custom-data-with-rag/10018497-retrieving-relevant-documents))"
   ]
  },
  {
   "cell_type": "code",
   "execution_count": 52,
   "id": "bd17c66b-b2f1-42f9-9090-7845fc61041b",
   "metadata": {},
   "outputs": [],
   "source": [
    "retriever = vector_score.as_retriever()"
   ]
  },
  {
   "cell_type": "code",
   "execution_count": 54,
   "id": "601fa716-270c-49dc-b11f-16156f2719ef",
   "metadata": {},
   "outputs": [],
   "source": [
    "results = retriever.invoke('mimetypes')"
   ]
  },
  {
   "cell_type": "code",
   "execution_count": 55,
   "id": "3b6edff6-b0cf-4f23-9ea7-6f9aa2683fd1",
   "metadata": {},
   "outputs": [
    {
     "data": {
      "text/plain": [
       "4"
      ]
     },
     "execution_count": 55,
     "metadata": {},
     "output_type": "execute_result"
    }
   ],
   "source": [
    "len(results)"
   ]
  },
  {
   "cell_type": "code",
   "execution_count": 58,
   "id": "4d21256e-24b7-43fa-8b4b-cf65857903d3",
   "metadata": {},
   "outputs": [
    {
     "name": "stdout",
     "output_type": "stream",
     "text": [
      "(Contributed by Hugo van Kemenade in gh-85957.)\n",
      "\n",
      "More MIME type changes:\n",
      "\n",
      "RFC 2361: Change type for .avi to video/vnd.avi\n",
      "and for .wav to audio/vnd.wave\n",
      "RFC 4337: Add MPEG-4 audio/mp4 (.m4a)\n",
      "RFC 5334: Add Ogg media (.oga, .ogg and .ogx)\n",
      "RFC 6713: Add gzip application/gzip (.gz)\n",
      "RFC 9639: Add FLAC audio/flac (.flac)\n",
      "Add 7z application/x-7z-compressed (.7z)\n",
      "Add Android Package application/vnd.android.package-archive (.apk)\n",
      "when not strict\n",
      "Add deb application/x-debian-package (.deb)\n",
      "Add glTF binary model/gltf-binary (.glb)\n",
      "Add glTF JSON/ASCII model/gltf+json (.gltf)\n",
      "Add M4V video/x-m4v (.m4v)\n",
      "Add PHP application/x-httpd-php (.php)\n",
      "Add RAR application/vnd.rar (.rar)\n",
      "Add RPM application/x-rpm (.rpm)\n",
      "Add STL model/stl (.stl)\n",
      "Add Windows Media Video video/x-ms-wmv (.wmv)\n",
      "De facto: Add WebM audio/webm (.weba)\n",
      "ECMA-376:\n",
      "Add .docx, .pptx and .xlsx types\n",
      "OASIS:\n",
      "Add OpenDocument .odg, .odp, .ods and .odt types\n",
      "W3C:\n",
      "Add EPUB application/epub+zip (.epub)\n",
      "\n",
      "--------------------\n",
      "Embedded OpenType: application/vnd.ms-fontobject\n",
      "OpenType Layout (OTF) font/otf\n",
      "TrueType: font/ttf\n",
      "WOFF 1.0 font/woff\n",
      "WOFF 2.0 font/woff2\n",
      "\n",
      "(Contributed by Sahil Prajapati and Hugo van Kemenade in gh-84852.)\n",
      "\n",
      "Add RFC 9559 MIME types for Matroska audiovisual data container\n",
      "structures, containing:\n",
      "\n",
      "audio with no video: audio/matroska (.mka)\n",
      "video: video/matroska (.mkv)\n",
      "stereoscopic video: video/matroska-3d (.mk3d)\n",
      "\n",
      "(Contributed by Hugo van Kemenade in gh-89416.)\n",
      "\n",
      "Add MIME types for images with RFCs:\n",
      "\n",
      "RFC 1494: CCITT Group 3 (.g3)\n",
      "RFC 3362: Real-time Facsimile, T.38 (.t38)\n",
      "RFC 3745: JPEG 2000 (.jp2), extension (.jpx) and compound (.jpm)\n",
      "RFC 3950: Tag Image File Format Fax eXtended, TIFF-FX (.tfx)\n",
      "RFC 4047: Flexible Image Transport System (.fits)\n",
      "RFC 7903: Enhanced Metafile (.emf) and Windows Metafile (.wmf)\n",
      "\n",
      "(Contributed by Hugo van Kemenade in gh-85957.)\n",
      "\n",
      "More MIME type changes:\n",
      "\n",
      "--------------------\n",
      "mimetypes:\n",
      "\n",
      "Valid extensions start with a ‘.’ or are empty for\n",
      "mimetypes.MimeTypes.add_type().\n",
      "Undotted extensions are deprecated and will\n",
      "raise a ValueError in Python 3.16.\n",
      "(Contributed by Hugo van Kemenade in gh-75223.)\n",
      "\n",
      "\n",
      "shutil:\n",
      "\n",
      "The ExecError exception\n",
      "has been deprecated since Python 3.14.\n",
      "It has not been used by any function in shutil since Python 3.4,\n",
      "and is now an alias of RuntimeError.\n",
      "\n",
      "\n",
      "symtable:\n",
      "\n",
      "The Class.get_methods method\n",
      "has been deprecated since Python 3.14.\n",
      "\n",
      "\n",
      "sys:\n",
      "\n",
      "The _enablelegacywindowsfsencoding() function\n",
      "has been deprecated since Python 3.13.\n",
      "Use the PYTHONLEGACYWINDOWSFSENCODING environment variable instead.\n",
      "\n",
      "\n",
      "sysconfig:\n",
      "\n",
      "The sysconfig.expand_makefile_vars() function\n",
      "has been deprecated since Python 3.14.\n",
      "Use the vars argument of sysconfig.get_paths() instead.\n",
      "\n",
      "\n",
      "tarfile:\n",
      "\n",
      "The undocumented and unused TarFile.tarfile attribute\n",
      "has been deprecated since Python 3.13.\n",
      "\n",
      "\n",
      "\n",
      "\n",
      "\n",
      "Pending removal in Python 3.17¶\n",
      "\n",
      "typing:\n",
      "\n",
      "--------------------\n",
      "linecache¶\n",
      "\n",
      "linecache.getline() can retrieve source code for frozen modules.\n",
      "(Contributed by Tian Gao in gh-131638.)\n",
      "\n",
      "\n",
      "\n",
      "logging.handlers¶\n",
      "\n",
      "logging.handlers.QueueListener now implements the context\n",
      "manager protocol, allowing it to be used in a with statement.\n",
      "(Contributed by Charles Machalow in gh-132106.)\n",
      "QueueListener.start now\n",
      "raises a RuntimeError if the listener is already started.\n",
      "(Contributed by Charles Machalow in gh-132106.)\n",
      "\n",
      "\n",
      "\n",
      "math¶\n",
      "\n",
      "Added more detailed error messages for domain errors in the module.\n",
      "(Contributed by by Charlie Zhao and Sergey B Kirpichev in gh-101410.)\n",
      "\n",
      "\n",
      "\n",
      "mimetypes¶\n",
      "\n",
      "Document the command-line for mimetypes.\n",
      "It now exits with 1 on failure instead of 0\n",
      "and 2 on incorrect command-line parameters instead of 1.\n",
      "Also, errors are printed to stderr instead of stdout and their text is made\n",
      "tighter.\n",
      "(Contributed by Oleg Iarygin and Hugo van Kemenade in gh-93096.)\n",
      "Add MS and RFC 8081 MIME types for fonts:\n",
      "\n",
      "--------------------\n"
     ]
    }
   ],
   "source": [
    "for result in results:\n",
    "    print(result.page_content + '\\n')\n",
    "    print('-' * 20)"
   ]
  },
  {
   "cell_type": "markdown",
   "id": "75472383-2ffc-4e7f-a5e4-206ef6096b53",
   "metadata": {},
   "source": [
    "### <b><font color='darkgreen'>Section: Creating a retriever tool</font></b>\n",
    "([source](https://courses.dataschool.io/view/courses/build-ai-agents-with-python/3021206-chapter-5-adding-custom-data-with-rag/10018569-creating-a-retriever-tool))"
   ]
  },
  {
   "cell_type": "code",
   "execution_count": 61,
   "id": "c46080a7-1163-45b1-889b-5bc92afa04c7",
   "metadata": {},
   "outputs": [],
   "source": [
    "from langchain.tools.retriever import create_retriever_tool\n",
    "\n",
    "python_kb_retriever_tool = create_retriever_tool(\n",
    "    retriever,\n",
    "    'python_3_14_update_retriever',\n",
    "    'A retriever that returns relevant documents from the What\\'s New page of the Python 3.14 documentation. '\n",
    "    'Useful when you need to answer questions about the features, enhancements, removals, deprecations, and '\n",
    "    'other changes introduced in this version of Python.')"
   ]
  },
  {
   "cell_type": "markdown",
   "id": "dea491ad-3828-4449-8651-22b88adc26d1",
   "metadata": {},
   "source": [
    "### <b><font color='darkgreen'>Section: Adding RAG to the workflow and show the result</font></b>\n",
    "([source1](https://courses.dataschool.io/view/courses/build-ai-agents-with-python/3021206-chapter-5-adding-custom-data-with-rag/10018828-adding-rag-to-the-workflow), [source2](https://courses.dataschool.io/view/courses/build-ai-agents-with-python/3021206-chapter-5-adding-custom-data-with-rag/10019063-showing-the-retriever))"
   ]
  },
  {
   "cell_type": "code",
   "execution_count": 70,
   "id": "e636189a-b71b-4f9d-890b-3c6ba7343085",
   "metadata": {},
   "outputs": [],
   "source": [
    "from dotenv import load_dotenv\n",
    "from langchain_openai import ChatOpenAI, OpenAIEmbeddings\n",
    "from langgraph.graph import StateGraph, MessagesState, START\n",
    "from langgraph.checkpoint.memory import MemorySaver\n",
    "from langchain_community.tools.tavily_search import TavilySearchResults\n",
    "from langgraph.prebuilt import ToolNode, tools_condition\n",
    "from langchain_community.document_loaders import WebBaseLoader\n",
    "from langchain_text_splitters import RecursiveCharacterTextSplitter\n",
    "from langchain_core.vectorstores import InMemoryVectorStore\n",
    "from langchain.tools.retriever import create_retriever_tool\n",
    "from langchain_google_genai import GoogleGenerativeAIEmbeddings\n",
    "from langchain_google_genai import ChatGoogleGenerativeAI\n",
    "\n",
    "load_dotenv()\n",
    "\n",
    "PYTHON3_14_WHAT_NEW_URL = 'https://docs.python.org/3.15/whatsnew/3.14.html'\n",
    "loader = WebBaseLoader(PYTHON3_14_WHAT_NEW_URL)\n",
    "docs = loader.load()\n",
    "\n",
    "text_splitter = RecursiveCharacterTextSplitter(chunk_size=1000, chunk_overlap=200)\n",
    "chunks = text_splitter.split_documents(docs)\n",
    "\n",
    "embeddings = GoogleGenerativeAIEmbeddings(model=\"models/text-embedding-004\")\n",
    "vector_store = InMemoryVectorStore.from_documents(chunks, embeddings)\n",
    "\n",
    "retriever = vector_store.as_retriever()\n",
    "python = create_retriever_tool(retriever, \"python_3_14_update_retriever\",\n",
    "    \"A retriever that returns relevant documents from the What's New page of the Python 3.14 documentation. \"\n",
    "    \"Useful when you need to answer questions about the features, enhancements, removals, deprecations, and \"\n",
    "    \"other changes introduced in this version of Python.\"\n",
    ")\n",
    "\n",
    "search = TavilySearchResults(max_results=5)\n",
    "tool_list = [python, search]\n",
    "model = ChatGoogleGenerativeAI(\n",
    "    model='gemini-2.0-flash',\n",
    "    temperature=0,\n",
    "    max_tokens=None,\n",
    "    timeout=None,\n",
    "    max_retries=2,\n",
    "    # other params...\n",
    "  ).bind_tools(tool_list)\n",
    "# model = ChatOpenAI(model=\"gpt-4o-mini\").bind_tools(tool_list)\n",
    "\n",
    "call_tool = ToolNode(tool_list)\n",
    "\n",
    "def call_model(state: MessagesState):\n",
    "    updated_messages = model.invoke(state[\"messages\"])\n",
    "    return {\"messages\": updated_messages}\n",
    "\n",
    "workflow = StateGraph(MessagesState)\n",
    "workflow.add_node(\"model_node\", call_model)\n",
    "workflow.add_node(\"tools\", call_tool)\n",
    "workflow.add_edge(START, \"model_node\")\n",
    "workflow.add_conditional_edges(\"model_node\", tools_condition)\n",
    "workflow.add_edge(\"tools\", \"model_node\")\n",
    "\n",
    "memory = MemorySaver()\n",
    "app = workflow.compile(memory)"
   ]
  },
  {
   "cell_type": "code",
   "execution_count": 75,
   "id": "968a2f26-552a-4b7f-a54f-a8296da23f76",
   "metadata": {},
   "outputs": [],
   "source": [
    "from langchain_core.messages import AIMessage, ToolMessage\n",
    "import json\n",
    "\n",
    "def chatbot(chat_id: int = 123):\n",
    "    config = {\"configurable\": {\"thread_id\": chat_id}}\n",
    "\n",
    "    while True:\n",
    "        user_input = input(\"User:\")\n",
    "\n",
    "        if user_input in [\"exit\", \"quit\"]:\n",
    "            print(\"AI: See you later!\")\n",
    "            break\n",
    "        \n",
    "        else:\n",
    "            print(\"AI: \", end=\"\")\n",
    "            for chunk, metadata in app.stream({\"messages\": user_input}, config, stream_mode=\"messages\"):\n",
    "                if isinstance(chunk, AIMessage):\n",
    "                    print(chunk.content, end=\"\", flush=True)\n",
    "                if isinstance(chunk, ToolMessage):\n",
    "                    if chunk.name == \"tavily_search_results_json\":\n",
    "                        result_list = json.loads(chunk.content)\n",
    "                        urls = [result[\"url\"] for result in result_list]\n",
    "                        print(urls, end=\"\\n\\n\")\n",
    "                    if chunk.name == \"python_3_14_update_retriever\":\n",
    "                        print(\"Checking Python 3.14 documentation...\", end=\"\\n\\n\")\n",
    "            print(\"\\n\")"
   ]
  },
  {
   "cell_type": "code",
   "execution_count": 76,
   "id": "7ff74879-0b51-4a9e-8165-936786cadd9f",
   "metadata": {},
   "outputs": [
    {
     "name": "stdin",
     "output_type": "stream",
     "text": [
      "User: Tell me three new features introduced in Python 3.14.\n"
     ]
    },
    {
     "name": "stdout",
     "output_type": "stream",
     "text": [
      "AI: Checking Python 3.14 documentation...\n",
      "\n",
      "Okay, here are three new features introduced in Python 3.14 based on the provided document:\n",
      "\n",
      "1.  **Template strings (PEP 750)**: This introduces template strings as a new feature.\n",
      "2.  **Deferred evaluation of annotations (PEP 649)**: This feature involves the deferred evaluation of annotations.\n",
      "3.  **Adding Zstandard to the standard library (PEP 784)**: This incorporates Zstandard compression into the standard library via the new `compression.zstd` module.\n",
      "\n",
      "\n"
     ]
    },
    {
     "name": "stdin",
     "output_type": "stream",
     "text": [
      "User: What is the latest version of Gemini embedding model?\n"
     ]
    },
    {
     "name": "stdout",
     "output_type": "stream",
     "text": [
      "AI: ['https://medium.com/google-cloud/state-of-the-art-text-embedding-in-alloydb-with-the-latest-gemini-model-ed02f2f564df', 'https://developers.googleblog.com/en/gemini-embedding-text-model-now-available-gemini-api/', 'https://docs.llamaindex.ai/en/stable/examples/embeddings/gemini/', 'https://ai.google.dev/gemini-api/docs/models', 'https://cloud.google.com/vertex-ai/generative-ai/docs/models']\n",
      "\n",
      "Based on the search results, the latest Gemini embedding model is the experimental **Gemini Embedding text model**. It surpasses the previous state-of-the-art model (text-embedding-004) and achieves the top rank on the Massive Text Embedding Benchmark (MTEB) Multilingual leaderboard. It's accessible through the Gemini API. A specific version number wasn't mentioned in the search results.\n",
      "\n",
      "\n"
     ]
    },
    {
     "name": "stdin",
     "output_type": "stream",
     "text": [
      "User: exit\n"
     ]
    },
    {
     "name": "stdout",
     "output_type": "stream",
     "text": [
      "AI: See you later!\n"
     ]
    }
   ],
   "source": [
    "chatbot()"
   ]
  },
  {
   "cell_type": "code",
   "execution_count": 77,
   "id": "5ab12319-8186-4131-bc1e-c960b6cb7565",
   "metadata": {},
   "outputs": [],
   "source": [
    "def examine_chatbot(chat_id: int):\n",
    "    config = {\"configurable\": {\"thread_id\": chat_id}}\n",
    "\n",
    "    while True:\n",
    "        user_input = input(\"User:\")\n",
    "\n",
    "        if user_input in [\"exit\", \"quit\"]:\n",
    "            print(\"AI: See you later!\")\n",
    "            break\n",
    "        \n",
    "        else:\n",
    "            for state in app.stream({\"messages\": user_input}, config, stream_mode=\"values\"):\n",
    "                state[\"messages\"][-1].pretty_print()\n",
    "            print(\"\\n\")"
   ]
  }
 ],
 "metadata": {
  "kernelspec": {
   "display_name": "Python 3 (ipykernel)",
   "language": "python",
   "name": "python3"
  },
  "language_info": {
   "codemirror_mode": {
    "name": "ipython",
    "version": 3
   },
   "file_extension": ".py",
   "mimetype": "text/x-python",
   "name": "python",
   "nbconvert_exporter": "python",
   "pygments_lexer": "ipython3",
   "version": "3.12.9"
  }
 },
 "nbformat": 4,
 "nbformat_minor": 5
}
