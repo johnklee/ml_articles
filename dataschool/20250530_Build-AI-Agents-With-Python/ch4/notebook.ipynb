{
 "cells": [
  {
   "cell_type": "markdown",
   "id": "e832cab7-1ffa-4f2d-9667-b088a7c46544",
   "metadata": {},
   "source": [
    "## <b><font color='darkblue'>Preface</font></b>\n",
    "([source](https://courses.dataschool.io/view/courses/build-ai-agents-with-python/3021205-chapter-4-updating-the-app-with-real-time-search/9969491-resetting-the-workflow-and-chatbot))"
   ]
  },
  {
   "cell_type": "markdown",
   "id": "271d9cb9-492a-4564-be83-7dfe4e75bcf4",
   "metadata": {},
   "source": [
    "### <b><font color='darkgreen'>Section 1,2: Binds tools to model</font></b>\n",
    "([source1](https://courses.dataschool.io/view/courses/build-ai-agents-with-python/3021205-chapter-4-updating-the-app-with-real-time-search/9969491-resetting-the-workflow-and-chatbot), [source2](https://courses.dataschool.io/view/courses/build-ai-agents-with-python/3021205-chapter-4-updating-the-app-with-real-time-search/9969947-creating-a-search-tool))\n",
    "* [**Tools** (LangChain documentation)](https://python.langchain.com/docs/integrations/tools/)\n",
    "* [**Tavily Search**](https://tavily.com/)"
   ]
  },
  {
   "cell_type": "code",
   "execution_count": 2,
   "id": "a3d12a68-6ef9-4028-b456-b035baf753d3",
   "metadata": {},
   "outputs": [],
   "source": [
    "import getpass\n",
    "import os\n",
    "from dotenv import load_dotenv\n",
    "from langchain_openai import ChatOpenAI\n",
    "from langgraph.graph import StateGraph, MessagesState, START\n",
    "from langgraph.checkpoint.memory import MemorySaver\n",
    "from langchain_google_genai import ChatGoogleGenerativeAI\n",
    "from langchain_core.prompts import ChatPromptTemplate\n",
    "\n",
    "_ = load_dotenv()"
   ]
  },
  {
   "cell_type": "code",
   "execution_count": 3,
   "id": "dfc31763-5aac-473e-838b-1b83dd3757e6",
   "metadata": {},
   "outputs": [],
   "source": [
    "prompt = ChatPromptTemplate([\n",
    "    ('system', 'Limit all of your responses to two sentences.'),\n",
    "    (\"placeholder\", \"{messages}\"),\n",
    "])\n",
    "\n",
    "model = ChatGoogleGenerativeAI(\n",
    "    model=\"gemini-2.0-flash\",\n",
    "    temperature=0,\n",
    "    max_tokens=None,\n",
    "    timeout=None,\n",
    "    max_retries=2,\n",
    "    # other params...\n",
    ")\n",
    "\n",
    "chain = prompt | model"
   ]
  },
  {
   "cell_type": "code",
   "execution_count": 4,
   "id": "9864ff01-7f72-4c78-ac9d-e2547264ec35",
   "metadata": {},
   "outputs": [],
   "source": [
    "def call_model(state: MessagesState, chain=chain):\n",
    "    updated_messages = chain.invoke(state[\"messages\"])\n",
    "    return {\"messages\": updated_messages}\n",
    "\n",
    "workflow = StateGraph(MessagesState)\n",
    "workflow.add_node(\"model_node\", call_model)\n",
    "workflow.add_edge(START, \"model_node\")\n",
    "\n",
    "memory = MemorySaver()\n",
    "app = workflow.compile(memory)"
   ]
  },
  {
   "cell_type": "code",
   "execution_count": 5,
   "id": "10ab62ef-764c-43ce-a245-9855f1abd42d",
   "metadata": {},
   "outputs": [],
   "source": [
    "from langchain_community.tools.tavily_search import TavilySearchResults\n",
    "\n",
    "search = TavilySearchResults(max_results=5)"
   ]
  },
  {
   "cell_type": "code",
   "execution_count": 6,
   "id": "ccc1cbcb-b12f-4b99-a1ec-ac65479960a5",
   "metadata": {},
   "outputs": [
    {
     "data": {
      "text/plain": [
       "'A search engine optimized for comprehensive, accurate, and trusted results. Useful for when you need to answer questions about current events. Input should be a search query.'"
      ]
     },
     "execution_count": 6,
     "metadata": {},
     "output_type": "execute_result"
    }
   ],
   "source": [
    "search.description"
   ]
  },
  {
   "cell_type": "code",
   "execution_count": 7,
   "id": "3abd8052-98d0-4a4b-8837-64ce5cde47a9",
   "metadata": {},
   "outputs": [
    {
     "data": {
      "text/plain": [
       "'tavily_search_results_json'"
      ]
     },
     "execution_count": 7,
     "metadata": {},
     "output_type": "execute_result"
    }
   ],
   "source": [
    "search.name"
   ]
  },
  {
   "cell_type": "code",
   "execution_count": 6,
   "id": "bc03e941-f183-45c8-b88a-e4b7d3de5929",
   "metadata": {},
   "outputs": [],
   "source": [
    "tool_list = [search]\n",
    "model_with_tools = model.bind_tools(tool_list)"
   ]
  },
  {
   "cell_type": "markdown",
   "id": "f1cf0d36-75cf-42a6-8d79-fd6ee8c9e8df",
   "metadata": {},
   "source": [
    "### <b><font color='darkgreen'>Section: Adding search to the workflow</font></b>\n",
    "([source](https://courses.dataschool.io/view/courses/build-ai-agents-with-python/3021205-chapter-4-updating-the-app-with-real-time-search/9970752-adding-search-to-the-workflow))"
   ]
  },
  {
   "cell_type": "code",
   "execution_count": 7,
   "id": "524058e5-b3ad-46f4-9338-04bdf7a55215",
   "metadata": {},
   "outputs": [],
   "source": [
    "from langgraph.prebuilt import ToolNode, tools_condition\n",
    "\n",
    "call_tool = ToolNode(tool_list)"
   ]
  },
  {
   "cell_type": "code",
   "execution_count": 8,
   "id": "e8aeabec-b2f2-47fe-bdb9-9beeec1d17d4",
   "metadata": {},
   "outputs": [],
   "source": [
    "workflow = StateGraph(MessagesState)"
   ]
  },
  {
   "cell_type": "code",
   "execution_count": 9,
   "id": "b5e5e74d-7887-427b-a5dc-b204f76bada9",
   "metadata": {},
   "outputs": [
    {
     "data": {
      "text/plain": [
       "<langgraph.graph.state.StateGraph at 0x7f84ac10eab0>"
      ]
     },
     "execution_count": 9,
     "metadata": {},
     "output_type": "execute_result"
    }
   ],
   "source": [
    "workflow.add_node(\"model_node\", call_model)\n",
    "workflow.add_node(\"tools\", call_tool)"
   ]
  },
  {
   "cell_type": "code",
   "execution_count": 10,
   "id": "2e06d2b1-9bf6-43ba-97e6-eb94d71ef22e",
   "metadata": {},
   "outputs": [
    {
     "data": {
      "text/plain": [
       "<langgraph.graph.state.StateGraph at 0x7f84ac10eab0>"
      ]
     },
     "execution_count": 10,
     "metadata": {},
     "output_type": "execute_result"
    }
   ],
   "source": [
    "workflow.add_edge(START, \"model_node\")\n",
    "workflow.add_conditional_edges(\"model_node\", tools_condition)\n",
    "workflow.add_edge(\"tools\", \"model_node\")"
   ]
  },
  {
   "cell_type": "code",
   "execution_count": 11,
   "id": "e9c8c43b-ace7-400d-8c90-8e5d8ecde4a5",
   "metadata": {},
   "outputs": [],
   "source": [
    "memory = MemorySaver()\n",
    "app = workflow.compile(memory)"
   ]
  },
  {
   "cell_type": "code",
   "execution_count": 12,
   "id": "33e8bf3f-92df-4432-ac75-905a5416dc08",
   "metadata": {},
   "outputs": [
    {
     "data": {
      "image/png": "[encoded data removed]",
      "text/plain": [
       "<IPython.core.display.Image object>"
      ]
     },
     "execution_count": 12,
     "metadata": {},
     "output_type": "execute_result"
    }
   ],
   "source": [
    "from IPython.display import Image\n",
    "Image(app.get_graph().draw_mermaid_png())"
   ]
  },
  {
   "cell_type": "markdown",
   "id": "70181ef4-eada-471b-bc77-79ac944b2155",
   "metadata": {},
   "source": [
    "### <b><font color='darkgreen'>Section: Reviewing the tool-based workflow</font></b>\n",
    "([source](https://courses.dataschool.io/view/courses/build-ai-agents-with-python/3021205-chapter-4-updating-the-app-with-real-time-search/9973992-reviewing-the-tool-based-workflow))\n",
    "* [**create_react_agent** (LangGraph API reference)](https://langchain-ai.github.io/langgraph/reference/prebuilt/)"
   ]
  },
  {
   "cell_type": "code",
   "execution_count": 13,
   "id": "219712b2-fcc9-413b-a2f7-650248ccf8d4",
   "metadata": {},
   "outputs": [],
   "source": [
    "prompt = ChatPromptTemplate([\n",
    "    ('system', 'Limit all of your responses to two sentences.'),\n",
    "    (\"placeholder\", \"{messages}\"),\n",
    "])\n",
    "\n",
    "model = ChatGoogleGenerativeAI(\n",
    "    model=\"gemini-2.0-flash\",\n",
    "    temperature=0,\n",
    "    max_tokens=None,\n",
    "    timeout=None,\n",
    "    max_retries=2,\n",
    "    # other params...\n",
    ").bind_tools(tool_list)\n",
    "\n",
    "chain = prompt | model\n",
    "\n",
    "def call_model(state: MessagesState, model=model):\n",
    "    updated_messages = model.invoke(state[\"messages\"])\n",
    "    return {\"messages\": updated_messages}"
   ]
  },
  {
   "cell_type": "code",
   "execution_count": 14,
   "id": "d4e5fedf-3edb-4631-bc82-22743a662b64",
   "metadata": {},
   "outputs": [],
   "source": [
    "tool_list = [TavilySearchResults(max_results=5)]\n",
    "call_tool = ToolNode(tool_list)\n",
    "workflow = StateGraph(MessagesState)"
   ]
  },
  {
   "cell_type": "code",
   "execution_count": 15,
   "id": "cc607c50-3e1c-4d22-b05d-67d6f4337a51",
   "metadata": {},
   "outputs": [],
   "source": [
    "workflow.add_node(\"model_node\", call_model)\n",
    "workflow.add_node(\"tools\", call_tool)\n",
    "workflow.add_edge(START, \"model_node\")\n",
    "workflow.add_conditional_edges(\"model_node\", tools_condition)\n",
    "workflow.add_edge(\"tools\", \"model_node\")\n",
    "\n",
    "memory = MemorySaver()\n",
    "app = workflow.compile(memory)"
   ]
  },
  {
   "cell_type": "code",
   "execution_count": 16,
   "id": "9f30e897-54f4-493a-a2f7-743d80a04ac3",
   "metadata": {},
   "outputs": [],
   "source": [
    "def chatbot(chat_id: int=123, app=app):\n",
    "    config = {\"configurable\": {\"thread_id\": chat_id}}\n",
    "\n",
    "    while True:\n",
    "        user_input = input(\"User:\")\n",
    "\n",
    "        if user_input in [\"exit\", \"quit\"]:\n",
    "            print(\"AI: See you later!\")\n",
    "            break\n",
    "        \n",
    "        else:\n",
    "            print(\"AI: \", end=\"\")\n",
    "            for chunk, metadata in app.stream({\"messages\": user_input}, config, stream_mode=\"messages\"):\n",
    "                print(chunk.content, end=\"\", flush=True)\n",
    "            print(\"\\n\")"
   ]
  },
  {
   "cell_type": "markdown",
   "id": "aacd9291-8a2d-46ba-bf1a-c9ba4b8bdc69",
   "metadata": {},
   "source": [
    "### <b><font color='darkgreen'>Section: Showing the search URLs</font></b>\n",
    "([source](https://courses.dataschool.io/view/courses/build-ai-agents-with-python/3021205-chapter-4-updating-the-app-with-real-time-search/9974318-showing-the-search-urls))"
   ]
  },
  {
   "cell_type": "code",
   "execution_count": 43,
   "id": "c901d112-73e2-4cf2-a185-b76b77b02acf",
   "metadata": {},
   "outputs": [
    {
     "name": "stdin",
     "output_type": "stream",
     "text": [
      "User: List me the first five president of the US.\n"
     ]
    },
    {
     "name": "stdout",
     "output_type": "stream",
     "text": [
      "AI: 1. George Washington\n",
      "2. John Adams\n",
      "3. Thomas Jefferson\n",
      "4. James Madison\n",
      "5. James Monroe\n",
      "\n",
      "\n"
     ]
    },
    {
     "name": "stdin",
     "output_type": "stream",
     "text": [
      "User: What is the latest version of Gemini?\n"
     ]
    },
    {
     "name": "stdout",
     "output_type": "stream",
     "text": [
      "AI: [{\"title\": \"Gemini models | Gemini API | Google AI for Developers\", \"url\": \"https://ai.google.dev/gemini-api/docs/models\", \"content\": \"Read the model version patterns for more details. Latest: gemini-1.5-flash-latest; Latest stable: gemini-1.5-flash; Stable: gemini-1.5-flash-001; gemini-1.5\", \"score\": 0.78493005}, {\"title\": \"Introducing Gemini 2.0: our new AI model for the agentic era\", \"url\": \"https://blog.google/technology/google-deepmind/google-gemini-ai-update-december-2024/\", \"content\": \"Since we introduced [Project Astra](https://deepmind.google/technologies/gemini/project-astra/) at I/O, we’ve been learning from trusted testers using it on Android phones. Their valuable feedback has helped us better understand how a universal AI assistant could work in practice, including implications for safety and ethics. Improvements in the latest version built with Gemini 2.0 include: [...] * Google DeepMind introduces Gemini 2.0, a new AI model designed for the \\\"agentic era.\\\"\\n* Gemini 2.0 is more capable than previous versions, with native image and audio output and tool use.\\n* Gemini 2.0 Flash is available to developers and trusted testers, with wider availability planned for early next year.\\n* Google is exploring agentic experiences with Gemini 2.0, including Project Astra, Project Mariner, and Jules. [...] Today’s releases mark a new chapter for our Gemini model. With the release of Gemini 2.0 Flash, and the series of research prototypes exploring agentic possibilities, we have reached an exciting milestone in the Gemini era. And we’re looking forward to continuing to safely explore all the new possibilities within reach as we build towards AGI.\", \"score\": 0.7610953}, {\"title\": \"Gemini 2.5 Pro Preview: even better coding performance\", \"url\": \"https://developers.googleblog.com/en/gemini-2-5-pro-io-improved-coding-performance/\", \"content\": \"For developers already using Gemini 2.5 Pro, this new version will not only improve coding performance but will also address key developer feedback including reducing errors in function calling and improving function calling trigger rates. The previous iteration (03-25) now points to the most recent version (05-06), so no action is required to use the improved model, and it continues to be available at the same [price](https://ai.google.dev/gemini-api/docs/pricing#gemini-2.5-pro-preview). We [...] For developers already using Gemini 2.5 Pro, this new version will not only improve coding performance but will also address key developer feedback including reducing errors in function calling and improving function calling trigger rates. The previous iteration (03-25) now points to the most recent version (05-06), so no action is required to use the improved model, and it continues to be available at the same [price](https://ai.google.dev/gemini-api/docs/pricing#gemini-2.5-pro-preview). We [...] We can’t wait to see the amazing apps you build!\\n\\nWe’ve seen developers doing amazing things with [Gemini 2.5 Pro](https://deepmind.google/technologies/gemini/pro/), so we decided to release an updated version a couple of weeks early to get into developers hands sooner.\", \"score\": 0.7429634}, {\"title\": \"Release notes | Gemini API | Google AI for Developers\", \"url\": \"https://ai.google.dev/gemini-api/docs/changelog\", \"content\": \"Released gemini-1.5-pro-002 and gemini-1.5-flash-002 , two new stable versions of Gemini 1.5 Pro and 1.5 Flash, for general availability. Updated the gemini-1.5\", \"score\": 0.7161595}, {\"title\": \"Gemini (language model) - Wikipedia\", \"url\": \"https://en.wikipedia.org/wiki/Gemini_(language_model)\", \"content\": \"On December 11, 2024, Google announced Gemini 2.0 Flash Experimental, a significant update to its Gemini AI model.\", \"score\": 0.68420124}]The search results indicate a few possible answers:\n",
      "\n",
      "*   **Gemini 1.5 Flash:** The \"latest\" version is listed as `gemini-1.5-flash-latest`. The latest stable version is `gemini-1.5-flash`.\n",
      "*   **Gemini 2.0 Flash Experimental:** Announced in December 2024.\n",
      "*   **Gemini 2.5 Pro:** An updated version with improved coding performance was released recently.\n",
      "\n",
      "Without more specific context, it's difficult to say definitively which is the absolute latest. It appears Google is actively developing and releasing different versions and variants of Gemini.\n",
      "\n",
      "\n"
     ]
    },
    {
     "name": "stdin",
     "output_type": "stream",
     "text": [
      "User: exit\n"
     ]
    },
    {
     "name": "stdout",
     "output_type": "stream",
     "text": [
      "AI: See you later!\n"
     ]
    }
   ],
   "source": [
    "chatbot()"
   ]
  },
  {
   "cell_type": "markdown",
   "id": "0df641be-cf11-4d5a-bd3b-ca28dd370183",
   "metadata": {},
   "source": [
    "Let's modify our `chatbot` for different messages [**AIMessage**](https://python.langchain.com/api_reference/core/messages/langchain_core.messages.ai.AIMessage.html) and [**ToolMessage**](https://python.langchain.com/api_reference/core/messages/langchain_core.messages.tool.ToolMessage.html)"
   ]
  },
  {
   "cell_type": "code",
   "execution_count": 18,
   "id": "e8eb2d71-d33c-4e46-bb3a-e0a98c4bc450",
   "metadata": {},
   "outputs": [],
   "source": [
    "import json\n",
    "from langchain_core.messages import AIMessage, ToolMessage"
   ]
  },
  {
   "cell_type": "code",
   "execution_count": 23,
   "id": "c5355a23-7988-4b9a-bbd1-8261c98f2576",
   "metadata": {},
   "outputs": [],
   "source": [
    "def chatbot(chat_id: int=123, app=app):\n",
    "    config = {\"configurable\": {\"thread_id\": chat_id}}\n",
    "\n",
    "    while True:\n",
    "        user_input = input(\"User:\")\n",
    "\n",
    "        if user_input in [\"exit\", \"quit\"]:\n",
    "            print(\"AI: See you later!\")\n",
    "            break\n",
    "        \n",
    "        else:\n",
    "            print(\"AI: \", end=\"\")\n",
    "            for chunk, metadata in app.stream({\"messages\": user_input}, config, stream_mode=\"messages\"):\n",
    "                if isinstance(chunk, AIMessage):\n",
    "                    print(chunk.content, end=\"\", flush=True)\n",
    "                if isinstance(chunk, ToolMessage):\n",
    "                    #print(f'Tool message:\\n{chunk.content}\\n\\n')\n",
    "                    result_list = json.loads(chunk.content)\n",
    "                    urls = [f'- {result['url']}' for result in result_list]\n",
    "                    print(f'\\nReferences:')\n",
    "                    print('\\n'.join(urls), end='', flush=True)\n",
    "                    print('\\n\\n')\n",
    "            print(\"\\n\")"
   ]
  },
  {
   "cell_type": "code",
   "execution_count": 24,
   "id": "4c1ea954-5b49-4da9-9538-998781c68826",
   "metadata": {},
   "outputs": [
    {
     "name": "stdin",
     "output_type": "stream",
     "text": [
      "User: What is the latest version of Gemini?\n"
     ]
    },
    {
     "name": "stdout",
     "output_type": "stream",
     "text": [
      "AI: \n",
      "References:\n",
      "- https://ai.google.dev/gemini-api/docs/models\n",
      "- https://gemini.google.com/updates\n",
      "- https://ai.google.dev/gemini-api/docs/changelog\n",
      "- https://blog.google/products/gemini/gemini-2-5-pro-updates/\n",
      "- https://blog.google/technology/google-deepmind/google-gemini-updates-io-2025/\n",
      "\n",
      "\n",
      "Based on the search results, the latest version of Gemini is Gemini 2.5 Pro. Other recent versions include Gemini 2.0 Flash, Gemini 1.5 Pro, and Gemini 1.5 Flash.\n",
      "\n",
      "\n"
     ]
    },
    {
     "name": "stdin",
     "output_type": "stream",
     "text": [
      "User: exit\n"
     ]
    },
    {
     "name": "stdout",
     "output_type": "stream",
     "text": [
      "AI: See you later!\n"
     ]
    }
   ],
   "source": [
    "chatbot()"
   ]
  },
  {
   "cell_type": "markdown",
   "id": "f4cd2543-66bf-4bed-a918-20b9cbc41f74",
   "metadata": {},
   "source": [
    "### <b><font color='darkgreen'>Section: Examining the tool calls</font></b>\n",
    "([source](https://courses.dataschool.io/view/courses/build-ai-agents-with-python/3021205-chapter-4-updating-the-app-with-real-time-search/9974456-examining-the-tool-calls))"
   ]
  },
  {
   "cell_type": "code",
   "execution_count": 27,
   "id": "feafbdbe-c7f4-400f-8a80-15106253d73a",
   "metadata": {},
   "outputs": [],
   "source": [
    "def examine_chatbot(chat_id: int=123, app=app):\n",
    "    config = {\"configurable\": {\"thread_id\": chat_id}}\n",
    "\n",
    "    while True:\n",
    "        user_input = input(\"User:\")\n",
    "\n",
    "        if user_input in [\"exit\", \"quit\"]:\n",
    "            print(\"AI: See you later!\")\n",
    "            break\n",
    "        \n",
    "        else:\n",
    "            print(\"AI: \", end=\"\")\n",
    "            for state in app.stream({\"messages\": user_input}, config, stream_mode=\"values\"):\n",
    "                message = state['messages'][-1]\n",
    "                message.pretty_print()\n",
    "            print(\"\\n\")"
   ]
  },
  {
   "cell_type": "code",
   "execution_count": 28,
   "id": "c45fd083-30c0-47da-8b3b-eef03fd0f97d",
   "metadata": {},
   "outputs": [
    {
     "name": "stdin",
     "output_type": "stream",
     "text": [
      "User: What is the latest version of Gemini?\n"
     ]
    },
    {
     "name": "stdout",
     "output_type": "stream",
     "text": [
      "AI: ================================\u001b[1m Human Message \u001b[0m=================================\n",
      "\n",
      "What is the latest version of Gemini?\n",
      "==================================\u001b[1m Ai Message \u001b[0m==================================\n",
      "Tool Calls:\n",
      "  tavily_search_results_json (d2824e78-8e8f-4252-bab9-0d9eccfa227f)\n",
      " Call ID: d2824e78-8e8f-4252-bab9-0d9eccfa227f\n",
      "  Args:\n",
      "    query: latest version of Gemini\n",
      "=================================\u001b[1m Tool Message \u001b[0m=================================\n",
      "Name: tavily_search_results_json\n",
      "\n",
      "[{\"title\": \"Gemini models | Gemini API | Google AI for Developers\", \"url\": \"https://ai.google.dev/gemini-api/docs/models\", \"content\": \"123Versions, Read the model version patterns for more details. Latest: gemini-1.5-pro-latest; Latest stable: gemini-1.5-pro; Stable: gemini-1.5-pro-001; gemini-\", \"score\": 0.83225065}, {\"title\": \"Release notes | Gemini API | Google AI for Developers\", \"url\": \"https://ai.google.dev/gemini-api/docs/changelog\", \"content\": \"Released gemini-1.5-pro-002 and gemini-1.5-flash-002 , two new stable versions of Gemini 1.5 Pro and 1.5 Flash, for general availability. Updated the gemini-1.5\", \"score\": 0.756376}, {\"title\": \"‎Gemini Apps' release updates & improvements\", \"url\": \"https://gemini.google.com/updates\", \"content\": \"What: An enhanced version of Gemini 2.0 Flash is now available to Gemini app users. This update enables a more natural, collaborative, and\", \"score\": 0.74004334}, {\"title\": \"Build rich, interactive web apps with an updated Gemini 2.5 Pro\", \"url\": \"https://blog.google/products/gemini/gemini-2-5-pro-updates/\", \"content\": \"Today we're releasing early access to [Gemini 2.5 Pro Preview](https://deepmind.google/technologies/gemini/pro/) (I/O edition), an updated version of 2.5 Pro that has significantly improved capabilities for coding, especially building compelling interactive web apps. We were going to release this update at [Google I/O](http://io.google/) in a couple weeks, but based on the overwhelming enthusiasm for this model, we wanted to get it in your hands sooner so people can start building. [...] #### Gemini gets more personal, proactive and powerful\\n\\n![ ](https://storage.googleapis.com/gweb-uniblog-publish-prod/images/GDM_Hero.max-1200x416.format-webp.webp)\\n\\n#### Our vision for building a universal AI assistant\\n\\n![](/static/blogv2/images/newsletter_toast.svg?version=pr20250528-1737)\\n\\nLet’s stay in touch. Get the latest news from Google in your inbox.\\n\\nFollow Us [...] Developers can start building with this updated Gemini 2.5 Pro in the Gemini API via [Google AI Studio](http://aistudio.google.com/app/prompts/new_chat?model=gemini-2.5-pro-preview-05-06) and [Vertex AI](https://console.cloud.google.com/freetrial?redirectPath=/vertex-ai/studio). It’s also available for users in the [Gemini app](http://gemini.google.com/), powering features like [Canvas](https://gemini.google.com/canvas), and enabling anyone to vibe code and build interactive web apps with a\", \"score\": 0.7099254}, {\"title\": \"Gemini 2.5: Our most intelligent models are getting even better\", \"url\": \"https://blog.google/technology/google-deepmind/google-gemini-updates-io-2025/\", \"content\": \"We recently [updated 2.5 Pro](https://blog.google/products/gemini/gemini-2-5-pro-updates/) to help developers build richer, interactive web apps. It’s great to see the [positive reaction from users and developers](https://www.youtube.com/watch?v=c6UkBTTOIAE%27) and we’re continuing to make improvements based on user feedback. [...] In March, we announced [Gemini 2.5 Pro](https://blog.google/technology/google-deepmind/gemini-model-thinking-updates-march-2025/?utm_source=deepmind.google&utm_medium=referral&utm_campaign=gdm&utm_content=), our most intelligent model yet, and two weeks ago, we brought you our [I/O update early](https://blog.google/products/gemini/gemini-2-5-pro-updates/) for developers to build incredible web apps. Today, we’re sharing even more updates to our [Gemini [...] # Gemini 2.5: Our most intelligent models are getting even better\\n\\nMay 20, 2025\\n\\n[[read-time]] min read\\n\\nGemini 2.5 Pro continues to be loved by developers as the best model for coding, and 2.5 Flash is getting even better with a new update. We’re also bringing new capabilities to our models, including Deep Think, an experimental enhanced reasoning mode for 2.5 Pro.\", \"score\": 0.7036111}]\n",
      "==================================\u001b[1m Ai Message \u001b[0m==================================\n",
      "\n",
      "The search results indicate several recent versions of Gemini. The \"latest\" version is listed as gemini-1.5-pro-latest. Other recent versions include Gemini 2.5 Pro (with an updated version having improved coding capabilities), Gemini 2.0 Flash, Gemini 1.5 Pro-002, and Gemini 1.5 Flash-002.\n",
      "\n",
      "\n"
     ]
    },
    {
     "name": "stdin",
     "output_type": "stream",
     "text": [
      "User: exit\n"
     ]
    },
    {
     "name": "stdout",
     "output_type": "stream",
     "text": [
      "AI: See you later!\n"
     ]
    }
   ],
   "source": [
    "examine_chatbot()"
   ]
  }
 ],
 "metadata": {
  "kernelspec": {
   "display_name": "Python 3 (ipykernel)",
   "language": "python",
   "name": "python3"
  },
  "language_info": {
   "codemirror_mode": {
    "name": "ipython",
    "version": 3
   },
   "file_extension": ".py",
   "mimetype": "text/x-python",
   "name": "python",
   "nbconvert_exporter": "python",
   "pygments_lexer": "ipython3",
   "version": "3.12.9"
  }
 },
 "nbformat": 4,
 "nbformat_minor": 5
}
