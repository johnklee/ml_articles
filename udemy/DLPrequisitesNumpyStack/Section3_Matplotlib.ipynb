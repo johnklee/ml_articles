{
 "cells": [
  {
   "cell_type": "markdown",
   "metadata": {},
   "source": [
    "## <font color='darkblue'>Section2 - Numpy</font>\n",
    "This notebook is created from udemy course \"<b>[Deep Learning Prerequisites: The Numpy Stack in Python](https://www.udemy.com/course/numpy-python/learn/lecture/19394354#overview)</b>\" which introducts Numpy, Scipy, Pandas, and Matplotlib: prep for deep learning, machine learning, and artificial intelligence.\n",
    "\n",
    "## <font color='darkblue'>Matplotlib Section Introduction</font>\n",
    "([link](https://www.udemy.com/course/numpy-python/learn/lecture/19425084#overview))"
   ]
  }
 ],
 "metadata": {
  "kernelspec": {
   "display_name": "Python 3",
   "language": "python",
   "name": "python3"
  },
  "language_info": {
   "codemirror_mode": {
    "name": "ipython",
    "version": 3
   },
   "file_extension": ".py",
   "mimetype": "text/x-python",
   "name": "python",
   "nbconvert_exporter": "python",
   "pygments_lexer": "ipython3",
   "version": "3.6.7"
  }
 },
 "nbformat": 4,
 "nbformat_minor": 2
}
