{
 "cells": [
  {
   "cell_type": "markdown",
   "metadata": {},
   "source": [
    "## <font color='darkblue'>Section2 - Numpy</font>\n",
    "This notebook is created from udemy course \"<b>[Deep Learning Prerequisites: The Numpy Stack in Python](https://www.udemy.com/course/deep-learning-prerequisites-the-numpy-stack-in-python/learn/lecture/19643200#overview)</b>\" which introducts Numpy, Scipy, Pandas, and Matplotlib: prep for deep learning, machine learning, and artificial intelligence.\n",
    "\n",
    "<a id='s1'></a>\n",
    "## <font color='darkblue'>Numpy Section Introduction</font>\n",
    "([link](https://www.udemy.com/course/deep-learning-prerequisites-the-numpy-stack-in-python/learn/lecture/19643370#overview))\n",
    "* Low-level: what does <b>[Numpy](https://numpy.org/)</b> do?\n",
    "* High-level: why do we need it?\n",
    "* The core library used in AI/ML and central object of this library is [numpy array](https://numpy.org/doc/stable/reference/generated/numpy.array.html).\n",
    "* One sentence summary: \"Linear algebra and a bit of probability\"\n",
    "\n",
    "### <font color='darkgreen'>Vectors and Matrics</font>\n",
    "* In Linear Algebra, convention to treat vectors as 2D\n",
    "* But not in Numpy! Vectors will be 1D (most of the time)\n",
    "![VectorAndMatrix](images/S2_1.PNG)\n",
    "<br/>\n",
    "\n",
    "### <font color='darkgreen'>Dot Product/Inner Product</font>\n",
    "* [Dot product](https://en.wikipedia.org/wiki/Dot_product) is an algebraic operation that takes two equal-length sequences of numbers (usually coordinate vectors) and returns a single number.\n",
    "![VectorAndMatrix](images/S2_2.PNG)\n",
    "<br/>\n",
    "\n",
    "### <font color='darkgreen'>Matrix Multiplication (C=AB)</font>\n",
    "* [Matrix multiplication](https://en.wikipedia.org/wiki/Matrix_multiplication) as generalized dot product:\n",
    "![VectorAndMatrix](images/S2_3.PNG)\n",
    "<br/>\n",
    "\n",
    "### <font color='darkgreen'>Element-wise product</font>\n",
    "* Not so common in Linear Algebra, very common in ML:\n",
    "![VectorAndMatrix](images/S2_4.PNG)\n",
    "<br/>\n",
    "\n",
    "### <font color='darkgreen'>And many more</font>\n",
    "* Linear systems: Ax = b\n",
    "* Inverse: $A^-1$\n",
    "* [Determinant: |A|](https://en.wikipedia.org/wiki/Determinant)\n",
    "* Choosing random numbers (e.g. Uniform, Gaussian)\n",
    "\n",
    "### <font color='darkgreen'>Applications</font>\n",
    "* Linear Regression\n",
    "* Logistic Regression\n",
    "* Deep Neural Networks\n",
    "* SVM\n",
    "* Principal Components Analysis\n",
    "* K-Means clustering\n",
    "* Control systems\n",
    "* Game Theory\n",
    "* Operations Research\n",
    "* Portfolio Optimization\n",
    "\n",
    "<a id='s2'></a>\n",
    "## <font color='darkblue'>Array vs List</font>\n",
    "([link](https://www.udemy.com/course/deep-learning-prerequisites-the-numpy-stack-in-python/learn/lecture/19643378#overview))\n",
    "We are going to tell the difference between Array in numpy and normal Python list:"
   ]
  },
  {
   "cell_type": "code",
   "execution_count": 1,
   "metadata": {},
   "outputs": [],
   "source": [
    "import numpy as np\n",
    "\n",
    "L = [1, 2, 3]  # Normal Python List\n",
    "A = np.array(L)"
   ]
  },
  {
   "cell_type": "markdown",
   "metadata": {},
   "source": [
    "We initialize a list and an numpy array as above. Now let's iterate them:"
   ]
  },
  {
   "cell_type": "code",
   "execution_count": 2,
   "metadata": {},
   "outputs": [
    {
     "name": "stdout",
     "output_type": "stream",
     "text": [
      "1\n",
      "2\n",
      "3\n"
     ]
    }
   ],
   "source": [
    "for e in L:\n",
    "    print(e)"
   ]
  },
  {
   "cell_type": "code",
   "execution_count": 3,
   "metadata": {},
   "outputs": [
    {
     "name": "stdout",
     "output_type": "stream",
     "text": [
      "1\n",
      "2\n",
      "3\n"
     ]
    }
   ],
   "source": [
    "for e in A:\n",
    "    print(e)"
   ]
  },
  {
   "cell_type": "markdown",
   "metadata": {},
   "source": [
    "Add item to list and array:"
   ]
  },
  {
   "cell_type": "code",
   "execution_count": 4,
   "metadata": {},
   "outputs": [
    {
     "name": "stdout",
     "output_type": "stream",
     "text": [
      "[1, 2, 3, 4]\n"
     ]
    }
   ],
   "source": [
    "L.append(4); print(L)"
   ]
  },
  {
   "cell_type": "code",
   "execution_count": 5,
   "metadata": {},
   "outputs": [
    {
     "data": {
      "text/plain": [
       "[1, 2, 3, 4, 5]"
      ]
     },
     "execution_count": 5,
     "metadata": {},
     "output_type": "execute_result"
    }
   ],
   "source": [
    "L + [5]"
   ]
  },
  {
   "cell_type": "code",
   "execution_count": 6,
   "metadata": {},
   "outputs": [
    {
     "data": {
      "text/plain": [
       "array([5, 6, 7])"
      ]
     },
     "execution_count": 6,
     "metadata": {},
     "output_type": "execute_result"
    }
   ],
   "source": [
    "# Not as our expectation to be [1,2,3,4]\n",
    "# instead, the result is that all element in array will be added by 4\n",
    "# and get [1+4, 2+4, 3+4] = [5,6,7]\n",
    "A + np.array([4])"
   ]
  },
  {
   "cell_type": "code",
   "execution_count": 7,
   "metadata": {},
   "outputs": [
    {
     "data": {
      "text/plain": [
       "array([2, 4, 6])"
      ]
     },
     "execution_count": 7,
     "metadata": {},
     "output_type": "execute_result"
    }
   ],
   "source": [
    "A + [1,2,3]  # = [1+1,2+2,3+3] = [2, 4, 6]"
   ]
  },
  {
   "cell_type": "code",
   "execution_count": 8,
   "metadata": {},
   "outputs": [
    {
     "data": {
      "text/plain": [
       "array([2, 4, 6])"
      ]
     },
     "execution_count": 8,
     "metadata": {},
     "output_type": "execute_result"
    }
   ],
   "source": [
    "2 * A"
   ]
  },
  {
   "cell_type": "code",
   "execution_count": 9,
   "metadata": {},
   "outputs": [
    {
     "data": {
      "text/plain": [
       "[1, 2, 3, 4, 1, 2, 3, 4]"
      ]
     },
     "execution_count": 9,
     "metadata": {},
     "output_type": "execute_result"
    }
   ],
   "source": [
    "2 * L # = L + L"
   ]
  },
  {
   "cell_type": "markdown",
   "metadata": {},
   "source": [
    "To do multiplication on every element in list:"
   ]
  },
  {
   "cell_type": "code",
   "execution_count": 10,
   "metadata": {},
   "outputs": [
    {
     "data": {
      "text/plain": [
       "[2, 4, 6, 8]"
      ]
     },
     "execution_count": 10,
     "metadata": {},
     "output_type": "execute_result"
    }
   ],
   "source": [
    "list(map(lambda e: e*2, L)) # function map"
   ]
  },
  {
   "cell_type": "code",
   "execution_count": 11,
   "metadata": {},
   "outputs": [
    {
     "data": {
      "text/plain": [
       "[2, 4, 6, 8]"
      ]
     },
     "execution_count": 11,
     "metadata": {},
     "output_type": "execute_result"
    }
   ],
   "source": [
    "[e*2 for e in L] # List apprehension"
   ]
  },
  {
   "cell_type": "markdown",
   "metadata": {},
   "source": [
    "There are many common functions in numpy to process every element in array ([more](https://numpy.org/doc/stable/reference/routines.math.html)):"
   ]
  },
  {
   "cell_type": "code",
   "execution_count": 12,
   "metadata": {},
   "outputs": [
    {
     "data": {
      "text/plain": [
       "array([1.        , 1.41421356, 1.73205081])"
      ]
     },
     "execution_count": 12,
     "metadata": {},
     "output_type": "execute_result"
    }
   ],
   "source": [
    "np.sqrt(A)"
   ]
  },
  {
   "cell_type": "code",
   "execution_count": 13,
   "metadata": {},
   "outputs": [
    {
     "data": {
      "text/plain": [
       "array([0.        , 0.69314718, 1.09861229])"
      ]
     },
     "execution_count": 13,
     "metadata": {},
     "output_type": "execute_result"
    }
   ],
   "source": [
    "np.log(A)"
   ]
  },
  {
   "cell_type": "markdown",
   "metadata": {},
   "source": [
    "<a id='s3'></a>\n",
    "## <font color='darkblue'>Dot Product</font>\n",
    "([link](https://www.udemy.com/course/deep-learning-prerequisites-the-numpy-stack-in-python/learn/lecture/19643380#overview)) Check more numpy functionalities:"
   ]
  },
  {
   "cell_type": "code",
   "execution_count": 14,
   "metadata": {},
   "outputs": [],
   "source": [
    "a = np.array([1,2])\n",
    "b = np.array([3,4])"
   ]
  },
  {
   "cell_type": "code",
   "execution_count": 15,
   "metadata": {},
   "outputs": [
    {
     "data": {
      "text/plain": [
       "11"
      ]
     },
     "execution_count": 15,
     "metadata": {},
     "output_type": "execute_result"
    }
   ],
   "source": [
    "# Using for loop to do dot product\n",
    "dot = 0\n",
    "for e, f in zip(a, b):\n",
    "    dot += e * f\n",
    "    \n",
    "dot"
   ]
  },
  {
   "cell_type": "code",
   "execution_count": 16,
   "metadata": {},
   "outputs": [
    {
     "data": {
      "text/plain": [
       "11"
      ]
     },
     "execution_count": 16,
     "metadata": {},
     "output_type": "execute_result"
    }
   ],
   "source": [
    "# Another way to do dot product\n",
    "np.sum(a * b)  # = (a*b).sum()"
   ]
  },
  {
   "cell_type": "code",
   "execution_count": 17,
   "metadata": {},
   "outputs": [
    {
     "data": {
      "text/plain": [
       "11"
      ]
     },
     "execution_count": 17,
     "metadata": {},
     "output_type": "execute_result"
    }
   ],
   "source": [
    "# Using built-in funciton\n",
    "np.dot(a, b)"
   ]
  },
  {
   "cell_type": "code",
   "execution_count": 18,
   "metadata": {},
   "outputs": [
    {
     "data": {
      "text/plain": [
       "11"
      ]
     },
     "execution_count": 18,
     "metadata": {},
     "output_type": "execute_result"
    }
   ],
   "source": [
    "# Or more intuitively\n",
    "a.dot(b)"
   ]
  },
  {
   "cell_type": "code",
   "execution_count": 19,
   "metadata": {},
   "outputs": [
    {
     "data": {
      "text/plain": [
       "11"
      ]
     },
     "execution_count": 19,
     "metadata": {},
     "output_type": "execute_result"
    }
   ],
   "source": [
    "# or fancy way\n",
    "a @ b"
   ]
  },
  {
   "cell_type": "markdown",
   "metadata": {},
   "source": [
    "Let's check some Linear Algebra definitions:\n",
    "![VectorAndMatrix](images/S2_5.PNG)\n",
    "<br/>"
   ]
  },
  {
   "cell_type": "code",
   "execution_count": 20,
   "metadata": {},
   "outputs": [
    {
     "data": {
      "text/plain": [
       "2.23606797749979"
      ]
     },
     "execution_count": 20,
     "metadata": {},
     "output_type": "execute_result"
    }
   ],
   "source": [
    "# ||a||\n",
    "amag = np.sqrt((a*a).sum())\n",
    "amag"
   ]
  },
  {
   "cell_type": "markdown",
   "metadata": {},
   "source": [
    "Or you can leverage exist package <b>[numpy.linalg](https://numpy.org/doc/stable/reference/routines.linalg.html)</b>:"
   ]
  },
  {
   "cell_type": "code",
   "execution_count": 21,
   "metadata": {},
   "outputs": [
    {
     "data": {
      "text/plain": [
       "2.23606797749979"
      ]
     },
     "execution_count": 21,
     "metadata": {},
     "output_type": "execute_result"
    }
   ],
   "source": [
    "np.linalg.norm(a)"
   ]
  },
  {
   "cell_type": "markdown",
   "metadata": {},
   "source": [
    "So the cosine between `a` and `b` will be:"
   ]
  },
  {
   "cell_type": "code",
   "execution_count": 22,
   "metadata": {},
   "outputs": [
    {
     "data": {
      "text/plain": [
       "0.9838699100999074"
      ]
     },
     "execution_count": 22,
     "metadata": {},
     "output_type": "execute_result"
    }
   ],
   "source": [
    "cosangle = a.dot(b) / (np.linalg.norm(a) * np.linalg.norm(b))\n",
    "cosangle"
   ]
  },
  {
   "cell_type": "code",
   "execution_count": 23,
   "metadata": {},
   "outputs": [
    {
     "data": {
      "text/plain": [
       "0.17985349979247847"
      ]
     },
     "execution_count": 23,
     "metadata": {},
     "output_type": "execute_result"
    }
   ],
   "source": [
    "np.arccos(cosangle) # unit as radian: https://en.wikipedia.org/wiki/Radian"
   ]
  },
  {
   "cell_type": "markdown",
   "metadata": {},
   "source": [
    "<a id='s4'></a>\n",
    "## <font color='darkblue'>Speed Test</font>\n",
    "([link](https://www.udemy.com/course/deep-learning-prerequisites-the-numpy-stack-in-python/learn/lecture/19643384#overview)) Let's check the performance difference on dot product between Python list and numpy array."
   ]
  },
  {
   "cell_type": "code",
   "execution_count": 24,
   "metadata": {},
   "outputs": [
    {
     "name": "stdout",
     "output_type": "stream",
     "text": [
      "Numpy style is faster for 385.63 times!\n",
      "Numpy style is faster for 466.36 times!\n",
      "Numpy style is faster for 535.79 times!\n",
      "Numpy style is faster for 653.76 times!\n",
      "Numpy style is faster for 622.94 times!\n",
      "Numpy style is faster for 320.22 times!\n",
      "Numpy style is faster for 350.94 times!\n",
      "Numpy style is faster for 359.65 times!\n",
      "Numpy style is faster for 377.56 times!\n",
      "Numpy style is faster for 394.04 times!\n"
     ]
    }
   ],
   "source": [
    "from datetime import datetime\n",
    "\n",
    "def time_diff(func):\n",
    "    def wrapper(A, B):\n",
    "        st = datetime.now()\n",
    "        out = func(A, B)\n",
    "        diff = datetime.now() - st\n",
    "        return diff, out\n",
    "    \n",
    "    return wrapper\n",
    "\n",
    "@time_diff\n",
    "def dot_product_by_for_loop(A, B):\n",
    "    st = datetime.now()\n",
    "    dot = 0\n",
    "    for a, b in zip(A,B):\n",
    "        dot += a * b\n",
    "        \n",
    "    return dot\n",
    "\n",
    "@time_diff\n",
    "def dot_product_by_numpy_style(A, B):\n",
    "    return A.dot(B)\n",
    "\n",
    "perf_datas = []\n",
    "for array_size in range(1000000, 2000000, 100000):\n",
    "    A = np.random.rand(array_size)\n",
    "    B = np.random.rand(array_size)\n",
    "\n",
    "    \n",
    "    t1, dot1 = dot_product_by_for_loop(A, B)\n",
    "    t2, dot2 = dot_product_by_numpy_style(A, B)\n",
    "\n",
    "    # print(\"dot1={}/dot2={}\".format(dot1, dot2))\n",
    "    print(\"Numpy style is faster for {:.02f} times!\".format(t1.total_seconds()/t2.total_seconds()))\n",
    "    perf_datas.append(t1.total_seconds()/t2.total_seconds())"
   ]
  },
  {
   "cell_type": "code",
   "execution_count": 25,
   "metadata": {},
   "outputs": [
    {
     "name": "stdout",
     "output_type": "stream",
     "text": [
      "Numpy is faster than for loop for 653.76-320.22 times!\n"
     ]
    }
   ],
   "source": [
    "print(\"Numpy is faster than for loop for {:.02f}-{:.02f} times!\".format(max(perf_datas), min(perf_datas)))"
   ]
  },
  {
   "cell_type": "markdown",
   "metadata": {},
   "source": [
    "<a id='s5'></a>\n",
    "## <font color='darkblue'>Matrics</font>\n",
    "([link](https://www.udemy.com/course/deep-learning-prerequisites-the-numpy-stack-in-python/learn/lecture/19643388#overview)) Let's check <b>[numpy.matrix](https://numpy.org/doc/stable/reference/generated/numpy.matrix.html)</b>"
   ]
  },
  {
   "cell_type": "code",
   "execution_count": 26,
   "metadata": {},
   "outputs": [
    {
     "data": {
      "text/plain": [
       "array([[1, 2],\n",
       "       [3, 4]])"
      ]
     },
     "execution_count": 26,
     "metadata": {},
     "output_type": "execute_result"
    }
   ],
   "source": [
    "L = [[1,2], [3,4]]\n",
    "A = np.array(L)\n",
    "A"
   ]
  },
  {
   "cell_type": "markdown",
   "metadata": {},
   "source": [
    "Let's check how to play with this matrix like array:"
   ]
  },
  {
   "cell_type": "code",
   "execution_count": 27,
   "metadata": {},
   "outputs": [
    {
     "data": {
      "text/plain": [
       "2"
      ]
     },
     "execution_count": 27,
     "metadata": {},
     "output_type": "execute_result"
    }
   ],
   "source": [
    "A[0, 1]  # = L[0][1]"
   ]
  },
  {
   "cell_type": "code",
   "execution_count": 28,
   "metadata": {},
   "outputs": [
    {
     "data": {
      "text/plain": [
       "array([1, 3])"
      ]
     },
     "execution_count": 28,
     "metadata": {},
     "output_type": "execute_result"
    }
   ],
   "source": [
    "A[:, 0]  # Get first element of every row"
   ]
  },
  {
   "cell_type": "code",
   "execution_count": 29,
   "metadata": {},
   "outputs": [
    {
     "data": {
      "text/plain": [
       "array([[ 2.71828183,  7.3890561 ],\n",
       "       [20.08553692, 54.59815003]])"
      ]
     },
     "execution_count": 29,
     "metadata": {},
     "output_type": "execute_result"
    }
   ],
   "source": [
    "np.exp(A) # Calculate exponential of every element"
   ]
  },
  {
   "cell_type": "code",
   "execution_count": 30,
   "metadata": {},
   "outputs": [
    {
     "data": {
      "text/plain": [
       "array([[1, 2, 3],\n",
       "       [4, 5, 6]])"
      ]
     },
     "execution_count": 30,
     "metadata": {},
     "output_type": "execute_result"
    }
   ],
   "source": [
    "B = np.array([[1,2,3], [4,5,6]])\n",
    "B"
   ]
  },
  {
   "cell_type": "code",
   "execution_count": 31,
   "metadata": {},
   "outputs": [
    {
     "data": {
      "text/plain": [
       "array([[ 9, 12, 15],\n",
       "       [19, 26, 33]])"
      ]
     },
     "execution_count": 31,
     "metadata": {},
     "output_type": "execute_result"
    }
   ],
   "source": [
    "# A dot B\n",
    "A.dot(B)"
   ]
  },
  {
   "cell_type": "code",
   "execution_count": 32,
   "metadata": {},
   "outputs": [
    {
     "data": {
      "text/plain": [
       "-2.0000000000000004"
      ]
     },
     "execution_count": 32,
     "metadata": {},
     "output_type": "execute_result"
    }
   ],
   "source": [
    "np.linalg.det(A)"
   ]
  },
  {
   "cell_type": "code",
   "execution_count": 33,
   "metadata": {},
   "outputs": [
    {
     "data": {
      "text/plain": [
       "array([[-2. ,  1. ],\n",
       "       [ 1.5, -0.5]])"
      ]
     },
     "execution_count": 33,
     "metadata": {},
     "output_type": "execute_result"
    }
   ],
   "source": [
    "np.linalg.inv(A)"
   ]
  },
  {
   "cell_type": "code",
   "execution_count": 34,
   "metadata": {},
   "outputs": [
    {
     "data": {
      "text/plain": [
       "array([[1.00000000e+00, 0.00000000e+00],\n",
       "       [1.11022302e-16, 1.00000000e+00]])"
      ]
     },
     "execution_count": 34,
     "metadata": {},
     "output_type": "execute_result"
    }
   ],
   "source": [
    "# Get matrix Identity matrix\n",
    "# https://en.wikipedia.org/wiki/Identity_matrix\n",
    "np.linalg.inv(A).dot(A) "
   ]
  },
  {
   "cell_type": "code",
   "execution_count": 35,
   "metadata": {},
   "outputs": [
    {
     "data": {
      "text/plain": [
       "5"
      ]
     },
     "execution_count": 35,
     "metadata": {},
     "output_type": "execute_result"
    }
   ],
   "source": [
    "np.trace(A)"
   ]
  },
  {
   "cell_type": "code",
   "execution_count": 36,
   "metadata": {},
   "outputs": [
    {
     "data": {
      "text/plain": [
       "array([1, 4])"
      ]
     },
     "execution_count": 36,
     "metadata": {},
     "output_type": "execute_result"
    }
   ],
   "source": [
    "np.diag(A)"
   ]
  },
  {
   "cell_type": "code",
   "execution_count": 37,
   "metadata": {},
   "outputs": [
    {
     "data": {
      "text/plain": [
       "array([[1, 0],\n",
       "       [0, 4]])"
      ]
     },
     "execution_count": 37,
     "metadata": {},
     "output_type": "execute_result"
    }
   ],
   "source": [
    "np.diag([1, 4])"
   ]
  },
  {
   "cell_type": "code",
   "execution_count": 38,
   "metadata": {},
   "outputs": [
    {
     "data": {
      "text/plain": [
       "array([[-0.82456484, -0.41597356],\n",
       "       [ 0.56576746, -0.90937671]])"
      ]
     },
     "execution_count": 38,
     "metadata": {},
     "output_type": "execute_result"
    }
   ],
   "source": [
    "# https://en.wikipedia.org/wiki/Eigenvalues_and_eigenvectors\n",
    "Lam, V = np.linalg.eig(A)\n",
    "V"
   ]
  },
  {
   "cell_type": "code",
   "execution_count": 39,
   "metadata": {},
   "outputs": [
    {
     "data": {
      "text/plain": [
       "(array([ 0.30697009, -0.21062466]), array([ 0.30697009, -0.21062466]))"
      ]
     },
     "execution_count": 39,
     "metadata": {},
     "output_type": "execute_result"
    }
   ],
   "source": [
    "V[:,0] * Lam[0], A @ V[:,0]"
   ]
  },
  {
   "cell_type": "code",
   "execution_count": 40,
   "metadata": {},
   "outputs": [
    {
     "data": {
      "text/plain": [
       "True"
      ]
     },
     "execution_count": 40,
     "metadata": {},
     "output_type": "execute_result"
    }
   ],
   "source": [
    "np.allclose(V[:,0] * Lam[0], A @ V[:,0])"
   ]
  },
  {
   "cell_type": "code",
   "execution_count": 41,
   "metadata": {},
   "outputs": [
    {
     "data": {
      "text/plain": [
       "True"
      ]
     },
     "execution_count": 41,
     "metadata": {},
     "output_type": "execute_result"
    }
   ],
   "source": [
    "np.allclose(V @ np.diag(Lam), A @ V)"
   ]
  },
  {
   "cell_type": "markdown",
   "metadata": {},
   "source": [
    "<a id='s6'></a>\n",
    "## <font color='darkblue'>Solving Linear Systems</font>\n",
    "([link](https://www.udemy.com/course/deep-learning-prerequisites-the-numpy-stack-in-python/learn/lecture/19643390#overview)) The admission fee at a small fair is \\\\$1.5 for children and \\\\$4 for adults. On a certain day, 2,200 people enter the fair and $5050 is collected. How many children and how many adults attend?<br/>\n",
    "![VectorAndMatrix](images/S2_6.PNG)\n",
    "<br/>\n",
    "\n",
    "Above equation can be expressed by matrix as below:\n",
    "![VectorAndMatrix](images/S2_7.PNG)\n",
    "<br/>\n",
    "\n",
    "### <font color='darkgreen'>Don't do that literally!</font>\n",
    "* The \"inverse\" is slower and less accurate\n",
    "* There are better algorithms to solve linear systems\n",
    "```pyhton\n",
    "x = np.linalg.solve(A, b) # yes\n",
    "x = np.linalg.inv(A).dot(b) # no\n",
    "```"
   ]
  },
  {
   "cell_type": "code",
   "execution_count": 42,
   "metadata": {},
   "outputs": [],
   "source": [
    "A = np.array([[1,1], [1.5, 4]])\n",
    "b = np.array([2200, 5050])"
   ]
  },
  {
   "cell_type": "code",
   "execution_count": 43,
   "metadata": {},
   "outputs": [
    {
     "data": {
      "text/plain": [
       "array([1500.,  700.])"
      ]
     },
     "execution_count": 43,
     "metadata": {},
     "output_type": "execute_result"
    }
   ],
   "source": [
    "np.linalg.solve(A, b)"
   ]
  },
  {
   "cell_type": "code",
   "execution_count": 44,
   "metadata": {},
   "outputs": [
    {
     "data": {
      "text/plain": [
       "array([1500.,  700.])"
      ]
     },
     "execution_count": 44,
     "metadata": {},
     "output_type": "execute_result"
    }
   ],
   "source": [
    "np.linalg.inv(A).dot(b)"
   ]
  },
  {
   "cell_type": "markdown",
   "metadata": {},
   "source": [
    "<a id='s7'></a>\n",
    "## <font color='darkblue'>Generating Data</font>\n",
    "([link](https://www.udemy.com/course/deep-learning-prerequisites-the-numpy-stack-in-python/learn/lecture/19643396#overview)) Let's check a few methods in numpy to generate data ([Array creation routines](https://numpy.org/doc/stable/reference/routines.array-creation.html)):"
   ]
  },
  {
   "cell_type": "code",
   "execution_count": 45,
   "metadata": {
    "scrolled": true
   },
   "outputs": [
    {
     "data": {
      "text/plain": [
       "array([[0., 0., 0.],\n",
       "       [0., 0., 0.]])"
      ]
     },
     "execution_count": 45,
     "metadata": {},
     "output_type": "execute_result"
    }
   ],
   "source": [
    "np.zeros((2, 3))"
   ]
  },
  {
   "cell_type": "code",
   "execution_count": 46,
   "metadata": {},
   "outputs": [
    {
     "data": {
      "text/plain": [
       "array([[1., 1., 1.],\n",
       "       [1., 1., 1.]])"
      ]
     },
     "execution_count": 46,
     "metadata": {},
     "output_type": "execute_result"
    }
   ],
   "source": [
    "np.ones((2, 3))"
   ]
  },
  {
   "cell_type": "code",
   "execution_count": 47,
   "metadata": {},
   "outputs": [
    {
     "data": {
      "text/plain": [
       "array([[1., 0., 0.],\n",
       "       [0., 1., 0.],\n",
       "       [0., 0., 1.]])"
      ]
     },
     "execution_count": 47,
     "metadata": {},
     "output_type": "execute_result"
    }
   ],
   "source": [
    "np.eye(3)"
   ]
  },
  {
   "cell_type": "code",
   "execution_count": 48,
   "metadata": {},
   "outputs": [
    {
     "data": {
      "text/plain": [
       "array([[0.17345281, 0.46932682, 0.06605455],\n",
       "       [0.34730238, 0.21234493, 0.8294856 ]])"
      ]
     },
     "execution_count": 48,
     "metadata": {},
     "output_type": "execute_result"
    }
   ],
   "source": [
    "np.random.random((2, 3))"
   ]
  },
  {
   "cell_type": "code",
   "execution_count": 49,
   "metadata": {},
   "outputs": [
    {
     "data": {
      "text/plain": [
       "array([[ 1.03188099, -0.76849746,  0.98229427],\n",
       "       [ 0.44517005, -0.39458272,  0.63536388]])"
      ]
     },
     "execution_count": 49,
     "metadata": {},
     "output_type": "execute_result"
    }
   ],
   "source": [
    "# number is generated by normal distribution\n",
    "np.random.randn(2, 3)"
   ]
  },
  {
   "cell_type": "code",
   "execution_count": 50,
   "metadata": {},
   "outputs": [],
   "source": [
    "R = np.random.randn(10000)"
   ]
  },
  {
   "cell_type": "code",
   "execution_count": 51,
   "metadata": {},
   "outputs": [
    {
     "data": {
      "text/plain": [
       "-0.0016408931336383346"
      ]
     },
     "execution_count": 51,
     "metadata": {},
     "output_type": "execute_result"
    }
   ],
   "source": [
    "R.mean() # = np.mean(R)"
   ]
  },
  {
   "cell_type": "code",
   "execution_count": 52,
   "metadata": {},
   "outputs": [
    {
     "data": {
      "text/plain": [
       "0.9970056699986533"
      ]
     },
     "execution_count": 52,
     "metadata": {},
     "output_type": "execute_result"
    }
   ],
   "source": [
    "R.std()"
   ]
  },
  {
   "cell_type": "code",
   "execution_count": 53,
   "metadata": {},
   "outputs": [
    {
     "data": {
      "text/plain": [
       "0.9940203060094635"
      ]
     },
     "execution_count": 53,
     "metadata": {},
     "output_type": "execute_result"
    }
   ],
   "source": [
    "R.var()"
   ]
  },
  {
   "cell_type": "code",
   "execution_count": 54,
   "metadata": {},
   "outputs": [],
   "source": [
    "R = np.random.randn(10000, 3)"
   ]
  },
  {
   "cell_type": "code",
   "execution_count": 55,
   "metadata": {},
   "outputs": [
    {
     "data": {
      "text/plain": [
       "array([-0.01215554,  0.00712237,  0.01459562])"
      ]
     },
     "execution_count": 55,
     "metadata": {},
     "output_type": "execute_result"
    }
   ],
   "source": [
    "R.mean(axis=0)"
   ]
  },
  {
   "cell_type": "code",
   "execution_count": 56,
   "metadata": {},
   "outputs": [
    {
     "data": {
      "text/plain": [
       "array([-0.44923692,  1.09969312, -0.23758334, ...,  0.32469015,\n",
       "       -0.28590611,  0.39923162])"
      ]
     },
     "execution_count": 56,
     "metadata": {},
     "output_type": "execute_result"
    }
   ],
   "source": [
    "R.mean(axis=1)"
   ]
  },
  {
   "cell_type": "code",
   "execution_count": 57,
   "metadata": {},
   "outputs": [
    {
     "data": {
      "text/plain": [
       "(10000, 3)"
      ]
     },
     "execution_count": 57,
     "metadata": {},
     "output_type": "execute_result"
    }
   ],
   "source": [
    "R.shape"
   ]
  },
  {
   "cell_type": "code",
   "execution_count": 58,
   "metadata": {},
   "outputs": [
    {
     "data": {
      "text/plain": [
       "(3, 3)"
      ]
     },
     "execution_count": 58,
     "metadata": {},
     "output_type": "execute_result"
    }
   ],
   "source": [
    "np.cov(R.T).shape #  = np.cov(R, rowvar=False)"
   ]
  },
  {
   "cell_type": "code",
   "execution_count": 59,
   "metadata": {},
   "outputs": [
    {
     "data": {
      "text/plain": [
       "array([[6, 0, 2],\n",
       "       [0, 1, 1],\n",
       "       [6, 3, 0]])"
      ]
     },
     "execution_count": 59,
     "metadata": {},
     "output_type": "execute_result"
    }
   ],
   "source": [
    "# https://docs.scipy.org/doc//numpy-1.11.0/reference/generated/numpy.random.randint.html\n",
    "np.random.randint(0, 10, size=(3,3))"
   ]
  },
  {
   "cell_type": "code",
   "execution_count": 60,
   "metadata": {},
   "outputs": [
    {
     "data": {
      "text/plain": [
       "array([[1, 6, 3],\n",
       "       [2, 5, 1],\n",
       "       [2, 2, 7]])"
      ]
     },
     "execution_count": 60,
     "metadata": {},
     "output_type": "execute_result"
    }
   ],
   "source": [
    "# https://docs.scipy.org/doc//numpy-1.10.4/reference/generated/numpy.random.choice.html\n",
    "np.random.choice(10, size=(3,3))"
   ]
  },
  {
   "cell_type": "markdown",
   "metadata": {},
   "source": [
    "<a id='s8'></a>\n",
    "## <font color='darkblue'>Numpy Exercise</font>\n",
    "([link](https://www.udemy.com/course/deep-learning-prerequisites-the-numpy-stack-in-python/learn/lecture/19643400#overview))\n",
    "* I will not provide the solution - you should discuss the problem with your peers using the forum\n",
    "* Earlier, we did a speed test to compare list vs. array dot product\n",
    "* Do a similar speed test, but for matrix multiplication\n",
    "* You will have to implement matrix multiplication for lists"
   ]
  },
  {
   "cell_type": "code",
   "execution_count": 61,
   "metadata": {},
   "outputs": [],
   "source": [
    "@time_diff\n",
    "def mm_by_for_loop(m1, m2):\n",
    "    new_matrix_shape = (m1.shape[0], m2.shape[1])\n",
    "    new_matrix = np.zeros(new_matrix_shape)\n",
    "    for ri, row in enumerate(m1):\n",
    "        for ci, col in enumerate(m2.T):\n",
    "            new_matrix[ri, ci] = np.sum(row * col)\n",
    "            \n",
    "    return new_matrix\n",
    "\n",
    "\n",
    "@time_diff\n",
    "def mm_by_numpy_style(m1, m2):\n",
    "    return m1.dot(m2)\n",
    "\n",
    "# m1 = np.array([[1,2], [3,4]])\n",
    "# m2 = np.array([[1,2,3], [4,5,6]])"
   ]
  },
  {
   "cell_type": "code",
   "execution_count": 62,
   "metadata": {},
   "outputs": [
    {
     "name": "stdout",
     "output_type": "stream",
     "text": [
      "Numpy style is faster for 752.99 times!\n",
      "Numpy style is faster for 497.84 times!\n",
      "Numpy style is faster for 512.49 times!\n",
      "Numpy style is faster for 565.53 times!\n",
      "Numpy style is faster for 592.02 times!\n"
     ]
    }
   ],
   "source": [
    "perf_datas = []\n",
    "for array_size in range(500, 1000, 100):\n",
    "    m1 = np.random.randn(array_size, array_size)\n",
    "    m2 = np.random.randn(array_size, array_size)\n",
    "\n",
    "    \n",
    "    t1, m3 = mm_by_for_loop(m1, m2)\n",
    "    t2, m3 = mm_by_numpy_style(m1, m2)\n",
    "\n",
    "    # print(\"dot1={}/dot2={}\".format(dot1, dot2))\n",
    "    print(\"Numpy style is faster for {:.02f} times!\".format(t1.total_seconds()/t2.total_seconds()))\n",
    "    perf_datas.append(t1.total_seconds()/t2.total_seconds())"
   ]
  }
 ],
 "metadata": {
  "kernelspec": {
   "display_name": "Python 3",
   "language": "python",
   "name": "python3"
  },
  "language_info": {
   "codemirror_mode": {
    "name": "ipython",
    "version": 3
   },
   "file_extension": ".py",
   "mimetype": "text/x-python",
   "name": "python",
   "nbconvert_exporter": "python",
   "pygments_lexer": "ipython3",
   "version": "3.6.7"
  }
 },
 "nbformat": 4,
 "nbformat_minor": 2
}
