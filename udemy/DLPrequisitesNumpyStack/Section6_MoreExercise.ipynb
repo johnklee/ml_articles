{
 "cells": [
  {
   "cell_type": "markdown",
   "metadata": {},
   "source": [
    "## <font color='darkblue'>Section6 - Exercises and Machine Learning Expansion Pack</font>\n",
    "This notebook is created from udemy course \"<b>[Deep Learning Prerequisites: The Numpy Stack in Python](https://www.udemy.com/course/deep-learning-prerequisites-the-numpy-stack-in-python/)</b>\" which introducts Numpy, Scipy, Pandas, and Matplotlib: prep for deep learning, machine learning, and artificial intelligence.\n",
    "\n",
    "## <font color='darkblue'>More Exercises</font>\n",
    "([link](https://www.udemy.com/course/deep-learning-prerequisites-the-numpy-stack-in-python/learn/lecture/7984298#overview))\n",
    "* The right way to practice what you learned in the course is to implement machine learning algorithms\n",
    "* But to do that, you need to learn new theory about how those ML algorithms work\n",
    "* We can't just cover that in a few minutes - people can and have written 1000 page books about those algorithms!\n",
    "* This is machine learning prerequisites, we don't want to discuss machine learning itself, then it's not \"prerequisites\", it's just machine learning!\n",
    "\n",
    "### <font color='darkgreen'>Ex1</font>\n",
    "Consider we have matrix `A` and array `v`:"
   ]
  },
  {
   "cell_type": "code",
   "execution_count": 17,
   "metadata": {},
   "outputs": [],
   "source": [
    "import pandas as pd\n",
    "import numpy as np\n",
    "A = [\n",
    "    [0.3, 0.6, 0.1],\n",
    "    [0.5, 0.2, 0.3],\n",
    "    [0.4, 0.1, 0.5]\n",
    "]\n",
    "v = [0.1, 0.1, 0.3]"
   ]
  },
  {
   "cell_type": "markdown",
   "metadata": {},
   "source": [
    "You can also initialize `v` to be random numbers, just need to sum up to 1. Then let's do this loop for 25 times:\n",
    "* v' = vA\n",
    "* v = v'"
   ]
  },
  {
   "cell_type": "code",
   "execution_count": 23,
   "metadata": {},
   "outputs": [],
   "source": [
    "from scipy.spatial import distance\n",
    "\n",
    "A, v = np.array(A), np.array(v)\n",
    "v_dist = []\n",
    "for i in range(25):\n",
    "    v_ = v.dot(A)    \n",
    "    dist = distance.euclidean(v, v_)\n",
    "    # if i and i % 10 == 0:\n",
    "    #    print(\"time-{}:\\n{}, dist={:.05f}\\n\\n\".format(i, v_, dist))\n",
    "    v_dist.append(dist)\n",
    "    v = v_\n",
    "    "
   ]
  },
  {
   "cell_type": "code",
   "execution_count": 27,
   "metadata": {},
   "outputs": [
    {
     "data": {
      "text/plain": [
       "7.0710678118654755"
      ]
     },
     "execution_count": 27,
     "metadata": {},
     "output_type": "execute_result"
    }
   ],
   "source": [
    "distance.euclidean(np.array([0, 0]), np.array([5, 5]))"
   ]
  },
  {
   "cell_type": "markdown",
   "metadata": {},
   "source": [
    "From above result, what's the meaming behind those operations?\n",
    "\n",
    "### <font color='darkgreen'>Ex2</font>\n",
    "* Demonstrate the central limit theorem (CLT)\n",
    "* Recall: If Y = $X_1$ + $X_2$, ...+ $X_N$ where X are IID, then N -> infinity, Y -> Gaussian distribution.\n",
    "* Use the uniform distribution as your base for X\n",
    "* Use N = 1000 (or higer)\n",
    "* Then draw 1000 Y's\n",
    "* Plot histogram of Y's -> should be a \"bell curve\"\n",
    "* Bonus: find the expected mean and variance of Y"
   ]
  },
  {
   "cell_type": "markdown",
   "metadata": {},
   "source": [
    "### <font color='darkgreen'>Ex3</font>\n",
    "* Load in the MNIST dataset and plot the mean (average) image for each digit class (0...9)\n",
    "* Recall: mean = sum / num of elements"
   ]
  },
  {
   "cell_type": "markdown",
   "metadata": {},
   "source": [
    "### <font color='darkgreen'>Ex4</font>\n",
    "* Continue to work with the MNIST dataset\n",
    "* Common C programming exercise (with for loops and array indexing)\n",
    "* Write a function that flips an image 90 degree clockwise\n",
    "* Try both the \"for loop method\" and by making use of Numpy functions"
   ]
  },
  {
   "cell_type": "markdown",
   "metadata": {},
   "source": [
    "### <font color='darkgreen'>Ex5</font>\n",
    "* Write a function that tests whether or not a matrix is symmetric, ie.\n",
    "```python\n",
    "def is_symmetric(matrix):\n",
    "    pass\n",
    "```\n",
    "* Try it both ways: the \"manual way\" (i.e. by using the definition) and by making use of Numpy functions"
   ]
  },
  {
   "cell_type": "markdown",
   "metadata": {},
   "source": [
    "### <font color='darkgreen'>Ex6</font>\n",
    "* Generate and plot this dataset (XOR)\n",
    "* Recall: 0 XOR 0 = 0; 0 XOR 1 = 1, ..."
   ]
  },
  {
   "cell_type": "markdown",
   "metadata": {},
   "source": [
    "### <font color='darkgreen'>Ex7</font>\n",
    "* Generate and plot this dataset (donuts)"
   ]
  },
  {
   "cell_type": "markdown",
   "metadata": {},
   "source": [
    "### <font color='darkgreen'>Ex8</font>\n",
    "* Generate and plot this dataset (spiral)\n",
    "* One possibility is to parameterize radius and angle\n",
    "![exercise 8](images/S6_1.PNG)"
   ]
  },
  {
   "cell_type": "markdown",
   "metadata": {},
   "source": [
    "### <font color=\"darkgreen\">Ex9</font>\n",
    "* Hopefully you noticed the last 3 datasets all had the exact same structure\n",
    "\n",
    "| X1 | X2 | Y |\n",
    "|----|----|---| \n",
    "| 0.1| 0.2| 1 |\n",
    "| 1.0| 0.1| 0 |\n",
    "\n",
    "* Take any of the datasets you previously generated, and save it to CSV with these headers, using Pandas"
   ]
  }
 ],
 "metadata": {
  "kernelspec": {
   "display_name": "Python 3",
   "language": "python",
   "name": "python3"
  },
  "language_info": {
   "codemirror_mode": {
    "name": "ipython",
    "version": 3
   },
   "file_extension": ".py",
   "mimetype": "text/x-python",
   "name": "python",
   "nbconvert_exporter": "python",
   "pygments_lexer": "ipython3",
   "version": "3.6.7"
  }
 },
 "nbformat": 4,
 "nbformat_minor": 2
}
