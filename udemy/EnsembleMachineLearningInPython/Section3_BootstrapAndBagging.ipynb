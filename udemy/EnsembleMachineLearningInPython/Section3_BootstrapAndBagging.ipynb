{
 "cells": [
  {
   "cell_type": "markdown",
   "metadata": {},
   "source": [
    "## <font color='darkblue'>Section3: Bootstrap Estimations and Bagging</font>\n",
    "This course is from Udemy <b>[\"Ensemble Machine Learning in Python\"](https://www.udemy.com/course/machine-learning-in-python-random-forest-adaboost/)</b>. This section is coming from [here](https://www.udemy.com/course/machine-learning-in-python-random-forest-adaboost/learn/lecture/6240244#overview).\n",
    "\n",
    "## <font color='darkBlue'>Bootstrap Estimation</font>\n",
    "* I hinted earlier that combining several models could help us get lower bias and lower variance at the same time\n",
    "* Key tool we need first: <b>[Bootstrapping](https://en.wikipedia.org/wiki/Bootstrapping_(statistics))</b>\n",
    "* aka. resampling\n",
    "* Fascinating result:\n",
    "    * Same data\n",
    "    * Calculate the same thing several times\n",
    "    * Better results!\n",
    "* But first, let's look at bootstrap for simple parameter estimates like mean\n",
    "> Given: X = {$x_{1}$,$x_{2}$,...,$x_{N}$} <br/>\n",
    "> for b=1..B: <br/>\n",
    ">     $X_{b}$ = sample_with_replacement(X) # size of $X_{b}$ is N <br/>\n",
    ">     sample_mean[b] = sum($X_{b}$)/N <br/>\n",
    "> Calculate mean and variance of {sample_mean[1], ..., sample_mean[B]} <br/>\n",
    "> Why? Big variance -> not confident about value of mean <br/>\n",
    "\n",
    "### <font color='darkgreen'>Sampling with replacement</font>\n",
    "> Given X = {1,2,3,4,5} <br/>\n",
    "> I sample from this and I get 5 <br/>\n",
    "> I sample again and I can get 5 again. <br/>\n",
    "> In fact, it's possible to get {5,5,5,5,5} <br/>\n",
    "> If I sampled without replacement, the only possible result is the original dataset (not considering order) <br/>\n",
    "\n",
    "## <font color='darkblue'>Bootstrap Demo</font>\n",
    "This part will show the parameters of bootstrap and code is from [`bootstrap.py`](https://github.com/lazyprogrammer/machine_learning_examples/blob/master/supervised_class2/bootstrap.py)"
   ]
  },
  {
   "cell_type": "code",
   "execution_count": 1,
   "metadata": {},
   "outputs": [
    {
     "name": "stdout",
     "output_type": "stream",
     "text": [
      "sample mean of X: -0.15392533249371892\n"
     ]
    }
   ],
   "source": [
    "import numpy as np\n",
    "import matplotlib.pyplot as plt\n",
    "from scipy.stats import norm, t\n",
    "\n",
    "B = 200\n",
    "N = 20\n",
    "X = np.random.randn(N)\n",
    "\n",
    "print(\"sample mean of X:\", X.mean())"
   ]
  },
  {
   "cell_type": "markdown",
   "metadata": {},
   "source": [
    "Now let's do the bootstrap:"
   ]
  },
  {
   "cell_type": "code",
   "execution_count": 2,
   "metadata": {},
   "outputs": [],
   "source": [
    "individual_estimates = np.empty(B)\n",
    "for b in range(B):\n",
    "    sample = np.random.choice(X, size=N)\n",
    "    individual_estimates[b] = sample.mean()"
   ]
  },
  {
   "cell_type": "markdown",
   "metadata": {},
   "source": [
    "Now let's check the parameters of bootstrap result:"
   ]
  },
  {
   "cell_type": "code",
   "execution_count": 4,
   "metadata": {},
   "outputs": [
    {
     "name": "stdout",
     "output_type": "stream",
     "text": [
      "bootstrap mean of X: -0.14954959743576476\n"
     ]
    },
    {
     "data": {
      "image/png": "[encoded data removed]",
      "text/plain": [
       "<Figure size 432x288 with 1 Axes>"
      ]
     },
     "metadata": {
      "needs_background": "light"
     },
     "output_type": "display_data"
    }
   ],
   "source": [
    "bmean = individual_estimates.mean()\n",
    "bstd = individual_estimates.std()\n",
    "lower = bmean + norm.ppf(0.025)*bstd # norm.ppf(0.025) == -1.96\n",
    "upper = bmean + norm.ppf(0.975)*bstd # norm.ppf(0.975) == +1.96\n",
    "\n",
    "# traditional way of calculating CI\n",
    "lower2 = X.mean() + norm.ppf(0.025)*X.std()/np.sqrt(N)\n",
    "upper2 = X.mean() + norm.ppf(0.975)*X.std()/np.sqrt(N)\n",
    "\n",
    "print(\"bootstrap mean of X:\", bmean)\n",
    "\n",
    "plt.hist(individual_estimates, bins=20)\n",
    "plt.axvline(x=lower, linestyle='--', color='g', label=\"lower bound for 95% CI (bootstrap)\")\n",
    "plt.axvline(x=upper, linestyle='--', color='g', label=\"upper bound for 95% CI (bootstrap)\")\n",
    "plt.axvline(x=lower2, linestyle='--', color='r', label=\"lower bound for 95% CI\")\n",
    "plt.axvline(x=upper2, linestyle='--', color='r', label=\"upper bound for 95% CI\")\n",
    "plt.legend()\n",
    "plt.show()"
   ]
  },
  {
   "cell_type": "markdown",
   "metadata": {},
   "source": [
    "## <font color='darkblue'>Bagging</font>\n",
    "([link](https://www.udemy.com/course/machine-learning-in-python-random-forest-adaboost/learn/lecture/6240248#overview))\n",
    "* Bagging = bootstrap aggregating = application of bootstrap to ML models.\n",
    "* Looks exactly like bootstrapping except instead of calculating a \"theta_hat\", we train a model instead.\n",
    "\n",
    "### <font color='darkgreen'>Training</font>\n",
    "Pseudo code as below:\n",
    "```python\n",
    "models = []\n",
    "for b = 1..B:\n",
    "    model = Model()\n",
    "    Xb, Yb = resample(X)\n",
    "    model.fit(Xb, Yb)\n",
    "    models.append(model)\n",
    "```\n",
    "\n",
    "### <font color='darkgreen'>Prediction</font>\n",
    "Average if regression, vote if classification. Pseudo code for regression:\n",
    "```python\n",
    "def predict(X):\n",
    "    return np.mean([model.predict(X) for model in models], axis=1)\n",
    "```\n",
    "Classification is harder b/c we need to collect the votes. If classifier returns class probabilities, we can just use avaraging.\n",
    "\n",
    "### <font color='darkgreen'>Classification (Naive)</font>\n",
    "```python\n",
    "def predict_one(x):\n",
    "    votes = {}\n",
    "    for model in models:\n",
    "        k = model.predict(x)\n",
    "        votes[k]++\n",
    "        \n",
    "    argmax = 0, max = -inf # doesn't sort, that's O(NlogN)\n",
    "    for k, v in votes.iteritems():\n",
    "        if v > max:\n",
    "            argmax = k; max = v\n",
    "            \n",
    "    return argmax\n",
    "```\n",
    "Then we can predict multiple instance by pseudo code below:\n",
    "```python\n",
    "def predict(X):\n",
    "    # `N` as number of instance in `X`\n",
    "    # `K` as number of class\n",
    "    output = np.zeros((N,K))\n",
    "    for model in models:\n",
    "        output[np.arange(N), model.predict(X)] + 1\n",
    "    return output.argmax(axis=1)\n",
    "```\n",
    "### <font color='darkgreen'>Classification (Binary)</font>\n",
    "```python\n",
    "def predict(X):\n",
    "    # `N` as number of instance in `X`\n",
    "    # `B` as number of model in `models`\n",
    "    output = np.zeros(N)\n",
    "    for model in models:\n",
    "        output += models.predict(X)\n",
    "    return np.round(output/B)\n",
    "```\n",
    "\n",
    "## <font color='darkblue'>Bagging Regression Tree</font>\n",
    "([link](https://www.udemy.com/course/machine-learning-in-python-random-forest-adaboost/learn/lecture/6240250#questions))"
   ]
  }
 ],
 "metadata": {
  "kernelspec": {
   "display_name": "Python 3",
   "language": "python",
   "name": "python3"
  },
  "language_info": {
   "codemirror_mode": {
    "name": "ipython",
    "version": 3
   },
   "file_extension": ".py",
   "mimetype": "text/x-python",
   "name": "python",
   "nbconvert_exporter": "python",
   "pygments_lexer": "ipython3",
   "version": "3.6.7"
  }
 },
 "nbformat": 4,
 "nbformat_minor": 2
}
