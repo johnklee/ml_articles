{
 "cells": [
  {
   "cell_type": "markdown",
   "id": "7dcafcd8",
   "metadata": {},
   "source": [
    "## <font color='darkblue'>Preface</font>\n",
    "([article source](https://realpython.com/python-keras-text-classification/)) <font size='3ptx'><b>Imagine you could know the mood of the people on the Internet. Maybe you are not interested in its entirety, but only if people are today happy on your favorite social media platform. After this tutorial, you’ll be equipped to do this. While doing this, you will get a grasp of current advancements of (deep) neural networks and how they can be applied to text.</b></font>\n",
    "\n",
    "Reading the mood from text with machine learning is called [**sentiment analysis**](https://realpython.com/sentiment-analysis-python/), and it is one of the prominent use cases in text classification. This falls into the very active research field of [**natural language processing**](https://realpython.com/nltk-nlp-python/) (NLP). Other common use cases of text classification include detection of spam, auto tagging of customer queries, and categorization of text into defined topics. So how can you do this?"
   ]
  },
  {
   "cell_type": "markdown",
   "id": "c2dc853e",
   "metadata": {},
   "source": [
    "<a id='sect0'></a>\n",
    "### <font color='darkgreen'>Agenda</font>\n",
    "* <font size='3ptx'><b><a href='#sect1'>Choosing a Data Set</a></b></font>\n",
    "* <font size='3ptx'><b><a href='#sect2'>Defining a Baseline Model</a></b></font>\n",
    "* <font size='3ptx'><b><a href='#sect3'>A Primer on (Deep) Neural Networks</a></b></font>\n",
    "* <font size='3ptx'><b><a href='#sect4'>What Is a Word Embedding?</a></b></font>"
   ]
  },
  {
   "cell_type": "code",
   "execution_count": 74,
   "id": "a0eb2590",
   "metadata": {},
   "outputs": [],
   "source": [
    "import os\n",
    "import matplotlib.pyplot as plt\n",
    "import pandas as pd\n",
    "\n",
    "from sklearn.feature_extraction.text import CountVectorizer\n",
    "\n",
    "from sklearn.dummy import DummyClassifier\n",
    "from sklearn.linear_model import LogisticRegression\n",
    "from sklearn.model_selection import train_test_split\n",
    "from sklearn.preprocessing import OneHotEncoder\n",
    "from sklearn.preprocessing import LabelEncoder\n",
    "\n",
    "from keras.models import Sequential\n",
    "from keras import layers\n",
    "from keras.backend import clear_session\n",
    "from keras.preprocessing.text import Tokenizer\n",
    "from keras.preprocessing.sequence import pad_sequences\n",
    "\n",
    "os.environ['TF_CPP_MIN_LOG_LEVEL'] = '3'\n",
    "plt.style.use('ggplot')"
   ]
  },
  {
   "cell_type": "code",
   "execution_count": 2,
   "id": "8ef3ee2c",
   "metadata": {},
   "outputs": [
    {
     "data": {
      "text/plain": [
       "' The percentage of dataset used for testing. '"
      ]
     },
     "execution_count": 2,
     "metadata": {},
     "output_type": "execute_result"
    }
   ],
   "source": [
    "RANDOM_STATE = 42\n",
    "''' Random state use in many occasions such as spliting dataset into train/test.'''\n",
    "\n",
    "TEST_SIZE = 0.25\n",
    "''' The percentage of dataset used for testing. '''"
   ]
  },
  {
   "cell_type": "markdown",
   "id": "cc83e6ea",
   "metadata": {},
   "source": [
    "<a id='sect1'></a>\n",
    "## <font color='darkblue'>Choosing a Data Set</font>\n",
    "<font size='3ptx'><b>Before we start, let’s take a look at what data we have. Go ahead and download the data set from the [Sentiment Labelled Sentences Data Set](https://archive.ics.uci.edu/ml/datasets/Sentiment+Labelled+Sentences) from the UCI Machine Learning Repository.</b></font>\n",
    "\n",
    "By the way, this repository is a wonderful source for machine learning data sets when you want to try out some algorithms. This data set includes labeled reviews from IMDb, Amazon, and Yelp. <b>Each review is marked with a score of 0 for a negative sentiment or 1 for a positive sentiment.</b>\n",
    "\n",
    "Extract the folder into a `sentiment_labelled_sentences` folder:"
   ]
  },
  {
   "cell_type": "code",
   "execution_count": 3,
   "id": "13cfbe89",
   "metadata": {},
   "outputs": [
    {
     "name": "stdout",
     "output_type": "stream",
     "text": [
      "data/sentiment_labelled_sentences/amazon_cells_labelled.txt\r\n",
      "data/sentiment_labelled_sentences/imdb_labelled.txt\r\n",
      "data/sentiment_labelled_sentences/yelp_labelled.txt\r\n"
     ]
    }
   ],
   "source": [
    "!ls data/sentiment_labelled_sentences/*.txt | grep -v 'readme.txt'"
   ]
  },
  {
   "cell_type": "code",
   "execution_count": 4,
   "id": "2a13b069",
   "metadata": {},
   "outputs": [
    {
     "name": "stdout",
     "output_type": "stream",
     "text": [
      "Wow... Loved this place.\t1\r\n",
      "Crust is not good.\t0\r\n",
      "Not tasty and the texture was just nasty.\t0\r\n"
     ]
    }
   ],
   "source": [
    "!head -n 3 data/sentiment_labelled_sentences/yelp_labelled.txt"
   ]
  },
  {
   "cell_type": "markdown",
   "id": "4d758ce5",
   "metadata": {},
   "source": [
    " Next, let's go ahead and load the data with Pandas:"
   ]
  },
  {
   "cell_type": "code",
   "execution_count": 5,
   "id": "482c218d",
   "metadata": {},
   "outputs": [
    {
     "data": {
      "text/html": [
       "<div>\n",
       "<style scoped>\n",
       "    .dataframe tbody tr th:only-of-type {\n",
       "        vertical-align: middle;\n",
       "    }\n",
       "\n",
       "    .dataframe tbody tr th {\n",
       "        vertical-align: top;\n",
       "    }\n",
       "\n",
       "    .dataframe thead th {\n",
       "        text-align: right;\n",
       "    }\n",
       "</style>\n",
       "<table border=\"1\" class=\"dataframe\">\n",
       "  <thead>\n",
       "    <tr style=\"text-align: right;\">\n",
       "      <th></th>\n",
       "      <th>sentence</th>\n",
       "      <th>label</th>\n",
       "      <th>source</th>\n",
       "    </tr>\n",
       "  </thead>\n",
       "  <tbody>\n",
       "    <tr>\n",
       "      <th>563</th>\n",
       "      <td>I believe that this place is a great stop for ...</td>\n",
       "      <td>1</td>\n",
       "      <td>yelp</td>\n",
       "    </tr>\n",
       "    <tr>\n",
       "      <th>837</th>\n",
       "      <td>I don't like this Nokia either.</td>\n",
       "      <td>0</td>\n",
       "      <td>amazon</td>\n",
       "    </tr>\n",
       "    <tr>\n",
       "      <th>182</th>\n",
       "      <td>The sound quality is good and functionality is...</td>\n",
       "      <td>1</td>\n",
       "      <td>amazon</td>\n",
       "    </tr>\n",
       "  </tbody>\n",
       "</table>\n",
       "</div>"
      ],
      "text/plain": [
       "                                              sentence  label  source\n",
       "563  I believe that this place is a great stop for ...      1    yelp\n",
       "837                    I don't like this Nokia either.      0  amazon\n",
       "182  The sound quality is good and functionality is...      1  amazon"
      ]
     },
     "execution_count": 5,
     "metadata": {},
     "output_type": "execute_result"
    }
   ],
   "source": [
    "filepath_dict = {'yelp':   'data/sentiment_labelled_sentences/yelp_labelled.txt',\n",
    "                 'amazon': 'data/sentiment_labelled_sentences/amazon_cells_labelled.txt',\n",
    "                 'imdb':   'data/sentiment_labelled_sentences/imdb_labelled.txt'}\n",
    "\n",
    "df_list = []\n",
    "for source, filepath in filepath_dict.items():\n",
    "    df = pd.read_csv(filepath, names=['sentence', 'label'], sep='\\t')\n",
    "    df['source'] = source  # Add another column filled with the source name\n",
    "    df_list.append(df)\n",
    "\n",
    "df = pd.concat(df_list)\n",
    "df.sample(n=3)"
   ]
  },
  {
   "cell_type": "markdown",
   "id": "ad73bd67",
   "metadata": {},
   "source": [
    "This looks about right. With this data set, you are able to train a model to predict the sentiment of a sentence. Take a quick moment to think about how you would go about predicting the data.\n",
    "\n",
    "One way you could do this is to <b>count the frequency of each word in each sentence and tie this count back to the entire set of words in the data set</b> (<font color='brown'>Also known as [**Bag of words**](https://en.wikipedia.org/wiki/Bag-of-words_model)</font>). You would start by taking the data and creating a vocabulary from all the words in all sentences. The collection of texts is also called a <font color='darkblue'><b>corpus</b></font> in NLP.\n",
    "\n",
    "<b>The vocabulary in this case is a list of words that occurred in our text where each word has its own index. This enables you to create a vector for a sentence</b>. You would then take the sentence you want to vectorize, and you count each occurrence in the vocabulary. <b>The resulting vector will be with the length of the vocabulary and a count for each word in the vocabulary</b>.\n",
    "\n",
    "<b>The resulting vector is also called a <font color='darkblue'>feature vector</font>. In a feature vector, each dimension can be a numeric or categorical feature</b>, like for example the height of a building, the price of a stock, or, in our case, the count of a word in a vocabulary. These feature vectors are a crucial piece in data science and machine learning, as the model you want to train depends on them.\n",
    "\n",
    "Let’s quickly illustrate this. Imagine you have the following two sentences:"
   ]
  },
  {
   "cell_type": "code",
   "execution_count": 6,
   "id": "5aa3e7e7",
   "metadata": {},
   "outputs": [],
   "source": [
    "sentences = ['John likes ice cream', 'John hates chocolate.']"
   ]
  },
  {
   "cell_type": "markdown",
   "id": "61535329",
   "metadata": {},
   "source": [
    "Next, you can use the [**CountVectorizer**](https://scikit-learn.org/stable/modules/generated/sklearn.feature_extraction.text.CountVectorizer.html) provided by the [**scikit-learn**](https://scikit-learn.org/stable/index.html) library to vectorize sentences. <b>It takes the words of each sentence and creates a vocabulary of all the unique words in the sentences</b>. This vocabulary can then be used to create a feature vector of the count of the words:"
   ]
  },
  {
   "cell_type": "code",
   "execution_count": 7,
   "id": "3225a422",
   "metadata": {},
   "outputs": [
    {
     "data": {
      "text/plain": [
       "{'John': 0, 'likes': 5, 'ice': 4, 'cream': 2, 'hates': 3, 'chocolate': 1}"
      ]
     },
     "execution_count": 7,
     "metadata": {},
     "output_type": "execute_result"
    }
   ],
   "source": [
    "vectorizer = CountVectorizer(min_df=0, lowercase=False)\n",
    "vectorizer.fit(sentences)\n",
    "vectorizer.vocabulary_"
   ]
  },
  {
   "cell_type": "markdown",
   "id": "d3969f71",
   "metadata": {},
   "source": [
    "This vocabulary serves also as an index of each word. Now, you can take each sentence and get the word occurrences of the words based on the previous vocabulary. <b>The vocabulary consists of all five words in our sentences, each representing one word in the vocabulary</b> (<font color='brown'>How about unseen words in future corpus or data?</font>). When you take the previous two sentences and transform them with the [**CountVectorizer**](https://scikit-learn.org/stable/modules/generated/sklearn.feature_extraction.text.CountVectorizer.html) you will get a vector representing the count of each word of the sentence:"
   ]
  },
  {
   "cell_type": "code",
   "execution_count": 8,
   "id": "b7240add",
   "metadata": {},
   "outputs": [
    {
     "data": {
      "text/plain": [
       "array([[1, 0, 1, 0, 1, 1],\n",
       "       [1, 1, 0, 1, 0, 0]])"
      ]
     },
     "execution_count": 8,
     "metadata": {},
     "output_type": "execute_result"
    }
   ],
   "source": [
    "vectorizer.transform(sentences).toarray()"
   ]
  },
  {
   "cell_type": "markdown",
   "id": "08485a7d",
   "metadata": {},
   "source": [
    "Now, you can see the resulting feature vectors for each sentence based on the previous vocabulary. For example, if you take a look at the first item, you can see that both vectors have a 1 there. This means that both sentences have one occurrence of `John`, which is in the first place in the vocabulary.\n",
    "\n",
    "This is considered a [**Bag-of-words (BOW)**](https://en.wikipedia.org/wiki/Bag-of-words_model) model, which is a common way in NLP to create vectors out of text. Each document is represented as a vector. You can use these vectors now as feature vectors for a machine learning model. This leads us to our next part, defining a baseline model."
   ]
  },
  {
   "cell_type": "markdown",
   "id": "3137eb80",
   "metadata": {},
   "source": [
    "<a id='sect2'></a>\n",
    "## <font color='darkblue'>Defining a Baseline Model</font> ([back](#sect0))\n",
    "<font size='3ptx'><b>When you work with machine learning, one important step is to define a baseline model</b></font>\n",
    "\n",
    "<b>This usually involves a simple model, which is then used as a comparison with the more advanced models that you want to test</b>. In this case, you’ll use the baseline model to compare it to the more advanced methods involving (deep) neural networks, the meat and potatoes of this tutorial.\n",
    "\n",
    "<b>First, you are going to split the data into a training and testing set which will allow you to evaluate the accuracy and see if your model generalizes well.</b> This means whether the model is able to perform well on data it has not seen before. This is a way to see if the model is [**overfitting**](https://en.wikipedia.org/wiki/Overfitting).\n",
    "\n",
    "<b>[Overfitting](https://en.wikipedia.org/wiki/Overfitting) is when a model is trained too well on the training data</b>. You want to avoid overfitting, as this would mean that the model mostly just memorized the training data. This would account for a large accuracy with the training data but a low accuracy in the testing data.\n",
    "\n",
    "![overfitting](images/overfitting.PNG)\n",
    "<br/>\n",
    "\n",
    "<font color='orange'>**Extends reading**</font>: [TensorFlow Core - Overfit and underfit ](https://www.tensorflow.org/tutorials/keras/overfit_and_underfit)\n",
    "<br/>\n",
    "\n",
    "We start by taking the [**Yelp data set**](https://www.yelp.com/dataset) which we extract from our concatenated data set. From there, we take the sentences and labels. The .values returns a NumPy array instead of a Pandas Series object which is in this context easier to work with:"
   ]
  },
  {
   "cell_type": "code",
   "execution_count": 9,
   "id": "59817bbf",
   "metadata": {},
   "outputs": [],
   "source": [
    "df_yelp = df[df['source'] == 'yelp']\n",
    "sentences = df_yelp['sentence'].values\n",
    "y = df_yelp['label'].values\n",
    "sentences_train, sentences_test, y_train, y_test = train_test_split(\n",
    "    sentences, y, test_size=TEST_SIZE, random_state=RANDOM_STATE)"
   ]
  },
  {
   "cell_type": "code",
   "execution_count": 10,
   "id": "079c8565",
   "metadata": {},
   "outputs": [
    {
     "data": {
      "text/plain": [
       "array(['The turkey and roast beef were bland.',\n",
       "       'Spend your money and time some place else.',\n",
       "       'Great atmosphere, friendly and fast service.'], dtype=object)"
      ]
     },
     "execution_count": 10,
     "metadata": {},
     "output_type": "execute_result"
    }
   ],
   "source": [
    "sentences_train[:3]"
   ]
  },
  {
   "cell_type": "markdown",
   "id": "2d17e70e",
   "metadata": {},
   "source": [
    "<b>Here we will use again on the previous BOW model to vectorize the sentences</b>. You can use again the [**CountVectorizer**](https://scikit-learn.org/stable/modules/generated/sklearn.feature_extraction.text.CountVectorizer.html) for this task. Since you might not have the testing data available during training, you can create the vocabulary using only the training data. Using this vocabulary, you can create the feature vectors for each sentence of the training and testing set:"
   ]
  },
  {
   "cell_type": "code",
   "execution_count": 11,
   "id": "5d991fae",
   "metadata": {},
   "outputs": [],
   "source": [
    "vectorizer = CountVectorizer()\n",
    "vectorizer.fit(sentences_train)\n",
    "\n",
    "X_train = vectorizer.transform(sentences_train)\n",
    "X_test  = vectorizer.transform(sentences_test)"
   ]
  },
  {
   "cell_type": "code",
   "execution_count": 12,
   "id": "7f0983d3",
   "metadata": {},
   "outputs": [
    {
     "name": "stdout",
     "output_type": "stream",
     "text": [
      "(750, 1728)\n"
     ]
    },
    {
     "data": {
      "text/plain": [
       "scipy.sparse.csr.csr_matrix"
      ]
     },
     "execution_count": 12,
     "metadata": {},
     "output_type": "execute_result"
    }
   ],
   "source": [
    "print(X_train.shape)\n",
    "X_train.__class__"
   ]
  },
  {
   "cell_type": "markdown",
   "id": "a0fa7f2f",
   "metadata": {},
   "source": [
    "<b>You can see that the resulting feature vectors have 750 samples which are the number of training samples we have after the train-test split. Each sample has 1728 dimensions which is the size of the vocabulary.</b> Also, you can see that we get a <b><font color='darkblue'>sparse matrix</font></b> ([Compressed Sparse Row matrix](https://docs.scipy.org/doc/scipy/reference/generated/scipy.sparse.csr_matrix.html#scipy.sparse.csr_matrix)). This is a data type that is optimized for matrices with only a few non-zero elements, which only keeps track of the non-zero elements reducing the memory load.\n",
    "\n",
    "[**CountVectorizer**](https://scikit-learn.org/stable/modules/generated/sklearn.feature_extraction.text.CountVectorizer.html) performs [tokenization](https://en.wikipedia.org/wiki/Lexical_analysis#Tokenization) which separates the sentences into a set of tokens as you saw previously in the vocabulary. <b>It additionally removes punctuation and special characters and can apply other preprocessing to each word</b>. If you want, you can use a custom tokenizer from the [**NLTK**](https://realpython.com/python-nltk-sentiment-analysis/) library with the [**CountVectorizer**](https://scikit-learn.org/stable/modules/generated/sklearn.feature_extraction.text.CountVectorizer.html) or use any number of the customizations which you can explore to improve the performance of your model.\n",
    "\n",
    "<font color='orange'>**Extends reading**</font>: [Demystifying the Difference Between Multi-Class and Multi-Label Classification Problem Statements in Deep Learning](https://www.analyticsvidhya.com/blog/2021/07/demystifying-the-difference-between-multi-class-and-multi-label-classification-problem-statements-in-deep-learning/)\n",
    "<br/>\n",
    "\n",
    "The classification model we are going to use is the [**logistic regression**](https://realpython.com/logistic-regression-python/) which is a simple yet powerful linear model that is mathematically speaking in fact a form of regression between 0 and 1 based on the input feature vector. By specifying a cutoff value (<font color='brown'>by default 0.5</font>), the regression model is used for classification. You can use again scikit-learn library which provides the [**LogisticRegression**](https://scikit-learn.org/stable/modules/generated/sklearn.linear_model.LogisticRegression.html) classifier:"
   ]
  },
  {
   "cell_type": "code",
   "execution_count": 13,
   "id": "85575434",
   "metadata": {},
   "outputs": [
    {
     "data": {
      "text/plain": [
       "LogisticRegression()"
      ]
     },
     "execution_count": 13,
     "metadata": {},
     "output_type": "execute_result"
    }
   ],
   "source": [
    "classifier = LogisticRegression()\n",
    "classifier.fit(X_train, y_train)"
   ]
  },
  {
   "cell_type": "code",
   "execution_count": 14,
   "id": "bfc3480c",
   "metadata": {},
   "outputs": [
    {
     "name": "stdout",
     "output_type": "stream",
     "text": [
      "Accuracy: 0.816\n"
     ]
    }
   ],
   "source": [
    "score = classifier.score(X_test, y_test)\n",
    "print(\"Accuracy:\", score)"
   ]
  },
  {
   "cell_type": "markdown",
   "id": "0ff2ea46",
   "metadata": {},
   "source": [
    "Another low-standard approach to calculate the baseline is using [**DummyClassifier**](https://scikit-learn.org/stable/modules/generated/sklearn.dummy.DummyClassifier.html) which provides some strategies you can choose to produce the baseline score for future comparison with more complex models:\n",
    "* **most_frequent**: Always returns the most frequent class label in the observed `y` (default)\n",
    "* **stratified**: Randomly samples one-hot vectors from a multinomial distribution parametrized by the empirical class prior probabilities. \n",
    "* **uniform**: Generates predictions uniformly at random from the list of unique classes observed in `y`, i.e. each class has equal probability."
   ]
  },
  {
   "cell_type": "code",
   "execution_count": 15,
   "id": "56f08e2b",
   "metadata": {},
   "outputs": [
    {
     "data": {
      "text/plain": [
       "DummyClassifier()"
      ]
     },
     "execution_count": 15,
     "metadata": {},
     "output_type": "execute_result"
    }
   ],
   "source": [
    "classifier = DummyClassifier()\n",
    "classifier.fit(X_train, y_train)"
   ]
  },
  {
   "cell_type": "code",
   "execution_count": 16,
   "id": "9dae405b",
   "metadata": {},
   "outputs": [
    {
     "name": "stdout",
     "output_type": "stream",
     "text": [
      "Accuracy: 0.488\n"
     ]
    }
   ],
   "source": [
    "score = classifier.score(X_test, y_test)\n",
    "print(\"Accuracy:\", score)"
   ]
  },
  {
   "cell_type": "markdown",
   "id": "a2db27e5",
   "metadata": {},
   "source": [
    "<b>You can see that the logistic regression reached an impressive 81.6%</b>, but let’s have a look how this model performs on the other data sets that we have. In this script, we perform and evaluate the whole process for each data set that we have:"
   ]
  },
  {
   "cell_type": "code",
   "execution_count": 17,
   "id": "035220dc",
   "metadata": {},
   "outputs": [
    {
     "name": "stdout",
     "output_type": "stream",
     "text": [
      "Accuracy for yelp data: 81.60%\n",
      "Accuracy for amazon data: 84.40%\n",
      "Accuracy for imdb data: 72.73%\n"
     ]
    }
   ],
   "source": [
    "for source in df['source'].unique():\n",
    "    df_source = df[df['source'] == source]\n",
    "    sentences = df_source['sentence'].values\n",
    "    y = df_source['label'].values\n",
    "\n",
    "    sentences_train, sentences_test, y_train, y_test = train_test_split(\n",
    "        sentences, y, test_size=TEST_SIZE, random_state=RANDOM_STATE)\n",
    "\n",
    "    vectorizer = CountVectorizer()\n",
    "    vectorizer.fit(sentences_train)\n",
    "    X_train = vectorizer.transform(sentences_train)\n",
    "    X_test  = vectorizer.transform(sentences_test)\n",
    "\n",
    "    classifier = LogisticRegression()\n",
    "    classifier.fit(X_train, y_train)\n",
    "    score = classifier.score(X_test, y_test)\n",
    "    print('Accuracy for {} data: {:.2%}'.format(source, score))"
   ]
  },
  {
   "cell_type": "markdown",
   "id": "f3bdaef9",
   "metadata": {},
   "source": [
    "Great! You can see that this fairly simple model achieves a fairly good accuracy. It would be interesting to see whether we are able to outperform this model. In the next part, we will get familiar with (deep) neural networks and how to apply them to text classification."
   ]
  },
  {
   "cell_type": "markdown",
   "id": "6b41fad7",
   "metadata": {},
   "source": [
    "<a id='sect3'></a>\n",
    "## <font color='darkblue'>A Primer on (Deep) Neural Networks</font> ([back](#sect0))\n",
    "* <font size='3ptx'><b><a href='#sect3_1'>Introducing Keras</a></b></font>\n",
    "* <font size='3ptx'><b><a href='#sect3_2'>Installing Keras</a></b></font>\n",
    "* <font size='3ptx'><b><a href='#sect3_3'>Your First Keras Model</a></b></font>\n",
    "<br/>\n",
    "\n",
    "<font size='3ptx'><b>You might have experienced some of the excitement and fear related to [artificial intelligence](https://realpython.com/python-ai-neural-network/) and deep learning. </b> On a lighter note, AI researchers all agreed that they did not agree with each other when AI will exceed Human-level performance. According to this [paper](https://arxiv.org/abs/1705.08807) we should still have some time left.</font>\n",
    "\n",
    "<b>Neural networks play a crucial role in the latest developments in AI</b>. It all started with a famous [paper](https://papers.nips.cc/paper/4824-imagenet-classification-with-deep-convolutional-neural-networks.pdf) in 2012 by [Geoffrey Hinton](https://en.wikipedia.org/wiki/Geoffrey_Hinton) and his team, which outperformed all previous models in the famous [**ImageNet Challenge**](https://en.wikipedia.org/wiki/ImageNet#ImageNet_Challenge).\n",
    "\n",
    "[**Neural networks**](https://en.wikipedia.org/wiki/Neural_network), or sometimes called artificial neural network (ANN) or feedforward neural network, are computational networks which were vaguely inspired by the neural networks in the human brain. They consist of neurons (<font color='brown'>also called nodes</font>) which are connected like in the graph below.\n",
    "\n",
    "**You start by having a layer of input neurons where you feed in your feature vectors and the values are then feeded forward to a hidden layer**. At each connection, you are feeding the value forward, while the value is multiplied by a weight and a bias is added to the value. This happens at every connection and at the end you reach an output layer with one or more output nodes.\n",
    "\n",
    "<font color='orange'>**Extends reading**</font>: [Introduction to Machine Learning with Python](https://www.oreilly.com/library/view/introduction-to-machine/9781449369880/) - [Neural Networks (Deep Learning)](https://notebook.community/tleonhardt/machine_learning/SL3_Neural_Networks)\n",
    "\n",
    "If you want to have a binary classification you can use one node, but if you have multiple categories you should use multiple nodes for each category:\n",
    "![NN graph](images/nn_graph.PNG)\n",
    "<br/>\n",
    "\n",
    "You can have as many hidden layers as you wish. In fact, a neural network with more than one hidden layer is considered a deep neural network. Don’t worry: I won’t get here into the mathematical depths concerning neural networks. But if you want to get an intuitive visual understanding of the math involved, you can check out the [YouTube Playlist](https://www.youtube.com/playlist?list=PLZHQObOWTQDNU6R1_67000Dx_ZCJB-3pi) by Grant Sanderson. The formula from one layer to the next is this short equation:\n",
    "![NN graph](images/nn_math_formula.PNG)\n",
    "<br/>\n",
    "\n",
    "All of those have to be then summed and passed to a function `f`. This function is considered the [**activation function**](https://en.wikipedia.org/wiki/Activation_function) and there are various different functions that can be used depending on the layer or the problem. It is generally common to use a [**rectified linear unit**](https://en.wikipedia.org/wiki/Rectifier_(neural_networks)) (ReLU) for hidden layers, a [**sigmoid function**](https://en.wikipedia.org/wiki/Sigmoid_function) for the output layer in a binary classification problem, or a [**softmax function**](https://en.wikipedia.org/wiki/Softmax_function) for the output layer of multi-class classification problems.\n",
    "\n",
    "<font color='orange'>**Extends reading**</font>: [mlmastery - How to Choose an Activation Function for Deep Learning](https://machinelearningmastery.com/choose-an-activation-function-for-deep-learning/)\n",
    "\n",
    "You might already wonder how the weights are calculated, and this is obviously the most important part of neural networks, but also the most difficult part. **The algorithm starts by initializing the weights with random values and they are then trained with a method called** [**backpropagation**](https://en.wikipedia.org/wiki/Backpropagation).\n",
    "\n",
    "This is done by using optimization methods (<font color='brown'>also called optimizer</font>) like the [**gradient descent**](https://en.wikipedia.org/wiki/Gradient_descent) in order to reduce the error between the computed and the desired output (<font color='brown'>also called target output</font>). **The error is determined by a** [**loss function**](https://en.wikipedia.org/wiki/Loss_function) **whose loss we want to minimize with the optimizer**. The whole process is too extensive to cover here, but I’ll refer again to the Grant Sanderson playlist and the Deep Learning book by Ian Goodfellow I mentioned before.\n",
    "\n",
    "What you have to know is that there are various optimization methods that you can use, but **the most common optimizer currently used is called [Adam](https://arxiv.org/abs/1412.6980) which has a good performance in various problems**.\n",
    "\n",
    "You can also use different loss functions, but in this tutorial you will only need the [**cross entropy**](https://en.wikipedia.org/wiki/Cross_entropy) loss function or more specifically binary cross entropy which is used for binary classification problems. Be sure to experiment with the various available methods and tools. Some researchers even claim in a recent [article](http://www.sciencemag.org/news/2018/05/ai-researchers-allege-machine-learning-alchemy?es_p=6976017) that the choice for the best performing methods borders on alchemy. The reason being that many methods are not well explained and consist of a lot of tweaking and testing."
   ]
  },
  {
   "cell_type": "markdown",
   "id": "be680453",
   "metadata": {},
   "source": [
    "<a id='sect3_1'></a>\n",
    "### <font color='darkgreen'>Introducing Keras</font> ([back](#sect3))\n",
    "<font size='3ptx'><b>[Keras](https://keras.io/) is a deep learning and neural networks API by [François Chollet](https://twitter.com/fchollet) which is capable of running on top of [Tensorflow](https://www.tensorflow.org/) (Google), [Theano](http://deeplearning.net/software/theano/) or [CNTK](https://www.microsoft.com/en-us/cognitive-toolkit/) (Microsoft).</b></font> \n",
    "    \n",
    "    \n",
    "To quote the wonderful book by François Chollet, Deep Learning with Python:\n",
    "> Keras is a model-level library, providing high-level building blocks for developing deep-learning models. It doesn’t handle low-level operations such as tensor manipulation and differentiation. Instead, it relies on a specialized, well-optimized tensor library to do so, serving as the backend engine of Keras ([Source](https://realpython.com/asins/1617294438/))\n",
    "\n",
    "<br/>\n",
    "\n",
    "It is a great way to start experimenting with neural networks without having to implement every layer and piece on your own. For example [**Tensorflow**](https://www.tensorflow.org/) is a great machine learning library, but you have to implement a lot of boilerplate code to have a model running."
   ]
  },
  {
   "cell_type": "markdown",
   "id": "53b08905",
   "metadata": {},
   "source": [
    "<a id='sect3_2'></a>\n",
    "### <font color='darkgreen'>Installing Keras</font> ([back](#sect3))\n",
    "Before installing Keras, you’ll need either Tensorflow, Theano, or CNTK. **In this tutorial we will be using Tensorflow so check out their installation guide [here](https://github.com/tensorflow/tensorflow#download-and-setup)**, but feel free to use any of the frameworks that works best for you. Keras can be installed using [PyPI](https://pypi.org/) with the following command:"
   ]
  },
  {
   "cell_type": "code",
   "execution_count": 18,
   "id": "7e19d0d6",
   "metadata": {},
   "outputs": [
    {
     "name": "stdout",
     "output_type": "stream",
     "text": [
      "Requirement already satisfied: keras in /root/Github/ml_courses/env/lib/python3.8/site-packages (2.6.0)\n",
      "Note: you may need to restart the kernel to use updated packages.\n"
     ]
    }
   ],
   "source": [
    "%pip install keras"
   ]
  },
  {
   "cell_type": "markdown",
   "id": "ee599182",
   "metadata": {},
   "source": [
    "You can choose the backend you want to have by opening the Keras configuration file which you can find here:"
   ]
  },
  {
   "cell_type": "code",
   "execution_count": 19,
   "id": "502adf6b",
   "metadata": {},
   "outputs": [
    {
     "name": "stdout",
     "output_type": "stream",
     "text": [
      "{\r\n",
      "    \"floatx\": \"float32\",\r\n",
      "    \"epsilon\": 1e-07,\r\n",
      "    \"backend\": \"tensorflow\",\r\n",
      "    \"image_data_format\": \"channels_last\"\r\n",
      "}"
     ]
    }
   ],
   "source": [
    "!cat $HOME/.keras/keras.json"
   ]
  },
  {
   "cell_type": "markdown",
   "id": "6360d641",
   "metadata": {},
   "source": [
    "For more details check out the [Keras backends documentation](https://keras.io/backend/).\n",
    "\n",
    "You might notice that we use float32 data in the configuration file. The reason for this is that neural networks are frequently used in GPUs, and the computational bottleneck is memory. <b>By using 32 bit, we are able reduce the memory load and we do not lose too much information in the process.</b>"
   ]
  },
  {
   "cell_type": "markdown",
   "id": "bb67301c",
   "metadata": {},
   "source": [
    "<a id='sect3_3'></a>\n",
    "### <font color='darkgreen'>Your First Keras Model</font> ([back](#sect3))\n",
    "Now you are finally ready to experiment with Keras. Keras supports two main types of models. You have the [Sequential model API](https://keras.io/models/sequential/) which you are going to see in use in this tutorial and the [functional API](https://keras.io/models/model/) which can do everything of the Sequential model but it can be also used for advanced models with complex network architectures.\n",
    "\n",
    "<b>The Sequential model is a linear stack of layers, where you can use the large variety of available layers in Keras.</b> The most common layer is the [**Dense layer**](https://keras.io/layers/core/#dense) which is your regular densely connected neural network layer with all the weights and biases that you are already familiar with.\n",
    "\n",
    "Let’s see if we can achieve some improvement to our previous logistic regression model. We can still use the `X_train` and `X_test` arrays that you built in our earlier example.\n",
    "\n",
    "Before we build our model, we need to know the input dimension of our feature vectors. This happens only in the first layer since the following layers can do automatic shape inference. **In order to build the Sequential model, you can add layers one by one in order as follows**:"
   ]
  },
  {
   "cell_type": "code",
   "execution_count": 20,
   "id": "c4d05089",
   "metadata": {},
   "outputs": [],
   "source": [
    "input_dim = X_train.shape[1]  # Number of features"
   ]
  },
  {
   "cell_type": "code",
   "execution_count": 21,
   "id": "e6205f62",
   "metadata": {},
   "outputs": [],
   "source": [
    "def basic_dnn(input_dim: int, hidden_activation='relu', output_activation='sigmoid'):\n",
    "    model = Sequential()\n",
    "    model.add(layers.Dense(10, input_dim=input_dim, activation=hidden_activation))\n",
    "    model.add(layers.Dense(1, activation=output_activation))\n",
    "    return model"
   ]
  },
  {
   "cell_type": "code",
   "execution_count": 22,
   "id": "dcf80d69",
   "metadata": {},
   "outputs": [
    {
     "name": "stderr",
     "output_type": "stream",
     "text": [
      "2022-06-25 15:20:16.473936: W tensorflow/stream_executor/platform/default/dso_loader.cc:64] Could not load dynamic library 'libcuda.so.1'; dlerror: libcuda.so.1: cannot open shared object file: No such file or directory\n",
      "2022-06-25 15:20:16.473999: W tensorflow/stream_executor/cuda/cuda_driver.cc:269] failed call to cuInit: UNKNOWN ERROR (303)\n",
      "2022-06-25 15:20:16.474041: I tensorflow/stream_executor/cuda/cuda_diagnostics.cc:156] kernel driver does not appear to be running on this host (ubuntu): /proc/driver/nvidia/version does not exist\n",
      "2022-06-25 15:20:16.474529: I tensorflow/core/platform/cpu_feature_guard.cc:142] This TensorFlow binary is optimized with oneAPI Deep Neural Network Library (oneDNN) to use the following CPU instructions in performance-critical operations:  AVX2 FMA\n",
      "To enable them in other operations, rebuild TensorFlow with the appropriate compiler flags.\n"
     ]
    }
   ],
   "source": [
    "dnn_model = basic_dnn(input_dim)"
   ]
  },
  {
   "cell_type": "markdown",
   "id": "02f45073",
   "metadata": {},
   "source": [
    "<b>Before you can start with the training of the model, you need to configure the learning process</b>. This is done with the [.compile()](https://www.tensorflow.org/api_docs/python/tf/keras/Model#compile) method. **This method specifies the optimizer and the loss function.**\n",
    "\n",
    "Additionally, you can add a list of metrics which can be later used for evaluation, but they do not influence the training. In this case, **we want to use the [binary cross entropy](https://www.tensorflow.org/api_docs/python/tf/keras/losses/BinaryCrossentropy) and the [Adam optimizer](https://keras.io/api/optimizers/adam/) you saw in the primer mentioned before**. Keras also includes a handy [.summary()](https://www.tensorflow.org/api_docs/python/tf/keras/Model#summary) function to give an overview of the model and the number of parameters available for training:\n",
    "\n",
    "<b><font color='darkred'>Question</font>: How to choose loss function and optimizer for multiple-label classification problem?</b>"
   ]
  },
  {
   "cell_type": "code",
   "execution_count": 23,
   "id": "2c3f1e41",
   "metadata": {},
   "outputs": [
    {
     "name": "stdout",
     "output_type": "stream",
     "text": [
      "Model: \"sequential\"\n",
      "_________________________________________________________________\n",
      "Layer (type)                 Output Shape              Param #   \n",
      "=================================================================\n",
      "dense (Dense)                (None, 10)                24260     \n",
      "_________________________________________________________________\n",
      "dense_1 (Dense)              (None, 1)                 11        \n",
      "=================================================================\n",
      "Total params: 24,271\n",
      "Trainable params: 24,271\n",
      "Non-trainable params: 0\n",
      "_________________________________________________________________\n"
     ]
    }
   ],
   "source": [
    "dnn_model.compile(\n",
    "    loss='binary_crossentropy', \n",
    "    optimizer='adam', \n",
    "    metrics=['accuracy'])\n",
    "\n",
    "dnn_model.summary()"
   ]
  },
  {
   "cell_type": "markdown",
   "id": "8bee5a0e",
   "metadata": {},
   "source": [
    "Neat! You are almost there. Now it is time to start your training with the [.fit()](https://www.tensorflow.org/api_docs/python/tf/keras/Model#fit) function.\n",
    "\n",
    "<b>Since the training in neural networks is an iterative process, the training won’t just stop after it is done. You have to specify the number of iterations you want the model to be training.</b> Those completed iterations are commonly called <font color='darkblue'><b>epochs</b></font>. We want to run it for 100 epochs to be able to see how the training loss and accuracy are changing after each epoch.\n",
    "\n",
    "<b>Another parameter you have to your selection is the <font color='darkblue'>batch size</font>. The batch size is responsible for how many samples we want to use in one epoch, which means how many samples are used in one forward/backward pass</b>. This increases the speed of the computation as it need fewer epochs to run, but it also needs more memory, and the model may degrade with larger batch sizes. Since we have a small training set, we can leave this to a low batch size:\n",
    "\n",
    "<b><font color='orange'>Extends reading</font></b>:\n",
    "* [Difference Between a Batch and an Epoch in a Neural Network](https://machinelearningmastery.com/difference-between-a-batch-and-an-epoch/)\n",
    "* [Epoch vs Batch Size vs Iterations](https://towardsdatascience.com/epoch-vs-iterations-vs-batch-size-4dfb9c7ce9c9)"
   ]
  },
  {
   "cell_type": "code",
   "execution_count": 24,
   "id": "418ce0a9",
   "metadata": {},
   "outputs": [
    {
     "name": "stderr",
     "output_type": "stream",
     "text": [
      "/root/Github/ml_courses/env/lib/python3.8/site-packages/tensorflow/python/framework/indexed_slices.py:447: UserWarning: Converting sparse IndexedSlices(IndexedSlices(indices=Tensor(\"gradient_tape/sequential/dense/embedding_lookup_sparse/Reshape_1:0\", shape=(None,), dtype=int32), values=Tensor(\"gradient_tape/sequential/dense/embedding_lookup_sparse/Reshape:0\", shape=(None, 10), dtype=float32), dense_shape=Tensor(\"gradient_tape/sequential/dense/embedding_lookup_sparse/Cast:0\", shape=(2,), dtype=int32))) to a dense Tensor of unknown shape. This may consume a large amount of memory.\n",
      "  warnings.warn(\n",
      "2022-06-25 15:20:17.060017: I tensorflow/compiler/mlir/mlir_graph_optimization_pass.cc:185] None of the MLIR Optimization Passes are enabled (registered 2)\n"
     ]
    },
    {
     "name": "stdout",
     "output_type": "stream",
     "text": [
      "CPU times: user 15.2 s, sys: 13.7 s, total: 29 s\n",
      "Wall time: 17.2 s\n"
     ]
    }
   ],
   "source": [
    "%%time\n",
    "history = dnn_model.fit(\n",
    "    X_train, y_train, \n",
    "    epochs=100,\n",
    "    verbose=False,\n",
    "    validation_data=(X_test, y_test),\n",
    "    batch_size=10)"
   ]
  },
  {
   "cell_type": "markdown",
   "id": "b7466fcc",
   "metadata": {},
   "source": [
    "<b>Now you can use the [.evaluate()](https://www.tensorflow.org/api_docs/python/tf/keras/Model#evaluate) method to measure the accuracy of the model</b>. You can do this both for the training data and testing data. We expect that the training data has a higher accuracy then for the testing data. <b>The longer you would train a neural network, the more likely it is that it starts overfitting.</b>\n",
    "\n",
    "Note that if you rerun the [.fit()](https://www.tensorflow.org/api_docs/python/tf/keras/Model#fit) method, you’ll start off with the computed weights from the previous training. Make sure to call [clear_session()](https://www.tensorflow.org/api_docs/python/tf/keras/backend/clear_session) before you start training the model again. Now let’s evaluate the accuracy of the model:"
   ]
  },
  {
   "cell_type": "code",
   "execution_count": 25,
   "id": "7a7a8774",
   "metadata": {},
   "outputs": [
    {
     "name": "stdout",
     "output_type": "stream",
     "text": [
      "Training Accuracy: 1.0000\n",
      "Testing Accuracy:  0.7754\n"
     ]
    }
   ],
   "source": [
    "loss, accuracy = dnn_model.evaluate(X_train, y_train, verbose=False)\n",
    "print(\"Training Accuracy: {:.4f}\".format(accuracy))\n",
    "loss, accuracy = dnn_model.evaluate(X_test, y_test, verbose=False)\n",
    "print(\"Testing Accuracy:  {:.4f}\".format(accuracy))"
   ]
  },
  {
   "cell_type": "markdown",
   "id": "4efc564d",
   "metadata": {},
   "source": [
    "**You can already see that the model was overfitting since it reached 100% accuracy for the training set** (<font color='brown'>but only 77% in testing dataset</font>). But this was expected since the number of epochs was fairly large for this model. However, the accuracy of the testing set has already surpassed our previous logistic Regression with BOW model, which is a great step further in terms of our progress.\n",
    "\n",
    "To make your life easier, you can use this little helper function to visualize the loss and accuracy for the training and testing data based on the [**History**](https://keras.io/callbacks/#history) callback. This callback, which is automatically applied to each Keras model, records the loss and additional [metrics](https://keras.io/metrics/) that can be added in the [.fit()](https://www.tensorflow.org/api_docs/python/tf/keras/Model#fit) method. In this case, we are only interested in the accuracy. This helper function employs the [**matplotlib**](https://matplotlib.org/) plotting library:"
   ]
  },
  {
   "cell_type": "code",
   "execution_count": 32,
   "id": "0d8745ca",
   "metadata": {},
   "outputs": [
    {
     "data": {
      "text/plain": [
       "[0.7116617560386658,\n",
       " 0.669800341129303,\n",
       " 0.6648751497268677,\n",
       " 0.6408011317253113,\n",
       " 0.6277408003807068,\n",
       " 0.5984649062156677,\n",
       " 0.6057119965553284,\n",
       " 0.5828227996826172,\n",
       " 0.5883834958076477,\n",
       " 0.5997800230979919,\n",
       " 0.5904994010925293,\n",
       " 0.6174865365028381,\n",
       " 0.6288719177246094,\n",
       " 0.634772777557373,\n",
       " 0.6445603370666504,\n",
       " 0.6361831426620483,\n",
       " 0.6562467217445374,\n",
       " 0.6609561443328857,\n",
       " 0.6659192442893982,\n",
       " 0.6831046342849731,\n",
       " 0.684410035610199,\n",
       " 0.6765447854995728,\n",
       " 0.6969609260559082,\n",
       " 0.7001556754112244,\n",
       " 0.7213038206100464,\n",
       " 0.7154247164726257,\n",
       " 0.7152093052864075,\n",
       " 0.7116245627403259,\n",
       " 0.7232040762901306,\n",
       " 0.7386417388916016,\n",
       " 0.7391602396965027,\n",
       " 0.7451227307319641,\n",
       " 0.746479868888855,\n",
       " 0.7506260871887207,\n",
       " 0.7589597105979919,\n",
       " 0.7342942357063293,\n",
       " 0.7785788774490356,\n",
       " 0.7752777934074402,\n",
       " 0.7724724411964417,\n",
       " 0.7879724502563477,\n",
       " 0.791735053062439,\n",
       " 0.8044046759605408,\n",
       " 0.8055145144462585,\n",
       " 0.8156139254570007,\n",
       " 0.8155887126922607,\n",
       " 0.8200588822364807,\n",
       " 0.8233240842819214,\n",
       " 0.8251112103462219,\n",
       " 0.8365462422370911,\n",
       " 0.837993860244751,\n",
       " 0.8500277400016785,\n",
       " 0.8477860689163208,\n",
       " 0.8626378774642944,\n",
       " 0.8546339273452759,\n",
       " 0.8574663400650024,\n",
       " 0.858525812625885,\n",
       " 0.8746614456176758,\n",
       " 0.8755477070808411,\n",
       " 0.878706157207489,\n",
       " 0.8778515458106995,\n",
       " 0.8805012702941895,\n",
       " 0.8891047239303589,\n",
       " 0.8905226588249207,\n",
       " 0.8928258419036865,\n",
       " 0.8987473845481873,\n",
       " 0.9013471007347107,\n",
       " 0.9135244488716125,\n",
       " 0.9141850471496582,\n",
       " 0.9112277030944824,\n",
       " 0.910428524017334,\n",
       " 0.9242442846298218,\n",
       " 0.9359496235847473,\n",
       " 0.9268060326576233,\n",
       " 0.9330340623855591,\n",
       " 0.9417638182640076,\n",
       " 0.9422942996025085,\n",
       " 0.9459693431854248,\n",
       " 0.9454949498176575,\n",
       " 0.96028733253479,\n",
       " 0.9518759250640869,\n",
       " 0.9525542855262756,\n",
       " 0.9587511420249939,\n",
       " 0.9633904695510864,\n",
       " 0.9649611115455627,\n",
       " 0.9686506986618042,\n",
       " 0.9691349864006042,\n",
       " 0.9705341458320618,\n",
       " 0.9805112481117249,\n",
       " 0.9792144298553467,\n",
       " 0.9826578497886658,\n",
       " 0.9867137670516968,\n",
       " 0.9833710193634033,\n",
       " 0.9862354397773743,\n",
       " 0.9918583631515503,\n",
       " 0.9955220222473145,\n",
       " 0.9932296872138977,\n",
       " 0.9973973035812378,\n",
       " 1.0027333498001099,\n",
       " 1.0008766651153564,\n",
       " 1.004822015762329]"
      ]
     },
     "execution_count": 32,
     "metadata": {},
     "output_type": "execute_result"
    }
   ],
   "source": [
    "history.history['val_loss']"
   ]
  },
  {
   "cell_type": "code",
   "execution_count": 51,
   "id": "42aacc05",
   "metadata": {},
   "outputs": [],
   "source": [
    "def plot_history(history):\n",
    "    acc = history.history['accuracy']\n",
    "    val_acc = history.history['val_accuracy']\n",
    "    loss = history.history['loss']\n",
    "    val_loss = history.history['val_loss']\n",
    "    x = range(1, len(acc) + 1)\n",
    "\n",
    "    min_val_loss = val_loss[0]\n",
    "    min_val_loss_x = -1\n",
    "    for x_val, vloss in zip(range(1, len(val_loss) + 1), val_loss):\n",
    "        if vloss < min_val_loss:\n",
    "            min_val_loss = vloss\n",
    "            min_val_loss_x = x_val\n",
    "    \n",
    "    plt.figure(figsize=(12, 5))\n",
    "    plt.subplot(1, 2, 1)\n",
    "    plt.plot(x, acc, 'b', label='Training acc')\n",
    "    plt.plot(x, val_acc, 'r', label='Validation acc')\n",
    "    plt.title('Training and validation accuracy')\n",
    "    plt.legend()\n",
    "    plt.subplot(1, 2, 2)\n",
    "    plt.plot(x, loss, 'b', label='Training loss')\n",
    "    plt.plot(x, val_loss, 'r', label='Validation loss')\n",
    "    plt.title('Training and validation loss')\n",
    "    \n",
    "    plt.vlines(\n",
    "        x=min_val_loss_x, ymin=0, ymax=1, color=\"black\", linestyle=\"--\",\n",
    "        label=f'overfitting point (epochs={min_val_loss_x})')\n",
    "    plt.legend(loc='center right')"
   ]
  },
  {
   "cell_type": "markdown",
   "id": "1d692568",
   "metadata": {},
   "source": [
    "To use this function, simply call <font color='blue'>plot_history()</font> with the collected accuracy and loss inside the `history` dictionary:"
   ]
  },
  {
   "cell_type": "code",
   "execution_count": 52,
   "id": "d1e9e416",
   "metadata": {},
   "outputs": [
    {
     "data": {
      "image/png": "[encoded data removed]",
      "text/plain": [
       "<Figure size 864x360 with 2 Axes>"
      ]
     },
     "metadata": {},
     "output_type": "display_data"
    }
   ],
   "source": [
    "plot_history(history)"
   ]
  },
  {
   "cell_type": "markdown",
   "id": "f2190437",
   "metadata": {},
   "source": [
    "You can see that we have trained our model for too long since the training set reached 100% accuracy. <b>A good way to see when the model starts overfitting is when the loss of the validation data starts rising again</b>. This tends to be a good point to stop the model. You can see this around 8-10 epochs in this training.\n",
    "\n",
    "In this case, our testing and validation set are the same, since we have a smaller sample size. <b>As we have covered before,</b> (deep) <b>neural networks perform best when you have a very large number of samples</b>. In the next part, you’ll see a different way to represent words as vectors. This is a very exciting and powerful way to work with words where you’ll see how to represent words as dense vectors."
   ]
  },
  {
   "cell_type": "markdown",
   "id": "f7170dc2",
   "metadata": {},
   "source": [
    "<a id='sect4'></a>\n",
    "## <font color='darkblue'>What Is a Word Embedding?</font> ([back](#sect0))\n",
    "* <font size='3ptx'><b><a href='#sect4_1'>One-Hot Encoding</a></b></font>\n",
    "* <font size='3ptx'><b><a href='#sect4_2'>Word Embeddings</a></b></font>\n",
    "* <font size='3ptx'><b><a href='#sect4_3'>Keras Embedding Layer</a></b></font>\n",
    "* <font size='3ptx'><b><a href='#sect4_4'>Using Pretrained Word Embeddings </a></b></font>\n",
    "<br/>\n",
    "\n",
    "<font size='3ptx'><b>Text is considered a form of sequence data similar to time series data that you would have in weather data or financial data</b>. In the previous BOW model, you have seen how to represent a whole sequence of words as a single feature vector. Now you will see how to represent each word as vectors.</font> \n",
    "\n",
    "There are various ways to vectorize text, such as:\n",
    "* Words represented by each word as a vector\n",
    "* Characters represented by each character as a vector\n",
    "* N-grams of words/characters represented as a vector (<font color='brown'>N-grams are overlapping groups of multiple succeeding words/characters in the text</font>)\n",
    "\n",
    "<br/>\n",
    "\n",
    "In this tutorial, you’ll see how to deal with representing words as vectors which is the common way to use text in neural networks. Two possible ways to represent a word as a vector are one-hot encoding and word embeddings."
   ]
  },
  {
   "cell_type": "markdown",
   "id": "771cfbbc",
   "metadata": {},
   "source": [
    "<a id='sect4_1'></a>\n",
    "### <font color='darkgreen'>One-Hot Encoding (BoW)</font> ([back](#sect4))\n",
    "<font size='3ptx'><b>The first way to represent a word as a vector is by creating a so-called [one-hot encoding](https://en.wikipedia.org/wiki/One-hot), which is simply done by taking a vector of the length of the vocabulary with an entry for each word in the corpus.</b></font>\n",
    "\n",
    "In this way, you have for each word, given it has a spot in the vocabulary, a vector with zeros everywhere except for the corresponding spot for the word which is set to one. <b><font color='darkred'>As you might imagine, this can become a fairly large vector for each word and it does not give any additional information like the relationship between words</font></b>.\n",
    "\n",
    "Let’s say you have a list of cities as in the following example:"
   ]
  },
  {
   "cell_type": "code",
   "execution_count": 53,
   "id": "891d3d3e",
   "metadata": {},
   "outputs": [],
   "source": [
    "cities = ['London', 'Berlin', 'Berlin', 'New York', 'London']"
   ]
  },
  {
   "cell_type": "markdown",
   "id": "93108041",
   "metadata": {},
   "source": [
    "You can use scikit-learn and the [**LabelEncoder**](https://scikit-learn.org/stable/modules/generated/sklearn.preprocessing.LabelEncoder.html) to encode the list of cities into categorical integer values like here:"
   ]
  },
  {
   "cell_type": "code",
   "execution_count": 56,
   "id": "e5eb554a",
   "metadata": {},
   "outputs": [
    {
     "data": {
      "text/plain": [
       "array([1, 0, 0, 2, 1])"
      ]
     },
     "execution_count": 56,
     "metadata": {},
     "output_type": "execute_result"
    }
   ],
   "source": [
    "encoder = LabelEncoder()\n",
    "city_labels = encoder.fit_transform(cities)\n",
    "city_labels"
   ]
  },
  {
   "cell_type": "code",
   "execution_count": 58,
   "id": "31c92440",
   "metadata": {},
   "outputs": [
    {
     "data": {
      "text/plain": [
       "array(['Berlin', 'London', 'New York'], dtype='<U8')"
      ]
     },
     "execution_count": 58,
     "metadata": {},
     "output_type": "execute_result"
    }
   ],
   "source": [
    "encoder.classes_"
   ]
  },
  {
   "cell_type": "markdown",
   "id": "4c3a4940",
   "metadata": {},
   "source": [
    "Using this representation, you can use the [**OneHotEncoder**](https://scikit-learn.org/stable/modules/generated/sklearn.preprocessing.OneHotEncoder.html#sklearn.preprocessing.OneHotEncoder) provided by scikit-learn to encode the categorical values we got before into a one-hot encoded numeric array. [**OneHotEncoder**](https://scikit-learn.org/stable/modules/generated/sklearn.preprocessing.OneHotEncoder.html#sklearn.preprocessing.OneHotEncoder) expects each categorical value to be in a separate row, so you’ll need to reshape the array, then you can apply the encoder:"
   ]
  },
  {
   "cell_type": "code",
   "execution_count": 60,
   "id": "0f6b4cfa",
   "metadata": {},
   "outputs": [
    {
     "data": {
      "text/plain": [
       "array([[0., 1., 0.],\n",
       "       [1., 0., 0.],\n",
       "       [1., 0., 0.],\n",
       "       [0., 0., 1.],\n",
       "       [0., 1., 0.]])"
      ]
     },
     "execution_count": 60,
     "metadata": {},
     "output_type": "execute_result"
    }
   ],
   "source": [
    "encoder = OneHotEncoder(sparse=False)\n",
    "city_labels = city_labels.reshape((5, 1))\n",
    "encoder.fit_transform(city_labels)"
   ]
  },
  {
   "cell_type": "markdown",
   "id": "8087cfaa",
   "metadata": {},
   "source": [
    "You can see that categorical integer value represents the position of the array which is 1 and the rest is 0. This is often used when you have a categorical feature which you cannot represent as a numeric value but you still want to be able to use it in machine learning. One use case for this encoding is of course words in a text but it is most prominently used for categories. Such categories can be for example city, department, or other categories."
   ]
  },
  {
   "cell_type": "markdown",
   "id": "209b15c1",
   "metadata": {},
   "source": [
    "<a id='sect4_2'></a>\n",
    "### <font color='darkgreen'>Word Embeddings</font> ([back](#sect4))\n",
    "<font size='3ptx'><b>This method represents words as dense word vectors</b> (<font color='brown'>also called [**word embeddings**](https://en.wikipedia.org/wiki/Word_embedding)</font>) <b>which are trained unlike the one-hot encoding which are hardcoded</b>. This means that the word embeddings collect more information into fewer dimensions.</font>\n",
    "<br/>\n",
    "    \n",
    "![word embedding](images/word_embedding.png)\n",
    "<br/>\n",
    "\n",
    "Note that the word embeddings do not understand the text as a human would, but they rather map the statistical structure of the language used in the corpus. <b>Their aim is to map semantic meaning into a geometric space. This geometric space is then called the <font color='darkblue'>embedding space</font>.</b>\n",
    "\n",
    "<b>This would map semantically similar words close on the embedding space like numbers or colors.</b> If the embedding captures the relationship between words well, things like vector arithmetic should become possible. A famous example in this field of study is the ability to map [King - Man + Woman = Queen](https://www.technologyreview.com/s/541356/king-man-woman-queen-the-marvelous-mathematics-of-computational-linguistics/).\n",
    "\n",
    "How can you get such a word embedding? You have two options for this. One way is to train your word embeddings during the training of your neural network. The other way is by using pretrained word embeddings which you can directly use in your model. There you have the option to either leave these word embeddings unchanged during training or you train them also.\n",
    "\n",
    "<b><font color='orange'>Extends reading</font></b>: [Tensorflow - Train your own Word embeddings](https://www.tensorflow.org/text/guide/word_embeddings)\n",
    "\n",
    "Now you need to tokenize the data into a format that can be used by the word embeddings. Keras offers a couple of convenience methods for [text preprocessing](https://keras.io/preprocessing/text/) and [sequence preprocessing](https://keras.io/preprocessing/sequence/) which you can employ to prepare your text.\n",
    "\n",
    "**You can start by using the** [**Tokenizer**](https://www.tensorflow.org/api_docs/python/tf/keras/preprocessing/text/Tokenizer) **utility class which can vectorize a text corpus into a list of integers. Each integer maps to a value in a dictionary that encodes the entire corpus, with the keys in the dictionary being the vocabulary terms themselves**. You can add the parameter `num_words`, which is responsible for setting the size of the vocabulary. The most common `num_words` words will be then kept. I have the testing and training data prepared from the previous example:"
   ]
  },
  {
   "cell_type": "code",
   "execution_count": 65,
   "id": "ed3da860",
   "metadata": {},
   "outputs": [
    {
     "data": {
      "text/plain": [
       "array(['Give this one a look.  ',\n",
       "       'In fact, this stinker smells like a direct-to-video release.  ',\n",
       "       'Every single character was hilarious and deserved to be called a lead.  '],\n",
       "      dtype=object)"
      ]
     },
     "execution_count": 65,
     "metadata": {},
     "output_type": "execute_result"
    }
   ],
   "source": [
    "sentences_train[:3]"
   ]
  },
  {
   "cell_type": "code",
   "execution_count": 63,
   "id": "0bb82b88",
   "metadata": {},
   "outputs": [],
   "source": [
    "tokenizer = Tokenizer(num_words=5000)\n",
    "tokenizer.fit_on_texts(sentences_train)"
   ]
  },
  {
   "cell_type": "code",
   "execution_count": 66,
   "id": "803f84b9",
   "metadata": {},
   "outputs": [],
   "source": [
    "X_train = tokenizer.texts_to_sequences(sentences_train)\n",
    "X_test = tokenizer.texts_to_sequences(sentences_test)\n",
    "vocab_size = len(tokenizer.word_index) + 1  # Adding 1 because of reserved 0 index"
   ]
  },
  {
   "cell_type": "code",
   "execution_count": 85,
   "id": "f767c5a3",
   "metadata": {},
   "outputs": [
    {
     "data": {
      "text/plain": [
       "2495"
      ]
     },
     "execution_count": 85,
     "metadata": {},
     "output_type": "execute_result"
    }
   ],
   "source": [
    "vocab_size"
   ]
  },
  {
   "cell_type": "code",
   "execution_count": 67,
   "id": "ab0b8952",
   "metadata": {},
   "outputs": [
    {
     "name": "stdout",
     "output_type": "stream",
     "text": [
      "Every single character was hilarious and deserved to be called a lead.  \n",
      "[104, 321, 75, 13, 253, 3, 917, 9, 34, 918, 2, 254]\n"
     ]
    }
   ],
   "source": [
    "# The word is mapping to an integer as index of word learned from fit\n",
    "print(sentences_train[2])\n",
    "print(X_train[2])"
   ]
  },
  {
   "cell_type": "markdown",
   "id": "31b4a99e",
   "metadata": {},
   "source": [
    "<b>The indexing is ordered after the most common words in the text, which you can see by the word `the` having the index 1</b>. It is important to note that the index 0 is reserved and is not assigned to any word. This zero index is used for padding, which I’ll introduce in a moment.\n",
    "\n",
    "Unknown words (<font color='brown'>words that are not in the vocabulary</font>) are denoted in Keras with `word_count + 1` since they can also hold some information. You can see the index of each word by taking a look at the `word_index` dictionary of the Tokenizer object:"
   ]
  },
  {
   "cell_type": "code",
   "execution_count": 73,
   "id": "13f8eba7",
   "metadata": {},
   "outputs": [
    {
     "name": "stdout",
     "output_type": "stream",
     "text": [
      "the: 1\n",
      "all: 30\n",
      "happy: 1813\n",
      "sad: 2377\n"
     ]
    }
   ],
   "source": [
    "for word in ['the', 'all', 'happy', 'sad']:\n",
    "    print('{}: {}'.format(word, tokenizer.word_index[word]))"
   ]
  },
  {
   "cell_type": "markdown",
   "id": "aac663e1",
   "metadata": {},
   "source": [
    "<b>One problem that we have is that each text sequence has in most cases different length of words.</b> To counter this, you can use [pad_sequence()](https://www.tensorflow.org/api_docs/python/tf/keras/utils/pad_sequences) which simply pads the sequence of words with zeros. By default, it prepends zeros but we want to append them. Typically it does not matter whether you prepend or append zeros.\n",
    "\n",
    "Additionally you would want to add a `maxlen` parameter to specify how long the sequences should be. This cuts sequences that exceed that number. In the following code, you can see how to pad sequences with Keras:"
   ]
  },
  {
   "cell_type": "code",
   "execution_count": 75,
   "id": "e2936652",
   "metadata": {},
   "outputs": [],
   "source": [
    "maxlen = 100\n",
    "X_train = pad_sequences(X_train, padding='post', maxlen=maxlen)\n",
    "X_test = pad_sequences(X_test, padding='post', maxlen=maxlen)"
   ]
  },
  {
   "cell_type": "code",
   "execution_count": 79,
   "id": "d84d4e9a",
   "metadata": {},
   "outputs": [
    {
     "name": "stdout",
     "output_type": "stream",
     "text": [
      "(561, 100)\n",
      "[165   6  23   2  80   0   0   0   0   0   0   0   0   0   0   0   0   0\n",
      "   0   0   0   0   0   0   0   0   0   0   0   0   0   0   0   0   0   0\n",
      "   0   0   0   0   0   0   0   0   0   0   0   0   0   0   0   0   0   0\n",
      "   0   0   0   0   0   0   0   0   0   0   0   0   0   0   0   0   0   0\n",
      "   0   0   0   0   0   0   0   0   0   0   0   0   0   0   0   0   0   0\n",
      "   0   0   0   0   0   0   0   0   0   0]\n"
     ]
    }
   ],
   "source": [
    "# Show the first word index of each sentence\n",
    "print(X_train.shape)\n",
    "print(X_train[0, :])"
   ]
  },
  {
   "cell_type": "markdown",
   "id": "c484669f",
   "metadata": {},
   "source": [
    "The first values represent the index in the vocabulary as you have learned from the previous examples. <b>You can also see that the resulting feature vector contains mostly zeros, since you have a fairly short sentence</b>. In the next part you will see how to work with word embeddings in Keras."
   ]
  },
  {
   "cell_type": "markdown",
   "id": "2d90e464",
   "metadata": {},
   "source": [
    "<a id='sect4_3'></a>\n",
    "### <font color='darkgreen'>Keras Embedding Layer</font> ([back](#sect4))\n",
    "<font size='3ptx'>Notice that, at this point, our data is still hardcoded. We have not told Keras to learn a new embedding space through successive tasks. <b>Now you can use the Embedding Layer of Keras which takes the previously calculated integers and maps them to a dense vector of the embedding</b></font>.\n",
    "\n",
    "You will need the following parameters:\n",
    "* `input_dim`: the size of the vocabulary\n",
    "* `output_dim`: the size of the dense vector\n",
    "* `input_length`: the length of the sequence\n",
    "\n",
    "\n",
    "With the [**Embedding layer**](https://keras.io/api/layers/core_layers/embedding/) we have now a couple of options. One way would be to take the output of the embedding layer and plug it into a [**Dense layer**](https://keras.io/api/layers/core_layers/dense/). In order to do this you have to add a [**Flatten layer**](https://keras.io/api/layers/reshaping_layers/flatten/) in between that prepares the sequential input for the [**Dense layer**](https://keras.io/api/layers/core_layers/dense/):"
   ]
  },
  {
   "cell_type": "code",
   "execution_count": 103,
   "id": "9d4d4fb0",
   "metadata": {},
   "outputs": [],
   "source": [
    "def dnn_model_with_embedding_layer(input_dim, input_length, embedding_dim = 50):\n",
    "    embedding_dim = 50\n",
    "\n",
    "    model = Sequential()\n",
    "    model.add(layers.Embedding(input_dim=input_dim, \n",
    "                               output_dim=embedding_dim, \n",
    "                               input_length=input_length))    \n",
    "    model.add(layers.Flatten())\n",
    "    model.add(layers.Dense(10, activation='relu'))\n",
    "    model.add(layers.Dense(1, activation='sigmoid'))\n",
    "    return model"
   ]
  },
  {
   "cell_type": "code",
   "execution_count": 104,
   "id": "8b3f46da",
   "metadata": {},
   "outputs": [],
   "source": [
    "model = dnn_model_with_embedding_layer(\n",
    "    input_dim=vocab_size,\n",
    "    input_length=maxlen)"
   ]
  },
  {
   "cell_type": "code",
   "execution_count": 105,
   "id": "f589621b",
   "metadata": {},
   "outputs": [
    {
     "name": "stdout",
     "output_type": "stream",
     "text": [
      "Model: \"sequential\"\n",
      "_________________________________________________________________\n",
      "Layer (type)                 Output Shape              Param #   \n",
      "=================================================================\n",
      "embedding (Embedding)        (None, 100, 50)           124750    \n",
      "_________________________________________________________________\n",
      "flatten (Flatten)            (None, 5000)              0         \n",
      "_________________________________________________________________\n",
      "dense (Dense)                (None, 10)                50010     \n",
      "_________________________________________________________________\n",
      "dense_1 (Dense)              (None, 1)                 11        \n",
      "=================================================================\n",
      "Total params: 174,771\n",
      "Trainable params: 174,771\n",
      "Non-trainable params: 0\n",
      "_________________________________________________________________\n"
     ]
    }
   ],
   "source": [
    "model.compile(optimizer='adam',\n",
    "              loss='binary_crossentropy',\n",
    "              metrics=['accuracy'])\n",
    "model.summary()"
   ]
  },
  {
   "cell_type": "markdown",
   "id": "491d7dfc",
   "metadata": {},
   "source": [
    "You can now see that we have 124,750 new parameters to train. This number comes from `vocab_size` times the `embedding_dim` (` 2495 * 50 = 124750`). These weights of the embedding layer are initialized with random weights and are then adjusted through backpropagation during training. This model takes the words as they come in the order of the sentences as input vectors. You can train it with the following:"
   ]
  },
  {
   "cell_type": "code",
   "execution_count": 114,
   "id": "33432b19",
   "metadata": {},
   "outputs": [
    {
     "name": "stdout",
     "output_type": "stream",
     "text": [
      "CPU times: user 4.45 s, sys: 3.32 s, total: 7.77 s\n",
      "Wall time: 4.19 s\n"
     ]
    }
   ],
   "source": [
    "%%time\n",
    "history = model.fit(X_train, y_train,\n",
    "                    epochs=20,\n",
    "                    verbose=False,\n",
    "                    validation_data=(X_test, y_test),\n",
    "                    batch_size=10)"
   ]
  },
  {
   "cell_type": "code",
   "execution_count": 107,
   "id": "e2056fcb",
   "metadata": {},
   "outputs": [
    {
     "name": "stdout",
     "output_type": "stream",
     "text": [
      "Training Accuracy: 1.0000\n",
      "Testing Accuracy:  0.6578\n"
     ]
    }
   ],
   "source": [
    "loss, accuracy = model.evaluate(X_train, y_train, verbose=False)\n",
    "print(\"Training Accuracy: {:.4f}\".format(accuracy))\n",
    "loss, accuracy = model.evaluate(X_test, y_test, verbose=False)\n",
    "print(\"Testing Accuracy:  {:.4f}\".format(accuracy))"
   ]
  },
  {
   "cell_type": "code",
   "execution_count": 108,
   "id": "bd072053",
   "metadata": {},
   "outputs": [
    {
     "data": {
      "image/png": "[encoded data removed]",
      "text/plain": [
       "<Figure size 864x360 with 2 Axes>"
      ]
     },
     "metadata": {},
     "output_type": "display_data"
    }
   ],
   "source": [
    "plot_history(history)"
   ]
  },
  {
   "cell_type": "markdown",
   "id": "d1c56847",
   "metadata": {},
   "source": [
    "Another way to work with embeddings is by using a [**MaxPooling1D**](https://keras.io/api/layers/pooling_layers/max_pooling1d/)/[**AveragePooling1D**](https://keras.io/api/layers/pooling_layers/average_pooling1d/) or a [**GlobalMaxPooling1D**](https://keras.io/api/layers/pooling_layers/global_max_pooling1d/)/[**GlobalAveragePooling1D**](https://keras.io/api/layers/pooling_layers/global_average_pooling1d/) layer after the embedding. **You can think of the pooling layers as a way to downsample** (<font color='brown'>a way to reduce the size of</font>) the incoming feature vectors.\n",
    "\n",
    "In the case of max pooling you take the maximum value of all features in the pool for each feature dimension. In the case of average pooling you take the average, but max pooling seems to be more commonly used as it highlights large values.\n",
    "\n",
    "Global max/average pooling takes the maximum/average of all features whereas in the other case you have to define the pool size. Keras has again its own layer that you can add in the sequential model:"
   ]
  },
  {
   "cell_type": "code",
   "execution_count": 110,
   "id": "3b31d554",
   "metadata": {},
   "outputs": [],
   "source": [
    "def dnn_model_with_embedding_layer_and_pooling(input_dim, input_length, embedding_dim = 50):\n",
    "    model = Sequential()\n",
    "    model.add(layers.Embedding(input_dim=input_dim, \n",
    "                               output_dim=embedding_dim, \n",
    "                               input_length=input_length))\n",
    "    model.add(layers.GlobalMaxPool1D())\n",
    "    model.add(layers.Dense(10, activation='relu'))\n",
    "    model.add(layers.Dense(1, activation='sigmoid'))\n",
    "    return model"
   ]
  },
  {
   "cell_type": "code",
   "execution_count": 119,
   "id": "03e7eb42",
   "metadata": {},
   "outputs": [
    {
     "name": "stdout",
     "output_type": "stream",
     "text": [
      "Model: \"sequential\"\n",
      "_________________________________________________________________\n",
      "Layer (type)                 Output Shape              Param #   \n",
      "=================================================================\n",
      "embedding (Embedding)        (None, 100, 50)           124750    \n",
      "_________________________________________________________________\n",
      "global_max_pooling1d (Global (None, 50)                0         \n",
      "_________________________________________________________________\n",
      "dense (Dense)                (None, 10)                510       \n",
      "_________________________________________________________________\n",
      "dense_1 (Dense)              (None, 1)                 11        \n",
      "=================================================================\n",
      "Total params: 125,271\n",
      "Trainable params: 125,271\n",
      "Non-trainable params: 0\n",
      "_________________________________________________________________\n"
     ]
    }
   ],
   "source": [
    "model = dnn_model_with_embedding_layer_and_pooling(\n",
    "    input_dim=vocab_size,\n",
    "    input_length=maxlen)\n",
    "model.compile(optimizer='adam',\n",
    "              loss='binary_crossentropy',\n",
    "              metrics=['accuracy'])\n",
    "model.summary()"
   ]
  },
  {
   "cell_type": "markdown",
   "id": "5741510a",
   "metadata": {},
   "source": [
    "The procedure for training does not change:"
   ]
  },
  {
   "cell_type": "code",
   "execution_count": 120,
   "id": "d4cc355a",
   "metadata": {},
   "outputs": [
    {
     "name": "stdout",
     "output_type": "stream",
     "text": [
      "CPU times: user 10.2 s, sys: 8.09 s, total: 18.3 s\n",
      "Wall time: 10.1 s\n"
     ]
    }
   ],
   "source": [
    "%%time\n",
    "clear_session()\n",
    "history = model.fit(X_train, y_train,\n",
    "                    epochs=50,\n",
    "                    verbose=False,\n",
    "                    validation_data=(X_test, y_test),\n",
    "                    batch_size=10)"
   ]
  },
  {
   "cell_type": "code",
   "execution_count": 121,
   "id": "9b9e642b",
   "metadata": {},
   "outputs": [
    {
     "name": "stdout",
     "output_type": "stream",
     "text": [
      "Training Accuracy: 1.0000\n",
      "Testing Accuracy:  0.7754\n"
     ]
    }
   ],
   "source": [
    "loss, accuracy = model.evaluate(X_train, y_train, verbose=False)\n",
    "print(\"Training Accuracy: {:.4f}\".format(accuracy))\n",
    "loss, accuracy = model.evaluate(X_test, y_test, verbose=False)\n",
    "print(\"Testing Accuracy:  {:.4f}\".format(accuracy))"
   ]
  },
  {
   "cell_type": "code",
   "execution_count": 122,
   "id": "b6b0ee07",
   "metadata": {},
   "outputs": [
    {
     "data": {
      "image/png": "[encoded data removed]",
      "text/plain": [
       "<Figure size 864x360 with 2 Axes>"
      ]
     },
     "metadata": {},
     "output_type": "display_data"
    }
   ],
   "source": [
    "plot_history(history)"
   ]
  },
  {
   "cell_type": "markdown",
   "id": "e79f3e46",
   "metadata": {},
   "source": [
    "You can already see some improvements in our models. Next you’ll see how we can employ pretrained word embeddings and if they help us with our model."
   ]
  },
  {
   "cell_type": "markdown",
   "id": "0550d809",
   "metadata": {},
   "source": [
    "<a id='sect4_4'></a>\n",
    "### <font color='darkgreen'>Using Pretrained Word Embeddings</font> ([back](#sect4))\n",
    "<font size='3ptx'><b>We just saw an example of jointly learning word embeddings incorporated into the larger model that we want to solve. Next we will see how to employ pretrained word embeddings and if they help us with our model.</b></font>"
   ]
  },
  {
   "cell_type": "markdown",
   "id": "d95f8b2c",
   "metadata": {},
   "source": [
    "## <font color='darkblue'>Supplement</font>\n",
    "* [Matplotlib - Draw vertical line matplotlib](https://pythonguides.com/draw-vertical-line-matplotlib/)"
   ]
  }
 ],
 "metadata": {
  "kernelspec": {
   "display_name": "Python 3 (ipykernel)",
   "language": "python",
   "name": "python3"
  },
  "language_info": {
   "codemirror_mode": {
    "name": "ipython",
    "version": 3
   },
   "file_extension": ".py",
   "mimetype": "text/x-python",
   "name": "python",
   "nbconvert_exporter": "python",
   "pygments_lexer": "ipython3",
   "version": "3.8.10"
  }
 },
 "nbformat": 4,
 "nbformat_minor": 5
}
