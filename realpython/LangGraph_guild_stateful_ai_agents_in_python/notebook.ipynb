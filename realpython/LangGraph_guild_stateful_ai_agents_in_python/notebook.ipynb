{
 "cells": [
  {
   "cell_type": "markdown",
   "id": "9015eecf-0d82-4517-85cc-c16aacbaa8b4",
   "metadata": {},
   "source": [
    "## <b><font color='darkblue'>Preface</font></b>\n",
    "([source](https://realpython.com/langgraph-python/?fbclid=IwZXh0bgNhZW0CMTEAAR6wBnQpFfskJnubHhtPKpXLUjnoDzFtpHy2cwGMmslw5lZyysdVxaC6UyuatA_aem_ytzTtBvnm47u4-OB0E_dkw)) <font size='3ptx'><b>[LangGraph](https://www.langchain.com/langgraph) is a versatile Python library designed for stateful, cyclic, and multi-actor [**Large Language Model**](https://en.wikipedia.org/wiki/Large_language_model) (LLM) applications</b>. LangGraph builds upon its parent library, [**LangChain**](https://www.langchain.com/), and allows you to build sophisticated workflows that are capable of handling the complexities of real-world LLM applications.</font>\n",
    "\n",
    "By the end of this tutorial, you’ll understand that:\n",
    "* You can use [**LangGraph**](https://www.langchain.com/langgraph) to build LLM workflows by defining state graphs with nodes and edges.\n",
    "* [**LangGraph**](https://www.langchain.com/langgraph) expands [**LangChain**](https://www.langchain.com/)’s capabilities by providing tools to build complex LLM workflows with state, conditional edges, and cycles.\n",
    "* LLM agents in [**LangGraph**](https://www.langchain.com/langgraph) autonomously process tasks using state graphs to make decisions and interact with tools or APIs.\n",
    "* You can use [**LangGraph**](https://www.langchain.com/langgraph) independently of [**LangChain**](https://www.langchain.com/), although they’re often used together to complement each other.\n",
    "\n",
    "\n",
    "Explore the full tutorial to gain hands-on experience with [**LangGraph**](https://www.langchain.com/langgraph), including setting up workflows and building a LangGraph agent that can autonomously parse emails, send emails, and interact with API services.\n",
    "\n",
    "\n",
    "While you’ll get a brief primer on [**LangChain**](https://www.langchain.com/) in this tutorial, you’ll benefit from having prior knowledge of LangChain fundamentals. You’ll also want to ensure you have intermediate Python knowledge—specifically in object-oriented programming concepts like classes and methods."
   ]
  },
  {
   "cell_type": "code",
   "execution_count": 1,
   "id": "19382cb0-f670-4113-9ecb-8a2a0c1ac135",
   "metadata": {},
   "outputs": [],
   "source": [
    "from IPython.display import Image"
   ]
  },
  {
   "cell_type": "markdown",
   "id": "41a4dc5d-73e3-4190-82d0-a048840c82f7",
   "metadata": {},
   "source": [
    "### <b><font color='darkgreen'>Install LangGraph</font></b>\n",
    "LangGraph is available on PyPI, and you can install it with pip. Open a terminal or command prompt, create a new virtual environment, and then run the following command:\n",
    "```shell\n",
    "(venv) $ python -m pip install langgraph\n",
    "```"
   ]
  },
  {
   "cell_type": "code",
   "execution_count": 1,
   "id": "d7cb56b6-ba9f-4832-8f8c-b45cbcb3386a",
   "metadata": {},
   "outputs": [
    {
     "name": "stdout",
     "output_type": "stream",
     "text": [
      "langgraph==0.3.21\n",
      "langgraph-checkpoint==2.0.23\n",
      "langgraph-prebuilt==0.1.7\n",
      "langgraph-sdk==0.1.60\n"
     ]
    }
   ],
   "source": [
    "!pip freeze | grep langgraph"
   ]
  },
  {
   "cell_type": "markdown",
   "id": "2968706f-5636-4065-89a7-661b92638b03",
   "metadata": {},
   "source": [
    "You’ll also need a few more libraries for this tutorial:\n",
    "```shell\n",
    "(venv) $ pip install langchain-openai \"pydantic[email]\"\n",
    "```"
   ]
  },
  {
   "cell_type": "code",
   "execution_count": 2,
   "id": "5b80cb25-0aba-44a5-8714-b404ea778bba",
   "metadata": {},
   "outputs": [
    {
     "name": "stdout",
     "output_type": "stream",
     "text": [
      "langchain-openai==0.3.11\n",
      "pydantic==2.10.6\n",
      "pydantic-settings==2.8.1\n",
      "pydantic_core==2.27.2\n"
     ]
    }
   ],
   "source": [
    "!pip freeze | grep -P '(langchain-openai|pydantic)'"
   ]
  },
  {
   "cell_type": "markdown",
   "id": "7e397599-d82b-4f02-acc3-80c287a8c421",
   "metadata": {},
   "source": [
    "You’ll use [`langchain-openai`](https://github.com/langchain-ai/langchain) to interact with OpenAI LLMs, but keep in mind that **you can use any LLM provider you like with LangGraph and LangChain**. You’ll **use [pydantic](https://realpython.com/python-pydantic/) to validate the information your agent parses from emails**.\n",
    "\n",
    "Before moving forward, if you choose to use OpenAI, make sure you’re signed up for an OpenAI account and that you have a valid [**API key**](https://openai.com/api/). You’ll need to set the following [environment variable](https://en.wikipedia.org/wiki/Environment_variable) before running any examples in this tutorial:\n",
    "```shell\n",
    "OPENAI_API_KEY=<YOUR-OPENAI-API-KEY>\n",
    "```\n",
    "\n",
    "Note that while LangGraph was made by the creators of LangChain, and the two libraries are highly compatible, it’s possible to use LangGraph without LangChain. However, it’s more common to use LangChain and LangGraph together, and you’ll see throughout this tutorial how they complement each other."
   ]
  },
  {
   "cell_type": "code",
   "execution_count": 2,
   "id": "0c89904a-8d91-4c09-962b-f5badd913aa1",
   "metadata": {},
   "outputs": [],
   "source": [
    "import os\n",
    "from dotenv import load_dotenv, find_dotenv\n",
    "\n",
    "# We defined the environment variable `OPENAI_API_KEY` in `~/.env`\n",
    "_ = load_dotenv(find_dotenv(os.path.expanduser('~/.env')))"
   ]
  },
  {
   "cell_type": "markdown",
   "id": "ae5e853e-36be-4de8-acd7-54690194eddb",
   "metadata": {},
   "source": [
    "<b>With that, you’ve installed all the dependencies you’ll need for this tutorial, and you’re ready to create your LangGraph email processor</b>. Before diving in, you’ll take a brief detour to set up quick sanity tests for your app. Then, <b>you’ll go through an overview of LangChain chains and explore LangGraph’s core concept—the state graph</b>."
   ]
  },
  {
   "cell_type": "markdown",
   "id": "2575d23d-0f59-446b-ae95-c53dfde76639",
   "metadata": {},
   "source": [
    "### <b><font color='darkgreen'>Create Test Cases</font></b>\n",
    "<font size='3ptx'><b>When developing AI applications, testing and performance tracking is crucial for understanding how your chain, graph, or agent performs in the real world.</b> While performance tracking is out of scope for this tutorial, you’ll use several example emails to test your chains, graphs, and agent, and you’ll empirically inspect whether their outputs are correct</font>.\n",
    "\n",
    "To avoid redefining these examples each time, create the following Python file with example emails:"
   ]
  },
  {
   "cell_type": "code",
   "execution_count": 4,
   "id": "c288384a-7b43-4ee5-84b2-8b30892b2937",
   "metadata": {},
   "outputs": [],
   "source": [
    "EMAILS = [\n",
    "    # Email 0\n",
    "    \"\"\"\n",
    "    Date: October 15, 2024\n",
    "    From: Occupational Safety and Health Administration (OSHA)\n",
    "    To: Blue Ridge Construction, project 111232345 - Downtown Office\n",
    "    Complex Location: Dallas, TX\n",
    "\n",
    "    During a recent inspection of your construction site at 123 Main\n",
    "    Street,\n",
    "    the following safety violations were identified:\n",
    "\n",
    "    Lack of fall protection: Workers on scaffolding above 10 feet\n",
    "    were without required harnesses or other fall protection\n",
    "    equipment. Unsafe scaffolding setup: Several scaffolding\n",
    "    structures were noted as\n",
    "    lacking secure base plates and bracing, creating potential\n",
    "    collapse risks.\n",
    "    Inadequate personal protective equipment (PPE): Multiple\n",
    "    workers were\n",
    "    found without proper PPE, including hard hats and safety\n",
    "    glasses.\n",
    "    Required Corrective Actions:\n",
    "\n",
    "    Install guardrails and fall arrest systems on all scaffolding\n",
    "    over 10 feet. Conduct an inspection of all scaffolding\n",
    "    structures and reinforce unstable sections. Ensure all\n",
    "    workers on-site are provided\n",
    "    with necessary PPE and conduct safety training on proper\n",
    "    usage.\n",
    "    Deadline for Compliance: All violations must be rectified\n",
    "    by November 10, 2024. Failure to comply may result in fines\n",
    "    of up to\n",
    "    $25,000 per violation.\n",
    "\n",
    "    Contact: For questions or to confirm compliance, please reach\n",
    "    out to the\n",
    "    OSHA regional office at (555) 123-4567 or email\n",
    "    compliance.osha@osha.gov.\n",
    "    \"\"\",\n",
    "    # Email 1\n",
    "    \"\"\"\n",
    "    From: debby@stack.com\n",
    "    Hey Betsy,\n",
    "    Here's your invoice for $1000 for the cookies you ordered.\n",
    "    \"\"\",\n",
    "    # Email 2\n",
    "    \"\"\"\n",
    "    From: tdavid@companyxyz.com\n",
    "    Hi Paul,\n",
    "    We have an issue with the HVAC system your team installed in\n",
    "    apartment 1235. We'd like to request maintenance or a refund.\n",
    "    Thanks,\n",
    "    Terrance\n",
    "    \"\"\",\n",
    "    # Email 3\n",
    "    \"\"\"\n",
    "    Date: January 10, 2025\n",
    "    From: City of Los Angeles Building and Safety Department\n",
    "    To: West Coast Development, project 345678123 - Sunset Luxury\n",
    "    Condominiums\n",
    "    Location: Los Angeles, CA\n",
    "    Following an inspection of your site at 456 Sunset Boulevard, we have\n",
    "    identified the following building code violations:\n",
    "    Electrical Wiring: Exposed wiring was found in the underground parking\n",
    "    garage, posing a safety hazard. Fire Safety: Insufficient fire\n",
    "    extinguishers were available across multiple floors of the structure\n",
    "    under construction.\n",
    "    Structural Integrity: The temporary support beams in the eastern wing\n",
    "    do not meet the load-bearing standards specified in local building\n",
    "    codes.\n",
    "    Required Corrective Actions:\n",
    "    Replace or properly secure exposed wiring to meet electrical safety\n",
    "    standards. Install additional fire extinguishers in compliance with\n",
    "    fire code requirements. Reinforce or replace temporary support beams\n",
    "    to ensure structural stability. Deadline for Compliance: Violations\n",
    "    must be addressed no later than February 5,\n",
    "    2025. Failure to comply may result in\n",
    "    a stop-work order and additional fines.\n",
    "    Contact: For questions or to schedule a re-inspection, please contact\n",
    "    the Building and Safety Department at\n",
    "    (555) 456-7890 or email inspections@lacity.gov.\n",
    "    \"\"\",\n",
    "]"
   ]
  },
  {
   "cell_type": "markdown",
   "id": "51805171-3216-41ee-9082-5c5e190170be",
   "metadata": {},
   "source": [
    "You can read through these right now if you want, but you’ll get links back to these test emails throughout the tutorial."
   ]
  },
  {
   "cell_type": "markdown",
   "id": "a6bd8c3a-1196-432a-bdd0-58958ac93e2b",
   "metadata": {},
   "source": [
    "### <b><font color='darkgreen'>Preview of State Graphs</font></b>\n",
    "<font size='3ptx'><b>As you might have inferred from the name, LangGraph is all about implementing LLM applications as directed graphs.</b> You can think of a directed graph as a sequence of instructions composed of nodes and edges, that tell you how to complete a task.</font>\n",
    "\n",
    "In [**LangGraph**](https://www.langchain.com/langgraph), <b>nodes represent actions that your graph can take, such as calling a function, and edges tell you which node to go to next</b>.\n",
    "\n",
    "To understand this better, take a look at this directed graph:\n",
    "![graph](https://realpython.com/cdn-cgi/image/width=1418,format=auto/https://files.realpython.com/media/Screenshot_2024-11-25_at_2.28.24_PM.ab4b12f7d677.png)\n",
    "\n",
    "This graph models what you might do when you eat a meal in a cafeteria. It consists of two actions represented by nodes: <b>Buy Food</b> and <b>Eat Food</b>. Once you’ve eaten, you ask yourself: `Am I still hungry`, or `am I full`?\n",
    "\n",
    "The dotted arrows, which are edges, represent the answers to this question. If you’re still hungry, you buy more food and eat it. This cycle continues until you’re full, at which point you leave the cafeteria.\n",
    "\n",
    "This simple example illustrates the essence of how LangGraph represents and implements LLM applications. In this tutorial, you’re going to step into the shoes of an AI engineer at a large real estate development firm and build a graph to process emails from regulatory agencies. Your graph will:\n",
    "* Extract structured fields like dates, names, phone numbers, and locations from email messages\n",
    "* Notify internal stakeholders if an email requires immediate escalation\n",
    "* Create tickets with your company’s legal team using the information extracted from the email\n",
    "* Forward and reply to emails that were sent to the wrong address\n",
    "\n",
    "To understand why [**LangGraph**](https://www.langchain.com/langgraph) is a great choice for building this type of application, you’ll begin by reviewing and building a [**LangChain**](https://www.langchain.com/) chain, and you’ll see why chains can’t accomplish the tasks listed above."
   ]
  },
  {
   "cell_type": "markdown",
   "id": "0b11b070-ddb3-4aa7-962c-010ee6b9b184",
   "metadata": {},
   "source": [
    "### <b><font color='darkgreen'>LangChain Chains and Their Limitations</font></b>\n",
    "<font size='3ptx'><b>Suppose you work for a large real estate development company. Your company receives hundreds of emails a day from regulatory entities and other organizations regarding active construction sites.</b> For instance, your company might receive a notice from an inspector saying that a construction site doesn’t comply with safety regulations.</font>\n",
    "\n",
    "<b>Your job is to build a tool that can read these emails, extract critical information from them, and notify the correct internal team who will take action</b>. \n",
    "\n",
    "<b>The first step you’ll take to accomplish this is to build a LangChain chain that uses an LLM to extract structured fields from a regulatory notice email</b>. You start by defining a Pydantic [**BaseModel**](https://docs.pydantic.dev/latest/api/base_model/) that describes all the fields you want to extract from the email:"
   ]
  },
  {
   "cell_type": "code",
   "execution_count": 5,
   "id": "fc85f854-6535-49b4-b167-fa331505013f",
   "metadata": {},
   "outputs": [],
   "source": [
    "from datetime import datetime, date\n",
    "from langchain_core.prompts import ChatPromptTemplate\n",
    "from langchain_openai import ChatOpenAI\n",
    "from pydantic import BaseModel, Field, computed_field\n",
    "\n",
    "\n",
    "class NoticeEmailExtract(BaseModel):\n",
    "    date_of_notice_str: str | None = Field(\n",
    "        default=None,\n",
    "        exclude=True,\n",
    "        repr=False,\n",
    "        description=\"\"\"The date of the notice (if any) reformatted\n",
    "        to match YYYY-mm-dd\"\"\",\n",
    "    )\n",
    "    entity_name: str | None = Field(\n",
    "        default=None,\n",
    "        description=\"\"\"The name of the entity sending the notice (if present\n",
    "        in the message)\"\"\",\n",
    "    )\n",
    "    entity_phone: str | None = Field(\n",
    "        default=None,\n",
    "        description=\"\"\"The phone number of the entity sending the notice\n",
    "        (if present in the message)\"\"\",\n",
    "    )\n",
    "    entity_email: str | None = Field(\n",
    "        default=None,\n",
    "        description=\"\"\"The email of the entity sending the notice\n",
    "        (if present in the message)\"\"\",\n",
    "    )\n",
    "    project_id: int | None = Field(\n",
    "        default=None,\n",
    "        description=\"\"\"The project ID (if present in the message) -\n",
    "        must be an integer\"\"\",\n",
    "    )\n",
    "    site_location: str | None = Field(\n",
    "        default=None,\n",
    "        description=\"\"\"The site location of the project (if present\n",
    "        in the message). Use the full address if possible.\"\"\",\n",
    "    )\n",
    "    violation_type: str | None = Field(\n",
    "        default=None,\n",
    "        description=\"\"\"The type of violation (if present in the\n",
    "        message)\"\"\",\n",
    "    )\n",
    "    required_changes: str | None = Field(\n",
    "        default=None,\n",
    "        description=\"\"\"The required changes specified by the entity\n",
    "        (if present in the message)\"\"\",\n",
    "    )\n",
    "    compliance_deadline_str: str | None = Field(\n",
    "        default=None,\n",
    "        exclude=True,\n",
    "        repr=False,\n",
    "        description=\"\"\"The date that the company must comply (if any)\n",
    "        reformatted to match YYYY-mm-dd\"\"\",\n",
    "    )\n",
    "    max_potential_fine: float | None = Field(\n",
    "        default=None,\n",
    "        description=\"\"\"The maximum potential fine\n",
    "        (if any)\"\"\",\n",
    "    )\n",
    "\n",
    "    @staticmethod\n",
    "    def _convert_string_to_date(date_str: str | None) -> date | None:\n",
    "        try:\n",
    "            return datetime.strptime(date_str, \"%Y-%m-%d\").date()\n",
    "        except Exception as e:\n",
    "            print(e)\n",
    "            return None\n",
    "\n",
    "    @computed_field\n",
    "    @property\n",
    "    def date_of_notice(self) -> date | None:\n",
    "        return self._convert_string_to_date(self.date_of_notice_str)\n",
    "\n",
    "    @computed_field\n",
    "    @property\n",
    "    def compliance_deadline(self) -> date | None:\n",
    "        return self._convert_string_to_date(self.compliance_deadline_str)"
   ]
  },
  {
   "cell_type": "markdown",
   "id": "a00fda15-7795-4155-a11e-4ade796b2e43",
   "metadata": {},
   "source": [
    "You first import all of the dependencies you’ll need to create your chain. Then, you define <b><font color='blue'>NoticeEmailExtract</font></b><b>, which is a Pydantic BaseModel that provides type definitions and descriptions of each field you want to extract</b>. Downstream, LangChain will pass the information in the <b><font color='blue'>NoticeEmailExtract</font></b> definition to an LLM as raw text. <b>The LLM will try to extract these fields from an email based on the type hints and description parameters in <font color='blue'>Field(...)</font></b>.\n",
    "\n",
    "As an example, the LLM will try to identify and extract the `project ID` corresponding to the construction site discussed in the email. If successfully extracted, the LLM will return the project ID in a [**JSON**](https://realpython.com/python-json/) object with an integer `project_id` entry. If it’s unable to extract a project ID, the `project_id` entry will be None.\n",
    "\n",
    "You may have noticed that `date_of_notice` and `compliance_deadline` are Pydantic [**computed field**](https://docs.pydantic.dev/2.0/usage/computed_fields/) properties that are derived from `date_of_notice_str` and `compliance_deadline_str`, respectively. **Since OpenAI LLMs can’t natively extract fields as a date data type, the LLM first extracts dates as strings. Then, you use computed field properties to convert those strings to dates**.\n",
    "\n",
    "For example, the LLM extracts `2025-01-01` for `date_of_notice_str`. Your <b><font color='blue'>NoticeEmailExtract</font></b> instance will convert this to a date object for `January 1, 2025`, and it will store this in a new field called `date_of_notice`.\n",
    "\n",
    "Also, because `exclude` is `True` and `repr` is `False` in the definition of `date_of_notice_str`, you won’t see `date_of_notice_str` when you serialize or display <b><font color='blue'>NoticeEmailExtract</font></b>. It will be as if the LLM extracted `date_of_notice` directly as a date. (For more details of explanation here, refer to [API doc of Field here](https://docs.pydantic.dev/dev/api/fields/#pydantic.fields.Field))\n",
    "\n",
    "Next, you create a chain to parse notice emails using <b><font color='blue'>NoticeEmailExtract</font></b>:"
   ]
  },
  {
   "cell_type": "code",
   "execution_count": 6,
   "id": "2e654645-f3fe-4f5a-b921-f7e583e7da1c",
   "metadata": {},
   "outputs": [],
   "source": [
    "info_parse_prompt = ChatPromptTemplate.from_messages(\n",
    "    [\n",
    "        (\n",
    "            \"system\",\n",
    "            \"\"\"\n",
    "            Parse the date of notice, sending entity name, sending entity\n",
    "            phone, sending entity email, project id, site location,\n",
    "            violation type, required changes, compliance deadline, and\n",
    "            maximum potential fine from the message. If any of the fields\n",
    "            aren't present, don't populate them. Try to cast dates into\n",
    "            the YYYY-mm-dd format. Don't populate fields if they're not\n",
    "            present in the message.\n",
    "\n",
    "            Here's the notice message:\n",
    "\n",
    "            {message}\n",
    "            \"\"\",\n",
    "        )\n",
    "    ]\n",
    ")\n",
    "\n",
    "notice_parser_model = ChatOpenAI(model=\"gpt-4o-mini\", temperature=0)\n",
    "\n",
    "NOTICE_PARSER_CHAIN = (\n",
    "    info_parse_prompt\n",
    "    | notice_parser_model.with_structured_output(NoticeEmailExtract)\n",
    ")"
   ]
  },
  {
   "cell_type": "markdown",
   "id": "f9907cec-7c5f-44dc-945b-9b4131df3c31",
   "metadata": {},
   "source": [
    "You define `info_parse_prompt` to tell the LLM how it should behave and which tasks it should accomplish. In this case, you’re instructing it to extract structured fields from an email notice. The `{message}` parameter is a placeholder that will store the email you pass through the chain.\n",
    "\n",
    "You then instantiate a `ChatOpenAI` model using `gpt-4o-mini` as the foundation model—you can experiment with different LLM providers and models here. Lastly, you instantiate `NOTICE_PARSER_CHAIN` using the [**LangChain Expression Language (LCEL)**](https://realpython.com/build-llm-rag-chatbot-with-langchain/#chains-and-langchain-expression-language-lcel).\n",
    "\n",
    "This statement creates a chain that injects an email into the `message` parameter of `info_parse_prompt`. It then passes the output of `info_parse_prompt` to `notice_parser_model`. By calling `.with_structured_output(NoticeEmailExtract)`, [**LangChain**](https://www.langchain.com/) converts your <b><font color='blue'>NoticeEmailExtract</font></b> base model to a prompt that tells the LLM to adhere its output to the schema defined by <b><font color='blue'>NoticeEmailExtract</font></b>."
   ]
  },
  {
   "cell_type": "markdown",
   "id": "7127c51b-461f-486e-93f0-6eedd98ed4f7",
   "metadata": {},
   "source": [
    "To bring this all together, let's test `NOTICE_PARSER_CHAIN` on an example email notice:"
   ]
  },
  {
   "cell_type": "code",
   "execution_count": 7,
   "id": "7fa735a3-a5b7-4d62-9274-bf63c257dc09",
   "metadata": {},
   "outputs": [],
   "source": [
    "output = NOTICE_PARSER_CHAIN.invoke({\"message\": EMAILS[0]})"
   ]
  },
  {
   "cell_type": "markdown",
   "id": "bd472bce-dc81-4016-8445-0773c07018e0",
   "metadata": {},
   "source": [
    "In order to leverage package `devtools` to print Pydantic BaseModel in a nice way, you have to install it:\n",
    "```shell\n",
    "$ pip install devtools\n",
    "```"
   ]
  },
  {
   "cell_type": "code",
   "execution_count": 8,
   "id": "cef383cb-ce2f-4f01-8ced-98d02f61126c",
   "metadata": {},
   "outputs": [],
   "source": [
    "!pip freeze | grep 'devtools'"
   ]
  },
  {
   "cell_type": "code",
   "execution_count": 10,
   "id": "56bfb85d-1f07-46ef-9505-1234a1ceba89",
   "metadata": {},
   "outputs": [
    {
     "name": "stdout",
     "output_type": "stream",
     "text": [
      "NoticeEmailExtract(\n",
      "    entity_name='Occupational Safety and Health Administration (OSHA)',\n",
      "    entity_phone='(555) 123-4567',\n",
      "    entity_email='compliance.osha@osha.gov',\n",
      "    project_id=111232345,\n",
      "    site_location='123 Main Street, Dallas, TX',\n",
      "    violation_type='Lack of fall protection, Unsafe scaffolding setup, Inadequate personal protective equipment (PPE)',\n",
      "    required_changes=(\n",
      "        'Install guardrails and fall arrest systems on all scaffolding over 10 feet. Conduct an inspection of all scaf'\n",
      "        'folding structures and reinforce unstable sections. Ensure all workers on-site are provided with necessary PP'\n",
      "        'E and conduct safety training on proper usage.'\n",
      "    ),\n",
      "    max_potential_fine=25000.0,\n",
      "    date_of_notice=datetime.date(2024, 10, 15),\n",
      "    compliance_deadline=datetime.date(2024, 11, 10),\n",
      ")\n"
     ]
    }
   ],
   "source": [
    "from devtools import pprint\n",
    "\n",
    "pprint(output)"
   ]
  },
  {
   "cell_type": "markdown",
   "id": "089b7455-6236-4b09-bb21-57f9d41b2b7e",
   "metadata": {},
   "source": [
    "You can see that `NOTICE_PARSER_CHAIN` successfully parses the email and returns a <b><font color='blue'>NoticeEmailExtract</font></b>. It’s pretty awesome that `NOTICE_PARSER_CHAIN`, and specifically `gpt-4o-mini`, pulled these fields out of raw text. <b>Think about how difficult it would be to write logic to do this without an LLM!</b>\n",
    "\n",
    "You’ll see that `date_of_notice` and `compliance_deadline` are [**date**](https://docs.python.org/3/library/datetime.html#date-objects) objects, and `date_of_notice_str` and `compliance_deadline_str` aren’t displayed. This shows that the LLM successfully extracted the two dates as strings and your computed field properties converted them to [**date**](https://docs.python.org/3/library/datetime.html#date-objects) objects.\n",
    "\n",
    "Not only did `NOTICE_PARSER_CHAIN` extract these fields, it did so with high accuracy. For example, `NOTICE_PARSER_CHAIN` extracted the date the notice was received, the entity that sent it, and even the maximum potential fine for non-compliance. Notice how all of the extracted fields are the correct data type that you specified when defining <b><font color='blue'>NoticeEmailExtract</font></b>—all of this without having to write a single line of type conversion logic"
   ]
  },
  {
   "cell_type": "markdown",
   "id": "a14fe912-bb6a-4d7b-bbdb-49b3bc26a36b",
   "metadata": {},
   "source": [
    "Next, you’ll <b>build another chain that you’ll use throughout this tutorial. This chain will check whether the email notice requires escalation within the company based on a text description of what constitutes escalation</b>.\n",
    "\n",
    "For example, you might want to escalate a message if employees are in danger, or if the notice warns about a fine above a specified threshold. Here’s what the escalation chain looks like:"
   ]
  },
  {
   "cell_type": "code",
   "execution_count": 11,
   "id": "d5fe44ff-5906-41d8-b994-18806224fc87",
   "metadata": {},
   "outputs": [],
   "source": [
    "class EscalationCheck(BaseModel):\n",
    "    needs_escalation: bool = Field(\n",
    "        description=\"\"\"Whether the notice requires escalation\n",
    "        according to specified criteria\"\"\"\n",
    "    )\n",
    "\n",
    "\n",
    "escalation_prompt = ChatPromptTemplate.from_messages(\n",
    "    [\n",
    "        (\n",
    "            \"system\",\n",
    "            \"\"\"\n",
    "            Determine whether the following notice received\n",
    "            from a regulatory body requires immediate escalation.\n",
    "            Immediate escalation is required when {escalation_criteria}.\n",
    "\n",
    "            Here's the notice message:\n",
    "\n",
    "            {message}\n",
    "            \"\"\",\n",
    "        )\n",
    "    ]\n",
    ")\n",
    "\n",
    "escalation_check_model = ChatOpenAI(model=\"gpt-4o-mini\", temperature=0)\n",
    "\n",
    "ESCALATION_CHECK_CHAIN = (\n",
    "    escalation_prompt\n",
    "    | escalation_check_model.with_structured_output(EscalationCheck)\n",
    ")"
   ]
  },
  {
   "cell_type": "markdown",
   "id": "95c5e229-f66c-4d47-9941-742236ceee0b",
   "metadata": {},
   "source": [
    "Here’s what `ESCALATION_CHECK_CHAIN` looks like in action:"
   ]
  },
  {
   "cell_type": "code",
   "execution_count": 12,
   "id": "decdb46e-b387-400e-b94d-f28f5d09fe80",
   "metadata": {},
   "outputs": [],
   "source": [
    "escalation_criteria = 'There is currently water damage or potential water damage reported.'\n",
    "message = 'Several cracks in the foundation have been identified along with water leaks'\n",
    "\n",
    "output = ESCALATION_CHECK_CHAIN.invoke(\n",
    "    {\"message\": message, \"escalation_criteria\": escalation_criteria})"
   ]
  },
  {
   "cell_type": "code",
   "execution_count": 13,
   "id": "9837033b-eba7-44b3-9438-d868d0d926c7",
   "metadata": {},
   "outputs": [
    {
     "name": "stdout",
     "output_type": "stream",
     "text": [
      "EscalationCheck(\n",
      "    needs_escalation=True,\n",
      ")\n"
     ]
    }
   ],
   "source": [
    "pprint(output)"
   ]
  },
  {
   "cell_type": "code",
   "execution_count": 14,
   "id": "9f2b0b89-7f22-4733-9646-37b620d5b461",
   "metadata": {},
   "outputs": [],
   "source": [
    "message = 'The wheel chair ramps are too steep'\n",
    "output = ESCALATION_CHECK_CHAIN.invoke(\n",
    "    {\"message\": message, \"escalation_criteria\": escalation_criteria})"
   ]
  },
  {
   "cell_type": "code",
   "execution_count": 15,
   "id": "c642c6fe-14fa-4f81-ac59-34decbbf6158",
   "metadata": {},
   "outputs": [
    {
     "name": "stdout",
     "output_type": "stream",
     "text": [
      "EscalationCheck(\n",
      "    needs_escalation=False,\n",
      ")\n"
     ]
    }
   ],
   "source": [
    "pprint(output)"
   ]
  },
  {
   "cell_type": "markdown",
   "id": "33fbc46b-59d6-433d-a7b7-41d9d3038c7d",
   "metadata": {},
   "source": [
    "<b>You now have the first two components of your email parsing system built, but in isolation, `NOTICE_PARSER_CHAIN` and `ESCALATION_CHECK_CHAIN` don’t exactly solve your problems</b>. You want your system to take different actions depending on whether the email requires escalation. You also might want to check if the email even comes from a regulatory body, and forward it to the correct department if it doesn’t.\n",
    "\n",
    "<b>This is where chains reach their limit. They’re not designed to handle state or make conditional decisions, such as determining which action to take if an email requires escalation</b>. To tackle more complex tasks, you’ll need more than a stateless chain that passes data linearly from one step to the next. <b>This is where [LangGraph](https://www.langchain.com/langgraph)’s core object—the state graph—comes in to help</b>."
   ]
  },
  {
   "cell_type": "markdown",
   "id": "9f58dc38-fb99-46d9-b2b8-948fbd3c4446",
   "metadata": {},
   "source": [
    "## <b><font color='darkblue'>Work With State Graphs</font></b>"
   ]
  },
  {
   "cell_type": "markdown",
   "id": "ec7d8a0f-6c29-474d-a122-43976b2e5fcd",
   "metadata": {},
   "source": [
    "### <b><font color='darkgreen'>Build Your First State Graph</font></b>\n",
    "<font size='3ptx'><b>Now that you’ve built the notice parsing and escalation check chains, you need to orchestrate them and add additional functionality that your company requires to process notice emails.</b> To do this, you’ll use LangGraph’s StateGraph to create a graph that builds upon `NOTICE_PARSER_CHAIN` and `ESCALATION_CHECK_CHAIN`.</font>\n",
    "\n",
    "Before getting started, you’ll want to initialize a logger that you’ll use throughout this tutorial:"
   ]
  },
  {
   "cell_type": "code",
   "execution_count": 16,
   "id": "ef59febe-3c30-427a-8303-420e93b2e62d",
   "metadata": {},
   "outputs": [],
   "source": [
    "import logging\n",
    "\n",
    "logging.getLogger(\"httpx\").setLevel(logging.WARNING)\n",
    "logging.basicConfig(\n",
    "    level=logging.INFO, format=\"%(asctime)s - %(levelname)s - %(message)s\"\n",
    ")\n",
    "LOGGER = logging.getLogger('demo')"
   ]
  },
  {
   "cell_type": "markdown",
   "id": "419d7389-9396-4511-9eef-5269c5434fa2",
   "metadata": {},
   "source": [
    "Here, you initialize a standard logger that displays informational messages from all libraries besides `httpx`. For `httpx`, you’ll only show warnings. This will keep your logs clean later on in the tutorial.\n",
    "\n",
    "<b><font color='orange'>Notes:</font></b> You’re not directly using `httpx` in your code. However, the `httpx` library is a dependency of LangGraph and is used under the hood to communicate with the AI models."
   ]
  },
  {
   "cell_type": "markdown",
   "id": "717a55d0-9065-4dae-9580-df6e10494dab",
   "metadata": {},
   "source": [
    "Now you can initialize your first graph:"
   ]
  },
  {
   "cell_type": "code",
   "execution_count": 17,
   "id": "c9f6d055-ace1-4ba6-b448-b1fe35ae4fbb",
   "metadata": {},
   "outputs": [],
   "source": [
    "from typing import TypedDict\n",
    "from chains.escalation_check import ESCALATION_CHECK_CHAIN\n",
    "from chains.notice_extraction import NOTICE_PARSER_CHAIN, NoticeEmailExtract\n",
    "from langgraph.graph import END, START, StateGraph\n",
    "from pydantic import EmailStr\n",
    "\n",
    "\n",
    "class GraphState(TypedDict):\n",
    "    notice_message: str\n",
    "    notice_email_extract: NoticeEmailExtract | None\n",
    "    escalation_text_criteria: str\n",
    "    escalation_dollar_criteria: float\n",
    "    requires_escalation: bool\n",
    "    escalation_emails: list[EmailStr] | None\n",
    "    follow_ups: dict[str, bool] | None\n",
    "    current_follow_up: str | None\n",
    "\n",
    "workflow = StateGraph(GraphState)"
   ]
  },
  {
   "cell_type": "markdown",
   "id": "df35c2c1-119b-419a-b47d-ad82c3f2e64c",
   "metadata": {},
   "source": [
    "You first import dependencies. Notice that you import the chains you built previously. You then define <b><font color='blue'>GraphState</font></b>—a [**typed dictionary**](https://typing.readthedocs.io/en/latest/spec/typeddict.html#typeddict) that defines the information each node in your graph updates and passes to the next node. Note that by inheriting from [**TypedDict**](https://docs.python.org/3/library/typing.html#typing.TypedDict), [**LangGraph**](https://www.langchain.com/langgraph) ensures each field in <b><font color='blue'>GraphState</font></b> has the correct type when populated. Here’s what each field in <b><font color='blue'>GraphState</font></b> stores:\n",
    "* **`notice_message`**: The notice email that you want to parse and process.\n",
    "* **`notice_email_extract`**: A <b><font color='blue'>NoticeEmailExtract</font></b> instance, which is the output of running `notice_message` through `NOTICE_PARSER_CHAIN`. When you initialize the graph, `notice_email_extract` is None.\n",
    "* **`escalation_text_critera`**: A text description of how to determine whether an email notice requires immediate escalation.\n",
    "* **`escalation_dollar_criteria`**: A threshold for the smallest maximum potential fine used to determine whether escalation is needed.\n",
    "* **`requires_escalation`**: A Boolean indicating whether the notice requires escalation.\n",
    "* **`escalation_emails`**: A list of email addresses to notify if escalation is required.\n",
    "* **`follow_ups`**: A dictionary that stores follow-up questions that your graph needs to answer about the notice message before creating a legal ticket. You’ll learn more about this in the next section.\n",
    "* **`current_follow_up`**: The current follow-up question your graph needs to answer."
   ]
  },
  {
   "cell_type": "markdown",
   "id": "be7359d0-40d4-4cea-8cb4-a1179e8c782e",
   "metadata": {},
   "source": [
    "You then initialize a <b><font color='blue'>GraphState</font></b> instance, passing <b><font color='blue'>GraphState</font></b> as an argument, and assign it to the variable `workflow`. At this point, `workflow` is an empty graph that can’t do anything. <b>To make `workflow` functional, you need to add nodes and edges. In [LangGraph](https://www.langchain.com/langgraph), a node represents an action that your graph can take, and every action is defined by a function</b>.\n",
    "\n",
    "For example, you can use `NOTICE_PARSER_CHAIN` and `ESCALATION_CHECK_CHAIN` as the first nodes in your graph:\n",
    "- **`graphs/notice_extraction.py`**:\n",
    "\n",
    "```python\n",
    "# ...\n",
    "\n",
    "def parse_notice_message_node(state: GraphState) -> GraphState:\n",
    "    \"\"\"Use the notice parser chain to extract fields from the notice\"\"\"\n",
    "    LOGGER.info(\"Parsing notice...\")\n",
    "    notice_email_extract = NOTICE_PARSER_CHAIN.invoke(\n",
    "        {\"message\": state[\"notice_message\"]}\n",
    "    )\n",
    "    state[\"notice_email_extract\"] = notice_email_extract\n",
    "    return state\n",
    "\n",
    "def check_escalation_status_node(state: GraphState) -> GraphState:\n",
    "    \"\"\"Determine whether a notice needs escalation\"\"\"\n",
    "    LOGGER.info(\"Determining escalation status...\")\n",
    "    text_check = ESCALATION_CHECK_CHAIN.invoke(\n",
    "        {\n",
    "            \"escalation_criteria\": state[\"escalation_text_criteria\"],\n",
    "            \"message\": state[\"notice_message\"],\n",
    "        }\n",
    "    ).needs_escalation\n",
    "\n",
    "    if (\n",
    "        text_check\n",
    "        or state[\"notice_email_extract\"].max_potential_fine\n",
    "        >= state[\"escalation_dollar_criteria\"]\n",
    "    ):\n",
    "        state[\"requires_escalation\"] = True\n",
    "    else:\n",
    "        state[\"requires_escalation\"] = False\n",
    "\n",
    "    return state\n",
    "\n",
    "workflow.add_node(\"parse_notice_message\", parse_notice_message_node)\n",
    "workflow.add_node(\"check_escalation_status\", check_escalation_status_node)\n",
    "```"
   ]
  },
  {
   "cell_type": "markdown",
   "id": "d0655f56-7a0a-4425-83ca-327a43b57226",
   "metadata": {},
   "source": [
    "Here, you define `parse_notice_message_node()`— a function that accepts your <b><font color='blue'>GraphState</font></b> instance, runs the `notice_message` attribute of `state` through <font color='blue'>NOTICE_PARSER_CHAIN.invoke()</font>, stores the results in the state, and returns the state. <b>In general, all node functions accept the graph state, perform some action, update the graph state, and return the graph state</b>.\n",
    "\n",
    "Similarly, `check_escalation_status_node()` passes the `escalation_text_criteria` and `notice_message` from `state` through <font color='blue'>ESCALATION_CHECK_CHAIN.invoke()</font>. If the chain determines that escalation is required, or the extracted `max_potential_fine` is greater than `state[\"escalation_dollar_criteria\"]`, the `requires_escalation` attribute is set to True.\n",
    "\n",
    "<b>You then add the nodes to your graph with <font color='blue'>workflow.add_node()</font>, which is a method that accepts the name of your node and the function that determines what your node does</b>. For example, <font color='blue'>workflow.add_node(\"parse_notice_message\", parse_notice_message_node)</font> assigns `parse_notice_message_node()` to a graph node `called parse_notice_message`. The graph passes state to `parse_notice_message_node()` and stores the output in an updated `state`."
   ]
  },
  {
   "cell_type": "markdown",
   "id": "153ba50c-02fd-43f5-beb7-f7c94c84b950",
   "metadata": {},
   "source": [
    "<b>The next thing you need to do is add edges to your graph. Edges control the flow of data between nodes in your graph</b>. Said differently, after a node performs an action and updates your graph’s state, the edge flowing out of the node tells it which node to pass `state` to next. Here’s how you add edges to your graph:\n",
    "- **`graphs/notice_extraction.py`**\n",
    "\n",
    "```python\n",
    "# ...\n",
    "\n",
    "workflow.add_edge(START, \"parse_notice_message\")  # Line 3\n",
    "workflow.add_edge(\"parse_notice_message\", \"check_escalation_status\")  # Line 4\n",
    "workflow.add_edge(\"check_escalation_status\", END)  # Line 5\n",
    "\n",
    "NOTICE_EXTRACTION_GRAPH = workflow.compile()\n",
    "```"
   ]
  },
  {
   "cell_type": "markdown",
   "id": "3abe34a2-71fd-4bea-b439-0c54df040fe4",
   "metadata": {},
   "source": [
    "<b>You call <font color='blue'>workflow.add_edge()</font>, which accepts the names of the start and end nodes of the edge, respectively</b>. `START` is a predefined node representing the entry point of the graph, and `END` is the node that terminates the graph. Here’s what each edge definition does:\n",
    "* On line 3, you add an edge from `START` to the `parse_notice_message node`.\n",
    "* Then, line 4 adds an edge from `parse_notice_message` to `check_escalation_status`.\n",
    "* Lastly, line 5 adds an edge to terminate the graph after running `check_escalation_status`.\n",
    "\n",
    "You can now compile your graph by running <font color='blue'>workflow.compile()</font>, which creates a `Runnable` interface that can be invoked, streamed, batched, and run asynchronously just like chains.\n",
    "\n",
    "To visualize your graph, open another Python REPL and run the following:"
   ]
  },
  {
   "cell_type": "code",
   "execution_count": 8,
   "id": "eb11ba13-70df-4497-a94b-64281425c31a",
   "metadata": {},
   "outputs": [],
   "source": [
    "from graphs.notice_extraction import NOTICE_EXTRACTION_GRAPH\n",
    "\n",
    "image_data = NOTICE_EXTRACTION_GRAPH.get_graph().draw_mermaid_png()\n",
    "with open('notice_extraction_graph.png', mode='wb') as f:\n",
    "    f.write(image_data)"
   ]
  },
  {
   "cell_type": "markdown",
   "id": "94bc2b7b-e55d-4bfa-bb19-f04424fb9467",
   "metadata": {},
   "source": [
    "Here, you import `NOTICE_EXTRACTION_GRAPH` and use <font color='blue'>.get_graph().draw_mermaid_png()</font> to create an image of your graph. You then save the image to a file called `notice_extraction_graph.png`. Here’s what the image should look like:"
   ]
  },
  {
   "cell_type": "code",
   "execution_count": 9,
   "id": "6e90f441-4417-4037-b714-4e0d1d7a7f3f",
   "metadata": {},
   "outputs": [
    {
     "data": {
      "image/png": "[encoded data removed]",
      "text/plain": [
       "<IPython.core.display.Image object>"
      ]
     },
     "execution_count": 9,
     "metadata": {},
     "output_type": "execute_result"
    }
   ],
   "source": [
    "Image(filename='notice_extraction_graph.png')"
   ]
  },
  {
   "cell_type": "markdown",
   "id": "22c3e0e8-fffb-401f-a310-134c0883f09e",
   "metadata": {},
   "source": [
    "This visual shows you that state flows from `parse_notice_message` to `check_escalation_status`, and it confirms that you’ve built your graph correctly. Here’s how you use your graph:"
   ]
  },
  {
   "cell_type": "code",
   "execution_count": null,
   "id": "eba151d4-1237-49af-8039-1ee6addfac0a",
   "metadata": {},
   "outputs": [],
   "source": [
    "#from example_emails import EMAILS\n",
    "from devtools import pprint\n",
    "from graphs.notice_extraction import NOTICE_EXTRACTION_GRAPH\n",
    "\n",
    "initial_state = {\n",
    "    \"notice_message\": EMAILS[0],\n",
    "    \"notice_email_extract\": None,\n",
    "    \"escalation_text_criteria\": \"There's a risk of fire or water damage at the site\",\n",
    "    \"escalation_dollar_criteria\": 100_000,\n",
    "    \"requires_escalation\": False,\n",
    "    \"escalation_emails\": [\"brog@abc.com\", \"bigceo@company.com\"],\n",
    "}"
   ]
  },
  {
   "cell_type": "code",
   "execution_count": null,
   "id": "5f9848eb-306e-4c13-bf18-609cb3670141",
   "metadata": {},
   "outputs": [],
   "source": [
    "final_state = NOTICE_EXTRACTION_GRAPH.invoke(initial_state)"
   ]
  },
  {
   "cell_type": "code",
   "execution_count": null,
   "id": "726dc9f4-0593-4c34-8e8a-8b23c69fe6ee",
   "metadata": {},
   "outputs": [],
   "source": [
    "pprint(final_state[\"notice_email_extract\"])"
   ]
  },
  {
   "cell_type": "code",
   "execution_count": null,
   "id": "ee0baa67-bce6-430e-8d33-61435785e966",
   "metadata": {},
   "outputs": [],
   "source": [
    "final_state[\"requires_escalation\"]"
   ]
  },
  {
   "cell_type": "markdown",
   "id": "392888f2-27c6-4964-bf5c-80d906c6c777",
   "metadata": {},
   "source": [
    "In this example, you import `NOTICE_EXTRACTION_GRAPH` and `EMAILS`. You then define your graph’s initial state with `EMAILS[0]` as the `notice_message`, escalation criteria, and a few other fields that you’ll use later in this tutorial. After calling <font color='blue'>NOTICE_EXTRACTION_GRAPH.invoke(initial_state)</font>, your `final_state` stores the extracted notice fields along with the `requires_escalation` flag.\n",
    "\n",
    "Notice that in `final_state`, `notice_email_extract` is now a <font color='blue'><b>NoticeEmailExtract</b></font> object. Also, `requires_escalation` is set to `False` because `EMAILS[0]` doesn’t say anything about fire or water damage, and the maximum potential fine is less than $100,000.\n",
    "\n",
    "With that, you’ve built and successfully run your first state graph! If you’re thinking that this graph isn’t any more useful than a chain at this point, you’re correct. <b>In the next section, you’ll address this by learning about and implementing [LangGraph](https://www.langchain.com/langgraph)’s differentiating feature — conditional edges</b>."
   ]
  },
  {
   "cell_type": "markdown",
   "id": "28e7f1ec-9e84-4ebf-be54-659392e5a392",
   "metadata": {},
   "source": [
    "### <b><font color='darkgreen'>Work With Conditional Edges</font></b>\n",
    "<font size='3ptx'><b>[LangGraph](https://www.langchain.com/langgraph) is all about modeling LLM workflows as graphs with nodes and edges</b>. Nodes represent actions that your graph can take like calling functions or invoking chains, and edges tell your graph how to navigate between nodes.</font>\n",
    "\n",
    "So far, you’ve built a graph with a couple of nodes and edges between them that can’t do much more than a chain. <b>In this section, you’ll learn about <font color='darkblue'>conditional edges</font>, which you can use to move beyond chain-like structures to create intricate, conditional, and even cyclic workflows</b>."
   ]
  },
  {
   "cell_type": "markdown",
   "id": "e0cf11f5-52bb-4041-b36d-86bc7907c733",
   "metadata": {},
   "source": [
    "#### <b><font size='3ptx'>Create a Conditional Edge</font></b>\n",
    "<b><font size='3ptx'>Up to this point, your graph can extract notice fields using `NOTICE_PARSER_CHAIN` and determine whether the notice message requires immediate escalation using `ESCALATION_CHECK_CHAIN`.</font></b>\n",
    "\n",
    "Next, you’ll see how to change the path your graph takes depending on whether a notice message requires escalation. If a notice message does require escalation, your graph will immediately send an email informing the correct team. If escalation isn’t required, your graph will create a legal ticket using your company’s ticketing system API.\n",
    "\n",
    "You’ll start by defining a function that sends emails regarding the details of a notice message when the notice requires escalation. Here’s what that looks like:\n",
    "* **`utils/graph_utils.py`**:\n",
    "```python\n",
    "import random\n",
    "import time\n",
    "from pydantic import EmailStr\n",
    "from chains.notice_extraction import NoticeEmailExtract\n",
    "from utils.logging_config import LOGGER\n",
    "\n",
    "def send_escalation_email(\n",
    "    notice_email_extract: NoticeEmailExtract,\n",
    "    escalation_emails: list[EmailStr]\n",
    ") -> None:\n",
    "    \"\"\"Simulate sending escalation emails\"\"\"\n",
    "    LOGGER.info(\"Sending escalation emails...\")\n",
    "    for email in escalation_emails:\n",
    "        time.sleep(1)\n",
    "        LOGGER.info(f\"Escalation email sent to {email}\")\n",
    "\n",
    "def create_legal_ticket(\n",
    "    current_follow_ups: dict[str, bool] | None,\n",
    "    notice_email_extract: NoticeEmailExtract,\n",
    ") -> str | None:\n",
    "    \"\"\"Simulate creating a legal ticket using your company's API.\"\"\"\n",
    "    LOGGER.info(\"Creating legal ticket for notice...\")\n",
    "    time.sleep(2)\n",
    "\n",
    "    follow_ups = [\n",
    "        None,\n",
    "        \"\"\"Does this message mention the states of Texas,\n",
    "        Georgia, or New Jersey?\"\"\",\n",
    "        \"\"\"Did this notice involve an issue with FakeAirCo's\n",
    "        HVAC system?\"\"\",\n",
    "    ]\n",
    "\n",
    "    if current_follow_ups:\n",
    "        follow_ups = [\n",
    "            f for f in follow_ups if f not in current_follow_ups.keys()\n",
    "        ]\n",
    "    follow_up = random.choice(follow_ups)\n",
    "    if not follow_up:\n",
    "        LOGGER.info(\"Legal ticket created!\")\n",
    "        return follow_up\n",
    "\n",
    "    LOGGER.info(\"Follow-up is required before creating this ticket\")\n",
    "    return follow_up\n",
    "```\n",
    "\n",
    "Here, you import dependencies and create a function called <font color='blue'>send_escalation_email()</font>, which accepts a <font color='blue'><b>NoticeEmailExtract</b></font> and a list of addresses to send emails to. Since actually sending emails is beyond the scope of this tutorial, <font color='blue'>send_escalation_email()</font> simply simulates the process. For now, imagine that it sends an email to each address in `escalation_emails` regarding the details stored in <font color='blue'><b>NoticeEmailExtract</b></font>.\n",
    "\n",
    "You then define <font color='blue'>create_legal_ticket()</font> to simulate creating a ticket for your company’s legal team to investigate. Notice how the first argument <font color='blue'>create_legal_ticket()</font> is a dictionary with `string` keys and `Boolean` values called `current_follow_ups`.\n",
    "\n",
    "One feature of your legal team’s ticketing system API is that it occasionally requires you to answer yes/no follow-up questions. These questions can change at any time depending on what the legal team is interested in knowing, so it’s difficult to know what the follow-up questions might be ahead of time.\n",
    "\n",
    "To simulate this logic, <font color='blue'>create_legal_ticket()</font> checks the follow-up questions that you’ve already answered, and it randomly picks a new follow-up question from the remaining questions. If follow-up isn’t required, <font color='blue'>create_legal_ticket()</font> creates a legal ticket and returns None. If follow-up is required, <font color='blue'>create_legal_ticket()</font> returns the follow-up question, and you’ll see how to handle this in your graph later on."
   ]
  },
  {
   "cell_type": "markdown",
   "id": "a1a048f5-8b85-48a3-835a-a588e0b3db1d",
   "metadata": {},
   "source": [
    "Next, you’ll wrap <font color='blue'>send_escalation_email()</font> and <font color='blue'>create_legal_ticket()</font> in nodes that can interact with your graph’s state:\n",
    "* **`graphs/notice_extraction.py`**:\n",
    "```python\n",
    "...\n",
    "from utils.graph_utils import create_legal_ticket, send_escalation_email\n",
    "\n",
    "# ...\n",
    "\n",
    "def send_escalation_email_node(state: GraphState) -> GraphState:\n",
    "    \"\"\"Send an escalation email\"\"\"\n",
    "    send_escalation_email(\n",
    "        notice_email_extract=state[\"notice_email_extract\"],\n",
    "        escalation_emails=state[\"escalation_emails\"],\n",
    "    )\n",
    "    return state\n",
    "\n",
    "def create_legal_ticket_node(state: GraphState) -> GraphState:\n",
    "    \"\"\"Node to create a legal ticket\"\"\"\n",
    "    follow_up = create_legal_ticket(\n",
    "        current_follow_ups=state.get(\"follow_ups\"),\n",
    "        notice_email_extract=state[\"notice_email_extract\"],\n",
    "    )\n",
    "    state[\"current_follow_up\"] = follow_up\n",
    "    return state\n",
    "\n",
    "# ...\n",
    "```"
   ]
  },
  {
   "cell_type": "markdown",
   "id": "4ce44b99-1e9f-4b43-b6a7-66103ae63deb",
   "metadata": {},
   "source": [
    "After importing your utility functions, you define two new node functions. In <font color='blue'>send_escalation_email_node()</font>, you call <font color='blue'>send_escalation_email()</font> without modifying state. Conversely, in <font color='blue'>create_legal_ticket_node()</font>, you call <font color='blue'>create_legal_ticket()</font> and store the `follow_up` question, if there is one, in `state`.\n",
    "\n",
    "Now onto the critical part of this section. You need to create a conditional edge based on whether a notice email requires escalation. Specifically, if a notice email does require escalation, then your graph needs to pass state to <font color='blue'>send_escalation_email_node()</font> before creating a legal ticket. If no escalation is required, then your graph can move directly to <font color='blue'>create_legal_ticket_node()</font>.\n",
    "\n",
    "Here’s how you can create this behavior in your graph:\n",
    "```python\n",
    "# ...\n",
    "\n",
    "def route_escalation_status_edge(state: GraphState) -> str:\n",
    "    \"\"\"Determine whether to send an escalation email or\n",
    "    create a legal ticket\"\"\"\n",
    "    if state[\"requires_escalation\"]:\n",
    "        LOGGER.info(\"Escalation needed!\")\n",
    "        return \"send_escalation_email\"\n",
    "\n",
    "    LOGGER.info(\"No escalation needed\")\n",
    "    return \"create_legal_ticket\"\n",
    "\n",
    "workflow.add_node(\"parse_notice_message\", parse_notice_message_node)\n",
    "workflow.add_node(\"check_escalation_status\", check_escalation_status_node)\n",
    "workflow.add_node(\"send_escalation_email\", send_escalation_email_node)\n",
    "workflow.add_node(\"create_legal_ticket\", create_legal_ticket_node)\n",
    "\n",
    "workflow.add_edge(START, \"parse_notice_message\")\n",
    "workflow.add_edge(\"parse_notice_message\", \"check_escalation_status\")\n",
    "workflow.add_conditional_edges(\n",
    "    \"check_escalation_status\",\n",
    "    route_escalation_status_edge,\n",
    "    {\n",
    "        \"send_escalation_email\": \"send_escalation_email\",\n",
    "        \"create_legal_ticket\": \"create_legal_ticket\",\n",
    "    },\n",
    ")\n",
    "workflow.add_edge(\"send_escalation_email\", \"create_legal_ticket\")\n",
    "workflow.add_edge(\"create_legal_ticket\", END)\n",
    "\n",
    "NOTICE_EXTRACTION_GRAPH = workflow.compile()\n",
    "```"
   ]
  },
  {
   "cell_type": "markdown",
   "id": "f8e98b09-915b-4c8a-b2f0-3fd409f36e1c",
   "metadata": {},
   "source": [
    "Here’s what your graph looks like now:\n",
    "![part2 graph](https://realpython.com/cdn-cgi/image/width=1618,format=auto/https://files.realpython.com/media/Screenshot_2025-01-19_at_11.24.08_PM.fb5f18a97d55.png)\n",
    "\n",
    "\n",
    "You now see dotted lines representing the conditional edge flowing out of `check_escalation_status` into <font color='blue'>send_escalation_email</font> and <font color='blue'>create_legal_ticket</font>. As expected, if escalation is needed, your graph goes to <font color='blue'>send_escalation_email</font> before <font color='blue'>create_legal_ticket</font>. Otherwise, your graph flows directly to <font color='blue'>create_legal_ticket</font>.\n",
    "\n",
    "To see your conditional edge in action, try this example:"
   ]
  },
  {
   "cell_type": "code",
   "execution_count": 2,
   "id": "88881fa5-a4f5-4df5-8a74-fdfb37fb1c43",
   "metadata": {},
   "outputs": [],
   "source": [
    "from graphs.notice_extraction import NOTICE_EXTRACTION_GRAPH2\n",
    "from example_emails import EMAILS"
   ]
  },
  {
   "cell_type": "code",
   "execution_count": 3,
   "id": "51be65ea-4e38-4b28-950e-c39ca98ad266",
   "metadata": {},
   "outputs": [],
   "source": [
    "initial_state_no_escalation = {\n",
    "     \"notice_message\": EMAILS[0],\n",
    "     \"notice_email_extract\": None,\n",
    "     \"escalation_text_criteria\": \"\"\"There's a risk of water\n",
    "      damage at the site\"\"\",\n",
    "     \"escalation_dollar_criteria\": 100_000,\n",
    "     \"requires_escalation\": False,\n",
    "     \"escalation_emails\": [\"brog@abc.com\", \"bigceo@company.com\"],\n",
    "}\n",
    "\n",
    "initial_state_escalation = {\n",
    "     \"notice_message\": EMAILS[0],\n",
    "     \"notice_email_extract\": None,\n",
    "     \"escalation_text_criteria\": \"\"\"Workers explicitly violating\n",
    "      safety protocols\"\"\",\n",
    "     \"escalation_dollar_criteria\": 100_000,\n",
    "     \"requires_escalation\": False,\n",
    "     \"escalation_emails\": [\"brog@abc.com\", \"bigceo@company.com\"],\n",
    "}"
   ]
  },
  {
   "cell_type": "markdown",
   "id": "91523309-06ec-41ae-83f8-24f04db6189c",
   "metadata": {},
   "source": [
    "Firstly, below state won't cause escalation:"
   ]
  },
  {
   "cell_type": "code",
   "execution_count": 4,
   "id": "8928dd83-cc7d-4fa3-8433-8dc65a8c5cd8",
   "metadata": {},
   "outputs": [
    {
     "name": "stderr",
     "output_type": "stream",
     "text": [
      "2025-04-26 08:11:03,927 - INFO - Parsing notice...\n",
      "2025-04-26 08:11:11,308 - INFO - Determining escalation status...\n",
      "2025-04-26 08:11:12,872 - INFO - No escalation needed\n",
      "2025-04-26 08:11:12,874 - INFO - Creating legal ticket for notice...\n",
      "2025-04-26 08:11:15,367 - INFO - Legal ticket created!\n"
     ]
    }
   ],
   "source": [
    "no_esc_result = NOTICE_EXTRACTION_GRAPH2.invoke(initial_state_no_escalation)"
   ]
  },
  {
   "cell_type": "code",
   "execution_count": 5,
   "id": "a2b7cbd7-a51b-4490-81f5-19885471b9dd",
   "metadata": {},
   "outputs": [
    {
     "data": {
      "text/plain": [
       "False"
      ]
     },
     "execution_count": 5,
     "metadata": {},
     "output_type": "execute_result"
    }
   ],
   "source": [
    "no_esc_result[\"requires_escalation\"]"
   ]
  },
  {
   "cell_type": "markdown",
   "id": "24c542f7-c5a6-4766-85e1-a7287f897ad2",
   "metadata": {},
   "source": [
    "Secondly, below state will create escalation:"
   ]
  },
  {
   "cell_type": "code",
   "execution_count": 6,
   "id": "6f468cec-5456-4306-9e37-fe375af6fbb8",
   "metadata": {},
   "outputs": [
    {
     "name": "stderr",
     "output_type": "stream",
     "text": [
      "2025-04-26 08:14:03,352 - INFO - Parsing notice...\n",
      "2025-04-26 08:14:07,436 - INFO - Determining escalation status...\n",
      "2025-04-26 08:14:18,487 - INFO - Escalation needed!\n",
      "2025-04-26 08:14:18,514 - INFO - Sending escalation emails...\n",
      "2025-04-26 08:14:19,518 - INFO - Escalation email sent to brog@abc.com\n",
      "2025-04-26 08:14:20,529 - INFO - Escalation email sent to bigceo@company.com\n",
      "2025-04-26 08:14:20,531 - INFO - Creating legal ticket for notice...\n",
      "2025-04-26 08:14:22,536 - INFO - Follow-up is required before creating this ticket\n"
     ]
    }
   ],
   "source": [
    "esc_result = NOTICE_EXTRACTION_GRAPH2.invoke(initial_state_escalation)"
   ]
  },
  {
   "cell_type": "code",
   "execution_count": 7,
   "id": "5b526b05-b021-4a85-98e0-1cdf504b1b6a",
   "metadata": {},
   "outputs": [
    {
     "data": {
      "text/plain": [
       "True"
      ]
     },
     "execution_count": 7,
     "metadata": {},
     "output_type": "execute_result"
    }
   ],
   "source": [
    "esc_result[\"requires_escalation\"]"
   ]
  },
  {
   "cell_type": "markdown",
   "id": "41f89f90-939e-479f-82b6-77162fb62bbb",
   "metadata": {},
   "source": [
    "<font size='3ptx'><b>Your graph now moves beyond the limitations of chains by handling conditional workflows.</b></font> Take a moment to think about why the conditional edge abstraction is so powerful. Most meaningful real-world tasks involve several decisions that change the trajectory of steps you take. Trying to replicate this behavior with chains would require a lot of boilerplate conditional and iterative logic, and it would quickly get out of hand as your graph grows.\n",
    "\n",
    "Now what about those follow-up questions? <b>If the legal ticketing API returns a follow-up question, how can you answer it and attempt to create a legal ticket again? The answer lies in cycles, and that’s what you’ll explore next</b>."
   ]
  },
  {
   "cell_type": "markdown",
   "id": "52f11c0e-36e6-444b-a448-206c3486955d",
   "metadata": {},
   "source": [
    "### <b><font color='darkgreen'>Use Conditional Edges for Cycles</font></b>\n",
    "<font size='3ptx'><b>The last capability you’ll explore for your notice extraction graph is a cycle</b>. A graph cycle is effectively a loop between two nodes that continues until a task is complete</font>. \n",
    "\n",
    "<b>In this section, you’ll build a cycle between the node that creates legal tickets and a new node that answers the follow-up questions.</b>\n",
    "\n",
    "If you recall from the last section, sometimes the legal ticketing API returns follow-up questions that you’re required to answer before creating the ticket. You want to build a cycle that receives and answers the follow-up questions from the legal ticket node until no other follow-up questions are required. To keep things simple for this tutorial, these questions will always have binary yes or no answers.\n",
    "\n",
    "First, create a chain that you’ll use to answer binary questions:\n",
    "- **`chains/binary_questions.py`**:\n",
    "```python\n",
    "from langchain_openai import ChatOpenAI\n",
    "from langchain_core.prompts import ChatPromptTemplate\n",
    "from pydantic import BaseModel, Field\n",
    "\n",
    "class BinaryAnswer(BaseModel):\n",
    "    is_true: bool = Field(\n",
    "        description=\"\"\"Whether the answer to the question is yes or no.\n",
    "        True if yes otherwise False.\"\"\"\n",
    "    )\n",
    "\n",
    "binary_question_prompt = ChatPromptTemplate.from_messages(\n",
    "    [\n",
    "        (\n",
    "            \"system\",\n",
    "            \"\"\"\n",
    "            Answer this question as True for \"yes\" and False for \"no\".\n",
    "            No other answers are allowed:\n",
    "\n",
    "            {question}\n",
    "            \"\"\",\n",
    "        )\n",
    "    ]\n",
    ")\n",
    "\n",
    "binary_question_model = ChatOpenAI(model=\"gpt-4o-mini\", temperature=0)\n",
    "\n",
    "BINARY_QUESTION_CHAIN = (\n",
    "    binary_question_prompt\n",
    "    | binary_question_model.with_structured_output(BinaryAnswer)\n",
    ")\n",
    "```"
   ]
  },
  {
   "cell_type": "markdown",
   "id": "08270bb1-a948-4843-9432-95e6723ef74a",
   "metadata": {},
   "source": [
    "Next, you’ll create a node in your graph that uses `BINARY_QUESTION_CHAIN` to answer follow-up questions:\n",
    "* **`graphs/notice_extraction.py`**:\n",
    "```python\n",
    "...\n",
    "from chains.binary_questions import BINARY_QUESTION_CHAIN\n",
    "\n",
    "# ...\n",
    "\n",
    "def answer_follow_up_question_node(state: GraphState) -> GraphState:\n",
    "    \"\"\"Answer follow-up questions about the notice using\n",
    "    BINARY_QUESTION_CHAIN\"\"\"\n",
    "    if state[\"current_follow_up\"]:\n",
    "        question = state[\"current_follow_up\"] + \" \" + state[\"notice_message\"]\n",
    "        answer = BINARY_QUESTION_CHAIN.invoke({\"question\": question})\n",
    "        if state.get(\"follow_ups\"):\n",
    "            state[\"follow_ups\"][state[\"current_follow_up\"]] = answer\n",
    "        else:\n",
    "            state[\"follow_ups\"] = {state[\"current_follow_up\"]: answer}\n",
    "    return state\n",
    "\n",
    "# ...\n",
    "```"
   ]
  },
  {
   "cell_type": "markdown",
   "id": "b5a72fc1-48b2-4d7e-b196-560243c6cdb1",
   "metadata": {},
   "source": [
    "Now you need to create a function to define the conditional edge between the create legal ticket and answer follow-up question nodes:\n",
    "* **`graphs/notice_extraction.py`**:\n",
    "```python\n",
    "# ...\n",
    "\n",
    "def route_follow_up_edge(state: GraphState) -> str:\n",
    "    \"\"\"Determine whether a follow-up question is required\"\"\"\n",
    "    if state.get(\"current_follow_up\"):\n",
    "        return \"answer_follow_up_question\"\n",
    "    return END\n",
    "\n",
    "# ...\n",
    "```"
   ]
  },
  {
   "cell_type": "markdown",
   "id": "2cc22e79-9f3c-47db-88d4-ae0a8e9b8554",
   "metadata": {},
   "source": [
    "Now, you can register your new node and create the conditional edge:\n",
    "* **`graphs/notice_extraction.py`**:\n",
    "```python\n",
    "workflow3 = StateGraph(GraphState)\n",
    "workflow3.add_node(\"parse_notice_message\", parse_notice_message_node)\n",
    "workflow3.add_node(\"check_escalation_status\", check_escalation_status_node)\n",
    "workflow3.add_node(\"send_escalation_email\", send_escalation_email_node)\n",
    "workflow3.add_node(\"create_legal_ticket\", create_legal_ticket_node)\n",
    "workflow3.add_node(\"answer_follow_up_question\", answer_follow_up_question_node)\n",
    "\n",
    "workflow3.add_edge(START, \"parse_notice_message\")\n",
    "workflow3.add_edge(\"parse_notice_message\", \"check_escalation_status\")\n",
    "workflow3.add_conditional_edges(\n",
    "    \"check_escalation_status\",\n",
    "    route_escalation_status_edge,\n",
    "    {\n",
    "        \"send_escalation_email\": \"send_escalation_email\",\n",
    "        \"create_legal_ticket\": \"create_legal_ticket\",\n",
    "    },\n",
    ")\n",
    "workflow3.add_conditional_edges(\n",
    "    \"create_legal_ticket\",\n",
    "    route_follow_up_edge,\n",
    "    {\n",
    "        \"answer_follow_up_question\": \"answer_follow_up_question\",\n",
    "        END: END,\n",
    "    },\n",
    ")\n",
    "\n",
    "workflow3.add_edge(\"send_escalation_email\", \"create_legal_ticket\")\n",
    "workflow3.add_edge(\"answer_follow_up_question\", \"create_legal_ticket\")\n",
    "\n",
    "NOTICE_EXTRACTION_GRAPH3 = workflow.compile()\n",
    "```"
   ]
  },
  {
   "cell_type": "code",
   "execution_count": 3,
   "id": "7a2575b6-52ba-4584-9a31-a970ca3056a1",
   "metadata": {},
   "outputs": [],
   "source": [
    "from graphs.notice_extraction import NOTICE_EXTRACTION_GRAPH3"
   ]
  },
  {
   "cell_type": "code",
   "execution_count": 4,
   "id": "8b72ca71-e763-432b-ba16-1129f39e7ca9",
   "metadata": {},
   "outputs": [],
   "source": [
    "image_data = NOTICE_EXTRACTION_GRAPH3.get_graph().draw_mermaid_png()\n",
    "with open('notice_extraction_graph3.png', mode='wb') as f:\n",
    "    f.write(image_data)"
   ]
  },
  {
   "cell_type": "code",
   "execution_count": 5,
   "id": "1f1a2dea-e607-405d-ae95-deb0c354a0f1",
   "metadata": {},
   "outputs": [
    {
     "data": {
      "image/png": "[encoded data removed]",
      "text/plain": [
       "<IPython.core.display.Image object>"
      ]
     },
     "execution_count": 5,
     "metadata": {},
     "output_type": "execute_result"
    }
   ],
   "source": [
    "Image(filename='notice_extraction_graph3.png')"
   ]
  },
  {
   "cell_type": "markdown",
   "id": "2de110c6-4155-455b-8a2c-dee2b75d7aba",
   "metadata": {},
   "source": [
    "Go ahead and give your updated graph a test run:"
   ]
  },
  {
   "cell_type": "code",
   "execution_count": 7,
   "id": "d622f05b-ecf9-46f6-b03f-9e609e24745f",
   "metadata": {},
   "outputs": [],
   "source": [
    "from example_emails import EMAILS\n",
    "\n",
    "initial_state_escalation = {\n",
    "    \"notice_message\": EMAILS[0],\n",
    "    \"notice_email_extract\": None,\n",
    "    \"escalation_text_criteria\": \"\"\"Workers explicitly violating safety protocols\"\"\",\n",
    "    \"escalation_dollar_criteria\": 100_000,\n",
    "    \"requires_escalation\": False,\n",
    "    \"escalation_emails\": [\"brog@abc.com\", \"bigceo@company.com\"],\n",
    "}"
   ]
  },
  {
   "cell_type": "code",
   "execution_count": 8,
   "id": "4894d379-1aa9-4b7b-aa40-954798b14780",
   "metadata": {},
   "outputs": [
    {
     "name": "stderr",
     "output_type": "stream",
     "text": [
      "2025-04-26 08:38:55,204 - INFO - Parsing notice...\n",
      "2025-04-26 08:39:01,461 - INFO - Determining escalation status...\n",
      "2025-04-26 08:39:02,527 - INFO - Escalation needed!\n",
      "2025-04-26 08:39:02,532 - INFO - Sending escalation emails...\n",
      "2025-04-26 08:39:03,565 - INFO - Escalation email sent to brog@abc.com\n",
      "2025-04-26 08:39:05,184 - INFO - Escalation email sent to bigceo@company.com\n",
      "2025-04-26 08:39:05,188 - INFO - Creating legal ticket for notice...\n",
      "2025-04-26 08:39:07,204 - INFO - Follow-up is required before creating this ticket\n",
      "2025-04-26 08:39:08,123 - INFO - Creating legal ticket for notice...\n",
      "2025-04-26 08:39:10,555 - INFO - Legal ticket created!\n"
     ]
    }
   ],
   "source": [
    "results = NOTICE_EXTRACTION_GRAPH3.invoke(initial_state_escalation)"
   ]
  },
  {
   "cell_type": "code",
   "execution_count": 9,
   "id": "9cab1f50-a5bc-4a12-9690-3738735fe9c6",
   "metadata": {},
   "outputs": [
    {
     "data": {
      "text/plain": [
       "{\"Did this notice involve an issue with FakeAirCo's\\n        HVAC system?\": BinaryAnswer(is_true=False)}"
      ]
     },
     "execution_count": 9,
     "metadata": {},
     "output_type": "execute_result"
    }
   ],
   "source": [
    "results[\"follow_ups\"]"
   ]
  },
  {
   "cell_type": "markdown",
   "id": "1d58bdc4-d45b-4c9b-a1b3-fb0929240c0c",
   "metadata": {},
   "source": [
    "With that, you’ve completed your notice email processing graph. Nice work! Hopefully, you’re seeing the power of LangGraph to create sophisticated, conditional, and cyclic LLM workflows. From here, you can continue adding any functionality that you can imagine by creating nodes to accomplish tasks and adding edges to navigate between them.\n",
    "\n",
    "In the next and final section, you’ll add some nice finishing touches to your notice email processing graph. You’ll use LangGraph to create an agent that can handle any kind of email and use `NOTICE_EXTRACTION_GRAPH3` as one of its tools."
   ]
  },
  {
   "cell_type": "markdown",
   "id": "34d9b9b5-667c-4d7c-8aaf-ab61103d7879",
   "metadata": {},
   "source": [
    "## <b><font color='darkblue'>Develop Graph Agents</font></b>\n",
    "<b><font size='3ptx'>Now it’s time to complete your email-parsing system by creating an agent with [LangGraph](https://www.langchain.com/langgraph).</font></b>\n",
    "\n",
    "If you’re unfamiliar with agents, you can read about them in the [**LangChain tutorial**](https://realpython.com/build-llm-rag-chatbot-with-langchain/#agents). In short, an AI agent is a system of AI models, usually LLMs, capable of performing tasks and making decisions autonomously.\n",
    "\n",
    "The two main components of an agent are:\n",
    "* The models that make decisions.\n",
    "* The tools the models use to perform actions.\n",
    "\n",
    "<font size='3ptx'>**[LangGraph](https://www.langchain.com/langgraph) was designed with agents in mind because agent architectures tend to be conditional and cyclic in nature.**</font> The agent you’ll create in this section will govern email processing, and it will have access to tools that can send emails and call `NOTICE_EXTRACTION_GRAPH3` when it determines that an email is a regulatory notice."
   ]
  },
  {
   "cell_type": "markdown",
   "id": "a2f5a763-fc78-48f4-a5bd-507f684ae24e",
   "metadata": {},
   "source": [
    "### <b><font color='darkgreen'>Structure Agents as Graphs</font></b>\n",
    "To get started building your email processing agent, first import the following dependencies:\n",
    "* **`graphs/email_agent.py`**:\n",
    "```python\n",
    "import time\n",
    "from chains.notice_extraction import NoticeEmailExtract\n",
    "from graphs.notice_extraction import NOTICE_EXTRACTION_GRAPH\n",
    "from langchain_core.messages import AIMessage\n",
    "from langchain_core.tools import tool\n",
    "from langchain_openai import ChatOpenAI\n",
    "from langgraph.graph import END, START, MessagesState, StateGraph\n",
    "from langgraph.prebuilt import ToolNode\n",
    "from utils.logging_config import LOGGER\n",
    "```\n",
    "\n",
    "Most of these imports should look familiar, but notice that you’ve imported [**MessagesState**](https://langchain-ai.github.io/langgraph/concepts/low_level/#messagesstate) instead of **<font color='blue'>GraphState</font>**. [**MessagesState**](https://langchain-ai.github.io/langgraph/concepts/low_level/#messagesstate) is a predefined **<font color='blue'>GraphState</font>** that has only one attribute called `messages`. Each node in your agent graph will append its output to messages in [**MessagesState**](https://langchain-ai.github.io/langgraph/concepts/low_level/#messagesstate). [**MessagesState**](https://langchain-ai.github.io/langgraph/concepts/low_level/#messagesstate) comes with some nice features that make creating agents easier, and you’ll see these in a moment."
   ]
  },
  {
   "cell_type": "markdown",
   "id": "0add33e5-a764-48b0-923f-90d972856bd4",
   "metadata": {},
   "source": [
    "Also, notice that you’ve imported the [**ToolNode**](https://langchain-ai.github.io/langgraph/reference/prebuilt/#langgraph.prebuilt.tool_node.ToolNode) class from `langgraph.prebuilt`. [**ToolNode**](https://langchain-ai.github.io/langgraph/reference/prebuilt/#langgraph.prebuilt.tool_node.ToolNode) **allows you to create nodes in your graph explicitly designed for providing tools to agent nodes. In both LangChain and LangGraph, a tool is nothing more than a function your agent models can call to perform actions**. Here are the tools you’ll need for your email agent:\n",
    "\n",
    "- **`graphs/email_agent.py`**:\n",
    "```python\n",
    "# ...\n",
    "\n",
    "@tool\n",
    "def forward_email(email_message: str, send_to_email: str) -> bool:\n",
    "    \"\"\"\n",
    "    Forward an email_message to the address of send_to_email. Returns\n",
    "    true if the email was successful otherwise it wil return false. Note\n",
    "    that this tool only forwards the email to an internal department -\n",
    "    it does not reply to the sender.\n",
    "    \"\"\"\n",
    "    LOGGER.info(f\"Forwarding the email to {send_to_email}...\")\n",
    "    time.sleep(2)\n",
    "    LOGGER.info(\"Email forwarded!\")\n",
    "    return True\n",
    "\n",
    "@tool\n",
    "def send_wrong_email_notification_to_sender(\n",
    "    sender_email: str, correct_department: str\n",
    "):\n",
    "    \"\"\"\n",
    "    Send an email back to the sender informing them that\n",
    "    they have the wrong address. The email should be sent\n",
    "    to the correct_department.\n",
    "    \"\"\"\n",
    "    LOGGER.info(f\"Sending wrong email notification to {sender_email}...\")\n",
    "    time.sleep(2)\n",
    "    LOGGER.info(\"Email sent!\")\n",
    "    return True\n",
    "\n",
    "@tool\n",
    "def extract_notice_data(\n",
    "    email: str, escalation_criteria: str\n",
    ") -> NoticeEmailExtract:\n",
    "    \"\"\"\n",
    "    Extract structured fields from a regulatory notice.\n",
    "    This should be used when the email message comes from\n",
    "    a regulatory body or auditor regarding a property or\n",
    "    construction site that the company works on.\n",
    "\n",
    "    escalation_criteria is a description of which kinds of\n",
    "    notices require immediate escalation.\n",
    "\n",
    "    After calling this tool, you don't need to call any others.\n",
    "    \"\"\"\n",
    "    LOGGER.info(\"Calling the email notice extraction graph...\")\n",
    "    initial_state = {\n",
    "        \"notice_message\": email,\n",
    "        \"notice_email_extract\": None,\n",
    "        \"critical_fields_missing\": False,\n",
    "        \"escalation_text_criteria\": escalation_criteria,\n",
    "        \"escalation_dollar_criteria\": 100_000,\n",
    "        \"requires_escalation\": False,\n",
    "        \"escalation_emails\": [\"brog@abc.com\", \"bigceo@company.com\"],\n",
    "    }\n",
    "\n",
    "    results = NOTICE_EXTRACTION_GRAPH.invoke(initial_state)\n",
    "    return results[\"notice_email_extract\"]\n",
    "\n",
    "@tool\n",
    "def determine_email_action(email: str) -> str:\n",
    "    \"\"\"\n",
    "    Call to determine which action should be taken\n",
    "    for an email. Only use when the other tools don't seem\n",
    "    relevant for the email task. Do not call this tool if\n",
    "    you've already called extract_notice_data.\n",
    "    \"\"\"\n",
    "    return \"\"\"\n",
    "    If the email appears to be an invoice of any kind or related to\n",
    "    billing, forward the email to the billing and invoices team:\n",
    "    billing@company.com and send a wrong email notice back to the\n",
    "    sender. The correct department is billing@company.com.\n",
    "\n",
    "    If the email appears to be from a customer, forward to\n",
    "    support@company.com, cdetuma@company.com, and ctu@abc.com.\n",
    "    Be sure to forward it to all three emails listed.\n",
    "    Send a wrong email notice back to the\n",
    "    customer and let them know the correct department is\n",
    "    support@company.com.\n",
    "\n",
    "    For any other emails, please send a wrong email notification\n",
    "    and try to infer the correct department from one of\n",
    "    billing@company.com, support@company.com,\n",
    "    humanresources@company.com, and it@company.com.\n",
    "    \"\"\"\n",
    "```"
   ]
  },
  {
   "cell_type": "markdown",
   "id": "aa24e668-cd8c-49bf-a0b6-1b3ff6aa620e",
   "metadata": {},
   "source": [
    "The functions you defined above are the tools your agent will use, and each function is decorated by <font color='orange'><b>@tool</b></font>. A key functionality of <font color='orange'><b>@tool</b></font> is that it gives the function’s docstring to your agent’s LLM, helping it determine whether that particular tool is relevant to the task at hand. Because of this, <b>it’s important to write informative docstrings to maximize the chances that your agent uses the appropriate tools</b>.\n",
    "\n",
    "As an example of how your agent will use these tools, if the agent determines that it needs to forward an email, the agent’s underlying LLM will return a JSON string with the appropriate `email_message` and `send_to_email` parameters. Your graph will convert this JSON to a dictionary and pass it to <font color='blue'>forward_email()</font>.\n",
    "\n",
    "Perhaps the most powerful tool available to your agent is <font color='blue'>extract_notice_data()</font>. Your agent should call <font color='blue'>extract_notice_data()</font> when it determines that an email is a regulatory notice, and invoke your `NOTICE_EXTRACTION_GRAPH3`. This is an amazing abstraction—because tools are nothing more than functions, you can use them to call other chains, graphs, and agents, and perform just about any task that you can encapsulate in a function.\n",
    "\n",
    "The last tool you define, <font color='blue'>determine_email_action()</font>, should be used when your agent receives an email that it doesn’t know how to process. In <font color='blue'>determine_email_action()</font>, you can see that a set of instructions are predefined, but this tool could be another LLM trained to make decisions about what to do with your company’s emails."
   ]
  },
  {
   "cell_type": "markdown",
   "id": "38650c8d-99d7-48fb-96e3-1b248d4e32d9",
   "metadata": {},
   "source": [
    "Next, you need to define the nodes and edges of your agent graph:\n",
    "- **`graphs/email_agent.py`**:\n",
    "```python\n",
    "# ...\n",
    "\n",
    "tools = [\n",
    "    determine_email_action,\n",
    "    forward_email,\n",
    "    send_wrong_email_notification_to_sender,\n",
    "    extract_notice_data,\n",
    "]\n",
    "tool_node = ToolNode(tools)\n",
    "EMAIL_AGENT_MODEL = ChatOpenAI(model=\"gpt-4o-mini\", temperature=0).bind_tools(\n",
    "    tools\n",
    ")\n",
    "\n",
    "def call_agent_model_node(state: MessagesState) -> dict[str, list[AIMessage]]:\n",
    "    \"\"\"Node to call the email agent model\"\"\"\n",
    "    messages = state[\"messages\"]\n",
    "    response = EMAIL_AGENT_MODEL.invoke(messages)\n",
    "    return {\"messages\": [response]}\n",
    "\n",
    "def route_agent_graph_edge(state: MessagesState) -> str:\n",
    "    \"\"\"Determine whether to call more tools or exit the graph\"\"\"\n",
    "    last_message = state[\"messages\"][-1]\n",
    "    if last_message.tool_calls:\n",
    "        return \"email_tools\"\n",
    "    return END\n",
    "```"
   ]
  },
  {
   "cell_type": "markdown",
   "id": "0d552579-6dc4-479d-8ec9-530e100cf08d",
   "metadata": {},
   "source": [
    "You first instantiate a [**ToolNode**](https://langchain-ai.github.io/langgraph/reference/prebuilt/#langgraph.prebuilt.tool_node.ToolNode) that can call the four tool functions you defined above. Keep in mind that `tool_node` only executes your tool functions, and <b>knowing which tool to use is the agent node’s responsibility. You then instantiate `EMAIL_AGENT_MODEL`, which is the LLM that acts as your agent’s brain</b>.\n",
    "\n",
    "By calling `.bind_tools()` when instantiating `EMAIL_AGENT_MODEL`, you’re giving the agent LLM descriptions of each tool from their docstring and input arguments. If your agent LLM determines that its input requires a tool call, it’ll return a JSON tool message with the name of the tool it wants to use, along with the input arguments.\n",
    "\n",
    "In <font color='blue'>call_agent_model_node()</font>, you define the logic for invoking `EMAIL_AGENT_MODEL`. In this case, your email agent node simply takes the messages in `state` and passes them to <font color='blue'>EMAIL_AGENT_MODEL.invoke()</font>. You might notice here that you’re not directly modifying the state in <font color='blue'>call_agent_model_node()</font>, but under the hood, LangGraph will automatically append response to your graph’s state. You can read more about how this works in [LangGraph’s documentation](https://langchain-ai.github.io/langgraph/concepts/low_level/#messagesstate).\n",
    "\n",
    "Lastly, you define <font color='blue'>route_agent_graph_edge()</font>, which governs the conditional edge between your agent and tool nodes. If the most recent message in state is a tool, your graph moves to `tool_node` which is aliased to `email_tools`. Otherwise, you terminate the graph. This will make more sense once you instantiate and visualize your graph. Here’s the last few lines you need for your graph agent:\n",
    "- **`graphs/email_agent.py`**:\n",
    "```python\n",
    "workflow = StateGraph(MessagesState)\n",
    "\n",
    "workflow.add_node(\"email_agent\", call_agent_model_node)\n",
    "workflow.add_node(\"email_tools\", tool_node)\n",
    "\n",
    "workflow.add_edge(START, \"email_agent\")\n",
    "workflow.add_conditional_edges(\n",
    "    \"email_agent\", route_agent_graph_edge, [\"email_tools\", END]\n",
    ")\n",
    "workflow.add_edge(\"email_tools\", \"email_agent\")\n",
    "\n",
    "email_agent_graph = workflow.compile()\n",
    "```"
   ]
  },
  {
   "cell_type": "markdown",
   "id": "3924c8b1-3f41-4ae9-b435-d2828b1760fc",
   "metadata": {},
   "source": [
    "You first instantiate workflow—a StateGraph that passes around a [**MessagesState**](https://langchain-ai.github.io/langgraph/concepts/low_level/#messagesstate) object. Then, you add the `email_agent` and `email_tool` nodes to your graph and create the edges between them. The first edge moves from `START` to `email_agent` where `email_agent` will process the first message in your graph. In this case, the first message will be an email. You then add the conditional edge between `email_agent`, `email_tools`, and `END`.\n",
    "\n",
    "As specified in <font color='blue'>route_agent_graph_edge()</font>, if the `email_agent` node returns a tool message, your graph moves to the `email_tools` node to call the respective tool. The last edge you define connects `email_tools` back to `email_agent`, creating a cycle between the two. This means that the `email_agent` and `email_tools` nodes will continuously pass information back and forth until `email_agent` returns a non-tool message.\n",
    "\n",
    "Zooming out, here’s what your email agent looks like:"
   ]
  },
  {
   "cell_type": "code",
   "execution_count": 10,
   "id": "660a5744-9d65-4b54-852c-ce8090f32c42",
   "metadata": {},
   "outputs": [],
   "source": [
    "from graphs.email_agent import email_agent_graph"
   ]
  },
  {
   "cell_type": "code",
   "execution_count": 11,
   "id": "97ba28ce-98d6-4d64-af4c-5fa8d0c19780",
   "metadata": {},
   "outputs": [],
   "source": [
    "image_data = email_agent_graph.get_graph().draw_mermaid_png()\n",
    "with open('email_agent_graph.png', mode='wb') as f:\n",
    "    f.write(image_data)"
   ]
  },
  {
   "cell_type": "code",
   "execution_count": 12,
   "id": "ade83f03-546d-4f22-b9fc-c4bbdb012114",
   "metadata": {},
   "outputs": [
    {
     "data": {
      "image/png": "[encoded data removed]",
      "text/plain": [
       "<IPython.core.display.Image object>"
      ]
     },
     "execution_count": 12,
     "metadata": {},
     "output_type": "execute_result"
    }
   ],
   "source": [
    "Image(filename='email_agent_graph.png')"
   ]
  },
  {
   "cell_type": "markdown",
   "id": "93cab614-c3f3-436e-89d5-a27e455877b9",
   "metadata": {},
   "source": [
    "This architecture, while straightforward, is very common and a great place to start when building agents. <b>The general idea is that your `email_agent` will accept an email message and continually call `email_tools` until it believes it has successfully processed the email.</b> From here, you can continue expanding your agent’s capabilities. The last thing to do now is give your agent a try and see how it performs on a few examples."
   ]
  },
  {
   "cell_type": "markdown",
   "id": "1aaed574-14b9-4bfc-8870-7a9e7ad9090c",
   "metadata": {},
   "source": [
    "### <b><font color='darkgreen'>Test Your Graph Agent</font></b>\n",
    "<b><font size='3ptx'>Your email graph agent is complete and ready for you to test! In practice, it’s a good idea to test your agents on several examples where you know what the desired behavior should be.</font></b>\n",
    "\n",
    "This way, you can measure your agent’s performance and adjust its architecture and prompts to improve it. However, for this tutorial, you’ll just empirically inspect how your agent responds to the example emails you defined earlier."
   ]
  },
  {
   "cell_type": "markdown",
   "id": "97971ebf-6b70-45e3-99cc-fc97a152c435",
   "metadata": {},
   "source": [
    "Given these four emails, here’s how you might expect your agent to respond to each:\n",
    "* **Email 0**: This email is clearly a regulatory notice, and your agent should call your notice extraction graph. Since you’ve used this example several times now, you’ll skip it for this section.\n",
    "* **Email 1**: This email looks like it’s an invoice that doesn’t come from any kind of regulatory body or inspector. Your email agent should forward this to the billing department and send an email to debby@stack.com, informing her that she has the wrong email address.\n",
    "* **Email 2**: This email comes from a customer that’s having issues with equipment your company installed. Your agent should forward it to customer support, and it should send an email back to tdavid@companyxyz.com telling him that he has the wrong address.\n",
    "* **Email 3**: This email is clearly a regulatory notice, and your agent should call your notice extraction graph."
   ]
  },
  {
   "cell_type": "markdown",
   "id": "d2357081-b4fc-449c-b58c-23e497ee879d",
   "metadata": {},
   "source": [
    "To see how your agent does, let's handle once mail upon a time:"
   ]
  },
  {
   "cell_type": "code",
   "execution_count": 19,
   "id": "dd099b0c-dee0-431a-895c-928a6d667632",
   "metadata": {},
   "outputs": [],
   "source": [
    "from graphs.email_agent import email_agent_graph\n",
    "from example_emails import EMAILS\n",
    "from pprint import pprint"
   ]
  },
  {
   "cell_type": "markdown",
   "id": "d10d64b3-7555-4c0b-8f8c-f35233d912da",
   "metadata": {},
   "source": [
    "#### <b><font size='3ptx'>Email 1</font></b>"
   ]
  },
  {
   "cell_type": "code",
   "execution_count": 20,
   "id": "1c9489bf-62bc-4661-aec8-3e8d87e510f6",
   "metadata": {},
   "outputs": [
    {
     "name": "stdout",
     "output_type": "stream",
     "text": [
      "{'messages': [('human',\n",
      "               '\\n'\n",
      "               '    From: debby@stack.com\\n'\n",
      "               '    Hey Betsy,\\n'\n",
      "               \"    Here's your invoice for $1000 for the cookies you \"\n",
      "               'ordered.\\n'\n",
      "               '    ')]}\n"
     ]
    }
   ],
   "source": [
    "message_1 = {\"messages\": [(\"human\", EMAILS[1])]}\n",
    "pprint(message_1)"
   ]
  },
  {
   "cell_type": "code",
   "execution_count": 16,
   "id": "cca8ca29-8411-4af5-af0e-8f98bdd8ab7b",
   "metadata": {},
   "outputs": [
    {
     "name": "stdout",
     "output_type": "stream",
     "text": [
      "================================\u001b[1m Human Message \u001b[0m=================================\n",
      "\n",
      "\n",
      "    From: debby@stack.com\n",
      "    Hey Betsy,\n",
      "    Here's your invoice for $1000 for the cookies you ordered.\n",
      "    \n",
      "==================================\u001b[1m Ai Message \u001b[0m==================================\n",
      "Tool Calls:\n",
      "  determine_email_action (call_pE40Cxzch4AJeDaXfO6RXwJV)\n",
      " Call ID: call_pE40Cxzch4AJeDaXfO6RXwJV\n",
      "  Args:\n",
      "    email: From: debby@stack.com\n",
      "Hey Betsy,\n",
      "Here's your invoice for $1000 for the cookies you ordered.\n",
      "=================================\u001b[1m Tool Message \u001b[0m=================================\n",
      "Name: determine_email_action\n",
      "\n",
      "\n",
      "    If the email appears to be an invoice of any kind or related to\n",
      "    billing, forward the email to the billing and invoices team:\n",
      "    billing@company.com and send a wrong email notice back to the\n",
      "    sender. The correct department is billing@company.com.\n",
      "\n",
      "    If the email appears to be from a customer, forward to\n",
      "    support@company.com, cdetuma@company.com, and ctu@abc.com.\n",
      "    Be sure to forward it to all three emails listed.\n",
      "    Send a wrong email notice back to the\n",
      "    customer and let them know the correct department is\n",
      "    support@company.com.\n",
      "\n",
      "    For any other emails, please send a wrong email notification\n",
      "    and try to infer the correct department from one of\n",
      "    billing@company.com, support@company.com,\n",
      "    humanresources@company.com, and it@company.com.\n",
      "    \n"
     ]
    },
    {
     "name": "stderr",
     "output_type": "stream",
     "text": [
      "2025-04-26 09:29:36,872 - INFO - Forwarding the email to billing@company.com...\n",
      "2025-04-26 09:29:36,876 - INFO - Sending wrong email notification to debby@stack.com...\n"
     ]
    },
    {
     "name": "stdout",
     "output_type": "stream",
     "text": [
      "==================================\u001b[1m Ai Message \u001b[0m==================================\n",
      "Tool Calls:\n",
      "  forward_email (call_IWRC8RZYokqoCs2qS66jrwnB)\n",
      " Call ID: call_IWRC8RZYokqoCs2qS66jrwnB\n",
      "  Args:\n",
      "    email_message: From: debby@stack.com\n",
      "Hey Betsy,\n",
      "Here's your invoice for $1000 for the cookies you ordered.\n",
      "    send_to_email: billing@company.com\n",
      "  send_wrong_email_notification_to_sender (call_IAl0ro0oBkXEMttwJ5DZXf5G)\n",
      " Call ID: call_IAl0ro0oBkXEMttwJ5DZXf5G\n",
      "  Args:\n",
      "    sender_email: debby@stack.com\n",
      "    correct_department: billing@company.com\n"
     ]
    },
    {
     "name": "stderr",
     "output_type": "stream",
     "text": [
      "2025-04-26 09:29:39,421 - INFO - Email forwarded!\n",
      "2025-04-26 09:29:39,438 - INFO - Email sent!\n"
     ]
    },
    {
     "name": "stdout",
     "output_type": "stream",
     "text": [
      "=================================\u001b[1m Tool Message \u001b[0m=================================\n",
      "Name: send_wrong_email_notification_to_sender\n",
      "\n",
      "true\n",
      "==================================\u001b[1m Ai Message \u001b[0m==================================\n",
      "\n",
      "The email has been successfully forwarded to the billing department, and a notification has been sent to the sender, informing them that they have the wrong address and that the correct department is billing@company.com.\n"
     ]
    }
   ],
   "source": [
    "for chunk in email_agent_graph.stream(message_1, stream_mode=\"values\"):\n",
    "    chunk[\"messages\"][-1].pretty_print()"
   ]
  },
  {
   "cell_type": "markdown",
   "id": "b0bf81d7-5d50-432f-8723-87e3af66da12",
   "metadata": {},
   "source": [
    "Here’s what happens:\n",
    "1. Your agent calls <font color='blue'>determine_email_action()</font> to get instructions.\n",
    "2. Based on these instructions, your agent forwards the email to `billing@company.com`.\n",
    "3. It also sends a wrong email notification to `debby@stack.com`.\n",
    "\n",
    "Your agent behaved exactly like you wanted it to!"
   ]
  },
  {
   "cell_type": "markdown",
   "id": "19f01a31-ebf1-44b4-8f61-ef37db91513f",
   "metadata": {},
   "source": [
    "#### <b><font size='3ptx'>Email 2</font></b>"
   ]
  },
  {
   "cell_type": "code",
   "execution_count": 22,
   "id": "8b020270-5543-4b79-8775-f653ffc95011",
   "metadata": {},
   "outputs": [
    {
     "name": "stdout",
     "output_type": "stream",
     "text": [
      "{'messages': [('human',\n",
      "               '\\n'\n",
      "               '    From: tdavid@companyxyz.com\\n'\n",
      "               '    Hi Paul,\\n'\n",
      "               '    We have an issue with the HVAC system your team installed '\n",
      "               'in\\n'\n",
      "               \"    apartment 1235. We'd like to request maintenance or a \"\n",
      "               'refund.\\n'\n",
      "               '    Thanks,\\n'\n",
      "               '    Terrance\\n'\n",
      "               '    ')]}\n"
     ]
    }
   ],
   "source": [
    "message_2 = {\"messages\": [(\"human\", EMAILS[2])]}\n",
    "pprint(message_2)"
   ]
  },
  {
   "cell_type": "code",
   "execution_count": 23,
   "id": "b00b5298-c6aa-459c-af34-986c53f86500",
   "metadata": {},
   "outputs": [
    {
     "name": "stdout",
     "output_type": "stream",
     "text": [
      "================================\u001b[1m Human Message \u001b[0m=================================\n",
      "\n",
      "\n",
      "    From: tdavid@companyxyz.com\n",
      "    Hi Paul,\n",
      "    We have an issue with the HVAC system your team installed in\n",
      "    apartment 1235. We'd like to request maintenance or a refund.\n",
      "    Thanks,\n",
      "    Terrance\n",
      "    \n",
      "==================================\u001b[1m Ai Message \u001b[0m==================================\n",
      "Tool Calls:\n",
      "  determine_email_action (call_1fNuGeESqdOboiADlWesXB5a)\n",
      " Call ID: call_1fNuGeESqdOboiADlWesXB5a\n",
      "  Args:\n",
      "    email: From: tdavid@companyxyz.com\n",
      "Hi Paul,\n",
      "We have an issue with the HVAC system your team installed in apartment 1235. We'd like to request maintenance or a refund.\n",
      "Thanks,\n",
      "Terrance\n",
      "=================================\u001b[1m Tool Message \u001b[0m=================================\n",
      "Name: determine_email_action\n",
      "\n",
      "\n",
      "    If the email appears to be an invoice of any kind or related to\n",
      "    billing, forward the email to the billing and invoices team:\n",
      "    billing@company.com and send a wrong email notice back to the\n",
      "    sender. The correct department is billing@company.com.\n",
      "\n",
      "    If the email appears to be from a customer, forward to\n",
      "    support@company.com, cdetuma@company.com, and ctu@abc.com.\n",
      "    Be sure to forward it to all three emails listed.\n",
      "    Send a wrong email notice back to the\n",
      "    customer and let them know the correct department is\n",
      "    support@company.com.\n",
      "\n",
      "    For any other emails, please send a wrong email notification\n",
      "    and try to infer the correct department from one of\n",
      "    billing@company.com, support@company.com,\n",
      "    humanresources@company.com, and it@company.com.\n",
      "    \n"
     ]
    },
    {
     "name": "stderr",
     "output_type": "stream",
     "text": [
      "2025-04-26 09:35:51,756 - INFO - Forwarding the email to support@company.com...\n",
      "2025-04-26 09:35:51,770 - INFO - Forwarding the email to cdetuma@company.com...\n",
      "2025-04-26 09:35:51,777 - INFO - Forwarding the email to ctu@abc.com...\n",
      "2025-04-26 09:35:51,787 - INFO - Sending wrong email notification to tdavid@companyxyz.com...\n"
     ]
    },
    {
     "name": "stdout",
     "output_type": "stream",
     "text": [
      "==================================\u001b[1m Ai Message \u001b[0m==================================\n",
      "Tool Calls:\n",
      "  forward_email (call_nC5U9PpzSS8kEsUkDic4ACu5)\n",
      " Call ID: call_nC5U9PpzSS8kEsUkDic4ACu5\n",
      "  Args:\n",
      "    email_message: From: tdavid@companyxyz.com\n",
      "Hi Paul,\n",
      "We have an issue with the HVAC system your team installed in apartment 1235. We'd like to request maintenance or a refund.\n",
      "Thanks,\n",
      "Terrance\n",
      "    send_to_email: support@company.com\n",
      "  forward_email (call_LgMfgB51to7cHEeLw1R4eO6w)\n",
      " Call ID: call_LgMfgB51to7cHEeLw1R4eO6w\n",
      "  Args:\n",
      "    email_message: From: tdavid@companyxyz.com\n",
      "Hi Paul,\n",
      "We have an issue with the HVAC system your team installed in apartment 1235. We'd like to request maintenance or a refund.\n",
      "Thanks,\n",
      "Terrance\n",
      "    send_to_email: cdetuma@company.com\n",
      "  forward_email (call_1XBxinaPsS18wBsQFgd4XSXy)\n",
      " Call ID: call_1XBxinaPsS18wBsQFgd4XSXy\n",
      "  Args:\n",
      "    email_message: From: tdavid@companyxyz.com\n",
      "Hi Paul,\n",
      "We have an issue with the HVAC system your team installed in apartment 1235. We'd like to request maintenance or a refund.\n",
      "Thanks,\n",
      "Terrance\n",
      "    send_to_email: ctu@abc.com\n",
      "  send_wrong_email_notification_to_sender (call_HRoOsKTf29LD82VR3FgaC5VX)\n",
      " Call ID: call_HRoOsKTf29LD82VR3FgaC5VX\n",
      "  Args:\n",
      "    sender_email: tdavid@companyxyz.com\n",
      "    correct_department: support@company.com\n"
     ]
    },
    {
     "name": "stderr",
     "output_type": "stream",
     "text": [
      "2025-04-26 09:35:53,770 - INFO - Email forwarded!\n",
      "2025-04-26 09:35:53,790 - INFO - Email forwarded!\n",
      "2025-04-26 09:35:53,797 - INFO - Email forwarded!\n",
      "2025-04-26 09:35:53,802 - INFO - Email sent!\n"
     ]
    },
    {
     "name": "stdout",
     "output_type": "stream",
     "text": [
      "=================================\u001b[1m Tool Message \u001b[0m=================================\n",
      "Name: send_wrong_email_notification_to_sender\n",
      "\n",
      "true\n",
      "==================================\u001b[1m Ai Message \u001b[0m==================================\n",
      "\n",
      "The email has been successfully forwarded to the support team and the other relevant contacts. Additionally, a notification has been sent to the sender, informing them that the correct department is support@company.com.\n"
     ]
    }
   ],
   "source": [
    "for chunk in email_agent_graph.stream(message_2, stream_mode=\"values\"):\n",
    "    chunk[\"messages\"][-1].pretty_print()"
   ]
  },
  {
   "cell_type": "markdown",
   "id": "13eed6be-53ec-4bc7-a5b0-65355331ed52",
   "metadata": {},
   "source": [
    "For the second email, here’s what happens:\n",
    "1. Your agent recognizes that it comes from a customer and successfully forwards it to the three customer support emails listed in the instructions.\n",
    "2. It then sends a wrong email notification back to `tdavid@companyxyz.com`.\n",
    "3. This means your agent made a total of five tool calls before terminating the graph — it determined the email action, forwarded the email to three different addresses, and sent a wrong email notification."
   ]
  },
  {
   "cell_type": "markdown",
   "id": "0ff996b5-1bf8-49e8-bbb0-2bbc2f86606f",
   "metadata": {},
   "source": [
    "#### <b><font size='3ptx'>Email 3</font></b>"
   ]
  },
  {
   "cell_type": "code",
   "execution_count": 27,
   "id": "4cee3dde-e664-40c0-ab6c-6813e189bf80",
   "metadata": {},
   "outputs": [],
   "source": [
    "escalation_criteria = \"\"\"\"There's an immediate risk of electrical, water, or fire damage\"\"\"\n",
    "\n",
    "message_with_criteria = f\"\"\"\n",
    "The escalation criteria is: {escalation_criteria}\n",
    "\n",
    "Here's the email:\n",
    "\n",
    "{EMAILS[3]}\n",
    "\"\"\""
   ]
  },
  {
   "cell_type": "code",
   "execution_count": 28,
   "id": "6465e7b8-ccf1-48fb-9399-6eaf46786c03",
   "metadata": {},
   "outputs": [
    {
     "name": "stdout",
     "output_type": "stream",
     "text": [
      "{'messages': [('human',\n",
      "               '\\n'\n",
      "               'The escalation criteria is: \"There\\'s an immediate risk of '\n",
      "               'electrical, water, or fire damage\\n'\n",
      "               '\\n'\n",
      "               \"Here's the email:\\n\"\n",
      "               '\\n'\n",
      "               '\\n'\n",
      "               '    Date: January 10, 2025\\n'\n",
      "               '    From: City of Los Angeles Building and Safety Department\\n'\n",
      "               '    To: West Coast Development, project 345678123 - Sunset '\n",
      "               'Luxury\\n'\n",
      "               '    Condominiums\\n'\n",
      "               '    Location: Los Angeles, CA\\n'\n",
      "               '    Following an inspection of your site at 456 Sunset '\n",
      "               'Boulevard, we have\\n'\n",
      "               '    identified the following building code violations:\\n'\n",
      "               '    Electrical Wiring: Exposed wiring was found in the '\n",
      "               'underground parking\\n'\n",
      "               '    garage, posing a safety hazard. Fire Safety: Insufficient '\n",
      "               'fire\\n'\n",
      "               '    extinguishers were available across multiple floors of the '\n",
      "               'structure\\n'\n",
      "               '    under construction.\\n'\n",
      "               '    Structural Integrity: The temporary support beams in the '\n",
      "               'eastern wing\\n'\n",
      "               '    do not meet the load-bearing standards specified in local '\n",
      "               'building\\n'\n",
      "               '    codes.\\n'\n",
      "               '    Required Corrective Actions:\\n'\n",
      "               '    Replace or properly secure exposed wiring to meet '\n",
      "               'electrical safety\\n'\n",
      "               '    standards. Install additional fire extinguishers in '\n",
      "               'compliance with\\n'\n",
      "               '    fire code requirements. Reinforce or replace temporary '\n",
      "               'support beams\\n'\n",
      "               '    to ensure structural stability. Deadline for Compliance: '\n",
      "               'Violations\\n'\n",
      "               '    must be addressed no later than February 5,\\n'\n",
      "               '    2025. Failure to comply may result in\\n'\n",
      "               '    a stop-work order and additional fines.\\n'\n",
      "               '    Contact: For questions or to schedule a re-inspection, '\n",
      "               'please contact\\n'\n",
      "               '    the Building and Safety Department at\\n'\n",
      "               '    (555) 456-7890 or email inspections@lacity.gov.\\n'\n",
      "               '    \\n')]}\n"
     ]
    }
   ],
   "source": [
    "message_3 = {\"messages\": [(\"human\", message_with_criteria)]}\n",
    "pprint(message_3)"
   ]
  },
  {
   "cell_type": "code",
   "execution_count": 29,
   "id": "9138a707-58f1-4f00-bd19-d10b9b7919ba",
   "metadata": {},
   "outputs": [
    {
     "name": "stdout",
     "output_type": "stream",
     "text": [
      "================================\u001b[1m Human Message \u001b[0m=================================\n",
      "\n",
      "\n",
      "The escalation criteria is: \"There's an immediate risk of electrical, water, or fire damage\n",
      "\n",
      "Here's the email:\n",
      "\n",
      "\n",
      "    Date: January 10, 2025\n",
      "    From: City of Los Angeles Building and Safety Department\n",
      "    To: West Coast Development, project 345678123 - Sunset Luxury\n",
      "    Condominiums\n",
      "    Location: Los Angeles, CA\n",
      "    Following an inspection of your site at 456 Sunset Boulevard, we have\n",
      "    identified the following building code violations:\n",
      "    Electrical Wiring: Exposed wiring was found in the underground parking\n",
      "    garage, posing a safety hazard. Fire Safety: Insufficient fire\n",
      "    extinguishers were available across multiple floors of the structure\n",
      "    under construction.\n",
      "    Structural Integrity: The temporary support beams in the eastern wing\n",
      "    do not meet the load-bearing standards specified in local building\n",
      "    codes.\n",
      "    Required Corrective Actions:\n",
      "    Replace or properly secure exposed wiring to meet electrical safety\n",
      "    standards. Install additional fire extinguishers in compliance with\n",
      "    fire code requirements. Reinforce or replace temporary support beams\n",
      "    to ensure structural stability. Deadline for Compliance: Violations\n",
      "    must be addressed no later than February 5,\n",
      "    2025. Failure to comply may result in\n",
      "    a stop-work order and additional fines.\n",
      "    Contact: For questions or to schedule a re-inspection, please contact\n",
      "    the Building and Safety Department at\n",
      "    (555) 456-7890 or email inspections@lacity.gov.\n",
      "    \n",
      "\n"
     ]
    },
    {
     "name": "stderr",
     "output_type": "stream",
     "text": [
      "2025-04-26 09:39:32,071 - INFO - Calling the email notice extraction graph...\n",
      "2025-04-26 09:39:32,075 - INFO - Parsing notice...\n"
     ]
    },
    {
     "name": "stdout",
     "output_type": "stream",
     "text": [
      "==================================\u001b[1m Ai Message \u001b[0m==================================\n",
      "Tool Calls:\n",
      "  extract_notice_data (call_WK47TR8CXLtYtYqNlFaKfQM9)\n",
      " Call ID: call_WK47TR8CXLtYtYqNlFaKfQM9\n",
      "  Args:\n",
      "    email: Date: January 10, 2025\n",
      "From: City of Los Angeles Building and Safety Department\n",
      "To: West Coast Development, project 345678123 - Sunset Luxury\n",
      "Condominiums\n",
      "Location: Los Angeles, CA\n",
      "Following an inspection of your site at 456 Sunset Boulevard, we have\n",
      "identified the following building code violations:\n",
      "Electrical Wiring: Exposed wiring was found in the underground parking\n",
      "garage, posing a safety hazard. Fire Safety: Insufficient fire\n",
      "extinguishers were available across multiple floors of the structure\n",
      "under construction.\n",
      "Structural Integrity: The temporary support beams in the eastern wing\n",
      "do not meet the load-bearing standards specified in local building\n",
      "codes.\n",
      "Required Corrective Actions:\n",
      "Replace or properly secure exposed wiring to meet electrical safety\n",
      "standards. Install additional fire extinguishers in compliance with\n",
      "fire code requirements. Reinforce or replace temporary support beams\n",
      "to ensure structural stability. Deadline for Compliance: Violations\n",
      "must be addressed no later than February 5,\n",
      "2025. Failure to comply may result in\n",
      "a stop-work order and additional fines.\n",
      "Contact: For questions or to schedule a re-inspection, please contact\n",
      "the Building and Safety Department at\n",
      "(555) 456-7890 or email inspections@lacity.gov.\n",
      "    escalation_criteria: There's an immediate risk of electrical, water, or fire damage\n"
     ]
    },
    {
     "name": "stderr",
     "output_type": "stream",
     "text": [
      "2025-04-26 09:39:35,326 - INFO - Determining escalation status...\n",
      "2025-04-26 09:39:36,592 - INFO - Escalation needed!\n",
      "2025-04-26 09:39:36,601 - INFO - Sending escalation emails...\n",
      "2025-04-26 09:39:38,591 - INFO - Escalation email sent to brog@abc.com\n",
      "2025-04-26 09:39:39,626 - INFO - Escalation email sent to bigceo@company.com\n",
      "2025-04-26 09:39:39,666 - INFO - Creating legal ticket for notice...\n",
      "2025-04-26 09:39:41,686 - INFO - Follow-up is required before creating this ticket\n",
      "2025-04-26 09:39:42,819 - INFO - Creating legal ticket for notice...\n",
      "2025-04-26 09:39:44,857 - INFO - Follow-up is required before creating this ticket\n",
      "2025-04-26 09:39:45,623 - INFO - Creating legal ticket for notice...\n",
      "2025-04-26 09:39:47,628 - INFO - Legal ticket created!\n"
     ]
    },
    {
     "name": "stdout",
     "output_type": "stream",
     "text": [
      "=================================\u001b[1m Tool Message \u001b[0m=================================\n",
      "Name: extract_notice_data\n",
      "\n",
      "entity_name='City of Los Angeles Building and Safety Department' entity_phone='(555) 456-7890' entity_email='inspections@lacity.gov' project_id=345678123 site_location='456 Sunset Boulevard, Los Angeles, CA' violation_type='Electrical Wiring, Fire Safety, Structural Integrity' required_changes='Replace or properly secure exposed wiring to meet electrical safety standards. Install additional fire extinguishers in compliance with fire code requirements. Reinforce or replace temporary support beams to ensure structural stability.' max_potential_fine=None date_of_notice=datetime.date(2025, 1, 10) compliance_deadline=datetime.date(2025, 2, 5)\n",
      "==================================\u001b[1m Ai Message \u001b[0m==================================\n",
      "\n",
      "The notice from the City of Los Angeles Building and Safety Department has been successfully extracted. Here are the details:\n",
      "\n",
      "- **Entity Name**: City of Los Angeles Building and Safety Department\n",
      "- **Contact Phone**: (555) 456-7890\n",
      "- **Contact Email**: inspections@lacity.gov\n",
      "- **Project ID**: 345678123\n",
      "- **Site Location**: 456 Sunset Boulevard, Los Angeles, CA\n",
      "- **Violation Types**: Electrical Wiring, Fire Safety, Structural Integrity\n",
      "- **Required Changes**:\n",
      "  - Replace or properly secure exposed wiring to meet electrical safety standards.\n",
      "  - Install additional fire extinguishers in compliance with fire code requirements.\n",
      "  - Reinforce or replace temporary support beams to ensure structural stability.\n",
      "- **Date of Notice**: January 10, 2025\n",
      "- **Compliance Deadline**: February 5, 2025\n",
      "\n",
      "Since there is an immediate risk of electrical and fire damage, this notice requires urgent attention. Would you like to take any specific actions regarding this notice?\n"
     ]
    }
   ],
   "source": [
    "for chunk in email_agent_graph.stream(message_3, stream_mode=\"values\"):\n",
    "    chunk[\"messages\"][-1].pretty_print()"
   ]
  },
  {
   "cell_type": "markdown",
   "id": "2a588ed9-d9a1-4333-b443-f0eca25a140a",
   "metadata": {},
   "source": [
    "Here’s what happens for this one:\n",
    "1. You first define `escalation_criteria` and create a message that includes `escalation_criteria` with the email message.\n",
    "2. Your agent successfully recognizes that this is a notice email, and it calls the `extract_notice_data` tool.\n",
    "3. This invokes your notice extraction graph, which successfully parses the notice and identifies that it requires escalation."
   ]
  },
  {
   "cell_type": "markdown",
   "id": "19b7bcd9-9e0b-4224-8ae7-4bd1477e77ee",
   "metadata": {},
   "source": [
    "Your agent worked end-to-end on all three examples, and the results are awesome!\n",
    "\n",
    "<b>Keep in mind that you might not get the exact same results as above given that LLM outputs aren’t deterministic, but your results should be very similar</b>. You now have the tools—no pun intended—needed to build your own LangGraph agents!"
   ]
  },
  {
   "cell_type": "markdown",
   "id": "7d08a90d-1a61-46ce-9f45-31150ae4af1f",
   "metadata": {},
   "source": [
    "## <b><font color='darkblue'>Conclusion</font></b>\n",
    "Congratulations on completing this in-depth tutorial! You successfully built an LLM agent in LangGraph and now have a solid foundation to build your own applications.\n",
    "\n",
    "In this tutorial, you’ve learned how to:\n",
    "1. Think about LangGraph as a complement to LangChain for building sophisticated LLM workflows\n",
    "2. Build LangGraph StateGraph workflows with conditional edges and cycles\n",
    "3. Build LangGraph LLM agents"
   ]
  },
  {
   "cell_type": "markdown",
   "id": "f84fbebc-470e-4aaa-9c2f-0e49c486b244",
   "metadata": {},
   "source": [
    "## <b><font color='darkblue'>Supplement</font></b>\n",
    "* [Medium - LangGraph for Beginners, Part 4: StateGraph.](https://medium.com/ai-agents/langgraph-for-beginners-part-4-stategraph-794004555369)"
   ]
  }
 ],
 "metadata": {
  "kernelspec": {
   "display_name": "Python 3 (ipykernel)",
   "language": "python",
   "name": "python3"
  },
  "language_info": {
   "codemirror_mode": {
    "name": "ipython",
    "version": 3
   },
   "file_extension": ".py",
   "mimetype": "text/x-python",
   "name": "python",
   "nbconvert_exporter": "python",
   "pygments_lexer": "ipython3",
   "version": "3.12.3"
  }
 },
 "nbformat": 4,
 "nbformat_minor": 5
}
