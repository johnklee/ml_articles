{
 "cells": [
  {
   "cell_type": "markdown",
   "id": "9015eecf-0d82-4517-85cc-c16aacbaa8b4",
   "metadata": {},
   "source": [
    "## <b><font color='darkblue'>Preface</font></b>\n",
    "([source](https://realpython.com/langgraph-python/?fbclid=IwZXh0bgNhZW0CMTEAAR6wBnQpFfskJnubHhtPKpXLUjnoDzFtpHy2cwGMmslw5lZyysdVxaC6UyuatA_aem_ytzTtBvnm47u4-OB0E_dkw)) <font size='3ptx'><b>[LangGraph](https://www.langchain.com/langgraph) is a versatile Python library designed for stateful, cyclic, and multi-actor [**Large Language Model**](https://en.wikipedia.org/wiki/Large_language_model) (LLM) applications</b>. LangGraph builds upon its parent library, [**LangChain**](https://www.langchain.com/), and allows you to build sophisticated workflows that are capable of handling the complexities of real-world LLM applications.</font>\n",
    "\n",
    "By the end of this tutorial, you’ll understand that:\n",
    "* You can use [**LangGraph**](https://www.langchain.com/langgraph) to build LLM workflows by defining state graphs with nodes and edges.\n",
    "* [**LangGraph**](https://www.langchain.com/langgraph) expands [**LangChain**](https://www.langchain.com/)’s capabilities by providing tools to build complex LLM workflows with state, conditional edges, and cycles.\n",
    "* LLM agents in [**LangGraph**](https://www.langchain.com/langgraph) autonomously process tasks using state graphs to make decisions and interact with tools or APIs.\n",
    "* You can use [**LangGraph**](https://www.langchain.com/langgraph) independently of [**LangChain**](https://www.langchain.com/), although they’re often used together to complement each other.\n",
    "\n",
    "\n",
    "Explore the full tutorial to gain hands-on experience with [**LangGraph**](https://www.langchain.com/langgraph), including setting up workflows and building a LangGraph agent that can autonomously parse emails, send emails, and interact with API services.\n",
    "\n",
    "\n",
    "While you’ll get a brief primer on [**LangChain**](https://www.langchain.com/) in this tutorial, you’ll benefit from having prior knowledge of LangChain fundamentals. You’ll also want to ensure you have intermediate Python knowledge—specifically in object-oriented programming concepts like classes and methods."
   ]
  },
  {
   "cell_type": "markdown",
   "id": "41a4dc5d-73e3-4190-82d0-a048840c82f7",
   "metadata": {},
   "source": [
    "### <b><font color='darkgreen'>Install LangGraph</font></b>\n",
    "LangGraph is available on PyPI, and you can install it with pip. Open a terminal or command prompt, create a new virtual environment, and then run the following command:\n",
    "```shell\n",
    "(venv) $ python -m pip install langgraph\n",
    "```"
   ]
  },
  {
   "cell_type": "code",
   "execution_count": 1,
   "id": "d7cb56b6-ba9f-4832-8f8c-b45cbcb3386a",
   "metadata": {},
   "outputs": [
    {
     "name": "stdout",
     "output_type": "stream",
     "text": [
      "langgraph==0.3.25\n",
      "langgraph-checkpoint==2.0.24\n",
      "langgraph-prebuilt==0.1.8\n",
      "langgraph-sdk==0.1.61\n"
     ]
    }
   ],
   "source": [
    "!pip freeze | grep langgraph"
   ]
  },
  {
   "cell_type": "markdown",
   "id": "2968706f-5636-4065-89a7-661b92638b03",
   "metadata": {},
   "source": [
    "You’ll also need a few more libraries for this tutorial:\n",
    "```shell\n",
    "(venv) $ pip install langchain-openai \"pydantic[email]\"\n",
    "```"
   ]
  },
  {
   "cell_type": "code",
   "execution_count": 2,
   "id": "5b80cb25-0aba-44a5-8714-b404ea778bba",
   "metadata": {},
   "outputs": [
    {
     "name": "stdout",
     "output_type": "stream",
     "text": [
      "langchain-openai==0.3.12\n",
      "pydantic==2.10.6\n",
      "pydantic-settings==2.8.1\n",
      "pydantic_core==2.27.2\n"
     ]
    }
   ],
   "source": [
    "!pip freeze | grep -P '(langchain-openai|pydantic)'"
   ]
  },
  {
   "cell_type": "markdown",
   "id": "7e397599-d82b-4f02-acc3-80c287a8c421",
   "metadata": {},
   "source": [
    "You’ll use [`langchain-openai`](https://github.com/langchain-ai/langchain) to interact with OpenAI LLMs, but keep in mind that **you can use any LLM provider you like with LangGraph and LangChain**. You’ll **use [pydantic](https://realpython.com/python-pydantic/) to validate the information your agent parses from emails**.\n",
    "\n",
    "Before moving forward, if you choose to use OpenAI, make sure you’re signed up for an OpenAI account and that you have a valid [**API key**](https://openai.com/api/). You’ll need to set the following [environment variable](https://en.wikipedia.org/wiki/Environment_variable) before running any examples in this tutorial:\n",
    "```shell\n",
    "OPENAI_API_KEY=<YOUR-OPENAI-API-KEY>\n",
    "```\n",
    "\n",
    "Note that while LangGraph was made by the creators of LangChain, and the two libraries are highly compatible, it’s possible to use LangGraph without LangChain. However, it’s more common to use LangChain and LangGraph together, and you’ll see throughout this tutorial how they complement each other."
   ]
  },
  {
   "cell_type": "code",
   "execution_count": 2,
   "id": "0c89904a-8d91-4c09-962b-f5badd913aa1",
   "metadata": {},
   "outputs": [],
   "source": [
    "import os\n",
    "from dotenv import load_dotenv, find_dotenv\n",
    "\n",
    "# We defined the environment variable `OPENAI_API_KEY` in `~/.env`\n",
    "_ = load_dotenv(find_dotenv(os.path.expanduser('~/.env')))"
   ]
  },
  {
   "cell_type": "markdown",
   "id": "ae5e853e-36be-4de8-acd7-54690194eddb",
   "metadata": {},
   "source": [
    "<b>With that, you’ve installed all the dependencies you’ll need for this tutorial, and you’re ready to create your LangGraph email processor</b>. Before diving in, you’ll take a brief detour to set up quick sanity tests for your app. Then, <b>you’ll go through an overview of LangChain chains and explore LangGraph’s core concept—the state graph</b>."
   ]
  },
  {
   "cell_type": "markdown",
   "id": "2575d23d-0f59-446b-ae95-c53dfde76639",
   "metadata": {},
   "source": [
    "### <b><font color='darkgreen'>Create Test Cases</font></b>\n",
    "<font size='3ptx'><b>When developing AI applications, testing and performance tracking is crucial for understanding how your chain, graph, or agent performs in the real world.</b> While performance tracking is out of scope for this tutorial, you’ll use several example emails to test your chains, graphs, and agent, and you’ll empirically inspect whether their outputs are correct</font>.\n",
    "\n",
    "To avoid redefining these examples each time, create the following Python file with example emails:"
   ]
  },
  {
   "cell_type": "code",
   "execution_count": 8,
   "id": "c288384a-7b43-4ee5-84b2-8b30892b2937",
   "metadata": {},
   "outputs": [],
   "source": [
    "EMAILS = [\n",
    "    # Email 0\n",
    "    \"\"\"\n",
    "    Date: October 15, 2024\n",
    "    From: Occupational Safety and Health Administration (OSHA)\n",
    "    To: Blue Ridge Construction, project 111232345 - Downtown Office\n",
    "    Complex Location: Dallas, TX\n",
    "\n",
    "    During a recent inspection of your construction site at 123 Main\n",
    "    Street,\n",
    "    the following safety violations were identified:\n",
    "\n",
    "    Lack of fall protection: Workers on scaffolding above 10 feet\n",
    "    were without required harnesses or other fall protection\n",
    "    equipment. Unsafe scaffolding setup: Several scaffolding\n",
    "    structures were noted as\n",
    "    lacking secure base plates and bracing, creating potential\n",
    "    collapse risks.\n",
    "    Inadequate personal protective equipment (PPE): Multiple\n",
    "    workers were\n",
    "    found without proper PPE, including hard hats and safety\n",
    "    glasses.\n",
    "    Required Corrective Actions:\n",
    "\n",
    "    Install guardrails and fall arrest systems on all scaffolding\n",
    "    over 10 feet. Conduct an inspection of all scaffolding\n",
    "    structures and reinforce unstable sections. Ensure all\n",
    "    workers on-site are provided\n",
    "    with necessary PPE and conduct safety training on proper\n",
    "    usage.\n",
    "    Deadline for Compliance: All violations must be rectified\n",
    "    by November 10, 2024. Failure to comply may result in fines\n",
    "    of up to\n",
    "    $25,000 per violation.\n",
    "\n",
    "    Contact: For questions or to confirm compliance, please reach\n",
    "    out to the\n",
    "    OSHA regional office at (555) 123-4567 or email\n",
    "    compliance.osha@osha.gov.\n",
    "    \"\"\",\n",
    "    # Email 1\n",
    "    \"\"\"\n",
    "    From: debby@stack.com\n",
    "    Hey Betsy,\n",
    "    Here's your invoice for $1000 for the cookies you ordered.\n",
    "    \"\"\",\n",
    "    # Email 2\n",
    "    \"\"\"\n",
    "    From: tdavid@companyxyz.com\n",
    "    Hi Paul,\n",
    "    We have an issue with the HVAC system your team installed in\n",
    "    apartment 1235. We'd like to request maintenance or a refund.\n",
    "    Thanks,\n",
    "    Terrance\n",
    "    \"\"\",\n",
    "    # Email 3\n",
    "    \"\"\"\n",
    "    Date: January 10, 2025\n",
    "    From: City of Los Angeles Building and Safety Department\n",
    "    To: West Coast Development, project 345678123 - Sunset Luxury\n",
    "    Condominiums\n",
    "    Location: Los Angeles, CA\n",
    "    Following an inspection of your site at 456 Sunset Boulevard, we have\n",
    "    identified the following building code violations:\n",
    "    Electrical Wiring: Exposed wiring was found in the underground parking\n",
    "    garage, posing a safety hazard. Fire Safety: Insufficient fire\n",
    "    extinguishers were available across multiple floors of the structure\n",
    "    under construction.\n",
    "    Structural Integrity: The temporary support beams in the eastern wing\n",
    "    do not meet the load-bearing standards specified in local building\n",
    "    codes.\n",
    "    Required Corrective Actions:\n",
    "    Replace or properly secure exposed wiring to meet electrical safety\n",
    "    standards. Install additional fire extinguishers in compliance with\n",
    "    fire code requirements. Reinforce or replace temporary support beams\n",
    "    to ensure structural stability. Deadline for Compliance: Violations\n",
    "    must be addressed no later than February 5,\n",
    "    2025. Failure to comply may result in\n",
    "    a stop-work order and additional fines.\n",
    "    Contact: For questions or to schedule a re-inspection, please contact\n",
    "    the Building and Safety Department at\n",
    "    (555) 456-7890 or email inspections@lacity.gov.\n",
    "    \"\"\",\n",
    "]"
   ]
  },
  {
   "cell_type": "markdown",
   "id": "51805171-3216-41ee-9082-5c5e190170be",
   "metadata": {},
   "source": [
    "You can read through these right now if you want, but you’ll get links back to these test emails throughout the tutorial."
   ]
  },
  {
   "cell_type": "markdown",
   "id": "a6bd8c3a-1196-432a-bdd0-58958ac93e2b",
   "metadata": {},
   "source": [
    "### <b><font color='darkgreen'>Preview of State Graphs</font></b>\n",
    "<font size='3ptx'><b>As you might have inferred from the name, LangGraph is all about implementing LLM applications as directed graphs.</b> You can think of a directed graph as a sequence of instructions composed of nodes and edges, that tell you how to complete a task.</font>\n",
    "\n",
    "In [**LangGraph**](https://www.langchain.com/langgraph), <b>nodes represent actions that your graph can take, such as calling a function, and edges tell you which node to go to next</b>.\n",
    "\n",
    "To understand this better, take a look at this directed graph:\n",
    "![graph](https://realpython.com/cdn-cgi/image/width=1418,format=auto/https://files.realpython.com/media/Screenshot_2024-11-25_at_2.28.24_PM.ab4b12f7d677.png)\n",
    "\n",
    "This graph models what you might do when you eat a meal in a cafeteria. It consists of two actions represented by nodes: <b>Buy Food</b> and <b>Eat Food</b>. Once you’ve eaten, you ask yourself: `Am I still hungry`, or `am I full`?\n",
    "\n",
    "The dotted arrows, which are edges, represent the answers to this question. If you’re still hungry, you buy more food and eat it. This cycle continues until you’re full, at which point you leave the cafeteria.\n",
    "\n",
    "This simple example illustrates the essence of how LangGraph represents and implements LLM applications. In this tutorial, you’re going to step into the shoes of an AI engineer at a large real estate development firm and build a graph to process emails from regulatory agencies. Your graph will:\n",
    "* Extract structured fields like dates, names, phone numbers, and locations from email messages\n",
    "* Notify internal stakeholders if an email requires immediate escalation\n",
    "* Create tickets with your company’s legal team using the information extracted from the email\n",
    "* Forward and reply to emails that were sent to the wrong address\n",
    "\n",
    "To understand why [**LangGraph**](https://www.langchain.com/langgraph) is a great choice for building this type of application, you’ll begin by reviewing and building a [**LangChain**](https://www.langchain.com/) chain, and you’ll see why chains can’t accomplish the tasks listed above."
   ]
  },
  {
   "cell_type": "markdown",
   "id": "0b11b070-ddb3-4aa7-962c-010ee6b9b184",
   "metadata": {},
   "source": [
    "### <b><font color='darkgreen'>LangChain Chains and Their Limitations</font></b>\n",
    "<font size='3ptx'><b>Suppose you work for a large real estate development company. Your company receives hundreds of emails a day from regulatory entities and other organizations regarding active construction sites.</b> For instance, your company might receive a notice from an inspector saying that a construction site doesn’t comply with safety regulations.</font>\n",
    "\n",
    "<b>Your job is to build a tool that can read these emails, extract critical information from them, and notify the correct internal team who will take action</b>. \n",
    "\n",
    "<b>The first step you’ll take to accomplish this is to build a LangChain chain that uses an LLM to extract structured fields from a regulatory notice email</b>. You start by defining a Pydantic [**BaseModel**](https://docs.pydantic.dev/latest/api/base_model/) that describes all the fields you want to extract from the email:"
   ]
  },
  {
   "cell_type": "code",
   "execution_count": 5,
   "id": "fc85f854-6535-49b4-b167-fa331505013f",
   "metadata": {},
   "outputs": [],
   "source": [
    "from datetime import datetime, date\n",
    "from langchain_core.prompts import ChatPromptTemplate\n",
    "from langchain_openai import ChatOpenAI\n",
    "from pydantic import BaseModel, Field, computed_field\n",
    "\n",
    "\n",
    "class NoticeEmailExtract(BaseModel):\n",
    "    date_of_notice_str: str | None = Field(\n",
    "        default=None,\n",
    "        exclude=True,\n",
    "        repr=False,\n",
    "        description=\"\"\"The date of the notice (if any) reformatted\n",
    "        to match YYYY-mm-dd\"\"\",\n",
    "    )\n",
    "    entity_name: str | None = Field(\n",
    "        default=None,\n",
    "        description=\"\"\"The name of the entity sending the notice (if present\n",
    "        in the message)\"\"\",\n",
    "    )\n",
    "    entity_phone: str | None = Field(\n",
    "        default=None,\n",
    "        description=\"\"\"The phone number of the entity sending the notice\n",
    "        (if present in the message)\"\"\",\n",
    "    )\n",
    "    entity_email: str | None = Field(\n",
    "        default=None,\n",
    "        description=\"\"\"The email of the entity sending the notice\n",
    "        (if present in the message)\"\"\",\n",
    "    )\n",
    "    project_id: int | None = Field(\n",
    "        default=None,\n",
    "        description=\"\"\"The project ID (if present in the message) -\n",
    "        must be an integer\"\"\",\n",
    "    )\n",
    "    site_location: str | None = Field(\n",
    "        default=None,\n",
    "        description=\"\"\"The site location of the project (if present\n",
    "        in the message). Use the full address if possible.\"\"\",\n",
    "    )\n",
    "    violation_type: str | None = Field(\n",
    "        default=None,\n",
    "        description=\"\"\"The type of violation (if present in the\n",
    "        message)\"\"\",\n",
    "    )\n",
    "    required_changes: str | None = Field(\n",
    "        default=None,\n",
    "        description=\"\"\"The required changes specified by the entity\n",
    "        (if present in the message)\"\"\",\n",
    "    )\n",
    "    compliance_deadline_str: str | None = Field(\n",
    "        default=None,\n",
    "        exclude=True,\n",
    "        repr=False,\n",
    "        description=\"\"\"The date that the company must comply (if any)\n",
    "        reformatted to match YYYY-mm-dd\"\"\",\n",
    "    )\n",
    "    max_potential_fine: float | None = Field(\n",
    "        default=None,\n",
    "        description=\"\"\"The maximum potential fine\n",
    "        (if any)\"\"\",\n",
    "    )\n",
    "\n",
    "    @staticmethod\n",
    "    def _convert_string_to_date(date_str: str | None) -> date | None:\n",
    "        try:\n",
    "            return datetime.strptime(date_str, \"%Y-%m-%d\").date()\n",
    "        except Exception as e:\n",
    "            print(e)\n",
    "            return None\n",
    "\n",
    "    @computed_field\n",
    "    @property\n",
    "    def date_of_notice(self) -> date | None:\n",
    "        return self._convert_string_to_date(self.date_of_notice_str)\n",
    "\n",
    "    @computed_field\n",
    "    @property\n",
    "    def compliance_deadline(self) -> date | None:\n",
    "        return self._convert_string_to_date(self.compliance_deadline_str)"
   ]
  },
  {
   "cell_type": "markdown",
   "id": "a00fda15-7795-4155-a11e-4ade796b2e43",
   "metadata": {},
   "source": [
    "You first import all of the dependencies you’ll need to create your chain. Then, you define <b><font color='blue'>NoticeEmailExtract</font></b><b>, which is a Pydantic BaseModel that provides type definitions and descriptions of each field you want to extract</b>. Downstream, LangChain will pass the information in the <b><font color='blue'>NoticeEmailExtract</font></b> definition to an LLM as raw text. <b>The LLM will try to extract these fields from an email based on the type hints and description parameters in <font color='blue'>Field(...)</font></b>.\n",
    "\n",
    "As an example, the LLM will try to identify and extract the `project ID` corresponding to the construction site discussed in the email. If successfully extracted, the LLM will return the project ID in a [**JSON**](https://realpython.com/python-json/) object with an integer `project_id` entry. If it’s unable to extract a project ID, the `project_id` entry will be None.\n",
    "\n",
    "You may have noticed that `date_of_notice` and `compliance_deadline` are Pydantic [**computed field**](https://docs.pydantic.dev/2.0/usage/computed_fields/) properties that are derived from `date_of_notice_str` and `compliance_deadline_str`, respectively. **Since OpenAI LLMs can’t natively extract fields as a date data type, the LLM first extracts dates as strings. Then, you use computed field properties to convert those strings to dates**.\n",
    "\n",
    "For example, the LLM extracts `2025-01-01` for `date_of_notice_str`. Your <b><font color='blue'>NoticeEmailExtract</font></b> instance will convert this to a date object for `January 1, 2025`, and it will store this in a new field called `date_of_notice`.\n",
    "\n",
    "Also, because `exclude` is `True` and `repr` is `False` in the definition of `date_of_notice_str`, you won’t see `date_of_notice_str` when you serialize or display <b><font color='blue'>NoticeEmailExtract</font></b>. It will be as if the LLM extracted `date_of_notice` directly as a date. (For more details of explanation here, refer to [API doc of Field here](https://docs.pydantic.dev/dev/api/fields/#pydantic.fields.Field))\n",
    "\n",
    "Next, you create a chain to parse notice emails using <b><font color='blue'>NoticeEmailExtract</font></b>:"
   ]
  },
  {
   "cell_type": "code",
   "execution_count": 9,
   "id": "2e654645-f3fe-4f5a-b921-f7e583e7da1c",
   "metadata": {},
   "outputs": [],
   "source": [
    "info_parse_prompt = ChatPromptTemplate.from_messages(\n",
    "    [\n",
    "        (\n",
    "            \"system\",\n",
    "            \"\"\"\n",
    "            Parse the date of notice, sending entity name, sending entity\n",
    "            phone, sending entity email, project id, site location,\n",
    "            violation type, required changes, compliance deadline, and\n",
    "            maximum potential fine from the message. If any of the fields\n",
    "            aren't present, don't populate them. Try to cast dates into\n",
    "            the YYYY-mm-dd format. Don't populate fields if they're not\n",
    "            present in the message.\n",
    "\n",
    "            Here's the notice message:\n",
    "\n",
    "            {message}\n",
    "            \"\"\",\n",
    "        )\n",
    "    ]\n",
    ")\n",
    "\n",
    "notice_parser_model = ChatOpenAI(model=\"gpt-4o-mini\", temperature=0)\n",
    "\n",
    "NOTICE_PARSER_CHAIN = (\n",
    "    info_parse_prompt\n",
    "    | notice_parser_model.with_structured_output(NoticeEmailExtract)\n",
    ")"
   ]
  },
  {
   "cell_type": "markdown",
   "id": "f9907cec-7c5f-44dc-945b-9b4131df3c31",
   "metadata": {},
   "source": [
    "You define `info_parse_prompt` to tell the LLM how it should behave and which tasks it should accomplish. In this case, you’re instructing it to extract structured fields from an email notice. The `{message}` parameter is a placeholder that will store the email you pass through the chain.\n",
    "\n",
    "You then instantiate a `ChatOpenAI` model using `gpt-4o-mini` as the foundation model—you can experiment with different LLM providers and models here. Lastly, you instantiate `NOTICE_PARSER_CHAIN` using the [**LangChain Expression Language (LCEL)**](https://realpython.com/build-llm-rag-chatbot-with-langchain/#chains-and-langchain-expression-language-lcel).\n",
    "\n",
    "This statement creates a chain that injects an email into the `message` parameter of `info_parse_prompt`. It then passes the output of `info_parse_prompt` to `notice_parser_model`. By calling `.with_structured_output(NoticeEmailExtract)`, [**LangChain**](https://www.langchain.com/) converts your <b><font color='blue'>NoticeEmailExtract</font></b> base model to a prompt that tells the LLM to adhere its output to the schema defined by <b><font color='blue'>NoticeEmailExtract</font></b>."
   ]
  },
  {
   "cell_type": "markdown",
   "id": "7127c51b-461f-486e-93f0-6eedd98ed4f7",
   "metadata": {},
   "source": [
    "To bring this all together, let's test `NOTICE_PARSER_CHAIN` on an example email notice:"
   ]
  },
  {
   "cell_type": "code",
   "execution_count": 18,
   "id": "7fa735a3-a5b7-4d62-9274-bf63c257dc09",
   "metadata": {},
   "outputs": [],
   "source": [
    "output = NOTICE_PARSER_CHAIN.invoke({\"message\": EMAILS[0]})"
   ]
  },
  {
   "cell_type": "markdown",
   "id": "bd472bce-dc81-4016-8445-0773c07018e0",
   "metadata": {},
   "source": [
    "In order to leverage package `devtools` to print Pydantic BaseModel in a nice way, you have to install it:\n",
    "```shell\n",
    "$ pip install devtools\n",
    "```"
   ]
  },
  {
   "cell_type": "code",
   "execution_count": 23,
   "id": "cef383cb-ce2f-4f01-8ced-98d02f61126c",
   "metadata": {},
   "outputs": [
    {
     "name": "stdout",
     "output_type": "stream",
     "text": [
      "devtools==0.12.2\n"
     ]
    }
   ],
   "source": [
    "!pip freeze | grep 'devtools'"
   ]
  },
  {
   "cell_type": "code",
   "execution_count": 19,
   "id": "56bfb85d-1f07-46ef-9505-1234a1ceba89",
   "metadata": {},
   "outputs": [
    {
     "name": "stdout",
     "output_type": "stream",
     "text": [
      "NoticeEmailExtract(\n",
      "    entity_name='Occupational Safety and Health Administration (OSHA)',\n",
      "    entity_phone='(555) 123-4567',\n",
      "    entity_email='compliance.osha@osha.gov',\n",
      "    project_id=111232345,\n",
      "    site_location='123 Main Street, Dallas, TX',\n",
      "    violation_type='Lack of fall protection, Unsafe scaffolding setup, Inadequate personal protective equipment (PPE)',\n",
      "    required_changes=(\n",
      "        'Install guardrails and fall arrest systems on all scaffolding over 10 feet. Conduct an inspection of all scaf'\n",
      "        'folding structures and reinforce unstable sections. Ensure all workers on-site are provided with necessary PP'\n",
      "        'E and conduct safety training on proper usage.'\n",
      "    ),\n",
      "    max_potential_fine=25000.0,\n",
      "    date_of_notice=datetime.date(2024, 10, 15),\n",
      "    compliance_deadline=datetime.date(2024, 11, 10),\n",
      ")\n"
     ]
    }
   ],
   "source": [
    "from devtools import pprint\n",
    "\n",
    "pprint(output)"
   ]
  },
  {
   "cell_type": "markdown",
   "id": "089b7455-6236-4b09-bb21-57f9d41b2b7e",
   "metadata": {},
   "source": [
    "You can see that `NOTICE_PARSER_CHAIN` successfully parses the email and returns a <b><font color='blue'>NoticeEmailExtract</font></b>. It’s pretty awesome that `NOTICE_PARSER_CHAIN`, and specifically `gpt-4o-mini`, pulled these fields out of raw text. <b>Think about how difficult it would be to write logic to do this without an LLM!</b>\n",
    "\n",
    "You’ll see that `date_of_notice` and `compliance_deadline` are [**date**](https://docs.python.org/3/library/datetime.html#date-objects) objects, and `date_of_notice_str` and `compliance_deadline_str` aren’t displayed. This shows that the LLM successfully extracted the two dates as strings and your computed field properties converted them to [**date**](https://docs.python.org/3/library/datetime.html#date-objects) objects.\n",
    "\n",
    "Not only did `NOTICE_PARSER_CHAIN` extract these fields, it did so with high accuracy. For example, `NOTICE_PARSER_CHAIN` extracted the date the notice was received, the entity that sent it, and even the maximum potential fine for non-compliance. Notice how all of the extracted fields are the correct data type that you specified when defining <b><font color='blue'>NoticeEmailExtract</font></b>—all of this without having to write a single line of type conversion logic"
   ]
  },
  {
   "cell_type": "markdown",
   "id": "a14fe912-bb6a-4d7b-bbdb-49b3bc26a36b",
   "metadata": {},
   "source": [
    "Next, you’ll <b>build another chain that you’ll use throughout this tutorial. This chain will check whether the email notice requires escalation within the company based on a text description of what constitutes escalation</b>.\n",
    "\n",
    "For example, you might want to escalate a message if employees are in danger, or if the notice warns about a fine above a specified threshold. Here’s what the escalation chain looks like:"
   ]
  },
  {
   "cell_type": "code",
   "execution_count": 24,
   "id": "d5fe44ff-5906-41d8-b994-18806224fc87",
   "metadata": {},
   "outputs": [],
   "source": [
    "class EscalationCheck(BaseModel):\n",
    "    needs_escalation: bool = Field(\n",
    "        description=\"\"\"Whether the notice requires escalation\n",
    "        according to specified criteria\"\"\"\n",
    "    )\n",
    "\n",
    "\n",
    "escalation_prompt = ChatPromptTemplate.from_messages(\n",
    "    [\n",
    "        (\n",
    "            \"system\",\n",
    "            \"\"\"\n",
    "            Determine whether the following notice received\n",
    "            from a regulatory body requires immediate escalation.\n",
    "            Immediate escalation is required when {escalation_criteria}.\n",
    "\n",
    "            Here's the notice message:\n",
    "\n",
    "            {message}\n",
    "            \"\"\",\n",
    "        )\n",
    "    ]\n",
    ")\n",
    "\n",
    "escalation_check_model = ChatOpenAI(model=\"gpt-4o-mini\", temperature=0)\n",
    "\n",
    "ESCALATION_CHECK_CHAIN = (\n",
    "    escalation_prompt\n",
    "    | escalation_check_model.with_structured_output(EscalationCheck)\n",
    ")"
   ]
  },
  {
   "cell_type": "markdown",
   "id": "95c5e229-f66c-4d47-9941-742236ceee0b",
   "metadata": {},
   "source": [
    "Here’s what `ESCALATION_CHECK_CHAIN` looks like in action:"
   ]
  },
  {
   "cell_type": "code",
   "execution_count": 27,
   "id": "decdb46e-b387-400e-b94d-f28f5d09fe80",
   "metadata": {},
   "outputs": [],
   "source": [
    "escalation_criteria = 'There is currently water damage or potential water damage reported.'\n",
    "message = 'Several cracks in the foundation have been identified along with water leaks'\n",
    "\n",
    "output = ESCALATION_CHECK_CHAIN.invoke(\n",
    "    {\"message\": message, \"escalation_criteria\": escalation_criteria})"
   ]
  },
  {
   "cell_type": "code",
   "execution_count": 28,
   "id": "9837033b-eba7-44b3-9438-d868d0d926c7",
   "metadata": {},
   "outputs": [
    {
     "name": "stdout",
     "output_type": "stream",
     "text": [
      "EscalationCheck(\n",
      "    needs_escalation=True,\n",
      ")\n"
     ]
    }
   ],
   "source": [
    "pprint(output)"
   ]
  },
  {
   "cell_type": "code",
   "execution_count": 31,
   "id": "9f2b0b89-7f22-4733-9646-37b620d5b461",
   "metadata": {},
   "outputs": [],
   "source": [
    "message = 'The wheel chair ramps are too steep'\n",
    "output = ESCALATION_CHECK_CHAIN.invoke(\n",
    "    {\"message\": message, \"escalation_criteria\": escalation_criteria})"
   ]
  },
  {
   "cell_type": "code",
   "execution_count": 32,
   "id": "c642c6fe-14fa-4f81-ac59-34decbbf6158",
   "metadata": {},
   "outputs": [
    {
     "name": "stdout",
     "output_type": "stream",
     "text": [
      "EscalationCheck(\n",
      "    needs_escalation=False,\n",
      ")\n"
     ]
    }
   ],
   "source": [
    "pprint(output)"
   ]
  },
  {
   "cell_type": "markdown",
   "id": "33fbc46b-59d6-433d-a7b7-41d9d3038c7d",
   "metadata": {},
   "source": [
    "<b>You now have the first two components of your email parsing system built, but in isolation, `NOTICE_PARSER_CHAIN` and `ESCALATION_CHECK_CHAIN` don’t exactly solve your problems</b>. You want your system to take different actions depending on whether the email requires escalation. You also might want to check if the email even comes from a regulatory body, and forward it to the correct department if it doesn’t.\n",
    "\n",
    "<b>This is where chains reach their limit. They’re not designed to handle state or make conditional decisions, such as determining which action to take if an email requires escalation</b>. To tackle more complex tasks, you’ll need more than a stateless chain that passes data linearly from one step to the next. <b>This is where [LangGraph](https://www.langchain.com/langgraph)’s core object—the state graph—comes in to help</b>."
   ]
  },
  {
   "cell_type": "markdown",
   "id": "9f58dc38-fb99-46d9-b2b8-948fbd3c4446",
   "metadata": {},
   "source": [
    "## <b><font color='darkblue'>Work With State Graphs</font></b>"
   ]
  },
  {
   "cell_type": "markdown",
   "id": "ec7d8a0f-6c29-474d-a122-43976b2e5fcd",
   "metadata": {},
   "source": [
    "### <b><font color='darkgreen'>Build Your First State Graph</font></b>\n",
    "<font size='3ptx'><b>Now that you’ve built the notice parsing and escalation check chains, you need to orchestrate them and add additional functionality that your company requires to process notice emails.</b> To do this, you’ll use LangGraph’s StateGraph to create a graph that builds upon `NOTICE_PARSER_CHAIN` and `ESCALATION_CHECK_CHAIN`.</font>\n",
    "\n",
    "Before getting started, you’ll want to initialize a logger that you’ll use throughout this tutorial:"
   ]
  },
  {
   "cell_type": "code",
   "execution_count": 33,
   "id": "ef59febe-3c30-427a-8303-420e93b2e62d",
   "metadata": {},
   "outputs": [],
   "source": [
    "import logging\n",
    "\n",
    "logging.getLogger(\"httpx\").setLevel(logging.WARNING)\n",
    "logging.basicConfig(\n",
    "    level=logging.INFO, format=\"%(asctime)s - %(levelname)s - %(message)s\"\n",
    ")\n",
    "LOGGER = logging.getLogger('demo')"
   ]
  },
  {
   "cell_type": "markdown",
   "id": "419d7389-9396-4511-9eef-5269c5434fa2",
   "metadata": {},
   "source": [
    "Here, you initialize a standard logger that displays informational messages from all libraries besides `httpx`. For `httpx`, you’ll only show warnings. This will keep your logs clean later on in the tutorial.\n",
    "\n",
    "<b><font color='orange'>Notes:</font></b> You’re not directly using `httpx` in your code. However, the `httpx` library is a dependency of LangGraph and is used under the hood to communicate with the AI models."
   ]
  },
  {
   "cell_type": "markdown",
   "id": "717a55d0-9065-4dae-9580-df6e10494dab",
   "metadata": {},
   "source": [
    "Now you can initialize your first graph:"
   ]
  },
  {
   "cell_type": "code",
   "execution_count": 3,
   "id": "c9f6d055-ace1-4ba6-b448-b1fe35ae4fbb",
   "metadata": {},
   "outputs": [],
   "source": [
    "from typing import TypedDict\n",
    "from chains.escalation_check import ESCALATION_CHECK_CHAIN\n",
    "from chains.notice_extraction import NOTICE_PARSER_CHAIN, NoticeEmailExtract\n",
    "from langgraph.graph import END, START, StateGraph\n",
    "from pydantic import EmailStr\n",
    "\n",
    "\n",
    "class GraphState(TypedDict):\n",
    "    notice_message: str\n",
    "    notice_email_extract: NoticeEmailExtract | None\n",
    "    escalation_text_criteria: str\n",
    "    escalation_dollar_criteria: float\n",
    "    requires_escalation: bool\n",
    "    escalation_emails: list[EmailStr] | None\n",
    "    follow_ups: dict[str, bool] | None\n",
    "    current_follow_up: str | None\n",
    "\n",
    "workflow = StateGraph(GraphState)"
   ]
  },
  {
   "cell_type": "markdown",
   "id": "df35c2c1-119b-419a-b47d-ad82c3f2e64c",
   "metadata": {},
   "source": [
    "You first import dependencies. Notice that you import the chains you built previously. You then define <b><font color='blue'>GraphState</font></b>—a [**typed dictionary**](https://typing.readthedocs.io/en/latest/spec/typeddict.html#typeddict) that defines the information each node in your graph updates and passes to the next node. Note that by inheriting from [**TypedDict**](https://docs.python.org/3/library/typing.html#typing.TypedDict), [**LangGraph**](https://www.langchain.com/langgraph) ensures each field in <b><font color='blue'>GraphState</font></b> has the correct type when populated. Here’s what each field in <b><font color='blue'>GraphState</font></b> stores:\n",
    "* **`notice_message`**: The notice email that you want to parse and process.\n",
    "* **`notice_email_extract`**: A <b><font color='blue'>NoticeEmailExtract</font></b> instance, which is the output of running `notice_message` through `NOTICE_PARSER_CHAIN`. When you initialize the graph, `notice_email_extract` is None.\n",
    "* **`escalation_text_critera`**: A text description of how to determine whether an email notice requires immediate escalation.\n",
    "* **`escalation_dollar_criteria`**: A threshold for the smallest maximum potential fine used to determine whether escalation is needed.\n",
    "* **`requires_escalation`**: A Boolean indicating whether the notice requires escalation.\n",
    "* **`escalation_emails`**: A list of email addresses to notify if escalation is required.\n",
    "* **`follow_ups`**: A dictionary that stores follow-up questions that your graph needs to answer about the notice message before creating a legal ticket. You’ll learn more about this in the next section.\n",
    "* **`current_follow_up`**: The current follow-up question your graph needs to answer."
   ]
  },
  {
   "cell_type": "markdown",
   "id": "be7359d0-40d4-4cea-8cb4-a1179e8c782e",
   "metadata": {},
   "source": [
    "You then initialize a <b><font color='blue'>GraphState</font></b> instance, passing <b><font color='blue'>GraphState</font></b> as an argument, and assign it to the variable `workflow`. At this point, `workflow` is an empty graph that can’t do anything. <b>To make `workflow` functional, you need to add nodes and edges. In [LangGraph](https://www.langchain.com/langgraph), a node represents an action that your graph can take, and every action is defined by a function</b>.\n",
    "\n",
    "For example, you can use `NOTICE_PARSER_CHAIN` and `ESCALATION_CHECK_CHAIN` as the first nodes in your graph:\n",
    "- **`graphs/notice_extraction.py`**:\n",
    "\n",
    "```python\n",
    "# ...\n",
    "\n",
    "def parse_notice_message_node(state: GraphState) -> GraphState:\n",
    "    \"\"\"Use the notice parser chain to extract fields from the notice\"\"\"\n",
    "    LOGGER.info(\"Parsing notice...\")\n",
    "    notice_email_extract = NOTICE_PARSER_CHAIN.invoke(\n",
    "        {\"message\": state[\"notice_message\"]}\n",
    "    )\n",
    "    state[\"notice_email_extract\"] = notice_email_extract\n",
    "    return state\n",
    "\n",
    "def check_escalation_status_node(state: GraphState) -> GraphState:\n",
    "    \"\"\"Determine whether a notice needs escalation\"\"\"\n",
    "    LOGGER.info(\"Determining escalation status...\")\n",
    "    text_check = ESCALATION_CHECK_CHAIN.invoke(\n",
    "        {\n",
    "            \"escalation_criteria\": state[\"escalation_text_criteria\"],\n",
    "            \"message\": state[\"notice_message\"],\n",
    "        }\n",
    "    ).needs_escalation\n",
    "\n",
    "    if (\n",
    "        text_check\n",
    "        or state[\"notice_email_extract\"].max_potential_fine\n",
    "        >= state[\"escalation_dollar_criteria\"]\n",
    "    ):\n",
    "        state[\"requires_escalation\"] = True\n",
    "    else:\n",
    "        state[\"requires_escalation\"] = False\n",
    "\n",
    "    return state\n",
    "\n",
    "workflow.add_node(\"parse_notice_message\", parse_notice_message_node)\n",
    "workflow.add_node(\"check_escalation_status\", check_escalation_status_node)\n",
    "```"
   ]
  },
  {
   "cell_type": "markdown",
   "id": "d0655f56-7a0a-4425-83ca-327a43b57226",
   "metadata": {},
   "source": [
    "Here, you define `parse_notice_message_node()`— a function that accepts your <b><font color='blue'>GraphState</font></b> instance, runs the `notice_message` attribute of `state` through <font color='blue'>NOTICE_PARSER_CHAIN.invoke()</font>, stores the results in the state, and returns the state. <b>In general, all node functions accept the graph state, perform some action, update the graph state, and return the graph state</b>.\n",
    "\n",
    "Similarly, `check_escalation_status_node()` passes the `escalation_text_criteria` and `notice_message` from `state` through <font color='blue'>ESCALATION_CHECK_CHAIN.invoke()</font>. If the chain determines that escalation is required, or the extracted `max_potential_fine` is greater than `state[\"escalation_dollar_criteria\"]`, the `requires_escalation` attribute is set to True.\n",
    "\n",
    "<b>You then add the nodes to your graph with <font color='blue'>workflow.add_node()</font>, which is a method that accepts the name of your node and the function that determines what your node does</b>. For example, <font color='blue'>workflow.add_node(\"parse_notice_message\", parse_notice_message_node)</font> assigns `parse_notice_message_node()` to a graph node `called parse_notice_message`. The graph passes state to `parse_notice_message_node()` and stores the output in an updated `state`."
   ]
  },
  {
   "cell_type": "markdown",
   "id": "153ba50c-02fd-43f5-beb7-f7c94c84b950",
   "metadata": {},
   "source": [
    "<b>The next thing you need to do is add edges to your graph. Edges control the flow of data between nodes in your graph</b>. Said differently, after a node performs an action and updates your graph’s state, the edge flowing out of the node tells it which node to pass `state` to next. Here’s how you add edges to your graph:\n",
    "- **`graphs/notice_extraction.py`**\n",
    "\n",
    "```python\n",
    "# ...\n",
    "\n",
    "workflow.add_edge(START, \"parse_notice_message\")  # Line 3\n",
    "workflow.add_edge(\"parse_notice_message\", \"check_escalation_status\")  # Line 4\n",
    "workflow.add_edge(\"check_escalation_status\", END)  # Line 5\n",
    "\n",
    "NOTICE_EXTRACTION_GRAPH = workflow.compile()\n",
    "```"
   ]
  },
  {
   "cell_type": "markdown",
   "id": "3abe34a2-71fd-4bea-b439-0c54df040fe4",
   "metadata": {},
   "source": [
    "<b>You call <font color='blue'>workflow.add_edge()</font>, which accepts the names of the start and end nodes of the edge, respectively</b>. `START` is a predefined node representing the entry point of the graph, and `END` is the node that terminates the graph. Here’s what each edge definition does:\n",
    "* On line 3, you add an edge from `START` to the `parse_notice_message node`.\n",
    "* Then, line 4 adds an edge from `parse_notice_message` to `check_escalation_status`.\n",
    "* Lastly, line 5 adds an edge to terminate the graph after running `check_escalation_status`.\n",
    "\n",
    "You can now compile your graph by running <font color='blue'>workflow.compile()</font>, which creates a `Runnable` interface that can be invoked, streamed, batched, and run asynchronously just like chains.\n",
    "\n",
    "To visualize your graph, open another Python REPL and run the following:"
   ]
  },
  {
   "cell_type": "code",
   "execution_count": 6,
   "id": "eb11ba13-70df-4497-a94b-64281425c31a",
   "metadata": {},
   "outputs": [],
   "source": [
    "from graphs.notice_extraction import NOTICE_EXTRACTION_GRAPH\n",
    "\n",
    "image_data = NOTICE_EXTRACTION_GRAPH.get_graph().draw_mermaid_png()\n",
    "with open('notice_extraction_graph.png', mode='wb') as f:\n",
    "    f.write(image_data)"
   ]
  },
  {
   "cell_type": "markdown",
   "id": "94bc2b7b-e55d-4bfa-bb19-f04424fb9467",
   "metadata": {},
   "source": [
    "Here, you import `NOTICE_EXTRACTION_GRAPH` and use <font color='blue'>.get_graph().draw_mermaid_png()</font> to create an image of your graph. You then save the image to a file called `notice_extraction_graph.png`. Here’s what the image should look like:"
   ]
  },
  {
   "cell_type": "code",
   "execution_count": 5,
   "id": "6e90f441-4417-4037-b714-4e0d1d7a7f3f",
   "metadata": {},
   "outputs": [
    {
     "data": {
      "image/png": "[encoded data removed]",
      "text/plain": [
       "<IPython.core.display.Image object>"
      ]
     },
     "execution_count": 5,
     "metadata": {},
     "output_type": "execute_result"
    }
   ],
   "source": [
    "from IPython.display import Image\n",
    "Image(filename='notice_extraction_graph.png')"
   ]
  },
  {
   "cell_type": "markdown",
   "id": "22c3e0e8-fffb-401f-a310-134c0883f09e",
   "metadata": {},
   "source": [
    "This visual shows you that state flows from `parse_notice_message` to `check_escalation_status`, and it confirms that you’ve built your graph correctly. Here’s how you use your graph:"
   ]
  },
  {
   "cell_type": "code",
   "execution_count": 15,
   "id": "eba151d4-1237-49af-8039-1ee6addfac0a",
   "metadata": {},
   "outputs": [],
   "source": [
    "#from example_emails import EMAILS\n",
    "from devtools import pprint\n",
    "from graphs.notice_extraction import NOTICE_EXTRACTION_GRAPH\n",
    "\n",
    "initial_state = {\n",
    "    \"notice_message\": EMAILS[0],\n",
    "    \"notice_email_extract\": None,\n",
    "    \"escalation_text_criteria\": \"There's a risk of fire or water damage at the site\",\n",
    "    \"escalation_dollar_criteria\": 100_000,\n",
    "    \"requires_escalation\": False,\n",
    "    \"escalation_emails\": [\"brog@abc.com\", \"bigceo@company.com\"],\n",
    "}"
   ]
  },
  {
   "cell_type": "code",
   "execution_count": 12,
   "id": "5f9848eb-306e-4c13-bf18-609cb3670141",
   "metadata": {},
   "outputs": [
    {
     "name": "stderr",
     "output_type": "stream",
     "text": [
      "2025-04-20 07:24:00,199 - INFO - Parsing notice...\n"
     ]
    },
    {
     "name": "stdout",
     "output_type": "stream",
     "text": [
      "ERROR! Session/line number was not unique in database. History logging moved to new session 6\n"
     ]
    },
    {
     "name": "stderr",
     "output_type": "stream",
     "text": [
      "2025-04-20 07:24:03,398 - INFO - Determining escalation status...\n"
     ]
    }
   ],
   "source": [
    "final_state = NOTICE_EXTRACTION_GRAPH.invoke(initial_state)"
   ]
  },
  {
   "cell_type": "code",
   "execution_count": 16,
   "id": "726dc9f4-0593-4c34-8e8a-8b23c69fe6ee",
   "metadata": {},
   "outputs": [
    {
     "name": "stdout",
     "output_type": "stream",
     "text": [
      "NoticeEmailExtract(\n",
      "    entity_name='Occupational Safety and Health Administration (OSHA)',\n",
      "    entity_phone='(555) 123-4567',\n",
      "    entity_email='compliance.osha@osha.gov',\n",
      "    project_id=111232345,\n",
      "    site_location='123 Main Street, Dallas, TX',\n",
      "    violation_type='Lack of fall protection, Unsafe scaffolding setup, Inadequate personal protective equipment (PPE)',\n",
      "    required_changes=(\n",
      "        'Install guardrails and fall arrest systems on all scaffolding over 10 feet. Conduct an inspection of all scaf'\n",
      "        'folding structures and reinforce unstable sections. Ensure all workers on-site are provided with necessary PP'\n",
      "        'E and conduct safety training on proper usage.'\n",
      "    ),\n",
      "    max_potential_fine=25000.0,\n",
      "    date_of_notice=datetime.date(2024, 10, 15),\n",
      "    compliance_deadline=datetime.date(2024, 11, 10),\n",
      ")\n"
     ]
    }
   ],
   "source": [
    "pprint(final_state[\"notice_email_extract\"])"
   ]
  },
  {
   "cell_type": "code",
   "execution_count": 17,
   "id": "ee0baa67-bce6-430e-8d33-61435785e966",
   "metadata": {},
   "outputs": [
    {
     "data": {
      "text/plain": [
       "False"
      ]
     },
     "execution_count": 17,
     "metadata": {},
     "output_type": "execute_result"
    }
   ],
   "source": [
    "final_state[\"requires_escalation\"]"
   ]
  },
  {
   "cell_type": "markdown",
   "id": "392888f2-27c6-4964-bf5c-80d906c6c777",
   "metadata": {},
   "source": [
    "In this example, you import `NOTICE_EXTRACTION_GRAPH` and `EMAILS`. You then define your graph’s initial state with `EMAILS[0]` as the `notice_message`, escalation criteria, and a few other fields that you’ll use later in this tutorial. After calling <font color='blue'>NOTICE_EXTRACTION_GRAPH.invoke(initial_state)</font>, your `final_state` stores the extracted notice fields along with the `requires_escalation` flag.\n",
    "\n",
    "Notice that in `final_state`, `notice_email_extract` is now a <font color='blue'><b>NoticeEmailExtract</b></font> object. Also, `requires_escalation` is set to `False` because `EMAILS[0]` doesn’t say anything about fire or water damage, and the maximum potential fine is less than $100,000.\n",
    "\n",
    "With that, you’ve built and successfully run your first state graph! If you’re thinking that this graph isn’t any more useful than a chain at this point, you’re correct. <b>In the next section, you’ll address this by learning about and implementing [LangGraph](https://www.langchain.com/langgraph)’s differentiating feature — conditional edges</b>."
   ]
  },
  {
   "cell_type": "markdown",
   "id": "28e7f1ec-9e84-4ebf-be54-659392e5a392",
   "metadata": {},
   "source": [
    "### <b><font color='darkgreen'>Work With Conditional Edges</font></b>\n",
    "<font size='3ptx'><b>[LangGraph](https://www.langchain.com/langgraph) is all about modeling LLM workflows as graphs with nodes and edges</b>. Nodes represent actions that your graph can take like calling functions or invoking chains, and edges tell your graph how to navigate between nodes.</font>"
   ]
  },
  {
   "cell_type": "markdown",
   "id": "f84fbebc-470e-4aaa-9c2f-0e49c486b244",
   "metadata": {},
   "source": [
    "## <b><font color='darkblue'>Supplement</font></b>\n",
    "* [Medium - LangGraph for Beginners, Part 4: StateGraph.](https://medium.com/ai-agents/langgraph-for-beginners-part-4-stategraph-794004555369)"
   ]
  }
 ],
 "metadata": {
  "kernelspec": {
   "display_name": "Python 3 (ipykernel)",
   "language": "python",
   "name": "python3"
  },
  "language_info": {
   "codemirror_mode": {
    "name": "ipython",
    "version": 3
   },
   "file_extension": ".py",
   "mimetype": "text/x-python",
   "name": "python",
   "nbconvert_exporter": "python",
   "pygments_lexer": "ipython3",
   "version": "3.12.9"
  }
 },
 "nbformat": 4,
 "nbformat_minor": 5
}
