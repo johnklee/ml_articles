{
 "cells": [
  {
   "cell_type": "markdown",
   "id": "6bcbb96b-381d-4c5b-8df6-4237f7b7e131",
   "metadata": {},
   "source": [
    "## <b><font color='darkblue'>Preface</font>\n",
    "([course link](https://learn.deeplearning.ai/courses/langchain-chat-with-your-data/lesson/1/introduction))"
   ]
  },
  {
   "cell_type": "markdown",
   "id": "ada6323f-0102-4e51-9dc0-ffeb89053256",
   "metadata": {},
   "source": [
    "## <b><font color='darkblue'>Document Loading</font></b>\n",
    "([course link](https://learn.deeplearning.ai/courses/langchain-chat-with-your-data/lesson/2/document-loading))"
   ]
  },
  {
   "cell_type": "code",
   "execution_count": 123,
   "id": "91679691-c8d8-4335-8a8d-6399a63574d1",
   "metadata": {},
   "outputs": [],
   "source": [
    "from IPython.display import display, Markdown, Latex\n",
    "\n",
    "def print_markdown(markdown_content):\n",
    "    display(Markdown(markdown_content))"
   ]
  },
  {
   "cell_type": "markdown",
   "id": "6de70ed4-929c-4712-b34d-3f86aa67380a",
   "metadata": {},
   "source": [
    "### <b><font color='darkgreen'>Retrieval augmented generation</font></b>\n",
    "<b><font size='3ptx'>In retrieval augmented generation (RAG), an LLM retrieves contextual documents from an external dataset as part of its execution</font></b>. This is useful if we want to ask question about specific documents (e.g., our PDFs, a set of videos, etc).\n",
    "\n",
    "![RAG flow](images/1.PNG)"
   ]
  },
  {
   "cell_type": "code",
   "execution_count": 1,
   "id": "6f33e383-bf15-4cf1-a3ed-3832ad13f89b",
   "metadata": {},
   "outputs": [],
   "source": [
    "#! pip install langchain"
   ]
  },
  {
   "cell_type": "code",
   "execution_count": 2,
   "id": "05d406bc-81c1-4f06-9489-db9bd86406a1",
   "metadata": {},
   "outputs": [],
   "source": [
    "import os\n",
    "import openai\n",
    "import sys\n",
    "# sys.path.append(os.path.expandusr('~'))\n",
    "\n",
    "from dotenv import load_dotenv, find_dotenv\n",
    "\n",
    "_ = load_dotenv(find_dotenv()) # read local .env file\n",
    "\n",
    "openai.api_key  = os.environ['OPENAI_API_KEY']"
   ]
  },
  {
   "cell_type": "markdown",
   "id": "d5a9c86d-c873-4be8-8374-55132e6294b7",
   "metadata": {},
   "source": [
    "#### <b>PDF</b>\n",
    "Let's load a PDF transcript from Andrew Ng's famous CS229 course! These documents are the result of automated transcription so words and sentences are sometimes split unexpectedly."
   ]
  },
  {
   "cell_type": "code",
   "execution_count": 3,
   "id": "fb8c237b-723a-4295-9d8e-b1b51c3a673e",
   "metadata": {},
   "outputs": [],
   "source": [
    "from langchain.document_loaders import PyPDFLoader\n",
    "\n",
    "loader = PyPDFLoader(\"docs/machinelearning-lecture01.pdf\")\n",
    "pages = loader.load()"
   ]
  },
  {
   "cell_type": "markdown",
   "id": "0f1e245d-1100-467e-8c83-f0f99a046e49",
   "metadata": {},
   "source": [
    "Each `page` is a **Document**. A **Document** contains text (`page_content`) and `metadata`."
   ]
  },
  {
   "cell_type": "code",
   "execution_count": 4,
   "id": "160e6ed1-b05b-4242-a4d7-f5bb1e3247ca",
   "metadata": {},
   "outputs": [
    {
     "data": {
      "text/plain": [
       "22"
      ]
     },
     "execution_count": 4,
     "metadata": {},
     "output_type": "execute_result"
    }
   ],
   "source": [
    "len(pages)"
   ]
  },
  {
   "cell_type": "code",
   "execution_count": 5,
   "id": "a3c52df3-596a-4fa8-8143-333e8731bd41",
   "metadata": {},
   "outputs": [],
   "source": [
    "page = pages[0]"
   ]
  },
  {
   "cell_type": "code",
   "execution_count": 6,
   "id": "bdd4cc6b-ca5f-4e37-afad-f6dd534b3974",
   "metadata": {},
   "outputs": [
    {
     "name": "stdout",
     "output_type": "stream",
     "text": [
      "MachineLearning-Lecture01  \n",
      "Instructor (Andrew Ng):  Okay. Good morning. Welcome to CS229, the machine \n",
      "learning class. So what I wanna do today is ju st spend a little time going over the logistics \n",
      "of the class, and then we'll start to  talk a bit about machine learning.  \n",
      "By way of introduction, my name's  Andrew Ng and I'll be instru ctor for this class. And so \n",
      "I personally work in machine learning, and I' ve worked on it for about 15 years now, and \n",
      "I actually think that machine learning i\n"
     ]
    }
   ],
   "source": [
    "print(page.page_content[0:500])"
   ]
  },
  {
   "cell_type": "code",
   "execution_count": 7,
   "id": "5735c126-a549-439f-a303-63a05c6aa048",
   "metadata": {},
   "outputs": [
    {
     "data": {
      "text/plain": [
       "{'source': 'docs/machinelearning-lecture01.pdf', 'page': 0}"
      ]
     },
     "execution_count": 7,
     "metadata": {},
     "output_type": "execute_result"
    }
   ],
   "source": [
    "page.metadata"
   ]
  },
  {
   "cell_type": "markdown",
   "id": "3987899c-87d2-48b3-bf4c-ef2d4d2ae7b1",
   "metadata": {},
   "source": [
    "#### <b>YouTube</b>\n",
    "**Note:** This can take several minutes to complete:"
   ]
  },
  {
   "cell_type": "code",
   "execution_count": 8,
   "id": "62f12952-5769-41ca-9833-a5442fc3900f",
   "metadata": {},
   "outputs": [],
   "source": [
    "#!pip install yt_dlp\n",
    "#!pip install pydub"
   ]
  },
  {
   "cell_type": "code",
   "execution_count": 9,
   "id": "c3cc7359-2876-4b6f-9d6c-288253f80aa1",
   "metadata": {},
   "outputs": [],
   "source": [
    "from langchain.document_loaders.generic import GenericLoader\n",
    "from langchain.document_loaders.parsers import OpenAIWhisperParser\n",
    "from langchain.document_loaders.blob_loaders.youtube_audio import YoutubeAudioLoader"
   ]
  },
  {
   "cell_type": "code",
   "execution_count": 10,
   "id": "a31de957-a60d-4a85-a8b2-59eb4f832fb8",
   "metadata": {},
   "outputs": [],
   "source": [
    "# Below codesnippet will take a long time:\n",
    "#url=\"https://www.youtube.com/watch?v=jGwO_UgTS7I\"\n",
    "#save_dir=\"docs/youtube/\"\n",
    "#loader = GenericLoader(\n",
    "#    YoutubeAudioLoader([url],save_dir),\n",
    "#    OpenAIWhisperParser()\n",
    "#)\n",
    "#docs = loader.load()"
   ]
  },
  {
   "cell_type": "code",
   "execution_count": 11,
   "id": "cf6d2cf5-4142-4b4f-b2ab-9b0c0bf5a998",
   "metadata": {},
   "outputs": [],
   "source": [
    "#docs[0].page_content[0:500]"
   ]
  },
  {
   "cell_type": "markdown",
   "id": "c1c9c9b6-9c08-493a-80b5-4d6faaa01611",
   "metadata": {},
   "source": [
    "#### <b>URLs</b>"
   ]
  },
  {
   "cell_type": "code",
   "execution_count": 12,
   "id": "f54142a7-95c2-4ebc-a560-61ce49105beb",
   "metadata": {},
   "outputs": [
    {
     "name": "stderr",
     "output_type": "stream",
     "text": [
      "USER_AGENT environment variable not set, consider setting it to identify your requests.\n"
     ]
    }
   ],
   "source": [
    "from langchain.document_loaders import WebBaseLoader"
   ]
  },
  {
   "cell_type": "code",
   "execution_count": 13,
   "id": "bbd909ed-8a4c-4bc3-ba88-ab414d13bc34",
   "metadata": {},
   "outputs": [],
   "source": [
    "loader = WebBaseLoader(\"https://github.com/basecamp/handbook/blob/master/37signals-is-you.md\")"
   ]
  },
  {
   "cell_type": "code",
   "execution_count": 14,
   "id": "ff94bb90-b6e9-44d7-b10c-8a04cd17eb35",
   "metadata": {},
   "outputs": [],
   "source": [
    "docs = loader.load()"
   ]
  },
  {
   "cell_type": "code",
   "execution_count": 15,
   "id": "6e352652-9421-444b-8533-8cd53e99c703",
   "metadata": {},
   "outputs": [
    {
     "name": "stdout",
     "output_type": "stream",
     "text": [
      "File not found · GitHub\n",
      "Skip to content\n",
      "Navigation Menu\n",
      "Toggle navigation\n",
      "            Sign in\n",
      "        Product\n",
      "GitHub Copilot\n",
      "        Write better code with AI\n",
      "Security\n",
      "        Find and fix vulnerabilities\n",
      "Actions\n",
      "        Automate any workflow\n",
      "Codespaces\n"
     ]
    }
   ],
   "source": [
    "print('\\n'.join([line for line in docs[0].page_content[:500].split('\\n') if line.strip()]))"
   ]
  },
  {
   "cell_type": "markdown",
   "id": "5dec917e-a976-40a5-8ff0-42363eb18e30",
   "metadata": {},
   "source": [
    "#### <b>Notion</b>\n",
    "Follow steps here for an example Notion site such as [this one](https://yolospace.notion.site/Blendle-s-Employee-Handbook-e31bff7da17346ee99f531087d8b133f):\n",
    "* Duplicate the page into your own Notion space and export as Markdown / CSV.\n",
    "* Unzip it and save it as a folder that contains the markdown file for the Notion page."
   ]
  },
  {
   "cell_type": "code",
   "execution_count": 16,
   "id": "aa2df822-adea-4df8-ac1a-0dcbe7df850f",
   "metadata": {},
   "outputs": [],
   "source": [
    "from langchain.document_loaders import NotionDirectoryLoader"
   ]
  },
  {
   "cell_type": "code",
   "execution_count": 17,
   "id": "0c1638f0-0465-48b3-834c-86e44dbe49e3",
   "metadata": {},
   "outputs": [],
   "source": [
    "# loader = NotionDirectoryLoader(\"docs/Notion_DB\")\n",
    "# docs = loader.load()"
   ]
  },
  {
   "cell_type": "code",
   "execution_count": 18,
   "id": "0b114261-31f1-4ddc-bc2f-0b7d04ccbd3a",
   "metadata": {},
   "outputs": [],
   "source": [
    "# print(docs[0].page_content[0:200])"
   ]
  },
  {
   "cell_type": "code",
   "execution_count": 19,
   "id": "b8ac4172-413d-4d53-8801-4c4700bb30c2",
   "metadata": {},
   "outputs": [],
   "source": [
    "# docs[0].metadata"
   ]
  },
  {
   "cell_type": "markdown",
   "id": "b257a542-304a-4e2a-8bcb-eee712ec4c91",
   "metadata": {},
   "source": [
    "## <b><font color='darkblue'>Document Splitting</font></b>\n",
    "([course link](https://learn.deeplearning.ai/courses/langchain-chat-with-your-data/lesson/3/document-splitting)) <b><font size='3ptx'>Once you've loaded documents, you'll often want to transform them to better suit your application.</font></b>\n",
    "![steps](images/2.PNG)\n",
    "\n",
    "The simplest example is you may want to split a long document into smaller chunks that can fit into your model's context window. LangChain has a number of built-in document transformers that make it easy to split, combine, filter, and otherwise manipulate documents. ([more](https://python.langchain.com/v0.1/docs/modules/data_connection/document_transformers/))"
   ]
  },
  {
   "cell_type": "code",
   "execution_count": 20,
   "id": "5f3adfa0-74b8-449e-b910-ae3bb82a7c29",
   "metadata": {},
   "outputs": [],
   "source": [
    "from langchain.text_splitter import RecursiveCharacterTextSplitter, CharacterTextSplitter\n",
    "\n",
    "chunk_size =26\n",
    "chunk_overlap = 4"
   ]
  },
  {
   "cell_type": "markdown",
   "id": "a0c10475-8394-4573-a4cb-972b22209aeb",
   "metadata": {},
   "source": [
    "* [**RecursiveCharacterTextSplitter**](https://api.python.langchain.com/en/latest/character/langchain_text_splitters.character.RecursiveCharacterTextSplitter.html): Splitting text by recursively look at characters.\n",
    "* [**CharacterTextSplitter**](https://api.python.langchain.com/en/latest/character/langchain_text_splitters.character.CharacterTextSplitter.html): Splitting text that looks at characters."
   ]
  },
  {
   "cell_type": "code",
   "execution_count": 21,
   "id": "7c4ee49a-b878-4b89-a533-c42ca1e5cdb9",
   "metadata": {},
   "outputs": [],
   "source": [
    "r_splitter = RecursiveCharacterTextSplitter(\n",
    "    chunk_size=chunk_size,\n",
    "    chunk_overlap=chunk_overlap\n",
    ")\n",
    "c_splitter = CharacterTextSplitter(\n",
    "    chunk_size=chunk_size,\n",
    "    chunk_overlap=chunk_overlap\n",
    ")"
   ]
  },
  {
   "cell_type": "markdown",
   "id": "19242168-f982-4d2d-973a-4c032d8cc7f9",
   "metadata": {},
   "source": [
    "Why doesn't this split the string below?"
   ]
  },
  {
   "cell_type": "code",
   "execution_count": 22,
   "id": "363c08a5-0867-4092-85d1-1bb93333e936",
   "metadata": {},
   "outputs": [
    {
     "data": {
      "text/plain": [
       "['abcdefghijklmnopqrstuvwxyz']"
      ]
     },
     "execution_count": 22,
     "metadata": {},
     "output_type": "execute_result"
    }
   ],
   "source": [
    "text1 = 'abcdefghijklmnopqrstuvwxyz'\n",
    "r_splitter.split_text(text1)"
   ]
  },
  {
   "cell_type": "code",
   "execution_count": 23,
   "id": "158b169a-3d29-426e-a27e-b8718781846b",
   "metadata": {},
   "outputs": [
    {
     "data": {
      "text/plain": [
       "['abcdefghijklmnopqrstuvwxyz', 'wxyzabcdefg']"
      ]
     },
     "execution_count": 23,
     "metadata": {},
     "output_type": "execute_result"
    }
   ],
   "source": [
    "text2 = 'abcdefghijklmnopqrstuvwxyzabcdefg'\n",
    "r_splitter.split_text(text2)"
   ]
  },
  {
   "cell_type": "markdown",
   "id": "f6cea69c-41bf-4c2e-9570-cbb736658935",
   "metadata": {},
   "source": [
    "Ok, this splits the string but we have an overlap specified as 5, but it looks like 3? (try an even number)"
   ]
  },
  {
   "cell_type": "code",
   "execution_count": 24,
   "id": "bbd981d2-ea9e-4f78-99bf-95990ab6edbf",
   "metadata": {},
   "outputs": [],
   "source": [
    "text3 = \"a b c d e f g h i j k l m n o p q r s t u v w x y z\""
   ]
  },
  {
   "cell_type": "code",
   "execution_count": 25,
   "id": "3ba6fdfd-d13f-4830-95ad-02058e734f74",
   "metadata": {},
   "outputs": [
    {
     "data": {
      "text/plain": [
       "['a b c d e f g h i j k l m', 'l m n o p q r s t u v w x', 'w x y z']"
      ]
     },
     "execution_count": 25,
     "metadata": {},
     "output_type": "execute_result"
    }
   ],
   "source": [
    "r_splitter.split_text(text3)"
   ]
  },
  {
   "cell_type": "code",
   "execution_count": 26,
   "id": "ce28c409-b23d-44e9-a225-bf66dc5563be",
   "metadata": {},
   "outputs": [
    {
     "data": {
      "text/plain": [
       "['a b c d e f g h i j k l m n o p q r s t u v w x y z']"
      ]
     },
     "execution_count": 26,
     "metadata": {},
     "output_type": "execute_result"
    }
   ],
   "source": [
    "c_splitter.split_text(text3)"
   ]
  },
  {
   "cell_type": "code",
   "execution_count": 27,
   "id": "f397fffc-772e-48bd-9de4-964eea1b417f",
   "metadata": {},
   "outputs": [
    {
     "data": {
      "text/plain": [
       "['a b c d e f g h i j k l m', 'l m n o p q r s t u v w x', 'w x y z']"
      ]
     },
     "execution_count": 27,
     "metadata": {},
     "output_type": "execute_result"
    }
   ],
   "source": [
    "c_splitter = CharacterTextSplitter(\n",
    "    chunk_size=chunk_size,\n",
    "    chunk_overlap=chunk_overlap,\n",
    "    separator = ' '\n",
    ")\n",
    "c_splitter.split_text(text3)"
   ]
  },
  {
   "cell_type": "markdown",
   "id": "c32fcbed-fd2c-4655-8706-d528c1943a53",
   "metadata": {},
   "source": [
    "### <font color='darkgreen'><b>Recursive splitting details</b></font>\n",
    "[**RecursiveCharacterTextSplitter**](https://api.python.langchain.com/en/latest/character/langchain_text_splitters.character.RecursiveCharacterTextSplitter.html) is recommended for generic text."
   ]
  },
  {
   "cell_type": "code",
   "execution_count": 28,
   "id": "4fb83b6c-60c7-4aa6-84d9-e7d836663bd4",
   "metadata": {},
   "outputs": [],
   "source": [
    "some_text = \"\"\"When writing documents, writers will use document structure to group content. \\\n",
    "This can convey to the reader, which idea's are related. For example, closely related ideas \\\n",
    "are in sentances. Similar ideas are in paragraphs. Paragraphs form a document. \\n\\n  \\\n",
    "Paragraphs are often delimited with a carriage return or two carriage returns. \\\n",
    "Carriage returns are the \"backslash n\" you see embedded in this string. \\\n",
    "Sentences have a period at the end, but also, have a space.\\\n",
    "and words are separated by space.\"\"\""
   ]
  },
  {
   "cell_type": "code",
   "execution_count": 29,
   "id": "a788fd9c-3a3e-4d5b-be87-25db4b48d56b",
   "metadata": {},
   "outputs": [
    {
     "data": {
      "text/plain": [
       "496"
      ]
     },
     "execution_count": 29,
     "metadata": {},
     "output_type": "execute_result"
    }
   ],
   "source": [
    "len(some_text)"
   ]
  },
  {
   "cell_type": "code",
   "execution_count": 30,
   "id": "20820563-b4b5-4290-aa94-fae7ce008bc9",
   "metadata": {},
   "outputs": [],
   "source": [
    "c_splitter = CharacterTextSplitter(\n",
    "    chunk_size=450,\n",
    "    chunk_overlap=0,\n",
    "    separator = ' '\n",
    ")\n",
    "r_splitter = RecursiveCharacterTextSplitter(\n",
    "    chunk_size=450,\n",
    "    chunk_overlap=0, \n",
    "    separators=[\"\\n\\n\", \"\\n\", \" \", \"\"]\n",
    ")"
   ]
  },
  {
   "cell_type": "code",
   "execution_count": 31,
   "id": "fb1b8181-29a9-49a2-b8bf-ee94d376f36c",
   "metadata": {},
   "outputs": [
    {
     "name": "stdout",
     "output_type": "stream",
     "text": [
      "> When writing documents, writers will use document structure to group content. This can convey to the reader, which idea's are related. For example, closely related ideas are in sentances. Similar ideas are in paragraphs. Paragraphs form a document. \n",
      "\n",
      " Paragraphs are often delimited with a carriage return or two carriage returns. Carriage returns are the \"backslash n\" you see embedded in this string. Sentences have a period at the end, but also, <\n",
      "> have a space.and words are separated by space. <\n"
     ]
    }
   ],
   "source": [
    "for line in c_splitter.split_text(some_text):\n",
    "    print(f'> {line} <')"
   ]
  },
  {
   "cell_type": "code",
   "execution_count": 32,
   "id": "2c0f0743-230f-4797-9015-c2479626afa5",
   "metadata": {},
   "outputs": [
    {
     "name": "stdout",
     "output_type": "stream",
     "text": [
      "> When writing documents, writers will use document structure to group content. This can convey to the reader, which idea's are related. For example, closely related ideas are in sentances. Similar ideas are in paragraphs. Paragraphs form a document. <\n",
      "> Paragraphs are often delimited with a carriage return or two carriage returns. Carriage returns are the \"backslash n\" you see embedded in this string. Sentences have a period at the end, but also, have a space.and words are separated by space. <\n"
     ]
    }
   ],
   "source": [
    "for line in r_splitter.split_text(some_text):\n",
    "    print(f'> {line} <')"
   ]
  },
  {
   "cell_type": "markdown",
   "id": "3de1f4ab-7fdd-413d-8b48-cf66b79de16b",
   "metadata": {},
   "source": [
    "Let's reduce the chunk size a bit and add a period to our separators:"
   ]
  },
  {
   "cell_type": "code",
   "execution_count": 33,
   "id": "dd59fb06-f3f0-4250-8e3d-6a23d549d2f2",
   "metadata": {},
   "outputs": [
    {
     "name": "stdout",
     "output_type": "stream",
     "text": [
      "> When writing documents, writers will use document structure to group content. This can convey to the reader, which idea's are related. For example, <\n",
      "> closely related ideas are in sentances. Similar ideas are in paragraphs. Paragraphs form a document. <\n",
      "> Paragraphs are often delimited with a carriage return or two carriage returns. Carriage returns are the \"backslash n\" you see embedded in this <\n",
      "> string. Sentences have a period at the end, but also, have a space.and words are separated by space. <\n"
     ]
    }
   ],
   "source": [
    "r_splitter = RecursiveCharacterTextSplitter(\n",
    "    chunk_size=150,\n",
    "    chunk_overlap=0,\n",
    "    separators=[\"\\n\\n\", \"\\n\", \"\\. \", \" \", \"\"]\n",
    ")\n",
    "for line in r_splitter.split_text(some_text):\n",
    "    print(f'> {line} <')"
   ]
  },
  {
   "cell_type": "code",
   "execution_count": 34,
   "id": "3c105d8e-aef0-4a6b-aa0b-30c3daa00d6c",
   "metadata": {},
   "outputs": [
    {
     "name": "stdout",
     "output_type": "stream",
     "text": [
      "> When writing documents, writers will use document structure to group content. This can convey to the reader, which idea's are related. For example, <\n",
      "> closely related ideas are in sentances. Similar ideas are in paragraphs. Paragraphs form a document. <\n",
      "> Paragraphs are often delimited with a carriage return or two carriage returns. Carriage returns are the \"backslash n\" you see embedded in this <\n",
      "> string. Sentences have a period at the end, but also, have a space.and words are separated by space. <\n"
     ]
    }
   ],
   "source": [
    "r_splitter = RecursiveCharacterTextSplitter(\n",
    "    chunk_size=150,\n",
    "    chunk_overlap=0,\n",
    "    separators=[\"\\n\\n\", \"\\n\", \"(?<=\\. )\", \" \", \"\"]\n",
    ")\n",
    "for line in r_splitter.split_text(some_text):\n",
    "    print(f'> {line} <')"
   ]
  },
  {
   "cell_type": "code",
   "execution_count": 35,
   "id": "594b2469-d62a-4467-b687-ce01a5a3f6f3",
   "metadata": {},
   "outputs": [],
   "source": [
    "loader = PyPDFLoader(\"docs/machinelearning-lecture01.pdf\")\n",
    "pages = loader.load()"
   ]
  },
  {
   "cell_type": "markdown",
   "id": "303b24aa-10e2-4347-a8b5-b84d1cd8ae93",
   "metadata": {},
   "source": [
    "### <b><font color='darkgreen'>Token splitting</font></b>\n",
    "<font size='3ptx'><b>We can also split on token count explicity, if we want.</b></font>\n",
    "\n",
    "This can be useful because LLMs often have context windows designated in tokens. Tokens are often ~4 characters."
   ]
  },
  {
   "cell_type": "code",
   "execution_count": 36,
   "id": "d930faef-11d3-4828-ae7a-3274ea6ca765",
   "metadata": {},
   "outputs": [],
   "source": [
    "from langchain.text_splitter import TokenTextSplitter\n",
    "\n",
    "text1 = \"foo bar bazzyfoo\""
   ]
  },
  {
   "cell_type": "code",
   "execution_count": 37,
   "id": "84e5e837-28b3-43e0-9ffd-8654a99c1eed",
   "metadata": {},
   "outputs": [
    {
     "data": {
      "text/plain": [
       "['foo', ' bar', ' b', 'az', 'zy', 'foo']"
      ]
     },
     "execution_count": 37,
     "metadata": {},
     "output_type": "execute_result"
    }
   ],
   "source": [
    "text_splitter = TokenTextSplitter(chunk_size=1, chunk_overlap=0)\n",
    "text_splitter.split_text(text1)"
   ]
  },
  {
   "cell_type": "code",
   "execution_count": 38,
   "id": "9761055e-2eab-4d50-84e2-ae27affbeb4a",
   "metadata": {},
   "outputs": [
    {
     "data": {
      "text/plain": [
       "'MachineLearning-Lecture01  \\nInstructor (Andrew Ng):  Okay. Good morning. Welcome to CS229, the machi'"
      ]
     },
     "execution_count": 38,
     "metadata": {},
     "output_type": "execute_result"
    }
   ],
   "source": [
    "pages[0].page_content[:100]"
   ]
  },
  {
   "cell_type": "code",
   "execution_count": 39,
   "id": "8bcd547b-f9f4-4fc5-92a8-46786a4aa1ec",
   "metadata": {},
   "outputs": [],
   "source": [
    "text_splitter = TokenTextSplitter(chunk_size=10, chunk_overlap=0)\n",
    "docs = text_splitter.split_text(text1)"
   ]
  },
  {
   "cell_type": "code",
   "execution_count": 40,
   "id": "e507125c-f9ae-4e63-a1d8-83f3a52dbff7",
   "metadata": {},
   "outputs": [
    {
     "data": {
      "text/plain": [
       "'foo bar bazzyfoo'"
      ]
     },
     "execution_count": 40,
     "metadata": {},
     "output_type": "execute_result"
    }
   ],
   "source": [
    "docs[0]"
   ]
  },
  {
   "cell_type": "code",
   "execution_count": 41,
   "id": "70326dde-b20e-4b8f-b32f-52e38a22dbc5",
   "metadata": {},
   "outputs": [
    {
     "data": {
      "text/plain": [
       "{'source': 'docs/machinelearning-lecture01.pdf', 'page': 0}"
      ]
     },
     "execution_count": 41,
     "metadata": {},
     "output_type": "execute_result"
    }
   ],
   "source": [
    "pages[0].metadata"
   ]
  },
  {
   "cell_type": "markdown",
   "id": "488bbcc7-2dd4-4ae4-9f4d-620c30656786",
   "metadata": {},
   "source": [
    "### <b><font color='darkgreen'>Context aware splitting</font></b>\n",
    "<b><font size='3ptx'>Chunking aims to keep text with common context together.</font></b>\n",
    "\n",
    "<b>A text splitting often uses sentences or other delimiters to keep related text together</b> but many documents (<font color='brown'>such as Markdown</font>) have structure (<font color='brown'>headers</font>) that can be explicitly used in splitting. We can use [**`MarkdownHeaderTextSplitter`**](https://python.langchain.com/api_reference/text_splitters/markdown/langchain_text_splitters.markdown.MarkdownHeaderTextSplitter.html) to preserve header metadata in our chunks, as show below."
   ]
  },
  {
   "cell_type": "code",
   "execution_count": 42,
   "id": "0c99f263-0045-4407-b4a1-c5e5550b3e28",
   "metadata": {},
   "outputs": [],
   "source": [
    "from langchain.text_splitter import MarkdownHeaderTextSplitter\n",
    "\n",
    "markdown_document = \"\"\"# Title\\n\\n \\\n",
    "## Chapter 1\\n\\n \\\n",
    "Hi this is Jim\\n\\n Hi this is Joe\\n\\n \\\n",
    "### Section \\n\\n \\\n",
    "Hi this is Lance \\n\\n \n",
    "## Chapter 2\\n\\n \\\n",
    "Hi this is Molly\"\"\"\n",
    "\n",
    "headers_to_split_on = [\n",
    "    (\"#\", \"Header 1\"),\n",
    "    (\"##\", \"Header 2\"),\n",
    "    (\"###\", \"Header 3\"),\n",
    "]"
   ]
  },
  {
   "cell_type": "code",
   "execution_count": 43,
   "id": "ad3bbc24-40ac-45f2-9803-c9b245b27daa",
   "metadata": {},
   "outputs": [],
   "source": [
    "markdown_splitter = MarkdownHeaderTextSplitter(\n",
    "    headers_to_split_on=headers_to_split_on\n",
    ")\n",
    "md_header_splits = markdown_splitter.split_text(markdown_document)"
   ]
  },
  {
   "cell_type": "code",
   "execution_count": 44,
   "id": "37ed0d0e-3eb5-4348-ac46-6e3b4087e36d",
   "metadata": {},
   "outputs": [
    {
     "data": {
      "text/plain": [
       "Document(metadata={'Header 1': 'Title', 'Header 2': 'Chapter 1'}, page_content='Hi this is Jim  \\nHi this is Joe')"
      ]
     },
     "execution_count": 44,
     "metadata": {},
     "output_type": "execute_result"
    }
   ],
   "source": [
    "md_header_splits[0]"
   ]
  },
  {
   "cell_type": "code",
   "execution_count": 45,
   "id": "5593ef1b-717d-433a-b84b-abdb50ea8c3f",
   "metadata": {},
   "outputs": [
    {
     "data": {
      "text/plain": [
       "Document(metadata={'Header 1': 'Title', 'Header 2': 'Chapter 1', 'Header 3': 'Section'}, page_content='Hi this is Lance')"
      ]
     },
     "execution_count": 45,
     "metadata": {},
     "output_type": "execute_result"
    }
   ],
   "source": [
    "md_header_splits[1]"
   ]
  },
  {
   "cell_type": "markdown",
   "id": "dcaed5d9-9d55-4f0a-bf71-c4ee3f2345fa",
   "metadata": {},
   "source": [
    "Try on a real Markdown file from testing file `docs/BTTC_README.md` ([How to load Markdown](https://python.langchain.com/docs/how_to/document_loader_markdown/)):"
   ]
  },
  {
   "cell_type": "code",
   "execution_count": 46,
   "id": "6f5d7cea-7f6d-408d-951e-3c2a72a89735",
   "metadata": {},
   "outputs": [
    {
     "name": "stdout",
     "output_type": "stream",
     "text": [
      "unstructured==0.16.3\n",
      "unstructured-client==0.26.1\n"
     ]
    }
   ],
   "source": [
    "!pip freeze | grep unstructure"
   ]
  },
  {
   "cell_type": "code",
   "execution_count": 47,
   "id": "48168e81-1d64-4816-9bb1-c6482700fd4c",
   "metadata": {},
   "outputs": [],
   "source": [
    "from langchain_community.document_loaders import UnstructuredMarkdownLoader\n",
    "from langchain_core.documents import Document\n",
    "\n",
    "markdown_path = \"docs/BTTC_README.md\"\n",
    "loader = UnstructuredMarkdownLoader(markdown_path)"
   ]
  },
  {
   "cell_type": "code",
   "execution_count": 48,
   "id": "11fd20d4-c5ed-462d-b7a2-01f56e175ce6",
   "metadata": {},
   "outputs": [],
   "source": [
    "#docs = loader.load()\n",
    "#txt = ' '.join([d.page_content for d in docs])\n",
    "txt = open(markdown_path).read()"
   ]
  },
  {
   "cell_type": "code",
   "execution_count": 49,
   "id": "64be3790-02cd-492f-a5f6-252f8a1f68a6",
   "metadata": {},
   "outputs": [
    {
     "name": "stdout",
     "output_type": "stream",
     "text": [
      "## Common utilities used in BT testing\n",
      "This package is used to hold common utilities for BT testing.\n",
      "\n",
      "## Installation\n",
      "You can install the released package from pip:\n",
      "\n",
      "```shell\n",
      "$ pip install bttc\n",
      "```\n",
      "\n",
      "o\n"
     ]
    }
   ],
   "source": [
    "print(txt[:200])"
   ]
  },
  {
   "cell_type": "code",
   "execution_count": 50,
   "id": "1a1ab68c-03db-47dd-b180-d5883fc194c3",
   "metadata": {},
   "outputs": [],
   "source": [
    "headers_to_split_on = [\n",
    "    (\"#\", \"Header 1\"),\n",
    "    (\"##\", \"Header 2\"),\n",
    "    (\"###\", \"Header 3\"),\n",
    "    (\"####\", \"Header 4\"),\n",
    "]\n",
    "markdown_splitter = MarkdownHeaderTextSplitter(\n",
    "    headers_to_split_on=headers_to_split_on,\n",
    ")"
   ]
  },
  {
   "cell_type": "code",
   "execution_count": 51,
   "id": "99230a47-790a-469d-8a51-de725b0b6b9d",
   "metadata": {},
   "outputs": [],
   "source": [
    "md_header_splits = markdown_splitter.split_text(txt)"
   ]
  },
  {
   "cell_type": "code",
   "execution_count": 52,
   "id": "18bbb154-d407-496d-becc-7e943cb47ffd",
   "metadata": {},
   "outputs": [
    {
     "name": "stdout",
     "output_type": "stream",
     "text": [
      "This package is used to hold common utilities for \n"
     ]
    }
   ],
   "source": [
    "print(md_header_splits[0].page_content[:50])"
   ]
  },
  {
   "cell_type": "code",
   "execution_count": 53,
   "id": "21de0ab8-54d5-45a4-b6f2-2844beab5ecb",
   "metadata": {},
   "outputs": [
    {
     "data": {
      "text/plain": [
       "{'Header 2': 'Common utilities used in BT testing'}"
      ]
     },
     "execution_count": 53,
     "metadata": {},
     "output_type": "execute_result"
    }
   ],
   "source": [
    "md_header_splits[0].metadata"
   ]
  },
  {
   "cell_type": "markdown",
   "id": "f03ef463-cbc7-489a-9276-ae894e58e75f",
   "metadata": {},
   "source": [
    "## <b><font color='darkblue'>Vectorestores and Embedding</font></b>\n",
    "([course link](https://learn.deeplearning.ai/courses/langchain-chat-with-your-data/lesson/4/vectorstores-and-embedding)) <b><font size='3ptx'>Recall the overall workflow for retrieval augmented generation (RAG):</font></b>\n",
    "![flow](images/4.PNG)\n",
    "\n",
    "We just discussed `Document Loading` and `Splitting`. Here we are going to prepare some splits for demonstration of vectorestores and embedding topics."
   ]
  },
  {
   "cell_type": "code",
   "execution_count": 54,
   "id": "28425a66-7e6d-4464-8e80-acbd92e39259",
   "metadata": {},
   "outputs": [],
   "source": [
    "from langchain_community.document_loaders.text import TextLoader\n",
    "\n",
    "# Load Markdown files\n",
    "loaders = [\n",
    "    # Duplicate documents on purpose - messy data\n",
    "    TextLoader('docs/BTTC_README.md'),\n",
    "    TextLoader('docs/bt_utils_usages.md'),\n",
    "    TextLoader('docs/general_utils_usages.md'),\n",
    "    TextLoader('docs/wifi_utils_usages.md'),\n",
    "    TextLoader('docs/background_knowledge_bluetooth.md'),\n",
    "]\n",
    "\n",
    "docs = []\n",
    "for loader in loaders:\n",
    "    docs.extend(loader.load())"
   ]
  },
  {
   "cell_type": "code",
   "execution_count": 55,
   "id": "79bdf77e-32d9-43fb-aa18-9452b1ada4fb",
   "metadata": {},
   "outputs": [],
   "source": [
    "# Split\n",
    "from langchain.text_splitter import RecursiveCharacterTextSplitter\n",
    "text_splitter = RecursiveCharacterTextSplitter(\n",
    "    chunk_size = 1500,\n",
    "    chunk_overlap = 150\n",
    ")"
   ]
  },
  {
   "cell_type": "code",
   "execution_count": 56,
   "id": "a9e91520-354a-42bb-92b0-ee0a1ae3b8e6",
   "metadata": {},
   "outputs": [],
   "source": [
    "splits = text_splitter.split_documents(docs)"
   ]
  },
  {
   "cell_type": "code",
   "execution_count": 57,
   "id": "ce17af98-38c4-4736-8c0d-ea91a4ddd81a",
   "metadata": {},
   "outputs": [
    {
     "data": {
      "text/plain": [
       "38"
      ]
     },
     "execution_count": 57,
     "metadata": {},
     "output_type": "execute_result"
    }
   ],
   "source": [
    "len(splits)"
   ]
  },
  {
   "cell_type": "markdown",
   "id": "10c672b2-b19b-458a-adc1-1fb0597fff00",
   "metadata": {},
   "source": [
    "### <b><font color='darkgreen'>Embeddings</font></b>\n",
    "<b><font size='3ptx'>[Embedding models](https://python.langchain.com/docs/concepts/#embedding-models) create a vector representation of a piece of text.</font></b> ([more](https://python.langchain.com/docs/integrations/text_embedding/))\n",
    "\n",
    "Let's take our splits and embed them. Here we will use **[`OpenAIEmbeddings`](https://python.langchain.com/docs/integrations/text_embedding/openai/)**"
   ]
  },
  {
   "cell_type": "code",
   "execution_count": 119,
   "id": "c5bd1e0a-5e92-4b2b-81cf-033b16ab2e13",
   "metadata": {},
   "outputs": [],
   "source": [
    "import numpy as np\n",
    "from langchain.embeddings.openai import OpenAIEmbeddings\n",
    "\n",
    "embedding = OpenAIEmbeddings()\n",
    "persist_directory = './docs/chroma/'\n",
    "collection_name = 'bttc_collection'"
   ]
  },
  {
   "cell_type": "code",
   "execution_count": 59,
   "id": "3bfa697c-c580-42ae-951b-946e01322cb1",
   "metadata": {},
   "outputs": [],
   "source": [
    "!rm -rf ./docs/chroma\n",
    "!mkdir -p ./docs/chroma"
   ]
  },
  {
   "cell_type": "code",
   "execution_count": 60,
   "id": "aeae3114-cc45-4f4c-aaff-2a5046f05915",
   "metadata": {},
   "outputs": [],
   "source": [
    "sentence1 = \"i like dogs\"\n",
    "sentence2 = \"i like canines\"\n",
    "sentence3 = \"the weather is ugly outside\""
   ]
  },
  {
   "cell_type": "code",
   "execution_count": 61,
   "id": "27491d9a-540f-41b9-b055-960b668a5c45",
   "metadata": {},
   "outputs": [],
   "source": [
    "embedding1 = embedding.embed_query(sentence1)\n",
    "embedding2 = embedding.embed_query(sentence2)\n",
    "embedding3 = embedding.embed_query(sentence3)"
   ]
  },
  {
   "cell_type": "code",
   "execution_count": 62,
   "id": "ef752c02-09ba-4c1e-a33a-e9d17f0d047b",
   "metadata": {},
   "outputs": [
    {
     "data": {
      "text/plain": [
       "0.9630396460189721"
      ]
     },
     "execution_count": 62,
     "metadata": {},
     "output_type": "execute_result"
    }
   ],
   "source": [
    "np.dot(embedding1, embedding2)"
   ]
  },
  {
   "cell_type": "code",
   "execution_count": 63,
   "id": "bc79e19b-d05e-4ec8-b891-81afc1d02a17",
   "metadata": {},
   "outputs": [
    {
     "data": {
      "text/plain": [
       "0.7702742084408513"
      ]
     },
     "execution_count": 63,
     "metadata": {},
     "output_type": "execute_result"
    }
   ],
   "source": [
    "np.dot(embedding1, embedding3)"
   ]
  },
  {
   "cell_type": "code",
   "execution_count": 64,
   "id": "2e43d642-e702-4504-aa68-0566f3ced6a6",
   "metadata": {},
   "outputs": [
    {
     "data": {
      "text/plain": [
       "0.7590147680413903"
      ]
     },
     "execution_count": 64,
     "metadata": {},
     "output_type": "execute_result"
    }
   ],
   "source": [
    "np.dot(embedding2, embedding3)"
   ]
  },
  {
   "cell_type": "markdown",
   "id": "09b9ea89-bee9-4aaa-b799-9cea9ae973c5",
   "metadata": {},
   "source": [
    "### <b><font color='darkgreen'>Vectorstores</font></b>"
   ]
  },
  {
   "cell_type": "code",
   "execution_count": 65,
   "id": "9734377b-0434-4466-a191-907574e65c70",
   "metadata": {},
   "outputs": [
    {
     "name": "stdout",
     "output_type": "stream",
     "text": [
      "chromadb==0.5.15\n"
     ]
    }
   ],
   "source": [
    "!pip freeze | grep chromadb"
   ]
  },
  {
   "cell_type": "code",
   "execution_count": 66,
   "id": "e247521d-8ba6-4d9f-bc3b-886c5ca6c776",
   "metadata": {},
   "outputs": [],
   "source": [
    "from langchain_chroma import Chroma\n",
    "# from langchain_community.vectorstores.chroma import Chroma"
   ]
  },
  {
   "cell_type": "code",
   "execution_count": 67,
   "id": "743dff72-659f-4571-ae03-91bad0629b81",
   "metadata": {},
   "outputs": [],
   "source": [
    "vectordb = Chroma.from_documents(\n",
    "    collection_name=collection_name,\n",
    "    documents=splits,\n",
    "    embedding=embedding,\n",
    "    persist_directory=persist_directory\n",
    ")"
   ]
  },
  {
   "cell_type": "code",
   "execution_count": 68,
   "id": "51927c67-774b-42af-ae8f-3c16b9bf2de8",
   "metadata": {},
   "outputs": [
    {
     "name": "stdout",
     "output_type": "stream",
     "text": [
      "38\n"
     ]
    }
   ],
   "source": [
    "print(vectordb._collection.count())"
   ]
  },
  {
   "cell_type": "code",
   "execution_count": 69,
   "id": "9c9b8ae8-acd0-421d-b3be-a9ee1ba66e63",
   "metadata": {},
   "outputs": [],
   "source": [
    "# help(vectordb)"
   ]
  },
  {
   "cell_type": "markdown",
   "id": "60c58f41-046a-4647-b2b5-775a171e3ac9",
   "metadata": {},
   "source": [
    "### <b><font color='darkgreen'>Similarity Search</font></b>"
   ]
  },
  {
   "cell_type": "code",
   "execution_count": 70,
   "id": "edba2cd9-d5f3-44fa-a876-3104a40cd2d5",
   "metadata": {},
   "outputs": [],
   "source": [
    "question = \"How can I get Bluetooth status?\""
   ]
  },
  {
   "cell_type": "code",
   "execution_count": 71,
   "id": "eb2b4439-f1b6-467e-b1a4-bd15274b1606",
   "metadata": {},
   "outputs": [],
   "source": [
    "docs = vectordb.similarity_search(question, k=3)"
   ]
  },
  {
   "cell_type": "code",
   "execution_count": 72,
   "id": "43f0fe1d-fed5-4425-979f-2827b3bcba3e",
   "metadata": {},
   "outputs": [
    {
     "data": {
      "text/plain": [
       "3"
      ]
     },
     "execution_count": 72,
     "metadata": {},
     "output_type": "execute_result"
    }
   ],
   "source": [
    "len(docs)"
   ]
  },
  {
   "cell_type": "code",
   "execution_count": 73,
   "id": "4793b43c-3e8d-4b00-9616-d9e2ce5791be",
   "metadata": {},
   "outputs": [
    {
     "name": "stdout",
     "output_type": "stream",
     "text": [
      "# Get the Bluetooth Adapter state\n",
      ">>> dut.bt.le_state\n",
      "<BluetoothAdapterState.STATE_BLE_ON: 15>\n",
      "```\n",
      "\n",
      "If you conduct actions and would like to wait for certain Bluetooth Adapter\n",
      "states, you could leverage method `dut.bt.wait_adapter_state`. e.g.:\n",
      "```python\n",
      "# Import package to get enumeration of Bluetooth Adapter state\n",
      ">>> from bttc import constants\n",
      ">>> bt_adapter_state = constants.BluetoothAdapterState\n",
      "\n",
      "# Turn off Bluetooth\n",
      ">>> dut.bt.disable()\n",
      "\n",
      "# Wait for Bluetooth Adapter States `STATE_OFF` or `STATE_BLE_ON` for 3 seconds:\n",
      ">>> dut.bt.wait_adapter_state({bt_adapter_state.STATE_OFF, bt_adapter_state.STATE_BLE_ON}, timeout_sec=3)\n",
      "True\n",
      ">>> dut.bt.le_state\n",
      "<BluetoothAdapterState.STATE_BLE_ON: 15>\n",
      "```\n",
      "\n",
      "### Get Bluetooth status\n",
      "You can call method `dut.bt.is_enabled` or access attribute `dut.bt.enabled` to\n",
      "get the Bluetooth status of device. e.g.:\n",
      "```python\n",
      ">>> dut.bt.is_enabled()   # Checks if Bluetooth is enabled.\n",
      "False\n",
      ">>> dut.bt.enable()       # Enable the Bluetooth of device.\n",
      ">>> dut.bt.is_enabled()   # Checks if Bluetooth is enabled.\n",
      "True\n",
      ">>> dut.bt.enabled        # Access the Bluetooth status.\n",
      "True\n",
      "```\n",
      "\n",
      "### Get Device's Bluetooth MAC address\n",
      "You can retrieve the Bluetooth MAC address of device by method\n",
      "`dut.bt.get_bluetooth_mac_address`. e.g.:\n",
      "```python\n",
      "# Import utility `bt_utils`\n",
      ">>> from bttc import bt_utils\n",
      "\n",
      "# Retrieve your device. Please replace '36121FDJG000GR' with your device's\n",
      "# serial number.\n",
      ">>> dut = bt_utils.bind('36121FDJG000GR')\n"
     ]
    }
   ],
   "source": [
    "print(docs[0].page_content)"
   ]
  },
  {
   "cell_type": "markdown",
   "id": "1b4feba4-eadd-4ab8-98da-0fed30507ba9",
   "metadata": {},
   "source": [
    "Let's save this so we can use it later!"
   ]
  },
  {
   "cell_type": "code",
   "execution_count": 75,
   "id": "8386cdc4-c3d0-44e0-9149-1406a747457c",
   "metadata": {},
   "outputs": [],
   "source": [
    "#vectordb.persist()"
   ]
  },
  {
   "cell_type": "markdown",
   "id": "06ba3c80-6387-4407-b258-bf2d83a98b4e",
   "metadata": {},
   "source": [
    "### <b><font color='darkgreen'>Failure modes</font></b>\n",
    "<b><font size='3ptx'>This seems great, and basic similarity search will get you 80% of the way there very easily.</font></b>\n",
    "\n",
    "But there are some failure modes that can creep up. Here are some edge cases that can arise - we'll fix them in the next class."
   ]
  },
  {
   "cell_type": "code",
   "execution_count": 76,
   "id": "8ae9e255-6c5c-499c-8f52-51b6db526b7e",
   "metadata": {},
   "outputs": [],
   "source": [
    "question = \"What did they say about Bluetooth?\""
   ]
  },
  {
   "cell_type": "code",
   "execution_count": 77,
   "id": "1361a11f-a2e5-4a1a-86fe-6abd4833430a",
   "metadata": {},
   "outputs": [],
   "source": [
    "docs = vectordb.similarity_search(question, k=5)"
   ]
  },
  {
   "cell_type": "markdown",
   "id": "8da73c64-0e76-4e81-bf48-c23049fbd33b",
   "metadata": {},
   "source": [
    "Notice that we're getting duplicate chunks. <b><font color='red'>Semantic search fetches all similar documents, but does not enforce diversity.</font></b>"
   ]
  },
  {
   "cell_type": "code",
   "execution_count": 78,
   "id": "f102ea1d-2fd8-4440-b60b-1ede262a85cd",
   "metadata": {},
   "outputs": [
    {
     "data": {
      "text/plain": [
       "Document(metadata={'source': 'docs/background_knowledge_bluetooth.md'}, page_content='## Terminology\\n\\n### Piconet\\nA piconet in Bluetooth is a small network consisting of one master device and up to seven active slave devices. The master device controls the communication within the piconet, while slave devices follow its instructions. Piconets are the basic building blocks of larger Bluetooth networks.\\n\\nHow piconets work:\\n1. Piconet Formation: A master device initiates a piconet by broadcasting its presence and inviting other devices to join.\\n2. Device Roles: Once a device joins, it becomes a slave and synchronizes its clock and frequency hopping pattern with the master.\\n3. Communication: The master controls when each device can transmit and receive data, ensuring orderly communication.\\n4. Scatternet Formation: If a device is within range of multiple piconets, it can participate in multiple piconets simultaneously, forming a scatternet.\\n\\n## Abbreviation List\\n\\n### BDA (Bluetooth Device Address)\\nBDA stands for Bluetooth Device Address. It is a unique 48-bit identifier assigned to every Bluetooth-enabled device. This address is essential for identifying and establishing connections between devices.\\n\\nThe BDA is usually represented as a 12-digit hexadecimal number, separated into six pairs by colons (e.g., 00:11:22:33:44:55). Each pair of digits corresponds to a byte of the address.')"
      ]
     },
     "execution_count": 78,
     "metadata": {},
     "output_type": "execute_result"
    }
   ],
   "source": [
    "docs[0]"
   ]
  },
  {
   "cell_type": "code",
   "execution_count": 79,
   "id": "55da3982-39a0-4274-bf8d-8ff07812feff",
   "metadata": {},
   "outputs": [
    {
     "data": {
      "text/plain": [
       "Document(metadata={'source': 'docs/background_knowledge_bluetooth.md'}, page_content='### FHS (Frequency Hopping Spread Spectrum)\\nFHS stands for Frequency Hopping Spread Spectrum. It is a radio transmission technique used by Bluetooth to minimize interference and improve the reliability of wireless communications.\\n\\nHow FHS works in Bluetooth:\\n1. Frequency Hopping: Bluetooth devices rapidly switch between different frequencies within a designated range (the 2.4 GHz ISM band). This hopping pattern is pseudo-random and known to both the transmitting and receiving devices.\\n2. Spread Spectrum: The transmitted signal is spread across a wider bandwidth than necessary, making it more resilient to narrowband interference.\\n3. Reduced Interference:  By hopping frequencies, Bluetooth avoids staying on any single channel for long, reducing the likelihood of colliding with other wireless devices operating on the same frequencies.\\n\\n### LMP (Link Manager Protocol.)\\n[**LMP**](https://www.bluetooth.com/wp-content/uploads/Files/Specification/HTML/Core-54/out/en/br-edr-controller/link-manager-protocol-specification.html) in Bluetooth stands for Link Manager Protocol. It is a key protocol within the Bluetooth stack that is responsible for the establishment, management, and control of connections between Bluetooth devices')"
      ]
     },
     "execution_count": 79,
     "metadata": {},
     "output_type": "execute_result"
    }
   ],
   "source": [
    "docs[1]"
   ]
  },
  {
   "cell_type": "markdown",
   "id": "5b850ecc-fd9d-49b7-a26e-525572a876a3",
   "metadata": {},
   "source": [
    "We can see a new failure mode.\n",
    "\n",
    "The question below asks a question about the `wifi_utils_usage.md`, but includes results from other docs as well."
   ]
  },
  {
   "cell_type": "code",
   "execution_count": 80,
   "id": "1bf749aa-a4d5-46df-bd59-15a5ac80c0e0",
   "metadata": {},
   "outputs": [],
   "source": [
    "question = \"How do we turn off the Wifi?\""
   ]
  },
  {
   "cell_type": "code",
   "execution_count": 81,
   "id": "3e001d05-3f96-4b8c-afa2-01bb0713e4bb",
   "metadata": {},
   "outputs": [],
   "source": [
    "docs = vectordb.similarity_search(question, k=5)"
   ]
  },
  {
   "cell_type": "code",
   "execution_count": 82,
   "id": "3b8c8c84-3eef-40ff-8f86-d62d229cd275",
   "metadata": {},
   "outputs": [
    {
     "name": "stdout",
     "output_type": "stream",
     "text": [
      "{'source': 'docs/wifi_utils_usages.md'}\n",
      "{'source': 'docs/bt_utils_usages.md'}\n",
      "{'source': 'docs/wifi_utils_usages.md'}\n",
      "{'source': 'docs/general_utils_usages.md'}\n",
      "{'source': 'docs/general_utils_usages.md'}\n"
     ]
    }
   ],
   "source": [
    "for doc in docs:\n",
    "    print(doc.metadata)"
   ]
  },
  {
   "cell_type": "code",
   "execution_count": 83,
   "id": "5a81878a-1ee1-48ef-90ba-d6551695afbb",
   "metadata": {},
   "outputs": [
    {
     "name": "stdout",
     "output_type": "stream",
     "text": [
      "For testing purpose, in order to reduce the flakiness or interruption from other\n",
      "apps or system notification, you may want to turn on this setting. To do so, you can refer to below sample code:\n",
      "\n",
      "```python\n",
      "# Import the package `bttc` and instantiate DUT instance which we have to\n",
      "# initialize uiautomator while the setting is turned on/off by UI operations.\n",
      ">>> import bttc\n",
      ">>> dut = bttc.get('36121FDJG000GR', init_snippet_uiautomator=True)\n",
      "\n",
      "# Import the package `system_ui` to turn on/off DnD setting:\n",
      ">>> from bttc.utils.ui_pages import system as system_ui\n",
      "\n",
      "# Turn of `Do not Disturb` (DnD):\n",
      ">>> system_ui.set_do_not_disturb(dut, True)\n",
      "\n",
      "# Confirm that the global setting `zen_mode` reflects the setting:\n",
      ">>> dut.gm.settings.g['zen_mode']\n",
      "Settings.Namespace.Setting(name='zen_mode', value='1', err='')\n",
      "```\n",
      "\n",
      "If you want to turn if off, it is straight forward too:\n",
      "```python\n",
      "# Turn off `Do not Disturb` (DnD):\n",
      ">>> system_ui.set_do_not_disturb(dut, False)    # Turn off DnD\n",
      "\n",
      "# Confirm that the global setting `zen_mode` reflects the setting:\n",
      ">>> dut.gm.settings.g['zen_mode']\n",
      "Settings.Namespace.Setting(name='zen_mode', value='0', err='')\n",
      "```\n",
      "\n",
      "More conveniently, we could leverage `dut.gm.setting_dnd` to achieve the same\n",
      "purpose. For example:\n",
      "```python\n",
      ">>> import bttc\n",
      "\n",
      "# Argument `init_snippet_uiautomator=True` is necessary if\n",
      "# you want to operate on the setting `Do not Disturb` (DnD)!\n",
      ">>> dut = bttc.get('36121FDJG000GR', init_snippet_uiautomator=True)\n"
     ]
    }
   ],
   "source": [
    "print(docs[4].page_content)"
   ]
  },
  {
   "cell_type": "markdown",
   "id": "f8e5e85b-79e7-4ba5-83aa-03ad445cd9bb",
   "metadata": {},
   "source": [
    "Approaches discussed in the next lecture can be used to address both!"
   ]
  },
  {
   "cell_type": "markdown",
   "id": "264cc96e-5b0c-420c-abaa-ea31c09590d7",
   "metadata": {},
   "source": [
    "## <b><font color='darkblue'>Retrieval</font></b>\n",
    "([course link](https://learn.deeplearning.ai/courses/langchain-chat-with-your-data/lesson/5/retrieval)) <b><font size='3ptx'>Retrieval is the centerpiece of our retrieval augmented generation (RAG) flow.</font></b>\n",
    "\n",
    "![flow](images/5.PNG)\n",
    "\n",
    "Let's get our vectorDB from before and try on different retrieval approaches."
   ]
  },
  {
   "cell_type": "code",
   "execution_count": 84,
   "id": "77981324-d99a-46e1-904e-1e7de1238751",
   "metadata": {},
   "outputs": [],
   "source": [
    "embedding = OpenAIEmbeddings()\n",
    "vectordb = Chroma(\n",
    "    collection_name=collection_name,\n",
    "    persist_directory=persist_directory,\n",
    "    embedding_function=embedding)"
   ]
  },
  {
   "cell_type": "code",
   "execution_count": 85,
   "id": "92489ac2-27d9-4e22-a281-8775346781b1",
   "metadata": {},
   "outputs": [
    {
     "name": "stdout",
     "output_type": "stream",
     "text": [
      "38\n"
     ]
    }
   ],
   "source": [
    "print(vectordb._collection.count())"
   ]
  },
  {
   "cell_type": "markdown",
   "id": "333404b5-4f0d-4be0-b9de-0736d2dba308",
   "metadata": {},
   "source": [
    "### <b><font color='darkgreen'>Vectorstore retrieval</font></b>\n",
    "Let's prepare several docs as text for demonstrations of retrieval approaches:"
   ]
  },
  {
   "cell_type": "code",
   "execution_count": 86,
   "id": "cb2fd402-347a-4cf2-9f39-3493e38a74df",
   "metadata": {},
   "outputs": [],
   "source": [
    "texts = [\n",
    "    \"\"\"The Amanita phalloides has a large and imposing epigeous (aboveground) fruiting body (basidiocarp).\"\"\",\n",
    "    \"\"\"A mushroom with a large fruiting body is the Amanita phalloides. Some varieties are all-white.\"\"\",\n",
    "    \"\"\"A. phalloides, a.k.a Death Cap, is one of the most poisonous of all known mushrooms.\"\"\",\n",
    "]"
   ]
  },
  {
   "cell_type": "code",
   "execution_count": null,
   "id": "09e701c0-c31c-4179-80e0-3790a4ec8edc",
   "metadata": {},
   "outputs": [],
   "source": [
    "smalldb = Chroma.from_texts(texts, embedding=embedding)"
   ]
  },
  {
   "cell_type": "code",
   "execution_count": null,
   "id": "f7cfaac2-979d-4026-9ed5-76ba82316186",
   "metadata": {},
   "outputs": [],
   "source": [
    "question = \"Tell me about all-white mushrooms with large fruiting bodies\""
   ]
  },
  {
   "cell_type": "code",
   "execution_count": null,
   "id": "5dca69bc-ccd1-46bd-9fb8-ac8d3ce67842",
   "metadata": {},
   "outputs": [],
   "source": [
    "smalldb.similarity_search(question, k=2)"
   ]
  },
  {
   "cell_type": "code",
   "execution_count": null,
   "id": "8e4b4c47-4902-4ab9-8d1c-434eb12a48ca",
   "metadata": {},
   "outputs": [],
   "source": [
    "smalldb.max_marginal_relevance_search(question,k=2, fetch_k=3)"
   ]
  },
  {
   "cell_type": "markdown",
   "id": "7d1a5b52-74c0-437d-87dd-9df34fe53f6e",
   "metadata": {},
   "source": [
    "### <b><font color='darkgreen'>Addressing Diversity: Maximum Marginal Relevance</font></b>\n",
    "\n",
    "<b><font size='3ptx'>Maximal Marginal Relevance (MMR) is a method used in information retrieval to select documents that are both relevant to the query and diverse with respect to the previously selected documents.</font></b> This approach helps in reducing redundancy and increasing the coverage of different aspects of the query in the selected documents ([more](https://www.kaggle.com/code/marcinrutecki/rag-mmr-search-in-langchain)).\n",
    "![idea](images/6.PNG)\n",
    "\n",
    "![idea](images/7.PNG)"
   ]
  },
  {
   "cell_type": "code",
   "execution_count": null,
   "id": "02ab9263-c6eb-486f-bd44-f878e6d14d69",
   "metadata": {},
   "outputs": [],
   "source": [
    "question = \"Show me usage examples of BTTC?\"\n",
    "docs_ss = vectordb.similarity_search(question, k=3)"
   ]
  },
  {
   "cell_type": "code",
   "execution_count": null,
   "id": "0e139de6-1ff8-4b89-9112-2413ca84cd24",
   "metadata": {},
   "outputs": [],
   "source": [
    "print(docs_ss[0].page_content[:100])"
   ]
  },
  {
   "cell_type": "code",
   "execution_count": null,
   "id": "b6de12ec-3558-4a0b-b4fb-f60f9939c2e0",
   "metadata": {},
   "outputs": [],
   "source": [
    "print(docs_ss[1].page_content[:100])"
   ]
  },
  {
   "cell_type": "markdown",
   "id": "72525153-a9e9-4545-baa4-a57993e404e7",
   "metadata": {},
   "source": [
    "Note the difference in results with `MMR`:"
   ]
  },
  {
   "cell_type": "code",
   "execution_count": null,
   "id": "40bdd252-e0ba-46ae-9aa0-07c2f5e0f3fe",
   "metadata": {},
   "outputs": [],
   "source": [
    "docs_mmr = vectordb.max_marginal_relevance_search(question, k=3)"
   ]
  },
  {
   "cell_type": "code",
   "execution_count": null,
   "id": "0b28e774-7d13-47e3-8bad-4262011240e6",
   "metadata": {},
   "outputs": [],
   "source": [
    "print(docs_mmr[0].page_content[:100])"
   ]
  },
  {
   "cell_type": "code",
   "execution_count": null,
   "id": "d23ead60-8edc-46f8-ab4b-14846051e81b",
   "metadata": {},
   "outputs": [],
   "source": [
    "print(docs_mmr[1].page_content[:100])"
   ]
  },
  {
   "cell_type": "markdown",
   "id": "c2f35c2c-dc67-468c-bcad-02307ccb71f4",
   "metadata": {},
   "source": [
    "### <b><font color='darkgreen'>Addressing Specificity: working with metadata</font></b>\n",
    "<b><font size='3ptx'>From previous example, we showed that a question about the Wifi functionalities can include results from other irrelevant docs as well.</font></b>\n",
    "\n",
    "To address this, many vectorstores support operations on `metadata`. `metadata` provides context for each embedded chunk."
   ]
  },
  {
   "cell_type": "code",
   "execution_count": null,
   "id": "c1fbf41f-e075-45da-bd98-b4c8e7539625",
   "metadata": {},
   "outputs": [],
   "source": [
    "question = \"How to turn off Wifi?\""
   ]
  },
  {
   "cell_type": "code",
   "execution_count": null,
   "id": "1e4a9133-ac3d-42c9-b57b-d643812096a0",
   "metadata": {},
   "outputs": [],
   "source": [
    "docs = vectordb.similarity_search(\n",
    "    question,\n",
    "    k=2,\n",
    "    filter={\"source\": \"docs/wifi_utils_usages.md\"}\n",
    ")"
   ]
  },
  {
   "cell_type": "code",
   "execution_count": null,
   "id": "cc983efa-a5fb-4b99-9d47-558d9b3fcea5",
   "metadata": {},
   "outputs": [],
   "source": [
    "for d in docs:\n",
    "    print(d.metadata)"
   ]
  },
  {
   "cell_type": "markdown",
   "id": "b4232133-d658-4523-9014-fcb31234dda5",
   "metadata": {},
   "source": [
    "#### <b>Working with metadata using self-query retriever</b>\n",
    "<b><font size='3ptx'>But we have an interesting challenge: we often want to infer the metadata from the query itself.</font></b>\n",
    "\n",
    "To address this, we can use `SelfQueryRetriever`, which uses an LLM to extract:\n",
    " \n",
    "1. The `query` string to use for vector search\n",
    "2. A metadata filter to pass in as well\n",
    "\n",
    "Most vector databases support metadata filters, so this doesn't require any new databases or indexes."
   ]
  },
  {
   "cell_type": "code",
   "execution_count": null,
   "id": "ded6bbf1-ecd3-4014-bdcc-8a874a4f9808",
   "metadata": {},
   "outputs": [],
   "source": [
    "!pip freeze | grep 'lark'"
   ]
  },
  {
   "cell_type": "code",
   "execution_count": 87,
   "id": "07ee132f-832d-4fd2-accd-c6fa7afb5147",
   "metadata": {},
   "outputs": [],
   "source": [
    "from langchain.llms import OpenAI\n",
    "from langchain.retrievers.self_query.base import SelfQueryRetriever\n",
    "from langchain.chains.query_constructor.base import AttributeInfo"
   ]
  },
  {
   "cell_type": "code",
   "execution_count": 88,
   "id": "da055bae-7f98-4de4-82f7-2803203055a8",
   "metadata": {},
   "outputs": [],
   "source": [
    "metadata_field_info = [\n",
    "    AttributeInfo(\n",
    "        name=\"source\",\n",
    "        description='''The docs explain the usage of BTTC module on certain functionalities.\n",
    "        - docs/bt_utils_usages.md: Related to Bluetooth operations.\n",
    "        - docs/background_knowledge_bluetooth.md: Related to background knowledge of Bluetooth.\n",
    "        - docs/general_utils_usages.md: Related to general functionalities of BTTC. e.g. Get the model of device.\n",
    "        - docs/wifi_utils_usages.md: Related to WiFi operations. e.g. Turn on/off WiFi of device.\n",
    "        - docs/BTTC_README.md: The Introduction of BTTC module.\n",
    "        ''',\n",
    "        type=\"string\",\n",
    "    ),\n",
    "]"
   ]
  },
  {
   "cell_type": "markdown",
   "id": "bf4bcf36-e4ee-4ee5-a575-323995c7bc88",
   "metadata": {},
   "source": [
    "**Note:** The default model for `OpenAI` (\"from langchain.llms import OpenAI\") is `text-davinci-003`. Due to the deprication of OpenAI's model `text-davinci-003` on 4 January 2024, you'll be using OpenAI's recommended replacement model `gpt-3.5-turbo-instruct` instead."
   ]
  },
  {
   "cell_type": "code",
   "execution_count": 89,
   "id": "6bca2255-6757-4580-97d6-f17efe7ad5e3",
   "metadata": {},
   "outputs": [
    {
     "name": "stderr",
     "output_type": "stream",
     "text": [
      "/tmp/ipykernel_35043/2932683328.py:2: LangChainDeprecationWarning: The class `OpenAI` was deprecated in LangChain 0.0.10 and will be removed in 1.0. An updated version of the class exists in the :class:`~langchain-openai package and should be used instead. To use it run `pip install -U :class:`~langchain-openai` and import as `from :class:`~langchain_openai import OpenAI``.\n",
      "  llm = OpenAI(model='gpt-3.5-turbo-instruct', temperature=0)\n"
     ]
    }
   ],
   "source": [
    "document_content_description = \"Usage markdown files\"\n",
    "llm = OpenAI(model='gpt-3.5-turbo-instruct', temperature=0)"
   ]
  },
  {
   "cell_type": "code",
   "execution_count": 90,
   "id": "dccd303b-5661-4e9e-bc66-cd6441ed5d90",
   "metadata": {},
   "outputs": [],
   "source": [
    "retriever = SelfQueryRetriever.from_llm(\n",
    "    llm,\n",
    "    vectordb,\n",
    "    document_content_description,\n",
    "    metadata_field_info,\n",
    "    verbose=True\n",
    ")"
   ]
  },
  {
   "cell_type": "code",
   "execution_count": 91,
   "id": "b4107f13-6b43-4fdd-b11b-be6bd7d17932",
   "metadata": {},
   "outputs": [],
   "source": [
    "question = \"How to turn off WiFi?\""
   ]
  },
  {
   "cell_type": "code",
   "execution_count": 92,
   "id": "c4560b3d-268c-45da-9042-b4020783bfe5",
   "metadata": {},
   "outputs": [
    {
     "name": "stderr",
     "output_type": "stream",
     "text": [
      "/tmp/ipykernel_35043/10663643.py:1: LangChainDeprecationWarning: The method `BaseRetriever.get_relevant_documents` was deprecated in langchain-core 0.1.46 and will be removed in 1.0. Use :meth:`~invoke` instead.\n",
      "  docs = retriever.get_relevant_documents(question)\n"
     ]
    }
   ],
   "source": [
    "docs = retriever.get_relevant_documents(question)"
   ]
  },
  {
   "cell_type": "code",
   "execution_count": 93,
   "id": "00209ecb-b3e3-4d90-9894-10a5cdc17fd5",
   "metadata": {},
   "outputs": [
    {
     "name": "stdout",
     "output_type": "stream",
     "text": [
      "{'source': 'docs/wifi_utils_usages.md'}\n",
      "{'source': 'docs/wifi_utils_usages.md'}\n",
      "{'source': 'docs/wifi_utils_usages.md'}\n"
     ]
    }
   ],
   "source": [
    "for d in docs:\n",
    "    print(d.metadata)"
   ]
  },
  {
   "cell_type": "markdown",
   "id": "189d5e61-85bc-4e8f-ae25-fb7bd1b64320",
   "metadata": {},
   "source": [
    "### <b><font color='darkgreen'>Additional tricks: compression</font></b>\n",
    "<b><font size='3ptx'>Another approach for improving the quality of retrieved docs is compression. ([more](https://python.langchain.com/docs/how_to/contextual_compression/))</font></b>\n",
    "> Contextual compression is meant to fix this. The idea is simple: instead of immediately returning retrieved documents as-is, you can compress them using the context of the given query, so that only the relevant information is returned. “Compressing” here refers to both compressing the contents of an individual document and filtering out documents wholesale.\n",
    "\n",
    "Information most relevant to a query may be buried in a document with a lot of irrelevant text.  <b>Passing that full document through your application can lead to more expensive LLM calls and poorer responses.</b>\n",
    "\n",
    "<b>Contextual compression is meant to fix this.</b> "
   ]
  },
  {
   "cell_type": "code",
   "execution_count": 94,
   "id": "51dfb4dd-6925-4ad7-8645-a01aff182dd6",
   "metadata": {},
   "outputs": [],
   "source": [
    "from langchain.retrievers import ContextualCompressionRetriever\n",
    "from langchain.retrievers.document_compressors import LLMChainExtractor"
   ]
  },
  {
   "cell_type": "code",
   "execution_count": 95,
   "id": "4c588414-d293-45a3-9468-327c2c1dfcc7",
   "metadata": {},
   "outputs": [],
   "source": [
    "def pretty_print_docs(docs):\n",
    "    print(f\"\\n{'-' * 80}\\n\".join([f\"Document {i+1}:\\n\\n\" + d.page_content for i, d in enumerate(docs)]))"
   ]
  },
  {
   "cell_type": "code",
   "execution_count": 96,
   "id": "17474976-136e-4a28-a6ae-bc52ca69bdf6",
   "metadata": {},
   "outputs": [],
   "source": [
    "# Wrap our vectorstore\n",
    "llm = OpenAI(temperature=0, model=\"gpt-3.5-turbo-instruct\")\n",
    "compressor = LLMChainExtractor.from_llm(llm)"
   ]
  },
  {
   "cell_type": "code",
   "execution_count": 97,
   "id": "3a0f12f1-c425-4b8e-b164-6c091add4c54",
   "metadata": {},
   "outputs": [],
   "source": [
    "compression_retriever = ContextualCompressionRetriever(\n",
    "    base_compressor=compressor,\n",
    "    base_retriever=vectordb.as_retriever()\n",
    ")"
   ]
  },
  {
   "cell_type": "code",
   "execution_count": 98,
   "id": "c0883ca4-a974-4105-acf2-31dbc9576f2c",
   "metadata": {},
   "outputs": [
    {
     "name": "stdout",
     "output_type": "stream",
     "text": [
      "Document 1:\n",
      "\n",
      "To see seconds on the clock during testing (helpful for precise timekeeping), use this code:\n",
      "```python\n",
      "# Import package `bttc` and get DUT instance.\n",
      ">>> import bttc\n",
      ">>> dut = bttc.get('36121FDJG000GR')\n",
      "\n",
      "# Enable second on clock\n",
      ">>> dut.gm.enable_second_on_clock()\n",
      "\n",
      "# Disable second on clock\n",
      ">>> dut.gm.disable_second_on_clock()\n",
      "```\n",
      "--------------------------------------------------------------------------------\n",
      "Document 2:\n",
      "\n",
      "1. Piconet Formation: A master device initiates a piconet by broadcasting its presence and inviting other devices to join.\n",
      "2. Device Roles: Once a device joins, it becomes a slave and synchronizes its clock and frequency hopping pattern with the master.\n",
      "3. Communication: The master controls when each device can transmit and receive data, ensuring orderly communication.\n",
      "4. Scatternet Formation: If a device is within range of multiple piconets, it can participate in multiple piconets simultaneously, forming a scatternet.\n",
      "5. BDA (Bluetooth Device Address)\n",
      "BDA stands for Bluetooth Device Address. It is a unique 48-bit identifier assigned to every Bluetooth-enabled device. This address is essential for identifying and establishing connections between devices.\n",
      "\n",
      "The BDA is usually represented as a 12-digit hexadecimal number, separated into six pairs by colons (e.g., 00:11:22:33:44:55). Each pair of digits corresponds to a byte of the address.\n",
      "--------------------------------------------------------------------------------\n",
      "Document 3:\n",
      "\n",
      "- You can install the released package from pip:\n",
      "- You may need `sudo` for the above commands if your system has certain permission restrictions.\n",
      "- You can use function `get_all` to retrieve all local connected adb devices:\n",
      "- Or use function `get` to retrieve a specific device by its serial number:\n",
      "- The `dut.gm` utility, loaded automatically when you access your device, streamlines common actions like:\n",
      "- Getting/setting device properties\n",
      "- Searching logcat messages\n",
      "- Managing airplane mode\n",
      "- Taking screenshots\n",
      "- Dumping system information (build number, model, etc.)\n",
      "- And more!\n",
      "--------------------------------------------------------------------------------\n",
      "Document 4:\n",
      "\n",
      "```\n",
      "# Grep the Bluetooth configuration settings with keyword `flags.a2dp`\n",
      "$ adb shell device_config list bluetooth | grep 'flags.a2dp'\n",
      "com.android.bluetooth.flags.a2dp_async_allow_low_latency=false\n",
      "com.android.bluetooth.flags.a2dp_concurrent_source_sink=true\n",
      "com.android.bluetooth.flags.a2dp_ignore_started_when_responder=false\n",
      "com.android.bluetooth.flags.a2dp_offload_codec_extensibility=true\n",
      "com.android.bluetooth.flags.a2dp_service_looper=false\n",
      "```\n"
     ]
    }
   ],
   "source": [
    "question = \"Show me a few usage examples in using BTTC.\"\n",
    "compressed_docs = compression_retriever.get_relevant_documents(question)\n",
    "pretty_print_docs(compressed_docs)"
   ]
  },
  {
   "cell_type": "markdown",
   "id": "6ac83256-5555-4fff-847b-062a632f32fe",
   "metadata": {},
   "source": [
    "### <b><font color='darkgreen'>Combining various techniques</font></b>"
   ]
  },
  {
   "cell_type": "code",
   "execution_count": 99,
   "id": "c60034f1-1dd6-484a-9fb9-102317c4a09f",
   "metadata": {},
   "outputs": [],
   "source": [
    "compression_retriever = ContextualCompressionRetriever(\n",
    "    base_compressor=compressor,\n",
    "    base_retriever=vectordb.as_retriever(search_type = \"mmr\"))"
   ]
  },
  {
   "cell_type": "code",
   "execution_count": 100,
   "id": "a9ccb147-f055-4b1f-a183-18f96510074c",
   "metadata": {},
   "outputs": [
    {
     "name": "stdout",
     "output_type": "stream",
     "text": [
      "Document 1:\n",
      "\n",
      "- You can install the released package from pip:\n",
      "- You may need `sudo` for the above commands if your system has certain permission restrictions.\n",
      "- You can use function `get_all` to retrieve all local connected adb devices:\n",
      "- Or use function `get` to retrieve a specific device by its serial number:\n",
      "- The `dut.gm` utility, loaded automatically when you access your device, streamlines common actions like:\n",
      "- Getting/setting device properties\n",
      "- Searching logcat messages\n",
      "- Managing airplane mode\n",
      "- Taking screenshots\n",
      "- Dumping system information (build number, model, etc.)\n",
      "- And more!\n",
      "--------------------------------------------------------------------------------\n",
      "Document 2:\n",
      "\n",
      "- BRCM stands for Broadcom.\n",
      "- It is a major semiconductor company that designs and manufactures a wide range of chips, including those used for Bluetooth communication.\n",
      "- To get the version of BRCM firmware (fw) version by BTTC, below is the sample code:\n",
      "- Import package bttc and instantiate the DUT object:\n",
      "- Get the BRCM fw version:\n",
      "--------------------------------------------------------------------------------\n",
      "Document 3:\n",
      "\n",
      "- FHS (Frequency Hopping Spread Spectrum)\n",
      "- How FHS works in Bluetooth:\n",
      "1. Frequency Hopping: Bluetooth devices rapidly switch between different frequencies within a designated range (the 2.4 GHz ISM band). This hopping pattern is pseudo-random and known to both the transmitting and receiving devices.\n",
      "2. Spread Spectrum: The transmitted signal is spread across a wider bandwidth than necessary, making it more resilient to narrowband interference.\n",
      "3. Reduced Interference:  By hopping frequencies, Bluetooth avoids staying on any single channel for long, reducing the likelihood of colliding with other wireless devices operating on the same frequencies.\n",
      "--------------------------------------------------------------------------------\n",
      "Document 4:\n",
      "\n",
      "To enable Fast pair from UI, several settings must be enabled for Fast Pair device discovery to be active in GMS Core:\n",
      "1. General location setting (Settings > Location)\n",
      "  * Only required on Android below S.\n",
      "2. \"Scan for nearby devices\" (Settings > Google > Devices & sharing > Devices)\n",
      "  * This is a GMS Core setting enabled by default.\n",
      "3. General Bluetooth (Settings > Connected Devices > Connection preferences > Bluetooth) and/or \"Bluetooth scanning\" (Settings > Location > Location services)\n",
      "  * At least one of these two must be enabled.\n"
     ]
    }
   ],
   "source": [
    "question = \"What can we use BTTC for?\"\n",
    "compressed_docs = compression_retriever.get_relevant_documents(question)\n",
    "pretty_print_docs(compressed_docs)"
   ]
  },
  {
   "cell_type": "markdown",
   "id": "af0ed3ca-f9ae-4131-b7de-6a6511aed679",
   "metadata": {},
   "source": [
    "### <b><font color='darkgreen'>Other types of retrieval</font></b>\n",
    "<b><font size='3ptx'>It's worth noting that vectordb as not the only kind of tool to retrieve documents. </font></b>\n",
    "\n",
    "The `LangChain` retriever abstraction includes other ways to retrieve documents, such as TF-IDF or SVM."
   ]
  },
  {
   "cell_type": "code",
   "execution_count": 101,
   "id": "e9fa57b5-7096-4f44-b8eb-cd744cdacb1e",
   "metadata": {},
   "outputs": [],
   "source": [
    "from langchain.retrievers import SVMRetriever\n",
    "from langchain.retrievers import TFIDFRetriever\n",
    "from langchain.document_loaders import PyPDFLoader\n",
    "from langchain.text_splitter import RecursiveCharacterTextSplitter"
   ]
  },
  {
   "cell_type": "code",
   "execution_count": 102,
   "id": "e97a7565-892d-4e3f-93a1-3a379d2dbbc6",
   "metadata": {},
   "outputs": [],
   "source": [
    "# Load Markdown files\n",
    "loaders = [\n",
    "    # Duplicate documents on purpose - messy data\n",
    "    TextLoader('docs/BTTC_README.md'),\n",
    "    TextLoader('docs/bt_utils_usages.md'),\n",
    "    TextLoader('docs/general_utils_usages.md'),\n",
    "    TextLoader('docs/wifi_utils_usages.md'),\n",
    "    TextLoader('docs/background_knowledge_bluetooth.md'),\n",
    "]\n",
    "\n",
    "docs = []\n",
    "for loader in loaders:\n",
    "    docs.extend(loader.load())"
   ]
  },
  {
   "cell_type": "code",
   "execution_count": 107,
   "id": "c34e6aae-af7d-4abd-9264-eef462003ccf",
   "metadata": {},
   "outputs": [],
   "source": [
    "# Split\n",
    "text_splitter = RecursiveCharacterTextSplitter(chunk_size = 1500,chunk_overlap = 150)\n",
    "splits = text_splitter.split_text(\"\\n\".join([doc.page_content for doc in docs]))"
   ]
  },
  {
   "cell_type": "code",
   "execution_count": 108,
   "id": "a8dad95a-c6f4-4e57-9b27-46be60ace215",
   "metadata": {},
   "outputs": [],
   "source": [
    "# Retrieve\n",
    "svm_retriever = SVMRetriever.from_texts(splits,embedding)\n",
    "tfidf_retriever = TFIDFRetriever.from_texts(splits)"
   ]
  },
  {
   "cell_type": "code",
   "execution_count": 114,
   "id": "b6b5e265-41ef-47e5-9cff-dea5afe58d3b",
   "metadata": {},
   "outputs": [
    {
     "name": "stdout",
     "output_type": "stream",
     "text": [
      "How FHS works in Bluetooth:\n",
      "1. Frequency Hopping: Bluetooth devices rapidly switch between different frequencies within a designated range (the 2.4 GHz ISM band). This hopping pattern is pseudo-random and known to both the transmitting and receiving devices.\n",
      "2. Spread Spectrum: The transmitted signal is spread across a wider bandwidth than necessary, making it more resilient to narrowband interference.\n",
      "3. Reduced Interference:  By hopping frequencies, Bluetooth avoids staying on any single channel for long, reducing the likelihood of colliding with other wireless devices operating on the same frequencies.\n",
      "\n",
      "### LMP (Link Manager Protocol.)\n",
      "[**LMP**](https://www.bluetooth.com/wp-content/uploads/Files/Specification/HTML/Core-54/out/en/br-edr-controller/link-manager-protocol-specification.html) in Bluetooth stands for Link Manager Protocol. It is a key protocol within the Bluetooth stack that is responsible for the establishment, management, and control of connections between Bluetooth devices\n",
      "\n",
      "### RNR (Remote Name Request)\n",
      "* When a Bluetooth device discovers another device, it initially only knows its Bluetooth Device Address (BDA). To get the human-readable name of the device, it sends a Remote Name Request.\n",
      "* The remote device responds with its name, which can then be displayed to the user.\n"
     ]
    },
    {
     "name": "stderr",
     "output_type": "stream",
     "text": [
      "/usr/local/google/home/johnkclee/Github/ml_articles/env/lib/python3.11/site-packages/sklearn/svm/_classes.py:32: FutureWarning: The default value of `dual` will change from `True` to `'auto'` in 1.5. Set the value of `dual` explicitly to suppress the warning.\n",
      "  warnings.warn(\n"
     ]
    }
   ],
   "source": [
    "question = \"What is RNR in Bluetooth?\"\n",
    "docs_svm=svm_retriever.get_relevant_documents(question)\n",
    "print(docs_svm[0].page_content)"
   ]
  },
  {
   "cell_type": "code",
   "execution_count": 115,
   "id": "1df02edf-0f20-40c3-b32b-09c6b5fb5fb7",
   "metadata": {},
   "outputs": [
    {
     "name": "stdout",
     "output_type": "stream",
     "text": [
      "### Get Bluetooth Adapter State\n",
      "The Bluetooth adapter state tells you the current condition of your device's Bluetooth radio.\n",
      "Think of it like a switch for your Bluetooth: is it off, on, or somewhere in between? This state is crucial for applications that use Bluetooth, as they need to know whether Bluetooth is available and in what capacity.\n",
      "\n",
      "Bluetooth Adapter State Values:\n",
      "* `STATE_UNKNOWN` (0): The initial state, usually indicating the system hasn't yet determined the actual Bluetooth adapter state.\n",
      "* `STATE_OFF` (10): Bluetooth is completely disabled. No Bluetooth functionality is available.\n",
      "* `STATE_TURNING_ON` (11): The Bluetooth adapter is in the process of turning on. Bluetooth is not yet usable.\n",
      "* `STATE_ON` (12): Bluetooth is fully enabled and ready for pairing and data exchange.\n",
      "* `STATE_TURNING_OFF` (13): The Bluetooth adapter is shutting down. Bluetooth is no longer usable.\n",
      "* `STATE_BLE_TURNING_ON` (14): The Bluetooth adapter is specifically turning on Bluetooth Low Energy (BLE) functionality.\n",
      "* `STATE_BLE_ON` (15): BLE functionality is fully enabled. Your device can connect to and communicate with low-energy Bluetooth devices.\n",
      "* `STATE_BLE_TURNING_OFF` (16): The BLE functionality is shutting down.\n",
      "\n",
      "From BTTC, you could get the Bluetooth adapter state by property\n",
      "`dut.bt.le_state`. e.g.:\n",
      "```python\n",
      "# Import the package `bttc`\n",
      ">>> import bttc\n"
     ]
    }
   ],
   "source": [
    "question = \"What is RNR in Bluetooth?\"\n",
    "docs_tfidf=tfidf_retriever.get_relevant_documents(question)\n",
    "print(docs_tfidf[0].page_content)"
   ]
  },
  {
   "cell_type": "markdown",
   "id": "014148f9-3de1-4e4c-9b48-df3870762d2a",
   "metadata": {},
   "source": [
    "## <b><font color='darkblue'>Question Answering</font></b>\n",
    "([course link](https://learn.deeplearning.ai/courses/langchain-chat-with-your-data/lesson/6/question-answering))\n",
    "![flow](images/8.PNG)\n",
    "\n",
    "* Multiple relevant documents have been retrieved from the vectorestore.\n",
    "* Potentially compress the relevant splits to fit into the LLM context.\n",
    "* Send the information along with our question to an LLM to select and format an answer.\n",
    "\n",
    "We have discussed `Document Loading` and `Splitting` as well as `Storage` and `Retrieval`. Let's load our vectorDB. The code below was added to assign the openai LLM version filmed until it is deprecated, currently in Sept 2023. \n",
    "\n",
    "LLM responses can often vary, but the responses may be significantly different when using a different model version."
   ]
  },
  {
   "cell_type": "code",
   "execution_count": 116,
   "id": "7b81b23f-57ab-42e3-baa9-c0a929c0deee",
   "metadata": {},
   "outputs": [
    {
     "name": "stdout",
     "output_type": "stream",
     "text": [
      "gpt-3.5-turbo\n"
     ]
    }
   ],
   "source": [
    "import datetime\n",
    "\n",
    "current_date = datetime.datetime.now().date()\n",
    "if current_date < datetime.date(2023, 9, 2):\n",
    "    llm_name = \"gpt-3.5-turbo-0301\"\n",
    "else:\n",
    "    llm_name = \"gpt-3.5-turbo\"\n",
    "print(llm_name)"
   ]
  },
  {
   "cell_type": "code",
   "execution_count": 120,
   "id": "0bf2962b-51fb-4bb3-bace-86661ae52f5c",
   "metadata": {},
   "outputs": [],
   "source": [
    "from langchain.vectorstores import Chroma\n",
    "from langchain.embeddings.openai import OpenAIEmbeddings\n",
    "\n",
    "embedding = OpenAIEmbeddings()\n",
    "vectordb = Chroma(\n",
    "    collection_name=collection_name,\n",
    "    persist_directory=persist_directory, embedding_function=embedding)"
   ]
  },
  {
   "cell_type": "code",
   "execution_count": 121,
   "id": "5968431d-8800-4621-8615-333ba631c2c3",
   "metadata": {},
   "outputs": [
    {
     "name": "stdout",
     "output_type": "stream",
     "text": [
      "38\n"
     ]
    }
   ],
   "source": [
    "print(vectordb._collection.count())"
   ]
  },
  {
   "cell_type": "code",
   "execution_count": 122,
   "id": "68f0245a-9d49-4040-bedc-73c8c05dccea",
   "metadata": {},
   "outputs": [
    {
     "data": {
      "text/plain": [
       "3"
      ]
     },
     "execution_count": 122,
     "metadata": {},
     "output_type": "execute_result"
    }
   ],
   "source": [
    "question = \"How to turn off the Wifi of device?\"\n",
    "docs = vectordb.similarity_search(question, k=3)\n",
    "len(docs)"
   ]
  },
  {
   "cell_type": "code",
   "execution_count": 124,
   "id": "f59711d6-8c24-420e-9c83-cbb3074e5d48",
   "metadata": {},
   "outputs": [
    {
     "data": {
      "text/markdown": [
       "To disable the Bluetooth of device, you can call method `dut.bt.disable`:\n",
       "```python\n",
       ">>> dut.bt.enabled    # The Bluetooth is on for now.\n",
       "True\n",
       ">>> dut.bt.disable()  # Disable the Bluetooth of device.\n",
       ">>> dut.bt.enabled    # Get the status of device's Bluetooth\n",
       "False\n",
       "```\n",
       "\n",
       "### Dump the content of Bluetooth manager\n",
       "To dump the content of Bluetooth manager, call method\n",
       "`dut.bt.dump_bluetooth_manager`:\n",
       "```python\n",
       ">>> bluetooth_manager_output = dut.bt.dump_bluetooth_manager()\n",
       ">>> print(bluetooth_manager_output[:100])\n",
       "Bluetooth Status\n",
       "  enabled: false\n",
       "  state: BLE_ON\n",
       "  address: XX:XX:XX:XX:D4:21\n",
       "  name: Pixel 8 Pro\n",
       "```\n",
       "\n",
       "### Enable/Disable Airplane\n",
       "To enable Airplane mode, we can call method `dut.bt.enable_airplane_mode`:\n",
       "```python\n",
       "# Currently, Airplane mode is off\n",
       ">>> dut.adb.shell(['settings', 'get', 'global', 'airplane_mode_on']).decode().strip()\n",
       "'0'\n",
       "\n",
       "# Enable the Airplane mode\n",
       ">>> dut.gm.enable_airplane_mode()\n",
       "\n",
       "# Then we have Airplane mode as on\n",
       ">>> dut.adb.shell(['settings', 'get', 'global', 'airplane_mode_on']).decode().strip()\n",
       "'1'\n",
       "```\n",
       "To disable Airplane mode, we can call method `dut.bt.disable_airplane_mode`:\n",
       "```python\n",
       "# Currently, Airplane mode is on\n",
       ">>> dut.adb.shell(['settings', 'get', 'global', 'airplane_mode_on']).decode().strip()\n",
       "'1'\n",
       "\n",
       "# Disable the Airplane mode\n",
       ">>> dut.gm.disable_airplane_mode()\n",
       "\n",
       "# Then we have Airplane mode as off\n",
       ">>> dut.adb.shell(['settings', 'get', 'global', 'airplane_mode_on']).decode().strip()\n",
       "'0'\n",
       "```"
      ],
      "text/plain": [
       "<IPython.core.display.Markdown object>"
      ]
     },
     "metadata": {},
     "output_type": "display_data"
    }
   ],
   "source": [
    "print_markdown(docs[0].page_content)"
   ]
  },
  {
   "cell_type": "markdown",
   "id": "75bb7b3a-708f-4d9c-8095-6f0587670343",
   "metadata": {},
   "source": [
    "### <b><font color='darkgreen'>RetrievalQA chain</font></b>\n",
    "<b><font size='3ptx'>Developing a production-grade LLM application requires many refinements, but tracking multiple versions of prompts, models, and other components can be cumbersome</font>. The LangChain Hub offers a centralized registry to manage and version your LLM artifacts efficiently. ([more](https://docs.smith.langchain.com/old/cookbook/hub-examples/retrieval-qa-chain))</b>"
   ]
  },
  {
   "cell_type": "code",
   "execution_count": 127,
   "id": "8687850a-6e00-4406-9bc7-55a752bd583c",
   "metadata": {},
   "outputs": [],
   "source": [
    "#from langchain.chat_models import ChatOpenAI\n",
    "from langchain_openai import ChatOpenAI\n",
    "from langchain.chains import RetrievalQA\n",
    "\n",
    "llm = ChatOpenAI(model_name=llm_name, temperature=0)"
   ]
  },
  {
   "cell_type": "code",
   "execution_count": 128,
   "id": "c46a78f3-5780-44aa-9f65-122746da5b94",
   "metadata": {},
   "outputs": [],
   "source": [
    "qa_chain = RetrievalQA.from_chain_type(\n",
    "    llm,\n",
    "    retriever=vectordb.as_retriever())"
   ]
  },
  {
   "cell_type": "code",
   "execution_count": 130,
   "id": "201d6849-6af6-4a1d-9a9c-c703090a445f",
   "metadata": {},
   "outputs": [],
   "source": [
    "result = qa_chain.invoke({\"query\": question})"
   ]
  },
  {
   "cell_type": "code",
   "execution_count": 131,
   "id": "2ecf8b92-6368-4a13-a242-a159f968060c",
   "metadata": {},
   "outputs": [
    {
     "data": {
      "text/markdown": [
       "To turn off the WiFi of the device, you can call the method `dut.wifi.disable()` as shown below:\n",
       "```python\n",
       "# Disable the WiFi\n",
       ">>> dut.wifi.disable()\n",
       "```\n",
       "This will turn off the WiFi on the device."
      ],
      "text/plain": [
       "<IPython.core.display.Markdown object>"
      ]
     },
     "metadata": {},
     "output_type": "display_data"
    }
   ],
   "source": [
    "print_markdown(result[\"result\"])"
   ]
  },
  {
   "cell_type": "markdown",
   "id": "f563be09-5580-4afb-98a4-a46c03682f5a",
   "metadata": {},
   "source": [
    "### <b><font color='darkgreen'>Prompt</font></b>"
   ]
  },
  {
   "cell_type": "code",
   "execution_count": 132,
   "id": "a1287a30-30dd-47fe-9782-4dcc29b55722",
   "metadata": {},
   "outputs": [],
   "source": [
    "from langchain.prompts import PromptTemplate\n",
    "\n",
    "# Build prompt\n",
    "template = \"\"\"Use the following pieces of context to answer the question at the end. If you don't know the answer, just say that you don't know, don't try to make up an answer. Use three sentences maximum. Keep the answer as concise as possible. Always say \"thanks for asking!\" at the end of the answer. \n",
    "{context}\n",
    "Question: {question}\n",
    "Helpful Answer:\"\"\"\n",
    "QA_CHAIN_PROMPT = PromptTemplate.from_template(template)"
   ]
  },
  {
   "cell_type": "code",
   "execution_count": 133,
   "id": "67d5ea85-401c-4cf5-91e3-224e066f9e8e",
   "metadata": {},
   "outputs": [],
   "source": [
    "# Run chain\n",
    "qa_chain = RetrievalQA.from_chain_type(\n",
    "    llm,\n",
    "    retriever=vectordb.as_retriever(),\n",
    "    return_source_documents=True,\n",
    "    chain_type_kwargs={\"prompt\": QA_CHAIN_PROMPT})"
   ]
  },
  {
   "cell_type": "code",
   "execution_count": 134,
   "id": "c3dd4a21-d937-4bdd-8ea6-fa1bd19e7dbf",
   "metadata": {},
   "outputs": [],
   "source": [
    "question = \"How to get the Bluetooth MAC address of a device?\""
   ]
  },
  {
   "cell_type": "code",
   "execution_count": 135,
   "id": "9f13e8df-e1c8-4b20-8bd5-292a728bb5be",
   "metadata": {},
   "outputs": [],
   "source": [
    "result = qa_chain.invoke({\"query\": question})"
   ]
  },
  {
   "cell_type": "code",
   "execution_count": 136,
   "id": "267219b5-15c5-408d-a11f-25bc383c6e70",
   "metadata": {},
   "outputs": [
    {
     "data": {
      "text/markdown": [
       "You can get the Bluetooth MAC address by using the method `dut.bt.get_bluetooth_mac_address()`. Thanks for asking!"
      ],
      "text/plain": [
       "<IPython.core.display.Markdown object>"
      ]
     },
     "metadata": {},
     "output_type": "display_data"
    }
   ],
   "source": [
    "print_markdown(result[\"result\"])"
   ]
  },
  {
   "cell_type": "code",
   "execution_count": 137,
   "id": "d26b1e7f-378f-49c7-8731-e48dc66d7777",
   "metadata": {},
   "outputs": [
    {
     "data": {
      "text/plain": [
       "Document(metadata={'source': 'docs/bt_utils_usages.md'}, page_content='# Get the device time and starting point to search crash afterword.\\n>>> begin_device_time = dut.gm.device_time\\n>>> begin_device_time\\n\\'05-22 16:44:00.000\\'\\n\\n# No crash in the beginning.\\n>>> dut.bt.crash_since(begin_device_time)\\nCrashInfo(total_num_crash=0, collected_crash_times=[])\\n\\n# Let\\'s use below command to force Bluetooth to crash\\n# $ adb shell \"pgrep -f keyword \\'com.google.android.bluetooth\\' | xargs kill -9\"\\n# Then we could obtain the crash record now:\\n>>> dut.bt.crash_since(begin_device_time)\\nCrashInfo(total_num_crash=1, collected_crash_times=[\\'05-22 16:48:52.396\\'])\\n\\n# If we don\\'t feed in device time, it will search all crash record.\\n>>> dut.bt.crash_since()\\nCrashInfo(total_num_crash=1, collected_crash_times=[\\'05-22 16:48:52.396\\'])\\n```\\n\\n### Get Bluetooth MAC address\\nYou can retrieve the Bluetooth MAC address by method\\n`dut.bt.get_bluetooth_mac_address`. e.g.:\\n```python\\n>>> dut.bt.get_bluetooth_mac_address()  # Get Bluetooth MAC address\\n\\'D4:3A:2C:57:D4:21\\'\\n```\\n\\n### Get bonded devices\\nYou can get the bonded devices by method `dut.bt.get_bonded_devices`:\\n```python\\n# Get the DUT.\\n>>> dut = bttc.get(\\'36121FDJG000GR\\')\\n\\n# Get the bonded device information\\n>>> dut.bt.get_bonded_devices()\\n[BondedDeviceInfo(mac_addr=\\'7C:96:D2:87:44:75\\', bt_type=<BluetoothDeviceType.DUAL: 3>, name=\\'Acrux\\')]\\n```')"
      ]
     },
     "execution_count": 137,
     "metadata": {},
     "output_type": "execute_result"
    }
   ],
   "source": [
    "result[\"source_documents\"][0]"
   ]
  },
  {
   "cell_type": "markdown",
   "id": "9b75efc7-be7c-495b-9b21-518e7827ab65",
   "metadata": {},
   "source": [
    "### <b><font color='darkgreen'>RetrievalQA chain types</font></b>\n",
    "![chain types](images/9.PNG)\n",
    "\n",
    "* **Stuffs**: This method simply \"stuffs\" all the retrieved documents into the prompt for the language model.\n",
    "    * Pros: Simple, potentially good for smaller documents or when the model can handle a lot of context.\n",
    "    * Cons: Can lead to exceeding the model's token limit, potentially losing important information from longer documents.\n",
    "* **map_reduce**: The language model processes each document individually to generate an answer. A separate language model prompt combines the individual answers into a final, overall answer.\n",
    "    * Pros: Handles longer documents effectively by breaking them down.\n",
    "    * Cons: Can be less accurate than other methods if the individual answers are not well-synthesized in the reduction step.\n",
    "* **refine**: Starts with an initial answer based on the first document. Refines the answer iteratively by incorporating information from subsequent documents.\n",
    "    * Pros: Good for situations where documents build upon each other or have a chronological order.\n",
    "    * Cons: May be biased towards the initial document and might not be suitable if documents cover diverse aspects.\n",
    "* **map_rerank**: The language model processes each document individually to generate an answer. The answers are re-ranked based on their relevance or quality. The highest-ranked answer is selected.\n",
    "    * Pros: Can improve accuracy by focusing on the most relevant answers.\n",
    "    * Cons: The re-ranking step adds complexity and may not always be effective."
   ]
  },
  {
   "cell_type": "code",
   "execution_count": 138,
   "id": "1f178d11-ae24-47db-b8d7-82899aa29d4d",
   "metadata": {},
   "outputs": [],
   "source": [
    "qa_chain_mr = RetrievalQA.from_chain_type(\n",
    "    llm,\n",
    "    retriever=vectordb.as_retriever(),\n",
    "    chain_type=\"map_reduce\")"
   ]
  },
  {
   "cell_type": "code",
   "execution_count": 139,
   "id": "03e4ab1d-0234-4372-bb7b-8b6aa2bdbe35",
   "metadata": {},
   "outputs": [
    {
     "name": "stderr",
     "output_type": "stream",
     "text": [
      "/usr/local/google/home/johnkclee/Github/ml_articles/env/lib/python3.11/site-packages/langchain_openai/chat_models/base.py:369: UserWarning: Unexpected type for token usage: <class 'NoneType'>\n",
      "  warnings.warn(f\"Unexpected type for token usage: {type(new_usage)}\")\n"
     ]
    }
   ],
   "source": [
    "result = qa_chain_mr.invoke({\"query\": question})"
   ]
  },
  {
   "cell_type": "code",
   "execution_count": 140,
   "id": "00532956-cae6-4fdb-83a5-8c980f75071c",
   "metadata": {},
   "outputs": [
    {
     "data": {
      "text/markdown": [
       "To get the Bluetooth MAC address of a device, you can use the method `dut.bt.get_bluetooth_mac_address()` with the appropriate device object. Here is an example code snippet:\n",
       "\n",
       "```python\n",
       ">>> dut.bt.get_bluetooth_mac_address()\n",
       "'D4:3A:2C:57:D4:21'\n",
       "```\n",
       "\n",
       "Alternatively, you can also retrieve the MAC address of a paired Bluetooth device by using the method `dut.bt.list_paired_devices(only_name=False)`. The MAC address will be under the `mac_addr` field in the output."
      ],
      "text/plain": [
       "<IPython.core.display.Markdown object>"
      ]
     },
     "metadata": {},
     "output_type": "display_data"
    }
   ],
   "source": [
    "print_markdown(result[\"result\"])"
   ]
  },
  {
   "cell_type": "markdown",
   "id": "2ff19dd4-060b-4f60-bc82-eac70ec1aa3f",
   "metadata": {},
   "source": [
    "### <b><font color='darkgreen'>RetrievalQA limitations</font></b>\n",
    "QA fails to preserve conversational history."
   ]
  },
  {
   "cell_type": "code",
   "execution_count": 141,
   "id": "7b40a8f6-dd45-46e2-8874-ef229776a94f",
   "metadata": {},
   "outputs": [],
   "source": [
    "qa_chain = RetrievalQA.from_chain_type(\n",
    "    llm,\n",
    "    retriever=vectordb.as_retriever())"
   ]
  },
  {
   "cell_type": "code",
   "execution_count": 142,
   "id": "18ebe7bd-cadb-44bc-9dfd-51699dec4733",
   "metadata": {},
   "outputs": [
    {
     "data": {
      "text/markdown": [
       "To turn on Bluetooth on a device, you can call the method `dut.bt.enable()` as shown below:\n",
       "```python\n",
       ">>> dut.bt.enable()  # Enable the Bluetooth of the device.\n",
       ">>> dut.bt.enabled   # Get the status of the device's Bluetooth.\n",
       "True\n",
       "```"
      ],
      "text/plain": [
       "<IPython.core.display.Markdown object>"
      ]
     },
     "metadata": {},
     "output_type": "display_data"
    }
   ],
   "source": [
    "question = \"How to turn on Bluetooth?\"\n",
    "result = qa_chain.invoke({\"query\": question})\n",
    "print_markdown(result[\"result\"])"
   ]
  },
  {
   "cell_type": "code",
   "execution_count": 143,
   "id": "1455f0d8-b594-4588-8ee9-760dc6f3e900",
   "metadata": {},
   "outputs": [
    {
     "data": {
      "text/markdown": [
       "To retrieve the Bluetooth MAC address of a device, you can use the following method in the `bttc` library:\n",
       "\n",
       "```python\n",
       ">>> dut.bt.get_bluetooth_mac_address()\n",
       "```\n",
       "\n",
       "This command will return the Bluetooth MAC address of the device."
      ],
      "text/plain": [
       "<IPython.core.display.Markdown object>"
      ]
     },
     "metadata": {},
     "output_type": "display_data"
    }
   ],
   "source": [
    "question = \"How to get the address of it?\"\n",
    "result = qa_chain.invoke({\"query\": question})\n",
    "print_markdown(result[\"result\"])"
   ]
  },
  {
   "cell_type": "markdown",
   "id": "6bc2007c-23a6-41c0-9425-66d438947bf6",
   "metadata": {},
   "source": [
    "<b><font color='orange'>Note</font></b>, The LLM response varies. Some responses **do** include a reference to probability which might be gleaned from referenced documents. The point is simply that the model does not have access to past questions or answers, this will be covered in the next section."
   ]
  },
  {
   "cell_type": "markdown",
   "id": "61d8bf1a-e2bf-4af1-b821-28d162fdc703",
   "metadata": {},
   "source": [
    "## <b><font color='darkblue'>Chat</font></b>\n",
    "([course link](https://learn.deeplearning.ai/courses/langchain-chat-with-your-data/lesson/7/chat)) <b><font size='3ptx'>Recall the overall workflow for retrieval augmented generation (RAG):</font></b>\n",
    "![flow](images/8.PNG)\n",
    "\n",
    "Below we are going to build a chat with memory:"
   ]
  },
  {
   "cell_type": "code",
   "execution_count": 145,
   "id": "61f05ccc-391e-48c5-9321-53ce747f2b16",
   "metadata": {},
   "outputs": [],
   "source": [
    "from langchain.memory import ConversationBufferMemory\n",
    "memory = ConversationBufferMemory(\n",
    "    memory_key=\"chat_history\",\n",
    "    return_messages=True)"
   ]
  },
  {
   "cell_type": "code",
   "execution_count": 146,
   "id": "221b9821-4178-4801-bf3e-89e2db873ce4",
   "metadata": {},
   "outputs": [],
   "source": [
    "from langchain.chains import ConversationalRetrievalChain\n",
    "\n",
    "retriever=vectordb.as_retriever()\n",
    "qa = ConversationalRetrievalChain.from_llm(\n",
    "    llm,\n",
    "    retriever=retriever,\n",
    "    memory=memory)"
   ]
  },
  {
   "cell_type": "code",
   "execution_count": 151,
   "id": "dc011340-8e2c-431f-adad-9319feef145e",
   "metadata": {},
   "outputs": [],
   "source": [
    "question = \"How to turn Wifi off?\"\n",
    "result = qa({\"question\": question})"
   ]
  },
  {
   "cell_type": "code",
   "execution_count": 152,
   "id": "63fc748f-585f-488e-8ed3-2863f99c8237",
   "metadata": {},
   "outputs": [
    {
     "data": {
      "text/markdown": [
       "To turn off WiFi on your device, you can call the method `dut.wifi.disable()` as shown below:\n",
       "```python\n",
       "# Disable the WiFi\n",
       ">>> dut.wifi.disable()\n",
       "```\n",
       "This command will disable the WiFi on your device."
      ],
      "text/plain": [
       "<IPython.core.display.Markdown object>"
      ]
     },
     "metadata": {},
     "output_type": "display_data"
    }
   ],
   "source": [
    "print_markdown(result['answer'])"
   ]
  },
  {
   "cell_type": "code",
   "execution_count": 153,
   "id": "e8eb41a0-2e8e-455f-9dc5-21423e44b98c",
   "metadata": {},
   "outputs": [],
   "source": [
    "question = \"How to enable it again?\"\n",
    "result = qa({\"question\": question})"
   ]
  },
  {
   "cell_type": "code",
   "execution_count": 154,
   "id": "7a5e232a-8622-4828-8f00-9f4ec395c4b7",
   "metadata": {},
   "outputs": [
    {
     "data": {
      "text/markdown": [
       "To enable WiFi on your device, you can use the following steps:\n",
       "\n",
       "1. Import the necessary packages:\n",
       "```python\n",
       "import bttc\n",
       "from bttc import wifi_utils\n",
       "```\n",
       "\n",
       "2. Retrieve the DUT object and bind it to the WiFi utility:\n",
       "```python\n",
       "dut = bttc.get('36121FDJG000GR')\n",
       "wifi_utils.bind(dut)\n",
       "```\n",
       "\n",
       "3. Enable the WiFi on your device:\n",
       "```python\n",
       "dut.wifi.enable()\n",
       "```\n",
       "\n",
       "By following these steps, you should be able to successfully enable WiFi on your device."
      ],
      "text/plain": [
       "<IPython.core.display.Markdown object>"
      ]
     },
     "metadata": {},
     "output_type": "display_data"
    }
   ],
   "source": [
    "print_markdown(result['answer'])"
   ]
  },
  {
   "cell_type": "markdown",
   "id": "661faf47-8277-4bf0-ae55-1684fb6f4d90",
   "metadata": {},
   "source": [
    "### <b><font color='darkgreen'>Create a chatbot that works on your documents</font></b>\n",
    "Feel free to copy this code and modify it to add your own features. You can try alternate memory and retriever models by changing the configuration in `load_db` function and the `convchain` method. [Panel](https://panel.holoviz.org/) and [Param](https://param.holoviz.org/) have many useful features and widgets you can use to extend the GUI.\n"
   ]
  },
  {
   "cell_type": "code",
   "execution_count": 155,
   "id": "121103c7-4c73-455f-8e76-5434ce58291d",
   "metadata": {},
   "outputs": [],
   "source": [
    "from langchain.embeddings.openai import OpenAIEmbeddings\n",
    "from langchain.text_splitter import CharacterTextSplitter, RecursiveCharacterTextSplitter\n",
    "from langchain.vectorstores import DocArrayInMemorySearch\n",
    "from langchain.document_loaders import TextLoader\n",
    "from langchain.chains import RetrievalQA,  ConversationalRetrievalChain\n",
    "from langchain.memory import ConversationBufferMemory\n",
    "from langchain.chat_models import ChatOpenAI\n",
    "from langchain.document_loaders import TextLoader\n",
    "from langchain.document_loaders import PyPDFLoader"
   ]
  },
  {
   "cell_type": "markdown",
   "id": "575b2686-907b-4790-9241-8ba55f1edf26",
   "metadata": {},
   "source": [
    "The chatbot code has been updated a bit since filming. The GUI appearance also varies depending on the platform it is running on."
   ]
  },
  {
   "cell_type": "code",
   "execution_count": 166,
   "id": "b01f3e6f-54c1-4f2b-a266-07c55f37359b",
   "metadata": {},
   "outputs": [],
   "source": [
    "def load_db(chain_type='stuff', k=10):\n",
    "    # chain_type should be one of: ['stuff', 'map_reduce', 'refine', 'map_rerank']\n",
    "    # load documents\n",
    "    loaders = [\n",
    "        # Duplicate documents on purpose - messy data\n",
    "        TextLoader('docs/BTTC_README.md'),\n",
    "        TextLoader('docs/bt_utils_usages.md'),\n",
    "        TextLoader('docs/general_utils_usages.md'),\n",
    "        TextLoader('docs/wifi_utils_usages.md'),\n",
    "        TextLoader('docs/background_knowledge_bluetooth.md'),\n",
    "    ]\n",
    "\n",
    "    docs = []\n",
    "    for loader in loaders:\n",
    "        docs.extend(loader.load())\n",
    "\n",
    "    # split documents\n",
    "    text_splitter = RecursiveCharacterTextSplitter(chunk_size=1000, chunk_overlap=150)\n",
    "    docs = text_splitter.split_documents(docs)\n",
    "    # define embedding\n",
    "    embeddings = OpenAIEmbeddings()\n",
    "    # create vector database from data\n",
    "    db = DocArrayInMemorySearch.from_documents(docs, embeddings)\n",
    "    # define retriever\n",
    "    retriever = db.as_retriever(search_type=\"similarity\", search_kwargs={\"k\": k})\n",
    "    # create a chatbot chain. Memory is managed externally.\n",
    "    qa = ConversationalRetrievalChain.from_llm(\n",
    "        llm=ChatOpenAI(model_name=llm_name, temperature=0), \n",
    "        chain_type=chain_type, \n",
    "        retriever=retriever, \n",
    "        return_source_documents=True,\n",
    "        return_generated_question=True,\n",
    "    )\n",
    "    return qa "
   ]
  },
  {
   "cell_type": "code",
   "execution_count": 179,
   "id": "e257849d-b1ed-4f24-915a-da2d0153b64e",
   "metadata": {},
   "outputs": [],
   "source": [
    "qa = load_db()\n",
    "chat_history = [] "
   ]
  },
  {
   "cell_type": "code",
   "execution_count": 180,
   "id": "e3dcf88e-324a-41cb-8e8c-0d06056d73f2",
   "metadata": {},
   "outputs": [
    {
     "data": {
      "text/markdown": [
       "BTTC stands for Bluetooth Test Common. It is a Python package that provides utilities for Bluetooth testing. The package simplifies access to Bluetooth diagnostics and allows users to perform various Bluetooth-related actions and retrieve information from Bluetooth-enabled devices. The package includes functionalities such as getting Bluetooth firmware versions, checking Bluetooth adapter states, verifying connected devices, and accessing Bluetooth service information."
      ],
      "text/plain": [
       "<IPython.core.display.Markdown object>"
      ]
     },
     "metadata": {},
     "output_type": "display_data"
    }
   ],
   "source": [
    "question1 = 'What is BTTC?'\n",
    "result = qa.invoke({\"question\": question1, \"chat_history\": chat_history})\n",
    "chat_history.extend([(question1, result[\"answer\"])])\n",
    "print_markdown(result['answer'])"
   ]
  },
  {
   "cell_type": "code",
   "execution_count": 181,
   "id": "0ea8f7f7-eda9-4db4-aef8-665a3e5d51a1",
   "metadata": {},
   "outputs": [
    {
     "data": {
      "text/markdown": [
       "Sure! Here are some examples of how you can use BTTC (Bluetooth Test Common) in your Python scripts for Bluetooth testing:\n",
       "\n",
       "1. **Retrieve Device Information:**\n",
       "   - You can use BTTC to retrieve information about connected devices, such as Bluetooth adapter state, bonded devices, and more.\n",
       "\n",
       "2. **Capture Connection Failure Reasons:**\n",
       "   - BTTC allows you to capture the reason for connection failures when pairing with Bluetooth devices. This can help in diagnosing issues.\n",
       "\n",
       "3. **Preview Bluetooth Information:**\n",
       "   - You can use BTTC to preview Bluetooth information, such as the Bluetooth status, enabled state, address, and device name.\n",
       "\n",
       "4. **Manage Device Properties:**\n",
       "   - BTTC simplifies property management on devices through the `dut.gm.props` attribute, allowing you to get and set device properties easily.\n",
       "\n",
       "5. **Disable Fast Pair:**\n",
       "   - With BTTC, you can disable Fast Pair functionality on devices using simple commands like `dut.bt.set_fast_pair_halfsheet(False)` or `dut.bt.disable_fastpair()`.\n",
       "\n",
       "6. **Dump Bugreport:**\n",
       "   - BTTC provides functionality to dump bug reports from devices to specific directories with custom file names for further analysis.\n",
       "\n",
       "These are just a few examples of how BTTC can be used to streamline Bluetooth testing and diagnostics in Python scripts."
      ],
      "text/plain": [
       "<IPython.core.display.Markdown object>"
      ]
     },
     "metadata": {},
     "output_type": "display_data"
    }
   ],
   "source": [
    "question2 = 'Can you show a few usage examples of it?'\n",
    "result = qa.invoke({\"question\": question2, \"chat_history\": chat_history})\n",
    "chat_history.extend([(question2, result[\"answer\"])])\n",
    "print_markdown(result['answer'])"
   ]
  },
  {
   "cell_type": "code",
   "execution_count": 174,
   "id": "589c6843-7a10-4db4-a1f2-766a181a41c1",
   "metadata": {},
   "outputs": [
    {
     "data": {
      "text/html": [
       "<script type=\"esms-options\">{\"shimMode\": true}</script><style>*[data-root-id],\n",
       "*[data-root-id] > * {\n",
       "  box-sizing: border-box;\n",
       "  font-family: var(--jp-ui-font-family);\n",
       "  font-size: var(--jp-ui-font-size1);\n",
       "  color: var(--vscode-editor-foreground, var(--jp-ui-font-color1));\n",
       "}\n",
       "\n",
       "/* Override VSCode background color */\n",
       ".cell-output-ipywidget-background:has(\n",
       "    > .cell-output-ipywidget-background > .lm-Widget > *[data-root-id]\n",
       "  ),\n",
       ".cell-output-ipywidget-background:has(> .lm-Widget > *[data-root-id]) {\n",
       "  background-color: transparent !important;\n",
       "}\n",
       "</style>"
      ]
     },
     "metadata": {},
     "output_type": "display_data"
    },
    {
     "data": {
      "application/javascript": [
       "(function(root) {\n",
       "  function now() {\n",
       "    return new Date();\n",
       "  }\n",
       "\n",
       "  const force = true;\n",
       "  const py_version = '3.6.0'.replace('rc', '-rc.').replace('.dev', '-dev.');\n",
       "  const reloading = false;\n",
       "  const Bokeh = root.Bokeh;\n",
       "\n",
       "  // Set a timeout for this load but only if we are not already initializing\n",
       "  if (typeof (root._bokeh_timeout) === \"undefined\" || (force || !root._bokeh_is_initializing)) {\n",
       "    root._bokeh_timeout = Date.now() + 5000;\n",
       "    root._bokeh_failed_load = false;\n",
       "  }\n",
       "\n",
       "  function run_callbacks() {\n",
       "    try {\n",
       "      root._bokeh_onload_callbacks.forEach(function(callback) {\n",
       "        if (callback != null)\n",
       "          callback();\n",
       "      });\n",
       "    } finally {\n",
       "      delete root._bokeh_onload_callbacks;\n",
       "    }\n",
       "    console.debug(\"Bokeh: all callbacks have finished\");\n",
       "  }\n",
       "\n",
       "  function load_libs(css_urls, js_urls, js_modules, js_exports, callback) {\n",
       "    if (css_urls == null) css_urls = [];\n",
       "    if (js_urls == null) js_urls = [];\n",
       "    if (js_modules == null) js_modules = [];\n",
       "    if (js_exports == null) js_exports = {};\n",
       "\n",
       "    root._bokeh_onload_callbacks.push(callback);\n",
       "\n",
       "    if (root._bokeh_is_loading > 0) {\n",
       "      // Don't load bokeh if it is still initializing\n",
       "      console.debug(\"Bokeh: BokehJS is being loaded, scheduling callback at\", now());\n",
       "      return null;\n",
       "    } else if (js_urls.length === 0 && js_modules.length === 0 && Object.keys(js_exports).length === 0) {\n",
       "      // There is nothing to load\n",
       "      run_callbacks();\n",
       "      return null;\n",
       "    }\n",
       "\n",
       "    function on_load() {\n",
       "      root._bokeh_is_loading--;\n",
       "      if (root._bokeh_is_loading === 0) {\n",
       "        console.debug(\"Bokeh: all BokehJS libraries/stylesheets loaded\");\n",
       "        run_callbacks()\n",
       "      }\n",
       "    }\n",
       "    window._bokeh_on_load = on_load\n",
       "\n",
       "    function on_error(e) {\n",
       "      const src_el = e.srcElement\n",
       "      console.error(\"failed to load \" + (src_el.href || src_el.src));\n",
       "    }\n",
       "\n",
       "    const skip = [];\n",
       "    if (window.requirejs) {\n",
       "      window.requirejs.config({'packages': {}, 'paths': {}, 'shim': {}});\n",
       "      root._bokeh_is_loading = css_urls.length + 0;\n",
       "    } else {\n",
       "      root._bokeh_is_loading = css_urls.length + js_urls.length + js_modules.length + Object.keys(js_exports).length;\n",
       "    }\n",
       "\n",
       "    const existing_stylesheets = []\n",
       "    const links = document.getElementsByTagName('link')\n",
       "    for (let i = 0; i < links.length; i++) {\n",
       "      const link = links[i]\n",
       "      if (link.href != null) {\n",
       "        existing_stylesheets.push(link.href)\n",
       "      }\n",
       "    }\n",
       "    for (let i = 0; i < css_urls.length; i++) {\n",
       "      const url = css_urls[i];\n",
       "      const escaped = encodeURI(url)\n",
       "      if (existing_stylesheets.indexOf(escaped) !== -1) {\n",
       "        on_load()\n",
       "        continue;\n",
       "      }\n",
       "      const element = document.createElement(\"link\");\n",
       "      element.onload = on_load;\n",
       "      element.onerror = on_error;\n",
       "      element.rel = \"stylesheet\";\n",
       "      element.type = \"text/css\";\n",
       "      element.href = url;\n",
       "      console.debug(\"Bokeh: injecting link tag for BokehJS stylesheet: \", url);\n",
       "      document.body.appendChild(element);\n",
       "    }    var existing_scripts = []\n",
       "    const scripts = document.getElementsByTagName('script')\n",
       "    for (let i = 0; i < scripts.length; i++) {\n",
       "      var script = scripts[i]\n",
       "      if (script.src != null) {\n",
       "        existing_scripts.push(script.src)\n",
       "      }\n",
       "    }\n",
       "    for (let i = 0; i < js_urls.length; i++) {\n",
       "      const url = js_urls[i];\n",
       "      const escaped = encodeURI(url)\n",
       "      if (skip.indexOf(escaped) !== -1 || existing_scripts.indexOf(escaped) !== -1) {\n",
       "        if (!window.requirejs) {\n",
       "          on_load();\n",
       "        }\n",
       "        continue;\n",
       "      }\n",
       "      const element = document.createElement('script');\n",
       "      element.onload = on_load;\n",
       "      element.onerror = on_error;\n",
       "      element.async = false;\n",
       "      element.src = url;\n",
       "      console.debug(\"Bokeh: injecting script tag for BokehJS library: \", url);\n",
       "      document.head.appendChild(element);\n",
       "    }\n",
       "    for (let i = 0; i < js_modules.length; i++) {\n",
       "      const url = js_modules[i];\n",
       "      const escaped = encodeURI(url)\n",
       "      if (skip.indexOf(escaped) !== -1 || existing_scripts.indexOf(escaped) !== -1) {\n",
       "        if (!window.requirejs) {\n",
       "          on_load();\n",
       "        }\n",
       "        continue;\n",
       "      }\n",
       "      var element = document.createElement('script');\n",
       "      element.onload = on_load;\n",
       "      element.onerror = on_error;\n",
       "      element.async = false;\n",
       "      element.src = url;\n",
       "      element.type = \"module\";\n",
       "      console.debug(\"Bokeh: injecting script tag for BokehJS library: \", url);\n",
       "      document.head.appendChild(element);\n",
       "    }\n",
       "    for (const name in js_exports) {\n",
       "      const url = js_exports[name];\n",
       "      const escaped = encodeURI(url)\n",
       "      if (skip.indexOf(escaped) >= 0 || root[name] != null) {\n",
       "        if (!window.requirejs) {\n",
       "          on_load();\n",
       "        }\n",
       "        continue;\n",
       "      }\n",
       "      var element = document.createElement('script');\n",
       "      element.onerror = on_error;\n",
       "      element.async = false;\n",
       "      element.type = \"module\";\n",
       "      console.debug(\"Bokeh: injecting script tag for BokehJS library: \", url);\n",
       "      element.textContent = `\n",
       "      import ${name} from \"${url}\"\n",
       "      window.${name} = ${name}\n",
       "      window._bokeh_on_load()\n",
       "      `\n",
       "      document.head.appendChild(element);\n",
       "    }\n",
       "    if (!js_urls.length && !js_modules.length) {\n",
       "      on_load()\n",
       "    }\n",
       "  };\n",
       "\n",
       "  function inject_raw_css(css) {\n",
       "    const element = document.createElement(\"style\");\n",
       "    element.appendChild(document.createTextNode(css));\n",
       "    document.body.appendChild(element);\n",
       "  }\n",
       "\n",
       "  const js_urls = [\"https://cdn.holoviz.org/panel/1.5.3/dist/bundled/reactiveesm/es-module-shims@^1.10.0/dist/es-module-shims.min.js\", \"https://cdn.bokeh.org/bokeh/release/bokeh-3.6.0.min.js\", \"https://cdn.bokeh.org/bokeh/release/bokeh-gl-3.6.0.min.js\", \"https://cdn.bokeh.org/bokeh/release/bokeh-widgets-3.6.0.min.js\", \"https://cdn.bokeh.org/bokeh/release/bokeh-tables-3.6.0.min.js\", \"https://cdn.holoviz.org/panel/1.5.3/dist/panel.min.js\"];\n",
       "  const js_modules = [];\n",
       "  const js_exports = {};\n",
       "  const css_urls = [];\n",
       "  const inline_js = [    function(Bokeh) {\n",
       "      Bokeh.set_log_level(\"info\");\n",
       "    },\n",
       "function(Bokeh) {} // ensure no trailing comma for IE\n",
       "  ];\n",
       "\n",
       "  function run_inline_js() {\n",
       "    if ((root.Bokeh !== undefined) || (force === true)) {\n",
       "      for (let i = 0; i < inline_js.length; i++) {\n",
       "        try {\n",
       "          inline_js[i].call(root, root.Bokeh);\n",
       "        } catch(e) {\n",
       "          if (!reloading) {\n",
       "            throw e;\n",
       "          }\n",
       "        }\n",
       "      }\n",
       "      // Cache old bokeh versions\n",
       "      if (Bokeh != undefined && !reloading) {\n",
       "        var NewBokeh = root.Bokeh;\n",
       "        if (Bokeh.versions === undefined) {\n",
       "          Bokeh.versions = new Map();\n",
       "        }\n",
       "        if (NewBokeh.version !== Bokeh.version) {\n",
       "          Bokeh.versions.set(NewBokeh.version, NewBokeh)\n",
       "        }\n",
       "        root.Bokeh = Bokeh;\n",
       "      }\n",
       "    } else if (Date.now() < root._bokeh_timeout) {\n",
       "      setTimeout(run_inline_js, 100);\n",
       "    } else if (!root._bokeh_failed_load) {\n",
       "      console.log(\"Bokeh: BokehJS failed to load within specified timeout.\");\n",
       "      root._bokeh_failed_load = true;\n",
       "    }\n",
       "    root._bokeh_is_initializing = false\n",
       "  }\n",
       "\n",
       "  function load_or_wait() {\n",
       "    // Implement a backoff loop that tries to ensure we do not load multiple\n",
       "    // versions of Bokeh and its dependencies at the same time.\n",
       "    // In recent versions we use the root._bokeh_is_initializing flag\n",
       "    // to determine whether there is an ongoing attempt to initialize\n",
       "    // bokeh, however for backward compatibility we also try to ensure\n",
       "    // that we do not start loading a newer (Panel>=1.0 and Bokeh>3) version\n",
       "    // before older versions are fully initialized.\n",
       "    if (root._bokeh_is_initializing && Date.now() > root._bokeh_timeout) {\n",
       "      // If the timeout and bokeh was not successfully loaded we reset\n",
       "      // everything and try loading again\n",
       "      root._bokeh_timeout = Date.now() + 5000;\n",
       "      root._bokeh_is_initializing = false;\n",
       "      root._bokeh_onload_callbacks = undefined;\n",
       "      root._bokeh_is_loading = 0\n",
       "      console.log(\"Bokeh: BokehJS was loaded multiple times but one version failed to initialize.\");\n",
       "      load_or_wait();\n",
       "    } else if (root._bokeh_is_initializing || (typeof root._bokeh_is_initializing === \"undefined\" && root._bokeh_onload_callbacks !== undefined)) {\n",
       "      setTimeout(load_or_wait, 100);\n",
       "    } else {\n",
       "      root._bokeh_is_initializing = true\n",
       "      root._bokeh_onload_callbacks = []\n",
       "      const bokeh_loaded = root.Bokeh != null && (root.Bokeh.version === py_version || (root.Bokeh.versions !== undefined && root.Bokeh.versions.has(py_version)));\n",
       "      if (!reloading && !bokeh_loaded) {\n",
       "        if (root.Bokeh) {\n",
       "          root.Bokeh = undefined;\n",
       "        }\n",
       "        console.debug(\"Bokeh: BokehJS not loaded, scheduling load and callback at\", now());\n",
       "      }\n",
       "      load_libs(css_urls, js_urls, js_modules, js_exports, function() {\n",
       "        console.debug(\"Bokeh: BokehJS plotting callback run at\", now());\n",
       "        run_inline_js();\n",
       "      });\n",
       "    }\n",
       "  }\n",
       "  // Give older versions of the autoload script a head-start to ensure\n",
       "  // they initialize before we start loading newer version.\n",
       "  setTimeout(load_or_wait, 100)\n",
       "}(window));"
      ],
      "application/vnd.holoviews_load.v0+json": "(function(root) {\n  function now() {\n    return new Date();\n  }\n\n  const force = true;\n  const py_version = '3.6.0'.replace('rc', '-rc.').replace('.dev', '-dev.');\n  const reloading = false;\n  const Bokeh = root.Bokeh;\n\n  // Set a timeout for this load but only if we are not already initializing\n  if (typeof (root._bokeh_timeout) === \"undefined\" || (force || !root._bokeh_is_initializing)) {\n    root._bokeh_timeout = Date.now() + 5000;\n    root._bokeh_failed_load = false;\n  }\n\n  function run_callbacks() {\n    try {\n      root._bokeh_onload_callbacks.forEach(function(callback) {\n        if (callback != null)\n          callback();\n      });\n    } finally {\n      delete root._bokeh_onload_callbacks;\n    }\n    console.debug(\"Bokeh: all callbacks have finished\");\n  }\n\n  function load_libs(css_urls, js_urls, js_modules, js_exports, callback) {\n    if (css_urls == null) css_urls = [];\n    if (js_urls == null) js_urls = [];\n    if (js_modules == null) js_modules = [];\n    if (js_exports == null) js_exports = {};\n\n    root._bokeh_onload_callbacks.push(callback);\n\n    if (root._bokeh_is_loading > 0) {\n      // Don't load bokeh if it is still initializing\n      console.debug(\"Bokeh: BokehJS is being loaded, scheduling callback at\", now());\n      return null;\n    } else if (js_urls.length === 0 && js_modules.length === 0 && Object.keys(js_exports).length === 0) {\n      // There is nothing to load\n      run_callbacks();\n      return null;\n    }\n\n    function on_load() {\n      root._bokeh_is_loading--;\n      if (root._bokeh_is_loading === 0) {\n        console.debug(\"Bokeh: all BokehJS libraries/stylesheets loaded\");\n        run_callbacks()\n      }\n    }\n    window._bokeh_on_load = on_load\n\n    function on_error(e) {\n      const src_el = e.srcElement\n      console.error(\"failed to load \" + (src_el.href || src_el.src));\n    }\n\n    const skip = [];\n    if (window.requirejs) {\n      window.requirejs.config({'packages': {}, 'paths': {}, 'shim': {}});\n      root._bokeh_is_loading = css_urls.length + 0;\n    } else {\n      root._bokeh_is_loading = css_urls.length + js_urls.length + js_modules.length + Object.keys(js_exports).length;\n    }\n\n    const existing_stylesheets = []\n    const links = document.getElementsByTagName('link')\n    for (let i = 0; i < links.length; i++) {\n      const link = links[i]\n      if (link.href != null) {\n        existing_stylesheets.push(link.href)\n      }\n    }\n    for (let i = 0; i < css_urls.length; i++) {\n      const url = css_urls[i];\n      const escaped = encodeURI(url)\n      if (existing_stylesheets.indexOf(escaped) !== -1) {\n        on_load()\n        continue;\n      }\n      const element = document.createElement(\"link\");\n      element.onload = on_load;\n      element.onerror = on_error;\n      element.rel = \"stylesheet\";\n      element.type = \"text/css\";\n      element.href = url;\n      console.debug(\"Bokeh: injecting link tag for BokehJS stylesheet: \", url);\n      document.body.appendChild(element);\n    }    var existing_scripts = []\n    const scripts = document.getElementsByTagName('script')\n    for (let i = 0; i < scripts.length; i++) {\n      var script = scripts[i]\n      if (script.src != null) {\n        existing_scripts.push(script.src)\n      }\n    }\n    for (let i = 0; i < js_urls.length; i++) {\n      const url = js_urls[i];\n      const escaped = encodeURI(url)\n      if (skip.indexOf(escaped) !== -1 || existing_scripts.indexOf(escaped) !== -1) {\n        if (!window.requirejs) {\n          on_load();\n        }\n        continue;\n      }\n      const element = document.createElement('script');\n      element.onload = on_load;\n      element.onerror = on_error;\n      element.async = false;\n      element.src = url;\n      console.debug(\"Bokeh: injecting script tag for BokehJS library: \", url);\n      document.head.appendChild(element);\n    }\n    for (let i = 0; i < js_modules.length; i++) {\n      const url = js_modules[i];\n      const escaped = encodeURI(url)\n      if (skip.indexOf(escaped) !== -1 || existing_scripts.indexOf(escaped) !== -1) {\n        if (!window.requirejs) {\n          on_load();\n        }\n        continue;\n      }\n      var element = document.createElement('script');\n      element.onload = on_load;\n      element.onerror = on_error;\n      element.async = false;\n      element.src = url;\n      element.type = \"module\";\n      console.debug(\"Bokeh: injecting script tag for BokehJS library: \", url);\n      document.head.appendChild(element);\n    }\n    for (const name in js_exports) {\n      const url = js_exports[name];\n      const escaped = encodeURI(url)\n      if (skip.indexOf(escaped) >= 0 || root[name] != null) {\n        if (!window.requirejs) {\n          on_load();\n        }\n        continue;\n      }\n      var element = document.createElement('script');\n      element.onerror = on_error;\n      element.async = false;\n      element.type = \"module\";\n      console.debug(\"Bokeh: injecting script tag for BokehJS library: \", url);\n      element.textContent = `\n      import ${name} from \"${url}\"\n      window.${name} = ${name}\n      window._bokeh_on_load()\n      `\n      document.head.appendChild(element);\n    }\n    if (!js_urls.length && !js_modules.length) {\n      on_load()\n    }\n  };\n\n  function inject_raw_css(css) {\n    const element = document.createElement(\"style\");\n    element.appendChild(document.createTextNode(css));\n    document.body.appendChild(element);\n  }\n\n  const js_urls = [\"https://cdn.holoviz.org/panel/1.5.3/dist/bundled/reactiveesm/es-module-shims@^1.10.0/dist/es-module-shims.min.js\", \"https://cdn.bokeh.org/bokeh/release/bokeh-3.6.0.min.js\", \"https://cdn.bokeh.org/bokeh/release/bokeh-gl-3.6.0.min.js\", \"https://cdn.bokeh.org/bokeh/release/bokeh-widgets-3.6.0.min.js\", \"https://cdn.bokeh.org/bokeh/release/bokeh-tables-3.6.0.min.js\", \"https://cdn.holoviz.org/panel/1.5.3/dist/panel.min.js\"];\n  const js_modules = [];\n  const js_exports = {};\n  const css_urls = [];\n  const inline_js = [    function(Bokeh) {\n      Bokeh.set_log_level(\"info\");\n    },\nfunction(Bokeh) {} // ensure no trailing comma for IE\n  ];\n\n  function run_inline_js() {\n    if ((root.Bokeh !== undefined) || (force === true)) {\n      for (let i = 0; i < inline_js.length; i++) {\n        try {\n          inline_js[i].call(root, root.Bokeh);\n        } catch(e) {\n          if (!reloading) {\n            throw e;\n          }\n        }\n      }\n      // Cache old bokeh versions\n      if (Bokeh != undefined && !reloading) {\n        var NewBokeh = root.Bokeh;\n        if (Bokeh.versions === undefined) {\n          Bokeh.versions = new Map();\n        }\n        if (NewBokeh.version !== Bokeh.version) {\n          Bokeh.versions.set(NewBokeh.version, NewBokeh)\n        }\n        root.Bokeh = Bokeh;\n      }\n    } else if (Date.now() < root._bokeh_timeout) {\n      setTimeout(run_inline_js, 100);\n    } else if (!root._bokeh_failed_load) {\n      console.log(\"Bokeh: BokehJS failed to load within specified timeout.\");\n      root._bokeh_failed_load = true;\n    }\n    root._bokeh_is_initializing = false\n  }\n\n  function load_or_wait() {\n    // Implement a backoff loop that tries to ensure we do not load multiple\n    // versions of Bokeh and its dependencies at the same time.\n    // In recent versions we use the root._bokeh_is_initializing flag\n    // to determine whether there is an ongoing attempt to initialize\n    // bokeh, however for backward compatibility we also try to ensure\n    // that we do not start loading a newer (Panel>=1.0 and Bokeh>3) version\n    // before older versions are fully initialized.\n    if (root._bokeh_is_initializing && Date.now() > root._bokeh_timeout) {\n      // If the timeout and bokeh was not successfully loaded we reset\n      // everything and try loading again\n      root._bokeh_timeout = Date.now() + 5000;\n      root._bokeh_is_initializing = false;\n      root._bokeh_onload_callbacks = undefined;\n      root._bokeh_is_loading = 0\n      console.log(\"Bokeh: BokehJS was loaded multiple times but one version failed to initialize.\");\n      load_or_wait();\n    } else if (root._bokeh_is_initializing || (typeof root._bokeh_is_initializing === \"undefined\" && root._bokeh_onload_callbacks !== undefined)) {\n      setTimeout(load_or_wait, 100);\n    } else {\n      root._bokeh_is_initializing = true\n      root._bokeh_onload_callbacks = []\n      const bokeh_loaded = root.Bokeh != null && (root.Bokeh.version === py_version || (root.Bokeh.versions !== undefined && root.Bokeh.versions.has(py_version)));\n      if (!reloading && !bokeh_loaded) {\n        if (root.Bokeh) {\n          root.Bokeh = undefined;\n        }\n        console.debug(\"Bokeh: BokehJS not loaded, scheduling load and callback at\", now());\n      }\n      load_libs(css_urls, js_urls, js_modules, js_exports, function() {\n        console.debug(\"Bokeh: BokehJS plotting callback run at\", now());\n        run_inline_js();\n      });\n    }\n  }\n  // Give older versions of the autoload script a head-start to ensure\n  // they initialize before we start loading newer version.\n  setTimeout(load_or_wait, 100)\n}(window));"
     },
     "metadata": {},
     "output_type": "display_data"
    },
    {
     "data": {
      "application/javascript": [
       "\n",
       "if ((window.PyViz === undefined) || (window.PyViz instanceof HTMLElement)) {\n",
       "  window.PyViz = {comms: {}, comm_status:{}, kernels:{}, receivers: {}, plot_index: []}\n",
       "}\n",
       "\n",
       "\n",
       "    function JupyterCommManager() {\n",
       "    }\n",
       "\n",
       "    JupyterCommManager.prototype.register_target = function(plot_id, comm_id, msg_handler) {\n",
       "      if (window.comm_manager || ((window.Jupyter !== undefined) && (Jupyter.notebook.kernel != null))) {\n",
       "        var comm_manager = window.comm_manager || Jupyter.notebook.kernel.comm_manager;\n",
       "        comm_manager.register_target(comm_id, function(comm) {\n",
       "          comm.on_msg(msg_handler);\n",
       "        });\n",
       "      } else if ((plot_id in window.PyViz.kernels) && (window.PyViz.kernels[plot_id])) {\n",
       "        window.PyViz.kernels[plot_id].registerCommTarget(comm_id, function(comm) {\n",
       "          comm.onMsg = msg_handler;\n",
       "        });\n",
       "      } else if (typeof google != 'undefined' && google.colab.kernel != null) {\n",
       "        google.colab.kernel.comms.registerTarget(comm_id, (comm) => {\n",
       "          var messages = comm.messages[Symbol.asyncIterator]();\n",
       "          function processIteratorResult(result) {\n",
       "            var message = result.value;\n",
       "            console.log(message)\n",
       "            var content = {data: message.data, comm_id};\n",
       "            var buffers = []\n",
       "            for (var buffer of message.buffers || []) {\n",
       "              buffers.push(new DataView(buffer))\n",
       "            }\n",
       "            var metadata = message.metadata || {};\n",
       "            var msg = {content, buffers, metadata}\n",
       "            msg_handler(msg);\n",
       "            return messages.next().then(processIteratorResult);\n",
       "          }\n",
       "          return messages.next().then(processIteratorResult);\n",
       "        })\n",
       "      }\n",
       "    }\n",
       "\n",
       "    JupyterCommManager.prototype.get_client_comm = function(plot_id, comm_id, msg_handler) {\n",
       "      if (comm_id in window.PyViz.comms) {\n",
       "        return window.PyViz.comms[comm_id];\n",
       "      } else if (window.comm_manager || ((window.Jupyter !== undefined) && (Jupyter.notebook.kernel != null))) {\n",
       "        var comm_manager = window.comm_manager || Jupyter.notebook.kernel.comm_manager;\n",
       "        var comm = comm_manager.new_comm(comm_id, {}, {}, {}, comm_id);\n",
       "        if (msg_handler) {\n",
       "          comm.on_msg(msg_handler);\n",
       "        }\n",
       "      } else if ((plot_id in window.PyViz.kernels) && (window.PyViz.kernels[plot_id])) {\n",
       "        var comm = window.PyViz.kernels[plot_id].connectToComm(comm_id);\n",
       "        comm.open();\n",
       "        if (msg_handler) {\n",
       "          comm.onMsg = msg_handler;\n",
       "        }\n",
       "      } else if (typeof google != 'undefined' && google.colab.kernel != null) {\n",
       "        var comm_promise = google.colab.kernel.comms.open(comm_id)\n",
       "        comm_promise.then((comm) => {\n",
       "          window.PyViz.comms[comm_id] = comm;\n",
       "          if (msg_handler) {\n",
       "            var messages = comm.messages[Symbol.asyncIterator]();\n",
       "            function processIteratorResult(result) {\n",
       "              var message = result.value;\n",
       "              var content = {data: message.data};\n",
       "              var metadata = message.metadata || {comm_id};\n",
       "              var msg = {content, metadata}\n",
       "              msg_handler(msg);\n",
       "              return messages.next().then(processIteratorResult);\n",
       "            }\n",
       "            return messages.next().then(processIteratorResult);\n",
       "          }\n",
       "        }) \n",
       "        var sendClosure = (data, metadata, buffers, disposeOnDone) => {\n",
       "          return comm_promise.then((comm) => {\n",
       "            comm.send(data, metadata, buffers, disposeOnDone);\n",
       "          });\n",
       "        };\n",
       "        var comm = {\n",
       "          send: sendClosure\n",
       "        };\n",
       "      }\n",
       "      window.PyViz.comms[comm_id] = comm;\n",
       "      return comm;\n",
       "    }\n",
       "    window.PyViz.comm_manager = new JupyterCommManager();\n",
       "    \n",
       "\n",
       "\n",
       "var JS_MIME_TYPE = 'application/javascript';\n",
       "var HTML_MIME_TYPE = 'text/html';\n",
       "var EXEC_MIME_TYPE = 'application/vnd.holoviews_exec.v0+json';\n",
       "var CLASS_NAME = 'output';\n",
       "\n",
       "/**\n",
       " * Render data to the DOM node\n",
       " */\n",
       "function render(props, node) {\n",
       "  var div = document.createElement(\"div\");\n",
       "  var script = document.createElement(\"script\");\n",
       "  node.appendChild(div);\n",
       "  node.appendChild(script);\n",
       "}\n",
       "\n",
       "/**\n",
       " * Handle when a new output is added\n",
       " */\n",
       "function handle_add_output(event, handle) {\n",
       "  var output_area = handle.output_area;\n",
       "  var output = handle.output;\n",
       "  if ((output.data == undefined) || (!output.data.hasOwnProperty(EXEC_MIME_TYPE))) {\n",
       "    return\n",
       "  }\n",
       "  var id = output.metadata[EXEC_MIME_TYPE][\"id\"];\n",
       "  var toinsert = output_area.element.find(\".\" + CLASS_NAME.split(' ')[0]);\n",
       "  if (id !== undefined) {\n",
       "    var nchildren = toinsert.length;\n",
       "    var html_node = toinsert[nchildren-1].children[0];\n",
       "    html_node.innerHTML = output.data[HTML_MIME_TYPE];\n",
       "    var scripts = [];\n",
       "    var nodelist = html_node.querySelectorAll(\"script\");\n",
       "    for (var i in nodelist) {\n",
       "      if (nodelist.hasOwnProperty(i)) {\n",
       "        scripts.push(nodelist[i])\n",
       "      }\n",
       "    }\n",
       "\n",
       "    scripts.forEach( function (oldScript) {\n",
       "      var newScript = document.createElement(\"script\");\n",
       "      var attrs = [];\n",
       "      var nodemap = oldScript.attributes;\n",
       "      for (var j in nodemap) {\n",
       "        if (nodemap.hasOwnProperty(j)) {\n",
       "          attrs.push(nodemap[j])\n",
       "        }\n",
       "      }\n",
       "      attrs.forEach(function(attr) { newScript.setAttribute(attr.name, attr.value) });\n",
       "      newScript.appendChild(document.createTextNode(oldScript.innerHTML));\n",
       "      oldScript.parentNode.replaceChild(newScript, oldScript);\n",
       "    });\n",
       "    if (JS_MIME_TYPE in output.data) {\n",
       "      toinsert[nchildren-1].children[1].textContent = output.data[JS_MIME_TYPE];\n",
       "    }\n",
       "    output_area._hv_plot_id = id;\n",
       "    if ((window.Bokeh !== undefined) && (id in Bokeh.index)) {\n",
       "      window.PyViz.plot_index[id] = Bokeh.index[id];\n",
       "    } else {\n",
       "      window.PyViz.plot_index[id] = null;\n",
       "    }\n",
       "  } else if (output.metadata[EXEC_MIME_TYPE][\"server_id\"] !== undefined) {\n",
       "    var bk_div = document.createElement(\"div\");\n",
       "    bk_div.innerHTML = output.data[HTML_MIME_TYPE];\n",
       "    var script_attrs = bk_div.children[0].attributes;\n",
       "    for (var i = 0; i < script_attrs.length; i++) {\n",
       "      toinsert[toinsert.length - 1].childNodes[1].setAttribute(script_attrs[i].name, script_attrs[i].value);\n",
       "    }\n",
       "    // store reference to server id on output_area\n",
       "    output_area._bokeh_server_id = output.metadata[EXEC_MIME_TYPE][\"server_id\"];\n",
       "  }\n",
       "}\n",
       "\n",
       "/**\n",
       " * Handle when an output is cleared or removed\n",
       " */\n",
       "function handle_clear_output(event, handle) {\n",
       "  var id = handle.cell.output_area._hv_plot_id;\n",
       "  var server_id = handle.cell.output_area._bokeh_server_id;\n",
       "  if (((id === undefined) || !(id in PyViz.plot_index)) && (server_id !== undefined)) { return; }\n",
       "  var comm = window.PyViz.comm_manager.get_client_comm(\"hv-extension-comm\", \"hv-extension-comm\", function () {});\n",
       "  if (server_id !== null) {\n",
       "    comm.send({event_type: 'server_delete', 'id': server_id});\n",
       "    return;\n",
       "  } else if (comm !== null) {\n",
       "    comm.send({event_type: 'delete', 'id': id});\n",
       "  }\n",
       "  delete PyViz.plot_index[id];\n",
       "  if ((window.Bokeh !== undefined) & (id in window.Bokeh.index)) {\n",
       "    var doc = window.Bokeh.index[id].model.document\n",
       "    doc.clear();\n",
       "    const i = window.Bokeh.documents.indexOf(doc);\n",
       "    if (i > -1) {\n",
       "      window.Bokeh.documents.splice(i, 1);\n",
       "    }\n",
       "  }\n",
       "}\n",
       "\n",
       "/**\n",
       " * Handle kernel restart event\n",
       " */\n",
       "function handle_kernel_cleanup(event, handle) {\n",
       "  delete PyViz.comms[\"hv-extension-comm\"];\n",
       "  window.PyViz.plot_index = {}\n",
       "}\n",
       "\n",
       "/**\n",
       " * Handle update_display_data messages\n",
       " */\n",
       "function handle_update_output(event, handle) {\n",
       "  handle_clear_output(event, {cell: {output_area: handle.output_area}})\n",
       "  handle_add_output(event, handle)\n",
       "}\n",
       "\n",
       "function register_renderer(events, OutputArea) {\n",
       "  function append_mime(data, metadata, element) {\n",
       "    // create a DOM node to render to\n",
       "    var toinsert = this.create_output_subarea(\n",
       "    metadata,\n",
       "    CLASS_NAME,\n",
       "    EXEC_MIME_TYPE\n",
       "    );\n",
       "    this.keyboard_manager.register_events(toinsert);\n",
       "    // Render to node\n",
       "    var props = {data: data, metadata: metadata[EXEC_MIME_TYPE]};\n",
       "    render(props, toinsert[0]);\n",
       "    element.append(toinsert);\n",
       "    return toinsert\n",
       "  }\n",
       "\n",
       "  events.on('output_added.OutputArea', handle_add_output);\n",
       "  events.on('output_updated.OutputArea', handle_update_output);\n",
       "  events.on('clear_output.CodeCell', handle_clear_output);\n",
       "  events.on('delete.Cell', handle_clear_output);\n",
       "  events.on('kernel_ready.Kernel', handle_kernel_cleanup);\n",
       "\n",
       "  OutputArea.prototype.register_mime_type(EXEC_MIME_TYPE, append_mime, {\n",
       "    safe: true,\n",
       "    index: 0\n",
       "  });\n",
       "}\n",
       "\n",
       "if (window.Jupyter !== undefined) {\n",
       "  try {\n",
       "    var events = require('base/js/events');\n",
       "    var OutputArea = require('notebook/js/outputarea').OutputArea;\n",
       "    if (OutputArea.prototype.mime_types().indexOf(EXEC_MIME_TYPE) == -1) {\n",
       "      register_renderer(events, OutputArea);\n",
       "    }\n",
       "  } catch(err) {\n",
       "  }\n",
       "}\n"
      ],
      "application/vnd.holoviews_load.v0+json": "\nif ((window.PyViz === undefined) || (window.PyViz instanceof HTMLElement)) {\n  window.PyViz = {comms: {}, comm_status:{}, kernels:{}, receivers: {}, plot_index: []}\n}\n\n\n    function JupyterCommManager() {\n    }\n\n    JupyterCommManager.prototype.register_target = function(plot_id, comm_id, msg_handler) {\n      if (window.comm_manager || ((window.Jupyter !== undefined) && (Jupyter.notebook.kernel != null))) {\n        var comm_manager = window.comm_manager || Jupyter.notebook.kernel.comm_manager;\n        comm_manager.register_target(comm_id, function(comm) {\n          comm.on_msg(msg_handler);\n        });\n      } else if ((plot_id in window.PyViz.kernels) && (window.PyViz.kernels[plot_id])) {\n        window.PyViz.kernels[plot_id].registerCommTarget(comm_id, function(comm) {\n          comm.onMsg = msg_handler;\n        });\n      } else if (typeof google != 'undefined' && google.colab.kernel != null) {\n        google.colab.kernel.comms.registerTarget(comm_id, (comm) => {\n          var messages = comm.messages[Symbol.asyncIterator]();\n          function processIteratorResult(result) {\n            var message = result.value;\n            console.log(message)\n            var content = {data: message.data, comm_id};\n            var buffers = []\n            for (var buffer of message.buffers || []) {\n              buffers.push(new DataView(buffer))\n            }\n            var metadata = message.metadata || {};\n            var msg = {content, buffers, metadata}\n            msg_handler(msg);\n            return messages.next().then(processIteratorResult);\n          }\n          return messages.next().then(processIteratorResult);\n        })\n      }\n    }\n\n    JupyterCommManager.prototype.get_client_comm = function(plot_id, comm_id, msg_handler) {\n      if (comm_id in window.PyViz.comms) {\n        return window.PyViz.comms[comm_id];\n      } else if (window.comm_manager || ((window.Jupyter !== undefined) && (Jupyter.notebook.kernel != null))) {\n        var comm_manager = window.comm_manager || Jupyter.notebook.kernel.comm_manager;\n        var comm = comm_manager.new_comm(comm_id, {}, {}, {}, comm_id);\n        if (msg_handler) {\n          comm.on_msg(msg_handler);\n        }\n      } else if ((plot_id in window.PyViz.kernels) && (window.PyViz.kernels[plot_id])) {\n        var comm = window.PyViz.kernels[plot_id].connectToComm(comm_id);\n        comm.open();\n        if (msg_handler) {\n          comm.onMsg = msg_handler;\n        }\n      } else if (typeof google != 'undefined' && google.colab.kernel != null) {\n        var comm_promise = google.colab.kernel.comms.open(comm_id)\n        comm_promise.then((comm) => {\n          window.PyViz.comms[comm_id] = comm;\n          if (msg_handler) {\n            var messages = comm.messages[Symbol.asyncIterator]();\n            function processIteratorResult(result) {\n              var message = result.value;\n              var content = {data: message.data};\n              var metadata = message.metadata || {comm_id};\n              var msg = {content, metadata}\n              msg_handler(msg);\n              return messages.next().then(processIteratorResult);\n            }\n            return messages.next().then(processIteratorResult);\n          }\n        }) \n        var sendClosure = (data, metadata, buffers, disposeOnDone) => {\n          return comm_promise.then((comm) => {\n            comm.send(data, metadata, buffers, disposeOnDone);\n          });\n        };\n        var comm = {\n          send: sendClosure\n        };\n      }\n      window.PyViz.comms[comm_id] = comm;\n      return comm;\n    }\n    window.PyViz.comm_manager = new JupyterCommManager();\n    \n\n\nvar JS_MIME_TYPE = 'application/javascript';\nvar HTML_MIME_TYPE = 'text/html';\nvar EXEC_MIME_TYPE = 'application/vnd.holoviews_exec.v0+json';\nvar CLASS_NAME = 'output';\n\n/**\n * Render data to the DOM node\n */\nfunction render(props, node) {\n  var div = document.createElement(\"div\");\n  var script = document.createElement(\"script\");\n  node.appendChild(div);\n  node.appendChild(script);\n}\n\n/**\n * Handle when a new output is added\n */\nfunction handle_add_output(event, handle) {\n  var output_area = handle.output_area;\n  var output = handle.output;\n  if ((output.data == undefined) || (!output.data.hasOwnProperty(EXEC_MIME_TYPE))) {\n    return\n  }\n  var id = output.metadata[EXEC_MIME_TYPE][\"id\"];\n  var toinsert = output_area.element.find(\".\" + CLASS_NAME.split(' ')[0]);\n  if (id !== undefined) {\n    var nchildren = toinsert.length;\n    var html_node = toinsert[nchildren-1].children[0];\n    html_node.innerHTML = output.data[HTML_MIME_TYPE];\n    var scripts = [];\n    var nodelist = html_node.querySelectorAll(\"script\");\n    for (var i in nodelist) {\n      if (nodelist.hasOwnProperty(i)) {\n        scripts.push(nodelist[i])\n      }\n    }\n\n    scripts.forEach( function (oldScript) {\n      var newScript = document.createElement(\"script\");\n      var attrs = [];\n      var nodemap = oldScript.attributes;\n      for (var j in nodemap) {\n        if (nodemap.hasOwnProperty(j)) {\n          attrs.push(nodemap[j])\n        }\n      }\n      attrs.forEach(function(attr) { newScript.setAttribute(attr.name, attr.value) });\n      newScript.appendChild(document.createTextNode(oldScript.innerHTML));\n      oldScript.parentNode.replaceChild(newScript, oldScript);\n    });\n    if (JS_MIME_TYPE in output.data) {\n      toinsert[nchildren-1].children[1].textContent = output.data[JS_MIME_TYPE];\n    }\n    output_area._hv_plot_id = id;\n    if ((window.Bokeh !== undefined) && (id in Bokeh.index)) {\n      window.PyViz.plot_index[id] = Bokeh.index[id];\n    } else {\n      window.PyViz.plot_index[id] = null;\n    }\n  } else if (output.metadata[EXEC_MIME_TYPE][\"server_id\"] !== undefined) {\n    var bk_div = document.createElement(\"div\");\n    bk_div.innerHTML = output.data[HTML_MIME_TYPE];\n    var script_attrs = bk_div.children[0].attributes;\n    for (var i = 0; i < script_attrs.length; i++) {\n      toinsert[toinsert.length - 1].childNodes[1].setAttribute(script_attrs[i].name, script_attrs[i].value);\n    }\n    // store reference to server id on output_area\n    output_area._bokeh_server_id = output.metadata[EXEC_MIME_TYPE][\"server_id\"];\n  }\n}\n\n/**\n * Handle when an output is cleared or removed\n */\nfunction handle_clear_output(event, handle) {\n  var id = handle.cell.output_area._hv_plot_id;\n  var server_id = handle.cell.output_area._bokeh_server_id;\n  if (((id === undefined) || !(id in PyViz.plot_index)) && (server_id !== undefined)) { return; }\n  var comm = window.PyViz.comm_manager.get_client_comm(\"hv-extension-comm\", \"hv-extension-comm\", function () {});\n  if (server_id !== null) {\n    comm.send({event_type: 'server_delete', 'id': server_id});\n    return;\n  } else if (comm !== null) {\n    comm.send({event_type: 'delete', 'id': id});\n  }\n  delete PyViz.plot_index[id];\n  if ((window.Bokeh !== undefined) & (id in window.Bokeh.index)) {\n    var doc = window.Bokeh.index[id].model.document\n    doc.clear();\n    const i = window.Bokeh.documents.indexOf(doc);\n    if (i > -1) {\n      window.Bokeh.documents.splice(i, 1);\n    }\n  }\n}\n\n/**\n * Handle kernel restart event\n */\nfunction handle_kernel_cleanup(event, handle) {\n  delete PyViz.comms[\"hv-extension-comm\"];\n  window.PyViz.plot_index = {}\n}\n\n/**\n * Handle update_display_data messages\n */\nfunction handle_update_output(event, handle) {\n  handle_clear_output(event, {cell: {output_area: handle.output_area}})\n  handle_add_output(event, handle)\n}\n\nfunction register_renderer(events, OutputArea) {\n  function append_mime(data, metadata, element) {\n    // create a DOM node to render to\n    var toinsert = this.create_output_subarea(\n    metadata,\n    CLASS_NAME,\n    EXEC_MIME_TYPE\n    );\n    this.keyboard_manager.register_events(toinsert);\n    // Render to node\n    var props = {data: data, metadata: metadata[EXEC_MIME_TYPE]};\n    render(props, toinsert[0]);\n    element.append(toinsert);\n    return toinsert\n  }\n\n  events.on('output_added.OutputArea', handle_add_output);\n  events.on('output_updated.OutputArea', handle_update_output);\n  events.on('clear_output.CodeCell', handle_clear_output);\n  events.on('delete.Cell', handle_clear_output);\n  events.on('kernel_ready.Kernel', handle_kernel_cleanup);\n\n  OutputArea.prototype.register_mime_type(EXEC_MIME_TYPE, append_mime, {\n    safe: true,\n    index: 0\n  });\n}\n\nif (window.Jupyter !== undefined) {\n  try {\n    var events = require('base/js/events');\n    var OutputArea = require('notebook/js/outputarea').OutputArea;\n    if (OutputArea.prototype.mime_types().indexOf(EXEC_MIME_TYPE) == -1) {\n      register_renderer(events, OutputArea);\n    }\n  } catch(err) {\n  }\n}\n"
     },
     "metadata": {},
     "output_type": "display_data"
    },
    {
     "data": {
      "application/vnd.holoviews_exec.v0+json": "",
      "text/html": [
       "<div id='1b34f2b9-1cc0-469f-8817-e7ab8237fc8d'>\n",
       "  <div id=\"dddd1046-300d-4c56-b6dd-0a8f764c5338\" data-root-id=\"1b34f2b9-1cc0-469f-8817-e7ab8237fc8d\" style=\"display: contents;\"></div>\n",
       "</div>\n",
       "<script type=\"application/javascript\">(function(root) {\n",
       "  var docs_json = {\"596d17da-c02d-447c-b9bd-4ce12f7a1773\":{\"version\":\"3.6.0\",\"title\":\"Bokeh Application\",\"roots\":[{\"type\":\"object\",\"name\":\"panel.models.browser.BrowserInfo\",\"id\":\"1b34f2b9-1cc0-469f-8817-e7ab8237fc8d\"},{\"type\":\"object\",\"name\":\"panel.models.comm_manager.CommManager\",\"id\":\"8b372846-f0b8-4a18-aaf8-3901e8922e1c\",\"attributes\":{\"plot_id\":\"1b34f2b9-1cc0-469f-8817-e7ab8237fc8d\",\"comm_id\":\"1e7a8538a63340ce8cd3534653424997\",\"client_comm_id\":\"893d5819dc2046ca9515c96aa8750ea5\"}}],\"defs\":[{\"type\":\"model\",\"name\":\"ReactiveHTML1\"},{\"type\":\"model\",\"name\":\"FlexBox1\",\"properties\":[{\"name\":\"align_content\",\"kind\":\"Any\",\"default\":\"flex-start\"},{\"name\":\"align_items\",\"kind\":\"Any\",\"default\":\"flex-start\"},{\"name\":\"flex_direction\",\"kind\":\"Any\",\"default\":\"row\"},{\"name\":\"flex_wrap\",\"kind\":\"Any\",\"default\":\"wrap\"},{\"name\":\"gap\",\"kind\":\"Any\",\"default\":\"\"},{\"name\":\"justify_content\",\"kind\":\"Any\",\"default\":\"flex-start\"}]},{\"type\":\"model\",\"name\":\"FloatPanel1\",\"properties\":[{\"name\":\"config\",\"kind\":\"Any\",\"default\":{\"type\":\"map\"}},{\"name\":\"contained\",\"kind\":\"Any\",\"default\":true},{\"name\":\"position\",\"kind\":\"Any\",\"default\":\"right-top\"},{\"name\":\"offsetx\",\"kind\":\"Any\",\"default\":null},{\"name\":\"offsety\",\"kind\":\"Any\",\"default\":null},{\"name\":\"theme\",\"kind\":\"Any\",\"default\":\"primary\"},{\"name\":\"status\",\"kind\":\"Any\",\"default\":\"normalized\"}]},{\"type\":\"model\",\"name\":\"GridStack1\",\"properties\":[{\"name\":\"mode\",\"kind\":\"Any\",\"default\":\"warn\"},{\"name\":\"ncols\",\"kind\":\"Any\",\"default\":null},{\"name\":\"nrows\",\"kind\":\"Any\",\"default\":null},{\"name\":\"allow_resize\",\"kind\":\"Any\",\"default\":true},{\"name\":\"allow_drag\",\"kind\":\"Any\",\"default\":true},{\"name\":\"state\",\"kind\":\"Any\",\"default\":[]}]},{\"type\":\"model\",\"name\":\"drag1\",\"properties\":[{\"name\":\"slider_width\",\"kind\":\"Any\",\"default\":5},{\"name\":\"slider_color\",\"kind\":\"Any\",\"default\":\"black\"},{\"name\":\"value\",\"kind\":\"Any\",\"default\":50}]},{\"type\":\"model\",\"name\":\"click1\",\"properties\":[{\"name\":\"terminal_output\",\"kind\":\"Any\",\"default\":\"\"},{\"name\":\"debug_name\",\"kind\":\"Any\",\"default\":\"\"},{\"name\":\"clears\",\"kind\":\"Any\",\"default\":0}]},{\"type\":\"model\",\"name\":\"FastWrapper1\",\"properties\":[{\"name\":\"object\",\"kind\":\"Any\",\"default\":null},{\"name\":\"style\",\"kind\":\"Any\",\"default\":null}]},{\"type\":\"model\",\"name\":\"NotificationAreaBase1\",\"properties\":[{\"name\":\"js_events\",\"kind\":\"Any\",\"default\":{\"type\":\"map\"}},{\"name\":\"position\",\"kind\":\"Any\",\"default\":\"bottom-right\"},{\"name\":\"_clear\",\"kind\":\"Any\",\"default\":0}]},{\"type\":\"model\",\"name\":\"NotificationArea1\",\"properties\":[{\"name\":\"js_events\",\"kind\":\"Any\",\"default\":{\"type\":\"map\"}},{\"name\":\"notifications\",\"kind\":\"Any\",\"default\":[]},{\"name\":\"position\",\"kind\":\"Any\",\"default\":\"bottom-right\"},{\"name\":\"_clear\",\"kind\":\"Any\",\"default\":0},{\"name\":\"types\",\"kind\":\"Any\",\"default\":[{\"type\":\"map\",\"entries\":[[\"type\",\"warning\"],[\"background\",\"#ffc107\"],[\"icon\",{\"type\":\"map\",\"entries\":[[\"className\",\"fas fa-exclamation-triangle\"],[\"tagName\",\"i\"],[\"color\",\"white\"]]}]]},{\"type\":\"map\",\"entries\":[[\"type\",\"info\"],[\"background\",\"#007bff\"],[\"icon\",{\"type\":\"map\",\"entries\":[[\"className\",\"fas fa-info-circle\"],[\"tagName\",\"i\"],[\"color\",\"white\"]]}]]}]}]},{\"type\":\"model\",\"name\":\"Notification\",\"properties\":[{\"name\":\"background\",\"kind\":\"Any\",\"default\":null},{\"name\":\"duration\",\"kind\":\"Any\",\"default\":3000},{\"name\":\"icon\",\"kind\":\"Any\",\"default\":null},{\"name\":\"message\",\"kind\":\"Any\",\"default\":\"\"},{\"name\":\"notification_type\",\"kind\":\"Any\",\"default\":null},{\"name\":\"_destroyed\",\"kind\":\"Any\",\"default\":false}]},{\"type\":\"model\",\"name\":\"TemplateActions1\",\"properties\":[{\"name\":\"open_modal\",\"kind\":\"Any\",\"default\":0},{\"name\":\"close_modal\",\"kind\":\"Any\",\"default\":0}]},{\"type\":\"model\",\"name\":\"BootstrapTemplateActions1\",\"properties\":[{\"name\":\"open_modal\",\"kind\":\"Any\",\"default\":0},{\"name\":\"close_modal\",\"kind\":\"Any\",\"default\":0}]},{\"type\":\"model\",\"name\":\"TemplateEditor1\",\"properties\":[{\"name\":\"layout\",\"kind\":\"Any\",\"default\":[]}]},{\"type\":\"model\",\"name\":\"MaterialTemplateActions1\",\"properties\":[{\"name\":\"open_modal\",\"kind\":\"Any\",\"default\":0},{\"name\":\"close_modal\",\"kind\":\"Any\",\"default\":0}]},{\"type\":\"model\",\"name\":\"ReactiveESM1\"},{\"type\":\"model\",\"name\":\"JSComponent1\"},{\"type\":\"model\",\"name\":\"ReactComponent1\"},{\"type\":\"model\",\"name\":\"AnyWidgetComponent1\"},{\"type\":\"model\",\"name\":\"request_value1\",\"properties\":[{\"name\":\"fill\",\"kind\":\"Any\",\"default\":\"none\"},{\"name\":\"_synced\",\"kind\":\"Any\",\"default\":null},{\"name\":\"_request_sync\",\"kind\":\"Any\",\"default\":0}]}]}};\n",
       "  var render_items = [{\"docid\":\"596d17da-c02d-447c-b9bd-4ce12f7a1773\",\"roots\":{\"1b34f2b9-1cc0-469f-8817-e7ab8237fc8d\":\"dddd1046-300d-4c56-b6dd-0a8f764c5338\"},\"root_ids\":[\"1b34f2b9-1cc0-469f-8817-e7ab8237fc8d\"]}];\n",
       "  var docs = Object.values(docs_json)\n",
       "  if (!docs) {\n",
       "    return\n",
       "  }\n",
       "  const py_version = docs[0].version.replace('rc', '-rc.').replace('.dev', '-dev.')\n",
       "  async function embed_document(root) {\n",
       "    var Bokeh = get_bokeh(root)\n",
       "    await Bokeh.embed.embed_items_notebook(docs_json, render_items);\n",
       "    for (const render_item of render_items) {\n",
       "      for (const root_id of render_item.root_ids) {\n",
       "\tconst id_el = document.getElementById(root_id)\n",
       "\tif (id_el.children.length && id_el.children[0].hasAttribute('data-root-id')) {\n",
       "\t  const root_el = id_el.children[0]\n",
       "\t  root_el.id = root_el.id + '-rendered'\n",
       "\t  for (const child of root_el.children) {\n",
       "            // Ensure JupyterLab does not capture keyboard shortcuts\n",
       "            // see: https://jupyterlab.readthedocs.io/en/4.1.x/extension/notebook.html#keyboard-interaction-model\n",
       "\t    child.setAttribute('data-lm-suppress-shortcuts', 'true')\n",
       "\t  }\n",
       "\t}\n",
       "      }\n",
       "    }\n",
       "  }\n",
       "  function get_bokeh(root) {\n",
       "    if (root.Bokeh === undefined) {\n",
       "      return null\n",
       "    } else if (root.Bokeh.version !== py_version) {\n",
       "      if (root.Bokeh.versions === undefined || !root.Bokeh.versions.has(py_version)) {\n",
       "\treturn null\n",
       "      }\n",
       "      return root.Bokeh.versions.get(py_version);\n",
       "    } else if (root.Bokeh.version === py_version) {\n",
       "      return root.Bokeh\n",
       "    }\n",
       "    return null\n",
       "  }\n",
       "  function is_loaded(root) {\n",
       "    var Bokeh = get_bokeh(root)\n",
       "    return (Bokeh != null && Bokeh.Panel !== undefined)\n",
       "  }\n",
       "  if (is_loaded(root)) {\n",
       "    embed_document(root);\n",
       "  } else {\n",
       "    var attempts = 0;\n",
       "    var timer = setInterval(function(root) {\n",
       "      if (is_loaded(root)) {\n",
       "        clearInterval(timer);\n",
       "        embed_document(root);\n",
       "      } else if (document.readyState == \"complete\") {\n",
       "        attempts++;\n",
       "        if (attempts > 200) {\n",
       "          clearInterval(timer);\n",
       "\t  var Bokeh = get_bokeh(root)\n",
       "\t  if (Bokeh == null || Bokeh.Panel == null) {\n",
       "            console.warn(\"Panel: ERROR: Unable to run Panel code because Bokeh or Panel library is missing\");\n",
       "\t  } else {\n",
       "\t    console.warn(\"Panel: WARNING: Attempting to render but not all required libraries could be resolved.\")\n",
       "\t    embed_document(root)\n",
       "\t  }\n",
       "        }\n",
       "      }\n",
       "    }, 25, root)\n",
       "  }\n",
       "})(window);</script>"
      ]
     },
     "metadata": {
      "application/vnd.holoviews_exec.v0+json": {
       "id": "1b34f2b9-1cc0-469f-8817-e7ab8237fc8d"
      }
     },
     "output_type": "display_data"
    }
   ],
   "source": [
    "import panel as pn\n",
    "import param\n",
    "\n",
    "pn.extension()\n",
    "\n",
    "class cbfs(param.Parameterized):\n",
    "    chat_history = param.List([])\n",
    "    answer = param.String(\"\")\n",
    "    db_query  = param.String(\"\")\n",
    "    db_response = param.List([])\n",
    "    \n",
    "    def __init__(self,  **params):\n",
    "        super(cbfs, self).__init__( **params)\n",
    "        self.panels = []\n",
    "        self.loaded_file = \"docs/cs229_lectures/MachineLearning-Lecture01.pdf\"\n",
    "        self.qa = load_db(\"stuff\", 4)\n",
    "    \n",
    "    def call_load_db(self, count):\n",
    "        if count == 0 or file_input.value is None:  # init or no file specified :\n",
    "            return pn.pane.Markdown(f\"Loaded File: {self.loaded_file}\")\n",
    "        else:\n",
    "            file_input.save(\"temp.pdf\")  # local copy\n",
    "            self.loaded_file = file_input.filename\n",
    "            button_load.button_style=\"outline\"\n",
    "            self.qa = load_db(\"temp.pdf\", \"stuff\", 4)\n",
    "            button_load.button_style=\"solid\"\n",
    "        self.clr_history()\n",
    "        return pn.pane.Markdown(f\"Loaded File: {self.loaded_file}\")\n",
    "\n",
    "    def convchain(self, query):\n",
    "        if not query:\n",
    "            return pn.WidgetBox(pn.Row('User:', pn.pane.Markdown(\"\", width=600)), scroll=True)\n",
    "        result = self.qa({\"question\": query, \"chat_history\": self.chat_history})\n",
    "        self.chat_history.extend([(query, result[\"answer\"])])\n",
    "        self.db_query = result[\"generated_question\"]\n",
    "        self.db_response = result[\"source_documents\"]\n",
    "        self.answer = result['answer'] \n",
    "        self.panels.extend([\n",
    "            pn.Row('User:', pn.pane.Markdown(query, width=600)),\n",
    "            pn.Row('ChatBot:', pn.pane.Markdown(self.answer, width=600, style={'background-color': '#F6F6F6'}))\n",
    "        ])\n",
    "        inp.value = ''  #clears loading indicator when cleared\n",
    "        return pn.WidgetBox(*self.panels,scroll=True)\n",
    "\n",
    "    @param.depends('db_query ', )\n",
    "    def get_lquest(self):\n",
    "        if not self.db_query :\n",
    "            return pn.Column(\n",
    "                pn.Row(pn.pane.Markdown(f\"Last question to DB:\", styles={'background-color': '#F6F6F6'})),\n",
    "                pn.Row(pn.pane.Str(\"no DB accesses so far\"))\n",
    "            )\n",
    "        return pn.Column(\n",
    "            pn.Row(pn.pane.Markdown(f\"DB query:\", styles={'background-color': '#F6F6F6'})),\n",
    "            pn.pane.Str(self.db_query )\n",
    "        )\n",
    "\n",
    "    @param.depends('db_response', )\n",
    "    def get_sources(self):\n",
    "        if not self.db_response:\n",
    "            return \n",
    "        rlist=[pn.Row(pn.pane.Markdown(f\"Result of DB lookup:\", styles={'background-color': '#F6F6F6'}))]\n",
    "        for doc in self.db_response:\n",
    "            rlist.append(pn.Row(pn.pane.Str(doc)))\n",
    "        return pn.WidgetBox(*rlist, width=600, scroll=True)\n",
    "\n",
    "    @param.depends('convchain', 'clr_history') \n",
    "    def get_chats(self):\n",
    "        if not self.chat_history:\n",
    "            return pn.WidgetBox(pn.Row(pn.pane.Str(\"No History Yet\")), width=600, scroll=True)\n",
    "        rlist=[pn.Row(pn.pane.Markdown(f\"Current Chat History variable\", styles={'background-color': '#F6F6F6'}))]\n",
    "        for exchange in self.chat_history:\n",
    "            rlist.append(pn.Row(pn.pane.Str(exchange)))\n",
    "        return pn.WidgetBox(*rlist, width=600, scroll=True)\n",
    "\n",
    "    def clr_history(self,count=0):\n",
    "        self.chat_history = []\n",
    "        return "
   ]
  },
  {
   "cell_type": "code",
   "execution_count": 175,
   "id": "0e478c5f-e3cf-4751-9cea-def6718a5205",
   "metadata": {},
   "outputs": [
    {
     "data": {},
     "metadata": {},
     "output_type": "display_data"
    },
    {
     "data": {
      "application/vnd.holoviews_exec.v0+json": "",
      "text/html": [
       "<div id='059d342c-7403-4ff2-a6f0-9d97ad7fb7bf'>\n",
       "  <div id=\"ad800b13-ddcd-4391-9a45-aced2271788e\" data-root-id=\"059d342c-7403-4ff2-a6f0-9d97ad7fb7bf\" style=\"display: contents;\"></div>\n",
       "</div>\n",
       "<script type=\"application/javascript\">(function(root) {\n",
       "  var docs_json = {\"21be1159-45fa-43ef-b4e2-5bfd32ffea2f\":{\"version\":\"3.6.0\",\"title\":\"Bokeh Application\",\"roots\":[{\"type\":\"object\",\"name\":\"panel.models.layout.Column\",\"id\":\"059d342c-7403-4ff2-a6f0-9d97ad7fb7bf\",\"attributes\":{\"name\":\"Column00269\",\"stylesheets\":[\"\\n:host(.pn-loading):before, .pn-loading:before {\\n  background-color: #c3c3c3;\\n  mask-size: auto calc(min(50%, 400px));\\n  -webkit-mask-size: auto calc(min(50%, 400px));\\n}\",{\"type\":\"object\",\"name\":\"ImportedStyleSheet\",\"id\":\"555119e9-e3be-48ce-8317-548ae303839d\",\"attributes\":{\"url\":\"https://cdn.holoviz.org/panel/1.5.3/dist/css/loading.css\"}},{\"type\":\"object\",\"name\":\"ImportedStyleSheet\",\"id\":\"5b3eb7ed-4cc0-48e8-9edd-31ae091572ee\",\"attributes\":{\"url\":\"https://cdn.holoviz.org/panel/1.5.3/dist/css/listpanel.css\"}},{\"type\":\"object\",\"name\":\"ImportedStyleSheet\",\"id\":\"7c15f0ff-1c86-4b8c-a1c3-1afb691de702\",\"attributes\":{\"url\":\"https://cdn.holoviz.org/panel/1.5.3/dist/bundled/theme/default.css\"}},{\"type\":\"object\",\"name\":\"ImportedStyleSheet\",\"id\":\"8f3fedc8-5fe7-4d47-9f8f-8b1fd81f2a60\",\"attributes\":{\"url\":\"https://cdn.holoviz.org/panel/1.5.3/dist/bundled/theme/native.css\"}}],\"margin\":0,\"align\":\"start\",\"children\":[{\"type\":\"object\",\"name\":\"Row\",\"id\":\"4c48f8da-475b-4c4e-81bf-f8eeb8093fbf\",\"attributes\":{\"name\":\"Row00267\",\"stylesheets\":[\"\\n:host(.pn-loading):before, .pn-loading:before {\\n  background-color: #c3c3c3;\\n  mask-size: auto calc(min(50%, 400px));\\n  -webkit-mask-size: auto calc(min(50%, 400px));\\n}\",{\"id\":\"555119e9-e3be-48ce-8317-548ae303839d\"},{\"id\":\"5b3eb7ed-4cc0-48e8-9edd-31ae091572ee\"},{\"id\":\"7c15f0ff-1c86-4b8c-a1c3-1afb691de702\"},{\"id\":\"8f3fedc8-5fe7-4d47-9f8f-8b1fd81f2a60\"}],\"margin\":0,\"align\":\"start\",\"children\":[{\"type\":\"object\",\"name\":\"panel.models.markup.HTML\",\"id\":\"335c77fd-ebc4-4ab4-8b18-5e3889030881\",\"attributes\":{\"css_classes\":[\"markdown\"],\"stylesheets\":[\"\\n:host(.pn-loading):before, .pn-loading:before {\\n  background-color: #c3c3c3;\\n  mask-size: auto calc(min(50%, 400px));\\n  -webkit-mask-size: auto calc(min(50%, 400px));\\n}\",{\"id\":\"555119e9-e3be-48ce-8317-548ae303839d\"},{\"type\":\"object\",\"name\":\"ImportedStyleSheet\",\"id\":\"415787a2-6628-454a-b7e3-2413cb4e6c6d\",\"attributes\":{\"url\":\"https://cdn.holoviz.org/panel/1.5.3/dist/css/markdown.css\"}},{\"id\":\"7c15f0ff-1c86-4b8c-a1c3-1afb691de702\"},{\"id\":\"8f3fedc8-5fe7-4d47-9f8f-8b1fd81f2a60\"}],\"margin\":[5,10],\"align\":\"start\",\"text\":\"&lt;h1 id=&quot;chatwithyourdata_bot&quot;&gt;ChatWithYourData_Bot &lt;a class=&quot;header-anchor&quot; href=&quot;#chatwithyourdata_bot&quot;&gt;\\u00b6&lt;/a&gt;&lt;/h1&gt;\\n\"}}]}},{\"type\":\"object\",\"name\":\"panel.models.tabs.Tabs\",\"id\":\"10fbde19-4bda-4096-a4e6-4c5ce4c3f76f\",\"attributes\":{\"stylesheets\":[\"\\n:host(.pn-loading):before, .pn-loading:before {\\n  background-color: #c3c3c3;\\n  mask-size: auto calc(min(50%, 400px));\\n  -webkit-mask-size: auto calc(min(50%, 400px));\\n}\",{\"id\":\"555119e9-e3be-48ce-8317-548ae303839d\"},{\"id\":\"7c15f0ff-1c86-4b8c-a1c3-1afb691de702\"},{\"id\":\"8f3fedc8-5fe7-4d47-9f8f-8b1fd81f2a60\"}],\"margin\":0,\"align\":\"start\",\"tabs\":[{\"type\":\"object\",\"name\":\"TabPanel\",\"id\":\"05ae6dfd-63b7-415a-b4f2-6906fb990aa0\",\"attributes\":{\"name\":\"Column00218\",\"title\":\"Conversation\",\"child\":{\"type\":\"object\",\"name\":\"panel.models.layout.Column\",\"id\":\"fbfc8b29-31d3-4d08-bb23-ad8bb70df50f\",\"attributes\":{\"name\":\"Column00218\",\"stylesheets\":[\"\\n:host(.pn-loading):before, .pn-loading:before {\\n  background-color: #c3c3c3;\\n  mask-size: auto calc(min(50%, 400px));\\n  -webkit-mask-size: auto calc(min(50%, 400px));\\n}\",{\"id\":\"555119e9-e3be-48ce-8317-548ae303839d\"},{\"id\":\"5b3eb7ed-4cc0-48e8-9edd-31ae091572ee\"},{\"id\":\"7c15f0ff-1c86-4b8c-a1c3-1afb691de702\"},{\"id\":\"8f3fedc8-5fe7-4d47-9f8f-8b1fd81f2a60\"}],\"margin\":0,\"align\":\"start\",\"children\":[{\"type\":\"object\",\"name\":\"Row\",\"id\":\"56db69b0-6257-49c9-8e78-e89492b838da\",\"attributes\":{\"name\":\"Row00203\",\"stylesheets\":[\"\\n:host(.pn-loading):before, .pn-loading:before {\\n  background-color: #c3c3c3;\\n  mask-size: auto calc(min(50%, 400px));\\n  -webkit-mask-size: auto calc(min(50%, 400px));\\n}\",{\"id\":\"555119e9-e3be-48ce-8317-548ae303839d\"},{\"id\":\"5b3eb7ed-4cc0-48e8-9edd-31ae091572ee\"},{\"id\":\"7c15f0ff-1c86-4b8c-a1c3-1afb691de702\"},{\"id\":\"8f3fedc8-5fe7-4d47-9f8f-8b1fd81f2a60\"}],\"margin\":0,\"align\":\"start\",\"children\":[{\"type\":\"object\",\"name\":\"panel.models.widgets.TextInput\",\"id\":\"f8fca0a3-e1e1-49da-8d2f-973717b8daf9\",\"attributes\":{\"js_property_callbacks\":{\"type\":\"map\",\"entries\":[[\"change:value\",[{\"type\":\"object\",\"name\":\"CustomJS\",\"id\":\"ac500e74-6815-4d83-86b2-6d4ae000848a\",\"attributes\":{\"tags\":[[140189415112208,[null,\"value\"],[null,\"loading\"]]],\"args\":{\"type\":\"map\",\"entries\":[[\"bidirectional\",false],[\"properties\",{\"type\":\"map\",\"entries\":[[\"value\",\"loading\"]]}],[\"source\",{\"id\":\"f8fca0a3-e1e1-49da-8d2f-973717b8daf9\"}],[\"target\",{\"type\":\"object\",\"name\":\"panel.models.layout.Column\",\"id\":\"6f0ce295-3ae0-4a67-aa85-3af586b6021e\",\"attributes\":{\"name\":\"Column00209\",\"stylesheets\":[\"\\n:host(.pn-loading):before, .pn-loading:before {\\n  background-color: #c3c3c3;\\n  mask-size: auto calc(min(50%, 400px));\\n  -webkit-mask-size: auto calc(min(50%, 400px));\\n}\",{\"id\":\"555119e9-e3be-48ce-8317-548ae303839d\"},{\"id\":\"5b3eb7ed-4cc0-48e8-9edd-31ae091572ee\"},{\"id\":\"7c15f0ff-1c86-4b8c-a1c3-1afb691de702\"},{\"id\":\"8f3fedc8-5fe7-4d47-9f8f-8b1fd81f2a60\"}],\"height\":300,\"min_height\":300,\"margin\":0,\"align\":\"start\",\"children\":[{\"type\":\"object\",\"name\":\"panel.models.layout.Column\",\"id\":\"d8ae12f8-57e4-4d32-8386-8c2ab90dad9e\",\"attributes\":{\"name\":\"WidgetBox00216\",\"css_classes\":[\"panel-widget-box\",\"scrollable-vertical\"],\"stylesheets\":[\"\\n:host(.pn-loading):before, .pn-loading:before {\\n  background-color: #c3c3c3;\\n  mask-size: auto calc(min(50%, 400px));\\n  -webkit-mask-size: auto calc(min(50%, 400px));\\n}\",{\"id\":\"555119e9-e3be-48ce-8317-548ae303839d\"},{\"type\":\"object\",\"name\":\"ImportedStyleSheet\",\"id\":\"4e2948d8-ac8a-48db-b35c-97f651875709\",\"attributes\":{\"url\":\"https://cdn.holoviz.org/panel/1.5.3/dist/css/widgetbox.css\"}},{\"id\":\"5b3eb7ed-4cc0-48e8-9edd-31ae091572ee\"},{\"id\":\"7c15f0ff-1c86-4b8c-a1c3-1afb691de702\"},{\"id\":\"8f3fedc8-5fe7-4d47-9f8f-8b1fd81f2a60\"}],\"margin\":0,\"align\":\"start\",\"children\":[{\"type\":\"object\",\"name\":\"Row\",\"id\":\"180c7d84-6c82-4ee8-a909-7bd4b59b0514\",\"attributes\":{\"name\":\"Row00213\",\"stylesheets\":[\"\\n:host(.pn-loading):before, .pn-loading:before {\\n  background-color: #c3c3c3;\\n  mask-size: auto calc(min(50%, 400px));\\n  -webkit-mask-size: auto calc(min(50%, 400px));\\n}\",{\"id\":\"555119e9-e3be-48ce-8317-548ae303839d\"},{\"id\":\"5b3eb7ed-4cc0-48e8-9edd-31ae091572ee\"},{\"id\":\"7c15f0ff-1c86-4b8c-a1c3-1afb691de702\"},{\"id\":\"8f3fedc8-5fe7-4d47-9f8f-8b1fd81f2a60\"}],\"margin\":0,\"align\":\"start\",\"children\":[{\"type\":\"object\",\"name\":\"panel.models.markup.HTML\",\"id\":\"7dd47d62-9dc6-4d00-80cd-32e80fba6614\",\"attributes\":{\"css_classes\":[\"markdown\"],\"stylesheets\":[\"\\n:host(.pn-loading):before, .pn-loading:before {\\n  background-color: #c3c3c3;\\n  mask-size: auto calc(min(50%, 400px));\\n  -webkit-mask-size: auto calc(min(50%, 400px));\\n}\",{\"id\":\"555119e9-e3be-48ce-8317-548ae303839d\"},{\"id\":\"415787a2-6628-454a-b7e3-2413cb4e6c6d\"},{\"id\":\"7c15f0ff-1c86-4b8c-a1c3-1afb691de702\"},{\"id\":\"8f3fedc8-5fe7-4d47-9f8f-8b1fd81f2a60\"}],\"margin\":[5,10],\"align\":\"start\",\"text\":\"&lt;p&gt;User:&lt;/p&gt;\\n\"}},{\"type\":\"object\",\"name\":\"panel.models.markup.HTML\",\"id\":\"4f2bc19e-3b22-4261-8d3a-540041972453\",\"attributes\":{\"css_classes\":[\"markdown\"],\"stylesheets\":[\"\\n:host(.pn-loading):before, .pn-loading:before {\\n  background-color: #c3c3c3;\\n  mask-size: auto calc(min(50%, 400px));\\n  -webkit-mask-size: auto calc(min(50%, 400px));\\n}\",{\"id\":\"555119e9-e3be-48ce-8317-548ae303839d\"},{\"id\":\"415787a2-6628-454a-b7e3-2413cb4e6c6d\"},{\"id\":\"7c15f0ff-1c86-4b8c-a1c3-1afb691de702\"},{\"id\":\"8f3fedc8-5fe7-4d47-9f8f-8b1fd81f2a60\"}],\"width\":600,\"min_width\":600,\"margin\":[5,10],\"align\":\"start\"}}]}}]}}]}}]]},\"code\":\"\\n    if ('value'.startsWith('event:')) {\\n      var value = true\\n    } else {\\n      var value = source['value'];\\n      value = value;\\n    }\\n    if (typeof value !== 'boolean' || source.labels !== ['Loading']) {\\n      value = true\\n    }\\n    var css_classes = target.css_classes.slice()\\n    var loading_css = ['pn-loading', 'pn-arc']\\n    if (value) {\\n      for (var css of loading_css) {\\n        if (!(css in css_classes)) {\\n          css_classes.push(css)\\n        }\\n      }\\n    } else {\\n     for (var css of loading_css) {\\n        var index = css_classes.indexOf(css)\\n        if (index > -1) {\\n          css_classes.splice(index, 1)\\n        }\\n      }\\n    }\\n    target['css_classes'] = css_classes\\n    \"}}]]]},\"subscribed_events\":{\"type\":\"set\",\"entries\":[\"enter-pressed\"]},\"stylesheets\":[\"\\n:host(.pn-loading):before, .pn-loading:before {\\n  background-color: #c3c3c3;\\n  mask-size: auto calc(min(50%, 400px));\\n  -webkit-mask-size: auto calc(min(50%, 400px));\\n}\",{\"id\":\"555119e9-e3be-48ce-8317-548ae303839d\"},{\"id\":\"7c15f0ff-1c86-4b8c-a1c3-1afb691de702\"},{\"id\":\"8f3fedc8-5fe7-4d47-9f8f-8b1fd81f2a60\"}],\"width\":300,\"min_width\":300,\"margin\":[5,10],\"align\":\"start\",\"placeholder\":\"Enter text here\\u2026\",\"max_length\":5000}}]}},{\"type\":\"object\",\"name\":\"Div\",\"id\":\"3d97c28b-2e80-4150-b663-f70645c34ffb\",\"attributes\":{\"name\":\"Divider00204\",\"stylesheets\":[\"\\n:host(.pn-loading):before, .pn-loading:before {\\n  background-color: #c3c3c3;\\n  mask-size: auto calc(min(50%, 400px));\\n  -webkit-mask-size: auto calc(min(50%, 400px));\\n}\",{\"type\":\"object\",\"name\":\"ImportedStyleSheet\",\"id\":\"c3422f8f-259b-497c-9b7f-e6c5179405da\",\"attributes\":{\"url\":\"https://cdn.holoviz.org/panel/1.5.3/dist/css/loading.css\"}},{\"type\":\"object\",\"name\":\"ImportedStyleSheet\",\"id\":\"347f19eb-e20d-405d-b429-5a47beff3e90\",\"attributes\":{\"url\":\"https://cdn.holoviz.org/panel/1.5.3/dist/css/divider.css\"}}],\"margin\":0,\"width_policy\":\"fit\",\"align\":\"start\",\"text\":\"<hr>\"}},{\"id\":\"6f0ce295-3ae0-4a67-aa85-3af586b6021e\"},{\"type\":\"object\",\"name\":\"Div\",\"id\":\"22e70cf2-bc50-4cfb-b730-9e135ecc3d92\",\"attributes\":{\"name\":\"Divider00217\",\"stylesheets\":[\"\\n:host(.pn-loading):before, .pn-loading:before {\\n  background-color: #c3c3c3;\\n  mask-size: auto calc(min(50%, 400px));\\n  -webkit-mask-size: auto calc(min(50%, 400px));\\n}\",{\"type\":\"object\",\"name\":\"ImportedStyleSheet\",\"id\":\"3fa4addf-c2ec-466a-b2ef-73bcbf8f26e5\",\"attributes\":{\"url\":\"https://cdn.holoviz.org/panel/1.5.3/dist/css/loading.css\"}},{\"type\":\"object\",\"name\":\"ImportedStyleSheet\",\"id\":\"c87fb3e6-5690-40f4-9c8d-d21265f0245b\",\"attributes\":{\"url\":\"https://cdn.holoviz.org/panel/1.5.3/dist/css/divider.css\"}}],\"margin\":0,\"width_policy\":\"fit\",\"align\":\"start\",\"text\":\"<hr>\"}}]}}}},{\"type\":\"object\",\"name\":\"TabPanel\",\"id\":\"6868ecb0-2a65-4e6f-a228-95c8a07766b3\",\"attributes\":{\"name\":\"Column00237\",\"title\":\"Database\",\"child\":{\"type\":\"object\",\"name\":\"panel.models.layout.Column\",\"id\":\"19ffaaf3-83e7-4445-86fb-b30d082eeee3\",\"attributes\":{\"name\":\"Column00237\",\"stylesheets\":[\"\\n:host(.pn-loading):before, .pn-loading:before {\\n  background-color: #c3c3c3;\\n  mask-size: auto calc(min(50%, 400px));\\n  -webkit-mask-size: auto calc(min(50%, 400px));\\n}\",{\"id\":\"555119e9-e3be-48ce-8317-548ae303839d\"},{\"id\":\"5b3eb7ed-4cc0-48e8-9edd-31ae091572ee\"},{\"id\":\"7c15f0ff-1c86-4b8c-a1c3-1afb691de702\"},{\"id\":\"8f3fedc8-5fe7-4d47-9f8f-8b1fd81f2a60\"}],\"margin\":0,\"align\":\"start\",\"children\":[{\"type\":\"object\",\"name\":\"panel.models.layout.Column\",\"id\":\"10d2acbe-1990-478e-88dd-999da44bc07d\",\"attributes\":{\"name\":\"Column00223\",\"stylesheets\":[\"\\n:host(.pn-loading):before, .pn-loading:before {\\n  background-color: #c3c3c3;\\n  mask-size: auto calc(min(50%, 400px));\\n  -webkit-mask-size: auto calc(min(50%, 400px));\\n}\",{\"id\":\"555119e9-e3be-48ce-8317-548ae303839d\"},{\"id\":\"5b3eb7ed-4cc0-48e8-9edd-31ae091572ee\"},{\"id\":\"7c15f0ff-1c86-4b8c-a1c3-1afb691de702\"},{\"id\":\"8f3fedc8-5fe7-4d47-9f8f-8b1fd81f2a60\"}],\"margin\":0,\"align\":\"start\",\"children\":[{\"type\":\"object\",\"name\":\"panel.models.layout.Column\",\"id\":\"06b428a9-7ca5-47b7-b19c-7f21d598948e\",\"attributes\":{\"name\":\"Column00230\",\"stylesheets\":[\"\\n:host(.pn-loading):before, .pn-loading:before {\\n  background-color: #c3c3c3;\\n  mask-size: auto calc(min(50%, 400px));\\n  -webkit-mask-size: auto calc(min(50%, 400px));\\n}\",{\"id\":\"555119e9-e3be-48ce-8317-548ae303839d\"},{\"id\":\"5b3eb7ed-4cc0-48e8-9edd-31ae091572ee\"},{\"id\":\"7c15f0ff-1c86-4b8c-a1c3-1afb691de702\"},{\"id\":\"8f3fedc8-5fe7-4d47-9f8f-8b1fd81f2a60\"}],\"margin\":0,\"align\":\"start\",\"children\":[{\"type\":\"object\",\"name\":\"Row\",\"id\":\"4b0a761e-f440-4340-bcf7-d94843d3e4f0\",\"attributes\":{\"name\":\"Row00226\",\"stylesheets\":[\"\\n:host(.pn-loading):before, .pn-loading:before {\\n  background-color: #c3c3c3;\\n  mask-size: auto calc(min(50%, 400px));\\n  -webkit-mask-size: auto calc(min(50%, 400px));\\n}\",{\"id\":\"555119e9-e3be-48ce-8317-548ae303839d\"},{\"id\":\"5b3eb7ed-4cc0-48e8-9edd-31ae091572ee\"},{\"id\":\"7c15f0ff-1c86-4b8c-a1c3-1afb691de702\"},{\"id\":\"8f3fedc8-5fe7-4d47-9f8f-8b1fd81f2a60\"}],\"margin\":0,\"align\":\"start\",\"children\":[{\"type\":\"object\",\"name\":\"panel.models.markup.HTML\",\"id\":\"27d625e9-5796-4d33-a277-5b54940a39ca\",\"attributes\":{\"css_classes\":[\"markdown\"],\"styles\":{\"type\":\"map\",\"entries\":[[\"background-color\",\"#F6F6F6\"]]},\"stylesheets\":[\"\\n:host(.pn-loading):before, .pn-loading:before {\\n  background-color: #c3c3c3;\\n  mask-size: auto calc(min(50%, 400px));\\n  -webkit-mask-size: auto calc(min(50%, 400px));\\n}\",{\"id\":\"555119e9-e3be-48ce-8317-548ae303839d\"},{\"id\":\"415787a2-6628-454a-b7e3-2413cb4e6c6d\"},{\"id\":\"7c15f0ff-1c86-4b8c-a1c3-1afb691de702\"},{\"id\":\"8f3fedc8-5fe7-4d47-9f8f-8b1fd81f2a60\"}],\"margin\":[5,10],\"align\":\"start\",\"text\":\"&lt;p&gt;Last question to DB:&lt;/p&gt;\\n\"}}]}},{\"type\":\"object\",\"name\":\"Row\",\"id\":\"bd1da631-a461-4872-940b-e5fed619834a\",\"attributes\":{\"name\":\"Row00229\",\"stylesheets\":[\"\\n:host(.pn-loading):before, .pn-loading:before {\\n  background-color: #c3c3c3;\\n  mask-size: auto calc(min(50%, 400px));\\n  -webkit-mask-size: auto calc(min(50%, 400px));\\n}\",{\"id\":\"555119e9-e3be-48ce-8317-548ae303839d\"},{\"id\":\"5b3eb7ed-4cc0-48e8-9edd-31ae091572ee\"},{\"id\":\"7c15f0ff-1c86-4b8c-a1c3-1afb691de702\"},{\"id\":\"8f3fedc8-5fe7-4d47-9f8f-8b1fd81f2a60\"}],\"margin\":0,\"align\":\"start\",\"children\":[{\"type\":\"object\",\"name\":\"panel.models.markup.HTML\",\"id\":\"2496ddbd-87c5-4cab-9884-a6a3fab82a4f\",\"attributes\":{\"stylesheets\":[\"\\n:host(.pn-loading):before, .pn-loading:before {\\n  background-color: #c3c3c3;\\n  mask-size: auto calc(min(50%, 400px));\\n  -webkit-mask-size: auto calc(min(50%, 400px));\\n}\",{\"id\":\"555119e9-e3be-48ce-8317-548ae303839d\"},{\"id\":\"7c15f0ff-1c86-4b8c-a1c3-1afb691de702\"},{\"id\":\"8f3fedc8-5fe7-4d47-9f8f-8b1fd81f2a60\"}],\"margin\":[5,10],\"align\":\"start\",\"text\":\"&lt;pre&gt;no DB accesses so far&lt;/pre&gt;\"}}]}}]}}]}},{\"type\":\"object\",\"name\":\"Div\",\"id\":\"1cb103ad-305d-4714-9e44-42f35826e830\",\"attributes\":{\"name\":\"Divider00231\",\"stylesheets\":[\"\\n:host(.pn-loading):before, .pn-loading:before {\\n  background-color: #c3c3c3;\\n  mask-size: auto calc(min(50%, 400px));\\n  -webkit-mask-size: auto calc(min(50%, 400px));\\n}\",{\"type\":\"object\",\"name\":\"ImportedStyleSheet\",\"id\":\"4d5c317c-5001-4e42-8aa2-ee6c7cf6bb89\",\"attributes\":{\"url\":\"https://cdn.holoviz.org/panel/1.5.3/dist/css/loading.css\"}},{\"type\":\"object\",\"name\":\"ImportedStyleSheet\",\"id\":\"0c655962-ab10-4575-886c-db93d0444e1f\",\"attributes\":{\"url\":\"https://cdn.holoviz.org/panel/1.5.3/dist/css/divider.css\"}}],\"margin\":0,\"width_policy\":\"fit\",\"align\":\"start\",\"text\":\"<hr>\"}},{\"type\":\"object\",\"name\":\"panel.models.layout.Column\",\"id\":\"2b481445-2f20-4d42-96e7-8cb904fe35b4\",\"attributes\":{\"name\":\"Column00236\",\"stylesheets\":[\"\\n:host(.pn-loading):before, .pn-loading:before {\\n  background-color: #c3c3c3;\\n  mask-size: auto calc(min(50%, 400px));\\n  -webkit-mask-size: auto calc(min(50%, 400px));\\n}\",{\"id\":\"555119e9-e3be-48ce-8317-548ae303839d\"},{\"id\":\"5b3eb7ed-4cc0-48e8-9edd-31ae091572ee\"},{\"id\":\"7c15f0ff-1c86-4b8c-a1c3-1afb691de702\"},{\"id\":\"8f3fedc8-5fe7-4d47-9f8f-8b1fd81f2a60\"}],\"margin\":0,\"align\":\"start\",\"children\":[{\"type\":\"object\",\"name\":\"panel.models.markup.HTML\",\"id\":\"685aa6e0-02ad-4943-850e-07e18163854a\",\"attributes\":{\"stylesheets\":[\"\\n:host(.pn-loading):before, .pn-loading:before {\\n  background-color: #c3c3c3;\\n  mask-size: auto calc(min(50%, 400px));\\n  -webkit-mask-size: auto calc(min(50%, 400px));\\n}\",{\"id\":\"555119e9-e3be-48ce-8317-548ae303839d\"},{\"id\":\"7c15f0ff-1c86-4b8c-a1c3-1afb691de702\"},{\"id\":\"8f3fedc8-5fe7-4d47-9f8f-8b1fd81f2a60\"}],\"margin\":[5,10],\"align\":\"start\",\"text\":\"&lt;pre&gt; &lt;/pre&gt;\"}}]}}]}}}},{\"type\":\"object\",\"name\":\"TabPanel\",\"id\":\"ae2e83d3-fda5-4d00-95c9-bd8d57175efd\",\"attributes\":{\"name\":\"Column00248\",\"title\":\"Chat History\",\"child\":{\"type\":\"object\",\"name\":\"panel.models.layout.Column\",\"id\":\"bcc9557e-7f52-4642-b535-93505e9f7eca\",\"attributes\":{\"name\":\"Column00248\",\"stylesheets\":[\"\\n:host(.pn-loading):before, .pn-loading:before {\\n  background-color: #c3c3c3;\\n  mask-size: auto calc(min(50%, 400px));\\n  -webkit-mask-size: auto calc(min(50%, 400px));\\n}\",{\"id\":\"555119e9-e3be-48ce-8317-548ae303839d\"},{\"id\":\"5b3eb7ed-4cc0-48e8-9edd-31ae091572ee\"},{\"id\":\"7c15f0ff-1c86-4b8c-a1c3-1afb691de702\"},{\"id\":\"8f3fedc8-5fe7-4d47-9f8f-8b1fd81f2a60\"}],\"margin\":0,\"align\":\"start\",\"children\":[{\"type\":\"object\",\"name\":\"panel.models.layout.Column\",\"id\":\"78fb3404-c303-4a9c-a81e-c4cd44b72b6b\",\"attributes\":{\"name\":\"Column00242\",\"stylesheets\":[\"\\n:host(.pn-loading):before, .pn-loading:before {\\n  background-color: #c3c3c3;\\n  mask-size: auto calc(min(50%, 400px));\\n  -webkit-mask-size: auto calc(min(50%, 400px));\\n}\",{\"id\":\"555119e9-e3be-48ce-8317-548ae303839d\"},{\"id\":\"5b3eb7ed-4cc0-48e8-9edd-31ae091572ee\"},{\"id\":\"7c15f0ff-1c86-4b8c-a1c3-1afb691de702\"},{\"id\":\"8f3fedc8-5fe7-4d47-9f8f-8b1fd81f2a60\"}],\"margin\":0,\"align\":\"start\",\"children\":[{\"type\":\"object\",\"name\":\"panel.models.layout.Column\",\"id\":\"3cfa8cd6-7246-4812-aa75-d8d42b0db168\",\"attributes\":{\"name\":\"WidgetBox00246\",\"css_classes\":[\"panel-widget-box\",\"scrollable-vertical\"],\"stylesheets\":[\"\\n:host(.pn-loading):before, .pn-loading:before {\\n  background-color: #c3c3c3;\\n  mask-size: auto calc(min(50%, 400px));\\n  -webkit-mask-size: auto calc(min(50%, 400px));\\n}\",{\"id\":\"555119e9-e3be-48ce-8317-548ae303839d\"},{\"id\":\"4e2948d8-ac8a-48db-b35c-97f651875709\"},{\"id\":\"5b3eb7ed-4cc0-48e8-9edd-31ae091572ee\"},{\"id\":\"7c15f0ff-1c86-4b8c-a1c3-1afb691de702\"},{\"id\":\"8f3fedc8-5fe7-4d47-9f8f-8b1fd81f2a60\"}],\"width\":600,\"min_width\":600,\"margin\":0,\"align\":\"start\",\"children\":[{\"type\":\"object\",\"name\":\"Row\",\"id\":\"aa6badf7-4786-4894-ab94-2ad520048d96\",\"attributes\":{\"name\":\"Row00245\",\"stylesheets\":[\"\\n:host(.pn-loading):before, .pn-loading:before {\\n  background-color: #c3c3c3;\\n  mask-size: auto calc(min(50%, 400px));\\n  -webkit-mask-size: auto calc(min(50%, 400px));\\n}\",{\"id\":\"555119e9-e3be-48ce-8317-548ae303839d\"},{\"id\":\"5b3eb7ed-4cc0-48e8-9edd-31ae091572ee\"},{\"id\":\"7c15f0ff-1c86-4b8c-a1c3-1afb691de702\"},{\"id\":\"8f3fedc8-5fe7-4d47-9f8f-8b1fd81f2a60\"}],\"margin\":0,\"align\":\"start\",\"children\":[{\"type\":\"object\",\"name\":\"panel.models.markup.HTML\",\"id\":\"e4d5ce1f-d0a9-48ce-a97b-f80c88a3ab83\",\"attributes\":{\"stylesheets\":[\"\\n:host(.pn-loading):before, .pn-loading:before {\\n  background-color: #c3c3c3;\\n  mask-size: auto calc(min(50%, 400px));\\n  -webkit-mask-size: auto calc(min(50%, 400px));\\n}\",{\"id\":\"555119e9-e3be-48ce-8317-548ae303839d\"},{\"id\":\"7c15f0ff-1c86-4b8c-a1c3-1afb691de702\"},{\"id\":\"8f3fedc8-5fe7-4d47-9f8f-8b1fd81f2a60\"}],\"margin\":[5,10],\"align\":\"start\",\"text\":\"&lt;pre&gt;No History Yet&lt;/pre&gt;\"}}]}}]}}]}},{\"type\":\"object\",\"name\":\"Div\",\"id\":\"07310404-d950-40fc-810c-3c8d750424a9\",\"attributes\":{\"name\":\"Divider00247\",\"stylesheets\":[\"\\n:host(.pn-loading):before, .pn-loading:before {\\n  background-color: #c3c3c3;\\n  mask-size: auto calc(min(50%, 400px));\\n  -webkit-mask-size: auto calc(min(50%, 400px));\\n}\",{\"type\":\"object\",\"name\":\"ImportedStyleSheet\",\"id\":\"bc829683-d04b-420d-85d4-ded7d852a96d\",\"attributes\":{\"url\":\"https://cdn.holoviz.org/panel/1.5.3/dist/css/loading.css\"}},{\"type\":\"object\",\"name\":\"ImportedStyleSheet\",\"id\":\"42813fba-5427-463c-be27-56618df1a08a\",\"attributes\":{\"url\":\"https://cdn.holoviz.org/panel/1.5.3/dist/css/divider.css\"}}],\"margin\":0,\"width_policy\":\"fit\",\"align\":\"start\",\"text\":\"<hr>\"}}]}}}},{\"type\":\"object\",\"name\":\"TabPanel\",\"id\":\"d533f0a5-1ad0-42a3-8d97-388f9443da6e\",\"attributes\":{\"name\":\"Column00264\",\"title\":\"Configure\",\"child\":{\"type\":\"object\",\"name\":\"panel.models.layout.Column\",\"id\":\"c233d2f5-f3c0-4ff9-9495-b69949bd06e7\",\"attributes\":{\"name\":\"Column00264\",\"stylesheets\":[\"\\n:host(.pn-loading):before, .pn-loading:before {\\n  background-color: #c3c3c3;\\n  mask-size: auto calc(min(50%, 400px));\\n  -webkit-mask-size: auto calc(min(50%, 400px));\\n}\",{\"id\":\"555119e9-e3be-48ce-8317-548ae303839d\"},{\"id\":\"5b3eb7ed-4cc0-48e8-9edd-31ae091572ee\"},{\"id\":\"7c15f0ff-1c86-4b8c-a1c3-1afb691de702\"},{\"id\":\"8f3fedc8-5fe7-4d47-9f8f-8b1fd81f2a60\"}],\"margin\":0,\"align\":\"start\",\"children\":[{\"type\":\"object\",\"name\":\"Row\",\"id\":\"aafccd24-02e5-46b8-ad40-b31fa8b2d6c8\",\"attributes\":{\"name\":\"Row00249\",\"stylesheets\":[\"\\n:host(.pn-loading):before, .pn-loading:before {\\n  background-color: #c3c3c3;\\n  mask-size: auto calc(min(50%, 400px));\\n  -webkit-mask-size: auto calc(min(50%, 400px));\\n}\",{\"id\":\"555119e9-e3be-48ce-8317-548ae303839d\"},{\"id\":\"5b3eb7ed-4cc0-48e8-9edd-31ae091572ee\"},{\"id\":\"7c15f0ff-1c86-4b8c-a1c3-1afb691de702\"},{\"id\":\"8f3fedc8-5fe7-4d47-9f8f-8b1fd81f2a60\"}],\"margin\":0,\"align\":\"start\",\"children\":[{\"type\":\"object\",\"name\":\"FileInput\",\"id\":\"f37dab7f-0c7c-44cb-92d9-0914b6096873\",\"attributes\":{\"stylesheets\":[\"\\n:host(.pn-loading):before, .pn-loading:before {\\n  background-color: #c3c3c3;\\n  mask-size: auto calc(min(50%, 400px));\\n  -webkit-mask-size: auto calc(min(50%, 400px));\\n}\",{\"id\":\"555119e9-e3be-48ce-8317-548ae303839d\"},{\"id\":\"7c15f0ff-1c86-4b8c-a1c3-1afb691de702\"},{\"id\":\"8f3fedc8-5fe7-4d47-9f8f-8b1fd81f2a60\"}],\"margin\":[5,10],\"align\":\"start\",\"accept\":\".pdf\"}},{\"type\":\"object\",\"name\":\"panel.models.widgets.Button\",\"id\":\"00f06ed4-64a9-4d9c-96be-88b99537aa4d\",\"attributes\":{\"button_type\":\"primary\",\"subscribed_events\":{\"type\":\"set\",\"entries\":[\"button_click\"]},\"css_classes\":[\"solid\"],\"stylesheets\":[\"\\n:host(.pn-loading):before, .pn-loading:before {\\n  background-color: #c3c3c3;\\n  mask-size: auto calc(min(50%, 400px));\\n  -webkit-mask-size: auto calc(min(50%, 400px));\\n}\",{\"id\":\"555119e9-e3be-48ce-8317-548ae303839d\"},{\"type\":\"object\",\"name\":\"ImportedStyleSheet\",\"id\":\"c40dc537-6060-4677-b39f-dae4f8e1d287\",\"attributes\":{\"url\":\"https://cdn.holoviz.org/panel/1.5.3/dist/css/button.css\"}},{\"id\":\"7c15f0ff-1c86-4b8c-a1c3-1afb691de702\"},{\"id\":\"8f3fedc8-5fe7-4d47-9f8f-8b1fd81f2a60\"}],\"margin\":[5,10],\"align\":\"start\",\"label\":\"Load DB\"}},{\"type\":\"object\",\"name\":\"panel.models.layout.Column\",\"id\":\"4db805d3-b437-439b-87e6-d85ca5db68ba\",\"attributes\":{\"name\":\"Column00253\",\"stylesheets\":[\"\\n:host(.pn-loading):before, .pn-loading:before {\\n  background-color: #c3c3c3;\\n  mask-size: auto calc(min(50%, 400px));\\n  -webkit-mask-size: auto calc(min(50%, 400px));\\n}\",{\"id\":\"555119e9-e3be-48ce-8317-548ae303839d\"},{\"id\":\"5b3eb7ed-4cc0-48e8-9edd-31ae091572ee\"},{\"id\":\"7c15f0ff-1c86-4b8c-a1c3-1afb691de702\"},{\"id\":\"8f3fedc8-5fe7-4d47-9f8f-8b1fd81f2a60\"}],\"margin\":0,\"align\":\"start\",\"children\":[{\"type\":\"object\",\"name\":\"panel.models.markup.HTML\",\"id\":\"dc364feb-d138-43d8-b0bf-36bcd7cad91f\",\"attributes\":{\"css_classes\":[\"markdown\"],\"stylesheets\":[\"\\n:host(.pn-loading):before, .pn-loading:before {\\n  background-color: #c3c3c3;\\n  mask-size: auto calc(min(50%, 400px));\\n  -webkit-mask-size: auto calc(min(50%, 400px));\\n}\",{\"id\":\"555119e9-e3be-48ce-8317-548ae303839d\"},{\"id\":\"415787a2-6628-454a-b7e3-2413cb4e6c6d\"},{\"id\":\"7c15f0ff-1c86-4b8c-a1c3-1afb691de702\"},{\"id\":\"8f3fedc8-5fe7-4d47-9f8f-8b1fd81f2a60\"}],\"margin\":[5,10],\"align\":\"start\",\"text\":\"&lt;p&gt;Loaded File: docs/cs229_lectures/MachineLearning-Lecture01.pdf&lt;/p&gt;\\n\"}}]}}]}},{\"type\":\"object\",\"name\":\"Row\",\"id\":\"7fcd167a-93a2-4f1f-9d7a-b46c7c7213ab\",\"attributes\":{\"name\":\"Row00259\",\"stylesheets\":[\"\\n:host(.pn-loading):before, .pn-loading:before {\\n  background-color: #c3c3c3;\\n  mask-size: auto calc(min(50%, 400px));\\n  -webkit-mask-size: auto calc(min(50%, 400px));\\n}\",{\"id\":\"555119e9-e3be-48ce-8317-548ae303839d\"},{\"id\":\"5b3eb7ed-4cc0-48e8-9edd-31ae091572ee\"},{\"id\":\"7c15f0ff-1c86-4b8c-a1c3-1afb691de702\"},{\"id\":\"8f3fedc8-5fe7-4d47-9f8f-8b1fd81f2a60\"}],\"margin\":0,\"align\":\"start\",\"children\":[{\"type\":\"object\",\"name\":\"panel.models.widgets.Button\",\"id\":\"c8b8a5f2-90ae-4a11-865e-aa701c0160ed\",\"attributes\":{\"button_type\":\"warning\",\"subscribed_events\":{\"type\":\"set\",\"entries\":[\"button_click\"]},\"css_classes\":[\"solid\"],\"stylesheets\":[\"\\n:host(.pn-loading):before, .pn-loading:before {\\n  background-color: #c3c3c3;\\n  mask-size: auto calc(min(50%, 400px));\\n  -webkit-mask-size: auto calc(min(50%, 400px));\\n}\",{\"id\":\"555119e9-e3be-48ce-8317-548ae303839d\"},{\"id\":\"c40dc537-6060-4677-b39f-dae4f8e1d287\"},{\"id\":\"7c15f0ff-1c86-4b8c-a1c3-1afb691de702\"},{\"id\":\"8f3fedc8-5fe7-4d47-9f8f-8b1fd81f2a60\"}],\"margin\":[5,10],\"align\":\"start\",\"label\":\"Clear History\"}},{\"type\":\"object\",\"name\":\"panel.models.markup.HTML\",\"id\":\"371c1c56-0e99-41c7-b42a-da652d1fa1d8\",\"attributes\":{\"css_classes\":[\"markdown\"],\"stylesheets\":[\"\\n:host(.pn-loading):before, .pn-loading:before {\\n  background-color: #c3c3c3;\\n  mask-size: auto calc(min(50%, 400px));\\n  -webkit-mask-size: auto calc(min(50%, 400px));\\n}\",{\"id\":\"555119e9-e3be-48ce-8317-548ae303839d\"},{\"id\":\"415787a2-6628-454a-b7e3-2413cb4e6c6d\"},{\"id\":\"7c15f0ff-1c86-4b8c-a1c3-1afb691de702\"},{\"id\":\"8f3fedc8-5fe7-4d47-9f8f-8b1fd81f2a60\"}],\"margin\":[5,10],\"align\":\"start\",\"text\":\"&lt;p&gt;Clears chat history. Can use to start a new topic&lt;/p&gt;\\n\"}}]}},{\"type\":\"object\",\"name\":\"Div\",\"id\":\"b35f7673-e748-4d36-a8c8-7a9e3a9aec3b\",\"attributes\":{\"name\":\"Divider00260\",\"stylesheets\":[\"\\n:host(.pn-loading):before, .pn-loading:before {\\n  background-color: #c3c3c3;\\n  mask-size: auto calc(min(50%, 400px));\\n  -webkit-mask-size: auto calc(min(50%, 400px));\\n}\",{\"type\":\"object\",\"name\":\"ImportedStyleSheet\",\"id\":\"031d35f6-cbe1-46fd-a1c4-0344800a6cab\",\"attributes\":{\"url\":\"https://cdn.holoviz.org/panel/1.5.3/dist/css/loading.css\"}},{\"type\":\"object\",\"name\":\"ImportedStyleSheet\",\"id\":\"bf91bfd7-05de-49fd-86b7-59834f155d3d\",\"attributes\":{\"url\":\"https://cdn.holoviz.org/panel/1.5.3/dist/css/divider.css\"}}],\"margin\":0,\"width_policy\":\"fit\",\"align\":\"start\",\"text\":\"<hr>\"}},{\"type\":\"object\",\"name\":\"Row\",\"id\":\"d8838825-d500-497c-8338-fc104d6cc821\",\"attributes\":{\"name\":\"Row00263\",\"stylesheets\":[\"\\n:host(.pn-loading):before, .pn-loading:before {\\n  background-color: #c3c3c3;\\n  mask-size: auto calc(min(50%, 400px));\\n  -webkit-mask-size: auto calc(min(50%, 400px));\\n}\",{\"id\":\"555119e9-e3be-48ce-8317-548ae303839d\"},{\"id\":\"5b3eb7ed-4cc0-48e8-9edd-31ae091572ee\"},{\"id\":\"7c15f0ff-1c86-4b8c-a1c3-1afb691de702\"},{\"id\":\"8f3fedc8-5fe7-4d47-9f8f-8b1fd81f2a60\"}],\"margin\":0,\"align\":\"start\",\"children\":[{\"type\":\"object\",\"name\":\"panel.models.markup.HTML\",\"id\":\"3b46aebc-f24e-4dcf-beca-28e322ede39e\",\"attributes\":{\"stylesheets\":[\"\\n:host(.pn-loading):before, .pn-loading:before {\\n  background-color: #c3c3c3;\\n  mask-size: auto calc(min(50%, 400px));\\n  -webkit-mask-size: auto calc(min(50%, 400px));\\n}\",{\"id\":\"555119e9-e3be-48ce-8317-548ae303839d\"},{\"id\":\"7c15f0ff-1c86-4b8c-a1c3-1afb691de702\"},{\"id\":\"8f3fedc8-5fe7-4d47-9f8f-8b1fd81f2a60\"}],\"width\":400,\"min_width\":400,\"margin\":[5,10],\"align\":\"start\",\"text\":\"&lt;img src=&quot;./img/convchain.jpg&quot;  style=&quot;max-width: 100%; max-height: 100%; object-fit: contain; width: 400px; height: auto;&quot;&gt;&lt;/img&gt;\"}}]}}]}}}}]}}]}},{\"type\":\"object\",\"name\":\"panel.models.comm_manager.CommManager\",\"id\":\"5c16f95e-56da-4fdc-a498-16a9d3ec1645\",\"attributes\":{\"plot_id\":\"059d342c-7403-4ff2-a6f0-9d97ad7fb7bf\",\"comm_id\":\"3e39774a024c43b6bef8b548aa66cbe1\",\"client_comm_id\":\"c5e961211cf945bc96f3064f46d54bb5\"}}],\"defs\":[{\"type\":\"model\",\"name\":\"ReactiveHTML1\"},{\"type\":\"model\",\"name\":\"FlexBox1\",\"properties\":[{\"name\":\"align_content\",\"kind\":\"Any\",\"default\":\"flex-start\"},{\"name\":\"align_items\",\"kind\":\"Any\",\"default\":\"flex-start\"},{\"name\":\"flex_direction\",\"kind\":\"Any\",\"default\":\"row\"},{\"name\":\"flex_wrap\",\"kind\":\"Any\",\"default\":\"wrap\"},{\"name\":\"gap\",\"kind\":\"Any\",\"default\":\"\"},{\"name\":\"justify_content\",\"kind\":\"Any\",\"default\":\"flex-start\"}]},{\"type\":\"model\",\"name\":\"FloatPanel1\",\"properties\":[{\"name\":\"config\",\"kind\":\"Any\",\"default\":{\"type\":\"map\"}},{\"name\":\"contained\",\"kind\":\"Any\",\"default\":true},{\"name\":\"position\",\"kind\":\"Any\",\"default\":\"right-top\"},{\"name\":\"offsetx\",\"kind\":\"Any\",\"default\":null},{\"name\":\"offsety\",\"kind\":\"Any\",\"default\":null},{\"name\":\"theme\",\"kind\":\"Any\",\"default\":\"primary\"},{\"name\":\"status\",\"kind\":\"Any\",\"default\":\"normalized\"}]},{\"type\":\"model\",\"name\":\"GridStack1\",\"properties\":[{\"name\":\"mode\",\"kind\":\"Any\",\"default\":\"warn\"},{\"name\":\"ncols\",\"kind\":\"Any\",\"default\":null},{\"name\":\"nrows\",\"kind\":\"Any\",\"default\":null},{\"name\":\"allow_resize\",\"kind\":\"Any\",\"default\":true},{\"name\":\"allow_drag\",\"kind\":\"Any\",\"default\":true},{\"name\":\"state\",\"kind\":\"Any\",\"default\":[]}]},{\"type\":\"model\",\"name\":\"drag1\",\"properties\":[{\"name\":\"slider_width\",\"kind\":\"Any\",\"default\":5},{\"name\":\"slider_color\",\"kind\":\"Any\",\"default\":\"black\"},{\"name\":\"value\",\"kind\":\"Any\",\"default\":50}]},{\"type\":\"model\",\"name\":\"click1\",\"properties\":[{\"name\":\"terminal_output\",\"kind\":\"Any\",\"default\":\"\"},{\"name\":\"debug_name\",\"kind\":\"Any\",\"default\":\"\"},{\"name\":\"clears\",\"kind\":\"Any\",\"default\":0}]},{\"type\":\"model\",\"name\":\"FastWrapper1\",\"properties\":[{\"name\":\"object\",\"kind\":\"Any\",\"default\":null},{\"name\":\"style\",\"kind\":\"Any\",\"default\":null}]},{\"type\":\"model\",\"name\":\"NotificationAreaBase1\",\"properties\":[{\"name\":\"js_events\",\"kind\":\"Any\",\"default\":{\"type\":\"map\"}},{\"name\":\"position\",\"kind\":\"Any\",\"default\":\"bottom-right\"},{\"name\":\"_clear\",\"kind\":\"Any\",\"default\":0}]},{\"type\":\"model\",\"name\":\"NotificationArea1\",\"properties\":[{\"name\":\"js_events\",\"kind\":\"Any\",\"default\":{\"type\":\"map\"}},{\"name\":\"notifications\",\"kind\":\"Any\",\"default\":[]},{\"name\":\"position\",\"kind\":\"Any\",\"default\":\"bottom-right\"},{\"name\":\"_clear\",\"kind\":\"Any\",\"default\":0},{\"name\":\"types\",\"kind\":\"Any\",\"default\":[{\"type\":\"map\",\"entries\":[[\"type\",\"warning\"],[\"background\",\"#ffc107\"],[\"icon\",{\"type\":\"map\",\"entries\":[[\"className\",\"fas fa-exclamation-triangle\"],[\"tagName\",\"i\"],[\"color\",\"white\"]]}]]},{\"type\":\"map\",\"entries\":[[\"type\",\"info\"],[\"background\",\"#007bff\"],[\"icon\",{\"type\":\"map\",\"entries\":[[\"className\",\"fas fa-info-circle\"],[\"tagName\",\"i\"],[\"color\",\"white\"]]}]]}]}]},{\"type\":\"model\",\"name\":\"Notification\",\"properties\":[{\"name\":\"background\",\"kind\":\"Any\",\"default\":null},{\"name\":\"duration\",\"kind\":\"Any\",\"default\":3000},{\"name\":\"icon\",\"kind\":\"Any\",\"default\":null},{\"name\":\"message\",\"kind\":\"Any\",\"default\":\"\"},{\"name\":\"notification_type\",\"kind\":\"Any\",\"default\":null},{\"name\":\"_destroyed\",\"kind\":\"Any\",\"default\":false}]},{\"type\":\"model\",\"name\":\"TemplateActions1\",\"properties\":[{\"name\":\"open_modal\",\"kind\":\"Any\",\"default\":0},{\"name\":\"close_modal\",\"kind\":\"Any\",\"default\":0}]},{\"type\":\"model\",\"name\":\"BootstrapTemplateActions1\",\"properties\":[{\"name\":\"open_modal\",\"kind\":\"Any\",\"default\":0},{\"name\":\"close_modal\",\"kind\":\"Any\",\"default\":0}]},{\"type\":\"model\",\"name\":\"TemplateEditor1\",\"properties\":[{\"name\":\"layout\",\"kind\":\"Any\",\"default\":[]}]},{\"type\":\"model\",\"name\":\"MaterialTemplateActions1\",\"properties\":[{\"name\":\"open_modal\",\"kind\":\"Any\",\"default\":0},{\"name\":\"close_modal\",\"kind\":\"Any\",\"default\":0}]},{\"type\":\"model\",\"name\":\"ReactiveESM1\"},{\"type\":\"model\",\"name\":\"JSComponent1\"},{\"type\":\"model\",\"name\":\"ReactComponent1\"},{\"type\":\"model\",\"name\":\"AnyWidgetComponent1\"},{\"type\":\"model\",\"name\":\"request_value1\",\"properties\":[{\"name\":\"fill\",\"kind\":\"Any\",\"default\":\"none\"},{\"name\":\"_synced\",\"kind\":\"Any\",\"default\":null},{\"name\":\"_request_sync\",\"kind\":\"Any\",\"default\":0}]}]}};\n",
       "  var render_items = [{\"docid\":\"21be1159-45fa-43ef-b4e2-5bfd32ffea2f\",\"roots\":{\"059d342c-7403-4ff2-a6f0-9d97ad7fb7bf\":\"ad800b13-ddcd-4391-9a45-aced2271788e\"},\"root_ids\":[\"059d342c-7403-4ff2-a6f0-9d97ad7fb7bf\"]}];\n",
       "  var docs = Object.values(docs_json)\n",
       "  if (!docs) {\n",
       "    return\n",
       "  }\n",
       "  const py_version = docs[0].version.replace('rc', '-rc.').replace('.dev', '-dev.')\n",
       "  async function embed_document(root) {\n",
       "    var Bokeh = get_bokeh(root)\n",
       "    await Bokeh.embed.embed_items_notebook(docs_json, render_items);\n",
       "    for (const render_item of render_items) {\n",
       "      for (const root_id of render_item.root_ids) {\n",
       "\tconst id_el = document.getElementById(root_id)\n",
       "\tif (id_el.children.length && id_el.children[0].hasAttribute('data-root-id')) {\n",
       "\t  const root_el = id_el.children[0]\n",
       "\t  root_el.id = root_el.id + '-rendered'\n",
       "\t  for (const child of root_el.children) {\n",
       "            // Ensure JupyterLab does not capture keyboard shortcuts\n",
       "            // see: https://jupyterlab.readthedocs.io/en/4.1.x/extension/notebook.html#keyboard-interaction-model\n",
       "\t    child.setAttribute('data-lm-suppress-shortcuts', 'true')\n",
       "\t  }\n",
       "\t}\n",
       "      }\n",
       "    }\n",
       "  }\n",
       "  function get_bokeh(root) {\n",
       "    if (root.Bokeh === undefined) {\n",
       "      return null\n",
       "    } else if (root.Bokeh.version !== py_version) {\n",
       "      if (root.Bokeh.versions === undefined || !root.Bokeh.versions.has(py_version)) {\n",
       "\treturn null\n",
       "      }\n",
       "      return root.Bokeh.versions.get(py_version);\n",
       "    } else if (root.Bokeh.version === py_version) {\n",
       "      return root.Bokeh\n",
       "    }\n",
       "    return null\n",
       "  }\n",
       "  function is_loaded(root) {\n",
       "    var Bokeh = get_bokeh(root)\n",
       "    return (Bokeh != null && Bokeh.Panel !== undefined)\n",
       "  }\n",
       "  if (is_loaded(root)) {\n",
       "    embed_document(root);\n",
       "  } else {\n",
       "    var attempts = 0;\n",
       "    var timer = setInterval(function(root) {\n",
       "      if (is_loaded(root)) {\n",
       "        clearInterval(timer);\n",
       "        embed_document(root);\n",
       "      } else if (document.readyState == \"complete\") {\n",
       "        attempts++;\n",
       "        if (attempts > 200) {\n",
       "          clearInterval(timer);\n",
       "\t  var Bokeh = get_bokeh(root)\n",
       "\t  if (Bokeh == null || Bokeh.Panel == null) {\n",
       "            console.warn(\"Panel: ERROR: Unable to run Panel code because Bokeh or Panel library is missing\");\n",
       "\t  } else {\n",
       "\t    console.warn(\"Panel: WARNING: Attempting to render but not all required libraries could be resolved.\")\n",
       "\t    embed_document(root)\n",
       "\t  }\n",
       "        }\n",
       "      }\n",
       "    }, 25, root)\n",
       "  }\n",
       "})(window);</script>"
      ],
      "text/plain": [
       "Column\n",
       "    [0] Row\n",
       "        [0] Markdown(str)\n",
       "    [1] Tabs\n",
       "        [0] Column\n",
       "            [0] Row\n",
       "                [0] TextInput(placeholder='Enter text here…')\n",
       "            [1] Divider()\n",
       "            [2] ParamFunction(function, _pane=WidgetBox, defer_load=False, height=300, loading_indicator=True)\n",
       "            [3] Divider()\n",
       "        [1] Column\n",
       "            [0] ParamMethod(method, _pane=Column, defer_load=False)\n",
       "            [1] Divider()\n",
       "            [2] ParamMethod(method, _pane=Str, defer_load=False)\n",
       "        [2] Column\n",
       "            [0] ParamMethod(method, _pane=WidgetBox, defer_load=False)\n",
       "            [1] Divider()\n",
       "        [3] Column\n",
       "            [0] Row\n",
       "                [0] FileInput(accept='.pdf')\n",
       "                [1] Button(button_type='primary', name='Load DB')\n",
       "                [2] ParamFunction(function, _pane=Markdown, defer_load=False)\n",
       "            [1] Row\n",
       "                [0] Button(button_type='warning', name='Clear History')\n",
       "                [1] Markdown(str)\n",
       "            [2] Divider()\n",
       "            [3] Row\n",
       "                [0] Image(str, width=400)"
      ]
     },
     "execution_count": 175,
     "metadata": {
      "application/vnd.holoviews_exec.v0+json": {
       "id": "059d342c-7403-4ff2-a6f0-9d97ad7fb7bf"
      }
     },
     "output_type": "execute_result"
    }
   ],
   "source": [
    "cb = cbfs()\n",
    "\n",
    "file_input = pn.widgets.FileInput(accept='.pdf')\n",
    "button_load = pn.widgets.Button(name=\"Load DB\", button_type='primary')\n",
    "button_clearhistory = pn.widgets.Button(name=\"Clear History\", button_type='warning')\n",
    "button_clearhistory.on_click(cb.clr_history)\n",
    "inp = pn.widgets.TextInput( placeholder='Enter text here…')\n",
    "\n",
    "bound_button_load = pn.bind(cb.call_load_db, button_load.param.clicks)\n",
    "conversation = pn.bind(cb.convchain, inp) \n",
    "\n",
    "jpg_pane = pn.pane.Image( './img/convchain.jpg')\n",
    "\n",
    "tab1 = pn.Column(\n",
    "    pn.Row(inp),\n",
    "    pn.layout.Divider(),\n",
    "    pn.panel(conversation,  loading_indicator=True, height=300),\n",
    "    pn.layout.Divider(),\n",
    ")\n",
    "tab2= pn.Column(\n",
    "    pn.panel(cb.get_lquest),\n",
    "    pn.layout.Divider(),\n",
    "    pn.panel(cb.get_sources ),\n",
    ")\n",
    "tab3= pn.Column(\n",
    "    pn.panel(cb.get_chats),\n",
    "    pn.layout.Divider(),\n",
    ")\n",
    "tab4=pn.Column(\n",
    "    pn.Row( file_input, button_load, bound_button_load),\n",
    "    pn.Row( button_clearhistory, pn.pane.Markdown(\"Clears chat history. Can use to start a new topic\" )),\n",
    "    pn.layout.Divider(),\n",
    "    pn.Row(jpg_pane.clone(width=400))\n",
    ")\n",
    "dashboard = pn.Column(\n",
    "    pn.Row(pn.pane.Markdown('# ChatWithYourData_Bot')),\n",
    "    pn.Tabs(('Conversation', tab1), ('Database', tab2), ('Chat History', tab3),('Configure', tab4))\n",
    ")\n",
    "dashboard"
   ]
  },
  {
   "cell_type": "markdown",
   "id": "d9394828-9c20-476f-8de7-98968544f37a",
   "metadata": {},
   "source": [
    "## <b><font color='darkblue'>Supplement</font></b>\n",
    "* [Coursera - LangChain Chat with Your Data](https://www.coursera.org/learn/langchain-chat-with-your-data-project/home/week/1)"
   ]
  }
 ],
 "metadata": {
  "kernelspec": {
   "display_name": "Python 3 (ipykernel)",
   "language": "python",
   "name": "python3"
  },
  "language_info": {
   "codemirror_mode": {
    "name": "ipython",
    "version": 3
   },
   "file_extension": ".py",
   "mimetype": "text/x-python",
   "name": "python",
   "nbconvert_exporter": "python",
   "pygments_lexer": "ipython3",
   "version": "3.11.9"
  }
 },
 "nbformat": 4,
 "nbformat_minor": 5
}
