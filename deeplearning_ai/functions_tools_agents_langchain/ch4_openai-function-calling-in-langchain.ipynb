{
 "cells": [
  {
   "cell_type": "markdown",
   "id": "b5d0ee50-5321-4078-b18b-55c2727ba6a5",
   "metadata": {},
   "source": [
    "## <b><font color='darkblue'>Preface</font></b>\n",
    "([course link](https://learn.deeplearning.ai/courses/functions-tools-agents-langchain/lesson/4/openai-function-calling-in-langchain)) <b><font size='3ptx'>[Pydantic](https://docs.pydantic.dev/latest/) is a popular Python library that excels at data validation and parsing</font>. It's designed to make your code more robust and reliable by ensuring the data you work with conforms to specific structures and types.</b>\n",
    "\n",
    "Below are key Features and Benefits:\n",
    "* **Data Validation**: Pydantic uses type hints (introduced in Python 3.5+) to define the expected shape and types of your data. It automatically validates incoming data against these definitions, raising clear errors if anything doesn't match up.\n",
    "* **Data Parsing**: Pydantic not only validates data but also converts it into the correct types. For example, it can automatically turn a string representation of a date into a `datetime` object.\n",
    "* **Models**: Pydantic's [**BaseModel**](https://docs.pydantic.dev/latest/api/base_model/) class provides a convenient way to create data models with clearly defined fields and types.\n",
    "* **Custom Validation**: You can add custom validation logic to your models to handle more complex requirements.\n",
    "* **Fast and Extensible**: Pydantic is built for performance and offers various customization options to fit your needs.\n",
    "* **Widely Used**: It's a core component in popular frameworks like FastAPI and has a vast ecosystem of supporting tools."
   ]
  },
  {
   "cell_type": "code",
   "execution_count": 1,
   "id": "412d1dc6-7b31-4f42-8456-cf3cec06ff4a",
   "metadata": {},
   "outputs": [
    {
     "name": "stdout",
     "output_type": "stream",
     "text": [
      "langchain==0.2.6\n",
      "langchain-anthropic==0.1.15\n",
      "langchain-community==0.2.6\n",
      "langchain-core==0.2.10\n",
      "langchain-experimental==0.0.62\n",
      "langchain-google-genai==1.0.6\n",
      "langchain-groq==0.1.3\n",
      "langchain-openai==0.1.9\n",
      "langchain-text-splitters==0.2.0\n",
      "langchainhub==0.1.14\n",
      "openai==1.28.1\n"
     ]
    }
   ],
   "source": [
    "!pip freeze | grep -P '(openai|langchain)'"
   ]
  },
  {
   "cell_type": "code",
   "execution_count": 2,
   "id": "d558b2f8-45d8-4816-92f6-114b47b55454",
   "metadata": {},
   "outputs": [],
   "source": [
    "import json\n",
    "import os\n",
    "import openai\n",
    "import re\n",
    "import httpx\n",
    "import os\n",
    "from dotenv import load_dotenv, find_dotenv\n",
    "\n",
    "import openai\n",
    "from openai import OpenAI\n",
    "from langchain_openai import ChatOpenAI\n",
    "from langchain.prompts import ChatPromptTemplate\n",
    "from langchain.schema.output_parser import StrOutputParser\n",
    "\n",
    "a = load_dotenv(find_dotenv(os.path.expanduser('~/.env'))) # read local .env file\n",
    "openai.api_key = os.environ['OPENAI_API_KEY']"
   ]
  },
  {
   "cell_type": "markdown",
   "id": "94aafc5b-7565-4083-9082-b5d59a925b32",
   "metadata": {},
   "source": [
    "## <b><font color='darkblue'>Pydantic Syntax</font></b>\n",
    "<b><font size='3ptx'>Pydantic data classes are a blend of Python's data classes with the validation power of Pydantic.</font></b>\n",
    "\n",
    "<b>They offer a concise way to define data structures while ensuring that the data adheres to specified types and constraints</b>. In standard python you would create a class like this:"
   ]
  },
  {
   "cell_type": "code",
   "execution_count": 3,
   "id": "a55884d6-7c64-49d0-8977-9d9032e80802",
   "metadata": {},
   "outputs": [],
   "source": [
    "class User:\n",
    "    def __init__(self, name: str, age: int, email: str):\n",
    "        self.name = name\n",
    "        self.age = age\n",
    "        self.email = email        "
   ]
  },
  {
   "cell_type": "code",
   "execution_count": 4,
   "id": "d34160be-4cba-47b0-bdd8-d41327c60dfb",
   "metadata": {},
   "outputs": [],
   "source": [
    "foo = User(name=\"Joe\",age=32, email=\"joe@gmail.com\")"
   ]
  },
  {
   "cell_type": "code",
   "execution_count": 5,
   "id": "a3d36cf8-0f18-418e-a9aa-456f2a28f515",
   "metadata": {},
   "outputs": [
    {
     "data": {
      "text/plain": [
       "<__main__.User at 0x7f4226223650>"
      ]
     },
     "execution_count": 5,
     "metadata": {},
     "output_type": "execute_result"
    }
   ],
   "source": [
    "foo"
   ]
  },
  {
   "cell_type": "code",
   "execution_count": 6,
   "id": "c700d0e0-dca3-476a-a12d-04023070bde0",
   "metadata": {},
   "outputs": [
    {
     "data": {
      "text/plain": [
       "'Joe'"
      ]
     },
     "execution_count": 6,
     "metadata": {},
     "output_type": "execute_result"
    }
   ],
   "source": [
    "foo.name"
   ]
  },
  {
   "cell_type": "code",
   "execution_count": 7,
   "id": "7ae164c3-ae21-4b1d-9b1b-84e75018d2c9",
   "metadata": {},
   "outputs": [
    {
     "data": {
      "text/plain": [
       "'bar'"
      ]
     },
     "execution_count": 7,
     "metadata": {},
     "output_type": "execute_result"
    }
   ],
   "source": [
    "foo = User(name=\"Joe\",age=\"bar\", email=\"joe@gmail.com\")\n",
    "foo.age"
   ]
  },
  {
   "cell_type": "code",
   "execution_count": 8,
   "id": "5b60a205-9704-4893-b593-56ecd9aea3c0",
   "metadata": {},
   "outputs": [],
   "source": [
    "from typing import List\n",
    "from pydantic import BaseModel, Field\n",
    "\n",
    "class pUser(BaseModel):\n",
    "    name: str\n",
    "    age: int\n",
    "    email: str"
   ]
  },
  {
   "cell_type": "code",
   "execution_count": 9,
   "id": "0c233ae8-3efe-4493-b5c2-43552e5f1e53",
   "metadata": {},
   "outputs": [
    {
     "data": {
      "text/plain": [
       "'Jane'"
      ]
     },
     "execution_count": 9,
     "metadata": {},
     "output_type": "execute_result"
    }
   ],
   "source": [
    "foo_p = pUser(name=\"Jane\", age=32, email=\"jane@gmail.com\")\n",
    "foo_p.name"
   ]
  },
  {
   "cell_type": "code",
   "execution_count": 11,
   "id": "efed0d94-0565-4734-8491-0ab4b443ebe6",
   "metadata": {
    "scrolled": true
   },
   "outputs": [],
   "source": [
    "# ValidationError: 1 validation error for pUser\n",
    "# age: Input should be a valid integer, unable to parse string as an integer\n",
    "# foo_p = pUser(name=\"Jane\", age=\"bar\", email=\"jane@gmail.com\")"
   ]
  },
  {
   "cell_type": "markdown",
   "id": "3385cca4-c82c-4e2b-9e91-62040697c69c",
   "metadata": {},
   "source": [
    "Pydantic class can be nested. For example:"
   ]
  },
  {
   "cell_type": "code",
   "execution_count": 12,
   "id": "2595e165-a859-4fab-978b-aa1f88449885",
   "metadata": {},
   "outputs": [],
   "source": [
    "class Class(BaseModel):\n",
    "    students: List[pUser]"
   ]
  },
  {
   "cell_type": "code",
   "execution_count": 13,
   "id": "96c4db94-dc6f-4db6-a4d5-6fb9b81e8c0e",
   "metadata": {},
   "outputs": [],
   "source": [
    "obj = Class(students=[pUser(name=\"Jane\", age=32, email=\"jane@gmail.com\")])"
   ]
  },
  {
   "cell_type": "code",
   "execution_count": 14,
   "id": "607ee882-6626-4403-9a1d-d6c62c213c72",
   "metadata": {},
   "outputs": [
    {
     "data": {
      "text/plain": [
       "Class(students=[pUser(name='Jane', age=32, email='jane@gmail.com')])"
      ]
     },
     "execution_count": 14,
     "metadata": {},
     "output_type": "execute_result"
    }
   ],
   "source": [
    "obj"
   ]
  },
  {
   "cell_type": "markdown",
   "id": "d036978c-6002-46ce-bbdb-fb9d6b85f719",
   "metadata": {},
   "source": [
    "## <b><font color='darkblue'>Pydantic to OpenAI function definition</font></b>\n",
    "OpenAI introduced a Function Call API so we’re going to dive into a much more structured and efficient way of handling output parsing when interacting with OpenAI. This method leverages the robustness of the [**Pydantic**](https://docs.pydantic.dev/latest/) library in tandem with the recent improvements in OpenAI’s API"
   ]
  },
  {
   "cell_type": "code",
   "execution_count": 45,
   "id": "3d015b8d-8d24-4c8b-b8b9-b43bc4be86ba",
   "metadata": {},
   "outputs": [],
   "source": [
    "from langchain_openai import ChatOpenAI\n",
    "from langchain.prompts import ChatPromptTemplate\n",
    "from langchain_core.utils.function_calling import convert_to_openai_function"
   ]
  },
  {
   "cell_type": "code",
   "execution_count": 15,
   "id": "71319cb3-aa59-4439-8538-c6d3b525aea9",
   "metadata": {},
   "outputs": [],
   "source": [
    "class WeatherSearch(BaseModel):\n",
    "    \"\"\"Call this with an airport code to get the weather at that airport\"\"\"\n",
    "    airport_code: str = Field(description=\"airport code to get weather for\")"
   ]
  },
  {
   "cell_type": "code",
   "execution_count": 34,
   "id": "fa90cd96-c377-4d55-b36c-590ed46fae05",
   "metadata": {},
   "outputs": [],
   "source": [
    "weather_function = convert_to_openai_function(WeatherSearch)"
   ]
  },
  {
   "cell_type": "code",
   "execution_count": 35,
   "id": "aec2cd41-4572-44c1-9ad0-c6ed1aa7360a",
   "metadata": {},
   "outputs": [
    {
     "data": {
      "text/plain": [
       "{'name': 'WeatherSearch',\n",
       " 'description': 'Call this with an airport code to get the weather at that airport',\n",
       " 'parameters': {'type': 'object',\n",
       "  'properties': {'airport_code': {'type': 'string'}},\n",
       "  'required': ['airport_code']}}"
      ]
     },
     "execution_count": 35,
     "metadata": {},
     "output_type": "execute_result"
    }
   ],
   "source": [
    "weather_function"
   ]
  },
  {
   "cell_type": "markdown",
   "id": "c73f4d2e-5072-4bc3-866a-edb27241b1c6",
   "metadata": {},
   "source": [
    "The docstr of the **BaseModel** is requred to define a openai function:"
   ]
  },
  {
   "cell_type": "code",
   "execution_count": 22,
   "id": "a605527c-65f6-4415-8c58-d382a8fcf43a",
   "metadata": {},
   "outputs": [],
   "source": [
    "class WeatherSearch1(BaseModel):\n",
    "    airport_code: str = Field(description=\"airport code to get weather for\")"
   ]
  },
  {
   "cell_type": "code",
   "execution_count": 36,
   "id": "5df59774-3087-4fee-beef-d8eee4d5b4c4",
   "metadata": {},
   "outputs": [],
   "source": [
    "weather_function1 = convert_to_openai_function(WeatherSearch1)"
   ]
  },
  {
   "cell_type": "code",
   "execution_count": 37,
   "id": "32076edd-f4a0-4a40-bd8b-8a80ff2fa1b5",
   "metadata": {},
   "outputs": [
    {
     "data": {
      "text/plain": [
       "{'name': 'WeatherSearch1',\n",
       " 'description': \"Usage docs: https://docs.pydantic.dev/2.6/concepts/models/ A base class for creating Pydantic models. Attributes:\\n    __class_vars__: The names of classvars defined on the model.\\n    __private_attributes__: Metadata about the private attributes of the model.\\n    __signature__: The signature for instantiating the model.     __pydantic_complete__: Whether model building is completed, or if there are still undefined fields.\\n    __pydantic_core_schema__: The pydantic-core schema used to build the SchemaValidator and SchemaSerializer.\\n    __pydantic_custom_init__: Whether the model has a custom `__init__` function.\\n    __pydantic_decorators__: Metadata containing the decorators defined on the model.\\n        This replaces `Model.__validators__` and `Model.__root_validators__` from Pydantic V1.\\n    __pydantic_generic_metadata__: Metadata for generic models; contains data used for a similar purpose to\\n        __args__, __origin__, __parameters__ in typing-module generics. May eventually be replaced by these.\\n    __pydantic_parent_namespace__: Parent namespace of the model, used for automatic rebuilding of models.\\n    __pydantic_post_init__: The name of the post-init method for the model, if defined.\\n    __pydantic_root_model__: Whether the model is a `RootModel`.\\n    __pydantic_serializer__: The pydantic-core SchemaSerializer used to dump instances of the model.\\n    __pydantic_validator__: The pydantic-core SchemaValidator used to validate instances of the model.     __pydantic_extra__: An instance attribute with the values of extra fields from validation when\\n        `model_config['extra'] == 'allow'`.\\n    __pydantic_fields_set__: An instance attribute with the names of fields explicitly set.\\n    __pydantic_private__: Instance attribute with the values of private attributes set on the model instance.\",\n",
       " 'parameters': {'type': 'object',\n",
       "  'properties': {'airport_code': {'type': 'string'}},\n",
       "  'required': ['airport_code']}}"
      ]
     },
     "execution_count": 37,
     "metadata": {},
     "output_type": "execute_result"
    }
   ],
   "source": [
    "# The description looks weird now:\n",
    "weather_function1"
   ]
  },
  {
   "cell_type": "markdown",
   "id": "6af2f85c-52ab-4405-8131-1b8377826eaf",
   "metadata": {},
   "source": [
    "The description of the field is optional:"
   ]
  },
  {
   "cell_type": "code",
   "execution_count": 28,
   "id": "d09aae8a-7069-4cca-9136-2c0d7dda4e4d",
   "metadata": {},
   "outputs": [
    {
     "data": {
      "text/plain": [
       "{'name': 'WeatherSearch2',\n",
       " 'description': 'Call this with an airport code to get the weather at that airport',\n",
       " 'parameters': {'type': 'object',\n",
       "  'properties': {'airport_code': {'type': 'string'}},\n",
       "  'required': ['airport_code']}}"
      ]
     },
     "execution_count": 28,
     "metadata": {},
     "output_type": "execute_result"
    }
   ],
   "source": [
    "class WeatherSearch2(BaseModel):\n",
    "    \"\"\"Call this with an airport code to get the weather at that airport\"\"\"\n",
    "    airport_code: str\n",
    "\n",
    "convert_to_openai_function(WeatherSearch2)"
   ]
  },
  {
   "cell_type": "markdown",
   "id": "3af67b2e-c33e-4d56-bfb2-56742ad2c1f3",
   "metadata": {},
   "source": [
    "### <b><font color='darkgreen'>OpenAI function call</font></b>"
   ]
  },
  {
   "cell_type": "code",
   "execution_count": 32,
   "id": "7e575c27-7294-4b80-a6af-a32e4ee15620",
   "metadata": {},
   "outputs": [],
   "source": [
    "model = ChatOpenAI()"
   ]
  },
  {
   "cell_type": "code",
   "execution_count": 38,
   "id": "8ae85bb7-99a0-4f4c-a817-f43c4de8bfce",
   "metadata": {},
   "outputs": [
    {
     "data": {
      "text/plain": [
       "AIMessage(content='', additional_kwargs={'function_call': {'arguments': '{\"airport_code\":\"SFO\"}', 'name': 'WeatherSearch'}}, response_metadata={'token_usage': {'completion_tokens': 17, 'prompt_tokens': 61, 'total_tokens': 78}, 'model_name': 'gpt-3.5-turbo-0125', 'system_fingerprint': None, 'finish_reason': 'function_call', 'logprobs': None}, id='run-c5ac63ac-405b-427c-920b-56379605ad0e-0', usage_metadata={'input_tokens': 61, 'output_tokens': 17, 'total_tokens': 78})"
      ]
     },
     "execution_count": 38,
     "metadata": {},
     "output_type": "execute_result"
    }
   ],
   "source": [
    "model.invoke(\"what is the weather in SF today?\", functions=[weather_function])"
   ]
  },
  {
   "cell_type": "code",
   "execution_count": 39,
   "id": "14a0b24a-b79e-4c3d-9b6a-a622b209f45f",
   "metadata": {},
   "outputs": [],
   "source": [
    "model_with_function = model.bind(functions=[weather_function])"
   ]
  },
  {
   "cell_type": "code",
   "execution_count": 40,
   "id": "27ea5078-0b2d-43dd-ba86-608df23d497f",
   "metadata": {},
   "outputs": [
    {
     "data": {
      "text/plain": [
       "AIMessage(content='', additional_kwargs={'function_call': {'arguments': '{\"airport_code\":\"TPE\"}', 'name': 'WeatherSearch'}}, response_metadata={'token_usage': {'completion_tokens': 17, 'prompt_tokens': 60, 'total_tokens': 77}, 'model_name': 'gpt-3.5-turbo-0125', 'system_fingerprint': None, 'finish_reason': 'function_call', 'logprobs': None}, id='run-7914d567-a62f-410f-af2a-e32d286883e9-0', usage_metadata={'input_tokens': 60, 'output_tokens': 17, 'total_tokens': 77})"
      ]
     },
     "execution_count": 40,
     "metadata": {},
     "output_type": "execute_result"
    }
   ],
   "source": [
    "model_with_function.invoke(\"what is the weather in Taiwan?\")"
   ]
  },
  {
   "cell_type": "code",
   "execution_count": 41,
   "id": "5ceeb40c-ade7-43a3-a41a-b6db520383f5",
   "metadata": {},
   "outputs": [
    {
     "data": {
      "text/plain": [
       "AIMessage(content='1 + 1 equals 2.', response_metadata={'token_usage': {'completion_tokens': 9, 'prompt_tokens': 61, 'total_tokens': 70}, 'model_name': 'gpt-3.5-turbo-0125', 'system_fingerprint': None, 'finish_reason': 'stop', 'logprobs': None}, id='run-50169d29-15ef-4e8d-b57d-c83841fe73c3-0', usage_metadata={'input_tokens': 61, 'output_tokens': 9, 'total_tokens': 70})"
      ]
     },
     "execution_count": 41,
     "metadata": {},
     "output_type": "execute_result"
    }
   ],
   "source": [
    "model_with_function.invoke(\"What is 1 + 1?\")"
   ]
  },
  {
   "cell_type": "markdown",
   "id": "8d3ecb75-6e4b-4ff7-b6e6-8c0eaf322af5",
   "metadata": {},
   "source": [
    "### <b><font color='darkgreen'>Forcing it to use a function</font></b>\n",
    "We can force the model to use a function:"
   ]
  },
  {
   "cell_type": "code",
   "execution_count": 42,
   "id": "136cc40b-0803-48f5-a40c-ffd140b37720",
   "metadata": {},
   "outputs": [],
   "source": [
    "model_with_forced_function = model.bind(functions=[weather_function], function_call={\"name\":\"WeatherSearch\"})"
   ]
  },
  {
   "cell_type": "code",
   "execution_count": 43,
   "id": "aec654df-c66e-4ad9-8e48-1afdb1e02ccc",
   "metadata": {},
   "outputs": [
    {
     "data": {
      "text/plain": [
       "AIMessage(content='', additional_kwargs={'function_call': {'arguments': '{\"airport_code\":\"HND\"}', 'name': 'WeatherSearch'}}, response_metadata={'token_usage': {'completion_tokens': 7, 'prompt_tokens': 70, 'total_tokens': 77}, 'model_name': 'gpt-3.5-turbo-0125', 'system_fingerprint': None, 'finish_reason': 'stop', 'logprobs': None}, id='run-7335044b-da6b-4826-a686-4b108643091c-0', usage_metadata={'input_tokens': 70, 'output_tokens': 7, 'total_tokens': 77})"
      ]
     },
     "execution_count": 43,
     "metadata": {},
     "output_type": "execute_result"
    }
   ],
   "source": [
    "model_with_forced_function.invoke(\"what is the weather in Japan?\")"
   ]
  },
  {
   "cell_type": "markdown",
   "id": "1c2ca1ab-8364-4a77-a9c5-c35e7c79047c",
   "metadata": {},
   "source": [
    "Even the question doesn't require the function call, model will call `WeartherSearch`:"
   ]
  },
  {
   "cell_type": "code",
   "execution_count": 44,
   "id": "988e7de2-930e-4f7f-8eae-30335d7964d4",
   "metadata": {},
   "outputs": [
    {
     "data": {
      "text/plain": [
       "AIMessage(content='', additional_kwargs={'function_call': {'arguments': '{\"airport_code\":\"JFK\"}', 'name': 'WeatherSearch'}}, response_metadata={'token_usage': {'completion_tokens': 7, 'prompt_tokens': 65, 'total_tokens': 72}, 'model_name': 'gpt-3.5-turbo-0125', 'system_fingerprint': None, 'finish_reason': 'stop', 'logprobs': None}, id='run-12257962-314e-403b-a2dd-f469a43f2a26-0', usage_metadata={'input_tokens': 65, 'output_tokens': 7, 'total_tokens': 72})"
      ]
     },
     "execution_count": 44,
     "metadata": {},
     "output_type": "execute_result"
    }
   ],
   "source": [
    "model_with_forced_function.invoke(\"hi!\")"
   ]
  },
  {
   "cell_type": "markdown",
   "id": "a35717e6-1b43-40c5-b0b2-17d67f0c6515",
   "metadata": {},
   "source": [
    "### <b><font color='darkgreen'>Using in a chain</font></b>\n",
    "We can use this model bound to function in a chain as we normally would"
   ]
  },
  {
   "cell_type": "code",
   "execution_count": 46,
   "id": "2e30adc8-6835-4703-adc0-b868b490cc40",
   "metadata": {},
   "outputs": [],
   "source": [
    "prompt = ChatPromptTemplate.from_messages([\n",
    "    (\"system\", \"You are a helpful assistant\"),\n",
    "    (\"user\", \"{input}\")\n",
    "])"
   ]
  },
  {
   "cell_type": "code",
   "execution_count": 47,
   "id": "e5e111ee-d339-4e77-bee6-93ee5c41bba1",
   "metadata": {},
   "outputs": [],
   "source": [
    "chain = prompt | model_with_function"
   ]
  },
  {
   "cell_type": "code",
   "execution_count": 49,
   "id": "0656ee65-9a0a-4545-a6e6-5f7793ef3102",
   "metadata": {},
   "outputs": [
    {
     "data": {
      "text/plain": [
       "AIMessage(content='', additional_kwargs={'function_call': {'arguments': '{\"airport_code\":\"SFO\"}', 'name': 'WeatherSearch'}}, response_metadata={'token_usage': {'completion_tokens': 17, 'prompt_tokens': 66, 'total_tokens': 83}, 'model_name': 'gpt-3.5-turbo-0125', 'system_fingerprint': None, 'finish_reason': 'function_call', 'logprobs': None}, id='run-7a7cd5ac-c2d5-4353-ad21-35e3899c3030-0', usage_metadata={'input_tokens': 66, 'output_tokens': 17, 'total_tokens': 83})"
      ]
     },
     "execution_count": 49,
     "metadata": {},
     "output_type": "execute_result"
    }
   ],
   "source": [
    "chain.invoke({\"input\": \"What is the weather in SF?\"})"
   ]
  },
  {
   "cell_type": "markdown",
   "id": "46e4bf43-6cd0-4efa-b45e-89b8a87821d9",
   "metadata": {},
   "source": [
    "### <b><font color='darkgreen'>Using multiple functions</font></b>\n",
    "Even better, we can pass a set of function and let the LLM decide which to use based on the question context:"
   ]
  },
  {
   "cell_type": "code",
   "execution_count": 50,
   "id": "0df4ddf7-f15a-431d-8ba5-894185a1cc7d",
   "metadata": {},
   "outputs": [],
   "source": [
    "class ArtistSearch(BaseModel):\n",
    "    \"\"\"Call this to get the names of songs by a particular artist\"\"\"\n",
    "    artist_name: str = Field(description=\"name of artist to look up\")\n",
    "    n: int = Field(description=\"number of results\")"
   ]
  },
  {
   "cell_type": "code",
   "execution_count": 51,
   "id": "355fbb1e-83f5-4f2e-b796-9be17c1e7bc7",
   "metadata": {},
   "outputs": [],
   "source": [
    "functions = [\n",
    "    convert_to_openai_function(WeatherSearch),\n",
    "    convert_to_openai_function(ArtistSearch),\n",
    "]"
   ]
  },
  {
   "cell_type": "code",
   "execution_count": 52,
   "id": "b8fc6782-b090-4168-80eb-69f7c0a2358e",
   "metadata": {},
   "outputs": [],
   "source": [
    "model_with_functions = model.bind(functions=functions)"
   ]
  },
  {
   "cell_type": "code",
   "execution_count": 53,
   "id": "e1d54453-d590-4395-ad2e-14e08034ae65",
   "metadata": {},
   "outputs": [
    {
     "data": {
      "text/plain": [
       "AIMessage(content='', additional_kwargs={'function_call': {'arguments': '{\"airport_code\":\"HND\"}', 'name': 'WeatherSearch'}}, response_metadata={'token_usage': {'completion_tokens': 17, 'prompt_tokens': 93, 'total_tokens': 110}, 'model_name': 'gpt-3.5-turbo-0125', 'system_fingerprint': None, 'finish_reason': 'function_call', 'logprobs': None}, id='run-0f391882-edec-4ff5-a5f5-be73ccfbb64c-0', usage_metadata={'input_tokens': 93, 'output_tokens': 17, 'total_tokens': 110})"
      ]
     },
     "execution_count": 53,
     "metadata": {},
     "output_type": "execute_result"
    }
   ],
   "source": [
    "model_with_functions.invoke(\"What is the weather in Tokyo?\")"
   ]
  },
  {
   "cell_type": "code",
   "execution_count": 54,
   "id": "e74b2c66-c245-4d04-a97b-1fc6cb249466",
   "metadata": {},
   "outputs": [
    {
     "data": {
      "text/plain": [
       "AIMessage(content='', additional_kwargs={'function_call': {'arguments': '{\"artist_name\":\"taylor swift\",\"n\":3}', 'name': 'ArtistSearch'}}, response_metadata={'token_usage': {'completion_tokens': 22, 'prompt_tokens': 95, 'total_tokens': 117}, 'model_name': 'gpt-3.5-turbo-0125', 'system_fingerprint': None, 'finish_reason': 'function_call', 'logprobs': None}, id='run-0b9d571a-d1b1-4e72-8f89-bfdd7df0a271-0', usage_metadata={'input_tokens': 95, 'output_tokens': 22, 'total_tokens': 117})"
      ]
     },
     "execution_count": 54,
     "metadata": {},
     "output_type": "execute_result"
    }
   ],
   "source": [
    "model_with_functions.invoke(\"What are three songs by taylor swift?\")"
   ]
  },
  {
   "cell_type": "code",
   "execution_count": 55,
   "id": "3af8679d-b0e2-490c-8818-d72c22e9f059",
   "metadata": {},
   "outputs": [
    {
     "data": {
      "text/plain": [
       "AIMessage(content='Hello! How can I assist you today?', response_metadata={'token_usage': {'completion_tokens': 10, 'prompt_tokens': 88, 'total_tokens': 98}, 'model_name': 'gpt-3.5-turbo-0125', 'system_fingerprint': None, 'finish_reason': 'stop', 'logprobs': None}, id='run-d03e724b-8bef-4c2f-8660-025a22369f60-0', usage_metadata={'input_tokens': 88, 'output_tokens': 10, 'total_tokens': 98})"
      ]
     },
     "execution_count": 55,
     "metadata": {},
     "output_type": "execute_result"
    }
   ],
   "source": [
    "model_with_functions.invoke(\"Hi!\")"
   ]
  },
  {
   "cell_type": "markdown",
   "id": "87841644-cd4f-48a3-9679-b0d4646f4977",
   "metadata": {},
   "source": [
    "## <b><font color='darkblue'>Supplement</font></b>\n",
    "* [RealPython - Pydantic: Simplifying Data Validation in Python](https://realpython.com/python-pydantic/)\n",
    "* [Medium - Seamless Integration with OpenAI and Pydantic: A Powerful Duo for Output Parsing](https://medium.com/@jxnlco/seamless-integration-with-openai-and-pydantic-a-powerful-duo-for-output-parsing-fcb1e616167b)"
   ]
  }
 ],
 "metadata": {
  "kernelspec": {
   "display_name": "Python 3 (ipykernel)",
   "language": "python",
   "name": "python3"
  },
  "language_info": {
   "codemirror_mode": {
    "name": "ipython",
    "version": 3
   },
   "file_extension": ".py",
   "mimetype": "text/x-python",
   "name": "python",
   "nbconvert_exporter": "python",
   "pygments_lexer": "ipython3",
   "version": "3.11.9"
  }
 },
 "nbformat": 4,
 "nbformat_minor": 5
}
