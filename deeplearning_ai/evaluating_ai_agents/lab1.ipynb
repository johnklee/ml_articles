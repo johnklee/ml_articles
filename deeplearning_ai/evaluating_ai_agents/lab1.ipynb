{
 "cells": [
  {
   "cell_type": "markdown",
   "id": "fe0d3b64-bf42-45ae-87a7-f9b03ed81f92",
   "metadata": {},
   "source": [
    "## <b><font color='darkblue'>Preface</font></b>\n",
    "([source](https://learn.deeplearning.ai/courses/evaluating-ai-agents/lesson/pag5y/lab-1:-building-your-agent))\n",
    "\n",
    "![course outline](images/course_outline.jpg)"
   ]
  },
  {
   "cell_type": "code",
   "execution_count": 29,
   "id": "ff8cbaf8-3efd-4ebd-9eab-e6dd3aea752a",
   "metadata": {},
   "outputs": [],
   "source": [
    "from datetime import datetime"
   ]
  },
  {
   "cell_type": "markdown",
   "id": "bc577843-acd6-4704-8e2a-18de4b3ec60e",
   "metadata": {},
   "source": [
    "### <b><font color='darkgreen'>Evaluation in the time of LLM</font></b>\n",
    "([source](https://learn.deeplearning.ai/courses/evaluating-ai-agents/lesson/gz8ys/evaluation-in-the-time-of-llms))\n",
    "\n",
    "![tools](images/tool_4_evaluation.jpg )"
   ]
  },
  {
   "cell_type": "markdown",
   "id": "049edc24-8bff-4408-9753-28027ec676f6",
   "metadata": {},
   "source": [
    "### <b><font color='darkgreen'>Decomposing Agent</font></b>\n",
    "([source](https://learn.deeplearning.ai/courses/evaluating-ai-agents/lesson/hvoxa/decomposing-agents))\n",
    "\n",
    "![Agent components](images/agent_components.jpg)"
   ]
  },
  {
   "cell_type": "markdown",
   "id": "ec66fdad-b11f-43ae-953b-6a12dff424db",
   "metadata": {},
   "source": [
    "## <b><font color='darkblue'>Lab1 - Build Your Agent</font></b>\n",
    "([source](https://learn.deeplearning.ai/courses/evaluating-ai-agents/lesson/pag5y/lab-1:-building-your-agent))"
   ]
  },
  {
   "cell_type": "markdown",
   "id": "6b775819-7813-4aeb-ba9b-2748714c21b7",
   "metadata": {},
   "source": [
    "### <b><font color='darkgreen'>Install the Python SDK</font></b>\n"
   ]
  },
  {
   "cell_type": "code",
   "execution_count": 5,
   "id": "7a1fd9de-3718-47dc-92e6-72a4cde0cea4",
   "metadata": {},
   "outputs": [],
   "source": [
    "#!pip install -U -q langchain-google-genai\n",
    "#!pip install -U -q google-generativeai"
   ]
  },
  {
   "cell_type": "code",
   "execution_count": 6,
   "id": "d4367791-aa8d-4104-ba99-5869ce400353",
   "metadata": {},
   "outputs": [
    {
     "name": "stdout",
     "output_type": "stream",
     "text": [
      "google-generativeai==0.8.5\n"
     ]
    }
   ],
   "source": [
    "!pip freeze | grep 'google-generativeai'"
   ]
  },
  {
   "cell_type": "markdown",
   "id": "cbad37f3-34fc-49d8-8202-fc29d3ca7445",
   "metadata": {},
   "source": [
    "### <b><font color='darkgreen'>Configure SDK and API Key</font></b>"
   ]
  },
  {
   "cell_type": "code",
   "execution_count": 8,
   "id": "8bc509ba-1af2-4e6a-a9b4-bf68b54842c5",
   "metadata": {},
   "outputs": [],
   "source": [
    "import google.generativeai as genai\n",
    "import os\n",
    "from dotenv import load_dotenv, find_dotenv\n",
    "\n",
    "_ = load_dotenv(find_dotenv(os.path.expanduser('~/.env'))) # read local .env file\n",
    "genai.configure(api_key=os.environ['GOOGLE_API_KEY'])"
   ]
  },
  {
   "cell_type": "markdown",
   "id": "4e1d6bfc-e379-466f-bcd6-d842ddbe0fd9",
   "metadata": {},
   "source": [
    "### <b><font color='darkgreen'>ReAct agent from scratch with Gemini 2.5 and LangGraph</font></b>\n",
    "([source](https://ai.google.dev/gemini-api/docs/langgraph-example)) <font size='3ptx'>**[LangGraph](https://www.langchain.com/langgraph) is a framework for building stateful LLM applications, making it a good choice for constructing ReAct (Reasoning and Acting) Agents.**</font>\n",
    "\n",
    "<b>ReAct agents combine LLM reasoning with action execution.</b> They iteratively think, use tools, and act on observations to achieve user goals, dynamically adapting their approach. Introduced in \"[ReAct: Synergizing Reasoning and Acting in Language Models](https://arxiv.org/abs/2210.03629)\" (2023), this pattern tries to mirror human-like, flexible problem-solving over rigid workflows.\n",
    "\n",
    "While [**LangGraph**](https://www.langchain.com/langgraph) offers a prebuilt ReAct agent ([create_react_agent](https://langchain-ai.github.io/langgraph/reference/prebuilt/#langgraph.prebuilt.chat_agent_executor.create_react_agent)), it shines when you need more control and customization for your ReAct implementations.\n",
    "\n",
    "[**LangGraph**](https://www.langchain.com/langgraph) models agents as graphs using three key components:\n",
    "* **State**: Shared data structure (typically `TypedDict` or Pydantic `BaseModel`) representing the application's current snapshot.\n",
    "* **Nodes**: Encodes logic of your agents. They receive the current `State` as input, perform some computation or side-effect, and return an updated `State`, such as LLM calls or tool calls.\n",
    "* **Edges**: Define the next `Node` to execute based on the current `State`, allowing for conditional logic and fixed transitions.\n",
    "\n",
    "Below will use pip to install necessary packages:"
   ]
  },
  {
   "cell_type": "code",
   "execution_count": 10,
   "id": "f74cf834-fe7d-48bf-b759-7e4aed76cfeb",
   "metadata": {},
   "outputs": [],
   "source": [
    "#!pip install langgraph langchain-google-genai geopy requests"
   ]
  },
  {
   "cell_type": "markdown",
   "id": "b16db5f8-b132-4614-8563-9e2d37762cea",
   "metadata": {},
   "source": [
    "**To better understand how to implement a ReAct agent using [LangGraph](https://www.langchain.com/langgraph), let's walk through a practical example**. You will create a simple agent whose goal is to use a tool to find the current weather for a specified location.\n",
    "\n",
    "For this weather agent, its `State` will need to maintain the ongoing conversation history (as a list of messages) and a counter for the number of steps taken to further illustrate state management.\n",
    "\n",
    "**[LangGraph](https://www.langchain.com/langgraph)** provides a convenient helper, **`add_messages`, for updating message lists in the state. It functions as a reducer, meaning it takes the current list and new messages, then returns a combined list**. It smartly handles updates by message ID and defaults to an \"append-only\" behavior for new, unique messages."
   ]
  },
  {
   "cell_type": "code",
   "execution_count": 30,
   "id": "f3253e52-e724-41e2-918f-be52198198d5",
   "metadata": {},
   "outputs": [],
   "source": [
    "from typing import Annotated,Sequence, TypedDict\n",
    "\n",
    "from langchain_core.messages import BaseMessage\n",
    "from langgraph.graph.message import add_messages # helper function to add messages to the state\n",
    "\n",
    "\n",
    "def today():\n",
    "    return datetime.today().strftime('%Y-%m-%d')\n",
    "\n",
    "\n",
    "class AgentState(TypedDict):\n",
    "    \"\"\"The state of the agent.\"\"\"\n",
    "    messages: Annotated[Sequence[BaseMessage], add_messages]\n",
    "    number_of_steps: int"
   ]
  },
  {
   "cell_type": "markdown",
   "id": "683f6c0b-3ed4-40ed-a154-dfb23d40363e",
   "metadata": {},
   "source": [
    "Next, we define the weather tool."
   ]
  },
  {
   "cell_type": "code",
   "execution_count": 14,
   "id": "64e44e4b-f8f1-4dca-954c-eec5ec6fd37e",
   "metadata": {},
   "outputs": [],
   "source": [
    "from langchain_core.tools import tool\n",
    "from geopy.geocoders import Nominatim\n",
    "from pydantic import BaseModel, Field\n",
    "import requests\n",
    "\n",
    "geolocator = Nominatim(user_agent=\"weather-app\")\n",
    "\n",
    "class SearchInput(BaseModel):\n",
    "    location:str = Field(description=\"The city and state, e.g., San Francisco\")\n",
    "    date:str = Field(description=\"the forecasting date for when to get the weather format (yyyy-mm-dd)\")\n",
    "\n",
    "\n",
    "@tool(\"get_weather_forecast\", args_schema=SearchInput, return_direct=True)\n",
    "def get_weather_forecast(location: str, date: str):\n",
    "    \"\"\"Retrieves the weather using Open-Meteo API for a given location (city) and a date (yyyy-mm-dd).\n",
    "    \n",
    "    Returns a list dictionary with the time and temperature for each hour.\"\"\"\n",
    "    location = geolocator.geocode(location)\n",
    "    if location:\n",
    "        try:\n",
    "            response = requests.get(\n",
    "                f\"https://api.open-meteo.com/v1/forecast?latitude={location.latitude}&\"\n",
    "                f\"longitude={location.longitude}&hourly=temperature_2m&start_date={date}&end_date={date}\")\n",
    "            data = response.json()\n",
    "            return {\n",
    "                time: temp\n",
    "                for time, temp in zip(data[\"hourly\"][\"time\"], data[\"hourly\"][\"temperature_2m\"])\n",
    "            }\n",
    "        except Exception as e:\n",
    "            return {\"error\": str(e)}\n",
    "    else:\n",
    "        return {\"error\": \"Location not found\"}\n",
    "\n",
    "\n",
    "tools = [get_weather_forecast]"
   ]
  },
  {
   "cell_type": "markdown",
   "id": "a29c4bd4-09e1-43aa-840d-9782adc564a2",
   "metadata": {},
   "source": [
    "Next, you initialize your model and bind the tools to the model:"
   ]
  },
  {
   "cell_type": "code",
   "execution_count": 16,
   "id": "c51f538e-2d89-4db0-b88a-6bfe82e3806a",
   "metadata": {},
   "outputs": [],
   "source": [
    "from datetime import datetime\n",
    "from langchain_google_genai import ChatGoogleGenerativeAI\n",
    "\n",
    "# Create LLM class\n",
    "llm = ChatGoogleGenerativeAI(\n",
    "    model= \"gemini-2.5-pro\",\n",
    "    temperature=1.0,\n",
    "    max_retries=2)\n",
    "\n",
    "# Bind tools to the model\n",
    "model = llm.bind_tools([get_weather_forecast])"
   ]
  },
  {
   "cell_type": "code",
   "execution_count": 21,
   "id": "5299b191-cda2-4909-95a8-1279a350ab52",
   "metadata": {},
   "outputs": [
    {
     "name": "stdout",
     "output_type": "stream",
     "text": [
      "What is the weather in Berlin on 2025-07-02?\n"
     ]
    }
   ],
   "source": [
    "query = f\"What is the weather in Berlin on {today()}?\"\n",
    "print(query)"
   ]
  },
  {
   "cell_type": "code",
   "execution_count": 22,
   "id": "589598da-5b96-425d-ba08-20c2c01b21b1",
   "metadata": {},
   "outputs": [],
   "source": [
    "# Test the model with tools\n",
    "res=model.invoke(query)"
   ]
  },
  {
   "cell_type": "code",
   "execution_count": 25,
   "id": "282c4ff3-a056-47bd-86ac-8e14fb34d585",
   "metadata": {},
   "outputs": [
    {
     "name": "stdout",
     "output_type": "stream",
     "text": [
      "content='' additional_kwargs={'function_call': {'name': 'get_weather_forecast', 'arguments': '{\"date\": \"2025-07-02\", \"location\": \"Berlin\"}'}} response_metadata={'prompt_feedback': {'block_reason': 0, 'safety_ratings': []}, 'finish_reason': 'STOP', 'model_name': 'gemini-2.5-pro', 'safety_ratings': []} id='run--75360ffb-a3ce-44c3-b822-c93498739c21-0' tool_calls=[{'name': 'get_weather_forecast', 'args': {'date': '2025-07-02', 'location': 'Berlin'}, 'id': 'b0a449c8-9d8e-4e8b-922c-647284f4c717', 'type': 'tool_call'}]\n"
     ]
    }
   ],
   "source": [
    "print(res)"
   ]
  },
  {
   "cell_type": "markdown",
   "id": "441d9f77-4355-421e-8b18-916939c63d22",
   "metadata": {},
   "source": [
    "**The last step before you can run your agent is to define your nodes and edges**. In this example, you have two nodes and one edge. - `call_tool` node that executes your tool method. LangGraph has a prebuilt node for this called [**ToolNode**](https://langchain-ai.github.io/langgraph/how-tos/tool-calling/#toolnode). - `call_model` node that uses the `model_with_tools` to call the model. - `should_continue` edge that decides whether to call the tool or the model.\n",
    "\n",
    "The number of nodes and edges is not fixed. You can add as many nodes and edges as you want to your graph. For example, you could add a node for adding structured output or a self-verification/reflection node to check the model output before calling the tool or the model."
   ]
  },
  {
   "cell_type": "code",
   "execution_count": 24,
   "id": "e69550fe-5873-4a75-9646-fbc1dd4aafa0",
   "metadata": {},
   "outputs": [],
   "source": [
    "from langchain_core.messages import ToolMessage\n",
    "from langchain_core.runnables import RunnableConfig\n",
    "\n",
    "tools_by_name = {tool.name: tool for tool in tools}\n",
    "\n",
    "# Define our tool node\n",
    "def call_tool(state: AgentState):\n",
    "    outputs = []\n",
    "    # Iterate over the tool calls in the last message\n",
    "    for tool_call in state[\"messages\"][-1].tool_calls:\n",
    "        # Get the tool by name\n",
    "        tool_result = tools_by_name[tool_call[\"name\"]].invoke(tool_call[\"args\"])\n",
    "        outputs.append(\n",
    "            ToolMessage(\n",
    "                content=tool_result,\n",
    "                name=tool_call[\"name\"],\n",
    "                tool_call_id=tool_call[\"id\"],\n",
    "            )\n",
    "        )\n",
    "    return {\"messages\": outputs}\n",
    "\n",
    "def call_model(\n",
    "    state: AgentState,\n",
    "    config: RunnableConfig,\n",
    "):\n",
    "    # Invoke the model with the system prompt and the messages\n",
    "    response = model.invoke(state[\"messages\"], config)\n",
    "    # We return a list, because this will get added to the existing messages state using the add_messages reducer\n",
    "    return {\"messages\": [response]}\n",
    "\n",
    "\n",
    "# Define the conditional edge that determines whether to continue or not\n",
    "def should_continue(state: AgentState):\n",
    "    messages = state[\"messages\"]\n",
    "    # If the last message is not a tool call, then we finish\n",
    "    if not messages[-1].tool_calls:\n",
    "        return \"end\"\n",
    "        \n",
    "    # default to continue\n",
    "    return \"continue\""
   ]
  },
  {
   "cell_type": "markdown",
   "id": "83a80df1-1f93-4b92-9cf0-db719dc51a0d",
   "metadata": {},
   "source": [
    "Now you have all the components to build your agent. Let's put them together."
   ]
  },
  {
   "cell_type": "code",
   "execution_count": 27,
   "id": "1a1d8927-f20e-44ff-a1b1-cbc8ece6e7b9",
   "metadata": {},
   "outputs": [],
   "source": [
    "from langgraph.graph import StateGraph, END\n",
    "\n",
    "# Define a new graph with our state\n",
    "workflow = StateGraph(AgentState)\n",
    "\n",
    "# 1. Add our nodes \n",
    "workflow.add_node(\"llm\", call_model)\n",
    "workflow.add_node(\"tools\",  call_tool)\n",
    "\n",
    "# 2. Set the entrypoint as `agent`, this is the first node called\n",
    "workflow.set_entry_point(\"llm\")\n",
    "\n",
    "# 3. Add a conditional edge after the `llm` node is called.\n",
    "workflow.add_conditional_edges(\n",
    "    # Edge is used after the `llm` node is called.\n",
    "    \"llm\",\n",
    "    # The function that will determine which node is called next.\n",
    "    should_continue,\n",
    "    # Mapping for where to go next, keys are strings from the function return, and the values are other nodes.\n",
    "    # END is a special node marking that the graph is finish.\n",
    "    {\n",
    "        # If `tools`, then we call the tool node.\n",
    "        \"continue\": \"tools\",\n",
    "        # Otherwise we finish.\n",
    "        \"end\": END,\n",
    "    },\n",
    ")\n",
    "# 4. Add a normal edge after `tools` is called, `llm` node is called next.\n",
    "workflow.add_edge(\"tools\", \"llm\")\n",
    "\n",
    "# Now we can compile and visualize our graph\n",
    "graph = workflow.compile()"
   ]
  },
  {
   "cell_type": "markdown",
   "id": "544dab92-bc53-4dd6-9979-a48aafc9e5fc",
   "metadata": {},
   "source": [
    "You can visualize your graph using the [`draw_mermaid_png`](https://api.python.langchain.com/en/latest/core/runnables/langchain_core.runnables.graph_mermaid.draw_mermaid_png.html) method."
   ]
  },
  {
   "cell_type": "code",
   "execution_count": 28,
   "id": "31a51704-04a4-4a99-af4f-1915bd6a98ba",
   "metadata": {},
   "outputs": [
    {
     "data": {
      "image/png": "[encoded data removed]",
      "text/plain": [
       "<IPython.core.display.Image object>"
      ]
     },
     "metadata": {},
     "output_type": "display_data"
    }
   ],
   "source": [
    "from IPython.display import Image, display\n",
    "\n",
    "display(Image(graph.get_graph().draw_mermaid_png()))"
   ]
  },
  {
   "cell_type": "markdown",
   "id": "c272bd7a-c04e-4b21-9cb4-3ac3b29bc5b9",
   "metadata": {},
   "source": [
    "Now let's run the agent:"
   ]
  },
  {
   "cell_type": "code",
   "execution_count": 32,
   "id": "b5d58f64-4e2f-4034-929c-2f92f930dd60",
   "metadata": {},
   "outputs": [
    {
     "name": "stdout",
     "output_type": "stream",
     "text": [
      "================================\u001b[1m Human Message \u001b[0m=================================\n",
      "\n",
      "What is the weather in city Taipei from Taiwan on 2025-07-04?\n",
      "==================================\u001b[1m Ai Message \u001b[0m==================================\n",
      "Tool Calls:\n",
      "  get_weather_forecast (d654ba7d-80f4-407b-898b-b15527b8a01b)\n",
      " Call ID: d654ba7d-80f4-407b-898b-b15527b8a01b\n",
      "  Args:\n",
      "    date: 2025-07-04\n",
      "    location: Taipei, Taiwan\n",
      "=================================\u001b[1m Tool Message \u001b[0m=================================\n",
      "Name: get_weather_forecast\n",
      "\n",
      "{'2025-07-04T00:00': 30.8, '2025-07-04T01:00': 32.3, '2025-07-04T02:00': 33.8, '2025-07-04T03:00': 34.8, '2025-07-04T04:00': 35.6, '2025-07-04T05:00': 35.8, '2025-07-04T06:00': 35.2, '2025-07-04T07:00': 34.7, '2025-07-04T08:00': 34.4, '2025-07-04T09:00': 33.4, '2025-07-04T10:00': 32.2, '2025-07-04T11:00': 30.8, '2025-07-04T12:00': 29.7, '2025-07-04T13:00': 29.1, '2025-07-04T14:00': 28.5, '2025-07-04T15:00': 28.0, '2025-07-04T16:00': 27.7, '2025-07-04T17:00': 27.6, '2025-07-04T18:00': 27.5, '2025-07-04T19:00': 27.5, '2025-07-04T20:00': 27.3, '2025-07-04T21:00': 27.0, '2025-07-04T22:00': 27.1, '2025-07-04T23:00': 28.3}\n",
      "==================================\u001b[1m Ai Message \u001b[0m==================================\n",
      "\n",
      "The weather in Taipei, Taiwan on 2025-07-04 will have a low of 27.0 degrees and a high of 35.8 degrees.\n"
     ]
    }
   ],
   "source": [
    "# Create our initial message dictionary\n",
    "inputs = {\n",
    "    \"messages\": [\n",
    "        (\"user\", f\"What is the weather in city Taipei from Taiwan on {today()}?\")]}\n",
    "\n",
    "# call our graph with streaming to see the steps\n",
    "for state in graph.stream(inputs, stream_mode=\"values\"):\n",
    "    last_message = state[\"messages\"][-1]\n",
    "    last_message.pretty_print()"
   ]
  },
  {
   "cell_type": "markdown",
   "id": "38df9025-6f16-46b6-b910-ad200e0c20e4",
   "metadata": {},
   "source": [
    "### <b><font color='darkgreen'>SQL agent</font></b>\n",
    "Now we are going to build an agent to deal with SQL with working flow as below:\n",
    "\n",
    "![SQL agent](images/lab1_agent_sql_working_diagram.png)"
   ]
  },
  {
   "cell_type": "markdown",
   "id": "a7a1fd32-f0a0-4d3f-9b00-38195d8ad8db",
   "metadata": {},
   "source": [
    "#### <b>Tool 1 `lookup_sales_data`: Database Lookup</b>"
   ]
  },
  {
   "cell_type": "code",
   "execution_count": 37,
   "id": "7e309210-0981-4600-8bfc-879ab2d682fd",
   "metadata": {},
   "outputs": [],
   "source": [
    "import pandas as pd\n",
    "import json\n",
    "import duckdb\n",
    "\n",
    "from pydantic import BaseModel, Field\n",
    "from IPython.display import Markdown\n",
    "\n",
    "# define the path to the transactional data\n",
    "TRANSACTION_DATA_FILE_PATH = 'data/Store_Sales_Price_Elasticity_Promotions_Data.parquet'"
   ]
  },
  {
   "cell_type": "markdown",
   "id": "18697df5-0a13-4f9f-9e6f-7ecc132e023d",
   "metadata": {},
   "source": [
    "This database lookup tool works using three steps.\n",
    "\n",
    "![generate db steps](images/lab1_generate_db.png)\n",
    "\n",
    "1. First, it creates the SQL table from a local file, if not already done.\n",
    "2. Second, it translates the original prompt into an sql query (using an LLM call).\n",
    "3. Finally, it runs that query against the database."
   ]
  },
  {
   "cell_type": "code",
   "execution_count": 38,
   "id": "1a3d89f2-8702-480f-affe-0341d63152e7",
   "metadata": {},
   "outputs": [],
   "source": [
    "# prompt template for step 2 of tool 1\n",
    "SQL_GENERATION_PROMPT = \"\"\"\n",
    "Generate an SQL query based on a prompt. Do not reply with anything besides the SQL query.\n",
    "The prompt is: {prompt}\n",
    "\n",
    "The available columns are: {columns}\n",
    "The table name is: {table_name}\n",
    "\"\"\""
   ]
  },
  {
   "cell_type": "code",
   "execution_count": 45,
   "id": "e13d97e4-64ab-42fa-8901-d3a069bafdec",
   "metadata": {},
   "outputs": [],
   "source": [
    "# code for step 2 of tool 1\n",
    "def generate_sql_query(prompt: str, columns: list, table_name: str, chat_model=llm) -> str:\n",
    "    \"\"\"Generate an SQL query based on a prompt\"\"\"\n",
    "    formatted_prompt = SQL_GENERATION_PROMPT.format(prompt=prompt, \n",
    "                                                    columns=columns, \n",
    "                                                    table_name=table_name)\n",
    "\n",
    "    response = chat_model.invoke(formatted_prompt)\n",
    "    \n",
    "    return response.content"
   ]
  },
  {
   "cell_type": "markdown",
   "id": "daaa51e1-1a2f-4aad-beba-7d1c8e974443",
   "metadata": {},
   "source": [
    "Next, let's load in our testing data and explore it:"
   ]
  },
  {
   "cell_type": "code",
   "execution_count": 47,
   "id": "9944985d-50c1-4b29-a446-096e29196642",
   "metadata": {},
   "outputs": [],
   "source": [
    "df = pd.read_parquet(TRANSACTION_DATA_FILE_PATH)"
   ]
  },
  {
   "cell_type": "code",
   "execution_count": 48,
   "id": "30243f93-9c67-4149-a3ec-dc01dc9da6f6",
   "metadata": {},
   "outputs": [
    {
     "data": {
      "text/html": [
       "<div>\n",
       "<style scoped>\n",
       "    .dataframe tbody tr th:only-of-type {\n",
       "        vertical-align: middle;\n",
       "    }\n",
       "\n",
       "    .dataframe tbody tr th {\n",
       "        vertical-align: top;\n",
       "    }\n",
       "\n",
       "    .dataframe thead th {\n",
       "        text-align: right;\n",
       "    }\n",
       "</style>\n",
       "<table border=\"1\" class=\"dataframe\">\n",
       "  <thead>\n",
       "    <tr style=\"text-align: right;\">\n",
       "      <th></th>\n",
       "      <th>Store_Number</th>\n",
       "      <th>SKU_Coded</th>\n",
       "      <th>Product_Class_Code</th>\n",
       "      <th>Sold_Date</th>\n",
       "      <th>Qty_Sold</th>\n",
       "      <th>Total_Sale_Value</th>\n",
       "      <th>On_Promo</th>\n",
       "    </tr>\n",
       "  </thead>\n",
       "  <tbody>\n",
       "    <tr>\n",
       "      <th>0</th>\n",
       "      <td>1320</td>\n",
       "      <td>6172800</td>\n",
       "      <td>22875</td>\n",
       "      <td>2021-11-02</td>\n",
       "      <td>3</td>\n",
       "      <td>56.849998</td>\n",
       "      <td>0</td>\n",
       "    </tr>\n",
       "    <tr>\n",
       "      <th>1</th>\n",
       "      <td>2310</td>\n",
       "      <td>6172800</td>\n",
       "      <td>22875</td>\n",
       "      <td>2021-11-03</td>\n",
       "      <td>1</td>\n",
       "      <td>18.950001</td>\n",
       "      <td>0</td>\n",
       "    </tr>\n",
       "    <tr>\n",
       "      <th>2</th>\n",
       "      <td>3080</td>\n",
       "      <td>6172800</td>\n",
       "      <td>22875</td>\n",
       "      <td>2021-11-03</td>\n",
       "      <td>1</td>\n",
       "      <td>18.950001</td>\n",
       "      <td>0</td>\n",
       "    </tr>\n",
       "    <tr>\n",
       "      <th>3</th>\n",
       "      <td>2310</td>\n",
       "      <td>6172800</td>\n",
       "      <td>22875</td>\n",
       "      <td>2021-11-06</td>\n",
       "      <td>1</td>\n",
       "      <td>18.950001</td>\n",
       "      <td>0</td>\n",
       "    </tr>\n",
       "    <tr>\n",
       "      <th>4</th>\n",
       "      <td>4840</td>\n",
       "      <td>6172800</td>\n",
       "      <td>22875</td>\n",
       "      <td>2021-11-07</td>\n",
       "      <td>1</td>\n",
       "      <td>18.950001</td>\n",
       "      <td>0</td>\n",
       "    </tr>\n",
       "  </tbody>\n",
       "</table>\n",
       "</div>"
      ],
      "text/plain": [
       "   Store_Number  SKU_Coded  Product_Class_Code   Sold_Date  Qty_Sold  \\\n",
       "0          1320    6172800               22875  2021-11-02         3   \n",
       "1          2310    6172800               22875  2021-11-03         1   \n",
       "2          3080    6172800               22875  2021-11-03         1   \n",
       "3          2310    6172800               22875  2021-11-06         1   \n",
       "4          4840    6172800               22875  2021-11-07         1   \n",
       "\n",
       "   Total_Sale_Value  On_Promo  \n",
       "0         56.849998         0  \n",
       "1         18.950001         0  \n",
       "2         18.950001         0  \n",
       "3         18.950001         0  \n",
       "4         18.950001         0  "
      ]
     },
     "execution_count": 48,
     "metadata": {},
     "output_type": "execute_result"
    }
   ],
   "source": [
    "df.head()"
   ]
  },
  {
   "cell_type": "markdown",
   "id": "7a44627b-e8f2-4eda-a786-068afd42846d",
   "metadata": {},
   "source": [
    "So below function will try to compose the SQL from given `prompt` and return the querying result:"
   ]
  },
  {
   "cell_type": "code",
   "execution_count": 64,
   "id": "d2337fb0-7939-4394-930a-f549f153ad77",
   "metadata": {},
   "outputs": [],
   "source": [
    "# code for tool 1\n",
    "class LookupSalesDataInput(BaseModel):\n",
    "    prompt:str = Field(description=\"The unchanged prompt that the user provided.\")\n",
    "\n",
    "\n",
    "@tool(\"lookup_sales_data\", args_schema=LookupSalesDataInput)\n",
    "def lookup_sales_data(prompt: str) -> str:\n",
    "    \"\"\"Look up data from Store Sales Price Elasticity Promotions dataset.\"\"\"\n",
    "    try:\n",
    "\n",
    "        # define the table name\n",
    "        table_name = \"sales\"\n",
    "        \n",
    "        # step 1: read the parquet file into a DuckDB table\n",
    "        df = pd.read_parquet(TRANSACTION_DATA_FILE_PATH)\n",
    "        duckdb.sql(f\"CREATE TABLE IF NOT EXISTS {table_name} AS SELECT * FROM df\")\n",
    "\n",
    "        # step 2: generate the SQL code\n",
    "        sql_query = generate_sql_query(prompt, df.columns, table_name)\n",
    "        # clean the response to make sure it only includes the SQL code\n",
    "        sql_query = sql_query.strip()\n",
    "        sql_query = sql_query.replace(\"```sql\", \"\").replace(\"```\", \"\")\n",
    "        \n",
    "        # step 3: execute the SQL query\n",
    "        result = duckdb.sql(sql_query).df()\n",
    "        \n",
    "        return result.to_string()\n",
    "    except Exception as e:\n",
    "        return f\"Error accessing data: {str(e)}\""
   ]
  },
  {
   "cell_type": "markdown",
   "id": "753300bd-9e00-44ab-b771-2729ce14e9d9",
   "metadata": {},
   "source": [
    "Great! Now let's test the first tool and make sure it worked correctly."
   ]
  },
  {
   "cell_type": "code",
   "execution_count": 50,
   "id": "1576fd58-eace-45c1-a091-90ece0306365",
   "metadata": {},
   "outputs": [
    {
     "name": "stdout",
     "output_type": "stream",
     "text": [
      "    Store_Number  SKU_Coded  Product_Class_Code  Sold_Date  Qty_Sold  Total_Sale_Value  On_Promo\n",
      "0           1320    6173050               22875 2021-11-01         1          4.990000         0\n",
      "1           1320    6174250               22875 2021-11-01         1          0.890000         0\n",
      "2           1320    6176200               22975 2021-11-01         2         99.980003         0\n",
      "3           1320    6176800               22800 2021-11-01         1         14.970000         0\n",
      "4           1320    6177250               22975 2021-11-01         1          6.890000         0\n",
      "5           1320    6177300               22800 2021-11-01         1          9.990000         0\n",
      "6           1320    6177350               22800 2021-11-01         2         16.980000         0\n",
      "7           1320    6177700               22875 2021-11-01         1          3.190000         0\n",
      "8           1320    6178000               22875 2021-11-01         2          6.380000         0\n",
      "9           1320    6178250               22800 2021-11-01         1         16.590000         0\n",
      "10          1320    6179250               24400 2021-11-01         1         14.990000         0\n",
      "11          1320    6179300               22800 2021-11-01         2          9.980000         0\n",
      "12          1320    6179400               24400 2021-11-01         2         29.980000         0\n",
      "13          1320    6179450               24400 2021-11-01         1         14.990000         0\n",
      "14          1320    6179500               24400 2021-11-01         1         14.990000         0\n",
      "15          1320    6179750               22800 2021-11-01         2         39.980000         0\n",
      "16          1320    6180550               22975 2021-11-01         1         15.990000         0\n",
      "17          1320    6182050               22975 2021-11-01         1          7.990000         0\n",
      "18          1320    6183750               22850 2021-11-01         3         38.970001         0\n",
      "19          1320    6184100               22975 2021-11-01         3         59.970001         0\n",
      "20          1320    6188550               22950 2021-11-01         2         15.980000         0\n",
      "21          1320    6190050               24425 2021-11-01         5         19.950001         0\n",
      "22          1320    6190150               24425 2021-11-01         1          8.990000         0\n",
      "23          1320    6190200               24425 2021-11-01         1          8.990000         0\n",
      "24          1320    6190250               24425 2021-11-01         1          7.990000         0\n",
      "25          1320    6190350               22950 2021-11-01         1          6.990000         0\n",
      "26          1320    6190400               22950 2021-11-01         1          6.990000         0\n",
      "27          1320    6193750               22875 2021-11-01         1          6.990000         0\n",
      "28          1320    6195350               24375 2021-11-01         1         16.990000         0\n",
      "29          1320    6195800               22850 2021-11-01         3         25.719999         1\n"
     ]
    }
   ],
   "source": [
    "example_data = lookup_sales_data(\"Show me all the sales for store 1320 on November 1st, 2021\")\n",
    "print(example_data)"
   ]
  },
  {
   "cell_type": "markdown",
   "id": "23a462a1-2032-45c0-977b-73c6ac28b662",
   "metadata": {},
   "source": [
    "#### <b>Tool 2 `analyze_sales_data`: Data Analysis</b>\n",
    "The second tool can analyze the returned data and display conclusions to users:\n",
    "\n",
    "![data analysis](images/lab1_data_analysis.png)"
   ]
  },
  {
   "cell_type": "code",
   "execution_count": 51,
   "id": "5cd0ce2e-f1bf-4616-a884-efcb9866429d",
   "metadata": {},
   "outputs": [],
   "source": [
    "# Construct prompt based on analysis type and data subset\n",
    "DATA_ANALYSIS_PROMPT = \"\"\"\n",
    "Analyze the following data: {data}\n",
    "Your job is to answer the following question: {prompt}\n",
    "\"\"\""
   ]
  },
  {
   "cell_type": "code",
   "execution_count": 70,
   "id": "007248d2-736e-4288-a866-50128945223d",
   "metadata": {},
   "outputs": [],
   "source": [
    "# code for tool 2\n",
    "class AnalyzeSalesDataInput(BaseModel):\n",
    "    prompt:str = Field(description=\"The lookup_sales_data tool's output.\")\n",
    "    data: str = Field(description=\"The unchanged prompt that the user provided.\")\n",
    "\n",
    "\n",
    "@tool(\"analyze_sales_data\", args_schema=AnalyzeSalesDataInput, return_direct=False)\n",
    "def analyze_sales_data(prompt: str, data: str, chat_model=llm) -> str:\n",
    "    \"\"\"Analyze sales data to extract insights\"\"\"\n",
    "    formatted_prompt = DATA_ANALYSIS_PROMPT.format(data=data, prompt=prompt)\n",
    "\n",
    "    response = chat_model.invoke(formatted_prompt)\n",
    "    \n",
    "    analysis = response.content\n",
    "    return analysis if analysis else \"No analysis could be generated\""
   ]
  },
  {
   "cell_type": "markdown",
   "id": "220dd475-ea67-4505-9fa8-7241e5461ca8",
   "metadata": {},
   "source": [
    "This tool is relatively simple, but let's still test it out to be sure things are working correctly:"
   ]
  },
  {
   "cell_type": "code",
   "execution_count": 53,
   "id": "d1796e71-d6d4-486f-8e4d-423f9347409c",
   "metadata": {},
   "outputs": [
    {
     "name": "stdout",
     "output_type": "stream",
     "text": [
      "Of course. Based on the provided data snippet, here is an analysis of the observable trends.\n",
      "\n",
      "### Executive Summary\n",
      "\n",
      "The data represents a snapshot of 30 sales transactions from a **single store (1320)** on a **single day (November 1, 2021)**. The key trends observed are related to product class performance, price points, and the minimal use of promotions on this particular day. **Product Class 22975** generated the most revenue, driven by a high-priced item, while **Product Class 22800** sold the highest number of units. Promotions were nearly non-existent, with only one item marked as on sale, which appears to have a lower unit price than a similar non-promo item.\n",
      "\n",
      "---\n",
      "\n",
      "### Detailed Trend Analysis\n",
      "\n",
      "#### 1. Data Scope and Limitations\n",
      "It is crucial to note that this analysis is based on a very limited sample:\n",
      "*   **Single Store:** All transactions are for `Store_Number` 1320. No comparisons between stores can be made.\n",
      "*   **Single Day:** All transactions occurred on `Sold_Date` 2021-11-01. This prevents any analysis of trends over time (e.g., daily, weekly, or seasonal patterns).\n",
      "\n",
      "#### 2. Product Class Performance (on this day)\n",
      "\n",
      "By aggregating the data by `Product_Class_Code`, we can see which categories were the most significant on this day.\n",
      "\n",
      "*   **Highest Revenue Generator:** **`Product_Class_Code` 22975** is the top performer in `Total_Sale_Value`.\n",
      "    *   It generated approximately **$180.82** in sales from 8 units sold.\n",
      "    *   This is heavily skewed by a single transaction (row 2) of two items sold for a total of $99.98, indicating a high-priced product within this class (unit price of ~$49.99).\n",
      "\n",
      "*   **Highest Volume Seller:** **`Product_Class_Code` 22800** sold the most individual units.\n",
      "    *   It sold a total of **9 units** across 6 transactions, generating approximately **$108.50** in revenue.\n",
      "    *   This class appears to contain mid-range priced items.\n",
      "\n",
      "*   **Value vs. Volume Discrepancy:** There is a clear difference between sales volume and sales value. For example, `Product_Class_Code` **24425** also sold 8 units (same as 22975) but generated only **$45.92**, indicating its products have a much lower average price point.\n",
      "\n",
      "#### 3. Price Point Variation and Sales Quantity\n",
      "\n",
      "*   **Wide Range of Prices:** The data shows a wide distribution of unit prices (calculated as `Total_Sale_Value / Qty_Sold`). Prices range from a low of **$0.89** (row 1) to a high of **$49.99** (row 2).\n",
      "*   **Typical Transaction Size:** Most transactions involve a small quantity of items.\n",
      "    *   **19 out of 30** transactions (63%) are for a single unit (`Qty_Sold` = 1).\n",
      "    *   The largest quantity sold in a single transaction is **5 units** (row 21).\n",
      "\n",
      "#### 4. Minimal Impact of Promotions\n",
      "\n",
      "*   **Promotions are Rare:** Only **1 out of 30 transactions** (row 29) was marked as `On_Promo = 1`. This suggests that on this day, promotions were not a major sales driver.\n",
      "*   **Evidence of Price Reduction:** The single promotional item offers a clue about the nature of the promotions.\n",
      "    *   **Promo Item (row 29):** `Product_Class_Code` 22850, 3 units sold for $25.72 (Unit Price: **~$8.57**).\n",
      "    *   **Non-Promo Item (row 18):** Same `Product_Class_Code` 22850, 3 units sold for $38.97 (Unit Price: **~$12.99**).\n",
      "    *   This suggests that being \"On_Promo\" corresponds to a significant price reduction. However, with only one example, it's impossible to determine if the promotion successfully increased sales volume.\n",
      "\n",
      "### Conclusion and Recommendations\n",
      "\n",
      "Based on this limited, single-day snapshot, the key business drivers for Store 1320 on November 1st, 2021, were high-value items in classes like **22975** and consistent volume from mid-range items in classes like **22800**.\n",
      "\n",
      "For a more comprehensive analysis, the following data would be required:\n",
      "*   **A longer time period:** To identify sales trends, seasonality, and the true impact of promotions over time.\n",
      "*   **Data from other stores:** To compare performance and identify store-specific patterns.\n",
      "*   **Product information:** To understand what the `Product_Class_Code` categories represent (e.g., electronics, groceries, apparel).\n"
     ]
    }
   ],
   "source": [
    "print(analyze_sales_data(prompt=\"what trends do you see in this data\", \n",
    "                         data=example_data))"
   ]
  },
  {
   "cell_type": "markdown",
   "id": "6b3f353b-af4d-42d1-b68e-1f81a2ce8838",
   "metadata": {},
   "source": [
    "#### <b>Tool 3 `generate_visualization`: Data Visualization</b>\n",
    "The third tool generates python code to create the requested graphs from the returned data of the first tool. It consists of two steps:\n",
    "\n",
    "![generate charts](images/lab1_generate_charts.png)\n",
    "\n",
    "1. First, it creates the chart configuration: chart type, title, data, lables for x-axis and y-axis (using an LLM call).\n",
    "2. Second, it generates the python code based on the chart configuration of the first step (using an LLM call)."
   ]
  },
  {
   "cell_type": "code",
   "execution_count": 54,
   "id": "e047fbec-b18e-48d2-a123-b8e9eb20f96f",
   "metadata": {},
   "outputs": [],
   "source": [
    "# prompt template for step 1 of tool 3\n",
    "CHART_CONFIGURATION_PROMPT = \"\"\"\n",
    "Generate a chart configuration based on this data: {data}\n",
    "The goal is to show: {visualization_goal}\n",
    "\"\"\""
   ]
  },
  {
   "cell_type": "code",
   "execution_count": 55,
   "id": "340189a9-b866-459f-b5ac-c9454fdb6afa",
   "metadata": {},
   "outputs": [],
   "source": [
    "# class defining the response format of step 1 of tool 3\n",
    "class VisualizationConfig(BaseModel):\n",
    "    chart_type: str = Field(..., description=\"Type of chart to generate\")\n",
    "    x_axis: str = Field(..., description=\"Name of the x-axis column\")\n",
    "    y_axis: str = Field(..., description=\"Name of the y-axis column\")\n",
    "    title: str = Field(..., description=\"Title of the chart\")"
   ]
  },
  {
   "cell_type": "code",
   "execution_count": 56,
   "id": "405476d3-72f1-4e24-a3cc-aa2a4ef36a25",
   "metadata": {},
   "outputs": [],
   "source": [
    "# code for step 1 of tool 3\n",
    "def extract_chart_config(data: str, visualization_goal: str, chat_model=llm) -> dict:\n",
    "    \"\"\"Generate chart visualization configuration\n",
    "    \n",
    "    Args:\n",
    "        data: String containing the data to visualize\n",
    "        visualization_goal: Description of what the visualization should show\n",
    "        \n",
    "    Returns:\n",
    "        Dictionary containing line chart configuration\n",
    "    \"\"\"\n",
    "    formatted_prompt = CHART_CONFIGURATION_PROMPT.format(data=data,\n",
    "                                                         visualization_goal=visualization_goal)\n",
    "\n",
    "    structured_chat_model = chat_model.with_structured_output(VisualizationConfig)\n",
    "    response = structured_chat_model.invoke(formatted_prompt)\n",
    "    \n",
    "    try:\n",
    "        # Extract axis and title info from response\n",
    "        content = response.content\n",
    "        \n",
    "        # Return structured chart config\n",
    "        return {\n",
    "            \"chart_type\": content.chart_type,\n",
    "            \"x_axis\": content.x_axis,\n",
    "            \"y_axis\": content.y_axis,\n",
    "            \"title\": content.title,\n",
    "            \"data\": data\n",
    "        }\n",
    "    except Exception:\n",
    "        return {\n",
    "            \"chart_type\": \"line\", \n",
    "            \"x_axis\": \"date\",\n",
    "            \"y_axis\": \"value\",\n",
    "            \"title\": visualization_goal,\n",
    "            \"data\": data\n",
    "        }"
   ]
  },
  {
   "cell_type": "code",
   "execution_count": 57,
   "id": "f61d25ff-cc27-45e2-8342-95700ee920d4",
   "metadata": {},
   "outputs": [],
   "source": [
    "# prompt template for step 2 of tool 3\n",
    "CREATE_CHART_PROMPT = \"\"\"\n",
    "Write python code to create a chart based on the following configuration.\n",
    "Only return the code, no other text.\n",
    "config: {config}\n",
    "\"\"\""
   ]
  },
  {
   "cell_type": "code",
   "execution_count": 59,
   "id": "d7952ed1-d01d-427b-ad90-e2e43a5a68a2",
   "metadata": {},
   "outputs": [],
   "source": [
    "# code for step 2 of tool 3\n",
    "def create_chart(config: dict, chat_model=llm) -> str:\n",
    "    \"\"\"Create a chart based on the configuration\"\"\"\n",
    "    formatted_prompt = CREATE_CHART_PROMPT.format(config=config)\n",
    "    \n",
    "    response = chat_model.invoke(formatted_prompt)\n",
    "    \n",
    "    code = response.content\n",
    "    code = code.replace(\"```python\", \"\").replace(\"```\", \"\")\n",
    "    code = code.strip()\n",
    "    \n",
    "    return code"
   ]
  },
  {
   "cell_type": "code",
   "execution_count": 68,
   "id": "d264a439-7b72-4692-acf2-f8fecb05da00",
   "metadata": {},
   "outputs": [],
   "source": [
    "# code for tool 3\n",
    "class GenerateVisualInput(BaseModel):\n",
    "    data: str = Field(..., description=\"The lookup_sales_data tool's output.\")\n",
    "    visualization_goal: str = Field(..., description=\"The goal of the visualization.\")\n",
    "\n",
    "\n",
    "@tool(\"generate_visualization\", args_schema=GenerateVisualInput, return_direct=False)\n",
    "def generate_visualization(data: str, visualization_goal: str) -> str:\n",
    "    \"\"\"Generate Python code to create data visualizations.\"\"\"\n",
    "    config = extract_chart_config(data, visualization_goal)\n",
    "    code = create_chart(config)\n",
    "    return code"
   ]
  },
  {
   "cell_type": "markdown",
   "id": "b85b8919-4b04-40aa-92c3-97b0a5437373",
   "metadata": {},
   "source": [
    "Great, now let's try the third tool out:"
   ]
  },
  {
   "cell_type": "code",
   "execution_count": 61,
   "id": "116ae094-7d2b-44d9-8d3e-1e3118739348",
   "metadata": {},
   "outputs": [
    {
     "name": "stdout",
     "output_type": "stream",
     "text": [
      "import pandas as pd\n",
      "import matplotlib.pyplot as plt\n",
      "import io\n",
      "\n",
      "config = {'chart_type': 'line', 'x_axis': 'date', 'y_axis': 'value', 'title': 'A bar chart of sales by product SKU. Put the product SKU on the x-axis and the sales on the y-axis.', 'data': '    Store_Number  SKU_Coded  Product_Class_Code  Sold_Date  Qty_Sold  Total_Sale_Value  On_Promo\\n0           1320    6173050               22875 2021-11-01         1          4.990000         0\\n1           1320    6174250               22875 2021-11-01         1          0.890000         0\\n2           1320    6176200               22975 2021-11-01         2         99.980003         0\\n3           1320    6176800               22800 2021-11-01         1         14.970000         0\\n4           1320    6177250               22975 2021-11-01         1          6.890000         0\\n5           1320    6177300               22800 2021-11-01         1          9.990000         0\\n6           1320    6177350               22800 2021-11-01         2         16.980000         0\\n7           1320    6177700               22875 2021-11-01         1          3.190000         0\\n8           1320    6178000               22875 2021-11-01         2          6.380000         0\\n9           1320    6178250               22800 2021-11-01         1         16.590000         0\\n10          1320    6179250               24400 2021-11-01         1         14.990000         0\\n11          1320    6179300               22800 2021-11-01         2          9.980000         0\\n12          1320    6179400               24400 2021-11-01         2         29.980000         0\\n13          1320    6179450               24400 2021-11-01         1         14.990000         0\\n14          1320    6179500               24400 2021-11-01         1         14.990000         0\\n15          1320    6179750               22800 2021-11-01         2         39.980000         0\\n16          1320    6180550               22975 2021-11-01         1         15.990000         0\\n17          1320    6182050               22975 2021-11-01         1          7.990000         0\\n18          1320    6183750               22850 2021-11-01         3         38.970001         0\\n19          1320    6184100               22975 2021-11-01         3         59.970001         0\\n20          1320    6188550               22950 2021-11-01         2         15.980000         0\\n21          1320    6190050               24425 2021-11-01         5         19.950001         0\\n22          1320    6190150               24425 2021-11-01         1          8.990000         0\\n23          1320    6190200               24425 2021-11-01         1          8.990000         0\\n24          1320    6190250               24425 2021-11-01         1          7.990000         0\\n25          1320    6190350               22950 2021-11-01         1          6.990000         0\\n26          1320    6190400               22950 2021-11-01         1          6.990000         0\\n27          1320    6193750               22875 2021-11-01         1          6.990000         0\\n28          1320    6195350               24375 2021-11-01         1         16.990000         0\\n29          1320    6195800               22850 2021-11-01         3         25.719999         1'}\n",
      "\n",
      "data_string = config['data']\n",
      "df = pd.read_csv(io.StringIO(data_string), sep=r'\\s+')\n",
      "\n",
      "# The title specifies a bar chart of sales by SKU, which is a more detailed instruction.\n",
      "# We will follow the title's guidance.\n",
      "sales_by_sku = df.groupby('SKU_Coded')['Total_Sale_Value'].sum().reset_index()\n",
      "\n",
      "plt.figure(figsize=(12, 7))\n",
      "\n",
      "# Create the bar chart as described in the title\n",
      "plt.bar(sales_by_sku['SKU_Coded'].astype(str), sales_by_sku['Total_Sale_Value'])\n",
      "\n",
      "plt.xlabel('Product SKU')\n",
      "plt.ylabel('Sales')\n",
      "plt.title(config['title'])\n",
      "plt.xticks(rotation=90)\n",
      "plt.tight_layout()\n",
      "plt.show()\n"
     ]
    }
   ],
   "source": [
    "code = generate_visualization(\n",
    "    example_data, \n",
    "    \"A bar chart of sales by product SKU. Put the product SKU on the x-axis and the sales on the y-axis.\")\n",
    "\n",
    "print(code)"
   ]
  },
  {
   "cell_type": "code",
   "execution_count": 63,
   "id": "87f7c6b2-324b-4c53-8f80-c8e0cb8ec53e",
   "metadata": {},
   "outputs": [
    {
     "data": {
      "image/png": "[encoded data removed]",
      "text/plain": [
       "<Figure size 1200x700 with 1 Axes>"
      ]
     },
     "metadata": {},
     "output_type": "display_data"
    }
   ],
   "source": [
    "exec(code)"
   ]
  },
  {
   "cell_type": "markdown",
   "id": "927fa7d9-8365-4436-91eb-ecfecfd57746",
   "metadata": {},
   "source": [
    "#### <b>Defining the Router</b>\n",
    "Now that all of the tools are defined, you can create the router. The router will take the original user input, and is responsible for calling any tools. <b>After each tool call is completed, the agent will return to router to determine whether another tool should be called</b>.\n",
    "\n",
    "The router is composed of a main loop method, and a method to handle the tool calls that you get back from the model:\n",
    "\n",
    "![Router logic](images/lab1_router_logic.png)"
   ]
  },
  {
   "cell_type": "code",
   "execution_count": 69,
   "id": "0dbd971a-b445-4911-a82e-a684465a2c5c",
   "metadata": {},
   "outputs": [],
   "source": [
    "# Create LLM class\n",
    "llm_sql = ChatGoogleGenerativeAI(\n",
    "    model= \"gemini-2.5-pro\",\n",
    "    temperature=1.0,\n",
    "    max_retries=2)"
   ]
  },
  {
   "cell_type": "code",
   "execution_count": 72,
   "id": "642b8b8f-8f9a-413e-9a5c-6ad79c8682ef",
   "metadata": {},
   "outputs": [],
   "source": [
    "# Bind tools to the model\n",
    "sql_tools = [lookup_sales_data, analyze_sales_data, generate_visualization]\n",
    "model = llm_sql.bind_tools(sql_tools)"
   ]
  },
  {
   "cell_type": "code",
   "execution_count": 75,
   "id": "5957750a-f2e2-49ff-8c56-5a01c4ebf00c",
   "metadata": {},
   "outputs": [],
   "source": [
    "sql_tools_by_name = {tool.name: tool for tool in sql_tools}\n",
    "\n",
    "# Define our tool node\n",
    "def call_sql_tool(state: AgentState):\n",
    "    outputs = []\n",
    "    # Iterate over the tool calls in the last message\n",
    "    for tool_call in state[\"messages\"][-1].tool_calls:\n",
    "        # Get the tool by name\n",
    "        tool_result = sql_tools_by_name[tool_call[\"name\"]].invoke(tool_call[\"args\"])\n",
    "        outputs.append(\n",
    "            ToolMessage(\n",
    "                content=tool_result,\n",
    "                name=tool_call[\"name\"],\n",
    "                tool_call_id=tool_call[\"id\"],\n",
    "            )\n",
    "        )\n",
    "    return {\"messages\": outputs}\n",
    "\n",
    "def call_sql_model(\n",
    "    state: AgentState,\n",
    "    config: RunnableConfig,\n",
    "):\n",
    "    # Invoke the model with the system prompt and the messages\n",
    "    response = model.invoke(state[\"messages\"], config)\n",
    "    # We return a list, because this will get added to the existing messages state using the add_messages reducer\n",
    "    return {\"messages\": [response]}\n",
    "\n",
    "\n",
    "# Define the conditional edge that determines whether to continue or not\n",
    "def should_continue(state: AgentState):\n",
    "    messages = state[\"messages\"]\n",
    "    # If the last message is not a tool call, then we finish\n",
    "    if not messages[-1].tool_calls:\n",
    "        return \"end\"\n",
    "        \n",
    "    # default to continue\n",
    "    return \"continue\""
   ]
  },
  {
   "cell_type": "code",
   "execution_count": 77,
   "id": "b46d29b6-6aec-47f1-9f00-aa3ddc15e2ae",
   "metadata": {},
   "outputs": [],
   "source": [
    "# Define a new graph with our state\n",
    "sql_workflow = StateGraph(AgentState)\n",
    "\n",
    "# 1. Add our nodes \n",
    "sql_workflow.add_node(\"llm\", call_sql_model)\n",
    "sql_workflow.add_node(\"sql_tools\",  call_sql_tool)\n",
    "\n",
    "# 2. Set the entrypoint as `agent`, this is the first node called\n",
    "sql_workflow.set_entry_point(\"llm\")\n",
    "\n",
    "# 3. Add a conditional edge after the `llm` node is called.\n",
    "sql_workflow.add_conditional_edges(\n",
    "    # Edge is used after the `llm` node is called.\n",
    "    \"llm\",\n",
    "    # The function that will determine which node is called next.\n",
    "    should_continue,\n",
    "    # Mapping for where to go next, keys are strings from the function return, and the values are other nodes.\n",
    "    # END is a special node marking that the graph is finish.\n",
    "    {\n",
    "        # If `tools`, then we call the tool node.\n",
    "        \"continue\": \"sql_tools\",\n",
    "        # Otherwise we finish.\n",
    "        \"end\": END,\n",
    "    },\n",
    ")\n",
    "# 4. Add a normal edge after `sql_tools` is called, `llm` node is called next.\n",
    "sql_workflow.add_edge(\"sql_tools\", \"llm\")\n",
    "\n",
    "# Now we can compile and visualize our graph\n",
    "sql_graph = sql_workflow.compile()"
   ]
  },
  {
   "cell_type": "code",
   "execution_count": 78,
   "id": "3249b0df-72fd-4004-a6fb-168c04339e90",
   "metadata": {},
   "outputs": [
    {
     "data": {
      "image/png": "[encoded data removed]",
      "text/plain": [
       "<IPython.core.display.Image object>"
      ]
     },
     "metadata": {},
     "output_type": "display_data"
    }
   ],
   "source": [
    "display(Image(sql_graph.get_graph().draw_mermaid_png()))"
   ]
  },
  {
   "cell_type": "markdown",
   "id": "979c6762-3cb0-4f88-b968-d4ef5e99468d",
   "metadata": {},
   "source": [
    "Let's test the SQL workflow:"
   ]
  },
  {
   "cell_type": "code",
   "execution_count": 87,
   "id": "fc2a9b15-40a7-4a9a-9fd3-5c47cd364ad8",
   "metadata": {},
   "outputs": [],
   "source": [
    "from langchain_core.messages import HumanMessage, SystemMessage\n",
    "\n",
    "SYSTEM_PROMPT = \"\"\"\n",
    "You are a helpful assistant that can answer questions about the Store Sales Price Elasticity Promotions dataset.\n",
    "For any request to generate the code, please return the generated code only without anything else.\n",
    "\"\"\""
   ]
  },
  {
   "cell_type": "code",
   "execution_count": 86,
   "id": "11817ef3-f354-4939-bcbb-ca3b15146d68",
   "metadata": {},
   "outputs": [
    {
     "name": "stdout",
     "output_type": "stream",
     "text": [
      "================================\u001b[1m Human Message \u001b[0m=================================\n",
      "\n",
      "For all the sales for store 1320 on November 1st, 2021, Generate code for a bar chart of sales by product SKU.Put the product SKU on the x-axis and the sales on the y-axis. Please return the generated code only.\n",
      "==================================\u001b[1m Ai Message \u001b[0m==================================\n",
      "Tool Calls:\n",
      "  lookup_sales_data (e143aef6-0dcd-4e68-b95e-7583388abdcc)\n",
      " Call ID: e143aef6-0dcd-4e68-b95e-7583388abdcc\n",
      "  Args:\n",
      "    prompt: For all the sales for store 1320 on November 1st, 2021.\n",
      "=================================\u001b[1m Tool Message \u001b[0m=================================\n",
      "Name: lookup_sales_data\n",
      "\n",
      "    Store_Number  SKU_Coded  Product_Class_Code  Sold_Date  Qty_Sold  Total_Sale_Value  On_Promo\n",
      "0           1320    6173050               22875 2021-11-01         1          4.990000         0\n",
      "1           1320    6174250               22875 2021-11-01         1          0.890000         0\n",
      "2           1320    6176200               22975 2021-11-01         2         99.980003         0\n",
      "3           1320    6176800               22800 2021-11-01         1         14.970000         0\n",
      "4           1320    6177250               22975 2021-11-01         1          6.890000         0\n",
      "5           1320    6177300               22800 2021-11-01         1          9.990000         0\n",
      "6           1320    6177350               22800 2021-11-01         2         16.980000         0\n",
      "7           1320    6177700               22875 2021-11-01         1          3.190000         0\n",
      "8           1320    6178000               22875 2021-11-01         2          6.380000         0\n",
      "9           1320    6178250               22800 2021-11-01         1         16.590000         0\n",
      "10          1320    6179250               24400 2021-11-01         1         14.990000         0\n",
      "11          1320    6179300               22800 2021-11-01         2          9.980000         0\n",
      "12          1320    6179400               24400 2021-11-01         2         29.980000         0\n",
      "13          1320    6179450               24400 2021-11-01         1         14.990000         0\n",
      "14          1320    6179500               24400 2021-11-01         1         14.990000         0\n",
      "15          1320    6179750               22800 2021-11-01         2         39.980000         0\n",
      "16          1320    6180550               22975 2021-11-01         1         15.990000         0\n",
      "17          1320    6182050               22975 2021-11-01         1          7.990000         0\n",
      "18          1320    6183750               22850 2021-11-01         3         38.970001         0\n",
      "19          1320    6184100               22975 2021-11-01         3         59.970001         0\n",
      "20          1320    6188550               22950 2021-11-01         2         15.980000         0\n",
      "21          1320    6190050               24425 2021-11-01         5         19.950001         0\n",
      "22          1320    6190150               24425 2021-11-01         1          8.990000         0\n",
      "23          1320    6190200               24425 2021-11-01         1          8.990000         0\n",
      "24          1320    6190250               24425 2021-11-01         1          7.990000         0\n",
      "25          1320    6190350               22950 2021-11-01         1          6.990000         0\n",
      "26          1320    6190400               22950 2021-11-01         1          6.990000         0\n",
      "27          1320    6193750               22875 2021-11-01         1          6.990000         0\n",
      "28          1320    6195350               24375 2021-11-01         1         16.990000         0\n",
      "29          1320    6195800               22850 2021-11-01         3         25.719999         1\n",
      "==================================\u001b[1m Ai Message \u001b[0m==================================\n",
      "Tool Calls:\n",
      "  generate_visualization (57f02fa1-5e6f-4031-9145-f17781985781)\n",
      " Call ID: 57f02fa1-5e6f-4031-9145-f17781985781\n",
      "  Args:\n",
      "    visualization_goal: a bar chart of sales by product SKU.Put the product SKU on the x-axis and the sales on the y-axis.\n",
      "    data:     Store_Number  SKU_Coded  Product_Class_Code  Sold_Date  Qty_Sold  Total_Sale_Value  On_Promo\n",
      "0           1320    6173050               22875 2021-11-01         1          4.990000         0\n",
      "1           1320    6174250               22875 2021-11-01         1          0.890000         0\n",
      "2           1320    6176200               22975 2021-11-01         2         99.980003         0\n",
      "3           1320    6176800               22800 2021-11-01         1         14.970000         0\n",
      "4           1320    6177250               22975 2021-11-01         1          6.890000         0\n",
      "5           1320    6177300               22800 2021-11-01         1          9.990000         0\n",
      "6           1320    6177350               22800 2021-11-01         2         16.980000         0\n",
      "7           1320    6177700               22875 2021-11-01         1          3.190000         0\n",
      "8           1320    6178000               22875 2021-11-01         2          6.380000         0\n",
      "9           1320    6178250               22800 2021-11-01         1         16.590000         0\n",
      "10          1320    6179250               24400 2021-11-01         1         14.990000         0\n",
      "11          1320    6179300               22800 2021-11-01         2          9.980000         0\n",
      "12          1320    6179400               24400 2021-11-01         2         29.980000         0\n",
      "13          1320    6179450               24400 2021-11-01         1         14.990000         0\n",
      "14          1320    6179500               24400 2021-11-01         1         14.990000         0\n",
      "15          1320    6179750               22800 2021-11-01         2         39.980000         0\n",
      "16          1320    6180550               22975 2021-11-01         1         15.990000         0\n",
      "17          1320    6182050               22975 2021-11-01         1          7.990000         0\n",
      "18          1320    6183750               22850 2021-11-01         3         38.970001         0\n",
      "19          1320    6184100               22975 2021-11-01         3         59.970001         0\n",
      "20          1320    6188550               22950 2021-11-01         2         15.980000         0\n",
      "21          1320    6190050               24425 2021-11-01         5         19.950001         0\n",
      "22          1320    6190150               24425 2021-11-01         1          8.990000         0\n",
      "23          1320    6190200               24425 2021-11-01         1          8.990000         0\n",
      "24          1320    6190250               24425 2021-11-01         1          7.990000         0\n",
      "25          1320    6190350               22950 2021-11-01         1          6.990000         0\n",
      "26          1320    6190400               22950 2021-11-01         1          6.990000         0\n",
      "27          1320    6193750               22875 2021-11-01         1          6.990000         0\n",
      "28          1320    6195350               24375 2021-11-01         1         16.990000         0\n",
      "29          1320    6195800               22850 2021-11-01         3         25.719999         1\n",
      "=================================\u001b[1m Tool Message \u001b[0m=================================\n",
      "Name: generate_visualization\n",
      "\n",
      "import pandas as pd\n",
      "import matplotlib.pyplot as plt\n",
      "import io\n",
      "\n",
      "config = {'chart_type': 'line', 'x_axis': 'date', 'y_axis': 'value', 'title': 'a bar chart of sales by product SKU.Put the product SKU on the x-axis and the sales on the y-axis.', 'data': '    Store_Number  SKU_Coded  Product_Class_Code  Sold_Date  Qty_Sold  Total_Sale_Value  On_Promo\\n0           1320    6173050               22875 2021-11-01         1          4.990000         0\\n1           1320    6174250               22875 2021-11-01         1          0.890000         0\\n2           1320    6176200               22975 2021-11-01         2         99.980003         0\\n3           1320    6176800               22800 2021-11-01         1         14.970000         0\\n4           1320    6177250               22975 2021-11-01         1          6.890000         0\\n5           1320    6177300               22800 2021-11-01         1          9.990000         0\\n6           1320    6177350               22800 2021-11-01         2         16.980000         0\\n7           1320    6177700               22875 2021-11-01         1          3.190000         0\\n8           1320    6178000               22875 2021-11-01         2          6.380000         0\\n9           1320    6178250               22800 2021-11-01         1         16.590000         0\\n10          1320    6179250               24400 2021-11-01         1         14.990000         0\\n11          1320    6179300               22800 2021-11-01         2          9.980000         0\\n12          1320    6179400               24400 2021-11-01         2         29.980000         0\\n13          1320    6179450               24400 2021-11-01         1         14.990000         0\\n14          1320    6179500               24400 2021-11-01         1         14.990000         0\\n15          1320    6179750               22800 2021-11-01         2         39.980000         0\\n16          1320    6180550               22975 2021-11-01         1         15.990000         0\\n17          1320    6182050               22975 2021-11-01         1          7.990000         0\\n18          1320    6183750               22850 2021-11-01         3         38.970001         0\\n19          1320    6184100               22975 2021-11-01         3         59.970001         0\\n20          1320    6188550               22950 2021-11-01         2         15.980000         0\\n21          1320    6190050               24425 2021-11-01         5         19.950001         0\\n22          1320    6190150               24425 2021-11-01         1          8.990000         0\\n23          1320    6190200               24425 2021-11-01         1          8.990000         0\\n24          1320    6190250               24425 2021-11-01         1          7.990000         0\\n25          1320    6190350               22950 2021-11-01         1          6.990000         0\\n26          1320    6190400               22950 2021-11-01         1          6.990000         0\\n27          1320    6193750               22875 2021-11-01         1          6.990000         0\\n28          1320    6195350               24375 2021-11-01         1         16.990000         0\\n29          1320    6195800               22850 2021-11-01         3         25.719999         1'}\n",
      "\n",
      "# Read the data from the config\n",
      "data_string = config['data']\n",
      "df = pd.read_csv(io.StringIO(data_string), sep=r'\\s+')\n",
      "\n",
      "# Aggregate data: group by SKU and sum the sales\n",
      "# The title provides the most specific instructions, which we will follow.\n",
      "sales_by_sku = df.groupby('SKU_Coded')['Total_Sale_Value'].sum()\n",
      "\n",
      "# Create the bar chart\n",
      "fig, ax = plt.subplots(figsize=(12, 8))\n",
      "\n",
      "ax.bar(sales_by_sku.index.astype(str), sales_by_sku.values, color='steelblue')\n",
      "\n",
      "# Set the title and labels as specified\n",
      "ax.set_title('Sales by Product SKU')\n",
      "ax.set_xlabel('Product SKU')\n",
      "ax.set_ylabel('Total Sales')\n",
      "\n",
      "# Improve layout\n",
      "plt.xticks(rotation=45, ha='right')\n",
      "plt.tight_layout()\n",
      "\n",
      "# Show the plot\n",
      "plt.show()\n",
      "==================================\u001b[1m Ai Message \u001b[0m==================================\n",
      "\n",
      "```python\n",
      "import pandas as pd\n",
      "import matplotlib.pyplot as plt\n",
      "import io\n",
      "\n",
      "config = {'chart_type': 'line', 'x_axis': 'date', 'y_axis': 'value', 'title': 'a bar chart of sales by product SKU.Put the product SKU on the x-axis and the sales on the y-axis.', 'data': '    Store_Number  SKU_Coded  Product_Class_Code  Sold_Date  Qty_Sold  Total_Sale_Value  On_Promo\\n0           1320    6173050               22875 2021-11-01         1          4.990000         0\\n1           1320    6174250               22875 2021-11-01         1          0.890000         0\\n2           1320    6176200               22975 2021-11-01         2         99.980003         0\\n3           1320    6176800               22800 2021-11-01         1         14.970000         0\\n4           1320    6177250               22975 2021-11-01         1          6.890000         0\\n5           1320    6177300               22800 2021-11-01         1          9.990000         0\\n6           1320    6177350               22800 2021-11-01         2         16.980000         0\\n7           1320    6177700               22875 2021-11-01         1          3.190000         0\\n8           1320    6178000               22875 2021-11-01         2          6.380000         0\\n9           1320    6178250               22800 2021-11-01         1         16.590000         0\\n10          1320    6179250               24400 2021-11-01         1         14.990000         0\\n11          1320    6179300               22800 2021-11-01         2          9.980000         0\\n12          1320    6179400               24400 2021-11-01         2         29.980000         0\\n13          1320    6179450               24400 2021-11-01         1         14.990000         0\\n14          1320    6179500               24400 2021-11-01         1         14.990000         0\\n15          1320    6179750               22800 2021-11-01         2         39.980000         0\\n16          1320    6180550               22975 2021-11-01         1         15.990000         0\\n17          1320    6182050               22975 2021-11-01         1          7.990000         0\\n18          1320    6183750               22850 2021-11-01         3         38.970001         0\\n19          1320    6184100               22975 2021-11-01         3         59.970001         0\\n20          1320    6188550               22950 2021-11-01         2         15.980000         0\\n21          1320    6190050               24425 2021-11-01         5         19.950001         0\\n22          1320    6190150               24425 2021-11-01         1          8.990000         0\\n23          1320    6190200               24425 2021-11-01         1          8.990000         0\\n24          1320    6190250               24425 2021-11-01         1          7.990000         0\\n25          1320    6190350               22950 2021-11-01         1          6.990000         0\\n26          1320    6190400               22950 2021-11-01         1          6.990000         0\\n27          1320    6193750               22875 2021-11-01         1          6.990000         0\\n28          1320    6195350               24375 2021-11-01         1         16.990000         0\\n29          1320    6195800               22850 2021-11-01         3         25.719999         1'}\n",
      "\n",
      "# Read the data from the config\n",
      "data_string = config['data']\n",
      "df = pd.read_csv(io.StringIO(data_string), sep=r'\\s+')\n",
      "\n",
      "# Aggregate data: group by SKU and sum the sales\n",
      "# The title provides the most specific instructions, which we will follow.\n",
      "sales_by_sku = df.groupby('SKU_Coded')['Total_Sale_Value'].sum()\n",
      "\n",
      "# Create the bar chart\n",
      "fig, ax = plt.subplots(figsize=(12, 8))\n",
      "\n",
      "ax.bar(sales_by_sku.index.astype(str), sales_by_sku.values, color='steelblue')\n",
      "\n",
      "# Set the title and labels as specified\n",
      "ax.set_title('Sales by Product SKU')\n",
      "ax.set_xlabel('Product SKU')\n",
      "ax.set_ylabel('Total Sales')\n",
      "\n",
      "# Improve layout\n",
      "plt.xticks(rotation=45, ha='right')\n",
      "plt.tight_layout()\n",
      "\n",
      "# Show the plot\n",
      "plt.show()\n",
      "```\n"
     ]
    }
   ],
   "source": [
    "# Create our initial message dictionary\n",
    "#messages = [\n",
    "#    SystemMessage(SYSTEM_PROMPT),\n",
    "#    HumanMessage(\"Show me all the sales for store 1320 on November 1st, 2021.\"),\n",
    "#]\n",
    "\n",
    "inputs = {\n",
    "    \"messages\": [\n",
    "        (\"system\", SYSTEM_PROMPT),\n",
    "        (\"user\",\n",
    "         (\n",
    "             \"For all the sales for store 1320 on November 1st, 2021, Generate code for a bar chart of sales by product SKU.\"\n",
    "             \"Put the product SKU on the x-axis and the sales on the y-axis. Please return the generated code only.\")\n",
    "        )]}\n",
    "\n",
    "# call our graph with streaming to see the steps\n",
    "final_message_content = None\n",
    "for state in graph.stream(inputs, stream_mode=\"values\"):\n",
    "    last_message = state[\"messages\"][-1]\n",
    "    last_message.pretty_print()\n",
    "    final_message_content = last_message.content"
   ]
  },
  {
   "cell_type": "code",
   "execution_count": 88,
   "id": "bc9a9114-cbac-4138-bc11-0f4bc2be7993",
   "metadata": {},
   "outputs": [
    {
     "data": {
      "image/png": "[encoded data removed]",
      "text/plain": [
       "<Figure size 1200x800 with 1 Axes>"
      ]
     },
     "metadata": {},
     "output_type": "display_data"
    }
   ],
   "source": [
    "exec(final_message_content.replace('```python', '').replace('```', ''))"
   ]
  },
  {
   "cell_type": "markdown",
   "id": "54f5b7ab-b496-4533-9084-9f1f1bfd7ea7",
   "metadata": {},
   "source": [
    "## <b><font color='darkblue'>Supplement</font></b>\n",
    "* [**Gemini API** - ReAct agent from scratch with Gemini 2.5 and LangGraph](https://ai.google.dev/gemini-api/docs/langgraph-example)\n",
    "* [**03-basic-langchain-agent:** Intro to LangChain Agents with Semantic Router](https://colab.research.google.com/github/aurelio-labs/semantic-router/blob/main/docs/03-basic-langchain-agent.ipynb)\n",
    "* [**LangChain doc - How to return structured data from a model:** It is often useful to have a model return output that matches a specific schema.](https://python.langchain.com/docs/how_to/structured_output/)"
   ]
  }
 ],
 "metadata": {
  "kernelspec": {
   "display_name": "Python 3 (ipykernel)",
   "language": "python",
   "name": "python3"
  },
  "language_info": {
   "codemirror_mode": {
    "name": "ipython",
    "version": 3
   },
   "file_extension": ".py",
   "mimetype": "text/x-python",
   "name": "python",
   "nbconvert_exporter": "python",
   "pygments_lexer": "ipython3",
   "version": "3.12.9"
  }
 },
 "nbformat": 4,
 "nbformat_minor": 5
}
