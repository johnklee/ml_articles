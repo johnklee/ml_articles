{
 "cells": [
  {
   "cell_type": "markdown",
   "id": "649fb1b9-2a90-49da-b231-2b8b76938e78",
   "metadata": {},
   "source": [
    "## <b><font color='darkblue'>Preface</font></b>\n",
    "([course source](https://learn.deeplearning.ai/courses/ai-agents-in-langgraph/lesson/7/essay-writer))"
   ]
  },
  {
   "cell_type": "code",
   "execution_count": 1,
   "id": "fe246b0f-dba5-46e1-97a5-969955b1e175",
   "metadata": {},
   "outputs": [
    {
     "name": "stdout",
     "output_type": "stream",
     "text": [
      "langchain==0.2.6\n",
      "langchain-anthropic==0.1.15\n",
      "langchain-community==0.2.6\n",
      "langchain-core==0.2.10\n",
      "langchain-experimental==0.0.62\n",
      "langchain-google-genai==1.0.6\n",
      "langchain-groq==0.1.3\n",
      "langchain-openai==0.1.9\n",
      "langchain-text-splitters==0.2.0\n",
      "langchainhub==0.1.14\n",
      "langgraph==0.1.4\n",
      "openai==1.28.1\n"
     ]
    }
   ],
   "source": [
    "!pip freeze | grep -P '(openai|langchain|langgraph)'"
   ]
  },
  {
   "cell_type": "code",
   "execution_count": 12,
   "id": "be30cee2-c9f9-4768-9423-85a5a24d5e05",
   "metadata": {},
   "outputs": [],
   "source": [
    "import os\n",
    "import openai\n",
    "import re\n",
    "import httpx\n",
    "import os\n",
    "from tavily import TavilyClient\n",
    "from dotenv import load_dotenv, find_dotenv\n",
    "\n",
    "from openai import OpenAI\n",
    "from langchain_openai import ChatOpenAI\n",
    "\n",
    "a = load_dotenv(find_dotenv(os.path.expanduser('~/.env'))) # read local .env file\n",
    "openai.api_key = os.environ['OPENAI_API_KEY']\n",
    "\n",
    "# connect\n",
    "tavily = TavilyClient(api_key=os.environ.get(\"TAVILY_API_KEY\"))"
   ]
  },
  {
   "cell_type": "code",
   "execution_count": 3,
   "id": "1c0b8714-8314-4691-ae0f-c34aa83b8437",
   "metadata": {},
   "outputs": [],
   "source": [
    "from langgraph.graph import StateGraph, END\n",
    "from typing import TypedDict, Annotated, List\n",
    "import operator\n",
    "from langgraph.checkpoint.sqlite import SqliteSaver\n",
    "from langchain_core.messages import AnyMessage, SystemMessage, HumanMessage, AIMessage, ChatMessage\n",
    "\n",
    "memory = SqliteSaver.from_conn_string(\":memory:\")"
   ]
  },
  {
   "cell_type": "code",
   "execution_count": 5,
   "id": "4b5114fd-e40d-4997-9dbb-5781b0bc5ebd",
   "metadata": {},
   "outputs": [],
   "source": [
    "from langchain_openai import ChatOpenAI\n",
    "\n",
    "model = ChatOpenAI(model=\"gpt-3.5-turbo\", temperature=0)"
   ]
  },
  {
   "cell_type": "code",
   "execution_count": 11,
   "id": "41083434-8eba-41e1-9c38-265780252053",
   "metadata": {},
   "outputs": [],
   "source": [
    "from langchain_core.pydantic_v1 import BaseModel\n",
    "\n",
    "class Queries(BaseModel):\n",
    "    queries: List[str]"
   ]
  },
  {
   "cell_type": "code",
   "execution_count": 4,
   "id": "666fa32b-5050-444a-a4a5-258c7bcc819f",
   "metadata": {},
   "outputs": [],
   "source": [
    "class AgentState(TypedDict):\n",
    "    task: str\n",
    "    plan: str\n",
    "    draft: str\n",
    "    critique: str\n",
    "    content: List[str]\n",
    "    revision_number: int\n",
    "    max_revisions: int"
   ]
  },
  {
   "cell_type": "markdown",
   "id": "ff70ce91-9059-4cbf-89cb-214e6de7caa2",
   "metadata": {},
   "source": [
    "## <b><font color='darkblue'>Agent prompts</font></b>"
   ]
  },
  {
   "cell_type": "code",
   "execution_count": 6,
   "id": "3fdfa1ab-f017-4b36-a024-c2f8318a5149",
   "metadata": {},
   "outputs": [],
   "source": [
    "PLAN_PROMPT = \"\"\"You are an expert writer tasked with writing a high level outline of an essay. \\\n",
    "Write such an outline for the user provided topic. Give an outline of the essay along with any relevant notes \\\n",
    "or instructions for the sections.\"\"\""
   ]
  },
  {
   "cell_type": "code",
   "execution_count": 7,
   "id": "38736790-d74f-4858-84f1-eeb621cba5c9",
   "metadata": {},
   "outputs": [],
   "source": [
    "WRITER_PROMPT = \"\"\"You are an essay assistant tasked with writing excellent 5-paragraph essays.\\\n",
    "Generate the best essay possible for the user's request and the initial outline. \\\n",
    "If the user provides critique, respond with a revised version of your previous attempts. \\\n",
    "Utilize all the information below as needed: \n",
    "\n",
    "------\n",
    "\n",
    "{content}\"\"\""
   ]
  },
  {
   "cell_type": "code",
   "execution_count": 8,
   "id": "53d041ab-0ea2-4cc6-9761-4c2184dca36d",
   "metadata": {},
   "outputs": [],
   "source": [
    "REFLECTION_PROMPT = \"\"\"You are a teacher grading an essay submission. \\\n",
    "Generate critique and recommendations for the user's submission. \\\n",
    "Provide detailed recommendations, including requests for length, depth, style, etc.\"\"\""
   ]
  },
  {
   "cell_type": "code",
   "execution_count": 9,
   "id": "07a2d669-ed3a-4226-9123-a6262468afe4",
   "metadata": {},
   "outputs": [],
   "source": [
    "RESEARCH_PLAN_PROMPT = \"\"\"You are a researcher charged with providing information that can \\\n",
    "be used when writing the following essay. Generate a list of search queries that will gather \\\n",
    "any relevant information. Only generate 3 queries max.\"\"\""
   ]
  },
  {
   "cell_type": "code",
   "execution_count": 10,
   "id": "5f922c23-6a5c-4a65-ab33-e5d270290adf",
   "metadata": {},
   "outputs": [],
   "source": [
    "RESEARCH_CRITIQUE_PROMPT = \"\"\"You are a researcher charged with providing information that can \\\n",
    "be used when making any requested revisions (as outlined below). \\\n",
    "Generate a list of search queries that will gather any relevant information. Only generate 3 queries max.\"\"\""
   ]
  },
  {
   "cell_type": "markdown",
   "id": "df28589c-49d1-4e1d-867a-0cffc8440f46",
   "metadata": {},
   "source": [
    "## <b><font color='darkblue'>Agent nodes</font></b>"
   ]
  },
  {
   "cell_type": "code",
   "execution_count": 13,
   "id": "9e45feb6-bd20-4ef3-afc7-886225d705d6",
   "metadata": {},
   "outputs": [],
   "source": [
    "def plan_node(state: AgentState):\n",
    "    messages = [\n",
    "        SystemMessage(content=PLAN_PROMPT), \n",
    "        HumanMessage(content=state['task'])\n",
    "    ]\n",
    "    response = model.invoke(messages)\n",
    "    return {\"plan\": response.content}"
   ]
  },
  {
   "cell_type": "code",
   "execution_count": 14,
   "id": "d5c5e6cf-cbd5-460a-8cdd-1b2ea6bffb4e",
   "metadata": {},
   "outputs": [],
   "source": [
    "def research_plan_node(state: AgentState):\n",
    "    queries = model.with_structured_output(Queries).invoke([\n",
    "        SystemMessage(content=RESEARCH_PLAN_PROMPT),\n",
    "        HumanMessage(content=state['task'])\n",
    "    ])\n",
    "    content = state['content'] or []\n",
    "    for q in queries.queries:\n",
    "        response = tavily.search(query=q, max_results=2)\n",
    "        for r in response['results']:\n",
    "            content.append(r['content'])\n",
    "    return {\"content\": content}"
   ]
  },
  {
   "cell_type": "code",
   "execution_count": 15,
   "id": "60c0027b-af71-4acf-a849-0ac263195b98",
   "metadata": {},
   "outputs": [],
   "source": [
    "def generation_node(state: AgentState):\n",
    "    content = \"\\n\\n\".join(state['content'] or [])\n",
    "    user_message = HumanMessage(\n",
    "        content=f\"{state['task']}\\n\\nHere is my plan:\\n\\n{state['plan']}\")\n",
    "    messages = [\n",
    "        SystemMessage(\n",
    "            content=WRITER_PROMPT.format(content=content)\n",
    "        ),\n",
    "        user_message\n",
    "        ]\n",
    "    response = model.invoke(messages)\n",
    "    return {\n",
    "        \"draft\": response.content, \n",
    "        \"revision_number\": state.get(\"revision_number\", 1) + 1\n",
    "    }"
   ]
  },
  {
   "cell_type": "code",
   "execution_count": 16,
   "id": "3617327e-7fd9-4779-bd09-81154c39d037",
   "metadata": {},
   "outputs": [],
   "source": [
    "def reflection_node(state: AgentState):\n",
    "    messages = [\n",
    "        SystemMessage(content=REFLECTION_PROMPT), \n",
    "        HumanMessage(content=state['draft'])\n",
    "    ]\n",
    "    response = model.invoke(messages)\n",
    "    return {\"critique\": response.content}"
   ]
  },
  {
   "cell_type": "code",
   "execution_count": 17,
   "id": "ae9620a7-6987-4a31-9d8c-21246bda9ad0",
   "metadata": {},
   "outputs": [],
   "source": [
    "def research_critique_node(state: AgentState):\n",
    "    queries = model.with_structured_output(Queries).invoke([\n",
    "        SystemMessage(content=RESEARCH_CRITIQUE_PROMPT),\n",
    "        HumanMessage(content=state['critique'])\n",
    "    ])\n",
    "    content = state['content'] or []\n",
    "    for q in queries.queries:\n",
    "        response = tavily.search(query=q, max_results=2)\n",
    "        for r in response['results']:\n",
    "            content.append(r['content'])\n",
    "    return {\"content\": content}"
   ]
  },
  {
   "cell_type": "code",
   "execution_count": 18,
   "id": "184b434a-1990-4ccd-a142-c2e4b39c81c0",
   "metadata": {},
   "outputs": [],
   "source": [
    "def should_continue(state):\n",
    "    if state[\"revision_number\"] > state[\"max_revisions\"]:\n",
    "        return END\n",
    "    return \"reflect\""
   ]
  },
  {
   "cell_type": "markdown",
   "id": "38c156e1-6273-4f26-8f55-99ec9292f1e9",
   "metadata": {},
   "source": [
    "## <b><font color='darkblue'>Building Graph</font></b>"
   ]
  },
  {
   "cell_type": "code",
   "execution_count": 19,
   "id": "f6aa7b9f-82c1-4a66-a216-90a4f3feea32",
   "metadata": {},
   "outputs": [],
   "source": [
    "builder = StateGraph(AgentState)"
   ]
  },
  {
   "cell_type": "code",
   "execution_count": 20,
   "id": "107b4c0e-1dad-4bb5-a12c-18b64f7bb7fe",
   "metadata": {},
   "outputs": [],
   "source": [
    "builder.add_node(\"planner\", plan_node)\n",
    "builder.add_node(\"generate\", generation_node)\n",
    "builder.add_node(\"reflect\", reflection_node)\n",
    "builder.add_node(\"research_plan\", research_plan_node)\n",
    "builder.add_node(\"research_critique\", research_critique_node)"
   ]
  },
  {
   "cell_type": "code",
   "execution_count": 21,
   "id": "a54be1e0-571f-4ba8-89d7-0d843beed9a3",
   "metadata": {},
   "outputs": [],
   "source": [
    "builder.set_entry_point(\"planner\")"
   ]
  },
  {
   "cell_type": "code",
   "execution_count": 22,
   "id": "c9c56ab6-db67-4f14-8e48-bf94ab583264",
   "metadata": {},
   "outputs": [],
   "source": [
    "builder.add_conditional_edges(\n",
    "    \"generate\", \n",
    "    should_continue, \n",
    "    {END: END, \"reflect\": \"reflect\"}\n",
    ")"
   ]
  },
  {
   "cell_type": "code",
   "execution_count": 23,
   "id": "2cd2ad0c-ba7f-46eb-98b8-8e84399bfadb",
   "metadata": {},
   "outputs": [],
   "source": [
    "builder.add_edge(\"planner\", \"research_plan\")\n",
    "builder.add_edge(\"research_plan\", \"generate\")\n",
    "builder.add_edge(\"reflect\", \"research_critique\")\n",
    "builder.add_edge(\"research_critique\", \"generate\")"
   ]
  },
  {
   "cell_type": "code",
   "execution_count": 24,
   "id": "91fc1701-2e5b-43f9-b853-62e6553668c4",
   "metadata": {},
   "outputs": [],
   "source": [
    "graph = builder.compile(checkpointer=memory)"
   ]
  },
  {
   "cell_type": "code",
   "execution_count": 25,
   "id": "ba708fab-82ce-4884-9efe-461a7f5a877d",
   "metadata": {},
   "outputs": [
    {
     "data": {
      "image/png": "[encoded data removed]",
      "text/plain": [
       "<IPython.core.display.Image object>"
      ]
     },
     "execution_count": 25,
     "metadata": {},
     "output_type": "execute_result"
    }
   ],
   "source": [
    "from IPython.display import Image\n",
    "\n",
    "Image(graph.get_graph().draw_png())"
   ]
  },
  {
   "cell_type": "markdown",
   "id": "1ae2058e-3466-4f53-ad5a-d4e9e27cfab7",
   "metadata": {},
   "source": [
    "## <b><font color='darkblue'>Start writting essay</font></b>"
   ]
  },
  {
   "cell_type": "code",
   "execution_count": 29,
   "id": "8811b385-1293-4c14-b5dd-c8a78386440c",
   "metadata": {},
   "outputs": [
    {
     "name": "stdout",
     "output_type": "stream",
     "text": [
      "planner:\n",
      "I. Introduction\n",
      "    A. Brief overview of Langchain and Langsmith\n",
      "    B. Thesis statement: Exploring the differences between Langchain and Langsmith\n",
      "\n",
      "II. Langchain\n",
      "    A. Definition and purpose\n",
      "    B. Key features and characteristics\n",
      "    C. Use cases and applications\n",
      "    D. Advantages and limitations\n",
      "\n",
      "III. Langsmith\n",
      "    A. Definition and purpose\n",
      "    B. Key features and characteristics\n",
      "    C. Use cases and applications\n",
      "    D. Advantages and limitations\n",
      "\n",
      "IV. Comparison between Langchain and Langsmith\n",
      "    A. Technology stack\n",
      "    B. Scalability and performance\n",
      "    C. Security and privacy\n",
      "    D. Adoption and popularity\n",
      "    E. Future prospects\n",
      "\n",
      "V. Conclusion\n",
      "    A. Recap of key differences between Langchain and Langsmith\n",
      "    B. Implications for the future of blockchain technology\n",
      "    C. Final thoughts and recommendations\n",
      "\n",
      "Notes:\n",
      "- Ensure to provide clear definitions and examples for both Langchain and Langsmith.\n",
      "- Use specific examples and case studies to illustrate the differences between the two technologies.\n",
      "- Consider discussing potential challenges and opportunities for both Langchain and Langsmith in the conclusion.\n",
      "\n",
      "\n",
      "research_plan:\n",
      "['Defined Agent\\nConsidering the agent, notice the only tool defined for this agent:\\nThe prompt at the centre of this Agent is fetched with the code below:\\nAnd the prompt retrieved from the prompt hub:\\nThe code to run the agent:\\nAnd the output from the Agent:\\n By signing up, you will create a Medium account if you don’t already…\\ncobusgreyling.medium.com\\nGoogle Colaboratory\\nEdit description\\ncolab.research.google.com\\nLangSmith Walkthrough | 🦜️🔗 Langchain\\nOpen In Colab\\npython.langchain.com\\n--\\n--\\nWritten by Cobus Greyling\\nI explore and write about all things at the intersection of AI & language; LLMs/NLP/NLU, Chat/Voicebots, CCAI. www.cobusgreyling.com\\n In this article I only consider three of the five tools within LangSmith; Projects, Datasets & Testing & Hub.\\nRun An Agent While Logging Traces\\nWhenever a new project is created within LangSmith, under the Setup tab the code snippets are shown, which can be include in your code to reference and log traces to the LangSmith project.\\n Help\\nStatus\\nAbout\\nCareers\\nBlog\\nPrivacy\\nTerms\\nText to speech\\nTeams The prompt is imported from the LangSmith prompt hub:\\nThe evaluation process is run, this fetches the example rows from the specified datasets.\\n', 'Jul 24, 2023 · In this post, we will explore the latest product by the team that created Langchain (the most popular LLM software tool) and see what new parts\\xa0...', 'Furthermore, the experimental results on the FLORES-200 development set for ten translation directions (including languages such as Somali, Southern Sotho, Twi, Umbundu, and Venetian) showed that after filtering an average of 30% of parallel sentences, the translation quality improved by 5%, and the added toxicity was reduced by the same amount.  A New State-of-the-Art Machine Learning Model that Generates Low-Discrepancy Points List of Activities and Their Corresponding Suitable LLMs in the Artificial Intelligence AI World... FusOn-pLM: Advancing Precision Therapy for Fusion Oncoproteins through Enhanced Protein Language Modeling Top Artificial Intelligence AI Courses by Microsoft Taming Long Audio Sequences: Breaking the Language Barrier for All: Sparsely Gated MoE Models Bridge the Gap in Neural Machine Translation Machine translation, a critical area within natural language processing (NLP), focuses on developing algorithms to automatically translate text from one language to another. In conclusion, the research team from Meta addressed the critical issue of translation quality disparity between high- and low-resource languages by introducing the MoE models. With a strong background in Material Science, he is exploring new advancements and creating opportunities to contribute. List of Activities and Their Corresponding Suitable LLMs in the Artificial Intelligence AI World', 'He explained that the IP will be in how these are architected to work together, to interact with each other, to control each other, to scaffold the behavior of the large language model, and to verify its output.  Single Biggest Trump Campaign Donation Revealed: Timothy Mellon Donates $50 Million To MAGA PAC Trump\\'s New Attack On Judge Behind His $454 Million Fraud Penalty Explained Trump Documents Case: Judge Cannon Considers Jack Smith’s Appointment Today—What To Know \"If you look at the animal kingdom,\" Feizpour elaborated, \" as humans, we are one of the few mammals capable of using complex language, and LLMs strive to replicate this ability. The Evolution Of Language Models Tracing the lineage of LLMs within the broader context of AI development, Feizpour emphasized that while language has always been a critical indicator of intelligence, progress in replicating human-like language capabilities in machines has been gradual. More From Forbes Parsing The Future: The Promises And Perils Of Large Language Models TechArtTrends Large language models have emerged as a transformative technology and have revolutionized AI with their ability to generate human-like text with seemingly unprecedented fluency and apparent comprehension. \"What are practical, realistic ways of controlling where this is going to go?\" The Role Of Open Source And Community Feizpour repeatedly highlighted the importance of open-source initiatives in democratizing AI development.', 'Compare in LangSmith. Navigate to the \"Retrieval QA Questions\" dataset in LangSmith, select the two tests you just completed, then click \"Compare.\" From this view, you can manually review and compare the results. You can even filter by initial scores to select outputs where the grades differ.', 'Langchain vs Langsmith: Unpacking the AI Language Model Showdown\\nOverview of Langchain and Langsmith\\nLangchain is a versatile open-source framework that enables you to build applications utilizing large language models (LLM) like GPT-3. Check out our free WhatsApp channel to stay educated on LLM developments:\\nJoin the Finxter Academy and unlock access to premium courses 👑 to certify your skills in exponential technologies and programming.\\n Frequently Asked Questions\\nWhether you’re trying to figure out which tool fits your needs or you’re just getting started with language model automation, these FAQs will help shed light on the common curiosities about Langchain and LangSmith.\\n The best way to find out is to reach out to them through the LangSmith Walkthrough page or to inquire about access directly through their support channels.\\n Here’s how you might start a simple Langchain project in Python:\\nTo integrate LangSmith, you could write something like this:\\nYou’re not limited to Python, though.', 'Sign up\\nSign in\\nSign up\\nSign in\\nLangChain Embeddings — Tutorial & Examples for LLMs\\nGiri dharan\\nFollow\\n--\\nListen\\nShare\\nWelcome, Prompt Engineers! #OpenSource #React #TypeScript\\nHelp\\nStatus\\nAbout\\nCareers\\nBlog\\nPrivacy\\nTerms\\nText to speech\\nTeams Best Practices for Using LangChain Embeddings\\nNow that you’re familiar with advanced techniques, let’s discuss some best practices to get the most out of LangChain Embeddings.\\n So, stay tuned!\\nAdvanced Techniques in LangChain Embeddings\\nAfter grasping the basics, it’s time to dive into some advanced techniques that can elevate your LangChain Embedding game. Conclusion\\nLangChain Embeddings offer a powerful way to convert text into a machine-readable format, opening the door to a wide range of NLP applications.', 'Latest Updates and Key Insights on this Cloud ERP System\\ntechnology\\nSangita\\n26-11-2023\\nUnraveling SaaS, Private Cloud, and Public Cloud Software\\ntechnology\\nSangita\\n26-11-2023\\nOptimizing UX in Digital Transformation: Selecting the Ideal Partner\\ntechnology\\nSangita\\n26-11-2023\\n5 Lessons for Digital Transformations from a Case Study On Amazon\\ntechnology\\nApoorva\\n26-11-2023\\n Latest Updates and Key Insights on this Cloud ERP System\\ntechnology\\nSangita\\n26-11-2023\\nUnraveling SaaS, Private Cloud, and Public Cloud Software\\ntechnology\\nSangita\\n26-11-2023\\nOptimizing UX in Digital Transformation: Selecting the Ideal Partner\\ntechnology\\nSangita\\n26-11-2023\\n5 Lessons for Digital Transformations from a Case Study On Amazon\\ntechnology\\nApoorva\\n26-11-2023\\n Apoorva Gosain\\n26-04-2023\\nSimilar readings\\nApoorva\\n26-11-2023\\nThe 5 Most Important Steps to An Organizational Change Management Strategy and Plan\\ntechnology\\nApoorva\\n26-11-2023\\n To use Flan Models, we need to first install the Flan library using pip:\\npip install flan\\nAfter installing the library, we can use the following code to load a pre-trained Flan model:\\n Comparing Two of the Most Powerful Language Processing Technologies\\nExplore the differences between LLMs and LangChain, two leading language processing technologies, and discover their unique capabilities and\\nLanguage processing technologies have revolutionized the way we communicate, making it easier for individuals & businesses to interact with one another across the globe.', 'This function helps to load the specific language models and tools required for the task as shown in the code snippet below:\\nAs a next step, initialize an agent by calling the initialize_agent function with several parameters like tools, llms, and agent:\\nThe verbose parameter is set to false, indicating that the agent will not provide verbose or detailed output.\\n You can accomplish this by following the shell commands provided below:\\nCreating a LangSmith client\\nNext, create a LangSmith client to interact with the API:\\nIf you’re using Python, run the following commands to import the module:\\n This code also handles exceptions that may occur during the agent execution:\\nIt’s also important to call the wait_for_all_tracers function from the langchain.callbacks.tracers.langchain module as shown in the code snippet below:\\nCalling the wait_for_all_tracers function helps ensure that logs and traces are submitted in full before the program proceeds. The temperature parameter will be set to 0, implying that the generated response will be more deterministic as shown in the code snippet below:\\nNow, let’s call the load_tools function with a list of tool APIs, such as serpapi and llm-math, and also take the llm instance as a parameter. It initializes a chat model, loads specific tools, and creates an agent that can generate responses based on descriptions:\\nInput processing with exception handling\\nThe code below defines a list of input examples using the asyncio library to asynchronously run the agent on each input and gather the results for further processing.', \"LangSmith Cookbook: Real-world Lang Smith Examples\\nThe LangSmith Cookbook is not just a compilation of code snippets; it's a goldmine of hands-on examples designed to inspire and assist you in your projects. On This Page\\nLangSmith: Best Way to Test LLMs and AI Application\\nPublished on 12/17/2023\\nIf you're in the world of Language Learning Models (LLMs), you've probably heard of LangSmith. How to Download Feedback and Examples (opens in a new tab): Export predictions, evaluation results, and other information to add to your reports programmatically.\\n This article is your one-stop guide to understanding LangSmith, a platform that offers a plethora of features for debugging, testing, evaluating, and monitoring LLM applications.\\n How do I get access to LangSmith?\\nTo get access to LangSmith, you'll need to sign up for an account on their website.\", 'Mar 13, 2024 · Machine learning is continuously evolving, and one of the most significant trends shaping the future of technology is the development and\\xa0...', 'Jun 8, 2024 · Explore the future of large language models and their impact on business and society in this insightful blog by Maxiom Technology.', 'Defined Agent\\nConsidering the agent, notice the only tool defined for this agent:\\nThe prompt at the centre of this Agent is fetched with the code below:\\nAnd the prompt retrieved from the prompt hub:\\nThe code to run the agent:\\nAnd the output from the Agent:\\n By signing up, you will create a Medium account if you don’t already…\\ncobusgreyling.medium.com\\nGoogle Colaboratory\\nEdit description\\ncolab.research.google.com\\nLangSmith Walkthrough | 🦜️🔗 Langchain\\nOpen In Colab\\npython.langchain.com\\n--\\n--\\nWritten by Cobus Greyling\\nI explore and write about all things at the intersection of AI & language; LLMs/NLP/NLU, Chat/Voicebots, CCAI. www.cobusgreyling.com\\n In this article I only consider three of the five tools within LangSmith; Projects, Datasets & Testing & Hub.\\nRun An Agent While Logging Traces\\nWhenever a new project is created within LangSmith, under the Setup tab the code snippets are shown, which can be include in your code to reference and log traces to the LangSmith project.\\n Help\\nStatus\\nAbout\\nCareers\\nBlog\\nPrivacy\\nTerms\\nText to speech\\nTeams The prompt is imported from the LangSmith prompt hub:\\nThe evaluation process is run, this fetches the example rows from the specified datasets.\\n', 'Jul 24, 2023 · In this post, we will explore the latest product by the team that created Langchain (the most popular LLM software tool) and see what new parts\\xa0...', 'Defined Agent\\nConsidering the agent, notice the only tool defined for this agent:\\nThe prompt at the centre of this Agent is fetched with the code below:\\nAnd the prompt retrieved from the prompt hub:\\nThe code to run the agent:\\nAnd the output from the Agent:\\n By signing up, you will create a Medium account if you don’t already…\\ncobusgreyling.medium.com\\nGoogle Colaboratory\\nEdit description\\ncolab.research.google.com\\nLangSmith Walkthrough | 🦜️🔗 Langchain\\nOpen In Colab\\npython.langchain.com\\n--\\n--\\nWritten by Cobus Greyling\\nI explore and write about all things at the intersection of AI & language; LLMs/NLP/NLU, Chat/Voicebots, CCAI. www.cobusgreyling.com\\n In this article I only consider three of the five tools within LangSmith; Projects, Datasets & Testing & Hub.\\nRun An Agent While Logging Traces\\nWhenever a new project is created within LangSmith, under the Setup tab the code snippets are shown, which can be include in your code to reference and log traces to the LangSmith project.\\n Help\\nStatus\\nAbout\\nCareers\\nBlog\\nPrivacy\\nTerms\\nText to speech\\nTeams The prompt is imported from the LangSmith prompt hub:\\nThe evaluation process is run, this fetches the example rows from the specified datasets.\\n', \"BETA Sign Up\\nContact Sales\\nProducts and use-cases\\nLangChain\\nLangSmith\\nRetrieval\\nAgents\\nInspiration\\nCode\\nGitHub\\nLangChain Hub\\nPython Docs\\nJS/TS Docs\\nSocial\\nTwitter\\nDiscord\\nBlog\\nLinkedIn\\nYouTube\\nTerms of Service\\nSign up for our newsletter\\nProducts and use-cases\\nLangChain\\nLangSmith\\nRetrieval\\nAgents\\nInspiration\\nCode\\nGitHub\\nLangChain Hub\\nPython Docs\\nJS/TS Docs\\nSocial\\nTwitter\\nDiscord\\nBlog\\nLinkedIn\\nYouTube\\nTerms of Service\\nSign up for our newsletter\\nProducts and use-cases\\nLangChain\\nLangSmith\\nRetrieval\\nAgents\\nInspiration\\nCode\\nGitHub\\nLangChain Hub\\nPython Docs\\nJS/TS Docs\\nSocial\\nTwitter\\nDiscord\\nBlog\\nLinkedIn\\nYouTube\\nTerms of Service\\nSign up for our newsletter 🦜🔗 LangChain\\nLangSmith\\nLangServe\\nAgents\\nRetrieval\\nEvaluation\\nBlog\\nDocs\\n🦜🔗 LangChain\\nBuild and deploy LLM apps with confidence\\nAn all-in-one developer platform for every step of the application lifecycle.\\n Prompt playground\\nCross-team collaboration\\nCatalog of ranging models & tasks\\nProven prompting strategies\\nExplore LangChain Hub\\nTurn the magic of LLM applications into enterprise-ready products\\nNative collaboration\\nBring your team together in LangSmith to craft prompts, debug, and capture feedback.\\n Application-level usage stats\\nFeedback collection\\nFilter traces\\nCost measurement\\nPerformance comparison\\nGo To Docs\\nManage Prompts\\nPrompts power your team's chains and agents, and LangSmith allows you to refine, test, and version them in one place. Dataset curation\\nEvaluate chain performance\\nAI-assisted evaluation\\nEasy benchmarking\\nGo To Docs\\nMonitor\\nGiven the stochastic nature of LLMs, it can be hard to answer the simple question: “what’s happening with my application?”\", 'LangSmith supports a powerful comparison view that lets you hone in on key differences, regressions, and improvements between different experiments. Open the comparison view To open the comparison view, select two or more experiments from the \"Experiments\" tab from a given dataset page. Then, click on the \"Compare\" button at the bottom of the page.', 'Langchain vs Langsmith: Unpacking the AI Language Model Showdown\\nOverview of Langchain and Langsmith\\nLangchain is a versatile open-source framework that enables you to build applications utilizing large language models (LLM) like GPT-3. Check out our free WhatsApp channel to stay educated on LLM developments:\\nJoin the Finxter Academy and unlock access to premium courses 👑 to certify your skills in exponential technologies and programming.\\n Frequently Asked Questions\\nWhether you’re trying to figure out which tool fits your needs or you’re just getting started with language model automation, these FAQs will help shed light on the common curiosities about Langchain and LangSmith.\\n The best way to find out is to reach out to them through the LangSmith Walkthrough page or to inquire about access directly through their support channels.\\n Here’s how you might start a simple Langchain project in Python:\\nTo integrate LangSmith, you could write something like this:\\nYou’re not limited to Python, though.']\n",
      "\n",
      "\n",
      "generate:\n",
      "**Essay: Exploring the Differences Between Langchain and Langsmith**\n",
      "\n",
      "I. Introduction\n",
      "Langchain and Langsmith are two distinct technologies in the realm of AI and language processing. While both serve unique purposes, they differ in their features, applications, and capabilities. This essay aims to delve into the disparities between Langchain and Langsmith to provide a comprehensive understanding of each platform.\n",
      "\n",
      "II. Langchain\n",
      "Langchain is an open-source framework designed to facilitate the development of applications utilizing large language models (LLMs) like GPT-3. It offers a versatile platform for building AI-powered solutions, enabling users to leverage advanced language processing capabilities. Key features of Langchain include its flexibility, extensive model support, and ease of integration with various programming languages. Use cases for Langchain span from chatbots to content generation, showcasing its broad applicability. While Langchain provides a powerful toolset for developers, it may have limitations in terms of customization and fine-tuning for specific tasks.\n",
      "\n",
      "III. Langsmith\n",
      "In contrast, Langsmith is a platform that offers features for debugging, testing, evaluating, and monitoring LLM applications. It focuses on providing a comprehensive suite of tools to enhance the development and deployment of language models. Langsmith's key characteristics include robust testing capabilities, dataset curation, and AI-assisted evaluation. The platform is particularly useful for researchers and developers looking to optimize the performance of their language models. However, Langsmith may have constraints in terms of direct model development and integration compared to Langchain.\n",
      "\n",
      "IV. Comparison between Langchain and Langsmith\n",
      "A. Technology Stack: Langchain emphasizes model development and integration, while Langsmith focuses on testing and evaluation tools.\n",
      "B. Scalability and Performance: Langchain may offer more flexibility in scaling applications, whereas Langsmith prioritizes performance optimization.\n",
      "C. Security and Privacy: Both platforms likely adhere to industry standards for data security, but specific protocols may vary.\n",
      "D. Adoption and Popularity: Langchain's popularity may stem from its model-building capabilities, while Langsmith's appeal lies in its testing and evaluation features.\n",
      "E. Future Prospects: The future of Langchain may involve expanding model support and enhancing customization, while Langsmith could evolve to offer more seamless integration with model development frameworks.\n",
      "\n",
      "V. Conclusion\n",
      "In conclusion, Langchain and Langsmith cater to distinct needs within the AI and language processing landscape. Understanding the disparities between these platforms is crucial for selecting the right tool for specific tasks. While Langchain excels in model development, Langsmith shines in testing and evaluation. Both technologies present opportunities for growth and innovation, and their continued evolution will shape the future of AI applications.\n",
      "\n",
      "\n",
      "reflect:\n",
      "**Critique:**\n",
      "\n",
      "1. **Introduction:**\n",
      "   - The introduction effectively sets the stage for the essay by outlining the purpose and scope of the comparison between Langchain and Langsmith. It provides a clear roadmap for the reader.\n",
      "\n",
      "2. **Langchain and Langsmith Descriptions:**\n",
      "   - The descriptions of Langchain and Langsmith are informative and highlight key features and applications of each platform. However, more specific examples or case studies could enhance the understanding of how these technologies are used in real-world scenarios.\n",
      "\n",
      "3. **Comparison Section:**\n",
      "   - The comparison section provides a structured breakdown of the differences between Langchain and Langsmith across various aspects. It effectively contrasts the two technologies based on technology stack, scalability, security, adoption, and future prospects.\n",
      "\n",
      "4. **Conclusion:**\n",
      "   - The conclusion effectively summarizes the key points discussed in the essay and reinforces the importance of understanding the distinctions between Langchain and Langsmith.\n",
      "\n",
      "**Recommendations:**\n",
      "\n",
      "1. **Depth and Detail:**\n",
      "   - To enhance the essay, consider providing more in-depth analysis and examples to support the comparisons made between Langchain and Langsmith. This could involve delving deeper into specific features, use cases, or challenges faced by users of each platform.\n",
      "\n",
      "2. **Real-World Applications:**\n",
      "   - Incorporating real-world examples or case studies where Langchain and Langsmith have been successfully utilized would provide concrete illustrations of their capabilities and benefits.\n",
      "\n",
      "3. **Critical Analysis:**\n",
      "   - Include a critical analysis section that evaluates the strengths and weaknesses of Langchain and Langsmith in more detail. This could involve discussing potential limitations, areas for improvement, or challenges faced by users when working with these technologies.\n",
      "\n",
      "4. **Recommendations for Future Development:**\n",
      "   - Offer suggestions for how Langchain and Langsmith could further improve or evolve to meet the changing needs of AI and language processing industries. This could involve proposing new features, enhancements, or integrations that could benefit users.\n",
      "\n",
      "5. **Length and Expansion:**\n",
      "   - Consider expanding the essay to provide a more comprehensive exploration of Langchain and Langsmith. This could involve adding additional sections on user feedback, market trends, or comparative analysis with other similar technologies.\n",
      "\n",
      "By incorporating these recommendations, you can enrich the essay and provide a more thorough examination of the disparities between Langchain and Langsmith, offering valuable insights to readers interested in AI and language processing technologies.\n",
      "\n",
      "\n",
      "research_critique:\n",
      "['Defined Agent\\nConsidering the agent, notice the only tool defined for this agent:\\nThe prompt at the centre of this Agent is fetched with the code below:\\nAnd the prompt retrieved from the prompt hub:\\nThe code to run the agent:\\nAnd the output from the Agent:\\n By signing up, you will create a Medium account if you don’t already…\\ncobusgreyling.medium.com\\nGoogle Colaboratory\\nEdit description\\ncolab.research.google.com\\nLangSmith Walkthrough | 🦜️🔗 Langchain\\nOpen In Colab\\npython.langchain.com\\n--\\n--\\nWritten by Cobus Greyling\\nI explore and write about all things at the intersection of AI & language; LLMs/NLP/NLU, Chat/Voicebots, CCAI. www.cobusgreyling.com\\n In this article I only consider three of the five tools within LangSmith; Projects, Datasets & Testing & Hub.\\nRun An Agent While Logging Traces\\nWhenever a new project is created within LangSmith, under the Setup tab the code snippets are shown, which can be include in your code to reference and log traces to the LangSmith project.\\n Help\\nStatus\\nAbout\\nCareers\\nBlog\\nPrivacy\\nTerms\\nText to speech\\nTeams The prompt is imported from the LangSmith prompt hub:\\nThe evaluation process is run, this fetches the example rows from the specified datasets.\\n', 'Jul 24, 2023 · In this post, we will explore the latest product by the team that created Langchain (the most popular LLM software tool) and see what new parts\\xa0...', 'Furthermore, the experimental results on the FLORES-200 development set for ten translation directions (including languages such as Somali, Southern Sotho, Twi, Umbundu, and Venetian) showed that after filtering an average of 30% of parallel sentences, the translation quality improved by 5%, and the added toxicity was reduced by the same amount.  A New State-of-the-Art Machine Learning Model that Generates Low-Discrepancy Points List of Activities and Their Corresponding Suitable LLMs in the Artificial Intelligence AI World... FusOn-pLM: Advancing Precision Therapy for Fusion Oncoproteins through Enhanced Protein Language Modeling Top Artificial Intelligence AI Courses by Microsoft Taming Long Audio Sequences: Breaking the Language Barrier for All: Sparsely Gated MoE Models Bridge the Gap in Neural Machine Translation Machine translation, a critical area within natural language processing (NLP), focuses on developing algorithms to automatically translate text from one language to another. In conclusion, the research team from Meta addressed the critical issue of translation quality disparity between high- and low-resource languages by introducing the MoE models. With a strong background in Material Science, he is exploring new advancements and creating opportunities to contribute. List of Activities and Their Corresponding Suitable LLMs in the Artificial Intelligence AI World', 'He explained that the IP will be in how these are architected to work together, to interact with each other, to control each other, to scaffold the behavior of the large language model, and to verify its output.  Single Biggest Trump Campaign Donation Revealed: Timothy Mellon Donates $50 Million To MAGA PAC Trump\\'s New Attack On Judge Behind His $454 Million Fraud Penalty Explained Trump Documents Case: Judge Cannon Considers Jack Smith’s Appointment Today—What To Know \"If you look at the animal kingdom,\" Feizpour elaborated, \" as humans, we are one of the few mammals capable of using complex language, and LLMs strive to replicate this ability. The Evolution Of Language Models Tracing the lineage of LLMs within the broader context of AI development, Feizpour emphasized that while language has always been a critical indicator of intelligence, progress in replicating human-like language capabilities in machines has been gradual. More From Forbes Parsing The Future: The Promises And Perils Of Large Language Models TechArtTrends Large language models have emerged as a transformative technology and have revolutionized AI with their ability to generate human-like text with seemingly unprecedented fluency and apparent comprehension. \"What are practical, realistic ways of controlling where this is going to go?\" The Role Of Open Source And Community Feizpour repeatedly highlighted the importance of open-source initiatives in democratizing AI development.', 'Compare in LangSmith. Navigate to the \"Retrieval QA Questions\" dataset in LangSmith, select the two tests you just completed, then click \"Compare.\" From this view, you can manually review and compare the results. You can even filter by initial scores to select outputs where the grades differ.', 'Langchain vs Langsmith: Unpacking the AI Language Model Showdown\\nOverview of Langchain and Langsmith\\nLangchain is a versatile open-source framework that enables you to build applications utilizing large language models (LLM) like GPT-3. Check out our free WhatsApp channel to stay educated on LLM developments:\\nJoin the Finxter Academy and unlock access to premium courses 👑 to certify your skills in exponential technologies and programming.\\n Frequently Asked Questions\\nWhether you’re trying to figure out which tool fits your needs or you’re just getting started with language model automation, these FAQs will help shed light on the common curiosities about Langchain and LangSmith.\\n The best way to find out is to reach out to them through the LangSmith Walkthrough page or to inquire about access directly through their support channels.\\n Here’s how you might start a simple Langchain project in Python:\\nTo integrate LangSmith, you could write something like this:\\nYou’re not limited to Python, though.', 'Sign up\\nSign in\\nSign up\\nSign in\\nLangChain Embeddings — Tutorial & Examples for LLMs\\nGiri dharan\\nFollow\\n--\\nListen\\nShare\\nWelcome, Prompt Engineers! #OpenSource #React #TypeScript\\nHelp\\nStatus\\nAbout\\nCareers\\nBlog\\nPrivacy\\nTerms\\nText to speech\\nTeams Best Practices for Using LangChain Embeddings\\nNow that you’re familiar with advanced techniques, let’s discuss some best practices to get the most out of LangChain Embeddings.\\n So, stay tuned!\\nAdvanced Techniques in LangChain Embeddings\\nAfter grasping the basics, it’s time to dive into some advanced techniques that can elevate your LangChain Embedding game. Conclusion\\nLangChain Embeddings offer a powerful way to convert text into a machine-readable format, opening the door to a wide range of NLP applications.', 'Latest Updates and Key Insights on this Cloud ERP System\\ntechnology\\nSangita\\n26-11-2023\\nUnraveling SaaS, Private Cloud, and Public Cloud Software\\ntechnology\\nSangita\\n26-11-2023\\nOptimizing UX in Digital Transformation: Selecting the Ideal Partner\\ntechnology\\nSangita\\n26-11-2023\\n5 Lessons for Digital Transformations from a Case Study On Amazon\\ntechnology\\nApoorva\\n26-11-2023\\n Latest Updates and Key Insights on this Cloud ERP System\\ntechnology\\nSangita\\n26-11-2023\\nUnraveling SaaS, Private Cloud, and Public Cloud Software\\ntechnology\\nSangita\\n26-11-2023\\nOptimizing UX in Digital Transformation: Selecting the Ideal Partner\\ntechnology\\nSangita\\n26-11-2023\\n5 Lessons for Digital Transformations from a Case Study On Amazon\\ntechnology\\nApoorva\\n26-11-2023\\n Apoorva Gosain\\n26-04-2023\\nSimilar readings\\nApoorva\\n26-11-2023\\nThe 5 Most Important Steps to An Organizational Change Management Strategy and Plan\\ntechnology\\nApoorva\\n26-11-2023\\n To use Flan Models, we need to first install the Flan library using pip:\\npip install flan\\nAfter installing the library, we can use the following code to load a pre-trained Flan model:\\n Comparing Two of the Most Powerful Language Processing Technologies\\nExplore the differences between LLMs and LangChain, two leading language processing technologies, and discover their unique capabilities and\\nLanguage processing technologies have revolutionized the way we communicate, making it easier for individuals & businesses to interact with one another across the globe.', 'This function helps to load the specific language models and tools required for the task as shown in the code snippet below:\\nAs a next step, initialize an agent by calling the initialize_agent function with several parameters like tools, llms, and agent:\\nThe verbose parameter is set to false, indicating that the agent will not provide verbose or detailed output.\\n You can accomplish this by following the shell commands provided below:\\nCreating a LangSmith client\\nNext, create a LangSmith client to interact with the API:\\nIf you’re using Python, run the following commands to import the module:\\n This code also handles exceptions that may occur during the agent execution:\\nIt’s also important to call the wait_for_all_tracers function from the langchain.callbacks.tracers.langchain module as shown in the code snippet below:\\nCalling the wait_for_all_tracers function helps ensure that logs and traces are submitted in full before the program proceeds. The temperature parameter will be set to 0, implying that the generated response will be more deterministic as shown in the code snippet below:\\nNow, let’s call the load_tools function with a list of tool APIs, such as serpapi and llm-math, and also take the llm instance as a parameter. It initializes a chat model, loads specific tools, and creates an agent that can generate responses based on descriptions:\\nInput processing with exception handling\\nThe code below defines a list of input examples using the asyncio library to asynchronously run the agent on each input and gather the results for further processing.', \"LangSmith Cookbook: Real-world Lang Smith Examples\\nThe LangSmith Cookbook is not just a compilation of code snippets; it's a goldmine of hands-on examples designed to inspire and assist you in your projects. On This Page\\nLangSmith: Best Way to Test LLMs and AI Application\\nPublished on 12/17/2023\\nIf you're in the world of Language Learning Models (LLMs), you've probably heard of LangSmith. How to Download Feedback and Examples (opens in a new tab): Export predictions, evaluation results, and other information to add to your reports programmatically.\\n This article is your one-stop guide to understanding LangSmith, a platform that offers a plethora of features for debugging, testing, evaluating, and monitoring LLM applications.\\n How do I get access to LangSmith?\\nTo get access to LangSmith, you'll need to sign up for an account on their website.\", 'Mar 13, 2024 · Machine learning is continuously evolving, and one of the most significant trends shaping the future of technology is the development and\\xa0...', 'Jun 8, 2024 · Explore the future of large language models and their impact on business and society in this insightful blog by Maxiom Technology.', 'Defined Agent\\nConsidering the agent, notice the only tool defined for this agent:\\nThe prompt at the centre of this Agent is fetched with the code below:\\nAnd the prompt retrieved from the prompt hub:\\nThe code to run the agent:\\nAnd the output from the Agent:\\n By signing up, you will create a Medium account if you don’t already…\\ncobusgreyling.medium.com\\nGoogle Colaboratory\\nEdit description\\ncolab.research.google.com\\nLangSmith Walkthrough | 🦜️🔗 Langchain\\nOpen In Colab\\npython.langchain.com\\n--\\n--\\nWritten by Cobus Greyling\\nI explore and write about all things at the intersection of AI & language; LLMs/NLP/NLU, Chat/Voicebots, CCAI. www.cobusgreyling.com\\n In this article I only consider three of the five tools within LangSmith; Projects, Datasets & Testing & Hub.\\nRun An Agent While Logging Traces\\nWhenever a new project is created within LangSmith, under the Setup tab the code snippets are shown, which can be include in your code to reference and log traces to the LangSmith project.\\n Help\\nStatus\\nAbout\\nCareers\\nBlog\\nPrivacy\\nTerms\\nText to speech\\nTeams The prompt is imported from the LangSmith prompt hub:\\nThe evaluation process is run, this fetches the example rows from the specified datasets.\\n', 'Jul 24, 2023 · In this post, we will explore the latest product by the team that created Langchain (the most popular LLM software tool) and see what new parts\\xa0...', 'Defined Agent\\nConsidering the agent, notice the only tool defined for this agent:\\nThe prompt at the centre of this Agent is fetched with the code below:\\nAnd the prompt retrieved from the prompt hub:\\nThe code to run the agent:\\nAnd the output from the Agent:\\n By signing up, you will create a Medium account if you don’t already…\\ncobusgreyling.medium.com\\nGoogle Colaboratory\\nEdit description\\ncolab.research.google.com\\nLangSmith Walkthrough | 🦜️🔗 Langchain\\nOpen In Colab\\npython.langchain.com\\n--\\n--\\nWritten by Cobus Greyling\\nI explore and write about all things at the intersection of AI & language; LLMs/NLP/NLU, Chat/Voicebots, CCAI. www.cobusgreyling.com\\n In this article I only consider three of the five tools within LangSmith; Projects, Datasets & Testing & Hub.\\nRun An Agent While Logging Traces\\nWhenever a new project is created within LangSmith, under the Setup tab the code snippets are shown, which can be include in your code to reference and log traces to the LangSmith project.\\n Help\\nStatus\\nAbout\\nCareers\\nBlog\\nPrivacy\\nTerms\\nText to speech\\nTeams The prompt is imported from the LangSmith prompt hub:\\nThe evaluation process is run, this fetches the example rows from the specified datasets.\\n', \"BETA Sign Up\\nContact Sales\\nProducts and use-cases\\nLangChain\\nLangSmith\\nRetrieval\\nAgents\\nInspiration\\nCode\\nGitHub\\nLangChain Hub\\nPython Docs\\nJS/TS Docs\\nSocial\\nTwitter\\nDiscord\\nBlog\\nLinkedIn\\nYouTube\\nTerms of Service\\nSign up for our newsletter\\nProducts and use-cases\\nLangChain\\nLangSmith\\nRetrieval\\nAgents\\nInspiration\\nCode\\nGitHub\\nLangChain Hub\\nPython Docs\\nJS/TS Docs\\nSocial\\nTwitter\\nDiscord\\nBlog\\nLinkedIn\\nYouTube\\nTerms of Service\\nSign up for our newsletter\\nProducts and use-cases\\nLangChain\\nLangSmith\\nRetrieval\\nAgents\\nInspiration\\nCode\\nGitHub\\nLangChain Hub\\nPython Docs\\nJS/TS Docs\\nSocial\\nTwitter\\nDiscord\\nBlog\\nLinkedIn\\nYouTube\\nTerms of Service\\nSign up for our newsletter 🦜🔗 LangChain\\nLangSmith\\nLangServe\\nAgents\\nRetrieval\\nEvaluation\\nBlog\\nDocs\\n🦜🔗 LangChain\\nBuild and deploy LLM apps with confidence\\nAn all-in-one developer platform for every step of the application lifecycle.\\n Prompt playground\\nCross-team collaboration\\nCatalog of ranging models & tasks\\nProven prompting strategies\\nExplore LangChain Hub\\nTurn the magic of LLM applications into enterprise-ready products\\nNative collaboration\\nBring your team together in LangSmith to craft prompts, debug, and capture feedback.\\n Application-level usage stats\\nFeedback collection\\nFilter traces\\nCost measurement\\nPerformance comparison\\nGo To Docs\\nManage Prompts\\nPrompts power your team's chains and agents, and LangSmith allows you to refine, test, and version them in one place. Dataset curation\\nEvaluate chain performance\\nAI-assisted evaluation\\nEasy benchmarking\\nGo To Docs\\nMonitor\\nGiven the stochastic nature of LLMs, it can be hard to answer the simple question: “what’s happening with my application?”\", 'LangSmith supports a powerful comparison view that lets you hone in on key differences, regressions, and improvements between different experiments. Open the comparison view To open the comparison view, select two or more experiments from the \"Experiments\" tab from a given dataset page. Then, click on the \"Compare\" button at the bottom of the page.', 'Langchain vs Langsmith: Unpacking the AI Language Model Showdown\\nOverview of Langchain and Langsmith\\nLangchain is a versatile open-source framework that enables you to build applications utilizing large language models (LLM) like GPT-3. Check out our free WhatsApp channel to stay educated on LLM developments:\\nJoin the Finxter Academy and unlock access to premium courses 👑 to certify your skills in exponential technologies and programming.\\n Frequently Asked Questions\\nWhether you’re trying to figure out which tool fits your needs or you’re just getting started with language model automation, these FAQs will help shed light on the common curiosities about Langchain and LangSmith.\\n The best way to find out is to reach out to them through the LangSmith Walkthrough page or to inquire about access directly through their support channels.\\n Here’s how you might start a simple Langchain project in Python:\\nTo integrate LangSmith, you could write something like this:\\nYou’re not limited to Python, though.', \"We link multimodal input (including audio using chirp) into matching engine and provide access without ever leaving GCP\\nAIffirmation - unlock the power of words\\nAIffirmation is an app designed to enhance the way we express love and appreciation through personalized text messages leveraging the power of AI.\\nAcademiAI\\nAdaptive Learning with AI : intelligent Ed-Tech platform shaping the future\\nAcademiAI leverages the power of AI to revolutionize education, providing students with adaptive assessments and real-time feedback for a effective learning experience.\\n Athena\\nAI-Assist to faciliate scientific Research and Discovery\\nConnectED\\nConnectED is a platform that aims to address a significant public health issue by providing a centralized digital hub for government agencies and NGOs to upload health updates and information and send to local health professionals to interact with\\nNURTURE AI\\nNurture AI is a concept that begins from the very moment life starts—during the gestation period. Assistant Store and Assistant Factory\\nSimilar to an App Store, the Assistant Store allows you to buy Assistants crafted with realistic voices and descriptions done by other users in the Assistant Factory\\nVakta Voice Bot\\nVakta is a fully voice-activated and AI-enabled GUI based voice bot application, thoughtfully designed with the primary objective of empowering the visually impaired community with cutting-edge learning technology.\\n QuizMeGPT\\nEnables students to study productively and independently by analyzing textbook material and quizzing them on the material, and providing feedback on the answers\\nAI Agent for Human Resource\\nA LangChain agent in the form of a Slackbot that can answer questions about a company's HR policies, calculate stock option vesting schedule and take feedback.\\n Egregore\\nEgregore: An implementation of LangChain and Claude for Accelerated Competitive Analysis\\nThe Dawn of Simple AI\\nAI-Powered Discord Bot that helps you pick the right AI tool as per your need\\nTwitter Bot 9000\\nA fully automated Twitter thread writer agent.\", 'Mar 16, 2024 · LangChain consists of components such as schema, models, prompts, indexes, memory, chains, and agents. Developers can use agents for Amazon\\xa0...', \"The company has 70+ businesses in fields such as\\nLangChain Partners with CommandBar on their Copilot User Assistant\\nCommandBar is a user assistance platform that helps software companies make their products easy to use by capturing and predicting user intent, and then delivering\\nLangChain partners with Elastic to launch the Elastic AI Assistant\\nElastic, a leading search analytics company, serving over 20k customers worldwide, enables organizations to securely harness search-powered AI so anyone can find the answers they\\nAlly Financial Collaborates with LangChain to Deliver Critical Coding Module to Mask Personal Identifying Information in a Compliant and Safe Manner\\nAlly Financial, the largest digital-only bank in the US and a leading auto lender, has recently collaborated with LangChain to release the first initial coding\\nLLMs accelerate Adyen's support team through smart-ticket routing and support agent copilot\\nChallenge\\nAs global commerce accelerates, Adyen, a publicly-traded financial technology platform, is helping large companies like Meta, Uber, H&M, and Microsoft achieve their\\nLangChain Expands Collaboration with Microsoft\\n LangChain helps developers build context-aware reasoning applications and powers some of the most\\nMorningstar Intelligence Engine puts personalized investment insights at analysts' fingertips\\nChallenge\\nFinancial services is one of the most data-driven industries and financial professionals are always hungry for more data and better tools to drive value\\nRobocorp’s code generation assistant makes building Python automation easy for developers\\nChallenge\\nRobocorp was founded in 2019 out of frustration that the promise of developers being able to automate monotonous work hadn’t been realized. Case Studies\\nRakuten Group builds with LangChain and LangSmith to deliver premium products for its business clients and employees\\nRakuten Group is well known for operating one of the largest online shopping malls in Japan. Today, we’re thrilled to announce a collaboration between LangChain and Microsoft.\\n Right\\n© LangChain Blog 2024\", \"Rakuten Group builds with LangChain and LangSmith to deliver premium products for its business clients\\nLangChain Partners with CommandBar on their Copilot User Assistant\\nLangChain partners with Elastic to launch the Elastic AI Assistant\\nAlly Financial Collaborates with LangChain to Deliver Coding Module to Mask PII\\nLLMs accelerate Adyen's support team through\\nsmart-ticket routing and support agent copilot\\nMorningstar Intelligence Engine puts personalized investment insights at analysts' fingertips\\nRobocorp’s code generation assistant makes building Python automation easy for developers\\nLangChain Expands Collaboration with Microsoft\\nHear from our happy customers\\nLangSmith helps teams of all sizes, across all industries, from ambitious\\nstartups to established enterprises.\\n We could have built evaluation, testing and monitoring tools in house, but with LangSmith it took us 10x less time to get a 1000x better tool.”\\nReady to start shipping\\nreliable GenAI apps faster?\\nLangChain and LangSmith are critical parts of the reference\\narchitecture to get you from prototype to production. We couldn’t have achieved \\xa0the product experience delivered to our customers without LangChain, and we couldn’t have done it at the same pace without LangSmith.”\\n“As soon as we heard about LangSmith, we moved our entire development stack onto it. We couldn’t have achieved \\xa0the product experience delivered to our customers without LangChain, and we couldn’t have done it at the same pace without LangSmith.”\\n“As soon as we heard about LangSmith, we moved our entire development stack onto it. We could have built evaluation, testing and monitoring tools in house, but with LangSmith it took us 10x less time to get a 1000x better tool.”\\n“LangSmith helped us improve the accuracy and performance of Retool’s fine-tuned models.\", \"Sep 19, 2023 · LangSmith is a framework built on the shoulders of LangChain. It's designed to track the inner workings of LLMs and AI agents within your\\xa0...\", 'Apr 28, 2024 · Execution Metrics: Analyze metrics like token count and processing time for each LLM interaction, allowing for pinpointing performance issues.']\n",
      "\n",
      "\n",
      "generate:\n",
      "**Essay:**\n",
      "\n",
      "**I. Introduction**\n",
      "\n",
      "Langchain and Langsmith are two distinct technologies that play crucial roles in the realm of AI and language processing. While both are integral to the development and deployment of language models, they serve different purposes and offer unique features. This essay aims to delve into the disparities between Langchain and Langsmith to provide a comprehensive understanding of their functionalities and implications.\n",
      "\n",
      "**II. Langchain**\n",
      "\n",
      "Langchain is an open-source framework designed to facilitate the creation of applications utilizing large language models (LLMs) like GPT-3. It serves as a versatile platform that enables developers to harness the power of LLMs for various applications. Key features of Langchain include its ability to handle multimodal inputs, such as audio, and provide access without leaving the Google Cloud Platform (GCP). Langchain is utilized in applications like AIffirmation, AcademiAI, and Vakta Voice Bot. While Langchain offers flexibility and power in developing AI applications, it may have limitations in terms of complexity and resource-intensive tasks.\n",
      "\n",
      "**III. Langsmith**\n",
      "\n",
      "On the other hand, Langsmith is a framework built on Langchain, focusing on tracking the inner workings of LLMs and AI agents. It provides tools for evaluation, testing, and monitoring of LLM applications. Langsmith offers features like the LangSmith Cookbook, which provides hands-on examples for developers, and a comparison view to analyze key differences between experiments. Langsmith is instrumental in improving the accuracy and performance of fine-tuned models in applications like Retool. However, it may have constraints in terms of customization and adaptability for specific use cases.\n",
      "\n",
      "**IV. Comparison between Langchain and Langsmith**\n",
      "\n",
      "- **Technology Stack:** Langchain primarily focuses on building applications with LLMs, while Langsmith specializes in evaluating and monitoring these applications.\n",
      "- **Scalability and Performance:** Langchain emphasizes flexibility and application development, whereas Langsmith prioritizes accuracy and performance optimization.\n",
      "- **Security and Privacy:** Both technologies adhere to stringent security protocols, but Langsmith may offer more robust monitoring and evaluation tools for ensuring data privacy.\n",
      "- **Adoption and Popularity:** Langchain is widely used for developing AI applications, while Langsmith is gaining traction for its evaluation and testing capabilities.\n",
      "- **Future Prospects:** Langchain may evolve to support more advanced LLM functionalities, while Langsmith could enhance its tools for comprehensive application monitoring.\n",
      "\n",
      "**V. Conclusion**\n",
      "\n",
      "In conclusion, Langchain and Langsmith serve distinct yet complementary roles in the AI and language processing landscape. Understanding the differences between these technologies is crucial for developers and organizations looking to leverage LLMs effectively. While Langchain excels in application development, Langsmith shines in evaluation and monitoring. The future holds promising opportunities for both technologies, paving the way for enhanced AI applications and advancements in language processing.\n",
      "\n",
      "\n"
     ]
    }
   ],
   "source": [
    "thread = {\"configurable\": {\"thread_id\": \"1\"}}\n",
    "session_list = []\n",
    "for s in graph.stream({\n",
    "    'task': \"what is the difference between langchain and langsmith\",\n",
    "    \"max_revisions\": 2,\n",
    "    \"revision_number\": 1,\n",
    "}, thread):\n",
    "    step = list(s.keys())[0]\n",
    "    content = ''\n",
    "    if step == 'planner':\n",
    "        content = s[step]['plan']\n",
    "    elif step == 'research_plan':\n",
    "        content = s[step]['content']\n",
    "    elif step == 'generate':\n",
    "        content = s[step]['draft']\n",
    "    elif step == 'reflect':\n",
    "        content = s[step]['critique']\n",
    "    elif step == 'research_critique':\n",
    "        content = s[step]['content']\n",
    "    print(f'{step}:\\n{content}\\n\\n')\n",
    "    session_list.append(s)"
   ]
  },
  {
   "cell_type": "markdown",
   "id": "d9ba1f0e-cc93-4312-95d8-ffa912335b21",
   "metadata": {},
   "source": [
    "## <b><font color='darkblue'>Essay Writer Interface</font></b>"
   ]
  },
  {
   "cell_type": "code",
   "execution_count": 28,
   "id": "48fdf899-51b9-4a59-8864-2a227defc162",
   "metadata": {},
   "outputs": [],
   "source": [
    "#import warnings\n",
    "#warnings.filterwarnings(\"ignore\")\n",
    "\n",
    "#from helper import ewriter, writer_gui\n",
    "\n",
    "#MultiAgent = ewriter()\n",
    "#app = writer_gui(MultiAgent.graph)\n",
    "#app.launch()"
   ]
  },
  {
   "cell_type": "markdown",
   "id": "fb0695ca-e570-4460-b61d-dab70fe2fb27",
   "metadata": {},
   "source": [
    "## <b><font color='darkblue'>Supplement</font></b>\n",
    "* [Deeplearn.ai - AI Agents in LangGraph - Ch2: Build an Agent from Scratch](https://learn.deeplearning.ai/courses/ai-agents-in-langgraph/lesson/2/build-an-agent-from-scratch)\n",
    "* [Deeplearn.ai - AI Agents in LangGraph - Ch3: LangGraph components](https://learn.deeplearning.ai/courses/ai-agents-in-langgraph/lesson/3/langgraph-components)\n",
    "* [Deeplearn.ai - AI Agents in LangGraph - Ch4: Agentic search tools](https://learn.deeplearning.ai/courses/ai-agents-in-langgraph/lesson/4/agentic-search-tools)\n",
    "* [Deeplearn.ai - AI Agents in LangGraph - Ch5: Persistence and streaming](https://learn.deeplearning.ai/courses/ai-agents-in-langgraph/lesson/5/persistence-and-streaming)\n",
    "* [Deeplearn.ai - AI Agents in LangGraph - Ch6: Human in the loop](https://learn.deeplearning.ai/courses/ai-agents-in-langgraph/lesson/6/human-in-the-loop)\n",
    "* [Deeplearn.ai - AI Agents in LangGraph - Ch7: Essay Writer](https://learn.deeplearning.ai/courses/ai-agents-in-langgraph/lesson/7/essay-writer)\n",
    "* [Deeplearn.ai - AI Agents in LangGraph - Ch8: LangChain resources](https://learn.deeplearning.ai/courses/ai-agents-in-langgraph/lesson/8/langchain-resources)\n",
    "* [LangGraph examples/chat_agent_executor_with_function_calling/human-in-the-loop.ipynb](https://github.com/langchain-ai/langgraph/blob/main/examples/chat_agent_executor_with_function_calling/human-in-the-loop.ipynb)"
   ]
  }
 ],
 "metadata": {
  "kernelspec": {
   "display_name": "Python 3 (ipykernel)",
   "language": "python",
   "name": "python3"
  },
  "language_info": {
   "codemirror_mode": {
    "name": "ipython",
    "version": 3
   },
   "file_extension": ".py",
   "mimetype": "text/x-python",
   "name": "python",
   "nbconvert_exporter": "python",
   "pygments_lexer": "ipython3",
   "version": "3.11.8"
  }
 },
 "nbformat": 4,
 "nbformat_minor": 5
}
