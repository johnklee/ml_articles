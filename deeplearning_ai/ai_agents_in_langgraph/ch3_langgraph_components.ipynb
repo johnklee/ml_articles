{
 "cells": [
  {
   "cell_type": "markdown",
   "id": "6311401d-3872-43e7-b77e-be96e2b03356",
   "metadata": {},
   "source": [
    "## <b><font color='darkblue'>Preface</font></b>\n",
    "([source course](https://learn.deeplearning.ai/courses/ai-agents-in-langgraph/lesson/3/langgraph-components)) <b><font size='3ptx'>[LangGraph](https://langchain-ai.github.io/langgraph/) is a library for building stateful, multi-actor applications with LLMs, used to create agent and multi-agent workflows. ([more](https://langchain-ai.github.io/langgraph/))</font></b>\n",
    "\n",
    "<b>Compared to other LLM frameworks, it offers these core benefits: cycles, controllability, and persistence.</b> LangGraph allows you to define flows that involve cycles, essential for most agentic architectures, differentiating it from DAG-based solutions. <b>As a very low-level framework, it provides fine-grained control over both the flow and state of your application, crucial for creating reliable agents</b>. Additionally, LangGraph includes built-in persistence, enabling advanced human-in-the-loop and memory features.\n",
    "\n",
    "![langgraph intro](images/ch3_1.png)"
   ]
  },
  {
   "cell_type": "code",
   "execution_count": 4,
   "id": "10ab8326-a1c2-4b6f-8c1d-124388de600b",
   "metadata": {},
   "outputs": [
    {
     "name": "stdout",
     "output_type": "stream",
     "text": [
      "langchain==0.2.6\n",
      "langchain-anthropic==0.1.15\n",
      "langchain-community==0.2.6\n",
      "langchain-core==0.2.10\n",
      "langchain-experimental==0.0.62\n",
      "langchain-google-genai==1.0.6\n",
      "langchain-groq==0.1.3\n",
      "langchain-openai==0.1.9\n",
      "langchain-text-splitters==0.2.0\n",
      "langchainhub==0.1.14\n",
      "langgraph==0.1.4\n",
      "openai==1.28.1\n"
     ]
    }
   ],
   "source": [
    "!pip freeze | grep -P '(openai|langchain|langgraph)'"
   ]
  },
  {
   "cell_type": "code",
   "execution_count": 7,
   "id": "34d6fb98-3090-4893-9e0f-20cfd51fd1bd",
   "metadata": {},
   "outputs": [],
   "source": [
    "import os\n",
    "import openai\n",
    "import re\n",
    "import httpx\n",
    "import os\n",
    "from dotenv import load_dotenv, find_dotenv\n",
    "\n",
    "from openai import OpenAI\n",
    "from langchain_openai import ChatOpenAI\n",
    "\n",
    "a = load_dotenv(find_dotenv(os.path.expanduser('~/.env'))) # read local .env file\n",
    "openai.api_key = os.environ['OPENAI_API_KEY']"
   ]
  },
  {
   "cell_type": "code",
   "execution_count": 8,
   "id": "ea089010-1b9b-4b6c-b720-20574c4ca649",
   "metadata": {},
   "outputs": [],
   "source": [
    "from langgraph.graph import StateGraph, END\n",
    "from typing import TypedDict, Annotated\n",
    "import operator\n",
    "from langchain_core.messages import AnyMessage, SystemMessage, HumanMessage, ToolMessage\n",
    "from langchain_openai import ChatOpenAI\n",
    "from langchain_community.tools.tavily_search import TavilySearchResults"
   ]
  },
  {
   "cell_type": "code",
   "execution_count": 10,
   "id": "b822022e-d742-4ada-b359-cf2aaab4e649",
   "metadata": {},
   "outputs": [
    {
     "name": "stdout",
     "output_type": "stream",
     "text": [
      "<class 'langchain_community.tools.tavily_search.tool.TavilySearchResults'>\n",
      "tavily_search_results_json\n"
     ]
    }
   ],
   "source": [
    "# You have to export environment variable `TAVILY_API_KEY`\n",
    "# For details, refer to: https://app.tavily.com/home\n",
    "tool = TavilySearchResults(max_results=4) #increased number of results\n",
    "print(type(tool))\n",
    "print(tool.name)"
   ]
  },
  {
   "cell_type": "markdown",
   "id": "4ded3c88-135a-4670-baaa-c02f6a5d41e0",
   "metadata": {},
   "source": [
    "## <b><font color='darkblue'>Use LangGraph to cretea an Agent</font></b>\n",
    "<b><font size='3ptx'>One of the central concepts of LangGraph is state.</font> Each graph execution creates a state that is passed between nodes in the graph as they execute, and each node updates this internal state with its return value after it executes. </b>\n",
    "\n",
    "The way that the graph updates its internal state is defined by either the type of graph chosen or a custom function. Let's take a look at a simple example of an agent that can search the web using [**Tavily Search API**](https://tavily.com/)."
   ]
  },
  {
   "cell_type": "markdown",
   "id": "29e1c1b9-86de-433a-95ee-8dd339267530",
   "metadata": {},
   "source": [
    "### <b><font color='darkgreen'>Step-by-step Breakdown</font></b>\n",
    "* **Initialize the model and tools.**: We use ChatOpenAI as our LLM. NOTE: we need make sure the model knows that it has these tools available to call. We can do this by converting the LangChain tools into the format for OpenAI tool calling using the <font color='blue'>.bind_tools()</font> method ([LangChain doc: Passing tools to model](https://python.langchain.com/v0.1/docs/modules/model_io/chat/function_calling/#request-passing-tools-to-model)).\n",
    "* **Initialize graph with state:**\n",
    "  * We initialize graph ([**StateGraph**](https://langchain-ai.github.io/langgraph/reference/graphs/#stategraph)) by passing state schema (<font color='brown'>in our case</font> <font color='blue'>**AgentState**</font>)\n",
    "  * <font color='blue'>**AgentState**</font> is a prebuilt state schema that has one attribute -- a list of LangChain [**BaseMessage**](https://api.python.langchain.com/en/latest/messages/langchain_core.messages.base.BaseMessage.html#langchain_core.messages.base.BaseMessage) objects, as well as logic for merging the updates from each node into the state.\n",
    "* **Define graph nodes:**\n",
    "  * The `agent` node: responsible for deciding what (if any) actions to take.\n",
    "  * The `tools` node that invokes tools: if the agent decides to take an action, this node will then execute that action.\n",
    "* **Define entry point and graph edges**: First, we need to set the entry point for graph execution - agent node. Then we define one normal and one conditional edge. Conditional edge means that the destination depends on the contents of the graph's state (MessageState). In our case, the destination is not known until the agent (LLM) decides.\n",
    "  * Conditional edge: after the agent is called, we should either:\n",
    "    *  Run tools if the agent said to take an action, OR\n",
    "    *  Finish (respond to the user) if the agent did not ask to run tools\n",
    "  * Normal edge: after the tools are invoked, the graph should always return to the agent to decide what to do next\n",
    "* **Compile the graph**:\n",
    "  * When we compile the graph, we turn it into a LangChain Runnable, which automatically enables calling `.invoke()`, `.stream()` and `.batch()` with your inputs\n",
    "  * We can also optionally pass checkpointer object for persisting state between graph runs, and enabling memory, human-in-the-loop workflows, time travel and more. In our case we use MemorySaver - a simple in-memory checkpointer\n",
    "* **Execute the graph**\n",
    "  * LangGraph adds the input message to the internal state, then passes the state to the entrypoint node, `\"agent\"`.\n",
    "  * The `\"agent\"` node executes, invoking the chat model.\n",
    "  * The chat model returns an [**AIMessage**](https://api.python.langchain.com/en/latest/messages/langchain_core.messages.ai.AIMessage.html). LangGraph adds this to the state.\n",
    "  * Graph cycles the following steps until there are no more `tool_calls` on [**AIMessage**](https://api.python.langchain.com/en/latest/messages/langchain_core.messages.ai.AIMessage.html):\n",
    "    * If [**AIMessage**](https://api.python.langchain.com/en/latest/messages/langchain_core.messages.ai.AIMessage.html) has `tool_calls`, `\"tools\"` node executes\n",
    "    * The `\"agent\"` node executes again and returns [**AIMessage**](https://api.python.langchain.com/en/latest/messages/langchain_core.messages.ai.AIMessage.html)\n",
    "    * Execution progresses to the special `END` value and outputs the final state. And as a result, we get a list of all our chat messages as output."
   ]
  },
  {
   "cell_type": "code",
   "execution_count": 12,
   "id": "e435ceca-2db3-45eb-b267-0c4c6243b523",
   "metadata": {},
   "outputs": [],
   "source": [
    "class AgentState(TypedDict):\n",
    "    messages: Annotated[list[AnyMessage], operator.add]"
   ]
  },
  {
   "cell_type": "markdown",
   "id": "3937cf6c-a90e-432d-b84b-2ac1e8b88149",
   "metadata": {},
   "source": [
    "<b><font color='orange'>Note</font></b>: in `take_action` below, some logic was added to cover the case that the LLM returned a non-existent tool name. Even with function calling, LLMs can still occasionally hallucinate. Note that all that is done is instructing the LLM to try again! An advantage of an agentic organization."
   ]
  },
  {
   "cell_type": "code",
   "execution_count": 13,
   "id": "2fe8b719-67db-419e-8dd7-67281a2035c0",
   "metadata": {},
   "outputs": [],
   "source": [
    "class Agent:\n",
    "\n",
    "    def __init__(self, model, tools, system=\"\"):\n",
    "        self.system = system\n",
    "        graph = StateGraph(AgentState)\n",
    "        graph.add_node(\"llm\", self.call_openai)\n",
    "        graph.add_node(\"action\", self.take_action)\n",
    "        graph.add_conditional_edges(\n",
    "            \"llm\",\n",
    "            self.exists_action,\n",
    "            {True: \"action\", False: END}\n",
    "        )\n",
    "        graph.add_edge(\"action\", \"llm\")\n",
    "        graph.set_entry_point(\"llm\")\n",
    "        self.graph = graph.compile()\n",
    "        self.tools = {t.name: t for t in tools}\n",
    "        self.model = model.bind_tools(tools)\n",
    "\n",
    "    def exists_action(self, state: AgentState):\n",
    "        result = state['messages'][-1]\n",
    "        return len(result.tool_calls) > 0\n",
    "\n",
    "    def call_openai(self, state: AgentState):\n",
    "        messages = state['messages']\n",
    "        if self.system:\n",
    "            messages = [SystemMessage(content=self.system)] + messages\n",
    "        message = self.model.invoke(messages)\n",
    "        return {'messages': [message]}\n",
    "\n",
    "    def take_action(self, state: AgentState):\n",
    "        tool_calls = state['messages'][-1].tool_calls\n",
    "        results = []\n",
    "        for t in tool_calls:\n",
    "            print(f\"Calling: {t}\")\n",
    "            if not t['name'] in self.tools:      # check for bad tool name from LLM\n",
    "                print(\"\\n ....bad tool name....\")\n",
    "                result = \"bad tool name, retry\"  # instruct LLM to retry if bad\n",
    "            else:\n",
    "                result = self.tools[t['name']].invoke(t['args'])\n",
    "            results.append(ToolMessage(tool_call_id=t['id'], name=t['name'], content=str(result)))\n",
    "        print(\"Back to the model!\")\n",
    "        return {'messages': results}"
   ]
  },
  {
   "cell_type": "markdown",
   "id": "3d32ee2f-7839-4a3f-bd18-5c13d1dc5d55",
   "metadata": {},
   "source": [
    "Let's test our agent to see how it works. Before that, let's check the graph of our agent:"
   ]
  },
  {
   "cell_type": "code",
   "execution_count": 16,
   "id": "22448529-c050-4202-8f9f-2e104bd252af",
   "metadata": {},
   "outputs": [],
   "source": [
    "prompt = \"\"\"You are a smart research assistant. Use the search engine to look up information. \\\n",
    "You are allowed to make multiple calls (either together or in sequence). \\\n",
    "Only look up information when you are sure of what you want. \\\n",
    "If you need to look up some information before asking a follow up question, you are allowed to do that!\n",
    "\"\"\"\n",
    "\n",
    "model = ChatOpenAI(model=\"gpt-3.5-turbo\")  #reduce inference cost\n",
    "abot = Agent(model, [tool], system=prompt)"
   ]
  },
  {
   "cell_type": "code",
   "execution_count": 18,
   "id": "50cd7560-1a58-4892-adbd-39c6412d494b",
   "metadata": {},
   "outputs": [
    {
     "data": {
      "image/png": "[encoded data removed]",
      "text/plain": [
       "<IPython.core.display.Image object>"
      ]
     },
     "execution_count": 18,
     "metadata": {},
     "output_type": "execute_result"
    }
   ],
   "source": [
    "from IPython.display import Image\n",
    "\n",
    "Image(abot.graph.get_graph().draw_png())"
   ]
  },
  {
   "cell_type": "markdown",
   "id": "dda04b2b-6cb5-419b-94d5-2063ae2b12e8",
   "metadata": {},
   "source": [
    "### <b><font color='darkgreen'>Question: `What is the weather in Taiwan?`</font></b>"
   ]
  },
  {
   "cell_type": "code",
   "execution_count": 19,
   "id": "2f283515-d796-4981-a13e-8e0398f0fbad",
   "metadata": {},
   "outputs": [
    {
     "name": "stdout",
     "output_type": "stream",
     "text": [
      "Calling: {'name': 'tavily_search_results_json', 'args': {'query': 'weather in Taiwan'}, 'id': 'call_sVKsfMEbKYtnxQy2c2tpJFoZ'}\n",
      "Back to the model!\n"
     ]
    }
   ],
   "source": [
    "messages = [HumanMessage(content=\"What is the weather in Taiwan?\")]\n",
    "result = abot.graph.invoke({\"messages\": messages})"
   ]
  },
  {
   "cell_type": "code",
   "execution_count": 23,
   "id": "9a04fbed-099f-4167-8a02-a474f1c11618",
   "metadata": {},
   "outputs": [
    {
     "data": {
      "text/plain": [
       "{'messages': [HumanMessage(content='What is the weather in Taiwan?'),\n",
       "  AIMessage(content='', additional_kwargs={'tool_calls': [{'id': 'call_sVKsfMEbKYtnxQy2c2tpJFoZ', 'function': {'arguments': '{\"query\":\"weather in Taiwan\"}', 'name': 'tavily_search_results_json'}, 'type': 'function'}]}, response_metadata={'token_usage': {'completion_tokens': 20, 'prompt_tokens': 153, 'total_tokens': 173}, 'model_name': 'gpt-3.5-turbo-0125', 'system_fingerprint': None, 'finish_reason': 'tool_calls', 'logprobs': None}, id='run-0887efcb-5d74-4740-bcde-2df3e6d0ad02-0', tool_calls=[{'name': 'tavily_search_results_json', 'args': {'query': 'weather in Taiwan'}, 'id': 'call_sVKsfMEbKYtnxQy2c2tpJFoZ'}], usage_metadata={'input_tokens': 153, 'output_tokens': 20, 'total_tokens': 173}),\n",
       "  ToolMessage(content='[{\\'url\\': \\'https://www.accuweather.com/en/tw/taipei-city/315078/january-weather/315078\\', \\'content\\': \\'Get the monthly weather forecast for Taipei City, Taipei City, Taiwan, including daily high/low, historical averages, to help you plan ahead.\\'}, {\\'url\\': \\'https://world-weather.info/forecast/taiwan/taipei/january-2024/\\', \\'content\\': \\'Detailed ⚡ Taipei Weather Forecast for January 2024 - day/night 🌡️ temperatures, precipitations - World-Weather.info\\'}, {\\'url\\': \\'https://www.weatherapi.com/\\', \\'content\\': \\'{\\\\\\'location\\\\\\': {\\\\\\'name\\\\\\': \\\\\\'Taiwan\\\\\\', \\\\\\'region\\\\\\': \"T\\\\\\'ai-wan\", \\\\\\'country\\\\\\': \\\\\\'Taiwan\\\\\\', \\\\\\'lat\\\\\\': 23.21, \\\\\\'lon\\\\\\': 120.18, \\\\\\'tz_id\\\\\\': \\\\\\'Asia/Taipei\\\\\\', \\\\\\'localtime_epoch\\\\\\': 1719803215, \\\\\\'localtime\\\\\\': \\\\\\'2024-07-01 11:06\\\\\\'}, \\\\\\'current\\\\\\': {\\\\\\'last_updated_epoch\\\\\\': 1719802800, \\\\\\'last_updated\\\\\\': \\\\\\'2024-07-01 11:00\\\\\\', \\\\\\'temp_c\\\\\\': 32.1, \\\\\\'temp_f\\\\\\': 89.8, \\\\\\'is_day\\\\\\': 1, \\\\\\'condition\\\\\\': {\\\\\\'text\\\\\\': \\\\\\'Partly cloudy\\\\\\', \\\\\\'icon\\\\\\': \\\\\\'//cdn.weatherapi.com/weather/64x64/day/116.png\\\\\\', \\\\\\'code\\\\\\': 1003}, \\\\\\'wind_mph\\\\\\': 9.4, \\\\\\'wind_kph\\\\\\': 15.1, \\\\\\'wind_degree\\\\\\': 170, \\\\\\'wind_dir\\\\\\': \\\\\\'S\\\\\\', \\\\\\'pressure_mb\\\\\\': 1009.0, \\\\\\'pressure_in\\\\\\': 29.8, \\\\\\'precip_mm\\\\\\': 0.0, \\\\\\'precip_in\\\\\\': 0.0, \\\\\\'humidity\\\\\\': 67, \\\\\\'cloud\\\\\\': 50, \\\\\\'feelslike_c\\\\\\': 35.2, \\\\\\'feelslike_f\\\\\\': 95.4, \\\\\\'windchill_c\\\\\\': 34.1, \\\\\\'windchill_f\\\\\\': 93.3, \\\\\\'heatindex_c\\\\\\': 39.3, \\\\\\'heatindex_f\\\\\\': 102.8, \\\\\\'dewpoint_c\\\\\\': 22.4, \\\\\\'dewpoint_f\\\\\\': 72.3, \\\\\\'vis_km\\\\\\': 10.0, \\\\\\'vis_miles\\\\\\': 6.0, \\\\\\'uv\\\\\\': 8.0, \\\\\\'gust_mph\\\\\\': 14.7, \\\\\\'gust_kph\\\\\\': 23.6}}\\'}, {\\'url\\': \\'https://www.meteoprog.com/weather/Taiwan/month/january/\\', \\'content\\': \\'Taiwan (China) weather in January 2024 ☀️ Accurate weather forecast for Taiwan in January ⛅ Detailed forecast By month Current temperature \"near me\" Weather news ⊳ Widget of weather ⊳ Water temperature | METEOPROG\\'}]', name='tavily_search_results_json', tool_call_id='call_sVKsfMEbKYtnxQy2c2tpJFoZ'),\n",
       "  AIMessage(content='The current weather in Taiwan, specifically in Taipei City, is partly cloudy with a temperature of 32.1°C (89.8°F). The wind speed is 15.1 kph coming from the south, with a humidity of 67%. The forecast indicates a feels-like temperature of 35.2°C (95.4°F) with no precipitation.', response_metadata={'token_usage': {'completion_tokens': 75, 'prompt_tokens': 842, 'total_tokens': 917}, 'model_name': 'gpt-3.5-turbo-0125', 'system_fingerprint': None, 'finish_reason': 'stop', 'logprobs': None}, id='run-618a4017-de29-43ff-a947-bad225405b98-0', usage_metadata={'input_tokens': 842, 'output_tokens': 75, 'total_tokens': 917})]}"
      ]
     },
     "execution_count": 23,
     "metadata": {},
     "output_type": "execute_result"
    }
   ],
   "source": [
    "result"
   ]
  },
  {
   "cell_type": "code",
   "execution_count": 25,
   "id": "d308547e-9f72-46fd-ae3a-2b1ca473bdde",
   "metadata": {},
   "outputs": [
    {
     "name": "stdout",
     "output_type": "stream",
     "text": [
      "The current weather in Taiwan, specifically in Taipei City, is partly cloudy with a temperature of 32.1°C (89.8°F). The wind speed is 15.1 kph coming from the south, with a humidity of 67%. The forecast indicates a feels-like temperature of 35.2°C (95.4°F) with no precipitation.\n"
     ]
    }
   ],
   "source": [
    "# Get last message:\n",
    "print(result['messages'][-1].content)"
   ]
  },
  {
   "cell_type": "markdown",
   "id": "e99a65f6-8aef-41a8-b570-1ca8be8f4f18",
   "metadata": {},
   "source": [
    "### <b><font color='darkgreen'>Question: `What is the weather in Taiwan and Japan?`</font></b>"
   ]
  },
  {
   "cell_type": "code",
   "execution_count": 26,
   "id": "9642d568-6713-4448-a045-c1733ebba135",
   "metadata": {},
   "outputs": [
    {
     "name": "stdout",
     "output_type": "stream",
     "text": [
      "Calling: {'name': 'tavily_search_results_json', 'args': {'query': 'weather in Taiwan'}, 'id': 'call_Od42hseZU7DK8Hu1AOHbAitt'}\n",
      "Calling: {'name': 'tavily_search_results_json', 'args': {'query': 'weather in Japan'}, 'id': 'call_m7AkHELmJpTKwaazZC84cja0'}\n",
      "Back to the model!\n"
     ]
    }
   ],
   "source": [
    "messages = [HumanMessage(content=\"What is the weather in Taiwan and Japan?\")]\n",
    "result = abot.graph.invoke({\"messages\": messages})"
   ]
  },
  {
   "cell_type": "code",
   "execution_count": 28,
   "id": "814c5ddc-85c5-47fe-87aa-1f757aa952dc",
   "metadata": {},
   "outputs": [
    {
     "name": "stdout",
     "output_type": "stream",
     "text": [
      "The current weather in Taiwan is partly cloudy with a temperature of 32.1°C (89.8°F). The wind speed is 16.9 kph coming from the SSW direction. The humidity is 67% with a UV index of 8.0.\n",
      "\n",
      "In Japan, specifically in Tokyo, it is partly cloudy with a temperature of 29.2°C (84.6°F). The wind speed is 13.0 kph from the SSW direction. The humidity is 79% with a UV index of 8.0.\n",
      "\n",
      "Both Taiwan and Japan are experiencing hot temperatures during July with some rainy days expected.\n"
     ]
    }
   ],
   "source": [
    "# Show the last message:\n",
    "print(result['messages'][-1].content)"
   ]
  },
  {
   "cell_type": "markdown",
   "id": "63210328-a88f-4e8e-9ae6-74a645d60d8b",
   "metadata": {},
   "source": [
    "### <b><font color='darkgreen'>Question: `Who won the super bowl in 2024? In what state is the winning team headquarters located? What is the GDP of that state? Answer each question.`</font></b>"
   ]
  },
  {
   "cell_type": "code",
   "execution_count": 29,
   "id": "79415991-362c-48ab-89a1-644d085bb771",
   "metadata": {},
   "outputs": [
    {
     "name": "stdout",
     "output_type": "stream",
     "text": [
      "Calling: {'name': 'tavily_search_results_json', 'args': {'query': 'Super Bowl 2024 winner'}, 'id': 'call_pP1NqbsFncCjCSUdcgHm8PSR'}\n",
      "Back to the model!\n",
      "Calling: {'name': 'tavily_search_results_json', 'args': {'query': 'Kansas City Chiefs headquarters state'}, 'id': 'call_pP1NqbsFncCjCSUdcgHm8PSR'}\n",
      "Back to the model!\n",
      "Calling: {'name': 'tavily_search_results_json', 'args': {'query': 'Missouri GDP 2023'}, 'id': 'call_Mj84Icl3eRNaIvpWALkfBmGJ'}\n",
      "Back to the model!\n"
     ]
    }
   ],
   "source": [
    "# Note, the query was modified to produce more consistent results. \n",
    "# Results may vary per run and over time as search information and models change.\n",
    "query = \"Who won the super bowl in 2024? In what state is the winning team headquarters located? \\\n",
    "What is the GDP of that state? Answer each question.\" \n",
    "messages = [HumanMessage(content=query)]\n",
    "\n",
    "model = ChatOpenAI(model=\"gpt-4o\")  # requires more advanced model\n",
    "abot = Agent(model, [tool], system=prompt)\n",
    "result = abot.graph.invoke({\"messages\": messages})"
   ]
  },
  {
   "cell_type": "code",
   "execution_count": 31,
   "id": "2b6dfacf-22e2-42c7-bfd3-b04b9e643218",
   "metadata": {},
   "outputs": [
    {
     "name": "stdout",
     "output_type": "stream",
     "text": [
      "The GDP of Missouri in 2023 was approximately $344.12 billion.\n",
      "\n",
      "To summarize:\n",
      "1. The Kansas City Chiefs won the Super Bowl in 2024.\n",
      "2. The Kansas City Chiefs' headquarters are located in Missouri.\n",
      "3. The GDP of Missouri in 2023 was approximately $344.12 billion.\n"
     ]
    }
   ],
   "source": [
    "# Get the last message:\n",
    "print(result['messages'][-1].content)"
   ]
  },
  {
   "cell_type": "markdown",
   "id": "9586a4b0-85d9-4072-a0bd-9d579adee4fd",
   "metadata": {},
   "source": [
    "## <b><font color='darkblue'>Supplement</font></b>\n",
    "* [Deeplearn.ai - AI Agents in LangGraph - Ch2: Build an Agent from Scratch](https://learn.deeplearning.ai/courses/ai-agents-in-langgraph/lesson/2/build-an-agent-from-scratch)\n",
    "* [YWC 科技筆記 - LangGraph: LangChain Agent 的殺手鐧 (入門)](https://ywctech.net/ml-ai/langchain-langgraph-agent-part1/)\n",
    "* [FAQ - Pip install pygraphviz fails: Failed building wheel for pygraphviz](https://stackoverflow.com/questions/40266604/pip-install-pygraphviz-fails-failed-building-wheel-for-pygraphviz)"
   ]
  }
 ],
 "metadata": {
  "kernelspec": {
   "display_name": "Python 3 (ipykernel)",
   "language": "python",
   "name": "python3"
  },
  "language_info": {
   "codemirror_mode": {
    "name": "ipython",
    "version": 3
   },
   "file_extension": ".py",
   "mimetype": "text/x-python",
   "name": "python",
   "nbconvert_exporter": "python",
   "pygments_lexer": "ipython3",
   "version": "3.11.8"
  }
 },
 "nbformat": 4,
 "nbformat_minor": 5
}
