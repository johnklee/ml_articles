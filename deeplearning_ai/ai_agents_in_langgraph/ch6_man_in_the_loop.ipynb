{
 "cells": [
  {
   "cell_type": "markdown",
   "id": "522e3c3d-382f-4e8a-aa26-20956475ec73",
   "metadata": {},
   "source": [
    "## <b><font color='darkblue'>Preface</font></b>\n",
    "([course link](https://learn.deeplearning.ai/courses/ai-agents-in-langgraph/lesson/6/human-in-the-loop)) <b><font size='3ptx'>LangChain, a popular open source framework for building LLM applications, recently introduced LangGraph. This extension allows developers to create highly controllable agents in production environments using the populr frameworks like React.</font></b>\n",
    "\n",
    "![LangGraph idea](images/ch6_1.PNG)\n",
    "\n",
    "LangGraph models agent workflows uses three components:\n",
    "* **State**: A shared data structure that denotes the current snapshot of your application.\n",
    "* **Nodes**: Python functions that define the logic of your agents. They receive the current State as input, perform computation or side-effect, and return an updated State.\n",
    "* **Edges**: Control flow rules that decide the next Node based on the current State. They can be conditional branches or fixed transitions."
   ]
  },
  {
   "cell_type": "code",
   "execution_count": 1,
   "id": "7b55e198-5bb5-4b8a-a477-2abddca7de6c",
   "metadata": {},
   "outputs": [
    {
     "name": "stdout",
     "output_type": "stream",
     "text": [
      "langchain==0.2.6\n",
      "langchain-anthropic==0.1.15\n",
      "langchain-community==0.2.6\n",
      "langchain-core==0.2.10\n",
      "langchain-experimental==0.0.62\n",
      "langchain-google-genai==1.0.6\n",
      "langchain-groq==0.1.3\n",
      "langchain-openai==0.1.9\n",
      "langchain-text-splitters==0.2.0\n",
      "langchainhub==0.1.14\n",
      "langgraph==0.1.4\n",
      "openai==1.28.1\n"
     ]
    }
   ],
   "source": [
    "!pip freeze | grep -P '(openai|langchain|langgraph)'"
   ]
  },
  {
   "cell_type": "code",
   "execution_count": 2,
   "id": "b7ad5484-5c40-43aa-a116-ac3bc209e77d",
   "metadata": {},
   "outputs": [],
   "source": [
    "import os\n",
    "import openai\n",
    "import re\n",
    "import httpx\n",
    "import os\n",
    "from tavily import TavilyClient\n",
    "from dotenv import load_dotenv, find_dotenv\n",
    "\n",
    "from openai import OpenAI\n",
    "from langchain_openai import ChatOpenAI\n",
    "\n",
    "a = load_dotenv(find_dotenv(os.path.expanduser('~/.env'))) # read local .env file\n",
    "openai.api_key = os.environ['OPENAI_API_KEY']\n",
    "# connect\n",
    "client = TavilyClient(api_key=os.environ.get(\"TAVILY_API_KEY\"))"
   ]
  },
  {
   "cell_type": "markdown",
   "id": "5bda6dad-a7b2-4215-ab0d-8dd64ac44bb3",
   "metadata": {},
   "source": [
    "## <b><font color='darkblue'>Human in the Loop</font></b>"
   ]
  },
  {
   "cell_type": "code",
   "execution_count": 3,
   "id": "63938bf5-94c9-433f-a52a-ef0303aac9a5",
   "metadata": {},
   "outputs": [],
   "source": [
    "from langgraph.graph import StateGraph, END\n",
    "from typing import TypedDict, Annotated\n",
    "import operator\n",
    "from langchain_core.messages import AnyMessage, SystemMessage, HumanMessage, ToolMessage\n",
    "from langchain_openai import ChatOpenAI\n",
    "from langchain_community.tools.tavily_search import TavilySearchResults\n",
    "from langgraph.checkpoint.sqlite import SqliteSaver\n",
    "\n",
    "memory = SqliteSaver.from_conn_string(\":memory:\")"
   ]
  },
  {
   "cell_type": "code",
   "execution_count": 4,
   "id": "032edc31-5a00-4c0b-a857-adf205d30cd6",
   "metadata": {},
   "outputs": [],
   "source": [
    "from uuid import uuid4\n",
    "from langchain_core.messages import AnyMessage, SystemMessage, HumanMessage, AIMessage\n",
    "\n",
    "\"\"\"\n",
    "In previous examples we've annotated the `messages` state key\n",
    "with the default `operator.add` or `+` reducer, which always\n",
    "appends new messages to the end of the existing messages array.\n",
    "\n",
    "Now, to support replacing existing messages, we annotate the\n",
    "`messages` key with a customer reducer function, which replaces\n",
    "messages with the same `id`, and appends them otherwise.\n",
    "\"\"\"\n",
    "def reduce_messages(left: list[AnyMessage], right: list[AnyMessage]) -> list[AnyMessage]:\n",
    "    # assign ids to messages that don't have them\n",
    "    for message in right:\n",
    "        if not message.id:\n",
    "            message.id = str(uuid4())\n",
    "    # merge the new messages with the existing messages\n",
    "    merged = left.copy()\n",
    "    for message in right:\n",
    "        for i, existing in enumerate(merged):\n",
    "            # replace any existing messages with the same id\n",
    "            if existing.id == message.id:\n",
    "                merged[i] = message\n",
    "                break\n",
    "        else:\n",
    "            # append any new messages to the end\n",
    "            merged.append(message)\n",
    "    return merged\n",
    "\n",
    "class AgentState(TypedDict):\n",
    "    messages: Annotated[list[AnyMessage], reduce_messages]"
   ]
  },
  {
   "cell_type": "code",
   "execution_count": 5,
   "id": "2a377d3e-9a8c-4f99-94b2-268bdecedf3f",
   "metadata": {},
   "outputs": [],
   "source": [
    "tool = TavilySearchResults(max_results=2)"
   ]
  },
  {
   "cell_type": "markdown",
   "id": "73ce6731-e797-4604-aa87-9f3e32639180",
   "metadata": {},
   "source": [
    "### <b><font color='darkgreen'>Manual human approval</font></b>"
   ]
  },
  {
   "cell_type": "code",
   "execution_count": 6,
   "id": "4a0d35a6-6347-4f1f-98a8-91c59ca2595f",
   "metadata": {},
   "outputs": [],
   "source": [
    "class Agent:\n",
    "    def __init__(self, model, tools, system=\"\", checkpointer=None):\n",
    "        self.system = system\n",
    "        graph = StateGraph(AgentState)\n",
    "        graph.add_node(\"llm\", self.call_openai)\n",
    "        graph.add_node(\"action\", self.take_action)\n",
    "        graph.add_conditional_edges(\"llm\", self.exists_action, {True: \"action\", False: END})\n",
    "        graph.add_edge(\"action\", \"llm\")\n",
    "        graph.set_entry_point(\"llm\")\n",
    "        self.graph = graph.compile(\n",
    "            checkpointer=checkpointer,\n",
    "            interrupt_before=[\"action\"]\n",
    "        )\n",
    "        self.tools = {t.name: t for t in tools}\n",
    "        self.model = model.bind_tools(tools)\n",
    "\n",
    "    def call_openai(self, state: AgentState):\n",
    "        messages = state['messages']\n",
    "        if self.system:\n",
    "            messages = [SystemMessage(content=self.system)] + messages\n",
    "        message = self.model.invoke(messages)\n",
    "        return {'messages': [message]}\n",
    "\n",
    "    def exists_action(self, state: AgentState):\n",
    "        print(state)\n",
    "        result = state['messages'][-1]\n",
    "        return len(result.tool_calls) > 0\n",
    "\n",
    "    def take_action(self, state: AgentState):\n",
    "        tool_calls = state['messages'][-1].tool_calls\n",
    "        results = []\n",
    "        for t in tool_calls:\n",
    "            print(f\"Calling: {t}\")\n",
    "            result = self.tools[t['name']].invoke(t['args'])\n",
    "            results.append(ToolMessage(tool_call_id=t['id'], name=t['name'], content=str(result)))\n",
    "        print(\"Back to the model!\")\n",
    "        return {'messages': results}"
   ]
  },
  {
   "cell_type": "code",
   "execution_count": 7,
   "id": "36dacf57-fae0-47aa-9107-90bf7a1b86d1",
   "metadata": {},
   "outputs": [],
   "source": [
    "prompt = \"\"\"You are a smart research assistant. Use the search engine to look up information. \\\n",
    "You are allowed to make multiple calls (either together or in sequence). \\\n",
    "Only look up information when you are sure of what you want. \\\n",
    "If you need to look up some information before asking a follow up question, you are allowed to do that!\n",
    "\"\"\"\n",
    "model = ChatOpenAI(model=\"gpt-3.5-turbo\")\n",
    "abot = Agent(model, [tool], system=prompt, checkpointer=memory)"
   ]
  },
  {
   "cell_type": "code",
   "execution_count": 8,
   "id": "cfc40c5e-a6dd-420a-95a7-1a1bf5dfa1fe",
   "metadata": {},
   "outputs": [
    {
     "name": "stdout",
     "output_type": "stream",
     "text": [
      "{'messages': [HumanMessage(content='Whats the weather in SF?', id='7c48bf66-e45b-4c26-bb1b-bb64fa4ada76'), AIMessage(content='', additional_kwargs={'tool_calls': [{'id': 'call_Hjg8b8WT0raDWkYdgwvIjzjI', 'function': {'arguments': '{\"query\":\"current weather in San Francisco\"}', 'name': 'tavily_search_results_json'}, 'type': 'function'}]}, response_metadata={'token_usage': {'completion_tokens': 22, 'prompt_tokens': 152, 'total_tokens': 174}, 'model_name': 'gpt-3.5-turbo-0125', 'system_fingerprint': None, 'finish_reason': 'tool_calls', 'logprobs': None}, id='run-fe69dd77-d21d-4f2f-81aa-ce1771117a9b-0', tool_calls=[{'name': 'tavily_search_results_json', 'args': {'query': 'current weather in San Francisco'}, 'id': 'call_Hjg8b8WT0raDWkYdgwvIjzjI'}], usage_metadata={'input_tokens': 152, 'output_tokens': 22, 'total_tokens': 174})]}\n",
      "{'messages': [AIMessage(content='', additional_kwargs={'tool_calls': [{'id': 'call_Hjg8b8WT0raDWkYdgwvIjzjI', 'function': {'arguments': '{\"query\":\"current weather in San Francisco\"}', 'name': 'tavily_search_results_json'}, 'type': 'function'}]}, response_metadata={'token_usage': {'completion_tokens': 22, 'prompt_tokens': 152, 'total_tokens': 174}, 'model_name': 'gpt-3.5-turbo-0125', 'system_fingerprint': None, 'finish_reason': 'tool_calls', 'logprobs': None}, id='run-fe69dd77-d21d-4f2f-81aa-ce1771117a9b-0', tool_calls=[{'name': 'tavily_search_results_json', 'args': {'query': 'current weather in San Francisco'}, 'id': 'call_Hjg8b8WT0raDWkYdgwvIjzjI'}], usage_metadata={'input_tokens': 152, 'output_tokens': 22, 'total_tokens': 174})]}\n"
     ]
    }
   ],
   "source": [
    "messages = [HumanMessage(content=\"Whats the weather in SF?\")]\n",
    "thread_1 = {\"configurable\": {\"thread_id\": \"1\"}}\n",
    "for event in abot.graph.stream({\"messages\": messages}, thread_1):\n",
    "    for v in event.values():\n",
    "        print(v)"
   ]
  },
  {
   "cell_type": "markdown",
   "id": "e0042d73-c501-4f78-b71b-a2d52bf5b901",
   "metadata": {},
   "source": [
    "We should suspend in the human messaage and wait for next state to execute `\"action\"`:"
   ]
  },
  {
   "cell_type": "code",
   "execution_count": 10,
   "id": "458f0e1b-e782-4f32-bc85-11c3dd062e35",
   "metadata": {},
   "outputs": [
    {
     "data": {
      "text/plain": [
       "StateSnapshot(values={'messages': [HumanMessage(content='Whats the weather in SF?', id='7c48bf66-e45b-4c26-bb1b-bb64fa4ada76'), AIMessage(content='', additional_kwargs={'tool_calls': [{'id': 'call_Hjg8b8WT0raDWkYdgwvIjzjI', 'function': {'arguments': '{\"query\":\"current weather in San Francisco\"}', 'name': 'tavily_search_results_json'}, 'type': 'function'}]}, response_metadata={'token_usage': {'completion_tokens': 22, 'prompt_tokens': 152, 'total_tokens': 174}, 'model_name': 'gpt-3.5-turbo-0125', 'system_fingerprint': None, 'finish_reason': 'tool_calls', 'logprobs': None}, id='run-fe69dd77-d21d-4f2f-81aa-ce1771117a9b-0', tool_calls=[{'name': 'tavily_search_results_json', 'args': {'query': 'current weather in San Francisco'}, 'id': 'call_Hjg8b8WT0raDWkYdgwvIjzjI'}], usage_metadata={'input_tokens': 152, 'output_tokens': 22, 'total_tokens': 174})]}, next=('action',), config={'configurable': {'thread_id': '1', 'thread_ts': '1ef37af0-c5fc-6024-8001-e2c760ed8d0e'}}, metadata={'source': 'loop', 'step': 1, 'writes': {'llm': {'messages': [AIMessage(content='', additional_kwargs={'tool_calls': [{'id': 'call_Hjg8b8WT0raDWkYdgwvIjzjI', 'function': {'arguments': '{\"query\":\"current weather in San Francisco\"}', 'name': 'tavily_search_results_json'}, 'type': 'function'}]}, response_metadata={'token_usage': {'completion_tokens': 22, 'prompt_tokens': 152, 'total_tokens': 174}, 'model_name': 'gpt-3.5-turbo-0125', 'system_fingerprint': None, 'finish_reason': 'tool_calls', 'logprobs': None}, id='run-fe69dd77-d21d-4f2f-81aa-ce1771117a9b-0', tool_calls=[{'name': 'tavily_search_results_json', 'args': {'query': 'current weather in San Francisco'}, 'id': 'call_Hjg8b8WT0raDWkYdgwvIjzjI'}], usage_metadata={'input_tokens': 152, 'output_tokens': 22, 'total_tokens': 174})]}}}, created_at='2024-07-01T13:37:23.818061+00:00', parent_config={'configurable': {'thread_id': '1', 'thread_ts': '1ef37af0-ba7d-6226-8000-fc132ec909d1'}})"
      ]
     },
     "execution_count": 10,
     "metadata": {},
     "output_type": "execute_result"
    }
   ],
   "source": [
    "abot.graph.get_state(thread_1)"
   ]
  },
  {
   "cell_type": "code",
   "execution_count": 12,
   "id": "ece10eba-6792-43e5-9d0c-e0192764529b",
   "metadata": {},
   "outputs": [
    {
     "data": {
      "text/plain": [
       "('action',)"
      ]
     },
     "execution_count": 12,
     "metadata": {},
     "output_type": "execute_result"
    }
   ],
   "source": [
    "abot.graph.get_state(thread_1).next"
   ]
  },
  {
   "cell_type": "markdown",
   "id": "0fa1ce09-5215-4230-b827-f9290aee8880",
   "metadata": {},
   "source": [
    "### <b><font color='darkgreen'>Continue after interrupt</font></b>\n",
    "If we pass `input=None` into [graph.stream](https://langchain-ai.github.io/langgraph/reference/graphs/#langgraph.graph.graph.CompiledGraph.stream), the execution of graph will continue from the blocking location:"
   ]
  },
  {
   "cell_type": "code",
   "execution_count": 13,
   "id": "4cc748d9-849e-483e-9c51-c9264582142a",
   "metadata": {},
   "outputs": [
    {
     "name": "stdout",
     "output_type": "stream",
     "text": [
      "Calling: {'name': 'tavily_search_results_json', 'args': {'query': 'current weather in San Francisco'}, 'id': 'call_Hjg8b8WT0raDWkYdgwvIjzjI'}\n",
      "Back to the model!\n",
      "{'messages': [ToolMessage(content='[{\\'url\\': \\'https://weatherspark.com/h/m/557/2024/1/Historical-Weather-in-January-2024-in-San-Francisco-California-United-States\\', \\'content\\': \\'San Francisco Temperature History January 2024\\\\nHourly Temperature in January 2024 in San Francisco\\\\nCompare San Francisco to another city:\\\\nCloud Cover in January 2024 in San Francisco\\\\nDaily Precipitation in January 2024 in San Francisco\\\\nObserved Weather in January 2024 in San Francisco\\\\nHours of Daylight and Twilight in January 2024 in San Francisco\\\\nSunrise & Sunset with Twilight in January 2024 in San Francisco\\\\nSolar Elevation and Azimuth in January 2024 in San Francisco\\\\nMoon Rise, Set & Phases in January 2024 in San Francisco\\\\nHumidity Comfort Levels in January 2024 in San Francisco\\\\nWind Speed in January 2024 in San Francisco\\\\nHourly Wind Speed in January 2024 in San Francisco\\\\nHourly Wind Direction in 2024 in San Francisco\\\\nAtmospheric Pressure in January 2024 in San Francisco\\\\nData Sources\\\\n See all nearby weather stations\\\\nLatest Report — 1:56 PM\\\\nFri, Jan 12, 2024\\\\xa0\\\\xa0\\\\xa0\\\\xa04 min ago\\\\xa0\\\\xa0\\\\xa0\\\\xa0UTC 21:56\\\\nCall Sign KSFO\\\\nTemp.\\\\n54.0°F\\\\nPrecipitation\\\\nNo Report\\\\nWind\\\\n8.1 mph\\\\nCloud Cover\\\\nMostly Cloudy\\\\n14,000 ft\\\\nRaw: KSFO 122156Z 08007KT 10SM FEW030 SCT050 BKN140 12/07 A3022 While having the tremendous advantages of temporal and spatial completeness, these reconstructions: (1) are based on computer models that may have model-based errors, (2) are coarsely sampled on a 50 km grid and are therefore unable to reconstruct the local variations of many microclimates, and (3) have particular difficulty with the weather in some coastal areas, especially small islands.\\\\n We further caution that our travel scores are only as good as the data that underpin them, that weather conditions at any given location and time are unpredictable and variable, and that the definition of the scores reflects a particular set of preferences that may not agree with those of any particular reader.\\\\n January 2024 Weather History in San Francisco California, United States\\\\nThe data for this report comes from the San Francisco International Airport.\\'}, {\\'url\\': \\'https://www.weatherapi.com/\\', \\'content\\': \"{\\'location\\': {\\'name\\': \\'San Francisco\\', \\'region\\': \\'California\\', \\'country\\': \\'United States of America\\', \\'lat\\': 37.78, \\'lon\\': -122.42, \\'tz_id\\': \\'America/Los_Angeles\\', \\'localtime_epoch\\': 1719841186, \\'localtime\\': \\'2024-07-01 6:39\\'}, \\'current\\': {\\'last_updated_epoch\\': 1719840600, \\'last_updated\\': \\'2024-07-01 06:30\\', \\'temp_c\\': 13.9, \\'temp_f\\': 57.0, \\'is_day\\': 1, \\'condition\\': {\\'text\\': \\'Partly cloudy\\', \\'icon\\': \\'//cdn.weatherapi.com/weather/64x64/day/116.png\\', \\'code\\': 1003}, \\'wind_mph\\': 3.8, \\'wind_kph\\': 6.1, \\'wind_degree\\': 340, \\'wind_dir\\': \\'NNW\\', \\'pressure_mb\\': 1014.0, \\'pressure_in\\': 29.95, \\'precip_mm\\': 0.0, \\'precip_in\\': 0.0, \\'humidity\\': 100, \\'cloud\\': 25, \\'feelslike_c\\': 13.9, \\'feelslike_f\\': 57.1, \\'windchill_c\\': 13.0, \\'windchill_f\\': 55.5, \\'heatindex_c\\': 13.0, \\'heatindex_f\\': 55.4, \\'dewpoint_c\\': 10.8, \\'dewpoint_f\\': 51.5, \\'vis_km\\': 16.0, \\'vis_miles\\': 9.0, \\'uv\\': 4.0, \\'gust_mph\\': 7.1, \\'gust_kph\\': 11.4}}\"}]', name='tavily_search_results_json', tool_call_id='call_Hjg8b8WT0raDWkYdgwvIjzjI')]}\n",
      "{'messages': [HumanMessage(content='Whats the weather in SF?', id='7c48bf66-e45b-4c26-bb1b-bb64fa4ada76'), AIMessage(content='', additional_kwargs={'tool_calls': [{'id': 'call_Hjg8b8WT0raDWkYdgwvIjzjI', 'function': {'arguments': '{\"query\":\"current weather in San Francisco\"}', 'name': 'tavily_search_results_json'}, 'type': 'function'}]}, response_metadata={'token_usage': {'completion_tokens': 22, 'prompt_tokens': 152, 'total_tokens': 174}, 'model_name': 'gpt-3.5-turbo-0125', 'system_fingerprint': None, 'finish_reason': 'tool_calls', 'logprobs': None}, id='run-fe69dd77-d21d-4f2f-81aa-ce1771117a9b-0', tool_calls=[{'name': 'tavily_search_results_json', 'args': {'query': 'current weather in San Francisco'}, 'id': 'call_Hjg8b8WT0raDWkYdgwvIjzjI'}], usage_metadata={'input_tokens': 152, 'output_tokens': 22, 'total_tokens': 174}), ToolMessage(content='[{\\'url\\': \\'https://weatherspark.com/h/m/557/2024/1/Historical-Weather-in-January-2024-in-San-Francisco-California-United-States\\', \\'content\\': \\'San Francisco Temperature History January 2024\\\\nHourly Temperature in January 2024 in San Francisco\\\\nCompare San Francisco to another city:\\\\nCloud Cover in January 2024 in San Francisco\\\\nDaily Precipitation in January 2024 in San Francisco\\\\nObserved Weather in January 2024 in San Francisco\\\\nHours of Daylight and Twilight in January 2024 in San Francisco\\\\nSunrise & Sunset with Twilight in January 2024 in San Francisco\\\\nSolar Elevation and Azimuth in January 2024 in San Francisco\\\\nMoon Rise, Set & Phases in January 2024 in San Francisco\\\\nHumidity Comfort Levels in January 2024 in San Francisco\\\\nWind Speed in January 2024 in San Francisco\\\\nHourly Wind Speed in January 2024 in San Francisco\\\\nHourly Wind Direction in 2024 in San Francisco\\\\nAtmospheric Pressure in January 2024 in San Francisco\\\\nData Sources\\\\n See all nearby weather stations\\\\nLatest Report — 1:56 PM\\\\nFri, Jan 12, 2024\\\\xa0\\\\xa0\\\\xa0\\\\xa04 min ago\\\\xa0\\\\xa0\\\\xa0\\\\xa0UTC 21:56\\\\nCall Sign KSFO\\\\nTemp.\\\\n54.0°F\\\\nPrecipitation\\\\nNo Report\\\\nWind\\\\n8.1 mph\\\\nCloud Cover\\\\nMostly Cloudy\\\\n14,000 ft\\\\nRaw: KSFO 122156Z 08007KT 10SM FEW030 SCT050 BKN140 12/07 A3022 While having the tremendous advantages of temporal and spatial completeness, these reconstructions: (1) are based on computer models that may have model-based errors, (2) are coarsely sampled on a 50 km grid and are therefore unable to reconstruct the local variations of many microclimates, and (3) have particular difficulty with the weather in some coastal areas, especially small islands.\\\\n We further caution that our travel scores are only as good as the data that underpin them, that weather conditions at any given location and time are unpredictable and variable, and that the definition of the scores reflects a particular set of preferences that may not agree with those of any particular reader.\\\\n January 2024 Weather History in San Francisco California, United States\\\\nThe data for this report comes from the San Francisco International Airport.\\'}, {\\'url\\': \\'https://www.weatherapi.com/\\', \\'content\\': \"{\\'location\\': {\\'name\\': \\'San Francisco\\', \\'region\\': \\'California\\', \\'country\\': \\'United States of America\\', \\'lat\\': 37.78, \\'lon\\': -122.42, \\'tz_id\\': \\'America/Los_Angeles\\', \\'localtime_epoch\\': 1719841186, \\'localtime\\': \\'2024-07-01 6:39\\'}, \\'current\\': {\\'last_updated_epoch\\': 1719840600, \\'last_updated\\': \\'2024-07-01 06:30\\', \\'temp_c\\': 13.9, \\'temp_f\\': 57.0, \\'is_day\\': 1, \\'condition\\': {\\'text\\': \\'Partly cloudy\\', \\'icon\\': \\'//cdn.weatherapi.com/weather/64x64/day/116.png\\', \\'code\\': 1003}, \\'wind_mph\\': 3.8, \\'wind_kph\\': 6.1, \\'wind_degree\\': 340, \\'wind_dir\\': \\'NNW\\', \\'pressure_mb\\': 1014.0, \\'pressure_in\\': 29.95, \\'precip_mm\\': 0.0, \\'precip_in\\': 0.0, \\'humidity\\': 100, \\'cloud\\': 25, \\'feelslike_c\\': 13.9, \\'feelslike_f\\': 57.1, \\'windchill_c\\': 13.0, \\'windchill_f\\': 55.5, \\'heatindex_c\\': 13.0, \\'heatindex_f\\': 55.4, \\'dewpoint_c\\': 10.8, \\'dewpoint_f\\': 51.5, \\'vis_km\\': 16.0, \\'vis_miles\\': 9.0, \\'uv\\': 4.0, \\'gust_mph\\': 7.1, \\'gust_kph\\': 11.4}}\"}]', name='tavily_search_results_json', id='2dac4413-937d-46f6-b19f-04f273af3e0c', tool_call_id='call_Hjg8b8WT0raDWkYdgwvIjzjI'), AIMessage(content='The current weather in San Francisco is 57.0°F with partly cloudy conditions. The wind speed is 6.1 mph coming from the NNW direction. The humidity is at 100%, and the cloud cover is at 25%.', response_metadata={'token_usage': {'completion_tokens': 50, 'prompt_tokens': 1117, 'total_tokens': 1167}, 'model_name': 'gpt-3.5-turbo-0125', 'system_fingerprint': None, 'finish_reason': 'stop', 'logprobs': None}, id='run-c0e02f7b-30d4-4012-84dd-f1b23a906d44-0', usage_metadata={'input_tokens': 1117, 'output_tokens': 50, 'total_tokens': 1167})]}\n",
      "{'messages': [AIMessage(content='The current weather in San Francisco is 57.0°F with partly cloudy conditions. The wind speed is 6.1 mph coming from the NNW direction. The humidity is at 100%, and the cloud cover is at 25%.', response_metadata={'token_usage': {'completion_tokens': 50, 'prompt_tokens': 1117, 'total_tokens': 1167}, 'model_name': 'gpt-3.5-turbo-0125', 'system_fingerprint': None, 'finish_reason': 'stop', 'logprobs': None}, id='run-c0e02f7b-30d4-4012-84dd-f1b23a906d44-0', usage_metadata={'input_tokens': 1117, 'output_tokens': 50, 'total_tokens': 1167})]}\n"
     ]
    }
   ],
   "source": [
    "last_event_value = None\n",
    "for event in abot.graph.stream(None, thread_1):\n",
    "    for v in event.values():\n",
    "        print(v)\n",
    "        last_event_value = v"
   ]
  },
  {
   "cell_type": "code",
   "execution_count": 15,
   "id": "e674285b-0474-4014-ab73-94d90de338b7",
   "metadata": {},
   "outputs": [
    {
     "name": "stdout",
     "output_type": "stream",
     "text": [
      "<class 'langchain_core.messages.ai.AIMessage'>: The current weather in San Francisco is 57.0°F with partly cloudy conditions. The wind speed is 6.1 mph coming from the NNW direction. The humidity is at 100%, and the cloud cover is at 25%.\n"
     ]
    }
   ],
   "source": [
    "message = last_event_value['messages'][-1]\n",
    "print(f'{message.__class__}: {message.content}')"
   ]
  },
  {
   "cell_type": "markdown",
   "id": "78766675-01ad-41f9-870b-cc16c03cc03b",
   "metadata": {},
   "source": [
    "Let's check again the current state and next action:"
   ]
  },
  {
   "cell_type": "code",
   "execution_count": 17,
   "id": "7583ec96-e572-4a74-8ba4-15c853d14b7a",
   "metadata": {},
   "outputs": [
    {
     "data": {
      "text/plain": [
       "StateSnapshot(values={'messages': [HumanMessage(content='Whats the weather in SF?', id='7c48bf66-e45b-4c26-bb1b-bb64fa4ada76'), AIMessage(content='', additional_kwargs={'tool_calls': [{'id': 'call_Hjg8b8WT0raDWkYdgwvIjzjI', 'function': {'arguments': '{\"query\":\"current weather in San Francisco\"}', 'name': 'tavily_search_results_json'}, 'type': 'function'}]}, response_metadata={'token_usage': {'completion_tokens': 22, 'prompt_tokens': 152, 'total_tokens': 174}, 'model_name': 'gpt-3.5-turbo-0125', 'system_fingerprint': None, 'finish_reason': 'tool_calls', 'logprobs': None}, id='run-fe69dd77-d21d-4f2f-81aa-ce1771117a9b-0', tool_calls=[{'name': 'tavily_search_results_json', 'args': {'query': 'current weather in San Francisco'}, 'id': 'call_Hjg8b8WT0raDWkYdgwvIjzjI'}], usage_metadata={'input_tokens': 152, 'output_tokens': 22, 'total_tokens': 174}), ToolMessage(content='[{\\'url\\': \\'https://weatherspark.com/h/m/557/2024/1/Historical-Weather-in-January-2024-in-San-Francisco-California-United-States\\', \\'content\\': \\'San Francisco Temperature History January 2024\\\\nHourly Temperature in January 2024 in San Francisco\\\\nCompare San Francisco to another city:\\\\nCloud Cover in January 2024 in San Francisco\\\\nDaily Precipitation in January 2024 in San Francisco\\\\nObserved Weather in January 2024 in San Francisco\\\\nHours of Daylight and Twilight in January 2024 in San Francisco\\\\nSunrise & Sunset with Twilight in January 2024 in San Francisco\\\\nSolar Elevation and Azimuth in January 2024 in San Francisco\\\\nMoon Rise, Set & Phases in January 2024 in San Francisco\\\\nHumidity Comfort Levels in January 2024 in San Francisco\\\\nWind Speed in January 2024 in San Francisco\\\\nHourly Wind Speed in January 2024 in San Francisco\\\\nHourly Wind Direction in 2024 in San Francisco\\\\nAtmospheric Pressure in January 2024 in San Francisco\\\\nData Sources\\\\n See all nearby weather stations\\\\nLatest Report — 1:56 PM\\\\nFri, Jan 12, 2024\\\\xa0\\\\xa0\\\\xa0\\\\xa04 min ago\\\\xa0\\\\xa0\\\\xa0\\\\xa0UTC 21:56\\\\nCall Sign KSFO\\\\nTemp.\\\\n54.0°F\\\\nPrecipitation\\\\nNo Report\\\\nWind\\\\n8.1 mph\\\\nCloud Cover\\\\nMostly Cloudy\\\\n14,000 ft\\\\nRaw: KSFO 122156Z 08007KT 10SM FEW030 SCT050 BKN140 12/07 A3022 While having the tremendous advantages of temporal and spatial completeness, these reconstructions: (1) are based on computer models that may have model-based errors, (2) are coarsely sampled on a 50 km grid and are therefore unable to reconstruct the local variations of many microclimates, and (3) have particular difficulty with the weather in some coastal areas, especially small islands.\\\\n We further caution that our travel scores are only as good as the data that underpin them, that weather conditions at any given location and time are unpredictable and variable, and that the definition of the scores reflects a particular set of preferences that may not agree with those of any particular reader.\\\\n January 2024 Weather History in San Francisco California, United States\\\\nThe data for this report comes from the San Francisco International Airport.\\'}, {\\'url\\': \\'https://www.weatherapi.com/\\', \\'content\\': \"{\\'location\\': {\\'name\\': \\'San Francisco\\', \\'region\\': \\'California\\', \\'country\\': \\'United States of America\\', \\'lat\\': 37.78, \\'lon\\': -122.42, \\'tz_id\\': \\'America/Los_Angeles\\', \\'localtime_epoch\\': 1719841186, \\'localtime\\': \\'2024-07-01 6:39\\'}, \\'current\\': {\\'last_updated_epoch\\': 1719840600, \\'last_updated\\': \\'2024-07-01 06:30\\', \\'temp_c\\': 13.9, \\'temp_f\\': 57.0, \\'is_day\\': 1, \\'condition\\': {\\'text\\': \\'Partly cloudy\\', \\'icon\\': \\'//cdn.weatherapi.com/weather/64x64/day/116.png\\', \\'code\\': 1003}, \\'wind_mph\\': 3.8, \\'wind_kph\\': 6.1, \\'wind_degree\\': 340, \\'wind_dir\\': \\'NNW\\', \\'pressure_mb\\': 1014.0, \\'pressure_in\\': 29.95, \\'precip_mm\\': 0.0, \\'precip_in\\': 0.0, \\'humidity\\': 100, \\'cloud\\': 25, \\'feelslike_c\\': 13.9, \\'feelslike_f\\': 57.1, \\'windchill_c\\': 13.0, \\'windchill_f\\': 55.5, \\'heatindex_c\\': 13.0, \\'heatindex_f\\': 55.4, \\'dewpoint_c\\': 10.8, \\'dewpoint_f\\': 51.5, \\'vis_km\\': 16.0, \\'vis_miles\\': 9.0, \\'uv\\': 4.0, \\'gust_mph\\': 7.1, \\'gust_kph\\': 11.4}}\"}]', name='tavily_search_results_json', id='2dac4413-937d-46f6-b19f-04f273af3e0c', tool_call_id='call_Hjg8b8WT0raDWkYdgwvIjzjI'), AIMessage(content='The current weather in San Francisco is 57.0°F with partly cloudy conditions. The wind speed is 6.1 mph coming from the NNW direction. The humidity is at 100%, and the cloud cover is at 25%.', response_metadata={'token_usage': {'completion_tokens': 50, 'prompt_tokens': 1117, 'total_tokens': 1167}, 'model_name': 'gpt-3.5-turbo-0125', 'system_fingerprint': None, 'finish_reason': 'stop', 'logprobs': None}, id='run-c0e02f7b-30d4-4012-84dd-f1b23a906d44-0', usage_metadata={'input_tokens': 1117, 'output_tokens': 50, 'total_tokens': 1167})]}, next=(), config={'configurable': {'thread_id': '1', 'thread_ts': '1ef37afd-c7ea-6f0a-8003-ffe03bb154bd'}}, metadata={'source': 'loop', 'step': 3, 'writes': {'llm': {'messages': [AIMessage(content='The current weather in San Francisco is 57.0°F with partly cloudy conditions. The wind speed is 6.1 mph coming from the NNW direction. The humidity is at 100%, and the cloud cover is at 25%.', response_metadata={'token_usage': {'completion_tokens': 50, 'prompt_tokens': 1117, 'total_tokens': 1167}, 'model_name': 'gpt-3.5-turbo-0125', 'system_fingerprint': None, 'finish_reason': 'stop', 'logprobs': None}, id='run-c0e02f7b-30d4-4012-84dd-f1b23a906d44-0', usage_metadata={'input_tokens': 1117, 'output_tokens': 50, 'total_tokens': 1167})]}}}, created_at='2024-07-01T13:43:12.986875+00:00', parent_config={'configurable': {'thread_id': '1', 'thread_ts': '1ef37afd-bb9c-67ec-8002-13806f761569'}})"
      ]
     },
     "execution_count": 17,
     "metadata": {},
     "output_type": "execute_result"
    }
   ],
   "source": [
    "abot.graph.get_state(thread_1)"
   ]
  },
  {
   "cell_type": "code",
   "execution_count": 19,
   "id": "95321261-3228-43c0-8b51-0ead60b8141e",
   "metadata": {},
   "outputs": [
    {
     "data": {
      "text/plain": [
       "()"
      ]
     },
     "execution_count": 19,
     "metadata": {},
     "output_type": "execute_result"
    }
   ],
   "source": [
    "abot.graph.get_state(thread_1).next"
   ]
  },
  {
   "cell_type": "markdown",
   "id": "68624c71-1064-4cb8-b6aa-080f6c2529f4",
   "metadata": {},
   "source": [
    "We could event interrupt the action and interact with the execution:"
   ]
  },
  {
   "cell_type": "code",
   "execution_count": 20,
   "id": "433f6be5-6942-4919-aa3f-8e7902ce9dd3",
   "metadata": {},
   "outputs": [
    {
     "name": "stdout",
     "output_type": "stream",
     "text": [
      "{'messages': [HumanMessage(content='Whats the weather in Taipei?', id='9ab7e18d-caa7-4ab9-b5f6-08119f9b59c8'), AIMessage(content='', additional_kwargs={'tool_calls': [{'id': 'call_R6sf8WvdSRFW6rAKOxfH4cam', 'function': {'arguments': '{\"query\":\"weather in Taipei\"}', 'name': 'tavily_search_results_json'}, 'type': 'function'}]}, response_metadata={'token_usage': {'completion_tokens': 20, 'prompt_tokens': 152, 'total_tokens': 172}, 'model_name': 'gpt-3.5-turbo-0125', 'system_fingerprint': None, 'finish_reason': 'tool_calls', 'logprobs': None}, id='run-4a373c7b-53fb-4bdd-9d40-642942c628a1-0', tool_calls=[{'name': 'tavily_search_results_json', 'args': {'query': 'weather in Taipei'}, 'id': 'call_R6sf8WvdSRFW6rAKOxfH4cam'}], usage_metadata={'input_tokens': 152, 'output_tokens': 20, 'total_tokens': 172})]}\n",
      "{'messages': [AIMessage(content='', additional_kwargs={'tool_calls': [{'id': 'call_R6sf8WvdSRFW6rAKOxfH4cam', 'function': {'arguments': '{\"query\":\"weather in Taipei\"}', 'name': 'tavily_search_results_json'}, 'type': 'function'}]}, response_metadata={'token_usage': {'completion_tokens': 20, 'prompt_tokens': 152, 'total_tokens': 172}, 'model_name': 'gpt-3.5-turbo-0125', 'system_fingerprint': None, 'finish_reason': 'tool_calls', 'logprobs': None}, id='run-4a373c7b-53fb-4bdd-9d40-642942c628a1-0', tool_calls=[{'name': 'tavily_search_results_json', 'args': {'query': 'weather in Taipei'}, 'id': 'call_R6sf8WvdSRFW6rAKOxfH4cam'}], usage_metadata={'input_tokens': 152, 'output_tokens': 20, 'total_tokens': 172})]}\n",
      "\n",
      " StateSnapshot(values={'messages': [HumanMessage(content='Whats the weather in Taipei?', id='9ab7e18d-caa7-4ab9-b5f6-08119f9b59c8'), AIMessage(content='', additional_kwargs={'tool_calls': [{'id': 'call_R6sf8WvdSRFW6rAKOxfH4cam', 'function': {'arguments': '{\"query\":\"weather in Taipei\"}', 'name': 'tavily_search_results_json'}, 'type': 'function'}]}, response_metadata={'token_usage': {'completion_tokens': 20, 'prompt_tokens': 152, 'total_tokens': 172}, 'model_name': 'gpt-3.5-turbo-0125', 'system_fingerprint': None, 'finish_reason': 'tool_calls', 'logprobs': None}, id='run-4a373c7b-53fb-4bdd-9d40-642942c628a1-0', tool_calls=[{'name': 'tavily_search_results_json', 'args': {'query': 'weather in Taipei'}, 'id': 'call_R6sf8WvdSRFW6rAKOxfH4cam'}], usage_metadata={'input_tokens': 152, 'output_tokens': 20, 'total_tokens': 172})]}, next=('action',), config={'configurable': {'thread_id': '2', 'thread_ts': '1ef37b08-1dd1-6eff-8001-bb5ba43fd71b'}}, metadata={'source': 'loop', 'step': 1, 'writes': {'llm': {'messages': [AIMessage(content='', additional_kwargs={'tool_calls': [{'id': 'call_R6sf8WvdSRFW6rAKOxfH4cam', 'function': {'arguments': '{\"query\":\"weather in Taipei\"}', 'name': 'tavily_search_results_json'}, 'type': 'function'}]}, response_metadata={'token_usage': {'completion_tokens': 20, 'prompt_tokens': 152, 'total_tokens': 172}, 'model_name': 'gpt-3.5-turbo-0125', 'system_fingerprint': None, 'finish_reason': 'tool_calls', 'logprobs': None}, id='run-4a373c7b-53fb-4bdd-9d40-642942c628a1-0', tool_calls=[{'name': 'tavily_search_results_json', 'args': {'query': 'weather in Taipei'}, 'id': 'call_R6sf8WvdSRFW6rAKOxfH4cam'}], usage_metadata={'input_tokens': 152, 'output_tokens': 20, 'total_tokens': 172})]}}}, created_at='2024-07-01T13:47:50.429847+00:00', parent_config={'configurable': {'thread_id': '2', 'thread_ts': '1ef37b08-13d3-627b-8000-7fb125c729e0'}}) \n",
      "\n"
     ]
    },
    {
     "name": "stdin",
     "output_type": "stream",
     "text": [
      "proceed? y\n"
     ]
    },
    {
     "name": "stdout",
     "output_type": "stream",
     "text": [
      "Calling: {'name': 'tavily_search_results_json', 'args': {'query': 'weather in Taipei'}, 'id': 'call_R6sf8WvdSRFW6rAKOxfH4cam'}\n",
      "Back to the model!\n",
      "{'messages': [ToolMessage(content='[{\\'url\\': \\'https://world-weather.info/forecast/taiwan/taipei/july-2024/\\', \\'content\\': \\'Extended weather forecast in Taipei. Hourly Week 10 days 14 days 30 days Year. Detailed ⚡ Taipei Weather Forecast for July 2024 - day/night 🌡️ temperatures, precipitations - World-Weather.info.\\'}, {\\'url\\': \\'https://www.weatherapi.com/\\', \\'content\\': \\'{\\\\\\'location\\\\\\': {\\\\\\'name\\\\\\': \\\\\\'Taipei\\\\\\', \\\\\\'region\\\\\\': \"T\\\\\\'ai-pei\", \\\\\\'country\\\\\\': \\\\\\'Taiwan\\\\\\', \\\\\\'lat\\\\\\': 25.04, \\\\\\'lon\\\\\\': 121.53, \\\\\\'tz_id\\\\\\': \\\\\\'Asia/Taipei\\\\\\', \\\\\\'localtime_epoch\\\\\\': 1719841614, \\\\\\'localtime\\\\\\': \\\\\\'2024-07-01 21:46\\\\\\'}, \\\\\\'current\\\\\\': {\\\\\\'last_updated_epoch\\\\\\': 1719841500, \\\\\\'last_updated\\\\\\': \\\\\\'2024-07-01 21:45\\\\\\', \\\\\\'temp_c\\\\\\': 29.1, \\\\\\'temp_f\\\\\\': 84.4, \\\\\\'is_day\\\\\\': 0, \\\\\\'condition\\\\\\': {\\\\\\'text\\\\\\': \\\\\\'Partly cloudy\\\\\\', \\\\\\'icon\\\\\\': \\\\\\'//cdn.weatherapi.com/weather/64x64/night/116.png\\\\\\', \\\\\\'code\\\\\\': 1003}, \\\\\\'wind_mph\\\\\\': 2.2, \\\\\\'wind_kph\\\\\\': 3.6, \\\\\\'wind_degree\\\\\\': 121, \\\\\\'wind_dir\\\\\\': \\\\\\'ESE\\\\\\', \\\\\\'pressure_mb\\\\\\': 1008.0, \\\\\\'pressure_in\\\\\\': 29.77, \\\\\\'precip_mm\\\\\\': 0.0, \\\\\\'precip_in\\\\\\': 0.0, \\\\\\'humidity\\\\\\': 89, \\\\\\'cloud\\\\\\': 75, \\\\\\'feelslike_c\\\\\\': 35.1, \\\\\\'feelslike_f\\\\\\': 95.1, \\\\\\'windchill_c\\\\\\': 28.2, \\\\\\'windchill_f\\\\\\': 82.8, \\\\\\'heatindex_c\\\\\\': 32.9, \\\\\\'heatindex_f\\\\\\': 91.2, \\\\\\'dewpoint_c\\\\\\': 24.6, \\\\\\'dewpoint_f\\\\\\': 76.3, \\\\\\'vis_km\\\\\\': 10.0, \\\\\\'vis_miles\\\\\\': 6.0, \\\\\\'uv\\\\\\': 1.0, \\\\\\'gust_mph\\\\\\': 4.4, \\\\\\'gust_kph\\\\\\': 7.0}}\\'}]', name='tavily_search_results_json', tool_call_id='call_R6sf8WvdSRFW6rAKOxfH4cam')]}\n",
      "{'messages': [HumanMessage(content='Whats the weather in Taipei?', id='9ab7e18d-caa7-4ab9-b5f6-08119f9b59c8'), AIMessage(content='', additional_kwargs={'tool_calls': [{'id': 'call_R6sf8WvdSRFW6rAKOxfH4cam', 'function': {'arguments': '{\"query\":\"weather in Taipei\"}', 'name': 'tavily_search_results_json'}, 'type': 'function'}]}, response_metadata={'token_usage': {'completion_tokens': 20, 'prompt_tokens': 152, 'total_tokens': 172}, 'model_name': 'gpt-3.5-turbo-0125', 'system_fingerprint': None, 'finish_reason': 'tool_calls', 'logprobs': None}, id='run-4a373c7b-53fb-4bdd-9d40-642942c628a1-0', tool_calls=[{'name': 'tavily_search_results_json', 'args': {'query': 'weather in Taipei'}, 'id': 'call_R6sf8WvdSRFW6rAKOxfH4cam'}], usage_metadata={'input_tokens': 152, 'output_tokens': 20, 'total_tokens': 172}), ToolMessage(content='[{\\'url\\': \\'https://world-weather.info/forecast/taiwan/taipei/july-2024/\\', \\'content\\': \\'Extended weather forecast in Taipei. Hourly Week 10 days 14 days 30 days Year. Detailed ⚡ Taipei Weather Forecast for July 2024 - day/night 🌡️ temperatures, precipitations - World-Weather.info.\\'}, {\\'url\\': \\'https://www.weatherapi.com/\\', \\'content\\': \\'{\\\\\\'location\\\\\\': {\\\\\\'name\\\\\\': \\\\\\'Taipei\\\\\\', \\\\\\'region\\\\\\': \"T\\\\\\'ai-pei\", \\\\\\'country\\\\\\': \\\\\\'Taiwan\\\\\\', \\\\\\'lat\\\\\\': 25.04, \\\\\\'lon\\\\\\': 121.53, \\\\\\'tz_id\\\\\\': \\\\\\'Asia/Taipei\\\\\\', \\\\\\'localtime_epoch\\\\\\': 1719841614, \\\\\\'localtime\\\\\\': \\\\\\'2024-07-01 21:46\\\\\\'}, \\\\\\'current\\\\\\': {\\\\\\'last_updated_epoch\\\\\\': 1719841500, \\\\\\'last_updated\\\\\\': \\\\\\'2024-07-01 21:45\\\\\\', \\\\\\'temp_c\\\\\\': 29.1, \\\\\\'temp_f\\\\\\': 84.4, \\\\\\'is_day\\\\\\': 0, \\\\\\'condition\\\\\\': {\\\\\\'text\\\\\\': \\\\\\'Partly cloudy\\\\\\', \\\\\\'icon\\\\\\': \\\\\\'//cdn.weatherapi.com/weather/64x64/night/116.png\\\\\\', \\\\\\'code\\\\\\': 1003}, \\\\\\'wind_mph\\\\\\': 2.2, \\\\\\'wind_kph\\\\\\': 3.6, \\\\\\'wind_degree\\\\\\': 121, \\\\\\'wind_dir\\\\\\': \\\\\\'ESE\\\\\\', \\\\\\'pressure_mb\\\\\\': 1008.0, \\\\\\'pressure_in\\\\\\': 29.77, \\\\\\'precip_mm\\\\\\': 0.0, \\\\\\'precip_in\\\\\\': 0.0, \\\\\\'humidity\\\\\\': 89, \\\\\\'cloud\\\\\\': 75, \\\\\\'feelslike_c\\\\\\': 35.1, \\\\\\'feelslike_f\\\\\\': 95.1, \\\\\\'windchill_c\\\\\\': 28.2, \\\\\\'windchill_f\\\\\\': 82.8, \\\\\\'heatindex_c\\\\\\': 32.9, \\\\\\'heatindex_f\\\\\\': 91.2, \\\\\\'dewpoint_c\\\\\\': 24.6, \\\\\\'dewpoint_f\\\\\\': 76.3, \\\\\\'vis_km\\\\\\': 10.0, \\\\\\'vis_miles\\\\\\': 6.0, \\\\\\'uv\\\\\\': 1.0, \\\\\\'gust_mph\\\\\\': 4.4, \\\\\\'gust_kph\\\\\\': 7.0}}\\'}]', name='tavily_search_results_json', id='ed49cdb0-ad16-4936-af25-58b6b17c1346', tool_call_id='call_R6sf8WvdSRFW6rAKOxfH4cam'), AIMessage(content='The current weather in Taipei is partly cloudy with a temperature of 29.1°C (84.4°F). The humidity is at 89%, and the wind speed is 3.6 km/h coming from the east-southeast direction. The forecast indicates no precipitation at the moment.', response_metadata={'token_usage': {'completion_tokens': 60, 'prompt_tokens': 721, 'total_tokens': 781}, 'model_name': 'gpt-3.5-turbo-0125', 'system_fingerprint': None, 'finish_reason': 'stop', 'logprobs': None}, id='run-22fdb43c-5319-4a81-b553-6d40756e8236-0', usage_metadata={'input_tokens': 721, 'output_tokens': 60, 'total_tokens': 781})]}\n",
      "{'messages': [AIMessage(content='The current weather in Taipei is partly cloudy with a temperature of 29.1°C (84.4°F). The humidity is at 89%, and the wind speed is 3.6 km/h coming from the east-southeast direction. The forecast indicates no precipitation at the moment.', response_metadata={'token_usage': {'completion_tokens': 60, 'prompt_tokens': 721, 'total_tokens': 781}, 'model_name': 'gpt-3.5-turbo-0125', 'system_fingerprint': None, 'finish_reason': 'stop', 'logprobs': None}, id='run-22fdb43c-5319-4a81-b553-6d40756e8236-0', usage_metadata={'input_tokens': 721, 'output_tokens': 60, 'total_tokens': 781})]}\n"
     ]
    }
   ],
   "source": [
    "messages = [HumanMessage(\"Whats the weather in Taipei?\")]\n",
    "thread_2 = {\"configurable\": {\"thread_id\": \"2\"}}\n",
    "\n",
    "for event in abot.graph.stream({\"messages\": messages}, thread_2):\n",
    "    for v in event.values():\n",
    "        print(v)\n",
    "\n",
    "last_event_value = None\n",
    "while abot.graph.get_state(thread_2).next:\n",
    "    print(\"\\n\", abot.graph.get_state(thread_2),\"\\n\")\n",
    "    _input = input(\"proceed?\")\n",
    "    if _input != \"y\":\n",
    "        print(\"aborting\")\n",
    "        break\n",
    "    for event in abot.graph.stream(None, thread_2):\n",
    "        for v in event.values():\n",
    "            print(v)\n",
    "            last_event_value = v"
   ]
  },
  {
   "cell_type": "code",
   "execution_count": 21,
   "id": "7645b80e-77ad-4772-9e74-24700f4482a2",
   "metadata": {},
   "outputs": [
    {
     "name": "stdout",
     "output_type": "stream",
     "text": [
      "<class 'langchain_core.messages.ai.AIMessage'>: The current weather in Taipei is partly cloudy with a temperature of 29.1°C (84.4°F). The humidity is at 89%, and the wind speed is 3.6 km/h coming from the east-southeast direction. The forecast indicates no precipitation at the moment.\n"
     ]
    }
   ],
   "source": [
    "message = last_event_value['messages'][-1]\n",
    "print(f'{message.__class__}: {message.content}')"
   ]
  },
  {
   "cell_type": "markdown",
   "id": "07a1db54-8c8e-4547-8059-caea8ba8bdc5",
   "metadata": {},
   "source": [
    "### <b><font color='darkgreen'>Modify State</font></b>\n",
    "<b><font size='3ptx'>Run until the interrupt and then modify the state.</font></b>"
   ]
  },
  {
   "cell_type": "code",
   "execution_count": 22,
   "id": "daff1af3-bcfe-43b4-ae5d-8b9a1858e9f1",
   "metadata": {},
   "outputs": [
    {
     "name": "stdout",
     "output_type": "stream",
     "text": [
      "{'messages': [HumanMessage(content='Whats the weather in LA?', id='32248710-6288-46db-9424-d7eaba79920a'), AIMessage(content='', additional_kwargs={'tool_calls': [{'id': 'call_66C5b38T5eAMsfZC5Tdw9fW4', 'function': {'arguments': '{\"query\":\"weather in Los Angeles\"}', 'name': 'tavily_search_results_json'}, 'type': 'function'}]}, response_metadata={'token_usage': {'completion_tokens': 21, 'prompt_tokens': 152, 'total_tokens': 173}, 'model_name': 'gpt-3.5-turbo-0125', 'system_fingerprint': None, 'finish_reason': 'tool_calls', 'logprobs': None}, id='run-3922035f-9554-48a5-8744-4aa74796b4b7-0', tool_calls=[{'name': 'tavily_search_results_json', 'args': {'query': 'weather in Los Angeles'}, 'id': 'call_66C5b38T5eAMsfZC5Tdw9fW4'}], usage_metadata={'input_tokens': 152, 'output_tokens': 21, 'total_tokens': 173})]}\n",
      "{'messages': [AIMessage(content='', additional_kwargs={'tool_calls': [{'id': 'call_66C5b38T5eAMsfZC5Tdw9fW4', 'function': {'arguments': '{\"query\":\"weather in Los Angeles\"}', 'name': 'tavily_search_results_json'}, 'type': 'function'}]}, response_metadata={'token_usage': {'completion_tokens': 21, 'prompt_tokens': 152, 'total_tokens': 173}, 'model_name': 'gpt-3.5-turbo-0125', 'system_fingerprint': None, 'finish_reason': 'tool_calls', 'logprobs': None}, id='run-3922035f-9554-48a5-8744-4aa74796b4b7-0', tool_calls=[{'name': 'tavily_search_results_json', 'args': {'query': 'weather in Los Angeles'}, 'id': 'call_66C5b38T5eAMsfZC5Tdw9fW4'}], usage_metadata={'input_tokens': 152, 'output_tokens': 21, 'total_tokens': 173})]}\n"
     ]
    }
   ],
   "source": [
    "messages = [HumanMessage(\"Whats the weather in LA?\")]\n",
    "thread_3 = {\"configurable\": {\"thread_id\": \"3\"}}\n",
    "last_event_value\n",
    "for event in abot.graph.stream({\"messages\": messages}, thread_3):\n",
    "    for v in event.values():\n",
    "        print(v)\n",
    "        last_event_value = v"
   ]
  },
  {
   "cell_type": "code",
   "execution_count": 24,
   "id": "34d7fd8d-b134-488b-8f4b-8e28b10527d8",
   "metadata": {},
   "outputs": [
    {
     "data": {
      "text/plain": [
       "StateSnapshot(values={'messages': [HumanMessage(content='Whats the weather in LA?', id='32248710-6288-46db-9424-d7eaba79920a'), AIMessage(content='', additional_kwargs={'tool_calls': [{'id': 'call_66C5b38T5eAMsfZC5Tdw9fW4', 'function': {'arguments': '{\"query\":\"weather in Los Angeles\"}', 'name': 'tavily_search_results_json'}, 'type': 'function'}]}, response_metadata={'token_usage': {'completion_tokens': 21, 'prompt_tokens': 152, 'total_tokens': 173}, 'model_name': 'gpt-3.5-turbo-0125', 'system_fingerprint': None, 'finish_reason': 'tool_calls', 'logprobs': None}, id='run-3922035f-9554-48a5-8744-4aa74796b4b7-0', tool_calls=[{'name': 'tavily_search_results_json', 'args': {'query': 'weather in Los Angeles'}, 'id': 'call_66C5b38T5eAMsfZC5Tdw9fW4'}], usage_metadata={'input_tokens': 152, 'output_tokens': 21, 'total_tokens': 173})]}, next=('action',), config={'configurable': {'thread_id': '3', 'thread_ts': '1ef37b0f-cc06-644a-8001-900de5d3caf5'}}, metadata={'source': 'loop', 'step': 1, 'writes': {'llm': {'messages': [AIMessage(content='', additional_kwargs={'tool_calls': [{'id': 'call_66C5b38T5eAMsfZC5Tdw9fW4', 'function': {'arguments': '{\"query\":\"weather in Los Angeles\"}', 'name': 'tavily_search_results_json'}, 'type': 'function'}]}, response_metadata={'token_usage': {'completion_tokens': 21, 'prompt_tokens': 152, 'total_tokens': 173}, 'model_name': 'gpt-3.5-turbo-0125', 'system_fingerprint': None, 'finish_reason': 'tool_calls', 'logprobs': None}, id='run-3922035f-9554-48a5-8744-4aa74796b4b7-0', tool_calls=[{'name': 'tavily_search_results_json', 'args': {'query': 'weather in Los Angeles'}, 'id': 'call_66C5b38T5eAMsfZC5Tdw9fW4'}], usage_metadata={'input_tokens': 152, 'output_tokens': 21, 'total_tokens': 173})]}}}, created_at='2024-07-01T13:51:16.601322+00:00', parent_config={'configurable': {'thread_id': '3', 'thread_ts': '1ef37b0f-bfd8-67f6-8000-5a619eacdfb1'}})"
      ]
     },
     "execution_count": 24,
     "metadata": {},
     "output_type": "execute_result"
    }
   ],
   "source": [
    "abot.graph.get_state(thread_3)"
   ]
  },
  {
   "cell_type": "code",
   "execution_count": 25,
   "id": "d892858b-797b-4308-bbf9-2d10fc485f45",
   "metadata": {},
   "outputs": [],
   "source": [
    "current_values = abot.graph.get_state(thread_3)"
   ]
  },
  {
   "cell_type": "code",
   "execution_count": 27,
   "id": "35aab9aa-5895-4ef1-8adc-d580042f1b2e",
   "metadata": {},
   "outputs": [
    {
     "data": {
      "text/plain": [
       "AIMessage(content='', additional_kwargs={'tool_calls': [{'id': 'call_66C5b38T5eAMsfZC5Tdw9fW4', 'function': {'arguments': '{\"query\":\"weather in Los Angeles\"}', 'name': 'tavily_search_results_json'}, 'type': 'function'}]}, response_metadata={'token_usage': {'completion_tokens': 21, 'prompt_tokens': 152, 'total_tokens': 173}, 'model_name': 'gpt-3.5-turbo-0125', 'system_fingerprint': None, 'finish_reason': 'tool_calls', 'logprobs': None}, id='run-3922035f-9554-48a5-8744-4aa74796b4b7-0', tool_calls=[{'name': 'tavily_search_results_json', 'args': {'query': 'weather in Los Angeles'}, 'id': 'call_66C5b38T5eAMsfZC5Tdw9fW4'}], usage_metadata={'input_tokens': 152, 'output_tokens': 21, 'total_tokens': 173})"
      ]
     },
     "execution_count": 27,
     "metadata": {},
     "output_type": "execute_result"
    }
   ],
   "source": [
    "last_message = current_values.values['messages'][-1]\n",
    "last_message"
   ]
  },
  {
   "cell_type": "code",
   "execution_count": 28,
   "id": "d51f022c-aeeb-4f3e-9102-d6caf027a69e",
   "metadata": {},
   "outputs": [
    {
     "data": {
      "text/plain": [
       "[{'name': 'tavily_search_results_json',\n",
       "  'args': {'query': 'weather in Los Angeles'},\n",
       "  'id': 'call_66C5b38T5eAMsfZC5Tdw9fW4'}]"
      ]
     },
     "execution_count": 28,
     "metadata": {},
     "output_type": "execute_result"
    }
   ],
   "source": [
    "last_message.tool_calls"
   ]
  },
  {
   "cell_type": "code",
   "execution_count": 29,
   "id": "b1a925b1-3d0c-484a-a5fe-5fc60a18c4f5",
   "metadata": {},
   "outputs": [],
   "source": [
    "_id = last_message.tool_calls[0]['id']\n",
    "\n",
    "# We use same id to replace message instead of appending.\n",
    "# and replace query 'weather in Los Angeles' with 'current weather in Louisiana'\n",
    "current_values.values['messages'][-1].tool_calls = [{\n",
    "    'name': 'tavily_search_results_json',\n",
    "    'args': {'query': 'current weather in Louisiana'},\n",
    "    'id': _id\n",
    "}]"
   ]
  },
  {
   "cell_type": "code",
   "execution_count": 30,
   "id": "1a5e6e24-338e-46cb-9280-b8e8b9975144",
   "metadata": {},
   "outputs": [
    {
     "name": "stdout",
     "output_type": "stream",
     "text": [
      "{'messages': [HumanMessage(content='Whats the weather in LA?', id='32248710-6288-46db-9424-d7eaba79920a'), AIMessage(content='', additional_kwargs={'tool_calls': [{'id': 'call_66C5b38T5eAMsfZC5Tdw9fW4', 'function': {'arguments': '{\"query\":\"weather in Los Angeles\"}', 'name': 'tavily_search_results_json'}, 'type': 'function'}]}, response_metadata={'token_usage': {'completion_tokens': 21, 'prompt_tokens': 152, 'total_tokens': 173}, 'model_name': 'gpt-3.5-turbo-0125', 'system_fingerprint': None, 'finish_reason': 'tool_calls', 'logprobs': None}, id='run-3922035f-9554-48a5-8744-4aa74796b4b7-0', tool_calls=[{'name': 'tavily_search_results_json', 'args': {'query': 'current weather in Louisiana'}, 'id': 'call_66C5b38T5eAMsfZC5Tdw9fW4'}], usage_metadata={'input_tokens': 152, 'output_tokens': 21, 'total_tokens': 173})]}\n"
     ]
    },
    {
     "data": {
      "text/plain": [
       "{'configurable': {'thread_id': '3',\n",
       "  'thread_ts': '1ef37b1b-85f8-6f46-8002-3cb02abaf7ce'}}"
      ]
     },
     "execution_count": 30,
     "metadata": {},
     "output_type": "execute_result"
    }
   ],
   "source": [
    "abot.graph.update_state(thread_3, current_values.values)"
   ]
  },
  {
   "cell_type": "code",
   "execution_count": 34,
   "id": "5160165d-68b4-4982-9f7a-e0a883334d9f",
   "metadata": {},
   "outputs": [
    {
     "data": {
      "text/plain": [
       "[{'name': 'tavily_search_results_json',\n",
       "  'args': {'query': 'current weather in Louisiana'},\n",
       "  'id': 'call_66C5b38T5eAMsfZC5Tdw9fW4'}]"
      ]
     },
     "execution_count": 34,
     "metadata": {},
     "output_type": "execute_result"
    }
   ],
   "source": [
    "# Confirms that the query has been modified\n",
    "abot.graph.get_state(thread_3).values['messages'][-1].tool_calls"
   ]
  },
  {
   "cell_type": "code",
   "execution_count": 35,
   "id": "4bf06a56-7974-4a53-b9dd-e1722b5e7b17",
   "metadata": {},
   "outputs": [
    {
     "name": "stdout",
     "output_type": "stream",
     "text": [
      "Calling: {'name': 'tavily_search_results_json', 'args': {'query': 'current weather in Louisiana'}, 'id': 'call_66C5b38T5eAMsfZC5Tdw9fW4'}\n",
      "Back to the model!\n",
      "{'messages': [ToolMessage(content='[{\\'url\\': \\'https://www.wunderground.com/hourly/us/la/grand-cane/date/2024-07-01\\', \\'content\\': \\'Current Weather for Popular ... Grand Cane, LA Hourly Weather Forecast star_ratehome. 76 ... Monday 07/01 Hourly for Today, Mon 07/01. Tomorrow 07/01. 51% / 0.14 in .\\'}, {\\'url\\': \\'https://www.kplctv.com/2024/07/01/first-alert-forecast-looking-hot-start-week-rain-chances-are-also-improving/\\', \\'content\\': \"LAKE CHARLES, La. (KPLC) -We had a hot weekend in SWLA and those high temperatures will continue right into Monday, but rain chances are looking a little better. It\\'s kicking off warm and muggy out the door Monday, with sauna-like conditions for many. Heat indices between 100-110 degrees are likely with highs again in the mid 90′s.\"}]', name='tavily_search_results_json', tool_call_id='call_66C5b38T5eAMsfZC5Tdw9fW4')]}\n",
      "{'messages': [HumanMessage(content='Whats the weather in LA?', id='32248710-6288-46db-9424-d7eaba79920a'), AIMessage(content='', additional_kwargs={'tool_calls': [{'id': 'call_66C5b38T5eAMsfZC5Tdw9fW4', 'function': {'arguments': '{\"query\":\"weather in Los Angeles\"}', 'name': 'tavily_search_results_json'}, 'type': 'function'}]}, response_metadata={'token_usage': {'completion_tokens': 21, 'prompt_tokens': 152, 'total_tokens': 173}, 'model_name': 'gpt-3.5-turbo-0125', 'system_fingerprint': None, 'finish_reason': 'tool_calls', 'logprobs': None}, id='run-3922035f-9554-48a5-8744-4aa74796b4b7-0', tool_calls=[{'name': 'tavily_search_results_json', 'args': {'query': 'current weather in Louisiana'}, 'id': 'call_66C5b38T5eAMsfZC5Tdw9fW4'}], usage_metadata={'input_tokens': 152, 'output_tokens': 21, 'total_tokens': 173}), ToolMessage(content='[{\\'url\\': \\'https://www.wunderground.com/hourly/us/la/grand-cane/date/2024-07-01\\', \\'content\\': \\'Current Weather for Popular ... Grand Cane, LA Hourly Weather Forecast star_ratehome. 76 ... Monday 07/01 Hourly for Today, Mon 07/01. Tomorrow 07/01. 51% / 0.14 in .\\'}, {\\'url\\': \\'https://www.kplctv.com/2024/07/01/first-alert-forecast-looking-hot-start-week-rain-chances-are-also-improving/\\', \\'content\\': \"LAKE CHARLES, La. (KPLC) -We had a hot weekend in SWLA and those high temperatures will continue right into Monday, but rain chances are looking a little better. It\\'s kicking off warm and muggy out the door Monday, with sauna-like conditions for many. Heat indices between 100-110 degrees are likely with highs again in the mid 90′s.\"}]', name='tavily_search_results_json', id='9d452c9e-32bd-4f3b-9882-f20026be49a5', tool_call_id='call_66C5b38T5eAMsfZC5Tdw9fW4'), AIMessage(content='The current weather in Louisiana shows that it is hot with high temperatures expected. Heat indices between 100-110 degrees are likely with highs in the mid-90s.', response_metadata={'token_usage': {'completion_tokens': 35, 'prompt_tokens': 400, 'total_tokens': 435}, 'model_name': 'gpt-3.5-turbo-0125', 'system_fingerprint': None, 'finish_reason': 'stop', 'logprobs': None}, id='run-426a0b9c-50a9-41d4-b1b9-67dc1f734d22-0', usage_metadata={'input_tokens': 400, 'output_tokens': 35, 'total_tokens': 435})]}\n",
      "{'messages': [AIMessage(content='The current weather in Louisiana shows that it is hot with high temperatures expected. Heat indices between 100-110 degrees are likely with highs in the mid-90s.', response_metadata={'token_usage': {'completion_tokens': 35, 'prompt_tokens': 400, 'total_tokens': 435}, 'model_name': 'gpt-3.5-turbo-0125', 'system_fingerprint': None, 'finish_reason': 'stop', 'logprobs': None}, id='run-426a0b9c-50a9-41d4-b1b9-67dc1f734d22-0', usage_metadata={'input_tokens': 400, 'output_tokens': 35, 'total_tokens': 435})]}\n"
     ]
    }
   ],
   "source": [
    "last_event_value = None\n",
    "for event in abot.graph.stream(None, thread_3):\n",
    "    for v in event.values():\n",
    "        print(v)\n",
    "        last_event_value = v"
   ]
  },
  {
   "cell_type": "code",
   "execution_count": 36,
   "id": "12a11520-519e-4fd6-88fb-e284cb17b6ad",
   "metadata": {},
   "outputs": [
    {
     "name": "stdout",
     "output_type": "stream",
     "text": [
      "<class 'langchain_core.messages.ai.AIMessage'>: The current weather in Louisiana shows that it is hot with high temperatures expected. Heat indices between 100-110 degrees are likely with highs in the mid-90s.\n"
     ]
    }
   ],
   "source": [
    "message = last_event_value['messages'][-1]\n",
    "print(f'{message.__class__}: {message.content}')"
   ]
  },
  {
   "cell_type": "markdown",
   "id": "1074fa98-34ef-4541-b0dc-3b6ead6ecbf8",
   "metadata": {},
   "source": [
    "### <b><font color='darkgreen'>Time Travel</font></b>"
   ]
  },
  {
   "cell_type": "code",
   "execution_count": 37,
   "id": "3d8a10f6-dad8-4bde-a9c9-c6c9a9fd5669",
   "metadata": {},
   "outputs": [
    {
     "name": "stdout",
     "output_type": "stream",
     "text": [
      "StateSnapshot(values={'messages': [HumanMessage(content='Whats the weather in LA?', id='32248710-6288-46db-9424-d7eaba79920a'), AIMessage(content='', additional_kwargs={'tool_calls': [{'id': 'call_66C5b38T5eAMsfZC5Tdw9fW4', 'function': {'arguments': '{\"query\":\"weather in Los Angeles\"}', 'name': 'tavily_search_results_json'}, 'type': 'function'}]}, response_metadata={'token_usage': {'completion_tokens': 21, 'prompt_tokens': 152, 'total_tokens': 173}, 'model_name': 'gpt-3.5-turbo-0125', 'system_fingerprint': None, 'finish_reason': 'tool_calls', 'logprobs': None}, id='run-3922035f-9554-48a5-8744-4aa74796b4b7-0', tool_calls=[{'name': 'tavily_search_results_json', 'args': {'query': 'current weather in Louisiana'}, 'id': 'call_66C5b38T5eAMsfZC5Tdw9fW4'}], usage_metadata={'input_tokens': 152, 'output_tokens': 21, 'total_tokens': 173}), ToolMessage(content='[{\\'url\\': \\'https://www.wunderground.com/hourly/us/la/grand-cane/date/2024-07-01\\', \\'content\\': \\'Current Weather for Popular ... Grand Cane, LA Hourly Weather Forecast star_ratehome. 76 ... Monday 07/01 Hourly for Today, Mon 07/01. Tomorrow 07/01. 51% / 0.14 in .\\'}, {\\'url\\': \\'https://www.kplctv.com/2024/07/01/first-alert-forecast-looking-hot-start-week-rain-chances-are-also-improving/\\', \\'content\\': \"LAKE CHARLES, La. (KPLC) -We had a hot weekend in SWLA and those high temperatures will continue right into Monday, but rain chances are looking a little better. It\\'s kicking off warm and muggy out the door Monday, with sauna-like conditions for many. Heat indices between 100-110 degrees are likely with highs again in the mid 90′s.\"}]', name='tavily_search_results_json', id='9d452c9e-32bd-4f3b-9882-f20026be49a5', tool_call_id='call_66C5b38T5eAMsfZC5Tdw9fW4'), AIMessage(content='The current weather in Louisiana shows that it is hot with high temperatures expected. Heat indices between 100-110 degrees are likely with highs in the mid-90s.', response_metadata={'token_usage': {'completion_tokens': 35, 'prompt_tokens': 400, 'total_tokens': 435}, 'model_name': 'gpt-3.5-turbo-0125', 'system_fingerprint': None, 'finish_reason': 'stop', 'logprobs': None}, id='run-426a0b9c-50a9-41d4-b1b9-67dc1f734d22-0', usage_metadata={'input_tokens': 400, 'output_tokens': 35, 'total_tokens': 435})]}, next=(), config={'configurable': {'thread_id': '3', 'thread_ts': '1ef37b1f-b802-6838-8004-1dcf8cfcbbaa'}}, metadata={'source': 'loop', 'step': 4, 'writes': {'llm': {'messages': [AIMessage(content='The current weather in Louisiana shows that it is hot with high temperatures expected. Heat indices between 100-110 degrees are likely with highs in the mid-90s.', response_metadata={'token_usage': {'completion_tokens': 35, 'prompt_tokens': 400, 'total_tokens': 435}, 'model_name': 'gpt-3.5-turbo-0125', 'system_fingerprint': None, 'finish_reason': 'stop', 'logprobs': None}, id='run-426a0b9c-50a9-41d4-b1b9-67dc1f734d22-0', usage_metadata={'input_tokens': 400, 'output_tokens': 35, 'total_tokens': 435})]}}}, created_at='2024-07-01T13:58:23.999360+00:00', parent_config={'configurable': {'thread_id': '3', 'thread_ts': '1ef37b1f-aacc-60f6-8003-3e7a2e992f77'}})\n",
      "--\n",
      "StateSnapshot(values={'messages': [HumanMessage(content='Whats the weather in LA?', id='32248710-6288-46db-9424-d7eaba79920a'), AIMessage(content='', additional_kwargs={'tool_calls': [{'id': 'call_66C5b38T5eAMsfZC5Tdw9fW4', 'function': {'arguments': '{\"query\":\"weather in Los Angeles\"}', 'name': 'tavily_search_results_json'}, 'type': 'function'}]}, response_metadata={'token_usage': {'completion_tokens': 21, 'prompt_tokens': 152, 'total_tokens': 173}, 'model_name': 'gpt-3.5-turbo-0125', 'system_fingerprint': None, 'finish_reason': 'tool_calls', 'logprobs': None}, id='run-3922035f-9554-48a5-8744-4aa74796b4b7-0', tool_calls=[{'name': 'tavily_search_results_json', 'args': {'query': 'current weather in Louisiana'}, 'id': 'call_66C5b38T5eAMsfZC5Tdw9fW4'}], usage_metadata={'input_tokens': 152, 'output_tokens': 21, 'total_tokens': 173}), ToolMessage(content='[{\\'url\\': \\'https://www.wunderground.com/hourly/us/la/grand-cane/date/2024-07-01\\', \\'content\\': \\'Current Weather for Popular ... Grand Cane, LA Hourly Weather Forecast star_ratehome. 76 ... Monday 07/01 Hourly for Today, Mon 07/01. Tomorrow 07/01. 51% / 0.14 in .\\'}, {\\'url\\': \\'https://www.kplctv.com/2024/07/01/first-alert-forecast-looking-hot-start-week-rain-chances-are-also-improving/\\', \\'content\\': \"LAKE CHARLES, La. (KPLC) -We had a hot weekend in SWLA and those high temperatures will continue right into Monday, but rain chances are looking a little better. It\\'s kicking off warm and muggy out the door Monday, with sauna-like conditions for many. Heat indices between 100-110 degrees are likely with highs again in the mid 90′s.\"}]', name='tavily_search_results_json', id='9d452c9e-32bd-4f3b-9882-f20026be49a5', tool_call_id='call_66C5b38T5eAMsfZC5Tdw9fW4')]}, next=('llm',), config={'configurable': {'thread_id': '3', 'thread_ts': '1ef37b1f-aacc-60f6-8003-3e7a2e992f77'}}, metadata={'source': 'loop', 'step': 3, 'writes': {'action': {'messages': [ToolMessage(content='[{\\'url\\': \\'https://www.wunderground.com/hourly/us/la/grand-cane/date/2024-07-01\\', \\'content\\': \\'Current Weather for Popular ... Grand Cane, LA Hourly Weather Forecast star_ratehome. 76 ... Monday 07/01 Hourly for Today, Mon 07/01. Tomorrow 07/01. 51% / 0.14 in .\\'}, {\\'url\\': \\'https://www.kplctv.com/2024/07/01/first-alert-forecast-looking-hot-start-week-rain-chances-are-also-improving/\\', \\'content\\': \"LAKE CHARLES, La. (KPLC) -We had a hot weekend in SWLA and those high temperatures will continue right into Monday, but rain chances are looking a little better. It\\'s kicking off warm and muggy out the door Monday, with sauna-like conditions for many. Heat indices between 100-110 degrees are likely with highs again in the mid 90′s.\"}]', name='tavily_search_results_json', id='9d452c9e-32bd-4f3b-9882-f20026be49a5', tool_call_id='call_66C5b38T5eAMsfZC5Tdw9fW4')]}}}, created_at='2024-07-01T13:58:22.613897+00:00', parent_config={'configurable': {'thread_id': '3', 'thread_ts': '1ef37b1b-85f8-6f46-8002-3cb02abaf7ce'}})\n",
      "--\n",
      "StateSnapshot(values={'messages': [HumanMessage(content='Whats the weather in LA?', id='32248710-6288-46db-9424-d7eaba79920a'), AIMessage(content='', additional_kwargs={'tool_calls': [{'id': 'call_66C5b38T5eAMsfZC5Tdw9fW4', 'function': {'arguments': '{\"query\":\"weather in Los Angeles\"}', 'name': 'tavily_search_results_json'}, 'type': 'function'}]}, response_metadata={'token_usage': {'completion_tokens': 21, 'prompt_tokens': 152, 'total_tokens': 173}, 'model_name': 'gpt-3.5-turbo-0125', 'system_fingerprint': None, 'finish_reason': 'tool_calls', 'logprobs': None}, id='run-3922035f-9554-48a5-8744-4aa74796b4b7-0', tool_calls=[{'name': 'tavily_search_results_json', 'args': {'query': 'current weather in Louisiana'}, 'id': 'call_66C5b38T5eAMsfZC5Tdw9fW4'}], usage_metadata={'input_tokens': 152, 'output_tokens': 21, 'total_tokens': 173})]}, next=('action',), config={'configurable': {'thread_id': '3', 'thread_ts': '1ef37b1b-85f8-6f46-8002-3cb02abaf7ce'}}, metadata={'source': 'update', 'step': 2, 'writes': {'llm': {'messages': [HumanMessage(content='Whats the weather in LA?', id='32248710-6288-46db-9424-d7eaba79920a'), AIMessage(content='', additional_kwargs={'tool_calls': [{'id': 'call_66C5b38T5eAMsfZC5Tdw9fW4', 'function': {'arguments': '{\"query\":\"weather in Los Angeles\"}', 'name': 'tavily_search_results_json'}, 'type': 'function'}]}, response_metadata={'token_usage': {'completion_tokens': 21, 'prompt_tokens': 152, 'total_tokens': 173}, 'model_name': 'gpt-3.5-turbo-0125', 'system_fingerprint': None, 'finish_reason': 'tool_calls', 'logprobs': None}, id='run-3922035f-9554-48a5-8744-4aa74796b4b7-0', tool_calls=[{'name': 'tavily_search_results_json', 'args': {'query': 'current weather in Louisiana'}, 'id': 'call_66C5b38T5eAMsfZC5Tdw9fW4'}], usage_metadata={'input_tokens': 152, 'output_tokens': 21, 'total_tokens': 173})]}}}, created_at='2024-07-01T13:56:31.378400+00:00', parent_config={'configurable': {'thread_id': '3', 'thread_ts': '1ef37b0f-cc06-644a-8001-900de5d3caf5'}})\n",
      "--\n",
      "StateSnapshot(values={'messages': [HumanMessage(content='Whats the weather in LA?', id='32248710-6288-46db-9424-d7eaba79920a'), AIMessage(content='', additional_kwargs={'tool_calls': [{'id': 'call_66C5b38T5eAMsfZC5Tdw9fW4', 'function': {'arguments': '{\"query\":\"weather in Los Angeles\"}', 'name': 'tavily_search_results_json'}, 'type': 'function'}]}, response_metadata={'token_usage': {'completion_tokens': 21, 'prompt_tokens': 152, 'total_tokens': 173}, 'model_name': 'gpt-3.5-turbo-0125', 'system_fingerprint': None, 'finish_reason': 'tool_calls', 'logprobs': None}, id='run-3922035f-9554-48a5-8744-4aa74796b4b7-0', tool_calls=[{'name': 'tavily_search_results_json', 'args': {'query': 'weather in Los Angeles'}, 'id': 'call_66C5b38T5eAMsfZC5Tdw9fW4'}], usage_metadata={'input_tokens': 152, 'output_tokens': 21, 'total_tokens': 173})]}, next=('action',), config={'configurable': {'thread_id': '3', 'thread_ts': '1ef37b0f-cc06-644a-8001-900de5d3caf5'}}, metadata={'source': 'loop', 'step': 1, 'writes': {'llm': {'messages': [AIMessage(content='', additional_kwargs={'tool_calls': [{'id': 'call_66C5b38T5eAMsfZC5Tdw9fW4', 'function': {'arguments': '{\"query\":\"weather in Los Angeles\"}', 'name': 'tavily_search_results_json'}, 'type': 'function'}]}, response_metadata={'token_usage': {'completion_tokens': 21, 'prompt_tokens': 152, 'total_tokens': 173}, 'model_name': 'gpt-3.5-turbo-0125', 'system_fingerprint': None, 'finish_reason': 'tool_calls', 'logprobs': None}, id='run-3922035f-9554-48a5-8744-4aa74796b4b7-0', tool_calls=[{'name': 'tavily_search_results_json', 'args': {'query': 'weather in Los Angeles'}, 'id': 'call_66C5b38T5eAMsfZC5Tdw9fW4'}], usage_metadata={'input_tokens': 152, 'output_tokens': 21, 'total_tokens': 173})]}}}, created_at='2024-07-01T13:51:16.601322+00:00', parent_config={'configurable': {'thread_id': '3', 'thread_ts': '1ef37b0f-bfd8-67f6-8000-5a619eacdfb1'}})\n",
      "--\n",
      "StateSnapshot(values={'messages': [HumanMessage(content='Whats the weather in LA?', id='32248710-6288-46db-9424-d7eaba79920a')]}, next=('llm',), config={'configurable': {'thread_id': '3', 'thread_ts': '1ef37b0f-bfd8-67f6-8000-5a619eacdfb1'}}, metadata={'source': 'loop', 'step': 0, 'writes': None}, created_at='2024-07-01T13:51:15.324283+00:00', parent_config={'configurable': {'thread_id': '3', 'thread_ts': '1ef37b0f-bfd1-6a80-bfff-133b0352e202'}})\n",
      "--\n",
      "StateSnapshot(values={'messages': []}, next=('__start__',), config={'configurable': {'thread_id': '3', 'thread_ts': '1ef37b0f-bfd1-6a80-bfff-133b0352e202'}}, metadata={'source': 'input', 'step': -1, 'writes': {'messages': [HumanMessage(content='Whats the weather in LA?')]}}, created_at='2024-07-01T13:51:15.321494+00:00', parent_config=None)\n",
      "--\n"
     ]
    }
   ],
   "source": [
    "states = []\n",
    "for state in abot.graph.get_state_history(thread_3):\n",
    "    print(state)\n",
    "    print('--')\n",
    "    states.append(state)"
   ]
  },
  {
   "cell_type": "markdown",
   "id": "f5f5115e-b793-45f0-ab2f-974366e3617e",
   "metadata": {},
   "source": [
    "To fetch the same state as was filmed, the offset below is changed to `-3` from `-1`. This accounts for the initial state `__start__` and the first state that are now stored to state memory with the latest version of software."
   ]
  },
  {
   "cell_type": "code",
   "execution_count": 38,
   "id": "54bb9b89-3864-433e-8799-b8d904f52281",
   "metadata": {},
   "outputs": [],
   "source": [
    "to_replay = states[-3]"
   ]
  },
  {
   "cell_type": "code",
   "execution_count": 39,
   "id": "b7f66e9c-66c7-4f51-9b8e-13d74b085a04",
   "metadata": {},
   "outputs": [
    {
     "data": {
      "text/plain": [
       "StateSnapshot(values={'messages': [HumanMessage(content='Whats the weather in LA?', id='32248710-6288-46db-9424-d7eaba79920a'), AIMessage(content='', additional_kwargs={'tool_calls': [{'id': 'call_66C5b38T5eAMsfZC5Tdw9fW4', 'function': {'arguments': '{\"query\":\"weather in Los Angeles\"}', 'name': 'tavily_search_results_json'}, 'type': 'function'}]}, response_metadata={'token_usage': {'completion_tokens': 21, 'prompt_tokens': 152, 'total_tokens': 173}, 'model_name': 'gpt-3.5-turbo-0125', 'system_fingerprint': None, 'finish_reason': 'tool_calls', 'logprobs': None}, id='run-3922035f-9554-48a5-8744-4aa74796b4b7-0', tool_calls=[{'name': 'tavily_search_results_json', 'args': {'query': 'weather in Los Angeles'}, 'id': 'call_66C5b38T5eAMsfZC5Tdw9fW4'}], usage_metadata={'input_tokens': 152, 'output_tokens': 21, 'total_tokens': 173})]}, next=('action',), config={'configurable': {'thread_id': '3', 'thread_ts': '1ef37b0f-cc06-644a-8001-900de5d3caf5'}}, metadata={'source': 'loop', 'step': 1, 'writes': {'llm': {'messages': [AIMessage(content='', additional_kwargs={'tool_calls': [{'id': 'call_66C5b38T5eAMsfZC5Tdw9fW4', 'function': {'arguments': '{\"query\":\"weather in Los Angeles\"}', 'name': 'tavily_search_results_json'}, 'type': 'function'}]}, response_metadata={'token_usage': {'completion_tokens': 21, 'prompt_tokens': 152, 'total_tokens': 173}, 'model_name': 'gpt-3.5-turbo-0125', 'system_fingerprint': None, 'finish_reason': 'tool_calls', 'logprobs': None}, id='run-3922035f-9554-48a5-8744-4aa74796b4b7-0', tool_calls=[{'name': 'tavily_search_results_json', 'args': {'query': 'weather in Los Angeles'}, 'id': 'call_66C5b38T5eAMsfZC5Tdw9fW4'}], usage_metadata={'input_tokens': 152, 'output_tokens': 21, 'total_tokens': 173})]}}}, created_at='2024-07-01T13:51:16.601322+00:00', parent_config={'configurable': {'thread_id': '3', 'thread_ts': '1ef37b0f-bfd8-67f6-8000-5a619eacdfb1'}})"
      ]
     },
     "execution_count": 39,
     "metadata": {},
     "output_type": "execute_result"
    }
   ],
   "source": [
    "to_replay"
   ]
  },
  {
   "cell_type": "code",
   "execution_count": 40,
   "id": "94f020f3-d286-4f15-8e01-ffa7644b8af7",
   "metadata": {},
   "outputs": [
    {
     "data": {
      "text/plain": [
       "{'configurable': {'thread_id': '3',\n",
       "  'thread_ts': '1ef37b0f-cc06-644a-8001-900de5d3caf5'}}"
      ]
     },
     "execution_count": 40,
     "metadata": {},
     "output_type": "execute_result"
    }
   ],
   "source": [
    "to_replay.config"
   ]
  },
  {
   "cell_type": "code",
   "execution_count": 41,
   "id": "6d7aa846-36d3-403d-a196-2d2b8ab6fbed",
   "metadata": {},
   "outputs": [
    {
     "name": "stdout",
     "output_type": "stream",
     "text": [
      "Calling: {'name': 'tavily_search_results_json', 'args': {'query': 'weather in Los Angeles'}, 'id': 'call_66C5b38T5eAMsfZC5Tdw9fW4'}\n",
      "Back to the model!\n",
      "{'messages': [ToolMessage(content='[{\\'url\\': \\'https://www.weatherapi.com/\\', \\'content\\': \"{\\'location\\': {\\'name\\': \\'Los Angeles\\', \\'region\\': \\'California\\', \\'country\\': \\'United States of America\\', \\'lat\\': 34.05, \\'lon\\': -118.24, \\'tz_id\\': \\'America/Los_Angeles\\', \\'localtime_epoch\\': 1719842676, \\'localtime\\': \\'2024-07-01 7:04\\'}, \\'current\\': {\\'last_updated_epoch\\': 1719842400, \\'last_updated\\': \\'2024-07-01 07:00\\', \\'temp_c\\': 18.9, \\'temp_f\\': 66.0, \\'is_day\\': 1, \\'condition\\': {\\'text\\': \\'Overcast\\', \\'icon\\': \\'//cdn.weatherapi.com/weather/64x64/day/122.png\\', \\'code\\': 1009}, \\'wind_mph\\': 2.2, \\'wind_kph\\': 3.6, \\'wind_degree\\': 10, \\'wind_dir\\': \\'N\\', \\'pressure_mb\\': 1013.0, \\'pressure_in\\': 29.9, \\'precip_mm\\': 0.0, \\'precip_in\\': 0.0, \\'humidity\\': 84, \\'cloud\\': 100, \\'feelslike_c\\': 18.9, \\'feelslike_f\\': 66.0, \\'windchill_c\\': 22.0, \\'windchill_f\\': 71.5, \\'heatindex_c\\': 23.7, \\'heatindex_f\\': 74.6, \\'dewpoint_c\\': 12.9, \\'dewpoint_f\\': 55.3, \\'vis_km\\': 14.0, \\'vis_miles\\': 8.0, \\'uv\\': 6.0, \\'gust_mph\\': 3.0, \\'gust_kph\\': 4.8}}\"}, {\\'url\\': \\'https://www.timeanddate.com/weather/usa/los-angeles/historic?month=1&year=2024\\', \\'content\\': \\'Weather reports from January 2024 in Los Angeles, California, USA with highs and lows. Sign in. News. News Home; ... January 2024 Weather in Los Angeles — Graph °F. See Hour-by-hour Forecast for upcoming weather. ... 30.07 \"Hg: 10 mi: 4:53 pm: 64 °F: Sunny.\\'}]', name='tavily_search_results_json', tool_call_id='call_66C5b38T5eAMsfZC5Tdw9fW4')]}\n",
      "{'messages': [HumanMessage(content='Whats the weather in LA?', id='32248710-6288-46db-9424-d7eaba79920a'), AIMessage(content='', additional_kwargs={'tool_calls': [{'id': 'call_66C5b38T5eAMsfZC5Tdw9fW4', 'function': {'arguments': '{\"query\":\"weather in Los Angeles\"}', 'name': 'tavily_search_results_json'}, 'type': 'function'}]}, response_metadata={'token_usage': {'completion_tokens': 21, 'prompt_tokens': 152, 'total_tokens': 173}, 'model_name': 'gpt-3.5-turbo-0125', 'system_fingerprint': None, 'finish_reason': 'tool_calls', 'logprobs': None}, id='run-3922035f-9554-48a5-8744-4aa74796b4b7-0', tool_calls=[{'name': 'tavily_search_results_json', 'args': {'query': 'weather in Los Angeles'}, 'id': 'call_66C5b38T5eAMsfZC5Tdw9fW4'}], usage_metadata={'input_tokens': 152, 'output_tokens': 21, 'total_tokens': 173}), ToolMessage(content='[{\\'url\\': \\'https://www.weatherapi.com/\\', \\'content\\': \"{\\'location\\': {\\'name\\': \\'Los Angeles\\', \\'region\\': \\'California\\', \\'country\\': \\'United States of America\\', \\'lat\\': 34.05, \\'lon\\': -118.24, \\'tz_id\\': \\'America/Los_Angeles\\', \\'localtime_epoch\\': 1719842676, \\'localtime\\': \\'2024-07-01 7:04\\'}, \\'current\\': {\\'last_updated_epoch\\': 1719842400, \\'last_updated\\': \\'2024-07-01 07:00\\', \\'temp_c\\': 18.9, \\'temp_f\\': 66.0, \\'is_day\\': 1, \\'condition\\': {\\'text\\': \\'Overcast\\', \\'icon\\': \\'//cdn.weatherapi.com/weather/64x64/day/122.png\\', \\'code\\': 1009}, \\'wind_mph\\': 2.2, \\'wind_kph\\': 3.6, \\'wind_degree\\': 10, \\'wind_dir\\': \\'N\\', \\'pressure_mb\\': 1013.0, \\'pressure_in\\': 29.9, \\'precip_mm\\': 0.0, \\'precip_in\\': 0.0, \\'humidity\\': 84, \\'cloud\\': 100, \\'feelslike_c\\': 18.9, \\'feelslike_f\\': 66.0, \\'windchill_c\\': 22.0, \\'windchill_f\\': 71.5, \\'heatindex_c\\': 23.7, \\'heatindex_f\\': 74.6, \\'dewpoint_c\\': 12.9, \\'dewpoint_f\\': 55.3, \\'vis_km\\': 14.0, \\'vis_miles\\': 8.0, \\'uv\\': 6.0, \\'gust_mph\\': 3.0, \\'gust_kph\\': 4.8}}\"}, {\\'url\\': \\'https://www.timeanddate.com/weather/usa/los-angeles/historic?month=1&year=2024\\', \\'content\\': \\'Weather reports from January 2024 in Los Angeles, California, USA with highs and lows. Sign in. News. News Home; ... January 2024 Weather in Los Angeles — Graph °F. See Hour-by-hour Forecast for upcoming weather. ... 30.07 \"Hg: 10 mi: 4:53 pm: 64 °F: Sunny.\\'}]', name='tavily_search_results_json', id='82721a65-e439-4bc4-95cd-98634b4a0903', tool_call_id='call_66C5b38T5eAMsfZC5Tdw9fW4'), AIMessage(content='The current weather in Los Angeles is overcast with a temperature of 66.0°F (18.9°C). The humidity is at 84%, and the wind is coming from the north at 2.2 mph (3.6 km/h). The visibility is 8.0 miles, and the UV index is 6.0.', response_metadata={'token_usage': {'completion_tokens': 72, 'prompt_tokens': 705, 'total_tokens': 777}, 'model_name': 'gpt-3.5-turbo-0125', 'system_fingerprint': None, 'finish_reason': 'stop', 'logprobs': None}, id='run-0ea5a0c1-63e7-438c-88d7-553046440bf5-0', usage_metadata={'input_tokens': 705, 'output_tokens': 72, 'total_tokens': 777})]}\n",
      "{'messages': [AIMessage(content='The current weather in Los Angeles is overcast with a temperature of 66.0°F (18.9°C). The humidity is at 84%, and the wind is coming from the north at 2.2 mph (3.6 km/h). The visibility is 8.0 miles, and the UV index is 6.0.', response_metadata={'token_usage': {'completion_tokens': 72, 'prompt_tokens': 705, 'total_tokens': 777}, 'model_name': 'gpt-3.5-turbo-0125', 'system_fingerprint': None, 'finish_reason': 'stop', 'logprobs': None}, id='run-0ea5a0c1-63e7-438c-88d7-553046440bf5-0', usage_metadata={'input_tokens': 705, 'output_tokens': 72, 'total_tokens': 777})]}\n"
     ]
    }
   ],
   "source": [
    "last_event_value = None\n",
    "for event in abot.graph.stream(None, to_replay.config):\n",
    "    for k, v in event.items():\n",
    "        print(v)\n",
    "        last_event_value = v"
   ]
  },
  {
   "cell_type": "code",
   "execution_count": 42,
   "id": "54f74df8-b595-40b1-b099-2fc84854054e",
   "metadata": {},
   "outputs": [
    {
     "name": "stdout",
     "output_type": "stream",
     "text": [
      "<class 'langchain_core.messages.ai.AIMessage'>: The current weather in Los Angeles is overcast with a temperature of 66.0°F (18.9°C). The humidity is at 84%, and the wind is coming from the north at 2.2 mph (3.6 km/h). The visibility is 8.0 miles, and the UV index is 6.0.\n"
     ]
    }
   ],
   "source": [
    "message = last_event_value['messages'][-1]\n",
    "print(f'{message.__class__}: {message.content}')"
   ]
  },
  {
   "cell_type": "markdown",
   "id": "0820d275-9143-4053-a9cd-a7f4bc8d7a7b",
   "metadata": {},
   "source": [
    "### <b><font color='darkgreen'>Go back in time and edit</font></b>"
   ]
  },
  {
   "cell_type": "code",
   "execution_count": 43,
   "id": "68274c3e-9111-430d-9424-592080e8dad4",
   "metadata": {},
   "outputs": [
    {
     "data": {
      "text/plain": [
       "StateSnapshot(values={'messages': [HumanMessage(content='Whats the weather in LA?', id='32248710-6288-46db-9424-d7eaba79920a'), AIMessage(content='', additional_kwargs={'tool_calls': [{'id': 'call_66C5b38T5eAMsfZC5Tdw9fW4', 'function': {'arguments': '{\"query\":\"weather in Los Angeles\"}', 'name': 'tavily_search_results_json'}, 'type': 'function'}]}, response_metadata={'token_usage': {'completion_tokens': 21, 'prompt_tokens': 152, 'total_tokens': 173}, 'model_name': 'gpt-3.5-turbo-0125', 'system_fingerprint': None, 'finish_reason': 'tool_calls', 'logprobs': None}, id='run-3922035f-9554-48a5-8744-4aa74796b4b7-0', tool_calls=[{'name': 'tavily_search_results_json', 'args': {'query': 'weather in Los Angeles'}, 'id': 'call_66C5b38T5eAMsfZC5Tdw9fW4'}], usage_metadata={'input_tokens': 152, 'output_tokens': 21, 'total_tokens': 173})]}, next=('action',), config={'configurable': {'thread_id': '3', 'thread_ts': '1ef37b0f-cc06-644a-8001-900de5d3caf5'}}, metadata={'source': 'loop', 'step': 1, 'writes': {'llm': {'messages': [AIMessage(content='', additional_kwargs={'tool_calls': [{'id': 'call_66C5b38T5eAMsfZC5Tdw9fW4', 'function': {'arguments': '{\"query\":\"weather in Los Angeles\"}', 'name': 'tavily_search_results_json'}, 'type': 'function'}]}, response_metadata={'token_usage': {'completion_tokens': 21, 'prompt_tokens': 152, 'total_tokens': 173}, 'model_name': 'gpt-3.5-turbo-0125', 'system_fingerprint': None, 'finish_reason': 'tool_calls', 'logprobs': None}, id='run-3922035f-9554-48a5-8744-4aa74796b4b7-0', tool_calls=[{'name': 'tavily_search_results_json', 'args': {'query': 'weather in Los Angeles'}, 'id': 'call_66C5b38T5eAMsfZC5Tdw9fW4'}], usage_metadata={'input_tokens': 152, 'output_tokens': 21, 'total_tokens': 173})]}}}, created_at='2024-07-01T13:51:16.601322+00:00', parent_config={'configurable': {'thread_id': '3', 'thread_ts': '1ef37b0f-bfd8-67f6-8000-5a619eacdfb1'}})"
      ]
     },
     "execution_count": 43,
     "metadata": {},
     "output_type": "execute_result"
    }
   ],
   "source": [
    "to_replay"
   ]
  },
  {
   "cell_type": "code",
   "execution_count": 44,
   "id": "c5211974-f7df-494a-b398-7f53cc035e9f",
   "metadata": {},
   "outputs": [
    {
     "data": {
      "text/plain": [
       "'call_66C5b38T5eAMsfZC5Tdw9fW4'"
      ]
     },
     "execution_count": 44,
     "metadata": {},
     "output_type": "execute_result"
    }
   ],
   "source": [
    "_id = to_replay.values['messages'][-1].tool_calls[0]['id']\n",
    "_id"
   ]
  },
  {
   "cell_type": "code",
   "execution_count": 45,
   "id": "1cbc7a31-ddad-47fa-a8bd-a5cb382403ce",
   "metadata": {},
   "outputs": [
    {
     "data": {
      "text/plain": [
       "[{'name': 'tavily_search_results_json',\n",
       "  'args': {'query': 'weather in Los Angeles'},\n",
       "  'id': 'call_66C5b38T5eAMsfZC5Tdw9fW4'}]"
      ]
     },
     "execution_count": 45,
     "metadata": {},
     "output_type": "execute_result"
    }
   ],
   "source": [
    "to_replay.values['messages'][-1].tool_calls"
   ]
  },
  {
   "cell_type": "code",
   "execution_count": 46,
   "id": "1c4e14c0-1b91-4281-9ba7-de707ccac8ed",
   "metadata": {},
   "outputs": [],
   "source": [
    "# Change query from 'weather in Los Angeles' to be 'current weather in LA, accuweather'\n",
    "to_replay.values['messages'][-1].tool_calls = [{'name': 'tavily_search_results_json',\n",
    "  'args': {'query': 'current weather in LA, accuweather'},\n",
    "  'id': _id}]"
   ]
  },
  {
   "cell_type": "code",
   "execution_count": 47,
   "id": "68aa6113-6fcf-4b27-bde4-ff9f6bdcf6ad",
   "metadata": {},
   "outputs": [
    {
     "name": "stdout",
     "output_type": "stream",
     "text": [
      "{'messages': [HumanMessage(content='Whats the weather in LA?', id='32248710-6288-46db-9424-d7eaba79920a'), AIMessage(content='', additional_kwargs={'tool_calls': [{'id': 'call_66C5b38T5eAMsfZC5Tdw9fW4', 'function': {'arguments': '{\"query\":\"weather in Los Angeles\"}', 'name': 'tavily_search_results_json'}, 'type': 'function'}]}, response_metadata={'token_usage': {'completion_tokens': 21, 'prompt_tokens': 152, 'total_tokens': 173}, 'model_name': 'gpt-3.5-turbo-0125', 'system_fingerprint': None, 'finish_reason': 'tool_calls', 'logprobs': None}, id='run-3922035f-9554-48a5-8744-4aa74796b4b7-0', tool_calls=[{'name': 'tavily_search_results_json', 'args': {'query': 'current weather in LA, accuweather'}, 'id': 'call_66C5b38T5eAMsfZC5Tdw9fW4'}], usage_metadata={'input_tokens': 152, 'output_tokens': 21, 'total_tokens': 173})]}\n"
     ]
    }
   ],
   "source": [
    "branch_state = abot.graph.update_state(to_replay.config, to_replay.values)"
   ]
  },
  {
   "cell_type": "code",
   "execution_count": 48,
   "id": "9a5cc47e-25ba-4afe-bf40-89842d1f6af2",
   "metadata": {},
   "outputs": [
    {
     "name": "stdout",
     "output_type": "stream",
     "text": [
      "Calling: {'name': 'tavily_search_results_json', 'args': {'query': 'current weather in LA, accuweather'}, 'id': 'call_66C5b38T5eAMsfZC5Tdw9fW4'}\n",
      "Back to the model!\n",
      "{'messages': [ToolMessage(content='[{\\'url\\': \\'https://www.weatherapi.com/\\', \\'content\\': \"{\\'location\\': {\\'name\\': \\'Los Angeles\\', \\'region\\': \\'California\\', \\'country\\': \\'United States of America\\', \\'lat\\': 34.05, \\'lon\\': -118.24, \\'tz_id\\': \\'America/Los_Angeles\\', \\'localtime_epoch\\': 1719843131, \\'localtime\\': \\'2024-07-01 7:12\\'}, \\'current\\': {\\'last_updated_epoch\\': 1719842400, \\'last_updated\\': \\'2024-07-01 07:00\\', \\'temp_c\\': 18.9, \\'temp_f\\': 66.0, \\'is_day\\': 1, \\'condition\\': {\\'text\\': \\'Overcast\\', \\'icon\\': \\'//cdn.weatherapi.com/weather/64x64/day/122.png\\', \\'code\\': 1009}, \\'wind_mph\\': 2.2, \\'wind_kph\\': 3.6, \\'wind_degree\\': 10, \\'wind_dir\\': \\'N\\', \\'pressure_mb\\': 1013.0, \\'pressure_in\\': 29.9, \\'precip_mm\\': 0.0, \\'precip_in\\': 0.0, \\'humidity\\': 84, \\'cloud\\': 100, \\'feelslike_c\\': 18.9, \\'feelslike_f\\': 66.0, \\'windchill_c\\': 22.0, \\'windchill_f\\': 71.5, \\'heatindex_c\\': 23.7, \\'heatindex_f\\': 74.6, \\'dewpoint_c\\': 12.9, \\'dewpoint_f\\': 55.3, \\'vis_km\\': 14.0, \\'vis_miles\\': 8.0, \\'uv\\': 6.0, \\'gust_mph\\': 3.0, \\'gust_kph\\': 4.8}}\"}, {\\'url\\': \\'https://www.accuweather.com/en/us/los-angeles/90012/weather-forecast/347625\\', \\'content\\': \\'Los Angeles, CA Weather Forecast, with current conditions, wind, air quality, and what to expect for the next 3 days.\\'}]', name='tavily_search_results_json', tool_call_id='call_66C5b38T5eAMsfZC5Tdw9fW4')]}\n",
      "{'messages': [HumanMessage(content='Whats the weather in LA?', id='32248710-6288-46db-9424-d7eaba79920a'), AIMessage(content='', additional_kwargs={'tool_calls': [{'id': 'call_66C5b38T5eAMsfZC5Tdw9fW4', 'function': {'arguments': '{\"query\":\"weather in Los Angeles\"}', 'name': 'tavily_search_results_json'}, 'type': 'function'}]}, response_metadata={'token_usage': {'completion_tokens': 21, 'prompt_tokens': 152, 'total_tokens': 173}, 'model_name': 'gpt-3.5-turbo-0125', 'system_fingerprint': None, 'finish_reason': 'tool_calls', 'logprobs': None}, id='run-3922035f-9554-48a5-8744-4aa74796b4b7-0', tool_calls=[{'name': 'tavily_search_results_json', 'args': {'query': 'current weather in LA, accuweather'}, 'id': 'call_66C5b38T5eAMsfZC5Tdw9fW4'}], usage_metadata={'input_tokens': 152, 'output_tokens': 21, 'total_tokens': 173}), ToolMessage(content='[{\\'url\\': \\'https://www.weatherapi.com/\\', \\'content\\': \"{\\'location\\': {\\'name\\': \\'Los Angeles\\', \\'region\\': \\'California\\', \\'country\\': \\'United States of America\\', \\'lat\\': 34.05, \\'lon\\': -118.24, \\'tz_id\\': \\'America/Los_Angeles\\', \\'localtime_epoch\\': 1719843131, \\'localtime\\': \\'2024-07-01 7:12\\'}, \\'current\\': {\\'last_updated_epoch\\': 1719842400, \\'last_updated\\': \\'2024-07-01 07:00\\', \\'temp_c\\': 18.9, \\'temp_f\\': 66.0, \\'is_day\\': 1, \\'condition\\': {\\'text\\': \\'Overcast\\', \\'icon\\': \\'//cdn.weatherapi.com/weather/64x64/day/122.png\\', \\'code\\': 1009}, \\'wind_mph\\': 2.2, \\'wind_kph\\': 3.6, \\'wind_degree\\': 10, \\'wind_dir\\': \\'N\\', \\'pressure_mb\\': 1013.0, \\'pressure_in\\': 29.9, \\'precip_mm\\': 0.0, \\'precip_in\\': 0.0, \\'humidity\\': 84, \\'cloud\\': 100, \\'feelslike_c\\': 18.9, \\'feelslike_f\\': 66.0, \\'windchill_c\\': 22.0, \\'windchill_f\\': 71.5, \\'heatindex_c\\': 23.7, \\'heatindex_f\\': 74.6, \\'dewpoint_c\\': 12.9, \\'dewpoint_f\\': 55.3, \\'vis_km\\': 14.0, \\'vis_miles\\': 8.0, \\'uv\\': 6.0, \\'gust_mph\\': 3.0, \\'gust_kph\\': 4.8}}\"}, {\\'url\\': \\'https://www.accuweather.com/en/us/los-angeles/90012/weather-forecast/347625\\', \\'content\\': \\'Los Angeles, CA Weather Forecast, with current conditions, wind, air quality, and what to expect for the next 3 days.\\'}]', name='tavily_search_results_json', id='47cde49a-592b-493a-8684-07984050045d', tool_call_id='call_66C5b38T5eAMsfZC5Tdw9fW4'), AIMessage(content='The current weather in Los Angeles is overcast with a temperature of 66.0°F (18.9°C). The wind speed is 3.6 km/h coming from the north. The humidity is at 84%, and the visibility is 8.0 miles.', response_metadata={'token_usage': {'completion_tokens': 57, 'prompt_tokens': 656, 'total_tokens': 713}, 'model_name': 'gpt-3.5-turbo-0125', 'system_fingerprint': None, 'finish_reason': 'stop', 'logprobs': None}, id='run-8becbad6-e254-45e8-a079-5bd98cddd2ed-0', usage_metadata={'input_tokens': 656, 'output_tokens': 57, 'total_tokens': 713})]}\n",
      "{'messages': [AIMessage(content='The current weather in Los Angeles is overcast with a temperature of 66.0°F (18.9°C). The wind speed is 3.6 km/h coming from the north. The humidity is at 84%, and the visibility is 8.0 miles.', response_metadata={'token_usage': {'completion_tokens': 57, 'prompt_tokens': 656, 'total_tokens': 713}, 'model_name': 'gpt-3.5-turbo-0125', 'system_fingerprint': None, 'finish_reason': 'stop', 'logprobs': None}, id='run-8becbad6-e254-45e8-a079-5bd98cddd2ed-0', usage_metadata={'input_tokens': 656, 'output_tokens': 57, 'total_tokens': 713})]}\n"
     ]
    }
   ],
   "source": [
    "last_event_value = None\n",
    "for event in abot.graph.stream(None, branch_state):\n",
    "    for k, v in event.items():\n",
    "        if k != \"__end__\":\n",
    "            print(v)\n",
    "            last_event_value = v"
   ]
  },
  {
   "cell_type": "code",
   "execution_count": 49,
   "id": "10546294-3524-4796-b0c1-cbd3f5c34814",
   "metadata": {},
   "outputs": [
    {
     "name": "stdout",
     "output_type": "stream",
     "text": [
      "<class 'langchain_core.messages.ai.AIMessage'>: The current weather in Los Angeles is overcast with a temperature of 66.0°F (18.9°C). The wind speed is 3.6 km/h coming from the north. The humidity is at 84%, and the visibility is 8.0 miles.\n"
     ]
    }
   ],
   "source": [
    "message = last_event_value['messages'][-1]\n",
    "print(f'{message.__class__}: {message.content}')"
   ]
  },
  {
   "cell_type": "markdown",
   "id": "eb7e687e-834f-4761-a86f-c1d2d4c8e932",
   "metadata": {},
   "source": [
    "### <b><font color='darkgreen'>Add message to a state at a given time</font></b>"
   ]
  },
  {
   "cell_type": "code",
   "execution_count": 50,
   "id": "a5d9106f-7e50-49b5-9856-429f1b250b24",
   "metadata": {},
   "outputs": [
    {
     "data": {
      "text/plain": [
       "StateSnapshot(values={'messages': [HumanMessage(content='Whats the weather in LA?', id='32248710-6288-46db-9424-d7eaba79920a'), AIMessage(content='', additional_kwargs={'tool_calls': [{'id': 'call_66C5b38T5eAMsfZC5Tdw9fW4', 'function': {'arguments': '{\"query\":\"weather in Los Angeles\"}', 'name': 'tavily_search_results_json'}, 'type': 'function'}]}, response_metadata={'token_usage': {'completion_tokens': 21, 'prompt_tokens': 152, 'total_tokens': 173}, 'model_name': 'gpt-3.5-turbo-0125', 'system_fingerprint': None, 'finish_reason': 'tool_calls', 'logprobs': None}, id='run-3922035f-9554-48a5-8744-4aa74796b4b7-0', tool_calls=[{'name': 'tavily_search_results_json', 'args': {'query': 'current weather in LA, accuweather'}, 'id': 'call_66C5b38T5eAMsfZC5Tdw9fW4'}], usage_metadata={'input_tokens': 152, 'output_tokens': 21, 'total_tokens': 173})]}, next=('action',), config={'configurable': {'thread_id': '3', 'thread_ts': '1ef37b0f-cc06-644a-8001-900de5d3caf5'}}, metadata={'source': 'loop', 'step': 1, 'writes': {'llm': {'messages': [AIMessage(content='', additional_kwargs={'tool_calls': [{'id': 'call_66C5b38T5eAMsfZC5Tdw9fW4', 'function': {'arguments': '{\"query\":\"weather in Los Angeles\"}', 'name': 'tavily_search_results_json'}, 'type': 'function'}]}, response_metadata={'token_usage': {'completion_tokens': 21, 'prompt_tokens': 152, 'total_tokens': 173}, 'model_name': 'gpt-3.5-turbo-0125', 'system_fingerprint': None, 'finish_reason': 'tool_calls', 'logprobs': None}, id='run-3922035f-9554-48a5-8744-4aa74796b4b7-0', tool_calls=[{'name': 'tavily_search_results_json', 'args': {'query': 'weather in Los Angeles'}, 'id': 'call_66C5b38T5eAMsfZC5Tdw9fW4'}], usage_metadata={'input_tokens': 152, 'output_tokens': 21, 'total_tokens': 173})]}}}, created_at='2024-07-01T13:51:16.601322+00:00', parent_config={'configurable': {'thread_id': '3', 'thread_ts': '1ef37b0f-bfd8-67f6-8000-5a619eacdfb1'}})"
      ]
     },
     "execution_count": 50,
     "metadata": {},
     "output_type": "execute_result"
    }
   ],
   "source": [
    "to_replay"
   ]
  },
  {
   "cell_type": "code",
   "execution_count": 51,
   "id": "258998e2-fffd-476e-9f50-d91cb0cacb2e",
   "metadata": {},
   "outputs": [],
   "source": [
    "_id = to_replay.values['messages'][-1].tool_calls[0]['id']"
   ]
  },
  {
   "cell_type": "code",
   "execution_count": 52,
   "id": "37df3685-ef4c-4046-968c-f701e1fd59da",
   "metadata": {},
   "outputs": [],
   "source": [
    "state_update = {\"messages\": [ToolMessage(\n",
    "    tool_call_id=_id,\n",
    "    name=\"tavily_search_results_json\",\n",
    "    content=\"54 degree celcius\",\n",
    ")]}"
   ]
  },
  {
   "cell_type": "code",
   "execution_count": 53,
   "id": "46d306f8-3758-46f4-bf80-24860340d956",
   "metadata": {},
   "outputs": [],
   "source": [
    "branch_and_add = abot.graph.update_state(\n",
    "    to_replay.config, \n",
    "    state_update, \n",
    "    as_node=\"action\")"
   ]
  },
  {
   "cell_type": "code",
   "execution_count": 54,
   "id": "89f4b737-5d01-4a7a-94db-ae9925be6ec2",
   "metadata": {},
   "outputs": [
    {
     "name": "stdout",
     "output_type": "stream",
     "text": [
      "{'messages': [HumanMessage(content='Whats the weather in LA?', id='32248710-6288-46db-9424-d7eaba79920a'), AIMessage(content='', additional_kwargs={'tool_calls': [{'id': 'call_66C5b38T5eAMsfZC5Tdw9fW4', 'function': {'arguments': '{\"query\":\"weather in Los Angeles\"}', 'name': 'tavily_search_results_json'}, 'type': 'function'}]}, response_metadata={'token_usage': {'completion_tokens': 21, 'prompt_tokens': 152, 'total_tokens': 173}, 'model_name': 'gpt-3.5-turbo-0125', 'system_fingerprint': None, 'finish_reason': 'tool_calls', 'logprobs': None}, id='run-3922035f-9554-48a5-8744-4aa74796b4b7-0', tool_calls=[{'name': 'tavily_search_results_json', 'args': {'query': 'weather in Los Angeles'}, 'id': 'call_66C5b38T5eAMsfZC5Tdw9fW4'}], usage_metadata={'input_tokens': 152, 'output_tokens': 21, 'total_tokens': 173}), ToolMessage(content='54 degree celcius', name='tavily_search_results_json', id='7bec14ca-e4ee-4272-ac31-1bbc7759692a', tool_call_id='call_66C5b38T5eAMsfZC5Tdw9fW4'), AIMessage(content='The weather in Los Angeles is 54 degrees Celsius.', response_metadata={'token_usage': {'completion_tokens': 12, 'prompt_tokens': 190, 'total_tokens': 202}, 'model_name': 'gpt-3.5-turbo-0125', 'system_fingerprint': None, 'finish_reason': 'stop', 'logprobs': None}, id='run-38528fe7-6940-4574-bc82-ded7750a9005-0', usage_metadata={'input_tokens': 190, 'output_tokens': 12, 'total_tokens': 202})]}\n",
      "{'messages': [AIMessage(content='The weather in Los Angeles is 54 degrees Celsius.', response_metadata={'token_usage': {'completion_tokens': 12, 'prompt_tokens': 190, 'total_tokens': 202}, 'model_name': 'gpt-3.5-turbo-0125', 'system_fingerprint': None, 'finish_reason': 'stop', 'logprobs': None}, id='run-38528fe7-6940-4574-bc82-ded7750a9005-0', usage_metadata={'input_tokens': 190, 'output_tokens': 12, 'total_tokens': 202})]}\n"
     ]
    }
   ],
   "source": [
    "last_event_value = None\n",
    "for event in abot.graph.stream(None, branch_and_add):\n",
    "    for k, v in event.items():\n",
    "        print(v)\n",
    "        last_event_value = v"
   ]
  },
  {
   "cell_type": "code",
   "execution_count": 55,
   "id": "d535da2e-8309-4ddb-a527-e78755feac21",
   "metadata": {},
   "outputs": [
    {
     "name": "stdout",
     "output_type": "stream",
     "text": [
      "<class 'langchain_core.messages.ai.AIMessage'>: The weather in Los Angeles is 54 degrees Celsius.\n"
     ]
    }
   ],
   "source": [
    "message = last_event_value['messages'][-1]\n",
    "print(f'{message.__class__}: {message.content}')"
   ]
  },
  {
   "cell_type": "markdown",
   "id": "ccf5a405-6977-4422-8258-6f705ae1c4ec",
   "metadata": {},
   "source": [
    "## <b><font color='darkblue'>Extra Practice</font></b>"
   ]
  },
  {
   "cell_type": "markdown",
   "id": "b3ea1582-7c5f-405a-8c39-5b518d70feb3",
   "metadata": {},
   "source": [
    "### <b><font color='darkgreen'>Build a small graph</font></b>\n",
    "<b><font size='3ptx'>This is a small simple graph you can tinker with if you want more insight into controlling state memory.</font></b>\n",
    "\n",
    "Define a simple 2 node graph with the following state: -lnode: last node -scratch: a scratchpad location -count : a counter that is incremented each step"
   ]
  },
  {
   "cell_type": "code",
   "execution_count": 56,
   "id": "84617ba2-94ba-4663-9054-11712b06bb4a",
   "metadata": {},
   "outputs": [],
   "source": [
    "class AgentState(TypedDict):\n",
    "    lnode: str\n",
    "    scratch: str\n",
    "    count: Annotated[int, operator.add]"
   ]
  },
  {
   "cell_type": "code",
   "execution_count": 57,
   "id": "1b9263fc-992b-43b2-9b0d-ee7e0c09fadb",
   "metadata": {},
   "outputs": [],
   "source": [
    "def node1(state: AgentState):\n",
    "    print(f\"node1, count:{state['count']}\")\n",
    "    return {\n",
    "        \"lnode\": \"node_1\",\n",
    "        \"count\": 1,\n",
    "    }\n",
    "    \n",
    "def node2(state: AgentState):\n",
    "    print(f\"node2, count:{state['count']}\")\n",
    "    return {\n",
    "        \"lnode\": \"node_2\",\n",
    "        \"count\": 1,\n",
    "    }"
   ]
  },
  {
   "cell_type": "markdown",
   "id": "712ef9dc-5dd0-400d-a7d1-5f6ccc1bc244",
   "metadata": {},
   "source": [
    "The graph goes `N1->N2->N1...` but breaks after count reaches 3."
   ]
  },
  {
   "cell_type": "code",
   "execution_count": 58,
   "id": "46d9dcd7-9aa5-4ff6-a558-a3c477139a70",
   "metadata": {},
   "outputs": [],
   "source": [
    "def should_continue(state):\n",
    "    return state[\"count\"] < 3"
   ]
  },
  {
   "cell_type": "code",
   "execution_count": 59,
   "id": "a6e8e64c-8c9a-4491-b272-a326cd6d653e",
   "metadata": {},
   "outputs": [],
   "source": [
    "builder = StateGraph(AgentState)\n",
    "builder.add_node(\"Node1\", node1)\n",
    "builder.add_node(\"Node2\", node2)\n",
    "\n",
    "builder.add_edge(\"Node1\", \"Node2\")\n",
    "builder.add_conditional_edges(\n",
    "    \"Node2\", \n",
    "    should_continue, \n",
    "    {True: \"Node1\", False: END})\n",
    "\n",
    "builder.set_entry_point(\"Node1\")"
   ]
  },
  {
   "cell_type": "code",
   "execution_count": 60,
   "id": "1ca8019b-6d68-458c-8002-2f578cf7bac4",
   "metadata": {},
   "outputs": [],
   "source": [
    "memory = SqliteSaver.from_conn_string(\":memory:\")\n",
    "graph = builder.compile(checkpointer=memory)"
   ]
  },
  {
   "cell_type": "code",
   "execution_count": 62,
   "id": "0ec09cb3-cec7-4b97-a781-d87e216064a4",
   "metadata": {},
   "outputs": [
    {
     "data": {
      "image/png": "[encoded data removed]",
      "text/plain": [
       "<IPython.core.display.Image object>"
      ]
     },
     "execution_count": 62,
     "metadata": {},
     "output_type": "execute_result"
    }
   ],
   "source": [
    "from IPython.display import Image\n",
    "\n",
    "Image(graph.get_graph().draw_png())"
   ]
  },
  {
   "cell_type": "markdown",
   "id": "c9a526f5-f9c7-4752-bc6b-1184c05672d3",
   "metadata": {},
   "source": [
    "### <b><font color='darkgreen'>Run it!</font></b>\n",
    "Now, set the thread and run!"
   ]
  },
  {
   "cell_type": "code",
   "execution_count": 63,
   "id": "565b6aca-600a-4032-9e90-290393565b8a",
   "metadata": {},
   "outputs": [
    {
     "name": "stdout",
     "output_type": "stream",
     "text": [
      "node1, count:0\n",
      "node2, count:1\n",
      "node1, count:2\n",
      "node2, count:3\n"
     ]
    },
    {
     "data": {
      "text/plain": [
       "{'lnode': 'node_2', 'scratch': 'Hi', 'count': 4}"
      ]
     },
     "execution_count": 63,
     "metadata": {},
     "output_type": "execute_result"
    }
   ],
   "source": [
    "thread = {\"configurable\": {\"thread_id\": str(1)}}\n",
    "graph.invoke({\"count\":0, \"scratch\":\"Hi\"}, thread)"
   ]
  },
  {
   "cell_type": "markdown",
   "id": "2649925d-5fc3-49c4-86c7-7b84ddb4a087",
   "metadata": {},
   "source": [
    "### <b><font color='darkgreen'>Look at current state</font></b>\n",
    "Get the current state. Note the `values` which are the <b><font color='blue'>AgentState</font></b>. Note the `config` and the `thread_ts`. You will be using those to refer to snapshots below."
   ]
  },
  {
   "cell_type": "code",
   "execution_count": 66,
   "id": "f1d6ad95-f320-4c9e-942e-a77c328f3b6d",
   "metadata": {},
   "outputs": [
    {
     "data": {
      "text/plain": [
       "StateSnapshot(values={'lnode': 'node_2', 'scratch': 'Hi', 'count': 4}, next=(), config={'configurable': {'thread_id': '1', 'thread_ts': '1ef380c6-462c-6239-8004-be179297b12e'}}, metadata={'source': 'loop', 'step': 4, 'writes': {'Node2': {'lnode': 'node_2', 'count': 1}}}, created_at='2024-07-02T00:45:34.673144+00:00', parent_config={'configurable': {'thread_id': '1', 'thread_ts': '1ef380c6-4627-6975-8003-3fc86c2d24d8'}})"
      ]
     },
     "execution_count": 66,
     "metadata": {},
     "output_type": "execute_result"
    }
   ],
   "source": [
    "current_state = graph.get_state(thread)\n",
    "current_state"
   ]
  },
  {
   "cell_type": "code",
   "execution_count": 67,
   "id": "5e5b79df-23f7-42c5-80eb-0959e682c826",
   "metadata": {},
   "outputs": [
    {
     "data": {
      "text/plain": [
       "()"
      ]
     },
     "execution_count": 67,
     "metadata": {},
     "output_type": "execute_result"
    }
   ],
   "source": [
    "current_state.next"
   ]
  },
  {
   "cell_type": "code",
   "execution_count": 69,
   "id": "0bdbf6a6-30af-4f48-9c30-f5535eae3cfb",
   "metadata": {},
   "outputs": [
    {
     "data": {
      "text/plain": [
       "{'lnode': 'node_2', 'scratch': 'Hi', 'count': 4}"
      ]
     },
     "execution_count": 69,
     "metadata": {},
     "output_type": "execute_result"
    }
   ],
   "source": [
    "current_state.values"
   ]
  },
  {
   "cell_type": "markdown",
   "id": "e8e8f485-fb91-47ed-bafe-306c39ba7edb",
   "metadata": {},
   "source": [
    "View all the statesnapshots in memory. You can use the displayed `count` agentstate variable to help track what you see. Notice the most recent snapshots are returned by the iterator first. Also note that there is a handy `step` variable in the metadata that counts the number of steps in the graph execution. This is a bit detailed - but you can also notice that the `parent_config` is the `config` of the previous node. At initial startup, additional states are inserted into memory to create a parent. This is something to check when you branch or time travel below."
   ]
  },
  {
   "cell_type": "markdown",
   "id": "8e868abf-7120-4144-8d66-38baac9d9fb2",
   "metadata": {},
   "source": [
    "### <b><font color='darkgreen'>Look at state history</font></b>"
   ]
  },
  {
   "cell_type": "code",
   "execution_count": 70,
   "id": "8b6149f8-580b-481b-89bf-876b12674f23",
   "metadata": {},
   "outputs": [
    {
     "name": "stdout",
     "output_type": "stream",
     "text": [
      "StateSnapshot(values={'lnode': 'node_2', 'scratch': 'Hi', 'count': 4}, next=(), config={'configurable': {'thread_id': '1', 'thread_ts': '1ef380c6-462c-6239-8004-be179297b12e'}}, metadata={'source': 'loop', 'step': 4, 'writes': {'Node2': {'lnode': 'node_2', 'count': 1}}}, created_at='2024-07-02T00:45:34.673144+00:00', parent_config={'configurable': {'thread_id': '1', 'thread_ts': '1ef380c6-4627-6975-8003-3fc86c2d24d8'}}) \n",
      "\n",
      "StateSnapshot(values={'lnode': 'node_1', 'scratch': 'Hi', 'count': 3}, next=('Node2',), config={'configurable': {'thread_id': '1', 'thread_ts': '1ef380c6-4627-6975-8003-3fc86c2d24d8'}}, metadata={'source': 'loop', 'step': 3, 'writes': {'Node1': {'lnode': 'node_1', 'count': 1}}}, created_at='2024-07-02T00:45:34.671281+00:00', parent_config={'configurable': {'thread_id': '1', 'thread_ts': '1ef380c6-4623-6848-8002-e531cc5fbdc6'}}) \n",
      "\n",
      "StateSnapshot(values={'lnode': 'node_2', 'scratch': 'Hi', 'count': 2}, next=('Node1',), config={'configurable': {'thread_id': '1', 'thread_ts': '1ef380c6-4623-6848-8002-e531cc5fbdc6'}}, metadata={'source': 'loop', 'step': 2, 'writes': {'Node2': {'lnode': 'node_2', 'count': 1}}}, created_at='2024-07-02T00:45:34.669609+00:00', parent_config={'configurable': {'thread_id': '1', 'thread_ts': '1ef380c6-4613-6bdb-8001-d813903d5517'}}) \n",
      "\n",
      "StateSnapshot(values={'lnode': 'node_1', 'scratch': 'Hi', 'count': 1}, next=('Node2',), config={'configurable': {'thread_id': '1', 'thread_ts': '1ef380c6-4613-6bdb-8001-d813903d5517'}}, metadata={'source': 'loop', 'step': 1, 'writes': {'Node1': {'lnode': 'node_1', 'count': 1}}}, created_at='2024-07-02T00:45:34.663148+00:00', parent_config={'configurable': {'thread_id': '1', 'thread_ts': '1ef380c6-460b-661c-8000-49269bc63914'}}) \n",
      "\n",
      "StateSnapshot(values={'scratch': 'Hi', 'count': 0}, next=('Node1',), config={'configurable': {'thread_id': '1', 'thread_ts': '1ef380c6-460b-661c-8000-49269bc63914'}}, metadata={'source': 'loop', 'step': 0, 'writes': None}, created_at='2024-07-02T00:45:34.659722+00:00', parent_config={'configurable': {'thread_id': '1', 'thread_ts': '1ef380c6-4603-6231-bfff-be311b6165ef'}}) \n",
      "\n",
      "StateSnapshot(values={'count': 0}, next=('__start__',), config={'configurable': {'thread_id': '1', 'thread_ts': '1ef380c6-4603-6231-bfff-be311b6165ef'}}, metadata={'source': 'input', 'step': -1, 'writes': {'count': 0, 'scratch': 'Hi'}}, created_at='2024-07-02T00:45:34.656332+00:00', parent_config=None) \n",
      "\n"
     ]
    }
   ],
   "source": [
    "for state in graph.get_state_history(thread):\n",
    "    print(state, \"\\n\")"
   ]
  },
  {
   "cell_type": "markdown",
   "id": "d5c8226a-ec3d-4350-ad2c-1397ef98d2d2",
   "metadata": {},
   "source": [
    "Store just the `config` into an list. Note the sequence of counts on the right. <font color='blue'>get_state_history</font> returns the most recent snapshots first."
   ]
  },
  {
   "cell_type": "code",
   "execution_count": 71,
   "id": "3aec4e08-9e13-4ae1-b8ba-4c32b90ece39",
   "metadata": {},
   "outputs": [
    {
     "name": "stdout",
     "output_type": "stream",
     "text": [
      "{'configurable': {'thread_id': '1', 'thread_ts': '1ef380c6-462c-6239-8004-be179297b12e'}} 4\n",
      "{'configurable': {'thread_id': '1', 'thread_ts': '1ef380c6-4627-6975-8003-3fc86c2d24d8'}} 3\n",
      "{'configurable': {'thread_id': '1', 'thread_ts': '1ef380c6-4623-6848-8002-e531cc5fbdc6'}} 2\n",
      "{'configurable': {'thread_id': '1', 'thread_ts': '1ef380c6-4613-6bdb-8001-d813903d5517'}} 1\n",
      "{'configurable': {'thread_id': '1', 'thread_ts': '1ef380c6-460b-661c-8000-49269bc63914'}} 0\n",
      "{'configurable': {'thread_id': '1', 'thread_ts': '1ef380c6-4603-6231-bfff-be311b6165ef'}} 0\n"
     ]
    }
   ],
   "source": [
    "states = []\n",
    "for state in graph.get_state_history(thread):\n",
    "    states.append(state.config)\n",
    "    print(state.config, state.values['count'])"
   ]
  },
  {
   "cell_type": "markdown",
   "id": "29b76050-a8dd-4409-8514-94fd5180f293",
   "metadata": {},
   "source": [
    "Grab an early state."
   ]
  },
  {
   "cell_type": "code",
   "execution_count": 72,
   "id": "90724729-61a0-483d-b205-a04c5d6fc529",
   "metadata": {},
   "outputs": [
    {
     "data": {
      "text/plain": [
       "{'configurable': {'thread_id': '1',\n",
       "  'thread_ts': '1ef380c6-4613-6bdb-8001-d813903d5517'}}"
      ]
     },
     "execution_count": 72,
     "metadata": {},
     "output_type": "execute_result"
    }
   ],
   "source": [
    "states[-3]"
   ]
  },
  {
   "cell_type": "markdown",
   "id": "4ff60f71-d5c5-4a3a-a90a-e898b4331968",
   "metadata": {},
   "source": [
    "This is the state after `Node1` completed for the first time. Note next is `Node2` and count is 1."
   ]
  },
  {
   "cell_type": "code",
   "execution_count": 73,
   "id": "288d956e-e612-4559-81ea-f4b5afb63893",
   "metadata": {},
   "outputs": [
    {
     "data": {
      "text/plain": [
       "StateSnapshot(values={'lnode': 'node_1', 'scratch': 'Hi', 'count': 1}, next=('Node2',), config={'configurable': {'thread_id': '1', 'thread_ts': '1ef380c6-4613-6bdb-8001-d813903d5517'}}, metadata={'source': 'loop', 'step': 1, 'writes': {'Node1': {'lnode': 'node_1', 'count': 1}}}, created_at='2024-07-02T00:45:34.663148+00:00', parent_config={'configurable': {'thread_id': '1', 'thread_ts': '1ef380c6-460b-661c-8000-49269bc63914'}})"
      ]
     },
     "execution_count": 73,
     "metadata": {},
     "output_type": "execute_result"
    }
   ],
   "source": [
    "graph.get_state(states[-3])"
   ]
  },
  {
   "cell_type": "markdown",
   "id": "6eb436ed-196e-424f-8862-baca197bf865",
   "metadata": {},
   "source": [
    "### <b><font color='darkgreen'>Go Back in Time</font></b>\n",
    "Use that state in `invoke` to go back in time. Notice it uses `states[-3]` as `current_state` and continues to node2,"
   ]
  },
  {
   "cell_type": "code",
   "execution_count": 74,
   "id": "f096b248-67a8-4bdc-a700-69f5601a087e",
   "metadata": {},
   "outputs": [
    {
     "name": "stdout",
     "output_type": "stream",
     "text": [
      "node2, count:1\n",
      "node1, count:2\n",
      "node2, count:3\n"
     ]
    },
    {
     "data": {
      "text/plain": [
       "{'lnode': 'node_2', 'scratch': 'Hi', 'count': 4}"
      ]
     },
     "execution_count": 74,
     "metadata": {},
     "output_type": "execute_result"
    }
   ],
   "source": [
    "graph.invoke(None, states[-3])"
   ]
  },
  {
   "cell_type": "markdown",
   "id": "f7496dca-a9b6-4419-ba8f-8016f4d41b19",
   "metadata": {},
   "source": [
    "Notice the new states are now in state history. Notice the counts on the far right."
   ]
  },
  {
   "cell_type": "code",
   "execution_count": 75,
   "id": "5281488f-4b44-474b-b7a9-ac8986aed037",
   "metadata": {},
   "outputs": [
    {
     "name": "stdout",
     "output_type": "stream",
     "text": [
      "{'configurable': {'thread_id': '1', 'thread_ts': '1ef380e3-57b0-66c7-8004-61d7639d0a92'}} 4\n",
      "{'configurable': {'thread_id': '1', 'thread_ts': '1ef380e3-57a8-6df6-8003-9cfc04cc1f8a'}} 3\n",
      "{'configurable': {'thread_id': '1', 'thread_ts': '1ef380e3-579d-6fe5-8002-00392bb0703e'}} 2\n",
      "{'configurable': {'thread_id': '1', 'thread_ts': '1ef380c6-462c-6239-8004-be179297b12e'}} 4\n",
      "{'configurable': {'thread_id': '1', 'thread_ts': '1ef380c6-4627-6975-8003-3fc86c2d24d8'}} 3\n",
      "{'configurable': {'thread_id': '1', 'thread_ts': '1ef380c6-4623-6848-8002-e531cc5fbdc6'}} 2\n",
      "{'configurable': {'thread_id': '1', 'thread_ts': '1ef380c6-4613-6bdb-8001-d813903d5517'}} 1\n",
      "{'configurable': {'thread_id': '1', 'thread_ts': '1ef380c6-460b-661c-8000-49269bc63914'}} 0\n",
      "{'configurable': {'thread_id': '1', 'thread_ts': '1ef380c6-4603-6231-bfff-be311b6165ef'}} 0\n"
     ]
    }
   ],
   "source": [
    "for state in graph.get_state_history(thread):\n",
    "    print(state.config, state.values['count'])"
   ]
  },
  {
   "cell_type": "markdown",
   "id": "5b488377-4774-47fb-ae47-6d97e410817b",
   "metadata": {},
   "source": [
    "You can see the details below. Lots of text, but try to find the node that start the new branch. Notice the parent config is not the previous entry in the stack, but is the entry from `state[-3]`."
   ]
  },
  {
   "cell_type": "code",
   "execution_count": 76,
   "id": "de647438-6c50-43d6-8852-55415102ecee",
   "metadata": {},
   "outputs": [
    {
     "name": "stdout",
     "output_type": "stream",
     "text": [
      "StateSnapshot(values={'lnode': 'node_2', 'scratch': 'Hi', 'count': 4}, next=(), config={'configurable': {'thread_id': '1', 'thread_ts': '1ef380e3-57b0-66c7-8004-61d7639d0a92'}}, metadata={'source': 'loop', 'step': 4, 'writes': {'Node2': {'lnode': 'node_2', 'count': 1}}}, created_at='2024-07-02T00:58:34.972707+00:00', parent_config={'configurable': {'thread_id': '1', 'thread_ts': '1ef380e3-57a8-6df6-8003-9cfc04cc1f8a'}}) \n",
      "\n",
      "StateSnapshot(values={'lnode': 'node_1', 'scratch': 'Hi', 'count': 3}, next=('Node2',), config={'configurable': {'thread_id': '1', 'thread_ts': '1ef380e3-57a8-6df6-8003-9cfc04cc1f8a'}}, metadata={'source': 'loop', 'step': 3, 'writes': {'Node1': {'lnode': 'node_1', 'count': 1}}}, created_at='2024-07-02T00:58:34.969617+00:00', parent_config={'configurable': {'thread_id': '1', 'thread_ts': '1ef380e3-579d-6fe5-8002-00392bb0703e'}}) \n",
      "\n",
      "StateSnapshot(values={'lnode': 'node_2', 'scratch': 'Hi', 'count': 2}, next=('Node1',), config={'configurable': {'thread_id': '1', 'thread_ts': '1ef380e3-579d-6fe5-8002-00392bb0703e'}}, metadata={'source': 'loop', 'step': 2, 'writes': {'Node2': {'lnode': 'node_2', 'count': 1}}}, created_at='2024-07-02T00:58:34.965160+00:00', parent_config={'configurable': {'thread_id': '1', 'thread_ts': '1ef380c6-4613-6bdb-8001-d813903d5517'}}) \n",
      "\n",
      "StateSnapshot(values={'lnode': 'node_2', 'scratch': 'Hi', 'count': 4}, next=(), config={'configurable': {'thread_id': '1', 'thread_ts': '1ef380c6-462c-6239-8004-be179297b12e'}}, metadata={'source': 'loop', 'step': 4, 'writes': {'Node2': {'lnode': 'node_2', 'count': 1}}}, created_at='2024-07-02T00:45:34.673144+00:00', parent_config={'configurable': {'thread_id': '1', 'thread_ts': '1ef380c6-4627-6975-8003-3fc86c2d24d8'}}) \n",
      "\n",
      "StateSnapshot(values={'lnode': 'node_1', 'scratch': 'Hi', 'count': 3}, next=('Node2',), config={'configurable': {'thread_id': '1', 'thread_ts': '1ef380c6-4627-6975-8003-3fc86c2d24d8'}}, metadata={'source': 'loop', 'step': 3, 'writes': {'Node1': {'lnode': 'node_1', 'count': 1}}}, created_at='2024-07-02T00:45:34.671281+00:00', parent_config={'configurable': {'thread_id': '1', 'thread_ts': '1ef380c6-4623-6848-8002-e531cc5fbdc6'}}) \n",
      "\n",
      "StateSnapshot(values={'lnode': 'node_2', 'scratch': 'Hi', 'count': 2}, next=('Node1',), config={'configurable': {'thread_id': '1', 'thread_ts': '1ef380c6-4623-6848-8002-e531cc5fbdc6'}}, metadata={'source': 'loop', 'step': 2, 'writes': {'Node2': {'lnode': 'node_2', 'count': 1}}}, created_at='2024-07-02T00:45:34.669609+00:00', parent_config={'configurable': {'thread_id': '1', 'thread_ts': '1ef380c6-4613-6bdb-8001-d813903d5517'}}) \n",
      "\n",
      "StateSnapshot(values={'lnode': 'node_1', 'scratch': 'Hi', 'count': 1}, next=('Node2',), config={'configurable': {'thread_id': '1', 'thread_ts': '1ef380c6-4613-6bdb-8001-d813903d5517'}}, metadata={'source': 'loop', 'step': 1, 'writes': {'Node1': {'lnode': 'node_1', 'count': 1}}}, created_at='2024-07-02T00:45:34.663148+00:00', parent_config={'configurable': {'thread_id': '1', 'thread_ts': '1ef380c6-460b-661c-8000-49269bc63914'}}) \n",
      "\n",
      "StateSnapshot(values={'scratch': 'Hi', 'count': 0}, next=('Node1',), config={'configurable': {'thread_id': '1', 'thread_ts': '1ef380c6-460b-661c-8000-49269bc63914'}}, metadata={'source': 'loop', 'step': 0, 'writes': None}, created_at='2024-07-02T00:45:34.659722+00:00', parent_config={'configurable': {'thread_id': '1', 'thread_ts': '1ef380c6-4603-6231-bfff-be311b6165ef'}}) \n",
      "\n",
      "StateSnapshot(values={'count': 0}, next=('__start__',), config={'configurable': {'thread_id': '1', 'thread_ts': '1ef380c6-4603-6231-bfff-be311b6165ef'}}, metadata={'source': 'input', 'step': -1, 'writes': {'count': 0, 'scratch': 'Hi'}}, created_at='2024-07-02T00:45:34.656332+00:00', parent_config=None) \n",
      "\n"
     ]
    }
   ],
   "source": [
    "thread = {\"configurable\": {\"thread_id\": str(1)}}\n",
    "for state in graph.get_state_history(thread):\n",
    "    print(state,\"\\n\")"
   ]
  },
  {
   "cell_type": "markdown",
   "id": "dc408230-36e7-4278-8c98-fddc497b5f1e",
   "metadata": {},
   "source": [
    "### <b><font color='darkgreen'>Modify State</font></b>\n",
    "Let's start by starting a fresh thread and running to clean out history."
   ]
  },
  {
   "cell_type": "code",
   "execution_count": 77,
   "id": "e50e5820-ca07-4d23-8a49-8fb4d99e186f",
   "metadata": {},
   "outputs": [
    {
     "name": "stdout",
     "output_type": "stream",
     "text": [
      "node1, count:0\n",
      "node2, count:1\n",
      "node1, count:2\n",
      "node2, count:3\n"
     ]
    },
    {
     "data": {
      "text/plain": [
       "{'lnode': 'node_2', 'scratch': 'hi', 'count': 4}"
      ]
     },
     "execution_count": 77,
     "metadata": {},
     "output_type": "execute_result"
    }
   ],
   "source": [
    "thread_2 = {\"configurable\": {\"thread_id\": str(2)}}\n",
    "graph.invoke({\"count\":0, \"scratch\":\"hi\"},thread_2)"
   ]
  },
  {
   "cell_type": "code",
   "execution_count": 78,
   "id": "3953d26e-79db-483f-9f7c-64253e0fc948",
   "metadata": {},
   "outputs": [
    {
     "data": {
      "image/png": "[encoded data removed]",
      "text/plain": [
       "<IPython.core.display.Image object>"
      ]
     },
     "execution_count": 78,
     "metadata": {},
     "output_type": "execute_result"
    }
   ],
   "source": [
    "Image(graph.get_graph().draw_png())"
   ]
  },
  {
   "cell_type": "code",
   "execution_count": 80,
   "id": "53d5620c-3e92-4672-93cb-a63a532cf419",
   "metadata": {},
   "outputs": [
    {
     "name": "stdout",
     "output_type": "stream",
     "text": [
      "{'configurable': {'thread_id': '2', 'thread_ts': '1ef380ea-7404-640a-8004-fbb10fa9f2f2'}} 4\n",
      "{'configurable': {'thread_id': '2', 'thread_ts': '1ef380ea-73fc-67b1-8003-9cdf36594806'}} 3\n",
      "{'configurable': {'thread_id': '2', 'thread_ts': '1ef380ea-73f4-6d3b-8002-1056118b22b1'}} 2\n",
      "{'configurable': {'thread_id': '2', 'thread_ts': '1ef380ea-73eb-64ab-8001-7315d4fc4ec8'}} 1\n",
      "{'configurable': {'thread_id': '2', 'thread_ts': '1ef380ea-73e1-62a3-8000-f94b9c683622'}} 0\n",
      "{'configurable': {'thread_id': '2', 'thread_ts': '1ef380ea-73d7-6b61-bfff-4b29656a158d'}} 0\n"
     ]
    }
   ],
   "source": [
    "states2 = []\n",
    "for state in graph.get_state_history(thread_2):\n",
    "    states2.append(state.config)\n",
    "    print(state.config, state.values['count']) "
   ]
  },
  {
   "cell_type": "markdown",
   "id": "c859f262-ac7f-4d03-9b7c-7f0dc25f4741",
   "metadata": {},
   "source": [
    "Start by grabbing a state."
   ]
  },
  {
   "cell_type": "code",
   "execution_count": 81,
   "id": "8598653d-4648-436f-91d7-a887bd8d9b82",
   "metadata": {},
   "outputs": [
    {
     "data": {
      "text/plain": [
       "StateSnapshot(values={'lnode': 'node_1', 'scratch': 'hi', 'count': 1}, next=('Node2',), config={'configurable': {'thread_id': '2', 'thread_ts': '1ef380ea-73eb-64ab-8001-7315d4fc4ec8'}}, metadata={'source': 'loop', 'step': 1, 'writes': {'Node1': {'lnode': 'node_1', 'count': 1}}}, created_at='2024-07-02T01:01:45.837638+00:00', parent_config={'configurable': {'thread_id': '2', 'thread_ts': '1ef380ea-73e1-62a3-8000-f94b9c683622'}})"
      ]
     },
     "execution_count": 81,
     "metadata": {},
     "output_type": "execute_result"
    }
   ],
   "source": [
    "save_state = graph.get_state(states2[-3])\n",
    "save_state"
   ]
  },
  {
   "cell_type": "markdown",
   "id": "5d8f570a-1825-4d5c-a048-6cfd7112a359",
   "metadata": {},
   "source": [
    "Now modify the values. One subtle item to note: Recall when agent state was defined, `count` used `operator.add` to indicate that values are added to the current value. Here, `-3` will be added to the current count value rather than replace it."
   ]
  },
  {
   "cell_type": "code",
   "execution_count": 82,
   "id": "379846f4-1349-49e4-87ad-b5d9c743c25e",
   "metadata": {},
   "outputs": [
    {
     "data": {
      "text/plain": [
       "StateSnapshot(values={'lnode': 'node_1', 'scratch': 'hello', 'count': -3}, next=('Node2',), config={'configurable': {'thread_id': '2', 'thread_ts': '1ef380ea-73eb-64ab-8001-7315d4fc4ec8'}}, metadata={'source': 'loop', 'step': 1, 'writes': {'Node1': {'lnode': 'node_1', 'count': 1}}}, created_at='2024-07-02T01:01:45.837638+00:00', parent_config={'configurable': {'thread_id': '2', 'thread_ts': '1ef380ea-73e1-62a3-8000-f94b9c683622'}})"
      ]
     },
     "execution_count": 82,
     "metadata": {},
     "output_type": "execute_result"
    }
   ],
   "source": [
    "save_state.values[\"count\"] = -3\n",
    "save_state.values[\"scratch\"] = \"hello\"\n",
    "save_state"
   ]
  },
  {
   "cell_type": "markdown",
   "id": "97bf8041-be6b-4edf-bd67-110edec30c4d",
   "metadata": {},
   "source": [
    "Now update the state. This creates a new entry at the top, or latest entry in memory. This will become the current state."
   ]
  },
  {
   "cell_type": "code",
   "execution_count": 84,
   "id": "fb4d14c8-b7ba-41e6-a03f-bd6e6b8147ad",
   "metadata": {},
   "outputs": [
    {
     "data": {
      "text/plain": [
       "{'configurable': {'thread_id': '2',\n",
       "  'thread_ts': '1ef380ef-7cca-63dc-8005-639a159d4824'}}"
      ]
     },
     "execution_count": 84,
     "metadata": {},
     "output_type": "execute_result"
    }
   ],
   "source": [
    "graph.update_state(thread_2, save_state.values)"
   ]
  },
  {
   "cell_type": "markdown",
   "id": "a1cfd883-dec8-4b58-b6e7-1a6296e58364",
   "metadata": {},
   "source": [
    "Current state is at the top. You can match the `thread_ts`. Notice the `parent_config`, `thread_ts` of the new node - it is the previous node."
   ]
  },
  {
   "cell_type": "code",
   "execution_count": 86,
   "id": "786020ed-6109-4487-b4dd-b8ec6e6febc4",
   "metadata": {},
   "outputs": [
    {
     "name": "stdout",
     "output_type": "stream",
     "text": [
      "StateSnapshot(values={'lnode': 'node_1', 'scratch': 'hello', 'count': 1}, next=('Node1',), config={'configurable': {'thread_id': '2', 'thread_ts': '1ef380ef-7cca-63dc-8005-639a159d4824'}}, metadata={'source': 'update', 'step': 5, 'writes': {'Node2': {'lnode': 'node_1', 'scratch': 'hello', 'count': -3}}}, created_at='2024-07-02T01:04:00.985582+00:00', parent_config={'configurable': {'thread_id': '2', 'thread_ts': '1ef380ea-7404-640a-8004-fbb10fa9f2f2'}}) \n",
      "\n",
      "StateSnapshot(values={'lnode': 'node_2', 'scratch': 'hi', 'count': 4}, next=(), config={'configurable': {'thread_id': '2', 'thread_ts': '1ef380ea-7404-640a-8004-fbb10fa9f2f2'}}, metadata={'source': 'loop', 'step': 4, 'writes': {'Node2': {'lnode': 'node_2', 'count': 1}}}, created_at='2024-07-02T01:01:45.847890+00:00', parent_config={'configurable': {'thread_id': '2', 'thread_ts': '1ef380ea-73fc-67b1-8003-9cdf36594806'}}) \n",
      "\n",
      "StateSnapshot(values={'lnode': 'node_1', 'scratch': 'hi', 'count': 3}, next=('Node2',), config={'configurable': {'thread_id': '2', 'thread_ts': '1ef380ea-73fc-67b1-8003-9cdf36594806'}}, metadata={'source': 'loop', 'step': 3, 'writes': {'Node1': {'lnode': 'node_1', 'count': 1}}}, created_at='2024-07-02T01:01:45.844689+00:00', parent_config={'configurable': {'thread_id': '2', 'thread_ts': '1ef380ea-73f4-6d3b-8002-1056118b22b1'}}) \n",
      "\n"
     ]
    }
   ],
   "source": [
    "for i, state in enumerate(graph.get_state_history(thread_2)):\n",
    "    if i >= 3:  #print latest 3\n",
    "        break\n",
    "    print(state, '\\n')"
   ]
  },
  {
   "cell_type": "markdown",
   "id": "b9d97ffb-4037-41b4-bcab-f3f089730096",
   "metadata": {},
   "source": [
    "### <b><font color='darkgreen'>Try again with `as_node`</font></b>\n",
    "When writing using <font color='blue'>update_state()</font>, you want to define to the graph logic which node should be assumed as the writer. What this does is allow th graph logic to find the node on the graph. After writing the values, the <font color='blue'>next()</font> value is computed by travesing the graph using the new state. In this case, the state we have was written by `Node1`. The graph can then compute the next state as being `Node2`. Note that in some graphs, this may involve going through conditional edges! Let's try this out."
   ]
  },
  {
   "cell_type": "code",
   "execution_count": 87,
   "id": "9448b346-71ea-4c69-bc71-9ea22c5f52f5",
   "metadata": {},
   "outputs": [
    {
     "data": {
      "text/plain": [
       "{'configurable': {'thread_id': '2',\n",
       "  'thread_ts': '1ef380f6-0a11-61d9-8006-29e9cb7f8867'}}"
      ]
     },
     "execution_count": 87,
     "metadata": {},
     "output_type": "execute_result"
    }
   ],
   "source": [
    "graph.update_state(thread_2, save_state.values, as_node=\"Node1\")"
   ]
  },
  {
   "cell_type": "code",
   "execution_count": 89,
   "id": "003a5bf3-2c60-4910-a0af-997499ce149b",
   "metadata": {},
   "outputs": [
    {
     "name": "stdout",
     "output_type": "stream",
     "text": [
      "StateSnapshot(values={'lnode': 'node_1', 'scratch': 'hello', 'count': -2}, next=('Node2',), config={'configurable': {'thread_id': '2', 'thread_ts': '1ef380f6-0a11-61d9-8006-29e9cb7f8867'}}, metadata={'source': 'update', 'step': 6, 'writes': {'Node1': {'lnode': 'node_1', 'scratch': 'hello', 'count': -3}}}, created_at='2024-07-02T01:06:56.860797+00:00', parent_config={'configurable': {'thread_id': '2', 'thread_ts': '1ef380ef-7cca-63dc-8005-639a159d4824'}}) \n",
      "\n",
      "StateSnapshot(values={'lnode': 'node_1', 'scratch': 'hello', 'count': 1}, next=('Node1',), config={'configurable': {'thread_id': '2', 'thread_ts': '1ef380ef-7cca-63dc-8005-639a159d4824'}}, metadata={'source': 'update', 'step': 5, 'writes': {'Node2': {'lnode': 'node_1', 'scratch': 'hello', 'count': -3}}}, created_at='2024-07-02T01:04:00.985582+00:00', parent_config={'configurable': {'thread_id': '2', 'thread_ts': '1ef380ea-7404-640a-8004-fbb10fa9f2f2'}}) \n",
      "\n",
      "StateSnapshot(values={'lnode': 'node_2', 'scratch': 'hi', 'count': 4}, next=(), config={'configurable': {'thread_id': '2', 'thread_ts': '1ef380ea-7404-640a-8004-fbb10fa9f2f2'}}, metadata={'source': 'loop', 'step': 4, 'writes': {'Node2': {'lnode': 'node_2', 'count': 1}}}, created_at='2024-07-02T01:01:45.847890+00:00', parent_config={'configurable': {'thread_id': '2', 'thread_ts': '1ef380ea-73fc-67b1-8003-9cdf36594806'}}) \n",
      "\n"
     ]
    }
   ],
   "source": [
    "for i, state in enumerate(graph.get_state_history(thread_2)):\n",
    "    if i >= 3:  #print latest 3\n",
    "        break\n",
    "    print(state, '\\n')"
   ]
  },
  {
   "cell_type": "markdown",
   "id": "32cecfa2-c62a-4755-954c-dfce60bf0a27",
   "metadata": {},
   "source": [
    "`invoke` will run from the current state if not given a particular `thread_ts`. This is now the entry that was just added."
   ]
  },
  {
   "cell_type": "code",
   "execution_count": 90,
   "id": "4864ef59-8c61-4239-b7a6-dc83db149cbf",
   "metadata": {},
   "outputs": [
    {
     "name": "stdout",
     "output_type": "stream",
     "text": [
      "node2, count:-2\n",
      "node1, count:-1\n",
      "node2, count:0\n",
      "node1, count:1\n",
      "node2, count:2\n"
     ]
    },
    {
     "data": {
      "text/plain": [
       "{'lnode': 'node_2', 'scratch': 'hello', 'count': 3}"
      ]
     },
     "execution_count": 90,
     "metadata": {},
     "output_type": "execute_result"
    }
   ],
   "source": [
    "graph.invoke(None, thread_2)"
   ]
  },
  {
   "cell_type": "markdown",
   "id": "537100ea-061b-4aca-bf24-5271e3bf9549",
   "metadata": {},
   "source": [
    "Print out the state history, notice the `scratch` value change on the latest entries."
   ]
  },
  {
   "cell_type": "code",
   "execution_count": 91,
   "id": "89ae1c73-ab22-4b61-9c62-48919d99a325",
   "metadata": {},
   "outputs": [
    {
     "name": "stdout",
     "output_type": "stream",
     "text": [
      "StateSnapshot(values={'lnode': 'node_2', 'scratch': 'hello', 'count': 3}, next=(), config={'configurable': {'thread_id': '2', 'thread_ts': '1ef380f8-6889-6851-800b-38fa1534e691'}}, metadata={'source': 'loop', 'step': 11, 'writes': {'Node2': {'lnode': 'node_2', 'count': 1}}}, created_at='2024-07-02T01:08:00.453819+00:00', parent_config={'configurable': {'thread_id': '2', 'thread_ts': '1ef380f8-6880-6143-800a-6470ec788a9a'}}) \n",
      "\n",
      "StateSnapshot(values={'lnode': 'node_1', 'scratch': 'hello', 'count': 2}, next=('Node2',), config={'configurable': {'thread_id': '2', 'thread_ts': '1ef380f8-6880-6143-800a-6470ec788a9a'}}, metadata={'source': 'loop', 'step': 10, 'writes': {'Node1': {'lnode': 'node_1', 'count': 1}}}, created_at='2024-07-02T01:08:00.449963+00:00', parent_config={'configurable': {'thread_id': '2', 'thread_ts': '1ef380f8-687a-6e84-8009-558b54eb5090'}}) \n",
      "\n",
      "StateSnapshot(values={'lnode': 'node_2', 'scratch': 'hello', 'count': 1}, next=('Node1',), config={'configurable': {'thread_id': '2', 'thread_ts': '1ef380f8-687a-6e84-8009-558b54eb5090'}}, metadata={'source': 'loop', 'step': 9, 'writes': {'Node2': {'lnode': 'node_2', 'count': 1}}}, created_at='2024-07-02T01:08:00.447833+00:00', parent_config={'configurable': {'thread_id': '2', 'thread_ts': '1ef380f8-6871-6cbd-8008-1a44e2740bc8'}}) \n",
      "\n",
      "StateSnapshot(values={'lnode': 'node_1', 'scratch': 'hello', 'count': 0}, next=('Node2',), config={'configurable': {'thread_id': '2', 'thread_ts': '1ef380f8-6871-6cbd-8008-1a44e2740bc8'}}, metadata={'source': 'loop', 'step': 8, 'writes': {'Node1': {'lnode': 'node_1', 'count': 1}}}, created_at='2024-07-02T01:08:00.444098+00:00', parent_config={'configurable': {'thread_id': '2', 'thread_ts': '1ef380f8-6868-69b8-8007-6f253afa11fb'}}) \n",
      "\n",
      "StateSnapshot(values={'lnode': 'node_2', 'scratch': 'hello', 'count': -1}, next=('Node1',), config={'configurable': {'thread_id': '2', 'thread_ts': '1ef380f8-6868-69b8-8007-6f253afa11fb'}}, metadata={'source': 'loop', 'step': 7, 'writes': {'Node2': {'lnode': 'node_2', 'count': 1}}}, created_at='2024-07-02T01:08:00.440320+00:00', parent_config={'configurable': {'thread_id': '2', 'thread_ts': '1ef380f6-0a11-61d9-8006-29e9cb7f8867'}}) \n",
      "\n",
      "StateSnapshot(values={'lnode': 'node_1', 'scratch': 'hello', 'count': -2}, next=('Node2',), config={'configurable': {'thread_id': '2', 'thread_ts': '1ef380f6-0a11-61d9-8006-29e9cb7f8867'}}, metadata={'source': 'update', 'step': 6, 'writes': {'Node1': {'lnode': 'node_1', 'scratch': 'hello', 'count': -3}}}, created_at='2024-07-02T01:06:56.860797+00:00', parent_config={'configurable': {'thread_id': '2', 'thread_ts': '1ef380ef-7cca-63dc-8005-639a159d4824'}}) \n",
      "\n",
      "StateSnapshot(values={'lnode': 'node_1', 'scratch': 'hello', 'count': 1}, next=('Node1',), config={'configurable': {'thread_id': '2', 'thread_ts': '1ef380ef-7cca-63dc-8005-639a159d4824'}}, metadata={'source': 'update', 'step': 5, 'writes': {'Node2': {'lnode': 'node_1', 'scratch': 'hello', 'count': -3}}}, created_at='2024-07-02T01:04:00.985582+00:00', parent_config={'configurable': {'thread_id': '2', 'thread_ts': '1ef380ea-7404-640a-8004-fbb10fa9f2f2'}}) \n",
      "\n",
      "StateSnapshot(values={'lnode': 'node_2', 'scratch': 'hi', 'count': 4}, next=(), config={'configurable': {'thread_id': '2', 'thread_ts': '1ef380ea-7404-640a-8004-fbb10fa9f2f2'}}, metadata={'source': 'loop', 'step': 4, 'writes': {'Node2': {'lnode': 'node_2', 'count': 1}}}, created_at='2024-07-02T01:01:45.847890+00:00', parent_config={'configurable': {'thread_id': '2', 'thread_ts': '1ef380ea-73fc-67b1-8003-9cdf36594806'}}) \n",
      "\n",
      "StateSnapshot(values={'lnode': 'node_1', 'scratch': 'hi', 'count': 3}, next=('Node2',), config={'configurable': {'thread_id': '2', 'thread_ts': '1ef380ea-73fc-67b1-8003-9cdf36594806'}}, metadata={'source': 'loop', 'step': 3, 'writes': {'Node1': {'lnode': 'node_1', 'count': 1}}}, created_at='2024-07-02T01:01:45.844689+00:00', parent_config={'configurable': {'thread_id': '2', 'thread_ts': '1ef380ea-73f4-6d3b-8002-1056118b22b1'}}) \n",
      "\n",
      "StateSnapshot(values={'lnode': 'node_2', 'scratch': 'hi', 'count': 2}, next=('Node1',), config={'configurable': {'thread_id': '2', 'thread_ts': '1ef380ea-73f4-6d3b-8002-1056118b22b1'}}, metadata={'source': 'loop', 'step': 2, 'writes': {'Node2': {'lnode': 'node_2', 'count': 1}}}, created_at='2024-07-02T01:01:45.841572+00:00', parent_config={'configurable': {'thread_id': '2', 'thread_ts': '1ef380ea-73eb-64ab-8001-7315d4fc4ec8'}}) \n",
      "\n",
      "StateSnapshot(values={'lnode': 'node_1', 'scratch': 'hi', 'count': 1}, next=('Node2',), config={'configurable': {'thread_id': '2', 'thread_ts': '1ef380ea-73eb-64ab-8001-7315d4fc4ec8'}}, metadata={'source': 'loop', 'step': 1, 'writes': {'Node1': {'lnode': 'node_1', 'count': 1}}}, created_at='2024-07-02T01:01:45.837638+00:00', parent_config={'configurable': {'thread_id': '2', 'thread_ts': '1ef380ea-73e1-62a3-8000-f94b9c683622'}}) \n",
      "\n",
      "StateSnapshot(values={'scratch': 'hi', 'count': 0}, next=('Node1',), config={'configurable': {'thread_id': '2', 'thread_ts': '1ef380ea-73e1-62a3-8000-f94b9c683622'}}, metadata={'source': 'loop', 'step': 0, 'writes': None}, created_at='2024-07-02T01:01:45.833503+00:00', parent_config={'configurable': {'thread_id': '2', 'thread_ts': '1ef380ea-73d7-6b61-bfff-4b29656a158d'}}) \n",
      "\n",
      "StateSnapshot(values={'count': 0}, next=('__start__',), config={'configurable': {'thread_id': '2', 'thread_ts': '1ef380ea-73d7-6b61-bfff-4b29656a158d'}}, metadata={'source': 'input', 'step': -1, 'writes': {'count': 0, 'scratch': 'hi'}}, created_at='2024-07-02T01:01:45.829635+00:00', parent_config=None) \n",
      "\n"
     ]
    }
   ],
   "source": [
    "for state in graph.get_state_history(thread_2):\n",
    "    print(state,\"\\n\")"
   ]
  },
  {
   "cell_type": "markdown",
   "id": "f34b9d97-5307-46b6-bedd-ffc2856c9fb8",
   "metadata": {},
   "source": [
    "## <b><font color='darkblue'>Supplement</font></b>\n",
    "* [Deeplearn.ai - AI Agents in LangGraph - Ch2: Build an Agent from Scratch](https://learn.deeplearning.ai/courses/ai-agents-in-langgraph/lesson/2/build-an-agent-from-scratch)\n",
    "* [Deeplearn.ai - AI Agents in LangGraph - Ch3: LangGraph components](https://learn.deeplearning.ai/courses/ai-agents-in-langgraph/lesson/3/langgraph-components)\n",
    "* [Deeplearn.ai - AI Agents in LangGraph - Ch4: Agentic search tools](https://learn.deeplearning.ai/courses/ai-agents-in-langgraph/lesson/4/agentic-search-tools)\n",
    "* [Deeplearn.ai - AI Agents in LangGraph - Ch5: Persistence and streaming](https://learn.deeplearning.ai/courses/ai-agents-in-langgraph/lesson/5/persistence-and-streaming)\n",
    "* [Deeplearn.ai - AI Agents in LangGraph - Ch6: Human in the loop](https://learn.deeplearning.ai/courses/ai-agents-in-langgraph/lesson/6/human-in-the-loop)\n",
    "* [Deeplearn.ai - AI Agents in LangGraph - Ch7: Essay Writer](https://learn.deeplearning.ai/courses/ai-agents-in-langgraph/lesson/7/essay-writer)\n",
    "* [LangGraph examples/chat_agent_executor_with_function_calling/human-in-the-loop.ipynb](https://github.com/langchain-ai/langgraph/blob/main/examples/chat_agent_executor_with_function_calling/human-in-the-loop.ipynb)\n",
    "> In this example we will build a ReAct Agent that has a human in the loop. We will use the human to approve specific actions.\n",
    "* [Medium - Exploring AI Automation: Agentic Workflows with LangGraph and Tavily](https://medium.com/@LakshmiNarayana_U/exploring-ai-automation-agentic-workflows-with-langgraph-and-tavily-155f5442a999)"
   ]
  }
 ],
 "metadata": {
  "kernelspec": {
   "display_name": "Python 3 (ipykernel)",
   "language": "python",
   "name": "python3"
  },
  "language_info": {
   "codemirror_mode": {
    "name": "ipython",
    "version": 3
   },
   "file_extension": ".py",
   "mimetype": "text/x-python",
   "name": "python",
   "nbconvert_exporter": "python",
   "pygments_lexer": "ipython3",
   "version": "3.11.8"
  }
 },
 "nbformat": 4,
 "nbformat_minor": 5
}
