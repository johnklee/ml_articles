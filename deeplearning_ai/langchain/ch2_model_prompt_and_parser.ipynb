{
 "cells": [
  {
   "cell_type": "markdown",
   "id": "4afcc151-e047-4a94-bfb3-6d7bac4c5b2e",
   "metadata": {},
   "source": [
    "## <b><font color='darkblue'>Preface</font></b>\n",
    "([source](https://learn.deeplearning.ai/courses/langchain/lesson/2/models%2C-prompts-and-parsers)) <b><font size='3ptx'>From this chapter, we are going to see how to use OpenAI APIs and how the LangChain package integrates OpenAI.</font></b>"
   ]
  },
  {
   "cell_type": "markdown",
   "id": "f1f2c96f-a073-4716-85b1-e3646ca63d55",
   "metadata": {},
   "source": [
    "<a id='sect0'></a>\n",
    "### <b><font color='darkgreen'>Outline</font></b>\n",
    "* <b><font size='3ptx'><a href='#sect1'>Direct API calls to OpenAI</a></font></b>\n",
    "* <b><font size='3ptx'><a href='#sect2'>API calls through LangChain:</a></font></b>\n",
    "    * [Prompts](#sect2_1)\n",
    "    * [Models](#sect2_2)\n",
    "    * [Output parsers](#sect2_3)"
   ]
  },
  {
   "cell_type": "markdown",
   "id": "be09823a-6c6e-42c2-89c7-2af5dfd4c2de",
   "metadata": {},
   "source": [
    "### <b><font color='darkgreen'>Get your [OpenAI API Key](https://platform.openai.com/account/api-keys)</font></b>\n",
    "First thing first, we need to get the OpenAPI key in order to use the APIs they provided."
   ]
  },
  {
   "cell_type": "code",
   "execution_count": 1,
   "id": "8901c0b2-6ee2-4679-bf56-b42f7747f26a",
   "metadata": {},
   "outputs": [],
   "source": [
    "#!pip install python-dotenv\n",
    "#!pip install openai"
   ]
  },
  {
   "cell_type": "code",
   "execution_count": 20,
   "id": "1fa305ef-20c7-429b-b5ca-07fcc0937836",
   "metadata": {},
   "outputs": [],
   "source": [
    "import datetime\n",
    "import os\n",
    "import openai\n",
    "from dotenv import load_dotenv, find_dotenv\n",
    "from openai import OpenAI\n",
    "\n",
    "a = load_dotenv(find_dotenv(os.path.expanduser('~/.env'))) # read local .env file\n",
    "openai.api_key = os.environ['OPENAI_API_KEY']\n",
    "client = OpenAI()"
   ]
  },
  {
   "cell_type": "markdown",
   "id": "5bb4009a-eba4-4a6d-ab8f-c7e759ccf83a",
   "metadata": {},
   "source": [
    "<b><font color='darkred'>Note</font></b>: LLM's do not always produce the same results. When executing the code in your notebook, you may get slightly different answers that those in [the video](https://learn.deeplearning.ai/courses/langchain/lesson/2/models%2C-prompts-and-parsers)."
   ]
  },
  {
   "cell_type": "code",
   "execution_count": 11,
   "id": "a6d1a4db-e923-40ec-82a6-813dee8c4557",
   "metadata": {},
   "outputs": [],
   "source": [
    "# Get the current date\n",
    "current_date = datetime.datetime.now().date()\n",
    "\n",
    "# Define the date after which the model should be set to \"gpt-3.5-turbo\"\n",
    "target_date = datetime.date(2024, 6, 12)\n",
    "\n",
    "# Set the model variable based on the current date\n",
    "if current_date > target_date:\n",
    "    llm_model = \"gpt-3.5-turbo\"\n",
    "else:\n",
    "    llm_model = \"gpt-3.5-turbo-0301\""
   ]
  },
  {
   "cell_type": "code",
   "execution_count": 14,
   "id": "5aa3a192-300d-478b-81f9-466c0540840e",
   "metadata": {},
   "outputs": [
    {
     "data": {
      "text/plain": [
       "'gpt-3.5-turbo'"
      ]
     },
     "execution_count": 14,
     "metadata": {},
     "output_type": "execute_result"
    }
   ],
   "source": [
    "llm_model"
   ]
  },
  {
   "cell_type": "markdown",
   "id": "f5937b37-8a8a-4e6c-b66c-dbd41431eeb5",
   "metadata": {},
   "source": [
    "<a id='sect1'></a>\n",
    "## <b><font color='darkblue'>Chat API : OpenAI</font></b>\n",
    "Let's start with a direct API calls to OpenAI."
   ]
  },
  {
   "cell_type": "code",
   "execution_count": 23,
   "id": "cb637f8f-9217-46e0-8f7e-c78660ef0f25",
   "metadata": {},
   "outputs": [],
   "source": [
    "def get_completion(prompt, model=llm_model):\n",
    "    \n",
    "    response = client.chat.completions.create(\n",
    "        model=model,\n",
    "        messages=[{\"role\": \"user\", \"content\": prompt}]\n",
    "    )    \n",
    "    return response.choices[0].message.content.strip()"
   ]
  },
  {
   "cell_type": "code",
   "execution_count": 24,
   "id": "77ebe673-93b1-4281-9466-cb399df4c6ae",
   "metadata": {},
   "outputs": [
    {
     "data": {
      "text/plain": [
       "'The sum of 1+1 is 2.'"
      ]
     },
     "execution_count": 24,
     "metadata": {},
     "output_type": "execute_result"
    }
   ],
   "source": [
    "get_completion(\"What is 1+1?\")"
   ]
  },
  {
   "cell_type": "markdown",
   "id": "959e92f0-9017-4d9d-997a-30eb7e38923f",
   "metadata": {},
   "source": [
    "### <b><font color='darkgreen'>Email format/style example</font></b>"
   ]
  },
  {
   "cell_type": "code",
   "execution_count": 27,
   "id": "891f31f7-1216-45ac-ada3-bf79c480b7ed",
   "metadata": {},
   "outputs": [
    {
     "name": "stdout",
     "output_type": "stream",
     "text": [
      "Translate the text that is delimited by triple backticks \n",
      "into a style that is American English in a calm and respectful tone\n",
      ".\n",
      "text: ```\n",
      "Arrr, I be fuming that me blender lid flew off and splattered me kitchen walls with smoothie! And to make matters worse,the warranty don't cover the cost of cleaning up me kitchen. I need yer help right now, matey!\n",
      "```\n",
      "\n"
     ]
    }
   ],
   "source": [
    "customer_email = \"\"\"\n",
    "Arrr, I be fuming that me blender lid \\\n",
    "flew off and splattered me kitchen walls \\\n",
    "with smoothie! And to make matters worse,\\\n",
    "the warranty don't cover the cost of \\\n",
    "cleaning up me kitchen. I need yer help \\\n",
    "right now, matey!\n",
    "\"\"\"\n",
    "\n",
    "style = \"\"\"American English \\\n",
    "in a calm and respectful tone\n",
    "\"\"\"\n",
    "\n",
    "prompt = f\"\"\"Translate the text \\\n",
    "that is delimited by triple backticks \n",
    "into a style that is {style}.\n",
    "text: ```{customer_email}```\n",
    "\"\"\"\n",
    "\n",
    "print(prompt)"
   ]
  },
  {
   "cell_type": "code",
   "execution_count": 28,
   "id": "6eae4d73-ac49-40ab-a55e-ac19618e90d0",
   "metadata": {},
   "outputs": [],
   "source": [
    "response = get_completion(prompt)"
   ]
  },
  {
   "cell_type": "code",
   "execution_count": 32,
   "id": "9601ae2c-3951-4698-90c5-d9e405090a16",
   "metadata": {},
   "outputs": [
    {
     "name": "stdout",
     "output_type": "stream",
     "text": [
      "Original:\n",
      "Arrr, I be fuming that me blender lid flew off and splattered me kitchen walls with smoothie! And to make matters worse,the warranty don't cover the cost of cleaning up me kitchen. I need yer help right now, matey!\n",
      "\n",
      "Transformed:\n",
      "Arrgh, I'm quite upset that my blender lid flew off and splattered my kitchen walls with smoothie! And to make matters worse, the warranty doesn't cover the cost of cleaning up my kitchen. I really need your help at this moment, my friend.\n",
      "\n",
      "\n"
     ]
    }
   ],
   "source": [
    "print(f'Original:\\n{customer_email.strip()}\\n\\nTransformed:\\n{response}\\n\\n')"
   ]
  },
  {
   "cell_type": "markdown",
   "id": "43ee7191-a9dc-42a0-b906-2572ec326bb7",
   "metadata": {},
   "source": [
    "<a id='sect2'></a>\n",
    "## <b><font color='darkblue'>Chat API : LangChain</font></b> ([back](#sect0))\n",
    "* <b><font size='3ptx'><a href='#sect2_1'>Model</a></font></b>\n",
    "* <b><font size='3ptx'><a href='#sect2_2'>Prompt template</a></font></b>\n",
    "* <b><font size='3ptx'><a href='#sect2_3'>Output Parsers</a></font></b>\n",
    "\n",
    "Let's try how we can do the same using [**LangChain**](https://github.com/langchain-ai/langchain)."
   ]
  },
  {
   "cell_type": "code",
   "execution_count": 36,
   "id": "6e79ef44-1916-4f59-a853-af92feb38d06",
   "metadata": {},
   "outputs": [],
   "source": [
    "#!pip install -U langchain-openai"
   ]
  },
  {
   "cell_type": "markdown",
   "id": "9bdcc44b-b173-4967-a453-d667ca494592",
   "metadata": {},
   "source": [
    "<a id='sect2_1'></a>\n",
    "### <b><font color='darkgreen'>Model</font></b>"
   ]
  },
  {
   "cell_type": "code",
   "execution_count": 37,
   "id": "0c4a1eee-3efa-433f-a60f-f9c96e16130f",
   "metadata": {},
   "outputs": [],
   "source": [
    "from langchain_openai import ChatOpenAI"
   ]
  },
  {
   "cell_type": "code",
   "execution_count": 38,
   "id": "d8b55893-f350-4dc1-8239-d36bd480321b",
   "metadata": {},
   "outputs": [
    {
     "data": {
      "text/plain": [
       "ChatOpenAI(client=<openai.resources.chat.completions.Completions object at 0x7f446c270d50>, async_client=<openai.resources.chat.completions.AsyncCompletions object at 0x7f446c172990>, temperature=0.0, openai_api_key=SecretStr('**********'), openai_proxy='')"
      ]
     },
     "execution_count": 38,
     "metadata": {},
     "output_type": "execute_result"
    }
   ],
   "source": [
    "# To control the randomness and creativity of the generated\n",
    "# text by an LLM, use temperature = 0.0\n",
    "chat = ChatOpenAI(temperature=0.0, model=llm_model)\n",
    "chat"
   ]
  },
  {
   "cell_type": "markdown",
   "id": "31a7f9bf-567f-4547-9ac3-ff282725cc4f",
   "metadata": {},
   "source": [
    "<a id='sect2_2'></a>\n",
    "### <b><font color='darkgreen'>Prompt template</font></b> ([back](#sect2))\n",
    "<b><font size='3ptx'>Prompt templates are predefined recipes for generating prompts for language models. ([more](https://python.langchain.com/v0.1/docs/modules/model_io/prompts/quick_start/))</font></b>\n",
    "\n",
    "A prompt for a language model is a set of instructions or input provided by a user to guide the model's response, helping it understand the context and generate relevant and coherent language-based output, such as answering questions, completing sentences, or engaging in a conversation ([more](https://python.langchain.com/v0.1/docs/modules/model_io/prompts/))."
   ]
  },
  {
   "cell_type": "code",
   "execution_count": 40,
   "id": "09d17171-bfa1-417b-bf53-2ba3df854ae8",
   "metadata": {},
   "outputs": [],
   "source": [
    "from langchain.prompts import ChatPromptTemplate"
   ]
  },
  {
   "cell_type": "code",
   "execution_count": 39,
   "id": "7315da52-07cc-4d2e-84e0-496a21f94c70",
   "metadata": {},
   "outputs": [],
   "source": [
    "template_string = \"\"\"Translate the text \\\n",
    "that is delimited by triple backticks \\\n",
    "into a style that is {style}. \\\n",
    "text: ```{text}```\n",
    "\"\"\""
   ]
  },
  {
   "cell_type": "markdown",
   "id": "691a2abb-b7d3-4492-bd39-cea444c09308",
   "metadata": {},
   "source": [
    "The prompt to [**chat models**](https://python.langchain.com/v0.1/docs/modules/model_io/chat/) is a list of [chat messages](https://python.langchain.com/v0.1/docs/modules/model_io/chat/message_types/).\n",
    "\n",
    "Each chat message is associated with content, and an additional parameter called <b><font color='darkblue'>role</font></b>. For example, in the OpenAI [Chat Completions API](https://platform.openai.com/docs/guides/chat/introduction), a chat message can be associated with an AI assistant, a human or a system role.\n",
    "\n",
    "Create a chat prompt template like this:"
   ]
  },
  {
   "cell_type": "code",
   "execution_count": 41,
   "id": "4d31bc34-6af5-452d-bdc3-35e0869af45c",
   "metadata": {},
   "outputs": [],
   "source": [
    "prompt_template = ChatPromptTemplate.from_template(template_string)"
   ]
  },
  {
   "cell_type": "code",
   "execution_count": 45,
   "id": "113c1143-caec-4688-8677-decb441c2950",
   "metadata": {},
   "outputs": [
    {
     "name": "stdout",
     "output_type": "stream",
     "text": [
      "Translate the text that is delimited by triple backticks into a style that is {style}. text: ```{text}```\n",
      "\n"
     ]
    }
   ],
   "source": [
    "# Show the original prompt template\n",
    "print(prompt_template.messages[0].prompt.template)"
   ]
  },
  {
   "cell_type": "code",
   "execution_count": 46,
   "id": "db9a7f49-9660-4307-a280-c9d499094923",
   "metadata": {},
   "outputs": [
    {
     "data": {
      "text/plain": [
       "['style', 'text']"
      ]
     },
     "execution_count": 46,
     "metadata": {},
     "output_type": "execute_result"
    }
   ],
   "source": [
    "# Show the original prompt input variable(s)\n",
    "prompt_template.messages[0].prompt.input_variables"
   ]
  },
  {
   "cell_type": "code",
   "execution_count": 48,
   "id": "77d17d7a-4ae9-459a-a968-def80f4d3081",
   "metadata": {},
   "outputs": [],
   "source": [
    "# Now let's define the content of two required variables\n",
    "customer_style = \"\"\"American English \\\n",
    "in a calm and respectful tone\n",
    "\"\"\"\n",
    "\n",
    "customer_email = \"\"\"\n",
    "Arrr, I be fuming that me blender lid \\\n",
    "flew off and splattered me kitchen walls \\\n",
    "with smoothie! And to make matters worse, \\\n",
    "the warranty don't cover the cost of \\\n",
    "cleaning up me kitchen. I need yer help \\\n",
    "right now, matey!\n",
    "\"\"\""
   ]
  },
  {
   "cell_type": "code",
   "execution_count": 49,
   "id": "d898ab0e-13da-4a87-ba17-e5231f235e4b",
   "metadata": {},
   "outputs": [],
   "source": [
    "# Compose the final prompt:\n",
    "customer_messages = prompt_template.format_messages(\n",
    "                    style=customer_style,\n",
    "                    text=customer_email)"
   ]
  },
  {
   "cell_type": "code",
   "execution_count": 50,
   "id": "4a5410b6-f6e0-4e9c-ac3a-f6873dd64363",
   "metadata": {},
   "outputs": [
    {
     "name": "stdout",
     "output_type": "stream",
     "text": [
      "<class 'list'>\n",
      "<class 'langchain_core.messages.human.HumanMessage'>\n"
     ]
    }
   ],
   "source": [
    "print(type(customer_messages))\n",
    "print(type(customer_messages[0]))"
   ]
  },
  {
   "cell_type": "code",
   "execution_count": 51,
   "id": "04faa595-3304-4b02-8dd4-066a8b2d7de6",
   "metadata": {},
   "outputs": [
    {
     "name": "stdout",
     "output_type": "stream",
     "text": [
      "content=\"Translate the text that is delimited by triple backticks into a style that is American English in a calm and respectful tone\\n. text: ```\\nArrr, I be fuming that me blender lid flew off and splattered me kitchen walls with smoothie! And to make matters worse, the warranty don't cover the cost of cleaning up me kitchen. I need yer help right now, matey!\\n```\\n\"\n"
     ]
    }
   ],
   "source": [
    "print(customer_messages[0])"
   ]
  },
  {
   "cell_type": "code",
   "execution_count": 53,
   "id": "5128ae57-33d9-4dd2-9cb1-769f6545d05c",
   "metadata": {},
   "outputs": [],
   "source": [
    "# Call the LLM to translate to the style of the customer message\n",
    "customer_response = chat.invoke(customer_messages)"
   ]
  },
  {
   "cell_type": "code",
   "execution_count": 54,
   "id": "19449232-7fd7-4e06-baec-dc2240c137e7",
   "metadata": {},
   "outputs": [
    {
     "data": {
      "text/plain": [
       "AIMessage(content=\"I'm really frustrated that my blender lid flew off and splattered my kitchen walls with smoothie! And to make matters worse, the warranty doesn't cover the cost of cleaning up my kitchen. I could really use your help right now, friend.\", response_metadata={'token_usage': {'completion_tokens': 50, 'prompt_tokens': 89, 'total_tokens': 139}, 'model_name': 'gpt-3.5-turbo', 'system_fingerprint': None, 'finish_reason': 'stop', 'logprobs': None}, id='run-959b9ab6-2fda-49e2-84d6-876f0240b33b-0')"
      ]
     },
     "execution_count": 54,
     "metadata": {},
     "output_type": "execute_result"
    }
   ],
   "source": [
    "customer_response"
   ]
  },
  {
   "cell_type": "code",
   "execution_count": 55,
   "id": "1698e50c-8008-47b6-9182-89efb4e8c83f",
   "metadata": {},
   "outputs": [
    {
     "name": "stdout",
     "output_type": "stream",
     "text": [
      "I'm really frustrated that my blender lid flew off and splattered my kitchen walls with smoothie! And to make matters worse, the warranty doesn't cover the cost of cleaning up my kitchen. I could really use your help right now, friend.\n"
     ]
    }
   ],
   "source": [
    "print(customer_response.content)"
   ]
  },
  {
   "cell_type": "code",
   "execution_count": 56,
   "id": "e151d30d-40a1-4293-a643-a792adf07922",
   "metadata": {},
   "outputs": [],
   "source": [
    "service_reply = \"\"\"Hey there customer, \\\n",
    "the warranty does not cover \\\n",
    "cleaning expenses for your kitchen \\\n",
    "because it's your fault that \\\n",
    "you misused your blender \\\n",
    "by forgetting to put the lid on before \\\n",
    "starting the blender. \\\n",
    "Tough luck! See ya!\n",
    "\"\"\"\n",
    "\n",
    "service_style_pirate = \"\"\"\\\n",
    "a polite tone \\\n",
    "that speaks in English Pirate\\\n",
    "\"\"\""
   ]
  },
  {
   "cell_type": "code",
   "execution_count": 57,
   "id": "5a8b463f-e41d-47a9-ad78-616781075f76",
   "metadata": {},
   "outputs": [
    {
     "name": "stdout",
     "output_type": "stream",
     "text": [
      "Translate the text that is delimited by triple backticks into a style that is a polite tone that speaks in English Pirate. text: ```Hey there customer, the warranty does not cover cleaning expenses for your kitchen because it's your fault that you misused your blender by forgetting to put the lid on before starting the blender. Tough luck! See ya!\n",
      "```\n",
      "\n"
     ]
    }
   ],
   "source": [
    "service_messages = prompt_template.format_messages(\n",
    "    style=service_style_pirate,\n",
    "    text=service_reply)\n",
    "\n",
    "print(service_messages[0].content)"
   ]
  },
  {
   "cell_type": "code",
   "execution_count": 58,
   "id": "5dae57d1-964f-4767-a61f-3d5c25fcbdb9",
   "metadata": {},
   "outputs": [],
   "source": [
    "service_response = chat.invoke(service_messages)"
   ]
  },
  {
   "cell_type": "code",
   "execution_count": 59,
   "id": "70d1b20a-9b92-46a0-9589-d2ab7322a640",
   "metadata": {},
   "outputs": [
    {
     "name": "stdout",
     "output_type": "stream",
     "text": [
      "Ahoy there, valued customer! Regrettably, the warranty be not coverin' the cost o' cleanin' yer galley due to yer own negligence. Ye see, 'twas yer own doin' that ye forgot to secure the lid afore startin' the blender. 'Tis a tough break, indeed! Fare thee well!\n"
     ]
    }
   ],
   "source": [
    "print(service_response.content)"
   ]
  },
  {
   "cell_type": "markdown",
   "id": "ef971ce9-04ab-4925-af27-c67fd33b35de",
   "metadata": {},
   "source": [
    "<a id='sect2_3'></a>\n",
    "### <b><font color='darkgreen'>Output Parsers</font></b> ([back](#sect2))\n",
    "<b><font size='3ptx'>Output parsers are responsible for taking the output of an LLM and transforming it to a more suitable format.</font> This is very useful when you are using LLMs to generate any form of structured data. ([more](https://python.langchain.com/v0.1/docs/modules/model_io/output_parsers/))</b>\n",
    "\n",
    "Language models output text. But many times you may want to get more structured information than just text back. This is where output parsers come in. \n",
    "\n",
    "Let's start with defining how we would like the LLM output to look like:\n",
    "```json\n",
    "{\n",
    "  \"gift\": False,\n",
    "  \"delivery_days\": 5,\n",
    "  \"price_value\": \"pretty affordable!\"\n",
    "}\n",
    "```"
   ]
  },
  {
   "cell_type": "markdown",
   "id": "2275a088-adc5-4167-b92a-391b68218a1e",
   "metadata": {},
   "source": [
    "Consider we have a customer review as below:"
   ]
  },
  {
   "cell_type": "code",
   "execution_count": 60,
   "id": "c3c8d1b1-8635-471e-a3c0-2ad0c71cc4f7",
   "metadata": {},
   "outputs": [],
   "source": [
    "customer_review = \"\"\"\\\n",
    "This leaf blower is pretty amazing.  It has four settings:\\\n",
    "candle blower, gentle breeze, windy city, and tornado. \\\n",
    "It arrived in two days, just in time for my wife's \\\n",
    "anniversary present. \\\n",
    "I think my wife liked it so much she was speechless. \\\n",
    "So far I've been the only one using it, and I've been \\\n",
    "using it every other morning to clear the leaves on our lawn. \\\n",
    "It's slightly more expensive than the other leaf blowers \\\n",
    "out there, but I think it's worth it for the extra features.\n",
    "\"\"\""
   ]
  },
  {
   "cell_type": "markdown",
   "id": "321eedf1-27bb-45a4-92ca-12df3cca9f49",
   "metadata": {},
   "source": [
    "Then we define a review template to extract the information we are interested in:"
   ]
  },
  {
   "cell_type": "code",
   "execution_count": 63,
   "id": "c902f422-6446-4d1b-8a69-7e34e65ae9a4",
   "metadata": {},
   "outputs": [],
   "source": [
    "review_template = \"\"\"\\\n",
    "For the following text, extract the following information:\n",
    "\n",
    "gift: Was the item purchased as a gift for someone else? \\\n",
    "Answer True if yes, False if not or unknown.\n",
    "\n",
    "delivery_days: How many days did it take for the product \\\n",
    "to arrive? If this information is not found, output -1.\n",
    "\n",
    "price_value: Extract any sentences about the value or price,\\\n",
    "and output them as a comma separated Python list.\n",
    "\n",
    "Format the output as JSON with the following keys:\n",
    "gift\n",
    "delivery_days\n",
    "price_value\n",
    "\n",
    "text: {text}\n",
    "\"\"\""
   ]
  },
  {
   "cell_type": "code",
   "execution_count": 71,
   "id": "6222d345-a795-4c07-b444-5e10a3f05795",
   "metadata": {},
   "outputs": [
    {
     "name": "stdout",
     "output_type": "stream",
     "text": [
      "Template:\n",
      "For the following text, extract the following information:\n",
      "\n",
      "gift: Was the item purchased as a gift for someone else? Answer True if yes, False if not or unknown.\n",
      "\n",
      "delivery_days: How many days did it take for the product to arrive? If this information is not found, output -1.\n",
      "\n",
      "price_value: Extract any sentences about the value or price,and output them as a comma separated Python list.\n",
      "\n",
      "Format the output as JSON with the following keys:\n",
      "gift\n",
      "delivery_days\n",
      "price_value\n",
      "\n",
      "text: {text}\n",
      "\n",
      "\n",
      "Input variable: ['text']\n"
     ]
    }
   ],
   "source": [
    "prompt_template = ChatPromptTemplate.from_template(review_template)\n",
    "print(f'Template:\\n{prompt_template.messages[0].prompt.template}\\n')\n",
    "print(f'Input variable: {prompt_template.messages[0].prompt.input_variables}')"
   ]
  },
  {
   "cell_type": "code",
   "execution_count": 73,
   "id": "1523bea9-c962-42f7-af90-79f6b9effc32",
   "metadata": {},
   "outputs": [],
   "source": [
    "messages = prompt_template.format_messages(text=customer_review)\n",
    "response = chat.invoke(messages)"
   ]
  },
  {
   "cell_type": "code",
   "execution_count": 74,
   "id": "6ab8adb4-1536-4e81-a397-b5886d4f2fba",
   "metadata": {},
   "outputs": [
    {
     "name": "stdout",
     "output_type": "stream",
     "text": [
      "{\n",
      "  \"gift\": true,\n",
      "  \"delivery_days\": 2,\n",
      "  \"price_value\": [\"It's slightly more expensive than the other leaf blowers out there\"]\n",
      "}\n"
     ]
    }
   ],
   "source": [
    "print(response.content)"
   ]
  },
  {
   "cell_type": "markdown",
   "id": "a1343f07-f713-4c9b-8de0-38bcf8c75397",
   "metadata": {},
   "source": [
    "Even the output look like a json format, but it is a string:"
   ]
  },
  {
   "cell_type": "code",
   "execution_count": 75,
   "id": "312a834c-5865-4353-94d0-2949b96dd72c",
   "metadata": {},
   "outputs": [
    {
     "data": {
      "text/plain": [
       "str"
      ]
     },
     "execution_count": 75,
     "metadata": {},
     "output_type": "execute_result"
    }
   ],
   "source": [
    "type(response.content)"
   ]
  },
  {
   "cell_type": "markdown",
   "id": "29c74f86-2f10-413e-ab99-8e1358ec671d",
   "metadata": {},
   "source": [
    "#### <b>Parse the LLM output string into a Python dictionary</b>"
   ]
  },
  {
   "cell_type": "code",
   "execution_count": 76,
   "id": "9b308bb6-2774-4226-8f6e-818c25217cd4",
   "metadata": {},
   "outputs": [],
   "source": [
    "from langchain.output_parsers import ResponseSchema\n",
    "from langchain.output_parsers import StructuredOutputParser"
   ]
  },
  {
   "cell_type": "code",
   "execution_count": 77,
   "id": "78cd410c-e149-4b68-8389-9fcefcc72535",
   "metadata": {},
   "outputs": [],
   "source": [
    "gift_schema = ResponseSchema(name=\"gift\",\n",
    "                             description=\"Was the item purchased\\\n",
    "                             as a gift for someone else? \\\n",
    "                             Answer True if yes,\\\n",
    "                             False if not or unknown.\")\n",
    "delivery_days_schema = ResponseSchema(name=\"delivery_days\",\n",
    "                                      description=\"How many days\\\n",
    "                                      did it take for the product\\\n",
    "                                      to arrive? If this \\\n",
    "                                      information is not found,\\\n",
    "                                      output -1.\")\n",
    "price_value_schema = ResponseSchema(name=\"price_value\",\n",
    "                                    description=\"Extract any\\\n",
    "                                    sentences about the value or \\\n",
    "                                    price, and output them as a \\\n",
    "                                    comma separated Python list.\")\n",
    "\n",
    "response_schemas = [gift_schema, \n",
    "                    delivery_days_schema,\n",
    "                    price_value_schema]"
   ]
  },
  {
   "cell_type": "code",
   "execution_count": 78,
   "id": "23380d3d-ecc4-49ab-86d8-948c65b127db",
   "metadata": {},
   "outputs": [],
   "source": [
    "output_parser = StructuredOutputParser.from_response_schemas(response_schemas)"
   ]
  },
  {
   "cell_type": "code",
   "execution_count": 79,
   "id": "72b407a4-2fc8-4f8b-8b0e-b66fe6732f0f",
   "metadata": {},
   "outputs": [],
   "source": [
    "format_instructions = output_parser.get_format_instructions()"
   ]
  },
  {
   "cell_type": "code",
   "execution_count": 81,
   "id": "3c64514f-2ed5-4100-9a5f-e154fb89a7bd",
   "metadata": {},
   "outputs": [
    {
     "data": {
      "text/plain": [
       "str"
      ]
     },
     "execution_count": 81,
     "metadata": {},
     "output_type": "execute_result"
    }
   ],
   "source": [
    "type(format_instructions)"
   ]
  },
  {
   "cell_type": "code",
   "execution_count": 83,
   "id": "bba18abd-7ba4-4ced-a0b7-9cd2f86bbdb6",
   "metadata": {},
   "outputs": [
    {
     "name": "stdout",
     "output_type": "stream",
     "text": [
      "The output should be a markdown code snippet formatted in the following schema, including the leading and trailing \"```json\" and \"```\":\n",
      "\n",
      "```json\n",
      "{\n",
      "\t\"gift\": string  // Was the item purchased                             as a gift for someone else?                              Answer True if yes,                             False if not or unknown.\n",
      "\t\"delivery_days\": string  // How many days                                      did it take for the product                                      to arrive? If this                                       information is not found,                                      output -1.\n",
      "\t\"price_value\": string  // Extract any                                    sentences about the value or                                     price, and output them as a                                     comma separated Python list.\n",
      "}\n",
      "```\n"
     ]
    }
   ],
   "source": [
    "print(format_instructions)"
   ]
  },
  {
   "cell_type": "code",
   "execution_count": 84,
   "id": "52361aee-ab45-448a-a00a-42434923f742",
   "metadata": {},
   "outputs": [],
   "source": [
    "review_template_2 = \"\"\"\\\n",
    "For the following text, extract the following information:\n",
    "\n",
    "gift: Was the item purchased as a gift for someone else? \\\n",
    "Answer True if yes, False if not or unknown.\n",
    "\n",
    "delivery_days: How many days did it take for the product\\\n",
    "to arrive? If this information is not found, output -1.\n",
    "\n",
    "price_value: Extract any sentences about the value or price,\\\n",
    "and output them as a comma separated Python list.\n",
    "\n",
    "text: {text}\n",
    "\n",
    "{format_instructions}\n",
    "\"\"\""
   ]
  },
  {
   "cell_type": "code",
   "execution_count": 85,
   "id": "c977f96a-958f-4e5a-ac37-bcb2fb0d6dd8",
   "metadata": {},
   "outputs": [],
   "source": [
    "prompt = ChatPromptTemplate.from_template(template=review_template_2)\n",
    "messages = prompt.format_messages(\n",
    "    text=customer_review, format_instructions=format_instructions)"
   ]
  },
  {
   "cell_type": "code",
   "execution_count": 86,
   "id": "2417bae9-f4bd-46ac-a5ef-aecf83b4a1a4",
   "metadata": {},
   "outputs": [
    {
     "name": "stdout",
     "output_type": "stream",
     "text": [
      "For the following text, extract the following information:\n",
      "\n",
      "gift: Was the item purchased as a gift for someone else? Answer True if yes, False if not or unknown.\n",
      "\n",
      "delivery_days: How many days did it take for the productto arrive? If this information is not found, output -1.\n",
      "\n",
      "price_value: Extract any sentences about the value or price,and output them as a comma separated Python list.\n",
      "\n",
      "text: This leaf blower is pretty amazing.  It has four settings:candle blower, gentle breeze, windy city, and tornado. It arrived in two days, just in time for my wife's anniversary present. I think my wife liked it so much she was speechless. So far I've been the only one using it, and I've been using it every other morning to clear the leaves on our lawn. It's slightly more expensive than the other leaf blowers out there, but I think it's worth it for the extra features.\n",
      "\n",
      "\n",
      "The output should be a markdown code snippet formatted in the following schema, including the leading and trailing \"```json\" and \"```\":\n",
      "\n",
      "```json\n",
      "{\n",
      "\t\"gift\": string  // Was the item purchased                             as a gift for someone else?                              Answer True if yes,                             False if not or unknown.\n",
      "\t\"delivery_days\": string  // How many days                                      did it take for the product                                      to arrive? If this                                       information is not found,                                      output -1.\n",
      "\t\"price_value\": string  // Extract any                                    sentences about the value or                                     price, and output them as a                                     comma separated Python list.\n",
      "}\n",
      "```\n",
      "\n"
     ]
    }
   ],
   "source": [
    "print(messages[0].content)"
   ]
  },
  {
   "cell_type": "code",
   "execution_count": 87,
   "id": "bf15674f-c7d0-488d-bb2d-9fb01e4dcb48",
   "metadata": {},
   "outputs": [],
   "source": [
    "response = chat.invoke(messages)"
   ]
  },
  {
   "cell_type": "code",
   "execution_count": 88,
   "id": "4b7804ae-9436-41a6-a4af-b72aaba0fc31",
   "metadata": {},
   "outputs": [
    {
     "name": "stdout",
     "output_type": "stream",
     "text": [
      "```json\n",
      "{\n",
      "\t\"gift\": true,\n",
      "\t\"delivery_days\": 2,\n",
      "\t\"price_value\": [\"It's slightly more expensive than the other leaf blowers out there, but I think it's worth it for the extra features.\"]\n",
      "}\n",
      "```\n"
     ]
    }
   ],
   "source": [
    "print(response.content)"
   ]
  },
  {
   "cell_type": "code",
   "execution_count": 89,
   "id": "80e333d8-f46e-4991-bd34-05241ccf8ea6",
   "metadata": {},
   "outputs": [],
   "source": [
    "output_dict = output_parser.parse(response.content)"
   ]
  },
  {
   "cell_type": "code",
   "execution_count": 90,
   "id": "1034040f-c905-4b77-aadd-c310d10813ab",
   "metadata": {},
   "outputs": [
    {
     "data": {
      "text/plain": [
       "dict"
      ]
     },
     "execution_count": 90,
     "metadata": {},
     "output_type": "execute_result"
    }
   ],
   "source": [
    "type(output_dict)"
   ]
  },
  {
   "cell_type": "code",
   "execution_count": 91,
   "id": "e8b11f79-9d7e-4932-a374-b4b3fab3eee5",
   "metadata": {},
   "outputs": [
    {
     "data": {
      "text/plain": [
       "{'gift': True,\n",
       " 'delivery_days': 2,\n",
       " 'price_value': [\"It's slightly more expensive than the other leaf blowers out there, but I think it's worth it for the extra features.\"]}"
      ]
     },
     "execution_count": 91,
     "metadata": {},
     "output_type": "execute_result"
    }
   ],
   "source": [
    "output_dict"
   ]
  },
  {
   "cell_type": "code",
   "execution_count": 92,
   "id": "80514af9-64e7-4874-b71c-a3114dccdf2e",
   "metadata": {},
   "outputs": [
    {
     "data": {
      "text/plain": [
       "2"
      ]
     },
     "execution_count": 92,
     "metadata": {},
     "output_type": "execute_result"
    }
   ],
   "source": [
    "output_dict.get('delivery_days')"
   ]
  },
  {
   "cell_type": "markdown",
   "id": "6d6b5a4d-8eb4-4df9-982e-87015f0fcc6a",
   "metadata": {},
   "source": [
    "## <b><font color='darkblue'>Supplement</font></b>\n",
    "* [Deeplearning.ai - Langchain Ch2: Model, prompt and parser](https://github.com/johnklee/ml_articles/blob/master/deeplearning_ai/langchain/ch2_model_prompt_and_parser.ipynb)\n",
    "* [Deeplearning.ai - Langchain Ch3: Memory](https://github.com/johnklee/ml_articles/blob/master/deeplearning_ai/langchain/ch3_memory.ipynb)\n",
    "* [Deeplearning.ai - Langchain Ch4: Chain](https://github.com/johnklee/ml_articles/blob/master/deeplearning_ai/langchain/ch4_chains.ipynb)\n",
    "* [Deeplearning.ai - Langchain Ch5: Question and answer](https://github.com/johnklee/ml_articles/blob/master/deeplearning_ai/langchain/ch5_question_and_answer.ipynb)\n",
    "* [Deeplearning.ai - Langchain Ch6: Evaluation](https://github.com/johnklee/ml_articles/blob/master/deeplearning_ai/langchain/ch6_evaluation.ipynb)\n",
    "* [Deeplearning.ai - Langchain Ch7: Agents](https://github.com/johnklee/ml_articles/blob/master/deeplearning_ai/langchain/ch7_agents.ipynb)"
   ]
  }
 ],
 "metadata": {
  "kernelspec": {
   "display_name": "Python 3 (ipykernel)",
   "language": "python",
   "name": "python3"
  },
  "language_info": {
   "codemirror_mode": {
    "name": "ipython",
    "version": 3
   },
   "file_extension": ".py",
   "mimetype": "text/x-python",
   "name": "python",
   "nbconvert_exporter": "python",
   "pygments_lexer": "ipython3",
   "version": "3.11.8"
  }
 },
 "nbformat": 4,
 "nbformat_minor": 5
}
