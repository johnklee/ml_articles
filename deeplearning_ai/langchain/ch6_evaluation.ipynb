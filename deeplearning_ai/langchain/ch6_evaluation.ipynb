{
 "cells": [
  {
   "cell_type": "markdown",
   "id": "5f962304-11e7-4c18-865f-be8832f31b53",
   "metadata": {},
   "source": [
    "## <b><font color='darkblue'>Preface</font></b>\n",
    "([source](https://learn.deeplearning.ai/courses/langchain/lesson/6/evaluation)) <b><font size='3ptx'>Building applications with language models involves many moving parts. One of the most critical components is ensuring that the outcomes produced by your models are reliable and useful across a broad array of inputs, and that they work well with your application's other software components. ([more](https://python.langchain.com/v0.1/docs/guides/productionization/evaluation/))</font></b>\n",
    "\n",
    "<b> Ensuring reliability usually boils down to some combination of application design, testing & evaluation, and runtime checks.</b>\n",
    "\n",
    "The guides in this section review the APIs and functionality LangChain provides to help you better evaluate your applications. Evaluation and testing are both critical when thinking about deploying LLM applications, since production environments require repeatable and useful outcomes."
   ]
  },
  {
   "cell_type": "markdown",
   "id": "e1579e4c-54c0-4a16-8d39-6bba533c3824",
   "metadata": {},
   "source": [
    "### <b><font color='darkgreen'>Outline</font></b>\n",
    "* Example generation\n",
    "* Manual evaluation (and debuging)\n",
    "* LLM-assisted evaluation\n",
    "* LangChain evaluation platform"
   ]
  },
  {
   "cell_type": "code",
   "execution_count": 1,
   "id": "c442a020-9300-4213-be29-432120ffe8d1",
   "metadata": {},
   "outputs": [
    {
     "name": "stdout",
     "output_type": "stream",
     "text": [
      "langchain==0.2.1\n",
      "langchain-anthropic==0.1.15\n",
      "langchain-community==0.0.38\n",
      "langchain-core==0.2.3\n",
      "langchain-google-genai==1.0.6\n",
      "langchain-groq==0.1.3\n",
      "langchain-openai==0.1.9\n",
      "langchain-text-splitters==0.2.0\n",
      "langchainhub==0.1.14\n",
      "openai==1.28.1\n"
     ]
    }
   ],
   "source": [
    "!pip freeze | grep -P '(openai|langchain)'"
   ]
  },
  {
   "cell_type": "code",
   "execution_count": 2,
   "id": "cb68374b-84b6-495a-af11-f2174f1fc830",
   "metadata": {},
   "outputs": [],
   "source": [
    "import datetime\n",
    "import os\n",
    "import openai\n",
    "from dotenv import load_dotenv, find_dotenv\n",
    "from langchain_openai import ChatOpenAI\n",
    "import pandas as pd\n",
    "\n",
    "\n",
    "TEST_DATA = pd.DataFrame({'index': ['row1', 'row2'], 'review': ['review1', 'review2']})\n",
    "\n",
    "a = load_dotenv(find_dotenv(os.path.expanduser('~/.env'))) # read local .env file\n",
    "openai.api_key = os.environ['OPENAI_API_KEY']"
   ]
  },
  {
   "cell_type": "code",
   "execution_count": 12,
   "id": "62af3671-1d67-47c8-8da6-45e6f559b659",
   "metadata": {},
   "outputs": [],
   "source": [
    "# account for deprecation of LLM model\n",
    "import datetime\n",
    "# Get the current date\n",
    "current_date = datetime.datetime.now().date()\n",
    "\n",
    "# Define the date after which the model should be set to \"gpt-3.5-turbo\"\n",
    "target_date = datetime.date(2024, 6, 12)\n",
    "\n",
    "# Set the model variable based on the current date\n",
    "if current_date > target_date:\n",
    "    llm_model = \"gpt-3.5-turbo\"\n",
    "else:\n",
    "    llm_model = \"gpt-3.5-turbo-0301\""
   ]
  },
  {
   "cell_type": "markdown",
   "id": "ae507448-7dcd-4d5c-8779-444495a45169",
   "metadata": {},
   "source": [
    "## <b><font color='darkblue'>Create our Q and A application</font></b>\n",
    "We will leverage [the code in Ch5](https://github.com/johnklee/ml_articles/blob/master/deeplearning_ai/langchain/ch5_question_and_answer.ipynb) to build a QA chatbot for evaluation:"
   ]
  },
  {
   "cell_type": "code",
   "execution_count": 22,
   "id": "bb63fa8e-6b75-4816-a6f3-475e23c53206",
   "metadata": {},
   "outputs": [],
   "source": [
    "from langchain.chains import RetrievalQA\n",
    "from langchain.chat_models import ChatOpenAI\n",
    "from langchain_community.document_loaders.csv_loader import CSVLoader\n",
    "from langchain_community.document_loaders import TextLoader\n",
    "from langchain_community.vectorstores.docarray.in_memory import DocArrayInMemorySearch\n",
    "from langchain.indexes import VectorstoreIndexCreator\n",
    "from IPython.display import display, Markdown\n",
    "from langchain_openai import OpenAI\n",
    "from langchain_openai import ChatOpenAI\n",
    "from langchain.embeddings import HuggingFaceEmbeddings\n",
    "\n",
    "TEST_CSV_FILE_PATH = 'test_data/qa_data.csv'"
   ]
  },
  {
   "cell_type": "code",
   "execution_count": 24,
   "id": "8524c4cc-d409-4d0f-84ad-8b8be5e746ba",
   "metadata": {},
   "outputs": [],
   "source": [
    "loader = CSVLoader(TEST_CSV_FILE_PATH)\n",
    "docs = loader.load()"
   ]
  },
  {
   "cell_type": "code",
   "execution_count": 25,
   "id": "952f5b39-a556-4e63-87f1-fcc745dc96c5",
   "metadata": {},
   "outputs": [],
   "source": [
    "model_name = \"sentence-transformers/paraphrase-multilingual-mpnet-base-v2\" # Selecting a sentence embedding model\n",
    "#model_kwargs = {'device': 'cuda'}\n",
    "#encode_kwargs = {'normalize_embeddings': False}\n",
    "hf_embeddings = HuggingFaceEmbeddings(\n",
    "    model_name=model_name,\n",
    ")"
   ]
  },
  {
   "cell_type": "code",
   "execution_count": 26,
   "id": "bcdb9aaf-6d5c-46c3-8880-33b3fb328a1b",
   "metadata": {},
   "outputs": [],
   "source": [
    "index = VectorstoreIndexCreator(\n",
    "    vectorstore_cls=DocArrayInMemorySearch,\n",
    "    embedding=hf_embeddings,\n",
    ").from_loaders([loader])"
   ]
  },
  {
   "cell_type": "code",
   "execution_count": 27,
   "id": "d3370c09-85ff-475d-b929-f5c0b2beb9cf",
   "metadata": {},
   "outputs": [],
   "source": [
    "db = DocArrayInMemorySearch.from_documents(\n",
    "    docs, \n",
    "    hf_embeddings\n",
    ")"
   ]
  },
  {
   "cell_type": "code",
   "execution_count": 28,
   "id": "fc9c2a32-bb92-42bf-a6b4-9441a1ea7209",
   "metadata": {},
   "outputs": [],
   "source": [
    "llm = ChatOpenAI(temperature = 0.0, model=llm_model)\n",
    "retriever = db.as_retriever()"
   ]
  },
  {
   "cell_type": "code",
   "execution_count": 29,
   "id": "3d3f9755-a5fd-428a-afb0-aacd13cf1bce",
   "metadata": {},
   "outputs": [],
   "source": [
    "qa_stuff = RetrievalQA.from_chain_type(\n",
    "    llm=llm, \n",
    "    chain_type=\"stuff\", \n",
    "    retriever=retriever, \n",
    "    verbose=True\n",
    ")"
   ]
  },
  {
   "cell_type": "markdown",
   "id": "216545fa-efe3-4817-9c50-c0e4006e1592",
   "metadata": {},
   "source": [
    "### <b><font color='darkgreen'>Coming up with test datapoints</font></b>"
   ]
  },
  {
   "cell_type": "code",
   "execution_count": 31,
   "id": "05341a40-ad9a-42d4-851f-73ae399505b4",
   "metadata": {},
   "outputs": [
    {
     "data": {
      "text/plain": [
       "'type: car\\ndescription: The 2024 ElectroZoom is a sleek, all-electric sedan designed for the modern driver. Available in a range of vibrant colors, including Sapphire Blue, Ruby Red, and Onyx Black, the ElectroZoom boasts a spacious interior with premium vegan leather seating and state-of-the-art technology features. With a range of up to 350 miles on a single charge and lightning-fast acceleration, the ElectroZoom offers both performance and sustainability.'"
      ]
     },
     "execution_count": 31,
     "metadata": {},
     "output_type": "execute_result"
    }
   ],
   "source": [
    "docs[0].page_content"
   ]
  },
  {
   "cell_type": "code",
   "execution_count": 32,
   "id": "c949044e-e136-4821-a283-de1ad5f4953f",
   "metadata": {},
   "outputs": [
    {
     "data": {
      "text/plain": [
       "'type: clothes\\ndescription: The CozyCloud Hoodie is a unisex pullover made from ultra-soft, organic cotton fleece. Available in sizes XS to 3XL and a variety of calming colors like Sky Blue, Lavender Mist, and Charcoal Gray, the CozyCloud Hoodie features a relaxed fit, kangaroo pocket, and adjustable drawstring hood. Perfect for lounging at home or layering for outdoor adventures, the CozyCloud Hoodie is designed for ultimate comfort and versatility.'"
      ]
     },
     "execution_count": 32,
     "metadata": {},
     "output_type": "execute_result"
    }
   ],
   "source": [
    "docs[1].page_content"
   ]
  },
  {
   "cell_type": "markdown",
   "id": "d1ee419e-2d13-46a0-b872-5ed973296585",
   "metadata": {},
   "source": [
    "### <b><font color='darkgreen'>Hard-coded examples</font></b>"
   ]
  },
  {
   "cell_type": "code",
   "execution_count": 42,
   "id": "a69e77df-39a1-420c-b5e3-b65ffd05eac0",
   "metadata": {},
   "outputs": [],
   "source": [
    "examples = [\n",
    "    {\n",
    "        \"query\": \"What is the estimated range of the 2024 ElectroZoom on a single charge?\",\n",
    "        \"answer\": \"The 2024 ElectroZoom has an estimated range of up to 350 miles on a single charge.\"\n",
    "    },\n",
    "    {\n",
    "        \"query\": \"What sizes are available for the CozyCloud Hoodie?\",\n",
    "        \"answer\": \"The CozyCloud Hoodie is available in sizes XS to 3XL.\"\n",
    "    }\n",
    "]"
   ]
  },
  {
   "cell_type": "markdown",
   "id": "cb9c885e-6aa4-4c6e-834b-21c7f4334d44",
   "metadata": {},
   "source": [
    "### <b><font color='darkgreen'>LLM-Generated examples</font></b>"
   ]
  },
  {
   "cell_type": "code",
   "execution_count": 34,
   "id": "c10886ee-6bee-44b6-886c-208194051498",
   "metadata": {},
   "outputs": [],
   "source": [
    "from langchain.evaluation.qa import QAGenerateChain"
   ]
  },
  {
   "cell_type": "code",
   "execution_count": 35,
   "id": "0376f4e2-d46e-4bd0-8fcc-34dec78e1317",
   "metadata": {},
   "outputs": [],
   "source": [
    "example_gen_chain = QAGenerateChain.from_llm(ChatOpenAI(model=llm_model))"
   ]
  },
  {
   "cell_type": "code",
   "execution_count": 36,
   "id": "57e684c7-1c0f-4a86-84a4-e433d3bb4562",
   "metadata": {},
   "outputs": [
    {
     "name": "stderr",
     "output_type": "stream",
     "text": [
      "/usr/local/google/home/johnkclee/Github/ml_articles/env/lib/python3.11/site-packages/langchain/chains/llm.py:367: UserWarning: The apply_and_parse method is deprecated, instead pass an output parser directly to LLMChain.\n",
      "  warnings.warn(\n"
     ]
    }
   ],
   "source": [
    "new_examples = example_gen_chain.apply_and_parse(\n",
    "    [{\"doc\": t} for t in docs[-5:]]\n",
    ")"
   ]
  },
  {
   "cell_type": "code",
   "execution_count": 37,
   "id": "93baaf38-30dc-4dfc-b4bf-b29cd0561e2b",
   "metadata": {},
   "outputs": [
    {
     "data": {
      "text/plain": [
       "{'qa_pairs': {'query': 'Who is the 13.3-inch MacBook Pro perfect for according to the document?',\n",
       "  'answer': 'According to the document, the 13.3-inch MacBook Pro is perfect for students, professionals, and creative individuals.'}}"
      ]
     },
     "execution_count": 37,
     "metadata": {},
     "output_type": "execute_result"
    }
   ],
   "source": [
    "new_examples[0]"
   ]
  },
  {
   "cell_type": "code",
   "execution_count": 38,
   "id": "bc761da3-344c-4c4a-841c-0c6e2ed61db3",
   "metadata": {},
   "outputs": [
    {
     "data": {
      "text/plain": [
       "'type: 3c\\ndescription: The 13.3-inch MacBook Pro is a powerful and versatile laptop that is perfect for students, professionals, and creative individuals. It features a stunning Retina display, a long-lasting battery, and a powerful M1 chip.'"
      ]
     },
     "execution_count": 38,
     "metadata": {},
     "output_type": "execute_result"
    }
   ],
   "source": [
    "docs[-5].page_content"
   ]
  },
  {
   "cell_type": "markdown",
   "id": "1dce0206-9211-4b9e-9ec6-c22368ebede6",
   "metadata": {},
   "source": [
    "### <b><font color='darkgreen'>Combine examples</font></b>"
   ]
  },
  {
   "cell_type": "code",
   "execution_count": 43,
   "id": "297098b8-c976-4dd4-8fe2-8f1d88027ee8",
   "metadata": {},
   "outputs": [],
   "source": [
    "examples += [new_example['qa_pairs'] for new_example in new_examples]"
   ]
  },
  {
   "cell_type": "code",
   "execution_count": 44,
   "id": "4ea0c9b1-8497-4c83-a5e4-aaa36ba7c810",
   "metadata": {},
   "outputs": [
    {
     "data": {
      "text/plain": [
       "[{'query': 'What is the estimated range of the 2024 ElectroZoom on a single charge?',\n",
       "  'answer': 'The 2024 ElectroZoom has an estimated range of up to 350 miles on a single charge.'},\n",
       " {'query': 'What sizes are available for the CozyCloud Hoodie?',\n",
       "  'answer': 'The CozyCloud Hoodie is available in sizes XS to 3XL.'},\n",
       " {'query': 'Who is the 13.3-inch MacBook Pro perfect for according to the document?',\n",
       "  'answer': 'According to the document, the 13.3-inch MacBook Pro is perfect for students, professionals, and creative individuals.'},\n",
       " {'query': 'What are the key features of the stiletto heels described in the document?',\n",
       "  'answer': 'The key features of the stiletto heels are a pointed toe, a stiletto heel, and a heel height of 4 inches.'}]"
      ]
     },
     "execution_count": 44,
     "metadata": {},
     "output_type": "execute_result"
    }
   ],
   "source": [
    "examples[:4]"
   ]
  },
  {
   "cell_type": "markdown",
   "id": "a0cdea6e-2f18-4e85-9735-10ce40873d03",
   "metadata": {},
   "source": [
    "## <b><font color='darkblue'>Manual Evaluation</font></b>"
   ]
  },
  {
   "cell_type": "code",
   "execution_count": 45,
   "id": "b68092c2-909b-4126-9c0d-9c981ecf3223",
   "metadata": {},
   "outputs": [],
   "source": [
    "import langchain\n",
    "langchain.debug = True"
   ]
  },
  {
   "cell_type": "code",
   "execution_count": 46,
   "id": "eba169af-46c2-4184-bd15-ae24e3238ae1",
   "metadata": {},
   "outputs": [
    {
     "name": "stdout",
     "output_type": "stream",
     "text": [
      "\u001b[32;1m\u001b[1;3m[chain/start]\u001b[0m \u001b[1m[chain:RetrievalQA] Entering Chain run with input:\n",
      "\u001b[0m{\n",
      "  \"query\": \"What is the estimated range of the 2024 ElectroZoom on a single charge?\"\n",
      "}\n",
      "\u001b[32;1m\u001b[1;3m[chain/start]\u001b[0m \u001b[1m[chain:RetrievalQA > chain:StuffDocumentsChain] Entering Chain run with input:\n",
      "\u001b[0m[inputs]\n",
      "\u001b[32;1m\u001b[1;3m[chain/start]\u001b[0m \u001b[1m[chain:RetrievalQA > chain:StuffDocumentsChain > chain:LLMChain] Entering Chain run with input:\n",
      "\u001b[0m{\n",
      "  \"question\": \"What is the estimated range of the 2024 ElectroZoom on a single charge?\",\n",
      "  \"context\": \"type: car\\ndescription: The 2024 ElectroZoom is a sleek, all-electric sedan designed for the modern driver. Available in a range of vibrant colors, including Sapphire Blue, Ruby Red, and Onyx Black, the ElectroZoom boasts a spacious interior with premium vegan leather seating and state-of-the-art technology features. With a range of up to 350 miles on a single charge and lightning-fast acceleration, the ElectroZoom offers both performance and sustainability.\\n\\ntype: 3c\\ndescription: These wireless noise-cancelling headphones are perfect for blocking out ambient noise and enjoying your music. They feature a comfortable fit, long-lasting battery life, and superior sound quality. The battery life of these headphones is up to 20 hours.\\n\\ntype: others\\ndescription: This KitchenAid stand mixer is a must-have for any baker. It features a powerful motor, a variety of attachments, and a sleek design. The KitchenAid stand mixer has a capacity of 5 quarts.\\n\\ntype: 3c\\ndescription: The 13.3-inch MacBook Pro is a powerful and versatile laptop that is perfect for students, professionals, and creative individuals. It features a stunning Retina display, a long-lasting battery, and a powerful M1 chip.\"\n",
      "}\n",
      "\u001b[32;1m\u001b[1;3m[llm/start]\u001b[0m \u001b[1m[chain:RetrievalQA > chain:StuffDocumentsChain > chain:LLMChain > llm:ChatOpenAI] Entering LLM run with input:\n",
      "\u001b[0m{\n",
      "  \"prompts\": [\n",
      "    \"System: Use the following pieces of context to answer the user's question. \\nIf you don't know the answer, just say that you don't know, don't try to make up an answer.\\n----------------\\ntype: car\\ndescription: The 2024 ElectroZoom is a sleek, all-electric sedan designed for the modern driver. Available in a range of vibrant colors, including Sapphire Blue, Ruby Red, and Onyx Black, the ElectroZoom boasts a spacious interior with premium vegan leather seating and state-of-the-art technology features. With a range of up to 350 miles on a single charge and lightning-fast acceleration, the ElectroZoom offers both performance and sustainability.\\n\\ntype: 3c\\ndescription: These wireless noise-cancelling headphones are perfect for blocking out ambient noise and enjoying your music. They feature a comfortable fit, long-lasting battery life, and superior sound quality. The battery life of these headphones is up to 20 hours.\\n\\ntype: others\\ndescription: This KitchenAid stand mixer is a must-have for any baker. It features a powerful motor, a variety of attachments, and a sleek design. The KitchenAid stand mixer has a capacity of 5 quarts.\\n\\ntype: 3c\\ndescription: The 13.3-inch MacBook Pro is a powerful and versatile laptop that is perfect for students, professionals, and creative individuals. It features a stunning Retina display, a long-lasting battery, and a powerful M1 chip.\\nHuman: What is the estimated range of the 2024 ElectroZoom on a single charge?\"\n",
      "  ]\n",
      "}\n",
      "\u001b[36;1m\u001b[1;3m[llm/end]\u001b[0m \u001b[1m[chain:RetrievalQA > chain:StuffDocumentsChain > chain:LLMChain > llm:ChatOpenAI] [1.01s] Exiting LLM run with output:\n",
      "\u001b[0m{\n",
      "  \"generations\": [\n",
      "    [\n",
      "      {\n",
      "        \"text\": \"The estimated range of the 2024 ElectroZoom on a single charge is up to 350 miles.\",\n",
      "        \"generation_info\": {\n",
      "          \"finish_reason\": \"stop\",\n",
      "          \"logprobs\": null\n",
      "        },\n",
      "        \"type\": \"ChatGeneration\",\n",
      "        \"message\": {\n",
      "          \"lc\": 1,\n",
      "          \"type\": \"constructor\",\n",
      "          \"id\": [\n",
      "            \"langchain\",\n",
      "            \"schema\",\n",
      "            \"messages\",\n",
      "            \"AIMessage\"\n",
      "          ],\n",
      "          \"kwargs\": {\n",
      "            \"content\": \"The estimated range of the 2024 ElectroZoom on a single charge is up to 350 miles.\",\n",
      "            \"response_metadata\": {\n",
      "              \"token_usage\": {\n",
      "                \"completion_tokens\": 21,\n",
      "                \"prompt_tokens\": 323,\n",
      "                \"total_tokens\": 344\n",
      "              },\n",
      "              \"model_name\": \"gpt-3.5-turbo-0125\",\n",
      "              \"system_fingerprint\": null,\n",
      "              \"finish_reason\": \"stop\",\n",
      "              \"logprobs\": null\n",
      "            },\n",
      "            \"type\": \"ai\",\n",
      "            \"id\": \"run-d84beabc-1c13-4c3a-a4e7-0b01deb19b09-0\",\n",
      "            \"usage_metadata\": {\n",
      "              \"input_tokens\": 323,\n",
      "              \"output_tokens\": 21,\n",
      "              \"total_tokens\": 344\n",
      "            },\n",
      "            \"tool_calls\": [],\n",
      "            \"invalid_tool_calls\": []\n",
      "          }\n",
      "        }\n",
      "      }\n",
      "    ]\n",
      "  ],\n",
      "  \"llm_output\": {\n",
      "    \"token_usage\": {\n",
      "      \"completion_tokens\": 21,\n",
      "      \"prompt_tokens\": 323,\n",
      "      \"total_tokens\": 344\n",
      "    },\n",
      "    \"model_name\": \"gpt-3.5-turbo-0125\",\n",
      "    \"system_fingerprint\": null\n",
      "  },\n",
      "  \"run\": null\n",
      "}\n",
      "\u001b[36;1m\u001b[1;3m[chain/end]\u001b[0m \u001b[1m[chain:RetrievalQA > chain:StuffDocumentsChain > chain:LLMChain] [1.01s] Exiting Chain run with output:\n",
      "\u001b[0m{\n",
      "  \"text\": \"The estimated range of the 2024 ElectroZoom on a single charge is up to 350 miles.\"\n",
      "}\n",
      "\u001b[36;1m\u001b[1;3m[chain/end]\u001b[0m \u001b[1m[chain:RetrievalQA > chain:StuffDocumentsChain] [1.02s] Exiting Chain run with output:\n",
      "\u001b[0m{\n",
      "  \"output_text\": \"The estimated range of the 2024 ElectroZoom on a single charge is up to 350 miles.\"\n",
      "}\n",
      "\u001b[36;1m\u001b[1;3m[chain/end]\u001b[0m \u001b[1m[chain:RetrievalQA] [1.10s] Exiting Chain run with output:\n",
      "\u001b[0m{\n",
      "  \"result\": \"The estimated range of the 2024 ElectroZoom on a single charge is up to 350 miles.\"\n",
      "}\n"
     ]
    },
    {
     "data": {
      "text/plain": [
       "{'query': 'What is the estimated range of the 2024 ElectroZoom on a single charge?',\n",
       " 'result': 'The estimated range of the 2024 ElectroZoom on a single charge is up to 350 miles.'}"
      ]
     },
     "execution_count": 46,
     "metadata": {},
     "output_type": "execute_result"
    }
   ],
   "source": [
    "qa_stuff.invoke(examples[0][\"query\"])"
   ]
  },
  {
   "cell_type": "code",
   "execution_count": 47,
   "id": "a12636cd-f42f-4bcf-b8ca-55941e1aae39",
   "metadata": {},
   "outputs": [],
   "source": [
    "# Turn off the debug mode\n",
    "langchain.debug = False"
   ]
  },
  {
   "cell_type": "markdown",
   "id": "d9c9169e-3640-4dcc-b7be-3a378aa4d504",
   "metadata": {},
   "source": [
    "## <b><font color='darkblue'>LLM assisted evaluation</font></b>"
   ]
  },
  {
   "cell_type": "code",
   "execution_count": 51,
   "id": "057026c8-a84c-437f-a621-460535733b5c",
   "metadata": {},
   "outputs": [],
   "source": [
    "from langchain.evaluation.qa import QAEvalChain"
   ]
  },
  {
   "cell_type": "code",
   "execution_count": 50,
   "id": "9126096b-d975-42a8-8f95-4f3c2ce41104",
   "metadata": {},
   "outputs": [
    {
     "name": "stdout",
     "output_type": "stream",
     "text": [
      "\n",
      "\n",
      "\u001b[1m> Entering new RetrievalQA chain...\u001b[0m\n",
      "\n",
      "\n",
      "\u001b[1m> Entering new RetrievalQA chain...\u001b[0m\n",
      "\n",
      "\n",
      "\u001b[1m> Entering new RetrievalQA chain...\u001b[0m\n",
      "\n",
      "\n",
      "\u001b[1m> Entering new RetrievalQA chain...\u001b[0m\n",
      "\n",
      "\n",
      "\u001b[1m> Entering new RetrievalQA chain...\u001b[0m\n",
      "\n",
      "\n",
      "\u001b[1m> Entering new RetrievalQA chain...\u001b[0m\n",
      "\n",
      "\n",
      "\u001b[1m> Entering new RetrievalQA chain...\u001b[0m\n",
      "\n",
      "\u001b[1m> Finished chain.\u001b[0m\n",
      "\n",
      "\u001b[1m> Finished chain.\u001b[0m\n",
      "\n",
      "\u001b[1m> Finished chain.\u001b[0m\n",
      "\n",
      "\u001b[1m> Finished chain.\u001b[0m\n",
      "\n",
      "\u001b[1m> Finished chain.\u001b[0m\n",
      "\n",
      "\u001b[1m> Finished chain.\u001b[0m\n",
      "\n",
      "\u001b[1m> Finished chain.\u001b[0m\n"
     ]
    }
   ],
   "source": [
    "predictions = qa_stuff.batch(examples)"
   ]
  },
  {
   "cell_type": "code",
   "execution_count": 52,
   "id": "a4ff0aaf-b48b-4e7f-8bc0-8c18216a5cef",
   "metadata": {},
   "outputs": [],
   "source": [
    "llm = ChatOpenAI(temperature=0, model=llm_model)\n",
    "eval_chain = QAEvalChain.from_llm(llm)"
   ]
  },
  {
   "cell_type": "code",
   "execution_count": 53,
   "id": "490fb04d-8926-4de1-bbb4-3d1f1b3afd46",
   "metadata": {},
   "outputs": [],
   "source": [
    "graded_outputs = eval_chain.evaluate(examples, predictions)"
   ]
  },
  {
   "cell_type": "code",
   "execution_count": 58,
   "id": "c80574a0-5633-4f1b-8155-bdfb235cc22c",
   "metadata": {},
   "outputs": [
    {
     "data": {
      "text/plain": [
       "{'results': 'CORRECT'}"
      ]
     },
     "execution_count": 58,
     "metadata": {},
     "output_type": "execute_result"
    }
   ],
   "source": [
    "graded_outputs[1]"
   ]
  },
  {
   "cell_type": "code",
   "execution_count": 59,
   "id": "9b6fd589-a351-4873-bddf-f108bc769e53",
   "metadata": {},
   "outputs": [
    {
     "name": "stdout",
     "output_type": "stream",
     "text": [
      "Example 0:\n",
      "Question: What is the estimated range of the 2024 ElectroZoom on a single charge?\n",
      "Real Answer: The 2024 ElectroZoom has an estimated range of up to 350 miles on a single charge.\n",
      "Predicted Answer: The estimated range of the 2024 ElectroZoom on a single charge is up to 350 miles.\n",
      "Predicted Grade: CORRECT\n",
      "\n",
      "Example 1:\n",
      "Question: What sizes are available for the CozyCloud Hoodie?\n",
      "Real Answer: The CozyCloud Hoodie is available in sizes XS to 3XL.\n",
      "Predicted Answer: The CozyCloud Hoodie is available in sizes XS to 3XL.\n",
      "Predicted Grade: CORRECT\n",
      "\n",
      "Example 2:\n",
      "Question: Who is the 13.3-inch MacBook Pro perfect for according to the document?\n",
      "Real Answer: According to the document, the 13.3-inch MacBook Pro is perfect for students, professionals, and creative individuals.\n",
      "Predicted Answer: The 13.3-inch MacBook Pro is perfect for students, professionals, and creative individuals.\n",
      "Predicted Grade: CORRECT\n",
      "\n",
      "Example 3:\n",
      "Question: What are the key features of the stiletto heels described in the document?\n",
      "Real Answer: The key features of the stiletto heels are a pointed toe, a stiletto heel, and a heel height of 4 inches.\n",
      "Predicted Answer: The key features of the stiletto heels described in the document are a pointed toe, a stiletto heel, and a comfortable fit. The heel height of these shoes is 4 inches.\n",
      "Predicted Grade: CORRECT\n",
      "\n",
      "Example 4:\n",
      "Question: What is the type and description of the product mentioned in the document?\n",
      "Real Answer: The type is a chair and the description is that it is a cozy fleece throw blanket perfect for snuggling up on the couch or bed. It is made from soft, plush fleece and is available in a variety of colors. This throw blanket is 50 inches by 60 inches.\n",
      "Predicted Answer: The product mentioned in the document is a KitchenAid stand mixer. It features a powerful motor, a variety of attachments, and a sleek design. The KitchenAid stand mixer has a capacity of 5 quarts.\n",
      "Predicted Grade: INCORRECT\n",
      "\n",
      "Example 5:\n",
      "Question: What are some key features of the wireless noise-cancelling headphones described in the document?\n",
      "Real Answer: The wireless noise-cancelling headphones described in the document feature a comfortable fit, long-lasting battery life of up to 20 hours, and superior sound quality.\n",
      "Predicted Answer: Some key features of the wireless noise-cancelling headphones described in the document include:\n",
      "- Comfortable fit\n",
      "- Long-lasting battery life of up to 20 hours\n",
      "- Superior sound quality\n",
      "Predicted Grade: CORRECT\n",
      "\n",
      "Example 6:\n",
      "Question: What are some key features of the KitchenAid stand mixer mentioned in the document?\n",
      "Real Answer: The document mentions that the KitchenAid stand mixer features a powerful motor, a variety of attachments, and a sleek design. It also has a capacity of 5 quarts.\n",
      "Predicted Answer: Some key features of the KitchenAid stand mixer mentioned in the document are:\n",
      "- Powerful motor\n",
      "- Variety of attachments\n",
      "- Sleek design\n",
      "- 5-quart capacity\n",
      "Predicted Grade: CORRECT\n",
      "\n"
     ]
    }
   ],
   "source": [
    "for i, eg in enumerate(examples):\n",
    "    print(f\"Example {i}:\")\n",
    "    print(\"Question: \" + predictions[i]['query'])\n",
    "    print(\"Real Answer: \" + predictions[i]['answer'])\n",
    "    print(\"Predicted Answer: \" + predictions[i]['result'])\n",
    "    print(\"Predicted Grade: \" + graded_outputs[i]['results'])\n",
    "    print()"
   ]
  },
  {
   "cell_type": "markdown",
   "id": "ffe9b718-1307-4825-b2dd-d7679d35ef38",
   "metadata": {},
   "source": [
    "## <b><font color='darkblue'>LangChain evaluation platform</font></b>\n",
    "The LangChain evaluation platform, LangChain Plus, can be accessed here https://www.langchain.plus/. Use the invite code `lang_learners_2023`"
   ]
  },
  {
   "cell_type": "markdown",
   "id": "d9affc92-460c-45e6-b2fb-c7e28d5090e0",
   "metadata": {},
   "source": [
    "## <b><font color='darkblue'>Supplement</font></b>\n",
    "* [Deeplearning.ai - Langchain Ch2: Model, prompt and parser](https://github.com/johnklee/ml_articles/blob/master/deeplearning_ai/langchain/ch2_model_prompt_and_parser.ipynb)\n",
    "* [Deeplearning.ai - Langchain Ch3: Memory](https://github.com/johnklee/ml_articles/blob/master/deeplearning_ai/langchain/ch3_memory.ipynb)\n",
    "* [Deeplearning.ai - Langchain Ch4: Chain](https://github.com/johnklee/ml_articles/blob/master/deeplearning_ai/langchain/ch4_chains.ipynb)\n",
    "* [Deeplearning.ai - Langchain Ch5: Question and answer](https://github.com/johnklee/ml_articles/blob/master/deeplearning_ai/langchain/ch5_question_and_answer.ipynb)\n",
    "* [Deeplearning.ai - Langchain Ch6: Evaluation](https://github.com/johnklee/ml_articles/blob/master/deeplearning_ai/langchain/ch6_evaluation.ipynb)\n",
    "* [Deeplearning.ai - Langchain Ch7: Agents](https://github.com/johnklee/ml_articles/blob/master/deeplearning_ai/langchain/ch7_agents.ipynb)"
   ]
  }
 ],
 "metadata": {
  "kernelspec": {
   "display_name": "Python 3 (ipykernel)",
   "language": "python",
   "name": "python3"
  },
  "language_info": {
   "codemirror_mode": {
    "name": "ipython",
    "version": 3
   },
   "file_extension": ".py",
   "mimetype": "text/x-python",
   "name": "python",
   "nbconvert_exporter": "python",
   "pygments_lexer": "ipython3",
   "version": "3.11.8"
  }
 },
 "nbformat": 4,
 "nbformat_minor": 5
}
