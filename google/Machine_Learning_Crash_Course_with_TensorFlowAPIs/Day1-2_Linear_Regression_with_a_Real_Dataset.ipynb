{
 "cells": [
  {
   "cell_type": "markdown",
   "id": "6af711a3",
   "metadata": {},
   "source": [
    "## <font color='darkblue'>Preface</font>\n",
    "This notebook uses a real dataset to predict the prices of houses in California."
   ]
  },
  {
   "cell_type": "markdown",
   "id": "20fd84d4",
   "metadata": {},
   "source": [
    "### <font color='darkgreen'>Learning Objectives:</font>\n",
    "\n",
    "After doing this Colab, you'll know how to do the following:\n",
    "\n",
    "  * Read a .csv file into a [pandas](https://developers.google.com/machine-learning/glossary/#pandas) DataFrame.\n",
    "  * Examine a [dataset](https://developers.google.com/machine-learning/glossary/#data_set). \n",
    "  * Experiment with different [features](https://developers.google.com/machine-learning/glossary/#feature) in building a model.\n",
    "  * Tune the model's [hyperparameters](https://developers.google.com/machine-learning/glossary/#hyperparameter)."
   ]
  },
  {
   "cell_type": "markdown",
   "id": "663b8d32",
   "metadata": {},
   "source": [
    "### <font color='darkgreen'>Import relevant modules</font>"
   ]
  },
  {
   "cell_type": "code",
   "execution_count": 1,
   "id": "b0373336",
   "metadata": {},
   "outputs": [
    {
     "name": "stdout",
     "output_type": "stream",
     "text": [
      "INFO:tensorflow:Enabling eager execution\n",
      "INFO:tensorflow:Enabling v2 tensorshape\n",
      "INFO:tensorflow:Enabling resource variables\n",
      "INFO:tensorflow:Enabling tensor equality\n",
      "INFO:tensorflow:Enabling control flow v2\n"
     ]
    }
   ],
   "source": [
    "import pandas as pd\n",
    "import tensorflow as tf\n",
    "from matplotlib import pyplot as plt\n",
    "import warnings\n",
    "\n",
    "warnings.filterwarnings('ignore')\n",
    "\n",
    "# The following lines adjust the granularity of reporting. \n",
    "pd.options.display.max_rows = 10\n",
    "pd.options.display.float_format = \"{:.1f}\".format"
   ]
  },
  {
   "cell_type": "markdown",
   "id": "e791959c",
   "metadata": {},
   "source": [
    "<a id='sect0'></a>\n",
    "### <font color='darkgreen'>Agenda</font>\n",
    "* <font size='3ptx'><b><a href='#sect1'>The Dataset</a></b></font>\n",
    "* <font size='3ptx'><b><a href='#sect2'>Linear Regression Model</a></b></font>\n",
    "* <font size='3ptx'><b><a href='#sect3'>Feature engineering</a></b></font>"
   ]
  },
  {
   "cell_type": "markdown",
   "id": "c98bcc59",
   "metadata": {},
   "source": [
    "<a id='sect1'></a>\n",
    "## <font color='darkblue'>The Dataset</font>\n",
    "* <font size='3ptx'><b><a href='#sect1_1'>The dataset format</a></b></font>\n",
    "* <font size='3ptx'><b><a href='#sect1_2'>Load the .csv file into a pandas DataFrame</a></b></font>\n",
    "* <font size='3ptx'><b><a href='#sect1_3'>Examine the dataset</a></b></font>\n",
    "* <font size='3ptx'><b><a href='#sect1_4'>Task 1: Identify anomalies in the dataset</a></b></font>\n",
    "  \n",
    "The [dataset for this exercise](https://developers.google.com/machine-learning/crash-course/california-housing-data-description) is based on 1990 census data from California. The dataset is old but still provides a great opportunity to learn about machine learning programming."
   ]
  },
  {
   "cell_type": "markdown",
   "id": "c14b76c8",
   "metadata": {},
   "source": [
    "<a id='sect1_1'></a>\n",
    "### <font color='darkgreen'>The dataset format</font>\n",
    "\n",
    "Datasets are often stored on disk or at a URL in [.csv format](https://wikipedia.org/wiki/Comma-separated_values). \n",
    "\n",
    "A well-formed .csv file contains column names in the first row, followed by many rows of data.  A comma divides each value in each row. For example, here are the first five rows of the .csv file file holding the California Housing Dataset:\n",
    "\n",
    "```\n",
    "\"longitude\",\"latitude\",\"housing_median_age\",\"total_rooms\",\"total_bedrooms\",\"population\",\"households\",\"median_income\",\"median_house_value\"\n",
    "-114.310000,34.190000,15.000000,5612.000000,1283.000000,1015.000000,472.000000,1.493600,66900.000000\n",
    "-114.470000,34.400000,19.000000,7650.000000,1901.000000,1129.000000,463.000000,1.820000,80100.000000\n",
    "-114.560000,33.690000,17.000000,720.000000,174.000000,333.000000,117.000000,1.650900,85700.000000\n",
    "-114.570000,33.640000,14.000000,1501.000000,337.000000,515.000000,226.000000,3.191700,73400.000000\n",
    "```\n"
   ]
  },
  {
   "cell_type": "markdown",
   "id": "e7844bc5",
   "metadata": {},
   "source": [
    "<a id='sect1_2'></a>\n",
    "### <font color='darkgreen'>Load the .csv file into a pandas DataFrame</font>\n",
    "\n",
    "This notebook, like **many machine learning programs, gathers the .csv file and stores the data in memory as a pandas Dataframe.**  pandas is an open source Python library.  The primary datatype in pandas is a DataFrame.  You can imagine a pandas DataFrame as a spreadsheet in which each row is identified by a number and each column by a name. pandas is itself built on another open source Python library called NumPy. If you aren't familiar with these technologies, please view these two quick tutorials:\n",
    "\n",
    "*   [NumPy](https://colab.research.google.com/github/google/eng-edu/blob/main/ml/cc/exercises/numpy_ultraquick_tutorial.ipynb?utm_source=linearregressionreal-colab&utm_medium=colab&utm_campaign=colab-external&utm_content=numpy_tf2-colab&hl=en)\n",
    "*   [Pandas DataFrames](https://colab.research.google.com/github/google/eng-edu/blob/main/ml/cc/exercises/pandas_dataframe_ultraquick_tutorial.ipynb?utm_source=linearregressionreal-colab&utm_medium=colab&utm_campaign=colab-external&utm_content=pandas_tf2-colab&hl=en)\n",
    "\n",
    "The following code cell imports the .csv file into a pandas DataFrame and scales the values in the label (`median_house_value`):"
   ]
  },
  {
   "cell_type": "code",
   "execution_count": 2,
   "id": "088022a9",
   "metadata": {},
   "outputs": [
    {
     "data": {
      "text/html": [
       "<div>\n",
       "<style scoped>\n",
       "    .dataframe tbody tr th:only-of-type {\n",
       "        vertical-align: middle;\n",
       "    }\n",
       "\n",
       "    .dataframe tbody tr th {\n",
       "        vertical-align: top;\n",
       "    }\n",
       "\n",
       "    .dataframe thead th {\n",
       "        text-align: right;\n",
       "    }\n",
       "</style>\n",
       "<table border=\"1\" class=\"dataframe\">\n",
       "  <thead>\n",
       "    <tr style=\"text-align: right;\">\n",
       "      <th></th>\n",
       "      <th>longitude</th>\n",
       "      <th>latitude</th>\n",
       "      <th>housing_median_age</th>\n",
       "      <th>total_rooms</th>\n",
       "      <th>total_bedrooms</th>\n",
       "      <th>population</th>\n",
       "      <th>households</th>\n",
       "      <th>median_income</th>\n",
       "      <th>median_house_value</th>\n",
       "    </tr>\n",
       "  </thead>\n",
       "  <tbody>\n",
       "    <tr>\n",
       "      <th>0</th>\n",
       "      <td>-114.3</td>\n",
       "      <td>34.2</td>\n",
       "      <td>15.0</td>\n",
       "      <td>5612.0</td>\n",
       "      <td>1283.0</td>\n",
       "      <td>1015.0</td>\n",
       "      <td>472.0</td>\n",
       "      <td>1.5</td>\n",
       "      <td>66.9</td>\n",
       "    </tr>\n",
       "    <tr>\n",
       "      <th>1</th>\n",
       "      <td>-114.5</td>\n",
       "      <td>34.4</td>\n",
       "      <td>19.0</td>\n",
       "      <td>7650.0</td>\n",
       "      <td>1901.0</td>\n",
       "      <td>1129.0</td>\n",
       "      <td>463.0</td>\n",
       "      <td>1.8</td>\n",
       "      <td>80.1</td>\n",
       "    </tr>\n",
       "    <tr>\n",
       "      <th>2</th>\n",
       "      <td>-114.6</td>\n",
       "      <td>33.7</td>\n",
       "      <td>17.0</td>\n",
       "      <td>720.0</td>\n",
       "      <td>174.0</td>\n",
       "      <td>333.0</td>\n",
       "      <td>117.0</td>\n",
       "      <td>1.7</td>\n",
       "      <td>85.7</td>\n",
       "    </tr>\n",
       "    <tr>\n",
       "      <th>3</th>\n",
       "      <td>-114.6</td>\n",
       "      <td>33.6</td>\n",
       "      <td>14.0</td>\n",
       "      <td>1501.0</td>\n",
       "      <td>337.0</td>\n",
       "      <td>515.0</td>\n",
       "      <td>226.0</td>\n",
       "      <td>3.2</td>\n",
       "      <td>73.4</td>\n",
       "    </tr>\n",
       "    <tr>\n",
       "      <th>4</th>\n",
       "      <td>-114.6</td>\n",
       "      <td>33.6</td>\n",
       "      <td>20.0</td>\n",
       "      <td>1454.0</td>\n",
       "      <td>326.0</td>\n",
       "      <td>624.0</td>\n",
       "      <td>262.0</td>\n",
       "      <td>1.9</td>\n",
       "      <td>65.5</td>\n",
       "    </tr>\n",
       "  </tbody>\n",
       "</table>\n",
       "</div>"
      ],
      "text/plain": [
       "   longitude  latitude  housing_median_age  total_rooms  total_bedrooms  \\\n",
       "0     -114.3      34.2                15.0       5612.0          1283.0   \n",
       "1     -114.5      34.4                19.0       7650.0          1901.0   \n",
       "2     -114.6      33.7                17.0        720.0           174.0   \n",
       "3     -114.6      33.6                14.0       1501.0           337.0   \n",
       "4     -114.6      33.6                20.0       1454.0           326.0   \n",
       "\n",
       "   population  households  median_income  median_house_value  \n",
       "0      1015.0       472.0            1.5                66.9  \n",
       "1      1129.0       463.0            1.8                80.1  \n",
       "2       333.0       117.0            1.7                85.7  \n",
       "3       515.0       226.0            3.2                73.4  \n",
       "4       624.0       262.0            1.9                65.5  "
      ]
     },
     "execution_count": 2,
     "metadata": {},
     "output_type": "execute_result"
    }
   ],
   "source": [
    "# Import the dataset.\n",
    "training_df = pd.read_csv(\n",
    "  filepath_or_buffer=\"https://download.mlcc.google.com/mledu-datasets/california_housing_train.csv\")\n",
    "\n",
    "# Scale the label.\n",
    "training_df[\"median_house_value\"] /= 1000.0\n",
    "\n",
    "# Print the first rows of the pandas DataFrame.\n",
    "training_df.head()"
   ]
  },
  {
   "cell_type": "code",
   "execution_count": 3,
   "id": "d4a02e6b",
   "metadata": {},
   "outputs": [
    {
     "data": {
      "text/plain": [
       "(17000, 9)"
      ]
     },
     "execution_count": 3,
     "metadata": {},
     "output_type": "execute_result"
    }
   ],
   "source": [
    "training_df.shape"
   ]
  },
  {
   "cell_type": "markdown",
   "id": "1614dfa2",
   "metadata": {},
   "source": [
    "Scaling `median_house_value` puts the value of each house in units of thousands. **Scaling will keep loss values and learning rates in a friendlier range**.  \n",
    "\n",
    "Although scaling a label is usually *not* essential, **scaling features in a multi-feature model usually** *is* **essential**."
   ]
  },
  {
   "cell_type": "markdown",
   "id": "f2c42259",
   "metadata": {},
   "source": [
    "<a id='sect1_3'></a>\n",
    "### <font color='darkgreen'>Examine the dataset</font>\n",
    "\n",
    "<font size='3ptx'><b>A large part of most machine learning projects is getting to know your data</b></font>. The pandas API provides a `describe` function that outputs the following statistics about every column in the DataFrame:\n",
    "\n",
    "* `count`, which is the number of rows in that column. Ideally, `count` contains the same value for every column. \n",
    "\n",
    "* `mean` and `std`, which contain the mean and standard deviation of the values in each column. \n",
    "\n",
    "* `min` and `max`, which contain the lowest and highest values in each column.\n",
    "\n",
    "* `25%`, `50%`, `75%`, which contain various [quantiles](https://developers.google.com/machine-learning/glossary/#quantile)."
   ]
  },
  {
   "cell_type": "code",
   "execution_count": 4,
   "id": "48d169b2",
   "metadata": {},
   "outputs": [
    {
     "data": {
      "text/html": [
       "<div>\n",
       "<style scoped>\n",
       "    .dataframe tbody tr th:only-of-type {\n",
       "        vertical-align: middle;\n",
       "    }\n",
       "\n",
       "    .dataframe tbody tr th {\n",
       "        vertical-align: top;\n",
       "    }\n",
       "\n",
       "    .dataframe thead th {\n",
       "        text-align: right;\n",
       "    }\n",
       "</style>\n",
       "<table border=\"1\" class=\"dataframe\">\n",
       "  <thead>\n",
       "    <tr style=\"text-align: right;\">\n",
       "      <th></th>\n",
       "      <th>longitude</th>\n",
       "      <th>latitude</th>\n",
       "      <th>housing_median_age</th>\n",
       "      <th>total_rooms</th>\n",
       "      <th>total_bedrooms</th>\n",
       "      <th>population</th>\n",
       "      <th>households</th>\n",
       "      <th>median_income</th>\n",
       "      <th>median_house_value</th>\n",
       "    </tr>\n",
       "  </thead>\n",
       "  <tbody>\n",
       "    <tr>\n",
       "      <th>count</th>\n",
       "      <td>17000.0</td>\n",
       "      <td>17000.0</td>\n",
       "      <td>17000.0</td>\n",
       "      <td>17000.0</td>\n",
       "      <td>17000.0</td>\n",
       "      <td>17000.0</td>\n",
       "      <td>17000.0</td>\n",
       "      <td>17000.0</td>\n",
       "      <td>17000.0</td>\n",
       "    </tr>\n",
       "    <tr>\n",
       "      <th>mean</th>\n",
       "      <td>-119.6</td>\n",
       "      <td>35.6</td>\n",
       "      <td>28.6</td>\n",
       "      <td>2643.7</td>\n",
       "      <td>539.4</td>\n",
       "      <td>1429.6</td>\n",
       "      <td>501.2</td>\n",
       "      <td>3.9</td>\n",
       "      <td>207.3</td>\n",
       "    </tr>\n",
       "    <tr>\n",
       "      <th>std</th>\n",
       "      <td>2.0</td>\n",
       "      <td>2.1</td>\n",
       "      <td>12.6</td>\n",
       "      <td>2179.9</td>\n",
       "      <td>421.5</td>\n",
       "      <td>1147.9</td>\n",
       "      <td>384.5</td>\n",
       "      <td>1.9</td>\n",
       "      <td>116.0</td>\n",
       "    </tr>\n",
       "    <tr>\n",
       "      <th>min</th>\n",
       "      <td>-124.3</td>\n",
       "      <td>32.5</td>\n",
       "      <td>1.0</td>\n",
       "      <td>2.0</td>\n",
       "      <td>1.0</td>\n",
       "      <td>3.0</td>\n",
       "      <td>1.0</td>\n",
       "      <td>0.5</td>\n",
       "      <td>15.0</td>\n",
       "    </tr>\n",
       "    <tr>\n",
       "      <th>25%</th>\n",
       "      <td>-121.8</td>\n",
       "      <td>33.9</td>\n",
       "      <td>18.0</td>\n",
       "      <td>1462.0</td>\n",
       "      <td>297.0</td>\n",
       "      <td>790.0</td>\n",
       "      <td>282.0</td>\n",
       "      <td>2.6</td>\n",
       "      <td>119.4</td>\n",
       "    </tr>\n",
       "    <tr>\n",
       "      <th>50%</th>\n",
       "      <td>-118.5</td>\n",
       "      <td>34.2</td>\n",
       "      <td>29.0</td>\n",
       "      <td>2127.0</td>\n",
       "      <td>434.0</td>\n",
       "      <td>1167.0</td>\n",
       "      <td>409.0</td>\n",
       "      <td>3.5</td>\n",
       "      <td>180.4</td>\n",
       "    </tr>\n",
       "    <tr>\n",
       "      <th>75%</th>\n",
       "      <td>-118.0</td>\n",
       "      <td>37.7</td>\n",
       "      <td>37.0</td>\n",
       "      <td>3151.2</td>\n",
       "      <td>648.2</td>\n",
       "      <td>1721.0</td>\n",
       "      <td>605.2</td>\n",
       "      <td>4.8</td>\n",
       "      <td>265.0</td>\n",
       "    </tr>\n",
       "    <tr>\n",
       "      <th>max</th>\n",
       "      <td>-114.3</td>\n",
       "      <td>42.0</td>\n",
       "      <td>52.0</td>\n",
       "      <td>37937.0</td>\n",
       "      <td>6445.0</td>\n",
       "      <td>35682.0</td>\n",
       "      <td>6082.0</td>\n",
       "      <td>15.0</td>\n",
       "      <td>500.0</td>\n",
       "    </tr>\n",
       "  </tbody>\n",
       "</table>\n",
       "</div>"
      ],
      "text/plain": [
       "       longitude  latitude  housing_median_age  total_rooms  total_bedrooms  \\\n",
       "count    17000.0   17000.0             17000.0      17000.0         17000.0   \n",
       "mean      -119.6      35.6                28.6       2643.7           539.4   \n",
       "std          2.0       2.1                12.6       2179.9           421.5   \n",
       "min       -124.3      32.5                 1.0          2.0             1.0   \n",
       "25%       -121.8      33.9                18.0       1462.0           297.0   \n",
       "50%       -118.5      34.2                29.0       2127.0           434.0   \n",
       "75%       -118.0      37.7                37.0       3151.2           648.2   \n",
       "max       -114.3      42.0                52.0      37937.0          6445.0   \n",
       "\n",
       "       population  households  median_income  median_house_value  \n",
       "count     17000.0     17000.0        17000.0             17000.0  \n",
       "mean       1429.6       501.2            3.9               207.3  \n",
       "std        1147.9       384.5            1.9               116.0  \n",
       "min           3.0         1.0            0.5                15.0  \n",
       "25%         790.0       282.0            2.6               119.4  \n",
       "50%        1167.0       409.0            3.5               180.4  \n",
       "75%        1721.0       605.2            4.8               265.0  \n",
       "max       35682.0      6082.0           15.0               500.0  "
      ]
     },
     "execution_count": 4,
     "metadata": {},
     "output_type": "execute_result"
    }
   ],
   "source": [
    "# Get statistics on the dataset.\n",
    "training_df.describe()"
   ]
  },
  {
   "cell_type": "markdown",
   "id": "fa2c9e18",
   "metadata": {},
   "source": [
    "<a id='sect1_4'></a>\n",
    "### <font color='darkgreen'>Task 1: Identify anomalies in the dataset</font>\n",
    "Do you see any anomalies (strange values) in the data? \n",
    "\n",
    "> The maximum value (max) of several columns seems very\n",
    "> high compared to the other quantiles. For example,\n",
    "> example the `total_rooms` column. Given the quantile\n",
    "> values (25%, 50%, and 75%), you might expect the \n",
    "> max value of `total_rooms` to be approximately \n",
    "> 5,000 or possibly 10,000. However, the max value \n",
    "> is actually 37,937.\n",
    "\n",
    "<font color='darkred'>**When you see anomalies in a column, become more careful about using that column as a feature. That said, anomalies in potential features sometimes mirror anomalies in the label, which could make the column be**</font> (<font color='brown'>or seem to be</font>) <font color='darkred'>**a powerful feature**</font>. Also, as you will see later in the course, you might be able to represent (pre-process) raw data in order to make columns into useful features."
   ]
  },
  {
   "cell_type": "markdown",
   "id": "298ae520",
   "metadata": {},
   "source": [
    "<a id='sect2'></a>\n",
    "## <font color='darkblue'>Linear Regression Model</font> ([back](#sect0))\n",
    "* <font size='3ptx'><b><a href='#sect2_1'>Define functions that build and train a model</a></b></font>\n",
    "* <font size='3ptx'><b><a href='#sect2_2'>Define plotting functions</a></b></font>\n",
    "* <font size='3ptx'><b><a href='#sect2_3'>Model training</a></b></font>\n",
    "* <font size='3ptx'><b><a href='#sect2_4'>Use the model to make predictions</a></b></font>\n",
    "* <font size='3ptx'><b><a href='#sect2_5'>Task 2: Judge the predictive power of the model</a></b></font>\n",
    "* <font size='3ptx'><b><a href='#sect2_6'>Task 3: Try a different feature</a></b></font>"
   ]
  },
  {
   "cell_type": "markdown",
   "id": "09e825e3",
   "metadata": {},
   "source": [
    "<a id='sect2_1'></a>\n",
    "### <font color='darkgreen'>Define functions that build and train a model</font>\n",
    "\n",
    "The following code defines two functions:\n",
    "\n",
    "  * `build_model(my_learning_rate)`, which builds a randomly-initialized model.\n",
    "  * `train_model(model, feature, label, epochs)`, which trains the model from the examples (feature and label) you pass. \n"
   ]
  },
  {
   "cell_type": "code",
   "execution_count": 5,
   "id": "83c543ef",
   "metadata": {},
   "outputs": [
    {
     "name": "stdout",
     "output_type": "stream",
     "text": [
      "Defined the create_model and traing_model functions.\n"
     ]
    }
   ],
   "source": [
    "def build_model(my_learning_rate):\n",
    "  \"\"\"Create and compile a simple linear regression model.\"\"\"\n",
    "  # Most simple tf.keras models are sequential.\n",
    "  model = tf.keras.models.Sequential()\n",
    "\n",
    "  # Describe the topography of the model.\n",
    "  # The topography of a simple linear regression model\n",
    "  # is a single node in a single layer.\n",
    "  model.add(tf.keras.layers.Dense(units=1, \n",
    "                                  input_shape=(1,)))\n",
    "\n",
    "  # Compile the model topography into code that TensorFlow can efficiently\n",
    "  # execute. Configure training to minimize the model's mean squared error. \n",
    "  model.compile(optimizer=tf.keras.optimizers.RMSprop(lr=my_learning_rate),\n",
    "                loss=\"mean_squared_error\",\n",
    "                metrics=[tf.keras.metrics.RootMeanSquaredError()])\n",
    "\n",
    "  return model        \n",
    "\n",
    "\n",
    "def train_model(model, df, feature, label, epochs, batch_size, verbose=0):\n",
    "  \"\"\"Train the model by feeding it data.\"\"\"\n",
    "\n",
    "  # Feed the model the feature and the label.\n",
    "  # The model will train for the specified number of epochs. \n",
    "  history = model.fit(x=df[feature],\n",
    "                      y=df[label],\n",
    "                      batch_size=batch_size,\n",
    "                      epochs=epochs,\n",
    "                      verbose=verbose)\n",
    "\n",
    "  # Gather the trained model's weight and bias.\n",
    "  trained_weight = model.get_weights()[0]\n",
    "  trained_bias = model.get_weights()[1]\n",
    "\n",
    "  # The list of epochs is stored separately from the rest of history.\n",
    "  epochs = history.epoch\n",
    "  \n",
    "  # Isolate the error for each epoch.\n",
    "  hist = pd.DataFrame(history.history)\n",
    "\n",
    "  # To track the progression of training, we're going to take a snapshot\n",
    "  # of the model's root mean squared error at each epoch. \n",
    "  rmse = hist[\"root_mean_squared_error\"]\n",
    "\n",
    "  return trained_weight, trained_bias, epochs, rmse\n",
    "\n",
    "print(\"Defined the create_model and traing_model functions.\")"
   ]
  },
  {
   "cell_type": "markdown",
   "id": "d9af57ab",
   "metadata": {},
   "source": [
    "<a id='sect2_2'></a>\n",
    "### <font color='darkgreen'>Define plotting functions</font>\n",
    "The following [matplotlib](https://developers.google.com/machine-learning/glossary/#matplotlib) functions create the following plots:\n",
    "\n",
    "*  A scatter plot of the feature vs. the label, and a line showing the output of the trained model\n",
    "*  A loss curve"
   ]
  },
  {
   "cell_type": "code",
   "execution_count": 6,
   "id": "84eeeb8c",
   "metadata": {},
   "outputs": [
    {
     "name": "stdout",
     "output_type": "stream",
     "text": [
      "Defined the plot_the_model and plot_the_loss_curve functions.\n"
     ]
    }
   ],
   "source": [
    "def plot_the_result(trained_weight, trained_bias, feature, label, epochs, rmse):\n",
    "  plt.rcParams['figure.figsize'] = [12, 4]\n",
    "  figure, axis = plt.subplots(1, 2)\n",
    "  \n",
    "  plot_the_model(axis[0], trained_weight, trained_bias, feature, label)\n",
    "  plot_the_loss_curve(axis[1], epochs, rmse)\n",
    "  \n",
    "  # Render the scatter plot and the red line.\n",
    "  plt.show()\n",
    "  \n",
    "def plot_the_model(subplot, trained_weight, trained_bias, feature, label):\n",
    "  \"\"\"Plot the trained model against 200 random training examples.\"\"\"\n",
    "\n",
    "  # Label the axes.\n",
    "  subplot.set_xlabel(feature)\n",
    "  subplot.set_ylabel(label)\n",
    "\n",
    "  # Create a scatter plot from 200 random points of the dataset.\n",
    "  random_examples = training_df.sample(n=200)\n",
    "  subplot.scatter(random_examples[feature], random_examples[label])\n",
    "\n",
    "  # Create a red line representing the model. The red line starts\n",
    "  # at coordinates (x0, y0) and ends at coordinates (x1, y1).\n",
    "  x0 = 0\n",
    "  y0 = trained_bias\n",
    "  x1 = random_examples[feature].max() * 1.01\n",
    "  y1 = trained_bias + (trained_weight * x1)\n",
    "  subplot.plot([x0, x1], [y0, y1], c='r')\n",
    "\n",
    "\n",
    "def plot_the_loss_curve(subplot, epochs, rmse):\n",
    "  \"\"\"Plot a curve of loss vs. epoch.\"\"\"\n",
    "\n",
    "  subplot.set_xlabel(\"Epoch\")\n",
    "  subplot.set_ylabel(\"Root Mean Squared Error\")\n",
    "\n",
    "  subplot.plot(epochs, rmse, label=\"Loss\")\n",
    "  subplot.legend()\n",
    "  subplot.set_ylim([rmse.min()*0.97, rmse.max()])\n",
    "\n",
    "print(\"Defined the plot_the_model and plot_the_loss_curve functions.\")"
   ]
  },
  {
   "cell_type": "markdown",
   "id": "8f6df2ce",
   "metadata": {},
   "source": [
    "<a id='sect2_3'></a>\n",
    "### <font color='darkgreen'>Model training</font>\n",
    "\n",
    "An important part of machine learning is determining which [features](https://developers.google.com/machine-learning/glossary/#feature) correlate with the [label](https://developers.google.com/machine-learning/glossary/#label). **For example, real-life home-value prediction models typically rely on hundreds of features and synthetic features. However, this model relies on only one feature. For now, you'll arbitrarily use `total_rooms` as that feature.** "
   ]
  },
  {
   "cell_type": "code",
   "execution_count": 7,
   "id": "2b0994c4",
   "metadata": {},
   "outputs": [
    {
     "name": "stdout",
     "output_type": "stream",
     "text": [
      "\n",
      "The learned weight for your model is 0.0055\n",
      "The learned bias for your model is 132.2969\n",
      "\n"
     ]
    },
    {
     "data": {
      "image/png": "[encoded data removed]",
      "text/plain": [
       "<Figure size 864x288 with 2 Axes>"
      ]
     },
     "metadata": {
      "needs_background": "light"
     },
     "output_type": "display_data"
    }
   ],
   "source": [
    "# The following variables are the hyperparameters.\n",
    "learning_rate = 0.01\n",
    "epochs = 30\n",
    "batch_size = 30\n",
    "\n",
    "# Specify the feature and the label.\n",
    "my_feature = \"total_rooms\"  # the total number of rooms on a specific city block.\n",
    "my_label=\"median_house_value\" # the median value of a house on a specific city block.\n",
    "# That is, you're going to create a model that predicts house value based \n",
    "# solely on total_rooms.  \n",
    "\n",
    "# Discard any pre-existing version of the model.\n",
    "my_model = None\n",
    "\n",
    "# Invoke the functions.\n",
    "my_model = build_model(learning_rate)\n",
    "weight, bias, epochs, rmse = train_model(my_model, training_df, \n",
    "                                         my_feature, my_label,\n",
    "                                         epochs, batch_size)\n",
    "\n",
    "print(\"\\nThe learned weight for your model is %.4f\" % weight)\n",
    "print(\"The learned bias for your model is %.4f\\n\" % bias )\n",
    "\n",
    "plot_the_result(weight, bias, my_feature, my_label, epochs, rmse)"
   ]
  },
  {
   "cell_type": "markdown",
   "id": "96e10abc",
   "metadata": {},
   "source": [
    "A certain amount of randomness plays into training a model. Consequently, you'll get different results each time you train the model. That said, given the dataset and the hyperparameters, the trained model will generally do a poor job describing the feature's relation to the label."
   ]
  },
  {
   "cell_type": "markdown",
   "id": "9c30218b",
   "metadata": {},
   "source": [
    "<a id='sect2_4'></a>\n",
    "### <font color='darkgreen'>Use the model to make predictions</font>\n",
    "**You can use the trained model to make predictions.** In practice, [you should make predictions on examples that are not used in training](https://developers.google.com/machine-learning/crash-course/training-and-test-sets/splitting-data). However, for this exercise, you'll just work with a subset of the same training dataset. A later notebook exercise will explore ways to make predictions on examples not used in training.\n",
    "\n",
    "First, **run the following code to define the house prediction function**:"
   ]
  },
  {
   "cell_type": "code",
   "execution_count": 8,
   "id": "a46d5c5f",
   "metadata": {},
   "outputs": [],
   "source": [
    "def predict_house_values(my_model, n, feature, label):\n",
    "  \"\"\"Predict house values based on a feature.\"\"\"\n",
    "\n",
    "  batch = training_df[feature][10000:10000 + n]\n",
    "  predicted_values = my_model.predict_on_batch(x=batch)\n",
    "\n",
    "  print(\"feature   label          predicted      diff\")\n",
    "  print(\"  value   value          value          value\")\n",
    "  print(\"          in thousand$   in thousand$   in thousand$\")\n",
    "  print(\"----------------------------------------------------\")\n",
    "  total_diff = 0\n",
    "  for i in range(n):\n",
    "    diff = abs(predicted_values[i][0] - training_df[label][10000 + i])\n",
    "    print (\"%5.0f %6.0f %15.0f %15.0f\" % (\n",
    "      training_df[feature][10000 + i],\n",
    "      training_df[label][10000 + i],\n",
    "      predicted_values[i][0],\n",
    "      diff))\n",
    "    total_diff += diff\n",
    "  print(\"----------------------------------------------------\")\n",
    "  print(\"Average diff = %.02f\" % (total_diff/n))"
   ]
  },
  {
   "cell_type": "markdown",
   "id": "9f87e4dd",
   "metadata": {},
   "source": [
    "Now, invoke the house prediction function on 10 examples:"
   ]
  },
  {
   "cell_type": "code",
   "execution_count": 9,
   "id": "538d160a",
   "metadata": {},
   "outputs": [
    {
     "name": "stdout",
     "output_type": "stream",
     "text": [
      "feature   label          predicted      diff\n",
      "  value   value          value          value\n",
      "          in thousand$   in thousand$   in thousand$\n",
      "----------------------------------------------------\n",
      " 1960     53             143              90\n",
      " 3400     92             151              59\n",
      " 3677     69             153              83\n",
      " 2202     62             144              82\n",
      " 2403     80             146              66\n",
      " 5652    295             163             132\n",
      " 3318    500             151             349\n",
      " 2552    342             146             196\n",
      " 1364    118             140              22\n",
      " 3468    128             151              23\n",
      "----------------------------------------------------\n",
      "Average diff = 110.28\n"
     ]
    }
   ],
   "source": [
    "predict_house_values(my_model, 10, my_feature, my_label)"
   ]
  },
  {
   "cell_type": "markdown",
   "id": "bfb2391a",
   "metadata": {},
   "source": [
    "<a id='sect2_5'></a>\n",
    "### <font color='darkgreen'>Task 2: Judge the predictive power of the model</font>\n",
    "\n",
    "Look at the preceding table. **How close is the predicted value to the label value?  In other words, does your model accurately predict house values?**\n",
    "\n",
    "> Most of the predicted values differ significantly\n",
    "> from the label value, so the trained model probably \n",
    "> doesn't have much predictive power. However, the\n",
    "> first 10 examples might not be representative of \n",
    "> the rest of the examples.  "
   ]
  },
  {
   "cell_type": "markdown",
   "id": "78dec3ce",
   "metadata": {},
   "source": [
    "<a id='sect2_6'></a>\n",
    "### <font color='darkgreen'>Task 3: Try a different feature</font>\n",
    "\n",
    "The `total_rooms` feature had only a little predictive power. **Would a different feature have greater predictive power?  Try using `population` as the feature instead of `total_rooms`.**\n",
    "\n",
    "**<font color='darkred'>Note</font>**: When you change features, you might also need to change the hyperparameters."
   ]
  },
  {
   "cell_type": "code",
   "execution_count": 10,
   "id": "31e083a2",
   "metadata": {},
   "outputs": [
    {
     "data": {
      "image/png": "[encoded data removed]",
      "text/plain": [
       "<Figure size 864x288 with 2 Axes>"
      ]
     },
     "metadata": {
      "needs_background": "light"
     },
     "output_type": "display_data"
    },
    {
     "name": "stdout",
     "output_type": "stream",
     "text": [
      "\n",
      "The learned weight for your model is 0.0233\n",
      "The learned bias for your model is 211.8497\n",
      "\n"
     ]
    }
   ],
   "source": [
    "my_feature = \"population\" # Pick a feature other than \"total_rooms\"\n",
    "\n",
    "# Possibly, experiment with the hyperparameters.\n",
    "learning_rate = 0.05\n",
    "epochs = 18\n",
    "batch_size = 3\n",
    "\n",
    "# Don't change anything below.\n",
    "my_model = build_model(learning_rate)\n",
    "weight, bias, epochs, rmse = train_model(my_model, training_df, \n",
    "                                         my_feature, my_label,\n",
    "                                         epochs, batch_size)\n",
    "\n",
    "plot_the_result(weight, bias, my_feature, my_label, epochs, rmse)\n",
    "print(\"\\nThe learned weight for your model is %.4f\" % weight)\n",
    "print(\"The learned bias for your model is %.4f\\n\" % bias )"
   ]
  },
  {
   "cell_type": "code",
   "execution_count": 11,
   "id": "5e22b285",
   "metadata": {},
   "outputs": [
    {
     "name": "stdout",
     "output_type": "stream",
     "text": [
      "feature   label          predicted      diff\n",
      "  value   value          value          value\n",
      "          in thousand$   in thousand$   in thousand$\n",
      "----------------------------------------------------\n",
      " 1286     53             242             189\n",
      " 1867     92             255             163\n",
      " 2191     69             263             194\n",
      " 1052     62             236             174\n",
      " 1647     80             250             170\n",
      " 2312    295             266              30\n",
      " 1604    500             249             251\n",
      " 1066    342             237             106\n",
      "  338    118             220             102\n",
      " 1604    128             249             121\n",
      "----------------------------------------------------\n",
      "Average diff = 149.93\n"
     ]
    }
   ],
   "source": [
    "predict_house_values(my_model, 10, my_feature, my_label)"
   ]
  },
  {
   "cell_type": "markdown",
   "id": "0845ce55",
   "metadata": {},
   "source": [
    "Did `population` produce better predictions than `total_rooms`?\n",
    "\n",
    "> Training is not entirely deterministic, but **`population` \n",
    "> typically converges at a slightly higher RMSE than \n",
    "> `total_rooms`**.  So, `population` appears to be about \n",
    "> the same or slightly worse at making predictions \n",
    "> than `total_rooms`."
   ]
  },
  {
   "cell_type": "markdown",
   "id": "6748b4e9",
   "metadata": {},
   "source": [
    "<a id='sect3'></a>\n",
    "## <font color='darkblue'>Feature engineering</font> ([back](#sect0))\n",
    "* <font size='3ptx'><b><a href='#sect3_1'>Task 4: Define a synthetic feature</a></b></font>\n",
    "* <font size='3ptx'><b><a href='#sect3_2'>Task 5. Find feature(s) whose raw values correlate with the label</a></b></font>"
   ]
  },
  {
   "cell_type": "markdown",
   "id": "4d3b145c",
   "metadata": {},
   "source": [
    "<a id='sect3_1'></a>\n",
    "### <font color='darkgreen'>Task 4: Define a synthetic feature</font>\n",
    "\n",
    "You have determined that `total_rooms` and `population` were not useful features.  That is, neither the total number of rooms in a neighborhood nor the neighborhood's population successfully predicted the median house price of that neighborhood. Perhaps though, the *ratio* of `total_rooms` to `population` might have some predictive power. That is, perhaps block density relates to median house value.\n",
    "\n",
    "To explore this hypothesis, do the following: \n",
    "\n",
    "1. Create a [synthetic feature](https://developers.google.com/machine-learning/glossary/#synthetic_feature) that's a ratio of `total_rooms` to `population`. (If you are new to pandas DataFrames, please study the [Pandas DataFrame Ultraquick Tutorial](https://colab.research.google.com/github/google/eng-edu/blob/main/ml/cc/exercises/pandas_dataframe_ultraquick_tutorial.ipynb?utm_source=linearregressionreal-colab&utm_medium=colab&utm_campaign=colab-external&utm_content=pandas_tf2-colab&hl=en).)\n",
    "2. Tune the three hyperparameters.\n",
    "3. Determine whether this synthetic feature produces \n",
    "   a lower loss value than any of the single features you \n",
    "   tried earlier in this exercise."
   ]
  },
  {
   "cell_type": "code",
   "execution_count": 12,
   "id": "d94e8902",
   "metadata": {},
   "outputs": [
    {
     "data": {
      "image/png": "[encoded data removed]",
      "text/plain": [
       "<Figure size 864x288 with 2 Axes>"
      ]
     },
     "metadata": {
      "needs_background": "light"
     },
     "output_type": "display_data"
    },
    {
     "name": "stdout",
     "output_type": "stream",
     "text": [
      "\n",
      "The learned weight for your model is 39.0945\n",
      "The learned bias for your model is 128.4484\n",
      "\n"
     ]
    }
   ],
   "source": [
    "# Define a synthetic feature\n",
    "training_df[\"rooms_per_person\"] = training_df[\"total_rooms\"] / training_df[\"population\"]\n",
    "my_feature = \"rooms_per_person\"\n",
    "\n",
    "# Tune the hyperparameters.\n",
    "learning_rate = 0.06\n",
    "epochs = 24\n",
    "batch_size = 30\n",
    "\n",
    "# Don't change anything below this line.\n",
    "my_model = build_model(learning_rate)\n",
    "weight, bias, epochs, rmse = train_model(\n",
    "  my_model, training_df, my_feature, my_label, epochs, batch_size)\n",
    "\n",
    "plot_the_result(weight, bias, my_feature, my_label, epochs, rmse)\n",
    "print(\"\\nThe learned weight for your model is %.4f\" % weight)\n",
    "print(\"The learned bias for your model is %.4f\\n\" % bias )"
   ]
  },
  {
   "cell_type": "code",
   "execution_count": 13,
   "id": "65861e5e",
   "metadata": {},
   "outputs": [
    {
     "name": "stdout",
     "output_type": "stream",
     "text": [
      "feature   label          predicted      diff\n",
      "  value   value          value          value\n",
      "          in thousand$   in thousand$   in thousand$\n",
      "----------------------------------------------------\n",
      "    2     53             188             135\n",
      "    2     92             200             107\n",
      "    2     69             194             125\n",
      "    2     62             210             148\n",
      "    1     80             185             105\n",
      "    2    295             224              71\n",
      "    2    500             209             291\n",
      "    2    342             222             120\n",
      "    4    118             286             169\n",
      "    2    128             213              85\n",
      "----------------------------------------------------\n",
      "Average diff = 135.66\n"
     ]
    }
   ],
   "source": [
    "predict_house_values(my_model, 10, my_feature, my_label)"
   ]
  },
  {
   "cell_type": "markdown",
   "id": "86d34fbf",
   "metadata": {},
   "source": [
    "Based on the loss values, this synthetic feature produces a better model than the individual features you tried in <a href='#sect2_5'>Task 2</a> and <a href='#sect2_6'>Task 3</a>. However, the model still isn't creating great predictions."
   ]
  },
  {
   "cell_type": "markdown",
   "id": "6633d231",
   "metadata": {},
   "source": [
    "<a id='sect3_2'></a>\n",
    "### <font color='darkgreen'>Task 5. Find feature(s) whose raw values correlate with the label</font>\n",
    "\n",
    "<b>So far, we've relied on trial-and-error to identify possible features for the model.  Let's rely on statistics instead.</b>\n",
    "\n",
    "A <font color='darkblue'>**correlation matrix**</font> indicates how each attribute's raw values relate to the other attributes' raw values. Correlation values have the following meanings:\n",
    "\n",
    "  * `1.0`: perfect positive correlation; that is, when one attribute rises, the other attribute rises.\n",
    "  * `-1.0`: perfect negative correlation; that is, when one attribute rises, the other attribute falls. \n",
    "  * `0.0`: no correlation; the two columns [are not linearly related](https://en.wikipedia.org/wiki/Correlation_and_dependence#/media/File:Correlation_examples2.svg).\n",
    "\n",
    "<font size='3ptx'>**In general, the higher the absolute value of a correlation value, the greater its predictive power**</font>. For example, a correlation value of -0.8 implies far more predictive power than a correlation of -0.2.\n",
    "\n",
    "The following code cell generates the correlation matrix for attributes of the California Housing Dataset:"
   ]
  },
  {
   "cell_type": "code",
   "execution_count": 14,
   "id": "976ee140",
   "metadata": {},
   "outputs": [
    {
     "data": {
      "text/html": [
       "<div>\n",
       "<style scoped>\n",
       "    .dataframe tbody tr th:only-of-type {\n",
       "        vertical-align: middle;\n",
       "    }\n",
       "\n",
       "    .dataframe tbody tr th {\n",
       "        vertical-align: top;\n",
       "    }\n",
       "\n",
       "    .dataframe thead th {\n",
       "        text-align: right;\n",
       "    }\n",
       "</style>\n",
       "<table border=\"1\" class=\"dataframe\">\n",
       "  <thead>\n",
       "    <tr style=\"text-align: right;\">\n",
       "      <th></th>\n",
       "      <th>longitude</th>\n",
       "      <th>latitude</th>\n",
       "      <th>housing_median_age</th>\n",
       "      <th>total_rooms</th>\n",
       "      <th>total_bedrooms</th>\n",
       "      <th>population</th>\n",
       "      <th>households</th>\n",
       "      <th>median_income</th>\n",
       "      <th>median_house_value</th>\n",
       "      <th>rooms_per_person</th>\n",
       "    </tr>\n",
       "  </thead>\n",
       "  <tbody>\n",
       "    <tr>\n",
       "      <th>longitude</th>\n",
       "      <td>1.0</td>\n",
       "      <td>-0.9</td>\n",
       "      <td>-0.1</td>\n",
       "      <td>0.0</td>\n",
       "      <td>0.1</td>\n",
       "      <td>0.1</td>\n",
       "      <td>0.1</td>\n",
       "      <td>-0.0</td>\n",
       "      <td>-0.0</td>\n",
       "      <td>-0.1</td>\n",
       "    </tr>\n",
       "    <tr>\n",
       "      <th>latitude</th>\n",
       "      <td>-0.9</td>\n",
       "      <td>1.0</td>\n",
       "      <td>0.0</td>\n",
       "      <td>-0.0</td>\n",
       "      <td>-0.1</td>\n",
       "      <td>-0.1</td>\n",
       "      <td>-0.1</td>\n",
       "      <td>-0.1</td>\n",
       "      <td>-0.1</td>\n",
       "      <td>0.1</td>\n",
       "    </tr>\n",
       "    <tr>\n",
       "      <th>housing_median_age</th>\n",
       "      <td>-0.1</td>\n",
       "      <td>0.0</td>\n",
       "      <td>1.0</td>\n",
       "      <td>-0.4</td>\n",
       "      <td>-0.3</td>\n",
       "      <td>-0.3</td>\n",
       "      <td>-0.3</td>\n",
       "      <td>-0.1</td>\n",
       "      <td>0.1</td>\n",
       "      <td>-0.1</td>\n",
       "    </tr>\n",
       "    <tr>\n",
       "      <th>total_rooms</th>\n",
       "      <td>0.0</td>\n",
       "      <td>-0.0</td>\n",
       "      <td>-0.4</td>\n",
       "      <td>1.0</td>\n",
       "      <td>0.9</td>\n",
       "      <td>0.9</td>\n",
       "      <td>0.9</td>\n",
       "      <td>0.2</td>\n",
       "      <td>0.1</td>\n",
       "      <td>0.1</td>\n",
       "    </tr>\n",
       "    <tr>\n",
       "      <th>total_bedrooms</th>\n",
       "      <td>0.1</td>\n",
       "      <td>-0.1</td>\n",
       "      <td>-0.3</td>\n",
       "      <td>0.9</td>\n",
       "      <td>1.0</td>\n",
       "      <td>0.9</td>\n",
       "      <td>1.0</td>\n",
       "      <td>-0.0</td>\n",
       "      <td>0.0</td>\n",
       "      <td>0.0</td>\n",
       "    </tr>\n",
       "    <tr>\n",
       "      <th>population</th>\n",
       "      <td>0.1</td>\n",
       "      <td>-0.1</td>\n",
       "      <td>-0.3</td>\n",
       "      <td>0.9</td>\n",
       "      <td>0.9</td>\n",
       "      <td>1.0</td>\n",
       "      <td>0.9</td>\n",
       "      <td>-0.0</td>\n",
       "      <td>-0.0</td>\n",
       "      <td>-0.1</td>\n",
       "    </tr>\n",
       "    <tr>\n",
       "      <th>households</th>\n",
       "      <td>0.1</td>\n",
       "      <td>-0.1</td>\n",
       "      <td>-0.3</td>\n",
       "      <td>0.9</td>\n",
       "      <td>1.0</td>\n",
       "      <td>0.9</td>\n",
       "      <td>1.0</td>\n",
       "      <td>0.0</td>\n",
       "      <td>0.1</td>\n",
       "      <td>-0.0</td>\n",
       "    </tr>\n",
       "    <tr>\n",
       "      <th>median_income</th>\n",
       "      <td>-0.0</td>\n",
       "      <td>-0.1</td>\n",
       "      <td>-0.1</td>\n",
       "      <td>0.2</td>\n",
       "      <td>-0.0</td>\n",
       "      <td>-0.0</td>\n",
       "      <td>0.0</td>\n",
       "      <td>1.0</td>\n",
       "      <td>0.7</td>\n",
       "      <td>0.2</td>\n",
       "    </tr>\n",
       "    <tr>\n",
       "      <th>median_house_value</th>\n",
       "      <td>-0.0</td>\n",
       "      <td>-0.1</td>\n",
       "      <td>0.1</td>\n",
       "      <td>0.1</td>\n",
       "      <td>0.0</td>\n",
       "      <td>-0.0</td>\n",
       "      <td>0.1</td>\n",
       "      <td>0.7</td>\n",
       "      <td>1.0</td>\n",
       "      <td>0.2</td>\n",
       "    </tr>\n",
       "    <tr>\n",
       "      <th>rooms_per_person</th>\n",
       "      <td>-0.1</td>\n",
       "      <td>0.1</td>\n",
       "      <td>-0.1</td>\n",
       "      <td>0.1</td>\n",
       "      <td>0.0</td>\n",
       "      <td>-0.1</td>\n",
       "      <td>-0.0</td>\n",
       "      <td>0.2</td>\n",
       "      <td>0.2</td>\n",
       "      <td>1.0</td>\n",
       "    </tr>\n",
       "  </tbody>\n",
       "</table>\n",
       "</div>"
      ],
      "text/plain": [
       "                    longitude  latitude  housing_median_age  total_rooms  \\\n",
       "longitude                 1.0      -0.9                -0.1          0.0   \n",
       "latitude                 -0.9       1.0                 0.0         -0.0   \n",
       "housing_median_age       -0.1       0.0                 1.0         -0.4   \n",
       "total_rooms               0.0      -0.0                -0.4          1.0   \n",
       "total_bedrooms            0.1      -0.1                -0.3          0.9   \n",
       "population                0.1      -0.1                -0.3          0.9   \n",
       "households                0.1      -0.1                -0.3          0.9   \n",
       "median_income            -0.0      -0.1                -0.1          0.2   \n",
       "median_house_value       -0.0      -0.1                 0.1          0.1   \n",
       "rooms_per_person         -0.1       0.1                -0.1          0.1   \n",
       "\n",
       "                    total_bedrooms  population  households  median_income  \\\n",
       "longitude                      0.1         0.1         0.1           -0.0   \n",
       "latitude                      -0.1        -0.1        -0.1           -0.1   \n",
       "housing_median_age            -0.3        -0.3        -0.3           -0.1   \n",
       "total_rooms                    0.9         0.9         0.9            0.2   \n",
       "total_bedrooms                 1.0         0.9         1.0           -0.0   \n",
       "population                     0.9         1.0         0.9           -0.0   \n",
       "households                     1.0         0.9         1.0            0.0   \n",
       "median_income                 -0.0        -0.0         0.0            1.0   \n",
       "median_house_value             0.0        -0.0         0.1            0.7   \n",
       "rooms_per_person               0.0        -0.1        -0.0            0.2   \n",
       "\n",
       "                    median_house_value  rooms_per_person  \n",
       "longitude                         -0.0              -0.1  \n",
       "latitude                          -0.1               0.1  \n",
       "housing_median_age                 0.1              -0.1  \n",
       "total_rooms                        0.1               0.1  \n",
       "total_bedrooms                     0.0               0.0  \n",
       "population                        -0.0              -0.1  \n",
       "households                         0.1              -0.0  \n",
       "median_income                      0.7               0.2  \n",
       "median_house_value                 1.0               0.2  \n",
       "rooms_per_person                   0.2               1.0  "
      ]
     },
     "execution_count": 14,
     "metadata": {},
     "output_type": "execute_result"
    }
   ],
   "source": [
    "# Generate a correlation matrix.\n",
    "training_df.corr()"
   ]
  },
  {
   "cell_type": "markdown",
   "id": "e660076c",
   "metadata": {},
   "source": [
    "The correlation matrix shows nine potential features (<font color='brown'>including a synthetic feature</font>) and one label (<font color='brown'>`median_house_value`</font>).  A strong negative correlation or strong positive correlation with the label suggests a potentially good feature.  \n",
    "\n",
    "**Your Task:** Determine which of the nine potential features appears to be the best candidate for a feature?\n",
    "\n",
    "> The `median_income` correlates 0.7 with the label \n",
    "> (`median_house_value`), so `median_income` might be a \n",
    "> good feature. The other seven potential features\n",
    "> all have a correlation relatively close to 0. \n",
    "> If time permits, try `median_income` as the feature\n",
    "> and see whether the model improves."
   ]
  },
  {
   "cell_type": "code",
   "execution_count": 15,
   "id": "bd31c3d9",
   "metadata": {},
   "outputs": [
    {
     "data": {
      "image/png": "[encoded data removed]",
      "text/plain": [
       "<Figure size 864x288 with 2 Axes>"
      ]
     },
     "metadata": {
      "needs_background": "light"
     },
     "output_type": "display_data"
    },
    {
     "name": "stdout",
     "output_type": "stream",
     "text": [
      "\n",
      "The learned weight for your model is 42.5692\n",
      "The learned bias for your model is 42.9230\n",
      "\n"
     ]
    }
   ],
   "source": [
    "my_feature = \"median_income\"\n",
    "\n",
    "# Tune the hyperparameters.\n",
    "learning_rate = 0.06\n",
    "epochs = 24\n",
    "batch_size = 30\n",
    "\n",
    "# Don't change anything below this line.\n",
    "my_model = build_model(learning_rate)\n",
    "weight, bias, epochs, rmse = train_model(\n",
    "  my_model, training_df, my_feature, my_label, epochs, batch_size)\n",
    "\n",
    "plot_the_result(weight, bias, my_feature, my_label, epochs, rmse)\n",
    "print(\"\\nThe learned weight for your model is %.4f\" % weight)\n",
    "print(\"The learned bias for your model is %.4f\\n\" % bias )"
   ]
  },
  {
   "cell_type": "code",
   "execution_count": 16,
   "id": "3486572b",
   "metadata": {},
   "outputs": [
    {
     "name": "stdout",
     "output_type": "stream",
     "text": [
      "feature   label          predicted      diff\n",
      "  value   value          value          value\n",
      "          in thousand$   in thousand$   in thousand$\n",
      "----------------------------------------------------\n",
      "    2     53             135              82\n",
      "    4     92             213             120\n",
      "    3     69             155              85\n",
      "    2     62             132              70\n",
      "    3     80             154              74\n",
      "    2    295             148             147\n",
      "   10    500             459              41\n",
      "    5    342             261              81\n",
      "    2    118             147              30\n",
      "    4    128             222              94\n",
      "----------------------------------------------------\n",
      "Average diff = 82.42\n"
     ]
    }
   ],
   "source": [
    "predict_house_values(my_model, 10, my_feature, my_label)"
   ]
  },
  {
   "cell_type": "markdown",
   "id": "12fc9d4e",
   "metadata": {},
   "source": [
    "<font size='3ptx'><b>*Correlation* matrices don't tell the entire story</b></font>. In later exercises, you'll find additional ways to unlock predictive power from potential features.\n",
    "\n",
    "<font color='darkred'>**Note:**</font> Using `median_income` as a feature may raise some ethical and fairness issues. Towards the end of the course, we'll explore ethical and fairness issues."
   ]
  }
 ],
 "metadata": {
  "kernelspec": {
   "display_name": "Python 3 (ipykernel)",
   "language": "python",
   "name": "python3"
  },
  "language_info": {
   "codemirror_mode": {
    "name": "ipython",
    "version": 3
   },
   "file_extension": ".py",
   "mimetype": "text/x-python",
   "name": "python",
   "nbconvert_exporter": "python",
   "pygments_lexer": "ipython3",
   "version": "3.9.9"
  }
 },
 "nbformat": 4,
 "nbformat_minor": 5
}
