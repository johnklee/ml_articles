{
 "cells": [
  {
   "cell_type": "markdown",
   "id": "9848f5a1",
   "metadata": {},
   "source": [
    "## <font color='darkblue'>Preface</font>\n",
    "This notebook builds a deep neural network to perform more sophisticated linear regression than the earlier notebooks."
   ]
  },
  {
   "cell_type": "markdown",
   "id": "acb4eda0",
   "metadata": {},
   "source": [
    "### <font color='darkgreen'>Learning Objectives:</font>\n",
    "\n",
    "After doing this Colab, you'll know how to do the following:\n",
    "\n",
    "  * Create a simple deep neural network.\n",
    "  * Tune the hyperparameters for a simple deep neural network."
   ]
  },
  {
   "cell_type": "markdown",
   "id": "8c6120e7",
   "metadata": {},
   "source": [
    "### <font color='darkgreen'>Call the import statements</font>\n",
    "The following code imports the necessary modules."
   ]
  },
  {
   "cell_type": "code",
   "execution_count": 1,
   "id": "332e6458",
   "metadata": {},
   "outputs": [
    {
     "name": "stdout",
     "output_type": "stream",
     "text": [
      "INFO:tensorflow:Enabling eager execution\n",
      "INFO:tensorflow:Enabling v2 tensorshape\n",
      "INFO:tensorflow:Enabling resource variables\n",
      "INFO:tensorflow:Enabling tensor equality\n",
      "INFO:tensorflow:Enabling control flow v2\n",
      "Imported modules.\n"
     ]
    }
   ],
   "source": [
    "import os\n",
    "import numpy as np\n",
    "import pandas as pd\n",
    "import tensorflow as tf\n",
    "from tensorflow.keras import layers\n",
    "from matplotlib import pyplot as plt\n",
    "import seaborn as sns\n",
    "import warnings\n",
    "\n",
    "warnings.filterwarnings('ignore')\n",
    "os.environ['TF_CPP_MIN_LOG_LEVEL'] = '3' \n",
    "\n",
    "# The following lines adjust the granularity of reporting. \n",
    "pd.options.display.max_rows = 10\n",
    "pd.options.display.float_format = \"{:.1f}\".format\n",
    "\n",
    "print(\"Imported modules.\")"
   ]
  },
  {
   "cell_type": "markdown",
   "id": "f8c1e0bd",
   "metadata": {},
   "source": [
    "### <font color='darkgreen'>Agenda</font>\n",
    "* <font size='3ptx'><b><a href='#sect1'>The Dataset</a></b></font>\n",
    "* <font size='3ptx'><b><a href='#sect2'>Intro to Neural Nets</a></b></font>"
   ]
  },
  {
   "cell_type": "markdown",
   "id": "c2612242",
   "metadata": {},
   "source": [
    "<a id='sect1'></a>\n",
    "## <font color='darkblue'>The Dataset</font>\n",
    "\n",
    "Like several of the previous exercises, this notebook uses the [California Housing Dataset](https://developers.google.com/machine-learning/crash-course/california-housing-data-description)."
   ]
  },
  {
   "cell_type": "markdown",
   "id": "510b9c40",
   "metadata": {},
   "source": [
    "### <font color='darkgreen'>Load the datasets from the internet</font>\n",
    "The following code cell loads the separate .csv files and creates the following two pandas DataFrames:\n",
    "\n",
    "* `train_df`, which contains the training set\n",
    "* `test_df`, which contains the test set"
   ]
  },
  {
   "cell_type": "code",
   "execution_count": 2,
   "id": "749fa405",
   "metadata": {},
   "outputs": [],
   "source": [
    "train_df = pd.read_csv(\"https://download.mlcc.google.com/mledu-datasets/california_housing_train.csv\")\n",
    "test_df = pd.read_csv(\"https://download.mlcc.google.com/mledu-datasets/california_housing_test.csv\")\n",
    "train_df = train_df.reindex(np.random.permutation(train_df.index)) # shuffle the training set"
   ]
  },
  {
   "cell_type": "markdown",
   "id": "808e6dd5",
   "metadata": {},
   "source": [
    "### <font color='darkgreen'>Normalize values</font>\n",
    "\n",
    "<font size='3ptx'><b>When creating a model with multiple features, the values of each feature should cover roughly the same range.</b></font>  For example, if one feature's range spans 500 to 100,000 and another feature's range spans 2 to 12, then the model will be difficult or impossible to train. Therefore, you should \n",
    "[normalize](https://developers.google.com/machine-learning/glossary/#normalization) features in a multi-feature model. \n",
    "\n",
    "The following code cell normalizes datasets by converting each raw value (<font color='brown'>including the label</font>) to its [Z-score](https://en.wikipedia.org/wiki/Standard_score). A [**Z-score**](https://en.wikipedia.org/wiki/Standard_score) is the number of standard deviations from the mean for a particular raw value. For example, consider a feature having the following characteristics:\n",
    "\n",
    "  * The mean is 60.\n",
    "  * The standard deviation is 10.\n",
    "\n",
    "The raw value 75 would have a Z-score of +1.5:\n",
    "\n",
    "```\n",
    "  Z-score = (75 - 60) / 10 = +1.5\n",
    "```\n",
    "\n",
    "The raw value 38 would have a Z-score of -2.2:\n",
    "\n",
    "```\n",
    "  Z-score = (38 - 60) / 10 = -2.2\n",
    "```"
   ]
  },
  {
   "cell_type": "code",
   "execution_count": 3,
   "id": "4292b269",
   "metadata": {},
   "outputs": [
    {
     "data": {
      "text/html": [
       "<div>\n",
       "<style scoped>\n",
       "    .dataframe tbody tr th:only-of-type {\n",
       "        vertical-align: middle;\n",
       "    }\n",
       "\n",
       "    .dataframe tbody tr th {\n",
       "        vertical-align: top;\n",
       "    }\n",
       "\n",
       "    .dataframe thead th {\n",
       "        text-align: right;\n",
       "    }\n",
       "</style>\n",
       "<table border=\"1\" class=\"dataframe\">\n",
       "  <thead>\n",
       "    <tr style=\"text-align: right;\">\n",
       "      <th></th>\n",
       "      <th>longitude</th>\n",
       "      <th>latitude</th>\n",
       "      <th>housing_median_age</th>\n",
       "      <th>total_rooms</th>\n",
       "      <th>total_bedrooms</th>\n",
       "      <th>population</th>\n",
       "      <th>households</th>\n",
       "      <th>median_income</th>\n",
       "      <th>median_house_value</th>\n",
       "    </tr>\n",
       "  </thead>\n",
       "  <tbody>\n",
       "    <tr>\n",
       "      <th>2150</th>\n",
       "      <td>1.1</td>\n",
       "      <td>-1.1</td>\n",
       "      <td>-0.4</td>\n",
       "      <td>-0.3</td>\n",
       "      <td>-0.2</td>\n",
       "      <td>-0.5</td>\n",
       "      <td>-0.3</td>\n",
       "      <td>-0.8</td>\n",
       "      <td>2.5</td>\n",
       "    </tr>\n",
       "    <tr>\n",
       "      <th>13991</th>\n",
       "      <td>-1.2</td>\n",
       "      <td>0.9</td>\n",
       "      <td>-0.3</td>\n",
       "      <td>0.8</td>\n",
       "      <td>0.9</td>\n",
       "      <td>1.4</td>\n",
       "      <td>1.0</td>\n",
       "      <td>0.0</td>\n",
       "      <td>0.1</td>\n",
       "    </tr>\n",
       "    <tr>\n",
       "      <th>16734</th>\n",
       "      <td>-1.7</td>\n",
       "      <td>1.5</td>\n",
       "      <td>-0.7</td>\n",
       "      <td>-0.7</td>\n",
       "      <td>-0.7</td>\n",
       "      <td>-0.8</td>\n",
       "      <td>-0.7</td>\n",
       "      <td>-0.6</td>\n",
       "      <td>-0.9</td>\n",
       "    </tr>\n",
       "    <tr>\n",
       "      <th>4052</th>\n",
       "      <td>0.8</td>\n",
       "      <td>-0.9</td>\n",
       "      <td>-0.0</td>\n",
       "      <td>-0.6</td>\n",
       "      <td>-0.6</td>\n",
       "      <td>-0.5</td>\n",
       "      <td>-0.5</td>\n",
       "      <td>0.5</td>\n",
       "      <td>-0.2</td>\n",
       "    </tr>\n",
       "    <tr>\n",
       "      <th>14950</th>\n",
       "      <td>-1.3</td>\n",
       "      <td>2.3</td>\n",
       "      <td>-0.4</td>\n",
       "      <td>-0.2</td>\n",
       "      <td>-0.4</td>\n",
       "      <td>-0.4</td>\n",
       "      <td>-0.4</td>\n",
       "      <td>0.4</td>\n",
       "      <td>-0.8</td>\n",
       "    </tr>\n",
       "  </tbody>\n",
       "</table>\n",
       "</div>"
      ],
      "text/plain": [
       "       longitude  latitude  housing_median_age  total_rooms  total_bedrooms  \\\n",
       "2150         1.1      -1.1                -0.4         -0.3            -0.2   \n",
       "13991       -1.2       0.9                -0.3          0.8             0.9   \n",
       "16734       -1.7       1.5                -0.7         -0.7            -0.7   \n",
       "4052         0.8      -0.9                -0.0         -0.6            -0.6   \n",
       "14950       -1.3       2.3                -0.4         -0.2            -0.4   \n",
       "\n",
       "       population  households  median_income  median_house_value  \n",
       "2150         -0.5        -0.3           -0.8                 2.5  \n",
       "13991         1.4         1.0            0.0                 0.1  \n",
       "16734        -0.8        -0.7           -0.6                -0.9  \n",
       "4052         -0.5        -0.5            0.5                -0.2  \n",
       "14950        -0.4        -0.4            0.4                -0.8  "
      ]
     },
     "execution_count": 3,
     "metadata": {},
     "output_type": "execute_result"
    }
   ],
   "source": [
    "# Calculate the Z-scores of each column in the training set and\n",
    "# write those Z-scores into a new pandas DataFrame named train_df_norm.\n",
    "train_df_mean = train_df.mean()\n",
    "train_df_std = train_df.std()\n",
    "train_df_norm = (train_df - train_df_mean)/train_df_std\n",
    "\n",
    "# Examine some of the values of the normalized training set. Notice that most \n",
    "# Z-scores fall between -2 and +2.\n",
    "train_df_norm.head()"
   ]
  },
  {
   "cell_type": "code",
   "execution_count": 4,
   "id": "12f985a7",
   "metadata": {},
   "outputs": [
    {
     "name": "stdout",
     "output_type": "stream",
     "text": [
      "Normalized the values.\n"
     ]
    }
   ],
   "source": [
    "# Calculate the Z-scores of each column in the test set.\n",
    "test_df_mean = test_df.mean()\n",
    "test_df_std = test_df.std()\n",
    "test_df_norm = (test_df - test_df_mean)/test_df_std\n",
    "\n",
    "print(\"Normalized the values.\")"
   ]
  },
  {
   "cell_type": "markdown",
   "id": "216d6062",
   "metadata": {},
   "source": [
    "### <font color='darkgreen'>Represent data</font>\n",
    "\n",
    "The following code cell creates a feature layer containing three features:\n",
    "\n",
    "* `latitude` X `longitude` (a feature cross)\n",
    "* `median_income`\n",
    "* `population`\n",
    "\n",
    "This code cell specifies the features that you'll ultimately train the model on and how each of those features will be represented. The transformations (<font color='brown'>collected in `my_feature_layer`</font>) don't actually get applied until you pass a DataFrame to it, which will happen when we train the model. "
   ]
  },
  {
   "cell_type": "code",
   "execution_count": 5,
   "id": "d7074e2f",
   "metadata": {},
   "outputs": [],
   "source": [
    "# Create an empty list that will eventually hold all created feature columns.\n",
    "feature_columns = []\n",
    "\n",
    "# We scaled all the columns, including latitude and longitude, into their\n",
    "# Z scores. So, instead of picking a resolution in degrees, we're going\n",
    "# to use resolution_in_Zs.  A resolution_in_Zs of 1 corresponds to \n",
    "# a full standard deviation. \n",
    "resolution_in_Zs = 0.3  # 3/10 of a standard deviation.\n",
    "\n",
    "# Create a bucket feature column for latitude.\n",
    "latitude_as_a_numeric_column = tf.feature_column.numeric_column(\"latitude\")\n",
    "latitude_boundaries = list(np.arange(int(min(train_df_norm['latitude'])), \n",
    "                                     int(max(train_df_norm['latitude'])), \n",
    "                                     resolution_in_Zs))\n",
    "latitude = tf.feature_column.bucketized_column(latitude_as_a_numeric_column, latitude_boundaries)\n",
    "\n",
    "# Create a bucket feature column for longitude.\n",
    "longitude_as_a_numeric_column = tf.feature_column.numeric_column(\"longitude\")\n",
    "longitude_boundaries = list(np.arange(int(min(train_df_norm['longitude'])), \n",
    "                                      int(max(train_df_norm['longitude'])), \n",
    "                                      resolution_in_Zs))\n",
    "longitude = tf.feature_column.bucketized_column(longitude_as_a_numeric_column, \n",
    "                                                longitude_boundaries)\n",
    "\n",
    "# Create a feature cross of latitude and longitude.\n",
    "latitude_x_longitude = tf.feature_column.crossed_column([latitude, longitude], hash_bucket_size=100)\n",
    "crossed_feature = tf.feature_column.indicator_column(latitude_x_longitude)\n",
    "feature_columns.append(crossed_feature)  \n",
    "\n",
    "# Represent median_income as a floating-point value.\n",
    "median_income = tf.feature_column.numeric_column(\"median_income\")\n",
    "feature_columns.append(median_income)\n",
    "\n",
    "# Represent population as a floating-point value.\n",
    "population = tf.feature_column.numeric_column(\"population\")\n",
    "feature_columns.append(population)\n",
    "\n",
    "# Convert the list of feature columns into a layer that will later be fed into\n",
    "# the model. \n",
    "my_feature_layer = tf.keras.layers.DenseFeatures(feature_columns)"
   ]
  },
  {
   "cell_type": "markdown",
   "id": "1af2bfd6",
   "metadata": {},
   "source": [
    "<a id='sect2'></a>\n",
    "## <font color='darkblue'>Intro to Neural Nets</font>\n",
    "* <font size='3ptx'><b><a href='#sect2_1'>Build a linear regression model as a baseline</a></b></font>\n",
    "* <font size='3ptx'><b><a href='#sect2_2'>Define a deep neural net model</a></b></font>\n",
    "* <font size='3ptx'><b><a href='#sect2_3'>Define a training function</a></b></font>\n",
    "* <font size='3ptx'><b><a href='#sect2_4'>Call the functions to build and train a deep neural net</a></b></font>\n",
    "* <font size='3ptx'><b><a href='#sect2_5'>Task 1: Compare the two models</a></b></font>\n",
    "* <font size='3ptx'><b><a href='#sect2_6'>Task 2: Optimize the deep neural network's topography</a></b></font>\n",
    "* <font size='3ptx'><b><a href='#sect2_7'>Task 3: Regularize the deep neural network (if you have enough time) </a></b></font>"
   ]
  },
  {
   "cell_type": "markdown",
   "id": "69b8507c",
   "metadata": {},
   "source": [
    "<a id='sect2_1'></a>\n",
    "### <font color='darkgreen'>Build a linear regression model as a baseline</font>\n",
    "\n",
    "Before creating a deep neural net, find a [baseline](https://developers.google.com/machine-learning/glossary/#baseline) loss by running a simple linear regression model that uses the feature layer you just created. "
   ]
  },
  {
   "cell_type": "markdown",
   "id": "bfe2bbcc",
   "metadata": {},
   "source": [
    "#### Define the plotting function."
   ]
  },
  {
   "cell_type": "code",
   "execution_count": 6,
   "id": "3a88831a",
   "metadata": {},
   "outputs": [
    {
     "name": "stdout",
     "output_type": "stream",
     "text": [
      "Defined the plot_the_loss_curve function.\n"
     ]
    }
   ],
   "source": [
    "def plot_the_loss_curve(epochs, mse):\n",
    "  \"\"\"Plot a curve of loss vs. epoch.\"\"\"\n",
    "\n",
    "  plt.figure()\n",
    "  plt.xlabel(\"Epoch\")\n",
    "  plt.ylabel(\"Mean Squared Error\")\n",
    "\n",
    "  plt.plot(epochs, mse, label=\"Loss\")\n",
    "  plt.legend()\n",
    "  plt.ylim([mse.min()*0.95, mse.max() * 1.03])\n",
    "  plt.show()  \n",
    "\n",
    "print(\"Defined the plot_the_loss_curve function.\")"
   ]
  },
  {
   "cell_type": "markdown",
   "id": "1986e257",
   "metadata": {},
   "source": [
    "#### Define functions to create and train a linear regression model"
   ]
  },
  {
   "cell_type": "code",
   "execution_count": 21,
   "id": "98f66ac3",
   "metadata": {},
   "outputs": [
    {
     "name": "stdout",
     "output_type": "stream",
     "text": [
      "Defined the create_model and train_model functions.\n"
     ]
    }
   ],
   "source": [
    "def create_model(my_learning_rate, feature_layer):\n",
    "  \"\"\"Create and compile a simple linear regression model.\"\"\"\n",
    "  # Most simple tf.keras models are sequential.\n",
    "  model = tf.keras.models.Sequential()\n",
    "\n",
    "  # Add the layer containing the feature columns to the model.\n",
    "  model.add(feature_layer)\n",
    "\n",
    "  # Add one linear layer to the model to yield a simple linear regressor.\n",
    "  model.add(tf.keras.layers.Dense(units=1, input_shape=(1,)))\n",
    "\n",
    "  # Construct the layers into a model that TensorFlow can execute.\n",
    "  model.compile(optimizer=tf.keras.optimizers.RMSprop(lr=my_learning_rate),\n",
    "                loss=\"mean_squared_error\",\n",
    "                metrics=[tf.keras.metrics.MeanSquaredError()])\n",
    "\n",
    "  return model           \n",
    "\n",
    "\n",
    "def train_model(model, dataset, epochs, batch_size, label_name):\n",
    "  \"\"\"Feed a dataset into the model in order to train it.\"\"\"\n",
    "\n",
    "  # Split the dataset into features and label.\n",
    "  features = {name:np.array(value) for name, value in dataset.items()}\n",
    "  label = np.array(features.pop(label_name))\n",
    "  history = model.fit(x=features, y=label, batch_size=batch_size,\n",
    "                      epochs=epochs, shuffle=True, verbose=0)\n",
    "\n",
    "  # Get details that will be useful for plotting the loss curve.\n",
    "  epochs = history.epoch\n",
    "  hist = pd.DataFrame(history.history)\n",
    "  rmse = hist[\"mean_squared_error\"]\n",
    "\n",
    "  return epochs, rmse   \n",
    "\n",
    "print(\"Defined the create_model and train_model functions.\")"
   ]
  },
  {
   "cell_type": "markdown",
   "id": "3c613d90",
   "metadata": {},
   "source": [
    "#### Train the model\n",
    "Run the following code cell to invoke the the functions defined in the preceding two code cells. (Ignore the warning messages.)\n",
    "\n",
    "**Note:** Because we've scaled all the input data, **including the label**, the resulting loss values will be *much less* than previous models. \n",
    "\n",
    "**Note:** Depending on the version of TensorFlow, running this cell might generate WARNING messages. Please ignore these warnings. "
   ]
  },
  {
   "cell_type": "code",
   "execution_count": 22,
   "id": "f6930383",
   "metadata": {},
   "outputs": [
    {
     "name": "stdout",
     "output_type": "stream",
     "text": [
      "WARNING:tensorflow:Layers in a Sequential model should only have a single input tensor, but we receive a <class 'dict'> input: {'longitude': <tf.Tensor 'ExpandDims_3:0' shape=(1000, 1) dtype=float32>, 'latitude': <tf.Tensor 'ExpandDims_2:0' shape=(1000, 1) dtype=float32>, 'housing_median_age': <tf.Tensor 'ExpandDims_1:0' shape=(1000, 1) dtype=float32>, 'total_rooms': <tf.Tensor 'ExpandDims_7:0' shape=(1000, 1) dtype=float32>, 'total_bedrooms': <tf.Tensor 'ExpandDims_6:0' shape=(1000, 1) dtype=float32>, 'population': <tf.Tensor 'ExpandDims_5:0' shape=(1000, 1) dtype=float32>, 'households': <tf.Tensor 'ExpandDims:0' shape=(1000, 1) dtype=float32>, 'median_income': <tf.Tensor 'ExpandDims_4:0' shape=(1000, 1) dtype=float32>}\n",
      "Consider rewriting this model with the Functional API.\n",
      "WARNING:tensorflow:Layers in a Sequential model should only have a single input tensor, but we receive a <class 'dict'> input: {'longitude': <tf.Tensor 'ExpandDims_3:0' shape=(1000, 1) dtype=float32>, 'latitude': <tf.Tensor 'ExpandDims_2:0' shape=(1000, 1) dtype=float32>, 'housing_median_age': <tf.Tensor 'ExpandDims_1:0' shape=(1000, 1) dtype=float32>, 'total_rooms': <tf.Tensor 'ExpandDims_7:0' shape=(1000, 1) dtype=float32>, 'total_bedrooms': <tf.Tensor 'ExpandDims_6:0' shape=(1000, 1) dtype=float32>, 'population': <tf.Tensor 'ExpandDims_5:0' shape=(1000, 1) dtype=float32>, 'households': <tf.Tensor 'ExpandDims:0' shape=(1000, 1) dtype=float32>, 'median_income': <tf.Tensor 'ExpandDims_4:0' shape=(1000, 1) dtype=float32>}\n",
      "Consider rewriting this model with the Functional API.\n"
     ]
    },
    {
     "data": {
      "image/png": "[encoded data removed]",
      "text/plain": [
       "<Figure size 432x288 with 1 Axes>"
      ]
     },
     "metadata": {
      "needs_background": "light"
     },
     "output_type": "display_data"
    },
    {
     "name": "stdout",
     "output_type": "stream",
     "text": [
      "\n",
      " Evaluate the linear regression model against the test set:\n",
      "WARNING:tensorflow:Layers in a Sequential model should only have a single input tensor, but we receive a <class 'dict'> input: {'longitude': <tf.Tensor 'ExpandDims_3:0' shape=(1000, 1) dtype=float32>, 'latitude': <tf.Tensor 'ExpandDims_2:0' shape=(1000, 1) dtype=float32>, 'housing_median_age': <tf.Tensor 'ExpandDims_1:0' shape=(1000, 1) dtype=float32>, 'total_rooms': <tf.Tensor 'ExpandDims_7:0' shape=(1000, 1) dtype=float32>, 'total_bedrooms': <tf.Tensor 'ExpandDims_6:0' shape=(1000, 1) dtype=float32>, 'population': <tf.Tensor 'ExpandDims_5:0' shape=(1000, 1) dtype=float32>, 'households': <tf.Tensor 'ExpandDims:0' shape=(1000, 1) dtype=float32>, 'median_income': <tf.Tensor 'ExpandDims_4:0' shape=(1000, 1) dtype=float32>}\n",
      "Consider rewriting this model with the Functional API.\n",
      "3/3 [==============================] - 0s 2ms/step - loss: 0.3952 - mean_squared_error: 0.3952\n",
      "Loss=0.40; MSE=0.40\n"
     ]
    }
   ],
   "source": [
    "# The following variables are the hyperparameters.\n",
    "learning_rate = 0.01\n",
    "epochs = 15\n",
    "batch_size = 1000\n",
    "label_name = \"median_house_value\"\n",
    "\n",
    "# Establish the model's topography.\n",
    "my_model = create_model(learning_rate, my_feature_layer)\n",
    "\n",
    "# Train the model on the normalized training set.\n",
    "epochs, mse = train_model(my_model, train_df_norm, epochs, batch_size, label_name)\n",
    "plot_the_loss_curve(epochs, mse)\n",
    "\n",
    "test_features = {name:np.array(value) for name, value in test_df_norm.items()}\n",
    "test_label = np.array(test_features.pop(label_name)) # isolate the label\n",
    "print(\"\\n Evaluate the linear regression model against the test set:\")\n",
    "loss, mse = my_model.evaluate(x = test_features, y = test_label, batch_size=batch_size)\n",
    "print(f\"Loss={loss:.02f}; MSE={mse:.02f}\")"
   ]
  },
  {
   "cell_type": "markdown",
   "id": "17c1a22a",
   "metadata": {},
   "source": [
    "<a id='sect2_2'></a>\n",
    "### <font color='darkgreen'>Define a deep neural net model</font>\n",
    "\n",
    "The `create_model` function defines the topography of the deep neural net, specifying the following:\n",
    "\n",
    "* The number of [layers](https://developers.google.com/machine-learning/glossary/#layer) in the deep neural net.\n",
    "* The number of [nodes](https://developers.google.com/machine-learning/glossary/#node) in each layer.\n",
    "\n",
    "The `create_model` function also defines the [activation function](https://developers.google.com/machine-learning/glossary/#activation_function) of each layer."
   ]
  },
  {
   "cell_type": "code",
   "execution_count": 9,
   "id": "18f9c1dd",
   "metadata": {},
   "outputs": [],
   "source": [
    "def create_model(my_learning_rate, my_feature_layer):\n",
    "  \"\"\"Create and compile a simple linear regression model.\"\"\"\n",
    "  # Most simple tf.keras models are sequential.\n",
    "  model = tf.keras.models.Sequential()\n",
    "\n",
    "  # Add the layer containing the feature columns to the model.\n",
    "  model.add(my_feature_layer)\n",
    "\n",
    "  # Describe the topography of the model by calling the tf.keras.layers.Dense\n",
    "  # method once for each layer. We've specified the following arguments:\n",
    "  #   * units specifies the number of nodes in this layer.\n",
    "  #   * activation specifies the activation function (Rectified Linear Unit).\n",
    "  #   * name is just a string that can be useful when debugging.\n",
    "\n",
    "  # Define the first hidden layer with 20 nodes.   \n",
    "  model.add(tf.keras.layers.Dense(units=20, \n",
    "                                  activation='relu', \n",
    "                                  name='Hidden1'))\n",
    "  \n",
    "  # Define the second hidden layer with 12 nodes. \n",
    "  model.add(tf.keras.layers.Dense(units=12, \n",
    "                                  activation='relu', \n",
    "                                  name='Hidden2'))\n",
    "  \n",
    "  # Define the output layer.\n",
    "  model.add(tf.keras.layers.Dense(units=1,  \n",
    "                                  name='Output'))                              \n",
    "  \n",
    "  model.compile(optimizer=tf.keras.optimizers.Adam(lr=my_learning_rate),\n",
    "                loss=\"mean_squared_error\",\n",
    "                metrics=[tf.keras.metrics.MeanSquaredError()])\n",
    "\n",
    "  return model"
   ]
  },
  {
   "cell_type": "markdown",
   "id": "de0c34f9",
   "metadata": {},
   "source": [
    "<a id='sect2_3'></a>\n",
    "### <font color='darkgreen'>Define a training function</font>\n",
    "\n",
    "The `train_model` function trains the model from the input features and labels. The [tf.keras.Model.fit](https://www.tensorflow.org/api_docs/python/tf/keras/Sequential#fit) method performs the actual training. The `x` parameter of the `fit` method is very flexible, enabling you to pass feature data in a variety of ways. The following implementation passes a Python dictionary in which:\n",
    "\n",
    "* The *keys* are the names of each feature (for example, `longitude`, `latitude`, and so on).\n",
    "* The *value* of each key is a NumPy array containing the values of that feature. \n",
    "\n",
    "**Note:** Although you are passing *every* feature to `model.fit`, most of those values will be ignored. Only the features accessed by `my_feature_layer` will actually be used to train the model."
   ]
  },
  {
   "cell_type": "code",
   "execution_count": 10,
   "id": "10b70919",
   "metadata": {},
   "outputs": [],
   "source": [
    "def train_model(model, dataset, epochs, label_name,\n",
    "                batch_size=None, val_pert=0.1):\n",
    "  \"\"\"Train the model by feeding it data.\"\"\"\n",
    "\n",
    "  # Split the dataset into features and label.\n",
    "  features = {name:np.array(value) for name, value in dataset.items()}\n",
    "  label = np.array(features.pop(label_name))\n",
    "  history = model.fit(x=features, y=label, batch_size=batch_size,\n",
    "                      epochs=epochs, shuffle=True, verbose=0) \n",
    "\n",
    "  # The list of epochs is stored separately from the rest of history.\n",
    "  epochs = history.epoch\n",
    "  \n",
    "  # To track the progression of training, gather a snapshot\n",
    "  # of the model's mean squared error at each epoch. \n",
    "  hist = pd.DataFrame(history.history)\n",
    "  mse = hist[\"mean_squared_error\"]\n",
    "\n",
    "  return epochs, mse"
   ]
  },
  {
   "cell_type": "markdown",
   "id": "806f9754",
   "metadata": {},
   "source": [
    "<a id='sect2_4'></a>\n",
    "### <font color='darkgreen'>Call the functions to build and train a deep neural net</font>\n",
    "\n",
    "Okay, it is time to actually train the deep neural net.  If time permits, experiment with the three hyperparameters to see if you can reduce the loss\n",
    "against the test set.\n"
   ]
  },
  {
   "cell_type": "code",
   "execution_count": 11,
   "id": "55d6bb53",
   "metadata": {},
   "outputs": [
    {
     "name": "stdout",
     "output_type": "stream",
     "text": [
      "WARNING:tensorflow:Layers in a Sequential model should only have a single input tensor, but we receive a <class 'dict'> input: {'longitude': <tf.Tensor 'ExpandDims_3:0' shape=(1000, 1) dtype=float32>, 'latitude': <tf.Tensor 'ExpandDims_2:0' shape=(1000, 1) dtype=float32>, 'housing_median_age': <tf.Tensor 'ExpandDims_1:0' shape=(1000, 1) dtype=float32>, 'total_rooms': <tf.Tensor 'ExpandDims_7:0' shape=(1000, 1) dtype=float32>, 'total_bedrooms': <tf.Tensor 'ExpandDims_6:0' shape=(1000, 1) dtype=float32>, 'population': <tf.Tensor 'ExpandDims_5:0' shape=(1000, 1) dtype=float32>, 'households': <tf.Tensor 'ExpandDims:0' shape=(1000, 1) dtype=float32>, 'median_income': <tf.Tensor 'ExpandDims_4:0' shape=(1000, 1) dtype=float32>}\n",
      "Consider rewriting this model with the Functional API.\n",
      "WARNING:tensorflow:Layers in a Sequential model should only have a single input tensor, but we receive a <class 'dict'> input: {'longitude': <tf.Tensor 'ExpandDims_3:0' shape=(1000, 1) dtype=float32>, 'latitude': <tf.Tensor 'ExpandDims_2:0' shape=(1000, 1) dtype=float32>, 'housing_median_age': <tf.Tensor 'ExpandDims_1:0' shape=(1000, 1) dtype=float32>, 'total_rooms': <tf.Tensor 'ExpandDims_7:0' shape=(1000, 1) dtype=float32>, 'total_bedrooms': <tf.Tensor 'ExpandDims_6:0' shape=(1000, 1) dtype=float32>, 'population': <tf.Tensor 'ExpandDims_5:0' shape=(1000, 1) dtype=float32>, 'households': <tf.Tensor 'ExpandDims:0' shape=(1000, 1) dtype=float32>, 'median_income': <tf.Tensor 'ExpandDims_4:0' shape=(1000, 1) dtype=float32>}\n",
      "Consider rewriting this model with the Functional API.\n"
     ]
    },
    {
     "data": {
      "image/png": "[encoded data removed]",
      "text/plain": [
       "<Figure size 432x288 with 1 Axes>"
      ]
     },
     "metadata": {
      "needs_background": "light"
     },
     "output_type": "display_data"
    },
    {
     "name": "stdout",
     "output_type": "stream",
     "text": [
      "\n",
      " Evaluate the new model against the test set:\n",
      "WARNING:tensorflow:Layers in a Sequential model should only have a single input tensor, but we receive a <class 'dict'> input: {'longitude': <tf.Tensor 'ExpandDims_3:0' shape=(1000, 1) dtype=float32>, 'latitude': <tf.Tensor 'ExpandDims_2:0' shape=(1000, 1) dtype=float32>, 'housing_median_age': <tf.Tensor 'ExpandDims_1:0' shape=(1000, 1) dtype=float32>, 'total_rooms': <tf.Tensor 'ExpandDims_7:0' shape=(1000, 1) dtype=float32>, 'total_bedrooms': <tf.Tensor 'ExpandDims_6:0' shape=(1000, 1) dtype=float32>, 'population': <tf.Tensor 'ExpandDims_5:0' shape=(1000, 1) dtype=float32>, 'households': <tf.Tensor 'ExpandDims:0' shape=(1000, 1) dtype=float32>, 'median_income': <tf.Tensor 'ExpandDims_4:0' shape=(1000, 1) dtype=float32>}\n",
      "Consider rewriting this model with the Functional API.\n",
      "3/3 [==============================] - 0s 2ms/step - loss: 0.3636 - mean_squared_error: 0.3636\n",
      "Loss=0.36; MSE=0.36\n"
     ]
    }
   ],
   "source": [
    "# The following variables are the hyperparameters.\n",
    "learning_rate = 0.01\n",
    "epochs = 20\n",
    "batch_size = 1000\n",
    "\n",
    "# Specify the label\n",
    "label_name = \"median_house_value\"\n",
    "\n",
    "# Establish the model's topography.\n",
    "my_model = create_model(learning_rate, my_feature_layer)\n",
    "\n",
    "# Train the model on the normalized training set. We're passing the entire\n",
    "# normalized training set, but the model will only use the features\n",
    "# defined by the feature_layer.\n",
    "epochs, mse = train_model(my_model, train_df_norm, epochs, \n",
    "                          label_name, batch_size)\n",
    "plot_the_loss_curve(epochs, mse)\n",
    "\n",
    "# After building a model against the training set, test that model\n",
    "# against the test set.\n",
    "test_features = {name:np.array(value) for name, value in test_df_norm.items()}\n",
    "test_label = np.array(test_features.pop(label_name)) # isolate the label\n",
    "print(\"\\n Evaluate the new model against the test set:\")\n",
    "loss, mse = my_model.evaluate(x = test_features, y = test_label, batch_size=batch_size)\n",
    "print(f'Loss={loss:.02f}; MSE={mse:.02f}')"
   ]
  },
  {
   "cell_type": "markdown",
   "id": "7e0f02d2",
   "metadata": {},
   "source": [
    "<a id='sect2_5'></a>\n",
    "### <font color='darkgreen'>Task 1: Compare the two models</font> ([back](#sect2))\n",
    "\n",
    "How did the deep neural net perform against the baseline linear regression model?\n",
    "\n",
    "> Assuming that the linear model converged and\n",
    "> the deep neural net model also converged, please \n",
    "> compare the test set loss for each.\n",
    "> In our experiments, the loss of the deep neural \n",
    "> network model was consistently lower than \n",
    "> that of the linear regression model, which \n",
    "> suggests that the deep neural network model \n",
    "> will make better predictions than the \n",
    "> linear regression model."
   ]
  },
  {
   "cell_type": "markdown",
   "id": "46475dcb",
   "metadata": {},
   "source": [
    "<a id='sect2_6'></a>\n",
    "### <font color='darkgreen'>Task 2: Optimize the deep neural network's topography</font> ([back](#sect2))\n",
    "\n",
    "Experiment with the number of layers of the deep neural network and the number of nodes in each layer.  Aim to achieve both of the following goals:\n",
    "\n",
    "*  Lower the loss against the test set.\n",
    "*  Minimize the overall number of nodes in the deep neural net. \n",
    "\n",
    "The two goals may be in conflict.\n",
    "\n",
    "> Many answers are possible.  We noticed the \n",
    "> following trends:\n",
    ">   * Two layers outperformed one layer, but \n",
    ">     three layers did not perform significantly \n",
    ">     better than two layers; two layers \n",
    ">     outperformed one layer.\n",
    ">     In other words, two layers seemed best. \n",
    ">   * Setting the topography as follows produced \n",
    ">     reasonably good results with relatively few \n",
    ">     nodes:\n",
    ">       * 10 nodes in the first layer.\n",
    ">       *  6 nodes in the second layer.\n",
    ">     As the number of nodes in each layer dropped\n",
    ">     below the preceding, test loss increased.  \n",
    ">     However, depending on your application, hardware\n",
    ">     constraints, and the relative pain inflicted \n",
    ">     by a less accurate model, a smaller network \n",
    ">     (for example, 6 nodes in the first layer and \n",
    ">     4 nodes in the second layer) might be \n",
    ">     acceptable."
   ]
  },
  {
   "cell_type": "markdown",
   "id": "0018bfc0",
   "metadata": {},
   "source": [
    "<a id='sect2_7'></a>\n",
    "### <font color='darkgreen'>Task 3: Regularize the deep neural network (if you have enough time)</font> ([back](#sect2))\n",
    "\n",
    "<b><font color='darkred'>Notice that the model's loss against the test set is *much higher* than the loss against the training set</font></b>.  In other words, the deep neural network is **[overfitting](https://developers.google.com/machine-learning/glossary/#overfitting) to the data in the training set**.  To reduce overfitting, regularize the model.  The course has suggested several different ways to regularize a model, including:\n",
    "\n",
    "  * [L1 regularization](https://developers.google.com/machine-learning/glossary/#L1_regularization)\n",
    "  * [L2 regularization](https://developers.google.com/machine-learning/glossary/#L2_regularization)\n",
    "  * [Dropout regularization](https://developers.google.com/machine-learning/glossary/#dropout_regularization)\n",
    "\n",
    "Your task is to experiment with one or more regularization mechanisms to bring the test loss closer to the training loss (<font color='brown'>while still keeping test loss relatively low</font>).\n",
    "\n",
    "**<font color='darkred'>Note:</font>** When you add a regularization function to a model, you might need to tweak other hyperparameters. "
   ]
  },
  {
   "cell_type": "markdown",
   "id": "f4c5300b",
   "metadata": {},
   "source": [
    "#### Implementing L1 or L2 regularization\n",
    "\n",
    "To use L1 or L2 regularization on a hidden layer, specify the `kernel_regularizer` argument to [tf.keras.layers.Dense](https://www.tensorflow.org/api_docs/python/tf/keras/layers/Dense). Assign one of the following methods to this argument:\n",
    "\n",
    "* `tf.keras.regularizers.l1` for L1 regularization\n",
    "* `tf.keras.regularizers.l2` for L2 regularization\n",
    "\n",
    "Each of the preceding methods takes an `l` parameter, which adjusts the [regularization rate](https://developers.google.com/machine-learning/glossary/#regularization_rate). Assign a decimal value between 0 and 1.0 to `l`; the higher the decimal, the greater the regularization. For example, the following applies L2 regularization at a strength of 0.05. \n",
    "\n",
    "```\n",
    "model.add(tf.keras.layers.Dense(units=20, \n",
    "                                activation='relu',\n",
    "                                kernel_regularizer=tf.keras.regularizers.l2(l=0.01),\n",
    "                                name='Hidden1'))\n",
    "```"
   ]
  },
  {
   "cell_type": "markdown",
   "id": "c86ef02c",
   "metadata": {},
   "source": [
    "#### Implementing Dropout regularization\n",
    "\n",
    "You implement dropout regularization as a separate layer in the topography. For example, the following code demonstrates how to add a dropout regularization layer between the first hidden layer and the second hidden layer:\n",
    "\n",
    "```\n",
    "model.add(tf.keras.layers.Dense( *define first hidden layer*)\n",
    " \n",
    "model.add(tf.keras.layers.Dropout(rate=0.25))\n",
    "\n",
    "model.add(tf.keras.layers.Dense( *define second hidden layer*)\n",
    "```\n",
    "\n",
    "The `rate` parameter to [tf.keras.layers.Dropout](https://www.tensorflow.org/api_docs/python/tf/keras/layers/Dropout) specifies the fraction of nodes that the model should drop out during training."
   ]
  },
  {
   "cell_type": "code",
   "execution_count": 12,
   "id": "02a9733f",
   "metadata": {},
   "outputs": [],
   "source": [
    "# The following \"solution\" uses L2 regularization to bring training loss\n",
    "# and test loss closer to each other. Many, many other solutions are possible.\n",
    "\n",
    "def create_model(my_learning_rate, my_feature_layer):\n",
    "  \"\"\"Create and compile a simple linear regression model.\"\"\"\n",
    "\n",
    "  # Discard any pre-existing version of the model.\n",
    "  model = None\n",
    "\n",
    "  # Most simple tf.keras models are sequential.\n",
    "  model = tf.keras.models.Sequential()\n",
    "\n",
    "  # Add the layer containing the feature columns to the model.\n",
    "  model.add(my_feature_layer)\n",
    "\n",
    "  # Describe the topography of the model. \n",
    "\n",
    "  # Implement L2 regularization in the first hidden layer.\n",
    "  model.add(tf.keras.layers.Dense(units=20, \n",
    "                                  activation='relu',\n",
    "                                  kernel_regularizer=tf.keras.regularizers.l2(0.04),\n",
    "                                  name='Hidden1'))\n",
    "  \n",
    "  # Implement L2 regularization in the second hidden layer.\n",
    "  model.add(tf.keras.layers.Dense(units=12, \n",
    "                                  activation='relu', \n",
    "                                  kernel_regularizer=tf.keras.regularizers.l2(0.04),\n",
    "                                  name='Hidden2'))\n",
    "\n",
    "  # Define the output layer.\n",
    "  model.add(tf.keras.layers.Dense(units=1,  \n",
    "                                  name='Output'))                              \n",
    "  \n",
    "  model.compile(optimizer=tf.keras.optimizers.Adam(lr=my_learning_rate),\n",
    "                loss=\"mean_squared_error\",\n",
    "                metrics=[tf.keras.metrics.MeanSquaredError()])\n",
    "\n",
    "  return model"
   ]
  },
  {
   "cell_type": "code",
   "execution_count": 13,
   "id": "0cdb90ad",
   "metadata": {},
   "outputs": [
    {
     "data": {
      "text/plain": [
       "pandas.core.frame.DataFrame"
      ]
     },
     "execution_count": 13,
     "metadata": {},
     "output_type": "execute_result"
    }
   ],
   "source": [
    "train_df_norm.__class__"
   ]
  },
  {
   "cell_type": "code",
   "execution_count": 14,
   "id": "95840ee6",
   "metadata": {},
   "outputs": [],
   "source": [
    "def train_model_with_val(\n",
    "  model, dataset, epochs, label_name, batch_size=None, val_pert=0.1):\n",
    "  \"\"\"Train the model by feeding it data.\"\"\"\n",
    "  dataset = dataset.sample(frac=1).reset_index(drop=True)\n",
    "  cut_point = int(train_df_norm.shape[0] * (1-val_pert))\n",
    "  \n",
    "  # Split the dataset into features and label.\n",
    "  features = {name:np.array(value) for name, value in dataset.items()}\n",
    "  train_dataset = dataset[:cut_point]\n",
    "  val_dataset = dataset[cut_point:]  \n",
    "  train_features = {name:np.array(value) for name, value in train_dataset.items()}\n",
    "  val_features = {name:np.array(value) for name, value in val_dataset.items()}\n",
    "    \n",
    "  label = np.array(features.pop(label_name))\n",
    "  train_label = np.array(train_features.pop(label_name))\n",
    "  val_label = np.array(val_features.pop(label_name))\n",
    "  \n",
    "  #features = {name:np.array(value) for name, value in dataset.items()}\n",
    "  #label = np.array(features.pop(label_name))\n",
    "  \n",
    "  history = model.fit(x=train_features, y=train_label, batch_size=batch_size,\n",
    "                      epochs=epochs, shuffle=True, verbose=0,\n",
    "                      validation_data=(val_features, val_label)) \n",
    "\n",
    "  # The list of epochs is stored separately from the rest of history.\n",
    "  epochs = history.epoch\n",
    "  \n",
    "  # To track the progression of training, gather a snapshot\n",
    "  # of the model's mean squared error at each epoch. \n",
    "  hist = pd.DataFrame(history.history)\n",
    "  return epochs, hist"
   ]
  },
  {
   "cell_type": "code",
   "execution_count": 15,
   "id": "8f19b6a9",
   "metadata": {},
   "outputs": [],
   "source": [
    "def plot_the_loss_with_val_curve(epochs, history):\n",
    "  \"\"\"Plot a curve of loss vs. epoch.\"\"\"\n",
    "\n",
    "  plt.figure()\n",
    "  plt.xlabel(\"Epoch\")\n",
    "  plt.ylabel(\"Mean Squared Error\")\n",
    "\n",
    "  mse = history[\"mean_squared_error\"]\n",
    "  val_mse = history[\"val_mean_squared_error\"]\n",
    "  plt.plot(epochs, mse, label=\"Loss\")\n",
    "  plt.plot(epochs, val_mse, label=\"Val loss\")\n",
    "  plt.legend()\n",
    "  plt.ylim([mse.min()*0.95, mse.max() * 1.03])\n",
    "  plt.show()  "
   ]
  },
  {
   "cell_type": "code",
   "execution_count": 16,
   "id": "6753840b",
   "metadata": {},
   "outputs": [],
   "source": [
    "# Call the new create_model function and the other (unchanged) functions.\n",
    "\n",
    "# The following variables are the hyperparameters.\n",
    "learning_rate = 0.007\n",
    "epochs = 140\n",
    "batch_size = 1000\n",
    "\n",
    "label_name = \"median_house_value\"\n",
    "\n",
    "# Establish the model's topography.\n",
    "my_model = create_model(learning_rate, my_feature_layer)"
   ]
  },
  {
   "cell_type": "code",
   "execution_count": 17,
   "id": "33927dc9",
   "metadata": {},
   "outputs": [
    {
     "name": "stdout",
     "output_type": "stream",
     "text": [
      "WARNING:tensorflow:Layers in a Sequential model should only have a single input tensor, but we receive a <class 'dict'> input: {'longitude': <tf.Tensor 'ExpandDims_3:0' shape=(None, 1) dtype=float32>, 'latitude': <tf.Tensor 'ExpandDims_2:0' shape=(None, 1) dtype=float32>, 'housing_median_age': <tf.Tensor 'ExpandDims_1:0' shape=(None, 1) dtype=float32>, 'total_rooms': <tf.Tensor 'ExpandDims_7:0' shape=(None, 1) dtype=float32>, 'total_bedrooms': <tf.Tensor 'ExpandDims_6:0' shape=(None, 1) dtype=float32>, 'population': <tf.Tensor 'ExpandDims_5:0' shape=(None, 1) dtype=float32>, 'households': <tf.Tensor 'ExpandDims:0' shape=(None, 1) dtype=float32>, 'median_income': <tf.Tensor 'ExpandDims_4:0' shape=(None, 1) dtype=float32>}\n",
      "Consider rewriting this model with the Functional API.\n",
      "WARNING:tensorflow:Layers in a Sequential model should only have a single input tensor, but we receive a <class 'dict'> input: {'longitude': <tf.Tensor 'ExpandDims_3:0' shape=(None, 1) dtype=float32>, 'latitude': <tf.Tensor 'ExpandDims_2:0' shape=(None, 1) dtype=float32>, 'housing_median_age': <tf.Tensor 'ExpandDims_1:0' shape=(None, 1) dtype=float32>, 'total_rooms': <tf.Tensor 'ExpandDims_7:0' shape=(None, 1) dtype=float32>, 'total_bedrooms': <tf.Tensor 'ExpandDims_6:0' shape=(None, 1) dtype=float32>, 'population': <tf.Tensor 'ExpandDims_5:0' shape=(None, 1) dtype=float32>, 'households': <tf.Tensor 'ExpandDims:0' shape=(None, 1) dtype=float32>, 'median_income': <tf.Tensor 'ExpandDims_4:0' shape=(None, 1) dtype=float32>}\n",
      "Consider rewriting this model with the Functional API.\n",
      "WARNING:tensorflow:Layers in a Sequential model should only have a single input tensor, but we receive a <class 'dict'> input: {'longitude': <tf.Tensor 'ExpandDims_3:0' shape=(None, 1) dtype=float32>, 'latitude': <tf.Tensor 'ExpandDims_2:0' shape=(None, 1) dtype=float32>, 'housing_median_age': <tf.Tensor 'ExpandDims_1:0' shape=(None, 1) dtype=float32>, 'total_rooms': <tf.Tensor 'ExpandDims_7:0' shape=(None, 1) dtype=float32>, 'total_bedrooms': <tf.Tensor 'ExpandDims_6:0' shape=(None, 1) dtype=float32>, 'population': <tf.Tensor 'ExpandDims_5:0' shape=(None, 1) dtype=float32>, 'households': <tf.Tensor 'ExpandDims:0' shape=(None, 1) dtype=float32>, 'median_income': <tf.Tensor 'ExpandDims_4:0' shape=(None, 1) dtype=float32>}\n",
      "Consider rewriting this model with the Functional API.\n"
     ]
    }
   ],
   "source": [
    "# Train the model on the normalized training set.\n",
    "epochs, history = train_model_with_val(\n",
    "  my_model, train_df_norm, epochs, label_name, batch_size)"
   ]
  },
  {
   "cell_type": "code",
   "execution_count": 18,
   "id": "10295a43",
   "metadata": {},
   "outputs": [
    {
     "data": {
      "text/html": [
       "<div>\n",
       "<style scoped>\n",
       "    .dataframe tbody tr th:only-of-type {\n",
       "        vertical-align: middle;\n",
       "    }\n",
       "\n",
       "    .dataframe tbody tr th {\n",
       "        vertical-align: top;\n",
       "    }\n",
       "\n",
       "    .dataframe thead th {\n",
       "        text-align: right;\n",
       "    }\n",
       "</style>\n",
       "<table border=\"1\" class=\"dataframe\">\n",
       "  <thead>\n",
       "    <tr style=\"text-align: right;\">\n",
       "      <th></th>\n",
       "      <th>loss</th>\n",
       "      <th>mean_squared_error</th>\n",
       "      <th>val_loss</th>\n",
       "      <th>val_mean_squared_error</th>\n",
       "    </tr>\n",
       "  </thead>\n",
       "  <tbody>\n",
       "    <tr>\n",
       "      <th>0</th>\n",
       "      <td>2.2</td>\n",
       "      <td>1.0</td>\n",
       "      <td>1.3</td>\n",
       "      <td>0.7</td>\n",
       "    </tr>\n",
       "    <tr>\n",
       "      <th>1</th>\n",
       "      <td>1.0</td>\n",
       "      <td>0.6</td>\n",
       "      <td>0.7</td>\n",
       "      <td>0.4</td>\n",
       "    </tr>\n",
       "    <tr>\n",
       "      <th>2</th>\n",
       "      <td>0.7</td>\n",
       "      <td>0.4</td>\n",
       "      <td>0.5</td>\n",
       "      <td>0.4</td>\n",
       "    </tr>\n",
       "    <tr>\n",
       "      <th>3</th>\n",
       "      <td>0.5</td>\n",
       "      <td>0.4</td>\n",
       "      <td>0.5</td>\n",
       "      <td>0.4</td>\n",
       "    </tr>\n",
       "    <tr>\n",
       "      <th>4</th>\n",
       "      <td>0.5</td>\n",
       "      <td>0.4</td>\n",
       "      <td>0.4</td>\n",
       "      <td>0.4</td>\n",
       "    </tr>\n",
       "  </tbody>\n",
       "</table>\n",
       "</div>"
      ],
      "text/plain": [
       "   loss  mean_squared_error  val_loss  val_mean_squared_error\n",
       "0   2.2                 1.0       1.3                     0.7\n",
       "1   1.0                 0.6       0.7                     0.4\n",
       "2   0.7                 0.4       0.5                     0.4\n",
       "3   0.5                 0.4       0.5                     0.4\n",
       "4   0.5                 0.4       0.4                     0.4"
      ]
     },
     "execution_count": 18,
     "metadata": {},
     "output_type": "execute_result"
    }
   ],
   "source": [
    "history.head()"
   ]
  },
  {
   "cell_type": "code",
   "execution_count": 19,
   "id": "764837c3",
   "metadata": {},
   "outputs": [
    {
     "data": {
      "image/png": "[encoded data removed]",
      "text/plain": [
       "<Figure size 432x288 with 1 Axes>"
      ]
     },
     "metadata": {
      "needs_background": "light"
     },
     "output_type": "display_data"
    }
   ],
   "source": [
    "plot_the_loss_with_val_curve(epochs, history)"
   ]
  },
  {
   "cell_type": "code",
   "execution_count": 20,
   "id": "efc05bba",
   "metadata": {},
   "outputs": [
    {
     "name": "stdout",
     "output_type": "stream",
     "text": [
      "\n",
      " Evaluate the new model against the test set:\n",
      "WARNING:tensorflow:Layers in a Sequential model should only have a single input tensor, but we receive a <class 'dict'> input: {'longitude': <tf.Tensor 'ExpandDims_3:0' shape=(1000, 1) dtype=float32>, 'latitude': <tf.Tensor 'ExpandDims_2:0' shape=(1000, 1) dtype=float32>, 'housing_median_age': <tf.Tensor 'ExpandDims_1:0' shape=(1000, 1) dtype=float32>, 'total_rooms': <tf.Tensor 'ExpandDims_7:0' shape=(1000, 1) dtype=float32>, 'total_bedrooms': <tf.Tensor 'ExpandDims_6:0' shape=(1000, 1) dtype=float32>, 'population': <tf.Tensor 'ExpandDims_5:0' shape=(1000, 1) dtype=float32>, 'households': <tf.Tensor 'ExpandDims:0' shape=(1000, 1) dtype=float32>, 'median_income': <tf.Tensor 'ExpandDims_4:0' shape=(1000, 1) dtype=float32>}\n",
      "Consider rewriting this model with the Functional API.\n",
      "3/3 [==============================] - 0s 3ms/step - loss: 0.4164 - mean_squared_error: 0.3818\n"
     ]
    },
    {
     "data": {
      "text/plain": [
       "[0.4164259135723114, 0.3818497359752655]"
      ]
     },
     "execution_count": 20,
     "metadata": {},
     "output_type": "execute_result"
    }
   ],
   "source": [
    "test_features = {name:np.array(value) for name, value in test_df_norm.items()}\n",
    "test_label = np.array(test_features.pop(label_name)) # isolate the label\n",
    "print(\"\\n Evaluate the new model against the test set:\")\n",
    "my_model.evaluate(x = test_features, y = test_label, batch_size=batch_size) "
   ]
  }
 ],
 "metadata": {
  "kernelspec": {
   "display_name": "Python 3 (ipykernel)",
   "language": "python",
   "name": "python3"
  },
  "language_info": {
   "codemirror_mode": {
    "name": "ipython",
    "version": 3
   },
   "file_extension": ".py",
   "mimetype": "text/x-python",
   "name": "python",
   "nbconvert_exporter": "python",
   "pygments_lexer": "ipython3",
   "version": "3.9.9"
  }
 },
 "nbformat": 4,
 "nbformat_minor": 5
}
