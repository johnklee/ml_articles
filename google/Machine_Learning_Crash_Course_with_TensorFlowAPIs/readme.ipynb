{
 "cells": [
  {
   "cell_type": "markdown",
   "id": "295537bf",
   "metadata": {},
   "source": [
    "## <font color='darkblue'>Preface</font>\n",
    "This course is coming from [**Machine Learning Crash Course**](https://developers.google.com/machine-learning/crash-course). During class, you'll do the following:\n",
    "* Learn critical Machine Learning concepts.\n",
    "* Learn how to train and evaluate machine learning models with TensorFlow's tf.keras API.\n",
    "* Gain experience with key machine learning model types and best practices.\n",
    "* Listen to lectures from machine learning experts. Note that some instructors supplement live lectures with videos of recorded lectures.\n",
    "* Engage in class discussions."
   ]
  },
  {
   "cell_type": "markdown",
   "id": "fa0992af",
   "metadata": {},
   "source": [
    "### <font color='darkgreen'>Before class & Intended Audience</font>\n",
    "We recommend this course for either of the following groups:\n",
    "* Anyone who are new to machine learning. \n",
    "* Anyone whose knowledge of machine learning has faded and are seeking a refresher.\n",
    "<br/><br/>\n",
    "\n",
    "You do not need any background in machine learning. However, you must meet these criteria:\n",
    "* You are a strong programmer. \n",
    "* You are comfortable with algebra.\n",
    "* Ideally, you are at least somewhat familiar with Python.  Note that strong programmers who are new to Python can still usually do all of the programming exercises.\n",
    "* Ideally, you are familiar with basic concepts of derivatives in calculus.  (You will not be asked to calculate derivatives during the class.)\n",
    "* Ideally, you are familiar with matrix multiplication and matrix addition."
   ]
  },
  {
   "cell_type": "markdown",
   "id": "cfa190db",
   "metadata": {},
   "source": [
    "### <font color='darkgreen'>Rough Outline</font>\n",
    "* Regression\n",
    "* Loss\n",
    "* Generalization\n",
    "* Representation\n",
    "* Regularization\n",
    "* Logistic Regression\n",
    "* Classification\n",
    "* Introduction to Neural Networks\n",
    "* Multi-Class Neural Networks\n",
    "* Embeddings\n",
    "* Production Machine Learning Systems\n",
    "* Machine Learning Fairness and Remediating Bias\n",
    "* Testing and Debugging Models"
   ]
  },
  {
   "cell_type": "markdown",
   "id": "8a80e27e",
   "metadata": {},
   "source": [
    "<a id='sect1'></a>\n",
    "## <font color='darkblue'>Linear Regression with Synthetic Data</font>\n",
    "In this first [notebook](https://nbviewer.org/github/johnklee/ml_articles/blob/master/google/Machine_Learning_Crash_Course_with_TensorFlowAPIs/Day1-1_Linear_Regression_with_Synthetic_Data.ipynb), you'll explore linear regression with a simple database."
   ]
  },
  {
   "cell_type": "markdown",
   "id": "324d3858",
   "metadata": {},
   "source": [
    "### <font color='darkgreen'>Learning objectives</font>\n",
    "After doing this exercise, you'll know how to do the following:\n",
    "  * Tune the following [hyperparameters](https://developers.google.com/machine-learning/glossary/#hyperparameter):\n",
    "    * [learning rate](https://developers.google.com/machine-learning/glossary/#learning_rate)\n",
    "    * number of [epochs](https://developers.google.com/machine-learning/glossary/#epoch)\n",
    "    * [batch size](https://developers.google.com/machine-learning/glossary/#batch_size)\n",
    "  * Interpret different kinds of [loss curves](https://developers.google.com/machine-learning/glossary/#loss_curve)."
   ]
  },
  {
   "cell_type": "markdown",
   "id": "a77ff8f6",
   "metadata": {},
   "source": [
    "## <font color='darkblue'>Linear Regression with a Real Dataset</font>\n",
    "This [notebook](https://nbviewer.org/github/johnklee/ml_articles/blob/master/google/Machine_Learning_Crash_Course_with_TensorFlowAPIs/Day1-2_Linear_Regression_with_a_Real_Dataset.ipynb) uses a real dataset to predict the prices of houses in California."
   ]
  },
  {
   "cell_type": "markdown",
   "id": "fb485c94",
   "metadata": {},
   "source": [
    "### <font color='darkgreen'>Learning Objectives:</font>\n",
    "\n",
    "After doing this [notebook](## <font color='darkblue'>Linear Regression with a Real Dataset</font>\n",
    "This [notebook](https://nbviewer.org/github/johnklee/ml_articles/blob/master/google/Machine_Learning_Crash_Course_with_TensorFlowAPIs/Day1-2_Linear_Regression_with_a_Real_Dataset.ipynb) uses a real dataset to predict the prices of houses in California.), you'll know how to do the following:\n",
    "\n",
    "  * Read a .csv file into a [pandas](https://developers.google.com/machine-learning/glossary/#pandas) DataFrame.\n",
    "  * Examine a [dataset](https://developers.google.com/machine-learning/glossary/#data_set). \n",
    "  * Experiment with different [features](https://developers.google.com/machine-learning/glossary/#feature) in building a model.\n",
    "  * Tune the model's [hyperparameters](https://developers.google.com/machine-learning/glossary/#hyperparameter)."
   ]
  },
  {
   "cell_type": "markdown",
   "id": "c4854273",
   "metadata": {},
   "source": [
    "## <font color='darkblue'>Validation and Test Sets</font>\n",
    "The [previous notebook exercises](https://nbviewer.org/github/johnklee/ml_articles/blob/master/google/Machine_Learning_Crash_Course_with_TensorFlowAPIs/Day1-2_Linear_Regression_with_a_Real_Dataset.ipynb) evaluated the trained model against the training set, which does not provide a strong signal about the quality of your model. In [this notebook](https://nbviewer.org/github/johnklee/ml_articles/blob/master/google/Machine_Learning_Crash_Course_with_TensorFlowAPIs/Day1-3_Validation_and_Test_Sets.ipynb), you'll experiment with validation sets and test sets."
   ]
  },
  {
   "cell_type": "markdown",
   "id": "a39dfbc4",
   "metadata": {},
   "source": [
    "### <font color='darkgreen'>Learning objectives</font>\n",
    "\n",
    "After doing [this notebook](https://nbviewer.org/github/johnklee/ml_articles/blob/master/google/Machine_Learning_Crash_Course_with_TensorFlowAPIs/Day1-3_Validation_and_Test_Sets.ipynb), you'll know how to do the following:\n",
    "\n",
    "  * Split a [training set](https://developers.google.com/machine-learning/glossary/#training_set) into a smaller training set and a [validation set](https://developers.google.com/machine-learning/glossary/#validation_set).\n",
    "  * Analyze deltas between training set and validation set results.\n",
    "  * Test the trained model with a [test set](https://developers.google.com/machine-learning/glossary/#test_set) to determine whether your trained model is [overfitting](https://developers.google.com/machine-learning/glossary/#overfitting).\n",
    "  * Detect and fix a common training problem."
   ]
  },
  {
   "cell_type": "markdown",
   "id": "9fb0de9e",
   "metadata": {},
   "source": [
    "## <font color='darkblue'>Representation with a Feature Cross</font>\n",
    "In [this exercise](https://nbviewer.org/github/johnklee/ml_articles/blob/master/google/Machine_Learning_Crash_Course_with_TensorFlowAPIs/Day1-4_Representation_with_a_Feature_Cross.ipynb), you'll experiment with different ways to represent features."
   ]
  },
  {
   "cell_type": "markdown",
   "id": "9e74c4a8",
   "metadata": {},
   "source": [
    "### <font color='darkgreen'>Learning Objectives:</font>\n",
    "\n",
    "After doing [this notebook](https://nbviewer.org/github/johnklee/ml_articles/blob/master/google/Machine_Learning_Crash_Course_with_TensorFlowAPIs/Day1-4_Representation_with_a_Feature_Cross.ipynb), you'll know how to:\n",
    "\n",
    "  * Use [`tf.feature_column`](https://www.tensorflow.org/api_docs/python/tf/feature_column) methods to represent features in different ways.\n",
    "  * Represent features as [bins](https://developers.google.com/machine-learning/glossary/#bucketing). \n",
    "  * Cross bins to create a [feature cross](https://developers.google.com/machine-learning/glossary/#feature_cross). "
   ]
  },
  {
   "cell_type": "markdown",
   "id": "19a47a82",
   "metadata": {},
   "source": [
    "## <font color='darkblue'>Supplement</font>\n",
    "* [TensorFlow 教學課程](https://www.tensorflow.org/tutorials?hl=zh-tw)"
   ]
  }
 ],
 "metadata": {
  "kernelspec": {
   "display_name": "Python 3 (ipykernel)",
   "language": "python",
   "name": "python3"
  },
  "language_info": {
   "codemirror_mode": {
    "name": "ipython",
    "version": 3
   },
   "file_extension": ".py",
   "mimetype": "text/x-python",
   "name": "python",
   "nbconvert_exporter": "python",
   "pygments_lexer": "ipython3",
   "version": "3.9.9"
  }
 },
 "nbformat": 4,
 "nbformat_minor": 5
}
