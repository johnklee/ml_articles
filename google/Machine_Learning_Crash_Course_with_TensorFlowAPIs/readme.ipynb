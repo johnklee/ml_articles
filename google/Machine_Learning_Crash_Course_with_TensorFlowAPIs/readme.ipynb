{
 "cells": [
  {
   "cell_type": "markdown",
   "id": "295537bf",
   "metadata": {},
   "source": [
    "## <font color='darkblue'>Preface</font>\n",
    "This course is coming from [**Machine Learning Crash Course**](https://developers.google.com/machine-learning/crash-course). During class, you'll do the following:\n",
    "* Learn critical Machine Learning concepts.\n",
    "* Learn how to train and evaluate machine learning models with TensorFlow's tf.keras API.\n",
    "* Gain experience with key machine learning model types and best practices.\n",
    "* Listen to lectures from machine learning experts. Note that some instructors supplement live lectures with videos of recorded lectures.\n",
    "* Engage in class discussions."
   ]
  },
  {
   "cell_type": "markdown",
   "id": "fa0992af",
   "metadata": {},
   "source": [
    "### <font color='darkgreen'>Before class & Intended Audience</font>\n",
    "We recommend this course for either of the following groups:\n",
    "* Anyone who are new to machine learning. \n",
    "* Anyone whose knowledge of machine learning has faded and are seeking a refresher.\n",
    "<br/><br/>\n",
    "\n",
    "You do not need any background in machine learning. However, you must meet these criteria:\n",
    "* You are a strong programmer. \n",
    "* You are comfortable with algebra.\n",
    "* Ideally, you are at least somewhat familiar with Python.  Note that strong programmers who are new to Python can still usually do all of the programming exercises.\n",
    "* Ideally, you are familiar with basic concepts of derivatives in calculus.  (You will not be asked to calculate derivatives during the class.)\n",
    "* Ideally, you are familiar with matrix multiplication and matrix addition."
   ]
  },
  {
   "cell_type": "markdown",
   "id": "cfa190db",
   "metadata": {},
   "source": [
    "### <font color='darkgreen'>Rough Outline</font>\n",
    "* Regression\n",
    "* Loss\n",
    "* Generalization\n",
    "* Representation\n",
    "* Regularization\n",
    "* Logistic Regression\n",
    "* Classification\n",
    "* Introduction to Neural Networks\n",
    "* Multi-Class Neural Networks\n",
    "* Embeddings\n",
    "* Production Machine Learning Systems\n",
    "* Machine Learning Fairness and Remediating Bias\n",
    "* Testing and Debugging Models"
   ]
  },
  {
   "cell_type": "markdown",
   "id": "8a80e27e",
   "metadata": {},
   "source": [
    "<a id='sect1'></a>\n",
    "## <font color='darkblue'>Linear Regression with Synthetic Data</font>\n",
    "In this first [notebook](https://nbviewer.org/github/johnklee/ml_articles/blob/master/google/Machine_Learning_Crash_Course_with_TensorFlowAPIs/Day1-1_Linear_Regression_with_Synthetic_Data.ipynb), you'll explore linear regression with a simple database."
   ]
  },
  {
   "cell_type": "markdown",
   "id": "324d3858",
   "metadata": {},
   "source": [
    "### <font color='darkgreen'>Learning objectives</font>\n",
    "After doing this exercise, you'll know how to do the following:\n",
    "  * Tune the following [hyperparameters](https://developers.google.com/machine-learning/glossary/#hyperparameter):\n",
    "    * [learning rate](https://developers.google.com/machine-learning/glossary/#learning_rate)\n",
    "    * number of [epochs](https://developers.google.com/machine-learning/glossary/#epoch)\n",
    "    * [batch size](https://developers.google.com/machine-learning/glossary/#batch_size)\n",
    "  * Interpret different kinds of [loss curves](https://developers.google.com/machine-learning/glossary/#loss_curve)."
   ]
  },
  {
   "cell_type": "markdown",
   "id": "a77ff8f6",
   "metadata": {},
   "source": [
    "## <font color='darkblue'>Linear Regression with a Real Dataset</font>\n",
    "This [notebook](https://nbviewer.org/github/johnklee/ml_articles/blob/master/google/Machine_Learning_Crash_Course_with_TensorFlowAPIs/Day1-2_Linear_Regression_with_a_Real_Dataset.ipynb) uses a real dataset to predict the prices of houses in California."
   ]
  },
  {
   "cell_type": "markdown",
   "id": "fb485c94",
   "metadata": {},
   "source": [
    "### <font color='darkgreen'>Learning Objectives:</font>\n",
    "\n",
    "After doing this Colab, you'll know how to do the following:\n",
    "\n",
    "  * Read a .csv file into a [pandas](https://developers.google.com/machine-learning/glossary/#pandas) DataFrame.\n",
    "  * Examine a [dataset](https://developers.google.com/machine-learning/glossary/#data_set). \n",
    "  * Experiment with different [features](https://developers.google.com/machine-learning/glossary/#feature) in building a model.\n",
    "  * Tune the model's [hyperparameters](https://developers.google.com/machine-learning/glossary/#hyperparameter)."
   ]
  },
  {
   "cell_type": "markdown",
   "id": "19a47a82",
   "metadata": {},
   "source": [
    "## <font color='darkblue'>Supplement</font>\n",
    "* [TensorFlow 教學課程](https://www.tensorflow.org/tutorials?hl=zh-tw)"
   ]
  }
 ],
 "metadata": {
  "kernelspec": {
   "display_name": "Python 3 (ipykernel)",
   "language": "python",
   "name": "python3"
  },
  "language_info": {
   "codemirror_mode": {
    "name": "ipython",
    "version": 3
   },
   "file_extension": ".py",
   "mimetype": "text/x-python",
   "name": "python",
   "nbconvert_exporter": "python",
   "pygments_lexer": "ipython3",
   "version": "3.9.9"
  }
 },
 "nbformat": 4,
 "nbformat_minor": 5
}
