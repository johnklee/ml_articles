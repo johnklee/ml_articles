{
 "cells": [
  {
   "cell_type": "markdown",
   "id": "cd874237",
   "metadata": {},
   "source": [
    "## <font color='darkblue'>Preface</font>\n",
    "(go/mlclass-colab-representation) In this exercise, you'll experiment with different ways to represent features."
   ]
  },
  {
   "cell_type": "markdown",
   "id": "f16605a9",
   "metadata": {},
   "source": [
    "### <font color='darkgreen'>Learning Objectives:</font>\n",
    "\n",
    "After doing this Colab, you'll know how to:\n",
    "\n",
    "  * Use [`tf.feature_column`](https://www.tensorflow.org/api_docs/python/tf/feature_column) methods to represent features in different ways.\n",
    "  * Represent features as [bins](https://developers.google.com/machine-learning/glossary/#bucketing). \n",
    "  * Cross bins to create a [feature cross](https://developers.google.com/machine-learning/glossary/#feature_cross). "
   ]
  },
  {
   "cell_type": "markdown",
   "id": "d4b7e5c4",
   "metadata": {},
   "source": [
    "### <font color='darkgreen'>Import relevant modules</font>"
   ]
  },
  {
   "cell_type": "code",
   "execution_count": 1,
   "id": "c8f53168",
   "metadata": {},
   "outputs": [],
   "source": [
    "#!pip install pydot\n",
    "#!pip install graphviz"
   ]
  },
  {
   "cell_type": "code",
   "execution_count": 36,
   "id": "66d9b3a2",
   "metadata": {},
   "outputs": [
    {
     "name": "stdout",
     "output_type": "stream",
     "text": [
      "Imported the modules.\n"
     ]
    }
   ],
   "source": [
    "# from __future__ import absolute_import, division, print_function, unicode_literals\n",
    "\n",
    "import os\n",
    "import numpy as np\n",
    "import pandas as pd\n",
    "import tensorflow as tf\n",
    "from tensorflow import feature_column\n",
    "from tensorflow.keras import layers\n",
    "from matplotlib import pyplot as plt\n",
    "import warnings\n",
    "\n",
    "warnings.filterwarnings('ignore')\n",
    "\n",
    "# The following lines adjust the granularity of reporting.\n",
    "pd.options.display.max_rows = 10\n",
    "pd.options.display.float_format = \"{:.1f}\".format\n",
    "os.environ['TF_CPP_MIN_LOG_LEVEL'] = '3'  \n",
    "\n",
    "tf.keras.backend.set_floatx('float32')\n",
    "print(\"Imported the modules.\")"
   ]
  },
  {
   "cell_type": "markdown",
   "id": "ab592696",
   "metadata": {},
   "source": [
    "<a id='sect0'></a>\n",
    "### <font color='darkgreen'>Agenda</font>\n",
    "* <font size='3ptx'><b><a href='#sect1'>The Dataset</a></b></font>\n",
    "* <font size='3ptx'><b><a href='#sect2'>Linear Regression Model</a></b></font>\n",
    "* <font size='3ptx'><b><a href='#sect3'>Feature Engineering</a></b></font>"
   ]
  },
  {
   "cell_type": "markdown",
   "id": "8635a534",
   "metadata": {},
   "source": [
    "<a id='sect1'></a>\n",
    "## <font color='darkblue'>The Dataset</font>\n",
    "  \n",
    "Like several of the previous Colabs, this exercise uses the [California Housing Dataset](https://developers.google.com/machine-learning/crash-course/california-housing-data-description)."
   ]
  },
  {
   "cell_type": "markdown",
   "id": "ae809733",
   "metadata": {},
   "source": [
    "### <font color='darkgreen'>Load, scale, and shuffle the examples</font>\n",
    "\n",
    "The following code cell loads the separate .csv files and creates the following two pandas DataFrames:\n",
    "\n",
    "* `train_df`, which contains the training set\n",
    "* `test_df`, which contains the test set\n",
    "\n",
    "The code cell then scales the `median_house_value` to a more human-friendly range and then shuffles the examples."
   ]
  },
  {
   "cell_type": "code",
   "execution_count": 3,
   "id": "424a98d5",
   "metadata": {},
   "outputs": [],
   "source": [
    "# Load the dataset\n",
    "train_df = pd.read_csv(\"https://download.mlcc.google.com/mledu-datasets/california_housing_train.csv\")\n",
    "test_df = pd.read_csv(\"https://download.mlcc.google.com/mledu-datasets/california_housing_test.csv\")\n",
    "\n",
    "# Scale the labels\n",
    "scale_factor = 1000.0\n",
    "# Scale the training set's label.\n",
    "train_df[\"median_house_value\"] /= scale_factor \n",
    "\n",
    "# Scale the test set's label\n",
    "test_df[\"median_house_value\"] /= scale_factor\n",
    "\n",
    "# Shuffle the examples\n",
    "train_df = train_df.reindex(np.random.permutation(train_df.index))"
   ]
  },
  {
   "cell_type": "markdown",
   "id": "ff4813c8",
   "metadata": {},
   "source": [
    "### <font color='darkgreen'>Represent latitude and longitude as floating-point values</font>\n",
    "\n",
    "<font size='3ptx'><b>Previous examples trained on only a single feature or a single synthetic feature. By contrast, this exercise trains on two features</b></font>. Furthermore, **this notebook introduces <a href='https://www.tensorflow.org/api_docs/python/tf/feature_column'><font color='darkblue'>feature columns</font></a>, which provide a sophisticated way to represent features**.\n",
    "\n",
    "You create feature columns as possible:\n",
    "\n",
    "  * Call a [`tf.feature_column`](https://www.tensorflow.org/api_docs/python/tf/feature_column) method to represent a single feature, single feature cross, or single synthetic feature in the desired way.  For example, to represent a certain feature as floating-point values, call [`tf.feature_column.numeric_column`](https://www.tensorflow.org/api_docs/python/tf/feature_column/numeric_column). To represent a certain feature as a series of buckets or bins, call [`tf.feature_column.bucketized_column`](https://www.tensorflow.org/api_docs/python/tf/feature_column/bucketized_column).\n",
    "  * Assemble the created representations into a Python list. \n",
    "\n",
    "<font size='3ptx'><b>A neighborhood's location is typically the most important feature in determining a house's value</b></font>. The California Housing dataset provides two features, `latitude` and `longitude` that identify each neighborhood's location. \n",
    "\n",
    "The following code cell calls [`tf.feature_column.numeric_column`](https://www.tensorflow.org/api_docs/python/tf/feature_column/numeric_column) twice, first to represent `latitude` as floating-point value and a second time to represent `longitude` as floating-point values. \n",
    "\n",
    "**This code cell specifies the features that you'll ultimately train the model on and how each of those features will be represented**. The transformations (<font color='brown'>collected in `fp_feature_layer`</font>) don't actually get applied until you pass a <b><a href='https://pandas.pydata.org/docs/reference/api/pandas.DataFrame.html'>DataFrame</a></b> to it, which will happen when we train the model. "
   ]
  },
  {
   "cell_type": "code",
   "execution_count": 4,
   "id": "b2b97e34",
   "metadata": {},
   "outputs": [],
   "source": [
    "# Create an empty list that will eventually hold all feature columns.\n",
    "feature_columns = []\n",
    "\n",
    "# Create a numerical feature column to represent latitude.\n",
    "latitude = tf.feature_column.numeric_column(\"latitude\")\n",
    "feature_columns.append(latitude)\n",
    "\n",
    "# Create a numerical feature column to represent longitude.\n",
    "longitude = tf.feature_column.numeric_column(\"longitude\")\n",
    "feature_columns.append(longitude)\n",
    "\n",
    "# Convert the list of feature columns into a layer that will ultimately become\n",
    "# part of the model. Understanding layers is not important right now.\n",
    "fp_feature_layer = layers.DenseFeatures(feature_columns)"
   ]
  },
  {
   "cell_type": "markdown",
   "id": "9e592846",
   "metadata": {},
   "source": [
    "When used, the layer processes the raw inputs, according to the transformations described by the feature columns, and packs the result into a numeric array.  (<font color='brown'>The model will train on this numeric array.</font>) "
   ]
  },
  {
   "cell_type": "markdown",
   "id": "c84eb0ad",
   "metadata": {},
   "source": [
    "<a id='sect2'></a>\n",
    "## <font color='darkblue'>Linear Regression Model</font> ([back](#sect0))\n",
    "* <font size='3ptx'><b><a href='#sect2_1'>Define functions that create and train a model, and a plotting function</a></b></font>\n",
    "* <font size='3ptx'><b><a href='#sect2_2'>Train the model with floating-point representations</a></b></font>\n",
    "* <font size='3ptx'><b><a href='#sect2_3'>Task 1: Why aren't floating-point values a good way to represent latitude and longitude?</a></b></font>"
   ]
  },
  {
   "cell_type": "markdown",
   "id": "dacade65",
   "metadata": {},
   "source": [
    "<a id='sect2_1'></a>\n",
    "### <font color='darkgreen'>Define functions that create and train a model, and a plotting function</font>\n",
    "The following code defines three functions:\n",
    "\n",
    "  * `create_model`, which tells TensorFlow to build a linear regression model and to use the `feature_layer_as_fp` as the representation of the model's features.\n",
    "  * `train_model`, which will ultimately train the model from training set examples.\n",
    "  * `plot_the_loss_curve`, which generates a loss curve."
   ]
  },
  {
   "cell_type": "code",
   "execution_count": 19,
   "id": "0c0f06d6",
   "metadata": {},
   "outputs": [
    {
     "name": "stdout",
     "output_type": "stream",
     "text": [
      "Defined the create_model, train_model, and plot_the_loss_curve functions.\n"
     ]
    }
   ],
   "source": [
    "def create_model(my_learning_rate, feature_layer):\n",
    "  \"\"\"Create and compile a simple linear regression model.\"\"\"\n",
    "  # Most simple tf.keras models are sequential.\n",
    "  model = tf.keras.models.Sequential()\n",
    "\n",
    "  # Add the layer containing the feature columns to the model.\n",
    "  model.add(feature_layer)\n",
    "\n",
    "  # Add one linear layer to the model to yield a simple linear regressor.\n",
    "  model.add(tf.keras.layers.Dense(units=1, input_shape=(1,)))\n",
    "\n",
    "  # Construct the layers into a model that TensorFlow can execute.\n",
    "  model.compile(\n",
    "    optimizer=tf.keras.optimizers.RMSprop(lr=my_learning_rate),\n",
    "    loss=\"mean_squared_error\",\n",
    "    metrics=[tf.keras.metrics.RootMeanSquaredError()])\n",
    "\n",
    "  return model           \n",
    "\n",
    "\n",
    "def train_model(model, dataset, epochs, batch_size, label_name='median_house_value', verbose=0):\n",
    "  \"\"\"Feed a dataset into the model in order to train it.\"\"\"\n",
    "\n",
    "  features = {name:np.array(value) for name, value in dataset.items()}\n",
    "  label = np.array(features.pop(label_name))\n",
    "  history = model.fit(\n",
    "    x=features, y=label, batch_size=batch_size,\n",
    "    epochs=epochs, shuffle=True, verbose=verbose)\n",
    "\n",
    "  # The list of epochs is stored separately from the rest of history.\n",
    "  epochs = history.epoch\n",
    "  \n",
    "  # Isolate the mean absolute error for each epoch.\n",
    "  hist = pd.DataFrame(history.history)\n",
    "  rmse = hist[\"root_mean_squared_error\"]\n",
    "\n",
    "  return epochs, rmse   \n",
    "\n",
    "\n",
    "def plot_the_loss_curve(epochs, rmse, width=8, height=4):\n",
    "  \"\"\"Plot a curve of loss vs. epoch.\"\"\"\n",
    "  plt.rcParams['figure.figsize'] = [width, height]\n",
    "  plt.figure()\n",
    "  plt.xlabel(\"Epoch\")\n",
    "  plt.ylabel(\"Root Mean Squared Error\")\n",
    "\n",
    "  plt.plot(epochs, rmse, label=\"Loss\")\n",
    "  plt.legend()\n",
    "  plt.ylim([rmse.min()*0.94, rmse.max()* 1.05])\n",
    "  plt.show()  \n",
    "\n",
    "print(\"Defined the create_model, train_model, and plot_the_loss_curve functions.\")"
   ]
  },
  {
   "cell_type": "markdown",
   "id": "18918da4",
   "metadata": {},
   "source": [
    "<a id='sect2_2'></a>\n",
    "### <font color='darkgreen'>Train the model with floating-point representations</font>\n",
    "The following code cell calls the functions you just created to train, plot, and evaluate a model."
   ]
  },
  {
   "cell_type": "code",
   "execution_count": 6,
   "id": "c3ed38cf",
   "metadata": {},
   "outputs": [
    {
     "data": {
      "image/png": "[encoded data removed]",
      "text/plain": [
       "<IPython.core.display.Image object>"
      ]
     },
     "execution_count": 6,
     "metadata": {},
     "output_type": "execute_result"
    }
   ],
   "source": [
    "# The following variables are the hyperparameters.\n",
    "learning_rate = 0.05\n",
    "epochs = 30\n",
    "batch_size = 100\n",
    "label_name = 'median_house_value'\n",
    "\n",
    "# Create and compile the model's topography.\n",
    "my_model = create_model(learning_rate, fp_feature_layer)\n",
    "tf.keras.utils.plot_model(my_model)"
   ]
  },
  {
   "cell_type": "code",
   "execution_count": 7,
   "id": "11a08ba7",
   "metadata": {},
   "outputs": [
    {
     "name": "stdout",
     "output_type": "stream",
     "text": [
      "WARNING:tensorflow:Layers in a Sequential model should only have a single input tensor, but we receive a <class 'dict'> input: {'longitude': <tf.Tensor 'ExpandDims_3:0' shape=(100, 1) dtype=float64>, 'latitude': <tf.Tensor 'ExpandDims_2:0' shape=(100, 1) dtype=float64>, 'housing_median_age': <tf.Tensor 'ExpandDims_1:0' shape=(100, 1) dtype=float64>, 'total_rooms': <tf.Tensor 'ExpandDims_7:0' shape=(100, 1) dtype=float64>, 'total_bedrooms': <tf.Tensor 'ExpandDims_6:0' shape=(100, 1) dtype=float64>, 'population': <tf.Tensor 'ExpandDims_5:0' shape=(100, 1) dtype=float64>, 'households': <tf.Tensor 'ExpandDims:0' shape=(100, 1) dtype=float64>, 'median_income': <tf.Tensor 'ExpandDims_4:0' shape=(100, 1) dtype=float64>}\n",
      "Consider rewriting this model with the Functional API.\n",
      "WARNING:tensorflow:Layers in a Sequential model should only have a single input tensor, but we receive a <class 'dict'> input: {'longitude': <tf.Tensor 'ExpandDims_3:0' shape=(100, 1) dtype=float64>, 'latitude': <tf.Tensor 'ExpandDims_2:0' shape=(100, 1) dtype=float64>, 'housing_median_age': <tf.Tensor 'ExpandDims_1:0' shape=(100, 1) dtype=float64>, 'total_rooms': <tf.Tensor 'ExpandDims_7:0' shape=(100, 1) dtype=float64>, 'total_bedrooms': <tf.Tensor 'ExpandDims_6:0' shape=(100, 1) dtype=float64>, 'population': <tf.Tensor 'ExpandDims_5:0' shape=(100, 1) dtype=float64>, 'households': <tf.Tensor 'ExpandDims:0' shape=(100, 1) dtype=float64>, 'median_income': <tf.Tensor 'ExpandDims_4:0' shape=(100, 1) dtype=float64>}\n",
      "Consider rewriting this model with the Functional API.\n"
     ]
    },
    {
     "data": {
      "image/png": "[encoded data removed]",
      "text/plain": [
       "<Figure size 720x360 with 1 Axes>"
      ]
     },
     "metadata": {
      "needs_background": "light"
     },
     "output_type": "display_data"
    }
   ],
   "source": [
    "# Train the model on the training set.\n",
    "epoch_data, rmse = train_model(my_model, train_df, epochs, batch_size)\n",
    "\n",
    "plot_the_loss_curve(epoch_data, rmse)"
   ]
  },
  {
   "cell_type": "code",
   "execution_count": 8,
   "id": "14f34401",
   "metadata": {},
   "outputs": [
    {
     "name": "stdout",
     "output_type": "stream",
     "text": [
      "\n",
      ": Evaluate the new model against the test set:\n"
     ]
    },
    {
     "data": {
      "text/plain": [
       "{'longitude': array([-122.05, -118.3 , -117.81, ..., -119.7 , -117.12, -119.63]),\n",
       " 'latitude': array([37.37, 34.26, 33.78, ..., 36.3 , 34.1 , 34.42]),\n",
       " 'housing_median_age': array([27., 43., 27., ..., 10., 40., 42.]),\n",
       " 'total_rooms': array([3885., 1510., 3589., ...,  956.,   96., 1765.]),\n",
       " 'total_bedrooms': array([661., 310., 507., ..., 201.,  14., 263.]),\n",
       " 'population': array([1537.,  809., 1484., ...,  693.,   46.,  753.]),\n",
       " 'households': array([606., 277., 495., ..., 220.,  14., 260.]),\n",
       " 'median_income': array([6.6085, 3.599 , 5.7934, ..., 2.2895, 3.2708, 8.5608])}"
      ]
     },
     "execution_count": 8,
     "metadata": {},
     "output_type": "execute_result"
    }
   ],
   "source": [
    "print(\"\\n: Evaluate the new model against the test set:\")\n",
    "test_features = {name:np.array(value) for name, value in test_df.items()}\n",
    "test_label = np.array(test_features.pop(label_name))\n",
    "test_features"
   ]
  },
  {
   "cell_type": "code",
   "execution_count": 9,
   "id": "1dc95380",
   "metadata": {},
   "outputs": [
    {
     "name": "stdout",
     "output_type": "stream",
     "text": [
      "WARNING:tensorflow:Layers in a Sequential model should only have a single input tensor, but we receive a <class 'dict'> input: {'longitude': <tf.Tensor 'ExpandDims_3:0' shape=(100, 1) dtype=float64>, 'latitude': <tf.Tensor 'ExpandDims_2:0' shape=(100, 1) dtype=float64>, 'housing_median_age': <tf.Tensor 'ExpandDims_1:0' shape=(100, 1) dtype=float64>, 'total_rooms': <tf.Tensor 'ExpandDims_7:0' shape=(100, 1) dtype=float64>, 'total_bedrooms': <tf.Tensor 'ExpandDims_6:0' shape=(100, 1) dtype=float64>, 'population': <tf.Tensor 'ExpandDims_5:0' shape=(100, 1) dtype=float64>, 'households': <tf.Tensor 'ExpandDims:0' shape=(100, 1) dtype=float64>, 'median_income': <tf.Tensor 'ExpandDims_4:0' shape=(100, 1) dtype=float64>}\n",
      "Consider rewriting this model with the Functional API.\n",
      "30/30 [==============================] - 0s 726us/step - loss: 12184.1591 - root_mean_squared_error: 110.3819\n"
     ]
    }
   ],
   "source": [
    "loss, metrics = my_model.evaluate(\n",
    "  x=test_features, y=test_label, batch_size=batch_size)"
   ]
  },
  {
   "cell_type": "code",
   "execution_count": 10,
   "id": "cf8f745b",
   "metadata": {},
   "outputs": [
    {
     "name": "stdout",
     "output_type": "stream",
     "text": [
      "loss=12184.159065755208; RMSE=110.3818782460608\n"
     ]
    }
   ],
   "source": [
    "print(f'loss={loss}; RMSE={metrics}')"
   ]
  },
  {
   "cell_type": "markdown",
   "id": "cf785b43",
   "metadata": {},
   "source": [
    "<a id='sect2_3'></a>\n",
    "### <font color='darkgreen'>Task 1: Why aren't floating-point values a good way to represent latitude and longitude?</font>\n",
    "Are floating-point values a good way to represent `latitude` and `longitude`?\n",
    "\n",
    "First question:\n",
    "\n",
    "> No. Representing latitude and longitude as \n",
    "> floating-point values does not have much \n",
    "> predictive power. For example, neighborhoods at \n",
    "> latitude 35 are not 36/35 more valuable \n",
    "> (or 35/36 less valuable) than houses at \n",
    "> latitude 36.\n",
    "\n",
    "Second question\n",
    "\n",
    "> Representing `latitude` and `longitude` as \n",
    "> floating-point values provides almost no \n",
    "> predictive power. We're only using the raw values \n",
    "> to establish a baseline for future experiments \n",
    "> with better representations."
   ]
  },
  {
   "cell_type": "markdown",
   "id": "9190bb69",
   "metadata": {},
   "source": [
    "<a id='sect3'></a>\n",
    "## <font color='darkblue'>Feature Engineering</font> ([back](#sect0))\n",
    "* <font size='3ptx'><b><a href='#sect3_1'>Represent latitude and longitude in buckets</a></b></font>\n",
    "* <font size='3ptx'><b><a href='#sect3_2'>Train the model with bucket representations</a></b></font>\n",
    "* <font size='3ptx'><b><a href='#sect3_3'>Task 2: Did buckets outperform floating-point representations?</a></b></font>\n",
    "* <font size='3ptx'><b><a href='#sect3_4'>Task 3: What is a better way to represent location?</a></b></font>\n",
    "* <font size='3ptx'><b><a href='#sect3_5'>Represent location as a feature cross</a></b></font>\n",
    "* <font size='3ptx'><b><a href='#sect3_6'>Task 4: Did the feature cross outperform buckets?</a></b></font>\n",
    "* <font size='3ptx'><b><a href='#sect3_7'>Task 5: Adjust the resolution of the feature cross</a></b></font>"
   ]
  },
  {
   "cell_type": "markdown",
   "id": "3d22a548",
   "metadata": {},
   "source": [
    "<a id='sect3_1'></a>\n",
    "### <font color='darkgreen'>Represent latitude and longitude in buckets</font>\n",
    "<font size='3ptx'><b>The following code cell represents latitude and longitude in buckets (bins)</b></font>. Each bin represents all the neighborhoods within a single degree. For example,\n",
    "neighborhoods at latitude 35.4 and 35.8 are in the same bucket, but neighborhoods in latitude 35.4 and 36.2 are in different buckets. \n",
    "\n",
    "**The model will learn a separate weight for each bucket. For example, the model will learn one weight for all the neighborhoods in the \"35\" bin\", a different weight for neighborhoods in the \"36\" bin, and so on**. This representation will create approximately 20 buckets:\n",
    " \n",
    "  * 10 buckets for `latitude`. \n",
    "  * 10 buckets for `longitude`. "
   ]
  },
  {
   "cell_type": "code",
   "execution_count": 11,
   "id": "fbeb65a2",
   "metadata": {},
   "outputs": [],
   "source": [
    "resolution_in_degrees = 1.0 \n",
    "\n",
    "# Create a new empty list that will eventually hold the generated feature column.\n",
    "feature_columns = []\n",
    "\n",
    "# Create a bucket feature column for latitude.\n",
    "latitude_as_a_numeric_column = tf.feature_column.numeric_column(\"latitude\")\n",
    "latitude_boundaries = list(np.arange(int(min(train_df['latitude'])), \n",
    "                                     int(max(train_df['latitude'])), \n",
    "                                     resolution_in_degrees))\n",
    "latitude = tf.feature_column.bucketized_column(latitude_as_a_numeric_column, \n",
    "                                               latitude_boundaries)\n",
    "feature_columns.append(latitude)\n",
    "\n",
    "# Create a bucket feature column for longitude.\n",
    "longitude_as_a_numeric_column = tf.feature_column.numeric_column(\"longitude\")\n",
    "longitude_boundaries = list(np.arange(int(min(train_df['longitude'])), \n",
    "                                      int(max(train_df['longitude'])), \n",
    "                                      resolution_in_degrees))\n",
    "longitude = tf.feature_column.bucketized_column(longitude_as_a_numeric_column, \n",
    "                                                longitude_boundaries)\n",
    "feature_columns.append(longitude)\n",
    "\n",
    "# Convert the list of feature columns into a layer that will ultimately become\n",
    "# part of the model. Understanding layers is not important right now.\n",
    "buckets_feature_layer = layers.DenseFeatures(feature_columns)"
   ]
  },
  {
   "cell_type": "markdown",
   "id": "2bf0fd1a",
   "metadata": {},
   "source": [
    "<a id='sect3_2'></a>\n",
    "### <font color='darkgreen'>Train the model with bucket representations</font>\n",
    "Run the following code cell to train the model with bucket representations rather than floating-point representations:"
   ]
  },
  {
   "cell_type": "code",
   "execution_count": 15,
   "id": "45dbd1d9",
   "metadata": {},
   "outputs": [
    {
     "name": "stdout",
     "output_type": "stream",
     "text": [
      "WARNING:tensorflow:Layers in a Sequential model should only have a single input tensor, but we receive a <class 'dict'> input: {'longitude': <tf.Tensor 'ExpandDims_3:0' shape=(100, 1) dtype=float64>, 'latitude': <tf.Tensor 'ExpandDims_2:0' shape=(100, 1) dtype=float64>, 'housing_median_age': <tf.Tensor 'ExpandDims_1:0' shape=(100, 1) dtype=float64>, 'total_rooms': <tf.Tensor 'ExpandDims_7:0' shape=(100, 1) dtype=float64>, 'total_bedrooms': <tf.Tensor 'ExpandDims_6:0' shape=(100, 1) dtype=float64>, 'population': <tf.Tensor 'ExpandDims_5:0' shape=(100, 1) dtype=float64>, 'households': <tf.Tensor 'ExpandDims:0' shape=(100, 1) dtype=float64>, 'median_income': <tf.Tensor 'ExpandDims_4:0' shape=(100, 1) dtype=float64>}\n",
      "Consider rewriting this model with the Functional API.\n",
      "WARNING:tensorflow:Layers in a Sequential model should only have a single input tensor, but we receive a <class 'dict'> input: {'longitude': <tf.Tensor 'ExpandDims_3:0' shape=(100, 1) dtype=float64>, 'latitude': <tf.Tensor 'ExpandDims_2:0' shape=(100, 1) dtype=float64>, 'housing_median_age': <tf.Tensor 'ExpandDims_1:0' shape=(100, 1) dtype=float64>, 'total_rooms': <tf.Tensor 'ExpandDims_7:0' shape=(100, 1) dtype=float64>, 'total_bedrooms': <tf.Tensor 'ExpandDims_6:0' shape=(100, 1) dtype=float64>, 'population': <tf.Tensor 'ExpandDims_5:0' shape=(100, 1) dtype=float64>, 'households': <tf.Tensor 'ExpandDims:0' shape=(100, 1) dtype=float64>, 'median_income': <tf.Tensor 'ExpandDims_4:0' shape=(100, 1) dtype=float64>}\n",
      "Consider rewriting this model with the Functional API.\n"
     ]
    },
    {
     "data": {
      "image/png": "[encoded data removed]",
      "text/plain": [
       "<Figure size 720x360 with 1 Axes>"
      ]
     },
     "metadata": {
      "needs_background": "light"
     },
     "output_type": "display_data"
    }
   ],
   "source": [
    "# The following variables are the hyperparameters.\n",
    "learning_rate = 0.04\n",
    "epochs = 35\n",
    "\n",
    "# Build the model, this time passing in the buckets_feature_layer.\n",
    "my_model = create_model(learning_rate, buckets_feature_layer)\n",
    "\n",
    "# Train the model on the training set.\n",
    "epochs, rmse = train_model(my_model, train_df, epochs, batch_size, label_name)\n",
    "\n",
    "plot_the_loss_curve(epochs, rmse)"
   ]
  },
  {
   "cell_type": "code",
   "execution_count": 14,
   "id": "2a416a91",
   "metadata": {},
   "outputs": [
    {
     "name": "stdout",
     "output_type": "stream",
     "text": [
      "\n",
      ": Evaluate the new model against the test set:\n",
      "30/30 [==============================] - 0s 1ms/step - loss: 10197.1941 - root_mean_squared_error: 100.9812\n",
      "loss=10197.194108072918; RMSE=100.98115804704503\n"
     ]
    }
   ],
   "source": [
    "os.environ['TF_CPP_MIN_LOG_LEVEL'] = '3' \n",
    "print(\"\\n: Evaluate the new model against the test set:\")\n",
    "loss, metrics = my_model.evaluate(x=test_features, y=test_label, batch_size=batch_size)\n",
    "print(f'loss={loss}; RMSE={metrics}')"
   ]
  },
  {
   "cell_type": "markdown",
   "id": "e6b604c1",
   "metadata": {},
   "source": [
    "<a id='sect3_3'></a>\n",
    "### <font color='darkgreen'>Task 2: Did buckets outperform floating-point representations?</font>\n",
    "Compare the model's `root_mean_squared_error` values for the two representations (floating-point vs. buckets)?  Which model produced lower losses? \n",
    "\n",
    "> Bucket representation outperformed \n",
    "> floating-point representations.  \n",
    "> However, you can still do far better."
   ]
  },
  {
   "cell_type": "markdown",
   "id": "df114c84",
   "metadata": {},
   "source": [
    "<a id='sect3_4'></a>\n",
    "### <font color='darkgreen'>Task 3: What is a better way to represent location?</font>\n",
    "Buckets are a big improvement over floating-point values. Can you identify an even better way to identify location with `latitude` and `longitude`?\n",
    "\n",
    "> **Representing location as a feature cross should \n",
    "> produce better results.**\n",
    ">\n",
    "> In Task 2, you represented latitude in \n",
    "> one-dimensional buckets and longitude in \n",
    "> another series of one-dimensional buckets. \n",
    "> Real-world locations, however, exist in \n",
    "> two dimension. Therefore, you should\n",
    "> represent location as a two-dimensional feature\n",
    "> cross. That is, you'll cross the 10 or so latitude \n",
    "> buckets with the 10 or so longitude buckets to \n",
    "> create a grid of 100 cells. \n",
    ">\n",
    "> The model will learn separate weights for each \n",
    "> of the cells."
   ]
  },
  {
   "cell_type": "markdown",
   "id": "c8069da6",
   "metadata": {},
   "source": [
    "<a id='sect3_5'></a>\n",
    "### <font color='darkgreen'>Represent location as a feature cross</font>\n",
    "\n",
    "The following code cell represents location as a feature cross. That is, the following code cell first creates buckets and then calls [`tf.feature_column.crossed_column`](https://www.tensorflow.org/api_docs/python/tf/feature_column/crossed_column) to cross the buckets."
   ]
  },
  {
   "cell_type": "code",
   "execution_count": 22,
   "id": "53c314fa",
   "metadata": {},
   "outputs": [],
   "source": [
    "def generate_feature_cross_layer(resolution_in_degrees = 1.0): \n",
    "  # Create a new empty list that will eventually hold the generated feature column.\n",
    "  feature_columns = []\n",
    "  \n",
    "  # Create a bucket feature column for latitude.\n",
    "  latitude_as_a_numeric_column = tf.feature_column.numeric_column(\"latitude\")\n",
    "  latitude_boundaries = list(np.arange(int(min(train_df['latitude'])), int(max(train_df['latitude'])), resolution_in_degrees))\n",
    "  latitude = tf.feature_column.bucketized_column(latitude_as_a_numeric_column, latitude_boundaries)\n",
    "\n",
    "  # Create a bucket feature column for longitude.\n",
    "  longitude_as_a_numeric_column = tf.feature_column.numeric_column(\"longitude\")\n",
    "  longitude_boundaries = list(np.arange(int(min(train_df['longitude'])), int(max(train_df['longitude'])), resolution_in_degrees))\n",
    "  longitude = tf.feature_column.bucketized_column(longitude_as_a_numeric_column, longitude_boundaries)\n",
    "\n",
    "  # Create a feature cross of latitude and longitude.\n",
    "  latitude_x_longitude = tf.feature_column.crossed_column([latitude, longitude], hash_bucket_size=100)\n",
    "  crossed_feature = tf.feature_column.indicator_column(latitude_x_longitude)\n",
    "  feature_columns.append(crossed_feature)\n",
    "\n",
    "  # Convert the list of feature columns into a layer that will later be fed into\n",
    "  # the model. \n",
    "  feature_cross_feature_layer = layers.DenseFeatures(feature_columns)\n",
    "  return feature_cross_feature_layer"
   ]
  },
  {
   "cell_type": "markdown",
   "id": "db9dd81c",
   "metadata": {},
   "source": [
    "Invoke the following code cell to test your solution for Task 3. Please ignore the warning messages."
   ]
  },
  {
   "cell_type": "code",
   "execution_count": 23,
   "id": "f8464a32",
   "metadata": {},
   "outputs": [
    {
     "name": "stdout",
     "output_type": "stream",
     "text": [
      "WARNING:tensorflow:Layers in a Sequential model should only have a single input tensor, but we receive a <class 'dict'> input: {'longitude': <tf.Tensor 'ExpandDims_3:0' shape=(100, 1) dtype=float64>, 'latitude': <tf.Tensor 'ExpandDims_2:0' shape=(100, 1) dtype=float64>, 'housing_median_age': <tf.Tensor 'ExpandDims_1:0' shape=(100, 1) dtype=float64>, 'total_rooms': <tf.Tensor 'ExpandDims_7:0' shape=(100, 1) dtype=float64>, 'total_bedrooms': <tf.Tensor 'ExpandDims_6:0' shape=(100, 1) dtype=float64>, 'population': <tf.Tensor 'ExpandDims_5:0' shape=(100, 1) dtype=float64>, 'households': <tf.Tensor 'ExpandDims:0' shape=(100, 1) dtype=float64>, 'median_income': <tf.Tensor 'ExpandDims_4:0' shape=(100, 1) dtype=float64>}\n",
      "Consider rewriting this model with the Functional API.\n",
      "WARNING:tensorflow:Layers in a Sequential model should only have a single input tensor, but we receive a <class 'dict'> input: {'longitude': <tf.Tensor 'ExpandDims_3:0' shape=(100, 1) dtype=float64>, 'latitude': <tf.Tensor 'ExpandDims_2:0' shape=(100, 1) dtype=float64>, 'housing_median_age': <tf.Tensor 'ExpandDims_1:0' shape=(100, 1) dtype=float64>, 'total_rooms': <tf.Tensor 'ExpandDims_7:0' shape=(100, 1) dtype=float64>, 'total_bedrooms': <tf.Tensor 'ExpandDims_6:0' shape=(100, 1) dtype=float64>, 'population': <tf.Tensor 'ExpandDims_5:0' shape=(100, 1) dtype=float64>, 'households': <tf.Tensor 'ExpandDims:0' shape=(100, 1) dtype=float64>, 'median_income': <tf.Tensor 'ExpandDims_4:0' shape=(100, 1) dtype=float64>}\n",
      "Consider rewriting this model with the Functional API.\n"
     ]
    }
   ],
   "source": [
    "# The following variables are the hyperparameters.\n",
    "learning_rate = 0.04\n",
    "epochs = 35\n",
    "\n",
    "# Build the model, this time passing in the feature_cross_feature_layer: \n",
    "my_model = create_model(learning_rate, generate_feature_cross_layer())\n",
    "\n",
    "# Train the model on the training set.\n",
    "epochs, rmse = train_model(my_model, train_df, epochs, batch_size, label_name)"
   ]
  },
  {
   "cell_type": "code",
   "execution_count": 20,
   "id": "8a4edc80",
   "metadata": {},
   "outputs": [
    {
     "data": {
      "image/png": "[encoded data removed]",
      "text/plain": [
       "<Figure size 576x288 with 1 Axes>"
      ]
     },
     "metadata": {
      "needs_background": "light"
     },
     "output_type": "display_data"
    }
   ],
   "source": [
    "plot_the_loss_curve(epochs, rmse)"
   ]
  },
  {
   "cell_type": "code",
   "execution_count": 21,
   "id": "6f1bd0e5",
   "metadata": {},
   "outputs": [
    {
     "name": "stdout",
     "output_type": "stream",
     "text": [
      "\n",
      ": Evaluate the new model against the test set:\n",
      "WARNING:tensorflow:Layers in a Sequential model should only have a single input tensor, but we receive a <class 'dict'> input: {'longitude': <tf.Tensor 'ExpandDims_3:0' shape=(100, 1) dtype=float64>, 'latitude': <tf.Tensor 'ExpandDims_2:0' shape=(100, 1) dtype=float64>, 'housing_median_age': <tf.Tensor 'ExpandDims_1:0' shape=(100, 1) dtype=float64>, 'total_rooms': <tf.Tensor 'ExpandDims_7:0' shape=(100, 1) dtype=float64>, 'total_bedrooms': <tf.Tensor 'ExpandDims_6:0' shape=(100, 1) dtype=float64>, 'population': <tf.Tensor 'ExpandDims_5:0' shape=(100, 1) dtype=float64>, 'households': <tf.Tensor 'ExpandDims:0' shape=(100, 1) dtype=float64>, 'median_income': <tf.Tensor 'ExpandDims_4:0' shape=(100, 1) dtype=float64>}\n",
      "Consider rewriting this model with the Functional API.\n",
      "30/30 [==============================] - 0s 1ms/step - loss: 9518.6366 - root_mean_squared_error: 97.5635\n",
      "loss=9518.636588541667; RMSE=97.56350118831524\n"
     ]
    }
   ],
   "source": [
    "print(\"\\n: Evaluate the new model against the test set:\")\n",
    "loss, metrics = my_model.evaluate(x=test_features, y=test_label, batch_size=batch_size)\n",
    "print(f'loss={loss}; RMSE={metrics}')"
   ]
  },
  {
   "cell_type": "markdown",
   "id": "80761e49",
   "metadata": {},
   "source": [
    "<a id='sect3_6'></a>\n",
    "### <font color='darkgreen'>Task 4: Did the feature cross outperform buckets?</font>\n",
    "\n",
    "Compare the model's `root_mean_squared_error` values for the two representations (buckets vs. feature cross)?  Which model produced lower losses? \n",
    "> Yes, representing these features as a feature \n",
    "> cross produced much lower loss values than \n",
    "> representing these features as buckets"
   ]
  },
  {
   "cell_type": "markdown",
   "id": "0d706887",
   "metadata": {},
   "source": [
    "<a id='sect3_7'></a>\n",
    "### <font color='darkgreen'>Task 5: Adjust the resolution of the feature cross</font>\n",
    "\n",
    "Return to the code cell in the \"Represent location as a feature cross\" section. Notice that `resolution_in_degrees` is set to 1.0. Therefore, each cell represents an area of 1.0 degree of latitude by 1.0 degree of longitude, which corresponds to a cell of 110 km by 90 km.  This resolution defines a rather large neighborhood. \n",
    "\n",
    "Experiment with `resolution_in_degrees` to answer the following questions:\n",
    "\n",
    "  1. What value of `resolution_in_degrees` produces the best results (lowest loss value)?\n",
    "\n",
    "> 1. A resolution of ~0.4 degree provides the best results.\n",
    "  \n",
    "  2. Why does loss increase when the value of `resolution_in_degrees` drops below a certain value?\n",
    "\n",
    "> Below ~0.4 degree, loss increases because the \n",
    ">   dataset does not contain enough examples in \n",
    ">   each cell to accurately predict prices for \n",
    ">   those cells.\n",
    "\n",
    "Finally, answer the following question:\n",
    "\n",
    "  3. What feature (that does not exist in the California Housing Dataset) would\n",
    "     be a better proxy for location than latitude X longitude.\n",
    "     \n",
    "> Postal code would be a far better feature \n",
    ">   than latitude X longitude, assuming that \n",
    ">   the dataset contained sufficient examples \n",
    ">   in each postal code."
   ]
  },
  {
   "cell_type": "code",
   "execution_count": 33,
   "id": "5dada5cf",
   "metadata": {},
   "outputs": [
    {
     "name": "stdout",
     "output_type": "stream",
     "text": [
      "WARNING:tensorflow:Layers in a Sequential model should only have a single input tensor, but we receive a <class 'dict'> input: {'longitude': <tf.Tensor 'ExpandDims_3:0' shape=(100, 1) dtype=float64>, 'latitude': <tf.Tensor 'ExpandDims_2:0' shape=(100, 1) dtype=float64>, 'housing_median_age': <tf.Tensor 'ExpandDims_1:0' shape=(100, 1) dtype=float64>, 'total_rooms': <tf.Tensor 'ExpandDims_7:0' shape=(100, 1) dtype=float64>, 'total_bedrooms': <tf.Tensor 'ExpandDims_6:0' shape=(100, 1) dtype=float64>, 'population': <tf.Tensor 'ExpandDims_5:0' shape=(100, 1) dtype=float64>, 'households': <tf.Tensor 'ExpandDims:0' shape=(100, 1) dtype=float64>, 'median_income': <tf.Tensor 'ExpandDims_4:0' shape=(100, 1) dtype=float64>}\n",
      "Consider rewriting this model with the Functional API.\n",
      "WARNING:tensorflow:Layers in a Sequential model should only have a single input tensor, but we receive a <class 'dict'> input: {'longitude': <tf.Tensor 'ExpandDims_3:0' shape=(100, 1) dtype=float64>, 'latitude': <tf.Tensor 'ExpandDims_2:0' shape=(100, 1) dtype=float64>, 'housing_median_age': <tf.Tensor 'ExpandDims_1:0' shape=(100, 1) dtype=float64>, 'total_rooms': <tf.Tensor 'ExpandDims_7:0' shape=(100, 1) dtype=float64>, 'total_bedrooms': <tf.Tensor 'ExpandDims_6:0' shape=(100, 1) dtype=float64>, 'population': <tf.Tensor 'ExpandDims_5:0' shape=(100, 1) dtype=float64>, 'households': <tf.Tensor 'ExpandDims:0' shape=(100, 1) dtype=float64>, 'median_income': <tf.Tensor 'ExpandDims_4:0' shape=(100, 1) dtype=float64>}\n",
      "Consider rewriting this model with the Functional API.\n"
     ]
    }
   ],
   "source": [
    "# The following variables are the hyperparameters.\n",
    "learning_rate = 0.04\n",
    "epochs = 35\n",
    "\n",
    "# Build the model, this time passing in the feature_cross_feature_layer: \n",
    "my_model = create_model(learning_rate, generate_feature_cross_layer(0.4))\n",
    "\n",
    "# Train the model on the training set.\n",
    "epochs, rmse = train_model(my_model, train_df, epochs, batch_size, label_name)"
   ]
  },
  {
   "cell_type": "code",
   "execution_count": 34,
   "id": "29242540",
   "metadata": {},
   "outputs": [
    {
     "data": {
      "image/png": "[encoded data removed]",
      "text/plain": [
       "<Figure size 576x288 with 1 Axes>"
      ]
     },
     "metadata": {
      "needs_background": "light"
     },
     "output_type": "display_data"
    }
   ],
   "source": [
    "plot_the_loss_curve(epochs, rmse)"
   ]
  },
  {
   "cell_type": "code",
   "execution_count": 35,
   "id": "5995fce2",
   "metadata": {},
   "outputs": [
    {
     "name": "stdout",
     "output_type": "stream",
     "text": [
      "\n",
      ": Evaluate the new model against the test set:\n",
      "WARNING:tensorflow:Layers in a Sequential model should only have a single input tensor, but we receive a <class 'dict'> input: {'longitude': <tf.Tensor 'ExpandDims_3:0' shape=(100, 1) dtype=float64>, 'latitude': <tf.Tensor 'ExpandDims_2:0' shape=(100, 1) dtype=float64>, 'housing_median_age': <tf.Tensor 'ExpandDims_1:0' shape=(100, 1) dtype=float64>, 'total_rooms': <tf.Tensor 'ExpandDims_7:0' shape=(100, 1) dtype=float64>, 'total_bedrooms': <tf.Tensor 'ExpandDims_6:0' shape=(100, 1) dtype=float64>, 'population': <tf.Tensor 'ExpandDims_5:0' shape=(100, 1) dtype=float64>, 'households': <tf.Tensor 'ExpandDims:0' shape=(100, 1) dtype=float64>, 'median_income': <tf.Tensor 'ExpandDims_4:0' shape=(100, 1) dtype=float64>}\n",
      "Consider rewriting this model with the Functional API.\n",
      "30/30 [==============================] - 0s 1ms/step - loss: 8651.3947 - root_mean_squared_error: 93.0129\n",
      "loss=8651.394694010416; RMSE=93.01287373903033\n"
     ]
    }
   ],
   "source": [
    "print(\"\\n: Evaluate the new model against the test set:\")\n",
    "loss, metrics = my_model.evaluate(x=test_features, y=test_label, batch_size=batch_size)\n",
    "print(f'loss={loss}; RMSE={metrics}')"
   ]
  }
 ],
 "metadata": {
  "kernelspec": {
   "display_name": "Python 3 (ipykernel)",
   "language": "python",
   "name": "python3"
  },
  "language_info": {
   "codemirror_mode": {
    "name": "ipython",
    "version": 3
   },
   "file_extension": ".py",
   "mimetype": "text/x-python",
   "name": "python",
   "nbconvert_exporter": "python",
   "pygments_lexer": "ipython3",
   "version": "3.9.9"
  }
 },
 "nbformat": 4,
 "nbformat_minor": 5
}
