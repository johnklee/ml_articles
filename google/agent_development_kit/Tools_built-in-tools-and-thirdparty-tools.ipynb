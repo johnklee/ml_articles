{
 "cells": [
  {
   "cell_type": "markdown",
   "id": "2b474a26-29bd-4567-8672-30c03c590177",
   "metadata": {},
   "source": [
    "## <b><font color='darkblue'>Built-in tools</font></b>\n",
    "([source](https://google.github.io/adk-docs/tools/built-in-tools/)) <font size='3ptx'><b>These built-in tools provide ready-to-use functionality such as Google Search or code executors that provide agents with common capabilities.</b> For instance, an agent that needs to retrieve information from the web can directly use the `google_search` tool without any additional setup.</font>"
   ]
  },
  {
   "cell_type": "code",
   "execution_count": 2,
   "id": "b5166b2f-040c-4b80-91b3-1db3a177f08d",
   "metadata": {},
   "outputs": [],
   "source": [
    "from IPython.display import display, Markdown, Latex\n",
    "import warnings\n",
    "\n",
    "\n",
    "warnings.filterwarnings('ignore')\n",
    "\n",
    "def show_source_code(src_path: str):\n",
    "    source_code = !cat $src_path\n",
    "    display(Markdown(f\"\"\"\n",
    "```python\n",
    "{'\\n'.join(source_code)}\n",
    "```\"\"\"))"
   ]
  },
  {
   "cell_type": "markdown",
   "id": "e02acf71-6a4d-4741-88ba-bfaf0c90d6c4",
   "metadata": {},
   "source": [
    "### <b><font color='darkgreen'>How to Use</font></b>\n",
    "([source](https://google.github.io/adk-docs/tools/built-in-tools/#how-to-use))\n",
    "1. <b><font size='3ptx'>Import</font></b>: Import the desired tool from the tools module. This is `agents.tools`.\n",
    "2. <b><font size='3ptx'>Configure</font></b>: Initialize the tool, providing required parameters if any.\n",
    "3. <b><font size='3ptx'>Register</font></b>: Add the initialized tool to the `tools` list of your Agent.\n",
    "\n",
    "Once added to an agent, the agent can decide to use the tool based on the `user prompt` and its `instructions`. The framework handles the execution of the tool when the agent calls it. Important: check the <b>Limitations</b> section of this page."
   ]
  },
  {
   "cell_type": "markdown",
   "id": "e6a2c558-23ea-4630-b3f8-d9abe14c6817",
   "metadata": {
    "jp-MarkdownHeadingCollapsed": true
   },
   "source": [
    "### <b><font color='darkgreen'>Available Built-in tools</font></b>\n",
    "([source](https://google.github.io/adk-docs/tools/built-in-tools/#available-built-in-tools))"
   ]
  },
  {
   "cell_type": "markdown",
   "id": "807979cc-f851-4969-a3ae-17735e2cdd38",
   "metadata": {
    "jp-MarkdownHeadingCollapsed": true
   },
   "source": [
    "#### <b>Google Search</b>\n",
    "The `google_search` tool allows the agent to perform web searches using Google Search. The `google_search` tool is only compatible with Gemini 2 models. For further details of the tool, see [**Understanding Google Search grounding**](https://google.github.io/adk-docs/grounding/google_search_grounding/)."
   ]
  },
  {
   "cell_type": "markdown",
   "id": "342ecd01-c826-4a41-beb6-e6d5d1a6c74a",
   "metadata": {},
   "source": [
    "<b><font color='orange'>Additional requirements when using the `google_search` tool</font></b><br/>\n",
    "> When you use grounding with Google Search, and you receive Search suggestions in your response, you must display the Search suggestions in production and in your applications. For more information on grounding with Google Search, see Grounding with Google Search documentation for [Google AI Studio](https://ai.google.dev/gemini-api/docs/grounding/search-suggestions) or [Vertex AI](https://cloud.google.com/vertex-ai/generative-ai/docs/grounding/grounding-search-suggestions). The UI code (HTML) is returned in the Gemini response as `renderedContent`, and you will need to show the HTML in your app, in accordance with the policy."
   ]
  },
  {
   "cell_type": "code",
   "execution_count": 2,
   "id": "2dbaa695-db31-4b5f-b4f4-ddba53167a2e",
   "metadata": {},
   "outputs": [
    {
     "data": {
      "text/markdown": [
       "\n",
       "```python\n",
       "#!/usr/bin/env python\n",
       "import asyncio\n",
       "\n",
       "from google.adk.agents import Agent\n",
       "from google.adk.runners import Runner\n",
       "from google.adk.sessions import InMemorySessionService\n",
       "from google.adk.tools import google_search\n",
       "from google.genai import types\n",
       "\n",
       "\n",
       "APP_NAME=\"google_search_agent\"\n",
       "USER_ID=\"user1234\"\n",
       "SESSION_ID=\"1234\"\n",
       "\n",
       "root_agent = Agent(\n",
       "    name=\"basic_search_agent\",\n",
       "    model=\"gemini-2.0-flash\",\n",
       "    description=\"Agent to answer questions using Google Search.\",\n",
       "    instruction=(\n",
       "        \"I can answer your questions by searching the internet. \"\n",
       "        \"Just ask me anything! For each query, please address the source.\"),\n",
       "    # google_search is a pre-built tool which allows the agent to perform Google searches.\n",
       "    tools=[google_search]\n",
       ")\n",
       "\n",
       "# Session and Runner\n",
       "async def setup_session_and_runner():\n",
       "  session_service = InMemorySessionService()\n",
       "  session = await session_service.create_session(\n",
       "      app_name=APP_NAME, user_id=USER_ID, session_id=SESSION_ID)\n",
       "  runner = Runner(\n",
       "      agent=root_agent, app_name=APP_NAME, session_service=session_service)\n",
       "  return session, runner\n",
       "\n",
       "\n",
       "# Agent Interaction\n",
       "async def call_agent_async(query):\n",
       "  content = types.Content(role='user', parts=[types.Part(text=query)])\n",
       "  session, runner = await setup_session_and_runner()\n",
       "  events = runner.run_async(\n",
       "      user_id=USER_ID, session_id=SESSION_ID, new_message=content)\n",
       "\n",
       "  async for event in events:\n",
       "    if event.is_final_response():\n",
       "      final_response = event.content.parts[0].text\n",
       "      print(\"Agent Response: \", final_response)\n",
       "\n",
       "\n",
       "if __name__ == '__main__':\n",
       "  asyncio.run(call_agent_async(\"What's the latest ai news?\"))\n",
       "```"
      ],
      "text/plain": [
       "<IPython.core.display.Markdown object>"
      ]
     },
     "metadata": {},
     "output_type": "display_data"
    }
   ],
   "source": [
    "show_source_code('builtin_tools_google_search.py')"
   ]
  },
  {
   "cell_type": "code",
   "execution_count": 2,
   "id": "d40d64d6-f6c4-48d5-ac9a-08f4da3c757a",
   "metadata": {},
   "outputs": [],
   "source": [
    "import builtin_tools_google_search"
   ]
  },
  {
   "cell_type": "code",
   "execution_count": 3,
   "id": "893d4388-7796-4a27-bdbe-82dd7ab3bcab",
   "metadata": {},
   "outputs": [
    {
     "name": "stderr",
     "output_type": "stream",
     "text": [
      "Both GOOGLE_API_KEY and GEMINI_API_KEY are set. Using GOOGLE_API_KEY.\n"
     ]
    }
   ],
   "source": [
    "response = await builtin_tools_google_search.call_agent_async(\n",
    "    'What\\'s the latest news about \"Agent development kit\"?', depress_print=True)"
   ]
  },
  {
   "cell_type": "code",
   "execution_count": 4,
   "id": "325b50d2-2ed3-4ac9-984b-0353323b2093",
   "metadata": {},
   "outputs": [
    {
     "data": {
      "text/markdown": [
       "Agent Response: Here's the latest news regarding the \"Agent Development Kit\" (ADK):\n",
       "\n",
       "*   **Google's ADK:** Google introduced the Agent Development Kit (ADK), an open-source framework designed to simplify the development of AI agents and multi-agent systems. It allows developers to build AI agents with fewer lines of code and streamlines integration with data platforms.\n",
       "*   **Key Features of ADK:** The ADK offers precise control over agent behavior, orchestration, and is optimized for Google Cloud, with seamless integration with Gemini models and Vertex AI. It's model-agnostic, deployment-agnostic, and interoperable.\n",
       "*   **Agent2Agent (A2A) Protocol:** Google Cloud is releasing native support for A2A in ADK, making it easier to build collaborative agents. This protocol enables agents from different vendors to communicate with each other, promoting a vendor-neutral standard for AI interaction.\n",
       "*   **Deployment Options:** ADK provides various deployment paths for A2A-compliant agents, including Agent Engine, Cloud Run, and Google Kubernetes Engine (GKE).\n",
       "*   **ADK and Agentspace:** Partners can make A2A agents available within Agentspace, Google's platform for building and managing agents.\n",
       "*   **Recent Updates:** As of ADK v1.2.0+, you can deploy agents directly to Vertex AI Agent Engine with a single command.\n",
       "*   **Community Support:** Over 150 organizations publicly support A2A, demonstrating the industry's need for vendor-neutral standards in agentic AI.\n",
       "*   **Real-World Applications:** Companies like Tyson Foods and Gordon Food Service are using A2A systems to enhance supply chain performance and improve real-time data sharing."
      ],
      "text/plain": [
       "<IPython.core.display.Markdown object>"
      ]
     },
     "metadata": {},
     "output_type": "display_data"
    }
   ],
   "source": [
    "display(Markdown(response))"
   ]
  },
  {
   "cell_type": "markdown",
   "id": "79701505-a3ca-4a31-89be-4ae931fd961a",
   "metadata": {},
   "source": [
    "#### <b>Code Execution</b>\n",
    "<font size='3ptx'><b>The `built_in_code_execution` tool enables the agent to execute code, specifically when using Gemini 2 models.</b> This allows the model to perform tasks like calculations, data manipulation, or running small scripts.</font>"
   ]
  },
  {
   "cell_type": "code",
   "execution_count": 5,
   "id": "c3a057a2-4bda-473f-acc5-79b9cde1f80f",
   "metadata": {},
   "outputs": [
    {
     "data": {
      "text/markdown": [
       "\n",
       "```python\n",
       "#!/usr/bin/env python\n",
       "import asyncio\n",
       "from google.adk.agents import LlmAgent\n",
       "from google.adk.runners import Runner\n",
       "from google.adk.sessions import InMemorySessionService\n",
       "from google.adk.code_executors import BuiltInCodeExecutor\n",
       "from google.genai import types\n",
       "\n",
       "\n",
       "AGENT_NAME = \"calculator_agent\"\n",
       "APP_NAME = \"calculator\"\n",
       "USER_ID = \"user1234\"\n",
       "SESSION_ID = \"session_code_exec_async\"\n",
       "GEMINI_MODEL = \"gemini-2.0-flash\"\n",
       "\n",
       "\n",
       "# Agent Definition\n",
       "code_agent = LlmAgent(\n",
       "    name=AGENT_NAME,\n",
       "    model=GEMINI_MODEL,\n",
       "    code_executor=BuiltInCodeExecutor(),\n",
       "    instruction=(\n",
       "        \"You are a calculator agent.\"\n",
       "        \"When given a mathematical expression, \"\n",
       "        \"write and execute Python code to calculate the result.\"\n",
       "        \"Return only the final numerical result as plain text, \"\n",
       "        \"without markdown or code blocks.\"\n",
       "    ),\n",
       "    description=\"Executes Python code to perform calculations.\",\n",
       ")\n",
       "\n",
       "# Session and Runner\n",
       "session_service = InMemorySessionService()\n",
       "session = asyncio.run(session_service.create_session(\n",
       "    app_name=APP_NAME,\n",
       "    user_id=USER_ID,\n",
       "    session_id=SESSION_ID\n",
       "))\n",
       "runner = Runner(\n",
       "    agent=code_agent,\n",
       "    app_name=APP_NAME,\n",
       "    session_service=session_service)\n",
       "\n",
       "\n",
       "# Agent Interaction (Async)\n",
       "async def call_agent_async(query):\n",
       "  content = types.Content(role=\"user\", parts=[types.Part(text=query)])\n",
       "  print(f\"\\n--- Running Query: {query} ---\")\n",
       "  final_response_text = \"No final text response captured.\"\n",
       "  try:\n",
       "    # Use run_async\n",
       "    async for event in runner.run_async(\n",
       "        user_id=USER_ID, session_id=SESSION_ID, new_message=content\n",
       "    ):\n",
       "      print(f\"Event ID: {event.id}, Author: {event.author}\")\n",
       "\n",
       "      # --- Check for specific parts FIRST ---\n",
       "      has_specific_part = False\n",
       "      if event.content and event.content.parts:\n",
       "        for part in event.content.parts:  # Iterate through all parts\n",
       "          if part.executable_code:\n",
       "            # Access the actual code string via .code\n",
       "            print(\n",
       "                f\"  Debug: Agent generated code:\\n\"\n",
       "                \"```python\\n{part.executable_code.code}\\n```\")\n",
       "            has_specific_part = True\n",
       "          elif part.code_execution_result:\n",
       "            # Access outcome and output correctly\n",
       "            print(\n",
       "                \"  Debug: Code Execution Result: \"\n",
       "                f\"{part.code_execution_result.outcome} - \"\n",
       "                f\"Output:\\n{part.code_execution_result.output}\")\n",
       "            has_specific_part = True\n",
       "            # Also print any text parts found in any event for debugging\n",
       "          elif part.text and not part.text.isspace():\n",
       "            print(f\"  Text: '{part.text.strip()}'\")\n",
       "            # Do not set has_specific_part=True here, as we want the final response logic below\n",
       "\n",
       "          # --- Check for final response AFTER specific parts ---\n",
       "          # Only consider it final if it doesn't have the specific code parts we just handled\n",
       "          if not has_specific_part and event.is_final_response():\n",
       "            if (\n",
       "                event.content\n",
       "                and event.content.parts\n",
       "                and event.content.parts[0].text\n",
       "            ):\n",
       "              final_response_text = event.content.parts[0].text.strip()\n",
       "              print(f\"==> Final Agent Response: {final_response_text}\")\n",
       "            else:\n",
       "              print(\"==> Final Agent Response: [No text content in final event]\")\n",
       "\n",
       "  except Exception as e:\n",
       "    print(f\"ERROR during agent run: {e}\")\n",
       "  print(\"-\" * 30)\n",
       "\n",
       "\n",
       "# Main async function to run the examples\n",
       "async def main():\n",
       "  await call_agent_async(\"Calculate the value of (5 + 7) * 3\")\n",
       "  await call_agent_async(\"What is 10 factorial?\")\n",
       "\n",
       "\n",
       "if __name__ == '__main__':\n",
       "  # Execute the main async function\n",
       "  try:\n",
       "    asyncio.run(main())\n",
       "  except RuntimeError as e:\n",
       "    # Handle specific error when running asyncio.run in an already running loop (like Jupyter/Colab)\n",
       "    if \"cannot be called from a running event loop\" in str(e):\n",
       "      print(\"\\nRunning in an existing event loop (like Colab/Jupyter).\")\n",
       "      print(\"Please run `await main()` in a notebook cell instead.\")\n",
       "      # If in an interactive environment like a notebook, you might need to run:\n",
       "      # await main()\n",
       "    else:\n",
       "      raise e  # Re-raise other runtime errors\n",
       "```"
      ],
      "text/plain": [
       "<IPython.core.display.Markdown object>"
      ]
     },
     "metadata": {},
     "output_type": "display_data"
    }
   ],
   "source": [
    "show_source_code('builtin_tools_code_execution.py ')"
   ]
  },
  {
   "cell_type": "code",
   "execution_count": 3,
   "id": "9794dae6-1281-4a3e-bc4f-88072e935330",
   "metadata": {},
   "outputs": [
    {
     "name": "stderr",
     "output_type": "stream",
     "text": [
      "Both GOOGLE_API_KEY and GEMINI_API_KEY are set. Using GOOGLE_API_KEY.\n"
     ]
    },
    {
     "name": "stdout",
     "output_type": "stream",
     "text": [
      "\n",
      "--- Running Query: Calculate the value of (5 + 7) * 3 ---\n"
     ]
    },
    {
     "name": "stderr",
     "output_type": "stream",
     "text": [
      "Warning: there are non-text parts in the response: ['executable_code', 'code_execution_result'], returning concatenated text result from text parts. Check the full candidates.content.parts accessor to get the full model response.\n"
     ]
    },
    {
     "name": "stdout",
     "output_type": "stream",
     "text": [
      "Event ID: 0801c51f-a2f8-4ea5-959a-0c04d29c2c82, Author: calculator_agent\n",
      "  Debug: Agent generated code:\n",
      "```python\n",
      "print((5 + 7) * 3)\n",
      "\n",
      "```\n",
      "  Debug: Code Execution Result: Outcome.OUTCOME_OK - Output:\n",
      "36\n",
      "\n",
      "  Text: '36'\n",
      "------------------------------\n"
     ]
    }
   ],
   "source": [
    "import builtin_tools_code_execution\n",
    "\n",
    "await builtin_tools_code_execution.call_agent_async(\"Calculate the value of (5 + 7) * 3\")"
   ]
  },
  {
   "cell_type": "markdown",
   "id": "c598f2d2-42e4-42cc-a068-266e23e8e9bd",
   "metadata": {},
   "source": [
    "#### <b>Vertex AI Search</b>\n",
    "<font size='3ptx'><b>The `vertex_ai_search_tool` uses Google Cloud's Vertex AI Search, enabling the agent to search across your private, configured data stores (e.g., internal documents, company policies, knowledge bases).</b> This built-in tool requires you to provide the specific data store ID during configuration. For further details of the tool, see [Understanding Vertex AI Search grounding](https://google.github.io/adk-docs/grounding/vertex_ai_search_grounding/).</font>"
   ]
  },
  {
   "cell_type": "markdown",
   "id": "4f46012e-142d-4718-8872-dc82dfed3d69",
   "metadata": {},
   "source": [
    "```python\n",
    "import asyncio\n",
    "\n",
    "from google.adk.agents import LlmAgent\n",
    "from google.adk.runners import Runner\n",
    "from google.adk.sessions import InMemorySessionService\n",
    "from google.genai import types\n",
    "from google.adk.tools import VertexAiSearchTool\n",
    "\n",
    "# Replace with your actual Vertex AI Search Datastore ID\n",
    "# Format: projects/<PROJECT_ID>/locations/<LOCATION>/collections/default_collection/dataStores/<DATASTORE_ID>\n",
    "# e.g., \"projects/12345/locations/us-central1/collections/default_collection/dataStores/my-datastore-123\"\n",
    "YOUR_DATASTORE_ID = \"YOUR_DATASTORE_ID_HERE\"\n",
    "\n",
    "# Constants\n",
    "APP_NAME_VSEARCH = \"vertex_search_app\"\n",
    "USER_ID_VSEARCH = \"user_vsearch_1\"\n",
    "SESSION_ID_VSEARCH = \"session_vsearch_1\"\n",
    "AGENT_NAME_VSEARCH = \"doc_qa_agent\"\n",
    "GEMINI_2_FLASH = \"gemini-2.0-flash\"\n",
    "\n",
    "# Tool Instantiation\n",
    "# You MUST provide your datastore ID here.\n",
    "vertex_search_tool = VertexAiSearchTool(data_store_id=YOUR_DATASTORE_ID)\n",
    "\n",
    "# Agent Definition\n",
    "doc_qa_agent = LlmAgent(\n",
    "    name=AGENT_NAME_VSEARCH,\n",
    "    model=GEMINI_2_FLASH, # Requires Gemini model\n",
    "    tools=[vertex_search_tool],\n",
    "    instruction=f\"\"\"You are a helpful assistant that answers questions based on information found in the document store: {YOUR_DATASTORE_ID}.\n",
    "    Use the search tool to find relevant information before answering.\n",
    "    If the answer isn't in the documents, say that you couldn't find the information.\n",
    "    \"\"\",\n",
    "    description=\"Answers questions using a specific Vertex AI Search datastore.\",\n",
    ")\n",
    "\n",
    "# Session and Runner Setup\n",
    "session_service_vsearch = InMemorySessionService()\n",
    "runner_vsearch = Runner(\n",
    "    agent=doc_qa_agent, app_name=APP_NAME_VSEARCH, session_service=session_service_vsearch\n",
    ")\n",
    "session_vsearch = session_service_vsearch.create_session(\n",
    "    app_name=APP_NAME_VSEARCH, user_id=USER_ID_VSEARCH, session_id=SESSION_ID_VSEARCH\n",
    ")\n",
    "\n",
    "# Agent Interaction Function\n",
    "async def call_vsearch_agent_async(query):\n",
    "    print(\"\\n--- Running Vertex AI Search Agent ---\")\n",
    "    print(f\"Query: {query}\")\n",
    "    if \"YOUR_DATASTORE_ID_HERE\" in YOUR_DATASTORE_ID:\n",
    "        print(\"Skipping execution: Please replace YOUR_DATASTORE_ID_HERE with your actual datastore ID.\")\n",
    "        print(\"-\" * 30)\n",
    "        return\n",
    "\n",
    "    content = types.Content(role='user', parts=[types.Part(text=query)])\n",
    "    final_response_text = \"No response received.\"\n",
    "    try:\n",
    "        async for event in runner_vsearch.run_async(\n",
    "            user_id=USER_ID_VSEARCH, session_id=SESSION_ID_VSEARCH, new_message=content\n",
    "        ):\n",
    "            # Like Google Search, results are often embedded in the model's response.\n",
    "            if event.is_final_response() and event.content and event.content.parts:\n",
    "                final_response_text = event.content.parts[0].text.strip()\n",
    "                print(f\"Agent Response: {final_response_text}\")\n",
    "                # You can inspect event.grounding_metadata for source citations\n",
    "                if event.grounding_metadata:\n",
    "                    print(f\"  (Grounding metadata found with {len(event.grounding_metadata.grounding_attributions)} attributions)\")\n",
    "\n",
    "    except Exception as e:\n",
    "        print(f\"An error occurred: {e}\")\n",
    "        print(\"Ensure your datastore ID is correct and the service account has permissions.\")\n",
    "    print(\"-\" * 30)\n",
    "\n",
    "# --- Run Example ---\n",
    "async def run_vsearch_example():\n",
    "    # Replace with a question relevant to YOUR datastore content\n",
    "    await call_vsearch_agent_async(\"Summarize the main points about the Q2 strategy document.\")\n",
    "    await call_vsearch_agent_async(\"What safety procedures are mentioned for lab X?\")\n",
    "\n",
    "# Execute the example\n",
    "# await run_vsearch_example()\n",
    "\n",
    "# Running locally due to potential colab asyncio issues with multiple awaits\n",
    "try:\n",
    "    asyncio.run(run_vsearch_example())\n",
    "except RuntimeError as e:\n",
    "    if \"cannot be called from a running event loop\" in str(e):\n",
    "        print(\"Skipping execution in running event loop (like Colab/Jupyter). Run locally.\")\n",
    "    else:\n",
    "        raise e\n",
    "```"
   ]
  },
  {
   "cell_type": "markdown",
   "id": "b9d9238b-0726-48eb-b706-008b314c4fce",
   "metadata": {},
   "source": [
    "#### <b>BigQuery</b>\n",
    "These are a set of tools aimed to provide integration with BigQuery...([more](https://google.github.io/adk-docs/tools/built-in-tools/#bigquery))"
   ]
  },
  {
   "cell_type": "markdown",
   "id": "88b16a9a-2cb5-4145-afc7-5756e6cc0abf",
   "metadata": {
    "jp-MarkdownHeadingCollapsed": true
   },
   "source": [
    "### <b><font color='darkgreen'>Use Built-in tools with other tools</font></b>\n",
    "([source](https://google.github.io/adk-docs/tools/built-in-tools/#use-built-in-tools-with-other-tools)) <b><font size='3ptx'>The following code sample demonstrates how to use multiple built-in tools or how to use built-in tools with other tools by using multiple agents:</font></b>"
   ]
  },
  {
   "cell_type": "markdown",
   "id": "06e55a9e-a02a-4fa2-94ec-51b1a38a106c",
   "metadata": {},
   "source": [
    "```python\n",
    "from google.adk.tools import agent_tool\n",
    "from google.adk.agents import Agent\n",
    "from google.adk.tools import google_search\n",
    "from google.adk.code_executors import BuiltInCodeExecutor\n",
    "\n",
    "\n",
    "search_agent = Agent(\n",
    "    model='gemini-2.0-flash',\n",
    "    name='SearchAgent',\n",
    "    instruction=\"\"\"\n",
    "    You're a specialist in Google Search\n",
    "    \"\"\",\n",
    "    tools=[google_search],\n",
    ")\n",
    "coding_agent = Agent(\n",
    "    model='gemini-2.0-flash',\n",
    "    name='CodeAgent',\n",
    "    instruction=\"\"\"\n",
    "    You're a specialist in Code Execution\n",
    "    \"\"\",\n",
    "    tools=[BuiltInCodeExecutor],\n",
    ")\n",
    "root_agent = Agent(\n",
    "    name=\"RootAgent\",\n",
    "    model=\"gemini-2.0-flash\",\n",
    "    description=\"Root Agent\",\n",
    "    tools=[agent_tool.AgentTool(agent=search_agent), agent_tool.AgentTool(agent=coding_agent)],\n",
    ")\n",
    "```"
   ]
  },
  {
   "cell_type": "markdown",
   "id": "449240b6-805e-48f6-ad0c-1bc7cc6a6952",
   "metadata": {},
   "source": [
    "### <b><font color='darkgreen'>Limitations</font></b>"
   ]
  },
  {
   "cell_type": "markdown",
   "id": "fdef1d4c-91ec-4895-a3f6-f560fdbe1d18",
   "metadata": {
    "jp-MarkdownHeadingCollapsed": true
   },
   "source": [
    "#### <font color='orange'><b>Warning1</b></font>\n",
    "> Currently, for each root agent or single agent, only one built-in tool is supported. No other tools of any type can be used in the same agent.\n",
    "\n",
    "For example, the following approach that uses a built-in tool along with other tools within a single agent is not currently supported:\n",
    "```python\n",
    "root_agent = Agent(\n",
    "    name=\"RootAgent\",\n",
    "    model=\"gemini-2.0-flash\",\n",
    "    description=\"Root Agent\",\n",
    "    tools=[custom_function, BuiltInCodeExecutor], # <-- BuiltInCodeExecutor not supported when used with tools\n",
    ")\n",
    "```"
   ]
  },
  {
   "cell_type": "markdown",
   "id": "c82e67e4-b9ce-4692-b87e-9787385c4208",
   "metadata": {},
   "source": [
    "#### <b><font color='orange'>Warning2</font></b>\n",
    "> Built-in tools cannot be used within a sub-agent.\n",
    "\n",
    "For example, the following approach that uses built-in tools within sub-agents is not currently supported:\n",
    "```python\n",
    "search_agent = Agent(\n",
    "    model='gemini-2.0-flash',\n",
    "    name='SearchAgent',\n",
    "    instruction=\"\"\"\n",
    "    You're a specialist in Google Search\n",
    "    \"\"\",\n",
    "    tools=[google_search],\n",
    ")\n",
    "coding_agent = Agent(\n",
    "    model='gemini-2.0-flash',\n",
    "    name='CodeAgent',\n",
    "    instruction=\"\"\"\n",
    "    You're a specialist in Code Execution\n",
    "    \"\"\",\n",
    "    tools=[BuiltInCodeExecutor],\n",
    ")\n",
    "root_agent = Agent(\n",
    "    name=\"RootAgent\",\n",
    "    model=\"gemini-2.0-flash\",\n",
    "    description=\"Root Agent\",\n",
    "    sub_agents=[\n",
    "        search_agent,\n",
    "        coding_agent\n",
    "    ],\n",
    ")\n",
    "```"
   ]
  },
  {
   "cell_type": "markdown",
   "id": "500e7977-4900-4cc5-9729-bcea9b7cae89",
   "metadata": {},
   "source": [
    "## <b><font color='darkblue'>Third Party Tools</font></b>\n",
    "([source](https://google.github.io/adk-docs/tools/third-party-tools/#third-party-tools)) <font size='3ptx'><b>ADK is designed to be highly extensible, allowing you to seamlessly integrate tools from other AI Agent frameworks like [CrewAI](https://www.crewai.com/) and [LangChain](https://python.langchain.com/docs/introduction/).</b> This interoperability is crucial because it allows for faster development time and allows you to reuse existing tools.</font>"
   ]
  },
  {
   "cell_type": "markdown",
   "id": "67122dc2-01ec-4576-8657-b66d18291fd7",
   "metadata": {},
   "source": [
    "### <b><font color='darkgreen'>1. Using LangChain Tools</font></b>\n",
    "<b><font size='3ptx'>ADK provides the <font color='blue'>LangchainTool</font> wrapper to integrate tools from the [LangChain](https://python.langchain.com/docs/introduction/) ecosystem into your agents.</font></b>"
   ]
  },
  {
   "cell_type": "markdown",
   "id": "577ace30-221e-4d88-903b-bd6fa9d99e56",
   "metadata": {},
   "source": [
    "#### <b>Example: Web Search using LangChain's Tavily tool</b>\n",
    "[**Tavily**](https://tavily.com/) provides a search API that returns answers derived from real-time search results, intended for use by applications like AI agents."
   ]
  },
  {
   "cell_type": "markdown",
   "id": "768dc822-860d-4f5c-b297-4b543c795628",
   "metadata": {},
   "source": [
    "1. <b><font size='3ptx'>Install Dependencies</font></b>: Ensure you have the necessary [**LangChain**](https://python.langchain.com/docs/introduction/) packages installed. For example, to use the Tavily search tool, install its specific dependencies:"
   ]
  },
  {
   "cell_type": "code",
   "execution_count": 4,
   "id": "5e405965-edd0-4a5c-b9cd-b271e39687cd",
   "metadata": {},
   "outputs": [
    {
     "name": "stdout",
     "output_type": "stream",
     "text": [
      "langchain==0.3.27\n",
      "langchain-community==0.3.27\n",
      "langchain-core==0.3.72\n",
      "langchain-google-genai==2.1.6\n",
      "langchain-mcp-adapters==0.0.7\n",
      "langchain-openai==0.3.12\n",
      "langchain-text-splitters==0.3.9\n",
      "tavily-python==0.7.10\n"
     ]
    }
   ],
   "source": [
    "#!pip install langchain_community tavily-python\n",
    "!pip freeze | grep -P \"(langchain|tavily)\""
   ]
  },
  {
   "cell_type": "markdown",
   "id": "0af555c9-6c14-4abe-a04c-e077ee27ee51",
   "metadata": {},
   "source": [
    "2. Obtain a [**Tavily**](https://tavily.com/) API KEY and export it as an environment variable.\n",
    "\n",
    "```shell\n",
    "export TAVILY_API_KEY=<REPLACE_WITH_API_KEY>\n",
    "```"
   ]
  },
  {
   "cell_type": "markdown",
   "id": "998906c5-fa8b-4aba-8ef2-a00d9b68adf4",
   "metadata": {},
   "source": [
    "3. <b><font size='3ptx'>Import</font></b>: Import the `LangchainTool` wrapper from ADK and the specific `LangChain` tool you wish to use (<font color='brown'>e.g, `TavilySearchResults`</font>).\n",
    "```python\n",
    "from google.adk.tools.langchain_tool import LangchainTool\n",
    "from langchain_community.tools import TavilySearchResults\n",
    "```\n",
    "\n",
    "4. <b><font size='3ptx'>Instantiate & Wrap</font></b>: Create an instance of your [**LangChain**](https://python.langchain.com/docs/introduction/) tool and pass it to the `LangchainTool` constructor.\n",
    "```python\n",
    "# Instantiate the LangChain tool\n",
    "tavily_tool_instance = TavilySearchResults(\n",
    "    max_results=5,\n",
    "    search_depth=\"advanced\",\n",
    "    include_answer=True,\n",
    "    include_raw_content=True,\n",
    "    include_images=True,\n",
    ")\n",
    "\n",
    "# Wrap it with LangchainTool for ADK\n",
    "adk_tavily_tool = LangchainTool(tool=tavily_tool_instance)\n",
    "```\n",
    "\n",
    "5. <b><font size='3ptx'>Add to Agent</font></b>: Include the wrapped LangchainTool instance in your agent's `tools` list during definition.\n",
    "```python\n",
    "from google.adk import Agent\n",
    "\n",
    "# Define the ADK agent, including the wrapped tool\n",
    "my_agent = Agent(\n",
    "    name=\"langchain_tool_agent\",\n",
    "    model=\"gemini-2.0-flash\",\n",
    "    description=\"Agent to answer questions using TavilySearch.\",\n",
    "    instruction=\"I can answer your questions by searching the internet. Just ask me anything!\",\n",
    "    tools=[adk_tavily_tool] # Add the wrapped tool here\n",
    ")\n",
    "```"
   ]
  },
  {
   "cell_type": "markdown",
   "id": "48d24a99-081b-492a-a533-d57b6e6de7d5",
   "metadata": {},
   "source": [
    "Here's the full code combining the steps above to create and run an agent using the LangChain Tavily search tool:"
   ]
  },
  {
   "cell_type": "code",
   "execution_count": 5,
   "id": "64a666b9-b645-4963-b3da-0038f56fb147",
   "metadata": {},
   "outputs": [
    {
     "data": {
      "text/markdown": [
       "\n",
       "```python\n",
       "#!/usr/bin/env python\n",
       "import asyncio\n",
       "import os\n",
       "\n",
       "from google.adk import Agent, Runner\n",
       "from google.adk.sessions import InMemorySessionService\n",
       "from google.adk.tools.langchain_tool import LangchainTool\n",
       "from google.genai import types\n",
       "from langchain_tavily import TavilySearch\n",
       "\n",
       "\n",
       "TAVILY_API_KEY = None\n",
       "# Ensure TAVILY_API_KEY is set in your environment\n",
       "if not (TAVILY_API_KEY := os.getenv(\"TAVILY_API_KEY\")):\n",
       "  raise Exception(\"Error: TAVILY_API_KEY environment variable not set.\")\n",
       "\n",
       "print(f'TRAVILY_API_KEY: {\"*\" * len(TAVILY_API_KEY)}')\n",
       "\n",
       "\n",
       "APP_NAME = \"news_app\"\n",
       "USER_ID = \"1234\"\n",
       "SESSION_ID = \"session1234\"\n",
       "\n",
       "\n",
       "# Instantiate LangChain tool\n",
       "tavily_search = TavilySearch(\n",
       "    max_results=5,\n",
       "    search_depth=\"advanced\",\n",
       "    include_answer=True,\n",
       "    include_raw_content=True,\n",
       "    include_images=True)\n",
       "\n",
       "\n",
       "# Wrap with LangchainTool\n",
       "adk_tavily_tool = LangchainTool(tool=tavily_search)\n",
       "\n",
       "\n",
       "# Define Agent with the wrapped tool\n",
       "my_agent = Agent(\n",
       "    name=\"langchain_tool_agent\",\n",
       "    model=\"gemini-2.0-flash\",\n",
       "    description=\"Agent to answer questions using TavilySearch.\",\n",
       "    instruction=(\n",
       "        \"I can answer your questions by searching the internet. \"\n",
       "        \"Just ask me anything!\"),\n",
       "    tools=[adk_tavily_tool] # Add the wrapped tool here\n",
       ")\n",
       "\n",
       "\n",
       "async def setup_session_and_runner():\n",
       "  session_service = InMemorySessionService()\n",
       "  session = await session_service.create_session(\n",
       "      app_name=APP_NAME,\n",
       "      user_id=USER_ID,\n",
       "      session_id=SESSION_ID)\n",
       "  runner = Runner(\n",
       "      agent=my_agent,\n",
       "      app_name=APP_NAME,\n",
       "      session_service=session_service)\n",
       "\n",
       "  return session, runner\n",
       "\n",
       "\n",
       "# Agent Interaction\n",
       "async def call_agent_async(query):\n",
       "  content = types.Content(role='user', parts=[types.Part(text=query)])\n",
       "  session, runner = await setup_session_and_runner()\n",
       "  events = runner.run_async(\n",
       "      user_id=USER_ID, session_id=SESSION_ID, new_message=content)\n",
       "\n",
       "  async for event in events:\n",
       "    if event.is_final_response():\n",
       "      final_response = event.content.parts[0].text\n",
       "      print(\"Agent Response: \", final_response)\n",
       "\n",
       "\n",
       "if __name__ == '__main__':\n",
       "  asyncio.run(call_agent_async('Stock price of GOOG'))\n",
       "```"
      ],
      "text/plain": [
       "<IPython.core.display.Markdown object>"
      ]
     },
     "metadata": {},
     "output_type": "display_data"
    }
   ],
   "source": [
    "show_source_code('thirdparty_tools_langchain_travily_search.py')"
   ]
  },
  {
   "cell_type": "code",
   "execution_count": 1,
   "id": "71913e20-ebb7-41a4-ad05-976911c26f8f",
   "metadata": {},
   "outputs": [
    {
     "name": "stderr",
     "output_type": "stream",
     "text": [
      "/usr/local/google/home/johnkclee/Github/ml_articles/env/lib/python3.12/site-packages/pydantic/_internal/_fields.py:198: UserWarning: Field name \"config_type\" in \"SequentialAgent\" shadows an attribute in parent \"BaseAgent\"\n",
      "  warnings.warn(\n",
      "Both GOOGLE_API_KEY and GEMINI_API_KEY are set. Using GOOGLE_API_KEY.\n"
     ]
    },
    {
     "name": "stdout",
     "output_type": "stream",
     "text": [
      "TRAVILY_API_KEY: *************************************\n"
     ]
    },
    {
     "name": "stderr",
     "output_type": "stream",
     "text": [
      "Warning: there are non-text parts in the response: ['function_call'], returning concatenated text result from text parts. Check the full candidates.content.parts accessor to get the full model response.\n",
      "Both GOOGLE_API_KEY and GEMINI_API_KEY are set. Using GOOGLE_API_KEY.\n"
     ]
    },
    {
     "name": "stdout",
     "output_type": "stream",
     "text": [
      "Agent Response:  The stock price for Alphabet Inc. (GOOG) is 201.63 USD as of the latest closing time on August 11, 2025.\n"
     ]
    }
   ],
   "source": [
    "import thirdparty_tools_langchain_travily_search\n",
    "\n",
    "await thirdparty_tools_langchain_travily_search.call_agent_async('Stock price of GOOG')"
   ]
  },
  {
   "cell_type": "markdown",
   "id": "e9f79843-dcc9-4bb1-b937-2ae6d60282c9",
   "metadata": {},
   "source": [
    "### <b><font color='darkgreen'>2. Using CrewAI tools</font></b>\n",
    "ADK provides the CrewaiTool wrapper to integrate tools from the CrewAI library. ([more](https://google.github.io/adk-docs/tools/third-party-tools/#2-using-crewai-tools))"
   ]
  }
 ],
 "metadata": {
  "kernelspec": {
   "display_name": "Python 3 (ipykernel)",
   "language": "python",
   "name": "python3"
  },
  "language_info": {
   "codemirror_mode": {
    "name": "ipython",
    "version": 3
   },
   "file_extension": ".py",
   "mimetype": "text/x-python",
   "name": "python",
   "nbconvert_exporter": "python",
   "pygments_lexer": "ipython3",
   "version": "3.12.9"
  }
 },
 "nbformat": 4,
 "nbformat_minor": 5
}
