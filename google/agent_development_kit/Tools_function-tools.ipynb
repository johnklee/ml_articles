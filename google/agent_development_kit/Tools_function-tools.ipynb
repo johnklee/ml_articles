{
 "cells": [
  {
   "cell_type": "markdown",
   "id": "06578e28-108a-498b-b737-34f0f8a2c481",
   "metadata": {},
   "source": [
    "## <b><font color='darkblue'>What are function tools?</font></b>\n",
    "([source](https://google.github.io/adk-docs/tools/function-tools/), [Parent page](https://github.com/johnklee/ml_articles/blob/master/google/agent_development_kit/Tools.ipynb)) <font size='3ptx'><b>When out-of-the-box tools don't fully meet specific requirements, developers can create custom function tools.</b> This allows for <b>tailored functionality</b>, such as connecting to proprietary databases or implementing unique algorithms.</font>\n",
    "\n",
    "For example, a function tool, \"`myfinancetool`\", might be a function that calculates a specific financial metric. <b>ADK also supports long running functions, so if that calculation takes a while, the agent can continue working on other tasks</b>."
   ]
  },
  {
   "cell_type": "markdown",
   "id": "0b979e38-34dc-406a-af5e-8f6560556ecd",
   "metadata": {},
   "source": [
    "ADK offers several ways to create functions tools, each suited to different levels of complexity and control::\n",
    "1. <b><font size='3ptx'>[Function Tool](#1.-Function-Tool)</font></b>\n",
    "2. <b><font size='3ptx'>[Long Running Function Tool](#2.-Long-Running-Function-Tool)</font></b>\n",
    "3. Agents-as-a-Tool"
   ]
  },
  {
   "cell_type": "code",
   "execution_count": 1,
   "id": "27ad8380-f7e2-46c3-8f30-5ad7b3feaa24",
   "metadata": {},
   "outputs": [],
   "source": [
    "from IPython.display import display, Markdown, Latex\n",
    "import warnings\n",
    "\n",
    "\n",
    "warnings.filterwarnings('ignore')\n",
    "\n",
    "def show_source_code(src_path: str):\n",
    "    source_code = !cat $src_path\n",
    "    display(Markdown(f\"\"\"\n",
    "```python\n",
    "{'\\n'.join(source_code)}\n",
    "```\"\"\"))"
   ]
  },
  {
   "cell_type": "markdown",
   "id": "e1aaa37b-4f04-4872-bce2-ccfa6bbcebde",
   "metadata": {
    "jp-MarkdownHeadingCollapsed": true
   },
   "source": [
    "## <b><font color='darkblue'>1. Function Tool</font></b>\n",
    "<font size='3ptx'><b>Transforming a Python function into a tool is a straightforward way to integrate custom logic into your agents.</b> When you assign a function to an agent’s tools list, the framework automatically wraps it as a <b><font color='blue'>FunctionTool</font></b>.</font> "
   ]
  },
  {
   "cell_type": "markdown",
   "id": "4488201b-9490-412f-9352-1d7308e8aa01",
   "metadata": {},
   "source": [
    "### <b><font color='darkgreen'>How it Works</font></b>\n",
    "([source](https://google.github.io/adk-docs/tools/function-tools/#how-it-works)) <font size='3ptx'><b>The ADK framework automatically inspects your Python function's signature—including its name, docstring, parameters, type hints, and default values—to generate a schema.</b> This schema is what the LLM uses to understand the tool's purpose, when to use it, and what arguments it requires.</font>"
   ]
  },
  {
   "cell_type": "markdown",
   "id": "2bd98f1c-8a81-4d1c-b6e0-aa2ca6959e2d",
   "metadata": {
    "jp-MarkdownHeadingCollapsed": true
   },
   "source": [
    "### <b><font color='darkgreen'>Defining Function Signatures</font></b>\n",
    "([source](https://google.github.io/adk-docs/tools/function-tools/#defining-function-signatures)) <b><font size='3ptx'>A well-defined function signature is crucial for the LLM to use your tool correctly.</font></b>"
   ]
  },
  {
   "cell_type": "markdown",
   "id": "a4820c4e-4fc0-4750-ae42-3dd5c62638fe",
   "metadata": {
    "jp-MarkdownHeadingCollapsed": true
   },
   "source": [
    "#### <b>Parameters</b>\n",
    "You can define functions with required parameters, optional parameters, and variadic arguments. Here’s how each is handled:"
   ]
  },
  {
   "cell_type": "markdown",
   "id": "9bff1348-0f86-4dd3-8363-9b610fa4df9d",
   "metadata": {},
   "source": [
    "<b>Required Parameters</b><br/>\n",
    "A parameter is considered **required** if it has a type hint but **no default value**. The LLM must provide a value for this argument when it calls the tool. e.g.:\n",
    "```python\n",
    "def get_weather(city: str, unit: str):\n",
    "    \"\"\"\n",
    "    Retrieves the weather for a city in the specified unit.\n",
    "\n",
    "    Args:\n",
    "        city (str): The city name.\n",
    "        unit (str): The temperature unit, either 'Celsius' or 'Fahrenheit'.\n",
    "    \"\"\"\n",
    "    # ... function logic ...\n",
    "    return {\"status\": \"success\", \"report\": f\"Weather for {city} is sunny.\"}\n",
    "```\n",
    "\n",
    "In this example, both `city` and `unit` are mandatory. If the LLM tries to call `get_weather` without one of them, the ADK will return an error to the LLM, prompting it to correct the call."
   ]
  },
  {
   "cell_type": "markdown",
   "id": "c0920776-47d4-4012-a1af-9cc2a858f78b",
   "metadata": {},
   "source": [
    "<b>Optional Parameters with Default Values</b><br/>\n",
    "A parameter is considered **optional** if you **provide a default value**. This is the standard Python way to define optional arguments. The ADK correctly interprets these and does not list them in the `required` field of the tool schema sent to the LLM. e.g.:\n",
    "```python\n",
    "def search_flights(destination: str, departure_date: str, flexible_days: int = 0):\n",
    "    \"\"\"\n",
    "    Searches for flights.\n",
    "\n",
    "    Args:\n",
    "        destination (str): The destination city.\n",
    "        departure_date (str): The desired departure date.\n",
    "        flexible_days (int, optional): Number of flexible days for the search. Defaults to 0.\n",
    "    \"\"\"\n",
    "    # ... function logic ...\n",
    "    if flexible_days > 0:\n",
    "        return {\"status\": \"success\", \"report\": f\"Found flexible flights to {destination}.\"}\n",
    "    return {\"status\": \"success\", \"report\": f\"Found flights to {destination} on {departure_date}.\"}\n",
    "```\n",
    "\n",
    "Here, `flexible_days` is optional. The LLM can choose to provide it, but it's not required."
   ]
  },
  {
   "cell_type": "markdown",
   "id": "882d0035-acdf-4c75-9e27-b6594dbd0161",
   "metadata": {},
   "source": [
    "<b>Optional Parameters with `typing.Optional`</b><br/>\n",
    "You can also mark a parameter as optional using `typing.Optional[SomeType]` or the `| None` syntax (<font color='brown'>Python 3.10+</font>). This signals that the parameter can be `None`. When combined with a default value of `None`, it behaves as a standard optional parameter. e.g.:\n",
    "```python\n",
    "rom typing import Optional\n",
    "\n",
    "def create_user_profile(username: str, bio: Optional[str] = None):\n",
    "    \"\"\"\n",
    "    Creates a new user profile.\n",
    "\n",
    "    Args:\n",
    "        username (str): The user's unique username.\n",
    "        bio (str, optional): A short biography for the user. Defaults to None.\n",
    "    \"\"\"\n",
    "    # ... function logic ...\n",
    "    if bio:\n",
    "        return {\"status\": \"success\", \"message\": f\"Profile for {username} created with a bio.\"}\n",
    "    return {\"status\": \"success\", \"message\": f\"Profile for {username} created.\"}\n",
    "```"
   ]
  },
  {
   "cell_type": "markdown",
   "id": "d7ca6d70-3462-46b1-bf81-542f6273dd65",
   "metadata": {},
   "source": [
    "<b>Variadic Parameters (*args and **kwargs)</b><br/>\n",
    "While you can include `*args` (<font color='brown'>variable positional arguments</font>) and `**kwargs` (<font color='brown'>variable keyword arguments</font>) in your function signature for other purposes, <b>they are ignored by the ADK framework when generating the tool schema for the LLM. The LLM will not be aware of them and cannot pass arguments to them</b>. It's best to rely on explicitly defined parameters for all data you expect from the LLM."
   ]
  },
  {
   "cell_type": "markdown",
   "id": "5011119b-defd-4cf6-a95a-47fe351035cf",
   "metadata": {
    "jp-MarkdownHeadingCollapsed": true
   },
   "source": [
    "#### <b>Return Type</b>\n",
    "<font size='3ptx'><b>The preferred return type for a Function Tool is a dictionary (or `dict`).</b> This allows you to structure the response with key-value pairs, providing context and clarity to the LLM. If your function returns a type other than a dictionary, the framework automatically wraps it into a dictionary with a single key named \"`result`\".</font>"
   ]
  },
  {
   "cell_type": "markdown",
   "id": "02012e1e-b990-45d9-83fc-ee43dc7e4439",
   "metadata": {},
   "source": [
    "<b><font size='3ptx'>Strive to make your return values as descriptive as possible</font></b>. For example, instead of returning a numeric error code, return a dictionary with an \"error_message\" key containing a human-readable explanation. Remember that <b>the LLM, not a piece of code, needs to understand the result. As a best practice, include a \"status\" key in your return dictionary to indicate the overall outcome</b> (<font color='brown'>e.g., \"success\", \"error\", \"pending\"</font>), providing the LLM with a clear signal about the operation's state."
   ]
  },
  {
   "cell_type": "markdown",
   "id": "f1ff36fc-1e55-410d-963d-a4e862a8a7b1",
   "metadata": {},
   "source": [
    "#### <b>Docstrings</b>\n",
    "<font size='3ptx'><b>The docstring of your function serves as the tool's description and is sent to the LLM.</b> Therefore, a well-written and comprehensive docstring is crucial for the LLM to understand how to use the tool effectively. Clearly explain the purpose of the function, the meaning of its parameters, and the expected return values.</font>"
   ]
  },
  {
   "cell_type": "markdown",
   "id": "352e6140-7e83-4de7-ac68-2db1a3ff0b64",
   "metadata": {
    "jp-MarkdownHeadingCollapsed": true
   },
   "source": [
    "### <b><font color='darkgreen'>Example</font></b>\n",
    "Below example will require installation of package [**`yfinance`**](https://github.com/ranaroussi/yfinance):"
   ]
  },
  {
   "cell_type": "code",
   "execution_count": 2,
   "id": "bcb4a946-6b3f-482c-a48b-4059e13d5e0d",
   "metadata": {},
   "outputs": [
    {
     "name": "stdout",
     "output_type": "stream",
     "text": [
      "Name: yfinance\n",
      "Version: 0.2.65\n",
      "Summary: Download market data from Yahoo! Finance API\n",
      "Home-page: https://github.com/ranaroussi/yfinance\n",
      "Author: Ran Aroussi\n",
      "Author-email: ran@aroussi.com\n",
      "License: Apache\n",
      "Location: /usr/local/google/home/johnkclee/Github/ml_articles/env/lib/python3.12/site-packages\n",
      "Requires: beautifulsoup4, curl_cffi, frozendict, multitasking, numpy, pandas, peewee, platformdirs, protobuf, pytz, requests, websockets\n",
      "Required-by: \n"
     ]
    }
   ],
   "source": [
    "!pip show yfinance"
   ]
  },
  {
   "cell_type": "code",
   "execution_count": 3,
   "id": "edb7fbe8-a5aa-48a5-85b8-219a18a07dfd",
   "metadata": {},
   "outputs": [
    {
     "data": {
      "text/markdown": [
       "\n",
       "```python\n",
       "#!/bin/env python\n",
       "import asyncio\n",
       "\n",
       "from google.adk.agents import Agent\n",
       "from google.adk.runners import Runner\n",
       "from google.adk.sessions import InMemorySessionService\n",
       "from google.genai import types\n",
       "\n",
       "import yfinance as yf\n",
       "\n",
       "\n",
       "APP_NAME = \"stock_app\"\n",
       "USER_ID = \"1234\"\n",
       "SESSION_ID = \"session1234\"\n",
       "\n",
       "\n",
       "def get_stock_price(symbol: str):\n",
       "  \"\"\"\n",
       "  Retrieves the current stock price for a given symbol.\n",
       "\n",
       "  Args:\n",
       "    symbol (str): The stock symbol (e.g., \"AAPL\", \"GOOG\").\n",
       "\n",
       "  Returns:\n",
       "    float: The current stock price, or None if an error occurs.\n",
       "  \"\"\"\n",
       "  try:\n",
       "    stock = yf.Ticker(symbol)\n",
       "    historical_data = stock.history(period=\"1d\")\n",
       "    if not historical_data.empty:\n",
       "      current_price = historical_data['Close'].iloc[-1]\n",
       "      return current_price\n",
       "    return None\n",
       "  except Exception as e:\n",
       "    print(f\"Error retrieving stock price for {symbol}: {e}\")\n",
       "    return None\n",
       "\n",
       "\n",
       "stock_price_agent = Agent(\n",
       "    model='gemini-2.0-flash',\n",
       "    name='stock_agent',\n",
       "    instruction=(\n",
       "        'You are an agent who retrieves stock prices. If a ticker symbol is '\n",
       "        'provided, fetch the current price. If only a company name is given, '\n",
       "        'first perform a Google search to find the correct ticker symbol before'\n",
       "        ' retrieving the stock price. If the provided ticker symbol is invalid '\n",
       "        'or data cannot be retrieved, inform the user that the stock price '\n",
       "        'could not be found.'),\n",
       "    description=(\n",
       "        'This agent specializes in retrieving real-time stock prices. Given a '\n",
       "        'stock ticker symbol (e.g., AAPL, GOOG, MSFT) or the stock name, use '\n",
       "        'the tools and reliable data sources to provide the most up-to-date '\n",
       "        'price.'),\n",
       "    # You can add Python functions directly to the tools list;\n",
       "    # they will be automatically wrapped as FunctionTools.\n",
       "    tools=[get_stock_price],\n",
       ")\n",
       "\n",
       "\n",
       "# Session and Runner\n",
       "async def setup_session_and_runner():\n",
       "  session_service = InMemorySessionService()\n",
       "  session = await session_service.create_session(\n",
       "      app_name=APP_NAME, user_id=USER_ID, session_id=SESSION_ID)\n",
       "  runner = Runner(\n",
       "      agent=stock_price_agent,\n",
       "      app_name=APP_NAME,\n",
       "      session_service=session_service)\n",
       "  return session, runner\n",
       "\n",
       "\n",
       "# Agent Interaction\n",
       "async def call_agent_async(query):\n",
       "  content = types.Content(role='user', parts=[types.Part(text=query)])\n",
       "  session, runner = await setup_session_and_runner()\n",
       "  events = runner.run_async(\n",
       "      user_id=USER_ID, session_id=SESSION_ID, new_message=content)\n",
       "\n",
       "  async for event in events:\n",
       "    if event.is_final_response():\n",
       "      final_response = event.content.parts[0].text\n",
       "      print(\"Agent Response: \", final_response)\n",
       "\n",
       "\n",
       "if __name__ == '__main__':\n",
       "  asyncio.run(call_agent_async('stock price of GOOG'))\n",
       "```"
      ],
      "text/plain": [
       "<IPython.core.display.Markdown object>"
      ]
     },
     "metadata": {},
     "output_type": "display_data"
    }
   ],
   "source": [
    "show_source_code('function_tools_example1.py')"
   ]
  },
  {
   "cell_type": "code",
   "execution_count": 4,
   "id": "27404b50-b88d-46e7-b404-fc75755504b2",
   "metadata": {},
   "outputs": [
    {
     "name": "stderr",
     "output_type": "stream",
     "text": [
      "Both GOOGLE_API_KEY and GEMINI_API_KEY are set. Using GOOGLE_API_KEY.\n",
      "Warning: there are non-text parts in the response: ['function_call'], returning concatenated text result from text parts. Check the full candidates.content.parts accessor to get the full model response.\n",
      "Both GOOGLE_API_KEY and GEMINI_API_KEY are set. Using GOOGLE_API_KEY.\n"
     ]
    },
    {
     "name": "stdout",
     "output_type": "stream",
     "text": [
      "Agent Response:  The current stock price for GOOG is 201.63.\n",
      "\n"
     ]
    }
   ],
   "source": [
    "import function_tools_example1\n",
    "\n",
    "await function_tools_example1.call_agent_async('stock price of GOOG')"
   ]
  },
  {
   "cell_type": "markdown",
   "id": "00967413-dd0e-46e9-b230-a3b71ecc10bf",
   "metadata": {
    "jp-MarkdownHeadingCollapsed": true
   },
   "source": [
    "### <b><font color='darkgreen'>Best Practices</font></b>\n",
    "([source](https://google.github.io/adk-docs/tools/function-tools/#best-practices)) <b><font size='3ptx'>While you have considerable flexibility in defining your function, remember that simplicity enhances usability for the LLM.</font></b>"
   ]
  },
  {
   "cell_type": "markdown",
   "id": "0ddfe417-c24c-4872-ac63-29f372f3c775",
   "metadata": {},
   "source": [
    "Consider these guidelines:\n",
    "* <b><font size='3ptx'>Fewer Parameters are Better</font></b>: Minimize the number of parameters to reduce complexity.\n",
    "* <b><font size='3ptx'>Simple Data Types</font></b>: Favor primitive data types like str and int over custom classes whenever possible.\n",
    "* <b><font size='3ptx'>Meaningful Names</font></b>: The function's name and parameter names significantly influence how the LLM interprets and utilizes the tool. Choose names that clearly reflect the function's purpose and the meaning of its inputs. Avoid generic names like `do_stuff()` or `beAgent()`."
   ]
  },
  {
   "cell_type": "markdown",
   "id": "5851cff8-42f8-491b-bc80-7bc27af28290",
   "metadata": {
    "jp-MarkdownHeadingCollapsed": true
   },
   "source": [
    "## <b><font color='darkblue'>2. Long Running Function Tool</font></b>\n",
    "([source](https://google.github.io/adk-docs/tools/function-tools/#2-long-running-function-tool)) <font size='3ptx'><b>Designed for tasks that require a significant amount of processing time without blocking the agent's execution.</b> This tool is a subclass of <font color='blue'><b>FunctionTool</b></font>.</font>"
   ]
  },
  {
   "cell_type": "markdown",
   "id": "08ba3420-da4d-4b62-9edf-a1ee6d3605bf",
   "metadata": {},
   "source": [
    "When using a <b><font color='blue'>LongRunningFunctionTool</font></b>, your function can initiate the long-running operation and optionally return an **initial result** (<font color='brown'>e.g. the long-running operation id</font>). Once a long running function tool is invoked the agent runner will pause the agent run and let the agent client to decide whether to continue or wait until the long-running operation finishes.\n",
    "\n",
    "<b>The agent client can query the progress of the long-running operation and send back an intermediate or final response</b>. The agent can then continue with other tasks. An example is the human-in-the-loop scenario where the agent needs human approval before proceeding with a task."
   ]
  },
  {
   "cell_type": "markdown",
   "id": "1ceb142c-8628-468d-983b-db687310a7a5",
   "metadata": {},
   "source": [
    "### <b><font color='darkgreen'>How it Works</font></b>\n",
    "([source](https://google.github.io/adk-docs/tools/function-tools/#how-it-works_1)) <b><font size='3ptx'>In Python, you wrap a function with <font color='blue'>LongRunningFunctionTool</font>:</font></b>"
   ]
  },
  {
   "cell_type": "markdown",
   "id": "bd21d2cb-f7df-4358-9c0f-96693888fdc8",
   "metadata": {},
   "source": [
    "1. <b><font size='3ptx'>Initiation</font></b>: When the LLM calls the tool, your function starts the long-running operation.\n",
    "2. <b><font size='3ptx'>Initial Updates</font></b>: Your function should optionally return an initial result (<font color='brown'>e.g. the long-running operaiton id</font>). The ADK framework takes the result and sends it back to the LLM packaged within a <b><font color='blue'>FunctionResponse</font></b>. This allows the LLM to inform the user (<font color='brown'>e.g., status, percentage complete, messages</font>). And then the agent run is ended / paused.\n",
    "3. <b><font size='3ptx'>Continue or Wait</font></b>: After each agent run is completed. Agent client can query the progress of the long-running operation and decide whether to continue the agent run with an intermediate response (<font color='brown'>to update the progress</font>) or wait until a final response is retrieved. Agent client should send the intermediate or final response back to the agent for the next run.\n",
    "4. <b><font size='3ptx'>Framework Handling</font></b>: The ADK framework manages the execution. It sends the intermediate or final <b><font color='blue'>FunctionResponse</font></b> sent by agent client to the LLM to generate a user friendly message."
   ]
  },
  {
   "cell_type": "markdown",
   "id": "4c138383-582b-463b-b745-c5da2837144d",
   "metadata": {},
   "source": [
    "### <b><font color='darkgreen'>Creating the Tool</font></b>\n",
    "([source](https://google.github.io/adk-docs/tools/function-tools/#creating-the-tool)) <b><font size='3ptx'>Define your tool function and wrap it using the <font color='blue'>LongRunningFunctionTool</font> class:</font></b>"
   ]
  },
  {
   "cell_type": "markdown",
   "id": "7442afd5-7908-4e9c-a7b0-abe72eadba1b",
   "metadata": {},
   "source": [
    "```python\n",
    "# 1. Define the long running function\n",
    "def ask_for_approval(\n",
    "    purpose: str, amount: float\n",
    ") -> dict[str, Any]:\n",
    "    \"\"\"Ask for approval for the reimbursement.\"\"\"\n",
    "    # create a ticket for the approval\n",
    "    # Send a notification to the approver with the link of the ticket\n",
    "    return {'status': 'pending', 'approver': 'Sean Zhou', 'purpose' : purpose, 'amount': amount, 'ticket-id': 'approval-ticket-1'}\n",
    "\n",
    "def reimburse(purpose: str, amount: float) -> str:\n",
    "    \"\"\"Reimburse the amount of money to the employee.\"\"\"\n",
    "    # send the reimbrusement request to payment vendor\n",
    "    return {'status': 'ok'}\n",
    "\n",
    "# 2. Wrap the function with LongRunningFunctionTool\n",
    "long_running_tool = LongRunningFunctionTool(func=ask_for_approval)\n",
    "```"
   ]
  },
  {
   "cell_type": "markdown",
   "id": "ee09c1cd-cdba-4f97-9693-3d3caaca4b68",
   "metadata": {},
   "source": [
    "### <b><font color='darkgreen'>Intermediate / Final result Updates</font></b>\n",
    "([source](https://google.github.io/adk-docs/tools/function-tools/#intermediate-final-result-updates)) <font size='3ptx'><b>Agent client received an event with long running function calls and check the status of the ticket.</b> Then Agent client can send the intermediate or final response back to update the progress. The framework packages this value (<font color='brown'>even if it's None</font>) into the content of the <font color='blue'><b>FunctionResponse</b></font> sent back to the LLM. </font>"
   ]
  },
  {
   "cell_type": "code",
   "execution_count": 5,
   "id": "c6671e64-0014-4481-be1a-de307bcbf2d6",
   "metadata": {},
   "outputs": [
    {
     "data": {
      "text/markdown": [
       "\n",
       "```python\n",
       "#!/usr/bin/env python\n",
       "import asyncio\n",
       "\n",
       "from typing import Any\n",
       "from google.adk.agents import Agent\n",
       "from google.adk.events import Event\n",
       "from google.adk.runners import Runner\n",
       "from google.adk.tools import LongRunningFunctionTool\n",
       "from google.adk.sessions import InMemorySessionService\n",
       "from google.genai import types\n",
       "\n",
       "\n",
       "APP_NAME = \"human_in_the_loop\"\n",
       "USER_ID = \"1234\"\n",
       "SESSION_ID = \"session1234\"\n",
       "\n",
       "\n",
       "# 1. Define the long running function\n",
       "def ask_for_approval(purpose: str, amount: float) -> dict[str, Any]:\n",
       "  \"\"\"Ask for approval for the reimbursement.\n",
       "\n",
       "  Args:\n",
       "    purpose: The purpose of the approval.\n",
       "    amount: The amount for approval.\n",
       "\n",
       "  Returns:\n",
       "    dict object with keys:\n",
       "    - status: The approval status.\n",
       "    - approver: The people to ask for approval,\n",
       "    - purpose: The copy of input `purpose`.\n",
       "    - amount: The copy of input `amount`.\n",
       "    - ticket-id: The id of fired ticket.\n",
       "  \"\"\"\n",
       "  # create a ticket for the approval\n",
       "  # Send a notification to the approver with the link of the ticket\n",
       "  return {\n",
       "      'status': 'pending',\n",
       "      'approver': 'Sean Zhou',\n",
       "      'purpose' : purpose,\n",
       "      'amount': amount,\n",
       "      'ticket-id': 'approval-ticket-1'\n",
       "  }\n",
       "\n",
       "\n",
       "def reimburse(purpose: str, amount: float) -> dict[str, Any]:\n",
       "  \"\"\"Reimburse the amount of money to the employee.\n",
       "\n",
       "  Args:\n",
       "    purpose: The purpose of the approval.\n",
       "    amount: The amount for approval.\n",
       "\n",
       "  Returns:\n",
       "    dict object with key `status` as 'ok' or 'reject'.\n",
       "  \"\"\"\n",
       "  # send the reimbrusement request to payment vendor\n",
       "  return {'status': 'ok'}\n",
       "\n",
       "\n",
       "# 2. Wrap the function with LongRunningFunctionTool\n",
       "long_running_tool = LongRunningFunctionTool(func=ask_for_approval)\n",
       "\n",
       "# 3. Use the tool in an Agent\n",
       "file_processor_agent = Agent(\n",
       "    # Use a model compatible with function calling\n",
       "    model=\"gemini-2.0-flash\",\n",
       "    name='reimbursement_agent',\n",
       "    instruction=\"\"\"\n",
       "      You are an agent whose job is to handle the reimbursement process for\n",
       "      the employees. If the amount is less than $100, you will automatically\n",
       "      approve the reimbursement.\n",
       "\n",
       "      If the amount is greater than $100, you will\n",
       "      ask for approval from the manager. If the manager approves, you will\n",
       "      call reimburse() to reimburse the amount to the employee. If the manager\n",
       "      rejects, you will inform the employee of the rejection.\n",
       "    \"\"\",\n",
       "    tools=[reimburse, long_running_tool])\n",
       "\n",
       "\n",
       "# Session and Runner\n",
       "async def setup_session_and_runner():\n",
       "  print('Seting up session and runner...')\n",
       "  session_service = InMemorySessionService()\n",
       "  session = await session_service.create_session(\n",
       "      app_name=APP_NAME,\n",
       "      user_id=USER_ID,\n",
       "      session_id=SESSION_ID)\n",
       "  runner = Runner(\n",
       "      agent=file_processor_agent,\n",
       "      app_name=APP_NAME,\n",
       "      session_service=session_service)\n",
       "  return session, runner\n",
       "\n",
       "\n",
       "# Agent Interaction\n",
       "async def call_agent_async(query: str, session, runner):\n",
       "  def get_long_running_function_call(event: Event) -> types.FunctionCall:\n",
       "    # Get the long running function call from the event\n",
       "    if (\n",
       "        not event.long_running_tool_ids\n",
       "        or not event.content\n",
       "        or not event.content.parts\n",
       "    ):\n",
       "      return\n",
       "\n",
       "    for part in event.content.parts:\n",
       "      if (\n",
       "          part\n",
       "          and part.function_call\n",
       "          and event.long_running_tool_ids\n",
       "          and part.function_call.id in event.long_running_tool_ids\n",
       "      ):\n",
       "        return part.function_call\n",
       "\n",
       "  def get_function_response(\n",
       "      event: Event, function_call_id: str) -> types.FunctionResponse:\n",
       "    # Get the function response for the fuction call with specified id.\n",
       "    if not event.content or not event.content.parts:\n",
       "      return\n",
       "\n",
       "    for part in event.content.parts:\n",
       "      if (\n",
       "          part\n",
       "          and part.function_response\n",
       "          and part.function_response.id == function_call_id\n",
       "      ):\n",
       "        return part.function_response\n",
       "\n",
       "  if session is None or runner is None:\n",
       "    session, runner = await setup_session_and_runner()\n",
       "\n",
       "  content = types.Content(role='user', parts=[types.Part(text=query)])\n",
       "  events = runner.run_async(\n",
       "      user_id=USER_ID,\n",
       "      session_id=SESSION_ID,\n",
       "      new_message=content)\n",
       "\n",
       "  print(\"\\nRunning agent...\")\n",
       "  events_async = runner.run_async(\n",
       "      session_id=session.id, user_id=USER_ID, new_message=content)\n",
       "\n",
       "  long_running_function_call, long_running_function_response, ticket_id = (\n",
       "      None, None, None)\n",
       "\n",
       "  async for event in events_async:\n",
       "    # Use helper to check for the specific auth request event\n",
       "    if not long_running_function_call:\n",
       "      long_running_function_call = get_long_running_function_call(event)\n",
       "      if long_running_function_call:\n",
       "        print(\n",
       "            '\\tGetting long running function call: '\n",
       "            f'{long_running_function_call}')\n",
       "    elif long_running_function_call and not long_running_function_response:\n",
       "      long_running_function_response = get_function_response(\n",
       "          event, long_running_function_call.id)\n",
       "      print(\n",
       "          '\\tGetting long running function resp with id '\n",
       "          f'\"{long_running_function_call.id}\": '\n",
       "          f'{long_running_function_response}')\n",
       "      if long_running_function_response:\n",
       "        ticket_id = long_running_function_response.response['ticket-id']\n",
       "\n",
       "    if event.content and event.content.parts:\n",
       "      text = ''.join(\n",
       "          part.text or ''\n",
       "          for part in event.content.parts\n",
       "          if hasattr(part, 'text')\n",
       "      )\n",
       "      if text:\n",
       "        print(f'[{event.author}]: {text}')\n",
       "\n",
       "  if long_running_function_response:\n",
       "    # query the status of the correpsonding ticket via tciket_id\n",
       "    # send back an intermediate / final response\n",
       "    updated_response = long_running_function_response.model_copy(deep=True)\n",
       "    updated_response.response = {'status': 'approved'}\n",
       "    print('Sending approved event...')\n",
       "    async for event in runner.run_async(\n",
       "        session_id=session.id,\n",
       "        user_id=USER_ID,\n",
       "        new_message=types.Content(\n",
       "            parts=[\n",
       "                types.Part(function_response = updated_response)\n",
       "            ], role='user')\n",
       "    ):\n",
       "      if event.content and event.content.parts:\n",
       "        text = ''.join(\n",
       "            part.text or ''\n",
       "            for part in event.content.parts\n",
       "            if hasattr(part, 'text')\n",
       "        )\n",
       "        if text:\n",
       "          print(f'[{event.author}]: {text}')\n",
       "\n",
       "    long_running_function_call, long_running_function_response, ticket_id = (\n",
       "        None, None, None)\n",
       "  else:\n",
       "    print('No need to wait for long running function resp.')\n",
       "\n",
       "  return session, runner\n",
       "\n",
       "\n",
       "if __name__ == '__main__':\n",
       "  session, runner = None, None\n",
       "  session, runner = asyncio.run(call_agent_async(\"Please reimburse 50$ for meals\", session, runner))\n",
       "  asyncio.run(call_agent_async(\"Please reimburse 200$ for meals\", session, runner))\n",
       "```"
      ],
      "text/plain": [
       "<IPython.core.display.Markdown object>"
      ]
     },
     "metadata": {},
     "output_type": "display_data"
    }
   ],
   "source": [
    "show_source_code('function_tools_example2.py ')"
   ]
  },
  {
   "cell_type": "code",
   "execution_count": 6,
   "id": "54fdd75d-68a1-4b4d-8b51-0628ef175635",
   "metadata": {},
   "outputs": [],
   "source": [
    "import function_tools_example2\n",
    "\n",
    "session, runner = None, None"
   ]
  },
  {
   "cell_type": "code",
   "execution_count": 7,
   "id": "cb0a4b41-d6c3-4c71-9f61-cffa83838c2e",
   "metadata": {},
   "outputs": [
    {
     "name": "stderr",
     "output_type": "stream",
     "text": [
      "Both GOOGLE_API_KEY and GEMINI_API_KEY are set. Using GOOGLE_API_KEY.\n"
     ]
    },
    {
     "name": "stdout",
     "output_type": "stream",
     "text": [
      "Seting up session and runner...\n",
      "\n",
      "Running agent...\n"
     ]
    },
    {
     "name": "stderr",
     "output_type": "stream",
     "text": [
      "Warning: there are non-text parts in the response: ['function_call'], returning concatenated text result from text parts. Check the full candidates.content.parts accessor to get the full model response.\n",
      "Both GOOGLE_API_KEY and GEMINI_API_KEY are set. Using GOOGLE_API_KEY.\n"
     ]
    },
    {
     "name": "stdout",
     "output_type": "stream",
     "text": [
      "[reimbursement_agent]: OK. I have reimbursed $50 for meals.\n",
      "\n",
      "No need to wait for long running function resp.\n"
     ]
    }
   ],
   "source": [
    "session, runner = await function_tools_example2.call_agent_async(\"Please reimburse 50$ for meals\", session, runner) "
   ]
  },
  {
   "cell_type": "code",
   "execution_count": 8,
   "id": "d7183dc1-005f-4359-8ece-ecd8fa2ad12f",
   "metadata": {},
   "outputs": [
    {
     "name": "stderr",
     "output_type": "stream",
     "text": [
      "Both GOOGLE_API_KEY and GEMINI_API_KEY are set. Using GOOGLE_API_KEY.\n"
     ]
    },
    {
     "name": "stdout",
     "output_type": "stream",
     "text": [
      "\n",
      "Running agent...\n"
     ]
    },
    {
     "name": "stderr",
     "output_type": "stream",
     "text": [
      "Warning: there are non-text parts in the response: ['function_call'], returning concatenated text result from text parts. Check the full candidates.content.parts accessor to get the full model response.\n",
      "Both GOOGLE_API_KEY and GEMINI_API_KEY are set. Using GOOGLE_API_KEY.\n"
     ]
    },
    {
     "name": "stdout",
     "output_type": "stream",
     "text": [
      "\tGetting long running function call: id='adk-54fd2752-fd5b-4c36-bf5a-f9ae256d0d60' args={'purpose': 'meals', 'amount': 200} name='ask_for_approval'\n",
      "\tGetting long running function resp with id \"adk-54fd2752-fd5b-4c36-bf5a-f9ae256d0d60\": will_continue=None scheduling=None id='adk-54fd2752-fd5b-4c36-bf5a-f9ae256d0d60' name='ask_for_approval' response={'status': 'pending', 'approver': 'Sean Zhou', 'purpose': 'meals', 'amount': 200, 'ticket-id': 'approval-ticket-1'}\n"
     ]
    },
    {
     "name": "stderr",
     "output_type": "stream",
     "text": [
      "Both GOOGLE_API_KEY and GEMINI_API_KEY are set. Using GOOGLE_API_KEY.\n"
     ]
    },
    {
     "name": "stdout",
     "output_type": "stream",
     "text": [
      "[reimbursement_agent]: OK. I have asked for approval from the manager for $200 for meals. I'll let you know the decision.\n",
      "\n",
      "Sending approved event...\n"
     ]
    },
    {
     "name": "stderr",
     "output_type": "stream",
     "text": [
      "Warning: there are non-text parts in the response: ['function_call'], returning concatenated text result from text parts. Check the full candidates.content.parts accessor to get the full model response.\n",
      "Both GOOGLE_API_KEY and GEMINI_API_KEY are set. Using GOOGLE_API_KEY.\n"
     ]
    },
    {
     "name": "stdout",
     "output_type": "stream",
     "text": [
      "[reimbursement_agent]: OK. I have reimbursed $200 for meals.\n",
      "\n"
     ]
    }
   ],
   "source": [
    "session, runner = await function_tools_example2.call_agent_async(\"Please reimburse 200$ for meals\", session, runner)"
   ]
  },
  {
   "cell_type": "markdown",
   "id": "52ac30ad-5d6d-44c2-a858-66d233633717",
   "metadata": {},
   "source": [
    "Key aspects of this example:\n",
    "* <b><font size='3ptx' color='blue'>LongRunningFunctionTool</font></b>: Wraps the supplied method/function; the framework handles sending yielded updates and the final return value as sequential FunctionResponses.\n",
    "* <b><font size='3ptx'>Agent instruction</font></b>: Directs the LLM to use the tool and understand the incoming <font color='blue'><b>FunctionResponse</b></font> stream (<font color='brown'>progress vs. completion</font>) for user updates.\n",
    "* <b><font size='3ptx'>Final return</font></b>: The function returns the final result dictionary, which is sent in the concluding <font color='blue'><b>FunctionResponse</b></font> to indicate completion."
   ]
  },
  {
   "cell_type": "markdown",
   "id": "18395c8e-b382-4cae-b88a-b91d82675847",
   "metadata": {},
   "source": [
    "## <b><font color='darkblue'>3. Agent-as-a-Tool</font></b>\n",
    "([source](https://google.github.io/adk-docs/tools/function-tools/#3-agent-as-a-tool)) <font size='3ptx'><b>This powerful feature allows you to leverage the capabilities of other agents within your system by calling them as tools.</b> The Agent-as-a-Tool enables you to invoke another agent to perform a specific task, effectively <b>delegating responsibility</b>. This is conceptually similar to creating a Python function that calls another agent and uses the agent's response as the function's return value.</font>"
   ]
  },
  {
   "cell_type": "markdown",
   "id": "a16f295b-2dd9-42d8-a187-f67b01f71235",
   "metadata": {},
   "source": [
    "### <b><font color='darkgreen'>Key difference from sub-agents</font></b>\n",
    "([source](https://google.github.io/adk-docs/tools/function-tools/#key-difference-from-sub-agents)) It's important to distinguish an Agent-as-a-Tool from a Sub-Agent:\n",
    "* <b><font size='3ptx'>Agent-as-a-Tool</font></b>: When Agent `A` calls Agent `B` as a tool (<font color='brown'>using Agent-as-a-Tool</font>), Agent `B`'s answer is passed back to Agent `A`, which then summarizes the answer and generates a response to the user. Agent `A` retains control and continues to handle future user input.\n",
    "* <b><font size='3ptx'>Sub-agent</font></b>: When Agent `A` calls Agent `B` as a sub-agent, the responsibility of answering the user is completely transferred to Agent `B`. Agent `A` is effectively out of the loop. All subsequent user input will be answered by Agent `B`."
   ]
  },
  {
   "cell_type": "markdown",
   "id": "dbe88cb9-11dd-48ed-b374-153fa8b28c9e",
   "metadata": {},
   "source": [
    "### <b><font color='darkgreen'>Usage</font></b>\n",
    "([source](https://google.github.io/adk-docs/tools/function-tools/#usage)) <b><font size='3ptx'>To use an agent as a tool, wrap the agent with the <font color='blue'>AgentTool</font> class</font></b>:\n",
    "```python\n",
    "tools=[AgentTool(agent=agent_b)]\n",
    "```"
   ]
  },
  {
   "cell_type": "markdown",
   "id": "37ea8a46-60fe-472a-8bb2-01845f9b994d",
   "metadata": {},
   "source": [
    "### <b><font color='darkgreen'>Customization</font></b>\n",
    "([source](https://google.github.io/adk-docs/tools/function-tools/#customization)) <b><font size='3ptx'>The <font color='blue'>AgentTool</font> class provides the following attributes for customizing its behavior</font></b>:\n",
    "* <b>`skip_summarization: bool`:</b> If set to `True`, the framework will bypass the LLM-based summarization of the tool agent's response. <b>This can be useful when the tool's response is already well-formatted and requires no further processing</b>."
   ]
  },
  {
   "cell_type": "markdown",
   "id": "a5624278-2e76-44ee-8f2f-dd63276a452d",
   "metadata": {},
   "source": [
    "### <b><font color='darkgreen'>Example</font></b>"
   ]
  },
  {
   "cell_type": "code",
   "execution_count": 9,
   "id": "0c49e098-ce63-4f48-b3a1-e431bf80ec88",
   "metadata": {},
   "outputs": [
    {
     "data": {
      "text/markdown": [
       "\n",
       "```python\n",
       "#!/usr/bin/env python\n",
       "import asyncio\n",
       "\n",
       "from google.adk.agents import Agent\n",
       "from google.adk.runners import Runner\n",
       "from google.adk.sessions import InMemorySessionService\n",
       "from google.adk.tools.agent_tool import AgentTool\n",
       "from google.genai import types\n",
       "\n",
       "\n",
       "APP_NAME=\"summary_agent\"\n",
       "USER_ID=\"user1234\"\n",
       "SESSION_ID=\"1234\"\n",
       "\n",
       "summary_agent = Agent(\n",
       "    model=\"gemini-2.0-flash\",\n",
       "    name=\"summary_agent\",\n",
       "    instruction=(\n",
       "        \"You are an expert summarizer. Please read the following text and \"\n",
       "        \"provide a concise summary.\"),\n",
       "    description=\"Agent to summarize text\",\n",
       ")\n",
       "\n",
       "root_agent = Agent(\n",
       "    model='gemini-2.0-flash',\n",
       "    name='root_agent',\n",
       "    instruction=(\n",
       "        \"You are a helpful assistant. When the user provides a text, use the \"\n",
       "        \"'summarize' tool to generate a summary. Always forward the user's \"\n",
       "        \"message exactly as received to the 'summarize' tool, without modifying\"\n",
       "        \" or summarizing it yourself. Present the response from the tool to the\"\n",
       "        \" user.\"),\n",
       "    tools=[AgentTool(agent=summary_agent)]\n",
       ")\n",
       "\n",
       "# Session and Runner\n",
       "async def setup_session_and_runner():\n",
       "  session_service = InMemorySessionService()\n",
       "  session = await session_service.create_session(\n",
       "      app_name=APP_NAME, user_id=USER_ID, session_id=SESSION_ID)\n",
       "  runner = Runner(\n",
       "      agent=root_agent, app_name=APP_NAME, session_service=session_service)\n",
       "  return session, runner\n",
       "\n",
       "\n",
       "# Agent Interaction\n",
       "async def call_agent_async(query):\n",
       "  content = types.Content(role='user', parts=[types.Part(text=query)])\n",
       "  session, runner = await setup_session_and_runner()\n",
       "  events = runner.run_async(user_id=USER_ID, session_id=SESSION_ID, new_message=content)\n",
       "\n",
       "  async for event in events:\n",
       "    if event.is_final_response():\n",
       "      final_response = event.content.parts[0].text\n",
       "      print(\"Agent Response: \", final_response)\n",
       "\n",
       "\n",
       "if __name__ == '__main__':\n",
       "  long_text = \"\"\"\n",
       "  Quantum computing represents a fundamentally different approach to computation,\n",
       "  leveraging the bizarre principles of quantum mechanics to process information.\n",
       "  Unlike classical computers that rely on bits representing either 0 or 1,\n",
       "  quantum computers use qubits which can exist in a state of superposition -\n",
       "  effectively being 0, 1, or a combination of both simultaneously. Furthermore,\n",
       "  qubits can become entangled, meaning their fates are intertwined regardless of\n",
       "  distance, allowing for complex correlations. This parallelism and\n",
       "  interconnectedness grant quantum computers the potential to solve specific types\n",
       "  of incredibly complex problems - such as drug discovery, materials science,\n",
       "  complex system optimization, and breaking certain types of cryptography - far\n",
       "  faster than even the most powerful classical supercomputers could ever achieve,\n",
       "  although the technology is still largely in its developmental stages.\"\"\"\n",
       "  asyncio.run(call_agent_async(long_text))\n",
       "```"
      ],
      "text/plain": [
       "<IPython.core.display.Markdown object>"
      ]
     },
     "metadata": {},
     "output_type": "display_data"
    }
   ],
   "source": [
    "show_source_code('function_tools_example3.py')"
   ]
  },
  {
   "cell_type": "code",
   "execution_count": 2,
   "id": "4ba686ad-a514-4f69-9c4e-2a69f2da93dd",
   "metadata": {},
   "outputs": [
    {
     "name": "stderr",
     "output_type": "stream",
     "text": [
      "Both GOOGLE_API_KEY and GEMINI_API_KEY are set. Using GOOGLE_API_KEY.\n",
      "Warning: there are non-text parts in the response: ['function_call'], returning concatenated text result from text parts. Check the full candidates.content.parts accessor to get the full model response.\n",
      "Both GOOGLE_API_KEY and GEMINI_API_KEY are set. Using GOOGLE_API_KEY.\n",
      "Both GOOGLE_API_KEY and GEMINI_API_KEY are set. Using GOOGLE_API_KEY.\n"
     ]
    },
    {
     "name": "stdout",
     "output_type": "stream",
     "text": [
      "Agent Response:  [Summary] Large language models (LLMs) are trained on vast amounts of text using self-supervised learning for NLP tasks, particularly language generation. Generative pretrained transformers (GPTs) are the largest and most capable LLMs, used in generative chatbots and can be fine-tuned or guided by prompts. While LLMs acquire predictive power regarding language, they also inherit inaccuracies and biases from their training data.\n",
      "\n"
     ]
    }
   ],
   "source": [
    "import function_tools_example3\n",
    "\n",
    "long_text = \"\"\"\n",
    "A large language model (LLM) is a language model trained with self-supervised machine learning on a vast amount of text,\n",
    "designed for natural language processing tasks, especially language generation.\n",
    "\n",
    "The largest and most capable LLMs are generative pretrained transformers (GPTs),\n",
    "which are largely used in generative chatbots such as ChatGPT, Gemini or Claude.\n",
    "LLMs can be fine-tuned for specific tasks or guided by prompt engineering.\n",
    "These models acquire predictive power regarding syntax, semantics, and ontologies inherent in human language corpora,\n",
    "but they also inherit inaccuracies and biases present in the data they are trained in.\n",
    "\"\"\"\n",
    "\n",
    "await function_tools_example3.call_agent_async(long_text)"
   ]
  },
  {
   "cell_type": "markdown",
   "id": "4644dbe0-2538-46ca-9009-fc7515a84a63",
   "metadata": {},
   "source": [
    "### <b><font color='darkgreen'>How it works</font></b>\n",
    "1. When the `main_agent` receives the long text, its instruction tells it to use the '`summarize`' tool for long texts.\n",
    "2. The framework recognizes '`summarize`' as an <b><font color='blue'>AgentTool</font></b> that wraps the `summary_agent`.\n",
    "3. Behind the scenes, the `main_agent` will call the `summary_agent` with the long text as input.\n",
    "4. The `summary_agent` will process the text according to its instruction and generate a summary.\n",
    "5. <b>The response from the `summary_agent` is then passed back to the `main_agent`</b>.\n",
    "6. The `main_agent` can then take the summary and formulate its final response to the user (<font color='brown'>e.g., \"Here's a summary of the text: ...\"</font>)"
   ]
  }
 ],
 "metadata": {
  "kernelspec": {
   "display_name": "Python 3 (ipykernel)",
   "language": "python",
   "name": "python3"
  },
  "language_info": {
   "codemirror_mode": {
    "name": "ipython",
    "version": 3
   },
   "file_extension": ".py",
   "mimetype": "text/x-python",
   "name": "python",
   "nbconvert_exporter": "python",
   "pygments_lexer": "ipython3",
   "version": "3.12.9"
  }
 },
 "nbformat": 4,
 "nbformat_minor": 5
}
