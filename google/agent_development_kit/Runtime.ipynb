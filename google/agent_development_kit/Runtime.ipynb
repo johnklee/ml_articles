{
 "cells": [
  {
   "cell_type": "markdown",
   "id": "c9585638-fde4-41f6-91c2-e6b9e4303904",
   "metadata": {
    "jp-MarkdownHeadingCollapsed": true
   },
   "source": [
    "## <b><font color='darkblue'>What is runtime?</font></b>\n",
    "<font size='3ptx'><b>The ADK Runtime is the underlying engine that powers your agent application during user interactions.</b> It's the system that takes your defined agents, tools, and callbacks and orchestrates their execution in response to user input, managing the flow of information, state changes, and interactions with external services like LLMs or storage.</font>\n",
    "\n",
    "<b>Think of the Runtime as the \"engine\" of your agentic application.</b> You define the parts (<font color='brown'>agents, tools</font>), and the Runtime handles how they connect and run together to fulfill a user's request."
   ]
  },
  {
   "cell_type": "markdown",
   "id": "da6ab829-fcdf-4db4-aab5-89a1757c9a8a",
   "metadata": {
    "jp-MarkdownHeadingCollapsed": true
   },
   "source": [
    "### <b><font color='darkgreen'>Core Idea: The Event Loop</font></b>\n",
    "<font size='3ptx'><b>At its heart, the ADK Runtime operates on an Event Loop</b>. This loop facilitates a back-and-forth communication between the <b><font color='blue'>Runner</font></b> component and your defined \"Execution Logic\" (<font color='brown'>which includes your Agents, the LLM calls they make, Callbacks, and Tools</font>)</font>.\n",
    "\n",
    "![event loop arch](https://google.github.io/adk-docs/assets/event-loop.png)"
   ]
  },
  {
   "cell_type": "markdown",
   "id": "8857a331-a8d8-4ad5-a3be-55dc164599c2",
   "metadata": {},
   "source": [
    "In simple terms:\n",
    "1. <b>The `Runner`</b> receives a user query and asks the main `Agent` to start processing.\n",
    "2. <b>The `Agent`</b> (<font color='brown'>and its associated logic</font>) runs until it has something to report (<font color='brown'>like a response, a request to use a tool, or a state change</font>) – it then yields or emits an `Event`.\n",
    "3. <b>The `Runner` receives this Event</b>, processes any associated actions (<font color='brown'>like saving state changes via `Services`</font>), and forwards the event onwards (<font color='brown'>e.g., to the user interface</font>).\n",
    "4. <b>Only after the `Runner` has processed the event does the `Agent`'s logic resume from where it paused</b>, now potentially seeing the effects of the changes committed by the `Runner`\n",
    "5. <b>This cycle repeats until the agent has no more events to yield for the current user query</b>.\n",
    "\n",
    "This event-driven loop is the fundamental pattern governing how ADK executes your agent code."
   ]
  },
  {
   "cell_type": "markdown",
   "id": "ddb16a0a-c7ed-448b-9fb9-d609ea081f29",
   "metadata": {
    "jp-MarkdownHeadingCollapsed": true
   },
   "source": [
    "### <b><font color='darkgreen'>The Heartbeat: The Event Loop - Inner workings</font></b>\n",
    "<font size='3ptx'><b>The Event Loop is the core operational pattern defining the interaction between the `Runner` and your custom code (<font color='brown'>`Agents`, `Tools`, `Callbacks`, collectively referred to as \"Execution Logic\" or \"Logic Components\" in the design document</font>)</b>. It establishes a clear division of responsibilities:</font>"
   ]
  },
  {
   "cell_type": "markdown",
   "id": "43a5140d-9b61-48cd-bdfd-f0e0c48a96ab",
   "metadata": {},
   "source": [
    "#### <b>Runner's Role (Orchestrator)</b>\n",
    "([source](https://google.github.io/adk-docs/runtime/#runners-role-orchestrator)) <b>The `Runner` acts as the central coordinator for a single user invocation</b>. Its responsibilities in the loop are:\n",
    "1. <font size='3ptx'><b>Initiation</b></font>: Receives the end user's query (`new_message`) and typically appends it to the session history via the <b><font color='blue'>SessionService</font></b>.\n",
    "2. <font size='3ptx'><b>Kick-off</font></b>: Starts the event generation process by calling the main agent's execution method (<font color='brown'>e.g., `agent_to_run.run_async(...)`</font>).\n",
    "3. <font size='3ptx'><b>Receive & Process</b></font>: Waits for the agent logic to yield or emit an `Event`. Upon receiving an event, the `Runner` promptly processes it. This involves:\n",
    "   - Using configured Services (`SessionService`, `ArtifactService`, `MemoryService`) to commit changes indicated in `event.actions` (<font color='brown'>like `state_delta`, `artifact_delta`</font>).\n",
    "   - Performing other internal bookkeeping.\n",
    "4. <font size='3ptx'><b>Yield Upstream</b></font>: Forwards the processed event onwards (<font color='brown'>e.g., to the calling application or UI for rendering</font>).\n",
    "5. <font size='3ptx'><b>Iterate</b></font>: Signals the agent logic that processing is complete for the yielded event, allowing it to resume and generate the next event.\n",
    "\n",
    "Below is the \"Conceptual Runner Loop\":\n",
    "\n",
    "```python\n",
    "# Simplified view of Runner's main loop logic\n",
    "def run(new_query, ...) -> Generator[Event]:\n",
    "    # 1. Append new_query to session event history (via SessionService)\n",
    "    session_service.append_event(session, Event(author='user', content=new_query))\n",
    "\n",
    "    # 2. Kick off event loop by calling the agent\n",
    "    agent_event_generator = agent_to_run.run_async(context)\n",
    "\n",
    "    async for event in agent_event_generator:\n",
    "        # 3. Process the generated event and commit changes\n",
    "        session_service.append_event(session, event) # Commits state/artifact deltas etc.\n",
    "        # memory_service.update_memory(...) # If applicable\n",
    "        # artifact_service might have already been called via context during agent run\n",
    "\n",
    "        # 4. Yield event for upstream processing (e.g., UI rendering)\n",
    "        yield event\n",
    "        # Runner implicitly signals agent generator can continue after yielding\n",
    "```"
   ]
  },
  {
   "cell_type": "markdown",
   "id": "23b9c6e7-5fa0-4cc9-bf8b-a826d063d8cc",
   "metadata": {},
   "source": [
    "#### <b>Execution Logic's Role (Agent, Tool, Callback)</font>\n",
    "([source](https://google.github.io/adk-docs/runtime/#execution-logics-role-agent-tool-callback)) <font size='3ptx'><b>Your code within agents, tools, and callbacks is responsible for the actual computation and decision-making</b></font>.\n",
    "\n",
    "Its interaction with the loop involves:\n",
    "\n",
    "1. <b><font size='3ptx'>Execute</font></b>: Runs its logic based on the current <b><font color='blue'>InvocationContext</font></b>, including the session state as it was when execution resumed.\n",
    "2. <b><font size='3ptx'>Yield</font></b>: When the logic needs to communicate (<font color='brown'>send a message, call a tool, report a state change</font>), it constructs an `Event` containing the relevant content and actions, and then `yield`s this event back to the `Runner`.\n",
    "3. <b><font size='3ptx'>Pause</font></b>: Crucially, execution of the agent logic pauses immediately after the `yield` statement. It waits for the `Runner` to complete step 3 (processing and committing).\n",
    "4. <b><font size='3ptx'>Resume</font></b>: Only after the `Runner` has processed the yielded event does the agent logic resume execution from the statement immediately following the `yield`.\n",
    "5. <b><font size='3ptx'>See Updated State</font></b>: Upon resumption, the agent logic can now reliably access the session state (`ctx.session.state`) reflecting the changes that were committed by the `Runner` from the previously yielded event.\n",
    "\n",
    "Below is the \"Conceptual Execution Logic:\":\n",
    "```python\n",
    "# Simplified view of logic inside Agent.run_async, callbacks, or tools\n",
    "\n",
    "# ... previous code runs based on current state ...\n",
    "\n",
    "# 1. Determine a change or output is needed, construct the event\n",
    "# Example: Updating state\n",
    "update_data = {'field_1': 'value_2'}\n",
    "event_with_state_change = Event(\n",
    "    author=self.name,\n",
    "    actions=EventActions(state_delta=update_data),\n",
    "    content=types.Content(parts=[types.Part(text=\"State updated.\")])\n",
    "    # ... other event fields ...\n",
    ")\n",
    "\n",
    "# 2. Yield the event to the Runner for processing & commit\n",
    "yield event_with_state_change\n",
    "# <<<<<<<<<<<< EXECUTION PAUSES HERE >>>>>>>>>>>>\n",
    "\n",
    "# <<<<<<<<<<<< RUNNER PROCESSES & COMMITS THE EVENT >>>>>>>>>>>>\n",
    "\n",
    "# 3. Resume execution ONLY after Runner is done processing the above event.\n",
    "# Now, the state committed by the Runner is reliably reflected.\n",
    "# Subsequent code can safely assume the change from the yielded event happened.\n",
    "val = ctx.session.state['field_1']\n",
    "# here `val` is guaranteed to be \"value_2\" (assuming Runner committed successfully)\n",
    "print(f\"Resumed execution. Value of field_1 is now: {val}\")\n",
    "\n",
    "# ... subsequent code continues ...\n",
    "# Maybe yield another event later...\n",
    "```\n",
    "\n",
    "This cooperative yield/pause/resume cycle between the `Runner` and your `Execution Logic`, mediated by `Event` objects, forms the core of the ADK Runtime."
   ]
  },
  {
   "cell_type": "markdown",
   "id": "647620ed-e195-4134-9d30-e9504b044453",
   "metadata": {
    "jp-MarkdownHeadingCollapsed": true
   },
   "source": [
    "### <b><font color='darkgreen'>Key components of the Runtime</font></b>\n",
    "([source](https://google.github.io/adk-docs/runtime/#key-components-of-the-runtime)) <font size='3ptx'><b>Several components work together within the ADK Runtime to execute an agent invocation</b>. Understanding their roles clarifies how the event loop functions</font>:"
   ]
  },
  {
   "cell_type": "markdown",
   "id": "857d66d7-a1e7-4e05-a3eb-c17bcaa7f4c8",
   "metadata": {},
   "source": [
    "1. <b><font size='3ptx'>Runner</font></b>\n",
    "    - <b>Role</b>: The main entry point and orchestrator for a single user query (`run_async`).\n",
    "    - <b>Function</b>: Manages the overall Event Loop, receives events yielded by the Execution Logic, coordinates with Services to process and commit event actions (<font color='brown'>state/artifact changes</font>), and forwards processed events upstream (<font color='brown'>e.g., to the UI</font>). It essentially drives the conversation turn by turn based on yielded events. (<font color='brown'>Defined in</font> <b><font color='blue'>google.adk.runners.runner</font></b>)."
   ]
  },
  {
   "cell_type": "markdown",
   "id": "1fd7a873-53fe-41b1-9f84-a6698fea1b96",
   "metadata": {},
   "source": [
    "2. <b><font size='3ptx'>Execution Logic Components</font></b>\n",
    "    - <b>Role:</b> The parts containing your custom code and the core agent capabilities.\n",
    "    - <b>Components:</b>\n",
    "        - `Agent` (`BaseAgent`, `LlmAgent`, etc.): Your primary logic units that process information and decide on actions. They implement the `_run_async_impl` method which yields events.\n",
    "        - `Tools` (`BaseTool`, `FunctionTool`, `AgentTool`, etc.): External functions or capabilities used by agents (often `LlmAgent`) to interact with the outside world or perform specific tasks. They execute and return results, which are then wrapped in events.\n",
    "        - `Callbacks` (`Functions`): User-defined functions attached to agents (e.g., `before_agent_callback`, `after_model_callback`) that hook into specific points in the execution flow, potentially modifying behavior or state, whose effects are captured in events.\n",
    "    - <b>Function</b>: Perform the actual thinking, calculation, or external interaction. They communicate their results or needs by yielding `Event` objects and pausing until the `Runner` processes them."
   ]
  },
  {
   "cell_type": "markdown",
   "id": "131115cd-2272-4b82-a452-502c33f0b580",
   "metadata": {},
   "source": [
    "3. <b><font size='3ptx'>Event</font></b>\n",
    "    - <b>Role</b>: The message passed back and forth between the `Runner` and the `Execution Logic`.\n",
    "    - <b>Function</b>: Represents an atomic occurrence (<font color='brown'>user input, agent text, tool call/result, state change request, control signal</font>). It carries both the content of the occurrence and the intended side effects (<font color='brown'>actions like `state_delta`</font>)."
   ]
  },
  {
   "cell_type": "markdown",
   "id": "79f8a296-2495-4cbd-8d88-8234709be024",
   "metadata": {},
   "source": [
    "4. <b><font size='3ptx'>Services</font></b>\n",
    "    - <b>Role</b>: Backend components responsible for managing persistent or shared resources. Used primarily by the `Runner` during event processing.\n",
    "    - <b>Components</b>:\n",
    "        - `SessionService` (`BaseSessionService`, `InMemorySessionService`, etc.): Manages `Session` objects, including saving/loading them, applying `state_delta` to the session state, and appending events to the `event history`.\n",
    "        - `ArtifactService` (`BaseArtifactService`, `InMemoryArtifactService`, `GcsArtifactService`, etc.): Manages the storage and retrieval of binary artifact data. Although `save_artifact` is called via context during execution logic, the `artifact_delta` in the event confirms the action for the `Runner`/`SessionService`.\n",
    "        - `MemoryService` (`BaseMemoryService`, etc.): (Optional) Manages long-term semantic memory across sessions for a user.\n",
    "    - <b>Function</b>: Provide the persistence layer. The `Runner` interacts with them to ensure changes signaled by `event.actions` are reliably stored before the `Execution Logic` resumes."
   ]
  },
  {
   "cell_type": "markdown",
   "id": "17db619d-86dd-4962-b64e-c8f929374025",
   "metadata": {},
   "source": [
    "5. <b><font size='3ptx'>Session</font></b>\n",
    "    - <b>Role</b>: A data container holding the state and history for one specific conversation between a user and the application.\n",
    "    - <b>Function</b>: Stores the `current state` dictionary, the list of all `past events` (`event history`), and references to associated artifacts. It's the primary record of the interaction, managed by the `SessionService`."
   ]
  },
  {
   "cell_type": "markdown",
   "id": "6289daff-2950-427c-ace2-132b518644d3",
   "metadata": {},
   "source": [
    "6. <b><font size='3ptx'>Invocation</font></b>\n",
    "    - <b>Role</b>: A conceptual term representing everything that happens in response to a single user query, from the moment the `Runner` receives it until the agent logic finishes yielding events for that query.\n",
    "    - <b>Function</b>: An invocation might involve multiple agent runs (<font color='brown'>if using agent transfer or `AgentTool`</font>), multiple LLM calls, tool executions, and callback executions, all tied together by a single `invocation_id` within the <b><font color='blue'>InvocationContext</font></b>."
   ]
  },
  {
   "cell_type": "markdown",
   "id": "b13262e9-843f-4d95-9412-4452a4d8760b",
   "metadata": {},
   "source": [
    "These players interact continuously through the Event Loop to process a user's request."
   ]
  },
  {
   "cell_type": "markdown",
   "id": "fd211312-129d-4028-9dee-de9adc2ad112",
   "metadata": {
    "jp-MarkdownHeadingCollapsed": true
   },
   "source": [
    "### <b><font color='darkgreen'>How It Works: A Simplified Invocation</font></b>\n",
    "([source](https://google.github.io/adk-docs/runtime/#how-it-works-a-simplified-invocation)) <b><font size='3ptx'>Let's trace a simplified flow for a typical user query that involves an LLM agent calling a tool:</font></b>\n",
    "![flow](https://google.github.io/adk-docs/assets/invocation-flow.png)"
   ]
  },
  {
   "cell_type": "markdown",
   "id": "9f9a433b-e028-4901-b2ef-ce4bbc35ed89",
   "metadata": {},
   "source": [
    "#### <b>Step-by-Step Breakdown</b>\n",
    "1. <b><font size='3ptx'>User Input</font></b>: The `User` sends a query (<font color='brown'>e.g., \"What's the capital of France?\"</font>).\n",
    "2. <b><font size='3ptx'>Runner Starts</font></b>: `<b>Runner</b>.run_async` begins. It interacts with the <b><font color='blue'>SessionService</font></b> to load the relevant <b><font color='blue'>Session</font></b> and adds the user query as the first <b><font color='blue'>Event</font></b> to the `session history`. An <b><font color='blue'>InvocationContext</font></b> (`ctx`) is prepared.\n",
    "3. <b><font size='3ptx'>Agent Execution</font></b>: The `Runner` calls `agent.run_async(ctx)` on the designated root agent (<font color='brown'>e.g., an</font> <b><font color='blue'>LlmAgent</font></b>).\n",
    "4. <b><font size='3ptx'>LLM Call (Example)</font></b>: The `LlmAgent` determines if it needs information, perhaps by calling a tool. It prepares a request for the LLM. Let's assume the LLM decides to call `MyTool`.\n",
    "5. <b><font size='3ptx'>Yield FunctionCall Event</font></b>: The `LlmAgent` receives the `FunctionCall` response from the LLM, wraps it in an `Event(author='Agent_Llm', content=Content(parts=[Part(function_call=...)]))`, and yields or emits this event.\n",
    "6. <b><font size='3ptx'>Agent Pauses</font></b>: The `LlmAgent`'s execution pauses immediately after the yield.\n",
    "7. <b><font size='3ptx'>Runner Processes</font></b>: The `Runner` receives the `FunctionCall` event. It passes it to the `SessionService` to record it in the history. The `Runner` then yields the event upstream to the `User` (<font color='brown'>or application</font>).\n",
    "8. <b><font size='3ptx'>Agent Resumes</font></b>: The `Runner` signals that the event is processed, and `LlmAgent` resumes execution.\n",
    "9. <b><font size='3ptx'>Tool Execution</font></b>: The `LlmAgent`'s internal flow now proceeds to execute the requested `MyTool`. It calls `tool.run_async(...)`.\n",
    "10. <b><font size='3ptx'>Tool Returns Result</font></b>: `MyTool` executes and returns its result (e.g., `{'result': 'Paris'}`).\n",
    "11. <b><font size='3ptx'>Yield FunctionResponse Event</font></b>: The `LlmAgent` wraps the tool result into an `Event` containing a `FunctionResponse` part (e.g., `Event(author='Agent_Llm', content=Content(role='user', parts=[Part(function_response=...)]))`). This event might also contain actions if the tool modified state (`state_delta`) or saved artifacts (`artifact_delta`). The agent yields this event.\n",
    "12. <b><font size='3ptx'>Agent Pauses</font></b>: `LlmAgent` pauses again.\n",
    "13. <b><font size='3ptx'>Runner Processes</font></b>: `Runner` receives the `FunctionResponse` event. It passes it to `SessionService` which applies any `state_delta`/`artifact_delta` and adds the event to history. `Runner` yields the event upstream.\n",
    "14. <b><font size='3ptx'>Agent Resumes</font></b>: `LlmAgent` resumes, now knowing the tool result and any state changes are committed.\n",
    "15. <b><font size='3ptx'>Final LLM Call (Example)</font></b>: `LlmAgent` sends the tool result back to the LLM to generate a natural language response.\n",
    "16. <b><font size='3ptx'>Yield Final Text Event</font></b>: `LlmAgent` receives the final text from the LLM, wraps it in an `Event(author='Agent_Llm', content=Content(parts=[Part(text=...)]))`, and `yield`s it.\n",
    "17. <b><font size='3ptx'>Agent Pauses</font></b>: `LlmAgent` pauses.\n",
    "18. <b><font size='3ptx'>Runner Processes</font></b>: `Runner` receives the final text event, passes it to `SessionService` for history, and yields it upstream to the `User`. This is likely marked as the `is_final_response()`.\n",
    "19. <b><font size='3ptx'>Agent Resumes & Finishes</font></b>: `LlmAgent` resumes. Having completed its task for this invocation, its `run_async` generator finishes.\n",
    "20. <b><font size='3ptx'>Runner Completes</font></b>: The Runner sees the agent's generator is exhausted and finishes its loop for this invocation.\n",
    "\n",
    "This yield/pause/process/resume cycle ensures that state changes are consistently applied and that the execution logic always operates on the most recently committed state after yielding an event."
   ]
  },
  {
   "cell_type": "markdown",
   "id": "cc26c2df-8154-4df0-b1b2-e860cea5bfe2",
   "metadata": {
    "jp-MarkdownHeadingCollapsed": true
   },
   "source": [
    "### <b><font color='darkgreen'>Important Runtime Behaviors</font></b>\n",
    "([source](https://google.github.io/adk-docs/runtime/#important-runtime-behaviors)) <b><font size='3ptx'>Understanding a few key aspects of how the ADK Runtime handles state, streaming, and asynchronous operations is crucial for building predictable and efficient agents.</font></b>"
   ]
  },
  {
   "cell_type": "markdown",
   "id": "69264eb5-49dc-4a15-84f0-5670701c03a4",
   "metadata": {
    "jp-MarkdownHeadingCollapsed": true
   },
   "source": [
    "#### <b>State Updates & Commitment Timing</font>\n",
    "* <b><font size='3ptx'>The Rule</font></b>: When your code (<font color='brown'>in an agent, tool, or callback</font>) modifies the session state (e.g., `context.state['my_key'] = 'new_value'`), this change is initially recorded locally within the current <b><font color='blue'>InvocationContext</font></b>. The change is <b>only guaranteed to be persisted</b> (<font color='brown'>saved by the `SessionService`</font>) after the `Event` carrying the corresponding `state_delta` in its actions has been `yield`-ed by your code and subsequently processed by the `Runner`.\n",
    "* <b><font size='3ptx'>Implication</font></b>: Code that runs after resuming from a `yield` can reliably assume that the state changes signaled in the `yield`ed event have been committed.\n",
    "\n",
    "```python\n",
    "# Inside agent logic (conceptual)\n",
    "\n",
    "# 1. Modify state\n",
    "ctx.session.state['status'] = 'processing'\n",
    "event1 = Event(..., actions=EventActions(state_delta={'status': 'processing'}))\n",
    "\n",
    "# 2. Yield event with the delta\n",
    "yield event1\n",
    "# --- PAUSE --- Runner processes event1, SessionService commits 'status' = 'processing' ---\n",
    "\n",
    "# 3. Resume execution\n",
    "# Now it's safe to rely on the committed state\n",
    "current_status = ctx.session.state['status'] # Guaranteed to be 'processing'\n",
    "print(f\"Status after resuming: {current_status}\")\n",
    "```"
   ]
  },
  {
   "cell_type": "markdown",
   "id": "399fedfb-da2a-4bc5-b462-4aaee1b6f383",
   "metadata": {
    "jp-MarkdownHeadingCollapsed": true
   },
   "source": [
    "#### <b>\"Dirty Reads\" of Session State</b>\n",
    "* <b><font size='3ptx'>Definition</font></b>: While commitment happens after the `yield`, code running later within the same invocation, but before the state-changing event is actually yielded and processed, can often see the local, uncommitted changes. This is sometimes called a \"<b><font color='darkblue'>dirty read</font></b>\".\n",
    "* <b><font size='3ptx'>Example</font></b>:\n",
    "\n",
    "```python\n",
    "# Code in before_agent_callback\n",
    "callback_context.state['field_1'] = 'value_1'\n",
    "# State is locally set to 'value_1', but not yet committed by Runner\n",
    "\n",
    "# ... agent runs ...\n",
    "\n",
    "# Code in a tool called later *within the same invocation*\n",
    "# Readable (dirty read), but 'value_1' isn't guaranteed persistent yet.\n",
    "val = tool_context.state['field_1'] # 'val' will likely be 'value_1' here\n",
    "print(f\"Dirty read value in tool: {val}\")\n",
    "\n",
    "# Assume the event carrying the state_delta={'field_1': 'value_1'}\n",
    "# is yielded *after* this tool runs and is processed by the Runner.\n",
    "```\n",
    "\n",
    "* <b><font size='3ptx'>Implications:</font></b>\n",
    "    - <b>Benefit</b>: Allows different parts of your logic within a single complex step (e.g., multiple callbacks or tool calls before the next LLM turn) to coordinate using state without waiting for a full yield/commit cycle.\n",
    "    - <b>Caveat</b>: Relying heavily on dirty reads for critical logic can be risky. <font color='darkred'>If the invocation fails before the event carrying the `state_delta` is yielded and processed by the `Runner`, the uncommitted state change will be lost</font>. For critical state transitions, ensure they are associated with an event that gets successfully processed."
   ]
  },
  {
   "cell_type": "markdown",
   "id": "e7ad0408-9491-41ae-b34b-04d858e061fd",
   "metadata": {
    "jp-MarkdownHeadingCollapsed": true
   },
   "source": [
    "#### <b>Streaming vs. Non-Streaming Output (`partial=True`)</b>\n",
    "This primarily relates to how responses from the LLM are handled, especially when using streaming generation APIs."
   ]
  },
  {
   "cell_type": "markdown",
   "id": "a85d9e8c-1f7f-4571-9dd8-a7d6df907e7f",
   "metadata": {},
   "source": [
    "* <b><font size='3ptx'>Streaming</font></b>: The LLM generates its response token-by-token or in small chunks.\n",
    "    - <b>The framework</b> (often within `BaseLlmFlow`) <b>yields multiple `Event` objects for a single conceptual response</b>. Most of these events will have `partial=True`.\n",
    "    - The `Runner`, upon receiving an event with `partial=True`, typically forwards it immediately upstream (<font color='brown'>for UI display</font>) but skips processing its actions (<font color='brown'>like `state_delta`</font>).\n",
    "    - Eventually, the framework yields a final event for that response, marked as non-partial (`partial=False` or implicitly via `turn_complete=True`).\n",
    "    - The `Runner` fully processes only this final event, committing any associated `state_delta` or `artifact_delta`.\n",
    "* <b><font size='3ptx'>Non-Streaming</font></b>: The LLM generates the entire response at once. The framework yields a single event marked as non-partial, which the `Runner` processes fully.\n",
    "* <b><font size='3ptx'>Why it Matters</font></b>: Ensures that state changes are applied atomically and only once based on the complete response from the LLM, while still allowing the UI to display text progressively as it's generated."
   ]
  },
  {
   "cell_type": "markdown",
   "id": "1a2d9bd1-4f42-4794-a046-950084a734f1",
   "metadata": {
    "jp-MarkdownHeadingCollapsed": true
   },
   "source": [
    "### <b><font color='darkgreen'>Async is Primary (`run_async`)</font></b>\n",
    "* <b><font size='3ptx'>Core Design</font></b>: The ADK Runtime is fundamentally built on asynchronous libraries (<font color='brown'>Python's [**asyncio**](https://docs.python.org/3/library/asyncio.html)</font>) to handle concurrent operations (<font color='brown'>like waiting for LLM responses or tool executions</font>) efficiently without blocking.\n",
    "* <b><font size='3ptx'>Main Entry Point</font></b>: `Runner.run_async` is the primary method for executing agent invocations. All core runnable components (<font color='brown'>Agents, specific flows</font>) use asynchronous methods internally.\n",
    "* <b><font size='3ptx'>Synchronous Convenience (run)</font></b>: A synchronous `Runner.run` method exists mainly for convenience (<font color='brown'>e.g., in simple scripts or testing environments</font>). However, internally, `Runner.run` typically just calls `Runner.run_async` and manages the async event loop execution for you.\n",
    "* <b><font size='3ptx'>Developer Experience</font></b>: We recommend designing your applications (<font color='brown'>e.g., web servers using ADK</font>) to be asynchronous for best performance. In Python, this means using [**asyncio**](https://docs.python.org/3/library/asyncio.html).\n",
    "* <b><font size='3ptx'>Sync Callbacks/Tools</font></b>: The ADK framework supports both asynchronous and synchronous functions for tools and callbacks.\n",
    "    - <b>Blocking I/O</b>: For long-running synchronous I/O operations, the framework attempts to prevent stalls. Python ADK may use [`asyncio.to_thread`](https://docs.python.org/3/library/asyncio-task.html#asyncio.to_thread).\n",
    "    - <b>CPU-Bound Work</b>: Purely CPU-intensive synchronous tasks will still block their execution thread in both environments.\n",
    "\n",
    "Understanding these behaviors helps you write more robust ADK applications and debug issues related to state consistency, streaming updates, and asynchronous execution."
   ]
  },
  {
   "cell_type": "markdown",
   "id": "71994766-2d2e-4019-afc6-50e8bd5507d0",
   "metadata": {
    "jp-MarkdownHeadingCollapsed": true
   },
   "source": [
    "## <b><font color='darkblue'>Runtime Configuration</font></b>\n",
    "([source](https://google.github.io/adk-docs/runtime/runconfig/)) <font size='3ptx'><b>`RunConfig` defines runtime behavior and options for agents in the ADK. It controls speech and streaming settings, function calling, artifact saving, and limits on LLM calls.</b></font>\n",
    "\n",
    "When constructing an agent run, you can pass a RunConfig to customize how the agent interacts with models, handles audio, and streams responses. <b>By default, no streaming is enabled and inputs aren’t retained as artifacts. Use `RunConfig` to override these defaults.</b>"
   ]
  },
  {
   "cell_type": "markdown",
   "id": "bd2be663-7980-4eac-8483-b55d872820d9",
   "metadata": {},
   "source": [
    "### <b><font color='darkgreen'>Class Definition</font>\n",
    "([source](https://google.github.io/adk-docs/runtime/runconfig/#class-definition)) <font size='3ptx'><b>The `RunConfig` class holds configuration parameters for an agent's runtime behavior.</b></font>"
   ]
  },
  {
   "cell_type": "markdown",
   "id": "a2d7686e-682f-4434-8ed6-c4d7b772f03f",
   "metadata": {},
   "source": [
    "Python ADK uses [**Pydantic**](https://docs.pydantic.dev/latest/) for this validation.\n",
    "\n",
    "```python\n",
    "class RunConfig(BaseModel):\n",
    "    \"\"\"Configs for runtime behavior of agents.\"\"\"\n",
    "\n",
    "    model_config = ConfigDict(\n",
    "        extra='forbid',\n",
    "    )\n",
    "\n",
    "    speech_config: Optional[types.SpeechConfig] = None\n",
    "    response_modalities: Optional[list[str]] = None\n",
    "    save_input_blobs_as_artifacts: bool = False\n",
    "    support_cfc: bool = False\n",
    "    streaming_mode: StreamingMode = StreamingMode.NONE\n",
    "    output_audio_transcription: Optional[types.AudioTranscriptionConfig] = None\n",
    "    max_llm_calls: int = 500\n",
    "```"
   ]
  },
  {
   "cell_type": "markdown",
   "id": "c7728551-bb47-4f61-bb37-a064288f3140",
   "metadata": {},
   "source": [
    "### <b><font color='darkgreen'>Runtime Parameters</font></b>\n",
    "\n",
    "| Parameter | Python Type | Default | Description |\n",
    "|---|---|---|---|\n",
    "| speech_config | Optional[types.SpeechConfig] | None | Configures speech synthesis (voice, language) using the `SpeechConfig` type. |\n",
    "| response_modalities | Optional[list[str]] | None | List of desired output modalities (e.g., Python: `[\"TEXT\", \"AUDIO\"]`)). |\n",
    "| save_input_blobs_as_artifacts | bool | False | If `true`, saves input blobs (e.g., uploaded files) as run artifacts for debugging/auditing. |\n",
    "| streaming_mode | StreamingMode | `StreamingMode.NONE` | Sets the streaming behavior: NONE (default), SSE (server-sent events), or BIDI (bi-directional). |\n",
    "| output_audio_transcription | `Optional[types.AudioTranscriptionConfig]` | None | Configures transcription of generated audio output using the `AudioTranscriptionConfig` type. |\n",
    "| max_llm_calls | int | 500 | Limits total LLM calls per run. 0 or negative means unlimited (warned); `sys.maxsize` raises `ValueError`. |\n",
    "| support_cfc | bool | False | Python: Enables Compositional Function Calling. Requires streaming_mode=SSE and uses the LIVE API. Experimental. |"
   ]
  },
  {
   "cell_type": "markdown",
   "id": "ed804cb9-d609-4762-bdf1-cb86f3867792",
   "metadata": {},
   "source": [
    "#### <b>`speech_config`</b>\n",
    "<b>Speech configuration settings for live agents with audio capabilities</b>. The `SpeechConfig` class has the following structure:\n",
    "\n",
    "```python\n",
    "class SpeechConfig(_common.BaseModel):\n",
    "    \"\"\"The speech generation configuration.\"\"\"\n",
    "\n",
    "    voice_config: Optional[VoiceConfig] = Field(\n",
    "        default=None,\n",
    "        description=\"\"\"The configuration for the speaker to use.\"\"\",\n",
    "    )\n",
    "    language_code: Optional[str] = Field(\n",
    "        default=None,\n",
    "        description=\"\"\"Language code (ISO 639. e.g. en-US) for the speech synthesization.\n",
    "        Only available for Live API.\"\"\",\n",
    "    )\n",
    "```\n",
    "\n",
    "The `voice_config` parameter uses the `VoiceConfig` class:\n",
    "\n",
    "```python\n",
    "class VoiceConfig(_common.BaseModel):\n",
    "    \"\"\"The configuration for the voice to use.\"\"\"\n",
    "\n",
    "    prebuilt_voice_config: Optional[PrebuiltVoiceConfig] = Field(\n",
    "        default=None,\n",
    "        description=\"\"\"The configuration for the speaker to use.\"\"\",\n",
    "    )\n",
    "```\n",
    "\n",
    "And `PrebuiltVoiceConfig` has the following structure:\n",
    "\n",
    "```python\n",
    "class PrebuiltVoiceConfig(_common.BaseModel):\n",
    "    \"\"\"The configuration for the prebuilt speaker to use.\"\"\"\n",
    "\n",
    "    voice_name: Optional[str] = Field(\n",
    "        default=None,\n",
    "        description=\"\"\"The name of the prebuilt voice to use.\"\"\",\n",
    "    )\n",
    "```\n",
    "\n",
    "These nested configuration classes allow you to specify:\n",
    "* **voice_config**: The name of the prebuilt voice to use (in the `PrebuiltVoiceConfig`)\n",
    "* **language_code**: ISO 639 language code (e.g., \"en-US\") for speech synthesis\n",
    "\n",
    "When implementing voice-enabled agents, configure these parameters to control how your agent sounds when speaking."
   ]
  },
  {
   "cell_type": "markdown",
   "id": "fb8fae60-487a-4b22-a1fa-e001b70b707a",
   "metadata": {},
   "source": [
    "#### <b>`response_modalities`</b>\n",
    "<b>Defines the output modalities for the agent</b>. If not set, defaults to `AUDIO`. Response modalities determine how the agent communicates with users through various channels (e.g., text, audio)."
   ]
  },
  {
   "cell_type": "markdown",
   "id": "40516872-570a-4286-bdf7-b51a7872a712",
   "metadata": {},
   "source": [
    "#### <b>`save_input_blobs_as_artifacts`</b>\n",
    "<b>When enabled, input blobs will be saved as artifacts during agent execution</b>. This is useful for debugging and audit purposes, allowing developers to review the exact data received by agents."
   ]
  },
  {
   "cell_type": "markdown",
   "id": "f9ce90a6-6954-4ba5-a823-ac2ad284bf44",
   "metadata": {},
   "source": [
    "#### <b>`support_cfc`</b>\n",
    "(experimental) <b>Enables Compositional Function Calling (CFC) support</b>. Only applicable when using StreamingMode.SSE. When enabled, the LIVE API will be invoked as only it supports CFC functionality."
   ]
  },
  {
   "cell_type": "markdown",
   "id": "7ca8493f-5798-403e-babb-9ceaf78436b3",
   "metadata": {},
   "source": [
    "#### <b>`streaming_mode`</b>\n",
    "<b>Configures the streaming behavior of the agent</b>. Possible values:\n",
    "* **StreamingMode.NONE**: No streaming; responses delivered as complete units\n",
    "* **StreamingMode.SSE**: Server-Sent Events streaming; one-way streaming from server to client\n",
    "* **StreamingMode.BIDI**: Bidirectional streaming; simultaneous communication in both directions\n",
    "\n",
    "Streaming modes affect both performance and user experience. <b>SSE streaming lets users see partial responses as they're generated, while BIDI streaming enables real-time interactive experiences</b>."
   ]
  },
  {
   "cell_type": "markdown",
   "id": "3f1e73a9-1568-4148-adbc-6511446c4597",
   "metadata": {},
   "source": [
    "#### <b>`output_audio_transcription`</b>\n",
    "<b>Configuration for transcribing audio outputs from live agents with audio response capability</b>. This enables automatic transcription of audio responses for accessibility, record-keeping, and multi-modal applications."
   ]
  },
  {
   "cell_type": "markdown",
   "id": "a0541bc9-76b7-4a01-b30a-87a5c3eecb41",
   "metadata": {},
   "source": [
    "#### <b>`max_llm_calls`</b>\n",
    "<b>Sets a limit on the total number of LLM calls for a given agent run.</b>\n",
    "* Values greater than 0 and less than sys.maxsize: Enforces a bound on LLM calls\n",
    "* Values less than or equal to 0: Allows unbounded LLM calls (not recommended for production)\n",
    "\n",
    "This parameter prevents excessive API usage and potential runaway processes. <b>Since LLM calls often incur costs and consume resources, setting appropriate limits is crucial</b>."
   ]
  },
  {
   "cell_type": "markdown",
   "id": "7ea5c5cc-d62a-43f7-b73e-aa2b20114a15",
   "metadata": {
    "jp-MarkdownHeadingCollapsed": true
   },
   "source": [
    "### <b><font color='darkgreen'>Validation Rules</font></b>\n",
    "The <b><font color='blue'>RunConfig</font></b> class validates its parameters to ensure proper agent operation. For the `max_llm_calls` parameter specifically:\n",
    "1. Extremely large values (like `sys.maxsize` in Python) are typically disallowed to prevent issues.\n",
    "2. Values of zero or less will usually trigger a warning about unlimited LLM interactions."
   ]
  },
  {
   "cell_type": "markdown",
   "id": "bf816443-7eee-4ca8-b722-afc725aa2ab9",
   "metadata": {
    "jp-MarkdownHeadingCollapsed": true
   },
   "source": [
    "### <b><font color='darkgreen'>Examples</font></b>"
   ]
  },
  {
   "cell_type": "markdown",
   "id": "a3b425df-ddb4-4139-8ddb-7f82cbae1f20",
   "metadata": {},
   "source": [
    "#### <b>Basic runtime configuration</b>\n",
    "```python\n",
    "from google.genai.adk import RunConfig, StreamingMode\n",
    "\n",
    "config = RunConfig(\n",
    "    streaming_mode=StreamingMode.NONE,\n",
    "    max_llm_calls=100\n",
    ")\n",
    "```\n",
    "\n",
    "This configuration creates a non-streaming agent with a limit of 100 LLM calls, <b>suitable for simple task-oriented agents where complete responses are preferable</b>."
   ]
  },
  {
   "cell_type": "markdown",
   "id": "46c31bf7-24ca-4d43-8193-89f2e90b9ead",
   "metadata": {},
   "source": [
    "#### <b>Enabling streaming</b>\n",
    "```python\n",
    "from google.genai.adk import RunConfig, StreamingMode\n",
    "\n",
    "config = RunConfig(\n",
    "    streaming_mode=StreamingMode.SSE,\n",
    "    max_llm_calls=200\n",
    ")\n",
    "```\n",
    "\n",
    "Using SSE streaming allows users to see responses as they're generated, <b>providing a more responsive feel for chatbots and assistants</b>."
   ]
  },
  {
   "cell_type": "markdown",
   "id": "7d542254-367e-40be-a2aa-0e1b5c2d78e3",
   "metadata": {},
   "source": [
    "#### <b>Enabling speech support</b>\n",
    "```python\n",
    "from google.genai.adk import RunConfig, StreamingMode\n",
    "from google.genai import types\n",
    "\n",
    "config = RunConfig(\n",
    "    speech_config=types.SpeechConfig(\n",
    "        language_code=\"en-US\",\n",
    "        voice_config=types.VoiceConfig(\n",
    "            prebuilt_voice_config=types.PrebuiltVoiceConfig(\n",
    "                voice_name=\"Kore\"\n",
    "            )\n",
    "        ),\n",
    "    ),\n",
    "    response_modalities=[\"AUDIO\", \"TEXT\"],\n",
    "    save_input_blobs_as_artifacts=True,\n",
    "    support_cfc=True,\n",
    "    streaming_mode=StreamingMode.SSE,\n",
    "    max_llm_calls=1000,\n",
    ")\n",
    "```\n",
    "\n",
    "This comprehensive example configures an agent with:\n",
    "* Speech capabilities using the \"Kore\" voice (US English)\n",
    "* Both audio and text output modalities\n",
    "* Artifact saving for input blobs (useful for debugging)\n",
    "* Experimental CFC support enabled (Python only)\n",
    "* SSE streaming for responsive interaction\n",
    "* A limit of 1000 LLM calls"
   ]
  },
  {
   "cell_type": "markdown",
   "id": "09ad8aff-43ce-482e-872d-5fbf18197ba5",
   "metadata": {},
   "source": [
    "#### <b>Enabling Experimental CFC Support</b>\n",
    "```python\n",
    "from google.genai.adk import RunConfig, StreamingMode\n",
    "\n",
    "config = RunConfig(\n",
    "    streaming_mode=StreamingMode.SSE,\n",
    "    support_cfc=True,\n",
    "    max_llm_calls=150\n",
    ")\n",
    "```\n",
    "\n",
    "Enabling Compositional Function Calling creates <b>an agent that can dynamically execute functions based on model outputs, powerful for applications requiring complex workflows</b>."
   ]
  }
 ],
 "metadata": {
  "kernelspec": {
   "display_name": "Python 3 (ipykernel)",
   "language": "python",
   "name": "python3"
  },
  "language_info": {
   "codemirror_mode": {
    "name": "ipython",
    "version": 3
   },
   "file_extension": ".py",
   "mimetype": "text/x-python",
   "name": "python",
   "nbconvert_exporter": "python",
   "pygments_lexer": "ipython3",
   "version": "3.12.9"
  }
 },
 "nbformat": 4,
 "nbformat_minor": 5
}
