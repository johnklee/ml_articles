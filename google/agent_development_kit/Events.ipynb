{
 "cells": [
  {
   "cell_type": "markdown",
   "id": "00a223ce-2df0-4575-833d-2dc74e3e2472",
   "metadata": {},
   "source": [
    "## <b><font color='darkblue'>Events</font></b>\n",
    "([source](https://google.github.io/adk-docs/events/)) <font size='3ptx'><b>Events are the fundamental units of information flow within the [Agent Development Kit](https://google.github.io/adk-docs/) (ADK).</b> They represent every significant occurrence during an agent's interaction lifecycle, from initial user input to the final response and all the steps in between. Understanding events is crucial because they are the primary way components communicate, state is managed, and control flow is directed.</font>"
   ]
  },
  {
   "cell_type": "markdown",
   "id": "899bc5fc-0054-49fb-a2a5-2458f25f83c8",
   "metadata": {
    "jp-MarkdownHeadingCollapsed": true
   },
   "source": [
    "### <b><font color='darkgreen'>What Events Are and Why They Matter</font></b>\n",
    "([source](https://google.github.io/adk-docs/events/#what-events-are-and-why-they-matter)) <font size='3ptx'><b>An `Event` in ADK is an immutable record representing a specific point in the agent's execution.</b> It captures user messages, agent replies, requests to use tools (function calls), tool results, state changes, control signals, and errors.</font>"
   ]
  },
  {
   "cell_type": "markdown",
   "id": "268246ac-8554-4beb-bf44-e9a6f3db7324",
   "metadata": {},
   "source": [
    "Technically, it's an instance of the <b><font color='blue'>google.adk.events.Event</font></b> class, which builds upon the basic `LlmResponse` structure by adding essential ADK-specific metadata and an `actions` payload. The class signature looks like:\n",
    "```python\n",
    "# Conceptual Structure of an Event (Python)\n",
    "# from google.adk.events import Event, EventActions\n",
    "# from google.genai import types\n",
    "\n",
    "# class Event(LlmResponse): # Simplified view\n",
    "#     # --- LlmResponse fields ---\n",
    "#     content: Optional[types.Content]\n",
    "#     partial: Optional[bool]\n",
    "#     # ... other response fields ...\n",
    "\n",
    "#     # --- ADK specific additions ---\n",
    "#     author: str          # 'user' or agent name\n",
    "#     invocation_id: str   # ID for the whole interaction run\n",
    "#     id: str              # Unique ID for this specific event\n",
    "#     timestamp: float     # Creation time\n",
    "#     actions: EventActions # Important for side-effects & control\n",
    "#     branch: Optional[str] # Hierarchy path\n",
    "#     # ...\n",
    "```"
   ]
  },
  {
   "cell_type": "markdown",
   "id": "c4dff44e-bbc0-4345-9d91-04e2f35b8692",
   "metadata": {},
   "source": [
    "`Events` are central to ADK's operation for several key reasons:\n",
    "* <b><font size='3ptx'>Communication</font></b>: They serve as the standard message format between the user interface, the `Runner`, agents, the LLM, and tools. Everything flows as an `Event`.\n",
    "* <b><font size='3ptx'>Signaling State & Artifact Changes</font></b>: Events carry instructions for state modifications and track artifact updates. <b>The `SessionService` uses these signals to ensure persistence</b>. In Python changes are signaled via `event.actions.state_delta` and `event.actions.artifact_delta`.\n",
    "* <b><font size='3ptx'>Control Flow</font></b>: Specific fields like `event.actions.transfer_to_agent` or `event.actions.escalate` act as signals that direct the framework, determining which agent runs next or if a loop should terminate.\n",
    "* <b><font size='3ptx'>History & Observability</font></b>: The sequence of events recorded in `session.events` provides <b>a complete, chronological history of an interaction, invaluable for debugging, auditing, and understanding agent behavior step-by-step</b>.\n",
    "\n",
    "In essence, the entire process, from a user's query to the agent's final answer, is orchestrated through the generation, interpretation, and processing of `Event` objects."
   ]
  },
  {
   "cell_type": "markdown",
   "id": "32f3d75c-db5b-4920-b1d0-51cc8768d92f",
   "metadata": {
    "jp-MarkdownHeadingCollapsed": true
   },
   "source": [
    "### <b><font color='darkgreen'>Understanding and Using Events</font></b>\n",
    "([source](https://google.github.io/adk-docs/events/#understanding-and-using-events)) <font size='3ptx'><b>As a developer, you'll primarily interact with the stream of events yielded by the `Runner`.</b> Here's how to understand and extract information from them:</font>"
   ]
  },
  {
   "cell_type": "markdown",
   "id": "e651a6c0-4664-4785-b7b0-2c1353066e89",
   "metadata": {
    "jp-MarkdownHeadingCollapsed": true
   },
   "source": [
    "#### <b>Identifying Event Origin and Type</b>\n",
    "Quickly determine what an event represents by checking:\n",
    "* <b><font size='3ptx'>Who sent it? (`event.author`)</font></b>\n",
    "    - `'user'`: Indicates input directly from the end-user.\n",
    "    - `'AgentName'`: Indicates output or action from a specific agent (e.g., `'WeatherAgent'`, `'SummarizerAgent'`).\n",
    "* <b><font size='3ptx'>What's the main payload? (`event.content` and `event.content.parts`)</font></b>\n",
    "    - <b>Text</b>: Indicates a conversational message. For Python, check if `event.content.parts[0].text` exists.\n",
    "    - <b>Tool Call Request</b>: Check `event.get_function_calls()`. If not empty, the LLM is asking to execute one or more tools. Each item in the list has `.name` and `.args`.\n",
    "    - <b>Tool Result</b>: Check `event.get_function_responses()`. If not empty, this event carries the result(s) from tool execution(s). Each item has `.name` and `.response` (<font color='brown'>the dictionary returned by the tool</font>). Note: For history structuring, the `role` inside the `content` is often `'user'`, but the event `author` is typically the agent that requested the tool call.\n",
    "* <b><font size='3ptx'>Is it streaming output? (`event.partial`)</font></b> Indicates whether this is an incomplete chunk of text from the LLM.\n",
    "    - `True`: More text will follow.\n",
    "    - `False` or `None`: This part of the content is complete (<font color='brown'>though the overall turn might not be finished if `turn_complete` is also false</font>)."
   ]
  },
  {
   "cell_type": "markdown",
   "id": "2c150920-42cd-4579-89f8-08a2810a2155",
   "metadata": {},
   "source": [
    "Below is the sample code for validation introduced above:\n",
    "```python\n",
    "# Pseudocode: Basic event identification (Python)\n",
    "# async for event in runner.run_async(...):\n",
    "#     print(f\"Event from: {event.author}\")\n",
    "#\n",
    "#     if event.content and event.content.parts:\n",
    "#         if event.get_function_calls():\n",
    "#             print(\"  Type: Tool Call Request\")\n",
    "#         elif event.get_function_responses():\n",
    "#             print(\"  Type: Tool Result\")\n",
    "#         elif event.content.parts[0].text:\n",
    "#             if event.partial:\n",
    "#                 print(\"  Type: Streaming Text Chunk\")\n",
    "#             else:\n",
    "#                 print(\"  Type: Complete Text Message\")\n",
    "#         else:\n",
    "#             print(\"  Type: Other Content (e.g., code result)\")\n",
    "#     elif event.actions and (event.actions.state_delta or event.actions.artifact_delta):\n",
    "#         print(\"  Type: State/Artifact Update\")\n",
    "#     else:\n",
    "#         print(\"  Type: Control Signal or Other\")\n",
    "```"
   ]
  },
  {
   "cell_type": "markdown",
   "id": "834a8bec-e19f-48c0-bcb7-1ea10331a7f4",
   "metadata": {
    "jp-MarkdownHeadingCollapsed": true
   },
   "source": [
    "#### <b>Extracting Key Information</b>\n",
    "Once you know the event type, next step is to access the relevant data:\n",
    "* <b><font size='3ptx'>Text Content</font></b>: Always check for the presence of content and parts before accessing text. In Python its `text = event.content.parts[0].text`.\n",
    "* <b><font size='3ptx'>Function Call Details</font></b>:\n",
    "\n",
    "```python\n",
    "calls = event.get_function_calls()\n",
    "if calls:\n",
    "    for call in calls:\n",
    "        tool_name = call.name\n",
    "        arguments = call.args # This is usually a dictionary\n",
    "        print(f\"  Tool: {tool_name}, Args: {arguments}\")\n",
    "        # Application might dispatch execution based on this\n",
    "```\n",
    "\n",
    "* <b><font size='3ptx'>Function Response Details</font></b>:\n",
    "\n",
    "```python\n",
    "responses = event.get_function_responses()\n",
    "if responses:\n",
    "    for response in responses:\n",
    "        tool_name = response.name\n",
    "        result_dict = response.response # The dictionary returned by the tool\n",
    "        print(f\"  Tool Result: {tool_name} -> {result_dict}\")\n",
    "```\n",
    "\n",
    "* <b><font size='3ptx'>Identifiers</font></b>:\n",
    "    - `event.id`: Unique ID for this specific event instance.\n",
    "    - `event.invocation_id`: ID for the entire user-request-to-final-response cycle this event belongs to. Useful for logging and tracing."
   ]
  },
  {
   "cell_type": "markdown",
   "id": "56de5fd9-a298-4ad2-98e0-51622fec4ffb",
   "metadata": {},
   "source": [
    "#### <b>Detecting Actions and Side Effects</b>\n",
    "The `event.actions` object signals changes that occurred or should occur. Always check if `event.actions` and it's fields/ methods exists before accessing them.\n",
    "\n",
    "* <b><font size='3ptx'>State Changes</font></b>: Gives you a collection of key-value pairs that were modified in the session state during the step that produced this event.\n",
    "\n",
    "```python\n",
    "if event.actions and event.actions.state_delta:\n",
    "    print(f\"  State changes: {event.actions.state_delta}\")\n",
    "    # Update local UI or application state if necessary\n",
    "```\n",
    "\n",
    "* <b><font size='3ptx'>Artifact Saves</font></b>: Gives you a collection indicating which artifacts were saved and their new version number (<font color='brown'>or relevant `Part` information</font>).\n",
    "\n",
    "```python\n",
    "if event.actions and event.actions.artifact_delta:\n",
    "    print(f\"  Artifacts saved: {event.actions.artifact_delta}\")\n",
    "    # UI might refresh an artifact list\n",
    "```\n",
    "\n",
    "* <b><font size='3ptx'>Control Flow Signals</font></b>: Check boolean flags or string values:\n",
    "    - <b>event.actions.transfer_to_agent (`string`)</b>: Control should pass to the named agent.\n",
    "    - <b>event.actions.escalate (`bool`)</b>: A loop should terminate.\n",
    "    - <b>event.actions.skip_summarization (`bool`)</b>: A tool result should not be summarized by the LLM.\n",
    "\n",
    "```python\n",
    "if event.actions:\n",
    "    if event.actions.transfer_to_agent:\n",
    "        print(f\"  Signal: Transfer to {event.actions.transfer_to_agent}\")\n",
    "    if event.actions.escalate:\n",
    "        print(\"  Signal: Escalate (terminate loop)\")\n",
    "    if event.actions.skip_summarization:\n",
    "        print(\"  Signal: Skip summarization for tool result\")\n",
    "```"
   ]
  },
  {
   "cell_type": "markdown",
   "id": "5c4df13a-9ead-40ec-978b-5d483007a2ea",
   "metadata": {},
   "source": [
    "#### <b>Determining if an `Event` is a \"Final\" Response</b>\n",
    "Use the built-in helper method `event.is_final_response()` to identify events suitable for display as the agent's complete output for a turn.\n",
    "* <b><font size='3ptx'>Purpose</font></b>: Filters out intermediate steps (<font color='brown'>like tool calls, partial streaming text, internal state updates</font>) from the final user-facing message(s).\n",
    "* <b><font size='3ptx'>When `True`?</font></b>\n",
    "    - The event contains a tool result (`function_response`) and `skip_summarization` is `True`.\n",
    "    - The event contains a tool call (`function_call`) for a tool marked as `is_long_running=True`.\n",
    "        - `event.longRunningToolIds().isPresent() && !event.longRunningToolIds().get().isEmpty() is true`.\n",
    "    - OR, all of the following are met:\n",
    "        - No function calls (`get_function_calls()` is empty).\n",
    "        - No function responses (`get_function_responses()` is empty).\n",
    "        - Not a partial stream chunk (`partial` is not `True`).\n",
    "        - Doesn't end with a code execution result that might need further processing/display.\n",
    "* <b><font size='3ptx'>Usage</font></b>: Filter the event stream in your application logic.\n",
    "\n",
    "```python\n",
    "# Pseudocode: Handling final responses in application (Python)\n",
    "# full_response_text = \"\"\n",
    "# async for event in runner.run_async(...):\n",
    "#     # Accumulate streaming text if needed...\n",
    "#     if event.partial and event.content and event.content.parts and event.content.parts[0].text:\n",
    "#         full_response_text += event.content.parts[0].text\n",
    "#\n",
    "#     # Check if it's a final, displayable event\n",
    "#     if event.is_final_response():\n",
    "#         print(\"\\n--- Final Output Detected ---\")\n",
    "#         if event.content and event.content.parts and event.content.parts[0].text:\n",
    "#              # If it's the final part of a stream, use accumulated text\n",
    "#              final_text = full_response_text + (event.content.parts[0].text if not event.partial else \"\")\n",
    "#              print(f\"Display to user: {final_text.strip()}\")\n",
    "#              full_response_text = \"\" # Reset accumulator\n",
    "#         elif event.actions and event.actions.skip_summarization and event.get_function_responses():\n",
    "#              # Handle displaying the raw tool result if needed\n",
    "#              response_data = event.get_function_responses()[0].response\n",
    "#              print(f\"Display raw tool result: {response_data}\")\n",
    "#         elif hasattr(event, 'long_running_tool_ids') and event.long_running_tool_ids:\n",
    "#              print(\"Display message: Tool is running in background...\")\n",
    "#         else:\n",
    "#              # Handle other types of final responses if applicable\n",
    "#              print(\"Display: Final non-textual response or signal.\")\n",
    "```\n",
    "\n",
    "By carefully examining these aspects of an event, you can build robust applications that react appropriately to the rich information flowing through the ADK system."
   ]
  },
  {
   "cell_type": "markdown",
   "id": "c4d516dc-48b4-4a2d-9a67-ebb67812efb2",
   "metadata": {
    "jp-MarkdownHeadingCollapsed": true
   },
   "source": [
    "### <b><font color='darkgreen'>How Events Flow: Generation and Processing</font></b>\n",
    "([source](https://google.github.io/adk-docs/events/#how-events-flow-generation-and-processing)) <font size='3ptx'><b>Events are created at different points and processed systematically by the framework.</b> Understanding this flow helps clarify how actions and history are managed.</font>"
   ]
  },
  {
   "cell_type": "markdown",
   "id": "815f104d-57f7-4472-aee9-d7355e3568f7",
   "metadata": {},
   "source": [
    "#### <b>Generation Sources:</b>\n",
    "* <b><font size='3ptx'>User Input</font></b>: The `Runner` typically wraps initial user messages or mid-conversation inputs into an `Event` with `author='user'`.\n",
    "* <b><font size='3ptx'>Agent Logic</font></b>: Agents (`BaseAgent`, `LlmAgent`) explicitly `yield Event(...)` objects (<font color='brown'>setting `author=self.name`</font>) to communicate responses or signal actions.\n",
    "* <b><font size='3ptx'>LLM Responses</font></b>: The ADK model integration layer translates raw LLM output (<font color='brown'>text, function calls, errors</font>) into `Event` objects, authored by the calling agent.\n",
    "* <b><font size='3ptx'>Tool Results</font></b>: After a tool executes, the framework generates an `Event` containing the `function_response`. The author is typically the agent that requested the tool, while the role inside the content is set to `'user'` for the LLM history."
   ]
  },
  {
   "cell_type": "markdown",
   "id": "a1720862-f107-4d0d-bd4b-ae9e8209db4a",
   "metadata": {},
   "source": [
    "#### <b>Processing Flow</b>\n",
    "* <b><font size='3ptx'>Yield/Return</font></b>: An event is generated and yielded by its source.\n",
    "* <b><font size='3ptx'>`Runner` Receives</font></b>: The main `Runner` executing the agent receives the event.\n",
    "* <b><font size='3ptx'>`SessionService` Processing</font></b>: The `Runner` sends the event to the configured `SessionService`. This is a critical step:\n",
    "    - <b>Applies Deltas</b>: The service merges `event.actions.state_delta` into `session.state` and updates internal records based on `event.actions.artifact_delta`. (<font color='brown'>Note: The actual artifact saving usually happened earlier when `context.save_artifact` was called</font>).\n",
    "    - <b>Finalizes Metadata</b>: Assigns a unique `event.id` if not present, may update `event.timestamp`.\n",
    "    - <b>Persists to History</b>: Appends the processed event to the `session.events` list.\n",
    "* <b><font size='3ptx'>External Yield</font></b>: The `Runner` yields the processed event outwards to the calling application (<font color='brown'>e.g., the code that invoked `runner.run_async`</font>).\n",
    "\n",
    "This flow ensures that state changes and history are consistently recorded alongside the communication content of each event."
   ]
  },
  {
   "cell_type": "markdown",
   "id": "d70dfa83-5e97-4ef6-a946-e3be65add8b7",
   "metadata": {
    "jp-MarkdownHeadingCollapsed": true
   },
   "source": [
    "### <b><font color='darkgreen'>Common Event Examples (Illustrative Patterns)</font></b>\n",
    "([source](https://google.github.io/adk-docs/events/#common-event-examples-illustrative-patterns)) Here are concise examples of typical events you might see in the stream:"
   ]
  },
  {
   "cell_type": "markdown",
   "id": "e2725b67-6e1f-474c-a8f6-7c349e141e1e",
   "metadata": {},
   "source": [
    "#### <b>User Input</b>:\n",
    "```python\n",
    "{\n",
    "  \"author\": \"user\",\n",
    "  \"invocation_id\": \"e-xyz...\",\n",
    "  \"content\": {\"parts\": [{\"text\": \"Book a flight to London for next Tuesday\"}]}\n",
    "  // actions usually empty\n",
    "}\n",
    "```"
   ]
  },
  {
   "cell_type": "markdown",
   "id": "c3c281ff-9ede-40c9-9512-6da033601c3c",
   "metadata": {},
   "source": [
    "#### <b>Agent Final Text Response: (`is_final_response() == True`)</b>\n",
    "```python\n",
    "{\n",
    "  \"author\": \"TravelAgent\",\n",
    "  \"invocation_id\": \"e-xyz...\",\n",
    "  \"content\": {\"parts\": [{\"text\": \"Okay, I can help with that. Could you confirm the departure city?\"}]},\n",
    "  \"partial\": false,\n",
    "  \"turn_complete\": true\n",
    "  // actions might have state delta, etc.\n",
    "}\n",
    "```"
   ]
  },
  {
   "cell_type": "markdown",
   "id": "39db86e7-b2e8-43c2-85de-fe15a83fdb24",
   "metadata": {},
   "source": [
    "#### <b>Agent Streaming Text Response: (`is_final_response() == False`)</b>\n",
    "```python\n",
    "{\n",
    "  \"author\": \"SummaryAgent\",\n",
    "  \"invocation_id\": \"e-abc...\",\n",
    "  \"content\": {\"parts\": [{\"text\": \"The document discusses three main points:\"}]},\n",
    "  \"partial\": true,\n",
    "  \"turn_complete\": false\n",
    "}\n",
    "// ... more partial=True events follow ...\n",
    "```"
   ]
  },
  {
   "cell_type": "markdown",
   "id": "4f8620f9-81f4-46eb-81a9-e15ab410b7c9",
   "metadata": {},
   "source": [
    "#### <b>Tool Call Request (by LLM): (`is_final_response() == False`)</b>\n",
    "```python\n",
    "{\n",
    "  \"author\": \"TravelAgent\",\n",
    "  \"invocation_id\": \"e-xyz...\",\n",
    "  \"content\": {\"parts\": [{\"function_call\": {\"name\": \"find_airports\", \"args\": {\"city\": \"London\"}}}]}\n",
    "  // actions usually empty\n",
    "}\n",
    "```"
   ]
  },
  {
   "cell_type": "markdown",
   "id": "ac6b39ca-98d1-428f-8769-5aa78151ccb2",
   "metadata": {},
   "source": [
    "#### <b>Tool Result Provided (to LLM): (`is_final_response() depends on skip_summarization`)</b>\n",
    "\n",
    "```python\n",
    "{\n",
    "  \"author\": \"TravelAgent\", // Author is agent that requested the call\n",
    "  \"invocation_id\": \"e-xyz...\",\n",
    "  \"content\": {\n",
    "    \"role\": \"user\", // Role for LLM history\n",
    "    \"parts\": [{\"function_response\": {\"name\": \"find_airports\", \"response\": {\"result\": [\"LHR\", \"LGW\", \"STN\"]}}}]\n",
    "  }\n",
    "  // actions might have skip_summarization=True\n",
    "}\n",
    "```"
   ]
  },
  {
   "cell_type": "markdown",
   "id": "66c9315a-70c2-43f7-9b70-13a2bec377da",
   "metadata": {},
   "source": [
    "#### <b>State/Artifact Update Only: (`is_final_response() == False`)</b>\n",
    "```python\n",
    "{\n",
    "  \"author\": \"InternalUpdater\",\n",
    "  \"invocation_id\": \"e-def...\",\n",
    "  \"content\": null,\n",
    "  \"actions\": {\n",
    "    \"state_delta\": {\"user_status\": \"verified\"},\n",
    "    \"artifact_delta\": {\"verification_doc.pdf\": 2}\n",
    "  }\n",
    "}\n",
    "```"
   ]
  },
  {
   "cell_type": "markdown",
   "id": "9dac6e5f-9b73-4b69-83a8-81dd5c0599d5",
   "metadata": {},
   "source": [
    "#### <b>Agent Transfer Signal: (`is_final_response() == False`)</b>\n",
    "```python\n",
    "{\n",
    "  \"author\": \"OrchestratorAgent\",\n",
    "  \"invocation_id\": \"e-789...\",\n",
    "  \"content\": {\"parts\": [{\"function_call\": {\"name\": \"transfer_to_agent\", \"args\": {\"agent_name\": \"BillingAgent\"}}}]},\n",
    "  \"actions\": {\"transfer_to_agent\": \"BillingAgent\"} // Added by framework\n",
    "}\n",
    "```"
   ]
  },
  {
   "cell_type": "markdown",
   "id": "b1a7ee50-6aa6-425b-82be-b4fe1c679010",
   "metadata": {},
   "source": [
    "#### <b>Loop Escalation Signal: (`is_final_response() == False`)</b>\n",
    "```python\n",
    "{\n",
    "  \"author\": \"CheckerAgent\",\n",
    "  \"invocation_id\": \"e-loop...\",\n",
    "  \"content\": {\"parts\": [{\"text\": \"Maximum retries reached.\"}]}, // Optional content\n",
    "  \"actions\": {\"escalate\": true}\n",
    "}\n",
    "```"
   ]
  },
  {
   "cell_type": "markdown",
   "id": "c853b940-1bff-403d-947b-735a9f2675ef",
   "metadata": {
    "jp-MarkdownHeadingCollapsed": true
   },
   "source": [
    "### <b><font color='darkgreen'>Additional Context and Event Details</font></b>\n",
    "([source](https://google.github.io/adk-docs/events/#additional-context-and-event-details)) <font size='3ptx'><b>Beyond the core concepts, here are a few specific details about context and events that are important for certain use cases:</b></font>"
   ]
  },
  {
   "cell_type": "markdown",
   "id": "0ddeca62-37aa-4ac0-9205-a289997d55c5",
   "metadata": {},
   "source": [
    "#### <b>1. `ToolContext.function_call_id` (Linking Tool Actions):</b>\n",
    "* When an LLM requests a tool (`FunctionCall`), that request has an ID. The `ToolContext` provided to your tool function includes this `function_call_id`.\n",
    "* <b><font size='3ptx'>Importance</font></b>: This ID is crucial for linking actions like authentication back to the specific tool request that initiated them, especially if multiple tools are called in one turn. The framework uses this ID internally."
   ]
  },
  {
   "cell_type": "markdown",
   "id": "6a5c293d-be14-42b4-ad93-15462ca27ebf",
   "metadata": {},
   "source": [
    "#### <b>2. How State/Artifact Changes are Recorded:</b>\n",
    "* When you modify state or save an artifact using `CallbackContext` or `ToolContext`, these changes aren't immediately written to persistent storage.\n",
    "* Instead, they populate the `state_delta` and `artifact_delta` fields within the <b><font color='blue'>EventActions</font></b> object.\n",
    "* This <b><font color='blue'>EventActions</font></b> object is attached to the next event generated after the change (<font color='brown'>e.g., the agent's response or a tool result event</font>).\n",
    "* The `SessionService.append_event` method reads these deltas from the incoming event and applies them to the session's persistent state and artifact records. This ensures changes are tied chronologically to the event stream."
   ]
  },
  {
   "cell_type": "markdown",
   "id": "ba6d845a-5f01-46d2-9e76-65b80e55dd5b",
   "metadata": {},
   "source": [
    "#### <b>3. State Scope Prefixes (`app:`, `user:`, `temp:`):</b>\n",
    "* When managing state via `context.state`, you can optionally use prefixes\n",
    "    - `app:my_setting`: Suggests state relevant to the entire application (<font color='brown'>requires a persistent `SessionService`</font>).\n",
    "    - `user:user_preference`: Suggests state relevant to the specific user across sessions (<font color='brown'>requires a persistent `SessionService`</font>).\n",
    "    - `temp:intermediate_result` or no prefix: Typically session-specific or temporary state for the current invocation.\n",
    "* The underlying `SessionService` determines how these prefixes are handled for persistence."
   ]
  },
  {
   "cell_type": "markdown",
   "id": "d54e70ba-d43a-42cb-8868-13c508201be1",
   "metadata": {},
   "source": [
    "#### <b>4. Error Events:</b>\n",
    "* An `Event` can represent an error. Check the `event.error_code` and `event.error_message` fields (<font color='brown'>inherited from `LlmResponse`</font>).\n",
    "* Errors might originate from the LLM (<font color='brown'>e.g., safety filters, resource limits</font>) or potentially be packaged by the framework if a tool fails critically. Check tool `FunctionResponse` content for typical tool-specific errors.\n",
    "\n",
    "```python\n",
    "// Example Error Event (conceptual)\n",
    "{\n",
    "  \"author\": \"LLMAgent\",\n",
    "  \"invocation_id\": \"e-err...\",\n",
    "  \"content\": null,\n",
    "  \"error_code\": \"SAFETY_FILTER_TRIGGERED\",\n",
    "  \"error_message\": \"Response blocked due to safety settings.\",\n",
    "  \"actions\": {}\n",
    "}\n",
    "```\n",
    "\n",
    "These details provide a more complete picture for advanced use cases involving tool authentication, state persistence scope, and error handling within the event stream."
   ]
  },
  {
   "cell_type": "markdown",
   "id": "aa5cf6c3-6de5-4a8f-a112-0d4911296cc4",
   "metadata": {
    "jp-MarkdownHeadingCollapsed": true
   },
   "source": [
    "### <b><font color='darkgreen'>Best Practices for Working with Events</font></b>\n",
    "([source](https://google.github.io/adk-docs/events/#best-practices-for-working-with-events)) <b><font size='3ptx'>To use events effectively in your ADK applications:</font></b>"
   ]
  },
  {
   "cell_type": "markdown",
   "id": "8dc71101-b124-4548-ade8-785386a68d5c",
   "metadata": {},
   "source": [
    "* <b><font size='3ptx'>Clear Authorship</font></b>: When building custom agents, ensure correct attribution for agent actions in the history. The framework generally handles authorship correctly for LLM/tool events.\n",
    "    - Use `yield Event(author=self.name, ...)` in `BaseAgent` subclasses.\n",
    " \n",
    "* <b><font size='3ptx'>Semantic Content & Actions</font></b>: Use `event.content` for the core message/data (<font color='brown'>text, function call/response</font>). Use `event.actions` specifically for signaling side effects (<font color='brown'>state/artifact deltas</font>) or control flow (<font color='brown'>transfer, escalate, skip_summarization</font>).\n",
    "* <b><font size='3ptx'>Idempotency Awareness</font></b>: Understand that the SessionService is responsible for applying the state/artifact changes signaled in event.actions. While ADK services aim for consistency, <b>consider potential downstream effects if your application logic re-processes events</b>.\n",
    "\n",
    "* <b><font size='3ptx'>Use `is_final_response()`</font></b>: Rely on this helper method in your application/UI layer to identify complete, user-facing text responses. Avoid manually replicating its logic.\n",
    "\n",
    "* <b><font size='3ptx'>Leverage History</font></b>: The session's event list is your primary debugging tool. <b>Examine the sequence of authors, content, and actions to trace execution and diagnose issues</b>.\n",
    "\n",
    "* <b><font size='3ptx'>Use Metadata</font></b>: Use `invocation_id` to correlate all events within a single user interaction. Use `event.id` to reference specific, unique occurrences.\n",
    "\n",
    "Treating events as structured messages with clear purposes for their content and actions is key to building, debugging, and managing complex agent behaviors in ADK."
   ]
  }
 ],
 "metadata": {
  "kernelspec": {
   "display_name": "Python 3 (ipykernel)",
   "language": "python",
   "name": "python3"
  },
  "language_info": {
   "codemirror_mode": {
    "name": "ipython",
    "version": 3
   },
   "file_extension": ".py",
   "mimetype": "text/x-python",
   "name": "python",
   "nbconvert_exporter": "python",
   "pygments_lexer": "ipython3",
   "version": "3.12.9"
  }
 },
 "nbformat": 4,
 "nbformat_minor": 5
}
