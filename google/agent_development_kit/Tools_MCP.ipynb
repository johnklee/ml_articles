{
 "cells": [
  {
   "cell_type": "markdown",
   "id": "253d7523-3d66-421e-8037-acedf1171197",
   "metadata": {},
   "source": [
    "## <b><font color='darkblue'>Model Context Protocol Tools</font></b>\n",
    "([source](https://google.github.io/adk-docs/tools/mcp-tools/)) <b><font size='3ptx'>This guide walks you through two ways of integrating Model Context Protocol (MCP) with ADK.</font></b>"
   ]
  },
  {
   "cell_type": "code",
   "execution_count": 8,
   "id": "2a1c5080-95e7-491f-9bb5-e1f8d5ff33b7",
   "metadata": {},
   "outputs": [],
   "source": [
    "from IPython.display import display, Markdown, Latex\n",
    "\n",
    "def show_source_code(src_path: str):\n",
    "    source_code = !cat $src_path\n",
    "    display(Markdown(f\"\"\"\n",
    "```python\n",
    "{'\\n'.join(source_code)}\n",
    "```\"\"\"))"
   ]
  },
  {
   "cell_type": "markdown",
   "id": "3610bebe-9fb4-4057-a425-64795cfc3168",
   "metadata": {
    "jp-MarkdownHeadingCollapsed": true
   },
   "source": [
    "### <b><font color='darkgreen'>What is Model Context Protocol (MCP)?</font></b>\n",
    "([source](https://google.github.io/adk-docs/tools/mcp-tools/#what-is-model-context-protocol-mcp)) <font size='3ptx'><b>The [Model Context Protocol](https://modelcontextprotocol.io/docs/getting-started/intro) (MCP) is an open standard designed to standardize how Large Language Models (LLMs) like Gemini and Claude communicate with external applications, data sources, and tools.</b>  Think of it as a universal connection mechanism that simplifies how LLMs obtain context, execute actions, and interact with various systems.</font>"
   ]
  },
  {
   "cell_type": "markdown",
   "id": "9d56c6e1-a3a9-42e4-a45a-8dfb44068878",
   "metadata": {},
   "source": [
    "MCP follows a client-server architecture, defining how **data** (<font color='brown'>resources</font>), **interactive templates** (<font color='brown'>prompts</font>), and **actionable functions** (<font color='brown'>tools</font>) are exposed by an MCP server and consumed by an MCP client (<font color='brown'>which could be an LLM host application or an AI agent</font>).\n",
    "\n",
    "This guide covers two primary integration patterns:\n",
    "1. <b><font size='3ptx'>Using Existing MCP Servers within ADK</font></b>: An ADK agent acts as an MCP client, leveraging tools provided by external MCP servers.\n",
    "2. <b><font size='3ptx'>Exposing ADK Tools via an MCP Server</font></b>: Building an MCP server that wraps ADK tools, making them accessible to any MCP client."
   ]
  },
  {
   "cell_type": "markdown",
   "id": "ce677d36-59bf-4109-9d55-2cb8aaa64737",
   "metadata": {
    "jp-MarkdownHeadingCollapsed": true
   },
   "source": [
    "### <b><font color='darkgreen'>Prerequisites</font></b>\n",
    "Before you begin, ensure you have the following set up:\n",
    "* <b><font size='3ptx'>Set up ADK</font></b>: Follow the standard ADK [setup instructions](https://google.github.io/adk-docs/get-started/quickstart/#venv-install) in the quickstart.\n",
    "* <b><font size='3ptx'>Setup `Node.js` and `npx`</font></b>: Many community MCP servers are distributed as `Node.js` packages and run using npx. Install `Node.js` (which includes npx) if you haven't already. For details, see https://nodejs.org/en.\n",
    "* <b><font size='3ptx'>Verify Installations</font></b>: Confirm adk and npx are in your PATH within the activated virtual environment:"
   ]
  },
  {
   "cell_type": "code",
   "execution_count": 1,
   "id": "4ae8128e-28c1-4af6-8b36-83d8b7d1ac4f",
   "metadata": {},
   "outputs": [
    {
     "name": "stdout",
     "output_type": "stream",
     "text": [
      "/usr/local/google/home/johnkclee/Github/ml_articles/env/bin/adk\n"
     ]
    }
   ],
   "source": [
    "!which adk"
   ]
  },
  {
   "cell_type": "code",
   "execution_count": 2,
   "id": "e06eb88f-fb57-4c53-873b-7148ebc29f93",
   "metadata": {},
   "outputs": [
    {
     "name": "stdout",
     "output_type": "stream",
     "text": [
      "/usr/local/google/home/johnkclee/.nvm/versions/node/v22.16.0/bin/npx\n"
     ]
    }
   ],
   "source": [
    "!which npx"
   ]
  },
  {
   "cell_type": "markdown",
   "id": "03409c1d-5f1a-46aa-91dc-32d065991f41",
   "metadata": {
    "jp-MarkdownHeadingCollapsed": true
   },
   "source": [
    "### <b><font color='darkgreen'>1. Using MCP servers with ADK agents (ADK as an MCP client) in `adk web`</font></b>\n",
    "([source](https://google.github.io/adk-docs/tools/mcp-tools/#1-using-mcp-servers-with-adk-agents-adk-as-an-mcp-client-in-adk-web)) <font size='3ptx'><b>This section demonstrates how to integrate tools from external MCP (Model Context Protocol) servers into your ADK agents.</b> This is the most common integration pattern when your ADK agent needs to use capabilities provided by an existing service that exposes an MCP interface.</font>"
   ]
  },
  {
   "cell_type": "markdown",
   "id": "0b10490e-59b7-4f06-b4f3-fb037395c136",
   "metadata": {},
   "source": [
    "<font size='3ptx'>You will see how the <b><font color='blue'>MCPToolset</font></b> class can be directly added to your agent's tools list, enabling seamless connection to an MCP server, discovery of its tools, and making them available for your agent to use</font>. These examples primarily focus on interactions within the `adk web` development environment."
   ]
  },
  {
   "cell_type": "markdown",
   "id": "1789433e-1472-45fe-884e-50eaa857686a",
   "metadata": {},
   "source": [
    "#### <b>`MCPToolset` class</b>\n",
    "<font size='3ptx'>The <b><font color='blue'>MCPToolset</font></b> class is ADK's primary mechanism for integrating tools from an MCP server</font>. When you include an <b><font color='blue'>MCPToolset</font></b> instance in your agent's `tools` list, it automatically handles the interaction with the specified MCP server. Here's how it works:"
   ]
  },
  {
   "cell_type": "markdown",
   "id": "ec99cde0-8700-4158-8620-b6ef3849c42c",
   "metadata": {},
   "source": [
    "1. <b><font size='3ptx'>Connection Management</font></b>: On initialization, <b><font color='blue'>MCPToolset</font></b> establishes and manages the connection to the MCP server. This can be a local server process (<font color='brown'>using `StdioConnectionParams` for communication over standard input/output</font>) or a remote server (<font color='brown'>using `SseConnectionParams` for Server-Sent Events</font>). The toolset also handles the graceful shutdown of this connection when the agent or application terminates.\n",
    "2. <b><font size='3ptx'>Tool Discovery & Adaptation</font></b>: Once connected, <b><font color='blue'>MCPToolset</font></b> queries the MCP server for its available tools (<font color='brown'>via the `list_tools` MCP method</font>). It then converts the schemas of these discovered MCP tools into ADK-compatible <b><font color='blue'>BaseTool</font></b> instances.\n",
    "3. <b><font size='3ptx'>Exposure to Agent</font></b>: These adapted tools are then made available to your `LlmAgent` as if they were native ADK tools.\n",
    "4. <b><font size='3ptx'>Proxying Tool Calls</font></b>: When your `LlmAgent` decides to use one of these tools, <b><font color='blue'>MCPToolset</font></b> transparently proxies the call (<font color='brown'>using the `call_tool` MCP method</font>) to the MCP server, sends the necessary arguments, and returns the server's response back to the agent.\n",
    "5. <b><font size='3ptx'>Filtering (Optional)</font></b>: You can use the tool_filter parameter when creating an MCPToolset to select a specific subset of tools from the MCP server, rather than exposing all of them to your agent.\n",
    "\n",
    "The following examples demonstrate how to use <b><font color='blue'>MCPToolset</font></b> within the adk web development environment. For scenarios where you need more fine-grained control over the MCP connection lifecycle or are not using `adk web`, refer to the \"**Using MCP Tools in your own Agent out of `adk web`**\" section later in this page"
   ]
  },
  {
   "cell_type": "markdown",
   "id": "e1fb3298-b31a-4831-86df-55596f89ec14",
   "metadata": {},
   "source": [
    "#### <b>Example 1: File System MCP Server</b>\n",
    "This example demonstrates connecting to a local MCP server that provides file system operations."
   ]
  },
  {
   "cell_type": "markdown",
   "id": "bc19b276-cf28-410e-90f6-91949c39e0ed",
   "metadata": {
    "jp-MarkdownHeadingCollapsed": true
   },
   "source": [
    "##### <b>Step 1</b>: Define your Agent with <b><font color='blue'>MCPToolset</font></b>\n",
    "Create an <font color='olive'>agent.py</font> file (<font color='brown'>e.g., in</font> <font color='olive'>./mcp_examples/mcp_filesystem/agent.py</font>). The <b><font color='blue'>MCPToolset</font></b> is instantiated directly within the tools list of your `LlmAgent`:\n",
    "\n",
    "* <b><font color='olive'>./mcp_examples/mcp_filesystem/agent.py</font></b>\n",
    "```python\n",
    "import os # Required for path operations\n",
    "from google.adk.agents import LlmAgent\n",
    "from google.adk.tools.mcp_tool.mcp_toolset import MCPToolset, StdioConnectionParams, StdioServerParameters\n",
    "\n",
    "# It's good practice to define paths dynamically if possible,\n",
    "# or ensure the user understands the need for an ABSOLUTE path.\n",
    "# For this example, we'll construct a path relative to this file,\n",
    "# assuming '/path/to/your/folder' is in the same directory as agent.py.\n",
    "# REPLACE THIS with an actual absolute path if needed for your setup.\n",
    "TARGET_FOLDER_PATH = os.path.join(os.path.dirname(os.path.abspath(__file__)), \"/path/to/your/folder\")\n",
    "# Ensure TARGET_FOLDER_PATH is an absolute path for the MCP server.\n",
    "# If you created ./mcp_examples/mcp_filesystem/your_folder,\n",
    "\n",
    "root_agent = LlmAgent(\n",
    "    model='gemini-2.0-flash',\n",
    "    name='filesystem_assistant_agent',\n",
    "    instruction='Help the user manage their files. You can list files, read files, etc.',\n",
    "    tools=[\n",
    "        MCPToolset(\n",
    "            connection_params=StdioConnectionParams(\n",
    "                server_params = StdioServerParameters(\n",
    "                    command='npx',\n",
    "                    args=[\n",
    "                        \"-y\",  # Argument for npx to auto-confirm install\n",
    "                        \"@modelcontextprotocol/server-filesystem\",\n",
    "                        # IMPORTANT: This MUST be an ABSOLUTE path to a folder the\n",
    "                        # npx process can access.\n",
    "                        # Replace with a valid absolute path on your system.\n",
    "                        # For example: \"/Users/youruser/accessible_mcp_files\"\n",
    "                        # or use a dynamically constructed absolute path:\n",
    "                        os.path.abspath(TARGET_FOLDER_PATH),\n",
    "                    ],\n",
    "                ),\n",
    "            ),\n",
    "            # Optional: Filter which tools from the MCP server are exposed\n",
    "            # tool_filter=['list_directory', 'read_file']\n",
    "        )\n",
    "    ],\n",
    ")\n",
    "```"
   ]
  },
  {
   "cell_type": "markdown",
   "id": "b5c7be80-a72b-46b4-ae29-27d5fd53b1a4",
   "metadata": {},
   "source": [
    "##### <b>Step 2</b>: Create an <font color='olive'>\\_\\_init__.py</font> file\n",
    "Ensure you have an `__init__.py` in the same directory as `agent.py` to make it a discoverable Python package for ADK:\n",
    "```python\n",
    "# ./mcp_examples/mcp_filesystem/__init__.py\n",
    "from . import agent\n",
    "```"
   ]
  },
  {
   "cell_type": "markdown",
   "id": "dc2d87ee-5f99-4589-8bc2-98c134fb4009",
   "metadata": {},
   "source": [
    "##### <b>Step 3</b>: Run `adk web` and Interact\n",
    "Navigate to the parent directory of `mcp_filesystem` (e.g., `mcp_examples`) in your terminal and run:\n",
    "```shell\n",
    "$ ls\n",
    "mcp_filesystem\n",
    "\n",
    "$ adk web\n",
    "```\n",
    "\n",
    "<b><font color='orange'>Notes.</font></b>\n",
    "> When hitting the `_make_subprocess_transport NotImplementedError`, consider using a`dk web --no-reload` instead."
   ]
  },
  {
   "cell_type": "markdown",
   "id": "442b7c9c-fa8e-4e8e-a9c3-7c5dc3e42758",
   "metadata": {},
   "source": [
    "Once the ADK Web UI loads in your browser:\n",
    "1. Select the `mcp_filesystem` from the agent dropdown.\n",
    "2. Try prompts like:\n",
    "    - \"`List files in the current directory.`\"\n",
    "    - \"`Can you read the file named sample.txt?`\" (<font color='brown'>assuming you created it in `TARGET_FOLDER_PATH`</font>).\n",
    "    - \"`What is the content of another_file.md?`\"\n",
    "\n",
    "\n",
    "You should see the agent interacting with the MCP file system server, and the server's responses (<font color='brown'>file listings, file content</font>) relayed through the agent. The adk web console (<font color='brown'>terminal where you ran the command</font>) might also show logs from the npx process if it outputs to stderr.\n",
    "![ui](images/tools_mcp_1.png)"
   ]
  },
  {
   "cell_type": "markdown",
   "id": "d9d3b90b-0a6b-4c24-ab3d-027210d68543",
   "metadata": {
    "jp-MarkdownHeadingCollapsed": true
   },
   "source": [
    "#### <b>Example 2: Google Maps MCP Server</b>\n",
    "This example demonstrates connecting to the Google Maps MCP server. ([more](https://google.github.io/adk-docs/tools/mcp-tools/#example-2-google-maps-mcp-server))"
   ]
  },
  {
   "cell_type": "markdown",
   "id": "3ba71840-ee3d-48c3-98f9-4a46ed610940",
   "metadata": {},
   "source": [
    "### <b><font color='darkgreen'>2. Building an MCP server with ADK tools (MCP server exposing ADK)</font></b>\n",
    "([source](https://google.github.io/adk-docs/tools/mcp-tools/#2-building-an-mcp-server-with-adk-tools-mcp-server-exposing-adk)) <font size='3ptx'><b>This pattern allows you to wrap existing ADK tools and make them available to any standard MCP client application. </b>The example in this section exposes the ADK `load_web_page` tool through a custom-built MCP server.</font>"
   ]
  },
  {
   "cell_type": "markdown",
   "id": "bfe45a6b-a272-4955-b526-0f0f2ec32224",
   "metadata": {},
   "source": [
    "#### <b>Summary of steps</b>\n",
    "You will create a **standard Python MCP server application** using the `mcp` library. Within this server, you will:"
   ]
  },
  {
   "cell_type": "markdown",
   "id": "97f96c46-2558-4b82-b96b-f52c75a9eb70",
   "metadata": {},
   "source": [
    "1. <b><font size='3ptx'>Instantiate</font></b> the ADK tool(s) you want to expose (<font color='brown'>e.g., `FunctionTool(load_web_page)`</font>).\n",
    "2. <b><font size='3ptx'>Implement</font></b> the MCP server's `@app.list_tools()` handler to advertise the ADK tool(s). This involves converting the ADK tool definition to the MCP schema using the `adk_to_mcp_tool_type` utility from <b><font color='blue'>google.adk.tools.mcp_tool.conversion_utils</font></b>.\n",
    "3. <b><font size='3ptx'>Implement</font></b> the MCP server's `@app.call_tool()` handler. This handler will:\n",
    "     - Receive tool call requests from MCP clients.\n",
    "     - Identify if the request targets one of your wrapped ADK tools.\n",
    "     - Execute the ADK tool's `.run_async()` method.\n",
    "     - Format the ADK tool's result into an MCP-compliant response (e.g., `mcp.types.TextContent`)."
   ]
  },
  {
   "cell_type": "markdown",
   "id": "e342cf76-5596-4115-ac4c-bfd5f1aa048c",
   "metadata": {},
   "source": [
    "#### <b>Prerequisites</b>\n",
    "Install the MCP server library in the same Python environment as your ADK installation:"
   ]
  },
  {
   "cell_type": "code",
   "execution_count": 6,
   "id": "e3517bb4-f527-4ea7-bbbc-73851670300a",
   "metadata": {},
   "outputs": [
    {
     "name": "stdout",
     "output_type": "stream",
     "text": [
      "fastmcp==2.11.2\n",
      "mcp==1.12.0\n"
     ]
    }
   ],
   "source": [
    "#!pip install mcp\n",
    "!pip freeze | grep -P \"(mcp=)\""
   ]
  },
  {
   "cell_type": "markdown",
   "id": "c36c1275-5efc-4284-b284-d617d9b6db61",
   "metadata": {},
   "source": [
    "#### <b>Step 1: Create the MCP Server Script</b>\n",
    "Create a new Python file for your MCP server, for example, <font color='olive'>my_adk_mcp_server.py</font>."
   ]
  },
  {
   "cell_type": "markdown",
   "id": "9b03176a-9457-4b39-91b6-674b1f82950d",
   "metadata": {},
   "source": [
    "#### <b>Step 2: Implement the Server Logic</b>\n",
    "Add the following code to `my_adk_mcp_server.py`. This script sets up an MCP server that exposes the ADK `load_web_page` tool."
   ]
  },
  {
   "cell_type": "code",
   "execution_count": 10,
   "id": "1fdcfe8f-5f56-445a-9964-ce0349c2c5b7",
   "metadata": {},
   "outputs": [
    {
     "data": {
      "text/markdown": [
       "\n",
       "```python\n",
       "#!/usr/bin/env python\n",
       "import asyncio\n",
       "import json\n",
       "import os\n",
       "from dotenv import load_dotenv\n",
       "\n",
       "# MCP Server Imports\n",
       "from mcp import types as mcp_types # Use alias to avoid conflict\n",
       "from mcp.server.lowlevel import Server, NotificationOptions\n",
       "from mcp.server.models import InitializationOptions\n",
       "import mcp.server.stdio # For running as a stdio server\n",
       "\n",
       "# ADK Tool Imports\n",
       "from google.adk.tools.function_tool import FunctionTool\n",
       "from google.adk.tools.load_web_page import load_web_page # Example ADK tool\n",
       "# ADK <-> MCP Conversion Utility\n",
       "from google.adk.tools.mcp_tool.conversion_utils import adk_to_mcp_tool_type\n",
       "\n",
       "# --- Load Environment Variables (If ADK tools need them, e.g., API keys) ---\n",
       "_ = load_dotenv(find_dotenv(os.path.expanduser('~/.env'))) # read local .env file\n",
       "\n",
       "\n",
       "# --- Prepare the ADK Tool ---\n",
       "# Instantiate the ADK tool you want to expose.\n",
       "# This tool will be wrapped and called by the MCP server.\n",
       "print(\"Initializing ADK load_web_page tool...\")\n",
       "adk_tool_to_expose = FunctionTool(load_web_page)\n",
       "print(f\"ADK tool '{adk_tool_to_expose.name}' initialized and ready to be exposed via MCP.\")\n",
       "# --- End ADK Tool Prep ---\n",
       "\n",
       "\n",
       "# --- MCP Server Setup ---\n",
       "print(\"Creating MCP Server instance...\")\n",
       "# Create a named MCP Server instance using the mcp.server library\n",
       "app = Server(\"adk-tool-exposing-mcp-server\")\n",
       "\n",
       "\n",
       "# Implement the MCP server's handler to list available tools\n",
       "@app.list_tools()\n",
       "async def list_mcp_tools() -> list[mcp_types.Tool]:\n",
       "  \"\"\"MCP handler to list tools this server exposes.\"\"\"\n",
       "  print(\"MCP Server: Received list_tools request.\")\n",
       "  # Convert the ADK tool's definition to the MCP Tool schema format\n",
       "  mcp_tool_schema = adk_to_mcp_tool_type(adk_tool_to_expose)\n",
       "  print(f\"MCP Server: Advertising tool: {mcp_tool_schema.name}\")\n",
       "  return [mcp_tool_schema]\n",
       "\n",
       "\n",
       "# Implement the MCP server's handler to execute a tool call\n",
       "@app.call_tool()\n",
       "async def call_mcp_tool(\n",
       "    name: str, arguments: dict\n",
       ") -> list[mcp_types.Content]: # MCP uses mcp_types.Content\n",
       "  \"\"\"MCP handler to execute a tool call requested by an MCP client.\"\"\"\n",
       "  print(f\"MCP Server: Received call_tool request for '{name}' with args: {arguments}\")\n",
       "\n",
       "  # Check if the requested tool name matches our wrapped ADK tool\n",
       "  if name == adk_tool_to_expose.name:\n",
       "    try:\n",
       "      # Execute the ADK tool's run_async method.\n",
       "      # Note: tool_context is None here because this MCP server is\n",
       "      # running the ADK tool outside of a full ADK Runner invocation.\n",
       "      # If the ADK tool requires ToolContext features (like state or auth),\n",
       "      # this direct invocation might need more sophisticated handling.\n",
       "      adk_tool_response = await adk_tool_to_expose.run_async(\n",
       "          args=arguments,\n",
       "          tool_context=None,\n",
       "      )\n",
       "      print(f\"MCP Server: ADK tool '{name}' executed. Response: {adk_tool_response}\")\n",
       "\n",
       "      # Format the ADK tool's response (often a dict) into an MCP-compliant format.\n",
       "      # Here, we serialize the response dictionary as a JSON string within TextContent.\n",
       "      # Adjust formatting based on the ADK tool's output and client needs.\n",
       "      response_text = json.dumps(adk_tool_response, indent=2)\n",
       "      # MCP expects a list of mcp_types.Content parts\n",
       "      return [mcp_types.TextContent(type=\"text\", text=response_text)]\n",
       "\n",
       "    except Exception as e:\n",
       "      print(f\"MCP Server: Error executing ADK tool '{name}': {e}\")\n",
       "      # Return an error message in MCP format\n",
       "      error_text = json.dumps({\"error\": f\"Failed to execute tool '{name}': {str(e)}\"})\n",
       "      return [mcp_types.TextContent(type=\"text\", text=error_text)]\n",
       "  else:\n",
       "    # Handle calls to unknown tools\n",
       "    print(f\"MCP Server: Tool '{name}' not found/exposed by this server.\")\n",
       "    error_text = json.dumps({\"error\": f\"Tool '{name}' not implemented by this server.\"})\n",
       "    return [mcp_types.TextContent(type=\"text\", text=error_text)]\n",
       "\n",
       "\n",
       "# --- MCP Server Runner ---\n",
       "async def run_mcp_stdio_server():\n",
       "  \"\"\"Runs the MCP server, listening for connections over standard input/output.\"\"\"\n",
       "  # Use the stdio_server context manager from the mcp.server.stdio library\n",
       "  async with mcp.server.stdio.stdio_server() as (read_stream, write_stream):\n",
       "    print(\"MCP Stdio Server: Starting handshake with client...\")\n",
       "    await app.run(\n",
       "        read_stream,\n",
       "        write_stream,\n",
       "        InitializationOptions(\n",
       "            server_name=app.name, # Use the server name defined above\n",
       "            server_version=\"0.1.0\",\n",
       "            capabilities=app.get_capabilities(\n",
       "                # Define server capabilities - consult MCP docs for options\n",
       "                notification_options=NotificationOptions(),\n",
       "                experimental_capabilities={},\n",
       "            ),\n",
       "        ),\n",
       "    )\n",
       "    print(\"MCP Stdio Server: Run loop finished or client disconnected.\")\n",
       "\n",
       "\n",
       "if __name__ == \"__main__\":\n",
       "  print(\"Launching MCP Server to expose ADK tools via stdio...\")\n",
       "  try:\n",
       "    asyncio.run(run_mcp_stdio_server())\n",
       "  except KeyboardInterrupt:\n",
       "    print(\"\\nMCP Server (stdio) stopped by user.\")\n",
       "  except Exception as e:\n",
       "    print(f\"MCP Server (stdio) encountered an error: {e}\")\n",
       "  finally:\n",
       "    print(\"MCP Server (stdio) process exiting.\")\n",
       "# --- End MCP Server ---\n",
       "```"
      ],
      "text/plain": [
       "<IPython.core.display.Markdown object>"
      ]
     },
     "metadata": {},
     "output_type": "display_data"
    }
   ],
   "source": [
    "show_source_code('my_adk_mcp_server.py')"
   ]
  },
  {
   "cell_type": "markdown",
   "id": "db5c24b7-cd59-4893-9a7a-987a5bfa9ea7",
   "metadata": {},
   "source": [
    "#### <b>Step 3: Test your Custom MCP Server with an ADK Agent</b>\n",
    "Now, create an ADK agent that will act as a client to the MCP server you just built. This ADK agent will use <b><font color='blue'>MCPToolset</font></b> to connect to your <font color='olive'>my_adk_mcp_server.py script</font>. Create an `agent.py` (<font color='brown'>e.g., in</font> <font color='olive'>./mcp_examples/mcp_with_wrapped_adk_tool/agent.py</font>):"
   ]
  },
  {
   "cell_type": "code",
   "execution_count": 11,
   "id": "cfccf6a6-3a98-468c-a608-eb59f4f3a397",
   "metadata": {},
   "outputs": [
    {
     "data": {
      "text/markdown": [
       "\n",
       "```python\n",
       "#!/usr/bin/env python\n",
       "import os\n",
       "import pathlib\n",
       "\n",
       "from google.adk.agents import LlmAgent\n",
       "from google.adk.tools.mcp_tool.mcp_toolset import MCPToolset, StdioConnectionParams, StdioServerParameters\n",
       "\n",
       "Path = pathlib.Path\n",
       "\n",
       "# IMPORTANT: Replace this with the ABSOLUTE path to your my_adk_mcp_server.py script\n",
       "PATH_TO_YOUR_MCP_SERVER_SCRIPT = str(\n",
       "    Path(os.path.dirname(os.path.abspath(__file__))) /\n",
       "    Path('my_adk_mcp_server.py'))\n",
       "\n",
       "\n",
       "if not os.path.isfile(PATH_TO_YOUR_MCP_SERVER_SCRIPT):\n",
       "  raise Exception(\n",
       "      f'MCP server script does not exist: {PATH_TO_YOUR_MCP_SERVER_SCRIPT}')\n",
       "\n",
       "\n",
       "root_agent = LlmAgent(\n",
       "    model='gemini-2.0-flash',\n",
       "    name='web_reader_mcp_client_agent',\n",
       "    instruction=(\n",
       "        \"Use the 'load_web_page' tool to fetch content from a URL provided by \"\n",
       "        \"the user.\"),\n",
       "    tools=[\n",
       "        MCPToolset(\n",
       "            connection_params=StdioConnectionParams(\n",
       "                server_params = StdioServerParameters(\n",
       "                    command='python', # Command to run your MCP server script\n",
       "                    args=[PATH_TO_YOUR_MCP_SERVER_SCRIPT], # Argument is the path to the script\n",
       "                )\n",
       "            )\n",
       "            # tool_filter=['load_web_page'] # Optional: ensure only specific tools are loaded\n",
       "        )\n",
       "    ],\n",
       ")\n",
       "```"
      ],
      "text/plain": [
       "<IPython.core.display.Markdown object>"
      ]
     },
     "metadata": {},
     "output_type": "display_data"
    }
   ],
   "source": [
    "show_source_code('mcp_examples/mcp_with_wrapped_adk_tool/agent.py')"
   ]
  },
  {
   "cell_type": "markdown",
   "id": "c02ad6ea-ca6b-4224-a2a6-04e362f7a6c1",
   "metadata": {},
   "source": [
    "And an `__init__.py` in the same directory:\n",
    "```python\n",
    "from . import agent\n",
    "```"
   ]
  },
  {
   "cell_type": "markdown",
   "id": "508cba15-27a5-44b0-966d-4d8168a078f0",
   "metadata": {},
   "source": [
    "To run the test:\n",
    "1. <b><font size='3ptx'>Start your custom MCP server</font></b> (optional, for separate observation): You can run your `my_adk_mcp_server.py` directly in one terminal to see its logs: `python3 /path/to/your/my_adk_mcp_server.py`\n",
    "2. <b><font size='3ptx'>Run `adk web` for the client agent</font></b>: Navigate to the parent directory of `mcp_with_wrapped_adk_tool` and run:\n",
    "```shell\n",
    "$ adk web\n",
    "```\n",
    "\n",
    "3. <b><font size='3ptx'>Interact in the ADK Web UI</font></b>:\n",
    "    - Select the `mcp_with_wrapped_adk_tool`.\n",
    "    - Try a prompt like: \"`Load the content from https://example.com`\"\n",
    "\n",
    "This example demonstrates how ADK tools can be encapsulated within an MCP server, making them accessible to a broader range of MCP-compliant clients, not just ADK agents. Refer to the [documentation](https://modelcontextprotocol.io/quickstart/server#core-mcp-concepts), to try it out with Claude Desktop."
   ]
  },
  {
   "cell_type": "markdown",
   "id": "319eb8aa-d771-45f8-af4c-400c735cd0d0",
   "metadata": {},
   "source": [
    "### <b><font color='darkgreen'>Using MCP Tools in your own Agent out of `adk web`</font></b>\n",
    "([source](https://google.github.io/adk-docs/tools/mcp-tools/#using-mcp-tools-in-your-own-agent-out-of-adk-web)) This section is relevant to you if:\n",
    "* You are developing your own Agent using ADK\n",
    "* And, you are NOT using `adk web`,\n",
    "* And, you are exposing the agent via your own UI"
   ]
  },
  {
   "cell_type": "markdown",
   "id": "efc0d275-ba8a-41c3-a4d3-9d1c8983636e",
   "metadata": {},
   "source": [
    "Using MCP Tools requires a different setup than using regular tools, due to the fact that specs for MCP Tools are fetched asynchronously from the MCP Server running remotely, or in another process.\n",
    "\n",
    "The following example is modified from the \"Example 1: File System MCP Server\" example above. The main differences are:\n",
    "1. Your tool and agent are created asynchronously\n",
    "2. You need to properly manage the exit stack, so that your agents and tools are destructed properly when the connection to MCP Server is closed."
   ]
  },
  {
   "cell_type": "code",
   "execution_count": 12,
   "id": "8e3b09ed-f0f2-4789-8b9e-4d84720c896f",
   "metadata": {},
   "outputs": [
    {
     "data": {
      "text/markdown": [
       "\n",
       "```python\n",
       "#!/usr/bin/env python\n",
       "import pathlib\n",
       "import os\n",
       "import asyncio\n",
       "\n",
       "from dotenv import find_dotenv, load_dotenv\n",
       "from google.genai import types\n",
       "from google.adk.agents.llm_agent import LlmAgent\n",
       "from google.adk.runners import Runner\n",
       "from google.adk.sessions import InMemorySessionService\n",
       "from google.adk.artifacts.in_memory_artifact_service import InMemoryArtifactService # Optional\n",
       "from google.adk.tools.mcp_tool.mcp_toolset import MCPToolset, SseConnectionParams, StdioConnectionParams, StdioServerParameters\n",
       "\n",
       "\n",
       "Path = pathlib.Path\n",
       "\n",
       "# --- Load Environment Variables (If ADK tools need them, e.g., API keys) ---\n",
       "_ = load_dotenv(find_dotenv(os.path.expanduser('~/.env'))) # read local .env file\n",
       "\n",
       "\n",
       "# IMPORTANT: Replace this with the ABSOLUTE path to your my_adk_mcp_server.py script\n",
       "TARGET_FOLDER_PATH = (\n",
       "    str(Path(os.path.dirname(os.path.abspath(__file__))) / Path('mcp_examples/mcp_filesystem/test/')))\n",
       "\n",
       "\n",
       "# --- Step 1: Agent Definition ---\n",
       "async def get_agent_async():\n",
       "  \"\"\"Creates an ADK Agent equipped with tools from the MCP Server.\"\"\"\n",
       "  toolset = MCPToolset(\n",
       "      # Use StdioConnectionParams for local process communication\n",
       "      connection_params=StdioConnectionParams(\n",
       "          server_params = StdioServerParameters(\n",
       "            command='npx', # Command to run the server\n",
       "            args=[\"-y\",    # Arguments for the command\n",
       "                \"@modelcontextprotocol/server-filesystem\",\n",
       "                TARGET_FOLDER_PATH],\n",
       "          ),\n",
       "      ),\n",
       "      tool_filter=['read_file', 'list_directory'] # Optional: filter specific tools\n",
       "      # For remote servers, you would use SseConnectionParams instead:\n",
       "      # connection_params=SseConnectionParams(url=\"http://remote-server:port/path\", headers={...})\n",
       "  )\n",
       "\n",
       "  # Use in an agent\n",
       "  root_agent = LlmAgent(\n",
       "      model='gemini-2.0-flash', # Adjust model name if needed based on availability\n",
       "      name='enterprise_assistant',\n",
       "      instruction='Help user accessing their file systems',\n",
       "      tools=[toolset], # Provide the MCP tools to the ADK agent\n",
       "  )\n",
       "  return root_agent, toolset\n",
       "\n",
       "\n",
       "# --- Step 2: Main Execution Logic ---\n",
       "async def async_main():\n",
       "  session_service = InMemorySessionService()\n",
       "  # Artifact service might not be needed for this example\n",
       "  artifacts_service = InMemoryArtifactService()\n",
       "\n",
       "  session = await session_service.create_session(\n",
       "      state={}, app_name='mcp_filesystem_app', user_id='user_fs'\n",
       "  )\n",
       "\n",
       "  # TODO: Change the query to be relevant to YOUR specified folder.\n",
       "  # e.g., \"list files in the 'documents' subfolder\" or \"read the file 'notes.txt'\"\n",
       "  query = f\"list files in the path {TARGET_FOLDER_PATH}\"\n",
       "  print(f\"User Query: '{query}'\")\n",
       "  content = types.Content(role='user', parts=[types.Part(text=query)])\n",
       "\n",
       "  root_agent, toolset = await get_agent_async()\n",
       "\n",
       "  runner = Runner(\n",
       "      app_name='mcp_filesystem_app',\n",
       "      agent=root_agent,\n",
       "      artifact_service=artifacts_service, # Optional\n",
       "      session_service=session_service,\n",
       "  )\n",
       "\n",
       "  print(\"Running agent...\")\n",
       "  events_async = runner.run_async(\n",
       "      session_id=session.id, user_id=session.user_id, new_message=content\n",
       "  )\n",
       "\n",
       "  async for event in events_async:\n",
       "    if event.is_final_response():\n",
       "      final_response = event.content.parts[0].text\n",
       "      print(\"Agent Response: \", final_response)\n",
       "\n",
       "  # Cleanup is handled automatically by the agent framework\n",
       "  # But you can also manually close if needed:\n",
       "  print(\"Closing MCP server connection...\")\n",
       "  await toolset.close()\n",
       "  print(\"Cleanup complete.\")\n",
       "\n",
       "\n",
       "if __name__ == '__main__':\n",
       "  try:\n",
       "    asyncio.run(async_main())\n",
       "  except Exception as e:\n",
       "    print(f\"An error occurred: {e}\")\n",
       "```"
      ],
      "text/plain": [
       "<IPython.core.display.Markdown object>"
      ]
     },
     "metadata": {},
     "output_type": "display_data"
    }
   ],
   "source": [
    "show_source_code('tools_mcp_example1.py')"
   ]
  },
  {
   "cell_type": "markdown",
   "id": "88316d85-64a2-4475-9126-3aece5b8bfd8",
   "metadata": {},
   "source": [
    "### <b><font color='darkgreen'>Key considerations</font></b>\n",
    "When working with MCP and ADK, keep these points in mind:"
   ]
  },
  {
   "cell_type": "markdown",
   "id": "9db98996-ded9-40ca-9d10-a653d2fd9027",
   "metadata": {},
   "source": [
    "* <b><font size='3ptx'>Protocol vs. Library</font></b>: MCP is a protocol specification, defining communication rules. ADK is a Python library/framework for building agents. <b><font color='blue'>MCPToolset</font></b> bridges these by implementing the client side of the MCP protocol within the ADK framework. Conversely, building an MCP server in Python requires using the model-context-protocol library.\n",
    "* <b><font size='3ptx'>ADK Tools vs. MCP Tools</font></b>:\n",
    "    - ADK Tools (`BaseTool`, `FunctionTool`, `AgentTool`, etc.) are Python objects designed for direct use within the ADK's `LlmAgent` and `Runner`.\n",
    "    - MCP Tools are capabilities exposed by an MCP Server according to the protocol's schema. <b><font color='blue'>MCPToolset</font></b> makes these look like ADK tools to an `LlmAgent`.\n",
    "    - [**Langchain**](https://python.langchain.com/docs/integrations/tools/#all-tools)/[**CrewAI**](https://www.crewai.com/) Tools are specific implementations within those libraries, often simple functions or classes, lacking the server/protocol structure of MCP. ADK offers wrappers (LangchainTool, CrewaiTool) for some interoperability.\n",
    "* <b><font size='3ptx'>Asynchronous nature</font></b>: Both ADK and the MCP Python library are heavily based on the [**asyncio**](https://docs.python.org/3/library/asyncio.html) Python library. Tool implementations and server handlers should generally be async functions.\n",
    "* <b><font size='3ptx'>Stateful sessions (MCP)</font></b>: MCP establishes stateful, persistent connections between a client and server instance. This differs from typical stateless REST APIs.\n",
    "    - <b>Deployment</b>: This statefulness can pose challenges for scaling and deployment, especially for remote servers handling many users. The original MCP design often assumed client and server were co-located. Managing these persistent connections requires careful infrastructure considerations (<font color='brown'>e.g., load balancing, session affinity</font>).\n",
    "    - <b>ADK MCPToolset</b>: Manages this connection lifecycle. The `exit_stack` pattern shown in the examples is crucial for ensuring the connection (<font color='brown'>and potentially the server process</font>) is properly terminated when the ADK agent finishes."
   ]
  },
  {
   "cell_type": "markdown",
   "id": "7aaef5a6-dac3-4128-a876-a1f3a7f106cf",
   "metadata": {},
   "source": [
    "### <b><font color='darkgreen'>Further Resources</font></b>\n",
    "* [Model Context Protocol Documentation](https://modelcontextprotocol.io/)\n",
    "* [MCP Specification](https://modelcontextprotocol.io/specification/)\n",
    "* [MCP Python SDK & Examples](https://github.com/modelcontextprotocol/)"
   ]
  }
 ],
 "metadata": {
  "kernelspec": {
   "display_name": "Python 3 (ipykernel)",
   "language": "python",
   "name": "python3"
  },
  "language_info": {
   "codemirror_mode": {
    "name": "ipython",
    "version": 3
   },
   "file_extension": ".py",
   "mimetype": "text/x-python",
   "name": "python",
   "nbconvert_exporter": "python",
   "pygments_lexer": "ipython3",
   "version": "3.12.9"
  }
 },
 "nbformat": 4,
 "nbformat_minor": 5
}
