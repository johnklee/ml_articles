{
 "cells": [
  {
   "cell_type": "markdown",
   "id": "daedc73b-4fb0-49fd-9b9b-92c44858f5fc",
   "metadata": {},
   "source": [
    "## <b><font color='darkblue'>What is a Plugin?</font></b>\n",
    "([source](https://google.github.io/adk-docs/plugins/)) <font size='3ptx'><b>A Plugin in [Agent Development Kit](https://google.github.io/adk-docs/) (ADK) is a custom code module that can be executed at various stages of an agent workflow lifecycle using callback hooks.</b> You use Plugins for functionality that is applicable across your agent workflow. Some typical applications of Plugins are as follows:</font>"
   ]
  },
  {
   "cell_type": "markdown",
   "id": "5891b4e8-22dd-4d77-9129-c6a110424257",
   "metadata": {},
   "source": [
    "* <b><font size='3ptx'>Logging and tracing</font></b>: Create detailed logs of agent, tool, and generative AI model activity for debugging and performance analysis.\n",
    "* <b><font size='3ptx'>Policy enforcement</font></b>: Implement security guardrails, such as a function that <b>checks if users are authorized to use a specific tool and prevent its execution if they do not have permission</b>.\n",
    "* <b><font size='3ptx'>Monitoring and metrics</font></b>: Collect and export metrics on token usage, execution times, and invocation counts to monitoring systems such as Prometheus or [**Google Cloud Observability**](https://cloud.google.com/stackdriver/docs) (formerly Stackdriver)\n",
    "* <b><font size='3ptx'>Response caching</font></b>: Check if a request has been made before, so you can return a cached response, skipping expensive or time consuming AI model or tool calls.\n",
    "* <b><font size='3ptx'>Request or response modification</font></b>: Dynamically add information to AI model prompts or standardize tool output responses.\n",
    "\n",
    "<b><font color='darkred'>Caution</font></b>: Plugins are not supported by the [ADK web interface](https://google.github.io/adk-docs/evaluate/#1-adk-web-run-evaluations-via-the-web-ui). If your ADK workflow uses Plugins, you must run your workflow without the web interface."
   ]
  },
  {
   "cell_type": "code",
   "execution_count": 4,
   "id": "b156424a-b147-468d-b8b7-59d785fffe79",
   "metadata": {},
   "outputs": [],
   "source": [
    "from IPython.display import display, Markdown, Latex\n",
    "import warnings\n",
    "\n",
    "warnings.filterwarnings('ignore')\n",
    "\n",
    "def show_source_code(src_path: str):\n",
    "    source_code = !cat $src_path\n",
    "    display(Markdown(f\"\"\"\n",
    "```python\n",
    "{'\\n'.join(source_code)}\n",
    "```\"\"\"))"
   ]
  },
  {
   "cell_type": "markdown",
   "id": "b4aecce4-fc83-48ff-bb39-50a8932144fe",
   "metadata": {
    "jp-MarkdownHeadingCollapsed": true
   },
   "source": [
    "### <b><font color='darkgreen'>How do Plugins work?</font></b>\n",
    "([source](https://google.github.io/adk-docs/plugins/#how-do-plugins-work)) <font size='3ptx'><b>An ADK Plugin extends the <font color='blue'>BasePlugin</font> class and contains one or more `callback` methods, indicating where in the agent lifecycle the Plugin should be executed.</b> You integrate Plugins into an agent by registering them in your agent's `Runner` class. For more information on how and where you can trigger Plugins in your agent application, see [**Plugin callback hooks**](https://google.github.io/adk-docs/plugins/#plugin-callback-hooks).</font>"
   ]
  },
  {
   "cell_type": "markdown",
   "id": "1e657e55-9040-4c0b-bcbc-ebc032616810",
   "metadata": {},
   "source": [
    "<b><font size='3ptx'>Plugin functionality builds on [Callbacks](https://google.github.io/adk-docs/callbacks/), which is a key design element of the ADK's extensible architecture</font></b>. While a typical Agent Callback is configured on a single agent, a single tool for a specific task, a Plugin is registered once on the `Runner` and its <b>callbacks apply globally to every agent, tool, and LLM call managed by that runner</b>."
   ]
  },
  {
   "cell_type": "markdown",
   "id": "f4b19891-86f5-443f-938b-a997586a6a76",
   "metadata": {},
   "source": [
    "### <b><font color='darkgreen'>Define and register Plugins</font></b>\n",
    "([source](https://google.github.io/adk-docs/plugins/#define-and-register-plugins)) <font size='3ptx'><b>This section explains how to define Plugin classes and register them as part of your agent workflow. </b>For a complete code example, see [**Plugin Basic**](https://github.com/google/adk-python/tree/main/contributing/samples/plugin_basic) in the repository.</font>"
   ]
  },
  {
   "cell_type": "markdown",
   "id": "c81acdc1-0335-4b98-8744-a3a733d836e0",
   "metadata": {
    "jp-MarkdownHeadingCollapsed": true
   },
   "source": [
    "#### <b>Create Plugin class</b>\n",
    "Start by extending the <b><font color='blue'>BasePlugin</font></b> class and add one or more callback methods, as shown in the following code example:"
   ]
  },
  {
   "cell_type": "code",
   "execution_count": 5,
   "id": "ccdfa7da-7dc2-484c-9f0b-89ed64f2cd73",
   "metadata": {},
   "outputs": [],
   "source": [
    "from google.adk.agents.base_agent import BaseAgent\n",
    "from google.adk.agents.callback_context import CallbackContext\n",
    "from google.adk.models.llm_request import LlmRequest\n",
    "from google.adk.plugins.base_plugin import BasePlugin\n",
    "\n",
    "class CountInvocationPlugin(BasePlugin):\n",
    "  \"\"\"A custom plugin that counts agent and tool invocations.\"\"\"\n",
    "\n",
    "  def __init__(self) -> None:\n",
    "    \"\"\"Initialize the plugin with counters.\"\"\"\n",
    "    super().__init__(name=\"count_invocation\")\n",
    "    self.agent_count: int = 0\n",
    "    self.tool_count: int = 0\n",
    "    self.llm_request_count: int = 0\n",
    "\n",
    "  async def before_agent_callback(\n",
    "      self, *, agent: BaseAgent, callback_context: CallbackContext\n",
    "  ) -> None:\n",
    "    \"\"\"Count agent runs.\"\"\"\n",
    "    self.agent_count += 1\n",
    "    print(f\"[Plugin] Agent run count: {self.agent_count}\")\n",
    "\n",
    "  async def before_model_callback(\n",
    "      self, *, callback_context: CallbackContext, llm_request: LlmRequest\n",
    "  ) -> None:\n",
    "    \"\"\"Count LLM requests.\"\"\"\n",
    "    self.llm_request_count += 1\n",
    "    print(f\"[Plugin] LLM request count: {self.llm_request_count}\")"
   ]
  },
  {
   "cell_type": "markdown",
   "id": "96017638-d1ca-402f-9208-a52765deabf2",
   "metadata": {},
   "source": [
    "This example code implements callbacks for `before_agent_callback` and `before_model_callback` to count execution of these tasks during the lifecycle of the agent."
   ]
  },
  {
   "cell_type": "markdown",
   "id": "3d512847-ef69-45b5-ac24-21c7524717c7",
   "metadata": {
    "jp-MarkdownHeadingCollapsed": true
   },
   "source": [
    "#### <b>Register Plugin class</b>\n",
    "Integrate your Plugin class by registering it during your agent initialization as part of your `Runner` class, using the <font color='violet'>plugins</font> parameter. "
   ]
  },
  {
   "cell_type": "markdown",
   "id": "615764bf-e702-41c9-9b9b-e815fddd419e",
   "metadata": {},
   "source": [
    "<b>You can specify multiple Plugins with this parameter</b>. The following code example shows how to register the <b><font color='blue'>CountInvocationPlugin</font></b> plugin defined in the previous section with a simple ADK agent."
   ]
  },
  {
   "cell_type": "code",
   "execution_count": 6,
   "id": "89962736-8ea5-4f4f-830e-36c9ba97dee4",
   "metadata": {},
   "outputs": [],
   "source": [
    "from google.adk.runners import InMemoryRunner\n",
    "from google.adk import Agent\n",
    "from google.adk.tools.tool_context import ToolContext\n",
    "from google.genai import types\n",
    "import asyncio\n",
    "\n",
    "async def hello_world(tool_context: ToolContext, query: str):\n",
    "  print(f'Hello world: query is [{query}]')\n",
    "\n",
    "\n",
    "root_agent = Agent(\n",
    "    model='gemini-2.0-flash',\n",
    "    name='hello_world',\n",
    "    description='Prints hello world with user query.',\n",
    "    instruction=\"Use `hello_world` tool to print hello world and user query.\",\n",
    "    tools=[hello_world],\n",
    ")"
   ]
  },
  {
   "cell_type": "code",
   "execution_count": 7,
   "id": "f52b49a2-4864-4095-b8ec-cc8162aea447",
   "metadata": {},
   "outputs": [],
   "source": [
    "async def main():\n",
    "  \"\"\"Main entry point for the agent.\"\"\"\n",
    "  prompt = 'hello world'\n",
    "  runner = InMemoryRunner(\n",
    "      agent=root_agent,\n",
    "      app_name='test_app_with_plugin',\n",
    "      # Add your plugin here. You can add multiple plugins.\n",
    "      plugins=[CountInvocationPlugin()],\n",
    "  )\n",
    "\n",
    "  # The rest is the same as starting a regular ADK runner.\n",
    "  session = await runner.session_service.create_session(\n",
    "      user_id='user',\n",
    "      app_name='test_app_with_plugin',\n",
    "  )\n",
    "\n",
    "  async for event in runner.run_async(\n",
    "      user_id='user',\n",
    "      session_id=session.id,\n",
    "      new_message=types.Content(\n",
    "        role='user', parts=[types.Part.from_text(text=prompt)]\n",
    "      )\n",
    "  ):\n",
    "    print(f'** Got event from {event.author}')"
   ]
  },
  {
   "cell_type": "markdown",
   "id": "c6e626ad-7859-44ce-acb7-a3437d2340e0",
   "metadata": {
    "jp-MarkdownHeadingCollapsed": true
   },
   "source": [
    "#### <b>Run the agent with the Plugin</b>\n",
    "<b><font size='3ptx'>Plugins are not supported by the [ADK web interface](https://google.github.io/adk-docs/evaluate/#1-adk-web-run-evaluations-via-the-web-ui)</font></b>. If your ADK workflow uses Plugins, you must run your workflow without the web interface. For more information on running ADK agents, see the [**Quickstart**](https://google.github.io/get-started/quickstart/#run-your-agent) guide."
   ]
  },
  {
   "cell_type": "code",
   "execution_count": 8,
   "id": "1ab8b403-d549-4303-b0bb-09f8453f6f26",
   "metadata": {},
   "outputs": [
    {
     "name": "stderr",
     "output_type": "stream",
     "text": [
      "Both GOOGLE_API_KEY and GEMINI_API_KEY are set. Using GOOGLE_API_KEY.\n"
     ]
    },
    {
     "name": "stdout",
     "output_type": "stream",
     "text": [
      "[Plugin] Agent run count: 1\n",
      "[Plugin] LLM request count: 1\n"
     ]
    },
    {
     "name": "stderr",
     "output_type": "stream",
     "text": [
      "Warning: there are non-text parts in the response: ['function_call'], returning concatenated text result from text parts. Check the full candidates.content.parts accessor to get the full model response.\n",
      "Both GOOGLE_API_KEY and GEMINI_API_KEY are set. Using GOOGLE_API_KEY.\n"
     ]
    },
    {
     "name": "stdout",
     "output_type": "stream",
     "text": [
      "** Got event from hello_world\n",
      "Hello world: query is [hello world]\n",
      "** Got event from hello_world\n",
      "[Plugin] LLM request count: 2\n",
      "** Got event from hello_world\n"
     ]
    }
   ],
   "source": [
    "await main()"
   ]
  },
  {
   "cell_type": "markdown",
   "id": "874e6109-1a25-45c8-9d11-3b4911dab468",
   "metadata": {},
   "source": [
    "### <b><font color='darkgreen'>Build workflows with Plugins</font></b>\n",
    "([source](https://google.github.io/adk-docs/plugins/#build-workflows-with-plugins)) <font size='3ptx'><b>Plugin callback hooks are a mechanism for implementing logic that intercepts, modifies, and even controls the agent's execution lifecycle.</b> Each hook is a specific method in your Plugin class that you can implement to run code at a key moment. You have a choice between two modes of operation based on your hook's return value:</font>"
   ]
  },
  {
   "cell_type": "markdown",
   "id": "bc9d2a69-f12c-483b-9223-b9a1733d100d",
   "metadata": {},
   "source": [
    "* <b><font size='3ptx'>To Observe</font></b>: Implement a hook with no return value (`None`). This approach is for tasks such as logging or collecting metrics, as it allows the agent's workflow to proceed to the next step without interruption. For example, you could use `after_tool_callback` in a Plugin to log every tool's result for debugging.\n",
    "* <b><font size='3ptx'>To Intervene</font></b>: Implement a hook and return a value. <b>This approach short-circuits the workflow</b>. The `Runner` halts processing, skips any subsequent plugins and the original intended action, <b>like a Model call, and use a Plugin callback's return value as the result</b>. A common use case is implementing `before_model_callback` to return a cached <b><font color='blue'>LlmResponse</font></b>, preventing a redundant and costly API call.\n",
    "* <b><font size='3ptx'>To Amend</font></b>: Implement a hook and modify the `Context` object. <b>This approach allows you to modify the context data for the module to be executed without otherwise interrupting the execution of that module</b>. For example, adding additional, standardized prompt text for Model object execution.\n",
    "\n",
    "<b><font color='orange'>Caution</font></b>:\n",
    "> Plugin callback functions have precedence over callbacks implemented at the object level. This behavior means that Any Plugin callbacks code is executed before any Agent, Model, or Tool objects callbacks are executed. Furthermore, <b>if a Plugin-level agent callback returns any value, and not an empty (`None`) response, the Agent, Model, or Tool-level callback is not executed (skipped)</b>.\n",
    "\n",
    "* <b><font size='3ptx'>Scope</font></b>: Plugin hooks are global. <b>You register a Plugin once on the `Runner`, and its hooks apply universally to every Agent, Model, and Tool it manages</b>. In contrast, Agent Callbacks are local, configured individually on a specific agent instance.\n",
    "* <b><font size='3ptx'>Execution Order</font></b>: Plugins have precedence. <b>For any given event, the Plugin hooks always run before any corresponding Agent Callback</b>. This system behavior makes Plugins the correct architectural choice for implementing cross-cutting features like security policies, universal caching, and consistent logging across your entire application."
   ]
  },
  {
   "cell_type": "markdown",
   "id": "20617e67-cfa9-473d-84e5-285bcccf09da",
   "metadata": {},
   "source": [
    "#### <b>Agent Callbacks and Plugins</b>\n",
    "As mentioned in the previous section, there are some functional similarities between Plugins and Agent Callbacks. The following table compares the differences between Plugins and Agent Callbacks in more detail:\n",
    "\n",
    "| | Plugins | Agent Callbacks |\n",
    "| :--- | :--- | :--- |\n",
    "| **Scope** | **Global:** Apply to all agents/tools/LLMs in the `Runner`. | **Local:** Apply only to the specific agent instance they are configured on. |\n",
    "| **Primary Use Case** | **Horizontal Features:** Logging, policy, monitoring, global caching. | **Specific Agent Logic:** Modifying the behavior or state of a single agent. |\n",
    "| **Configuration** | Configure once on the `Runner`. | Configure individually on each `BaseAgent` instance. |\n",
    "| **Execution Order** | Plugin callbacks run **before** Agent Callbacks. | Agent callbacks run **after** Plugin callbacks. |"
   ]
  },
  {
   "cell_type": "markdown",
   "id": "7901722f-9e41-4eb2-a4ad-c6cf40e88ee3",
   "metadata": {},
   "source": [
    "### <b><font color='darkgreen'>Plugin callback hooks</font></b>\n",
    "([source](https://google.github.io/adk-docs/plugins/#plugin-callback-hooks)) <font size='3ptx'><b>You define when a Plugin is called with the callback functions to define in your Plugin class.</b> Callbacks are available when a user message is received, before and after an `Runner`, `Agent`, `Model`, or `Tool` is called, for `Events`, and when a `Model`, or `Tool` error occurs. These callbacks include, and take precedence over, the any callbacks defined within your `Agent`, `Model`, and `Tool` classes.</font>"
   ]
  },
  {
   "cell_type": "markdown",
   "id": "a031a5ef-d8f2-4b70-a07b-f4a6d82fe279",
   "metadata": {},
   "source": [
    "The following diagram illustrates callback points where you can attach and run Plugin functionality during your agents workflow:\n",
    "![plugin position in the working flow](https://google.github.io/adk-docs/assets/workflow-plugin-hooks.svg)\n",
    "<br/><b>Figure 1</b>. Diagram of ADK agent workflow with Plugin callback hook locations."
   ]
  },
  {
   "cell_type": "markdown",
   "id": "c4569e14-59f6-446d-905f-1f18b03cbc70",
   "metadata": {},
   "source": [
    "The following sections describe the available callback hooks for Plugins in more detail:\n",
    "* [**User Message callbacks**](#User-Message-callbacks)\n",
    "* [**Runner start callbacks**](#Runner-start-callbacks)\n",
    "* [**Agent execution callbacks**](#Agent-execution-callbacks)\n",
    "* [**Model callbacks**](#Model-callbacks)\n",
    "* [**Tool callbacks**](#Tool-callbacks)\n",
    "* [**Events callbacks**](#Event-callbacks)\n",
    "* [**Runner end callbacks**](#Runner-end-callbacks)"
   ]
  },
  {
   "cell_type": "markdown",
   "id": "8e3f8678-1ca2-4b2a-aed8-4503e00de497",
   "metadata": {
    "jp-MarkdownHeadingCollapsed": true
   },
   "source": [
    "#### <b>User Message callbacks</b>\n",
    "<b><font size='3ptx'>A User Message callback (`on_user_message_callback`) happens when a user sends a message</font></b>. The `on_user_message_callback` is the very first hook to run, giving you a chance to inspect or modify the initial input:\n",
    "* <b><font size='3ptx'>When It Runs</font></b>: This callback happens immediately after `runner.run()`, before any other processing.\n",
    "* <b><font size='3ptx'>Purpose</font></b>: The first opportunity to inspect or modify the user's raw input.\n",
    "* <b><font size='3ptx'>Flow Control</font></b>: Returns a <b><font color='blue'>types.Content object</font></b> to replace the user's original message."
   ]
  },
  {
   "cell_type": "markdown",
   "id": "9c0e5857-17cc-4cec-ad89-a607500c1bb3",
   "metadata": {},
   "source": [
    "The following code example shows the basic syntax of this callback:\n",
    "```python\n",
    "async def on_user_message_callback(\n",
    "    self,\n",
    "    *,\n",
    "    invocation_context: InvocationContext,\n",
    "    user_message: types.Content,\n",
    ") -> Optional[types.Content]:\n",
    "```"
   ]
  },
  {
   "cell_type": "markdown",
   "id": "8f663109-aa7e-4aec-9fa9-2a861784d89a",
   "metadata": {
    "jp-MarkdownHeadingCollapsed": true
   },
   "source": [
    "#### <b>Runner start callbacks</b>\n",
    "<b><font size='3ptx'>A Runner start callback (`before_run_callback`) happens when the `Runner` object takes the potentially modified user message and prepares for execution.</font></b> The `before_run_callback` fires here, allowing for global setup before any agent logic begins.\n",
    "* <b><font size='3ptx'>When It Runs</font></b>: Immediately after `runner.run()` is called, before any other processing.\n",
    "* <b><font size='3ptx'>Purpose</font></b>: The first opportunity to inspect or modify the user's raw input.\n",
    "* <b><font size='3ptx'>Flow Control</font></b>: Return a <b><font color='blue'>types.Content object</font></b> to replace the user's original message."
   ]
  },
  {
   "cell_type": "markdown",
   "id": "dd47a823-61a7-4626-a4ca-19a93f21d13f",
   "metadata": {},
   "source": [
    "The following code example shows the basic syntax of this callback:\n",
    "```python\n",
    "async def before_run_callback(\n",
    "    self, *, invocation_context: InvocationContext\n",
    ") -> Optional[types.Content]:\n",
    "```"
   ]
  },
  {
   "cell_type": "markdown",
   "id": "a64c92ad-e9b9-4445-951b-8bf979b04261",
   "metadata": {
    "jp-MarkdownHeadingCollapsed": true
   },
   "source": [
    "#### <b>Agent execution callbacks</b>\n",
    "<b><font size='3ptx'>Agent execution callbacks (`before_agent`, `after_agent`) happen when a `Runner` object invokes an agent.</font></b> The `before_agent_callback` runs immediately before the agent's main work begins. The main work encompasses the agent's entire process for handling the request, which could involve calling models or tools. After the agent has finished all its steps and prepared a result, the `after_agent_callback` runs."
   ]
  },
  {
   "cell_type": "markdown",
   "id": "7af9bba5-b282-45bf-aae6-e026353ee52a",
   "metadata": {},
   "source": [
    "<b><font color='orange'>Caution</font></b>:\n",
    "> Plugins that implement these callbacks are executed before the Agent-level callbacks are executed. Furthermore, if a Plugin-level agent callback returns anything other than a `None` or null response, the Agent-level callback is not executed (skipped).\n",
    "\n",
    "For more information about Agent callbacks defined as part of an Agent object, see [**Types of Callbacks**](https://google.github.io/adk-docs/callbacks/types-of-callbacks/#agent-lifecycle-callbacks)."
   ]
  },
  {
   "cell_type": "markdown",
   "id": "ba0860e2-ea74-4ba6-8c23-cdce8a779f47",
   "metadata": {
    "jp-MarkdownHeadingCollapsed": true
   },
   "source": [
    "#### <b>Model callbacks</b>\n",
    "<b><font size='3ptx'>Model callbacks (`before_model`, `after_model`, `on_model_error`) happen before and after a Model object executes.</font></b> The Plugins feature also supports a callback in the event of an error, as detailed below:\n",
    "* If an agent needs to call an AI model, `before_model_callback` runs first.\n",
    "* If the model call is successful, `after_model_callback` runs next.\n",
    "* If the model call fails with an exception, the `on_model_error_callback` is triggered instead, allowing for graceful recovery."
   ]
  },
  {
   "cell_type": "markdown",
   "id": "de20cb99-5d0a-4f4c-8f16-2a938da24b8d",
   "metadata": {},
   "source": [
    "<b><font color='orange'>Caution</font></b>:\n",
    "> Plugins that implement the `before_model` and `after_model` callback methods are executed before the Model-level callbacks are executed. Furthermore, if a Plugin-level model callback returns anything other than a `None` or null response, the Model-level callback is not executed (skipped)."
   ]
  },
  {
   "cell_type": "markdown",
   "id": "df349687-708f-4c11-a0a1-1db782f7e044",
   "metadata": {},
   "source": [
    "##### <b>Model on error callback details</b>\n",
    "The `on_model_error` for Model objects is only supported by the Plugins feature works as follows:\n",
    "* <b><font size='3ptx'>When It Runs</font></b>: When an exception is raised during the model call.\n",
    "* <b><font size='3ptx'>Common Use Cases</font></b>: Graceful error handling, logging the specific error, or returning a fallback response, such as \"`The AI service is currently unavailable.`\"\n",
    "* <b><font size='3ptx'>Flow Control</font></b>:\n",
    "    - Returns an <b><font color='blue'>LlmResponse</font></b> object to suppress the exception and provide a fallback result.\n",
    "    - Returns `None` to allow the original exception to be raised.\n",
    "\n",
    "<b><font color='darkred'>Note</font></b>: If the execution of the Model object returns a <b><font color='blue'>LlmResponse</font></b>, the system resumes the execution flow, and `after_model_callback` will be triggered normally.\n",
    "\n",
    "The following code example shows the basic syntax of this callback:\n",
    "```python\n",
    "async def on_model_error_callback(\n",
    "    self,\n",
    "    *,\n",
    "    callback_context: CallbackContext,\n",
    "    llm_request: LlmRequest,\n",
    "    error: Exception,\n",
    ") -> Optional[LlmResponse]:\n",
    "  ...\n",
    "```"
   ]
  },
  {
   "cell_type": "markdown",
   "id": "ff47b717-a13a-433a-9bed-93dee0409b94",
   "metadata": {
    "jp-MarkdownHeadingCollapsed": true
   },
   "source": [
    "#### <b>Tool callbacks</b>\n",
    "<b><font size='3ptx'>Tool callbacks (`before_tool`, `after_tool`, `on_tool_error`) for Plugins happen before or after the execution of a tool, or when an error occurs.</font></b> The Plugins feature also supports a callback in the event of an error, as detailed below:\n",
    "When an agent executes a Tool, before_tool_callback runs first.\n",
    "* If the tool executes successfully, `after_tool_callback` runs next.\n",
    "* If the tool raises an exception, the `on_tool_error_callback` is triggered instead, giving you a chance to handle the failure.\n",
    "* If `on_tool_error_callback` returns a dict, `after_tool_callback` will be triggered normally."
   ]
  },
  {
   "cell_type": "markdown",
   "id": "ba749037-649a-4ab0-87d6-c65fd84abc00",
   "metadata": {},
   "source": [
    "<b><font color='orange'>Caution</font></b>:\n",
    "> Plugins that implement these callbacks are executed before the Tool-level callbacks are executed. Furthermore, if a Plugin-level tool callback returns anything other than a `None` or null response, the Tool-level callback is not executed (skipped)."
   ]
  },
  {
   "cell_type": "markdown",
   "id": "f25f7ef0-eff1-4755-8888-4b502456736b",
   "metadata": {},
   "source": [
    "##### <b>Tool on error callback details</b>\n",
    "The on error callback for Tool objects is only supported by the Plugins feature works as follows:\n",
    "* <b><font size='3ptx'>When It Runs</font></b>: When an exception is raised during the execution of a tool's run method.\n",
    "* <b><font size='3ptx'>Purpose</font></b>: Catching specific tool exceptions (like `APIError`), logging the failure, and providing a user-friendly error message back to the LLM.\n",
    "* <b><font size='3ptx'>Flow Control</font></b>: Return a `dict` to suppress the exception, provide a fallback result. Return `None` to allow the original exception to be raised.\n",
    "\n",
    "<b><font color='darkred'>Note</font></b>: By returning a `dict`, this resumes the execution flow, and `after_tool_callback` will be triggered normally.\n",
    "\n",
    "The following code example shows the basic syntax of this callback:\n",
    "```python\n",
    "async def on_tool_error_callback(\n",
    "    self,\n",
    "    *,\n",
    "    tool: BaseTool,\n",
    "    tool_args: dict[str, Any],\n",
    "    tool_context: ToolContext,\n",
    "    error: Exception,\n",
    ") -> Optional[dict]:\n",
    "  ...\n",
    "```"
   ]
  },
  {
   "cell_type": "markdown",
   "id": "ed811d21-6e91-4337-abeb-5c7ab3b4b4a3",
   "metadata": {
    "jp-MarkdownHeadingCollapsed": true
   },
   "source": [
    "#### <b>Event callbacks</b>\n",
    "<b><font size='3ptx'>An Event callback (`on_event_callback`) happens when an agent produces outputs such as a text response or a tool call result, it yields them as `Event` objects</font></b>. The `on_event_callback` fires for each event, allowing you to modify it before it's streamed to the client.\n",
    "* <b><font size='3ptx'>When It Runs</font></b>: After an agent yields an Event but before it's sent to the user. An agent's run may produce multiple events.\n",
    "* <b><font size='3ptx'>Purpose</font></b>: Useful for modifying or enriching events (<font color='brown'>e.g., adding metadata</font>) or for triggering side effects based on specific events.\n",
    "* <b><font size='3ptx'>Flow Control</font></b>: Return an `Event` object to replace the original event."
   ]
  },
  {
   "cell_type": "markdown",
   "id": "99e9cb96-80e0-401d-994d-f91c6817d901",
   "metadata": {},
   "source": [
    "The following code example shows the basic syntax of this callback:\n",
    "```python\n",
    "async def on_event_callback(\n",
    "    self, *, invocation_context: InvocationContext, event: Event\n",
    ") -> Optional[Event]:\n",
    "  ...\n",
    "```"
   ]
  },
  {
   "cell_type": "markdown",
   "id": "3c292669-ae09-4ea1-8ac0-8094151c7bd7",
   "metadata": {
    "jp-MarkdownHeadingCollapsed": true
   },
   "source": [
    "#### <b>Runner end callbacks</b>\n",
    "<b><font size='3ptx'>The Runner end callback (`after_run_callback`) happens when the agent has finished its entire process and all events have been handled, the `Runner` completes its run.</font></b> The `after_run_callback` is the final hook, perfect for cleanup and final reporting.\n",
    "* <b><font size='3ptx'>When It Runs</font></b>: After the Runner fully completes the execution of a request.\n",
    "* <b><font size='3ptx'>Purpose</font></b>: Ideal for global cleanup tasks, such as closing connections or finalizing logs and metrics data.\n",
    "* <b><font size='3ptx'>Flow Control</font></b>: This callback is for teardown only and cannot alter the final result."
   ]
  },
  {
   "cell_type": "markdown",
   "id": "cb0013d9-8e4f-43bb-b28b-bbdc19ff00ad",
   "metadata": {},
   "source": [
    "The following code example shows the basic syntax of this callback:\n",
    "```python\n",
    "async def after_run_callback(\n",
    "    self, *, invocation_context: InvocationContext\n",
    ") -> Optional[None]:\n",
    "  ...\n",
    "```"
   ]
  }
 ],
 "metadata": {
  "kernelspec": {
   "display_name": "Python 3 (ipykernel)",
   "language": "python",
   "name": "python3"
  },
  "language_info": {
   "codemirror_mode": {
    "name": "ipython",
    "version": 3
   },
   "file_extension": ".py",
   "mimetype": "text/x-python",
   "name": "python",
   "nbconvert_exporter": "python",
   "pygments_lexer": "ipython3",
   "version": "3.12.9"
  }
 },
 "nbformat": 4,
 "nbformat_minor": 5
}
