{
 "cells": [
  {
   "cell_type": "markdown",
   "id": "5db5e406-aba4-45c2-b7d7-6291610e3c92",
   "metadata": {},
   "source": [
    "## <b><font color='darkblue'>Workflow Agents</font></b>\n",
    "<font size='3ptx'>([source](https://google.github.io/adk-docs/agents/workflow-agents/)) This section introduces \"workflow agents\" - <b>specialized agents that control the execution flow of its sub-agents</b>.</font>\n",
    "\n",
    "Workflow agents are specialized components in ADK designed purely for <b>orchestrating the execution flow of sub-agents</b>. Their primary role is to manage how and when other agents run, defining the control flow of a process.\n",
    "\n",
    "Unlike [**LLM Agents**](https://google.github.io/adk-docs/agents/llm-agents/), which use Large Language Models for dynamic reasoning and decision-making, **Workflow Agents operate based on predefined logic**. They determine the execution sequence according to their type (<font color='brown'>e.g., sequential, parallel, loop</font>) without consulting an LLM for the orchestration itself. This results in <b>deterministic and predictable execution patterns</b>.\n",
    "\n",
    "ADK provides three core workflow agent types, each implementing a distinct execution pattern:\n",
    "- <b><font size='3ptx'>Sequential Agents</font></b>: Executes sub-agents one after another, <b>in sequence</b>.\n",
    "- <b><font size='3ptx'>Loop Agents</font></b>: <b>Repeatedly</b> executes its sub-agents until a specific termination condition is met.\n",
    "- <b><font size='3ptx'>Parallel Agents</font></b>: Executes multiple sub-agents <b>in parallel</b>."
   ]
  },
  {
   "cell_type": "code",
   "execution_count": 2,
   "id": "36a8740b-d5ab-46b9-a227-b2251f903b93",
   "metadata": {},
   "outputs": [],
   "source": [
    "from IPython.display import display, Markdown, Latex\n",
    "\n",
    "def show_source_code(src_path: str):\n",
    "    source_code = !cat $src_path\n",
    "    source_code = [line.replace('```python', \"'''python\") for line in source_code]\n",
    "    source_code = [line.replace('```', \"'''\") for line in source_code]\n",
    "    display(Markdown(f\"\"\"\n",
    "```python\n",
    "{'\\n'.join(source_code)}\n",
    "```\"\"\"))"
   ]
  },
  {
   "cell_type": "markdown",
   "id": "7b2da6de-c3da-4557-920a-80c6165aaeab",
   "metadata": {
    "jp-MarkdownHeadingCollapsed": true
   },
   "source": [
    "### <b><font color='darkgreen'>Why Use Workflow Agents?</font></b>\n",
    "Workflow agents are essential when you need explicit control over how a series of tasks or agents are executed. They provide:\n",
    "- <b><font size='3ptx'>Predictability</font></b>: The flow of execution is guaranteed based on the agent type and configuration.\n",
    "- <b><font size='3ptx'>Reliability</font></b>: Ensures tasks run in the required order or pattern consistently.\n",
    "- <b><font size='3ptx'>Structure</font></b>: Allows you to build complex processes by composing agents within clear control structures.\n",
    "\n",
    "While the workflow agent manages the control flow deterministically, the sub-agents it orchestrates can themselves be any type of agent, including intelligent LLM Agent instances. This allows you to combine structured process control with flexible, LLM-powered task execution."
   ]
  },
  {
   "cell_type": "markdown",
   "id": "e766d6bf-aef1-4038-ad00-cce9232d8153",
   "metadata": {},
   "source": [
    "### <b><font color='darkgreen'>Sequential agents</font></b>\n",
    "<font size='3ptx'><b>The `SequentialAgent` is a workflow agent that executes its sub-agents in the order they are specified in the list.</b></fonb>\n",
    "\n",
    "Use the `SequentialAgent` when you want the execution to occur in a fixed, strict order."
   ]
  },
  {
   "cell_type": "markdown",
   "id": "bdb2343f-7ed7-4d72-a896-2ca92d965d83",
   "metadata": {},
   "source": [
    "#### <b>Example</b>\n",
    "You want to build an agent that can summarize any webpage, using two tools: `Get Page Contents` and `Summarize Page`. Because the agent must always call `Get Page Contents` before calling `Summarize Page` (<font color='brown'>you can't summarize from nothing!</font>), you should build your agent using a <b><font color='blue'>SequentialAgent</font></b>.\n",
    "\n",
    "As with other [**workflow agents**](https://google.github.io/adk-docs/agents/workflow-agents/), the <b><font color='blue'>SequentialAgent</font></b> is not powered by an LLM, and is thus deterministic in how it executes. That being said, workflow agents are concerned only with their execution (<font color='brown'>i.e. in sequence</font>), and not their internal logic; the tools or sub-agents of a workflow agent may or may not utilize LLMs."
   ]
  },
  {
   "cell_type": "markdown",
   "id": "233b5ab0-0df7-4234-89f4-ea21a50f0b3e",
   "metadata": {},
   "source": [
    "#### <b>How it works</b>\n",
    "When the <b><font color='blue'>SequentialAgent</font></b>'s `Run Async` method is called, it performs the following actions:\n",
    "1. <b><font size='3ptx'>Iteration</font></b>: It iterates through the sub agents list in the order they were provided.\n",
    "2. <b><font size='3ptx'>Sub-Agent Execution</font></b>: For each sub-agent in the list, it calls the sub-agent's `Run Async` method.\n",
    "\n",
    "![sequential agent flow](https://google.github.io/adk-docs/assets/sequential-agent.png)"
   ]
  },
  {
   "cell_type": "markdown",
   "id": "47d906a6-5f04-4629-96fb-993f1676cc21",
   "metadata": {},
   "source": [
    "#### <b>Full Example: Code Development Pipeline</b>\n",
    "Consider a simplified code development pipeline:\n",
    "* <b><font size='3ptx'>Code Writer Agent</font></b>: An LLM Agent that generates initial code based on a specification.\n",
    "* <b><font size='3ptx'>Code Reviewer Agent</font></b>: An LLM Agent that reviews the generated code for errors, style issues, and adherence to best practices. It receives the output of the Code Writer Agent.\n",
    "* <b><font size='3ptx'>Code Refactorer Agent</font></b>: An LLM Agent that takes the reviewed code (<font color='brown'>and the reviewer's comments</font>) and refactors it to improve quality and address issues."
   ]
  },
  {
   "cell_type": "markdown",
   "id": "84f4d3c7-e369-4151-a378-bec752e7c21d",
   "metadata": {},
   "source": [
    "A <b><font color='blue'>SequentialAgent</font></b> is perfect for this:\n",
    "```python\n",
    "SequentialAgent(sub_agents=[CodeWriterAgent, CodeReviewerAgent, CodeRefactorerAgent])\n",
    "```\n",
    "\n",
    "This ensures the code is written, then reviewed, and finally refactored, in a strict, dependable order. <b>The output from each sub-agent is passed to the next by storing them in state via `Output Key`<b/>.\n",
    "> The <b><font color='blue'>SequentialAgent</font></b> passes the same <b><font color='blue'>InvocationContext</font></b> to each of its sub-agents. This means they all share the same session state, including the temporary (`temp:`) namespace, making it easy to pass data between steps within a single turn."
   ]
  },
  {
   "cell_type": "code",
   "execution_count": 8,
   "id": "6d1585cd-07e2-4353-9e03-64586eb48928",
   "metadata": {},
   "outputs": [
    {
     "data": {
      "text/markdown": [
       "\n",
       "```python\n",
       "#!/usr/bin/env python\n",
       "# https://google.github.io/adk-docs/agents/workflow-agents/sequential-agents/#full-example-code-development-pipeline\n",
       "import asyncio\n",
       "\n",
       "from google.adk.agents import Agent\n",
       "from google.adk.agents import LlmAgent\n",
       "from google.adk.agents import SequentialAgent\n",
       "from google.adk.tools import FunctionTool\n",
       "from google.adk.runners import Runner\n",
       "from google.adk.sessions import InMemorySessionService\n",
       "from google.genai import types\n",
       "\n",
       "APP_NAME=\"weather_sentiment_agent\"\n",
       "USER_ID=\"user1234\"\n",
       "SESSION_ID=\"1234\"\n",
       "GEMINI_MODEL=\"gemini-2.0-flash\"\n",
       "\n",
       "\n",
       "# --- 1. Define Sub-Agents for Each Pipeline Stage ---\n",
       "\n",
       "# Code Writer Agent\n",
       "# Takes the initial specification (from user query) and writes code.\n",
       "code_writer_agent = LlmAgent(\n",
       "    name=\"CodeWriterAgent\",\n",
       "    model=GEMINI_MODEL,\n",
       "    # Change 3: Improved instruction\n",
       "    instruction=\"\"\"You are a Python Code Generator.\n",
       "Based *only* on the user's request, write Python code that fulfills the requirement.\n",
       "Output *only* the complete Python code block, enclosed in triple backticks ('''python ... ''').\n",
       "Do not add any other text before or after the code block.\n",
       "\"\"\",\n",
       "    description=\"Writes initial Python code based on a specification.\",\n",
       "    output_key=\"generated_code\" # Stores output in state['generated_code']\n",
       ")\n",
       "\n",
       "# Code Reviewer Agent\n",
       "# Takes the code generated by the previous agent (read from state) and provides feedback.\n",
       "code_reviewer_agent = LlmAgent(\n",
       "    name=\"CodeReviewerAgent\",\n",
       "    model=GEMINI_MODEL,\n",
       "    # Change 3: Improved instruction, correctly using state key injection\n",
       "    instruction=\"\"\"You are an expert Python Code Reviewer.\n",
       "    Your task is to provide constructive feedback on the provided code.\n",
       "\n",
       "    **Code to Review:**\n",
       "    '''python\n",
       "    {generated_code}\n",
       "    '''\n",
       "\n",
       "**Review Criteria:**\n",
       "1.  **Correctness:** Does the code work as intended? Are there logic errors?\n",
       "2.  **Readability:** Is the code clear and easy to understand? Follows PEP 8 style guidelines?\n",
       "3.  **Efficiency:** Is the code reasonably efficient? Any obvious performance bottlenecks?\n",
       "4.  **Edge Cases:** Does the code handle potential edge cases or invalid inputs gracefully?\n",
       "5.  **Best Practices:** Does the code follow common Python best practices?\n",
       "\n",
       "**Output:**\n",
       "Provide your feedback as a concise, bulleted list. Focus on the most important points for improvement.\n",
       "If the code is excellent and requires no changes, simply state: \"No major issues found.\"\n",
       "Output *only* the review comments or the \"No major issues\" statement.\n",
       "\"\"\",\n",
       "    description=\"Reviews code and provides feedback.\",\n",
       "    output_key=\"review_comments\", # Stores output in state['review_comments']\n",
       ")\n",
       "\n",
       "# Code Refactorer Agent\n",
       "# Takes the original code and the review comments (read from state) and refactors the code.\n",
       "code_refactorer_agent = LlmAgent(\n",
       "    name=\"CodeRefactorerAgent\",\n",
       "    model=GEMINI_MODEL,\n",
       "    # Change 3: Improved instruction, correctly using state key injection\n",
       "    instruction=\"\"\"You are a Python Code Refactoring AI.\n",
       "Your goal is to improve the given Python code based on the provided review comments.\n",
       "\n",
       "  **Original Code:**\n",
       "  '''python\n",
       "  {generated_code}\n",
       "  '''\n",
       "\n",
       "  **Review Comments:**\n",
       "  {review_comments}\n",
       "\n",
       "**Task:**\n",
       "Carefully apply the suggestions from the review comments to refactor the original code.\n",
       "If the review comments state \"No major issues found,\" return the original code unchanged.\n",
       "Ensure the final code is complete, functional, and includes necessary imports and docstrings.\n",
       "\n",
       "**Output:**\n",
       "Output *only* the final, refactored Python code block, enclosed in triple backticks ('''python ... ''').\n",
       "Do not add any other text before or after the code block.\n",
       "\"\"\",\n",
       "    description=\"Refactors code based on review comments.\",\n",
       "    output_key=\"refactored_code\", # Stores output in state['refactored_code']\n",
       ")\n",
       "\n",
       "# --- 2. Create the SequentialAgent ---\n",
       "# This agent orchestrates the pipeline by running the sub_agents in order.\n",
       "code_pipeline_agent = SequentialAgent(\n",
       "    name=\"CodePipelineAgent\",\n",
       "    sub_agents=[code_writer_agent, code_reviewer_agent, code_refactorer_agent],\n",
       "    description=\"Executes a sequence of code writing, reviewing, and refactoring.\",\n",
       "    # The agents will run in the order provided: Writer -> Reviewer -> Refactorer\n",
       ")\n",
       "\n",
       "# For ADK tools compatibility, the root agent must be named `root_agent`\n",
       "root_agent = code_pipeline_agent\n",
       "```"
      ],
      "text/plain": [
       "<IPython.core.display.Markdown object>"
      ]
     },
     "metadata": {},
     "output_type": "display_data"
    }
   ],
   "source": [
    "show_source_code('workflow_agents/sequential_agent_ex1/agent.py')"
   ]
  },
  {
   "cell_type": "markdown",
   "id": "3cdee301-bda7-4a7c-bc9a-001e9d92bfba",
   "metadata": {
    "jp-MarkdownHeadingCollapsed": true
   },
   "source": [
    "### <b><font color='darkgreen'>Loop agents</font></b>\n",
    "<font size='3ptx'><b>The `LoopAgent` is a workflow agent that executes its sub-agents in a loop (i.e. iteratively)</b>. It repeatedly runs a sequence of agents for a specified number of iterations or until a termination condition is met.</font>\n",
    "\n",
    "Use the <b>`LoopAgent`</b> when your workflow involves repetition or iterative refinement, such as revising code."
   ]
  },
  {
   "cell_type": "markdown",
   "id": "aeb2c32f-3745-45fe-b42d-cf7a76d6df31",
   "metadata": {
    "jp-MarkdownHeadingCollapsed": true
   },
   "source": [
    "#### <b>Example</b>\n",
    "You want to build an agent that can generate images of food, but sometimes when you want to generate a specific number of items (<font color='brown'>e.g. 5 bananas</font>), it generates a different number of those items in the image (e.g. an image of 7 bananas). You have two tools: `Generate Image`, `Count Food Items`.\n",
    "\n",
    "Because you want to keep generating images until it either correctly generates the specified number of items, or after a certain number of iterations, you should build your agent using a <b>`LoopAgent`</b>."
   ]
  },
  {
   "cell_type": "markdown",
   "id": "8d80e005-72c3-46e3-8a93-6bda92217ab1",
   "metadata": {},
   "source": [
    "As with other [**workflow agents**](https://google.github.io/adk-docs/agents/workflow-agents/), the <b>`LoopAgent`</b> is not powered by an LLM, and is thus deterministic in how it executes. That being said, workflow agents are only concerned only with their execution (<font color='brown'>i.e. in a loop</font>), and not their internal logic; the tools or sub-agents of a workflow agent may or may not utilize LLMs."
   ]
  },
  {
   "cell_type": "markdown",
   "id": "8da0ed60-6d4c-4bc7-96a7-3bd749f89de9",
   "metadata": {},
   "source": [
    "#### <b>How it Works</b>\n",
    "When the <b>`LoopAgent`</b>'s `Run Async` method is called, it performs the following actions:\n",
    "1. <b><font size='3ptx'>Sub-Agent Execution</font></b>: It iterates through the Sub Agents list in order. For each sub-agent, it calls the agent's `Run Async` method.\n",
    "2. <b><font size='3ptx'>Termination Check</font></b>: Crucially, the LoopAgent itself does not inherently decide when to stop looping. You must implement a termination mechanism to prevent infinite loops. Common strategies include:\n",
    "     - <b>Max Iterations</b>: Set a maximum number of iterations in the LoopAgent. The loop will terminate after that many iterations.\n",
    "     - <b>Escalation from sub-agent</b>: Design one or more sub-agents to evaluate a condition (<font color='brown'>e.g., \"Is the document quality good enough?\", \"Has a consensus been reached?\"</font>). If the condition is met, the sub-agent can signal termination (<font color='brown'>e.g., by raising a custom event, setting a flag in a shared context, or returning a specific value</font>).\n",
    "\n",
    "![loop agent flow](https://google.github.io/adk-docs/assets/loop-agent.png)"
   ]
  },
  {
   "cell_type": "markdown",
   "id": "ede238df-93ff-4d56-a0cf-8437944aa87e",
   "metadata": {},
   "source": [
    "#### <b>Full Example: Iterative Document Improvement</b>\n",
    "Imagine a scenario where you want to iteratively improve a document:\n",
    "* <b><font size='3ptx'>Writer Agent</font></b>: An <b>`LlmAgent`</b> that generates or refines a draft on a topic.\n",
    "* <b><font size='3ptx'>Critic Agent</font></b>: An <b>`LlmAgent`</b> that critiques the draft, identifying areas for improvement.\n",
    "\n",
    "```python\n",
    "LoopAgent(sub_agents=[WriterAgent, CriticAgent], max_iterations=5)\n",
    "```"
   ]
  },
  {
   "cell_type": "markdown",
   "id": "29a6d295-4262-4d86-af75-8a5a6b8a8095",
   "metadata": {},
   "source": [
    "In this setup, the <b>`LoopAgent`</b> would manage the iterative process. The <b><font color='blue'>CriticAgent</font></b> could be <b>designed to return a \"STOP\" signal when the document reaches a satisfactory quality level, preventing further iterations</b>. Alternatively, the max iterations parameter could be used to limit the process to a fixed number of cycles, or external logic could be implemented to make stop decisions.\n",
    "\n",
    "<b>The loop would run at most five times</b>, ensuring the iterative refinement doesn't continue indefinitely."
   ]
  },
  {
   "cell_type": "code",
   "execution_count": 6,
   "id": "0be2b430-d9ac-4796-96a6-1d2f44464804",
   "metadata": {},
   "outputs": [
    {
     "data": {
      "text/markdown": [
       "\n",
       "```python\n",
       "# Source:\n",
       "# Part of agent.py --> Follow https://google.github.io/adk-docs/get-started/quickstart/ to learn the setup\n",
       "\n",
       "import asyncio\n",
       "import os\n",
       "from google.adk.agents import LoopAgent, LlmAgent, BaseAgent, SequentialAgent\n",
       "from google.genai import types\n",
       "from google.adk.runners import InMemoryRunner\n",
       "from google.adk.agents.invocation_context import InvocationContext\n",
       "from google.adk.tools.tool_context import ToolContext\n",
       "from typing import AsyncGenerator, Optional\n",
       "from google.adk.events import Event, EventActions\n",
       "\n",
       "# --- Constants ---\n",
       "APP_NAME = \"doc_writing_app_v3\" # New App Name\n",
       "USER_ID = \"dev_user_01\"\n",
       "SESSION_ID_BASE = \"loop_exit_tool_session\" # New Base Session ID\n",
       "GEMINI_MODEL = \"gemini-2.0-flash\"\n",
       "STATE_INITIAL_TOPIC = \"initial_topic\"\n",
       "\n",
       "# --- State Keys ---\n",
       "STATE_CURRENT_DOC = \"current_document\"\n",
       "STATE_CRITICISM = \"criticism\"\n",
       "\n",
       "# Define the exact phrase the Critic should use to signal completion\n",
       "COMPLETION_PHRASE = \"No major issues found.\"\n",
       "\n",
       "\n",
       "# --- Tool Definition ---\n",
       "def exit_loop(tool_context: ToolContext):\n",
       "  \"\"\"Call this function ONLY when the critique indicates no further changes are needed, signaling the iterative process should end.\"\"\"\n",
       "  print(f\"  [Tool Call] `exit_loop` triggered by {tool_context.agent_name}\")\n",
       "  tool_context.actions.escalate = True\n",
       "  # Return empty dict as tools should typically return JSON-serializable output\n",
       "  return {}\n",
       "\n",
       "\n",
       "# --- Agent Definitions ---\n",
       "\n",
       "# STEP 1: Initial Writer Agent (Runs ONCE at the beginning)\n",
       "initial_writer_agent = LlmAgent(\n",
       "    name=\"InitialWriterAgent\",\n",
       "    model=GEMINI_MODEL,\n",
       "    include_contents='none',\n",
       "    # MODIFIED Instruction: Ask for a slightly more developed start\n",
       "    instruction=(\n",
       "        f\"\"\"\n",
       "You are a Creative Writing Assistant tasked with starting a story.\n",
       "Write the *first draft* of a short story (aim for 2-4 sentences).\n",
       "Base the content *only* on the topic provided below.\n",
       "Try to introduce a specific element (like a character, a setting detail, or a starting action) to make it engaging.\n",
       "    Topic: {{initial_topic}}\n",
       "\n",
       "Output *only* the story/document text. Do not add introductions or explanations.\"\"\"),\n",
       "    description=\"Writes the initial document draft based on the topic, aiming for some initial substance.\",\n",
       "    output_key=STATE_CURRENT_DOC)\n",
       "\n",
       "\n",
       "# STEP 2a: Critic Agent (Inside the Refinement Loop)\n",
       "critic_agent_in_loop = LlmAgent(\n",
       "    name=\"CriticAgent\",\n",
       "    model=GEMINI_MODEL,\n",
       "    include_contents='none',\n",
       "    # MODIFIED Instruction: More nuanced completion criteria, look for clear improvement paths.\n",
       "    instruction=f\"\"\"\n",
       "    You are a Constructive Critic AI reviewing a short document draft (typically 2-6 sentences).\n",
       "    Your goal is balanced feedback.\n",
       "\n",
       "    **Document to Review:**\n",
       "    '''\n",
       "    {{current_document}}\n",
       "    '''\n",
       "\n",
       "    **Task:**\n",
       "    Review the document for clarity, engagement, and basic coherence according to the initial topic (if known).\n",
       "\n",
       "    IF you identify 1-2 *clear and actionable* ways the document could be improved to better capture the topic or\n",
       "    enhance reader engagement (e.g., \"Needs a stronger opening sentence\", \"Clarify the character's goal\"):\n",
       "    Provide these specific suggestions concisely. Output *only* the critique text.\n",
       "\n",
       "    ELSE IF the document is coherent, addresses the topic adequately for its length, and has no glaring errors or obvious omissions:\n",
       "    Respond *exactly* with the phrase \"{COMPLETION_PHRASE}\" and nothing else.\n",
       "    It doesn't need to be perfect, just functionally complete for this stage.\n",
       "    Avoid suggesting purely subjective stylistic preferences if the core is sound.\n",
       "\n",
       "    Do not add explanations. Output only the critique OR the exact completion phrase.\"\"\",\n",
       "    description=\"Reviews the current draft, providing critique if clear improvements are needed, otherwise signals completion.\",\n",
       "    output_key=STATE_CRITICISM)\n",
       "\n",
       "\n",
       "# STEP 2b: Refiner/Exiter Agent (Inside the Refinement Loop)\n",
       "refiner_agent_in_loop = LlmAgent(\n",
       "    name=\"RefinerAgent\",\n",
       "    model=GEMINI_MODEL,\n",
       "    # Relies solely on state via placeholders\n",
       "    include_contents='none',\n",
       "    instruction=f\"\"\"\n",
       "    You are a Creative Writing Assistant refining a document based on feedback OR exiting the process.\n",
       "    **Current Document:**\n",
       "    '''\n",
       "    {{current_document}}\n",
       "    '''\n",
       "    **Critique/Suggestions:**\n",
       "    {{criticism}}\n",
       "\n",
       "    **Task:**\n",
       "    Analyze the 'Critique/Suggestions'.\n",
       "    IF the critique is *exactly* \"{COMPLETION_PHRASE}\":\n",
       "    You MUST call the 'exit_loop' function. Do not output any text.\n",
       "    ELSE (the critique contains actionable feedback):\n",
       "    Carefully apply the suggestions to improve the 'Current Document'. Output *only* the refined document text.\n",
       "\n",
       "    Do not add explanations. Either output the refined document OR call the exit_loop function.\"\"\",\n",
       "    description=\"Refines the document based on critique, or calls exit_loop if critique indicates completion.\",\n",
       "    tools=[exit_loop], # Provide the exit_loop tool\n",
       "    output_key=STATE_CURRENT_DOC # Overwrites state['current_document'] with the refined version\n",
       ")\n",
       "\n",
       "\n",
       "# STEP 2: Refinement Loop Agent\n",
       "refinement_loop = LoopAgent(\n",
       "    name=\"RefinementLoop\",\n",
       "    # Agent order is crucial: Critique first, then Refine/Exit\n",
       "    sub_agents=[\n",
       "        critic_agent_in_loop,\n",
       "        refiner_agent_in_loop,\n",
       "    ],\n",
       "    max_iterations=5 # Limit loops\n",
       ")\n",
       "\n",
       "# STEP 3: Overall Sequential Pipeline\n",
       "# For ADK tools compatibility, the root agent must be named `root_agent`\n",
       "root_agent = SequentialAgent(\n",
       "    name=\"IterativeWritingPipeline\",\n",
       "    sub_agents=[\n",
       "        initial_writer_agent,  # Run first to create initial doc\n",
       "        refinement_loop,       # Then run the critique/refine loop\n",
       "    ],\n",
       "    description=\"Writes an initial document and then iteratively refines it with critique using an exit tool.\"\n",
       ")\n",
       "```"
      ],
      "text/plain": [
       "<IPython.core.display.Markdown object>"
      ]
     },
     "metadata": {},
     "output_type": "display_data"
    }
   ],
   "source": [
    "show_source_code('workflow_agents/sequential_agent_ex2/agent.py')"
   ]
  },
  {
   "cell_type": "markdown",
   "id": "251b7402-ca85-46bb-a534-ffecdf324202",
   "metadata": {},
   "source": [
    "### <b><font color='darkgreen'>Parallel agents</font></b>\n",
    "<font size='3ptx'><b>The `ParallelAgent` is a [workflow agent](https://google.github.io/adk-docs/agents/workflow-agents/) that executes its sub-agents concurrently</b>. This dramatically speeds up workflows where tasks can be performed independently.</font>"
   ]
  },
  {
   "cell_type": "markdown",
   "id": "744cabaf-888b-468f-801b-2685c777c87b",
   "metadata": {},
   "source": [
    "Use `ParallelAgent` when: For scenarios prioritizing speed and involving independent, resource-intensive tasks, a `ParallelAgent` facilitates efficient parallel execution. <b>When sub-agents operate without dependencies, their tasks can be performed concurrently, significantly reducing overall processing time</b>."
   ]
  },
  {
   "cell_type": "markdown",
   "id": "06c3f2d7-3e2f-4dd9-923c-0f4395ecff1b",
   "metadata": {},
   "source": [
    "<b>As with other workflow agents, the `ParallelAgent` is not powered by an LLM, and is thus deterministic in how it executes.</b> That being said, workflow agents are only concerned with their execution (<font color='brown'>i.e. executing sub-agents in parallel</font>), and not their internal logic; the tools or sub-agents of a workflow agent may or may not utilize LLMs."
   ]
  },
  {
   "cell_type": "markdown",
   "id": "3fcb84ba-09de-4e17-8883-0078e309dbb7",
   "metadata": {},
   "source": [
    "#### <b>Example</b>\n",
    "<font size='3ptx'><b>This approach is particularly beneficial for operations like multi-source data retrieval or heavy computations, where parallelization yields substantial performance gains</b></font>. Importantly, this strategy assumes no inherent need for shared state or direct information exchange between the concurrently executing agents."
   ]
  },
  {
   "cell_type": "markdown",
   "id": "7cf1fd63-0fc5-48cf-ab20-cda926154a85",
   "metadata": {},
   "source": [
    "#### <b>How it works</b>\n",
    "When the `ParallelAgent`'s <font color='blue'>run_async()</font> method is called:\n",
    "1. <b><font size='3ptx'>Concurrent Execution</font></b>: It initiates the <font color='blue'>run_async()</font> method of each sub-agent present in the `sub_agents` list concurrently. This means all the agents start running at (<font color='brown'>approximately</font>) the same time.\n",
    "2. <b><font size='3ptx'>Independent Branches</font></b>: Each sub-agent operates in its own execution branch. There is <b>no automatic sharing of conversation history or state between these branches during execution</b>.\n",
    "3. <b><font size='3ptx'>Result Collection</font></b>: The `ParallelAgent` manages the parallel execution and, typically, provides a way to access the results from each sub-agent after they have completed (<font color='brown'>e.g., through a list of results or events</font>). The order of results may not be deterministic."
   ]
  },
  {
   "cell_type": "markdown",
   "id": "e27eff3e-31b3-4cef-9042-4a90582dbe1d",
   "metadata": {},
   "source": [
    "#### <b><font size='3ptx'>Independent Execution and State Management</font></b>\n",
    "<b><font size='3ptx'>It's crucial to understand that sub-agents within a `ParallelAgent` run independently</font></b>. If you need communication or data sharing between these agents, you must implement it explicitly. Possible approaches include:\n",
    "* <b><font size='3ptx'>Shared `InvocationContext`</font></b>: You could pass a shared <b>`InvocationContext`</b> object to each sub-agent. This object could act as a shared data store. However, you'd need to manage concurrent access to this shared context carefully (<font color='brown'>e.g., using locks</font>) to avoid race conditions.\n",
    "* <b><font size='3ptx'>External State Management</font></b>: Use an external database, message queue, or other mechanism to manage shared state and facilitate communication between agents.\n",
    "* <b><font size='3ptx'>Post-Processing</font></b>: Collect results from each branch, and then implement logic to coordinate data afterwards.\n",
    "\n",
    "![parallel agent flow](https://google.github.io/adk-docs/assets/parallel-agent.png)"
   ]
  },
  {
   "cell_type": "markdown",
   "id": "f84bbc93-1317-4434-b66e-1b8b1ed81320",
   "metadata": {},
   "source": [
    "#### <b><font size='3ptx'>Full Example: Parallel Web Research</font></b>\n",
    "Imagine researching multiple topics simultaneously:\n",
    "1. **Researcher Agent 1**: An `LlmAgent` that researches \"renewable energy sources.\"\n",
    "2. **Researcher Agent 2**: An `LlmAgent` that researches \"electric vehicle technology.\"\n",
    "3. **Researcher Agent 3**: An `LlmAgent` that researches \"carbon capture methods.\"\n",
    "\n",
    "```python\n",
    "ParallelAgent(sub_agents=[ResearcherAgent1, ResearcherAgent2, ResearcherAgent3])\n",
    "```"
   ]
  },
  {
   "cell_type": "markdown",
   "id": "0313e503-e9df-4efe-833d-3f0e56ada564",
   "metadata": {},
   "source": [
    "These research tasks are independent. `Using a ParallelAgent` allows them to run concurrently, potentially reducing the total research time significantly compared to running them sequentially. The results from each agent would be collected separately after they finish."
   ]
  },
  {
   "cell_type": "code",
   "execution_count": 3,
   "id": "21844669-edf7-46e7-8722-68888c3a853f",
   "metadata": {},
   "outputs": [
    {
     "data": {
      "text/markdown": [
       "\n",
       "```python\n",
       "#!/usr/bin/env python\n",
       "# Part of agent.py --> Follow https://google.github.io/adk-docs/get-started/quickstart/ to learn the setup\n",
       "import asyncio\n",
       "\n",
       "from google.adk.agents import Agent\n",
       "from google.adk.agents import LlmAgent\n",
       "from google.adk.tools import google_search\n",
       "\n",
       "\n",
       "GEMINI_MODEL=\"gemini-2.0-flash\"\n",
       "\n",
       "# --- 1. Define Researcher Sub-Agents (to run in parallel) ---\n",
       "\n",
       "# Researcher 1: Renewable Energy\n",
       "researcher_agent_1 = LlmAgent(\n",
       "    name=\"RenewableEnergyResearcher\",\n",
       "    model=GEMINI_MODEL,\n",
       "    instruction=\"\"\"You are an AI Research Assistant specializing in energy.\n",
       " Research the latest advancements in 'renewable energy sources'.\n",
       " Use the Google Search tool provided.\n",
       " Summarize your key findings concisely (1-2 sentences).\n",
       " Output *only* the summary.\"\"\",\n",
       "    description=\"Researches renewable energy sources.\",\n",
       "    tools=[google_search],\n",
       "    # Store result in state for the merger agent\n",
       "    output_key=\"renewable_energy_result\"\n",
       ")\n",
       "\n",
       "\n",
       "# Researcher 2: Electric Vehicles\n",
       "researcher_agent_2 = LlmAgent(\n",
       "    name=\"EVResearcher\",\n",
       "    model=GEMINI_MODEL,\n",
       "    instruction=\"\"\"You are an AI Research Assistant specializing in transportation.\n",
       "Research the latest developments in 'electric vehicle technology'.\n",
       "Use the Google Search tool provided.\n",
       "Summarize your key findings concisely (1-2 sentences).\n",
       "Output *only* the summary.\"\"\",\n",
       "    description=\"Researches electric vehicle technology.\",\n",
       "    tools=[google_search],\n",
       "    # Store result in state for the merger agent\n",
       "    output_key=\"ev_technology_result\"\n",
       ")\n",
       "\n",
       "# Researcher 3: Carbon Capture\n",
       "researcher_agent_3 = LlmAgent(\n",
       "    name=\"CarbonCaptureResearcher\",\n",
       "    model=GEMINI_MODEL,\n",
       "    instruction=\"\"\"You are an AI Research Assistant specializing in climate solutions.\n",
       "Research the current state of 'carbon capture methods'.\n",
       "Use the Google Search tool provided.\n",
       "Summarize your key findings concisely (1-2 sentences).\n",
       "Output *only* the summary.\"\"\",\n",
       "    description=\"Researches carbon capture methods.\",\n",
       "    tools=[google_search],\n",
       "    # Store result in state for the merger agent\n",
       "    output_key=\"carbon_capture_result\"\n",
       ")\n",
       "\n",
       "# --- 2. Create the ParallelAgent (Runs researchers concurrently) ---\n",
       "# This agent orchestrates the concurrent execution of the researchers.\n",
       "# It finishes once all researchers have completed and stored their results in state.\n",
       "parallel_research_agent = ParallelAgent(\n",
       "    name=\"ParallelWebResearchAgent\",\n",
       "    sub_agents=[researcher_agent_1, researcher_agent_2, researcher_agent_3],\n",
       "    description=\"Runs multiple research agents in parallel to gather information.\"\n",
       ")\n",
       "\n",
       "# --- 3. Define the Merger Agent (Runs *after* the parallel agents) ---\n",
       "# This agent takes the results stored in the session state by the parallel agents\n",
       "# and synthesizes them into a single, structured response with attributions.\n",
       "merger_agent = LlmAgent(\n",
       "    name=\"SynthesisAgent\",\n",
       "    model=GEMINI_MODEL,  # Or potentially a more powerful model if needed for synthesis\n",
       "    instruction=\"\"\"You are an AI Assistant responsible for combining research findings into a structured report.\n",
       "\n",
       " Your primary task is to synthesize the following research summaries, clearly attributing findings to their source areas. Structure your response using headings for each topic. Ensure the report is coherent and integrates the key points smoothly.\n",
       "\n",
       " **Crucially: Your entire response MUST be grounded *exclusively* on the information provided in the 'Input Summaries' below. Do NOT add any external knowledge, facts, or details not present in these specific summaries.**\n",
       "\n",
       " **Input Summaries:**\n",
       "\n",
       " *   **Renewable Energy:**\n",
       "     {renewable_energy_result}\n",
       "\n",
       " *   **Electric Vehicles:**\n",
       "     {ev_technology_result}\n",
       "\n",
       " *   **Carbon Capture:**\n",
       "     {carbon_capture_result}\n",
       "\n",
       " **Output Format:**\n",
       "\n",
       " ## Summary of Recent Sustainable Technology Advancements\n",
       "\n",
       " ### Renewable Energy Findings\n",
       " (Based on RenewableEnergyResearcher's findings)\n",
       " [Synthesize and elaborate *only* on the renewable energy input summary provided above.]\n",
       "\n",
       " ### Electric Vehicle Findings\n",
       " (Based on EVResearcher's findings)\n",
       " [Synthesize and elaborate *only* on the EV input summary provided above.]\n",
       "\n",
       " ### Carbon Capture Findings\n",
       " (Based on CarbonCaptureResearcher's findings)\n",
       " [Synthesize and elaborate *only* on the carbon capture input summary provided above.]\n",
       "\n",
       " ### Overall Conclusion\n",
       " [Provide a brief (1-2 sentence) concluding statement that connects *only* the findings presented above.]\n",
       "\n",
       " Output *only* the structured report following this format. Do not include introductory or concluding phrases outside this structure, and strictly adhere to using only the provided input summary content.\n",
       " \"\"\",\n",
       "    description=\"Combines research findings from parallel agents into a structured, cited report, strictly grounded on provided inputs.\",\n",
       "    # No tools needed for merging\n",
       "    # No output_key needed here, as its direct response is the final output of the sequence\n",
       ")\n",
       "\n",
       "\n",
       "# --- 4. Create the SequentialAgent (Orchestrates the overall flow) ---\n",
       "# This is the main agent that will be run. It first executes the ParallelAgent\n",
       "# to populate the state, and then executes the MergerAgent to produce the final output.\n",
       "sequential_pipeline_agent = SequentialAgent(\n",
       "    name=\"ResearchAndSynthesisPipeline\",\n",
       "    # Run parallel research first, then merge\n",
       "    sub_agents=[parallel_research_agent, merger_agent],\n",
       "    description=\"Coordinates parallel research and synthesizes the results.\"\n",
       ")\n",
       "\n",
       "root_agent = sequential_pipeline_agent\n",
       "```"
      ],
      "text/plain": [
       "<IPython.core.display.Markdown object>"
      ]
     },
     "metadata": {},
     "output_type": "display_data"
    }
   ],
   "source": [
    "show_source_code('workflow_agents/parallel_agent_ex3/agent.py')"
   ]
  },
  {
   "cell_type": "markdown",
   "id": "f3660e35-0a28-4a9e-8465-161f692ec77f",
   "metadata": {},
   "source": [
    "## <b><font color='darkblue'>Supplement</font></b>\n",
    "* [GCP Blog - How to build a simple multi-agentic system using Google’s ADK](https://cloud.google.com/blog/products/ai-machine-learning/build-multi-agentic-systems-using-google-adk)"
   ]
  }
 ],
 "metadata": {
  "kernelspec": {
   "display_name": "Python 3 (ipykernel)",
   "language": "python",
   "name": "python3"
  },
  "language_info": {
   "codemirror_mode": {
    "name": "ipython",
    "version": 3
   },
   "file_extension": ".py",
   "mimetype": "text/x-python",
   "name": "python",
   "nbconvert_exporter": "python",
   "pygments_lexer": "ipython3",
   "version": "3.13.6"
  }
 },
 "nbformat": 4,
 "nbformat_minor": 5
}
