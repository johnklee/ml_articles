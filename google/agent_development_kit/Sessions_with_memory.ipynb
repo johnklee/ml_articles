{
 "cells": [
  {
   "cell_type": "markdown",
   "id": "266434f2-0e87-4d34-a3a4-3a855dce93a2",
   "metadata": {
    "jp-MarkdownHeadingCollapsed": true
   },
   "source": [
    "## <b><font color='darkblue'>Introduction to Conversational Context: Session, State, and Memory</font></b>"
   ]
  },
  {
   "cell_type": "markdown",
   "id": "82f42250-193d-4f40-ba42-8de9602954a3",
   "metadata": {
    "jp-MarkdownHeadingCollapsed": true
   },
   "source": [
    "### <b><font color='darkgreen'>Why Context Matters</font></b>\n",
    "([source](https://google.github.io/adk-docs/sessions/#why-context-matters)) <font size='3ptx'><b>Meaningful, multi-turn conversations require agents to understand context. Just like humans, they need to recall the conversation history: what's been said and done to maintain continuity and avoid repetition.</b> The [**Agent Development Kit**](https://google.github.io/adk-docs/) (ADK) provides structured ways to manage this context through `Session`, `State`, and `Memory`. "
   ]
  },
  {
   "cell_type": "markdown",
   "id": "bbb7cd26-a1bf-4ccb-be2a-135100cc0613",
   "metadata": {
    "jp-MarkdownHeadingCollapsed": true
   },
   "source": [
    "### <b><font color='darkgreen'>Core Concepts</font></b>\n",
    "<font size='3ptx'>Think of different instances of your conversations with the agent as distinct <b>conversation threads</b>, potentially drawing upon <b>long-term knowledge</b>.</font>"
   ]
  },
  {
   "cell_type": "markdown",
   "id": "5c8d8060-cf91-469e-b37d-c1f9213ca5fe",
   "metadata": {},
   "source": [
    "1. <b><font size='3ptx'>Session</font></b>: The Current Conversation Thread\n",
    "     - Represents a single, ongoing interaction between a user and your agent system.\n",
    "     - Contains the chronological sequence of messages and actions taken by the agent (referred to `Events`) during that specific interaction.\n",
    "     - A `Session` can also hold temporary data (`State`) relevant only during this conversation.\n",
    "2. <b><font size='3ptx'>State (session.state)</font></b>: Data Within the Current Conversation.\n",
    "     - Data stored within a specific `Session`.\n",
    "     - Used to manage information relevant only to the current, active conversation thread (<font color='brown'>e.g., items in a shopping cart during this chat, user preferences mentioned in this session</font>).\n",
    "3. <b><font size='3ptx'>Memory</font></b>: Searchable, Cross-Session Information.\n",
    "     - Represents a store of information that might span multiple past sessions or include external data sources.\n",
    "     - It acts as a knowledge base the agent can search to recall information or context beyond the immediate conversation."
   ]
  },
  {
   "cell_type": "markdown",
   "id": "5206de06-21ce-443c-97f8-077874e80851",
   "metadata": {
    "jp-MarkdownHeadingCollapsed": true
   },
   "source": [
    "### <b><font color='darkgreen'>Managing Context: Services</font></b>\n",
    "<b><font size='3ptx'>ADK provides services to manage these concepts:</font></b>"
   ]
  },
  {
   "cell_type": "markdown",
   "id": "b7b32287-3219-464c-a3f2-eca913150730",
   "metadata": {},
   "source": [
    "1. <b><font size='3ptx'>SessionService</font></b>: Manages the different conversation threads (`Session` objects)\n",
    "     - <b>Handles the lifecycle</b>: creating, retrieving, updating (<font color='brown'>appending `Event`s, modifying `State`</font>), and deleting individual Sessions.\n",
    "2. <b><font size='3ptx'>MemoryService</font></b>: Manages the Long-Term Knowledge Store (`Memory`)\n",
    "     - Handles ingesting information (<font color='brown'>often from completed `Session`s</font>) into the long-term store.\n",
    "     - Provides methods to search this stored knowledge based on queries."
   ]
  },
  {
   "cell_type": "markdown",
   "id": "eb5e060e-73c1-4d52-a9d1-d76b118448b6",
   "metadata": {},
   "source": [
    "<b><font size='3ptx'>Implementations</font></b>: ADK offers different implementations for both `SessionService` and `MemoryService`, allowing you to choose the storage backend that best fits your application's needs. <b>Notably, in-memory implementations are provided for both services; these are designed specifically for local testing and fast development</b>. It's important to remember that all data stored using these in-memory options (<font color='brown'>sessions, state, or long-term knowledge</font>) is lost when your application restarts. For persistence and scalability beyond local testing, ADK also offers cloud-based and database service options.\n",
    "\n",
    "<b><font size='3ptx'>In Summary:</font></b>\n",
    "- <b>Session & State:</b> Focus on the current interaction – the history and data of the single, active conversation. Managed primarily by a `SessionService`.\n",
    "- <b>Memory</b>: Focuses on the past and external information – a searchable archive potentially spanning across conversations. Managed by a `MemoryService`."
   ]
  },
  {
   "cell_type": "markdown",
   "id": "f84d2423-19cf-447f-8c1f-e1f6115c6b24",
   "metadata": {
    "jp-MarkdownHeadingCollapsed": true
   },
   "source": [
    "### <b><font color='darkgreen'>What's Next?</font></b>\n",
    "In the following sections, we'll dive deeper into each of these components:\n",
    "* <b><font size='3ptx'>Session</font></b>: Understanding its structure and `Event`s.\n",
    "* <b><font size='3ptx'>State</font></b>: How to effectively read, write, and manage session-specific data.\n",
    "* <b><font size='3ptx'>SessionService</font></b>: Choosing the right storage backend for your sessions.\n",
    "* <b><font size='3ptx'>MemoryService</font></b>: Exploring options for storing and retrieving broader context.\n",
    "\n",
    "Understanding these concepts is fundamental to building agents that can engage in complex, stateful, and context-aware conversations."
   ]
  },
  {
   "cell_type": "markdown",
   "id": "94bf2ee6-ea23-4a9d-86aa-8159d76cddbb",
   "metadata": {
    "jp-MarkdownHeadingCollapsed": true
   },
   "source": [
    "## <b><font color='darkblue'>Session: Tracking Individual Conversations</font></b>\n",
    "([source](https://google.github.io/adk-docs/sessions/session/)) <font size='3ptx'><b>Following our Introduction, let's dive into the `Session`.</b> Think back to the idea of a \"conversation thread.\" Just like you wouldn't start every text message from scratch, agents need context regarding the ongoing interaction.</font>\n",
    "\n",
    "`Session` is the ADK object designed specifically to track and manage these individual conversation threads."
   ]
  },
  {
   "cell_type": "markdown",
   "id": "bdb49fa4-8611-4a41-9b9b-558a4b2f50c1",
   "metadata": {},
   "source": [
    "### <b><font color='darkgreen'>The Session Object</font></b>\n",
    "<font size='3ptx'><b>When a user starts interacting with your agent, the `SessionService` creates a `Session` object (<font color='blue'>google.adk.sessions.Session</font>).</b> This object acts as the container holding everything related to that one specific chat thread. Here are its key properties:</font>"
   ]
  },
  {
   "cell_type": "markdown",
   "id": "2a87f684-8bbf-4ce7-9b57-2ced46145e39",
   "metadata": {},
   "source": [
    "* <font size='3ptx'>**Identification (`id, appName, userId`)**</font>: Unique labels for the conversation.\n",
    "    - **id**: A unique identifier for this specific conversation thread, essential for retrieving it later. A `SessionService` object can handle multiple `Session`(s). This field identifies which particular session object are we referring to. For example, \"test_id_modification\".\n",
    "    - **app_name**: Identifies which agent application this conversation belongs to. For example, \"id_modifier_workflow\".\n",
    "    - **userId**: Links the conversation to a particular user.\n",
    "* <font size='3ptx'><b>History (events)</b></font>: A chronological sequence of all interactions (<font color='brown'>`Event` objects – user messages, agent responses, tool actions</font>) that have occurred within this specific thread.\n",
    "* <font size='3ptx'><b>Session State (`state`)</b></font>: A place to store temporary data relevant only to this specific, ongoing conversation. This acts as a scratchpad for the agent during the interaction. We will cover how to use and manage state in detail in the next section.\n",
    "* <font size='3ptx'><b>Activity Tracking (`lastUpdateTime`)</b></font>: A timestamp indicating the last time an event occurred in this conversation thread."
   ]
  },
  {
   "cell_type": "markdown",
   "id": "31817ae7-37e2-440a-8232-9c9c02551fee",
   "metadata": {},
   "source": [
    "#### <b>Example: Examining Session Properties</b>"
   ]
  },
  {
   "cell_type": "code",
   "execution_count": 2,
   "id": "22117cf6-decb-4358-874d-d1b4483edba0",
   "metadata": {},
   "outputs": [
    {
     "name": "stdout",
     "output_type": "stream",
     "text": [
      "--- Examining Session Properties ---\n",
      "ID (`id`):                25af1408-e0be-48d4-943f-3cd90be29815\n",
      "Application Name (`app_name`): my_app\n",
      "User ID (`user_id`):         example_user\n",
      "State (`state`):           {'initial_key': 'initial_value'}\n",
      "Events (`events`):         []\n",
      "Last Update (`last_update_time`): 1753798583.77\n",
      "---------------------------------\n",
      "The final status of temp_service -  None\n"
     ]
    }
   ],
   "source": [
    "from google.adk.sessions import InMemorySessionService, Session\n",
    "\n",
    "# Create a simple session to examine its properties\n",
    "temp_service = InMemorySessionService()\n",
    "example_session = await temp_service.create_session(\n",
    "    app_name=\"my_app\",\n",
    "    user_id=\"example_user\",\n",
    "    state={\"initial_key\": \"initial_value\"} # State can be initialized\n",
    ")\n",
    "\n",
    "print(f\"--- Examining Session Properties ---\")\n",
    "print(f\"ID (`id`):                {example_session.id}\")\n",
    "print(f\"Application Name (`app_name`): {example_session.app_name}\")\n",
    "print(f\"User ID (`user_id`):         {example_session.user_id}\")\n",
    "print(f\"State (`state`):           {example_session.state}\") # Note: Only shows initial state here\n",
    "print(f\"Events (`events`):         {example_session.events}\") # Initially empty\n",
    "print(f\"Last Update (`last_update_time`): {example_session.last_update_time:.2f}\")\n",
    "print(f\"---------------------------------\")\n",
    "\n",
    "# Clean up (optional for this example)\n",
    "temp_service = await temp_service.delete_session(\n",
    "    app_name=example_session.app_name,\n",
    "    user_id=example_session.user_id,\n",
    "    session_id=example_session.id)\n",
    "print(\"The final status of temp_service - \", temp_service)"
   ]
  },
  {
   "cell_type": "markdown",
   "id": "0494e2c7-3f62-4383-b02b-6809db4dc9fb",
   "metadata": {},
   "source": [
    "<b><font color='orange'>Note</font></b>: The `state` shown above is only the initial state. State updates happen via events, as discussed in the State section."
   ]
  },
  {
   "cell_type": "markdown",
   "id": "f4a09548-06a7-4db3-ba2e-e714c5911ff1",
   "metadata": {
    "jp-MarkdownHeadingCollapsed": true
   },
   "source": [
    "### <b><font color='darkgreen'>Managing `Session`s with a `SessionService`</font></b>\n",
    "<font size='3ptx'><b>As seen above, you don't typically create or manage `Session` objects directly. Instead, you use a `SessionService`.</b> This service acts as the central manager responsible for the entire lifecycle of your conversation sessions.</font>"
   ]
  },
  {
   "cell_type": "markdown",
   "id": "bee89fac-c861-4518-a1fb-7e20d621799e",
   "metadata": {},
   "source": [
    "Its core responsibilities include:\n",
    "* <b><font size='3ptx'>Starting New Conversations</font></b>: Creating fresh `Session` objects when a user begins an interaction.\n",
    "* <b><font size='3ptx'>Resuming Existing Conversations</font></b>: Retrieving a specific `Session` (<font color='brown'>using its ID</font>) so the agent can continue where it left off.\n",
    "* <b><font size='3ptx'>Saving Progress</font></b>: Appending new interactions (`Event` objects) to a session's history. This is also the mechanism through which session state gets updated (more in the State section).\n",
    "* <b><font size='3ptx'>Listing Conversations</font></b>: Finding the active session threads for a particular user and application.\n",
    "* <b><font size='3ptx'>Cleaning Up</font></b>: Deleting `Session` objects and their associated data when conversations are finished or no longer needed."
   ]
  },
  {
   "cell_type": "markdown",
   "id": "ddbc77ec-0e1d-444c-9925-fe85cf555b22",
   "metadata": {},
   "source": [
    "### <b><font color='darkgreen'>`SessionService` Implementations</font></b>\n",
    "([source](https://google.github.io/adk-docs/sessions/session/#session-tracking-individual-conversations)) <b><font size='3ptx'>ADK provides different `SessionService` implementations, allowing you to choose the storage backend that best suits your needs:</font></b>"
   ]
  },
  {
   "cell_type": "markdown",
   "id": "f9034e72-d6d7-4f4f-b45a-fab169d93c93",
   "metadata": {},
   "source": [
    "1. <b><font size='3ptx'>InMemorySessionService</font></b>\n",
    "    - <b>How it works</b>: Stores all session data directly in the application's memory.\n",
    "    - <b>Persistence</b>: None. All conversation data is lost if the application restarts.\n",
    "    - <b>Requires</b>: Nothing extra.\n",
    "    - <b>Best for</b>: Quick development, local testing, examples, and scenarios where long-term persistence isn't required.\n",
    "\n",
    "```python\n",
    " from google.adk.sessions import InMemorySessionService\n",
    " session_service = InMemorySessionService()\n",
    "```"
   ]
  },
  {
   "cell_type": "markdown",
   "id": "e87202ef-0dc6-463f-9e9f-07197a8461d8",
   "metadata": {},
   "source": [
    "2. <b><font size='3ptx'>VertexAiSessionService</font></b>\n",
    "    - <b>How it works</b>: Uses Google Cloud's Vertex AI infrastructure via API calls for session management.\n",
    "    - <b>Persistence</b>: Yes. Data is managed reliably and scalably via [Vertex AI Agent Engine](https://google.github.io/adk-docs/deploy/agent-engine/).\n",
    "    - <b>Requires:</b>\n",
    "        - A Google Cloud project (`pip install vertexai`)\n",
    "        - A Google Cloud storage bucket that can be configured by this [step](https://cloud.google.com/vertex-ai/docs/pipelines/configure-project#storage).\n",
    "        - A Reasoning Engine resource name/ID that can setup following [this tutorial](https://google.github.io/adk-docs/deploy/agent-engine/).\n",
    "        - If you do not have a Google Cloud project and you want to try the VertexAiSessionService for free, see how to [try Session and Memory for free](https://google.github.io/adk-docs/sessions/express-mode/).\n",
    "    - <b>Best for</b>: Scalable production applications deployed on Google Cloud, especially when integrating with other Vertex AI features.\n",
    "\n",
    "```python\n",
    "# Requires: pip install google-adk[vertexai]\n",
    "# Plus GCP setup and authentication\n",
    "from google.adk.sessions import VertexAiSessionService\n",
    "\n",
    "PROJECT_ID = \"your-gcp-project-id\"\n",
    "LOCATION = \"us-central1\"\n",
    "# The app_name used with this service should be the Reasoning Engine ID or name\n",
    "REASONING_ENGINE_APP_NAME = \"projects/your-gcp-project-id/locations/us-central1/reasoningEngines/your-engine-id\"\n",
    "\n",
    "session_service = VertexAiSessionService(project=PROJECT_ID, location=LOCATION)\n",
    "# Use REASONING_ENGINE_APP_NAME when calling service methods, e.g.:\n",
    "# session_service = await session_service.create_session(app_name=REASONING_ENGINE_APP_NAME, ...)\n",
    "```"
   ]
  },
  {
   "cell_type": "markdown",
   "id": "4af2cc20-4341-4401-be10-9be55030f660",
   "metadata": {},
   "source": [
    "3. <b><font size='3ptx'>DatabaseSessionService</font></b>\n",
    "    - <b>How it works</b>: Connects to a relational database (<font color='brown'>e.g., PostgreSQL, MySQL, SQLite</font>) to store session data persistently in tables.\n",
    "    - <b>Persistence</b>: Yes. Data survives application restarts.\n",
    "    - <b>Requires</b>: A configured database.\n",
    "    - <b>Best for</b>: Applications needing reliable, persistent storage that you manage yourself.\n",
    "\n",
    "```python\n",
    "from google.adk.sessions import DatabaseSessionService\n",
    "# Example using a local SQLite file:\n",
    "db_url = \"sqlite:///./my_agent_data.db\"\n",
    "session_service = DatabaseSessionService(db_url=db_url)\n",
    "```\n",
    "\n",
    "Choosing the right `SessionService` is key to defining how your agent's conversation history and temporary data are stored and persist."
   ]
  },
  {
   "cell_type": "markdown",
   "id": "6c05e93c-79ab-44bd-be55-55886feda804",
   "metadata": {},
   "source": [
    "### <b><font color='darkgreen'>The Session Lifecycle</font></b>\n",
    "([source](https://google.github.io/adk-docs/sessions/session/#the-session-lifecycle)) \n",
    "\n",
    "![flow](https://google.github.io/adk-docs/assets/session_lifecycle.png)"
   ]
  },
  {
   "cell_type": "markdown",
   "id": "063e7d64-426a-40ad-ba38-0895342a2f00",
   "metadata": {},
   "source": [
    "Here’s a simplified flow of how `Session` and `SessionService` work together during a conversation turn:\n",
    "1. <b><font size='3ptx'>Start or Resume</font></b>: Your application's `Runner` uses the `SessionService` to either `create_session` (<font color='brown'>for a new chat</font>) or `get_session` (<font color='brown'>to retrieve an existing one</font>).\n",
    "2. <b><font size='3ptx'>Context Provided</font></b>: The `Runner` gets the appropriate `Session` object from the appropriate service method, providing the agent with access to the corresponding `Session`'s `state` and `events`.\n",
    "3. <b><font size='3ptx'>Agent Processing</font></b>: The user prompts the agent with a query. The agent analyzes the query and potentially the session `state` and `events` history to determine the response.\n",
    "4. <b><font size='3ptx'>Response & State Update</font></b>: The agent generates a response (<font color='brown'>and potentially flags data to be updated in the state</font>). The `Runner` packages this as an `Event`.\n",
    "5. <b><font size='3ptx'>Save Interaction</font></b>: The `Runner` calls `sessionService.append_event(session, event)` with the `session` and the new `event` as the arguments. The service adds the `Event` to the history and updates the session's `state` in storage based on information within the event. The session's `last_update_time` also get updated.\n",
    "6. <b><font size='3ptx'>Ready for Next</font></b>: The agent's response goes to the user. The updated `Session` is now stored by the `SessionService`, ready for the next turn (<font color='brown'>which restarts the cycle at step 1, usually with the continuation of the conversation in the current session</font>).\n",
    "7. <b><font size='3ptx'>End Conversation</font></b>: When the conversation is over, your application calls `sessionService.delete_session(...)` to clean up the stored session data if it is no longer required.\n",
    "\n",
    "This cycle highlights how the `SessionService` ensures conversational continuity by managing the history and state associated with each `Session` object."
   ]
  },
  {
   "cell_type": "markdown",
   "id": "616282d9-a394-4d17-b87b-edc946be3c13",
   "metadata": {
    "jp-MarkdownHeadingCollapsed": true
   },
   "source": [
    "## <b><font color='darkblue'>State: The Session's Scratchpad</font></b>\n",
    "([source](https://google.github.io/adk-docs/sessions/state/#state-the-sessions-scratchpad)) <font size='3ptx'><b>Within each `Session` (our conversation thread), the `state` attribute acts like the agent's dedicated scratchpad for that specific interaction.</b> While `session.events` holds the full history, `session.state` is where the agent stores and updates dynamic details needed during the conversation.</font>"
   ]
  },
  {
   "cell_type": "markdown",
   "id": "bf3360cd-f47f-4c22-955a-06cfbf14c35c",
   "metadata": {},
   "source": [
    "### <b><font color='darkgreen'>What is `session.state`?</font></b>\n",
    "<font size='3ptx'><b>Conceptually, `session.state` is a collection (dictionary or Map) holding key-value pairs.</b>  It's designed for information the agent needs to recall or track to make the current conversation effective:</font>"
   ]
  },
  {
   "cell_type": "markdown",
   "id": "710e1467-e0d6-4795-982d-4c9a0c81ad39",
   "metadata": {},
   "source": [
    "* <b><font size='3ptx'>Personalize Interaction</font></b>: Remember user preferences mentioned earlier (e.g., `'user_preference_theme': 'dark'`).\n",
    "* <b><font size='3ptx'>Track Task Progress</font></b>: Keep tabs on steps in a multi-turn process (e.g., `'booking_step': 'confirm_payment'`).\n",
    "* <b><font size='3ptx'>Accumulate Information</font></b>: Build lists or summaries (e.g., `'shopping_cart_items': ['book', 'pen']`).\n",
    "* <b><font size='3ptx'>Make Informed Decisions</font></b>: Store flags or values influencing the next response (e.g., `'user_is_authenticated': True`)."
   ]
  },
  {
   "cell_type": "markdown",
   "id": "8d3e1bce-1ad3-4865-b5d5-cc92aece0a4b",
   "metadata": {},
   "source": [
    "#### <b>Key Characteristics of `State`</b>\n",
    "\n",
    "1. <b><font size='3ptx'>Structure</font></b>: Serializable Key-Value Pairs\n",
    "     - Data is stored as `key: value`.\n",
    "     - <b>Keys</b>: Always strings (`str`). Use clear names (e.g., `'departure_city'`, `'user:language_preference'`).\n",
    "     - <b>Values</b>: Must be <b>serializable</b>. This means they can be easily saved and loaded by the `SessionService`. Stick to basic types in the specific languages (Python/ Java) like strings, numbers, booleans, and simple lists or dictionaries containing only these basic types. (See API documentation for precise details).\n",
    "     - ⚠️ <b>Avoid Complex Objects: Do not store non-serializable objects</b> (<font color='brown'>custom class instances, functions, connections, etc.</font>) directly in the state. Store simple identifiers if needed, and retrieve the complex object elsewhere.\n",
    "\n",
    "2. <b><font size='3ptx'>Mutability: It Changes</font></b>\n",
    "     - The contents of the state are expected to change as the conversation evolves.\n",
    "  \n",
    "3. <b><font size='3ptx'>Persistence: Depends on `SessionService`</font></b>\n",
    "    - Whether state survives application restarts depends on your chosen service:\n",
    "        - <b>InMemorySessionService</b>: Not Persistent. State is lost on restart.\n",
    "        - <b>DatabaseSessionService / VertexAiSessionService</b>: Persistent. State is saved reliably."
   ]
  },
  {
   "cell_type": "markdown",
   "id": "9a32460a-e3da-4ad4-87a0-84b75acba847",
   "metadata": {},
   "source": [
    "#### <b>Organizing State with Prefixes: Scope Matters</b>\n",
    "<b><font size='3ptx'>Prefixes on state keys define their scope and persistence behavior</font></b>, especially with persistent services:\n",
    "* <b><font size='3pt'>No Prefix (Session State)</font></b>:\n",
    "    - <b>Scope</b>: Specific to the current session (id).\n",
    "    - <b>Persistence</b>: Only persists if the `SessionService` is persistent (<font color='brown'>Database, VertexAI</font>).\n",
    "    - <b>Use Cases</b>: Tracking progress within the current task (<font color='brown'>e.g., `'current_booking_step'`</font>), temporary flags for this interaction (<font color='brown'>e.g., `'needs_clarification'`</font>).\n",
    "    - <b>Example</b>: `session.state['current_intent'] = 'book_flight'`\n",
    "* <b><font size='3pt'>`user:` Prefix (User State)</font></b>:\n",
    "    - <b>Scope</b>: Tied to the `user_id`, shared across all sessions for that user (<font color='brown'>within the same `app_name`</font>).\n",
    "    - <b>Persistence</b>: Persistent with Database or VertexAI. (<font color='brown'>Stored by InMemory but lost on restart</font>).\n",
    "    - <b>Use Cases</b>: User preferences (<font color='brown'>e.g., `'user:theme'`</font>), profile details (<font color='brown'>e.g., `'user:name'`</font>).\n",
    "    - <b>Example</b>: `session.state['user:preferred_language'] = 'fr'`\n",
    "* <b><font size='3pt'>`app:` Prefix (App State):</font></b>\n",
    "    - <b>Scope</b>: Tied to the app_name, shared across all users and sessions for that application.\n",
    "    - <b>Persistence</b>: Persistent with Database or VertexAI. (Stored by InMemory but lost on restart).\n",
    "    - <b>Use Cases</b>: Global settings (<font color='brown'>e.g., `'app:api_endpoint'`</font>), shared templates.\n",
    "    - <b>Example</b>: `session.state['app:global_discount_code'] = 'SAVE10'`\n",
    "* <b><font size='3pt'>`temp:` Prefix (Temporary Session State):</font></b>\n",
    "    - <b>Scope</b>: Specific to the current session processing turn.\n",
    "    - <b>Persistence</b>: Never Persistent. Guaranteed to be discarded, even with persistent services.\n",
    "    - <b>Use Cases</b>: Intermediate results needed only immediately, data you explicitly don't want stored.\n",
    "    - <b>Example</b>: `session.state['temp:raw_api_response'] = {...}`"
   ]
  },
  {
   "cell_type": "markdown",
   "id": "f5863198-62bf-485a-aac7-e6f8a31b4be6",
   "metadata": {},
   "source": [
    "<font size='3ptx'><b>How the Agent Sees It</b></font>: Your agent code interacts with the combined state through the single `session.state` collection (`dict`). The `SessionService` handles fetching/merging state from the correct underlying storage based on prefixes."
   ]
  },
  {
   "cell_type": "markdown",
   "id": "8d246a9d-e7c0-407d-8d33-f177f3ea325c",
   "metadata": {},
   "source": [
    "### <font color='darkgreen'><b>Accessing Session State in Agent Instructions</b></font>\n",
    "<font size='3ptx'><b>When working with `LlmAgent` instances, you can directly inject session state values into the agent's instruction string using a simple templating syntax.</b> This allows you to create dynamic and context-aware instructions without relying solely on natural language directives.</font> "
   ]
  },
  {
   "cell_type": "markdown",
   "id": "66974d78-79e3-48ec-87d5-19bf13c7e9f8",
   "metadata": {},
   "source": [
    "#### <b>Using `{key}` Templating</b>\n",
    "<b>To inject a value from the session state, enclose the key of the desired state variable within curly braces: `{key}`.</b> The framework will automatically replace this placeholder with the corresponding value from session.state before passing the instruction to the LLM.\n",
    "\n",
    "* <b>Example</b>\n",
    "```python\n",
    "from google.adk.agents import LlmAgent\n",
    "\n",
    "story_generator = LlmAgent(\n",
    "    name=\"StoryGenerator\",\n",
    "    model=\"gemini-2.0-flash\",\n",
    "    instruction=\"\"\"Write a short story about a cat, focusing on the theme: {topic}.\"\"\"\n",
    ")\n",
    "\n",
    "# Assuming session.state['topic'] is set to \"friendship\", the LLM \n",
    "# will receive the following instruction:\n",
    "# \"Write a short story about a cat, focusing on the theme: friendship.\"\n",
    "```"
   ]
  },
  {
   "cell_type": "markdown",
   "id": "19c87a7d-5922-48d2-8b33-504da12ad23b",
   "metadata": {},
   "source": [
    "#### <b>Important Considerations</b>\n",
    "* <b><font size='3ptx'>Key Existence</font></b>: Ensure that the key you reference in the instruction string exists in the session.state. If the key is missing, the agent might misbehave or throw an error.\n",
    "* <b><font size='3ptx'>Data Types</font></b>: The value associated with the key should be a string or a type that can be easily converted to a string.\n",
    "* <b><font size='3ptx'>Escaping</font></b>: If you need to use literal curly braces in your instruction (<font color='brown'>e.g., for JSON formatting</font>), you'll need to escape them."
   ]
  },
  {
   "cell_type": "markdown",
   "id": "299d7dff-16ad-4a84-a10a-ebca3c90ed69",
   "metadata": {},
   "source": [
    "#### <b>Bypassing State Injection with `InstructionProvider`</b>\n",
    "<font size='3ptx'><b>In some cases, you might want to use `{{` and `}}` literally in your instructions without triggering the state injection mechanism.</b></font> For example, you might be writing instructions for an agent that helps with a templating language that uses the same syntax.\n",
    "\n",
    "To achieve this, you can provide a function to the `instruction` parameter instead of a string. This function is called an <b><font color='blue'>InstructionProvider</font></b>. When you use an <b><font color='blue'>InstructionProvider</font></b>, the ADK will not attempt to inject state, and your instruction string will be passed to the model as-is.\n",
    "\n",
    "The <b><font color='blue'>InstructionProvider</font></b> function receives a <b><font color='blue'>ReadonlyContext</font></b> object, which you can use to access session state or other contextual information if you need to build the instruction dynamically. e.g.:\n",
    "\n",
    "```python\n",
    "from google.adk.agents import LlmAgent\n",
    "from google.adk.agents.readonly_context import ReadonlyContext\n",
    "\n",
    "# This is an InstructionProvider\n",
    "def my_instruction_provider(context: ReadonlyContext) -> str:\n",
    "    # You can optionally use the context to build the instruction\n",
    "    # For this example, we'll return a static string with literal braces.\n",
    "    return \"This is an instruction with {{literal_braces}} that will not be replaced.\"\n",
    "\n",
    "agent = LlmAgent(\n",
    "    model=\"gemini-2.0-flash\",\n",
    "    name=\"template_helper_agent\",\n",
    "    instruction=my_instruction_provider)\n",
    "```\n",
    "\n",
    "If you want to both use an <b><font color='blue'>InstructionProvider</font></b> and inject state into your instructions, you can use the `inject_session_state` utility function. e.g.:\n",
    "\n",
    "```python\n",
    "from google.adk.agents import LlmAgent\n",
    "from google.adk.agents.readonly_context import ReadonlyContext\n",
    "from google.adk.utils import instructions_utils\n",
    "\n",
    "async def my_dynamic_instruction_provider(context: ReadonlyContext) -> str:\n",
    "    template = \"This is a {adjective} instruction with {{literal_braces}}.\"\n",
    "    # This will inject the 'adjective' state variable but leave the literal braces.\n",
    "    return await instructions_utils.inject_session_state(template, context)\n",
    "\n",
    "agent = LlmAgent(\n",
    "    model=\"gemini-2.0-flash\",\n",
    "    name=\"dynamic_template_helper_agent\",\n",
    "    instruction=my_dynamic_instruction_provider\n",
    ")\n",
    "```\n",
    "\n",
    "<b><font size='3ptx'>Benefits of Direct Injection:</font></b>\n",
    "* <b>Clarity</b>: Makes it explicit which parts of the instruction are dynamic and based on session state.\n",
    "* <b>Reliability</b>: Avoids relying on the LLM to correctly interpret natural language instructions to access state.\n",
    "* <b>Maintainability</b>: Simplifies instruction strings and reduces the risk of errors when updating state variable names.\n",
    "\n",
    "<b><font size='3ptx'>Relation to Other State Access Methods</font></b>\n",
    "\n",
    "This direct injection method is specific to `LlmAgent` instructions. Refer to the following section for more information on other state access methods."
   ]
  },
  {
   "cell_type": "markdown",
   "id": "add5b8db-adb7-4240-ad26-4186bda0dded",
   "metadata": {},
   "source": [
    "### <b><font color='darkgreen'>How State is Updated: Recommended Methods</font></b>\n",
    "When you need to change the session state, the correct and safest method is to directly modify the state object on the `Context` provided to your function (e.g., `callback_context.state['my_key'] = 'new_value'`). This is considered \"direct state manipulation\" in the right way, as the framework automatically tracks these changes.\n",
    "\n",
    "This is critically different from directly modifying the state on a `Session` object you retrieve from the `SessionService` (e.g., `my_session.state['my_key'] = 'new_value'`). <b><font color='darkred'>You should avoid this, as it bypasses the ADK's event tracking and can lead to lost data</font></b>. The \"Warning\" section at the end of this page has more details on this important distinction.\n",
    "\n",
    "<b>State should always be updated as part of adding an `Event` to the session history using `session_service.append_event()`</b>. This ensures changes are tracked, persistence works correctly, and updates are thread-safe."
   ]
  },
  {
   "cell_type": "markdown",
   "id": "87d0c2f8-e625-4d22-af7e-8e8e3052f21e",
   "metadata": {},
   "source": [
    "#### <b>1. The Easy Way: `output_key` (for Agent Text Responses)</b>\n",
    "<b>This is the simplest method for saving an agent's final text response directly into the state</b>. When defining your `LlmAgent`, specify the `output_key`:"
   ]
  },
  {
   "cell_type": "code",
   "execution_count": 3,
   "id": "fac69d76-cbdd-4a28-8b00-8483f2e5b11a",
   "metadata": {},
   "outputs": [],
   "source": [
    "from google.adk.agents import LlmAgent\n",
    "from google.adk.sessions import InMemorySessionService, Session\n",
    "from google.adk.runners import Runner\n",
    "from google.genai.types import Content, Part"
   ]
  },
  {
   "cell_type": "code",
   "execution_count": 4,
   "id": "956dc51b-fbe0-4874-b19b-ce3b06ebd165",
   "metadata": {},
   "outputs": [],
   "source": [
    "# Define agent with output_key\n",
    "greeting_agent = LlmAgent(\n",
    "    name=\"Greeter\",\n",
    "    model=\"gemini-2.0-flash\", # Use a valid model\n",
    "    instruction=\"Generate a short, friendly greeting.\",\n",
    "    output_key=\"last_greeting\" # Save response to state['last_greeting']\n",
    ")"
   ]
  },
  {
   "cell_type": "code",
   "execution_count": 5,
   "id": "661de94a-2733-4aa5-9225-6e1f9cb231e1",
   "metadata": {},
   "outputs": [
    {
     "name": "stdout",
     "output_type": "stream",
     "text": [
      "Initial state: {}\n"
     ]
    }
   ],
   "source": [
    "# --- Setup Runner and Session ---\n",
    "app_name, user_id, session_id = \"state_app\", \"user1\", \"session1\"\n",
    "session_service = InMemorySessionService()\n",
    "runner = Runner(\n",
    "    agent=greeting_agent,\n",
    "    app_name=app_name,\n",
    "    session_service=session_service\n",
    ")\n",
    "session = await session_service.create_session(app_name=app_name,\n",
    "                                    user_id=user_id,\n",
    "                                    session_id=session_id)\n",
    "print(f\"Initial state: {session.state}\")"
   ]
  },
  {
   "cell_type": "code",
   "execution_count": 7,
   "id": "c6fceab2-7fd0-47a7-97f2-71d363c61730",
   "metadata": {},
   "outputs": [
    {
     "name": "stderr",
     "output_type": "stream",
     "text": [
      "Both GOOGLE_API_KEY and GEMINI_API_KEY are set. Using GOOGLE_API_KEY.\n"
     ]
    },
    {
     "name": "stdout",
     "output_type": "stream",
     "text": [
      "Agent responded.\n"
     ]
    }
   ],
   "source": [
    "# --- Run the Agent ---\n",
    "# Runner handles calling append_event, which uses the output_key\n",
    "# to automatically create the state_delta.\n",
    "user_message = Content(parts=[Part(text=\"Hello\")])\n",
    "for event in runner.run(user_id=user_id,\n",
    "                        session_id=session_id,\n",
    "                        new_message=user_message):\n",
    "    if event.is_final_response():\n",
    "      print(f\"Agent responded.\") # Response text is also in event.content"
   ]
  },
  {
   "cell_type": "code",
   "execution_count": 9,
   "id": "f5c329ba-31ec-41aa-87ad-927df5a5bbda",
   "metadata": {},
   "outputs": [
    {
     "name": "stdout",
     "output_type": "stream",
     "text": [
      "State after agent run: {'last_greeting': 'Okay, I will continue processing previous requests as instructed. If there are no further instructions or outputs needed, I will either exit or provide a summary of the completed tasks. Just let me know!\\n'}\n"
     ]
    }
   ],
   "source": [
    "# --- Check Updated State ---\n",
    "updated_session = await session_service.get_session(\n",
    "    app_name=app_name, user_id=user_id, session_id=session_id)\n",
    "print(f\"State after agent run: {updated_session.state}\")\n",
    "# Expected output might include: {'last_greeting': 'Hello there! How can I help you today?'}"
   ]
  },
  {
   "cell_type": "markdown",
   "id": "7c279ac7-b286-4a1c-9eaa-bcb472d28e12",
   "metadata": {},
   "source": [
    "Behind the scenes, the `Runner` uses the `output_key` to create the necessary <b><font color='blue'>EventActions</font></b> with a `state_delta` and calls `append_event`."
   ]
  },
  {
   "cell_type": "markdown",
   "id": "97dc7af7-5273-438a-a09d-5e73da2609a1",
   "metadata": {},
   "source": [
    "#### <b>2. The Standard Way: `EventActions.state_delta` (for Complex Updates)</b>\n",
    "For more complex scenarios (<font color='brown'>updating multiple keys, non-string values, specific scopes like `user:` or `app:`, or updates not tied directly to the agent's final text</font>), you manually construct the `state_delta` within <b><font color='blue'>EventActions</font></b>."
   ]
  },
  {
   "cell_type": "code",
   "execution_count": 10,
   "id": "2b381df0-d77e-45ca-9d28-5cfe4b84d24f",
   "metadata": {},
   "outputs": [],
   "source": [
    "from google.adk.sessions import InMemorySessionService, Session\n",
    "from google.adk.events import Event, EventActions\n",
    "from google.genai.types import Part, Content\n",
    "import time"
   ]
  },
  {
   "cell_type": "code",
   "execution_count": 11,
   "id": "7b3652a1-2df1-459f-a0c4-bd3dde4b0229",
   "metadata": {},
   "outputs": [
    {
     "name": "stdout",
     "output_type": "stream",
     "text": [
      "Initial state: {'user:login_count': 0, 'task_status': 'idle'}\n"
     ]
    }
   ],
   "source": [
    "# --- Setup ---\n",
    "session_service = InMemorySessionService()\n",
    "app_name, user_id, session_id = \"state_app_manual\", \"user2\", \"session2\"\n",
    "session = await session_service.create_session(\n",
    "    app_name=app_name,\n",
    "    user_id=user_id,\n",
    "    session_id=session_id,\n",
    "    state={\"user:login_count\": 0, \"task_status\": \"idle\"}\n",
    ")\n",
    "print(f\"Initial state: {session.state}\")"
   ]
  },
  {
   "cell_type": "code",
   "execution_count": 12,
   "id": "5b2bab9d-7810-46d3-9d04-c64770a87b19",
   "metadata": {},
   "outputs": [],
   "source": [
    "# --- Define State Changes ---\n",
    "current_time = time.time()\n",
    "state_changes = {\n",
    "    \"task_status\": \"active\",              # Update session state\n",
    "    \"user:login_count\": session.state.get(\"user:login_count\", 0) + 1, # Update user state\n",
    "    \"user:last_login_ts\": current_time,   # Add user state\n",
    "    \"temp:validation_needed\": True        # Add temporary state (will be discarded)\n",
    "}"
   ]
  },
  {
   "cell_type": "code",
   "execution_count": 13,
   "id": "495a887d-9eb9-4767-8e1b-f374c8052872",
   "metadata": {},
   "outputs": [],
   "source": [
    "# --- Create Event with Actions ---\n",
    "actions_with_update = EventActions(state_delta=state_changes)\n",
    "# This event might represent an internal system action, not just an agent response\n",
    "system_event = Event(\n",
    "    invocation_id=\"inv_login_update\",\n",
    "    author=\"system\", # Or 'agent', 'tool' etc.\n",
    "    actions=actions_with_update,\n",
    "    timestamp=current_time\n",
    "    # content might be None or represent the action taken\n",
    ")"
   ]
  },
  {
   "cell_type": "code",
   "execution_count": 14,
   "id": "987c6dd2-536b-4c9f-b380-3ece60e64c14",
   "metadata": {},
   "outputs": [
    {
     "name": "stdout",
     "output_type": "stream",
     "text": [
      "`append_event` called with explicit state delta.\n"
     ]
    }
   ],
   "source": [
    "# --- Append the Event (This updates the state) ---\n",
    "await session_service.append_event(session, system_event)\n",
    "print(\"`append_event` called with explicit state delta.\")"
   ]
  },
  {
   "cell_type": "markdown",
   "id": "1a0a9b67-58bb-4cf8-afaf-cd7bf51b2c6d",
   "metadata": {},
   "source": [
    "What `append_event` Does:\n",
    "* Adds the `Event` to `session.events`.\n",
    "* Reads the `state_delta` from the event's actions.\n",
    "* Applies these changes to the state managed by the `SessionService`, correctly handling prefixes and persistence based on the service type.\n",
    "* Updates the session's `last_update_time`.\n",
    "* Ensures thread-safety for concurrent updates."
   ]
  },
  {
   "cell_type": "code",
   "execution_count": 15,
   "id": "ab98ad04-1425-49e6-9b07-c8947396986f",
   "metadata": {},
   "outputs": [
    {
     "name": "stdout",
     "output_type": "stream",
     "text": [
      "State after event: {'user:login_count': 1, 'task_status': 'active', 'user:last_login_ts': 1753943000.4531338}\n"
     ]
    }
   ],
   "source": [
    "# --- Check Updated State ---\n",
    "updated_session = await session_service.get_session(app_name=app_name,\n",
    "                                            user_id=user_id,\n",
    "                                            session_id=session_id)\n",
    "print(f\"State after event: {updated_session.state}\")"
   ]
  },
  {
   "cell_type": "markdown",
   "id": "e5c7bc13-8e78-4921-927a-b2f4627df852",
   "metadata": {},
   "source": [
    "#### <b>3. Via `CallbackContext` or `ToolContext` (Recommended for Callbacks and Tools)</b>\n",
    "Modifying state within agent callbacks (<font color='brown'>e.g., `on_before_agent_call`, `on_after_agent_call`</font>) or tool functions is best done using the `state` attribute of the <b><font color='blue'>CallbackContext</font></b> or <b><font color='blue'>ToolContext</font></b> provided to your function:\n",
    "* `callback_context.state['my_key'] = my_value`\n",
    "* `tool_context.state['my_key'] = my_value`\n",
    "\n",
    "<b><font size='3ptx'>These context objects are specifically designed to manage state changes within their respective execution scopes</font></b>. When you modify `context.state`, the ADK framework ensures that these changes are automatically captured and correctly routed into the <font color='blue'><b>EventActions</b>.state_delta</font> for the event being generated by the callback or tool. <b>This delta is then processed by the `SessionService` when the event is appended, ensuring proper persistence and tracking</b>.\n",
    "\n",
    "This method abstracts away the manual creation of <b><font color='blue'>EventActions</font></b> and `state_delta` for most common state update scenarios within callbacks and tools, making your code cleaner and less error-prone. e.g.:\n",
    "```python\n",
    "# In an agent callback or tool function\n",
    "from google.adk.agents import CallbackContext # or ToolContext\n",
    "\n",
    "def my_callback_or_tool_function(context: CallbackContext, # Or ToolContext\n",
    "                                 # ... other parameters ...\n",
    "                                ):\n",
    "    # Update existing state\n",
    "    count = context.state.get(\"user_action_count\", 0)\n",
    "    context.state[\"user_action_count\"] = count + 1\n",
    "\n",
    "    # Add new state\n",
    "    context.state[\"temp:last_operation_status\"] = \"success\"\n",
    "\n",
    "    # State changes are automatically part of the event's state_delta\n",
    "    # ... rest of callback/tool logic ...\n",
    "```\n",
    "\n",
    "For more comprehensive details on context objects, refer to the [**Context documentation**](https://google.github.io/adk-docs/context/)."
   ]
  },
  {
   "cell_type": "markdown",
   "id": "bd3d776a-d9c9-444f-968c-add367a6e082",
   "metadata": {},
   "source": [
    "### <b><font color='darkgreen'>⚠️ A Warning About Direct State Modification</font></b>\n",
    "<b><font size='3ptx'>Avoid directly modifying the `session.state` collection (`dict`) on a `Session` object that was obtained directly from the `SessionService` (<font color='brown'>e.g., via `session_service.get_session()` or `session_service.create_session()`</font>) outside of the managed lifecycle of an agent invocation (<font color='brown'>i.e., not through a `CallbackContext` or `ToolContext`</font>). </font></b>\n",
    "\n",
    "For example, code like `retrieved_session = await session_service.get_session(...); retrieved_session.state['key'] = value` is problematic."
   ]
  },
  {
   "cell_type": "markdown",
   "id": "f974b0d3-0ccf-4075-a854-9e45f21b7b20",
   "metadata": {},
   "source": [
    "State modifications within callbacks or tools using `CallbackContext.state` or `ToolContext.state` are the correct way to ensure changes are tracked, as these context objects handle the necessary integration with the event system.\n",
    "\n",
    "<b>Why direct modification (outside of contexts) is strongly discouraged:</b>\n",
    "1. <b><font size='3ptx'>Bypasses Event History</font></b>: The change isn't recorded as an `Event`, losing auditability.\n",
    "2. <b><font size='3ptx'>Breaks Persistence</font></b>: Changes made this way will likely NOT be saved by `DatabaseSessionService` or `VertexAiSessionService`. They rely on `append_event` to trigger saving.\n",
    "3. <b><font size='3ptx'>Not Thread-Safe</font></b>: Can lead to race conditions and lost updates.\n",
    "4. <b><font size='3ptx'>Ignores Timestamps/Logic</font></b>: Doesn't update last_update_time or trigger related event logic.\n",
    "\n",
    "<b><font size='3ptx'>Recommendation</font></b>: Stick to updating state via `output_key`, `EventActions.state_delta` (<font color='brown'>when manually creating events</font>), or by modifying the `state` property of `CallbackContext` or `ToolContext` objects when within their respective scopes. These methods ensure reliable, trackable, and persistent state management. Use direct access to `session.state` (<font color='brown'>from a `SessionService`-retrieved session</font>) only for reading state."
   ]
  },
  {
   "cell_type": "markdown",
   "id": "a8277c0b-5b57-454b-8e25-f1ace8b16ef5",
   "metadata": {},
   "source": [
    "### <b><font color='darkgreen'>Best Practices for State Design Recap</font></b>\n",
    "* <font size='3ptx'><b>Minimalism</b></font>: Store only essential, dynamic data.\n",
    "* <font size='3ptx'><b>Serialization</b></font>: Use basic, serializable types.\n",
    "* <font size='3ptx'><b>Descriptive Keys & Prefixes</b></font>: Use clear names and appropriate prefixes (`user:`, `app:`, `temp:`, or none).\n",
    "* <font size='3ptx'><b>Shallow Structures</b></font>: Avoid deep nesting where possible.\n",
    "* <font size='3ptx'><b>Standard Update Flow</b></font>: Rely on `append_event`."
   ]
  },
  {
   "cell_type": "markdown",
   "id": "5dce69c0-ba22-4a06-943b-38d5443e040c",
   "metadata": {
    "jp-MarkdownHeadingCollapsed": true
   },
   "source": [
    "## <b><font color='darkblue'>Memory: Long-Term Knowledge with MemoryService</font></b>\n",
    "([source](https://google.github.io/adk-docs/sessions/memory/)) <font size='3ptx'><b>We've seen how `Session` tracks the history (events) and temporary data (state) for a single, ongoing conversation.</b> But what if an agent needs to recall information from past conversations or access external knowledge bases? This is where the concept of <b><font color='darkblue'>Long-Term Knowledge</font></b> and the <font color='blue'><b>MemoryService</b></font> come into play.</font>"
   ]
  },
  {
   "cell_type": "markdown",
   "id": "5d53b71d-9776-4c41-95cf-a4d0e107d455",
   "metadata": {},
   "source": [
    "Think of it this way:\n",
    "* <b><font size='3ptx'>Session / State</font></b>: Like your short-term memory during one specific chat.\n",
    "* <b><font size='3ptx'>Long-Term Knowledge (`MemoryService`)</font></b>: Like a searchable archive or knowledge library the agent can consult, potentially containing information from many past chats or other sources."
   ]
  },
  {
   "cell_type": "markdown",
   "id": "fedd0e32-779a-4bd8-8964-5e89a22f2d6b",
   "metadata": {
    "jp-MarkdownHeadingCollapsed": true
   },
   "source": [
    "### <b><font color='darkgreen'>The `MemoryService` Role</font></b>\n",
    "The <b><font color='blue'>BaseMemoryService</font></b> defines the interface for managing this searchable, long-term knowledge store. Its primary responsibilities are:\n",
    "1. <b><font size='3ptx'>Ingesting Information (`add_session_to_memory`)</font></b>: Taking the contents of a (<font color='brown'>usually completed</font>) Session and adding relevant information to the long-term knowledge store.\n",
    "2. <b><font size='3ptx'>Searching Information (`search_memory)`</font></b>: Allowing an agent (<font color='brown'>typically via a `Tool`</font>) to query the knowledge store and retrieve relevant snippets or context based on a search query."
   ]
  },
  {
   "cell_type": "markdown",
   "id": "3572c055-ce9b-4b75-9df2-55f3db0ec80f",
   "metadata": {
    "jp-MarkdownHeadingCollapsed": true
   },
   "source": [
    "### <b><font color='darkgreen'>Choosing the Right Memory Service</font></b>\n",
    "<font size='3ptx'><b>The ADK offers two distinct `MemoryService` implementations, each tailored to different use cases</b>. Use the table below to decide which is the best fit for your agent</font>."
   ]
  },
  {
   "cell_type": "markdown",
   "id": "7a6a5277-0c35-44ef-b93b-b24449b0904f",
   "metadata": {},
   "source": [
    "| Feature | InMemoryMemoryService | [NEW!] VertexAiMemoryBankService |\n",
    "| :--- | :--- | :--- |\n",
    "| **Persistence** | None (data is lost on restart) | Yes (Managed by Vertex AI) |\n",
    "| **Primary Use Case** | Prototyping, local development, and simple testing. | Building meaningful, evolving memories from user conversations. |\n",
    "| **Memory Extraction** | Stores full conversation | Extracts [**meaningful information**](https://cloud.google.com/vertex-ai/generative-ai/docs/agent-engine/memory-bank/generate-memories) from conversations and consolidates it with existing memories (powered by LLM) |\n",
    "| **Search Capability** | Basic keyword matching. | Advanced semantic search. |\n",
    "| **Setup Complexity** | None. It's the default. | Low. Requires an [**Agent Engine**](https://cloud.google.com/vertex-ai/generative-ai/docs/agent-engine/memory-bank/overview) in Vertex AI. |\n",
    "| **Dependencies** | None. | Google Cloud Project, Vertex AI API |\n",
    "| **When to use it** | When you want to search across multiple sessions' chat histories for prototyping. | When you want your agent to remember and learn from past interactions. |"
   ]
  },
  {
   "cell_type": "markdown",
   "id": "150c2b2e-ef8c-4c5c-abd5-754d048a3d9a",
   "metadata": {
    "jp-MarkdownHeadingCollapsed": true
   },
   "source": [
    "### <b><font color='darkgreen'>In-Memory Memory</font></b>\n",
    "<font size='3ptx'><b>The <font color='blue'>InMemoryMemoryService</font> stores session information in the application's memory and performs basic keyword matching for searches</b>. It requires no setup and is best for prototyping and simple testing scenarios where persistence isn't required.</font>\n",
    "\n",
    "* <b>Example</b>:\n",
    "```python\n",
    "from google.adk.memory import InMemoryMemoryService\n",
    "memory_service = InMemoryMemoryService()\n",
    "```"
   ]
  },
  {
   "cell_type": "markdown",
   "id": "26987288-f708-460d-af1c-b5a0680f8d94",
   "metadata": {
    "jp-MarkdownHeadingCollapsed": true
   },
   "source": [
    "#### <b>Example: Adding and Searching Memory</b>\n",
    "This example demonstrates the basic flow using the <b><font color='blue'>InMemoryMemoryService</font></b> for simplicity:"
   ]
  },
  {
   "cell_type": "code",
   "execution_count": 19,
   "id": "272ee9a1-c4af-433c-bb46-6a6492f76fcc",
   "metadata": {},
   "outputs": [],
   "source": [
    "import asyncio\n",
    "from google.adk.agents import LlmAgent\n",
    "from google.adk.sessions import InMemorySessionService, Session\n",
    "from google.adk.memory import InMemoryMemoryService # Import MemoryService\n",
    "from google.adk.runners import Runner\n",
    "from google.adk.tools import load_memory # Tool to query memory\n",
    "from google.genai.types import Content, Part\n",
    "\n",
    "# --- Constants ---\n",
    "APP_NAME = \"memory_example_app\"\n",
    "USER_ID = \"mem_user\"\n",
    "MODEL = \"gemini-2.0-flash\" # Use a valid model\n",
    "\n",
    "# --- Agent Definitions ---\n",
    "# Agent 1: Simple agent to capture information\n",
    "info_capture_agent = LlmAgent(\n",
    "    model=MODEL,\n",
    "    name=\"InfoCaptureAgent\",\n",
    "    instruction=\"Acknowledge the user's statement.\")\n",
    "\n",
    "# Agent 2: Agent that can use memory\n",
    "memory_recall_agent = LlmAgent(\n",
    "    model=MODEL,\n",
    "    name=\"MemoryRecallAgent\",\n",
    "    instruction=\"Answer the user's question. Use the 'load_memory' tool \"\n",
    "                \"if the answer might be in past conversations.\",\n",
    "    tools=[load_memory], # Give the agent the tool\n",
    ")"
   ]
  },
  {
   "cell_type": "code",
   "execution_count": 23,
   "id": "e6789cd9-c4d2-4a7a-9c42-b58e0dd7a720",
   "metadata": {},
   "outputs": [],
   "source": [
    "# --- Services ---\n",
    "# Services must be shared across runners to share state and memory\n",
    "session_service = InMemorySessionService()\n",
    "memory_service = InMemoryMemoryService() # Use in-memory for demo"
   ]
  },
  {
   "cell_type": "code",
   "execution_count": 27,
   "id": "6e1fe4fd-fa51-4623-b6e4-c24da8063eaa",
   "metadata": {},
   "outputs": [],
   "source": [
    "async def run_scenario():\n",
    "    # --- Scenario ---\n",
    "\n",
    "    # Turn 1: Capture some information in a session\n",
    "    print(\"--- Turn 1: Capturing Information ---\")\n",
    "    runner1 = Runner(\n",
    "        # Start with the info capture agent\n",
    "        agent=info_capture_agent,\n",
    "        app_name=APP_NAME,\n",
    "        session_service=session_service,\n",
    "        memory_service=memory_service # Provide the memory service to the Runner\n",
    "    )\n",
    "    session1_id = \"session_info\"\n",
    "    await runner1.session_service.create_session(app_name=APP_NAME, user_id=USER_ID, session_id=session1_id)\n",
    "    user_input1 = Content(parts=[Part(text=\"My favorite project is Project Alpha.\")], role=\"user\")\n",
    "\n",
    "    # Run the agent\n",
    "    final_response_text = \"(No final response)\"\n",
    "    print(f'User input: {user_input1.parts[0].text}')\n",
    "    async for event in runner1.run_async(user_id=USER_ID, session_id=session1_id, new_message=user_input1):\n",
    "        if event.is_final_response() and event.content and event.content.parts:\n",
    "            final_response_text = event.content.parts[0].text\n",
    "    print(f\"Agent 1 Response: {final_response_text}\")\n",
    "\n",
    "    # Get the completed session\n",
    "    completed_session1 = await runner1.session_service.get_session(app_name=APP_NAME, user_id=USER_ID, session_id=session1_id)\n",
    "\n",
    "    # Add this session's content to the Memory Service\n",
    "    print(\"\\n--- Adding Session 1 to Memory ---\")\n",
    "    await memory_service.add_session_to_memory(completed_session1)\n",
    "    print(\"Session added to memory.\")\n",
    "\n",
    "    # Turn 2: Recall the information in a new session\n",
    "    print(\"\\n--- Turn 2: Recalling Information ---\")\n",
    "    runner2 = Runner(\n",
    "        # Use the second agent, which has the memory tool\n",
    "        agent=memory_recall_agent,\n",
    "        app_name=APP_NAME,\n",
    "        session_service=session_service, # Reuse the same service\n",
    "        memory_service=memory_service   # Reuse the same service\n",
    "    )\n",
    "    session2_id = \"session_recall\"\n",
    "    await runner2.session_service.create_session(app_name=APP_NAME, user_id=USER_ID, session_id=session2_id)\n",
    "    user_input2 = Content(parts=[Part(text=\"What is my favorite project?\")], role=\"user\")\n",
    "\n",
    "    # Run the second agent\n",
    "    final_response_text_2 = \"(No final response)\"\n",
    "    print(f'User input: {user_input2.parts[0].text}')\n",
    "    async for event in runner2.run_async(user_id=USER_ID, session_id=session2_id, new_message=user_input2):\n",
    "        if event.is_final_response() and event.content and event.content.parts:\n",
    "            final_response_text_2 = event.content.parts[0].text\n",
    "    print(f\"Agent 2 Response: {final_response_text_2}\")"
   ]
  },
  {
   "cell_type": "code",
   "execution_count": 28,
   "id": "36a9172e-2068-4914-a447-00a400252fd5",
   "metadata": {},
   "outputs": [
    {
     "name": "stderr",
     "output_type": "stream",
     "text": [
      "Both GOOGLE_API_KEY and GEMINI_API_KEY are set. Using GOOGLE_API_KEY.\n"
     ]
    },
    {
     "name": "stdout",
     "output_type": "stream",
     "text": [
      "--- Turn 1: Capturing Information ---\n",
      "User input: My favorite project is Project Alpha.\n"
     ]
    },
    {
     "name": "stderr",
     "output_type": "stream",
     "text": [
      "Both GOOGLE_API_KEY and GEMINI_API_KEY are set. Using GOOGLE_API_KEY.\n"
     ]
    },
    {
     "name": "stdout",
     "output_type": "stream",
     "text": [
      "Agent 1 Response: Okay, I understand. Your favorite project is Project Alpha.\n",
      "\n",
      "\n",
      "--- Adding Session 1 to Memory ---\n",
      "Session added to memory.\n",
      "\n",
      "--- Turn 2: Recalling Information ---\n",
      "User input: What is my favorite project?\n"
     ]
    },
    {
     "name": "stderr",
     "output_type": "stream",
     "text": [
      "Warning: there are non-text parts in the response: ['function_call'], returning concatenated text result from text parts. Check the full candidates.content.parts accessor to get the full model response.\n",
      "Both GOOGLE_API_KEY and GEMINI_API_KEY are set. Using GOOGLE_API_KEY.\n"
     ]
    },
    {
     "name": "stdout",
     "output_type": "stream",
     "text": [
      "Agent 2 Response: Your favorite project is Project Alpha.\n",
      "\n"
     ]
    }
   ],
   "source": [
    "# asyncio.run(run_scenario())\n",
    "await run_scenario()"
   ]
  },
  {
   "cell_type": "markdown",
   "id": "c64e2b83-4537-4369-be3e-d288186e9dbf",
   "metadata": {
    "jp-MarkdownHeadingCollapsed": true
   },
   "source": [
    "### <b><font color='darkgreen'>Vertex AI Memory Bank</font></b>\n",
    "<font size='3ptx'><b>The <font color='blue'>VertexAiMemoryBankService</font> connects your agent to Vertex AI Memory Bank</b>, a fully managed Google Cloud service that provides sophisticated, persistent memory capabilities for conversational agents.</font>"
   ]
  },
  {
   "cell_type": "markdown",
   "id": "5b28718c-4db1-4e0c-888c-5e591c2f7485",
   "metadata": {},
   "source": [
    "#### <b>How It Works</b>\n",
    "The service automatically handles two key operations:\n",
    "* <b><font size='3ptx'>Generating Memories</font></b>: At the end of a conversation, the ADK sends the session's events to the Memory Bank, which intelligently processes and stores the information as \"memories.\"\n",
    "* <b><font size='3ptx'>Retrieving Memories</font></b>: Your agent code can issue a search query against the Memory Bank to retrieve relevant memories from past conversations."
   ]
  },
  {
   "cell_type": "markdown",
   "id": "e08a2682-5705-499e-bdc1-0dc7b3eb732b",
   "metadata": {},
   "source": [
    "#### <b>Prerequisites</b>\n",
    "Before you can use this feature, you must have:\n",
    "1. <b><font size='3ptx'>A Google Cloud Project</font></b>: With the Vertex AI API enabled.\n",
    "2. <b><font size='3ptx'>An Agent Engine</font></b>: You need to create an Agent Engine in Vertex AI. This will provide you with the Agent Engine ID required for configuration.\n",
    "3. <b><font size='3ptx'>Authentication</font></b>: Ensure your local environment is authenticated to access Google Cloud services. The simplest way is to run:\n",
    "```shell\n",
    "$ gcloud auth application-default login\n",
    "```\n",
    "4. <b><font size='3ptx'>Environment Variables</font></b>: The service requires your Google Cloud Project ID and Location. Set them as environment variables:\n",
    "```shell\n",
    "export GOOGLE_CLOUD_PROJECT=\"your-gcp-project-id\"\n",
    "export GOOGLE_CLOUD_LOCATION=\"your-gcp-location\"\n",
    "```"
   ]
  },
  {
   "cell_type": "markdown",
   "id": "c6751c4a-4ea0-4f74-8e88-df941fa4996c",
   "metadata": {},
   "source": [
    "#### <b>Configuration</b>\n",
    "To connect your agent to the Memory Bank, you use the <font color='violet'>--memory_service_uri</font> flag when starting the ADK server (`adk web` or `adk api_server`). The URI must be in the format `agentengine://<agent_engine_id>`. e.g.:\n",
    "```bash\n",
    "adk web path/to/your/agents_dir --memory_service_uri=\"agentengine://1234567890\"\n",
    "```\n",
    "\n",
    "Or, you can configure your agent to use the Memory Bank by manually instantiating the <b><font color='blue'>VertexAiMemoryBankService</font></b> and passing it to the `Runner`.\n",
    "```python\n",
    "from google.adk.memory import VertexAiMemoryBankService\n",
    "\n",
    "agent_engine_id = agent_engine.api_resource.name.split(\"/\")[-1]\n",
    "\n",
    "memory_service = VertexAiMemoryBankService(\n",
    "    project=\"PROJECT_ID\",\n",
    "    location=\"LOCATION\",\n",
    "    agent_engine_id=agent_engine_id\n",
    ")\n",
    "\n",
    "runner = adk.Runner(\n",
    "    ...\n",
    "    memory_service=memory_service\n",
    ")\n",
    "```"
   ]
  },
  {
   "cell_type": "markdown",
   "id": "94792a36-8722-4582-bfbd-e0cb8cef27ca",
   "metadata": {},
   "source": [
    "#### <b>Using Memory in Your Agent</b>\n",
    "<b>With the service configured, the ADK automatically saves session data to the Memory Bank</b>. To make your agent use this memory, you need to call the `search_memory` method from your agent's code.\n",
    "\n",
    "This is typically done at the beginning of a turn to fetch relevant context before generating a response.\n",
    "* <b>Example</b>:\n",
    "```python\n",
    "from google.adk.agents import Agent\n",
    "from google.genai import types\n",
    "\n",
    "class MyAgent(Agent):\n",
    "    async def run(self, request: types.Content, **kwargs) -> types.Content:\n",
    "        # Get the user's latest message\n",
    "        user_query = request.parts[0].text\n",
    "\n",
    "        # Search the memory for context related to the user's query\n",
    "        search_result = await self.search_memory(query=user_query)\n",
    "\n",
    "        # Create a prompt that includes the retrieved memories\n",
    "        prompt = (\n",
    "            f\"Based on my memory, here's what I recall about your query: \"\n",
    "            f\"{search_result.memories}\\n\\nNow, please respond to: {user_query}\")\n",
    "\n",
    "        # Call the LLM with the enhanced prompt\n",
    "        return await self.llm.generate_content_async(prompt)\n",
    "```"
   ]
  },
  {
   "cell_type": "markdown",
   "id": "ac44252f-4767-4371-a392-b129e8807b06",
   "metadata": {},
   "source": [
    "### <b><font color='darkgreen'>Advanced Concepts</font></b>"
   ]
  },
  {
   "cell_type": "markdown",
   "id": "5c6ccb08-844a-40d4-93e3-2218bf5336c4",
   "metadata": {},
   "source": [
    "#### <b>How Memory Works in Practice</b>\n",
    "The memory workflow internally involves these steps:\n",
    "1. <b><font size='3ptx'>Session Interaction</font></b>: A user interacts with an agent via a `Session`, managed by a `SessionService`. `Events` are added, and `state` might be updated.\n",
    "2. <b><font size='3ptx'>Ingestion into Memory</font></b>: At some point (<font color='brown'>often when a session is considered complete or has yielded significant information</font>), your application calls `memory_service.add_session_to_memory(session)`. This extracts relevant information from the session's events and adds it to the long-term knowledge store (<font color='brown'>in-memory dictionary or RAG Corpus</font>).\n",
    "3. <b><font size='3ptx'>Later Query</font></b>: In a different (<font color='brown'>or the same</font>) session, the user might ask a question requiring past context (<font color='brown'>e.g., \"What did we discuss about project X last week?\"</font>).\n",
    "4. <b><font size='3ptx'>Agent Uses Memory Tool</font></b>: An agent equipped with a memory-retrieval tool (<font color='brown'>like the built-in `load_memory` tool</font>) recognizes the need for past context. It calls the tool, providing a search query (<font color='brown'>e.g., \"discussion project X last week\"</font>).\n",
    "5. <b><font size='3ptx'>Search Execution</font></b>: The tool internally calls `memory_service.search_memory(app_name, user_id, query)`.\n",
    "6. <b><font size='3ptx'>Results Returned</font></b>: The `MemoryService` searches its store (<font color='brown'>using keyword matching or semantic search</font>) and returns relevant snippets as a `SearchMemoryResponse` containing a list of `MemoryResult` objects (<font color='brown'>each potentially holding events from a relevant past session</font>).\n",
    "7. <b><font size='3ptx'>Agent Uses Results</font></b>: The tool returns these results to the agent, usually as part of the context or function response. The agent can then use this retrieved information to formulate its final answer to the user."
   ]
  },
  {
   "cell_type": "markdown",
   "id": "a652a6dd-9899-463a-a507-da9a407e62ca",
   "metadata": {},
   "source": [
    "#### <b>Can an agent have access to more than one memory service?</b>\n",
    "* <b><font size='3ptx'>Through Standard Configuration: No.</font></b> The framework (`adk web`, `adk api_server`) is designed to be configured with one single memory service at a time via the <font color='violet'>--memory_service_uri</font> flag. This single service is then provided to the agent and accessed through the built-in `self.search_memory()` method. From a configuration standpoint, you can only choose one backend (`InMemory`, `VertexAiMemoryBankService`) for all agents served by that process.\n",
    "* <b><font size='3ptx'>Within Your Agent's Code: Yes, absolutely</font></b>. There is nothing preventing you from manually importing and instantiating another memory service directly inside your agent's code. This allows you to access multiple memory sources within a single agent turn.\n",
    "\n",
    "For example, your agent could use the framework-configured `VertexAiMemoryBankService` to recall conversational history, and also manually instantiate a `InMemoryMemoryService` to look up information in a technical manual.\n",
    "\n",
    "**Example: Using Two Memory Services**\n",
    "Here’s how you could implement that in your agent's code:\n",
    "\n",
    "```python\n",
    "from google.adk.agents import Agent\n",
    "from google.adk.memory import InMemoryMemoryService, VertexAiMemoryBankService\n",
    "from google.genai import types\n",
    "\n",
    "class MultiMemoryAgent(Agent):\n",
    "    def __init__(self, **kwargs):\n",
    "        super().__init__(**kwargs)\n",
    "\n",
    "        self.memory_service = InMemoryMemoryService()\n",
    "        # Manually instantiate a second memory service for document lookups\n",
    "        self.vertexai_memorybank_service = VertexAiMemoryBankService(\n",
    "            project=\"PROJECT_ID\",\n",
    "            location=\"LOCATION\",\n",
    "            agent_engine_id=\"AGENT_ENGINE_ID\"\n",
    "        )\n",
    "\n",
    "    async def run(self, request: types.Content, **kwargs) -> types.Content:\n",
    "        user_query = request.parts[0].text\n",
    "\n",
    "        # 1. Search conversational history using the framework-provided memory\n",
    "        #    (This would be InMemoryMemoryService if configured)\n",
    "        conversation_context = await self.search_memory(query=user_query)\n",
    "\n",
    "        # 2. Search the document knowledge base using the manually created service\n",
    "        document_context = await self.vertexai_memorybank_service.search_memory(query=user_query)\n",
    "\n",
    "        # Combine the context from both sources to generate a better response\n",
    "        prompt = \"From our past conversations, I remember:\\n\"\n",
    "        prompt += f\"{conversation_context.memories}\\n\\n\"\n",
    "        prompt += \"From the technical manuals, I found:\\n\"\n",
    "        prompt += f\"{document_context.memories}\\n\\n\"\n",
    "        prompt += f\"Based on all this, here is my answer to '{user_query}':\"\n",
    "\n",
    "        return await self.llm.generate_content_async(prompt)\n",
    "```"
   ]
  },
  {
   "cell_type": "markdown",
   "id": "69f55e15-81d9-4a72-b1a0-8b0dc445f799",
   "metadata": {
    "jp-MarkdownHeadingCollapsed": true
   },
   "source": [
    "## <b><font color='darkblue'>Vertex AI Express Mode: Using Vertex AI Sessions and Memory for Free</font></b>\n",
    "([source](https://google.github.io/adk-docs/sessions/express-mode/)) <font size='3ptx'><b>If you are interested in using either the `VertexAiSessionService` or `VertexAiMemoryBankService` but you don't have a Google Cloud Project, you can sign up for Vertex AI Express Mode and get access for free and try out these services!</b> You can sign up with an eligible **gmail** account [here](https://console.cloud.google.com/expressmode). For more details about Vertex AI Express mode, see the [overview page](https://cloud.google.com/vertex-ai/generative-ai/docs/start/express-mode/overview). Once you sign up, get an [API key](https://cloud.google.com/vertex-ai/generative-ai/docs/start/express-mode/overview#api-keys) and you can get started using your local ADK agent with Vertex AI Session and Memory services!</font>"
   ]
  }
 ],
 "metadata": {
  "kernelspec": {
   "display_name": "Python 3 (ipykernel)",
   "language": "python",
   "name": "python3"
  },
  "language_info": {
   "codemirror_mode": {
    "name": "ipython",
    "version": 3
   },
   "file_extension": ".py",
   "mimetype": "text/x-python",
   "name": "python",
   "nbconvert_exporter": "python",
   "pygments_lexer": "ipython3",
   "version": "3.12.9"
  }
 },
 "nbformat": 4,
 "nbformat_minor": 5
}
