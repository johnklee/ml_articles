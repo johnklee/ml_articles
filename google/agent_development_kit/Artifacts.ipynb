{
 "cells": [
  {
   "cell_type": "markdown",
   "id": "6c75a7bf-dac8-456e-9f5c-625e1cfe5f5e",
   "metadata": {},
   "source": [
    "## <b><font color='darkblue'>Artifacts</font></b>\n",
    "([source](https://google.github.io/adk-docs/artifacts/)) <font size='3ptx'><b>In ADK, `Artifacts` represent a crucial mechanism for managing named, versioned binary data associated either with a specific user interaction session or persistently with a user across multiple sessions</b>. They allow your agents and tools to handle data beyond simple text strings, enabling richer interactions involving files, images, audio, and other binary formats.</font>"
   ]
  },
  {
   "cell_type": "markdown",
   "id": "a1270dd3-de1d-4f01-942c-4bf1b5eb1b73",
   "metadata": {
    "jp-MarkdownHeadingCollapsed": true
   },
   "source": [
    "### <b><font color='darkgreen'>What are Artifacts?</font></b>\n",
    "* <b><font size='3ptx'>Definition</font></b>: An Artifact is essentially a piece of binary data (<font color='brown'>like the content of a file</font>) identified by a unique `filename` string within a specific scope (<font color='brown'>session or user</font>). Each time you save an artifact with the same filename, a new version is created.\n",
    "* <b><font size='3ptx'>Representation</font></b>: Artifacts are consistently represented using the standard <b><font color='blue'>google.genai.types.Part</font></b> object. The core data is typically stored within an inline data structure of the <b><font color='blue'>Part</font></b> (accessed via `inline_data`), which itself contains:\n",
    "    - <b>`data`</b>: The raw binary content as bytes.\n",
    "    - <b>`mime_type`</b>: A string indicating the type of the data (e.g., `\"image/png\"`, `\"application/pdf\"`). This is essential for correctly interpreting the data later."
   ]
  },
  {
   "cell_type": "code",
   "execution_count": 1,
   "id": "92b831b2-d12c-416d-8fcb-ef093c3d58a5",
   "metadata": {},
   "outputs": [],
   "source": [
    "# Example of how an artifact might be represented as a types.Part\n",
    "import google.genai.types as types\n",
    "\n",
    "# Assume 'image_bytes' contains the binary data of a PNG image\n",
    "image_bytes = b'\\x89PNG\\r\\n\\x1a\\n...' # Placeholder for actual image bytes\n",
    "\n",
    "image_artifact = types.Part(\n",
    "    inline_data=types.Blob(\n",
    "        mime_type=\"image/png\",\n",
    "        data=image_bytes\n",
    "    )\n",
    ")"
   ]
  },
  {
   "cell_type": "code",
   "execution_count": 2,
   "id": "15016ce0-5594-4ddf-a629-eecf9f67616c",
   "metadata": {},
   "outputs": [
    {
     "name": "stdout",
     "output_type": "stream",
     "text": [
      "Artifact MIME Type: image/png\n",
      "Artifact Data (first 10 bytes): b'\\x89PNG\\r\\n\\x1a\\n..'...\n"
     ]
    }
   ],
   "source": [
    "# You can also use the convenience constructor:\n",
    "# image_artifact_alt = types.Part.from_bytes(data=image_bytes, mime_type=\"image/png\")\n",
    "\n",
    "print(f\"Artifact MIME Type: {image_artifact.inline_data.mime_type}\")\n",
    "print(f\"Artifact Data (first 10 bytes): {image_artifact.inline_data.data[:10]}...\")"
   ]
  },
  {
   "cell_type": "markdown",
   "id": "cd94a014-dd0b-409c-8d78-8ac109ee331a",
   "metadata": {},
   "source": [
    "* <b><font size='3ptx'>Persistence & Management</font></b>: Artifacts are not stored directly within the agent or session state. Their storage and retrieval are managed by a dedicated <b>Artifact Service</b> (<font color='brown'>an implementation of</font> <b><font color='blue'>BaseArtifactService</font></b><font color='brown'>, defined in</font> <b><font color='blue'>google.adk.artifacts</font></b></font>). ADK provides various implementations, such as:\n",
    "    - <b>An in-memory service for testing or temporary storage</b> (<font color='brown'>e.g., `InMemoryArtifactService` in Python, defined in</font> <b><font color='blue'>google.adk.artifacts.in_memory_artifact_service</font></b>).\n",
    "    - <b>A service for persistent storage using Google Cloud Storage</b> (GCS) (<font color='brown'>e.g., `GcsArtifactService` in Python, defined in</font> <b><font color='blue'>google.adk.artifacts.gcs_artifact_service</font></b>). The chosen service implementation handles versioning automatically when you save data."
   ]
  },
  {
   "cell_type": "markdown",
   "id": "dc7d4fb7-3000-4ef4-917d-42e62efc5821",
   "metadata": {
    "jp-MarkdownHeadingCollapsed": true
   },
   "source": [
    "### <b><font color='darkgreen'>Why Use Artifacts?</font></b>\n",
    "([source](https://google.github.io/adk-docs/artifacts/#why-use-artifacts)) <font size='3ptx'>While session state is suitable for storing small pieces of configuration or conversational context (<font color='brown'>like strings, numbers, booleans, or small dictionaries/lists</font>), <b>Artifacts are designed for scenarios involving binary or large data</b></font>:"
   ]
  },
  {
   "cell_type": "markdown",
   "id": "9f64c310-6383-43ed-8100-6ec0b35784ed",
   "metadata": {},
   "source": [
    "1. <b><font size='3ptx'>Handling Non-Textual Data</font></b>: Easily store and retrieve images, audio clips, video snippets, PDFs, spreadsheets, or any other file format relevant to your agent's function.\n",
    "2. <b><font size='3ptx'>Persisting Large Data</font></b>: Session state is generally not optimized for storing large amounts of data. Artifacts provide a dedicated mechanism for persisting larger blobs without cluttering the session state.\n",
    "3. <b><font size='3ptx'>User File Management</font></b>: Provide capabilities for users to upload files (<font color='brown'>which can be saved as artifacts</font>) and retrieve or download files generated by the agent (<font color='brown'>loaded from artifacts</font>).\n",
    "4. <b><font size='3ptx'>Sharing Outputs</font></b>: Enable tools or agents to generate binary outputs (<font color='brown'>like a PDF report or a generated image</font>) that can be saved via `save_artifact` and later accessed by other parts of the application or even in subsequent sessions (<font color='brown'>if using user namespacing</font>).\n",
    "5. <b><font size='3ptx'>Caching Binary Data</font></b>: Store the results of computationally expensive operations that produce binary data (<font color='brown'>e.g., rendering a complex chart image</font>) as artifacts to avoid regenerating them on subsequent requests.\n",
    "\n",
    "In essence, whenever your agent needs to work with file-like binary data that needs to be persisted, versioned, or shared, Artifacts managed by an <b><font color='blue'>ArtifactService</font></b> are the appropriate mechanism within ADK."
   ]
  },
  {
   "cell_type": "markdown",
   "id": "c1fd8be7-e49f-42cc-8379-65946af39e0b",
   "metadata": {
    "jp-MarkdownHeadingCollapsed": true
   },
   "source": [
    "### <b><font color='darkgreen'>Common Use Cases</font></b>\n",
    "([source](https://google.github.io/adk-docs/artifacts/#common-use-cases)) <font size='3ptx'><b>Artifacts provide a flexible way to handle binary data within your ADK applications.</b></font>"
   ]
  },
  {
   "cell_type": "markdown",
   "id": "a82a9882-9c7e-445c-ae57-87000500e0e2",
   "metadata": {},
   "source": [
    "Here are some typical scenarios where they prove valuable:\n",
    "\n",
    "* <b><font size='3ptx'>Generated Reports/Files</font></b>: A tool or agent generates a report (<font color='brown'>e.g., a PDF analysis, a CSV data export, an image chart</font>).\n",
    "* <b><font size='3ptx'>Handling User Uploads</font></b>: A user uploads a file (<font color='brown'>e.g., an image for analysis, a document for summarization</font>) through a front-end interface.\n",
    "* <b><font size='3ptx'>Storing Intermediate Binary Results</font></b>: An agent performs a complex multi-step process where one step generates intermediate binary data (<font color='brown'>e.g., audio synthesis, simulation results</font>).\n",
    "* <b><font size='3ptx'>Persistent User Data</font></b>: Storing user-specific configuration or data that isn't a simple key-value state.\n",
    "* <b><font size='3ptx'>Caching Generated Binary Content</font></b>: An agent frequently generates the same binary output based on certain inputs (<font color='brown'>e.g., a company logo image, a standard audio greeting</font>)."
   ]
  },
  {
   "cell_type": "markdown",
   "id": "1e845446-525b-4b7c-859c-fbfdb06fe88a",
   "metadata": {
    "jp-MarkdownHeadingCollapsed": true
   },
   "source": [
    "### <b><font color='darkgreen'>Core Concepts</font></b>\n",
    "([source](https://google.github.io/adk-docs/artifacts/#core-concepts)) <font size='3ptx'><b>Understanding artifacts involves grasping a few key components: the service that manages them, the data structure used to hold them, and how they are identified and versioned.</b></font>"
   ]
  },
  {
   "cell_type": "markdown",
   "id": "65b6be12-cdaf-43f7-b6e5-ae77db5a7722",
   "metadata": {
    "jp-MarkdownHeadingCollapsed": true
   },
   "source": [
    "#### <b>Artifact Service (`BaseArtifactService`)</b>\n",
    "* <b><font size='3ptx'>Role</font></b>: The central component responsible for the actual storage and retrieval logic for artifacts. It defines how and where artifacts are persisted.\n",
    "* <b><font size='3ptx'>Interface</font></b>: Defined by the abstract base class <b><font color='blue'>BaseArtifactService</font></b>. Any concrete implementation must provide methods for:\n",
    "    - **Save Artifact**: Stores the artifact data and returns its assigned version number.\n",
    "    - **Load Artifact**: Retrieves a specific version (or the latest) of an artifact.\n",
    "    - **List Artifact keys**: Lists the unique filenames of artifacts within a given scope.\n",
    "    - **Delete Artifact**: Removes an artifact (<font color='brown'>and potentially all its versions, depending on implementation</font>).\n",
    "    - **List versions**: Lists all available version numbers for a specific artifact filename.\n",
    "* <b><font size='3ptx'>Configuration</font></b>: You provide an instance of an artifact service (<font color='brown'>e.g., `InMemoryArtifactService`, `GcsArtifactService`</font>) when initializing the `Runner`. The `Runner` then makes this service available to agents and tools via the <b><font color='blue'>InvocationContext</font></b>.\n",
    "\n",
    "```python\n",
    "from google.adk.runners import Runner\n",
    "from google.adk.artifacts import InMemoryArtifactService # Or GcsArtifactService\n",
    "from google.adk.agents import LlmAgent # Any agent\n",
    "from google.adk.sessions import InMemorySessionService\n",
    "\n",
    "# Example: Configuring the Runner with an Artifact Service\n",
    "my_agent = LlmAgent(name=\"artifact_user_agent\", model=\"gemini-2.0-flash\")\n",
    "artifact_service = InMemoryArtifactService() # Choose an implementation\n",
    "session_service = InMemorySessionService()\n",
    "\n",
    "runner = Runner(\n",
    "    agent=my_agent,\n",
    "    app_name=\"my_artifact_app\",\n",
    "    session_service=session_service,\n",
    "    artifact_service=artifact_service # Provide the service instance here\n",
    ")\n",
    "# Now, contexts within runs managed by this runner can use artifact methods\n",
    "```"
   ]
  },
  {
   "cell_type": "markdown",
   "id": "efd9c877-b244-4341-aac2-dd1ee18e63de",
   "metadata": {
    "jp-MarkdownHeadingCollapsed": true
   },
   "source": [
    "#### <b>Artifact Data</b>\n",
    "* <b><font size='3ptx'>Standard Representation</font></b>: Artifact content is universally represented using the <b><font color='blue'>google.genai.types.Part</font></b> object, the same structure used for parts of LLM messages.\n",
    "* <b><font size='3ptx'>Key Attribute</font></b> (`inline_data`): For artifacts, the most relevant attribute is inline_data, which is a <b><font color='blue'>google.genai.types.Blob</font></b> object containing:\n",
    "    - <b>data</b> (`bytes`): The raw binary content of the artifact.\n",
    "    - <b>mime_type</b> (`str`): A standard MIME type string (<font color='brown'>e.g., 'application/pdf', 'image/png', 'audio/mpeg'</font>) describing the nature of the binary data. This is crucial for correct interpretation when loading the artifact."
   ]
  },
  {
   "cell_type": "code",
   "execution_count": 5,
   "id": "685b2f6e-0ce9-42fb-83e3-ce9d3a317de8",
   "metadata": {},
   "outputs": [],
   "source": [
    "import google.genai.types as types\n",
    "\n",
    "# Example: Creating an artifact Part from raw bytes\n",
    "pdf_bytes = b'%PDF-1.4...' # Your raw PDF data\n",
    "pdf_mime_type = \"application/pdf\"\n",
    "\n",
    "# Using the constructor\n",
    "pdf_artifact = types.Part(\n",
    "    inline_data=types.Blob(data=pdf_bytes, mime_type=pdf_mime_type)\n",
    ")\n",
    "\n",
    "# Using the convenience class method (equivalent)\n",
    "pdf_artifact = types.Part.from_bytes(data=pdf_bytes, mime_type=pdf_mime_type)"
   ]
  },
  {
   "cell_type": "code",
   "execution_count": 6,
   "id": "488d613f-e922-45d3-8eb0-19de2e156cdc",
   "metadata": {},
   "outputs": [
    {
     "name": "stdout",
     "output_type": "stream",
     "text": [
      "Created Python artifact with MIME type: application/pdf\n"
     ]
    }
   ],
   "source": [
    "print(f\"Created Python artifact with MIME type: {pdf_artifact.inline_data.mime_type}\")"
   ]
  },
  {
   "cell_type": "markdown",
   "id": "5f2c0428-a385-425f-9bd0-39b7b0a1277e",
   "metadata": {},
   "source": [
    "#### <b>Filename</b>\n",
    "* <b><font size='3ptx'>Identifier</font></b>: A simple string used to name and retrieve an artifact within its specific namespace.\n",
    "* <b><font size='3ptx'>Uniqueness</font></b>: Filenames must be unique within their scope (<font color='brown'>either the session or the user namespace</font>).\n",
    "* <b><font size='3ptx'>Best Practice</font></b>: Use descriptive names, potentially including file extensions (<font color='brown'>e.g., \"monthly_report.pdf\", \"user_avatar.jpg\"</font>), although the extension itself doesn't dictate behavior – the `mime_type` does."
   ]
  },
  {
   "cell_type": "markdown",
   "id": "2ad37b80-3296-49b2-b502-1ecf1230708b",
   "metadata": {},
   "source": [
    "#### <b>Versioning</b>\n",
    "* <b><font size='3ptx'>Automatic Versioning</font></b>: The artifact service automatically handles versioning. When you call `save_artifact`, the service determines the next available version number (<font color='brown'>typically starting from 0 and incrementing</font>) for that specific filename and scope.\n",
    "* <b><font size='3ptx'>Returned by `save_artifact`</font></b>: The `save_artifact` method returns the integer version number that was assigned to the newly saved artifact.\n",
    "* <b><font size='3ptx'>Retrieval</font></b>:\n",
    "    - `load_artifact(..., version=None)` (default): Retrieves the latest available version of the artifact.\n",
    "    - `load_artifact(..., version=N)`: Retrieves the specific version `N`.\n",
    "* <b><font size='3ptx'>Listing Versions</font></b>: The list_versions method (on the service, not context) can be used to find all existing version numbers for an artifact."
   ]
  },
  {
   "cell_type": "markdown",
   "id": "0d08cd01-bbe3-43dd-a571-daeeefa608bf",
   "metadata": {},
   "source": [
    "#### <b>Namespacing (Session vs. User)</b>\n",
    "* <b><font size='3ptx'>Concept</font></b>: Artifacts can be scoped either to a specific session or more broadly to a user across all their sessions within the application. This scoping is determined by the filename format and handled internally by the <b><font color='blue'>ArtifactService</font></b>.\n",
    "* <b><font size='3ptx'>Default</font></b> (`Session Scope`): If you use a plain filename like \"`report.pdf`\", the artifact is associated with the specific `app_name`, `user_id`, and `session_id`. It's only accessible within that exact session context.\n",
    "* <b><font size='3ptx'>User Scope</font></b> (`\"user:\"` prefix): If you prefix the filename with `\"user:\"`, like `\"user:profile.png\"`, the artifact is associated only with the `app_name` and `user_id`. It can be accessed or updated from any session belonging to that user within the app."
   ]
  },
  {
   "cell_type": "markdown",
   "id": "7602f953-2b06-4894-96f1-2720735e9352",
   "metadata": {},
   "source": [
    "```python\n",
    "# Example illustrating namespace difference (conceptual)\n",
    "\n",
    "# Session-specific artifact filename\n",
    "session_report_filename = \"summary.txt\"\n",
    "\n",
    "# User-specific artifact filename\n",
    "user_config_filename = \"user:settings.json\"\n",
    "\n",
    "# When saving 'summary.txt' via context.save_artifact,\n",
    "# it's tied to the current app_name, user_id, and session_id.\n",
    "\n",
    "# When saving 'user:settings.json' via context.save_artifact,\n",
    "# the ArtifactService implementation should recognize the \"user:\" prefix\n",
    "# and scope it to app_name and user_id, making it accessible across sessions for that user.\n",
    "```\n",
    "\n",
    "These core concepts work together to provide a flexible system for managing binary data within the ADK framework."
   ]
  },
  {
   "cell_type": "markdown",
   "id": "c1b859c9-35e7-474d-aa75-d7a4c5af593b",
   "metadata": {
    "jp-MarkdownHeadingCollapsed": true
   },
   "source": [
    "### <b><font color='darkgreen'>Interacting with Artifacts (via `Context` Objects)</font></b>\n",
    "([source](https://google.github.io/adk-docs/artifacts/#interacting-with-artifacts-via-context-objects)) <font size='3ptx'><b>The primary way you interact with artifacts within your agent's logic (<font color='brown'>specifically within callbacks or tools</font>) is through methods provided by the `CallbackContext` and `ToolContext` objects.</b> These methods abstract away the underlying storage details managed by the <b><font color='blue'>ArtifactService</font></b>.</font>"
   ]
  },
  {
   "cell_type": "markdown",
   "id": "d37f98b0-7e39-45cd-a6b3-815b5f39510e",
   "metadata": {},
   "source": [
    "#### <b>Prerequisite: Configuring the `ArtifactService`</b>\n",
    "Before you can use any artifact methods via the context objects, you must provide an instance of a [<b>BaseArtifactService</b> implementation](https://google.github.io/adk-docs/artifacts/#available-implementations) (<font color='brown'>like [**InMemoryArtifactService**](https://google.github.io/adk-docs/artifacts/#inmemoryartifactservice) or [**GcsArtifactService**](https://google.github.io/adk-docs/artifacts/#gcsartifactservice)</font>) when initializing your `Runner`."
   ]
  },
  {
   "cell_type": "markdown",
   "id": "54d5a83d-d44a-45ac-8460-075e2302a9a7",
   "metadata": {},
   "source": [
    "In Python, you provide this instance when initializing your `Runner`:\n",
    "\n",
    "```python\n",
    "from google.adk.runners import Runner\n",
    "from google.adk.artifacts import InMemoryArtifactService # Or GcsArtifactService\n",
    "from google.adk.agents import LlmAgent\n",
    "from google.adk.sessions import InMemorySessionService\n",
    "\n",
    "# Your agent definition\n",
    "agent = LlmAgent(name=\"my_agent\", model=\"gemini-2.0-flash\")\n",
    "\n",
    "# Instantiate the desired artifact service\n",
    "artifact_service = InMemoryArtifactService()\n",
    "\n",
    "# Provide it to the Runner\n",
    "runner = Runner(\n",
    "    agent=agent,\n",
    "    app_name=\"artifact_app\",\n",
    "    session_service=InMemorySessionService(),\n",
    "    artifact_service=artifact_service # Service must be provided here\n",
    ")\n",
    "```\n",
    "\n",
    "If no `artifact_service` is configured in the <b><font color='blue'>InvocationContext</font></b> (<font color='brown'>which happens if it's not passed to the `Runner`</font>), calling `save_artifact`, `load_artifact`, or `list_artifacts` on the context objects will raise a <b><font color='blue'>ValueError</font></b>."
   ]
  },
  {
   "cell_type": "markdown",
   "id": "402fb88a-395f-477b-aaee-74cb42362de3",
   "metadata": {},
   "source": [
    "#### <b>Accessing Methods</b>\n",
    "The artifact interaction methods are available directly on instances of <b><font color='blue'>CallbackContext</font></b> (<font color='brown'>passed to agent and model callbacks</font>) and <b><font color='blue'>ToolContext</font></b> (<font color='brown'>passed to tool callbacks</font>). Remember that <b><font color='blue'>ToolContext</font></b> inherits from <b><font color='blue'>CallbackContext</font></b>."
   ]
  },
  {
   "cell_type": "markdown",
   "id": "d194b75a-07ea-40b3-9102-a11cb6e65f29",
   "metadata": {},
   "source": [
    "**Save Artifact Code Example**:\n",
    "\n",
    "```python\n",
    "import google.genai.types as types\n",
    "from google.adk.agents.callback_context import CallbackContext # Or ToolContext\n",
    "\n",
    "async def save_generated_report_py(context: CallbackContext, report_bytes: bytes):\n",
    "    \"\"\"Saves generated PDF report bytes as an artifact.\"\"\"\n",
    "    report_artifact = types.Part.from_data(\n",
    "        data=report_bytes,\n",
    "        mime_type=\"application/pdf\"\n",
    "    )\n",
    "    filename = \"generated_report.pdf\"\n",
    "\n",
    "    try:\n",
    "        version = await context.save_artifact(filename=filename, artifact=report_artifact)\n",
    "        print(f\"Successfully saved Python artifact '{filename}' as version {version}.\")\n",
    "        # The event generated after this callback will contain:\n",
    "        # event.actions.artifact_delta == {\"generated_report.pdf\": version}\n",
    "    except ValueError as e:\n",
    "        print(f\"Error saving Python artifact: {e}. Is ArtifactService configured in Runner?\")\n",
    "    except Exception as e:\n",
    "        # Handle potential storage errors (e.g., GCS permissions)\n",
    "        print(f\"An unexpected error occurred during Python artifact save: {e}\")\n",
    "\n",
    "# --- Example Usage Concept (Python) ---\n",
    "# async def main_py():\n",
    "#   callback_context: CallbackContext = ... # obtain context\n",
    "#   report_data = b'...' # Assume this holds the PDF bytes\n",
    "#   await save_generated_report_py(callback_context, report_data)\n",
    "```"
   ]
  },
  {
   "cell_type": "markdown",
   "id": "60f69844-c8ca-469f-a251-a858d0c07324",
   "metadata": {},
   "source": [
    "<b>Loading Artifacts Code Example:</b>\n",
    "\n",
    "```python\n",
    "import google.genai.types as types\n",
    "from google.adk.agents.callback_context import CallbackContext # Or ToolContext\n",
    "\n",
    "async def process_latest_report_py(context: CallbackContext):\n",
    "    \"\"\"Loads the latest report artifact and processes its data.\"\"\"\n",
    "    filename = \"generated_report.pdf\"\n",
    "    try:\n",
    "        # Load the latest version\n",
    "        report_artifact = await context.load_artifact(filename=filename)\n",
    "\n",
    "        if report_artifact and report_artifact.inline_data:\n",
    "            print(f\"Successfully loaded latest Python artifact '{filename}'.\")\n",
    "            print(f\"MIME Type: {report_artifact.inline_data.mime_type}\")\n",
    "            # Process the report_artifact.inline_data.data (bytes)\n",
    "            pdf_bytes = report_artifact.inline_data.data\n",
    "            print(f\"Report size: {len(pdf_bytes)} bytes.\")\n",
    "            # ... further processing ...\n",
    "        else:\n",
    "            print(f\"Python artifact '{filename}' not found.\")\n",
    "\n",
    "        # Example: Load a specific version (if version 0 exists)\n",
    "        # specific_version_artifact = await context.load_artifact(filename=filename, version=0)\n",
    "        # if specific_version_artifact:\n",
    "        #     print(f\"Loaded version 0 of '{filename}'.\")\n",
    "\n",
    "    except ValueError as e:\n",
    "        print(f\"Error loading Python artifact: {e}. Is ArtifactService configured?\")\n",
    "    except Exception as e:\n",
    "        # Handle potential storage errors\n",
    "        print(f\"An unexpected error occurred during Python artifact load: {e}\")\n",
    "\n",
    "# --- Example Usage Concept (Python) ---\n",
    "# async def main_py():\n",
    "#   callback_context: CallbackContext = ... # obtain context\n",
    "#   await process_latest_report_py(callback_context)\n",
    "```"
   ]
  },
  {
   "cell_type": "markdown",
   "id": "5c9cf66f-6ded-427e-91f3-a973ad0ebbd3",
   "metadata": {},
   "source": [
    "<b>Listing Artifact Filenames Code Example:</b>\n",
    "```python\n",
    "from google.adk.tools.tool_context import ToolContext\n",
    "\n",
    "def list_user_files_py(tool_context: ToolContext) -> str:\n",
    "    \"\"\"Tool to list available artifacts for the user.\"\"\"\n",
    "    try:\n",
    "        available_files = await tool_context.list_artifacts()\n",
    "        if not available_files:\n",
    "            return \"You have no saved artifacts.\"\n",
    "        else:\n",
    "            # Format the list for the user/LLM\n",
    "            file_list_str = \"\\n\".join([f\"- {fname}\" for fname in available_files])\n",
    "            return f\"Here are your available Python artifacts:\\n{file_list_str}\"\n",
    "    except ValueError as e:\n",
    "        print(f\"Error listing Python artifacts: {e}. Is ArtifactService configured?\")\n",
    "        return \"Error: Could not list Python artifacts.\"\n",
    "    except Exception as e:\n",
    "        print(f\"An unexpected error occurred during Python artifact list: {e}\")\n",
    "        return \"Error: An unexpected error occurred while listing Python artifacts.\"\n",
    "\n",
    "# This function would typically be wrapped in a FunctionTool\n",
    "# from google.adk.tools import FunctionTool\n",
    "# list_files_tool = FunctionTool(func=list_user_files_py)\n",
    "```"
   ]
  },
  {
   "cell_type": "markdown",
   "id": "ce8ff76c-8035-4f99-a8d2-745fa320c37b",
   "metadata": {},
   "source": [
    "These methods for saving, loading, and listing provide a convenient and consistent way to manage binary data persistence within ADK, whether using Python's `context` objects, regardless of the chosen backend storage implementation."
   ]
  },
  {
   "cell_type": "markdown",
   "id": "48dea220-50fb-413f-9a06-d24ee87805f1",
   "metadata": {
    "jp-MarkdownHeadingCollapsed": true
   },
   "source": [
    "### <b><font color='darkgreen'>Available Implementations</font></b>\n",
    "([source](https://google.github.io/adk-docs/artifacts/#available-implementations)) <font size='3ptx'><b>ADK provides concrete implementations of the <font color='blue'>BaseArtifactService</font> interface, offering different storage backends suitable for various development stages and deployment needs.</b> These implementations handle the details of storing, versioning, and retrieving artifact data based on the `app_name`, `user_id`, `session_id`, and `filename` (<font color='brown'>including the `user:` namespace prefix</font>).</font>"
   ]
  },
  {
   "cell_type": "markdown",
   "id": "e36a8f28-9b0c-48f3-8898-a1d3972bd308",
   "metadata": {},
   "source": [
    "#### <b>InMemoryArtifactService</b>"
   ]
  },
  {
   "cell_type": "markdown",
   "id": "ee39e56c-402c-4506-b5ae-39c645fff872",
   "metadata": {},
   "source": [
    "* <b><font size='3ptx'>Storage Mechanism</font></b>: Uses a Python dictionary (`self.artifacts`) held in the application's memory. The dictionary keys represent the artifact path, and the values are lists of `types.Part`, where each list element is a version.\n",
    "* <b><font size='3ptx'>Key Features</font></b>:\n",
    "    - <b>Simplicity</b>: Requires no external setup or dependencies beyond the core ADK library.\n",
    "    - <b>Speed</b>: Operations are typically very fast as they involve in-memory map/dictionary lookups and list manipulations.\n",
    "    - <b>Ephemeral</b>: All stored artifacts are lost when the application process terminates. Data does not persist between application restarts.\n",
    "* <b><font size='3ptx'>Use Cases</font></b>:\n",
    "    - Ideal for local development and testing where persistence is not required.\n",
    "    - Suitable for short-lived demonstrations or scenarios where artifact data is purely temporary within a single run of the application.\n",
    "* <b><font size='3ptx'>Instantiation</font></b>:\n",
    "\n",
    "```python\n",
    "from google.adk.artifacts import InMemoryArtifactService\n",
    "\n",
    "# Simply instantiate the class\n",
    "in_memory_service_py = InMemoryArtifactService()\n",
    "\n",
    "# Then pass it to the Runner\n",
    "# runner = Runner(..., artifact_service=in_memory_service_py)\n",
    "```"
   ]
  },
  {
   "cell_type": "markdown",
   "id": "6136c216-9e60-4862-b0d0-8b226593e366",
   "metadata": {},
   "source": [
    "#### <b>GcsArtifactService</b>"
   ]
  },
  {
   "cell_type": "markdown",
   "id": "7fa9166c-1569-4dd0-b15b-28e3825a8a95",
   "metadata": {},
   "source": [
    "* <b><font size='3ptx'>Storage Mechanism</font></b>: Leverages [**Google Cloud Storage**](https://cloud.google.com/storage?hl=en) (GCS) for persistent artifact storage. Each version of an artifact is stored as a separate object (blob) within a specified GCS bucket.\n",
    "* <b><font size='3ptx'>Object Naming Convention</font></b>: It constructs GCS object names (blob names) using a hierarchical path structure.\n",
    "* <b><font size='3ptx'>Key Features</font></b>:\n",
    "    - <b>Persistence</b>: Artifacts stored in GCS persist across application restarts and deployments.\n",
    "    - <b>Scalability</b>: Leverages the scalability and durability of Google Cloud Storage.\n",
    "    - <b>Versioning</b>: Explicitly stores each version as a distinct GCS object. The `saveArtifact` method in <b><font color='blue'>GcsArtifactService</font></b>.\n",
    "    - <b>Permissions Required</b>: The application environment needs appropriate credentials (<font color='brown'>e.g., Application Default Credentials</font>) and IAM permissions to read from and write to the specified GCS bucket.\n",
    "* <b><font size='3ptx'>Use Cases</font></b>:\n",
    "    - Production environments requiring persistent artifact storage.\n",
    "    - Scenarios where artifacts need to be shared across different application instances or services (<font color='brown'>by accessing the same GCS bucket</font>).\n",
    "    - Applications needing long-term storage and retrieval of user or session data.\n",
    "* <b><font size='3ptx'>Instantiation</font></b>:\n",
    "\n",
    "```python\n",
    "from google.adk.artifacts import GcsArtifactService\n",
    "\n",
    "# Specify the GCS bucket name\n",
    "gcs_bucket_name_py = \"your-gcs-bucket-for-adk-artifacts\" # Replace with your bucket name\n",
    "\n",
    "try:\n",
    "    gcs_service_py = GcsArtifactService(bucket_name=gcs_bucket_name_py)\n",
    "    print(f\"Python GcsArtifactService initialized for bucket: {gcs_bucket_name_py}\")\n",
    "    # Ensure your environment has credentials to access this bucket.\n",
    "    # e.g., via Application Default Credentials (ADC)\n",
    "\n",
    "    # Then pass it to the Runner\n",
    "    # runner = Runner(..., artifact_service=gcs_service_py)\n",
    "\n",
    "except Exception as e:\n",
    "    # Catch potential errors during GCS client initialization (e.g., auth issues)\n",
    "    print(f\"Error initializing Python GcsArtifactService: {e}\")\n",
    "    # Handle the error appropriately - maybe fall back to InMemory or raise\n",
    "```\n",
    "\n",
    "Choosing the appropriate `ArtifactService` implementation depends on your application's requirements for data persistence, scalability, and operational environment."
   ]
  },
  {
   "cell_type": "markdown",
   "id": "3b208cd2-514e-4d90-bb79-d07981a28a78",
   "metadata": {},
   "source": [
    "### <b><font color='darkgreen'>Best Practices</font></b>\n",
    "([source](https://google.github.io/adk-docs/artifacts/#best-practices)) <b><font size='3ptx'>To use artifacts effectively and maintainably:</font></b>"
   ]
  },
  {
   "cell_type": "markdown",
   "id": "18d85e8d-7187-4916-8dc8-433c4f2b74ba",
   "metadata": {},
   "source": [
    "- <b><font size='3ptx'>Choose the Right Service</font></b>: Use `InMemoryArtifactService` for rapid prototyping, testing, and scenarios where persistence isn't needed. Use `GcsArtifactService` (<font color='brown'>or implement your own `BaseArtifactService` for other backends</font>) for production environments requiring data persistence and scalability.\n",
    "- <b><font size='3ptx'>Meaningful Filenames</font></b>: Use clear, descriptive filenames. Including relevant extensions (<font color='brown'>.pdf, .png, .wav</font>) helps humans understand the content, even though the `mime_type` dictates programmatic handling. Establish conventions for temporary vs. persistent artifact names.\n",
    "- <b><font size='3ptx'>Specify Correct MIME Types</font></b>: Always provide an accurate `mime_type` when creating the `types.Part` for `save_artifact`. This is critical for applications or tools that later `load_artifact` to interpret the bytes data correctly. Use standard [**IANA MIME**](https://en.wikipedia.org/wiki/Media_type) types where possible.\n",
    "- <b><font size='3ptx'>Understand Versioning</font></b>: Remember that `load_artifact()` without a specific version argument retrieves the latest version. If your logic depends on a specific historical version of an artifact, be sure to provide the integer version number when loading.\n",
    "- <b><font size='3ptx'>Use Namespacing (`user:`) Deliberately</font></b>: Only use the `\"user:\"` prefix for filenames when the data truly belongs to the user and should be accessible across all their sessions. For data specific to a single conversation or session, use regular filenames without the prefix.\n",
    "- <b><font size='3ptx'>Error Handling</font></b>:\n",
    "    - Always check if an `artifact_service` is actually configured before calling context methods (`save_artifact`, `load_artifact`, `list_artifacts`) – they will raise a <b><font color='blue'>ValueError</font></b> if the service is `None`.\n",
    "    - Check the return value of `load_artifact`, as it will be `None` if the artifact or version doesn't exist. Don't assume it always returns a `Part`.\n",
    "    - Be prepared to handle exceptions from the underlying storage service, especially with `GcsArtifactService` (<font color='brown'>e.g., `google.api_core.exceptions.Forbidden` for permission issues, `NotFound` if the bucket doesn't exist, network errors</font>).\n",
    "- <b><font size='3ptx'>Size Considerations</font></b>: Artifacts are suitable for typical file sizes, but <font color='darkred'>be mindful of potential costs and performance impacts with extremely large files, especially with cloud storage</font>. `InMemoryArtifactService` can consume significant memory if storing many large artifacts. Evaluate if very large data might be better handled through direct GCS links or other specialized storage solutions rather than passing entire byte arrays in-memory.\n",
    "- <b><font size='3ptx'>Cleanup Strategy</font></b>: For persistent storage like `GcsArtifactService`, artifacts remain until explicitly deleted. If artifacts represent temporary data or have a limited lifespan, implement a strategy for cleanup. This might involve:\n",
    "    - Using GCS lifecycle policies on the bucket.\n",
    "    - Building specific tools or administrative functions that utilize the `artifact_service.delete_artifact` method (<font color='brown'>note: delete is not exposed via context objects for safety</font>).\n",
    "    - Carefully managing filenames to allow pattern-based deletion if needed."
   ]
  }
 ],
 "metadata": {
  "kernelspec": {
   "display_name": "Python 3 (ipykernel)",
   "language": "python",
   "name": "python3"
  },
  "language_info": {
   "codemirror_mode": {
    "name": "ipython",
    "version": 3
   },
   "file_extension": ".py",
   "mimetype": "text/x-python",
   "name": "python",
   "nbconvert_exporter": "python",
   "pygments_lexer": "ipython3",
   "version": "3.12.9"
  }
 },
 "nbformat": 4,
 "nbformat_minor": 5
}
