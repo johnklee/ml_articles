{
 "cells": [
  {
   "cell_type": "markdown",
   "id": "f8a57793-7df6-45a2-badf-37a2996b99b1",
   "metadata": {},
   "source": [
    "## <b><font color='darkblue'>What is a Tool?</font></b>\n",
    "<font size='3ptx'><b>In the context of ADK, a Tool represents a specific capability provided to an AI agent, enabling it to perform actions and interact with the world beyond its core text generation and reasoning abilities.</b>What distinguishes capable agents from basic language models is often their effective use of tools.</font>\n",
    "\n",
    "<b>Technically, a tool is typically a modular code component—like a Python/ Java function, a class method, or even another specialized agent—designed to execute a distinct, predefined task</b>. These tasks often involve interacting with external systems or data.\n",
    "![flow](https://google.github.io/adk-docs/assets/agent-tool-call.png)"
   ]
  },
  {
   "cell_type": "code",
   "execution_count": 1,
   "id": "b8524993-628d-4767-a758-cecf6b11a43c",
   "metadata": {},
   "outputs": [],
   "source": [
    "from IPython.display import display, Markdown, Latex"
   ]
  },
  {
   "cell_type": "code",
   "execution_count": 10,
   "id": "4bbdb10b-420c-4b97-939b-a78848b7ec1f",
   "metadata": {},
   "outputs": [],
   "source": [
    "def show_source_code(src_path: str):\n",
    "    source_code = !cat $src_path\n",
    "    display(Markdown(f\"\"\"\n",
    "```python\n",
    "{'\\n'.join(source_code)}\n",
    "```\"\"\"))"
   ]
  },
  {
   "cell_type": "markdown",
   "id": "66b40e7a-08f4-497c-a16e-318d8692a72b",
   "metadata": {},
   "source": [
    "### <b><font color='darkgreen'>Key Characteristics</font></b>\n",
    "<b>Action-Oriented</b>: Tools perform specific actions, such as:\n",
    "- Querying databases-\n",
    "- Making API requests (e.g., fetching weather data, booking systems)\n",
    "- Searching the web\n",
    "- Executing code snippets\n",
    "- Retrieving information from documents (RAG)\n",
    "- Interacting with other software or services\n",
    "\n",
    "**Extends Agent capabilities**: They empower agents to access real-time information, affect external systems, and overcome the knowledge limitations inherent in their training data.\n",
    "\n",
    "**Execute predefined logic**: Crucially, tools execute specific, developer-defined logic. They do not possess their own independent reasoning capabilities like the agent's core Large Language Model (LLM). The LLM reasons about which tool to use, when, and with what inputs, but the tool itself just executes its designated function."
   ]
  },
  {
   "cell_type": "markdown",
   "id": "505223db-ad7c-45b2-9500-4dd294852229",
   "metadata": {},
   "source": [
    "## <b><font color='darkblue'>How Agents Use Tools</font></b>\n",
    "<b>Agents leverage tools dynamically through mechanisms often involving function calling</b>. The process generally follows these steps:\n",
    "1. **Reasoning:** The agent's LLM analyzes its system instruction, conversation history, and user request.\n",
    "2. **Selection**: Based on the analysis, the LLM decides on which tool, if any, to execute, based on the tools available to the agent and the docstrings that describes each tool.\n",
    "3. **Invocation**: The LLM generates the required arguments (`inputs`) for the selected tool and triggers its execution.\n",
    "4. **Observation**: The agent receives the output (`result`) returned by the tool.\n",
    "5. **Finalization**: The agent incorporates the tool's output into its ongoing reasoning process to formulate the next response, decide the subsequent step, or determine if the goal has been achieved.\n",
    "\n",
    "Think of the tools as a specialized toolkit that the agent's intelligent core (the LLM) can access and utilize as needed to accomplish complex tasks."
   ]
  },
  {
   "cell_type": "markdown",
   "id": "8e7e6791-3184-4f78-8ffa-7cde56f876d6",
   "metadata": {},
   "source": [
    "## <b><font color='darkblue'>Tool Types in ADK</font></b>\n",
    "ADK offers flexibility by supporting several types of tools:\n",
    "1. [**Function Tools**](https://google.github.io/adk-docs/tools/function-tools/): Tools created by you, tailored to your specific application's needs.\n",
    "   - [**Functions/Methods**](https://google.github.io/adk-docs/tools/function-tools/#1-function-tool): Define standard synchronous functions or methods in your code (<font color='brown'>e.g., Python `def`</font>).\n",
    "   - [**Agents-as-Tools**](https://google.github.io/adk-docs/tools/function-tools/#3-agent-as-a-tool): Use another, potentially specialized, agent as a tool for a parent agent.\n",
    "   - [**Long Running Function Tools**](https://google.github.io/adk-docs/tools/function-tools/#2-long-running-function-tool): Support for tools that perform asynchronous operations or take significant time to complete.\n",
    "2. [**Built-in Tools**](https://google.github.io/adk-docs/tools/built-in-tools/): Ready-to-use tools provided by the framework for common tasks. Examples: Google Search, Code Execution, Retrieval-Augmented Generation (RAG).\n",
    "3. [**Third-Party Tools**](https://google.github.io/adk-docs/tools/third-party-tools/): Integrate tools seamlessly from popular external libraries. Examples: [LangChain Tools](https://python.langchain.com/docs/integrations/tools/), CrewAI Tools.\n",
    "\n",
    "Navigate to the respective documentation pages linked above for detailed information and examples for each tool type."
   ]
  },
  {
   "cell_type": "markdown",
   "id": "53577a1a-6fa0-4923-ac1b-ea8811640c6c",
   "metadata": {},
   "source": [
    "## <b><font color='darkblue'>Referencing Tool in Agent’s Instructions</font></b>\n",
    "Within an agent's instructions, you can directly reference a tool by using its **function name**. If the tool's **function name** and **docstring** are sufficiently descriptive, your instructions can primarily focus on **when the Large Language Model** (LLM) **should utilize the tool**. This promotes clarity and helps the model understand the intended use of each tool.\n",
    "\n",
    "**It is crucial to clearly instruct the agent on how to handle different return values that a tool might produce**. For example, if a tool returns an error message, your instructions should specify whether the agent should retry the operation, give up on the task, or request additional information from the user.\n",
    "\n",
    "Furthermore, ADK supports the sequential use of tools, where the output of one tool can serve as the input for another. When implementing such workflows, **it's important to describe the intended sequence of tool usage within the agent's instructions to guide the model through the necessary steps**."
   ]
  },
  {
   "cell_type": "markdown",
   "id": "ed88c57d-1886-469e-811d-4d23fb39a339",
   "metadata": {},
   "source": [
    "### <b><font color='darkgreen'>Example</font></b>\n",
    "**The following example showcases how an agent can use tools by referencing their function names in its instructions**. It also demonstrates how to guide the agent to **handle different return values from tools**, such as success or error messages, and how to **orchestrate the sequential use of multiple tools to accomplish a task**.\n",
    "\n",
    "- **`tools_example1.py`**:"
   ]
  },
  {
   "cell_type": "code",
   "execution_count": 3,
   "id": "39295e6a-f0ab-4f76-b552-f691d4012032",
   "metadata": {},
   "outputs": [
    {
     "data": {
      "text/markdown": [
       "\n",
       "```python\n",
       "#!/usr/bin/env python\n",
       "# Copyright 2025 Google LLC\n",
       "#\n",
       "# Licensed under the Apache License, Version 2.0 (the \"License\");\n",
       "# you may not use this file except in compliance with the License.\n",
       "# You may obtain a copy of the License at\n",
       "#\n",
       "#     http://www.apache.org/licenses/LICENSE-2.0\n",
       "#\n",
       "# Unless required by applicable law or agreed to in writing, software\n",
       "# distributed under the License is distributed on an \"AS IS\" BASIS,\n",
       "# WITHOUT WARRANTIES OR CONDITIONS OF ANY KIND, either express or implied.\n",
       "# See the License for the specific language governing permissions and\n",
       "# limitations under the License.\n",
       "\n",
       "import asyncio\n",
       "\n",
       "from google.adk.agents import Agent\n",
       "from google.adk.tools import FunctionTool\n",
       "from google.adk.runners import Runner\n",
       "from google.adk.sessions import InMemorySessionService\n",
       "from google.genai import types\n",
       "\n",
       "APP_NAME=\"weather_sentiment_agent\"\n",
       "USER_ID=\"user1234\"\n",
       "SESSION_ID=\"1234\"\n",
       "MODEL_ID=\"gemini-2.0-flash\"\n",
       "\n",
       "# Tool 1\n",
       "def get_weather_report(city: str) -> dict:\n",
       "  \"\"\"Retrieves the current weather report for a specified city.\n",
       "\n",
       "  Returns:\n",
       "    dict: A dictionary containing the weather information with a 'status'\n",
       "      key ('success' or 'error') and a 'report' key with the weather details\n",
       "      if successful, or an 'error_message' if an error occurred.\n",
       "  \"\"\"\n",
       "  if city.lower() == \"london\":\n",
       "    return {\n",
       "        \"status\": \"success\",\n",
       "        \"report\": (\n",
       "            \"The current weather in London is cloudy with a temperature of\"\n",
       "            \"18 degrees Celsius and a chance of rain.\")\n",
       "    }\n",
       "  elif city.lower() == \"paris\":\n",
       "    return {\n",
       "        \"status\": \"success\",\n",
       "        \"report\": (\n",
       "            \"The weather in Paris is sunny with a temperature of 25 degrees\"\n",
       "            \" Celsius.\")\n",
       "    }\n",
       "  elif city.lower() == 'taipei':\n",
       "    return {\n",
       "        \"status\": \"success\",\n",
       "        \"report\": (\n",
       "            \"The current weather in Taipei is cloudy with a temperature of\"\n",
       "            \"31 degrees Celsius and a chance of light rain. I like it.\")\n",
       "    }\n",
       "  else:\n",
       "    return {\n",
       "        \"status\": \"error\",\n",
       "        \"error_message\": (\n",
       "            f\"Weather information for '{city}' is not available.\")}\n",
       "\n",
       "\n",
       "weather_tool = FunctionTool(func=get_weather_report)\n",
       "\n",
       "\n",
       "# Tool 2\n",
       "def analyze_sentiment(text: str) -> dict:\n",
       "  \"\"\"Analyzes the sentiment of the given text.\n",
       "\n",
       "  Returns:\n",
       "    dict: A dictionary with 'sentiment' ('positive', 'negative', or 'neutral')\n",
       "      and a 'confidence' score.\n",
       "  \"\"\"\n",
       "  if any([\n",
       "      \"good\" in text.lower(),\n",
       "      \"sunny\" in text.lower(),\n",
       "      \" like \" in text.lower()]):\n",
       "    return {\"sentiment\": \"positive\", \"confidence\": 0.8}\n",
       "  elif \"rain\" in text.lower() or \"bad\" in text.lower():\n",
       "    return {\"sentiment\": \"negative\", \"confidence\": 0.7}\n",
       "  else:\n",
       "    return {\"sentiment\": \"neutral\", \"confidence\": 0.6}\n",
       "\n",
       "\n",
       "sentiment_tool = FunctionTool(func=analyze_sentiment)\n",
       "\n",
       "\n",
       "# Agent\n",
       "weather_sentiment_agent = Agent(\n",
       "    model=MODEL_ID,\n",
       "    name='weather_sentiment_agent',\n",
       "    instruction=\"\"\"\n",
       "You are a helpful assistant that provides weather information and analyzes the\n",
       "sentiment of user feedback.\n",
       "* **If the user asks about the weather in a specific city, use the 'get_weather_report' tool to retrieve the weather details.**\n",
       "* **If the 'get_weather_report' tool returns a 'success' status, provide the weather report to the user.**\n",
       "* **If the 'get_weather_report' tool returns an 'error' status, inform the user that the weather information for the specified city is not available and ask if they have another city in mind.**\n",
       "* **After providing a weather report, if the user gives feedback on the weather\n",
       "  (e.g., 'That's good', 'I like it' or 'I don't like rain'), use the 'analyze_sentiment' tool to understand their sentiment.**\n",
       "  Then, briefly acknowledge their sentiment.\n",
       "\n",
       "You can handle these tasks sequentially if needed.\"\"\",\n",
       "    tools=[weather_tool, sentiment_tool]\n",
       ")\n",
       "\n",
       "# Session and Runner\n",
       "async def setup_session_and_runner():\n",
       "    session_service = InMemorySessionService()\n",
       "    session = await session_service.create_session(app_name=APP_NAME, user_id=USER_ID, session_id=SESSION_ID)\n",
       "    runner = Runner(agent=weather_sentiment_agent, app_name=APP_NAME, session_service=session_service)\n",
       "    return session, runner\n",
       "\n",
       "\n",
       "# Agent Interaction\n",
       "async def call_agent_async(query):\n",
       "    content = types.Content(role='user', parts=[types.Part(text=query)])\n",
       "    session, runner = await setup_session_and_runner()\n",
       "    events = runner.run_async(user_id=USER_ID, session_id=SESSION_ID, new_message=content)\n",
       "\n",
       "    async for event in events:\n",
       "        if event.is_final_response():\n",
       "            final_response = event.content.parts[0].text\n",
       "            print(\"Agent Response: \", final_response)\n",
       "\n",
       "\n",
       "if __name__ == '__main__':\n",
       "  # Note: In Colab, you can directly use 'await' at the top level.\n",
       "  # If running this code as a standalone Python script, you'll need to use asyncio.run() or manage the event loop.\n",
       "  # await call_agent_async(\"weather in Taipei?\")\n",
       "  asyncio.run(call_agent_async(\"weather in Taipei?\"))\n",
       "```"
      ],
      "text/plain": [
       "<IPython.core.display.Markdown object>"
      ]
     },
     "metadata": {},
     "output_type": "display_data"
    }
   ],
   "source": [
    "show_source_code('tools_example1.py')"
   ]
  },
  {
   "cell_type": "code",
   "execution_count": 4,
   "id": "99c574a0-5293-4d00-a486-6626dd60f4ed",
   "metadata": {},
   "outputs": [
    {
     "name": "stderr",
     "output_type": "stream",
     "text": [
      "Warning: there are non-text parts in the response: ['function_call'], returning concatenated text result from text parts. Check the full candidates.content.parts accessor to get the full model response.\n",
      "Warning: there are non-text parts in the response: ['function_call'], returning concatenated text result from text parts. Check the full candidates.content.parts accessor to get the full model response.\n"
     ]
    },
    {
     "name": "stdout",
     "output_type": "stream",
     "text": [
      "Agent Response:  I'm glad you like it.\n",
      "\n"
     ]
    }
   ],
   "source": [
    "import tools_example1\n",
    "\n",
    "await tools_example1.call_agent_async(\"Weather in Taipei?\")"
   ]
  },
  {
   "cell_type": "code",
   "execution_count": 5,
   "id": "866fad24-2050-4770-a9e6-676d11cc7933",
   "metadata": {},
   "outputs": [
    {
     "name": "stderr",
     "output_type": "stream",
     "text": [
      "Warning: there are non-text parts in the response: ['function_call'], returning concatenated text result from text parts. Check the full candidates.content.parts accessor to get the full model response.\n"
     ]
    },
    {
     "name": "stdout",
     "output_type": "stream",
     "text": [
      "Agent Response:  The current weather in London is cloudy with a temperature of 18 degrees Celsius and a chance of rain.\n",
      "\n"
     ]
    }
   ],
   "source": [
    "await tools_example1.call_agent_async(\"Weather in London?\")"
   ]
  },
  {
   "cell_type": "markdown",
   "id": "e083b3d1-a2cb-42da-836d-de065bb6a8e1",
   "metadata": {},
   "source": [
    "## <b><font color='darkblue'>Tool Context</font></b>\n",
    "<b><font size='3ptx'>For more advanced scenarios, ADK allows you to access additional contextual information within your tool function by including the special parameter `tool_context: ToolContext`</font></b>. \n",
    "\n",
    "By including this in the function signature, ADK will automatically provide an instance of the <b><font color='blue'>ToolContext</font></b> class when your tool is called during agent execution. The <b><font color='blue'>ToolContext</font></b> provides access to several key pieces of information and control levers:\n",
    "* **`state: State`**: Read and modify the current session's state. Changes made here are tracked and persisted.\n",
    "* **`actions: EventActions`**: Influence the agent's subsequent actions after the tool runs (<font color='brown'>e.g., skip summarization, transfer to another agent</font>).\n",
    "* **`function_call_id: str`**: The unique identifier assigned by the framework to this specific invocation of the tool. Useful for tracking and correlating with authentication responses. This can also be helpful when multiple tools are called within a single model response.\n",
    "* **`function_call_event_id: str`**: This attribute provides the unique identifier of the event that triggered the current tool call. This can be useful for tracking and logging purposes.\n",
    "* **`auth_response`**: Any: Contains the authentication response/credentials if an authentication flow was completed before this tool call.\n",
    "* **Access to Services**: Methods to interact with configured services like `Artifacts` and `Memory`.\n",
    "\n",
    "<b><font color='orange'>Note that you shouldn't include the `tool_context` parameter in the tool function docstring</font><b>. Since <b><font color='blue'>ToolContext</font></b> is automatically injected by the ADK framework after the LLM decides to call the tool function, it is not relevant for the LLM's decision-making and including it can confuse the LLM."
   ]
  },
  {
   "cell_type": "markdown",
   "id": "3a657dcc-716f-4d7c-a5ac-afd5e20f246a",
   "metadata": {},
   "source": [
    "### <b><font color='darkgreen'>State Management</font></b>\n",
    "<font size='3ptx'><b>The `tool_context.state` attribute provides direct read and write access to the state associated with the current session.</b> It behaves like a dictionary but ensures that any modifications are tracked as deltas and persisted by the session service.</font>\n",
    "\n",
    "This enables tools to maintain and share information across different interactions and agent steps.\n",
    "* **Reading State:** Use standard dictionary access (`tool_context.state['my_key']`) or the `.get()` method (`tool_context.state.get('my_key', default_value)`).\n",
    "* **Writing State**: Assign values directly (`tool_context.state['new_key'] = 'new_value'`). These changes are recorded in the `state_delta` of the resulting event.\n",
    "* **State Prefixes**: Remember the standard state prefixes:\n",
    "  - `app:*`: Shared across all users of the application.\n",
    "  - `user:*`: Specific to the current user across all their sessions.\n",
    "  - `(No prefix)`: Specific to the current session.\n",
    "  - `temp:*`: Temporary, not persisted across invocations (<font color='brown'>useful for passing data within a single run call but generally less useful inside a tool context which operates between LLM calls</font>).\n",
    "\n",
    "\n",
    "```python\n",
    "from google.adk.tools import ToolContext, FunctionTool\n",
    "\n",
    "def update_user_preference(preference: str, value: str, tool_context: ToolContext):\n",
    "    \"\"\"Updates a user-specific preference.\"\"\"\n",
    "    user_prefs_key = \"user:preferences\"\n",
    "    # Get current preferences or initialize if none exist\n",
    "    preferences = tool_context.state.get(user_prefs_key, {})\n",
    "    preferences[preference] = value\n",
    "    # Write the updated dictionary back to the state\n",
    "    tool_context.state[user_prefs_key] = preferences\n",
    "    print(f\"Tool: Updated user preference '{preference}' to '{value}'\")\n",
    "    return {\"status\": \"success\", \"updated_preference\": preference}\n",
    "\n",
    "pref_tool = FunctionTool(func=update_user_preference)\n",
    "\n",
    "# In an Agent:\n",
    "# my_agent = Agent(..., tools=[pref_tool])\n",
    "\n",
    "# When the LLM calls update_user_preference(preference='theme', value='dark', ...):\n",
    "# The tool_context.state will be updated, and the change will be part of the\n",
    "# resulting tool response event's actions.state_delta.\n",
    "```"
   ]
  },
  {
   "cell_type": "markdown",
   "id": "2f79d151-fffb-42c1-ae76-d8995768be00",
   "metadata": {},
   "source": [
    "### <b><font color='darkgreen'>Controlling Agent Flow</font></b>\n",
    "The `tool_context.actions` attribute holds an <b><font color='blue'>EventActions</font></b> object. <b>Modifying attributes on this object allows your tool to influence what the agent or framework does after the tool finishes execution</b>.\n",
    "\n",
    "* **`skip_summarization: bool: (Default: False)`** If set to `True`, instructs the ADK to bypass the LLM call that typically summarizes the tool's output. This is useful if your tool's return value is already a user-ready message.\n",
    "* **`transfer_to_agent: str`**: Set this to the name of another agent. The framework will halt the current agent's execution and transfer control of the conversation to the specified agent. This allows tools to dynamically hand off tasks to more specialized agents.\n",
    "* **`escalate: bool: (Default: False)`** Setting this to `True` signals that the current agent cannot handle the request and should pass control up to its parent agent (<font color='brown'>if in a hierarchy</font>). In a <b><font color='blue'>LoopAgent</font></b>, setting `escalate=True` in a sub-agent's tool will terminate the loop."
   ]
  },
  {
   "cell_type": "markdown",
   "id": "906929e2-87ad-4682-8d34-1d94ffe93583",
   "metadata": {},
   "source": [
    "* **`tools_example2.py`**:"
   ]
  },
  {
   "cell_type": "code",
   "execution_count": 11,
   "id": "f795b719-3a85-421e-ae98-4e95b2453ce6",
   "metadata": {},
   "outputs": [
    {
     "data": {
      "text/markdown": [
       "\n",
       "```python\n",
       "#!/usr/bin/env python\n",
       "# Copyright 2025 Google LLC\n",
       "#\n",
       "# Licensed under the Apache License, Version 2.0 (the \"License\");\n",
       "# you may not use this file except in compliance with the License.\n",
       "# You may obtain a copy of the License at\n",
       "#\n",
       "#     http://www.apache.org/licenses/LICENSE-2.0\n",
       "#\n",
       "# Unless required by applicable law or agreed to in writing, software\n",
       "# distributed under the License is distributed on an \"AS IS\" BASIS,\n",
       "# WITHOUT WARRANTIES OR CONDITIONS OF ANY KIND, either express or implied.\n",
       "# See the License for the specific language governing permissions and\n",
       "# limitations under the License.\n",
       "import asyncio\n",
       "\n",
       "from google.adk.agents import Agent\n",
       "from google.adk.tools import FunctionTool\n",
       "from google.adk.runners import Runner\n",
       "from google.adk.sessions import InMemorySessionService\n",
       "from google.adk.tools import ToolContext\n",
       "from google.genai import types\n",
       "\n",
       "\n",
       "APP_NAME=\"customer_support_agent\"\n",
       "USER_ID=\"user1234\"\n",
       "SESSION_ID=\"1234\"\n",
       "\n",
       "\n",
       "def check_and_transfer(\n",
       "    query: str, tool_context: ToolContext) -> str:\n",
       "  \"\"\"Checks if the query requires escalation and transfers to another agent if needed.\"\"\"\n",
       "  if \"urgent\" in query.lower():\n",
       "    print(\"Tool: Detected urgency, transferring to the support agent.\")\n",
       "    tool_context.actions.transfer_to_agent = \"support_agent\"\n",
       "    return \"Transferring to the support agent...\"\n",
       "  else:\n",
       "    return f\"Processed query: '{query}'. No further action needed.\"\n",
       "\n",
       "\n",
       "escalation_tool = FunctionTool(func=check_and_transfer)\n",
       "\n",
       "\n",
       "main_agent = Agent(\n",
       "    model='gemini-2.0-flash',\n",
       "    name='main_agent',\n",
       "    instruction=\"\"\"\n",
       "You are the first point of contact for customer support of an analytics tool.\n",
       "Answer general queries. If the user indicates urgency, use the\n",
       "'check_and_transfer' tool.\"\"\",\n",
       "    tools=[check_and_transfer])\n",
       "\n",
       "\n",
       "support_agent = Agent(\n",
       "    model='gemini-2.0-flash',\n",
       "    name='support_agent',\n",
       "    instruction=\"\"\"\n",
       "You are the dedicated support agent. Mentioned you are a support handler and\n",
       "please help the user with their urgent issue.\"\"\")\n",
       "\n",
       "\n",
       "main_agent.sub_agents = [support_agent]\n",
       "\n",
       "\n",
       "# Session and Runner\n",
       "async def setup_session_and_runner():\n",
       "  session_service = InMemorySessionService()\n",
       "  session = await session_service.create_session(\n",
       "      app_name=APP_NAME,\n",
       "      user_id=USER_ID,\n",
       "      session_id=SESSION_ID)\n",
       "  runner = Runner(\n",
       "      agent=main_agent,\n",
       "      app_name=APP_NAME,\n",
       "      session_service=session_service)\n",
       "  return session, runner\n",
       "\n",
       "\n",
       "# Agent Interaction\n",
       "async def call_agent_async(query):\n",
       "  content = types.Content(role='user', parts=[types.Part(text=query)])\n",
       "  session, runner = await setup_session_and_runner()\n",
       "  events = runner.run_async(\n",
       "      user_id=USER_ID, session_id=SESSION_ID, new_message=content)\n",
       "\n",
       "  async for event in events:\n",
       "    if event.is_final_response():\n",
       "      final_response = event.content.parts[0].text\n",
       "      print(\"Agent Response: \", final_response)\n",
       "\n",
       "\n",
       "# Note: In Colab, you can directly use 'await' at the top level.\n",
       "# If running this code as a standalone Python script, you'll need to use\n",
       "# asyncio.run() or manage the event loop.\n",
       "# await call_agent_async(\"this is urgent, i cant login\")\n",
       "\n",
       "if __name__ == '__main__':\n",
       "  asyncio.run(call_agent_async(\"This is urgent, i cant login\"))\n",
       "```"
      ],
      "text/plain": [
       "<IPython.core.display.Markdown object>"
      ]
     },
     "metadata": {},
     "output_type": "display_data"
    }
   ],
   "source": [
    "show_source_code('tools_example2.py')"
   ]
  },
  {
   "cell_type": "markdown",
   "id": "97c6cc3d-c00a-4311-a65b-bdc83dc24864",
   "metadata": {},
   "source": [
    "Explanation:\n",
    "* We define two agents: `main_agent` and `support_agent`. The `main_agent` is designed to be the initial point of contact.\n",
    "* The `check_and_transfer` tool, when called by `main_agent`, examines the user's query.\n",
    "* If the query contains the word \"urgent\", the tool accesses the `tool_context`, specifically `tool_context.actions`, and sets the `transfer_to_agent` attribute to `support_agent`.\n",
    "* This action signals to the framework to transfer the control of the conversation to the agent named `support_agent`.\n",
    "* When the `main_agent` processes the urgent query, the `check_and_transfer` tool triggers the transfer. The subsequent response would ideally come from the `support_agent`.\n",
    "* For a normal query without urgency, the tool simply processes it without triggering a transfer.\n",
    "\n",
    "This example illustrates how a tool, through <b><font color='blue'>EventActions</font></b> in its <b><font color='blue'>ToolContext</font></b>, can <b>dynamically influence the flow of the conversation by transferring control to another specialized agent</b>."
   ]
  },
  {
   "cell_type": "code",
   "execution_count": 7,
   "id": "de68eabc-d13b-4230-9a46-b1d7da23ceaa",
   "metadata": {},
   "outputs": [
    {
     "name": "stdout",
     "output_type": "stream",
     "text": [
      "Agent Response:  Hi there! How can I help you today?\n",
      "\n"
     ]
    }
   ],
   "source": [
    "import tools_example2\n",
    "\n",
    "await tools_example2.call_agent_async(\"Hi\")"
   ]
  },
  {
   "cell_type": "code",
   "execution_count": 8,
   "id": "46282f10-47ac-46c8-b494-218bd3f8e9cb",
   "metadata": {},
   "outputs": [
    {
     "name": "stderr",
     "output_type": "stream",
     "text": [
      "Warning: there are non-text parts in the response: ['function_call'], returning concatenated text result from text parts. Check the full candidates.content.parts accessor to get the full model response.\n"
     ]
    },
    {
     "name": "stdout",
     "output_type": "stream",
     "text": [
      "Tool: Detected urgency, transferring to the support agent.\n",
      "Agent Response:  Hi there! I'm the support agent, and I understand you have an urgent problem. I'm here to help. Please tell me more about the issue you're experiencing so I can assist you as quickly as possible. The more details you can provide, the better I can understand and address your needs.\n",
      "\n"
     ]
    }
   ],
   "source": [
    "await tools_example2.call_agent_async(\"I have an urgent problem and need your help.\")"
   ]
  },
  {
   "cell_type": "markdown",
   "id": "aa431500-8ff1-401c-80e5-8ef6fb13cb57",
   "metadata": {},
   "source": [
    "### <b><font color='darkgreen'>Authentication</font>\n",
    "[TBD](Authentication)"
   ]
  },
  {
   "cell_type": "markdown",
   "id": "9e59c92c-a157-4ffb-90d6-5a3d4a45f052",
   "metadata": {},
   "source": [
    "### <b><font color='darkgreen'>Context-Aware Data Access Methods</font></b>\n",
    "<b><font size='3ptx'>These methods provide convenient ways for your tool to interact with persistent data associated with the session or user, managed by configured services</font></b>.\n",
    "\n",
    "* **`list_artifacts()`**: Returns a list of filenames (<font color='brown'>or keys</font>) for all artifacts currently stored for the session via the `artifact_service`. Artifacts are typically files (<font color='brown'>images, documents, etc.</font>) uploaded by the user or generated by tools/agents.\n",
    "* **`load_artifact(filename: str)`**: Retrieves a specific artifact by its filename from the `artifact_service`. You can optionally specify a version; if omitted, the latest version is returned. Returns a **<font color='blue'>google.genai.types.Part</font>** object containing the artifact data and mime type, or `None` if not found.\n",
    "* **`save_artifact(filename: str, artifact: types.Part)`**: Saves a new version of an artifact to the `artifact_service`. Returns the new version number (<font color='brown'>starting from 0</font>).\n",
    "* **`search_memory(query: str)`**: Queries the user's long-term memory using the configured `memory_service`. **This is useful for retrieving relevant information from past interactions or stored knowledge**. The structure of the <font color='blue'><b>SearchMemoryResponse</b></font> depends on the specific memory service implementation but typically contains relevant text snippets or conversation excerpts."
   ]
  },
  {
   "cell_type": "markdown",
   "id": "d981708c-e974-4140-996d-064a15f9b760",
   "metadata": {},
   "source": [
    "* **`tools_example3.py`**:"
   ]
  },
  {
   "cell_type": "code",
   "execution_count": 12,
   "id": "5ae2a4ee-c563-40a6-be5b-1fbb3bd2ce4f",
   "metadata": {},
   "outputs": [
    {
     "data": {
      "text/markdown": [
       "\n",
       "```python\n",
       "# Copyright 2025 Google LLC\n",
       "#\n",
       "# Licensed under the Apache License, Version 2.0 (the \"License\");\n",
       "# you may not use this file except in compliance with the License.\n",
       "# You may obtain a copy of the License at\n",
       "#\n",
       "#     http://www.apache.org/licenses/LICENSE-2.0\n",
       "#\n",
       "# Unless required by applicable law or agreed to in writing, software\n",
       "# distributed under the License is distributed on an \"AS IS\" BASIS,\n",
       "# WITHOUT WARRANTIES OR CONDITIONS OF ANY KIND, either express or implied.\n",
       "# See the License for the specific language governing permissions and\n",
       "# limitations under the License.\n",
       "\n",
       "from google.adk.tools import ToolContext, FunctionTool\n",
       "from google.genai import types\n",
       "\n",
       "\n",
       "def process_document(\n",
       "    document_name: str, analysis_query: str, tool_context: ToolContext\n",
       ") -> dict:\n",
       "  \"\"\"Analyzes a document using context from memory.\"\"\"\n",
       "\n",
       "  # 1. Load the artifact\n",
       "  print(f\"Tool: Attempting to load artifact: {document_name}\")\n",
       "  document_part = tool_context.load_artifact(document_name)\n",
       "\n",
       "  if not document_part:\n",
       "    return {\"status\": \"error\", \"message\": f\"Document '{document_name}' not found.\"}\n",
       "\n",
       "  document_text = document_part.text  # Assuming it's text for simplicity\n",
       "  print(f\"Tool: Loaded document '{document_name}' ({len(document_text)} chars).\")\n",
       "\n",
       "  # 2. Search memory for related context\n",
       "  print(f\"Tool: Searching memory for context related to: '{analysis_query}'\")\n",
       "  memory_response = tool_context.search_memory(\n",
       "      f\"Context for analyzing document about {analysis_query}\")\n",
       "\n",
       "  memory_context = \"\\n\".join(\n",
       "      [\n",
       "          m.events[0].content.parts[0].text\n",
       "          for m in memory_response.memories\n",
       "          if m.events and m.events[0].content\n",
       "      ])  # Simplified extraction\n",
       "  print(f\"Tool: Found memory context: {memory_context[:100]}...\")\n",
       "\n",
       "  # 3. Perform analysis (placeholder)\n",
       "  analysis_result = (\n",
       "      f\"Analysis of '{document_name}' regarding '{analysis_query}' \"\n",
       "      \"using memory context: [Placeholder Analysis Result]\")\n",
       "  print(\"Tool: Performed analysis.\")\n",
       "\n",
       "  # 4. Save the analysis result as a new artifact\n",
       "  analysis_part = types.Part.from_text(text=analysis_result)\n",
       "  new_artifact_name = f\"analysis_{document_name}\"\n",
       "  version = await tool_context.save_artifact(new_artifact_name, analysis_part)\n",
       "  print(f\"Tool: Saved analysis result as '{new_artifact_name}' version {version}.\")\n",
       "\n",
       "  return {\n",
       "      \"status\": \"success\",\n",
       "      \"analysis_artifact\": new_artifact_name,\n",
       "      \"version\": version}\n",
       "\n",
       "\n",
       "doc_analysis_tool = FunctionTool(func=process_document)\n",
       "\n",
       "# In an Agent:\n",
       "# Assume artifact 'report.txt' was previously saved.\n",
       "# Assume memory service is configured and has relevant past data.\n",
       "# my_agent = Agent(\n",
       "#     ..., tools=[doc_analysis_tool],\n",
       "#     artifact_service=..., memory_service=...)\n",
       "```"
      ],
      "text/plain": [
       "<IPython.core.display.Markdown object>"
      ]
     },
     "metadata": {},
     "output_type": "display_data"
    }
   ],
   "source": [
    "show_source_code('tools_example3.py')"
   ]
  },
  {
   "cell_type": "markdown",
   "id": "56a784a8-ec11-4b1a-8445-3e0b64c705d5",
   "metadata": {},
   "source": [
    "By leveraging the <b><font color='blue'>ToolContext</font></b>, developers can create more sophisticated and context-aware custom tools that seamlessly integrate with ADK's architecture and enhance the overall capabilities of their agents."
   ]
  },
  {
   "cell_type": "markdown",
   "id": "a71127af-2170-4491-ac3e-64f20e05aace",
   "metadata": {},
   "source": [
    "## <b><font color='darkblue'>Defining Effective Tool Functions</font></b>\n",
    "<b><font size='3ptx'><b>When using a method or function as an ADK Tool, how you define it significantly impacts the agent's ability to use it correctly.</font> ([source](https://google.github.io/adk-docs/tools/#defining-effective-tool-functions))</b>\n",
    "\n",
    "The agent's Large Language Model (LLM) relies heavily on the function's <b>name, parameters</b> (arguments), <b>type hints, and docstring / source code comments</b> to understand its purpose and generate the correct call.\n",
    "\n",
    "Here are key guidelines for defining effective tool functions:\n",
    "* <font size='3ptx'>**Function Name:**</font>\n",
    "  - <font color='green'>Use descriptive, verb-noun based names that clearly indicate the action</font> (<font color='brown'>e.g., `get_weather`, `searchDocuments`, `schedule_meeting`</font>).\n",
    "  - <font color='darkred'>Avoid generic names like run, process, handle_data, or overly ambiguous names like `doStuff`</font>. Even with a good description, a name like `do_stuff` might confuse the model about when to use the tool versus, for example, `cancelFlight`.\n",
    "  - The LLM uses the function name as a primary identifier during tool selection.\n",
    "* <font size='3ptx'>**Parameters (Arguments):**</font>\n",
    "  - our function can have any number of parameters.\n",
    "  - <font color='green'>Use clear and descriptive names</font> (<font color='brown'>e.g., `city` instead of `c`, `search_query` instead of `q`</font>).\n",
    "  - <b>Provide type hints in Python for all parameters</b> (<font color='brown'>e.g., `city: str`, `user_id: int`, `items: list[str]`). This is essential for ADK to generate the correct schema for the LLM.\n",
    "  - <b>Ensure all parameter types are JSON serializable</b>. <font color='darkred'>Avoid complex custom class instances as direct parameters unless they have a clear JSON representation</font>.\n",
    "  - <b>Do not set default values for parameters</b>. E.g., `def my_func(param1: str = \"default\")`. <font color='darkred'>Default values are not reliably supported or used by the underlying models during function call generation</font>. All necessary information should be derived by the LLM from the context or explicitly requested if missing.\n",
    "  - **self / cls Handled Automatically**: Implicit parameters like `self` (<font color='brown'>for instance methods</font>) or `cls` (<font color='brown'>for class methods</font>) are automatically handled by ADK and excluded from the schema shown to the LLM. You only need to define type hints and descriptions for the logical parameters your tool requires the LLM to provide.\n",
    "* <font size='3ptx'>**Return Type:**</font>\n",
    "  - **The function's return value must be a dictionary** (`dict`)\n",
    "  - If your function returns a non-dictionary type (<font color='brown'>e.g., a string, number, list</font>), the ADK framework will automatically wrap it into a dictionary/Map like `{'result': your_original_return_value}` before passing the result back to the model.\n",
    "  - <font color='green'>Design the dictionary/Map keys and values to be descriptive and easily understood by the LLM</font>. Remember, the model reads this output to decide its next step.\n",
    "  - <b>Include meaningful keys</b>. For example, instead of returning just an error code like 500, return `{'status': 'error', 'error_message': 'Database connection failed'}`.\n",
    "  - It's a highly recommended practice to <b>include a status key</b> (<font color='brown'>e.g., 'success', 'error', 'pending', 'ambiguous'</font>) to clearly indicate the outcome of the tool execution for the model.\n",
    "* <font size='3ptx'>**Docstring / Source Code Comments:**</font>\n",
    "  - This is critical. <b>The docstring is the primary source of descriptive information for the LLM</b>.\n",
    "  - **Clearly state what the tool does**. Be specific about its purpose and limitations.\n",
    "  - **Explain when the tool should be used**. Provide context or example scenarios to guide the LLM's decision-making.\n",
    "  - **Describe each parameter clearly**. Explain what information the LLM needs to provide for that argument.\n",
    "  - **Describe the structure and meaning of the expected `dict` return value**, especially the different status values and associated data keys.\n",
    "  - **Do not describe the injected `ToolContext` parameter**. Avoid mentioning the optional `tool_context`: <b><font color='blue'>ToolContext</font></b> parameter within the docstring description since it is not a parameter the LLM needs to know about. <b><font color='blue'>ToolContext</font></b> is injected by ADK, after the LLM decides to call it.\n",
    "\n",
    "Example of a good definition:\n",
    "```python\n",
    "def lookup_order_status(order_id: str) -> dict:\n",
    "  \"\"\"Fetches the current status of a customer's order using its ID.\n",
    "\n",
    "  Use this tool ONLY when a user explicitly asks for the status of\n",
    "  a specific order and provides the order ID. Do not use it for\n",
    "  general inquiries.\n",
    "\n",
    "  Args:\n",
    "      order_id: The unique identifier of the order to look up.\n",
    "\n",
    "  Returns:\n",
    "      A dictionary containing the order status.\n",
    "      Possible statuses: 'shipped', 'processing', 'pending', 'error'.\n",
    "      Example success: {'status': 'shipped', 'tracking_number': '1Z9...'}\n",
    "      Example error: {'status': 'error', 'error_message': 'Order ID not found.'}\n",
    "  \"\"\"\n",
    "  # ... function implementation to fetch status ...\n",
    "  if status := fetch_status_from_backend(order_id):\n",
    "       return {\"status\": status.state, \"tracking_number\": status.tracking} # Example structure\n",
    "  else:\n",
    "       return {\"status\": \"error\", \"error_message\": f\"Order ID {order_id} not found.\"}\n",
    "```"
   ]
  },
  {
   "cell_type": "markdown",
   "id": "f3372260-f215-423e-afe4-6d9d7a423dcc",
   "metadata": {},
   "source": [
    "* <font size='3ptx'>**Simplicity and Focus:**</font>\n",
    "  - **Keep Tools Focused**: Each tool should ideally perform one well-defined task.\n",
    "  - **Fewer Parameters are Better**: Models generally handle tools with fewer, clearly defined parameters more reliably than those with many optional or complex ones.\n",
    "  - **Use Simple Data Types**: Prefer basic types (`str`, `int`, `bool`, `float`, `List[str]`) over complex custom classes or deeply nested structures as parameters when possible.\n",
    "  - **Decompose Complex Tasks**: <font color='green'>Break down functions that perform multiple distinct logical steps into smaller, more focused tools</font>. For instance, instead of a single `update_user_profile(profile: ProfileObject)` tool, consider separate tools like `update_user_name(name: str)`, `update_user_address(address: str)`, `update_user_preferences(preferences: list[str])`, etc. This makes it easier for the LLM to select and use the correct capability.\n",
    "\n",
    "By adhering to these guidelines, you provide the LLM with the clarity and structure it needs to effectively utilize your custom function tools, leading to more capable and reliable agent behavior."
   ]
  },
  {
   "cell_type": "markdown",
   "id": "ef1dcd94-2066-45e6-b1f6-f938d323b50f",
   "metadata": {},
   "source": [
    "## <b><font color='darkblue'>Toolsets: Grouping and Dynamically Providing Tools</font></b>\n",
    "Beyond individual tools, ADK introduces the concept of a <b><font color='blue'>Toolset</font></b> via the <b><font color='blue'>BaseToolset</font></b> interface (<font color='brown'>defined in</font> <font color='blue'><b>google.adk.tools.base_toolset</b></font>). **A toolset allows you to manage and provide a collection of <font color='blue'>BaseTool</font> instances, often dynamically, to an agent**.\n",
    "\n",
    "This approach is beneficial for:\n",
    "* **Organizing Related Tools**: Grouping tools that serve a common purpose (<font color='brown'>e.g., all tools for mathematical operations, or all tools interacting with a specific API</font>).\n",
    "* **Dynamic Tool Availability**: Enabling an agent to have different tools available based on the current context (<font color='brown'>e.g., user permissions, session state, or other runtime conditions</font>). The `get_tools` method of a toolset can decide which tools to expose.\n",
    "* **Integrating External Tool Providers**: <b><font color='blue'>Toolset</font></b> can act as adapters for tools coming from external systems, like an OpenAPI specification or an MCP server, converting them into ADK-compatible <b><font color='blue'>BaseTool</font></b> objects."
   ]
  },
  {
   "cell_type": "markdown",
   "id": "836b508e-6cc3-4303-89d7-c053de059945",
   "metadata": {},
   "source": [
    "### <b><font color='darkgreen'>The `BaseToolset` Interface</font></b>\n",
    "<b><font size='3ptx'>Any class acting as a toolset in ADK should implement the `BaseToolset` abstract base class</font></b>. This interface primarily defines two methods:\n",
    "\n",
    "* **`async def get_tools(...) -> list[BaseTool]`**: This is the core method of a toolset. When an ADK agent needs to know its available tools, it will call `get_tools()` on each <b><font color='blue'>BaseToolset</font></b> instance provided in its tools list.\n",
    "  - It receives an optional `readonly_context` (<font color='brown'>an instance of</font> <b><font color='blue'>ReadonlyContext</font></b>). This context provides read-only access to information like the current session state (`readonly_context.state`), agent name, and invocation ID. The toolset can use this context to dynamically decide which tools to return.\n",
    "  - It must return a list of <b><font color='blue'>BaseTool</font></b> instances (<font color='brown'>e.g., <b><font color='blue'>FunctionTool</font></b>, <b><font color='blue'>RestApiTool</font></b></font>).\n",
    "* **`async def close(self) -> None`**: This asynchronous method is called by the ADK framework when the toolset is no longer needed, for example, when an agent server is shutting down or the Runner is being closed. Implement this method to **perform any necessary cleanup, such as closing network connections, releasing file handles, or cleaning up other resources managed by the toolset**."
   ]
  },
  {
   "cell_type": "markdown",
   "id": "665d83ab-0d07-4669-8efc-19f03044ae59",
   "metadata": {},
   "source": [
    "### <b><font color='darkgreen'>Using Toolsets with Agents</font></b>\n",
    "You can include instances of your <b><font color='blue'>BaseToolset</font></b> implementations directly in an `LlmAgent`'s `tools` list, alongside individual <b><font color='blue'>BaseTool</font></b> instances.\n",
    "\n",
    "When the agent initializes or needs to determine its available capabilities, the ADK framework will iterate through the `tools` list:\n",
    "* If an item is a <b><font color='blue'>BaseTool</font></b> instance, it's used directly.\n",
    "* If an item is a <b><font color='blue'>BaseToolset</font></b> instance, its `get_tools()` method is called (<font color='brown'>with the current</font> <font color='blue'><b>ReadonlyContext</b></font>), and the returned list of <b><font color='blue'>BaseTool</font></b> is added to the agent's available tools."
   ]
  },
  {
   "cell_type": "markdown",
   "id": "d3b1db81-913d-4127-a782-7846e6c989a2",
   "metadata": {},
   "source": [
    "### <b><font color='darkgreen'>Example: A Simple Math Toolset</font></b>\n",
    "Let's create a basic example of a toolset that provides simple arithmetic operations.\n",
    "\n",
    "* **`tools_example4.py`**:"
   ]
  },
  {
   "cell_type": "code",
   "execution_count": 13,
   "id": "24ca9f45-31c2-4abe-89d8-e29ba0914068",
   "metadata": {},
   "outputs": [
    {
     "data": {
      "text/markdown": [
       "\n",
       "```python\n",
       "#!/usr/bin/env python\n",
       "import asyncio\n",
       "\n",
       "from typing import Any, Optional\n",
       "from collections.abc import Mapping, Sequence\n",
       "\n",
       "from google.adk.agents import Agent, LlmAgent\n",
       "from google.adk.agents.readonly_context import ReadonlyContext\n",
       "from google.adk.tools import BaseTool, FunctionTool, ToolContext\n",
       "from google.adk.tools.base_toolset import BaseToolset\n",
       "from google.adk.runners import Runner\n",
       "from google.adk.sessions import InMemorySessionService\n",
       "from google.genai import types\n",
       "\n",
       "\n",
       "APP_NAME=\"math_operation_agent\"\n",
       "USER_ID=\"user1234\"\n",
       "SESSION_ID=\"1234\"\n",
       "MODEL_ID=\"gemini-2.0-flash\"\n",
       "\n",
       "\n",
       "# 1. Define the individual tool functions\n",
       "def add_numbers(\n",
       "    a: int, b: int, tool_context: ToolContext) -> Mapping[str, Any]:\n",
       "  \"\"\"Adds two integer numbers.\n",
       "\n",
       "  Args:\n",
       "    a: The first number.\n",
       "    b: The second number.\n",
       "\n",
       "  Returns:\n",
       "    A dictionary with the sum, e.g., {'status': 'success', 'result': 5}\n",
       "  \"\"\"\n",
       "  print(f\"Tool: add_numbers called with a={a}, b={b}\")\n",
       "  result = a + b\n",
       "  # Example: Storing something in tool_context state\n",
       "  tool_context.state[\"last_math_operation\"] = \"addition\"\n",
       "  return {\"status\": \"success\", \"result\": result}\n",
       "\n",
       "\n",
       "def subtract_numbers(\n",
       "    a: int, b: int) -> Mapping[str, Any]:\n",
       "  \"\"\"Subtracts the second number from the first.\n",
       "\n",
       "  Args:\n",
       "    a: The first number.\n",
       "    b: The second number.\n",
       "\n",
       "  Returns:\n",
       "    A dictionary with the difference, e.g., {'status': 'success', 'result': 1}\n",
       "  \"\"\"\n",
       "  print(f\"Tool: subtract_numbers called with a={a}, b={b}\")\n",
       "  return {\"status\": \"success\", \"result\": a - b}\n",
       "\n",
       "\n",
       "# 2. Create the Toolset by implementing BaseToolset\n",
       "class SimpleMathToolset(BaseToolset):\n",
       "  def __init__(self, prefix: str = \"math_\"):\n",
       "    self.prefix = prefix\n",
       "    # Create FunctionTool instances once\n",
       "    self._add_tool = FunctionTool(\n",
       "        func=add_numbers,\n",
       "        # name=f\"{self.prefix}add_numbers\",  # Toolset can customize names\n",
       "    )\n",
       "    self._subtract_tool = FunctionTool(\n",
       "        func=subtract_numbers,\n",
       "        # name=f\"{self.prefix}subtract_numbers\"\n",
       "    )\n",
       "    print(f\"SimpleMathToolset initialized with prefix '{self.prefix}'\")\n",
       "\n",
       "  async def get_tools(\n",
       "      self, readonly_context: Optional[ReadonlyContext] = None\n",
       "  ) -> Sequence[BaseTool]:\n",
       "    print(f\"SimpleMathToolset.get_tools() called.\")\n",
       "    # Example of dynamic behavior:\n",
       "    # Could use readonly_context.state to decide which tools to return\n",
       "    # For instance, if readonly_context.state.get(\"enable_advanced_math\"):\n",
       "    #    return [self._add_tool, self._subtract_tool, self._multiply_tool]\n",
       "\n",
       "    # For this simple example, always return both tools\n",
       "    tools_to_return = [self._add_tool, self._subtract_tool]\n",
       "    print(f\"SimpleMathToolset providing tools: {[t.name for t in tools_to_return]}\")\n",
       "    return tools_to_return\n",
       "\n",
       "  async def close(self) -> None:\n",
       "    # No resources to clean up in this simple example\n",
       "    print(f\"SimpleMathToolset.close() called for prefix '{self.prefix}'.\")\n",
       "    await asyncio.sleep(0)  # Placeholder for async cleanup if needed\n",
       "\n",
       "\n",
       "# 3. Define an individual tool (not part of the toolset)\n",
       "def greet_user(name: str = \"User\") -> Mapping[str, str]:\n",
       "  \"\"\"Greets the user.\"\"\"\n",
       "  print(f\"Tool: greet_user called with name={name}\")\n",
       "  return {\"greeting\": f\"Hello, {name}!\"}\n",
       "\n",
       "\n",
       "greet_tool = FunctionTool(func=greet_user)\n",
       "\n",
       "# 4. Instantiate the toolset\n",
       "math_toolset_instance = SimpleMathToolset(prefix=\"calculator_\")\n",
       "\n",
       "# 5. Define an agent that uses both the individual tool and the toolset\n",
       "calculator_agent = LlmAgent(\n",
       "    name=\"CalculatorAgent\",\n",
       "    model=\"gemini-2.0-flash\",  # Replace with your desired model\n",
       "    instruction=\"You are a helpful calculator and greeter. \"\n",
       "    \"Use 'greet_user' for greetings. \"\n",
       "    \"Use 'calculator_add_numbers' to add and 'calculator_subtract_numbers' to subtract. \"\n",
       "    \"Announce the state of 'last_math_operation' if it's set.\",\n",
       "    tools=[greet_tool, math_toolset_instance],  # Individual tool  # Toolset instance\n",
       ")\n",
       "\n",
       "# Session and Runner\n",
       "async def setup_session_and_runner():\n",
       "  session_service = InMemorySessionService()\n",
       "  session = await session_service.create_session(app_name=APP_NAME, user_id=USER_ID, session_id=SESSION_ID)\n",
       "  runner = Runner(\n",
       "      agent=calculator_agent,\n",
       "      app_name=APP_NAME,\n",
       "      session_service=session_service)\n",
       "  return session, runner\n",
       "\n",
       "\n",
       "# Agent Interaction\n",
       "async def call_agent_async(query):\n",
       "  content = types.Content(role='user', parts=[types.Part(text=query)])\n",
       "  session, runner = await setup_session_and_runner()\n",
       "  events = runner.run_async(\n",
       "      user_id=USER_ID, session_id=SESSION_ID, new_message=content)\n",
       "\n",
       "  async for event in events:\n",
       "    if event.is_final_response():\n",
       "      final_response = event.content.parts[0].text\n",
       "      print(\"Agent Response: \", final_response)\n",
       "\n",
       "\n",
       "if __name__ == '__main__':\n",
       "  # Note: In Colab, you can directly use 'await' at the top level.\n",
       "  # If running this code as a standalone Python script, you'll need to use asyncio.run() or manage the event loop.\n",
       "  # await call_agent_async(\"weather in Taipei?\")\n",
       "  asyncio.run(call_agent_async(\"What is 1 + 2 - 3?\"))\n",
       "```"
      ],
      "text/plain": [
       "<IPython.core.display.Markdown object>"
      ]
     },
     "metadata": {},
     "output_type": "display_data"
    }
   ],
   "source": [
    "show_source_code('tools_example4.py')"
   ]
  },
  {
   "cell_type": "markdown",
   "id": "775dbbf1-9c5a-4003-ada2-416885991bd1",
   "metadata": {},
   "source": [
    "In this example:\n",
    "* **<font color='blue'>SimpleMathToolset</font>** implements **<font color='blue'>BaseToolset</font>** and its `get_tools()` method returns **<font color='blue'>FunctionTool</font>** instances for `add_numbers` and `subtract_numbers`. It also customizes their names using a prefix.\n",
    "* The `calculator_agent` is configured with both an individual `greet_tool` and an instance of **<font color='blue'>SimpleMathToolset</font>**.\n",
    "* When `calculator_agent` is run, ADK will `call math_toolset_instance.get_tools()`. The agent's LLM will then have access to `greet_user`, `calculator_add_numbers`, and `calculator_subtract_numbers` to handle user requests.\n",
    "* The `add_numbers` tool demonstrates writing to `tool_context.state`, and the agent's instruction mentions reading this state.\n",
    "* The `close()` method is called to ensure any resources held by the toolset are released.\n",
    "\n",
    "<b>Toolsets offer a powerful way to organize, manage, and dynamically provide collections of tools to your ADK agents</b>, leading to more modular, maintainable, and adaptable agentic applications."
   ]
  },
  {
   "cell_type": "code",
   "execution_count": 14,
   "id": "2cda9695-c5fa-4c5c-b624-d730f417fe80",
   "metadata": {},
   "outputs": [
    {
     "name": "stderr",
     "output_type": "stream",
     "text": [
      "Default value is not supported in function declaration schema for Google AI.\n"
     ]
    },
    {
     "name": "stdout",
     "output_type": "stream",
     "text": [
      "SimpleMathToolset initialized with prefix 'calculator_'\n",
      "SimpleMathToolset.get_tools() called.\n",
      "SimpleMathToolset providing tools: ['add_numbers', 'subtract_numbers']\n"
     ]
    },
    {
     "name": "stderr",
     "output_type": "stream",
     "text": [
      "Warning: there are non-text parts in the response: ['function_call'], returning concatenated text result from text parts. Check the full candidates.content.parts accessor to get the full model response.\n",
      "Default value is not supported in function declaration schema for Google AI.\n"
     ]
    },
    {
     "name": "stdout",
     "output_type": "stream",
     "text": [
      "Tool: add_numbers called with a=1, b=2\n",
      "SimpleMathToolset.get_tools() called.\n",
      "SimpleMathToolset providing tools: ['add_numbers', 'subtract_numbers']\n"
     ]
    },
    {
     "name": "stderr",
     "output_type": "stream",
     "text": [
      "Warning: there are non-text parts in the response: ['function_call'], returning concatenated text result from text parts. Check the full candidates.content.parts accessor to get the full model response.\n",
      "Default value is not supported in function declaration schema for Google AI.\n"
     ]
    },
    {
     "name": "stdout",
     "output_type": "stream",
     "text": [
      "Tool: subtract_numbers called with a=3, b=3\n",
      "SimpleMathToolset.get_tools() called.\n",
      "SimpleMathToolset providing tools: ['add_numbers', 'subtract_numbers']\n",
      "Agent Response:  '1 + 2 - 3' is 0.\n",
      "\n"
     ]
    }
   ],
   "source": [
    "import tools_example4\n",
    "\n",
    "await tools_example4.call_agent_async(\"What is '1 + 2 - 3'?\")"
   ]
  }
 ],
 "metadata": {
  "kernelspec": {
   "display_name": "Python 3 (ipykernel)",
   "language": "python",
   "name": "python3"
  },
  "language_info": {
   "codemirror_mode": {
    "name": "ipython",
    "version": 3
   },
   "file_extension": ".py",
   "mimetype": "text/x-python",
   "name": "python",
   "nbconvert_exporter": "python",
   "pygments_lexer": "ipython3",
   "version": "3.12.9"
  }
 },
 "nbformat": 4,
 "nbformat_minor": 5
}
