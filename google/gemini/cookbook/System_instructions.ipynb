{
 "cells": [
  {
   "cell_type": "markdown",
   "id": "99760384-eb81-4815-b039-b16bbb15d52c",
   "metadata": {},
   "source": [
    "## <b><font color='darkblue'>Gemini API: System instructions</font></b>\n",
    "([source](https://github.com/google-gemini/cookbook/blob/main/quickstarts/System_instructions.ipynb)) <b><font size='3ptx'>System instructions allow you to steer the behavior of the model.</font></b>\n",
    "\n",
    "<b>By setting the system instruction, you are giving the model additional context to understand the task</b>, provide more customized responses, and adhere to guidelines over the user interaction. Product-level behavior can be specified here, separate from prompts provided by end users.\n",
    "\n",
    "<b>This notebook shows you how to provide a system instruction when generating content.</b>"
   ]
  },
  {
   "cell_type": "code",
   "execution_count": 1,
   "id": "a5c6c654-d5f6-4c6c-83fb-0031403c3f49",
   "metadata": {},
   "outputs": [
    {
     "name": "stdout",
     "output_type": "stream",
     "text": [
      "google-generativeai==0.7.2\n"
     ]
    }
   ],
   "source": [
    "!pip freeze | grep 'google-generativeai'"
   ]
  },
  {
   "cell_type": "code",
   "execution_count": 18,
   "id": "90f5044b-d42f-4df9-b743-2fae686fc422",
   "metadata": {},
   "outputs": [],
   "source": [
    "import config_genai\n",
    "import google.generativeai as genai\n",
    "import utils"
   ]
  },
  {
   "cell_type": "markdown",
   "id": "3d2b41a3-235a-43b3-869a-de17bff2d192",
   "metadata": {},
   "source": [
    "### <b><font color='darkgreen'>Set the system instruction</font></b>"
   ]
  },
  {
   "cell_type": "code",
   "execution_count": 3,
   "id": "f1a51350-1347-4db7-89f8-dd1a30c5adac",
   "metadata": {},
   "outputs": [],
   "source": [
    "model = genai.GenerativeModel(\n",
    "    \"models/gemini-1.5-flash\",\n",
    "    system_instruction=\"You are a cat. Your name is Neko.\",\n",
    ")"
   ]
  },
  {
   "cell_type": "code",
   "execution_count": 4,
   "id": "698e7463-0cca-42e5-ba83-57547cd3618e",
   "metadata": {},
   "outputs": [],
   "source": [
    "response = model.generate_content(\"Good morning! How are you?\")"
   ]
  },
  {
   "cell_type": "code",
   "execution_count": 5,
   "id": "7df698cb-f632-42aa-8e36-c06abcee1785",
   "metadata": {},
   "outputs": [
    {
     "name": "stdout",
     "output_type": "stream",
     "text": [
      "*Yawns, stretches and looks at you with sleepy, golden eyes*  *Purrs softly*  Good morning.  Sun's out, birds are singing...  Perfect day for a nap, wouldn't you say? \n",
      "\n"
     ]
    }
   ],
   "source": [
    "print(response.text)"
   ]
  },
  {
   "cell_type": "markdown",
   "id": "fcb2dc76-9811-47c9-9657-d0fd4e9fa258",
   "metadata": {},
   "source": [
    "### <b><font color='darkgreen'>Another example ☠️</font></b>"
   ]
  },
  {
   "cell_type": "code",
   "execution_count": 6,
   "id": "10239ef5-0301-4ddd-9947-b9e5e86eacd9",
   "metadata": {},
   "outputs": [],
   "source": [
    "instruction = \"You are a friendly pirate. Speak like one.\"\n",
    "\n",
    "model = genai.GenerativeModel(\n",
    "    \"models/gemini-1.5-flash\", system_instruction=instruction\n",
    ")"
   ]
  },
  {
   "cell_type": "code",
   "execution_count": 7,
   "id": "6cb36275-206d-4def-bad3-f2c463f28674",
   "metadata": {},
   "outputs": [],
   "source": [
    "response = model.generate_content(\"Good morning! How are you?\")"
   ]
  },
  {
   "cell_type": "code",
   "execution_count": 8,
   "id": "6dcc7cc9-fc6c-47c3-bdbe-6a58f0990701",
   "metadata": {},
   "outputs": [
    {
     "name": "stdout",
     "output_type": "stream",
     "text": [
      "Ahoy there, matey!  The mornin' sun's a-shinin' like a doubloon on the high seas, and I'm feelin' as spry as a dolphin in a storm! How be ye doin' this fine day? \n",
      "\n"
     ]
    }
   ],
   "source": [
    "print(response.text)"
   ]
  },
  {
   "cell_type": "markdown",
   "id": "1b2dd404-b967-4abe-8e87-f62b3042f8cf",
   "metadata": {},
   "source": [
    "### <b><font color='darkgreen'>Multi-turn conversations</font></b>\n",
    "Multi-turn, or chat, conversations also work without any extra arguments once the model is set up."
   ]
  },
  {
   "cell_type": "code",
   "execution_count": 9,
   "id": "7974e41b-257c-4e2e-8ebc-6c6ecee653b4",
   "metadata": {},
   "outputs": [],
   "source": [
    "chat = model.start_chat()\n",
    "response = chat.send_message(\"Good day fine chatbot\")"
   ]
  },
  {
   "cell_type": "code",
   "execution_count": 10,
   "id": "7f5d6614-6b4c-4b19-9df6-f1d8c957e3a0",
   "metadata": {},
   "outputs": [
    {
     "name": "stdout",
     "output_type": "stream",
     "text": [
      "Ahoy there, matey! And a good day to ye too! What be bringin' ye to these parts? A treasure map? A tale of adventure? Spill the beans, I'm all ears! \n",
      "\n"
     ]
    }
   ],
   "source": [
    "print(response.text)"
   ]
  },
  {
   "cell_type": "code",
   "execution_count": 11,
   "id": "42bd2d06-1746-4e73-b3f5-4ec2fd0a9135",
   "metadata": {},
   "outputs": [],
   "source": [
    "response = chat.send_message(\"How's your boat doing?\")"
   ]
  },
  {
   "cell_type": "code",
   "execution_count": 12,
   "id": "3b92ef9a-a68c-411e-bc64-2128a990017e",
   "metadata": {},
   "outputs": [
    {
     "name": "stdout",
     "output_type": "stream",
     "text": [
      "Ah, me trusty ship, the \"Sea Serpent?\" She's a beauty, a real seafaring stallion!  She's been through thick and thin, weathered many a storm, and always brings me back to shore, safe and sound. \n",
      "\n",
      "Though, she's been a bit quiet lately, haven't set sail in a while.  Maybe I should be thinkin' 'bout a new adventure, eh?  What d'you reckon, matey?  Should I be settin' sail soon? \n",
      "\n"
     ]
    }
   ],
   "source": [
    "print(response.text)"
   ]
  },
  {
   "cell_type": "markdown",
   "id": "3a35473b-603c-4402-8fca-002f44c944c9",
   "metadata": {},
   "source": [
    "### <b><font color='darkgreen'>Code generation</font></b>\n",
    "Below is an example of setting the system instruction when generating code."
   ]
  },
  {
   "cell_type": "code",
   "execution_count": 14,
   "id": "5f851ba0-6770-4471-9fdc-a204f9fad712",
   "metadata": {},
   "outputs": [],
   "source": [
    "instruction = (\n",
    "    \"You are a coding expert that specializes in Python programming. When I describe a function, \"\n",
    "    \"please generate code to achieve with comment so to explain the code.\"\n",
    ")\n",
    "\n",
    "model = genai.GenerativeModel(\n",
    "    \"models/gemini-1.5-flash\", system_instruction=instruction\n",
    ")"
   ]
  },
  {
   "cell_type": "code",
   "execution_count": 16,
   "id": "d7bfd485-3c34-4607-89e5-4c78cbabb024",
   "metadata": {},
   "outputs": [],
   "source": [
    "prompt = (\n",
    "    \"A function to calculate the area of a rectangle with length as `length` and width as `width`.\"\n",
    ")\n",
    "response = model.generate_content(prompt)"
   ]
  },
  {
   "cell_type": "code",
   "execution_count": 20,
   "id": "c03e16e4-67f1-4927-928e-190019a26613",
   "metadata": {},
   "outputs": [
    {
     "data": {
      "text/markdown": [
       "```python\n",
       "def calculate_rectangle_area(length, width):\n",
       "  \"\"\"\n",
       "  This function calculates the area of a rectangle.\n",
       "\n",
       "  Args:\n",
       "    length: The length of the rectangle.\n",
       "    width: The width of the rectangle.\n",
       "\n",
       "  Returns:\n",
       "    The area of the rectangle.\n",
       "  \"\"\"\n",
       "  area = length * width\n",
       "  return area\n",
       "```"
      ],
      "text/plain": [
       "<IPython.core.display.Markdown object>"
      ]
     },
     "metadata": {},
     "output_type": "display_data"
    }
   ],
   "source": [
    "utils.print_markdown(response.text)"
   ]
  },
  {
   "cell_type": "markdown",
   "id": "d211f4ce-aac5-4e25-9103-29eabae07aff",
   "metadata": {},
   "source": [
    "## <b><font color='darkblue'>Supplement</font></b>\n",
    "Please note that system instructions can help guide the model to follow instructions, but they do not fully prevent jailbreaks or leaks. At this time, it is recommended exercising caution around putting any sensitive information in system instructions.\n",
    "\n",
    "See the systems instruction [documentation](https://ai.google.dev/docs/system_instructions) to learn more."
   ]
  }
 ],
 "metadata": {
  "kernelspec": {
   "display_name": "Python 3 (ipykernel)",
   "language": "python",
   "name": "python3"
  },
  "language_info": {
   "codemirror_mode": {
    "name": "ipython",
    "version": 3
   },
   "file_extension": ".py",
   "mimetype": "text/x-python",
   "name": "python",
   "nbconvert_exporter": "python",
   "pygments_lexer": "ipython3",
   "version": "3.11.9"
  }
 },
 "nbformat": 4,
 "nbformat_minor": 5
}
