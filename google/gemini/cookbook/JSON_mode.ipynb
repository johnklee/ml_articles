{
 "cells": [
  {
   "cell_type": "markdown",
   "id": "53ba18ba-54c8-419f-856e-fa0ecb95ffc4",
   "metadata": {},
   "source": [
    "## <b><font color='darkblue'>Gemini API: JSON Mode Quickstart</font></b>\n",
    "([source](https://github.com/google-gemini/cookbook/blob/main/quickstarts/JSON_mode.ipynb)) <b><font size='3ptx'>The Gemini API can be used to generate a JSON output if you set the schema that you would like to use.</font></b>\n",
    "\n",
    "<b><font color='orange'>Note:</font></b> JSON schemas are only supported by Gemini 1.5 Pro right now."
   ]
  },
  {
   "cell_type": "code",
   "execution_count": 1,
   "id": "8b5f6993-65a7-4343-b177-3f42e87e3f86",
   "metadata": {},
   "outputs": [
    {
     "name": "stdout",
     "output_type": "stream",
     "text": [
      "google-generativeai==0.7.2\n"
     ]
    }
   ],
   "source": [
    "!pip freeze | grep 'google-generativeai'"
   ]
  },
  {
   "cell_type": "code",
   "execution_count": 2,
   "id": "68f48db5-c8f9-4c12-b97d-c88162ea5bee",
   "metadata": {},
   "outputs": [],
   "source": [
    "import config_genai\n",
    "import utils\n",
    "import google.generativeai as genai\n",
    "\n",
    "import json\n",
    "import dataclasses\n",
    "import typing_extensions as typing"
   ]
  },
  {
   "cell_type": "markdown",
   "id": "29084b36-0624-4916-851a-ea5c484d825b",
   "metadata": {},
   "source": [
    "### <b><font color='darkgreen'>Activate JSON Mode</font></b>\n",
    "Activate JSON mode by specifying `respose_mime_type` in the `generation_config` parameter:"
   ]
  },
  {
   "cell_type": "code",
   "execution_count": 4,
   "id": "d8c77f7b-7774-4704-bccb-38bccc1db5f8",
   "metadata": {},
   "outputs": [],
   "source": [
    "model = config_genai.get_model(\n",
    "    \"gemini-1.5-flash-latest\",\n",
    "    generation_config={\"response_mime_type\": \"application/json\"})"
   ]
  },
  {
   "cell_type": "markdown",
   "id": "f7ef3b69-b5c2-4455-a043-64e2e8370460",
   "metadata": {},
   "source": [
    "For this first example just describe the schema you want back:"
   ]
  },
  {
   "cell_type": "code",
   "execution_count": 5,
   "id": "1d4471d4-cdb1-4b52-9c2a-8e4621bbf58d",
   "metadata": {},
   "outputs": [],
   "source": [
    "prompt = \"\"\"List a few popular cookie recipes using this JSON schema:\n",
    "\n",
    "Recipe = {'recipe_name': str}\n",
    "Return: list[Recipe]\"\"\""
   ]
  },
  {
   "cell_type": "code",
   "execution_count": 6,
   "id": "0dfd7f8a-b55d-412e-9fee-76bf58328645",
   "metadata": {},
   "outputs": [],
   "source": [
    "raw_response = model.generate_content(prompt)"
   ]
  },
  {
   "cell_type": "markdown",
   "id": "15d8ac2e-9e75-40fe-ac24-876997bfeb8f",
   "metadata": {},
   "source": [
    "Parse the string to JSON:"
   ]
  },
  {
   "cell_type": "code",
   "execution_count": 7,
   "id": "17897a82-2386-454e-9ca4-45c2deb00ad2",
   "metadata": {},
   "outputs": [
    {
     "name": "stdout",
     "output_type": "stream",
     "text": [
      "[{'recipe_name': 'Chocolate Chip Cookies'}, {'recipe_name': 'Oatmeal Raisin Cookies'}, {'recipe_name': 'Snickerdoodles'}, {'recipe_name': 'Sugar Cookies'}, {'recipe_name': 'Peanut Butter Cookies'}]\n"
     ]
    }
   ],
   "source": [
    "response = json.loads(raw_response.text)\n",
    "print(response)"
   ]
  },
  {
   "cell_type": "code",
   "execution_count": 8,
   "id": "efd713d2-0c53-41ae-bd39-fdce98229534",
   "metadata": {},
   "outputs": [
    {
     "name": "stdout",
     "output_type": "stream",
     "text": [
      "[\n",
      "    {\n",
      "        \"recipe_name\": \"Chocolate Chip Cookies\"\n",
      "    },\n",
      "    {\n",
      "        \"recipe_name\": \"Oatmeal Raisin Cookies\"\n",
      "    },\n",
      "    {\n",
      "        \"recipe_name\": \"Snickerdoodles\"\n",
      "    },\n",
      "    {\n",
      "        \"recipe_name\": \"Sugar Cookies\"\n",
      "    },\n",
      "    {\n",
      "        \"recipe_name\": \"Peanut Butter Cookies\"\n",
      "    }\n",
      "]\n"
     ]
    }
   ],
   "source": [
    "print(json.dumps(response, indent=4))"
   ]
  },
  {
   "cell_type": "markdown",
   "id": "293b2d84-7d16-427d-be0e-7443e3e0f0ef",
   "metadata": {},
   "source": [
    "### <b><font color='darkgreen'>Generate JSON from schema</font></b>\n",
    "While `gemini-1.5-flash` models only accept a text description of the JSON you want back, `gemini-1.5-pro` models support \"controlled generation\" (<font color='brown'>aka \"constrained decoding\"</font>). This allows you to pass a schema object (<font color='brown'>or a python type equivalent</font>) and the output will strictly follow that schema.\n",
    "\n",
    "Following the same example as the previous section, here's that recipe type:"
   ]
  },
  {
   "cell_type": "code",
   "execution_count": 9,
   "id": "d7e56b26-f420-4580-886d-741732d33600",
   "metadata": {},
   "outputs": [],
   "source": [
    "class Recipe(typing.TypedDict):\n",
    "    recipe_name: str"
   ]
  },
  {
   "cell_type": "markdown",
   "id": "99d473e5-725a-4cc3-939c-6a67a89345a6",
   "metadata": {},
   "source": [
    "For this example you want a list of `Recipe` objects, so pass `list[Recipe]` to the `response_schema` field of the `generation_config`."
   ]
  },
  {
   "cell_type": "code",
   "execution_count": 10,
   "id": "71857bdc-0ae8-41ea-82ef-bc6439a333ae",
   "metadata": {},
   "outputs": [],
   "source": [
    "model = config_genai.get_model(\"gemini-1.5-flash-latest\")"
   ]
  },
  {
   "cell_type": "code",
   "execution_count": 11,
   "id": "f7f6d4f9-c0aa-40f8-8852-dbcf3f09100f",
   "metadata": {},
   "outputs": [],
   "source": [
    "result = model.generate_content(\n",
    "    \"List a few popular cookie recipes\",\n",
    "    generation_config=genai.GenerationConfig(\n",
    "        response_mime_type=\"application/json\",\n",
    "        response_schema = list[Recipe]),\n",
    "    request_options={\"timeout\": 600},\n",
    ")"
   ]
  },
  {
   "cell_type": "code",
   "execution_count": 12,
   "id": "52c0416c-38f4-4b12-9035-ba2be13fb083",
   "metadata": {},
   "outputs": [
    {
     "name": "stdout",
     "output_type": "stream",
     "text": [
      "[{\"recipe_name\": \"Chocolate Chip Cookies\"}, {\"recipe_name\": \"Oatmeal Raisin Cookies\"}, {\"recipe_name\": \"Sugar Cookies\"}, {\"recipe_name\": \"Snickerdoodles\"}, {\"recipe_name\": \"Peanut Butter Cookies\"}]\n",
      "\n"
     ]
    }
   ],
   "source": [
    "print(result.text)"
   ]
  }
 ],
 "metadata": {
  "kernelspec": {
   "display_name": "Python 3 (ipykernel)",
   "language": "python",
   "name": "python3"
  },
  "language_info": {
   "codemirror_mode": {
    "name": "ipython",
    "version": 3
   },
   "file_extension": ".py",
   "mimetype": "text/x-python",
   "name": "python",
   "nbconvert_exporter": "python",
   "pygments_lexer": "ipython3",
   "version": "3.11.9"
  }
 },
 "nbformat": 4,
 "nbformat_minor": 5
}
