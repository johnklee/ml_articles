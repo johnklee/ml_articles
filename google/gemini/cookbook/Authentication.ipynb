{
 "cells": [
  {
   "cell_type": "markdown",
   "id": "b12bf2d7-51e9-46d0-a9db-1ad0b777ab8a",
   "metadata": {},
   "source": [
    "## <b><font color='darkblue'>Gemini API: Authentication Quickstart</font></b>\n",
    "([source](https://github.com/google-gemini/cookbook/blob/main/quickstarts/Authentication.ipynb)) <b><font size='3ptx'>The Gemini API uses API keys for authentication. This notebook walks you through creating an API key, and using it with the Python SDK or a command line tool like curl.</font></b>"
   ]
  },
  {
   "cell_type": "markdown",
   "id": "0afe1e13-95b1-4b10-bc79-c5cfdbfcf086",
   "metadata": {},
   "source": [
    "### <b><font color='darkgreen'>Create an API key</font></b>\n",
    "<b><font size='3ptx'>You can [create](https://aistudio.google.com/app/apikey) your API key using Google AI Studio with a single click.</font></b>\n",
    "\n",
    "<font color='darkred'><b>Remember to treat your API key like a password. Do not accidentally save it in a notebook or source file you later commit to GitHub<b></font>. This notebook shows you two ways you can securely store your API key.\n",
    "* If you are using Google Colab, it is recommended to store your key in Colab Secrets.\n",
    "* If you are using a different development environment (or calling the Gemini API through cURL in your terminal), it is recommended to store your key in an environment variable."
   ]
  },
  {
   "cell_type": "markdown",
   "id": "33162b1c-646d-4133-a1c4-50b39b0c8dff",
   "metadata": {},
   "source": [
    "### <b><font color='darkgreen'>Install the Python SDK</font></b>"
   ]
  },
  {
   "cell_type": "code",
   "execution_count": 1,
   "id": "a9a65fa8-9649-4f1d-a234-58d41efb3327",
   "metadata": {},
   "outputs": [],
   "source": [
    "# !pip install -U -q google-generativeai"
   ]
  },
  {
   "cell_type": "code",
   "execution_count": 2,
   "id": "0b36534d-9cca-43d1-b4cc-1438d69806f2",
   "metadata": {},
   "outputs": [
    {
     "name": "stdout",
     "output_type": "stream",
     "text": [
      "google-generativeai==0.5.4\n"
     ]
    }
   ],
   "source": [
    "!pip freeze | grep 'google-generativeai'"
   ]
  },
  {
   "cell_type": "markdown",
   "id": "7c627ac5-2589-4615-937b-3608feaf0797",
   "metadata": {},
   "source": [
    "### <b><font color='darkgreen'>Configure the SDK with your API key</font></b>\n",
    "You'll call `genai.configure` with your API key, but instead of pasting your key into the notebook, you'll read it from configuration file `.env`:"
   ]
  },
  {
   "cell_type": "code",
   "execution_count": 7,
   "id": "fe0cfab2-18f0-428f-bd4e-b50889471377",
   "metadata": {},
   "outputs": [],
   "source": [
    "import google.generativeai as genai\n",
    "import os\n",
    "from dotenv import load_dotenv, find_dotenv\n",
    "\n",
    "_ = load_dotenv(find_dotenv(os.path.expanduser('~/.env'))) # read local .env file\n",
    "genai.configure(api_key=os.environ['GOOGLE_API_KEY'])"
   ]
  },
  {
   "cell_type": "markdown",
   "id": "53e37843-ea3d-4a5d-b921-1fcabdde3afd",
   "metadata": {},
   "source": [
    "And that's it! Now you're ready to call the Gemini API."
   ]
  },
  {
   "cell_type": "code",
   "execution_count": 8,
   "id": "bb860d72-a7e9-4e30-9337-693eb360229a",
   "metadata": {},
   "outputs": [
    {
     "name": "stdout",
     "output_type": "stream",
     "text": [
      "```python\n",
      "# Method 1: Using the built-in sort() method\n",
      "my_list = [5, 2, 8, 1, 9]\n",
      "my_list.sort()  # Sorts the list in ascending order in place\n",
      "print(my_list)  # Output: [1, 2, 5, 8, 9]\n",
      "\n",
      "# Method 2: Using the sorted() function\n",
      "my_list = [5, 2, 8, 1, 9]\n",
      "sorted_list = sorted(my_list)  # Returns a new sorted list without modifying the original\n",
      "print(sorted_list)  # Output: [1, 2, 5, 8, 9]\n",
      "print(my_list)  # Output: [5, 2, 8, 1, 9]\n",
      "\n",
      "# Method 3: Sorting in descending order\n",
      "my_list = [5, 2, 8, 1, 9]\n",
      "my_list.sort(reverse=True)  # Sorts the list in descending order in place\n",
      "print(my_list)  # Output: [9, 8, 5, 2, 1]\n",
      "```\n",
      "\n",
      "**Explanation:**\n",
      "\n",
      "* **Method 1:**\n",
      "    * `my_list.sort()` directly modifies the original list to sort it in ascending order.\n",
      "* **Method 2:**\n",
      "    * `sorted(my_list)` returns a new sorted list without changing the original list.\n",
      "* **Method 3:**\n",
      "    * `sort(reverse=True)` sorts the list in descending order in place.\n",
      "\n",
      "You can choose the method that best suits your needs based on whether you need to modify the original list or create a new sorted list.\n",
      "\n"
     ]
    }
   ],
   "source": [
    "model = genai.GenerativeModel('models/gemini-1.5-flash')\n",
    "response = model.generate_content(\"Please give me python code to sort a list.\")\n",
    "print(response.text)"
   ]
  },
  {
   "cell_type": "markdown",
   "id": "ec7a3dff-060e-497a-ab6d-79cd46f24739",
   "metadata": {},
   "source": [
    "### <b><font color='darkgreen'>Store your key in an environment variable</font></b>\n",
    "<b><font size='3ptx'>If you are using a different development environment (<font color='brown'>or calling the Gemini API through cURL in your terminal</font>), it is recommended to store your key in an environment variable.</font></b>\n",
    "\n",
    "To store your key in an environment variable, open your terminal and run:\n",
    "```shell\n",
    "$ export GOOGLE_API_KEY=\"YOUR_API_KEY\"\n",
    "```\n",
    "\n",
    "If you are using Python, add these two lines to your notebook to read the key:\n",
    "```python\n",
    "import os\n",
    "genai.configure(api_key=os.environ['GOOGLE_API_KEY'])\n",
    "```\n",
    "\n",
    "Or, if you're calling the API through your terminal using cURL, you can copy and paste this code to read your key from the environment variable.\n",
    "```shell\n",
    "$ curl \"https://generativelanguage.googleapis.com/v1beta/models/gemini-pro:generateContent?key=$API_KEY\" \\\n",
    "    -H 'Content-Type: application/json' \\\n",
    "    -X POST \\\n",
    "    -d '{\n",
    "      \"contents\": [{\n",
    "        \"parts\":[{\n",
    "          \"text\": \"Please give me Python code to sort a list.\"}]}]}'\n",
    "```"
   ]
  },
  {
   "cell_type": "markdown",
   "id": "e2b7dfab-4bc8-436c-8aaf-bd41111b3870",
   "metadata": {},
   "source": [
    "## <b><font color='darkblue'>Supplement</font></b>\n",
    "* [Gemini Cookbook - Welcome to the Gemini API Cookbook](https://github.com/google-gemini/cookbook/blob/main/README.md)"
   ]
  }
 ],
 "metadata": {
  "kernelspec": {
   "display_name": "Python 3 (ipykernel)",
   "language": "python",
   "name": "python3"
  },
  "language_info": {
   "codemirror_mode": {
    "name": "ipython",
    "version": 3
   },
   "file_extension": ".py",
   "mimetype": "text/x-python",
   "name": "python",
   "nbconvert_exporter": "python",
   "pygments_lexer": "ipython3",
   "version": "3.11.9"
  }
 },
 "nbformat": 4,
 "nbformat_minor": 5
}
