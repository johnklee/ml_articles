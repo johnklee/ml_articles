{
 "cells": [
  {
   "cell_type": "markdown",
   "id": "9ba0ba59-abc0-4d3a-b5ab-969326842b15",
   "metadata": {},
   "source": [
    "## <b><font color='darkblue'>Gemini API: Embeddings Quickstart</font></b>\n",
    "([source](https://github.com/google-gemini/cookbook/blob/main/quickstarts/Embeddings.ipynb)) <b><font size='3ptx'>The Gemini API generates state-of-the-art text embeddings.</font></b>\n",
    "\n",
    "<b>An embedding is a list of floating point numbers that represent the meaning of a word, sentence, or paragraph.</b> You can use embeddings in many downstream applications like document search.\n",
    "\n",
    "<b>This notebook provides quick code examples that show you how to get started generating embeddings.</b>"
   ]
  },
  {
   "cell_type": "code",
   "execution_count": 1,
   "id": "9bdf4675-a289-492d-8d2a-4feff4529102",
   "metadata": {},
   "outputs": [
    {
     "name": "stdout",
     "output_type": "stream",
     "text": [
      "google-generativeai==0.7.2\n"
     ]
    }
   ],
   "source": [
    "!pip freeze | grep 'google-generativeai'"
   ]
  },
  {
   "cell_type": "code",
   "execution_count": 2,
   "id": "d46ec5f2-7f7f-4cff-a83d-3f579ee86797",
   "metadata": {},
   "outputs": [],
   "source": [
    "import config_genai\n",
    "import google.generativeai as genai"
   ]
  },
  {
   "cell_type": "markdown",
   "id": "b7cebd80-9c1d-4068-bf8b-a6592b585648",
   "metadata": {},
   "source": [
    "### <b><font color='darkgreen'>Embed content</font></b>\n",
    "Call the `embed_content` method with the `models/text-embedding-004` model to generate text embeddings."
   ]
  },
  {
   "cell_type": "code",
   "execution_count": 3,
   "id": "d738512d-d3c4-4442-8113-57af5cc6793d",
   "metadata": {},
   "outputs": [],
   "source": [
    "text = \"Hello world\"\n",
    "result = genai.embed_content(model=\"models/text-embedding-004\", content=text)"
   ]
  },
  {
   "cell_type": "code",
   "execution_count": 4,
   "id": "488e186c-d7a9-4d3f-b465-63842257719d",
   "metadata": {},
   "outputs": [
    {
     "name": "stdout",
     "output_type": "stream",
     "text": [
      "[0.013168523, -0.008711934, -0.046782676, 0.000699 ... TRIMMED]\n"
     ]
    }
   ],
   "source": [
    "# Print just a part of the embedding to keep the output manageable\n",
    "print(str(result['embedding'])[:50], '... TRIMMED]')"
   ]
  },
  {
   "cell_type": "code",
   "execution_count": 5,
   "id": "cbc0e8ec-8ae6-400f-bf18-109c7a639642",
   "metadata": {},
   "outputs": [
    {
     "name": "stdout",
     "output_type": "stream",
     "text": [
      "768\n"
     ]
    }
   ],
   "source": [
    "print(len(result['embedding'])) # The embeddings have 768 dimensions"
   ]
  },
  {
   "cell_type": "markdown",
   "id": "0f69fde0-c7df-491d-9a31-8edcf68e10a0",
   "metadata": {},
   "source": [
    "### <b><font color='darkgreen'>Batch embed content</font></b>\n",
    "You can embed a list of multiple prompts with one API call for efficiency."
   ]
  },
  {
   "cell_type": "code",
   "execution_count": 6,
   "id": "5056062e-f516-4963-a97d-55e90ae8e731",
   "metadata": {},
   "outputs": [],
   "source": [
    "result = genai.embed_content(\n",
    "    model=\"models/text-embedding-004\",\n",
    "    content=[\n",
    "      'What is the meaning of life?',\n",
    "      'How much wood would a woodchuck chuck?',\n",
    "      'How does the brain work?'])"
   ]
  },
  {
   "cell_type": "code",
   "execution_count": 7,
   "id": "707855c7-5a93-42a9-a070-be733eaa841f",
   "metadata": {},
   "outputs": [
    {
     "name": "stdout",
     "output_type": "stream",
     "text": [
      "[-0.010632277, 0.019375855, 0.0209652, 0.000770642 ... TRIMMED]\n",
      "[0.018467998, 0.0054281196, -0.017658804, 0.013859 ... TRIMMED]\n",
      "[0.05808907, 0.020941721, -0.108728774, -0.0403925 ... TRIMMED]\n"
     ]
    }
   ],
   "source": [
    "for embedding in result['embedding']:\n",
    "  print(str(embedding)[:50], '... TRIMMED]')"
   ]
  },
  {
   "cell_type": "markdown",
   "id": "0ae9e697-3826-4122-9400-222324f24ce5",
   "metadata": {},
   "source": [
    "### <b><font color='darkgreen'>Truncating embeddings</font></b>\n",
    "The `text-embedding-004` model also supports lower embedding dimensions. Specify `output_dimensionality` to truncate the output."
   ]
  },
  {
   "cell_type": "code",
   "execution_count": 8,
   "id": "19e7e39d-8257-470c-9d52-a6ae6bf85395",
   "metadata": {},
   "outputs": [],
   "source": [
    "# Not truncated\n",
    "result1 = genai.embed_content(\n",
    "    model=\"models/text-embedding-004\",\n",
    "    content=\"Hello world\")\n",
    "\n",
    "\n",
    "# Truncated\n",
    "result2 = genai.embed_content(\n",
    "    model=\"models/text-embedding-004\",\n",
    "    content=\"Hello world\",\n",
    "    output_dimensionality=10)"
   ]
  },
  {
   "cell_type": "code",
   "execution_count": 9,
   "id": "a1b0f846-35b6-4f69-8f35-e14a43fd9c63",
   "metadata": {},
   "outputs": [
    {
     "data": {
      "text/plain": [
       "(768, 10)"
      ]
     },
     "execution_count": 9,
     "metadata": {},
     "output_type": "execute_result"
    }
   ],
   "source": [
    "(len(result1['embedding']), len(result2['embedding']))"
   ]
  },
  {
   "cell_type": "markdown",
   "id": "72c268e4-de4e-4c03-9665-355335d1acb4",
   "metadata": {},
   "source": [
    "### <b><font color='darkgreen'>Specify `task_type`</font></b>\n",
    "Let's look at all the parameters the `embed_content` method takes. There are five:\n",
    "* **model**: Required. Must be `models/text-embedding-004` or `models/embedding-001`.\n",
    "* **content**: Required. The content that you would like to embed.\n",
    "* **task_type**: Optional. The task type for which the embeddings will be used.\n",
    "* **title**: Optional. You should only set this parameter if your task type is `retrieval_document` (or document).\n",
    "* **output_dimensionality**: Optional. Reduced dimension for the output embedding. If set, excessive values in the output embedding are truncated from the end. This is supported by `models/text-embedding-004`, but cannot be specified in `models/embedding-001`.\n",
    "\n",
    "`task_type` is an optional parameter that provides a hint to the API about how you intend to use the embeddings in your application. The following task_type parameters are accepted:\n",
    "* **unspecified**: If you do not set the value, it will default to `retrieval_query`.\n",
    "* **retrieval_query** (or **query**): The given text is a query in a search/retrieval setting.\n",
    "* **retrieval_document** (or **document**): The given text is a document from a corpus being searched. Optionally, also set the title parameter with the title of the document.\n",
    "* **semantic_similarity** (or **similarity**): The given text will be used for Semantic Textual Similarity (STS).\n",
    "* **classification**: The given text will be classified.\n",
    "* **clustering**: The embeddings will be used for clustering.\n",
    "* **question_answering**: The given text will be used for question answering.\n",
    "* **fact_verification**: The given text will be used for fact verification."
   ]
  },
  {
   "cell_type": "code",
   "execution_count": 10,
   "id": "aa359afd-74bb-4146-ae7c-3f6b0d748f7f",
   "metadata": {},
   "outputs": [],
   "source": [
    "# Notice the API returns different embeddings depending on `task_type`\n",
    "result1 = genai.embed_content(\n",
    "    model=\"models/text-embedding-004\",\n",
    "    content=\"Hello world\")\n",
    "\n",
    "result2 = genai.embed_content(\n",
    "    model=\"models/text-embedding-004\",\n",
    "    content=\"Hello world\",\n",
    "    task_type=\"document\")"
   ]
  },
  {
   "cell_type": "code",
   "execution_count": 11,
   "id": "8c5c140b-6530-4b2b-bac9-45957e73c2c3",
   "metadata": {},
   "outputs": [
    {
     "name": "stdout",
     "output_type": "stream",
     "text": [
      "[0.013168523, -0.008711934, -0.046782676, 0.000699 ... TRIMMED]\n",
      "[0.023399517, -0.00854715, -0.052534223, -0.012143 ... TRIMMED]\n"
     ]
    }
   ],
   "source": [
    "print(str(result1['embedding'])[:50], '... TRIMMED]')\n",
    "print(str(result2['embedding'])[:50], '... TRIMMED]')"
   ]
  },
  {
   "cell_type": "markdown",
   "id": "3b3ba44e-c0b4-43a0-8bfe-a0cbc096c424",
   "metadata": {},
   "source": [
    "## <b><font color='darkblue'>Supplement</font></b>\n",
    "Check out these examples in the Cookbook to learn more about what you can do with embeddings:\n",
    "* [**Search Reranking**: Use embeddings from the Gemini API to rerank search results from Wikipedia.](https://github.com/google-gemini/cookbook/blob/main/examples/Search_reranking_using_embeddings.ipynb)\n",
    "* [**Anomaly detection with embeddings**: Use embeddings from the Gemini API to detect potential outliers in your dataset.](https://github.com/google-gemini/cookbook/blob/main/examples/Anomaly_detection_with_embeddings.ipynb)\n",
    "* [**Train a text classifier**: Use embeddings from the Gemini API to train a model that can classify different types of newsgroup posts based on the topic.](https://github.com/google-gemini/cookbook/blob/main/examples/Classify_text_with_embeddings.ipynb)\n",
    "* [Embeddings have many applications in Vector Databases, too. Check out this example with Chroma DB.](https://github.com/google/generative-ai-docs/blob/main/examples/gemini/python/vectordb_with_chroma/vectordb_with_chroma.ipynb)\n",
    "* [You can learn more about embeddings in general on ai.google.dev in the embeddings guide](https://ai.google.dev/docs/embeddings_guide)\n",
    "* You can find additional code examples with the Python SDK [here](https://ai.google.dev/tutorials/python_quickstart#use_embeddings).\n",
    "* You can also find more details in the API Reference for [embedContent](https://ai.google.dev/api/rest/v1/models/embedContent) and [batchEmbedContents](https://ai.google.dev/api/rest/v1/models/batchEmbedContents)."
   ]
  }
 ],
 "metadata": {
  "kernelspec": {
   "display_name": "Python 3 (ipykernel)",
   "language": "python",
   "name": "python3"
  },
  "language_info": {
   "codemirror_mode": {
    "name": "ipython",
    "version": 3
   },
   "file_extension": ".py",
   "mimetype": "text/x-python",
   "name": "python",
   "nbconvert_exporter": "python",
   "pygments_lexer": "ipython3",
   "version": "3.11.9"
  }
 },
 "nbformat": 4,
 "nbformat_minor": 5
}
