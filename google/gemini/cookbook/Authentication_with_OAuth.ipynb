{
 "cells": [
  {
   "cell_type": "markdown",
   "id": "e8f34dcc-ca74-4973-a007-3d81773b3d51",
   "metadata": {},
   "source": [
    "## <b><font color='darkblue'>Gemini API: OAuth Quickstart</font></b>\n",
    "([source](https://github.com/google-gemini/cookbook/blob/main/quickstarts/Authentication_with_OAuth.ipynb)) <b><font size='3ptx'>Some parts of the Gemini API like model tuning and semantic retrieval use OAuth for authentication.</font></b>\n",
    "\n",
    "If you are a beginner, you should start by using [API keys](https://github.com/google-gemini/cookbook/blob/main/quickstarts/Authentication.ipynb), and come back to this OAuth guide only when you need it for these features.\n",
    "\n",
    "<b>To help you get started with OAuth, this notebook shows a simplified approach that is appropriate for a testing environment.</b> For a production environment, learn about [authentication and authorization](https://developers.google.com/workspace/guides/auth-overview) before [choosing the access credentials](https://developers.google.com/workspace/guides/create-credentials#choose_the_access_credential_that_is_right_for_you) that are appropriate for your app."
   ]
  },
  {
   "cell_type": "markdown",
   "id": "aef903bf-5f3f-4444-9c1e-b4af42bceec0",
   "metadata": {},
   "source": [
    "### <b><font color='darkgreen'>Prerequisites</font></b>\n",
    "To run this quickstart, you need:\n",
    "* The [**Google Cloud CLI**](https://cloud.google.com/sdk/docs/install-sdk) installed on your local machine.\n",
    "* [**A Google Cloud project**](https://developers.google.com/workspace/guides/create-project)."
   ]
  },
  {
   "cell_type": "markdown",
   "id": "9a300c2d-0b23-4723-9d34-1829720d3f73",
   "metadata": {},
   "source": [
    "### <b><font color='darkgreen'>Set up your Cloud project</font></b>\n",
    "To complete this quickstart, you first need to setup your Cloud project."
   ]
  },
  {
   "cell_type": "markdown",
   "id": "b7b429d6-de6c-4a30-861c-50318f9c4e2d",
   "metadata": {},
   "source": [
    "#### <b>1. Enable the API</b>\n",
    "Before using Google APIs, you need to turn them on in a Google Cloud project.\n",
    "* In the Google Cloud console, [enable](https://console.cloud.google.com/flows/enableapi?apiid=generativelanguage.googleapis.com) the Google Generative Language API. If you created an API Key in AI Studio, this was done for you."
   ]
  },
  {
   "cell_type": "markdown",
   "id": "2ab3ceae-ae83-41f4-81a9-af19e33a590a",
   "metadata": {},
   "source": [
    "#### <b>2. Configure the OAuth consent screen</b>\n",
    "Next configure the project's OAuth consent screen and add yourself as a test user. If you've already completed this step for your Cloud project, skip to the next section.\n",
    "1. In the Google Cloud console, go to the [OAuth consent screen](https://console.cloud.google.com/apis/credentials/consent), this can be found under `Menu > APIs & Services OAuth consent screen`.\n",
    "2. Select the user type **External** for your app, then click Create.\n",
    "3. Complete the app registration form (<font color='brown'>you can leave most fields blank</font>), then click `Save and Continue`.\n",
    "4. For now, you can skip adding scopes and click `Save and Continue`. In the future, when you create an app for use outside of your Google Workspace organization, you must add and verify the authorization scopes that your app requires.\n",
    "5. Add test users:\n",
    "    - Under Test users, click `Add users`.\n",
    "    - Enter your email address and any other authorized test users, then click `Save and Continue`.\n",
    "6. Review your app registration summary. To make changes, click `Edit`. If the app registration looks OK, click `Back to Dashboard`."
   ]
  },
  {
   "cell_type": "markdown",
   "id": "05a0f185-7659-40fa-a8d3-dc3d269bd1ed",
   "metadata": {},
   "source": [
    "#### <b>3. Authorize credentials for a desktop application</b>\n",
    "To authenticate as an end user and access user data in your app, you need to create one or more OAuth 2.0 Client IDs. A client ID is used to identify a single app to Google's OAuth servers. If your app runs on multiple platforms, you must create a separate client ID for each platform.\n",
    "1. In the Google Cloud console, go to Credentials, this can be found under `Menu > APIs & Services > Credentials`.\n",
    "2. Click `Create Credentials > OAuth client ID`.\n",
    "3. Click `Application type > Desktop app`.\n",
    "4. In the `Name` field, type a name for the credential. This name is only shown in the Google Cloud console.\n",
    "5. Click `Create`. The OAuth client created screen appears, showing your new Client ID and Client secret.\n",
    "6. Click `OK`. The newly created credential appears under `OAuth 2.0 Client IDs`.\n",
    "7. Click the download button to save the JSON file. It will be saved as `client_secret_<identifier>.json`."
   ]
  },
  {
   "cell_type": "markdown",
   "id": "0976487d-0e3b-499c-9237-d7b40c218d2c",
   "metadata": {},
   "source": [
    "### <b><font color='darkgreen'>Set up application default credentials</font></b>\n",
    "In this quickstart you will use [**application default credentials**](https://cloud.google.com/docs/authentication/application-default-credentials) to authenticate."
   ]
  },
  {
   "cell_type": "markdown",
   "id": "221c24a4-d3b5-415f-abf7-c73d31feed02",
   "metadata": {},
   "source": [
    "#### <b>Add client secret to Colab secrets</b>\n",
    "If you need to use OAuth with the Gemini API in Google Colab frequently, it is easiest to add the contents of your `client_secret.json` file into Colab's Secrets manager.\n",
    "1. Open your Google Colab notebook and click on the 🔑 Secrets tab in the left panel.\n",
    "2. Create a new secret with the name `CLIENT_SECRET`.\n",
    "3. Open your `client_secret.json` file in a text editor and copy/paste the content into the `Value` input box of `CLIENT_SECRET`.\n",
    "4. Toggle the button on the left to allow notebook access to the secret.\n",
    "\n",
    "Now you can programmatically create the file instead of uploading it every time. The client secret is also available in all your Google Colab notebooks after you allow access.\n",
    "```python\n",
    "from google.colab import userdata\n",
    "import pathlib\n",
    "\n",
    "pathlib.Path('client_secret.json').write_text(userdata.get('CLIENT_SECRET'))\n",
    "```"
   ]
  },
  {
   "cell_type": "markdown",
   "id": "3ab45862-5ed2-46e8-b997-bcfabba89281",
   "metadata": {},
   "source": [
    "#### <b>Set the application default credentials</b>\n",
    "To convert the `client_secret.json` file into usable credentials, pass its location the <font color='blue'>gcloud auth application-default login</font> command's <font color='violet'>--client-id-file</font> argument. The simplified project setup in this tutorial triggers a `Google hasn't verified this app dialog`. This is normal, choose `Continue`.\n",
    "\n",
    "You will need to do this step once for every new Google Colab notebook or runtime.\n",
    "\n",
    "<b><font color='orange'>Note</font></b>: Carefully follow the instructions the following command prints (<font color='brown'>don't just click the link</font>). Also make sure your local <font color='blue'>gcloud --version</font> is the [latest](https://cloud.google.com/sdk/docs/release-notes) to match the version pre-installed in Google Colab."
   ]
  },
  {
   "cell_type": "code",
   "execution_count": 2,
   "id": "defaa0ba-e0da-47e2-aa1f-1768dc0b6386",
   "metadata": {},
   "outputs": [],
   "source": [
    "#!gcloud auth application-default login \\\n",
    "#  --no-browser --client-id-file client_secret.json \\\n",
    "#  --scopes https://www.googleapis.com/auth/cloud-platform,https://www.googleapis.com/auth/generative-language.tuning,https://www.googleapis.com/auth/generative-language.retriever"
   ]
  },
  {
   "cell_type": "markdown",
   "id": "4456dffe-b3b2-49cb-87ef-6dd0c0bc8f32",
   "metadata": {},
   "source": [
    "he specific scopes you need depends on the API you are using. For example, looking at the API reference for `tunedModels.create`, you will see:\n",
    "```\n",
    "Requires one of the following OAuth scopes:\n",
    "* https://www.googleapis.com/auth/generative-language.tuning\n",
    "```\n",
    "\n",
    "This sample asks for all the scopes for tuning and semantic retrieval, but best practice is to use the smallest set of scopes for security and user confidence."
   ]
  },
  {
   "cell_type": "markdown",
   "id": "d3ab0ac6-f4a9-4371-858d-b91bcf2b664d",
   "metadata": {},
   "source": [
    "#### <b>Using the Python SDK with OAuth</b>\n",
    "The Python SDK will automatically find and use application default credentials."
   ]
  },
  {
   "cell_type": "code",
   "execution_count": 4,
   "id": "34450ecb-bace-4e33-944b-850286e2ca8e",
   "metadata": {},
   "outputs": [],
   "source": [
    "#!pip install -U -q google-generativeai"
   ]
  },
  {
   "cell_type": "markdown",
   "id": "670bc1b2-1f19-4ad4-ac61-051cf0cf95bb",
   "metadata": {},
   "source": [
    "Let's do a quick test. Note that you did not set an API key using genai.configure()!"
   ]
  },
  {
   "cell_type": "code",
   "execution_count": 1,
   "id": "aea6a58b-5104-4a67-8da6-282292a5c383",
   "metadata": {},
   "outputs": [
    {
     "name": "stdout",
     "output_type": "stream",
     "text": [
      "Available base models: ['models/chat-bison-001', 'models/text-bison-001', 'models/embedding-gecko-001', 'models/gemini-1.0-pro-latest', 'models/gemini-1.0-pro', 'models/gemini-pro', 'models/gemini-1.0-pro-001', 'models/gemini-1.0-pro-vision-latest', 'models/gemini-pro-vision', 'models/gemini-1.5-pro-latest', 'models/gemini-1.5-pro-001', 'models/gemini-1.5-pro', 'models/gemini-1.5-pro-exp-0801', 'models/gemini-1.5-pro-exp-0827', 'models/gemini-1.5-flash-latest', 'models/gemini-1.5-flash-001', 'models/gemini-1.5-flash-001-tuning', 'models/gemini-1.5-flash', 'models/gemini-1.5-flash-exp-0827', 'models/gemini-1.5-flash-8b-exp-0827', 'models/embedding-001', 'models/text-embedding-004', 'models/aqa']\n"
     ]
    }
   ],
   "source": [
    "import google.generativeai as genai\n",
    "\n",
    "print('Available base models:', [m.name for m in genai.list_models()])"
   ]
  },
  {
   "cell_type": "code",
   "execution_count": 3,
   "id": "c1fd55f8-1469-47ec-be6c-527c3663d68b",
   "metadata": {},
   "outputs": [
    {
     "data": {
      "text/plain": [
       "[Model(name='models/gemini-1.0-pro-001',\n",
       "       base_model_id='',\n",
       "       version='001',\n",
       "       display_name='Gemini 1.0 Pro 001 (Tuning)',\n",
       "       description=('The best model for scaling across a wide range of tasks. This is a stable '\n",
       "                    'model that supports tuning.'),\n",
       "       input_token_limit=30720,\n",
       "       output_token_limit=2048,\n",
       "       supported_generation_methods=['generateContent', 'countTokens', 'createTunedModel'],\n",
       "       temperature=0.9,\n",
       "       max_temperature=None,\n",
       "       top_p=1.0,\n",
       "       top_k=None),\n",
       " Model(name='models/gemini-1.5-flash-001-tuning',\n",
       "       base_model_id='',\n",
       "       version='001',\n",
       "       display_name='Gemini 1.5 Flash 001 Tuning',\n",
       "       description='Fast and versatile multimodal model for scaling across diverse tasks',\n",
       "       input_token_limit=16384,\n",
       "       output_token_limit=8192,\n",
       "       supported_generation_methods=['generateContent', 'countTokens', 'createTunedModel'],\n",
       "       temperature=1.0,\n",
       "       max_temperature=2.0,\n",
       "       top_p=0.95,\n",
       "       top_k=64)]"
      ]
     },
     "execution_count": 3,
     "metadata": {},
     "output_type": "execute_result"
    }
   ],
   "source": [
    "tunable_models = [\n",
    "    m for m in genai.list_models()\n",
    "    if \"createTunedModel\" in m.supported_generation_methods]\n",
    "tunable_models"
   ]
  },
  {
   "cell_type": "code",
   "execution_count": 4,
   "id": "85d8750c-8e1b-4368-bd3b-f10246126f09",
   "metadata": {},
   "outputs": [
    {
     "data": {
      "text/plain": [
       "Model(name='models/gemini-1.5-flash-001-tuning',\n",
       "      base_model_id='',\n",
       "      version='001',\n",
       "      display_name='Gemini 1.5 Flash 001 Tuning',\n",
       "      description='Fast and versatile multimodal model for scaling across diverse tasks',\n",
       "      input_token_limit=16384,\n",
       "      output_token_limit=8192,\n",
       "      supported_generation_methods=['generateContent', 'countTokens', 'createTunedModel'],\n",
       "      temperature=1.0,\n",
       "      max_temperature=2.0,\n",
       "      top_p=0.95,\n",
       "      top_k=64)"
      ]
     },
     "execution_count": 4,
     "metadata": {},
     "output_type": "execute_result"
    }
   ],
   "source": [
    "base_model = [m for m in tunable_models if 'flash' in m.name][-1]  # models/gemini-1.5-flash-001-tuning\n",
    "base_model"
   ]
  },
  {
   "cell_type": "code",
   "execution_count": 6,
   "id": "5c00665b-a922-4959-826c-6a9d4e4b3868",
   "metadata": {},
   "outputs": [],
   "source": [
    "import random\n",
    "\n",
    "name = f'generate-num-{random.randint(0,10000)}'\n",
    "operation = genai.create_tuned_model(\n",
    "    # You can use a tuned model here too. Set `source_model=\"tunedModels/...\"`\n",
    "    source_model=base_model.name,\n",
    "    training_data=[\n",
    "        {\n",
    "             'text_input': '1',\n",
    "             'output': '2',\n",
    "        },{\n",
    "             'text_input': '3',\n",
    "             'output': '4',\n",
    "        },{\n",
    "             'text_input': '-3',\n",
    "             'output': '-2',\n",
    "        },{\n",
    "             'text_input': 'twenty two',\n",
    "             'output': 'twenty three',\n",
    "        },{\n",
    "             'text_input': 'two hundred',\n",
    "             'output': 'two hundred one',\n",
    "        },{\n",
    "             'text_input': 'ninety nine',\n",
    "             'output': 'one hundred',\n",
    "        },{\n",
    "             'text_input': '8',\n",
    "             'output': '9',\n",
    "        },{\n",
    "             'text_input': '-98',\n",
    "             'output': '-97',\n",
    "        },{\n",
    "             'text_input': '1,000',\n",
    "             'output': '1,001',\n",
    "        },{\n",
    "             'text_input': '10,100,000',\n",
    "             'output': '10,100,001',\n",
    "        },{\n",
    "             'text_input': 'thirteen',\n",
    "             'output': 'fourteen',\n",
    "        },{\n",
    "             'text_input': 'eighty',\n",
    "             'output': 'eighty one',\n",
    "        },{\n",
    "             'text_input': 'one',\n",
    "             'output': 'two',\n",
    "        },{\n",
    "             'text_input': 'three',\n",
    "             'output': 'four',\n",
    "        },{\n",
    "             'text_input': 'seven',\n",
    "             'output': 'eight',\n",
    "        }\n",
    "    ],\n",
    "    id = name,\n",
    "    epoch_count = 100,\n",
    "    batch_size=4,\n",
    "    learning_rate=0.001,\n",
    ")"
   ]
  },
  {
   "cell_type": "markdown",
   "id": "839409c6-d91a-4558-a6cf-5822a188ea43",
   "metadata": {},
   "source": [
    "## <b><font color='darkblue'>Appendix</font></b>"
   ]
  },
  {
   "cell_type": "markdown",
   "id": "5d6f2184-a3ab-4fb4-8cec-d9af9278da4e",
   "metadata": {},
   "source": [
    "### <b><font color='darkgreen'>Making authenticated REST calls from Colab</font></b>\n",
    "In general, you should use the Python SDK to interact with the Gemini API when possible. This example shows how to make OAuth authenticated REST calls from Python for debugging or testing purposes. It assumes you have already set application default credentials from the Quickstart."
   ]
  },
  {
   "cell_type": "code",
   "execution_count": 15,
   "id": "1349615e-205b-4607-b1b1-47ec31634a07",
   "metadata": {},
   "outputs": [
    {
     "data": {
      "text/plain": [
       "{'Content-Type': 'application/json', 'Authorization': 'Bearer ...'}"
      ]
     },
     "execution_count": 15,
     "metadata": {},
     "output_type": "execute_result"
    }
   ],
   "source": [
    "import requests\n",
    "\n",
    "#access_token = !gcloud auth application-default print-access-token\n",
    "access_token = '...'\n",
    "\n",
    "headers = {\n",
    "    'Content-Type': 'application/json',\n",
    "    'Authorization': f'Bearer {access_token}',\n",
    "}\n",
    "\n",
    "headers"
   ]
  },
  {
   "cell_type": "code",
   "execution_count": 14,
   "id": "6f19b951-dfcf-4069-9c5f-f9998a107bbe",
   "metadata": {},
   "outputs": [
    {
     "name": "stdout",
     "output_type": "stream",
     "text": [
      "{'error': {'code': 403, 'message': 'Request had insufficient authentication scopes.', 'status': 'PERMISSION_DENIED', 'details': [{'@type': 'type.googleapis.com/google.rpc.DebugInfo', 'detail': 'Authentication error: 2; Error Details: {AuthType:7,ErrorCode:2,ServiceID:0,Scopes:[],BackendType:2,DebugInfo:gaia_mint_exchange::SCOPE_NOT_PERMITTED: None of the authentication credential token scopes [API_CLOUD_PLATFORM,API_DRIVE,API_EMAIL,API_EMERALDSEA_ME] provided any of the desired scopes [API_GAIA_FILTER_BASE,API_GENERATIVE_LANGUAGE,API_GENERATIVE_LANGUAGE_TUNING,API_GENERATIVE_LANGUAGE_TUNING_READONLY,API_GENERATIVE_LANGUAGE_RETRIEVER,API_GENERATIVE_LANGUAGE_RETRIEVER_READONLY]}'}, {'@type': 'type.googleapis.com/google.rpc.ErrorInfo', 'reason': 'ACCESS_TOKEN_SCOPE_INSUFFICIENT', 'domain': 'googleapis.com', 'metadata': {'service': 'generativelanguage.googleapis.com', 'method': 'google.ai.generativelanguage.v1.ModelService.ListModels'}}]}}\n"
     ]
    }
   ],
   "source": [
    "response = requests.get('https://generativelanguage.googleapis.com/v1/models', headers=headers)\n",
    "response_json = response.json()\n",
    "print(response_json)"
   ]
  },
  {
   "cell_type": "code",
   "execution_count": null,
   "id": "d8f9f799-f8e7-4cf7-a39e-ae00734576eb",
   "metadata": {},
   "outputs": [],
   "source": [
    "# All the model names\n",
    "for model in response_json['models']:\n",
    "    print(model['name'])"
   ]
  }
 ],
 "metadata": {
  "kernelspec": {
   "display_name": "Python 3 (ipykernel)",
   "language": "python",
   "name": "python3"
  },
  "language_info": {
   "codemirror_mode": {
    "name": "ipython",
    "version": 3
   },
   "file_extension": ".py",
   "mimetype": "text/x-python",
   "name": "python",
   "nbconvert_exporter": "python",
   "pygments_lexer": "ipython3",
   "version": "3.11.9"
  }
 },
 "nbformat": 4,
 "nbformat_minor": 5
}
