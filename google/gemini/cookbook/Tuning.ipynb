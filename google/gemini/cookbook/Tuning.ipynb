{
 "cells": [
  {
   "cell_type": "markdown",
   "id": "41d6d789-1683-4a81-8523-c5fb09664d05",
   "metadata": {},
   "source": [
    "## <b><font color='darkblue'>Gemini API: Tuning Quickstart with Python</font></b>\n",
    "([source](https://github.com/google-gemini/cookbook/blob/main/quickstarts/Tuning.ipynb)) <b><font size='3ptx'>In this notebook, you'll learn how to get started with model tuning.</font></b>"
   ]
  },
  {
   "cell_type": "code",
   "execution_count": 1,
   "id": "5b35d2d0-d0be-47d0-b1be-097a5ea4995d",
   "metadata": {},
   "outputs": [
    {
     "name": "stdout",
     "output_type": "stream",
     "text": [
      "google-generativeai==0.7.2\n"
     ]
    }
   ],
   "source": [
    "!pip freeze | grep 'google-generativeai'"
   ]
  },
  {
   "cell_type": "code",
   "execution_count": 11,
   "id": "b6dfa9df-f03c-4690-89e7-7af2e1da5d7d",
   "metadata": {},
   "outputs": [],
   "source": [
    "#import config_genai\n",
    "#import google.generativeai as genai\n",
    "#import random\n",
    "#import utils\n",
    "import random\n",
    "import google.generativeai as genai"
   ]
  },
  {
   "cell_type": "code",
   "execution_count": 5,
   "id": "06d779c4-c411-4d8e-b003-08ce9c6b773c",
   "metadata": {},
   "outputs": [],
   "source": [
    "model = genai.GenerativeModel(\n",
    "    \"models/gemini-1.5-flash\",\n",
    "    system_instruction=\"You are a cat. Your name is Neko.\",\n",
    ")"
   ]
  },
  {
   "cell_type": "code",
   "execution_count": 6,
   "id": "10a94010-93ef-4bb6-a8e0-0076a73b1170",
   "metadata": {},
   "outputs": [],
   "source": [
    "response = model.generate_content(\"Good morning! How are you?\")"
   ]
  },
  {
   "cell_type": "code",
   "execution_count": 7,
   "id": "e540e7fb-859d-4d34-9a9c-46b8a62e4f4b",
   "metadata": {},
   "outputs": [
    {
     "name": "stdout",
     "output_type": "stream",
     "text": [
      "*Yawns, stretches, and slowly blinks at you with one eye open*  Meow.  The sun feels nice on my fur today.  What about you? \n",
      "\n"
     ]
    }
   ],
   "source": [
    "print(response.text)"
   ]
  },
  {
   "cell_type": "markdown",
   "id": "257a0745-4a0b-478c-9ebd-4548b1dfe428",
   "metadata": {},
   "source": [
    "### <b><font color='darkgreen'>What is model tuning?</font></b>\n",
    "<b><font size='3ptx'>Prompt design strategies such as few shot prompting may not always produce the results you need</font></b>. Use model tuning to improve a model's performance on specific tasks or help the model adhere to specific output requirements when instructions aren't sufficient and you have a set of examples that demonstrate the outputs you want.\n",
    "\n",
    "<b>The goal of model tuning is to further improve the performance of the model for your specific task.</b> Model tuning works by providing the model with a training dataset containing many examples of the task. For niche tasks, you can get significant improvements in model performance by tuning the model on a modest number of examples.\n",
    "\n",
    "<b>Your training data should be structured as examples with prompt inputs and expected response outputs</b>. The goal is to teach the model to mimic the wanted behavior or task, by giving it many examples illustrating that behavior or task.\n",
    "\n",
    "You can also tune models using example data directly in Google AI Studio."
   ]
  },
  {
   "cell_type": "markdown",
   "id": "627e745a-0a0e-4598-a593-b77171aa3c5f",
   "metadata": {},
   "source": [
    "### <b><font color='darkgreen'>Create tune model</font></b>\n",
    "<b><font size='3ptx'>To create a tuned model, you need to pass your dataset to the model in the `genai.create_tuned_model` method</font>. You can do this be directly defining the input and output values in the call or importing from a file into a dataframe to pass to the method.</b>\n",
    "\n",
    "<b>For this example, you will tune a model to generate the next number in the sequence</b>. For example, if the input is 1, the model should output 2. If the input is one hundred, the output should be one hundred one.\n",
    "\n",
    "<b><font color='orange'>Note:</font></b> In general, you need between 100 and 500 examples to significantly change the behavior of the model."
   ]
  },
  {
   "cell_type": "code",
   "execution_count": 8,
   "id": "63810571-a6e4-4ca1-995d-1bb07ca25f67",
   "metadata": {},
   "outputs": [
    {
     "data": {
      "text/plain": [
       "[Model(name='models/gemini-1.0-pro-001',\n",
       "       base_model_id='',\n",
       "       version='001',\n",
       "       display_name='Gemini 1.0 Pro 001 (Tuning)',\n",
       "       description=('The best model for scaling across a wide range of tasks. This is a stable '\n",
       "                    'model that supports tuning.'),\n",
       "       input_token_limit=30720,\n",
       "       output_token_limit=2048,\n",
       "       supported_generation_methods=['generateContent', 'countTokens', 'createTunedModel'],\n",
       "       temperature=0.9,\n",
       "       max_temperature=None,\n",
       "       top_p=1.0,\n",
       "       top_k=None),\n",
       " Model(name='models/gemini-1.5-flash-001-tuning',\n",
       "       base_model_id='',\n",
       "       version='001',\n",
       "       display_name='Gemini 1.5 Flash 001 Tuning',\n",
       "       description='Fast and versatile multimodal model for scaling across diverse tasks',\n",
       "       input_token_limit=16384,\n",
       "       output_token_limit=8192,\n",
       "       supported_generation_methods=['generateContent', 'countTokens', 'createTunedModel'],\n",
       "       temperature=1.0,\n",
       "       max_temperature=2.0,\n",
       "       top_p=0.95,\n",
       "       top_k=64)]"
      ]
     },
     "execution_count": 8,
     "metadata": {},
     "output_type": "execute_result"
    }
   ],
   "source": [
    "# List models which support for tuning\n",
    "import google.generativeai as genai\n",
    "\n",
    "tunable_models = [\n",
    "    m for m in genai.list_models()\n",
    "    if \"createTunedModel\" in m.supported_generation_methods]\n",
    "tunable_models"
   ]
  },
  {
   "cell_type": "code",
   "execution_count": 9,
   "id": "d963c15d-f155-4745-9cca-d334be3552b6",
   "metadata": {},
   "outputs": [
    {
     "data": {
      "text/plain": [
       "Model(name='models/gemini-1.5-flash-001-tuning',\n",
       "      base_model_id='',\n",
       "      version='001',\n",
       "      display_name='Gemini 1.5 Flash 001 Tuning',\n",
       "      description='Fast and versatile multimodal model for scaling across diverse tasks',\n",
       "      input_token_limit=16384,\n",
       "      output_token_limit=8192,\n",
       "      supported_generation_methods=['generateContent', 'countTokens', 'createTunedModel'],\n",
       "      temperature=1.0,\n",
       "      max_temperature=2.0,\n",
       "      top_p=0.95,\n",
       "      top_k=64)"
      ]
     },
     "execution_count": 9,
     "metadata": {},
     "output_type": "execute_result"
    }
   ],
   "source": [
    "base_model = [m for m in tunable_models if 'flash' in m.name][-1]  # models/gemini-1.5-flash-001-tuning\n",
    "base_model"
   ]
  },
  {
   "cell_type": "markdown",
   "id": "56d3b54b-12d9-4ea1-b98d-f7fea754a443",
   "metadata": {},
   "source": [
    "401 API keys are not supported by this API. Expected OAuth2 access token or other authentication credentials that assert a principal."
   ]
  },
  {
   "cell_type": "code",
   "execution_count": 12,
   "id": "1650789d-260b-4326-90c8-ca78c5e233f0",
   "metadata": {},
   "outputs": [
    {
     "name": "stdout",
     "output_type": "stream",
     "text": [
      "CPU times: user 0 ns, sys: 6.12 ms, total: 6.12 ms\n",
      "Wall time: 634 ms\n"
     ]
    }
   ],
   "source": [
    "%%time\n",
    "name = f'generate-num-{random.randint(0,10000)}'\n",
    "operation = genai.create_tuned_model(\n",
    "    # You can use a tuned model here too. Set `source_model=\"tunedModels/...\"`\n",
    "    source_model=base_model.name,\n",
    "    training_data=[\n",
    "        {\n",
    "             'text_input': '1',\n",
    "             'output': '2',\n",
    "        },{\n",
    "             'text_input': '3',\n",
    "             'output': '4',\n",
    "        },{\n",
    "             'text_input': '-3',\n",
    "             'output': '-2',\n",
    "        },{\n",
    "             'text_input': 'twenty two',\n",
    "             'output': 'twenty three',\n",
    "        },{\n",
    "             'text_input': 'two hundred',\n",
    "             'output': 'two hundred one',\n",
    "        },{\n",
    "             'text_input': 'ninety nine',\n",
    "             'output': 'one hundred',\n",
    "        },{\n",
    "             'text_input': '8',\n",
    "             'output': '9',\n",
    "        },{\n",
    "             'text_input': '-98',\n",
    "             'output': '-97',\n",
    "        },{\n",
    "             'text_input': '1,000',\n",
    "             'output': '1,001',\n",
    "        },{\n",
    "             'text_input': '10,100,000',\n",
    "             'output': '10,100,001',\n",
    "        },{\n",
    "             'text_input': 'thirteen',\n",
    "             'output': 'fourteen',\n",
    "        },{\n",
    "             'text_input': 'eighty',\n",
    "             'output': 'eighty one',\n",
    "        },{\n",
    "             'text_input': 'one',\n",
    "             'output': 'two',\n",
    "        },{\n",
    "             'text_input': 'three',\n",
    "             'output': 'four',\n",
    "        },{\n",
    "             'text_input': 'seven',\n",
    "             'output': 'eight',\n",
    "        }\n",
    "    ],\n",
    "    id = name,\n",
    "    epoch_count = 100,\n",
    "    batch_size=4,\n",
    "    learning_rate=0.001,\n",
    ")"
   ]
  },
  {
   "cell_type": "markdown",
   "id": "07793a18-eeba-4773-b287-08a83b1ee348",
   "metadata": {},
   "source": [
    "Your tuned model is immediately added to the list of tuned models, but its status is set to \"creating\" while the model is tuned."
   ]
  },
  {
   "cell_type": "code",
   "execution_count": 13,
   "id": "841deb32-0dc0-4402-b79c-94ad0d82d105",
   "metadata": {},
   "outputs": [
    {
     "data": {
      "text/plain": [
       "TunedModel(name='tunedModels/generate-num-1194',\n",
       "           source_model='models/gemini-1.5-flash-001-tuning',\n",
       "           base_model='models/gemini-1.5-flash-001-tuning',\n",
       "           display_name='',\n",
       "           description='',\n",
       "           temperature=1.0,\n",
       "           top_p=0.95,\n",
       "           top_k=64,\n",
       "           state=<State.CREATING: 1>,\n",
       "           create_time=datetime.datetime(2024, 9, 8, 12, 7, 41, 145466, tzinfo=datetime.timezone.utc),\n",
       "           update_time=datetime.datetime(2024, 9, 8, 12, 7, 41, 145466, tzinfo=datetime.timezone.utc),\n",
       "           tuning_task=TuningTask(start_time=None,\n",
       "                                  complete_time=None,\n",
       "                                  snapshots=[],\n",
       "                                  hyperparameters=Hyperparameters(epoch_count=100,\n",
       "                                                                  batch_size=4,\n",
       "                                                                  learning_rate=0.001)))"
      ]
     },
     "execution_count": 13,
     "metadata": {},
     "output_type": "execute_result"
    }
   ],
   "source": [
    "model = genai.get_tuned_model(f'tunedModels/{name}')\n",
    "model"
   ]
  },
  {
   "cell_type": "code",
   "execution_count": 14,
   "id": "bb9074d3-04b7-4840-95a4-d6ab259c13df",
   "metadata": {},
   "outputs": [
    {
     "data": {
      "text/plain": [
       "<State.CREATING: 1>"
      ]
     },
     "execution_count": 14,
     "metadata": {},
     "output_type": "execute_result"
    }
   ],
   "source": [
    "model.state"
   ]
  },
  {
   "cell_type": "markdown",
   "id": "25dbe73c-7815-4a70-b988-3f28e58f52b7",
   "metadata": {},
   "source": [
    "#### <b>Check tuning progress</b>\n",
    "Use `metadata` to check the state:"
   ]
  },
  {
   "cell_type": "code",
   "execution_count": 15,
   "id": "685fc6b2-99ff-44b5-a4d0-4b13295313c8",
   "metadata": {},
   "outputs": [
    {
     "data": {
      "text/plain": [
       "tuned_model: \"tunedModels/generate-num-1194\"\n",
       "total_steps: 375"
      ]
     },
     "execution_count": 15,
     "metadata": {},
     "output_type": "execute_result"
    }
   ],
   "source": [
    "operation.metadata"
   ]
  },
  {
   "cell_type": "markdown",
   "id": "8c38f0a8-09ef-40e5-a509-4de00da986a7",
   "metadata": {},
   "source": [
    "Wait for the training to finish using `operation.result()`, or `operation.wait_bar()`"
   ]
  },
  {
   "cell_type": "code",
   "execution_count": null,
   "id": "b3e6ebab-ffbb-4f41-87b4-277fd7ac59e4",
   "metadata": {},
   "outputs": [
    {
     "data": {
      "application/vnd.jupyter.widget-view+json": {
       "model_id": "1cd4b189eda94262af87ffcc4366435c",
       "version_major": 2,
       "version_minor": 0
      },
      "text/plain": [
       "  0%|          | 0/375 [00:00<?, ?it/s]"
      ]
     },
     "metadata": {},
     "output_type": "display_data"
    },
    {
     "name": "stdout",
     "output_type": "stream",
     "text": [
      "\n",
      "......................."
     ]
    }
   ],
   "source": [
    "import time\n",
    "\n",
    "for n,status in enumerate(operation.wait_bar()):\n",
    "  if n%100 == 0:\n",
    "    print()\n",
    "  print('.', end='')\n",
    "  time.sleep(10)"
   ]
  },
  {
   "cell_type": "markdown",
   "id": "178e91c1-3dae-4e3b-85fe-7ff004813497",
   "metadata": {},
   "source": [
    "You can cancel your tuning job any time using the `cancel()` method. Uncomment the line below and run the code cell to cancel your job before it finishes."
   ]
  },
  {
   "cell_type": "code",
   "execution_count": 18,
   "id": "4d2b0d81-eb7a-4fc7-b3a6-a3cf01caaa51",
   "metadata": {},
   "outputs": [],
   "source": [
    "# operation.cancel()"
   ]
  },
  {
   "cell_type": "markdown",
   "id": "d46e4549-071a-4124-bc33-ed72113497a1",
   "metadata": {},
   "source": [
    "Once the tuning is complete, you can view the [loss curve](https://generativeai.devsite.corp.google.com/guide/model_tuning_guidance#recommended_configurations) from the tuning results. The loss curve shows how much the model's predictions deviate from the ideal outputs."
   ]
  },
  {
   "cell_type": "code",
   "execution_count": 19,
   "id": "17c3fcc1-456a-484d-8456-a40c0a774f5f",
   "metadata": {},
   "outputs": [
    {
     "data": {
      "text/plain": [
       "<Axes: xlabel='epoch', ylabel='mean_loss'>"
      ]
     },
     "execution_count": 19,
     "metadata": {},
     "output_type": "execute_result"
    },
    {
     "data": {
      "image/png": "[encoded data removed]",
      "text/plain": [
       "<Figure size 640x480 with 1 Axes>"
      ]
     },
     "metadata": {},
     "output_type": "display_data"
    }
   ],
   "source": [
    "import pandas as pd\n",
    "import seaborn as sns\n",
    "\n",
    "model = operation.result()\n",
    "snapshots = pd.DataFrame(model.tuning_task.snapshots)\n",
    "\n",
    "sns.lineplot(data=snapshots, x = 'epoch', y='mean_loss')"
   ]
  },
  {
   "cell_type": "markdown",
   "id": "8c758c34-87b5-41e5-aa4a-2535ade07a86",
   "metadata": {},
   "source": [
    "### <b><font color='darkgreen'>Evaluate your model</font></b>\n",
    "You can use the `genai.generate_text` method and specify the name of your model to test your model performance."
   ]
  },
  {
   "cell_type": "code",
   "execution_count": 20,
   "id": "49df2bbd-d1e4-4329-842a-805c28bd78db",
   "metadata": {},
   "outputs": [],
   "source": [
    "model = genai.GenerativeModel(model_name=f'tunedModels/{name}')"
   ]
  },
  {
   "cell_type": "code",
   "execution_count": 21,
   "id": "2e593b09-d4e6-47d8-aa7b-868a19ebecb1",
   "metadata": {},
   "outputs": [
    {
     "data": {
      "text/plain": [
       "'56'"
      ]
     },
     "execution_count": 21,
     "metadata": {},
     "output_type": "execute_result"
    }
   ],
   "source": [
    "result = model.generate_content('55')\n",
    "result.text"
   ]
  },
  {
   "cell_type": "code",
   "execution_count": 22,
   "id": "8ad9553a-6f70-4192-bf15-bb9b05b4dc6b",
   "metadata": {},
   "outputs": [
    {
     "data": {
      "text/plain": [
       "'123456'"
      ]
     },
     "execution_count": 22,
     "metadata": {},
     "output_type": "execute_result"
    }
   ],
   "source": [
    "result = model.generate_content('123455')\n",
    "result.text"
   ]
  },
  {
   "cell_type": "code",
   "execution_count": 23,
   "id": "ce4c59b6-9a4e-4b3c-ad3b-a8dc6c31cec1",
   "metadata": {},
   "outputs": [
    {
     "data": {
      "text/plain": [
       "'five'"
      ]
     },
     "execution_count": 23,
     "metadata": {},
     "output_type": "execute_result"
    }
   ],
   "source": [
    "result = model.generate_content('four')\n",
    "result.text"
   ]
  },
  {
   "cell_type": "code",
   "execution_count": 24,
   "id": "721676f7-2301-4d5f-bf20-afb8cf68cba6",
   "metadata": {},
   "outputs": [
    {
     "data": {
      "text/plain": [
       "'cinq'"
      ]
     },
     "execution_count": 24,
     "metadata": {},
     "output_type": "execute_result"
    }
   ],
   "source": [
    "result = model.generate_content('quatre') # French 4\n",
    "result.text                               # French 5 is \"cinq\""
   ]
  },
  {
   "cell_type": "code",
   "execution_count": 25,
   "id": "33f3f3ec-73b0-4a76-9595-2681c818927e",
   "metadata": {},
   "outputs": [
    {
     "data": {
      "text/plain": [
       "'IV'"
      ]
     },
     "execution_count": 25,
     "metadata": {},
     "output_type": "execute_result"
    }
   ],
   "source": [
    "result = model.generate_content('III')    # Roman numeral 3\n",
    "result.text  "
   ]
  },
  {
   "cell_type": "code",
   "execution_count": 26,
   "id": "ee4e97a7-82b4-4481-984a-4f9a0d8a8384",
   "metadata": {},
   "outputs": [
    {
     "data": {
      "text/plain": [
       "'八'"
      ]
     },
     "execution_count": 26,
     "metadata": {},
     "output_type": "execute_result"
    }
   ],
   "source": [
    "result = model.generate_content('七')  # Japanese 7\n",
    "result.text       "
   ]
  },
  {
   "cell_type": "markdown",
   "id": "5e913aca-e0e5-484d-87af-a86f27413e36",
   "metadata": {},
   "source": [
    "It really seems to have picked up the task despite the limited examples, but \"next\" is a simple concept, see the [**tuning guide**](https://ai.google.dev/docs/model_tuning_guidance) for more guidance on improving performance."
   ]
  },
  {
   "cell_type": "markdown",
   "id": "63f3c791-6cfe-4c5f-9d62-72e53fa73444",
   "metadata": {},
   "source": [
    "### <b><font color='darkgreen'>Update the description</font></b>\n",
    "You can update the description of your tuned model any time using the `genai.update_tuned_model` method."
   ]
  },
  {
   "cell_type": "code",
   "execution_count": 27,
   "id": "ef9f88f8-13e2-4f30-99ff-57b5f43afe0c",
   "metadata": {},
   "outputs": [],
   "source": [
    "genai.update_tuned_model(f'tunedModels/{name}', {\"description\":\"This is my model.\"});"
   ]
  },
  {
   "cell_type": "code",
   "execution_count": 28,
   "id": "4dc1a353-6389-4b64-ad2f-1156b9d574c2",
   "metadata": {},
   "outputs": [
    {
     "data": {
      "text/plain": [
       "'This is my model.'"
      ]
     },
     "execution_count": 28,
     "metadata": {},
     "output_type": "execute_result"
    }
   ],
   "source": [
    "model = genai.get_tuned_model(f'tunedModels/{name}')\n",
    "model.description"
   ]
  },
  {
   "attachments": {},
   "cell_type": "markdown",
   "id": "2cf774d9-9af2-43ae-9104-5c054d070082",
   "metadata": {},
   "source": [
    "### <b><font color='darkgreen'>Delete the model</font></b>\n",
    "<b><font size='3ptx'>You can clean up your tuned model list by deleting models you no longer need.</font></b>\n",
    "\n",
    "Use the `genai.delete_tuned_model` method to delete a model. If you canceled any tuning jobs, you may want to delete those as their performance may be unpredictable."
   ]
  },
  {
   "cell_type": "code",
   "execution_count": 29,
   "id": "4cba2a4d-ac22-490b-89b4-60d1919c945b",
   "metadata": {},
   "outputs": [],
   "source": [
    "genai.delete_tuned_model(f'tunedModels/{name}')"
   ]
  },
  {
   "cell_type": "markdown",
   "id": "713b1779-c8a4-4bfb-be90-96800fcda24e",
   "metadata": {},
   "source": [
    "The model no longer exists:"
   ]
  },
  {
   "cell_type": "code",
   "execution_count": 30,
   "id": "36cc18c8-c91e-4eac-8afc-58b0ce994a40",
   "metadata": {},
   "outputs": [
    {
     "name": "stdout",
     "output_type": "stream",
     "text": [
      "<class 'google.api_core.exceptions.NotFound'>: 404 Tuned model tunedModels/generate-num-1194 does not exist. [detail: \"[ORIGINAL ERROR] generic::not_found: Tuned model tunedModels/generate-num-1194 does not exist. [google.rpc.error_details_ext] { message: \\\"Tuned model tunedModels/generate-num-1194 does not exist.\\\" }\"\n",
      "]\n"
     ]
    }
   ],
   "source": [
    "try:\n",
    "  m = genai.get_tuned_model(f'tunedModels/{name}')\n",
    "  print(m)\n",
    "except Exception as e:\n",
    "  print(f\"{type(e)}: {e}\")"
   ]
  },
  {
   "cell_type": "markdown",
   "id": "7de31f3f-3dbc-4046-9a7d-087a37f5779d",
   "metadata": {},
   "source": [
    "## <b><font color='darkblue'>Supplement</font></b>\n",
    "* [Gemini API: OAuth Quickstart](https://github.com/google-gemini/cookbook/blob/main/quickstarts/Authentication_with_OAuth.ipynb)\n",
    "* [Install the Google Cloud CLI](https://cloud.google.com/sdk/docs/install-sdk)"
   ]
  }
 ],
 "metadata": {
  "kernelspec": {
   "display_name": "Python 3 (ipykernel)",
   "language": "python",
   "name": "python3"
  },
  "language_info": {
   "codemirror_mode": {
    "name": "ipython",
    "version": 3
   },
   "file_extension": ".py",
   "mimetype": "text/x-python",
   "name": "python",
   "nbconvert_exporter": "python",
   "pygments_lexer": "ipython3",
   "version": "3.11.9"
  }
 },
 "nbformat": 4,
 "nbformat_minor": 5
}
