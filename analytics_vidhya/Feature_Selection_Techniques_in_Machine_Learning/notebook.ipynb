{
 "cells": [
  {
   "cell_type": "markdown",
   "id": "eeffce7c",
   "metadata": {},
   "source": [
    "## <font color='darkblue'>Preface</font>\n",
    "([article source](https://www.analyticsvidhya.com/blog/2020/10/feature-selection-techniques-in-machine-learning/)) <font size='3ptx'><b>When building a machine learning model in real-life, it’s almost rare that all the variables in the dataset are useful to build a model. Adding redundant variables reduces the generalization capability of the model and may also reduce the overall accuracy of a classifier.</b></font>\n",
    "\n",
    "Furthermore adding more and more variables to a model increases the overall complexity of the model. As per the Law of Parsimony of ‘[Occam’s Razor](https://en.wikipedia.org/wiki/Occam%27s_razor)’, **the best explanation to a problem is that which involves the fewest possible assumptions. Thus, <font color='darkblue'>feature selection</font> becomes an indispensable part of building machine learning models.**"
   ]
  },
  {
   "cell_type": "markdown",
   "id": "5ee18eb1",
   "metadata": {},
   "source": [
    "<a id='sect0'></a>\n",
    "### <font color='darkgreen'>Goal</font>\n",
    "<font size='3ptx'><b>The goal of feature selection in machine learning is to find the best set of features that allows one to build useful models of studied phenomena.</b></font>\n",
    "\n",
    "The techniques for feature selection in machine learning can be broadly classified into the following categories:\n",
    "* **Supervised Techniques**: These techniques can be used for labeled data, and are used to identify the relevant features for increasing the efficiency of supervised models like classification and regression.\n",
    "* **Unsupervised Techniques**: These techniques can be used for unlabeled data.\n",
    "\n",
    "From a taxonomic point of view, these techniques are classified as under:\n",
    "1. <font size='3ptx'><b><a href='#sect1'>Filter methods</a></b></font>\n",
    "2. <font size='3ptx'><b><a href='#sect2'>Wrapper methods</a></b></font>\n",
    "3. <font size='3ptx'><b><a href='#sect3'>Embedded methods</a></b></font>\n",
    "\n",
    "In this article, we will discuss some popular techniques of feature selection in machine learning."
   ]
  },
  {
   "cell_type": "code",
   "execution_count": 1,
   "id": "73f40c6e",
   "metadata": {},
   "outputs": [],
   "source": [
    "#!pip install skfeature\n",
    "#!pip install mlxtend"
   ]
  },
  {
   "cell_type": "code",
   "execution_count": 49,
   "id": "74368f7b",
   "metadata": {},
   "outputs": [
    {
     "data": {
      "application/javascript": [
       "IPython.OutputArea.prototype._should_scroll = function(lines) {\n",
       "    return false;\n",
       "}\n"
      ],
      "text/plain": [
       "<IPython.core.display.Javascript object>"
      ]
     },
     "metadata": {},
     "output_type": "display_data"
    }
   ],
   "source": [
    "%%javascript\n",
    "IPython.OutputArea.prototype._should_scroll = function(lines) {\n",
    "    return false;\n",
    "}"
   ]
  },
  {
   "cell_type": "markdown",
   "id": "6553f193",
   "metadata": {},
   "source": [
    "### <font color='darkgreen'>Dataset</font>"
   ]
  },
  {
   "cell_type": "code",
   "execution_count": 2,
   "id": "72688581",
   "metadata": {},
   "outputs": [],
   "source": [
    "from mlxtend.feature_selection import SequentialFeatureSelector, ExhaustiveFeatureSelector\n",
    "from sklearn.datasets import load_iris, load_diabetes, load_breast_cancer\n",
    "from sklearn.feature_selection import mutual_info_classif\n",
    "from sklearn.feature_selection import SelectKBest\n",
    "from sklearn.feature_selection import chi2\n",
    "from sklearn.feature_selection import VarianceThreshold\n",
    "from sklearn.feature_selection import RFE\n",
    "from sklearn.feature_selection import SelectFromModel\n",
    "from sklearn.linear_model import LogisticRegression, LogisticRegressionCV\n",
    "from sklearn.ensemble import RandomForestClassifier\n",
    "from sklearn.metrics import mean_absolute_error, accuracy_score\n",
    "import matplotlib.pyplot as plt\n",
    "import seaborn as sns\n",
    "from construct_W import construct_W\n",
    "import pandas as pd\n",
    "import numpy as np \n",
    "from scipy.sparse import *\n",
    "import warnings\n",
    "warnings.filterwarnings('ignore')\n",
    "\n",
    "%matplotlib inline"
   ]
  },
  {
   "cell_type": "code",
   "execution_count": 3,
   "id": "2ec1e65d",
   "metadata": {},
   "outputs": [],
   "source": [
    "iris_data = load_iris()\n",
    "X, y = iris_data.data, iris_data.target"
   ]
  },
  {
   "cell_type": "code",
   "execution_count": 4,
   "id": "363c93f4",
   "metadata": {},
   "outputs": [
    {
     "data": {
      "text/plain": [
       "['sepal length (cm)',\n",
       " 'sepal width (cm)',\n",
       " 'petal length (cm)',\n",
       " 'petal width (cm)']"
      ]
     },
     "execution_count": 4,
     "metadata": {},
     "output_type": "execute_result"
    }
   ],
   "source": [
    "iris_data.feature_names"
   ]
  },
  {
   "cell_type": "code",
   "execution_count": 5,
   "id": "8a2fb329",
   "metadata": {},
   "outputs": [],
   "source": [
    "diab_data = load_diabetes()\n",
    "X_diab, y_diab = diab_data.data, diab_data.target"
   ]
  },
  {
   "cell_type": "code",
   "execution_count": 6,
   "id": "89e9e042",
   "metadata": {},
   "outputs": [
    {
     "data": {
      "text/plain": [
       "['age', 'sex', 'bmi', 'bp', 's1', 's2', 's3', 's4', 's5', 's6']"
      ]
     },
     "execution_count": 6,
     "metadata": {},
     "output_type": "execute_result"
    }
   ],
   "source": [
    "diab_data.feature_names"
   ]
  },
  {
   "cell_type": "code",
   "execution_count": 7,
   "id": "b0018705",
   "metadata": {},
   "outputs": [],
   "source": [
    "bc_data = load_breast_cancer()\n",
    "X_bc, y_bc = bc_data.data, bc_data.target"
   ]
  },
  {
   "cell_type": "code",
   "execution_count": 8,
   "id": "41cbf2a6",
   "metadata": {},
   "outputs": [
    {
     "data": {
      "text/plain": [
       "array(['mean radius', 'mean texture', 'mean perimeter', 'mean area',\n",
       "       'mean smoothness', 'mean compactness', 'mean concavity',\n",
       "       'mean concave points', 'mean symmetry', 'mean fractal dimension',\n",
       "       'radius error', 'texture error', 'perimeter error', 'area error',\n",
       "       'smoothness error', 'compactness error', 'concavity error',\n",
       "       'concave points error', 'symmetry error',\n",
       "       'fractal dimension error', 'worst radius', 'worst texture',\n",
       "       'worst perimeter', 'worst area', 'worst smoothness',\n",
       "       'worst compactness', 'worst concavity', 'worst concave points',\n",
       "       'worst symmetry', 'worst fractal dimension'], dtype='<U23')"
      ]
     },
     "execution_count": 8,
     "metadata": {},
     "output_type": "execute_result"
    }
   ],
   "source": [
    "bc_data.feature_names"
   ]
  },
  {
   "cell_type": "markdown",
   "id": "83d9ebc1",
   "metadata": {},
   "source": [
    "<a id='sect1'></a>\n",
    "## <font color='darkblue'>Filter methods</font>\n",
    "* <font size='3ptx'><b><a href='#sect1_1'>Information Gain</a></b></font>\n",
    "* <font size='3ptx'><b><a href='#sect1_2'>Chi-square Test</a></b></font>\n",
    "* <font size='3ptx'><b><a href='#sect1_3'>Fisher’s Score</a></b></font>\n",
    "* <font size='3ptx'><b><a href='#sect1_4'>Correlation Coefficient</a></b></font>\n",
    "* <font size='3ptx'><b><a href='#sect1_5'>Variance Threshold</a></b></font>\n",
    "* <font size='3ptx'><b><a href='#sect1_6'>Mean Absolute Difference (MAD)</a></b></font>\n",
    "<br/>\n",
    "\n",
    "<font size='3ptx'><b>Filter methods pick up the intrinsic properties of the features measured via univariate statistics instead of cross-validation performance. </b></font>\n",
    "\n",
    "<font color='darkgreen'><b>These methods are faster and less computationally expensive than wrapper methods</b></font>. When dealing with high-dimensional data, it is computationally cheaper to use filter methods. Let’s, discuss some of these techniques:"
   ]
  },
  {
   "cell_type": "markdown",
   "id": "e571386e",
   "metadata": {},
   "source": [
    "<a id='sect1_1'></a>\n",
    "### <font color='darkgreen'>Information Gain</font>\n",
    "<b>Information gain calculates the reduction in entropy from the transformation of a dataset</b>. It can be used for feature selection by evaluating the Information gain of each variable in the context of the target variable."
   ]
  },
  {
   "cell_type": "code",
   "execution_count": 9,
   "id": "ed117630",
   "metadata": {},
   "outputs": [
    {
     "data": {
      "text/plain": [
       "array([0.50717134, 0.2136381 , 0.9988554 , 0.98429578])"
      ]
     },
     "execution_count": 9,
     "metadata": {},
     "output_type": "execute_result"
    }
   ],
   "source": [
    "importances = mutual_info_classif(X, y)\n",
    "importances"
   ]
  },
  {
   "cell_type": "code",
   "execution_count": 10,
   "id": "929f573c",
   "metadata": {},
   "outputs": [
    {
     "data": {
      "image/png": "[encoded data removed]",
      "text/plain": [
       "<Figure size 432x288 with 1 Axes>"
      ]
     },
     "metadata": {
      "needs_background": "light"
     },
     "output_type": "display_data"
    }
   ],
   "source": [
    "feat_importances = pd.Series(importances, iris_data.feature_names)\n",
    "feat_importances.plot(kind='barh', color='teal')\n",
    "plt.show()"
   ]
  },
  {
   "cell_type": "markdown",
   "id": "0dbc5bd2",
   "metadata": {},
   "source": [
    "<a id='sect1_2'></a>\n",
    "### <font color='darkgreen'>Chi-square Test</font>\n",
    "**The [Chi-square test](https://en.wikipedia.org/wiki/Chi-squared_test) is used for categorical features in a dataset**.\n",
    "\n",
    "We calculate Chi-square between each feature and the target and select the desired number of features with the best Chi-square scores. In order to correctly apply the chi-squared in order to test the relation between various features in the dataset and the target variable, <b><font color='orange'>the following conditions have to be met: the variables have to be categorical, sampled independently and values should have an expected frequency greater than 5</font></b>."
   ]
  },
  {
   "cell_type": "code",
   "execution_count": 11,
   "id": "efd63be4",
   "metadata": {},
   "outputs": [
    {
     "name": "stdout",
     "output_type": "stream",
     "text": [
      "Original dataset shape=(150, 4)\n",
      "New dataset shape=(150, 2)\n"
     ]
    }
   ],
   "source": [
    "# Check sklearn.feature_selection.chi2 for details\n",
    "X_new = SelectKBest(chi2, k=2).fit_transform(X, y)\n",
    "print(f'Original dataset shape={X.shape}')\n",
    "print(f'New dataset shape={X_new.shape}')"
   ]
  },
  {
   "cell_type": "markdown",
   "id": "73d1d8a4",
   "metadata": {},
   "source": [
    "<a id='sect1_3'></a>\n",
    "### <font color='darkgreen'>Fisher’s Score</font>\n",
    "**[Fisher score](https://github.com/jundongl/scikit-feature/blob/master/skfeature/function/similarity_based/fisher_score.py) is one of the most widely used supervised feature selection methods.**\n",
    "\n",
    "The algorithm which we will use returns the ranks of the variables based on the fisher’s score in descending order. We can then select the variables as per the case. We just port the fisher score here for quick reference. You can refer to [`scikit-feature`](https://github.com/jundongl/scikit-feature) for more information:"
   ]
  },
  {
   "cell_type": "code",
   "execution_count": 12,
   "id": "b0ce9995",
   "metadata": {},
   "outputs": [],
   "source": [
    "def fisher_score(X, y):\n",
    "    \"\"\"\n",
    "    This function implements the fisher score feature selection, steps are as follows:\n",
    "    1. Construct the affinity matrix W in fisher score way\n",
    "    2. For the r-th feature, we define fr = X(:,r), D = diag(W*ones), ones = [1,...,1]', L = D - W\n",
    "    3. Let fr_hat = fr - (fr'*D*ones)*ones/(ones'*D*ones)\n",
    "    4. Fisher score for the r-th feature is score = (fr_hat'*D*fr_hat)/(fr_hat'*L*fr_hat)-1\n",
    "    Input\n",
    "    -----\n",
    "    X: {numpy array}, shape (n_samples, n_features)\n",
    "        input data\n",
    "    y: {numpy array}, shape (n_samples,)\n",
    "        input class labels\n",
    "    Output\n",
    "    ------\n",
    "    score: {numpy array}, shape (n_features,)\n",
    "        fisher score for each feature\n",
    "    Reference\n",
    "    ---------\n",
    "    He, Xiaofei et al. \"Laplacian Score for Feature Selection.\" NIPS 2005.\n",
    "    Duda, Richard et al. \"Pattern classification.\" John Wiley & Sons, 2012.\n",
    "    \"\"\"\n",
    "\n",
    "    # Construct weight matrix W in a fisherScore way\n",
    "    kwargs = {\"neighbor_mode\": \"supervised\", \"fisher_score\": True, 'y': y}\n",
    "    W = construct_W(X, **kwargs)\n",
    "\n",
    "    # build the diagonal D matrix from affinity matrix W\n",
    "    D = np.array(W.sum(axis=1))\n",
    "    L = W\n",
    "    tmp = np.dot(np.transpose(D), X)\n",
    "    D = diags(np.transpose(D), [0])\n",
    "    Xt = np.transpose(X)\n",
    "    t1 = np.transpose(np.dot(Xt, D.todense()))\n",
    "    t2 = np.transpose(np.dot(Xt, L.todense()))\n",
    "    # compute the numerator of Lr\n",
    "    D_prime = np.sum(np.multiply(t1, X), 0) - np.multiply(tmp, tmp)/D.sum()\n",
    "    # compute the denominator of Lr\n",
    "    L_prime = np.sum(np.multiply(t2, X), 0) - np.multiply(tmp, tmp)/D.sum()\n",
    "    # avoid the denominator of Lr to be 0\n",
    "    D_prime[D_prime < 1e-12] = 10000\n",
    "    lap_score = 1 - np.array(np.multiply(L_prime, 1/D_prime))[0, :]\n",
    "\n",
    "    # compute fisher score from laplacian score, where fisher_score = 1/lap_score - 1\n",
    "    score = 1.0/lap_score - 1\n",
    "    return np.transpose(score)"
   ]
  },
  {
   "cell_type": "code",
   "execution_count": 13,
   "id": "4bc8f90a",
   "metadata": {},
   "outputs": [
    {
     "data": {
      "image/png": "[encoded data removed]",
      "text/plain": [
       "<Figure size 432x288 with 1 Axes>"
      ]
     },
     "metadata": {
      "needs_background": "light"
     },
     "output_type": "display_data"
    }
   ],
   "source": [
    "ranks = fisher_score(X, y)\n",
    "\n",
    "# Plotting the ranks\n",
    "feat_importances = pd.Series(ranks, iris_data.feature_names)\n",
    "feat_importances.plot(kind='barh', color='teal')\n",
    "plt.show()"
   ]
  },
  {
   "cell_type": "markdown",
   "id": "7ab3f6fd",
   "metadata": {},
   "source": [
    "<a id='sect1_4'></a>\n",
    "### <font color='darkgreen'>Correlation Coefficient</font>\n",
    "**Correlation is a measure of the linear relationship of 2 or more variables.**\n",
    "\n",
    "Through correlation, we can predict one variable from the other. The logic behind using correlation for feature selection is that the good variables are highly correlated with the target. Furthermore, variables should be correlated with the target but should be uncorrelated among themselves.\n",
    "\n",
    "If two variables are correlated, we can predict one from the other. Therefore, if two features are correlated, the model only really needs one of them, as the second one does not add additional information. We will use the [**Pearson Correlation**](https://en.wikipedia.org/wiki/Pearson_correlation_coefficient) here."
   ]
  },
  {
   "cell_type": "code",
   "execution_count": 14,
   "id": "7671c7ca",
   "metadata": {},
   "outputs": [
    {
     "data": {
      "text/plain": [
       "<AxesSubplot:>"
      ]
     },
     "execution_count": 14,
     "metadata": {},
     "output_type": "execute_result"
    },
    {
     "data": {
      "image/png": "[encoded data removed]",
      "text/plain": [
       "<Figure size 720x432 with 2 Axes>"
      ]
     },
     "metadata": {
      "needs_background": "light"
     },
     "output_type": "display_data"
    }
   ],
   "source": [
    "iris_df = pd.DataFrame(X, columns=iris_data.feature_names)\n",
    "iris_df['target'] = y\n",
    "corr = iris_df.corr()\n",
    "\n",
    "# Plotting Heatmap. Check Pearson correlation between `target` and other column(s)\n",
    "plt.figure(figsize=(10, 6))\n",
    "sns.heatmap(corr, annot=True)"
   ]
  },
  {
   "cell_type": "markdown",
   "id": "1e84b79a",
   "metadata": {},
   "source": [
    "We need to set an absolute value, say 0.5 as the threshold for selecting the variables. <b>If we find that the predictor variables are correlated among themselves, we can drop the variable which has a lower correlation coefficient value with the target variable</b>. We can also compute multiple correlation coefficients to check whether more than two variables are correlated to each other. This phenomenon is known as [**multicollinearity**](https://en.wikipedia.org/wiki/Multicollinearity)."
   ]
  },
  {
   "cell_type": "markdown",
   "id": "e079bea9",
   "metadata": {},
   "source": [
    "<a id='sect1_5'></a>\n",
    "### <font color='darkgreen'>Variance Threshold</font>\n",
    "**The variance threshold is a simple baseline approach to feature selection.**\n",
    "\n",
    "It removes all features which variance doesn’t meet some threshold. By default, it removes all zero-variance features, i.e., features that have the same value in all samples. <font color='darkred'><b>We assume that features with a higher variance may contain more useful information, but note that we are not taking the relationship between feature variables or feature and target variables into account, which is one of the drawbacks of filter methods</b></font>."
   ]
  },
  {
   "cell_type": "code",
   "execution_count": 15,
   "id": "24ab4877",
   "metadata": {},
   "outputs": [
    {
     "data": {
      "text/plain": [
       "array([ True,  True,  True,  True, False])"
      ]
     },
     "execution_count": 15,
     "metadata": {},
     "output_type": "execute_result"
    }
   ],
   "source": [
    "iris_df = pd.DataFrame(X, columns=iris_data.feature_names)\n",
    "iris_df['zero_variance'] = [0] * iris_df.shape[0]\n",
    "\n",
    "v_threshold = VarianceThreshold(threshold=0)\n",
    "v_threshold.fit(iris_df.to_numpy())\n",
    "\n",
    "# The last one has zero variance and therefore it will\n",
    "# be False.\n",
    "v_threshold.get_support()"
   ]
  },
  {
   "cell_type": "markdown",
   "id": "21dd6a8c",
   "metadata": {},
   "source": [
    "The <font color='blue'>get_support</font> returns a Boolean vector where True means that the variable does not have zero variance."
   ]
  },
  {
   "cell_type": "markdown",
   "id": "7a93aef5",
   "metadata": {},
   "source": [
    "<a id='sect1_6'></a>\n",
    "### <font color='darkgreen'>Mean Absolute Difference (MAD)</font>\n",
    "**The mean absolute difference (MAD) computes the absolute difference from the mean value.** \n",
    "\n",
    "The main difference between the variance and MAD measures is the absence of the square in the latter. The MAD, like the variance, is also a scale variant. This means that higher the MAD, higher the discriminatory power."
   ]
  },
  {
   "cell_type": "code",
   "execution_count": 16,
   "id": "47fb2ffa",
   "metadata": {},
   "outputs": [
    {
     "data": {
      "text/html": [
       "<div>\n",
       "<style scoped>\n",
       "    .dataframe tbody tr th:only-of-type {\n",
       "        vertical-align: middle;\n",
       "    }\n",
       "\n",
       "    .dataframe tbody tr th {\n",
       "        vertical-align: top;\n",
       "    }\n",
       "\n",
       "    .dataframe thead th {\n",
       "        text-align: right;\n",
       "    }\n",
       "</style>\n",
       "<table border=\"1\" class=\"dataframe\">\n",
       "  <thead>\n",
       "    <tr style=\"text-align: right;\">\n",
       "      <th></th>\n",
       "      <th>age</th>\n",
       "      <th>sex</th>\n",
       "      <th>bmi</th>\n",
       "      <th>bp</th>\n",
       "      <th>s1</th>\n",
       "      <th>s2</th>\n",
       "      <th>s3</th>\n",
       "      <th>s4</th>\n",
       "      <th>s5</th>\n",
       "      <th>s6</th>\n",
       "    </tr>\n",
       "  </thead>\n",
       "  <tbody>\n",
       "    <tr>\n",
       "      <th>count</th>\n",
       "      <td>4.420000e+02</td>\n",
       "      <td>4.420000e+02</td>\n",
       "      <td>4.420000e+02</td>\n",
       "      <td>4.420000e+02</td>\n",
       "      <td>4.420000e+02</td>\n",
       "      <td>4.420000e+02</td>\n",
       "      <td>4.420000e+02</td>\n",
       "      <td>4.420000e+02</td>\n",
       "      <td>4.420000e+02</td>\n",
       "      <td>4.420000e+02</td>\n",
       "    </tr>\n",
       "    <tr>\n",
       "      <th>mean</th>\n",
       "      <td>-3.634285e-16</td>\n",
       "      <td>1.308343e-16</td>\n",
       "      <td>-8.045349e-16</td>\n",
       "      <td>1.281655e-16</td>\n",
       "      <td>-8.835316e-17</td>\n",
       "      <td>1.327024e-16</td>\n",
       "      <td>-4.574646e-16</td>\n",
       "      <td>3.777301e-16</td>\n",
       "      <td>-3.830854e-16</td>\n",
       "      <td>-3.412882e-16</td>\n",
       "    </tr>\n",
       "    <tr>\n",
       "      <th>std</th>\n",
       "      <td>4.761905e-02</td>\n",
       "      <td>4.761905e-02</td>\n",
       "      <td>4.761905e-02</td>\n",
       "      <td>4.761905e-02</td>\n",
       "      <td>4.761905e-02</td>\n",
       "      <td>4.761905e-02</td>\n",
       "      <td>4.761905e-02</td>\n",
       "      <td>4.761905e-02</td>\n",
       "      <td>4.761905e-02</td>\n",
       "      <td>4.761905e-02</td>\n",
       "    </tr>\n",
       "    <tr>\n",
       "      <th>min</th>\n",
       "      <td>-1.072256e-01</td>\n",
       "      <td>-4.464164e-02</td>\n",
       "      <td>-9.027530e-02</td>\n",
       "      <td>-1.123996e-01</td>\n",
       "      <td>-1.267807e-01</td>\n",
       "      <td>-1.156131e-01</td>\n",
       "      <td>-1.023071e-01</td>\n",
       "      <td>-7.639450e-02</td>\n",
       "      <td>-1.260974e-01</td>\n",
       "      <td>-1.377672e-01</td>\n",
       "    </tr>\n",
       "    <tr>\n",
       "      <th>25%</th>\n",
       "      <td>-3.729927e-02</td>\n",
       "      <td>-4.464164e-02</td>\n",
       "      <td>-3.422907e-02</td>\n",
       "      <td>-3.665645e-02</td>\n",
       "      <td>-3.424784e-02</td>\n",
       "      <td>-3.035840e-02</td>\n",
       "      <td>-3.511716e-02</td>\n",
       "      <td>-3.949338e-02</td>\n",
       "      <td>-3.324879e-02</td>\n",
       "      <td>-3.317903e-02</td>\n",
       "    </tr>\n",
       "    <tr>\n",
       "      <th>50%</th>\n",
       "      <td>5.383060e-03</td>\n",
       "      <td>-4.464164e-02</td>\n",
       "      <td>-7.283766e-03</td>\n",
       "      <td>-5.670611e-03</td>\n",
       "      <td>-4.320866e-03</td>\n",
       "      <td>-3.819065e-03</td>\n",
       "      <td>-6.584468e-03</td>\n",
       "      <td>-2.592262e-03</td>\n",
       "      <td>-1.947634e-03</td>\n",
       "      <td>-1.077698e-03</td>\n",
       "    </tr>\n",
       "    <tr>\n",
       "      <th>75%</th>\n",
       "      <td>3.807591e-02</td>\n",
       "      <td>5.068012e-02</td>\n",
       "      <td>3.124802e-02</td>\n",
       "      <td>3.564384e-02</td>\n",
       "      <td>2.835801e-02</td>\n",
       "      <td>2.984439e-02</td>\n",
       "      <td>2.931150e-02</td>\n",
       "      <td>3.430886e-02</td>\n",
       "      <td>3.243323e-02</td>\n",
       "      <td>2.791705e-02</td>\n",
       "    </tr>\n",
       "    <tr>\n",
       "      <th>max</th>\n",
       "      <td>1.107267e-01</td>\n",
       "      <td>5.068012e-02</td>\n",
       "      <td>1.705552e-01</td>\n",
       "      <td>1.320442e-01</td>\n",
       "      <td>1.539137e-01</td>\n",
       "      <td>1.987880e-01</td>\n",
       "      <td>1.811791e-01</td>\n",
       "      <td>1.852344e-01</td>\n",
       "      <td>1.335990e-01</td>\n",
       "      <td>1.356118e-01</td>\n",
       "    </tr>\n",
       "  </tbody>\n",
       "</table>\n",
       "</div>"
      ],
      "text/plain": [
       "                age           sex           bmi            bp            s1  \\\n",
       "count  4.420000e+02  4.420000e+02  4.420000e+02  4.420000e+02  4.420000e+02   \n",
       "mean  -3.634285e-16  1.308343e-16 -8.045349e-16  1.281655e-16 -8.835316e-17   \n",
       "std    4.761905e-02  4.761905e-02  4.761905e-02  4.761905e-02  4.761905e-02   \n",
       "min   -1.072256e-01 -4.464164e-02 -9.027530e-02 -1.123996e-01 -1.267807e-01   \n",
       "25%   -3.729927e-02 -4.464164e-02 -3.422907e-02 -3.665645e-02 -3.424784e-02   \n",
       "50%    5.383060e-03 -4.464164e-02 -7.283766e-03 -5.670611e-03 -4.320866e-03   \n",
       "75%    3.807591e-02  5.068012e-02  3.124802e-02  3.564384e-02  2.835801e-02   \n",
       "max    1.107267e-01  5.068012e-02  1.705552e-01  1.320442e-01  1.539137e-01   \n",
       "\n",
       "                 s2            s3            s4            s5            s6  \n",
       "count  4.420000e+02  4.420000e+02  4.420000e+02  4.420000e+02  4.420000e+02  \n",
       "mean   1.327024e-16 -4.574646e-16  3.777301e-16 -3.830854e-16 -3.412882e-16  \n",
       "std    4.761905e-02  4.761905e-02  4.761905e-02  4.761905e-02  4.761905e-02  \n",
       "min   -1.156131e-01 -1.023071e-01 -7.639450e-02 -1.260974e-01 -1.377672e-01  \n",
       "25%   -3.035840e-02 -3.511716e-02 -3.949338e-02 -3.324879e-02 -3.317903e-02  \n",
       "50%   -3.819065e-03 -6.584468e-03 -2.592262e-03 -1.947634e-03 -1.077698e-03  \n",
       "75%    2.984439e-02  2.931150e-02  3.430886e-02  3.243323e-02  2.791705e-02  \n",
       "max    1.987880e-01  1.811791e-01  1.852344e-01  1.335990e-01  1.356118e-01  "
      ]
     },
     "execution_count": 16,
     "metadata": {},
     "output_type": "execute_result"
    }
   ],
   "source": [
    "diab_df = pd.DataFrame(X_diab, columns=diab_data.feature_names)\n",
    "diab_df.describe()"
   ]
  },
  {
   "cell_type": "code",
   "execution_count": 17,
   "id": "e55712e2",
   "metadata": {},
   "outputs": [
    {
     "data": {
      "text/plain": [
       "array([0.0392948 , 0.04746961, 0.03835843, 0.0392822 , 0.03736655,\n",
       "       0.03748822, 0.03751766, 0.03710344, 0.03873332, 0.03704057])"
      ]
     },
     "execution_count": 17,
     "metadata": {},
     "output_type": "execute_result"
    }
   ],
   "source": [
    "mean_abs_diff = np.sum(np.abs(X_diab-np.mean(X_diab, axis=0)), axis=0) / X_diab.shape[0]\n",
    "\n",
    "mean_abs_diff"
   ]
  },
  {
   "cell_type": "code",
   "execution_count": 18,
   "id": "132d3064",
   "metadata": {},
   "outputs": [
    {
     "data": {
      "text/plain": [
       "<BarContainer object of 10 artists>"
      ]
     },
     "execution_count": 18,
     "metadata": {},
     "output_type": "execute_result"
    },
    {
     "data": {
      "image/png": "[encoded data removed]",
      "text/plain": [
       "<Figure size 432x288 with 1 Axes>"
      ]
     },
     "metadata": {
      "needs_background": "light"
     },
     "output_type": "display_data"
    }
   ],
   "source": [
    "# Plot the barchart\n",
    "plt.bar(np.arange(X_diab.shape[1]), mean_abs_diff, color='teal', tick_label=diab_data.feature_names)"
   ]
  },
  {
   "cell_type": "markdown",
   "id": "e6590ef0",
   "metadata": {},
   "source": [
    "<a id='sect2'></a>\n",
    "## <font color='darkblue'>Wrapper Methods</font>\n",
    "* <font size='3ptx'><b><a href='#sect2_1'>Forward Feature Selection</a></b></font>\n",
    "* <font size='3ptx'><b><a href='#sect2_2'>Backward Feature Elimination</a></b></font>\n",
    "* <font size='3ptx'><b><a href='#sect2_3'>Exhaustive Feature Selection</a></b></font>\n",
    "* <font size='3ptx'><b><a href='#sect2_4'>Recursive Feature Eliminaiton</a></b></font>\n",
    "<br/>\n",
    "\n",
    "<font size='3ptx'><b>Wrappers require some method to search the space of all possible subsets of features, assessing their quality by learning and evaluating a classifier with that feature subset. </b></font>\n",
    "\n",
    "The feature selection process is based on a specific machine learning algorithm that we are trying to fit on a given dataset. <b>It follows a greedy search approach by evaluating all the possible combinations of features against the evaluation criterion</b>. <font color='darkgreen'><b>The wrapper methods usually result in better predictive accuracy than filter methods.</b></font>"
   ]
  },
  {
   "cell_type": "markdown",
   "id": "b77fc904",
   "metadata": {},
   "source": [
    "<a id='sect2_1'></a>\n",
    "### <font color='darkgreen'>Forward Feature Selection</font>\n",
    "This is an iterative method wherein we start with the best performing variable against the target. Next, we select another variable that gives the best performance in combination with the first selected variable. This process continues until the preset criterion is achieved."
   ]
  },
  {
   "cell_type": "code",
   "execution_count": 19,
   "id": "6b574042",
   "metadata": {},
   "outputs": [
    {
     "data": {
      "text/plain": [
       "SequentialFeatureSelector(estimator=LogisticRegression(), k_features='best',\n",
       "                          n_jobs=-1)"
      ]
     },
     "execution_count": 19,
     "metadata": {},
     "output_type": "execute_result"
    }
   ],
   "source": [
    "diab_df = pd.DataFrame(X_diab, columns=diab_data.feature_names)\n",
    "\n",
    "lr = LogisticRegression()\n",
    "ffs = SequentialFeatureSelector(lr, k_features='best', forward=True, n_jobs=-1)\n",
    "ffs.fit(X_diab, y_diab)"
   ]
  },
  {
   "cell_type": "code",
   "execution_count": 20,
   "id": "161cd38e",
   "metadata": {},
   "outputs": [
    {
     "name": "stdout",
     "output_type": "stream",
     "text": [
      "Original MSE: 54.74\n"
     ]
    }
   ],
   "source": [
    "lr.fit(X_diab, y_diab)\n",
    "y_pred = lr.predict(X_diab)\n",
    "print(f\"Original MSE: {mean_absolute_error(y_diab, y_pred):.02f}\")"
   ]
  },
  {
   "cell_type": "code",
   "execution_count": 21,
   "id": "c0015dde",
   "metadata": {},
   "outputs": [
    {
     "data": {
      "text/plain": [
       "[8]"
      ]
     },
     "execution_count": 21,
     "metadata": {},
     "output_type": "execute_result"
    }
   ],
   "source": [
    "features = list(ffs.k_feature_names_)\n",
    "features = list(map(int, features))\n",
    "features"
   ]
  },
  {
   "cell_type": "code",
   "execution_count": 22,
   "id": "f99ba186",
   "metadata": {},
   "outputs": [
    {
     "data": {
      "text/plain": [
       "(442, 1)"
      ]
     },
     "execution_count": 22,
     "metadata": {},
     "output_type": "execute_result"
    }
   ],
   "source": [
    "X_diag_new = diab_df.iloc[:, features].to_numpy()\n",
    "X_diag_new.shape"
   ]
  },
  {
   "cell_type": "code",
   "execution_count": 23,
   "id": "9190b60d",
   "metadata": {},
   "outputs": [
    {
     "name": "stdout",
     "output_type": "stream",
     "text": [
      "After feature selection: 55.31\n"
     ]
    }
   ],
   "source": [
    "lr.fit(X_diag_new, y_diab)\n",
    "y_pred = lr.predict(X_diag_new)\n",
    "print(f'After feature selection: {mean_absolute_error(y_diab, y_pred):.02f}')"
   ]
  },
  {
   "cell_type": "markdown",
   "id": "75bee596",
   "metadata": {},
   "source": [
    "<a id='sect2_2'></a>\n",
    "### <font color='darkgreen'>Backward Feature Elimination</font> ([back](#sect2))\n",
    "This method works exactly opposite to the Forward Feature Selection method. Here, we start with all the features available and build a model. Next, we the variable from the model which gives the best evaluation measure value. This process is continued until the preset criterion is achieved."
   ]
  },
  {
   "cell_type": "code",
   "execution_count": 24,
   "id": "fea6114a",
   "metadata": {},
   "outputs": [
    {
     "data": {
      "text/plain": [
       "LogisticRegressionCV(max_iter=500, random_state=42)"
      ]
     },
     "execution_count": 24,
     "metadata": {},
     "output_type": "execute_result"
    }
   ],
   "source": [
    "lr = LogisticRegressionCV(random_state=42, max_iter=500)\n",
    "lr.fit(X, y)"
   ]
  },
  {
   "cell_type": "code",
   "execution_count": 25,
   "id": "ebb45ab6",
   "metadata": {},
   "outputs": [
    {
     "name": "stdout",
     "output_type": "stream",
     "text": [
      "Base accuracy: 98.00\n"
     ]
    }
   ],
   "source": [
    "y_pred = lr.predict(X)\n",
    "acc_pert = 100 * accuracy_score(y, y_pred)\n",
    "print(f'Base accuracy: {acc_pert:.02f}')"
   ]
  },
  {
   "cell_type": "code",
   "execution_count": 26,
   "id": "580bdd82",
   "metadata": {},
   "outputs": [
    {
     "name": "stdout",
     "output_type": "stream",
     "text": [
      "CPU times: user 6.28 s, sys: 4.47 ms, total: 6.28 s\n",
      "Wall time: 15.6 s\n"
     ]
    },
    {
     "data": {
      "text/plain": [
       "SequentialFeatureSelector(estimator=LogisticRegressionCV(max_iter=500,\n",
       "                                                         random_state=42),\n",
       "                          forward=False, k_features=2, n_jobs=-1)"
      ]
     },
     "execution_count": 26,
     "metadata": {},
     "output_type": "execute_result"
    }
   ],
   "source": [
    "%%time\n",
    "# Select 50% of features\n",
    "bfs = SequentialFeatureSelector(\n",
    "    lr, k_features=int(X.shape[1]*0.5), forward=False, n_jobs=-1)\n",
    "bfs.fit(X, y)"
   ]
  },
  {
   "cell_type": "code",
   "execution_count": 27,
   "id": "b0336326",
   "metadata": {},
   "outputs": [
    {
     "data": {
      "text/plain": [
       "[2, 3]"
      ]
     },
     "execution_count": 27,
     "metadata": {},
     "output_type": "execute_result"
    }
   ],
   "source": [
    "features = list(bfs.k_feature_names_)\n",
    "features = list(map(int, features))\n",
    "features"
   ]
  },
  {
   "cell_type": "code",
   "execution_count": 28,
   "id": "d701f685",
   "metadata": {},
   "outputs": [
    {
     "data": {
      "text/plain": [
       "(150, 2)"
      ]
     },
     "execution_count": 28,
     "metadata": {},
     "output_type": "execute_result"
    }
   ],
   "source": [
    "X_df = pd.DataFrame(X, columns=iris_data.feature_names)\n",
    "X_new = X_df.iloc[:, features].to_numpy()\n",
    "X_new.shape"
   ]
  },
  {
   "cell_type": "code",
   "execution_count": 29,
   "id": "1a671184",
   "metadata": {},
   "outputs": [
    {
     "data": {
      "text/plain": [
       "LogisticRegressionCV(max_iter=500, random_state=42)"
      ]
     },
     "execution_count": 29,
     "metadata": {},
     "output_type": "execute_result"
    }
   ],
   "source": [
    "lr.fit(X_new, y)"
   ]
  },
  {
   "cell_type": "code",
   "execution_count": 30,
   "id": "6593341a",
   "metadata": {},
   "outputs": [
    {
     "name": "stdout",
     "output_type": "stream",
     "text": [
      "Base accuracy: 96.67\n"
     ]
    }
   ],
   "source": [
    "y_pred = lr.predict(X_new)\n",
    "acc_pert = 100 * accuracy_score(y, y_pred)\n",
    "print(f'Base accuracy: {acc_pert:.02f}')"
   ]
  },
  {
   "cell_type": "markdown",
   "id": "5113c1ce",
   "metadata": {},
   "source": [
    "This method along with the one discussed above is also known as the Sequential Feature Selection method."
   ]
  },
  {
   "cell_type": "markdown",
   "id": "bdd9615e",
   "metadata": {},
   "source": [
    "<a id='sect2_3'></a>\n",
    "### <font color='darkgreen'>Exhaustive Feature Selection</font> ([back](#sect2))\n",
    "**This is the most robust feature selection method covered so far.** This is a brute-force evaluation of each feature subset. This means that it tries every possible combination of the variables and returns the best performing subset."
   ]
  },
  {
   "cell_type": "code",
   "execution_count": 31,
   "id": "acfbd7a8",
   "metadata": {},
   "outputs": [
    {
     "name": "stderr",
     "output_type": "stream",
     "text": [
      "Features: 15/15"
     ]
    }
   ],
   "source": [
    "efs = ExhaustiveFeatureSelector(\n",
    "    RandomForestClassifier(),\n",
    "    min_features=1,\n",
    "    max_features=4,\n",
    "    cv=2)\n",
    "\n",
    "efs = efs.fit(X, y)"
   ]
  },
  {
   "cell_type": "code",
   "execution_count": 32,
   "id": "bd1e0b01",
   "metadata": {},
   "outputs": [
    {
     "data": {
      "text/html": [
       "<div>\n",
       "<style scoped>\n",
       "    .dataframe tbody tr th:only-of-type {\n",
       "        vertical-align: middle;\n",
       "    }\n",
       "\n",
       "    .dataframe tbody tr th {\n",
       "        vertical-align: top;\n",
       "    }\n",
       "\n",
       "    .dataframe thead th {\n",
       "        text-align: right;\n",
       "    }\n",
       "</style>\n",
       "<table border=\"1\" class=\"dataframe\">\n",
       "  <thead>\n",
       "    <tr style=\"text-align: right;\">\n",
       "      <th></th>\n",
       "      <th>sepal length (cm)</th>\n",
       "      <th>sepal width (cm)</th>\n",
       "      <th>petal length (cm)</th>\n",
       "    </tr>\n",
       "  </thead>\n",
       "  <tbody>\n",
       "    <tr>\n",
       "      <th>5</th>\n",
       "      <td>5.4</td>\n",
       "      <td>3.9</td>\n",
       "      <td>1.7</td>\n",
       "    </tr>\n",
       "    <tr>\n",
       "      <th>94</th>\n",
       "      <td>5.6</td>\n",
       "      <td>2.7</td>\n",
       "      <td>4.2</td>\n",
       "    </tr>\n",
       "    <tr>\n",
       "      <th>23</th>\n",
       "      <td>5.1</td>\n",
       "      <td>3.3</td>\n",
       "      <td>1.7</td>\n",
       "    </tr>\n",
       "    <tr>\n",
       "      <th>118</th>\n",
       "      <td>7.7</td>\n",
       "      <td>2.6</td>\n",
       "      <td>6.9</td>\n",
       "    </tr>\n",
       "    <tr>\n",
       "      <th>11</th>\n",
       "      <td>4.8</td>\n",
       "      <td>3.4</td>\n",
       "      <td>1.6</td>\n",
       "    </tr>\n",
       "  </tbody>\n",
       "</table>\n",
       "</div>"
      ],
      "text/plain": [
       "     sepal length (cm)  sepal width (cm)  petal length (cm)\n",
       "5                  5.4               3.9                1.7\n",
       "94                 5.6               2.7                4.2\n",
       "23                 5.1               3.3                1.7\n",
       "118                7.7               2.6                6.9\n",
       "11                 4.8               3.4                1.6"
      ]
     },
     "execution_count": 32,
     "metadata": {},
     "output_type": "execute_result"
    }
   ],
   "source": [
    "X_df = pd.DataFrame(X, columns=iris_data.feature_names)\n",
    "selected_features = X_df.iloc[:, list(map(lambda e: e-1, efs.best_idx_))]\n",
    "selected_features.sample(n=5)"
   ]
  },
  {
   "cell_type": "code",
   "execution_count": 33,
   "id": "be25cc1a",
   "metadata": {},
   "outputs": [
    {
     "name": "stdout",
     "output_type": "stream",
     "text": [
      "Accuracy after feature selection: 96.67\n"
     ]
    }
   ],
   "source": [
    "acc_after_fs = efs.best_score_ * 100\n",
    "print(f'Accuracy after feature selection: {acc_after_fs:.02f}')"
   ]
  },
  {
   "cell_type": "markdown",
   "id": "47e8cb4d",
   "metadata": {},
   "source": [
    "<a id='sect2_4'></a>\n",
    "### <font color='darkgreen'>Recursive Feature Eliminaiton</font> ([back](#sect2))\n",
    "Given an external estimator that assigns weights to features (<font color='brown'>e.g., the coefficients of a linear model</font>), **the goal of recursive feature elimination** (<font color='brown'>RFE</font>) **is to select features by recursively considering smaller and smaller sets of features**. First, the estimator is trained on the initial set of features and the importance of each feature is obtained either through a <font color='violet'>coef_</font> attribute or through a <font color='violet'>feature_importances_</font> attribute."
   ]
  },
  {
   "cell_type": "code",
   "execution_count": 34,
   "id": "fc2e8ee6",
   "metadata": {},
   "outputs": [
    {
     "name": "stdout",
     "output_type": "stream",
     "text": [
      "Base accuracy: 97.72\n"
     ]
    }
   ],
   "source": [
    "lr = LogisticRegressionCV(random_state=42, max_iter=500)\n",
    "lr.fit(X_bc, y_bc)\n",
    "y_pred = lr.predict(X_bc)\n",
    "acc_pert = 100 * accuracy_score(y_bc, y_pred)\n",
    "print(f'Base accuracy: {acc_pert:.02f}')"
   ]
  },
  {
   "cell_type": "code",
   "execution_count": 35,
   "id": "20780df1",
   "metadata": {},
   "outputs": [
    {
     "name": "stdout",
     "output_type": "stream",
     "text": [
      "CPU times: user 1min 5s, sys: 1min 25s, total: 2min 31s\n",
      "Wall time: 37.9 s\n"
     ]
    },
    {
     "data": {
      "text/plain": [
       "RFE(estimator=LogisticRegressionCV(max_iter=500, random_state=42),\n",
       "    n_features_to_select=24)"
      ]
     },
     "execution_count": 35,
     "metadata": {},
     "output_type": "execute_result"
    }
   ],
   "source": [
    "%%time\n",
    "lr = LogisticRegressionCV(random_state=42, max_iter=500)\n",
    "rfe = RFE(lr, n_features_to_select = int(X_bc.shape[1]*0.8))\n",
    "rfe.fit(X_bc, y_bc)"
   ]
  },
  {
   "cell_type": "code",
   "execution_count": 36,
   "id": "e56e215c",
   "metadata": {},
   "outputs": [],
   "source": [
    "y_pred = rfe.predict(X_bc)"
   ]
  },
  {
   "cell_type": "code",
   "execution_count": 37,
   "id": "ac317ecd",
   "metadata": {},
   "outputs": [
    {
     "name": "stdout",
     "output_type": "stream",
     "text": [
      "Accuracy: 98.42\n"
     ]
    }
   ],
   "source": [
    "acc_pert = 100 * accuracy_score(y_bc, y_pred)\n",
    "print(f'Accuracy: {acc_pert:.02f}')"
   ]
  },
  {
   "cell_type": "markdown",
   "id": "7a7b057b",
   "metadata": {},
   "source": [
    "<a id='sect3'></a>\n",
    "## <font color='darkblue'>Embedded Methods</font> ([back](#sect0))\n",
    "* <font size='3ptx'><b><a href='#sect3_1'>LASSO Regularization (L1)</a></b></font>\n",
    "* <font size='3ptx'><b><a href='#sect3_2'>Random Forest Importance</a></b></font>\n",
    "<br/>\n",
    "\n",
    "<font size='3ptx'><b>These methods encompass the benefits of both the [wrapper](#sect2) and [filter](#sect1) methods, by including interactions of features but also maintaining reasonable computational cost.</b></font>\n",
    "\n",
    " Embedded methods are iterative in the sense that takes care of each iteration of the model training process and carefully extracts those features which contribute the most to the training for a particular iteration."
   ]
  },
  {
   "cell_type": "markdown",
   "id": "db56f29e",
   "metadata": {},
   "source": [
    "<a id='sect3_1'></a>\n",
    "### <font color='darkgreen'>LASSO Regularization (L1)</font>\n",
    "Regularization consists of adding a penalty to the different parameters of the machine learning model to reduce the freedom of the model, i.e. to avoid over-fitting. In linear model regularization, the penalty is applied over the coefficients that multiply each of the predictors. From the different types of regularization, **Lasso or L1 has the property that is able to shrink some of the coefficients to zero. Therefore, that feature can be removed from the model**."
   ]
  },
  {
   "cell_type": "code",
   "execution_count": 38,
   "id": "e991bb7f",
   "metadata": {},
   "outputs": [
    {
     "data": {
      "text/plain": [
       "(569, 30)"
      ]
     },
     "execution_count": 38,
     "metadata": {},
     "output_type": "execute_result"
    }
   ],
   "source": [
    "X_bc.shape"
   ]
  },
  {
   "cell_type": "code",
   "execution_count": 39,
   "id": "0e16550e",
   "metadata": {},
   "outputs": [],
   "source": [
    "lr = LogisticRegressionCV(\n",
    "    random_state=42, solver='liblinear', penalty='l1', max_iter=500)\n",
    "model = SelectFromModel(lr)\n",
    "model.fit(X_bc, y_bc)\n",
    "X_bc_new = model.transform(X_bc)"
   ]
  },
  {
   "cell_type": "code",
   "execution_count": 40,
   "id": "8a4ff1e2",
   "metadata": {},
   "outputs": [
    {
     "data": {
      "text/plain": [
       "(569, 25)"
      ]
     },
     "execution_count": 40,
     "metadata": {},
     "output_type": "execute_result"
    }
   ],
   "source": [
    "# Total 25 out of 30 columns being selected!\n",
    "X_bc_new.shape"
   ]
  },
  {
   "cell_type": "code",
   "execution_count": 41,
   "id": "9c6dafcb",
   "metadata": {},
   "outputs": [
    {
     "data": {
      "text/plain": [
       "array([ True,  True,  True,  True, False,  True,  True,  True,  True,\n",
       "       False,  True,  True,  True,  True, False,  True,  True,  True,\n",
       "        True, False,  True,  True,  True,  True,  True,  True,  True,\n",
       "        True,  True, False])"
      ]
     },
     "execution_count": 41,
     "metadata": {},
     "output_type": "execute_result"
    }
   ],
   "source": [
    "# True means the corresponding column is selected; False otherwise.\n",
    "model.get_support()"
   ]
  },
  {
   "cell_type": "code",
   "execution_count": 42,
   "id": "4c662562",
   "metadata": {},
   "outputs": [
    {
     "data": {
      "text/plain": [
       "1e-05"
      ]
     },
     "execution_count": 42,
     "metadata": {},
     "output_type": "execute_result"
    }
   ],
   "source": [
    "model.threshold_"
   ]
  },
  {
   "cell_type": "code",
   "execution_count": 43,
   "id": "02ea2045",
   "metadata": {},
   "outputs": [
    {
     "data": {
      "text/plain": [
       "array([[ 1.69681398e+00, -1.67692299e-01,  1.69212099e-01,\n",
       "        -7.55868931e-03,  0.00000000e+00,  5.09273368e+01,\n",
       "        -1.42573724e+01, -1.29373942e+02,  1.54683278e+01,\n",
       "         0.00000000e+00, -5.69198196e+00,  1.55202655e+00,\n",
       "         1.00002055e+00, -2.11620749e-01,  0.00000000e+00,\n",
       "         3.67269084e+01,  3.82809435e+01, -7.83787326e+01,\n",
       "         3.81728956e+01,  0.00000000e+00,  1.70812486e-02,\n",
       "        -3.83667153e-01, -1.18741338e-01, -1.74719097e-02,\n",
       "        -3.98409529e+01,  2.78947052e+00, -1.05064513e+01,\n",
       "        -3.26226043e+01, -2.29130873e+01,  0.00000000e+00]])"
      ]
     },
     "execution_count": 43,
     "metadata": {},
     "output_type": "execute_result"
    }
   ],
   "source": [
    "model.estimator_.coef_"
   ]
  },
  {
   "cell_type": "markdown",
   "id": "cfef4ff5",
   "metadata": {},
   "source": [
    "<a id='sect3_2'></a>\n",
    "### <font color='darkgreen'>Random Forest Importance</font>\n",
    "<font size='3ptx'><b>Random Forests is a kind of a Bagging Algorithm that aggregates a specified number of decision trees.</b></font>\n",
    "\n",
    "The tree-based strategies used by random forests naturally rank by how well they improve the purity of the node, or in other words a decrease in the impurity (<font color='brown'>Gini impurity</font>) over all trees. Nodes with the greatest decrease in impurity happen at the start of the trees, while notes with the least decrease in impurity occur at the end of trees. Thus, by pruning trees below a particular node, we can create a subset of the most important features."
   ]
  },
  {
   "cell_type": "code",
   "execution_count": 44,
   "id": "1b5c7785",
   "metadata": {},
   "outputs": [
    {
     "data": {
      "text/plain": [
       "RandomForestClassifier(n_estimators=300)"
      ]
     },
     "execution_count": 44,
     "metadata": {},
     "output_type": "execute_result"
    }
   ],
   "source": [
    "model = RandomForestClassifier(n_estimators=300)\n",
    "model.fit(X_bc, y_bc)"
   ]
  },
  {
   "cell_type": "code",
   "execution_count": 45,
   "id": "cb00d6f2",
   "metadata": {},
   "outputs": [
    {
     "data": {
      "text/html": [
       "<div>\n",
       "<style scoped>\n",
       "    .dataframe tbody tr th:only-of-type {\n",
       "        vertical-align: middle;\n",
       "    }\n",
       "\n",
       "    .dataframe tbody tr th {\n",
       "        vertical-align: top;\n",
       "    }\n",
       "\n",
       "    .dataframe thead th {\n",
       "        text-align: right;\n",
       "    }\n",
       "</style>\n",
       "<table border=\"1\" class=\"dataframe\">\n",
       "  <thead>\n",
       "    <tr style=\"text-align: right;\">\n",
       "      <th></th>\n",
       "      <th>Features</th>\n",
       "      <th>Importances</th>\n",
       "    </tr>\n",
       "  </thead>\n",
       "  <tbody>\n",
       "    <tr>\n",
       "      <th>22</th>\n",
       "      <td>worst perimeter</td>\n",
       "      <td>0.130174</td>\n",
       "    </tr>\n",
       "    <tr>\n",
       "      <th>20</th>\n",
       "      <td>worst radius</td>\n",
       "      <td>0.125362</td>\n",
       "    </tr>\n",
       "    <tr>\n",
       "      <th>27</th>\n",
       "      <td>worst concave points</td>\n",
       "      <td>0.112271</td>\n",
       "    </tr>\n",
       "    <tr>\n",
       "      <th>23</th>\n",
       "      <td>worst area</td>\n",
       "      <td>0.108796</td>\n",
       "    </tr>\n",
       "    <tr>\n",
       "      <th>7</th>\n",
       "      <td>mean concave points</td>\n",
       "      <td>0.106502</td>\n",
       "    </tr>\n",
       "    <tr>\n",
       "      <th>0</th>\n",
       "      <td>mean radius</td>\n",
       "      <td>0.051562</td>\n",
       "    </tr>\n",
       "    <tr>\n",
       "      <th>6</th>\n",
       "      <td>mean concavity</td>\n",
       "      <td>0.050041</td>\n",
       "    </tr>\n",
       "    <tr>\n",
       "      <th>2</th>\n",
       "      <td>mean perimeter</td>\n",
       "      <td>0.047810</td>\n",
       "    </tr>\n",
       "    <tr>\n",
       "      <th>13</th>\n",
       "      <td>area error</td>\n",
       "      <td>0.036954</td>\n",
       "    </tr>\n",
       "    <tr>\n",
       "      <th>26</th>\n",
       "      <td>worst concavity</td>\n",
       "      <td>0.034880</td>\n",
       "    </tr>\n",
       "  </tbody>\n",
       "</table>\n",
       "</div>"
      ],
      "text/plain": [
       "                Features  Importances\n",
       "22       worst perimeter     0.130174\n",
       "20          worst radius     0.125362\n",
       "27  worst concave points     0.112271\n",
       "23            worst area     0.108796\n",
       "7    mean concave points     0.106502\n",
       "0            mean radius     0.051562\n",
       "6         mean concavity     0.050041\n",
       "2         mean perimeter     0.047810\n",
       "13            area error     0.036954\n",
       "26       worst concavity     0.034880"
      ]
     },
     "execution_count": 45,
     "metadata": {},
     "output_type": "execute_result"
    }
   ],
   "source": [
    "importances = model.feature_importances_\n",
    "final_df = pd.DataFrame({\"Features\": bc_data.feature_names, \"Importances\": importances})\n",
    "final_df.set_index('Importances')\n",
    "final_df = final_df.sort_values('Importances', ascending=False)\n",
    "final_df[:10]"
   ]
  },
  {
   "cell_type": "code",
   "execution_count": 46,
   "id": "f449e831",
   "metadata": {},
   "outputs": [
    {
     "data": {
      "text/plain": [
       "['worst perimeter',\n",
       " 'worst radius',\n",
       " 'worst concave points',\n",
       " 'worst area',\n",
       " 'mean concave points',\n",
       " 'mean radius',\n",
       " 'mean concavity',\n",
       " 'mean perimeter',\n",
       " 'area error',\n",
       " 'worst concavity',\n",
       " 'mean area',\n",
       " 'worst texture',\n",
       " 'perimeter error',\n",
       " 'radius error',\n",
       " 'worst compactness',\n",
       " 'mean texture',\n",
       " 'worst smoothness',\n",
       " 'worst symmetry',\n",
       " 'mean compactness',\n",
       " 'concavity error',\n",
       " 'mean smoothness',\n",
       " 'worst fractal dimension',\n",
       " 'fractal dimension error',\n",
       " 'texture error',\n",
       " 'concave points error',\n",
       " 'symmetry error',\n",
       " 'compactness error',\n",
       " 'mean symmetry',\n",
       " 'smoothness error',\n",
       " 'mean fractal dimension']"
      ]
     },
     "execution_count": 46,
     "metadata": {},
     "output_type": "execute_result"
    }
   ],
   "source": [
    "list(final_df.Features.values)"
   ]
  },
  {
   "cell_type": "code",
   "execution_count": 47,
   "id": "50ceaab5",
   "metadata": {},
   "outputs": [
    {
     "data": {
      "text/plain": [
       "30"
      ]
     },
     "execution_count": 47,
     "metadata": {},
     "output_type": "execute_result"
    }
   ],
   "source": [
    "final_df.shape[0]"
   ]
  },
  {
   "cell_type": "code",
   "execution_count": 50,
   "id": "984295a3",
   "metadata": {
    "scrolled": true
   },
   "outputs": [
    {
     "data": {
      "image/png": "[encoded data removed]",
      "text/plain": [
       "<Figure size 504x504 with 1 Axes>"
      ]
     },
     "metadata": {
      "needs_background": "light"
     },
     "output_type": "display_data"
    },
    {
     "name": "stderr",
     "output_type": "stream",
     "text": [
      "/root/Github/ml_courses/env/lib/python3.8/site-packages/sklearn/model_selection/_split.py:676: UserWarning: The least populated class in y has only 1 members, which is less than n_splits=5.\n",
      "  warnings.warn(\n",
      "/root/Github/ml_courses/env/lib/python3.8/site-packages/sklearn/model_selection/_split.py:676: UserWarning: The least populated class in y has only 1 members, which is less than n_splits=5.\n",
      "  warnings.warn(\n",
      "/root/Github/ml_courses/env/lib/python3.8/site-packages/sklearn/model_selection/_split.py:676: UserWarning: The least populated class in y has only 1 members, which is less than n_splits=5.\n",
      "  warnings.warn(\n",
      "/root/Github/ml_courses/env/lib/python3.8/site-packages/sklearn/model_selection/_split.py:676: UserWarning: The least populated class in y has only 1 members, which is less than n_splits=5.\n",
      "  warnings.warn(\n",
      "/root/Github/ml_courses/env/lib/python3.8/site-packages/sklearn/model_selection/_split.py:676: UserWarning: The least populated class in y has only 1 members, which is less than n_splits=5.\n",
      "  warnings.warn(\n",
      "/root/Github/ml_courses/env/lib/python3.8/site-packages/sklearn/model_selection/_split.py:676: UserWarning: The least populated class in y has only 1 members, which is less than n_splits=5.\n",
      "  warnings.warn(\n",
      "/root/Github/ml_courses/env/lib/python3.8/site-packages/sklearn/model_selection/_split.py:676: UserWarning: The least populated class in y has only 1 members, which is less than n_splits=5.\n",
      "  warnings.warn(\n",
      "/root/Github/ml_courses/env/lib/python3.8/site-packages/sklearn/model_selection/_split.py:676: UserWarning: The least populated class in y has only 1 members, which is less than n_splits=5.\n",
      "  warnings.warn(\n",
      "/root/Github/ml_courses/env/lib/python3.8/site-packages/sklearn/model_selection/_split.py:676: UserWarning: The least populated class in y has only 1 members, which is less than n_splits=5.\n",
      "  warnings.warn(\n",
      "/root/Github/ml_courses/env/lib/python3.8/site-packages/sklearn/model_selection/_split.py:676: UserWarning: The least populated class in y has only 1 members, which is less than n_splits=5.\n",
      "  warnings.warn(\n",
      "/root/Github/ml_courses/env/lib/python3.8/site-packages/sklearn/model_selection/_split.py:676: UserWarning: The least populated class in y has only 1 members, which is less than n_splits=5.\n",
      "  warnings.warn(\n",
      "/root/Github/ml_courses/env/lib/python3.8/site-packages/sklearn/model_selection/_split.py:676: UserWarning: The least populated class in y has only 1 members, which is less than n_splits=5.\n",
      "  warnings.warn(\n",
      "/root/Github/ml_courses/env/lib/python3.8/site-packages/sklearn/model_selection/_split.py:676: UserWarning: The least populated class in y has only 1 members, which is less than n_splits=5.\n",
      "  warnings.warn(\n",
      "/root/Github/ml_courses/env/lib/python3.8/site-packages/sklearn/model_selection/_split.py:676: UserWarning: The least populated class in y has only 1 members, which is less than n_splits=5.\n",
      "  warnings.warn(\n",
      "/root/Github/ml_courses/env/lib/python3.8/site-packages/sklearn/model_selection/_split.py:676: UserWarning: The least populated class in y has only 1 members, which is less than n_splits=5.\n",
      "  warnings.warn(\n",
      "/root/Github/ml_courses/env/lib/python3.8/site-packages/sklearn/model_selection/_split.py:676: UserWarning: The least populated class in y has only 1 members, which is less than n_splits=5.\n",
      "  warnings.warn(\n",
      "/root/Github/ml_courses/env/lib/python3.8/site-packages/sklearn/model_selection/_split.py:676: UserWarning: The least populated class in y has only 1 members, which is less than n_splits=5.\n",
      "  warnings.warn(\n",
      "/root/Github/ml_courses/env/lib/python3.8/site-packages/sklearn/model_selection/_split.py:676: UserWarning: The least populated class in y has only 1 members, which is less than n_splits=5.\n",
      "  warnings.warn(\n",
      "/root/Github/ml_courses/env/lib/python3.8/site-packages/sklearn/model_selection/_split.py:676: UserWarning: The least populated class in y has only 1 members, which is less than n_splits=5.\n",
      "  warnings.warn(\n",
      "/root/Github/ml_courses/env/lib/python3.8/site-packages/sklearn/model_selection/_split.py:676: UserWarning: The least populated class in y has only 1 members, which is less than n_splits=5.\n",
      "  warnings.warn(\n",
      "/root/Github/ml_courses/env/lib/python3.8/site-packages/sklearn/model_selection/_split.py:676: UserWarning: The least populated class in y has only 1 members, which is less than n_splits=5.\n",
      "  warnings.warn(\n",
      "/root/Github/ml_courses/env/lib/python3.8/site-packages/sklearn/model_selection/_split.py:676: UserWarning: The least populated class in y has only 1 members, which is less than n_splits=5.\n",
      "  warnings.warn(\n",
      "/root/Github/ml_courses/env/lib/python3.8/site-packages/sklearn/model_selection/_split.py:676: UserWarning: The least populated class in y has only 1 members, which is less than n_splits=5.\n",
      "  warnings.warn(\n",
      "/root/Github/ml_courses/env/lib/python3.8/site-packages/sklearn/model_selection/_split.py:676: UserWarning: The least populated class in y has only 1 members, which is less than n_splits=5.\n",
      "  warnings.warn(\n",
      "/root/Github/ml_courses/env/lib/python3.8/site-packages/sklearn/model_selection/_split.py:676: UserWarning: The least populated class in y has only 1 members, which is less than n_splits=5.\n",
      "  warnings.warn(\n",
      "/root/Github/ml_courses/env/lib/python3.8/site-packages/sklearn/model_selection/_split.py:676: UserWarning: The least populated class in y has only 1 members, which is less than n_splits=5.\n",
      "  warnings.warn(\n",
      "/root/Github/ml_courses/env/lib/python3.8/site-packages/sklearn/model_selection/_split.py:676: UserWarning: The least populated class in y has only 1 members, which is less than n_splits=5.\n",
      "  warnings.warn(\n",
      "/root/Github/ml_courses/env/lib/python3.8/site-packages/sklearn/model_selection/_split.py:676: UserWarning: The least populated class in y has only 1 members, which is less than n_splits=5.\n",
      "  warnings.warn(\n",
      "/root/Github/ml_courses/env/lib/python3.8/site-packages/sklearn/model_selection/_split.py:676: UserWarning: The least populated class in y has only 1 members, which is less than n_splits=5.\n",
      "  warnings.warn(\n",
      "/root/Github/ml_courses/env/lib/python3.8/site-packages/sklearn/model_selection/_split.py:676: UserWarning: The least populated class in y has only 1 members, which is less than n_splits=5.\n",
      "  warnings.warn(\n",
      "/root/Github/ml_courses/env/lib/python3.8/site-packages/sklearn/model_selection/_split.py:676: UserWarning: The least populated class in y has only 1 members, which is less than n_splits=5.\n",
      "  warnings.warn(\n",
      "/root/Github/ml_courses/env/lib/python3.8/site-packages/sklearn/model_selection/_split.py:676: UserWarning: The least populated class in y has only 1 members, which is less than n_splits=5.\n",
      "  warnings.warn(\n",
      "/root/Github/ml_courses/env/lib/python3.8/site-packages/sklearn/model_selection/_split.py:676: UserWarning: The least populated class in y has only 1 members, which is less than n_splits=5.\n",
      "  warnings.warn(\n",
      "/root/Github/ml_courses/env/lib/python3.8/site-packages/sklearn/model_selection/_split.py:676: UserWarning: The least populated class in y has only 1 members, which is less than n_splits=5.\n",
      "  warnings.warn(\n",
      "/root/Github/ml_courses/env/lib/python3.8/site-packages/sklearn/model_selection/_split.py:676: UserWarning: The least populated class in y has only 1 members, which is less than n_splits=5.\n",
      "  warnings.warn(\n",
      "/root/Github/ml_courses/env/lib/python3.8/site-packages/sklearn/model_selection/_split.py:676: UserWarning: The least populated class in y has only 1 members, which is less than n_splits=5.\n",
      "  warnings.warn(\n",
      "/root/Github/ml_courses/env/lib/python3.8/site-packages/sklearn/model_selection/_split.py:676: UserWarning: The least populated class in y has only 1 members, which is less than n_splits=5.\n",
      "  warnings.warn(\n",
      "/root/Github/ml_courses/env/lib/python3.8/site-packages/sklearn/model_selection/_split.py:676: UserWarning: The least populated class in y has only 1 members, which is less than n_splits=5.\n",
      "  warnings.warn(\n",
      "/root/Github/ml_courses/env/lib/python3.8/site-packages/sklearn/model_selection/_split.py:676: UserWarning: The least populated class in y has only 1 members, which is less than n_splits=5.\n",
      "  warnings.warn(\n",
      "/root/Github/ml_courses/env/lib/python3.8/site-packages/sklearn/model_selection/_split.py:676: UserWarning: The least populated class in y has only 1 members, which is less than n_splits=5.\n",
      "  warnings.warn(\n",
      "/root/Github/ml_courses/env/lib/python3.8/site-packages/sklearn/model_selection/_split.py:676: UserWarning: The least populated class in y has only 1 members, which is less than n_splits=5.\n",
      "  warnings.warn(\n",
      "/root/Github/ml_courses/env/lib/python3.8/site-packages/sklearn/model_selection/_split.py:676: UserWarning: The least populated class in y has only 1 members, which is less than n_splits=5.\n",
      "  warnings.warn(\n",
      "/root/Github/ml_courses/env/lib/python3.8/site-packages/sklearn/model_selection/_split.py:676: UserWarning: The least populated class in y has only 1 members, which is less than n_splits=5.\n",
      "  warnings.warn(\n",
      "/root/Github/ml_courses/env/lib/python3.8/site-packages/sklearn/model_selection/_split.py:676: UserWarning: The least populated class in y has only 1 members, which is less than n_splits=5.\n",
      "  warnings.warn(\n",
      "/root/Github/ml_courses/env/lib/python3.8/site-packages/sklearn/model_selection/_split.py:676: UserWarning: The least populated class in y has only 1 members, which is less than n_splits=5.\n",
      "  warnings.warn(\n",
      "/root/Github/ml_courses/env/lib/python3.8/site-packages/sklearn/model_selection/_split.py:676: UserWarning: The least populated class in y has only 1 members, which is less than n_splits=5.\n",
      "  warnings.warn(\n",
      "/root/Github/ml_courses/env/lib/python3.8/site-packages/sklearn/model_selection/_split.py:676: UserWarning: The least populated class in y has only 1 members, which is less than n_splits=5.\n",
      "  warnings.warn(\n",
      "/root/Github/ml_courses/env/lib/python3.8/site-packages/sklearn/model_selection/_split.py:676: UserWarning: The least populated class in y has only 1 members, which is less than n_splits=5.\n",
      "  warnings.warn(\n",
      "/root/Github/ml_courses/env/lib/python3.8/site-packages/sklearn/model_selection/_split.py:676: UserWarning: The least populated class in y has only 1 members, which is less than n_splits=5.\n",
      "  warnings.warn(\n",
      "/root/Github/ml_courses/env/lib/python3.8/site-packages/sklearn/model_selection/_split.py:676: UserWarning: The least populated class in y has only 1 members, which is less than n_splits=5.\n",
      "  warnings.warn(\n",
      "/root/Github/ml_courses/env/lib/python3.8/site-packages/sklearn/model_selection/_split.py:676: UserWarning: The least populated class in y has only 1 members, which is less than n_splits=5.\n",
      "  warnings.warn(\n",
      "/root/Github/ml_courses/env/lib/python3.8/site-packages/sklearn/model_selection/_split.py:676: UserWarning: The least populated class in y has only 1 members, which is less than n_splits=5.\n",
      "  warnings.warn(\n",
      "/root/Github/ml_courses/env/lib/python3.8/site-packages/sklearn/model_selection/_split.py:676: UserWarning: The least populated class in y has only 1 members, which is less than n_splits=5.\n",
      "  warnings.warn(\n",
      "/root/Github/ml_courses/env/lib/python3.8/site-packages/sklearn/model_selection/_split.py:676: UserWarning: The least populated class in y has only 1 members, which is less than n_splits=5.\n",
      "  warnings.warn(\n",
      "/root/Github/ml_courses/env/lib/python3.8/site-packages/sklearn/model_selection/_split.py:676: UserWarning: The least populated class in y has only 1 members, which is less than n_splits=5.\n",
      "  warnings.warn(\n"
     ]
    }
   ],
   "source": [
    "final_df = final_df.sort_values('Importances', ascending=True)\n",
    "plt.rcParams['figure.figsize'] = [7, 7]\n",
    "plt.barh(\n",
    "    np.arange(final_df.shape[0]),\n",
    "    final_df.Importances,\n",
    "    color='teal', \n",
    "    tick_label=list(final_df.Features.values))\n",
    "plt.show()"
   ]
  },
  {
   "cell_type": "markdown",
   "id": "7d3054b1",
   "metadata": {},
   "source": [
    "## <font color='darkblue'>Conclusion</font> ([back](#sect0))\n",
    "We have discussed a few techniques for feature selection. We have on purpose left the feature extraction techniques like [**Principal Component Analysis**](https://scikit-learn.org/stable/modules/generated/sklearn.decomposition.PCA.html), Singular Value Decomposition, Linear Discriminant Analysis, etc. These methods help to reduce the dimensionality of the data or reduce the number of variables while preserving the variance of the data.\n",
    "\n",
    "Apart from the methods discussed above, there are many other methods of feature selection. There are hybrid methods too that use both filtering and wrapping techniques. If you wish to explore more about feature selection techniques, great comprehensive reading material in my opinion would be ‘Feature Selection for Data and Pattern Recognition’ by Urszula Stańczyk and Lakhmi C. Jain."
   ]
  },
  {
   "cell_type": "markdown",
   "id": "65904d1f",
   "metadata": {},
   "source": [
    "## <font color='darkblue'>Supplement</font>\n",
    "* [scikit-feature: scikit-feature is an open-source feature selection repository in Python developed by Data Mining and Machine Learning Lab at Arizona State University](https://github.com/jundongl/scikit-feature)"
   ]
  }
 ],
 "metadata": {
  "kernelspec": {
   "display_name": "Python 3 (ipykernel)",
   "language": "python",
   "name": "python3"
  },
  "language_info": {
   "codemirror_mode": {
    "name": "ipython",
    "version": 3
   },
   "file_extension": ".py",
   "mimetype": "text/x-python",
   "name": "python",
   "nbconvert_exporter": "python",
   "pygments_lexer": "ipython3",
   "version": "3.8.10"
  }
 },
 "nbformat": 4,
 "nbformat_minor": 5
}
