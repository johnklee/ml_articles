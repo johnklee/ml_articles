{
 "cells": [
  {
   "cell_type": "markdown",
   "id": "fe3d680f",
   "metadata": {},
   "source": [
    "## <font color='darkblue'>Preface</font>\n",
    "([article source](https://www.analyticsvidhya.com/blog/2021/04/a-guide-to-feature-engineering-in-nlp/)) <font size='3ptx'><b>\"If 80 percent of our work is data preparation, then ensuring data quality is the important work of a machine learning team.” - – Andrew Ng</b> Feature engineering is one of the most important steps in machine learning. It is the process of using domain knowledge of the data to create features that make machine learning algorithms work. Think machine learning algorithm as a learning child the more accurate information you provide the more they will be able to interpret the information well. Focusing first on our data will give us better results than focusing only on models. Feature engineering helps us to create better data which helps the model understand it well and provide reasonable results.</font>\n",
    "\n",
    "<b>NLP is a subfield of artificial intelligence where we understand human interaction with machines using natural languages</b>. To understand a natural language, you need to understand how we write a sentence, how we express our thoughts using different words, signs, special characters, etc basically we should understand the context of the sentence to interpret its meaning.\n",
    "\n",
    "<b>If we can use these contexts as features and feed them to our model then the model will be able to understand the sentence better</b>. Some of the common features that we can extract from a sentence are the number of words, number of capital words, number of punctuation, number of unique words, number of stopwords, average sentence length, etc. We can define these features based on our data set we are using. In this blog, we will use a Twitter data set so we can add some others features like the number of hashtags, number of mentions, etc. We will discuss them in detail in the coming sections."
   ]
  },
  {
   "cell_type": "markdown",
   "id": "cd8ca056",
   "metadata": {},
   "source": [
    "<a id='sect0'></a>\n",
    "### <font color='darkgreen'>Table of Content</font>\n",
    "* <font size='3ptx'><b><a href='#sect1'>NLP task overview</a></b></font>\n",
    "* <font size='3ptx'><b><a href='#sect2'>List of features with code</a></b></font>\n",
    "* <font size='3ptx'><b><a href='#sect3'>Implementation</a></b></font>\n",
    "* <font size='3ptx'><b><a href='#sect4'>Results comparison with and without doing feature engineering</a></b></font>\n",
    "* <font size='3ptx'><b><a href='#sect5'>Conclusion</a></b></font>"
   ]
  },
  {
   "cell_type": "code",
   "execution_count": 1,
   "id": "8840748f",
   "metadata": {},
   "outputs": [],
   "source": [
    "import pandas as pd\n",
    "import seaborn as sns\n",
    "import re\n",
    "import nltk\n",
    "import numpy as np\n",
    "import pandas as pd\n",
    "from nltk.corpus import stopwords\n",
    "from nltk.tokenize import word_tokenize \n",
    "from sklearn.ensemble import RandomForestClassifier\n",
    "from sklearn.svm import SVC\n",
    "from sklearn.feature_extraction.text import TfidfVectorizer\n",
    "from sklearn.pipeline import make_pipeline\n",
    "from sklearn.pipeline import Pipeline\n",
    "from sklearn.metrics import classification_report, confusion_matrix\n",
    "from sklearn.model_selection import train_test_split\n",
    "from sklearn.metrics import accuracy_score, precision_score, f1_score, recall_score\n",
    "from sklearn.metrics import confusion_matrix, classification_report\n",
    "from sklearn.preprocessing import StandardScaler\n",
    "from sklearn.experimental import enable_halving_search_cv \n",
    "from sklearn.model_selection import HalvingGridSearchCV\n",
    "from sklearn.model_selection import GridSearchCV"
   ]
  },
  {
   "cell_type": "code",
   "execution_count": 2,
   "id": "2f856407",
   "metadata": {},
   "outputs": [],
   "source": [
    "#nltk.download('stopwords')\n",
    "#nltk.download('punkt')"
   ]
  },
  {
   "cell_type": "code",
   "execution_count": 3,
   "id": "42b680fd",
   "metadata": {},
   "outputs": [],
   "source": [
    "RANDOM_STATE = 42"
   ]
  },
  {
   "cell_type": "markdown",
   "id": "d4c67d9f",
   "metadata": {},
   "source": [
    "<a id='sect1'></a>\n",
    "## <font color='darkblue'>NLP task overview</font>\n",
    "<font size='3ptx'><b>To understand the feature engineering task in NLP, we will be implementing it on a Twitter dataset</b>. We will be using COVID-19 Fake News Dataset. The task is to classify the tweet as Fake or Real.</font>\n",
    "\n",
    "You can download the dataset from [here](https://www.kaggle.com/datasets/arashnic/covid19-fake-news?resource=download) (or [here](https://github.com/MiHarsh/Public_stuffs)). The dataset is divided into train, validation, and test set.  Below is the distribution,"
   ]
  },
  {
   "cell_type": "code",
   "execution_count": 4,
   "id": "77f94722",
   "metadata": {},
   "outputs": [],
   "source": [
    "train_df = pd.read_csv('https://raw.githubusercontent.com/MiHarsh/Public_stuffs/master/Constraint_English_Train%20-%20Sheet1.csv')\n",
    "test_df = pd.read_csv('https://raw.githubusercontent.com/MiHarsh/Public_stuffs/master/Constraint_English_Val%20-%20Sheet1.csv')"
   ]
  },
  {
   "cell_type": "code",
   "execution_count": 5,
   "id": "2dd8342f",
   "metadata": {},
   "outputs": [
    {
     "name": "stdout",
     "output_type": "stream",
     "text": [
      "(6420, 3)\n"
     ]
    },
    {
     "data": {
      "text/html": [
       "<div>\n",
       "<style scoped>\n",
       "    .dataframe tbody tr th:only-of-type {\n",
       "        vertical-align: middle;\n",
       "    }\n",
       "\n",
       "    .dataframe tbody tr th {\n",
       "        vertical-align: top;\n",
       "    }\n",
       "\n",
       "    .dataframe thead th {\n",
       "        text-align: right;\n",
       "    }\n",
       "</style>\n",
       "<table border=\"1\" class=\"dataframe\">\n",
       "  <thead>\n",
       "    <tr style=\"text-align: right;\">\n",
       "      <th></th>\n",
       "      <th>id</th>\n",
       "      <th>tweet</th>\n",
       "      <th>label</th>\n",
       "    </tr>\n",
       "  </thead>\n",
       "  <tbody>\n",
       "    <tr>\n",
       "      <th>5180</th>\n",
       "      <td>5181</td>\n",
       "      <td>Demanding a fair Probe #JusticforTarun.(1)..Wh...</td>\n",
       "      <td>fake</td>\n",
       "    </tr>\n",
       "    <tr>\n",
       "      <th>1599</th>\n",
       "      <td>1600</td>\n",
       "      <td>@myjourneymyself Dr. Fauci funded a risky ''ga...</td>\n",
       "      <td>fake</td>\n",
       "    </tr>\n",
       "    <tr>\n",
       "      <th>4326</th>\n",
       "      <td>4327</td>\n",
       "      <td>Consuming a cup of brown sugar per day can cur...</td>\n",
       "      <td>fake</td>\n",
       "    </tr>\n",
       "  </tbody>\n",
       "</table>\n",
       "</div>"
      ],
      "text/plain": [
       "        id                                              tweet label\n",
       "5180  5181  Demanding a fair Probe #JusticforTarun.(1)..Wh...  fake\n",
       "1599  1600  @myjourneymyself Dr. Fauci funded a risky ''ga...  fake\n",
       "4326  4327  Consuming a cup of brown sugar per day can cur...  fake"
      ]
     },
     "execution_count": 5,
     "metadata": {},
     "output_type": "execute_result"
    }
   ],
   "source": [
    "print(train_df.shape)\n",
    "train_df.sample(n=3)"
   ]
  },
  {
   "cell_type": "code",
   "execution_count": 6,
   "id": "52d4fb46",
   "metadata": {},
   "outputs": [
    {
     "data": {
      "text/html": [
       "<div>\n",
       "<style scoped>\n",
       "    .dataframe tbody tr th:only-of-type {\n",
       "        vertical-align: middle;\n",
       "    }\n",
       "\n",
       "    .dataframe tbody tr th {\n",
       "        vertical-align: top;\n",
       "    }\n",
       "\n",
       "    .dataframe thead th {\n",
       "        text-align: right;\n",
       "    }\n",
       "</style>\n",
       "<table border=\"1\" class=\"dataframe\">\n",
       "  <thead>\n",
       "    <tr style=\"text-align: right;\">\n",
       "      <th></th>\n",
       "      <th>id</th>\n",
       "      <th>tweet</th>\n",
       "      <th>label</th>\n",
       "    </tr>\n",
       "  </thead>\n",
       "  <tbody>\n",
       "    <tr>\n",
       "      <th>573</th>\n",
       "      <td>574</td>\n",
       "      <td>MLB Commissioner Rob Manfred Says That the Wee...</td>\n",
       "      <td>fake</td>\n",
       "    </tr>\n",
       "    <tr>\n",
       "      <th>290</th>\n",
       "      <td>291</td>\n",
       "      <td>A Facebook post claims a drug company whistleb...</td>\n",
       "      <td>fake</td>\n",
       "    </tr>\n",
       "    <tr>\n",
       "      <th>1585</th>\n",
       "      <td>1586</td>\n",
       "      <td>States reported 42k new cases today. The five ...</td>\n",
       "      <td>real</td>\n",
       "    </tr>\n",
       "  </tbody>\n",
       "</table>\n",
       "</div>"
      ],
      "text/plain": [
       "        id                                              tweet label\n",
       "573    574  MLB Commissioner Rob Manfred Says That the Wee...  fake\n",
       "290    291  A Facebook post claims a drug company whistleb...  fake\n",
       "1585  1586  States reported 42k new cases today. The five ...  real"
      ]
     },
     "execution_count": 6,
     "metadata": {},
     "output_type": "execute_result"
    }
   ],
   "source": [
    "test_df.sample(n=3)"
   ]
  },
  {
   "cell_type": "markdown",
   "id": "78f0b6a3",
   "metadata": {},
   "source": [
    "Below is the distribution:"
   ]
  },
  {
   "cell_type": "code",
   "execution_count": 7,
   "id": "7c248038",
   "metadata": {},
   "outputs": [
    {
     "data": {
      "text/plain": [
       "<seaborn.axisgrid.FacetGrid at 0x7fa838140e50>"
      ]
     },
     "execution_count": 7,
     "metadata": {},
     "output_type": "execute_result"
    },
    {
     "data": {
      "image/png": "[encoded data removed]",
      "text/plain": [
       "<Figure size 360x360 with 1 Axes>"
      ]
     },
     "metadata": {
      "needs_background": "light"
     },
     "output_type": "display_data"
    }
   ],
   "source": [
    "# training data\n",
    "sns.displot(train_df, x=\"label\")"
   ]
  },
  {
   "cell_type": "code",
   "execution_count": 8,
   "id": "22653ee0",
   "metadata": {},
   "outputs": [
    {
     "data": {
      "text/plain": [
       "<seaborn.axisgrid.FacetGrid at 0x7fa835f9afa0>"
      ]
     },
     "execution_count": 8,
     "metadata": {},
     "output_type": "execute_result"
    },
    {
     "data": {
      "image/png": "[encoded data removed]",
      "text/plain": [
       "<Figure size 360x360 with 1 Axes>"
      ]
     },
     "metadata": {
      "needs_background": "light"
     },
     "output_type": "display_data"
    }
   ],
   "source": [
    "# testing data\n",
    "sns.displot(test_df, x=\"label\")"
   ]
  },
  {
   "cell_type": "markdown",
   "id": "34629a87",
   "metadata": {},
   "source": [
    "<a id='sect2'></a>\n",
    "## <font color='darkblue'>List of features</font> ([back](#sect0))\n",
    "I will be listing out a total of 15 features that we can use for the above dataset, number of features totally depends upon the type of dataset you are using."
   ]
  },
  {
   "cell_type": "markdown",
   "id": "92e00b07",
   "metadata": {},
   "source": [
    "#### 1. Number of Characters\n",
    "Count the number of characters present in a tweet."
   ]
  },
  {
   "cell_type": "code",
   "execution_count": 9,
   "id": "8f7b0a63",
   "metadata": {},
   "outputs": [],
   "source": [
    "def count_chars(text):\n",
    "    return len(text)"
   ]
  },
  {
   "cell_type": "markdown",
   "id": "232b327f",
   "metadata": {},
   "source": [
    "#### 2. Number of words\n",
    "Count the number of words present in a tweet."
   ]
  },
  {
   "cell_type": "code",
   "execution_count": 10,
   "id": "ab2dc7f3",
   "metadata": {},
   "outputs": [],
   "source": [
    "def count_words(text):\n",
    "    return len(text.split())"
   ]
  },
  {
   "cell_type": "markdown",
   "id": "d6bce17f",
   "metadata": {},
   "source": [
    "#### 3. Number of capital characters\n",
    "Count the number of capital characters present in a tweet."
   ]
  },
  {
   "cell_type": "code",
   "execution_count": 11,
   "id": "11f04164",
   "metadata": {},
   "outputs": [],
   "source": [
    "def count_capital_chars(text):\n",
    "    count=0\n",
    "    for i in text:\n",
    "        if i.isupper():\n",
    "            count+=1\n",
    "    return count"
   ]
  },
  {
   "cell_type": "markdown",
   "id": "13b156a4",
   "metadata": {},
   "source": [
    "#### 4. Number of capital words\n",
    "Count the number of capital words present in a tweet."
   ]
  },
  {
   "cell_type": "code",
   "execution_count": 12,
   "id": "20119ad5",
   "metadata": {},
   "outputs": [],
   "source": [
    "def count_capital_words(text):\n",
    "    return sum(map(str.isupper,text.split()))"
   ]
  },
  {
   "cell_type": "markdown",
   "id": "33a002d7",
   "metadata": {},
   "source": [
    "#### 5. Count the number of punctuations\n",
    "In this function, we return a dictionary of 32 punctuation with the counts, which can be used as separate features, which I will discuss in the next section."
   ]
  },
  {
   "cell_type": "code",
   "execution_count": 13,
   "id": "afe3805b",
   "metadata": {},
   "outputs": [],
   "source": [
    "def count_punctuations(text):\n",
    "    punctuations='!\"#$%&\\'()*+,-./:;<=>?@[\\]^_`{|}~'\n",
    "    d=dict()\n",
    "    for i in punctuations:\n",
    "        d[str(i)+' count']=text.count(i)\n",
    "    return d "
   ]
  },
  {
   "cell_type": "markdown",
   "id": "a3d0819c",
   "metadata": {},
   "source": [
    "#### 6. Number of words in quotes\n",
    "The number of words in the single quotation and double quotation."
   ]
  },
  {
   "cell_type": "code",
   "execution_count": 14,
   "id": "3d462847",
   "metadata": {},
   "outputs": [],
   "source": [
    "def count_words_in_quotes(text):\n",
    "    x = re.findall(\"'.'|\\\".\\\"\", text)\n",
    "    count=0\n",
    "    if x is None:\n",
    "        return 0\n",
    "    else:\n",
    "        for i in x:\n",
    "            t=i[1:-1]\n",
    "            count+=count_words(t)\n",
    "        return count"
   ]
  },
  {
   "cell_type": "markdown",
   "id": "eca4cf36",
   "metadata": {},
   "source": [
    "#### 7. Number of sentences\n",
    "Count the number of sentences in a tweet."
   ]
  },
  {
   "cell_type": "code",
   "execution_count": 15,
   "id": "d49b403a",
   "metadata": {},
   "outputs": [],
   "source": [
    "def count_sent(text):\n",
    "    return len(nltk.sent_tokenize(text))"
   ]
  },
  {
   "cell_type": "markdown",
   "id": "b99d55ce",
   "metadata": {},
   "source": [
    "#### 8. Count the number of unique words\n",
    "Count the number of unique words in a tweet."
   ]
  },
  {
   "cell_type": "code",
   "execution_count": 16,
   "id": "9e148ff7",
   "metadata": {},
   "outputs": [],
   "source": [
    "def count_unique_words(text):\n",
    "    return len(set(text.split()))"
   ]
  },
  {
   "cell_type": "markdown",
   "id": "d918ea7c",
   "metadata": {},
   "source": [
    "#### 9. Count of hashtags\n",
    "Since we are using the Twitter dataset we can count the number of times users used the hashtag."
   ]
  },
  {
   "cell_type": "code",
   "execution_count": 17,
   "id": "da43bf0c",
   "metadata": {},
   "outputs": [],
   "source": [
    "def count_htags(text):\n",
    "    x = re.findall(r'(#w[A-Za-z0-9]*)', text)\n",
    "    return len(x) "
   ]
  },
  {
   "cell_type": "markdown",
   "id": "7a2084f9",
   "metadata": {},
   "source": [
    "#### 10. Count of mentions\n",
    "On Twitter, most of the time people reply or mention someone in their tweet, counting the number of mentions can also be treated as a feature."
   ]
  },
  {
   "cell_type": "code",
   "execution_count": 18,
   "id": "35b5661e",
   "metadata": {},
   "outputs": [],
   "source": [
    "def count_mentions(text):\n",
    "    x = re.findall(r'(@w[A-Za-z0-9]*)', text)\n",
    "    return len(x)"
   ]
  },
  {
   "cell_type": "markdown",
   "id": "60c47f74",
   "metadata": {},
   "source": [
    "#### 11. Count of stopwords\n",
    "Here we will count the number of stopwords used in a tweet."
   ]
  },
  {
   "cell_type": "code",
   "execution_count": 19,
   "id": "5f24a1dc",
   "metadata": {},
   "outputs": [],
   "source": [
    "def count_stopwords(text):\n",
    "    stop_words = set(stopwords.words('english'))  \n",
    "    word_tokens = word_tokenize(text)\n",
    "    stopwords_x = [w for w in word_tokens if w in stop_words]\n",
    "    return len(stopwords_x)"
   ]
  },
  {
   "cell_type": "markdown",
   "id": "49e0490b",
   "metadata": {},
   "source": [
    "#### 12. Calculating average word length\n",
    "This can be calculated by dividing the counts of characters by counts of words.\n",
    "```python\n",
    "train_df['avg_wordlength'] = train_df['char_count']/train_df['word_count']\n",
    "```"
   ]
  },
  {
   "cell_type": "markdown",
   "id": "893600f7",
   "metadata": {},
   "source": [
    "#### 13. Calculating average sentence length\n",
    "This can be calculated by dividing the counts of words by the counts of sentences.\n",
    "```python\n",
    "train_df['avg_sentlength'] = train_df['word_count']/train_df['sent_count']\n",
    "```"
   ]
  },
  {
   "cell_type": "markdown",
   "id": "beb67cbe",
   "metadata": {},
   "source": [
    "#### 14. unique words vs word count feature\n",
    "This feature is basically the ratio of unique words to a total number of words.\n",
    "```python\n",
    "df['unique_vs_words'] = df['unique_word_count']/df['word_count']\n",
    "```"
   ]
  },
  {
   "cell_type": "markdown",
   "id": "47c402d1",
   "metadata": {},
   "source": [
    "#### 15. Stopwords count vs words counts feature\n",
    "This feature is also the ratio of counts of stopwords to the total number of words.\n",
    "```python\n",
    "df['stopwords_vs_words'] = df['stopword_count']/df['word_count']\n",
    "```"
   ]
  },
  {
   "cell_type": "markdown",
   "id": "f539f6b9",
   "metadata": {},
   "source": [
    "<a id='sect3'></a>\n",
    "## <font color='darkblue'>Implementation</font> ([back](#sect0))\n",
    "We will focus more on feature engineering, for this we will keep the approach simple, by using TF-IDF and simple pre-processing. All the code will be available on my GitHub repository https://github.com/ahmadkhan242/Feature-Engineering-in-NLP."
   ]
  },
  {
   "cell_type": "markdown",
   "id": "995bf849",
   "metadata": {},
   "source": [
    "### <font color='darkgreen'>Applying the above-defined feature extraction on train and test set</font>"
   ]
  },
  {
   "cell_type": "code",
   "execution_count": 20,
   "id": "490b281d",
   "metadata": {},
   "outputs": [],
   "source": [
    "def gen_features(df):\n",
    "    df['char_count'] = df[\"tweet\"].apply(lambda x:count_chars(x))\n",
    "    df['word_count'] = df[\"tweet\"].apply(lambda x:count_words(x))\n",
    "    df['sent_count'] = df[\"tweet\"].apply(lambda x:count_sent(x))\n",
    "    df['capital_char_count'] = df[\"tweet\"].apply(lambda x:count_capital_chars(x))\n",
    "    df['capital_word_count'] = df[\"tweet\"].apply(lambda x:count_capital_words(x))\n",
    "    df['quoted_word_count'] = df[\"tweet\"].apply(lambda x:count_words_in_quotes(x))\n",
    "    df['stopword_count'] = df[\"tweet\"].apply(lambda x:count_stopwords(x))\n",
    "    df['unique_word_count'] = df[\"tweet\"].apply(lambda x:count_unique_words(x))\n",
    "    df['htag_count'] = df[\"tweet\"].apply(lambda x:count_htags(x))\n",
    "    df['mention_count'] = df[\"tweet\"].apply(lambda x:count_mentions(x))\n",
    "    df['punct_count'] = df[\"tweet\"].apply(lambda x:count_punctuations(x))\n",
    "    df['avg_wordlength'] = df['char_count']/df['word_count']\n",
    "    df['avg_sentlength'] = df['word_count']/df['sent_count']\n",
    "    df['unique_vs_words'] = df['unique_word_count']/df['word_count']\n",
    "    df['stopwords_vs_words'] = df['stopword_count']/df['word_count']\n",
    "    return df"
   ]
  },
  {
   "cell_type": "code",
   "execution_count": 21,
   "id": "f2ad7e67",
   "metadata": {},
   "outputs": [],
   "source": [
    "train_df = gen_features(train_df)\n",
    "test_df = gen_features(test_df)"
   ]
  },
  {
   "cell_type": "code",
   "execution_count": 22,
   "id": "c1d240b8",
   "metadata": {},
   "outputs": [
    {
     "data": {
      "text/html": [
       "<div>\n",
       "<style scoped>\n",
       "    .dataframe tbody tr th:only-of-type {\n",
       "        vertical-align: middle;\n",
       "    }\n",
       "\n",
       "    .dataframe tbody tr th {\n",
       "        vertical-align: top;\n",
       "    }\n",
       "\n",
       "    .dataframe thead th {\n",
       "        text-align: right;\n",
       "    }\n",
       "</style>\n",
       "<table border=\"1\" class=\"dataframe\">\n",
       "  <thead>\n",
       "    <tr style=\"text-align: right;\">\n",
       "      <th></th>\n",
       "      <th>id</th>\n",
       "      <th>tweet</th>\n",
       "      <th>label</th>\n",
       "      <th>char_count</th>\n",
       "      <th>word_count</th>\n",
       "      <th>sent_count</th>\n",
       "      <th>capital_char_count</th>\n",
       "      <th>capital_word_count</th>\n",
       "      <th>quoted_word_count</th>\n",
       "      <th>stopword_count</th>\n",
       "      <th>unique_word_count</th>\n",
       "      <th>htag_count</th>\n",
       "      <th>mention_count</th>\n",
       "      <th>punct_count</th>\n",
       "      <th>avg_wordlength</th>\n",
       "      <th>avg_sentlength</th>\n",
       "      <th>unique_vs_words</th>\n",
       "      <th>stopwords_vs_words</th>\n",
       "    </tr>\n",
       "  </thead>\n",
       "  <tbody>\n",
       "    <tr>\n",
       "      <th>2158</th>\n",
       "      <td>2159</td>\n",
       "      <td>Orwell not dead, but living under a bridge (co...</td>\n",
       "      <td>fake</td>\n",
       "      <td>130</td>\n",
       "      <td>14</td>\n",
       "      <td>1</td>\n",
       "      <td>5</td>\n",
       "      <td>0</td>\n",
       "      <td>0</td>\n",
       "      <td>4</td>\n",
       "      <td>14</td>\n",
       "      <td>0</td>\n",
       "      <td>0</td>\n",
       "      <td>{'! count': 0, '\" count': 0, '# count': 4, '$ ...</td>\n",
       "      <td>9.285714</td>\n",
       "      <td>14.0</td>\n",
       "      <td>1.000000</td>\n",
       "      <td>0.285714</td>\n",
       "    </tr>\n",
       "    <tr>\n",
       "      <th>5871</th>\n",
       "      <td>5872</td>\n",
       "      <td>The Governor of Maine has ordered restaurant s...</td>\n",
       "      <td>fake</td>\n",
       "      <td>130</td>\n",
       "      <td>20</td>\n",
       "      <td>1</td>\n",
       "      <td>8</td>\n",
       "      <td>1</td>\n",
       "      <td>0</td>\n",
       "      <td>6</td>\n",
       "      <td>20</td>\n",
       "      <td>0</td>\n",
       "      <td>0</td>\n",
       "      <td>{'! count': 0, '\" count': 0, '# count': 0, '$ ...</td>\n",
       "      <td>6.500000</td>\n",
       "      <td>20.0</td>\n",
       "      <td>1.000000</td>\n",
       "      <td>0.300000</td>\n",
       "    </tr>\n",
       "    <tr>\n",
       "      <th>4240</th>\n",
       "      <td>4241</td>\n",
       "      <td>The media ???pulled down an entire shelf of go...</td>\n",
       "      <td>fake</td>\n",
       "      <td>143</td>\n",
       "      <td>26</td>\n",
       "      <td>2</td>\n",
       "      <td>1</td>\n",
       "      <td>0</td>\n",
       "      <td>0</td>\n",
       "      <td>13</td>\n",
       "      <td>24</td>\n",
       "      <td>0</td>\n",
       "      <td>0</td>\n",
       "      <td>{'! count': 0, '\" count': 1, '# count': 0, '$ ...</td>\n",
       "      <td>5.500000</td>\n",
       "      <td>13.0</td>\n",
       "      <td>0.923077</td>\n",
       "      <td>0.500000</td>\n",
       "    </tr>\n",
       "  </tbody>\n",
       "</table>\n",
       "</div>"
      ],
      "text/plain": [
       "        id                                              tweet label  \\\n",
       "2158  2159  Orwell not dead, but living under a bridge (co...  fake   \n",
       "5871  5872  The Governor of Maine has ordered restaurant s...  fake   \n",
       "4240  4241  The media ???pulled down an entire shelf of go...  fake   \n",
       "\n",
       "      char_count  word_count  sent_count  capital_char_count  \\\n",
       "2158         130          14           1                   5   \n",
       "5871         130          20           1                   8   \n",
       "4240         143          26           2                   1   \n",
       "\n",
       "      capital_word_count  quoted_word_count  stopword_count  \\\n",
       "2158                   0                  0               4   \n",
       "5871                   1                  0               6   \n",
       "4240                   0                  0              13   \n",
       "\n",
       "      unique_word_count  htag_count  mention_count  \\\n",
       "2158                 14           0              0   \n",
       "5871                 20           0              0   \n",
       "4240                 24           0              0   \n",
       "\n",
       "                                            punct_count  avg_wordlength  \\\n",
       "2158  {'! count': 0, '\" count': 0, '# count': 4, '$ ...        9.285714   \n",
       "5871  {'! count': 0, '\" count': 0, '# count': 0, '$ ...        6.500000   \n",
       "4240  {'! count': 0, '\" count': 1, '# count': 0, '$ ...        5.500000   \n",
       "\n",
       "      avg_sentlength  unique_vs_words  stopwords_vs_words  \n",
       "2158            14.0         1.000000            0.285714  \n",
       "5871            20.0         1.000000            0.300000  \n",
       "4240            13.0         0.923077            0.500000  "
      ]
     },
     "execution_count": 22,
     "metadata": {},
     "output_type": "execute_result"
    }
   ],
   "source": [
    "train_df.sample(n=3)"
   ]
  },
  {
   "cell_type": "markdown",
   "id": "783c0001",
   "metadata": {},
   "source": [
    "### <font color='darkgreen'>Adding some extra features using punctuation count</font>\n",
    "We will create a DataFrame from the dictionary returned by the “punct_count” function and then merge it with the main dataset."
   ]
  },
  {
   "cell_type": "code",
   "execution_count": 23,
   "id": "4a81b446",
   "metadata": {},
   "outputs": [
    {
     "data": {
      "text/html": [
       "<div>\n",
       "<style scoped>\n",
       "    .dataframe tbody tr th:only-of-type {\n",
       "        vertical-align: middle;\n",
       "    }\n",
       "\n",
       "    .dataframe tbody tr th {\n",
       "        vertical-align: top;\n",
       "    }\n",
       "\n",
       "    .dataframe thead th {\n",
       "        text-align: right;\n",
       "    }\n",
       "</style>\n",
       "<table border=\"1\" class=\"dataframe\">\n",
       "  <thead>\n",
       "    <tr style=\"text-align: right;\">\n",
       "      <th></th>\n",
       "      <th>! count</th>\n",
       "      <th>\" count</th>\n",
       "      <th># count</th>\n",
       "      <th>$ count</th>\n",
       "      <th>% count</th>\n",
       "      <th>&amp; count</th>\n",
       "      <th>' count</th>\n",
       "      <th>( count</th>\n",
       "      <th>) count</th>\n",
       "      <th>* count</th>\n",
       "      <th>...</th>\n",
       "      <th>[ count</th>\n",
       "      <th>\\ count</th>\n",
       "      <th>] count</th>\n",
       "      <th>^ count</th>\n",
       "      <th>_ count</th>\n",
       "      <th>` count</th>\n",
       "      <th>{ count</th>\n",
       "      <th>| count</th>\n",
       "      <th>} count</th>\n",
       "      <th>~ count</th>\n",
       "    </tr>\n",
       "  </thead>\n",
       "  <tbody>\n",
       "    <tr>\n",
       "      <th>0</th>\n",
       "      <td>0</td>\n",
       "      <td>0</td>\n",
       "      <td>0</td>\n",
       "      <td>0</td>\n",
       "      <td>0</td>\n",
       "      <td>0</td>\n",
       "      <td>0</td>\n",
       "      <td>0</td>\n",
       "      <td>0</td>\n",
       "      <td>0</td>\n",
       "      <td>...</td>\n",
       "      <td>0</td>\n",
       "      <td>0</td>\n",
       "      <td>0</td>\n",
       "      <td>0</td>\n",
       "      <td>0</td>\n",
       "      <td>0</td>\n",
       "      <td>0</td>\n",
       "      <td>0</td>\n",
       "      <td>0</td>\n",
       "      <td>0</td>\n",
       "    </tr>\n",
       "    <tr>\n",
       "      <th>1</th>\n",
       "      <td>0</td>\n",
       "      <td>0</td>\n",
       "      <td>0</td>\n",
       "      <td>0</td>\n",
       "      <td>0</td>\n",
       "      <td>0</td>\n",
       "      <td>0</td>\n",
       "      <td>0</td>\n",
       "      <td>0</td>\n",
       "      <td>0</td>\n",
       "      <td>...</td>\n",
       "      <td>0</td>\n",
       "      <td>0</td>\n",
       "      <td>0</td>\n",
       "      <td>0</td>\n",
       "      <td>0</td>\n",
       "      <td>0</td>\n",
       "      <td>0</td>\n",
       "      <td>0</td>\n",
       "      <td>0</td>\n",
       "      <td>0</td>\n",
       "    </tr>\n",
       "    <tr>\n",
       "      <th>2</th>\n",
       "      <td>0</td>\n",
       "      <td>0</td>\n",
       "      <td>2</td>\n",
       "      <td>0</td>\n",
       "      <td>0</td>\n",
       "      <td>0</td>\n",
       "      <td>0</td>\n",
       "      <td>1</td>\n",
       "      <td>1</td>\n",
       "      <td>0</td>\n",
       "      <td>...</td>\n",
       "      <td>0</td>\n",
       "      <td>0</td>\n",
       "      <td>0</td>\n",
       "      <td>0</td>\n",
       "      <td>0</td>\n",
       "      <td>0</td>\n",
       "      <td>0</td>\n",
       "      <td>0</td>\n",
       "      <td>0</td>\n",
       "      <td>0</td>\n",
       "    </tr>\n",
       "  </tbody>\n",
       "</table>\n",
       "<p>3 rows × 32 columns</p>\n",
       "</div>"
      ],
      "text/plain": [
       "   ! count  \" count  # count  $ count  % count  & count  ' count  ( count  \\\n",
       "0        0        0        0        0        0        0        0        0   \n",
       "1        0        0        0        0        0        0        0        0   \n",
       "2        0        0        2        0        0        0        0        1   \n",
       "\n",
       "   ) count  * count  ...  [ count  \\ count  ] count  ^ count  _ count  \\\n",
       "0        0        0  ...        0        0        0        0        0   \n",
       "1        0        0  ...        0        0        0        0        0   \n",
       "2        1        0  ...        0        0        0        0        0   \n",
       "\n",
       "   ` count  { count  | count  } count  ~ count  \n",
       "0        0        0        0        0        0  \n",
       "1        0        0        0        0        0  \n",
       "2        0        0        0        0        0  \n",
       "\n",
       "[3 rows x 32 columns]"
      ]
     },
     "execution_count": 23,
     "metadata": {},
     "output_type": "execute_result"
    }
   ],
   "source": [
    "test_punct_df = pd.DataFrame(list(test_df.punct_count))\n",
    "train_punct_df = pd.DataFrame(list(train_df.punct_count))\n",
    "train_punct_df.head(n=3)"
   ]
  },
  {
   "cell_type": "code",
   "execution_count": 24,
   "id": "74b39b57",
   "metadata": {},
   "outputs": [
    {
     "data": {
      "text/html": [
       "<div>\n",
       "<style scoped>\n",
       "    .dataframe tbody tr th:only-of-type {\n",
       "        vertical-align: middle;\n",
       "    }\n",
       "\n",
       "    .dataframe tbody tr th {\n",
       "        vertical-align: top;\n",
       "    }\n",
       "\n",
       "    .dataframe thead th {\n",
       "        text-align: right;\n",
       "    }\n",
       "</style>\n",
       "<table border=\"1\" class=\"dataframe\">\n",
       "  <thead>\n",
       "    <tr style=\"text-align: right;\">\n",
       "      <th></th>\n",
       "      <th>id</th>\n",
       "      <th>tweet</th>\n",
       "      <th>label</th>\n",
       "      <th>char_count</th>\n",
       "      <th>word_count</th>\n",
       "      <th>sent_count</th>\n",
       "      <th>capital_char_count</th>\n",
       "      <th>capital_word_count</th>\n",
       "      <th>quoted_word_count</th>\n",
       "      <th>stopword_count</th>\n",
       "      <th>...</th>\n",
       "      <th>[ count</th>\n",
       "      <th>\\ count</th>\n",
       "      <th>] count</th>\n",
       "      <th>^ count</th>\n",
       "      <th>_ count</th>\n",
       "      <th>` count</th>\n",
       "      <th>{ count</th>\n",
       "      <th>| count</th>\n",
       "      <th>} count</th>\n",
       "      <th>~ count</th>\n",
       "    </tr>\n",
       "  </thead>\n",
       "  <tbody>\n",
       "    <tr>\n",
       "      <th>5433</th>\n",
       "      <td>5434</td>\n",
       "      <td>Youth and summer camp administrators: CDC has ...</td>\n",
       "      <td>real</td>\n",
       "      <td>288</td>\n",
       "      <td>40</td>\n",
       "      <td>4</td>\n",
       "      <td>21</td>\n",
       "      <td>2</td>\n",
       "      <td>0</td>\n",
       "      <td>12</td>\n",
       "      <td>...</td>\n",
       "      <td>0</td>\n",
       "      <td>0</td>\n",
       "      <td>0</td>\n",
       "      <td>0</td>\n",
       "      <td>0</td>\n",
       "      <td>0</td>\n",
       "      <td>0</td>\n",
       "      <td>0</td>\n",
       "      <td>0</td>\n",
       "      <td>0</td>\n",
       "    </tr>\n",
       "    <tr>\n",
       "      <th>4857</th>\n",
       "      <td>4858</td>\n",
       "      <td>First coronavirus reinfection reported in the ...</td>\n",
       "      <td>real</td>\n",
       "      <td>186</td>\n",
       "      <td>26</td>\n",
       "      <td>3</td>\n",
       "      <td>10</td>\n",
       "      <td>1</td>\n",
       "      <td>0</td>\n",
       "      <td>8</td>\n",
       "      <td>...</td>\n",
       "      <td>0</td>\n",
       "      <td>0</td>\n",
       "      <td>0</td>\n",
       "      <td>0</td>\n",
       "      <td>0</td>\n",
       "      <td>0</td>\n",
       "      <td>0</td>\n",
       "      <td>0</td>\n",
       "      <td>0</td>\n",
       "      <td>0</td>\n",
       "    </tr>\n",
       "    <tr>\n",
       "      <th>5496</th>\n",
       "      <td>5497</td>\n",
       "      <td>Italian doctors have confirmed that COVID-19 i...</td>\n",
       "      <td>fake</td>\n",
       "      <td>132</td>\n",
       "      <td>23</td>\n",
       "      <td>1</td>\n",
       "      <td>6</td>\n",
       "      <td>1</td>\n",
       "      <td>0</td>\n",
       "      <td>12</td>\n",
       "      <td>...</td>\n",
       "      <td>0</td>\n",
       "      <td>0</td>\n",
       "      <td>0</td>\n",
       "      <td>0</td>\n",
       "      <td>0</td>\n",
       "      <td>0</td>\n",
       "      <td>0</td>\n",
       "      <td>0</td>\n",
       "      <td>0</td>\n",
       "      <td>0</td>\n",
       "    </tr>\n",
       "  </tbody>\n",
       "</table>\n",
       "<p>3 rows × 50 columns</p>\n",
       "</div>"
      ],
      "text/plain": [
       "        id                                              tweet label  \\\n",
       "5433  5434  Youth and summer camp administrators: CDC has ...  real   \n",
       "4857  4858  First coronavirus reinfection reported in the ...  real   \n",
       "5496  5497  Italian doctors have confirmed that COVID-19 i...  fake   \n",
       "\n",
       "      char_count  word_count  sent_count  capital_char_count  \\\n",
       "5433         288          40           4                  21   \n",
       "4857         186          26           3                  10   \n",
       "5496         132          23           1                   6   \n",
       "\n",
       "      capital_word_count  quoted_word_count  stopword_count  ...  [ count  \\\n",
       "5433                   2                  0              12  ...        0   \n",
       "4857                   1                  0               8  ...        0   \n",
       "5496                   1                  0              12  ...        0   \n",
       "\n",
       "      \\ count  ] count ^ count  _ count  ` count  { count  | count  } count  \\\n",
       "5433        0        0       0        0        0        0        0        0   \n",
       "4857        0        0       0        0        0        0        0        0   \n",
       "5496        0        0       0        0        0        0        0        0   \n",
       "\n",
       "      ~ count  \n",
       "5433        0  \n",
       "4857        0  \n",
       "5496        0  \n",
       "\n",
       "[3 rows x 50 columns]"
      ]
     },
     "execution_count": 24,
     "metadata": {},
     "output_type": "execute_result"
    }
   ],
   "source": [
    "# Merging pnctuation DataFrame with main DataFrame\n",
    "train_df = pd.merge(train_df, train_punct_df, left_index=True, right_index=True)\n",
    "test_df = pd.merge(test_df, test_punct_df, left_index=True, right_index=True)\n",
    "train_df.sample(n=3)"
   ]
  },
  {
   "cell_type": "code",
   "execution_count": 25,
   "id": "48aa1c9f",
   "metadata": {},
   "outputs": [
    {
     "data": {
      "text/plain": [
       "Index(['id', 'tweet', 'label', 'char_count', 'word_count', 'sent_count',\n",
       "       'capital_char_count', 'capital_word_count', 'quoted_word_count',\n",
       "       'stopword_count', 'unique_word_count', 'htag_count', 'mention_count',\n",
       "       'avg_wordlength', 'avg_sentlength', 'unique_vs_words',\n",
       "       'stopwords_vs_words', '! count', '\" count', '# count', '$ count',\n",
       "       '% count', '& count', '' count', '( count', ') count', '* count',\n",
       "       '+ count', ', count', '- count', '. count', '/ count', ': count',\n",
       "       '; count', '< count', '= count', '> count', '? count', '@ count',\n",
       "       '[ count', '\\ count', '] count', '^ count', '_ count', '` count',\n",
       "       '{ count', '| count', '} count', '~ count'],\n",
       "      dtype='object')"
      ]
     },
     "execution_count": 25,
     "metadata": {},
     "output_type": "execute_result"
    }
   ],
   "source": [
    "# We can drop \"punct_count\" column from both df and test DataFrame\n",
    "train_df.drop(columns=['punct_count'], inplace=True)\n",
    "test_df.drop(columns=['punct_count'], inplace=True)\n",
    "train_df.columns"
   ]
  },
  {
   "cell_type": "markdown",
   "id": "39493d7b",
   "metadata": {},
   "source": [
    "### <font color='darkgreen'>Re-processing</font>\n",
    "We performed a simple pre-processing step, like removing links, removing user name, numbers, double space, punctuation, lower casing, etc."
   ]
  },
  {
   "cell_type": "code",
   "execution_count": 26,
   "id": "4383344c",
   "metadata": {},
   "outputs": [],
   "source": [
    "def remove_links(tweet):\n",
    "    '''Takes a string and removes web links from it'''\n",
    "    tweet = re.sub(r'httpS+', '', tweet) # remove http links\n",
    "    tweet = re.sub(r'bit.ly/S+', '', tweet) # rempve bitly links\n",
    "    tweet = tweet.strip('[link]') # remove [links]\n",
    "    return tweet\n",
    "def remove_users(tweet):\n",
    "    '''Takes a string and removes retweet and @user information'''\n",
    "    tweet = re.sub('(RTs@[A-Za-z]+[A-Za-z0-9-_]+)', '', tweet) # remove retweet\n",
    "    tweet = re.sub('(@[A-Za-z]+[A-Za-z0-9-_]+)', '', tweet) # remove tweeted at\n",
    "    return tweet\n",
    "\n",
    "my_punctuation = '!\"$%&\\'()*+,-./:;<=>?[\\]^_`{|}~•@'\n",
    "    \n",
    "def preprocess(sent):\n",
    "    sent = remove_users(sent)\n",
    "    sent = remove_links(sent)\n",
    "    sent = sent.lower() # lower case\n",
    "    sent = re.sub('['+my_punctuation + ']+', ' ', sent) # strip punctuation\n",
    "    sent = re.sub('s+', ' ', sent) #remove double spacing\n",
    "    sent = re.sub('([0-9]+)', '', sent) # remove numbers\n",
    "    sent_token_list = [word for word in sent.split(' ')]\n",
    "    sent = ' '.join(sent_token_list)\n",
    "    return sent\n",
    "\n",
    "train_df['tweet']   = train_df['tweet'].apply(lambda x: preprocess(x))\n",
    "test_df['tweet'] = test_df['tweet'].apply(lambda x: preprocess(x))"
   ]
  },
  {
   "cell_type": "code",
   "execution_count": 27,
   "id": "d444641f",
   "metadata": {},
   "outputs": [
    {
     "data": {
      "text/plain": [
       "Index(['id', 'tweet', 'label', 'char_count', 'word_count', 'sent_count',\n",
       "       'capital_char_count', 'capital_word_count', 'quoted_word_count',\n",
       "       'stopword_count', 'unique_word_count', 'htag_count', 'mention_count',\n",
       "       'avg_wordlength', 'avg_sentlength', 'unique_vs_words',\n",
       "       'stopwords_vs_words', '! count', '\" count', '# count', '$ count',\n",
       "       '% count', '& count', '' count', '( count', ') count', '* count',\n",
       "       '+ count', ', count', '- count', '. count', '/ count', ': count',\n",
       "       '; count', '< count', '= count', '> count', '? count', '@ count',\n",
       "       '[ count', '\\ count', '] count', '^ count', '_ count', '` count',\n",
       "       '{ count', '| count', '} count', '~ count'],\n",
       "      dtype='object')"
      ]
     },
     "execution_count": 27,
     "metadata": {},
     "output_type": "execute_result"
    }
   ],
   "source": [
    "train_df.columns"
   ]
  },
  {
   "cell_type": "markdown",
   "id": "2d173f34",
   "metadata": {},
   "source": [
    "### <font color='darkgreen'>Encoding text</font>\n",
    "We will encode our text data using TF-IDF. We first fit transform on our train and test set’s tweet column and then merge it with all features columns."
   ]
  },
  {
   "cell_type": "code",
   "execution_count": 28,
   "id": "d1035074",
   "metadata": {},
   "outputs": [],
   "source": [
    "vectorizer            =  TfidfVectorizer()\n",
    "train_tf_idf_features =  vectorizer.fit_transform(train_df['tweet']).toarray()\n",
    "test_tf_idf_features  =  vectorizer.transform(test_df['tweet']).toarray()\n",
    "\n",
    "# Converting above list to DataFrame\n",
    "train_tf_idf_df          = pd.DataFrame(train_tf_idf_features)\n",
    "test_tf_idf_df           = pd.DataFrame(test_tf_idf_features)\n",
    "\n",
    "# Saparating train and test labels from all features\n",
    "y_train               = train_df['label']\n",
    "y_test                = test_df['label']\n",
    "\n",
    "#Listing all features\n",
    "features = ['char_count', 'word_count', 'sent_count',\n",
    "       'capital_char_count', 'capital_word_count', 'quoted_word_count',\n",
    "       'stopword_count', 'unique_word_count', 'htag_count', 'mention_count',\n",
    "       'avg_wordlength', 'avg_sentlength', 'unique_vs_words',\n",
    "       'stopwords_vs_words', '! count', '\" count', '# count', '$ count',\n",
    "       '% count', '& count', '\\' count', '( count', ') count', '* count',\n",
    "       '+ count', ', count', '- count', '. count', '/ count', ': count',\n",
    "       '; count', '< count', '= count', '> count', '? count', '@ count',\n",
    "       '[ count', '\\ count', '] count', '^ count', '_ count', '` count',\n",
    "       '{ count', '| count', '} count', '~ count']\n",
    "\n",
    "# Finally merging all features with above TF-IDF. \n",
    "X_train = pd.merge(train_tf_idf_df, train_df[features], left_index=True, right_index=True)\n",
    "X_test  = pd.merge(test_tf_idf_df, test_df[features], left_index=True, right_index=True)"
   ]
  },
  {
   "cell_type": "code",
   "execution_count": 29,
   "id": "910aa79b",
   "metadata": {},
   "outputs": [
    {
     "data": {
      "text/html": [
       "<div>\n",
       "<style scoped>\n",
       "    .dataframe tbody tr th:only-of-type {\n",
       "        vertical-align: middle;\n",
       "    }\n",
       "\n",
       "    .dataframe tbody tr th {\n",
       "        vertical-align: top;\n",
       "    }\n",
       "\n",
       "    .dataframe thead th {\n",
       "        text-align: right;\n",
       "    }\n",
       "</style>\n",
       "<table border=\"1\" class=\"dataframe\">\n",
       "  <thead>\n",
       "    <tr style=\"text-align: right;\">\n",
       "      <th></th>\n",
       "      <th>0</th>\n",
       "      <th>1</th>\n",
       "      <th>2</th>\n",
       "      <th>3</th>\n",
       "      <th>4</th>\n",
       "      <th>5</th>\n",
       "      <th>6</th>\n",
       "      <th>7</th>\n",
       "      <th>8</th>\n",
       "      <th>9</th>\n",
       "      <th>...</th>\n",
       "      <th>[ count</th>\n",
       "      <th>\\ count</th>\n",
       "      <th>] count</th>\n",
       "      <th>^ count</th>\n",
       "      <th>_ count</th>\n",
       "      <th>` count</th>\n",
       "      <th>{ count</th>\n",
       "      <th>| count</th>\n",
       "      <th>} count</th>\n",
       "      <th>~ count</th>\n",
       "    </tr>\n",
       "  </thead>\n",
       "  <tbody>\n",
       "    <tr>\n",
       "      <th>5513</th>\n",
       "      <td>0.0</td>\n",
       "      <td>0.0</td>\n",
       "      <td>0.0</td>\n",
       "      <td>0.0</td>\n",
       "      <td>0.0</td>\n",
       "      <td>0.0</td>\n",
       "      <td>0.0</td>\n",
       "      <td>0.0</td>\n",
       "      <td>0.0</td>\n",
       "      <td>0.0</td>\n",
       "      <td>...</td>\n",
       "      <td>0</td>\n",
       "      <td>0</td>\n",
       "      <td>0</td>\n",
       "      <td>0</td>\n",
       "      <td>0</td>\n",
       "      <td>0</td>\n",
       "      <td>0</td>\n",
       "      <td>0</td>\n",
       "      <td>0</td>\n",
       "      <td>0</td>\n",
       "    </tr>\n",
       "    <tr>\n",
       "      <th>3535</th>\n",
       "      <td>0.0</td>\n",
       "      <td>0.0</td>\n",
       "      <td>0.0</td>\n",
       "      <td>0.0</td>\n",
       "      <td>0.0</td>\n",
       "      <td>0.0</td>\n",
       "      <td>0.0</td>\n",
       "      <td>0.0</td>\n",
       "      <td>0.0</td>\n",
       "      <td>0.0</td>\n",
       "      <td>...</td>\n",
       "      <td>0</td>\n",
       "      <td>0</td>\n",
       "      <td>0</td>\n",
       "      <td>0</td>\n",
       "      <td>0</td>\n",
       "      <td>0</td>\n",
       "      <td>0</td>\n",
       "      <td>0</td>\n",
       "      <td>0</td>\n",
       "      <td>0</td>\n",
       "    </tr>\n",
       "    <tr>\n",
       "      <th>1227</th>\n",
       "      <td>0.0</td>\n",
       "      <td>0.0</td>\n",
       "      <td>0.0</td>\n",
       "      <td>0.0</td>\n",
       "      <td>0.0</td>\n",
       "      <td>0.0</td>\n",
       "      <td>0.0</td>\n",
       "      <td>0.0</td>\n",
       "      <td>0.0</td>\n",
       "      <td>0.0</td>\n",
       "      <td>...</td>\n",
       "      <td>0</td>\n",
       "      <td>0</td>\n",
       "      <td>0</td>\n",
       "      <td>0</td>\n",
       "      <td>0</td>\n",
       "      <td>0</td>\n",
       "      <td>0</td>\n",
       "      <td>0</td>\n",
       "      <td>0</td>\n",
       "      <td>0</td>\n",
       "    </tr>\n",
       "  </tbody>\n",
       "</table>\n",
       "<p>3 rows × 13918 columns</p>\n",
       "</div>"
      ],
      "text/plain": [
       "        0    1    2    3    4    5    6    7    8    9  ...  [ count  \\ count  \\\n",
       "5513  0.0  0.0  0.0  0.0  0.0  0.0  0.0  0.0  0.0  0.0  ...        0        0   \n",
       "3535  0.0  0.0  0.0  0.0  0.0  0.0  0.0  0.0  0.0  0.0  ...        0        0   \n",
       "1227  0.0  0.0  0.0  0.0  0.0  0.0  0.0  0.0  0.0  0.0  ...        0        0   \n",
       "\n",
       "      ] count  ^ count  _ count  ` count  { count  | count  } count  ~ count  \n",
       "5513        0        0        0        0        0        0        0        0  \n",
       "3535        0        0        0        0        0        0        0        0  \n",
       "1227        0        0        0        0        0        0        0        0  \n",
       "\n",
       "[3 rows x 13918 columns]"
      ]
     },
     "execution_count": 29,
     "metadata": {},
     "output_type": "execute_result"
    }
   ],
   "source": [
    "X_train.sample(n=3)"
   ]
  },
  {
   "cell_type": "markdown",
   "id": "e6896c25",
   "metadata": {},
   "source": [
    "### <font color='darkgreen'>Training</font>\n",
    "For training, we will be using the Random forest algorithm ([**RandomForestClassifier**](https://scikit-learn.org/stable/modules/generated/sklearn.ensemble.RandomForestClassifier.html)) from the sci-kit learn library."
   ]
  },
  {
   "cell_type": "code",
   "execution_count": 30,
   "id": "7eb41dda",
   "metadata": {},
   "outputs": [
    {
     "name": "stderr",
     "output_type": "stream",
     "text": [
      "/root/Github/ml_courses/env/lib/python3.8/site-packages/sklearn/utils/validation.py:1673: FutureWarning: Feature names only support names that are all strings. Got feature names with dtypes: ['int', 'str']. An error will be raised in 1.2.\n",
      "  warnings.warn(\n"
     ]
    },
    {
     "name": "stdout",
     "output_type": "stream",
     "text": [
      "CPU times: user 2min 2s, sys: 194 ms, total: 2min 3s\n",
      "Wall time: 2min 3s\n"
     ]
    },
    {
     "data": {
      "text/plain": [
       "RandomForestClassifier(min_samples_split=15, n_estimators=1000, random_state=42)"
      ]
     },
     "execution_count": 30,
     "metadata": {},
     "output_type": "execute_result"
    }
   ],
   "source": [
    "%%time\n",
    "clf_model = RandomForestClassifier(\n",
    "    n_estimators = 1000, min_samples_split = 15, random_state = RANDOM_STATE)\n",
    "clf_model.fit(X_train, y_train)"
   ]
  },
  {
   "cell_type": "code",
   "execution_count": 31,
   "id": "610090c3",
   "metadata": {},
   "outputs": [
    {
     "name": "stderr",
     "output_type": "stream",
     "text": [
      "/root/Github/ml_courses/env/lib/python3.8/site-packages/sklearn/utils/validation.py:1673: FutureWarning: Feature names only support names that are all strings. Got feature names with dtypes: ['int', 'str']. An error will be raised in 1.2.\n",
      "  warnings.warn(\n"
     ]
    }
   ],
   "source": [
    "y_pred = clf_model.predict(X_test)"
   ]
  },
  {
   "cell_type": "code",
   "execution_count": 32,
   "id": "9b7472cd",
   "metadata": {},
   "outputs": [
    {
     "data": {
      "text/plain": [
       "array(['fake', 'real', 'fake', 'fake', 'real', 'real', 'real', 'real',\n",
       "       'fake', 'fake'], dtype=object)"
      ]
     },
     "execution_count": 32,
     "metadata": {},
     "output_type": "execute_result"
    }
   ],
   "source": [
    "y_pred[:10]"
   ]
  },
  {
   "cell_type": "code",
   "execution_count": 33,
   "id": "b5492abe",
   "metadata": {},
   "outputs": [
    {
     "name": "stdout",
     "output_type": "stream",
     "text": [
      "Accuracy: 93.4%\n",
      "\n",
      "              precision    recall  f1-score   support\n",
      "\n",
      "        fake       0.97      0.89      0.93      1020\n",
      "        real       0.91      0.97      0.94      1120\n",
      "\n",
      "    accuracy                           0.93      2140\n",
      "   macro avg       0.94      0.93      0.93      2140\n",
      "weighted avg       0.94      0.93      0.93      2140\n",
      "\n"
     ]
    }
   ],
   "source": [
    "print(f'Accuracy: {accuracy_score(y_test, y_pred):.01%}')\n",
    "print()\n",
    "print(classification_report(y_test, y_pred))"
   ]
  },
  {
   "cell_type": "markdown",
   "id": "e713f83c",
   "metadata": {},
   "source": [
    "<a id='sect4'></a>\n",
    "## <font color='darkblue'>Result comparison</font> ([back](#sect0))\n",
    "* <font size='3ptx'><b><a href='#sect4_1'>Without using Feature Engineering techniques</a></b></font>\n",
    "* <font size='3ptx'><b><a href='#sect4_2'>Using Feature Engineering techniques</a></b></font>\n",
    "<br/>\n",
    "\n",
    "<font size='3ptx'><b>For comparison, we first trained our model on the above dataset by using features engineering techniques and then without using feature engineering techniques</b></font>.\n",
    "\n",
    "In both approaches, we pre-processed the dataset using the same method as described above and TF-IDF was used in both approaches for encoding the text data. You can use whatever encoding techniques you want to use like word2vec, glove, etc."
   ]
  },
  {
   "cell_type": "code",
   "execution_count": 34,
   "id": "7b7b8e89",
   "metadata": {},
   "outputs": [],
   "source": [
    "perf_data = []"
   ]
  },
  {
   "cell_type": "code",
   "execution_count": 35,
   "id": "bb58a2ae",
   "metadata": {},
   "outputs": [],
   "source": [
    "def insert_perf_data(y_pred, name, feature_size):\n",
    "    y_test_binary = [1 if label=='fake' else 0 for label in y_test]\n",
    "    y_pred_binary = [1 if label=='fake' else 0 for label in y_pred]\n",
    "    accuracy = accuracy_score(y_test, y_pred)\n",
    "    perf_data.append((\n",
    "        name,\n",
    "        feature_size,\n",
    "        accuracy,\n",
    "        recall_score(y_test_binary, y_pred_binary),\n",
    "        precision_score(y_test_binary, y_pred_binary),\n",
    "        f1_score(y_test_binary, y_pred_binary)))\n",
    "\n",
    "    print(f'Accuracy: {accuracy:.01%}')\n",
    "    print(classification_report(y_test, y_pred))\n",
    "    return perf_data[-1]"
   ]
  },
  {
   "cell_type": "markdown",
   "id": "12474b58",
   "metadata": {},
   "source": [
    "<a id='sect4_1'></a>\n",
    "### <font color='darkgreen'>Without using Feature Engineering techniques</font>\n",
    "Here we only use features tf-idf:"
   ]
  },
  {
   "cell_type": "code",
   "execution_count": 36,
   "id": "e1c26e45",
   "metadata": {},
   "outputs": [
    {
     "name": "stdout",
     "output_type": "stream",
     "text": [
      "CPU times: user 9min 31s, sys: 159 ms, total: 9min 31s\n",
      "Wall time: 9min 31s\n"
     ]
    },
    {
     "data": {
      "text/plain": [
       "RandomForestClassifier(min_samples_split=15, n_estimators=1000, random_state=42)"
      ]
     },
     "execution_count": 36,
     "metadata": {},
     "output_type": "execute_result"
    }
   ],
   "source": [
    "%%time\n",
    "clf_model = RandomForestClassifier(\n",
    "    n_estimators = 1000, min_samples_split = 15, random_state = RANDOM_STATE)\n",
    "clf_model.fit(train_tf_idf_features, y_train)"
   ]
  },
  {
   "cell_type": "code",
   "execution_count": 37,
   "id": "e3ca1885",
   "metadata": {},
   "outputs": [],
   "source": [
    "y_pred = clf_model.predict(test_tf_idf_features)"
   ]
  },
  {
   "cell_type": "code",
   "execution_count": 38,
   "id": "680ca4ba",
   "metadata": {},
   "outputs": [
    {
     "name": "stdout",
     "output_type": "stream",
     "text": [
      "Accuracy: 91.2%\n",
      "              precision    recall  f1-score   support\n",
      "\n",
      "        fake       0.94      0.87      0.90      1020\n",
      "        real       0.89      0.95      0.92      1120\n",
      "\n",
      "    accuracy                           0.91      2140\n",
      "   macro avg       0.91      0.91      0.91      2140\n",
      "weighted avg       0.91      0.91      0.91      2140\n",
      "\n"
     ]
    },
    {
     "data": {
      "text/plain": [
       "('tf-idf',\n",
       " 13872,\n",
       " 0.9121495327102803,\n",
       " 0.8745098039215686,\n",
       " 0.9369747899159664,\n",
       " 0.9046653144016227)"
      ]
     },
     "execution_count": 38,
     "metadata": {},
     "output_type": "execute_result"
    }
   ],
   "source": [
    "insert_perf_data(y_pred, 'tf-idf', train_tf_idf_features.shape[1])"
   ]
  },
  {
   "cell_type": "markdown",
   "id": "0af9726b",
   "metadata": {},
   "source": [
    "<a id='sect4_2'></a>\n",
    "### <font color='darkgreen'>Using Feature Engineering techniques</font>\n",
    "Here we used up all features we have:"
   ]
  },
  {
   "cell_type": "code",
   "execution_count": 39,
   "id": "67f300b0",
   "metadata": {},
   "outputs": [
    {
     "name": "stderr",
     "output_type": "stream",
     "text": [
      "/root/Github/ml_courses/env/lib/python3.8/site-packages/sklearn/utils/validation.py:1673: FutureWarning: Feature names only support names that are all strings. Got feature names with dtypes: ['int', 'str']. An error will be raised in 1.2.\n",
      "  warnings.warn(\n"
     ]
    },
    {
     "name": "stdout",
     "output_type": "stream",
     "text": [
      "CPU times: user 2min 2s, sys: 264 ms, total: 2min 2s\n",
      "Wall time: 2min 2s\n"
     ]
    },
    {
     "data": {
      "text/plain": [
       "RandomForestClassifier(min_samples_split=15, n_estimators=1000, random_state=42)"
      ]
     },
     "execution_count": 39,
     "metadata": {},
     "output_type": "execute_result"
    }
   ],
   "source": [
    "%%time\n",
    "clf_model = RandomForestClassifier(\n",
    "    n_estimators = 1000, min_samples_split = 15, random_state = RANDOM_STATE)\n",
    "clf_model.fit(X_train, y_train)"
   ]
  },
  {
   "cell_type": "code",
   "execution_count": 40,
   "id": "6cd1a7d7",
   "metadata": {},
   "outputs": [
    {
     "name": "stderr",
     "output_type": "stream",
     "text": [
      "/root/Github/ml_courses/env/lib/python3.8/site-packages/sklearn/utils/validation.py:1673: FutureWarning: Feature names only support names that are all strings. Got feature names with dtypes: ['int', 'str']. An error will be raised in 1.2.\n",
      "  warnings.warn(\n"
     ]
    }
   ],
   "source": [
    "y_pred = clf_model.predict(X_test)"
   ]
  },
  {
   "cell_type": "code",
   "execution_count": 41,
   "id": "470afe08",
   "metadata": {},
   "outputs": [
    {
     "name": "stdout",
     "output_type": "stream",
     "text": [
      "Accuracy: 93.4%\n",
      "              precision    recall  f1-score   support\n",
      "\n",
      "        fake       0.97      0.89      0.93      1020\n",
      "        real       0.91      0.97      0.94      1120\n",
      "\n",
      "    accuracy                           0.93      2140\n",
      "   macro avg       0.94      0.93      0.93      2140\n",
      "weighted avg       0.94      0.93      0.93      2140\n",
      "\n"
     ]
    },
    {
     "data": {
      "text/plain": [
       "('tf-idf + feature engineering',\n",
       " 13918,\n",
       " 0.9336448598130841,\n",
       " 0.8911764705882353,\n",
       " 0.9670212765957447,\n",
       " 0.9275510204081633)"
      ]
     },
     "execution_count": 41,
     "metadata": {},
     "output_type": "execute_result"
    }
   ],
   "source": [
    "insert_perf_data(y_pred, 'tf-idf + feature engineering', X_train.shape[1])"
   ]
  },
  {
   "cell_type": "markdown",
   "id": "f7bbdc80",
   "metadata": {},
   "source": [
    "### <font color='darkgreen'>Replace tf-idf with word-vector</font>"
   ]
  },
  {
   "cell_type": "markdown",
   "id": "29774108",
   "metadata": {},
   "source": [
    "Here we use [**word2vec**](https://en.wikipedia.org/wiki/Word2vec) to replace tf-idf:"
   ]
  },
  {
   "cell_type": "code",
   "execution_count": 42,
   "id": "a1e9d92a",
   "metadata": {},
   "outputs": [],
   "source": [
    "#!pip3 install gensim\n",
    "test_tf_idf_features = train_tf_idf_features = None"
   ]
  },
  {
   "cell_type": "code",
   "execution_count": 43,
   "id": "daea3c3e",
   "metadata": {},
   "outputs": [],
   "source": [
    "import gensim.downloader as api\n",
    "from gensim.models import Word2Vec"
   ]
  },
  {
   "cell_type": "code",
   "execution_count": 44,
   "id": "5ddda68e",
   "metadata": {},
   "outputs": [],
   "source": [
    "w2v_feature_names = [f'w{i}' for i in range(300)]\n",
    "\n",
    "def text2w2v(df, column='tweet'):\n",
    "    model = api.load(\"word2vec-google-news-300\") \n",
    "    wv_list = []\n",
    "    for ri, row in df.iterrows():\n",
    "        vector = np.zeros(300)\n",
    "        for w in row.get(column).split():\n",
    "            try:\n",
    "                vector += model[w]\n",
    "            except Exception as e:\n",
    "                pass\n",
    "            \n",
    "        wv_list.append(vector)\n",
    "        \n",
    "    w2v_df = pd.DataFrame(wv_list, columns=[f'w{i}' for i in range(300)])\n",
    "    df = pd.concat([df, w2v_df], axis=1)\n",
    "    return df"
   ]
  },
  {
   "cell_type": "code",
   "execution_count": 45,
   "id": "3cbf1d4a",
   "metadata": {},
   "outputs": [
    {
     "name": "stdout",
     "output_type": "stream",
     "text": [
      "CPU times: user 31.3 s, sys: 59.4 s, total: 1min 30s\n",
      "Wall time: 1min 31s\n"
     ]
    }
   ],
   "source": [
    "%%time\n",
    "train_df = text2w2v(train_df)"
   ]
  },
  {
   "cell_type": "code",
   "execution_count": 46,
   "id": "4478f180",
   "metadata": {},
   "outputs": [
    {
     "name": "stdout",
     "output_type": "stream",
     "text": [
      "CPU times: user 52.5 s, sys: 1.25 s, total: 53.8 s\n",
      "Wall time: 54 s\n"
     ]
    }
   ],
   "source": [
    "%%time\n",
    "test_df = text2w2v(test_df)"
   ]
  },
  {
   "cell_type": "code",
   "execution_count": 47,
   "id": "de464c66",
   "metadata": {},
   "outputs": [
    {
     "name": "stdout",
     "output_type": "stream",
     "text": [
      "(6420, 349)\n"
     ]
    },
    {
     "data": {
      "text/html": [
       "<div>\n",
       "<style scoped>\n",
       "    .dataframe tbody tr th:only-of-type {\n",
       "        vertical-align: middle;\n",
       "    }\n",
       "\n",
       "    .dataframe tbody tr th {\n",
       "        vertical-align: top;\n",
       "    }\n",
       "\n",
       "    .dataframe thead th {\n",
       "        text-align: right;\n",
       "    }\n",
       "</style>\n",
       "<table border=\"1\" class=\"dataframe\">\n",
       "  <thead>\n",
       "    <tr style=\"text-align: right;\">\n",
       "      <th></th>\n",
       "      <th>id</th>\n",
       "      <th>tweet</th>\n",
       "      <th>label</th>\n",
       "      <th>char_count</th>\n",
       "      <th>word_count</th>\n",
       "      <th>sent_count</th>\n",
       "      <th>capital_char_count</th>\n",
       "      <th>capital_word_count</th>\n",
       "      <th>quoted_word_count</th>\n",
       "      <th>stopword_count</th>\n",
       "      <th>...</th>\n",
       "      <th>w290</th>\n",
       "      <th>w291</th>\n",
       "      <th>w292</th>\n",
       "      <th>w293</th>\n",
       "      <th>w294</th>\n",
       "      <th>w295</th>\n",
       "      <th>w296</th>\n",
       "      <th>w297</th>\n",
       "      <th>w298</th>\n",
       "      <th>w299</th>\n",
       "    </tr>\n",
       "  </thead>\n",
       "  <tbody>\n",
       "    <tr>\n",
       "      <th>3785</th>\n",
       "      <td>3786</td>\n",
       "      <td>rt   in a  uo moto  tatement in #lok abha on #...</td>\n",
       "      <td>real</td>\n",
       "      <td>138</td>\n",
       "      <td>19</td>\n",
       "      <td>1</td>\n",
       "      <td>20</td>\n",
       "      <td>3</td>\n",
       "      <td>0</td>\n",
       "      <td>5</td>\n",
       "      <td>...</td>\n",
       "      <td>-0.143005</td>\n",
       "      <td>0.065186</td>\n",
       "      <td>-0.672852</td>\n",
       "      <td>0.352051</td>\n",
       "      <td>0.093506</td>\n",
       "      <td>-0.524475</td>\n",
       "      <td>-0.694763</td>\n",
       "      <td>0.398315</td>\n",
       "      <td>-1.125122</td>\n",
       "      <td>0.199860</td>\n",
       "    </tr>\n",
       "    <tr>\n",
       "      <th>4477</th>\n",
       "      <td>4478</td>\n",
       "      <td>new rule  banning  ocial gathering  of more th...</td>\n",
       "      <td>real</td>\n",
       "      <td>218</td>\n",
       "      <td>39</td>\n",
       "      <td>3</td>\n",
       "      <td>5</td>\n",
       "      <td>0</td>\n",
       "      <td>0</td>\n",
       "      <td>18</td>\n",
       "      <td>...</td>\n",
       "      <td>-0.912689</td>\n",
       "      <td>1.234344</td>\n",
       "      <td>-1.290840</td>\n",
       "      <td>-0.918701</td>\n",
       "      <td>-1.965206</td>\n",
       "      <td>-1.078857</td>\n",
       "      <td>0.563293</td>\n",
       "      <td>-1.158279</td>\n",
       "      <td>1.134354</td>\n",
       "      <td>0.016987</td>\n",
       "    </tr>\n",
       "    <tr>\n",
       "      <th>3859</th>\n",
       "      <td>3860</td>\n",
       "      <td>rt   if you have recovered from #covid confirm...</td>\n",
       "      <td>real</td>\n",
       "      <td>138</td>\n",
       "      <td>23</td>\n",
       "      <td>2</td>\n",
       "      <td>13</td>\n",
       "      <td>2</td>\n",
       "      <td>0</td>\n",
       "      <td>7</td>\n",
       "      <td>...</td>\n",
       "      <td>-0.746460</td>\n",
       "      <td>0.267296</td>\n",
       "      <td>-1.561256</td>\n",
       "      <td>0.951660</td>\n",
       "      <td>0.596375</td>\n",
       "      <td>-0.697601</td>\n",
       "      <td>-0.319214</td>\n",
       "      <td>-2.548584</td>\n",
       "      <td>-0.775101</td>\n",
       "      <td>0.031555</td>\n",
       "    </tr>\n",
       "  </tbody>\n",
       "</table>\n",
       "<p>3 rows × 349 columns</p>\n",
       "</div>"
      ],
      "text/plain": [
       "        id                                              tweet label  \\\n",
       "3785  3786  rt   in a  uo moto  tatement in #lok abha on #...  real   \n",
       "4477  4478  new rule  banning  ocial gathering  of more th...  real   \n",
       "3859  3860  rt   if you have recovered from #covid confirm...  real   \n",
       "\n",
       "      char_count  word_count  sent_count  capital_char_count  \\\n",
       "3785         138          19           1                  20   \n",
       "4477         218          39           3                   5   \n",
       "3859         138          23           2                  13   \n",
       "\n",
       "      capital_word_count  quoted_word_count  stopword_count  ...      w290  \\\n",
       "3785                   3                  0               5  ... -0.143005   \n",
       "4477                   0                  0              18  ... -0.912689   \n",
       "3859                   2                  0               7  ... -0.746460   \n",
       "\n",
       "          w291      w292      w293      w294      w295      w296      w297  \\\n",
       "3785  0.065186 -0.672852  0.352051  0.093506 -0.524475 -0.694763  0.398315   \n",
       "4477  1.234344 -1.290840 -0.918701 -1.965206 -1.078857  0.563293 -1.158279   \n",
       "3859  0.267296 -1.561256  0.951660  0.596375 -0.697601 -0.319214 -2.548584   \n",
       "\n",
       "          w298      w299  \n",
       "3785 -1.125122  0.199860  \n",
       "4477  1.134354  0.016987  \n",
       "3859 -0.775101  0.031555  \n",
       "\n",
       "[3 rows x 349 columns]"
      ]
     },
     "execution_count": 47,
     "metadata": {},
     "output_type": "execute_result"
    }
   ],
   "source": [
    "print(train_df.shape)\n",
    "train_df.sample(n=3)"
   ]
  },
  {
   "cell_type": "code",
   "execution_count": 48,
   "id": "97c217ab",
   "metadata": {},
   "outputs": [],
   "source": [
    "X_train = train_df[features + w2v_feature_names]\n",
    "X_test  = test_df[features + w2v_feature_names]"
   ]
  },
  {
   "cell_type": "code",
   "execution_count": 49,
   "id": "9c64ceb1",
   "metadata": {},
   "outputs": [
    {
     "name": "stdout",
     "output_type": "stream",
     "text": [
      "CPU times: user 1min 21s, sys: 12 ms, total: 1min 21s\n",
      "Wall time: 1min 21s\n"
     ]
    },
    {
     "data": {
      "text/plain": [
       "RandomForestClassifier(min_samples_split=15, n_estimators=1000, random_state=42)"
      ]
     },
     "execution_count": 49,
     "metadata": {},
     "output_type": "execute_result"
    }
   ],
   "source": [
    "%%time\n",
    "clf_model = RandomForestClassifier(\n",
    "    n_estimators = 1000, min_samples_split = 15, random_state = RANDOM_STATE)\n",
    "clf_model.fit(X_train, y_train)"
   ]
  },
  {
   "cell_type": "code",
   "execution_count": 50,
   "id": "dcc4e938",
   "metadata": {},
   "outputs": [],
   "source": [
    "y_pred = clf_model.predict(X_test)"
   ]
  },
  {
   "cell_type": "code",
   "execution_count": 51,
   "id": "48172e35",
   "metadata": {},
   "outputs": [
    {
     "name": "stdout",
     "output_type": "stream",
     "text": [
      "Accuracy: 90.8%\n",
      "              precision    recall  f1-score   support\n",
      "\n",
      "        fake       0.93      0.87      0.90      1020\n",
      "        real       0.89      0.94      0.91      1120\n",
      "\n",
      "    accuracy                           0.91      2140\n",
      "   macro avg       0.91      0.91      0.91      2140\n",
      "weighted avg       0.91      0.91      0.91      2140\n",
      "\n"
     ]
    },
    {
     "data": {
      "text/plain": [
       "('word2vec + feature engineering',\n",
       " 346,\n",
       " 0.908411214953271,\n",
       " 0.8725490196078431,\n",
       " 0.9309623430962343,\n",
       " 0.9008097165991903)"
      ]
     },
     "execution_count": 51,
     "metadata": {},
     "output_type": "execute_result"
    }
   ],
   "source": [
    "insert_perf_data(y_pred, 'word2vec + feature engineering', X_train.shape[1])"
   ]
  },
  {
   "cell_type": "markdown",
   "id": "92f80b47",
   "metadata": {},
   "source": [
    "### <font color='darkgreen'>SVC + word2vec + feature engineering</font>"
   ]
  },
  {
   "cell_type": "code",
   "execution_count": 52,
   "id": "42716ef0",
   "metadata": {},
   "outputs": [
    {
     "name": "stdout",
     "output_type": "stream",
     "text": [
      "CPU times: user 4.8 s, sys: 36 ms, total: 4.83 s\n",
      "Wall time: 4.83 s\n"
     ]
    },
    {
     "data": {
      "text/plain": [
       "Pipeline(steps=[('standardscaler', StandardScaler()),\n",
       "                ('svc', SVC(gamma='auto'))])"
      ]
     },
     "execution_count": 52,
     "metadata": {},
     "output_type": "execute_result"
    }
   ],
   "source": [
    "%%time\n",
    "clf_model = make_pipeline(StandardScaler(), SVC(gamma='auto'))\n",
    "clf_model.fit(X_train, y_train)"
   ]
  },
  {
   "cell_type": "code",
   "execution_count": 53,
   "id": "c3100720",
   "metadata": {},
   "outputs": [],
   "source": [
    "y_pred = clf_model.predict(X_test)"
   ]
  },
  {
   "cell_type": "code",
   "execution_count": 54,
   "id": "4f9528cb",
   "metadata": {},
   "outputs": [
    {
     "name": "stdout",
     "output_type": "stream",
     "text": [
      "Accuracy: 92.9%\n",
      "              precision    recall  f1-score   support\n",
      "\n",
      "        fake       0.93      0.92      0.93      1020\n",
      "        real       0.93      0.94      0.93      1120\n",
      "\n",
      "    accuracy                           0.93      2140\n",
      "   macro avg       0.93      0.93      0.93      2140\n",
      "weighted avg       0.93      0.93      0.93      2140\n",
      "\n"
     ]
    },
    {
     "data": {
      "text/plain": [
       "('SVC + word2vec + feature engineering',\n",
       " 346,\n",
       " 0.9294392523364486,\n",
       " 0.9215686274509803,\n",
       " 0.9297725024727992,\n",
       " 0.9256523879862137)"
      ]
     },
     "execution_count": 54,
     "metadata": {},
     "output_type": "execute_result"
    }
   ],
   "source": [
    "insert_perf_data(y_pred, 'SVC + word2vec + feature engineering', X_train.shape[1])"
   ]
  },
  {
   "cell_type": "markdown",
   "id": "4afe37b7",
   "metadata": {},
   "source": [
    "### <font color='darkgreen'>SVC (Grid search) + word2vec + feature engineering</font>\n",
    "Please refer to [\"Searching for optimal parameters with successive halving\"](https://scikit-learn.org/stable/modules/grid_search.html#searching-for-optimal-parameters-with-successive-halving)"
   ]
  },
  {
   "cell_type": "code",
   "execution_count": 55,
   "id": "cb3fe9e6",
   "metadata": {},
   "outputs": [
    {
     "name": "stdout",
     "output_type": "stream",
     "text": [
      "Fitting 5 folds for each of 18 candidates, totalling 90 fits\n",
      "[CV] END .........................C=0.1, gamma=1, kernel=rbf; total time=  11.0s\n",
      "[CV] END .........................C=0.1, gamma=1, kernel=rbf; total time=  10.9s\n",
      "[CV] END .........................C=0.1, gamma=1, kernel=rbf; total time=  10.7s\n",
      "[CV] END .........................C=0.1, gamma=1, kernel=rbf; total time=  10.9s\n",
      "[CV] END .........................C=0.1, gamma=1, kernel=rbf; total time=  10.9s\n",
      "[CV] END ........................C=0.1, gamma=1, kernel=poly; total time=  29.4s\n",
      "[CV] END ........................C=0.1, gamma=1, kernel=poly; total time=  35.1s\n",
      "[CV] END ........................C=0.1, gamma=1, kernel=poly; total time=  31.3s\n",
      "[CV] END ........................C=0.1, gamma=1, kernel=poly; total time=  40.2s\n",
      "[CV] END ........................C=0.1, gamma=1, kernel=poly; total time=  33.7s\n",
      "[CV] END .......................C=0.1, gamma=0.1, kernel=rbf; total time=  11.2s\n",
      "[CV] END .......................C=0.1, gamma=0.1, kernel=rbf; total time=  11.2s\n",
      "[CV] END .......................C=0.1, gamma=0.1, kernel=rbf; total time=  11.1s\n",
      "[CV] END .......................C=0.1, gamma=0.1, kernel=rbf; total time=  11.3s\n",
      "[CV] END .......................C=0.1, gamma=0.1, kernel=rbf; total time=  11.4s\n",
      "[CV] END ......................C=0.1, gamma=0.1, kernel=poly; total time=  34.1s\n",
      "[CV] END ......................C=0.1, gamma=0.1, kernel=poly; total time=  32.2s\n",
      "[CV] END ......................C=0.1, gamma=0.1, kernel=poly; total time=  34.7s\n",
      "[CV] END ......................C=0.1, gamma=0.1, kernel=poly; total time=  42.6s\n",
      "[CV] END ......................C=0.1, gamma=0.1, kernel=poly; total time=  33.8s\n",
      "[CV] END ......................C=0.1, gamma=0.01, kernel=rbf; total time=  11.5s\n",
      "[CV] END ......................C=0.1, gamma=0.01, kernel=rbf; total time=   9.7s\n",
      "[CV] END ......................C=0.1, gamma=0.01, kernel=rbf; total time=   9.5s\n",
      "[CV] END ......................C=0.1, gamma=0.01, kernel=rbf; total time=   9.6s\n",
      "[CV] END ......................C=0.1, gamma=0.01, kernel=rbf; total time=   9.6s\n",
      "[CV] END .....................C=0.1, gamma=0.01, kernel=poly; total time=  29.9s\n",
      "[CV] END .....................C=0.1, gamma=0.01, kernel=poly; total time=  31.7s\n",
      "[CV] END .....................C=0.1, gamma=0.01, kernel=poly; total time=  34.3s\n",
      "[CV] END .....................C=0.1, gamma=0.01, kernel=poly; total time=  38.6s\n",
      "[CV] END .....................C=0.1, gamma=0.01, kernel=poly; total time=  28.2s\n",
      "[CV] END ...........................C=1, gamma=1, kernel=rbf; total time=  10.6s\n",
      "[CV] END ...........................C=1, gamma=1, kernel=rbf; total time=  10.7s\n",
      "[CV] END ...........................C=1, gamma=1, kernel=rbf; total time=  10.7s\n",
      "[CV] END ...........................C=1, gamma=1, kernel=rbf; total time=  10.6s\n",
      "[CV] END ...........................C=1, gamma=1, kernel=rbf; total time=  10.9s\n",
      "[CV] END ..........................C=1, gamma=1, kernel=poly; total time=  29.2s\n",
      "[CV] END ..........................C=1, gamma=1, kernel=poly; total time=  35.1s\n",
      "[CV] END ..........................C=1, gamma=1, kernel=poly; total time=  31.1s\n",
      "[CV] END ..........................C=1, gamma=1, kernel=poly; total time=  40.8s\n",
      "[CV] END ..........................C=1, gamma=1, kernel=poly; total time=  33.8s\n",
      "[CV] END .........................C=1, gamma=0.1, kernel=rbf; total time=  11.2s\n",
      "[CV] END .........................C=1, gamma=0.1, kernel=rbf; total time=  11.2s\n",
      "[CV] END .........................C=1, gamma=0.1, kernel=rbf; total time=  11.4s\n",
      "[CV] END .........................C=1, gamma=0.1, kernel=rbf; total time=  11.1s\n",
      "[CV] END .........................C=1, gamma=0.1, kernel=rbf; total time=  11.3s\n",
      "[CV] END ........................C=1, gamma=0.1, kernel=poly; total time=  34.0s\n",
      "[CV] END ........................C=1, gamma=0.1, kernel=poly; total time=  32.4s\n",
      "[CV] END ........................C=1, gamma=0.1, kernel=poly; total time=  34.1s\n",
      "[CV] END ........................C=1, gamma=0.1, kernel=poly; total time=  42.0s\n",
      "[CV] END ........................C=1, gamma=0.1, kernel=poly; total time=  33.3s\n",
      "[CV] END ........................C=1, gamma=0.01, kernel=rbf; total time=  10.3s\n",
      "[CV] END ........................C=1, gamma=0.01, kernel=rbf; total time=   9.7s\n",
      "[CV] END ........................C=1, gamma=0.01, kernel=rbf; total time=   9.6s\n",
      "[CV] END ........................C=1, gamma=0.01, kernel=rbf; total time=   9.6s\n",
      "[CV] END ........................C=1, gamma=0.01, kernel=rbf; total time=   9.4s\n",
      "[CV] END .......................C=1, gamma=0.01, kernel=poly; total time=  30.1s\n",
      "[CV] END .......................C=1, gamma=0.01, kernel=poly; total time=  31.8s\n",
      "[CV] END .......................C=1, gamma=0.01, kernel=poly; total time=  34.4s\n",
      "[CV] END .......................C=1, gamma=0.01, kernel=poly; total time=  38.9s\n",
      "[CV] END .......................C=1, gamma=0.01, kernel=poly; total time=  28.4s\n",
      "[CV] END ..........................C=10, gamma=1, kernel=rbf; total time=  10.3s\n",
      "[CV] END ..........................C=10, gamma=1, kernel=rbf; total time=  10.5s\n",
      "[CV] END ..........................C=10, gamma=1, kernel=rbf; total time=  10.4s\n",
      "[CV] END ..........................C=10, gamma=1, kernel=rbf; total time=  10.6s\n",
      "[CV] END ..........................C=10, gamma=1, kernel=rbf; total time=  10.4s\n",
      "[CV] END .........................C=10, gamma=1, kernel=poly; total time=  29.3s\n",
      "[CV] END .........................C=10, gamma=1, kernel=poly; total time=  35.2s\n",
      "[CV] END .........................C=10, gamma=1, kernel=poly; total time=  31.4s\n",
      "[CV] END .........................C=10, gamma=1, kernel=poly; total time=  40.2s\n",
      "[CV] END .........................C=10, gamma=1, kernel=poly; total time=  33.9s\n",
      "[CV] END ........................C=10, gamma=0.1, kernel=rbf; total time=  10.7s\n",
      "[CV] END ........................C=10, gamma=0.1, kernel=rbf; total time=  10.7s\n",
      "[CV] END ........................C=10, gamma=0.1, kernel=rbf; total time=  10.5s\n",
      "[CV] END ........................C=10, gamma=0.1, kernel=rbf; total time=  10.9s\n",
      "[CV] END ........................C=10, gamma=0.1, kernel=rbf; total time=  10.6s\n",
      "[CV] END .......................C=10, gamma=0.1, kernel=poly; total time=  38.7s\n",
      "[CV] END .......................C=10, gamma=0.1, kernel=poly; total time=  35.2s\n",
      "[CV] END .......................C=10, gamma=0.1, kernel=poly; total time=  34.1s\n",
      "[CV] END .......................C=10, gamma=0.1, kernel=poly; total time=  41.7s\n",
      "[CV] END .......................C=10, gamma=0.1, kernel=poly; total time=  33.3s\n",
      "[CV] END .......................C=10, gamma=0.01, kernel=rbf; total time=  10.8s\n",
      "[CV] END .......................C=10, gamma=0.01, kernel=rbf; total time=   9.9s\n",
      "[CV] END .......................C=10, gamma=0.01, kernel=rbf; total time=   9.9s\n",
      "[CV] END .......................C=10, gamma=0.01, kernel=rbf; total time=   9.7s\n",
      "[CV] END .......................C=10, gamma=0.01, kernel=rbf; total time=  10.0s\n",
      "[CV] END ......................C=10, gamma=0.01, kernel=poly; total time=  29.8s\n",
      "[CV] END ......................C=10, gamma=0.01, kernel=poly; total time=  31.7s\n",
      "[CV] END ......................C=10, gamma=0.01, kernel=poly; total time=  34.1s\n",
      "[CV] END ......................C=10, gamma=0.01, kernel=poly; total time=  38.7s\n",
      "[CV] END ......................C=10, gamma=0.01, kernel=poly; total time=  28.2s\n",
      "CPU times: user 34min 29s, sys: 1.91 s, total: 34min 31s\n",
      "Wall time: 34min 31s\n"
     ]
    },
    {
     "data": {
      "text/plain": [
       "GridSearchCV(estimator=SVC(),\n",
       "             param_grid={'C': [0.1, 1, 10], 'gamma': [1, 0.1, 0.01],\n",
       "                         'kernel': ['rbf', 'poly']},\n",
       "             verbose=2)"
      ]
     },
     "execution_count": 55,
     "metadata": {},
     "output_type": "execute_result"
    }
   ],
   "source": [
    "%%time\n",
    "param_grid = {'C': [0.1, 1, 10], 'gamma': [1, 0.1, 0.01 ],'kernel': ['rbf', 'poly']}\n",
    "#base_estimator = SVC(gamma='scale')\n",
    "#sh = HalvingGridSearchCV(base_estimator, param_grid, cv=5,\n",
    "#                         factor=2, max_resources=40,\n",
    "#                         aggressive_elimination=False).fit(X_train, y_train)\n",
    "grid = GridSearchCV(\n",
    "    SVC(), param_grid, refit=True, verbose=2)\n",
    "grid.fit(X_train,y_train)                      "
   ]
  },
  {
   "cell_type": "code",
   "execution_count": 56,
   "id": "da5f445b",
   "metadata": {},
   "outputs": [],
   "source": [
    "y_pred = grid.predict(X_test)"
   ]
  },
  {
   "cell_type": "code",
   "execution_count": 57,
   "id": "fa6c9e37",
   "metadata": {},
   "outputs": [
    {
     "name": "stdout",
     "output_type": "stream",
     "text": [
      "Accuracy: 92.1%\n",
      "              precision    recall  f1-score   support\n",
      "\n",
      "        fake       0.90      0.94      0.92      1020\n",
      "        real       0.94      0.91      0.92      1120\n",
      "\n",
      "    accuracy                           0.92      2140\n",
      "   macro avg       0.92      0.92      0.92      2140\n",
      "weighted avg       0.92      0.92      0.92      2140\n",
      "\n"
     ]
    },
    {
     "data": {
      "text/plain": [
       "('Grid search SVC + word2vec + feature engineering',\n",
       " 346,\n",
       " 0.9205607476635514,\n",
       " 0.9362745098039216,\n",
       " 0.9009433962264151,\n",
       " 0.9182692307692307)"
      ]
     },
     "execution_count": 57,
     "metadata": {},
     "output_type": "execute_result"
    }
   ],
   "source": [
    "insert_perf_data(y_pred, 'Grid search SVC + word2vec + feature engineering', X_train.shape[1])"
   ]
  },
  {
   "cell_type": "markdown",
   "id": "e3c89629",
   "metadata": {},
   "source": [
    "### <font color='darkgreen'>SVC + tf-idf + feature engineering</font>"
   ]
  },
  {
   "cell_type": "code",
   "execution_count": 58,
   "id": "90647bff",
   "metadata": {},
   "outputs": [],
   "source": [
    "# Finally merging all features with above TF-IDF. \n",
    "X_train = pd.merge(pd.DataFrame(vectorizer.transform(train_df['tweet']).toarray()),\n",
    "                   train_df[features], left_index=True, right_index=True)\n",
    "X_test  = pd.merge(pd.DataFrame(vectorizer.transform(test_df['tweet']).toarray()),\n",
    "                   test_df[features], left_index=True, right_index=True)"
   ]
  },
  {
   "cell_type": "code",
   "execution_count": 59,
   "id": "9e17fdd4",
   "metadata": {},
   "outputs": [
    {
     "name": "stdout",
     "output_type": "stream",
     "text": [
      "(6420, 13918)\n"
     ]
    },
    {
     "data": {
      "text/html": [
       "<div>\n",
       "<style scoped>\n",
       "    .dataframe tbody tr th:only-of-type {\n",
       "        vertical-align: middle;\n",
       "    }\n",
       "\n",
       "    .dataframe tbody tr th {\n",
       "        vertical-align: top;\n",
       "    }\n",
       "\n",
       "    .dataframe thead th {\n",
       "        text-align: right;\n",
       "    }\n",
       "</style>\n",
       "<table border=\"1\" class=\"dataframe\">\n",
       "  <thead>\n",
       "    <tr style=\"text-align: right;\">\n",
       "      <th></th>\n",
       "      <th>0</th>\n",
       "      <th>1</th>\n",
       "      <th>2</th>\n",
       "      <th>3</th>\n",
       "      <th>4</th>\n",
       "      <th>5</th>\n",
       "      <th>6</th>\n",
       "      <th>7</th>\n",
       "      <th>8</th>\n",
       "      <th>9</th>\n",
       "      <th>...</th>\n",
       "      <th>[ count</th>\n",
       "      <th>\\ count</th>\n",
       "      <th>] count</th>\n",
       "      <th>^ count</th>\n",
       "      <th>_ count</th>\n",
       "      <th>` count</th>\n",
       "      <th>{ count</th>\n",
       "      <th>| count</th>\n",
       "      <th>} count</th>\n",
       "      <th>~ count</th>\n",
       "    </tr>\n",
       "  </thead>\n",
       "  <tbody>\n",
       "    <tr>\n",
       "      <th>1326</th>\n",
       "      <td>0.0</td>\n",
       "      <td>0.0</td>\n",
       "      <td>0.0</td>\n",
       "      <td>0.0</td>\n",
       "      <td>0.0</td>\n",
       "      <td>0.0</td>\n",
       "      <td>0.0</td>\n",
       "      <td>0.0</td>\n",
       "      <td>0.0</td>\n",
       "      <td>0.0</td>\n",
       "      <td>...</td>\n",
       "      <td>0</td>\n",
       "      <td>0</td>\n",
       "      <td>0</td>\n",
       "      <td>0</td>\n",
       "      <td>0</td>\n",
       "      <td>0</td>\n",
       "      <td>0</td>\n",
       "      <td>0</td>\n",
       "      <td>0</td>\n",
       "      <td>0</td>\n",
       "    </tr>\n",
       "    <tr>\n",
       "      <th>5090</th>\n",
       "      <td>0.0</td>\n",
       "      <td>0.0</td>\n",
       "      <td>0.0</td>\n",
       "      <td>0.0</td>\n",
       "      <td>0.0</td>\n",
       "      <td>0.0</td>\n",
       "      <td>0.0</td>\n",
       "      <td>0.0</td>\n",
       "      <td>0.0</td>\n",
       "      <td>0.0</td>\n",
       "      <td>...</td>\n",
       "      <td>0</td>\n",
       "      <td>0</td>\n",
       "      <td>0</td>\n",
       "      <td>0</td>\n",
       "      <td>0</td>\n",
       "      <td>0</td>\n",
       "      <td>0</td>\n",
       "      <td>0</td>\n",
       "      <td>0</td>\n",
       "      <td>0</td>\n",
       "    </tr>\n",
       "    <tr>\n",
       "      <th>2474</th>\n",
       "      <td>0.0</td>\n",
       "      <td>0.0</td>\n",
       "      <td>0.0</td>\n",
       "      <td>0.0</td>\n",
       "      <td>0.0</td>\n",
       "      <td>0.0</td>\n",
       "      <td>0.0</td>\n",
       "      <td>0.0</td>\n",
       "      <td>0.0</td>\n",
       "      <td>0.0</td>\n",
       "      <td>...</td>\n",
       "      <td>0</td>\n",
       "      <td>0</td>\n",
       "      <td>0</td>\n",
       "      <td>0</td>\n",
       "      <td>0</td>\n",
       "      <td>0</td>\n",
       "      <td>0</td>\n",
       "      <td>0</td>\n",
       "      <td>0</td>\n",
       "      <td>0</td>\n",
       "    </tr>\n",
       "  </tbody>\n",
       "</table>\n",
       "<p>3 rows × 13918 columns</p>\n",
       "</div>"
      ],
      "text/plain": [
       "        0    1    2    3    4    5    6    7    8    9  ...  [ count  \\ count  \\\n",
       "1326  0.0  0.0  0.0  0.0  0.0  0.0  0.0  0.0  0.0  0.0  ...        0        0   \n",
       "5090  0.0  0.0  0.0  0.0  0.0  0.0  0.0  0.0  0.0  0.0  ...        0        0   \n",
       "2474  0.0  0.0  0.0  0.0  0.0  0.0  0.0  0.0  0.0  0.0  ...        0        0   \n",
       "\n",
       "      ] count  ^ count  _ count  ` count  { count  | count  } count  ~ count  \n",
       "1326        0        0        0        0        0        0        0        0  \n",
       "5090        0        0        0        0        0        0        0        0  \n",
       "2474        0        0        0        0        0        0        0        0  \n",
       "\n",
       "[3 rows x 13918 columns]"
      ]
     },
     "execution_count": 59,
     "metadata": {},
     "output_type": "execute_result"
    }
   ],
   "source": [
    "print(X_train.shape)\n",
    "X_train.sample(n=3)"
   ]
  },
  {
   "cell_type": "code",
   "execution_count": 60,
   "id": "7d560e8c",
   "metadata": {},
   "outputs": [],
   "source": [
    "columns = [f'f-{i}' for i in range(X_train.shape[1])]"
   ]
  },
  {
   "cell_type": "code",
   "execution_count": 61,
   "id": "dc2bfc74",
   "metadata": {},
   "outputs": [],
   "source": [
    "X_train.columns = X_test.columns = columns"
   ]
  },
  {
   "cell_type": "code",
   "execution_count": 62,
   "id": "87dec530",
   "metadata": {},
   "outputs": [
    {
     "name": "stdout",
     "output_type": "stream",
     "text": [
      "CPU times: user 17min 34s, sys: 4min 5s, total: 21min 40s\n",
      "Wall time: 5min 31s\n"
     ]
    },
    {
     "data": {
      "text/plain": [
       "Pipeline(steps=[('standardscaler', StandardScaler()), ('svc', SVC())])"
      ]
     },
     "execution_count": 62,
     "metadata": {},
     "output_type": "execute_result"
    }
   ],
   "source": [
    "%%time\n",
    "clf_model = make_pipeline(StandardScaler(), SVC())\n",
    "clf_model.fit(X_train, y_train)"
   ]
  },
  {
   "cell_type": "code",
   "execution_count": 63,
   "id": "f7fa3bdb",
   "metadata": {},
   "outputs": [],
   "source": [
    "%%time\n",
    "y_pred = clf_model.predict(X_test)"
   ]
  },
  {
   "cell_type": "code",
   "execution_count": 64,
   "id": "7c385fce",
   "metadata": {},
   "outputs": [
    {
     "name": "stdout",
     "output_type": "stream",
     "text": [
      "Accuracy: 92.6%\n",
      "              precision    recall  f1-score   support\n",
      "\n",
      "        fake       0.93      0.91      0.92      1020\n",
      "        real       0.92      0.94      0.93      1120\n",
      "\n",
      "    accuracy                           0.93      2140\n",
      "   macro avg       0.93      0.93      0.93      2140\n",
      "weighted avg       0.93      0.93      0.93      2140\n",
      "\n"
     ]
    },
    {
     "data": {
      "text/plain": [
       "('SVC + tf-idf + feature engineering',\n",
       " 13918,\n",
       " 0.9257009345794392,\n",
       " 0.9137254901960784,\n",
       " 0.9292123629112662,\n",
       " 0.921403855659911)"
      ]
     },
     "execution_count": 64,
     "metadata": {},
     "output_type": "execute_result"
    }
   ],
   "source": [
    "insert_perf_data(y_pred, 'SVC + tf-idf + feature engineering', X_train.shape[1])"
   ]
  },
  {
   "cell_type": "markdown",
   "id": "bb28f667",
   "metadata": {},
   "source": [
    "### <font color='darkgreen'> Grid search SVC + tf-idf + feature engineering</font>"
   ]
  },
  {
   "cell_type": "code",
   "execution_count": 65,
   "id": "16919afc",
   "metadata": {},
   "outputs": [
    {
     "name": "stdout",
     "output_type": "stream",
     "text": [
      "Fitting 5 folds for each of 18 candidates, totalling 90 fits\n",
      "[CV] END .........................C=0.1, gamma=1, kernel=rbf; total time=14.6min\n",
      "[CV] END ........................C=0.1, gamma=1, kernel=poly; total time= 8.3min\n",
      "[CV] END .......................C=0.1, gamma=0.1, kernel=rbf; total time=10.4min\n",
      "[CV] END .......................C=0.1, gamma=0.1, kernel=rbf; total time=11.0min\n",
      "[CV] END ......................C=0.1, gamma=0.1, kernel=poly; total time= 7.0min\n",
      "[CV] END ......................C=0.1, gamma=0.01, kernel=rbf; total time= 8.9min\n",
      "[CV] END .....................C=0.1, gamma=0.01, kernel=poly; total time= 6.3min\n",
      "[CV] END ...........................C=1, gamma=1, kernel=rbf; total time=13.0min\n",
      "[CV] END ...........................C=1, gamma=1, kernel=rbf; total time=10.8min\n",
      "[CV] END ..........................C=1, gamma=1, kernel=poly; total time= 7.6min\n",
      "[CV] END .........................C=1, gamma=0.1, kernel=rbf; total time=11.6min\n",
      "[CV] END ........................C=1, gamma=0.1, kernel=poly; total time= 7.0min\n",
      "[CV] END ........................C=1, gamma=0.01, kernel=rbf; total time= 7.0min\n",
      "[CV] END .......................C=1, gamma=0.01, kernel=poly; total time= 7.9min\n",
      "[CV] END ..........................C=10, gamma=1, kernel=rbf; total time=11.2min\n",
      "[CV] END ..........................C=10, gamma=1, kernel=rbf; total time=10.4min\n",
      "[CV] END .........................C=10, gamma=1, kernel=poly; total time= 7.3min\n",
      "[CV] END ........................C=10, gamma=0.1, kernel=rbf; total time=12.2min\n",
      "[CV] END .......................C=10, gamma=0.1, kernel=poly; total time= 7.3min\n",
      "[CV] END .......................C=10, gamma=0.01, kernel=rbf; total time= 6.3min\n",
      "[CV] END ......................C=10, gamma=0.01, kernel=poly; total time= 7.8min\n",
      "[CV] END .........................C=0.1, gamma=1, kernel=rbf; total time=14.4min\n",
      "[CV] END .........................C=0.1, gamma=1, kernel=rbf; total time= 9.5min\n",
      "[CV] END .......................C=0.1, gamma=0.1, kernel=rbf; total time=11.1min\n",
      "[CV] END ......................C=0.1, gamma=0.1, kernel=poly; total time= 5.6min\n",
      "[CV] END ......................C=0.1, gamma=0.1, kernel=poly; total time= 6.7min\n",
      "[CV] END ......................C=0.1, gamma=0.01, kernel=rbf; total time= 8.6min\n",
      "[CV] END .....................C=0.1, gamma=0.01, kernel=poly; total time= 7.1min\n",
      "[CV] END .....................C=0.1, gamma=0.01, kernel=poly; total time= 8.6min\n",
      "[CV] END ...........................C=1, gamma=1, kernel=rbf; total time=14.1min\n",
      "[CV] END ..........................C=1, gamma=1, kernel=poly; total time= 7.4min\n",
      "[CV] END .........................C=1, gamma=0.1, kernel=rbf; total time=12.3min\n",
      "[CV] END ........................C=1, gamma=0.1, kernel=poly; total time= 8.4min\n",
      "[CV] END ........................C=1, gamma=0.01, kernel=rbf; total time= 5.4min\n",
      "[CV] END ........................C=1, gamma=0.01, kernel=rbf; total time= 7.5min\n",
      "[CV] END .......................C=1, gamma=0.01, kernel=poly; total time= 6.3min\n",
      "[CV] END ..........................C=10, gamma=1, kernel=rbf; total time=12.9min\n",
      "[CV] END .........................C=10, gamma=1, kernel=poly; total time= 5.0min\n",
      "[CV] END .........................C=10, gamma=1, kernel=poly; total time= 6.4min\n",
      "[CV] END ........................C=10, gamma=0.1, kernel=rbf; total time=12.7min\n",
      "[CV] END .......................C=10, gamma=0.1, kernel=poly; total time= 7.6min\n",
      "[CV] END .......................C=10, gamma=0.01, kernel=rbf; total time= 4.9min\n",
      "[CV] END .......................C=10, gamma=0.01, kernel=rbf; total time= 6.6min\n",
      "[CV] END ......................C=10, gamma=0.01, kernel=poly; total time= 5.8min\n",
      "[CV] END .........................C=0.1, gamma=1, kernel=rbf; total time=14.5min\n",
      "[CV] END ........................C=0.1, gamma=1, kernel=poly; total time= 5.4min\n",
      "[CV] END ........................C=0.1, gamma=1, kernel=poly; total time= 7.2min\n",
      "[CV] END .......................C=0.1, gamma=0.1, kernel=rbf; total time=12.2min\n",
      "[CV] END ......................C=0.1, gamma=0.1, kernel=poly; total time= 7.6min\n",
      "[CV] END ......................C=0.1, gamma=0.01, kernel=rbf; total time= 8.5min\n",
      "[CV] END ......................C=0.1, gamma=0.01, kernel=rbf; total time= 7.4min\n",
      "[CV] END .....................C=0.1, gamma=0.01, kernel=poly; total time= 7.1min\n",
      "[CV] END ...........................C=1, gamma=1, kernel=rbf; total time=14.7min\n",
      "[CV] END ..........................C=1, gamma=1, kernel=poly; total time= 7.6min\n",
      "[CV] END .........................C=1, gamma=0.1, kernel=rbf; total time=11.8min\n",
      "[CV] END .........................C=1, gamma=0.1, kernel=rbf; total time= 9.4min\n",
      "[CV] END ........................C=1, gamma=0.1, kernel=poly; total time= 8.0min\n",
      "[CV] END ........................C=1, gamma=0.01, kernel=rbf; total time= 6.8min\n",
      "[CV] END .......................C=1, gamma=0.01, kernel=poly; total time= 6.4min\n",
      "[CV] END ..........................C=10, gamma=1, kernel=rbf; total time=13.2min\n",
      "[CV] END .........................C=10, gamma=1, kernel=poly; total time= 7.3min\n",
      "[CV] END ........................C=10, gamma=0.1, kernel=rbf; total time=11.8min\n",
      "[CV] END ........................C=10, gamma=0.1, kernel=rbf; total time= 9.7min\n",
      "[CV] END .......................C=10, gamma=0.1, kernel=poly; total time= 7.5min\n",
      "[CV] END .......................C=10, gamma=0.01, kernel=rbf; total time= 6.3min\n",
      "[CV] END ......................C=10, gamma=0.01, kernel=poly; total time= 5.7min\n",
      "[CV] END .........................C=0.1, gamma=1, kernel=rbf; total time=14.7min\n",
      "[CV] END ........................C=0.1, gamma=1, kernel=poly; total time= 8.0min\n",
      "[CV] END ........................C=0.1, gamma=1, kernel=poly; total time= 8.4min\n",
      "[CV] END .......................C=0.1, gamma=0.1, kernel=rbf; total time=11.9min\n",
      "[CV] END ......................C=0.1, gamma=0.1, kernel=poly; total time= 6.4min\n",
      "[CV] END ......................C=0.1, gamma=0.01, kernel=rbf; total time= 9.4min\n",
      "[CV] END .....................C=0.1, gamma=0.01, kernel=poly; total time= 8.3min\n",
      "[CV] END ...........................C=1, gamma=1, kernel=rbf; total time=13.4min\n",
      "[CV] END ..........................C=1, gamma=1, kernel=poly; total time= 5.3min\n",
      "[CV] END ..........................C=1, gamma=1, kernel=poly; total time= 6.9min\n",
      "[CV] END .........................C=1, gamma=0.1, kernel=rbf; total time=11.6min\n",
      "[CV] END ........................C=1, gamma=0.1, kernel=poly; total time= 5.3min\n",
      "[CV] END ........................C=1, gamma=0.1, kernel=poly; total time= 7.1min\n",
      "[CV] END ........................C=1, gamma=0.01, kernel=rbf; total time= 6.6min\n",
      "[CV] END .......................C=1, gamma=0.01, kernel=poly; total time= 5.1min\n",
      "[CV] END .......................C=1, gamma=0.01, kernel=poly; total time= 7.7min\n",
      "[CV] END ..........................C=10, gamma=1, kernel=rbf; total time=12.7min\n",
      "[CV] END .........................C=10, gamma=1, kernel=poly; total time= 6.5min\n",
      "[CV] END ........................C=10, gamma=0.1, kernel=rbf; total time=11.8min\n",
      "[CV] END .......................C=10, gamma=0.1, kernel=poly; total time= 5.3min\n",
      "[CV] END .......................C=10, gamma=0.1, kernel=poly; total time= 7.0min\n",
      "[CV] END .......................C=10, gamma=0.01, kernel=rbf; total time= 6.0min\n",
      "[CV] END ......................C=10, gamma=0.01, kernel=poly; total time= 5.3min\n",
      "[CV] END ......................C=10, gamma=0.01, kernel=poly; total time= 6.3min\n"
     ]
    },
    {
     "data": {
      "text/plain": [
       "GridSearchCV(estimator=SVC(), n_jobs=-1,\n",
       "             param_grid={'C': [0.1, 1, 10], 'gamma': [1, 0.1, 0.01],\n",
       "                         'kernel': ['rbf', 'poly']},\n",
       "             verbose=2)"
      ]
     },
     "execution_count": 65,
     "metadata": {},
     "output_type": "execute_result"
    }
   ],
   "source": [
    "param_grid = {'C': [0.1, 1, 10], 'gamma': [1, 0.1, 0.01],'kernel': ['rbf', 'poly']}\n",
    "grid = GridSearchCV(\n",
    "    SVC(), param_grid, refit=True, verbose=2, n_jobs=-1)\n",
    "\n",
    "grid.fit(X_train, y_train) "
   ]
  },
  {
   "cell_type": "code",
   "execution_count": 66,
   "id": "9325ce00",
   "metadata": {},
   "outputs": [],
   "source": [
    "y_pred = grid.predict(X_test)"
   ]
  },
  {
   "cell_type": "code",
   "execution_count": 67,
   "id": "30fb31a3",
   "metadata": {},
   "outputs": [
    {
     "name": "stdout",
     "output_type": "stream",
     "text": [
      "Accuracy: 94.3%\n",
      "              precision    recall  f1-score   support\n",
      "\n",
      "        fake       0.93      0.95      0.94      1020\n",
      "        real       0.96      0.93      0.94      1120\n",
      "\n",
      "    accuracy                           0.94      2140\n",
      "   macro avg       0.94      0.94      0.94      2140\n",
      "weighted avg       0.94      0.94      0.94      2140\n",
      "\n"
     ]
    },
    {
     "data": {
      "text/plain": [
       "('Gridsearch SVC + tf-idf + feature engineering',\n",
       " 13918,\n",
       " 0.9425233644859813,\n",
       " 0.9519607843137254,\n",
       " 0.9291866028708134,\n",
       " 0.9404358353510895)"
      ]
     },
     "execution_count": 67,
     "metadata": {},
     "output_type": "execute_result"
    }
   ],
   "source": [
    "insert_perf_data(y_pred, 'Gridsearch SVC + tf-idf + feature engineering', X_train.shape[1])"
   ]
  },
  {
   "cell_type": "markdown",
   "id": "b4e7b767",
   "metadata": {},
   "source": [
    "<a id='sect5'></a>\n",
    "## <font color='darkblue'>Conclusion</font> ([back](#sect0))\n",
    "From the above results, we can see that feature engineering techniques helped us to:\n",
    "* Increase f1 from 0.90 to 0.92\n",
    "* Increase recall from 0.87 to 0.89\n",
    "* Increase precision from 0.93 to 0.96"
   ]
  },
  {
   "cell_type": "code",
   "execution_count": 68,
   "id": "929c8a0a",
   "metadata": {},
   "outputs": [
    {
     "data": {
      "text/html": [
       "<div>\n",
       "<style scoped>\n",
       "    .dataframe tbody tr th:only-of-type {\n",
       "        vertical-align: middle;\n",
       "    }\n",
       "\n",
       "    .dataframe tbody tr th {\n",
       "        vertical-align: top;\n",
       "    }\n",
       "\n",
       "    .dataframe thead th {\n",
       "        text-align: right;\n",
       "    }\n",
       "</style>\n",
       "<table border=\"1\" class=\"dataframe\">\n",
       "  <thead>\n",
       "    <tr style=\"text-align: right;\">\n",
       "      <th></th>\n",
       "      <th>feature size</th>\n",
       "      <th>accuracy</th>\n",
       "      <th>recall</th>\n",
       "      <th>precision</th>\n",
       "      <th>f1</th>\n",
       "    </tr>\n",
       "    <tr>\n",
       "      <th>name</th>\n",
       "      <th></th>\n",
       "      <th></th>\n",
       "      <th></th>\n",
       "      <th></th>\n",
       "      <th></th>\n",
       "    </tr>\n",
       "  </thead>\n",
       "  <tbody>\n",
       "    <tr>\n",
       "      <th>tf-idf</th>\n",
       "      <td>13872</td>\n",
       "      <td>0.912150</td>\n",
       "      <td>0.874510</td>\n",
       "      <td>0.936975</td>\n",
       "      <td>0.904665</td>\n",
       "    </tr>\n",
       "    <tr>\n",
       "      <th>tf-idf + feature engineering</th>\n",
       "      <td>13918</td>\n",
       "      <td>0.933645</td>\n",
       "      <td>0.891176</td>\n",
       "      <td>0.967021</td>\n",
       "      <td>0.927551</td>\n",
       "    </tr>\n",
       "    <tr>\n",
       "      <th>word2vec + feature engineering</th>\n",
       "      <td>346</td>\n",
       "      <td>0.908411</td>\n",
       "      <td>0.872549</td>\n",
       "      <td>0.930962</td>\n",
       "      <td>0.900810</td>\n",
       "    </tr>\n",
       "    <tr>\n",
       "      <th>SVC + word2vec + feature engineering</th>\n",
       "      <td>346</td>\n",
       "      <td>0.929439</td>\n",
       "      <td>0.921569</td>\n",
       "      <td>0.929773</td>\n",
       "      <td>0.925652</td>\n",
       "    </tr>\n",
       "    <tr>\n",
       "      <th>Grid search SVC + word2vec + feature engineering</th>\n",
       "      <td>346</td>\n",
       "      <td>0.920561</td>\n",
       "      <td>0.936275</td>\n",
       "      <td>0.900943</td>\n",
       "      <td>0.918269</td>\n",
       "    </tr>\n",
       "    <tr>\n",
       "      <th>SVC + tf-idf + feature engineering</th>\n",
       "      <td>13918</td>\n",
       "      <td>0.925701</td>\n",
       "      <td>0.913725</td>\n",
       "      <td>0.929212</td>\n",
       "      <td>0.921404</td>\n",
       "    </tr>\n",
       "    <tr>\n",
       "      <th>Gridsearch SVC + tf-idf + feature engineering</th>\n",
       "      <td>13918</td>\n",
       "      <td>0.942523</td>\n",
       "      <td>0.951961</td>\n",
       "      <td>0.929187</td>\n",
       "      <td>0.940436</td>\n",
       "    </tr>\n",
       "  </tbody>\n",
       "</table>\n",
       "</div>"
      ],
      "text/plain": [
       "                                                  feature size  accuracy  \\\n",
       "name                                                                       \n",
       "tf-idf                                                   13872  0.912150   \n",
       "tf-idf + feature engineering                             13918  0.933645   \n",
       "word2vec + feature engineering                             346  0.908411   \n",
       "SVC + word2vec + feature engineering                       346  0.929439   \n",
       "Grid search SVC + word2vec + feature engineering           346  0.920561   \n",
       "SVC + tf-idf + feature engineering                       13918  0.925701   \n",
       "Gridsearch SVC + tf-idf + feature engineering            13918  0.942523   \n",
       "\n",
       "                                                    recall  precision  \\\n",
       "name                                                                    \n",
       "tf-idf                                            0.874510   0.936975   \n",
       "tf-idf + feature engineering                      0.891176   0.967021   \n",
       "word2vec + feature engineering                    0.872549   0.930962   \n",
       "SVC + word2vec + feature engineering              0.921569   0.929773   \n",
       "Grid search SVC + word2vec + feature engineering  0.936275   0.900943   \n",
       "SVC + tf-idf + feature engineering                0.913725   0.929212   \n",
       "Gridsearch SVC + tf-idf + feature engineering     0.951961   0.929187   \n",
       "\n",
       "                                                        f1  \n",
       "name                                                        \n",
       "tf-idf                                            0.904665  \n",
       "tf-idf + feature engineering                      0.927551  \n",
       "word2vec + feature engineering                    0.900810  \n",
       "SVC + word2vec + feature engineering              0.925652  \n",
       "Grid search SVC + word2vec + feature engineering  0.918269  \n",
       "SVC + tf-idf + feature engineering                0.921404  \n",
       "Gridsearch SVC + tf-idf + feature engineering     0.940436  "
      ]
     },
     "execution_count": 68,
     "metadata": {},
     "output_type": "execute_result"
    }
   ],
   "source": [
    "perf_df = pd.DataFrame(perf_data, columns=['name', 'feature size', 'accuracy', 'recall', 'precision', 'f1'])\n",
    "perf_df.set_index('name')"
   ]
  },
  {
   "cell_type": "code",
   "execution_count": 72,
   "id": "d75f8c54",
   "metadata": {},
   "outputs": [
    {
     "data": {
      "text/html": [
       "<div>\n",
       "<style scoped>\n",
       "    .dataframe tbody tr th:only-of-type {\n",
       "        vertical-align: middle;\n",
       "    }\n",
       "\n",
       "    .dataframe tbody tr th {\n",
       "        vertical-align: top;\n",
       "    }\n",
       "\n",
       "    .dataframe thead th {\n",
       "        text-align: right;\n",
       "    }\n",
       "</style>\n",
       "<table border=\"1\" class=\"dataframe\">\n",
       "  <thead>\n",
       "    <tr style=\"text-align: right;\">\n",
       "      <th></th>\n",
       "      <th>name</th>\n",
       "      <th>feature size</th>\n",
       "      <th>accuracy</th>\n",
       "      <th>recall</th>\n",
       "      <th>precision</th>\n",
       "      <th>f1</th>\n",
       "    </tr>\n",
       "  </thead>\n",
       "  <tbody>\n",
       "    <tr>\n",
       "      <th>6</th>\n",
       "      <td>Gridsearch SVC + tf-idf + feature engineering</td>\n",
       "      <td>13918</td>\n",
       "      <td>0.942523</td>\n",
       "      <td>0.951961</td>\n",
       "      <td>0.929187</td>\n",
       "      <td>0.940436</td>\n",
       "    </tr>\n",
       "    <tr>\n",
       "      <th>1</th>\n",
       "      <td>tf-idf + feature engineering</td>\n",
       "      <td>13918</td>\n",
       "      <td>0.933645</td>\n",
       "      <td>0.891176</td>\n",
       "      <td>0.967021</td>\n",
       "      <td>0.927551</td>\n",
       "    </tr>\n",
       "    <tr>\n",
       "      <th>3</th>\n",
       "      <td>SVC + word2vec + feature engineering</td>\n",
       "      <td>346</td>\n",
       "      <td>0.929439</td>\n",
       "      <td>0.921569</td>\n",
       "      <td>0.929773</td>\n",
       "      <td>0.925652</td>\n",
       "    </tr>\n",
       "    <tr>\n",
       "      <th>5</th>\n",
       "      <td>SVC + tf-idf + feature engineering</td>\n",
       "      <td>13918</td>\n",
       "      <td>0.925701</td>\n",
       "      <td>0.913725</td>\n",
       "      <td>0.929212</td>\n",
       "      <td>0.921404</td>\n",
       "    </tr>\n",
       "    <tr>\n",
       "      <th>4</th>\n",
       "      <td>Grid search SVC + word2vec + feature engineering</td>\n",
       "      <td>346</td>\n",
       "      <td>0.920561</td>\n",
       "      <td>0.936275</td>\n",
       "      <td>0.900943</td>\n",
       "      <td>0.918269</td>\n",
       "    </tr>\n",
       "    <tr>\n",
       "      <th>0</th>\n",
       "      <td>tf-idf</td>\n",
       "      <td>13872</td>\n",
       "      <td>0.912150</td>\n",
       "      <td>0.874510</td>\n",
       "      <td>0.936975</td>\n",
       "      <td>0.904665</td>\n",
       "    </tr>\n",
       "    <tr>\n",
       "      <th>2</th>\n",
       "      <td>word2vec + feature engineering</td>\n",
       "      <td>346</td>\n",
       "      <td>0.908411</td>\n",
       "      <td>0.872549</td>\n",
       "      <td>0.930962</td>\n",
       "      <td>0.900810</td>\n",
       "    </tr>\n",
       "  </tbody>\n",
       "</table>\n",
       "</div>"
      ],
      "text/plain": [
       "                                               name  feature size  accuracy  \\\n",
       "6     Gridsearch SVC + tf-idf + feature engineering         13918  0.942523   \n",
       "1                      tf-idf + feature engineering         13918  0.933645   \n",
       "3              SVC + word2vec + feature engineering           346  0.929439   \n",
       "5                SVC + tf-idf + feature engineering         13918  0.925701   \n",
       "4  Grid search SVC + word2vec + feature engineering           346  0.920561   \n",
       "0                                            tf-idf         13872  0.912150   \n",
       "2                    word2vec + feature engineering           346  0.908411   \n",
       "\n",
       "     recall  precision        f1  \n",
       "6  0.951961   0.929187  0.940436  \n",
       "1  0.891176   0.967021  0.927551  \n",
       "3  0.921569   0.929773  0.925652  \n",
       "5  0.913725   0.929212  0.921404  \n",
       "4  0.936275   0.900943  0.918269  \n",
       "0  0.874510   0.936975  0.904665  \n",
       "2  0.872549   0.930962  0.900810  "
      ]
     },
     "execution_count": 72,
     "metadata": {},
     "output_type": "execute_result"
    }
   ],
   "source": [
    "# Sort by Accuracy:\n",
    "perf_df.sort_values(by='accuracy', ascending=False)"
   ]
  },
  {
   "cell_type": "code",
   "execution_count": 71,
   "id": "df3e98fd",
   "metadata": {},
   "outputs": [
    {
     "data": {
      "text/html": [
       "<div>\n",
       "<style scoped>\n",
       "    .dataframe tbody tr th:only-of-type {\n",
       "        vertical-align: middle;\n",
       "    }\n",
       "\n",
       "    .dataframe tbody tr th {\n",
       "        vertical-align: top;\n",
       "    }\n",
       "\n",
       "    .dataframe thead th {\n",
       "        text-align: right;\n",
       "    }\n",
       "</style>\n",
       "<table border=\"1\" class=\"dataframe\">\n",
       "  <thead>\n",
       "    <tr style=\"text-align: right;\">\n",
       "      <th></th>\n",
       "      <th>name</th>\n",
       "      <th>feature size</th>\n",
       "      <th>accuracy</th>\n",
       "      <th>recall</th>\n",
       "      <th>precision</th>\n",
       "      <th>f1</th>\n",
       "    </tr>\n",
       "  </thead>\n",
       "  <tbody>\n",
       "    <tr>\n",
       "      <th>6</th>\n",
       "      <td>Gridsearch SVC + tf-idf + feature engineering</td>\n",
       "      <td>13918</td>\n",
       "      <td>0.942523</td>\n",
       "      <td>0.951961</td>\n",
       "      <td>0.929187</td>\n",
       "      <td>0.940436</td>\n",
       "    </tr>\n",
       "    <tr>\n",
       "      <th>1</th>\n",
       "      <td>tf-idf + feature engineering</td>\n",
       "      <td>13918</td>\n",
       "      <td>0.933645</td>\n",
       "      <td>0.891176</td>\n",
       "      <td>0.967021</td>\n",
       "      <td>0.927551</td>\n",
       "    </tr>\n",
       "    <tr>\n",
       "      <th>3</th>\n",
       "      <td>SVC + word2vec + feature engineering</td>\n",
       "      <td>346</td>\n",
       "      <td>0.929439</td>\n",
       "      <td>0.921569</td>\n",
       "      <td>0.929773</td>\n",
       "      <td>0.925652</td>\n",
       "    </tr>\n",
       "    <tr>\n",
       "      <th>5</th>\n",
       "      <td>SVC + tf-idf + feature engineering</td>\n",
       "      <td>13918</td>\n",
       "      <td>0.925701</td>\n",
       "      <td>0.913725</td>\n",
       "      <td>0.929212</td>\n",
       "      <td>0.921404</td>\n",
       "    </tr>\n",
       "    <tr>\n",
       "      <th>4</th>\n",
       "      <td>Grid search SVC + word2vec + feature engineering</td>\n",
       "      <td>346</td>\n",
       "      <td>0.920561</td>\n",
       "      <td>0.936275</td>\n",
       "      <td>0.900943</td>\n",
       "      <td>0.918269</td>\n",
       "    </tr>\n",
       "    <tr>\n",
       "      <th>0</th>\n",
       "      <td>tf-idf</td>\n",
       "      <td>13872</td>\n",
       "      <td>0.912150</td>\n",
       "      <td>0.874510</td>\n",
       "      <td>0.936975</td>\n",
       "      <td>0.904665</td>\n",
       "    </tr>\n",
       "    <tr>\n",
       "      <th>2</th>\n",
       "      <td>word2vec + feature engineering</td>\n",
       "      <td>346</td>\n",
       "      <td>0.908411</td>\n",
       "      <td>0.872549</td>\n",
       "      <td>0.930962</td>\n",
       "      <td>0.900810</td>\n",
       "    </tr>\n",
       "  </tbody>\n",
       "</table>\n",
       "</div>"
      ],
      "text/plain": [
       "                                               name  feature size  accuracy  \\\n",
       "6     Gridsearch SVC + tf-idf + feature engineering         13918  0.942523   \n",
       "1                      tf-idf + feature engineering         13918  0.933645   \n",
       "3              SVC + word2vec + feature engineering           346  0.929439   \n",
       "5                SVC + tf-idf + feature engineering         13918  0.925701   \n",
       "4  Grid search SVC + word2vec + feature engineering           346  0.920561   \n",
       "0                                            tf-idf         13872  0.912150   \n",
       "2                    word2vec + feature engineering           346  0.908411   \n",
       "\n",
       "     recall  precision        f1  \n",
       "6  0.951961   0.929187  0.940436  \n",
       "1  0.891176   0.967021  0.927551  \n",
       "3  0.921569   0.929773  0.925652  \n",
       "5  0.913725   0.929212  0.921404  \n",
       "4  0.936275   0.900943  0.918269  \n",
       "0  0.874510   0.936975  0.904665  \n",
       "2  0.872549   0.930962  0.900810  "
      ]
     },
     "execution_count": 71,
     "metadata": {},
     "output_type": "execute_result"
    }
   ],
   "source": [
    "# Sort by F1:\n",
    "perf_df.sort_values(by='f1', ascending=False)"
   ]
  },
  {
   "cell_type": "code",
   "execution_count": 69,
   "id": "09770f46",
   "metadata": {},
   "outputs": [
    {
     "data": {
      "text/html": [
       "<div>\n",
       "<style scoped>\n",
       "    .dataframe tbody tr th:only-of-type {\n",
       "        vertical-align: middle;\n",
       "    }\n",
       "\n",
       "    .dataframe tbody tr th {\n",
       "        vertical-align: top;\n",
       "    }\n",
       "\n",
       "    .dataframe thead th {\n",
       "        text-align: right;\n",
       "    }\n",
       "</style>\n",
       "<table border=\"1\" class=\"dataframe\">\n",
       "  <thead>\n",
       "    <tr style=\"text-align: right;\">\n",
       "      <th></th>\n",
       "      <th>name</th>\n",
       "      <th>feature size</th>\n",
       "      <th>accuracy</th>\n",
       "      <th>recall</th>\n",
       "      <th>precision</th>\n",
       "      <th>f1</th>\n",
       "    </tr>\n",
       "  </thead>\n",
       "  <tbody>\n",
       "    <tr>\n",
       "      <th>6</th>\n",
       "      <td>Gridsearch SVC + tf-idf + feature engineering</td>\n",
       "      <td>13918</td>\n",
       "      <td>0.942523</td>\n",
       "      <td>0.951961</td>\n",
       "      <td>0.929187</td>\n",
       "      <td>0.940436</td>\n",
       "    </tr>\n",
       "    <tr>\n",
       "      <th>4</th>\n",
       "      <td>Grid search SVC + word2vec + feature engineering</td>\n",
       "      <td>346</td>\n",
       "      <td>0.920561</td>\n",
       "      <td>0.936275</td>\n",
       "      <td>0.900943</td>\n",
       "      <td>0.918269</td>\n",
       "    </tr>\n",
       "    <tr>\n",
       "      <th>3</th>\n",
       "      <td>SVC + word2vec + feature engineering</td>\n",
       "      <td>346</td>\n",
       "      <td>0.929439</td>\n",
       "      <td>0.921569</td>\n",
       "      <td>0.929773</td>\n",
       "      <td>0.925652</td>\n",
       "    </tr>\n",
       "    <tr>\n",
       "      <th>5</th>\n",
       "      <td>SVC + tf-idf + feature engineering</td>\n",
       "      <td>13918</td>\n",
       "      <td>0.925701</td>\n",
       "      <td>0.913725</td>\n",
       "      <td>0.929212</td>\n",
       "      <td>0.921404</td>\n",
       "    </tr>\n",
       "    <tr>\n",
       "      <th>1</th>\n",
       "      <td>tf-idf + feature engineering</td>\n",
       "      <td>13918</td>\n",
       "      <td>0.933645</td>\n",
       "      <td>0.891176</td>\n",
       "      <td>0.967021</td>\n",
       "      <td>0.927551</td>\n",
       "    </tr>\n",
       "    <tr>\n",
       "      <th>0</th>\n",
       "      <td>tf-idf</td>\n",
       "      <td>13872</td>\n",
       "      <td>0.912150</td>\n",
       "      <td>0.874510</td>\n",
       "      <td>0.936975</td>\n",
       "      <td>0.904665</td>\n",
       "    </tr>\n",
       "    <tr>\n",
       "      <th>2</th>\n",
       "      <td>word2vec + feature engineering</td>\n",
       "      <td>346</td>\n",
       "      <td>0.908411</td>\n",
       "      <td>0.872549</td>\n",
       "      <td>0.930962</td>\n",
       "      <td>0.900810</td>\n",
       "    </tr>\n",
       "  </tbody>\n",
       "</table>\n",
       "</div>"
      ],
      "text/plain": [
       "                                               name  feature size  accuracy  \\\n",
       "6     Gridsearch SVC + tf-idf + feature engineering         13918  0.942523   \n",
       "4  Grid search SVC + word2vec + feature engineering           346  0.920561   \n",
       "3              SVC + word2vec + feature engineering           346  0.929439   \n",
       "5                SVC + tf-idf + feature engineering         13918  0.925701   \n",
       "1                      tf-idf + feature engineering         13918  0.933645   \n",
       "0                                            tf-idf         13872  0.912150   \n",
       "2                    word2vec + feature engineering           346  0.908411   \n",
       "\n",
       "     recall  precision        f1  \n",
       "6  0.951961   0.929187  0.940436  \n",
       "4  0.936275   0.900943  0.918269  \n",
       "3  0.921569   0.929773  0.925652  \n",
       "5  0.913725   0.929212  0.921404  \n",
       "1  0.891176   0.967021  0.927551  \n",
       "0  0.874510   0.936975  0.904665  \n",
       "2  0.872549   0.930962  0.900810  "
      ]
     },
     "execution_count": 69,
     "metadata": {},
     "output_type": "execute_result"
    }
   ],
   "source": [
    "# Sort by recall:\n",
    "perf_df.sort_values(by='recall', ascending=False)"
   ]
  },
  {
   "cell_type": "code",
   "execution_count": 70,
   "id": "a2908c78",
   "metadata": {},
   "outputs": [
    {
     "data": {
      "text/html": [
       "<div>\n",
       "<style scoped>\n",
       "    .dataframe tbody tr th:only-of-type {\n",
       "        vertical-align: middle;\n",
       "    }\n",
       "\n",
       "    .dataframe tbody tr th {\n",
       "        vertical-align: top;\n",
       "    }\n",
       "\n",
       "    .dataframe thead th {\n",
       "        text-align: right;\n",
       "    }\n",
       "</style>\n",
       "<table border=\"1\" class=\"dataframe\">\n",
       "  <thead>\n",
       "    <tr style=\"text-align: right;\">\n",
       "      <th></th>\n",
       "      <th>name</th>\n",
       "      <th>feature size</th>\n",
       "      <th>accuracy</th>\n",
       "      <th>recall</th>\n",
       "      <th>precision</th>\n",
       "      <th>f1</th>\n",
       "    </tr>\n",
       "  </thead>\n",
       "  <tbody>\n",
       "    <tr>\n",
       "      <th>1</th>\n",
       "      <td>tf-idf + feature engineering</td>\n",
       "      <td>13918</td>\n",
       "      <td>0.933645</td>\n",
       "      <td>0.891176</td>\n",
       "      <td>0.967021</td>\n",
       "      <td>0.927551</td>\n",
       "    </tr>\n",
       "    <tr>\n",
       "      <th>0</th>\n",
       "      <td>tf-idf</td>\n",
       "      <td>13872</td>\n",
       "      <td>0.912150</td>\n",
       "      <td>0.874510</td>\n",
       "      <td>0.936975</td>\n",
       "      <td>0.904665</td>\n",
       "    </tr>\n",
       "    <tr>\n",
       "      <th>2</th>\n",
       "      <td>word2vec + feature engineering</td>\n",
       "      <td>346</td>\n",
       "      <td>0.908411</td>\n",
       "      <td>0.872549</td>\n",
       "      <td>0.930962</td>\n",
       "      <td>0.900810</td>\n",
       "    </tr>\n",
       "    <tr>\n",
       "      <th>3</th>\n",
       "      <td>SVC + word2vec + feature engineering</td>\n",
       "      <td>346</td>\n",
       "      <td>0.929439</td>\n",
       "      <td>0.921569</td>\n",
       "      <td>0.929773</td>\n",
       "      <td>0.925652</td>\n",
       "    </tr>\n",
       "    <tr>\n",
       "      <th>5</th>\n",
       "      <td>SVC + tf-idf + feature engineering</td>\n",
       "      <td>13918</td>\n",
       "      <td>0.925701</td>\n",
       "      <td>0.913725</td>\n",
       "      <td>0.929212</td>\n",
       "      <td>0.921404</td>\n",
       "    </tr>\n",
       "    <tr>\n",
       "      <th>6</th>\n",
       "      <td>Gridsearch SVC + tf-idf + feature engineering</td>\n",
       "      <td>13918</td>\n",
       "      <td>0.942523</td>\n",
       "      <td>0.951961</td>\n",
       "      <td>0.929187</td>\n",
       "      <td>0.940436</td>\n",
       "    </tr>\n",
       "    <tr>\n",
       "      <th>4</th>\n",
       "      <td>Grid search SVC + word2vec + feature engineering</td>\n",
       "      <td>346</td>\n",
       "      <td>0.920561</td>\n",
       "      <td>0.936275</td>\n",
       "      <td>0.900943</td>\n",
       "      <td>0.918269</td>\n",
       "    </tr>\n",
       "  </tbody>\n",
       "</table>\n",
       "</div>"
      ],
      "text/plain": [
       "                                               name  feature size  accuracy  \\\n",
       "1                      tf-idf + feature engineering         13918  0.933645   \n",
       "0                                            tf-idf         13872  0.912150   \n",
       "2                    word2vec + feature engineering           346  0.908411   \n",
       "3              SVC + word2vec + feature engineering           346  0.929439   \n",
       "5                SVC + tf-idf + feature engineering         13918  0.925701   \n",
       "6     Gridsearch SVC + tf-idf + feature engineering         13918  0.942523   \n",
       "4  Grid search SVC + word2vec + feature engineering           346  0.920561   \n",
       "\n",
       "     recall  precision        f1  \n",
       "1  0.891176   0.967021  0.927551  \n",
       "0  0.874510   0.936975  0.904665  \n",
       "2  0.872549   0.930962  0.900810  \n",
       "3  0.921569   0.929773  0.925652  \n",
       "5  0.913725   0.929212  0.921404  \n",
       "6  0.951961   0.929187  0.940436  \n",
       "4  0.936275   0.900943  0.918269  "
      ]
     },
     "execution_count": 70,
     "metadata": {},
     "output_type": "execute_result"
    }
   ],
   "source": [
    "# Sort by precision:\n",
    "perf_df.sort_values(by='precision', ascending=False)"
   ]
  },
  {
   "cell_type": "markdown",
   "id": "febe1095",
   "metadata": {},
   "source": [
    "<b>The above results show that if we do feature engineering, we can achieve greater accuracy using classical Machine learning algorithms.</b> Using a transformer-based model is a time-consuming and resource-expensive algorithms. If we do feature engineering in the right way that is after analyzing our dataset we can get comparable results.\n",
    "\n",
    "We can also do some other feature engineering like, counting the number of emojis used, type of emojis used, what frequencies of unique words, etc. <b>We can define our features by analyzing the dataset and the only limit is your imagination.</b>"
   ]
  },
  {
   "cell_type": "markdown",
   "id": "8d294e6f",
   "metadata": {},
   "source": [
    "## <font color='darkblue'>Supplement</font>\n",
    "* [Kaggle - Gensim Word2Vec Tutorial](https://www.kaggle.com/code/pierremegret/gensim-word2vec-tutorial/notebook)\n",
    "* [FAQ - ImportError: cannot import name 'HalvingGridSearchCV' from 'sklearn.model_selection'](https://stackoverflow.com/questions/70908124/importerror-cannot-import-name-halvinggridsearchcv-from-sklearn-model-select)\n",
    "* [SVM Hyperparameter Tuning using GridSearchCV](https://www.vebuso.com/2020/03/svm-hyperparameter-tuning-using-gridsearchcv/)"
   ]
  }
 ],
 "metadata": {
  "kernelspec": {
   "display_name": "Python 3 (ipykernel)",
   "language": "python",
   "name": "python3"
  },
  "language_info": {
   "codemirror_mode": {
    "name": "ipython",
    "version": 3
   },
   "file_extension": ".py",
   "mimetype": "text/x-python",
   "name": "python",
   "nbconvert_exporter": "python",
   "pygments_lexer": "ipython3",
   "version": "3.8.10"
  }
 },
 "nbformat": 4,
 "nbformat_minor": 5
}
