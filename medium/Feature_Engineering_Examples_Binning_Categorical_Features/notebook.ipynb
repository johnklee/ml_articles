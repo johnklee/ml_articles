{
 "cells": [
  {
   "cell_type": "markdown",
   "metadata": {},
   "source": [
    "## <font color='darkblue'>Preface</font>\n",
    "([article source](https://towardsdatascience.com/feature-engineering-examples-binning-categorical-features-9f8d582455da)) <font size='3ptx'>**How to use NumPy or Pandas to quickly bin categorical features**</font>\n",
    "\n",
    "**Working with categorical data for machine learning** (<font color='brown'>ML</font>) **purposes can sometimes present tricky issues**. Ultimately these features need to be numerically encoded in some way so that an ML algorithm can actually work with them.\n",
    "\n",
    "You’ll also want to consider additional methods for getting your categorical features ready for modeling. For example, your model performance may benefit from **binning categorical features**. This essentially means lumping multiple categories together into a single category. By applying domain knowledge, you may be able to engineer new categories and features that better represent the structure of your data.\n",
    "\n",
    "**In this post, we’ll briefly cover why binning categorical features can be beneficial. Then we’ll walk through three different methods for binning categorical features with specific examples using NumPy and Pandas.**"
   ]
  },
  {
   "cell_type": "markdown",
   "metadata": {},
   "source": [
    "### <font color='darkgreen'>Agenda</font>\n",
    "* <font size='3ptx'>[**Why Bin Categories?**](#sect1)</font>\n",
    "* <font size='3ptx'>[**Using np.where() to Bin Categories**](#sect2)</font>\n",
    "* <font size='3ptx'>[**Mapping Categories into New Groups with map()**](#sect3)</font>\n",
    "* <font size='3ptx'>[**Applying a Custom Function with apply()**](#sect4)</font>"
   ]
  },
  {
   "cell_type": "markdown",
   "metadata": {},
   "source": [
    "<a id='sect1'></a>\n",
    "## <font color='darkblue'>Why Bin Categories?</font>\n",
    "With categorical features, you may encounter problems with rare labels, categories/groups that are extremely uncommon within your dataset. This issue is often related to features having **high cardinality — in other words, many different categories.**\n",
    "\n",
    "Having too many categories, and especially rare categories, leads to a noisy dataset. It can be difficult for an ML algorithm to cut through this noise and learn from the more meaningful signals in the data.\n",
    "\n",
    "**High cardinality can also exacerbate the [curse of dimensionality](https://towardsdatascience.com/the-curse-of-dimensionality-minus-the-curse-of-jargon-520da109fc87) if you choose to [one hot encode](https://towardsdatascience.com/categorical-encoding-using-label-encoding-and-one-hot-encoder-911ef77fb5bd) your categorical features.** If the original variable has 50 different categories, you’re basically adding 49 columns to your dataset.\n",
    "\n",
    "**Having too many categories can also lead to issues when training and testing your model.** It’s completely possible that a category will show up in the test set, but not in the training set. Your model would have no idea how to handle that category because it has never “seen” it before.\n",
    "\n",
    "**One way to address these problems is by [engineering new features](https://maxsteele731.medium.com/what-is-feature-engineering-bfd25b2b26b2) that have fewer categories. This can be accomplished through binning** (<font color='brown'>grouping</font>) **multiple categories into a single category.**\n",
    "\n",
    "In the following examples, we’ll be exploring and engineering features from a dataset with information about voter demographics and participation. I’ve selected 3 categorical variables to work with:\n",
    "* **party_cd:** a registered voter’s political party affiliation\n",
    "* **voting_method:** how a registered voter cast their ballot in the election\n",
    "* **birth_state:** the U.S. state or territory where a registered voter was born"
   ]
  },
  {
   "cell_type": "code",
   "execution_count": 19,
   "metadata": {},
   "outputs": [],
   "source": [
    "import pandas as pd\n",
    "import numpy as np\n",
    "import random\n",
    "import matplotlib.pyplot as plt\n",
    "from collections import OrderedDict"
   ]
  },
  {
   "cell_type": "code",
   "execution_count": 61,
   "metadata": {},
   "outputs": [],
   "source": [
    "def gen_fake_df(k=20000):\n",
    "    datas = []\n",
    "    # https://en.wikipedia.org/wiki/List_of_states_and_territories_of_the_United_States_by_population\n",
    "    # https://www.ssa.gov/international/coc-docs/states.html\n",
    "    us_states_weights = OrderedDict({\n",
    "        'AL': 4921532, \n",
    "        'AK': 731158, \n",
    "        'AS': 19437, \n",
    "        'AZ': 7421401, \n",
    "        'AR': 3030522, \n",
    "        'CA': 39368, \n",
    "        'CO': 5807719,\n",
    "        'CT': 3557006,\n",
    "        'DE': 986809,\n",
    "        'DC': 712816,\n",
    "        'FL': 21733312,\n",
    "        'GA': 10710017,\n",
    "        'GU': 68485,\n",
    "        'HI': 1407006,\n",
    "        'ID': 1826913,\n",
    "        'IL': 12587530,\n",
    "        'IN': 6754953,\n",
    "        'IA': 3163561,\n",
    "        'KS': 2913805,\n",
    "        'KY': 4477251,\n",
    "        'LA': 4645318,\n",
    "        'ME': 1350141,\n",
    "        'MD': 6055802,\n",
    "        'MA': 6893574,\n",
    "        'MI': 9966555,\n",
    "        'MN': 5657342,\n",
    "        'MS': 2966786,\n",
    "        'MO': 6151548,\n",
    "        'MT': 1080577,\n",
    "        'NE': 1937552,\n",
    "        'NV': 3138259,\n",
    "        'NH': 1366275,\n",
    "        'NJ': 8882371,\n",
    "        'NM': 2106319,\n",
    "        'NY': 10600823*5,\n",
    "        'NC': 10600823*9,\n",
    "        'Missing': 10600823*7,\n",
    "        'ND': 765309,\n",
    "        'NP': 51433,\n",
    "        'OH': 11693217,\n",
    "        'OC': 10600823*2,\n",
    "        'OK': 3980783,\n",
    "        'OR': 4241507,\n",
    "        'PA': 12783254,\n",
    "        'PR': 189068,\n",
    "        'SC': 5218040,\n",
    "        'TX': 29360759,\n",
    "        'UT': 3249879,\n",
    "        'VA': 8590563,\n",
    "        'WA': 7693612,\n",
    "    })\n",
    "    vote_method_weights = OrderedDict({\n",
    "        'ABSENTEE ONESTOP': 8300, \n",
    "        'NO VOTE': 3900,\n",
    "        'IN PERSON': 2000,\n",
    "        'ABSENTEE BY MAIL': 1900,\n",
    "        'ABSENTEE CURBSIDE': 500,\n",
    "        'PROVISIONAL': 60,\n",
    "        'TRANSFER': 40,\n",
    "        'CURBSIDE': 30,\n",
    "    })\n",
    "    for v, p, b in zip(\n",
    "        random.choices(list(vote_method_weights.keys()), weights=tuple(vote_method_weights.values()), k=k),\n",
    "        random.choices(['REP', 'UNA', 'DEM', 'LIB', 'CST', 'GRE'], weights=(6900, 5700, 4000, 100, 100, 90), k=k),\n",
    "        random.choices(list(us_states_weights.keys()), weights=tuple(list(us_states_weights.values())), k=k),\n",
    "    ):\n",
    "        datas.append((v, p, b))\n",
    "    df = pd.DataFrame(datas, columns = [\"voting_method\", \"party_cd\", \"birth_state\"])\n",
    "    return df"
   ]
  },
  {
   "cell_type": "code",
   "execution_count": 55,
   "metadata": {},
   "outputs": [
    {
     "data": {
      "text/html": [
       "<div>\n",
       "<style scoped>\n",
       "    .dataframe tbody tr th:only-of-type {\n",
       "        vertical-align: middle;\n",
       "    }\n",
       "\n",
       "    .dataframe tbody tr th {\n",
       "        vertical-align: top;\n",
       "    }\n",
       "\n",
       "    .dataframe thead th {\n",
       "        text-align: right;\n",
       "    }\n",
       "</style>\n",
       "<table border=\"1\" class=\"dataframe\">\n",
       "  <thead>\n",
       "    <tr style=\"text-align: right;\">\n",
       "      <th></th>\n",
       "      <th>voting_method</th>\n",
       "      <th>party_cd</th>\n",
       "      <th>birth_state</th>\n",
       "    </tr>\n",
       "  </thead>\n",
       "  <tbody>\n",
       "    <tr>\n",
       "      <th>0</th>\n",
       "      <td>ABSENTEE ONESTOP</td>\n",
       "      <td>LIB</td>\n",
       "      <td>Missing</td>\n",
       "    </tr>\n",
       "    <tr>\n",
       "      <th>1</th>\n",
       "      <td>ABSENTEE BY MAIL</td>\n",
       "      <td>DEM</td>\n",
       "      <td>OC</td>\n",
       "    </tr>\n",
       "    <tr>\n",
       "      <th>2</th>\n",
       "      <td>ABSENTEE ONESTOP</td>\n",
       "      <td>REP</td>\n",
       "      <td>WA</td>\n",
       "    </tr>\n",
       "    <tr>\n",
       "      <th>3</th>\n",
       "      <td>ABSENTEE BY MAIL</td>\n",
       "      <td>UNA</td>\n",
       "      <td>IL</td>\n",
       "    </tr>\n",
       "    <tr>\n",
       "      <th>4</th>\n",
       "      <td>NO VOTE</td>\n",
       "      <td>REP</td>\n",
       "      <td>Missing</td>\n",
       "    </tr>\n",
       "  </tbody>\n",
       "</table>\n",
       "</div>"
      ],
      "text/plain": [
       "      voting_method party_cd birth_state\n",
       "0  ABSENTEE ONESTOP      LIB     Missing\n",
       "1  ABSENTEE BY MAIL      DEM          OC\n",
       "2  ABSENTEE ONESTOP      REP          WA\n",
       "3  ABSENTEE BY MAIL      UNA          IL\n",
       "4           NO VOTE      REP     Missing"
      ]
     },
     "execution_count": 55,
     "metadata": {},
     "output_type": "execute_result"
    }
   ],
   "source": [
    "fake_df = gen_fake_df()\n",
    "fake_df.head()"
   ]
  },
  {
   "cell_type": "markdown",
   "metadata": {},
   "source": [
    "<a id='sect2'></a>\n",
    "## <font color='darkblue'>Using np.where() to Bin Categories</font>\n",
    "First, let’s check out why I chose `party_cd`. The image below shows how many individual voters belong to each political party."
   ]
  },
  {
   "cell_type": "code",
   "execution_count": 28,
   "metadata": {},
   "outputs": [
    {
     "data": {
      "text/plain": [
       "<AxesSubplot:>"
      ]
     },
     "execution_count": 28,
     "metadata": {},
     "output_type": "execute_result"
    },
    {
     "data": {
      "image/png": "[encoded data removed]",
      "text/plain": [
       "<Figure size 432x288 with 1 Axes>"
      ]
     },
     "metadata": {
      "needs_background": "light"
     },
     "output_type": "display_data"
    }
   ],
   "source": [
    "plt.rcParams['figure.figsize'] = [6, 4]\n",
    "fake_df['party_cd'].value_counts().plot(kind='bar', rot=0)"
   ]
  },
  {
   "cell_type": "markdown",
   "metadata": {},
   "source": [
    "There are so few registered Libertarians, Constitutionalists, and members of the Green Party that we can barely see them on the graph. These would be good examples of rare labels. **For the purposes of this post, we’ll define rare labels as those that make up less than 5% of observations. This is a common threshold for defining rare labels, but ultimately that’s up to your discretion.**\n",
    "\n",
    "Let’s look at a breakdown of the actual numbers:"
   ]
  },
  {
   "cell_type": "code",
   "execution_count": 46,
   "metadata": {},
   "outputs": [],
   "source": [
    "def show_column_dist(df, column_name, top_n=-1):\n",
    "    # https://stackoverflow.com/questions/50558458/pandas-get-frequency-of-item-occurrences-in-a-column-as-percentage\n",
    "    a, fake_df_row_count = fake_df[column_name].value_counts(), fake_df.shape[0]\n",
    "    dist_df = pd.DataFrame(a.tolist(), columns = [column_name], index=a.index)\n",
    "    dist_df['%'] = dist_df.apply(lambda e: 100*e[column_name]/fake_df_row_count, axis=1)\n",
    "    if top_n > 0:\n",
    "        return dist_df.head(n=15)\n",
    "    else:\n",
    "        return dist_df"
   ]
  },
  {
   "cell_type": "code",
   "execution_count": 30,
   "metadata": {},
   "outputs": [
    {
     "data": {
      "text/plain": [
       "REP    8223\n",
       "UNA    6733\n",
       "DEM    4716\n",
       "LIB     116\n",
       "CST     114\n",
       "GRE      98\n",
       "Name: party_cd, dtype: int64"
      ]
     },
     "execution_count": 30,
     "metadata": {},
     "output_type": "execute_result"
    }
   ],
   "source": [
    "fake_df['party_cd'].value_counts()"
   ]
  },
  {
   "cell_type": "code",
   "execution_count": 44,
   "metadata": {},
   "outputs": [
    {
     "data": {
      "text/html": [
       "<div>\n",
       "<style scoped>\n",
       "    .dataframe tbody tr th:only-of-type {\n",
       "        vertical-align: middle;\n",
       "    }\n",
       "\n",
       "    .dataframe tbody tr th {\n",
       "        vertical-align: top;\n",
       "    }\n",
       "\n",
       "    .dataframe thead th {\n",
       "        text-align: right;\n",
       "    }\n",
       "</style>\n",
       "<table border=\"1\" class=\"dataframe\">\n",
       "  <thead>\n",
       "    <tr style=\"text-align: right;\">\n",
       "      <th></th>\n",
       "      <th>party_cd</th>\n",
       "      <th>%</th>\n",
       "    </tr>\n",
       "  </thead>\n",
       "  <tbody>\n",
       "    <tr>\n",
       "      <th>REP</th>\n",
       "      <td>8223</td>\n",
       "      <td>41.115</td>\n",
       "    </tr>\n",
       "    <tr>\n",
       "      <th>UNA</th>\n",
       "      <td>6733</td>\n",
       "      <td>33.665</td>\n",
       "    </tr>\n",
       "    <tr>\n",
       "      <th>DEM</th>\n",
       "      <td>4716</td>\n",
       "      <td>23.580</td>\n",
       "    </tr>\n",
       "    <tr>\n",
       "      <th>LIB</th>\n",
       "      <td>116</td>\n",
       "      <td>0.580</td>\n",
       "    </tr>\n",
       "    <tr>\n",
       "      <th>CST</th>\n",
       "      <td>114</td>\n",
       "      <td>0.570</td>\n",
       "    </tr>\n",
       "    <tr>\n",
       "      <th>GRE</th>\n",
       "      <td>98</td>\n",
       "      <td>0.490</td>\n",
       "    </tr>\n",
       "  </tbody>\n",
       "</table>\n",
       "</div>"
      ],
      "text/plain": [
       "     party_cd       %\n",
       "REP      8223  41.115\n",
       "UNA      6733  33.665\n",
       "DEM      4716  23.580\n",
       "LIB       116   0.580\n",
       "CST       114   0.570\n",
       "GRE        98   0.490"
      ]
     },
     "execution_count": 44,
     "metadata": {},
     "output_type": "execute_result"
    }
   ],
   "source": [
    "show_column_dist(fake_df, 'party_cd')"
   ]
  },
  {
   "cell_type": "markdown",
   "metadata": {},
   "source": [
    "Those three categories each make up far less than 5% of the population. Even if we lumped them all together into a single category, that new category would still represent less than 1% of voters.\n",
    "\n",
    "`REP` and `DEM` represent the two major political parties, whereas `UNA` represents voters that registered as unaffiliated with a political party. So here, it could make sense to lump in our three rare labels into that unaffiliated group so that we have three categories: one for each of the two major parties, and a third representing individuals that chose not to align with either major party.\n",
    "\n",
    "This can be accomplished very easily with [**np**.where()](https://numpy.org/doc/stable/reference/generated/numpy.where.html) which takes 3 arguments:\n",
    "1. a condition\n",
    "2. what to return if the condition is met\n",
    "3. what to return if the condition is not met\n",
    "\n",
    "The following code creates a new feature, `party_grp`, from the original `party_cd` variable using [**np**.where()](https://numpy.org/doc/stable/reference/generated/numpy.where.html):"
   ]
  },
  {
   "cell_type": "code",
   "execution_count": 32,
   "metadata": {},
   "outputs": [],
   "source": [
    "fake_df['party_grp'] = np.where(\n",
    "    fake_df['party_cd'].isin(['REP', 'DEM']),\n",
    "    fake_df['party_cd'].str.title(),\n",
    "    'Other'\n",
    ")"
   ]
  },
  {
   "cell_type": "code",
   "execution_count": 33,
   "metadata": {},
   "outputs": [
    {
     "data": {
      "text/html": [
       "<div>\n",
       "<style scoped>\n",
       "    .dataframe tbody tr th:only-of-type {\n",
       "        vertical-align: middle;\n",
       "    }\n",
       "\n",
       "    .dataframe tbody tr th {\n",
       "        vertical-align: top;\n",
       "    }\n",
       "\n",
       "    .dataframe thead th {\n",
       "        text-align: right;\n",
       "    }\n",
       "</style>\n",
       "<table border=\"1\" class=\"dataframe\">\n",
       "  <thead>\n",
       "    <tr style=\"text-align: right;\">\n",
       "      <th></th>\n",
       "      <th>party_cd</th>\n",
       "      <th>party_grp</th>\n",
       "    </tr>\n",
       "  </thead>\n",
       "  <tbody>\n",
       "    <tr>\n",
       "      <th>0</th>\n",
       "      <td>DEM</td>\n",
       "      <td>Dem</td>\n",
       "    </tr>\n",
       "    <tr>\n",
       "      <th>1</th>\n",
       "      <td>DEM</td>\n",
       "      <td>Dem</td>\n",
       "    </tr>\n",
       "    <tr>\n",
       "      <th>2</th>\n",
       "      <td>DEM</td>\n",
       "      <td>Dem</td>\n",
       "    </tr>\n",
       "    <tr>\n",
       "      <th>3</th>\n",
       "      <td>REP</td>\n",
       "      <td>Rep</td>\n",
       "    </tr>\n",
       "    <tr>\n",
       "      <th>4</th>\n",
       "      <td>REP</td>\n",
       "      <td>Rep</td>\n",
       "    </tr>\n",
       "    <tr>\n",
       "      <th>...</th>\n",
       "      <td>...</td>\n",
       "      <td>...</td>\n",
       "    </tr>\n",
       "    <tr>\n",
       "      <th>19995</th>\n",
       "      <td>UNA</td>\n",
       "      <td>Other</td>\n",
       "    </tr>\n",
       "    <tr>\n",
       "      <th>19996</th>\n",
       "      <td>REP</td>\n",
       "      <td>Rep</td>\n",
       "    </tr>\n",
       "    <tr>\n",
       "      <th>19997</th>\n",
       "      <td>DEM</td>\n",
       "      <td>Dem</td>\n",
       "    </tr>\n",
       "    <tr>\n",
       "      <th>19998</th>\n",
       "      <td>REP</td>\n",
       "      <td>Rep</td>\n",
       "    </tr>\n",
       "    <tr>\n",
       "      <th>19999</th>\n",
       "      <td>REP</td>\n",
       "      <td>Rep</td>\n",
       "    </tr>\n",
       "  </tbody>\n",
       "</table>\n",
       "<p>20000 rows × 2 columns</p>\n",
       "</div>"
      ],
      "text/plain": [
       "      party_cd party_grp\n",
       "0          DEM       Dem\n",
       "1          DEM       Dem\n",
       "2          DEM       Dem\n",
       "3          REP       Rep\n",
       "4          REP       Rep\n",
       "...        ...       ...\n",
       "19995      UNA     Other\n",
       "19996      REP       Rep\n",
       "19997      DEM       Dem\n",
       "19998      REP       Rep\n",
       "19999      REP       Rep\n",
       "\n",
       "[20000 rows x 2 columns]"
      ]
     },
     "execution_count": 33,
     "metadata": {},
     "output_type": "execute_result"
    }
   ],
   "source": [
    "fake_df[['party_cd', 'party_grp']]"
   ]
  },
  {
   "cell_type": "code",
   "execution_count": 34,
   "metadata": {},
   "outputs": [
    {
     "data": {
      "text/html": [
       "<div>\n",
       "<style scoped>\n",
       "    .dataframe tbody tr th:only-of-type {\n",
       "        vertical-align: middle;\n",
       "    }\n",
       "\n",
       "    .dataframe tbody tr th {\n",
       "        vertical-align: top;\n",
       "    }\n",
       "\n",
       "    .dataframe thead th {\n",
       "        text-align: right;\n",
       "    }\n",
       "</style>\n",
       "<table border=\"1\" class=\"dataframe\">\n",
       "  <thead>\n",
       "    <tr style=\"text-align: right;\">\n",
       "      <th></th>\n",
       "      <th>party_grp</th>\n",
       "      <th>%</th>\n",
       "    </tr>\n",
       "  </thead>\n",
       "  <tbody>\n",
       "    <tr>\n",
       "      <th>Rep</th>\n",
       "      <td>8223</td>\n",
       "      <td>41.115</td>\n",
       "    </tr>\n",
       "    <tr>\n",
       "      <th>Other</th>\n",
       "      <td>7061</td>\n",
       "      <td>35.305</td>\n",
       "    </tr>\n",
       "    <tr>\n",
       "      <th>Dem</th>\n",
       "      <td>4716</td>\n",
       "      <td>23.580</td>\n",
       "    </tr>\n",
       "  </tbody>\n",
       "</table>\n",
       "</div>"
      ],
      "text/plain": [
       "       party_grp       %\n",
       "Rep         8223  41.115\n",
       "Other       7061  35.305\n",
       "Dem         4716  23.580"
      ]
     },
     "execution_count": 34,
     "metadata": {},
     "output_type": "execute_result"
    }
   ],
   "source": [
    "show_column_dist(fake_df, 'party_grp')"
   ]
  },
  {
   "cell_type": "markdown",
   "metadata": {},
   "source": [
    "<a id='sect3'></a>\n",
    "## <font color='darkblue'>Mapping Categories into New Groups with map()</font>\n",
    "Next up, let’s take a look at the distribution of `voting_method`:"
   ]
  },
  {
   "cell_type": "code",
   "execution_count": 36,
   "metadata": {},
   "outputs": [
    {
     "data": {
      "text/plain": [
       "<AxesSubplot:>"
      ]
     },
     "execution_count": 36,
     "metadata": {},
     "output_type": "execute_result"
    },
    {
     "data": {
      "image/png": "[encoded data removed]",
      "text/plain": [
       "<Figure size 432x288 with 1 Axes>"
      ]
     },
     "metadata": {
      "needs_background": "light"
     },
     "output_type": "display_data"
    }
   ],
   "source": [
    "plt.rcParams['figure.figsize'] = [6, 4]\n",
    "fake_df['voting_method'].value_counts().plot(kind='bar', rot=45)"
   ]
  },
  {
   "cell_type": "markdown",
   "metadata": {},
   "source": [
    "Not the prettiest of graphs, but we get the picture. **We have 8 different categories of voting method. I would hazard a guess that half of them meet our definition of rare labels.**"
   ]
  },
  {
   "cell_type": "code",
   "execution_count": 37,
   "metadata": {},
   "outputs": [
    {
     "data": {
      "text/html": [
       "<div>\n",
       "<style scoped>\n",
       "    .dataframe tbody tr th:only-of-type {\n",
       "        vertical-align: middle;\n",
       "    }\n",
       "\n",
       "    .dataframe tbody tr th {\n",
       "        vertical-align: top;\n",
       "    }\n",
       "\n",
       "    .dataframe thead th {\n",
       "        text-align: right;\n",
       "    }\n",
       "</style>\n",
       "<table border=\"1\" class=\"dataframe\">\n",
       "  <thead>\n",
       "    <tr style=\"text-align: right;\">\n",
       "      <th></th>\n",
       "      <th>voting_method</th>\n",
       "      <th>%</th>\n",
       "    </tr>\n",
       "  </thead>\n",
       "  <tbody>\n",
       "    <tr>\n",
       "      <th>ABSENTEE ONESTOP</th>\n",
       "      <td>9804</td>\n",
       "      <td>49.020</td>\n",
       "    </tr>\n",
       "    <tr>\n",
       "      <th>NO VOTE</th>\n",
       "      <td>4697</td>\n",
       "      <td>23.485</td>\n",
       "    </tr>\n",
       "    <tr>\n",
       "      <th>IN PERSON</th>\n",
       "      <td>2451</td>\n",
       "      <td>12.255</td>\n",
       "    </tr>\n",
       "    <tr>\n",
       "      <th>ABSENTEE BY MAIL</th>\n",
       "      <td>2324</td>\n",
       "      <td>11.620</td>\n",
       "    </tr>\n",
       "    <tr>\n",
       "      <th>ABSENTEE CURBSIDE</th>\n",
       "      <td>580</td>\n",
       "      <td>2.900</td>\n",
       "    </tr>\n",
       "    <tr>\n",
       "      <th>PROVISIONAL</th>\n",
       "      <td>65</td>\n",
       "      <td>0.325</td>\n",
       "    </tr>\n",
       "    <tr>\n",
       "      <th>TRANSFER</th>\n",
       "      <td>41</td>\n",
       "      <td>0.205</td>\n",
       "    </tr>\n",
       "    <tr>\n",
       "      <th>CURBSIDE</th>\n",
       "      <td>38</td>\n",
       "      <td>0.190</td>\n",
       "    </tr>\n",
       "  </tbody>\n",
       "</table>\n",
       "</div>"
      ],
      "text/plain": [
       "                   voting_method       %\n",
       "ABSENTEE ONESTOP            9804  49.020\n",
       "NO VOTE                     4697  23.485\n",
       "IN PERSON                   2451  12.255\n",
       "ABSENTEE BY MAIL            2324  11.620\n",
       "ABSENTEE CURBSIDE            580   2.900\n",
       "PROVISIONAL                   65   0.325\n",
       "TRANSFER                      41   0.205\n",
       "CURBSIDE                      38   0.190"
      ]
     },
     "execution_count": 37,
     "metadata": {},
     "output_type": "execute_result"
    }
   ],
   "source": [
    "show_column_dist(fake_df, 'voting_method')"
   ]
  },
  {
   "cell_type": "markdown",
   "metadata": {},
   "source": [
    "Yup! Four of our categories are rare labels. **<font color='darkred'>Now we could just group them all into an “Other” category and call it a day, but this may not be the most appropriate method.</font>**\n",
    "\n",
    "Based on research I did into how these methods are coded, I know that `Absentee` means someone voted early. So we could group any `Absentee` method into an `Early` category, group `In-Person` and `Curbside` into an `Election Day` category, leave `No Vote` as its own category, and group `Provisional` and `Transfer` into an `Other` category.\n",
    "\n",
    "The following code accomplishes this by first defining a dictionary using the original `voting_method` categories as keys. The value for each key is the new category we actually want."
   ]
  },
  {
   "cell_type": "code",
   "execution_count": 38,
   "metadata": {},
   "outputs": [],
   "source": [
    "vote_method_map = {'ABSENTEE ONESTOP': 'Early',\n",
    "                   'IN PERSON': 'Election Day',\n",
    "                   'ABSENTEE BY MAIL': 'Early',\n",
    "                   'ABSENTEE CURBSIDE': 'Early',\n",
    "                   'TRANSFER': 'Other',\n",
    "                   'PROVISIONAL': 'Other',\n",
    "                   'CURBSIDE': 'Election Day',\n",
    "                   'NO VOTE': 'No Vote'}\n",
    "\n",
    "fake_df['vote_method_cat'] = fake_df['voting_method'].map(vote_method_map)"
   ]
  },
  {
   "cell_type": "code",
   "execution_count": 39,
   "metadata": {},
   "outputs": [
    {
     "data": {
      "text/html": [
       "<div>\n",
       "<style scoped>\n",
       "    .dataframe tbody tr th:only-of-type {\n",
       "        vertical-align: middle;\n",
       "    }\n",
       "\n",
       "    .dataframe tbody tr th {\n",
       "        vertical-align: top;\n",
       "    }\n",
       "\n",
       "    .dataframe thead th {\n",
       "        text-align: right;\n",
       "    }\n",
       "</style>\n",
       "<table border=\"1\" class=\"dataframe\">\n",
       "  <thead>\n",
       "    <tr style=\"text-align: right;\">\n",
       "      <th></th>\n",
       "      <th>voting_method</th>\n",
       "      <th>vote_method_cat</th>\n",
       "    </tr>\n",
       "  </thead>\n",
       "  <tbody>\n",
       "    <tr>\n",
       "      <th>0</th>\n",
       "      <td>ABSENTEE ONESTOP</td>\n",
       "      <td>Early</td>\n",
       "    </tr>\n",
       "    <tr>\n",
       "      <th>1</th>\n",
       "      <td>IN PERSON</td>\n",
       "      <td>Election Day</td>\n",
       "    </tr>\n",
       "    <tr>\n",
       "      <th>2</th>\n",
       "      <td>ABSENTEE ONESTOP</td>\n",
       "      <td>Early</td>\n",
       "    </tr>\n",
       "    <tr>\n",
       "      <th>3</th>\n",
       "      <td>NO VOTE</td>\n",
       "      <td>No Vote</td>\n",
       "    </tr>\n",
       "    <tr>\n",
       "      <th>4</th>\n",
       "      <td>IN PERSON</td>\n",
       "      <td>Election Day</td>\n",
       "    </tr>\n",
       "    <tr>\n",
       "      <th>...</th>\n",
       "      <td>...</td>\n",
       "      <td>...</td>\n",
       "    </tr>\n",
       "    <tr>\n",
       "      <th>19995</th>\n",
       "      <td>ABSENTEE ONESTOP</td>\n",
       "      <td>Early</td>\n",
       "    </tr>\n",
       "    <tr>\n",
       "      <th>19996</th>\n",
       "      <td>ABSENTEE ONESTOP</td>\n",
       "      <td>Early</td>\n",
       "    </tr>\n",
       "    <tr>\n",
       "      <th>19997</th>\n",
       "      <td>ABSENTEE BY MAIL</td>\n",
       "      <td>Early</td>\n",
       "    </tr>\n",
       "    <tr>\n",
       "      <th>19998</th>\n",
       "      <td>NO VOTE</td>\n",
       "      <td>No Vote</td>\n",
       "    </tr>\n",
       "    <tr>\n",
       "      <th>19999</th>\n",
       "      <td>NO VOTE</td>\n",
       "      <td>No Vote</td>\n",
       "    </tr>\n",
       "  </tbody>\n",
       "</table>\n",
       "<p>20000 rows × 2 columns</p>\n",
       "</div>"
      ],
      "text/plain": [
       "          voting_method vote_method_cat\n",
       "0      ABSENTEE ONESTOP           Early\n",
       "1             IN PERSON    Election Day\n",
       "2      ABSENTEE ONESTOP           Early\n",
       "3               NO VOTE         No Vote\n",
       "4             IN PERSON    Election Day\n",
       "...                 ...             ...\n",
       "19995  ABSENTEE ONESTOP           Early\n",
       "19996  ABSENTEE ONESTOP           Early\n",
       "19997  ABSENTEE BY MAIL           Early\n",
       "19998           NO VOTE         No Vote\n",
       "19999           NO VOTE         No Vote\n",
       "\n",
       "[20000 rows x 2 columns]"
      ]
     },
     "execution_count": 39,
     "metadata": {},
     "output_type": "execute_result"
    }
   ],
   "source": [
    "fake_df[['voting_method', 'vote_method_cat']]"
   ]
  },
  {
   "cell_type": "markdown",
   "metadata": {},
   "source": [
    "That last line creates a new column, `vote_method_cat`, based on the original values in the `voting_method` column. It does so by applying Pandas’ [map()](https://pandas.pydata.org/docs/reference/api/pandas.Series.map.html) method to the original column, and feeding in our `vote_method_map` to translate from key to corresponding value."
   ]
  },
  {
   "cell_type": "code",
   "execution_count": 40,
   "metadata": {},
   "outputs": [
    {
     "data": {
      "text/html": [
       "<div>\n",
       "<style scoped>\n",
       "    .dataframe tbody tr th:only-of-type {\n",
       "        vertical-align: middle;\n",
       "    }\n",
       "\n",
       "    .dataframe tbody tr th {\n",
       "        vertical-align: top;\n",
       "    }\n",
       "\n",
       "    .dataframe thead th {\n",
       "        text-align: right;\n",
       "    }\n",
       "</style>\n",
       "<table border=\"1\" class=\"dataframe\">\n",
       "  <thead>\n",
       "    <tr style=\"text-align: right;\">\n",
       "      <th></th>\n",
       "      <th>vote_method_cat</th>\n",
       "      <th>%</th>\n",
       "    </tr>\n",
       "  </thead>\n",
       "  <tbody>\n",
       "    <tr>\n",
       "      <th>Early</th>\n",
       "      <td>12708</td>\n",
       "      <td>63.540</td>\n",
       "    </tr>\n",
       "    <tr>\n",
       "      <th>No Vote</th>\n",
       "      <td>4697</td>\n",
       "      <td>23.485</td>\n",
       "    </tr>\n",
       "    <tr>\n",
       "      <th>Election Day</th>\n",
       "      <td>2489</td>\n",
       "      <td>12.445</td>\n",
       "    </tr>\n",
       "    <tr>\n",
       "      <th>Other</th>\n",
       "      <td>106</td>\n",
       "      <td>0.530</td>\n",
       "    </tr>\n",
       "  </tbody>\n",
       "</table>\n",
       "</div>"
      ],
      "text/plain": [
       "              vote_method_cat       %\n",
       "Early                   12708  63.540\n",
       "No Vote                  4697  23.485\n",
       "Election Day             2489  12.445\n",
       "Other                     106   0.530"
      ]
     },
     "execution_count": 40,
     "metadata": {},
     "output_type": "execute_result"
    }
   ],
   "source": [
    "show_column_dist(fake_df, 'vote_method_cat')"
   ]
  },
  {
   "cell_type": "markdown",
   "metadata": {},
   "source": [
    "Now we’ve gotten rid of all but one of our rare labels. Ultimately I chose to drop those 106 `Other` votes. **Voting method was actually the target variable I was trying to predict and what I was really interested in was how people chose to vote**. Provisional and transfer ballots are more reflective of the process and regulations surrounding voting, but my question was specifically about a voter’s active choice.\n",
    "\n",
    "**So not only can you think about engineering predictive features to better represent the underlying structure of your data, <font color='darkgreen'>you can consider how best to represent your target variable relative to your specific question</font>.**"
   ]
  },
  {
   "cell_type": "markdown",
   "metadata": {},
   "source": [
    "<a id='sect4'></a>\n",
    "## <font color='darkblue'>Applying a Custom Function with apply()</font>\n",
    "Finally, we’re going to work on binning `birth_state`. This variable has 57 categories: one for each state, one for missing information, one for each U.S. territory, and a final category for individuals born outside the United States.\n",
    "\n",
    "So the graph looks comically terrible:"
   ]
  },
  {
   "cell_type": "code",
   "execution_count": 62,
   "metadata": {},
   "outputs": [
    {
     "data": {
      "text/plain": [
       "<AxesSubplot:>"
      ]
     },
     "execution_count": 62,
     "metadata": {},
     "output_type": "execute_result"
    },
    {
     "data": {
      "image/png": "[encoded data removed]",
      "text/plain": [
       "<Figure size 864x360 with 1 Axes>"
      ]
     },
     "metadata": {
      "needs_background": "light"
     },
     "output_type": "display_data"
    }
   ],
   "source": [
    "plt.rcParams['figure.figsize'] = [12, 5]\n",
    "fake_df['birth_state'].value_counts().plot(kind='bar', rot=90)"
   ]
  },
  {
   "cell_type": "markdown",
   "metadata": {},
   "source": [
    "If you ever see a graph like this while exploring categorical features, **that’s a good indication you should consider binning that variable if you intend to use it as a feature in your model.**\n",
    "\n",
    "Below is the breakdown of the 15 most common categories of `birth_state`:"
   ]
  },
  {
   "cell_type": "code",
   "execution_count": 63,
   "metadata": {},
   "outputs": [
    {
     "data": {
      "text/html": [
       "<div>\n",
       "<style scoped>\n",
       "    .dataframe tbody tr th:only-of-type {\n",
       "        vertical-align: middle;\n",
       "    }\n",
       "\n",
       "    .dataframe tbody tr th {\n",
       "        vertical-align: top;\n",
       "    }\n",
       "\n",
       "    .dataframe thead th {\n",
       "        text-align: right;\n",
       "    }\n",
       "</style>\n",
       "<table border=\"1\" class=\"dataframe\">\n",
       "  <thead>\n",
       "    <tr style=\"text-align: right;\">\n",
       "      <th></th>\n",
       "      <th>birth_state</th>\n",
       "      <th>%</th>\n",
       "    </tr>\n",
       "  </thead>\n",
       "  <tbody>\n",
       "    <tr>\n",
       "      <th>NC</th>\n",
       "      <td>3874</td>\n",
       "      <td>19.370</td>\n",
       "    </tr>\n",
       "    <tr>\n",
       "      <th>Missing</th>\n",
       "      <td>3009</td>\n",
       "      <td>15.045</td>\n",
       "    </tr>\n",
       "    <tr>\n",
       "      <th>NY</th>\n",
       "      <td>2127</td>\n",
       "      <td>10.635</td>\n",
       "    </tr>\n",
       "    <tr>\n",
       "      <th>OC</th>\n",
       "      <td>1238</td>\n",
       "      <td>6.190</td>\n",
       "    </tr>\n",
       "    <tr>\n",
       "      <th>TX</th>\n",
       "      <td>1176</td>\n",
       "      <td>5.880</td>\n",
       "    </tr>\n",
       "    <tr>\n",
       "      <th>FL</th>\n",
       "      <td>886</td>\n",
       "      <td>4.430</td>\n",
       "    </tr>\n",
       "    <tr>\n",
       "      <th>PA</th>\n",
       "      <td>515</td>\n",
       "      <td>2.575</td>\n",
       "    </tr>\n",
       "    <tr>\n",
       "      <th>IL</th>\n",
       "      <td>509</td>\n",
       "      <td>2.545</td>\n",
       "    </tr>\n",
       "    <tr>\n",
       "      <th>OH</th>\n",
       "      <td>482</td>\n",
       "      <td>2.410</td>\n",
       "    </tr>\n",
       "    <tr>\n",
       "      <th>GA</th>\n",
       "      <td>423</td>\n",
       "      <td>2.115</td>\n",
       "    </tr>\n",
       "    <tr>\n",
       "      <th>MI</th>\n",
       "      <td>388</td>\n",
       "      <td>1.940</td>\n",
       "    </tr>\n",
       "    <tr>\n",
       "      <th>VA</th>\n",
       "      <td>353</td>\n",
       "      <td>1.765</td>\n",
       "    </tr>\n",
       "    <tr>\n",
       "      <th>NJ</th>\n",
       "      <td>332</td>\n",
       "      <td>1.660</td>\n",
       "    </tr>\n",
       "    <tr>\n",
       "      <th>WA</th>\n",
       "      <td>316</td>\n",
       "      <td>1.580</td>\n",
       "    </tr>\n",
       "    <tr>\n",
       "      <th>AZ</th>\n",
       "      <td>290</td>\n",
       "      <td>1.450</td>\n",
       "    </tr>\n",
       "  </tbody>\n",
       "</table>\n",
       "</div>"
      ],
      "text/plain": [
       "         birth_state       %\n",
       "NC              3874  19.370\n",
       "Missing         3009  15.045\n",
       "NY              2127  10.635\n",
       "OC              1238   6.190\n",
       "TX              1176   5.880\n",
       "FL               886   4.430\n",
       "PA               515   2.575\n",
       "IL               509   2.545\n",
       "OH               482   2.410\n",
       "GA               423   2.115\n",
       "MI               388   1.940\n",
       "VA               353   1.765\n",
       "NJ               332   1.660\n",
       "WA               316   1.580\n",
       "AZ               290   1.450"
      ]
     },
     "execution_count": 63,
     "metadata": {},
     "output_type": "execute_result"
    }
   ],
   "source": [
    "show_column_dist(fake_df, 'birth_state', top_n=15)"
   ]
  },
  {
   "cell_type": "markdown",
   "metadata": {},
   "source": [
    "North Carolina `NC` is the most common state, which makes sense since this data is for voters in a specific county in `NC`. Then we see lots of missing values `Missing`. New Yorkers `NY` and people born outside the U.S. `OC` also make up a decent portion of the population. The remaining 53 categories are rare labels based on our definition and will introduce a lot of noise into our modeling efforts.\n",
    "\n",
    "Let’s group states by [U.S. Census region](https://www.census.gov/geographies/reference-maps/2010/geo/2010-census-regions-and-divisions-of-the-united-states.html) (<font color='brown'>Northeast, South, Midwest, West</font>). We’ll also group people born in U.S. territories or outside the country into an “`Other`” group, and leave “`Missing`” as its own category.\n",
    "\n",
    "We’ll do this by defining our own custom function to translate from state to region, then apply that function to our original variable to get our new feature. Here’s one way you could write a function to check each state and return the desired region/category:"
   ]
  },
  {
   "cell_type": "code",
   "execution_count": 64,
   "metadata": {},
   "outputs": [],
   "source": [
    "## Define function for grouping birth state/country into categories\n",
    "def get_birth_reg(state):\n",
    "    \n",
    "    # check if U.S. territory or out of country\n",
    "    if state in ['AS', 'GU', 'MP', 'PR', 'VI', 'OC']:\n",
    "        return 'Other'\n",
    "    \n",
    "    # the rest of the categories are based on U.S. Census Bureau regions\n",
    "    elif state in ['CT', 'ME', 'MA', 'NH', 'RI', 'VT',\n",
    "                     'NJ', 'NY', 'PA']:\n",
    "        return 'Northeast'\n",
    "    \n",
    "    elif state in ['DE', 'FL', 'GA', 'MD', 'NC', 'SC', 'VA', \n",
    "                     'DC', 'WV', 'AL', 'KY', 'MS', 'TN', 'AR',\n",
    "                     'LA', 'OK', 'TX']:\n",
    "        return 'South'\n",
    "    \n",
    "    elif state in ['IL', 'IN', 'MI', 'OH', 'WI',\n",
    "                     'IA', 'KS', 'MN', 'MO', 'NE', 'ND', 'SD']:\n",
    "        return 'Midwest'\n",
    "    \n",
    "    elif state in ['AZ', 'CO', 'ID', 'MT', 'NV', 'NM', 'UT',\n",
    "                     'WY', 'AK', 'CA', 'HI', 'OR', 'WA']:\n",
    "        return 'West'\n",
    "    \n",
    "    else:\n",
    "        return 'Missing'"
   ]
  },
  {
   "cell_type": "markdown",
   "metadata": {},
   "source": [
    "And now to use Pandas’ [apply()](https://pandas.pydata.org/docs/reference/api/pandas.DataFrame.apply.html) method to create our new feature:"
   ]
  },
  {
   "cell_type": "code",
   "execution_count": 65,
   "metadata": {},
   "outputs": [],
   "source": [
    "fake_df['birth_reg'] = fake_df['birth_state'].apply(get_birth_reg)"
   ]
  },
  {
   "cell_type": "code",
   "execution_count": 66,
   "metadata": {},
   "outputs": [
    {
     "data": {
      "text/html": [
       "<div>\n",
       "<style scoped>\n",
       "    .dataframe tbody tr th:only-of-type {\n",
       "        vertical-align: middle;\n",
       "    }\n",
       "\n",
       "    .dataframe tbody tr th {\n",
       "        vertical-align: top;\n",
       "    }\n",
       "\n",
       "    .dataframe thead th {\n",
       "        text-align: right;\n",
       "    }\n",
       "</style>\n",
       "<table border=\"1\" class=\"dataframe\">\n",
       "  <thead>\n",
       "    <tr style=\"text-align: right;\">\n",
       "      <th></th>\n",
       "      <th>birth_reg</th>\n",
       "      <th>%</th>\n",
       "    </tr>\n",
       "  </thead>\n",
       "  <tbody>\n",
       "    <tr>\n",
       "      <th>South</th>\n",
       "      <td>8116</td>\n",
       "      <td>40.580</td>\n",
       "    </tr>\n",
       "    <tr>\n",
       "      <th>Northeast</th>\n",
       "      <td>3485</td>\n",
       "      <td>17.425</td>\n",
       "    </tr>\n",
       "    <tr>\n",
       "      <th>Missing</th>\n",
       "      <td>3010</td>\n",
       "      <td>15.050</td>\n",
       "    </tr>\n",
       "    <tr>\n",
       "      <th>Midwest</th>\n",
       "      <td>2445</td>\n",
       "      <td>12.225</td>\n",
       "    </tr>\n",
       "    <tr>\n",
       "      <th>West</th>\n",
       "      <td>1575</td>\n",
       "      <td>7.875</td>\n",
       "    </tr>\n",
       "    <tr>\n",
       "      <th>Other</th>\n",
       "      <td>1369</td>\n",
       "      <td>6.845</td>\n",
       "    </tr>\n",
       "  </tbody>\n",
       "</table>\n",
       "</div>"
      ],
      "text/plain": [
       "           birth_reg       %\n",
       "South           8116  40.580\n",
       "Northeast       3485  17.425\n",
       "Missing         3010  15.050\n",
       "Midwest         2445  12.225\n",
       "West            1575   7.875\n",
       "Other           1369   6.845"
      ]
     },
     "execution_count": 66,
     "metadata": {},
     "output_type": "execute_result"
    }
   ],
   "source": [
    "show_column_dist(fake_df, 'birth_reg')"
   ]
  },
  {
   "cell_type": "markdown",
   "metadata": {},
   "source": [
    "Much better! We’ve gone from 57 total categories with 53 rare labels to only 6 categories."
   ]
  }
 ],
 "metadata": {
  "kernelspec": {
   "display_name": "Python 3",
   "language": "python",
   "name": "python3"
  },
  "language_info": {
   "codemirror_mode": {
    "name": "ipython",
    "version": 3
   },
   "file_extension": ".py",
   "mimetype": "text/x-python",
   "name": "python",
   "nbconvert_exporter": "python",
   "pygments_lexer": "ipython3",
   "version": "3.8.7"
  }
 },
 "nbformat": 4,
 "nbformat_minor": 4
}
