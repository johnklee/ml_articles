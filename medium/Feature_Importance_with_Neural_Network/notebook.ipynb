{
 "cells": [
  {
   "cell_type": "markdown",
   "metadata": {},
   "source": [
    "## <font color='darkblue'>Preface</font>\n",
    "([article source](https://towardsdatascience.com/feature-importance-with-neural-network-346eb6205743)) <font size='3ptx'>**Make Machine Learning easy interpretable providing variable relationships explanation**</font>\n",
    "\n",
    "**One of the best challenges in Machine Learning tends to let the model speak themself**. It not also is important to develop a strong solution with great predicting power, but also in a lot of business applications is interesting to know how the model provides these results: **which variables are engaged the most, the presence of correlations, the possible causation relationships and so on.**\n",
    "\n",
    "These needs made the Tree-based model a good weapon in this field. They are scalable and permits to compute variable explanation very easy. Every software provides this option and each of us has at least once tried to compute the variable importance report with Random Forest or similar. <font color='darkred'>**With Neural Net this kind of benefit is considered taboo. Neural Network is often seen as a black box, from which it is very difficult to extract useful information for another purpose like feature explanations.**</font>\n",
    "\n",
    "**In this post, I try to provide an elegant and clever solution, that with few lines of codes, permits you to squeeze your Machine Learning Model and extract as much information as possible**, in order to provide feature importance, individuate the significant correlations and try to explain causation."
   ]
  },
  {
   "cell_type": "markdown",
   "metadata": {},
   "source": [
    "## <font color='darkblue'>THE DATASET</font>\n",
    "Given a real dataset, we try to investigate which factors influence the final prediction performances. To achieve this aim we took data from [**UCI Machine Learning Repository**](https://archive.ics.uci.edu/ml/index.php). The [privileged dataset was the Combined Cycle Power Plant Dataset](https://archive.ics.uci.edu/ml/datasets/combined+cycle+power+plant), where were collected 6 years of data when the power plant was set to work with full load. Features consist of hourly average variables: `Ambient Temperature` (AT), `Ambient Pressure` (AP), `Relative Humidity` (RH) and `Exhaust Vacuum` (V) to predict the `net hourly electrical energy output` (PE) of the plant.\n",
    "\n",
    "The variables engaged are related by [Pearson correlation linkages](https://en.wikipedia.org/wiki/Pearson_correlation_coefficient) as shown in the matrix below."
   ]
  },
  {
   "cell_type": "code",
   "execution_count": 10,
   "metadata": {},
   "outputs": [
    {
     "data": {
      "text/html": [
       "<div>\n",
       "<style scoped>\n",
       "    .dataframe tbody tr th:only-of-type {\n",
       "        vertical-align: middle;\n",
       "    }\n",
       "\n",
       "    .dataframe tbody tr th {\n",
       "        vertical-align: top;\n",
       "    }\n",
       "\n",
       "    .dataframe thead th {\n",
       "        text-align: right;\n",
       "    }\n",
       "</style>\n",
       "<table border=\"1\" class=\"dataframe\">\n",
       "  <thead>\n",
       "    <tr style=\"text-align: right;\">\n",
       "      <th></th>\n",
       "      <th>AT</th>\n",
       "      <th>V</th>\n",
       "      <th>AP</th>\n",
       "      <th>RH</th>\n",
       "      <th>PE</th>\n",
       "    </tr>\n",
       "  </thead>\n",
       "  <tbody>\n",
       "    <tr>\n",
       "      <th>0</th>\n",
       "      <td>8.34</td>\n",
       "      <td>40.77</td>\n",
       "      <td>1010.84</td>\n",
       "      <td>90.01</td>\n",
       "      <td>480.48</td>\n",
       "    </tr>\n",
       "    <tr>\n",
       "      <th>1</th>\n",
       "      <td>23.64</td>\n",
       "      <td>58.49</td>\n",
       "      <td>1011.40</td>\n",
       "      <td>74.20</td>\n",
       "      <td>445.75</td>\n",
       "    </tr>\n",
       "    <tr>\n",
       "      <th>2</th>\n",
       "      <td>29.74</td>\n",
       "      <td>56.90</td>\n",
       "      <td>1007.15</td>\n",
       "      <td>41.91</td>\n",
       "      <td>438.76</td>\n",
       "    </tr>\n",
       "    <tr>\n",
       "      <th>3</th>\n",
       "      <td>19.07</td>\n",
       "      <td>49.69</td>\n",
       "      <td>1007.22</td>\n",
       "      <td>76.79</td>\n",
       "      <td>453.09</td>\n",
       "    </tr>\n",
       "    <tr>\n",
       "      <th>4</th>\n",
       "      <td>11.80</td>\n",
       "      <td>40.66</td>\n",
       "      <td>1017.13</td>\n",
       "      <td>97.20</td>\n",
       "      <td>464.43</td>\n",
       "    </tr>\n",
       "  </tbody>\n",
       "</table>\n",
       "</div>"
      ],
      "text/plain": [
       "      AT      V       AP     RH      PE\n",
       "0   8.34  40.77  1010.84  90.01  480.48\n",
       "1  23.64  58.49  1011.40  74.20  445.75\n",
       "2  29.74  56.90  1007.15  41.91  438.76\n",
       "3  19.07  49.69  1007.22  76.79  453.09\n",
       "4  11.80  40.66  1017.13  97.20  464.43"
      ]
     },
     "execution_count": 10,
     "metadata": {},
     "output_type": "execute_result"
    }
   ],
   "source": [
    "# Load dataset from CSV\n",
    "import pandas as pd\n",
    "\n",
    "DATA_PATH = \"../../datas/CCPP/Folds5x2_pp.csv\"\n",
    "\n",
    "df = pd.read_csv(DATA_PATH)\n",
    "df.head()"
   ]
  },
  {
   "cell_type": "code",
   "execution_count": 13,
   "metadata": {},
   "outputs": [
    {
     "data": {
      "image/png": "[encoded data removed]",
      "text/plain": [
       "<Figure size 648x432 with 2 Axes>"
      ]
     },
     "metadata": {
      "needs_background": "light"
     },
     "output_type": "display_data"
    }
   ],
   "source": [
    "import seaborn as sn\n",
    "import matplotlib.pyplot as plt\n",
    "\n",
    "plt.rcParams['figure.figsize'] = [9, 6]\n",
    "corrMatrix = df.corr()\n",
    "sn.heatmap(corrMatrix, annot=True)\n",
    "plt.show()"
   ]
  },
  {
   "cell_type": "markdown",
   "metadata": {},
   "source": [
    "## <font color='darkblue'>GRADIENT BOOSTING FEATURE IMPORTANCE</font>\n",
    "**We start building a simple Tree-based model in order to provide energy output** (PE) **predictions and compute the standard feature importance estimations**. This final step permits us to say more about the variable relationships than a standard correlation index. These numbers summarized the reduction in impurity index over all trees when a particular feature is pointed during internal space partition (<font color='brown'>in training phase</font>). Sklearn applies normalization in order to provide output summable to one. It is also a free result, obtainable indirectly after training."
   ]
  },
  {
   "cell_type": "code",
   "execution_count": 22,
   "metadata": {},
   "outputs": [
    {
     "data": {
      "text/plain": [
       "([<matplotlib.axis.XTick at 0x1e00ed0a240>,\n",
       "  <matplotlib.axis.XTick at 0x1e00ed0a518>,\n",
       "  <matplotlib.axis.XTick at 0x1e00ed0ab00>,\n",
       "  <matplotlib.axis.XTick at 0x1e00ed5c0f0>],\n",
       " [Text(0, 0, 'AT'), Text(0, 0, 'V'), Text(0, 0, 'AP'), Text(0, 0, 'RH')])"
      ]
     },
     "execution_count": 22,
     "metadata": {},
     "output_type": "execute_result"
    },
    {
     "data": {
      "image/png": "[encoded data removed]",
      "text/plain": [
       "<Figure size 648x432 with 1 Axes>"
      ]
     },
     "metadata": {
      "needs_background": "light"
     },
     "output_type": "display_data"
    }
   ],
   "source": [
    "from sklearn.model_selection import train_test_split\n",
    "from sklearn.ensemble import GradientBoostingRegressor\n",
    "\n",
    "X = df.loc[:, df.columns != 'PE']\n",
    "y = df['PE']\n",
    "X_train, X_test, y_train, y_test = train_test_split(X, y, test_size=0.2, random_state=42)\n",
    "\n",
    "gb = GradientBoostingRegressor(n_estimators=100)\n",
    "gb.fit(X_train, y_train.values.ravel())\n",
    "plt.bar(range(X_train.shape[1]), gb.feature_importances_)\n",
    "plt.xticks(range(X_train.shape[1]), X_train.columns) # ['AT','V','AP','RH']"
   ]
  },
  {
   "cell_type": "markdown",
   "metadata": {},
   "source": [
    "This result is easily interpretable and seems to replicate the initial assumption made computing correlations with our target variable (<font color='brown'>last row of correlation matrix</font>): **higher the value, higher is the impact of this particular feature predicting our target.**\n",
    "\n",
    "Despite the goods results we achieved with our [**Gradient Boosting**](https://scikit-learn.org/stable/modules/generated/sklearn.ensemble.GradientBoostingRegressor.html) we don’t want to completely depend by this kind of approach… **We want to generalize the process of computing feature importance, let us free to develop another kind of Machine Learning model with the same flexibility and explainability power; making also a step further: provide evidence of the presence of significant casualty relationship among variables**."
   ]
  },
  {
   "cell_type": "markdown",
   "metadata": {},
   "source": [
    "## <font color='darkblue'>PERMUTATION IMPORTANCE</font>\n",
    "The models identified for our experiment are doubtless Neural Networks for their reputation to be a black box algorithm. In order to demystify this stereotype, **we’ll focus on Permutation Importance. Its easy implementation, combined with its tangible understanding and adaptability, making it a consistent candidate to answer the question: What features have the biggest impact on predictions?**\n",
    "\n",
    "Permutation importance is calculated after a model has been fitted. So we have only to squeeze it and get what we want. **This method works on a simple principle: If I randomly shuffle a single feature in the data, leaving the target and all others in place, how would that affect the final prediction performances?**\n",
    "\n",
    "From this random reordering of variables I expect to obtain:\n",
    "* Less accurate predictions, since the resulting data no longer corresponds to anything observed in the real world;\n",
    "* Worst performances, from the shuffle of the most important variables. This is because we are corrupting the natural structure of data. If we, with our shuffle, break a strong relationship we’ll compromise what our model has learned during training, resulting in higher errors (<font color='brown'>high error = high importance</font>).\n",
    "\n",
    "![Image1](images/1.png)\n",
    "<br/>\n",
    "\n",
    "Practically speaking this is what’s happened in our real scenario…\n",
    "\n",
    "We chose an adequate Neural Net structure to model the hourly electrical energy output (EP). Remember to scale also the target variable in a lower range: I classically subtracted mean and divided for standard deviation, this helps the train."
   ]
  },
  {
   "cell_type": "code",
   "execution_count": 23,
   "metadata": {},
   "outputs": [],
   "source": [
    "from sklearn.preprocessing import StandardScaler\n",
    "\n",
    "scaler = StandardScaler()\n",
    "scaler.fit(X_train)\n",
    "X_train_scaled = scaler.transform(X_train)"
   ]
  },
  {
   "cell_type": "code",
   "execution_count": 24,
   "metadata": {},
   "outputs": [
    {
     "name": "stdout",
     "output_type": "stream",
     "text": [
      "Epoch 1/100\n",
      "60/60 - 0s - loss: 0.1940\n",
      "Epoch 2/100\n",
      "60/60 - 0s - loss: 0.0641\n",
      "Epoch 3/100\n",
      "60/60 - 0s - loss: 0.0616\n",
      "Epoch 4/100\n",
      "60/60 - 0s - loss: 0.0608\n",
      "Epoch 5/100\n",
      "60/60 - 0s - loss: 0.0604\n",
      "Epoch 6/100\n",
      "60/60 - 0s - loss: 0.0603\n",
      "Epoch 7/100\n",
      "60/60 - 0s - loss: 0.0593\n",
      "Epoch 8/100\n",
      "60/60 - 0s - loss: 0.0590\n",
      "Epoch 9/100\n",
      "60/60 - 0s - loss: 0.0591\n",
      "Epoch 10/100\n",
      "60/60 - 0s - loss: 0.0600\n",
      "Epoch 11/100\n",
      "60/60 - 0s - loss: 0.0583\n",
      "Epoch 12/100\n",
      "60/60 - 0s - loss: 0.0585\n",
      "Epoch 13/100\n",
      "60/60 - 0s - loss: 0.0584\n",
      "Epoch 14/100\n",
      "60/60 - 0s - loss: 0.0578\n",
      "Epoch 15/100\n",
      "60/60 - 0s - loss: 0.0581\n",
      "Epoch 16/100\n",
      "60/60 - 0s - loss: 0.0576\n",
      "Epoch 17/100\n",
      "60/60 - 0s - loss: 0.0574\n",
      "Epoch 18/100\n",
      "60/60 - 0s - loss: 0.0570\n",
      "Epoch 19/100\n",
      "60/60 - 0s - loss: 0.0569\n",
      "Epoch 20/100\n",
      "60/60 - 0s - loss: 0.0568\n",
      "Epoch 21/100\n",
      "60/60 - 0s - loss: 0.0571\n",
      "Epoch 22/100\n",
      "60/60 - 0s - loss: 0.0572\n",
      "Epoch 23/100\n",
      "60/60 - 0s - loss: 0.0565\n",
      "Epoch 24/100\n",
      "60/60 - 0s - loss: 0.0564\n",
      "Epoch 25/100\n",
      "60/60 - 0s - loss: 0.0558\n",
      "Epoch 26/100\n",
      "60/60 - 0s - loss: 0.0564\n",
      "Epoch 27/100\n",
      "60/60 - 0s - loss: 0.0556\n",
      "Epoch 28/100\n",
      "60/60 - 0s - loss: 0.0563\n",
      "Epoch 29/100\n",
      "60/60 - 0s - loss: 0.0558\n",
      "Epoch 30/100\n",
      "60/60 - 0s - loss: 0.0554\n",
      "Epoch 31/100\n",
      "60/60 - 0s - loss: 0.0552\n",
      "Epoch 32/100\n",
      "60/60 - 0s - loss: 0.0549\n",
      "Epoch 33/100\n",
      "60/60 - 0s - loss: 0.0546\n",
      "Epoch 34/100\n",
      "60/60 - 0s - loss: 0.0546\n",
      "Epoch 35/100\n",
      "60/60 - 0s - loss: 0.0546\n",
      "Epoch 36/100\n",
      "60/60 - 0s - loss: 0.0555\n",
      "Epoch 37/100\n",
      "60/60 - 0s - loss: 0.0548\n",
      "Epoch 38/100\n",
      "60/60 - 0s - loss: 0.0545\n",
      "Epoch 39/100\n",
      "60/60 - 0s - loss: 0.0539\n",
      "Epoch 40/100\n",
      "60/60 - 0s - loss: 0.0544\n",
      "Epoch 41/100\n",
      "60/60 - 0s - loss: 0.0549\n",
      "Epoch 42/100\n",
      "60/60 - 0s - loss: 0.0540\n",
      "Epoch 43/100\n",
      "60/60 - 0s - loss: 0.0539\n",
      "Epoch 44/100\n",
      "60/60 - 0s - loss: 0.0537\n",
      "Epoch 45/100\n",
      "60/60 - 0s - loss: 0.0533\n",
      "Epoch 46/100\n",
      "60/60 - 0s - loss: 0.0534\n",
      "Epoch 47/100\n",
      "60/60 - 0s - loss: 0.0538\n",
      "Epoch 48/100\n",
      "60/60 - 0s - loss: 0.0539\n",
      "Epoch 49/100\n",
      "60/60 - 0s - loss: 0.0529\n",
      "Epoch 50/100\n",
      "60/60 - 0s - loss: 0.0538\n",
      "Epoch 51/100\n",
      "60/60 - 0s - loss: 0.0531\n",
      "Epoch 52/100\n",
      "60/60 - 0s - loss: 0.0529\n",
      "Epoch 53/100\n",
      "60/60 - 0s - loss: 0.0529\n",
      "Epoch 54/100\n",
      "60/60 - 0s - loss: 0.0529\n",
      "Epoch 55/100\n",
      "60/60 - 0s - loss: 0.0532\n",
      "Epoch 56/100\n",
      "60/60 - 0s - loss: 0.0525\n",
      "Epoch 57/100\n",
      "60/60 - 0s - loss: 0.0529\n",
      "Epoch 58/100\n",
      "60/60 - 0s - loss: 0.0524\n",
      "Epoch 59/100\n",
      "60/60 - 0s - loss: 0.0525\n",
      "Epoch 60/100\n",
      "60/60 - 0s - loss: 0.0518\n",
      "Epoch 61/100\n",
      "60/60 - 0s - loss: 0.0521\n",
      "Epoch 62/100\n",
      "60/60 - 0s - loss: 0.0521\n",
      "Epoch 63/100\n",
      "60/60 - 0s - loss: 0.0518\n",
      "Epoch 64/100\n",
      "60/60 - 0s - loss: 0.0519\n",
      "Epoch 65/100\n",
      "60/60 - 0s - loss: 0.0516\n",
      "Epoch 66/100\n",
      "60/60 - 0s - loss: 0.0516\n",
      "Epoch 67/100\n",
      "60/60 - 0s - loss: 0.0521\n",
      "Epoch 68/100\n",
      "60/60 - 0s - loss: 0.0514\n",
      "Epoch 69/100\n",
      "60/60 - 0s - loss: 0.0520\n",
      "Epoch 70/100\n",
      "60/60 - 0s - loss: 0.0515\n",
      "Epoch 71/100\n",
      "60/60 - 0s - loss: 0.0519\n",
      "Epoch 72/100\n",
      "60/60 - 0s - loss: 0.0516\n",
      "Epoch 73/100\n",
      "60/60 - 0s - loss: 0.0510\n",
      "Epoch 74/100\n",
      "60/60 - 0s - loss: 0.0507\n",
      "Epoch 75/100\n",
      "60/60 - 0s - loss: 0.0508\n",
      "Epoch 76/100\n",
      "60/60 - 0s - loss: 0.0513\n",
      "Epoch 77/100\n",
      "60/60 - 0s - loss: 0.0505\n",
      "Epoch 78/100\n",
      "60/60 - 0s - loss: 0.0509\n",
      "Epoch 79/100\n",
      "60/60 - 0s - loss: 0.0511\n",
      "Epoch 80/100\n",
      "60/60 - 0s - loss: 0.0511\n",
      "Epoch 81/100\n",
      "60/60 - 0s - loss: 0.0506\n",
      "Epoch 82/100\n",
      "60/60 - 0s - loss: 0.0505\n",
      "Epoch 83/100\n",
      "60/60 - 0s - loss: 0.0505\n",
      "Epoch 84/100\n",
      "60/60 - 0s - loss: 0.0508\n",
      "Epoch 85/100\n",
      "60/60 - 0s - loss: 0.0502\n",
      "Epoch 86/100\n",
      "60/60 - 0s - loss: 0.0502\n",
      "Epoch 87/100\n",
      "60/60 - 0s - loss: 0.0509\n",
      "Epoch 88/100\n",
      "60/60 - 0s - loss: 0.0509\n",
      "Epoch 89/100\n",
      "60/60 - 0s - loss: 0.0501\n",
      "Epoch 90/100\n",
      "60/60 - 0s - loss: 0.0496\n",
      "Epoch 91/100\n",
      "60/60 - 0s - loss: 0.0496\n",
      "Epoch 92/100\n",
      "60/60 - 0s - loss: 0.0497\n",
      "Epoch 93/100\n",
      "60/60 - 0s - loss: 0.0503\n",
      "Epoch 94/100\n",
      "60/60 - 0s - loss: 0.0504\n",
      "Epoch 95/100\n",
      "60/60 - 0s - loss: 0.0498\n",
      "Epoch 96/100\n",
      "60/60 - 0s - loss: 0.0500\n",
      "Epoch 97/100\n",
      "60/60 - 0s - loss: 0.0495\n",
      "Epoch 98/100\n",
      "60/60 - 0s - loss: 0.0494\n",
      "Epoch 99/100\n",
      "60/60 - 0s - loss: 0.0493\n",
      "Epoch 100/100\n",
      "60/60 - 0s - loss: 0.0492\n"
     ]
    },
    {
     "data": {
      "text/plain": [
       "<tensorflow.python.keras.callbacks.History at 0x1e01c1a2c50>"
      ]
     },
     "execution_count": 24,
     "metadata": {},
     "output_type": "execute_result"
    }
   ],
   "source": [
    "from keras.models import Model\n",
    "from keras.layers import Dense, Input\n",
    "\n",
    "inp = Input(shape=(X_train_scaled.shape[1],))\n",
    "x = Dense(128, activation='relu')(inp)\n",
    "x = Dense(32, activation='relu')(x)\n",
    "out = Dense(1)(x)\n",
    "model = Model(inp, out)\n",
    "model.compile(optimizer='adam', loss='mse')\n",
    "model.fit(X_train_scaled, (y_train - y_train.mean())/y_train.std() , epochs=100, batch_size=128 ,verbose=2)"
   ]
  },
  {
   "cell_type": "markdown",
   "metadata": {},
   "source": [
    "At the prediction stage, the Gradient Boosting and the Neural Net achieve the same performance in terms of [**Mean Absolute Error**](https://scikit-learn.org/stable/modules/generated/sklearn.metrics.mean_absolute_error.html), respectively 2.92 and 0.17 (<font color='brown'>remember to reverse predictions</font>):"
   ]
  },
  {
   "cell_type": "code",
   "execution_count": 25,
   "metadata": {},
   "outputs": [],
   "source": [
    "from sklearn.metrics import mean_absolute_error\n",
    "\n",
    "gb_y_pred = gb.predict(X_test)\n",
    "\n",
    "X_test_scaled = scaler.transform(X_test)\n",
    "y_test_stdzed = (y_test - y_test.mean())/y_test.std()\n",
    "nn_y_pred = model.predict(X_test_scaled)"
   ]
  },
  {
   "cell_type": "code",
   "execution_count": 29,
   "metadata": {},
   "outputs": [
    {
     "name": "stdout",
     "output_type": "stream",
     "text": [
      "GB MAE=2.87\n",
      "NN MAE=0.17\n"
     ]
    }
   ],
   "source": [
    "print(f\"GB MAE={mean_absolute_error(y_test, gb_y_pred):.02f}\")\n",
    "\n",
    "NN_MAE = mean_absolute_error(y_test_stdzed, nn_y_pred)\n",
    "print(f\"NN MAE={NN_MAE:.02f}\")"
   ]
  },
  {
   "cell_type": "markdown",
   "metadata": {},
   "source": [
    "At this point, we ended with training and let’s start to randomly sample.\n",
    "\n",
    "We compute the shuffle of every feature on validation data (<font color='brown'>4 times in total = 4 explicative variables</font>) and provide error estimations at each step; remember to return the data to the original order at every step. Then I plot the MAE we achieved at every shuffle stage as percentage variation from the original MAE."
   ]
  },
  {
   "cell_type": "code",
   "execution_count": 42,
   "metadata": {},
   "outputs": [
    {
     "data": {
      "text/html": [
       "<div>\n",
       "<style scoped>\n",
       "    .dataframe tbody tr th:only-of-type {\n",
       "        vertical-align: middle;\n",
       "    }\n",
       "\n",
       "    .dataframe tbody tr th {\n",
       "        vertical-align: top;\n",
       "    }\n",
       "\n",
       "    .dataframe thead th {\n",
       "        text-align: right;\n",
       "    }\n",
       "</style>\n",
       "<table border=\"1\" class=\"dataframe\">\n",
       "  <thead>\n",
       "    <tr style=\"text-align: right;\">\n",
       "      <th></th>\n",
       "      <th>AT</th>\n",
       "      <th>V</th>\n",
       "      <th>AP</th>\n",
       "      <th>RH</th>\n",
       "    </tr>\n",
       "  </thead>\n",
       "  <tbody>\n",
       "    <tr>\n",
       "      <th>0</th>\n",
       "      <td>1.344993</td>\n",
       "      <td>0.238693</td>\n",
       "      <td>-1.286581</td>\n",
       "      <td>-1.105325</td>\n",
       "    </tr>\n",
       "    <tr>\n",
       "      <th>1</th>\n",
       "      <td>0.810959</td>\n",
       "      <td>1.362691</td>\n",
       "      <td>-0.741407</td>\n",
       "      <td>0.264859</td>\n",
       "    </tr>\n",
       "    <tr>\n",
       "      <th>2</th>\n",
       "      <td>-0.243724</td>\n",
       "      <td>-0.739004</td>\n",
       "      <td>1.999702</td>\n",
       "      <td>-0.197132</td>\n",
       "    </tr>\n",
       "    <tr>\n",
       "      <th>3</th>\n",
       "      <td>-1.363990</td>\n",
       "      <td>-1.015874</td>\n",
       "      <td>2.294299</td>\n",
       "      <td>0.969859</td>\n",
       "    </tr>\n",
       "    <tr>\n",
       "      <th>4</th>\n",
       "      <td>1.371761</td>\n",
       "      <td>0.823896</td>\n",
       "      <td>0.621529</td>\n",
       "      <td>-1.730695</td>\n",
       "    </tr>\n",
       "  </tbody>\n",
       "</table>\n",
       "</div>"
      ],
      "text/plain": [
       "         AT         V        AP        RH\n",
       "0  1.344993  0.238693 -1.286581 -1.105325\n",
       "1  0.810959  1.362691 -0.741407  0.264859\n",
       "2 -0.243724 -0.739004  1.999702 -0.197132\n",
       "3 -1.363990 -1.015874  2.294299  0.969859\n",
       "4  1.371761  0.823896  0.621529 -1.730695"
      ]
     },
     "execution_count": 42,
     "metadata": {},
     "output_type": "execute_result"
    }
   ],
   "source": [
    "X_test_scaled_df = pd.DataFrame(X_test_scaled, columns = X_test.columns)\n",
    "X_test_scaled_df.head()"
   ]
  },
  {
   "cell_type": "code",
   "execution_count": 49,
   "metadata": {},
   "outputs": [],
   "source": [
    "X_test_scaled_df['AT'] = X_test_scaled_df['AT'] * 4"
   ]
  },
  {
   "cell_type": "code",
   "execution_count": 50,
   "metadata": {},
   "outputs": [
    {
     "data": {
      "text/html": [
       "<div>\n",
       "<style scoped>\n",
       "    .dataframe tbody tr th:only-of-type {\n",
       "        vertical-align: middle;\n",
       "    }\n",
       "\n",
       "    .dataframe tbody tr th {\n",
       "        vertical-align: top;\n",
       "    }\n",
       "\n",
       "    .dataframe thead th {\n",
       "        text-align: right;\n",
       "    }\n",
       "</style>\n",
       "<table border=\"1\" class=\"dataframe\">\n",
       "  <thead>\n",
       "    <tr style=\"text-align: right;\">\n",
       "      <th></th>\n",
       "      <th>AT</th>\n",
       "      <th>V</th>\n",
       "      <th>AP</th>\n",
       "      <th>RH</th>\n",
       "    </tr>\n",
       "  </thead>\n",
       "  <tbody>\n",
       "    <tr>\n",
       "      <th>0</th>\n",
       "      <td>5.379972</td>\n",
       "      <td>0.238693</td>\n",
       "      <td>-1.286581</td>\n",
       "      <td>-1.105325</td>\n",
       "    </tr>\n",
       "    <tr>\n",
       "      <th>1</th>\n",
       "      <td>3.243836</td>\n",
       "      <td>1.362691</td>\n",
       "      <td>-0.741407</td>\n",
       "      <td>0.264859</td>\n",
       "    </tr>\n",
       "    <tr>\n",
       "      <th>2</th>\n",
       "      <td>-0.974896</td>\n",
       "      <td>-0.739004</td>\n",
       "      <td>1.999702</td>\n",
       "      <td>-0.197132</td>\n",
       "    </tr>\n",
       "    <tr>\n",
       "      <th>3</th>\n",
       "      <td>-5.455962</td>\n",
       "      <td>-1.015874</td>\n",
       "      <td>2.294299</td>\n",
       "      <td>0.969859</td>\n",
       "    </tr>\n",
       "    <tr>\n",
       "      <th>4</th>\n",
       "      <td>5.487046</td>\n",
       "      <td>0.823896</td>\n",
       "      <td>0.621529</td>\n",
       "      <td>-1.730695</td>\n",
       "    </tr>\n",
       "  </tbody>\n",
       "</table>\n",
       "</div>"
      ],
      "text/plain": [
       "         AT         V        AP        RH\n",
       "0  5.379972  0.238693 -1.286581 -1.105325\n",
       "1  3.243836  1.362691 -0.741407  0.264859\n",
       "2 -0.974896 -0.739004  1.999702 -0.197132\n",
       "3 -5.455962 -1.015874  2.294299  0.969859\n",
       "4  5.487046  0.823896  0.621529 -1.730695"
      ]
     },
     "execution_count": 50,
     "metadata": {},
     "output_type": "execute_result"
    }
   ],
   "source": [
    "X_test_scaled_df.head()"
   ]
  },
  {
   "cell_type": "code",
   "execution_count": 59,
   "metadata": {},
   "outputs": [
    {
     "name": "stdout",
     "output_type": "stream",
     "text": [
      "Working on feature=AT (0)\n",
      "          AT         V        AP        RH\n",
      "0  21.519886  0.238693 -1.286581 -1.105325\n",
      "Working on feature=V (1)\n",
      "         AT         V        AP        RH\n",
      "0  5.379972  0.954772 -1.286581 -1.105325\n",
      "Working on feature=AP (2)\n",
      "         AT         V        AP        RH\n",
      "0  5.379972  0.238693 -5.146323 -1.105325\n",
      "Working on feature=RH (3)\n",
      "         AT         V        AP        RH\n",
      "0  5.379972  0.238693 -1.286581 -4.421302\n"
     ]
    }
   ],
   "source": [
    "mae_diff_dict = {} # key as feature, value as tuple(new_mse, shuffled_pred)\n",
    "for i, f in enumerate(X_test.columns):\n",
    "    print(f\"Working on feature={f} ({i})\")\n",
    "    X_test_scaled_df[f] = X_test_scaled_df[f] * 4    \n",
    "    print(X_test_scaled_df.head(1))\n",
    "    nn_y_pred_shuffled = model.predict(X_test_scaled_df)\n",
    "    new_mae = mean_absolute_error(nn_y_pred_shuffled, nn_y_pred)\n",
    "    mae_diff_dict[f] = (abs(new_mae - NN_MAE) * 100 / NN_MAE, nn_y_pred_shuffled)\n",
    "    X_test_scaled_df[f] = X_test_scaled_df[f] / 4"
   ]
  },
  {
   "cell_type": "code",
   "execution_count": 61,
   "metadata": {},
   "outputs": [
    {
     "data": {
      "text/plain": [
       "[('AT', 5938.62453985666),\n",
       " ('V', 818.1821894805488),\n",
       " ('AP', 1005.2811980847956),\n",
       " ('RH', 913.602108377995)]"
      ]
     },
     "execution_count": 61,
     "metadata": {},
     "output_type": "execute_result"
    }
   ],
   "source": [
    "list(map(lambda t: (t[0], t[1][0]), mae_diff_dict.items()))"
   ]
  },
  {
   "cell_type": "code",
   "execution_count": 62,
   "metadata": {},
   "outputs": [
    {
     "data": {
      "text/plain": [
       "([<matplotlib.axis.XTick at 0x1e02d433470>,\n",
       "  <matplotlib.axis.XTick at 0x1e02d433438>,\n",
       "  <matplotlib.axis.XTick at 0x1e02d433240>,\n",
       "  <matplotlib.axis.XTick at 0x1e0349635c0>],\n",
       " [Text(0, 0, 'AT'), Text(0, 0, 'V'), Text(0, 0, 'AP'), Text(0, 0, 'RH')])"
      ]
     },
     "execution_count": 62,
     "metadata": {},
     "output_type": "execute_result"
    },
    {
     "data": {
      "image/png": "[encoded data removed]",
      "text/plain": [
       "<Figure size 648x432 with 1 Axes>"
      ]
     },
     "metadata": {
      "needs_background": "light"
     },
     "output_type": "display_data"
    }
   ],
   "source": [
    "plt.bar(range(X_train.shape[1]), list(map(lambda t:t[0], mae_diff_dict.values())))\n",
    "plt.xticks(range(X_train.shape[1]), mae_diff_dict.keys())"
   ]
  },
  {
   "cell_type": "markdown",
   "metadata": {},
   "source": [
    "The graph above replicates the RF feature importance report and confirms our initial assumption: **the `Ambient Temperature` (AT) is the most important and correlated feature to predict electrical energy output** (PE). Despite `Exhaust Vacuum` (V) and AT showed a similar and high correlation relationship with PE (<font color='brown'>respectively 0.87 and 0.95</font>), they have a different impact at the prediction stage. **This phenomenon is a soft example of how not always a high correlation** (<font color='brown'>in Pearson term</font>) **is synonymous of high explainability power**."
   ]
  },
  {
   "cell_type": "markdown",
   "metadata": {},
   "source": [
    "## <font color='darkblue'>CAUSATION RELATIONSHIPS</font>\n",
    "Prove correlation, in order to avoid [spurious relationships](https://www.tylervigen.com/spurious-correlations), is always an insidious operation. At the same time, it is difficult to show evidence of casualty behaviors. In literature, there are a lot of methods to prove causality. One of the most important is the [**Granger Causality Test**](https://en.wikipedia.org/wiki/Granger_causality). This technique is widely applied in time series domain for determining whether one-time series is useful in forecasting another: i.e. demonstrate (<font color='brown'>according to an F-test on lagged values</font>) that it adds explanatory power to the regression.\n",
    "\n",
    "Indirectly this is what we have already done computing Permutation Importance. Shuffling every variable and looking for performance variations, we are proving how much explicative power has this feature to predict the desired target.\n",
    "\n",
    "**In order to prove causation, what we have to do now is to demonstrate that the data shuffle provides significative evidence in performance variation.** We operate on the final predictions, achieved without and with shuffle, and verify if there is a difference in mean among the two prediction population. It means that the mean predictions with shuffle might as well be observed by any random subgroup of predictions. **So that’s exactly what we’ll do for every feature: we’ll merge prediction with and without permutation, we’ll randomly sample a group of predictions and calculate the difference between their mean value and the mean values of the prediction without shuffle.**\n",
    "```python\n",
    "np.random.seed(33)\n",
    "id_ = 0 #feature index\n",
    "merge_pred = np.hstack([shuff_pred[id_], real_pred])\n",
    "observed_diff = abs(shuff_pred[id_].mean() - merge_pred.mean())\n",
    "extreme_values = []\n",
    "sample_d = []\n",
    "for _ in range(10000):\n",
    "    sample_mean = np.random.choice(merge_pred,\n",
    "                  size=shuff_pred[id_].shape[0]).mean()\n",
    "    sample_diff = abs(sample_mean - merge_pred.mean())\n",
    "    sample_d.append(sample_diff)\n",
    "    extreme_values.append(sample_diff >= observed_diff)\n",
    "    \n",
    "np.sum(extreme_values)/10000 #p-value\n",
    "```\n",
    "\n",
    "In order to have all under control, it’s a good choice to visualize the results of our simulations. We plot the distribution of the simulated mean differences (blue bar) and mark the real observed difference (red line). We can see that for `AT` there is evidence for a difference in mean with the prediction made without shuffle (<font color='brown'>low [**p-value**](https://en.wikipedia.org/wiki/P-value): below 0.1</font>). The other variables don’t bring a significant improvement in the mean.\n",
    "![a](https://miro.medium.com/max/700/1*mHrDvp8RK7o_HF-SeO9R2w.png)\n",
    "\n",
    "**Correlation doesn’t always imply causation! With this in mind, we proved causation in terms of the ability of a selected feature to add explicative power.** We’ve recreated, with our knowledge of statistician and programmer, a way to prove this concept making use of our previous findings made with permutation importance, adding information about the relationships of our variables."
   ]
  },
  {
   "cell_type": "markdown",
   "metadata": {},
   "source": [
    "## <font color='darkblue'>Scikit-learn Permutation Importance</font>\n",
    "You can also leverage [**scikit-learn API**](https://scikit-learn.org/stable/modules/generated/sklearn.inspection.permutation_importance.html) to calculate feature importance:"
   ]
  },
  {
   "cell_type": "code",
   "execution_count": 63,
   "metadata": {},
   "outputs": [
    {
     "name": "stdout",
     "output_type": "stream",
     "text": [
      "Feature: 0, Score: 7.85754\n",
      "Feature: 1, Score: -0.24419\n",
      "Feature: 2, Score: 0.68341\n",
      "Feature: 3, Score: 0.88903\n"
     ]
    }
   ],
   "source": [
    "from sklearn.datasets import make_regression\n",
    "from sklearn.neighbors import KNeighborsRegressor\n",
    "from sklearn.inspection import permutation_importance\n",
    "from matplotlib import plt\n",
    "\n",
    "# perform permutation importance\n",
    "results = permutation_importance(model, X_test_scaled, y_test_stdzed, scoring='neg_mean_squared_error')\n",
    "\n",
    "# get importance\n",
    "importance = results.importances_mean\n",
    "\n",
    "# summarize feature importance\n",
    "for i, v in enumerate(importance):\n",
    "    print('Feature: %0d, Score: %.5f' % (i,v))"
   ]
  },
  {
   "cell_type": "code",
   "execution_count": 65,
   "metadata": {},
   "outputs": [
    {
     "data": {
      "text/plain": [
       "([<matplotlib.axis.XTick at 0x1e0390ca898>,\n",
       "  <matplotlib.axis.XTick at 0x1e0390cab38>,\n",
       "  <matplotlib.axis.XTick at 0x1e0390ca7f0>,\n",
       "  <matplotlib.axis.XTick at 0x1e0390af5f8>],\n",
       " [Text(0, 0, 'AT'), Text(0, 0, 'V'), Text(0, 0, 'AP'), Text(0, 0, 'RH')])"
      ]
     },
     "execution_count": 65,
     "metadata": {},
     "output_type": "execute_result"
    },
    {
     "data": {
      "image/png": "[encoded data removed]",
      "text/plain": [
       "<Figure size 648x432 with 1 Axes>"
      ]
     },
     "metadata": {
      "needs_background": "light"
     },
     "output_type": "display_data"
    }
   ],
   "source": [
    "# plot feature importance\n",
    "plt.bar(range(X_train.shape[1]), importance)\n",
    "plt.xticks(range(X_train.shape[1]), mae_diff_dict.keys())"
   ]
  },
  {
   "cell_type": "markdown",
   "metadata": {},
   "source": [
    "## <font color='darkblue'>SUMMARY</font>\n",
    "In this post, I’ve introduced Permutation Importance, an easy and clever technique to compute feature importance. It’s useful with every kind of model (<font color='brown'>I use Neural Net only as a personal choice</font>) and in every problem (<font color='brown'>an analog procedure is applicable in a classification task: remember to choose an adequate loss measure when computing permutation importance, like cross-entropy, avoiding the ambiguous accuracy</font>). We’ve also used the permutations to present a method that proves casualty among variables hacking the p-value!"
   ]
  },
  {
   "cell_type": "markdown",
   "metadata": {},
   "source": [
    "## <font color='darkblue'>Supplement</font>\n",
    "* [Using neural network to calculate feature importance](https://www.kaggle.com/anycode/feature-importance-using-nn)\n",
    "* [How to Calculate Feature Importance With Python](https://machinelearningmastery.com/calculate-feature-importance-with-python/)"
   ]
  }
 ],
 "metadata": {
  "kernelspec": {
   "display_name": "Python 3",
   "language": "python",
   "name": "python3"
  },
  "language_info": {
   "codemirror_mode": {
    "name": "ipython",
    "version": 3
   },
   "file_extension": ".py",
   "mimetype": "text/x-python",
   "name": "python",
   "nbconvert_exporter": "python",
   "pygments_lexer": "ipython3",
   "version": "3.6.7"
  }
 },
 "nbformat": 4,
 "nbformat_minor": 2
}
