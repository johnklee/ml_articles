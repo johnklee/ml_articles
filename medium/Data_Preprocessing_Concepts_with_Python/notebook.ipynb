{
 "cells": [
  {
   "cell_type": "markdown",
   "metadata": {},
   "source": [
    "## <font color='darkblue'>Preface</font>\n",
    "([article source](https://pub.towardsai.net/data-preprocessing-concepts-with-python-b93c63f14bb6)) <font size='3ptx'>**A robust method to make data ready for machine learning estimators**</font>\n",
    "![1.png](images/1.png)\n",
    "<br/>\n",
    "\n",
    "**In this article, we will study some important data preprocessing methods**. It is a very important step to visualize the data and make it in a suitable form so that the estimators (<font color='brown'>algorithm</font>) fit well with good accuracy.\n",
    "\n",
    "Topics to be covered:\n",
    "1. <font size='3ptx'>[**Standardization**](#sect1)</font>\n",
    "2. <font size='3ptx'>[**Scaling with sparse data and outliers**](#sect2)</font>\n",
    "3. <font size='3ptx'>[**Normalization**](#sect3)</font>\n",
    "4. <font size='3ptx'>[**Categorical Encoding**](#sect4)</font>\n",
    "5. <font size='3ptx'>[**Imputation**](#sect5)</font>"
   ]
  },
  {
   "cell_type": "markdown",
   "metadata": {},
   "source": [
    "<a id='sect1'></a>\n",
    "## <font color='darkblue'>Standardization</font>\n",
    "**Standardization is a process that deals with the mean and standard deviation of the data points**. As raw data, the values are varying from very low to very high. So, to avoid the low performance in the model we use standardization. It says, the mean becomes zero and the standard deviation becomes a unit.\n",
    "\n",
    "The formula to standardization shown below:\n",
    "![2.png](images/2.png)\n",
    "<br/>\n",
    "\n",
    "When we use an algorithm to fit our data it assumes that the data is centered and the order of variance of all features are the same otherwise the estimators will not predict correctly. The sklearn library has a method to standardize the data set with [**StandardScaler**](https://scikit-learn.org/stable/modules/generated/sklearn.preprocessing.StandardScaler.html) in preprocessing class.\n",
    "\n",
    "We use the import command to use this feature in python:\n",
    "```python\n",
    "#Before modeling our estimator we should always some preprocessing scaling.\n",
    "# Feature Scaling\n",
    "from sklearn.preprocessing import StandardScaler\n",
    "sc = StandardScaler()\n",
    "X_train = sc.fit_transform(X_train)\n",
    "X_test = sc.transform(X_test)\n",
    "```"
   ]
  },
  {
   "cell_type": "markdown",
   "metadata": {},
   "source": [
    "<a id='sect2'></a>\n",
    "## <font color='darkblue'>Scaling with sparse data and outliers</font>\n",
    "\n",
    "### <font color='darkgreen'>Scaling with Sparse data</font>\n",
    "Scaling of data is another way of making feature values be in some range of “0” and “1”. There are two methods of doing these i.e. [**MinMaxScaler**](https://scikit-learn.org/stable/modules/generated/sklearn.preprocessing.MinMaxScaler.html) and [**MaxAbsScaler**](https://scikit-learn.org/stable/modules/generated/sklearn.preprocessing.MaxAbsScaler.html#sklearn.preprocessing.MaxAbsScaler). Below is an Example with python:"
   ]
  },
  {
   "cell_type": "code",
   "execution_count": 2,
   "metadata": {},
   "outputs": [
    {
     "name": "stdout",
     "output_type": "stream",
     "text": [
      "[[0.5 0.  1. ]\n",
      " [1.  0.  0. ]\n",
      " [0.  1.  0. ]]\n"
     ]
    }
   ],
   "source": [
    "import numpy as np\n",
    "from sklearn.preprocessing import MinMaxScaler\n",
    "\n",
    "X_train = np.array([[ 1., 0.,  2.], [ 2.,  0.,  -1.], [ 0.,  2., -1.]])\n",
    "min_max_scaler = MinMaxScaler()\n",
    "X_train_minmax = min_max_scaler.fit_transform(X_train)\n",
    "print(X_train_minmax)"
   ]
  },
  {
   "cell_type": "markdown",
   "metadata": {},
   "source": [
    "As we see the input value comes in a range of “0” and “1”.\n",
    "\n",
    "**Creating scaling of the sparse data centering is not a good idea because it may change its structure. So, it is good to scale the input raw data that has values on different scales.**"
   ]
  },
  {
   "cell_type": "markdown",
   "metadata": {},
   "source": [
    "### <font color='darkgreen'>Scaling with Outliers:</font>\n",
    "**When raw data have many outliers then the scaling with mean and variance doesn’t do well with the data**. So, we have to use a more robust method like the interquartile method (<font color='brown'>IQR</font>) because the outliers are influenced by mean and variance. The range of the IQR is between 25% and 75% in which the median is removed and scaling the quantile range.\n",
    "\n",
    "The [**RobustScaler**](https://scikit-learn.org/stable/modules/generated/sklearn.preprocessing.RobustScaler.html#sklearn.preprocessing.RobustScaler) takes some parameters to perform scaling:\n",
    "* The first parameter is <font color='violet'>with_centering</font> that centers the data before scaling if it is true.\n",
    "* The second parameter is <font color='violet'>with_scaling</font> if it is true then it scale the data in the quantile range.\n",
    "\n",
    "Example with python"
   ]
  },
  {
   "cell_type": "code",
   "execution_count": 10,
   "metadata": {},
   "outputs": [
    {
     "data": {
      "text/plain": [
       "array([[ -0.5,  -0.5,   1.5],\n",
       "       [  0. ,  -0.5,   0. ],\n",
       "       [ -1. ,   0.5,   0. ],\n",
       "       [  0.5,   0. ,   1. ],\n",
       "       [ 49. ,  49.5, -49.5]])"
      ]
     },
     "execution_count": 10,
     "metadata": {},
     "output_type": "execute_result"
    }
   ],
   "source": [
    "from sklearn.preprocessing import RobustScaler\n",
    "\n",
    "X = [\n",
    "    [ 1., 0.,  2.],\n",
    "    [ 2.,  0.,  -1.],\n",
    "    [ 0.,  2., -1.],\n",
    "    [ 3.,  1., 1.],\n",
    "    [100, 100, -100]\n",
    "]\n",
    "\n",
    "transformer = RobustScaler(with_scaling=True).fit(X)\n",
    "transformer.transform(X)"
   ]
  },
  {
   "cell_type": "markdown",
   "metadata": {},
   "source": [
    "<a id='sect3'></a>\n",
    "## <font color='darkblue'>Normalization</font>\n",
    "**The scaling process in this is to normalize the values to their unit norm.** An example of this normalization is [**MinMaxScaler**](https://scikit-learn.org/stable/modules/generated/sklearn.preprocessing.MinMaxScaler.html#sklearn.preprocessing.MinMaxScaler). The process is useful when we are dealing with quadratic form in pair forms it can be kernel-based or dot product-based.\n",
    "\n",
    "It is also useful based on of vector space model i.e the vectors related with text data samples to ease in data filtration.\n",
    "\n",
    "Two types of Normalization happen as shown below:\n",
    "* [**Normalize**](https://scikit-learn.org/stable/modules/generated/sklearn.preprocessing.normalize.html#sklearn.preprocessing.normalize): It deals to scale the input vectors to unit norm. The norm parameter is used to normalize all the non-zero values. It takes three arguments L1, L2, and max where the L2 is the default norm.\n",
    "* [**Normalizer**](https://scikit-learn.org/stable/modules/generated/sklearn.preprocessing.Normalizer.html#sklearn.preprocessing.Normalizer): It also does the same operation but in this process the fit method is optional.\n",
    "\n",
    "Example with Python:"
   ]
  },
  {
   "cell_type": "code",
   "execution_count": 14,
   "metadata": {},
   "outputs": [
    {
     "name": "stdout",
     "output_type": "stream",
     "text": [
      "[[ 0.4472136   0.          0.89442719]\n",
      " [ 0.89442719  0.         -0.4472136 ]\n",
      " [ 0.          0.89442719 -0.4472136 ]\n",
      " [-0.40824829  0.40824829 -0.81649658]]\n"
     ]
    }
   ],
   "source": [
    "from sklearn.preprocessing import normalize\n",
    "\n",
    "X = [\n",
    "    [ 1., 0., 2.], \n",
    "    [ 2., 0., -1.], \n",
    "    [ 0., 2., -1.],\n",
    "    [ -1., 1., -2.]\n",
    "]\n",
    "X_normalized = normalize(X, norm='l2')\n",
    "print(X_normalized)"
   ]
  },
  {
   "cell_type": "markdown",
   "metadata": {},
   "source": [
    "Example with Normalizer:"
   ]
  },
  {
   "cell_type": "code",
   "execution_count": 16,
   "metadata": {},
   "outputs": [
    {
     "data": {
      "text/plain": [
       "array([[ 0.4472136 ,  0.        ,  0.89442719],\n",
       "       [ 0.89442719,  0.        , -0.4472136 ],\n",
       "       [ 0.        ,  0.89442719, -0.4472136 ],\n",
       "       [-0.40824829,  0.40824829, -0.81649658]])"
      ]
     },
     "execution_count": 16,
     "metadata": {},
     "output_type": "execute_result"
    }
   ],
   "source": [
    "from sklearn.preprocessing import Normalizer\n",
    "\n",
    "X = [\n",
    "    [ 1., 0., 2.], \n",
    "    [ 2., 0., -1.], \n",
    "    [ 0., 2., -1.],\n",
    "    [ -1., 1., -2.]\n",
    "]\n",
    "\n",
    "normalizer = Normalizer().fit(X)\n",
    "normalizer.transform(X)"
   ]
  },
  {
   "cell_type": "markdown",
   "metadata": {},
   "source": [
    "The normalizer is useful in the pipeline of data processing in the beginning.\n",
    "\n",
    "When we use sparse input, it is important to convert it to be CSR format to avoid multiple memory copies. The CSR is compressed Sparse Rows comes in [**scipy.sparse.csr_matrix**](https://docs.scipy.org/doc/scipy/reference/generated/scipy.sparse.csr_matrix.html)."
   ]
  },
  {
   "cell_type": "markdown",
   "metadata": {},
   "source": [
    "<a id='sect4'></a>\n",
    "## <font color='darkblue'>Categorical Encoding</font>\n",
    "**When we get some raw data set then some columns are that are not in continuous values rather in some categories of binary and multiple categories**. So, to make them in integer value we use encoding methods. There are some encoding methods given below:\n",
    "* [**Get Dummies**](https://pandas.pydata.org/pandas-docs/stable/reference/api/pandas.get_dummies.html): It is used to get a new feature column with 0 and 1 encoding the categories with the help of the pandas’ library.\n",
    "* [**Label Encoder**](https://scikit-learn.org/stable/modules/generated/sklearn.preprocessing.LabelEncoder.html#sklearn.preprocessing.LabelEncoder): It is used to encode binary categories to numeric values in the sklearn library.\n",
    "* [**One Hot Encoder**](https://scikit-learn.org/stable/modules/generated/sklearn.preprocessing.OneHotEncoder.html#sklearn.preprocessing.OneHotEncoder): The sklearn library provides another feature to convert categories class to new numeric values of 0 and 1 with new feature columns.\n",
    "* [**Hashing**](https://contrib.scikit-learn.org/category_encoders/hashing.html): It is more useful than one-hot encoding in the case of high dimensions. It is used when there is high cardinality in the feature.\n",
    "\n",
    "There are many other encoding methods like mean encoding, Helmert encoding, ordinal encoding, probability ratio encoding and, etc. \n",
    "\n",
    "Example with Python:\n",
    "```python\n",
    "df1=pd.get_dummies(df['State'],drop_first=True)\n",
    "```\n",
    "![3.png](images/3.png)\n",
    "<br/>"
   ]
  },
  {
   "cell_type": "markdown",
   "metadata": {},
   "source": [
    "<a id='sect5'></a>\n",
    "## <font color='darkblue'>Imputation</font>\n",
    "when raw data have some missing values so to **make the missing record to a numeric value is know as imputing**.\n",
    "\n",
    "For demonstration, let's create the random data frame:"
   ]
  },
  {
   "cell_type": "code",
   "execution_count": 18,
   "metadata": {},
   "outputs": [
    {
     "data": {
      "text/html": [
       "<div>\n",
       "<style scoped>\n",
       "    .dataframe tbody tr th:only-of-type {\n",
       "        vertical-align: middle;\n",
       "    }\n",
       "\n",
       "    .dataframe tbody tr th {\n",
       "        vertical-align: top;\n",
       "    }\n",
       "\n",
       "    .dataframe thead th {\n",
       "        text-align: right;\n",
       "    }\n",
       "</style>\n",
       "<table border=\"1\" class=\"dataframe\">\n",
       "  <thead>\n",
       "    <tr style=\"text-align: right;\">\n",
       "      <th></th>\n",
       "      <th>First</th>\n",
       "      <th>Second</th>\n",
       "      <th>Three</th>\n",
       "    </tr>\n",
       "  </thead>\n",
       "  <tbody>\n",
       "    <tr>\n",
       "      <th>a</th>\n",
       "      <td>-0.357230</td>\n",
       "      <td>-1.119431</td>\n",
       "      <td>-0.004218</td>\n",
       "    </tr>\n",
       "    <tr>\n",
       "      <th>b</th>\n",
       "      <td>NaN</td>\n",
       "      <td>NaN</td>\n",
       "      <td>NaN</td>\n",
       "    </tr>\n",
       "    <tr>\n",
       "      <th>c</th>\n",
       "      <td>0.543968</td>\n",
       "      <td>-0.053535</td>\n",
       "      <td>0.447563</td>\n",
       "    </tr>\n",
       "    <tr>\n",
       "      <th>d</th>\n",
       "      <td>NaN</td>\n",
       "      <td>NaN</td>\n",
       "      <td>NaN</td>\n",
       "    </tr>\n",
       "    <tr>\n",
       "      <th>e</th>\n",
       "      <td>0.165891</td>\n",
       "      <td>1.365003</td>\n",
       "      <td>-1.010284</td>\n",
       "    </tr>\n",
       "    <tr>\n",
       "      <th>f</th>\n",
       "      <td>NaN</td>\n",
       "      <td>NaN</td>\n",
       "      <td>NaN</td>\n",
       "    </tr>\n",
       "    <tr>\n",
       "      <th>g</th>\n",
       "      <td>NaN</td>\n",
       "      <td>NaN</td>\n",
       "      <td>NaN</td>\n",
       "    </tr>\n",
       "    <tr>\n",
       "      <th>h</th>\n",
       "      <td>1.011389</td>\n",
       "      <td>-1.192242</td>\n",
       "      <td>-1.463785</td>\n",
       "    </tr>\n",
       "  </tbody>\n",
       "</table>\n",
       "</div>"
      ],
      "text/plain": [
       "      First    Second     Three\n",
       "a -0.357230 -1.119431 -0.004218\n",
       "b       NaN       NaN       NaN\n",
       "c  0.543968 -0.053535  0.447563\n",
       "d       NaN       NaN       NaN\n",
       "e  0.165891  1.365003 -1.010284\n",
       "f       NaN       NaN       NaN\n",
       "g       NaN       NaN       NaN\n",
       "h  1.011389 -1.192242 -1.463785"
      ]
     },
     "execution_count": 18,
     "metadata": {},
     "output_type": "execute_result"
    }
   ],
   "source": [
    "# import the pandas library\n",
    "import pandas as pd\n",
    "import numpy as np\n",
    "df = pd.DataFrame(\n",
    "    np.random.randn(4, 3), \n",
    "    index=['a', 'c', 'e', 'h'],\n",
    "    columns=['First', 'Second', 'Three']\n",
    ")\n",
    "\n",
    "df = df.reindex(['a', 'b', 'c', 'd', 'e', 'f', 'g', 'h'])\n",
    "df"
   ]
  },
  {
   "cell_type": "markdown",
   "metadata": {},
   "source": [
    "Now replacing with zero value."
   ]
  },
  {
   "cell_type": "code",
   "execution_count": 19,
   "metadata": {},
   "outputs": [
    {
     "name": "stdout",
     "output_type": "stream",
     "text": [
      "NaN replaced with '0':\n",
      "      First    Second     Three\n",
      "a -0.357230 -1.119431 -0.004218\n",
      "b  0.000000  0.000000  0.000000\n",
      "c  0.543968 -0.053535  0.447563\n",
      "d  0.000000  0.000000  0.000000\n",
      "e  0.165891  1.365003 -1.010284\n",
      "f  0.000000  0.000000  0.000000\n",
      "g  0.000000  0.000000  0.000000\n",
      "h  1.011389 -1.192242 -1.463785\n"
     ]
    }
   ],
   "source": [
    "print (\"NaN replaced with '0':\")\n",
    "print (df.fillna(0))"
   ]
  },
  {
   "cell_type": "markdown",
   "metadata": {},
   "source": [
    "Replacing the missing values with mean:"
   ]
  },
  {
   "cell_type": "code",
   "execution_count": 24,
   "metadata": {},
   "outputs": [
    {
     "data": {
      "text/plain": [
       "array([[-0.35722967, -1.11943133, -0.0042178 ],\n",
       "       [ 0.34100455, -0.25005143, -0.50768083],\n",
       "       [ 0.54396779, -0.05353503,  0.44756316],\n",
       "       [ 0.34100455, -0.25005143, -0.50768083],\n",
       "       [ 0.16589073,  1.36500263, -1.01028369],\n",
       "       [ 0.34100455, -0.25005143, -0.50768083],\n",
       "       [ 0.34100455, -0.25005143, -0.50768083],\n",
       "       [ 1.01138933, -1.192242  , -1.46378498]])"
      ]
     },
     "execution_count": 24,
     "metadata": {},
     "output_type": "execute_result"
    }
   ],
   "source": [
    "from sklearn.impute import SimpleImputer\n",
    "\n",
    "imp = SimpleImputer(missing_values=np.nan, strategy='mean')\n",
    "imp.fit_transform(df)"
   ]
  },
  {
   "cell_type": "markdown",
   "metadata": {},
   "source": [
    "## <font color='darkblue'>Conclusion</font>\n",
    "The data preprocessing is an important step to perform to make the data set more reliable to our estimators."
   ]
  }
 ],
 "metadata": {
  "kernelspec": {
   "display_name": "Python 3",
   "language": "python",
   "name": "python3"
  },
  "language_info": {
   "codemirror_mode": {
    "name": "ipython",
    "version": 3
   },
   "file_extension": ".py",
   "mimetype": "text/x-python",
   "name": "python",
   "nbconvert_exporter": "python",
   "pygments_lexer": "ipython3",
   "version": "3.8.7"
  }
 },
 "nbformat": 4,
 "nbformat_minor": 4
}
