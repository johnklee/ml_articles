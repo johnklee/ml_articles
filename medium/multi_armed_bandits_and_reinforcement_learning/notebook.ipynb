{
 "cells": [
  {
   "cell_type": "markdown",
   "id": "aa30455c",
   "metadata": {},
   "source": [
    "## <font color='darkblue'>Preface</font>\n",
    "([article source](https://towardsdatascience.com/multi-armed-bandits-and-reinforcement-learning-dc9001dcb8da)) <b><font size='3ptx'>A Gentle Introduction to the Classic RL Problem with Python Examples</font></b>\n",
    "\n",
    "[**Multi-armed bandit problems**](https://en.wikipedia.org/wiki/Multi-armed_bandit) are some of the simplest [**reinforcement learning**](https://en.wikipedia.org/wiki/Reinforcement_learning) (<font color='brown'>RL</font>) problems to solve. We have an agent which we allow to choose actions, and each action has a reward that is returned according to a given, underlying probability distribution. The game is played over many episodes (<font color='brown'>single actions in this case</font>) and <b>the goal is to maximize your reward</b>.\n",
    "\n",
    "An easy picture is to think of choosing between k-many one-armed bandits (<font color='brown'>i.e. slot machines</font>) or one big slot machine with `k` arms. Each arm you pull has a different reward associated with it. You’re given 1,000 quarters, so you need to develop some kind of strategy to get the most bang for your buck.\n",
    "> 這個問題，其實是一個經典的思考實驗。因為每個人只有兩隻手臂。一次最多只能拉兩台機器，無法很快地找到（自認為）勝率較高的機台。而且萬一兩台勝率較高的吃角子老虎機相隔很遠，您也拉不太到。而我們的目標是贏得最多的錢走出賭場。問題在於，您如何在最短時間內，知道哪一台老虎機是最好的，並且贏得最多的錢？ ([source](https://medium.com/marketingdatascience/%E4%BD%95%E8%AC%82%E5%A4%9A%E8%87%82%E5%90%83%E8%A7%92%E5%AD%90%E8%80%81%E8%99%8E%E6%A9%9F%E6%B8%AC%E8%A9%A6-multi-armed-bandit-testing-6e17950a3520))\n",
    "\n",
    "<b>One way to approach this is to select each one in turn and keep track of how much you received, then keep going back to the one that paid out the most</b>. This is possible, but, as stated before, each bandit has an underlying probability distribution associated with it, meaning that you may need more samples before finding the right one. \n",
    "\n",
    "But, each pull you spend trying to figure out the best bandit to play takes you away from maximizing your reward. This basic balancing act is known as the <b><font color='darkblue' size='3ptx'>explore-exploit dilemma</font></b>.\n",
    "\n",
    "Forms of this basic problem come up in areas outside of AI and RL, such as in [choosing a career](https://joshkaufman.net/explore-exploit/), [finance](https://www.aaai.org/ocs/index.php/IJCAI/IJCAI15/paper/viewFile/10972/10798), [human psychology](https://econ.arizona.edu/sites/econ/files/wilsonetal_jepgeneral2014_print.pdf), and even [medical ethics](http://www.pnas.org/content/106/52/22387) (<font color='brown'>although, I think my favorite proposed use case relates to the suggestion that, due to its richness, it be given to Nazi Germany during WWII, “as the ultimate form of intellectual sabotage.”</font>)."
   ]
  },
  {
   "cell_type": "markdown",
   "id": "09c1a325",
   "metadata": {},
   "source": [
    "### <font color='darkgreen'>TL;DR</font>\n",
    "We introduce multi-armed bandit problems following the framework of [Sutton and Barto’s book](https://amzn.to/2Q2mxxn) (affiliate link) and develop a framework for solving these problems as well as examples. In this post, we’ll focus on ϵ−greedy, ϵ−decay, and optimistic strategies. As always, you can find the [original post here](https://www.datahubbs.com/multi_armed_bandits_reinforcement_learning_1/) (<font color='brown'>which properly supports LaTeX</font>)."
   ]
  },
  {
   "cell_type": "markdown",
   "id": "a1e76aab",
   "metadata": {},
   "source": [
    "### <font color='darkgreen'>Agenda</font>\n",
    "* <font size='3ptx'><b><a href='#sect0'>RL Introduction</a></b></font>\n",
    "* <font size='3ptx'><b><a href='#sect1'>Problem Setup</a></b></font>\n",
    "* <font size='3ptx'><b><a href='#sect2'>Strategies for solving k-bandit problems</a></b></font>"
   ]
  },
  {
   "cell_type": "markdown",
   "id": "7f34c7e4",
   "metadata": {},
   "source": [
    "<a id='sect0'></a>\n",
    "## <font color='darkblue'>RL Introduction</font>\n",
    "You've probably heard of programs that defeated human players in Go, chess, and Shogi by using [**reinforcement learning**](https://en.wikipedia.org/wiki/Reinforcement_learning) (RL). This  notebook aims to introduce you the basic of RL and apply what you learn to resolve a classic RL problem - [**Multi-armed bandit problems**](https://en.wikipedia.org/wiki/Multi-armed_bandit)."
   ]
  },
  {
   "cell_type": "markdown",
   "id": "b67bd453",
   "metadata": {},
   "source": [
    "<a id='sect0_1'></a>\n",
    "### <font color='darkgreen'>RL framing & components</font>\n",
    "(<font color='brown'>Source from [RL problem framing](https://colab.corp.google.com/drive/1sUYro4ZyiHuuKfy6KXFSdWjNlb98ZROd?usp=sharing)</font>) Suppose you've moved to a new neighborhood. You're looking for great restaurants in the neighborhood. At first, you explore randomly. Slowly, you begin returning to the restaurants you like. After a while, you tend to stick to the restaurants you like. Through this process, you learned new favorite restaurants through reinforcement from repeated exploration. Reinforcement Learning formalizes this learning process.\n",
    "\n",
    "For a more concrete example, imagine you're playing [**Pac-Man**](https://en.wikipedia.org/wiki/Pac-Man). You need to eat dots and avoid ghosts. You can frame this scenario in RL as follows:\n",
    "* Pac-Man is the <font size='3ptx' color='darkblue'>**agent**</font>.\n",
    "* The maze is the <font size='3ptx' color='darkblue'>**environment**</font>.\n",
    "* Eating the dots returns <font size='3ptx' color='darkblue'>**rewards**</font>. Failure, such as being eaten by a ghost, is framed as a <font size='3ptx' color='darkblue'>**negative reward**</font>.\n",
    "\n",
    "If you assign a positive numeric reward to eating the dots, and a negative numeric reward to being eaten, then you can <b>frame Pac-Man's objective as reward maximization</b>.\n",
    "![Screenshot of the Pac-Man computer game.](https://www.google.com/logos/2010/pacman10-hp.png)\n",
    "\n",
    "To maximize reward, Pac-Man moves from cell to cell by going up, down, left, and right. In RL, these movements are called <font size='3ptx' color='darkblue'>**actions**</font>. On each action, the position of Pac-Man, the positions of the ghosts, and the available rewards change. Together, these positions and rewards are the environment's <font size='3ptx' color='darkblue'>**state**</font>. <b>Therefore, the state changes on each action . An agent takes an action $a$ in a state $s$ and transitions to another state $s’$ while receiving a reward $r$.</b>\n",
    "![A simple schematic shows the framework provided by Reinforcement Learning at a high level of abstraction. There are five boxes labeled. The first box, agent, is connected to the third box, environment, through the second box, action. The environment is connected back to the agent through two boxes: state and reward. ](https://developers.google.com/machine-learning/reinforcement-learning/images/rl-framing-outline.png)\n",
    "\n",
    "Now, let's try mapping out the environment by recording the agent's transitions. Each transition is characterized by the tuple $(s, a, r, s')$.  This sequence of tuples $(s, a, r, s’)$ is the agent’s <font size='3ptx' color='darkblue'>**trajectory**</font>.\n",
    "\n",
    "$$s_0 \\xrightarrow[r_0]{a_0} s_1 \\xrightarrow[r_1]{a_1} s_2 \\ldots \\xrightarrow[r_2]{a_{n-2}} s_{n-1}\\xrightarrow[r_{n-1}]{a_{n-1}} s_n\n",
    "$$\n",
    "\n",
    "A trajectory from start to termination is called an <font size='3ptx' color='darkblue'>**episode**</font>. The trajectory terminates when the termination condition is met. \n",
    "\n",
    "So far we have known:\n",
    "* Basic RL terminology:\n",
    "    * [agent](https://developers.google.com/machine-learning/glossary/#agent)\n",
    "    * [environment](https://developers.google.com/machine-learning/glossary/#environment)\n",
    "    * [state](https://developers.google.com/machine-learning/glossary/#state), [action](https://developers.google.com/machine-learning/glossary/#action), and [reward](https://developers.google.com/machine-learning/glossary/#reward)\n",
    "    * [episode](https://developers.google.com/machine-learning/glossary/#episode)\n",
    "    * [termination condition](https://developers.google.com/machine-learning/glossary/#termination-condition)\n",
    "* How RL frames problems as state-action-reward frameworks.\n",
    "* How RL environments are probabilistic."
   ]
  },
  {
   "cell_type": "markdown",
   "id": "f2a62cfb",
   "metadata": {},
   "source": [
    "<a id='sect0_2'></a>\n",
    "### <font color='darkgreen'>Markov Decision Process</font>\n",
    "(<font color='brown'>Source From [Q Learning Framework](https://colab.corp.google.com/drive/1ZPsEEu30SH1BUqUSxNsz0xeXL2Aalqfa?usp=sharing)</font>) When an agent makes decisions to navigate a sequence of states under the certain state, then the result is called a [**Markov Decision Process**](https://en.wikipedia.org/wiki/Markov_decision_process) (MDP). Recall that this sequence of states is called a trajectory, represented by $(s,a,r,s')$ tuples as follows:\n",
    "\n",
    "$$s_0 \\xrightarrow[r_0]{a_0} s_1 \\xrightarrow[r_1]{a_1} s_2 \\ldots \\xrightarrow[r_2]{a_{n-2}} s_{n-1}\\xrightarrow[r_{n-1}]{a_{n-1}} s_n\n",
    "$$\n",
    "\n",
    "<br/>\n",
    "\n",
    "To run the agent in a loop, you must automatically choose actions. The algorithm that chooses actions is called the <font size='3ptx' color='darkblue'>**policy**</font>. \n",
    "\n",
    "Please check [this video - Markov Decision Processes Two - Georgia Tech - Machine Learning](https://www.youtube.com/watch?v=BxIG76-C37k) (5min) to learn more:\n",
    "![Markov decision process](images/1.PNG)"
   ]
  },
  {
   "cell_type": "markdown",
   "id": "31c8823a",
   "metadata": {},
   "source": [
    "<a id='sect0_3'></a>\n",
    "### <font color='darkgreen'>Exploration vs Exploitation</font>\n",
    "For details, please refer to this [video](https://www.youtube.com/watch?v=Xe28DvYvf-M) (4mins). Basic idea here is to leverage <font color='darkblue' size='3ptx'>**Exploration**</font> to discover all possible states and their corresponding rewarding so we can apply <font color='darkblue' size='3ptx'>**Exploitable**</font> to maximum our final rewarding:\n",
    "\n",
    "* **Exploration**\n",
    "    * Find out more about the Environment\n",
    "    * Give up some immediate Rewards for maximizing Future Regards\n",
    "* **Exploitation**\n",
    "    * Exploit known or Profitable Information about Environment to maximize immediate Regards.\n",
    "    \n",
    "<br/>\n",
    "\n",
    "We can apply this idea to many situations:\n",
    "* **Advertising:**\n",
    "    * Exploitation: Showing same profitable ads repeatedly.\n",
    "    * Exploration: Showing new ads which may be more profitable.\n",
    "* **Restaurant:**\n",
    "    * Exploitation: Going to the same favorite restaurant\n",
    "    * Exploration: Trying out new restaurants\n",
    "    \n",
    "<br/>   \n",
    "\n",
    "![Exploration vs Exploitation](images/2.PNG)          \n",
    "\n",
    "([image source](https://www.linkedin.com/pulse/battle-exploration-exploitation-mindset-abhishek-singh/))"
   ]
  },
  {
   "cell_type": "markdown",
   "id": "7e200443",
   "metadata": {},
   "source": [
    "<a id='sect0_4'></a>\n",
    "### <font color='darkgreen'>Bellman Equation</font>\n",
    "([content source](https://medium.com/analytics-vidhya/bellman-equation-and-dynamic-programming-773ce67fc6a7)) <b><font size='3ptx'>If you have read anything related to reinforcement learning you must have encountered [Bellman equation](https://en.wikipedia.org/wiki/Bellman_equation) somewhere</font></b>. \n",
    "\n",
    "<b>Bellman equation is the basic block of solving reinforcement learning and is omnipresent in RL. It helps us to solve [MDP](#sect0_2)</b>. To solve means finding the optimal policy and value functions.\n",
    "\n",
    "The optimal value function $V^π(s)$ is one that yields maximum value:\n",
    "> $V^π(s) = max_a(R(s,a) + γ(V^π(s')))$\n",
    "\n",
    "* $V^π(s)$ : Value function of specific version agent π.\n",
    "* $R(s,a)$ : Reward function to return reward based on given state `s` and action `a`\n",
    "* $γ$: Decay factor ( $1 > γ > 0$)\n",
    "\n",
    "<br/>\n",
    "\n",
    "You can refer below links for more explanation of Bellman Equation:\n",
    "* [The Bellman Equations - 1](https://www.youtube.com/watch?v=b1GvQcjDwBU)\n",
    "* [The Bellman Equations - 2](https://www.youtube.com/watch?v=aHQ3qkr51X8)\n",
    "* [The Bellman Equations - 3](https://www.youtube.com/watch?v=XLkW_WGJoyQ)"
   ]
  },
  {
   "cell_type": "markdown",
   "id": "6779dcc9",
   "metadata": {},
   "source": [
    "<a id='sect1'></a>\n",
    "## <font color='darkblue'>Problem Setup</font>\n",
    "To get started, let’s describe the problem in a bit more technical detail. What we wish to do, is develop an estimate $Qt​(a)$:\n",
    "![formula](https://miro.medium.com/max/786/1*n6jigGk161weIu8xHYQT_A.png)\n",
    "\n",
    "Where $Qt(a)$ is the estimated, expected reward ($Rn$​), when action $An$​ is taken at step `n`. We’re going to iteratively build a model that will converge towards the true value of each action. We’re going to use a Gaussian (<font color='brown'>normal</font>) distribution for all of the underlying probability distributions that we’ll explore so that the mean corresponds to the true value (<font color='brown'>after all, given enough samples, we would expect our rewards to converge to the mean of the selected action</font>).\n",
    "\n",
    "<b>The simplest way to proceed is to take the <font color='darkblue' size='3ptx'>greedy action</font> or take the action we think will maximize our reward at each time step</b>. Another way of writing this is:\n",
    "![greedy formula](https://miro.medium.com/max/640/1*S3nJWVy8oQE0gTDnh2D0jw.png)\n",
    "\n",
    "We can denote this maximum expectation or greedy action as $A*n$. This is the <font size='3ptx'><b>exploit side</b></font> of our aforementioned <b><font size='3ptx' color='blue'>explore-exploit dilemma</font></b>, and it makes lots of sense if the goal is to maximize our reward. Of course, doing this repeatedly only works well once we have a good sense of our expected rewards for each actions (<font color='brown'>unless we get rather lucky</font>). So, <b>we need to figure out an algorithm that explores enough of our search space so that we can exploit the best actions</b>.\n",
    "\n",
    "Before jumping into this, there’s one last concept to introduce. In typical RL applications, we may need hundreds of thousands of iterations, if not millions or more. It quickly becomes very computationally intensive to run simulations of these sorts and keep track of all that data just to calculate the average reward. To avoid this, we can use a handy formula so that all we need to track are two values: the mean and number of steps taken. If we need to calculate the mean at step `n`, `m_n`, we can do it with the previous mean, `m_n−1`​ and `n` as follows:\n",
    "![mean formula](https://miro.medium.com/max/786/1*IGzEQ2Ze5N6ijgApE-Tynw.png)\n",
    "\n",
    "For example:"
   ]
  },
  {
   "cell_type": "code",
   "execution_count": 1,
   "id": "880098a2",
   "metadata": {},
   "outputs": [
    {
     "name": "stdout",
     "output_type": "stream",
     "text": [
      "Current mean=2.0\n"
     ]
    }
   ],
   "source": [
    "from datetime import datetime\n",
    "import random\n",
    "\n",
    "value_list = [1, 2, 3]\n",
    "current_mean = sum(value_list) / len(value_list)\n",
    "print(f'Current mean={current_mean}')"
   ]
  },
  {
   "cell_type": "code",
   "execution_count": 2,
   "id": "6730df69",
   "metadata": {},
   "outputs": [],
   "source": [
    "new_values_to_add_and_calculate_mean = [random.randrange(2, 20) for _ in range(50000)]"
   ]
  },
  {
   "cell_type": "code",
   "execution_count": 3,
   "id": "421bea2c",
   "metadata": {},
   "outputs": [],
   "source": [
    "def approach_O_n(value_list, new_values_to_add_and_calculate_mean):\n",
    "    st = datetime.now()\n",
    "    mean_list = []\n",
    "    for v in new_values_to_add_and_calculate_mean:\n",
    "        value_list.append(v)\n",
    "        mean_list.append(sum(value_list) / len(value_list))\n",
    "        \n",
    "    print(f'Total time: {datetime.now() - st}')\n",
    "    return mean_list\n",
    "\n",
    "def approach_O_1(value_list, new_values_to_add_and_calculate_mean):\n",
    "    st = datetime.now()\n",
    "    current_mean = sum(value_list) / len(value_list)    \n",
    "    mean_list = []\n",
    "    n = len(value_list)\n",
    "    for v in new_values_to_add_and_calculate_mean:\n",
    "        n += 1\n",
    "        current_mean = current_mean + (v - current_mean) / n\n",
    "        mean_list.append(current_mean)\n",
    "    print(f'Total time: {datetime.now() - st}')\n",
    "    return mean_list"
   ]
  },
  {
   "cell_type": "code",
   "execution_count": 4,
   "id": "4bc06b8a",
   "metadata": {},
   "outputs": [
    {
     "name": "stdout",
     "output_type": "stream",
     "text": [
      "Total time: 0:00:05.780043\n"
     ]
    },
    {
     "data": {
      "text/plain": [
       "[4.25, 4.2, 5.83, 7.0, 7.88, 8.33, 9.4, 10.27, 10.5, 11.08]"
      ]
     },
     "execution_count": 4,
     "metadata": {},
     "output_type": "execute_result"
    }
   ],
   "source": [
    "a1_mean_list = approach_O_n(value_list.copy(), new_values_to_add_and_calculate_mean)\n",
    "list(map(lambda v: round(v, 2), a1_mean_list[:10]))"
   ]
  },
  {
   "cell_type": "code",
   "execution_count": 5,
   "id": "a3b9d985",
   "metadata": {},
   "outputs": [
    {
     "name": "stdout",
     "output_type": "stream",
     "text": [
      "Total time: 0:00:00.014651\n"
     ]
    },
    {
     "data": {
      "text/plain": [
       "[4.25, 4.2, 5.83, 7.0, 7.88, 8.33, 9.4, 10.27, 10.5, 11.08]"
      ]
     },
     "execution_count": 5,
     "metadata": {},
     "output_type": "execute_result"
    }
   ],
   "source": [
    "a1_mean_list = approach_O_1(value_list.copy(), new_values_to_add_and_calculate_mean)\n",
    "list(map(lambda v: round(v, 2), a1_mean_list[:10]))"
   ]
  },
  {
   "cell_type": "markdown",
   "id": "01809421",
   "metadata": {},
   "source": [
    "With that, we can start to develop strategies for solving our k-bandit problems."
   ]
  },
  {
   "cell_type": "markdown",
   "id": "6831cfaf",
   "metadata": {},
   "source": [
    "<a id='sect2'></a>\n",
    "## <font color='darkblue'>Strategies for solving k-bandit problems</font>\n",
    "* <font size='3ptx'><b><a href='#sect2_1'>ϵ-Greedy Methods</a></b></font>\n",
    "* <font size='3ptx'><b><a href='#sect2_2'>ϵ-Decay Strategies</a></b></font>\n",
    "* <font size='3ptx'><b><a href='#sect2_3'>Optimistic Initial Value</a></b></font>\n",
    "\n",
    "([content source](https://towardsdatascience.com/solving-the-multi-armed-bandit-problem-b72de40db97c)) [**The multi-armed bandit problem**](https://en.wikipedia.org/wiki/Multi-armed_bandit) is a classic reinforcement learning example where we are given a slot machine with `n` arms (<font color='brown'>bandits</font>) with each arm having its own rigged probability distribution of success. Pulling any one of the arms gives you a stochastic reward of either R=+1 for success, or R=0 for failure. Our objective is to pull the arms one-by-one in sequence such that we maximize our total reward collected in the long run.\n",
    "\n",
    "![The multi-armed Bandit problem](images/3.PNG)\n",
    "\n",
    "Here we are going to introduce a few approaches to resolve this problem."
   ]
  },
  {
   "cell_type": "code",
   "execution_count": 5,
   "id": "284a8036",
   "metadata": {},
   "outputs": [],
   "source": [
    "# import modules \n",
    "import numpy as np \n",
    "import matplotlib.pyplot as plt \n",
    "import pandas as pd \n",
    "\n",
    "import rl_bandit_utils\n",
    "%matplotlib inline\n",
    "\n",
    "iters = 1000\n",
    "episodes = 1000\n",
    "k = 10"
   ]
  },
  {
   "cell_type": "markdown",
   "id": "b9c5f77e",
   "metadata": {},
   "source": [
    "<a id='sect2_1'></a>\n",
    "### <font color='darkgreen'>ϵ-Greedy Methods</font>\n",
    "We briefly talked about a pure-greedy method, and I indicated that on its own it won’t work very well. Consider if you implement a pure-greedy method, you take one action, $A_n=a_1$​, at `n=1` and get a reward. Well, then this becomes your highest reward (<font color='brown'>assuming it is positive</font>) and you simply repeat $a_1 ​∀ n$ (<font color='brown'>take action $a_1$​ for all steps `n`</font>). <b>To encourage a bit of exploration, we can use <font color='darkblue' size='3ptx'>ϵ-greedy</font> which means that we explore another option with a probability of ϵ</b>. This provides a bit of noise into the algorithm to ensure you keep trying other values, otherwise, you keep on exploiting your maximum reward.\n",
    "\n",
    "Let’s turn to Python to implement our k-armed bandit."
   ]
  },
  {
   "cell_type": "markdown",
   "id": "d369ec9d",
   "metadata": {},
   "source": [
    "#### <font size='3ptx'>Building a greedy k-Armed Bandit</font>\n",
    "We’re going to define a class called **eps_bandit** to be able to run our experiment. This class takes number of arms `k`, epsilon value `eps`, number of iterations `iter` as inputs. We'll also define a term `mu` that we can use to adjust the average rewards of each of the arms."
   ]
  },
  {
   "cell_type": "markdown",
   "id": "f773e219",
   "metadata": {},
   "source": [
    "We define class <b><font color='blue'>KArmsBandit</font></b> in module `rl_bandit_utils` to represent K-arms bandit machine. By default, the average rewards for each arm are drawn from a normal distribution around 0. Setting `mu=\"sequence\"` will cause the rewards to range from 0 to k-1 to make it easy to know which actions provide the best rewards when evaluating the results and which actions were taken. Finally, you could also set your own average rewards by passing values to `mu`."
   ]
  },
  {
   "cell_type": "code",
   "execution_count": 7,
   "id": "725df74b",
   "metadata": {},
   "outputs": [],
   "source": [
    "# Define a 10 arms bandit machine\n",
    "karm_bandit_machine = rl_bandit_utils.KArmsBandit(k, mu='random')"
   ]
  },
  {
   "cell_type": "code",
   "execution_count": 8,
   "id": "259dce34",
   "metadata": {},
   "outputs": [
    {
     "name": "stdout",
     "output_type": "stream",
     "text": [
      "Pull 0-th arm and get reward=-0.92\n",
      "Pull 1-th arm and get reward=0.68\n",
      "Pull 2-th arm and get reward=-0.47\n",
      "Pull 3-th arm and get reward=1.37\n",
      "Pull 4-th arm and get reward=0.53\n",
      "Pull 5-th arm and get reward=0.17\n",
      "Pull 6-th arm and get reward=1.11\n",
      "Pull 7-th arm and get reward=0.93\n",
      "Pull 8-th arm and get reward=0.24\n",
      "Pull 9-th arm and get reward=0.69\n"
     ]
    }
   ],
   "source": [
    "# Pull nth bandit and get reward:\n",
    "for i in range(k):\n",
    "    reward = karm_bandit_machine.pull(i)\n",
    "    print(f'Pull {i}-th arm and get reward={round(reward, 2)}')"
   ]
  },
  {
   "cell_type": "markdown",
   "id": "4c530d85",
   "metadata": {},
   "source": [
    "We define class <font color='blue'><b>EPSBandit</b></font> in module `rl_bandit_utils`:\n",
    "```python\n",
    "class EPSBandit:\n",
    "  '''\n",
    "  Epsilon-greedy k-bandit problem\n",
    "\n",
    "  Attributes:\n",
    "    k: number of arms (int)\n",
    "    eps: probability of random action 0 < eps < 1 (float)\n",
    "    iters: number of steps (int)\n",
    "    karms_bandit_machine: K-arms bandit macihne.\n",
    "  '''\n",
    "  ...\n",
    "```\n",
    "\n",
    "There are plenty of different ways to define this class. I did it so that once we initialize our problem, we just call the <font color='blue'>run()</font> method and can examine the outputs.\n",
    "\n",
    "Let’s set up some comparisons using different values of `ϵ` (<font color='brown'>epsilon or </font><font color='blue'>self.eps</font>):\n",
    "```python\n",
    "    # Generate random number\n",
    "    p = np.random.rand()\n",
    "    if self.eps == 0 and self.n == 0:\n",
    "      # For first time to pull bandit, do it randomly.\n",
    "      a = np.random.choice(self.k)\n",
    "    elif p < self.eps:\n",
    "      # Randomly select an action/arm\n",
    "      a = np.random.choice(self.k)\n",
    "    else:\n",
    "      # Take greedy action\n",
    "      a = np.argmax(self.k_reward)\n",
    "\n",
    "    reward = self.karms_bandit_machine.pull(a)\n",
    "```\n",
    "\n",
    "\n",
    "For each of these, we’ll set `k=10`, run 1,000 steps for each episode and run 1,000 episodes. After each episode, we will reset the bandits and copy the averages across the different bandits to keep things consistent."
   ]
  },
  {
   "cell_type": "code",
   "execution_count": 9,
   "id": "27e13661",
   "metadata": {},
   "outputs": [],
   "source": [
    "eps_0_rewards = np.zeros(episodes)\n",
    "eps_01_rewards = np.zeros(episodes)\n",
    "eps_1_rewards = np.zeros(episodes)\n",
    "\n",
    "# Initialize bandits\n",
    "eps_0 = rl_bandit_utils.EPSBandit(eps=0, iters=iters, karms_bandit_machine=karm_bandit_machine)\n",
    "eps_01 = rl_bandit_utils.EPSBandit(eps=0.01, iters=iters, karms_bandit_machine=karm_bandit_machine)\n",
    "eps_1 = rl_bandit_utils.EPSBandit(eps=0.1, iters=iters, karms_bandit_machine=karm_bandit_machine)"
   ]
  },
  {
   "cell_type": "code",
   "execution_count": 10,
   "id": "1637855d",
   "metadata": {},
   "outputs": [
    {
     "data": {
      "image/png": "[encoded data removed]",
      "text/plain": [
       "<Figure size 864x576 with 1 Axes>"
      ]
     },
     "metadata": {
      "needs_background": "light"
     },
     "output_type": "display_data"
    },
    {
     "name": "stdout",
     "output_type": "stream",
     "text": [
      "CPU times: user 19.4 s, sys: 191 ms, total: 19.5 s\n",
      "Wall time: 19.3 s\n"
     ]
    }
   ],
   "source": [
    "%%time\n",
    "# Run experiments\n",
    "for i in range(episodes):\n",
    "  # Run experiments\n",
    "  eps_0.run()\n",
    "  eps_01.run()\n",
    "  eps_1.run()\n",
    "    \n",
    "  # Update long-term averages\n",
    "  eps_0_rewards = eps_0_rewards + (\n",
    "    eps_0.reward - eps_0_rewards) / (i + 1)\n",
    "  eps_01_rewards = eps_01_rewards + (\n",
    "    eps_01.reward - eps_01_rewards) / (i + 1)\n",
    "  eps_1_rewards = eps_1_rewards + (\n",
    "    eps_1.reward - eps_1_rewards) / (i + 1)\n",
    "  \n",
    "  # Reset bandits\n",
    "  eps_0.reset()\n",
    "  eps_01.reset()\n",
    "  eps_1.reset()\n",
    "    \n",
    "plt.figure(figsize=(12,8))\n",
    "plt.plot(eps_0_rewards, label=\"$\\epsilon=0$ (greedy)\")\n",
    "plt.plot(eps_01_rewards, label=\"$\\epsilon=0.01$\")\n",
    "plt.plot(eps_1_rewards, label=\"$\\epsilon=0.1$\")\n",
    "plt.legend(bbox_to_anchor=(1.3, 0.5))\n",
    "plt.xlabel(\"Iterations\")\n",
    "plt.ylabel(\"Average Reward\")\n",
    "plt.title(\"Average $\\epsilon-greedy$ Rewards after \" + str(episodes) \n",
    "    + \" Episodes\")\n",
    "plt.show()"
   ]
  },
  {
   "cell_type": "markdown",
   "id": "aeaed61f",
   "metadata": {},
   "source": [
    "Looking at the results, <b>the greedy function under performs the other two consistently, with `ϵ=0.01` coming in between the two and `ϵ=0.1` performing the best of the three here.</b>\n",
    "\n",
    "Below, we can see the effect is clearer <b>using the `sequence` argument, and can get a feel for how often the optimal action is taken per episode because the averages remain consistent across episodes</b>."
   ]
  },
  {
   "cell_type": "code",
   "execution_count": 14,
   "id": "02a0a8d5",
   "metadata": {},
   "outputs": [],
   "source": [
    "karm_bandit_machine = rl_bandit_utils.KArmsBandit(k, mu='sequence')\n",
    "\n",
    "eps_0_rewards = np.zeros(iters)\n",
    "eps_01_rewards = np.zeros(iters)\n",
    "eps_1_rewards = np.zeros(iters)\n",
    "eps_0_selection = np.zeros(k)\n",
    "eps_01_selection = np.zeros(k)\n",
    "eps_1_selection = np.zeros(k)\n",
    "\n",
    "# Initialize bandits\n",
    "eps_0 = rl_bandit_utils.EPSBandit(eps=0, iters=iters, karms_bandit_machine=karm_bandit_machine)\n",
    "eps_01 = rl_bandit_utils.EPSBandit(eps=0.01, iters=iters, karms_bandit_machine=karm_bandit_machine)\n",
    "eps_1 = rl_bandit_utils.EPSBandit(eps=0.1, iters=iters, karms_bandit_machine=karm_bandit_machine)"
   ]
  },
  {
   "cell_type": "code",
   "execution_count": 16,
   "id": "a8105bda",
   "metadata": {},
   "outputs": [
    {
     "data": {
      "image/png": "[encoded data removed]",
      "text/plain": [
       "<Figure size 864x576 with 1 Axes>"
      ]
     },
     "metadata": {
      "needs_background": "light"
     },
     "output_type": "display_data"
    },
    {
     "name": "stdout",
     "output_type": "stream",
     "text": [
      "CPU times: user 19.8 s, sys: 160 ms, total: 19.9 s\n",
      "Wall time: 19.7 s\n"
     ]
    }
   ],
   "source": [
    "%%time    \n",
    "# Run experiments\n",
    "for i in range(episodes):\n",
    "  # Run experiments\n",
    "  eps_0.run()\n",
    "  eps_01.run()\n",
    "  eps_1.run()\n",
    "    \n",
    "  # Update long-term averages\n",
    "  eps_0_rewards = eps_0_rewards + (\n",
    "      eps_0.reward - eps_0_rewards) / (i + 1)\n",
    "  eps_01_rewards = eps_01_rewards + (\n",
    "      eps_01.reward - eps_01_rewards) / (i + 1)\n",
    "  eps_1_rewards = eps_1_rewards + (\n",
    "      eps_1.reward - eps_1_rewards) / (i + 1)\n",
    "    \n",
    "  # Average actions per episode\n",
    "  eps_0_selection = eps_0_selection + (\n",
    "      eps_0.k_n - eps_0_selection) / (i + 1)\n",
    "  eps_01_selection = eps_01_selection + (\n",
    "      eps_01.k_n - eps_01_selection) / (i + 1)\n",
    "  eps_1_selection = eps_1_selection + (\n",
    "      eps_1.k_n - eps_1_selection) / (i + 1)\n",
    "  \n",
    "  # Reset bandits\n",
    "  eps_0.reset()\n",
    "  eps_01.reset()\n",
    "  eps_1.reset()\n",
    "    \n",
    "plt.figure(figsize=(12,8))\n",
    "plt.plot(eps_0_rewards, label=\"$\\epsilon=0$ (greedy)\")\n",
    "plt.plot(eps_01_rewards, label=\"$\\epsilon=0.01$\")\n",
    "plt.plot(eps_1_rewards, label=\"$\\epsilon=0.1$\")\n",
    "for i in range(k):\n",
    "    plt.hlines(eps_0.karms_bandit_machine.mu[i], xmin=0,\n",
    "              xmax=iters, alpha=0.5,\n",
    "              linestyle=\"--\")\n",
    "plt.legend(bbox_to_anchor=(1.3, 0.5))\n",
    "plt.xlabel(\"Iterations\")\n",
    "plt.ylabel(\"Average Reward\")\n",
    "plt.title(\"Average $\\epsilon-greedy$ Rewards after \" + \n",
    "     str(episodes) + \" Episodes\")\n",
    "plt.show()"
   ]
  },
  {
   "cell_type": "code",
   "execution_count": 18,
   "id": "a75bc997",
   "metadata": {},
   "outputs": [
    {
     "data": {
      "image/png": "[encoded data removed]",
      "text/plain": [
       "<Figure size 864x576 with 1 Axes>"
      ]
     },
     "metadata": {
      "needs_background": "light"
     },
     "output_type": "display_data"
    },
    {
     "name": "stdout",
     "output_type": "stream",
     "text": [
      "Percentage of actions selected:\n"
     ]
    },
    {
     "data": {
      "text/html": [
       "<div>\n",
       "<style scoped>\n",
       "    .dataframe tbody tr th:only-of-type {\n",
       "        vertical-align: middle;\n",
       "    }\n",
       "\n",
       "    .dataframe tbody tr th {\n",
       "        vertical-align: top;\n",
       "    }\n",
       "\n",
       "    .dataframe thead th {\n",
       "        text-align: right;\n",
       "    }\n",
       "</style>\n",
       "<table border=\"1\" class=\"dataframe\">\n",
       "  <thead>\n",
       "    <tr style=\"text-align: right;\">\n",
       "      <th></th>\n",
       "      <th>a = 0</th>\n",
       "      <th>a = 1</th>\n",
       "      <th>a = 2</th>\n",
       "      <th>a = 3</th>\n",
       "      <th>a = 4</th>\n",
       "      <th>a = 5</th>\n",
       "      <th>a = 6</th>\n",
       "      <th>a = 7</th>\n",
       "      <th>a = 8</th>\n",
       "      <th>a = 9</th>\n",
       "    </tr>\n",
       "  </thead>\n",
       "  <tbody>\n",
       "    <tr>\n",
       "      <th>$\\epsilon=0$</th>\n",
       "      <td>0.4157</td>\n",
       "      <td>18.5813</td>\n",
       "      <td>12.4042</td>\n",
       "      <td>9.6988</td>\n",
       "      <td>9.9000</td>\n",
       "      <td>10.7000</td>\n",
       "      <td>10.9000</td>\n",
       "      <td>9.8000</td>\n",
       "      <td>8.3000</td>\n",
       "      <td>9.300</td>\n",
       "    </tr>\n",
       "    <tr>\n",
       "      <th>$\\epsilon=0.01$</th>\n",
       "      <td>0.9700</td>\n",
       "      <td>9.3027</td>\n",
       "      <td>3.5468</td>\n",
       "      <td>2.2413</td>\n",
       "      <td>2.9615</td>\n",
       "      <td>4.9702</td>\n",
       "      <td>8.7137</td>\n",
       "      <td>11.7373</td>\n",
       "      <td>20.7505</td>\n",
       "      <td>34.806</td>\n",
       "    </tr>\n",
       "    <tr>\n",
       "      <th>$\\epsilon=0.1$</th>\n",
       "      <td>1.2963</td>\n",
       "      <td>1.7424</td>\n",
       "      <td>1.2866</td>\n",
       "      <td>1.2260</td>\n",
       "      <td>1.2611</td>\n",
       "      <td>1.3822</td>\n",
       "      <td>1.8009</td>\n",
       "      <td>2.5561</td>\n",
       "      <td>7.0684</td>\n",
       "      <td>80.380</td>\n",
       "    </tr>\n",
       "  </tbody>\n",
       "</table>\n",
       "</div>"
      ],
      "text/plain": [
       "                  a = 0    a = 1    a = 2   a = 3   a = 4    a = 5    a = 6  \\\n",
       "$\\epsilon=0$     0.4157  18.5813  12.4042  9.6988  9.9000  10.7000  10.9000   \n",
       "$\\epsilon=0.01$  0.9700   9.3027   3.5468  2.2413  2.9615   4.9702   8.7137   \n",
       "$\\epsilon=0.1$   1.2963   1.7424   1.2866  1.2260  1.2611   1.3822   1.8009   \n",
       "\n",
       "                   a = 7    a = 8   a = 9  \n",
       "$\\epsilon=0$      9.8000   8.3000   9.300  \n",
       "$\\epsilon=0.01$  11.7373  20.7505  34.806  \n",
       "$\\epsilon=0.1$    2.5561   7.0684  80.380  "
      ]
     },
     "execution_count": 18,
     "metadata": {},
     "output_type": "execute_result"
    }
   ],
   "source": [
    "bins = np.linspace(0, k-1, k)\n",
    "\n",
    "plt.figure(figsize=(12,8))\n",
    "plt.bar(bins, eps_0_selection, \n",
    "        width = 0.33, color='b', \n",
    "        label=\"$\\epsilon=0$\")\n",
    "plt.bar(bins+0.33, eps_01_selection,\n",
    "        width=0.33, color='g', \n",
    "        label=\"$\\epsilon=0.01$\")\n",
    "plt.bar(bins+0.66, eps_1_selection, \n",
    "        width=0.33, color='r',\n",
    "        label=\"$\\epsilon=0.1$\")\n",
    "plt.legend(bbox_to_anchor=(1.2, 0.5))\n",
    "plt.xlim([0,k])\n",
    "plt.title(\"Actions Selected by Each Algorithm\")\n",
    "plt.xlabel(\"Action\")\n",
    "plt.ylabel(\"Number of Actions Taken\")\n",
    "plt.show()\n",
    "\n",
    "opt_per = np.array([eps_0_selection, eps_01_selection,\n",
    "                   eps_1_selection]) / iters * 100\n",
    "df = pd.DataFrame(opt_per, index=['$\\epsilon=0$', \n",
    "    '$\\epsilon=0.01$', '$\\epsilon=0.1$'],\n",
    "                 columns=[\"a = \" + str(x) for x in range(0, k)])\n",
    "print(\"Percentage of actions selected:\")\n",
    "df"
   ]
  },
  {
   "cell_type": "markdown",
   "id": "34829796",
   "metadata": {},
   "source": [
    "Viewing the average selection of the algorithms, we see why the larger ϵ value performs well, it takes the optimal selection 80% of the time.\n",
    "\n",
    "Play around with the different values of both ϵ and k to see how these results change. For example, decreasing the search space would likely benefit smaller values of ϵ as exploration would be less beneficial and vice versa. <b>Additionally, increasing the number of iterations will begin to benefit the lower value of ϵ because it will have less random noise</b>."
   ]
  },
  {
   "cell_type": "markdown",
   "id": "3f561766",
   "metadata": {},
   "source": [
    "<a id='sect2_2'></a>\n",
    "### <font color='darkgreen'>ϵ-Decay Strategies</font>\n",
    "<b><font size='3ptx'>The ϵ-greedy strategies have an obvious weakness in that they continue to include random noise no matter how many examples they see. </font></b>  It would be better for these to settle on an optimal solution and continue to exploit it.\n",
    "\n",
    "To this end, we can introduce ϵ-decay which <b>reduces the probability of exploration with every step. This works by defining `ϵ` as a function of the number of steps  `n`</b>.\n",
    "![epison as function](https://miro.medium.com/max/640/1*OHcZPVCqG3dqIVFtpv7B-Q.png)\n",
    "\n",
    "<b>Where $β<1$ is introduced as a scaling factor to reduce the scaling rate so that the algorithm has sufficient opportunity to explore</b>. In this case, we also include +1 in the denominator to prevent infinities from appearing. Given this, we can make a few small changes to our previous class of bandits to define an eps_decay_bandit class that works on the same principles.\n",
    "```python\n",
    "class EPSDecayBandit:\n",
    "  '''\n",
    "  epsilon-decay k-bandit problem\n",
    "\n",
    "  Attributes:\n",
    "    k: number of arms (int)\n",
    "    iters: number of steps (int)\n",
    "    karms_bandit_machine: K-arms bandit macihne.\n",
    "  '''\n",
    "```\n",
    "\n",
    "Now running the code:"
   ]
  },
  {
   "cell_type": "code",
   "execution_count": 6,
   "id": "060e5d72",
   "metadata": {},
   "outputs": [],
   "source": [
    "eps_decay_rewards = np.zeros(iters)\n",
    "eps_1_rewards = np.zeros(iters)\n",
    "\n",
    "karm_bandit_machine = rl_bandit_utils.KArmsBandit(k, mu='random')\n",
    "\n",
    "# Initialize bandits\n",
    "eps_decay = rl_bandit_utils.EPSDecayBandit(iters=iters, karms_bandit_machine=karm_bandit_machine)\n",
    "eps_1 = rl_bandit_utils.EPSBandit(eps=0.1,iters=iters, karms_bandit_machine=karm_bandit_machine)"
   ]
  },
  {
   "cell_type": "code",
   "execution_count": 7,
   "id": "286d5eb9",
   "metadata": {},
   "outputs": [
    {
     "data": {
      "image/png": "[encoded data removed]",
      "text/plain": [
       "<Figure size 864x576 with 1 Axes>"
      ]
     },
     "metadata": {
      "needs_background": "light"
     },
     "output_type": "display_data"
    },
    {
     "name": "stdout",
     "output_type": "stream",
     "text": [
      "CPU times: user 15.8 s, sys: 193 ms, total: 15.9 s\n",
      "Wall time: 15.7 s\n"
     ]
    }
   ],
   "source": [
    "%%time\n",
    "# Run experiments\n",
    "for i in range(episodes):\n",
    "    # Run experiments\n",
    "    eps_decay.run()\n",
    "    eps_1.run()\n",
    "    \n",
    "    # Update long-term averages\n",
    "    eps_decay_rewards = eps_decay_rewards + (\n",
    "        eps_decay.reward - eps_decay_rewards) / (i + 1)\n",
    "    eps_1_rewards = eps_1_rewards + (\n",
    "        eps_1.reward - eps_1_rewards) / (i + 1)\n",
    "    \n",
    "    # Reset\n",
    "    eps_decay.reset()\n",
    "    eps_1.reset()\n",
    "    \n",
    "plt.figure(figsize=(12,8))\n",
    "plt.plot(eps_decay_rewards, label=\"$\\epsilon-decay$\")\n",
    "plt.plot(eps_1_rewards, label=\"$\\epsilon=0.1$\")\n",
    "plt.legend(bbox_to_anchor=(1.2, 0.5))\n",
    "plt.xlabel(\"Iterations\")\n",
    "plt.ylabel(\"Average Reward\")\n",
    "plt.title(\"Average $\\epsilon-decay$ and\" + \n",
    "    \"$\\epsilon-greedy$ Rewards after \" \n",
    "    + str(episodes) + \" Episodes\")\n",
    "plt.show()"
   ]
  },
  {
   "cell_type": "markdown",
   "id": "522eddb1",
   "metadata": {},
   "source": [
    "<b>The ϵ-decay strategy outperforms our previous best algorithm as it sticks to the optimal action once it is found.</b>\n",
    "\n",
    "There’s one last method to balance the explore-exploit dilemma in k-bandit problems, <b><font size='3ptx' color='darkblue'>optimistic initial values</font></b>."
   ]
  },
  {
   "cell_type": "markdown",
   "id": "89f9cdce",
   "metadata": {},
   "source": [
    "<a id='sect2_3'></a>\n",
    "### <font color='darkgreen'>Optimistic Initial Value</font>\n",
    "<b><font size='3ptx'>This approach differs significantly from the previous examples we explored because it does not introduce random noise to find the best action, `A*_n`. Instead, we over estimate the rewards of all the actions and continuously select the maximum.</font></b>\n",
    "\n",
    "<b>In this case, the algorithm explores early on as it seeks to maximize its returns while additional information allows the values to converge to their true means</b>.This approach does require some additional background knowledge to be included in the set up because we need at least some idea of what the rewards are so that we can over estimate them.\n",
    "\n",
    "For this implementation, we don’t need a new class. Instead, we can simply use our <b><font color='blue'>EPSBandit</font></b> class and set `ϵ=0` and provide high, initial values for the estimates. Also, I like to initialize the pull count for each arm as 1 instead of 0 to encourage slightly slower convergence and ensure good exploration."
   ]
  },
  {
   "cell_type": "code",
   "execution_count": 12,
   "id": "5c386931",
   "metadata": {},
   "outputs": [
    {
     "data": {
      "image/png": "[encoded data removed]",
      "text/plain": [
       "<Figure size 864x576 with 1 Axes>"
      ]
     },
     "metadata": {
      "needs_background": "light"
     },
     "output_type": "display_data"
    },
    {
     "name": "stdout",
     "output_type": "stream",
     "text": [
      "CPU times: user 10.6 s, sys: 184 ms, total: 10.8 s\n",
      "Wall time: 10.5 s\n"
     ]
    }
   ],
   "source": [
    "%%time\n",
    "episodes = 500\n",
    "\n",
    "oiv_rewards = np.zeros(iters)\n",
    "eps_decay_rewards = np.zeros(iters)\n",
    "eps_1_rewards = np.zeros(iters)\n",
    "\n",
    "# Select initial values\n",
    "oiv_init = np.repeat(5., k)\n",
    "\n",
    "# Run experiments\n",
    "for i in range(episodes):\n",
    "  # Initialize bandits\n",
    "  oiv_bandit = rl_bandit_utils.EPSBandit(k, 0, iters) # ϵ=0\n",
    "  oiv_bandit.k_reward = oiv_init.copy()\n",
    "  oiv_bandit.k_n = np.ones(k)\n",
    "  eps_decay = rl_bandit_utils.EPSDecayBandit(k, iters, oiv_bandit.mu.copy())\n",
    "  eps_1 = rl_bandit_utils.EPSBandit(k, 0.1, iters, oiv_bandit.mu.copy())\n",
    "\n",
    "  # Run experiments\n",
    "  oiv_bandit.run()\n",
    "  eps_decay.run()\n",
    "  eps_1.run()\n",
    "    \n",
    "  # Update long-term averages\n",
    "  oiv_rewards = oiv_rewards + (\n",
    "      oiv_bandit.reward - oiv_rewards) / (i + 1)\n",
    "  eps_decay_rewards = eps_decay_rewards + (\n",
    "      eps_decay.reward - eps_decay_rewards) / (i + 1)\n",
    "  eps_1_rewards = eps_1_rewards + (\n",
    "      eps_1.reward - eps_1_rewards) / (i + 1)\n",
    "  \n",
    "plt.figure(figsize=(12,8))\n",
    "plt.plot(oiv_rewards, label=\"Optimistic\")\n",
    "plt.plot(eps_decay_rewards, label=\"$\\epsilon-decay$\")\n",
    "plt.plot(eps_1_rewards, label=\"$\\epsilon=0.1$\")\n",
    "plt.legend(bbox_to_anchor=(1.2, 0.5))\n",
    "plt.xlabel(\"Iterations\")\n",
    "plt.ylabel(\"Average Reward\")\n",
    "plt.title(\"Average Bandit Strategy Rewards after \" + \n",
    "    str(episodes) + \" Episodes\")\n",
    "plt.show()"
   ]
  },
  {
   "cell_type": "markdown",
   "id": "b823b393",
   "metadata": {},
   "source": [
    "<b>We can see that, in this case, the optimistic initial value approach outperformed both our ϵ−greedy and the ϵ−decay algorithms</b>. We can see too, the estimates the algorithm has for each of arms in the last episode."
   ]
  },
  {
   "cell_type": "code",
   "execution_count": 13,
   "id": "6fc23d86",
   "metadata": {},
   "outputs": [
    {
     "data": {
      "text/html": [
       "<div>\n",
       "<style scoped>\n",
       "    .dataframe tbody tr th:only-of-type {\n",
       "        vertical-align: middle;\n",
       "    }\n",
       "\n",
       "    .dataframe tbody tr th {\n",
       "        vertical-align: top;\n",
       "    }\n",
       "\n",
       "    .dataframe thead th {\n",
       "        text-align: right;\n",
       "    }\n",
       "</style>\n",
       "<table border=\"1\" class=\"dataframe\">\n",
       "  <thead>\n",
       "    <tr style=\"text-align: right;\">\n",
       "      <th></th>\n",
       "      <th>number of selections</th>\n",
       "      <th>actual reward</th>\n",
       "      <th>estimated reward</th>\n",
       "    </tr>\n",
       "  </thead>\n",
       "  <tbody>\n",
       "    <tr>\n",
       "      <th>0</th>\n",
       "      <td>11</td>\n",
       "      <td>0.92</td>\n",
       "      <td>1.37</td>\n",
       "    </tr>\n",
       "    <tr>\n",
       "      <th>1</th>\n",
       "      <td>3</td>\n",
       "      <td>-0.46</td>\n",
       "      <td>1.15</td>\n",
       "    </tr>\n",
       "    <tr>\n",
       "      <th>2</th>\n",
       "      <td>935</td>\n",
       "      <td>1.42</td>\n",
       "      <td>1.43</td>\n",
       "    </tr>\n",
       "    <tr>\n",
       "      <th>3</th>\n",
       "      <td>2</td>\n",
       "      <td>-0.56</td>\n",
       "      <td>0.88</td>\n",
       "    </tr>\n",
       "    <tr>\n",
       "      <th>4</th>\n",
       "      <td>4</td>\n",
       "      <td>-0.41</td>\n",
       "      <td>1.08</td>\n",
       "    </tr>\n",
       "    <tr>\n",
       "      <th>5</th>\n",
       "      <td>2</td>\n",
       "      <td>-1.00</td>\n",
       "      <td>1.07</td>\n",
       "    </tr>\n",
       "    <tr>\n",
       "      <th>6</th>\n",
       "      <td>11</td>\n",
       "      <td>0.49</td>\n",
       "      <td>1.32</td>\n",
       "    </tr>\n",
       "    <tr>\n",
       "      <th>7</th>\n",
       "      <td>5</td>\n",
       "      <td>0.66</td>\n",
       "      <td>1.32</td>\n",
       "    </tr>\n",
       "    <tr>\n",
       "      <th>8</th>\n",
       "      <td>13</td>\n",
       "      <td>0.89</td>\n",
       "      <td>1.37</td>\n",
       "    </tr>\n",
       "    <tr>\n",
       "      <th>9</th>\n",
       "      <td>14</td>\n",
       "      <td>1.13</td>\n",
       "      <td>1.32</td>\n",
       "    </tr>\n",
       "  </tbody>\n",
       "</table>\n",
       "</div>"
      ],
      "text/plain": [
       "   number of selections  actual reward  estimated reward\n",
       "0                    11           0.92              1.37\n",
       "1                     3          -0.46              1.15\n",
       "2                   935           1.42              1.43\n",
       "3                     2          -0.56              0.88\n",
       "4                     4          -0.41              1.08\n",
       "5                     2          -1.00              1.07\n",
       "6                    11           0.49              1.32\n",
       "7                     5           0.66              1.32\n",
       "8                    13           0.89              1.37\n",
       "9                    14           1.13              1.32"
      ]
     },
     "execution_count": 13,
     "metadata": {},
     "output_type": "execute_result"
    }
   ],
   "source": [
    "df = pd.DataFrame({\n",
    "  \"number of selections\": oiv_bandit.k_n - 1,\n",
    "  \"actual reward\": oiv_bandit.mu,\n",
    "  \"estimated reward\": oiv_bandit.k_reward})\n",
    "df = df.applymap(lambda x: np.round(x, 2))\n",
    "df['number of selections'] = df['number of selections'].astype('int')\n",
    "df"
   ]
  },
  {
   "cell_type": "markdown",
   "id": "21f0826a",
   "metadata": {},
   "source": [
    "The estimates are far off the actual rewards in all cases except the one with 983 pulls. This highlights a lot of what we’ll be doing in reinforcement learning more generally. <b>We don’t necessarily care about acquiring accurate representations of the environment we are interacting with. Instead, we intend to learn optimal behavior in those situations and seek to behave accordingly</b>. This can open up a whole discussion about model-free versus model-based learning that we’ll have to postpone for another time.\n",
    "\n",
    "There are other [bandit methods](https://www.datahubbs.com/multi-armed-bandits-reinforcement-learning-2/) that we will explore such as the gradient bandits, upper confidence bound (<font color='brown'>UCB</font>) methods, and nonstationary problems. Plus, many others like [dueling bandits](http://www.sciencedirect.com/science/article/pii/S0022000012000281?via%3Dihub), [cluster bandits](https://arxiv.org/abs/1401.8257), [collaborative filtering bandits](https://arxiv.org/abs/1502.03473), [spatially correlated bandits](http://www.biorxiv.org/content/biorxiv/early/2017/04/28/106286.full.pdf), [distributed bandtis](https://arxiv.org/abs/1604.07706), [adversarial bandits](http://mercurio.srv.dsi.unimi.it/~cesabian/Pubblicazioni/J18.pdf), and [contextual bandits](http://proceedings.mlr.press/v32/agarwalb14.pdf) which are open to exploration."
   ]
  },
  {
   "cell_type": "markdown",
   "id": "9766d6ef",
   "metadata": {},
   "source": [
    "## <font color='darkblue'>Supplement</font>\n",
    "* [Reinforcement Learning Self-Study Course](https://developers.google.com/machine-learning/reinforcement-learning?hl=en)\n",
    "* [Udemy - Artificial Intelligence: Reinforcement Learning in Python](https://www.udemy.com/course/artificial-intelligence-reinforcement-learning-in-python/learn/lecture/18855662#overview)\n",
    "* [簡介 Markov Decision Process 與其應用](https://blog.techbridge.cc/2018/10/27/intro-to-mdp-and-app/)\n",
    "* [Medium - Bellman Equation and dynamic programming](https://medium.com/analytics-vidhya/bellman-equation-and-dynamic-programming-773ce67fc6a7)\n",
    "* [【機器學習2021】概述增強式學習 (Reinforcement Learning, RL) (一) ](https://www.youtube.com/watch?v=XWukX-ayIrs)"
   ]
  }
 ],
 "metadata": {
  "kernelspec": {
   "display_name": "Python 3 (ipykernel)",
   "language": "python",
   "name": "python3"
  },
  "language_info": {
   "codemirror_mode": {
    "name": "ipython",
    "version": 3
   },
   "file_extension": ".py",
   "mimetype": "text/x-python",
   "name": "python",
   "nbconvert_exporter": "python",
   "pygments_lexer": "ipython3",
   "version": "3.10.7"
  }
 },
 "nbformat": 4,
 "nbformat_minor": 5
}
