{
 "cells": [
  {
   "cell_type": "markdown",
   "id": "7162fbdd-9de4-4668-9521-6c9fd7763885",
   "metadata": {},
   "source": [
    "## <b><font color='darkblue'>Building with Agent Development Kit — Workshop Guide</font></b>\n",
    "([source](https://medium.com/@jereljohnvelarde/building-with-agent-development-kit-workshop-guide-32047e6a41ae)) <font size='3ptx'><b>Google released the Agent development kit’s preview version around a month ago and just released v1.0 at Google I/O’25 (May 20, 2025)</b> So I think we just hosted the first Agent Development Workshop...</font>\n",
    "\n",
    "Here’s some key highlights of the event:\n",
    "* **Workshop 1**: Building your first agent with ADK\n",
    "* **Workshop 2**: Function Calling and Intro to Multiagent Systems"
   ]
  },
  {
   "cell_type": "code",
   "execution_count": 5,
   "id": "cc3370c6-c049-4c92-8693-15ee1bca674a",
   "metadata": {},
   "outputs": [],
   "source": [
    "from IPython.display import display, Markdown, Latex\n",
    "\n",
    "def show_source_code(src_path: str, raw_text=False):\n",
    "    source_code = !cat $src_path\n",
    "    if raw_text:\n",
    "        print('\\n'.join(source_code))\n",
    "    else:\n",
    "        display(Markdown(f\"\"\"\n",
    "```python\n",
    "{'\\n'.join(source_code)}\n",
    "```\"\"\"))"
   ]
  },
  {
   "cell_type": "markdown",
   "id": "fbef7db2-4513-4046-969b-71c9e5532497",
   "metadata": {},
   "source": [
    "## <b><font color='darkblue'>Walkthrough of Workshop 1</font></b>\n",
    "([source](https://youtu.be/UalqWbV09bw), [Github](https://github.com/GeneralJerel/ADK-Your-First-Workflow)) What’s included:\n",
    "* Your First Agent: Automation Analyst\n",
    "* Your First Agentic Workflow: Role Automation workflow\n",
    "\n",
    "\n",
    "**Automation Analyst**\n",
    "> Takes in a job description and outputs a markdown table analysis of automation potential\n",
    "\n",
    "**Role Automation Workflow**\n",
    "> A sequential agent workflow that writes a job description, automation analysis, and write prompts for the highly automateable tasks."
   ]
  },
  {
   "cell_type": "markdown",
   "id": "e2f05b4a-1801-4375-bbde-74629c987902",
   "metadata": {
    "jp-MarkdownHeadingCollapsed": true
   },
   "source": [
    "### <b><font color='darkgreen'>Chapter 1: Setting up</font></b>\n",
    "\n",
    "**Pre-Requisites**\n",
    "* Python\n",
    "* IDE of your choice\n",
    "* Setup `.venv`\n",
    "* Install ADK (pip install google-adk)"
   ]
  },
  {
   "cell_type": "code",
   "execution_count": 1,
   "id": "49bb91c0-dd69-4c0f-b56b-b903dde0c0bf",
   "metadata": {},
   "outputs": [
    {
     "name": "stdout",
     "output_type": "stream",
     "text": [
      "google-adk==1.7.0\n"
     ]
    }
   ],
   "source": [
    "!pip freeze | grep 'google-adk'"
   ]
  },
  {
   "cell_type": "markdown",
   "id": "c88bcff2-adec-4308-8f09-1691bcc50bc5",
   "metadata": {
    "jp-MarkdownHeadingCollapsed": true
   },
   "source": [
    "### <b><font color='darkgreen'>Chapter 2: Your First AI Agent</font></b>\n",
    "<font size='3ptx'><b>In [ADK](https://google.github.io/adk-docs/agents/), An Agent is a self-contained execution unit designed to act autonomously to achieve specific goals.</b> Agents can perform tasks, interact with users, utilize external tools, and coordinate with other agents.</font>\n",
    "![agent flow](https://miro.medium.com/v2/resize:fit:2000/format:webp/1*xf0oN2sXoXwpyGrOAVI01w.png)"
   ]
  },
  {
   "cell_type": "markdown",
   "id": "151210ff-3012-464d-a446-e71c85362967",
   "metadata": {},
   "source": [
    "#### <b>Automation Analyst</b>\n",
    "Takes in a job description and outputs a markdown table analysis of automation potential."
   ]
  },
  {
   "cell_type": "markdown",
   "id": "a6d803c0-a567-4f5a-b845-b785af6d7567",
   "metadata": {},
   "source": [
    "#### <b>Folder Structure</b>\n",
    "```\n",
    "Parent-folder\n",
    "└─automation_analyst/\n",
    "  ├── __init__.py\n",
    "  ├── agent.py          # Main agent configuration\n",
    "  ├── prompt.py         # Agent instructions and prompt template\n",
    "  └── .gitignore\n",
    "```\n",
    "\n",
    "Your CLI should be on the parent folder\n",
    "* <b><font color='olive'>sample .env</font></b>\n",
    "```shell\n",
    "GOOGLE_GENAI_USE_VERTEXAI=FALSE\n",
    "GOOGLE_API_KEY=YOUR_GOOGLE_API_KEY\n",
    "```\n",
    "\n",
    "* <b><font color='olive'>__init__.py</font></b>\n",
    "```python\n",
    "from . import agent\n",
    "```\n",
    "\n",
    "* <b><font color='olive'>agent.py</font></b>\n",
    "```python\n",
    "from google.adk.agents import Agent\n",
    "\n",
    "from . import prompt\n",
    "\n",
    "root_agent = Agent(\n",
    "    name=\"automation_analyst\",\n",
    "    model=\"gemini-2.0-flash\",\n",
    "    description=(\n",
    "        \"Give me a role or a job description and I'll break it down to tasks and analyze for automation potential\"\n",
    "    ),\n",
    "    instruction=prompt.ROOT_PROMPT,\n",
    ")\n",
    "```\n",
    "\n",
    "* <b><font color='olive'>prompt.py</font></b>\n",
    "```python\n",
    "ROOT_PROMPT= \"\"\"\n",
    "**Context**\n",
    "You are a Business Analysis Assistant designed to help operations managers, HR strategists, and transformation consultants analyze job roles and assess which tasks are suitable for automation. Your primary goal is to deconstruct a given job or role into discrete tasks, evaluate each task's automation potential (High, Medium, Low), and provide strategic recommendations for improving efficiency through automation.\n",
    "\n",
    "**Instructions**\n",
    "- Accept a plain-language job title or job description as input.\n",
    "- ...\n",
    "```"
   ]
  },
  {
   "cell_type": "markdown",
   "id": "513fe233-98d5-4115-8386-1651c487320a",
   "metadata": {},
   "source": [
    "#### <b>Running the Workflow</b>\n",
    "* Navigate to the CLI for the parent folder\n",
    "* Run\n",
    "```shell\n",
    "$ adk web\n",
    "...\n",
    "INFO:     Started server process [2631917]\n",
    "INFO:     Waiting for application startup.\n",
    "\n",
    "+-----------------------------------------------------------------------------+\n",
    "| ADK Web Server started                                                      |\n",
    "|                                                                             |\n",
    "| For local testing, access at http://localhost:8000.                         |\n",
    "+-----------------------------------------------------------------------------+\n",
    "\n",
    "INFO:     Application startup complete.\n",
    "INFO:     Uvicorn running on http://127.0.0.1:8000 (Press CTRL+C to quit)\n",
    "```\n",
    "\n",
    "* Open brower:\n",
    "![Web](images/1.png)\n",
    "\n",
    "![Web](images/2.png)"
   ]
  },
  {
   "cell_type": "markdown",
   "id": "d5615bc5-5196-467f-bf13-aeb14d41431b",
   "metadata": {
    "jp-MarkdownHeadingCollapsed": true
   },
   "source": [
    "### <b><font color='darkgreen'>Chapter 3: Your First Workflow</font></b>\n",
    "![ui](https://miro.medium.com/v2/resize:fit:1400/format:webp/0*pG48ZotfDcN1faYT)"
   ]
  },
  {
   "cell_type": "markdown",
   "id": "5e87fe9e-f067-4428-b906-23041548a066",
   "metadata": {},
   "source": [
    "#### <b>Role Automation Workflow</b>\n",
    "A sequential agent workflow that writes a job description, automation analysis, and write prompts for the highly automateable tasks.\n",
    "* Job Description Agent\n",
    "* Automation Analyst\n",
    "* Prompt Engineer"
   ]
  },
  {
   "cell_type": "markdown",
   "id": "beb847b2-953a-4373-b522-d8b55fde56c4",
   "metadata": {},
   "source": [
    "#### <b>Folder Structure</b>\n",
    "```\n",
    "adk-first-workflow/\n",
    "├── role-automation-workflow/\n",
    "│   ├── sub_agents/           # Contains specialized sub-agents\n",
    "│   │   ├── __init__.py      # Exports sub-agents\n",
    "│   │   ├── agent.py         # Sub-agent implementations\n",
    "│   │   └── prompt.py        # Sub-agent prompts\n",
    "│   ├── agent.py            # Main agent implementation\n",
    "│   ├── prompt.py           # Agent prompts and instructions\n",
    "│   └── __init__.py         # Package initialization\n",
    "├── .venv/                   # Python virtual environment\n",
    "└── .gitignore              # Git ignore file\n",
    "```\n",
    "\n",
    "Your CLI should be on the parent folder `adk-first-workflow`. We are going to declare a sequential agentic workflow"
   ]
  },
  {
   "cell_type": "markdown",
   "id": "8e00c989-d460-477b-9334-a7571d0246df",
   "metadata": {},
   "source": [
    "#### <b>role-automation-workflow</b>\n",
    "We are going to declare a sequential agentic workflow:\n",
    "\n",
    "- **sub_agents/agent.py**\n",
    "```python\n",
    "from google.adk.agents.llm_agent import Agent\n",
    "\n",
    "from . import prompt\n",
    "\n",
    "# --- 1. Define Sub-Agents for Each Pipeline Stage ---\n",
    "\n",
    "job_description_agent = Agent(\n",
    "    model='gemini-2.0-flash',\n",
    "    name=\"job_description_agent\",\n",
    "    description=\"A helpful agent to find job descriptions from google search\",\n",
    "    instruction=prompt.JOB_DESCRIPTION_AGENT_PROMPT,\n",
    "    output_key=\"job_description\",\n",
    ")\n",
    "\n",
    "workflow_analysis_agent = Agent(\n",
    "    model='gemini-2.0-flash',\n",
    "    name=\"workflow_analysis_agent\",\n",
    "    description=\"A helpful agent to analyze workflows\",\n",
    "    instruction=prompt.WORKFLOW_ANALYSIS_AGENT_PROMPT,\n",
    "    output_key=\"workflow_analysis\",\n",
    ")\n",
    "\n",
    "prompt_engineer_agent = Agent(\n",
    "    model='gemini-2.0-flash',\n",
    "    name=\"prompt_engineer_agent\",\n",
    "    description=\"selects high potential for optimazation from analysis and creates prompts, and adds them to the prompt library\",\n",
    "    instruction=prompt.PROMPT_ENGINEER_AGENT_PROMPT,\n",
    "    output_key=\"prompt_library\",\n",
    ")\n",
    "```"
   ]
  },
  {
   "cell_type": "markdown",
   "id": "641cc078-478b-4230-acab-8903c7af79f4",
   "metadata": {},
   "source": [
    "- **sub_agents/prompt.py**: Setup prompt instructions for the sub agents by setting up prompt.py under sub_agents folder."
   ]
  },
  {
   "cell_type": "code",
   "execution_count": 6,
   "id": "6a2d42ee-1bff-419b-9ff4-9278198e11d5",
   "metadata": {},
   "outputs": [
    {
     "name": "stdout",
     "output_type": "stream",
     "text": [
      "JOB_DESCRIPTION_AGENT_PROMPT = \"\"\"\n",
      "**Context**\n",
      "You are a global job role expert with deep knowledge of various professional positions across industries. Your expertise allows you to craft detailed, accurate, and realistic job descriptions that reflect current industry standards and best practices.\n",
      "\n",
      "**Instructions**\n",
      "- Analyze the user's request to understand the specific role and requirements they need.\n",
      "- Draw upon your comprehensive knowledge of job roles, industry standards, and organizational structures.\n",
      "- Create detailed job descriptions that include:\n",
      "  - Clear role responsibilities\n",
      "  - Required qualifications and skills\n",
      "  - Industry-specific requirements\n",
      "  - Expected experience levels\n",
      "  - Key performance indicators\n",
      "- Ensure descriptions are:\n",
      "  - Realistic and practical\n",
      "  - Aligned with current industry standards\n",
      "  - Comprehensive yet concise\n",
      "  - Well-structured and easy to read\n",
      "\n",
      "**Response Format**\n",
      "Return a clean, well-formatted job description with these sections:\n",
      "- **Job Title**\n",
      "- **Overview**\n",
      "- **Key Responsibilities**\n",
      "- **Required Qualifications**\n",
      "- **Preferred Skills**\n",
      "- **Experience Requirements**\n",
      "- **Work Environment** (if applicable)\n",
      "\"\"\"\n",
      "\n",
      "WORKFLOW_ANALYSIS_AGENT_PROMPT = \"\"\"\n",
      "**Context**\n",
      "You are a Workflow Analysis Assistant that helps business analysts, operations managers, and transformation consultants assess which aspects of a job can be automated. You specialize in reviewing job descriptions to identify and evaluate discrete tasks based on their automation potential using generative AI and other current technologies.\n",
      "\n",
      "**Instructions**\n",
      "- Accept a job description as input (usually structured with responsibilities, duties, or tasks).\n",
      "- Deconstruct the job into individual, clearly defined tasks or responsibilities.\n",
      "- For each task, assess its automation potential using one of the following levels:\n",
      "  - **High** ✅: Easily automatable using current AI or software solutions.\n",
      "  - **Mid** ⚠️: Partially automatable; may need human input or oversight.\n",
      "  - **Low** ❌: Not well-suited for automation; requires human judgment, empathy, or complex decision-making.\n",
      "- Provide a short rationale (1–2 sentences) explaining the automation score based on factors like repeatability, complexity, data accessibility, or logic structure.\n",
      "- Optionally mention relevant tools or strategies for automating high/mid potential tasks.\n",
      "- Use precise, professional language that speaks to business strategists and digital transformation leaders.\n",
      "\n",
      "**Response Format**\n",
      "1. **Role Summary**\n",
      "   A 1–2 sentence overview of the job based on the input.\n",
      "\n",
      "2. **Task Analysis Table**\n",
      "   Use the following structure:\n",
      "\n",
      "   | Task | Description | Automation Potential | Rationale |\n",
      "   |------|-------------|----------------------|-----------|\n",
      "   | Example | Write and schedule internal email updates. | High ✅ | Routine format and templates make this ideal for AI-based automation tools. |\n",
      "\n",
      "3. **Automation Opportunity Summary**\n",
      "   - Include a count or percentage of tasks by automation level (High/Mid/Low).\n",
      "   - Offer a brief strategic recommendation for next steps (e.g., tools to implement, tasks to redesign, areas to retain human oversight).\n",
      "\n",
      "If the input lacks sufficient detail, respond with:\n",
      "> “Please provide a detailed job description or task list to begin the workflow analysis.”\n",
      "\n",
      "**Task**\n",
      "- Analyze the {job_description} and identify the tasks that can be automated look for 2-3 tasks that are high potential for generative ai automation, anything with text, thinking  drafting or writing.\n",
      "\"\"\"\n",
      "\n",
      "PROMPT_ENGINEER_AGENT_PROMPT = \"\"\"\n",
      "**Context**\n",
      "You are a prompt engineering automation agent that receives high-potential tasks for automation identified in job workflow analyses. Your role is to convert these tasks into structured Custom GPT prompts suitable for inclusion in a reusable prompt library. You operate as a backend utility for scaling prompt design in AI-driven task automation.\n",
      "\n",
      "**Instructions**\n",
      "- Input consists of a list of tasks labeled \"High\" automation potential from a prior analysis.\n",
      "- For each task, extract the implied job role and task intent.\n",
      "- Generate a system instruction in three parts: **Context**, **Instructions**, and **Response Format**, suitable for a role-specific Custom GPT.\n",
      "- Avoid generic or vague behavior descriptions—be specific to the task.\n",
      "- Assume technical users will use this prompt in a professional environment; format clearly using markdown.\n",
      "- Output your response as a JSON object containing:\n",
      "  - `job_title`: the inferred or provided job role\n",
      "  - `task_name`: the automation-ready task\n",
      "  - `prompt`: a markdown-formatted prompt containing Context, Instructions, and Response Format\n",
      "\n",
      "**Response Format**\n",
      "Return a JSON array, where each entry is an object with this structure:\n",
      "```json\n",
      "{\n",
      "  \"job_title\": \"Data Analyst\",\n",
      "  \"task_name\": \"Email summarization\",\n",
      "  \"prompt\": \"````markdown\\n**Context**\\nYou are an AI assistant that helps data analysts summarize email threads related to project updates.\\n\\n**Instructions**\\n- Extract key points from the email text including metrics, decisions, and action items.\\n- Maintain professional tone and remove filler or greetings.\\n- Highlight anything that needs analyst attention.\\n\\n**Response Format**\\nReturn a short bullet-point summary with clearly marked sections: Decisions, Metrics, and Action Items.\\n````\"\n",
      "}\n",
      "```\n",
      "\n",
      "If no high-potential and mid-potential tasks are available, return:\n",
      "```json\n",
      "{ \"message\": \"No high-potential or mid-potential automation tasks available for prompt engineering.\" }\n",
      "```\n",
      "\n",
      "**Task**\n",
      "- Analyze the {workflow_analysis} and write at least 2-3 prompts for AI agents to automate the tasks that are high potential if there are no high select some from the mid-potential tasks for generative ai automation, anything with text, thinking  drafting or writing.\n",
      "\"\"\"\n",
      "\n",
      "# --- 3. add new parameters to the prompt ---\n",
      "  # - `Agent Name`: the name of the agent to be used to automate the task\n",
      "  # - `Agent Description`: the short description of the agent to be used to automate the task\n"
     ]
    }
   ],
   "source": [
    "show_source_code('adk-first-workflow/role-automation-workflow/sub_agents/prompt.py', raw_text=True)"
   ]
  },
  {
   "cell_type": "markdown",
   "id": "4cfc01cf-f6cf-4832-80f0-f4124f6e657f",
   "metadata": {},
   "source": [
    "#### <b>Running the Workflow</b>\n",
    "* Navigate to the CLI for the parent folder\n",
    "* run adk web:\n",
    "```shell\n",
    "$ pwd\n",
    ".../ml_articles/medium/Building_with_agent_development_kit_workshop_guide/adk-first-workflow\n",
    "$ adk web\n",
    "```"
   ]
  },
  {
   "cell_type": "markdown",
   "id": "64946939-97f0-49fd-bc3d-d49fe0e53f1a",
   "metadata": {},
   "source": [
    "### <b><font color='darkgreen'>Summary</font></b>\n",
    "By the end of this you should have\n",
    "* Developed the fundamentals of AI agent development\n",
    "* Built your first Agent with ADK\n",
    "* Built your first AI Agentic workflow with ADK"
   ]
  }
 ],
 "metadata": {
  "kernelspec": {
   "display_name": "Python 3 (ipykernel)",
   "language": "python",
   "name": "python3"
  },
  "language_info": {
   "codemirror_mode": {
    "name": "ipython",
    "version": 3
   },
   "file_extension": ".py",
   "mimetype": "text/x-python",
   "name": "python",
   "nbconvert_exporter": "python",
   "pygments_lexer": "ipython3",
   "version": "3.12.9"
  }
 },
 "nbformat": 4,
 "nbformat_minor": 5
}
