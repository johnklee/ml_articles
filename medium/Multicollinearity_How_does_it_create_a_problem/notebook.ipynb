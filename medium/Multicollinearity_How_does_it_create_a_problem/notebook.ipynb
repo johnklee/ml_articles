{
 "cells": [
  {
   "cell_type": "markdown",
   "metadata": {},
   "source": [
    "## <font color='darkblue'>Preface</font>\n",
    "([article source](https://towardsdatascience.com/https-towardsdatascience-com-multicollinearity-how-does-it-create-a-problem-72956a49058)) **<font size='3ptx'>Understand in-depth how multicollinearity can affect the model’s performance</font>**\n",
    "\n",
    "During regression analysis, we check many things before actually performing regression forehand. We check if the independent values are correlated, we check if the feature we are selecting is significant or not and also if there are any missing values and if yes then how to handle them.\n",
    "\n",
    "First, let’s understand what Dependent and Independent Variables are\n",
    "* **Dependent variables**, the value which has to be predicted during regression. Also, known as the target value.\n",
    "* **Independent variables**, the values which we have to use to predict the target value or dependent variable. Also, known as predictors.\n",
    "\n",
    "If we have an equation like this\n",
    "```python\n",
    "y = w*x\n",
    "```\n",
    "Here, `y` is the dependent variable and `w` is the independent variable.\n",
    "\n",
    "We’ll see later how it is detected but first, let’s see <font color='darkred'>**what problem will be there if variables are correlated.**</font>"
   ]
  },
  {
   "cell_type": "markdown",
   "metadata": {},
   "source": [
    "## <font color='darkblue'>Understanding Conceptually </font>\n",
    "Imagine you went to watch a rock band’s concert. There are 2 singers, a drummer, a keyboard player, and 2 guitarists. You can easily differentiate between the voice of singers as one is male and other is female but you seem to have trouble telling who is playing better guitar.\n",
    "\n",
    "Both guitarists are playing on the same tone, same pitch and at the same speed. If you could remove one of them then it wouldn’t be a problem since both are almost same.\n",
    "\n",
    "The benefit of removing one guitarist is cost-cutting and fewer members in the team. In machine learning, it is fewer features for training which leads to a less complex model.\n",
    "\n",
    "Here both guitarists are collinear. If one plays the guitar slowly then another guitarist also plays the guitar slowly. If one plays faster then other also plays faster.\n",
    "\n",
    "**If two variables are collinear that means if one variable increases then other also increase and vice-versa.**"
   ]
  },
  {
   "attachments": {},
   "cell_type": "markdown",
   "metadata": {},
   "source": [
    "## <font color='darkblue'>Understanding Mathematically</font>\n",
    "Let’s consider the equation. Consider `A` and `B` are highly correlated:\n",
    "```python\n",
    "y = w1*A + w2*B\n",
    "```\n",
    "\n",
    "The coefficient `w1` is the increase in `y` for every unit increase in `A` while holding `B` constant. But practically it not possible since `A` and `B` are correlated and if `A` increases by unit then `B` also increase by some unit. Hence, we cannot check the individual contribution of either `A` or `B`. The solution is to remove either of them.\n",
    "\n",
    "### <font color='darkgreen'>Checking for Multicollinearity </font>\n",
    "There are 2 ways multicollinearity is usually checked:\n",
    "* Correlation Matrix\n",
    "* Variance Inflation Factor (VIF)\n",
    "\n",
    "**<font color='darkblue'>Correlation Matrix</font>** — A correlation matrix is a table showing correlation coefficients between variables. We are not going to cover how the correlation matrix is calculated. Below is a simple example:"
   ]
  },
  {
   "cell_type": "code",
   "execution_count": 25,
   "metadata": {},
   "outputs": [
    {
     "data": {
      "text/html": [
       "<div>\n",
       "<style scoped>\n",
       "    .dataframe tbody tr th:only-of-type {\n",
       "        vertical-align: middle;\n",
       "    }\n",
       "\n",
       "    .dataframe tbody tr th {\n",
       "        vertical-align: top;\n",
       "    }\n",
       "\n",
       "    .dataframe thead th {\n",
       "        text-align: right;\n",
       "    }\n",
       "</style>\n",
       "<table border=\"1\" class=\"dataframe\">\n",
       "  <thead>\n",
       "    <tr style=\"text-align: right;\">\n",
       "      <th></th>\n",
       "      <th>hp</th>\n",
       "      <th>wt</th>\n",
       "    </tr>\n",
       "  </thead>\n",
       "  <tbody>\n",
       "    <tr>\n",
       "      <th>0</th>\n",
       "      <td>10</td>\n",
       "      <td>9</td>\n",
       "    </tr>\n",
       "    <tr>\n",
       "      <th>1</th>\n",
       "      <td>10</td>\n",
       "      <td>0</td>\n",
       "    </tr>\n",
       "    <tr>\n",
       "      <th>2</th>\n",
       "      <td>4</td>\n",
       "      <td>7</td>\n",
       "    </tr>\n",
       "    <tr>\n",
       "      <th>3</th>\n",
       "      <td>3</td>\n",
       "      <td>7</td>\n",
       "    </tr>\n",
       "    <tr>\n",
       "      <th>4</th>\n",
       "      <td>8</td>\n",
       "      <td>6</td>\n",
       "    </tr>\n",
       "    <tr>\n",
       "      <th>5</th>\n",
       "      <td>9</td>\n",
       "      <td>9</td>\n",
       "    </tr>\n",
       "    <tr>\n",
       "      <th>6</th>\n",
       "      <td>9</td>\n",
       "      <td>10</td>\n",
       "    </tr>\n",
       "    <tr>\n",
       "      <th>7</th>\n",
       "      <td>0</td>\n",
       "      <td>6</td>\n",
       "    </tr>\n",
       "    <tr>\n",
       "      <th>8</th>\n",
       "      <td>8</td>\n",
       "      <td>5</td>\n",
       "    </tr>\n",
       "    <tr>\n",
       "      <th>9</th>\n",
       "      <td>6</td>\n",
       "      <td>7</td>\n",
       "    </tr>\n",
       "  </tbody>\n",
       "</table>\n",
       "</div>"
      ],
      "text/plain": [
       "   hp  wt\n",
       "0  10   9\n",
       "1  10   0\n",
       "2   4   7\n",
       "3   3   7\n",
       "4   8   6\n",
       "5   9   9\n",
       "6   9  10\n",
       "7   0   6\n",
       "8   8   5\n",
       "9   6   7"
      ]
     },
     "execution_count": 25,
     "metadata": {},
     "output_type": "execute_result"
    }
   ],
   "source": [
    "import pandas as pd\n",
    "import seaborn as sns\n",
    "import numpy as np\n",
    "import random\n",
    "import matplotlib.pyplot as plt\n",
    "\n",
    "df = pd.DataFrame([[random.randint(0,10), random.randint(0,10)] for i in range(20)], columns=['hp', 'wt'])\n",
    "df.head(n=10)"
   ]
  },
  {
   "cell_type": "code",
   "execution_count": 28,
   "metadata": {},
   "outputs": [
    {
     "data": {
      "text/html": [
       "<div>\n",
       "<style scoped>\n",
       "    .dataframe tbody tr th:only-of-type {\n",
       "        vertical-align: middle;\n",
       "    }\n",
       "\n",
       "    .dataframe tbody tr th {\n",
       "        vertical-align: top;\n",
       "    }\n",
       "\n",
       "    .dataframe thead th {\n",
       "        text-align: right;\n",
       "    }\n",
       "</style>\n",
       "<table border=\"1\" class=\"dataframe\">\n",
       "  <thead>\n",
       "    <tr style=\"text-align: right;\">\n",
       "      <th></th>\n",
       "      <th>hp</th>\n",
       "      <th>wt</th>\n",
       "      <th>disp</th>\n",
       "      <th>qsec</th>\n",
       "      <th>drat</th>\n",
       "      <th>mpg</th>\n",
       "    </tr>\n",
       "  </thead>\n",
       "  <tbody>\n",
       "    <tr>\n",
       "      <th>0</th>\n",
       "      <td>10</td>\n",
       "      <td>9</td>\n",
       "      <td>3.151936</td>\n",
       "      <td>2.677579</td>\n",
       "      <td>4.030054</td>\n",
       "      <td>-2.069039</td>\n",
       "    </tr>\n",
       "    <tr>\n",
       "      <th>1</th>\n",
       "      <td>10</td>\n",
       "      <td>0</td>\n",
       "      <td>8.551936</td>\n",
       "      <td>9.019888</td>\n",
       "      <td>4.030054</td>\n",
       "      <td>0.630961</td>\n",
       "    </tr>\n",
       "    <tr>\n",
       "      <th>2</th>\n",
       "      <td>4</td>\n",
       "      <td>7</td>\n",
       "      <td>-0.748064</td>\n",
       "      <td>2.244090</td>\n",
       "      <td>1.630054</td>\n",
       "      <td>-1.469039</td>\n",
       "    </tr>\n",
       "    <tr>\n",
       "      <th>3</th>\n",
       "      <td>3</td>\n",
       "      <td>7</td>\n",
       "      <td>-1.598064</td>\n",
       "      <td>0.522797</td>\n",
       "      <td>1.230054</td>\n",
       "      <td>-1.469039</td>\n",
       "    </tr>\n",
       "    <tr>\n",
       "      <th>4</th>\n",
       "      <td>8</td>\n",
       "      <td>6</td>\n",
       "      <td>3.251936</td>\n",
       "      <td>0.290607</td>\n",
       "      <td>3.230054</td>\n",
       "      <td>-1.169039</td>\n",
       "    </tr>\n",
       "  </tbody>\n",
       "</table>\n",
       "</div>"
      ],
      "text/plain": [
       "   hp  wt      disp      qsec      drat       mpg\n",
       "0  10   9  3.151936  2.677579  4.030054 -2.069039\n",
       "1  10   0  8.551936  9.019888  4.030054  0.630961\n",
       "2   4   7 -0.748064  2.244090  1.630054 -1.469039\n",
       "3   3   7 -1.598064  0.522797  1.230054 -1.469039\n",
       "4   8   6  3.251936  0.290607  3.230054 -1.169039"
      ]
     },
     "execution_count": 28,
     "metadata": {},
     "output_type": "execute_result"
    }
   ],
   "source": [
    "df['disp'] = df['hp'] * 0.85 + random.random() * 0.1 + df['wt'] * -0.6\n",
    "df['qsec'] = [random.randint(5,10) * random.random() for i in range(20)]\n",
    "df['drat'] = df['hp'] * 0.4 + random.random() * 0.5\n",
    "df['mpg'] = df['wt'] * -0.3 + random.random() * 2\n",
    "df.head()"
   ]
  },
  {
   "cell_type": "code",
   "execution_count": 41,
   "metadata": {},
   "outputs": [
    {
     "data": {
      "text/plain": [
       "<matplotlib.axes._subplots.AxesSubplot at 0x1f4df93cb70>"
      ]
     },
     "execution_count": 41,
     "metadata": {},
     "output_type": "execute_result"
    },
    {
     "data": {
      "image/png": "[encoded data removed]",
      "text/plain": [
       "<Figure size 504x432 with 2 Axes>"
      ]
     },
     "metadata": {
      "needs_background": "light"
     },
     "output_type": "display_data"
    }
   ],
   "source": [
    "corr = df.corr(method='pearson')\n",
    "mask = np.triu(np.ones_like(corr, dtype=bool))\n",
    "f, ax = plt.subplots(figsize=(7, 6))\n",
    "# Generate a custom diverging colormap\n",
    "cmap = sns.diverging_palette(230, 20, as_cmap=True)\n",
    "\n",
    "sns.heatmap(df.corr(), cmap='RdBu_r', annot=True)"
   ]
  },
  {
   "cell_type": "markdown",
   "metadata": {},
   "source": [
    "From above, I consider values above 0.75 as highly correlated.\n",
    "\n",
    "**<font color='darkblue'>Variance Inflation Factor</font>** — Variance inflation factor (<font color='brown'>VIF</font>) is the quotient of the variance in a model with multiple terms by the variance of a model with one term alone. It quantifies the severity of multicollinearity in an ordinary least squares regression analysis. VIF value can be interpreted as:\n",
    "* 1 (Non-collinear)\n",
    "* 1~5 (Medium collinear)\n",
    "* \\>5 (Highly collinear)\n",
    "\n",
    "The values having VIF value above 5 are removed."
   ]
  },
  {
   "cell_type": "code",
   "execution_count": 44,
   "metadata": {},
   "outputs": [
    {
     "name": "stdout",
     "output_type": "stream",
     "text": [
      "Column=hp: vif=inf\n",
      "Column=wt: vif=inf\n",
      "Column=disp: vif=inf\n",
      "Column=qsec: vif=1.0878335928607825\n",
      "Column=drat: vif=inf\n",
      "Column=mpg: vif=inf\n"
     ]
    }
   ],
   "source": [
    "import statsmodels.formula.api as smf\n",
    "from statsmodels.stats.outliers_influence import variance_inflation_factor\n",
    "\n",
    "vif_list = [variance_inflation_factor(df.values, i) for i in range(df.shape[1])]\n",
    "for vif, cn in zip(vif_list, df.columns):\n",
    "    print(f\"Column={cn}: vif={vif}\")"
   ]
  },
  {
   "cell_type": "markdown",
   "metadata": {},
   "source": [
    "From above, we learned that only column `qsec` don't have issue of Multicollinerity as we expected!"
   ]
  },
  {
   "cell_type": "markdown",
   "metadata": {},
   "source": [
    "## <font color='darkblue'>Conclusion</font>\n",
    "**<font size='3ptx'>Multicollinearity can significantly reduce the model’s performance and we may not know it</font>**. It is a very important step during the feature selection process. Removing multicollinearity can also reduce features which will eventually result in a less complex model and also the overhead to store these features will be less.\n",
    "Make sure to run the multicollinearity test before performing any regression analysis."
   ]
  }
 ],
 "metadata": {
  "kernelspec": {
   "display_name": "Python 3",
   "language": "python",
   "name": "python3"
  },
  "language_info": {
   "codemirror_mode": {
    "name": "ipython",
    "version": 3
   },
   "file_extension": ".py",
   "mimetype": "text/x-python",
   "name": "python",
   "nbconvert_exporter": "python",
   "pygments_lexer": "ipython3",
   "version": "3.6.7"
  }
 },
 "nbformat": 4,
 "nbformat_minor": 2
}
