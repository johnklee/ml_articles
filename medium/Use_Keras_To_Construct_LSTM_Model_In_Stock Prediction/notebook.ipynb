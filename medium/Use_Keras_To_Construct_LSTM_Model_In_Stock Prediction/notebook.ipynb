{
 "cells": [
  {
   "cell_type": "markdown",
   "metadata": {},
   "source": [
    "## <font color='darkblue'>LSTM介紹</font>\n",
    "([article source](https://medium.com/@daniel820710/%E5%88%A9%E7%94%A8keras%E5%BB%BA%E6%A7%8Blstm%E6%A8%A1%E5%9E%8B-%E4%BB%A5stock-prediction-%E7%82%BA%E4%BE%8B-1-67456e0a0b)) 機器學習當中最常利用多層感知器 (<font color='brown'>Multi-Layer Perceptron, MLP</font>) 來訓練模型，如下圖所示:\n",
    "![1.png](images/1.png)\n",
    "<br/>\n",
    "而利用MLP的方式並非能處理所有問題，因為他沒辦法處理時序性的問題，例如：當輸入為 \\[1, 2, 3] 希望輸出4 ，而當輸入 \\[3, 2, 1] 時希望輸出0 ，對於 MLP 來說，\\[1, 2, 3] 和 \\[3, 2, 1] 是相同的，因此無法得到預期的結果。\n",
    "\n",
    "因此有了 <font color='darkblue'>**遞歸神經網絡**</font> (<font color='brown'>Recurrent Neural Network, RNN</font>) 的出現設計如下圖所示。\n",
    "![2.png](images/2.png)\n",
    "<br/>\n",
    "主要概念是將前面輸入得到的權重 (<font color='brown'>Weight</font>) 加入下一層，這樣就可以完成時序性的概念。而 <font color='darkblue'>**長短期記憶**</font> (<font color='brown'>Long Short-Term Memory, LSTM</font>) 是 RNN 的一種，而其不相同之處在於有了更多的控制單元 input gate、output gate、forget gate 示意圖如下:\n",
    "![3.png](images/3.png)\n",
    "[瞭解更多：李弘毅 — ML Lecture 21–1: Recurrent Neural Network (Part I)](https://www.youtube.com/watch?v=xCGidAeyS4M)\n",
    "<br/>"
   ]
  },
  {
   "cell_type": "markdown",
   "metadata": {},
   "source": [
    "## <font color='darkblue'>Stock Prediction為例</font>\n",
    "這邊使用資料集 [**SPY dataset: Yahoo SPDR S&P 500 ETF (SPY)**](https://finance.yahoo.com/quote/SPY/history?period1=728236800&period2=1523462400&interval=1d&filter=history&frequency=1d). 目標：利用過去的資料預測未來幾天的 `Adj Close`.\n",
    "\n",
    "### <font color='darkgreen'>資料建置</font>"
   ]
  },
  {
   "cell_type": "code",
   "execution_count": 7,
   "metadata": {},
   "outputs": [],
   "source": [
    "#!pip install keras\n",
    "#!pip install tensorflow"
   ]
  },
  {
   "cell_type": "code",
   "execution_count": 1,
   "metadata": {},
   "outputs": [],
   "source": [
    "import pandas as pd\n",
    "import numpy as np\n",
    "from keras.models import Sequential\n",
    "from keras.layers import Dense, Dropout, Activation, Flatten, LSTM, TimeDistributed, RepeatVector\n",
    "from keras.layers.normalization import BatchNormalization\n",
    "from keras.optimizers import Adam\n",
    "from keras.callbacks import EarlyStopping, ModelCheckpoint\n",
    "import matplotlib.pyplot as plt\n",
    "%matplotlib inline"
   ]
  },
  {
   "cell_type": "code",
   "execution_count": 10,
   "metadata": {},
   "outputs": [],
   "source": [
    "def readTrain():\n",
    "    raw_df = pd.read_csv(\"../../datas/SPY.csv\")\n",
    "    return raw_df"
   ]
  },
  {
   "cell_type": "code",
   "execution_count": 11,
   "metadata": {},
   "outputs": [
    {
     "data": {
      "text/html": [
       "<div>\n",
       "<style scoped>\n",
       "    .dataframe tbody tr th:only-of-type {\n",
       "        vertical-align: middle;\n",
       "    }\n",
       "\n",
       "    .dataframe tbody tr th {\n",
       "        vertical-align: top;\n",
       "    }\n",
       "\n",
       "    .dataframe thead th {\n",
       "        text-align: right;\n",
       "    }\n",
       "</style>\n",
       "<table border=\"1\" class=\"dataframe\">\n",
       "  <thead>\n",
       "    <tr style=\"text-align: right;\">\n",
       "      <th></th>\n",
       "      <th>Date</th>\n",
       "      <th>Open</th>\n",
       "      <th>High</th>\n",
       "      <th>Low</th>\n",
       "      <th>Close</th>\n",
       "      <th>Adj Close</th>\n",
       "      <th>Volume</th>\n",
       "    </tr>\n",
       "  </thead>\n",
       "  <tbody>\n",
       "    <tr>\n",
       "      <th>0</th>\n",
       "      <td>1993-01-29</td>\n",
       "      <td>43.96875</td>\n",
       "      <td>43.96875</td>\n",
       "      <td>43.75000</td>\n",
       "      <td>43.93750</td>\n",
       "      <td>25.968958</td>\n",
       "      <td>1003200</td>\n",
       "    </tr>\n",
       "    <tr>\n",
       "      <th>1</th>\n",
       "      <td>1993-02-01</td>\n",
       "      <td>43.96875</td>\n",
       "      <td>44.25000</td>\n",
       "      <td>43.96875</td>\n",
       "      <td>44.25000</td>\n",
       "      <td>26.153660</td>\n",
       "      <td>480500</td>\n",
       "    </tr>\n",
       "    <tr>\n",
       "      <th>2</th>\n",
       "      <td>1993-02-02</td>\n",
       "      <td>44.21875</td>\n",
       "      <td>44.37500</td>\n",
       "      <td>44.12500</td>\n",
       "      <td>44.34375</td>\n",
       "      <td>26.209057</td>\n",
       "      <td>201300</td>\n",
       "    </tr>\n",
       "    <tr>\n",
       "      <th>3</th>\n",
       "      <td>1993-02-03</td>\n",
       "      <td>44.40625</td>\n",
       "      <td>44.84375</td>\n",
       "      <td>44.37500</td>\n",
       "      <td>44.81250</td>\n",
       "      <td>26.486113</td>\n",
       "      <td>529400</td>\n",
       "    </tr>\n",
       "    <tr>\n",
       "      <th>4</th>\n",
       "      <td>1993-02-04</td>\n",
       "      <td>44.96875</td>\n",
       "      <td>45.09375</td>\n",
       "      <td>44.46875</td>\n",
       "      <td>45.00000</td>\n",
       "      <td>26.596937</td>\n",
       "      <td>531500</td>\n",
       "    </tr>\n",
       "  </tbody>\n",
       "</table>\n",
       "</div>"
      ],
      "text/plain": [
       "         Date      Open      High       Low     Close  Adj Close   Volume\n",
       "0  1993-01-29  43.96875  43.96875  43.75000  43.93750  25.968958  1003200\n",
       "1  1993-02-01  43.96875  44.25000  43.96875  44.25000  26.153660   480500\n",
       "2  1993-02-02  44.21875  44.37500  44.12500  44.34375  26.209057   201300\n",
       "3  1993-02-03  44.40625  44.84375  44.37500  44.81250  26.486113   529400\n",
       "4  1993-02-04  44.96875  45.09375  44.46875  45.00000  26.596937   531500"
      ]
     },
     "execution_count": 11,
     "metadata": {},
     "output_type": "execute_result"
    }
   ],
   "source": [
    "df = readTrain()\n",
    "df.head()"
   ]
  },
  {
   "cell_type": "code",
   "execution_count": 3,
   "metadata": {},
   "outputs": [
    {
     "data": {
      "text/plain": [
       "(6346, 7)"
      ]
     },
     "execution_count": 3,
     "metadata": {},
     "output_type": "execute_result"
    }
   ],
   "source": [
    "df.shape"
   ]
  },
  {
   "cell_type": "markdown",
   "metadata": {},
   "source": [
    "### <font color='darkgreen'>Augment Features</font>\n",
    "除了基本資料提供的 Features (`Open`, `High`, `Low`, `Close`, `Adj Close`, `Volume`) 以外，還可自己增加 Features，例如星期幾、幾月、幾號等等。"
   ]
  },
  {
   "cell_type": "code",
   "execution_count": 4,
   "metadata": {},
   "outputs": [
    {
     "data": {
      "text/html": [
       "<div>\n",
       "<style scoped>\n",
       "    .dataframe tbody tr th:only-of-type {\n",
       "        vertical-align: middle;\n",
       "    }\n",
       "\n",
       "    .dataframe tbody tr th {\n",
       "        vertical-align: top;\n",
       "    }\n",
       "\n",
       "    .dataframe thead th {\n",
       "        text-align: right;\n",
       "    }\n",
       "</style>\n",
       "<table border=\"1\" class=\"dataframe\">\n",
       "  <thead>\n",
       "    <tr style=\"text-align: right;\">\n",
       "      <th></th>\n",
       "      <th>Date</th>\n",
       "      <th>Open</th>\n",
       "      <th>High</th>\n",
       "      <th>Low</th>\n",
       "      <th>Close</th>\n",
       "      <th>Adj Close</th>\n",
       "      <th>Volume</th>\n",
       "      <th>year</th>\n",
       "      <th>month</th>\n",
       "      <th>date</th>\n",
       "      <th>day</th>\n",
       "    </tr>\n",
       "  </thead>\n",
       "  <tbody>\n",
       "    <tr>\n",
       "      <th>0</th>\n",
       "      <td>1993-01-29</td>\n",
       "      <td>43.96875</td>\n",
       "      <td>43.96875</td>\n",
       "      <td>43.75000</td>\n",
       "      <td>43.93750</td>\n",
       "      <td>25.968958</td>\n",
       "      <td>1003200</td>\n",
       "      <td>1993</td>\n",
       "      <td>1</td>\n",
       "      <td>29</td>\n",
       "      <td>4</td>\n",
       "    </tr>\n",
       "    <tr>\n",
       "      <th>1</th>\n",
       "      <td>1993-02-01</td>\n",
       "      <td>43.96875</td>\n",
       "      <td>44.25000</td>\n",
       "      <td>43.96875</td>\n",
       "      <td>44.25000</td>\n",
       "      <td>26.153660</td>\n",
       "      <td>480500</td>\n",
       "      <td>1993</td>\n",
       "      <td>2</td>\n",
       "      <td>1</td>\n",
       "      <td>0</td>\n",
       "    </tr>\n",
       "    <tr>\n",
       "      <th>2</th>\n",
       "      <td>1993-02-02</td>\n",
       "      <td>44.21875</td>\n",
       "      <td>44.37500</td>\n",
       "      <td>44.12500</td>\n",
       "      <td>44.34375</td>\n",
       "      <td>26.209057</td>\n",
       "      <td>201300</td>\n",
       "      <td>1993</td>\n",
       "      <td>2</td>\n",
       "      <td>2</td>\n",
       "      <td>1</td>\n",
       "    </tr>\n",
       "    <tr>\n",
       "      <th>3</th>\n",
       "      <td>1993-02-03</td>\n",
       "      <td>44.40625</td>\n",
       "      <td>44.84375</td>\n",
       "      <td>44.37500</td>\n",
       "      <td>44.81250</td>\n",
       "      <td>26.486113</td>\n",
       "      <td>529400</td>\n",
       "      <td>1993</td>\n",
       "      <td>2</td>\n",
       "      <td>3</td>\n",
       "      <td>2</td>\n",
       "    </tr>\n",
       "    <tr>\n",
       "      <th>4</th>\n",
       "      <td>1993-02-04</td>\n",
       "      <td>44.96875</td>\n",
       "      <td>45.09375</td>\n",
       "      <td>44.46875</td>\n",
       "      <td>45.00000</td>\n",
       "      <td>26.596937</td>\n",
       "      <td>531500</td>\n",
       "      <td>1993</td>\n",
       "      <td>2</td>\n",
       "      <td>4</td>\n",
       "      <td>3</td>\n",
       "    </tr>\n",
       "  </tbody>\n",
       "</table>\n",
       "</div>"
      ],
      "text/plain": [
       "        Date      Open      High       Low     Close  Adj Close   Volume  \\\n",
       "0 1993-01-29  43.96875  43.96875  43.75000  43.93750  25.968958  1003200   \n",
       "1 1993-02-01  43.96875  44.25000  43.96875  44.25000  26.153660   480500   \n",
       "2 1993-02-02  44.21875  44.37500  44.12500  44.34375  26.209057   201300   \n",
       "3 1993-02-03  44.40625  44.84375  44.37500  44.81250  26.486113   529400   \n",
       "4 1993-02-04  44.96875  45.09375  44.46875  45.00000  26.596937   531500   \n",
       "\n",
       "   year  month  date  day  \n",
       "0  1993      1    29    4  \n",
       "1  1993      2     1    0  \n",
       "2  1993      2     2    1  \n",
       "3  1993      2     3    2  \n",
       "4  1993      2     4    3  "
      ]
     },
     "execution_count": 4,
     "metadata": {},
     "output_type": "execute_result"
    }
   ],
   "source": [
    "def augFeatures(data_df):\n",
    "    data_df[\"Date\"] = pd.to_datetime(data_df[\"Date\"])\n",
    "    data_df[\"year\"] = data_df[\"Date\"].dt.year\n",
    "    data_df[\"month\"] = data_df[\"Date\"].dt.month\n",
    "    data_df[\"date\"] = data_df[\"Date\"].dt.day\n",
    "    data_df[\"day\"] = data_df[\"Date\"].dt.dayofweek\n",
    "    return data_df\n",
    "\n",
    "df = augFeatures(df)\n",
    "df.head()"
   ]
  },
  {
   "cell_type": "markdown",
   "metadata": {},
   "source": [
    "### <font color='darkgreen'>Normalization</font>\n",
    "將所有資料做正規化，而由於 `Date` 是字串非數字，因此先將它 drop 掉:"
   ]
  },
  {
   "cell_type": "code",
   "execution_count": 54,
   "metadata": {},
   "outputs": [
    {
     "data": {
      "text/plain": [
       "Date      2018-04-11\n",
       "Open      285.929993\n",
       "High      286.630005\n",
       "Low       284.500000\n",
       "Close     286.579987\n",
       "Volume     871026300\n",
       "dtype: object"
      ]
     },
     "execution_count": 54,
     "metadata": {},
     "output_type": "execute_result"
    }
   ],
   "source": [
    "np.max(X)"
   ]
  },
  {
   "cell_type": "code",
   "execution_count": 55,
   "metadata": {},
   "outputs": [
    {
     "data": {
      "text/html": [
       "<div>\n",
       "<style scoped>\n",
       "    .dataframe tbody tr th:only-of-type {\n",
       "        vertical-align: middle;\n",
       "    }\n",
       "\n",
       "    .dataframe tbody tr th {\n",
       "        vertical-align: top;\n",
       "    }\n",
       "\n",
       "    .dataframe thead th {\n",
       "        text-align: right;\n",
       "    }\n",
       "</style>\n",
       "<table border=\"1\" class=\"dataframe\">\n",
       "  <thead>\n",
       "    <tr style=\"text-align: right;\">\n",
       "      <th></th>\n",
       "      <th>Open</th>\n",
       "      <th>High</th>\n",
       "      <th>Low</th>\n",
       "      <th>Close</th>\n",
       "      <th>Volume</th>\n",
       "    </tr>\n",
       "  </thead>\n",
       "  <tbody>\n",
       "    <tr>\n",
       "      <th>0</th>\n",
       "      <td>-0.342052</td>\n",
       "      <td>-0.344423</td>\n",
       "      <td>-0.340762</td>\n",
       "      <td>-0.341338</td>\n",
       "      <td>-0.095759</td>\n",
       "    </tr>\n",
       "    <tr>\n",
       "      <th>1</th>\n",
       "      <td>-0.342052</td>\n",
       "      <td>-0.343266</td>\n",
       "      <td>-0.339857</td>\n",
       "      <td>-0.340053</td>\n",
       "      <td>-0.096359</td>\n",
       "    </tr>\n",
       "    <tr>\n",
       "      <th>2</th>\n",
       "      <td>-0.341021</td>\n",
       "      <td>-0.342752</td>\n",
       "      <td>-0.339210</td>\n",
       "      <td>-0.339668</td>\n",
       "      <td>-0.096680</td>\n",
       "    </tr>\n",
       "    <tr>\n",
       "      <th>3</th>\n",
       "      <td>-0.340248</td>\n",
       "      <td>-0.340824</td>\n",
       "      <td>-0.338176</td>\n",
       "      <td>-0.337740</td>\n",
       "      <td>-0.096303</td>\n",
       "    </tr>\n",
       "    <tr>\n",
       "      <th>4</th>\n",
       "      <td>-0.337930</td>\n",
       "      <td>-0.339796</td>\n",
       "      <td>-0.337788</td>\n",
       "      <td>-0.336969</td>\n",
       "      <td>-0.096301</td>\n",
       "    </tr>\n",
       "  </tbody>\n",
       "</table>\n",
       "</div>"
      ],
      "text/plain": [
       "       Open      High       Low     Close    Volume\n",
       "0 -0.342052 -0.344423 -0.340762 -0.341338 -0.095759\n",
       "1 -0.342052 -0.343266 -0.339857 -0.340053 -0.096359\n",
       "2 -0.341021 -0.342752 -0.339210 -0.339668 -0.096680\n",
       "3 -0.340248 -0.340824 -0.338176 -0.337740 -0.096303\n",
       "4 -0.337930 -0.339796 -0.337788 -0.336969 -0.096301"
      ]
     },
     "execution_count": 55,
     "metadata": {},
     "output_type": "execute_result"
    }
   ],
   "source": [
    "def normalize(data_df):\n",
    "    data_df = data_df.drop([\"Date\"], axis=1)\n",
    "    dmean, dmax, dmin = np.mean(data_df), np.max(data_df), np.min(data_df)\n",
    "    data_norm_df = data_df.apply(lambda x: (x - np.mean(x)) / (np.max(x) - np.min(x)))\n",
    "    return data_norm_df, dmean, dmax, dmin\n",
    "\n",
    "y = df[['Adj Close']]\n",
    "X = df[df.columns[~df.columns.isin(['Adj Close'])]]\n",
    "X_norm_df, _, _, _ = normalize(X)\n",
    "X_norm_df.head()"
   ]
  },
  {
   "cell_type": "markdown",
   "metadata": {},
   "source": [
    "### <font color='darkgreen'>Build Training Data</font>\n",
    "因為我們的資料是有時序性的, 因此在切割 train/split 時會選擇前 80% 作為 training data, 後 20% 作為 testing data:"
   ]
  },
  {
   "cell_type": "code",
   "execution_count": 20,
   "metadata": {},
   "outputs": [],
   "source": [
    "def train_test_split(X, Y, rate=0.2):\n",
    "    X_train = X[int(X.shape[0]*rate):]\n",
    "    Y_train = Y[int(Y.shape[0]*rate):]\n",
    "    X_val = X[:int(X.shape[0]*rate)]\n",
    "    Y_val = Y[:int(Y.shape[0]*rate)]\n",
    "    return X_train, Y_train, X_val, Y_val\n",
    "\n",
    "X_train_df, y_train_df, X_test_df, y_test_df = train_test_split(X_norm_df, y)"
   ]
  },
  {
   "cell_type": "code",
   "execution_count": 21,
   "metadata": {},
   "outputs": [
    {
     "data": {
      "text/plain": [
       "(5077, 9)"
      ]
     },
     "execution_count": 21,
     "metadata": {},
     "output_type": "execute_result"
    }
   ],
   "source": [
    "X_train_df.shape"
   ]
  },
  {
   "cell_type": "code",
   "execution_count": 22,
   "metadata": {},
   "outputs": [
    {
     "data": {
      "text/plain": [
       "(1269, 9)"
      ]
     },
     "execution_count": 22,
     "metadata": {},
     "output_type": "execute_result"
    }
   ],
   "source": [
    "X_test_df.shape"
   ]
  },
  {
   "cell_type": "markdown",
   "metadata": {},
   "source": [
    "### <font color='darkgreen'>模型建置</font>\n",
    "![4.png](images/4.png)\n",
    "<br/>\n",
    "比較 `many to one` 以及 `many to many`:\n",
    "![5.png](images/5.png)\n",
    "<br/>\n",
    "\n",
    "* <font size='3ptx'>**Many-to-one**</font>\n",
    "\n",
    "Actually, your code snippet is (almost) an example of this approach:\n",
    "```python\n",
    "model = Sequential()\n",
    "model.add(LSTM(1, input_shape=(timesteps, data_dim)))\n",
    "```\n",
    "* <font size='3ptx'>**Many-to-Many**</font>\n",
    "\n",
    "This is the easiest snippet when the length of the input and output matches the number of recurrent steps:\n",
    "```python\n",
    "model = Sequential()\n",
    "model.add(LSTM(1, input_shape=(timesteps, data_dim), return_sequences=True))\n",
    "```\n",
    "更多有關於 LSTM 的模型種類說明, 可以參考這篇在 Stackoverlfow 的發問 \"[**Many to one and many to many LSTM examples in Keras**](https://stackoverflow.com/questions/43034960/many-to-one-and-many-to-many-lstm-examples-in-keras)\".\n",
    "\n",
    "\n",
    "\n",
    "更多有關於 Keras LSTM Layer, 請參考 [API 文件](https://keras.io/api/layers/recurrent_layers/lstm/), 底下只列出使用到的參數:\n",
    "* **units:** Positive integer, dimensionality of the output space.\n",
    "* **input_length**: Number of sequence you want to train\n",
    "* **input_dim**: The feature dimension of one point in the sequence.\n",
    "* **return_sequences**: Boolean. Whether to return the last output. in the output sequence, or the full sequence. Default: `False`."
   ]
  },
  {
   "cell_type": "markdown",
   "metadata": {},
   "source": [
    "## <font color='darkgreen'>一對一模型</font>"
   ]
  },
  {
   "cell_type": "code",
   "execution_count": 88,
   "metadata": {},
   "outputs": [],
   "source": [
    "def buildOneToOneModel(shape, units=9):\n",
    "    model = Sequential()\n",
    "    model.add(LSTM(units, input_length=shape[1], input_dim=shape[2], return_sequences=True))\n",
    "    # output shape: (1, 1)\n",
    "    model.add(TimeDistributed(Dense(1)))    # or use model.add(Dense(1))\n",
    "    model.compile(loss=\"mse\", optimizer=\"adam\")\n",
    "    model.summary()\n",
    "    return model"
   ]
  },
  {
   "cell_type": "markdown",
   "metadata": {},
   "source": [
    "將過去的天數 `pastDay` 設為1，預測的天數 `futureDay` 也設為1"
   ]
  },
  {
   "cell_type": "code",
   "execution_count": 36,
   "metadata": {},
   "outputs": [],
   "source": [
    "def buildTrain(train, past_day=30, future_day=5):\n",
    "    X_train, Y_train = [], []\n",
    "    for i in range(train.shape[0]-future_day-past_day):\n",
    "        X_train.append(np.array(train.iloc[i:i+past_day]))\n",
    "        Y_train.append(np.array(train.iloc[i+past_day:i+past_day+future_day][\"Adj Close\"]))\n",
    "        \n",
    "    print(f\"past_day={past_day}; future_day={future_day}\")\n",
    "    X_train, Y_train = np.array(X_train), np.array(Y_train) \n",
    "    print(f\"X_train.shape={X_train.shape}; Y_train.shape={Y_train.shape}\")\n",
    "    return np.array(X_train), np.array(Y_train)"
   ]
  },
  {
   "cell_type": "code",
   "execution_count": 92,
   "metadata": {},
   "outputs": [
    {
     "name": "stdout",
     "output_type": "stream",
     "text": [
      "past_day=1; future_day=1\n",
      "X_train.shape=(6344, 1, 10); Y_train.shape=(6344, 1)\n"
     ]
    }
   ],
   "source": [
    "train = readTrain()\n",
    "train_Aug = augFeatures(train)\n",
    "train_norm, dmean, dmax, dmin = normalize(train_Aug)\n",
    "# Change past_day, future_day\n",
    "X_train, Y_train = buildTrain(train_norm, past_day=1, future_day=1)\n",
    "X_train, Y_train, X_val, Y_val = train_test_split(X_train, Y_train, 0.1)\n",
    "\n",
    "# from 2 dimmension to 3 dimension\n",
    "Y_train = Y_train[:,np.newaxis]\n",
    "Y_val = Y_val[:,np.newaxis]"
   ]
  },
  {
   "cell_type": "code",
   "execution_count": 57,
   "metadata": {},
   "outputs": [
    {
     "data": {
      "text/plain": [
       "(5710, 1, 10)"
      ]
     },
     "execution_count": 57,
     "metadata": {},
     "output_type": "execute_result"
    }
   ],
   "source": [
    "X_train.shape"
   ]
  },
  {
   "cell_type": "code",
   "execution_count": 33,
   "metadata": {},
   "outputs": [
    {
     "data": {
      "text/plain": [
       "array([[[-0.29432396, -0.29512489, -0.29233917, -0.29205506,\n",
       "         -0.26349695, -0.09554067, -0.40678853,  0.1352176 ,\n",
       "         -0.42394684,  0.24491806]],\n",
       "\n",
       "       [[-0.29232725, -0.2946107 , -0.29039968, -0.29179804,\n",
       "         -0.26333671, -0.09663491, -0.40678853,  0.1352176 ,\n",
       "         -0.39061351,  0.49491806]]])"
      ]
     },
     "execution_count": 33,
     "metadata": {},
     "output_type": "execute_result"
    }
   ],
   "source": [
    "X_train[:2]"
   ]
  },
  {
   "cell_type": "code",
   "execution_count": 67,
   "metadata": {},
   "outputs": [
    {
     "name": "stdout",
     "output_type": "stream",
     "text": [
      "Model: \"sequential_2\"\n",
      "_________________________________________________________________\n",
      "Layer (type)                 Output Shape              Param #   \n",
      "=================================================================\n",
      "lstm_2 (LSTM)                (None, 1, 9)              720       \n",
      "_________________________________________________________________\n",
      "time_distributed_2 (TimeDist (None, 1, 1)              10        \n",
      "=================================================================\n",
      "Total params: 730\n",
      "Trainable params: 730\n",
      "Non-trainable params: 0\n",
      "_________________________________________________________________\n",
      "Epoch 1/1000\n",
      "45/45 [==============================] - 2s 8ms/step - loss: 0.0480 - val_loss: 0.0658\n",
      "Epoch 2/1000\n",
      "45/45 [==============================] - 0s 1ms/step - loss: 0.0238 - val_loss: 0.0279\n",
      "Epoch 3/1000\n",
      "45/45 [==============================] - 0s 1ms/step - loss: 0.0096 - val_loss: 0.0094\n",
      "Epoch 4/1000\n",
      "45/45 [==============================] - 0s 1ms/step - loss: 0.0022 - val_loss: 0.0028\n",
      "Epoch 5/1000\n",
      "45/45 [==============================] - 0s 1ms/step - loss: 3.0905e-04 - val_loss: 0.0013\n",
      "Epoch 6/1000\n",
      "45/45 [==============================] - 0s 1ms/step - loss: 1.0521e-04 - val_loss: 0.0011\n",
      "Epoch 7/1000\n",
      "45/45 [==============================] - 0s 1ms/step - loss: 8.3330e-05 - val_loss: 0.0011\n",
      "Epoch 8/1000\n",
      "45/45 [==============================] - 0s 1ms/step - loss: 7.3938e-05 - val_loss: 0.0010\n",
      "Epoch 9/1000\n",
      "45/45 [==============================] - 0s 1ms/step - loss: 6.7963e-05 - val_loss: 9.3701e-04\n",
      "Epoch 10/1000\n",
      "45/45 [==============================] - 0s 1ms/step - loss: 6.5457e-05 - val_loss: 8.3824e-04\n",
      "Epoch 11/1000\n",
      "45/45 [==============================] - 0s 1ms/step - loss: 6.3500e-05 - val_loss: 7.8692e-04\n",
      "Epoch 12/1000\n",
      "45/45 [==============================] - 0s 1ms/step - loss: 6.0922e-05 - val_loss: 7.3124e-04\n",
      "Epoch 13/1000\n",
      "45/45 [==============================] - 0s 1ms/step - loss: 6.1271e-05 - val_loss: 6.9021e-04\n",
      "Epoch 14/1000\n",
      "45/45 [==============================] - 0s 1ms/step - loss: 5.7236e-05 - val_loss: 6.5131e-04\n",
      "Epoch 15/1000\n",
      "45/45 [==============================] - 0s 1ms/step - loss: 5.7279e-05 - val_loss: 6.4939e-04\n",
      "Epoch 16/1000\n",
      "45/45 [==============================] - 0s 1ms/step - loss: 5.7765e-05 - val_loss: 6.1096e-04\n",
      "Epoch 17/1000\n",
      "45/45 [==============================] - 0s 1ms/step - loss: 5.5975e-05 - val_loss: 6.1085e-04\n",
      "Epoch 18/1000\n",
      "45/45 [==============================] - 0s 1ms/step - loss: 5.6103e-05 - val_loss: 5.5469e-04\n",
      "Epoch 19/1000\n",
      "45/45 [==============================] - 0s 1ms/step - loss: 5.6503e-05 - val_loss: 5.6011e-04\n",
      "Epoch 20/1000\n",
      "45/45 [==============================] - 0s 1ms/step - loss: 5.6676e-05 - val_loss: 5.4628e-04\n",
      "Epoch 21/1000\n",
      "45/45 [==============================] - 0s 1ms/step - loss: 5.5044e-05 - val_loss: 5.2490e-04\n",
      "Epoch 22/1000\n",
      "45/45 [==============================] - 0s 1ms/step - loss: 5.6970e-05 - val_loss: 5.5052e-04\n",
      "Epoch 23/1000\n",
      "45/45 [==============================] - 0s 1ms/step - loss: 5.5532e-05 - val_loss: 5.2652e-04\n",
      "Epoch 24/1000\n",
      "45/45 [==============================] - 0s 1ms/step - loss: 5.4344e-05 - val_loss: 5.2423e-04\n",
      "Epoch 25/1000\n",
      "45/45 [==============================] - 0s 1ms/step - loss: 5.4404e-05 - val_loss: 5.0444e-04\n",
      "Epoch 26/1000\n",
      "45/45 [==============================] - 0s 1ms/step - loss: 5.4442e-05 - val_loss: 5.0166e-04\n",
      "Epoch 27/1000\n",
      "45/45 [==============================] - 0s 1ms/step - loss: 5.2689e-05 - val_loss: 5.0620e-04\n",
      "Epoch 28/1000\n",
      "45/45 [==============================] - 0s 1ms/step - loss: 5.4480e-05 - val_loss: 4.8183e-04\n",
      "Epoch 29/1000\n",
      "45/45 [==============================] - 0s 1ms/step - loss: 5.4374e-05 - val_loss: 4.9716e-04\n",
      "Epoch 30/1000\n",
      "45/45 [==============================] - 0s 1ms/step - loss: 5.2226e-05 - val_loss: 5.0333e-04\n",
      "Epoch 31/1000\n",
      "45/45 [==============================] - 0s 1ms/step - loss: 5.3256e-05 - val_loss: 5.0109e-04\n",
      "Epoch 32/1000\n",
      "45/45 [==============================] - 0s 2ms/step - loss: 5.1131e-05 - val_loss: 4.7912e-04\n",
      "Epoch 33/1000\n",
      "45/45 [==============================] - 0s 1ms/step - loss: 5.2119e-05 - val_loss: 4.6499e-04\n",
      "Epoch 34/1000\n",
      "45/45 [==============================] - 0s 1ms/step - loss: 5.2408e-05 - val_loss: 4.5911e-04\n",
      "Epoch 35/1000\n",
      "45/45 [==============================] - 0s 1ms/step - loss: 5.1526e-05 - val_loss: 4.6393e-04\n",
      "Epoch 36/1000\n",
      "45/45 [==============================] - 0s 1ms/step - loss: 5.0716e-05 - val_loss: 4.4484e-04\n",
      "Epoch 37/1000\n",
      "45/45 [==============================] - 0s 1ms/step - loss: 5.1752e-05 - val_loss: 4.5026e-04\n",
      "Epoch 38/1000\n",
      "45/45 [==============================] - 0s 1ms/step - loss: 4.8971e-05 - val_loss: 4.2564e-04\n",
      "Epoch 39/1000\n",
      "45/45 [==============================] - 0s 1ms/step - loss: 4.9818e-05 - val_loss: 4.3637e-04\n",
      "Epoch 40/1000\n",
      "45/45 [==============================] - 0s 1ms/step - loss: 5.1319e-05 - val_loss: 4.3542e-04\n",
      "Epoch 41/1000\n",
      "45/45 [==============================] - 0s 1ms/step - loss: 5.1222e-05 - val_loss: 4.2569e-04\n",
      "Epoch 42/1000\n",
      "45/45 [==============================] - 0s 1ms/step - loss: 4.8967e-05 - val_loss: 4.4222e-04\n",
      "Epoch 43/1000\n",
      "45/45 [==============================] - 0s 1ms/step - loss: 4.8871e-05 - val_loss: 4.3363e-04\n",
      "Epoch 44/1000\n",
      "45/45 [==============================] - 0s 1ms/step - loss: 4.9404e-05 - val_loss: 3.8056e-04\n",
      "Epoch 45/1000\n",
      "45/45 [==============================] - 0s 1ms/step - loss: 4.9587e-05 - val_loss: 4.0930e-04\n",
      "Epoch 46/1000\n",
      "45/45 [==============================] - 0s 1ms/step - loss: 4.8774e-05 - val_loss: 4.1543e-04\n",
      "Epoch 47/1000\n",
      "45/45 [==============================] - 0s 1ms/step - loss: 4.8173e-05 - val_loss: 3.9068e-04\n",
      "Epoch 48/1000\n",
      "45/45 [==============================] - 0s 1ms/step - loss: 4.7736e-05 - val_loss: 3.9705e-04\n",
      "Epoch 49/1000\n",
      "45/45 [==============================] - 0s 1ms/step - loss: 4.6304e-05 - val_loss: 3.8372e-04\n",
      "Epoch 50/1000\n",
      "45/45 [==============================] - 0s 1ms/step - loss: 4.6597e-05 - val_loss: 3.6443e-04\n",
      "Epoch 51/1000\n",
      "45/45 [==============================] - 0s 1ms/step - loss: 4.7082e-05 - val_loss: 3.5630e-04\n",
      "Epoch 52/1000\n",
      "45/45 [==============================] - 0s 1ms/step - loss: 4.7066e-05 - val_loss: 3.5198e-04\n",
      "Epoch 53/1000\n",
      "45/45 [==============================] - 0s 1ms/step - loss: 4.7682e-05 - val_loss: 3.7320e-04\n",
      "Epoch 54/1000\n",
      "45/45 [==============================] - 0s 1ms/step - loss: 4.5735e-05 - val_loss: 3.7230e-04\n",
      "Epoch 55/1000\n",
      "45/45 [==============================] - 0s 1ms/step - loss: 4.6270e-05 - val_loss: 3.5555e-04\n",
      "Epoch 56/1000\n",
      "45/45 [==============================] - 0s 1ms/step - loss: 4.5857e-05 - val_loss: 3.6308e-04\n",
      "Epoch 57/1000\n",
      "45/45 [==============================] - 0s 1ms/step - loss: 4.6613e-05 - val_loss: 3.5589e-04\n",
      "Epoch 58/1000\n",
      "45/45 [==============================] - 0s 1ms/step - loss: 4.5229e-05 - val_loss: 3.2898e-04\n",
      "Epoch 59/1000\n",
      "45/45 [==============================] - 0s 1ms/step - loss: 4.4263e-05 - val_loss: 3.1021e-04\n",
      "Epoch 60/1000\n",
      "45/45 [==============================] - 0s 1ms/step - loss: 4.5401e-05 - val_loss: 3.0382e-04\n",
      "Epoch 61/1000\n",
      "45/45 [==============================] - 0s 1ms/step - loss: 4.5780e-05 - val_loss: 3.1554e-04\n",
      "Epoch 62/1000\n",
      "45/45 [==============================] - 0s 1ms/step - loss: 4.4284e-05 - val_loss: 3.2604e-04\n",
      "Epoch 63/1000\n",
      "45/45 [==============================] - 0s 1ms/step - loss: 4.3383e-05 - val_loss: 3.0004e-04\n",
      "Epoch 64/1000\n",
      "45/45 [==============================] - 0s 1ms/step - loss: 4.5168e-05 - val_loss: 3.3025e-04\n",
      "Epoch 65/1000\n",
      "45/45 [==============================] - 0s 2ms/step - loss: 4.3229e-05 - val_loss: 2.8855e-04\n",
      "Epoch 66/1000\n",
      "45/45 [==============================] - 0s 1ms/step - loss: 4.2924e-05 - val_loss: 3.1655e-04\n",
      "Epoch 67/1000\n",
      "45/45 [==============================] - 0s 1ms/step - loss: 4.5036e-05 - val_loss: 3.1445e-04\n",
      "Epoch 68/1000\n",
      "45/45 [==============================] - 0s 1ms/step - loss: 4.3750e-05 - val_loss: 2.8547e-04\n",
      "Epoch 69/1000\n",
      "45/45 [==============================] - 0s 1ms/step - loss: 4.3184e-05 - val_loss: 2.7769e-04\n",
      "Epoch 70/1000\n",
      "45/45 [==============================] - 0s 1ms/step - loss: 4.2285e-05 - val_loss: 3.1871e-04\n",
      "Epoch 71/1000\n"
     ]
    },
    {
     "name": "stdout",
     "output_type": "stream",
     "text": [
      "45/45 [==============================] - 0s 1ms/step - loss: 4.3913e-05 - val_loss: 2.5996e-04\n",
      "Epoch 72/1000\n",
      "45/45 [==============================] - 0s 1ms/step - loss: 4.2270e-05 - val_loss: 2.5121e-04\n",
      "Epoch 73/1000\n",
      "45/45 [==============================] - 0s 1ms/step - loss: 4.0751e-05 - val_loss: 2.5096e-04\n",
      "Epoch 74/1000\n",
      "45/45 [==============================] - 0s 1ms/step - loss: 4.1625e-05 - val_loss: 2.7283e-04\n",
      "Epoch 75/1000\n",
      "45/45 [==============================] - 0s 1ms/step - loss: 4.0329e-05 - val_loss: 2.6246e-04\n",
      "Epoch 76/1000\n",
      "45/45 [==============================] - 0s 1ms/step - loss: 3.9975e-05 - val_loss: 2.4159e-04\n",
      "Epoch 77/1000\n",
      "45/45 [==============================] - 0s 1ms/step - loss: 4.0061e-05 - val_loss: 2.6205e-04\n",
      "Epoch 78/1000\n",
      "45/45 [==============================] - 0s 1ms/step - loss: 4.0308e-05 - val_loss: 2.4051e-04\n",
      "Epoch 79/1000\n",
      "45/45 [==============================] - 0s 1ms/step - loss: 4.1312e-05 - val_loss: 2.7457e-04\n",
      "Epoch 80/1000\n",
      "45/45 [==============================] - 0s 1ms/step - loss: 3.9058e-05 - val_loss: 2.3708e-04\n",
      "Epoch 81/1000\n",
      "45/45 [==============================] - 0s 1ms/step - loss: 3.8775e-05 - val_loss: 2.4170e-04\n",
      "Epoch 82/1000\n",
      "45/45 [==============================] - 0s 1ms/step - loss: 4.1259e-05 - val_loss: 2.1303e-04\n",
      "Epoch 83/1000\n",
      "45/45 [==============================] - 0s 1ms/step - loss: 3.9215e-05 - val_loss: 2.4669e-04\n",
      "Epoch 84/1000\n",
      "45/45 [==============================] - 0s 1ms/step - loss: 3.9427e-05 - val_loss: 2.1925e-04\n",
      "Epoch 85/1000\n",
      "45/45 [==============================] - 0s 1ms/step - loss: 3.9711e-05 - val_loss: 2.3704e-04\n",
      "Epoch 86/1000\n",
      "45/45 [==============================] - 0s 1ms/step - loss: 3.7888e-05 - val_loss: 2.3977e-04\n",
      "Epoch 87/1000\n",
      "45/45 [==============================] - 0s 1ms/step - loss: 3.7293e-05 - val_loss: 2.0797e-04\n",
      "Epoch 88/1000\n",
      "45/45 [==============================] - 0s 1ms/step - loss: 3.9217e-05 - val_loss: 2.1511e-04\n",
      "Epoch 89/1000\n",
      "45/45 [==============================] - 0s 1ms/step - loss: 3.5278e-05 - val_loss: 2.3146e-04\n",
      "Epoch 90/1000\n",
      "45/45 [==============================] - 0s 1ms/step - loss: 3.6004e-05 - val_loss: 1.8384e-04\n",
      "Epoch 91/1000\n",
      "45/45 [==============================] - 0s 1ms/step - loss: 3.8845e-05 - val_loss: 1.5766e-04\n",
      "Epoch 92/1000\n",
      "45/45 [==============================] - 0s 1ms/step - loss: 3.7442e-05 - val_loss: 2.1151e-04\n",
      "Epoch 93/1000\n",
      "45/45 [==============================] - 0s 2ms/step - loss: 3.6921e-05 - val_loss: 1.9450e-04\n",
      "Epoch 94/1000\n",
      "45/45 [==============================] - 0s 2ms/step - loss: 3.8186e-05 - val_loss: 1.6790e-04\n",
      "Epoch 95/1000\n",
      "45/45 [==============================] - 0s 1ms/step - loss: 3.7338e-05 - val_loss: 2.1147e-04\n",
      "Epoch 96/1000\n",
      "45/45 [==============================] - 0s 1ms/step - loss: 3.6727e-05 - val_loss: 1.6207e-04\n",
      "Epoch 97/1000\n",
      "45/45 [==============================] - 0s 1ms/step - loss: 3.5762e-05 - val_loss: 1.8259e-04\n",
      "Epoch 98/1000\n",
      "45/45 [==============================] - 0s 1ms/step - loss: 3.4290e-05 - val_loss: 1.8097e-04\n",
      "Epoch 99/1000\n",
      "45/45 [==============================] - 0s 1ms/step - loss: 3.4425e-05 - val_loss: 1.6728e-04\n",
      "Epoch 100/1000\n",
      "45/45 [==============================] - 0s 1ms/step - loss: 3.5488e-05 - val_loss: 1.5145e-04\n",
      "Epoch 101/1000\n",
      "45/45 [==============================] - 0s 1ms/step - loss: 3.5833e-05 - val_loss: 1.2523e-04\n",
      "Epoch 102/1000\n",
      "45/45 [==============================] - 0s 1ms/step - loss: 3.5134e-05 - val_loss: 1.6228e-04\n",
      "Epoch 103/1000\n",
      "45/45 [==============================] - 0s 1ms/step - loss: 3.4914e-05 - val_loss: 1.7025e-04\n",
      "Epoch 104/1000\n",
      "45/45 [==============================] - 0s 1ms/step - loss: 3.2837e-05 - val_loss: 1.8772e-04\n",
      "Epoch 105/1000\n",
      "45/45 [==============================] - 0s 1ms/step - loss: 3.5921e-05 - val_loss: 1.5538e-04\n",
      "Epoch 106/1000\n",
      "45/45 [==============================] - 0s 1ms/step - loss: 3.4021e-05 - val_loss: 1.5844e-04\n",
      "Epoch 107/1000\n",
      "45/45 [==============================] - 0s 1ms/step - loss: 3.3446e-05 - val_loss: 1.8181e-04\n",
      "Epoch 108/1000\n",
      "45/45 [==============================] - 0s 1ms/step - loss: 3.3704e-05 - val_loss: 1.5912e-04\n",
      "Epoch 109/1000\n",
      "45/45 [==============================] - 0s 1ms/step - loss: 3.6033e-05 - val_loss: 1.3747e-04\n",
      "Epoch 110/1000\n",
      "45/45 [==============================] - 0s 1ms/step - loss: 3.1841e-05 - val_loss: 1.6573e-04\n",
      "Epoch 111/1000\n",
      "45/45 [==============================] - 0s 1ms/step - loss: 3.4112e-05 - val_loss: 1.2057e-04\n",
      "Epoch 112/1000\n",
      "45/45 [==============================] - 0s 1ms/step - loss: 3.3706e-05 - val_loss: 1.2969e-04\n",
      "Epoch 113/1000\n",
      "45/45 [==============================] - 0s 1ms/step - loss: 3.4359e-05 - val_loss: 9.6796e-05\n",
      "Epoch 114/1000\n",
      "45/45 [==============================] - 0s 1ms/step - loss: 3.2990e-05 - val_loss: 9.4639e-05\n",
      "Epoch 115/1000\n",
      "45/45 [==============================] - 0s 1ms/step - loss: 3.1789e-05 - val_loss: 1.1883e-04\n",
      "Epoch 116/1000\n",
      "45/45 [==============================] - 0s 1ms/step - loss: 3.1102e-05 - val_loss: 1.3180e-04\n",
      "Epoch 117/1000\n",
      "45/45 [==============================] - 0s 1ms/step - loss: 3.2000e-05 - val_loss: 1.3650e-04\n",
      "Epoch 118/1000\n",
      "45/45 [==============================] - 0s 1ms/step - loss: 3.3116e-05 - val_loss: 9.6442e-05\n",
      "Epoch 119/1000\n",
      "45/45 [==============================] - 0s 1ms/step - loss: 3.1409e-05 - val_loss: 9.3928e-05\n",
      "Epoch 120/1000\n",
      "45/45 [==============================] - 0s 1ms/step - loss: 3.0731e-05 - val_loss: 1.1676e-04\n",
      "Epoch 121/1000\n",
      "45/45 [==============================] - 0s 2ms/step - loss: 2.9777e-05 - val_loss: 1.1608e-04\n",
      "Epoch 122/1000\n",
      "45/45 [==============================] - 0s 2ms/step - loss: 3.1240e-05 - val_loss: 1.2731e-04\n",
      "Epoch 123/1000\n",
      "45/45 [==============================] - 0s 2ms/step - loss: 3.0640e-05 - val_loss: 6.9808e-05\n",
      "Epoch 124/1000\n",
      "45/45 [==============================] - 0s 1ms/step - loss: 3.2007e-05 - val_loss: 8.0459e-05\n",
      "Epoch 125/1000\n",
      "45/45 [==============================] - 0s 1ms/step - loss: 3.0023e-05 - val_loss: 1.0957e-04\n",
      "Epoch 126/1000\n",
      "45/45 [==============================] - 0s 1ms/step - loss: 2.8899e-05 - val_loss: 1.0014e-04\n",
      "Epoch 127/1000\n",
      "45/45 [==============================] - 0s 1ms/step - loss: 2.9577e-05 - val_loss: 1.1932e-04\n",
      "Epoch 128/1000\n",
      "45/45 [==============================] - 0s 1ms/step - loss: 3.2210e-05 - val_loss: 9.7169e-05\n",
      "Epoch 129/1000\n",
      "45/45 [==============================] - 0s 1ms/step - loss: 3.0155e-05 - val_loss: 1.0281e-04\n",
      "Epoch 130/1000\n",
      "45/45 [==============================] - 0s 1ms/step - loss: 2.9527e-05 - val_loss: 8.0964e-05\n",
      "Epoch 131/1000\n",
      "45/45 [==============================] - 0s 1ms/step - loss: 2.9133e-05 - val_loss: 1.0451e-04\n",
      "Epoch 132/1000\n",
      "45/45 [==============================] - 0s 1ms/step - loss: 3.1155e-05 - val_loss: 8.5772e-05\n",
      "Epoch 133/1000\n",
      "45/45 [==============================] - 0s 1ms/step - loss: 3.0464e-05 - val_loss: 6.5428e-05\n",
      "Epoch 134/1000\n",
      "45/45 [==============================] - 0s 1ms/step - loss: 3.0266e-05 - val_loss: 7.4655e-05\n",
      "Epoch 135/1000\n",
      "45/45 [==============================] - 0s 1ms/step - loss: 2.9045e-05 - val_loss: 7.4173e-05\n",
      "Epoch 136/1000\n",
      "45/45 [==============================] - 0s 1ms/step - loss: 3.2175e-05 - val_loss: 8.3058e-05\n",
      "Epoch 137/1000\n",
      "45/45 [==============================] - 0s 1ms/step - loss: 2.9730e-05 - val_loss: 8.2051e-05\n",
      "Epoch 138/1000\n",
      "45/45 [==============================] - 0s 1ms/step - loss: 3.0885e-05 - val_loss: 7.7473e-05\n",
      "Epoch 139/1000\n",
      "45/45 [==============================] - 0s 1ms/step - loss: 2.9350e-05 - val_loss: 1.0806e-04\n",
      "Epoch 140/1000\n",
      "45/45 [==============================] - 0s 1ms/step - loss: 2.8064e-05 - val_loss: 1.1912e-04\n",
      "Epoch 141/1000\n",
      "45/45 [==============================] - 0s 1ms/step - loss: 2.9536e-05 - val_loss: 6.8066e-05\n",
      "Epoch 142/1000\n",
      "45/45 [==============================] - 0s 1ms/step - loss: 2.7609e-05 - val_loss: 8.6700e-05\n",
      "Epoch 143/1000\n",
      "45/45 [==============================] - 0s 1ms/step - loss: 2.9804e-05 - val_loss: 5.7464e-05\n",
      "Epoch 144/1000\n",
      "45/45 [==============================] - 0s 1ms/step - loss: 2.6900e-05 - val_loss: 5.8023e-05\n",
      "Epoch 145/1000\n",
      "45/45 [==============================] - 0s 1ms/step - loss: 2.8184e-05 - val_loss: 7.9660e-05\n"
     ]
    },
    {
     "name": "stdout",
     "output_type": "stream",
     "text": [
      "Epoch 146/1000\n",
      "45/45 [==============================] - 0s 1ms/step - loss: 2.6670e-05 - val_loss: 6.7310e-05\n",
      "Epoch 147/1000\n",
      "45/45 [==============================] - 0s 1ms/step - loss: 2.7698e-05 - val_loss: 5.8225e-05\n",
      "Epoch 148/1000\n",
      "45/45 [==============================] - 0s 1ms/step - loss: 2.6707e-05 - val_loss: 5.1292e-05\n",
      "Epoch 149/1000\n",
      "45/45 [==============================] - 0s 1ms/step - loss: 2.8385e-05 - val_loss: 5.4460e-05\n",
      "Epoch 150/1000\n",
      "45/45 [==============================] - 0s 1ms/step - loss: 2.7630e-05 - val_loss: 7.2561e-05\n",
      "Epoch 151/1000\n",
      "45/45 [==============================] - 0s 1ms/step - loss: 2.8140e-05 - val_loss: 5.5896e-05\n",
      "Epoch 152/1000\n",
      "45/45 [==============================] - 0s 1ms/step - loss: 2.9290e-05 - val_loss: 6.1939e-05\n",
      "Epoch 153/1000\n",
      "45/45 [==============================] - 0s 1ms/step - loss: 2.8650e-05 - val_loss: 4.9757e-05\n",
      "Epoch 154/1000\n",
      "45/45 [==============================] - 0s 1ms/step - loss: 2.7237e-05 - val_loss: 5.7250e-05\n",
      "Epoch 155/1000\n",
      "45/45 [==============================] - 0s 1ms/step - loss: 2.7995e-05 - val_loss: 6.9161e-05\n",
      "Epoch 156/1000\n",
      "45/45 [==============================] - 0s 1ms/step - loss: 2.8435e-05 - val_loss: 9.3991e-05\n",
      "Epoch 157/1000\n",
      "45/45 [==============================] - 0s 1ms/step - loss: 2.5847e-05 - val_loss: 3.4512e-05\n",
      "Epoch 158/1000\n",
      "45/45 [==============================] - 0s 1ms/step - loss: 2.6506e-05 - val_loss: 5.9055e-05\n",
      "Epoch 159/1000\n",
      "45/45 [==============================] - 0s 1ms/step - loss: 2.8609e-05 - val_loss: 4.0099e-05\n",
      "Epoch 160/1000\n",
      "45/45 [==============================] - 0s 1ms/step - loss: 2.7317e-05 - val_loss: 5.8493e-05\n",
      "Epoch 161/1000\n",
      "45/45 [==============================] - 0s 1ms/step - loss: 2.6828e-05 - val_loss: 5.8063e-05\n",
      "Epoch 162/1000\n",
      "45/45 [==============================] - 0s 1ms/step - loss: 2.7078e-05 - val_loss: 3.5379e-05\n",
      "Epoch 163/1000\n",
      "45/45 [==============================] - 0s 1ms/step - loss: 2.7422e-05 - val_loss: 5.2836e-05\n",
      "Epoch 164/1000\n",
      "45/45 [==============================] - 0s 1ms/step - loss: 2.7474e-05 - val_loss: 6.5282e-05\n",
      "Epoch 165/1000\n",
      "45/45 [==============================] - 0s 1ms/step - loss: 2.6324e-05 - val_loss: 3.8069e-05\n",
      "Epoch 166/1000\n",
      "45/45 [==============================] - 0s 1ms/step - loss: 2.6944e-05 - val_loss: 3.6946e-05\n",
      "Epoch 167/1000\n",
      "45/45 [==============================] - 0s 2ms/step - loss: 2.6341e-05 - val_loss: 5.1350e-05\n",
      "Epoch 168/1000\n",
      "45/45 [==============================] - 0s 1ms/step - loss: 2.7484e-05 - val_loss: 3.3048e-05\n",
      "Epoch 169/1000\n",
      "45/45 [==============================] - 0s 1ms/step - loss: 2.7282e-05 - val_loss: 2.6266e-05\n",
      "Epoch 170/1000\n",
      "45/45 [==============================] - 0s 1ms/step - loss: 2.6626e-05 - val_loss: 3.8599e-05\n",
      "Epoch 171/1000\n",
      "45/45 [==============================] - 0s 1ms/step - loss: 2.6294e-05 - val_loss: 4.2504e-05\n",
      "Epoch 172/1000\n",
      "45/45 [==============================] - 0s 1ms/step - loss: 2.6649e-05 - val_loss: 1.7964e-05\n",
      "Epoch 173/1000\n",
      "45/45 [==============================] - 0s 1ms/step - loss: 2.5640e-05 - val_loss: 4.2861e-05\n",
      "Epoch 174/1000\n",
      "45/45 [==============================] - 0s 1ms/step - loss: 2.7738e-05 - val_loss: 1.6649e-05\n",
      "Epoch 175/1000\n",
      "45/45 [==============================] - 0s 1ms/step - loss: 2.5609e-05 - val_loss: 2.9241e-05\n",
      "Epoch 176/1000\n",
      "45/45 [==============================] - 0s 1ms/step - loss: 2.7376e-05 - val_loss: 3.5676e-05\n",
      "Epoch 177/1000\n",
      "45/45 [==============================] - 0s 1ms/step - loss: 2.5129e-05 - val_loss: 3.9563e-05\n",
      "Epoch 178/1000\n",
      "45/45 [==============================] - 0s 1ms/step - loss: 2.7088e-05 - val_loss: 3.7925e-05\n",
      "Epoch 179/1000\n",
      "45/45 [==============================] - 0s 1ms/step - loss: 2.6578e-05 - val_loss: 2.3056e-05\n",
      "Epoch 180/1000\n",
      "45/45 [==============================] - 0s 1ms/step - loss: 2.6324e-05 - val_loss: 2.5966e-05\n",
      "Epoch 181/1000\n",
      "45/45 [==============================] - 0s 1ms/step - loss: 2.6057e-05 - val_loss: 3.1732e-05\n",
      "Epoch 182/1000\n",
      "45/45 [==============================] - 0s 1ms/step - loss: 2.6933e-05 - val_loss: 2.7867e-05\n",
      "Epoch 183/1000\n",
      "45/45 [==============================] - 0s 1ms/step - loss: 2.8168e-05 - val_loss: 3.2230e-05\n",
      "Epoch 184/1000\n",
      "45/45 [==============================] - 0s 1ms/step - loss: 2.5449e-05 - val_loss: 2.7739e-05\n",
      "Epoch 185/1000\n",
      "45/45 [==============================] - 0s 1ms/step - loss: 2.5402e-05 - val_loss: 3.2063e-05\n",
      "Epoch 186/1000\n",
      "45/45 [==============================] - 0s 1ms/step - loss: 2.5972e-05 - val_loss: 3.3982e-05\n",
      "Epoch 187/1000\n",
      "45/45 [==============================] - 0s 1ms/step - loss: 2.5608e-05 - val_loss: 2.9486e-05\n",
      "Epoch 188/1000\n",
      "45/45 [==============================] - 0s 1ms/step - loss: 2.5506e-05 - val_loss: 9.0346e-06\n",
      "Epoch 189/1000\n",
      "45/45 [==============================] - 0s 1ms/step - loss: 2.6315e-05 - val_loss: 2.6304e-05\n",
      "Epoch 190/1000\n",
      "45/45 [==============================] - 0s 1ms/step - loss: 2.5496e-05 - val_loss: 2.5368e-05\n",
      "Epoch 191/1000\n",
      "45/45 [==============================] - 0s 1ms/step - loss: 2.4435e-05 - val_loss: 1.2641e-05\n",
      "Epoch 192/1000\n",
      "45/45 [==============================] - 0s 1ms/step - loss: 2.5674e-05 - val_loss: 2.8456e-05\n",
      "Epoch 193/1000\n",
      "45/45 [==============================] - 0s 1ms/step - loss: 2.6234e-05 - val_loss: 3.1347e-05\n",
      "Epoch 194/1000\n",
      "45/45 [==============================] - 0s 1ms/step - loss: 2.6534e-05 - val_loss: 2.5061e-05\n",
      "Epoch 195/1000\n",
      "45/45 [==============================] - 0s 1ms/step - loss: 2.6593e-05 - val_loss: 1.5478e-05\n",
      "Epoch 196/1000\n",
      "45/45 [==============================] - 0s 1ms/step - loss: 2.7222e-05 - val_loss: 1.6674e-05\n",
      "Epoch 197/1000\n",
      "45/45 [==============================] - 0s 1ms/step - loss: 2.4962e-05 - val_loss: 2.4185e-05\n",
      "Epoch 198/1000\n",
      "45/45 [==============================] - 0s 1ms/step - loss: 2.5265e-05 - val_loss: 1.8002e-05\n",
      "Epoch 199/1000\n",
      "45/45 [==============================] - 0s 1ms/step - loss: 2.4645e-05 - val_loss: 1.5525e-05\n",
      "Epoch 200/1000\n",
      "45/45 [==============================] - 0s 1ms/step - loss: 2.5046e-05 - val_loss: 1.5634e-05\n",
      "Epoch 201/1000\n",
      "45/45 [==============================] - 0s 1ms/step - loss: 2.4241e-05 - val_loss: 1.3682e-05\n",
      "Epoch 202/1000\n",
      "45/45 [==============================] - 0s 1ms/step - loss: 2.5930e-05 - val_loss: 2.5406e-05\n",
      "Epoch 203/1000\n",
      "45/45 [==============================] - 0s 1ms/step - loss: 2.7599e-05 - val_loss: 2.3506e-05\n",
      "Epoch 204/1000\n",
      "45/45 [==============================] - 0s 1ms/step - loss: 2.5784e-05 - val_loss: 1.8227e-05\n",
      "Epoch 205/1000\n",
      "45/45 [==============================] - 0s 1ms/step - loss: 2.4925e-05 - val_loss: 1.5120e-05\n",
      "Epoch 206/1000\n",
      "45/45 [==============================] - 0s 1ms/step - loss: 2.5148e-05 - val_loss: 1.2211e-05\n",
      "Epoch 207/1000\n",
      "45/45 [==============================] - 0s 1ms/step - loss: 2.5430e-05 - val_loss: 9.6825e-06\n",
      "Epoch 208/1000\n",
      "45/45 [==============================] - 0s 1ms/step - loss: 2.4812e-05 - val_loss: 1.1967e-05\n",
      "Epoch 209/1000\n",
      "45/45 [==============================] - 0s 1ms/step - loss: 2.4034e-05 - val_loss: 1.2467e-05\n",
      "Epoch 210/1000\n",
      "45/45 [==============================] - 0s 1ms/step - loss: 2.6710e-05 - val_loss: 1.3728e-05\n",
      "Epoch 211/1000\n",
      "45/45 [==============================] - 0s 1ms/step - loss: 2.5134e-05 - val_loss: 1.2657e-05\n",
      "Epoch 00211: early stopping\n"
     ]
    },
    {
     "data": {
      "text/plain": [
       "<tensorflow.python.keras.callbacks.History at 0x178b53100a0>"
      ]
     },
     "execution_count": 67,
     "metadata": {},
     "output_type": "execute_result"
    }
   ],
   "source": [
    "model = buildOneToOneModel(X_train.shape)\n",
    "callback = EarlyStopping(monitor=\"loss\", patience=10, verbose=1, mode=\"auto\")\n",
    "model.fit(X_train, Y_train, epochs=1000, batch_size=128, validation_data=(X_val, Y_val), callbacks=[callback])"
   ]
  },
  {
   "cell_type": "markdown",
   "metadata": {},
   "source": [
    "Let's draw the real `Adj Close` and predicted `Adj Close`:"
   ]
  },
  {
   "cell_type": "code",
   "execution_count": 68,
   "metadata": {},
   "outputs": [],
   "source": [
    "y_pred = model.predict(X_train)"
   ]
  },
  {
   "cell_type": "code",
   "execution_count": 69,
   "metadata": {},
   "outputs": [
    {
     "data": {
      "text/plain": [
       "(5710, 1)"
      ]
     },
     "execution_count": 69,
     "metadata": {},
     "output_type": "execute_result"
    }
   ],
   "source": [
    "y_pred = y_pred.reshape((y_pred.shape[0], 1))\n",
    "y_real = Y_train.reshape((Y_train.shape[0], 1))\n",
    "y_pred.shape"
   ]
  },
  {
   "cell_type": "code",
   "execution_count": 70,
   "metadata": {},
   "outputs": [],
   "source": [
    "ymean, ymax, ymin = dmean['Adj Close'], dmax['Adj Close'], dmin['Adj Close']\n",
    "y_pred_denorm = list(map(lambda e: e * (ymax-ymin) + ymean, y_pred))\n",
    "y_real_denorm = list(map(lambda e: e * (ymax-ymin) + ymean, y_real))"
   ]
  },
  {
   "cell_type": "code",
   "execution_count": 71,
   "metadata": {},
   "outputs": [
    {
     "data": {
      "image/png": "[encoded data removed]",
      "text/plain": [
       "<Figure size 1008x432 with 1 Axes>"
      ]
     },
     "metadata": {
      "needs_background": "light"
     },
     "output_type": "display_data"
    }
   ],
   "source": [
    "import matplotlib.pyplot as plt\n",
    "plt.rcParams[\"figure.figsize\"]=14,6\n",
    "\n",
    "x_axis = list(range(len(y_pred)))\n",
    "plt.plot(x_axis, y_pred_denorm, color='r')\n",
    "plt.plot(x_axis, y_real_denorm, color='b')\n",
    "plt.xlabel('Time')\n",
    "plt.ylabel('Normalized Adj Close')\n",
    "plt.show()"
   ]
  },
  {
   "cell_type": "markdown",
   "metadata": {},
   "source": [
    "在訓練資料看起來相當好, 來看一下在測試資料上面的表現:"
   ]
  },
  {
   "cell_type": "code",
   "execution_count": 73,
   "metadata": {},
   "outputs": [],
   "source": [
    "y_test = model.predict(X_val)"
   ]
  },
  {
   "cell_type": "code",
   "execution_count": 75,
   "metadata": {},
   "outputs": [
    {
     "data": {
      "text/plain": [
       "(634, 1)"
      ]
     },
     "execution_count": 75,
     "metadata": {},
     "output_type": "execute_result"
    }
   ],
   "source": [
    "y_test = y_test.reshape((y_test.shape[0], 1))\n",
    "y_val = Y_val.reshape((Y_val.shape[0], 1))\n",
    "y_test.shape"
   ]
  },
  {
   "cell_type": "code",
   "execution_count": 76,
   "metadata": {},
   "outputs": [],
   "source": [
    "y_test_denorm = list(map(lambda e: e * (ymax-ymin) + ymean, y_test))\n",
    "y_val_denorm = list(map(lambda e: e * (ymax-ymin) + ymean, y_val))"
   ]
  },
  {
   "cell_type": "code",
   "execution_count": 79,
   "metadata": {},
   "outputs": [
    {
     "data": {
      "image/png": "[encoded data removed]",
      "text/plain": [
       "<Figure size 1008x432 with 1 Axes>"
      ]
     },
     "metadata": {
      "needs_background": "light"
     },
     "output_type": "display_data"
    }
   ],
   "source": [
    "x_axis = list(range(len(y_test_denorm)))\n",
    "plt.plot(x_axis, y_test_denorm, color='r', label='prediction')\n",
    "plt.plot(x_axis, y_val_denorm, color='b', label='real')\n",
    "plt.xlabel('Time')\n",
    "plt.ylabel('Normalized Adj Close')\n",
    "plt.legend()\n",
    "plt.show()"
   ]
  },
  {
   "cell_type": "markdown",
   "metadata": {},
   "source": [
    "### <font color='darkgreen'>多對一模型</font>\n",
    "LSTM 參數 <font color='blue'>return_sequences=False</font> ，未設定時 default 也為 False，而且不可使用 TimeDistribution"
   ]
  },
  {
   "cell_type": "code",
   "execution_count": 89,
   "metadata": {},
   "outputs": [],
   "source": [
    "def buildManyToOneModel(shape, units=10):\n",
    "    model = Sequential()\n",
    "    model.add(LSTM(units, input_length=shape[1], input_dim=shape[2]))\n",
    "    # output shape: (1, 1)\n",
    "    model.add(Dense(1))\n",
    "    model.compile(loss=\"mse\", optimizer=\"adam\")\n",
    "    model.summary()\n",
    "    return model"
   ]
  },
  {
   "cell_type": "markdown",
   "metadata": {},
   "source": [
    "需要設定的有 <font color='blue'>past_day=30</font>、<font color='blue'>future_day=1</font> ，且注意 `Y_train` 的維度需為二維"
   ]
  },
  {
   "cell_type": "code",
   "execution_count": 104,
   "metadata": {},
   "outputs": [
    {
     "name": "stdout",
     "output_type": "stream",
     "text": [
      "past_day=30; future_day=1\n",
      "X_train.shape=(6315, 30, 10); Y_train.shape=(6315, 1)\n"
     ]
    }
   ],
   "source": [
    "train = readTrain()\n",
    "train_Aug = augFeatures(train)\n",
    "train_norm, dmean, dmax, dmin = normalize(train_Aug)\n",
    "# Change past_day, future_day\n",
    "X_train, Y_train = buildTrain(train_norm, past_day=30, future_day=1)\n",
    "\n",
    "# Because no return sequence, Y_train and Y_val shape must be 2 dimension\n",
    "X_train, Y_train, X_val, Y_val = train_test_split(X_train, Y_train, 0.1)"
   ]
  },
  {
   "cell_type": "code",
   "execution_count": 97,
   "metadata": {},
   "outputs": [
    {
     "name": "stdout",
     "output_type": "stream",
     "text": [
      "Model: \"sequential_4\"\n",
      "_________________________________________________________________\n",
      "Layer (type)                 Output Shape              Param #   \n",
      "=================================================================\n",
      "lstm_4 (LSTM)                (None, 10)                840       \n",
      "_________________________________________________________________\n",
      "dense_4 (Dense)              (None, 1)                 11        \n",
      "=================================================================\n",
      "Total params: 851\n",
      "Trainable params: 851\n",
      "Non-trainable params: 0\n",
      "_________________________________________________________________\n"
     ]
    }
   ],
   "source": [
    "model = buildManyToOneModel(X_train.shape)\n",
    "callback = EarlyStopping(monitor=\"loss\", patience=10, verbose=1, mode=\"auto\")"
   ]
  },
  {
   "cell_type": "code",
   "execution_count": 98,
   "metadata": {},
   "outputs": [
    {
     "name": "stdout",
     "output_type": "stream",
     "text": [
      "Epoch 1/1000\n",
      "45/45 [==============================] - 2s 19ms/step - loss: 0.0262 - val_loss: 0.0019\n",
      "Epoch 2/1000\n",
      "45/45 [==============================] - 0s 6ms/step - loss: 0.0016 - val_loss: 0.0021\n",
      "Epoch 3/1000\n",
      "45/45 [==============================] - 0s 5ms/step - loss: 6.2054e-04 - val_loss: 0.0015\n",
      "Epoch 4/1000\n",
      "45/45 [==============================] - 0s 6ms/step - loss: 3.5541e-04 - val_loss: 0.0011\n",
      "Epoch 5/1000\n",
      "45/45 [==============================] - 0s 6ms/step - loss: 2.6018e-04 - val_loss: 8.0352e-04\n",
      "Epoch 6/1000\n",
      "45/45 [==============================] - 0s 6ms/step - loss: 2.0734e-04 - val_loss: 7.1352e-04\n",
      "Epoch 7/1000\n",
      "45/45 [==============================] - 0s 6ms/step - loss: 1.7490e-04 - val_loss: 5.7760e-04\n",
      "Epoch 8/1000\n",
      "45/45 [==============================] - 0s 5ms/step - loss: 1.6083e-04 - val_loss: 4.5405e-04\n",
      "Epoch 9/1000\n",
      "45/45 [==============================] - 0s 6ms/step - loss: 1.3395e-04 - val_loss: 3.6483e-04\n",
      "Epoch 10/1000\n",
      "45/45 [==============================] - 0s 5ms/step - loss: 1.2854e-04 - val_loss: 3.3442e-04\n",
      "Epoch 11/1000\n",
      "45/45 [==============================] - 0s 6ms/step - loss: 1.1526e-04 - val_loss: 2.5288e-04\n",
      "Epoch 12/1000\n",
      "45/45 [==============================] - 0s 6ms/step - loss: 1.1443e-04 - val_loss: 2.1158e-04\n",
      "Epoch 13/1000\n",
      "45/45 [==============================] - 0s 5ms/step - loss: 1.0479e-04 - val_loss: 2.1632e-04\n",
      "Epoch 14/1000\n",
      "45/45 [==============================] - 0s 5ms/step - loss: 9.6434e-05 - val_loss: 1.8883e-04\n",
      "Epoch 15/1000\n",
      "45/45 [==============================] - 0s 6ms/step - loss: 8.8958e-05 - val_loss: 1.3566e-04\n",
      "Epoch 16/1000\n",
      "45/45 [==============================] - 0s 6ms/step - loss: 8.4364e-05 - val_loss: 1.4821e-04\n",
      "Epoch 17/1000\n",
      "45/45 [==============================] - 0s 6ms/step - loss: 8.6686e-05 - val_loss: 1.4265e-04\n",
      "Epoch 18/1000\n",
      "45/45 [==============================] - 0s 6ms/step - loss: 7.4372e-05 - val_loss: 1.2131e-04\n",
      "Epoch 19/1000\n",
      "45/45 [==============================] - 0s 6ms/step - loss: 7.4495e-05 - val_loss: 1.1203e-04\n",
      "Epoch 20/1000\n",
      "45/45 [==============================] - 0s 6ms/step - loss: 6.9342e-05 - val_loss: 1.0160e-04\n",
      "Epoch 21/1000\n",
      "45/45 [==============================] - 0s 6ms/step - loss: 6.9195e-05 - val_loss: 1.0326e-04\n",
      "Epoch 22/1000\n",
      "45/45 [==============================] - 0s 5ms/step - loss: 6.7007e-05 - val_loss: 9.7709e-05\n",
      "Epoch 23/1000\n",
      "45/45 [==============================] - 0s 6ms/step - loss: 6.4307e-05 - val_loss: 8.3194e-05\n",
      "Epoch 24/1000\n",
      "45/45 [==============================] - 0s 6ms/step - loss: 5.9999e-05 - val_loss: 9.7437e-05\n",
      "Epoch 25/1000\n",
      "45/45 [==============================] - 0s 5ms/step - loss: 6.5096e-05 - val_loss: 6.0823e-05\n",
      "Epoch 26/1000\n",
      "45/45 [==============================] - 0s 5ms/step - loss: 5.5609e-05 - val_loss: 7.9580e-05\n",
      "Epoch 27/1000\n",
      "45/45 [==============================] - 0s 5ms/step - loss: 5.5111e-05 - val_loss: 6.7822e-05\n",
      "Epoch 28/1000\n",
      "45/45 [==============================] - 0s 5ms/step - loss: 5.3055e-05 - val_loss: 7.4270e-05\n",
      "Epoch 29/1000\n",
      "45/45 [==============================] - 0s 6ms/step - loss: 5.4659e-05 - val_loss: 7.7481e-05\n",
      "Epoch 30/1000\n",
      "45/45 [==============================] - 0s 7ms/step - loss: 5.4731e-05 - val_loss: 8.2572e-05\n",
      "Epoch 31/1000\n",
      "45/45 [==============================] - 0s 6ms/step - loss: 5.4429e-05 - val_loss: 6.6566e-05\n",
      "Epoch 32/1000\n",
      "45/45 [==============================] - 0s 6ms/step - loss: 5.6851e-05 - val_loss: 7.4164e-05\n",
      "Epoch 33/1000\n",
      "45/45 [==============================] - 0s 6ms/step - loss: 5.1386e-05 - val_loss: 6.3432e-05\n",
      "Epoch 34/1000\n",
      "45/45 [==============================] - 0s 6ms/step - loss: 5.1507e-05 - val_loss: 5.0792e-05\n",
      "Epoch 35/1000\n",
      "45/45 [==============================] - 0s 5ms/step - loss: 5.0020e-05 - val_loss: 6.0263e-05\n",
      "Epoch 36/1000\n",
      "45/45 [==============================] - 0s 6ms/step - loss: 4.8859e-05 - val_loss: 3.1420e-05\n",
      "Epoch 37/1000\n",
      "45/45 [==============================] - 0s 6ms/step - loss: 4.8673e-05 - val_loss: 3.9426e-05\n",
      "Epoch 38/1000\n",
      "45/45 [==============================] - 0s 6ms/step - loss: 4.4255e-05 - val_loss: 6.2980e-05\n",
      "Epoch 39/1000\n",
      "45/45 [==============================] - 0s 6ms/step - loss: 4.9642e-05 - val_loss: 4.9155e-05\n",
      "Epoch 40/1000\n",
      "45/45 [==============================] - 0s 6ms/step - loss: 4.6049e-05 - val_loss: 3.8193e-05\n",
      "Epoch 41/1000\n",
      "45/45 [==============================] - 0s 7ms/step - loss: 4.9443e-05 - val_loss: 3.5177e-05\n",
      "Epoch 42/1000\n",
      "45/45 [==============================] - 0s 7ms/step - loss: 4.7414e-05 - val_loss: 4.7110e-05\n",
      "Epoch 43/1000\n",
      "45/45 [==============================] - 0s 8ms/step - loss: 4.6458e-05 - val_loss: 3.6983e-05\n",
      "Epoch 44/1000\n",
      "45/45 [==============================] - 0s 9ms/step - loss: 4.4612e-05 - val_loss: 6.1412e-05\n",
      "Epoch 45/1000\n",
      "45/45 [==============================] - 0s 9ms/step - loss: 4.7641e-05 - val_loss: 3.7359e-05\n",
      "Epoch 46/1000\n",
      "45/45 [==============================] - 0s 9ms/step - loss: 4.5422e-05 - val_loss: 3.6146e-05\n",
      "Epoch 47/1000\n",
      "45/45 [==============================] - 0s 9ms/step - loss: 4.5174e-05 - val_loss: 5.0609e-05\n",
      "Epoch 48/1000\n",
      "45/45 [==============================] - 0s 8ms/step - loss: 4.3118e-05 - val_loss: 5.4715e-05\n",
      "Epoch 49/1000\n",
      "45/45 [==============================] - 0s 8ms/step - loss: 4.7365e-05 - val_loss: 1.5773e-05\n",
      "Epoch 50/1000\n",
      "45/45 [==============================] - 0s 8ms/step - loss: 4.5920e-05 - val_loss: 2.4570e-05\n",
      "Epoch 51/1000\n",
      "45/45 [==============================] - 0s 9ms/step - loss: 4.3719e-05 - val_loss: 2.4046e-05\n",
      "Epoch 52/1000\n",
      "45/45 [==============================] - 0s 8ms/step - loss: 4.3163e-05 - val_loss: 3.6236e-05\n",
      "Epoch 53/1000\n",
      "45/45 [==============================] - 0s 8ms/step - loss: 4.3253e-05 - val_loss: 4.7259e-05\n",
      "Epoch 54/1000\n",
      "45/45 [==============================] - 0s 8ms/step - loss: 4.2701e-05 - val_loss: 3.2435e-05\n",
      "Epoch 55/1000\n",
      "45/45 [==============================] - 0s 8ms/step - loss: 4.3904e-05 - val_loss: 3.3964e-05\n",
      "Epoch 56/1000\n",
      "45/45 [==============================] - 0s 9ms/step - loss: 4.3817e-05 - val_loss: 4.2492e-05\n",
      "Epoch 57/1000\n",
      "45/45 [==============================] - 0s 9ms/step - loss: 4.5900e-05 - val_loss: 3.8954e-05\n",
      "Epoch 58/1000\n",
      "45/45 [==============================] - 0s 8ms/step - loss: 4.4470e-05 - val_loss: 4.2771e-05\n",
      "Epoch 59/1000\n",
      "45/45 [==============================] - 0s 8ms/step - loss: 4.3380e-05 - val_loss: 3.5063e-05\n",
      "Epoch 60/1000\n",
      "45/45 [==============================] - 0s 8ms/step - loss: 4.3056e-05 - val_loss: 2.5892e-05\n",
      "Epoch 61/1000\n",
      "45/45 [==============================] - 0s 8ms/step - loss: 4.3298e-05 - val_loss: 2.4054e-05\n",
      "Epoch 62/1000\n",
      "45/45 [==============================] - 0s 8ms/step - loss: 4.4617e-05 - val_loss: 3.8627e-05\n",
      "Epoch 63/1000\n",
      "45/45 [==============================] - 0s 8ms/step - loss: 4.3435e-05 - val_loss: 2.4071e-05\n",
      "Epoch 64/1000\n",
      "45/45 [==============================] - 0s 8ms/step - loss: 4.1305e-05 - val_loss: 2.6503e-05\n",
      "Epoch 65/1000\n",
      "45/45 [==============================] - 0s 8ms/step - loss: 4.0734e-05 - val_loss: 2.5768e-05\n",
      "Epoch 66/1000\n",
      "45/45 [==============================] - 0s 8ms/step - loss: 4.0789e-05 - val_loss: 1.9863e-05\n",
      "Epoch 67/1000\n",
      "45/45 [==============================] - 0s 8ms/step - loss: 4.0732e-05 - val_loss: 4.0244e-05\n",
      "Epoch 68/1000\n",
      "45/45 [==============================] - 0s 8ms/step - loss: 4.1906e-05 - val_loss: 2.1175e-05\n",
      "Epoch 69/1000\n",
      "45/45 [==============================] - 0s 8ms/step - loss: 4.0870e-05 - val_loss: 2.4638e-05\n",
      "Epoch 70/1000\n",
      "45/45 [==============================] - 0s 8ms/step - loss: 4.2354e-05 - val_loss: 2.5163e-05\n",
      "Epoch 71/1000\n",
      "45/45 [==============================] - 0s 8ms/step - loss: 3.9681e-05 - val_loss: 1.4342e-05\n",
      "Epoch 72/1000\n",
      "45/45 [==============================] - 0s 8ms/step - loss: 4.0372e-05 - val_loss: 2.5313e-05\n",
      "Epoch 73/1000\n",
      "45/45 [==============================] - 0s 8ms/step - loss: 4.4318e-05 - val_loss: 3.1115e-05\n",
      "Epoch 74/1000\n",
      "45/45 [==============================] - 0s 8ms/step - loss: 4.3046e-05 - val_loss: 1.7882e-05\n",
      "Epoch 75/1000\n",
      "45/45 [==============================] - 0s 8ms/step - loss: 4.3508e-05 - val_loss: 2.0509e-05\n",
      "Epoch 76/1000\n"
     ]
    },
    {
     "name": "stdout",
     "output_type": "stream",
     "text": [
      "45/45 [==============================] - 0s 8ms/step - loss: 4.2681e-05 - val_loss: 2.3346e-05\n",
      "Epoch 77/1000\n",
      "45/45 [==============================] - 0s 7ms/step - loss: 3.9792e-05 - val_loss: 1.2081e-05\n",
      "Epoch 78/1000\n",
      "45/45 [==============================] - 0s 7ms/step - loss: 4.2017e-05 - val_loss: 2.1448e-05\n",
      "Epoch 79/1000\n",
      "45/45 [==============================] - 0s 8ms/step - loss: 4.0800e-05 - val_loss: 1.0754e-05\n",
      "Epoch 80/1000\n",
      "45/45 [==============================] - 0s 8ms/step - loss: 4.0887e-05 - val_loss: 1.0309e-05\n",
      "Epoch 81/1000\n",
      "45/45 [==============================] - 0s 7ms/step - loss: 4.0217e-05 - val_loss: 1.6947e-05\n",
      "Epoch 82/1000\n",
      "45/45 [==============================] - 0s 8ms/step - loss: 4.0632e-05 - val_loss: 2.6344e-05\n",
      "Epoch 83/1000\n",
      "45/45 [==============================] - 0s 8ms/step - loss: 3.9816e-05 - val_loss: 1.7275e-05\n",
      "Epoch 84/1000\n",
      "45/45 [==============================] - 0s 8ms/step - loss: 4.4249e-05 - val_loss: 8.1780e-06\n",
      "Epoch 85/1000\n",
      "45/45 [==============================] - 0s 8ms/step - loss: 4.1049e-05 - val_loss: 1.6094e-05\n",
      "Epoch 86/1000\n",
      "45/45 [==============================] - 0s 7ms/step - loss: 4.1661e-05 - val_loss: 1.8942e-05\n",
      "Epoch 87/1000\n",
      "45/45 [==============================] - 0s 8ms/step - loss: 4.2149e-05 - val_loss: 1.2433e-05\n",
      "Epoch 88/1000\n",
      "45/45 [==============================] - 0s 8ms/step - loss: 3.9041e-05 - val_loss: 1.7051e-05\n",
      "Epoch 89/1000\n",
      "45/45 [==============================] - 0s 7ms/step - loss: 3.9049e-05 - val_loss: 1.2715e-05\n",
      "Epoch 90/1000\n",
      "45/45 [==============================] - 0s 7ms/step - loss: 4.2005e-05 - val_loss: 1.1481e-05\n",
      "Epoch 91/1000\n",
      "45/45 [==============================] - 0s 7ms/step - loss: 4.0515e-05 - val_loss: 1.3373e-05\n",
      "Epoch 92/1000\n",
      "45/45 [==============================] - 0s 7ms/step - loss: 3.6794e-05 - val_loss: 2.4617e-05\n",
      "Epoch 93/1000\n",
      "45/45 [==============================] - 0s 7ms/step - loss: 3.9700e-05 - val_loss: 2.0973e-05\n",
      "Epoch 94/1000\n",
      "45/45 [==============================] - 0s 7ms/step - loss: 3.7200e-05 - val_loss: 7.2361e-06\n",
      "Epoch 95/1000\n",
      "45/45 [==============================] - 0s 7ms/step - loss: 3.8661e-05 - val_loss: 1.1164e-05\n",
      "Epoch 96/1000\n",
      "45/45 [==============================] - 0s 7ms/step - loss: 3.8142e-05 - val_loss: 1.6503e-05\n",
      "Epoch 97/1000\n",
      "45/45 [==============================] - 0s 7ms/step - loss: 3.6179e-05 - val_loss: 1.3836e-05\n",
      "Epoch 98/1000\n",
      "45/45 [==============================] - 0s 8ms/step - loss: 3.8878e-05 - val_loss: 1.4108e-05\n",
      "Epoch 99/1000\n",
      "45/45 [==============================] - 0s 8ms/step - loss: 3.8691e-05 - val_loss: 1.5588e-05\n",
      "Epoch 100/1000\n",
      "45/45 [==============================] - 0s 8ms/step - loss: 3.9506e-05 - val_loss: 3.9748e-05\n",
      "Epoch 101/1000\n",
      "45/45 [==============================] - 0s 8ms/step - loss: 3.8519e-05 - val_loss: 1.2943e-05\n",
      "Epoch 102/1000\n",
      "45/45 [==============================] - 0s 8ms/step - loss: 3.7925e-05 - val_loss: 2.5947e-05\n",
      "Epoch 103/1000\n",
      "45/45 [==============================] - 0s 7ms/step - loss: 3.5564e-05 - val_loss: 2.0192e-05\n",
      "Epoch 104/1000\n",
      "45/45 [==============================] - 0s 7ms/step - loss: 4.2017e-05 - val_loss: 2.2296e-05\n",
      "Epoch 105/1000\n",
      "45/45 [==============================] - 0s 8ms/step - loss: 4.1673e-05 - val_loss: 6.5462e-06\n",
      "Epoch 106/1000\n",
      "45/45 [==============================] - 0s 7ms/step - loss: 3.9139e-05 - val_loss: 3.4485e-05\n",
      "Epoch 107/1000\n",
      "45/45 [==============================] - 0s 7ms/step - loss: 3.9167e-05 - val_loss: 1.9746e-05\n",
      "Epoch 108/1000\n",
      "45/45 [==============================] - 0s 7ms/step - loss: 3.5906e-05 - val_loss: 2.3839e-05\n",
      "Epoch 109/1000\n",
      "45/45 [==============================] - 0s 7ms/step - loss: 3.8508e-05 - val_loss: 1.1771e-05\n",
      "Epoch 00109: early stopping\n"
     ]
    },
    {
     "data": {
      "text/plain": [
       "<tensorflow.python.keras.callbacks.History at 0x178be2d6190>"
      ]
     },
     "execution_count": 98,
     "metadata": {},
     "output_type": "execute_result"
    }
   ],
   "source": [
    "model.fit(X_train, Y_train, epochs=1000, batch_size=128, validation_data=(X_val, Y_val), callbacks=[callback])"
   ]
  },
  {
   "cell_type": "code",
   "execution_count": 103,
   "metadata": {},
   "outputs": [],
   "source": [
    "y_pred = model.predict(X_train)"
   ]
  },
  {
   "cell_type": "code",
   "execution_count": 105,
   "metadata": {},
   "outputs": [
    {
     "data": {
      "text/plain": [
       "(5684, 1)"
      ]
     },
     "execution_count": 105,
     "metadata": {},
     "output_type": "execute_result"
    }
   ],
   "source": [
    "Y_train.shape"
   ]
  },
  {
   "cell_type": "markdown",
   "metadata": {},
   "source": [
    "來看一下模型在訓練資料上的表現:"
   ]
  },
  {
   "cell_type": "code",
   "execution_count": 106,
   "metadata": {},
   "outputs": [],
   "source": [
    "ymean, ymax, ymin = dmean['Adj Close'], dmax['Adj Close'], dmin['Adj Close']\n",
    "y_pred_denorm = list(map(lambda e: e * (ymax-ymin) + ymean, y_pred))\n",
    "y_real_denorm = list(map(lambda e: e * (ymax-ymin) + ymean, Y_train))"
   ]
  },
  {
   "cell_type": "code",
   "execution_count": 107,
   "metadata": {},
   "outputs": [
    {
     "data": {
      "image/png": "[encoded data removed]",
      "text/plain": [
       "<Figure size 1008x432 with 1 Axes>"
      ]
     },
     "metadata": {
      "needs_background": "light"
     },
     "output_type": "display_data"
    }
   ],
   "source": [
    "x_axis = list(range(len(y_pred_denorm)))\n",
    "plt.plot(x_axis, y_pred_denorm, color='r', label='prediction')\n",
    "plt.plot(x_axis, y_real_denorm, color='b', label='real')\n",
    "plt.xlabel('Time')\n",
    "plt.ylabel('Normalized Adj Close')\n",
    "plt.legend()\n",
    "plt.show()"
   ]
  },
  {
   "cell_type": "markdown",
   "metadata": {},
   "source": [
    "接著來看測試資料上的結果:"
   ]
  },
  {
   "cell_type": "code",
   "execution_count": 108,
   "metadata": {},
   "outputs": [],
   "source": [
    "y_pred = model.predict(X_val)"
   ]
  },
  {
   "cell_type": "code",
   "execution_count": 109,
   "metadata": {},
   "outputs": [],
   "source": [
    "y_pred_denorm = list(map(lambda e: e * (ymax-ymin) + ymean, y_pred))\n",
    "y_real_denorm = list(map(lambda e: e * (ymax-ymin) + ymean, Y_val))"
   ]
  },
  {
   "cell_type": "code",
   "execution_count": 110,
   "metadata": {},
   "outputs": [
    {
     "data": {
      "image/png": "[encoded data removed]",
      "text/plain": [
       "<Figure size 1008x432 with 1 Axes>"
      ]
     },
     "metadata": {
      "needs_background": "light"
     },
     "output_type": "display_data"
    }
   ],
   "source": [
    "x_axis = list(range(len(y_pred_denorm)))\n",
    "plt.plot(x_axis, y_pred_denorm, color='r', label='prediction')\n",
    "plt.plot(x_axis, y_real_denorm, color='b', label='real')\n",
    "plt.xlabel('Time')\n",
    "plt.ylabel('Normalized Adj Close')\n",
    "plt.legend()\n",
    "plt.show()"
   ]
  },
  {
   "cell_type": "markdown",
   "metadata": {},
   "source": [
    "## <font color='darkblue'>Supplement</font>\n",
    "* [ML Lecture 21-1: Recurrent Neural Network (Part I)](https://www.youtube.com/watch?v=xCGidAeyS4M)\n",
    "* [Keras 關於 LSTM 的 units 參數，還是不理解?](https://www.zhihu.com/question/64470274)\n",
    "* [Stackoverflow - Many to one and many to many LSTM examples in Keras](https://stackoverflow.com/questions/43034960/many-to-one-and-many-to-many-lstm-examples-in-keras)"
   ]
  }
 ],
 "metadata": {
  "kernelspec": {
   "display_name": "Python 3",
   "language": "python",
   "name": "python3"
  },
  "language_info": {
   "codemirror_mode": {
    "name": "ipython",
    "version": 3
   },
   "file_extension": ".py",
   "mimetype": "text/x-python",
   "name": "python",
   "nbconvert_exporter": "python",
   "pygments_lexer": "ipython3",
   "version": "3.8.7"
  }
 },
 "nbformat": 4,
 "nbformat_minor": 4
}
