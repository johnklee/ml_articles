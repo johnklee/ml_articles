{
 "cells": [
  {
   "cell_type": "markdown",
   "metadata": {},
   "source": [
    "## <font color='darkblue'>Motivation</font>\n",
    "([article source](https://towardsdatascience.com/introduction-to-one-way-anova-a-test-to-compare-the-means-between-more-than-two-groups-a656cb53b19c)) <font size='3ptx'>**The Outcomes of Different Groups Look Different, but are they Statistically Different?**</font>\n",
    "\n",
    "**A [t-test](https://en.wikipedia.org/wiki/Student%27s_t-test) is useful to find out whether there is a significant difference between two groups.** However, a t-test cannot be used to compare between three or more independent groups.\n",
    "\n",
    "For example, if you are a product developer, you might want to know whether the change in the percentage of cotton used in the synthetic fiber will result in an increase in the tensile strength of the fiber.\n",
    "\n",
    "To find out, you can conduct a completely randomized experiment with five levels of cotton content and replicate the experiment five times representing five trials. The data might look like the following table:"
   ]
  },
  {
   "cell_type": "code",
   "execution_count": 1,
   "metadata": {},
   "outputs": [],
   "source": [
    "import pandas as pd\n",
    "import numpy as np"
   ]
  },
  {
   "cell_type": "code",
   "execution_count": 2,
   "metadata": {},
   "outputs": [
    {
     "data": {
      "text/html": [
       "<div>\n",
       "<style scoped>\n",
       "    .dataframe tbody tr th:only-of-type {\n",
       "        vertical-align: middle;\n",
       "    }\n",
       "\n",
       "    .dataframe tbody tr th {\n",
       "        vertical-align: top;\n",
       "    }\n",
       "\n",
       "    .dataframe thead th {\n",
       "        text-align: right;\n",
       "    }\n",
       "</style>\n",
       "<table border=\"1\" class=\"dataframe\">\n",
       "  <thead>\n",
       "    <tr style=\"text-align: right;\">\n",
       "      <th></th>\n",
       "      <th>cotton_weight_percent</th>\n",
       "      <th>observation_1</th>\n",
       "      <th>observation_2</th>\n",
       "      <th>observation_3</th>\n",
       "      <th>observation_4</th>\n",
       "      <th>observation_5</th>\n",
       "    </tr>\n",
       "  </thead>\n",
       "  <tbody>\n",
       "    <tr>\n",
       "      <th>0</th>\n",
       "      <td>15</td>\n",
       "      <td>7</td>\n",
       "      <td>12</td>\n",
       "      <td>14</td>\n",
       "      <td>19</td>\n",
       "      <td>7</td>\n",
       "    </tr>\n",
       "    <tr>\n",
       "      <th>1</th>\n",
       "      <td>20</td>\n",
       "      <td>7</td>\n",
       "      <td>17</td>\n",
       "      <td>19</td>\n",
       "      <td>25</td>\n",
       "      <td>10</td>\n",
       "    </tr>\n",
       "    <tr>\n",
       "      <th>2</th>\n",
       "      <td>25</td>\n",
       "      <td>15</td>\n",
       "      <td>12</td>\n",
       "      <td>19</td>\n",
       "      <td>22</td>\n",
       "      <td>11</td>\n",
       "    </tr>\n",
       "    <tr>\n",
       "      <th>3</th>\n",
       "      <td>30</td>\n",
       "      <td>11</td>\n",
       "      <td>18</td>\n",
       "      <td>18</td>\n",
       "      <td>19</td>\n",
       "      <td>15</td>\n",
       "    </tr>\n",
       "    <tr>\n",
       "      <th>4</th>\n",
       "      <td>35</td>\n",
       "      <td>9</td>\n",
       "      <td>18</td>\n",
       "      <td>18</td>\n",
       "      <td>23</td>\n",
       "      <td>11</td>\n",
       "    </tr>\n",
       "  </tbody>\n",
       "</table>\n",
       "</div>"
      ],
      "text/plain": [
       "   cotton_weight_percent  observation_1  observation_2  observation_3  \\\n",
       "0                     15              7             12             14   \n",
       "1                     20              7             17             19   \n",
       "2                     25             15             12             19   \n",
       "3                     30             11             18             18   \n",
       "4                     35              9             18             18   \n",
       "\n",
       "   observation_4  observation_5  \n",
       "0             19              7  \n",
       "1             25             10  \n",
       "2             22             11  \n",
       "3             19             15  \n",
       "4             23             11  "
      ]
     },
     "execution_count": 2,
     "metadata": {},
     "output_type": "execute_result"
    }
   ],
   "source": [
    "exp_df = pd.DataFrame(\n",
    "    [\n",
    "        [15, 7, 12, 14, 19, 7],\n",
    "        [20, 7, 17, 19, 25, 10],\n",
    "        [25,15, 12, 19, 22, 11],\n",
    "        [30,11, 18, 18, 19, 15],\n",
    "        [35, 9, 18, 18, 23, 11]\n",
    "    ],\n",
    "    columns = ['cotton_weight_percent', 'observation_1', 'observation_2', 'observation_3', 'observation_4', 'observation_5']\n",
    ")\n",
    "exp_df"
   ]
  },
  {
   "cell_type": "markdown",
   "metadata": {},
   "source": [
    "By looking at the table alone, it is difficult to know whether there are **<font color='darkblue'>statistically significant differences</font>** between the means of these 5 levels of cotton content. Since there are more than 2 groups being compared, a t-test cannot be used in this case.\n",
    "\n",
    "**Is there a way that you can determine whether any of these means are statistically different from each other and produces meaningful outputs like below?**\n",
    "\n",
    "Pairs of levels of cotton content that are not statistically different:\n",
    "* (15, 20)\n",
    "* (15, 25)\n",
    "* (15, 30)\n",
    "* (20, 30)\n",
    "* (25, 35)\n",
    "* (30, 35)\n",
    "\n",
    "Pairs of levels of cotton content that are statistically different:\n",
    "* (15, 35)\n",
    "* (20, 25)\n",
    "* (20, 35)\n",
    "* (25, 30)\n",
    "\n",
    "That is when [**one-way ANOVA**](https://en.wikipedia.org/wiki/One-way_analysis_of_variance) (one-way analysis of variance) comes in handy."
   ]
  },
  {
   "cell_type": "markdown",
   "metadata": {},
   "source": [
    "## <font color='darkblue'>What is One-Way ANOVA?</font>\n",
    "The one-way ANOVA compares the means of the groups you are interested in and determines whether any of those means are statistically different from each other. A one-way ANOVA has one independent variable while a two-way ANOVA has two independent variables.\n",
    "\n",
    "**Since there is only one independent variable in our problem, which is tensile strength, we will use a one-way ANOVA.** To perform a one-way ANOVA in Python, we will install and use [**statsmodels**](https://www.statsmodels.org/stable/index.html) package:"
   ]
  },
  {
   "cell_type": "code",
   "execution_count": 4,
   "metadata": {},
   "outputs": [],
   "source": [
    "#!pip install statsmodels"
   ]
  },
  {
   "cell_type": "markdown",
   "metadata": {},
   "source": [
    "### <font color='darkgreen'>Create Data</font>\n",
    "We will create data that is shown in the introduction:"
   ]
  },
  {
   "cell_type": "code",
   "execution_count": 5,
   "metadata": {},
   "outputs": [],
   "source": [
    "import pandas as pd\n",
    "import numpy as np\n",
    "from scipy.stats import f_oneway\n",
    "from statsmodels.formula.api import ols\n",
    "from statsmodels.stats.anova import anova_lm\n",
    "from statsmodels.stats.multicomp import MultiComparison\n",
    "from statsmodels.graphics.gofplots import qqplot\n",
    "import warnings\n",
    "from IPython.display import display, Math, Latex, Markdown"
   ]
  },
  {
   "cell_type": "code",
   "execution_count": 8,
   "metadata": {},
   "outputs": [
    {
     "data": {
      "text/html": [
       "<div>\n",
       "<style scoped>\n",
       "    .dataframe tbody tr th:only-of-type {\n",
       "        vertical-align: middle;\n",
       "    }\n",
       "\n",
       "    .dataframe tbody tr th {\n",
       "        vertical-align: top;\n",
       "    }\n",
       "\n",
       "    .dataframe thead th {\n",
       "        text-align: right;\n",
       "    }\n",
       "</style>\n",
       "<table border=\"1\" class=\"dataframe\">\n",
       "  <thead>\n",
       "    <tr style=\"text-align: right;\">\n",
       "      <th></th>\n",
       "      <th>observations</th>\n",
       "      <th>cotton_weight_percent</th>\n",
       "    </tr>\n",
       "  </thead>\n",
       "  <tbody>\n",
       "    <tr>\n",
       "      <th>0</th>\n",
       "      <td>7</td>\n",
       "      <td>15</td>\n",
       "    </tr>\n",
       "    <tr>\n",
       "      <th>20</th>\n",
       "      <td>7</td>\n",
       "      <td>35</td>\n",
       "    </tr>\n",
       "    <tr>\n",
       "      <th>2</th>\n",
       "      <td>15</td>\n",
       "      <td>15</td>\n",
       "    </tr>\n",
       "    <tr>\n",
       "      <th>24</th>\n",
       "      <td>11</td>\n",
       "      <td>35</td>\n",
       "    </tr>\n",
       "    <tr>\n",
       "      <th>21</th>\n",
       "      <td>10</td>\n",
       "      <td>35</td>\n",
       "    </tr>\n",
       "  </tbody>\n",
       "</table>\n",
       "</div>"
      ],
      "text/plain": [
       "    observations  cotton_weight_percent\n",
       "0              7                     15\n",
       "20             7                     35\n",
       "2             15                     15\n",
       "24            11                     35\n",
       "21            10                     35"
      ]
     },
     "execution_count": 8,
     "metadata": {},
     "output_type": "execute_result"
    }
   ],
   "source": [
    "warnings.filterwarnings(\"ignore\")\n",
    "\n",
    "cotton_weight_percent = [15, 15, 15, 15, 15, 20, 20, 20, 20, 20, 25, 25, 25, 25,\n",
    "                        25, 30, 30, 30, 30, 30, 35, 35, 35, 35, 35]\n",
    "observations = [7, 7, 15, 11, 9, 12, 16, 12, 18, 18, 14, 19, 19, 18, 18, 19, 25,\n",
    "              22, 19, 23, 7, 10, 11, 15, 11]\n",
    "\n",
    "df = pd.DataFrame(\n",
    "    {\"observations\": observations, \"cotton_weight_percent\": cotton_weight_percent}\n",
    ")\n",
    "df.sample(n=5)"
   ]
  },
  {
   "cell_type": "markdown",
   "metadata": {},
   "source": [
    "Nice! The data is set up. Now we are ready to use the one-way ANOVA test."
   ]
  },
  {
   "cell_type": "markdown",
   "metadata": {},
   "source": [
    "### <font color='darkgreen'>Compare the Means Between Different Groups</font>\n",
    "**We start with testing whether the means of some levels of cotton content are statistically different.**\n",
    "* **<font color='red'>Null hypothesis</font>**: There is no difference in means\n",
    "* **<font color='green'>Alternate hypothesis</font>**: The means are not all equal\n",
    "\n",
    "Since [anova-lm](https://www.statsmodels.org/stable/generated/statsmodels.stats.anova.anova_lm.html) requires one or more fitted linear models, we start with fitting the <font color='darkblue'>**Ordinary Least Squares**</font> (OLS) model to our data then use it as an argument for [anova-lm](https://www.statsmodels.org/stable/generated/statsmodels.stats.anova.anova_lm.html)."
   ]
  },
  {
   "cell_type": "code",
   "execution_count": 9,
   "metadata": {},
   "outputs": [
    {
     "data": {
      "text/html": [
       "<div>\n",
       "<style scoped>\n",
       "    .dataframe tbody tr th:only-of-type {\n",
       "        vertical-align: middle;\n",
       "    }\n",
       "\n",
       "    .dataframe tbody tr th {\n",
       "        vertical-align: top;\n",
       "    }\n",
       "\n",
       "    .dataframe thead th {\n",
       "        text-align: right;\n",
       "    }\n",
       "</style>\n",
       "<table border=\"1\" class=\"dataframe\">\n",
       "  <thead>\n",
       "    <tr style=\"text-align: right;\">\n",
       "      <th></th>\n",
       "      <th>df</th>\n",
       "      <th>sum_sq</th>\n",
       "      <th>mean_sq</th>\n",
       "      <th>F</th>\n",
       "      <th>PR(&gt;F)</th>\n",
       "    </tr>\n",
       "  </thead>\n",
       "  <tbody>\n",
       "    <tr>\n",
       "      <th>C(cotton_weight_percent)</th>\n",
       "      <td>4.0</td>\n",
       "      <td>475.2</td>\n",
       "      <td>118.80</td>\n",
       "      <td>14.962217</td>\n",
       "      <td>0.000008</td>\n",
       "    </tr>\n",
       "    <tr>\n",
       "      <th>Residual</th>\n",
       "      <td>20.0</td>\n",
       "      <td>158.8</td>\n",
       "      <td>7.94</td>\n",
       "      <td>NaN</td>\n",
       "      <td>NaN</td>\n",
       "    </tr>\n",
       "  </tbody>\n",
       "</table>\n",
       "</div>"
      ],
      "text/plain": [
       "                            df  sum_sq  mean_sq          F    PR(>F)\n",
       "C(cotton_weight_percent)   4.0   475.2   118.80  14.962217  0.000008\n",
       "Residual                  20.0   158.8     7.94        NaN       NaN"
      ]
     },
     "execution_count": 9,
     "metadata": {},
     "output_type": "execute_result"
    }
   ],
   "source": [
    "model = ols(\"observations ~ C(cotton_weight_percent)\", df).fit()\n",
    "res = anova_lm(model, typ=1)\n",
    "res"
   ]
  },
  {
   "cell_type": "markdown",
   "metadata": {},
   "source": [
    "The F-statistic of the model is 14.962217. **The p-value of the model is 8e-06**.\n",
    "\n",
    "**Since the p-value is less than the significance level of 0.05, there is enough evidence to claim that some of the means of different levels of cotton content are statistically different.**\n",
    "\n",
    "Even though we know some of the means are statistically different overall, which specific two levels of cotton content are different? That is when [**Tukey’s HSD**](https://en.wikipedia.org/wiki/Tukey%27s_range_test) (<font color='brown'>Honest Significant Difference</font>) comes in handy."
   ]
  },
  {
   "cell_type": "markdown",
   "metadata": {},
   "source": [
    "### <font color='darkgreen'>Compare Each Pair of Means Using Tukey’s HSD</font>\n",
    "[**Tukey’s HSD**](https://en.wikipedia.org/wiki/Tukey%27s_range_test) finds out which specific groups’ means are different. The test compares all possible pairs of means. Let’s use [**MultiComparision**](https://www.statsmodels.org/stable/generated/statsmodels.sandbox.stats.multicomp.MultiComparison.html) and its [turkeyhsd()](https://www.statsmodels.org/stable/generated/statsmodels.sandbox.stats.multicomp.MultiComparison.tukeyhsd.html#statsmodels.sandbox.stats.multicomp.MultiComparison.tukeyhsd) method to test for multiple comparisons."
   ]
  },
  {
   "cell_type": "code",
   "execution_count": 10,
   "metadata": {},
   "outputs": [
    {
     "data": {
      "text/html": [
       "<table class=\"simpletable\">\n",
       "<caption>Multiple Comparison of Means - Tukey HSD, FWER=0.05</caption>\n",
       "<tr>\n",
       "  <th>group1</th> <th>group2</th> <th>meandiff</th>  <th>p-adj</th>   <th>lower</th>   <th>upper</th>  <th>reject</th>\n",
       "</tr>\n",
       "<tr>\n",
       "    <td>15</td>     <td>20</td>      <td>5.4</td>   <td>0.0463</td>  <td>0.0668</td>  <td>10.7332</td>  <td>True</td> \n",
       "</tr>\n",
       "<tr>\n",
       "    <td>15</td>     <td>25</td>      <td>7.8</td>   <td>0.0024</td>  <td>2.4668</td>  <td>13.1332</td>  <td>True</td> \n",
       "</tr>\n",
       "<tr>\n",
       "    <td>15</td>     <td>30</td>     <td>11.8</td>    <td>0.001</td>  <td>6.4668</td>  <td>17.1332</td>  <td>True</td> \n",
       "</tr>\n",
       "<tr>\n",
       "    <td>15</td>     <td>35</td>      <td>1.0</td>     <td>0.9</td>   <td>-4.3332</td> <td>6.3332</td>   <td>False</td>\n",
       "</tr>\n",
       "<tr>\n",
       "    <td>20</td>     <td>25</td>      <td>2.4</td>   <td>0.6493</td>  <td>-2.9332</td> <td>7.7332</td>   <td>False</td>\n",
       "</tr>\n",
       "<tr>\n",
       "    <td>20</td>     <td>30</td>      <td>6.4</td>    <td>0.014</td>  <td>1.0668</td>  <td>11.7332</td>  <td>True</td> \n",
       "</tr>\n",
       "<tr>\n",
       "    <td>20</td>     <td>35</td>     <td>-4.4</td>   <td>0.1379</td>  <td>-9.7332</td> <td>0.9332</td>   <td>False</td>\n",
       "</tr>\n",
       "<tr>\n",
       "    <td>25</td>     <td>30</td>      <td>4.0</td>   <td>0.2043</td>  <td>-1.3332</td> <td>9.3332</td>   <td>False</td>\n",
       "</tr>\n",
       "<tr>\n",
       "    <td>25</td>     <td>35</td>     <td>-6.8</td>   <td>0.0085</td> <td>-12.1332</td> <td>-1.4668</td>  <td>True</td> \n",
       "</tr>\n",
       "<tr>\n",
       "    <td>30</td>     <td>35</td>     <td>-10.8</td>   <td>0.001</td> <td>-16.1332</td> <td>-5.4668</td>  <td>True</td> \n",
       "</tr>\n",
       "</table>"
      ],
      "text/plain": [
       "<class 'statsmodels.iolib.table.SimpleTable'>"
      ]
     },
     "execution_count": 10,
     "metadata": {},
     "output_type": "execute_result"
    }
   ],
   "source": [
    "comparison = MultiComparison(df[\"observations\"], df[\"cotton_weight_percent\"])\n",
    "comparison_results = comparison.tukeyhsd()\n",
    "comparison_results.summary()"
   ]
  },
  {
   "cell_type": "markdown",
   "metadata": {},
   "source": [
    "Explanation of the table above:\n",
    "* `group1` is compared to `group2`\n",
    "* **`meandiff`** : the mean difference between `group1` and `group2`\n",
    "* **`p-adj`** : how likely `group1` and `group2` to have the same means\n",
    "* **`lower` and `upper`** : `lower` and `upper` bound of the confidence interval.\n",
    "* **`reject`** : If it is True , the null hypothesis is rejected. There is enough evidence to claim that the means of the two levels of cotton being compared are significantly different.\n",
    "\n",
    "Pairs of levels of cotton content that are statistically different:\n",
    "* (15, 35)\n",
    "* (20, 25)\n",
    "* (20, 35)\n",
    "* (25, 30)\n",
    "\n",
    "To understand the results better, let’s look at the plots that visualize significant differences with one confidence interval per group."
   ]
  },
  {
   "cell_type": "code",
   "execution_count": 11,
   "metadata": {
    "scrolled": true
   },
   "outputs": [
    {
     "data": {
      "image/png": "[encoded data removed]",
      "text/plain": [
       "<Figure size 720x432 with 1 Axes>"
      ]
     },
     "execution_count": 11,
     "metadata": {},
     "output_type": "execute_result"
    },
    {
     "data": {
      "image/png": "[encoded data removed]",
      "text/plain": [
       "<Figure size 720x432 with 1 Axes>"
      ]
     },
     "metadata": {
      "needs_background": "light"
     },
     "output_type": "display_data"
    }
   ],
   "source": [
    "comparison_results.plot_simultaneous(comparison_name=15)"
   ]
  },
  {
   "cell_type": "markdown",
   "metadata": {},
   "source": [
    "### <font color='darkgreen'>Check Model Assumptions</font>\n",
    "**ANOVA assumes that each sample was drawn from a normally distributed population.** To use ANOVA at all, we need to make sure that this assumption is met. To test for normality, we will create a Q-Q plot of residuals. The Q-Q plot plots quantiles of the data versus quantiles of a normal distribution."
   ]
  },
  {
   "cell_type": "code",
   "execution_count": 12,
   "metadata": {},
   "outputs": [
    {
     "data": {
      "image/png": "[encoded data removed]",
      "text/plain": [
       "<Figure size 432x288 with 1 Axes>"
      ]
     },
     "metadata": {
      "needs_background": "light"
     },
     "output_type": "display_data"
    }
   ],
   "source": [
    "residuals = model.resid\n",
    "plot = qqplot(residuals, line=\"s\")"
   ]
  },
  {
   "cell_type": "markdown",
   "metadata": {},
   "source": [
    "Since the data points fall along a straight diagonal line in a Q-Q plot, the dataset is likely to follow a normal distribution. Thus, the data satisfies ANOVA’s assumption of normality."
   ]
  },
  {
   "cell_type": "markdown",
   "metadata": {},
   "source": [
    "## <font color='darkblue'>Conclusion</font>\n",
    "**Congratulations! You have just learned how to use one-way ANOVA to compare the means of three or more independent groups. No matter how good your data is, if you don’t have a good testing technique, you won’t be able to extract meaningful insights from your data.**\n",
    "\n",
    "With ANOVA, you will be able to determine if differences in mean values between three or more groups are by chance or if they are indeed significantly different. Eventually, **it will help you decide if it is beneficial to choose one group over others.**"
   ]
  }
 ],
 "metadata": {
  "kernelspec": {
   "display_name": "Python 3",
   "language": "python",
   "name": "python3"
  },
  "language_info": {
   "codemirror_mode": {
    "name": "ipython",
    "version": 3
   },
   "file_extension": ".py",
   "mimetype": "text/x-python",
   "name": "python",
   "nbconvert_exporter": "python",
   "pygments_lexer": "ipython3",
   "version": "3.8.7"
  }
 },
 "nbformat": 4,
 "nbformat_minor": 4
}
