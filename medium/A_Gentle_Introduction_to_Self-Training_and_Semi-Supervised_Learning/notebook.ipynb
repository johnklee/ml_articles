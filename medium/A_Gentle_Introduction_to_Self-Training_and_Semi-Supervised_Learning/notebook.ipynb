{
 "cells": [
  {
   "cell_type": "markdown",
   "metadata": {},
   "source": [
    "## <font color='darkblue'>Preface</font>\n",
    "([article source](https://towardsdatascience.com/a-gentle-introduction-to-self-training-and-semi-supervised-learning-ceee73178b38)) <font size='3ptx'>**Coding an example of self-training in Python to utilize unlabeled data for classification**</font>\n",
    "\n",
    "**When it comes to machine learning classification tasks, the more data available to train algorithms, the better**. In supervised learning, this data must be labeled with respect to the target class — otherwise, these algorithms wouldn’t be able to learn the relationships between the independent and target variables. **However, there are a couple of issues that arise when building large, labeled data sets for classification:**\n",
    "* **Labeling data can be time-consuming**: Let’s say we have 1,000,000 dog images that we want to feed to a classification algorithm, with the goal of predicting whether each image contains a Boston Terrier. If we want to use all of those images for a supervised classification task, we need a human to look at each image and determine whether a Boston Terrier is present. While I do have friends (and a wife) who wouldn’t mind scrolling through dog pictures all day, it probably isn’t how most of us want to spend our weekend.\n",
    "* **Labeling data can be expensive. See reason 1**: to get someone to painstakingly scour 1,000,000 dog pictures, we’re probably going to have to shell out some cash.\n",
    "\n",
    "So, what if we only have **LIMITED** time and money to label **SOME** of a large data set, and choose to leave the rest unlabeled? Can this unlabeled data somehow be used in a classification algorithm?\n",
    "\n",
    "**This is where [semi-supervised learning](https://en.wikipedia.org/wiki/Semi-supervised_learning) comes in**. In taking a semi-supervised approach, we can train a classifier on the small amount of labeled data, and then use the classifier to make predictions on the unlabeled data. Since these predictions are likely better than random guessing, the unlabeled data predictions can be adopted as ‘**<font color='darkblue'>pseudo-labels</font>**’ in subsequent iterations of the classifier. While there are many flavors of semi-supervised learning, this specific technique is called <font color='darkblue'>**self-training**</font>."
   ]
  },
  {
   "cell_type": "markdown",
   "metadata": {},
   "source": [
    "## <font color='darkblue'>Self-Training</font>\n",
    "![1.png](images/1.png)\n",
    "<br/>\n",
    "On a conceptual level, self-training works like this:\n",
    "* **Step 1:** Split the labeled data instances into train and test sets. Then, train a classification algorithm on the labeled training data.\n",
    "* **Step 2:** Use the trained classifier to predict class labels for all of the unlabeled data instances. Of these predicted class labels, the ones with the highest probability of being correct are adopted as ‘<font color='darkblue'>pseudo-labels</font>’.\n",
    "> (A couple of variations on Step 2: a) All of the predicted labels can be adopted as ‘pseudo-labels’ at once, without considering probability, or b) The ‘pseudo-labeled’ data can be weighted by confidence in the prediction.)\n",
    "\n",
    "* **Step 3**: Concatenate the ‘pseudo-labeled’ data with the labeled training data. Re-train the classifier on the combined ‘<font color='darkblue'>pseudo-labeled</font>’ and labeled training data.\n",
    "* **Step 4**: Use the trained classifier to predict class labels for the labeled test data instances. Evaluate classifier performance using your metric(s) of choice.\n",
    "> (Steps 1 through 4 can be repeated until no more predicted class labels from Step 2 meet a specific probability threshold, or until no more unlabeled data remains.)\n",
    "\n",
    "Ok, got it? Good! Let’s work through an example."
   ]
  },
  {
   "cell_type": "markdown",
   "metadata": {},
   "source": [
    "## <font color='darkblue'>Example: Using Self-Training to Improve a Classifier</font>\n",
    "To demonstrate self-training, I’m using Python and the **surgical_deepnet** data set, available [here on Kaggle](https://www.kaggle.com/omnamahshivai/surgical-dataset-binary-classification). This data set is intended to be used for binary classification, and contains data for 14.6k+ surgeries. The attributes are measurements like bmi, age, and a variety of others, while the **target variable, complication**, records whether the patient suffered complications as a result of surgery. Clearly, being able to accurately predict whether a patient will suffer complications from a surgery would be in the best interest of healthcare and insurance providers alike."
   ]
  },
  {
   "cell_type": "markdown",
   "metadata": {},
   "source": [
    "### <font color='darkgreen'>Imports</font>\n",
    "For this tutorial, I import numpy, pandas, and matplotlib. I’ll also use the [**LogisticRegression**](https://scikit-learn.org/stable/modules/generated/sklearn.linear_model.LogisticRegression.html) classifier from sklearn, as well as the `f1_score` and `plot_confusion_matrix` functions for model evaluation."
   ]
  },
  {
   "cell_type": "code",
   "execution_count": 1,
   "metadata": {},
   "outputs": [],
   "source": [
    "import numpy as np\n",
    "import pandas as pd\n",
    "import matplotlib.pyplot as plt\n",
    "\n",
    "from sklearn.linear_model import LogisticRegression\n",
    "\n",
    "from sklearn.metrics import f1_score\n",
    "from sklearn.metrics import plot_confusion_matrix"
   ]
  },
  {
   "cell_type": "markdown",
   "metadata": {},
   "source": [
    "### <font color='darkgreen'>Load Data</font>"
   ]
  },
  {
   "cell_type": "code",
   "execution_count": 2,
   "metadata": {},
   "outputs": [
    {
     "name": "stdout",
     "output_type": "stream",
     "text": [
      "<class 'pandas.core.frame.DataFrame'>\n",
      "RangeIndex: 14635 entries, 0 to 14634\n",
      "Data columns (total 25 columns):\n",
      " #   Column               Non-Null Count  Dtype  \n",
      "---  ------               --------------  -----  \n",
      " 0   bmi                  14635 non-null  float64\n",
      " 1   Age                  14635 non-null  float64\n",
      " 2   asa_status           14635 non-null  int64  \n",
      " 3   baseline_cancer      14635 non-null  int64  \n",
      " 4   baseline_charlson    14635 non-null  int64  \n",
      " 5   baseline_cvd         14635 non-null  int64  \n",
      " 6   baseline_dementia    14635 non-null  int64  \n",
      " 7   baseline_diabetes    14635 non-null  int64  \n",
      " 8   baseline_digestive   14635 non-null  int64  \n",
      " 9   baseline_osteoart    14635 non-null  int64  \n",
      " 10  baseline_psych       14635 non-null  int64  \n",
      " 11  baseline_pulmonary   14635 non-null  int64  \n",
      " 12  ahrq_ccs             14635 non-null  int64  \n",
      " 13  ccsComplicationRate  14635 non-null  float64\n",
      " 14  ccsMort30Rate        14635 non-null  float64\n",
      " 15  complication_rsi     14635 non-null  float64\n",
      " 16  dow                  14635 non-null  int64  \n",
      " 17  gender               14635 non-null  int64  \n",
      " 18  hour                 14635 non-null  float64\n",
      " 19  month                14635 non-null  int64  \n",
      " 20  moonphase            14635 non-null  int64  \n",
      " 21  mort30               14635 non-null  int64  \n",
      " 22  mortality_rsi        14635 non-null  float64\n",
      " 23  race                 14635 non-null  int64  \n",
      " 24  complication         14635 non-null  int64  \n",
      "dtypes: float64(7), int64(18)\n",
      "memory usage: 2.8 MB\n"
     ]
    }
   ],
   "source": [
    "df = pd.read_csv('../../datas/kaggle_surgical/Surgical-deepnet.csv')\n",
    "df.info()"
   ]
  },
  {
   "cell_type": "markdown",
   "metadata": {},
   "source": [
    "The attributes in the data set are all numerical, and there are no missing values. **Since my focus here isn’t on data cleaning, I’ll move on to partitioning the data.**"
   ]
  },
  {
   "cell_type": "markdown",
   "metadata": {},
   "source": [
    "### <font color='darkgreen'>Data Splits</font>\n",
    "To experiment with self-training, I’ll need to **split the data into three parts: a train set, a test set, and an unlabeled set. I’ll split the data according to the following proportions:**\n",
    "* 1% Train (Labeled)\n",
    "* 25% Test (Labeled)\n",
    "* 74% Unlabeled\n",
    "\n",
    "**For the unlabeled set, I will simply drop the target variable, complication, and pretend that it never existed**. So, in this case, we are imagining that 74% of the surgery cases have no information regarding complications. I do this to simulate the fact that in real-world classification problems, much of the data available may not have class labels. However, if we do have class labels for a small fraction of the data (<font color='brown'>in this case 1%</font>), semi-supervised learning techniques could then be used to draw conclusions from the unlabeled data.\n",
    "\n",
    "Below, I shuffle the data, generate indices to partition the data, and then create the test, train, and unlabeled splits. I then check the dimensions of the splits to make sure everything went according to plan."
   ]
  },
  {
   "cell_type": "code",
   "execution_count": 3,
   "metadata": {},
   "outputs": [
    {
     "name": "stdout",
     "output_type": "stream",
     "text": [
      "X_train dimensions: (146, 24)\n",
      "y_train dimensions: (146,)\n",
      "\n",
      "X_test dimensions: (3659, 24)\n",
      "y_test dimensions: (3659,)\n",
      "\n",
      "X_unlabeled dimensions: (10830, 24)\n"
     ]
    }
   ],
   "source": [
    "# Shuffle the data\n",
    "df = df.sample(frac=1, random_state=15).reset_index(drop=True)\n",
    "\n",
    "\n",
    "# Generate indices for splits\n",
    "test_ind = round(len(df)*0.25)\n",
    "train_ind = test_ind + round(len(df)*0.01)\n",
    "unlabeled_ind = train_ind + round(len(df)*0.74)\n",
    "\n",
    "\n",
    "# Partition the data\n",
    "test = df.iloc[:test_ind]\n",
    "train = df.iloc[test_ind:train_ind]\n",
    "unlabeled = df.iloc[train_ind:unlabeled_ind]\n",
    "\n",
    "\n",
    "# Assign data to train, test, and unlabeled sets\n",
    "X_train = train.drop('complication', axis=1)\n",
    "y_train = train.complication\n",
    "\n",
    "X_unlabeled = unlabeled.drop('complication', axis=1)\n",
    "\n",
    "X_test = test.drop('complication', axis=1)\n",
    "y_test = test.complication\n",
    "\n",
    "\n",
    "# Check dimensions of data after splitting\n",
    "print(f\"X_train dimensions: {X_train.shape}\")\n",
    "print(f\"y_train dimensions: {y_train.shape}\\n\")\n",
    "\n",
    "print(f\"X_test dimensions: {X_test.shape}\")\n",
    "print(f\"y_test dimensions: {y_test.shape}\\n\")\n",
    "\n",
    "print(f\"X_unlabeled dimensions: {X_unlabeled.shape}\")"
   ]
  },
  {
   "cell_type": "markdown",
   "metadata": {},
   "source": [
    "### <font color='darkgreen'>Class Distribution</font>"
   ]
  },
  {
   "cell_type": "code",
   "execution_count": 4,
   "metadata": {},
   "outputs": [
    {
     "data": {
      "image/png": "[encoded data removed]",
      "text/plain": [
       "<Figure size 432x288 with 1 Axes>"
      ]
     },
     "metadata": {
      "needs_background": "light"
     },
     "output_type": "display_data"
    }
   ],
   "source": [
    "# Visualize class distribution\n",
    "y_train.value_counts().plot(kind='bar')\n",
    "plt.xticks([0,1], ['No Complication', 'Complication'])\n",
    "plt.ylabel('Count');"
   ]
  },
  {
   "cell_type": "markdown",
   "metadata": {},
   "source": [
    "There are more than twice as many instances of the majority class (<font color='brown'>no complication</font>) than the minority class (<font color='brown'>complication</font>). **With an imbalanced class situation like this, I want to be very selective about the classification evaluation metric that I choose — accuracy may not be the best choice.**\n",
    "\n",
    "**I choose the F1 score as the classification metric to judge the effectiveness of the classifier**. The F1 score is more robust to class imbalance than accuracy, which is more appropriate when classes are approximately balanced. "
   ]
  },
  {
   "cell_type": "markdown",
   "metadata": {},
   "source": [
    "### <font color='darkgreen'>Initial Classifier (Supervised)</font>\n",
    "To ground-truth the results of semi-supervised learning, I first train a simple Logistic Regression classifier using only the labeled training data, and predict on the test data set."
   ]
  },
  {
   "cell_type": "code",
   "execution_count": 5,
   "metadata": {},
   "outputs": [
    {
     "name": "stdout",
     "output_type": "stream",
     "text": [
      "Train f1 Score: 0.5846153846153846\n",
      "Test f1 Score: 0.500873616773442\n"
     ]
    },
    {
     "data": {
      "image/png": "[encoded data removed]",
      "text/plain": [
       "<Figure size 432x288 with 2 Axes>"
      ]
     },
     "metadata": {
      "needs_background": "light"
     },
     "output_type": "display_data"
    }
   ],
   "source": [
    "# Logistic Regression Classifier\n",
    "clf = LogisticRegression(max_iter=1000)\n",
    "\n",
    "clf.fit(X_train, y_train)\n",
    "y_hat_test = clf.predict(X_test)\n",
    "y_hat_train = clf.predict(X_train)\n",
    "\n",
    "train_f1 = f1_score(y_train, y_hat_train)\n",
    "test_f1 = f1_score(y_test, y_hat_test)\n",
    "\n",
    "print(f\"Train f1 Score: {train_f1}\")\n",
    "print(f\"Test f1 Score: {test_f1}\")\n",
    "\n",
    "plot_confusion_matrix(clf, X_test, y_test, cmap='Blues', normalize='true', display_labels=['No Comp.', 'Complication']);"
   ]
  },
  {
   "cell_type": "markdown",
   "metadata": {},
   "source": [
    "The classifier has a test F1 score of 0.5. The confusion matrix tells us that the classifier does very well correctly predicting surgeries that did not have complications — 86% accuracy. However, **<font color='darkred'>the classifier has more trouble correctly identifying surgeries with complications, at only 47% accuracy.</font>**"
   ]
  },
  {
   "cell_type": "markdown",
   "metadata": {},
   "source": [
    "### <font color='darkgreen'>Probability of Predictions</font>\n",
    "**For the self-training algorithm, we’ll want to know the probabilities of predictions made by the Logistic Regression classifier.** Luckily, sklearn provides the <font color='blue'>.predict_proba()</font> method, which allows us to see the probability of a prediction belonging to either class. As you can see below, the total probability will sum to 1.0 for each prediction in a binary classification problem."
   ]
  },
  {
   "cell_type": "code",
   "execution_count": 7,
   "metadata": {},
   "outputs": [],
   "source": [
    "# Generate probabilities for each prediction\n",
    "probs = clf.predict_proba(X_test)"
   ]
  },
  {
   "cell_type": "code",
   "execution_count": 12,
   "metadata": {},
   "outputs": [],
   "source": [
    "# https://stackoverflow.com/questions/51740214/find-the-max-from-each-row-in-python/51740298\n",
    "prob_list = list(np.amax(probs, 1))"
   ]
  },
  {
   "cell_type": "code",
   "execution_count": 14,
   "metadata": {},
   "outputs": [
    {
     "data": {
      "text/plain": [
       "[0.9392328646419018,\n",
       " 0.7671107327539243,\n",
       " 0.9392328646419018,\n",
       " 0.9309184774889102,\n",
       " 0.7525693107878412,\n",
       " 0.9760601164178976,\n",
       " 0.9560842077526777,\n",
       " 0.9392328646419018,\n",
       " 0.944636513612976,\n",
       " 0.636376234419445,\n",
       " 0.9392328646419018,\n",
       " 0.6450447540361592,\n",
       " 0.7050385148517285,\n",
       " 0.9392328646419018,\n",
       " 0.9678354385717569,\n",
       " 0.5278497564688398,\n",
       " 0.6038706632710471,\n",
       " 0.9552238423159017,\n",
       " 0.9261718369623576,\n",
       " 0.9392328646419018]"
      ]
     },
     "execution_count": 14,
     "metadata": {},
     "output_type": "execute_result"
    }
   ],
   "source": [
    "prob_list[:20]"
   ]
  },
  {
   "cell_type": "code",
   "execution_count": 16,
   "metadata": {},
   "outputs": [
    {
     "data": {
      "image/png": "[encoded data removed]",
      "text/plain": [
       "<Figure size 432x288 with 1 Axes>"
      ]
     },
     "metadata": {
      "needs_background": "light"
     },
     "output_type": "display_data"
    }
   ],
   "source": [
    "plt.hist(prob_list, bins=20)\n",
    "plt.show()"
   ]
  },
  {
   "cell_type": "markdown",
   "metadata": {},
   "source": [
    "### <font color='darkgreen'>Self-Training Classifier (Semi-Supervised)</font>\n",
    "Now that we know how to get prediction probabilities using sklearn, we can move ahead with coding the self-training classifier. Here is a brief outline:\n",
    "* **Step 1**: First, train a Logistic Regression classifier on the labeled training data.\n",
    "* **Step 2**: Next, use the classifier to predict labels for all unlabeled data, as well as probabilities for those predictions. In this case, I will only **adopt ‘pseudo-labels’ for predictions with greater than 99% probability.**\n",
    "* **Step 3**: Concatenate the ‘pseudo-labeled’ data with the labeled training data, and re-train the classifier on the concatenated data.\n",
    "* **Step 4**: Use trained classifier to make predictions for the labeled test data, and evaluate the classifier.\n",
    "\n",
    "Repeat steps 1 through 4 until no more predictions have greater than 99% probability, or no unlabeled data remains.\n",
    "\n",
    "See the code below for my implementation of these steps in Python, using a while-loop."
   ]
  },
  {
   "cell_type": "code",
   "execution_count": 17,
   "metadata": {},
   "outputs": [
    {
     "name": "stdout",
     "output_type": "stream",
     "text": [
      "Iteration 0\n",
      "Train f1: 0.5846153846153846\n",
      "Test f1: 0.500873616773442\n",
      "Now predicting labels for unlabeled data...\n",
      "42 high-probability predictions added to training data.\n",
      "10788 unlabeled instances remaining.\n",
      "\n",
      "Iteration 1\n",
      "Train f1: 0.7627118644067796\n",
      "Test f1: 0.5048991354466859\n",
      "Now predicting labels for unlabeled data...\n",
      "29 high-probability predictions added to training data.\n",
      "10759 unlabeled instances remaining.\n",
      "\n",
      "Iteration 2\n",
      "Train f1: 0.8157894736842105\n",
      "Test f1: 0.5060103033772181\n",
      "Now predicting labels for unlabeled data...\n",
      "20 high-probability predictions added to training data.\n",
      "10739 unlabeled instances remaining.\n",
      "\n",
      "Iteration 3\n",
      "Train f1: 0.8457142857142856\n",
      "Test f1: 0.5079726651480639\n",
      "Now predicting labels for unlabeled data...\n",
      "20 high-probability predictions added to training data.\n",
      "10719 unlabeled instances remaining.\n",
      "\n",
      "Iteration 4\n",
      "Train f1: 0.8586387434554974\n",
      "Test f1: 0.5093590470788429\n",
      "Now predicting labels for unlabeled data...\n",
      "23 high-probability predictions added to training data.\n",
      "10696 unlabeled instances remaining.\n",
      "\n",
      "Iteration 5\n",
      "Train f1: 0.8669950738916257\n",
      "Test f1: 0.5084745762711864\n",
      "Now predicting labels for unlabeled data...\n",
      "25 high-probability predictions added to training data.\n",
      "10671 unlabeled instances remaining.\n",
      "\n",
      "Iteration 6\n",
      "Train f1: 0.8744186046511628\n",
      "Test f1: 0.5098702763677383\n",
      "Now predicting labels for unlabeled data...\n",
      "15 high-probability predictions added to training data.\n",
      "10656 unlabeled instances remaining.\n",
      "\n",
      "Iteration 7\n",
      "Train f1: 0.88\n",
      "Test f1: 0.5103991006183248\n",
      "Now predicting labels for unlabeled data...\n",
      "23 high-probability predictions added to training data.\n",
      "10633 unlabeled instances remaining.\n",
      "\n",
      "Iteration 8\n",
      "Train f1: 0.8879668049792531\n",
      "Test f1: 0.5120448179271708\n",
      "Now predicting labels for unlabeled data...\n",
      "22 high-probability predictions added to training data.\n",
      "10611 unlabeled instances remaining.\n",
      "\n",
      "Iteration 9\n",
      "Train f1: 0.8957528957528959\n",
      "Test f1: 0.5139664804469273\n",
      "Now predicting labels for unlabeled data...\n",
      "24 high-probability predictions added to training data.\n",
      "10587 unlabeled instances remaining.\n",
      "\n",
      "Iteration 10\n",
      "Train f1: 0.9018181818181819\n",
      "Test f1: 0.515303283249861\n",
      "Now predicting labels for unlabeled data...\n",
      "28 high-probability predictions added to training data.\n",
      "10559 unlabeled instances remaining.\n",
      "\n",
      "Iteration 11\n",
      "Train f1: 0.9059233449477352\n",
      "Test f1: 0.515303283249861\n",
      "Now predicting labels for unlabeled data...\n",
      "26 high-probability predictions added to training data.\n",
      "10533 unlabeled instances remaining.\n",
      "\n",
      "Iteration 12\n",
      "Train f1: 0.9102990033222591\n",
      "Test f1: 0.5136186770428017\n",
      "Now predicting labels for unlabeled data...\n",
      "23 high-probability predictions added to training data.\n",
      "10510 unlabeled instances remaining.\n",
      "\n",
      "Iteration 13\n",
      "Train f1: 0.9131832797427651\n",
      "Test f1: 0.5127635960044395\n",
      "Now predicting labels for unlabeled data...\n",
      "26 high-probability predictions added to training data.\n",
      "10484 unlabeled instances remaining.\n",
      "\n",
      "Iteration 14\n",
      "Train f1: 0.9179331306990881\n",
      "Test f1: 0.5124515771997785\n",
      "Now predicting labels for unlabeled data...\n",
      "32 high-probability predictions added to training data.\n",
      "10452 unlabeled instances remaining.\n",
      "\n",
      "Iteration 15\n",
      "Train f1: 0.9248554913294798\n",
      "Test f1: 0.5135583840619812\n",
      "Now predicting labels for unlabeled data...\n",
      "20 high-probability predictions added to training data.\n",
      "10432 unlabeled instances remaining.\n",
      "\n",
      "Iteration 16\n",
      "Train f1: 0.9239436619718309\n",
      "Test f1: 0.5132743362831858\n",
      "Now predicting labels for unlabeled data...\n",
      "15 high-probability predictions added to training data.\n",
      "10417 unlabeled instances remaining.\n",
      "\n",
      "Iteration 17\n",
      "Train f1: 0.9256198347107437\n",
      "Test f1: 0.5152017689331122\n",
      "Now predicting labels for unlabeled data...\n",
      "18 high-probability predictions added to training data.\n",
      "10399 unlabeled instances remaining.\n",
      "\n",
      "Iteration 18\n",
      "Train f1: 0.9268292682926829\n",
      "Test f1: 0.5176600441501105\n",
      "Now predicting labels for unlabeled data...\n",
      "18 high-probability predictions added to training data.\n",
      "10381 unlabeled instances remaining.\n",
      "\n",
      "Iteration 19\n",
      "Train f1: 0.9287598944591029\n",
      "Test f1: 0.5170893054024256\n",
      "Now predicting labels for unlabeled data...\n",
      "17 high-probability predictions added to training data.\n",
      "10364 unlabeled instances remaining.\n",
      "\n",
      "Iteration 20\n",
      "Train f1: 0.9302325581395349\n",
      "Test f1: 0.5186813186813188\n",
      "Now predicting labels for unlabeled data...\n",
      "20 high-probability predictions added to training data.\n",
      "10344 unlabeled instances remaining.\n",
      "\n",
      "Iteration 21\n",
      "Train f1: 0.9326683291770573\n",
      "Test f1: 0.5200219418540867\n",
      "Now predicting labels for unlabeled data...\n",
      "21 high-probability predictions added to training data.\n",
      "10323 unlabeled instances remaining.\n",
      "\n",
      "Iteration 22\n",
      "Train f1: 0.9320388349514563\n",
      "Test f1: 0.5194520547945206\n",
      "Now predicting labels for unlabeled data...\n",
      "22 high-probability predictions added to training data.\n",
      "10301 unlabeled instances remaining.\n",
      "\n",
      "Iteration 23\n",
      "Train f1: 0.9339622641509433\n",
      "Test f1: 0.5180327868852458\n",
      "Now predicting labels for unlabeled data...\n",
      "29 high-probability predictions added to training data.\n",
      "10272 unlabeled instances remaining.\n",
      "\n",
      "Iteration 24\n",
      "Train f1: 0.9369369369369368\n",
      "Test f1: 0.522591181273816\n",
      "Now predicting labels for unlabeled data...\n",
      "33 high-probability predictions added to training data.\n",
      "10239 unlabeled instances remaining.\n",
      "\n",
      "Iteration 25\n",
      "Train f1: 0.9399141630901287\n",
      "Test f1: 0.5236799129014698\n",
      "Now predicting labels for unlabeled data...\n",
      "18 high-probability predictions added to training data.\n",
      "10221 unlabeled instances remaining.\n",
      "\n",
      "Iteration 26\n",
      "Train f1: 0.9411764705882354\n",
      "Test f1: 0.5250000000000001\n",
      "Now predicting labels for unlabeled data...\n",
      "17 high-probability predictions added to training data.\n",
      "10204 unlabeled instances remaining.\n",
      "\n",
      "Iteration 27\n",
      "Train f1: 0.9421487603305785\n",
      "Test f1: 0.5250000000000001\n",
      "Now predicting labels for unlabeled data...\n",
      "19 high-probability predictions added to training data.\n",
      "10185 unlabeled instances remaining.\n",
      "\n",
      "Iteration 28\n",
      "Train f1: 0.9433198380566802\n",
      "Test f1: 0.5263157894736843\n",
      "Now predicting labels for unlabeled data...\n",
      "19 high-probability predictions added to training data.\n",
      "10166 unlabeled instances remaining.\n",
      "\n",
      "Iteration 29\n",
      "Train f1: 0.944223107569721\n",
      "Test f1: 0.5263730288200108\n",
      "Now predicting labels for unlabeled data...\n",
      "14 high-probability predictions added to training data.\n",
      "10152 unlabeled instances remaining.\n",
      "\n",
      "Iteration 30\n",
      "Train f1: 0.9430255402750491\n",
      "Test f1: 0.5271739130434783\n",
      "Now predicting labels for unlabeled data...\n",
      "17 high-probability predictions added to training data.\n",
      "10135 unlabeled instances remaining.\n",
      "\n",
      "Iteration 31\n",
      "Train f1: 0.9439071566731142\n",
      "Test f1: 0.5276872964169381\n",
      "Now predicting labels for unlabeled data...\n",
      "11 high-probability predictions added to training data.\n",
      "10124 unlabeled instances remaining.\n",
      "\n",
      "Iteration 32\n",
      "Train f1: 0.9445506692160612\n",
      "Test f1: 0.5268875611080934\n",
      "Now predicting labels for unlabeled data...\n",
      "12 high-probability predictions added to training data.\n",
      "10112 unlabeled instances remaining.\n",
      "\n",
      "Iteration 33\n",
      "Train f1: 0.945996275605214\n",
      "Test f1: 0.5284244721169464\n",
      "Now predicting labels for unlabeled data...\n",
      "7 high-probability predictions added to training data.\n",
      "10105 unlabeled instances remaining.\n",
      "\n",
      "Iteration 34\n",
      "Train f1: 0.9465930018416207\n",
      "Test f1: 0.5269978401727862\n",
      "Now predicting labels for unlabeled data...\n",
      "4 high-probability predictions added to training data.\n",
      "10101 unlabeled instances remaining.\n",
      "\n",
      "Iteration 35\n",
      "Train f1: 0.9469835466179158\n",
      "Test f1: 0.5269978401727862\n",
      "Now predicting labels for unlabeled data...\n",
      "2 high-probability predictions added to training data.\n",
      "10099 unlabeled instances remaining.\n",
      "\n",
      "Iteration 36\n",
      "Train f1: 0.9469835466179158\n",
      "Test f1: 0.5264293419633225\n",
      "Now predicting labels for unlabeled data...\n",
      "6 high-probability predictions added to training data.\n",
      "10093 unlabeled instances remaining.\n",
      "\n",
      "Iteration 37\n",
      "Train f1: 0.9471766848816029\n",
      "Test f1: 0.5256341068537506\n",
      "Now predicting labels for unlabeled data...\n",
      "4 high-probability predictions added to training data.\n",
      "10089 unlabeled instances remaining.\n",
      "\n",
      "Iteration 38\n",
      "Train f1: 0.9473684210526315\n",
      "Test f1: 0.5262020529443544\n",
      "Now predicting labels for unlabeled data...\n",
      "5 high-probability predictions added to training data.\n",
      "10084 unlabeled instances remaining.\n",
      "\n",
      "Iteration 39\n",
      "Train f1: 0.9475587703435805\n",
      "Test f1: 0.5269978401727862\n",
      "Now predicting labels for unlabeled data...\n",
      "1 high-probability predictions added to training data.\n",
      "10083 unlabeled instances remaining.\n",
      "\n"
     ]
    },
    {
     "name": "stdout",
     "output_type": "stream",
     "text": [
      "Iteration 40\n",
      "Train f1: 0.9475587703435805\n",
      "Test f1: 0.5262020529443544\n",
      "Now predicting labels for unlabeled data...\n",
      "0 high-probability predictions added to training data.\n",
      "10083 unlabeled instances remaining.\n",
      "\n"
     ]
    }
   ],
   "source": [
    "# Initiate iteration counter\n",
    "iterations = 0\n",
    "prob_threshold = 0.99\n",
    "\n",
    "# Containers to hold f1_scores and # of pseudo-labels\n",
    "train_f1s = []\n",
    "test_f1s = []\n",
    "pseudo_labels = []\n",
    "\n",
    "# Assign value to initiate while loop\n",
    "high_prob = [1] \n",
    "\n",
    "# Loop will run until there are no more high-probability pseudo-labels\n",
    "while len(high_prob) > 0:\n",
    "        \n",
    "    # Fit classifier and make train/test predictions\n",
    "    clf = LogisticRegression(max_iter=1000)\n",
    "    clf.fit(X_train, y_train)\n",
    "    y_hat_train = clf.predict(X_train)\n",
    "    y_hat_test = clf.predict(X_test)\n",
    "\n",
    "    # Calculate and print iteration # and f1 scores, and store f1 scores\n",
    "    train_f1 = f1_score(y_train, y_hat_train)\n",
    "    test_f1 = f1_score(y_test, y_hat_test)\n",
    "    print(f\"Iteration {iterations}\")\n",
    "    print(f\"Train f1: {train_f1}\")\n",
    "    print(f\"Test f1: {test_f1}\")\n",
    "    train_f1s.append(train_f1)\n",
    "    test_f1s.append(test_f1)\n",
    "   \n",
    "    # Generate predictions and probabilities for unlabeled data\n",
    "    print(f\"Now predicting labels for unlabeled data...\")\n",
    "\n",
    "    pred_probs = clf.predict_proba(X_unlabeled)\n",
    "    preds = clf.predict(X_unlabeled)\n",
    "    prob_0 = pred_probs[:,0]\n",
    "    prob_1 = pred_probs[:,1]\n",
    "\n",
    "    # Store predictions and probabilities in dataframe\n",
    "    df_pred_prob = pd.DataFrame([])\n",
    "    df_pred_prob['preds'] = preds\n",
    "    df_pred_prob['prob_0'] = prob_0\n",
    "    df_pred_prob['prob_1'] = prob_1\n",
    "    df_pred_prob.index = X_unlabeled.index\n",
    "    \n",
    "    # Separate predictions with > 99% probability\n",
    "    high_prob = pd.concat([df_pred_prob.loc[df_pred_prob['prob_0'] > prob_threshold],\n",
    "                           df_pred_prob.loc[df_pred_prob['prob_1'] > prob_threshold]],\n",
    "                          axis=0)\n",
    "    \n",
    "    print(f\"{len(high_prob)} high-probability predictions added to training data.\")\n",
    "    \n",
    "    pseudo_labels.append(len(high_prob))\n",
    "\n",
    "    # Add pseudo-labeled data to training data\n",
    "    X_train = pd.concat([X_train, X_unlabeled.loc[high_prob.index]], axis=0)\n",
    "    y_train = pd.concat([y_train, high_prob.preds])      \n",
    "    \n",
    "    # Drop pseudo-labeled instances from unlabeled data\n",
    "    X_unlabeled = X_unlabeled.drop(index=high_prob.index)\n",
    "    print(f\"{len(X_unlabeled)} unlabeled instances remaining.\\n\")\n",
    "    \n",
    "    # Update iteration counter\n",
    "    iterations += 1"
   ]
  },
  {
   "cell_type": "markdown",
   "metadata": {},
   "source": [
    "The self training algorithm went through 40 iterations before no more unlabeled instances could be predicted at >99% probability. Even though there were initially 10,830 unlabeled instances, 10,083 of those remained unlabeled (<font color='brown'>and unused by the classifier</font>) after self-training."
   ]
  },
  {
   "cell_type": "code",
   "execution_count": 18,
   "metadata": {},
   "outputs": [
    {
     "data": {
      "image/png": "[encoded data removed]",
      "text/plain": [
       "<Figure size 432x576 with 2 Axes>"
      ]
     },
     "metadata": {
      "needs_background": "light"
     },
     "output_type": "display_data"
    },
    {
     "data": {
      "image/png": "[encoded data removed]",
      "text/plain": [
       "<Figure size 432x288 with 2 Axes>"
      ]
     },
     "metadata": {
      "needs_background": "light"
     },
     "output_type": "display_data"
    }
   ],
   "source": [
    "# Plot f1 scores and number of pseudo-labels added for all iterations\n",
    "fig, (ax1, ax2) = plt.subplots(nrows=2, ncols=1, figsize=(6,8))\n",
    "ax1.plot(range(iterations), test_f1s)\n",
    "ax1.set_ylabel('f1 Score')\n",
    "ax2.bar(x=range(iterations), height=pseudo_labels)\n",
    "ax2.set_ylabel('Pseudo-Labels Created')\n",
    "ax2.set_xlabel('# Iterations');\n",
    "\n",
    "# View confusion matrix after self-training\n",
    "plot_confusion_matrix(clf, X_test, y_test, cmap='Blues', normalize='true', display_labels=['No Comp.', 'Complication']);"
   ]
  },
  {
   "cell_type": "markdown",
   "metadata": {},
   "source": [
    "**Over the 40 iterations, the F1 score improved from 0.50 to 0.525! Though it’s only a small increase, it looks like self-training has improved the classifier’s performance on the test data set**. The top panel of the figure above shows that most of this improvement is happening in earlier iterations of the algorithm. Similarly, the bottom panel shows that most of the ‘pseudo-labels’ added to the training data come during the first 20–30 iterations.\n",
    "\n",
    "**The final confusion matrix shows an improvement in the classification of surgeries with complications, but <font color='darkred'>a slight decline in the classification of surgeries with no complications</font>**. Supported by the improved F1 score, I think that this is an acceptable improvement — it is likely more important to identify surgery cases that will result in complications (<font color='brown'>True Positives</font>), and it is probably worth increasing the False Positive rate to achieve that result."
   ]
  },
  {
   "cell_type": "markdown",
   "metadata": {},
   "source": [
    "## <font color='darkblue'>Words of Caution</font>\n",
    "So you may be thinking: is there a risk to performing self-training with so much unlabeled data? The answer, of course, is yes. **Remember that although we are including our ‘pseudo-labeled’ data with labeled training data, some of the ‘pseudo-labeled’ data is certainly going to be incorrect. When enough of the ‘pseudo-labels’ are incorrect, the self-training algorithm can reinforce poor classification decisions, and classifier performance can actually get worse**.\n",
    "\n",
    "However, this risk can be mitigated by following established practices like using a test data set that the classifier has not seen during training, or using a probability threshold for ‘pseudo-label’ prediction."
   ]
  }
 ],
 "metadata": {
  "kernelspec": {
   "display_name": "Python 3",
   "language": "python",
   "name": "python3"
  },
  "language_info": {
   "codemirror_mode": {
    "name": "ipython",
    "version": 3
   },
   "file_extension": ".py",
   "mimetype": "text/x-python",
   "name": "python",
   "nbconvert_exporter": "python",
   "pygments_lexer": "ipython3",
   "version": "3.8.7"
  }
 },
 "nbformat": 4,
 "nbformat_minor": 4
}
