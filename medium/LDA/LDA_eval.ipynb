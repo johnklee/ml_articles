{
 "cells": [
  {
   "cell_type": "markdown",
   "metadata": {},
   "source": [
    "This article is from [here](https://towardsdatascience.com/evaluate-topic-model-in-python-latent-dirichlet-allocation-lda-7d57484bb5d0) and [formula](http://localhost/jforum/posts/list/4741.page)\n",
    "\n",
    "## <font color='darkblue'>Model Implementation</font>\n",
    "The complete code is available as a Jupyter Notebook on GitHub\n",
    "1. Loading data\n",
    "2. Data Cleaning\n",
    "3. Phrase Modeling: Bi-grams and Tri-grams\n",
    "4. Data transformation: Corpus and Dictionary\n",
    "5. Base Model Performance\n",
    "6. Hyperparameter Tuning\n",
    "7. Final Model\n",
    "8. Visualize Results\n",
    "\n",
    "### <font color='darkgreen'>Loading Data</font>\n",
    "For this tutorial, we’ll use the dataset of papers published in NIPS conference. The [NIPS conference](https://en.wikipedia.org/wiki/Conference_on_Neural_Information_Processing_Systems) (Neural Information Processing Systems) is one of the most prestigious yearly events in the machine learning community. The CSV data file contains information on the different NIPS papers that were published from 1987 until 2016 (29 years!).\n",
    "\n",
    "Let’s start by looking at the content of the file papers.csv (Download [`NIPS Papers.zip`](https://github.com/kapadias/mediumposts/blob/master/nlp/data/NIPS%20Papers.zip) and unzip it)"
   ]
  },
  {
   "cell_type": "code",
   "execution_count": 1,
   "metadata": {},
   "outputs": [
    {
     "name": "stdout",
     "output_type": "stream",
     "text": [
      "3.6.7 (v3.6.7:6ec5cf24b7, Oct 20 2018, 13:35:33) [MSC v.1900 64 bit (AMD64)]\n"
     ]
    },
    {
     "data": {
      "text/html": [
       "<div>\n",
       "<style scoped>\n",
       "    .dataframe tbody tr th:only-of-type {\n",
       "        vertical-align: middle;\n",
       "    }\n",
       "\n",
       "    .dataframe tbody tr th {\n",
       "        vertical-align: top;\n",
       "    }\n",
       "\n",
       "    .dataframe thead th {\n",
       "        text-align: right;\n",
       "    }\n",
       "</style>\n",
       "<table border=\"1\" class=\"dataframe\">\n",
       "  <thead>\n",
       "    <tr style=\"text-align: right;\">\n",
       "      <th></th>\n",
       "      <th>id</th>\n",
       "      <th>year</th>\n",
       "      <th>title</th>\n",
       "      <th>event_type</th>\n",
       "      <th>pdf_name</th>\n",
       "      <th>abstract</th>\n",
       "      <th>paper_text</th>\n",
       "    </tr>\n",
       "  </thead>\n",
       "  <tbody>\n",
       "    <tr>\n",
       "      <th>0</th>\n",
       "      <td>1</td>\n",
       "      <td>1987</td>\n",
       "      <td>Self-Organization of Associative Database and ...</td>\n",
       "      <td>NaN</td>\n",
       "      <td>1-self-organization-of-associative-database-an...</td>\n",
       "      <td>Abstract Missing</td>\n",
       "      <td>767\\n\\nSELF-ORGANIZATION OF ASSOCIATIVE DATABA...</td>\n",
       "    </tr>\n",
       "    <tr>\n",
       "      <th>1</th>\n",
       "      <td>10</td>\n",
       "      <td>1987</td>\n",
       "      <td>A Mean Field Theory of Layer IV of Visual Cort...</td>\n",
       "      <td>NaN</td>\n",
       "      <td>10-a-mean-field-theory-of-layer-iv-of-visual-c...</td>\n",
       "      <td>Abstract Missing</td>\n",
       "      <td>683\\n\\nA MEAN FIELD THEORY OF LAYER IV OF VISU...</td>\n",
       "    </tr>\n",
       "    <tr>\n",
       "      <th>2</th>\n",
       "      <td>100</td>\n",
       "      <td>1988</td>\n",
       "      <td>Storing Covariance by the Associative Long-Ter...</td>\n",
       "      <td>NaN</td>\n",
       "      <td>100-storing-covariance-by-the-associative-long...</td>\n",
       "      <td>Abstract Missing</td>\n",
       "      <td>394\\n\\nSTORING COVARIANCE BY THE ASSOCIATIVE\\n...</td>\n",
       "    </tr>\n",
       "    <tr>\n",
       "      <th>3</th>\n",
       "      <td>1000</td>\n",
       "      <td>1994</td>\n",
       "      <td>Bayesian Query Construction for Neural Network...</td>\n",
       "      <td>NaN</td>\n",
       "      <td>1000-bayesian-query-construction-for-neural-ne...</td>\n",
       "      <td>Abstract Missing</td>\n",
       "      <td>Bayesian Query Construction for Neural\\nNetwor...</td>\n",
       "    </tr>\n",
       "    <tr>\n",
       "      <th>4</th>\n",
       "      <td>1001</td>\n",
       "      <td>1994</td>\n",
       "      <td>Neural Network Ensembles, Cross Validation, an...</td>\n",
       "      <td>NaN</td>\n",
       "      <td>1001-neural-network-ensembles-cross-validation...</td>\n",
       "      <td>Abstract Missing</td>\n",
       "      <td>Neural Network Ensembles, Cross\\nValidation, a...</td>\n",
       "    </tr>\n",
       "  </tbody>\n",
       "</table>\n",
       "</div>"
      ],
      "text/plain": [
       "     id  year                                              title event_type  \\\n",
       "0     1  1987  Self-Organization of Associative Database and ...        NaN   \n",
       "1    10  1987  A Mean Field Theory of Layer IV of Visual Cort...        NaN   \n",
       "2   100  1988  Storing Covariance by the Associative Long-Ter...        NaN   \n",
       "3  1000  1994  Bayesian Query Construction for Neural Network...        NaN   \n",
       "4  1001  1994  Neural Network Ensembles, Cross Validation, an...        NaN   \n",
       "\n",
       "                                            pdf_name          abstract  \\\n",
       "0  1-self-organization-of-associative-database-an...  Abstract Missing   \n",
       "1  10-a-mean-field-theory-of-layer-iv-of-visual-c...  Abstract Missing   \n",
       "2  100-storing-covariance-by-the-associative-long...  Abstract Missing   \n",
       "3  1000-bayesian-query-construction-for-neural-ne...  Abstract Missing   \n",
       "4  1001-neural-network-ensembles-cross-validation...  Abstract Missing   \n",
       "\n",
       "                                          paper_text  \n",
       "0  767\\n\\nSELF-ORGANIZATION OF ASSOCIATIVE DATABA...  \n",
       "1  683\\n\\nA MEAN FIELD THEORY OF LAYER IV OF VISU...  \n",
       "2  394\\n\\nSTORING COVARIANCE BY THE ASSOCIATIVE\\n...  \n",
       "3  Bayesian Query Construction for Neural\\nNetwor...  \n",
       "4  Neural Network Ensembles, Cross\\nValidation, a...  "
      ]
     },
     "execution_count": 1,
     "metadata": {},
     "output_type": "execute_result"
    }
   ],
   "source": [
    "# Importing modules\n",
    "import pandas as pd\n",
    "import os\n",
    "import sys\n",
    "\n",
    "# Show Python version\n",
    "print(sys.version)\n",
    "\n",
    "# Read data into papers\n",
    "papers = pd.read_csv('data/papers.csv')\n",
    "# Print head\n",
    "papers.head()"
   ]
  },
  {
   "cell_type": "markdown",
   "metadata": {},
   "source": [
    "### <font color='darkgreen'>Data Cleaning</font>\n",
    "Since the goal of this analysis is to perform topic modeling, we will solely focus on the text data from each paper, and drop other metadata columns"
   ]
  },
  {
   "cell_type": "code",
   "execution_count": 2,
   "metadata": {},
   "outputs": [
    {
     "data": {
      "text/html": [
       "<div>\n",
       "<style scoped>\n",
       "    .dataframe tbody tr th:only-of-type {\n",
       "        vertical-align: middle;\n",
       "    }\n",
       "\n",
       "    .dataframe tbody tr th {\n",
       "        vertical-align: top;\n",
       "    }\n",
       "\n",
       "    .dataframe thead th {\n",
       "        text-align: right;\n",
       "    }\n",
       "</style>\n",
       "<table border=\"1\" class=\"dataframe\">\n",
       "  <thead>\n",
       "    <tr style=\"text-align: right;\">\n",
       "      <th></th>\n",
       "      <th>paper_text</th>\n",
       "    </tr>\n",
       "  </thead>\n",
       "  <tbody>\n",
       "    <tr>\n",
       "      <th>1904</th>\n",
       "      <td>218\\n\\nBengio, De Mori and Cardin\\n\\nSpeaker I...</td>\n",
       "    </tr>\n",
       "    <tr>\n",
       "      <th>2138</th>\n",
       "      <td>Interpolating Between Types and Tokens\\nby Est...</td>\n",
       "    </tr>\n",
       "    <tr>\n",
       "      <th>3524</th>\n",
       "      <td>Adaptive Hedge\\n\\n?\\nPeter Grunwald\\n\\nTim van...</td>\n",
       "    </tr>\n",
       "    <tr>\n",
       "      <th>535</th>\n",
       "      <td>57\\n\\nSelf Organizing Neural Networks for the\\...</td>\n",
       "    </tr>\n",
       "    <tr>\n",
       "      <th>4132</th>\n",
       "      <td>Learning in the Vestibular System:\\nSimulation...</td>\n",
       "    </tr>\n",
       "  </tbody>\n",
       "</table>\n",
       "</div>"
      ],
      "text/plain": [
       "                                             paper_text\n",
       "1904  218\\n\\nBengio, De Mori and Cardin\\n\\nSpeaker I...\n",
       "2138  Interpolating Between Types and Tokens\\nby Est...\n",
       "3524  Adaptive Hedge\\n\\n?\\nPeter Grunwald\\n\\nTim van...\n",
       "535   57\\n\\nSelf Organizing Neural Networks for the\\...\n",
       "4132  Learning in the Vestibular System:\\nSimulation..."
      ]
     },
     "execution_count": 2,
     "metadata": {},
     "output_type": "execute_result"
    }
   ],
   "source": [
    "# Remove the columns\n",
    "papers = papers.drop(columns=['id', 'title', 'abstract', \n",
    "                              'event_type', 'pdf_name', 'year'], axis=1)\n",
    "\n",
    "# sample only 10 papers - for demonstration purposes\n",
    "papers = papers.sample(10)\n",
    "\n",
    "# Print out the first rows of papers\n",
    "papers.head()"
   ]
  },
  {
   "cell_type": "markdown",
   "metadata": {},
   "source": [
    "#### Remove punctuation/lower casing\n",
    "Next, let’s perform a simple preprocessing on the content of paper_text column to make them more amenable for analysis, and reliable results. To do that, we’ll use a regular expression to remove any punctuation, and then lowercase the text"
   ]
  },
  {
   "cell_type": "code",
   "execution_count": 3,
   "metadata": {},
   "outputs": [
    {
     "data": {
      "text/plain": [
       "1904    bengio de mori and cardin\\n\\nspeaker independe...\n",
       "2138    interpolating between types and tokens\\nby est...\n",
       "3524    adaptive hedge\\n\\n\\npeter grunwald\\n\\ntim van ...\n",
       "535     self organizing neural networks for the\\nident...\n",
       "4132    learning in the vestibular system \\nsimulation...\n",
       "Name: paper_text_processed, dtype: object"
      ]
     },
     "execution_count": 3,
     "metadata": {},
     "output_type": "execute_result"
    }
   ],
   "source": [
    "# Load the regular expression library\n",
    "import re\n",
    "from nltk.stem import PorterStemmer\n",
    "\n",
    "# Remove punctuation\n",
    "papers['paper_text_processed'] = papers['paper_text'].map(lambda x: re.sub('[,\\.!?]', '', x))\n",
    "# Remove none alphabic character(s)\n",
    "papers['paper_text_processed'] = papers['paper_text_processed'].map(lambda x: re.sub('[~\\'(){}:;+-=*\"&]', ' ', x))\n",
    "# Remove number\n",
    "papers['paper_text_processed'] = papers['paper_text_processed'].map(lambda x: re.sub('[0-9]+', '', x))\n",
    "# Convert the titles to lowercase\n",
    "papers['paper_text_processed'] = papers['paper_text_processed'].map(lambda x: x.lower().strip())\n",
    "# Print out the first rows of papers\n",
    "papers['paper_text_processed'].head()"
   ]
  },
  {
   "cell_type": "code",
   "execution_count": 4,
   "metadata": {},
   "outputs": [],
   "source": [
    "# papers['paper_text_processed'][55][:200]"
   ]
  },
  {
   "cell_type": "markdown",
   "metadata": {},
   "source": [
    "#### Tokenize words and further clean-up text\n",
    "Let’s tokenize each sentence into a list of words, removing punctuations and unnecessary characters altogether."
   ]
  },
  {
   "cell_type": "code",
   "execution_count": 5,
   "metadata": {},
   "outputs": [
    {
     "name": "stderr",
     "output_type": "stream",
     "text": [
      "c:\\users\\johnlee\\appdata\\local\\programs\\python\\python36\\lib\\site-packages\\gensim\\utils.py:1212: UserWarning: detected Windows; aliasing chunkize to chunkize_serial\n",
      "  warnings.warn(\"detected Windows; aliasing chunkize to chunkize_serial\")\n"
     ]
    },
    {
     "name": "stdout",
     "output_type": "stream",
     "text": [
      "['bengio', 'de', 'mori', 'and', 'cardin', 'speaker', 'independent', 'speech', 'recognition', 'with', 'neural', 'networks', 'and', 'speech', 'knowledge', 'yoshua', 'bengio', 'renato', 'de', 'mori', 'dept', 'computer', 'science', 'dept', 'computer', 'science', 'mcgill', 'university', 'mcgill', 'university', 'montreal', 'canada', 'regis', 'cardin', 'dept', 'computer', 'science', 'mcgill', 'university', 'abstract', 'we', 'attempt', 'to', 'combine', 'neural', 'networks', 'with', 'knowledge', 'from', 'speech', 'science', 'to', 'build', 'speaker', 'independent', 'speech', 'recognition', 'system', 'this', 'knowledge', 'is', 'utilized', 'in', 'designing', 'the', 'preprocessing', 'input', 'coding', 'output', 'coding', 'output', 'supervision', 'and', 'architectural', 'constraints', 'to', 'handle', 'the', 'temporal', 'aspect', 'of', 'speech', 'we', 'combine', 'delays', 'copies', 'of', 'activations', 'of', 'hidden', 'and', 'output', 'units', 'at', 'the', 'input', 'level', 'and', 'back', 'propagation']\n",
      "Wall time: 548 ms\n"
     ]
    }
   ],
   "source": [
    "%%time\n",
    "import gensim\n",
    "from gensim.utils import simple_preprocess\n",
    "\n",
    "def sent_to_words(sentences):\n",
    "    for sentence in sentences:\n",
    "        yield(gensim.utils.simple_preprocess(str(sentence), deacc=True))  # deacc=True removes punctuations\n",
    "        \n",
    "data = papers.paper_text_processed.values.tolist()\n",
    "data_words = list(sent_to_words(data))\n",
    "print(data_words[:1][0][:100]) # The front 100 words of first article"
   ]
  },
  {
   "cell_type": "markdown",
   "metadata": {},
   "source": [
    "### <font color='darkgreen'>Phrase Modeling: Bi-grams and Tri-grams</font>\n",
    "Bigrams are two words frequently occurring together in the document. Trigrams are 3 words frequently occurring. Some examples in our example are: ‘back_bumper’, ‘oil_leakage’, ‘maryland_college_park’ etc.\n",
    "\n",
    "[**Gensim’s Phrases model**](https://radimrehurek.com/gensim/models/phrases.html) can build and implement the bigrams, trigrams, quadgrams and more. The two important arguments to Phrases are `min_count` and `threshold`. For the parameters below, the higher the values of these param, the harder it is for words to be combined."
   ]
  },
  {
   "cell_type": "code",
   "execution_count": 6,
   "metadata": {},
   "outputs": [
    {
     "name": "stderr",
     "output_type": "stream",
     "text": [
      "c:\\users\\johnlee\\appdata\\local\\programs\\python\\python36\\lib\\site-packages\\gensim\\models\\phrases.py:598: UserWarning: For a faster implementation, use the gensim.models.phrases.Phraser class\n",
      "  warnings.warn(\"For a faster implementation, use the gensim.models.phrases.Phraser class\")\n"
     ]
    }
   ],
   "source": [
    "# Build the bigram and trigram models\n",
    "bigram = gensim.models.Phrases(data_words, min_count=5, threshold=100) # higher threshold fewer phrases.\n",
    "trigram = gensim.models.Phrases(bigram[data_words], threshold=100)\n",
    "\n",
    "# Faster way to get a sentence clubbed as a trigram/bigram\n",
    "bigram_mod = gensim.models.phrases.Phraser(bigram)\n",
    "trigram_mod = gensim.models.phrases.Phraser(trigram)"
   ]
  },
  {
   "cell_type": "markdown",
   "metadata": {},
   "source": [
    "#### Remove Stopwords, Make Bigrams and Lemmatize\n",
    "The phrase models are ready. Let’s define the functions to remove the stopwords, make trigrams and [**lemmatization**](https://en.wikipedia.org/wiki/Lemmatisation) and call them sequentially."
   ]
  },
  {
   "cell_type": "code",
   "execution_count": 7,
   "metadata": {},
   "outputs": [
    {
     "name": "stderr",
     "output_type": "stream",
     "text": [
      "[nltk_data] Downloading package stopwords to\n",
      "[nltk_data]     C:\\Users\\johnlee\\AppData\\Roaming\\nltk_data...\n",
      "[nltk_data]   Package stopwords is already up-to-date!\n"
     ]
    },
    {
     "data": {
      "text/plain": [
       "True"
      ]
     },
     "execution_count": 7,
     "metadata": {},
     "output_type": "execute_result"
    }
   ],
   "source": [
    "import nltk\n",
    "\n",
    "nltk.download('stopwords')"
   ]
  },
  {
   "cell_type": "code",
   "execution_count": 8,
   "metadata": {},
   "outputs": [],
   "source": [
    "# NLTK Stop words\n",
    "from nltk.corpus import stopwords\n",
    "stop_words = stopwords.words('english')\n",
    "stop_words.extend(['from', 'subject', 're', 'edu', 'use'])\n",
    "# Define functions for stopwords, bigrams, trigrams and lemmatization\n",
    "def remove_stopwords(texts):\n",
    "    return [[word for word in simple_preprocess(str(doc)) if word not in stop_words] for doc in texts]\n",
    "\n",
    "def make_bigrams(texts):\n",
    "    return [bigram_mod[doc] for doc in texts]\n",
    "\n",
    "def make_trigrams(texts):\n",
    "    return [trigram_mod[bigram_mod[doc]] for doc in texts]\n",
    "\n",
    "def lemmatization(texts, allowed_postags=['NOUN', 'ADJ', 'VERB', 'ADV']):\n",
    "    \"\"\"https://spacy.io/api/annotation\"\"\"\n",
    "    texts_out = []\n",
    "    for sent in texts:\n",
    "        doc = nlp(\" \".join(sent)) \n",
    "        texts_out.append([token.lemma_ for token in doc if token.pos_ in allowed_postags])\n",
    "    return texts_out"
   ]
  },
  {
   "cell_type": "markdown",
   "metadata": {},
   "source": [
    "Let’s call the functions in order."
   ]
  },
  {
   "cell_type": "code",
   "execution_count": 33,
   "metadata": {},
   "outputs": [],
   "source": [
    "# Optional\n",
    "# !pip install spacy\n",
    "# !python -m spacy download en_core_web_sm"
   ]
  },
  {
   "cell_type": "code",
   "execution_count": 10,
   "metadata": {},
   "outputs": [
    {
     "name": "stdout",
     "output_type": "stream",
     "text": [
      "['mori', 'speech', 'dept', 'speech', 'science', 'build', 'speech_recognition', 'system', 'knowledge', 'utilize']\n"
     ]
    }
   ],
   "source": [
    "import spacy\n",
    "# Remove Stop Words\n",
    "data_words_nostops = remove_stopwords(data_words)\n",
    "# Form Bigrams\n",
    "data_words_bigrams = make_bigrams(data_words_nostops)\n",
    "# Initialize spacy 'en' model, keeping only tagger component (for efficiency)\n",
    "nlp = spacy.load(\"en_core_web_sm\", disable=['parser', 'ner'])\n",
    "# Do lemmatization keeping only noun, adj, vb, adv\n",
    "data_lemmatized = lemmatization(data_words_bigrams, allowed_postags=['NOUN', 'ADJ', 'VERB', 'ADV'])\n",
    "print(data_lemmatized[:1][0][:10])"
   ]
  },
  {
   "cell_type": "markdown",
   "metadata": {},
   "source": [
    "### <font color='darkgreen'>Data Transformation: Corpus and Dictionary</font>\n",
    "The two main inputs to the LDA topic model are the dictionary(id2word) and the corpus. Let’s create them."
   ]
  },
  {
   "cell_type": "code",
   "execution_count": 11,
   "metadata": {},
   "outputs": [
    {
     "name": "stdout",
     "output_type": "stream",
     "text": [
      "[(0, 1), (1, 1), (2, 1), (3, 1), (4, 1), (5, 10), (6, 1), (7, 2), (8, 1), (9, 3)]\n"
     ]
    }
   ],
   "source": [
    "import gensim.corpora as corpora\n",
    "# Create Dictionary\n",
    "id2word = corpora.Dictionary(data_lemmatized)\n",
    "# Create Corpus\n",
    "texts = data_lemmatized\n",
    "# Term Document Frequency\n",
    "corpus = [id2word.doc2bow(text) for text in texts]\n",
    "# View\n",
    "print(corpus[:1][0][:10])"
   ]
  },
  {
   "cell_type": "markdown",
   "metadata": {},
   "source": [
    "Gensim creates a unique id for each word in the document. The produced corpus shown above is a mapping of `(word_id, word_frequency)`. For example, (1, 1) above implies, word id 0 occurs one times in the first document. Likewise, word id 2 occurs thrice and so on.\n",
    "\n",
    "## <font color='darkgreen'>Base Model</font>\n",
    "We have everything required to train the base LDA model. In addition to the corpus and dictionary, you need to provide the number of topics as well. Apart from that, alpha and eta are hyperparameters that affect sparsity of the topics. According to the Gensim docs, both defaults to 1.0/num_topics prior (<font color='brown'>we’ll use default for the base model</font>).\n",
    "\n",
    "* **chunksize** controls how many documents are processed at a time in the training algorithm. Increasing chunksize will speed up training, at least as long as the chunk of documents easily fit into memory.\n",
    "* **passes** controls how often we train the model on the entire corpus (<font color='brown'>set to 10</font>). Another word for passes might be “epochs”. iterations is somewhat technical, but essentially it controls how often we repeat a particular loop over each document. It is important to set the number of “passes” and “iterations” high enough."
   ]
  },
  {
   "cell_type": "code",
   "execution_count": 12,
   "metadata": {},
   "outputs": [],
   "source": [
    "# Build LDA model\n",
    "lda_model = gensim.models.LdaMulticore(corpus=corpus,\n",
    "                                       id2word=id2word,\n",
    "                                       num_topics=10, \n",
    "                                       random_state=100,\n",
    "                                       chunksize=100,\n",
    "                                       passes=10,\n",
    "                                       per_word_topics=True)"
   ]
  },
  {
   "cell_type": "markdown",
   "metadata": {},
   "source": [
    "#### View the topics in LDA model\n",
    "The above LDA model is built with 10 different topics where each topic is a combination of keywords and each keyword contributes a certain weightage to the topic. You can see the keywords for each topic and the weightage(importance) of each keyword using <font color='blue'>lda_model.print_topics()</font>"
   ]
  },
  {
   "cell_type": "code",
   "execution_count": 13,
   "metadata": {},
   "outputs": [
    {
     "name": "stdout",
     "output_type": "stream",
     "text": [
      "[(0,\n",
      "  '0.001*\"model\" + 0.001*\"error\" + 0.001*\"invite\" + 0.001*\"state\" + '\n",
      "  '0.001*\"set\" + 0.001*\"network\" + 0.001*\"function\" + 0.001*\"output\" + '\n",
      "  '0.001*\"list\" + 0.001*\"result\"'),\n",
      " (1,\n",
      "  '0.001*\"loss\" + 0.001*\"number\" + 0.001*\"result\" + 0.001*\"set\" + '\n",
      "  '0.001*\"model\" + 0.001*\"use\" + 0.001*\"action\" + 0.001*\"probability\" + '\n",
      "  '0.001*\"regret\" + 0.001*\"show\"'),\n",
      " (2,\n",
      "  '0.016*\"network\" + 0.015*\"training\" + 0.014*\"number\" + 0.010*\"speech\" + '\n",
      "  '0.009*\"unit\" + 0.009*\"output\" + 0.009*\"input\" + 0.009*\"pattern\" + '\n",
      "  '0.009*\"classifier\" + 0.008*\"time\"'),\n",
      " (3,\n",
      "  '0.022*\"network\" + 0.021*\"figure\" + 0.016*\"output\" + 0.016*\"unit\" + '\n",
      "  '0.016*\"vor\" + 0.015*\"normal\" + 0.013*\"gain\" + 0.013*\"response\" + '\n",
      "  '0.013*\"time\" + 0.012*\"stage\"'),\n",
      " (4,\n",
      "  '0.001*\"model\" + 0.001*\"invite\" + 0.001*\"set\" + 0.001*\"loss\" + '\n",
      "  '0.001*\"result\" + 0.001*\"state\" + 0.001*\"use\" + 0.001*\"output\" + '\n",
      "  '0.001*\"structure\" + 0.001*\"number\"'),\n",
      " (5,\n",
      "  '0.040*\"model\" + 0.011*\"use\" + 0.011*\"image\" + 0.010*\"convergence\" + '\n",
      "  '0.009*\"wavelet\" + 0.009*\"result\" + 0.009*\"output\" + 0.008*\"number\" + '\n",
      "  '0.007*\"parameter\" + 0.007*\"input\"'),\n",
      " (6,\n",
      "  '0.001*\"model\" + 0.001*\"set\" + 0.001*\"number\" + 0.001*\"use\" + '\n",
      "  '0.001*\"network\" + 0.001*\"result\" + 0.000*\"word\" + 0.000*\"invite\" + '\n",
      "  '0.000*\"structure\" + 0.000*\"output\"'),\n",
      " (7,\n",
      "  '0.016*\"invite\" + 0.016*\"loss\" + 0.012*\"action\" + 0.011*\"state\" + '\n",
      "  '0.010*\"regret\" + 0.010*\"probability\" + 0.008*\"list\" + 0.008*\"random_walk\" + '\n",
      "  '0.007*\"hedge\" + 0.007*\"transition\"'),\n",
      " (8,\n",
      "  '0.039*\"model\" + 0.032*\"word\" + 0.020*\"distribution\" + 0.016*\"process\" + '\n",
      "  '0.016*\"language\" + 0.015*\"type\" + 0.014*\"produce\" + 0.014*\"token\" + '\n",
      "  '0.011*\"use\" + 0.010*\"table\"'),\n",
      " (9,\n",
      "  '0.028*\"norm\" + 0.021*\"set\" + 0.017*\"result\" + 0.017*\"error\" + '\n",
      "  '0.016*\"consider\" + 0.015*\"analysis\" + 0.015*\"isotropic\" + 0.013*\"row\" + '\n",
      "  '0.013*\"gaussian\" + 0.012*\"independent\"')]\n"
     ]
    }
   ],
   "source": [
    "from pprint import pprint\n",
    "# Print the Keyword in the 10 topics\n",
    "pprint(lda_model.print_topics())\n",
    "doc_lda = lda_model[corpus]"
   ]
  },
  {
   "cell_type": "markdown",
   "metadata": {},
   "source": [
    "#### Compute Model Perplexity and Coherence Score\n",
    "Let’s calculate the baseline coherence score"
   ]
  },
  {
   "cell_type": "code",
   "execution_count": 14,
   "metadata": {},
   "outputs": [
    {
     "name": "stdout",
     "output_type": "stream",
     "text": [
      "\n",
      "Coherence Score:  0.41369518132594835\n"
     ]
    }
   ],
   "source": [
    "from gensim.models import CoherenceModel\n",
    "# Compute Coherence Score\n",
    "coherence_model_lda = CoherenceModel(model=lda_model, texts=data_lemmatized, dictionary=id2word, coherence='c_v')\n",
    "coherence_lda = coherence_model_lda.get_coherence()\n",
    "print('\\nCoherence Score: ', coherence_lda)"
   ]
  },
  {
   "cell_type": "markdown",
   "metadata": {},
   "source": [
    "### <font color='darkgreen'>Hyperparameter Tuning</font>\n",
    "First, let’s differentiate between model hyperparameters and model parameters :\n",
    "* **Model hyperparameters** can be thought of as settings for a machine learning algorithm that are tuned by the data scientist before training. Examples would be the number of trees in the random forest, or in our case, number of topics <i>K</i>\n",
    "* **Model parameters** can be thought of as what the model learns during training, such as the weights for each word in a given topic\n",
    "\n",
    "Now that we have the baseline coherence score for the default LDA model, let’s perform a series of sensitivity tests to help determine the following model hyperparameters:\n",
    "1. Number of Topics (<i>K</i>)\n",
    "2. Dirichlet hyperparameter alpha: Document-Topic Density\n",
    "3. Dirichlet hyperparameter beta: Word-Topic Density\n",
    "\n",
    "We’ll perform these tests in sequence, one parameter at a time by keeping others constant and run them over the two different validation corpus sets. We’ll use `C_v` as our choice of metric for performance comparison"
   ]
  },
  {
   "cell_type": "code",
   "execution_count": 15,
   "metadata": {},
   "outputs": [],
   "source": [
    "# supporting function\n",
    "def compute_coherence_values(corpus, dictionary, k, a, b):    \n",
    "    lda_model = gensim.models.LdaMulticore(corpus=corpus,\n",
    "                                           id2word=id2word,\n",
    "                                           num_topics=k, \n",
    "                                           random_state=100,\n",
    "                                           chunksize=100,\n",
    "                                           passes=10,\n",
    "                                           alpha=a,\n",
    "                                           eta=b,\n",
    "                                           per_word_topics=True)\n",
    "    \n",
    "    coherence_model_lda = CoherenceModel(model=lda_model, texts=data_lemmatized, dictionary=id2word, coherence='c_v')\n",
    "    \n",
    "    return coherence_model_lda.get_coherence()"
   ]
  },
  {
   "cell_type": "markdown",
   "metadata": {},
   "source": [
    "Let’s call the function, and iterate it over the range of topics, alpha, and beta parameter values"
   ]
  },
  {
   "cell_type": "code",
   "execution_count": 17,
   "metadata": {},
   "outputs": [
    {
     "name": "stderr",
     "output_type": "stream",
     "text": [
      " 11%|█████████                                                                        | 30/270 [04:18<33:50,  8.46s/it]c:\\users\\johnlee\\appdata\\local\\programs\\python\\python36\\lib\\site-packages\\gensim\\models\\ldamodel.py:1023: RuntimeWarning: divide by zero encountered in log\n",
      "  diff = np.log(self.expElogbeta)\n",
      "100%|████████████████████████████████████████████████████████████████████████████████| 270/270 [40:53<00:00,  9.09s/it]"
     ]
    },
    {
     "name": "stdout",
     "output_type": "stream",
     "text": [
      "Wall time: 40min 53s\n"
     ]
    },
    {
     "name": "stderr",
     "output_type": "stream",
     "text": [
      "\n"
     ]
    }
   ],
   "source": [
    "%%time\n",
    "import numpy as np\n",
    "import tqdm\n",
    "grid = {}\n",
    "grid['Validation_Set'] = {}\n",
    "# Topics range\n",
    "min_topics = 2\n",
    "max_topics = 11\n",
    "step_size = 1\n",
    "topics_range = range(min_topics, max_topics, step_size)\n",
    "# Alpha parameter\n",
    "alpha = list(np.arange(0.01, 1, 0.3))\n",
    "alpha.append('symmetric')\n",
    "alpha.append('asymmetric')\n",
    "# Beta parameter\n",
    "beta = list(np.arange(0.01, 1, 0.3))\n",
    "beta.append('symmetric')\n",
    "# Validation sets\n",
    "num_of_docs = len(corpus)\n",
    "corpus_sets = [# gensim.utils.ClippedCorpus(corpus, num_of_docs*0.25), \n",
    "               # gensim.utils.ClippedCorpus(corpus, num_of_docs*0.5), \n",
    "               # gensim.utils.ClippedCorpus(corpus, num_of_docs*0.75), \n",
    "               corpus]\n",
    "corpus_title = ['75% Corpus', '100% Corpus']\n",
    "model_results = {'Validation_Set': [],\n",
    "                 'Topics': [],\n",
    "                 'Alpha': [],\n",
    "                 'Beta': [],\n",
    "                 'Coherence': []\n",
    "                }\n",
    "# Can take a long time to run\n",
    "if 1 == 1:\n",
    "    loop_num = len(corpus_sets) * len(topics_range) * len(alpha) * len(beta)\n",
    "    pbar = tqdm.tqdm(total=loop_num)\n",
    "    \n",
    "    # iterate through validation corpuses\n",
    "    iter_i = 0\n",
    "    for i in range(len(corpus_sets)):\n",
    "        # iterate through number of topics\n",
    "        for k in topics_range:\n",
    "            # iterate through alpha values\n",
    "            for a in alpha:\n",
    "                # iterare through beta values\n",
    "                for b in beta:\n",
    "                    # get the coherence score for the given parameters\n",
    "                    cv = compute_coherence_values(corpus=corpus_sets[i], dictionary=id2word, k=k, a=a, b=b)\n",
    "                    # Save the model results\n",
    "                    model_results['Validation_Set'].append(corpus_title[i])\n",
    "                    model_results['Topics'].append(k)\n",
    "                    model_results['Alpha'].append(a)\n",
    "                    model_results['Beta'].append(b)\n",
    "                    model_results['Coherence'].append(cv)\n",
    "                                        \n",
    "                    pbar.update(1)                    \n",
    "    pd.DataFrame(model_results).to_csv('lda_tuning_results.csv', index=False)\n",
    "    pbar.close()"
   ]
  },
  {
   "cell_type": "markdown",
   "metadata": {},
   "source": [
    "### <font color='darkgreen'>Investigate Results</font>\n",
    "Let’s start by determining the optimal number of topics. The chart below outlines the coherence score, `C_v`, for the number of topics across two validation sets, and a fixed alpha = 0.01 and beta = 0.01"
   ]
  },
  {
   "cell_type": "code",
   "execution_count": 21,
   "metadata": {},
   "outputs": [
    {
     "name": "stdout",
     "output_type": "stream",
     "text": [
      "Topic number=2 with coherence value=0.27\n",
      "Topic number=3 with coherence value=0.34\n",
      "Topic number=4 with coherence value=0.42\n",
      "Topic number=5 with coherence value=0.44\n",
      "Topic number=6 with coherence value=0.45\n",
      "Topic number=7 with coherence value=0.38\n",
      "Topic number=8 with coherence value=0.39\n",
      "Topic number=9 with coherence value=0.46\n",
      "Topic number=10 with coherence value=0.39\n"
     ]
    }
   ],
   "source": [
    "# Prepare the data for drawing chart\n",
    "target_alpha = 0.01\n",
    "target_beta = 0.01\n",
    "topic_nums = list(range(2, 11))\n",
    "target_co_pos_set = set()\n",
    "for i, t in enumerate(zip(model_results['Alpha'], model_results['Beta'])):\n",
    "    if t[0] == target_alpha and t[1] == target_beta:\n",
    "        target_co_pos_set.add(i)\n",
    "        \n",
    "coherences = []\n",
    "for i, co in enumerate(model_results['Coherence']):\n",
    "    if i in target_co_pos_set:\n",
    "        coherences.append(co)\n",
    "        \n",
    "for topic_num, coherence in zip(topic_nums, coherences):\n",
    "    print(\"Topic number={} with coherence value={:.02f}\".format(topic_num, coherence))"
   ]
  },
  {
   "cell_type": "code",
   "execution_count": 28,
   "metadata": {},
   "outputs": [
    {
     "data": {
      "image/png": "[encoded data removed]",
      "text/plain": [
       "<Figure size 900x500 with 1 Axes>"
      ]
     },
     "metadata": {
      "needs_background": "light"
     },
     "output_type": "display_data"
    }
   ],
   "source": [
    "import matplotlib.pyplot as plt\n",
    "\n",
    "plt.figure(figsize=(9, 5), dpi=100, linewidth = 2)\n",
    "plt.plot(topic_nums, coherences, 's-', color = 'r', label=\"Coherence score (alpha=beta=0.01)\")\n",
    "plt.title(\"Topic Coherence: Determining optimal topic number\", x=0.5, y=1.03)\n",
    "plt.xticks(fontsize=7)\n",
    "plt.yticks(fontsize=7)\n",
    "plt.xlabel(\"Number of topic\", fontsize=10, labelpad = 15)\n",
    "plt.ylabel(\"Coherence score\", fontsize=10, labelpad = 20)\n",
    "\n",
    "plt.legend(loc = \"best\", fontsize=10)\n",
    "plt.show()"
   ]
  },
  {
   "cell_type": "markdown",
   "metadata": {},
   "source": [
    "With the coherence score seems to keep increasing with the number of topics, **it may make better sense to pick the model that gave the highest <font color='violet'>CV</font> before flattening out or a major drop**. In this case, we picked K=9. Next, we want to select the optimal alpha and beta parameters. While there are other sophisticated approaches to tackle the selection process, for this tutorial, we choose the values that yielded maximum <font color='violet'>C_v</font> score for K=9:"
   ]
  },
  {
   "cell_type": "code",
   "execution_count": 30,
   "metadata": {},
   "outputs": [
    {
     "data": {
      "text/plain": [
       "[(0.01, 0.61, 0.4668364721990676),\n",
       " (0.31, 0.61, 0.4668364721990676),\n",
       " ('symmetric', 0.61, 0.4668364721990676),\n",
       " (0.01, 0.31, 0.4659944830252864),\n",
       " (0.01, 'symmetric', 0.4659944830252864),\n",
       " (0.31, 0.31, 0.4659944830252864),\n",
       " (0.31, 'symmetric', 0.4659944830252864),\n",
       " ('symmetric', 0.31, 0.4659944830252864),\n",
       " ('symmetric', 'symmetric', 0.4659944830252864),\n",
       " ('asymmetric', 0.01, 0.4659944830252864)]"
      ]
     },
     "execution_count": 30,
     "metadata": {},
     "output_type": "execute_result"
    }
   ],
   "source": [
    "target_topic_num = 9\n",
    "target_collection = []\n",
    "for k, a, b, c in zip(model_results['Topics'], model_results['Alpha'], model_results['Beta'], model_results['Coherence']):\n",
    "    if k == target_topic_num:\n",
    "        target_collection.append((a, b, c))\n",
    "        \n",
    "target_collection = sorted(target_collection, key=lambda t: t[2], reverse=True)\n",
    "target_collection[:10]"
   ]
  },
  {
   "cell_type": "code",
   "execution_count": 34,
   "metadata": {},
   "outputs": [],
   "source": [
    "# Optional\n",
    "# !pip install plotly"
   ]
  },
  {
   "cell_type": "code",
   "execution_count": 38,
   "metadata": {},
   "outputs": [
    {
     "data": {
      "application/vnd.plotly.v1+json": {
       "config": {
        "plotlyServerURL": "https://plot.ly"
       },
       "data": [
        {
         "cells": {
          "values": [
           [
            0.01,
            0.31,
            "symmetric",
            0.01,
            0.01,
            0.31,
            0.31,
            "symmetric",
            "symmetric",
            "asymmetric"
           ],
           [
            0.61,
            0.61,
            0.61,
            0.31,
            "symmetric",
            0.31,
            "symmetric",
            0.31,
            "symmetric",
            0.01
           ],
           [
            0.4668364721990676,
            0.4668364721990676,
            0.4668364721990676,
            0.4659944830252864,
            0.4659944830252864,
            0.4659944830252864,
            0.4659944830252864,
            0.4659944830252864,
            0.4659944830252864,
            0.4659944830252864
           ]
          ]
         },
         "header": {
          "values": [
           "Alpha",
           "Eta",
           "Coherence"
          ]
         },
         "type": "table"
        }
       ],
       "layout": {
        "template": {
         "data": {
          "bar": [
           {
            "error_x": {
             "color": "#2a3f5f"
            },
            "error_y": {
             "color": "#2a3f5f"
            },
            "marker": {
             "line": {
              "color": "#E5ECF6",
              "width": 0.5
             }
            },
            "type": "bar"
           }
          ],
          "barpolar": [
           {
            "marker": {
             "line": {
              "color": "#E5ECF6",
              "width": 0.5
             }
            },
            "type": "barpolar"
           }
          ],
          "carpet": [
           {
            "aaxis": {
             "endlinecolor": "#2a3f5f",
             "gridcolor": "white",
             "linecolor": "white",
             "minorgridcolor": "white",
             "startlinecolor": "#2a3f5f"
            },
            "baxis": {
             "endlinecolor": "#2a3f5f",
             "gridcolor": "white",
             "linecolor": "white",
             "minorgridcolor": "white",
             "startlinecolor": "#2a3f5f"
            },
            "type": "carpet"
           }
          ],
          "choropleth": [
           {
            "colorbar": {
             "outlinewidth": 0,
             "ticks": ""
            },
            "type": "choropleth"
           }
          ],
          "contour": [
           {
            "colorbar": {
             "outlinewidth": 0,
             "ticks": ""
            },
            "colorscale": [
             [
              0,
              "#0d0887"
             ],
             [
              0.1111111111111111,
              "#46039f"
             ],
             [
              0.2222222222222222,
              "#7201a8"
             ],
             [
              0.3333333333333333,
              "#9c179e"
             ],
             [
              0.4444444444444444,
              "#bd3786"
             ],
             [
              0.5555555555555556,
              "#d8576b"
             ],
             [
              0.6666666666666666,
              "#ed7953"
             ],
             [
              0.7777777777777778,
              "#fb9f3a"
             ],
             [
              0.8888888888888888,
              "#fdca26"
             ],
             [
              1,
              "#f0f921"
             ]
            ],
            "type": "contour"
           }
          ],
          "contourcarpet": [
           {
            "colorbar": {
             "outlinewidth": 0,
             "ticks": ""
            },
            "type": "contourcarpet"
           }
          ],
          "heatmap": [
           {
            "colorbar": {
             "outlinewidth": 0,
             "ticks": ""
            },
            "colorscale": [
             [
              0,
              "#0d0887"
             ],
             [
              0.1111111111111111,
              "#46039f"
             ],
             [
              0.2222222222222222,
              "#7201a8"
             ],
             [
              0.3333333333333333,
              "#9c179e"
             ],
             [
              0.4444444444444444,
              "#bd3786"
             ],
             [
              0.5555555555555556,
              "#d8576b"
             ],
             [
              0.6666666666666666,
              "#ed7953"
             ],
             [
              0.7777777777777778,
              "#fb9f3a"
             ],
             [
              0.8888888888888888,
              "#fdca26"
             ],
             [
              1,
              "#f0f921"
             ]
            ],
            "type": "heatmap"
           }
          ],
          "heatmapgl": [
           {
            "colorbar": {
             "outlinewidth": 0,
             "ticks": ""
            },
            "colorscale": [
             [
              0,
              "#0d0887"
             ],
             [
              0.1111111111111111,
              "#46039f"
             ],
             [
              0.2222222222222222,
              "#7201a8"
             ],
             [
              0.3333333333333333,
              "#9c179e"
             ],
             [
              0.4444444444444444,
              "#bd3786"
             ],
             [
              0.5555555555555556,
              "#d8576b"
             ],
             [
              0.6666666666666666,
              "#ed7953"
             ],
             [
              0.7777777777777778,
              "#fb9f3a"
             ],
             [
              0.8888888888888888,
              "#fdca26"
             ],
             [
              1,
              "#f0f921"
             ]
            ],
            "type": "heatmapgl"
           }
          ],
          "histogram": [
           {
            "marker": {
             "colorbar": {
              "outlinewidth": 0,
              "ticks": ""
             }
            },
            "type": "histogram"
           }
          ],
          "histogram2d": [
           {
            "colorbar": {
             "outlinewidth": 0,
             "ticks": ""
            },
            "colorscale": [
             [
              0,
              "#0d0887"
             ],
             [
              0.1111111111111111,
              "#46039f"
             ],
             [
              0.2222222222222222,
              "#7201a8"
             ],
             [
              0.3333333333333333,
              "#9c179e"
             ],
             [
              0.4444444444444444,
              "#bd3786"
             ],
             [
              0.5555555555555556,
              "#d8576b"
             ],
             [
              0.6666666666666666,
              "#ed7953"
             ],
             [
              0.7777777777777778,
              "#fb9f3a"
             ],
             [
              0.8888888888888888,
              "#fdca26"
             ],
             [
              1,
              "#f0f921"
             ]
            ],
            "type": "histogram2d"
           }
          ],
          "histogram2dcontour": [
           {
            "colorbar": {
             "outlinewidth": 0,
             "ticks": ""
            },
            "colorscale": [
             [
              0,
              "#0d0887"
             ],
             [
              0.1111111111111111,
              "#46039f"
             ],
             [
              0.2222222222222222,
              "#7201a8"
             ],
             [
              0.3333333333333333,
              "#9c179e"
             ],
             [
              0.4444444444444444,
              "#bd3786"
             ],
             [
              0.5555555555555556,
              "#d8576b"
             ],
             [
              0.6666666666666666,
              "#ed7953"
             ],
             [
              0.7777777777777778,
              "#fb9f3a"
             ],
             [
              0.8888888888888888,
              "#fdca26"
             ],
             [
              1,
              "#f0f921"
             ]
            ],
            "type": "histogram2dcontour"
           }
          ],
          "mesh3d": [
           {
            "colorbar": {
             "outlinewidth": 0,
             "ticks": ""
            },
            "type": "mesh3d"
           }
          ],
          "parcoords": [
           {
            "line": {
             "colorbar": {
              "outlinewidth": 0,
              "ticks": ""
             }
            },
            "type": "parcoords"
           }
          ],
          "pie": [
           {
            "automargin": true,
            "type": "pie"
           }
          ],
          "scatter": [
           {
            "marker": {
             "colorbar": {
              "outlinewidth": 0,
              "ticks": ""
             }
            },
            "type": "scatter"
           }
          ],
          "scatter3d": [
           {
            "line": {
             "colorbar": {
              "outlinewidth": 0,
              "ticks": ""
             }
            },
            "marker": {
             "colorbar": {
              "outlinewidth": 0,
              "ticks": ""
             }
            },
            "type": "scatter3d"
           }
          ],
          "scattercarpet": [
           {
            "marker": {
             "colorbar": {
              "outlinewidth": 0,
              "ticks": ""
             }
            },
            "type": "scattercarpet"
           }
          ],
          "scattergeo": [
           {
            "marker": {
             "colorbar": {
              "outlinewidth": 0,
              "ticks": ""
             }
            },
            "type": "scattergeo"
           }
          ],
          "scattergl": [
           {
            "marker": {
             "colorbar": {
              "outlinewidth": 0,
              "ticks": ""
             }
            },
            "type": "scattergl"
           }
          ],
          "scattermapbox": [
           {
            "marker": {
             "colorbar": {
              "outlinewidth": 0,
              "ticks": ""
             }
            },
            "type": "scattermapbox"
           }
          ],
          "scatterpolar": [
           {
            "marker": {
             "colorbar": {
              "outlinewidth": 0,
              "ticks": ""
             }
            },
            "type": "scatterpolar"
           }
          ],
          "scatterpolargl": [
           {
            "marker": {
             "colorbar": {
              "outlinewidth": 0,
              "ticks": ""
             }
            },
            "type": "scatterpolargl"
           }
          ],
          "scatterternary": [
           {
            "marker": {
             "colorbar": {
              "outlinewidth": 0,
              "ticks": ""
             }
            },
            "type": "scatterternary"
           }
          ],
          "surface": [
           {
            "colorbar": {
             "outlinewidth": 0,
             "ticks": ""
            },
            "colorscale": [
             [
              0,
              "#0d0887"
             ],
             [
              0.1111111111111111,
              "#46039f"
             ],
             [
              0.2222222222222222,
              "#7201a8"
             ],
             [
              0.3333333333333333,
              "#9c179e"
             ],
             [
              0.4444444444444444,
              "#bd3786"
             ],
             [
              0.5555555555555556,
              "#d8576b"
             ],
             [
              0.6666666666666666,
              "#ed7953"
             ],
             [
              0.7777777777777778,
              "#fb9f3a"
             ],
             [
              0.8888888888888888,
              "#fdca26"
             ],
             [
              1,
              "#f0f921"
             ]
            ],
            "type": "surface"
           }
          ],
          "table": [
           {
            "cells": {
             "fill": {
              "color": "#EBF0F8"
             },
             "line": {
              "color": "white"
             }
            },
            "header": {
             "fill": {
              "color": "#C8D4E3"
             },
             "line": {
              "color": "white"
             }
            },
            "type": "table"
           }
          ]
         },
         "layout": {
          "annotationdefaults": {
           "arrowcolor": "#2a3f5f",
           "arrowhead": 0,
           "arrowwidth": 1
          },
          "coloraxis": {
           "colorbar": {
            "outlinewidth": 0,
            "ticks": ""
           }
          },
          "colorscale": {
           "diverging": [
            [
             0,
             "#8e0152"
            ],
            [
             0.1,
             "#c51b7d"
            ],
            [
             0.2,
             "#de77ae"
            ],
            [
             0.3,
             "#f1b6da"
            ],
            [
             0.4,
             "#fde0ef"
            ],
            [
             0.5,
             "#f7f7f7"
            ],
            [
             0.6,
             "#e6f5d0"
            ],
            [
             0.7,
             "#b8e186"
            ],
            [
             0.8,
             "#7fbc41"
            ],
            [
             0.9,
             "#4d9221"
            ],
            [
             1,
             "#276419"
            ]
           ],
           "sequential": [
            [
             0,
             "#0d0887"
            ],
            [
             0.1111111111111111,
             "#46039f"
            ],
            [
             0.2222222222222222,
             "#7201a8"
            ],
            [
             0.3333333333333333,
             "#9c179e"
            ],
            [
             0.4444444444444444,
             "#bd3786"
            ],
            [
             0.5555555555555556,
             "#d8576b"
            ],
            [
             0.6666666666666666,
             "#ed7953"
            ],
            [
             0.7777777777777778,
             "#fb9f3a"
            ],
            [
             0.8888888888888888,
             "#fdca26"
            ],
            [
             1,
             "#f0f921"
            ]
           ],
           "sequentialminus": [
            [
             0,
             "#0d0887"
            ],
            [
             0.1111111111111111,
             "#46039f"
            ],
            [
             0.2222222222222222,
             "#7201a8"
            ],
            [
             0.3333333333333333,
             "#9c179e"
            ],
            [
             0.4444444444444444,
             "#bd3786"
            ],
            [
             0.5555555555555556,
             "#d8576b"
            ],
            [
             0.6666666666666666,
             "#ed7953"
            ],
            [
             0.7777777777777778,
             "#fb9f3a"
            ],
            [
             0.8888888888888888,
             "#fdca26"
            ],
            [
             1,
             "#f0f921"
            ]
           ]
          },
          "colorway": [
           "#636efa",
           "#EF553B",
           "#00cc96",
           "#ab63fa",
           "#FFA15A",
           "#19d3f3",
           "#FF6692",
           "#B6E880",
           "#FF97FF",
           "#FECB52"
          ],
          "font": {
           "color": "#2a3f5f"
          },
          "geo": {
           "bgcolor": "white",
           "lakecolor": "white",
           "landcolor": "#E5ECF6",
           "showlakes": true,
           "showland": true,
           "subunitcolor": "white"
          },
          "hoverlabel": {
           "align": "left"
          },
          "hovermode": "closest",
          "mapbox": {
           "style": "light"
          },
          "paper_bgcolor": "white",
          "plot_bgcolor": "#E5ECF6",
          "polar": {
           "angularaxis": {
            "gridcolor": "white",
            "linecolor": "white",
            "ticks": ""
           },
           "bgcolor": "#E5ECF6",
           "radialaxis": {
            "gridcolor": "white",
            "linecolor": "white",
            "ticks": ""
           }
          },
          "scene": {
           "xaxis": {
            "backgroundcolor": "#E5ECF6",
            "gridcolor": "white",
            "gridwidth": 2,
            "linecolor": "white",
            "showbackground": true,
            "ticks": "",
            "zerolinecolor": "white"
           },
           "yaxis": {
            "backgroundcolor": "#E5ECF6",
            "gridcolor": "white",
            "gridwidth": 2,
            "linecolor": "white",
            "showbackground": true,
            "ticks": "",
            "zerolinecolor": "white"
           },
           "zaxis": {
            "backgroundcolor": "#E5ECF6",
            "gridcolor": "white",
            "gridwidth": 2,
            "linecolor": "white",
            "showbackground": true,
            "ticks": "",
            "zerolinecolor": "white"
           }
          },
          "shapedefaults": {
           "line": {
            "color": "#2a3f5f"
           }
          },
          "ternary": {
           "aaxis": {
            "gridcolor": "white",
            "linecolor": "white",
            "ticks": ""
           },
           "baxis": {
            "gridcolor": "white",
            "linecolor": "white",
            "ticks": ""
           },
           "bgcolor": "#E5ECF6",
           "caxis": {
            "gridcolor": "white",
            "linecolor": "white",
            "ticks": ""
           }
          },
          "title": {
           "x": 0.05
          },
          "xaxis": {
           "automargin": true,
           "gridcolor": "white",
           "linecolor": "white",
           "ticks": "",
           "title": {
            "standoff": 15
           },
           "zerolinecolor": "white",
           "zerolinewidth": 2
          },
          "yaxis": {
           "automargin": true,
           "gridcolor": "white",
           "linecolor": "white",
           "ticks": "",
           "title": {
            "standoff": 15
           },
           "zerolinecolor": "white",
           "zerolinewidth": 2
          }
         }
        }
       }
      },
      "text/html": [
       "<div>\n",
       "        \n",
       "        \n",
       "            <div id=\"3752c1ef-0819-4d2f-8ace-ad8c615ba990\" class=\"plotly-graph-div\" style=\"height:525px; width:100%;\"></div>\n",
       "            <script type=\"text/javascript\">\n",
       "                require([\"plotly\"], function(Plotly) {\n",
       "                    window.PLOTLYENV=window.PLOTLYENV || {};\n",
       "                    \n",
       "                if (document.getElementById(\"3752c1ef-0819-4d2f-8ace-ad8c615ba990\")) {\n",
       "                    Plotly.newPlot(\n",
       "                        '3752c1ef-0819-4d2f-8ace-ad8c615ba990',\n",
       "                        [{\"cells\": {\"values\": [[0.01, 0.31, \"symmetric\", 0.01, 0.01, 0.31, 0.31, \"symmetric\", \"symmetric\", \"asymmetric\"], [0.61, 0.61, 0.61, 0.31, \"symmetric\", 0.31, \"symmetric\", 0.31, \"symmetric\", 0.01], [0.4668364721990676, 0.4668364721990676, 0.4668364721990676, 0.4659944830252864, 0.4659944830252864, 0.4659944830252864, 0.4659944830252864, 0.4659944830252864, 0.4659944830252864, 0.4659944830252864]]}, \"header\": {\"values\": [\"Alpha\", \"Eta\", \"Coherence\"]}, \"type\": \"table\"}],\n",
       "                        {\"template\": {\"data\": {\"bar\": [{\"error_x\": {\"color\": \"#2a3f5f\"}, \"error_y\": {\"color\": \"#2a3f5f\"}, \"marker\": {\"line\": {\"color\": \"#E5ECF6\", \"width\": 0.5}}, \"type\": \"bar\"}], \"barpolar\": [{\"marker\": {\"line\": {\"color\": \"#E5ECF6\", \"width\": 0.5}}, \"type\": \"barpolar\"}], \"carpet\": [{\"aaxis\": {\"endlinecolor\": \"#2a3f5f\", \"gridcolor\": \"white\", \"linecolor\": \"white\", \"minorgridcolor\": \"white\", \"startlinecolor\": \"#2a3f5f\"}, \"baxis\": {\"endlinecolor\": \"#2a3f5f\", \"gridcolor\": \"white\", \"linecolor\": \"white\", \"minorgridcolor\": \"white\", \"startlinecolor\": \"#2a3f5f\"}, \"type\": \"carpet\"}], \"choropleth\": [{\"colorbar\": {\"outlinewidth\": 0, \"ticks\": \"\"}, \"type\": \"choropleth\"}], \"contour\": [{\"colorbar\": {\"outlinewidth\": 0, \"ticks\": \"\"}, \"colorscale\": [[0.0, \"#0d0887\"], [0.1111111111111111, \"#46039f\"], [0.2222222222222222, \"#7201a8\"], [0.3333333333333333, \"#9c179e\"], [0.4444444444444444, \"#bd3786\"], [0.5555555555555556, \"#d8576b\"], [0.6666666666666666, \"#ed7953\"], [0.7777777777777778, \"#fb9f3a\"], [0.8888888888888888, \"#fdca26\"], [1.0, \"#f0f921\"]], \"type\": \"contour\"}], \"contourcarpet\": [{\"colorbar\": {\"outlinewidth\": 0, \"ticks\": \"\"}, \"type\": \"contourcarpet\"}], \"heatmap\": [{\"colorbar\": {\"outlinewidth\": 0, \"ticks\": \"\"}, \"colorscale\": [[0.0, \"#0d0887\"], [0.1111111111111111, \"#46039f\"], [0.2222222222222222, \"#7201a8\"], [0.3333333333333333, \"#9c179e\"], [0.4444444444444444, \"#bd3786\"], [0.5555555555555556, \"#d8576b\"], [0.6666666666666666, \"#ed7953\"], [0.7777777777777778, \"#fb9f3a\"], [0.8888888888888888, \"#fdca26\"], [1.0, \"#f0f921\"]], \"type\": \"heatmap\"}], \"heatmapgl\": [{\"colorbar\": {\"outlinewidth\": 0, \"ticks\": \"\"}, \"colorscale\": [[0.0, \"#0d0887\"], [0.1111111111111111, \"#46039f\"], [0.2222222222222222, \"#7201a8\"], [0.3333333333333333, \"#9c179e\"], [0.4444444444444444, \"#bd3786\"], [0.5555555555555556, \"#d8576b\"], [0.6666666666666666, \"#ed7953\"], [0.7777777777777778, \"#fb9f3a\"], [0.8888888888888888, \"#fdca26\"], [1.0, \"#f0f921\"]], \"type\": \"heatmapgl\"}], \"histogram\": [{\"marker\": {\"colorbar\": {\"outlinewidth\": 0, \"ticks\": \"\"}}, \"type\": \"histogram\"}], \"histogram2d\": [{\"colorbar\": {\"outlinewidth\": 0, \"ticks\": \"\"}, \"colorscale\": [[0.0, \"#0d0887\"], [0.1111111111111111, \"#46039f\"], [0.2222222222222222, \"#7201a8\"], [0.3333333333333333, \"#9c179e\"], [0.4444444444444444, \"#bd3786\"], [0.5555555555555556, \"#d8576b\"], [0.6666666666666666, \"#ed7953\"], [0.7777777777777778, \"#fb9f3a\"], [0.8888888888888888, \"#fdca26\"], [1.0, \"#f0f921\"]], \"type\": \"histogram2d\"}], \"histogram2dcontour\": [{\"colorbar\": {\"outlinewidth\": 0, \"ticks\": \"\"}, \"colorscale\": [[0.0, \"#0d0887\"], [0.1111111111111111, \"#46039f\"], [0.2222222222222222, \"#7201a8\"], [0.3333333333333333, \"#9c179e\"], [0.4444444444444444, \"#bd3786\"], [0.5555555555555556, \"#d8576b\"], [0.6666666666666666, \"#ed7953\"], [0.7777777777777778, \"#fb9f3a\"], [0.8888888888888888, \"#fdca26\"], [1.0, \"#f0f921\"]], \"type\": \"histogram2dcontour\"}], \"mesh3d\": [{\"colorbar\": {\"outlinewidth\": 0, \"ticks\": \"\"}, \"type\": \"mesh3d\"}], \"parcoords\": [{\"line\": {\"colorbar\": {\"outlinewidth\": 0, \"ticks\": \"\"}}, \"type\": \"parcoords\"}], \"pie\": [{\"automargin\": true, \"type\": \"pie\"}], \"scatter\": [{\"marker\": {\"colorbar\": {\"outlinewidth\": 0, \"ticks\": \"\"}}, \"type\": \"scatter\"}], \"scatter3d\": [{\"line\": {\"colorbar\": {\"outlinewidth\": 0, \"ticks\": \"\"}}, \"marker\": {\"colorbar\": {\"outlinewidth\": 0, \"ticks\": \"\"}}, \"type\": \"scatter3d\"}], \"scattercarpet\": [{\"marker\": {\"colorbar\": {\"outlinewidth\": 0, \"ticks\": \"\"}}, \"type\": \"scattercarpet\"}], \"scattergeo\": [{\"marker\": {\"colorbar\": {\"outlinewidth\": 0, \"ticks\": \"\"}}, \"type\": \"scattergeo\"}], \"scattergl\": [{\"marker\": {\"colorbar\": {\"outlinewidth\": 0, \"ticks\": \"\"}}, \"type\": \"scattergl\"}], \"scattermapbox\": [{\"marker\": {\"colorbar\": {\"outlinewidth\": 0, \"ticks\": \"\"}}, \"type\": \"scattermapbox\"}], \"scatterpolar\": [{\"marker\": {\"colorbar\": {\"outlinewidth\": 0, \"ticks\": \"\"}}, \"type\": \"scatterpolar\"}], \"scatterpolargl\": [{\"marker\": {\"colorbar\": {\"outlinewidth\": 0, \"ticks\": \"\"}}, \"type\": \"scatterpolargl\"}], \"scatterternary\": [{\"marker\": {\"colorbar\": {\"outlinewidth\": 0, \"ticks\": \"\"}}, \"type\": \"scatterternary\"}], \"surface\": [{\"colorbar\": {\"outlinewidth\": 0, \"ticks\": \"\"}, \"colorscale\": [[0.0, \"#0d0887\"], [0.1111111111111111, \"#46039f\"], [0.2222222222222222, \"#7201a8\"], [0.3333333333333333, \"#9c179e\"], [0.4444444444444444, \"#bd3786\"], [0.5555555555555556, \"#d8576b\"], [0.6666666666666666, \"#ed7953\"], [0.7777777777777778, \"#fb9f3a\"], [0.8888888888888888, \"#fdca26\"], [1.0, \"#f0f921\"]], \"type\": \"surface\"}], \"table\": [{\"cells\": {\"fill\": {\"color\": \"#EBF0F8\"}, \"line\": {\"color\": \"white\"}}, \"header\": {\"fill\": {\"color\": \"#C8D4E3\"}, \"line\": {\"color\": \"white\"}}, \"type\": \"table\"}]}, \"layout\": {\"annotationdefaults\": {\"arrowcolor\": \"#2a3f5f\", \"arrowhead\": 0, \"arrowwidth\": 1}, \"coloraxis\": {\"colorbar\": {\"outlinewidth\": 0, \"ticks\": \"\"}}, \"colorscale\": {\"diverging\": [[0, \"#8e0152\"], [0.1, \"#c51b7d\"], [0.2, \"#de77ae\"], [0.3, \"#f1b6da\"], [0.4, \"#fde0ef\"], [0.5, \"#f7f7f7\"], [0.6, \"#e6f5d0\"], [0.7, \"#b8e186\"], [0.8, \"#7fbc41\"], [0.9, \"#4d9221\"], [1, \"#276419\"]], \"sequential\": [[0.0, \"#0d0887\"], [0.1111111111111111, \"#46039f\"], [0.2222222222222222, \"#7201a8\"], [0.3333333333333333, \"#9c179e\"], [0.4444444444444444, \"#bd3786\"], [0.5555555555555556, \"#d8576b\"], [0.6666666666666666, \"#ed7953\"], [0.7777777777777778, \"#fb9f3a\"], [0.8888888888888888, \"#fdca26\"], [1.0, \"#f0f921\"]], \"sequentialminus\": [[0.0, \"#0d0887\"], [0.1111111111111111, \"#46039f\"], [0.2222222222222222, \"#7201a8\"], [0.3333333333333333, \"#9c179e\"], [0.4444444444444444, \"#bd3786\"], [0.5555555555555556, \"#d8576b\"], [0.6666666666666666, \"#ed7953\"], [0.7777777777777778, \"#fb9f3a\"], [0.8888888888888888, \"#fdca26\"], [1.0, \"#f0f921\"]]}, \"colorway\": [\"#636efa\", \"#EF553B\", \"#00cc96\", \"#ab63fa\", \"#FFA15A\", \"#19d3f3\", \"#FF6692\", \"#B6E880\", \"#FF97FF\", \"#FECB52\"], \"font\": {\"color\": \"#2a3f5f\"}, \"geo\": {\"bgcolor\": \"white\", \"lakecolor\": \"white\", \"landcolor\": \"#E5ECF6\", \"showlakes\": true, \"showland\": true, \"subunitcolor\": \"white\"}, \"hoverlabel\": {\"align\": \"left\"}, \"hovermode\": \"closest\", \"mapbox\": {\"style\": \"light\"}, \"paper_bgcolor\": \"white\", \"plot_bgcolor\": \"#E5ECF6\", \"polar\": {\"angularaxis\": {\"gridcolor\": \"white\", \"linecolor\": \"white\", \"ticks\": \"\"}, \"bgcolor\": \"#E5ECF6\", \"radialaxis\": {\"gridcolor\": \"white\", \"linecolor\": \"white\", \"ticks\": \"\"}}, \"scene\": {\"xaxis\": {\"backgroundcolor\": \"#E5ECF6\", \"gridcolor\": \"white\", \"gridwidth\": 2, \"linecolor\": \"white\", \"showbackground\": true, \"ticks\": \"\", \"zerolinecolor\": \"white\"}, \"yaxis\": {\"backgroundcolor\": \"#E5ECF6\", \"gridcolor\": \"white\", \"gridwidth\": 2, \"linecolor\": \"white\", \"showbackground\": true, \"ticks\": \"\", \"zerolinecolor\": \"white\"}, \"zaxis\": {\"backgroundcolor\": \"#E5ECF6\", \"gridcolor\": \"white\", \"gridwidth\": 2, \"linecolor\": \"white\", \"showbackground\": true, \"ticks\": \"\", \"zerolinecolor\": \"white\"}}, \"shapedefaults\": {\"line\": {\"color\": \"#2a3f5f\"}}, \"ternary\": {\"aaxis\": {\"gridcolor\": \"white\", \"linecolor\": \"white\", \"ticks\": \"\"}, \"baxis\": {\"gridcolor\": \"white\", \"linecolor\": \"white\", \"ticks\": \"\"}, \"bgcolor\": \"#E5ECF6\", \"caxis\": {\"gridcolor\": \"white\", \"linecolor\": \"white\", \"ticks\": \"\"}}, \"title\": {\"x\": 0.05}, \"xaxis\": {\"automargin\": true, \"gridcolor\": \"white\", \"linecolor\": \"white\", \"ticks\": \"\", \"title\": {\"standoff\": 15}, \"zerolinecolor\": \"white\", \"zerolinewidth\": 2}, \"yaxis\": {\"automargin\": true, \"gridcolor\": \"white\", \"linecolor\": \"white\", \"ticks\": \"\", \"title\": {\"standoff\": 15}, \"zerolinecolor\": \"white\", \"zerolinewidth\": 2}}}},\n",
       "                        {\"responsive\": true}\n",
       "                    ).then(function(){\n",
       "                            \n",
       "var gd = document.getElementById('3752c1ef-0819-4d2f-8ace-ad8c615ba990');\n",
       "var x = new MutationObserver(function (mutations, observer) {{\n",
       "        var display = window.getComputedStyle(gd).display;\n",
       "        if (!display || display === 'none') {{\n",
       "            console.log([gd, 'removed!']);\n",
       "            Plotly.purge(gd);\n",
       "            observer.disconnect();\n",
       "        }}\n",
       "}});\n",
       "\n",
       "// Listen for the removal of the full notebook cells\n",
       "var notebookContainer = gd.closest('#notebook-container');\n",
       "if (notebookContainer) {{\n",
       "    x.observe(notebookContainer, {childList: true});\n",
       "}}\n",
       "\n",
       "// Listen for the clearing of the current output cell\n",
       "var outputEl = gd.closest('.output');\n",
       "if (outputEl) {{\n",
       "    x.observe(outputEl, {childList: true});\n",
       "}}\n",
       "\n",
       "                        })\n",
       "                };\n",
       "                });\n",
       "            </script>\n",
       "        </div>"
      ]
     },
     "metadata": {},
     "output_type": "display_data"
    }
   ],
   "source": [
    "import plotly.graph_objects as go\n",
    "\n",
    "a_values = []\n",
    "b_values = []\n",
    "c_values = []\n",
    "for a, b, c in target_collection[:10]:\n",
    "    a_values.append(a)\n",
    "    b_values.append(b)\n",
    "    c_values.append(c)\n",
    "    \n",
    "fig = go.Figure(data=[\n",
    "                        go.Table(header=dict(values=['Alpha', 'Eta', 'Coherence']),\n",
    "                        cells=dict(values=[a_values, b_values, c_values]))\n",
    "                     ])\n",
    "fig.show()"
   ]
  },
  {
   "cell_type": "markdown",
   "metadata": {},
   "source": [
    "That yields approx. 13% improvement over the baseline score with setting Alpha=0.01, Eta=0.61, K=9:"
   ]
  },
  {
   "cell_type": "code",
   "execution_count": 37,
   "metadata": {},
   "outputs": [
    {
     "name": "stdout",
     "output_type": "stream",
     "text": [
      "Coherence score is improved by 12.8%\n"
     ]
    }
   ],
   "source": [
    "best_co = target_collection[0][2]\n",
    "improve_pert = (best_co - coherence_lda) * 100 / coherence_lda\n",
    "print(\"Coherence score is improved by {:.01f}%\".format(improve_pert))"
   ]
  },
  {
   "cell_type": "markdown",
   "metadata": {},
   "source": [
    "### <font color='darkgreen'>Final Model</font>\n",
    "Let’s train the final model using the above selected parameters:"
   ]
  },
  {
   "cell_type": "code",
   "execution_count": 39,
   "metadata": {},
   "outputs": [],
   "source": [
    "lda_model = gensim.models.LdaMulticore(corpus=corpus,\n",
    "                                           id2word=id2word,\n",
    "                                           num_topics=9, \n",
    "                                           random_state=100,\n",
    "                                           chunksize=100,\n",
    "                                           passes=10,\n",
    "                                           alpha=0.01,\n",
    "                                           eta=0.61)"
   ]
  },
  {
   "cell_type": "markdown",
   "metadata": {},
   "source": [
    "### <font color='darkgreen'>Visualize Topics</font>"
   ]
  },
  {
   "cell_type": "code",
   "execution_count": 40,
   "metadata": {},
   "outputs": [
    {
     "name": "stderr",
     "output_type": "stream",
     "text": [
      "c:\\users\\johnlee\\appdata\\local\\programs\\python\\python36\\lib\\site-packages\\pyLDAvis\\_prepare.py:257: FutureWarning:\n",
      "\n",
      "Sorting because non-concatenation axis is not aligned. A future version\n",
      "of pandas will change to not sort by default.\n",
      "\n",
      "To accept the future behavior, pass 'sort=False'.\n",
      "\n",
      "To retain the current behavior and silence the warning, pass 'sort=True'.\n",
      "\n",
      "\n"
     ]
    },
    {
     "data": {
      "text/html": [
       "\n",
       "<link rel=\"stylesheet\" type=\"text/css\" href=\"https://cdn.rawgit.com/bmabey/pyLDAvis/files/ldavis.v1.0.0.css\">\n",
       "\n",
       "\n",
       "<div id=\"ldavis_el1682023237348179127385881473\"></div>\n",
       "<script type=\"text/javascript\">\n",
       "\n",
       "var ldavis_el1682023237348179127385881473_data = {\"mdsDat\": {\"x\": [0.09074765163576272, 0.027515246379499887, -0.00483431500508954, 0.05016434068137673, 0.0198689988696894, -0.09843064225968132, -0.029021974206554616, -0.027507791084433686, -0.028501515010569564], \"y\": [-0.027610900405698066, -0.05908407480903029, -0.06763696008772217, 0.08848035453067508, 0.009854659727514457, -0.010796802102230297, 0.022102507167224877, 0.02262962039461142, 0.022061595584655147], \"topics\": [1, 2, 3, 4, 5, 6, 7, 8, 9], \"cluster\": [1, 1, 1, 1, 1, 1, 1, 1, 1], \"Freq\": [27.45957374572754, 22.53876304626465, 18.204256057739258, 11.841821670532227, 11.642355918884277, 8.311237335205078, 0.0006648501730524004, 0.0006648501730524004, 0.0006648501730524004]}, \"tinfo\": {\"Category\": [\"Default\", \"Default\", \"Default\", \"Default\", \"Default\", \"Default\", \"Default\", \"Default\", \"Default\", \"Default\", \"Default\", \"Default\", \"Default\", \"Default\", \"Default\", \"Default\", \"Default\", \"Default\", \"Default\", \"Default\", \"Default\", \"Default\", \"Default\", \"Default\", \"Default\", \"Default\", \"Default\", \"Default\", \"Default\", \"Default\", \"Topic1\", \"Topic1\", \"Topic1\", \"Topic1\", \"Topic1\", \"Topic1\", \"Topic1\", \"Topic1\", \"Topic1\", \"Topic1\", \"Topic1\", \"Topic1\", \"Topic1\", \"Topic1\", \"Topic1\", \"Topic1\", \"Topic1\", \"Topic1\", \"Topic1\", \"Topic1\", \"Topic1\", \"Topic1\", \"Topic1\", \"Topic1\", \"Topic1\", \"Topic1\", \"Topic1\", \"Topic1\", \"Topic1\", \"Topic1\", \"Topic1\", \"Topic1\", \"Topic1\", \"Topic1\", \"Topic1\", \"Topic1\", \"Topic1\", \"Topic1\", \"Topic1\", \"Topic1\", \"Topic1\", \"Topic1\", \"Topic1\", \"Topic1\", \"Topic1\", \"Topic1\", \"Topic1\", \"Topic1\", \"Topic1\", \"Topic1\", \"Topic1\", \"Topic1\", \"Topic2\", \"Topic2\", \"Topic2\", \"Topic2\", \"Topic2\", \"Topic2\", \"Topic2\", \"Topic2\", \"Topic2\", \"Topic2\", \"Topic2\", \"Topic2\", \"Topic2\", \"Topic2\", \"Topic2\", \"Topic2\", \"Topic2\", \"Topic2\", \"Topic2\", \"Topic2\", \"Topic2\", \"Topic2\", \"Topic2\", \"Topic2\", \"Topic2\", \"Topic2\", \"Topic2\", \"Topic2\", \"Topic2\", \"Topic2\", \"Topic2\", \"Topic2\", \"Topic2\", \"Topic2\", \"Topic2\", \"Topic2\", \"Topic2\", \"Topic2\", \"Topic2\", \"Topic2\", \"Topic2\", \"Topic2\", \"Topic2\", \"Topic2\", \"Topic2\", \"Topic2\", \"Topic2\", \"Topic2\", \"Topic2\", \"Topic2\", \"Topic2\", \"Topic2\", \"Topic2\", \"Topic2\", \"Topic2\", \"Topic2\", \"Topic2\", \"Topic3\", \"Topic3\", \"Topic3\", \"Topic3\", \"Topic3\", \"Topic3\", \"Topic3\", \"Topic3\", \"Topic3\", \"Topic3\", \"Topic3\", \"Topic3\", \"Topic3\", \"Topic3\", \"Topic3\", \"Topic3\", \"Topic3\", \"Topic3\", \"Topic3\", \"Topic3\", \"Topic3\", \"Topic3\", \"Topic3\", \"Topic3\", \"Topic3\", \"Topic3\", \"Topic3\", \"Topic3\", \"Topic3\", \"Topic3\", \"Topic3\", \"Topic3\", \"Topic3\", \"Topic3\", \"Topic3\", \"Topic3\", \"Topic3\", \"Topic3\", \"Topic3\", \"Topic3\", \"Topic3\", \"Topic3\", \"Topic3\", \"Topic3\", \"Topic3\", \"Topic3\", \"Topic3\", \"Topic3\", \"Topic3\", \"Topic3\", \"Topic3\", \"Topic3\", \"Topic3\", \"Topic3\", \"Topic4\", \"Topic4\", \"Topic4\", \"Topic4\", \"Topic4\", \"Topic4\", \"Topic4\", \"Topic4\", \"Topic4\", \"Topic4\", \"Topic4\", \"Topic4\", \"Topic4\", \"Topic4\", \"Topic4\", \"Topic4\", \"Topic4\", \"Topic4\", \"Topic4\", \"Topic4\", \"Topic4\", \"Topic4\", \"Topic4\", \"Topic4\", \"Topic4\", \"Topic4\", \"Topic4\", \"Topic4\", \"Topic4\", \"Topic4\", \"Topic4\", \"Topic4\", \"Topic4\", \"Topic4\", \"Topic4\", \"Topic4\", \"Topic4\", \"Topic4\", \"Topic4\", \"Topic4\", \"Topic4\", \"Topic4\", \"Topic4\", \"Topic4\", \"Topic4\", \"Topic4\", \"Topic4\", \"Topic4\", \"Topic4\", \"Topic5\", \"Topic5\", \"Topic5\", \"Topic5\", \"Topic5\", \"Topic5\", \"Topic5\", \"Topic5\", \"Topic5\", \"Topic5\", \"Topic5\", \"Topic5\", \"Topic5\", \"Topic5\", \"Topic5\", \"Topic5\", \"Topic5\", \"Topic5\", \"Topic5\", \"Topic5\", \"Topic5\", \"Topic5\", \"Topic5\", \"Topic5\", \"Topic5\", \"Topic5\", \"Topic5\", \"Topic5\", \"Topic5\", \"Topic5\", \"Topic5\", \"Topic5\", \"Topic5\", \"Topic5\", \"Topic5\", \"Topic5\", \"Topic5\", \"Topic5\", \"Topic5\", \"Topic5\", \"Topic5\", \"Topic5\", \"Topic5\", \"Topic5\", \"Topic5\", \"Topic5\", \"Topic5\", \"Topic5\", \"Topic5\", \"Topic5\", \"Topic5\", \"Topic5\", \"Topic5\", \"Topic6\", \"Topic6\", \"Topic6\", \"Topic6\", \"Topic6\", \"Topic6\", \"Topic6\", \"Topic6\", \"Topic6\", \"Topic6\", \"Topic6\", \"Topic6\", \"Topic6\", \"Topic6\", \"Topic6\", \"Topic6\", \"Topic6\", \"Topic6\", \"Topic6\", \"Topic6\", \"Topic6\", \"Topic6\", \"Topic6\", \"Topic6\", \"Topic6\", \"Topic6\", \"Topic6\", \"Topic6\", \"Topic6\", \"Topic6\", \"Topic6\", \"Topic6\", \"Topic6\", \"Topic6\", \"Topic6\", \"Topic6\", \"Topic6\", \"Topic6\", \"Topic6\", \"Topic6\", \"Topic6\", \"Topic6\", \"Topic6\", \"Topic6\", \"Topic6\", \"Topic6\", \"Topic6\", \"Topic6\", \"Topic6\", \"Topic6\", \"Topic6\", \"Topic6\", \"Topic6\", \"Topic6\", \"Topic7\", \"Topic7\", \"Topic7\", \"Topic7\", \"Topic7\", \"Topic7\", \"Topic7\", \"Topic7\", \"Topic7\", \"Topic7\", \"Topic7\", \"Topic7\", \"Topic7\", \"Topic7\", \"Topic7\", \"Topic7\", \"Topic7\", \"Topic7\", \"Topic7\", \"Topic7\", \"Topic7\", \"Topic7\", \"Topic7\", \"Topic7\", \"Topic7\", \"Topic7\", \"Topic7\", \"Topic7\", \"Topic7\", \"Topic7\", \"Topic7\", \"Topic7\", \"Topic7\", \"Topic7\", \"Topic7\", \"Topic7\", \"Topic7\", \"Topic7\", \"Topic7\", \"Topic7\", \"Topic7\", \"Topic7\", \"Topic7\", \"Topic7\", \"Topic7\", \"Topic7\", \"Topic7\", \"Topic7\", \"Topic7\", \"Topic7\", \"Topic7\", \"Topic7\", \"Topic7\", \"Topic7\", \"Topic7\", \"Topic7\", \"Topic7\", \"Topic7\", \"Topic7\", \"Topic7\", \"Topic7\", \"Topic7\", \"Topic7\", \"Topic7\", \"Topic7\", \"Topic7\", \"Topic8\", \"Topic8\", \"Topic8\", \"Topic8\", \"Topic8\", \"Topic8\", \"Topic8\", \"Topic8\", \"Topic8\", \"Topic8\", \"Topic8\", \"Topic8\", \"Topic8\", \"Topic8\", \"Topic8\", \"Topic8\", \"Topic8\", \"Topic8\", \"Topic8\", \"Topic8\", \"Topic8\", \"Topic8\", \"Topic8\", \"Topic8\", \"Topic8\", \"Topic8\", \"Topic8\", \"Topic8\", \"Topic8\", \"Topic8\", \"Topic8\", \"Topic8\", \"Topic8\", \"Topic8\", \"Topic8\", \"Topic8\", \"Topic8\", \"Topic8\", \"Topic8\", \"Topic8\", \"Topic8\", \"Topic8\", \"Topic8\", \"Topic8\", \"Topic8\", \"Topic8\", \"Topic8\", \"Topic8\", \"Topic8\", \"Topic8\", \"Topic8\", \"Topic8\", \"Topic8\", \"Topic8\", \"Topic8\", \"Topic8\", \"Topic8\", \"Topic8\", \"Topic8\", \"Topic8\", \"Topic8\", \"Topic8\", \"Topic8\", \"Topic8\", \"Topic8\", \"Topic8\", \"Topic8\", \"Topic8\", \"Topic8\", \"Topic8\", \"Topic8\", \"Topic8\", \"Topic8\", \"Topic8\", \"Topic8\", \"Topic8\", \"Topic8\", \"Topic8\", \"Topic8\", \"Topic8\", \"Topic8\", \"Topic8\", \"Topic8\", \"Topic8\", \"Topic8\", \"Topic8\", \"Topic8\", \"Topic8\", \"Topic8\", \"Topic8\", \"Topic8\", \"Topic8\", \"Topic8\", \"Topic8\", \"Topic8\", \"Topic8\", \"Topic8\", \"Topic8\", \"Topic8\", \"Topic9\", \"Topic9\", \"Topic9\", \"Topic9\", \"Topic9\", \"Topic9\", \"Topic9\", \"Topic9\", \"Topic9\", \"Topic9\", \"Topic9\", \"Topic9\", \"Topic9\", \"Topic9\", \"Topic9\", \"Topic9\", \"Topic9\", \"Topic9\", \"Topic9\", \"Topic9\", \"Topic9\", \"Topic9\", \"Topic9\", \"Topic9\", \"Topic9\", \"Topic9\", \"Topic9\", \"Topic9\", \"Topic9\", \"Topic9\", \"Topic9\", \"Topic9\", \"Topic9\", \"Topic9\", \"Topic9\", \"Topic9\", \"Topic9\", \"Topic9\", \"Topic9\", \"Topic9\", \"Topic9\", \"Topic9\", \"Topic9\", \"Topic9\", \"Topic9\", \"Topic9\", \"Topic9\", \"Topic9\", \"Topic9\", \"Topic9\", \"Topic9\", \"Topic9\", \"Topic9\", \"Topic9\", \"Topic9\", \"Topic9\", \"Topic9\", \"Topic9\", \"Topic9\", \"Topic9\", \"Topic9\", \"Topic9\", \"Topic9\", \"Topic9\", \"Topic9\", \"Topic9\", \"Topic9\", \"Topic9\", \"Topic9\", \"Topic9\", \"Topic9\", \"Topic9\", \"Topic9\", \"Topic9\", \"Topic9\", \"Topic9\", \"Topic9\", \"Topic9\", \"Topic9\", \"Topic9\", \"Topic9\", \"Topic9\", \"Topic9\", \"Topic9\", \"Topic9\", \"Topic9\", \"Topic9\", \"Topic9\", \"Topic9\", \"Topic9\", \"Topic9\", \"Topic9\", \"Topic9\", \"Topic9\", \"Topic9\", \"Topic9\", \"Topic9\", \"Topic9\", \"Topic9\", \"Topic9\", \"Topic9\", \"Topic9\", \"Topic9\", \"Topic9\", \"Topic9\"], \"Freq\": [185.0, 51.0, 47.0, 35.0, 65.0, 38.0, 66.0, 32.0, 37.0, 32.0, 49.0, 66.0, 26.0, 67.0, 37.0, 31.0, 45.0, 25.0, 51.0, 25.0, 22.0, 45.0, 32.0, 39.0, 37.0, 22.0, 37.0, 24.0, 22.0, 44.0, 49.627201080322266, 36.500144958496094, 30.610685348510742, 24.669897079467773, 23.255874633789062, 21.046236038208008, 20.269994735717773, 18.83868980407715, 21.78712272644043, 14.390707969665527, 13.692161560058594, 12.92767333984375, 12.22105884552002, 12.199910163879395, 17.371124267578125, 13.667248725891113, 10.016153335571289, 26.88616371154785, 14.408308029174805, 8.541494369506836, 8.53591251373291, 8.524407386779785, 7.8037519454956055, 11.45740032196045, 10.746265411376953, 14.388062477111816, 6.325221538543701, 6.318254470825195, 7.790737628936768, 7.808469772338867, 21.044321060180664, 49.04236602783203, 37.12137222290039, 22.496858596801758, 30.585206985473633, 15.897799491882324, 12.201693534851074, 12.219436645507812, 16.660200119018555, 18.833154678344727, 16.65738868713379, 15.849534034729004, 22.53163719177246, 16.60333251953125, 16.711029052734375, 24.697668075561523, 15.864058494567871, 15.9191255569458, 15.900491714477539, 15.995697975158691, 15.210430145263672, 15.235154151916504, 23.37306022644043, 18.512516021728516, 15.029807090759277, 28.240781784057617, 11.55114459991455, 10.155442237854004, 9.463093757629395, 26.15467071533203, 7.376976013183594, 6.684066295623779, 6.6792097091674805, 6.682451248168945, 17.817977905273438, 5.990020751953125, 5.990067481994629, 5.9883503913879395, 5.988671779632568, 5.293851375579834, 9.465168952941895, 11.559540748596191, 4.5978684425354, 4.5976881980896, 4.597125053405762, 4.59417724609375, 5.985406398773193, 5.986730575561523, 5.9902825355529785, 3.9024345874786377, 3.900139093399048, 3.9002182483673096, 15.72592830657959, 7.381423473358154, 6.685186862945557, 102.15991973876953, 7.376559734344482, 9.471040725708008, 17.824981689453125, 15.738871574401855, 19.215065002441406, 28.268722534179688, 11.550495147705078, 22.715059280395508, 19.225515365600586, 18.52928352355957, 16.428295135498047, 12.955585479736328, 21.29520034790039, 22.73872947692871, 13.65933895111084, 15.034904479980469, 14.366443634033203, 10.870293617248535, 12.97671890258789, 12.266876220703125, 12.962699890136719, 10.88681697845459, 10.892149925231934, 12.07270622253418, 9.476759910583496, 9.471395492553711, 20.5085506439209, 8.181388854980469, 17.255083084106445, 10.125310897827148, 6.887692451477051, 6.885373592376709, 6.885724067687988, 6.8844451904296875, 8.83690071105957, 6.238734722137451, 28.914398193359375, 5.588884353637695, 5.587955951690674, 5.585238933563232, 17.265640258789062, 4.938549518585205, 4.290384292602539, 4.290442943572998, 4.29032564163208, 4.287660121917725, 7.537611484527588, 12.07971477508545, 5.587542533874512, 4.9397053718566895, 3.6424648761749268, 3.642073154449463, 3.641700029373169, 16.611980438232422, 10.123180389404297, 6.885674476623535, 30.871780395507812, 8.176862716674805, 10.131330490112305, 17.911943435668945, 27.651819229125977, 17.254751205444336, 16.622177124023438, 15.949981689453125, 13.376482009887695, 16.592559814453125, 12.077493667602539, 14.65623664855957, 17.26200294494629, 15.335468292236328, 13.356922149658203, 11.411216735839844, 12.078107833862305, 8.83110237121582, 14.668397903442383, 12.715330123901367, 10.13455581665039, 16.69926643371582, 30.85538673400879, 7.962387561798096, 7.420867443084717, 7.424033164978027, 15.063995361328125, 7.970455169677734, 5.245243072509766, 5.238126754760742, 6.334746360778809, 4.6971845626831055, 4.694429397583008, 14.509256362915039, 10.698509216308594, 3.6074917316436768, 3.6063995361328125, 3.603874683380127, 9.59965705871582, 3.0609683990478516, 3.0606296062469482, 3.060248613357544, 3.061190366744995, 3.059774160385132, 2.516228437423706, 2.515658140182495, 13.970359802246094, 7.968713760375977, 3.060137987136841, 5.2420783042907715, 6.880184650421143, 18.33375358581543, 16.666339874267578, 11.781242370605469, 18.907991409301758, 23.23647689819336, 5.7848711013793945, 6.875709056854248, 6.331470966339111, 18.867311477661133, 9.610410690307617, 10.687824249267578, 12.32311725616455, 7.425378322601318, 7.960275650024414, 7.966707229614258, 9.586313247680664, 6.883749961853027, 7.975308418273926, 6.873536586761475, 12.21054458618164, 11.667346954345703, 11.130399703979492, 18.66529083251953, 7.888795852661133, 7.889377117156982, 6.805186748504639, 15.45925521850586, 8.429203033447266, 5.188327312469482, 5.187107563018799, 4.646101474761963, 33.31571578979492, 3.572021722793579, 3.5711517333984375, 3.570847272872925, 3.5704240798950195, 8.42863655090332, 17.07424545288086, 3.032104969024658, 5.193515777587891, 6.273057460784912, 3.5692272186279297, 22.456453323364258, 3.571598529815674, 3.575521469116211, 2.490821361541748, 2.490203857421875, 2.4900600910186768, 2.4900784492492676, 3.03010892868042, 10.602727890014648, 16.55231285095215, 5.1918559074401855, 5.195596694946289, 14.411758422851562, 39.337738037109375, 4.65316104888916, 6.2738752365112305, 12.262873649597168, 4.663667678833008, 5.738150596618652, 5.201658725738525, 6.28787088394165, 6.267085075378418, 5.732240200042725, 7.372762680053711, 7.934813976287842, 6.848989486694336, 6.295292377471924, 6.305574893951416, 5.7511138916015625, 5.766572952270508, 11.25632095336914, 7.1402459144592285, 6.224587917327881, 10.801835060119629, 7.600572109222412, 4.396554470062256, 9.428194999694824, 3.9386096000671387, 3.4821953773498535, 3.4812653064727783, 5.311883926391602, 3.938952922821045, 3.937716007232666, 7.600633144378662, 6.685788154602051, 2.566786050796509, 2.5667901039123535, 2.566845655441284, 2.5666210651397705, 2.5667335987091064, 2.5667099952697754, 3.4824743270874023, 3.4810831546783447, 3.0242791175842285, 3.024430751800537, 2.109736919403076, 2.1096808910369873, 2.1095476150512695, 2.1096932888031006, 2.109607219696045, 9.428312301635742, 4.39705753326416, 8.514471054077148, 2.5673506259918213, 3.481489896774292, 14.92750358581543, 11.266345024108887, 15.844823837280273, 4.853954315185547, 4.85427713394165, 3.939742088317871, 3.9400336742401123, 11.265130996704102, 8.98200511932373, 4.857237339019775, 5.312868595123291, 7.611121654510498, 7.609535217285156, 7.160571575164795, 4.855482578277588, 4.858128070831299, 6.722293376922607, 4.399935245513916, 3.9454269409179688, 4.1340292227687314e-05, 4.1340630559716374e-05, 4.1339411836816e-05, 4.1338465962326154e-05, 4.133821130380966e-05, 4.133740367251448e-05, 4.1338040318805724e-05, 4.133774564252235e-05, 4.133794573135674e-05, 4.133682887186296e-05, 4.1336639696964994e-05, 4.133580659981817e-05, 4.1336286813020706e-05, 4.133632319280878e-05, 4.133631591685116e-05, 4.133555557928048e-05, 4.133502079639584e-05, 4.133578477194533e-05, 4.133475522394292e-05, 4.133467155043036e-05, 4.1334085835842416e-05, 4.1334551497129723e-05, 4.133450420340523e-05, 4.13348461734131e-05, 4.133321999688633e-05, 4.1334187699249014e-05, 4.1333274566568434e-05, 4.1333638364449143e-05, 4.1335388232255355e-05, 4.1333500121254474e-05, 4.13341294915881e-05, 4.1333772969665006e-05, 4.1333885747008026e-05, 4.1334038542117923e-05, 4.1333973058499396e-05, 4.133390757488087e-05, 4.564017217489891e-05, 4.3142750655533746e-05, 4.305963739170693e-05, 4.312880628276616e-05, 4.28805906267371e-05, 4.296834231354296e-05, 4.276481195120141e-05, 4.264172093826346e-05, 4.261727735865861e-05, 4.2710802517831326e-05, 4.264276140020229e-05, 4.254238592693582e-05, 4.246139360475354e-05, 4.2450839828234166e-05, 4.2339299398008734e-05, 4.2317056795582175e-05, 4.230987178743817e-05, 4.2280244088033214e-05, 4.225608427077532e-05, 4.2237214074702933e-05, 4.220037590130232e-05, 4.219798938720487e-05, 4.218311369186267e-05, 4.218234971631318e-05, 4.215443550492637e-05, 4.214233558741398e-05, 4.213500506011769e-05, 4.211378836771473e-05, 4.210984116070904e-05, 4.209213875583373e-05, 4.1173447243636474e-05, 4.1172508645104244e-05, 4.1170329495798796e-05, 4.11696128139738e-05, 4.1169820178765804e-05, 4.1170333133777604e-05, 4.1169707401422784e-05, 4.11703840654809e-05, 4.1169743781210855e-05, 4.116895070183091e-05, 4.1168856114381924e-05, 4.116835043532774e-05, 4.116818308830261e-05, 4.1168666939483956e-05, 4.1168656025547534e-05, 4.116848867852241e-05, 4.116742275073193e-05, 4.1167029849020764e-05, 4.116773561690934e-05, 4.116698619327508e-05, 4.116708805668168e-05, 4.116618583793752e-05, 4.116724448977038e-05, 4.116773197893053e-05, 4.11668952438049e-05, 4.1167477320414037e-05, 4.1166229493683204e-05, 4.11666878790129e-05, 4.1166054870700464e-05, 4.116698619327508e-05, 4.116641139262356e-05, 4.136824645684101e-05, 4.136549250688404e-05, 4.136473580729216e-05, 4.136386269237846e-05, 4.136214920436032e-05, 4.136181087233126e-05, 4.136017014388926e-05, 4.136022471357137e-05, 4.135968629270792e-05, 4.1358027374371886e-05, 4.1356648580404e-05, 4.1355939174536616e-05, 4.1355779103469104e-05, 4.135558265261352e-05, 4.135370545554906e-05, 4.135210474487394e-05, 4.1351522668264806e-05, 4.135087874601595e-05, 4.1350835090270266e-05, 4.1349911043653265e-05, 4.1349285311298445e-05, 4.1348470404045656e-05, 4.1346422221977264e-05, 4.134636037633754e-05, 4.134542541578412e-05, 4.134473419981077e-05, 4.134433402214199e-05, 4.1343893826706335e-05, 4.134342088946141e-05, 4.134323899052106e-05, 5.304860314936377e-05, 5.0121903768740594e-05, 5.172014425625093e-05, 5.0439193728379905e-05, 4.9955371650867164e-05, 4.779496885021217e-05, 4.627513771993108e-05, 4.4408236135495827e-05, 4.56639718322549e-05, 4.724051905213855e-05, 4.490205901674926e-05, 4.524493488133885e-05, 4.569888551486656e-05, 4.5606102503370494e-05, 4.3781474232673645e-05, 4.61476702184882e-05, 4.664233711082488e-05, 4.313085082685575e-05, 4.192004416836426e-05, 4.67553581984248e-05, 4.4903670641360804e-05, 4.4177460949867964e-05, 4.498777343542315e-05, 4.356239878688939e-05, 4.494931999943219e-05, 4.332145908847451e-05, 4.2814626795006916e-05, 4.4295320549281314e-05, 4.24588070018217e-05, 4.341516250860877e-05, 4.3691521568689495e-05, 4.6075590944383293e-05, 4.429284672369249e-05, 4.4744330807588995e-05, 4.4504220568342134e-05, 4.397061638883315e-05, 4.429045657161623e-05, 4.4191583583597094e-05, 4.127078500459902e-05, 4.127163265366107e-05, 4.1270603105658665e-05, 4.127029387746006e-05, 4.127105785300955e-05, 4.127030115341768e-05, 4.127053762204014e-05, 4.127058491576463e-05, 4.127109787077643e-05, 4.126966814510524e-05, 4.1270228393841535e-05, 4.1270541260018945e-05, 4.127008651266806e-05, 4.127110878471285e-05, 4.127038846490905e-05, 4.126946805627085e-05, 4.1270566725870594e-05, 4.1270439396612346e-05, 4.1269726352766156e-05, 4.126975545659661e-05, 4.1270115616498515e-05, 4.127087231609039e-05, 4.127068314119242e-05, 4.1270326619269326e-05, 4.1269751818617806e-05, 4.1270202927989885e-05, 4.127019565203227e-05, 4.127025022171438e-05, 4.1269926441600546e-05, 4.126948624616489e-05, 4.1270526708103716e-05, 4.1270439396612346e-05, 4.127027568756603e-05, 4.127034480916336e-05, 4.127074498683214e-05, 4.127056308789179e-05, 4.127053398406133e-05, 4.127033753320575e-05, 4.127034480916336e-05, 4.127026841160841e-05, 4.127028660150245e-05, 4.132573667448014e-05, 4.132184767513536e-05, 4.132152389502153e-05, 4.132153480895795e-05, 4.1321152821183205e-05, 4.131946843699552e-05, 4.131874811719172e-05, 4.1318824514746666e-05, 4.1318373405374587e-05, 4.1318198782391846e-05, 4.1318176954519004e-05, 4.131646710447967e-05, 4.131570676690899e-05, 4.1314771806355566e-05, 4.131448804400861e-05, 4.131405148655176e-05, 4.131417881581001e-05, 4.131351306568831e-05, 4.131346940994263e-05, 4.131348032387905e-05, 4.13131492678076e-05, 4.13127381762024e-05, 4.1312694520456716e-05, 4.131239256821573e-05, 4.131204332225025e-05, 4.1311908717034385e-05, 4.131196328671649e-05, 4.1311672248411924e-05, 4.1311672248411924e-05, 4.131158857489936e-05, 4.526242628344335e-05, 4.4695396354654804e-05, 4.4713731767842546e-05, 4.4657292164629325e-05, 4.363715197541751e-05, 4.383872510516085e-05, 4.339852966950275e-05, 4.341599196777679e-05, 4.400188845465891e-05, 4.35617876064498e-05, 4.4131775212008506e-05, 4.340777013567276e-05, 4.3486710637807846e-05, 4.327999340603128e-05, 4.3116397137055174e-05, 4.280932625988498e-05, 4.299829379306175e-05, 4.3152347643626854e-05, 4.304590402171016e-05, 4.3040989112341776e-05, 4.282291774870828e-05, 4.2739335185615346e-05, 4.272042497177608e-05, 4.292741505196318e-05, 4.3081483454443514e-05, 4.26218357461039e-05, 4.2491607018746436e-05, 4.261763388058171e-05, 4.2340274376329035e-05, 4.265712414053269e-05, 4.286150215193629e-05, 4.271412035450339e-05, 4.270250065019354e-05, 4.2640891479095444e-05], \"Term\": [\"model\", \"invite\", \"word\", \"norm\", \"network\", \"action\", \"loss\", \"regret\", \"distribution\", \"image\", \"figure\", \"set\", \"random_walk\", \"output\", \"training\", \"convergence\", \"error\", \"wavelet\", \"state\", \"hedge\", \"language\", \"input\", \"list\", \"unit\", \"consider\", \"round\", \"analysis\", \"segment\", \"visit\", \"time\", \"invite\", \"action\", \"regret\", \"random_walk\", \"hedge\", \"round\", \"visit\", \"learning_rate\", \"segment\", \"censored_list\", \"adahedge\", \"fluency\", \"cumulative\", \"absorb\", \"lemma\", \"item\", \"agent\", \"list\", \"theorem\", \"budget\", \"repetition\", \"graph\", \"suppose\", \"walk\", \"easy\", \"semantic\", \"censor\", \"cognitive\", \"animal\", \"posterior\", \"start\", \"loss\", \"state\", \"transition\", \"probability\", \"let\", \"likelihood\", \"proof\", \"may\", \"first\", \"bound\", \"generate\", \"set\", \"produce\", \"example\", \"model\", \"structure\", \"follow\", \"give\", \"use\", \"time\", \"output\", \"wavelet\", \"denoise\", \"poedge\", \"image\", \"neuronal\", \"sonn\", \"gsm\", \"convergence\", \"parent\", \"adaptation\", \"identification\", \"subband\", \"coefficient\", \"decorrelate\", \"neighborhood\", \"psnr\", \"pert\", \"position\", \"domain\", \"dependency\", \"joint\", \"moment\", \"pyramid\", \"self_organizing\", \"hypersurface\", \"edge\", \"activity\", \"participate\", \"accept\", \"transfer\", \"describe\", \"transform\", \"trace\", \"model\", \"recent\", \"neuron\", \"estimate\", \"system\", \"input\", \"use\", \"node\", \"output\", \"parameter\", \"figure\", \"structure\", \"base\", \"number\", \"result\", \"also\", \"function\", \"show\", \"weight\", \"give\", \"follow\", \"network\", \"analysis\", \"set\", \"frame\", \"feature\", \"margin\", \"speech\", \"nasal\", \"classifier\", \"recognition\", \"acoustic\", \"kernel\", \"phoneme\", \"mori\", \"code\", \"supervision\", \"training\", \"automatic\", \"speech_recognition\", \"spectral\", \"pattern\", \"dual\", \"perceptron\", \"database\", \"delay\", \"articulation\", \"preprocesse\", \"polynomial\", \"classification\", \"capacity\", \"ear\", \"articulatory\", \"phonetic\", \"generalization\", \"solution\", \"several\", \"network\", \"train\", \"space\", \"unit\", \"number\", \"input\", \"time\", \"example\", \"order\", \"function\", \"algorithm\", \"error\", \"output\", \"parameter\", \"problem\", \"large\", \"learn\", \"class\", \"use\", \"result\", \"experiment\", \"isotropic\", \"norm\", \"sub_gaussian\", \"cone\", \"establish\", \"row\", \"suitable\", \"least_exp\", \"width\", \"recovery\", \"regression\", \"column\", \"gaussian\", \"design\", \"geometric\", \"glm\", \"interestingly\", \"restrict\", \"gordons_inequality\", \"xij\", \"cover\", \"precise\", \"subgaussian\", \"rsc\", \"theorem_let\", \"independent\", \"noise\", \"elementwise\", \"regularize\", \"correlate\", \"consider\", \"analysis\", \"condition\", \"error\", \"set\", \"dependent\", \"technique\", \"generalize\", \"result\", \"term\", \"section\", \"constant\", \"random\", \"bind\", \"case\", \"loss\", \"estimation\", \"use\", \"bound\", \"adaptor\", \"suffix\", \"generator\", \"language\", \"morphology\", \"power_law\", \"customer\", \"token\", \"stem\", \"pitman_yor\", \"multinomial\", \"morphological\", \"word\", \"restaurant\", \"formal\", \"unsupervise\", \"outcome\", \"frequency\", \"type\", \"kneser_ney\", \"history\", \"smooth\", \"sampling\", \"distribution\", \"scheme\", \"linguistic\", \"law\", \"generically\", \"exchangeable\", \"preferential\", \"analyse\", \"table\", \"process\", \"natural\", \"single\", \"produce\", \"model\", \"label\", \"statistical\", \"use\", \"generative\", \"class\", \"true\", \"assume\", \"value\", \"stage\", \"show\", \"result\", \"probability\", \"section\", \"parameter\", \"estimation\", \"give\", \"vor\", \"compensation\", \"vestibular\", \"normal\", \"hidden_unit\", \"eye\", \"gain\", \"movement\", \"compensate\", \"velocity_storage\", \"eliminate\", \"silence\", \"dash\", \"hide\", \"leave\", \"afferent\", \"vn_neuron\", \"acutely\", \"balance\", \"removal\", \"compensated_animal\", \"solid\", \"head\", \"dot\", \"rise\", \"imbalance\", \"motoneuron\", \"bilaterally\", \"bilateral\", \"modifiable\", \"response\", \"pass\", \"stage\", \"integrate\", \"right\", \"figure\", \"unit\", \"network\", \"side\", \"increase\", \"connection\", \"simulate\", \"output\", \"time\", \"recurrent\", \"step\", \"input\", \"show\", \"constant\", \"neuron\", \"weight\", \"model\", \"would\", \"learn\", \"uninvolved\", \"yagi\", \"balanced\", \"release\", \"whitaker\", \"destruction\", \"unbalance\", \"modestly\", \"solely\", \"ablation\", \"semicircular\", \"lesione\", \"widespread\", \"deficit\", \"silencing\", \"decreased\", \"sensory\", \"rhc\", \"respectivley\", \"fett\", \"opposite\", \"paradoxically\", \"labyrinth\", \"force\", \"mediate\", \"decerebrate\", \"curiously\", \"observed\", \"commissure\", \"sinusoidal\", \"event\", \"motor\", \"completely\", \"exert\", \"compensated\", \"reconcile\", \"model\", \"number\", \"set\", \"use\", \"word\", \"network\", \"invite\", \"structure\", \"parameter\", \"result\", \"output\", \"figure\", \"input\", \"produce\", \"state\", \"training\", \"constant\", \"function\", \"process\", \"show\", \"unit\", \"example\", \"error\", \"type\", \"probability\", \"convergence\", \"follow\", \"first\", \"system\", \"work\", \"mediate\", \"lesione\", \"widespread\", \"uninvolved\", \"curiously\", \"whereby\", \"anatomy\", \"maintain\", \"testable\", \"opposite\", \"discrepancy\", \"deficit\", \"semicircular\", \"lengthening\", \"presentation\", \"interneuron\", \"ablation\", \"decreased\", \"integrating\", \"sinusoidal\", \"squash\", \"whitaker\", \"labyrinth\", \"brainstem\", \"ivnl\", \"integration\", \"little\", \"paradoxically\", \"observed\", \"storage\", \"completely\", \"life\", \"chapter\", \"logpartition\", \"building\", \"de\", \"csumnedu\", \"triangle\", \"theme\", \"high_dimensional\", \"considerable\", \"tibshirani\", \"instructive\", \"subspace\", \"sup\", \"helpful\", \"escape\", \"banerjee\", \"eldar\", \"outside\", \"renaissance\", \"ledoux\", \"selector\", \"gaussian_width\", \"extensively\", \"atomic\", \"survey\", \"radius\", \"offer\", \"arguably\", \"calculus\", \"norm\", \"analysis\", \"set\", \"result\", \"loss\", \"consider\", \"gaussian\", \"sub_gaussian\", \"isotropic\", \"constant\", \"restrict\", \"row\", \"condition\", \"independent\", \"cone\", \"section\", \"error\", \"width\", \"design_matrice\", \"use\", \"bind\", \"design\", \"case\", \"suitable\", \"bound\", \"establish\", \"column\", \"random\", \"interestingly\", \"dependent\", \"noise\", \"model\", \"term\", \"probability\", \"structure\", \"present\", \"show\", \"problem\", \"destruction\", \"anatomy\", \"whitaker\", \"lesione\", \"squash\", \"mediate\", \"unbalance\", \"sensory\", \"event\", \"uninvolved\", \"ablation\", \"respectivley\", \"widespread\", \"made\", \"whereby\", \"release\", \"none\", \"interneuron\", \"modestly\", \"deficit\", \"yagi\", \"firing\", \"disagreement\", \"lengthening\", \"discrepancy\", \"decerebrate\", \"motor\", \"presentation\", \"fett\", \"observed\", \"reflex\", \"persist\", \"squashing\", \"bioi\", \"medial\", \"heretofore\", \"stabilize\", \"peripheral\", \"compensated\", \"relay\", \"commissure\", \"triangle\", \"chapter\", \"semi\", \"ball\", \"plugged\", \"gaussian_width\", \"extensively\", \"facet\", \"supp\", \"upto\", \"variate\", \"negahban\", \"csumnedu\", \"glms\", \"arguably\", \"life\", \"correctly\", \"succinctly\", \"away\", \"shift\", \"eldar\", \"building\", \"calculus\", \"ii\", \"instructive\", \"considerable\", \"compatibility\", \"isometry\", \"intersection\", \"subspace\", \"loss\", \"set\", \"number\", \"result\", \"norm\", \"constant\", \"bound\", \"regret\", \"use\", \"probability\", \"model\", \"action\", \"show\", \"consider\", \"analysis\", \"isotropic\", \"section\", \"function\", \"problem\", \"structure\", \"term\", \"condition\", \"bind\", \"error\", \"output\", \"independent\", \"lemma\", \"start\", \"restrict\", \"convergence\", \"parameter\", \"follow\", \"network\", \"case\"], \"Total\": [185.0, 51.0, 47.0, 35.0, 65.0, 38.0, 66.0, 32.0, 37.0, 32.0, 49.0, 66.0, 26.0, 67.0, 37.0, 31.0, 45.0, 25.0, 51.0, 25.0, 22.0, 45.0, 32.0, 39.0, 37.0, 22.0, 37.0, 24.0, 22.0, 44.0, 51.55503463745117, 38.31486129760742, 32.420310974121094, 26.51852798461914, 25.058034896850586, 22.845340728759766, 22.101905822753906, 20.63298225402832, 24.23444175720215, 16.20820426940918, 15.478029251098633, 14.736658096313477, 14.003328323364258, 14.001757621765137, 20.252063751220703, 16.01836585998535, 11.795295715332031, 32.03190231323242, 17.302631378173828, 10.323325157165527, 10.32223892211914, 10.319073677062988, 9.584582328796387, 14.347946166992188, 13.61673355102539, 18.29878044128418, 8.1104736328125, 8.108536720275879, 10.040909767150879, 10.128201484680176, 27.671825408935547, 66.30735778808594, 51.49394226074219, 30.620267868041992, 48.40816116333008, 22.456750869750977, 16.32988739013672, 16.732276916503906, 29.688209533691406, 37.55312728881836, 31.476564407348633, 29.436376571655273, 66.70088195800781, 39.54441452026367, 43.51362228393555, 185.5455322265625, 42.41297149658203, 43.713748931884766, 45.411949157714844, 82.66417694091797, 44.45143508911133, 67.2027359008789, 25.205364227294922, 20.330795288085938, 16.846858978271484, 32.03520584106445, 13.354893684387207, 11.963933944702148, 11.272778511047363, 31.56901741027832, 9.180699348449707, 8.484465599060059, 8.482514381408691, 8.486858367919922, 22.893333435058594, 7.790968418121338, 7.791254997253418, 7.790521621704102, 7.790950298309326, 7.092255592346191, 12.745823860168457, 15.644150733947754, 6.397726058959961, 6.397831439971924, 6.397773742675781, 6.394087314605713, 8.438497543334961, 8.526164054870605, 8.709515571594238, 5.701232433319092, 5.697987079620361, 5.698580265045166, 23.159326553344727, 11.029304504394531, 9.956741333007812, 185.5455322265625, 11.360709190368652, 15.85916519165039, 35.906612396240234, 31.15756607055664, 45.85219192504883, 82.66417694091797, 22.73072052001953, 67.2027359008789, 52.445945739746094, 49.73093795776367, 42.41297149658203, 29.39029884338379, 70.43053436279297, 80.07060241699219, 33.72613525390625, 51.19767761230469, 50.998565673828125, 26.668882369995117, 45.411949157714844, 43.713748931884766, 65.41817474365234, 37.246463775634766, 66.70088195800781, 13.951456069946289, 11.344844818115234, 11.343621253967285, 24.591672897338867, 10.039079666137695, 21.335346221923828, 12.69222354888916, 8.73707389831543, 8.735326766967773, 8.736847877502441, 8.73575496673584, 11.388627052307129, 8.084366798400879, 37.939781188964844, 7.43238639831543, 7.431962490081787, 7.433332443237305, 23.486576080322266, 6.780855178833008, 6.128135681152344, 6.128617286682129, 6.1294636726379395, 6.129375457763672, 10.858607292175293, 17.510517120361328, 8.169239044189453, 7.322514533996582, 5.477310657501221, 5.476833820343018, 5.476369380950928, 25.85570526123047, 16.095340728759766, 10.865903854370117, 65.41817474365234, 13.8220853805542, 18.272836685180664, 39.3353157043457, 70.43053436279297, 45.85219192504883, 44.45143508911133, 43.51362228393555, 34.39292907714844, 51.19767761230469, 30.989213943481445, 45.765098571777344, 67.2027359008789, 52.445945739746094, 41.32847213745117, 28.431812286376953, 35.32963562011719, 17.35700225830078, 82.66417694091797, 80.07060241699219, 30.6323184967041, 18.61634063720703, 35.01520919799805, 9.863838195800781, 9.32020092010498, 9.324421882629395, 19.189105987548828, 10.566612243652344, 7.1400933265686035, 7.133666515350342, 8.690625190734863, 6.5894269943237305, 6.587965488433838, 20.603525161743164, 16.078628540039062, 5.498307228088379, 5.4977498054504395, 5.4952616691589355, 14.693910598754883, 4.9504547119140625, 4.950120449066162, 4.949517250061035, 4.951093673706055, 4.949831485748291, 4.4047017097473145, 4.404281139373779, 24.6903076171875, 14.744183540344238, 5.685440540313721, 9.886011123657227, 13.37985610961914, 37.49197769165039, 37.246463775634766, 25.672149658203125, 45.765098571777344, 66.70088195800781, 11.894525527954102, 15.40670394897461, 14.072832107543945, 80.07060241699219, 27.872690200805664, 34.787353515625, 45.35414505004883, 20.866186141967773, 25.78241729736328, 30.834217071533203, 66.30735778808594, 27.536611557006836, 82.66417694091797, 31.476564407348633, 14.14359188079834, 13.603341102600098, 13.058858871459961, 22.088180541992188, 9.807269096374512, 9.808503150939941, 8.72376823425293, 20.171140670776367, 11.044028282165527, 7.097290515899658, 7.0974507331848145, 6.556245803833008, 47.37480926513672, 5.470095157623291, 5.47030782699585, 5.470586776733398, 5.470198154449463, 13.085826873779297, 27.557945251464844, 4.928337097167969, 8.528873443603516, 10.390396118164062, 6.017615795135498, 37.87114715576172, 6.122791290283203, 6.205929279327393, 4.386125087738037, 4.386553764343262, 4.386466026306152, 4.386629104614258, 5.387809753417969, 20.55467414855957, 36.526084899902344, 10.003351211547852, 10.65427303314209, 39.54441452026367, 185.5455322265625, 9.331275939941406, 15.497488975524902, 82.66417694091797, 10.154205322265625, 17.35700225830078, 14.130672454833984, 24.009288787841797, 25.559057235717773, 19.20684051513672, 50.998565673828125, 80.07060241699219, 48.40816116333008, 34.787353515625, 52.445945739746094, 27.536611557006836, 45.411949157714844, 13.238602638244629, 9.106886863708496, 8.187957763671875, 14.42016887664795, 10.868415832519531, 6.349724292755127, 14.038872718811035, 5.891660690307617, 5.432721138000488, 5.4323248863220215, 8.572907447814941, 6.5433831214904785, 6.588502407073975, 12.910709381103516, 11.386289596557617, 4.513772010803223, 4.514049530029297, 4.51423454284668, 4.513906478881836, 4.51426887512207, 4.5143723487854, 6.128459453582764, 6.169571399688721, 5.624921798706055, 5.709867477416992, 4.0547261238098145, 4.054811000823975, 4.054717063903809, 4.055048942565918, 4.054924964904785, 18.76801872253418, 9.002845764160156, 19.20684051513672, 5.056051731109619, 7.477552890777588, 49.73093795776367, 39.3353157043457, 65.41817474365234, 12.430519104003906, 13.017745018005371, 9.327882766723633, 9.372178077697754, 67.2027359008789, 44.45143508911133, 14.233104705810547, 17.004783630371094, 45.85219192504883, 50.998565673828125, 45.35414505004883, 15.85916519165039, 26.668882369995117, 185.5455322265625, 17.071521759033203, 35.32963562011719, 2.67730712890625, 2.677372694015503, 2.6773526668548584, 2.6773107051849365, 2.6773064136505127, 2.6772866249084473, 2.6773457527160645, 2.6773459911346436, 2.6774065494537354, 2.6773438453674316, 2.677342176437378, 2.6772971153259277, 2.677338123321533, 2.6773486137390137, 2.677367925643921, 2.6773359775543213, 2.6773533821105957, 2.677403450012207, 2.6773674488067627, 2.6773765087127686, 2.677347421646118, 2.677382469177246, 2.677380323410034, 2.6774063110351562, 2.6773178577423096, 2.6773831844329834, 2.6773245334625244, 2.6773483753204346, 2.6774702072143555, 2.677353620529175, 2.677396774291992, 2.6773831844329834, 2.677399158477783, 2.6774380207061768, 2.677457571029663, 2.6774442195892334, 185.5455322265625, 70.43053436279297, 66.70088195800781, 82.66417694091797, 47.37480926513672, 65.41817474365234, 51.55503463745117, 42.41297149658203, 52.445945739746094, 80.07060241699219, 67.2027359008789, 49.73093795776367, 45.85219192504883, 39.54441452026367, 51.49394226074219, 37.939781188964844, 45.35414505004883, 51.19767761230469, 36.526084899902344, 50.998565673828125, 39.3353157043457, 43.51362228393555, 45.765098571777344, 27.557945251464844, 48.40816116333008, 31.56901741027832, 43.713748931884766, 37.55312728881836, 31.15756607055664, 30.72562026977539, 2.6773178577423096, 2.6772971153259277, 2.677338123321533, 2.67730712890625, 2.6773245334625244, 2.6773641109466553, 2.6773600578308105, 2.6774158477783203, 2.6773805618286133, 2.677347421646118, 2.677353620529175, 2.6773486137390137, 2.677342176437378, 2.6773905754089355, 2.6773948669433594, 2.6773908138275146, 2.6773438453674316, 2.6773359775543213, 2.6773881912231445, 2.677353620529175, 2.6773643493652344, 2.6773064136505127, 2.677380323410034, 2.6774137020111084, 2.677370071411133, 2.677424907684326, 2.6773486137390137, 2.677382469177246, 2.6773483753204346, 2.677412509918213, 2.677399158477783, 2.764273166656494, 2.7642548084259033, 2.764381170272827, 2.7643706798553467, 2.7643606662750244, 2.764369249343872, 2.764274835586548, 2.7644307613372803, 2.7643728256225586, 2.7644259929656982, 2.764493227005005, 2.7644081115722656, 2.7644076347351074, 2.76448655128479, 2.764458179473877, 2.764510154724121, 2.7645230293273926, 2.7644572257995605, 2.7645411491394043, 2.7645599842071533, 2.7645630836486816, 2.764585494995117, 2.764456033706665, 2.764439344406128, 2.7645373344421387, 2.764542579650879, 2.7644855976104736, 2.7645199298858643, 2.7644970417022705, 2.7645180225372314, 35.01520919799805, 37.246463775634766, 66.70088195800781, 80.07060241699219, 66.30735778808594, 37.49197769165039, 20.603525161743164, 9.863838195800781, 18.61634063720703, 45.35414505004883, 14.693910598754883, 19.189105987548828, 25.672149658203125, 24.6903076171875, 9.32020092010498, 34.787353515625, 45.765098571777344, 7.133666515350342, 3.855414867401123, 82.66417694091797, 25.78241729736328, 16.078628540039062, 30.834217071533203, 10.566612243652344, 31.476564407348633, 9.324421882629395, 6.587965488433838, 20.866186141967773, 5.4952616691589355, 11.894525527954102, 14.744183540344238, 185.5455322265625, 27.872690200805664, 48.40816116333008, 42.41297149658203, 24.41570472717285, 50.998565673828125, 41.32847213745117, 2.6772866249084473, 2.6773600578308105, 2.6773064136505127, 2.6772971153259277, 2.6773643493652344, 2.6773178577423096, 2.6773457527160645, 2.6773533821105957, 2.677396774291992, 2.67730712890625, 2.6773438453674316, 2.6773674488067627, 2.677338123321533, 2.67740797996521, 2.6773641109466553, 2.6773107051849365, 2.677389144897461, 2.6773908138275146, 2.6773459911346436, 2.6773486137390137, 2.677372694015503, 2.677424669265747, 2.6774134635925293, 2.6773905754089355, 2.677353620529175, 2.6773831844329834, 2.6773831844329834, 2.6773948669433594, 2.6773765087127686, 2.6773483753204346, 2.6774189472198486, 2.6774184703826904, 2.67740797996521, 2.6774158477783203, 2.67746639251709, 2.67744517326355, 2.677443504333496, 2.6774487495422363, 2.677457571029663, 2.6774537563323975, 2.6774702072143555, 2.764274835586548, 2.7642548084259033, 2.7644965648651123, 2.7645351886749268, 2.7645370960235596, 2.764456033706665, 2.764439344406128, 2.764694929122925, 2.764530897140503, 2.764514446258545, 2.7647287845611572, 2.764601230621338, 2.764369249343872, 2.7645976543426514, 2.7644970417022705, 2.764273166656494, 2.7646186351776123, 2.7645304203033447, 2.764504909515381, 2.7645413875579834, 2.7644572257995605, 2.7643706798553467, 2.7645180225372314, 2.7645397186279297, 2.7644081115722656, 2.7644259929656982, 2.7646422386169434, 2.764559268951416, 2.7645657062530518, 2.7644076347351074, 66.30735778808594, 66.70088195800781, 70.43053436279297, 80.07060241699219, 35.01520919799805, 45.35414505004883, 31.476564407348633, 32.420310974121094, 82.66417694091797, 48.40816116333008, 185.5455322265625, 38.31486129760742, 50.998565673828125, 37.49197769165039, 37.246463775634766, 18.61634063720703, 34.787353515625, 51.19767761230469, 41.32847213745117, 42.41297149658203, 27.872690200805664, 25.672149658203125, 25.78241729736328, 45.765098571777344, 67.2027359008789, 24.6903076171875, 20.252063751220703, 27.671825408935547, 14.693910598754883, 31.56901741027832, 52.445945739746094, 43.713748931884766, 65.41817474365234, 30.834217071533203], \"loglift\": [30.0, 29.0, 28.0, 27.0, 26.0, 25.0, 24.0, 23.0, 22.0, 21.0, 20.0, 19.0, 18.0, 17.0, 16.0, 15.0, 14.0, 13.0, 12.0, 11.0, 10.0, 9.0, 8.0, 7.0, 6.0, 5.0, 4.0, 3.0, 2.0, 1.0, 1.2542999982833862, 1.243899941444397, 1.2350000143051147, 1.2201999425888062, 1.2178000211715698, 1.2103999853134155, 1.205899953842163, 1.2015000581741333, 1.1859999895095825, 1.1734999418258667, 1.1698999404907227, 1.1614999771118164, 1.1562999486923218, 1.1547000408172607, 1.1390000581741333, 1.1337000131607056, 1.128999948501587, 1.117300033569336, 1.1094000339508057, 1.1030000448226929, 1.1023999452590942, 1.1014000177383423, 1.086899995803833, 1.0674999952316284, 1.0556999444961548, 1.0520000457763672, 1.0437999963760376, 1.0429999828338623, 1.038699984550476, 1.0322999954223633, 1.0187000036239624, 0.9908000230789185, 0.9652000069618225, 0.9842000007629395, 0.833299994468689, 0.9470000267028809, 1.0010000467300415, 0.9781000018119812, 0.7146999835968018, 0.6022999882698059, 0.6560999751091003, 0.6733999848365784, 0.20720000565052032, 0.4246000051498413, 0.33550000190734863, -0.7240999937057495, 0.3091000020503998, 0.2822999954223633, 0.24300000071525574, -0.3499999940395355, 0.2199999988079071, -0.19169999659061432, 1.4144999980926514, 1.3961999416351318, 1.3758000135421753, 1.3638999462127686, 1.3447999954223633, 1.3259999752044678, 1.3149000406265259, 1.301800012588501, 1.2711999416351318, 1.2513999938964844, 1.2509000301361084, 1.2509000301361084, 1.239300012588501, 1.2271000146865845, 1.2269999980926514, 1.2267999649047852, 1.2267999649047852, 1.1974999904632568, 1.1922999620437622, 1.1872999668121338, 1.159600019454956, 1.159500002861023, 1.1593999862670898, 1.1592999696731567, 1.1464999914169312, 1.136299967765808, 1.1157000064849854, 1.1109000444412231, 1.11080002784729, 1.110700011253357, 1.1028000116348267, 1.0882999897003174, 1.091599941253662, 0.8931999802589417, 1.0580999851226807, 0.974399983882904, 0.7896000146865845, 0.8069999814033508, 0.620199978351593, 0.41690000891685486, 0.8129000067710876, 0.4052000045776367, 0.4864000082015991, 0.5026999711990356, 0.5414999723434448, 0.670799970626831, 0.2937999963760376, 0.23109999299049377, 0.5860999822616577, 0.26460000872612, 0.22300000488758087, 0.5924999713897705, 0.23729999363422394, 0.219200000166893, -0.12880000472068787, 0.2599000036716461, -0.3222000002861023, 1.558899998664856, 1.5235999822616577, 1.5231000185012817, 1.5219000577926636, 1.498900055885315, 1.4912999868392944, 1.4775999784469604, 1.4657000303268433, 1.465499997138977, 1.465399980545044, 1.465399980545044, 1.4498000144958496, 1.4443999528884888, 1.4319000244140625, 1.4184000492095947, 1.4183000326156616, 1.4177000522613525, 1.395799994468689, 1.3865000009536743, 1.347000002861023, 1.3468999862670898, 1.3467999696731567, 1.3461999893188477, 1.3385000228881836, 1.332200050354004, 1.323699951171875, 1.3099000453948975, 1.2956000566482544, 1.2955000400543213, 1.2955000400543213, 1.2611000537872314, 1.239799976348877, 1.2473000288009644, 0.9526000022888184, 1.1785999536514282, 1.113700032234192, 0.9168999791145325, 0.7685999870300293, 0.7261999845504761, 0.7199000120162964, 0.6998999714851379, 0.7591999769210815, 0.5767999887466431, 0.7612000107765198, 0.5648999810218811, 0.3443000018596649, 0.4738999903202057, 0.5740000009536743, 0.7906000018119812, 0.6302000284194946, 1.0277999639511108, -0.025599999353289604, -0.13660000264644623, 0.5974000096321106, 2.024899959564209, 2.0071001052856445, 1.9193999767303467, 1.9055999517440796, 1.9055999517440796, 1.8914999961853027, 1.8516000509262085, 1.8250999450683594, 1.8246999979019165, 1.8172999620437622, 1.7949999570846558, 1.794700026512146, 1.7828999757766724, 1.726099967956543, 1.7121000289916992, 1.711899995803833, 1.7116999626159668, 1.707800030708313, 1.6527999639511108, 1.6526999473571777, 1.6526999473571777, 1.6526999473571777, 1.652500033378601, 1.5736000537872314, 1.5735000371932983, 1.5641000270843506, 1.5182000398635864, 1.5140999555587769, 1.4990999698638916, 1.468400001525879, 1.4180999994277954, 1.3293999433517456, 1.354599952697754, 1.2496000528335571, 1.0789999961853027, 1.4127000570297241, 1.32669997215271, 1.3348000049591064, 0.6880999803543091, 1.0686999559402466, 0.9534000158309937, 0.8305000066757202, 1.1002999544143677, 0.958299994468689, 0.7802000045776367, 0.1995999962091446, 0.7472000122070312, -0.20489999651908875, 0.6119999885559082, 2.0035998821258545, 1.996999979019165, 1.9907000064849854, 1.982100009918213, 1.932800054550171, 1.932800054550171, 1.9021999835968018, 1.8845000267028809, 1.8803000450134277, 1.8372000455856323, 1.8370000123977661, 1.8061000108718872, 1.7984999418258667, 1.7244000434875488, 1.7240999937057495, 1.7238999605178833, 1.7238999605178833, 1.7106000185012817, 1.6718000173568726, 1.6648000478744507, 1.6545000076293945, 1.645900011062622, 1.6282000541687012, 1.6279000043869019, 1.6115000247955322, 1.5990999937057495, 1.5846999883651733, 1.5843000411987305, 1.5843000411987305, 1.5843000411987305, 1.5750000476837158, 1.4884999990463257, 1.3589999675750732, 1.4946999549865723, 1.4323999881744385, 1.1411000490188599, 0.599399983882904, 1.454699993133545, 1.2461999654769897, 0.24230000376701355, 1.3724000453948975, 1.0436999797821045, 1.1512000560760498, 0.810699999332428, 0.7447999715805054, 0.9413999915122986, 0.21649999916553497, -0.16110000014305115, 0.19499999284744263, 0.44110000133514404, 0.03220000118017197, 0.5843999981880188, 0.0868000015616417, 2.3254001140594482, 2.24429988861084, 2.213399887084961, 2.1986000537872314, 2.1298999786376953, 2.119999885559082, 2.089400053024292, 2.08489990234375, 2.042799949645996, 2.04259991645813, 2.0088999271392822, 1.9800000190734863, 1.9728000164031982, 1.9577000141143799, 1.9551000595092773, 1.9230999946594238, 1.9229999780654907, 1.9229999780654907, 1.9229999780654907, 1.9229999780654907, 1.9228999614715576, 1.9223999977111816, 1.9153000116348267, 1.8669999837875366, 1.8521000146865845, 1.8342000246047974, 1.8342000246047974, 1.8342000246047974, 1.8341000080108643, 1.8341000080108643, 1.7991000413894653, 1.7710000276565552, 1.6741000413894653, 1.8099000453948975, 1.723099946975708, 1.28410005569458, 1.2373000383377075, 1.069599986076355, 1.5471999645233154, 1.501099944114685, 1.6256999969482422, 1.621000051498413, 0.7016000151634216, 0.8884000182151794, 1.412500023841858, 1.3242000341415405, 0.6916999816894531, 0.5852000117301941, 0.6416000127792358, 1.3039000034332275, 0.7846999764442444, -0.830299973487854, 1.131700038909912, 0.2953999936580658, 0.8425999879837036, 0.8425999879837036, 0.8425999879837036, 0.8425999879837036, 0.8425999879837036, 0.8425999879837036, 0.8425999879837036, 0.8425999879837036, 0.8424999713897705, 0.8424999713897705, 0.8424999713897705, 0.8424999713897705, 0.8424999713897705, 0.8424999713897705, 0.8424999713897705, 0.8424999713897705, 0.8424999713897705, 0.8424999713897705, 0.8424999713897705, 0.8424999713897705, 0.8424999713897705, 0.8424999713897705, 0.8424999713897705, 0.8424999713897705, 0.8424999713897705, 0.8424999713897705, 0.8424999713897705, 0.8424999713897705, 0.8424999713897705, 0.8424999713897705, 0.8424999713897705, 0.8424000144004822, 0.8424000144004822, 0.8424000144004822, 0.8424000144004822, 0.8424000144004822, -3.2969000339508057, -2.384500026702881, -2.3320000171661377, -2.5450000762939453, -1.9940999746322632, -2.31469988822937, -2.0813000202178955, -1.8890000581741333, -2.101900100708008, -2.5227999687194824, -2.3492000102996826, -2.05049991607666, -1.9711999893188477, -1.8235000371932983, -2.090100049972534, -1.7851999998092651, -1.9638999700546265, -2.0857999324798584, -1.7487000226974487, -2.082900047302246, -1.8241000175476074, -1.9250999689102173, -1.9759000539779663, -1.4687000513076782, -2.0327000617980957, -1.6054999828338623, -1.9312000274658203, -1.7798000574111938, -1.5931999683380127, -1.5795999765396118, 0.8385999798774719, 0.8385999798774719, 0.8385000228881836, 0.8385000228881836, 0.8385000228881836, 0.8385000228881836, 0.8385000228881836, 0.8385000228881836, 0.8385000228881836, 0.8385000228881836, 0.8385000228881836, 0.8385000228881836, 0.8384000062942505, 0.8384000062942505, 0.8384000062942505, 0.8384000062942505, 0.8384000062942505, 0.8384000062942505, 0.8384000062942505, 0.8384000062942505, 0.8384000062942505, 0.8384000062942505, 0.8384000062942505, 0.8384000062942505, 0.8384000062942505, 0.8384000062942505, 0.8384000062942505, 0.8384000062942505, 0.8384000062942505, 0.8384000062942505, 0.8384000062942505, 0.8112999796867371, 0.8112999796867371, 0.8112000226974487, 0.8112000226974487, 0.8112000226974487, 0.8112000226974487, 0.8111000061035156, 0.8111000061035156, 0.8111000061035156, 0.8109999895095825, 0.8109999895095825, 0.8109999895095825, 0.8109999895095825, 0.8109999895095825, 0.8108999729156494, 0.8108999729156494, 0.8108000159263611, 0.8108999729156494, 0.8108000159263611, 0.8108000159263611, 0.8108000159263611, 0.8108000159263611, 0.8108000159263611, 0.8108000159263611, 0.810699999332428, 0.810699999332428, 0.810699999332428, 0.810699999332428, 0.810699999332428, 0.810699999332428, -1.4789999723434448, -1.597499966621399, -2.1487998962402344, -2.3564999103546143, -2.1775999069213867, -1.6516000032424927, -1.0851999521255493, -0.3898000121116638, -0.9970999956130981, -1.853600025177002, -0.7773000001907349, -1.0365999937057495, -1.3177000284194946, -1.2807999849319458, -0.3474000096321106, -1.611799955368042, -1.8753999471664429, -0.0949999988079071, 0.4918999969959259, -2.464200019836426, -1.3395999670028687, -0.8837000131607056, -1.5166000127792358, -0.4778999984264374, -1.538100004196167, -0.35839998722076416, -0.02280000038444996, -1.1416000127792358, 0.15029999613761902, -0.5996999740600586, -0.8080999851226807, -3.287400007247925, -1.4312000274658203, -1.973099946975708, -1.8463000059127808, -1.3061000108718872, -2.035399913787842, -1.8273999691009521, 0.8410000205039978, 0.8410000205039978, 0.8409000039100647, 0.8409000039100647, 0.8409000039100647, 0.8409000039100647, 0.8409000039100647, 0.8409000039100647, 0.8409000039100647, 0.8409000039100647, 0.8409000039100647, 0.8409000039100647, 0.8409000039100647, 0.8409000039100647, 0.8409000039100647, 0.8409000039100647, 0.8409000039100647, 0.8409000039100647, 0.8409000039100647, 0.8409000039100647, 0.8409000039100647, 0.8409000039100647, 0.8409000039100647, 0.8409000039100647, 0.8409000039100647, 0.8409000039100647, 0.8409000039100647, 0.8409000039100647, 0.8409000039100647, 0.8409000039100647, 0.8409000039100647, 0.8409000039100647, 0.8409000039100647, 0.8409000039100647, 0.8409000039100647, 0.8409000039100647, 0.8409000039100647, 0.8409000039100647, 0.8409000039100647, 0.8409000039100647, 0.8409000039100647, 0.8102999925613403, 0.8101999759674072, 0.8101000189781189, 0.8101000189781189, 0.8101000189781189, 0.8101000189781189, 0.8101000189781189, 0.8100000023841858, 0.8100000023841858, 0.8100000023841858, 0.8100000023841858, 0.8100000023841858, 0.8100000023841858, 0.8098999857902527, 0.8100000023841858, 0.8100000023841858, 0.8098999857902527, 0.8098999857902527, 0.8098999857902527, 0.8098999857902527, 0.8098999857902527, 0.8100000023841858, 0.8098999857902527, 0.8098999857902527, 0.8098999857902527, 0.8098999857902527, 0.8098000288009644, 0.8098999857902527, 0.8098999857902527, 0.8098999857902527, -2.27620005607605, -2.2946999073028564, -2.3487000465393066, -2.478300094604492, -1.674299955368042, -1.9284000396728516, -1.573199987411499, -1.6023000478744507, -2.524899959564209, -1.999899983406067, -3.3304998874664307, -1.7696000337600708, -2.0536999702453613, -1.7508000135421753, -1.7480000257492065, -1.0616999864578247, -1.6825000047683716, -2.0652999877929688, -1.853700041770935, -1.879699945449829, -1.465000033378601, -1.3846999406814575, -1.3894000053405762, -1.958400011062622, -2.3389999866485596, -1.3483999967575073, -1.1533000469207764, -1.462499976158142, -0.8360999822616577, -1.593400001525879, -2.0961999893188477, -1.9175000190734863, -2.3208999633789062, -1.570199966430664], \"logprob\": [30.0, 29.0, 28.0, 27.0, 26.0, 25.0, 24.0, 23.0, 22.0, 21.0, 20.0, 19.0, 18.0, 17.0, 16.0, 15.0, 14.0, 13.0, 12.0, 11.0, 10.0, 9.0, 8.0, 7.0, 6.0, 5.0, 4.0, 3.0, 2.0, 1.0, -4.421500205993652, -4.728700160980225, -4.904699802398682, -5.1203999519348145, -5.179500102996826, -5.279300212860107, -5.31689977645874, -5.390100002288818, -5.244699954986572, -5.65939998626709, -5.709199905395508, -5.766600131988525, -5.82289981842041, -5.8246002197265625, -5.471199989318848, -5.710999965667725, -6.0218000411987305, -5.03439998626709, -5.658199787139893, -6.181099891662598, -6.181700229644775, -6.18310022354126, -6.271399974822998, -5.887400150299072, -5.951499938964844, -5.659599781036377, -6.481500148773193, -6.482600212097168, -6.273099899291992, -6.2708001136779785, -5.279399871826172, -4.433300018310547, -4.7118000984191895, -5.212600231170654, -4.9054999351501465, -5.559800148010254, -5.824399948120117, -5.822999954223633, -5.513000011444092, -5.390399932861328, -5.513199806213379, -5.562900066375732, -5.211100101470947, -5.51639986038208, -5.509900093078613, -5.11929988861084, -5.561999797821045, -5.558499813079834, -5.559700012207031, -5.553699970245361, -5.604000091552734, -5.602399826049805, -4.9770002365112305, -5.210100173950195, -5.418499946594238, -4.787799835205078, -5.68179988861084, -5.810500144958496, -5.881100177764893, -4.864500045776367, -6.130199909210205, -6.228799819946289, -6.229499816894531, -6.229000091552734, -5.248300075531006, -6.338399887084961, -6.338399887084961, -6.338699817657471, -6.338699817657471, -6.461999893188477, -5.880899906158447, -5.681000232696533, -6.60290002822876, -6.603000164031982, -6.603099822998047, -6.603700160980225, -6.339200019836426, -6.339000225067139, -6.338399887084961, -6.766900062561035, -6.767499923706055, -6.767499923706055, -5.373199939727783, -6.1296000480651855, -6.228600025177002, -3.502000093460083, -6.130199909210205, -5.880300045013428, -5.247900009155273, -5.372399806976318, -5.172800064086914, -4.786799907684326, -5.68179988861084, -5.005499839782715, -5.172299861907959, -5.209199905395508, -5.329500198364258, -5.566999912261963, -5.070099830627441, -5.004499912261963, -5.514100074768066, -5.4182000160217285, -5.463600158691406, -5.742499828338623, -5.565400123596191, -5.621600151062012, -5.566500186920166, -5.741000175476074, -5.740499973297119, -5.423999786376953, -5.666100025177002, -5.6666998863220215, -4.894100189208984, -5.8130998611450195, -5.066800117492676, -5.599899768829346, -5.985199928283691, -5.985599994659424, -5.985499858856201, -5.9857001304626465, -5.736000061035156, -6.084199905395508, -4.550600051879883, -6.194200038909912, -6.194300174713135, -6.194799900054932, -5.066199779510498, -6.31790018081665, -6.458600044250488, -6.458600044250488, -6.458600044250488, -6.459199905395508, -5.894999980926514, -5.423399925231934, -6.194399833679199, -6.317599773406982, -6.622300148010254, -6.622399806976318, -6.622499942779541, -5.104800224304199, -5.600100040435791, -5.985499858856201, -4.485099792480469, -5.813600063323975, -5.599299907684326, -5.0295000076293945, -4.595300197601318, -5.06689977645874, -5.1041998863220215, -5.145500183105469, -5.321499824523926, -5.105999946594238, -5.423600196838379, -5.230100154876709, -5.066400051116943, -5.184800148010254, -5.32289981842041, -5.480400085449219, -5.423600196838379, -5.736700057983398, -5.229300022125244, -5.372099876403809, -5.598999977111816, -4.669600009918213, -4.055600166320801, -5.410200119018555, -5.480599880218506, -5.480199813842773, -4.772600173950195, -5.409200191497803, -5.827600002288818, -5.828999996185303, -5.638899803161621, -5.938000202178955, -5.938600063323975, -4.810100078582764, -5.114799976348877, -6.201900005340576, -6.202199935913086, -6.202899932861328, -5.223199844360352, -6.366199970245361, -6.366300106048584, -6.366399765014648, -6.366099834442139, -6.366600036621094, -6.56220006942749, -6.562399864196777, -4.8480000495910645, -5.40939998626709, -6.366499900817871, -5.828199863433838, -5.556300163269043, -4.576200008392334, -4.671500205993652, -5.018400192260742, -4.545400142669678, -4.339200019836426, -5.729700088500977, -5.5569000244140625, -5.639400005340576, -4.547500133514404, -5.222099781036377, -5.115799903869629, -4.973499774932861, -5.480000019073486, -5.4105000495910645, -5.4096999168396, -5.224599838256836, -5.555799961090088, -5.408599853515625, -5.557300090789795, -4.96560001373291, -5.011199951171875, -5.058300018310547, -4.541299819946289, -5.402500152587891, -5.402400016784668, -5.550300121307373, -4.729700088500977, -5.33620023727417, -5.821499824523926, -5.821800231933594, -5.9319000244140625, -3.961899995803833, -6.194799900054932, -6.195099830627441, -6.195099830627441, -6.195300102233887, -5.336299896240234, -4.63040018081665, -6.358699798583984, -5.820499897003174, -5.631700038909912, -6.1956000328063965, -4.356400012969971, -6.194900035858154, -6.19379997253418, -6.555300235748291, -6.555600166320801, -6.555600166320801, -6.555600166320801, -6.359300136566162, -5.106800079345703, -4.661399841308594, -5.820899963378906, -5.820099830627441, -4.799900054931641, -3.795799970626831, -5.9303998947143555, -5.6315999031066895, -4.961400032043457, -5.928100109100342, -5.720799922943115, -5.818999767303467, -5.629300117492676, -5.632599830627441, -5.721799850463867, -5.470200061798096, -5.396699905395508, -5.543799877166748, -5.6280999183654785, -5.626500129699707, -5.718599796295166, -5.71589994430542, -4.710000038146973, -5.165200233459473, -5.3024001121521, -4.751200199127197, -5.102700233459473, -5.650100231170654, -4.887199878692627, -5.7600998878479, -5.883200168609619, -5.883500099182129, -5.460999965667725, -5.760000228881836, -5.760300159454346, -5.102700233459473, -5.230899810791016, -6.188300132751465, -6.188300132751465, -6.188199996948242, -6.188300132751465, -6.188300132751465, -6.188300132751465, -5.883200168609619, -5.883600234985352, -6.024199962615967, -6.024199962615967, -6.384300231933594, -6.384399890899658, -6.384399890899658, -6.384399890899658, -6.384399890899658, -4.887199878692627, -5.650000095367432, -4.989099979400635, -6.188000202178955, -5.883399963378906, -4.427700042724609, -4.709099769592285, -4.368100166320801, -5.55109977722168, -5.551000118255615, -5.759799957275391, -5.759699821472168, -4.709199905395508, -4.935699939727783, -5.5503997802734375, -5.4608001708984375, -5.10129976272583, -5.101500034332275, -5.162300109863281, -5.55079984664917, -5.550300121307373, -5.225500106811523, -5.6493000984191895, -5.758399963378906, -7.790999889373779, -7.790999889373779, -7.790999889373779, -7.791100025177002, -7.791100025177002, -7.791100025177002, -7.791100025177002, -7.791100025177002, -7.791100025177002, -7.791100025177002, -7.791100025177002, -7.791100025177002, -7.791100025177002, -7.791100025177002, -7.791100025177002, -7.791100025177002, -7.791200160980225, -7.791100025177002, -7.791200160980225, -7.791200160980225, -7.791200160980225, -7.791200160980225, -7.791200160980225, -7.791200160980225, -7.791200160980225, -7.791200160980225, -7.791200160980225, -7.791200160980225, -7.791100025177002, -7.791200160980225, -7.791200160980225, -7.791200160980225, -7.791200160980225, -7.791200160980225, -7.791200160980225, -7.791200160980225, -7.6921000480651855, -7.748300075531006, -7.75029993057251, -7.748700141906738, -7.75439977645874, -7.752399921417236, -7.7571001052856445, -7.760000228881836, -7.7606000900268555, -7.758399963378906, -7.760000228881836, -7.762400150299072, -7.7642998695373535, -7.764500141143799, -7.767099857330322, -7.7677001953125, -7.7677998542785645, -7.768499851226807, -7.769100189208984, -7.769599914550781, -7.770400047302246, -7.770500183105469, -7.7708001136779785, -7.770899772644043, -7.771500110626221, -7.7718000411987305, -7.771999835968018, -7.772500038146973, -7.772600173950195, -7.7729997634887695, -7.795100212097168, -7.795100212097168, -7.795100212097168, -7.795199871063232, -7.795199871063232, -7.795100212097168, -7.795199871063232, -7.795100212097168, -7.795199871063232, -7.795199871063232, -7.795199871063232, -7.795199871063232, -7.795199871063232, -7.795199871063232, -7.795199871063232, -7.795199871063232, -7.795199871063232, -7.795199871063232, -7.795199871063232, -7.795199871063232, -7.795199871063232, -7.795199871063232, -7.795199871063232, -7.795199871063232, -7.795199871063232, -7.795199871063232, -7.795199871063232, -7.795199871063232, -7.795199871063232, -7.795199871063232, -7.795199871063232, -7.790299892425537, -7.79040002822876, -7.79040002822876, -7.790500164031982, -7.790500164031982, -7.790500164031982, -7.790500164031982, -7.790500164031982, -7.790599822998047, -7.790599822998047, -7.790599822998047, -7.790599822998047, -7.790599822998047, -7.7906999588012695, -7.7906999588012695, -7.7906999588012695, -7.790800094604492, -7.790800094604492, -7.790800094604492, -7.790800094604492, -7.790800094604492, -7.790800094604492, -7.790900230407715, -7.790900230407715, -7.790900230407715, -7.790900230407715, -7.790900230407715, -7.790900230407715, -7.790900230407715, -7.790999889373779, -7.5416998863220215, -7.598400115966797, -7.566999912261963, -7.592100143432617, -7.6016998291015625, -7.645899772644043, -7.678299903869629, -7.719399929046631, -7.6915998458862305, -7.657599925994873, -7.708399772644043, -7.700799942016602, -7.690800189971924, -7.692800045013428, -7.73360013961792, -7.681000232696533, -7.670400142669678, -7.748600006103516, -7.777100086212158, -7.667900085449219, -7.7083001136779785, -7.724599838256836, -7.706500053405762, -7.738699913024902, -7.707300186157227, -7.744200229644775, -7.75600004196167, -7.7220001220703125, -7.7642998695373535, -7.742099761962891, -7.7357001304626465, -7.682600021362305, -7.7220001220703125, -7.711900234222412, -7.717299938201904, -7.729300022125244, -7.722099781036377, -7.724299907684326, -7.792699813842773, -7.792699813842773, -7.792699813842773, -7.792699813842773, -7.792699813842773, -7.792699813842773, -7.792699813842773, -7.792699813842773, -7.792699813842773, -7.792699813842773, -7.792699813842773, -7.792699813842773, -7.792699813842773, -7.792699813842773, -7.792699813842773, -7.792699813842773, -7.792699813842773, -7.792699813842773, -7.792699813842773, -7.792699813842773, -7.792699813842773, -7.792699813842773, -7.792699813842773, -7.792699813842773, -7.792699813842773, -7.792699813842773, -7.792699813842773, -7.792699813842773, -7.792699813842773, -7.792699813842773, -7.792699813842773, -7.792699813842773, -7.792699813842773, -7.792699813842773, -7.792699813842773, -7.792699813842773, -7.792699813842773, -7.792699813842773, -7.792699813842773, -7.792699813842773, -7.792699813842773, -7.791399955749512, -7.791500091552734, -7.791500091552734, -7.791500091552734, -7.791500091552734, -7.791500091552734, -7.791500091552734, -7.791500091552734, -7.791600227355957, -7.791600227355957, -7.791600227355957, -7.791600227355957, -7.791600227355957, -7.791600227355957, -7.791600227355957, -7.7916998863220215, -7.7916998863220215, -7.7916998863220215, -7.7916998863220215, -7.7916998863220215, -7.7916998863220215, -7.7916998863220215, -7.7916998863220215, -7.7916998863220215, -7.7916998863220215, -7.7916998863220215, -7.7916998863220215, -7.7916998863220215, -7.7916998863220215, -7.7916998863220215, -7.700399875640869, -7.7129998207092285, -7.712600231170654, -7.713799953460693, -7.736999988555908, -7.7322998046875, -7.742400169372559, -7.742000102996826, -7.728600025177002, -7.738699913024902, -7.7256999015808105, -7.742199897766113, -7.7403998374938965, -7.745200157165527, -7.749000072479248, -7.756100177764893, -7.751699924468994, -7.7480998039245605, -7.7505998611450195, -7.750699996948242, -7.755799770355225, -7.757699966430664, -7.758200168609619, -7.753300189971924, -7.749800205230713, -7.760499954223633, -7.763599872589111, -7.7606000900268555, -7.767099857330322, -7.759699821472168, -7.754899978637695, -7.758299827575684, -7.758600234985352, -7.760000228881836]}, \"token.table\": {\"Topic\": [6, 1, 2, 3, 1, 2, 6, 6, 1, 2, 5, 6, 1, 1, 2, 3, 5, 1, 2, 3, 4, 5, 6, 5, 6, 1, 2, 4, 5, 6, 1, 6, 4, 3, 3, 1, 2, 3, 4, 5, 4, 3, 4, 6, 6, 4, 4, 1, 2, 3, 4, 5, 6, 6, 1, 2, 3, 4, 6, 1, 2, 3, 4, 6, 6, 1, 4, 4, 3, 5, 1, 2, 3, 4, 5, 6, 1, 1, 4, 2, 3, 4, 5, 1, 3, 1, 2, 3, 2, 3, 2, 3, 1, 4, 6, 4, 6, 6, 6, 6, 6, 1, 2, 3, 4, 5, 6, 4, 2, 3, 6, 1, 2, 3, 4, 5, 6, 4, 1, 2, 3, 4, 5, 6, 1, 2, 3, 4, 1, 2, 4, 5, 6, 4, 4, 1, 6, 5, 2, 6, 3, 4, 6, 2, 6, 6, 3, 2, 1, 2, 5, 6, 1, 2, 3, 4, 1, 2, 3, 5, 6, 1, 2, 3, 4, 4, 6, 6, 6, 1, 2, 4, 5, 1, 2, 3, 6, 3, 3, 1, 4, 5, 1, 2, 4, 1, 4, 3, 6, 1, 2, 3, 4, 5, 4, 4, 1, 2, 4, 5, 1, 2, 3, 4, 5, 6, 1, 2, 3, 4, 5, 6, 5, 6, 1, 2, 3, 5, 4, 6, 4, 3, 6, 1, 2, 3, 5, 6, 6, 1, 2, 3, 4, 5, 1, 1, 2, 3, 4, 5, 6, 6, 5, 3, 1, 2, 3, 5, 1, 2, 3, 4, 5, 6, 2, 4, 6, 2, 4, 4, 1, 2, 3, 4, 5, 2, 3, 4, 5, 1, 2, 5, 1, 2, 5, 5, 5, 4, 1, 2, 3, 4, 5, 6, 4, 4, 4, 1, 2, 1, 6, 1, 4, 6, 3, 6, 1, 3, 6, 4, 1, 2, 5, 2, 3, 2, 4, 2, 3, 6, 1, 2, 3, 5, 6, 1, 2, 3, 4, 5, 1, 2, 3, 5, 6, 4, 5, 6, 6, 6, 4, 6, 4, 1, 4, 4, 1, 5, 6, 2, 3, 5, 1, 3, 5, 6, 1, 2, 5, 1, 2, 3, 4, 5, 6, 5, 1, 2, 3, 5, 6, 1, 4, 2, 3, 6, 4, 1, 4, 6, 6, 1, 2, 3, 4, 5, 4, 1, 2, 4, 5, 1, 5, 1, 2, 3, 6, 4, 1, 3, 4, 6, 6, 6, 3, 1, 2, 3, 5, 6, 6, 6, 1, 2, 3, 4, 5, 6, 6, 6, 2, 3, 5, 5, 6, 6, 6, 5, 3, 1, 2, 5, 4, 2, 1, 2, 3, 6, 2, 6, 2, 1, 2, 5, 2, 4, 6, 1, 4, 4, 6, 1, 2, 3, 4, 5, 6, 4, 6, 1, 2, 3, 4, 5, 5, 1, 2, 3, 6, 4, 6, 1, 2, 3, 4, 5, 2, 2, 2, 3, 6, 1, 2, 3, 5, 6, 3, 6, 6, 2, 3, 3, 5, 4, 2, 1, 2, 3, 2, 1, 5, 5, 4, 5, 1, 3, 1, 2, 3, 4, 5, 6, 1, 2, 4, 5, 1, 2, 3, 4, 5, 1, 2, 3, 4, 5, 6, 1, 2, 3, 5, 6, 1, 4, 2, 2, 4, 1, 2, 4, 5, 1, 2, 4, 2, 3, 6, 4, 6, 1, 3, 6, 6, 4, 1, 1, 4, 5, 6, 6, 6, 4, 1, 6, 1, 6, 5, 2, 3, 4, 5, 1, 2, 3, 4, 5, 6, 6, 2, 3, 6, 1, 6, 1, 1, 4, 4, 4, 5, 3, 5, 1, 2, 3, 4, 5, 1, 3, 4, 2, 1, 2, 4, 6, 6, 1, 2, 3, 4, 5, 1, 2, 3, 4, 1, 2, 3, 4, 5, 6, 1, 2, 3, 4, 6, 3, 6, 6, 2, 6, 1, 2, 3, 5, 6, 1, 5, 6, 2, 6, 1, 2, 3, 6, 2, 1, 2, 3, 4, 3, 1, 3, 5, 3, 6, 6, 6, 2, 3, 5, 6, 1, 2, 3, 4, 1, 2, 4, 5, 2, 3, 4, 5, 2, 5, 1, 2, 3, 6, 6, 1, 2, 3, 4, 5, 6, 4, 2, 4, 4, 4, 5, 2, 4, 4, 3, 4, 1, 4, 1, 2, 3, 5, 6, 1, 2, 3, 4, 5, 2, 3, 4, 5, 1, 2, 3, 4, 5, 6, 4, 1, 4, 4, 4, 1, 2, 3, 4, 5, 6, 1, 3, 5, 1, 2, 1, 2, 3, 6, 1, 2, 3, 4, 5, 6, 2, 2, 3, 5, 1, 3, 4, 4, 1, 2, 3, 5, 1, 2, 3, 4, 5, 6, 6, 6, 1, 2, 3, 4, 5, 6, 5, 4, 1, 2, 3, 4, 5, 6, 1, 2, 3, 4, 5, 6, 4, 6, 6, 1, 6, 6, 1, 5, 2, 1, 2, 3, 5, 6, 6, 6, 6, 4, 1, 2, 3, 5, 1, 2, 3, 4, 5, 6, 1, 2, 3, 6, 4, 6], \"Freq\": [0.37350451946258545, 0.8570352792739868, 0.7020022869110107, 0.8011835813522339, 0.9656827449798584, 0.6889016628265381, 0.11481694877147675, 0.6645644903182983, 0.9045079350471497, 0.8250372409820557, 0.8484407663345337, 0.6646326184272766, 0.8477956056594849, 0.2904236316680908, 0.25815433263778687, 0.3872314989566803, 0.03226929157972336, 0.2668553590774536, 0.4151083528995514, 0.08895178884267807, 0.08895178884267807, 0.059301190078258514, 0.08895178884267807, 0.5568125247955322, 0.18560418486595154, 0.13424092531204224, 0.2953300476074219, 0.4564191699028015, 0.10739274322986603, 0.373502254486084, 0.7967405319213867, 0.09959256649017334, 0.3617294430732727, 0.652595043182373, 0.7303490042686462, 0.2915538251399994, 0.20825272798538208, 0.041650544852018356, 0.20825272798538208, 0.24990327656269073, 0.3617241680622101, 0.8072777390480042, 0.3617284297943115, 0.6646127700805664, 0.37350326776504517, 0.36172446608543396, 0.3617260456085205, 0.17012415826320648, 0.44232282042503357, 0.20414899289608002, 0.10207449644804001, 0.10207449644804001, 0.4932122826576233, 0.4932526648044586, 0.5042195916175842, 0.11635836958885193, 0.07757224887609482, 0.3102889955043793, 0.3734944760799408, 0.5400843620300293, 0.09530900418758392, 0.12707866728305817, 0.2223876714706421, 0.03176966682076454, 0.3734947741031647, 0.871812105178833, 0.3617459833621979, 0.36172670125961304, 0.6828255653381348, 0.13656510412693024, 0.2594520151615143, 0.12972600758075714, 0.1945890188217163, 0.2594520151615143, 0.12972600758075714, 0.032431501895189285, 0.7397841811180115, 0.8637601137161255, 0.3617611527442932, 0.05761363357305527, 0.5185227394104004, 0.05761363357305527, 0.3456818163394928, 0.12241042405366898, 0.734462559223175, 0.09374115616083145, 0.046870578080415726, 0.7967998385429382, 0.08780689537525177, 0.7902620434761047, 0.7862551212310791, 0.17472335696220398, 0.7399609088897705, 0.7589596509933472, 0.37348687648773193, 0.36171045899391174, 0.5522094368934631, 0.3734886348247528, 0.6645442247390747, 0.7686490416526794, 0.37349680066108704, 0.038952719420194626, 0.35057446360588074, 0.038952719420194626, 0.4674326181411743, 0.038952719420194626, 0.038952719420194626, 0.7510567903518677, 0.32161638140678406, 0.10720546543598175, 0.428821861743927, 0.29339608550071716, 0.05334474518895149, 0.10668949037790298, 0.4801027178764343, 0.026672372594475746, 0.026672372594475746, 0.36173874139785767, 0.26458442211151123, 0.15434090793132782, 0.11024350672960281, 0.26458442211151123, 0.044097401201725006, 0.15434090793132782, 0.09502988308668137, 0.8235923051834106, 0.031676627695560455, 0.3617135286331177, 0.22421765327453613, 0.14947843551635742, 0.523174524307251, 0.07473921775817871, 0.07473921775817871, 0.606119692325592, 0.3617461621761322, 0.8569391369819641, 0.37350720167160034, 0.8024055361747742, 0.15177956223487854, 0.6071182489395142, 0.6526757478713989, 0.36174729466438293, 0.3734990358352661, 0.7701224684715271, 0.3735055923461914, 0.37350383400917053, 0.6525856256484985, 0.9345428943634033, 0.06392165273427963, 0.767059862613678, 0.06392165273427963, 0.06392165273427963, 0.1681445837020874, 0.2522168755531311, 0.0840722918510437, 0.5044337511062622, 0.08635829389095306, 0.6908663511276245, 0.1295374482870102, 0.04317914694547653, 0.04317914694547653, 0.12438871711492538, 0.06219435855746269, 0.12438871711492538, 0.6841379404067993, 0.5187509059906006, 0.37351250648498535, 0.37349480390548706, 0.3735031485557556, 0.13202662765979767, 0.18483728170394897, 0.07921598106622696, 0.5809171795845032, 0.1569141447544098, 0.7061136364936829, 0.17778025567531586, 0.5333407521247864, 0.7373701333999634, 0.7302854061126709, 0.8078295588493347, 0.07343905419111252, 0.07343905419111252, 0.11728604137897491, 0.7037162184715271, 0.36173465847969055, 0.17588786780834198, 0.5276635885238647, 0.2332930862903595, 0.5832327008247375, 0.1311042755842209, 0.10925356298685074, 0.3277606964111328, 0.4151635468006134, 0.021850712597370148, 0.3617277443408966, 0.7507168054580688, 0.3063502609729767, 0.5013003945350647, 0.02785002440214157, 0.13925011456012726, 0.10894586890935898, 0.3631528913974762, 0.03631528839468956, 0.2542070150375366, 0.21789173781871796, 0.3734971284866333, 0.39068225026130676, 0.16086916625499725, 0.3677009344100952, 0.02298130840063095, 0.06894392520189285, 0.02298130840063095, 0.4559479057788849, 0.3734913766384125, 0.4243883788585663, 0.19587156176567078, 0.3264526128768921, 0.03264525905251503, 0.3617370128631592, 0.629948616027832, 0.3617035746574402, 0.7933118939399719, 0.37349995970726013, 0.1809738576412201, 0.38205593824386597, 0.08043282479047775, 0.060324620455503464, 0.3016231060028076, 0.3734932243824005, 0.505949854850769, 0.1864025890827179, 0.15977364778518677, 0.07988682389259338, 0.07988682389259338, 0.8821538686752319, 0.36601758003234863, 0.2745131850242615, 0.18300879001617432, 0.04575219750404358, 0.06862829625606537, 0.06862829625606537, 0.37349578738212585, 0.7312203049659729, 0.8601253032684326, 0.07641855627298355, 0.07641855627298355, 0.1528371125459671, 0.6113484501838684, 0.19532136619091034, 0.2929820418357849, 0.3320463001728058, 0.1171928122639656, 0.019532136619091034, 0.03906427323818207, 0.21369236707687378, 0.07123079150915146, 0.6410771012306213, 0.24267691373825073, 0.7280307412147522, 0.3617348074913025, 0.0386761836707592, 0.1160285472869873, 0.6574951410293579, 0.1160285472869873, 0.0386761836707592, 0.14211779832839966, 0.2842355966567993, 0.42635342478752136, 0.07105889916419983, 0.5435451865196228, 0.30574414134025574, 0.10191471874713898, 0.2954441010951996, 0.19696272909641266, 0.49240681529045105, 0.8423400521278381, 0.45593878626823425, 0.7274966239929199, 0.35233017802238464, 0.2862682640552521, 0.11010318249464035, 0.08808254450559616, 0.13212381303310394, 0.04404127225279808, 0.7275704145431519, 0.36171630024909973, 0.6060049533843994, 0.8721712827682495, 0.7983834743499756, 0.16208581626415253, 0.4862574338912964, 0.9178692698478699, 0.361734539270401, 0.3734903633594513, 0.18401946127414703, 0.7360778450965881, 0.0774550810456276, 0.23236523568630219, 0.6196406483650208, 0.3617457151412964, 0.1172487810254097, 0.1172487810254097, 0.5862438678741455, 0.7110270261764526, 0.11850450932979584, 0.8252270221710205, 0.3617238700389862, 0.8740383982658386, 0.06243131309747696, 0.4932515621185303, 0.07681822031736374, 0.07681822031736374, 0.23045465350151062, 0.15363644063472748, 0.3840911090373993, 0.2025086134672165, 0.04050172120332718, 0.12150517106056213, 0.5670241117477417, 0.04050172120332718, 0.021809207275509834, 0.4143749475479126, 0.3707565367221832, 0.021809207275509834, 0.17447365820407867, 0.3617410957813263, 0.19778278470039368, 0.5933483839035034, 0.3734983205795288, 0.3734931945800781, 0.7278998494148254, 0.37349796295166016, 0.361720472574234, 0.9698373675346375, 0.36172130703926086, 0.9131762385368347, 0.8739967942237854, 0.06242834031581879, 0.37350085377693176, 0.7815276980400085, 0.8013437986373901, 0.6087245941162109, 0.2143329679965973, 0.2143329679965973, 0.535832405090332, 0.37349942326545715, 0.045273080468177795, 0.045273080468177795, 0.8601885437965393, 0.2813749611377716, 0.1406874805688858, 0.38689056038856506, 0.1406874805688858, 0.03517187014222145, 0.03517187014222145, 0.45598334074020386, 0.25474363565444946, 0.14152424037456512, 0.3396582007408142, 0.1698291003704071, 0.11321939527988434, 0.9208557605743408, 0.70027095079422, 0.2634747624397278, 0.08782492578029633, 0.6147744655609131, 0.3617208003997803, 0.8394206166267395, 0.0493776835501194, 0.37349799275398254, 0.37351101636886597, 0.7124806046485901, 0.08906007558107376, 0.04453003779053688, 0.13359011709690094, 0.04453003779053688, 0.3617587387561798, 0.7348489165306091, 0.061237409710884094, 0.061237409710884094, 0.061237409710884094, 0.1611362248659134, 0.6445448994636536, 0.8429096341133118, 0.0312188770622015, 0.09365662932395935, 0.37350383400917053, 0.36174461245536804, 0.7389828562736511, 0.06032513082027435, 0.15081281960010529, 0.045243848115205765, 0.37349554896354675, 0.3734944760799408, 0.7933974266052246, 0.5726178884506226, 0.16841702163219452, 0.13473361730575562, 0.10105021297931671, 0.033683404326438904, 0.3734874129295349, 0.37350812554359436, 0.13473781943321228, 0.5497303009033203, 0.03233707696199417, 0.03233707696199417, 0.21019099652767181, 0.03772658854722977, 0.3735042214393616, 0.49322736263275146, 0.7815148234367371, 0.8013045191764832, 0.7626315355300903, 0.8157214522361755, 0.49324125051498413, 0.3734990358352661, 0.6789257526397705, 0.7044783234596252, 0.7968857884407043, 0.29989948868751526, 0.09996649622917175, 0.49983248114585876, 0.36171582341194153, 0.7700941562652588, 0.07643135637044907, 0.1987215280532837, 0.47387441992759705, 0.24458034336566925, 0.5674951672554016, 0.315275102853775, 0.8985470533370972, 0.3959399461746216, 0.5279198884963989, 0.043993327766656876, 0.33911678194999695, 0.5425868630409241, 0.37349820137023926, 0.08567705750465393, 0.88532954454422, 0.138694629073143, 0.7628204822540283, 0.21297581493854523, 0.2981661260128021, 0.39755484461784363, 0.014198387041687965, 0.07099193334579468, 0.3735038638114929, 0.36172646284103394, 0.37350401282310486, 0.2326059490442276, 0.2616817057132721, 0.3779846727848053, 0.02907574363052845, 0.0581514872610569, 0.7312349081039429, 0.22320519387722015, 0.34224796295166016, 0.25296589732170105, 0.16368381679058075, 0.3617236912250519, 0.3734991252422333, 0.17160525918006897, 0.3622777760028839, 0.2860087752342224, 0.03813450038433075, 0.11440350115299225, 0.7624691724777222, 0.7016026973724365, 0.1110759899020195, 0.222151979804039, 0.444303959608078, 0.08515502512454987, 0.08515502512454987, 0.7238177061080933, 0.04257751256227493, 0.04257751256227493, 0.6527270674705505, 0.3734898865222931, 0.37349408864974976, 0.7701242566108704, 0.801204264163971, 0.7304109334945679, 0.7044941782951355, 0.36172419786453247, 0.890373706817627, 0.11421707272529602, 0.17132560908794403, 0.6853024363517761, 0.7049943208694458, 0.7898737192153931, 0.09873421490192413, 0.8156188726425171, 0.6059267520904541, 0.4559309482574463, 0.1841856837272644, 0.7367427349090576, 0.2867007255554199, 0.1638289839029312, 0.1638289839029312, 0.24574346840381622, 0.12287173420190811, 0.3734973967075348, 0.6403878927230835, 0.0826306939125061, 0.12394604086875916, 0.14460371434688568, 0.3387495279312134, 0.1693747639656067, 0.3145531117916107, 0.14517836272716522, 0.02419639378786087, 0.27377694845199585, 0.10951077938079834, 0.08213308453559875, 0.027377694845199585, 0.46542081236839294, 0.05475538969039917, 0.42989635467529297, 0.07586406171321869, 0.050576042383909225, 0.3540323078632355, 0.07586406171321869, 0.7171767354011536, 0.1792941838502884, 0.7701666355133057, 0.7815218567848206, 0.3617309629917145, 0.5271686911582947, 0.04792442545294762, 0.335470974445343, 0.04792442545294762, 0.9427371025085449, 0.6161587238311768, 0.26406800746917725, 0.0787883996963501, 0.787883996963501, 0.37349051237106323, 0.6903991103172302, 0.1150665208697319, 0.210776224732399, 0.421552449464798, 0.3512937128543854, 0.373494029045105, 0.7587913274765015, 0.9561907052993774, 0.303459107875824, 0.5057651400566101, 0.10115303099155426, 0.3734891712665558, 0.37350913882255554, 0.6645594239234924, 0.3617212176322937, 0.8719038367271423, 0.3735012114048004, 0.42625704407691956, 0.479539155960083, 0.731248676776886, 0.0680554062128067, 0.1361108124256134, 0.6805540323257446, 0.0680554062128067, 0.18733467161655426, 0.2872464954853058, 0.16235671937465668, 0.23729059100151062, 0.09991182386875153, 0.03746693581342697, 0.3734962046146393, 0.2674671709537506, 0.1337335854768753, 0.4012007713317871, 0.17513541877269745, 0.5254062414169312, 0.9192246198654175, 0.15633870661258698, 0.7816935181617737, 0.6810904145240784, 0.16617877781391144, 0.6647151112556458, 0.16332420706748962, 0.6532968282699585, 0.2587147057056427, 0.14373038709163666, 0.11498431116342545, 0.3162068724632263, 0.17247647047042847, 0.9077989459037781, 0.04126358777284622, 0.3617178797721863, 0.7819724082946777, 0.7650783061981201, 0.16394534707069397, 0.3617295026779175, 0.37350472807884216, 0.373503178358078, 0.34482303261756897, 0.16491536796092987, 0.08995383232831955, 0.34482303261756897, 0.0599692203104496, 0.09203100204467773, 0.18406200408935547, 0.6442170143127441, 0.3617236614227295, 0.1960839480161667, 0.2745175361633301, 0.13725876808166504, 0.09804197400808334, 0.13725876808166504, 0.1568671613931656, 0.08044715970754623, 0.16089431941509247, 0.16089431941509247, 0.2413414865732193, 0.40223580598831177, 0.15282614529132843, 0.6113045811653137, 0.37350115180015564, 0.4267951250076294, 0.4267951250076294, 0.2815771698951721, 0.09385905414819717, 0.09385905414819717, 0.4692952632904053, 0.3735031485557556, 0.28872817754745483, 0.5774563550949097, 0.37349575757980347, 0.1631731390953064, 0.4895194470882416, 0.18638934195041656, 0.062129780650138855, 0.6212978363037109, 0.062129780650138855, 0.8358454704284668, 0.16417811810970306, 0.16417811810970306, 0.5472604036331177, 0.05472604185342789, 0.8071749806404114, 0.04066416993737221, 0.8539475798606873, 0.12199251353740692, 0.8073237538337708, 0.37350165843963623, 0.37349554896354675, 0.3734906017780304, 0.05206478387117386, 0.15619434416294098, 0.31238868832588196, 0.46858304738998413, 0.7588946223258972, 0.036137841641902924, 0.07227568328380585, 0.10841351747512817, 0.7185311317443848, 0.19419759511947632, 0.019419759511947632, 0.058259278535842896, 0.3871594965457916, 0.06452658027410507, 0.06452658027410507, 0.3871594965457916, 0.09054667502641678, 0.7243734002113342, 0.17642094194889069, 0.35284188389778137, 0.11761396378278732, 0.2940348982810974, 0.3734949231147766, 0.3772430717945099, 0.3772430717945099, 0.023577691987156868, 0.11788846552371979, 0.09431076794862747, 0.023577691987156868, 0.8110433220863342, 0.8248046040534973, 0.6060812473297119, 0.36174115538597107, 0.3617250919342041, 0.8821362257003784, 0.09463771432638168, 0.7571017146110535, 0.36173081398010254, 0.7421731352806091, 0.3617250323295593, 0.8346738219261169, 0.36172348260879517, 0.09628479927778244, 0.5135189294815063, 0.19256959855556488, 0.1283797323703766, 0.09628479927778244, 0.14595220983028412, 0.09730146825313568, 0.14595220983028412, 0.04865073412656784, 0.535158097743988, 0.25962725281715393, 0.19472043216228485, 0.4543476700782776, 0.06490681320428848, 0.2870193123817444, 0.17938706278800964, 0.0717548280954361, 0.3587741255760193, 0.10763223469257355, 0.37349939346313477, 0.3617381155490875, 0.8091254830360413, 0.05779467895627022, 0.6811554431915283, 0.3617299497127533, 0.337446928024292, 0.044992923736572266, 0.38243985176086426, 0.022496461868286133, 0.022496461868286133, 0.2024681568145752, 0.09915155917406082, 0.09915155917406082, 0.7436366677284241, 0.20086893439292908, 0.7030412554740906, 0.1446959674358368, 0.1446959674358368, 0.5787838697433472, 0.0723479837179184, 0.1054302304983139, 0.07907267659902573, 0.7643691897392273, 0.026357557624578476, 0.026357557624578476, 0.026357557624578476, 0.7019292116165161, 0.6346728205680847, 0.18133509159088135, 0.09066754579544067, 0.7184783816337585, 0.19594864547252655, 0.032658107578754425, 0.3617585301399231, 0.21230411529541016, 0.21230411529541016, 0.14153608679771423, 0.3538402020931244, 0.036287177354097366, 0.1088615283370018, 0.1088615283370018, 0.1088615283370018, 0.6168819665908813, 0.036287177354097366, 0.37350425124168396, 0.37350964546203613, 0.02542244829237461, 0.05084489658474922, 0.4576040506362915, 0.15253467857837677, 0.02542244829237461, 0.27964693307876587, 0.7311829924583435, 0.36172717809677124, 0.19355422258377075, 0.3387198746204376, 0.18145707249641418, 0.09677711129188538, 0.14516566693782806, 0.036291416734457016, 0.19562536478042603, 0.3521256744861603, 0.07825014740228653, 0.11737522482872009, 0.23475044965744019, 0.039125073701143265, 0.3616991341114044, 0.5522497296333313, 0.7327834367752075, 0.9048993587493896, 0.6645917296409607, 0.8309034109115601, 0.7666602730751038, 0.06969638913869858, 0.9125041961669922, 0.18748442828655243, 0.4124657213687897, 0.14998753368854523, 0.03749688342213631, 0.18748442828655243, 0.3735016882419586, 0.3735097348690033, 0.37350529432296753, 0.7009018659591675, 0.18997438251972198, 0.042216528207063675, 0.06332479417324066, 0.6965727210044861, 0.42309966683387756, 0.2278228998184204, 0.13018451631069183, 0.19527676701545715, 0.03254612907767296, 0.03254612907767296, 0.41003960371017456, 0.17573125660419464, 0.11715417355298996, 0.23430834710597992, 0.6060458421707153, 0.3735004961490631], \"Term\": [\"ablation\", \"absorb\", \"accept\", \"acoustic\", \"action\", \"activity\", \"activity\", \"acutely\", \"adahedge\", \"adaptation\", \"adaptor\", \"afferent\", \"agent\", \"algorithm\", \"algorithm\", \"algorithm\", \"algorithm\", \"also\", \"also\", \"also\", \"also\", \"also\", \"also\", \"analyse\", \"analyse\", \"analysis\", \"analysis\", \"analysis\", \"analysis\", \"anatomy\", \"animal\", \"animal\", \"arguably\", \"articulation\", \"articulatory\", \"assume\", \"assume\", \"assume\", \"assume\", \"assume\", \"atomic\", \"automatic\", \"away\", \"balance\", \"balanced\", \"ball\", \"banerjee\", \"base\", \"base\", \"base\", \"base\", \"base\", \"bilateral\", \"bilaterally\", \"bind\", \"bind\", \"bind\", \"bind\", \"bioi\", \"bound\", \"bound\", \"bound\", \"bound\", \"bound\", \"brainstem\", \"budget\", \"building\", \"calculus\", \"capacity\", \"capacity\", \"case\", \"case\", \"case\", \"case\", \"case\", \"case\", \"censor\", \"censored_list\", \"chapter\", \"class\", \"class\", \"class\", \"class\", \"classification\", \"classification\", \"classifier\", \"classifier\", \"classifier\", \"code\", \"code\", \"coefficient\", \"coefficient\", \"cognitive\", \"column\", \"commissure\", \"compatibility\", \"compensate\", \"compensated\", \"compensated_animal\", \"compensation\", \"completely\", \"condition\", \"condition\", \"condition\", \"condition\", \"condition\", \"condition\", \"cone\", \"connection\", \"connection\", \"connection\", \"consider\", \"consider\", \"consider\", \"consider\", \"consider\", \"consider\", \"considerable\", \"constant\", \"constant\", \"constant\", \"constant\", \"constant\", \"constant\", \"convergence\", \"convergence\", \"convergence\", \"correctly\", \"correlate\", \"correlate\", \"correlate\", \"correlate\", \"correlate\", \"cover\", \"csumnedu\", \"cumulative\", \"curiously\", \"customer\", \"dash\", \"dash\", \"database\", \"de\", \"decerebrate\", \"decorrelate\", \"decreased\", \"deficit\", \"delay\", \"denoise\", \"dependency\", \"dependency\", \"dependency\", \"dependency\", \"dependent\", \"dependent\", \"dependent\", \"dependent\", \"describe\", \"describe\", \"describe\", \"describe\", \"describe\", \"design\", \"design\", \"design\", \"design\", \"design_matrice\", \"destruction\", \"disagreement\", \"discrepancy\", \"distribution\", \"distribution\", \"distribution\", \"distribution\", \"domain\", \"domain\", \"dot\", \"dot\", \"dual\", \"ear\", \"easy\", \"easy\", \"easy\", \"edge\", \"edge\", \"eldar\", \"elementwise\", \"elementwise\", \"eliminate\", \"eliminate\", \"error\", \"error\", \"error\", \"error\", \"error\", \"escape\", \"establish\", \"estimate\", \"estimate\", \"estimate\", \"estimate\", \"estimation\", \"estimation\", \"estimation\", \"estimation\", \"estimation\", \"event\", \"example\", \"example\", \"example\", \"example\", \"example\", \"example\", \"exchangeable\", \"exert\", \"experiment\", \"experiment\", \"experiment\", \"experiment\", \"extensively\", \"eye\", \"facet\", \"feature\", \"fett\", \"figure\", \"figure\", \"figure\", \"figure\", \"figure\", \"firing\", \"first\", \"first\", \"first\", \"first\", \"first\", \"fluency\", \"follow\", \"follow\", \"follow\", \"follow\", \"follow\", \"follow\", \"force\", \"formal\", \"frame\", \"frequency\", \"frequency\", \"frequency\", \"frequency\", \"function\", \"function\", \"function\", \"function\", \"function\", \"function\", \"gain\", \"gain\", \"gain\", \"gaussian\", \"gaussian\", \"gaussian_width\", \"generalization\", \"generalization\", \"generalization\", \"generalization\", \"generalization\", \"generalize\", \"generalize\", \"generalize\", \"generalize\", \"generate\", \"generate\", \"generate\", \"generative\", \"generative\", \"generative\", \"generator\", \"generically\", \"geometric\", \"give\", \"give\", \"give\", \"give\", \"give\", \"give\", \"glm\", \"glms\", \"gordons_inequality\", \"graph\", \"gsm\", \"head\", \"head\", \"hedge\", \"helpful\", \"heretofore\", \"hidden_unit\", \"hidden_unit\", \"hide\", \"hide\", \"hide\", \"high_dimensional\", \"history\", \"history\", \"history\", \"hypersurface\", \"hypersurface\", \"identification\", \"ii\", \"image\", \"image\", \"imbalance\", \"increase\", \"increase\", \"increase\", \"increase\", \"increase\", \"independent\", \"independent\", \"independent\", \"independent\", \"independent\", \"input\", \"input\", \"input\", \"input\", \"input\", \"instructive\", \"integrate\", \"integrate\", \"integrating\", \"integration\", \"interestingly\", \"interneuron\", \"intersection\", \"invite\", \"isometry\", \"isotropic\", \"item\", \"item\", \"ivnl\", \"joint\", \"kernel\", \"kneser_ney\", \"label\", \"label\", \"label\", \"labyrinth\", \"language\", \"language\", \"language\", \"large\", \"large\", \"large\", \"large\", \"large\", \"large\", \"law\", \"learn\", \"learn\", \"learn\", \"learn\", \"learn\", \"learning_rate\", \"least_exp\", \"leave\", \"leave\", \"leave\", \"ledoux\", \"lemma\", \"lemma\", \"lengthening\", \"lesione\", \"let\", \"let\", \"let\", \"let\", \"let\", \"life\", \"likelihood\", \"likelihood\", \"likelihood\", \"likelihood\", \"linguistic\", \"linguistic\", \"list\", \"list\", \"list\", \"little\", \"logpartition\", \"loss\", \"loss\", \"loss\", \"loss\", \"made\", \"maintain\", \"margin\", \"may\", \"may\", \"may\", \"may\", \"may\", \"medial\", \"mediate\", \"model\", \"model\", \"model\", \"model\", \"model\", \"model\", \"modestly\", \"modifiable\", \"moment\", \"mori\", \"morphological\", \"morphology\", \"motoneuron\", \"motor\", \"movement\", \"multinomial\", \"nasal\", \"natural\", \"natural\", \"natural\", \"negahban\", \"neighborhood\", \"network\", \"network\", \"network\", \"network\", \"neuron\", \"neuron\", \"neuronal\", \"node\", \"node\", \"node\", \"noise\", \"noise\", \"none\", \"norm\", \"norm\", \"normal\", \"normal\", \"number\", \"number\", \"number\", \"number\", \"number\", \"observed\", \"offer\", \"opposite\", \"order\", \"order\", \"order\", \"order\", \"order\", \"outcome\", \"output\", \"output\", \"output\", \"output\", \"outside\", \"paradoxically\", \"parameter\", \"parameter\", \"parameter\", \"parameter\", \"parameter\", \"parent\", \"participate\", \"pass\", \"pass\", \"pass\", \"pattern\", \"pattern\", \"pattern\", \"pattern\", \"pattern\", \"perceptron\", \"peripheral\", \"persist\", \"pert\", \"phoneme\", \"phonetic\", \"pitman_yor\", \"plugged\", \"poedge\", \"polynomial\", \"polynomial\", \"polynomial\", \"position\", \"posterior\", \"posterior\", \"power_law\", \"precise\", \"preferential\", \"preprocesse\", \"preprocesse\", \"present\", \"present\", \"present\", \"present\", \"present\", \"presentation\", \"probability\", \"probability\", \"probability\", \"probability\", \"problem\", \"problem\", \"problem\", \"problem\", \"problem\", \"process\", \"process\", \"process\", \"process\", \"process\", \"process\", \"produce\", \"produce\", \"produce\", \"produce\", \"produce\", \"proof\", \"proof\", \"psnr\", \"pyramid\", \"radius\", \"random\", \"random\", \"random\", \"random\", \"random_walk\", \"recent\", \"recent\", \"recognition\", \"recognition\", \"reconcile\", \"recovery\", \"recovery\", \"recurrent\", \"recurrent\", \"recurrent\", \"reflex\", \"regression\", \"regret\", \"regularize\", \"regularize\", \"regularize\", \"relay\", \"release\", \"removal\", \"renaissance\", \"repetition\", \"respectivley\", \"response\", \"response\", \"restaurant\", \"restrict\", \"restrict\", \"restrict\", \"restrict\", \"result\", \"result\", \"result\", \"result\", \"result\", \"result\", \"rhc\", \"right\", \"right\", \"right\", \"rise\", \"rise\", \"round\", \"row\", \"row\", \"rsc\", \"sampling\", \"sampling\", \"scheme\", \"scheme\", \"section\", \"section\", \"section\", \"section\", \"section\", \"segment\", \"segment\", \"selector\", \"self_organizing\", \"semantic\", \"semantic\", \"semi\", \"semicircular\", \"sensory\", \"set\", \"set\", \"set\", \"set\", \"set\", \"several\", \"several\", \"several\", \"shift\", \"show\", \"show\", \"show\", \"show\", \"show\", \"show\", \"side\", \"side\", \"side\", \"side\", \"side\", \"silence\", \"silence\", \"silencing\", \"simulate\", \"simulate\", \"single\", \"single\", \"single\", \"single\", \"sinusoidal\", \"smooth\", \"smooth\", \"solely\", \"solid\", \"solid\", \"solution\", \"solution\", \"solution\", \"solution\", \"sonn\", \"space\", \"space\", \"space\", \"space\", \"spectral\", \"speech\", \"speech\", \"speech\", \"speech_recognition\", \"squash\", \"squashing\", \"stabilize\", \"stage\", \"stage\", \"stage\", \"stage\", \"start\", \"start\", \"start\", \"start\", \"state\", \"state\", \"state\", \"state\", \"statistical\", \"statistical\", \"statistical\", \"statistical\", \"stem\", \"stem\", \"step\", \"step\", \"step\", \"step\", \"storage\", \"structure\", \"structure\", \"structure\", \"structure\", \"structure\", \"structure\", \"sub_gaussian\", \"subband\", \"subgaussian\", \"subspace\", \"succinctly\", \"suffix\", \"suitable\", \"suitable\", \"sup\", \"supervision\", \"supp\", \"suppose\", \"survey\", \"system\", \"system\", \"system\", \"system\", \"system\", \"table\", \"table\", \"table\", \"table\", \"table\", \"technique\", \"technique\", \"technique\", \"technique\", \"term\", \"term\", \"term\", \"term\", \"term\", \"testable\", \"theme\", \"theorem\", \"theorem\", \"theorem_let\", \"tibshirani\", \"time\", \"time\", \"time\", \"time\", \"time\", \"time\", \"token\", \"token\", \"token\", \"trace\", \"trace\", \"train\", \"train\", \"train\", \"train\", \"training\", \"training\", \"training\", \"training\", \"training\", \"training\", \"transfer\", \"transform\", \"transform\", \"transform\", \"transition\", \"transition\", \"transition\", \"triangle\", \"true\", \"true\", \"true\", \"true\", \"type\", \"type\", \"type\", \"type\", \"type\", \"type\", \"unbalance\", \"uninvolved\", \"unit\", \"unit\", \"unit\", \"unit\", \"unit\", \"unit\", \"unsupervise\", \"upto\", \"use\", \"use\", \"use\", \"use\", \"use\", \"use\", \"value\", \"value\", \"value\", \"value\", \"value\", \"value\", \"variate\", \"velocity_storage\", \"vestibular\", \"visit\", \"vn_neuron\", \"vor\", \"walk\", \"walk\", \"wavelet\", \"weight\", \"weight\", \"weight\", \"weight\", \"weight\", \"whereby\", \"whitaker\", \"widespread\", \"width\", \"word\", \"word\", \"word\", \"word\", \"work\", \"work\", \"work\", \"work\", \"work\", \"work\", \"would\", \"would\", \"would\", \"would\", \"xij\", \"yagi\"]}, \"R\": 30, \"lambda.step\": 0.01, \"plot.opts\": {\"xlab\": \"PC1\", \"ylab\": \"PC2\"}, \"topic.order\": [8, 6, 3, 1, 9, 4, 7, 5, 2]};\n",
       "\n",
       "function LDAvis_load_lib(url, callback){\n",
       "  var s = document.createElement('script');\n",
       "  s.src = url;\n",
       "  s.async = true;\n",
       "  s.onreadystatechange = s.onload = callback;\n",
       "  s.onerror = function(){console.warn(\"failed to load library \" + url);};\n",
       "  document.getElementsByTagName(\"head\")[0].appendChild(s);\n",
       "}\n",
       "\n",
       "if(typeof(LDAvis) !== \"undefined\"){\n",
       "   // already loaded: just create the visualization\n",
       "   !function(LDAvis){\n",
       "       new LDAvis(\"#\" + \"ldavis_el1682023237348179127385881473\", ldavis_el1682023237348179127385881473_data);\n",
       "   }(LDAvis);\n",
       "}else if(typeof define === \"function\" && define.amd){\n",
       "   // require.js is available: use it to load d3/LDAvis\n",
       "   require.config({paths: {d3: \"https://cdnjs.cloudflare.com/ajax/libs/d3/3.5.5/d3.min\"}});\n",
       "   require([\"d3\"], function(d3){\n",
       "      window.d3 = d3;\n",
       "      LDAvis_load_lib(\"https://cdn.rawgit.com/bmabey/pyLDAvis/files/ldavis.v1.0.0.js\", function(){\n",
       "        new LDAvis(\"#\" + \"ldavis_el1682023237348179127385881473\", ldavis_el1682023237348179127385881473_data);\n",
       "      });\n",
       "    });\n",
       "}else{\n",
       "    // require.js not available: dynamically load d3 & LDAvis\n",
       "    LDAvis_load_lib(\"https://cdnjs.cloudflare.com/ajax/libs/d3/3.5.5/d3.min.js\", function(){\n",
       "         LDAvis_load_lib(\"https://cdn.rawgit.com/bmabey/pyLDAvis/files/ldavis.v1.0.0.js\", function(){\n",
       "                 new LDAvis(\"#\" + \"ldavis_el1682023237348179127385881473\", ldavis_el1682023237348179127385881473_data);\n",
       "            })\n",
       "         });\n",
       "}\n",
       "</script>"
      ],
      "text/plain": [
       "PreparedData(topic_coordinates=              x         y  topics  cluster       Freq\n",
       "topic                                                \n",
       "7      0.090748 -0.027611       1        1  27.459574\n",
       "5      0.027515 -0.059084       2        1  22.538763\n",
       "2     -0.004834 -0.067637       3        1  18.204256\n",
       "0      0.050164  0.088480       4        1  11.841822\n",
       "8      0.019869  0.009855       5        1  11.642356\n",
       "3     -0.098431 -0.010797       6        1   8.311237\n",
       "6     -0.029022  0.022103       7        1   0.000665\n",
       "4     -0.027508  0.022630       8        1   0.000665\n",
       "1     -0.028502  0.022062       9        1   0.000665, topic_info=     Category        Freq         Term       Total  loglift  logprob\n",
       "295   Default  185.000000        model  185.000000  30.0000  30.0000\n",
       "2056  Default   51.000000       invite   51.000000  29.0000  29.0000\n",
       "514   Default   47.000000         word   47.000000  28.0000  28.0000\n",
       "2086  Default   35.000000         norm   35.000000  27.0000  27.0000\n",
       "313   Default   65.000000      network   65.000000  26.0000  26.0000\n",
       "...       ...         ...          ...         ...      ...      ...\n",
       "940    Topic9    0.000043  convergence   31.569017  -1.5934  -7.7597\n",
       "331    Topic9    0.000043    parameter   52.445946  -2.0962  -7.7549\n",
       "198    Topic9    0.000043       follow   43.713749  -1.9175  -7.7583\n",
       "313    Topic9    0.000043      network   65.418175  -2.3209  -7.7586\n",
       "55     Topic9    0.000043         case   30.834217  -1.5702  -7.7600\n",
       "\n",
       "[619 rows x 6 columns], token_table=      Topic      Freq      Term\n",
       "term                           \n",
       "1330      6  0.373505  ablation\n",
       "1926      1  0.857035    absorb\n",
       "1164      2  0.702002    accept\n",
       "5         3  0.801184  acoustic\n",
       "890       1  0.965683    action\n",
       "...     ...       ...       ...\n",
       "516       2  0.175731     would\n",
       "516       3  0.117154     would\n",
       "516       6  0.234308     would\n",
       "2414      4  0.606046       xij\n",
       "1529      6  0.373500      yagi\n",
       "\n",
       "[809 rows x 3 columns], R=30, lambda_step=0.01, plot_opts={'xlab': 'PC1', 'ylab': 'PC2'}, topic_order=[8, 6, 3, 1, 9, 4, 7, 5, 2])"
      ]
     },
     "execution_count": 40,
     "metadata": {},
     "output_type": "execute_result"
    }
   ],
   "source": [
    "import pyLDAvis.gensim\n",
    "import pickle \n",
    "import pyLDAvis\n",
    "\n",
    "# Visualize the topics\n",
    "pyLDAvis.enable_notebook()\n",
    "LDAvis_prepared = pyLDAvis.gensim.prepare(lda_model, corpus, id2word)\n",
    "LDAvis_prepared"
   ]
  }
 ],
 "metadata": {
  "kernelspec": {
   "display_name": "Python 3",
   "language": "python",
   "name": "python3"
  },
  "language_info": {
   "codemirror_mode": {
    "name": "ipython",
    "version": 3
   },
   "file_extension": ".py",
   "mimetype": "text/x-python",
   "name": "python",
   "nbconvert_exporter": "python",
   "pygments_lexer": "ipython3",
   "version": "3.6.7"
  }
 },
 "nbformat": 4,
 "nbformat_minor": 2
}
