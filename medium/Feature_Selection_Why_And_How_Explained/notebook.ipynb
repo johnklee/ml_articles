{
 "cells": [
  {
   "cell_type": "markdown",
   "metadata": {},
   "source": [
    "## <font color='darkblue'>Preface</font>\n",
    "([article source](https://towardsdatascience.com/feature-selection-why-how-explained-part-2-352d9130c2e1)) <font size='3ptx'>**Feature selection algorithm implementations in Python**</font>\n",
    "\n",
    "In the last article, I explained the problems with including irrelevant or correlated features in model building. **In this article, I’ll show you several neat implementations of selection algorithms that can be easily integrated into your project pipeline.**\n",
    "\n",
    "Before diving into the detailed implementation, let’s go through the dataset I created. **The dataset has 20 features, among which <font color='red'>5 contribute to the output</font> and 2 are correlated.**"
   ]
  },
  {
   "cell_type": "code",
   "execution_count": 70,
   "metadata": {},
   "outputs": [],
   "source": [
    "import warnings\n",
    "import numpy as np\n",
    "import matplotlib.pyplot as plt\n",
    "from sklearn.datasets import make_classification\n",
    "from sklearn.model_selection import train_test_split\n",
    "from sklearn.feature_selection import RFECV\n",
    "from sklearn.svm import LinearSVC, SVC\n",
    "from sklearn.feature_selection import GenericUnivariateSelect as GUS, f_classif, chi2\n",
    "from sklearn.linear_model import LassoCV\n",
    "\n",
    "RANDOM_STATE = 42\n",
    "X, y = make_classification(n_samples=1000, n_features=20, n_informative=5, n_redundant=2, n_classes=4)"
   ]
  },
  {
   "cell_type": "code",
   "execution_count": 2,
   "metadata": {},
   "outputs": [
    {
     "data": {
      "text/plain": [
       "(1000, 20)"
      ]
     },
     "execution_count": 2,
     "metadata": {},
     "output_type": "execute_result"
    }
   ],
   "source": [
    "X.shape"
   ]
  },
  {
   "cell_type": "code",
   "execution_count": 3,
   "metadata": {},
   "outputs": [
    {
     "data": {
      "text/plain": [
       "(1000,)"
      ]
     },
     "execution_count": 3,
     "metadata": {},
     "output_type": "execute_result"
    }
   ],
   "source": [
    "y.shape"
   ]
  },
  {
   "cell_type": "markdown",
   "metadata": {},
   "source": [
    "## <font color='darkblue'>1. Wrapper Feature Selection</font>\n",
    "<font size='3ptx'>**Detection Ability: ★★★★☆ Speed: ★☆☆☆☆**</font>\n",
    "\n",
    "Wrapper algorithms are straightforward. **The validity of features is examined by training and validating models. That means wrappers are <font color='darkred'>very slow when it comes to large datasets</font>**.\n",
    "\n",
    "![1.png](images/1.png)\n",
    "<br/>\n",
    "\n",
    "Though the specific criteria for adding/dropping features might differ, the core ideas are the same. Therefore, I’ll focus on one particular method called <font color='darkblue'>**Backward Selection**</font>."
   ]
  },
  {
   "cell_type": "markdown",
   "metadata": {},
   "source": [
    "### <font color='darkgreen'>1.1. Wrapper Algorithm: Backward Selection</font>\n",
    "Provided with a model that has feature coefficients (<font color='brown'>e.g. regression</font>)or importance factors (<font>e.g. trees</font>), the algorithm starts from all features and greedily eliminates the least important feature. Once all features are removed, the algorithm returns the subset which gives the best performance."
   ]
  },
  {
   "cell_type": "markdown",
   "metadata": {},
   "source": [
    "### <font color='darkgreen'>1.2. Backward selection in Python</font>\n",
    "Scikit-Learn provides a nice implementation called [**RFECV**](https://scikit-learn.org/stable/modules/generated/sklearn.feature_selection.RFECV.html) (<font color='brown'>Recursive Feature Elimination and Cross-Validation Selection</font>), an algorithm eliminates irrelevant features based on validation scores.\n",
    "\n",
    "RFE needs several parameters and you must provide these two:\n",
    "* **estimator (object):** A supervised learning estimator with a `fit` method that provides information about feature importance either through <font color='violet'>coef_</font> or <font color='violet'>feature_importances_</font>\n",
    "* **scoring:** string, callable or None, optional, (<font color='brown'>default=None</font>)\n",
    "\n",
    "There are many estimators in Scikit-Learn satisfy the criteria. In this example, a simple [**SVM classifier**](https://scikit-learn.org/stable/modules/generated/sklearn.svm.LinearSVC.html#sklearn.svm.LinearSVC) is used. A scoring function is a metric to evaluate the performance of the model (<font color='brown'>e.g. accuracy</font>)."
   ]
  },
  {
   "cell_type": "code",
   "execution_count": 4,
   "metadata": {},
   "outputs": [
    {
     "name": "stdout",
     "output_type": "stream",
     "text": [
      "Wall time: 37 s\n"
     ]
    }
   ],
   "source": [
    "%%time\n",
    "with warnings.catch_warnings():\n",
    "    warnings.simplefilter('ignore')\n",
    "    svc = LinearSVC() #estimator\n",
    "    rfecv = RFECV(estimator=svc, scoring='accuracy')\n",
    "    rfecv.fit(X, y)\n",
    "    \n",
    "rfecv.support_"
   ]
  },
  {
   "cell_type": "code",
   "execution_count": 5,
   "metadata": {},
   "outputs": [
    {
     "data": {
      "text/plain": [
       "array([ 8,  4,  6,  1,  1, 15,  5,  3, 11, 16,  7,  1,  9,  1,  2, 13,  1,\n",
       "       12, 14, 10])"
      ]
     },
     "execution_count": 5,
     "metadata": {},
     "output_type": "execute_result"
    }
   ],
   "source": [
    "# Feature importance ranking\n",
    "rfecv.ranking_"
   ]
  },
  {
   "cell_type": "code",
   "execution_count": 6,
   "metadata": {},
   "outputs": [
    {
     "data": {
      "text/plain": [
       "5"
      ]
     },
     "execution_count": 6,
     "metadata": {},
     "output_type": "execute_result"
    }
   ],
   "source": [
    "len(list(filter(lambda e: e, rfecv.support_)))"
   ]
  },
  {
   "cell_type": "code",
   "execution_count": 97,
   "metadata": {},
   "outputs": [],
   "source": [
    "feat_acc_pairs = []\n",
    "def get_required_num_feature(num_feat, rfecv=rfecv, scoring='accuracy'):\n",
    "    column_selection = [rfecv.ranking_[i]<=num_feat for i in range(X.shape[1])]\n",
    "    return X[:, column_selection]\n",
    "\n",
    "svc = SVC()\n",
    "for i in range(2, X.shape[1]+1):\n",
    "    with warnings.catch_warnings():\n",
    "        warnings.simplefilter('ignore')\n",
    "        X_sub = get_required_num_feature(i)\n",
    "        X_train, X_test, y_train, y_test = train_test_split(X_sub, y, test_size=0.33, random_state=RANDOM_STATE)\n",
    "        svc.fit(X_train, y_train)\n",
    "        feat_acc_pairs.append((i, svc.score(X_test, y_test)))"
   ]
  },
  {
   "cell_type": "code",
   "execution_count": 98,
   "metadata": {},
   "outputs": [
    {
     "data": {
      "text/plain": [
       "[(2, 0.5181818181818182),\n",
       " (3, 0.48787878787878786),\n",
       " (4, 0.49393939393939396),\n",
       " (5, 0.49393939393939396),\n",
       " (6, 0.5909090909090909),\n",
       " (7, 0.6181818181818182),\n",
       " (8, 0.6090909090909091),\n",
       " (9, 0.6),\n",
       " (10, 0.6090909090909091),\n",
       " (11, 0.6636363636363637),\n",
       " (12, 0.6575757575757576),\n",
       " (13, 0.6484848484848484),\n",
       " (14, 0.6545454545454545),\n",
       " (15, 0.6454545454545455),\n",
       " (16, 0.8090909090909091),\n",
       " (17, 0.8090909090909091),\n",
       " (18, 0.8090909090909091),\n",
       " (19, 0.8090909090909091),\n",
       " (20, 0.8090909090909091)]"
      ]
     },
     "execution_count": 98,
     "metadata": {},
     "output_type": "execute_result"
    }
   ],
   "source": [
    "feat_acc_pairs"
   ]
  },
  {
   "cell_type": "code",
   "execution_count": 99,
   "metadata": {},
   "outputs": [
    {
     "data": {
      "image/png": "[encoded data removed]",
      "text/plain": [
       "<Figure size 648x432 with 1 Axes>"
      ]
     },
     "metadata": {
      "needs_background": "light"
     },
     "output_type": "display_data"
    }
   ],
   "source": [
    "plt.rcParams['figure.figsize'] = [9, 6]\n",
    "x_axis = list(map(lambda t: t[0], feat_acc_pairs))\n",
    "y_axis = list(map(lambda t: t[1], feat_acc_pairs))         \n",
    "plt.plot(x_axis, y_axis)  \n",
    "plt.xlabel('num feature')  \n",
    "plt.ylabel('Accuracy')\n",
    "plt.xticks(np.arange(min(x_axis), max(x_axis)+1, 1))\n",
    "plt.title(\"Feature num & Accuracy\")\n",
    "plt.show()  "
   ]
  },
  {
   "cell_type": "markdown",
   "metadata": {},
   "source": [
    "[**RFECV**](https://scikit-learn.org/stable/modules/generated/sklearn.feature_selection.RFECV.html) selects 6 features, including all relevant features and redundant features. **This shows that RFECV isn’t good at removing multicollinearity** (<font color='brown'>since the coefficients of colinear features tend to vary widely</font>). Therefore, it is a good practice to identify multicollinearity first (<font color='brown'>e.g. [using condition number](https://medium.com/@zhangzix/feature-selection-why-how-explained-part-1-c2f638d24cdb)</font>)."
   ]
  },
  {
   "cell_type": "markdown",
   "metadata": {},
   "source": [
    "## <font color='darkblue'>2. Filtering Feature Selection</font>\n",
    "<font size='3ptx'>**Detection Ability: ★★☆☆☆ Speed: ★★★★★**</font>\n",
    "\n",
    "**In real-world applications where millions of data points are used, wrappers become impractical**. **<font color='darkblue'>Filtering algorithms</font> approach the problem by estimating the validities of features through statistical tests** (<font color='brown'>e.g. correlation coefficient</font>) instead of training an actual model.\n",
    "\n",
    "Although there are many advanced filtering methods such as mRMR, I prefer this straightforward two-step method.\n",
    "![2.png](images/2.png)\n",
    "<br/>"
   ]
  },
  {
   "cell_type": "markdown",
   "metadata": {},
   "source": [
    "### <font color='darkgreen'>2.1. Remove Correlated Features: Condition Number</font>\n",
    "As introduced in the first article, colinearity or multicollinearity is harmful. Following is an algorithm developed by myself to eliminate both.\n",
    "![3.png](images/3.png)\n",
    "[“Revisiting the Collinear Data Problem: An Assesment of Estimator ‘Ill-Conditioning’ in Linear Regression”](https://pareonline.net/getvn.asp?v=13&n=5)\n",
    "\n",
    "<br/>"
   ]
  },
  {
   "cell_type": "code",
   "execution_count": 100,
   "metadata": {},
   "outputs": [
    {
     "data": {
      "image/png": "[encoded data removed]",
      "text/plain": [
       "<Figure size 648x432 with 2 Axes>"
      ]
     },
     "metadata": {
      "needs_background": "light"
     },
     "output_type": "display_data"
    }
   ],
   "source": [
    "# https://datatofish.com/correlation-matrix-pandas/\n",
    "import pandas as pd\n",
    "import seaborn as sn\n",
    "import matplotlib.pyplot as plt\n",
    "\n",
    "df = pd.DataFrame(X, columns=[f\"Feat-{i+1}\" for i in range(X.shape[1])])\n",
    "\n",
    "corrMatrix = df.corr()\n",
    "sn.heatmap(corrMatrix)\n",
    "plt.show()"
   ]
  },
  {
   "cell_type": "code",
   "execution_count": 101,
   "metadata": {},
   "outputs": [],
   "source": [
    "import numpy as np\n",
    "def condition_number(corr):# corr: correlation matrix\n",
    "    eigValues, eigVectors = np.linalg.eig(corr) \n",
    "    return abs(max(eigValues)/min(eigValues))\n",
    "\n",
    "# greadily kick out the worst feature    \n",
    "def eliminate_multicol(X, threshold = 100):#weak corr threshold\n",
    "    corr = np.corrcoef(X.T) # get corr matrix\n",
    "    if (condition_number(corr) < threshold or X.shape[1]<=1):\n",
    "        return X  \n",
    "    \n",
    "    # find the feature with highest corr coef(lower triangle)\n",
    "    mostCorrelated = np.argmax([max(corr[i+1:,i]) for i in range(X.shape[1]-1)] )\n",
    "    choose = [True]*X.shape[1]\n",
    "    choose[mostCorrelated] = False # kick that feature out\n",
    "    return eliminate_multicol(X[:,choose])"
   ]
  },
  {
   "cell_type": "markdown",
   "metadata": {},
   "source": [
    "### <font color='darkgreen'>2.2. Remove Irrelevant Features: Univariate Selection</font>\n",
    "Univariate selection performs statistical tests on features and the output and only features with high scores are kept. Common tests include [**Chi-Square**](https://en.wikipedia.org/wiki/Chi-squared_test), [**ANOVA**](https://en.wikipedia.org/wiki/Analysis_of_variance), or [**Mutual Information**](https://en.wikipedia.org/wiki/Mutual_information).\n",
    "\n",
    "Again, Scikit-Learn offers a nice function called [**GenericUnivariateSelect**](https://scikit-learn.org/stable/modules/generated/sklearn.feature_selection.GenericUnivariateSelect.html). This function needs 3 parameters:\n",
    "* **score_func (callable):** Function taking two arrays X and y, and returning a pair of arrays (scores, pvalues). For modes ‘percentile’ or ‘kbest’ it can return a single array scores.\n",
    "* **mode:** {‘percentile’, ‘k_best’, ‘fpr’, ‘fdr’, ‘fwe’}\n",
    "* **param:** float or int depending on the feature selection mode\n",
    "\n",
    "Choose your desired statistic methods (<font color='brown'>e.g. Chi-Square, F score</font>) as the scoring function. I’ll use [**f_classif**](https://scikit-learn.org/stable/modules/generated/sklearn.feature_selection.f_classif.html#sklearn.feature_selection.f_classif) (<font color='brown'>ANOVA F-value between label/feature for classification tasks.</font>) since `y` is categorical."
   ]
  },
  {
   "cell_type": "code",
   "execution_count": 102,
   "metadata": {},
   "outputs": [
    {
     "data": {
      "text/plain": [
       "(1000, 20)"
      ]
     },
     "execution_count": 102,
     "metadata": {},
     "output_type": "execute_result"
    }
   ],
   "source": [
    "X.shape"
   ]
  },
  {
   "cell_type": "code",
   "execution_count": 103,
   "metadata": {},
   "outputs": [
    {
     "name": "stdout",
     "output_type": "stream",
     "text": [
      "Wall time: 0 ns\n"
     ]
    },
    {
     "data": {
      "text/plain": [
       "(1000, 18)"
      ]
     },
     "execution_count": 103,
     "metadata": {},
     "output_type": "execute_result"
    }
   ],
   "source": [
    "%time\n",
    "X_remove_multicol = eliminate_multicol(X) # remove multicollinearity\n",
    "X_remove_multicol.shape"
   ]
  },
  {
   "cell_type": "code",
   "execution_count": 104,
   "metadata": {},
   "outputs": [
    {
     "name": "stderr",
     "output_type": "stream",
     "text": [
      "c:\\users\\johnlee\\appdata\\local\\programs\\python\\python36\\lib\\site-packages\\sklearn\\utils\\validation.py:70: FutureWarning: Pass mode=fwe as keyword args. From version 0.25 passing these as positional arguments will result in an error\n",
      "  FutureWarning)\n"
     ]
    }
   ],
   "source": [
    "gus = GUS (f_classif, 'fwe', param=0.4) # keep features with P < 0.4\n",
    "X_new = gus.fit_transform(X_remove_multicol, y) # remove irrelevant features"
   ]
  },
  {
   "cell_type": "code",
   "execution_count": 105,
   "metadata": {},
   "outputs": [
    {
     "data": {
      "text/plain": [
       "(1000, 6)"
      ]
     },
     "execution_count": 105,
     "metadata": {},
     "output_type": "execute_result"
    }
   ],
   "source": [
    "X_new.shape"
   ]
  },
  {
   "cell_type": "markdown",
   "metadata": {},
   "source": [
    "The algorithm drops features with `P` values greater than 0.4. It is a good practice to use threshold not too small so that we don’t drop informative features(<font color='brown'>we dropped a useful feature here</font>)."
   ]
  },
  {
   "cell_type": "code",
   "execution_count": 106,
   "metadata": {},
   "outputs": [
    {
     "name": "stdout",
     "output_type": "stream",
     "text": [
      "Obtained accuracy=0.83\n"
     ]
    }
   ],
   "source": [
    "X_train, X_test, y_train, y_test = train_test_split(X_new, y, test_size=0.33, random_state=RANDOM_STATE)\n",
    "svc.fit(X_train, y_train)\n",
    "default_svc_accuracy = svc.score(X_test, y_test)\n",
    "print(f\"Obtained accuracy={default_svc_accuracy:.02f}\")"
   ]
  },
  {
   "cell_type": "markdown",
   "metadata": {},
   "source": [
    "## <font color='darkblue'>3. Embedded Feature Selection</font>\n",
    "<font size='3ptx'>**Detection Ability: ★★★☆☆ Speed: ★★★☆☆**</font>\n",
    "\n",
    "<font color='darkblue'>**Embedded feature selection**</font> intelligently drops unnecessary features during training. Common algorithms include Lasso regression, decision tree, and auto-encoder neural network. I’ll explain Lasso regression here."
   ]
  },
  {
   "cell_type": "markdown",
   "metadata": {},
   "source": [
    "### <font color='darkgreen'>3.1. Embedded Algorithm: Lasso regression</font>\n",
    "![4.png](images/4.png)\n",
    "<br/>\n",
    "Lasso regression penalizes the model for using large feature weights/too many features. **As a result, the model tends to use as few parameters as possible and therefore produces sparse results** (<font color='brown'>i.e. some features have weight 0</font>)."
   ]
  },
  {
   "cell_type": "markdown",
   "metadata": {},
   "source": [
    "### <font color='darkgreen'>3.2. Lasso Regression in Python</font>\n",
    "As usual, you can find lasso regression [**LassoCV**](https://scikit-learn.org/stable/modules/generated/sklearn.linear_model.LassoCV.html) in Scikit-Learn. When initializing the model, the only parameter that you must provide is Alpha, which determines the strength of the penalty. **Larger alpha leads to sparser results and alpha=0 essentially means no lasso penalty**:"
   ]
  },
  {
   "cell_type": "code",
   "execution_count": 59,
   "metadata": {},
   "outputs": [
    {
     "name": "stdout",
     "output_type": "stream",
     "text": [
      "Wall time: 0 ns\n"
     ]
    }
   ],
   "source": [
    "%time\n",
    "def num_of_selected_feat(lassoModel):\n",
    "    feature_selection = list(map(lambda e: abs(e) > 0, lassoModel.coef_))\n",
    "    return len(list(filter(lambda e: e, feature_selection)))\n",
    "\n",
    "# import lasso with cross validation\n",
    "alpha_num_feats = []\n",
    "for ets_as_log in range(-10, 1):\n",
    "    lassoModel = LassoCV(eps=pow(10, ets_as_log), cv=5, random_state=RANDOM_STATE).fit(X,y)\n",
    "    alpha_num_feats.append((ets_as_log, num_of_selected_feat(lassoModel)))"
   ]
  },
  {
   "cell_type": "code",
   "execution_count": 60,
   "metadata": {},
   "outputs": [
    {
     "data": {
      "text/plain": [
       "array([-0., -0.,  0.,  0., -0.,  0., -0., -0., -0., -0.,  0., -0.,  0.,\n",
       "       -0., -0., -0., -0.,  0., -0., -0.])"
      ]
     },
     "execution_count": 60,
     "metadata": {},
     "output_type": "execute_result"
    }
   ],
   "source": [
    "lassoModel.coef_"
   ]
  },
  {
   "cell_type": "code",
   "execution_count": 61,
   "metadata": {},
   "outputs": [
    {
     "data": {
      "text/plain": [
       "[False, False, False, False, False]"
      ]
     },
     "execution_count": 61,
     "metadata": {},
     "output_type": "execute_result"
    }
   ],
   "source": [
    "feature_selection = list(map(lambda e: abs(e) > 0, lassoModel.coef_))\n",
    "feature_selection[:5]"
   ]
  },
  {
   "cell_type": "code",
   "execution_count": 62,
   "metadata": {},
   "outputs": [
    {
     "data": {
      "text/plain": [
       "[(-10, 7),\n",
       " (-9, 6),\n",
       " (-8, 6),\n",
       " (-7, 6),\n",
       " (-6, 6),\n",
       " (-5, 7),\n",
       " (-4, 6),\n",
       " (-3, 6),\n",
       " (-2, 6),\n",
       " (-1, 5),\n",
       " (0, 0)]"
      ]
     },
     "execution_count": 62,
     "metadata": {},
     "output_type": "execute_result"
    }
   ],
   "source": [
    "alpha_num_feats"
   ]
  },
  {
   "cell_type": "code",
   "execution_count": 63,
   "metadata": {},
   "outputs": [
    {
     "data": {
      "image/png": "[encoded data removed]",
      "text/plain": [
       "<Figure size 648x360 with 1 Axes>"
      ]
     },
     "metadata": {
      "needs_background": "light"
     },
     "output_type": "display_data"
    }
   ],
   "source": [
    "plt.rcParams['figure.figsize'] = [9, 5]\n",
    "x_axis = list(map(lambda t: t[0], alpha_num_feats))\n",
    "y_axis = list(map(lambda t: t[1], alpha_num_feats))         \n",
    "plt.plot(x_axis, y_axis)  \n",
    "plt.xlabel('eps (log10)')  \n",
    "plt.ylabel('# of feature selected')\n",
    "plt.xticks(np.arange(min(x_axis), max(x_axis)+1, 1))\n",
    "plt.title(\"# of feature & eps (log10)\")\n",
    "plt.show()  "
   ]
  },
  {
   "cell_type": "code",
   "execution_count": 113,
   "metadata": {},
   "outputs": [
    {
     "data": {
      "text/plain": [
       "(1000, 8)"
      ]
     },
     "execution_count": 113,
     "metadata": {},
     "output_type": "execute_result"
    }
   ],
   "source": [
    "lassoModel = LassoCV(eps=pow(10, -4), cv=5, random_state=RANDOM_STATE).fit(X, y)\n",
    "feature_selection = list(map(lambda e: abs(e) > 0, lassoModel.coef_))\n",
    "X_selected = X[:, feature_selection]\n",
    "X_selected.shape"
   ]
  },
  {
   "cell_type": "code",
   "execution_count": 114,
   "metadata": {},
   "outputs": [
    {
     "name": "stdout",
     "output_type": "stream",
     "text": [
      "Obtained accuracy=0.84\n"
     ]
    }
   ],
   "source": [
    "X_train, X_test, y_train, y_test = train_test_split(X_selected, y, test_size=0.33, random_state=RANDOM_STATE)\n",
    "svc.fit(X_train, y_train)\n",
    "default_svc_accuracy = svc.score(X_test, y_test)\n",
    "print(f\"Obtained accuracy={default_svc_accuracy:.02f}\")"
   ]
  },
  {
   "cell_type": "markdown",
   "metadata": {},
   "source": [
    "## <font color='darkblue'>4. Auto-Encoder</font>\n",
    "For Keras Auto-Encoder, you can refer to [this post \"**Building Autoencoders in Keras**\"](https://blog.keras.io/building-autoencoders-in-keras.html) for more details:\n",
    "> \"Autoencoding\" is a data compression algorithm where the compression and decompression functions are 1) data-specific, 2) lossy, and 3) learned automatically from examples rather than engineered by a human. Additionally, in almost all contexts where the term \"autoencoder\" is used, the compression and decompression functions are implemented with neural networks.\n",
    "\n",
    "![auto-encoder](http://localhost/JJWiki/attach/ML%20IH/4110_3.PNG)"
   ]
  },
  {
   "cell_type": "code",
   "execution_count": 52,
   "metadata": {},
   "outputs": [
    {
     "name": "stdout",
     "output_type": "stream",
     "text": [
      "Model: \"functional_43\"\n",
      "_________________________________________________________________\n",
      "Layer (type)                 Output Shape              Param #   \n",
      "=================================================================\n",
      "input_12 (InputLayer)        [(None, 20)]              0         \n",
      "_________________________________________________________________\n",
      "dense_40 (Dense)             (None, 15)                315       \n",
      "_________________________________________________________________\n",
      "dense_41 (Dense)             (None, 10)                160       \n",
      "_________________________________________________________________\n",
      "dense_42 (Dense)             (None, 15)                165       \n",
      "_________________________________________________________________\n",
      "dense_43 (Dense)             (None, 20)                320       \n",
      "=================================================================\n",
      "Total params: 960\n",
      "Trainable params: 960\n",
      "Non-trainable params: 0\n",
      "_________________________________________________________________\n"
     ]
    }
   ],
   "source": [
    "import keras\n",
    "from keras.models import Model\n",
    "from keras import layers\n",
    "\n",
    "def get_auto_encoder_model(encoding_dim, input_dim=X.shape[1]):\n",
    "    # This is our input layer\n",
    "    input_layer = keras.Input(shape=(input_dim,))\n",
    "\n",
    "    hidden_layer1 = layers.Dense((input_dim+encoding_dim)//2, activation='relu')(input_layer)\n",
    "    \n",
    "    # \"encoded\" is the encoded representation of the input\n",
    "    encoded = layers.Dense(encoding_dim, activation='relu')(hidden_layer1)\n",
    "\n",
    "    hidden_layer2 = layers.Dense((input_dim+encoding_dim)//2, activation='relu')(encoded)\n",
    "    \n",
    "    # \"decoded\" is the lossy reconstruction of the input\n",
    "    decoded = layers.Dense(input_dim, activation='sigmoid')(hidden_layer2)\n",
    "\n",
    "    # This model maps an input to its reconstruction\n",
    "    autoencoder = keras.Model(input_layer, decoded)\n",
    "    encoder = Model(input_layer, encoded)\n",
    "    autoencoder.compile(optimizer='adam', loss='mean_squared_error')    \n",
    "    return autoencoder, encoder\n",
    "\n",
    "autoencoder, encoder = get_auto_encoder_model(encoding_dim=10)\n",
    "autoencoder.summary()"
   ]
  },
  {
   "cell_type": "code",
   "execution_count": 54,
   "metadata": {},
   "outputs": [
    {
     "name": "stdout",
     "output_type": "stream",
     "text": [
      "Epoch 1/20\n",
      "32/32 [==============================] - 0s 5ms/step - loss: 1.4364\n",
      "Epoch 2/20\n",
      "32/32 [==============================] - 0s 6ms/step - loss: 1.4354\n",
      "Epoch 3/20\n",
      "32/32 [==============================] - 0s 6ms/step - loss: 1.4346\n",
      "Epoch 4/20\n",
      "32/32 [==============================] - 0s 6ms/step - loss: 1.4342\n",
      "Epoch 5/20\n",
      "32/32 [==============================] - 0s 5ms/step - loss: 1.4328\n",
      "Epoch 6/20\n",
      "32/32 [==============================] - 0s 6ms/step - loss: 1.4322\n",
      "Epoch 7/20\n",
      "32/32 [==============================] - 0s 6ms/step - loss: 1.4312\n",
      "Epoch 8/20\n",
      "32/32 [==============================] - 0s 6ms/step - loss: 1.4305\n",
      "Epoch 9/20\n",
      "32/32 [==============================] - 0s 6ms/step - loss: 1.4299\n",
      "Epoch 10/20\n",
      "32/32 [==============================] - 0s 6ms/step - loss: 1.4295\n",
      "Epoch 11/20\n",
      "32/32 [==============================] - 0s 5ms/step - loss: 1.4288\n",
      "Epoch 12/20\n",
      "32/32 [==============================] - 0s 6ms/step - loss: 1.4277\n",
      "Epoch 13/20\n",
      "32/32 [==============================] - 0s 5ms/step - loss: 1.4269\n",
      "Epoch 14/20\n",
      "32/32 [==============================] - 0s 4ms/step - loss: 1.4266\n",
      "Epoch 15/20\n",
      "32/32 [==============================] - 0s 6ms/step - loss: 1.4260\n",
      "Epoch 16/20\n",
      "32/32 [==============================] - 0s 6ms/step - loss: 1.4250\n",
      "Epoch 17/20\n",
      "32/32 [==============================] - 0s 6ms/step - loss: 1.4243\n",
      "Epoch 18/20\n",
      "32/32 [==============================] - 0s 6ms/step - loss: 1.4240\n",
      "Epoch 19/20\n",
      "32/32 [==============================] - 0s 6ms/step - loss: 1.4234\n",
      "Epoch 20/20\n",
      "32/32 [==============================] - 0s 5ms/step - loss: 1.4225\n"
     ]
    }
   ],
   "source": [
    "history = autoencoder.fit(X, X, epochs=20)"
   ]
  },
  {
   "cell_type": "code",
   "execution_count": 45,
   "metadata": {},
   "outputs": [
    {
     "data": {
      "text/plain": [
       "(1000, 10)"
      ]
     },
     "execution_count": 45,
     "metadata": {},
     "output_type": "execute_result"
    }
   ],
   "source": [
    "X_encoded = encoder.predict(X)\n",
    "X_encoded.shape"
   ]
  },
  {
   "cell_type": "code",
   "execution_count": 79,
   "metadata": {},
   "outputs": [
    {
     "name": "stdout",
     "output_type": "stream",
     "text": [
      "Default accuracy=0.81\n"
     ]
    }
   ],
   "source": [
    "# Default accuracy\n",
    "X_train, X_test, y_train, y_test = train_test_split(X, y, test_size=0.33, random_state=RANDOM_STATE)\n",
    "svc.fit(X_train, y_train)\n",
    "default_svc_accuracy = svc.score(X_test, y_test)\n",
    "print(f\"Default accuracy={default_svc_accuracy:.02f}\")"
   ]
  },
  {
   "cell_type": "code",
   "execution_count": 93,
   "metadata": {},
   "outputs": [
    {
     "name": "stdout",
     "output_type": "stream",
     "text": [
      "Epoch 1/30\n",
      "32/32 [==============================] - 0s 5ms/step - loss: 2.1059\n",
      "Epoch 2/30\n",
      "32/32 [==============================] - 0s 6ms/step - loss: 2.0742\n",
      "Epoch 3/30\n",
      "32/32 [==============================] - 0s 5ms/step - loss: 2.0195\n",
      "Epoch 4/30\n",
      "32/32 [==============================] - 0s 5ms/step - loss: 1.9338\n",
      "Epoch 5/30\n",
      "32/32 [==============================] - 0s 5ms/step - loss: 1.8386\n",
      "Epoch 6/30\n",
      "32/32 [==============================] - 0s 5ms/step - loss: 1.7756\n",
      "Epoch 7/30\n",
      "32/32 [==============================] - 0s 5ms/step - loss: 1.7487\n",
      "Epoch 8/30\n",
      "32/32 [==============================] - 0s 6ms/step - loss: 1.7341\n",
      "Epoch 9/30\n",
      "32/32 [==============================] - 0s 5ms/step - loss: 1.7224\n",
      "Epoch 10/30\n",
      "32/32 [==============================] - 0s 6ms/step - loss: 1.7098\n",
      "Epoch 11/30\n",
      "32/32 [==============================] - 0s 6ms/step - loss: 1.6974\n",
      "Epoch 12/30\n",
      "32/32 [==============================] - 0s 5ms/step - loss: 1.6859\n",
      "Epoch 13/30\n",
      "32/32 [==============================] - 0s 6ms/step - loss: 1.6742\n",
      "Epoch 14/30\n",
      "32/32 [==============================] - 0s 5ms/step - loss: 1.6631\n",
      "Epoch 15/30\n",
      "32/32 [==============================] - 0s 6ms/step - loss: 1.6543\n",
      "Epoch 16/30\n",
      "32/32 [==============================] - 0s 5ms/step - loss: 1.6476\n",
      "Epoch 17/30\n",
      "32/32 [==============================] - 0s 6ms/step - loss: 1.6425\n",
      "Epoch 18/30\n",
      "32/32 [==============================] - 0s 6ms/step - loss: 1.6387\n",
      "Epoch 19/30\n",
      "32/32 [==============================] - 0s 6ms/step - loss: 1.6358\n",
      "Epoch 20/30\n",
      "32/32 [==============================] - 0s 6ms/step - loss: 1.6335\n",
      "Epoch 21/30\n",
      "32/32 [==============================] - 0s 6ms/step - loss: 1.6316\n",
      "Epoch 22/30\n",
      "32/32 [==============================] - 0s 6ms/step - loss: 1.6299\n",
      "Epoch 23/30\n",
      "32/32 [==============================] - 0s 8ms/step - loss: 1.6287\n",
      "Epoch 24/30\n",
      "32/32 [==============================] - 0s 6ms/step - loss: 1.6274\n",
      "Epoch 25/30\n",
      "32/32 [==============================] - 0s 5ms/step - loss: 1.6263\n",
      "Epoch 26/30\n",
      "32/32 [==============================] - 0s 5ms/step - loss: 1.6255\n",
      "Epoch 27/30\n",
      "32/32 [==============================] - 0s 6ms/step - loss: 1.6246\n",
      "Epoch 28/30\n",
      "32/32 [==============================] - 0s 6ms/step - loss: 1.6238\n",
      "Epoch 29/30\n",
      "32/32 [==============================] - 0s 5ms/step - loss: 1.6227\n",
      "Epoch 30/30\n",
      "32/32 [==============================] - 0s 6ms/step - loss: 1.6220\n",
      "Epoch 1/30\n",
      "32/32 [==============================] - 0s 5ms/step - loss: 2.1024\n",
      "Epoch 2/30\n",
      "32/32 [==============================] - 0s 5ms/step - loss: 2.0547\n",
      "Epoch 3/30\n",
      "32/32 [==============================] - 0s 5ms/step - loss: 1.9896\n",
      "Epoch 4/30\n",
      "32/32 [==============================] - 0s 6ms/step - loss: 1.9162\n",
      "Epoch 5/30\n",
      "32/32 [==============================] - 0s 5ms/step - loss: 1.8461\n",
      "Epoch 6/30\n",
      "32/32 [==============================] - 0s 5ms/step - loss: 1.7919\n",
      "Epoch 7/30\n",
      "32/32 [==============================] - 0s 5ms/step - loss: 1.7513\n",
      "Epoch 8/30\n",
      "32/32 [==============================] - 0s 6ms/step - loss: 1.7171\n",
      "Epoch 9/30\n",
      "32/32 [==============================] - 0s 5ms/step - loss: 1.6935\n",
      "Epoch 10/30\n",
      "32/32 [==============================] - 0s 5ms/step - loss: 1.6772\n",
      "Epoch 11/30\n",
      "32/32 [==============================] - 0s 5ms/step - loss: 1.6638\n",
      "Epoch 12/30\n",
      "32/32 [==============================] - 0s 5ms/step - loss: 1.6520\n",
      "Epoch 13/30\n",
      "32/32 [==============================] - 0s 5ms/step - loss: 1.6400\n",
      "Epoch 14/30\n",
      "32/32 [==============================] - 0s 5ms/step - loss: 1.6253\n",
      "Epoch 15/30\n",
      "32/32 [==============================] - 0s 6ms/step - loss: 1.6127\n",
      "Epoch 16/30\n",
      "32/32 [==============================] - 0s 5ms/step - loss: 1.6026\n",
      "Epoch 17/30\n",
      "32/32 [==============================] - 0s 5ms/step - loss: 1.5940\n",
      "Epoch 18/30\n",
      "32/32 [==============================] - 0s 5ms/step - loss: 1.5867\n",
      "Epoch 19/30\n",
      "32/32 [==============================] - 0s 5ms/step - loss: 1.5801\n",
      "Epoch 20/30\n",
      "32/32 [==============================] - 0s 6ms/step - loss: 1.5740\n",
      "Epoch 21/30\n",
      "32/32 [==============================] - 0s 6ms/step - loss: 1.5681\n",
      "Epoch 22/30\n",
      "32/32 [==============================] - 0s 5ms/step - loss: 1.5624\n",
      "Epoch 23/30\n",
      "32/32 [==============================] - 0s 3ms/step - loss: 1.5571\n",
      "Epoch 24/30\n",
      "32/32 [==============================] - 0s 4ms/step - loss: 1.5526\n",
      "Epoch 25/30\n",
      "32/32 [==============================] - 0s 4ms/step - loss: 1.5489\n",
      "Epoch 26/30\n",
      "32/32 [==============================] - 0s 4ms/step - loss: 1.5458\n",
      "Epoch 27/30\n",
      "32/32 [==============================] - 0s 3ms/step - loss: 1.5432\n",
      "Epoch 28/30\n",
      "32/32 [==============================] - 0s 3ms/step - loss: 1.5408\n",
      "Epoch 29/30\n",
      "32/32 [==============================] - 0s 4ms/step - loss: 1.5386\n",
      "Epoch 30/30\n",
      "32/32 [==============================] - 0s 8ms/step - loss: 1.5367\n",
      "Epoch 1/30\n",
      "32/32 [==============================] - 0s 5ms/step - loss: 2.1548\n",
      "Epoch 2/30\n",
      "32/32 [==============================] - 0s 5ms/step - loss: 2.0839\n",
      "Epoch 3/30\n",
      "32/32 [==============================] - 0s 4ms/step - loss: 2.0145\n",
      "Epoch 4/30\n",
      "32/32 [==============================] - 0s 4ms/step - loss: 1.9226\n",
      "Epoch 5/30\n",
      "32/32 [==============================] - 0s 4ms/step - loss: 1.8207\n",
      "Epoch 6/30\n",
      "32/32 [==============================] - 0s 6ms/step - loss: 1.7460\n",
      "Epoch 7/30\n",
      "32/32 [==============================] - 0s 7ms/step - loss: 1.7081\n",
      "Epoch 8/30\n",
      "32/32 [==============================] - 0s 6ms/step - loss: 1.6889\n",
      "Epoch 9/30\n",
      "32/32 [==============================] - 0s 6ms/step - loss: 1.6769\n",
      "Epoch 10/30\n",
      "32/32 [==============================] - 0s 6ms/step - loss: 1.6677\n",
      "Epoch 11/30\n",
      "32/32 [==============================] - 0s 6ms/step - loss: 1.6595\n",
      "Epoch 12/30\n",
      "32/32 [==============================] - 0s 4ms/step - loss: 1.6517\n",
      "Epoch 13/30\n",
      "32/32 [==============================] - 0s 5ms/step - loss: 1.6443\n",
      "Epoch 14/30\n",
      "32/32 [==============================] - 0s 6ms/step - loss: 1.6368\n",
      "Epoch 15/30\n",
      "32/32 [==============================] - 0s 6ms/step - loss: 1.6293\n",
      "Epoch 16/30\n",
      "32/32 [==============================] - 0s 6ms/step - loss: 1.6223\n",
      "Epoch 17/30\n",
      "32/32 [==============================] - 0s 6ms/step - loss: 1.6147\n",
      "Epoch 18/30\n",
      "32/32 [==============================] - 0s 6ms/step - loss: 1.6063\n",
      "Epoch 19/30\n",
      "32/32 [==============================] - 0s 5ms/step - loss: 1.5964\n",
      "Epoch 20/30\n",
      "32/32 [==============================] - 0s 6ms/step - loss: 1.5872\n",
      "Epoch 21/30\n",
      "32/32 [==============================] - 0s 5ms/step - loss: 1.5792\n",
      "Epoch 22/30\n",
      "32/32 [==============================] - 0s 6ms/step - loss: 1.5704\n",
      "Epoch 23/30\n",
      "32/32 [==============================] - 0s 6ms/step - loss: 1.5613\n",
      "Epoch 24/30\n",
      "32/32 [==============================] - 0s 6ms/step - loss: 1.5517\n",
      "Epoch 25/30\n",
      "32/32 [==============================] - 0s 6ms/step - loss: 1.5438\n",
      "Epoch 26/30\n",
      "32/32 [==============================] - 0s 6ms/step - loss: 1.5375\n",
      "Epoch 27/30\n",
      "32/32 [==============================] - 0s 5ms/step - loss: 1.5328\n",
      "Epoch 28/30\n",
      "32/32 [==============================] - 0s 6ms/step - loss: 1.5290\n",
      "Epoch 29/30\n",
      "32/32 [==============================] - 0s 5ms/step - loss: 1.5257\n",
      "Epoch 30/30\n",
      "32/32 [==============================] - 0s 5ms/step - loss: 1.5222\n",
      "Epoch 1/30\n",
      "32/32 [==============================] - 0s 6ms/step - loss: 2.0850\n",
      "Epoch 2/30\n",
      "32/32 [==============================] - 0s 6ms/step - loss: 2.0032\n",
      "Epoch 3/30\n",
      "32/32 [==============================] - 0s 6ms/step - loss: 1.8967\n",
      "Epoch 4/30\n",
      "32/32 [==============================] - 0s 6ms/step - loss: 1.7912\n",
      "Epoch 5/30\n",
      "32/32 [==============================] - 0s 6ms/step - loss: 1.7140\n",
      "Epoch 6/30\n",
      "32/32 [==============================] - 0s 6ms/step - loss: 1.6684\n",
      "Epoch 7/30\n",
      "32/32 [==============================] - 0s 5ms/step - loss: 1.6357\n",
      "Epoch 8/30\n",
      "32/32 [==============================] - 0s 6ms/step - loss: 1.6104\n",
      "Epoch 9/30\n",
      "32/32 [==============================] - 0s 6ms/step - loss: 1.5939\n",
      "Epoch 10/30\n",
      "32/32 [==============================] - 0s 5ms/step - loss: 1.5825\n",
      "Epoch 11/30\n",
      "32/32 [==============================] - 0s 5ms/step - loss: 1.5717\n",
      "Epoch 12/30\n",
      "32/32 [==============================] - 0s 6ms/step - loss: 1.5613\n",
      "Epoch 13/30\n"
     ]
    },
    {
     "name": "stdout",
     "output_type": "stream",
     "text": [
      "32/32 [==============================] - 0s 6ms/step - loss: 1.5527\n",
      "Epoch 14/30\n",
      "32/32 [==============================] - 0s 5ms/step - loss: 1.5468\n",
      "Epoch 15/30\n",
      "32/32 [==============================] - 0s 5ms/step - loss: 1.5419\n",
      "Epoch 16/30\n",
      "32/32 [==============================] - 0s 5ms/step - loss: 1.5376\n",
      "Epoch 17/30\n",
      "32/32 [==============================] - 0s 5ms/step - loss: 1.5337\n",
      "Epoch 18/30\n",
      "32/32 [==============================] - 0s 6ms/step - loss: 1.5301\n",
      "Epoch 19/30\n",
      "32/32 [==============================] - 0s 5ms/step - loss: 1.5263\n",
      "Epoch 20/30\n",
      "32/32 [==============================] - 0s 5ms/step - loss: 1.5228\n",
      "Epoch 21/30\n",
      "32/32 [==============================] - 0s 5ms/step - loss: 1.5193\n",
      "Epoch 22/30\n",
      "32/32 [==============================] - 0s 5ms/step - loss: 1.5158\n",
      "Epoch 23/30\n",
      "32/32 [==============================] - 0s 6ms/step - loss: 1.5126\n",
      "Epoch 24/30\n",
      "32/32 [==============================] - 0s 6ms/step - loss: 1.5092\n",
      "Epoch 25/30\n",
      "32/32 [==============================] - 0s 5ms/step - loss: 1.5060\n",
      "Epoch 26/30\n",
      "32/32 [==============================] - 0s 6ms/step - loss: 1.5028\n",
      "Epoch 27/30\n",
      "32/32 [==============================] - 0s 5ms/step - loss: 1.4999\n",
      "Epoch 28/30\n",
      "32/32 [==============================] - 0s 6ms/step - loss: 1.4971\n",
      "Epoch 29/30\n",
      "32/32 [==============================] - 0s 6ms/step - loss: 1.4943\n",
      "Epoch 30/30\n",
      "32/32 [==============================] - 0s 6ms/step - loss: 1.4915\n",
      "Epoch 1/30\n",
      "32/32 [==============================] - 0s 5ms/step - loss: 2.1109\n",
      "Epoch 2/30\n",
      "32/32 [==============================] - 0s 5ms/step - loss: 2.0397\n",
      "Epoch 3/30\n",
      "32/32 [==============================] - 0s 5ms/step - loss: 1.9505\n",
      "Epoch 4/30\n",
      "32/32 [==============================] - 0s 5ms/step - loss: 1.8570\n",
      "Epoch 5/30\n",
      "32/32 [==============================] - 0s 6ms/step - loss: 1.7875\n",
      "Epoch 6/30\n",
      "32/32 [==============================] - 0s 5ms/step - loss: 1.7405\n",
      "Epoch 7/30\n",
      "32/32 [==============================] - 0s 5ms/step - loss: 1.7066\n",
      "Epoch 8/30\n",
      "32/32 [==============================] - 0s 5ms/step - loss: 1.6805\n",
      "Epoch 9/30\n",
      "32/32 [==============================] - 0s 6ms/step - loss: 1.6566\n",
      "Epoch 10/30\n",
      "32/32 [==============================] - 0s 6ms/step - loss: 1.6345\n",
      "Epoch 11/30\n",
      "32/32 [==============================] - 0s 4ms/step - loss: 1.6177\n",
      "Epoch 12/30\n",
      "32/32 [==============================] - 0s 4ms/step - loss: 1.6049\n",
      "Epoch 13/30\n",
      "32/32 [==============================] - 0s 6ms/step - loss: 1.5938\n",
      "Epoch 14/30\n",
      "32/32 [==============================] - 0s 5ms/step - loss: 1.5857\n",
      "Epoch 15/30\n",
      "32/32 [==============================] - 0s 5ms/step - loss: 1.5792\n",
      "Epoch 16/30\n",
      "32/32 [==============================] - 0s 6ms/step - loss: 1.5726\n",
      "Epoch 17/30\n",
      "32/32 [==============================] - 0s 6ms/step - loss: 1.5661\n",
      "Epoch 18/30\n",
      "32/32 [==============================] - 0s 6ms/step - loss: 1.5594\n",
      "Epoch 19/30\n",
      "32/32 [==============================] - 0s 8ms/step - loss: 1.5533\n",
      "Epoch 20/30\n",
      "32/32 [==============================] - 0s 11ms/step - loss: 1.5478\n",
      "Epoch 21/30\n",
      "32/32 [==============================] - 0s 11ms/step - loss: 1.5422\n",
      "Epoch 22/30\n",
      "32/32 [==============================] - 0s 10ms/step - loss: 1.5363\n",
      "Epoch 23/30\n",
      "32/32 [==============================] - 0s 9ms/step - loss: 1.5310\n",
      "Epoch 24/30\n",
      "32/32 [==============================] - 0s 8ms/step - loss: 1.5263\n",
      "Epoch 25/30\n",
      "32/32 [==============================] - 0s 10ms/step - loss: 1.5225\n",
      "Epoch 26/30\n",
      "32/32 [==============================] - 0s 10ms/step - loss: 1.5188\n",
      "Epoch 27/30\n",
      "32/32 [==============================] - 0s 11ms/step - loss: 1.5156\n",
      "Epoch 28/30\n",
      "32/32 [==============================] - 0s 10ms/step - loss: 1.5123\n",
      "Epoch 29/30\n",
      "32/32 [==============================] - 0s 11ms/step - loss: 1.5092\n",
      "Epoch 30/30\n",
      "32/32 [==============================] - 0s 11ms/step - loss: 1.5063\n",
      "Epoch 1/30\n",
      "32/32 [==============================] - 0s 6ms/step - loss: 2.1117\n",
      "Epoch 2/30\n",
      "32/32 [==============================] - 0s 5ms/step - loss: 2.0242\n",
      "Epoch 3/30\n",
      "32/32 [==============================] - 0s 6ms/step - loss: 1.9107\n",
      "Epoch 4/30\n",
      "32/32 [==============================] - 0s 6ms/step - loss: 1.7927\n",
      "Epoch 5/30\n",
      "32/32 [==============================] - 0s 5ms/step - loss: 1.7188\n",
      "Epoch 6/30\n",
      "32/32 [==============================] - 0s 6ms/step - loss: 1.6700\n",
      "Epoch 7/30\n",
      "32/32 [==============================] - 0s 6ms/step - loss: 1.6348\n",
      "Epoch 8/30\n",
      "32/32 [==============================] - 0s 6ms/step - loss: 1.6085\n",
      "Epoch 9/30\n",
      "32/32 [==============================] - 0s 5ms/step - loss: 1.5866\n",
      "Epoch 10/30\n",
      "32/32 [==============================] - 0s 6ms/step - loss: 1.5708\n",
      "Epoch 11/30\n",
      "32/32 [==============================] - 0s 6ms/step - loss: 1.5596\n",
      "Epoch 12/30\n",
      "32/32 [==============================] - 0s 6ms/step - loss: 1.5513\n",
      "Epoch 13/30\n",
      "32/32 [==============================] - 0s 6ms/step - loss: 1.5445\n",
      "Epoch 14/30\n",
      "32/32 [==============================] - 0s 6ms/step - loss: 1.5386\n",
      "Epoch 15/30\n",
      "32/32 [==============================] - 0s 6ms/step - loss: 1.5332\n",
      "Epoch 16/30\n",
      "32/32 [==============================] - 0s 5ms/step - loss: 1.5283\n",
      "Epoch 17/30\n",
      "32/32 [==============================] - 0s 6ms/step - loss: 1.5239\n",
      "Epoch 18/30\n",
      "32/32 [==============================] - 0s 6ms/step - loss: 1.5198\n",
      "Epoch 19/30\n",
      "32/32 [==============================] - 0s 6ms/step - loss: 1.5162\n",
      "Epoch 20/30\n",
      "32/32 [==============================] - 0s 5ms/step - loss: 1.5128\n",
      "Epoch 21/30\n",
      "32/32 [==============================] - 0s 6ms/step - loss: 1.5095\n",
      "Epoch 22/30\n",
      "32/32 [==============================] - 0s 7ms/step - loss: 1.5068\n",
      "Epoch 23/30\n",
      "32/32 [==============================] - 0s 11ms/step - loss: 1.5041\n",
      "Epoch 24/30\n",
      "32/32 [==============================] - 0s 5ms/step - loss: 1.5016\n",
      "Epoch 25/30\n",
      "32/32 [==============================] - 0s 6ms/step - loss: 1.4989\n",
      "Epoch 26/30\n",
      "32/32 [==============================] - 0s 6ms/step - loss: 1.4965\n",
      "Epoch 27/30\n",
      "32/32 [==============================] - 0s 6ms/step - loss: 1.4938\n",
      "Epoch 28/30\n",
      "32/32 [==============================] - 0s 7ms/step - loss: 1.4914\n",
      "Epoch 29/30\n",
      "32/32 [==============================] - 0s 7ms/step - loss: 1.4887\n",
      "Epoch 30/30\n",
      "32/32 [==============================] - 0s 7ms/step - loss: 1.4857\n",
      "Epoch 1/30\n",
      "32/32 [==============================] - 0s 5ms/step - loss: 2.0931\n",
      "Epoch 2/30\n",
      "32/32 [==============================] - 0s 5ms/step - loss: 2.0295\n",
      "Epoch 3/30\n",
      "32/32 [==============================] - 0s 6ms/step - loss: 1.9451\n",
      "Epoch 4/30\n",
      "32/32 [==============================] - 0s 5ms/step - loss: 1.8279\n",
      "Epoch 5/30\n",
      "32/32 [==============================] - 0s 5ms/step - loss: 1.7133\n",
      "Epoch 6/30\n",
      "32/32 [==============================] - 0s 6ms/step - loss: 1.6586\n",
      "Epoch 7/30\n",
      "32/32 [==============================] - 0s 5ms/step - loss: 1.6320\n",
      "Epoch 8/30\n",
      "32/32 [==============================] - 0s 5ms/step - loss: 1.6136\n",
      "Epoch 9/30\n",
      "32/32 [==============================] - 0s 5ms/step - loss: 1.5993\n",
      "Epoch 10/30\n",
      "32/32 [==============================] - 0s 5ms/step - loss: 1.5833\n",
      "Epoch 11/30\n",
      "32/32 [==============================] - 0s 5ms/step - loss: 1.5706\n",
      "Epoch 12/30\n",
      "32/32 [==============================] - 0s 6ms/step - loss: 1.5611\n",
      "Epoch 13/30\n",
      "32/32 [==============================] - 0s 5ms/step - loss: 1.5529\n",
      "Epoch 14/30\n",
      "32/32 [==============================] - 0s 5ms/step - loss: 1.5451\n",
      "Epoch 15/30\n",
      "32/32 [==============================] - 0s 5ms/step - loss: 1.5379\n",
      "Epoch 16/30\n",
      "32/32 [==============================] - 0s 5ms/step - loss: 1.5305\n",
      "Epoch 17/30\n",
      "32/32 [==============================] - 0s 5ms/step - loss: 1.5234\n",
      "Epoch 18/30\n",
      "32/32 [==============================] - 0s 5ms/step - loss: 1.5163\n",
      "Epoch 19/30\n",
      "32/32 [==============================] - 0s 5ms/step - loss: 1.5098\n",
      "Epoch 20/30\n",
      "32/32 [==============================] - 0s 5ms/step - loss: 1.5038\n",
      "Epoch 21/30\n",
      "32/32 [==============================] - 0s 5ms/step - loss: 1.4984\n",
      "Epoch 22/30\n",
      "32/32 [==============================] - 0s 5ms/step - loss: 1.4937\n",
      "Epoch 23/30\n",
      "32/32 [==============================] - 0s 5ms/step - loss: 1.4894\n",
      "Epoch 24/30\n",
      "32/32 [==============================] - 0s 5ms/step - loss: 1.4859\n",
      "Epoch 25/30\n"
     ]
    },
    {
     "name": "stdout",
     "output_type": "stream",
     "text": [
      "32/32 [==============================] - 0s 5ms/step - loss: 1.4827\n",
      "Epoch 26/30\n",
      "32/32 [==============================] - 0s 5ms/step - loss: 1.4790\n",
      "Epoch 27/30\n",
      "32/32 [==============================] - 0s 5ms/step - loss: 1.4760\n",
      "Epoch 28/30\n",
      "32/32 [==============================] - 0s 5ms/step - loss: 1.4733\n",
      "Epoch 29/30\n",
      "32/32 [==============================] - 0s 5ms/step - loss: 1.4705\n",
      "Epoch 30/30\n",
      "32/32 [==============================] - 0s 5ms/step - loss: 1.4682\n",
      "Epoch 1/30\n",
      "32/32 [==============================] - 0s 5ms/step - loss: 2.1039\n",
      "Epoch 2/30\n",
      "32/32 [==============================] - 0s 5ms/step - loss: 2.0266\n",
      "Epoch 3/30\n",
      "32/32 [==============================] - 0s 5ms/step - loss: 1.9071\n",
      "Epoch 4/30\n",
      "32/32 [==============================] - 0s 5ms/step - loss: 1.7693\n",
      "Epoch 5/30\n",
      "32/32 [==============================] - 0s 5ms/step - loss: 1.6837\n",
      "Epoch 6/30\n",
      "32/32 [==============================] - 0s 5ms/step - loss: 1.6353\n",
      "Epoch 7/30\n",
      "32/32 [==============================] - 0s 5ms/step - loss: 1.6035\n",
      "Epoch 8/30\n",
      "32/32 [==============================] - 0s 6ms/step - loss: 1.5792\n",
      "Epoch 9/30\n",
      "32/32 [==============================] - 0s 5ms/step - loss: 1.5622\n",
      "Epoch 10/30\n",
      "32/32 [==============================] - 0s 6ms/step - loss: 1.5501\n",
      "Epoch 11/30\n",
      "32/32 [==============================] - 0s 5ms/step - loss: 1.5403\n",
      "Epoch 12/30\n",
      "32/32 [==============================] - 0s 6ms/step - loss: 1.5315\n",
      "Epoch 13/30\n",
      "32/32 [==============================] - 0s 6ms/step - loss: 1.5235\n",
      "Epoch 14/30\n",
      "32/32 [==============================] - 0s 6ms/step - loss: 1.5156\n",
      "Epoch 15/30\n",
      "32/32 [==============================] - 0s 5ms/step - loss: 1.5083\n",
      "Epoch 16/30\n",
      "32/32 [==============================] - 0s 5ms/step - loss: 1.5016\n",
      "Epoch 17/30\n",
      "32/32 [==============================] - 0s 5ms/step - loss: 1.4952\n",
      "Epoch 18/30\n",
      "32/32 [==============================] - 0s 5ms/step - loss: 1.4897\n",
      "Epoch 19/30\n",
      "32/32 [==============================] - 0s 5ms/step - loss: 1.4848\n",
      "Epoch 20/30\n",
      "32/32 [==============================] - 0s 5ms/step - loss: 1.4797\n",
      "Epoch 21/30\n",
      "32/32 [==============================] - 0s 6ms/step - loss: 1.4743\n",
      "Epoch 22/30\n",
      "32/32 [==============================] - 0s 6ms/step - loss: 1.4697\n",
      "Epoch 23/30\n",
      "32/32 [==============================] - 0s 5ms/step - loss: 1.4650\n",
      "Epoch 24/30\n",
      "32/32 [==============================] - 0s 5ms/step - loss: 1.4610\n",
      "Epoch 25/30\n",
      "32/32 [==============================] - 0s 5ms/step - loss: 1.4569\n",
      "Epoch 26/30\n",
      "32/32 [==============================] - 0s 6ms/step - loss: 1.4533\n",
      "Epoch 27/30\n",
      "32/32 [==============================] - 0s 6ms/step - loss: 1.4498\n",
      "Epoch 28/30\n",
      "32/32 [==============================] - 0s 6ms/step - loss: 1.4464\n",
      "Epoch 29/30\n",
      "32/32 [==============================] - 0s 6ms/step - loss: 1.4437\n",
      "Epoch 30/30\n",
      "32/32 [==============================] - 0s 8ms/step - loss: 1.4410\n",
      "Epoch 1/30\n",
      "32/32 [==============================] - 0s 5ms/step - loss: 2.0440\n",
      "Epoch 2/30\n",
      "32/32 [==============================] - 0s 6ms/step - loss: 1.9163\n",
      "Epoch 3/30\n",
      "32/32 [==============================] - 0s 5ms/step - loss: 1.8006\n",
      "Epoch 4/30\n",
      "32/32 [==============================] - 0s 6ms/step - loss: 1.7221\n",
      "Epoch 5/30\n",
      "32/32 [==============================] - 0s 5ms/step - loss: 1.6763\n",
      "Epoch 6/30\n",
      "32/32 [==============================] - 0s 6ms/step - loss: 1.6276\n",
      "Epoch 7/30\n",
      "32/32 [==============================] - 0s 5ms/step - loss: 1.5920\n",
      "Epoch 8/30\n",
      "32/32 [==============================] - 0s 5ms/step - loss: 1.5713\n",
      "Epoch 9/30\n",
      "32/32 [==============================] - 0s 5ms/step - loss: 1.5567\n",
      "Epoch 10/30\n",
      "32/32 [==============================] - 0s 5ms/step - loss: 1.5443\n",
      "Epoch 11/30\n",
      "32/32 [==============================] - 0s 6ms/step - loss: 1.5327\n",
      "Epoch 12/30\n",
      "32/32 [==============================] - 0s 6ms/step - loss: 1.5218\n",
      "Epoch 13/30\n",
      "32/32 [==============================] - 0s 6ms/step - loss: 1.5118\n",
      "Epoch 14/30\n",
      "32/32 [==============================] - 0s 5ms/step - loss: 1.5026\n",
      "Epoch 15/30\n",
      "32/32 [==============================] - 0s 5ms/step - loss: 1.4943\n",
      "Epoch 16/30\n",
      "32/32 [==============================] - 0s 6ms/step - loss: 1.4867\n",
      "Epoch 17/30\n",
      "32/32 [==============================] - 0s 6ms/step - loss: 1.4797\n",
      "Epoch 18/30\n",
      "32/32 [==============================] - 0s 5ms/step - loss: 1.4730\n",
      "Epoch 19/30\n",
      "32/32 [==============================] - 0s 5ms/step - loss: 1.4664\n",
      "Epoch 20/30\n",
      "32/32 [==============================] - 0s 5ms/step - loss: 1.4602\n",
      "Epoch 21/30\n",
      "32/32 [==============================] - 0s 5ms/step - loss: 1.4548\n",
      "Epoch 22/30\n",
      "32/32 [==============================] - 0s 6ms/step - loss: 1.4495\n",
      "Epoch 23/30\n",
      "32/32 [==============================] - 0s 5ms/step - loss: 1.4444\n",
      "Epoch 24/30\n",
      "32/32 [==============================] - 0s 5ms/step - loss: 1.4399\n",
      "Epoch 25/30\n",
      "32/32 [==============================] - 0s 6ms/step - loss: 1.4346\n",
      "Epoch 26/30\n",
      "32/32 [==============================] - 0s 5ms/step - loss: 1.4302\n",
      "Epoch 27/30\n",
      "32/32 [==============================] - 0s 5ms/step - loss: 1.4249\n",
      "Epoch 28/30\n",
      "32/32 [==============================] - 0s 5ms/step - loss: 1.4203\n",
      "Epoch 29/30\n",
      "32/32 [==============================] - 0s 5ms/step - loss: 1.4170\n",
      "Epoch 30/30\n",
      "32/32 [==============================] - 0s 5ms/step - loss: 1.4126\n",
      "Epoch 1/30\n",
      "32/32 [==============================] - 0s 6ms/step - loss: 2.0717\n",
      "Epoch 2/30\n",
      "32/32 [==============================] - 0s 5ms/step - loss: 1.9410\n",
      "Epoch 3/30\n",
      "32/32 [==============================] - 0s 5ms/step - loss: 1.8141\n",
      "Epoch 4/30\n",
      "32/32 [==============================] - 0s 6ms/step - loss: 1.7259\n",
      "Epoch 5/30\n",
      "32/32 [==============================] - 0s 6ms/step - loss: 1.6739\n",
      "Epoch 6/30\n",
      "32/32 [==============================] - 0s 8ms/step - loss: 1.6312\n",
      "Epoch 7/30\n",
      "32/32 [==============================] - 0s 10ms/step - loss: 1.5962\n",
      "Epoch 8/30\n",
      "32/32 [==============================] - 0s 10ms/step - loss: 1.5749\n",
      "Epoch 9/30\n",
      "32/32 [==============================] - 0s 10ms/step - loss: 1.5584\n",
      "Epoch 10/30\n",
      "32/32 [==============================] - 0s 10ms/step - loss: 1.5427\n",
      "Epoch 11/30\n",
      "32/32 [==============================] - 0s 10ms/step - loss: 1.5284\n",
      "Epoch 12/30\n",
      "32/32 [==============================] - 0s 10ms/step - loss: 1.5161\n",
      "Epoch 13/30\n",
      "32/32 [==============================] - 0s 10ms/step - loss: 1.5049\n",
      "Epoch 14/30\n",
      "32/32 [==============================] - 0s 10ms/step - loss: 1.4951\n",
      "Epoch 15/30\n",
      "32/32 [==============================] - 0s 9ms/step - loss: 1.4865\n",
      "Epoch 16/30\n",
      "32/32 [==============================] - 0s 6ms/step - loss: 1.4785\n",
      "Epoch 17/30\n",
      "32/32 [==============================] - 0s 6ms/step - loss: 1.4706\n",
      "Epoch 18/30\n",
      "32/32 [==============================] - 0s 6ms/step - loss: 1.4636\n",
      "Epoch 19/30\n",
      "32/32 [==============================] - 0s 6ms/step - loss: 1.4573\n",
      "Epoch 20/30\n",
      "32/32 [==============================] - 0s 6ms/step - loss: 1.4518\n",
      "Epoch 21/30\n",
      "32/32 [==============================] - 0s 6ms/step - loss: 1.4474\n",
      "Epoch 22/30\n",
      "32/32 [==============================] - 0s 6ms/step - loss: 1.4427\n",
      "Epoch 23/30\n",
      "32/32 [==============================] - 0s 6ms/step - loss: 1.4392\n",
      "Epoch 24/30\n",
      "32/32 [==============================] - 0s 6ms/step - loss: 1.4360\n",
      "Epoch 25/30\n",
      "32/32 [==============================] - 0s 6ms/step - loss: 1.4327\n",
      "Epoch 26/30\n",
      "32/32 [==============================] - 0s 6ms/step - loss: 1.4296\n",
      "Epoch 27/30\n",
      "32/32 [==============================] - 0s 7ms/step - loss: 1.4266\n",
      "Epoch 28/30\n",
      "32/32 [==============================] - 0s 6ms/step - loss: 1.4232\n",
      "Epoch 29/30\n",
      "32/32 [==============================] - 0s 7ms/step - loss: 1.4206\n",
      "Epoch 30/30\n",
      "32/32 [==============================] - 0s 7ms/step - loss: 1.4178\n",
      "Wall time: 1min 10s\n"
     ]
    }
   ],
   "source": [
    "%%time\n",
    "num_feature_accuracy = []\n",
    "for num_feat in range(2, X.shape[1]+1, 2):\n",
    "    autoencoder, encoder = get_auto_encoder_model(encoding_dim=num_feat)\n",
    "    history = autoencoder.fit(X, X, epochs=30)\n",
    "    X_encoded = encoder.predict(X)\n",
    "    X_train, X_test, y_train, y_test = train_test_split(X_encoded, y, test_size=0.33, random_state=RANDOM_STATE)\n",
    "    svc.fit(X_train, y_train)\n",
    "    num_feature_accuracy.append((num_feat, svc.score(X_test, y_test)))"
   ]
  },
  {
   "cell_type": "code",
   "execution_count": 94,
   "metadata": {},
   "outputs": [
    {
     "data": {
      "text/plain": [
       "[(2, 0.4818181818181818),\n",
       " (4, 0.6696969696969697),\n",
       " (6, 0.7333333333333333),\n",
       " (8, 0.7121212121212122),\n",
       " (10, 0.703030303030303),\n",
       " (12, 0.7787878787878788),\n",
       " (14, 0.7727272727272727),\n",
       " (16, 0.7515151515151515),\n",
       " (18, 0.7424242424242424),\n",
       " (20, 0.7333333333333333)]"
      ]
     },
     "execution_count": 94,
     "metadata": {},
     "output_type": "execute_result"
    }
   ],
   "source": [
    "num_feature_accuracy"
   ]
  },
  {
   "cell_type": "code",
   "execution_count": 95,
   "metadata": {},
   "outputs": [
    {
     "data": {
      "text/plain": [
       "12"
      ]
     },
     "execution_count": 95,
     "metadata": {},
     "output_type": "execute_result"
    }
   ],
   "source": [
    "# Best performance from # of feature\n",
    "sorted(num_feature_accuracy, key=lambda t: t[1], reverse=True)[0][0]"
   ]
  },
  {
   "cell_type": "code",
   "execution_count": 96,
   "metadata": {},
   "outputs": [
    {
     "data": {
      "image/png": "[encoded data removed]",
      "text/plain": [
       "<Figure size 648x432 with 1 Axes>"
      ]
     },
     "metadata": {
      "needs_background": "light"
     },
     "output_type": "display_data"
    }
   ],
   "source": [
    "plt.rcParams['figure.figsize'] = [9, 6]\n",
    "x_axis = list(map(lambda t: t[0], num_feature_accuracy))\n",
    "y_axis = list(map(lambda t: t[1], num_feature_accuracy))         \n",
    "plt.plot(x_axis, y_axis)  \n",
    "plt.xlabel('num feature')  \n",
    "plt.ylabel('Accuracy')\n",
    "plt.xticks(np.arange(min(x_axis), max(x_axis)+1, 1))\n",
    "plt.title(\"Feature num & Accuracy\")\n",
    "plt.show()  "
   ]
  },
  {
   "cell_type": "markdown",
   "metadata": {},
   "source": [
    "## <font color='darkblue'>Summary</font>\n",
    "Every type of selection algorithms has its strength and drawbacks and there is no rule of thumb for what method to use. **It is important to consider the trade-offs within the context of your project.**\n",
    "* **Wrapper** offers the highest selection quality since it actually trains a model on different subsets of features. The price for high quality is training time.\n",
    "* **Filter selection** is based on statistics and is very fast. However, it might not be able to detect the optimal subset of features.\n",
    "* **Embedded selection** in the middle, providing reasonable selection power at a fair price."
   ]
  },
  {
   "cell_type": "markdown",
   "metadata": {},
   "source": [
    "### <font color='darkgreen'>Supplement</font>\n",
    "* [DataCamp - Implementing Autoencoders in Keras: Tutorial](https://www.datacamp.com/community/tutorials/autoencoder-keras-tutorial)\n",
    "* [AutoEncoder on Dimension Reduction](https://towardsdatascience.com/autoencoder-on-dimension-reduction-100f2c98608c)"
   ]
  }
 ],
 "metadata": {
  "kernelspec": {
   "display_name": "Python 3",
   "language": "python",
   "name": "python3"
  },
  "language_info": {
   "codemirror_mode": {
    "name": "ipython",
    "version": 3
   },
   "file_extension": ".py",
   "mimetype": "text/x-python",
   "name": "python",
   "nbconvert_exporter": "python",
   "pygments_lexer": "ipython3",
   "version": "3.6.7"
  }
 },
 "nbformat": 4,
 "nbformat_minor": 2
}
