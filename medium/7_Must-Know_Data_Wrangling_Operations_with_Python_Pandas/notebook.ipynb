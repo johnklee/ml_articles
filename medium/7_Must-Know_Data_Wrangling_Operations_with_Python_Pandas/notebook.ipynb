{
 "cells": [
  {
   "cell_type": "markdown",
   "metadata": {},
   "source": [
    "## <font color='darkblue'>Preface</font>\n",
    "([article source](https://towardsdatascience.com/7-must-know-data-wrangling-operations-with-python-pandas-849438a90d15)) <font size='3ptx'>**A comprehensive practical guide**</font>\n",
    "\n",
    "[**Pandas**](https://pandas.pydata.org/) is a highly popular data analysis and manipulation library. It provides numerous functions to transform raw data to a more useful or appropriate format for data analysis and machine learning pipeline.\n",
    "\n",
    "**Real life data is almost always messy and requires lots of preprocessing to be converted to a nice and clean format**. Thanks to its versatile and powerful functions, Pandas expedites data wrangling process.\n",
    "\n",
    "**In this article, we will cover 7 operations that we are likely to encounter in a typical data wrangling process.**\n",
    "\n",
    "### <font color='darkgreen'>Data Set</font>\n",
    "We will use the [**Melbourne housing dataset**](https://www.kaggle.com/dansbecker/melbourne-housing-snapshot) available on Kaggle for the examples. We first read the csv file using the read_csv function."
   ]
  },
  {
   "cell_type": "code",
   "execution_count": 1,
   "metadata": {},
   "outputs": [
    {
     "name": "stdout",
     "output_type": "stream",
     "text": [
      "(13580, 21)\n"
     ]
    }
   ],
   "source": [
    "import numpy as np\n",
    "import pandas as pd\n",
    "\n",
    "melb = pd.read_csv(\"../../datas/kaggle_melbourne_housing_snapshot/melb_data.csv\")\n",
    "print(melb.shape)"
   ]
  },
  {
   "cell_type": "markdown",
   "metadata": {},
   "source": [
    "The dataset contains 21 features about 13580 houses in Melbourne."
   ]
  },
  {
   "cell_type": "markdown",
   "metadata": {},
   "source": [
    "## <font color='darkblue'>1. Handling dates</font>\n",
    "The dates are usually stored as objects or strings. The `date` column in our dataset is stored as object."
   ]
  },
  {
   "cell_type": "code",
   "execution_count": 2,
   "metadata": {},
   "outputs": [
    {
     "data": {
      "text/plain": [
       "dtype('O')"
      ]
     },
     "execution_count": 2,
     "metadata": {},
     "output_type": "execute_result"
    }
   ],
   "source": [
    "melb.Date.dtypes"
   ]
  },
  {
   "cell_type": "markdown",
   "metadata": {},
   "source": [
    "In order to use the date time specific functions of Pandas, we need to convert the dates to an appropriate format. One option is to use the [to_datetime function](https://pandas.pydata.org/pandas-docs/stable/reference/api/pandas.to_datetime.html)."
   ]
  },
  {
   "cell_type": "code",
   "execution_count": 3,
   "metadata": {},
   "outputs": [
    {
     "data": {
      "text/plain": [
       "0    3/12/2016\n",
       "1    4/02/2016\n",
       "Name: Date, dtype: object"
      ]
     },
     "execution_count": 3,
     "metadata": {},
     "output_type": "execute_result"
    }
   ],
   "source": [
    "# Before converting\n",
    "melb.Date[:2]"
   ]
  },
  {
   "cell_type": "code",
   "execution_count": 4,
   "metadata": {},
   "outputs": [
    {
     "data": {
      "text/plain": [
       "0   2016-03-12\n",
       "1   2016-04-02\n",
       "Name: Date, dtype: datetime64[ns]"
      ]
     },
     "execution_count": 4,
     "metadata": {},
     "output_type": "execute_result"
    }
   ],
   "source": [
    "# After converting\n",
    "melb['Date'] = pd.to_datetime(melb['Date'])\n",
    "melb.Date[:2]"
   ]
  },
  {
   "cell_type": "markdown",
   "metadata": {},
   "source": [
    "## <font color='darkblue'>2. Changing data types</font>\n",
    "In addition to dates, we may need to do some other data type conversions as well. A typical case that need conversion would be storing integers as floats. For instance, **the `Propertycount` column in our dataset is stored as float but it should be integer.**\n",
    "\n",
    "The [astype function](https://pandas.pydata.org/pandas-docs/stable/reference/api/pandas.DataFrame.astype.html) can be used to do data type conversions."
   ]
  },
  {
   "cell_type": "code",
   "execution_count": 5,
   "metadata": {},
   "outputs": [
    {
     "data": {
      "text/plain": [
       "0    4019.0\n",
       "1    4019.0\n",
       "Name: Propertycount, dtype: float64"
      ]
     },
     "execution_count": 5,
     "metadata": {},
     "output_type": "execute_result"
    }
   ],
   "source": [
    "# Before converting\n",
    "melb['Propertycount'][:2]"
   ]
  },
  {
   "cell_type": "code",
   "execution_count": 6,
   "metadata": {},
   "outputs": [
    {
     "data": {
      "text/plain": [
       "0    4019\n",
       "1    4019\n",
       "Name: Propertycount, dtype: int32"
      ]
     },
     "execution_count": 6,
     "metadata": {},
     "output_type": "execute_result"
    }
   ],
   "source": [
    "# After converting\n",
    "melb['Propertycount'] = melb['Propertycount'].astype('int')\n",
    "melb['Propertycount'][:2]"
   ]
  },
  {
   "cell_type": "markdown",
   "metadata": {},
   "source": [
    "## <font color='darkblue'>3. Replacing values</font>\n",
    "**Another common operation is to replace values**. The `Type` column contains 3 distinct values which are ‘h’, ‘u’, and ‘t’. We can make these values more informative by replacing them with what they represent.\n",
    "\n",
    "The [replace function](https://pandas.pydata.org/pandas-docs/stable/reference/api/pandas.DataFrame.replace.html) is used to accomplish this task."
   ]
  },
  {
   "cell_type": "code",
   "execution_count": 8,
   "metadata": {},
   "outputs": [
    {
     "data": {
      "text/plain": [
       "array(['h', 'u', 't'], dtype=object)"
      ]
     },
     "execution_count": 8,
     "metadata": {},
     "output_type": "execute_result"
    }
   ],
   "source": [
    "# Before converting\n",
    "melb.Type.unique()"
   ]
  },
  {
   "cell_type": "code",
   "execution_count": 9,
   "metadata": {},
   "outputs": [
    {
     "data": {
      "text/plain": [
       "array(['house', 'unit', 'town_house'], dtype=object)"
      ]
     },
     "execution_count": 9,
     "metadata": {},
     "output_type": "execute_result"
    }
   ],
   "source": [
    "# After converting\n",
    "melb.Type.replace({\n",
    "   'h': 'house', 'u': 'unit', 't': 'town_house'\n",
    "}, inplace=True)\n",
    "\n",
    "melb.Type.unique()"
   ]
  },
  {
   "cell_type": "markdown",
   "metadata": {},
   "source": [
    "## <font color='darkblue'>4. Category data type</font>\n",
    "A typical dataset contains both numerical and categorical columns. The categorical columns are usually stored with object data type. If the number of distinct categories are very few compared to the number of rows, **we can save a substantial amount of memory by using the category data type.**\n",
    "\n",
    "Our dataset contains 13580 rows. The number of categories in the type column is 3. Let’s first check the memory consumption of this column."
   ]
  },
  {
   "cell_type": "code",
   "execution_count": 10,
   "metadata": {},
   "outputs": [
    {
     "data": {
      "text/plain": [
       "108768"
      ]
     },
     "execution_count": 10,
     "metadata": {},
     "output_type": "execute_result"
    }
   ],
   "source": [
    "# in bytes\n",
    "melb.Type.memory_usage()"
   ]
  },
  {
   "cell_type": "markdown",
   "metadata": {},
   "source": [
    "We will convert it to the category data type and check the memory consumption again."
   ]
  },
  {
   "cell_type": "code",
   "execution_count": 11,
   "metadata": {},
   "outputs": [
    {
     "data": {
      "text/plain": [
       "13812"
      ]
     },
     "execution_count": 11,
     "metadata": {},
     "output_type": "execute_result"
    }
   ],
   "source": [
    "melb['Type'] = melb['Type'].astype('category')\n",
    "melb['Type'].memory_usage()"
   ]
  },
  {
   "cell_type": "markdown",
   "metadata": {},
   "source": [
    "It went down from 108768 bytes to 13812 bytes which is a significant decrease."
   ]
  },
  {
   "cell_type": "markdown",
   "metadata": {},
   "source": [
    "## <font color='darkblue'>5. Extracting information from dates</font>\n",
    "In some cases, we may need to **extract a particular part from dates such as weekday, month, year, and so on. We can use the functions under the `dt` accessor to extract pretty much any piece of information about a date**.\n",
    "\n",
    "Let’s do a couple of examples."
   ]
  },
  {
   "cell_type": "code",
   "execution_count": 13,
   "metadata": {},
   "outputs": [
    {
     "data": {
      "text/html": [
       "<div>\n",
       "<style scoped>\n",
       "    .dataframe tbody tr th:only-of-type {\n",
       "        vertical-align: middle;\n",
       "    }\n",
       "\n",
       "    .dataframe tbody tr th {\n",
       "        vertical-align: top;\n",
       "    }\n",
       "\n",
       "    .dataframe thead th {\n",
       "        text-align: right;\n",
       "    }\n",
       "</style>\n",
       "<table border=\"1\" class=\"dataframe\">\n",
       "  <thead>\n",
       "    <tr style=\"text-align: right;\">\n",
       "      <th></th>\n",
       "      <th>Date</th>\n",
       "      <th>Month</th>\n",
       "    </tr>\n",
       "  </thead>\n",
       "  <tbody>\n",
       "    <tr>\n",
       "      <th>0</th>\n",
       "      <td>2016-03-12</td>\n",
       "      <td>3</td>\n",
       "    </tr>\n",
       "    <tr>\n",
       "      <th>1</th>\n",
       "      <td>2016-04-02</td>\n",
       "      <td>4</td>\n",
       "    </tr>\n",
       "    <tr>\n",
       "      <th>2</th>\n",
       "      <td>2017-04-03</td>\n",
       "      <td>4</td>\n",
       "    </tr>\n",
       "    <tr>\n",
       "      <th>3</th>\n",
       "      <td>2017-04-03</td>\n",
       "      <td>4</td>\n",
       "    </tr>\n",
       "    <tr>\n",
       "      <th>4</th>\n",
       "      <td>2016-04-06</td>\n",
       "      <td>4</td>\n",
       "    </tr>\n",
       "  </tbody>\n",
       "</table>\n",
       "</div>"
      ],
      "text/plain": [
       "        Date  Month\n",
       "0 2016-03-12      3\n",
       "1 2016-04-02      4\n",
       "2 2017-04-03      4\n",
       "3 2017-04-03      4\n",
       "4 2016-04-06      4"
      ]
     },
     "execution_count": 13,
     "metadata": {},
     "output_type": "execute_result"
    }
   ],
   "source": [
    "# Extract month\n",
    "melb['Month'] = melb['Date'].dt.month\n",
    "melb[['Date', 'Month']][:5]"
   ]
  },
  {
   "cell_type": "code",
   "execution_count": 16,
   "metadata": {},
   "outputs": [
    {
     "data": {
      "text/html": [
       "<div>\n",
       "<style scoped>\n",
       "    .dataframe tbody tr th:only-of-type {\n",
       "        vertical-align: middle;\n",
       "    }\n",
       "\n",
       "    .dataframe tbody tr th {\n",
       "        vertical-align: top;\n",
       "    }\n",
       "\n",
       "    .dataframe thead th {\n",
       "        text-align: right;\n",
       "    }\n",
       "</style>\n",
       "<table border=\"1\" class=\"dataframe\">\n",
       "  <thead>\n",
       "    <tr style=\"text-align: right;\">\n",
       "      <th></th>\n",
       "      <th>Date</th>\n",
       "      <th>Weekday</th>\n",
       "    </tr>\n",
       "  </thead>\n",
       "  <tbody>\n",
       "    <tr>\n",
       "      <th>11806</th>\n",
       "      <td>2017-07-22</td>\n",
       "      <td>5</td>\n",
       "    </tr>\n",
       "    <tr>\n",
       "      <th>8222</th>\n",
       "      <td>2017-04-22</td>\n",
       "      <td>5</td>\n",
       "    </tr>\n",
       "    <tr>\n",
       "      <th>12073</th>\n",
       "      <td>2017-07-29</td>\n",
       "      <td>5</td>\n",
       "    </tr>\n",
       "    <tr>\n",
       "      <th>10360</th>\n",
       "      <td>2017-05-27</td>\n",
       "      <td>5</td>\n",
       "    </tr>\n",
       "    <tr>\n",
       "      <th>13406</th>\n",
       "      <td>2017-08-26</td>\n",
       "      <td>5</td>\n",
       "    </tr>\n",
       "  </tbody>\n",
       "</table>\n",
       "</div>"
      ],
      "text/plain": [
       "            Date  Weekday\n",
       "11806 2017-07-22        5\n",
       "8222  2017-04-22        5\n",
       "12073 2017-07-29        5\n",
       "10360 2017-05-27        5\n",
       "13406 2017-08-26        5"
      ]
     },
     "execution_count": 16,
     "metadata": {},
     "output_type": "execute_result"
    }
   ],
   "source": [
    "# Extract weekday\n",
    "melb['Weekday'] = melb['Date'].dt.weekday\n",
    "melb[['Date', 'Weekday']].sample(n=5)"
   ]
  },
  {
   "cell_type": "markdown",
   "metadata": {},
   "source": [
    "## <font color='darkblue'>6. Extracting information from text</font>\n",
    "Textual data usually contains multiple pieces of information. Just like we have done with dates, we may need to extract a piece of information from a text. **The `str` accessor of Pandas provides numerous function to perform such operations efficiently.**\n",
    "\n",
    "Let’s take a look at the `Address` column."
   ]
  },
  {
   "cell_type": "code",
   "execution_count": 18,
   "metadata": {},
   "outputs": [
    {
     "data": {
      "text/plain": [
       "0          85 Turner St\n",
       "1       25 Bloomburg St\n",
       "2          5 Charles St\n",
       "3      40 Federation La\n",
       "4           55a Park St\n",
       "5        129 Charles St\n",
       "6          124 Yarra St\n",
       "7         98 Charles St\n",
       "8    6/241 Nicholson St\n",
       "9         10 Valiant St\n",
       "Name: Address, dtype: object"
      ]
     },
     "execution_count": 18,
     "metadata": {},
     "output_type": "execute_result"
    }
   ],
   "source": [
    "melb.Address[:10]"
   ]
  },
  {
   "cell_type": "markdown",
   "metadata": {},
   "source": [
    "**The last characters represent the type of location.** For instance, “St” stands for street and “Dr” stands for drive. It can be a useful piece of information for grouping the addresses. We can extract the last part of the address by splitting the strings at space character and taking the last split. Here is how we do this operation with the str accessor."
   ]
  },
  {
   "cell_type": "code",
   "execution_count": 19,
   "metadata": {
    "scrolled": true
   },
   "outputs": [
    {
     "data": {
      "text/plain": [
       "0        St\n",
       "1        St\n",
       "2        St\n",
       "3        La\n",
       "4        St\n",
       "         ..\n",
       "13575    Cr\n",
       "13576    Dr\n",
       "13577    St\n",
       "13578    St\n",
       "13579    St\n",
       "Name: Address, Length: 13580, dtype: object"
      ]
     },
     "execution_count": 19,
     "metadata": {},
     "output_type": "execute_result"
    }
   ],
   "source": [
    "melb['Address'].str.split(' ').str[-1]"
   ]
  },
  {
   "cell_type": "markdown",
   "metadata": {},
   "source": [
    "The [split function](https://pandas.pydata.org/pandas-docs/stable/reference/api/pandas.Series.str.split.html), as the same suggests, splits a string at the specified character which is space in our case. The next str is used for accessing the pieces after splitting. “-1” means the last one."
   ]
  },
  {
   "cell_type": "markdown",
   "metadata": {},
   "source": [
    "## <font color='darkblue'>7. Standardizing the textual data</font>\n",
    "In many cases, we do a comparison based on textual data. A typical problem with such comparisons is not having a standard on strings. For instance, same words may not be detected if one starts with a capital case letter and the other is not.\n",
    "\n",
    "To overcome this issue, **we should standardize the strings. We can make them all upper case or lower case letters with the [upper](https://pandas.pydata.org/pandas-docs/stable/reference/api/pandas.Series.str.upper.html) and [lower](https://pandas.pydata.org/pandas-docs/stable/reference/api/pandas.Series.str.lower.html) functions of the str accessor, respectively**."
   ]
  },
  {
   "cell_type": "code",
   "execution_count": 20,
   "metadata": {},
   "outputs": [
    {
     "data": {
      "text/plain": [
       "0        85 TURNER ST\n",
       "1     25 BLOOMBURG ST\n",
       "2        5 CHARLES ST\n",
       "3    40 FEDERATION LA\n",
       "4         55A PARK ST\n",
       "Name: Address, dtype: object"
      ]
     },
     "execution_count": 20,
     "metadata": {},
     "output_type": "execute_result"
    }
   ],
   "source": [
    "melb.Address.str.upper()[:5]"
   ]
  },
  {
   "cell_type": "markdown",
   "metadata": {},
   "source": [
    "Another option is to capitalize the strings."
   ]
  },
  {
   "cell_type": "code",
   "execution_count": 21,
   "metadata": {},
   "outputs": [
    {
     "data": {
      "text/plain": [
       "0    Abbotsford\n",
       "1    Abbotsford\n",
       "2    Abbotsford\n",
       "3    Abbotsford\n",
       "4    Abbotsford\n",
       "Name: Suburb, dtype: object"
      ]
     },
     "execution_count": 21,
     "metadata": {},
     "output_type": "execute_result"
    }
   ],
   "source": [
    "melb.Suburb.str.capitalize()[:5]"
   ]
  },
  {
   "cell_type": "markdown",
   "metadata": {},
   "source": [
    "## <font color='darkblue'>Conclusion</font>\n",
    "We have covered 7 typical operations that are likely to be encountered in a data wrangling process. Pandas provides efficient and versatile solutions for all of them.\n",
    "\n",
    "There are, of course, many other issues we might face during data cleaning and preprocessing. It is not possible to cover all of them in one article. However, I’m pretty sure Pandas has a solution for most of the tasks you need to handle."
   ]
  }
 ],
 "metadata": {
  "kernelspec": {
   "display_name": "Python 3",
   "language": "python",
   "name": "python3"
  },
  "language_info": {
   "codemirror_mode": {
    "name": "ipython",
    "version": 3
   },
   "file_extension": ".py",
   "mimetype": "text/x-python",
   "name": "python",
   "nbconvert_exporter": "python",
   "pygments_lexer": "ipython3",
   "version": "3.8.7"
  }
 },
 "nbformat": 4,
 "nbformat_minor": 4
}
