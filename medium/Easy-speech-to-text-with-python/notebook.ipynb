{
 "cells": [
  {
   "cell_type": "markdown",
   "id": "9d59c0be-4300-4841-b335-a626b59b4bf0",
   "metadata": {},
   "source": [
    "## <b><font color='darkblue'>Prefac</font></b>\n",
    "([article source](https://towardsdatascience.com/easy-speech-to-text-with-python-3df0d973b426)) ([article source](https://towardsdatascience.com/easy-speech-to-text-with-python-3df0d973b426)) <b><font size='3ptx'>Speech is the most common means of communication and the majority of the population in the world relies on speech to communicate with one another. Speech recognition system basically translates spoken languages into text.</font> There are various real-life examples of speech recognition systems. For example, Apple SIRI which recognize the speech and truncates into text.</b>"
   ]
  },
  {
   "cell_type": "markdown",
   "id": "e2bf9bf8-7070-4641-808c-19cf64c7e838",
   "metadata": {},
   "source": [
    "### <b><font color='darkgreen'>How does Speech recognition work?</font></b>\n",
    "<b><font size='3ptx'>Hidden Markov Model (HMM), deep neural network models are used to convert the audio into text. </font></b>\n",
    "\n",
    "![SST process](images/sst_process.PNG)\n",
    "\n",
    "A full detailed process is beyond the scope of this blog. In this blog, I am demonstrating how to convert speech to text using Python. This can be done with the help of the “[**Speech Recognition**](https://pypi.org/project/SpeechRecognition/)” API and “[**PyAudio**](https://pypi.org/project/PyAudio/)” library.\n",
    "\n",
    "<b>Speech Recognition API supports several API’s, in this blog I used Google speech recognition API</b>. For more details, please check [this](https://pypi.org/project/SpeechRecognition/). It helps to translate for converting speech into text."
   ]
  },
  {
   "cell_type": "markdown",
   "id": "3be84313-1e6f-4f93-886a-87d1bbe8b560",
   "metadata": {},
   "source": [
    "### <b><font color='darkgreen'>Python Libraries</font></b>"
   ]
  },
  {
   "cell_type": "code",
   "execution_count": 1,
   "id": "2ad50186-03d7-4cea-9902-c277c304fef7",
   "metadata": {},
   "outputs": [],
   "source": [
    "#!pip install SpeechRecognition"
   ]
  },
  {
   "cell_type": "markdown",
   "id": "eb4e0d7f-157d-43b3-beab-88c0c369851c",
   "metadata": {},
   "source": [
    "## <b><font color='darkblue'>Convert an audio file into text</font></b>\n",
    "Below are the steps to convert an audio file into text:\n",
    "1. Import Speech recognition library\n",
    "2. Initializing recognizer class in order to recognize the speech. We are using google speech recognition.\n",
    "3. Audio file supports by speech recognition: wav, AIFF, AIFF-C, FLAC. I used ‘wav’ file in this example\n",
    "4. I have used ‘taken’ movie audio clip which says “I don’t know who you are I don’t know what you want if you’re looking for ransom I can tell you I don’t have money”\n",
    "5. By default, google recognizer reads English. It supports different languages, for more details please check this documentation."
   ]
  },
  {
   "cell_type": "markdown",
   "id": "caa9e3fa-17f0-4baa-a8d7-39f6a1ecc47e",
   "metadata": {},
   "source": [
    "### <b><font color='darkgreen'>Simple Code example</font></b>\n",
    "Here we are using below wave file as example to test SST API:\n",
    "- [datas/OSR_us_000_0010_8k.wav](https://www.voiptroubleshooter.com/open_speech/american/OSR_us_000_0010_8k.wav)"
   ]
  },
  {
   "cell_type": "code",
   "execution_count": 2,
   "id": "0b794fd5-36e7-4458-ade2-84b5eecf9134",
   "metadata": {},
   "outputs": [],
   "source": [
    "#import library\n",
    "import speech_recognition as sr\n",
    "\n",
    "TEST_WAVE_FILE_PATH = 'datas/OSR_us_000_0010_8k.wav'"
   ]
  },
  {
   "cell_type": "code",
   "execution_count": 3,
   "id": "fbff1c54-9d03-4eaf-84f0-9af29ba9511d",
   "metadata": {},
   "outputs": [],
   "source": [
    "# Initialize recognizer class (for recognizing the speech)\n",
    "r = sr.Recognizer()"
   ]
  },
  {
   "cell_type": "code",
   "execution_count": 4,
   "id": "d2cac62f-7e9d-4d3e-aa35-fa940a780ef1",
   "metadata": {},
   "outputs": [],
   "source": [
    "# Reading Audio file as source\n",
    "# listening the audio file and store in audio_text variable\n",
    "\n",
    "with sr.AudioFile(TEST_WAVE_FILE_PATH) as source:    \n",
    "    audio_text = r.listen(source)"
   ]
  },
  {
   "cell_type": "code",
   "execution_count": 6,
   "id": "6eb96ce4-0894-4dcf-b456-d746ba6fae45",
   "metadata": {},
   "outputs": [
    {
     "name": "stdout",
     "output_type": "stream",
     "text": [
      "Converting audio transcripts into text ...\n",
      "do birds canoe slid on the smooth planks glue the sheet to the dark blue background it is easy to tell the depth of a well these days a chicken leg is a rare dish rice is often served in round Bowls the juice of lemons makes fine punch the box was thrown beside the park truck the dogs are fed chopped corn and garbage\n"
     ]
    }
   ],
   "source": [
    "# recoginize_() method will throw a request error if the API is unreachable, hence using exception handling\n",
    "try: \n",
    "    # using google speech recognition\n",
    "    text = r.recognize_google(audio_text)\n",
    "    print('Converting audio transcripts into text ...')\n",
    "    print(text) \n",
    "except:\n",
    "    print('Sorry.. run again...')"
   ]
  },
  {
   "cell_type": "markdown",
   "id": "609a0d17-4449-48e7-a9b7-b80c3fa794a1",
   "metadata": {},
   "source": [
    "### <b><font color='darkgreen'>How about converting different audio language?</font></b>\n",
    "For example, if we want to read a french language audio file, then <b>need to add language option in the recogonize_google. Remaining code remains the same. Please refer more on [the documentation](https://cloud.google.com/speech-to-text/docs/languages):\n",
    "```python\n",
    "#Adding french langauge option\r\n",
    "text = r.recognize_google(audio_text, language = \"fr-FR\")\n",
    "```"
   ]
  },
  {
   "cell_type": "markdown",
   "id": "0580dba4-9a59-4f41-83ff-6969b5b944e2",
   "metadata": {},
   "source": [
    "### <b><font color='darkgreen'>Microphone speech into text</font></b>\n",
    "In order to receive audio from the microphone, we follow below steps to achieve it:\n",
    "1. We need to install PyAudio library which used to receive audio input and output through the microphone and speaker. Basically, it helps to get our voice through the microphone."
   ]
  },
  {
   "cell_type": "code",
   "execution_count": 8,
   "id": "2335e2c5-db0b-4caa-b221-1c147f5cfe41",
   "metadata": {},
   "outputs": [],
   "source": [
    "#!pip install PyAudio"
   ]
  },
  {
   "cell_type": "markdown",
   "id": "19d58b6d-ec81-4ffd-b5f3-506cb96eca34",
   "metadata": {},
   "source": [
    "2. Instead of audio file source, we have to use the Microphone class. Remaining steps are the same.\n",
    "  \n",
    "```python\n",
    "#import library\r\n",
    "\r\n",
    "import speech_recognition as sr\r\n",
    "\r\n",
    "# Initialize recognizer class (for recognizing the speech)\r\n",
    "\r\n",
    "r = sr.Recognizer()\r\n",
    "\r\n",
    "# Reading Microphone as source\r\n",
    "# listening the speech and store in audio_text variable\r\n",
    "\r\n",
    "with sr.Microphone() as source:\r\n",
    "    print(\"Talk\")\r\n",
    "    audio_text = r.listen(source)\r\n",
    "    print(\"Time over, thanks\")\r\n",
    "# recoginize_() method will throw a request error if the API is unreachable, hence using exception handling\r\n",
    "    \r\n",
    "    try:\r\n",
    "        # using google speech recognition\r\n",
    "        print(\"Text: \"+r.recognize_google(audio_text))\r\n",
    "    except:\r\n",
    "         print(\"Sorry, I did not get that\")\n",
    "```"
   ]
  },
  {
   "cell_type": "markdown",
   "id": "73139ba3-02be-4da2-9619-ca3010288d98",
   "metadata": {},
   "source": [
    "### <b><font color='darkgreen'>How about talking in a different language?</font></b>\n",
    "Again, we need to add the required language option in the <font color='blue'>recognize_google()</font>. I am talking in Tamil, Indian language and adding “ta-IN” in the language option:\n",
    "```python\n",
    "# Adding \"tamil language\"\r\n",
    "print(“Text: “+r.recognize_google(audio_text, language = “ta-IN”))\n",
    "```"
   ]
  },
  {
   "cell_type": "markdown",
   "id": "ff815cce-5918-4b2c-84d5-2b7844a99464",
   "metadata": {},
   "source": [
    "## <b><font color='darkblue'>Summary</font></b>\n",
    "<b><font size='3ptx'>Google speech recognition API is an easy method to convert speech into text, but it requires an internet connection to operate.</font></b>\n",
    "\n",
    "In this blog, we have seen how to convert the speech into text using Google speech recognition API. This would be very helpful for NLP projects especially handling audio transcripts data.  You can also read [this article on KDnuggets](https://www.kdnuggets.com/2020/06/easy-speech-text-python.html)."
   ]
  },
  {
   "cell_type": "markdown",
   "id": "844b78d9-cd28-4515-a5ff-ff0793b7c64d",
   "metadata": {},
   "source": [
    "## <b><font color='darkblue'>Supplement</font></b>\n",
    "* [OPEN - The Open Speech Repository](https://www.voiptroubleshooter.com/open_speech/american.html)"
   ]
  }
 ],
 "metadata": {
  "kernelspec": {
   "display_name": "Python 3 (ipykernel)",
   "language": "python",
   "name": "python3"
  },
  "language_info": {
   "codemirror_mode": {
    "name": "ipython",
    "version": 3
   },
   "file_extension": ".py",
   "mimetype": "text/x-python",
   "name": "python",
   "nbconvert_exporter": "python",
   "pygments_lexer": "ipython3",
   "version": "3.11.5"
  }
 },
 "nbformat": 4,
 "nbformat_minor": 5
}
