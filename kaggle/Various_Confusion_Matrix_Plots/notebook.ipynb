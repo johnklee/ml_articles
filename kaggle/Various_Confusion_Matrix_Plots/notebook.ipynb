{
 "cells": [
  {
   "cell_type": "markdown",
   "metadata": {},
   "source": [
    "<a id='sect0'></a>\n",
    "## <font color='darkblue'>Preface</font>\n",
    "([article source](https://www.kaggle.com/agungor2/various-confusion-matrix-plots)) <font size='3ptx'>**In a typical supervised learning problem setting, confusion matrix is used to layout the performance of an algorithm.**</font>\n",
    "\n",
    "By looking at the confusion matrix, we can understand how well the algorithm works for specific class of choosing. It's commonly used to describe the performance of a classification model. **I wanted to create a quick reference guide and include various different libraries to plot confusion matrix so that you can use any one of them in your workload.**"
   ]
  },
  {
   "cell_type": "markdown",
   "metadata": {},
   "source": [
    "### <font color='darkgreen'>Table of Content:</font>\n",
    "0. <font size='3ptx'>[**Introduction of Confusion Matrix**](#cm)</font>\n",
    "  * [Classification Accuracy](#accuracy)\n",
    "  * [Classification Error](#classification_error)\n",
    "  * [Sensitivity](#sensitivity)\n",
    "  * [Specificity](#specificity)\n",
    "  * [False Positive Rate](#fpr)\n",
    "  * [Precision](#precision)\n",
    "1. <font size='3ptx'>[**Seaborn Heatmap**](#sect1)</font>\n",
    "2. <font size='3ptx'>[**Seaborn Heatmap More Analysis**](#sect2)</font>\n",
    "3. <font size='3ptx'>[**Interactive Plotting with Pygal**](#sect3)</font>\n",
    "4. <font size='3ptx'>[**Interactive Plotting with Altair**](#sect4)</font>\n",
    "5. <font size='3ptx'>[**Pandas Confusion Matrix**](#sect5)</font>\n",
    "6. <font size='3ptx'>[**Scikit-plot Confusion Matrix**](#sect6)</font>"
   ]
  },
  {
   "cell_type": "markdown",
   "metadata": {},
   "source": [
    "<a id='cm'></a>\n",
    "## <font color='darkblue'>Introduction of Confusion Matrix</font>\n",
    "Let's use a simple example to demonstrate the usage of [**confusion matrix**](https://en.wikipedia.org/wiki/Confusion_matrix). Here we will use dataset [Pima Indians Diabetes dataset](https://www.kaggle.com/uciml/pima-indians-diabetes-database) originally from the UCI Machine Learning Repository:"
   ]
  },
  {
   "cell_type": "code",
   "execution_count": 38,
   "metadata": {},
   "outputs": [],
   "source": [
    "# read the data into a pandas DataFrame\n",
    "import pandas as pd\n",
    "from sklearn import metrics\n",
    "\n",
    "path = '../../datas/kaggle_pima-indians-diabetes-database/diabetes.csv'\n",
    "pima = pd.read_csv(path)"
   ]
  },
  {
   "cell_type": "code",
   "execution_count": 30,
   "metadata": {},
   "outputs": [
    {
     "data": {
      "text/html": [
       "<div>\n",
       "<style scoped>\n",
       "    .dataframe tbody tr th:only-of-type {\n",
       "        vertical-align: middle;\n",
       "    }\n",
       "\n",
       "    .dataframe tbody tr th {\n",
       "        vertical-align: top;\n",
       "    }\n",
       "\n",
       "    .dataframe thead th {\n",
       "        text-align: right;\n",
       "    }\n",
       "</style>\n",
       "<table border=\"1\" class=\"dataframe\">\n",
       "  <thead>\n",
       "    <tr style=\"text-align: right;\">\n",
       "      <th></th>\n",
       "      <th>Pregnancies</th>\n",
       "      <th>Glucose</th>\n",
       "      <th>BloodPressure</th>\n",
       "      <th>SkinThickness</th>\n",
       "      <th>Insulin</th>\n",
       "      <th>BMI</th>\n",
       "      <th>DiabetesPedigreeFunction</th>\n",
       "      <th>Age</th>\n",
       "      <th>Outcome</th>\n",
       "    </tr>\n",
       "  </thead>\n",
       "  <tbody>\n",
       "    <tr>\n",
       "      <th>0</th>\n",
       "      <td>6</td>\n",
       "      <td>148</td>\n",
       "      <td>72</td>\n",
       "      <td>35</td>\n",
       "      <td>0</td>\n",
       "      <td>33.6</td>\n",
       "      <td>0.627</td>\n",
       "      <td>50</td>\n",
       "      <td>1</td>\n",
       "    </tr>\n",
       "    <tr>\n",
       "      <th>1</th>\n",
       "      <td>1</td>\n",
       "      <td>85</td>\n",
       "      <td>66</td>\n",
       "      <td>29</td>\n",
       "      <td>0</td>\n",
       "      <td>26.6</td>\n",
       "      <td>0.351</td>\n",
       "      <td>31</td>\n",
       "      <td>0</td>\n",
       "    </tr>\n",
       "    <tr>\n",
       "      <th>2</th>\n",
       "      <td>8</td>\n",
       "      <td>183</td>\n",
       "      <td>64</td>\n",
       "      <td>0</td>\n",
       "      <td>0</td>\n",
       "      <td>23.3</td>\n",
       "      <td>0.672</td>\n",
       "      <td>32</td>\n",
       "      <td>1</td>\n",
       "    </tr>\n",
       "    <tr>\n",
       "      <th>3</th>\n",
       "      <td>1</td>\n",
       "      <td>89</td>\n",
       "      <td>66</td>\n",
       "      <td>23</td>\n",
       "      <td>94</td>\n",
       "      <td>28.1</td>\n",
       "      <td>0.167</td>\n",
       "      <td>21</td>\n",
       "      <td>0</td>\n",
       "    </tr>\n",
       "    <tr>\n",
       "      <th>4</th>\n",
       "      <td>0</td>\n",
       "      <td>137</td>\n",
       "      <td>40</td>\n",
       "      <td>35</td>\n",
       "      <td>168</td>\n",
       "      <td>43.1</td>\n",
       "      <td>2.288</td>\n",
       "      <td>33</td>\n",
       "      <td>1</td>\n",
       "    </tr>\n",
       "  </tbody>\n",
       "</table>\n",
       "</div>"
      ],
      "text/plain": [
       "   Pregnancies  Glucose  BloodPressure  SkinThickness  Insulin   BMI  \\\n",
       "0            6      148             72             35        0  33.6   \n",
       "1            1       85             66             29        0  26.6   \n",
       "2            8      183             64              0        0  23.3   \n",
       "3            1       89             66             23       94  28.1   \n",
       "4            0      137             40             35      168  43.1   \n",
       "\n",
       "   DiabetesPedigreeFunction  Age  Outcome  \n",
       "0                     0.627   50        1  \n",
       "1                     0.351   31        0  \n",
       "2                     0.672   32        1  \n",
       "3                     0.167   21        0  \n",
       "4                     2.288   33        1  "
      ]
     },
     "execution_count": 30,
     "metadata": {},
     "output_type": "execute_result"
    }
   ],
   "source": [
    "# print the first 5 rows of data\n",
    "pima.head()"
   ]
  },
  {
   "cell_type": "code",
   "execution_count": 33,
   "metadata": {},
   "outputs": [],
   "source": [
    "# define X and y\n",
    "feature_cols = ['Pregnancies', 'Insulin', 'BMI', 'Age']\n",
    "X = pima[feature_cols]\n",
    "y = pima.Outcome"
   ]
  },
  {
   "cell_type": "code",
   "execution_count": 34,
   "metadata": {},
   "outputs": [],
   "source": [
    "# split X and y into training and testing sets\n",
    "from sklearn.model_selection import train_test_split\n",
    "X_train, X_test, y_train, y_test = train_test_split(X, y, random_state=0)"
   ]
  },
  {
   "cell_type": "code",
   "execution_count": 35,
   "metadata": {},
   "outputs": [
    {
     "data": {
      "text/plain": [
       "LogisticRegression(C=1.0, class_weight=None, dual=False, fit_intercept=True,\n",
       "                   intercept_scaling=1, l1_ratio=None, max_iter=100,\n",
       "                   multi_class='auto', n_jobs=None, penalty='l2',\n",
       "                   random_state=None, solver='liblinear', tol=0.0001, verbose=0,\n",
       "                   warm_start=False)"
      ]
     },
     "execution_count": 35,
     "metadata": {},
     "output_type": "execute_result"
    }
   ],
   "source": [
    "# train a logistic regression model on the training set\n",
    "from sklearn.linear_model import LogisticRegression\n",
    "logreg = LogisticRegression(solver='liblinear')\n",
    "logreg.fit(X_train, y_train)"
   ]
  },
  {
   "cell_type": "code",
   "execution_count": 36,
   "metadata": {},
   "outputs": [],
   "source": [
    "# make class predictions for the testing set\n",
    "y_pred_class = logreg.predict(X_test)"
   ]
  },
  {
   "cell_type": "markdown",
   "metadata": {},
   "source": [
    "Now let's explore termologies used in Confusion Matrix:"
   ]
  },
  {
   "cell_type": "code",
   "execution_count": 39,
   "metadata": {},
   "outputs": [
    {
     "name": "stdout",
     "output_type": "stream",
     "text": [
      "[[118  12]\n",
      " [ 47  15]]\n"
     ]
    }
   ],
   "source": [
    "# IMPORTANT: first argument is true values, second argument is predicted values\n",
    "print(metrics.confusion_matrix(y_test, y_pred_class))"
   ]
  },
  {
   "cell_type": "markdown",
   "metadata": {},
   "source": [
    "![1.png](images/1.png)\n",
    "<br/>\n",
    "**Basic terminology**\n",
    "- **True Positives (TP):** we *correctly* predicted that they *do* have diabetes\n",
    "- **True Negatives (TN):** we *correctly* predicted that they *don't* have diabetes\n",
    "- **False Positives (FP):** we *incorrectly* predicted that they *do* have diabetes (a \"Type I error\")\n",
    "- **False Negatives (FN):** we *incorrectly* predicted that they *don't* have diabetes (a \"Type II error\")"
   ]
  },
  {
   "cell_type": "code",
   "execution_count": 40,
   "metadata": {},
   "outputs": [],
   "source": [
    "# save confusion matrix and slice into four pieces\n",
    "confusion = metrics.confusion_matrix(y_test, y_pred_class)\n",
    "TP = confusion[1, 1]\n",
    "TN = confusion[0, 0]\n",
    "FP = confusion[0, 1]\n",
    "FN = confusion[1, 0]"
   ]
  },
  {
   "cell_type": "markdown",
   "metadata": {},
   "source": [
    "<a id='accuracy'></a>\n",
    "### <font color='darkgreen'>Classification Accuracy</font>\n",
    "Overall, how often is the classifier correct?"
   ]
  },
  {
   "cell_type": "code",
   "execution_count": 41,
   "metadata": {},
   "outputs": [
    {
     "name": "stdout",
     "output_type": "stream",
     "text": [
      "0.6927083333333334\n",
      "0.6927083333333334\n"
     ]
    }
   ],
   "source": [
    "print((TP + TN) / (TP + TN + FP + FN))\n",
    "print(metrics.accuracy_score(y_test, y_pred_class))"
   ]
  },
  {
   "cell_type": "markdown",
   "metadata": {},
   "source": [
    "<a id='classification_error'></a>\n",
    "### <font color='darkgreen'>Classification Error</font>\n",
    "Overall, how often is the classifier incorrect? (Also known as \"Misclassification Rate\")"
   ]
  },
  {
   "cell_type": "code",
   "execution_count": 42,
   "metadata": {},
   "outputs": [
    {
     "name": "stdout",
     "output_type": "stream",
     "text": [
      "0.3072916666666667\n",
      "0.30729166666666663\n"
     ]
    }
   ],
   "source": [
    "print((FP + FN) / (TP + TN + FP + FN))\n",
    "print(1 - metrics.accuracy_score(y_test, y_pred_class))"
   ]
  },
  {
   "cell_type": "markdown",
   "metadata": {},
   "source": [
    "<a id='sensitivity'></a>\n",
    "### <font color='darkgreen'>Sensitivity</font>\n",
    "When the actual value is positive, how often is the prediction correct?\n",
    "* How \"sensitive\" is the classifier to detecting positive instances?\n",
    "* Also known as \"True Positive Rate\" or \"Recall\""
   ]
  },
  {
   "cell_type": "code",
   "execution_count": 43,
   "metadata": {},
   "outputs": [
    {
     "name": "stdout",
     "output_type": "stream",
     "text": [
      "0.24193548387096775\n",
      "0.24193548387096775\n"
     ]
    }
   ],
   "source": [
    "print(TP / (TP + FN))\n",
    "print(metrics.recall_score(y_test, y_pred_class))"
   ]
  },
  {
   "cell_type": "markdown",
   "metadata": {},
   "source": [
    "<a id='specificity'></a>\n",
    "### <font color='darkgreen'>Specificity</font>\n",
    "When the actual value is negative, how often is the prediction correct?\n",
    "* How \"specific\" (or \"selective\") is the classifier in predicting positive instances?"
   ]
  },
  {
   "cell_type": "code",
   "execution_count": 44,
   "metadata": {},
   "outputs": [
    {
     "name": "stdout",
     "output_type": "stream",
     "text": [
      "0.9076923076923077\n"
     ]
    }
   ],
   "source": [
    "print(TN / (TN + FP))"
   ]
  },
  {
   "cell_type": "markdown",
   "metadata": {},
   "source": [
    "<a id='fpr'></a>\n",
    "### <font color='darkgreen'>False Positive Rate</font>\n",
    "When the actual value is negative, how often is the prediction incorrect?"
   ]
  },
  {
   "cell_type": "code",
   "execution_count": 45,
   "metadata": {},
   "outputs": [
    {
     "name": "stdout",
     "output_type": "stream",
     "text": [
      "0.09230769230769231\n"
     ]
    }
   ],
   "source": [
    "print(FP / (TN + FP))"
   ]
  },
  {
   "cell_type": "markdown",
   "metadata": {},
   "source": [
    "<a id='precision'></a>\n",
    "### <font color='darkgreen'>Precision</font>\n",
    "When a positive value is predicted, how often is the prediction correct?\n",
    "* How \"precise\" is the classifier when predicting positive instances?"
   ]
  },
  {
   "cell_type": "code",
   "execution_count": 46,
   "metadata": {},
   "outputs": [
    {
     "name": "stdout",
     "output_type": "stream",
     "text": [
      "0.5555555555555556\n",
      "0.5555555555555556\n"
     ]
    }
   ],
   "source": [
    "print(TP / (TP + FP))\n",
    "print(metrics.precision_score(y_test, y_pred_class))"
   ]
  },
  {
   "cell_type": "markdown",
   "metadata": {},
   "source": [
    "<a id='sect1'></a>\n",
    "## <font color='darkblue'>1. Seaborn Heatmap</font> ([back](#sect0))"
   ]
  },
  {
   "cell_type": "code",
   "execution_count": 48,
   "metadata": {},
   "outputs": [
    {
     "data": {
      "text/plain": [
       "<AxesSubplot:xlabel='Predicted', ylabel='Actual'>"
      ]
     },
     "execution_count": 48,
     "metadata": {},
     "output_type": "execute_result"
    },
    {
     "data": {
      "image/png": "[encoded data removed]",
      "text/plain": [
       "<Figure size 576x432 with 2 Axes>"
      ]
     },
     "metadata": {
      "needs_background": "light"
     },
     "output_type": "display_data"
    }
   ],
   "source": [
    "from sklearn.metrics import confusion_matrix\n",
    "import pandas as pd\n",
    "import seaborn as sn\n",
    "import matplotlib.pyplot as plt\n",
    "%matplotlib inline\n",
    "import numpy as np\n",
    "\n",
    "y_true = [\"honda\", \"chevrolet\", \"honda\", \"toyota\", \"toyota\", \"chevrolet\"]\n",
    "y_pred = [\"honda\", \"chevrolet\", \"honda\", \"toyota\", \"toyota\", \"honda\"]\n",
    "data = confusion_matrix(y_true, y_pred)\n",
    "df_cm = pd.DataFrame(data, columns=np.unique(y_true), index = np.unique(y_true))\n",
    "df_cm.index.name = 'Actual'\n",
    "df_cm.columns.name = 'Predicted'\n",
    "plt.figure(figsize = (8,6))\n",
    "sn.set(font_scale=1.4)#for label size\n",
    "sn.heatmap(df_cm, cmap=\"Blues\", annot=True,annot_kws={\"size\": 16})# font size"
   ]
  },
  {
   "cell_type": "markdown",
   "metadata": {},
   "source": [
    "<a id='sect2'></a>\n",
    "## <font color='darkblue'>2. Seaborn Heatmap More Analysis</font> ([back](#sect0))"
   ]
  },
  {
   "cell_type": "code",
   "execution_count": 50,
   "metadata": {},
   "outputs": [
    {
     "data": {
      "image/png": "[encoded data removed]",
      "text/plain": [
       "<Figure size 576x432 with 2 Axes>"
      ]
     },
     "metadata": {
      "needs_background": "light"
     },
     "output_type": "display_data"
    }
   ],
   "source": [
    "import numpy as np\n",
    "import pandas as pd\n",
    "import matplotlib.pyplot as plt\n",
    "%matplotlib inline\n",
    "import seaborn as sns\n",
    "from sklearn.metrics import confusion_matrix\n",
    "\n",
    "def plot_cm(y_true, y_pred, figsize=(8, 6)):\n",
    "    cm = confusion_matrix(y_true, y_pred, labels=np.unique(y_true))\n",
    "    cm_sum = np.sum(cm, axis=1, keepdims=True)\n",
    "    cm_perc = cm / cm_sum.astype(float) * 100\n",
    "    annot = np.empty_like(cm).astype(str)\n",
    "    nrows, ncols = cm.shape\n",
    "    for i in range(nrows):\n",
    "        for j in range(ncols):\n",
    "            c = cm[i, j]\n",
    "            p = cm_perc[i, j]\n",
    "            if i == j:\n",
    "                s = cm_sum[i]\n",
    "                annot[i, j] = '%.1f%%\\n%d/%d' % (p, c, s)\n",
    "            elif c == 0:\n",
    "                annot[i, j] = ''\n",
    "            else:\n",
    "                annot[i, j] = '%.1f%%\\n%d' % (p, c)\n",
    "    cm = pd.DataFrame(cm, index=np.unique(y_true), columns=np.unique(y_true))\n",
    "    cm.index.name = 'Actual'\n",
    "    cm.columns.name = 'Predicted'\n",
    "    fig, ax = plt.subplots(figsize=figsize)\n",
    "    sns.heatmap(cm, cmap= \"YlGnBu\", annot=annot, fmt='', ax=ax)\n",
    "    \n",
    "plot_cm(y_true, y_pred)"
   ]
  },
  {
   "cell_type": "markdown",
   "metadata": {},
   "source": [
    "<a id='sect3'></a>\n",
    "## <font color='darkblue'>3. Interactive Plotting with Pygal </font> ([back](#sect0))\n",
    "Dependecies : [**pygal**](http://www.pygal.org/en/stable/)"
   ]
  },
  {
   "cell_type": "code",
   "execution_count": 4,
   "metadata": {},
   "outputs": [],
   "source": [
    "#!pip -q install pygal"
   ]
  },
  {
   "cell_type": "code",
   "execution_count": 5,
   "metadata": {},
   "outputs": [
    {
     "data": {
      "text/html": [
       "\n",
       "<!DOCTYPE html>\n",
       "<html>\n",
       "  <head>\n",
       "  <script type=\"text/javascript\" src=\"http://kozea.github.com/pygal.js/javascripts/svg.jquery.js\"></script>\n",
       "  <script type=\"text/javascript\" src=\"https://kozea.github.io/pygal.js/2.0.x/pygal-tooltips.min.js\"\"></script>\n",
       "  </head>\n",
       "  <body>\n",
       "    <figure>\n",
       "      <?xml version='1.0' encoding='utf-8'?>\n",
       "<svg xmlns=\"http://www.w3.org/2000/svg\" xmlns:xlink=\"http://www.w3.org/1999/xlink\" id=\"chart-481ce60c-7781-468e-ba72-f681e5a510c9\" class=\"pygal-chart\" viewBox=\"0 0 800 600\"><!--Generated with pygal 2.4.0 (lxml) ©Kozea 2012-2016 on 2021-05-02--><!--http://pygal.org--><!--http://github.com/Kozea/pygal--><defs><style type=\"text/css\">#chart-481ce60c-7781-468e-ba72-f681e5a510c9{-webkit-user-select:none;-webkit-font-smoothing:antialiased;font-family:Consolas,\"Liberation Mono\",Menlo,Courier,monospace}#chart-481ce60c-7781-468e-ba72-f681e5a510c9 .title{font-family:Consolas,\"Liberation Mono\",Menlo,Courier,monospace;font-size:16px}#chart-481ce60c-7781-468e-ba72-f681e5a510c9 .legends .legend text{font-family:Consolas,\"Liberation Mono\",Menlo,Courier,monospace;font-size:14px}#chart-481ce60c-7781-468e-ba72-f681e5a510c9 .axis text{font-family:Consolas,\"Liberation Mono\",Menlo,Courier,monospace;font-size:10px}#chart-481ce60c-7781-468e-ba72-f681e5a510c9 .axis text.major{font-family:Consolas,\"Liberation Mono\",Menlo,Courier,monospace;font-size:10px}#chart-481ce60c-7781-468e-ba72-f681e5a510c9 .text-overlay text.value{font-family:Consolas,\"Liberation Mono\",Menlo,Courier,monospace;font-size:16px}#chart-481ce60c-7781-468e-ba72-f681e5a510c9 .text-overlay text.label{font-family:Consolas,\"Liberation Mono\",Menlo,Courier,monospace;font-size:10px}#chart-481ce60c-7781-468e-ba72-f681e5a510c9 .tooltip{font-family:Consolas,\"Liberation Mono\",Menlo,Courier,monospace;font-size:14px}#chart-481ce60c-7781-468e-ba72-f681e5a510c9 text.no_data{font-family:Consolas,\"Liberation Mono\",Menlo,Courier,monospace;font-size:64px}\n",
       "#chart-481ce60c-7781-468e-ba72-f681e5a510c9{background-color:#f9f9fa}#chart-481ce60c-7781-468e-ba72-f681e5a510c9 path,#chart-481ce60c-7781-468e-ba72-f681e5a510c9 line,#chart-481ce60c-7781-468e-ba72-f681e5a510c9 rect,#chart-481ce60c-7781-468e-ba72-f681e5a510c9 circle{-webkit-transition:150ms;-moz-transition:150ms;transition:150ms}#chart-481ce60c-7781-468e-ba72-f681e5a510c9 .graph &gt; .background{fill:#f9f9fa}#chart-481ce60c-7781-468e-ba72-f681e5a510c9 .plot &gt; .background{fill:#ffffff}#chart-481ce60c-7781-468e-ba72-f681e5a510c9 .graph{fill:rgba(0,0,0,0.9)}#chart-481ce60c-7781-468e-ba72-f681e5a510c9 text.no_data{fill:rgba(0,0,0,0.9)}#chart-481ce60c-7781-468e-ba72-f681e5a510c9 .title{fill:rgba(0,0,0,0.9)}#chart-481ce60c-7781-468e-ba72-f681e5a510c9 .legends .legend text{fill:rgba(0,0,0,0.9)}#chart-481ce60c-7781-468e-ba72-f681e5a510c9 .legends .legend:hover text{fill:rgba(0,0,0,0.9)}#chart-481ce60c-7781-468e-ba72-f681e5a510c9 .axis .line{stroke:rgba(0,0,0,0.9)}#chart-481ce60c-7781-468e-ba72-f681e5a510c9 .axis .guide.line{stroke:rgba(0,0,0,0.5)}#chart-481ce60c-7781-468e-ba72-f681e5a510c9 .axis .major.line{stroke:rgba(0,0,0,0.9)}#chart-481ce60c-7781-468e-ba72-f681e5a510c9 .axis text.major{fill:rgba(0,0,0,0.9)}#chart-481ce60c-7781-468e-ba72-f681e5a510c9 .axis.y .guides:hover .guide.line,#chart-481ce60c-7781-468e-ba72-f681e5a510c9 .line-graph .axis.x .guides:hover .guide.line,#chart-481ce60c-7781-468e-ba72-f681e5a510c9 .stackedline-graph .axis.x .guides:hover .guide.line,#chart-481ce60c-7781-468e-ba72-f681e5a510c9 .xy-graph .axis.x .guides:hover .guide.line{stroke:rgba(0,0,0,0.9)}#chart-481ce60c-7781-468e-ba72-f681e5a510c9 .axis .guides:hover text{fill:rgba(0,0,0,0.9)}#chart-481ce60c-7781-468e-ba72-f681e5a510c9 .reactive{fill-opacity:.6;stroke-opacity:.8}#chart-481ce60c-7781-468e-ba72-f681e5a510c9 .ci{stroke:rgba(0,0,0,0.9)}#chart-481ce60c-7781-468e-ba72-f681e5a510c9 .reactive.active,#chart-481ce60c-7781-468e-ba72-f681e5a510c9 .active .reactive{fill-opacity:.9;stroke-opacity:.9;stroke-width:4}#chart-481ce60c-7781-468e-ba72-f681e5a510c9 .ci .reactive.active{stroke-width:1.5}#chart-481ce60c-7781-468e-ba72-f681e5a510c9 .series text{fill:rgba(0,0,0,0.9)}#chart-481ce60c-7781-468e-ba72-f681e5a510c9 .tooltip rect{fill:#ffffff;stroke:rgba(0,0,0,0.9);-webkit-transition:opacity 150ms;-moz-transition:opacity 150ms;transition:opacity 150ms}#chart-481ce60c-7781-468e-ba72-f681e5a510c9 .tooltip .label{fill:rgba(0,0,0,0.9)}#chart-481ce60c-7781-468e-ba72-f681e5a510c9 .tooltip .label{fill:rgba(0,0,0,0.9)}#chart-481ce60c-7781-468e-ba72-f681e5a510c9 .tooltip .legend{font-size:.8em;fill:rgba(0,0,0,0.5)}#chart-481ce60c-7781-468e-ba72-f681e5a510c9 .tooltip .x_label{font-size:.6em;fill:rgba(0,0,0,0.9)}#chart-481ce60c-7781-468e-ba72-f681e5a510c9 .tooltip .xlink{font-size:.5em;text-decoration:underline}#chart-481ce60c-7781-468e-ba72-f681e5a510c9 .tooltip .value{font-size:1.5em}#chart-481ce60c-7781-468e-ba72-f681e5a510c9 .bound{font-size:.5em}#chart-481ce60c-7781-468e-ba72-f681e5a510c9 .max-value{font-size:.75em;fill:rgba(0,0,0,0.5)}#chart-481ce60c-7781-468e-ba72-f681e5a510c9 .map-element{fill:#ffffff;stroke:rgba(0,0,0,0.5) !important}#chart-481ce60c-7781-468e-ba72-f681e5a510c9 .map-element .reactive{fill-opacity:inherit;stroke-opacity:inherit}#chart-481ce60c-7781-468e-ba72-f681e5a510c9 .color-0,#chart-481ce60c-7781-468e-ba72-f681e5a510c9 .color-0 a:visited{stroke:#d94e4c;fill:#d94e4c}#chart-481ce60c-7781-468e-ba72-f681e5a510c9 .color-1,#chart-481ce60c-7781-468e-ba72-f681e5a510c9 .color-1 a:visited{stroke:#e5884f;fill:#e5884f}#chart-481ce60c-7781-468e-ba72-f681e5a510c9 .color-2,#chart-481ce60c-7781-468e-ba72-f681e5a510c9 .color-2 a:visited{stroke:#39929a;fill:#39929a}#chart-481ce60c-7781-468e-ba72-f681e5a510c9 .text-overlay .color-0 text{fill:black}#chart-481ce60c-7781-468e-ba72-f681e5a510c9 .text-overlay .color-1 text{fill:black}#chart-481ce60c-7781-468e-ba72-f681e5a510c9 .text-overlay .color-2 text{fill:black}\n",
       "#chart-481ce60c-7781-468e-ba72-f681e5a510c9 text.no_data{text-anchor:middle}#chart-481ce60c-7781-468e-ba72-f681e5a510c9 .guide.line{fill:none}#chart-481ce60c-7781-468e-ba72-f681e5a510c9 .centered{text-anchor:middle}#chart-481ce60c-7781-468e-ba72-f681e5a510c9 .title{text-anchor:middle}#chart-481ce60c-7781-468e-ba72-f681e5a510c9 .legends .legend text{fill-opacity:1}#chart-481ce60c-7781-468e-ba72-f681e5a510c9 .axis.x text{text-anchor:middle}#chart-481ce60c-7781-468e-ba72-f681e5a510c9 .axis.x:not(.web) text[transform]{text-anchor:start}#chart-481ce60c-7781-468e-ba72-f681e5a510c9 .axis.x:not(.web) text[transform].backwards{text-anchor:end}#chart-481ce60c-7781-468e-ba72-f681e5a510c9 .axis.y text{text-anchor:end}#chart-481ce60c-7781-468e-ba72-f681e5a510c9 .axis.y text[transform].backwards{text-anchor:start}#chart-481ce60c-7781-468e-ba72-f681e5a510c9 .axis.y2 text{text-anchor:start}#chart-481ce60c-7781-468e-ba72-f681e5a510c9 .axis.y2 text[transform].backwards{text-anchor:end}#chart-481ce60c-7781-468e-ba72-f681e5a510c9 .axis .guide.line{stroke-dasharray:4,4}#chart-481ce60c-7781-468e-ba72-f681e5a510c9 .axis .major.guide.line{stroke-dasharray:6,6}#chart-481ce60c-7781-468e-ba72-f681e5a510c9 .horizontal .axis.y .guide.line,#chart-481ce60c-7781-468e-ba72-f681e5a510c9 .horizontal .axis.y2 .guide.line,#chart-481ce60c-7781-468e-ba72-f681e5a510c9 .vertical .axis.x .guide.line{opacity:0}#chart-481ce60c-7781-468e-ba72-f681e5a510c9 .horizontal .axis.always_show .guide.line,#chart-481ce60c-7781-468e-ba72-f681e5a510c9 .vertical .axis.always_show .guide.line{opacity:1 !important}#chart-481ce60c-7781-468e-ba72-f681e5a510c9 .axis.y .guides:hover .guide.line,#chart-481ce60c-7781-468e-ba72-f681e5a510c9 .axis.y2 .guides:hover .guide.line,#chart-481ce60c-7781-468e-ba72-f681e5a510c9 .axis.x .guides:hover .guide.line{opacity:1}#chart-481ce60c-7781-468e-ba72-f681e5a510c9 .axis .guides:hover text{opacity:1}#chart-481ce60c-7781-468e-ba72-f681e5a510c9 .nofill{fill:none}#chart-481ce60c-7781-468e-ba72-f681e5a510c9 .subtle-fill{fill-opacity:.2}#chart-481ce60c-7781-468e-ba72-f681e5a510c9 .dot{stroke-width:1px;fill-opacity:1}#chart-481ce60c-7781-468e-ba72-f681e5a510c9 .dot.active{stroke-width:5px}#chart-481ce60c-7781-468e-ba72-f681e5a510c9 .dot.negative{fill:transparent}#chart-481ce60c-7781-468e-ba72-f681e5a510c9 text,#chart-481ce60c-7781-468e-ba72-f681e5a510c9 tspan{stroke:none !important}#chart-481ce60c-7781-468e-ba72-f681e5a510c9 .series text.active{opacity:1}#chart-481ce60c-7781-468e-ba72-f681e5a510c9 .tooltip rect{fill-opacity:.95;stroke-width:.5}#chart-481ce60c-7781-468e-ba72-f681e5a510c9 .tooltip text{fill-opacity:1}#chart-481ce60c-7781-468e-ba72-f681e5a510c9 .showable{visibility:hidden}#chart-481ce60c-7781-468e-ba72-f681e5a510c9 .showable.shown{visibility:visible}#chart-481ce60c-7781-468e-ba72-f681e5a510c9 .gauge-background{fill:rgba(229,229,229,1);stroke:none}#chart-481ce60c-7781-468e-ba72-f681e5a510c9 .bg-lines{stroke:#f9f9fa;stroke-width:2px}</style><script type=\"text/javascript\">window.pygal = window.pygal || {};window.pygal.config = window.pygal.config || {};window.pygal.config['481ce60c-7781-468e-ba72-f681e5a510c9'] = {\"allow_interruptions\": false, \"box_mode\": \"extremes\", \"classes\": [\"pygal-chart\"], \"css\": [\"file://style.css\", \"file://graph.css\"], \"defs\": [], \"disable_xml_declaration\": false, \"dots_size\": 2.5, \"dynamic_print_values\": false, \"explicit_size\": false, \"fill\": false, \"force_uri_protocol\": \"https\", \"formatter\": null, \"half_pie\": false, \"height\": 600, \"include_x_axis\": false, \"inner_radius\": 0, \"interpolate\": \"cubic\", \"interpolation_parameters\": {}, \"interpolation_precision\": 250, \"inverse_y_axis\": false, \"js\": [\"//kozea.github.io/pygal.js/2.0.x/pygal-tooltips.min.js\"], \"legend_at_bottom\": false, \"legend_at_bottom_columns\": null, \"legend_box_size\": 12, \"logarithmic\": false, \"margin\": 20, \"margin_bottom\": null, \"margin_left\": null, \"margin_right\": null, \"margin_top\": null, \"max_scale\": 16, \"min_scale\": 4, \"missing_value_fill_truncation\": \"x\", \"no_data_text\": \"No data\", \"no_prefix\": false, \"order_min\": null, \"pretty_print\": false, \"print_labels\": false, \"print_values\": false, \"print_values_position\": \"center\", \"print_zeroes\": true, \"range\": null, \"rounded_bars\": null, \"secondary_range\": null, \"show_dots\": true, \"show_legend\": true, \"show_minor_x_labels\": true, \"show_minor_y_labels\": true, \"show_only_major_dots\": false, \"show_x_guides\": false, \"show_x_labels\": true, \"show_y_guides\": true, \"show_y_labels\": true, \"spacing\": 10, \"stack_from_top\": false, \"strict\": false, \"stroke\": true, \"stroke_style\": null, \"style\": {\"background\": \"#f9f9fa\", \"ci_colors\": [], \"colors\": [\"#d94e4c\", \"#e5884f\", \"#39929a\", \"#e27876\", \"#245d62\", \"#f0bb9b\", \"#c82d2a\", \"#234547\"], \"font_family\": \"Consolas, \\\"Liberation Mono\\\", Menlo, Courier, monospace\", \"foreground\": \"rgba(0, 0, 0, 0.9)\", \"foreground_strong\": \"rgba(0, 0, 0, 0.9)\", \"foreground_subtle\": \"rgba(0, 0, 0, 0.5)\", \"guide_stroke_dasharray\": \"4,4\", \"label_font_family\": \"Consolas, \\\"Liberation Mono\\\", Menlo, Courier, monospace\", \"label_font_size\": 10, \"legend_font_family\": \"Consolas, \\\"Liberation Mono\\\", Menlo, Courier, monospace\", \"legend_font_size\": 14, \"major_guide_stroke_dasharray\": \"6,6\", \"major_label_font_family\": \"Consolas, \\\"Liberation Mono\\\", Menlo, Courier, monospace\", \"major_label_font_size\": 10, \"no_data_font_family\": \"Consolas, \\\"Liberation Mono\\\", Menlo, Courier, monospace\", \"no_data_font_size\": 64, \"opacity\": \".6\", \"opacity_hover\": \".9\", \"plot_background\": \"#ffffff\", \"stroke_opacity\": \".8\", \"stroke_opacity_hover\": \".9\", \"title_font_family\": \"Consolas, \\\"Liberation Mono\\\", Menlo, Courier, monospace\", \"title_font_size\": 16, \"tooltip_font_family\": \"Consolas, \\\"Liberation Mono\\\", Menlo, Courier, monospace\", \"tooltip_font_size\": 14, \"transition\": \"150ms\", \"value_background\": \"rgba(229, 229, 229, 1)\", \"value_colors\": [], \"value_font_family\": \"Consolas, \\\"Liberation Mono\\\", Menlo, Courier, monospace\", \"value_font_size\": 16, \"value_label_font_family\": \"Consolas, \\\"Liberation Mono\\\", Menlo, Courier, monospace\", \"value_label_font_size\": 10}, \"title\": \"Confusion Matrix\", \"tooltip_border_radius\": 0, \"tooltip_fancy_mode\": true, \"truncate_label\": null, \"truncate_legend\": null, \"width\": 800, \"x_label_rotation\": 30, \"x_labels\": [\"chevrolet\", \"honda\", \"toyota\"], \"x_labels_major\": null, \"x_labels_major_count\": null, \"x_labels_major_every\": null, \"x_title\": \"Predicted\", \"xrange\": null, \"y_label_rotation\": 0, \"y_labels\": null, \"y_labels_major\": null, \"y_labels_major_count\": null, \"y_labels_major_every\": null, \"y_title\": \"Actual\", \"zero\": 0, \"legends\": [\"chevrolet\", \"honda\", \"toyota\"]}</script><script type=\"text/javascript\" xlink:href=\"https://kozea.github.io/pygal.js/2.0.x/pygal-tooltips.min.js\"/></defs><title>Confusion Matrix</title><g class=\"graph dot-graph vertical\"><rect x=\"0\" y=\"0\" width=\"800\" height=\"600\" class=\"background\"/><g transform=\"translate(207, 46)\" class=\"plot\"><rect x=\"0\" y=\"0\" width=\"545.6346281956403\" height=\"471.0\" class=\"background\"/><g class=\"axis y always_show\"><path d=\"M0.000000 471.000000 h545.634628\" class=\"line\"/><g class=\"guides\"><path d=\"M0.000000 84.538462 h545.634628\" class=\"guide line\"/><text x=\"-5\" y=\"88.03846153846155\" class=\"\">chevrolet</text><title>2.5</title></g><g class=\"guides\"><path d=\"M0.000000 235.500000 h545.634628\" class=\"guide line\"/><text x=\"-5\" y=\"239.0\" class=\"\">honda</text><title>1.5</title></g><g class=\"guides\"><path d=\"M0.000000 386.461538 h545.634628\" class=\"guide line\"/><text x=\"-5\" y=\"389.96153846153845\" class=\"\">toyota</text><title>0.5</title></g></g><g class=\"axis x\"><path d=\"M0.000000 0.000000 v471.000000\" class=\"line\"/><g class=\"guides\"><path d=\"M97.934420 0.000000 v471.000000\" class=\"guide line\"/><text x=\"97.93442044537134\" y=\"486.0\" class=\"\" transform=\"rotate(30 97.934420 486.000000)\">chevrolet</text></g><g class=\"guides\"><path d=\"M272.817314 0.000000 v471.000000\" class=\"guide line\"/><text x=\"272.81731409782014\" y=\"486.0\" class=\"\" transform=\"rotate(30 272.817314 486.000000)\">honda</text></g><g class=\"guides\"><path d=\"M447.700208 0.000000 v471.000000\" class=\"guide line\"/><text x=\"447.70020775026893\" y=\"486.0\" class=\"\" transform=\"rotate(30 447.700208 486.000000)\">toyota</text></g></g><g class=\"series serie-0 color-0\"><g class=\"dots\"><circle cx=\"97.93442044537134\" cy=\"84.53846153846155\" r=\"35.94322344322344\" class=\"dot reactive tooltip-trigger\"/><desc class=\"value\">1</desc><desc class=\"x centered\">97.93442044537134</desc><desc class=\"y centered\">84.53846153846155</desc><desc class=\"x_label\">chevrolet</desc></g><g class=\"dots\"><circle cx=\"272.81731409782014\" cy=\"84.53846153846155\" r=\"35.94322344322344\" class=\"dot reactive tooltip-trigger\"/><desc class=\"value\">1</desc><desc class=\"x centered\">272.81731409782014</desc><desc class=\"y centered\">84.53846153846155</desc><desc class=\"x_label\">honda</desc></g><g class=\"dots\"><circle cx=\"447.70020775026893\" cy=\"84.53846153846155\" r=\"0.0\" class=\"dot reactive tooltip-trigger\"/><desc class=\"value\">0</desc><desc class=\"x centered\">447.70020775026893</desc><desc class=\"y centered\">84.53846153846155</desc><desc class=\"x_label\">toyota</desc></g></g><g class=\"series serie-1 color-1\"><g class=\"dots\"><circle cx=\"97.93442044537134\" cy=\"235.5\" r=\"0.0\" class=\"dot reactive tooltip-trigger\"/><desc class=\"value\">0</desc><desc class=\"x centered\">97.93442044537134</desc><desc class=\"y centered\">235.5</desc><desc class=\"x_label\">chevrolet</desc></g><g class=\"dots\"><circle cx=\"272.81731409782014\" cy=\"235.5\" r=\"71.88644688644688\" class=\"dot reactive tooltip-trigger\"/><desc class=\"value\">2</desc><desc class=\"x centered\">272.81731409782014</desc><desc class=\"y centered\">235.5</desc><desc class=\"x_label\">honda</desc></g><g class=\"dots\"><circle cx=\"447.70020775026893\" cy=\"235.5\" r=\"0.0\" class=\"dot reactive tooltip-trigger\"/><desc class=\"value\">0</desc><desc class=\"x centered\">447.70020775026893</desc><desc class=\"y centered\">235.5</desc><desc class=\"x_label\">toyota</desc></g></g><g class=\"series serie-2 color-2\"><g class=\"dots\"><circle cx=\"97.93442044537134\" cy=\"386.46153846153845\" r=\"0.0\" class=\"dot reactive tooltip-trigger\"/><desc class=\"value\">0</desc><desc class=\"x centered\">97.93442044537134</desc><desc class=\"y centered\">386.46153846153845</desc><desc class=\"x_label\">chevrolet</desc></g><g class=\"dots\"><circle cx=\"272.81731409782014\" cy=\"386.46153846153845\" r=\"0.0\" class=\"dot reactive tooltip-trigger\"/><desc class=\"value\">0</desc><desc class=\"x centered\">272.81731409782014</desc><desc class=\"y centered\">386.46153846153845</desc><desc class=\"x_label\">honda</desc></g><g class=\"dots\"><circle cx=\"447.70020775026893\" cy=\"386.46153846153845\" r=\"71.88644688644688\" class=\"dot reactive tooltip-trigger\"/><desc class=\"value\">2</desc><desc class=\"x centered\">447.70020775026893</desc><desc class=\"y centered\">386.46153846153845</desc><desc class=\"x_label\">toyota</desc></g></g></g><g class=\"titles\"><text x=\"400.0\" y=\"26\" class=\"title plot_title\">Confusion Matrix</text><text x=\"480.41731409782017\" y=\"580.0\" class=\"title\">Predicted</text><text x=\"97.6\" y=\"307.5\" class=\"title\" transform=\"rotate(-90 97.600000 281.500000)\">Actual</text></g><g transform=\"translate(207, 46)\" class=\"plot overlay\"><g class=\"series serie-0 color-0\"/><g class=\"series serie-1 color-1\"/><g class=\"series serie-2 color-2\"/></g><g transform=\"translate(207, 46)\" class=\"plot text-overlay\"><g class=\"series serie-0 color-0\"/><g class=\"series serie-1 color-1\"/><g class=\"series serie-2 color-2\"/></g><g transform=\"translate(207, 46)\" class=\"plot tooltip-overlay\"><g transform=\"translate(0 0)\" style=\"opacity: 0\" class=\"tooltip\"><rect rx=\"0\" ry=\"0\" width=\"0\" height=\"0\" class=\"tooltip-box\"/><g class=\"text\"/></g></g><g transform=\"translate(10, 56)\" class=\"legends\"><g id=\"activate-serie-0\" class=\"legend reactive activate-serie\"><rect x=\"0.0\" y=\"1.0\" width=\"12\" height=\"12\" class=\"color-0 reactive\"/><text x=\"17.0\" y=\"11.2\">chevrolet</text></g><g id=\"activate-serie-1\" class=\"legend reactive activate-serie\"><rect x=\"0.0\" y=\"22.0\" width=\"12\" height=\"12\" class=\"color-1 reactive\"/><text x=\"17.0\" y=\"32.2\">honda</text></g><g id=\"activate-serie-2\" class=\"legend reactive activate-serie\"><rect x=\"0.0\" y=\"43.0\" width=\"12\" height=\"12\" class=\"color-2 reactive\"/><text x=\"17.0\" y=\"53.2\">toyota</text></g></g><g transform=\"translate(763, 56)\" class=\"legends\"/></g></svg>\n",
       "    </figure>\n",
       "  </body>\n",
       "</html>\n"
      ],
      "text/plain": [
       "<IPython.core.display.HTML object>"
      ]
     },
     "metadata": {},
     "output_type": "display_data"
    }
   ],
   "source": [
    "import pygal\n",
    "from IPython.display import display, HTML\n",
    "from pygal.style import RedBlueStyle\n",
    "\n",
    "base_html = \"\"\"\n",
    "<!DOCTYPE html>\n",
    "<html>\n",
    "  <head>\n",
    "  <script type=\"text/javascript\" src=\"http://kozea.github.com/pygal.js/javascripts/svg.jquery.js\"></script>\n",
    "  <script type=\"text/javascript\" src=\"https://kozea.github.io/pygal.js/2.0.x/pygal-tooltips.min.js\"\"></script>\n",
    "  </head>\n",
    "  <body>\n",
    "    <figure>\n",
    "      {rendered_chart}\n",
    "    </figure>\n",
    "  </body>\n",
    "</html>\n",
    "\"\"\"\n",
    "\n",
    "def galplot(chart):\n",
    "    rendered_chart = chart.render(is_unicode=True)\n",
    "    plot_html = base_html.format(rendered_chart=rendered_chart)\n",
    "    display(HTML(plot_html))\n",
    "def plot_cm(y_true, y_pred):\n",
    "    labels = np.unique(y_true)\n",
    "    cm = confusion_matrix(y_true, y_pred, labels=labels)\n",
    "    dot_chart = pygal.Dot(x_label_rotation=30, interpolate='cubic', style=RedBlueStyle)\n",
    "    dot_chart.title = 'Confusion Matrix'\n",
    "    dot_chart.x_labels = labels\n",
    "    dot_chart.x_title = \"Predicted\"\n",
    "    dot_chart.y_title = \"Actual\"\n",
    "    for i in range(len(labels)):\n",
    "        dot_chart.add(labels[i], cm[i,:])\n",
    "    galplot(dot_chart)\n",
    "    \n",
    "plot_cm(y_true, y_pred)"
   ]
  },
  {
   "cell_type": "markdown",
   "metadata": {},
   "source": [
    "<a id='sect4'></a>\n",
    "## <font color='darkblue'>4. Interactive Plotting with Altair </font> ([back](#sect0))"
   ]
  },
  {
   "cell_type": "markdown",
   "metadata": {},
   "source": [
    "Dependecies : [**altair**](https://altair-viz.github.io/), [**notebook**](https://pypi.org/project/notebook/), [**vega**](https://vega.github.io/vega/)"
   ]
  },
  {
   "cell_type": "code",
   "execution_count": 10,
   "metadata": {},
   "outputs": [],
   "source": [
    "!pip install -q -U altair notebook vega"
   ]
  },
  {
   "cell_type": "code",
   "execution_count": 11,
   "metadata": {},
   "outputs": [
    {
     "data": {
      "application/javascript": [
       "const spec = {\"config\": {\"view\": {\"continuousWidth\": 400, \"continuousHeight\": 300}}, \"data\": {\"name\": \"data-5e8f50a8437813afa335364f2d16f359\"}, \"mark\": \"rect\", \"encoding\": {\"color\": {\"condition\": {\"type\": \"quantitative\", \"field\": \"confusion_matrix\", \"selection\": \"selector001\"}, \"value\": \"lightgray\"}, \"x\": {\"type\": \"nominal\", \"field\": \"predicted\"}, \"y\": {\"type\": \"nominal\", \"field\": \"actual\"}}, \"height\": 480, \"selection\": {\"selector001\": {\"type\": \"interval\", \"encodings\": [\"x\"], \"empty\": \"none\"}}, \"width\": 600, \"$schema\": \"https://vega.github.io/schema/vega-lite/v4.8.1.json\", \"datasets\": {\"data-5e8f50a8437813afa335364f2d16f359\": [{\"actual\": \"chevrolet\", \"predicted\": \"chevrolet\", \"confusion_matrix\": 1}, {\"actual\": \"chevrolet\", \"predicted\": \"honda\", \"confusion_matrix\": 1}, {\"actual\": \"chevrolet\", \"predicted\": \"toyota\", \"confusion_matrix\": 0}, {\"actual\": \"honda\", \"predicted\": \"chevrolet\", \"confusion_matrix\": 0}, {\"actual\": \"honda\", \"predicted\": \"honda\", \"confusion_matrix\": 2}, {\"actual\": \"honda\", \"predicted\": \"toyota\", \"confusion_matrix\": 0}, {\"actual\": \"toyota\", \"predicted\": \"chevrolet\", \"confusion_matrix\": 0}, {\"actual\": \"toyota\", \"predicted\": \"honda\", \"confusion_matrix\": 0}, {\"actual\": \"toyota\", \"predicted\": \"toyota\", \"confusion_matrix\": 2}]}};\n",
       "const opt = {};\n",
       "const type = \"vega-lite\";\n",
       "const id = \"971b75d6-c77f-45ee-b8c7-0a0262d632c4\";\n",
       "\n",
       "const output_area = this;\n",
       "\n",
       "require([\"nbextensions/jupyter-vega/index\"], function(vega) {\n",
       "  const target = document.createElement(\"div\");\n",
       "  target.id = id;\n",
       "  target.className = \"vega-embed\";\n",
       "\n",
       "  const style = document.createElement(\"style\");\n",
       "  style.textContent = [\n",
       "    \".vega-embed .error p {\",\n",
       "    \"  color: firebrick;\",\n",
       "    \"  font-size: 14px;\",\n",
       "    \"}\",\n",
       "  ].join(\"\\\\n\");\n",
       "\n",
       "  // element is a jQuery wrapped DOM element inside the output area\n",
       "  // see http://ipython.readthedocs.io/en/stable/api/generated/\\\n",
       "  // IPython.display.html#IPython.display.Javascript.__init__\n",
       "  element[0].appendChild(target);\n",
       "  element[0].appendChild(style);\n",
       "\n",
       "  vega.render(\"#\" + id, spec, type, opt, output_area);\n",
       "}, function (err) {\n",
       "  if (err.requireType !== \"scripterror\") {\n",
       "    throw(err);\n",
       "  }\n",
       "});\n"
      ],
      "text/plain": [
       "<vega.vegalite.VegaLite at 0x23628d066a0>"
      ]
     },
     "metadata": {
      "jupyter-vega": "#971b75d6-c77f-45ee-b8c7-0a0262d632c4"
     },
     "output_type": "display_data"
    },
    {
     "data": {
      "text/plain": []
     },
     "execution_count": 11,
     "metadata": {},
     "output_type": "execute_result"
    }
   ],
   "source": [
    "from itertools import product\n",
    "import altair as alt\n",
    "alt.renderers.enable('notebook')\n",
    "\n",
    "labels = np.unique(y_true)\n",
    "cm = confusion_matrix(y_true, y_pred, labels=labels)\n",
    "cm = [y for i in cm for y in i]\n",
    "roll = list(product(np.unique(y_true), repeat = 2))\n",
    "columns = [\"actual\", \"predicted\", \"confusion_matrix\"]\n",
    "df = pd.DataFrame(columns=columns)\n",
    "for i in range(len(roll)):\n",
    "    df = df.append({'actual':roll[i][0], 'predicted':roll[i][1], 'confusion_matrix':cm[i]}, ignore_index=True)\n",
    "    \n",
    "#plot figure\n",
    "def make_example(selector):\n",
    "    return alt.Chart(df).mark_rect().encode(\n",
    "        x=\"predicted:N\",\n",
    "        y=\"actual:N\",\n",
    "        color=alt.condition(selector, 'confusion_matrix', alt.value('lightgray'))\n",
    "    ).properties(\n",
    "        width=600,\n",
    "        height=480\n",
    "    ).add_selection(\n",
    "        selector\n",
    "    )\n",
    "\n",
    "interval_x = alt.selection_interval(encodings=['x'], empty='none')\n",
    "make_example(interval_x)"
   ]
  },
  {
   "cell_type": "markdown",
   "metadata": {},
   "source": [
    "<a id='sect5'></a>\n",
    "## <font color='darkblue'>5. Pandas Confusion Matrix</font> ([back](#sect0))\n",
    "Dependencies: [**pandas-ml**](https://pypi.org/project/pandas-ml/)"
   ]
  },
  {
   "cell_type": "code",
   "execution_count": 15,
   "metadata": {},
   "outputs": [],
   "source": [
    "#!pip install -q pandas-ml"
   ]
  },
  {
   "cell_type": "code",
   "execution_count": 19,
   "metadata": {},
   "outputs": [],
   "source": [
    "# https://github.com/pandas-ml/pandas-ml/issues/127\n",
    "#   sklearn.preprocessing.Imputer has been removed in 0.22.\n",
    "%matplotlib inline\n",
    "#from pandas_ml import ConfusionMatrix\n",
    "#confusion_matrix = ConfusionMatrix(y_true, y_pred)\n",
    "#confusion_matrix.plot(normalized=True)"
   ]
  },
  {
   "cell_type": "markdown",
   "metadata": {},
   "source": [
    "<a id='sect6'></a>\n",
    "## <font color='darkblue'>6. Scikit-plot Confusion Matrix </font> ([back](#sect0))\n",
    "Dependencies: [**scikit-plot**](https://pypi.org/project/scikit-plot/)"
   ]
  },
  {
   "cell_type": "code",
   "execution_count": 13,
   "metadata": {},
   "outputs": [],
   "source": [
    "#!pip install -q scikit-plot"
   ]
  },
  {
   "cell_type": "code",
   "execution_count": 51,
   "metadata": {},
   "outputs": [
    {
     "data": {
      "text/plain": [
       "<AxesSubplot:title={'center':'Confusion Matrix'}, xlabel='Predicted label', ylabel='True label'>"
      ]
     },
     "execution_count": 51,
     "metadata": {},
     "output_type": "execute_result"
    },
    {
     "data": {
      "image/png": "[encoded data removed]",
      "text/plain": [
       "<Figure size 576x432 with 2 Axes>"
      ]
     },
     "metadata": {
      "needs_background": "light"
     },
     "output_type": "display_data"
    }
   ],
   "source": [
    "import scikitplot as skplt\n",
    "\n",
    "skplt.metrics.plot_confusion_matrix(\n",
    "    y_true, \n",
    "    y_pred,\n",
    "    figsize=(8, 6)\n",
    ")"
   ]
  },
  {
   "cell_type": "markdown",
   "metadata": {},
   "source": [
    "## <font color='darkblue'>Supplement</font>\n",
    "* [Introduction to Machine Learning with scikit-learn by Kevin Markham - Lesson 9](https://courses.dataschool.io/courses/introduction-to-machine-learning-with-scikit-learn/693291-9-evaluating-a-classification-model/1977140-lesson-9)\n",
    "> Topics covered: <br/>\n",
    "> * What is the purpose of model evaluation, and what are some common evaluation procedures?\n",
    "> * What is the usage of classification accuracy, and what are its limitations?\n",
    "> * How does a confusion matrix describe the performance of a classifier?\n",
    "> * What metrics can be computed from a confusion matrix?\n",
    "> * How can you adjust classifier performance by changing the classification threshold?\n",
    "> * What is the purpose of an ROC curve?\n",
    "> * How does Area Under the Curve (AUC) differ from classification accuracy?"
   ]
  }
 ],
 "metadata": {
  "kernelspec": {
   "display_name": "Python 3",
   "language": "python",
   "name": "python3"
  },
  "language_info": {
   "codemirror_mode": {
    "name": "ipython",
    "version": 3
   },
   "file_extension": ".py",
   "mimetype": "text/x-python",
   "name": "python",
   "nbconvert_exporter": "python",
   "pygments_lexer": "ipython3",
   "version": "3.8.7"
  }
 },
 "nbformat": 4,
 "nbformat_minor": 4
}
