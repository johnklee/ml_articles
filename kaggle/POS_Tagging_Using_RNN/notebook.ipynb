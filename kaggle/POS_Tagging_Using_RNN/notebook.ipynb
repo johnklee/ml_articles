{
 "cells": [
  {
   "cell_type": "markdown",
   "metadata": {},
   "source": [
    "## <font color='darkblue'>POS Tagging - An Overview</font>\n",
    "([article source](https://www.kaggle.com/tanyadayanand/pos-tagging-using-rnn)) <font size='3ptx'>**The process of classifying words into their [parts of speech](https://en.wikipedia.org/wiki/Part_of_speech) and labeling them accordingly is known as part-of-speech tagging, or simply POS-tagging.**</font>\n",
    "\n",
    "The [**NLTK library**](https://www.nltk.org/) has a number of corpora which contains word and its POS tag. The following table provide information about each tag:\n",
    "![1.png](images/1.PNG)\n",
    "<br/>"
   ]
  },
  {
   "cell_type": "markdown",
   "metadata": {},
   "source": [
    "### <font color='darkgreen'>Notebook layout</font>\n",
    "1. <font size='3ptx'>[**Preprocess data**](#sect1)</font>\n",
    "2. <font size='3ptx'>[**Vanilla RNN**](#sect2)</font>\n",
    "3. <font size='3ptx'>[**LSTM**](#sect3)</font>\n",
    "5. GRU\n",
    "6. Bidirectional LSTM\n",
    "7. Model Evaluation"
   ]
  },
  {
   "cell_type": "code",
   "execution_count": 1,
   "metadata": {},
   "outputs": [],
   "source": [
    "#!pip install nltk\n",
    "#!pip install seaborn\n",
    "#!pip install gensim\n",
    "#!pip install keras"
   ]
  },
  {
   "cell_type": "code",
   "execution_count": 2,
   "metadata": {},
   "outputs": [
    {
     "name": "stdout",
     "output_type": "stream",
     "text": [
      "sys.version_info(major=3, minor=9, micro=2, releaselevel='final', serial=0)\n",
      "/usr/local/google/home/johnkclee/Github/ml_articles/env/bin/python\n"
     ]
    }
   ],
   "source": [
    "import os\n",
    "import sys\n",
    "import subprocess\n",
    "\n",
    "# subprocess = subprocess.Popen(\"pip freeze\", shell=True, stdout=subprocess.PIPE)\n",
    "# print(subprocess.stdout.read().decode('utf8'))\n",
    "print(sys.version_info)\n",
    "print(sys.executable)"
   ]
  },
  {
   "cell_type": "code",
   "execution_count": 3,
   "metadata": {},
   "outputs": [
    {
     "name": "stdout",
     "output_type": "stream",
     "text": [
      "INFO:tensorflow:Enabling eager execution\n",
      "INFO:tensorflow:Enabling v2 tensorshape\n",
      "INFO:tensorflow:Enabling resource variables\n",
      "INFO:tensorflow:Enabling tensor equality\n",
      "INFO:tensorflow:Enabling control flow v2\n"
     ]
    }
   ],
   "source": [
    "# import necessary libraries\n",
    "import warnings\n",
    "warnings.filterwarnings(\"ignore\")\n",
    "\n",
    "import numpy as np\n",
    "import nltk\n",
    "\n",
    "from matplotlib import pyplot as plt\n",
    "\n",
    "from nltk.corpus import brown\n",
    "from nltk.corpus import treebank\n",
    "from nltk.corpus import conll2000\n",
    "from nltk.tokenize import word_tokenize as nltk_word_tokenize\n",
    "\n",
    "import seaborn as sns\n",
    "\n",
    "from gensim.models import KeyedVectors\n",
    "from keras.wrappers.scikit_learn import KerasClassifier\n",
    "from keras.preprocessing.sequence import pad_sequences\n",
    "from keras.utils.np_utils import to_categorical\n",
    "from keras.models import Sequential\n",
    "from keras.layers import Embedding\n",
    "from keras.layers import Dense, Input\n",
    "from keras.layers import TimeDistributed\n",
    "from keras.layers import LSTM, GRU, Bidirectional, SimpleRNN, RNN\n",
    "from keras.models import Model\n",
    "from keras.preprocessing.text import Tokenizer\n",
    "\n",
    "from sklearn.model_selection import train_test_split\n",
    "from sklearn.utils import shuffle"
   ]
  },
  {
   "cell_type": "markdown",
   "metadata": {},
   "source": [
    "<a id='sect1'></a>\n",
    "## <font color='darkblue'>1. Preprocess data</font>\n",
    "Here we will going to load in datas and explore them."
   ]
  },
  {
   "cell_type": "markdown",
   "metadata": {},
   "source": [
    "### <font color='darkgreen'>Load data</font>"
   ]
  },
  {
   "cell_type": "code",
   "execution_count": 4,
   "metadata": {},
   "outputs": [
    {
     "name": "stderr",
     "output_type": "stream",
     "text": [
      "[nltk_data] Downloading package treebank to\n",
      "[nltk_data]     /usr/local/google/home/johnkclee/nltk_data...\n",
      "[nltk_data]   Package treebank is already up-to-date!\n",
      "[nltk_data] Downloading package brown to\n",
      "[nltk_data]     /usr/local/google/home/johnkclee/nltk_data...\n",
      "[nltk_data]   Package brown is already up-to-date!\n",
      "[nltk_data] Downloading package conll2000 to\n",
      "[nltk_data]     /usr/local/google/home/johnkclee/nltk_data...\n",
      "[nltk_data]   Package conll2000 is already up-to-date!\n",
      "[nltk_data] Downloading package universal_tagset to\n",
      "[nltk_data]     /usr/local/google/home/johnkclee/nltk_data...\n",
      "[nltk_data]   Package universal_tagset is already up-to-date!\n"
     ]
    }
   ],
   "source": [
    "nltk.download('treebank')\n",
    "nltk.download('brown')\n",
    "nltk.download('conll2000')\n",
    "nltk.download('universal_tagset')\n",
    "  \n",
    "# load POS tagged corpora from NLTK\n",
    "treebank_corpus = treebank.tagged_sents(tagset='universal')\n",
    "brown_corpus = brown.tagged_sents(tagset='universal')\n",
    "conll_corpus = conll2000.tagged_sents(tagset='universal')\n",
    "tagged_sentences = treebank_corpus + brown_corpus + conll_corpus"
   ]
  },
  {
   "cell_type": "code",
   "execution_count": 5,
   "metadata": {},
   "outputs": [
    {
     "data": {
      "text/plain": [
       "[('A', 'DET'),\n",
       " ('Lorillard', 'NOUN'),\n",
       " ('spokewoman', 'NOUN'),\n",
       " ('said', 'VERB'),\n",
       " (',', '.'),\n",
       " ('``', '.'),\n",
       " ('This', 'DET'),\n",
       " ('is', 'VERB'),\n",
       " ('an', 'DET'),\n",
       " ('old', 'ADJ'),\n",
       " ('story', 'NOUN'),\n",
       " ('.', '.')]"
      ]
     },
     "execution_count": 5,
     "metadata": {},
     "output_type": "execute_result"
    }
   ],
   "source": [
    "tagged_sentences[7]"
   ]
  },
  {
   "cell_type": "markdown",
   "metadata": {},
   "source": [
    "### <font color='darkgreen'>Divide data in words (X) and tags (y)</font>\n",
    "We have to preprocess the raw data into `X` (features) and `y` (labels) for ML training. Since this is a many-to-many problem, each data point will be a different sentence of the corpora.\n",
    "* Each data point will have multiple words in the input sequence. This is what we will refer to as `X`.\n",
    "* Each word will have its correpsonding tag in the output sequence. This what we will refer to as `y`.\n",
    "\n",
    "Sample dataset:\n",
    "\n",
    "| X | y |\n",
    "| --- | --- |\n",
    "|Mr. Vinken is chairman of Elsevier | NOUN NOUN VERB NOUN ADP NOUN |\n",
    "|We have no useful information | PRON VERB DET ADJ NOUN |"
   ]
  },
  {
   "cell_type": "code",
   "execution_count": 6,
   "metadata": {},
   "outputs": [],
   "source": [
    "X = [] # store input sequence\n",
    "y = [] # store output sequence\n",
    "\n",
    "for sentence in tagged_sentences:\n",
    "    X_sentence = []\n",
    "    y_sentence = []\n",
    "    for entity in sentence:         \n",
    "        X_sentence.append(entity[0])  # entity[0] contains the word\n",
    "        y_sentence.append(entity[1])  # entity[1] contains corresponding tag\n",
    "        \n",
    "    X.append(X_sentence)\n",
    "    y.append(y_sentence)"
   ]
  },
  {
   "cell_type": "code",
   "execution_count": 7,
   "metadata": {},
   "outputs": [],
   "source": [
    "num_words = len(set([word.lower() for sentence in X for word in sentence]))\n",
    "num_tags   = len(set([word.lower() for sentence in y for word in sentence]))"
   ]
  },
  {
   "cell_type": "code",
   "execution_count": 8,
   "metadata": {},
   "outputs": [
    {
     "name": "stdout",
     "output_type": "stream",
     "text": [
      "Total number of tagged sentences: 72202\n",
      "Vocabulary size: 59448\n",
      "Total number of tags: 12\n"
     ]
    }
   ],
   "source": [
    "print(\"Total number of tagged sentences: {}\".format(len(X)))\n",
    "print(\"Vocabulary size: {}\".format(num_words))\n",
    "print(\"Total number of tags: {}\".format(num_tags))"
   ]
  },
  {
   "cell_type": "code",
   "execution_count": 9,
   "metadata": {},
   "outputs": [
    {
     "name": "stdout",
     "output_type": "stream",
     "text": [
      "sample X:  ['Pierre', 'Vinken', ',', '61', 'years', 'old', ',', 'will', 'join', 'the', 'board', 'as', 'a', 'nonexecutive', 'director', 'Nov.', '29', '.'] \n",
      "\n",
      "sample Y:  ['NOUN', 'NOUN', '.', 'NUM', 'NOUN', 'ADJ', '.', 'VERB', 'VERB', 'DET', 'NOUN', 'ADP', 'DET', 'ADJ', 'NOUN', 'NOUN', 'NUM', '.'] \n",
      "\n"
     ]
    }
   ],
   "source": [
    "# let's look at first data point\n",
    "# this is one data point that will be fed to the RNN\n",
    "print('sample X: ', X[0], '\\n')\n",
    "print('sample Y: ', y[0], '\\n')"
   ]
  },
  {
   "cell_type": "code",
   "execution_count": 10,
   "metadata": {},
   "outputs": [
    {
     "name": "stdout",
     "output_type": "stream",
     "text": [
      "Length of first input sequence  : 18\n",
      "Length of first output sequence : 18\n"
     ]
    }
   ],
   "source": [
    "# In this many-to-many problem, the length of each input and output sequence must be the same.\n",
    "# Since each word is tagged, it's important to make sure that the length of input sequence equals the output sequence\n",
    "print(\"Length of first input sequence  : {}\".format(len(X[0])))\n",
    "print(\"Length of first output sequence : {}\".format(len(y[0])))"
   ]
  },
  {
   "cell_type": "markdown",
   "metadata": {},
   "source": [
    "### <font color='darkgreen'>Vectorise X and y</font>\n",
    "\n",
    "#### Encode X and Y to integer values\n",
    "We'll use the <font color='blue'>Tokenizer()</font> function from Keras library ([Keras Text Preprocess](https://keras.io/api/preprocessing/text/)) to encode text sequence to integer sequence"
   ]
  },
  {
   "cell_type": "code",
   "execution_count": 11,
   "metadata": {},
   "outputs": [],
   "source": [
    "# encode X\n",
    "word_tokenizer = Tokenizer()                      # instantiate tokeniser\n",
    "word_tokenizer.fit_on_texts(X)                    # fit tokeniser on data\n",
    "X_encoded = word_tokenizer.texts_to_sequences(X)  # use the tokeniser to encode input sequence"
   ]
  },
  {
   "cell_type": "code",
   "execution_count": 12,
   "metadata": {},
   "outputs": [],
   "source": [
    "# encode Y\n",
    "tag_tokenizer = Tokenizer()\n",
    "tag_tokenizer.fit_on_texts(y)\n",
    "y_encoded = tag_tokenizer.texts_to_sequences(y)"
   ]
  },
  {
   "cell_type": "code",
   "execution_count": 13,
   "metadata": {},
   "outputs": [
    {
     "name": "stdout",
     "output_type": "stream",
     "text": [
      "** Raw data point ** \n",
      " ---------------------------------------------------------------------------------------------------- \n",
      "\n",
      "X:  ['Pierre', 'Vinken', ',', '61', 'years', 'old', ',', 'will', 'join', 'the', 'board', 'as', 'a', 'nonexecutive', 'director', 'Nov.', '29', '.'] \n",
      "\n",
      "Y:  ['NOUN', 'NOUN', '.', 'NUM', 'NOUN', 'ADJ', '.', 'VERB', 'VERB', 'DET', 'NOUN', 'ADP', 'DET', 'ADJ', 'NOUN', 'NOUN', 'NUM', '.'] \n",
      "\n",
      "\n",
      "** Encoded data point ** \n",
      " ---------------------------------------------------------------------------------------------------- \n",
      "\n",
      "X:  [6423, 24231, 2, 7652, 102, 170, 2, 47, 1898, 1, 269, 17, 7, 13230, 619, 1711, 2761, 3] \n",
      "\n",
      "Y:  [1, 1, 3, 11, 1, 6, 3, 2, 2, 5, 1, 4, 5, 6, 1, 1, 11, 3] \n",
      "\n"
     ]
    }
   ],
   "source": [
    "# look at first encoded data point\n",
    "print(\"** Raw data point **\", \"\\n\", \"-\"*100, \"\\n\")\n",
    "print('X: ', X[0], '\\n')\n",
    "print('Y: ', y[0], '\\n')\n",
    "print()\n",
    "print(\"** Encoded data point **\", \"\\n\", \"-\"*100, \"\\n\")\n",
    "print('X: ', X_encoded[0], '\\n')\n",
    "print('Y: ', y_encoded[0], '\\n')"
   ]
  },
  {
   "cell_type": "markdown",
   "metadata": {},
   "source": [
    "### <font color='darkgreen'>Pad sequences</font>\n",
    "The next step after encoding the data is to **define the sequence lengths**. As of now, the sentences present in the data are of various lengths. We need to either pad short sentences or truncate long sentences to a fixed length. This fixed length, however, is a **hyperparameter**."
   ]
  },
  {
   "cell_type": "code",
   "execution_count": 14,
   "metadata": {},
   "outputs": [
    {
     "name": "stdout",
     "output_type": "stream",
     "text": [
      "Length of longest sentence: 271\n"
     ]
    }
   ],
   "source": [
    "# check length of longest sentence\n",
    "lengths = [len(seq) for seq in X_encoded]\n",
    "print(\"Length of longest sentence: {}\".format(max(lengths)))"
   ]
  },
  {
   "cell_type": "code",
   "execution_count": 15,
   "metadata": {},
   "outputs": [
    {
     "data": {
      "image/png": "[encoded data removed]",
      "text/plain": [
       "<Figure size 432x288 with 1 Axes>"
      ]
     },
     "metadata": {
      "needs_background": "light"
     },
     "output_type": "display_data"
    }
   ],
   "source": [
    "sns.boxplot(lengths)\n",
    "plt.show()"
   ]
  },
  {
   "cell_type": "code",
   "execution_count": 16,
   "metadata": {},
   "outputs": [],
   "source": [
    "# Pad each sequence to MAX_SEQ_LENGTH using KERAS' pad_sequences() function. \n",
    "# Sentences longer than MAX_SEQ_LENGTH are truncated.\n",
    "# Sentences shorter than MAX_SEQ_LENGTH are padded with zeroes.\n",
    "\n",
    "# Truncation and padding can either be 'pre' or 'post'. \n",
    "# For padding we are using 'pre' padding type, that is, add zeroes on the left side.\n",
    "# For truncation, we are using 'post', that is, truncate a sentence from right side.\n",
    "\n",
    "MAX_SEQ_LENGTH = 100  # sequences greater than 100 in length will be truncated\n",
    "\n",
    "X_padded = pad_sequences(X_encoded, maxlen=MAX_SEQ_LENGTH, padding=\"pre\", truncating=\"post\")\n",
    "y_padded = pad_sequences(y_encoded, maxlen=MAX_SEQ_LENGTH, padding=\"pre\", truncating=\"post\")"
   ]
  },
  {
   "cell_type": "code",
   "execution_count": 17,
   "metadata": {},
   "outputs": [
    {
     "name": "stdout",
     "output_type": "stream",
     "text": [
      "[    0     0     0     0     0     0     0     0     0     0     0     0\n",
      "     0     0     0     0     0     0     0     0     0     0     0     0\n",
      "     0     0     0     0     0     0     0     0     0     0     0     0\n",
      "     0     0     0     0     0     0     0     0     0     0     0     0\n",
      "     0     0     0     0     0     0     0     0     0     0     0     0\n",
      "     0     0     0     0     0     0     0     0     0     0     0     0\n",
      "     0     0     0     0     0     0     0     0     0     0  6423 24231\n",
      "     2  7652   102   170     2    47  1898     1   269    17     7 13230\n",
      "   619  1711  2761     3] \n",
      "\n",
      "\n",
      "\n",
      "[ 0  0  0  0  0  0  0  0  0  0  0  0  0  0  0  0  0  0  0  0  0  0  0  0\n",
      "  0  0  0  0  0  0  0  0  0  0  0  0  0  0  0  0  0  0  0  0  0  0  0  0\n",
      "  0  0  0  0  0  0  0  0  0  0  0  0  0  0  0  0  0  0  0  0  0  0  0  0\n",
      "  0  0  0  0  0  0  0  0  0  0  1  1  3 11  1  6  3  2  2  5  1  4  5  6\n",
      "  1  1 11  3]\n"
     ]
    }
   ],
   "source": [
    "# print the first sequence\n",
    "print(X_padded[0], \"\\n\"*3)\n",
    "print(y_padded[0])"
   ]
  },
  {
   "cell_type": "markdown",
   "metadata": {},
   "source": [
    "RNN will learn the zero to zero mapping while training. So we don't need to worry about the padded zeroes. Please note that zero is not reserved for any word or tag, it's only reserved for padding."
   ]
  },
  {
   "cell_type": "code",
   "execution_count": 18,
   "metadata": {},
   "outputs": [],
   "source": [
    "# assign padded sequences to X and Y\n",
    "X, y = X_padded, y_padded"
   ]
  },
  {
   "cell_type": "code",
   "execution_count": 19,
   "metadata": {},
   "outputs": [],
   "source": [
    "def sentence2vector(sentence):\n",
    "    # Sentence to token list\n",
    "    tokens = nltk_word_tokenize(sentence)\n",
    "    \n",
    "    # Encode token list\n",
    "    X_encoded = word_tokenizer.texts_to_sequences([tokens])\n",
    "    \n",
    "    # Pad the sequence\n",
    "    X_padded = pad_sequences(X_encoded, maxlen=MAX_SEQ_LENGTH, padding=\"pre\", truncating=\"post\")\n",
    "    \n",
    "    return X_padded, tokens"
   ]
  },
  {
   "cell_type": "code",
   "execution_count": 20,
   "metadata": {},
   "outputs": [
    {
     "data": {
      "text/plain": [
       "array([[   0,    0,    0,    0,    0,    0,    0,    0,    0,    0,    0,\n",
       "           0,    0,    0,    0,    0,    0,    0,    0,    0,    0,    0,\n",
       "           0,    0,    0,    0,    0,    0,    0,    0,    0,    0,    0,\n",
       "           0,    0,    0,    0,    0,    0,    0,    0,    0,    0,    0,\n",
       "           0,    0,    0,    0,    0,    0,    0,    0,    0,    0,    0,\n",
       "           0,    0,    0,    0,    0,    0,    0,    0,    0,    0,    0,\n",
       "           0,    0,    0,    0,    0,    0,    0,    0,    0,    0,    0,\n",
       "           0,    0,    0,    0,    0,    0,    0,    0,    0,    0,    0,\n",
       "           0,    0,    0,    0,    0,    0,   26,   11,   34, 1602, 3586,\n",
       "           3]], dtype=int32)"
      ]
     },
     "execution_count": 20,
     "metadata": {},
     "output_type": "execute_result"
    }
   ],
   "source": [
    "# How we translate a sentence into feature vector (X)\n",
    "X_padded, tokens = sentence2vector(\"This is an interesting sentence.\")\n",
    "X_padded"
   ]
  },
  {
   "cell_type": "markdown",
   "metadata": {},
   "source": [
    "### <font color='darkgreen'>Word embeddings</font>\n",
    "Currently, each word and each tag is encoded as an integer.\n",
    "\n",
    "We'll use a more sophisticated technique to represent the input words (`X`) using what's known as [**word embeddings**](https://en.wikipedia.org/wiki/Word_embedding).\n",
    "\n",
    "However, to represent each tag in y, we'll simply use [**one-hot encoding**](https://en.wikipedia.org/wiki/One-hot) scheme since there are only 13 tags in the dataset and the [**LSTM**](https://en.wikipedia.org/wiki/Long_short-term_memory) will have no problems in learning its own representation of these tags.\n",
    "\n",
    "To use word embeddings, you can go for either of the following models:\n",
    "* **word2vec model:** https://code.google.com/archive/p/word2vec/\n",
    "* **GloVe model:** https://nlp.stanford.edu/projects/glove/\n",
    "\n",
    "**We're using the word2vec model for no particular reason.** Both of these are very efficient in representing words. You can try both and see which one works better. Dimensions of a word embedding is: `(VOCABULARY_SIZE, EMBEDDING_DIMENSION)`"
   ]
  },
  {
   "cell_type": "markdown",
   "metadata": {},
   "source": [
    "### <font color='darkgreen'>Use word embeddings for input sequences (`X`)</font>"
   ]
  },
  {
   "cell_type": "code",
   "execution_count": 21,
   "metadata": {},
   "outputs": [],
   "source": [
    "# word2vec\n",
    "import gensim.downloader as api\n",
    "\n",
    "word2vec = api.load('word2vec-google-news-300')"
   ]
  },
  {
   "cell_type": "code",
   "execution_count": 22,
   "metadata": {},
   "outputs": [
    {
     "data": {
      "text/plain": [
       "[('Queen', 0.4929387867450714),\n",
       " ('Tupou_V.', 0.45174285769462585),\n",
       " ('Oprah_BFF_Gayle', 0.4422132968902588),\n",
       " ('Jackson', 0.440250426530838),\n",
       " ('NECN_Alison', 0.4331282675266266),\n",
       " ('Whitfield', 0.42834725975990295),\n",
       " ('Ida_Vandross', 0.42084527015686035),\n",
       " ('prosecutor_Dan_Satterberg', 0.420758992433548),\n",
       " ('martin_Luther_King', 0.42059651017189026),\n",
       " ('Coretta_King', 0.4202733635902405)]"
      ]
     },
     "execution_count": 22,
     "metadata": {},
     "output_type": "execute_result"
    }
   ],
   "source": [
    "# word2vec effectiveness\n",
    "word2vec.most_similar(positive = [\"King\", \"Woman\"], negative = [\"Man\"])"
   ]
  },
  {
   "cell_type": "code",
   "execution_count": 23,
   "metadata": {},
   "outputs": [],
   "source": [
    "# assign word vectors from word2vec model\n",
    "EMBEDDING_SIZE  = 300  # each word in word2vec model is represented using a 300 dimensional vector\n",
    "VOCABULARY_SIZE = len(word_tokenizer.word_index) + 1\n",
    "\n",
    "# create an empty embedding matix\n",
    "embedding_weights = np.zeros((VOCABULARY_SIZE, EMBEDDING_SIZE))\n",
    "\n",
    "# create a word to index dictionary mapping\n",
    "word2id = word_tokenizer.word_index\n",
    "\n",
    "# copy vectors from word2vec model to the words present in corpus\n",
    "for word, index in word2id.items():\n",
    "    try:\n",
    "        embedding_weights[index, :] = word2vec[word]\n",
    "    except KeyError:\n",
    "        # Keep unknown word to use vector with all valueas as 0\n",
    "        pass"
   ]
  },
  {
   "cell_type": "code",
   "execution_count": 24,
   "metadata": {},
   "outputs": [
    {
     "name": "stdout",
     "output_type": "stream",
     "text": [
      "Embeddings shape: (59449, 300)\n"
     ]
    }
   ],
   "source": [
    "# check embedding dimension\n",
    "print(\"Embeddings shape: {}\".format(embedding_weights.shape))"
   ]
  },
  {
   "cell_type": "code",
   "execution_count": 25,
   "metadata": {},
   "outputs": [
    {
     "data": {
      "text/plain": [
       "array([ 0.4453125 , -0.20019531,  0.20019531, -0.03149414,  0.078125  ,\n",
       "       -0.390625  ,  0.13671875, -0.13867188,  0.05395508,  0.10546875,\n",
       "       -0.05029297, -0.23730469,  0.19921875,  0.12597656, -0.12695312,\n",
       "        0.34179688,  0.06347656,  0.26757812, -0.07324219, -0.29101562,\n",
       "        0.10498047,  0.11914062,  0.23730469,  0.00640869,  0.12451172,\n",
       "       -0.00939941, -0.02770996,  0.03076172,  0.07421875, -0.22851562,\n",
       "       -0.08056641, -0.05273438,  0.16894531,  0.19824219, -0.15625   ,\n",
       "       -0.08740234,  0.10742188, -0.07177734,  0.05200195,  0.25976562,\n",
       "        0.171875  , -0.13574219,  0.06738281,  0.00531006,  0.15527344,\n",
       "       -0.03515625,  0.08789062,  0.3359375 , -0.12890625,  0.17578125,\n",
       "       -0.08642578,  0.32421875, -0.09033203,  0.35351562,  0.24316406,\n",
       "       -0.07470703, -0.06640625, -0.17578125,  0.06689453, -0.03833008,\n",
       "        0.0100708 , -0.21484375, -0.03686523,  0.04394531,  0.02209473,\n",
       "        0.00219727, -0.22460938,  0.03015137, -0.21582031,  0.16015625,\n",
       "        0.23339844, -0.16699219, -0.09228516,  0.10644531,  0.19335938,\n",
       "       -0.26757812,  0.15722656, -0.08691406,  0.11181641,  0.14941406,\n",
       "       -0.20507812,  0.04882812, -0.07519531, -0.21582031, -0.10107422,\n",
       "       -0.13378906, -0.06103516,  0.05444336,  0.07470703,  0.09521484,\n",
       "       -0.0144043 ,  0.27929688, -0.25585938, -0.05273438, -0.22460938,\n",
       "        0.10253906, -0.15136719,  0.21289062, -0.04711914, -0.12109375,\n",
       "        0.04663086,  0.25976562,  0.13574219,  0.00799561,  0.02001953,\n",
       "        0.1796875 ,  0.30664062,  0.06152344,  0.13574219, -0.09619141,\n",
       "       -0.07421875,  0.38671875,  0.20800781,  0.12695312,  0.05200195,\n",
       "        0.17675781, -0.16796875, -0.19335938, -0.06152344, -0.07568359,\n",
       "       -0.18457031,  0.06030273, -0.15136719, -0.1953125 , -0.23339844,\n",
       "        0.00738525, -0.02478027, -0.09765625, -0.06054688,  0.20214844,\n",
       "       -0.2734375 ,  0.00595093, -0.34570312, -0.12988281,  0.00418091,\n",
       "        0.09960938,  0.0246582 ,  0.15917969, -0.02038574,  0.30273438,\n",
       "       -0.20800781, -0.20214844, -0.03930664, -0.06494141,  0.00436401,\n",
       "       -0.02270508, -0.171875  ,  0.30273438, -0.16113281, -0.49414062,\n",
       "        0.3515625 ,  0.39257812,  0.09814453,  0.41796875,  0.05371094,\n",
       "        0.02392578, -0.03710938, -0.08251953, -0.38671875, -0.40625   ,\n",
       "       -0.05664062,  0.203125  , -0.01782227,  0.3359375 ,  0.19140625,\n",
       "       -0.44335938,  0.00927734,  0.24804688, -0.05102539,  0.19726562,\n",
       "        0.03881836,  0.03442383, -0.40039062, -0.09912109, -0.07128906,\n",
       "        0.21484375, -0.01422119,  0.04907227, -0.07421875, -0.21582031,\n",
       "       -0.41992188,  0.02172852,  0.11083984, -0.33398438, -0.2734375 ,\n",
       "       -0.05322266, -0.16601562, -0.28515625, -0.12207031,  0.04882812,\n",
       "       -0.0625    , -0.04077148, -0.16503906,  0.0480957 , -0.21191406,\n",
       "        0.20019531, -0.2109375 ,  0.10839844, -0.14648438, -0.07958984,\n",
       "       -0.05151367, -0.16601562, -0.24902344, -0.375     ,  0.05664062,\n",
       "       -0.13671875, -0.2578125 ,  0.28515625, -0.04736328,  0.13574219,\n",
       "       -0.14550781,  0.19433594, -0.21972656,  0.08447266, -0.10791016,\n",
       "       -0.11816406, -0.16015625,  0.12060547, -0.10888672,  0.04345703,\n",
       "        0.11474609, -0.08447266, -0.00720215,  0.03662109, -0.38671875,\n",
       "       -0.03881836, -0.03198242,  0.00344849,  0.22558594, -0.06787109,\n",
       "       -0.16699219,  0.2421875 ,  0.05712891,  0.27539062, -0.0456543 ,\n",
       "       -0.19042969, -0.17285156,  0.00836182, -0.03271484,  0.16992188,\n",
       "       -0.18554688, -0.0703125 , -0.32617188, -0.00668335, -0.02770996,\n",
       "        0.3359375 ,  0.125     , -0.2109375 ,  0.06005859, -0.07080078,\n",
       "        0.11132812,  0.125     ,  0.25390625,  0.29296875, -0.03125   ,\n",
       "        0.09033203, -0.20507812, -0.07861328,  0.02062988, -0.0546875 ,\n",
       "       -0.23339844,  0.00096893, -0.04516602,  0.16894531, -0.22167969,\n",
       "        0.08105469,  0.33398438,  0.09619141,  0.00866699, -0.03271484,\n",
       "        0.05493164,  0.12109375,  0.16210938, -0.10302734,  0.27148438,\n",
       "       -0.03344727, -0.30273438,  0.04223633,  0.08496094, -0.15527344,\n",
       "        0.10107422, -0.11474609, -0.13085938,  0.22949219,  0.12988281,\n",
       "        0.09863281, -0.03588867,  0.10693359, -0.24902344,  0.19238281,\n",
       "       -0.05322266, -0.09033203, -0.31640625, -0.5703125 , -0.15917969,\n",
       "        0.0291748 , -0.0246582 , -0.07714844, -0.04663086, -0.17578125])"
      ]
     },
     "execution_count": 25,
     "metadata": {},
     "output_type": "execute_result"
    }
   ],
   "source": [
    "# let's look at an embedding of a word\n",
    "embedding_weights[word_tokenizer.word_index['joy']]"
   ]
  },
  {
   "cell_type": "markdown",
   "metadata": {},
   "source": [
    "#### Use one-hot encoding for output sequences (Y)"
   ]
  },
  {
   "cell_type": "code",
   "execution_count": 26,
   "metadata": {},
   "outputs": [],
   "source": [
    "# use Keras' to_categorical function to one-hot encode Y\n",
    "y = to_categorical(y)"
   ]
  },
  {
   "cell_type": "code",
   "execution_count": 27,
   "metadata": {},
   "outputs": [
    {
     "name": "stdout",
     "output_type": "stream",
     "text": [
      "(72202, 100, 13)\n"
     ]
    }
   ],
   "source": [
    "# print Y of the first output sequqnce\n",
    "print(y.shape)"
   ]
  },
  {
   "cell_type": "markdown",
   "metadata": {},
   "source": [
    "### <font color='darkgreen'>Split data in training, validation and tesing sets</font>"
   ]
  },
  {
   "cell_type": "code",
   "execution_count": 28,
   "metadata": {},
   "outputs": [],
   "source": [
    "# split entire data into training and testing sets\n",
    "TEST_SIZE = 0.15\n",
    "RANDOM_STATE = 4\n",
    "X_train, X_test, y_train, y_test = train_test_split(X, y, test_size=TEST_SIZE, random_state=RANDOM_STATE)"
   ]
  },
  {
   "cell_type": "code",
   "execution_count": 29,
   "metadata": {},
   "outputs": [],
   "source": [
    "# split training data into training and validation sets\n",
    "VALID_SIZE = 0.15\n",
    "X_train, X_validation, y_train, y_validation = train_test_split(X_train, y_train, test_size=VALID_SIZE, random_state=RANDOM_STATE)"
   ]
  },
  {
   "cell_type": "code",
   "execution_count": 30,
   "metadata": {},
   "outputs": [
    {
     "name": "stdout",
     "output_type": "stream",
     "text": [
      "TRAINING DATA\n",
      "Shape of input sequences: (52165, 100)\n",
      "Shape of output sequences: (52165, 100, 13)\n",
      "--------------------------------------------------\n",
      "VALIDATION DATA\n",
      "Shape of input sequences: (9206, 100)\n",
      "Shape of output sequences: (9206, 100, 13)\n",
      "--------------------------------------------------\n",
      "TESTING DATA\n",
      "Shape of input sequences: (10831, 100)\n",
      "Shape of output sequences: (10831, 100, 13)\n"
     ]
    }
   ],
   "source": [
    "# print number of samples in each set\n",
    "print(\"TRAINING DATA\")\n",
    "print('Shape of input sequences: {}'.format(X_train.shape))\n",
    "print('Shape of output sequences: {}'.format(y_train.shape))\n",
    "print(\"-\"*50)\n",
    "print(\"VALIDATION DATA\")\n",
    "print('Shape of input sequences: {}'.format(X_validation.shape))\n",
    "print('Shape of output sequences: {}'.format(y_validation.shape))\n",
    "print(\"-\"*50)\n",
    "print(\"TESTING DATA\")\n",
    "print('Shape of input sequences: {}'.format(X_test.shape))\n",
    "print('Shape of output sequences: {}'.format(y_test.shape))"
   ]
  },
  {
   "cell_type": "markdown",
   "metadata": {},
   "source": [
    "Before using [**RNN**](https://en.wikipedia.org/wiki/Recurrent_neural_network), we must make sure the dimensions of the data are what an [**RNN**](https://en.wikipedia.org/wiki/Recurrent_neural_network) expects. In general, an [**RNN**](https://en.wikipedia.org/wiki/Recurrent_neural_network) expects the following shape:\n",
    "* **Shape of X**: (#samples, #timesteps, #features)\n",
    "* **Shape of Y**: (#samples, #timesteps, #features)\n",
    "\n",
    "Now, there can be various variations in the shape that you use to feed an [**RNN**](https://en.wikipedia.org/wiki/Recurrent_neural_network) depending on the type of architecture. Since the problem we're working on has a many-to-many architecture, the input and the output both include number of timesteps which is nothing but the sequence length. But notice that the tensor `X` doesn't have the third dimension, that is, number of features. That's because we're going to use word embeddings before feeding in the data to an [**RNN**](https://en.wikipedia.org/wiki/Recurrent_neural_network), and hence there is no need to explicitly mention the third dimension. That's because when you use the [Embedding()](https://keras.io/api/layers/core_layers/embedding/) layer in Keras, you the training data will automatically be converted to `(#samples, #timesteps, #features)` where `#features` will be the embedding dimention (<font color='brown'>and note that the [**Embedding layer**](https://keras.io/api/layers/core_layers/embedding/) is always the very first layer of an [**RNN**](https://en.wikipedia.org/wiki/Recurrent_neural_network)</font>). While using the embedding layer we only need to reshape the data to `(#samples, #timesteps)` which is what we have done. However, note that you'll need to shape it to `(#samples, #timesteps, #features)` in case you don't use the [Embedding()](https://keras.io/api/layers/core_layers/embedding/) layer in Keras."
   ]
  },
  {
   "cell_type": "markdown",
   "metadata": {},
   "source": [
    "<a id='sect2'></a>\n",
    "## <font color='darkblue'>2. Vanilla RNN</font>\n",
    "* <font size='3ptx'>[**Uninitialised fixed embeddings**](#sect2_1)</font>\n",
    "* <font size='3ptx'>[**Compile model**](#sect2_2)</font>\n",
    "* <font size='3ptx'>[**Fix model**](#sect2_3)</font>\n",
    "* <font size='3ptx'>[**Evaluate RNN Model (embedding not trainable)**](#sect2_4)</font>\n",
    "* <font size='3ptx'>[**Uninitialised trainable embeddings**](#sect2_5)</font>\n",
    "* <font size='3ptx'>[**Compile model**](#sect2_6)</font>\n",
    "* <font size='3ptx'>[**Fix model**](#sect2_7)</font>\n",
    "* <font size='3ptx'>[**Using pre-trained embedding weights**](#sect2_8)</font>\n",
    "* <font size='3ptx'>[**Compile model**](#sect2_9)</font>\n",
    "* <font size='3ptx'>[**Fix model**](#sect2_10)</font>"
   ]
  },
  {
   "cell_type": "markdown",
   "metadata": {},
   "source": [
    "<a id='sect2_1'></a>\n",
    "### <font color='darkgreen'>Uninitialised fixed embeddings</font>\n",
    "First let's try running a vanilla RNN. For this RNN we won't use the pre-trained word embeddings. We'll use randomly inititalised embeddings. Moreover, we won't update the embeddings weights."
   ]
  },
  {
   "cell_type": "code",
   "execution_count": 31,
   "metadata": {},
   "outputs": [],
   "source": [
    "# total number of tags\n",
    "NUM_CLASSES = y.shape[2]"
   ]
  },
  {
   "cell_type": "code",
   "execution_count": 32,
   "metadata": {},
   "outputs": [],
   "source": [
    "# create architecture\n",
    "\n",
    "rnn_model = Sequential()\n",
    "\n",
    "# create embedding layer - usually the first layer in text problems\n",
    "rnn_model.add(Embedding(input_dim     =  VOCABULARY_SIZE,         # vocabulary size - number of unique words in data\n",
    "                        output_dim    =  EMBEDDING_SIZE,          # length of vector with which each word is represented\n",
    "                        input_length  =  MAX_SEQ_LENGTH,          # length of input sequence\n",
    "                        trainable     =  False                    # False - don't update the embeddings\n",
    "))\n",
    "\n",
    "# add an RNN layer which contains 64 RNN cells\n",
    "rnn_model.add(SimpleRNN(64, \n",
    "              return_sequences=True  # True - return whole sequence; False - return single output of the end of the sequence\n",
    "))\n",
    "\n",
    "# add time distributed (output at each sequence) layer\n",
    "rnn_model.add(TimeDistributed(Dense(NUM_CLASSES, activation='softmax')))"
   ]
  },
  {
   "cell_type": "code",
   "execution_count": 33,
   "metadata": {},
   "outputs": [
    {
     "name": "stdout",
     "output_type": "stream",
     "text": [
      "Model: \"sequential\"\n",
      "_________________________________________________________________\n",
      "Layer (type)                 Output Shape              Param #   \n",
      "=================================================================\n",
      "embedding (Embedding)        (None, 100, 300)          17834700  \n",
      "_________________________________________________________________\n",
      "simple_rnn (SimpleRNN)       (None, 100, 64)           23360     \n",
      "_________________________________________________________________\n",
      "time_distributed (TimeDistri (None, 100, 13)           845       \n",
      "=================================================================\n",
      "Total params: 17,858,905\n",
      "Trainable params: 24,205\n",
      "Non-trainable params: 17,834,700\n",
      "_________________________________________________________________\n"
     ]
    }
   ],
   "source": [
    "rnn_model.summary()"
   ]
  },
  {
   "cell_type": "markdown",
   "metadata": {},
   "source": [
    "<a id='sect2_2'></a>\n",
    "### <font color='darkgreen'>Compile model</font>\n",
    "Here we trained the model by:\n",
    "* Loss function: [Categorical Cross Entropy](https://keras.io/api/losses/probabilistic_losses/#categoricalcrossentropy-class)\n",
    "* Optimizer: [Adam](https://keras.io/api/optimizers/adam/)\n",
    "* Metrics: [Accuracy](https://keras.io/api/metrics/accuracy_metrics/#accuracy-class)"
   ]
  },
  {
   "cell_type": "code",
   "execution_count": 34,
   "metadata": {},
   "outputs": [],
   "source": [
    "rnn_model.compile(loss      =  'categorical_crossentropy',\n",
    "                  optimizer =  'adam',\n",
    "                  metrics   =  ['acc'])"
   ]
  },
  {
   "cell_type": "code",
   "execution_count": 35,
   "metadata": {},
   "outputs": [
    {
     "name": "stdout",
     "output_type": "stream",
     "text": [
      "Model: \"sequential\"\n",
      "_________________________________________________________________\n",
      "Layer (type)                 Output Shape              Param #   \n",
      "=================================================================\n",
      "embedding (Embedding)        (None, 100, 300)          17834700  \n",
      "_________________________________________________________________\n",
      "simple_rnn (SimpleRNN)       (None, 100, 64)           23360     \n",
      "_________________________________________________________________\n",
      "time_distributed (TimeDistri (None, 100, 13)           845       \n",
      "=================================================================\n",
      "Total params: 17,858,905\n",
      "Trainable params: 24,205\n",
      "Non-trainable params: 17,834,700\n",
      "_________________________________________________________________\n"
     ]
    }
   ],
   "source": [
    "# check summary of the model\n",
    "rnn_model.summary()"
   ]
  },
  {
   "cell_type": "markdown",
   "metadata": {},
   "source": [
    "<a id='sect2_3'></a>\n",
    "### <font color='darkgreen'>Fit Model</font>"
   ]
  },
  {
   "cell_type": "code",
   "execution_count": 36,
   "metadata": {},
   "outputs": [
    {
     "name": "stdout",
     "output_type": "stream",
     "text": [
      "Epoch 1/10\n",
      "WARNING:tensorflow:AutoGraph could not transform <bound method Dense.call of <keras.layers.core.Dense object at 0x7f56fc2360d0>> and will run it as-is.\n",
      "Please report this to the TensorFlow team. When filing the bug, set the verbosity to 10 (on Linux, `export AUTOGRAPH_VERBOSITY=10`) and attach the full output.\n",
      "Cause: invalid syntax (tmpkmlnjlfe.py, line 48)\n",
      "To silence this warning, decorate the function with @tf.autograph.experimental.do_not_convert\n",
      "WARNING: AutoGraph could not transform <bound method Dense.call of <keras.layers.core.Dense object at 0x7f56fc2360d0>> and will run it as-is.\n",
      "Please report this to the TensorFlow team. When filing the bug, set the verbosity to 10 (on Linux, `export AUTOGRAPH_VERBOSITY=10`) and attach the full output.\n",
      "Cause: invalid syntax (tmpkmlnjlfe.py, line 48)\n",
      "To silence this warning, decorate the function with @tf.autograph.experimental.do_not_convert\n",
      "408/408 [==============================] - 21s 25ms/step - loss: 0.7341 - acc: 0.8088 - val_loss: 0.3260 - val_acc: 0.9018\n",
      "Epoch 2/10\n",
      "408/408 [==============================] - 9s 23ms/step - loss: 0.2962 - acc: 0.9103 - val_loss: 0.2263 - val_acc: 0.9313\n",
      "Epoch 3/10\n",
      "408/408 [==============================] - 9s 23ms/step - loss: 0.2149 - acc: 0.9340 - val_loss: 0.1837 - val_acc: 0.9420\n",
      "Epoch 4/10\n",
      "408/408 [==============================] - 10s 24ms/step - loss: 0.1785 - acc: 0.9431 - val_loss: 0.1597 - val_acc: 0.9483\n",
      "Epoch 5/10\n",
      "408/408 [==============================] - 10s 23ms/step - loss: 0.1565 - acc: 0.9492 - val_loss: 0.1445 - val_acc: 0.9530\n",
      "Epoch 6/10\n",
      "408/408 [==============================] - 10s 23ms/step - loss: 0.1429 - acc: 0.9533 - val_loss: 0.1356 - val_acc: 0.9551\n",
      "Epoch 7/10\n",
      "408/408 [==============================] - 9s 23ms/step - loss: 0.1343 - acc: 0.9556 - val_loss: 0.1294 - val_acc: 0.9569\n",
      "Epoch 8/10\n",
      "408/408 [==============================] - 10s 24ms/step - loss: 0.1287 - acc: 0.9569 - val_loss: 0.1254 - val_acc: 0.9579\n",
      "Epoch 9/10\n",
      "408/408 [==============================] - 10s 23ms/step - loss: 0.1251 - acc: 0.9578 - val_loss: 0.1221 - val_acc: 0.9586\n",
      "Epoch 10/10\n",
      "408/408 [==============================] - 9s 23ms/step - loss: 0.1220 - acc: 0.9586 - val_loss: 0.1198 - val_acc: 0.9591\n"
     ]
    }
   ],
   "source": [
    "BATCH_SIZE = 128\n",
    "EPOCHS = 10\n",
    "\n",
    "\n",
    "rnn_training = rnn_model.fit(\n",
    "    X_train,\n",
    "    y_train,\n",
    "    batch_size=BATCH_SIZE, \n",
    "    epochs=EPOCHS,\n",
    "    validation_data=(X_validation, y_validation)\n",
    ")"
   ]
  },
  {
   "cell_type": "code",
   "execution_count": 37,
   "metadata": {},
   "outputs": [
    {
     "data": {
      "image/png": "[encoded data removed]",
      "text/plain": [
       "<Figure size 432x288 with 1 Axes>"
      ]
     },
     "metadata": {
      "needs_background": "light"
     },
     "output_type": "display_data"
    }
   ],
   "source": [
    "# visualise training history\n",
    "plt.plot(rnn_training.history['acc'])\n",
    "plt.plot(rnn_training.history['val_acc'])\n",
    "plt.title('model accuracy')\n",
    "plt.ylabel('accuracy')\n",
    "plt.xlabel('epoch')\n",
    "plt.legend(['train', 'test'], loc=\"lower right\")\n",
    "plt.show()"
   ]
  },
  {
   "cell_type": "markdown",
   "metadata": {},
   "source": [
    "<a id='sect2_4'></a>\n",
    "### <font color='darkgreen'>Evaluate RNN Model (embedding not trainable)</font>\n",
    "Here will demonstrate how to make prediction based on given sentence from trained model:"
   ]
  },
  {
   "cell_type": "code",
   "execution_count": 38,
   "metadata": {},
   "outputs": [
    {
     "data": {
      "text/plain": [
       "(1, 100)"
      ]
     },
     "execution_count": 38,
     "metadata": {},
     "output_type": "execute_result"
    }
   ],
   "source": [
    "# Translate sentence into feature fectors\n",
    "X_feats, tokens = sentence2vector(\"This is an interesting sentence.\")\n",
    "X_feats.shape"
   ]
  },
  {
   "cell_type": "code",
   "execution_count": 39,
   "metadata": {},
   "outputs": [
    {
     "name": "stdout",
     "output_type": "stream",
     "text": [
      "(1, 100, 13)\n"
     ]
    }
   ],
   "source": [
    "# Prediction\n",
    "y_pred_tmp = rnn_model.predict(X_feats)\n",
    "print(y_pred_tmp.shape)"
   ]
  },
  {
   "cell_type": "code",
   "execution_count": 40,
   "metadata": {},
   "outputs": [
    {
     "data": {
      "text/plain": [
       "[5, 2, 5, 6, 2, 3]"
      ]
     },
     "execution_count": 40,
     "metadata": {},
     "output_type": "execute_result"
    }
   ],
   "source": [
    "# Handle padding issue\n",
    "y_pred = []\n",
    "for i in range(1, len(tokens)+1):\n",
    "    y_pred.append(np.argmax(y_pred_tmp[0][-i]))\n",
    "    \n",
    "y_pred = y_pred[::-1]\n",
    "y_pred"
   ]
  },
  {
   "cell_type": "code",
   "execution_count": 41,
   "metadata": {},
   "outputs": [
    {
     "name": "stdout",
     "output_type": "stream",
     "text": [
      "This/det\n",
      "is/verb\n",
      "an/det\n",
      "interesting/adj\n",
      "sentence/verb\n",
      "./.\n"
     ]
    }
   ],
   "source": [
    "# Output result\n",
    "for _y, t in zip(y_pred, tokens):\n",
    "    print(f\"{t}/{tag_tokenizer.index_word[_y]}\")"
   ]
  },
  {
   "cell_type": "markdown",
   "metadata": {},
   "source": [
    "Now we know above process, let's wrap this process in a function:"
   ]
  },
  {
   "cell_type": "code",
   "execution_count": 42,
   "metadata": {},
   "outputs": [],
   "source": [
    "def get_pos_of_sentence(sentence, model):\n",
    "    # 1) Sentence to feature vector\n",
    "    _X_test, tokens = sentence2vector(sentence)\n",
    "    # 2) Prediction\n",
    "    y_pred_tmp = model.predict(_X_test)\n",
    "    # 3) Handle padding issue\n",
    "    y_pred = []\n",
    "    for i in range(1, len(tokens)+1):\n",
    "        y_pred.append(np.argmax(y_pred_tmp[0][-i]))\n",
    "    \n",
    "    y_pred = list(map(lambda e: tag_tokenizer.index_word[e], y_pred[::-1]))\n",
    "    \n",
    "    # Output result\n",
    "    return tokens, y_pred"
   ]
  },
  {
   "cell_type": "code",
   "execution_count": 43,
   "metadata": {},
   "outputs": [
    {
     "name": "stdout",
     "output_type": "stream",
     "text": [
      "Fun/adp\n",
      "thing/noun\n",
      "is/verb\n",
      "that/adp\n",
      "I/pron\n",
      "do/verb\n",
      "n't/adv\n",
      "know/verb\n",
      "where/adv\n",
      "the/det\n",
      "rest/noun\n",
      "room/verb\n",
      "is/verb\n",
      "./.\n"
     ]
    }
   ],
   "source": [
    "tokens, y_pred = get_pos_of_sentence(\n",
    "    \"Fun thing is that I don't know where the rest room is.\", \n",
    "    rnn_model\n",
    ")\n",
    "for t, pos in zip(tokens, y_pred):\n",
    "    print(f\"{t}/{pos}\")"
   ]
  },
  {
   "cell_type": "markdown",
   "metadata": {},
   "source": [
    "<a id='sect2_5'></a>\n",
    "### <font color='darkgreen'>Uninitialised trainable embeddings</font>\n",
    "This time, we use RNN with embedding layer as trainable:"
   ]
  },
  {
   "cell_type": "code",
   "execution_count": 44,
   "metadata": {},
   "outputs": [],
   "source": [
    "# create architecture\n",
    "rnn_model = Sequential()\n",
    "\n",
    "# create embedding layer - usually the first layer in text problems\n",
    "rnn_model.add(Embedding(input_dim     =  VOCABULARY_SIZE,         # vocabulary size - number of unique words in data\n",
    "                        output_dim    =  EMBEDDING_SIZE,          # length of vector with which each word is represented\n",
    "                        input_length  =  MAX_SEQ_LENGTH,          # length of input sequence\n",
    "                        trainable     =  True                     # True - update the embeddings while training\n",
    "))\n",
    "\n",
    "# add an RNN layer which contains 64 RNN cells\n",
    "rnn_model.add(SimpleRNN(64, \n",
    "              return_sequences=True  # True - return whole sequence; False - return single output of the end of the sequence\n",
    "))\n",
    "\n",
    "# add time distributed (output at each sequence) layer\n",
    "rnn_model.add(TimeDistributed(Dense(NUM_CLASSES, activation='softmax')))"
   ]
  },
  {
   "cell_type": "markdown",
   "metadata": {},
   "source": [
    "<a id='sect2_6'></a>\n",
    "### <font color='darkgreen'>Compile Model</font>"
   ]
  },
  {
   "cell_type": "code",
   "execution_count": 45,
   "metadata": {},
   "outputs": [],
   "source": [
    "rnn_model.compile(loss      =  'categorical_crossentropy',\n",
    "                  optimizer =  'adam',\n",
    "                  metrics   =  ['acc'])"
   ]
  },
  {
   "cell_type": "code",
   "execution_count": 46,
   "metadata": {},
   "outputs": [
    {
     "name": "stdout",
     "output_type": "stream",
     "text": [
      "Model: \"sequential_1\"\n",
      "_________________________________________________________________\n",
      "Layer (type)                 Output Shape              Param #   \n",
      "=================================================================\n",
      "embedding_1 (Embedding)      (None, 100, 300)          17834700  \n",
      "_________________________________________________________________\n",
      "simple_rnn_1 (SimpleRNN)     (None, 100, 64)           23360     \n",
      "_________________________________________________________________\n",
      "time_distributed_1 (TimeDist (None, 100, 13)           845       \n",
      "=================================================================\n",
      "Total params: 17,858,905\n",
      "Trainable params: 17,858,905\n",
      "Non-trainable params: 0\n",
      "_________________________________________________________________\n"
     ]
    }
   ],
   "source": [
    "# check summary of the model\n",
    "rnn_model.summary()"
   ]
  },
  {
   "cell_type": "markdown",
   "metadata": {},
   "source": [
    "<a id='sect2_7'></a>\n",
    "### <font color='darkgreen'>Fit Model</font> ([back](#sect2))"
   ]
  },
  {
   "cell_type": "code",
   "execution_count": 47,
   "metadata": {},
   "outputs": [
    {
     "name": "stdout",
     "output_type": "stream",
     "text": [
      "Epoch 1/10\n",
      "408/408 [==============================] - 36s 87ms/step - loss: 0.4997 - acc: 0.8867 - val_loss: 0.0410 - val_acc: 0.9878\n",
      "Epoch 2/10\n",
      "408/408 [==============================] - 36s 87ms/step - loss: 0.0321 - acc: 0.9901 - val_loss: 0.0295 - val_acc: 0.9898\n",
      "Epoch 3/10\n",
      "408/408 [==============================] - 36s 88ms/step - loss: 0.0212 - acc: 0.9927 - val_loss: 0.0273 - val_acc: 0.9903\n",
      "Epoch 4/10\n",
      "408/408 [==============================] - 37s 90ms/step - loss: 0.0174 - acc: 0.9939 - val_loss: 0.0268 - val_acc: 0.9905\n",
      "Epoch 5/10\n",
      "408/408 [==============================] - 35s 86ms/step - loss: 0.0149 - acc: 0.9947 - val_loss: 0.0271 - val_acc: 0.9905\n",
      "Epoch 6/10\n",
      "408/408 [==============================] - 37s 91ms/step - loss: 0.0128 - acc: 0.9955 - val_loss: 0.0280 - val_acc: 0.9904\n",
      "Epoch 7/10\n",
      "408/408 [==============================] - 36s 89ms/step - loss: 0.0108 - acc: 0.9964 - val_loss: 0.0294 - val_acc: 0.9901\n",
      "Epoch 8/10\n",
      "408/408 [==============================] - 35s 87ms/step - loss: 0.0092 - acc: 0.9970 - val_loss: 0.0313 - val_acc: 0.9899\n",
      "Epoch 9/10\n",
      "408/408 [==============================] - 36s 87ms/step - loss: 0.0077 - acc: 0.9975 - val_loss: 0.0338 - val_acc: 0.9896\n",
      "Epoch 10/10\n",
      "408/408 [==============================] - 35s 86ms/step - loss: 0.0065 - acc: 0.9980 - val_loss: 0.0362 - val_acc: 0.9893\n"
     ]
    }
   ],
   "source": [
    "rnn_training = rnn_model.fit(\n",
    "    X_train, \n",
    "    y_train, \n",
    "    batch_size=BATCH_SIZE, \n",
    "    epochs=EPOCHS, \n",
    "    validation_data=(X_validation, y_validation)\n",
    ")"
   ]
  },
  {
   "cell_type": "code",
   "execution_count": 48,
   "metadata": {},
   "outputs": [
    {
     "data": {
      "image/png": "[encoded data removed]",
      "text/plain": [
       "<Figure size 432x288 with 1 Axes>"
      ]
     },
     "metadata": {
      "needs_background": "light"
     },
     "output_type": "display_data"
    }
   ],
   "source": [
    "# visualise training history\n",
    "plt.plot(rnn_training.history['acc'])\n",
    "plt.plot(rnn_training.history['val_acc'])\n",
    "plt.title('model accuracy')\n",
    "plt.ylabel('accuracy')\n",
    "plt.xlabel('epoch')\n",
    "plt.legend(['train', 'test'], loc=\"lower right\")\n",
    "plt.show()"
   ]
  },
  {
   "cell_type": "markdown",
   "metadata": {},
   "source": [
    "<a id='sect2_8'></a>\n",
    "### <font color='darkgreen'>Using pre-trained embedding weights</font> ([back](#sect2))"
   ]
  },
  {
   "cell_type": "code",
   "execution_count": 49,
   "metadata": {},
   "outputs": [],
   "source": [
    "# create architecture\n",
    "\n",
    "rnn_model = Sequential()\n",
    "\n",
    "# create embedding layer - usually the first layer in text problems\n",
    "rnn_model.add(Embedding(input_dim     =  VOCABULARY_SIZE,         # vocabulary size - number of unique words in data\n",
    "                        output_dim    =  EMBEDDING_SIZE,          # length of vector with which each word is represented\n",
    "                        input_length  =  MAX_SEQ_LENGTH,          # length of input sequence\n",
    "                        weights       = [embedding_weights],      # word embedding matrix\n",
    "                        trainable     =  True                     # True - update the embeddings while training\n",
    "))\n",
    "\n",
    "# add an RNN layer which contains 64 RNN cells\n",
    "rnn_model.add(SimpleRNN(64, \n",
    "              return_sequences=True  # True - return whole sequence; False - return single output of the end of the sequence\n",
    "))\n",
    "\n",
    "# add time distributed (output at each sequence) layer\n",
    "rnn_model.add(TimeDistributed(Dense(NUM_CLASSES, activation='softmax')))"
   ]
  },
  {
   "cell_type": "markdown",
   "metadata": {},
   "source": [
    "<a id='sect2_9'></a>\n",
    "### <font color='darkgreen'>Compile model</font> ([back](#sect2))"
   ]
  },
  {
   "cell_type": "code",
   "execution_count": 50,
   "metadata": {},
   "outputs": [],
   "source": [
    "rnn_model.compile(loss      =  'categorical_crossentropy',\n",
    "                  optimizer =  'adam',\n",
    "                  metrics   =  ['acc'])"
   ]
  },
  {
   "cell_type": "code",
   "execution_count": 51,
   "metadata": {},
   "outputs": [
    {
     "name": "stdout",
     "output_type": "stream",
     "text": [
      "Model: \"sequential_2\"\n",
      "_________________________________________________________________\n",
      "Layer (type)                 Output Shape              Param #   \n",
      "=================================================================\n",
      "embedding_2 (Embedding)      (None, 100, 300)          17834700  \n",
      "_________________________________________________________________\n",
      "simple_rnn_2 (SimpleRNN)     (None, 100, 64)           23360     \n",
      "_________________________________________________________________\n",
      "time_distributed_2 (TimeDist (None, 100, 13)           845       \n",
      "=================================================================\n",
      "Total params: 17,858,905\n",
      "Trainable params: 17,858,905\n",
      "Non-trainable params: 0\n",
      "_________________________________________________________________\n"
     ]
    }
   ],
   "source": [
    "# check summary of the model\n",
    "rnn_model.summary()"
   ]
  },
  {
   "cell_type": "markdown",
   "metadata": {},
   "source": [
    "<a id='sect2_10'></a>\n",
    "### <font color='darkgreen'>Fix Model</font> ([back](#sect2))"
   ]
  },
  {
   "cell_type": "code",
   "execution_count": 52,
   "metadata": {},
   "outputs": [
    {
     "name": "stdout",
     "output_type": "stream",
     "text": [
      "Epoch 1/10\n",
      "408/408 [==============================] - 37s 87ms/step - loss: 0.4648 - acc: 0.9191 - val_loss: 0.0355 - val_acc: 0.9890\n",
      "Epoch 2/10\n",
      "408/408 [==============================] - 35s 87ms/step - loss: 0.0288 - acc: 0.9908 - val_loss: 0.0271 - val_acc: 0.9905\n",
      "Epoch 3/10\n",
      "408/408 [==============================] - 35s 87ms/step - loss: 0.0201 - acc: 0.9930 - val_loss: 0.0254 - val_acc: 0.9909\n",
      "Epoch 4/10\n",
      "408/408 [==============================] - 36s 87ms/step - loss: 0.0170 - acc: 0.9939 - val_loss: 0.0250 - val_acc: 0.9911\n",
      "Epoch 5/10\n",
      "408/408 [==============================] - 35s 87ms/step - loss: 0.0146 - acc: 0.9948 - val_loss: 0.0251 - val_acc: 0.9911\n",
      "Epoch 6/10\n",
      "408/408 [==============================] - 35s 87ms/step - loss: 0.0129 - acc: 0.9955 - val_loss: 0.0256 - val_acc: 0.9910\n",
      "Epoch 7/10\n",
      "408/408 [==============================] - 35s 87ms/step - loss: 0.0114 - acc: 0.9961 - val_loss: 0.0264 - val_acc: 0.9910\n",
      "Epoch 8/10\n",
      "408/408 [==============================] - 36s 88ms/step - loss: 0.0099 - acc: 0.9966 - val_loss: 0.0277 - val_acc: 0.9908\n",
      "Epoch 9/10\n",
      "408/408 [==============================] - 35s 87ms/step - loss: 0.0083 - acc: 0.9972 - val_loss: 0.0292 - val_acc: 0.9906\n",
      "Epoch 10/10\n",
      "408/408 [==============================] - 35s 87ms/step - loss: 0.0073 - acc: 0.9976 - val_loss: 0.0310 - val_acc: 0.9904\n"
     ]
    }
   ],
   "source": [
    "rnn_training = rnn_model.fit(\n",
    "    X_train, \n",
    "    y_train,\n",
    "    batch_size=BATCH_SIZE, \n",
    "    epochs=EPOCHS, \n",
    "    validation_data=(X_validation, y_validation)\n",
    ")"
   ]
  },
  {
   "cell_type": "code",
   "execution_count": 53,
   "metadata": {},
   "outputs": [
    {
     "data": {
      "image/png": "[encoded data removed]",
      "text/plain": [
       "<Figure size 432x288 with 1 Axes>"
      ]
     },
     "metadata": {
      "needs_background": "light"
     },
     "output_type": "display_data"
    }
   ],
   "source": [
    "# visualise training history\n",
    "plt.plot(rnn_training.history['acc'])\n",
    "plt.plot(rnn_training.history['val_acc'])\n",
    "plt.title('model accuracy')\n",
    "plt.ylabel('accuracy')\n",
    "plt.xlabel('epoch')\n",
    "plt.legend(['train', 'test'], loc=\"lower right\")\n",
    "plt.show()"
   ]
  },
  {
   "cell_type": "markdown",
   "metadata": {},
   "source": [
    "<a id='sect3'></a>\n",
    "## <font color='darkblue'>3. LSTM</font>\n",
    "We'll use pre-trained word embeddings in following models and allow them to be updated as well.\n",
    "1. <font size='3ptx'>[**Create model architecture**](#sect3_1)</font>\n",
    "2. <font size='3ptx'>[**Compile Model**](#sect3_2)</font>"
   ]
  },
  {
   "cell_type": "markdown",
   "metadata": {},
   "source": [
    "<a id='sect3_1'></a>\n",
    "### <font color='darkgreen'>Create model architecture</font>"
   ]
  },
  {
   "cell_type": "code",
   "execution_count": 54,
   "metadata": {},
   "outputs": [],
   "source": [
    "# create architecture\n",
    "lstm_model = Sequential()\n",
    "lstm_model.add(Embedding(input_dim     = VOCABULARY_SIZE,         # vocabulary size - number of unique words in data\n",
    "                         output_dim    = EMBEDDING_SIZE,          # length of vector with which each word is represented\n",
    "                         input_length  = MAX_SEQ_LENGTH,          # length of input sequence\n",
    "                         weights       = [embedding_weights],     # word embedding matrix\n",
    "                         trainable     = True                     # True - update embeddings_weight matrix\n",
    "))\n",
    "\n",
    "lstm_model.add(LSTM(64, return_sequences=True))\n",
    "lstm_model.add(TimeDistributed(Dense(NUM_CLASSES, activation='softmax')))"
   ]
  },
  {
   "cell_type": "markdown",
   "metadata": {},
   "source": [
    "<a id='sect3_2'></a>\n",
    "### <font color='darkgreen'>Compile Model</font>"
   ]
  },
  {
   "cell_type": "code",
   "execution_count": 55,
   "metadata": {},
   "outputs": [],
   "source": [
    "lstm_model.compile(\n",
    "    loss = 'categorical_crossentropy',\n",
    "    optimizer =  'adam',\n",
    "    metrics   =  ['acc']\n",
    ")"
   ]
  },
  {
   "cell_type": "code",
   "execution_count": 56,
   "metadata": {},
   "outputs": [
    {
     "name": "stdout",
     "output_type": "stream",
     "text": [
      "Model: \"sequential_3\"\n",
      "_________________________________________________________________\n",
      "Layer (type)                 Output Shape              Param #   \n",
      "=================================================================\n",
      "embedding_3 (Embedding)      (None, 100, 300)          17834700  \n",
      "_________________________________________________________________\n",
      "lstm (LSTM)                  (None, 100, 64)           93440     \n",
      "_________________________________________________________________\n",
      "time_distributed_3 (TimeDist (None, 100, 13)           845       \n",
      "=================================================================\n",
      "Total params: 17,928,985\n",
      "Trainable params: 17,928,985\n",
      "Non-trainable params: 0\n",
      "_________________________________________________________________\n"
     ]
    }
   ],
   "source": [
    "lstm_model.summary()"
   ]
  },
  {
   "cell_type": "markdown",
   "metadata": {},
   "source": [
    "### <font color='darkgreen'>Fit Model</font>"
   ]
  },
  {
   "cell_type": "code",
   "execution_count": 57,
   "metadata": {},
   "outputs": [
    {
     "name": "stdout",
     "output_type": "stream",
     "text": [
      "Epoch 1/10\n",
      "408/408 [==============================] - 50s 118ms/step - loss: 0.6646 - acc: 0.8788 - val_loss: 0.0450 - val_acc: 0.9873\n",
      "Epoch 2/10\n",
      "408/408 [==============================] - 49s 119ms/step - loss: 0.0367 - acc: 0.9890 - val_loss: 0.0292 - val_acc: 0.9900\n",
      "Epoch 3/10\n",
      "408/408 [==============================] - 48s 118ms/step - loss: 0.0233 - acc: 0.9919 - val_loss: 0.0259 - val_acc: 0.9908\n",
      "Epoch 4/10\n",
      "408/408 [==============================] - 48s 118ms/step - loss: 0.0196 - acc: 0.9930 - val_loss: 0.0248 - val_acc: 0.9911\n",
      "Epoch 5/10\n",
      "408/408 [==============================] - 48s 118ms/step - loss: 0.0172 - acc: 0.9938 - val_loss: 0.0240 - val_acc: 0.9914\n",
      "Epoch 6/10\n",
      "408/408 [==============================] - 48s 118ms/step - loss: 0.0157 - acc: 0.9943 - val_loss: 0.0238 - val_acc: 0.9916\n",
      "Epoch 7/10\n",
      "408/408 [==============================] - 48s 118ms/step - loss: 0.0137 - acc: 0.9951 - val_loss: 0.0239 - val_acc: 0.9917\n",
      "Epoch 8/10\n",
      "408/408 [==============================] - 48s 118ms/step - loss: 0.0126 - acc: 0.9955 - val_loss: 0.0240 - val_acc: 0.9918\n",
      "Epoch 9/10\n",
      "408/408 [==============================] - 48s 118ms/step - loss: 0.0111 - acc: 0.9961 - val_loss: 0.0244 - val_acc: 0.9918\n",
      "Epoch 10/10\n",
      "408/408 [==============================] - 48s 119ms/step - loss: 0.0099 - acc: 0.9966 - val_loss: 0.0255 - val_acc: 0.9915\n"
     ]
    }
   ],
   "source": [
    "lstm_training = lstm_model.fit(\n",
    "    X_train, \n",
    "    y_train, \n",
    "    batch_size=BATCH_SIZE, \n",
    "    epochs=EPOCHS, \n",
    "    validation_data=(X_validation, y_validation)\n",
    ")"
   ]
  },
  {
   "cell_type": "code",
   "execution_count": 58,
   "metadata": {},
   "outputs": [
    {
     "data": {
      "image/png": "[encoded data removed]",
      "text/plain": [
       "<Figure size 432x288 with 1 Axes>"
      ]
     },
     "metadata": {
      "needs_background": "light"
     },
     "output_type": "display_data"
    }
   ],
   "source": [
    "# visualise training history\n",
    "plt.plot(lstm_training.history['acc'])\n",
    "plt.plot(lstm_training.history['val_acc'])\n",
    "plt.title('model accuracy')\n",
    "plt.ylabel('accuracy')\n",
    "plt.xlabel('epoch')\n",
    "plt.legend(['train', 'test'], loc=\"lower right\")\n",
    "plt.show()"
   ]
  },
  {
   "cell_type": "code",
   "execution_count": 59,
   "metadata": {},
   "outputs": [
    {
     "name": "stdout",
     "output_type": "stream",
     "text": [
      "Fun/noun\n",
      "thing/noun\n",
      "is/verb\n",
      "that/det\n",
      "I/pron\n",
      "do/verb\n",
      "n't/adv\n",
      "know/verb\n",
      "where/adv\n",
      "the/det\n",
      "rest/noun\n",
      "room/noun\n",
      "is/verb\n",
      "./.\n"
     ]
    }
   ],
   "source": [
    "tokens, y_pred = get_pos_of_sentence(\n",
    "    \"Fun thing is that I don't know where the rest room is.\", \n",
    "    lstm_model\n",
    ")\n",
    "for t, pos in zip(tokens, y_pred):\n",
    "    print(f\"{t}/{pos}\")"
   ]
  },
  {
   "cell_type": "markdown",
   "metadata": {},
   "source": [
    "## <font color='darkblue'>4. GRU</font>\n",
    "[**Gated recurrent units**](https://en.wikipedia.org/wiki/Gated_recurrent_unit) (GRUs) are a gating mechanism in recurrent neural networks, introduced in 2014 by Kyunghyun Cho et al. The GRU is like a long short-term memory (LSTM) with a forget gate, but has fewer parameters than LSTM, as it lacks an output gate.\n",
    "* <font size='3ptx'>[**Create model architecture**](#sect4_1)</font>\n",
    "* <font size='3ptx'>[**Compile model**](#sect4_2)</font>\n",
    "* <font size='3ptx'>[**Fit model**](#sect4_3)</font>"
   ]
  },
  {
   "cell_type": "markdown",
   "metadata": {},
   "source": [
    "<a id='sect4_1'></a>\n",
    "### <font color='darkgreen'>Create model architecture</font>"
   ]
  },
  {
   "cell_type": "code",
   "execution_count": 60,
   "metadata": {},
   "outputs": [],
   "source": [
    "# create architecture\n",
    "gru_model = Sequential()\n",
    "gru_model.add(Embedding(input_dim     = VOCABULARY_SIZE,\n",
    "                        output_dim    = EMBEDDING_SIZE,\n",
    "                        input_length  = MAX_SEQ_LENGTH,\n",
    "                        weights       = [embedding_weights],\n",
    "                        trainable     = True\n",
    "))\n",
    "gru_model.add(GRU(64, return_sequences=True))\n",
    "gru_model.add(TimeDistributed(Dense(NUM_CLASSES, activation='softmax')))"
   ]
  },
  {
   "cell_type": "markdown",
   "metadata": {},
   "source": [
    "<a id='sect4_2'></a>\n",
    "### <font color='darkgreen'>Compile model</font>"
   ]
  },
  {
   "cell_type": "code",
   "execution_count": 61,
   "metadata": {},
   "outputs": [],
   "source": [
    "gru_model.compile(\n",
    "    loss='categorical_crossentropy',\n",
    "    optimizer='adam',\n",
    "    metrics=['acc']\n",
    ")"
   ]
  },
  {
   "cell_type": "code",
   "execution_count": 62,
   "metadata": {},
   "outputs": [
    {
     "name": "stdout",
     "output_type": "stream",
     "text": [
      "Model: \"sequential_4\"\n",
      "_________________________________________________________________\n",
      "Layer (type)                 Output Shape              Param #   \n",
      "=================================================================\n",
      "embedding_4 (Embedding)      (None, 100, 300)          17834700  \n",
      "_________________________________________________________________\n",
      "gru (GRU)                    (None, 100, 64)           70272     \n",
      "_________________________________________________________________\n",
      "time_distributed_4 (TimeDist (None, 100, 13)           845       \n",
      "=================================================================\n",
      "Total params: 17,905,817\n",
      "Trainable params: 17,905,817\n",
      "Non-trainable params: 0\n",
      "_________________________________________________________________\n"
     ]
    }
   ],
   "source": [
    "# check summary of model\n",
    "gru_model.summary()"
   ]
  },
  {
   "cell_type": "markdown",
   "metadata": {},
   "source": [
    "<a id='sect4_3'></a>\n",
    "### <font color='darkgreen'>Fit model</font>"
   ]
  },
  {
   "cell_type": "code",
   "execution_count": 63,
   "metadata": {},
   "outputs": [
    {
     "name": "stdout",
     "output_type": "stream",
     "text": [
      "Epoch 1/10\n",
      "408/408 [==============================] - 47s 112ms/step - loss: 0.5908 - acc: 0.9159 - val_loss: 0.0353 - val_acc: 0.9887\n",
      "Epoch 2/10\n",
      "408/408 [==============================] - 45s 110ms/step - loss: 0.0294 - acc: 0.9901 - val_loss: 0.0269 - val_acc: 0.9904\n",
      "Epoch 3/10\n",
      "408/408 [==============================] - 45s 110ms/step - loss: 0.0211 - acc: 0.9923 - val_loss: 0.0250 - val_acc: 0.9908\n",
      "Epoch 4/10\n",
      "408/408 [==============================] - 45s 110ms/step - loss: 0.0181 - acc: 0.9933 - val_loss: 0.0242 - val_acc: 0.9911\n",
      "Epoch 5/10\n",
      "408/408 [==============================] - 45s 110ms/step - loss: 0.0164 - acc: 0.9938 - val_loss: 0.0240 - val_acc: 0.9912\n",
      "Epoch 6/10\n",
      "408/408 [==============================] - 45s 110ms/step - loss: 0.0148 - acc: 0.9944 - val_loss: 0.0240 - val_acc: 0.9914\n",
      "Epoch 7/10\n",
      "408/408 [==============================] - 45s 110ms/step - loss: 0.0137 - acc: 0.9948 - val_loss: 0.0243 - val_acc: 0.9915\n",
      "Epoch 8/10\n",
      "408/408 [==============================] - 45s 111ms/step - loss: 0.0125 - acc: 0.9953 - val_loss: 0.0246 - val_acc: 0.9914\n",
      "Epoch 9/10\n",
      "408/408 [==============================] - 45s 110ms/step - loss: 0.0115 - acc: 0.9957 - val_loss: 0.0253 - val_acc: 0.9914\n",
      "Epoch 10/10\n",
      "408/408 [==============================] - 45s 111ms/step - loss: 0.0104 - acc: 0.9962 - val_loss: 0.0259 - val_acc: 0.9914\n"
     ]
    }
   ],
   "source": [
    "gru_training = gru_model.fit(\n",
    "    X_train, \n",
    "    y_train,\n",
    "    batch_size=BATCH_SIZE,\n",
    "    epochs=EPOCHS,\n",
    "    validation_data=(X_validation, y_validation)\n",
    ")"
   ]
  },
  {
   "cell_type": "code",
   "execution_count": 64,
   "metadata": {},
   "outputs": [
    {
     "data": {
      "image/png": "[encoded data removed]",
      "text/plain": [
       "<Figure size 432x288 with 1 Axes>"
      ]
     },
     "metadata": {
      "needs_background": "light"
     },
     "output_type": "display_data"
    }
   ],
   "source": [
    "# visualise training history\n",
    "plt.plot(gru_training.history['acc'])\n",
    "plt.plot(gru_training.history['val_acc'])\n",
    "plt.title('model accuracy')\n",
    "plt.ylabel('accuracy')\n",
    "plt.xlabel('epoch')\n",
    "plt.legend(['train', 'test'], loc=\"lower right\")\n",
    "plt.show()"
   ]
  },
  {
   "cell_type": "markdown",
   "metadata": {},
   "source": [
    "## <font color='darkblue'>5. Bidirectional LSTM</font>\n",
    "Bidirectional LSTMs are an extension of traditional LSTMs that can improve model performance on sequence classification problems.\n",
    "* <font size='3ptx'>[**Create model architecture**](#sect5_1)</font>\n",
    "* <font size='3ptx'>[**Compile model**](#sect5_2)</font>\n",
    "* <font size='3ptx'>[**Fit model**](#sect5_3)</font>"
   ]
  },
  {
   "cell_type": "markdown",
   "metadata": {},
   "source": [
    "<a id='sect5_1'></a>\n",
    "### <font color='darkgreen'>Create model architecture</font>"
   ]
  },
  {
   "cell_type": "code",
   "execution_count": 65,
   "metadata": {},
   "outputs": [],
   "source": [
    "# create architecture\n",
    "bidirect_model = Sequential()\n",
    "bidirect_model.add(Embedding(input_dim     = VOCABULARY_SIZE,\n",
    "                             output_dim    = EMBEDDING_SIZE,\n",
    "                             input_length  = MAX_SEQ_LENGTH,\n",
    "                             weights       = [embedding_weights],\n",
    "                             trainable     = True\n",
    "))\n",
    "bidirect_model.add(Bidirectional(LSTM(64, return_sequences=True)))\n",
    "bidirect_model.add(TimeDistributed(Dense(NUM_CLASSES, activation='softmax')))"
   ]
  },
  {
   "cell_type": "markdown",
   "metadata": {},
   "source": [
    "<a id='sect5_2'></a>\n",
    "### <font color=\"darkgreen\">Compile Model</font>"
   ]
  },
  {
   "cell_type": "code",
   "execution_count": 66,
   "metadata": {},
   "outputs": [],
   "source": [
    "bidirect_model.compile(\n",
    "    loss='categorical_crossentropy',\n",
    "    optimizer='adam',\n",
    "    metrics=['acc']\n",
    ")"
   ]
  },
  {
   "cell_type": "code",
   "execution_count": 67,
   "metadata": {},
   "outputs": [
    {
     "name": "stdout",
     "output_type": "stream",
     "text": [
      "Model: \"sequential_5\"\n",
      "_________________________________________________________________\n",
      "Layer (type)                 Output Shape              Param #   \n",
      "=================================================================\n",
      "embedding_5 (Embedding)      (None, 100, 300)          17834700  \n",
      "_________________________________________________________________\n",
      "bidirectional (Bidirectional (None, 100, 128)          186880    \n",
      "_________________________________________________________________\n",
      "time_distributed_5 (TimeDist (None, 100, 13)           1677      \n",
      "=================================================================\n",
      "Total params: 18,023,257\n",
      "Trainable params: 18,023,257\n",
      "Non-trainable params: 0\n",
      "_________________________________________________________________\n"
     ]
    }
   ],
   "source": [
    "# check summary of model\n",
    "bidirect_model.summary()"
   ]
  },
  {
   "cell_type": "markdown",
   "metadata": {},
   "source": [
    "<a id='sect5_3'></a>\n",
    "### <font color='darkgreen'>Fit Model </font>"
   ]
  },
  {
   "cell_type": "code",
   "execution_count": 68,
   "metadata": {},
   "outputs": [
    {
     "name": "stdout",
     "output_type": "stream",
     "text": [
      "Epoch 1/10\n",
      "408/408 [==============================] - 62s 146ms/step - loss: 0.5774 - acc: 0.8825 - val_loss: 0.0319 - val_acc: 0.9902\n",
      "Epoch 2/10\n",
      "408/408 [==============================] - 58s 143ms/step - loss: 0.0258 - acc: 0.9919 - val_loss: 0.0217 - val_acc: 0.9928\n",
      "Epoch 3/10\n",
      "408/408 [==============================] - 58s 143ms/step - loss: 0.0161 - acc: 0.9947 - val_loss: 0.0193 - val_acc: 0.9934\n",
      "Epoch 4/10\n",
      "408/408 [==============================] - 58s 143ms/step - loss: 0.0125 - acc: 0.9958 - val_loss: 0.0183 - val_acc: 0.9937\n",
      "Epoch 5/10\n",
      "408/408 [==============================] - 58s 143ms/step - loss: 0.0101 - acc: 0.9966 - val_loss: 0.0181 - val_acc: 0.9940\n",
      "Epoch 6/10\n",
      "408/408 [==============================] - 58s 143ms/step - loss: 0.0081 - acc: 0.9974 - val_loss: 0.0182 - val_acc: 0.9941\n",
      "Epoch 7/10\n",
      "408/408 [==============================] - 58s 143ms/step - loss: 0.0063 - acc: 0.9980 - val_loss: 0.0190 - val_acc: 0.9941\n",
      "Epoch 8/10\n",
      "408/408 [==============================] - 58s 143ms/step - loss: 0.0051 - acc: 0.9985 - val_loss: 0.0201 - val_acc: 0.9940\n",
      "Epoch 9/10\n",
      "408/408 [==============================] - 58s 143ms/step - loss: 0.0040 - acc: 0.9988 - val_loss: 0.0211 - val_acc: 0.9939\n",
      "Epoch 10/10\n",
      "408/408 [==============================] - 58s 143ms/step - loss: 0.0030 - acc: 0.9992 - val_loss: 0.0223 - val_acc: 0.9938\n"
     ]
    }
   ],
   "source": [
    "bidirect_training = bidirect_model.fit(\n",
    "    X_train, \n",
    "    y_train, \n",
    "    batch_size=BATCH_SIZE,\n",
    "    epochs=EPOCHS,\n",
    "    validation_data=(X_validation, y_validation)\n",
    ")"
   ]
  },
  {
   "cell_type": "code",
   "execution_count": 69,
   "metadata": {},
   "outputs": [
    {
     "data": {
      "image/png": "[encoded data removed]",
      "text/plain": [
       "<Figure size 432x288 with 1 Axes>"
      ]
     },
     "metadata": {
      "needs_background": "light"
     },
     "output_type": "display_data"
    }
   ],
   "source": [
    "# visualise training history\n",
    "plt.plot(bidirect_training.history['acc'])\n",
    "plt.plot(bidirect_training.history['val_acc'])\n",
    "plt.title('model accuracy')\n",
    "plt.ylabel('accuracy')\n",
    "plt.xlabel('epoch')\n",
    "plt.legend(['train', 'test'], loc=\"lower right\")\n",
    "plt.show()"
   ]
  },
  {
   "cell_type": "markdown",
   "metadata": {},
   "source": [
    "## <font color='darkblue'>6. Model evaluation</font>"
   ]
  },
  {
   "cell_type": "markdown",
   "metadata": {},
   "source": [
    "### <font color='darkgreen'>RNN model performance</font>"
   ]
  },
  {
   "cell_type": "code",
   "execution_count": 70,
   "metadata": {},
   "outputs": [
    {
     "name": "stdout",
     "output_type": "stream",
     "text": [
      "339/339 [==============================] - 4s 11ms/step - loss: 0.0307 - acc: 0.9905\n",
      "Loss: 0.030669433996081352,\n",
      "Accuracy: 0.9905493259429932\n"
     ]
    }
   ],
   "source": [
    "rnn_loss, rnn_accuracy = rnn_model.evaluate(X_test, y_test, verbose = 1)\n",
    "print(\"Loss: {0},\\nAccuracy: {1}\".format(rnn_loss, rnn_accuracy))"
   ]
  },
  {
   "cell_type": "markdown",
   "metadata": {},
   "source": [
    "### <font color='darkgreen'>LSTM model performance</font>"
   ]
  },
  {
   "cell_type": "code",
   "execution_count": 71,
   "metadata": {},
   "outputs": [
    {
     "name": "stdout",
     "output_type": "stream",
     "text": [
      "339/339 [==============================] - 6s 19ms/step - loss: 0.0253 - acc: 0.9917\n",
      "Loss: 0.02534717693924904,\n",
      "Accuracy: 0.9916656017303467\n"
     ]
    }
   ],
   "source": [
    "lstm_loss, lstm_accuracy = lstm_model.evaluate(X_test, y_test, verbose = 1)\n",
    "print(\"Loss: {0},\\nAccuracy: {1}\".format(lstm_loss, lstm_accuracy))"
   ]
  },
  {
   "cell_type": "markdown",
   "metadata": {},
   "source": [
    "### <font color='darkgreen'>Bidirectional LSTM model performance</font>"
   ]
  },
  {
   "cell_type": "code",
   "execution_count": 73,
   "metadata": {},
   "outputs": [
    {
     "name": "stdout",
     "output_type": "stream",
     "text": [
      "339/339 [==============================] - 3s 9ms/step - loss: 0.0223 - acc: 0.9938\n",
      "Loss: 0.022342871874570847,\n",
      "Accuracy: 0.9938195943832397\n"
     ]
    }
   ],
   "source": [
    "loss, accuracy = bidirect_model.evaluate(X_test, y_test, verbose = 1)\n",
    "print(\"Loss: {0},\\nAccuracy: {1}\".format(loss, accuracy))"
   ]
  },
  {
   "cell_type": "markdown",
   "metadata": {},
   "source": [
    "## <font color='darkblue'>Supplement</font>\n",
    "* [Recurrent Neural Networks (RNN) with Keras](https://www.tensorflow.org/guide/keras/rnn)\n",
    "* [Kaggle - Using keras models with scikit-learn pipelines](https://www.kaggle.com/residentmario/using-keras-models-with-scikit-learn-pipelines)\n",
    "* [How to Develop a Bidirectional LSTM For Sequence Classification in Python with Keras](https://machinelearningmastery.com/develop-bidirectional-lstm-sequence-classification-python-keras/)"
   ]
  }
 ],
 "metadata": {
  "kernelspec": {
   "display_name": "Python 3",
   "language": "python",
   "name": "python3"
  },
  "language_info": {
   "codemirror_mode": {
    "name": "ipython",
    "version": 3
   },
   "file_extension": ".py",
   "mimetype": "text/x-python",
   "name": "python",
   "nbconvert_exporter": "python",
   "pygments_lexer": "ipython3",
   "version": "3.9.2"
  }
 },
 "nbformat": 4,
 "nbformat_minor": 4
}
