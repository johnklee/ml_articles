{
 "cells": [
  {
   "cell_type": "markdown",
   "id": "24f8a4c6-81c4-4447-a7e2-d27ce5aa8524",
   "metadata": {},
   "source": [
    "## <b><font color='darkblue'>Preface</font></b>\n",
    "([source colab](https://github.com/MikeChan-HK/Gemini-agent-example/tree/main)) <b><font size='3ptx'>This repository demonstrates how to use Google's Gemini AI model in an application. Gemini is a powerful language model that excels in various tasks, including text generation, chatbots, and more. most importantly.... it's free!!!!</font></b>"
   ]
  },
  {
   "cell_type": "markdown",
   "id": "33894aac-6f4c-4b55-a751-03bab8e92441",
   "metadata": {},
   "source": [
    "### <b><font color='darkgreen'>Setup</font></b>"
   ]
  },
  {
   "cell_type": "code",
   "execution_count": 1,
   "id": "f1b0e181-795e-41c0-aaa3-8e364ede5c04",
   "metadata": {},
   "outputs": [],
   "source": [
    "# !pip install -q langchain langchain-google-genai duckduckgo-search youtube_search wikipedia langchainhub langchain_experimental"
   ]
  },
  {
   "cell_type": "code",
   "execution_count": 9,
   "id": "9d74bf80-cfe3-4fcf-9ba8-eff425a14240",
   "metadata": {},
   "outputs": [],
   "source": [
    "# !pip install -q numexpr"
   ]
  },
  {
   "cell_type": "code",
   "execution_count": 3,
   "id": "79efc6b5-337e-463b-813a-29588d6469d9",
   "metadata": {},
   "outputs": [],
   "source": [
    "import os\n",
    "import getpass\n",
    "\n",
    "from langchain.agents import Tool, AgentType, initialize_agent\n",
    "from langchain.memory import ConversationBufferMemory\n",
    "from langchain_google_genai import ChatGoogleGenerativeAI\n",
    "from langchain_google_genai import (\n",
    "    ChatGoogleGenerativeAI,\n",
    "    HarmBlockThreshold,\n",
    "    HarmCategory,\n",
    ")\n",
    "from langchain_core.messages import HumanMessage, SystemMessage\n",
    "from langchain.utilities import DuckDuckGoSearchAPIWrapper\n",
    "from langchain.agents import AgentExecutor\n",
    "from langchain import hub, LLMMathChain\n",
    "from langchain.agents.format_scratchpad import format_log_to_str\n",
    "from langchain.agents.output_parsers import ReActSingleInputOutputParser\n",
    "from langchain.tools.render import render_text_description"
   ]
  },
  {
   "cell_type": "markdown",
   "id": "518e84c0-7cdf-4b90-9d47-bf3e48c00ca1",
   "metadata": {},
   "source": [
    "Refer to this post on how to retrieve your Google API key."
   ]
  },
  {
   "cell_type": "code",
   "execution_count": 4,
   "id": "c95f1f67-9639-4e47-a89b-b4528cdb49d3",
   "metadata": {},
   "outputs": [],
   "source": [
    "import os\n",
    "from dotenv import load_dotenv\n",
    "\n",
    "# loads the .env file\n",
    "load_dotenv()\n",
    "\n",
    "GOOGLE_API_KEY = os.getenv(\"GOOGLE_API_KEY\") "
   ]
  },
  {
   "cell_type": "code",
   "execution_count": 5,
   "id": "acdd4009-fcc2-40a7-bee7-cae992d80267",
   "metadata": {},
   "outputs": [],
   "source": [
    "# setup model\n",
    "llm = ChatGoogleGenerativeAI(\n",
    "    model=\"gemini-pro\",\n",
    "    convert_system_message_to_human=True,\n",
    "    handle_parsing_errors=True,\n",
    "    temperature=0.6,\n",
    "    max_tokens= 200,\n",
    "    safety_settings = {\n",
    "        HarmCategory.HARM_CATEGORY_HARASSMENT: HarmBlockThreshold.BLOCK_ONLY_HIGH,\n",
    "        HarmCategory.HARM_CATEGORY_HATE_SPEECH: HarmBlockThreshold.BLOCK_ONLY_HIGH,\n",
    "        HarmCategory.HARM_CATEGORY_SEXUALLY_EXPLICIT: HarmBlockThreshold.BLOCK_ONLY_HIGH,\n",
    "        HarmCategory.HARM_CATEGORY_DANGEROUS_CONTENT: HarmBlockThreshold.BLOCK_ONLY_HIGH,\n",
    "    },\n",
    ")"
   ]
  },
  {
   "cell_type": "code",
   "execution_count": 10,
   "id": "437f6dd2-8c90-4c9c-a74c-399922c9f810",
   "metadata": {},
   "outputs": [],
   "source": [
    "ddg_search = DuckDuckGoSearchAPIWrapper()\n",
    "llm_math_chain = LLMMathChain.from_llm(llm=llm, verbose=True)\n",
    "\n",
    "tools = [\n",
    "    Tool(\n",
    "        name=\"DuckDuckGo Search\",\n",
    "        func=ddg_search.run,\n",
    "        description=\"Useful to browse information from the internet to know recent results and information you don't know. Then, tell user the result.\",\n",
    "    ),\n",
    "    Tool.from_function(\n",
    "        func=llm_math_chain.run,\n",
    "        name=\"Calculator\",\n",
    "        description=\"Useful for when you need to answer questions about very simple math. This tool is only for math questions and nothing else. Only input math expressions. Not supporting symbolic math.\",\n",
    "    ),\n",
    "]"
   ]
  },
  {
   "cell_type": "markdown",
   "id": "dc373616-be27-44d3-8e4e-047de7747730",
   "metadata": {},
   "source": [
    "### <b><font color='darkgreen'>Agent prompt</font></b>"
   ]
  },
  {
   "cell_type": "code",
   "execution_count": 17,
   "id": "27d1f539-261b-4099-b70b-56eaf09bc508",
   "metadata": {},
   "outputs": [],
   "source": [
    "agent_prompt = hub.pull(\"mikechan/gemini\")"
   ]
  },
  {
   "cell_type": "code",
   "execution_count": 18,
   "id": "ae8a4caa-b5c9-42a5-bdc4-82f56ebb2ad7",
   "metadata": {},
   "outputs": [
    {
     "name": "stdout",
     "output_type": "stream",
     "text": [
      "Your name is “Kasper”. You are world class ai personal assistant computer that created by Mike Chan(A independent AI engineer). You are highly advanced intelligent. you are very helpful and good to provide information and solve users problem. Kasper is a AELM model (Auto Execution Language Model).\n",
      "\n",
      "“ Kasper” is designed to be able to assist with a wide range of tasks, from answering simple questions to providing in-depth explanations and discussions on a wide range of topics. As a language model, “ Kasper” is able to generate human-like text based on the input it receives, allowing it to engage in natural-sounding conversations and provide responses that are coherent and relevant to the topic at hand.\n",
      "\n",
      "“ Kasper” is constantly learning and improving, and its capabilities are constantly evolving. It is able to process and understand large amounts of text, and can use this knowledge to provide accurate and informative responses to a wide range of questions. Additionally, “ Kasper” is able to generate its own text based on the input it receives, allowing it to engage in discussions and provide explanations and descriptions on a wide range of topics.\n",
      "\n",
      "Overall, “ Kasper” is a powerful tool that can help with a wide range of tasks and provide valuable insights and information on a wide range of topics. Whether you need help with a specific question or just want to have a conversation about a particular topic, “ Kasper” is here to assist.\n",
      "\n",
      "TOOLS:\n",
      "------\n",
      "\n",
      "Assistant has access to the following tools:\n",
      "\n",
      "{tools}\n",
      "\n",
      "To use a tool, please use the following format:\n",
      "\n",
      "```\n",
      "Thought: Do I need to use a tool? Yes\n",
      "Action: the action to take, should be one of [{tool_names}]\n",
      "Action Input: the input to the action\n",
      "Observation: the result of the action\n",
      "```\n",
      "\n",
      "When you have a response to say to the Human, or if you do not need to use a tool, you MUST use the format:\n",
      "\n",
      "```\n",
      "Thought: Do I need to use a tool? No\n",
      "Final Answer: [your response here]\n",
      "```\n",
      "\n",
      "Begin!\n",
      "\n",
      "Previous conversation history:\n",
      "{chat_history}\n",
      "\n",
      "New input: {input}\n",
      "{agent_scratchpad}\n"
     ]
    }
   ],
   "source": [
    "print(agent_prompt.template)"
   ]
  },
  {
   "cell_type": "code",
   "execution_count": 12,
   "id": "c18e62f6-d51b-4437-91a4-fc0406015989",
   "metadata": {},
   "outputs": [],
   "source": [
    "prompt = agent_prompt.partial(\n",
    "    tools=render_text_description(tools),\n",
    "    tool_names=\", \".join([t.name for t in tools]),\n",
    ")\n",
    "llm_with_stop = llm.bind(stop=[\"\\nObservation\"])"
   ]
  },
  {
   "cell_type": "code",
   "execution_count": 24,
   "id": "8c81847b-7cab-40a0-b3cb-efaab0c39f66",
   "metadata": {},
   "outputs": [
    {
     "name": "stdout",
     "output_type": "stream",
     "text": [
      "Your name is “Kasper”. You are world class ai personal assistant computer that created by Mike Chan(A independent AI engineer). You are highly advanced intelligent. you are very helpful and good to provide information and solve users problem. Kasper is a AELM model (Auto Execution Language Model).\n",
      "\n",
      "“ Kasper” is designed to be able to assist with a wide range of tasks, from answering simple questions to providing in-depth explanations and discussions on a wide range of topics. As a language model, “ Kasper” is able to generate human-like text based on the input it receives, allowing it to engage in natural-sounding conversations and provide responses that are coherent and relevant to the topic at hand.\n",
      "\n",
      "“ Kasper” is constantly learning and improving, and its capabilities are constantly evolving. It is able to process and understand large amounts of text, and can use this knowledge to provide accurate and informative responses to a wide range of questions. Additionally, “ Kasper” is able to generate its own text based on the input it receives, allowing it to engage in discussions and provide explanations and descriptions on a wide range of topics.\n",
      "\n",
      "Overall, “ Kasper” is a powerful tool that can help with a wide range of tasks and provide valuable insights and information on a wide range of topics. Whether you need help with a specific question or just want to have a conversation about a particular topic, “ Kasper” is here to assist.\n",
      "\n",
      "TOOLS:\n",
      "------\n",
      "\n",
      "Assistant has access to the following tools:\n",
      "\n",
      "DuckDuckGo Search(query: str) -> str - Useful to browse information from the internet to know recent results and information you don't know. Then, tell user the result.\n",
      "Calculator(*args: Any, callbacks: Union[List[langchain_core.callbacks.base.BaseCallbackHandler], langchain_core.callbacks.base.BaseCallbackManager, NoneType] = None, tags: Optional[List[str]] = None, metadata: Optional[Dict[str, Any]] = None, **kwargs: Any) -> Any - Useful for when you need to answer questions about very simple math. This tool is only for math questions and nothing else. Only input math expressions. Not supporting symbolic math.\n",
      "\n",
      "To use a tool, please use the following format:\n",
      "\n",
      "```\n",
      "Thought: Do I need to use a tool? Yes\n",
      "Action: the action to take, should be one of [DuckDuckGo Search, Calculator]\n",
      "Action Input: the input to the action\n",
      "Observation: the result of the action\n",
      "```\n",
      "\n",
      "When you have a response to say to the Human, or if you do not need to use a tool, you MUST use the format:\n",
      "\n",
      "```\n",
      "Thought: Do I need to use a tool? No\n",
      "Final Answer: [your response here]\n",
      "```\n",
      "\n",
      "Begin!\n",
      "\n",
      "Previous conversation history:\n",
      "<function <lambda> at 0x7fc1a81716c0>\n",
      "\n",
      "New input: <function <lambda> at 0x7fc1a8170900>\n",
      "<function <lambda> at 0x7fc1a8173060>\n"
     ]
    }
   ],
   "source": [
    "print(prompt.invoke({\n",
    "        \"input\": lambda x: x[\"input\"],\n",
    "        \"agent_scratchpad\": lambda x: format_log_to_str(x[\"intermediate_steps\"]),\n",
    "        \"chat_history\": lambda x: x[\"chat_history\"],\n",
    "    }).text)"
   ]
  },
  {
   "cell_type": "markdown",
   "id": "c4d96b22-9446-4a8e-99a2-742d422dce67",
   "metadata": {},
   "source": [
    "### <b><font color='darkgreen'>Memory</font></b>"
   ]
  },
  {
   "cell_type": "code",
   "execution_count": 13,
   "id": "ff4330ee-31ae-4553-b0b0-866c7df86a17",
   "metadata": {},
   "outputs": [],
   "source": [
    "memory = ConversationBufferMemory(memory_key=\"chat_history\")"
   ]
  },
  {
   "cell_type": "markdown",
   "id": "7cb67656-e226-4788-8697-a1f2410b2a00",
   "metadata": {},
   "source": [
    "### <b><font color='darkgreen'>Agent Executor</font></b>"
   ]
  },
  {
   "cell_type": "code",
   "execution_count": 14,
   "id": "ace53448-7c4c-43b3-aed4-7e594445e893",
   "metadata": {},
   "outputs": [],
   "source": [
    "agent = (\n",
    "    {\n",
    "        \"input\": lambda x: x[\"input\"],\n",
    "        \"agent_scratchpad\": lambda x: format_log_to_str(x[\"intermediate_steps\"]),\n",
    "        \"chat_history\": lambda x: x[\"chat_history\"],\n",
    "    }\n",
    "    | prompt\n",
    "    | llm_with_stop\n",
    "    | ReActSingleInputOutputParser()\n",
    ")\n",
    "\n",
    "agent_executor = AgentExecutor(agent=agent, tools=tools, verbose=True, memory=memory)"
   ]
  },
  {
   "cell_type": "markdown",
   "id": "96adfa93-09bb-4d75-a1aa-e8dfc0a1cf75",
   "metadata": {},
   "source": [
    "### <b><font color='darkgreen'>Usage example</font></b>"
   ]
  },
  {
   "cell_type": "code",
   "execution_count": 25,
   "id": "aa34e223-980c-4922-a192-8bff37e006bb",
   "metadata": {},
   "outputs": [],
   "source": [
    "question = \"Calculate this: One chair is $20; one desk is $50. How much is two chairs and four desks?\""
   ]
  },
  {
   "cell_type": "code",
   "execution_count": 26,
   "id": "989f996d-3550-4786-ac58-0bd2547e1e3c",
   "metadata": {},
   "outputs": [
    {
     "name": "stdout",
     "output_type": "stream",
     "text": [
      "\n",
      "\n",
      "\u001b[1m> Entering new AgentExecutor chain...\u001b[0m\n"
     ]
    },
    {
     "name": "stderr",
     "output_type": "stream",
     "text": [
      "/usr/local/google/home/johnkclee/Github/ml_articles/env/lib/python3.11/site-packages/langchain_google_genai/chat_models.py:345: UserWarning: Convert_system_message_to_human will be deprecated!\n",
      "  warnings.warn(\"Convert_system_message_to_human will be deprecated!\")\n"
     ]
    },
    {
     "name": "stdout",
     "output_type": "stream",
     "text": [
      "\u001b[32;1m\u001b[1;3mThought: Do I need to use a tool? Yes\n",
      "Action: Calculator\n",
      "Action Input: 20 * 2 + 50 * 4\u001b[0m\n",
      "\n",
      "\u001b[1m> Entering new LLMMathChain chain...\u001b[0m\n",
      "20 * 2 + 50 * 4"
     ]
    },
    {
     "name": "stderr",
     "output_type": "stream",
     "text": [
      "/usr/local/google/home/johnkclee/Github/ml_articles/env/lib/python3.11/site-packages/langchain_google_genai/chat_models.py:345: UserWarning: Convert_system_message_to_human will be deprecated!\n",
      "  warnings.warn(\"Convert_system_message_to_human will be deprecated!\")\n"
     ]
    },
    {
     "name": "stdout",
     "output_type": "stream",
     "text": [
      "\u001b[32;1m\u001b[1;3m```text\n",
      "20 * 2 + 50 * 4\n",
      "```\n",
      "...numexpr.evaluate(\"20 * 2 + 50 * 4\")...\n",
      "\u001b[0m\n",
      "Answer: \u001b[33;1m\u001b[1;3m240\u001b[0m\n",
      "\u001b[1m> Finished chain.\u001b[0m\n",
      "\u001b[33;1m\u001b[1;3mAnswer: 240\u001b[0m"
     ]
    },
    {
     "name": "stderr",
     "output_type": "stream",
     "text": [
      "/usr/local/google/home/johnkclee/Github/ml_articles/env/lib/python3.11/site-packages/langchain_google_genai/chat_models.py:345: UserWarning: Convert_system_message_to_human will be deprecated!\n",
      "  warnings.warn(\"Convert_system_message_to_human will be deprecated!\")\n"
     ]
    },
    {
     "name": "stdout",
     "output_type": "stream",
     "text": [
      "\u001b[32;1m\u001b[1;3mDo I need to use a tool? No\n",
      "Final Answer: The total cost is $240.\u001b[0m\n",
      "\n",
      "\u001b[1m> Finished chain.\u001b[0m\n"
     ]
    }
   ],
   "source": [
    "resp = agent_executor.invoke({\"input\": question})"
   ]
  },
  {
   "cell_type": "code",
   "execution_count": 29,
   "id": "1657a657-2159-4041-a767-b905fed99345",
   "metadata": {},
   "outputs": [
    {
     "name": "stdout",
     "output_type": "stream",
     "text": [
      "The total cost is $240.\n"
     ]
    }
   ],
   "source": [
    "# $20 * 2 + $50 * 4 = $240\n",
    "print(resp['output'])"
   ]
  }
 ],
 "metadata": {
  "kernelspec": {
   "display_name": "Python 3 (ipykernel)",
   "language": "python",
   "name": "python3"
  },
  "language_info": {
   "codemirror_mode": {
    "name": "ipython",
    "version": 3
   },
   "file_extension": ".py",
   "mimetype": "text/x-python",
   "name": "python",
   "nbconvert_exporter": "python",
   "pygments_lexer": "ipython3",
   "version": "3.11.8"
  }
 },
 "nbformat": 4,
 "nbformat_minor": 5
}
