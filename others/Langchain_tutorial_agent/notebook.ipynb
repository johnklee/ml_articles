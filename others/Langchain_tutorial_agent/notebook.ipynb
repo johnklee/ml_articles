{
 "cells": [
  {
   "cell_type": "markdown",
   "id": "697f518e-2d1f-4d40-b403-d505134d3aec",
   "metadata": {},
   "source": [
    "## <b><font color='darkblue'>Preface</font></b>\n",
    "([article source](https://myapollo.com.tw/blog/langchain-tutorial-agent/)) 你有沒有特別想過如果我們開發的功能要怎麼跟語言模型進行結合？畢竟語言模型如果只能做聊天應用的話，那麼它的應用範圍就相當侷限。\n",
    "\n",
    "這個問題的解答就是 LangChain 的 Agents 。 Agents 可以讓我們把自己開發的功能接上語言模型，讓語言模型執行我們所開發的功能！\n",
    "\n",
    "本文同樣以 1 個簡單的範例開始，帶大家建立自己的 Agents 。"
   ]
  },
  {
   "cell_type": "markdown",
   "id": "03f6c14b-122e-4b81-be2a-c473953b6157",
   "metadata": {},
   "source": [
    "## <b><font color='darkblue'>本文環境</font></b>\n",
    "由於 [**LangChain**](https://github.com/langchain-ai/langchain) 與 OpenAI 的整合度較高，而且 OpenAI 的套件在開發 Agents 的難度也確實相當方便，實作門檻相對低很多，因此本文以 OpenAI 的 **ChatGPT-3.5-Turbo** 語言模型實作. 另外 使用 ChatGPT 3.5 Turbo 的價格相對於 ChatGPT 4 更為低廉.\n",
    "\n",
    "接著以下指令安裝 LangChain, OpenAI 相關套件:\n",
    "```shell\n",
    "$ pip install langchain langchain-openai langchainhub\n",
    "```\n",
    "\n",
    "<br/>\n",
    "\n",
    "安裝完相關套件之後，仍需至 [**OpenAI Platform**](https://platform.openai.com/) 申請 1 組 API key, 並使用以下指令建立環境變數，如此才能夠讓 OpenAI 自行抓到 API key 以執行 OpenAI 的語言模型：\n",
    "```shell\n",
    "$ export OPENAI_API_KEY=\"<your OpenAI API key here>\"\n",
    "```\n",
    "\n",
    "<br/>\n",
    "\n",
    "如果你的 OpenAI 帳號可用儲值為零，建議可以儲值最小金額 5 USD 即可。"
   ]
  },
  {
   "cell_type": "markdown",
   "id": "08834a21-e592-47f3-be8a-10e07307662a",
   "metadata": {},
   "source": [
    "## <b><font color='darkblue'>Agents 簡介</font></b>\n",
    "> The core idea of agents is to use a language model to choose a sequence of actions to take. In chains, a sequence of actions is hardcoded (in code). In agents, a language model is used as a reasoning engine to determine which actions to take and in which order.\n",
    "\n",
    "<br/>\n",
    "\n",
    "Agents 是能夠使用語言模型進行一系列任務操作的應用，這些操作稱為 actions, <b>相對於單純使用 chain 只能進行固定的任務操作，使用 Agents 則可以讓語言模型自行決定要以何種順序進行何種任務操作。</b> 簡單來說，就是 Agents 可以呼喚機器人並指派一堆事項，讓機器人自行理解要進行什麼任務，要以何種順序完成任務。\n",
    "\n",
    "當然事情也沒這麼簡單，你也必須提供 Agents 完成任務所需的工作才行，後續的程式碼你將會看到我們如何提供機器人工具，這個工具我們稱為 <font color='blue'><b>Tool</b></font> 。\n",
    "\n",
    "<font color='orange'><b>Ps.</b></font> LangChain 也有提供不少內建的工具可以使用，詳見 [**Tools**](https://python.langchain.com/docs/integrations/tools/)."
   ]
  },
  {
   "cell_type": "markdown",
   "id": "f331865b-28bd-4aef-827b-a03d78e81064",
   "metadata": {},
   "source": [
    "## <b><font color='darkblue'>Agent 種類 / Agent Types</font></b>\n",
    "LangChain 將 Agent 劃分為 7 種：\n",
    "1. OpenAI Tools\n",
    "2. OpenAI Functions\n",
    "3. XML\n",
    "4. Structured Chat\n",
    "5. JSON Chat\n",
    "6. ReAct\n",
    "7. Self Ask With Search\n",
    "\n",
    "<b>這 7 種 Agents 有各自的適合的應用場景，主要分為能否交互對談，也就是 Chat, 以及單純語言模型(LLM)之用，也就是不具備交互對談能力，只能一問一答</b>，不具備紀錄對話的功能。 這些 Agents 能夠支援的功能也都不同，例如：\n",
    "* **Supports Chat History**: 是否支援紀錄對話，基本上 Chat 型的 Agents 都支援紀錄對話\n",
    "* **Supports Multi-Input Tools**: 指的是執行的工具是否支援多個輸入參數，參數越多對語言模型來講難度越高，畢竟它還必須理解哪個參數要放入哪個值才行\n",
    "* **Supports Parallel Function Calling**: 則是指是否支援平行執行工具的能力，這個功能可以提昇 Agents 的執行效率，不過該功能對語言模型來說也是一項挑戰，目前只有 OpenAI Tools 支援.\n",
    "\n",
    "目前支援最廣的還是 OpenAI Tools Agents, 本文也是使用 OpenAI Tools 作為範例:\n",
    "![ui](https://r.anikit.app/i/-onqznynxs)\n",
    "\n",
    "關於上述 7 種 Agents 的詳細說明，可以查看 LangChain 官方文件 [**Agent Types**](https://python.langchain.com/v0.1/docs/modules/agents/agent_types/) 。"
   ]
  },
  {
   "cell_type": "markdown",
   "id": "bcfadc40-bf25-4c47-b757-7207a247e8de",
   "metadata": {},
   "source": [
    "## <b><font color='darkblue'>做個能連網的 Agent</font></b>\n",
    "如果你在 [ChatGPT 3.5](https://chat.openai.com/) 上問以下問題：\n",
    "> Is the site example.com alive?\n",
    "\n",
    "<br/>\n",
    "\n",
    "就會得到類似以下的訊息， ChatGPT 3.5 會告訴你它無從得知網站狀態。\n",
    "> I'm sorry, but I don't have real-time information on the status of specific websites. You may want to try accessing example.com directly in your web browser to see if it is alive.\n",
    "\n",
    "<br/>\n",
    "\n",
    "接下來，我們來幫 ChatGPT 3.5 加入能夠即時得知網站狀態的功能吧！"
   ]
  },
  {
   "cell_type": "markdown",
   "id": "19cae16d-378c-478f-bedf-695fee1835ac",
   "metadata": {},
   "source": [
    "### <b><font color='darkgreen'>有 Tools 的 Agent </font></b>\n",
    "以下是能夠存取網站狀態的 Agent 程式碼，我們同樣稍後再解釋以下程式碼的："
   ]
  },
  {
   "cell_type": "code",
   "execution_count": 7,
   "id": "83b98d00-dbf6-4a5c-89b5-3efe4a68c6a3",
   "metadata": {},
   "outputs": [
    {
     "data": {
      "text/plain": [
       "True"
      ]
     },
     "execution_count": 7,
     "metadata": {},
     "output_type": "execute_result"
    }
   ],
   "source": [
    "import dotenv\n",
    "import requests\n",
    "\n",
    "from langchain_openai import ChatOpenAI\n",
    "from langchain_core.prompts import ChatPromptTemplate\n",
    "from langchain_core.prompts import MessagesPlaceholder\n",
    "from langchain.agents.format_scratchpad.openai_tools import (\n",
    "    format_to_openai_tool_messages,\n",
    ")\n",
    "from langchain.agents.output_parsers.openai_tools import OpenAIToolsAgentOutputParser\n",
    "from langchain.agents import tool\n",
    "from langchain.agents import AgentExecutor\n",
    "\n",
    "dotenv.load_dotenv()"
   ]
  },
  {
   "cell_type": "code",
   "execution_count": 4,
   "id": "ca1b4a51-a912-4a47-b0fc-2764bea875d6",
   "metadata": {},
   "outputs": [],
   "source": [
    "@tool\n",
    "def check_site_alive(site: str) -> bool:\n",
    "    \"\"\"Check a site is alive or not.\"\"\"\n",
    "    try:\n",
    "        resp = requests.get(f'https://{site}')\n",
    "        resp.raise_for_status()\n",
    "        return True\n",
    "    except Exception:\n",
    "        return False"
   ]
  },
  {
   "cell_type": "code",
   "execution_count": 8,
   "id": "6911c986-926d-461a-b952-9f1577d29012",
   "metadata": {},
   "outputs": [],
   "source": [
    "tools = [check_site_alive, ]\n",
    "llm = ChatOpenAI(model=\"gpt-3.5-turbo\", temperature=0)\n",
    "llm_with_tools = llm.bind_tools(tools)"
   ]
  },
  {
   "cell_type": "code",
   "execution_count": 9,
   "id": "81b51390-fd9a-4e96-92b6-5ef7865290fc",
   "metadata": {},
   "outputs": [],
   "source": [
    "prompt = ChatPromptTemplate.from_messages([\n",
    "    (\n",
    "        \"system\",\n",
    "        \"You are very powerful assistant, but don't know current events\",\n",
    "    ),\n",
    "    (\"user\", \"{input}\"),\n",
    "    MessagesPlaceholder(variable_name=\"agent_scratchpad\"),\n",
    "])"
   ]
  },
  {
   "cell_type": "code",
   "execution_count": 11,
   "id": "de9a3987-8850-4dc8-bdbc-e129ae7680ad",
   "metadata": {},
   "outputs": [],
   "source": [
    "agent = (\n",
    "    {\n",
    "        \"input\": lambda x: x[\"input\"],\n",
    "        \"agent_scratchpad\": lambda x: format_to_openai_tool_messages(\n",
    "            x[\"intermediate_steps\"]\n",
    "        ),\n",
    "    }\n",
    "    | prompt\n",
    "    | llm_with_tools\n",
    "    | OpenAIToolsAgentOutputParser()\n",
    ")\n",
    "agent_executor = AgentExecutor(agent=agent, tools=tools, verbose=True)"
   ]
  },
  {
   "cell_type": "code",
   "execution_count": 12,
   "id": "bf575184-1939-4888-bdeb-9a86bcbe8755",
   "metadata": {},
   "outputs": [
    {
     "name": "stdin",
     "output_type": "stream",
     "text": [
      ">>>  Is the site example.com alive?\n"
     ]
    },
    {
     "name": "stdout",
     "output_type": "stream",
     "text": [
      "\n",
      "\n",
      "\u001b[1m> Entering new AgentExecutor chain...\u001b[0m\n",
      "\u001b[32;1m\u001b[1;3m\n",
      "Invoking: `check_site_alive` with `{'site': 'example.com'}`\n",
      "\n",
      "\n",
      "\u001b[0m\u001b[36;1m\u001b[1;3mTrue\u001b[0m\u001b[32;1m\u001b[1;3mYes, the site example.com is alive.\u001b[0m\n",
      "\n",
      "\u001b[1m> Finished chain.\u001b[0m\n",
      "Yes, the site example.com is alive.\n"
     ]
    },
    {
     "name": "stdin",
     "output_type": "stream",
     "text": [
      ">>>  bye\n"
     ]
    }
   ],
   "source": [
    "input_text = input('>>> ')\n",
    "while input_text.lower() != 'bye':\n",
    "    if input_text:\n",
    "        response = agent_executor.invoke({\n",
    "            'input': input_text,\n",
    "        })\n",
    "        print(response['output'])\n",
    "    input_text = input('>>> ')"
   ]
  },
  {
   "cell_type": "markdown",
   "id": "86fb6e42-1775-451c-92d0-ecca530b41da",
   "metadata": {},
   "source": [
    "上述範例執行之後，你可以再試著問一次以下問題：\n",
    "> Is the site example.com alive?\n",
    "\n",
    "<br/>\n",
    "\n",
    "你將可以看到這次 ChatGPT 3.5 能夠得知網站狀態了！執行過程如下所示，可以看到它推論出要使用參數 `{'site': 'example.com'}` 去呼叫 `check_site_alive` 這個 Python 函式，執行得到結果後，再告訴我們答案. (如果不需要 debug 訊息，可以把程式碼中的 `verbose=True` 改為 `verbose=False`)\n",
    "\n",
    "這就是 1 個最簡單的 Agent 。接著解釋前述範例中幾個重點部分。"
   ]
  },
  {
   "cell_type": "markdown",
   "id": "95207a72-6ab0-4245-96ea-9fbb951fbf01",
   "metadata": {},
   "source": [
    "#### <b>載入語言模型</b>\n",
    "首先是載入 OpenAI 的語言模型，其中 <font color='blue'>temperature=0</font> 代表語言模型的回應不要添加一些隨機性：\n",
    "```python\n",
    "llm = ChatOpenAI(model=\"gpt-3.5-turbo\", temperature=0)\n",
    "```"
   ]
  },
  {
   "cell_type": "markdown",
   "id": "9051126f-911b-417a-ac9f-e42e8c2953e8",
   "metadata": {},
   "source": [
    "#### <b>定義工具(Tool)</b>\n",
    "接著，定義好我們要交給 Agent 執行的工具，也就是 Python 函式 <font color='blue'>check_site_alive()</font> ，該函式只是簡單地呼叫 <font color='blue'>requests.get()</font> 並查看網站 status code 是否正常，並回傳 True 或 False 代表正常與不正常：\n",
    "```python\n",
    "@tool\n",
    "def check_site_alive(site: str) -> bool:\n",
    "    \"\"\"Check a site is alive or not.\"\"\"\n",
    "    try:\n",
    "        resp = requests.get(f'https://{site}')\n",
    "        resp.raise_for_status()\n",
    "        return True\n",
    "    except Exception:\n",
    "        return False\n",
    "```\n",
    "\n",
    "LangChain 把工具的定義包裝的很簡單，只要使用 <font color='violet'><b>@tool</b></font> 裝飾子就能夠把 Python 函式轉成 Tool 。<b>其中要注意的是，函式的 docstring 一定要提供，也就是上述 `\"\"\"Check a site is alive or not.\"\"\"` 的部分</b>，否則會出現以下錯誤，這是讓語言模型解析工具用途的重要資訊：\n",
    "> ValueError: Function must have a docstring if description not provided.\n",
    "\n",
    "另外，根據官方文件，參數的部分建議最好也提供型別註釋(Type hints) 。"
   ]
  },
  {
   "cell_type": "markdown",
   "id": "a1c87717-56ff-43c7-bc71-89bdfbf99feb",
   "metadata": {},
   "source": [
    "#### <b>綁定工具與語言模型</b>\n",
    "定義工具之後，要把工具跟語言模型綁定，也就是把工具交給語言模型：\n",
    "```python\n",
    "llm_with_tools = llm.bind_tools(tools)\n",
    "```"
   ]
  },
  {
   "cell_type": "markdown",
   "id": "370d92db-0032-47e4-90f5-c8d60494aa56",
   "metadata": {},
   "source": [
    "#### <b>定義 Prompt</b>\n",
    "語言模型當然少不了定義 Prompt 的步驟，以下是 1 個簡單的 Agent 的 Prompt, 讓它扮演 1 個優秀的助手，其中最重要的是必須提供 `MessagesPlaceholder(variable_name=\"agent_scratchpad\")` 的 message placeholder, 因為 Agent 會用 `agent_scratchpad` 儲存中間步驟 (<font color='brown'>intermediate steps</font>)相關資訊，例如 Agent 此次的任務已經執行過哪些步驟以及該步驟的輸出等等，這樣 Agent 才會知道哪些步驟已經做過，我們不需要對它做任何事情。\n",
    "```python\n",
    "prompt = ChatPromptTemplate.from_messages([\n",
    "    (\n",
    "        \"system\",\n",
    "        \"You are very powerful assistant, but don't know current events\",\n",
    "    ),\n",
    "    (\"user\", \"{input}\"),\n",
    "    MessagesPlaceholder(variable_name=\"agent_scratchpad\"),\n",
    "])\n",
    "```"
   ]
  },
  {
   "cell_type": "markdown",
   "id": "2c928a54-0c65-4f6c-9038-b010230f5106",
   "metadata": {},
   "source": [
    "#### <b>建立 Agent</b>\n",
    "聚齊 Prompt, LLM, Tools 等元素之後，可以進一步組合成 Agent ，這跟我們先前介紹的流程類似：\n",
    "> 輸入 -> Prompt -> 語言模型 -> 輸出\n",
    "\n",
    "值得注意的是輸入給 prompt 的參數，除了需要我們輸入的訊息 input 之外，還需要 `agent_scratchpad`。\n",
    "\n",
    "此處照抄官方文件即可，主要需要用 `format_to_openai_tool_messages()` 函式將 `x[\"intermediate_steps\"]` 轉成 OpenAI 所需要的格式，特別需要注意的是此處 `input` 與 `agent_scratchpad` 都是使用 lambda 函式，這是因為 `x[\"intermediate_steps\"]` 是由 [**AgentExecutor**](https://api.python.langchain.com/en/latest/agents/langchain.agents.agent.AgentExecutor.html) 所產生並帶給 agent 執行的：\n",
    "```python\n",
    "agent = (\n",
    "    {\n",
    "        \"input\": lambda x: x[\"input\"],\n",
    "        \"agent_scratchpad\": lambda x: format_to_openai_tool_messages(\n",
    "            x[\"intermediate_steps\"]\n",
    "        ),\n",
    "    }\n",
    "    | prompt\n",
    "    | llm_with_tools\n",
    "    | OpenAIToolsAgentOutputParser()\n",
    ")\n",
    "```"
   ]
  },
  {
   "cell_type": "markdown",
   "id": "34b5ac85-669b-4c8e-926b-e27c9cd9e73e",
   "metadata": {},
   "source": [
    "#### <b>建立 Agent Executor</b>\n",
    "最後，重中之重就是用 [**AgentExecutor**](https://api.python.langchain.com/en/latest/agents/langchain.agents.agent.AgentExecutor.html) 把 `agent` 與 `tools` 組成 Agent Executor:\n",
    "```python\n",
    "agent_executor = AgentExecutor(agent=agent, tools=tools, verbose=True)\n",
    "```\n",
    "\n",
    "> The agent executor is the runtime for an agent. This is what actually calls the agent, executes the actions it chooses, passes the action outputs back to the agent, and repeats.\n",
    "\n",
    "\n",
    "[**AgentExecutor**](https://api.python.langchain.com/en/latest/agents/langchain.agents.agent.AgentExecutor.html) 實際上負責呼叫 `agent` 之外，也負責執行任務，並把任務結果傳給 `agent`, 如果有多個步驟要執行就會重複這些步驟，直到完成任務，根據官方文件，它的運作類似以下虛擬碼：\n",
    "```python\n",
    "next_action = agent.get_action(...)\n",
    "while next_action != AgentFinish:\n",
    "    observation = run(next_action)\n",
    "    next_action = agent.get_action(..., next_action, observation)\n",
    "return next_action\n",
    "```\n",
    "\n",
    "總之， [**AgentExecutor**](https://api.python.langchain.com/en/latest/agents/langchain.agents.agent.AgentExecutor.html) 會幫我們打理關於 `x[\"intermediate_steps\"]` 相關的事情，我們只要負責 `input` 即可。\n",
    "\n",
    "到這步就完成能夠執行客製化功能的機器人了！"
   ]
  },
  {
   "cell_type": "markdown",
   "id": "750d68d9-52f7-4ce8-a727-9e95fa521fe1",
   "metadata": {},
   "source": [
    "## <b><font color='darkblue'>又失憶了怎麼辦？把 Chat History 加進去吧</font></b>\n",
    "<b><font size='3ptx'>前述範例程式雖然可以執行客製化功能，但是它沒辦法紀錄對話的上下文，所以你告訴它你的名字之後，它下一秒就無法回答你的名字是什麼⋯⋯。</font></b>\n",
    "```python\n",
    ">>> My name is Amo.\n",
    "Hello Amo! How can I assist you today?\n",
    ">>> What's my name?\n",
    "I'm sorry, I don't have access to personal information like your name. How can I assist you today?\n",
    "```\n",
    "\n",
    "如果要讓機器人能夠像 [**前一篇文章**](https://myapollo.com.tw/blog/langchain-tutorial-retrieval/) 一樣能夠紀錄對話上下文，並且針對上下文情境回答的話，就需要將對話紀錄也加到 Prompt 之中。\n",
    "\n",
    "剛好用 OpenAI Tools 建立的 Agent 是有支援 Chat History 的，所以只要修改 Prompt 增加 1 個 [**MessagePlaceholder**](https://api.python.langchain.com/en/latest/prompts/langchain_core.prompts.chat.MessagesPlaceholder.html) 儲存對話紀錄，並且每次呼叫 Agent Executor 時帶入對話紀錄即可。\n",
    "\n",
    "修改後的程式碼如下：\n",
    "* <font color='olive'>**agent_exec_with_chat_history.py**</font>:\n",
    "\n",
    "```python\n",
    "#!/bin/env python\n",
    "import dotenv\n",
    "import requests\n",
    "from langchain.globals import set_debug\n",
    "#set_debug(True)\n",
    "from langchain_openai import ChatOpenAI\n",
    "from langchain_core.prompts import ChatPromptTemplate\n",
    "from langchain_core.prompts import MessagesPlaceholder\n",
    "from langchain_core.messages import AIMessage, HumanMessage\n",
    "from langchain.agents.format_scratchpad.openai_tools import (\n",
    "    format_to_openai_tool_messages,\n",
    ")\n",
    "from langchain.agents.output_parsers.openai_tools import OpenAIToolsAgentOutputParser\n",
    "from langchain.agents import tool\n",
    "from langchain.agents import AgentExecutor\n",
    "\n",
    "\n",
    "dotenv.load_dotenv()\n",
    "\n",
    "@tool\n",
    "def check_site_alive(site: str) -> bool:\n",
    "    \"\"\"Check a site is alive or not.\"\"\"\n",
    "    try:\n",
    "        resp = requests.get(f'https://{site}')\n",
    "        resp.raise_for_status()\n",
    "        return True\n",
    "    except Exception:\n",
    "        return False\n",
    "\n",
    "\n",
    "tools = [check_site_alive, ]\n",
    "\n",
    "\n",
    "llm = ChatOpenAI(model=\"gpt-3.5-turbo\", temperature=0)\n",
    "llm_with_tools = llm.bind_tools(tools)\n",
    "\n",
    "prompt = ChatPromptTemplate.from_messages([\n",
    "    (\n",
    "        \"system\",\n",
    "        \"You are very powerful assistant, but don't know current events\",\n",
    "    ),\n",
    "    MessagesPlaceholder(variable_name=\"chat_history\"),\n",
    "    (\"user\", \"{input}\"),\n",
    "    MessagesPlaceholder(variable_name=\"agent_scratchpad\"),\n",
    "])\n",
    "\n",
    "@tool\n",
    "def check_site_alive(site: str) -> bool:\n",
    "    \"\"\"Check a site is alive or not.\"\"\"\n",
    "    try:\n",
    "        resp = requests.get(f'https://{site}')\n",
    "        resp.raise_for_status()\n",
    "        return True\n",
    "    except Exception:\n",
    "        return False\n",
    "\n",
    "\n",
    "tools = [check_site_alive, ]\n",
    "\n",
    "\n",
    "llm = ChatOpenAI(model=\"gpt-3.5-turbo\", temperature=0)\n",
    "llm_with_tools = llm.bind_tools(tools)\n",
    "\n",
    "prompt = ChatPromptTemplate.from_messages([\n",
    "    (\n",
    "        \"system\",\n",
    "        \"You are very powerful assistant, but don't know current events\",\n",
    "    ),\n",
    "    MessagesPlaceholder(variable_name=\"chat_history\"),\n",
    "    (\"user\", \"{input}\"),\n",
    "    MessagesPlaceholder(variable_name=\"agent_scratchpad\"),\n",
    "])\n",
    "```\n",
    "\n",
    "以上，就完成能聊天又能執行特定功能的聊天機器人啦:\n",
    "```shell\n",
    "$ ./agent_exec_with_chat_history.py \n",
    ">>> My name is John.\n",
    "\n",
    "\n",
    "> Entering new AgentExecutor chain...\n",
    "Hello John! How can I assist you today?\n",
    "\n",
    "> Finished chain.\n",
    "Hello John! How can I assist you today?\n",
    ">>> What's my name?\n",
    "\n",
    "\n",
    "> Entering new AgentExecutor chain...\n",
    "Your name is John.\n",
    "\n",
    "> Finished chain.\n",
    "Your name is John.\n",
    ">>> Is the site google.com alive?                 \n",
    "\n",
    "\n",
    "> Entering new AgentExecutor chain...\n",
    "\n",
    "Invoking: `check_site_alive` with `{'site': 'google.com'}`\n",
    "\n",
    "\n",
    "TrueYes, the site google.com is alive.\n",
    "\n",
    "> Finished chain.\n",
    "Yes, the site google.com is alive.\n",
    "```"
   ]
  },
  {
   "cell_type": "markdown",
   "id": "c4c57325-73fb-494c-9060-b0c9259afbc6",
   "metadata": {},
   "source": [
    "## <b><font color='darkblue'>用別人寫好的 Prompt 吧 — LangChain Hub</font></b>\n",
    "<b><font size='3ptx'>LangChain 其實有提供 1 個儲存各種 prompt 的服務，還像 GitHub 那樣支援版本控制，該服務稱為 LangChain Hub ，除了自己寫 prompt 之外，其實也可以用 [LangChain Hub](https://smith.langchain.com/hub) 上的 prompt。</font></b>\n",
    "\n",
    "使用方法也很簡單：\n",
    "```python\n",
    "from langchain import hub\n",
    "promot = hub.pull(\"......\")\n",
    "```\n",
    "\n",
    "剛好我們範例使用的 prompt 在 LangChain Hub 也能找到類似的 prompt（[頁面在此](https://smith.langchain.com/hub/hwchase17/openai-functions-agent)），所以先前的範例還可以進一步改成：\n",
    "```python\n",
    "from langchain import hub\n",
    "...\n",
    "\n",
    "prompt = hub.pull('hwchase17/openai-functions-agent')\n",
    "agent = (\n",
    "    {\n",
    "        \"input\": lambda x: x[\"input\"],\n",
    "        \"agent_scratchpad\": lambda x: format_to_openai_tool_messages(\n",
    "            x[\"intermediate_steps\"]\n",
    "        ),\n",
    "        \"chat_history\": lambda x: x[\"chat_history\"],\n",
    "    }\n",
    "    | prompt\n",
    "    | llm_with_tools\n",
    "    | OpenAIToolsAgentOutputParser()\n",
    ")\n",
    "```\n",
    "\n",
    "看起來是否更簡單了呢！\n",
    "\n",
    "如果以後想寫某些 prompt, 其實可以先到 [**LangChain Hub**](https://smith.langchain.com/hub) 上找找看有沒有類似的，可以省去自己寫 prompt 的時間。"
   ]
  },
  {
   "cell_type": "markdown",
   "id": "1098174a-08b2-4920-a836-c6f609b5052f",
   "metadata": {},
   "source": [
    "## <b><font color='darkblue'>References</font></b>\n",
    "* [LangChain doc - Agent Types](https://python.langchain.com/docs/modules/agents/agent_types/)\n",
    "* [LangChain doc - Agent Concepts](https://python.langchain.com/docs/modules/agents/concepts)\n",
    "* [LangChain doc - Custom agent](https://python.langchain.com/docs/modules/agents/how_to/custom_agent#create-the-agent)\n",
    "* [LangChain doc - Defining Custom Tools](https://python.langchain.com/docs/modules/agents/tools/custom_tools#tool-decorator)\n",
    "* [LangChain doc - Tools](https://python.langchain.com/docs/integrations/tools/)"
   ]
  }
 ],
 "metadata": {
  "kernelspec": {
   "display_name": "Python 3 (ipykernel)",
   "language": "python",
   "name": "python3"
  },
  "language_info": {
   "codemirror_mode": {
    "name": "ipython",
    "version": 3
   },
   "file_extension": ".py",
   "mimetype": "text/x-python",
   "name": "python",
   "nbconvert_exporter": "python",
   "pygments_lexer": "ipython3",
   "version": "3.11.8"
  }
 },
 "nbformat": 4,
 "nbformat_minor": 5
}
