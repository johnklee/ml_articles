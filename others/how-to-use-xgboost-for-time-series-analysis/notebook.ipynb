{
 "cells": [
  {
   "cell_type": "markdown",
   "id": "aae07e8e",
   "metadata": {},
   "source": [
    "## <font color='darkblue'>Preface</font>\n",
    "([article source](https://analyticsindiamag.com/how-to-use-xgboost-for-time-series-analysis/), [colab](https://colab.research.google.com/drive/18HhPMhxFwWtpME6uZu0q7m2jH_U9Zlsc?usp=sharing)) <font size='3ptx'><b>[XGBoost](https://analyticsindiamag.com/xgboost-internal-working-to-make-decision-trees-and-deduce-predictions/) is an efficient technique for implementing gradient boosting. When talking about time series modelling, we generally refer to the techniques like [ARIMA](https://analyticsindiamag.com/comprehensive-guide-to-time-series-analysis-using-arima/) and [VAR](https://analyticsindiamag.com/a-guide-to-varma-with-grid-search-in-time-series-modelling/) models. </b></font>\n",
    "\n",
    "<b>[XGBoost](https://analyticsindiamag.com/xgboost-internal-working-to-make-decision-trees-and-deduce-predictions/), as a gradient boosting technique, can be considered as an advancement of traditional modelling techniques. In this article, we will learn how we can apply gradient boosting with the XGBoost technique for effective time series modelling</b>. The major points to be discussed in this article are listed below."
   ]
  },
  {
   "cell_type": "markdown",
   "id": "2d48e741",
   "metadata": {},
   "source": [
    "### <font color='darkgreen'>Agenda</font>\n",
    "* <font size='3ptx'><b><a href='#sect1'>What is gradient boosting?</a></b></font>\n",
    "* <font size='3ptx'><b><a href='#sect2'>What is XGBoost?</a></b></font>\n",
    "* <font size='3ptx'><b><a href='#sect3'>Using XGBoost in time series</a></b></font>\n",
    "* <font size='3ptx'><b><a href='#sect4'>The procedure</a></b></font>\n",
    "    * <b><a href='#sect4_1'>Data analysis</a></b>\n",
    "    * <b><a href='#sect4_2'>Data conversion</a></b>\n",
    "    * <b><a href='#sect4_3'>Model fitting</a></b>\n",
    "    * <b><a href='#sect4_4'>Forecasting</a></b> "
   ]
  },
  {
   "cell_type": "markdown",
   "id": "907544a5",
   "metadata": {},
   "source": [
    "<a id='sect1'></a>\n",
    "## <font color='darkblue'>What is gradient boosting?</font>\n",
    "<font size='3ptx'><b>In machine learning, [gradient boosting](https://analyticsindiamag.com/story-of-gradient-boosting-how-it-evolved-over-years/) is an algorithm that helps in performing regression and classification tasks.</b></font>\n",
    "\n",
    "Using the ensemble of weak prediction models, gradient boosting helps us in making predictions. Examples of weak models can be decision trees. <b>Ensembled models using weak tree learners can be considered gradient-boosted trees. Gradient-boosted trees are comparable to the random forest even though they can perform better than random forests if finely tuned.</b> It helps in generalizing the other model by optimizing the arbitrary differential loss function. "
   ]
  },
  {
   "attachments": {},
   "cell_type": "markdown",
   "id": "abaedf5e",
   "metadata": {},
   "source": [
    "<a id='sect2'></a>\n",
    "## <font color='darkblue'>What is XGBoost?</font>\n",
    "<font size='3ptx'><b>XGBoost is a library that can help us regularize gradient boosting in different languages like python, R, Julia, c++, and Java.</b></font>\n",
    "    \n",
    "<b>XGBoost stands for extreme gradient boosting machine. As software, the main focus of XGBoost is to speed up and increase the performance of gradient boosted decision trees.</b>  This software can provide us with scalable, portable, and distributed gradient boosting. Using this library we can utilize the functionality in single and distributed processing machines.  "
   ]
  },
  {
   "cell_type": "markdown",
   "id": "55458e17",
   "metadata": {},
   "source": [
    "<a id='sect3'></a>\n",
    "## <font color='darkblue'>Using XGBoost in time series</font>\n",
    "<font size='3ptx'><b>As we discussed in the above section, gradient boosting is majorly focused on improving the performance of the machine learning models and with gradient boosting using XGBoost we can speed up the procedure as well as we can get better results.</b></font>\n",
    "\n",
    "When we talk about the field of time series analysis and forecasting we use traditional models like <b><a href='https://en.wikipedia.org/wiki/Autoregressive_integrated_moving_average'>ARIMA</a></b> (<font color='brown'>autoregressive integrated moving average</font>) models where the main focus or the model is on regression analysis and if we can perform this regression with such software and technique we can also achieve a state of the art performance in the time series modelling. Ensemble of weak machine learning models to regularized gradient boosting can help us in improving the results in every section of data science. <b>The section can also be time series. In this article, we will see how we can make XGBoost perform in time series modelling. </b>"
   ]
  },
  {
   "cell_type": "markdown",
   "id": "f04fd68f",
   "metadata": {},
   "source": [
    "<a id='sect4'></a>\n",
    "## <font color='darkblue'>The procedure</font>\n",
    "* <b><a href='#sect4_1'>Data analysis</a></b>\n",
    "* <b><a href='#sect4_2'>Data conversions</a></b>\n",
    "* <b><a href='#sect4_3'>Model fitting</a></b>\n",
    "* <b><a href='#sect4_4'>Forecasting</a></b>\n",
    "<br/>\n",
    "\n",
    "<font size='3ptx'><b>In the procedure, we are going to use data from Kaggle which is a [Take-Away Food Orders data](https://www.kaggle.com/henslersoftware/19560-indian-takeaway-orders). </b></font>\n",
    "\n",
    "We can find the data [here](https://www.kaggle.com/henslersoftware/19560-indian-takeaway-orders/code). In this data, we have details about the orders with the date of the order and quantity in the order. Using this information we will be predicting the order count for the next few dates. <b>For the procedure, we will be using the python language and some basic libraries like NumPy, pandas, matplotlib, and sklearn with this we will use XGBoost software</b>. Let’s start the procedure, as we will go far in the process we will be knowing how our analysis of the data is and how we can use XGBoost for forecasting.      "
   ]
  },
  {
   "cell_type": "code",
   "execution_count": 57,
   "id": "aabb9d4c",
   "metadata": {},
   "outputs": [],
   "source": [
    "import pandas as pd\n",
    "import numpy as np \n",
    "import seaborn as sns\n",
    "import matplotlib.pyplot as plt\n",
    "import xgboost as xgb\n",
    "from xgboost import plot_importance, plot_tree\n",
    "from sklearn.metrics import mean_squared_error, mean_absolute_error"
   ]
  },
  {
   "cell_type": "markdown",
   "id": "9cf75e20",
   "metadata": {},
   "source": [
    "<a id='sect4_1'></a>\n",
    "### <font color='darkgreen'>Data analysis</font>\n",
    "Let’s start with loading the data:"
   ]
  },
  {
   "cell_type": "code",
   "execution_count": 3,
   "id": "db332685",
   "metadata": {},
   "outputs": [
    {
     "data": {
      "text/html": [
       "<div>\n",
       "<style scoped>\n",
       "    .dataframe tbody tr th:only-of-type {\n",
       "        vertical-align: middle;\n",
       "    }\n",
       "\n",
       "    .dataframe tbody tr th {\n",
       "        vertical-align: top;\n",
       "    }\n",
       "\n",
       "    .dataframe thead th {\n",
       "        text-align: right;\n",
       "    }\n",
       "</style>\n",
       "<table border=\"1\" class=\"dataframe\">\n",
       "  <thead>\n",
       "    <tr style=\"text-align: right;\">\n",
       "      <th></th>\n",
       "      <th>number</th>\n",
       "      <th>date</th>\n",
       "      <th>item</th>\n",
       "      <th>quantity</th>\n",
       "      <th>price</th>\n",
       "      <th>total_items</th>\n",
       "    </tr>\n",
       "  </thead>\n",
       "  <tbody>\n",
       "    <tr>\n",
       "      <th>0</th>\n",
       "      <td>16118</td>\n",
       "      <td>03/08/2019 20:25</td>\n",
       "      <td>Plain Papadum</td>\n",
       "      <td>2</td>\n",
       "      <td>0.80</td>\n",
       "      <td>6</td>\n",
       "    </tr>\n",
       "    <tr>\n",
       "      <th>1</th>\n",
       "      <td>16118</td>\n",
       "      <td>03/08/2019 20:25</td>\n",
       "      <td>King Prawn Balti</td>\n",
       "      <td>1</td>\n",
       "      <td>12.95</td>\n",
       "      <td>6</td>\n",
       "    </tr>\n",
       "    <tr>\n",
       "      <th>2</th>\n",
       "      <td>16118</td>\n",
       "      <td>03/08/2019 20:25</td>\n",
       "      <td>Garlic Naan</td>\n",
       "      <td>1</td>\n",
       "      <td>2.95</td>\n",
       "      <td>6</td>\n",
       "    </tr>\n",
       "    <tr>\n",
       "      <th>3</th>\n",
       "      <td>16118</td>\n",
       "      <td>03/08/2019 20:25</td>\n",
       "      <td>Mushroom Rice</td>\n",
       "      <td>1</td>\n",
       "      <td>3.95</td>\n",
       "      <td>6</td>\n",
       "    </tr>\n",
       "    <tr>\n",
       "      <th>4</th>\n",
       "      <td>16118</td>\n",
       "      <td>03/08/2019 20:25</td>\n",
       "      <td>Paneer Tikka Masala</td>\n",
       "      <td>1</td>\n",
       "      <td>8.95</td>\n",
       "      <td>6</td>\n",
       "    </tr>\n",
       "  </tbody>\n",
       "</table>\n",
       "</div>"
      ],
      "text/plain": [
       "   number              date                 item  quantity  price  total_items\n",
       "0   16118  03/08/2019 20:25        Plain Papadum         2   0.80            6\n",
       "1   16118  03/08/2019 20:25     King Prawn Balti         1  12.95            6\n",
       "2   16118  03/08/2019 20:25          Garlic Naan         1   2.95            6\n",
       "3   16118  03/08/2019 20:25        Mushroom Rice         1   3.95            6\n",
       "4   16118  03/08/2019 20:25  Paneer Tikka Masala         1   8.95            6"
      ]
     },
     "execution_count": 3,
     "metadata": {},
     "output_type": "execute_result"
    }
   ],
   "source": [
    "data_csv_path = '../../datas/kaggle_indian-takeaway-orders/restaurant-1-orders.csv'\n",
    "data = pd.read_csv(data_csv_path)\n",
    "data.columns = ['number', 'date', 'item', 'quantity', 'price', 'total_items']\n",
    "data.head()"
   ]
  },
  {
   "cell_type": "code",
   "execution_count": 5,
   "id": "50eebc1d",
   "metadata": {},
   "outputs": [
    {
     "data": {
      "text/html": [
       "<div>\n",
       "<style scoped>\n",
       "    .dataframe tbody tr th:only-of-type {\n",
       "        vertical-align: middle;\n",
       "    }\n",
       "\n",
       "    .dataframe tbody tr th {\n",
       "        vertical-align: top;\n",
       "    }\n",
       "\n",
       "    .dataframe thead th {\n",
       "        text-align: right;\n",
       "    }\n",
       "</style>\n",
       "<table border=\"1\" class=\"dataframe\">\n",
       "  <thead>\n",
       "    <tr style=\"text-align: right;\">\n",
       "      <th></th>\n",
       "      <th>number</th>\n",
       "      <th>quantity</th>\n",
       "      <th>price</th>\n",
       "      <th>total_items</th>\n",
       "    </tr>\n",
       "  </thead>\n",
       "  <tbody>\n",
       "    <tr>\n",
       "      <th>count</th>\n",
       "      <td>74818.000000</td>\n",
       "      <td>74818.000000</td>\n",
       "      <td>74818.000000</td>\n",
       "      <td>74818.000000</td>\n",
       "    </tr>\n",
       "    <tr>\n",
       "      <th>mean</th>\n",
       "      <td>9115.638162</td>\n",
       "      <td>1.243564</td>\n",
       "      <td>5.286492</td>\n",
       "      <td>6.931434</td>\n",
       "    </tr>\n",
       "    <tr>\n",
       "      <th>std</th>\n",
       "      <td>4052.210452</td>\n",
       "      <td>0.798207</td>\n",
       "      <td>3.338221</td>\n",
       "      <td>3.954832</td>\n",
       "    </tr>\n",
       "    <tr>\n",
       "      <th>min</th>\n",
       "      <td>630.000000</td>\n",
       "      <td>1.000000</td>\n",
       "      <td>0.500000</td>\n",
       "      <td>1.000000</td>\n",
       "    </tr>\n",
       "    <tr>\n",
       "      <th>25%</th>\n",
       "      <td>5590.000000</td>\n",
       "      <td>1.000000</td>\n",
       "      <td>2.950000</td>\n",
       "      <td>5.000000</td>\n",
       "    </tr>\n",
       "    <tr>\n",
       "      <th>50%</th>\n",
       "      <td>9103.000000</td>\n",
       "      <td>1.000000</td>\n",
       "      <td>3.950000</td>\n",
       "      <td>6.000000</td>\n",
       "    </tr>\n",
       "    <tr>\n",
       "      <th>75%</th>\n",
       "      <td>12630.000000</td>\n",
       "      <td>1.000000</td>\n",
       "      <td>8.950000</td>\n",
       "      <td>8.000000</td>\n",
       "    </tr>\n",
       "    <tr>\n",
       "      <th>max</th>\n",
       "      <td>16118.000000</td>\n",
       "      <td>51.000000</td>\n",
       "      <td>17.950000</td>\n",
       "      <td>60.000000</td>\n",
       "    </tr>\n",
       "  </tbody>\n",
       "</table>\n",
       "</div>"
      ],
      "text/plain": [
       "             number      quantity         price   total_items\n",
       "count  74818.000000  74818.000000  74818.000000  74818.000000\n",
       "mean    9115.638162      1.243564      5.286492      6.931434\n",
       "std     4052.210452      0.798207      3.338221      3.954832\n",
       "min      630.000000      1.000000      0.500000      1.000000\n",
       "25%     5590.000000      1.000000      2.950000      5.000000\n",
       "50%     9103.000000      1.000000      3.950000      6.000000\n",
       "75%    12630.000000      1.000000      8.950000      8.000000\n",
       "max    16118.000000     51.000000     17.950000     60.000000"
      ]
     },
     "execution_count": 5,
     "metadata": {},
     "output_type": "execute_result"
    }
   ],
   "source": [
    "data.describe()"
   ]
  },
  {
   "cell_type": "code",
   "execution_count": 7,
   "id": "e003fd38",
   "metadata": {},
   "outputs": [
    {
     "name": "stdout",
     "output_type": "stream",
     "text": [
      "number                  int64\n",
      "date           datetime64[ns]\n",
      "item                   object\n",
      "quantity                int64\n",
      "price                 float64\n",
      "total_items             int64\n",
      "dtype: object\n"
     ]
    }
   ],
   "source": [
    "print(data.dtypes)"
   ]
  },
  {
   "cell_type": "markdown",
   "id": "d0de03ef",
   "metadata": {},
   "source": [
    "Here in the data, we can see that we have the order number, date, item name, price, quantity, and total items in the order. Now let’s <b>convert the date values into date-time values</b>."
   ]
  },
  {
   "cell_type": "code",
   "execution_count": 4,
   "id": "74488318",
   "metadata": {},
   "outputs": [
    {
     "data": {
      "text/html": [
       "<div>\n",
       "<style scoped>\n",
       "    .dataframe tbody tr th:only-of-type {\n",
       "        vertical-align: middle;\n",
       "    }\n",
       "\n",
       "    .dataframe tbody tr th {\n",
       "        vertical-align: top;\n",
       "    }\n",
       "\n",
       "    .dataframe thead th {\n",
       "        text-align: right;\n",
       "    }\n",
       "</style>\n",
       "<table border=\"1\" class=\"dataframe\">\n",
       "  <thead>\n",
       "    <tr style=\"text-align: right;\">\n",
       "      <th></th>\n",
       "      <th>number</th>\n",
       "      <th>date</th>\n",
       "      <th>item</th>\n",
       "      <th>quantity</th>\n",
       "      <th>price</th>\n",
       "      <th>total_items</th>\n",
       "    </tr>\n",
       "  </thead>\n",
       "  <tbody>\n",
       "    <tr>\n",
       "      <th>0</th>\n",
       "      <td>16118</td>\n",
       "      <td>2019-03-08</td>\n",
       "      <td>Plain Papadum</td>\n",
       "      <td>2</td>\n",
       "      <td>0.80</td>\n",
       "      <td>6</td>\n",
       "    </tr>\n",
       "    <tr>\n",
       "      <th>1</th>\n",
       "      <td>16118</td>\n",
       "      <td>2019-03-08</td>\n",
       "      <td>King Prawn Balti</td>\n",
       "      <td>1</td>\n",
       "      <td>12.95</td>\n",
       "      <td>6</td>\n",
       "    </tr>\n",
       "    <tr>\n",
       "      <th>2</th>\n",
       "      <td>16118</td>\n",
       "      <td>2019-03-08</td>\n",
       "      <td>Garlic Naan</td>\n",
       "      <td>1</td>\n",
       "      <td>2.95</td>\n",
       "      <td>6</td>\n",
       "    </tr>\n",
       "    <tr>\n",
       "      <th>3</th>\n",
       "      <td>16118</td>\n",
       "      <td>2019-03-08</td>\n",
       "      <td>Mushroom Rice</td>\n",
       "      <td>1</td>\n",
       "      <td>3.95</td>\n",
       "      <td>6</td>\n",
       "    </tr>\n",
       "    <tr>\n",
       "      <th>4</th>\n",
       "      <td>16118</td>\n",
       "      <td>2019-03-08</td>\n",
       "      <td>Paneer Tikka Masala</td>\n",
       "      <td>1</td>\n",
       "      <td>8.95</td>\n",
       "      <td>6</td>\n",
       "    </tr>\n",
       "  </tbody>\n",
       "</table>\n",
       "</div>"
      ],
      "text/plain": [
       "   number       date                 item  quantity  price  total_items\n",
       "0   16118 2019-03-08        Plain Papadum         2   0.80            6\n",
       "1   16118 2019-03-08     King Prawn Balti         1  12.95            6\n",
       "2   16118 2019-03-08          Garlic Naan         1   2.95            6\n",
       "3   16118 2019-03-08        Mushroom Rice         1   3.95            6\n",
       "4   16118 2019-03-08  Paneer Tikka Masala         1   8.95            6"
      ]
     },
     "execution_count": 4,
     "metadata": {},
     "output_type": "execute_result"
    }
   ],
   "source": [
    "data['date'] = pd.to_datetime(data['date'].str[:10])\n",
    "data.head()"
   ]
  },
  {
   "cell_type": "markdown",
   "id": "ea31762a",
   "metadata": {},
   "source": [
    "Here we can understand that to make predictions on the order count we are required to have the order `number`, `total_items`, and `date` in the data. Let’s extract these values from our data."
   ]
  },
  {
   "cell_type": "code",
   "execution_count": 9,
   "id": "3df47084",
   "metadata": {},
   "outputs": [
    {
     "data": {
      "text/html": [
       "<div>\n",
       "<style scoped>\n",
       "    .dataframe tbody tr th:only-of-type {\n",
       "        vertical-align: middle;\n",
       "    }\n",
       "\n",
       "    .dataframe tbody tr th {\n",
       "        vertical-align: top;\n",
       "    }\n",
       "\n",
       "    .dataframe thead th {\n",
       "        text-align: right;\n",
       "    }\n",
       "</style>\n",
       "<table border=\"1\" class=\"dataframe\">\n",
       "  <thead>\n",
       "    <tr style=\"text-align: right;\">\n",
       "      <th></th>\n",
       "      <th>number</th>\n",
       "      <th>total_items</th>\n",
       "      <th>date</th>\n",
       "    </tr>\n",
       "  </thead>\n",
       "  <tbody>\n",
       "    <tr>\n",
       "      <th>31038</th>\n",
       "      <td>14122</td>\n",
       "      <td>6</td>\n",
       "      <td>2019-03-31</td>\n",
       "    </tr>\n",
       "    <tr>\n",
       "      <th>29294</th>\n",
       "      <td>2601</td>\n",
       "      <td>6</td>\n",
       "      <td>2016-05-30</td>\n",
       "    </tr>\n",
       "    <tr>\n",
       "      <th>10507</th>\n",
       "      <td>10289</td>\n",
       "      <td>5</td>\n",
       "      <td>2018-07-13</td>\n",
       "    </tr>\n",
       "    <tr>\n",
       "      <th>54784</th>\n",
       "      <td>15106</td>\n",
       "      <td>8</td>\n",
       "      <td>2019-05-30</td>\n",
       "    </tr>\n",
       "    <tr>\n",
       "      <th>23206</th>\n",
       "      <td>8412</td>\n",
       "      <td>7</td>\n",
       "      <td>2018-03-02</td>\n",
       "    </tr>\n",
       "    <tr>\n",
       "      <th>14439</th>\n",
       "      <td>5618</td>\n",
       "      <td>5</td>\n",
       "      <td>2017-04-06</td>\n",
       "    </tr>\n",
       "    <tr>\n",
       "      <th>22424</th>\n",
       "      <td>9186</td>\n",
       "      <td>4</td>\n",
       "      <td>2018-04-13</td>\n",
       "    </tr>\n",
       "    <tr>\n",
       "      <th>40762</th>\n",
       "      <td>8270</td>\n",
       "      <td>4</td>\n",
       "      <td>2018-01-21</td>\n",
       "    </tr>\n",
       "    <tr>\n",
       "      <th>2312</th>\n",
       "      <td>11444</td>\n",
       "      <td>11</td>\n",
       "      <td>2018-05-10</td>\n",
       "    </tr>\n",
       "    <tr>\n",
       "      <th>3801</th>\n",
       "      <td>7612</td>\n",
       "      <td>14</td>\n",
       "      <td>2017-02-12</td>\n",
       "    </tr>\n",
       "  </tbody>\n",
       "</table>\n",
       "</div>"
      ],
      "text/plain": [
       "       number  total_items       date\n",
       "31038   14122            6 2019-03-31\n",
       "29294    2601            6 2016-05-30\n",
       "10507   10289            5 2018-07-13\n",
       "54784   15106            8 2019-05-30\n",
       "23206    8412            7 2018-03-02\n",
       "14439    5618            5 2017-04-06\n",
       "22424    9186            4 2018-04-13\n",
       "40762    8270            4 2018-01-21\n",
       "2312    11444           11 2018-05-10\n",
       "3801     7612           14 2017-02-12"
      ]
     },
     "execution_count": 9,
     "metadata": {},
     "output_type": "execute_result"
    }
   ],
   "source": [
    "order_data = data[['number','total_items', 'date']]\n",
    "order_data.sample(n=10)"
   ]
  },
  {
   "cell_type": "markdown",
   "id": "03b968d1",
   "metadata": {},
   "source": [
    "Here we can understand that we are required to have data where we can see how many orders we have in a day. <b>Let’s perform some more operations on data to get daily frequency selling of the items.</b>"
   ]
  },
  {
   "cell_type": "code",
   "execution_count": 30,
   "id": "dd5edd65",
   "metadata": {},
   "outputs": [
    {
     "data": {
      "text/html": [
       "<div>\n",
       "<style scoped>\n",
       "    .dataframe tbody tr th:only-of-type {\n",
       "        vertical-align: middle;\n",
       "    }\n",
       "\n",
       "    .dataframe tbody tr th {\n",
       "        vertical-align: top;\n",
       "    }\n",
       "\n",
       "    .dataframe thead th {\n",
       "        text-align: right;\n",
       "    }\n",
       "</style>\n",
       "<table border=\"1\" class=\"dataframe\">\n",
       "  <thead>\n",
       "    <tr style=\"text-align: right;\">\n",
       "      <th></th>\n",
       "      <th>total_items</th>\n",
       "    </tr>\n",
       "    <tr>\n",
       "      <th>date</th>\n",
       "      <th></th>\n",
       "    </tr>\n",
       "  </thead>\n",
       "  <tbody>\n",
       "    <tr>\n",
       "      <th>2015-01-09</th>\n",
       "      <td>3</td>\n",
       "    </tr>\n",
       "    <tr>\n",
       "      <th>2015-01-10</th>\n",
       "      <td>90</td>\n",
       "    </tr>\n",
       "    <tr>\n",
       "      <th>2015-02-10</th>\n",
       "      <td>121</td>\n",
       "    </tr>\n",
       "    <tr>\n",
       "      <th>2015-08-09</th>\n",
       "      <td>8</td>\n",
       "    </tr>\n",
       "    <tr>\n",
       "      <th>2015-09-09</th>\n",
       "      <td>21</td>\n",
       "    </tr>\n",
       "    <tr>\n",
       "      <th>...</th>\n",
       "      <td>...</td>\n",
       "    </tr>\n",
       "    <tr>\n",
       "      <th>2019-12-03</th>\n",
       "      <td>365</td>\n",
       "    </tr>\n",
       "    <tr>\n",
       "      <th>2019-12-04</th>\n",
       "      <td>742</td>\n",
       "    </tr>\n",
       "    <tr>\n",
       "      <th>2019-12-05</th>\n",
       "      <td>671</td>\n",
       "    </tr>\n",
       "    <tr>\n",
       "      <th>2019-12-06</th>\n",
       "      <td>294</td>\n",
       "    </tr>\n",
       "    <tr>\n",
       "      <th>2019-12-07</th>\n",
       "      <td>481</td>\n",
       "    </tr>\n",
       "  </tbody>\n",
       "</table>\n",
       "<p>1207 rows × 1 columns</p>\n",
       "</div>"
      ],
      "text/plain": [
       "            total_items\n",
       "date                   \n",
       "2015-01-09            3\n",
       "2015-01-10           90\n",
       "2015-02-10          121\n",
       "2015-08-09            8\n",
       "2015-09-09           21\n",
       "...                 ...\n",
       "2019-12-03          365\n",
       "2019-12-04          742\n",
       "2019-12-05          671\n",
       "2019-12-06          294\n",
       "2019-12-07          481\n",
       "\n",
       "[1207 rows x 1 columns]"
      ]
     },
     "execution_count": 30,
     "metadata": {},
     "output_type": "execute_result"
    }
   ],
   "source": [
    "res_df = order_data.groupby('date').sum('total_items')[['total_items']]\n",
    "res_df"
   ]
  },
  {
   "cell_type": "code",
   "execution_count": 28,
   "id": "66605b40",
   "metadata": {},
   "outputs": [
    {
     "data": {
      "text/html": [
       "<div>\n",
       "<style scoped>\n",
       "    .dataframe tbody tr th:only-of-type {\n",
       "        vertical-align: middle;\n",
       "    }\n",
       "\n",
       "    .dataframe tbody tr th {\n",
       "        vertical-align: top;\n",
       "    }\n",
       "\n",
       "    .dataframe thead th {\n",
       "        text-align: right;\n",
       "    }\n",
       "</style>\n",
       "<table border=\"1\" class=\"dataframe\">\n",
       "  <thead>\n",
       "    <tr style=\"text-align: right;\">\n",
       "      <th></th>\n",
       "      <th>number</th>\n",
       "    </tr>\n",
       "    <tr>\n",
       "      <th>date</th>\n",
       "      <th></th>\n",
       "    </tr>\n",
       "  </thead>\n",
       "  <tbody>\n",
       "    <tr>\n",
       "      <th>2015-01-09</th>\n",
       "      <td>1</td>\n",
       "    </tr>\n",
       "    <tr>\n",
       "      <th>2015-01-10</th>\n",
       "      <td>7</td>\n",
       "    </tr>\n",
       "    <tr>\n",
       "      <th>2015-02-10</th>\n",
       "      <td>5</td>\n",
       "    </tr>\n",
       "    <tr>\n",
       "      <th>2015-08-09</th>\n",
       "      <td>3</td>\n",
       "    </tr>\n",
       "    <tr>\n",
       "      <th>2015-09-09</th>\n",
       "      <td>6</td>\n",
       "    </tr>\n",
       "    <tr>\n",
       "      <th>...</th>\n",
       "      <td>...</td>\n",
       "    </tr>\n",
       "    <tr>\n",
       "      <th>2019-12-03</th>\n",
       "      <td>11</td>\n",
       "    </tr>\n",
       "    <tr>\n",
       "      <th>2019-12-04</th>\n",
       "      <td>25</td>\n",
       "    </tr>\n",
       "    <tr>\n",
       "      <th>2019-12-05</th>\n",
       "      <td>23</td>\n",
       "    </tr>\n",
       "    <tr>\n",
       "      <th>2019-12-06</th>\n",
       "      <td>9</td>\n",
       "    </tr>\n",
       "    <tr>\n",
       "      <th>2019-12-07</th>\n",
       "      <td>18</td>\n",
       "    </tr>\n",
       "  </tbody>\n",
       "</table>\n",
       "<p>1207 rows × 1 columns</p>\n",
       "</div>"
      ],
      "text/plain": [
       "            number\n",
       "date              \n",
       "2015-01-09       1\n",
       "2015-01-10       7\n",
       "2015-02-10       5\n",
       "2015-08-09       3\n",
       "2015-09-09       6\n",
       "...            ...\n",
       "2019-12-03      11\n",
       "2019-12-04      25\n",
       "2019-12-05      23\n",
       "2019-12-06       9\n",
       "2019-12-07      18\n",
       "\n",
       "[1207 rows x 1 columns]"
      ]
     },
     "execution_count": 28,
     "metadata": {},
     "output_type": "execute_result"
    }
   ],
   "source": [
    "res_unique_df = pd.DataFrame(order_data.groupby('date')['number'].nunique())\n",
    "res_unique_df"
   ]
  },
  {
   "cell_type": "markdown",
   "id": "b525dfbb",
   "metadata": {},
   "source": [
    "Our date column is now an index of data and this is how we have converted our data into time series. Let’s plot the data. "
   ]
  },
  {
   "cell_type": "code",
   "execution_count": 31,
   "id": "67421eab",
   "metadata": {},
   "outputs": [
    {
     "data": {
      "text/plain": [
       "<AxesSubplot:xlabel='date'>"
      ]
     },
     "execution_count": 31,
     "metadata": {},
     "output_type": "execute_result"
    },
    {
     "data": {
      "image/png": "[encoded data removed]",
      "text/plain": [
       "<Figure size 720x360 with 1 Axes>"
      ]
     },
     "metadata": {
      "needs_background": "light"
     },
     "output_type": "display_data"
    }
   ],
   "source": [
    "# Count of total_items\n",
    "res_df.plot(figsize=(10,5))"
   ]
  },
  {
   "cell_type": "code",
   "execution_count": 32,
   "id": "742d0992",
   "metadata": {},
   "outputs": [
    {
     "data": {
      "text/plain": [
       "<AxesSubplot:xlabel='date'>"
      ]
     },
     "execution_count": 32,
     "metadata": {},
     "output_type": "execute_result"
    },
    {
     "data": {
      "image/png": "[encoded data removed]",
      "text/plain": [
       "<Figure size 720x360 with 1 Axes>"
      ]
     },
     "metadata": {
      "needs_background": "light"
     },
     "output_type": "display_data"
    }
   ],
   "source": [
    "# Count of unique number per date\n",
    "res_unique_df.plot(figsize=(10,5))"
   ]
  },
  {
   "cell_type": "markdown",
   "id": "53e1b210",
   "metadata": {},
   "source": [
    "Here in the plot (<font color='brown'>Count of unique number per date</font>), we can see that our time series is very scattered, and also we are getting 5 to 35 orders every day. Let’s make the visualization clear."
   ]
  },
  {
   "cell_type": "code",
   "execution_count": 36,
   "id": "59214e4d",
   "metadata": {},
   "outputs": [
    {
     "data": {
      "image/png": "[encoded data removed]",
      "text/plain": [
       "<Figure size 864x360 with 1 Axes>"
      ]
     },
     "metadata": {
      "needs_background": "light"
     },
     "output_type": "display_data"
    }
   ],
   "source": [
    "color_pal = [\"#F8766D\", \"#D39200\", \"#93AA00\", \"#00BA38\", \"#00C19F\", \"#00B9E3\", \"#619CFF\", \"#DB72FB\"]\n",
    "_ = res_unique_df.plot(style='.', figsize=(12,5), color=color_pal[0], title='#number of sale')"
   ]
  },
  {
   "cell_type": "markdown",
   "id": "524d6b7c",
   "metadata": {},
   "source": [
    "<b>Things are much clearer now we can say now we have the main density of order numbers in the range between 5 to 10 or 15</b>. Now our data requires some conversions so that we can fit it into the model. "
   ]
  },
  {
   "cell_type": "markdown",
   "id": "72390b8f",
   "metadata": {},
   "source": [
    "<a id='sect4_2'></a>\n",
    "### <font color='darkgreen'>Data conversions</font>\n",
    "Let’s split our data:"
   ]
  },
  {
   "cell_type": "code",
   "execution_count": 48,
   "id": "888636f9",
   "metadata": {},
   "outputs": [],
   "source": [
    "split_date = '01-Jan-2019'\n",
    "data_train = res_unique_df.loc[res.index <= split_date].copy()\n",
    "data_test = res_unique_df.loc[res.index > split_date].copy()"
   ]
  },
  {
   "cell_type": "markdown",
   "id": "7e4f235d",
   "metadata": {},
   "source": [
    "In this, we have splitted our data into train and <b>test data after the date 01-Jan-2019</b>. So that we can check our model after the year 2018. Let’s see how our split datasets are."
   ]
  },
  {
   "cell_type": "code",
   "execution_count": 49,
   "id": "47d1a648",
   "metadata": {},
   "outputs": [
    {
     "data": {
      "text/html": [
       "<div>\n",
       "<style scoped>\n",
       "    .dataframe tbody tr th:only-of-type {\n",
       "        vertical-align: middle;\n",
       "    }\n",
       "\n",
       "    .dataframe tbody tr th {\n",
       "        vertical-align: top;\n",
       "    }\n",
       "\n",
       "    .dataframe thead th {\n",
       "        text-align: right;\n",
       "    }\n",
       "</style>\n",
       "<table border=\"1\" class=\"dataframe\">\n",
       "  <thead>\n",
       "    <tr style=\"text-align: right;\">\n",
       "      <th></th>\n",
       "      <th>number</th>\n",
       "    </tr>\n",
       "    <tr>\n",
       "      <th>date</th>\n",
       "      <th></th>\n",
       "    </tr>\n",
       "  </thead>\n",
       "  <tbody>\n",
       "    <tr>\n",
       "      <th>2018-12-28</th>\n",
       "      <td>18</td>\n",
       "    </tr>\n",
       "    <tr>\n",
       "      <th>2018-12-29</th>\n",
       "      <td>13</td>\n",
       "    </tr>\n",
       "    <tr>\n",
       "      <th>2018-12-30</th>\n",
       "      <td>16</td>\n",
       "    </tr>\n",
       "    <tr>\n",
       "      <th>2018-12-31</th>\n",
       "      <td>34</td>\n",
       "    </tr>\n",
       "    <tr>\n",
       "      <th>2019-01-01</th>\n",
       "      <td>14</td>\n",
       "    </tr>\n",
       "  </tbody>\n",
       "</table>\n",
       "</div>"
      ],
      "text/plain": [
       "            number\n",
       "date              \n",
       "2018-12-28      18\n",
       "2018-12-29      13\n",
       "2018-12-30      16\n",
       "2018-12-31      34\n",
       "2019-01-01      14"
      ]
     },
     "execution_count": 49,
     "metadata": {},
     "output_type": "execute_result"
    }
   ],
   "source": [
    "data_train[-5:]"
   ]
  },
  {
   "cell_type": "code",
   "execution_count": 50,
   "id": "f663233a",
   "metadata": {},
   "outputs": [
    {
     "data": {
      "text/html": [
       "<div>\n",
       "<style scoped>\n",
       "    .dataframe tbody tr th:only-of-type {\n",
       "        vertical-align: middle;\n",
       "    }\n",
       "\n",
       "    .dataframe tbody tr th {\n",
       "        vertical-align: top;\n",
       "    }\n",
       "\n",
       "    .dataframe thead th {\n",
       "        text-align: right;\n",
       "    }\n",
       "</style>\n",
       "<table border=\"1\" class=\"dataframe\">\n",
       "  <thead>\n",
       "    <tr style=\"text-align: right;\">\n",
       "      <th></th>\n",
       "      <th>number</th>\n",
       "    </tr>\n",
       "    <tr>\n",
       "      <th>date</th>\n",
       "      <th></th>\n",
       "    </tr>\n",
       "  </thead>\n",
       "  <tbody>\n",
       "    <tr>\n",
       "      <th>2019-01-02</th>\n",
       "      <td>26</td>\n",
       "    </tr>\n",
       "    <tr>\n",
       "      <th>2019-01-03</th>\n",
       "      <td>32</td>\n",
       "    </tr>\n",
       "    <tr>\n",
       "      <th>2019-01-04</th>\n",
       "      <td>6</td>\n",
       "    </tr>\n",
       "    <tr>\n",
       "      <th>2019-01-05</th>\n",
       "      <td>14</td>\n",
       "    </tr>\n",
       "    <tr>\n",
       "      <th>2019-01-06</th>\n",
       "      <td>19</td>\n",
       "    </tr>\n",
       "  </tbody>\n",
       "</table>\n",
       "</div>"
      ],
      "text/plain": [
       "            number\n",
       "date              \n",
       "2019-01-02      26\n",
       "2019-01-03      32\n",
       "2019-01-04       6\n",
       "2019-01-05      14\n",
       "2019-01-06      19"
      ]
     },
     "execution_count": 50,
     "metadata": {},
     "output_type": "execute_result"
    }
   ],
   "source": [
    "data_test[:5]"
   ]
  },
  {
   "cell_type": "markdown",
   "id": "0a26982e",
   "metadata": {},
   "source": [
    "Let’s plot our split data."
   ]
  },
  {
   "cell_type": "code",
   "execution_count": 51,
   "id": "f1b2e338",
   "metadata": {},
   "outputs": [
    {
     "data": {
      "image/png": "[encoded data removed]",
      "text/plain": [
       "<Figure size 864x360 with 1 Axes>"
      ]
     },
     "metadata": {
      "needs_background": "light"
     },
     "output_type": "display_data"
    }
   ],
   "source": [
    "_ = data_test \\\n",
    "    .rename(columns={'number': 'TEST SET'}) \\\n",
    "    .join(data_train.rename(columns={'number': 'TRAINING SET'}), how='outer') \\\n",
    "    .plot(figsize=(12,5), title='#number of sale', style='.')"
   ]
  },
  {
   "cell_type": "markdown",
   "id": "279a00d2",
   "metadata": {},
   "source": [
    "Here we can see that our datasets have different colours. After this, we can <b>make a function that can create time-series features from our data</b>:"
   ]
  },
  {
   "cell_type": "code",
   "execution_count": 55,
   "id": "80040fac",
   "metadata": {},
   "outputs": [],
   "source": [
    "def create_features(df, label=None):\n",
    "    df['date'] = df.index\n",
    "    df['hour'] = df['date'].dt.hour\n",
    "    df['dayofweek'] = df['date'].dt.dayofweek\n",
    "    df['quarter'] = df['date'].dt.quarter\n",
    "    df['month'] = df['date'].dt.month\n",
    "    df['year'] = df['date'].dt.year\n",
    "    df['dayofyear'] = df['date'].dt.dayofyear\n",
    "    df['dayofmonth'] = df['date'].dt.day\n",
    "    df['weekofyear'] = df['date'].dt.isocalendar().week\n",
    "    \n",
    "    X = df[['hour','dayofweek','quarter','month','year',\n",
    "           'dayofyear','dayofmonth','weekofyear']]\n",
    "    if label:\n",
    "        y = df[label]\n",
    "        return X, y\n",
    "    return X"
   ]
  },
  {
   "cell_type": "markdown",
   "id": "a8705a79",
   "metadata": {},
   "source": [
    "Let’s use the function in our data:"
   ]
  },
  {
   "cell_type": "code",
   "execution_count": 56,
   "id": "37f73a6a",
   "metadata": {},
   "outputs": [
    {
     "data": {
      "text/html": [
       "<div>\n",
       "<style scoped>\n",
       "    .dataframe tbody tr th:only-of-type {\n",
       "        vertical-align: middle;\n",
       "    }\n",
       "\n",
       "    .dataframe tbody tr th {\n",
       "        vertical-align: top;\n",
       "    }\n",
       "\n",
       "    .dataframe thead th {\n",
       "        text-align: right;\n",
       "    }\n",
       "</style>\n",
       "<table border=\"1\" class=\"dataframe\">\n",
       "  <thead>\n",
       "    <tr style=\"text-align: right;\">\n",
       "      <th></th>\n",
       "      <th>hour</th>\n",
       "      <th>dayofweek</th>\n",
       "      <th>quarter</th>\n",
       "      <th>month</th>\n",
       "      <th>year</th>\n",
       "      <th>dayofyear</th>\n",
       "      <th>dayofmonth</th>\n",
       "      <th>weekofyear</th>\n",
       "    </tr>\n",
       "    <tr>\n",
       "      <th>date</th>\n",
       "      <th></th>\n",
       "      <th></th>\n",
       "      <th></th>\n",
       "      <th></th>\n",
       "      <th></th>\n",
       "      <th></th>\n",
       "      <th></th>\n",
       "      <th></th>\n",
       "    </tr>\n",
       "  </thead>\n",
       "  <tbody>\n",
       "    <tr>\n",
       "      <th>2017-08-13</th>\n",
       "      <td>0</td>\n",
       "      <td>6</td>\n",
       "      <td>3</td>\n",
       "      <td>8</td>\n",
       "      <td>2017</td>\n",
       "      <td>225</td>\n",
       "      <td>13</td>\n",
       "      <td>32</td>\n",
       "    </tr>\n",
       "    <tr>\n",
       "      <th>2016-12-20</th>\n",
       "      <td>0</td>\n",
       "      <td>1</td>\n",
       "      <td>4</td>\n",
       "      <td>12</td>\n",
       "      <td>2016</td>\n",
       "      <td>355</td>\n",
       "      <td>20</td>\n",
       "      <td>51</td>\n",
       "    </tr>\n",
       "    <tr>\n",
       "      <th>2018-11-15</th>\n",
       "      <td>0</td>\n",
       "      <td>3</td>\n",
       "      <td>4</td>\n",
       "      <td>11</td>\n",
       "      <td>2018</td>\n",
       "      <td>319</td>\n",
       "      <td>15</td>\n",
       "      <td>46</td>\n",
       "    </tr>\n",
       "    <tr>\n",
       "      <th>2018-01-15</th>\n",
       "      <td>0</td>\n",
       "      <td>0</td>\n",
       "      <td>1</td>\n",
       "      <td>1</td>\n",
       "      <td>2018</td>\n",
       "      <td>15</td>\n",
       "      <td>15</td>\n",
       "      <td>3</td>\n",
       "    </tr>\n",
       "    <tr>\n",
       "      <th>2018-04-22</th>\n",
       "      <td>0</td>\n",
       "      <td>6</td>\n",
       "      <td>2</td>\n",
       "      <td>4</td>\n",
       "      <td>2018</td>\n",
       "      <td>112</td>\n",
       "      <td>22</td>\n",
       "      <td>16</td>\n",
       "    </tr>\n",
       "  </tbody>\n",
       "</table>\n",
       "</div>"
      ],
      "text/plain": [
       "            hour  dayofweek  quarter  month  year  dayofyear  dayofmonth  \\\n",
       "date                                                                       \n",
       "2017-08-13     0          6        3      8  2017        225          13   \n",
       "2016-12-20     0          1        4     12  2016        355          20   \n",
       "2018-11-15     0          3        4     11  2018        319          15   \n",
       "2018-01-15     0          0        1      1  2018         15          15   \n",
       "2018-04-22     0          6        2      4  2018        112          22   \n",
       "\n",
       "            weekofyear  \n",
       "date                    \n",
       "2017-08-13          32  \n",
       "2016-12-20          51  \n",
       "2018-11-15          46  \n",
       "2018-01-15           3  \n",
       "2018-04-22          16  "
      ]
     },
     "execution_count": 56,
     "metadata": {},
     "output_type": "execute_result"
    }
   ],
   "source": [
    "X_train, y_train = create_features(data_train, label='number')\n",
    "X_test, y_test = create_features(data_test, label='number')\n",
    "X_train.sample(n=5)"
   ]
  },
  {
   "cell_type": "code",
   "execution_count": 60,
   "id": "89697ade",
   "metadata": {},
   "outputs": [
    {
     "data": {
      "text/plain": [
       "hour           int64\n",
       "dayofweek      int64\n",
       "quarter        int64\n",
       "month          int64\n",
       "year           int64\n",
       "dayofyear      int64\n",
       "dayofmonth     int64\n",
       "weekofyear    UInt32\n",
       "dtype: object"
      ]
     },
     "execution_count": 60,
     "metadata": {},
     "output_type": "execute_result"
    }
   ],
   "source": [
    "X_train.dtypes"
   ]
  },
  {
   "cell_type": "code",
   "execution_count": 63,
   "id": "8ad7d770",
   "metadata": {},
   "outputs": [],
   "source": [
    "X_train = X_train.astype({'weekofyear': int})\n",
    "X_test = X_test.astype({'weekofyear': int})"
   ]
  },
  {
   "cell_type": "code",
   "execution_count": 64,
   "id": "00828b6d",
   "metadata": {},
   "outputs": [
    {
     "data": {
      "text/plain": [
       "hour          int64\n",
       "dayofweek     int64\n",
       "quarter       int64\n",
       "month         int64\n",
       "year          int64\n",
       "dayofyear     int64\n",
       "dayofmonth    int64\n",
       "weekofyear    int64\n",
       "dtype: object"
      ]
     },
     "execution_count": 64,
     "metadata": {},
     "output_type": "execute_result"
    }
   ],
   "source": [
    "X_train.dtypes"
   ]
  },
  {
   "cell_type": "markdown",
   "id": "c34f0e9a",
   "metadata": {},
   "source": [
    "In the above output, we can see what are the features we have in our data for training. <b>Since XGBoost is a process of supervised learning to work with it we are required to make our data the data for supervised learning</b>."
   ]
  },
  {
   "cell_type": "markdown",
   "id": "7f8323a2",
   "metadata": {},
   "source": [
    "<a id='sect4_3'></a>\n",
    "### <font color='darkgreen'>Model fitting</font>\n",
    "Instantiating our model:"
   ]
  },
  {
   "cell_type": "code",
   "execution_count": 58,
   "id": "8a73eab0",
   "metadata": {},
   "outputs": [],
   "source": [
    "reg = xgb.XGBRegressor(n_estimators=1000)"
   ]
  },
  {
   "cell_type": "markdown",
   "id": "9dc5752a",
   "metadata": {},
   "source": [
    "Fitting our data into the model:"
   ]
  },
  {
   "cell_type": "code",
   "execution_count": 65,
   "id": "e3ebadfd",
   "metadata": {},
   "outputs": [
    {
     "name": "stdout",
     "output_type": "stream",
     "text": [
      "CPU times: user 190 ms, sys: 80.6 ms, total: 270 ms\n",
      "Wall time: 120 ms\n"
     ]
    },
    {
     "data": {
      "text/plain": [
       "XGBRegressor(base_score=0.5, booster='gbtree', colsample_bylevel=1,\n",
       "             colsample_bynode=1, colsample_bytree=1, gamma=0, gpu_id=-1,\n",
       "             importance_type='gain', interaction_constraints='',\n",
       "             learning_rate=0.300000012, max_delta_step=0, max_depth=6,\n",
       "             min_child_weight=1, missing=nan, monotone_constraints='()',\n",
       "             n_estimators=1000, n_jobs=4, num_parallel_tree=1, random_state=0,\n",
       "             reg_alpha=0, reg_lambda=1, scale_pos_weight=1, subsample=1,\n",
       "             tree_method='exact', validate_parameters=1, verbosity=None)"
      ]
     },
     "execution_count": 65,
     "metadata": {},
     "output_type": "execute_result"
    }
   ],
   "source": [
    "%%time\n",
    "reg.fit(\n",
    "    X_train, y_train,\n",
    "    eval_set=[(X_train, y_train), (X_test, y_test)],\n",
    "    early_stopping_rounds=50, verbose=False)"
   ]
  },
  {
   "cell_type": "markdown",
   "id": "c752f324",
   "metadata": {},
   "source": [
    "Before making predictions on the test data we can also follow the process of feature selection. In this process, we can do this using the feature importance technique. This process will help us in finding the feature from the data the model is relying on most to make the prediction. <b>One more thing which is important here is that we are using XGBoost which works based on splitting data using the important feature. So finding the important feature will make the background process much clearer</b>. "
   ]
  },
  {
   "cell_type": "code",
   "execution_count": 66,
   "id": "04368120",
   "metadata": {},
   "outputs": [
    {
     "data": {
      "image/png": "[encoded data removed]",
      "text/plain": [
       "<Figure size 432x288 with 1 Axes>"
      ]
     },
     "metadata": {
      "needs_background": "light"
     },
     "output_type": "display_data"
    }
   ],
   "source": [
    "_ = plot_importance(reg, height=0.9)"
   ]
  },
  {
   "cell_type": "markdown",
   "id": "994e7b8c",
   "metadata": {},
   "source": [
    "In the above output, we can see that <b>`dayofyear` is our most important feature and the model has used it most commonly to split on more nodes. Feature `weekofyear` has the lowest importance</b>. "
   ]
  },
  {
   "cell_type": "markdown",
   "id": "7d98c44d",
   "metadata": {},
   "source": [
    "<a id='sect4_4'></a>\n",
    "### <font color='darkgreen'>Forecasting</font>\n",
    "After fitting the model and feature selection process <b>we can make predictions using our test data and model</b>. Using the below lines of codes we can do this."
   ]
  },
  {
   "cell_type": "code",
   "execution_count": 70,
   "id": "6e2038c5",
   "metadata": {},
   "outputs": [
    {
     "data": {
      "text/html": [
       "<div>\n",
       "<style scoped>\n",
       "    .dataframe tbody tr th:only-of-type {\n",
       "        vertical-align: middle;\n",
       "    }\n",
       "\n",
       "    .dataframe tbody tr th {\n",
       "        vertical-align: top;\n",
       "    }\n",
       "\n",
       "    .dataframe thead th {\n",
       "        text-align: right;\n",
       "    }\n",
       "</style>\n",
       "<table border=\"1\" class=\"dataframe\">\n",
       "  <thead>\n",
       "    <tr style=\"text-align: right;\">\n",
       "      <th></th>\n",
       "      <th>number</th>\n",
       "      <th>number_prediction</th>\n",
       "    </tr>\n",
       "    <tr>\n",
       "      <th>date</th>\n",
       "      <th></th>\n",
       "      <th></th>\n",
       "    </tr>\n",
       "  </thead>\n",
       "  <tbody>\n",
       "    <tr>\n",
       "      <th>2019-01-02</th>\n",
       "      <td>26</td>\n",
       "      <td>8.262124</td>\n",
       "    </tr>\n",
       "    <tr>\n",
       "      <th>2019-01-03</th>\n",
       "      <td>32</td>\n",
       "      <td>8.072212</td>\n",
       "    </tr>\n",
       "    <tr>\n",
       "      <th>2019-01-04</th>\n",
       "      <td>6</td>\n",
       "      <td>14.582115</td>\n",
       "    </tr>\n",
       "    <tr>\n",
       "      <th>2019-01-05</th>\n",
       "      <td>14</td>\n",
       "      <td>17.201303</td>\n",
       "    </tr>\n",
       "    <tr>\n",
       "      <th>2019-01-06</th>\n",
       "      <td>19</td>\n",
       "      <td>17.285898</td>\n",
       "    </tr>\n",
       "    <tr>\n",
       "      <th>...</th>\n",
       "      <td>...</td>\n",
       "      <td>...</td>\n",
       "    </tr>\n",
       "    <tr>\n",
       "      <th>2018-12-28</th>\n",
       "      <td>18</td>\n",
       "      <td>NaN</td>\n",
       "    </tr>\n",
       "    <tr>\n",
       "      <th>2018-12-29</th>\n",
       "      <td>13</td>\n",
       "      <td>NaN</td>\n",
       "    </tr>\n",
       "    <tr>\n",
       "      <th>2018-12-30</th>\n",
       "      <td>16</td>\n",
       "      <td>NaN</td>\n",
       "    </tr>\n",
       "    <tr>\n",
       "      <th>2018-12-31</th>\n",
       "      <td>34</td>\n",
       "      <td>NaN</td>\n",
       "    </tr>\n",
       "    <tr>\n",
       "      <th>2019-01-01</th>\n",
       "      <td>14</td>\n",
       "      <td>NaN</td>\n",
       "    </tr>\n",
       "  </tbody>\n",
       "</table>\n",
       "<p>1207 rows × 2 columns</p>\n",
       "</div>"
      ],
      "text/plain": [
       "            number  number_prediction\n",
       "date                                 \n",
       "2019-01-02      26           8.262124\n",
       "2019-01-03      32           8.072212\n",
       "2019-01-04       6          14.582115\n",
       "2019-01-05      14          17.201303\n",
       "2019-01-06      19          17.285898\n",
       "...            ...                ...\n",
       "2018-12-28      18                NaN\n",
       "2018-12-29      13                NaN\n",
       "2018-12-30      16                NaN\n",
       "2018-12-31      34                NaN\n",
       "2019-01-01      14                NaN\n",
       "\n",
       "[1207 rows x 2 columns]"
      ]
     },
     "execution_count": 70,
     "metadata": {},
     "output_type": "execute_result"
    }
   ],
   "source": [
    "data_test['number_prediction'] = reg.predict(X_test)\n",
    "data_all = pd.concat([data_test, data_train], sort=False)\n",
    "data_all[['number', 'number_prediction']]"
   ]
  },
  {
   "cell_type": "markdown",
   "id": "30243d4e",
   "metadata": {},
   "source": [
    "Now lets plot our prediction:"
   ]
  },
  {
   "cell_type": "code",
   "execution_count": 68,
   "id": "5bae2055",
   "metadata": {},
   "outputs": [
    {
     "data": {
      "image/png": "[encoded data removed]",
      "text/plain": [
       "<Figure size 864x360 with 1 Axes>"
      ]
     },
     "metadata": {
      "needs_background": "light"
     },
     "output_type": "display_data"
    }
   ],
   "source": [
    "_ = data_all[['number','number_Prediction']].plot(figsize=(12, 5))"
   ]
  },
  {
   "cell_type": "markdown",
   "id": "a08eaa6d",
   "metadata": {},
   "source": [
    "Here we can see our prediction. As we have discussed, the order values are moving around the range between 5 to 15 and our model is also predicting between this range. <b>Using those predictions we can tell the restaurant to prepare around this range only so that we can reduce the wastage of food and maximize profit</b>."
   ]
  },
  {
   "cell_type": "markdown",
   "id": "d877ea64",
   "metadata": {},
   "source": [
    "## <font color='darkblue'>Final words</font>\n",
    "<b>In this article, we have gone through the process of applying XGBoost in time series modelling and forecasting</b>. Also, with this, we have discussed some of the data analysis processes that can be helpful in solving real-life problems.   "
   ]
  }
 ],
 "metadata": {
  "kernelspec": {
   "display_name": "Python 3 (ipykernel)",
   "language": "python",
   "name": "python3"
  },
  "language_info": {
   "codemirror_mode": {
    "name": "ipython",
    "version": 3
   },
   "file_extension": ".py",
   "mimetype": "text/x-python",
   "name": "python",
   "nbconvert_exporter": "python",
   "pygments_lexer": "ipython3",
   "version": "3.8.10"
  }
 },
 "nbformat": 4,
 "nbformat_minor": 5
}
