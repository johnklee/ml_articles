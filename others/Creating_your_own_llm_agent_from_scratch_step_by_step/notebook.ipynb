{
 "cells": [
  {
   "cell_type": "markdown",
   "id": "d0cc0da0-1260-46ee-9ae7-278fcf6b5289",
   "metadata": {},
   "source": [
    "## <b><font color='darkblue'>Introduction</font></b>\n",
    "([article source](https://www.linkedin.com/pulse/creating-your-own-llm-agent-from-scratch-step-by-step-avinash-dubey-lqajc/)) <b><font size='3ptx'>Large Language Models (LLMs) are powerful neural networks trained on massive amounts of text data.</font></b>\n",
    "\n",
    "While they are capable of generating text, translating languages, and answering questions, they might not be suited for performing specific tasks. This is where LLM agents come into play. <b>LLM agents are programs that use LLMs to decide how and when to use tools to complete tasks. This guide will walk you through creating your own LLM agent from scratch</b>."
   ]
  },
  {
   "cell_type": "markdown",
   "id": "638d8d7d-b338-4d96-9339-9862205ec692",
   "metadata": {},
   "source": [
    "### <b><font color='darkgreen'>What are Agents?</font></b>\n",
    "<font size='3ptx'><b>LLM agents are programs that utilize large language models to decide how and when to use tools to complete tasks</b></font>. <b>The core idea of agents is to use a language model to choose a sequence of actions to take</b>. In chains, a sequence of actions is hardcoded in code. In agents, a language model is used as a reasoning engine to determine which actions to take and in which order."
   ]
  },
  {
   "cell_type": "markdown",
   "id": "669f67b8-90f3-4427-aed8-4c3a414f8ced",
   "metadata": {},
   "source": [
    "### <b><font color='darkgreen'>Why are LLM Agents Essential for Tasks?</font></b>\n",
    "While LLMs are powerful and can generate text, translate languages, write different kinds of creative content, and answer questions, they may not be able to perform certain tasks. LLM agents provide a mechanism to extend the capabilities of LLMs by using them as reasoning engines to decide which actions to take and in what order."
   ]
  },
  {
   "cell_type": "markdown",
   "id": "7c88e6aa-d955-4665-aa0c-91544a881474",
   "metadata": {},
   "source": [
    "### <b><font color='darkgreen'>Prerequisites</font></b>\n",
    "To create your own LLM agent, you will need:\n",
    "1. A base LLM\n",
    "2. A tool that you will be interacting with (e.g., Google Custom Search Engine, Calculator)\n",
    "3. An agent to control the interaction"
   ]
  },
  {
   "cell_type": "markdown",
   "id": "2cab8322-adf5-4f15-9c0b-0d18e9738575",
   "metadata": {},
   "source": [
    "## <b><font color='darkblue'>Agent Implementation</font></b>\n",
    "First, install the required packages:"
   ]
  },
  {
   "cell_type": "code",
   "execution_count": 1,
   "id": "69fe73ef-0fa4-43a1-844e-ef9d7221492f",
   "metadata": {},
   "outputs": [
    {
     "name": "stdout",
     "output_type": "stream",
     "text": [
      "\n",
      "\u001b[1m[\u001b[0m\u001b[34;49mnotice\u001b[0m\u001b[1;39;49m]\u001b[0m\u001b[39;49m A new release of pip is available: \u001b[0m\u001b[31;49m23.2.1\u001b[0m\u001b[39;49m -> \u001b[0m\u001b[32;49m24.0\u001b[0m\n",
      "\u001b[1m[\u001b[0m\u001b[34;49mnotice\u001b[0m\u001b[1;39;49m]\u001b[0m\u001b[39;49m To update, run: \u001b[0m\u001b[32;49mpip install --upgrade pip\u001b[0m\n"
     ]
    }
   ],
   "source": [
    "!pip install -q openai py_expression_eval google-api-python-client"
   ]
  },
  {
   "cell_type": "markdown",
   "id": "e343761a-463b-453d-a4c2-3ec92a6959c4",
   "metadata": {},
   "source": [
    "### <b><font color='darkgreen'>Setting Up</font></b>\n",
    "1. Set up a Custom Search Engine and get a Google API Key.\n",
    "2. Set the API Key and Custom Search Engine ID as environment variables:"
   ]
  },
  {
   "cell_type": "code",
   "execution_count": 9,
   "id": "ae5f0a20-32e8-4f50-a27f-9fcd97f9826b",
   "metadata": {},
   "outputs": [],
   "source": [
    "from openai import OpenAI\n",
    "from langchain_google_genai import ChatGoogleGenerativeAI\n",
    "from googleapiclient.discovery import build\n",
    "from py_expression_eval import Parser\n",
    "from dotenv import load_dotenv\n",
    "import re, time, os\n",
    "\n",
    "load_dotenv()\n",
    "\n",
    "GOOGLE_CSE_ID = os.getenv('GOOGLE_CSE_ID')\n",
    "GOOGLE_API_KEY = os.getenv(\"GOOGLE_API_KEY\")\n",
    "GOOGLE_SEARCH_API_KEY = os.getenv('GOOGLE_SEARCH_API_KEY')\n",
    "client = OpenAI(api_key=os.getenv('OPENAI_API_KEY'))\n",
    "llm = ChatGoogleGenerativeAI(model=\"gemini-pro\", google_api_key=GOOGLE_API_KEY)"
   ]
  },
  {
   "cell_type": "code",
   "execution_count": 4,
   "id": "4e32ce88-01b2-495b-96d6-5d51b570955e",
   "metadata": {},
   "outputs": [],
   "source": [
    "def search(search_term, search_api_key=GOOGLE_SEARCH_API_KEY, cse_id=GOOGLE_CSE_ID):\n",
    "    search_result = \"\"\n",
    "    service = build(\"customsearch\", \"v1\", developerKey=search_api_key)\n",
    "    res = service.cse().list(q=search_term, cx=cse_id, num=10).execute()\n",
    "    \n",
    "    for result in res['items']:\n",
    "        search_result = search_result + result['snippet']\n",
    "        \n",
    "    return search_result "
   ]
  },
  {
   "cell_type": "code",
   "execution_count": 5,
   "id": "01edd953-83cd-4297-8244-89e356ab1d2c",
   "metadata": {},
   "outputs": [],
   "source": [
    "parser = Parser()\n",
    "\n",
    "def calculator(str):\n",
    "    return parser.parse(str).evaluate({}) "
   ]
  },
  {
   "cell_type": "markdown",
   "id": "13d52440-a04c-4a38-a645-4cb1df969386",
   "metadata": {},
   "source": [
    "### <b><font color='darkgreen'>System Prompt</font></b>\n",
    "This prompt instructs the model on how to interact with the user. It defines the available tools and the format to use them."
   ]
  },
  {
   "cell_type": "code",
   "execution_count": 6,
   "id": "83ea39e0-0a49-4aff-8162-b9fcb0b4ca06",
   "metadata": {},
   "outputs": [],
   "source": [
    "system_prompt = \"\"\"\n",
    "\n",
    "Answer the following questions and obey the following commands as best you can.\n",
    "\n",
    "You have access to the following tools:\n",
    "\n",
    "Search: useful for when you need to answer questions about current events. You should ask targeted questions.\n",
    "\n",
    "Calculator: Useful for when you need to answer questions about math. Use python code, eg: 2 + 2\n",
    "\n",
    "Response To Human: When you need to respond to the human you are talking to.\n",
    "\n",
    "You will receive a message from the human, then you should start a loop and do one of two things\n",
    "\n",
    "Option 1: You use a tool to answer the question.\n",
    "\n",
    "For this, you should use the following format:\n",
    "\n",
    "Thought: you should always think about what to do\n",
    "\n",
    "Action: the action to take, should be one of [Search, Calculator]\n",
    "\n",
    "Action Input: \"the input to the action, to be sent to the tool\"\n",
    "\n",
    "After this, the human will respond with an observation, and you will continue.\n",
    "\n",
    "Option 2: You respond to the human.\n",
    "\n",
    "For this, you should use the following format:\n",
    "\n",
    "Action: Response To Human\n",
    "\n",
    "Action Input: \"your response to the human, summarizing what you did and what you learned\"\n",
    "\n",
    "Begin!\n",
    "\"\"\""
   ]
  },
  {
   "cell_type": "markdown",
   "id": "02801272-2cb4-45be-a6ef-87012515731d",
   "metadata": {},
   "source": [
    "### <b><font color='darkgreen'>Stream Agent Function</font></b>"
   ]
  },
  {
   "cell_type": "code",
   "execution_count": 10,
   "id": "cc14ed19-65ba-4c0b-b230-5413859371bf",
   "metadata": {},
   "outputs": [],
   "source": [
    " def stream_agent(prompt):\n",
    "    messages = [\n",
    "        { \"role\": \"system\", \"content\": system_prompt },\n",
    "        { \"role\": \"user\", \"content\": prompt },\n",
    "    ]\n",
    "    def extract_action_and_input(text):\n",
    "          action_pattern = r\"Action: (.+?)\\n\"\n",
    "          input_pattern = r\"Action Input: \\\"(.+?)\\\"\"\n",
    "          action = re.findall(action_pattern, text)\n",
    "          action_input = re.findall(input_pattern, text)\n",
    "          return action, action_input\n",
    "        \n",
    "    while True:\n",
    "        response = client.chat.completions.create(\n",
    "            model=\"gpt-4\",\n",
    "            messages=messages,\n",
    "            temperature=0,\n",
    "            top_p=1,)\n",
    "        \n",
    "        response_text = response.choices[0].message.content\n",
    "        print(response_text)\n",
    "        #To prevent the Rate Limit error for free-tier users, we need to decrease the number of requests/minute.\n",
    "        time.sleep(20)\n",
    "        action, action_input = extract_action_and_input(response_text)\n",
    "        if action[-1] == \"Search\":\n",
    "            tool = search\n",
    "        elif action[-1] == \"Calculator\":\n",
    "            tool = calculator\n",
    "        elif action[-1] == \"Response To Human\":\n",
    "            print(f\"Response: {action_input[-1]}\")\n",
    "            break\n",
    "        observation = tool(action_input[-1])\n",
    "        print(\"Observation: \", observation)\n",
    "        messages.extend([\n",
    "            { \"role\": \"system\", \"content\": response_text },\n",
    "            { \"role\": \"user\", \"content\": f\"Observation: {observation}\" },\n",
    "            ])"
   ]
  },
  {
   "cell_type": "code",
   "execution_count": 11,
   "id": "b3cbb5aa-4ce0-48df-b687-a218a52b7a39",
   "metadata": {},
   "outputs": [
    {
     "name": "stdout",
     "output_type": "stream",
     "text": [
      "Thought: I need to find the current board members of OpenAI. I will use the search tool for this.\n",
      "\n",
      "Action: Search\n",
      "\n",
      "Action Input: \"New OpenAI board members\"\n",
      "Observation:  Mar 8, 2024 ... Dr. Sue Desmond-Hellmann, Nicole Seligman, Fidji Simo join; Sam Altman rejoins board.Mar 11, 2024 ... Who are OpenAI's new board members? · FIDJI SIMO · SUE DESMOND-HELLMAN · NICOLE SELIGMAN · Read Next · Technology · Site Index · Latest · Media.Mar 11, 2024 ... In a statement, OpenAI said Altman will rejoin the board alongside three new independent directors: Sue Desmond-Hellmann, former CEO of the Bill ...Nov 30, 2023 ... OpenAI Board Confirmed with Final Addition of Microsoft. In a new blog post, OpenAI and Sam Altman have confirmed its new look “initial” board ...Nov 22, 2023 ... Here are the newest members of OpenAI's board · Bret Taylor, board chair · Larry Summers · Adam D'Angelo.Nov 20, 2023 ... The center's founding director is Jason Gaverick Matheny, former director of IARPA. Its current executive director is Dewey Murdick, former ...Mar 8, 2024 ... Sam Altman rejoins OpenAI board of directors as investigation into his ouster comes to a close · Dr. · Nicole Seligman, former EVP and Global ...Nov 19, 2023 ... The new OpenAI board should be structured to the following: 2 founding members. 2 investor director. 5 independent directors with relevant ...Nov 20, 2023 ... 283 votes, 58 comments. 1.5M subscribers in the OpenAI community. OpenAI is an AI research and deployment company. OpenAI's mission is to ...May 30, 2024 ... Upon being asked by the former board (including Ms Toner and Ms McCauley) to serve on the new board, the first step we took was to commission an ...\n",
      "Action: Response To Human\n",
      "\n",
      "Action Input: \"The new board members of OpenAI are Dr. Sue Desmond-Hellmann, Nicole Seligman, and Fidji Simo. Additionally, Sam Altman has rejoined the board.\"\n",
      "Response: The new board members of OpenAI are Dr. Sue Desmond-Hellmann, Nicole Seligman, and Fidji Simo. Additionally, Sam Altman has rejoined the board.\n"
     ]
    }
   ],
   "source": [
    "stream_agent(\"who is new openai board members\")"
   ]
  }
 ],
 "metadata": {
  "kernelspec": {
   "display_name": "Python 3 (ipykernel)",
   "language": "python",
   "name": "python3"
  },
  "language_info": {
   "codemirror_mode": {
    "name": "ipython",
    "version": 3
   },
   "file_extension": ".py",
   "mimetype": "text/x-python",
   "name": "python",
   "nbconvert_exporter": "python",
   "pygments_lexer": "ipython3",
   "version": "3.11.8"
  }
 },
 "nbformat": 4,
 "nbformat_minor": 5
}
