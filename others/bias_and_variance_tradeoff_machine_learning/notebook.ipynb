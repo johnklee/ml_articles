{
 "cells": [
  {
   "cell_type": "markdown",
   "metadata": {},
   "source": [
    "## <font color='darkblue'>Introduction</font>\n",
    "([article source](https://www.analyticsvidhya.com/blog/2020/08/bias-and-variance-tradeoff-machine-learning/)) <font size='3ptx'><b>Let us talk about the weather. It rains only if it’s a little humid and does not rain if it’s windy, hot or freezing. In this case, how would you train a predictive model and ensure that there are no errors in forecasting the weather? You may say that there are many learning algorithms to choose from. They are distinct in many ways but there is a major difference in what we expect and what the model predicts. That’s the concept of <a href='https://en.wikipedia.org/wiki/Bias%E2%80%93variance_tradeoff'>Bias and Variance Tradeoff</a>.</b></font>\n",
    "![Bias and variance](images/1.PNG)\n",
    "<br/>\n",
    "\n",
    "Usually, Bias and Variance Tradeoff is taught through dense mathematical formulas. But in this article, I have attempted to explain Bias and Variance as simply as possible! <b>My focus will be to spin you through the process of understanding the problem statement and ensuring that you choose the best model where the Bias and Variance errors are minimal.</b>\n",
    "\n",
    "For this, I have taken up the popular <b>Pima Indians Diabetes dataset</b> (<a href='https://www.kaggle.com/uciml/pima-indians-diabetes-database'>Kaggle download</a>). The dataset consists of diagnostic measurements of adult female patients of Native Indian Pima Heritage. For this dataset, we are going to focus on the “Outcome” variable – which indicates whether the patient has diabetes or not. Evidently, this is a binary classification problem and we are going to dive right in and learn how to go about it.\n",
    "\n",
    "If you are interested in this and data science concepts and want to learn practically refer to our course- <b><a href='https://courses.analyticsvidhya.com/courses/introduction-to-data-science-2?utm_source=blog&utm_medium='>Introduction to Data Science</a></b>"
   ]
  },
  {
   "cell_type": "markdown",
   "metadata": {},
   "source": [
    "### <font color='darkgreen'>Table of Contents</font>\n",
    "1. <font size='3ptx'><b><a href='#sect1'>Evaluating a Machine Learning model</a></b></font>\n",
    "2. <font size='3ptx'><b><a href='#sect2'>Problem Statement and Primary Steps</a></b></font>\n",
    "3. <font size='3ptx'><b><a href='#sect3'>What is Bias?</a></b></font>\n",
    "4. <font size='3ptx'><b><a href='#sect4'>What is Variance?</a></b></font>\n",
    "5. <font size='3ptx'><b><a href='#sect5'>Bias-Variance Tradeoff</a></b></font>"
   ]
  },
  {
   "cell_type": "markdown",
   "metadata": {},
   "source": [
    "<a id='sect1'></a>\n",
    "## <font color='darkblue'>Evaluating your Machine Learning Model</font>\n",
    "<b>The primary aim of the Machine Learning model is to learn from the given data and generate predictions based on the pattern observed during the learning process</b>. However, our task doesn’t end there. We need to continuously make improvements to the models, based on the kind of results it generates. We also quantify the model’s performance using metrics like Accuracy, Mean Squared Error(MSE), F1-Score, etc and try to improve these metrics. <b>This can often get tricky when we have to maintain the flexibility of the model without compromising on its correctness.</b>\n",
    "\n",
    "A supervised Machine Learning model aims to train itself on the input variables(`X`) in such a way that the predicted values(`Y`) are as close to the actual values as possible. This difference between the actual values and predicted values is the <b>error</b> and it is used to evaluate the model. The error for any supervised Machine Learning algorithm comprises of 3 parts:\n",
    "1. Bias error\n",
    "2. Variance error\n",
    "3. The noise\n",
    "<br/>\n",
    "\n",
    "While the noise is the irreducible error that we cannot eliminate, the other two i.e. <b>Bias and Variance are reducible errors that we can attempt to minimize as much as possible.</b>\n",
    "\n",
    "In the following sections, we will cover the Bias error, Variance error, and the Bias-Variance tradeoff which will aid us in the best model selection. And what’s exciting is that we will cover some techniques to deal with these errors by using an example dataset."
   ]
  },
  {
   "cell_type": "markdown",
   "metadata": {},
   "source": [
    "<a id='sect2'></a>\n",
    "## <font color='darkblue'>Problem Statement and Primary Steps</font>\n",
    "As explained earlier, we have taken up the <b><a href='https://github.com/purva91/Bias_Variance_Knn/blob/master/diabetes.csv'>Pima Indians Diabetes dataset</a></b> and formed a classification problem on it. Let’s start by gauging the dataset and observe the kind of data we are dealing with. We will do this by importing the necessary libraries:"
   ]
  },
  {
   "cell_type": "code",
   "execution_count": 5,
   "metadata": {},
   "outputs": [],
   "source": [
    "import numpy as np # linear algebra\n",
    "import pandas as pd # data processing, CSV file I/O (e.g. pd.read_csv)\n",
    "\n",
    "from sklearn.model_selection import train_test_split\n",
    "from sklearn.preprocessing import StandardScaler\n",
    "from sklearn.neighbors import KNeighborsClassifier\n",
    "from sklearn.neighbors import KNeighborsRegressor\n",
    "from sklearn.preprocessing import StandardScaler\n",
    "from sklearn.metrics import confusion_matrix\n",
    "from sklearn import metrics\n",
    "import matplotlib.pyplot as plt\n",
    "%matplotlib inline"
   ]
  },
  {
   "cell_type": "markdown",
   "metadata": {},
   "source": [
    "Now, we will load the data into a data frame and observe some rows to get insights into the data."
   ]
  },
  {
   "cell_type": "code",
   "execution_count": 2,
   "metadata": {},
   "outputs": [
    {
     "data": {
      "text/html": [
       "<div>\n",
       "<style scoped>\n",
       "    .dataframe tbody tr th:only-of-type {\n",
       "        vertical-align: middle;\n",
       "    }\n",
       "\n",
       "    .dataframe tbody tr th {\n",
       "        vertical-align: top;\n",
       "    }\n",
       "\n",
       "    .dataframe thead th {\n",
       "        text-align: right;\n",
       "    }\n",
       "</style>\n",
       "<table border=\"1\" class=\"dataframe\">\n",
       "  <thead>\n",
       "    <tr style=\"text-align: right;\">\n",
       "      <th></th>\n",
       "      <th>Pregnancies</th>\n",
       "      <th>Glucose</th>\n",
       "      <th>BloodPressure</th>\n",
       "      <th>SkinThickness</th>\n",
       "      <th>Insulin</th>\n",
       "      <th>BMI</th>\n",
       "      <th>DiabetesPedigreeFunction</th>\n",
       "      <th>Age</th>\n",
       "      <th>Outcome</th>\n",
       "    </tr>\n",
       "  </thead>\n",
       "  <tbody>\n",
       "    <tr>\n",
       "      <th>0</th>\n",
       "      <td>6</td>\n",
       "      <td>148</td>\n",
       "      <td>72</td>\n",
       "      <td>35</td>\n",
       "      <td>0</td>\n",
       "      <td>33.6</td>\n",
       "      <td>0.627</td>\n",
       "      <td>50</td>\n",
       "      <td>1</td>\n",
       "    </tr>\n",
       "    <tr>\n",
       "      <th>1</th>\n",
       "      <td>1</td>\n",
       "      <td>85</td>\n",
       "      <td>66</td>\n",
       "      <td>29</td>\n",
       "      <td>0</td>\n",
       "      <td>26.6</td>\n",
       "      <td>0.351</td>\n",
       "      <td>31</td>\n",
       "      <td>0</td>\n",
       "    </tr>\n",
       "    <tr>\n",
       "      <th>2</th>\n",
       "      <td>8</td>\n",
       "      <td>183</td>\n",
       "      <td>64</td>\n",
       "      <td>0</td>\n",
       "      <td>0</td>\n",
       "      <td>23.3</td>\n",
       "      <td>0.672</td>\n",
       "      <td>32</td>\n",
       "      <td>1</td>\n",
       "    </tr>\n",
       "    <tr>\n",
       "      <th>3</th>\n",
       "      <td>1</td>\n",
       "      <td>89</td>\n",
       "      <td>66</td>\n",
       "      <td>23</td>\n",
       "      <td>94</td>\n",
       "      <td>28.1</td>\n",
       "      <td>0.167</td>\n",
       "      <td>21</td>\n",
       "      <td>0</td>\n",
       "    </tr>\n",
       "    <tr>\n",
       "      <th>4</th>\n",
       "      <td>0</td>\n",
       "      <td>137</td>\n",
       "      <td>40</td>\n",
       "      <td>35</td>\n",
       "      <td>168</td>\n",
       "      <td>43.1</td>\n",
       "      <td>2.288</td>\n",
       "      <td>33</td>\n",
       "      <td>1</td>\n",
       "    </tr>\n",
       "  </tbody>\n",
       "</table>\n",
       "</div>"
      ],
      "text/plain": [
       "   Pregnancies  Glucose  BloodPressure  SkinThickness  Insulin   BMI  \\\n",
       "0            6      148             72             35        0  33.6   \n",
       "1            1       85             66             29        0  26.6   \n",
       "2            8      183             64              0        0  23.3   \n",
       "3            1       89             66             23       94  28.1   \n",
       "4            0      137             40             35      168  43.1   \n",
       "\n",
       "   DiabetesPedigreeFunction  Age  Outcome  \n",
       "0                     0.627   50        1  \n",
       "1                     0.351   31        0  \n",
       "2                     0.672   32        1  \n",
       "3                     0.167   21        0  \n",
       "4                     2.288   33        1  "
      ]
     },
     "execution_count": 2,
     "metadata": {},
     "output_type": "execute_result"
    }
   ],
   "source": [
    "data_file_path = '../../datas/kaggle_pima-indians-diabetes-database/diabetes.csv'\n",
    "data_df = pd.read_csv(data_file_path)\n",
    "data_df.head()"
   ]
  },
  {
   "cell_type": "markdown",
   "metadata": {},
   "source": [
    "We need to predict the `Outcome` column. Let us separate it and assign it to a target variable `y`. The rest of the data frame will be the set of input variables `X`."
   ]
  },
  {
   "cell_type": "code",
   "execution_count": 4,
   "metadata": {},
   "outputs": [
    {
     "data": {
      "text/plain": [
       "(768, 8)"
      ]
     },
     "execution_count": 4,
     "metadata": {},
     "output_type": "execute_result"
    }
   ],
   "source": [
    "y = data_df[\"Outcome\"].values\n",
    "X = data_df.drop([\"Outcome\"],axis=1)\n",
    "X.shape"
   ]
  },
  {
   "cell_type": "markdown",
   "metadata": {},
   "source": [
    "Now let’s <b>scale the predictor variables and then separate the training and the testing data</b>:"
   ]
  },
  {
   "cell_type": "code",
   "execution_count": 41,
   "metadata": {},
   "outputs": [
    {
     "data": {
      "text/plain": [
       "(614, 8)"
      ]
     },
     "execution_count": 41,
     "metadata": {},
     "output_type": "execute_result"
    }
   ],
   "source": [
    "ss = StandardScaler()\n",
    "data_df = ss.fit_transform(data_df)\n",
    "\n",
    "#Divide into training and test data\n",
    "X_train, X_test, y_train, y_test = train_test_split(\n",
    "    X, y, test_size = 0.2, random_state=4) # 70% training and 30% test\n",
    "X_train.shape"
   ]
  },
  {
   "cell_type": "markdown",
   "metadata": {},
   "source": [
    "Since the outcomes are classified in a binary form, we will use the simplest K-nearest neighbor classifier(<b><a href='https://scikit-learn.org/stable/modules/generated/sklearn.neighbors.KNeighborsClassifier.html'>KNeighborsClassifier</a></b>) to classify whether the patient has diabetes or not. <b>However, how do we decide the value of `k`?</b>\n",
    "* **Maybe we should use `k = 1` so that we will get very good results on our training data?** That might work, but we cannot guarantee that the model will perform just as well on our testing data since it can get too specific\n",
    "* **How about using a high value of `k`, say like `k = 100` so that we can consider a large number of nearest points to account for the distant points as well?** However, this kind of model will be too generic and we cannot be sure if it has considered all the possible contributing features correctly.\n",
    "<br/>\n",
    "\n",
    "Let us take a few possible values of `k` and fit the model on the training data for all those values. We will also compute the training score and testing score for all those values."
   ]
  },
  {
   "cell_type": "code",
   "execution_count": 42,
   "metadata": {},
   "outputs": [],
   "source": [
    "train_score = []\n",
    "test_score = []\n",
    "k_vals = []\n",
    "\n",
    "for k in range(1, 41):\n",
    "    k_vals.append(k)\n",
    "    knn = KNeighborsClassifier(n_neighbors = k)\n",
    "    knn.fit(X_train, y_train)\n",
    "    \n",
    "    tr_score = knn.score(X_train, y_train)\n",
    "    train_score.append(tr_score)\n",
    "    \n",
    "    te_score = knn.score(X_test, y_test)\n",
    "    test_score.append(te_score)"
   ]
  },
  {
   "cell_type": "markdown",
   "metadata": {},
   "source": [
    "To derive more insights from this, let us plot the training data (<font color='brown'>in red</font>) and the testing data (<font color='brown'>in blue</font>)."
   ]
  },
  {
   "cell_type": "code",
   "execution_count": 43,
   "metadata": {},
   "outputs": [
    {
     "data": {
      "image/png": "[encoded data removed]",
      "text/plain": [
       "<Figure size 576x360 with 1 Axes>"
      ]
     },
     "metadata": {
      "needs_background": "light"
     },
     "output_type": "display_data"
    }
   ],
   "source": [
    "plt.figure(figsize=(8, 5))\n",
    "plt.xlabel('Different Values of K')\n",
    "plt.ylabel('Model score')\n",
    "plt.plot(k_vals, train_score, color = 'r', label = \"training score\")\n",
    "plt.plot(k_vals, test_score, color = 'b', label = 'test score')\n",
    "plt.legend(bbox_to_anchor=(1, 1),\n",
    "           bbox_transform=plt.gcf().transFigure)\n",
    "plt.show()"
   ]
  },
  {
   "cell_type": "markdown",
   "metadata": {},
   "source": [
    "We can make the following conclusions from the above plot:\n",
    "* For low values of k, the training score is high, while the testing score is low\n",
    "* As the value of k increases, the testing score starts to increase and the training score starts to decrease.\n",
    "* However, <b>at some value of `k`, both the training score and the testing score are close to each other</b>."
   ]
  },
  {
   "cell_type": "markdown",
   "metadata": {},
   "source": [
    "<a id='sect3'></a>\n",
    "## <font color='darkblue'>What is Bias?</font>\n",
    "<b>In the simplest terms, Bias is the difference between the Predicted Value and the Expected Value.</b> To explain further, the model makes certain assumptions when it trains on the data provided. When it is introduced to the testing/validation data, these assumptions may not always be correct.\n",
    "\n",
    "In our model, if we use a large number of nearest neighbors, the model can totally decide that some parameters are not important at all.  For example, it can just consider that the `Glusoce level` and `the Blood Pressure` decide if the patient has diabetes. This model would make very strong assumptions about the other parameters not affecting the outcome. You can also think of it as a model predicting a simple relationship when the datapoints clearly indicate a more complex relationship:\n",
    "![Bias](images/2.PNG)\n",
    "<br/>\n",
    "Mathematically, let the input variables be `X` and a target variable `Y`. We map the relationship between the two using a function `f`. Therefore,\n",
    "> $$Y = f(X) + e$$\n",
    "<br/>\n",
    "\n",
    "Here ‘e’ is the error that is normally distributed. The aim of our model $f'(x)$ is to predict values as close to $f(x)$ as possible. Here, the Bias of the model is:\n",
    "> $$Bias[f'(X)] = E[f'(X) – f(X)]$$\n",
    "<br/>\n",
    "\n",
    "As I explained above, <b>when the model makes the generalizations i.e. when there is a high <font color='darkblue'>bias error</font></b>, it results in a very simplistic model that does not consider the variations very well. <b>Since it does not learn the training data very well, it is called <a href='https://en.wikipedia.org/wiki/Overfitting#Underfitting'>Underfitting</a></b>."
   ]
  },
  {
   "cell_type": "markdown",
   "metadata": {},
   "source": [
    "<a id='sect4'></a>\n",
    "## <font color='darkblue'>What is a Variance?</font>\n",
    "<font size='3ptx'><b>Contrary to bias, the Variance is when the model takes into account the fluctuations in the data i.e. the noise as well. So, what happens when our model has a high variance?</b></font>\n",
    "\n",
    "The model will still consider the variance as something to learn from. That is, <b>the model learns too much from the training data, so much so, that when confronted with new</b> (<font color='brown'>testing</font>) <b>data, it is unable to predict accurately based on it</b>.\n",
    "\n",
    "Mathematically, the variance error in the model is:\n",
    "> $$Variance(f(x))=E[X^2]−E[X]^2$$\n",
    "<br/>\n",
    "\n",
    "Since in the case of high variance, the model learns too much from the training data, it is called <b><a href='https://en.wikipedia.org/wiki/Overfitting#Underfitting'>overfitting</a></b>.\n",
    "\n",
    "In the context of our data, if we use very few nearest neighbors, it is like saying that if the number of pregnancies is more than 3, the glucose level is more than 78, Diastolic BP is less than 98, Skin thickness is less than 23 mm and so on for every feature….. decide that the patient has diabetes. All the other patients who don’t meet the above criteria are not diabetic. While this may be true for one particular patient in the training set, what if these parameters are the outliers or were even recorded incorrectly? Clearly, such a model could prove to be very costly!\n",
    "\n",
    "Additionally, this model would have a high variance error because the predictions of the patient being diabetic or not vary greatly with the kind of training data we are providing it. So even changing the Glucose Level to 75 would result in the model predicting that the patient does not have diabetes.\n",
    "\n",
    "To make it simpler, <b>the model predicts very complex relationships between the outcome and the input features when a quadratic equation would have sufficed.</b> This is how a classification model would look like when there is a high variance error/when there is overfitting:\n",
    "![Variance](images/3.PNG)\n",
    "<br/>\n",
    "\n",
    "To summarise,\n",
    "* A model with a high bias error underfits data and makes very simplistic assumptions on it\n",
    "* A model with a high variance error overfits the data and learns too much from it\n",
    "* <font color='darkgreen'><b>A good model is where both Bias and Variance errors are balanced</b></font>"
   ]
  },
  {
   "cell_type": "markdown",
   "metadata": {},
   "source": [
    "<a id='sect5'></a>\n",
    "## <font color='darkblue'>Bias-Variance Tradeoff</font>\n",
    "<font size='3ptx'><b>How do we relate the above concepts to our KNN model from earlier? Let’s find out!</b></font>\n",
    "\n",
    "In our model, say, for, `k = 1`, the point closest to the datapoint in question will be considered. Here, the prediction might be accurate for that particular data point so the bias error will be less.\n",
    "\n",
    "However, the variance error will be high since only the one nearest point is considered and this doesn’t take into account the other possible points. What scenario do you think this corresponds to? Yes, you are thinking right, this means that our model is overfitting.\n",
    "\n",
    "On the other hand, <b>for higher values of `k`, many more points closer to the datapoint in question will be considered. This would result in higher bias error and underfitting</b> since many points closer to the datapoint are considered and thus it can’t learn the specifics from the training set. However, we can account for a lower variance error for the testing set which has unknown values.\n",
    "\n",
    "To achieve a balance between the Bias error and the Variance error, we need a value of k such that the model neither learns from the noise (<font color='brown'>overfit on data</font>) nor makes sweeping assumptions on the data (<font color='brown'>underfit on data</font>). To keep it simpler, a balanced model would look like this:\n",
    "![Balanced between bias and variance](images/4.PNG)\n",
    "<br/>\n",
    "\n",
    "Though some points are classified incorrectly, the model generally fits most of the datapoints accurately. The balance between the Bias error and the Variance error is the <font color='darkblue'><b>Bias-Variance Tradeoff</b></font>. The following bulls-eye diagram explains the tradeoff better:\n",
    "![Balance and variance](images/5.PNG)\n",
    "<br/>\n",
    "\n",
    "The center i.e. the bull’s eye is the model result we want to achieve that perfectly predicts all the values correctly. As we move away from the bull’s eye, our model starts to make more and more wrong predictions.\n",
    "\n",
    "A model with low bias and high variance predicts points that are around the center generally, but pretty far away from each other. A model with high bias and low variance is pretty far away from the bull’s eye, but since the variance is low, the predicted points are closer to each other.\n",
    "\n",
    "In terms of model complexity, we can use the following diagram to decide on the optimal complexity of our model:\n",
    "![Balance and variance](images/1.PNG)\n",
    "<br/>\n",
    "So, what do you think is the optimum value for `k`? From the above explanation, we can conclude that the `k` for which\n",
    "* the testing score is the highest, and\n",
    "* both the test score and the training score are close to each other\n",
    "<br/>\n",
    "\n",
    "is the optimal value of `k`. So, even though we are compromising on a lower training score, we still get a high score for our testing data which is more crucial – the test data is after all unknown data."
   ]
  },
  {
   "cell_type": "markdown",
   "metadata": {},
   "source": [
    "## <font color='darkblue'>Conclusion</font>\n",
    "To summarize, in this article, we learned that an ideal model would be one where both the bias error and the variance error are low. However, we should always aim for a model where the model score for the training data is as close as possible to the model score for the testing data.\n",
    "\n",
    "That’s where we figured out how to choose a model that is not too complex (<font color='brown'>High variance and low bias</font>) which would lead to overfitting and nor too simple (<font color='brown'>High Bias and low variance</font>) which would lead to underfitting.\n",
    "\n",
    "<b>Bias and Variance plays an important role in deciding which predictive model to use.</b> "
   ]
  }
 ],
 "metadata": {
  "kernelspec": {
   "display_name": "Python 3",
   "language": "python",
   "name": "python3"
  },
  "language_info": {
   "codemirror_mode": {
    "name": "ipython",
    "version": 3
   },
   "file_extension": ".py",
   "mimetype": "text/x-python",
   "name": "python",
   "nbconvert_exporter": "python",
   "pygments_lexer": "ipython3",
   "version": "3.8.7"
  }
 },
 "nbformat": 4,
 "nbformat_minor": 4
}
