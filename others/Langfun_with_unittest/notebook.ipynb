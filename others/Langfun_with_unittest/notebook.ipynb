{
 "cells": [
  {
   "cell_type": "markdown",
   "id": "ed4cb632-8b98-4ef9-83aa-ee68b14b3d2b",
   "metadata": {},
   "source": [
    "## <b><font color='darkblue'>Preface</font></b>\n",
    "Here we are going to demo in using `langfun` to write unit test case."
   ]
  },
  {
   "cell_type": "markdown",
   "id": "dbd432d8-2b6f-41ce-b52e-c378242dee2b",
   "metadata": {},
   "source": [
    "### <b><font color='darkgreen'>Import packages</font></b>\n",
    "Let's import necessary packages:"
   ]
  },
  {
   "cell_type": "code",
   "execution_count": 1,
   "id": "fb0ef560-fdfd-4882-96b8-effdde1d23c2",
   "metadata": {},
   "outputs": [
    {
     "name": "stdout",
     "output_type": "stream",
     "text": [
      "langfun==0.1.1\n"
     ]
    }
   ],
   "source": [
    "!pip freeze | grep -P \"(langfun)\""
   ]
  },
  {
   "cell_type": "code",
   "execution_count": 2,
   "id": "c3f422dc-85e8-4a89-b314-d1417b08948a",
   "metadata": {},
   "outputs": [
    {
     "name": "stderr",
     "output_type": "stream",
     "text": [
      "/usr/local/google/home/johnkclee/Github/ml_articles/env/lib/python3.12/site-packages/tqdm/auto.py:21: TqdmWarning: IProgress not found. Please update jupyter and ipywidgets. See https://ipywidgets.readthedocs.io/en/stable/user_install.html\n",
      "  from .autonotebook import tqdm as notebook_tqdm\n"
     ]
    },
    {
     "name": "stdout",
     "output_type": "stream",
     "text": [
      "***************************************\n"
     ]
    }
   ],
   "source": [
    "import pathlib\n",
    "import os\n",
    "import langfun as lf\n",
    "import pyglove as pg\n",
    "\n",
    "\n",
    "Path = pathlib.Path\n",
    "print(\"*\" * len(os.environ.get('GOOGLE_API_KEY', '')))"
   ]
  },
  {
   "cell_type": "code",
   "execution_count": 3,
   "id": "34e2faee-e4a3-4e79-a0f3-a46d3b3a8ef3",
   "metadata": {},
   "outputs": [],
   "source": [
    "from IPython.display import display, Markdown, Latex\n",
    "\n",
    "def show_source_code(src_path: str):\n",
    "    source_code = !cat $src_path\n",
    "    display(Markdown(f\"\"\"\n",
    "```python\n",
    "{'\\n'.join(source_code)}\n",
    "```\"\"\"))"
   ]
  },
  {
   "cell_type": "markdown",
   "id": "db3da708-d395-4f5d-8992-be89f9caa49e",
   "metadata": {},
   "source": [
    "## <b><font color='darkblue'>Natural Language -> Unit test case</font></b>\n",
    "To let LLM to write unit test case for us, we need to initialize the LLM and provide the context."
   ]
  },
  {
   "cell_type": "markdown",
   "id": "abeb14c7-f792-470a-a92b-ba1a0bcf30e5",
   "metadata": {},
   "source": [
    "### <b><font color='darkgreen'>Initialization</font></b>\n",
    "Let's initialize our LLM and environment:"
   ]
  },
  {
   "cell_type": "code",
   "execution_count": 5,
   "id": "782ecebb-f999-4577-b9c3-8c2e0943d146",
   "metadata": {},
   "outputs": [
    {
     "data": {
      "text/plain": [
       "['GeminiPro',\n",
       " 'GeminiPro1_5',\n",
       " 'GeminiProVision',\n",
       " 'VertexAIGeminiFlash1_5',\n",
       " 'VertexAIGeminiFlash1_5_0514',\n",
       " 'VertexAIGeminiPro1',\n",
       " 'VertexAIGeminiPro1Vision',\n",
       " 'VertexAIGeminiPro1_5',\n",
       " 'VertexAIGeminiPro1_5_0409',\n",
       " 'VertexAIGeminiPro1_5_0514']"
      ]
     },
     "execution_count": 5,
     "metadata": {},
     "output_type": "execute_result"
    }
   ],
   "source": [
    "[model for model in dir(lf.llms) if 'Gemini' in model]"
   ]
  },
  {
   "cell_type": "code",
   "execution_count": 4,
   "id": "83a3dea5-cee4-428d-8ca0-fa7ba32811b8",
   "metadata": {},
   "outputs": [],
   "source": [
    "model = lf.llms.GeminiPro1_5()"
   ]
  },
  {
   "cell_type": "code",
   "execution_count": 5,
   "id": "1b8e6038-d370-47fe-944e-3edfaa9530d5",
   "metadata": {},
   "outputs": [],
   "source": [
    "class TestModule(pg.Object):\n",
    "    project_root_path: str\n",
    "    module_package: str\n",
    "    module_name: str\n",
    "    module_content: str\n",
    "\n",
    "class UnitTestCases(pg.Object):\n",
    "    project_root_path: str\n",
    "    module_package: str\n",
    "    module_name: str\n",
    "    test_case_content: str\n",
    "\n",
    "    @property\n",
    "    def test_module_name(self) -> str:\n",
    "        return f'test_{self.module_name}.py'\n",
    "    \n",
    "    @property\n",
    "    def unit_test_root_path(self) -> str:\n",
    "        return str(\n",
    "            Path(self.project_root_path) / Path('tests/unit'))\n",
    "\n",
    "    @property\n",
    "    def unit_test_case_module_dir_path(self) -> str:\n",
    "        return str(\n",
    "            Path('tests/unit') / Path(self.module_package.replace('.', '/')))\n",
    "    \n",
    "    @property\n",
    "    def unit_test_case_module_path(self) -> str:\n",
    "        return str(\n",
    "            Path(self.unit_test_root_path) / Path(self.module_package.replace('.', '/') / Path(self.test_module_name)))\n",
    "\n",
    "    def output(self):\n",
    "        os.makedirs(os.path.dirname(self.unit_test_case_module_path), exist_ok=True)\n",
    "\n",
    "        with open(self.unit_test_case_module_path, 'w') as fw:\n",
    "            fw.write(self.test_case_content)"
   ]
  },
  {
   "cell_type": "markdown",
   "id": "dc213eb1-e37e-4bbf-950a-b60cc634d38c",
   "metadata": {},
   "source": [
    "### <b><font color='darkgreen'>Prepare Testing Module</font></b>\n",
    "Let's prepare the testing module for generation of unit test cases."
   ]
  },
  {
   "cell_type": "code",
   "execution_count": 80,
   "id": "24db46ee-9467-4141-8be9-3897dc1a1ab9",
   "metadata": {},
   "outputs": [
    {
     "name": "stdout",
     "output_type": "stream",
     "text": [
      "Help on function add in module my_math:\n",
      "\n",
      "add(a: int, b: int) -> int\n",
      "    Sums up the input `a` and `b`.\n",
      "\n",
      "    Args:\n",
      "      a: First value to add\n",
      "      b: Second value to add\n",
      "\n",
      "    Returns:\n",
      "      Return value of `a + b`.\n",
      "\n"
     ]
    }
   ],
   "source": [
    "import my_math\n",
    "\n",
    "help(my_math.add)"
   ]
  },
  {
   "cell_type": "code",
   "execution_count": 81,
   "id": "623c2592-d8d9-42f5-8acf-2e4a019fcd5f",
   "metadata": {},
   "outputs": [
    {
     "data": {
      "text/plain": [
       "3"
      ]
     },
     "execution_count": 81,
     "metadata": {},
     "output_type": "execute_result"
    }
   ],
   "source": [
    "my_math.add(1, 2)"
   ]
  },
  {
   "cell_type": "code",
   "execution_count": 32,
   "id": "0d23282d-9217-40e8-b642-bb1095e720f7",
   "metadata": {},
   "outputs": [],
   "source": [
    "module_package = 'utils'\n",
    "project_root_path = os.getcwd()\n",
    "module_name = 'my_math'\n",
    "my_math_module_content = open(\n",
    "    Path(project_root_path) / module_package.replace('.', '/') / f'{module_name}.py', 'r').read()\n",
    "\n",
    "test_module = TestModule(\n",
    "    project_root_path=project_root_path,\n",
    "    module_package = module_package,\n",
    "    module_name=module_name,\n",
    "    module_content=math_module_content,\n",
    ")"
   ]
  },
  {
   "cell_type": "code",
   "execution_count": 208,
   "id": "edf32231-d77f-4e68-8a00-22284bf45c6c",
   "metadata": {},
   "outputs": [
    {
     "data": {
      "text/html": [
       "<html>\n",
       "<head>\n",
       "<style>\n",
       "/* Tooltip styles. */\n",
       "span.tooltip {\n",
       "  visibility: hidden;\n",
       "  white-space: pre-wrap;\n",
       "  font-weight: normal;\n",
       "  background-color: #484848;\n",
       "  color: #fff;\n",
       "  padding: 10px;\n",
       "  border-radius: 6px;\n",
       "  position: absolute;\n",
       "  z-index: 1;\n",
       "}\n",
       "span.tooltip:hover {\n",
       "  visibility: visible;\n",
       "}\n",
       "/* Summary styles. */\n",
       "details.pyglove summary {\n",
       "  font-weight: bold;\n",
       "  margin: -0.5em -0.5em 0;\n",
       "  padding: 0.5em;\n",
       "}\n",
       ".summary-name {\n",
       "  display: inline;\n",
       "  padding: 3px 5px 3px 5px;\n",
       "  margin: 0 5px;\n",
       "  border-radius: 3px;\n",
       "}\n",
       ".summary-title {\n",
       "  display: inline;\n",
       "}\n",
       ".summary-name + div.summary-title {\n",
       "  display: inline;\n",
       "  color: #aaa;\n",
       "}\n",
       ".summary-title:hover + span.tooltip {\n",
       "  visibility: visible;\n",
       "}\n",
       ".summary-name:hover > span.tooltip {\n",
       "  visibility: visible;\n",
       "  background-color: darkblue;\n",
       "}\n",
       "/* Simple value styles. */\n",
       ".simple-value {\n",
       "  color: blue;\n",
       "  display: inline-block;\n",
       "  white-space: pre-wrap;\n",
       "  padding: 0.2em;\n",
       "  margin-top: 0.15em;\n",
       "}\n",
       ".simple-value.str {\n",
       "  color: darkred;\n",
       "  font-style: italic;\n",
       "}\n",
       ".simple-value.int, .simple-value.float {\n",
       "  color: darkblue;\n",
       "}\n",
       "/* Value details styles. */\n",
       "details.pyglove {\n",
       "  border: 1px solid #aaa;\n",
       "  border-radius: 4px;\n",
       "  padding: 0.5em 0.5em 0;\n",
       "  margin: 0.25em 0;\n",
       "}\n",
       "details.pyglove[open] {\n",
       "  padding: 0.5em 0.5em 0.5em;\n",
       "}\n",
       ".highlight {\n",
       "  background-color: Mark;\n",
       "}\n",
       ".lowlight {\n",
       "  opacity: 0.2;\n",
       "}\n",
       "/* Complex value styles. */\n",
       "span.empty-container::before {\n",
       "    content: '(empty)';\n",
       "    font-style: italic;\n",
       "    margin-left: 0.5em;\n",
       "    color: #aaa;\n",
       "}\n",
       "</style>\n",
       "</head>\n",
       "<body>\n",
       "<details open class=\"pyglove test-module\"><summary><div class=\"summary-title\">TestModule(...)</div><span class=\"tooltip\">TestModule(\n",
       "  project_root_path=&#x27;/usr/local/google/home/johnkclee/Github/ml_articles/others/Langfun_with_unittest&#x27;,\n",
       "  module_package=&#x27;utils&#x27;,\n",
       "  module_name=&#x27;my_math&#x27;,\n",
       "  module_content=&#x27;\\ndef add(a: int, b: int) -&gt; int:\\n    &quot;&quot;&quot;Sums up the input `a` and `b`.&quot;&quot;&quot;\\n    return a + b\\n&#x27;\n",
       ")</span></summary><div class=\"complex-value test-module\"><details open class=\"pyglove str\"><summary><div class=\"summary-name\">project_root_path<span class=\"tooltip\">project_root_path</span></div><div class=\"summary-title\">str</div><span class=\"tooltip\">&#x27;/usr/local/google/home/johnkclee/Github/ml_articles/others/Langfun_with_unittest&#x27;</span></summary><span class=\"simple-value str\">/usr/local/google/home/johnkclee/Github/ml_articles/others/Langfun_with_unittest</span></details><details open class=\"pyglove str\"><summary><div class=\"summary-name\">module_package<span class=\"tooltip\">module_package</span></div><div class=\"summary-title\">str</div><span class=\"tooltip\">&#x27;utils&#x27;</span></summary><span class=\"simple-value str\">&#x27;utils&#x27;</span></details><details open class=\"pyglove str\"><summary><div class=\"summary-name\">module_name<span class=\"tooltip\">module_name</span></div><div class=\"summary-title\">str</div><span class=\"tooltip\">&#x27;my_math&#x27;</span></summary><span class=\"simple-value str\">&#x27;my_math&#x27;</span></details><details open class=\"pyglove str\"><summary><div class=\"summary-name\">module_content<span class=\"tooltip\">module_content</span></div><div class=\"summary-title\">str</div><span class=\"tooltip\">&#x27;\\ndef add(a: int, b: int) -&gt; int:\\n    &quot;&quot;&quot;Sums up the input `a` and `b`.&quot;&quot;&quot;\\n    return a + b\\n&#x27;</span></summary><span class=\"simple-value str\">\n",
       "def add(a: int, b: int) -&gt; int:\n",
       "    &quot;&quot;&quot;Sums up the input `a` and `b`.&quot;&quot;&quot;\n",
       "    return a + b\n",
       "</span></details></div></details>\n",
       "</body>\n",
       "</html>"
      ],
      "text/plain": [
       "TestModule(project_root_path='/usr/local/google/home/johnkclee/Github/ml_articles/others/Langfun_with_unittest', module_package='utils', module_name='my_math', module_content='\\ndef add(a: int, b: int) -> int:\\n    \"\"\"Sums up the input `a` and `b`.\"\"\"\\n    return a + b\\n')"
      ]
     },
     "execution_count": 208,
     "metadata": {},
     "output_type": "execute_result"
    }
   ],
   "source": [
    "test_module"
   ]
  },
  {
   "cell_type": "markdown",
   "id": "53438fb1-eef2-4cde-a029-240ae99ff834",
   "metadata": {},
   "source": [
    "### <b><font color='darkgreen'>Create Unit Test Cases</font></b>\n",
    "Let's try to create unit test cases:"
   ]
  },
  {
   "cell_type": "code",
   "execution_count": 209,
   "id": "b18a6e04-92d9-47e1-bf5f-1f7f9a6457ce",
   "metadata": {},
   "outputs": [],
   "source": [
    "unit_test_case_result = lf.query(\n",
    "    prompt='Please create unit test cases for {{module}}',\n",
    "    schema=UnitTestCases,\n",
    "    module=test_module,\n",
    "    lm=model)"
   ]
  },
  {
   "cell_type": "code",
   "execution_count": 210,
   "id": "77fa3bb9-3d28-4a90-b750-918867791bd8",
   "metadata": {},
   "outputs": [
    {
     "data": {
      "text/html": [
       "<html>\n",
       "<head>\n",
       "<style>\n",
       "/* Tooltip styles. */\n",
       "span.tooltip {\n",
       "  visibility: hidden;\n",
       "  white-space: pre-wrap;\n",
       "  font-weight: normal;\n",
       "  background-color: #484848;\n",
       "  color: #fff;\n",
       "  padding: 10px;\n",
       "  border-radius: 6px;\n",
       "  position: absolute;\n",
       "  z-index: 1;\n",
       "}\n",
       "span.tooltip:hover {\n",
       "  visibility: visible;\n",
       "}\n",
       "/* Summary styles. */\n",
       "details.pyglove summary {\n",
       "  font-weight: bold;\n",
       "  margin: -0.5em -0.5em 0;\n",
       "  padding: 0.5em;\n",
       "}\n",
       ".summary-name {\n",
       "  display: inline;\n",
       "  padding: 3px 5px 3px 5px;\n",
       "  margin: 0 5px;\n",
       "  border-radius: 3px;\n",
       "}\n",
       ".summary-title {\n",
       "  display: inline;\n",
       "}\n",
       ".summary-name + div.summary-title {\n",
       "  display: inline;\n",
       "  color: #aaa;\n",
       "}\n",
       ".summary-title:hover + span.tooltip {\n",
       "  visibility: visible;\n",
       "}\n",
       ".summary-name:hover > span.tooltip {\n",
       "  visibility: visible;\n",
       "  background-color: darkblue;\n",
       "}\n",
       "/* Simple value styles. */\n",
       ".simple-value {\n",
       "  color: blue;\n",
       "  display: inline-block;\n",
       "  white-space: pre-wrap;\n",
       "  padding: 0.2em;\n",
       "  margin-top: 0.15em;\n",
       "}\n",
       ".simple-value.str {\n",
       "  color: darkred;\n",
       "  font-style: italic;\n",
       "}\n",
       ".simple-value.int, .simple-value.float {\n",
       "  color: darkblue;\n",
       "}\n",
       "/* Value details styles. */\n",
       "details.pyglove {\n",
       "  border: 1px solid #aaa;\n",
       "  border-radius: 4px;\n",
       "  padding: 0.5em 0.5em 0;\n",
       "  margin: 0.25em 0;\n",
       "}\n",
       "details.pyglove[open] {\n",
       "  padding: 0.5em 0.5em 0.5em;\n",
       "}\n",
       ".highlight {\n",
       "  background-color: Mark;\n",
       "}\n",
       ".lowlight {\n",
       "  opacity: 0.2;\n",
       "}\n",
       "/* Complex value styles. */\n",
       "span.empty-container::before {\n",
       "    content: '(empty)';\n",
       "    font-style: italic;\n",
       "    margin-left: 0.5em;\n",
       "    color: #aaa;\n",
       "}\n",
       "</style>\n",
       "</head>\n",
       "<body>\n",
       "<details open class=\"pyglove unit-test-cases\"><summary><div class=\"summary-title\">UnitTestCases(...)</div><span class=\"tooltip\">UnitTestCases(\n",
       "  project_root_path=&#x27;/usr/local/google/home/johnkclee/Github/ml_articles/others/Langfun_with_unittest&#x27;,\n",
       "  module_package=&#x27;utils&#x27;,\n",
       "  module_name=&#x27;my_math&#x27;,\n",
       "  module_content=&#x27;import unittest\\nfrom utils.my_math import add\\n\\nclass TestAdd(unittest.TestCase):\\n    def test_positive_numbers(self):\\n        self.assertEqual(add(2, 3), 5)\\n\\n    def test_negative_numbers(self):\\n        self.assertEqual(add(-2, -3), -5)\\n\\n    def test_zero(...&#x27;\n",
       ")</span></summary><div class=\"complex-value unit-test-cases\"><details open class=\"pyglove str\"><summary><div class=\"summary-name\">project_root_path<span class=\"tooltip\">project_root_path</span></div><div class=\"summary-title\">str</div><span class=\"tooltip\">&#x27;/usr/local/google/home/johnkclee/Github/ml_articles/others/Langfun_with_unittest&#x27;</span></summary><span class=\"simple-value str\">/usr/local/google/home/johnkclee/Github/ml_articles/others/Langfun_with_unittest</span></details><details open class=\"pyglove str\"><summary><div class=\"summary-name\">module_package<span class=\"tooltip\">module_package</span></div><div class=\"summary-title\">str</div><span class=\"tooltip\">&#x27;utils&#x27;</span></summary><span class=\"simple-value str\">&#x27;utils&#x27;</span></details><details open class=\"pyglove str\"><summary><div class=\"summary-name\">module_name<span class=\"tooltip\">module_name</span></div><div class=\"summary-title\">str</div><span class=\"tooltip\">&#x27;my_math&#x27;</span></summary><span class=\"simple-value str\">&#x27;my_math&#x27;</span></details><details open class=\"pyglove str\"><summary><div class=\"summary-name\">module_content<span class=\"tooltip\">module_content</span></div><div class=\"summary-title\">str</div><span class=\"tooltip\">&#x27;import unittest\\nfrom utils.my_math import add\\n\\nclass TestAdd(unittest.TestCase):\\n    def test_positive_numbers(self):\\n        self.assertEqual(add(2, 3), 5)\\n\\n    def test_negative_numbers(self):\\n        self.assertEqual(add(-2, -3), -5)\\n\\n    def test_zero(...&#x27;</span></summary><span class=\"simple-value str\">import unittest\n",
       "from utils.my_math import add\n",
       "\n",
       "class TestAdd(unittest.TestCase):\n",
       "    def test_positive_numbers(self):\n",
       "        self.assertEqual(add(2, 3), 5)\n",
       "\n",
       "    def test_negative_numbers(self):\n",
       "        self.assertEqual(add(-2, -3), -5)\n",
       "\n",
       "    def test_zero(self):\n",
       "        self.assertEqual(add(0, 5), 5)\n",
       "        self.assertEqual(add(5, 0), 5)\n",
       "\n",
       "    def test_float(self):\n",
       "        self.assertEqual(add(2.5, 3.5), 6)\n",
       "</span></details></div></details>\n",
       "</body>\n",
       "</html>"
      ],
      "text/plain": [
       "UnitTestCases(project_root_path='/usr/local/google/home/johnkclee/Github/ml_articles/others/Langfun_with_unittest', module_package='utils', module_name='my_math', module_content='import unittest\\nfrom utils.my_math import add\\n\\nclass TestAdd(unittest.TestCase):\\n    def test_positive_numbers(self):\\n        self.assertEqual(add(2, 3), 5)\\n\\n    def test_negative_numbers(self):\\n        self.assertEqual(add(-2, -3), -5)\\n\\n    def test_zero(self):\\n        self.assertEqual(add(0, 5), 5)\\n        self.assertEqual(add(5, 0), 5)\\n\\n    def test_float(self):\\n        self.assertEqual(add(2.5, 3.5), 6)\\n')"
      ]
     },
     "execution_count": 210,
     "metadata": {},
     "output_type": "execute_result"
    }
   ],
   "source": [
    "unit_test_case_result"
   ]
  },
  {
   "cell_type": "code",
   "execution_count": 84,
   "id": "b04af7c5-e0e0-4f5b-9629-bcf924afb2a7",
   "metadata": {},
   "outputs": [
    {
     "data": {
      "text/plain": [
       "'/usr/local/google/home/johnkclee/Github/ml_articles/others/Langfun_with_unittest/tests/unit/utils/test_my_math.py'"
      ]
     },
     "execution_count": 84,
     "metadata": {},
     "output_type": "execute_result"
    }
   ],
   "source": [
    "unit_test_case_result.unit_test_case_module_path"
   ]
  },
  {
   "cell_type": "code",
   "execution_count": 85,
   "id": "778edfe9-6223-411e-bbdb-1061030d9652",
   "metadata": {},
   "outputs": [
    {
     "data": {
      "text/plain": [
       "'tests/unit/utils'"
      ]
     },
     "execution_count": 85,
     "metadata": {},
     "output_type": "execute_result"
    }
   ],
   "source": [
    "unit_test_case_result.unit_test_case_module_dir_path"
   ]
  },
  {
   "cell_type": "markdown",
   "id": "5b316930-3cb5-4b5f-9f22-bdfe499321a8",
   "metadata": {},
   "source": [
    "### <b><font color='darkgreen'>Execute Generated Unit Test Cases</font></b>\n",
    "Below will demonstrate on how to execute the generated unit test cases:"
   ]
  },
  {
   "cell_type": "markdown",
   "id": "abefe9e8-6262-475c-9544-469b021c4063",
   "metadata": {},
   "source": [
    "#### <b>Output unit test case content into file</b>"
   ]
  },
  {
   "cell_type": "code",
   "execution_count": 63,
   "id": "f290d902-46e9-44f7-9078-408c6625fb0f",
   "metadata": {},
   "outputs": [],
   "source": [
    "# Output the unit test cases into file:\n",
    "os.makedirs(os.path.dirname(unit_test_case_result.unit_test_case_module_path), exist_ok=True)\n",
    "\n",
    "with open(unit_test_case_result.unit_test_case_module_path, 'w') as fw:\n",
    "    fw.write(unit_test_case_result.module_content)"
   ]
  },
  {
   "cell_type": "code",
   "execution_count": 65,
   "id": "d0b6fd3d-fa50-406d-a627-4283bc8dd9f5",
   "metadata": {},
   "outputs": [
    {
     "data": {
      "text/markdown": [
       "\n",
       "```python\n",
       "import unittest\n",
       "from utils.my_math import add\n",
       "\n",
       "class TestAdd(unittest.TestCase):\n",
       "    def test_add_positive_numbers(self):\n",
       "        self.assertEqual(add(1, 2), 3)\n",
       "\n",
       "    def test_add_negative_numbers(self):\n",
       "        self.assertEqual(add(-1, -2), -3)\n",
       "\n",
       "    def test_add_zero(self):\n",
       "        self.assertEqual(add(0, 0), 0)\n",
       "\n",
       "    def test_add_positive_and_negative(self):\n",
       "        self.assertEqual(add(1, -2), -1)\n",
       "```"
      ],
      "text/plain": [
       "<IPython.core.display.Markdown object>"
      ]
     },
     "metadata": {},
     "output_type": "display_data"
    }
   ],
   "source": [
    "show_source_code(unit_test_case_result.unit_test_case_module_path)"
   ]
  },
  {
   "cell_type": "markdown",
   "id": "f8c316cb-091f-4fb0-8b11-6c7f120994e3",
   "metadata": {},
   "source": [
    "#### <b>Execute the generated unit test case file</b>"
   ]
  },
  {
   "cell_type": "code",
   "execution_count": 20,
   "id": "179a94b8-f395-4d6a-99bb-6321c7aed7d8",
   "metadata": {},
   "outputs": [],
   "source": [
    "import unittest\n",
    "import os\n",
    "import sys\n",
    "\n",
    "# Add the project root to the Python path to enable imports like 'utils.my_math'\n",
    "# Assuming run_tests.py is at the root and tests/unit/utils/test_my_math.py is the test file\n",
    "#project_root = unit_test_case_result.project_root_path\n",
    "#sys.path.insert(0, project_root)\n",
    "\n",
    "class MyCustomTestResult(unittest.TextTestResult):\n",
    "    def __init__(self, stream, descriptions, verbosity):\n",
    "        super().__init__(stream, descriptions, verbosity)\n",
    "        # This is where 'all_test_results' is defined!\n",
    "        self.all_test_results = []\n",
    "\n",
    "    def addSuccess(self, test):\n",
    "        super().addSuccess(test)\n",
    "        self.all_test_results.append(f\"{test} ... ok\")\n",
    "\n",
    "    def addFailure(self, test, err):\n",
    "        super().addFailure(test, err)\n",
    "        self.all_test_results.append(f\"{test} ... FAILED\")\n",
    "\n",
    "    def addError(self, test, err):\n",
    "        super().addError(test, err)\n",
    "        self.all_test_results.append(f\"{test} ... ERROR\")\n",
    "\n",
    "    def addSkip(self, test, reason):\n",
    "        super().addSkip(test, reason)\n",
    "        self.all_test_results.append(f\"{test} ... SKIPPED\")\n",
    "\n",
    "\n",
    "class MyCustomTestRunner(unittest.TextTestRunner):\n",
    "    def _makeResult(self):\n",
    "        # This method tells the runner to use YOUR custom result class\n",
    "        return MyCustomTestResult(self.stream, self.descriptions, self.verbosity)\n",
    "        \n",
    "\n",
    "class UnitTestRunner:\n",
    "    def __init__(self, unit_test_case: UnitTestCases):\n",
    "        self.unit_test_case = unit_test_case\n",
    "        self._test_result = None\n",
    "\n",
    "    def _generate_output(self, result) -> str:\n",
    "        output_messages = []\n",
    "        output_messages.append(\"--- Custom Test Output ---\")\n",
    "        for outcome_string in result.all_test_results:\n",
    "            output_messages.append(outcome_string)\n",
    "\n",
    "        output_messages.append('=' * 10)\n",
    "        if result.wasSuccessful():\n",
    "            output_messages.append(\"Overall Result: OK (All tests passed) ✅\")\n",
    "        else:\n",
    "            output_messages.append(\"Overall Result: FAILED ❌\")\n",
    "        \n",
    "        if result.failures:\n",
    "            output_messages.append(f\"Failures ({len(result.failures)}):\")\n",
    "            for test, traceback_str in result.failures:\n",
    "                output_messages.append(f\"  Test: {test}\")\n",
    "                output_messages.append(f\"  Traceback:\\n{traceback_str}\\n\")\n",
    "        if result.errors:\n",
    "            output_messages.append(f\"Errors ({len(result.errors)}):\")\n",
    "            for test, traceback_str in result.errors:\n",
    "                output_messages.append(f\"  Test: {test}\")\n",
    "                output_messages.append(f\"  Traceback:\\n{traceback_str}\\n\")\n",
    "\n",
    "        if result.skipped:\n",
    "            output_messages.append(f\"Skipped ({len(result.skipped)}):\")\n",
    "            for test, reason in result.skipped:\n",
    "                output_messages.append(f\"  Test: {test}, Reason: {reason}\\n\")\n",
    "        if result.expectedFailures:\n",
    "            output_messages.append(f\"Expected Failures ({len(result.expectedFailures)}):\")\n",
    "            for test, traceback_str in result.expectedFailures:\n",
    "                output_messages.append(f\"  Test: {test}\")\n",
    "                output_messages.append(f\"  Traceback:\\n{traceback_str}\\n\")\n",
    "        if result.unexpectedSuccesses:\n",
    "            output_messages.append(f\"Unexpected Successes ({len(result.unexpectedSuccesses)}):\")\n",
    "            for test in result.unexpectedSuccesses:\n",
    "                output_messages.append(f\"  Test: {test}\\n\")\n",
    "\n",
    "        return '\\n'.join(output_messages)\n",
    "        \n",
    "    def run(self) -> str:\n",
    "        project_root = self.unit_test_case.project_root_path\n",
    "        if project_root not in sys.path:\n",
    "            sys.path.insert(0, project_root)\n",
    "        \n",
    "        # Output unit test cases into testing module.\n",
    "        self.unit_test_case.output()\n",
    "        \n",
    "        # Discover tests from the 'tests' directory\n",
    "        # start_dir: The directory to start searching for tests (e.g., 'tests')\n",
    "        # pattern: Only look for files matching this pattern (e.g., 'test_*.py')\n",
    "        test_loader = unittest.TestLoader()\n",
    "        print(f'Start dir: {self.unit_test_case.unit_test_case_module_dir_path}')\n",
    "        print(f'Test module name: {self.unit_test_case.test_module_name.split(\".\")[0]}')\n",
    "        test_suite = test_loader.discover(\n",
    "            start_dir=self.unit_test_case.unit_test_case_module_dir_path,\n",
    "            pattern='test_*.py')\n",
    "        #test_suite = test_loader.loadTestsFromName(\n",
    "        #    self.unit_test_case.test_module_name.split('.')[0])\n",
    "\n",
    "        # Run the tests\n",
    "        runner = MyCustomTestRunner(verbosity=0) # verbosity=2 shows more details\n",
    "        self._test_result = runner.run(test_suite)\n",
    "        return self._generate_output(self._test_result)"
   ]
  },
  {
   "cell_type": "code",
   "execution_count": 19,
   "id": "375e02e8-bcf4-47a4-8462-233d77662275",
   "metadata": {},
   "outputs": [
    {
     "data": {
      "text/plain": [
       "['/usr/local/google/home/johnkclee/Github/ml_articles/others/Langfun_with_unittest/tests/unit/utils/john',\n",
       " '/usr/local/google/home/johnkclee/Github/ml_articles/others/Langfun_with_unittest',\n",
       " '/usr/local/buildtools/current/sitecustomize',\n",
       " '/usr/lib/python312.zip',\n",
       " '/usr/lib/python3.12',\n",
       " '/usr/lib/python3.12/lib-dynload',\n",
       " '',\n",
       " '/usr/local/google/home/johnkclee/Github/ml_articles/env/lib/python3.12/site-packages']"
      ]
     },
     "execution_count": 19,
     "metadata": {},
     "output_type": "execute_result"
    }
   ],
   "source": [
    "sys.path"
   ]
  },
  {
   "cell_type": "code",
   "execution_count": 277,
   "id": "8e0b6e0a-79e0-4415-b518-26b7ba642974",
   "metadata": {},
   "outputs": [],
   "source": [
    "test_runner = UnitTestRunner(unit_test_case_result)"
   ]
  },
  {
   "cell_type": "code",
   "execution_count": 278,
   "id": "7a6785d5-dcec-4338-8d30-a19d58759376",
   "metadata": {},
   "outputs": [
    {
     "name": "stderr",
     "output_type": "stream",
     "text": [
      "----------------------------------------------------------------------\n",
      "Ran 4 tests in 0.000s\n",
      "\n",
      "OK\n"
     ]
    },
    {
     "name": "stdout",
     "output_type": "stream",
     "text": [
      "Start dir: tests/unit/utils\n",
      "Test module name: test_my_math\n",
      "--- Custom Test Output ---\n",
      "test_add_negative_numbers (test_my_math.TestAdd.test_add_negative_numbers) ... ok\n",
      "test_add_positive_and_negative (test_my_math.TestAdd.test_add_positive_and_negative) ... ok\n",
      "test_add_positive_numbers (test_my_math.TestAdd.test_add_positive_numbers) ... ok\n",
      "test_add_zero (test_my_math.TestAdd.test_add_zero) ... ok\n",
      "==========\n",
      "Overall Result: OK (All tests passed) ✅\n"
     ]
    }
   ],
   "source": [
    "print(test_runner.run())"
   ]
  },
  {
   "cell_type": "markdown",
   "id": "f78714e9-a583-4912-82d7-50edd1597e2b",
   "metadata": {},
   "source": [
    "### <b><font color='darkgreen'>More</font></b>"
   ]
  },
  {
   "cell_type": "code",
   "execution_count": 7,
   "id": "fe7a1e96-17f8-455a-a374-bcb81d007a41",
   "metadata": {},
   "outputs": [],
   "source": [
    "def create_test_module(\n",
    "    module_package: str,\n",
    "    module_name: str,\n",
    "    project_root_path=None):\n",
    "    project_root_path = project_root_path or os.getcwd()\n",
    "    module_content = open(\n",
    "        Path(project_root_path) / module_package.replace('.', '/') / f'{module_name}.py', 'r').read()\n",
    "\n",
    "    return TestModule(\n",
    "            project_root_path=project_root_path,\n",
    "            module_package = module_package,\n",
    "            module_name=module_name,\n",
    "            module_content=module_content)"
   ]
  },
  {
   "cell_type": "code",
   "execution_count": 8,
   "id": "093394f7-5091-4067-87ee-f6a0fb1ba436",
   "metadata": {},
   "outputs": [],
   "source": [
    "str_helper_module = create_test_module('utils.john', 'str_helper')"
   ]
  },
  {
   "cell_type": "code",
   "execution_count": 9,
   "id": "3fc6fde9-1af3-42a1-bb9d-96a32c6929e0",
   "metadata": {},
   "outputs": [
    {
     "data": {
      "text/html": [
       "<html>\n",
       "<head>\n",
       "<style>\n",
       "/* Tooltip styles. */\n",
       "span.tooltip {\n",
       "  visibility: hidden;\n",
       "  white-space: pre-wrap;\n",
       "  font-weight: normal;\n",
       "  background-color: #484848;\n",
       "  color: #fff;\n",
       "  padding: 10px;\n",
       "  border-radius: 6px;\n",
       "  position: absolute;\n",
       "  z-index: 1;\n",
       "}\n",
       "span.tooltip:hover {\n",
       "  visibility: visible;\n",
       "}\n",
       "/* Summary styles. */\n",
       "details.pyglove summary {\n",
       "  font-weight: bold;\n",
       "  margin: -0.5em -0.5em 0;\n",
       "  padding: 0.5em;\n",
       "}\n",
       ".summary-name {\n",
       "  display: inline;\n",
       "  padding: 3px 5px 3px 5px;\n",
       "  margin: 0 5px;\n",
       "  border-radius: 3px;\n",
       "}\n",
       ".summary-title {\n",
       "  display: inline;\n",
       "}\n",
       ".summary-name + div.summary-title {\n",
       "  display: inline;\n",
       "  color: #aaa;\n",
       "}\n",
       ".summary-title:hover + span.tooltip {\n",
       "  visibility: visible;\n",
       "}\n",
       ".summary-name:hover > span.tooltip {\n",
       "  visibility: visible;\n",
       "  background-color: darkblue;\n",
       "}\n",
       "/* Simple value styles. */\n",
       ".simple-value {\n",
       "  color: blue;\n",
       "  display: inline-block;\n",
       "  white-space: pre-wrap;\n",
       "  padding: 0.2em;\n",
       "  margin-top: 0.15em;\n",
       "}\n",
       ".simple-value.str {\n",
       "  color: darkred;\n",
       "  font-style: italic;\n",
       "}\n",
       ".simple-value.int, .simple-value.float {\n",
       "  color: darkblue;\n",
       "}\n",
       "/* Value details styles. */\n",
       "details.pyglove {\n",
       "  border: 1px solid #aaa;\n",
       "  border-radius: 4px;\n",
       "  padding: 0.5em 0.5em 0;\n",
       "  margin: 0.25em 0;\n",
       "}\n",
       "details.pyglove[open] {\n",
       "  padding: 0.5em 0.5em 0.5em;\n",
       "}\n",
       ".highlight {\n",
       "  background-color: Mark;\n",
       "}\n",
       ".lowlight {\n",
       "  opacity: 0.2;\n",
       "}\n",
       "/* Complex value styles. */\n",
       "span.empty-container::before {\n",
       "    content: '(empty)';\n",
       "    font-style: italic;\n",
       "    margin-left: 0.5em;\n",
       "    color: #aaa;\n",
       "}\n",
       "</style>\n",
       "</head>\n",
       "<body>\n",
       "<details open class=\"pyglove test-module\"><summary><div class=\"summary-title\">TestModule(...)</div><span class=\"tooltip\">TestModule(\n",
       "  project_root_path=&#x27;/usr/local/google/home/johnkclee/Github/ml_articles/others/Langfun_with_unittest&#x27;,\n",
       "  module_package=&#x27;utils.john&#x27;,\n",
       "  module_name=&#x27;str_helper&#x27;,\n",
       "  module_content=&#x27;def to_upper(input_str: str) -&gt; str:\\n  &quot;&quot;&quot;Turns input string into upper case.&quot;&quot;&quot;\\n  return input_str.upper()\\n&#x27;\n",
       ")</span></summary><div class=\"complex-value test-module\"><details open class=\"pyglove str\"><summary><div class=\"summary-name\">project_root_path<span class=\"tooltip\">project_root_path</span></div><div class=\"summary-title\">str</div><span class=\"tooltip\">&#x27;/usr/local/google/home/johnkclee/Github/ml_articles/others/Langfun_with_unittest&#x27;</span></summary><span class=\"simple-value str\">/usr/local/google/home/johnkclee/Github/ml_articles/others/Langfun_with_unittest</span></details><details open class=\"pyglove str\"><summary><div class=\"summary-name\">module_package<span class=\"tooltip\">module_package</span></div><div class=\"summary-title\">str</div><span class=\"tooltip\">&#x27;utils.john&#x27;</span></summary><span class=\"simple-value str\">&#x27;utils.john&#x27;</span></details><details open class=\"pyglove str\"><summary><div class=\"summary-name\">module_name<span class=\"tooltip\">module_name</span></div><div class=\"summary-title\">str</div><span class=\"tooltip\">&#x27;str_helper&#x27;</span></summary><span class=\"simple-value str\">&#x27;str_helper&#x27;</span></details><details open class=\"pyglove str\"><summary><div class=\"summary-name\">module_content<span class=\"tooltip\">module_content</span></div><div class=\"summary-title\">str</div><span class=\"tooltip\">&#x27;def to_upper(input_str: str) -&gt; str:\\n  &quot;&quot;&quot;Turns input string into upper case.&quot;&quot;&quot;\\n  return input_str.upper()\\n&#x27;</span></summary><span class=\"simple-value str\">def to_upper(input_str: str) -&gt; str:\n",
       "  &quot;&quot;&quot;Turns input string into upper case.&quot;&quot;&quot;\n",
       "  return input_str.upper()\n",
       "</span></details></div></details>\n",
       "</body>\n",
       "</html>"
      ],
      "text/plain": [
       "TestModule(project_root_path='/usr/local/google/home/johnkclee/Github/ml_articles/others/Langfun_with_unittest', module_package='utils.john', module_name='str_helper', module_content='def to_upper(input_str: str) -> str:\\n  \"\"\"Turns input string into upper case.\"\"\"\\n  return input_str.upper()\\n')"
      ]
     },
     "execution_count": 9,
     "metadata": {},
     "output_type": "execute_result"
    }
   ],
   "source": [
    "str_helper_module"
   ]
  },
  {
   "cell_type": "code",
   "execution_count": 10,
   "id": "d989f1dd-5264-4f01-abd1-3feb1d0512a0",
   "metadata": {},
   "outputs": [],
   "source": [
    "str_helper_unit_test_cases = lf.query(\n",
    "    prompt='Please create unit test cases for {{module}}',\n",
    "    schema=UnitTestCases,\n",
    "    module=str_helper_module,\n",
    "    lm=model)"
   ]
  },
  {
   "cell_type": "code",
   "execution_count": 11,
   "id": "8beda124-a79f-4fd6-9848-84e2d2697482",
   "metadata": {},
   "outputs": [
    {
     "data": {
      "text/html": [
       "<html>\n",
       "<head>\n",
       "<style>\n",
       "/* Tooltip styles. */\n",
       "span.tooltip {\n",
       "  visibility: hidden;\n",
       "  white-space: pre-wrap;\n",
       "  font-weight: normal;\n",
       "  background-color: #484848;\n",
       "  color: #fff;\n",
       "  padding: 10px;\n",
       "  border-radius: 6px;\n",
       "  position: absolute;\n",
       "  z-index: 1;\n",
       "}\n",
       "span.tooltip:hover {\n",
       "  visibility: visible;\n",
       "}\n",
       "/* Summary styles. */\n",
       "details.pyglove summary {\n",
       "  font-weight: bold;\n",
       "  margin: -0.5em -0.5em 0;\n",
       "  padding: 0.5em;\n",
       "}\n",
       ".summary-name {\n",
       "  display: inline;\n",
       "  padding: 3px 5px 3px 5px;\n",
       "  margin: 0 5px;\n",
       "  border-radius: 3px;\n",
       "}\n",
       ".summary-title {\n",
       "  display: inline;\n",
       "}\n",
       ".summary-name + div.summary-title {\n",
       "  display: inline;\n",
       "  color: #aaa;\n",
       "}\n",
       ".summary-title:hover + span.tooltip {\n",
       "  visibility: visible;\n",
       "}\n",
       ".summary-name:hover > span.tooltip {\n",
       "  visibility: visible;\n",
       "  background-color: darkblue;\n",
       "}\n",
       "/* Simple value styles. */\n",
       ".simple-value {\n",
       "  color: blue;\n",
       "  display: inline-block;\n",
       "  white-space: pre-wrap;\n",
       "  padding: 0.2em;\n",
       "  margin-top: 0.15em;\n",
       "}\n",
       ".simple-value.str {\n",
       "  color: darkred;\n",
       "  font-style: italic;\n",
       "}\n",
       ".simple-value.int, .simple-value.float {\n",
       "  color: darkblue;\n",
       "}\n",
       "/* Value details styles. */\n",
       "details.pyglove {\n",
       "  border: 1px solid #aaa;\n",
       "  border-radius: 4px;\n",
       "  padding: 0.5em 0.5em 0;\n",
       "  margin: 0.25em 0;\n",
       "}\n",
       "details.pyglove[open] {\n",
       "  padding: 0.5em 0.5em 0.5em;\n",
       "}\n",
       ".highlight {\n",
       "  background-color: Mark;\n",
       "}\n",
       ".lowlight {\n",
       "  opacity: 0.2;\n",
       "}\n",
       "/* Complex value styles. */\n",
       "span.empty-container::before {\n",
       "    content: '(empty)';\n",
       "    font-style: italic;\n",
       "    margin-left: 0.5em;\n",
       "    color: #aaa;\n",
       "}\n",
       "</style>\n",
       "</head>\n",
       "<body>\n",
       "<details open class=\"pyglove unit-test-cases\"><summary><div class=\"summary-title\">UnitTestCases(...)</div><span class=\"tooltip\">UnitTestCases(\n",
       "  project_root_path=&#x27;/usr/local/google/home/johnkclee/Github/ml_articles/others/Langfun_with_unittest&#x27;,\n",
       "  module_package=&#x27;utils.john&#x27;,\n",
       "  module_name=&#x27;str_helper&#x27;,\n",
       "  test_case_content=&#x27;import unittest\\nfrom utils.john.str_helper import to_upper\\n\\nclass TestToUpper(unittest.TestCase):\\n    def test_empty_string(self):\\n        self.assertEqual(to_upper(&quot;&quot;), &quot;&quot;)\\n\\n    def test_lower_case_string(self):\\n        self.assertEqual(to_upper(&quot;hello&quot;),...&#x27;\n",
       ")</span></summary><div class=\"complex-value unit-test-cases\"><details open class=\"pyglove str\"><summary><div class=\"summary-name\">project_root_path<span class=\"tooltip\">project_root_path</span></div><div class=\"summary-title\">str</div><span class=\"tooltip\">&#x27;/usr/local/google/home/johnkclee/Github/ml_articles/others/Langfun_with_unittest&#x27;</span></summary><span class=\"simple-value str\">/usr/local/google/home/johnkclee/Github/ml_articles/others/Langfun_with_unittest</span></details><details open class=\"pyglove str\"><summary><div class=\"summary-name\">module_package<span class=\"tooltip\">module_package</span></div><div class=\"summary-title\">str</div><span class=\"tooltip\">&#x27;utils.john&#x27;</span></summary><span class=\"simple-value str\">&#x27;utils.john&#x27;</span></details><details open class=\"pyglove str\"><summary><div class=\"summary-name\">module_name<span class=\"tooltip\">module_name</span></div><div class=\"summary-title\">str</div><span class=\"tooltip\">&#x27;str_helper&#x27;</span></summary><span class=\"simple-value str\">&#x27;str_helper&#x27;</span></details><details open class=\"pyglove str\"><summary><div class=\"summary-name\">test_case_content<span class=\"tooltip\">test_case_content</span></div><div class=\"summary-title\">str</div><span class=\"tooltip\">&#x27;import unittest\\nfrom utils.john.str_helper import to_upper\\n\\nclass TestToUpper(unittest.TestCase):\\n    def test_empty_string(self):\\n        self.assertEqual(to_upper(&quot;&quot;), &quot;&quot;)\\n\\n    def test_lower_case_string(self):\\n        self.assertEqual(to_upper(&quot;hello&quot;),...&#x27;</span></summary><span class=\"simple-value str\">import unittest\n",
       "from utils.john.str_helper import to_upper\n",
       "\n",
       "class TestToUpper(unittest.TestCase):\n",
       "    def test_empty_string(self):\n",
       "        self.assertEqual(to_upper(&quot;&quot;), &quot;&quot;)\n",
       "\n",
       "    def test_lower_case_string(self):\n",
       "        self.assertEqual(to_upper(&quot;hello&quot;), &quot;HELLO&quot;)\n",
       "\n",
       "    def test_mixed_case_string(self):\n",
       "        self.assertEqual(to_upper(&quot;hELLo&quot;), &quot;HELLO&quot;)\n",
       "\n",
       "    def test_already_upper_case_string(self):\n",
       "        self.assertEqual(to_upper(&quot;HELLO&quot;), &quot;HELLO&quot;)\n",
       "\n",
       "    def test_non_ascii_characters(self):\n",
       "      self.assertEqual(to_upper(&quot;你好&quot;), &quot;你好&quot;) # Non-ASCII should remain unchanged\n",
       "\n",
       "    def test_numeric_input(self):\n",
       "        with self.assertRaises(AttributeError): # Numbers do not have upper() methods\n",
       "            to_upper(123)\n",
       "\n",
       "    def test_none_input(self):\n",
       "        with self.assertRaises(AttributeError): # Check for None input\n",
       "            to_upper(None)\n",
       "\n",
       "if __name__ == &quot;__main__&quot;:\n",
       "    unittest.main()</span></details></div></details>\n",
       "</body>\n",
       "</html>"
      ],
      "text/plain": [
       "UnitTestCases(project_root_path='/usr/local/google/home/johnkclee/Github/ml_articles/others/Langfun_with_unittest', module_package='utils.john', module_name='str_helper', test_case_content='import unittest\\nfrom utils.john.str_helper import to_upper\\n\\nclass TestToUpper(unittest.TestCase):\\n    def test_empty_string(self):\\n        self.assertEqual(to_upper(\"\"), \"\")\\n\\n    def test_lower_case_string(self):\\n        self.assertEqual(to_upper(\"hello\"), \"HELLO\")\\n\\n    def test_mixed_case_string(self):\\n        self.assertEqual(to_upper(\"hELLo\"), \"HELLO\")\\n\\n    def test_already_upper_case_string(self):\\n        self.assertEqual(to_upper(\"HELLO\"), \"HELLO\")\\n\\n    def test_non_ascii_characters(self):\\n      self.assertEqual(to_upper(\"你好\"), \"你好\") # Non-ASCII should remain unchanged\\n\\n    def test_numeric_input(self):\\n        with self.assertRaises(AttributeError): # Numbers do not have upper() methods\\n            to_upper(123)\\n\\n    def test_none_input(self):\\n        with self.assertRaises(AttributeError): # Check for None input\\n            to_upper(None)\\n\\nif __name__ == \"__main__\":\\n    unittest.main()')"
      ]
     },
     "execution_count": 11,
     "metadata": {},
     "output_type": "execute_result"
    }
   ],
   "source": [
    "str_helper_unit_test_cases"
   ]
  },
  {
   "cell_type": "code",
   "execution_count": 17,
   "id": "1df76fbc-76e2-4d5f-a448-6a300fa7dfb9",
   "metadata": {},
   "outputs": [],
   "source": [
    "runner = UnitTestRunner(str_helper_unit_test_cases)"
   ]
  },
  {
   "cell_type": "code",
   "execution_count": 275,
   "id": "e70c6af2-6161-46e1-8b2e-82585d2d600b",
   "metadata": {},
   "outputs": [],
   "source": [
    "#str_helper_unit_test_cases.output()"
   ]
  },
  {
   "cell_type": "code",
   "execution_count": 18,
   "id": "cff2de6f-b8c7-46b1-b432-6280e2563bfd",
   "metadata": {},
   "outputs": [
    {
     "name": "stderr",
     "output_type": "stream",
     "text": [
      "----------------------------------------------------------------------\n",
      "Ran 7 tests in 0.000s\n",
      "\n",
      "OK\n"
     ]
    },
    {
     "name": "stdout",
     "output_type": "stream",
     "text": [
      "Start dir: tests/unit/utils/john\n",
      "Test module name: test_str_helper\n",
      "--- Custom Test Output ---\n",
      "test_already_upper_case_string (test_str_helper.TestToUpper.test_already_upper_case_string) ... ok\n",
      "test_empty_string (test_str_helper.TestToUpper.test_empty_string) ... ok\n",
      "test_lower_case_string (test_str_helper.TestToUpper.test_lower_case_string) ... ok\n",
      "test_mixed_case_string (test_str_helper.TestToUpper.test_mixed_case_string) ... ok\n",
      "test_non_ascii_characters (test_str_helper.TestToUpper.test_non_ascii_characters) ... ok\n",
      "test_none_input (test_str_helper.TestToUpper.test_none_input) ... ok\n",
      "test_numeric_input (test_str_helper.TestToUpper.test_numeric_input) ... ok\n",
      "==========\n",
      "Overall Result: OK (All tests passed) ✅\n"
     ]
    }
   ],
   "source": [
    "output = runner.run()\n",
    "print(output)"
   ]
  },
  {
   "cell_type": "code",
   "execution_count": 253,
   "id": "060efbf3-ed98-47a6-8579-baf3b792381b",
   "metadata": {},
   "outputs": [],
   "source": [
    "fix_str = lf.query(\n",
    "    prompt='How to fix unit test cases  {{failed}} of {{module}} with outut as:' + output,\n",
    "    #schema=UnitTestCases,\n",
    "    module=str_helper_module,\n",
    "    failed=str_helper_unit_test_cases,\n",
    "    lm=model)"
   ]
  },
  {
   "cell_type": "code",
   "execution_count": 254,
   "id": "056212e3-8bf9-400f-81e5-89b4afac7125",
   "metadata": {},
   "outputs": [
    {
     "data": {
      "text/plain": [
       "'The issue lies within the escape sequences in your test string, specifically within the test case `test_string_with_special_characters`. You\\'ve escaped the backslash (`\\\\\\\\`) correctly in most places, but missed it for the single quote (`\\'`) and double quote (`\"`) within the string.  Since these are inside a string delimited by double quotes, the single quote doesn\\'t strictly *need* escaping, but the double quote does.  It\\'s best practice to escape both for clarity and to avoid potential issues.\\n\\nHere\\'s the corrected `TestToUpper` class within your `test_str_helper.py` file:\\n\\n```python\\nimport unittest\\nfrom utils.john.str_helper import to_upper\\n\\nclass TestToUpper(unittest.TestCase):\\n\\n    def test_empty_string(self):\\n        self.assertEqual(to_upper(\"\"), \"\")\\n\\n    def test_lowercase_string(self):\\n        self.assertEqual(to_upper(\"hello\"), \"HELLO\")\\n\\n    def test_mixed_case_string(self):\\n        self.assertEqual(to_upper(\"hELLo\"), \"HELLO\")\\n\\n    def test_already_uppercase_string(self):\\n        self.assertEqual(to_upper(\"HELLO\"), \"HELLO\")\\n\\n    def test_string_with_spaces(self):\\n        self.assertEqual(to_upper(\"hello world\"), \"HELLO WORLD\")\\n\\n    def test_string_with_special_characters(self):\\n        self.assertEqual(to_upper(\"!@#$%^&*()_+=-`~[]\\\\\\\\;\\\\\\',./{}|:\\\\\"<>?\"), \"!@#$%^&*()_+=-`~[]\\\\\\\\;\\\\\\',./{}|:\\\\\"<>?\") # Escaped \"\\n\\n    def test_non_ascii_characters(self):\\n        self.assertEqual(to_upper(\"你好世界\"), \"你好世界\".upper())  # Handles non-ascii characters correctly\\n\\n    def test_none_input(self):\\n        with self.assertRaises(AttributeError):\\n            to_upper(None)  # Expects AttributeError when None is passed.\\n```\\n\\nKey Change:  The string in `test_string_with_special_characters` now has the double quote escaped (`\\\\\"`). I\\'ve also escaped the single quote (`\\\\\\'`) for consistency, although it isn\\'t strictly required in this case because the string is delimited by double quotes.\\n\\nWith this correction, your unit tests should run without the `SyntaxError`.  This emphasizes the importance of careful escaping within strings, especially when dealing with special characters like backslashes and quotes.  Using raw strings (e.g., `r\"!@#$%^&*()_+=-`~[]\\\\\\\\;\\',./{}|:\\\\\"<>?\"`) is another option, but you\\'d still need to escape the double quote even within a raw string.  The approach above is generally clearer and less prone to errors.'"
      ]
     },
     "execution_count": 254,
     "metadata": {},
     "output_type": "execute_result"
    }
   ],
   "source": [
    "fix_str"
   ]
  },
  {
   "cell_type": "code",
   "execution_count": 255,
   "id": "2de9a8d7-63a9-4869-b676-17edb8117c35",
   "metadata": {},
   "outputs": [],
   "source": [
    "str_helper_unit_test_cases_v2 = lf.query(\n",
    "    prompt='Please follow {{fix}} to create unit test cases.',\n",
    "    schema=UnitTestCases,\n",
    "    fix=fix_str,\n",
    "    lm=model)"
   ]
  },
  {
   "cell_type": "code",
   "execution_count": 257,
   "id": "9df51289-bd68-4235-b7d2-74807b7fe3df",
   "metadata": {},
   "outputs": [
    {
     "data": {
      "text/html": [
       "<html>\n",
       "<head>\n",
       "<style>\n",
       "/* Tooltip styles. */\n",
       "span.tooltip {\n",
       "  visibility: hidden;\n",
       "  white-space: pre-wrap;\n",
       "  font-weight: normal;\n",
       "  background-color: #484848;\n",
       "  color: #fff;\n",
       "  padding: 10px;\n",
       "  border-radius: 6px;\n",
       "  position: absolute;\n",
       "  z-index: 1;\n",
       "}\n",
       "span.tooltip:hover {\n",
       "  visibility: visible;\n",
       "}\n",
       "/* Summary styles. */\n",
       "details.pyglove summary {\n",
       "  font-weight: bold;\n",
       "  margin: -0.5em -0.5em 0;\n",
       "  padding: 0.5em;\n",
       "}\n",
       ".summary-name {\n",
       "  display: inline;\n",
       "  padding: 3px 5px 3px 5px;\n",
       "  margin: 0 5px;\n",
       "  border-radius: 3px;\n",
       "}\n",
       ".summary-title {\n",
       "  display: inline;\n",
       "}\n",
       ".summary-name + div.summary-title {\n",
       "  display: inline;\n",
       "  color: #aaa;\n",
       "}\n",
       ".summary-title:hover + span.tooltip {\n",
       "  visibility: visible;\n",
       "}\n",
       ".summary-name:hover > span.tooltip {\n",
       "  visibility: visible;\n",
       "  background-color: darkblue;\n",
       "}\n",
       "/* Simple value styles. */\n",
       ".simple-value {\n",
       "  color: blue;\n",
       "  display: inline-block;\n",
       "  white-space: pre-wrap;\n",
       "  padding: 0.2em;\n",
       "  margin-top: 0.15em;\n",
       "}\n",
       ".simple-value.str {\n",
       "  color: darkred;\n",
       "  font-style: italic;\n",
       "}\n",
       ".simple-value.int, .simple-value.float {\n",
       "  color: darkblue;\n",
       "}\n",
       "/* Value details styles. */\n",
       "details.pyglove {\n",
       "  border: 1px solid #aaa;\n",
       "  border-radius: 4px;\n",
       "  padding: 0.5em 0.5em 0;\n",
       "  margin: 0.25em 0;\n",
       "}\n",
       "details.pyglove[open] {\n",
       "  padding: 0.5em 0.5em 0.5em;\n",
       "}\n",
       ".highlight {\n",
       "  background-color: Mark;\n",
       "}\n",
       ".lowlight {\n",
       "  opacity: 0.2;\n",
       "}\n",
       "/* Complex value styles. */\n",
       "span.empty-container::before {\n",
       "    content: '(empty)';\n",
       "    font-style: italic;\n",
       "    margin-left: 0.5em;\n",
       "    color: #aaa;\n",
       "}\n",
       "</style>\n",
       "</head>\n",
       "<body>\n",
       "<details open class=\"pyglove unit-test-cases\"><summary><div class=\"summary-title\">UnitTestCases(...)</div><span class=\"tooltip\">UnitTestCases(\n",
       "  project_root_path=&#x27;&#x27;,\n",
       "  module_package=&#x27;utils.john&#x27;,\n",
       "  module_name=&#x27;str_helper&#x27;,\n",
       "  module_content=&#x27;def to_upper(input_str):\\n    if input_str is None:\\n        raise AttributeError(&quot;Input cannot be None&quot;)\\n    return input_str.upper()\\n&#x27;\n",
       ")</span></summary><div class=\"complex-value unit-test-cases\"><details open class=\"pyglove str\"><summary><div class=\"summary-name\">project_root_path<span class=\"tooltip\">project_root_path</span></div><div class=\"summary-title\">str</div><span class=\"tooltip\">&#x27;&#x27;</span></summary><span class=\"simple-value str\">&#x27;&#x27;</span></details><details open class=\"pyglove str\"><summary><div class=\"summary-name\">module_package<span class=\"tooltip\">module_package</span></div><div class=\"summary-title\">str</div><span class=\"tooltip\">&#x27;utils.john&#x27;</span></summary><span class=\"simple-value str\">&#x27;utils.john&#x27;</span></details><details open class=\"pyglove str\"><summary><div class=\"summary-name\">module_name<span class=\"tooltip\">module_name</span></div><div class=\"summary-title\">str</div><span class=\"tooltip\">&#x27;str_helper&#x27;</span></summary><span class=\"simple-value str\">&#x27;str_helper&#x27;</span></details><details open class=\"pyglove str\"><summary><div class=\"summary-name\">module_content<span class=\"tooltip\">module_content</span></div><div class=\"summary-title\">str</div><span class=\"tooltip\">&#x27;def to_upper(input_str):\\n    if input_str is None:\\n        raise AttributeError(&quot;Input cannot be None&quot;)\\n    return input_str.upper()\\n&#x27;</span></summary><span class=\"simple-value str\">def to_upper(input_str):\n",
       "    if input_str is None:\n",
       "        raise AttributeError(&quot;Input cannot be None&quot;)\n",
       "    return input_str.upper()\n",
       "</span></details></div></details>\n",
       "</body>\n",
       "</html>"
      ],
      "text/plain": [
       "UnitTestCases(project_root_path='', module_package='utils.john', module_name='str_helper', module_content='def to_upper(input_str):\\n    if input_str is None:\\n        raise AttributeError(\"Input cannot be None\")\\n    return input_str.upper()\\n')"
      ]
     },
     "execution_count": 257,
     "metadata": {},
     "output_type": "execute_result"
    }
   ],
   "source": [
    "str_helper_unit_test_cases_v2"
   ]
  },
  {
   "cell_type": "code",
   "execution_count": 256,
   "id": "fa70ec08-16af-4890-8feb-c9e99b725aef",
   "metadata": {},
   "outputs": [
    {
     "name": "stderr",
     "output_type": "stream",
     "text": [
      "----------------------------------------------------------------------\n",
      "Ran 0 tests in 0.000s\n",
      "\n",
      "NO TESTS RAN\n"
     ]
    },
    {
     "name": "stdout",
     "output_type": "stream",
     "text": [
      "Start dir: tests/unit/utils/john\n",
      "Test module name: test_str_helper\n"
     ]
    }
   ],
   "source": [
    "runner = UnitTestRunner(str_helper_unit_test_cases_v2)\n",
    "output = runner.run()"
   ]
  },
  {
   "cell_type": "code",
   "execution_count": 301,
   "id": "d65c5f9e-4140-4762-ba18-57e8ea61dad4",
   "metadata": {},
   "outputs": [
    {
     "name": "stderr",
     "output_type": "stream",
     "text": [
      "\n",
      "----------------------------------------------------------------------\n",
      "Ran 0 tests in 0.000s\n",
      "\n",
      "NO TESTS RAN\n"
     ]
    }
   ],
   "source": [
    "#from utils.john import str_helper\n",
    "\n",
    "test_loader = unittest.TestLoader()\n",
    "#test_suite = test_loader.discover(\n",
    "#    start_dir='tests/unit/utils/john')\n",
    "    #pattern='test_*.py')\n",
    "test_suite = test_loader.loadTestsFromName('test_str_helper')\n",
    "runner = MyCustomTestRunner(verbosity=2) # verbosity=2 shows more details\n",
    "test_result = runner.run(test_suite)"
   ]
  },
  {
   "cell_type": "markdown",
   "id": "51a740b0-0706-4bb4-aead-2b5a0a8926e6",
   "metadata": {},
   "source": [
    "## <b><font color='darkblue'>Supplement</font></b>\n",
    "* [Colab - Langfun 101: Getting Started with Langfun](https://colab.research.google.com/github/google/langfun/blob/main/docs/notebooks/langfun101.ipynb)"
   ]
  }
 ],
 "metadata": {
  "kernelspec": {
   "display_name": "Python 3 (ipykernel)",
   "language": "python",
   "name": "python3"
  },
  "language_info": {
   "codemirror_mode": {
    "name": "ipython",
    "version": 3
   },
   "file_extension": ".py",
   "mimetype": "text/x-python",
   "name": "python",
   "nbconvert_exporter": "python",
   "pygments_lexer": "ipython3",
   "version": "3.12.9"
  }
 },
 "nbformat": 4,
 "nbformat_minor": 5
}
