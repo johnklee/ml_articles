{
 "cells": [
  {
   "cell_type": "markdown",
   "metadata": {},
   "source": [
    "## <font color='darkblue'>Introduction</font>\n",
    "([Article source](https://blog.paperspace.com/anomaly-detection-isolation-forest/)) From bank fraud to preventative machine maintenance, anomaly detection is an incredibly useful and common application of machine learning. The isolation forest algorithm is a simple yet powerful choice to accomplish this task.\n",
    "\n",
    "In this article we'll cover:\n",
    "* [**An Introduction to Anomaly Detection**](#sect1)\n",
    "* [**Use Cases of Anomaly Detection**](#sect2)\n",
    "* [**What Is Isolation Forest?**](#sect3)\n",
    "* [**Using Isolation Forest for Anomaly Detection**](#sect4)\n",
    "* [**Supplement**](#sect5)\n",
    "\n",
    "You can run the code for this tutorial for free on the [ML Showcase](https://ml-showcase.paperspace.com/projects/ensemble-methods-scikit-learn). So, let's get started!\n",
    "\n",
    "<a id='sect1'></a>\n",
    "## <font color='darkblue'>Introduction to Anomaly Detection</font>\n",
    "An <b>outlier</b> is nothing but a data point that differs significantly from other data points in the given dataset. <b><font color='darkblue'>Anomaly detection</font> is the process of finding the outliers in the data, i.e. points that are significantly different from the majority of the other data points.</b>\n",
    "\n",
    "By and large, <b><font color='darkred'>real-world datasets may have very complicated patterns that are difficult to detect by just looking at the data.</font></b> That's why the study of anomaly detection is an extremely important application of Machine Learning.\n",
    "\n",
    "<b>In this article we are going to implement anomaly detection using the [isolation forest algorithm](https://scikit-learn.org/stable/modules/generated/sklearn.ensemble.IsolationForest.html). We have a simple dataset of salaries, where a few of the salaries are anomalous</b>. Our goal is to find those salaries. You could imagine this being a situation where certain employees in a company are making an unusually large sum of money, which might be an indicator of unethical activity.\n",
    "\n",
    "Before we proceed with the implementation, let's discuss some of the use cases of anomaly detection.\n",
    "\n",
    "<a id='sect2'></a>\n",
    "## <font color='darkblue'>Anomaly Detection Use Cases</font>\n",
    "Anomaly detection has wide applications across industries. Below are some of the popular use cases:\n",
    "\n",
    "<b><font size='3ptx'>Banking.</font></b> Finding abnormally high deposits. Every account holder generally has certain patterns of depositing money into their account. If there is an outlier to this pattern the bank needs to be able to detect and analyze it, e.g. for money laundering.\n",
    "\n",
    "<b><font size='3ptx'>Finance.</font></b> Finding the pattern of fraudulent purchases. Every person generally has certain patterns of purchases which they make. If there is an outlier to this pattern the bank needs to detect it in order to analyze it for potential fraud.\n",
    "\n",
    "<b><font size='3ptx'>Healthcare.</font></b> Detecting fraudulent insurance claims and payments.\n",
    "\n",
    "<b><font size='3ptx'>Manufacturing.</font></b> Abnormal machine behavior can be monitored for cost control. Many companies continuously monitor the input and output parameters of the machines they own. It is a well-known fact that before failure a machine shows abnormal behaviors in terms of these input or output parameters. A machine needs to be constantly monitored for anomalous behavior from the perspective of preventive maintenance.\n",
    "\n",
    "<b><font size='3ptx'>Networking.</font></b> Detecting intrusion into networks. Any network exposed to the outside world faces this threat. Intrusions can be detected early on using monitoring for anomalous activity in the network.\n",
    "\n",
    "Now let's understand what the isolation forest algorithm in machine learning is\n",
    "\n",
    "<a id='sect3'></a>\n",
    "## <font color='darkblue'>What Is Isolation Forest?</font>\n",
    "<b>[Isolation forest](https://en.wikipedia.org/wiki/Isolation_forest) is a machine learning algorithm for anomaly detection</b>. It's an unsupervised learning algorithm that identifies anomaly by isolating outliers in the data. Isolation Forest is based on the [Decision Tree algorithm](https://en.wikipedia.org/wiki/Decision_tree). It isolates the outliers by randomly selecting a feature from the given set of features and then randomly selecting a split value between the max and min values of that feature. This random partitioning of features will produce shorter paths in trees for the anomalous data points, thus distinguishing them from the rest of the data.\n",
    "\n",
    "In general the first step to anomaly detection is to construct a profile of what's \"normal\", and then report anything that cannot be considered normal as anomalous. However, <b>the isolation forest algorithm does not work on this principle; it does not first define \"normal\" behavior, and it does not calculate point-based distances</b>.\n",
    "\n",
    "As you might expect from the name, <b>Isolation Forest instead works by isolating anomalies explicitly isolating anomalous points in the dataset.</b>\n",
    "\n",
    "<font color='darkred'><b>The Isolation Forest algorithm is based on the principle that anomalies are observations that are few and different, which should make them easier to identify</b></font>. Isolation Forest uses an ensemble of Isolation Trees for the given data points to isolate anomalies.\n",
    "\n",
    "Isolation Forest recursively generates partitions on the dataset by randomly selecting a feature and then randomly selecting a split value for the feature. <b>Presumably the anomalies need fewer random partitions to be isolated compared to \"normal\" points in the dataset, so the anomalies will be the points which have a smaller path length in the tree, path length being the number of edges traversed from the root node</b>.\n",
    "> <font size='3ptx'>Using Isolation Forest, we can not only detect anomalies faster but we also require less memory compared to other algorithms.</font>\n",
    "\n",
    "Isolation Forest isolates anomalies in the data points instead of profiling normal data points. <b>As anomalies data points mostly have a lot shorter tree paths than the normal data points, trees in the isolation forest does not need to have a large depth so a smaller `max_depth` can be used resulting in low memory requirement.</b>\n",
    "\n",
    "This algorithm works very well with a small data set as well. Let's do some exploratory data analysis now to get some idea about the given data.\n",
    "\n",
    "### <font color='darkgreen'>Exploratory Data Analysis</font>\n",
    "Let's import the required libraries first. We are importing `numpy`, `pandas`, `seaborn` and `matplotlib`. Apart form that we also need to import [**IsolationForest**](https://scikit-learn.org/stable/modules/generated/sklearn.ensemble.IsolationForest.html) from [**sklearn.ensemble**](https://scikit-learn.org/stable/modules/classes.html#module-sklearn.ensemble)."
   ]
  },
  {
   "cell_type": "code",
   "execution_count": 1,
   "metadata": {},
   "outputs": [],
   "source": [
    "import numpy as np\n",
    "import pandas as pd\n",
    "import seaborn as sns\n",
    "import matplotlib.pyplot as plt\n",
    "from sklearn.ensemble import IsolationForest"
   ]
  },
  {
   "cell_type": "markdown",
   "metadata": {},
   "source": [
    "Once the libraries are imported we need to read the data from the csv to the pandas data frame and check the first 10 rows of data."
   ]
  },
  {
   "cell_type": "code",
   "execution_count": 55,
   "metadata": {},
   "outputs": [
    {
     "data": {
      "text/plain": [
       "(2030, 1)"
      ]
     },
     "execution_count": 55,
     "metadata": {},
     "output_type": "execute_result"
    }
   ],
   "source": [
    "# No data found, generate data by ourselves\n",
    "# Normal data\n",
    "mean1, sigma1, mean2, sigma2 = 300, 20, 500, 10\n",
    "X_normal1 = sigma1 * np.random.randn(1000, 1) + mean1\n",
    "X_normal2 = sigma2 * np.random.randn(1000, 1) + mean2\n",
    "X_normal = np.r_[X_normal1, X_normal2]   \n",
    "\n",
    "# Anomaly data\n",
    "X_outliers1 = np.random.uniform(low=0, high=100, size=(10, 1))\n",
    "X_outliers2 = np.random.uniform(low=350, high=450, size=(10, 1))\n",
    "X_outliers3 = np.random.uniform(low=550, high=800, size=(10, 1))\n",
    "X = np.concatenate((X_normal, X_outliers1, X_outliers2, X_outliers3), axis=0)\n",
    "X.shape"
   ]
  },
  {
   "cell_type": "code",
   "execution_count": 56,
   "metadata": {},
   "outputs": [
    {
     "data": {
      "image/png": "[encoded data removed]",
      "text/plain": [
       "<Figure size 1080x360 with 1 Axes>"
      ]
     },
     "metadata": {
      "needs_background": "light"
     },
     "output_type": "display_data"
    }
   ],
   "source": [
    "# the histogram of the data\n",
    "plt.rcParams[\"figure.figsize\"] = (15,5)\n",
    "bins = 100\n",
    "plt.hist(X, bins, density=True, facecolor='g', alpha=0.75)\n",
    "plt.xlabel('Salary')\n",
    "plt.ylabel('Amount')\n",
    "plt.title(f'Salary Histgory (bis={bins})')\n",
    "plt.text(400, .01, r'$\\mu={},\\ \\sigma={}$'.format(mean2, sigma2))\n",
    "plt.text(200, .01, r'$\\mu={},\\ \\sigma={}$'.format(mean1, sigma1))\n",
    "plt.xlim(10, 700)\n",
    "plt.ylim(0, 0.03)\n",
    "plt.grid(True)\n",
    "plt.show()"
   ]
  },
  {
   "cell_type": "code",
   "execution_count": 57,
   "metadata": {},
   "outputs": [
    {
     "data": {
      "text/html": [
       "<div>\n",
       "<style scoped>\n",
       "    .dataframe tbody tr th:only-of-type {\n",
       "        vertical-align: middle;\n",
       "    }\n",
       "\n",
       "    .dataframe tbody tr th {\n",
       "        vertical-align: top;\n",
       "    }\n",
       "\n",
       "    .dataframe thead th {\n",
       "        text-align: right;\n",
       "    }\n",
       "</style>\n",
       "<table border=\"1\" class=\"dataframe\">\n",
       "  <thead>\n",
       "    <tr style=\"text-align: right;\">\n",
       "      <th></th>\n",
       "      <th>salary</th>\n",
       "    </tr>\n",
       "  </thead>\n",
       "  <tbody>\n",
       "    <tr>\n",
       "      <th>1370</th>\n",
       "      <td>488.012137</td>\n",
       "    </tr>\n",
       "    <tr>\n",
       "      <th>1360</th>\n",
       "      <td>504.089772</td>\n",
       "    </tr>\n",
       "    <tr>\n",
       "      <th>155</th>\n",
       "      <td>269.304914</td>\n",
       "    </tr>\n",
       "    <tr>\n",
       "      <th>1514</th>\n",
       "      <td>508.146175</td>\n",
       "    </tr>\n",
       "    <tr>\n",
       "      <th>1410</th>\n",
       "      <td>494.292162</td>\n",
       "    </tr>\n",
       "    <tr>\n",
       "      <th>79</th>\n",
       "      <td>307.799333</td>\n",
       "    </tr>\n",
       "    <tr>\n",
       "      <th>510</th>\n",
       "      <td>307.603183</td>\n",
       "    </tr>\n",
       "    <tr>\n",
       "      <th>1691</th>\n",
       "      <td>500.118959</td>\n",
       "    </tr>\n",
       "    <tr>\n",
       "      <th>968</th>\n",
       "      <td>297.369588</td>\n",
       "    </tr>\n",
       "    <tr>\n",
       "      <th>1017</th>\n",
       "      <td>502.609383</td>\n",
       "    </tr>\n",
       "  </tbody>\n",
       "</table>\n",
       "</div>"
      ],
      "text/plain": [
       "          salary\n",
       "1370  488.012137\n",
       "1360  504.089772\n",
       "155   269.304914\n",
       "1514  508.146175\n",
       "1410  494.292162\n",
       "79    307.799333\n",
       "510   307.603183\n",
       "1691  500.118959\n",
       "968   297.369588\n",
       "1017  502.609383"
      ]
     },
     "execution_count": 57,
     "metadata": {},
     "output_type": "execute_result"
    }
   ],
   "source": [
    "from sklearn.utils import shuffle\n",
    "\n",
    "df = pd.DataFrame({\"salary\":X.reshape(X.shape[0], ).tolist()})\n",
    "# df = df.reindex(np.random.permutation(df.index))\n",
    "df = shuffle(df)\n",
    "df.head(10)"
   ]
  },
  {
   "cell_type": "markdown",
   "metadata": {},
   "source": [
    "To get more of an idea of the data we have plotted a violin plot of salary data as shown below. A [**violin plot**](https://seaborn.pydata.org/generated/seaborn.violinplot.html) is a method of plotting numeric data."
   ]
  },
  {
   "cell_type": "code",
   "execution_count": 53,
   "metadata": {},
   "outputs": [
    {
     "data": {
      "image/png": "[encoded data removed]",
      "text/plain": [
       "<Figure size 1080x360 with 1 Axes>"
      ]
     },
     "metadata": {
      "needs_background": "light"
     },
     "output_type": "display_data"
    }
   ],
   "source": [
    "ax = sns.violinplot(x=df[\"salary\"])"
   ]
  },
  {
   "cell_type": "markdown",
   "metadata": {},
   "source": [
    "Typically a violin plot includes all the data that is in a [**box plot**](https://en.wikipedia.org/wiki/Box_plot), a marker for the median of the data, a box or marker indicating the interquartile range, and possibly all sample points, if the number of samples is not too high.\n",
    "\n",
    "To get a better idea of outliers we may like to look at a box plot as well. This is also known as box-and-whisker plot. The box in box plot shows the quartiles of the dataset, while the whiskers shows the rest of the distribution.\n",
    "\n",
    "Whiskers do not show the points that are determined to be outliers. <b>Outliers are detected by a method which is a function of the interquartile range</b>. In statistics the interquartile range, also known as mid spread or middle 50%, is a measure of statistical dispersion, which is equal to the difference between 75th and 25th percentiles."
   ]
  },
  {
   "cell_type": "code",
   "execution_count": 60,
   "metadata": {},
   "outputs": [
    {
     "data": {
      "text/plain": [
       "<matplotlib.axes._subplots.AxesSubplot at 0x2a830cf27f0>"
      ]
     },
     "execution_count": 60,
     "metadata": {},
     "output_type": "execute_result"
    },
    {
     "data": {
      "image/png": "[encoded data removed]",
      "text/plain": [
       "<Figure size 1080x360 with 1 Axes>"
      ]
     },
     "metadata": {
      "needs_background": "light"
     },
     "output_type": "display_data"
    }
   ],
   "source": [
    "sns.boxplot(x=df[\"salary\"], whis=0.75)"
   ]
  },
  {
   "attachments": {},
   "cell_type": "markdown",
   "metadata": {},
   "source": [
    "Once we have completed our exploratory data analysis, it's time to define and fit the model.\n",
    "\n",
    "<a id='sect4'></a>\n",
    "## <font color='darkblue'>Using Isolation Forest for Anomaly Detection</font>\n",
    "\n",
    "### <font color='darkgreen'>Define and Fit Model</font>\n",
    "We'll create a `model` variable and instantiate the [**IsolationForest**](https://scikit-learn.org/stable/modules/generated/sklearn.ensemble.IsolationForest.html) class. We are passing the values of four parameters to the Isolation Forest method, listed below:\n",
    "\n",
    "| Parameter name  | Description |\n",
    "| --------------- | :- |\n",
    "| **Number of estimators** | `n_estimators` refers to the number of base estimators or trees in the ensemble, i.e. the number of trees that will get built in the forest. This is an integer parameter and is optional. The default value is 100. |\n",
    "| **Max samples** | `max_samples` is the number of samples to be drawn to train each base estimator. If `max_samples` is more than the number of samples provided, all samples will be used for all trees. The default value of `max_samples` is 'auto'. If 'auto', then <font color='blue'>max_samples=min(256, n_samples)</font> |\n",
    "| **Contamination** | This is a parameter that the algorithm is quite sensitive to; it refers to the expected proportion of outliers in the data set. This is used when fitting to define the threshold on the scores of the samples. The default value is 'auto'. If ‘auto’, the threshold value will be determined as in the original paper of Isolation Forest. |\n",
    "| **Max features** | All the base estimators are not trained with all the features available in the dataset. It is the number of features to draw from the total features to train each base estimator or tree.The default value of max features is one. |"
   ]
  },
  {
   "cell_type": "code",
   "execution_count": 63,
   "metadata": {},
   "outputs": [
    {
     "data": {
      "text/plain": [
       "IsolationForest(contamination=0.1, n_estimators=50)"
      ]
     },
     "execution_count": 63,
     "metadata": {},
     "output_type": "execute_result"
    }
   ],
   "source": [
    "model=IsolationForest(n_estimators=50, max_samples='auto', contamination=float(0.1), max_features=1.0)\n",
    "model.fit(df[['salary']])"
   ]
  },
  {
   "cell_type": "markdown",
   "metadata": {},
   "source": [
    "After we defined the model above we need to train the model using the data given. For this we are using the <font color='blue'>fit()</font> method as shown above. This method is passed one parameter, which is our data of interest (<font color='brown'>in this case, the salary column of the dataset</font>).\n",
    "\n",
    "Once the model is trained properly it will output the [**IsolationForest**](https://scikit-learn.org/stable/modules/generated/sklearn.ensemble.IsolationForest.html) instance as shown in the output of the cell above.\n",
    "\n",
    "Now this is the time to add the scores and anomaly column of the dataset.\n",
    "\n",
    "### <font color='darkgreen'>Add Scores and Anomaly Column</font>\n",
    "After the model is defined and fit, let's find the scores and anomaly column. We can find out the values of scores column by calling [decision_function()](https://scikit-learn.org/stable/modules/generated/sklearn.ensemble.IsolationForest.html#sklearn.ensemble.IsolationForest.decision_function) of the trained model and passing the salary as parameter; Similarly we can find the values of anomaly column by calling the [predict()](https://scikit-learn.org/stable/modules/generated/sklearn.ensemble.IsolationForest.html#sklearn.ensemble.IsolationForest.predict) function of the trained model and passing the salary as parameter.\n",
    "\n",
    "<b>These columns are going to be added to the data frame `df`. After adding these two columns let's check the data frame. As expected, the data frame has three columns now: `salary`, `scores` and `anomaly`.</b> A negative score value and a -1 for the value of anomaly columns indicate the presence of anomaly. A value of 1 for the anomaly represents the normal data.\n",
    "\n",
    "Each data point in the train set is assigned an anomaly score by this algorithm. We can define a threshold, and using the anomaly score, it may be possible to mark a data point as anomalous if its score is greater than the predefined threshold."
   ]
  },
  {
   "cell_type": "code",
   "execution_count": 68,
   "metadata": {},
   "outputs": [
    {
     "data": {
      "text/html": [
       "<div>\n",
       "<style scoped>\n",
       "    .dataframe tbody tr th:only-of-type {\n",
       "        vertical-align: middle;\n",
       "    }\n",
       "\n",
       "    .dataframe tbody tr th {\n",
       "        vertical-align: top;\n",
       "    }\n",
       "\n",
       "    .dataframe thead th {\n",
       "        text-align: right;\n",
       "    }\n",
       "</style>\n",
       "<table border=\"1\" class=\"dataframe\">\n",
       "  <thead>\n",
       "    <tr style=\"text-align: right;\">\n",
       "      <th></th>\n",
       "      <th>salary</th>\n",
       "      <th>scores</th>\n",
       "      <th>anomaly</th>\n",
       "    </tr>\n",
       "  </thead>\n",
       "  <tbody>\n",
       "    <tr>\n",
       "      <th>1370</th>\n",
       "      <td>488.012137</td>\n",
       "      <td>0.052036</td>\n",
       "      <td>1</td>\n",
       "    </tr>\n",
       "    <tr>\n",
       "      <th>1360</th>\n",
       "      <td>504.089772</td>\n",
       "      <td>0.117835</td>\n",
       "      <td>1</td>\n",
       "    </tr>\n",
       "    <tr>\n",
       "      <th>155</th>\n",
       "      <td>269.304914</td>\n",
       "      <td>0.002289</td>\n",
       "      <td>1</td>\n",
       "    </tr>\n",
       "    <tr>\n",
       "      <th>1514</th>\n",
       "      <td>508.146175</td>\n",
       "      <td>0.097761</td>\n",
       "      <td>1</td>\n",
       "    </tr>\n",
       "    <tr>\n",
       "      <th>1410</th>\n",
       "      <td>494.292162</td>\n",
       "      <td>0.093228</td>\n",
       "      <td>1</td>\n",
       "    </tr>\n",
       "    <tr>\n",
       "      <th>79</th>\n",
       "      <td>307.799333</td>\n",
       "      <td>0.092836</td>\n",
       "      <td>1</td>\n",
       "    </tr>\n",
       "    <tr>\n",
       "      <th>510</th>\n",
       "      <td>307.603183</td>\n",
       "      <td>0.089986</td>\n",
       "      <td>1</td>\n",
       "    </tr>\n",
       "    <tr>\n",
       "      <th>1691</th>\n",
       "      <td>500.118959</td>\n",
       "      <td>0.118210</td>\n",
       "      <td>1</td>\n",
       "    </tr>\n",
       "    <tr>\n",
       "      <th>968</th>\n",
       "      <td>297.369588</td>\n",
       "      <td>0.118397</td>\n",
       "      <td>1</td>\n",
       "    </tr>\n",
       "    <tr>\n",
       "      <th>1017</th>\n",
       "      <td>502.609383</td>\n",
       "      <td>0.119333</td>\n",
       "      <td>1</td>\n",
       "    </tr>\n",
       "    <tr>\n",
       "      <th>815</th>\n",
       "      <td>274.967166</td>\n",
       "      <td>0.038624</td>\n",
       "      <td>1</td>\n",
       "    </tr>\n",
       "    <tr>\n",
       "      <th>1147</th>\n",
       "      <td>491.009956</td>\n",
       "      <td>0.076702</td>\n",
       "      <td>1</td>\n",
       "    </tr>\n",
       "    <tr>\n",
       "      <th>674</th>\n",
       "      <td>301.243026</td>\n",
       "      <td>0.097736</td>\n",
       "      <td>1</td>\n",
       "    </tr>\n",
       "    <tr>\n",
       "      <th>777</th>\n",
       "      <td>289.541343</td>\n",
       "      <td>0.107809</td>\n",
       "      <td>1</td>\n",
       "    </tr>\n",
       "    <tr>\n",
       "      <th>1262</th>\n",
       "      <td>498.931078</td>\n",
       "      <td>0.103005</td>\n",
       "      <td>1</td>\n",
       "    </tr>\n",
       "    <tr>\n",
       "      <th>1720</th>\n",
       "      <td>494.010418</td>\n",
       "      <td>0.084550</td>\n",
       "      <td>1</td>\n",
       "    </tr>\n",
       "    <tr>\n",
       "      <th>904</th>\n",
       "      <td>314.673559</td>\n",
       "      <td>0.081705</td>\n",
       "      <td>1</td>\n",
       "    </tr>\n",
       "    <tr>\n",
       "      <th>15</th>\n",
       "      <td>306.099541</td>\n",
       "      <td>0.092372</td>\n",
       "      <td>1</td>\n",
       "    </tr>\n",
       "    <tr>\n",
       "      <th>295</th>\n",
       "      <td>286.650476</td>\n",
       "      <td>0.096471</td>\n",
       "      <td>1</td>\n",
       "    </tr>\n",
       "    <tr>\n",
       "      <th>1860</th>\n",
       "      <td>515.466667</td>\n",
       "      <td>0.022894</td>\n",
       "      <td>1</td>\n",
       "    </tr>\n",
       "  </tbody>\n",
       "</table>\n",
       "</div>"
      ],
      "text/plain": [
       "          salary    scores  anomaly\n",
       "1370  488.012137  0.052036        1\n",
       "1360  504.089772  0.117835        1\n",
       "155   269.304914  0.002289        1\n",
       "1514  508.146175  0.097761        1\n",
       "1410  494.292162  0.093228        1\n",
       "79    307.799333  0.092836        1\n",
       "510   307.603183  0.089986        1\n",
       "1691  500.118959  0.118210        1\n",
       "968   297.369588  0.118397        1\n",
       "1017  502.609383  0.119333        1\n",
       "815   274.967166  0.038624        1\n",
       "1147  491.009956  0.076702        1\n",
       "674   301.243026  0.097736        1\n",
       "777   289.541343  0.107809        1\n",
       "1262  498.931078  0.103005        1\n",
       "1720  494.010418  0.084550        1\n",
       "904   314.673559  0.081705        1\n",
       "15    306.099541  0.092372        1\n",
       "295   286.650476  0.096471        1\n",
       "1860  515.466667  0.022894        1"
      ]
     },
     "execution_count": 68,
     "metadata": {},
     "output_type": "execute_result"
    }
   ],
   "source": [
    "df['scores']=model.decision_function(df[['salary']])\n",
    "df['anomaly']=model.predict(df[['salary']])\n",
    "# df[df['anomaly']==-1].head(20)\n",
    "df.head(n=20)"
   ]
  },
  {
   "cell_type": "markdown",
   "metadata": {},
   "source": [
    "After adding the scores and anomalies for all the rows in the data, we will print the predicted anomalies.\n",
    "\n",
    "### <font color='darkgreen'>Print Anomalies</font>\n",
    "To print the predicted anomalies in the data we need to analyse the data after addition of scores and anomaly column. As you can see above for <b>the predicted anomalies the anomaly column values would be -1 and their scores will be negative</b>.\n",
    "\n",
    "Using this information we can print the predicted anomaly (<font color='brown'>two data points in this case</font>) as below:"
   ]
  },
  {
   "cell_type": "code",
   "execution_count": 69,
   "metadata": {},
   "outputs": [
    {
     "name": "stdout",
     "output_type": "stream",
     "text": [
      "          salary    scores  anomaly\n",
      "416   249.014832 -0.147585       -1\n",
      "761   260.693795 -0.070744       -1\n",
      "53    258.402639 -0.092182       -1\n",
      "1883  529.152468 -0.137886       -1\n",
      "1067  468.811605 -0.097283       -1\n",
      "...          ...       ...      ...\n",
      "2008   27.892374 -0.288595       -1\n",
      "1434  476.286294 -0.068339       -1\n",
      "1560  517.175678 -0.004264       -1\n",
      "310   338.131264 -0.033319       -1\n",
      "850   337.705936 -0.029396       -1\n",
      "\n",
      "[203 rows x 3 columns]\n"
     ]
    }
   ],
   "source": [
    "anomaly=df.loc[df['anomaly']==-1]\n",
    "anomaly_index=list(anomaly.index)\n",
    "print(anomaly)"
   ]
  },
  {
   "cell_type": "markdown",
   "metadata": {},
   "source": [
    "Note that we could print not only the anomalous values but also their index in the dataset, which is useful information for further processing.\n",
    "\n",
    "### <font color='darkgreen'>Evaluating the model</font>\n",
    "For evaluating the model let's set a threshold as salary > 600 or salary < 200 is an outlier.Let us find out the number of outlier present in the data as per the above rule using code as below."
   ]
  },
  {
   "cell_type": "code",
   "execution_count": 104,
   "metadata": {},
   "outputs": [
    {
     "data": {
      "text/plain": [
       "17"
      ]
     },
     "execution_count": 104,
     "metadata": {},
     "output_type": "execute_result"
    }
   ],
   "source": [
    "def get_num_of_outliers(df=df):\n",
    "    outliers_counter = len(df[df['salary'] > 600]) + len(df[df['salary'] < 200])\n",
    "    return outliers_counter\n",
    "\n",
    "get_num_of_outliers()"
   ]
  },
  {
   "cell_type": "markdown",
   "metadata": {},
   "source": [
    "Let us calculate the accuracy of the model by finding how many outlier the model found divided by how many outliers present in the data."
   ]
  },
  {
   "cell_type": "code",
   "execution_count": 105,
   "metadata": {},
   "outputs": [
    {
     "name": "stdout",
     "output_type": "stream",
     "text": [
      "Precision=8.37%; Recall=100.0%\n"
     ]
    }
   ],
   "source": [
    "def get_precision_and_recall(score=None):\n",
    "    if score is None:\n",
    "        predicted_anomaly_datas = df[df['anomaly'] == -1]\n",
    "    else:\n",
    "        predicted_anomaly_datas = df[df['scores'] <= score]\n",
    "        \n",
    "    if len(predicted_anomaly_datas) == 0:\n",
    "        return -1, -1\n",
    "    \n",
    "    tp = get_num_of_outliers(predicted_anomaly_datas)\n",
    "    precision = tp / len(predicted_anomaly_datas)\n",
    "    recall = tp / outliers_counter\n",
    "    return precision, recall\n",
    "\n",
    "precision, recall = get_precision_and_recall()\n",
    "print(\"Precision={:.02f}%; Recall={:.01f}%\".format(precision* 100, recall* 100))"
   ]
  },
  {
   "cell_type": "code",
   "execution_count": 106,
   "metadata": {},
   "outputs": [],
   "source": [
    "def frange(x, y, jump):  \n",
    "    while x < y:  \n",
    "        yield x  \n",
    "        x += jump  \n",
    "        \n",
    "precision_datas, recall_datas, score_datas = [], [], []\n",
    "for s in frange(0.01, 2.5, 0.01):\n",
    "    p, r = get_precision_and_recall(-1 * s)\n",
    "    if p < 0 or r < 0:\n",
    "        break\n",
    "        \n",
    "    precision_datas.append(p*100)\n",
    "    recall_datas.append(r*100)\n",
    "    score_datas.append(s)"
   ]
  },
  {
   "cell_type": "code",
   "execution_count": 108,
   "metadata": {},
   "outputs": [
    {
     "data": {
      "image/png": "[encoded data removed]",
      "text/plain": [
       "<Figure size 900x400 with 1 Axes>"
      ]
     },
     "metadata": {
      "needs_background": "light"
     },
     "output_type": "display_data"
    }
   ],
   "source": [
    "plt.figure(figsize=(9,4),dpi=100,linewidth = 2)\n",
    "plt.plot(score_datas, precision_datas,'s-',color = 'blue', label=\"Precision (%)\")\n",
    "plt.plot(score_datas, recall_datas,'o-',color = 'green', label=\"Recall (%)\")\n",
    "plt.title(\"Precision/Recall Trending over Score\", x=0.5, y=1.03)\n",
    "plt.xticks(fontsize=7)\n",
    "plt.yticks(fontsize=7)\n",
    "plt.xlabel(\"abs(score)\", fontsize=10, labelpad = 15)\n",
    "plt.ylabel(\"Precision/Recall (%)\", fontsize=10, labelpad = 20)\n",
    "plt.legend(loc = \"best\", fontsize=10)\n",
    "plt.show();"
   ]
  },
  {
   "cell_type": "markdown",
   "metadata": {},
   "source": [
    "## <font color='darkblue'>End Notes</font>\n",
    "In this tutorial we learned what anomalies are, and how the Isolation Forest algorithm can be used to detect them. We also discussed various exploratory data analysis graphs like violin plot and box plot for this problem.\n",
    "\n",
    "Finally we implemented the Isolation Forest Algorithm and printed the real outliers in the data. Happy Learning!"
   ]
  },
  {
   "cell_type": "markdown",
   "metadata": {},
   "source": [
    "<a id='sect5'></a>\n",
    "## <font color='darkblue'>Supplement</font>\n",
    "* [Medium - Outlier Detection with Isolation Forest](https://towardsdatascience.com/outlier-detection-with-isolation-forest-3d190448d45e)\n",
    "> During a recent project, I was working on a clustering problem with data collected from users of a mobile app. The goal was to classify the users in terms of their behavior, potentially with the use of K-means clustering. However, after inspecting the data it turned out that some users represented abnormal behavior — they were outliers.\n",
    "* [Kaggle - Anomaly Detection Isolation Forest&Visualization](https://www.kaggle.com/adithya44/anomaly-detection-isolation-forest-visualization)"
   ]
  }
 ],
 "metadata": {
  "kernelspec": {
   "display_name": "Python 3",
   "language": "python",
   "name": "python3"
  },
  "language_info": {
   "codemirror_mode": {
    "name": "ipython",
    "version": 3
   },
   "file_extension": ".py",
   "mimetype": "text/x-python",
   "name": "python",
   "nbconvert_exporter": "python",
   "pygments_lexer": "ipython3",
   "version": "3.6.7"
  }
 },
 "nbformat": 4,
 "nbformat_minor": 2
}
