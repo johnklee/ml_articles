{
 "cells": [
  {
   "cell_type": "markdown",
   "metadata": {},
   "source": [
    "## <font color='darkblue'>Preface</font>\n",
    "([article source](https://machinelearningmastery.com/feature-selection-with-optimization/)) <font size='3ptx'>**Typically, a simpler and better-performing machine learning model can be developed by removing input features (columns) from the training dataset.**</font>\n",
    "\n",
    "This is called feature selection and there are many different types of algorithms that can be used.\n",
    "\n",
    "It is possible to frame the problem of feature selection as an optimization problem. In the case that there are few input features, all possible combinations of input features can be evaluated and the best subset found definitively. **In the case of a vast number of input features, a stochastic optimization algorithm can be used to explore the search space and find an effective subset of features.**\n",
    "\n",
    "**In this tutorial, you will discover how to use optimization algorithms for feature selection in machine learning.**\n",
    "\n",
    "After completing this tutorial, you will know:\n",
    "* The problem of feature selection can be broadly defined as an optimization problem.\n",
    "* How to enumerate all possible subsets of input features for a dataset.\n",
    "* How to apply stochastic optimization to select an optimal subset of input features."
   ]
  },
  {
   "cell_type": "markdown",
   "metadata": {},
   "source": [
    "### <font color='darkgreen'>Tutorial Overview</font>\n",
    "This tutorial is divided into three parts; they are:\n",
    "1. <font size='3ptx'>[**Optimization for Feature Selection**](#sect1)</font>\n",
    "2. <font size='3ptx'>[**Enumerate All Feature Subsets**](#sect2)</font>\n",
    "3. <font size='3ptx'>[**Optimize Feature Subsets**](#sect3)</font>"
   ]
  },
  {
   "cell_type": "markdown",
   "metadata": {},
   "source": [
    "<a id='sect1'></a>\n",
    "## <font color='darkblue'>Optimization for Feature Selection</font>\n",
    "<font size='3ptx'>**Feature selection is the process of reducing the number of input variables when developing a predictive model.**</font>\n",
    "\n",
    "It is desirable to reduce the number of input variables to both reduce the computational cost of modeling and, in some cases, to improve the performance of the model. **There are many different types of feature selection algorithms, although they can broadly be grouped into two main types: wrapper and filter methods.**\n",
    "\n",
    "**<font color='darkblue'>Wrapper feature selection</font> methods create many models with different subsets of input features and select those features that result in the best performing model according to a performance metric**. These methods are unconcerned with the variable types, although they can be <font color='darkred'>**computationally expensive**</font>. [**RFE**](https://machinelearningmastery.com/rfe-feature-selection-in-python/) (<font color='brown'>Recursive Feature Elimination</font>) is a good example of a wrapper feature selection method.\n",
    "\n",
    "**<font color='darkblue'>Filter feature selection</font> methods use statistical techniques to evaluate the relationship between each input variable and the target variable**, and these scores are used as the basis to choose (<font color='brown'>filter</font>) those input variables that will be used in the model.\n",
    "\n",
    "* **Wrapper Feature Selection:** Search for well-performing subsets of features.\n",
    "* **Filter Feature Selection:** Select subsets of features based on their relationship with the target.\n",
    "\n",
    "For more on choosing feature selection algorithms, see the tutorial:\n",
    "* [How to Choose a Feature Selection Method For Machine Learning](https://machinelearningmastery.com/feature-selection-with-real-and-categorical-data/)\n",
    "\n",
    "A popular wrapper method is the Recursive Feature Elimination, or RFE, algorithm.\n",
    "\n",
    "**RFE works by searching for a subset of features by starting with all features in the training dataset and successfully removing features until the desired number remains.**\n",
    "\n",
    "This is achieved by fitting the given machine learning algorithm used in the core of the model, ranking features by importance, discarding the least important features, and re-fitting the model. This process is repeated until a specified number of features remains.\n",
    "\n",
    "For more on RFE, see the tutorial:\n",
    "* [Recursive Feature Elimination (RFE) for Feature Selection in Python](https://machinelearningmastery.com/rfe-feature-selection-in-python/)\n",
    "\n",
    "The problem of wrapper feature selection can be framed as an optimization problem. That is, find a subset of input features that result in the best model performance. RFE is one approach to solving this problem systematically, although it may be limited by a large number of features.\n",
    "\n",
    "**An alternative approach would be to use a stochastic optimization algorithm, such as a stochastic hill climbing algorithm, when the number of features is very large**. When the number of features is relatively small, it may be possible to enumerate all possible subsets of features.\n",
    "* **Few Input Variables:** Enumerate all possible subsets of features.\n",
    "* **Many Input Features:** Stochastic optimization algorithm to find good subsets of features.\n",
    "\n",
    "Now that we are familiar with the idea that feature selection may be explored as an optimization problem, **let’s look at how we might enumerate all possible feature subsets.**"
   ]
  },
  {
   "cell_type": "markdown",
   "metadata": {},
   "source": [
    "<a id='sect2'></a>\n",
    "## <font color='darkblue'>Enumerate All Feature Subsets</font>\n",
    "<font size='3ptx'>**When the number of input variables is relatively small and the model evaluation is relatively fast, then it may be possible to enumerate all possible subsets of input variables.**</font>\n",
    "\n",
    "This means evaluating the performance of a model using a test harness given every possible unique group of input variables. We will explore how to do this with a worked example.\n",
    "\n",
    "First, let’s define a small binary classification dataset with few input features. We can use the [make_classification()](https://scikit-learn.org/stable/modules/generated/sklearn.datasets.make_classification.html) function to **define a dataset with five input variables, two of which are informative, and 1,000 rows.**"
   ]
  },
  {
   "cell_type": "code",
   "execution_count": 20,
   "metadata": {},
   "outputs": [],
   "source": [
    "from itertools import product\n",
    "from numpy import mean\n",
    "from numpy.random import rand\n",
    "from numpy.random import choice\n",
    "from numpy import std\n",
    "from sklearn.datasets import make_classification\n",
    "from sklearn.model_selection import cross_val_score\n",
    "from sklearn.model_selection import StratifiedKFold\n",
    "from sklearn.model_selection import RepeatedStratifiedKFold\n",
    "from sklearn.tree import DecisionTreeClassifier\n",
    "from sklearn.datasets import make_classification"
   ]
  },
  {
   "cell_type": "markdown",
   "metadata": {},
   "source": [
    "The example below defines the dataset and summarizes its shape."
   ]
  },
  {
   "cell_type": "code",
   "execution_count": 3,
   "metadata": {},
   "outputs": [
    {
     "name": "stdout",
     "output_type": "stream",
     "text": [
      "(1000, 5) (1000,)\n"
     ]
    }
   ],
   "source": [
    "# define a small classification dataset\n",
    "X, y = make_classification(n_samples=1000, n_features=5, n_informative=2, n_redundant=3, random_state=1)\n",
    "# summarize the shape of the dataset\n",
    "print(X.shape, y.shape)"
   ]
  },
  {
   "cell_type": "markdown",
   "metadata": {},
   "source": [
    "Next, we can establish a baseline in performance using a model evaluated on the entire dataset. We will use a [**DecisionTreeClassifier**](https://scikit-learn.org/stable/modules/generated/sklearn.tree.DecisionTreeClassifier.html\n",
    ") as the model because its performance is quite sensitive to the choice of input variables.\n",
    "\n",
    "We will evaluate the model using good practices, such as [repeated stratified k-fold cross-validation](https://machinelearningmastery.com/k-fold-cross-validation/) with three repeats and 10 folds.\n",
    "\n",
    "The complete example is listed below."
   ]
  },
  {
   "cell_type": "code",
   "execution_count": 5,
   "metadata": {},
   "outputs": [
    {
     "name": "stdout",
     "output_type": "stream",
     "text": [
      "Mean Accuracy: 0.818 (0.032)\n"
     ]
    }
   ],
   "source": [
    "# define model\n",
    "model = DecisionTreeClassifier()\n",
    "\n",
    "# define evaluation procedure\n",
    "cv = RepeatedStratifiedKFold(n_splits=10, n_repeats=3, random_state=1)\n",
    "\n",
    "# evaluate model\n",
    "scores = cross_val_score(model, X, y, scoring='accuracy', cv=cv, n_jobs=-1)\n",
    "\n",
    "# report result\n",
    "print('Mean Accuracy: %.3f (%.3f)' % (mean(scores), std(scores)))"
   ]
  },
  {
   "cell_type": "markdown",
   "metadata": {},
   "source": [
    "In this case, we can see that the model achieved an accuracy of about 81 percent.\n",
    "\n",
    "**Next, we can try to improve model performance by using a subset of the input features.**\n",
    "\n",
    "First, we must choose a representation to enumerate. In this case, we will enumerate a list of boolean values, with one value for each input feature: True if the feature is to be used and False if the feature is not to be used as input.\n",
    "\n",
    "For example, with the five input features the sequence [True, True, True, True, True] would use all input features, and [True, False, False, False, False] would only use the first input feature as input.\n",
    "\n",
    "We can enumerate all sequences of boolean values with the length=5 using the [product()](https://docs.python.org/3/library/itertools.html#itertools.product) Python function. We must specify the valid values [True, False] and the number of steps in the sequence, which is equal to the number of input variables.\n",
    "\n",
    "The function returns an iterable that we can enumerate directly for each sequence:\n",
    "```python\n",
    "...\n",
    "# determine the number of columns\n",
    "n_cols = X.shape[1]\n",
    "best_subset, best_score = None, 0.0\n",
    "# enumerate all combinations of input features\n",
    "for subset in product([True, False], repeat=n_cols):\n",
    "\t...\n",
    "```\n",
    "One permutation example as below:"
   ]
  },
  {
   "cell_type": "code",
   "execution_count": 8,
   "metadata": {},
   "outputs": [
    {
     "name": "stdout",
     "output_type": "stream",
     "text": [
      "(0, 0, 0)\n",
      "(0, 0, 1)\n",
      "(0, 1, 0)\n",
      "(0, 1, 1)\n",
      "(1, 0, 0)\n",
      "(1, 0, 1)\n",
      "(1, 1, 0)\n",
      "(1, 1, 1)\n"
     ]
    }
   ],
   "source": [
    "for cmp in product([0, 1], repeat=3):\n",
    "    print(cmp)"
   ]
  },
  {
   "cell_type": "markdown",
   "metadata": {},
   "source": [
    "For a given sequence of boolean values, we can enumerate it and transform it into a sequence of column indexes for each True in the sequence:\n",
    "```python\n",
    "...\n",
    "# convert into column indexes\n",
    "ix = [i for i, x in enumerate(subset) if x]\n",
    "```\n",
    "\n",
    "If the sequence has no column indexes (in the case of all False values), then we can skip that sequence:\n",
    "```python\n",
    "# check for now column (all False)\n",
    "if len(ix) == 0:\n",
    "\tcontinue\n",
    "```\n",
    "\n",
    "We can then use the column indexes to choose the columns in the dataset:\n",
    "```python\n",
    "...\n",
    "# select columns\n",
    "X_new = X[:, ix]\n",
    "```\n",
    "\n",
    "And this subset of the dataset can then be evaluated as we did before. If the accuracy for the model is better than the best sequence found so far, we can store it. Tying this together, the complete example of feature selection by enumerating all possible feature subsets is listed below."
   ]
  },
  {
   "cell_type": "code",
   "execution_count": 9,
   "metadata": {},
   "outputs": [
    {
     "name": "stdout",
     "output_type": "stream",
     "text": [
      ">f([0, 1, 2, 3, 4]) = 0.820667 \n",
      ">f([0, 1, 2, 3]) = 0.828333 \n",
      ">f([0, 1, 2, 4]) = 0.817667 \n",
      ">f([0, 1, 2]) = 0.820667 \n",
      ">f([0, 1, 3, 4]) = 0.820000 \n",
      ">f([0, 1, 3]) = 0.824333 \n",
      ">f([0, 1, 4]) = 0.811333 \n",
      ">f([0, 1]) = 0.820000 \n",
      ">f([0, 2, 3, 4]) = 0.829333 \n",
      ">f([0, 2, 3]) = 0.825667 \n",
      ">f([0, 2, 4]) = 0.828333 \n",
      ">f([0, 2]) = 0.815667 \n",
      ">f([0, 3, 4]) = 0.828667 \n",
      ">f([0, 3]) = 0.818333 \n",
      ">f([0, 4]) = 0.818333 \n",
      ">f([0]) = 0.639333 \n",
      ">f([1, 2, 3, 4]) = 0.821667 \n",
      ">f([1, 2, 3]) = 0.818000 \n",
      ">f([1, 2, 4]) = 0.822333 \n",
      ">f([1, 2]) = 0.817333 \n",
      ">f([1, 3, 4]) = 0.817333 \n",
      ">f([1, 3]) = 0.820333 \n",
      ">f([1, 4]) = 0.806333 \n",
      ">f([1]) = 0.797000 \n",
      ">f([2, 3, 4]) = 0.834000 \n",
      ">f([2, 3]) = 0.753000 \n",
      ">f([2, 4]) = 0.827667 \n",
      ">f([2]) = 0.516667 \n",
      ">f([3, 4]) = 0.825000 \n",
      ">f([3]) = 0.514333 \n",
      ">f([4]) = 0.777667 \n",
      "Done!\n",
      "f([2, 3, 4]) = 0.834000\n"
     ]
    }
   ],
   "source": [
    "# determine the number of columns\n",
    "n_cols = X.shape[1]\n",
    "best_subset, best_score = None, 0.0\n",
    "# enumerate all combinations of input features\n",
    "for subset in product([True, False], repeat=n_cols):\n",
    "    # convert into column indexes\n",
    "    ix = [i for i, x in enumerate(subset) if x]\n",
    "\n",
    "    # check for now column (all False)\n",
    "    if len(ix) == 0:\n",
    "        continue\n",
    "\n",
    "    # select columns\n",
    "    X_new = X[:, ix]\n",
    "    \n",
    "    # define model\n",
    "    model = DecisionTreeClassifier()\n",
    "\n",
    "    # define evaluation procedure\n",
    "    cv = RepeatedStratifiedKFold(n_splits=10, n_repeats=3, random_state=1)\n",
    "\n",
    "    # evaluate model\n",
    "    scores = cross_val_score(model, X_new, y, scoring='accuracy', cv=cv, n_jobs=-1)\n",
    "\n",
    "    # summarize scores\n",
    "    result = mean(scores)\n",
    "\n",
    "    # report progress\n",
    "    print('>f(%s) = %f ' % (ix, result))\n",
    "\n",
    "    # check if it is better than the best so far\n",
    "    if best_score is None or result >= best_score:\n",
    "        # better result\n",
    "        best_subset, best_score = ix, result\n",
    "\n",
    "        # report best\n",
    "print('Done!')\n",
    "print('f(%s) = %f' % (best_subset, best_score))"
   ]
  },
  {
   "cell_type": "markdown",
   "metadata": {},
   "source": [
    "In this case, we can see that the best subset of features involved features at indexes \\[2, 3, 4] that resulted in a mean classification accuracy of about 83.0 percent, which is better than the result reported previously using all input features.\n",
    "\n",
    "Now that we know how to enumerate all possible feature subsets, let’s look at **how we might use a stochastic optimization algorithm to choose a subset of features.**"
   ]
  },
  {
   "cell_type": "markdown",
   "metadata": {},
   "source": [
    "<a id='sect3'></a>\n",
    "## <font color='darkblue'>Optimize Feature Subsets</font>\n",
    "<font size='3ptx'>**We can apply a stochastic optimization algorithm to the search space of subsets of input features.**</font>\n",
    "\n",
    "First, let’s define a larger problem that has many more features, making model evaluation too slow and the search space too large for enumerating all subsets.\n",
    "\n",
    "We will define a **classification problem with 10,000 rows and 500 input features, 10 of which are relevant and the remaining 490 are redundant.**"
   ]
  },
  {
   "cell_type": "code",
   "execution_count": 10,
   "metadata": {},
   "outputs": [
    {
     "name": "stdout",
     "output_type": "stream",
     "text": [
      "(10000, 500) (10000,)\n"
     ]
    }
   ],
   "source": [
    "# define dataset\n",
    "X, y = make_classification(n_samples=10000, n_features=500, n_informative=10, n_redundant=490, random_state=1)\n",
    "\n",
    "# summarize the shape of the dataset\n",
    "print(X.shape, y.shape)"
   ]
  },
  {
   "cell_type": "markdown",
   "metadata": {},
   "source": [
    "We can establish a baseline in performance by evaluating a model on the dataset with all input features.\n",
    "\n",
    "Because the dataset is large and the model is slow to evaluate, we will modify the evaluation of the model to use 3-fold cross-validation, e.g. fewer folds and no repeats. The complete example is listed below."
   ]
  },
  {
   "cell_type": "code",
   "execution_count": 13,
   "metadata": {},
   "outputs": [
    {
     "name": "stdout",
     "output_type": "stream",
     "text": [
      "Mean Accuracy: 0.914 (0.004)\n"
     ]
    }
   ],
   "source": [
    "# define model\n",
    "model = DecisionTreeClassifier()\n",
    "\n",
    "# define evaluation procedure\n",
    "cv = StratifiedKFold(n_splits=3)\n",
    "\n",
    "# evaluate model\n",
    "scores = cross_val_score(model, X, y, scoring='accuracy', cv=cv, n_jobs=-1)\n",
    "\n",
    "# report result\n",
    "print('Mean Accuracy: %.3f (%.3f)' % (mean(scores), std(scores)))"
   ]
  },
  {
   "cell_type": "markdown",
   "metadata": {},
   "source": [
    "In this case, we can see that the model achieved an accuracy of about 91.3 percent. This provides a baseline that we would expect to outperform using feature selection. We will use a simple stochastic hill climbing algorithm as the optimization algorithm.\n",
    "\n",
    "First, **we must define the objective function. It will take the dataset and a subset of features to use as input and return an estimated model accuracy from 0** (<font color='brown'>worst</font>) **to 1** (<font color='brown'>best</font>). It is a [**maximizing optimization problem**](https://en.wikipedia.org/wiki/Mathematical_optimization).\n",
    "\n",
    "This objective function is simply the decoding of the sequence and model evaluation step from the previous section.\n",
    "\n",
    "The <font color='blue'>objective()</font> function below implements this and returns both the score and the decoded subset of columns used for helpful reporting."
   ]
  },
  {
   "cell_type": "code",
   "execution_count": 14,
   "metadata": {},
   "outputs": [],
   "source": [
    "# objective function\n",
    "def objective(X, y, subset):\n",
    "    # convert into column indexes\n",
    "    ix = [i for i, x in enumerate(subset) if x]\n",
    "\n",
    "    # check for now column (all False)\n",
    "    if len(ix) == 0:\n",
    "        return 0.0\n",
    "    \n",
    "    # select columns\n",
    "    X_new = X[:, ix]\n",
    "    \n",
    "    # define model\n",
    "    model = DecisionTreeClassifier()\n",
    "    # evaluate model\n",
    "    scores = cross_val_score(model, X_new, y, scoring='accuracy', cv=3, n_jobs=-1)\n",
    "\n",
    "    # summarize scores\n",
    "    result = mean(scores)\n",
    "    return result, ix"
   ]
  },
  {
   "cell_type": "markdown",
   "metadata": {},
   "source": [
    "We also need **a function that can take a step in the search space.**\n",
    "\n",
    "Given an existing solution, it must modify it and return a new solution in close proximity. In this case, we will achieve this by randomly flipping the inclusion/exclusion of columns in subsequence.\n",
    "\n",
    "Each position in the sequence will be considered independently and will be flipped probabilistically where the probability of flipping is a hyperparameter.\n",
    "\n",
    "The <font color='blue'>mutate()</font> function below implements this given a candidate solution (<font color='brown'>sequence of booleans</font>) and a mutation hyperparameter, creating and returning a modified solution (<font color='brown'>a step in the search space</font>).\n",
    "\n",
    "The larger the `p_mutate` value (<font color='brown'>in the range 0 to 1</font>), the larger the step in the search space."
   ]
  },
  {
   "cell_type": "code",
   "execution_count": 15,
   "metadata": {},
   "outputs": [],
   "source": [
    "# mutation operator\n",
    "def mutate(solution, p_mutate):\n",
    "    # make a copy\n",
    "    child = solution.copy()\n",
    "    for i in range(len(child)):\n",
    "        # check for a mutation\n",
    "        if rand() < p_mutate:\n",
    "            # flip the inclusion\n",
    "            child[i] = not child[i]\n",
    "    return child"
   ]
  },
  {
   "cell_type": "markdown",
   "metadata": {},
   "source": [
    "We can now implement the hill climbing algorithm.\n",
    "\n",
    "The initial solution is a randomly generated sequence, which is then evaluated:\n",
    "```python\n",
    "...\n",
    "# generate an initial point\n",
    "solution = choice([True, False], size=X.shape[1])\n",
    "# evaluate the initial point\n",
    "solution_eval, ix = objective(X, y, solution)\n",
    "```\n",
    "\n",
    "We then loop for a fixed number of iterations, creating mutated versions of the current solution, evaluating them, and saving them if the score is better.\n",
    "```python\n",
    "...\n",
    "# run the hill climb\n",
    "for i in range(n_iter):\n",
    "\t# take a step\n",
    "\tcandidate = mutate(solution, p_mutate)\n",
    "\t# evaluate candidate point\n",
    "\tcandidate_eval, ix = objective(X, y, candidate)\n",
    "\t# check if we should keep the new point\n",
    "\tif candidate_eval >= solution_eval:\n",
    "\t\t# store the new point\n",
    "\t\tsolution, solution_eval = candidate, candidate_eval\n",
    "\t# report progress\n",
    "\tprint('>%d f(%s) = %f' % (i+1, len(ix), solution_eval))\n",
    "```\n",
    "\n",
    "The <font color='blue'>hillclimbing()</font> function below implements this, taking the dataset, objective function, and hyperparameters as arguments and returns the best subset of dataset columns and the estimated performance of the model."
   ]
  },
  {
   "cell_type": "code",
   "execution_count": 16,
   "metadata": {},
   "outputs": [],
   "source": [
    "# hill climbing local search algorithm\n",
    "def hillclimbing(X, y, objective, n_iter, p_mutate):\n",
    "    # generate an initial point\n",
    "    solution = choice([True, False], size=X.shape[1])\n",
    "\n",
    "    # evaluate the initial point\n",
    "    solution_eval, ix = objective(X, y, solution)\n",
    "\n",
    "    # run the hill climb\n",
    "    for i in range(n_iter):\n",
    "        # take a step\n",
    "        candidate = mutate(solution, p_mutate)\n",
    "\n",
    "        # evaluate candidate point\n",
    "        candidate_eval, ix = objective(X, y, candidate)\n",
    "\n",
    "        # check if we should keep the new point\n",
    "        if candidate_eval >= solution_eval:\n",
    "            # store the new point\n",
    "            solution, solution_eval = candidate, candidate_eval\n",
    "        # report progress\n",
    "        print('>%d f(%s) = %f' % (i+1, len(ix), solution_eval))\n",
    "    \n",
    "    return solution, solution_eval"
   ]
  },
  {
   "cell_type": "markdown",
   "metadata": {},
   "source": [
    "We can then call this function and pass in our synthetic dataset to perform optimization for feature selection.\n",
    "\n",
    "In this case, we will run the algorithm for 100 iterations and make about five flips to the sequence for a given mutation, which is quite conservative."
   ]
  },
  {
   "cell_type": "code",
   "execution_count": 21,
   "metadata": {},
   "outputs": [
    {
     "name": "stdout",
     "output_type": "stream",
     "text": [
      ">1 f(245) = 0.905200\n",
      ">2 f(248) = 0.906899\n",
      ">3 f(248) = 0.906899\n",
      ">4 f(250) = 0.906899\n",
      ">5 f(245) = 0.906899\n",
      ">6 f(247) = 0.906899\n",
      ">7 f(245) = 0.906899\n",
      ">8 f(253) = 0.906899\n",
      ">9 f(248) = 0.906899\n",
      ">10 f(248) = 0.906899\n",
      ">11 f(239) = 0.906899\n",
      ">12 f(244) = 0.906899\n",
      ">13 f(252) = 0.906899\n",
      ">14 f(246) = 0.906899\n",
      ">15 f(251) = 0.906899\n",
      ">16 f(248) = 0.906899\n",
      ">17 f(242) = 0.906899\n",
      ">18 f(247) = 0.906899\n",
      ">19 f(246) = 0.906899\n",
      ">20 f(250) = 0.906899\n",
      ">21 f(254) = 0.906899\n",
      ">22 f(247) = 0.906899\n",
      ">23 f(246) = 0.906899\n",
      ">24 f(252) = 0.906899\n",
      ">25 f(251) = 0.906899\n",
      ">26 f(245) = 0.906899\n",
      ">27 f(250) = 0.906899\n",
      ">28 f(246) = 0.906899\n",
      ">29 f(252) = 0.906899\n",
      ">30 f(252) = 0.906899\n",
      ">31 f(245) = 0.906899\n",
      ">32 f(244) = 0.906899\n",
      ">33 f(248) = 0.906899\n",
      ">34 f(241) = 0.906899\n",
      ">35 f(246) = 0.906899\n",
      ">36 f(247) = 0.906899\n",
      ">37 f(252) = 0.906899\n",
      ">38 f(249) = 0.906899\n",
      ">39 f(250) = 0.906899\n",
      ">40 f(251) = 0.906899\n",
      ">41 f(249) = 0.906899\n",
      ">42 f(256) = 0.906899\n",
      ">43 f(249) = 0.906899\n",
      ">44 f(254) = 0.907100\n",
      ">45 f(251) = 0.907100\n",
      ">46 f(252) = 0.907100\n",
      ">47 f(252) = 0.907100\n",
      ">48 f(252) = 0.907100\n",
      ">49 f(254) = 0.907100\n",
      ">50 f(256) = 0.907100\n",
      ">51 f(259) = 0.907100\n",
      ">52 f(253) = 0.907900\n",
      ">53 f(249) = 0.907900\n",
      ">54 f(251) = 0.907900\n",
      ">55 f(249) = 0.907900\n",
      ">56 f(251) = 0.909399\n",
      ">57 f(255) = 0.909399\n",
      ">58 f(250) = 0.909399\n",
      ">59 f(252) = 0.912599\n",
      ">60 f(253) = 0.912599\n",
      ">61 f(246) = 0.912599\n",
      ">62 f(250) = 0.912599\n",
      ">63 f(253) = 0.912599\n",
      ">64 f(253) = 0.912599\n",
      ">65 f(246) = 0.912599\n",
      ">66 f(256) = 0.912599\n",
      ">67 f(247) = 0.912599\n",
      ">68 f(250) = 0.912599\n",
      ">69 f(254) = 0.912599\n",
      ">70 f(256) = 0.912599\n",
      ">71 f(246) = 0.914200\n",
      ">72 f(245) = 0.914200\n",
      ">73 f(244) = 0.914200\n",
      ">74 f(248) = 0.914200\n",
      ">75 f(248) = 0.914200\n",
      ">76 f(246) = 0.914200\n",
      ">77 f(246) = 0.914200\n",
      ">78 f(251) = 0.914200\n",
      ">79 f(248) = 0.914200\n",
      ">80 f(242) = 0.914200\n",
      ">81 f(248) = 0.917299\n",
      ">82 f(246) = 0.917299\n",
      ">83 f(248) = 0.917299\n",
      ">84 f(249) = 0.917299\n",
      ">85 f(248) = 0.917299\n",
      ">86 f(255) = 0.917299\n",
      ">87 f(248) = 0.917299\n",
      ">88 f(247) = 0.917299\n",
      ">89 f(250) = 0.917299\n",
      ">90 f(248) = 0.917299\n",
      ">91 f(249) = 0.917299\n",
      ">92 f(252) = 0.917299\n",
      ">93 f(249) = 0.917299\n",
      ">94 f(248) = 0.917299\n",
      ">95 f(247) = 0.917299\n",
      ">96 f(242) = 0.917299\n",
      ">97 f(250) = 0.917299\n",
      ">98 f(245) = 0.917299\n",
      ">99 f(245) = 0.917299\n",
      ">100 f(243) = 0.917299\n"
     ]
    }
   ],
   "source": [
    "# define the total iterations\n",
    "n_iter = 100\n",
    "\n",
    "# probability of including/excluding a column\n",
    "p_mut = 10.0 / 500.0\n",
    "\n",
    "# perform the hill climbing search\n",
    "subset, score = hillclimbing(X, y, objective, n_iter, p_mut)"
   ]
  },
  {
   "cell_type": "markdown",
   "metadata": {},
   "source": [
    "At the end of the run, we will convert the boolean sequence into column indexes (<font color='brown'>so we could fit a final model if we wanted</font>) and report the performance of the best subsequence."
   ]
  },
  {
   "cell_type": "code",
   "execution_count": 22,
   "metadata": {},
   "outputs": [
    {
     "name": "stdout",
     "output_type": "stream",
     "text": [
      "Done!\n",
      "Best: f(248) = 0.917299\n"
     ]
    }
   ],
   "source": [
    "# convert into column indexes\n",
    "ix = [i for i, x in enumerate(subset) if x]\n",
    "print('Done!')\n",
    "print('Best: f(%d) = %f' % (len(ix), score))"
   ]
  },
  {
   "cell_type": "markdown",
   "metadata": {},
   "source": [
    "In this case, we can see that the best performance was achieved with a subset of 248 features and a classification accuracy of approximately 91.7 percent. This is better than a model evaluated on all input features.\n",
    "\n",
    "Although the result is better, **we know we can do a lot better, perhaps with tuning of the hyperparameters of the optimization algorithm or perhaps by using an alternate optimization algorithm.**"
   ]
  }
 ],
 "metadata": {
  "kernelspec": {
   "display_name": "Python 3",
   "language": "python",
   "name": "python3"
  },
  "language_info": {
   "codemirror_mode": {
    "name": "ipython",
    "version": 3
   },
   "file_extension": ".py",
   "mimetype": "text/x-python",
   "name": "python",
   "nbconvert_exporter": "python",
   "pygments_lexer": "ipython3",
   "version": "3.8.7"
  }
 },
 "nbformat": 4,
 "nbformat_minor": 4
}
