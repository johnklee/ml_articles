{
 "cells": [
  {
   "cell_type": "markdown",
   "metadata": {},
   "source": [
    "## <font color='darkblue'>Preface</font>\n",
    "([article source](https://machinelearningmastery.com/stacking-ensemble-for-deep-learning-neural-networks/)) <font size='3ptx'>**Model averaging is an ensemble technique where multiple sub-models contribute equally to a combined prediction.**</font>\n",
    "\n",
    "Model averaging can be improved by weighting the contributions of each sub-model to the combined prediction by the expected performance of the submodel. This can be extended further by training an entirely new model to learn how to best combine the contributions from each submodel. This approach is called [**stacked generalization**](https://en.wikipedia.org/wiki/Ensemble_learning#Stacking), or stacking for short, and can result in better predictive performance than any single contributing model.\n",
    "\n",
    "In this tutorial, you will discover how to develop a stacked generalization ensemble for deep learning neural networks. After completing this tutorial, you will know:\n",
    "* Stacked generalization is an ensemble method where a new model learns how to best combine the predictions from multiple  existing models.\n",
    "* How to develop a stacking model using neural networks as a submodel and a scikit-learn classifier as the meta-learner.\n",
    "* How to develop a stacking model where neural network sub-models are embedded in a larger stacking ensemble model for training and prediction."
   ]
  },
  {
   "cell_type": "markdown",
   "metadata": {},
   "source": [
    "### <font color='darkgreen'>Tutorial Overview</font>\n",
    "This tutorial is divided into six parts; they are:\n",
    "1. <font size='3ptx'>[**Stacked Generalization Ensemble**](#sect1)</font>\n",
    "2. <font size='3ptx'>[**Multi-Class Classification Problem**](#sect2)</font>\n",
    "3. <font size='3ptx'>[**Multilayer Perceptron Model**](#sect3)</font>\n",
    "4. <font size='3ptx'>[**Train and Save Sub-Models**](#sect4)</font>\n",
    "5. Separate Stacking Model\n",
    "6. Integrated Stacking Model"
   ]
  },
  {
   "cell_type": "markdown",
   "metadata": {},
   "source": [
    "<a id='sect1'></a>\n",
    "## <font color='darkblue'>Stacked Generalization Ensemble</font>\n",
    "<font size='3ptx'>**A model averaging ensemble combines the predictions from multiple trained models.**</font>\n",
    "\n",
    "A limitation of this approach is that each model contributes the same amount to the ensemble prediction, regardless of how well the model performed. A variation of this approach, called a weighted average ensemble, weighs the contribution of each ensemble member by the trust or expected performance of the model on a holdout dataset. This allows well-performing models to contribute more and less-well-performing models to contribute less. The weighted average ensemble provides an improvement over the model average ensemble.\n",
    "\n",
    "A further generalization of this approach is replacing the linear weighted sum (<font color='brown'>e.g. linear regression</font>) model used to combine the predictions of the sub-models with any learning algorithm. This approach is called stacked generalization, or stacking for short.\n",
    "\n",
    "**In stacking, an algorithm takes the outputs of sub-models as input and attempts to learn how to best combine the input predictions to make a better output prediction.**\n",
    "\n",
    "It may be helpful to think of the stacking procedure as having two levels: level 0 and level 1.\n",
    "* **Level 0:** The level 0 data is the training dataset inputs and level 0 models learn to make predictions from this data.\n",
    "* **Level 1:** The level 1 data takes the output of the level 0 models as input and the single level 1 model, or meta-learner, learns to make predictions from this data.\n",
    "\n",
    "> Stacked generalization works by deducing the biases of the generalizer(s) with respect to a provided learning set. This deduction proceeds by generalizing in a second space whose inputs are (for example) the guesses of the original generalizers when taught with part of the learning set and trying to guess the rest of it, and whose output is (for example) the correct guess. <br/><br/>\n",
    "> [**— Stacked generalization, 1992.**](https://www.sciencedirect.com/science/article/pii/S0893608005800231)\n",
    "\n",
    "Unlike a weighted average ensemble, a stacked generalization ensemble can use the set of predictions as a context and conditionally decide to weigh the input predictions differently, potentially resulting in better performance.\n",
    "\n",
    "Interestingly, although stacking is described as an ensemble learning method with two or more level 0 models, it can be used in the case where there is only a single level 0 model. In this case, the level 1, or meta-learner, model learns to correct the predictions from the level 0 model.\n",
    "> … although it can also be used when one has only a single generalizer, as a technique to improve that single generalizer <br/><br/>\n",
    "> [**— Stacked generalization, 1992.**](https://www.sciencedirect.com/science/article/pii/S0893608005800231)\n",
    "\n",
    "**It is important that the meta-learner is trained on a separate dataset to the examples used to train the level 0 models to avoid [overfitting](https://en.wikipedia.org/wiki/Overfitting).**\n",
    "\n",
    "A simple way that this can be achieved is by splitting the training dataset into a train and validation set. The level 0 models are then trained on the train set. The level 1 model is then trained using the validation set, where the raw inputs are first fed through the level 0 models to get predictions that are used as inputs to the level 1 model.\n",
    "\n",
    "A limitation of the hold-out validation set approach to training a stacking model is that level 0 and level 1 models are not trained on the full dataset.\n",
    "\n",
    "A more sophisticated approach to training a stacked model involves using k-fold cross-validation to develop the training dataset for the meta-learner model. Each level 0 model is trained using k-fold cross-validation (<font color='brown'>or even leave-one-out cross-validation for maximum effect</font>); the models are then discarded, but the predictions are retained. This means for each model, there are predictions made by a version of the model that was not trained on those examples, e.g. like having holdout examples, but in this case for the entire training dataset.\n",
    "\n",
    "The predictions are then used as inputs to train the meta-learner. Level 0 models are then trained on the entire training dataset and together with the meta-learner, the stacked model can be used to make predictions on new data.\n",
    "\n",
    "In practice, it is common to use different algorithms to prepare each of the level 0 models, to provide a diverse set of predictions.\n",
    "> … stacking is not normally used to combine models of the same type […] it is applied to models built by different learning algorithms. <br/><br/>\n",
    "> [**— Practical Machine Learning Tools and Techniques, Second Edition, 2005.**](https://amzn.to/2pBxIPN)\n",
    "\n",
    "It is also common to use a simple linear model to combine the predictions. **Because use of a linear model is common, stacking is more recently referred to as “<font color='darkblue'>model blending</font>” or simply “blending,” especially in machine learning competitions.**\n",
    "> … the multi-response least squares linear regression technique should be employed as the high-level generalizer. This technique provides a method of combining level-0 models’ confidence <br/><br/>\n",
    "> [**— Issues in Stacked Generalization, 1999.**](https://www.jair.org/index.php/jair/article/view/10228)\n",
    "\n",
    "A stacked generalization ensemble can be developed for regression and classification problems. In the case of classification problems, better results have been seen when using the prediction of class probabilities as input to the meta-learner instead of class labels.\n",
    "> … class probabilities should be used instead of the single predicted class as input attributes for higher-level learning. The class probabilities serve as the confidence measure for the prediction made. <br/><br/>\n",
    "> [**— Issues in Stacked Generalization, 1999.**](https://www.jair.org/index.php/jair/article/view/10228)\n",
    "\n",
    "Now that we are familiar with stacked generalization, we can work through a case study of developing a stacked deep learning model."
   ]
  },
  {
   "cell_type": "markdown",
   "metadata": {},
   "source": [
    "<a id='sect2'></a>\n",
    "## <font color='darkblue'>Multi-Class Classification Problem</font>\n",
    "We will use a small multi-class classification problem as the basis to demonstrate the stacking ensemble.\n",
    "\n",
    "The scikit-learn class provides the [make_blobs() function](http://scikit-learn.org/stable/modules/generated/sklearn.datasets.make_blobs.html) that can be used to create a multi-class classification problem with the prescribed number of samples, input variables, classes, and variance of samples within a class.\n",
    "\n",
    "The problem has two input variables (<font color='brown'>to represent the x and y coordinates of the points</font>) and a standard deviation of 2.0 for points within each group. We will use the same random state (<font color='brown'>seed for the pseudorandom number generator</font>) to ensure that we always get the same data points."
   ]
  },
  {
   "cell_type": "code",
   "execution_count": 1,
   "metadata": {},
   "outputs": [],
   "source": [
    "from sklearn.datasets import make_blobs\n",
    "from matplotlib import pyplot\n",
    "from pandas import DataFrame\n",
    "from keras.utils import to_categorical\n",
    "from keras.models import Sequential\n",
    "from keras.layers import Dense\n",
    "from matplotlib import pyplot\n",
    "\n",
    "RANDOM_STATE=2"
   ]
  },
  {
   "cell_type": "code",
   "execution_count": 2,
   "metadata": {},
   "outputs": [],
   "source": [
    "# generate 2d classification dataset\n",
    "X, y = make_blobs(\n",
    "    n_samples=1000,\n",
    "    centers=3,\n",
    "    n_features=2,\n",
    "    cluster_std=2,\n",
    "    random_state=RANDOM_STATE\n",
    ")"
   ]
  },
  {
   "cell_type": "markdown",
   "metadata": {},
   "source": [
    "The results are the input and output elements of a dataset that we can model.\n",
    "\n",
    "In order to get a feeling for the complexity of the problem, we can graph each point on a two-dimensional scatter plot and color each point by class value:"
   ]
  },
  {
   "cell_type": "code",
   "execution_count": 3,
   "metadata": {},
   "outputs": [
    {
     "data": {
      "image/png": "[encoded data removed]",
      "text/plain": [
       "<Figure size 432x288 with 1 Axes>"
      ]
     },
     "metadata": {
      "needs_background": "light"
     },
     "output_type": "display_data"
    }
   ],
   "source": [
    "# scatter plot, dots colored by class value\n",
    "df = DataFrame(dict(x=X[:,0], y=X[:,1], label=y))\n",
    "colors = {0:'red', 1:'blue', 2:'green'}\n",
    "fig, ax = pyplot.subplots()\n",
    "grouped = df.groupby('label')\n",
    "for key, group in grouped:\n",
    "    group.plot(\n",
    "        ax=ax,\n",
    "        kind='scatter',\n",
    "        x='x', y='y',\n",
    "        label=key,\n",
    "        color=colors[key]\n",
    "    )\n",
    "    \n",
    "pyplot.show()"
   ]
  },
  {
   "cell_type": "markdown",
   "metadata": {},
   "source": [
    "Running the example creates a scatter plot of the entire dataset. We can see that the standard deviation of 2.0 means that the classes are not linearly separable (separable by a line) causing many ambiguous points.\n",
    "\n",
    "**This is desirable as it means that the problem is non-trivial and will allow a neural network model to find many different “good enough” candidate solutions, resulting in a high variance.**"
   ]
  },
  {
   "cell_type": "markdown",
   "metadata": {},
   "source": [
    "<a id='sect3'></a>\n",
    "## <font color='darkblue'>Multilayer Perceptron Model</font>\n",
    "Before we define a model, we need to contrive a problem that is appropriate for the stacking ensemble.\n",
    "\n",
    "In our problem, the training dataset is relatively small. Specifically, there is a 10:1 ratio of examples in the training dataset to the holdout dataset. This mimics a situation where we may have a vast number of unlabeled examples and a small number of labeled examples with which to train a model.\n",
    "\n",
    "We will create 1,100 data points from the blobs problem. **The model will be trained on the first 100 points and the remaining 1,000 will be held back in a test dataset, unavailable to the model.**\n",
    "\n",
    "The problem is a multi-class classification problem, and we will model it using a softmax activation function on the output layer. This means that the model will predict a vector with three elements with the probability that the sample belongs to each of the three classes. Therefore, we must one hot encode the class values before we split the rows into the train and test datasets. We can do this using the Keras [to_categorical()](https://keras.io/api/utils/python_utils/#tocategorical-function) function."
   ]
  },
  {
   "cell_type": "code",
   "execution_count": 4,
   "metadata": {},
   "outputs": [
    {
     "name": "stdout",
     "output_type": "stream",
     "text": [
      "(100, 2) (1000, 2)\n"
     ]
    }
   ],
   "source": [
    "# generate 2d classification dataset\n",
    "X, y = make_blobs(\n",
    "    n_samples=1100, \n",
    "    centers=3,\n",
    "    n_features=2,\n",
    "    cluster_std=2,\n",
    "    random_state=2\n",
    ")\n",
    "\n",
    "# one hot encode output variable\n",
    "y = to_categorical(y)\n",
    "\n",
    "# split into train and test\n",
    "n_train = 100\n",
    "trainX, testX = X[:n_train, :], X[n_train:, :]\n",
    "trainy, testy = y[:n_train], y[n_train:]\n",
    "print(trainX.shape, testX.shape)"
   ]
  },
  {
   "cell_type": "code",
   "execution_count": 5,
   "metadata": {},
   "outputs": [
    {
     "data": {
      "text/plain": [
       "array([[0., 0., 1.],\n",
       "       [1., 0., 0.],\n",
       "       [0., 0., 1.],\n",
       "       [0., 1., 0.]], dtype=float32)"
      ]
     },
     "execution_count": 5,
     "metadata": {},
     "output_type": "execute_result"
    }
   ],
   "source": [
    "y[:4]"
   ]
  },
  {
   "cell_type": "markdown",
   "metadata": {},
   "source": [
    "Next, we can define and combine the model.\n",
    "\n",
    "The model will expect samples with two input variables. The model then has a single hidden layer with 25 nodes and a [**rectified linear activation function**](https://keras.io/api/layers/activations/#relu-function), then an output layer with three nodes to predict the probability of each of the three classes and a softmax activation function.\n",
    "\n",
    "Because the problem is multi-class, we will use the categorical cross entropy loss function to optimize the model and the efficient [Adam flavor of stochastic gradient descent](https://machinelearningmastery.com/adam-optimization-algorithm-for-deep-learning/)."
   ]
  },
  {
   "cell_type": "code",
   "execution_count": 6,
   "metadata": {},
   "outputs": [],
   "source": [
    "# define model\n",
    "model = Sequential()\n",
    "model.add(Dense(25, input_dim=2, activation='relu'))\n",
    "model.add(Dense(3, activation='softmax'))\n",
    "model.compile(loss='categorical_crossentropy', optimizer='adam', metrics=['accuracy'])"
   ]
  },
  {
   "cell_type": "markdown",
   "metadata": {},
   "source": [
    "The model is fit for 500 training epochs and we will evaluate the model each epoch on the test set, using the test set as a validation set."
   ]
  },
  {
   "cell_type": "code",
   "execution_count": 7,
   "metadata": {},
   "outputs": [],
   "source": [
    "# fit model\n",
    "history = model.fit(\n",
    "    trainX, \n",
    "    trainy, \n",
    "    validation_data=(testX, testy), \n",
    "    epochs=500, \n",
    "    verbose=0\n",
    ")"
   ]
  },
  {
   "cell_type": "markdown",
   "metadata": {},
   "source": [
    "At the end of the run, we will evaluate the performance of the model on the train and test sets:"
   ]
  },
  {
   "cell_type": "code",
   "execution_count": 8,
   "metadata": {},
   "outputs": [
    {
     "name": "stdout",
     "output_type": "stream",
     "text": [
      "Train: 0.840, Test: 0.804\n"
     ]
    }
   ],
   "source": [
    "# evaluate the model\n",
    "_, train_acc = model.evaluate(trainX, trainy, verbose=0)\n",
    "_, test_acc = model.evaluate(testX, testy, verbose=0)\n",
    "print('Train: %.3f, Test: %.3f' % (train_acc, test_acc))"
   ]
  },
  {
   "cell_type": "markdown",
   "metadata": {},
   "source": [
    "Then finally, we will plot learning curves of the model accuracy over each training epoch on both the training and validation datasets."
   ]
  },
  {
   "cell_type": "code",
   "execution_count": 9,
   "metadata": {},
   "outputs": [
    {
     "data": {
      "image/png": "[encoded data removed]",
      "text/plain": [
       "<Figure size 432x288 with 1 Axes>"
      ]
     },
     "metadata": {
      "needs_background": "light"
     },
     "output_type": "display_data"
    }
   ],
   "source": [
    "# learning curves of model accuracy\n",
    "pyplot.plot(history.history['accuracy'], label='train')\n",
    "pyplot.plot(history.history['val_accuracy'], label='test')\n",
    "pyplot.legend()\n",
    "pyplot.show()"
   ]
  },
  {
   "cell_type": "markdown",
   "metadata": {},
   "source": [
    "In this case, we can see that **the model achieved about 85% accuracy on the training dataset, which we know is optimistic, and about 80% on the test dataset**, which we would expect to be more realistic.\n",
    "\n",
    "We can now look at using instances of this model as part of a stacking ensemble."
   ]
  },
  {
   "cell_type": "markdown",
   "metadata": {},
   "source": [
    "<a id='sect4'></a>\n",
    "## <font color='darkblue'>Train and Save Sub-Models</font>\n",
    "<font size='3ptx'>**To keep this example simple, we will use multiple instances of the same model as level-0 or sub-models in the stacking ensemble. We will also use a holdout validation dataset to train the level-1 or meta-learner in the ensemble.**</font>\n",
    "\n",
    "A more advanced example may use different types of MLP models (<font color='brown'>deeper, wider, etc.</font>) as sub-models and train the meta-learner using [k-fold cross-validation](https://machinelearningmastery.com/k-fold-cross-validation/). In this section, we will train multiple sub-models and [save them to file for later use](https://machinelearningmastery.com/save-load-keras-deep-learning-models/) in our stacking ensembles.\n",
    "\n",
    "The first step is to create a function that will define and fit an MLP model on the training dataset."
   ]
  },
  {
   "cell_type": "code",
   "execution_count": 59,
   "metadata": {},
   "outputs": [],
   "source": [
    "import os\n",
    "import numpy as np\n",
    "import shutil\n",
    "from keras.models import load_model\n",
    "from keras.layers.merge import concatenate\n",
    "from keras.utils import plot_model\n",
    "from keras.models import Model\n",
    "from keras.layers import Input\n",
    "from keras.layers import Dense\n",
    "from numpy import dstack\n",
    "from sklearn.linear_model import LogisticRegression\n",
    "from sklearn.metrics import accuracy_score\n",
    "\n",
    "SUB_MODELS_PATH = \"models\""
   ]
  },
  {
   "cell_type": "code",
   "execution_count": 10,
   "metadata": {},
   "outputs": [],
   "source": [
    "# fit model on dataset\n",
    "def fit_model(trainX, trainy):\n",
    "    # define model\n",
    "    model = Sequential()\n",
    "    model.add(Dense(25, input_dim=2, activation='relu'))\n",
    "    model.add(Dense(3, activation='softmax'))\n",
    "    model.compile(loss='categorical_crossentropy', optimizer='adam', metrics=['accuracy'])\n",
    "    # fit model\n",
    "    model.fit(trainX, trainy, epochs=500, verbose=0)\n",
    "    return model"
   ]
  },
  {
   "cell_type": "markdown",
   "metadata": {},
   "source": [
    "Next, we can create a sub-directory to store the models.\n",
    "\n",
    "Note, if the directory already exists, you may have to delete it when re-running this code."
   ]
  },
  {
   "cell_type": "code",
   "execution_count": 16,
   "metadata": {},
   "outputs": [],
   "source": [
    "# create directory for models\n",
    "\n",
    "if os.path.isdir(SUB_MODELS_PATH):\n",
    "    shutil.rmtree(SUB_MODELS_PATH)\n",
    "    \n",
    "os.makedirs('models')"
   ]
  },
  {
   "cell_type": "markdown",
   "metadata": {},
   "source": [
    "Finally, we can create multiple instances of the MLP and save each to the \"<font color='olive'>models/</font>\" subdirectory with a unique filename. **In this case, we will create five sub-models, but you can experiment with a different number of models and see how it impacts model performance.**"
   ]
  },
  {
   "cell_type": "code",
   "execution_count": 17,
   "metadata": {},
   "outputs": [
    {
     "name": "stdout",
     "output_type": "stream",
     "text": [
      ">Saved models/model_1.h5\n",
      ">Saved models/model_2.h5\n",
      ">Saved models/model_3.h5\n",
      ">Saved models/model_4.h5\n",
      ">Saved models/model_5.h5\n"
     ]
    }
   ],
   "source": [
    "# fit and save models\n",
    "n_members = 5\n",
    "for i in range(n_members):\n",
    "    # fit model\n",
    "    model = fit_model(trainX, trainy)\n",
    "    # save model\n",
    "    filename = 'models/model_' + str(i + 1) + '.h5'\n",
    "    model.save(filename)\n",
    "    print('>Saved %s' % filename)"
   ]
  },
  {
   "cell_type": "markdown",
   "metadata": {},
   "source": [
    "Running the example creates the “<font color='olive'>models/</font>” subfolder and saves five trained models with unique filenames. **Next, we can look at training a meta-learner to make best use of the predictions from these submodels.**"
   ]
  },
  {
   "cell_type": "markdown",
   "metadata": {},
   "source": [
    "## <font color='darkblue'>Separate Stacking Model</font>\n",
    "<font size='3ptx'>**We can now train a meta-learner that will best combine the predictions from the sub-models and ideally perform better than any single sub-model.**</font>\n",
    "\n",
    "The first step is to load the saved models. We can use the [load_model()](https://www.tensorflow.org/api_docs/python/tf/keras/models/load_model) Keras function and create a Python list of loaded models."
   ]
  },
  {
   "cell_type": "code",
   "execution_count": 23,
   "metadata": {},
   "outputs": [],
   "source": [
    "# load models from file\n",
    "def load_all_models(n_models):\n",
    "    all_models = list()\n",
    "    for i in range(n_models):\n",
    "        # define filename for this ensemble\n",
    "        filename = 'models/model_' + str(i + 1) + '.h5'\n",
    "        # load model from file\n",
    "        model = load_model(filename)\n",
    "        # add to list of members\n",
    "        all_models.append(model)\n",
    "        print('>loaded %s' % filename)\n",
    "    return all_models"
   ]
  },
  {
   "cell_type": "markdown",
   "metadata": {},
   "source": [
    "We can call this function to load our five saved models from the “<font color='olive'>models/</font>” sub-directory."
   ]
  },
  {
   "cell_type": "code",
   "execution_count": 24,
   "metadata": {},
   "outputs": [
    {
     "name": "stdout",
     "output_type": "stream",
     "text": [
      ">loaded models/model_1.h5\n",
      ">loaded models/model_2.h5\n",
      ">loaded models/model_3.h5\n",
      ">loaded models/model_4.h5\n",
      ">loaded models/model_5.h5\n",
      "Loaded 5 models\n"
     ]
    }
   ],
   "source": [
    "# load all models\n",
    "n_members = 5\n",
    "members = load_all_models(n_members)\n",
    "print('Loaded %d models' % len(members))"
   ]
  },
  {
   "cell_type": "markdown",
   "metadata": {},
   "source": [
    "**It would be useful to know how well the single models perform on the test dataset as we would expect a stacking model to perform better.** We can easily evaluate each single model on the training dataset and establish a baseline of performance"
   ]
  },
  {
   "cell_type": "code",
   "execution_count": 52,
   "metadata": {},
   "outputs": [
    {
     "name": "stdout",
     "output_type": "stream",
     "text": [
      "Model Accuracy: 0.797\n",
      "Model Accuracy: 0.804\n",
      "Model Accuracy: 0.814\n",
      "Model Accuracy: 0.813\n",
      "Model Accuracy: 0.808\n"
     ]
    }
   ],
   "source": [
    "# evaluate standalone models on test dataset\n",
    "best_perf_of_single_member = 0\n",
    "for model in members:\n",
    "    #testy_enc = to_categorical(testy)\n",
    "    _, acc = model.evaluate(testX, testy, verbose=0)\n",
    "    print('Model Accuracy: %.3f' % acc)\n",
    "    if acc > best_perf_of_single_member:\n",
    "        best_perf_of_single_member = acc"
   ]
  },
  {
   "cell_type": "markdown",
   "metadata": {},
   "source": [
    "Next, we can train our meta-learner. This requires two steps:\n",
    "* Prepare a training dataset for the meta-learner.\n",
    "* Use the prepared training dataset to fit a meta-learner model.\n",
    "\n",
    "**We will prepare a training dataset for the meta-learner by providing examples from the test set to each of the submodels and collecting the predictions**. In this case, each model will output three predictions for each example for the probabilities that a given example belongs to each of the three classes. Therefore, the 1,000 examples in the test set will result in five arrays with the shape \\[1000, 3\\].\n",
    "\n",
    "We can combine these arrays into a three-dimensional array with the shape \\[1000, 5, 3\\] by using the [dstack()](https://numpy.org/doc/stable/reference/generated/numpy.dstack.html) NumPy function that will stack each new set of predictions.\n",
    "\n",
    "As input for a new model, we will require 1,000 examples with some number of features. Given that we have five models and each model makes three predictions per example, then we would have 15 (3 x 5) features for each example provided to the submodels. We can transform the \\[1000, 5, 3\\] shaped predictions from the sub-models into a \\[1000, 15\\] shaped array to be used to train a meta-learner using the reshape() NumPy function and flattening the final two dimensions. The <font color='blue'>stacked_dataset()</font> function implements this step."
   ]
  },
  {
   "cell_type": "code",
   "execution_count": 28,
   "metadata": {},
   "outputs": [],
   "source": [
    "# create stacked model input dataset as outputs from the ensemble\n",
    "def stacked_dataset(members, inputX):\n",
    "    stackX = None\n",
    "    for model in members:\n",
    "        # make prediction\n",
    "        yhat = model.predict(inputX, verbose=0)\n",
    "        # stack predictions into [rows, members, probabilities]\n",
    "        if stackX is None:\n",
    "            stackX = yhat\n",
    "        else:\n",
    "            stackX = dstack((stackX, yhat))\n",
    "            \n",
    "    print(f\"stackX with shape as {stackX.shape}\")\n",
    "    # flatten predictions to [rows, members x probabilities]\n",
    "    stackX = stackX.reshape((stackX.shape[0], stackX.shape[1]*stackX.shape[2]))\n",
    "    print(f\"Flatterned stackX with shape as {stackX.shape}\")\n",
    "    return stackX"
   ]
  },
  {
   "cell_type": "markdown",
   "metadata": {},
   "source": [
    "Once prepared, we can use this input dataset along with the output, or y part, of the test set to train a new meta-learner.\n",
    "\n",
    "In this case, we will train a simple logistic regression algorithm from the scikit-learn library.\n",
    "\n",
    "[**Logistic regression**](https://machinelearningmastery.com/logistic-regression-for-machine-learning/) only supports binary classification, although the implementation of logistic regression in scikit-learn in the [**LogisticRegression**](http://scikit-learn.org/stable/modules/generated/sklearn.linear_model.LogisticRegression.html) class supports multi-class classification (<font color='brown'>more than two classes</font>) using a one-vs-rest scheme. The function <font color='blue'>fit_stacked_model()</font> below will prepare the training dataset for the meta-learner by calling the <font color='blue'>stacked_dataset()</font> function, then fit a logistic regression model that is then returned."
   ]
  },
  {
   "cell_type": "code",
   "execution_count": 39,
   "metadata": {},
   "outputs": [
    {
     "data": {
      "text/plain": [
       "array([1., 0., 0.], dtype=float32)"
      ]
     },
     "execution_count": 39,
     "metadata": {},
     "output_type": "execute_result"
    }
   ],
   "source": [
    "testy[0]"
   ]
  },
  {
   "cell_type": "code",
   "execution_count": 38,
   "metadata": {},
   "outputs": [
    {
     "data": {
      "text/plain": [
       "(1000, 2)"
      ]
     },
     "execution_count": 38,
     "metadata": {},
     "output_type": "execute_result"
    }
   ],
   "source": [
    "testX.shape"
   ]
  },
  {
   "cell_type": "code",
   "execution_count": 45,
   "metadata": {},
   "outputs": [],
   "source": [
    "# fit a model based on the outputs from the ensemble members\n",
    "def fit_stacked_model(members, inputX, inputy):\n",
    "    # create dataset using ensemble\n",
    "    stackedX = stacked_dataset(members, inputX)\n",
    "    # fit standalone model\n",
    "    model = LogisticRegression()\n",
    "    inputy_flattern = np.argmax(inputy, axis=1)\n",
    "    model.fit(stackedX, inputy_flattern)\n",
    "    return model"
   ]
  },
  {
   "cell_type": "markdown",
   "metadata": {},
   "source": [
    "We can call this function and pass in the list of loaded models and the training dataset."
   ]
  },
  {
   "cell_type": "code",
   "execution_count": 46,
   "metadata": {},
   "outputs": [
    {
     "name": "stdout",
     "output_type": "stream",
     "text": [
      "stackX with shape as (1000, 3, 5)\n",
      "Flatterned stackX with shape as (1000, 15)\n"
     ]
    }
   ],
   "source": [
    "# fit stacked model using the ensemble\n",
    "model = fit_stacked_model(members, testX, testy)"
   ]
  },
  {
   "cell_type": "markdown",
   "metadata": {},
   "source": [
    "Once fit, we can use the stacked model, including the members and the meta-learner, to make predictions on new data.\n",
    "\n",
    "This can be achieved by first using the sub-models to make an input dataset for the meta-learner, e.g. by calling the <font color='blue'>stacked_dataset()</font> function, then making a prediction with the meta-learner. The <font color='blue'>stacked_prediction()</font> function below implements this."
   ]
  },
  {
   "cell_type": "code",
   "execution_count": 47,
   "metadata": {},
   "outputs": [],
   "source": [
    "# make a prediction with the stacked model\n",
    "def stacked_prediction(members, model, inputX):\n",
    "    # create dataset using ensemble\n",
    "    stackedX = stacked_dataset(members, inputX)\n",
    "    \n",
    "    # make a prediction\n",
    "    yhat = model.predict(stackedX)\n",
    "    return yhat"
   ]
  },
  {
   "cell_type": "markdown",
   "metadata": {},
   "source": [
    "We can use this function to make a prediction on new data; in this case, we can demonstrate it by making predictions on the test set."
   ]
  },
  {
   "cell_type": "code",
   "execution_count": 51,
   "metadata": {},
   "outputs": [
    {
     "name": "stdout",
     "output_type": "stream",
     "text": [
      "stackX with shape as (1000, 3, 5)\n",
      "Flatterned stackX with shape as (1000, 15)\n",
      "Stacked Test Accuracy: 0.829\n"
     ]
    }
   ],
   "source": [
    "# evaluate model on test set\n",
    "yhat = stacked_prediction(members, model, testX)\n",
    "testy_flattern = np.argmax(testy, axis=1)\n",
    "acc = accuracy_score(testy_flattern, yhat)\n",
    "print('Stacked Test Accuracy: %.3f' % acc)"
   ]
  },
  {
   "cell_type": "markdown",
   "metadata": {},
   "source": [
    "We can see that in this case, the meta-learner out-performed each of the sub-models on the test set, achieving an accuracy of about 82.9% (Better than the best performance among single member as 81.4%)."
   ]
  },
  {
   "cell_type": "markdown",
   "metadata": {},
   "source": [
    "## <font color='darkblue'>Integrated Stacking Model</font>\n",
    "<font size='3ptx'>**When using neural networks as sub-models, it may be desirable to use a neural network as a meta-learner.**</font>\n",
    "\n",
    "Specifically, the sub-networks can be embedded in a larger multi-headed neural network that then learns how to best combine the predictions from each input sub-model. It allows the stacking ensemble to be treated as a single large model.\n",
    "\n",
    "The benefit of this approach is that the outputs of the submodels are provided directly to the meta-learner. **Further, it is also possible to update the weights of the submodels in conjunction with the meta-learner model, if this is desirable.**\n",
    "\n",
    "This can be achieved using the [**Keras functional interface**](https://machinelearningmastery.com/keras-functional-api-deep-learning/) for developing models.\n",
    "\n",
    "After the models are loaded as a list, a larger stacking ensemble model can be defined where each of the loaded models is used as a separate input-head to the model. This requires that all of the layers in each of the loaded models be marked as not trainable so the weights cannot be updated when the new larger model is being trained. Keras also requires that each layer has a unique name, therefore the names of each layer in each of the loaded models will have to be updated to indicate to which ensemble member they belong.\n",
    "```python\n",
    "# update all layers in all models to not be trainable\n",
    "for i in range(len(members)):\n",
    "\tmodel = members[i]\n",
    "\tfor layer in model.layers:\n",
    "\t\t# make not trainable\n",
    "\t\tlayer.trainable = False\n",
    "\t\t# rename to avoid 'unique layer name' issue\n",
    "\t\tlayer._name = 'ensemble_' + str(i+1) + '_' + layer.name\n",
    "```\n",
    "\n",
    "Once the sub-models have been prepared, we can define the stacking ensemble model.\n",
    "\n",
    "The input layer for each of the sub-models will be used as a separate input head to this new model. This means that `k` copies of any input data will have to be provided to the model, where `k` is the number of input models, in this case, 5.\n",
    "\n",
    "The outputs of each of the models can then be merged. In this case, we will use a simple concatenation merge, where a single 15-element vector will be created from the three class-probabilities predicted by each of the 5 models.\n",
    "\n",
    "We will then define a hidden layer to interpret this “input” to the meta-learner and an output layer that will make its own probabilistic prediction. **The <font color='blue'>define_stacked_model()</font> function below implements this and will return a stacked generalization neural network model given a list of trained sub-models.**"
   ]
  },
  {
   "cell_type": "code",
   "execution_count": 53,
   "metadata": {},
   "outputs": [],
   "source": [
    "# define stacked model from multiple member input models\n",
    "def define_stacked_model(members):\n",
    "    # update all layers in all models to not be trainable\n",
    "    for i in range(len(members)):\n",
    "        model = members[i]\n",
    "        for layer in model.layers:\n",
    "            # make not trainable\n",
    "            layer.trainable = False\n",
    "            # rename to avoid 'unique layer name' issue\n",
    "            layer._name = 'ensemble_' + str(i+1) + '_' + layer.name\n",
    "    # define multi-headed input\n",
    "    ensemble_visible = [model.input for model in members]\n",
    "    # concatenate merge output from each model\n",
    "    ensemble_outputs = [model.output for model in members]\n",
    "    merge = concatenate(ensemble_outputs)\n",
    "    hidden = Dense(10, activation='relu')(merge)\n",
    "    output = Dense(3, activation='softmax')(hidden)\n",
    "    model = Model(inputs=ensemble_visible, outputs=output)\n",
    "    # plot graph of ensemble\n",
    "    plot_model(model, show_shapes=True, to_file='model_graph.png')\n",
    "    # compile\n",
    "    model.compile(loss='categorical_crossentropy', optimizer='adam', metrics=['accuracy'])\n",
    "    return model"
   ]
  },
  {
   "cell_type": "markdown",
   "metadata": {},
   "source": [
    "A plot of the network graph is created when this function is called to give an idea of how the ensemble model fits together."
   ]
  },
  {
   "cell_type": "code",
   "execution_count": 60,
   "metadata": {},
   "outputs": [
    {
     "name": "stdout",
     "output_type": "stream",
     "text": [
      "('Failed to import pydot. You must `pip install pydot` and install graphviz (https://graphviz.gitlab.io/download/), ', 'for `pydotprint` to work.')\n"
     ]
    }
   ],
   "source": [
    "# define ensemble model\n",
    "stacked_model = define_stacked_model(members)"
   ]
  },
  {
   "cell_type": "markdown",
   "metadata": {},
   "source": [
    "Creating the plot requires that pygraphviz is installed. \n",
    "\n",
    "Once the model is defined, it can be fit. We can fit it directly on the holdout test dataset.\n",
    "\n",
    "**Because the sub-models are not trainable, their weights will not be updated during training and only the weights of the new hidden and output layer will be updated.** The <font color='blue'>fit_stacked_model()</font> function below will fit the stacking neural network model on for 300 epochs."
   ]
  },
  {
   "cell_type": "code",
   "execution_count": 64,
   "metadata": {},
   "outputs": [],
   "source": [
    "# fit a stacked model\n",
    "def fit_stacked_model(model, inputX, inputy):\n",
    "    # prepare input data\n",
    "    X = [inputX for _ in range(len(model.input))]\n",
    "    # encode output data\n",
    "    # inputy_enc = to_categorical(inputy)\n",
    "    # fit model\n",
    "    model.fit(X, inputy, epochs=300, verbose=0)"
   ]
  },
  {
   "cell_type": "markdown",
   "metadata": {},
   "source": [
    "We can call this function providing the defined stacking model and the test dataset."
   ]
  },
  {
   "cell_type": "code",
   "execution_count": 65,
   "metadata": {},
   "outputs": [],
   "source": [
    "# fit stacked model on test dataset\n",
    "fit_stacked_model(stacked_model, testX, testy)"
   ]
  },
  {
   "cell_type": "markdown",
   "metadata": {},
   "source": [
    "Once fit, we can use the new stacked model to make a prediction on new data.\n",
    "\n",
    "This is as simple as calling the <font color='blue'>predict()</font> function on the model. One minor change is that we require `k` copies of the input data in a list to be provided to the model for each of the `k` sub-models. The <font color='blue'>predict_stacked_model()</font> function below simplifies this process of making a prediction with the stacking model."
   ]
  },
  {
   "cell_type": "code",
   "execution_count": 66,
   "metadata": {},
   "outputs": [],
   "source": [
    "# make a prediction with a stacked model\n",
    "def predict_stacked_model(model, inputX):\n",
    "    # prepare input data\n",
    "    X = [inputX for _ in range(len(model.input))]\n",
    "    # make prediction\n",
    "    return model.predict(X, verbose=0)"
   ]
  },
  {
   "cell_type": "markdown",
   "metadata": {},
   "source": [
    "We can call this function to make a prediction for the test dataset and report the accuracy.\n",
    "\n",
    "We would expect the performance of the neural network learner to be better than any individual submodel and perhaps competitive with the linear meta-learner used in the previous section."
   ]
  },
  {
   "cell_type": "code",
   "execution_count": 71,
   "metadata": {},
   "outputs": [
    {
     "data": {
      "text/plain": [
       "(1000,)"
      ]
     },
     "execution_count": 71,
     "metadata": {},
     "output_type": "execute_result"
    }
   ],
   "source": [
    "yans = np.argmax(testy, axis=1)\n",
    "yans.shape"
   ]
  },
  {
   "cell_type": "code",
   "execution_count": 72,
   "metadata": {},
   "outputs": [
    {
     "name": "stdout",
     "output_type": "stream",
     "text": [
      "Stacked Test Accuracy: 0.835\n"
     ]
    }
   ],
   "source": [
    "# make predictions and evaluate\n",
    "yhat = predict_stacked_model(stacked_model, testX)\n",
    "yhat = np.argmax(yhat, axis=1)\n",
    "acc = accuracy_score(yans, yhat)\n",
    "print('Stacked Test Accuracy: %.3f' % acc)"
   ]
  },
  {
   "cell_type": "markdown",
   "metadata": {},
   "source": [
    "A larger stacking ensemble neural network is defined and fit on the test dataset, then the new model is used to make a prediction on the test dataset. We can see that, **in this case, the model achieved an accuracy of about 83.5%, out-performing the linear model from the previous section.**"
   ]
  },
  {
   "cell_type": "markdown",
   "metadata": {},
   "source": [
    "## <font color='darkblue'>Extensions</font>\n",
    "This section lists some ideas for extending the tutorial that you may wish to explore.\n",
    "* **Alternate Meta-Learner**. Update the example to use an alternate meta-learner classifier model to the logistic regression model.\n",
    "* **Single Level 0 Model**. Update the example to use a single level-0 model and compare the results.\n",
    "* **Vary Level 0 Models**. Develop a study that demonstrates the relationship between test classification accuracy and the number of sub-models used in the stacked ensemble.\n",
    "* **Cross-Validation Stacking Ensemble**. Update the example to use k-fold cross-validation to prepare the training dataset for the meta-learner model.\n",
    "* **Use Raw Input in Meta-Learner**. Update the example so that the meta-learner algorithms take the raw input data for the sample as well as the output from the sub-models and compare performance."
   ]
  },
  {
   "cell_type": "markdown",
   "metadata": {},
   "source": [
    "## <font color='darkblue'>Further Reading</font>\n",
    "This section provides more resources on the topic if you are looking to go deeper."
   ]
  },
  {
   "cell_type": "markdown",
   "metadata": {},
   "source": [
    "### <font color='darkgreen'>Books</font>\n",
    "* Section 8.8 Model Averaging and Stacking, [The Elements of Statistical Learning: Data Mining, Inference, and Prediction, Second Edition, 2016.](https://amzn.to/2DYeHAO)\n",
    "* Section 7.5 Combining multiple models, [Data Mining: Practical Machine Learning Tools and Techniques, Second Edition, 2005.](https://amzn.to/2pBxIPN)\n",
    "* Section 9.8.2 Stacked Generalization, [Neural Networks for Pattern Recognition, 1995.](https://amzn.to/2pAQAOR)"
   ]
  },
  {
   "cell_type": "markdown",
   "metadata": {},
   "source": [
    "### <font color='darkgreen'>Papers</font>\n",
    "* [Stacked generalization, 1992.](https://www.sciencedirect.com/science/article/pii/S0893608005800231)\n",
    "* [Issues in Stacked Generalization, 1999.](https://www.jair.org/index.php/jair/article/view/10228)"
   ]
  },
  {
   "cell_type": "markdown",
   "metadata": {},
   "source": [
    "### <font color='darkgreen'>API</font>\n",
    "* [Getting started with the Keras Sequential model](https://keras.io/getting-started/sequential-model-guide/)\n",
    "* [Keras Core Layers API](https://keras.io/layers/core/)\n",
    "* [numpy.argmax API](https://docs.scipy.org/doc/numpy/reference/generated/numpy.argmax.html)\n",
    "* [sklearn.datasets.make_blobs API](http://scikit-learn.org/stable/modules/generated/sklearn.datasets.make_blobs.html)\n",
    "* [numpy.dstack API](https://docs.scipy.org/doc/numpy/reference/generated/numpy.dstack.html)\n",
    "* [sklearn.linear_model.LogisticRegression API](http://scikit-learn.org/stable/modules/generated/sklearn.linear_model.LogisticRegression.html)"
   ]
  },
  {
   "cell_type": "markdown",
   "metadata": {},
   "source": [
    "### <font color='darkgreen'>Articles</font>\n",
    "* [Stacked Generalization (Stacking) Bibliography.](http://machine-learning.martinsewell.com/ensembles/stacking/)\n",
    "* [Ensemble learning, Wikipedia.](https://en.wikipedia.org/wiki/Ensemble_learning)"
   ]
  },
  {
   "cell_type": "markdown",
   "metadata": {},
   "source": [
    "### <font color='darkgreen'>Posts</font>\n",
    "* [How to Implement Stacked Generalization From Scratch With Python](https://machinelearningmastery.com/implementing-stacking-scratch-python/)"
   ]
  },
  {
   "cell_type": "markdown",
   "metadata": {},
   "source": [
    "## <font color='darkblue'>Supplement</font>\n",
    "* [FAQ - Keras to_categorical how to reverse it](https://github.com/keras-team/keras/issues/4981)\n",
    "> The inverse of to_categorical is np.argmax or K.argmax."
   ]
  }
 ],
 "metadata": {
  "kernelspec": {
   "display_name": "Python 3",
   "language": "python",
   "name": "python3"
  },
  "language_info": {
   "codemirror_mode": {
    "name": "ipython",
    "version": 3
   },
   "file_extension": ".py",
   "mimetype": "text/x-python",
   "name": "python",
   "nbconvert_exporter": "python",
   "pygments_lexer": "ipython3",
   "version": "3.8.7"
  }
 },
 "nbformat": 4,
 "nbformat_minor": 4
}
