{
 "cells": [
  {
   "cell_type": "markdown",
   "id": "bb162f12",
   "metadata": {},
   "source": [
    "## <font color='darkblue'>Preface</font>\n",
    "([article source](https://machinelearningmastery.com/develop-n-gram-multichannel-convolutional-neural-network-sentiment-analysis/)) <b><font size='3ptx'>A standard deep learning model for [text classification](https://machinelearningmastery.com/best-practices-document-classification-deep-learning/) and [sentiment analysis](https://machinelearningmastery.com/develop-word-embedding-model-predicting-movie-review-sentiment/) uses a word embedding layer and one-dimensional convolutional neural network.</font></b>\n",
    "\n",
    "The model can be expanded by using multiple parallel convolutional neural networks that read the source document using different kernel sizes. This, in effect, <b>creates a multichannel convolutional neural network for text that reads text with different n-gram sizes</b> (<font color='brown'>groups of words</font>).\n",
    "\n",
    "<b>In this tutorial, you will discover how to develop a multichannel convolutional neural network for sentiment prediction on text movie review data.</b>\n",
    "\n",
    "After completing this tutorial, you will know:\n",
    "* How to prepare movie review text data for modeling.\n",
    "* How to develop a multichannel convolutional neural network for text in Keras.\n",
    "* How to evaluate a fit model on unseen movie review data."
   ]
  },
  {
   "cell_type": "markdown",
   "id": "eb1872ab",
   "metadata": {},
   "source": [
    "### <font color='darkgreen'>Tutorial Overview</font>\n",
    "This tutorial is divided into 4 parts; they are:\n",
    "* <b><font size='3ptx'><a href='#sect1'>Movie Review Dataset</a></font></b>\n",
    "* <b><font size='3ptx'><a href='#sect2'>Data Preparation</a></font></b>\n",
    "* <b><font size='3ptx'><a href='#sect3'>Develop Multichannel Model</a></font></b>\n",
    "* <b><font size='3ptx'><a href='#sect4'>Evaluate Model</a></font></b>"
   ]
  },
  {
   "cell_type": "markdown",
   "id": "bdc59b6e",
   "metadata": {},
   "source": [
    "<a id='sect1'></a>\n",
    "## <font color='darkblue'>Movie Review Dataset</font>\n",
    "The Movie Review Data is a collection of movie reviews retrieved from the imdb.com website in the early 2000s by Bo Pang and Lillian Lee. The reviews were collected and made available as part of their research on natural language processing.\n",
    "\n",
    "The reviews were originally released in 2002, but an updated and cleaned up version was released in 2004, referred to as “v2.0”.\n",
    "\n",
    "The dataset is comprised of 1,000 positive and 1,000 negative movie reviews drawn from an archive of the rec.arts.movies.reviews newsgroup hosted at imdb.com. The authors refer to this dataset as the “polarity dataset.”\n",
    "> Our data contains 1000 positive and 1000 negative reviews all written before 2002, with a cap of 20 reviews per author (312 authors total) per category. We refer to this corpus as the polarity dataset.\n",
    "> <br/><br/>\n",
    "> — [A Sentimental Education: Sentiment Analysis Using Subjectivity Summarization Based on Minimum Cuts, 2004.](http://xxx.lanl.gov/abs/cs/0409058)\n",
    "\n",
    "<br/>\n",
    "\n",
    "The data has been cleaned up somewhat; for example:\n",
    "* The dataset is comprised of only English reviews.\n",
    "* All text has been converted to lowercase.\n",
    "* There is white space around punctuation like periods, commas, and brackets.\n",
    "* Text has been split into one sentence per line.\n",
    "<br/>\n",
    "\n",
    "The data has been used for a few related natural language processing tasks. For classification, the performance of machine learning models (<font color='brown'>such as Support Vector Machines</font>) on the data is in the range of high 70% to low 80% (<font color='brown'>e.g. 78%-82%</font>).\n",
    "\n",
    "<b>More sophisticated data preparation may see results as high as 86% with 10-fold cross-validation</b>. This gives us a ballpark of low-to-mid 80s if we were looking to use this dataset in experiments of modern methods.\n",
    "> … depending on choice of downstream polarity classifier, we can achieve highly statistically significant improvement (from 82.8% to 86.4%)\n",
    "> <br/><br/>\n",
    "> — [A Sentimental Education: Sentiment Analysis Using Subjectivity Summarization Based on Minimum Cuts, 2004.](http://xxx.lanl.gov/abs/cs/0409058)\n",
    "\n",
    "<br/>\n",
    "\n",
    "You can download the dataset from here:\n",
    "* [Movie Review Polarity Dataset (review_polarity.tar.gz, 3MB)](https://raw.githubusercontent.com/jbrownlee/Datasets/master/review_polarity.tar.gz)\n",
    "\n",
    "After unzipping the file, you will have a directory called “txt_sentoken” with two sub-directories containing the text “neg” and “pos” for negative and positive reviews. Reviews are stored one per file with a naming convention `cv000` to `cv999` for each neg and pos.\n",
    "\n",
    "Next, let’s look at loading and preparing the text data."
   ]
  },
  {
   "cell_type": "markdown",
   "id": "ab5709ce",
   "metadata": {},
   "source": [
    "<a id='sect2'></a>\n",
    "## <font color='darkblue'>Data Preparation</font>\n",
    "In this section, we will look at 3 things:\n",
    "1. <b><a href='#sect2_1'>Separation of data into training and test sets.</a></b>\n",
    "2. <b><a href='#sect2_2'>Loading and cleaning the data to remove punctuation and numbers.</a></b>\n",
    "3. <b><a href='#sect2_3'>Prepare all reviews and save to file.</a></b>"
   ]
  },
  {
   "cell_type": "code",
   "execution_count": 1,
   "id": "deb7044b",
   "metadata": {},
   "outputs": [],
   "source": [
    "from nltk.corpus import stopwords\n",
    "\n",
    "import string\n",
    "import os\n",
    "from pickle import dump, load"
   ]
  },
  {
   "cell_type": "code",
   "execution_count": 2,
   "id": "b2cc689b",
   "metadata": {},
   "outputs": [],
   "source": [
    "DATA_SOURCE_PATH = '../../datas/review_ploarity/txt_sentoken/'\n",
    "POS_DATA_SOURCE_PATH = os.path.join(DATA_SOURCE_PATH, 'pos')\n",
    "NEG_DATA_SOURCE_PATH = os.path.join(DATA_SOURCE_PATH, 'neg')"
   ]
  },
  {
   "cell_type": "markdown",
   "id": "3cb7853e",
   "metadata": {},
   "source": [
    "<a id='sect2_1'></a>\n",
    "### <font color='darkgreen'>Split into Train and Test Sets</font>\n",
    "<b>We are pretending that we are developing a system that can predict the sentiment of a textual movie review as either positive or negative.</b>\n",
    "\n",
    "This means that after the model is developed, we will need to make predictions on new textual reviews. This will require all of the same data preparation to be performed on those new reviews as is performed on the training data for the model.\n",
    "\n",
    "We will ensure that this constraint is built into the evaluation of our models by splitting the training and test datasets prior to any data preparation. This means that any knowledge in the data in the test set that could help us better prepare the data (<font color='brown'>e.g. the words used</font>) is unavailable in the preparation of data used for training the model.\n",
    "\n",
    "That being said, we will use the last 100 positive reviews and the last 100 negative reviews as a test set (<font color='brown'>100 reviews</font>) and the remaining 1,800 reviews as the training dataset. <b>This is a 90% train, 10% split of the data.</b>\n",
    "\n",
    "The split can be imposed easily by using the filenames of the reviews where reviews named 000 to 899 are for training data and reviews named 900 onwards are for test."
   ]
  },
  {
   "cell_type": "markdown",
   "id": "04c8a0cf",
   "metadata": {},
   "source": [
    "<a id='sect2_2'></a>\n",
    "### <font color='darkgreen'>Loading and Cleaning Reviews</font>\n",
    "<b>The text data is already pretty clean; not much preparation is required.</b>\n",
    "\n",
    "Without getting bogged down too much by the details, we will prepare the data in the following way:\n",
    "* Split tokens on white space.\n",
    "* Remove all punctuation from words.\n",
    "* Remove all words that are not purely comprised of alphabetical characters.\n",
    "* Remove all words that are known stop words.\n",
    "* Remove all words that have a length <= 1 character.\n",
    "\n",
    "We can put all of these steps into a function called <font color='blue'>clean_doc()</font> that takes as an argument the raw text loaded from a file and returns a list of cleaned tokens. We can also define a function <font color='blue'>load_doc()</font> that loads a document from file ready for use with the <font color='blue'>clean_doc()</font> function. An example of cleaning the first positive review is listed below."
   ]
  },
  {
   "cell_type": "code",
   "execution_count": 3,
   "id": "aa6826a0",
   "metadata": {},
   "outputs": [],
   "source": [
    "# load doc into memory\n",
    "def load_doc(filename):\n",
    "  # open the file as read only\n",
    "  file = open(filename, 'r')\n",
    "  # read all text\n",
    "  text = file.read()\n",
    "  # close the file\n",
    "  file.close()\n",
    "  return text\n",
    " \n",
    "# turn a doc into clean tokens\n",
    "def clean_doc(doc):\n",
    "  # split into tokens by white space\n",
    "  tokens = doc.split()\n",
    "  # remove punctuation from each token\n",
    "  table = str.maketrans('', '', string.punctuation)\n",
    "  tokens = [w.translate(table) for w in tokens]\n",
    "  # remove remaining tokens that are not alphabetic\n",
    "  tokens = [word for word in tokens if word.isalpha()]\n",
    "  # filter out stop words\n",
    "  stop_words = set(stopwords.words('english'))\n",
    "  tokens = [w for w in tokens if not w in stop_words]\n",
    "  # filter out short tokens\n",
    "  tokens = [word for word in tokens if len(word) > 1]\n",
    "  return tokens"
   ]
  },
  {
   "cell_type": "code",
   "execution_count": 4,
   "id": "718fa731",
   "metadata": {},
   "outputs": [
    {
     "name": "stdout",
     "output_type": "stream",
     "text": [
      "['films', 'adapted', 'comic', 'books', 'plenty', 'success', 'whether', 'theyre', 'superheroes', 'batman', 'superman', 'spawn', 'geared', 'toward', 'kids', 'casper', 'arthouse', 'crowd', 'ghost', 'world']\n"
     ]
    }
   ],
   "source": [
    "# load the document\n",
    "filename = os.path.join(DATA_SOURCE_PATH, 'pos/cv000_29590.txt')\n",
    "text = load_doc(filename)\n",
    "tokens = clean_doc(text)\n",
    "print(tokens[:20])"
   ]
  },
  {
   "cell_type": "markdown",
   "id": "db964c2e",
   "metadata": {},
   "source": [
    "Running the example loads and cleans one movie review."
   ]
  },
  {
   "cell_type": "markdown",
   "id": "cb669054",
   "metadata": {},
   "source": [
    "<a id='sect2_3'></a>\n",
    "### <font color='darkgreen'>Clean All Reviews and Save</font>\n",
    "<b>We can now use the function to clean reviews and apply it to all reviews.</b>\n",
    "\n",
    "To do this, we will develop a new function named <font color='blue'>process_docs()</font> below that will walk through all reviews in a directory, clean them, and return them as a list.\n",
    "\n",
    "We will also add an argument to the function to indicate whether the function is processing train or test reviews, that way the filenames can be filtered (<font color='brown'>as described above</font>) and only those train or test reviews requested will be cleaned and returned.\n",
    "\n",
    "The full function is listed below."
   ]
  },
  {
   "cell_type": "code",
   "execution_count": 5,
   "id": "64cfaba9",
   "metadata": {},
   "outputs": [],
   "source": [
    "def process_docs(directory, is_trian):\n",
    "  documents = list()\n",
    "  # walk through all files in the folder\n",
    "  for filename in os.listdir(directory):\n",
    "    # skip any reviews in the test set\n",
    "    if is_trian and filename.startswith('cv9'):\n",
    "      continue\n",
    "    if not is_trian and not filename.startswith('cv9'):\n",
    "      continue\n",
    "      \n",
    "    # create the full path of the file to open\n",
    "    path = directory + '/' + filename\n",
    "    # load the doc\n",
    "    doc = load_doc(path)\n",
    "    # clean doc\n",
    "    tokens = clean_doc(doc)\n",
    "    # add to list\n",
    "    documents.append(tokens)\n",
    "    \n",
    "  return documents"
   ]
  },
  {
   "cell_type": "markdown",
   "id": "1f1c7914",
   "metadata": {},
   "source": [
    "We can call this function with negative training reviews as follows:"
   ]
  },
  {
   "cell_type": "code",
   "execution_count": 6,
   "id": "949553d6",
   "metadata": {},
   "outputs": [],
   "source": [
    "negative_docs = process_docs(NEG_DATA_SOURCE_PATH, True)"
   ]
  },
  {
   "cell_type": "markdown",
   "id": "f41c8534",
   "metadata": {},
   "source": [
    "Next, we need labels for the train and test documents. We know that we have 900 training documents and 100 test documents. We can use a Python list comprehension to create the <b>labels for the negative (0) and positive (1) reviews for both train and test sets.</b>"
   ]
  },
  {
   "cell_type": "code",
   "execution_count": 7,
   "id": "aba78566",
   "metadata": {},
   "outputs": [],
   "source": [
    "train_y = [0 for _ in range(900)] + [1 for _ in range(900)]\n",
    "test_y = [0 for _ in range(100)] + [1 for _ in range(100)]"
   ]
  },
  {
   "cell_type": "markdown",
   "id": "c0dd1c5f",
   "metadata": {},
   "source": [
    "Finally, we want to save the prepared train and test sets to file so that we can load them later for modeling and model evaluation.\n",
    "\n",
    "The function below-named <font color='blue'>save_dataset()</font> will save a given prepared dataset (<font color='brown'>`X` and `y` elements</font>) to a file using the pickle API."
   ]
  },
  {
   "cell_type": "code",
   "execution_count": 8,
   "id": "3d6f29f8",
   "metadata": {},
   "outputs": [],
   "source": [
    "# save a dataset to file\n",
    "def save_dataset(dataset, filename):\n",
    "  dump(dataset, open(filename, 'wb'))\n",
    "  print('Saved: %s' % filename)"
   ]
  },
  {
   "cell_type": "markdown",
   "id": "4a2502d9",
   "metadata": {},
   "source": [
    "Now we are ready to dump both training and testing dataset:"
   ]
  },
  {
   "cell_type": "code",
   "execution_count": 9,
   "id": "f60f7e2e",
   "metadata": {},
   "outputs": [
    {
     "name": "stdout",
     "output_type": "stream",
     "text": [
      "Saved: train.pkl\n",
      "Saved: test.pkl\n"
     ]
    }
   ],
   "source": [
    "# load all training reviews\n",
    "negative_docs = process_docs(NEG_DATA_SOURCE_PATH, True)\n",
    "positive_docs = process_docs(POS_DATA_SOURCE_PATH, True)\n",
    "train_X = negative_docs + positive_docs\n",
    "train_y = [0 for _ in range(900)] + [1 for _ in range(900)]\n",
    "save_dataset([train_X, train_y], 'train.pkl')\n",
    " \n",
    "# load all test reviews\n",
    "negative_docs = process_docs(NEG_DATA_SOURCE_PATH, False)\n",
    "positive_docs = process_docs(POS_DATA_SOURCE_PATH, False)\n",
    "test_X = negative_docs + positive_docs\n",
    "test_y = [0 for _ in range(100)] + [1 for _ in range(100)]\n",
    "save_dataset([test_X, test_y], 'test.pkl')"
   ]
  },
  {
   "cell_type": "markdown",
   "id": "a2b34c0f",
   "metadata": {},
   "source": [
    "Now we are ready to develop our model."
   ]
  },
  {
   "cell_type": "markdown",
   "id": "7ce0895e",
   "metadata": {},
   "source": [
    "<a id='sect3'></a>\n",
    "## <font color='darkblue'>Develop Multichannel Model</font>\n",
    "<b><font size='3ptx'>In this section, we will develop a multichannel convolutional neural network for the sentiment analysis prediction problem.</font></b>\n",
    "\n",
    "This section is divided into 3 parts:\n",
    "* <b><a href='#sect3_1'>Encode Data</a></b>\n",
    "* <b><a href='#sect3_2'>Define Model.</a></b>\n",
    "* <b><a href='#sect3_3'>Complete Example.</a></b>"
   ]
  },
  {
   "cell_type": "code",
   "execution_count": 36,
   "id": "ee6e7413",
   "metadata": {},
   "outputs": [],
   "source": [
    "from numpy import array\n",
    "from keras.preprocessing.text import Tokenizer\n",
    "#from keras.preprocessing.sequence import pad_sequences\n",
    "from keras_preprocessing.sequence import pad_sequences\n",
    "from keras.utils.vis_utils import plot_model\n",
    "from keras.models import Model\n",
    "from keras.layers import Input\n",
    "from keras.layers import Dense\n",
    "from keras.layers import Flatten\n",
    "from keras.layers import Dropout\n",
    "from keras.layers import Embedding\n",
    "from keras.layers.convolutional import Conv1D\n",
    "from keras.layers.convolutional import MaxPooling1D\n",
    "#from keras.layers.merge import concatenate\n",
    "from keras.layers import concatenate\n",
    "from keras.models import load_model\n",
    "\n",
    "import matplotlib.pyplot as plt"
   ]
  },
  {
   "cell_type": "markdown",
   "id": "28dab125",
   "metadata": {},
   "source": [
    "<a id='sect3_1'></a>\n",
    "### <font color='darkgreen'>Encode Data</font>\n",
    "<b>The first step is to load the cleaned training dataset.</b>\n",
    "\n",
    "The function below-named <font color='blue'>load_dataset()</font> can be called to load the pickled training dataset."
   ]
  },
  {
   "cell_type": "code",
   "execution_count": 11,
   "id": "91a87f9d",
   "metadata": {},
   "outputs": [],
   "source": [
    "# load a clean dataset\n",
    "def load_dataset(filename):\n",
    "  return load(open(filename, 'rb'))\n",
    " \n",
    "trainLines, trainLabels = load_dataset('train.pkl')"
   ]
  },
  {
   "cell_type": "markdown",
   "id": "9bbb719d",
   "metadata": {},
   "source": [
    "Next, we must fit a [**Keras Tokenizer**](https://www.tensorflow.org/api_docs/python/tf/keras/preprocessing/text/Tokenizer) on the training dataset. We will use this tokenizer to both define the vocabulary for the [**Embedding layer**](https://machinelearningmastery.com/what-are-word-embeddings/) and encode the review documents as integers.\n",
    "\n",
    "The function <font color='blue'>create_tokenizer()</font> below will create a [**Tokenizer**](https://www.tensorflow.org/api_docs/python/tf/keras/preprocessing/text/Tokenizer) given a list of documents."
   ]
  },
  {
   "cell_type": "code",
   "execution_count": 12,
   "id": "0a4fc84b",
   "metadata": {},
   "outputs": [],
   "source": [
    "# fit a tokenizer\n",
    "def create_tokenizer(lines):\n",
    "  tokenizer = Tokenizer()\n",
    "  tokenizer.fit_on_texts(lines)\n",
    "  return tokenizer"
   ]
  },
  {
   "cell_type": "markdown",
   "id": "e7f7a4c3",
   "metadata": {},
   "source": [
    "We also need to know the maximum length of input sequences as input for the model and to <b>pad all sequences to the fixed length.</b>\n",
    "\n",
    "The function <font color='blue'>max_length()</font> below will calculate the maximum length (<font color='brown'>number of words</font>) for all reviews in the training dataset."
   ]
  },
  {
   "cell_type": "code",
   "execution_count": 19,
   "id": "5199d77e",
   "metadata": {},
   "outputs": [],
   "source": [
    "# calculate the maximum document length\n",
    "def max_length(tokens_list):\n",
    "  return max([len(tokens) for tokens in tokens_list])"
   ]
  },
  {
   "cell_type": "markdown",
   "id": "29c3ab00",
   "metadata": {},
   "source": [
    "We also need to know the size of the vocabulary for the [**Embedding layer**](https://machinelearningmastery.com/what-are-word-embeddings/). This can be calculated from the prepared [**Tokenizer**](https://www.tensorflow.org/api_docs/python/tf/keras/preprocessing/text/Tokenizer), as follows:\n",
    "```python\n",
    "# calculate vocabulary size\n",
    "vocab_size = len(tokenizer.word_index) + 1\n",
    "```\n",
    "\n",
    "<br/>\n",
    "\n",
    "Finally, we can integer encode and pad the clean movie review text. The function below named <font color='blue'>encode_text()</font> will both encode and pad text data to the maximum review length:\n",
    "* [tf.keras.utils.pad_sequences](https://www.tensorflow.org/api_docs/python/tf/keras/utils/pad_sequences): Pads sequences to the same length."
   ]
  },
  {
   "cell_type": "code",
   "execution_count": 14,
   "id": "a414aac5",
   "metadata": {},
   "outputs": [],
   "source": [
    "# encode a list of lines\n",
    "def encode_text(tokenizer, lines, length):\n",
    "  # integer encode\n",
    "  encoded = tokenizer.texts_to_sequences(lines)\n",
    "  # pad encoded sequences\n",
    "  padded = pad_sequences(encoded, maxlen=length, padding='post')\n",
    "  return padded"
   ]
  },
  {
   "cell_type": "markdown",
   "id": "d185e903",
   "metadata": {},
   "source": [
    "<a id='sect3_2'></a>\n",
    "### <font color='darkgreen'>Define Model</font>\n",
    "<b>A standard model for document classification is to use an Embedding layer as input, followed by a one-dimensional convolutional neural network, pooling layer, and then a prediction output layer.</b>\n",
    "\n",
    "The kernel size in the [**convolutional layer**](https://machinelearningmastery.com/convolutional-layers-for-deep-learning-neural-networks/) defines the number of words to consider as the convolution is passed across the input text document, providing a grouping parameter.\n",
    "\n",
    "A multi-channel convolutional neural network for document classification involves using multiple versions of the standard model with different sized kernels. <b>This allows the document to be processed at different resolutions or different n-grams</b> (<font color='brown'>groups of words</font>) <b>at a time, whilst the model learns how to best integrate these interpretations</b>.\n",
    "\n",
    "This approach was first described by Yoon Kim in his 2014 paper titled “[Convolutional Neural Networks for Sentence Classification.](https://arxiv.org/abs/1408.5882)”\n",
    "\n",
    "In the paper, Kim experimented with static and dynamic (<font color='brown'>updated</font>) embedding layers, <b>we can simplify the approach and instead focus only on the use of different kernel sizes</b>. This approach is best understood with a diagram taken from Kim’s paper:\n",
    "![Depiction of the multiple-channel convolutional neural network for text.\n",
    "Taken from “Convolutional Neural Networks for Sentence Classification.”](images/1.PNG)\n",
    "\n",
    "<br/>\n",
    "\n",
    "In Keras, a multiple-input model can be defined using the [functional API](https://keras.io/getting-started/functional-api-guide/). <b>We will define a model with three input channels for processing 4-grams, 6-grams, and 8-grams of movie review text.</b>\n",
    "\n",
    "Each channel is comprised of the following elements:\n",
    "* **Input layer** that defines the length of input sequences.\n",
    "* **Embedding layer** set to the size of the vocabulary and 100-dimensional real-valued representations.\n",
    "* **One-dimensional convolutional layer** with 32 filters and a kernel size set to the number of words to read at once.\n",
    "* **Max Pooling layer** to consolidate the output from the convolutional layer.\n",
    "* **Flatten layer** to reduce the three-dimensional output to two dimensional for concatenation.\n",
    "\n",
    "<br/>\n",
    "\n",
    "The output from the three channels are concatenated into a single vector and process by a Dense layer and an output layer.\n",
    "\n",
    "The function below defines and returns the model. As part of defining the model, a summary of the defined model is printed and a plot of the model graph is created and saved to file."
   ]
  },
  {
   "cell_type": "code",
   "execution_count": 39,
   "id": "a45bcc52",
   "metadata": {},
   "outputs": [],
   "source": [
    "# define the model\n",
    "def define_model(length: int, vocab_size: int):\n",
    "  '''Defines the model.\n",
    "  \n",
    "  Args:\n",
    "    length: Max document sentence length.\n",
    "    vocab_size: Vocabulary size.\n",
    "    \n",
    "  Returns:\n",
    "    The defined model.\n",
    "  '''\n",
    "  # channel 1\n",
    "  inputs1 = Input(shape=(length,))\n",
    "  embedding1 = Embedding(vocab_size, 100)(inputs1)\n",
    "  conv1 = Conv1D(filters=32, kernel_size=4, activation='relu')(embedding1)\n",
    "  drop1 = Dropout(0.1)(conv1)\n",
    "  pool1 = MaxPooling1D(pool_size=2)(drop1)\n",
    "  flat1 = Flatten()(pool1)\n",
    "\n",
    "  # channel 2\n",
    "  inputs2 = Input(shape=(length,))\n",
    "  embedding2 = Embedding(vocab_size, 100)(inputs2)\n",
    "  conv2 = Conv1D(filters=32, kernel_size=6, activation='relu')(embedding2)\n",
    "  drop2 = Dropout(0.1)(conv2)\n",
    "  pool2 = MaxPooling1D(pool_size=2)(drop2)\n",
    "  flat2 = Flatten()(pool2)\n",
    "\n",
    "  # channel 3\n",
    "  inputs3 = Input(shape=(length,))\n",
    "  embedding3 = Embedding(vocab_size, 100)(inputs3)\n",
    "  conv3 = Conv1D(filters=32, kernel_size=8, activation='relu')(embedding3)\n",
    "  drop3 = Dropout(0.5)(conv3)\n",
    "  pool3 = MaxPooling1D(pool_size=2)(drop3)\n",
    "  flat3 = Flatten()(pool3)\n",
    "\n",
    "  # merge\n",
    "  merged = concatenate([flat1, flat2, flat3])\n",
    "  \n",
    "  # interpretation\n",
    "  dense1 = Dense(20, activation='relu')(merged)\n",
    "  dense1 = Dense(10, activation='relu')(merged)\n",
    "  outputs = Dense(1, activation='sigmoid')(dense1)\n",
    "  model = Model(inputs=[inputs1, inputs2, inputs3], outputs=outputs)\n",
    "\n",
    "  # compile\n",
    "  model.compile(\n",
    "    loss='binary_crossentropy',\n",
    "    optimizer='adam',\n",
    "    metrics=['accuracy'])\n",
    "\n",
    "  # summarize\n",
    "  print(model.summary())\n",
    "  plot_model(model, show_shapes=True, to_file='multichannel.png')\n",
    "  return model"
   ]
  },
  {
   "cell_type": "markdown",
   "id": "b439a67c",
   "metadata": {},
   "source": [
    "<a id='sect3_3'></a>\n",
    "### <font color='darkgreen'>Complete Example</font>\n",
    "Pulling all of this together, the complete example is listed below:"
   ]
  },
  {
   "cell_type": "code",
   "execution_count": 40,
   "id": "199ad436",
   "metadata": {},
   "outputs": [
    {
     "name": "stdout",
     "output_type": "stream",
     "text": [
      "Max document length: 1380\n",
      "Vocabulary size: 44277\n",
      "(1800, 1380)\n",
      "Model: \"model_3\"\n",
      "__________________________________________________________________________________________________\n",
      " Layer (type)                   Output Shape         Param #     Connected to                     \n",
      "==================================================================================================\n",
      " input_10 (InputLayer)          [(None, 1380)]       0           []                               \n",
      "                                                                                                  \n",
      " input_11 (InputLayer)          [(None, 1380)]       0           []                               \n",
      "                                                                                                  \n",
      " input_12 (InputLayer)          [(None, 1380)]       0           []                               \n",
      "                                                                                                  \n",
      " embedding_9 (Embedding)        (None, 1380, 100)    4427700     ['input_10[0][0]']               \n",
      "                                                                                                  \n",
      " embedding_10 (Embedding)       (None, 1380, 100)    4427700     ['input_11[0][0]']               \n",
      "                                                                                                  \n",
      " embedding_11 (Embedding)       (None, 1380, 100)    4427700     ['input_12[0][0]']               \n",
      "                                                                                                  \n",
      " conv1d_9 (Conv1D)              (None, 1377, 32)     12832       ['embedding_9[0][0]']            \n",
      "                                                                                                  \n",
      " conv1d_10 (Conv1D)             (None, 1375, 32)     19232       ['embedding_10[0][0]']           \n",
      "                                                                                                  \n",
      " conv1d_11 (Conv1D)             (None, 1373, 32)     25632       ['embedding_11[0][0]']           \n",
      "                                                                                                  \n",
      " dropout_9 (Dropout)            (None, 1377, 32)     0           ['conv1d_9[0][0]']               \n",
      "                                                                                                  \n",
      " dropout_10 (Dropout)           (None, 1375, 32)     0           ['conv1d_10[0][0]']              \n",
      "                                                                                                  \n",
      " dropout_11 (Dropout)           (None, 1373, 32)     0           ['conv1d_11[0][0]']              \n",
      "                                                                                                  \n",
      " max_pooling1d_9 (MaxPooling1D)  (None, 688, 32)     0           ['dropout_9[0][0]']              \n",
      "                                                                                                  \n",
      " max_pooling1d_10 (MaxPooling1D  (None, 687, 32)     0           ['dropout_10[0][0]']             \n",
      " )                                                                                                \n",
      "                                                                                                  \n",
      " max_pooling1d_11 (MaxPooling1D  (None, 686, 32)     0           ['dropout_11[0][0]']             \n",
      " )                                                                                                \n",
      "                                                                                                  \n",
      " flatten_9 (Flatten)            (None, 22016)        0           ['max_pooling1d_9[0][0]']        \n",
      "                                                                                                  \n",
      " flatten_10 (Flatten)           (None, 21984)        0           ['max_pooling1d_10[0][0]']       \n",
      "                                                                                                  \n",
      " flatten_11 (Flatten)           (None, 21952)        0           ['max_pooling1d_11[0][0]']       \n",
      "                                                                                                  \n",
      " concatenate_3 (Concatenate)    (None, 65952)        0           ['flatten_9[0][0]',              \n",
      "                                                                  'flatten_10[0][0]',             \n",
      "                                                                  'flatten_11[0][0]']             \n",
      "                                                                                                  \n",
      " dense_7 (Dense)                (None, 10)           659530      ['concatenate_3[0][0]']          \n",
      "                                                                                                  \n",
      " dense_8 (Dense)                (None, 1)            11          ['dense_7[0][0]']                \n",
      "                                                                                                  \n",
      "==================================================================================================\n",
      "Total params: 14,000,337\n",
      "Trainable params: 14,000,337\n",
      "Non-trainable params: 0\n",
      "__________________________________________________________________________________________________\n",
      "None\n",
      "You must install pydot (`pip install pydot`) and install graphviz (see instructions at https://graphviz.gitlab.io/download/) for plot_model/model_to_dot to work.\n"
     ]
    }
   ],
   "source": [
    "# load training dataset\n",
    "train_lines, train_labels = load_dataset('train.pkl')\n",
    "\n",
    "# create tokenizer\n",
    "tokenizer = create_tokenizer(train_lines)\n",
    "\n",
    "# calculate max document length\n",
    "length = max_length(train_lines)\n",
    "\n",
    "# calculate vocabulary size\n",
    "vocab_size = len(tokenizer.word_index) + 1\n",
    "print('Max document length: %d' % length)\n",
    "print('Vocabulary size: %d' % vocab_size)\n",
    "\n",
    "# encode data\n",
    "train_X = encode_text(tokenizer, train_lines, length)\n",
    "print(train_X.shape)\n",
    "\n",
    "# define model\n",
    "model = define_model(length, vocab_size)"
   ]
  },
  {
   "cell_type": "markdown",
   "id": "5df58691",
   "metadata": {},
   "source": [
    "A plot of the defined model is saved to file, clearly showing the three input channels for the model:\n",
    "![Plot of the Multichannel Convolutional Neural Network For Text](images/2.PNG)"
   ]
  },
  {
   "cell_type": "code",
   "execution_count": 41,
   "id": "6a86c591",
   "metadata": {},
   "outputs": [
    {
     "name": "stdout",
     "output_type": "stream",
     "text": [
      "Epoch 1/15\n",
      "102/102 [==============================] - 25s 233ms/step - loss: 0.6892 - accuracy: 0.5679 - val_loss: 0.8141 - val_accuracy: 0.2778\n",
      "Epoch 2/15\n",
      "102/102 [==============================] - 23s 228ms/step - loss: 0.2162 - accuracy: 0.9432 - val_loss: 0.1777 - val_accuracy: 0.9556\n",
      "Epoch 3/15\n",
      "102/102 [==============================] - 23s 228ms/step - loss: 0.0046 - accuracy: 0.9994 - val_loss: 0.5968 - val_accuracy: 0.6722\n",
      "Epoch 4/15\n",
      "102/102 [==============================] - 23s 228ms/step - loss: 0.0012 - accuracy: 1.0000 - val_loss: 0.5783 - val_accuracy: 0.6778\n",
      "Epoch 5/15\n",
      "102/102 [==============================] - 23s 227ms/step - loss: 5.8682e-04 - accuracy: 1.0000 - val_loss: 0.6871 - val_accuracy: 0.6556\n",
      "Epoch 6/15\n",
      "102/102 [==============================] - 23s 224ms/step - loss: 3.6168e-04 - accuracy: 1.0000 - val_loss: 0.6209 - val_accuracy: 0.6722\n",
      "Epoch 7/15\n",
      "102/102 [==============================] - 23s 224ms/step - loss: 2.5182e-04 - accuracy: 1.0000 - val_loss: 0.5931 - val_accuracy: 0.6833\n",
      "Epoch 8/15\n",
      "102/102 [==============================] - 23s 223ms/step - loss: 1.7654e-04 - accuracy: 1.0000 - val_loss: 0.5732 - val_accuracy: 0.7111\n",
      "Epoch 9/15\n",
      "102/102 [==============================] - 23s 229ms/step - loss: 1.3668e-04 - accuracy: 1.0000 - val_loss: 0.6804 - val_accuracy: 0.6611\n",
      "Epoch 10/15\n",
      "102/102 [==============================] - 23s 229ms/step - loss: 1.0966e-04 - accuracy: 1.0000 - val_loss: 0.6276 - val_accuracy: 0.6778\n",
      "Epoch 11/15\n",
      "102/102 [==============================] - 24s 231ms/step - loss: 8.7174e-05 - accuracy: 1.0000 - val_loss: 0.5999 - val_accuracy: 0.7056\n",
      "Epoch 12/15\n",
      "102/102 [==============================] - 23s 228ms/step - loss: 7.2837e-05 - accuracy: 1.0000 - val_loss: 0.5966 - val_accuracy: 0.7056\n",
      "Epoch 13/15\n",
      "102/102 [==============================] - 24s 232ms/step - loss: 6.3146e-05 - accuracy: 1.0000 - val_loss: 0.6447 - val_accuracy: 0.6778\n",
      "Epoch 14/15\n",
      "102/102 [==============================] - 23s 226ms/step - loss: 5.3577e-05 - accuracy: 1.0000 - val_loss: 0.5962 - val_accuracy: 0.7167\n",
      "Epoch 15/15\n",
      "102/102 [==============================] - 23s 227ms/step - loss: 4.2851e-05 - accuracy: 1.0000 - val_loss: 0.6380 - val_accuracy: 0.7000\n",
      "CPU times: user 19min 30s, sys: 1min 32s, total: 21min 3s\n",
      "Wall time: 5min 49s\n"
     ]
    }
   ],
   "source": [
    "%%time\n",
    "# fit model\n",
    "history = model.fit(\n",
    "  [train_X, train_X, train_X],\n",
    "  array(train_labels), epochs=15, batch_size=16,\n",
    "  validation_split=0.1)\n",
    "\n",
    "# save the model\n",
    "model.save('model.h5')"
   ]
  },
  {
   "cell_type": "markdown",
   "id": "5809ceb0",
   "metadata": {},
   "source": [
    "The function <font color='blue'>draw_history_chart</font> helps us to illustrate the training history:"
   ]
  },
  {
   "cell_type": "code",
   "execution_count": 42,
   "id": "5e8e322e",
   "metadata": {},
   "outputs": [],
   "source": [
    "def draw_history_chart(history):\n",
    "  # summarize history for accuracy\n",
    "  plt.plot(history.history['accuracy'])\n",
    "  plt.plot(history.history['val_accuracy'])\n",
    "  plt.title('model accuracy')\n",
    "  plt.ylabel('accuracy')\n",
    "  plt.xlabel('epoch')\n",
    "  plt.legend(['train', 'test'], loc='upper left')\n",
    "  plt.show()\n",
    "\n",
    "  # summarize history for loss\n",
    "  plt.plot(history.history['loss'])\n",
    "  plt.plot(history.history['val_loss'])\n",
    "  plt.title('model loss')\n",
    "  plt.ylabel('loss')\n",
    "  plt.xlabel('epoch')\n",
    "  plt.legend(['train', 'test'], loc='upper left')\n",
    "  plt.show()"
   ]
  },
  {
   "cell_type": "code",
   "execution_count": 43,
   "id": "d85a2ed1",
   "metadata": {},
   "outputs": [
    {
     "data": {
      "image/png": "[encoded data removed]",
      "text/plain": [
       "<Figure size 432x288 with 1 Axes>"
      ]
     },
     "metadata": {
      "needs_background": "light"
     },
     "output_type": "display_data"
    },
    {
     "data": {
      "image/png": "[encoded data removed]",
      "text/plain": [
       "<Figure size 432x288 with 1 Axes>"
      ]
     },
     "metadata": {
      "needs_background": "light"
     },
     "output_type": "display_data"
    }
   ],
   "source": [
    "draw_history_chart(history)"
   ]
  },
  {
   "cell_type": "markdown",
   "id": "a09868ae",
   "metadata": {},
   "source": [
    "Running the example first prints a summary of the prepared training dataset. The model is fit for a number of epochs and saved to the file <font color='olive'>`model.h5`</font> for later evaluation."
   ]
  },
  {
   "cell_type": "markdown",
   "id": "fcfa67ef",
   "metadata": {},
   "source": [
    "<a id='sect4'></a>\n",
    "## <font color='darkblue'>Evaluate Model</font>\n",
    "<b><font size='3ptx'>In this section, we can evaluate the fit model by predicting the sentiment on all reviews in the unseen test dataset.</font></b>\n",
    "\n",
    "Using the data loading functions developed in the previous section, we can load and encode both the training and test datasets."
   ]
  },
  {
   "cell_type": "code",
   "execution_count": 44,
   "id": "fb52fcf1",
   "metadata": {},
   "outputs": [
    {
     "name": "stdout",
     "output_type": "stream",
     "text": [
      "(200, 1380)\n"
     ]
    }
   ],
   "source": [
    "# load datasets\n",
    "test_lines, test_labels = load_dataset('test.pkl')\n",
    "\n",
    "# encode data\n",
    "test_X = encode_text(tokenizer, test_lines, length)\n",
    "print(test_X.shape)"
   ]
  },
  {
   "cell_type": "markdown",
   "id": "63af8aeb",
   "metadata": {},
   "source": [
    "We can load the saved model and evaluate it on both the training and test datasets.\n",
    "\n",
    "The complete example is listed below:"
   ]
  },
  {
   "cell_type": "code",
   "execution_count": 24,
   "id": "017b3d88",
   "metadata": {},
   "outputs": [
    {
     "name": "stdout",
     "output_type": "stream",
     "text": [
      "7/7 [==============================] - 1s 45ms/step\n"
     ]
    }
   ],
   "source": [
    "test_predict = model.predict([test_X, test_X, test_X])"
   ]
  },
  {
   "cell_type": "code",
   "execution_count": 26,
   "id": "18db91f0",
   "metadata": {},
   "outputs": [
    {
     "data": {
      "text/plain": [
       "array([[0.00053977],\n",
       "       [0.00209122],\n",
       "       [0.00035753]], dtype=float32)"
      ]
     },
     "execution_count": 26,
     "metadata": {},
     "output_type": "execute_result"
    }
   ],
   "source": [
    "# The prediction output is numeric. We have to translate them into label (0, 1) # 1 as positive\n",
    "test_predict[:3]"
   ]
  },
  {
   "cell_type": "code",
   "execution_count": 45,
   "id": "534a69f3",
   "metadata": {},
   "outputs": [
    {
     "name": "stdout",
     "output_type": "stream",
     "text": [
      "Train Accuracy: 97.000003\n",
      "Test Accuracy: 83.499998\n"
     ]
    }
   ],
   "source": [
    "# load the model\n",
    "model = load_model('model.h5')\n",
    " \n",
    "# evaluate model on training dataset\n",
    "loss, acc = model.evaluate([train_X, train_X, train_X], array(train_labels), verbose=0)\n",
    "print('Train Accuracy: %f' % (acc*100))\n",
    " \n",
    "# evaluate model on test dataset dataset\n",
    "loss, acc = model.evaluate([test_X, test_X, test_X], array(test_labels), verbose=0)\n",
    "print('Test Accuracy: %f' % (acc*100))"
   ]
  },
  {
   "cell_type": "markdown",
   "id": "068cff49",
   "metadata": {},
   "source": [
    "Running the example prints the skill of the model on both the training and test datasets.\n",
    "\n",
    "We can see that, as expected, the skill on the training dataset is excellent, here at 100% accuracy. We can also see that the skill of the model on the unseen test dataset is also very impressive, achieving 83.5%, which is not bad according to past performance data (<font color='brown'>although not a direct apples-to-apples comparison</font>)."
   ]
  },
  {
   "cell_type": "markdown",
   "id": "76c48b6f",
   "metadata": {},
   "source": [
    "## <font color='darkblue'>Extensions</font>\n",
    "This section lists some ideas for extending the tutorial that you may wish to explore:\n",
    "* **Different n-grams**. Explore the model by changing the kernel size (<font color='brown'>number of n-grams</font>) used by the channels in the model to see how it impacts model skill.\n",
    "* **More or Fewer Channels**. Explore using more or fewer channels in the model and see how it impacts model skill.\n",
    "* **Deeper Network**. Convolutional neural networks perform better in computer vision when they are deeper. Explore using deeper models here and see how it impacts model skill."
   ]
  },
  {
   "cell_type": "markdown",
   "id": "5fde302e",
   "metadata": {},
   "source": [
    "### <font color='darkgreen'>Further Reading</font>\n",
    "This section provides more resources on the topic if you are looking to go deeper.\n",
    "* [Convolutional Neural Networks for Sentence Classification, 2014.](https://arxiv.org/abs/1408.5882)\n",
    "* [Convolutional Neural Networks for Sentence Classification (code).](https://github.com/yoonkim/CNN_sentence)\n",
    "* [Keras Functional API](https://keras.io/getting-started/functional-api-guide/)\n",
    "* [Display Deep Learning Model Training History in Keras](https://machinelearningmastery.com/display-deep-learning-model-training-history-in-keras/)"
   ]
  }
 ],
 "metadata": {
  "kernelspec": {
   "display_name": "Python 3 (ipykernel)",
   "language": "python",
   "name": "python3"
  },
  "language_info": {
   "codemirror_mode": {
    "name": "ipython",
    "version": 3
   },
   "file_extension": ".py",
   "mimetype": "text/x-python",
   "name": "python",
   "nbconvert_exporter": "python",
   "pygments_lexer": "ipython3",
   "version": "3.8.10"
  }
 },
 "nbformat": 4,
 "nbformat_minor": 5
}
