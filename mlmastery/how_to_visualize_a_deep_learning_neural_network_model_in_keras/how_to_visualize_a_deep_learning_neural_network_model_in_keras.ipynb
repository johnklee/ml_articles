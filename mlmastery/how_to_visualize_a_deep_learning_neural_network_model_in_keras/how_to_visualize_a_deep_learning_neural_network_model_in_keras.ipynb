{
 "cells": [
  {
   "cell_type": "markdown",
   "metadata": {},
   "source": [
    "## <font color='darkblue'>Preface</font>\n",
    "([article source](https://machinelearningmastery.com/visualize-deep-learning-neural-network-model-keras/)) The [**Keras Python**](https://keras.io/) deep learning library provides tools to visualize and better understand your neural network models. **In this tutorial, you will discover exactly how to summarize and visualize your deep learning models in Keras.**\n",
    "\n",
    "After completing this tutorial, you will know:\n",
    "* How to create a textual summary of your deep learning model.\n",
    "* How to create a graph plot of your deep learning model.\n",
    "* Best practice tips when developing deep learning models in Keras.\n",
    "\n",
    "### <font color='darkgreen'>Tutorial Overview</font>\n",
    "This tutorial is divided into 4 parts; they are:\n",
    "* [**Example Model***](#sect1)\n",
    "* [**Summarize Model**](#sect2)\n",
    "* [**Visualize Model**](#sect3)\n",
    "* [**Best Practice Tips**](#sect4)\n",
    "\n",
    "<a id='sect1'></a>\n",
    "## <font color='darkblue'>Example Model</font>\n",
    "We can start off by defining a simple multilayer Perceptron model in Keras that we can use as the subject for summarization and visualization. The model we will define has one input variable, a hidden layer with two neurons, and an output layer with one binary output:\n",
    "```\n",
    "[1 input] -> [2 neurons] -> [1 output]\n",
    "```\n",
    "<br/>\n",
    "\n",
    "If you are new to Keras or deep learning, see this [step-by-step Keras tutorial](https://machinelearningmastery.com/tutorial-first-neural-network-python-keras/). The code listing for this network is provided below."
   ]
  },
  {
   "cell_type": "code",
   "execution_count": 1,
   "metadata": {},
   "outputs": [],
   "source": [
    "from keras.models import Sequential\n",
    "from keras.layers import Dense\n",
    "model = Sequential()\n",
    "model.add(Dense(2, input_dim=1, activation='relu'))\n",
    "model.add(Dense(1, activation='sigmoid'))"
   ]
  },
  {
   "cell_type": "markdown",
   "metadata": {},
   "source": [
    "<a id='sect2'></a>\n",
    "## <font color='darkblue'>Summarize Model</font>\n",
    "Keras provides a way to summarize a model. The summary is textual and includes information about:\n",
    "* The layers and their order in the model.\n",
    "* The output shape of each layer.\n",
    "* The number of parameters (weights) in each layer.\n",
    "* The total number of parameters (weights) in the model.\n",
    "\n",
    "The summary can be created by calling the [summary() function](https://keras.io/api/models/model/#summary-method) on the model that returns a string that in turn can be printed. Below is the updated example that prints a summary of the created model."
   ]
  },
  {
   "cell_type": "code",
   "execution_count": 2,
   "metadata": {},
   "outputs": [
    {
     "name": "stdout",
     "output_type": "stream",
     "text": [
      "Model: \"sequential\"\n",
      "_________________________________________________________________\n",
      "Layer (type)                 Output Shape              Param #   \n",
      "=================================================================\n",
      "dense (Dense)                (None, 2)                 4         \n",
      "_________________________________________________________________\n",
      "dense_1 (Dense)              (None, 1)                 3         \n",
      "=================================================================\n",
      "Total params: 7\n",
      "Trainable params: 7\n",
      "Non-trainable params: 0\n",
      "_________________________________________________________________\n",
      "None\n"
     ]
    }
   ],
   "source": [
    "print(model.summary())"
   ]
  },
  {
   "cell_type": "markdown",
   "metadata": {},
   "source": [
    "We can clearly see the output shape and number of weights in each layer.\n",
    "\n",
    "<a id='sect3'></a>\n",
    "## <font color='darkblue'>Visualize Model</font>\n",
    "The summary is useful for simple models, but can be confusing for models that have multiple inputs or outputs. Keras also provides a function to create a plot of the neural network graph that can make more complex models easier to understand.\n",
    "\n",
    "The [plot_model()](https://keras.io/api/utils/model_plotting_utils/) function in Keras will create a plot of your network. This function takes a few useful arguments:\n",
    "* **model**: (required) The model that you wish to plot.\n",
    "* **to_file**: (required) The name of the file to which to save the plot.\n",
    "* **show_shapes**: (optional, defaults to False) Whether or not to show the output shapes of each layer.\n",
    "* **show_layer_names**: (optional, defaults to True) Whether or not to show the name for each layer.\n",
    "\n",
    "Below is the updated example that plots the created model. Note, the example assumes that you have the [graphviz graph library](http://www.graphviz.org/) and the [Python interface installed](https://pypi.python.org/pypi/graphviz)."
   ]
  },
  {
   "cell_type": "code",
   "execution_count": 4,
   "metadata": {},
   "outputs": [
    {
     "name": "stdout",
     "output_type": "stream",
     "text": [
      "('Failed to import pydot. You must `pip install pydot` and install graphviz (https://graphviz.gitlab.io/download/), ', 'for `pydotprint` to work.')\n"
     ]
    }
   ],
   "source": [
    "from keras.utils.vis_utils import plot_model\n",
    "plot_model(model, to_file='model_plot.png', show_shapes=True, show_layer_names=True)"
   ]
  },
  {
   "cell_type": "markdown",
   "metadata": {},
   "source": [
    "Running the example creates the file `model_plot.png` with a plot of the created model.\n",
    "![model_plot.png](images/1.PNG)\n",
    "\n",
    "\n",
    "<a id='sect4'></a>\n",
    "## <font color='darkblue'>Best Practice Tips</font>\n",
    "I generally recommend to always create a summary and a plot of your neural network model in Keras. I recommend this for a few reasons:\n",
    "* **Confirm layer order.** It is easy to add layers in the wrong order with the sequential API or to connect them together incorrectly with the functional API. The graph plot can help you confirm that the model is connected the way you intended.\n",
    "* **Confirm the output shape of each layer.** It is common to have problems when defining the shape of input data for complex networks like convolutional and recurrent neural networks. The summary and plot can help you confirm the input shape to the network is as you intended.\n",
    "* **Confirm parameters.** Some network configurations can use far fewer parameters, such as the use of a TimeDistributed wrapped Dense layer in an Encoder-Decoder recurrent neural network. Reviewing the summary can help spot cases of using far more parameters than expected.\n",
    "\n",
    "## <font color='darkblue'>Further Reading</font>\n",
    "This section provides more resources on the topic if you are looking to go deeper.\n",
    "* [Model visualization Keras API](https://keras.io/visualization/)\n",
    "* [Graphviz – Graph Visualization Software](http://www.graphviz.org/)\n",
    "* [Simple Python interface for Graphviz](https://pypi.python.org/pypi/graphviz)"
   ]
  }
 ],
 "metadata": {
  "kernelspec": {
   "display_name": "Python 3",
   "language": "python",
   "name": "python3"
  },
  "language_info": {
   "codemirror_mode": {
    "name": "ipython",
    "version": 3
   },
   "file_extension": ".py",
   "mimetype": "text/x-python",
   "name": "python",
   "nbconvert_exporter": "python",
   "pygments_lexer": "ipython3",
   "version": "3.6.7"
  }
 },
 "nbformat": 4,
 "nbformat_minor": 2
}
