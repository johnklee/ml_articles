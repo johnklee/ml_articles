{
 "cells": [
  {
   "cell_type": "markdown",
   "metadata": {},
   "source": [
    "## <font color='darkblue'>Preface</font>\n",
    "([article source](https://machinelearningmastery.com/neural-network-for-banknote-authentication/)) <font size='3ptx'>**It can be challenging to develop a neural network predictive model for a new dataset.**</font>\n",
    "\n",
    "One approach is to first inspect the dataset and develop ideas for what models might work, then explore the learning dynamics of simple models on the dataset, then finally develop and tune a model for the dataset with a robust test harness.\n",
    "\n",
    "This process can be used to develop effective neural network models for classification and regression predictive modeling problems.\n",
    "\n",
    "**In this tutorial, you will discover how to develop a Multilayer Perceptron neural network model for the banknote binary classification dataset.** After completing this tutorial, you will know:\n",
    "* How to load and summarize the banknote dataset and use the results to suggest data preparations and model configurations to use.\n",
    "* How to explore the learning dynamics of simple MLP models on the dataset.\n",
    "* How to develop robust estimates of model performance, tune model performance and make predictions on new data.\n",
    "\n",
    "### <font color='darkgreen'>Tutorial Overview</font>\n",
    "This tutorial is divided into 4 parts; they are:\n",
    "* <font size='3ptx'>[**Banknote Classification Dataset**](#sect1)</font>\n",
    "* <font size='3ptx'>[**Neural Network Learning Dynamics**](#sect2)</font>\n",
    "* <font size='3ptx'>[**Robust Model Evaluation**](#sect3)</font>\n",
    "* <font size='3ptx'>[**Final Model and Make Predictions**](#sect4)</font>"
   ]
  },
  {
   "cell_type": "markdown",
   "metadata": {},
   "source": [
    "<a id='sect1'></a>\n",
    "## <font color='darkblue'>Banknote Classification Dataset</font>\n",
    "**The first step is to define and explore the dataset.**\n",
    "\n",
    "We will be working with the “Banknote” standard binary classification dataset. **The banknote dataset involves predicting whether a given banknote is authentic given a number of measures taken from a photograph.**\n",
    "\n",
    "The dataset contains 1,372 rows with 5 numeric variables. It is a classification problem with two classes (<font color='brown'>binary classification</font>). Below provides a list of the five variables in the dataset.\n",
    "* variance of Wavelet Transformed image (continuous).\n",
    "* skewness of Wavelet Transformed image (continuous).\n",
    "* kurtosis of Wavelet Transformed image (continuous).\n",
    "* entropy of image (continuous).\n",
    "* class (integer).\n",
    "\n",
    "Below is a sample of the first 5 rows of the dataset:\n",
    "```csv\n",
    "3.6216,8.6661,-2.8073,-0.44699,0\n",
    "4.5459,8.1674,-2.4586,-1.4621,0\n",
    "3.866,-2.6383,1.9242,0.10645,0\n",
    "3.4566,9.5228,-4.0112,-3.5944,0\n",
    "0.32924,-4.4552,4.5718,-0.9888,0\n",
    "4.3684,9.6718,-3.9606,-3.1625,0\n",
    "...\n",
    "```\n",
    "\n",
    "You can learn more about the dataset here:\n",
    "* [Banknote Dataset (banknote_authentication.csv)](https://github.com/jbrownlee/Datasets/blob/master/banknote_authentication.csv)\n",
    "* [Banknote Dataset Details (banknote_authentication.names)](https://github.com/jbrownlee/Datasets/blob/master/banknote_authentication.names)\n",
    "\n",
    "We can load the dataset as a pandas DataFrame directly from the URL; for example:"
   ]
  },
  {
   "cell_type": "code",
   "execution_count": 22,
   "metadata": {},
   "outputs": [],
   "source": [
    "import tensorflow as tf\n",
    "import numpy as np\n",
    "import matplotlib.pyplot as plt\n",
    "from pandas import read_csv\n",
    "from pandas import read_csv\n",
    "from matplotlib import pyplot\n",
    "from sklearn import preprocessing\n",
    "from sklearn.model_selection import train_test_split\n",
    "from sklearn.metrics import accuracy_score\n",
    "from sklearn.model_selection import StratifiedKFold\n",
    "from tensorflow import keras\n",
    "from tensorflow.keras import layers\n",
    "from keras.layers import Dropout\n",
    "from kutils.analysis import histplot, barplot, boxplot, fiplot, corr "
   ]
  },
  {
   "cell_type": "code",
   "execution_count": 2,
   "metadata": {},
   "outputs": [
    {
     "name": "stdout",
     "output_type": "stream",
     "text": [
      "(1372, 5)\n"
     ]
    }
   ],
   "source": [
    "# load the banknote dataset and summarize the shape\n",
    "\n",
    "# define the location of the dataset\n",
    "url = 'https://raw.githubusercontent.com/jbrownlee/Datasets/master/banknote_authentication.csv'\n",
    "# load the dataset\n",
    "df = read_csv(url, header=None)\n",
    "# summarize shape\n",
    "print(df.shape)"
   ]
  },
  {
   "cell_type": "code",
   "execution_count": 3,
   "metadata": {},
   "outputs": [
    {
     "data": {
      "text/html": [
       "<div>\n",
       "<style scoped>\n",
       "    .dataframe tbody tr th:only-of-type {\n",
       "        vertical-align: middle;\n",
       "    }\n",
       "\n",
       "    .dataframe tbody tr th {\n",
       "        vertical-align: top;\n",
       "    }\n",
       "\n",
       "    .dataframe thead th {\n",
       "        text-align: right;\n",
       "    }\n",
       "</style>\n",
       "<table border=\"1\" class=\"dataframe\">\n",
       "  <thead>\n",
       "    <tr style=\"text-align: right;\">\n",
       "      <th></th>\n",
       "      <th>0</th>\n",
       "      <th>1</th>\n",
       "      <th>2</th>\n",
       "      <th>3</th>\n",
       "      <th>4</th>\n",
       "    </tr>\n",
       "  </thead>\n",
       "  <tbody>\n",
       "    <tr>\n",
       "      <th>0</th>\n",
       "      <td>3.62160</td>\n",
       "      <td>8.6661</td>\n",
       "      <td>-2.8073</td>\n",
       "      <td>-0.44699</td>\n",
       "      <td>0</td>\n",
       "    </tr>\n",
       "    <tr>\n",
       "      <th>1</th>\n",
       "      <td>4.54590</td>\n",
       "      <td>8.1674</td>\n",
       "      <td>-2.4586</td>\n",
       "      <td>-1.46210</td>\n",
       "      <td>0</td>\n",
       "    </tr>\n",
       "    <tr>\n",
       "      <th>2</th>\n",
       "      <td>3.86600</td>\n",
       "      <td>-2.6383</td>\n",
       "      <td>1.9242</td>\n",
       "      <td>0.10645</td>\n",
       "      <td>0</td>\n",
       "    </tr>\n",
       "    <tr>\n",
       "      <th>3</th>\n",
       "      <td>3.45660</td>\n",
       "      <td>9.5228</td>\n",
       "      <td>-4.0112</td>\n",
       "      <td>-3.59440</td>\n",
       "      <td>0</td>\n",
       "    </tr>\n",
       "    <tr>\n",
       "      <th>4</th>\n",
       "      <td>0.32924</td>\n",
       "      <td>-4.4552</td>\n",
       "      <td>4.5718</td>\n",
       "      <td>-0.98880</td>\n",
       "      <td>0</td>\n",
       "    </tr>\n",
       "  </tbody>\n",
       "</table>\n",
       "</div>"
      ],
      "text/plain": [
       "         0       1       2        3  4\n",
       "0  3.62160  8.6661 -2.8073 -0.44699  0\n",
       "1  4.54590  8.1674 -2.4586 -1.46210  0\n",
       "2  3.86600 -2.6383  1.9242  0.10645  0\n",
       "3  3.45660  9.5228 -4.0112 -3.59440  0\n",
       "4  0.32924 -4.4552  4.5718 -0.98880  0"
      ]
     },
     "execution_count": 3,
     "metadata": {},
     "output_type": "execute_result"
    }
   ],
   "source": [
    "df.head()"
   ]
  },
  {
   "cell_type": "markdown",
   "metadata": {},
   "source": [
    "In this case, we can confirm that the dataset has 5 variables (<font color='brown'>4 input and one output</font>) and that the dataset has 1,372 rows of data.\n",
    "\n",
    "**This is not many rows of data for a neural network and suggests that a small network, perhaps with regularization, would be appropriate.**\n",
    "\n",
    "**It also suggests that using K-fold cross-validation would be a good idea given that it will give a more reliable estimate of model performance than a train/test split and because a single model will fit in seconds instead of hours or days with the largest datasets.**\n",
    "\n",
    "Next, we can learn more about the dataset by looking at summary statistics and a plot of the data."
   ]
  },
  {
   "cell_type": "code",
   "execution_count": 4,
   "metadata": {},
   "outputs": [
    {
     "name": "stdout",
     "output_type": "stream",
     "text": [
      "                 0            1            2            3            4\n",
      "count  1372.000000  1372.000000  1372.000000  1372.000000  1372.000000\n",
      "mean      0.433735     1.922353     1.397627    -1.191657     0.444606\n",
      "std       2.842763     5.869047     4.310030     2.101013     0.497103\n",
      "min      -7.042100   -13.773100    -5.286100    -8.548200     0.000000\n",
      "25%      -1.773000    -1.708200    -1.574975    -2.413450     0.000000\n",
      "50%       0.496180     2.319650     0.616630    -0.586650     0.000000\n",
      "75%       2.821475     6.814625     3.179250     0.394810     1.000000\n",
      "max       6.824800    12.951600    17.927400     2.449500     1.000000\n"
     ]
    }
   ],
   "source": [
    "# show summary statistics and plots of the banknote dataset\n",
    "feature_columns = [0, 1, 2, 3]\n",
    "target_column = [4]\n",
    "\n",
    "## show summary statistics\n",
    "print(df.describe())"
   ]
  },
  {
   "cell_type": "code",
   "execution_count": 5,
   "metadata": {},
   "outputs": [
    {
     "data": {
      "image/png": "[encoded data removed]",
      "text/plain": [
       "<Figure size 1440x288 with 4 Axes>"
      ]
     },
     "metadata": {
      "needs_background": "light"
     },
     "output_type": "display_data"
    }
   ],
   "source": [
    "## plot histograms\n",
    "als_hist = histplot.Utils(df)  \n",
    "ax_plots = als_hist.hist(feature_columns)  "
   ]
  },
  {
   "cell_type": "code",
   "execution_count": 6,
   "metadata": {},
   "outputs": [
    {
     "data": {
      "image/png": "[encoded data removed]",
      "text/plain": [
       "<Figure size 720x432 with 4 Axes>"
      ]
     },
     "metadata": {
      "needs_background": "light"
     },
     "output_type": "display_data"
    }
   ],
   "source": [
    "ax_list = als_hist.sns_hist(\n",
    "    feature_columns,\n",
    "    col_num=2, \n",
    "    figsize=(10, 6)\n",
    ")"
   ]
  },
  {
   "cell_type": "markdown",
   "metadata": {},
   "source": [
    "<font size='3ptx' color='darkred'>**Findings**</font><br/>\n",
    "* We can see that perhaps the first two variables have a Gaussian-like distribution and the next two input variables may have a skewed Gaussian distribution or an exponential distribution.\n",
    "* We may have some benefit in using a power transform on each variable in order to make the probability distribution less skewed which will likely improve model performance.\n",
    "\n",
    "Now that we are familiar with the dataset, let’s explore how we might develop a neural network model."
   ]
  },
  {
   "cell_type": "markdown",
   "metadata": {},
   "source": [
    "<a id='sect2'></a>\n",
    "## <font color='darkblue'>Neural Network Learning Dynamics</font>\n",
    "**We will develop a Multilayer Perceptron (MLP) model for the dataset using TensorFlow.**\n",
    "\n",
    "We cannot know what model architecture of learning hyperparameters would be good or best for this dataset, so we must experiment and discover what works well. **Given that the dataset is small, a small batch size is probably a good idea, e.g. 16 or 32 rows. Using the Adam version of stochastic gradient descent is a good idea when getting started as it will automatically adapt the learning rate and works well on most datasets.**\n",
    "\n",
    "Before we evaluate models in earnest, **it is a good idea to review the <font color='darkblue'>learning dynamics</font> and tune the model architecture and learning configuration until we have stable learning dynamics**, then look at getting the most out of the model.\n",
    "\n",
    "We can do this by using a simple train/test split of the data and review plots of the [**learning curves**](https://machinelearningmastery.com/learning-curves-for-diagnosing-machine-learning-model-performance/). This will help us see if we are over-learning or under-learning; then we can adapt the configuration accordingly.\n",
    "\n",
    "First, we must ensure all input variables are floating-point values and encode the target label as integer values 0 and 1."
   ]
  },
  {
   "cell_type": "code",
   "execution_count": 27,
   "metadata": {},
   "outputs": [
    {
     "name": "stderr",
     "output_type": "stream",
     "text": [
      "c:\\users\\john\\appdata\\local\\programs\\python\\python38\\lib\\site-packages\\sklearn\\preprocessing\\_label.py:251: DataConversionWarning: A column-vector y was passed when a 1d array was expected. Please change the shape of y to (n_samples, ), for example using ravel().\n",
      "  y = column_or_1d(y, warn=True)\n"
     ]
    }
   ],
   "source": [
    "X, y = df[feature_columns], df[target_column]\n",
    "\n",
    "# ensure all data are floating point values\n",
    "X = X.astype('float32')\n",
    "\n",
    "# encode strings to integer\n",
    "le = preprocessing.LabelEncoder()\n",
    "y = le.fit_transform(y)"
   ]
  },
  {
   "cell_type": "code",
   "execution_count": 8,
   "metadata": {},
   "outputs": [
    {
     "data": {
      "text/html": [
       "<div>\n",
       "<style scoped>\n",
       "    .dataframe tbody tr th:only-of-type {\n",
       "        vertical-align: middle;\n",
       "    }\n",
       "\n",
       "    .dataframe tbody tr th {\n",
       "        vertical-align: top;\n",
       "    }\n",
       "\n",
       "    .dataframe thead th {\n",
       "        text-align: right;\n",
       "    }\n",
       "</style>\n",
       "<table border=\"1\" class=\"dataframe\">\n",
       "  <thead>\n",
       "    <tr style=\"text-align: right;\">\n",
       "      <th></th>\n",
       "      <th>0</th>\n",
       "      <th>1</th>\n",
       "      <th>2</th>\n",
       "      <th>3</th>\n",
       "    </tr>\n",
       "  </thead>\n",
       "  <tbody>\n",
       "    <tr>\n",
       "      <th>0</th>\n",
       "      <td>3.62160</td>\n",
       "      <td>8.6661</td>\n",
       "      <td>-2.8073</td>\n",
       "      <td>-0.44699</td>\n",
       "    </tr>\n",
       "    <tr>\n",
       "      <th>1</th>\n",
       "      <td>4.54590</td>\n",
       "      <td>8.1674</td>\n",
       "      <td>-2.4586</td>\n",
       "      <td>-1.46210</td>\n",
       "    </tr>\n",
       "    <tr>\n",
       "      <th>2</th>\n",
       "      <td>3.86600</td>\n",
       "      <td>-2.6383</td>\n",
       "      <td>1.9242</td>\n",
       "      <td>0.10645</td>\n",
       "    </tr>\n",
       "    <tr>\n",
       "      <th>3</th>\n",
       "      <td>3.45660</td>\n",
       "      <td>9.5228</td>\n",
       "      <td>-4.0112</td>\n",
       "      <td>-3.59440</td>\n",
       "    </tr>\n",
       "    <tr>\n",
       "      <th>4</th>\n",
       "      <td>0.32924</td>\n",
       "      <td>-4.4552</td>\n",
       "      <td>4.5718</td>\n",
       "      <td>-0.98880</td>\n",
       "    </tr>\n",
       "  </tbody>\n",
       "</table>\n",
       "</div>"
      ],
      "text/plain": [
       "         0       1       2        3\n",
       "0  3.62160  8.6661 -2.8073 -0.44699\n",
       "1  4.54590  8.1674 -2.4586 -1.46210\n",
       "2  3.86600 -2.6383  1.9242  0.10645\n",
       "3  3.45660  9.5228 -4.0112 -3.59440\n",
       "4  0.32924 -4.4552  4.5718 -0.98880"
      ]
     },
     "execution_count": 8,
     "metadata": {},
     "output_type": "execute_result"
    }
   ],
   "source": [
    "X.head()"
   ]
  },
  {
   "cell_type": "markdown",
   "metadata": {},
   "source": [
    "Next, we can split the dataset into input and output variables, then into 67/33 train and test sets."
   ]
  },
  {
   "cell_type": "code",
   "execution_count": 9,
   "metadata": {},
   "outputs": [],
   "source": [
    "# split into train and test datasets\n",
    "X_train, X_test, y_train, y_test = train_test_split(X, y, test_size=0.33)"
   ]
  },
  {
   "cell_type": "markdown",
   "metadata": {},
   "source": [
    "We can define a minimal MLP model. In this case, we will use one hidden layer with 10 nodes and one output layer (<font color='brown'>chosen arbitrarily</font>). We will use the [ReLU activation function](https://machinelearningmastery.com/rectified-linear-activation-function-for-deep-learning-neural-networks/) in the hidden layer and the “he_normal” weight initialization, as together, they are a good practice."
   ]
  },
  {
   "cell_type": "code",
   "execution_count": 10,
   "metadata": {},
   "outputs": [],
   "source": [
    "def get_mlp_model():\n",
    "    # determine the number of input features\n",
    "    n_features = X.shape[1]\n",
    "\n",
    "    # define model\n",
    "    model = keras.Sequential()\n",
    "    model.add(layers.Dense(10, activation='relu', kernel_initializer='he_normal', input_shape=(n_features,)))\n",
    "    model.add(layers.Dense(1, activation='sigmoid'))\n",
    "    # compile the model\n",
    "    model.compile(optimizer='adam', loss='binary_crossentropy')\n",
    "    \n",
    "    return model"
   ]
  },
  {
   "cell_type": "code",
   "execution_count": 11,
   "metadata": {},
   "outputs": [
    {
     "name": "stdout",
     "output_type": "stream",
     "text": [
      "Model: \"sequential\"\n",
      "_________________________________________________________________\n",
      "Layer (type)                 Output Shape              Param #   \n",
      "=================================================================\n",
      "dense (Dense)                (None, 10)                50        \n",
      "_________________________________________________________________\n",
      "dense_1 (Dense)              (None, 1)                 11        \n",
      "=================================================================\n",
      "Total params: 61\n",
      "Trainable params: 61\n",
      "Non-trainable params: 0\n",
      "_________________________________________________________________\n"
     ]
    }
   ],
   "source": [
    "mlp_model = get_mlp_model()\n",
    "mlp_model.summary()"
   ]
  },
  {
   "cell_type": "markdown",
   "metadata": {},
   "source": [
    "We will fit the model for 50 training epochs (<font color='brown'>chosen arbitrarily</font>) with a batch size of 32 because it is a small dataset. **We are fitting the model on raw data, which we think might be a good idea, but it is an important starting point.**"
   ]
  },
  {
   "cell_type": "code",
   "execution_count": 12,
   "metadata": {},
   "outputs": [],
   "source": [
    "# fit the model\n",
    "history = mlp_model.fit(\n",
    "    X_train, \n",
    "    y_train, \n",
    "    epochs=50, \n",
    "    batch_size=32, \n",
    "    verbose=0, \n",
    "    validation_data=(X_test,y_test)\n",
    ")"
   ]
  },
  {
   "cell_type": "markdown",
   "metadata": {},
   "source": [
    "At the end of training, we will evaluate the model’s performance on the test dataset and report performance as the classification accuracy."
   ]
  },
  {
   "cell_type": "code",
   "execution_count": 13,
   "metadata": {},
   "outputs": [],
   "source": [
    "# predict test set\n",
    "yhat = mlp_model.predict(X_test)"
   ]
  },
  {
   "cell_type": "code",
   "execution_count": 14,
   "metadata": {},
   "outputs": [],
   "source": [
    "# Translate probability of class 1 into class prediction. (prob > 0.5-> 1 otherwise 0)\n",
    "y_pred = yhat > 0.5"
   ]
  },
  {
   "cell_type": "code",
   "execution_count": 15,
   "metadata": {},
   "outputs": [
    {
     "name": "stdout",
     "output_type": "stream",
     "text": [
      "Accuracy: 1.000\n"
     ]
    }
   ],
   "source": [
    "# evaluate predictions\n",
    "score = accuracy_score(y_test, y_pred)\n",
    "print('Accuracy: %.3f' % score)"
   ]
  },
  {
   "cell_type": "markdown",
   "metadata": {},
   "source": [
    "In this case, we can see that the model achieved great or perfect accuracy of 99% percent. This might suggest that the prediction problem is easy and/or that neural networks are a good fit for the problem."
   ]
  },
  {
   "cell_type": "markdown",
   "metadata": {},
   "source": [
    "Finally, we will **plot learning curves of the cross-entropy loss on the train and test sets during training**."
   ]
  },
  {
   "cell_type": "code",
   "execution_count": 16,
   "metadata": {},
   "outputs": [
    {
     "data": {
      "image/png": "[encoded data removed]",
      "text/plain": [
       "<Figure size 720x360 with 1 Axes>"
      ]
     },
     "metadata": {
      "needs_background": "light"
     },
     "output_type": "display_data"
    }
   ],
   "source": [
    "# plot learning curves\n",
    "plt.rcParams['figure.figsize'] = [10, 5]\n",
    "plt.title('Learning Curves')\n",
    "plt.xlabel('Epoch')\n",
    "plt.ylabel('Cross Entropy Loss')\n",
    "plt.plot(history.history['loss'], label='train')\n",
    "plt.plot(history.history['val_loss'], label='val')\n",
    "plt.legend()\n",
    "plt.show()"
   ]
  },
  {
   "cell_type": "markdown",
   "metadata": {},
   "source": [
    "We can see that the model appears to converge well and does not show any signs of overfitting or underfitting.\n",
    "\n",
    "We did amazingly well on our first try. **Now that we have some idea of the learning dynamics for a simple MLP model on the dataset, we can look at developing a more robust evaluation of model performance on the dataset.**"
   ]
  },
  {
   "cell_type": "markdown",
   "metadata": {},
   "source": [
    "<a id='sect3'></a>\n",
    "## <font color='darkblue'>Robust Model Evaluation</font>\n",
    "**[The k-fold cross-validation](https://en.wikipedia.org/wiki/Cross-validation_(statistics)#k-fold_cross-validation) procedure can provide a more reliable estimate of MLP performance, although it can be very slow.**\n",
    "\n",
    "This is because k models must be fit and evaluated. This is not a problem when the dataset size is small, such as the banknote dataset.\n",
    "\n",
    "We can use the [**StratifiedKFold**](https://scikit-learn.org/stable/modules/generated/sklearn.model_selection.StratifiedKFold.html) class and enumerate each fold manually, fit the model, evaluate it, and then report the mean of the evaluation scores at the end of the procedure."
   ]
  },
  {
   "cell_type": "code",
   "execution_count": 17,
   "metadata": {},
   "outputs": [],
   "source": [
    "# prepare cross validation\n",
    "skf = StratifiedKFold(n_splits=2)\n",
    "\n",
    "# enumerate splits\n",
    "scores = list()\n",
    "for train_ix, test_ix in skf.split(X, y):\n",
    "    # fit and evaluate the model...\n",
    "    mlp_model = get_mlp_model()\n",
    "    \n",
    "    # split data\n",
    "    X_train, X_test, y_train, y_test = X.iloc[train_ix], X.iloc[test_ix], y[train_ix], y[test_ix]\n",
    "    history = mlp_model.fit(\n",
    "        X_train, \n",
    "        y_train, \n",
    "        epochs=50, \n",
    "        batch_size=32, \n",
    "        verbose=0, \n",
    "        validation_data=(X_test,y_test)\n",
    "    )\n",
    "    \n",
    "    yhat = mlp_model.predict(X_test)\n",
    "    y_pred = yhat > 0.5\n",
    "    score = accuracy_score(y_test, y_pred)\n",
    "    scores.append(score)"
   ]
  },
  {
   "cell_type": "code",
   "execution_count": 18,
   "metadata": {},
   "outputs": [
    {
     "name": "stdout",
     "output_type": "stream",
     "text": [
      "Mean Accuracy: 0.989 (std=0.005)\n"
     ]
    }
   ],
   "source": [
    "# summarize all scores\n",
    "scores = np.array(scores)\n",
    "print(f'Mean Accuracy: {scores.mean():.03f} (std={scores.std():.03f})')"
   ]
  },
  {
   "cell_type": "markdown",
   "metadata": {},
   "source": [
    "**We can use this framework to develop a reliable estimate of MLP model performance with our base configuration**, and even with a range of different data preparations, model architectures, and learning configurations.\n",
    "\n",
    "In this case, we can see that **the MLP model achieved a mean accuracy of about 98.9 percent.**\n",
    "\n",
    "This confirms our expectation that the base model configuration works very well for this dataset, and indeed the model is a good fit for the problem and perhaps the problem is quite trivial to solve.\n",
    "\n",
    "Next, let’s look at how we might fit a final model and use it to make predictions."
   ]
  },
  {
   "cell_type": "markdown",
   "metadata": {},
   "source": [
    "<a id='sect4'></a>\n",
    "## <font color='darkblue'>Final Model and Make Predictions</font>\n",
    "**Once we choose a model configuration, we can train a final model on all available data and use it to make predictions on new data.**\n",
    "\n",
    "In this case, we will use the model with [**dropout**](https://keras.io/api/layers/regularization_layers/dropout/) and a small batch size as our final model.\n",
    "\n",
    "We can prepare the data and fit the model as before, although on the entire dataset instead of a training subset of the dataset."
   ]
  },
  {
   "cell_type": "code",
   "execution_count": 23,
   "metadata": {},
   "outputs": [],
   "source": [
    "def get_mlp_model_with_dropout_layer(dropout_rate=0.2):\n",
    "    # determine the number of input features\n",
    "    n_features = X.shape[1]\n",
    "\n",
    "    # define model\n",
    "    model = keras.Sequential()\n",
    "    model.add(Dropout(dropout_rate, input_shape=(n_features,)))\n",
    "    model.add(layers.Dense(10, activation='relu', kernel_initializer='he_normal'))\n",
    "    model.add(layers.Dense(1, activation='sigmoid'))\n",
    "    \n",
    "    # compile the model\n",
    "    model.compile(optimizer='adam', loss='binary_crossentropy')\n",
    "    \n",
    "    return model"
   ]
  },
  {
   "cell_type": "code",
   "execution_count": 24,
   "metadata": {},
   "outputs": [],
   "source": [
    "mlp_model = get_mlp_model_with_dropout_layer()\n",
    "\n",
    "history = mlp_model.fit(\n",
    "    X, \n",
    "    y, \n",
    "    epochs=50, \n",
    "    batch_size=32, \n",
    "    verbose=0,    \n",
    ")"
   ]
  },
  {
   "cell_type": "code",
   "execution_count": 28,
   "metadata": {},
   "outputs": [
    {
     "name": "stdout",
     "output_type": "stream",
     "text": [
      "Predicted: 0\n"
     ]
    },
    {
     "name": "stderr",
     "output_type": "stream",
     "text": [
      "c:\\users\\john\\appdata\\local\\programs\\python\\python38\\lib\\site-packages\\sklearn\\preprocessing\\_label.py:289: DataConversionWarning: A column-vector y was passed when a 1d array was expected. Please change the shape of y to (n_samples, ), for example using ravel().\n",
      "  y = column_or_1d(y, warn=True)\n"
     ]
    }
   ],
   "source": [
    "# define a row of new data\n",
    "row = [3.6216,8.6661,-2.8073,-0.44699]\n",
    "\n",
    "# make prediction\n",
    "yhat = mlp_model.predict_classes([row])\n",
    "\n",
    "# invert transform to get label for class\n",
    "yhat = le.inverse_transform(yhat)\n",
    "\n",
    "# report prediction\n",
    "print('Predicted: %s' % (yhat[0]))"
   ]
  },
  {
   "cell_type": "markdown",
   "metadata": {},
   "source": [
    "In this case, we can see that the model predicted a “0” label for input feature vector as `[3.6216,8.6661,-2.8073,-0.44699]`"
   ]
  },
  {
   "cell_type": "markdown",
   "metadata": {},
   "source": [
    "## <font color='darkblue'>Supplement</font>\n",
    "* [How to Visualize a Deep Learning Neural Network Model in Keras](https://machinelearningmastery.com/visualize-deep-learning-neural-network-model-keras/)\n",
    "* [Dropout Regularization in Deep Learning Models With Keras](https://machinelearningmastery.com/dropout-regularization-deep-learning-models-keras/)\n",
    "* [機器學習中可視化Keras中的各種過濾器初始化程序簡介（附代碼）](https://kknews.cc/zh-tw/code/4k9ermv.html)\n",
    "* [How to Develop a Neural Net for Predicting Disturbances in the Ionosphere](https://machinelearningmastery.com/predicting-disturbances-in-the-ionosphere/)\n",
    "* [Best Results for Standard Machine Learning Datasets](https://machinelearningmastery.com/results-for-standard-classification-and-regression-machine-learning-datasets/)\n",
    "* [TensorFlow 2 Tutorial: Get Started in Deep Learning With tf.keras](https://machinelearningmastery.com/tensorflow-tutorial-deep-learning-with-tf-keras/)\n",
    "* [A Gentle Introduction to k-fold Cross-Validation](https://machinelearningmastery.com/k-fold-cross-validation/)"
   ]
  }
 ],
 "metadata": {
  "kernelspec": {
   "display_name": "Python 3",
   "language": "python",
   "name": "python3"
  },
  "language_info": {
   "codemirror_mode": {
    "name": "ipython",
    "version": 3
   },
   "file_extension": ".py",
   "mimetype": "text/x-python",
   "name": "python",
   "nbconvert_exporter": "python",
   "pygments_lexer": "ipython3",
   "version": "3.8.7"
  }
 },
 "nbformat": 4,
 "nbformat_minor": 4
}
