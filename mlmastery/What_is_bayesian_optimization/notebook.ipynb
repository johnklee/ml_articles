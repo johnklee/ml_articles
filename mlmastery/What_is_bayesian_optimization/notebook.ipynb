{
 "cells": [
  {
   "cell_type": "markdown",
   "id": "f132687c-3507-414e-8713-4045203c22ef",
   "metadata": {},
   "source": [
    "## <b><font color='darkblue'>Preface</font></b>\n",
    "([article source](https://machinelearningmastery.com/what-is-bayesian-optimization/)) <b><font size='3ptx'>In this tutorial, you will discover how to implement the <font color='darkblue'>Bayesian Optimization algorithm</font> for complex optimization problems</font> Global optimization is a challenging problem of finding an input that results in the minimum or maximum cost of a given objective function.</b>.\n",
    "\n",
    "Typically, <b>the form of the objective function is complex and intractable to analyze and is often non-convex</b>, nonlinear, high dimension, noisy, and computationally expensive to evaluate.\n",
    "\n",
    "<b>Bayesian Optimization provides a principled technique based on [**Bayes Theorem**](https://en.wikipedia.org/wiki/Bayes%27_theorem) to direct a search of a global optimization problem that is efficient and effective</b>. It works by building a probabilistic model of the <font color='darkblue'><b>objective function</b></font>, called the <font color='darkblue'><b>surrogate function</b></font>, that is then searched efficiently with an <font color='darkblue'><b>acquisition function</font></b> before candidate samples are chosen for evaluation on the real objective function.\n",
    "\n",
    "<b>Bayesian Optimization is often used in applied machine learning to tune the hyperparameters of a given well-performing model on a validation dataset.</b>"
   ]
  },
  {
   "cell_type": "markdown",
   "id": "fdc6f44d-d374-4d44-99e3-4cb79c841cb2",
   "metadata": {},
   "source": [
    "### <b><font color='darkgreen'>Goal</font></b>\r\n",
    "After completing this tutorial, you will know:\r\n",
    "* Global optimization is a challenging problem that involves black box and often non-convex, non-linear, noisy, and computationally expensive objective functions.\r\n",
    "* Bayesian Optimization provides a probabilistically principled method for global optimization.\r\n",
    "* How to implement Bayesian Optimization from scratch and how to use open-source implementations.s."
   ]
  },
  {
   "cell_type": "markdown",
   "id": "dee1c512-1883-4b45-aac5-0335f698eb89",
   "metadata": {},
   "source": [
    "### <a id='sect1_2'><b><font color='darkgreen'>Tutorial Overview</font></b></a>\r\n",
    "This tutorial is divided into four parts; they are:\r\n",
    "* <b><a href='#sect1'>Challenge of Function Optimization</a></b>\r\n",
    "* <b><a href='#sect2'>What Is Bayesian Optimization</a></b>\r\n",
    "* <b><a href='#sect3'>How to Perform Bayesian Optimization</a></b>\r\n",
    "* <b><a href='#sect4'>Hyperparameter Tuning With Bayesian Optimizationation</a></b>ation\r\n",
    "tion\r\n"
   ]
  },
  {
   "cell_type": "markdown",
   "id": "79d595c4-9f8a-41a4-bf9a-5efe07a5af18",
   "metadata": {},
   "source": [
    "## <a id='sect1'><b><font color='darkblue'>Challenge of Function Optimization</font></b></a>\r\n",
    "<b><font size='3ptx'><a href='https://en.wikipedia.org/wiki/Global_optimization'>Global function optimization</a>, or function optimization for short, involves finding the minimum or maximum of an objective function.</font> Samples are drawn from the domain and evaluated by the objective function to give a score or cost.</font></b>\r\n",
    "\r\n",
    "Let’s define some common terms:\r\n",
    "* **Samples**. One example from the domain, represented as a vector.\r\n",
    "* **Search Space**: Extent of the domain from which samples can be drawn.\r\n",
    "* **Objective Function**. Function that takes a sample and returns a cost.\r\n",
    "* **Cost**. Numeric score for a sample calculated via the <font color='darkblue'><b>objective function</b></font>.\r\n",
    "\r\n",
    "<b>Samples are comprised of one or more variables generally easy to devise or create. One sample is often defined as a vector of variables with a predefined range in an n-dimensional space</b>. This space must be sampled and explored in order to find the specific combination of variable values that result in the best cost.\r\n",
    "\r\n",
    "<b>The cost often has units that are specific to a given domain. Optimization is often described in terms of minimizing cost, as a maximization problem can easily be transformed into a minimization problem by inverting the calculated cost</b>. Together, the minimum and maximum of a function are referred to as the extreme of the function.l extrema).l extrema)./font>.on."
   ]
  },
  {
   "cell_type": "markdown",
   "id": "5becc45c-432a-480b-89b9-17f3cc5ce3af",
   "metadata": {},
   "source": [
    "<b>The objective function is often easy to specify but can be computationally challenging to calculate or result in a noisy calculation of cost over time</b>. The form of the objective function is unknown and is often highly nonlinear, and highly multi-dimensional defined by the number of input variables. The function is also probably non-convex. This means that local extrema may or may not be the global extrema (<font color='brown'>e.g. could be misleading and result in premature convergence</font>), hence the name of the task as global rather than local optimization."
   ]
  },
  {
   "cell_type": "markdown",
   "id": "4537ca21-7b9f-4927-bdab-07e5141fdfaa",
   "metadata": {},
   "source": [
    "<b>Although little is known about the objective function,</b> (<font color='brown'>it is known whether the minimum or the maximum cost from the function is sought</font>), <b>and as such, it is often referred to as a black box function and the search process as black box optimization</b>. Further, the objective function is sometimes called an oracle given the ability to only give answers."
   ]
  },
  {
   "cell_type": "markdown",
   "id": "189929ad-7f62-4a55-97e0-8d9958530196",
   "metadata": {},
   "source": [
    "<b>Function optimization is a fundamental part of machine learning. Most machine learning algorithms involve the optimization of parameters</b> (<font color='brown'>weights, coefficients, etc.</font>) <b>in response to training data</b>. <b>Optimization also refers to the process of finding the best set of hyperparameters that configure the training of a machine learning algorithm</b>. Taking one step higher again, the selection of training data, data preparation, and machine learning algorithms themselves is also a problem of function optimization."
   ]
  },
  {
   "cell_type": "markdown",
   "id": "d56ac61c-bdcd-499e-be5b-682e9e0b46b1",
   "metadata": {},
   "source": [
    "Summary of optimization in machine learning:\r\n",
    "* <b>Algorithm Training</b>. Optimization of model parameters.\r\n",
    "* <b>Algorithm Tuning</b>. Optimization of model hyperparameters.\r\n",
    "* <b>Predictive Modeling</b>. Optimization of data, data preparation, and algorithm selection.\r\n",
    "\r\n",
    "Many methods exist for function optimization, such as randomly sampling the variable search space, called random search, or systematically evaluating samples in a grid across the search space, called grid search.\r\n",
    "\r\n",
    "<b>More principled methods are able to learn from sampling the space so that future samples are directed toward the parts of the search space that are most likely to contain the extrema.</b>\r\n",
    "\r\n",
    "<b>A directed approach to global optimization that uses probability i<font color='darkblue'>s called Bayesian Opt</font>imiz.tion</b>.ma</b>.on.n."
   ]
  },
  {
   "cell_type": "markdown",
   "id": "17d0d91c-a90f-451a-9355-98a2034f7bd1",
   "metadata": {},
   "source": [
    "## <a id='sect2'><b><font color='darkblue'>What Is Bayesian Optimization</font></b></a>\n",
    "<b><font size='3ptx'>Bayesian Optimization is an approach that uses Bayes Theorem to direct the search in order to find the minimum or maximum of an objective function.</font></b>\n",
    "\n",
    "It is an approach that is most useful for objective functions that are complex, noisy, and/or expensive to evaluate:\n",
    "> Bayesian optimization is a powerful strategy for finding the extrema of objective functions that are expensive to evaluate. […] It is particularly useful when these evaluations are costly, when one does not have access to derivatives, or when the problem at hand is non-convex.\n",
    "> <br/><br/>\n",
    "> [— A Tutorial on Bayesian Optimization of Expensive Cost Functions, with Application to Active User Modeling and Hierarchical Reinforcement Learning, 2010.](https://arxiv.org/abs/1012.2599)"
   ]
  },
  {
   "cell_type": "markdown",
   "id": "5cf3c4ac-98fb-4851-b8f6-219e10ba777f",
   "metadata": {},
   "source": [
    "Recall that [**Bayes Theorem**](https://en.wikipedia.org/wiki/Bayes%27_theorem) is an approach for calculating the conditional probability of an event:\n",
    "> $P(A|B) = \\frac{P(B|A) * P(A)}{P(B)}$\n",
    "\n",
    "<br/>\n",
    "\n",
    "We can simplify this calculation by removing the normalizing value of $P(B)$ and describe the conditional probability as a proportional quantity. This is useful as we are not interested in calculating a specific conditional probability, but instead in optimizing a quantity.\n",
    "> $P(A|B) = P(B|A) * P(A)$\n",
    "\n",
    "<br/>\n",
    "\n",
    "The conditional probability that we are calculating is referred to generally as the <b><font color='darkblue'>posterior probability</font></b>; the reverse conditional probability is sometimes referred to as the <b><font color='orange'>likelihood</font></b>, and the marginal probability is referred to as the <b><font color='violet'>prior probability</font></b>; for example:\n",
    "> <b><font color='darkblue'>posterior</font></b> = <b><font color='orange'>likelihood</font> * <font color='violet'>prior</font></b>\n",
    "\n",
    "<br/>\n",
    "\n",
    "<b>This provides a framework that can be used to quantify the beliefs about an unknown objective function given samples from the domain and their evaluation via the objective function</b>."
   ]
  },
  {
   "cell_type": "markdown",
   "id": "868f70b6-532a-47cc-9d2a-40db2c8551a5",
   "metadata": {},
   "source": [
    "<b>We can devise specific samples $(x1, x2, …, xn)$ and evaluate them using the objective function $f(xi)$ that returns the cost or outcome for the sample $xi$</b>. Samples and their outcome are collected sequentially and define our data $D$, e.g. $D = \\{xi, f(xi), … xn, f(xn)\\}$ and is used to define the <b><font color='violet'>prior</font></b>. The <b><font color='orange'>likelihood function</font></b> is defined as the probability of observing the data given the function $P(D | f)$. <b>This <b><font color='orange'>likelihood function</font></b> will change as more observations are collected</b>.\n",
    "> $P(f|D) = P(D|f) * P(f)$\n",
    "\n",
    "<br/>\n",
    "\n",
    "<b>The <font color='darkblue'>posterior</font> represents everything we know about the objective function. It is an approximation of the objective function and can be used to estimate the cost of different candidate samples that we may want to evaluate</b>.\n",
    "\n",
    "In this way, <b>the <font color='darkblue'>posterior probability</font> is a surrogate objective function</b>.\n",
    "> The posterior captures the updated beliefs about the unknown objective function. One may also interpret this step of Bayesian optimization as estimating the objective function with a surrogate function (also called a response surface).\n",
    "> <br/><br/>\n",
    "> [— A Tutorial on Bayesian Optimization of Expensive Cost Functions, with Application to Active User Modeling and Hierarchical Reinforcement Learning, 2010.](https://arxiv.org/abs/1012.2599)\n",
    "\n",
    "* <b><font color='darkblue'>Surrogate Function</font></b>: Bayesian approximation of the objective function that can be sampled efficiently."
   ]
  },
  {
   "cell_type": "markdown",
   "id": "85afdbb3-13f1-4a50-9dd8-f481dc2d706a",
   "metadata": {},
   "source": [
    "The <b><font color='darkblue'>surrogate function</font></b> gives us an estimate of the objective function, which can be used to direct future sampling. <b>Sampling involves careful use of the <font color='darkblue'>posterior</font> in a function known as the “acquisition” function, e.g. for acquiring more samples</b>. We want to use our belief about the objective function to sample the area of the search space that is most likely to pay off, therefore <b>the acquisition will optimize the conditional probability of locations in the search to generate the next sample</b>.\n",
    "* <b><font color='darkblue'>Acquisition Function</font></b>: Technique by which the <b><font color='darkblue'>posterior</font></b> is used to select the next sample from the search space.\n",
    "\n",
    "<br/>\n",
    "\n",
    "Once additional samples and their evaluation via the objective function $f(...)$ have been collected, they are added to data $D$ and <b><font color='darkblue'>the posterior</font></b> is then updated. <b>This process is repeated until the extrema of the objective function is located, a good enough result is located, or resources are exhausted.</b>"
   ]
  },
  {
   "cell_type": "markdown",
   "id": "051f511a-8723-41e3-8337-bdcaa8f96736",
   "metadata": {},
   "source": [
    "The Bayesian Optimization algorithm can be summarized as follows:\n",
    "1. Select a Sample by Optimizing the Acquisition Function.\r\n",
    "2. Evaluate the Sample With the Objective Function.\r\n",
    "3. Update the Data and, in turn, the Surrogate Function.\r\n",
    "4. Go To 1."
   ]
  },
  {
   "cell_type": "markdown",
   "id": "96575749-cbcd-4ccb-b39c-0adcf940ecab",
   "metadata": {},
   "source": [
    "## <a id='sect3'><b><font color='darkblue'>How to Perform Bayesian Optimization</font></b></a> ([back](#sect1_2))\n",
    "<b><font size='3ptx'>In this section, we will explore how Bayesian Optimization works by developing an implementation from scratch for a simple one-dimensional test function.</font></b>\n",
    "* <a href='#sect3_1'><b><font size='3ptx'>Test Problem</font></b></a>\n",
    "* <a href='#sect3_2'><b><font size='3ptx'>Surrogate Function</font></b></a>\n",
    "* <a href='#sect3_3'><b><font size='3ptx'>Acquisition Function</font></b></a>\n",
    "* <a href='#sect3_4'><b><font size='3ptx'>Complete Bayesian Optimization Algorithm</font></b></a>\n",
    "\n",
    "First, we will define the test problem, then how to model the mapping of inputs to outputs with a surrogate function. Next, we will see how the surrogate function can be searched efficiently with an acquisition function before tying all of these elements together into the Bayesian Optimization procedure."
   ]
  },
  {
   "cell_type": "code",
   "execution_count": 137,
   "id": "762ef297-0075-4a96-85a8-55b73d7a3ec9",
   "metadata": {},
   "outputs": [],
   "source": [
    "from math import sin\n",
    "from math import pi\n",
    "from matplotlib import pyplot as plt\n",
    "import numpy as np\n",
    "from numpy import arange\n",
    "from numpy import argmax\n",
    "from numpy import asarray\n",
    "from numpy import vstack\n",
    "from numpy.random import normal\n",
    "from numpy.random import random\n",
    "\n",
    "from scipy.stats import norm\n",
    "from sklearn.gaussian_process import GaussianProcessRegressor\n",
    "from warnings import catch_warnings\n",
    "from warnings import simplefilter"
   ]
  },
  {
   "cell_type": "markdown",
   "id": "297f44b4-730a-4466-b5bb-6701f711eeb5",
   "metadata": {},
   "source": [
    "### <a id='sect3_1'><b><font color='darkgreen'>Test Problem</font></b></a>\n",
    "<b><font size='3ptx'>The first step is to define a test problem.</font></b>\n",
    "\n",
    "We will use a multimodal problem with five peaks, calculated as:\n",
    "> $y = x^2 * sin(5 * PI * x)^6$\n",
    "\n",
    "<br/>\n",
    "\n",
    "Where x is a real value in the range \\[0,1] and $PI$ is the value of pi (3.14...).\n",
    "\n",
    "<b>We will augment this function by adding Gaussian noise with a mean of zero and a standard deviation of 0.1.</b> This will mean that the real evaluation will have a positive or negative random value added to it, making the function challenging to optimize.\n",
    "\n",
    "The <b><font color='darkblue'>objective function</font></b> is implemented as below:"
   ]
  },
  {
   "cell_type": "code",
   "execution_count": 138,
   "id": "df08e32e-6cd8-46f0-88d7-384c89449262",
   "metadata": {},
   "outputs": [],
   "source": [
    "# objective function\n",
    "def objective(x: float, noise: float=0.1):\n",
    "\tnoise = normal(loc=0, scale=noise)\n",
    "\treturn (x**2 * sin(5 * pi * x)**6.0) + noise"
   ]
  },
  {
   "cell_type": "code",
   "execution_count": 139,
   "id": "efac8d8a-4d9b-4b29-90b3-25575819b525",
   "metadata": {},
   "outputs": [
    {
     "name": "stdout",
     "output_type": "stream",
     "text": [
      "The objective function output with inputx=0.5 is 0.25\n"
     ]
    }
   ],
   "source": [
    "x = 0.5\n",
    "print(f'The objective function output with inputx={x} is {objective(x):.02f}')"
   ]
  },
  {
   "cell_type": "markdown",
   "id": "89f98691-9bfc-4ed7-a96f-2547e4b10fde",
   "metadata": {},
   "source": [
    "We can test this function by first defining a grid-based sample of inputs from 0 to 1 with a step size of 0.01 across the domain."
   ]
  },
  {
   "cell_type": "code",
   "execution_count": 140,
   "id": "c2f141fc-46d9-4a02-bdb2-7cdbacdc2855",
   "metadata": {},
   "outputs": [],
   "source": [
    "# grid-based sample of the domain [0,1]\n",
    "X = arange(0, 1, 0.01)"
   ]
  },
  {
   "cell_type": "markdown",
   "id": "066473b1-99ad-424d-81b9-0abde1897b91",
   "metadata": {},
   "source": [
    "We can then evaluate these samples using the target function without any noise to see what the real objective function looks like:"
   ]
  },
  {
   "cell_type": "code",
   "execution_count": 141,
   "id": "30527bbb-f449-4967-897e-fb972c23e231",
   "metadata": {},
   "outputs": [
    {
     "data": {
      "image/png": "[encoded data removed]",
      "text/plain": [
       "<Figure size 1000x500 with 1 Axes>"
      ]
     },
     "metadata": {},
     "output_type": "display_data"
    }
   ],
   "source": [
    "# sample the domain without noise\n",
    "y = [objective(x, 0) for x in X]\n",
    "plt.scatter(X, y)\n",
    "plt.show()"
   ]
  },
  {
   "cell_type": "markdown",
   "id": "e3635ab8-3a98-412c-ac5e-f68e6460e4ee",
   "metadata": {},
   "source": [
    "We can then evaluate these same points with noise to see what the objective function will look like when we are optimizing it."
   ]
  },
  {
   "cell_type": "code",
   "execution_count": 142,
   "id": "63591943-82af-482f-9367-07b2a8335a11",
   "metadata": {},
   "outputs": [
    {
     "data": {
      "image/png": "[encoded data removed]",
      "text/plain": [
       "<Figure size 1000x500 with 1 Axes>"
      ]
     },
     "metadata": {},
     "output_type": "display_data"
    }
   ],
   "source": [
    "...\n",
    "# sample the domain with noise\n",
    "y_noise = [objective(x) for x in X]\n",
    "plt.scatter(X, y_noise)\n",
    "plt.show()"
   ]
  },
  {
   "cell_type": "markdown",
   "id": "bf3d1d45-d89b-4976-ae77-b2e66a3fa447",
   "metadata": {},
   "source": [
    "<b>We can look at all of the non-noisy objective function values to find the input that resulted in the best score and report it</b>. This will be the optima, in this case, maxima, as we are maximizing the output of the objective function.\n",
    "\n",
    "<b>We would not know this in practice, but for out test problem, it is good to know the real best input and output of the function to see if the Bayesian Optimization algorithm can locate it</b>."
   ]
  },
  {
   "cell_type": "code",
   "execution_count": 143,
   "id": "1425596c-a2ca-4493-8717-f865161d3402",
   "metadata": {},
   "outputs": [
    {
     "name": "stdout",
     "output_type": "stream",
     "text": [
      "Optima: x=0.900, y=0.810\n"
     ]
    }
   ],
   "source": [
    "# find best result\n",
    "ix = argmax(y)\n",
    "print('Optima: x=%.3f, y=%.3f' % (X[ix], y[ix]))"
   ]
  },
  {
   "cell_type": "markdown",
   "id": "7ccf9ccb-7c74-4069-a0d4-23243b294b4a",
   "metadata": {},
   "source": [
    "Finally, we can create a plot, first showing the noisy evaluation as a scatter plot with input on the x-axis and score on the y-axis, then a line plot of the scores without any noise."
   ]
  },
  {
   "cell_type": "code",
   "execution_count": 144,
   "id": "e120c120-479d-4ec4-b2e8-4d58cf522e53",
   "metadata": {},
   "outputs": [
    {
     "data": {
      "image/png": "[encoded data removed]",
      "text/plain": [
       "<Figure size 1000x500 with 1 Axes>"
      ]
     },
     "metadata": {},
     "output_type": "display_data"
    }
   ],
   "source": [
    "# plot the points with noise\n",
    "plt.scatter(X, y_noise)\n",
    "\n",
    "# plot the points without noise\n",
    "plt.plot(X, y)\n",
    "\n",
    "# show the plot\n",
    "plt.show()"
   ]
  },
  {
   "cell_type": "markdown",
   "id": "0852efda-1013-41e9-9c46-4854bb8429c9",
   "metadata": {},
   "source": [
    "A plot is then created showing the noisy evaluation of the samples (dots) and the non-noisy and true shape of the objective function (line).\n",
    "\n",
    "<b>Now that we have a test problem, let’s review how to train a surrogate function</b>."
   ]
  },
  {
   "cell_type": "markdown",
   "id": "6f7c0810-15e0-40d1-8c24-ca80733e5fe4",
   "metadata": {},
   "source": [
    "### <a id='sect3_2'><b><font color='darkgreen'>Surrogate Function</font></b></a> ([back](#sect3))\n",
    "<b><font size='3ptx'>The surrogate function is a technique used to best approximate the mapping of input examples to an output score.</font></b>\n",
    "\n",
    "Probabilistically, it summarizes the conditional probability of an objective function (`f`), given the available data (`D`) or $P(f|D)$.\n",
    "\n",
    "A number of techniques can be used for this, although <b>the most popular is to treat the problem as a regression predictive modeling problem with the data representing the input and the score representing the output to the model</b>. This is often best modeled using a [**Random forest**](https://en.wikipedia.org/wiki/Random_forest) or a [**Gaussian Process**](https://en.wikipedia.org/wiki/Gaussian_process).\n",
    "\n",
    "**A [Gaussian Process](https://en.wikipedia.org/wiki/Gaussian_process), or GP, is a model that constructs a joint probability distribution over the variables, assuming a multivariate Gaussian distribution.** As such, it is capable of efficient and effective summarization of a large number of functions and smooth transition as more observations are made available to the model."
   ]
  },
  {
   "cell_type": "markdown",
   "id": "d00e4cf4-2d1d-4c25-9b1c-8e2f57c07a23",
   "metadata": {},
   "source": [
    "**This smooth structure and smooth transition to new functions based on data are desirable properties as we sample the domain, and the multivariate Gaussian basis to the model means that an estimate from the model will be a mean of a distribution with a standard deviation**; that will be helpful later in the acquisition function.\n",
    "\n",
    "**As such, using a GP regression model is often preferred.**"
   ]
  },
  {
   "cell_type": "markdown",
   "id": "3ac4fb22-ba1e-4faa-8f30-1037dae214dc",
   "metadata": {},
   "source": [
    "We can fit a GP regression model using the [**GaussianProcessRegressor**](https://scikit-learn.org/stable/modules/generated/sklearn.gaussian_process.GaussianProcessRegressor.html) scikit-learn implementation from a sample of inputs (`X`) and noisy evaluations from the objective function (`y`).\n",
    "\n",
    "**First, the model must be defined. An important aspect in defining the GP model is the kernel. This controls the shape of the function at specific points based on distance measures between actual data observations**. Many different kernel functions can be used, and some may offer better performance for specific datasets.\n",
    "\n",
    "By default, a [**Radial Basis Function**](https://en.wikipedia.org/wiki/Radial_basis_function), or RBF, is used that can work well."
   ]
  },
  {
   "cell_type": "code",
   "execution_count": 145,
   "id": "ae20062e-feb5-4415-9afe-3b1dbb5034e0",
   "metadata": {},
   "outputs": [],
   "source": [
    "# define the model\n",
    "model = GaussianProcessRegressor()"
   ]
  },
  {
   "cell_type": "markdown",
   "id": "23ff4430-e992-44ba-9bc1-7ebd9e41dedb",
   "metadata": {},
   "source": [
    "Once defined, the model can be fit on the training dataset directly by calling the <font color='blue'>fit()</font> function.\n",
    "\n",
    "The defined model can be fit again at any time with updated data concatenated to the existing data by another call to <font color='blue'>fit()</font>."
   ]
  },
  {
   "cell_type": "code",
   "execution_count": 146,
   "id": "c8d2fa47-6f01-427f-aaca-b57a40d60c15",
   "metadata": {},
   "outputs": [],
   "source": [
    "X_ary = np.array([x for x in X]).reshape(len(X), 1)\n",
    "y_noise_ary = np.array([y for y in y_noise])"
   ]
  },
  {
   "cell_type": "code",
   "execution_count": 147,
   "id": "0d4c9c6b-6ddd-4a1b-b0de-da40033843b2",
   "metadata": {},
   "outputs": [
    {
     "data": {
      "text/plain": [
       "(100, 1)"
      ]
     },
     "execution_count": 147,
     "metadata": {},
     "output_type": "execute_result"
    }
   ],
   "source": [
    "X_ary.shape"
   ]
  },
  {
   "cell_type": "code",
   "execution_count": 148,
   "id": "7a8f7a6e-3aed-43a5-8716-13c8ebdbfdb1",
   "metadata": {},
   "outputs": [
    {
     "name": "stdout",
     "output_type": "stream",
     "text": [
      "CPU times: user 39.6 ms, sys: 337 ms, total: 377 ms\n",
      "Wall time: 21.9 ms\n"
     ]
    },
    {
     "data": {
      "text/html": [
       "<style>#sk-container-id-8 {\n",
       "  /* Definition of color scheme common for light and dark mode */\n",
       "  --sklearn-color-text: black;\n",
       "  --sklearn-color-line: gray;\n",
       "  /* Definition of color scheme for unfitted estimators */\n",
       "  --sklearn-color-unfitted-level-0: #fff5e6;\n",
       "  --sklearn-color-unfitted-level-1: #f6e4d2;\n",
       "  --sklearn-color-unfitted-level-2: #ffe0b3;\n",
       "  --sklearn-color-unfitted-level-3: chocolate;\n",
       "  /* Definition of color scheme for fitted estimators */\n",
       "  --sklearn-color-fitted-level-0: #f0f8ff;\n",
       "  --sklearn-color-fitted-level-1: #d4ebff;\n",
       "  --sklearn-color-fitted-level-2: #b3dbfd;\n",
       "  --sklearn-color-fitted-level-3: cornflowerblue;\n",
       "\n",
       "  /* Specific color for light theme */\n",
       "  --sklearn-color-text-on-default-background: var(--sg-text-color, var(--theme-code-foreground, var(--jp-content-font-color1, black)));\n",
       "  --sklearn-color-background: var(--sg-background-color, var(--theme-background, var(--jp-layout-color0, white)));\n",
       "  --sklearn-color-border-box: var(--sg-text-color, var(--theme-code-foreground, var(--jp-content-font-color1, black)));\n",
       "  --sklearn-color-icon: #696969;\n",
       "\n",
       "  @media (prefers-color-scheme: dark) {\n",
       "    /* Redefinition of color scheme for dark theme */\n",
       "    --sklearn-color-text-on-default-background: var(--sg-text-color, var(--theme-code-foreground, var(--jp-content-font-color1, white)));\n",
       "    --sklearn-color-background: var(--sg-background-color, var(--theme-background, var(--jp-layout-color0, #111)));\n",
       "    --sklearn-color-border-box: var(--sg-text-color, var(--theme-code-foreground, var(--jp-content-font-color1, white)));\n",
       "    --sklearn-color-icon: #878787;\n",
       "  }\n",
       "}\n",
       "\n",
       "#sk-container-id-8 {\n",
       "  color: var(--sklearn-color-text);\n",
       "}\n",
       "\n",
       "#sk-container-id-8 pre {\n",
       "  padding: 0;\n",
       "}\n",
       "\n",
       "#sk-container-id-8 input.sk-hidden--visually {\n",
       "  border: 0;\n",
       "  clip: rect(1px 1px 1px 1px);\n",
       "  clip: rect(1px, 1px, 1px, 1px);\n",
       "  height: 1px;\n",
       "  margin: -1px;\n",
       "  overflow: hidden;\n",
       "  padding: 0;\n",
       "  position: absolute;\n",
       "  width: 1px;\n",
       "}\n",
       "\n",
       "#sk-container-id-8 div.sk-dashed-wrapped {\n",
       "  border: 1px dashed var(--sklearn-color-line);\n",
       "  margin: 0 0.4em 0.5em 0.4em;\n",
       "  box-sizing: border-box;\n",
       "  padding-bottom: 0.4em;\n",
       "  background-color: var(--sklearn-color-background);\n",
       "}\n",
       "\n",
       "#sk-container-id-8 div.sk-container {\n",
       "  /* jupyter's `normalize.less` sets `[hidden] { display: none; }`\n",
       "     but bootstrap.min.css set `[hidden] { display: none !important; }`\n",
       "     so we also need the `!important` here to be able to override the\n",
       "     default hidden behavior on the sphinx rendered scikit-learn.org.\n",
       "     See: https://github.com/scikit-learn/scikit-learn/issues/21755 */\n",
       "  display: inline-block !important;\n",
       "  position: relative;\n",
       "}\n",
       "\n",
       "#sk-container-id-8 div.sk-text-repr-fallback {\n",
       "  display: none;\n",
       "}\n",
       "\n",
       "div.sk-parallel-item,\n",
       "div.sk-serial,\n",
       "div.sk-item {\n",
       "  /* draw centered vertical line to link estimators */\n",
       "  background-image: linear-gradient(var(--sklearn-color-text-on-default-background), var(--sklearn-color-text-on-default-background));\n",
       "  background-size: 2px 100%;\n",
       "  background-repeat: no-repeat;\n",
       "  background-position: center center;\n",
       "}\n",
       "\n",
       "/* Parallel-specific style estimator block */\n",
       "\n",
       "#sk-container-id-8 div.sk-parallel-item::after {\n",
       "  content: \"\";\n",
       "  width: 100%;\n",
       "  border-bottom: 2px solid var(--sklearn-color-text-on-default-background);\n",
       "  flex-grow: 1;\n",
       "}\n",
       "\n",
       "#sk-container-id-8 div.sk-parallel {\n",
       "  display: flex;\n",
       "  align-items: stretch;\n",
       "  justify-content: center;\n",
       "  background-color: var(--sklearn-color-background);\n",
       "  position: relative;\n",
       "}\n",
       "\n",
       "#sk-container-id-8 div.sk-parallel-item {\n",
       "  display: flex;\n",
       "  flex-direction: column;\n",
       "}\n",
       "\n",
       "#sk-container-id-8 div.sk-parallel-item:first-child::after {\n",
       "  align-self: flex-end;\n",
       "  width: 50%;\n",
       "}\n",
       "\n",
       "#sk-container-id-8 div.sk-parallel-item:last-child::after {\n",
       "  align-self: flex-start;\n",
       "  width: 50%;\n",
       "}\n",
       "\n",
       "#sk-container-id-8 div.sk-parallel-item:only-child::after {\n",
       "  width: 0;\n",
       "}\n",
       "\n",
       "/* Serial-specific style estimator block */\n",
       "\n",
       "#sk-container-id-8 div.sk-serial {\n",
       "  display: flex;\n",
       "  flex-direction: column;\n",
       "  align-items: center;\n",
       "  background-color: var(--sklearn-color-background);\n",
       "  padding-right: 1em;\n",
       "  padding-left: 1em;\n",
       "}\n",
       "\n",
       "\n",
       "/* Toggleable style: style used for estimator/Pipeline/ColumnTransformer box that is\n",
       "clickable and can be expanded/collapsed.\n",
       "- Pipeline and ColumnTransformer use this feature and define the default style\n",
       "- Estimators will overwrite some part of the style using the `sk-estimator` class\n",
       "*/\n",
       "\n",
       "/* Pipeline and ColumnTransformer style (default) */\n",
       "\n",
       "#sk-container-id-8 div.sk-toggleable {\n",
       "  /* Default theme specific background. It is overwritten whether we have a\n",
       "  specific estimator or a Pipeline/ColumnTransformer */\n",
       "  background-color: var(--sklearn-color-background);\n",
       "}\n",
       "\n",
       "/* Toggleable label */\n",
       "#sk-container-id-8 label.sk-toggleable__label {\n",
       "  cursor: pointer;\n",
       "  display: block;\n",
       "  width: 100%;\n",
       "  margin-bottom: 0;\n",
       "  padding: 0.5em;\n",
       "  box-sizing: border-box;\n",
       "  text-align: center;\n",
       "}\n",
       "\n",
       "#sk-container-id-8 label.sk-toggleable__label-arrow:before {\n",
       "  /* Arrow on the left of the label */\n",
       "  content: \"▸\";\n",
       "  float: left;\n",
       "  margin-right: 0.25em;\n",
       "  color: var(--sklearn-color-icon);\n",
       "}\n",
       "\n",
       "#sk-container-id-8 label.sk-toggleable__label-arrow:hover:before {\n",
       "  color: var(--sklearn-color-text);\n",
       "}\n",
       "\n",
       "/* Toggleable content - dropdown */\n",
       "\n",
       "#sk-container-id-8 div.sk-toggleable__content {\n",
       "  max-height: 0;\n",
       "  max-width: 0;\n",
       "  overflow: hidden;\n",
       "  text-align: left;\n",
       "  /* unfitted */\n",
       "  background-color: var(--sklearn-color-unfitted-level-0);\n",
       "}\n",
       "\n",
       "#sk-container-id-8 div.sk-toggleable__content.fitted {\n",
       "  /* fitted */\n",
       "  background-color: var(--sklearn-color-fitted-level-0);\n",
       "}\n",
       "\n",
       "#sk-container-id-8 div.sk-toggleable__content pre {\n",
       "  margin: 0.2em;\n",
       "  border-radius: 0.25em;\n",
       "  color: var(--sklearn-color-text);\n",
       "  /* unfitted */\n",
       "  background-color: var(--sklearn-color-unfitted-level-0);\n",
       "}\n",
       "\n",
       "#sk-container-id-8 div.sk-toggleable__content.fitted pre {\n",
       "  /* unfitted */\n",
       "  background-color: var(--sklearn-color-fitted-level-0);\n",
       "}\n",
       "\n",
       "#sk-container-id-8 input.sk-toggleable__control:checked~div.sk-toggleable__content {\n",
       "  /* Expand drop-down */\n",
       "  max-height: 200px;\n",
       "  max-width: 100%;\n",
       "  overflow: auto;\n",
       "}\n",
       "\n",
       "#sk-container-id-8 input.sk-toggleable__control:checked~label.sk-toggleable__label-arrow:before {\n",
       "  content: \"▾\";\n",
       "}\n",
       "\n",
       "/* Pipeline/ColumnTransformer-specific style */\n",
       "\n",
       "#sk-container-id-8 div.sk-label input.sk-toggleable__control:checked~label.sk-toggleable__label {\n",
       "  color: var(--sklearn-color-text);\n",
       "  background-color: var(--sklearn-color-unfitted-level-2);\n",
       "}\n",
       "\n",
       "#sk-container-id-8 div.sk-label.fitted input.sk-toggleable__control:checked~label.sk-toggleable__label {\n",
       "  background-color: var(--sklearn-color-fitted-level-2);\n",
       "}\n",
       "\n",
       "/* Estimator-specific style */\n",
       "\n",
       "/* Colorize estimator box */\n",
       "#sk-container-id-8 div.sk-estimator input.sk-toggleable__control:checked~label.sk-toggleable__label {\n",
       "  /* unfitted */\n",
       "  background-color: var(--sklearn-color-unfitted-level-2);\n",
       "}\n",
       "\n",
       "#sk-container-id-8 div.sk-estimator.fitted input.sk-toggleable__control:checked~label.sk-toggleable__label {\n",
       "  /* fitted */\n",
       "  background-color: var(--sklearn-color-fitted-level-2);\n",
       "}\n",
       "\n",
       "#sk-container-id-8 div.sk-label label.sk-toggleable__label,\n",
       "#sk-container-id-8 div.sk-label label {\n",
       "  /* The background is the default theme color */\n",
       "  color: var(--sklearn-color-text-on-default-background);\n",
       "}\n",
       "\n",
       "/* On hover, darken the color of the background */\n",
       "#sk-container-id-8 div.sk-label:hover label.sk-toggleable__label {\n",
       "  color: var(--sklearn-color-text);\n",
       "  background-color: var(--sklearn-color-unfitted-level-2);\n",
       "}\n",
       "\n",
       "/* Label box, darken color on hover, fitted */\n",
       "#sk-container-id-8 div.sk-label.fitted:hover label.sk-toggleable__label.fitted {\n",
       "  color: var(--sklearn-color-text);\n",
       "  background-color: var(--sklearn-color-fitted-level-2);\n",
       "}\n",
       "\n",
       "/* Estimator label */\n",
       "\n",
       "#sk-container-id-8 div.sk-label label {\n",
       "  font-family: monospace;\n",
       "  font-weight: bold;\n",
       "  display: inline-block;\n",
       "  line-height: 1.2em;\n",
       "}\n",
       "\n",
       "#sk-container-id-8 div.sk-label-container {\n",
       "  text-align: center;\n",
       "}\n",
       "\n",
       "/* Estimator-specific */\n",
       "#sk-container-id-8 div.sk-estimator {\n",
       "  font-family: monospace;\n",
       "  border: 1px dotted var(--sklearn-color-border-box);\n",
       "  border-radius: 0.25em;\n",
       "  box-sizing: border-box;\n",
       "  margin-bottom: 0.5em;\n",
       "  /* unfitted */\n",
       "  background-color: var(--sklearn-color-unfitted-level-0);\n",
       "}\n",
       "\n",
       "#sk-container-id-8 div.sk-estimator.fitted {\n",
       "  /* fitted */\n",
       "  background-color: var(--sklearn-color-fitted-level-0);\n",
       "}\n",
       "\n",
       "/* on hover */\n",
       "#sk-container-id-8 div.sk-estimator:hover {\n",
       "  /* unfitted */\n",
       "  background-color: var(--sklearn-color-unfitted-level-2);\n",
       "}\n",
       "\n",
       "#sk-container-id-8 div.sk-estimator.fitted:hover {\n",
       "  /* fitted */\n",
       "  background-color: var(--sklearn-color-fitted-level-2);\n",
       "}\n",
       "\n",
       "/* Specification for estimator info (e.g. \"i\" and \"?\") */\n",
       "\n",
       "/* Common style for \"i\" and \"?\" */\n",
       "\n",
       ".sk-estimator-doc-link,\n",
       "a:link.sk-estimator-doc-link,\n",
       "a:visited.sk-estimator-doc-link {\n",
       "  float: right;\n",
       "  font-size: smaller;\n",
       "  line-height: 1em;\n",
       "  font-family: monospace;\n",
       "  background-color: var(--sklearn-color-background);\n",
       "  border-radius: 1em;\n",
       "  height: 1em;\n",
       "  width: 1em;\n",
       "  text-decoration: none !important;\n",
       "  margin-left: 1ex;\n",
       "  /* unfitted */\n",
       "  border: var(--sklearn-color-unfitted-level-1) 1pt solid;\n",
       "  color: var(--sklearn-color-unfitted-level-1);\n",
       "}\n",
       "\n",
       ".sk-estimator-doc-link.fitted,\n",
       "a:link.sk-estimator-doc-link.fitted,\n",
       "a:visited.sk-estimator-doc-link.fitted {\n",
       "  /* fitted */\n",
       "  border: var(--sklearn-color-fitted-level-1) 1pt solid;\n",
       "  color: var(--sklearn-color-fitted-level-1);\n",
       "}\n",
       "\n",
       "/* On hover */\n",
       "div.sk-estimator:hover .sk-estimator-doc-link:hover,\n",
       ".sk-estimator-doc-link:hover,\n",
       "div.sk-label-container:hover .sk-estimator-doc-link:hover,\n",
       ".sk-estimator-doc-link:hover {\n",
       "  /* unfitted */\n",
       "  background-color: var(--sklearn-color-unfitted-level-3);\n",
       "  color: var(--sklearn-color-background);\n",
       "  text-decoration: none;\n",
       "}\n",
       "\n",
       "div.sk-estimator.fitted:hover .sk-estimator-doc-link.fitted:hover,\n",
       ".sk-estimator-doc-link.fitted:hover,\n",
       "div.sk-label-container:hover .sk-estimator-doc-link.fitted:hover,\n",
       ".sk-estimator-doc-link.fitted:hover {\n",
       "  /* fitted */\n",
       "  background-color: var(--sklearn-color-fitted-level-3);\n",
       "  color: var(--sklearn-color-background);\n",
       "  text-decoration: none;\n",
       "}\n",
       "\n",
       "/* Span, style for the box shown on hovering the info icon */\n",
       ".sk-estimator-doc-link span {\n",
       "  display: none;\n",
       "  z-index: 9999;\n",
       "  position: relative;\n",
       "  font-weight: normal;\n",
       "  right: .2ex;\n",
       "  padding: .5ex;\n",
       "  margin: .5ex;\n",
       "  width: min-content;\n",
       "  min-width: 20ex;\n",
       "  max-width: 50ex;\n",
       "  color: var(--sklearn-color-text);\n",
       "  box-shadow: 2pt 2pt 4pt #999;\n",
       "  /* unfitted */\n",
       "  background: var(--sklearn-color-unfitted-level-0);\n",
       "  border: .5pt solid var(--sklearn-color-unfitted-level-3);\n",
       "}\n",
       "\n",
       ".sk-estimator-doc-link.fitted span {\n",
       "  /* fitted */\n",
       "  background: var(--sklearn-color-fitted-level-0);\n",
       "  border: var(--sklearn-color-fitted-level-3);\n",
       "}\n",
       "\n",
       ".sk-estimator-doc-link:hover span {\n",
       "  display: block;\n",
       "}\n",
       "\n",
       "/* \"?\"-specific style due to the `<a>` HTML tag */\n",
       "\n",
       "#sk-container-id-8 a.estimator_doc_link {\n",
       "  float: right;\n",
       "  font-size: 1rem;\n",
       "  line-height: 1em;\n",
       "  font-family: monospace;\n",
       "  background-color: var(--sklearn-color-background);\n",
       "  border-radius: 1rem;\n",
       "  height: 1rem;\n",
       "  width: 1rem;\n",
       "  text-decoration: none;\n",
       "  /* unfitted */\n",
       "  color: var(--sklearn-color-unfitted-level-1);\n",
       "  border: var(--sklearn-color-unfitted-level-1) 1pt solid;\n",
       "}\n",
       "\n",
       "#sk-container-id-8 a.estimator_doc_link.fitted {\n",
       "  /* fitted */\n",
       "  border: var(--sklearn-color-fitted-level-1) 1pt solid;\n",
       "  color: var(--sklearn-color-fitted-level-1);\n",
       "}\n",
       "\n",
       "/* On hover */\n",
       "#sk-container-id-8 a.estimator_doc_link:hover {\n",
       "  /* unfitted */\n",
       "  background-color: var(--sklearn-color-unfitted-level-3);\n",
       "  color: var(--sklearn-color-background);\n",
       "  text-decoration: none;\n",
       "}\n",
       "\n",
       "#sk-container-id-8 a.estimator_doc_link.fitted:hover {\n",
       "  /* fitted */\n",
       "  background-color: var(--sklearn-color-fitted-level-3);\n",
       "}\n",
       "</style><div id=\"sk-container-id-8\" class=\"sk-top-container\"><div class=\"sk-text-repr-fallback\"><pre>GaussianProcessRegressor()</pre><b>In a Jupyter environment, please rerun this cell to show the HTML representation or trust the notebook. <br />On GitHub, the HTML representation is unable to render, please try loading this page with nbviewer.org.</b></div><div class=\"sk-container\" hidden><div class=\"sk-item\"><div class=\"sk-estimator fitted sk-toggleable\"><input class=\"sk-toggleable__control sk-hidden--visually\" id=\"sk-estimator-id-8\" type=\"checkbox\" checked><label for=\"sk-estimator-id-8\" class=\"sk-toggleable__label fitted sk-toggleable__label-arrow fitted\">&nbsp;&nbsp;GaussianProcessRegressor<a class=\"sk-estimator-doc-link fitted\" rel=\"noreferrer\" target=\"_blank\" href=\"https://scikit-learn.org/1.4/modules/generated/sklearn.gaussian_process.GaussianProcessRegressor.html\">?<span>Documentation for GaussianProcessRegressor</span></a><span class=\"sk-estimator-doc-link fitted\">i<span>Fitted</span></span></label><div class=\"sk-toggleable__content fitted\"><pre>GaussianProcessRegressor()</pre></div> </div></div></div></div>"
      ],
      "text/plain": [
       "GaussianProcessRegressor()"
      ]
     },
     "execution_count": 148,
     "metadata": {},
     "output_type": "execute_result"
    }
   ],
   "source": [
    "%%time\n",
    "# fit the model\n",
    "model.fit(X_ary, y_noise_ary)"
   ]
  },
  {
   "cell_type": "markdown",
   "id": "e32e732f-3190-4f5a-a247-9dffb07f965f",
   "metadata": {},
   "source": [
    "**The model will estimate the cost for one or more samples provided to it.**\n",
    "\n",
    "The model is used by calling the <font color='blue'>predict()</font> function. **The result for a given sample will be a mean of the distribution at that point**. We can also get the standard deviation of the distribution at that point in the function by specifying the argument `return_std=True`; for example:"
   ]
  },
  {
   "cell_type": "code",
   "execution_count": 149,
   "id": "8e5fbea0-042f-4fcd-9c81-473c49f6383d",
   "metadata": {},
   "outputs": [
    {
     "name": "stdout",
     "output_type": "stream",
     "text": [
      "X[10]=[0.1] is predicted to have yhat_mean=0.02 with std=2.9e-06\n"
     ]
    }
   ],
   "source": [
    "yhat_mean_ary, yhat_std_ary = model.predict(X_ary[10:11], return_std=True)\n",
    "print(f'X[10]={X_ary[10]} is predicted to have yhat_mean={yhat_mean_ary[0]:.01} with std={yhat_std_ary[0]:.02}')"
   ]
  },
  {
   "cell_type": "markdown",
   "id": "43a336e3-07f2-4678-963f-03e6abf3adc8",
   "metadata": {},
   "source": [
    "This function can result in warnings if the distribution is thin at a given point we are interested in sampling.\n",
    "\n",
    "Therefore, we can silence all of the warnings when making a prediction. The <font color='blue'>surrogate()</font> function below takes the fit model and one or more samples and returns the mean and standard deviation estimated costs while not printing any warnings."
   ]
  },
  {
   "cell_type": "code",
   "execution_count": 150,
   "id": "16e63415-8e7f-4c5f-8555-65e4d4b7ebdb",
   "metadata": {},
   "outputs": [],
   "source": [
    "# surrogate or approximation for the objective function\n",
    "def surrogate(model, X_ary: np.array):\n",
    "    \"\"\"Returns the prediction of model from given `X_ary`.\"\"\"\n",
    "    # catch any warning generated when making a prediction\n",
    "    with catch_warnings():\n",
    "    \t# ignore generated warnings\n",
    "    \tsimplefilter(\"ignore\")\n",
    "    \treturn model.predict(X_ary, return_std=True)"
   ]
  },
  {
   "cell_type": "markdown",
   "id": "b17eabcf-4d02-4085-bea4-cffc714c7bb5",
   "metadata": {},
   "source": [
    "We can call this function any time to estimate the cost of one or more samples, such as when we want to optimize the <b><font color='blue'>acquisition function</font></b> in the next section.\n",
    "\n",
    "For now, it is interesting to see what the surrogate function looks like across the domain after it is trained on a random sample.\n",
    "\n",
    "We can achieve this by first <b>fitting the GP model on a random sample of 100 data points and their real objective function values with noise. We can then plot a scatter plot of these points</b>. Next, we can perform a grid-based sample across the input domain and estimate the cost at each point using the surrogate function and plot the result as a line.\n",
    "\n",
    "We would expect the surrogate function to have a crude approximation of the true non-noisy objective function. <b>The <font color='blue'>plot()</font> function below creates this plot, given the random data sample of the real noisy objective function and the fit model.</b>"
   ]
  },
  {
   "cell_type": "code",
   "execution_count": 151,
   "id": "6a2810f9-00ee-4bf8-97e1-0fcd64448ecb",
   "metadata": {},
   "outputs": [],
   "source": [
    "# plot real observations vs surrogate function\n",
    "def plot(X, y, model, title=None, selected_points=None):\n",
    "    \"\"\"Scatters the (`X`, `y`) pairs and then plot the prediction from model on `X`.\"\"\" \n",
    "    plt.rcParams['figure.figsize'] = [10, 5]\n",
    "    \n",
    "    # scatter plot of inputs and real objective function\n",
    "    plt.scatter(X, y, label='Samples with noise')\n",
    "\n",
    "    # scatter plot of selected points\n",
    "    if selected_points:\n",
    "        selected_X = [x for x, _ in selected_points]\n",
    "        actual_y = [y for _, y in selected_points]\n",
    "        plt.scatter(\n",
    "            selected_X, actual_y,\n",
    "            label='Selected points by optimization',\n",
    "            color='lawngreen')\n",
    "    \n",
    "    # line plot of surrogate function across domain\n",
    "    X_samples_ary = asarray(arange(0, 1, 0.001))\n",
    "    X_samples_ary = X_samples_ary.reshape(len(X_samples_ary), 1)\n",
    "    y_samples_ary, _ = surrogate(model, X_samples_ary)\n",
    "    plt.plot(X_samples_ary, y_samples_ary, color='g', label='model prediction')\n",
    "\n",
    "    # Plot the peak point vertex line\n",
    "    max_y_pos = np.argmax(y_samples_ary)\n",
    "    max_x_pos = X_samples_ary[max_y_pos][0]\n",
    "    peak_value = y_samples_ary[max_y_pos]\n",
    "    plt.axvline(\n",
    "        x = max_x_pos, color='r',\n",
    "        label=f'peak value: x={max_x_pos:.02f}; y={peak_value:.02f}')\n",
    "    \n",
    "    # show the plot\n",
    "    if title:\n",
    "        plt.title(title)\n",
    "        \n",
    "    plt.legend()\n",
    "    plt.show()"
   ]
  },
  {
   "cell_type": "markdown",
   "id": "7f133169-a485-484b-9984-6bd3a39f2422",
   "metadata": {},
   "source": [
    "Tying this together, <b>the complete example of fitting a Gaussian Process regression model on noisy samples and plotting the sample vs. the surrogate function is listed below</b>."
   ]
  },
  {
   "cell_type": "code",
   "execution_count": 152,
   "id": "01718914-4a46-4322-8f10-794331054e8f",
   "metadata": {},
   "outputs": [],
   "source": [
    "def run_gp(model=None, sample_count:int=100):\n",
    "    # sample the domain sparsely with noise\n",
    "    X_ary = random(sample_count)\n",
    "    y_ary = asarray([objective(x) for x in X])\n",
    "    # reshape into rows and cols\n",
    "    X_ary = X_ary.reshape(len(X), 1)\n",
    "    y_ary = y_ary.reshape(len(y), 1)\n",
    "    # define the model\n",
    "    if model is None:\n",
    "        model = GaussianProcessRegressor()\n",
    "        \n",
    "    # fit the model\n",
    "    model.fit(X_ary, y_ary)\n",
    "    # plot the surrogate function\n",
    "    plot(X_ary, y_ary, model)\n",
    "    return model"
   ]
  },
  {
   "cell_type": "markdown",
   "id": "bffcc643-1dcf-4ab0-89f7-13139574c4b3",
   "metadata": {},
   "source": [
    "Running the example first draws the random sample, evaluates it with the noisy objective function, then fits the GP model."
   ]
  },
  {
   "cell_type": "code",
   "execution_count": 153,
   "id": "97545ce7-4fe9-47a7-8c7d-7e26fde7e347",
   "metadata": {},
   "outputs": [
    {
     "data": {
      "image/png": "[encoded data removed]",
      "text/plain": [
       "<Figure size 1000x500 with 1 Axes>"
      ]
     },
     "metadata": {},
     "output_type": "display_data"
    }
   ],
   "source": [
    "model = run_gp()"
   ]
  },
  {
   "cell_type": "markdown",
   "id": "7ec5adfe-8e57-4996-a239-850dfc538015",
   "metadata": {},
   "source": [
    "In this case, as we expected, the plot resembles a crude version of the underlying non-noisy objective function, importantly with <b>a peak as red line where we know the true maxima is located</b>.\n",
    "\n",
    "<b>Next, we must define a strategy for sampling the surrogate function</b>."
   ]
  },
  {
   "cell_type": "markdown",
   "id": "07327cf8-bb99-40ab-8da5-908a8acb3470",
   "metadata": {},
   "source": [
    "### <a id='sect3_3'><font color='darkgreen'><b>Acquisition Function</b></font></a> ([back](#sect3))\n",
    "<b><font size='3ptx'>The surrogate function is used to test a range of candidate samples in the domain.</font></b>\n",
    "\n",
    "From these results, one or more candidates can be selected and evaluated with the real, and in normal practice, computationally expensive cost function.\n",
    "\n",
    "<b>This involves two pieces: the search strategy used to navigate the domain in response to the surrogate function and the acquisition function that is used to interpret and score the response from the surrogate function</b>.\n",
    "\n",
    "A simple search strategy, such as a random sample or grid-based sample, can be used, although it is more common to use a local search strategy, such as the popular [**BFGS algorithm**](https://en.wikipedia.org/wiki/Broyden%E2%80%93Fletcher%E2%80%93Goldfarb%E2%80%93Shanno_algorithm):\n",
    "> In numerical optimization, the <b>Broyden–Fletcher–Goldfarb–Shanno</b> (BFGS) algorithm is an [iterative method](https://en.wikipedia.org/wiki/Iterative_method) for solving unconstrained [nonlinear optimization](https://en.wikipedia.org/wiki/Nonlinear_optimization) problems."
   ]
  },
  {
   "cell_type": "markdown",
   "id": "6fc92729-bb38-48da-af01-181de61a8892",
   "metadata": {},
   "source": [
    "<b>This involves first drawing a random sample of candidate samples from the domain, evaluating them with the acquisition function, then maximizing the acquisition function or choosing the candidate sample that gives the best score</b>. The <font color='blue'>opt_acquisition()</font> function below implements this."
   ]
  },
  {
   "cell_type": "code",
   "execution_count": 154,
   "id": "b9cb81b7-9950-4e7b-b23e-eb6484817356",
   "metadata": {},
   "outputs": [],
   "source": [
    "# optimize the acquisition function\n",
    "def opt_acquisition(X_ary, y_ary, model):\n",
    "    \"\"\"Selects the sample for next round of optimization iteration.\"\"\"\n",
    "    # random search, generate random samples\n",
    "    X_samples_ary = random(100)\n",
    "    X_samples_ary = X_samples_ary.reshape(len(X_samples_ary), 1)\n",
    "    # calculate the acquisition function for each sample\n",
    "    scores = acquisition(X_ary, X_samples_ary, model)\n",
    "    # locate the index of the largest scores\n",
    "    ix = argmax(scores)\n",
    "    return X_samples_ary[ix, 0]"
   ]
  },
  {
   "cell_type": "markdown",
   "id": "98d3df74-1ba0-484a-8730-70a79026b2c0",
   "metadata": {},
   "source": [
    "<b>The acquisition function is responsible for scoring or estimating the likelihood that a given candidate sample</b> (input) <b>is worth evaluating with the real objective function</b>.\r\n",
    "\r\n",
    "We could just use the surrogate score directly. Alternately, given that we have chosen a Gaussian Process model as the surrogate function, we can <b>use the probabilistic information from this model in the acquisition function to calculate the probability that a given sample is worth evaluating</b>.\r\n",
    "\r\n",
    "There are many different types of probabilistic acquisition functions that can be used, each providing a different trade-off for how exploitative (greedy) and explorative they are. Three common examples include:\r\n",
    "\r\n",
    "* [**Probability of Improvement**](https://optimization.cbe.cornell.edu/index.php?title=Bayesian_Optimization#Probability_of_Improvement) (PI).\r\n",
    "* Expected Improvement (EI).\r\n",
    "* Lower Confidence Bound (LCB).\r\n",
    "\r\n",
    "The <font color='darkblue'><b>Probability of Improvement</b></font> method is the simplest, whereas the <font color='darkblue'><b>Expected Improvement</b></font> method is the most commonly used.only used.d (LCB).CB)."
   ]
  },
  {
   "cell_type": "markdown",
   "id": "da4880e9-2af8-4d90-9c54-29f7deecd095",
   "metadata": {},
   "source": [
    "In this case, <b>we will use the simpler Probability of Improvement method, which is calculated as the normal cumulative probability of the normalized expected improvement</b>, calculated as follows:\n",
    "> $PI = cdf((mu – best_mu) / stdev)$\n",
    "\n",
    "Where `PI` is the probability of improvement, `cdf()` is the normal cumulative distribution function, `mu` is the mean of the surrogate function for a given sample `x`, `stdev` is the standard deviation of the surrogate function for a given sample `x`, and `best_mu` is the mean of the surrogate function for the best sample found so far. We can add a very small number to the standard deviation to avoid a divide by zero error."
   ]
  },
  {
   "cell_type": "markdown",
   "id": "92c5b8e8-c3c6-4c01-b48e-a0f2f3a00e4e",
   "metadata": {},
   "source": [
    "The <font color='blue'>acquisition()</font> function below implements this given the current training dataset of input samples, an array of new candidate samples, and the fit GP model."
   ]
  },
  {
   "cell_type": "code",
   "execution_count": 155,
   "id": "73df5ee9-b326-4dd3-9f09-13329bc8c32e",
   "metadata": {},
   "outputs": [],
   "source": [
    "# probability of improvement acquisition function\n",
    "def acquisition(X_ary, X_samples_ary, model):\n",
    "    # calculate the best surrogate score found so far\n",
    "    yhat_ary, _ = surrogate(model, X_ary)\n",
    "    best = max(yhat_ary)\n",
    "    # calculate mean and stdev via surrogate function\n",
    "    mu, std = surrogate(model, X_samples_ary)\n",
    "    # print(f'Test: mu={mu}')\n",
    "    # mu = mu[:, 0]\n",
    "    # calculate the probability of improvement\n",
    "    probs = norm.cdf((mu - best) / (std+1E-9))\n",
    "    return probs"
   ]
  },
  {
   "cell_type": "markdown",
   "id": "08333898-9dfc-4424-a081-31e13c4d25fe",
   "metadata": {},
   "source": [
    "### <a id='sect3_4'><b><font color='darkgreen'>Complete Bayesian Optimization Algorithm</font></b></a> ([back](#sect3))\n",
    "<b><font size='3ptx'>We can tie all of this together into the Bayesian Optimization algorithm.</font></b>\n",
    "\n",
    "The main algorithm involves cycles of selecting candidate samples, evaluating them with the objective function, then updating the GP model:\n",
    "```python\n",
    "...\r\n",
    "# perform the optimization process\r\n",
    "for i in range(100):\r\n",
    "\t# select the next point to sample\r\n",
    "\tx = opt_acquisition(X, y, model)\r\n",
    "\t# sample the point\r\n",
    "\tactual = objective(x)\r\n",
    "\t# summarize the finding for our own reporting\r\n",
    "\test, _ = surrogate(model, [[x]])\r\n",
    "\tprint('>x=%.3f, f()=%3f, actual=%.3f' % (x, est, actual))\r\n",
    "\t# add the data to the dataset\r\n",
    "\tX = vstack((X, [[x]]))\r\n",
    "\ty = vstack((y, [[actual]]))\r\n",
    "\t# update the model\r\n",
    "\tmodel.fit(X, y)\n",
    "```"
   ]
  },
  {
   "cell_type": "markdown",
   "id": "ee9caaa0-daa2-42c8-9204-51c123b01188",
   "metadata": {},
   "source": [
    "The complete example is listed below:"
   ]
  },
  {
   "cell_type": "code",
   "execution_count": 156,
   "id": "bffbc75e-fb57-405c-b722-90c298e32abc",
   "metadata": {},
   "outputs": [],
   "source": [
    "def run_bayesian_optimization(iter_round: int=100):\n",
    "    # sample the domain sparsely with noise\n",
    "    X_ary = random(100)\n",
    "    y_ary = asarray([objective(x) for x in X_ary])\n",
    "    # reshape into rows and cols\n",
    "    X_ary = X_ary.reshape(len(X_ary), 1)\n",
    "    y_ary = y_ary.reshape(len(y_ary), 1)\n",
    "\n",
    "    # define the model\n",
    "    model = GaussianProcessRegressor()\n",
    "\n",
    "    # fit the model\n",
    "    model.fit(X_ary, y_ary)\n",
    "    \n",
    "    # plot before hand\n",
    "    plot(X_ary, y_ary, model, title='Initial')\n",
    "\n",
    "    # perform the optimization process\n",
    "    selected_points = []\n",
    "    for i in range(iter_round):\n",
    "        # select the next point to sample\n",
    "        x = opt_acquisition(X_ary, y_ary, model)\n",
    "        # sample the point\n",
    "        actual = objective(x)\n",
    "        selected_points.append((x, actual))\n",
    "        # summarize the finding\n",
    "        est, _ = surrogate(model, [[x]])\n",
    "\n",
    "        if i % 10 == 0:\n",
    "            print('> x=%.3f, f()=%3f, actual=%.3f' % (x, est, actual))\n",
    "        # add the data to the dataset\n",
    "        X_ary = vstack((X_ary, [[x]]))\n",
    "        y_ary = vstack((y_ary, [[actual]]))\n",
    "        # update the model\n",
    "        model.fit(X_ary, y_ary)\n",
    " \n",
    "    # best result\n",
    "    ix = argmax(y_ary)\n",
    "    print('Best Result: x=%.3f, y=%.3f' % (X_ary[ix], y_ary[ix]))\n",
    "    # plot all samples and the final surrogate function\n",
    "    plot(X_ary, y_ary, model, 'final', selected_points=selected_points)"
   ]
  },
  {
   "cell_type": "code",
   "execution_count": 157,
   "id": "380e654e-c75f-4a62-90c6-43489df5f727",
   "metadata": {},
   "outputs": [
    {
     "data": {
      "image/png": "[encoded data removed]",
      "text/plain": [
       "<Figure size 1000x500 with 1 Axes>"
      ]
     },
     "metadata": {},
     "output_type": "display_data"
    },
    {
     "name": "stdout",
     "output_type": "stream",
     "text": [
      "> x=0.157, f()=0.062848, actual=-0.018\n",
      "> x=0.914, f()=0.479282, actual=0.784\n",
      "> x=0.425, f()=0.027161, actual=-0.139\n",
      "> x=0.612, f()=0.081874, actual=-0.109\n",
      "> x=0.065, f()=-0.018712, actual=-0.020\n",
      "> x=0.022, f()=-0.019542, actual=0.128\n",
      "> x=0.560, f()=0.098755, actual=0.105\n",
      "> x=0.686, f()=0.079435, actual=0.534\n",
      "> x=0.740, f()=0.111612, actual=0.018\n",
      "> x=0.774, f()=0.173980, actual=0.106\n",
      "Best Result: x=0.905, y=0.983\n"
     ]
    },
    {
     "data": {
      "image/png": "[encoded data removed]",
      "text/plain": [
       "<Figure size 1000x500 with 1 Axes>"
      ]
     },
     "metadata": {},
     "output_type": "display_data"
    }
   ],
   "source": [
    "run_bayesian_optimization()"
   ]
  },
  {
   "cell_type": "markdown",
   "id": "6a916c61-874d-4e05-a1b4-1db9fedecf5f",
   "metadata": {},
   "source": [
    "The algorithm then iterates for 100 cycles, selecting samples, evaluating them, and adding them to the dataset to update the surrogate function, and over again.\n",
    "\n",
    "Each cycle reports the selected input value, the estimated score from the surrogate function, and the actual score. Ideally, these scores would get closer and closer as the algorithm converges on one area of the search space.\n",
    "\n",
    "Next, a final plot is created with the same form as the prior plot."
   ]
  },
  {
   "cell_type": "markdown",
   "id": "958c7cb5-fbce-4116-884d-c54816a868c6",
   "metadata": {},
   "source": [
    "## <a id='sect4'><b><font color='darkblue'>Hyperparameter Tuning With Bayesian Optimization</font></b></b> ([back](#sect1_2))\n",
    "<b><font size='3ptx'>It can be a useful exercise to implement Bayesian Optimization to learn how it works.</font></b>\n",
    "\n",
    "<b>In practice, when using Bayesian Optimization on a project, it is a good idea to use a standard implementation provided in an open-source library</b>. This is to both avoid bugs and to leverage a wider range of configuration options and speed improvements.\n",
    "\n",
    "Two popular libraries for Bayesian Optimization include [**Scikit-Optimize**](https://github.com/scikit-optimize/scikit-optimize) and [**HyperOpt**](https://github.com/hyperopt/hyperopt). In machine learning, these libraries are often used to tune the hyperparameters of algorithms."
   ]
  },
  {
   "cell_type": "markdown",
   "id": "71093874-ef34-4855-9f61-4c169c7e212f",
   "metadata": {},
   "source": [
    "Hyperparameter tuning is a good fit for Bayesian Optimization because the evaluation function is computationally expensive (<font color='brown'>e.g. training models for each set of hyperparameters</font>) and noisy (<font color='brown'>e.g. noise in training data and stochastic learning algorithms</font>).\n",
    "\n",
    "**In this section, we will take a brief look at how to use the [Scikit-Optimize](https://github.com/scikit-optimize/scikit-optimize) library to optimize the hyperparameters of a k-nearest neighbor classifier for a simple test classification problem**. This will provide a useful template that you can use on your own projects."
   ]
  },
  {
   "cell_type": "markdown",
   "id": "a8e9b906-9860-415a-8224-63251c34b936",
   "metadata": {},
   "source": [
    "The [**Scikit-Optimize**](https://github.com/scikit-optimize/scikit-optimize) project is designed to provide access to Bayesian Optimization for applications that use SciPy and NumPy, or applications that use scikit-learn machine learning algorithms.\n",
    "\n",
    "First, the library must be installed, which can be achieved easily using pip; for example:\n",
    "```shell\n",
    "$ sudo pip install scikit-optimize\n",
    "```\n",
    "\n",
    "It is also assumed that you have [**scikit-learn**](https://scikit-learn.org/stable/index.html) installed for this example."
   ]
  },
  {
   "cell_type": "markdown",
   "id": "d4a5f9f8-01e7-4b5c-968e-cfc7a2b148b4",
   "metadata": {},
   "source": [
    "Once installed, there are two ways that scikit-optimize can be used to optimize the hyperparameters of a scikit-learn algorithm. The first is to perform the optimization directly on a search space, and the second is to use the [**BayesSearchCV**](https://scikit-optimize.github.io/stable/modules/generated/skopt.BayesSearchCV.html) class, a sibling of the scikit-learn native classes for random and grid searching.\n",
    "\n",
    "In this example, will use the simpler approach of optimizing the hyperparameters directly.\n",
    "\n",
    "The first step is to prepare the data and define the model. We will use a simple test classification problem via the [make_blobs()](https://scikit-learn.org/stable/modules/generated/sklearn.datasets.make_blobs.html) function with 500 examples, each with two features and three class labels. We will then use a [**KNeighborsClassifier**](https://scikit-learn.org/stable/modules/generated/sklearn.neighbors.KNeighborsClassifier.html) algorithm."
   ]
  },
  {
   "cell_type": "code",
   "execution_count": 158,
   "id": "dcec340a-13fc-44f7-a332-7a12d5a4b3fc",
   "metadata": {},
   "outputs": [],
   "source": [
    "# example of bayesian optimization with scikit-optimize\n",
    "from numpy import mean\n",
    "import matplotlib\n",
    "from sklearn.datasets import make_blobs\n",
    "from sklearn.model_selection import cross_val_score\n",
    "from sklearn.neighbors import KNeighborsClassifier\n",
    "from skopt.space import Integer\n",
    "from skopt.utils import use_named_args\n",
    "from skopt import gp_minimize"
   ]
  },
  {
   "cell_type": "code",
   "execution_count": 159,
   "id": "4f54b311-fb02-427a-8d06-4278416a6973",
   "metadata": {},
   "outputs": [],
   "source": [
    "# generate 2d classification dataset\n",
    "X, y = make_blobs(n_samples=500, centers=3, n_features=2, cluster_std=1.5)"
   ]
  },
  {
   "cell_type": "code",
   "execution_count": 160,
   "id": "cebf7867-2a22-4fb3-8625-8067c9d4b8dd",
   "metadata": {},
   "outputs": [
    {
     "name": "stdout",
     "output_type": "stream",
     "text": [
      "X.shape=(500, 2); y.shape=(500,)\n"
     ]
    }
   ],
   "source": [
    "print(f'X.shape={X.shape}; y.shape={y.shape}')"
   ]
  },
  {
   "cell_type": "code",
   "execution_count": 161,
   "id": "41fdcd46-02a2-4201-adbe-7c980b49ac77",
   "metadata": {},
   "outputs": [
    {
     "data": {
      "text/plain": [
       "<matplotlib.collections.PathCollection at 0x7fc7f06767d0>"
      ]
     },
     "execution_count": 161,
     "metadata": {},
     "output_type": "execute_result"
    },
    {
     "data": {
      "image/png": "[encoded data removed]",
      "text/plain": [
       "<Figure size 400x400 with 1 Axes>"
      ]
     },
     "metadata": {},
     "output_type": "display_data"
    }
   ],
   "source": [
    "colors = ['yellow', 'green', 'blue', 'red']\n",
    "\n",
    "fig = plt.figure(figsize=(4, 4))\n",
    "plt.scatter(\n",
    "    X[:, 0], X[:, 1], c=[colors[pos] for pos in y])"
   ]
  },
  {
   "cell_type": "code",
   "execution_count": 162,
   "id": "d2f9cf51-b7a9-48c5-a85f-a87f7faeab5c",
   "metadata": {},
   "outputs": [],
   "source": [
    "# define the model\n",
    "model = KNeighborsClassifier()"
   ]
  },
  {
   "cell_type": "markdown",
   "id": "321588cc-0c75-4b02-97e6-45f6ae857074",
   "metadata": {},
   "source": [
    "**Next, we must define the search space.**\n",
    "\n",
    "In this case, we will tune the number of neighbors (<font color='violet'>n_neighbors</font>) and the shape of the neighborhood function (<font color='violet'>p</font>). This requires ranges be defined for a given data type. In this case, they are Integers, defined with the min, max, and the name of the parameter to the scikit-learn model. For your algorithm, you can just as easily optimize `Real()` and `Categorical()` data types.\n",
    "* **`n_neighborsint`:int, default=5**: Number of neighbors to use by default for [kneighbors](https://scikit-learn.org/stable/modules/generated/sklearn.neighbors.KNeighborsClassifier.html#sklearn.neighbors.KNeighborsClassifier.kneighbors) queries.\n",
    "* **`p`:float, default=2**: When `p = 1`, this is equivalent to using manhattan_distance (l1), and euclidean_distance (l2) for `p = 2`. "
   ]
  },
  {
   "cell_type": "code",
   "execution_count": 163,
   "id": "533fd492-b90d-42c0-8aee-0ac22bd8a080",
   "metadata": {},
   "outputs": [],
   "source": [
    "# define the space of hyperparameters to search\n",
    "search_space = [\n",
    "    Integer(1, 5, name='n_neighbors'),\n",
    "    Integer(1, 2, name='p')]"
   ]
  },
  {
   "cell_type": "markdown",
   "id": "07f09778-3934-45ff-bc76-b95015797650",
   "metadata": {},
   "source": [
    "<b>Next, we need to define a function that will be used to evaluate a given set of hyperparameters</b>. We want to minimize this function, therefore smaller values returned must indicate a better performing model.\n",
    "\n",
    "We can use the `use_named_args()` decorator from the scikit-optimize project on the function definition that <b>allows the function to be called directly with a specific set of parameters from the search space</b>.\n",
    "\n",
    "As such, **our custom function will take the hyperparameter values as arguments**, which can be provided to the model directly in order to configure it. We can define these arguments generically in python using the `params` argument to the function, then pass them to the model via the [`set_params()`](https://scikit-learn.org/stable/modules/generated/sklearn.neighbors.KNeighborsClassifier.html#sklearn.neighbors.KNeighborsClassifier.set_params) function.\n",
    "\n",
    "Now that the model is configured, we can evaluate it. In this case, we will **use 5-fold cross-validation on our dataset and evaluate the accuracy for each fold**. We can then **report the performance of the model as one minus the mean accuracy across these folds**. This means that a perfect model with an accuracy of 1.0 will return a value of 0.0 (<font color='brown'>1.0 – mean accuracy</font>).\n",
    "\n",
    "This function is defined after we have loaded the dataset and defined the model so that both the dataset and model are in scope and can be used directly."
   ]
  },
  {
   "cell_type": "code",
   "execution_count": 164,
   "id": "16589386-8a53-462a-bec1-e8d92dda3ea3",
   "metadata": {},
   "outputs": [],
   "source": [
    "# define the function used to evaluate a given configuration\n",
    "@use_named_args(search_space)\n",
    "def evaluate_model(**params):\n",
    "    # something\n",
    "    model.set_params(**params)\n",
    "    # calculate 5-fold cross validation\n",
    "    result = cross_val_score(model, X, y, cv=5, n_jobs=-1, scoring='accuracy')\n",
    "    # calculate the mean of the scores\n",
    "    estimate = mean(result)\n",
    "    return 1.0 - estimate"
   ]
  },
  {
   "cell_type": "markdown",
   "id": "255a6735-fdcb-4844-84a6-915702ca526e",
   "metadata": {},
   "source": [
    "<b>Next, we can perform the optimization.</b>\n",
    "\n",
    "This is achieved by calling the [`gp_minimize()`](https://scikit-optimize.github.io/stable/modules/generated/skopt.gp_minimize.html) function with the name of the objective function and the defined search space.\n",
    "\n",
    "By default, this function will use a `gp_hedge` acquisition function that tries to figure out the best strategy, but this can be configured via the <font color='violet'>acq_func</font> argument. The optimization will also run for 100 iterations by default, but this can be controlled via the <font color='violet'>n_calls</font> argument."
   ]
  },
  {
   "cell_type": "code",
   "execution_count": 165,
   "id": "9d4bda55-6802-4417-9896-400c1da1d915",
   "metadata": {},
   "outputs": [
    {
     "name": "stdout",
     "output_type": "stream",
     "text": [
      "CPU times: user 2min 14s, sys: 14min 26s, total: 16min 41s\n",
      "Wall time: 48.8 s\n"
     ]
    }
   ],
   "source": [
    "%%time\n",
    "# perform optimization\n",
    "with catch_warnings():\n",
    "    # ignore generated warnings\n",
    "    simplefilter(\"ignore\")\n",
    "    result = gp_minimize(evaluate_model, search_space)"
   ]
  },
  {
   "cell_type": "markdown",
   "id": "d0f44568-7cbb-4eba-9e81-6b757fce9014",
   "metadata": {},
   "source": [
    "Once run, we can access the best score via the \"fun\" property and the best set of hyperparameters via the \"x\" array property."
   ]
  },
  {
   "cell_type": "code",
   "execution_count": 166,
   "id": "f484d8bc-5699-42b4-937c-199943875fd7",
   "metadata": {},
   "outputs": [
    {
     "name": "stdout",
     "output_type": "stream",
     "text": [
      "Best Accuracy: 0.946\n",
      "Best Parameters: n_neighbors=3, p=2\n"
     ]
    }
   ],
   "source": [
    "# summarizing finding:\n",
    "print('Best Accuracy: %.3f' % (1.0 - result.fun))\n",
    "print('Best Parameters: n_neighbors=%d, p=%d' % (result.x[0], result.x[1]))"
   ]
  },
  {
   "cell_type": "markdown",
   "id": "c1aa2d60-7647-42c4-bbae-8da8a5aea68d",
   "metadata": {},
   "source": [
    "Running the example executes the hyperparameter tuning using Bayesian Optimization. With those optimized hyperparameter, we could retrain the model and check the result of our model on graph:"
   ]
  },
  {
   "cell_type": "code",
   "execution_count": 167,
   "id": "a80cd13c-2d91-488b-9f85-84839533df87",
   "metadata": {},
   "outputs": [
    {
     "data": {
      "text/html": [
       "<style>#sk-container-id-9 {\n",
       "  /* Definition of color scheme common for light and dark mode */\n",
       "  --sklearn-color-text: black;\n",
       "  --sklearn-color-line: gray;\n",
       "  /* Definition of color scheme for unfitted estimators */\n",
       "  --sklearn-color-unfitted-level-0: #fff5e6;\n",
       "  --sklearn-color-unfitted-level-1: #f6e4d2;\n",
       "  --sklearn-color-unfitted-level-2: #ffe0b3;\n",
       "  --sklearn-color-unfitted-level-3: chocolate;\n",
       "  /* Definition of color scheme for fitted estimators */\n",
       "  --sklearn-color-fitted-level-0: #f0f8ff;\n",
       "  --sklearn-color-fitted-level-1: #d4ebff;\n",
       "  --sklearn-color-fitted-level-2: #b3dbfd;\n",
       "  --sklearn-color-fitted-level-3: cornflowerblue;\n",
       "\n",
       "  /* Specific color for light theme */\n",
       "  --sklearn-color-text-on-default-background: var(--sg-text-color, var(--theme-code-foreground, var(--jp-content-font-color1, black)));\n",
       "  --sklearn-color-background: var(--sg-background-color, var(--theme-background, var(--jp-layout-color0, white)));\n",
       "  --sklearn-color-border-box: var(--sg-text-color, var(--theme-code-foreground, var(--jp-content-font-color1, black)));\n",
       "  --sklearn-color-icon: #696969;\n",
       "\n",
       "  @media (prefers-color-scheme: dark) {\n",
       "    /* Redefinition of color scheme for dark theme */\n",
       "    --sklearn-color-text-on-default-background: var(--sg-text-color, var(--theme-code-foreground, var(--jp-content-font-color1, white)));\n",
       "    --sklearn-color-background: var(--sg-background-color, var(--theme-background, var(--jp-layout-color0, #111)));\n",
       "    --sklearn-color-border-box: var(--sg-text-color, var(--theme-code-foreground, var(--jp-content-font-color1, white)));\n",
       "    --sklearn-color-icon: #878787;\n",
       "  }\n",
       "}\n",
       "\n",
       "#sk-container-id-9 {\n",
       "  color: var(--sklearn-color-text);\n",
       "}\n",
       "\n",
       "#sk-container-id-9 pre {\n",
       "  padding: 0;\n",
       "}\n",
       "\n",
       "#sk-container-id-9 input.sk-hidden--visually {\n",
       "  border: 0;\n",
       "  clip: rect(1px 1px 1px 1px);\n",
       "  clip: rect(1px, 1px, 1px, 1px);\n",
       "  height: 1px;\n",
       "  margin: -1px;\n",
       "  overflow: hidden;\n",
       "  padding: 0;\n",
       "  position: absolute;\n",
       "  width: 1px;\n",
       "}\n",
       "\n",
       "#sk-container-id-9 div.sk-dashed-wrapped {\n",
       "  border: 1px dashed var(--sklearn-color-line);\n",
       "  margin: 0 0.4em 0.5em 0.4em;\n",
       "  box-sizing: border-box;\n",
       "  padding-bottom: 0.4em;\n",
       "  background-color: var(--sklearn-color-background);\n",
       "}\n",
       "\n",
       "#sk-container-id-9 div.sk-container {\n",
       "  /* jupyter's `normalize.less` sets `[hidden] { display: none; }`\n",
       "     but bootstrap.min.css set `[hidden] { display: none !important; }`\n",
       "     so we also need the `!important` here to be able to override the\n",
       "     default hidden behavior on the sphinx rendered scikit-learn.org.\n",
       "     See: https://github.com/scikit-learn/scikit-learn/issues/21755 */\n",
       "  display: inline-block !important;\n",
       "  position: relative;\n",
       "}\n",
       "\n",
       "#sk-container-id-9 div.sk-text-repr-fallback {\n",
       "  display: none;\n",
       "}\n",
       "\n",
       "div.sk-parallel-item,\n",
       "div.sk-serial,\n",
       "div.sk-item {\n",
       "  /* draw centered vertical line to link estimators */\n",
       "  background-image: linear-gradient(var(--sklearn-color-text-on-default-background), var(--sklearn-color-text-on-default-background));\n",
       "  background-size: 2px 100%;\n",
       "  background-repeat: no-repeat;\n",
       "  background-position: center center;\n",
       "}\n",
       "\n",
       "/* Parallel-specific style estimator block */\n",
       "\n",
       "#sk-container-id-9 div.sk-parallel-item::after {\n",
       "  content: \"\";\n",
       "  width: 100%;\n",
       "  border-bottom: 2px solid var(--sklearn-color-text-on-default-background);\n",
       "  flex-grow: 1;\n",
       "}\n",
       "\n",
       "#sk-container-id-9 div.sk-parallel {\n",
       "  display: flex;\n",
       "  align-items: stretch;\n",
       "  justify-content: center;\n",
       "  background-color: var(--sklearn-color-background);\n",
       "  position: relative;\n",
       "}\n",
       "\n",
       "#sk-container-id-9 div.sk-parallel-item {\n",
       "  display: flex;\n",
       "  flex-direction: column;\n",
       "}\n",
       "\n",
       "#sk-container-id-9 div.sk-parallel-item:first-child::after {\n",
       "  align-self: flex-end;\n",
       "  width: 50%;\n",
       "}\n",
       "\n",
       "#sk-container-id-9 div.sk-parallel-item:last-child::after {\n",
       "  align-self: flex-start;\n",
       "  width: 50%;\n",
       "}\n",
       "\n",
       "#sk-container-id-9 div.sk-parallel-item:only-child::after {\n",
       "  width: 0;\n",
       "}\n",
       "\n",
       "/* Serial-specific style estimator block */\n",
       "\n",
       "#sk-container-id-9 div.sk-serial {\n",
       "  display: flex;\n",
       "  flex-direction: column;\n",
       "  align-items: center;\n",
       "  background-color: var(--sklearn-color-background);\n",
       "  padding-right: 1em;\n",
       "  padding-left: 1em;\n",
       "}\n",
       "\n",
       "\n",
       "/* Toggleable style: style used for estimator/Pipeline/ColumnTransformer box that is\n",
       "clickable and can be expanded/collapsed.\n",
       "- Pipeline and ColumnTransformer use this feature and define the default style\n",
       "- Estimators will overwrite some part of the style using the `sk-estimator` class\n",
       "*/\n",
       "\n",
       "/* Pipeline and ColumnTransformer style (default) */\n",
       "\n",
       "#sk-container-id-9 div.sk-toggleable {\n",
       "  /* Default theme specific background. It is overwritten whether we have a\n",
       "  specific estimator or a Pipeline/ColumnTransformer */\n",
       "  background-color: var(--sklearn-color-background);\n",
       "}\n",
       "\n",
       "/* Toggleable label */\n",
       "#sk-container-id-9 label.sk-toggleable__label {\n",
       "  cursor: pointer;\n",
       "  display: block;\n",
       "  width: 100%;\n",
       "  margin-bottom: 0;\n",
       "  padding: 0.5em;\n",
       "  box-sizing: border-box;\n",
       "  text-align: center;\n",
       "}\n",
       "\n",
       "#sk-container-id-9 label.sk-toggleable__label-arrow:before {\n",
       "  /* Arrow on the left of the label */\n",
       "  content: \"▸\";\n",
       "  float: left;\n",
       "  margin-right: 0.25em;\n",
       "  color: var(--sklearn-color-icon);\n",
       "}\n",
       "\n",
       "#sk-container-id-9 label.sk-toggleable__label-arrow:hover:before {\n",
       "  color: var(--sklearn-color-text);\n",
       "}\n",
       "\n",
       "/* Toggleable content - dropdown */\n",
       "\n",
       "#sk-container-id-9 div.sk-toggleable__content {\n",
       "  max-height: 0;\n",
       "  max-width: 0;\n",
       "  overflow: hidden;\n",
       "  text-align: left;\n",
       "  /* unfitted */\n",
       "  background-color: var(--sklearn-color-unfitted-level-0);\n",
       "}\n",
       "\n",
       "#sk-container-id-9 div.sk-toggleable__content.fitted {\n",
       "  /* fitted */\n",
       "  background-color: var(--sklearn-color-fitted-level-0);\n",
       "}\n",
       "\n",
       "#sk-container-id-9 div.sk-toggleable__content pre {\n",
       "  margin: 0.2em;\n",
       "  border-radius: 0.25em;\n",
       "  color: var(--sklearn-color-text);\n",
       "  /* unfitted */\n",
       "  background-color: var(--sklearn-color-unfitted-level-0);\n",
       "}\n",
       "\n",
       "#sk-container-id-9 div.sk-toggleable__content.fitted pre {\n",
       "  /* unfitted */\n",
       "  background-color: var(--sklearn-color-fitted-level-0);\n",
       "}\n",
       "\n",
       "#sk-container-id-9 input.sk-toggleable__control:checked~div.sk-toggleable__content {\n",
       "  /* Expand drop-down */\n",
       "  max-height: 200px;\n",
       "  max-width: 100%;\n",
       "  overflow: auto;\n",
       "}\n",
       "\n",
       "#sk-container-id-9 input.sk-toggleable__control:checked~label.sk-toggleable__label-arrow:before {\n",
       "  content: \"▾\";\n",
       "}\n",
       "\n",
       "/* Pipeline/ColumnTransformer-specific style */\n",
       "\n",
       "#sk-container-id-9 div.sk-label input.sk-toggleable__control:checked~label.sk-toggleable__label {\n",
       "  color: var(--sklearn-color-text);\n",
       "  background-color: var(--sklearn-color-unfitted-level-2);\n",
       "}\n",
       "\n",
       "#sk-container-id-9 div.sk-label.fitted input.sk-toggleable__control:checked~label.sk-toggleable__label {\n",
       "  background-color: var(--sklearn-color-fitted-level-2);\n",
       "}\n",
       "\n",
       "/* Estimator-specific style */\n",
       "\n",
       "/* Colorize estimator box */\n",
       "#sk-container-id-9 div.sk-estimator input.sk-toggleable__control:checked~label.sk-toggleable__label {\n",
       "  /* unfitted */\n",
       "  background-color: var(--sklearn-color-unfitted-level-2);\n",
       "}\n",
       "\n",
       "#sk-container-id-9 div.sk-estimator.fitted input.sk-toggleable__control:checked~label.sk-toggleable__label {\n",
       "  /* fitted */\n",
       "  background-color: var(--sklearn-color-fitted-level-2);\n",
       "}\n",
       "\n",
       "#sk-container-id-9 div.sk-label label.sk-toggleable__label,\n",
       "#sk-container-id-9 div.sk-label label {\n",
       "  /* The background is the default theme color */\n",
       "  color: var(--sklearn-color-text-on-default-background);\n",
       "}\n",
       "\n",
       "/* On hover, darken the color of the background */\n",
       "#sk-container-id-9 div.sk-label:hover label.sk-toggleable__label {\n",
       "  color: var(--sklearn-color-text);\n",
       "  background-color: var(--sklearn-color-unfitted-level-2);\n",
       "}\n",
       "\n",
       "/* Label box, darken color on hover, fitted */\n",
       "#sk-container-id-9 div.sk-label.fitted:hover label.sk-toggleable__label.fitted {\n",
       "  color: var(--sklearn-color-text);\n",
       "  background-color: var(--sklearn-color-fitted-level-2);\n",
       "}\n",
       "\n",
       "/* Estimator label */\n",
       "\n",
       "#sk-container-id-9 div.sk-label label {\n",
       "  font-family: monospace;\n",
       "  font-weight: bold;\n",
       "  display: inline-block;\n",
       "  line-height: 1.2em;\n",
       "}\n",
       "\n",
       "#sk-container-id-9 div.sk-label-container {\n",
       "  text-align: center;\n",
       "}\n",
       "\n",
       "/* Estimator-specific */\n",
       "#sk-container-id-9 div.sk-estimator {\n",
       "  font-family: monospace;\n",
       "  border: 1px dotted var(--sklearn-color-border-box);\n",
       "  border-radius: 0.25em;\n",
       "  box-sizing: border-box;\n",
       "  margin-bottom: 0.5em;\n",
       "  /* unfitted */\n",
       "  background-color: var(--sklearn-color-unfitted-level-0);\n",
       "}\n",
       "\n",
       "#sk-container-id-9 div.sk-estimator.fitted {\n",
       "  /* fitted */\n",
       "  background-color: var(--sklearn-color-fitted-level-0);\n",
       "}\n",
       "\n",
       "/* on hover */\n",
       "#sk-container-id-9 div.sk-estimator:hover {\n",
       "  /* unfitted */\n",
       "  background-color: var(--sklearn-color-unfitted-level-2);\n",
       "}\n",
       "\n",
       "#sk-container-id-9 div.sk-estimator.fitted:hover {\n",
       "  /* fitted */\n",
       "  background-color: var(--sklearn-color-fitted-level-2);\n",
       "}\n",
       "\n",
       "/* Specification for estimator info (e.g. \"i\" and \"?\") */\n",
       "\n",
       "/* Common style for \"i\" and \"?\" */\n",
       "\n",
       ".sk-estimator-doc-link,\n",
       "a:link.sk-estimator-doc-link,\n",
       "a:visited.sk-estimator-doc-link {\n",
       "  float: right;\n",
       "  font-size: smaller;\n",
       "  line-height: 1em;\n",
       "  font-family: monospace;\n",
       "  background-color: var(--sklearn-color-background);\n",
       "  border-radius: 1em;\n",
       "  height: 1em;\n",
       "  width: 1em;\n",
       "  text-decoration: none !important;\n",
       "  margin-left: 1ex;\n",
       "  /* unfitted */\n",
       "  border: var(--sklearn-color-unfitted-level-1) 1pt solid;\n",
       "  color: var(--sklearn-color-unfitted-level-1);\n",
       "}\n",
       "\n",
       ".sk-estimator-doc-link.fitted,\n",
       "a:link.sk-estimator-doc-link.fitted,\n",
       "a:visited.sk-estimator-doc-link.fitted {\n",
       "  /* fitted */\n",
       "  border: var(--sklearn-color-fitted-level-1) 1pt solid;\n",
       "  color: var(--sklearn-color-fitted-level-1);\n",
       "}\n",
       "\n",
       "/* On hover */\n",
       "div.sk-estimator:hover .sk-estimator-doc-link:hover,\n",
       ".sk-estimator-doc-link:hover,\n",
       "div.sk-label-container:hover .sk-estimator-doc-link:hover,\n",
       ".sk-estimator-doc-link:hover {\n",
       "  /* unfitted */\n",
       "  background-color: var(--sklearn-color-unfitted-level-3);\n",
       "  color: var(--sklearn-color-background);\n",
       "  text-decoration: none;\n",
       "}\n",
       "\n",
       "div.sk-estimator.fitted:hover .sk-estimator-doc-link.fitted:hover,\n",
       ".sk-estimator-doc-link.fitted:hover,\n",
       "div.sk-label-container:hover .sk-estimator-doc-link.fitted:hover,\n",
       ".sk-estimator-doc-link.fitted:hover {\n",
       "  /* fitted */\n",
       "  background-color: var(--sklearn-color-fitted-level-3);\n",
       "  color: var(--sklearn-color-background);\n",
       "  text-decoration: none;\n",
       "}\n",
       "\n",
       "/* Span, style for the box shown on hovering the info icon */\n",
       ".sk-estimator-doc-link span {\n",
       "  display: none;\n",
       "  z-index: 9999;\n",
       "  position: relative;\n",
       "  font-weight: normal;\n",
       "  right: .2ex;\n",
       "  padding: .5ex;\n",
       "  margin: .5ex;\n",
       "  width: min-content;\n",
       "  min-width: 20ex;\n",
       "  max-width: 50ex;\n",
       "  color: var(--sklearn-color-text);\n",
       "  box-shadow: 2pt 2pt 4pt #999;\n",
       "  /* unfitted */\n",
       "  background: var(--sklearn-color-unfitted-level-0);\n",
       "  border: .5pt solid var(--sklearn-color-unfitted-level-3);\n",
       "}\n",
       "\n",
       ".sk-estimator-doc-link.fitted span {\n",
       "  /* fitted */\n",
       "  background: var(--sklearn-color-fitted-level-0);\n",
       "  border: var(--sklearn-color-fitted-level-3);\n",
       "}\n",
       "\n",
       ".sk-estimator-doc-link:hover span {\n",
       "  display: block;\n",
       "}\n",
       "\n",
       "/* \"?\"-specific style due to the `<a>` HTML tag */\n",
       "\n",
       "#sk-container-id-9 a.estimator_doc_link {\n",
       "  float: right;\n",
       "  font-size: 1rem;\n",
       "  line-height: 1em;\n",
       "  font-family: monospace;\n",
       "  background-color: var(--sklearn-color-background);\n",
       "  border-radius: 1rem;\n",
       "  height: 1rem;\n",
       "  width: 1rem;\n",
       "  text-decoration: none;\n",
       "  /* unfitted */\n",
       "  color: var(--sklearn-color-unfitted-level-1);\n",
       "  border: var(--sklearn-color-unfitted-level-1) 1pt solid;\n",
       "}\n",
       "\n",
       "#sk-container-id-9 a.estimator_doc_link.fitted {\n",
       "  /* fitted */\n",
       "  border: var(--sklearn-color-fitted-level-1) 1pt solid;\n",
       "  color: var(--sklearn-color-fitted-level-1);\n",
       "}\n",
       "\n",
       "/* On hover */\n",
       "#sk-container-id-9 a.estimator_doc_link:hover {\n",
       "  /* unfitted */\n",
       "  background-color: var(--sklearn-color-unfitted-level-3);\n",
       "  color: var(--sklearn-color-background);\n",
       "  text-decoration: none;\n",
       "}\n",
       "\n",
       "#sk-container-id-9 a.estimator_doc_link.fitted:hover {\n",
       "  /* fitted */\n",
       "  background-color: var(--sklearn-color-fitted-level-3);\n",
       "}\n",
       "</style><div id=\"sk-container-id-9\" class=\"sk-top-container\"><div class=\"sk-text-repr-fallback\"><pre>KNeighborsClassifier(n_neighbors=3)</pre><b>In a Jupyter environment, please rerun this cell to show the HTML representation or trust the notebook. <br />On GitHub, the HTML representation is unable to render, please try loading this page with nbviewer.org.</b></div><div class=\"sk-container\" hidden><div class=\"sk-item\"><div class=\"sk-estimator fitted sk-toggleable\"><input class=\"sk-toggleable__control sk-hidden--visually\" id=\"sk-estimator-id-9\" type=\"checkbox\" checked><label for=\"sk-estimator-id-9\" class=\"sk-toggleable__label fitted sk-toggleable__label-arrow fitted\">&nbsp;&nbsp;KNeighborsClassifier<a class=\"sk-estimator-doc-link fitted\" rel=\"noreferrer\" target=\"_blank\" href=\"https://scikit-learn.org/1.4/modules/generated/sklearn.neighbors.KNeighborsClassifier.html\">?<span>Documentation for KNeighborsClassifier</span></a><span class=\"sk-estimator-doc-link fitted\">i<span>Fitted</span></span></label><div class=\"sk-toggleable__content fitted\"><pre>KNeighborsClassifier(n_neighbors=3)</pre></div> </div></div></div></div>"
      ],
      "text/plain": [
       "KNeighborsClassifier(n_neighbors=3)"
      ]
     },
     "execution_count": 167,
     "metadata": {},
     "output_type": "execute_result"
    }
   ],
   "source": [
    "model = KNeighborsClassifier(n_neighbors=result.x[0], p=result.x[1])\n",
    "model.fit(X, y)"
   ]
  },
  {
   "cell_type": "code",
   "execution_count": 168,
   "id": "d546e86d-92a4-40df-bffc-c5926dc081b7",
   "metadata": {},
   "outputs": [],
   "source": [
    "y_pred = model.predict(X)"
   ]
  },
  {
   "cell_type": "code",
   "execution_count": 169,
   "id": "7f974dfa-587d-4d42-98b7-8a34f6b95ac2",
   "metadata": {},
   "outputs": [
    {
     "data": {
      "text/plain": [
       "array([0, 1, 1, 2, 2, 0, 1, 1, 2, 1, 0, 2, 1, 1, 1, 0, 1, 0, 0, 1])"
      ]
     },
     "execution_count": 169,
     "metadata": {},
     "output_type": "execute_result"
    }
   ],
   "source": [
    "y_pred[:20]"
   ]
  },
  {
   "cell_type": "code",
   "execution_count": 170,
   "id": "dbae4367-d3dc-4713-bbab-f9347e66cea1",
   "metadata": {},
   "outputs": [
    {
     "data": {
      "text/plain": [
       "array([0, 1, 1, 2, 2, 0, 1, 1, 2, 1, 0, 2, 1, 1, 1, 0, 0, 0, 0, 1])"
      ]
     },
     "execution_count": 170,
     "metadata": {},
     "output_type": "execute_result"
    }
   ],
   "source": [
    "y[:20]"
   ]
  },
  {
   "cell_type": "code",
   "execution_count": 171,
   "id": "06d80d27-4eaf-4e39-85be-1d383d5f6b21",
   "metadata": {},
   "outputs": [
    {
     "data": {
      "text/plain": [
       "[0, 1, 1, 2, 2, 0, 1, 1, 2, 1, 0, 2, 1, 1, 1, 0, 3, 0, 0, 1]"
      ]
     },
     "execution_count": 171,
     "metadata": {},
     "output_type": "execute_result"
    }
   ],
   "source": [
    "y_refine = [y1 if y1==y2 else 3 for y1, y2 in zip(y_pred, y)]\n",
    "y_refine[:20]"
   ]
  },
  {
   "cell_type": "code",
   "execution_count": 172,
   "id": "f6600c0a-a52b-4d45-87b1-12400e674cc2",
   "metadata": {},
   "outputs": [
    {
     "data": {
      "text/plain": [
       "Text(0.5, 1.0, 'Predicted class distribution')"
      ]
     },
     "execution_count": 172,
     "metadata": {},
     "output_type": "execute_result"
    },
    {
     "data": {
      "image/png": "[encoded data removed]",
      "text/plain": [
       "<Figure size 800x300 with 2 Axes>"
      ]
     },
     "metadata": {},
     "output_type": "display_data"
    }
   ],
   "source": [
    "figure, axis = plt.subplots(1, 2, figsize=(8, 3)) \n",
    "\n",
    "axis[0].scatter(X[:, 0], X[:, 1], c=[colors[pos] for pos in y]) \n",
    "axis[0].set_title(\"Original class distribution\") \n",
    "\n",
    "axis[1].scatter(X[:, 0], X[:, 1], c=[colors[pos] for pos in y_refine]) \n",
    "axis[1].set_title(\"Predicted class distribution\") "
   ]
  },
  {
   "cell_type": "markdown",
   "id": "c929d24d-1fa0-42d2-926c-ebb963d2622d",
   "metadata": {},
   "source": [
    "## <b><font color='darkblue'>Further Reading</font></b> ([back](#sect1_2))\n",
    "This section provides more resources on the topic if you are looking to go deeper."
   ]
  },
  {
   "cell_type": "markdown",
   "id": "63d8f4e6-e4d3-4cb7-be71-58c5a6568a81",
   "metadata": {},
   "source": [
    "### <b><font color='darkgreen'>Papers</font></b>\r\n",
    "* [A Tutorial on Bayesian Optimization of Expensive Cost Functions, with Application to Active User Modeling and Hierarchical Reinforcement Learning](https://arxiv.org/abs/1012.2599), 2010.\r\n",
    "* [Practical Bayesian Optimization of Machine Learning Algorithms](http://papers.nips.cc/paper/4522-practical-bayesian-optimization), 2012.\r\n",
    "* [A Tutorial on Bayesian Optimization](https://arxiv.org/abs/1807.02811), 2018.8."
   ]
  },
  {
   "cell_type": "markdown",
   "id": "206ee63c-118f-4aaa-a71c-7d06f39fd15b",
   "metadata": {},
   "source": [
    "### <b><font color='darkgreen'>Others</font></b>\r\n",
    "* [Gaussian Processes, Scikit-Learn API.](https://scikit-learn.org/stable/modules/gaussian_process.html)\r\n",
    "* [Hyperopt: Distributed Asynchronous Hyper-parameter Optimization](https://github.com/hyperopt/hyperopt)\r\n",
    "* [Scikit-Optimize Project.](https://github.com/scikit-optimize/scikit-optimize)\r\n",
    "* [Tuning a scikit-learn estimator with skopt](https://github.com/scikit-optimize/scikit-optimize/blob/master/examples/hyperparameter-optimization.ipynb)opt"
   ]
  },
  {
   "cell_type": "markdown",
   "id": "efbbc938-68f0-42e4-9b81-0e96fb11cb83",
   "metadata": {},
   "source": [
    "## <b><font color='darkblue'>Supplement</font></b> ([back](#sect1_2))\n",
    "* [mlmastery - Scikit-Optimize for Hyperparameter Tuning in Machine Learning](https://machinelearningmastery.com/scikit-optimize-for-hyperparameter-tuning-in-machine-learning/)\n",
    "* [mlmastery - Hyperparameter Optimization With Random Search and Grid Search](https://machinelearningmastery.com/hyperparameter-optimization-with-random-search-and-grid-search/)\n",
    "* [台部落 - 貝葉斯優化(BayesianOptimization)](https://www.twblogs.net/a/5c4ab8b0bd9eee6e7e069cd4)\n",
    "* [Jupyter - Math and equations](https://jupyterbook.org/en/stable/content/math.html)"
   ]
  }
 ],
 "metadata": {
  "kernelspec": {
   "display_name": "Python 3 (ipykernel)",
   "language": "python",
   "name": "python3"
  },
  "language_info": {
   "codemirror_mode": {
    "name": "ipython",
    "version": 3
   },
   "file_extension": ".py",
   "mimetype": "text/x-python",
   "name": "python",
   "nbconvert_exporter": "python",
   "pygments_lexer": "ipython3",
   "version": "3.11.6"
  }
 },
 "nbformat": 4,
 "nbformat_minor": 5
}
