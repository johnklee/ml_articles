{
 "cells": [
  {
   "cell_type": "markdown",
   "metadata": {},
   "source": [
    "<a id='sect0'></a>\n",
    "## <font color='darkblue'>Preface</font>\n",
    "([article source](https://machinelearningmastery.com/super-learner-ensemble-in-python/)) <font size='3ptx'>**Selecting a machine learning algorithm for a predictive modeling problem involves evaluating many different models and model configurations using k-fold cross-validation.**</font>\n",
    "\n",
    "The super learner is an [ensemble machine learning](https://machinelearningmastery.com/bagging-and-random-forest-ensemble-algorithms-for-machine-learning/) algorithm that combines all of the models and model configurations that you might investigate for a predictive modeling problem and uses them to make a prediction as-good-as or better than any single model that you may have investigated.\n",
    "\n",
    "**The <font color='darkblue'>super learner algorithm</font> is an application of [stacked generalization](https://machinelearningmastery.com/implementing-stacking-scratch-python/), called stacking or blending, to [k-fold cross-validation](https://machinelearningmastery.com/k-fold-cross-validation/) where all models use the same k-fold splits of the data and a meta-model is fit on the out-of-fold predictions from each model.**\n",
    "\n",
    "In this tutorial, you will discover the super learner ensemble machine learning algorithm. After completing this tutorial, you will know:\n",
    "* Super learner is the application of stacked generalization using out-of-fold predictions during k-fold cross-validation.\n",
    "* The super learner ensemble algorithm is straightforward to implement in Python using scikit-learn models.\n",
    "* The ML-Ensemble (mlens) library provides a convenient implementation that allows the super learner to be fit and used in just a few lines of code."
   ]
  },
  {
   "cell_type": "markdown",
   "metadata": {},
   "source": [
    "### <font color='darkgreen'>Tutorial Overview</font>\n",
    "This tutorial is divided into three parts; they are:\n",
    "* <font size='3ptx'>[**What Is the Super Learner?**](#sect1)</font>\n",
    "* <font size='3ptx'>[**Manually Develop a Super Learner With scikit-learn**](#sect2)</font>\n",
    "* <font size='3ptx'>[**Super Learner With ML-Ensemble Library**](#sect3)</font>"
   ]
  },
  {
   "cell_type": "markdown",
   "metadata": {},
   "source": [
    "<a id='sect1'></a>\n",
    "## <font color='darkblue'>What Is the Super Learner?</font>\n",
    "<font size='3ptx'>**There are many hundreds of models to choose from for a predictive modeling problem; which one is best?**</font>\n",
    "\n",
    "Then, after a model is chosen, how do you best configure it for your specific dataset?\n",
    "\n",
    "These are open questions in applied machine learning. The best answer we have at the moment is to use empirical experimentation to test and discover what works best for your dataset.\n",
    "> In practice, it is generally impossible to know a priori which learner will perform best for a given prediction problem and data set.<br/><br/>\n",
    "> [**— Super Learner, 2007.**](https://www.degruyter.com/view/j/sagmb.2007.6.issue-1/sagmb.2007.6.1.1309/sagmb.2007.6.1.1309.xml)\n",
    "\n",
    "This involves selecting many different algorithms that may be appropriate for your regression or classification problem and evaluating their performance on your dataset using a resampling technique, such as [k-fold cross-validation](https://machinelearningmastery.com/k-fold-cross-validation/).\n",
    "\n",
    "The algorithm that performs the best on your dataset according to k-fold cross-validation is then selected, fit on all available data, and you can then start using it to make predictions.\n",
    "\n",
    "There is an alternative approach.\n",
    "\n",
    "Consider that you have already fit many different algorithms on your dataset, and some algorithms have been evaluated many times with different configurations. **You may have many tens or hundreds of different models of your problem. Why not use all those models instead of the best model from the group?**\n",
    "\n",
    "**This is the intuition behind the so-called “super learner” ensemble algorithm.**\n",
    "\n",
    "The super learner algorithm involves first pre-defining the k-fold split of your data, then evaluating all different algorithms and algorithm configurations on the same split of the data. All out-of-fold predictions are then kept and used to train a that learns how to best combine the predictions.\n",
    "> The algorithms may differ in the subset of the covariates used, the basis functions, the loss functions, the searching algorithm, and the range of tuning parameters, among others. <br/><br/>\n",
    "> [**— Super Learner In Prediction, 2010.**](https://biostats.bepress.com/ucbbiostat/paper266/)\n",
    "\n",
    "The results of this model should be no worse than the best performing model evaluated during k-fold cross-validation and has the likelihood of performing better than any single model.\n",
    "\n",
    "The super learner algorithm was proposed by [Mark van der Laan](https://en.wikipedia.org/wiki/Mark_van_der_Laan), [Eric Polley](https://www.mayo.edu/research/faculty/polley-eric-c-ph-d/bio-20316771), and [Alan Hubbard](https://ahubb40.github.io/) from Berkeley in their 2007 paper titled “[**Super Learner.**](https://www.degruyter.com/view/j/sagmb.2007.6.issue-1/sagmb.2007.6.1.1309/sagmb.2007.6.1.1309.xml)” It was published in a biological journal, which may be sheltered from the broader machine learning community.\n",
    "\n",
    "The super learner technique is an example of the general method called “stacked generalization,” or “stacking” for short, and is known in applied machine learning as blending, as often a linear model is used as the meta-model.\n",
    "> The super learner is related to the stacking algorithm introduced in neural networks context … <br/><br/>\n",
    "> [**— Super Learner In Prediction, 2010.**](https://biostats.bepress.com/ucbbiostat/paper266/)\n",
    "\n",
    "For more on the topic stacking, see the posts:\n",
    "* [How to Develop a Stacking Ensemble for Deep Learning Neural Networks in Python With Keras](https://machinelearningmastery.com/stacking-ensemble-for-deep-learning-neural-networks/)\n",
    "* [How to Implement Stacked Generalization (Stacking) From Scratch With Python](https://machinelearningmastery.com/implementing-stacking-scratch-python/)\n",
    "\n",
    "**We can think of the “super learner” as a specific configuration of stacking specifically to k-fold cross-validation.**\n",
    "\n",
    "I have sometimes seen this type of blending ensemble referred to as a cross-validation ensemble. The procedure can be summarized as follows:\n",
    "1. Select a k-fold split of the training dataset.\n",
    "2. Select m base-models or model configurations.\n",
    "3. For each basemodel:\n",
    "    * Evaluate using k-fold cross-validation.\n",
    "    * Store all out-of-fold predictions.\n",
    "    * Fit the model on the full training dataset and store.\n",
    "4. Fit a meta-model on the out-of-fold predictions.\n",
    "5. Evaluate the model on a holdout dataset or use model to make predictions.\n",
    "\n",
    "The image below, taken from the original paper, summarizes this data flow:\n",
    "![1.png](images/1.png)\n",
    "<br/>\n",
    "Let’s take a closer look at some common sticking points you may have with this procedure."
   ]
  },
  {
   "cell_type": "markdown",
   "metadata": {},
   "source": [
    "#### Q. What are the inputs and outputs for the meta-model?\n",
    "The meta-model takes in predictions from base-models as input and predicts the target for the training dataset as output:\n",
    "* **Input:** Predictions from base-models.\n",
    "* **Output:** Prediction for training dataset.\n",
    "\n",
    "For example, if we had 50 base-models, then one input sample would be a vector with 50 values, each value in the vector representing a prediction from one of the base-models for one sample of the training dataset.\n",
    "\n",
    "If we had 1,000 examples (rows) in the training dataset and 50 models, then the input data for the meta-model would be 1,000 rows and 50 columns."
   ]
  },
  {
   "cell_type": "markdown",
   "metadata": {},
   "source": [
    "#### Q. Won’t the meta-model overfit the training data?\n",
    "Probably not.\n",
    "\n",
    "This is the trick of the super learner, and the stacked generalization procedure in general.\n",
    "\n",
    "**The input to the meta-model is the out-of-fold** (<font color='brown'>out-of-sample</font>) **predictions. In aggregate, the out-of-fold predictions for a model represent the model’s skill or capability in making predictions on data not seen during training.**\n",
    "\n",
    "By training a meta-model on out-of-sample predictions of other models, the meta-model learns how to both correct the out-of-sample predictions for each model and to best combine the out-of-sample predictions from multiple models; actually, it does both tasks at the same time.\n",
    "\n",
    "**Importantly, to get an idea of the true capability of the meta-model, it must be evaluated on new out-of-sample data. That is, data not used to train the base models.**"
   ]
  },
  {
   "cell_type": "markdown",
   "metadata": {},
   "source": [
    "#### Q. Can this work for regression and classification?\n",
    "Yes, it was described in the papers for regression (<font color='brown'>predicting a numerical value</font>).\n",
    "\n",
    "It can work just as well for classification (<font color='brown'>predicting a class label</font>), although it is probably best to predict probabilities to give the meta-model more granularity when combining predictions."
   ]
  },
  {
   "cell_type": "markdown",
   "metadata": {},
   "source": [
    "#### Q. Why do we fit each base-model on the entire training dataset?\n",
    "Each base-model is fit on the entire training dataset so that the model can be used later to make predictions on new examples not seen during training.\n",
    "\n",
    "This step is strictly not required until predictions are needed by the super learner."
   ]
  },
  {
   "cell_type": "markdown",
   "metadata": {},
   "source": [
    "#### Q. How do we make a prediction?\n",
    "To make a prediction on a new sample (row of data), first, the row of data is provided as input to each base model to generate a prediction from each model.\n",
    "\n",
    "The predictions from the base-models are then concatenated into a vector and provided as input to the meta-model. The meta-model then makes a final prediction for the row of data.\n",
    "\n",
    "We can summarize this procedure as follows:\n",
    "1. Take a sample not seen by the models during training.\n",
    "2. For each base-model:\n",
    "  * Make a prediction given the sample.\n",
    "  * Store prediction.\n",
    "3. Concatenate predictions from submodel into a single vector.\n",
    "4. Provide vector as input to the meta-model to make a final prediction."
   ]
  },
  {
   "cell_type": "markdown",
   "metadata": {},
   "source": [
    "<a id='sect2'></a>\n",
    "## <font color='darkblue'>Manually Develop a Super Learner With scikit-learn</font> ([back](#sect0))\n",
    "<font size='3ptx'>**The Super Learner algorithm is relatively straightforward to implement on top of the scikit-learn Python machine learning library.**</font>\n",
    "\n",
    "In this section, we will develop an example of super learning for both regression and classification that you can adapt to your own problems.\n",
    "* <font size='3ptx'>[**Super Learner for Regression**](#sect2_1)</font>\n",
    "* <font size='3ptx'>[**Super Learner for Classification**](#sect2_2)</font>"
   ]
  },
  {
   "cell_type": "code",
   "execution_count": 1,
   "metadata": {},
   "outputs": [],
   "source": [
    "# example of a super learner model for regression\n",
    "from math import sqrt\n",
    "from numpy import hstack\n",
    "from numpy import vstack\n",
    "from numpy import asarray\n",
    "from sklearn.datasets import make_regression\n",
    "from sklearn.model_selection import KFold\n",
    "from sklearn.model_selection import train_test_split\n",
    "from sklearn.metrics import mean_squared_error\n",
    "from sklearn.linear_model import LinearRegression\n",
    "from sklearn.linear_model import ElasticNet\n",
    "from sklearn.neighbors import KNeighborsRegressor\n",
    "from sklearn.tree import DecisionTreeRegressor\n",
    "from sklearn.svm import SVR\n",
    "from sklearn.ensemble import AdaBoostRegressor\n",
    "from sklearn.ensemble import BaggingRegressor\n",
    "from sklearn.ensemble import RandomForestRegressor\n",
    "from sklearn.ensemble import ExtraTreesRegressor"
   ]
  },
  {
   "cell_type": "markdown",
   "metadata": {},
   "source": [
    "<a id='sect2_1'></a>\n",
    "### <font color='darkgreen'>Super Learner for Regression</font> ([back](#sect2))\n",
    "We will use the [make_regression()](https://scikit-learn.org/stable/modules/generated/sklearn.datasets.make_regression.html) test problem and generate 1,000 examples (rows) with 100 features (columns). This is a simple regression problem with a linear relationship between input and output, with added noise.\n",
    "\n",
    "**We will split the data so that 50 percent is used for training the model and 50 percent is held back to evaluate the final super model and base-models.**"
   ]
  },
  {
   "cell_type": "code",
   "execution_count": 2,
   "metadata": {},
   "outputs": [
    {
     "name": "stdout",
     "output_type": "stream",
     "text": [
      "Train (600, 100) (600,) Test (400, 100) (400,)\n"
     ]
    }
   ],
   "source": [
    "# create the inputs and outputs\n",
    "X, y = make_regression(n_samples=1000, n_features=100, noise=0.5)\n",
    "\n",
    "# split\n",
    "X, X_val, y, y_val = train_test_split(X, y, test_size=0.4)\n",
    "print('Train', X.shape, y.shape, 'Test', X_val.shape, y_val.shape)"
   ]
  },
  {
   "cell_type": "markdown",
   "metadata": {},
   "source": [
    "Next, we will define a bunch of different regression models.\n",
    "\n",
    "In this case, we will use nine different algorithms with modest configuration. You can use any models or model configurations you like. The <font color='blue'>get_models()</font> function below defines all of the models and returns them as a list."
   ]
  },
  {
   "cell_type": "code",
   "execution_count": 27,
   "metadata": {},
   "outputs": [],
   "source": [
    "# create a list of base-models\n",
    "def get_models():\n",
    "    models = list()\n",
    "    models.append(LinearRegression())\n",
    "    models.append(ElasticNet())\n",
    "    models.append(SVR(gamma='scale'))\n",
    "    models.append(DecisionTreeRegressor())\n",
    "    models.append(KNeighborsRegressor())\n",
    "    models.append(AdaBoostRegressor())\n",
    "    models.append(BaggingRegressor(n_estimators=10))\n",
    "    models.append(RandomForestRegressor(n_estimators=10))\n",
    "    models.append(ExtraTreesRegressor(n_estimators=10))\n",
    "    return models"
   ]
  },
  {
   "cell_type": "markdown",
   "metadata": {},
   "source": [
    "Next, we will use k-fold cross-validation to make out-of-fold predictions that will be used as the dataset to train the meta-model or “super learner.”\n",
    "\n",
    "This involves first splitting the data into k folds; we will use 10. For each fold, we will fit the model on the training part of the split and make out-of-fold predictions on the test part of the split. This is repeated for each model and all out-of-fold predictions are stored.\n",
    "\n",
    "**Each [out-of-fold prediction](https://machinelearningmastery.com/out-of-fold-predictions-in-machine-learning) will be a column for the meta-model input.** We will collect columns from each algorithm for one fold of the data, horizontally stacking the rows. Then for all groups of columns we collect, we will vertically stack these rows into one long dataset with 500 rows and nine columns.\n",
    "\n",
    "The <font color='blue'>get_out_of_fold_predictions()</font> function below does this for a given test dataset and list of models; it will return the input and output dataset required to train the meta-model."
   ]
  },
  {
   "cell_type": "code",
   "execution_count": 4,
   "metadata": {},
   "outputs": [],
   "source": [
    "# collect out of fold predictions form k-fold cross validation\n",
    "def get_out_of_fold_predictions(X, y, models):\n",
    "    meta_X, meta_y = list(), list()\n",
    "\n",
    "    # define split of data\n",
    "    kfold = KFold(n_splits=10, shuffle=True)\n",
    "\n",
    "    # enumerate splits\n",
    "    for train_ix, test_ix in kfold.split(X):\n",
    "        fold_yhats = list()\n",
    "        # get data\n",
    "        train_X, test_X = X[train_ix], X[test_ix]\n",
    "        train_y, test_y = y[train_ix], y[test_ix]\n",
    "        meta_y.extend(test_y)\n",
    "        \n",
    "        # fit and make predictions with each sub-model\n",
    "        for model in models:\n",
    "            model.fit(train_X, train_y)\n",
    "            yhat = model.predict(test_X)\n",
    "            \n",
    "            # store columns\n",
    "            fold_yhats.append(yhat.reshape(len(yhat),1))\n",
    "        \n",
    "        # store fold yhats as columns\n",
    "        meta_X.append(hstack(fold_yhats))\n",
    "        \n",
    "    return vstack(meta_X), asarray(meta_y)"
   ]
  },
  {
   "cell_type": "markdown",
   "metadata": {},
   "source": [
    "We can then call the function to get the models and the function to prepare the meta-model dataset."
   ]
  },
  {
   "cell_type": "code",
   "execution_count": 5,
   "metadata": {},
   "outputs": [
    {
     "name": "stdout",
     "output_type": "stream",
     "text": [
      "Wall time: 7.89 s\n"
     ]
    }
   ],
   "source": [
    "%%time\n",
    "# get models\n",
    "models = get_models()\n",
    "\n",
    "# get out of fold predictions\n",
    "meta_X, meta_y = get_out_of_fold_predictions(X, y, models)"
   ]
  },
  {
   "cell_type": "code",
   "execution_count": 6,
   "metadata": {},
   "outputs": [
    {
     "name": "stdout",
     "output_type": "stream",
     "text": [
      "Meta meta_X.shap=(600, 9); meta_y.shape=(600,)\n"
     ]
    }
   ],
   "source": [
    "print(f'Meta meta_X.shap={meta_X.shape}; meta_y.shape={meta_y.shape}')"
   ]
  },
  {
   "cell_type": "markdown",
   "metadata": {},
   "source": [
    "Next, we can fit all of the base-models on the entire training dataset."
   ]
  },
  {
   "cell_type": "code",
   "execution_count": 7,
   "metadata": {},
   "outputs": [],
   "source": [
    "# fit all base models on the training dataset\n",
    "def fit_base_models(X, y, models):\n",
    "    for model in models:\n",
    "        model.fit(X, y)"
   ]
  },
  {
   "cell_type": "markdown",
   "metadata": {},
   "source": [
    "Then, we can fit the meta-model on the prepared dataset.\n",
    "\n",
    "In this case, we will use a linear regression model as the meta-model, as was used in the original paper."
   ]
  },
  {
   "cell_type": "code",
   "execution_count": 8,
   "metadata": {},
   "outputs": [],
   "source": [
    "# fit a meta model\n",
    "def fit_meta_model(X, y):\n",
    "    model = LinearRegression()\n",
    "    model.fit(X, y)\n",
    "    return model"
   ]
  },
  {
   "cell_type": "markdown",
   "metadata": {},
   "source": [
    "Next, we can evaluate the base-models on the holdout dataset."
   ]
  },
  {
   "cell_type": "code",
   "execution_count": 9,
   "metadata": {},
   "outputs": [],
   "source": [
    "# evaluate a list of models on a dataset\n",
    "def evaluate_models(X, y, models):\n",
    "    for model in models:\n",
    "        yhat = model.predict(X)\n",
    "        mse = mean_squared_error(y, yhat)\n",
    "        print('%s: RMSE %.3f' % (model.__class__.__name__, sqrt(mse)))"
   ]
  },
  {
   "cell_type": "markdown",
   "metadata": {},
   "source": [
    "And, finally, use the super learner (<font color='brown'>base and meta-model</font>) to make predictions on the holdout dataset and evaluate the performance of the approach. The <font color='blue'>super_learner_predictions()</font> function below will use the meta-model to make predictions for new data."
   ]
  },
  {
   "cell_type": "code",
   "execution_count": 10,
   "metadata": {},
   "outputs": [],
   "source": [
    "# make predictions with stacked model\n",
    "def super_learner_predictions(X, models, meta_model):\n",
    "    meta_X = list()\n",
    "    for model in models:\n",
    "        yhat = model.predict(X)\n",
    "        meta_X.append(yhat.reshape(len(yhat),1))\n",
    "    meta_X = hstack(meta_X)\n",
    "\n",
    "    # predict\n",
    "    return meta_model.predict(meta_X)"
   ]
  },
  {
   "cell_type": "markdown",
   "metadata": {},
   "source": [
    "We can call this function and evaluate the results:"
   ]
  },
  {
   "cell_type": "code",
   "execution_count": 11,
   "metadata": {},
   "outputs": [
    {
     "name": "stdout",
     "output_type": "stream",
     "text": [
      "LinearRegression: RMSE 0.535\n",
      "ElasticNet: RMSE 77.614\n",
      "SVR: RMSE 207.266\n",
      "DecisionTreeRegressor: RMSE 191.468\n",
      "KNeighborsRegressor: RMSE 184.046\n",
      "AdaBoostRegressor: RMSE 117.860\n",
      "BaggingRegressor: RMSE 131.757\n",
      "RandomForestRegressor: RMSE 132.749\n",
      "ExtraTreesRegressor: RMSE 131.049\n",
      "Super Learner: RMSE 0.536\n"
     ]
    }
   ],
   "source": [
    "# fit base models\n",
    "fit_base_models(X, y, models)\n",
    "\n",
    "# fit the meta model\n",
    "meta_model = fit_meta_model(meta_X, meta_y)\n",
    "\n",
    "# evaluate base models\n",
    "evaluate_models(X_val, y_val, models)\n",
    "\n",
    "# evaluate meta model\n",
    "yhat = super_learner_predictions(X_val, models, meta_model)\n",
    "print('Super Learner: RMSE %.3f' % (sqrt(mean_squared_error(y_val, yhat))))"
   ]
  },
  {
   "cell_type": "markdown",
   "metadata": {},
   "source": [
    "In this case, we can see that the linear models perform well on the dataset and the nonlinear algorithms not so well. We can also see that the super learner's performance is similar to the linear model (LinearRegression)."
   ]
  },
  {
   "cell_type": "markdown",
   "metadata": {},
   "source": [
    "<a id='sect2_2'></a>\n",
    "### <font color='darkgreen'>Super Learner for Classification</font> ([back](#sect2))\n",
    "<font size='3ptx'>**The super learner algorithm for classification is much the same.**</font>\n",
    "\n",
    "The inputs to the meta learner can be class labels or class probabilities, with the latter more likely to be useful given the increased granularity or uncertainty captured in the predictions.\n",
    "\n",
    "In this problem, we will use the [make_blobs()](https://scikit-learn.org/stable/modules/generated/sklearn.datasets.make_blobs.html) test classification problem and use 1,000 examples with 100 input variables and two class labels."
   ]
  },
  {
   "cell_type": "code",
   "execution_count": 13,
   "metadata": {},
   "outputs": [],
   "source": [
    "from numpy import hstack\n",
    "from numpy import vstack\n",
    "from numpy import asarray\n",
    "from sklearn.datasets import make_blobs\n",
    "from sklearn.model_selection import KFold\n",
    "from sklearn.model_selection import train_test_split\n",
    "from sklearn.metrics import accuracy_score\n",
    "from sklearn.neighbors import KNeighborsClassifier\n",
    "from sklearn.linear_model import LogisticRegression\n",
    "from sklearn.tree import DecisionTreeClassifier\n",
    "from sklearn.svm import SVC\n",
    "from sklearn.naive_bayes import GaussianNB\n",
    "from sklearn.ensemble import AdaBoostClassifier\n",
    "from sklearn.ensemble import BaggingClassifier\n",
    "from sklearn.ensemble import RandomForestClassifier\n",
    "from sklearn.ensemble import ExtraTreesClassifier"
   ]
  },
  {
   "cell_type": "code",
   "execution_count": 14,
   "metadata": {},
   "outputs": [
    {
     "name": "stdout",
     "output_type": "stream",
     "text": [
      "Train (500, 100) (500,) Test (500, 100) (500,)\n"
     ]
    }
   ],
   "source": [
    "# create the inputs and outputs\n",
    "X, y = make_blobs(n_samples=1000, centers=2, n_features=100, cluster_std=20)\n",
    "\n",
    "# split\n",
    "X, X_val, y, y_val = train_test_split(X, y, test_size=0.50)\n",
    "print('Train', X.shape, y.shape, 'Test', X_val.shape, y_val.shape)"
   ]
  },
  {
   "cell_type": "markdown",
   "metadata": {},
   "source": [
    "Next, we can change the <font color='blue'>get_classifier_models()</font> function to define a suite of linear and nonlinear classification algorithms."
   ]
  },
  {
   "cell_type": "code",
   "execution_count": 15,
   "metadata": {},
   "outputs": [],
   "source": [
    "# create a list of base-models\n",
    "def get_classifier_models():\n",
    "    models = list()\n",
    "    models.append(LogisticRegression(solver='liblinear'))\n",
    "    models.append(DecisionTreeClassifier())\n",
    "    models.append(SVC(gamma='scale', probability=True))\n",
    "    models.append(GaussianNB())\n",
    "    models.append(KNeighborsClassifier())\n",
    "    models.append(AdaBoostClassifier())\n",
    "    models.append(BaggingClassifier(n_estimators=10))\n",
    "    models.append(RandomForestClassifier(n_estimators=10))\n",
    "    models.append(ExtraTreesClassifier(n_estimators=10))\n",
    "    return models"
   ]
  },
  {
   "cell_type": "markdown",
   "metadata": {},
   "source": [
    "Next, we can change the <font color='blue'>get_out_of_fold_classifier_predictions()</font> function to predict probabilities by a call to the <font color='blue'>predict_proba()</font> function."
   ]
  },
  {
   "cell_type": "code",
   "execution_count": 19,
   "metadata": {},
   "outputs": [],
   "source": [
    "# collect out of fold predictions form k-fold cross validation\n",
    "def get_out_of_fold_classifier_predictions(X, y, models):\n",
    "    meta_X, meta_y = list(), list()\n",
    "    # define split of data\n",
    "    kfold = KFold(n_splits=10, shuffle=True)\n",
    "    # enumerate splits\n",
    "    for train_ix, test_ix in kfold.split(X):\n",
    "        fold_yhats = list()\n",
    "        # get data\n",
    "        train_X, test_X = X[train_ix], X[test_ix]\n",
    "        train_y, test_y = y[train_ix], y[test_ix]\n",
    "        meta_y.extend(test_y)\n",
    "        # fit and make predictions with each sub-model\n",
    "        for model in models:\n",
    "            model.fit(train_X, train_y)\n",
    "            yhat = model.predict_proba(test_X)\n",
    "            # store columns\n",
    "            fold_yhats.append(yhat)\n",
    "        # store fold yhats as columns\n",
    "        meta_X.append(hstack(fold_yhats))\n",
    "    return vstack(meta_X), asarray(meta_y)"
   ]
  },
  {
   "cell_type": "markdown",
   "metadata": {},
   "source": [
    "A Logistic Regression algorithm instead of a Linear Regression algorithm will be used as the meta-algorithm in the <font color='blue'>fit_classifier_meta_model()</font> function."
   ]
  },
  {
   "cell_type": "code",
   "execution_count": 17,
   "metadata": {},
   "outputs": [],
   "source": [
    "# fit a meta model\n",
    "def fit_classifier_meta_model(X, y):\n",
    "    model = LogisticRegression(solver='liblinear')\n",
    "    model.fit(X, y)\n",
    "    return model"
   ]
  },
  {
   "cell_type": "markdown",
   "metadata": {},
   "source": [
    "And classification accuracy will be used to report model performance:"
   ]
  },
  {
   "cell_type": "code",
   "execution_count": 22,
   "metadata": {},
   "outputs": [
    {
     "name": "stdout",
     "output_type": "stream",
     "text": [
      "Meta  (500, 18) (500,)\n",
      "LogisticRegression: 93.600\n",
      "DecisionTreeClassifier: 70.600\n",
      "SVC: 96.200\n",
      "GaussianNB: 97.000\n",
      "KNeighborsClassifier: 92.800\n",
      "AdaBoostClassifier: 89.800\n",
      "BaggingClassifier: 85.800\n",
      "RandomForestClassifier: 84.400\n",
      "ExtraTreesClassifier: 81.600\n",
      "Super Learner: 97.200\n"
     ]
    }
   ],
   "source": [
    "# evaluate a list of models on a dataset\n",
    "def evaluate_classifier_models(X, y, models):\n",
    "    for model in models:\n",
    "        yhat = model.predict(X)\n",
    "        acc = accuracy_score(y, yhat)\n",
    "        print('%s: %.3f' % (model.__class__.__name__, acc*100))\n",
    "\n",
    "\n",
    "# make predictions with stacked model\n",
    "def super_learner_classifier_predictions(X, models, meta_model):\n",
    "    meta_X = list()\n",
    "    for model in models:\n",
    "        yhat = model.predict_proba(X)\n",
    "        meta_X.append(yhat)\n",
    "    meta_X = hstack(meta_X)\n",
    "    # predict\n",
    "    return meta_model.predict(meta_X)\n",
    "\n",
    "        \n",
    "# get models\n",
    "models = get_classifier_models()\n",
    "\n",
    "# get out of fold predictions\n",
    "meta_X, meta_y = get_out_of_fold_classifier_predictions(X, y, models)\n",
    "print('Meta ', meta_X.shape, meta_y.shape)\n",
    "\n",
    "# fit base models\n",
    "fit_base_models(X, y, models)\n",
    "\n",
    "# fit the meta model\n",
    "meta_model = fit_classifier_meta_model(meta_X, meta_y)\n",
    "\n",
    "# evaluate base models\n",
    "evaluate_classifier_models(X_val, y_val, models)\n",
    "\n",
    "# evaluate meta model\n",
    "yhat = super_learner_classifier_predictions(X_val, models, meta_model)\n",
    "print('Super Learner: %.3f' % (accuracy_score(y_val, yhat) * 100))"
   ]
  },
  {
   "cell_type": "markdown",
   "metadata": {},
   "source": [
    "In this case, we can see that the super learner has slightly better performance than the base learner algorithms."
   ]
  },
  {
   "cell_type": "markdown",
   "metadata": {},
   "source": [
    "<a id='sect3'></a>\n",
    "## <font color='darkblue'>Super Learner With ML-Ensemble Library</font> ([back](#sect0))\n",
    "<font size='3ptx'>**Implementing the super learner manually is a good exercise but is not ideal.**</font>\n",
    "\n",
    "We may introduce bugs in the implementation and the example as listed does not make use of multiple cores to speed up the execution.\n",
    "\n",
    "Thankfully, [Sebastian Flennerhag](http://flennerhag.com/) provides an efficient and tested implementation of the Super Learner algorithm and other ensemble algorithms in his [ML-Ensemble](https://github.com/flennerhag/mlens) (<font color='brown'>mlens</font>) Python library. It is specifically designed to work with scikit-learn models.\n",
    "\n",
    "First, the library must be installed, which can be achieved via pip, as follows:"
   ]
  },
  {
   "cell_type": "code",
   "execution_count": 24,
   "metadata": {},
   "outputs": [],
   "source": [
    "#!pip install mlens"
   ]
  },
  {
   "cell_type": "markdown",
   "metadata": {},
   "source": [
    "Next, a [**SuperLearner**](https://mlens.readthedocs.io/en/0.1.x/source/mlens.ensemble.super_learner/#mlens.ensemble.super_learner.SuperLearner) class can be defined, models added via a call to the <font color='blue'>add()</font> function, the meta learner added via a call to the <font color='blue'>add_meta()</font> function, then the model used like any other scikit-learn model:\n",
    "```python\n",
    "...\n",
    "# configure model\n",
    "ensemble = SuperLearner(...)\n",
    "# add list of base learners\n",
    "ensemble.add(...)\n",
    "# add meta learner\n",
    "ensemble.add_meta(...)\n",
    "# use model ...\n",
    "```\n",
    "We can use this class on the regression and classification problems from the previous section:\n",
    "* <font size='3ptx'>[**Super Learner for Regression With the ML-Ensemble Library**](#sect3_1)</font>\n",
    "* <font size='3ptx'>[**Super Learner for Classification With the ML-Ensemble Library**](#sect3_2)</font>"
   ]
  },
  {
   "cell_type": "markdown",
   "metadata": {},
   "source": [
    "<a id='sect3_1'></a>\n",
    "### <font color='darkgreen'>Super Learner for Regression With the ML-Ensemble Library</font>\n",
    "First, we can define a function to calculate RMSE for our problem that the super learner can use to evaluate base-models."
   ]
  },
  {
   "cell_type": "code",
   "execution_count": 30,
   "metadata": {},
   "outputs": [
    {
     "name": "stderr",
     "output_type": "stream",
     "text": [
      "[MLENS] backend: threading\n"
     ]
    }
   ],
   "source": [
    "# example of a super learner for regression using the mlens library\n",
    "from math import sqrt\n",
    "from sklearn.datasets import make_regression\n",
    "from sklearn.model_selection import train_test_split\n",
    "from sklearn.metrics import mean_squared_error\n",
    "from sklearn.linear_model import LinearRegression\n",
    "from sklearn.linear_model import ElasticNet\n",
    "from sklearn.neighbors import KNeighborsRegressor\n",
    "from sklearn.tree import DecisionTreeRegressor\n",
    "from sklearn.svm import SVR\n",
    "from sklearn.ensemble import AdaBoostRegressor\n",
    "from sklearn.ensemble import BaggingRegressor\n",
    "from sklearn.ensemble import RandomForestRegressor\n",
    "from sklearn.ensemble import ExtraTreesRegressor\n",
    "from mlens.ensemble import SuperLearner"
   ]
  },
  {
   "cell_type": "code",
   "execution_count": 25,
   "metadata": {},
   "outputs": [],
   "source": [
    "# cost function for base models\n",
    "def rmse(yreal, yhat):\n",
    "    return sqrt(mean_squared_error(yreal, yhat))"
   ]
  },
  {
   "cell_type": "markdown",
   "metadata": {},
   "source": [
    "Next, we can configure the [**SuperLearner**](https://mlens.readthedocs.io/en/0.1.x/source/mlens.ensemble.super_learner/#mlens.ensemble.super_learner.SuperLearner) with 10-fold cross-validation, our evaluation function, and the use of the entire training dataset when preparing out-of-fold predictions to use as input for the meta-model.\n",
    "\n",
    "The <font color='blue'>get_super_learner()</font> function below implements this:"
   ]
  },
  {
   "cell_type": "code",
   "execution_count": 28,
   "metadata": {},
   "outputs": [],
   "source": [
    "# create the super learner\n",
    "def get_super_learner(X):\n",
    "    ensemble = SuperLearner(scorer=rmse, folds=10, shuffle=True, sample_size=len(X))\n",
    "    # add base models\n",
    "    models = get_models()\n",
    "    ensemble.add(models)\n",
    "    # add the meta model\n",
    "    ensemble.add_meta(LinearRegression())\n",
    "    return ensemble"
   ]
  },
  {
   "cell_type": "markdown",
   "metadata": {},
   "source": [
    "We can then fit the model on the training dataset."
   ]
  },
  {
   "cell_type": "code",
   "execution_count": 33,
   "metadata": {},
   "outputs": [
    {
     "name": "stdout",
     "output_type": "stream",
     "text": [
      "Train (500, 100) (500,) Test (500, 100) (500,)\n"
     ]
    }
   ],
   "source": [
    "# create the inputs and outputs\n",
    "X, y = make_regression(n_samples=1000, n_features=100, noise=0.5)\n",
    "\n",
    "# split\n",
    "X, X_val, y, y_val = train_test_split(X, y, test_size=0.50)\n",
    "\n",
    "print('Train', X.shape, y.shape, 'Test', X_val.shape, y_val.shape)"
   ]
  },
  {
   "cell_type": "code",
   "execution_count": 34,
   "metadata": {},
   "outputs": [
    {
     "name": "stdout",
     "output_type": "stream",
     "text": [
      "Wall time: 1.97 s\n"
     ]
    },
    {
     "data": {
      "text/plain": [
       "SuperLearner(array_check=None, backend=None, folds=10,\n",
       "       layers=[Layer(backend='threading', dtype=<class 'numpy.float32'>, n_jobs=-1,\n",
       "   name='layer-1', propagate_features=None, raise_on_exception=True,\n",
       "   random_state=None, shuffle=True,\n",
       "   stack=[Group(backend='threading', dtype=<class 'numpy.float32'>,\n",
       "   indexer=FoldIndex(X=None, folds=10, raise_on_ex...2C51AF0>)],\n",
       "   n_jobs=-1, name='group-3', raise_on_exception=True, transformers=[])],\n",
       "   verbose=0)],\n",
       "       model_selection=False, n_jobs=None, raise_on_exception=True,\n",
       "       random_state=None, sample_size=500,\n",
       "       scorer=<function rmse at 0x00000204E2C51AF0>, shuffle=True,\n",
       "       verbose=False)"
      ]
     },
     "execution_count": 34,
     "metadata": {},
     "output_type": "execute_result"
    }
   ],
   "source": [
    "%%time\n",
    "# create the super learner\n",
    "ensemble = get_super_learner(X)\n",
    "\n",
    "# fit the super learner\n",
    "ensemble.fit(X, y)"
   ]
  },
  {
   "cell_type": "markdown",
   "metadata": {},
   "source": [
    "Once fit, we can get a nice report of the performance of each of the base-models on the training dataset using k-fold cross-validation by accessing the “<font color='violet'>data</font>” attribute on the model."
   ]
  },
  {
   "cell_type": "code",
   "execution_count": 35,
   "metadata": {},
   "outputs": [
    {
     "name": "stdout",
     "output_type": "stream",
     "text": [
      "                                  score-m  score-s  ft-m  ft-s  pt-m  pt-s\n",
      "layer-1  adaboostregressor          91.45    10.99  0.56  0.01  0.03  0.01\n",
      "layer-1  baggingregressor          100.65     8.56  0.23  0.01  0.01  0.01\n",
      "layer-1  decisiontreeregressor     153.78    14.03  0.03  0.00  0.00  0.00\n",
      "layer-1  elasticnet                 65.79     7.28  0.00  0.00  0.00  0.00\n",
      "layer-1  extratreesregressor        91.14     8.66  0.18  0.06  0.01  0.00\n",
      "layer-1  kneighborsregressor       159.19    15.35  0.01  0.00  0.01  0.00\n",
      "layer-1  linearregression            0.55     0.04  0.03  0.01  0.00  0.00\n",
      "layer-1  randomforestregressor     102.41     9.67  0.22  0.03  0.00  0.00\n",
      "layer-1  svr                       183.47    15.75  0.03  0.00  0.00  0.00\n",
      "\n"
     ]
    }
   ],
   "source": [
    "# summarize base learners\n",
    "print(ensemble.data)"
   ]
  },
  {
   "cell_type": "markdown",
   "metadata": {},
   "source": [
    "Note that **we cannot compare the base learner scores in the table to the super learner as the base learners were evaluated on the training dataset only, not the holdout dataset.**"
   ]
  },
  {
   "cell_type": "markdown",
   "metadata": {},
   "source": [
    "<a id='sect3_2'></a>\n",
    "### <font color='darkgreen'>Super Learner for Classification With the ML-Ensemble Library</font>\n",
    "<font size='3ptx'>**The ML-Ensemble is also very easy to use for classification problems, following the same general pattern.**</font>\n",
    "\n",
    "**In this case, we will use our list of classifier models and a logistic regression model as the meta-model.** The complete example of fitting and evaluating a super learner model for a test classification problem with the mlens library is listed below."
   ]
  },
  {
   "cell_type": "code",
   "execution_count": 36,
   "metadata": {},
   "outputs": [],
   "source": [
    "# example of a super learner using the mlens library\n",
    "from sklearn.datasets import make_blobs\n",
    "from sklearn.model_selection import train_test_split\n",
    "from sklearn.metrics import accuracy_score\n",
    "from sklearn.neighbors import KNeighborsClassifier\n",
    "from sklearn.linear_model import LogisticRegression\n",
    "from sklearn.tree import DecisionTreeClassifier\n",
    "from sklearn.svm import SVC\n",
    "from sklearn.naive_bayes import GaussianNB\n",
    "from sklearn.ensemble import AdaBoostClassifier\n",
    "from sklearn.ensemble import BaggingClassifier\n",
    "from sklearn.ensemble import RandomForestClassifier\n",
    "from sklearn.ensemble import ExtraTreesClassifier\n",
    "from mlens.ensemble import SuperLearner"
   ]
  },
  {
   "cell_type": "code",
   "execution_count": 37,
   "metadata": {},
   "outputs": [],
   "source": [
    "# create the super learner\n",
    "def get_super_classifier_learner(X):\n",
    "    ensemble = SuperLearner(\n",
    "        scorer=accuracy_score,\n",
    "        folds=10,\n",
    "        shuffle=True,\n",
    "        sample_size=len(X)\n",
    "    )\n",
    "    \n",
    "    # add base models\n",
    "    models = get_classifier_models()\n",
    "    ensemble.add(models)\n",
    "    \n",
    "    # add the meta model\n",
    "    ensemble.add_meta(LogisticRegression(solver='lbfgs'))\n",
    "    return ensemble"
   ]
  },
  {
   "cell_type": "code",
   "execution_count": 39,
   "metadata": {},
   "outputs": [
    {
     "name": "stdout",
     "output_type": "stream",
     "text": [
      "Train (500, 100) (500,) Test (500, 100) (500,)\n",
      "Wall time: 1.56 s\n"
     ]
    },
    {
     "data": {
      "text/plain": [
       "SuperLearner(array_check=None, backend=None, folds=10,\n",
       "       layers=[Layer(backend='threading', dtype=<class 'numpy.float32'>, n_jobs=-1,\n",
       "   name='layer-1', propagate_features=None, raise_on_exception=True,\n",
       "   random_state=None, shuffle=True,\n",
       "   stack=[Group(backend='threading', dtype=<class 'numpy.float32'>,\n",
       "   indexer=FoldIndex(X=None, folds=10, raise_on_ex...D746DC0>)],\n",
       "   n_jobs=-1, name='group-7', raise_on_exception=True, transformers=[])],\n",
       "   verbose=0)],\n",
       "       model_selection=False, n_jobs=None, raise_on_exception=True,\n",
       "       random_state=None, sample_size=500,\n",
       "       scorer=<function accuracy_score at 0x00000204DD746DC0>,\n",
       "       shuffle=True, verbose=False)"
      ]
     },
     "execution_count": 39,
     "metadata": {},
     "output_type": "execute_result"
    }
   ],
   "source": [
    "%%time\n",
    "# create the inputs and outputs\n",
    "X, y = make_blobs(n_samples=1000, centers=2, n_features=100, cluster_std=20)\n",
    "\n",
    "# split\n",
    "X, X_val, y, y_val = train_test_split(X, y, test_size=0.50)\n",
    "print('Train', X.shape, y.shape, 'Test', X_val.shape, y_val.shape)\n",
    "\n",
    "# create the super learner\n",
    "ensemble = get_super_classifier_learner(X)\n",
    "\n",
    "# fit the super learner\n",
    "ensemble.fit(X, y)"
   ]
  },
  {
   "cell_type": "code",
   "execution_count": 40,
   "metadata": {},
   "outputs": [
    {
     "name": "stdout",
     "output_type": "stream",
     "text": [
      "                                   score-m  score-s  ft-m  ft-s  pt-m  pt-s\n",
      "layer-1  adaboostclassifier           0.90     0.04  0.44  0.03  0.04  0.01\n",
      "layer-1  baggingclassifier            0.82     0.04  0.20  0.01  0.01  0.01\n",
      "layer-1  decisiontreeclassifier       0.73     0.04  0.03  0.00  0.00  0.00\n",
      "layer-1  extratreesclassifier         0.82     0.05  0.07  0.03  0.01  0.00\n",
      "layer-1  gaussiannb                   0.97     0.02  0.00  0.00  0.00  0.00\n",
      "layer-1  kneighborsclassifier         0.93     0.03  0.01  0.00  0.01  0.00\n",
      "layer-1  logisticregression           0.96     0.02  0.01  0.00  0.00  0.00\n",
      "layer-1  randomforestclassifier       0.83     0.06  0.07  0.01  0.01  0.00\n",
      "layer-1  svc                          0.97     0.02  0.10  0.00  0.00  0.00\n",
      "\n",
      "Super Learner: 97.000\n"
     ]
    }
   ],
   "source": [
    "# summarize base learners\n",
    "print(ensemble.data)\n",
    "\n",
    "# make predictions on hold out set\n",
    "yhat = ensemble.predict(X_val)\n",
    "print('Super Learner: %.3f' % (accuracy_score(y_val, yhat) * 100))"
   ]
  },
  {
   "cell_type": "markdown",
   "metadata": {},
   "source": [
    "Again, we can see that the super learner performs well on this test problem, and more importantly, is fit and evaluated very quickly as compared to the manual example in the previous section."
   ]
  },
  {
   "cell_type": "markdown",
   "metadata": {},
   "source": [
    "## <font color='darkblue'>Supplement</font>\n",
    "* [How to Develop a Stacking Ensemble for Deep Learning Neural Networks in Python With Keras](https://machinelearningmastery.com/stacking-ensemble-for-deep-learning-neural-networks/)\n",
    "* [How to Implement Stacked Generalization (Stacking) From Scratch With Python](https://machinelearningmastery.com/implementing-stacking-scratch-python/)\n",
    "* [How to Create a Bagging Ensemble of Deep Learning Models in Keras](https://machinelearningmastery.com/how-to-create-a-random-split-cross-validation-and-bagging-ensemble-for-deep-learning-in-keras/)\n",
    "* [How to Use Out-of-Fold Predictions in Machine Learning](https://machinelearningmastery.com/out-of-fold-predictions-in-machine-learning)"
   ]
  }
 ],
 "metadata": {
  "kernelspec": {
   "display_name": "Python 3",
   "language": "python",
   "name": "python3"
  },
  "language_info": {
   "codemirror_mode": {
    "name": "ipython",
    "version": 3
   },
   "file_extension": ".py",
   "mimetype": "text/x-python",
   "name": "python",
   "nbconvert_exporter": "python",
   "pygments_lexer": "ipython3",
   "version": "3.8.7"
  }
 },
 "nbformat": 4,
 "nbformat_minor": 4
}
