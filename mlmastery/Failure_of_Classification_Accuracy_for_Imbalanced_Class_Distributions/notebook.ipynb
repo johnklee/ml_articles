{
 "cells": [
  {
   "cell_type": "markdown",
   "metadata": {},
   "source": [
    "## <font color='darkblue'>Preface</font>\n",
    "([article](https://machinelearningmastery.com/failure-of-accuracy-for-imbalanced-class-distributions/)) Classification accuracy is a metric that summarizes the performance of a classification model as the number of correct predictions divided by the total number of predictions.\n",
    "\n",
    "<font size='3ptx'><b>It is easy to calculate and intuitive to understand, making it the most common metric used for evaluating classifier models. This intuition breaks down when the distribution of examples to classes is severely skewed.</b></font>\n",
    "\n",
    "Intuitions developed by practitioners on balanced datasets, such as 99 percent representing a skillful model, can be incorrect and dangerously misleading on imbalanced classification predictive modeling problems.\n",
    "\n",
    "<b>In this tutorial, you will discover the failure of classification accuracy for imbalanced classification problems.</b>\n",
    "\n",
    "After completing this tutorial, you will know:\n",
    "* Accuracy and error rate are the de facto standard metrics for summarizing the performance of classification models.\n",
    "* Classification accuracy fails on classification problems with a skewed class distribution because of the intuitions developed by practitioners on datasets with an equal class distribution.\n",
    "* Intuition for the failure of accuracy for skewed class distributions with a worked example."
   ]
  },
  {
   "cell_type": "markdown",
   "metadata": {},
   "source": [
    "### <font color='darkgreen'>Tutorial Overview</font>\n",
    "This tutorial is divided into three parts; they are:\n",
    "* <font size='3ptx'><b><a href='#sect1'>What Is Classification Accuracy?</a></b></font>\n",
    "* <font size='3ptx'><b><a href='#sect2'>Accuracy Fails for Imbalanced Classification</a></b></font>\n",
    "* <font size='3ptx'><b><a href='#sect3'>Example of Accuracy for Imbalanced Classification</a></b></font>"
   ]
  },
  {
   "cell_type": "markdown",
   "metadata": {},
   "source": [
    "<a id='sect1'></a>\n",
    "## <font color='darkblue'>What Is Classification Accuracy?</font>\n",
    "<font size='3ptx'><b>Classification predictive modeling involves predicting a class label given examples in a problem domain.</b></font>\n",
    "\n",
    "<b>The most common metric used to evaluate the performance of a classification predictive model is classification accuracy</b>. Typically, the accuracy of a predictive model is good (<font color='brown'>above 90% accuracy</font>), therefore it is also very common to summarize the performance of a model in terms of the error rate of the model.\n",
    "> Accuracy and its complement error rate are the most frequently used metrics for estimating the performance of learning systems in classification problems.<br/><br/>\n",
    "> — <b><a href='https://arxiv.org/abs/1505.01658'>A Survey of Predictive Modelling under Imbalanced Distributions, 2015.</a></b>\n",
    "<br/>\n",
    "\n",
    "<b><a href='https://en.wikipedia.org/wiki/Accuracy_and_precision'>Classification accuracy</a></b> involves first using a classification model to make a prediction for each example in a test dataset. The predictions are then compared to the known labels for those examples in the test set. Accuracy is then calculated as the proportion of examples in the test set that were predicted correctly, divided by all predictions that were made on the test set.\n",
    "* Accuracy = Correct Predictions / Total Predictions\n",
    "<br/><br/>\n",
    "\n",
    "Conversely, the error rate can be calculated as the total number of incorrect predictions made on the test set divided by all predictions made on the test set.\n",
    "* Error Rate = Incorrect Predictions / Total Predictions\n",
    "<br/><br/>\n",
    "\n",
    "The accuracy and error rate are complements of each other, meaning that we can always calculate one from the other. For example:\n",
    "* Accuracy = 1 – Error Rate\n",
    "* Error Rate = 1 – Accuracy\n",
    "<br/><br/>\n",
    "\n",
    "Another valuable way to think about accuracy is in terms of the <b><a href='https://machinelearningmastery.com/confusion-matrix-machine-learning/'>confusion matrix.</a></b>\n",
    "\n",
    "A confusion matrix is a summary of the predictions made by a classification model organized into a table by class. Each row of the table indicates the actual class and each column represents the predicted class. A value in the cell is a count of the number of predictions made for a class that are actually for a given class. The cells on the diagonal represent correct predictions, where a predicted and expected class align.\n",
    "> The most straightforward way to evaluate the performance of classifiers is based on the confusion matrix analysis. […] From such a matrix it is possible to extract a number of widely used metrics for measuring the performance of learning systems, such as Error Rate […] and Accuracy … <br/><br/>\n",
    "> <b><a href='https://dl.acm.org/citation.cfm?id=1007735'>— A Study Of The Behavior Of Several Methods For Balancing Machine Learning Training Data, 2004.</a></b>\n",
    "<br/><br/>\n",
    "\n",
    "The confusion matrix provides more insight into not only the accuracy of a predictive model, but also which classes are being predicted correctly, which incorrectly, and what type of errors are being made.\n",
    "\n",
    "The simplest confusion matrix is for a two-class classification problem, with negative (class 0) and positive (class 1) classes.\n",
    "\n",
    "In this type of confusion matrix, each cell in the table has a specific and well-understood name, summarized as follows:\n",
    "```\n",
    "               | Positive Prediction | Negative Prediction\n",
    "Positive Class | True Positive (TP)  | False Negative (FN)\n",
    "Negative Class | False Positive (FP) | True Negative (TN)\n",
    "```\n",
    "<br/><br/>\n",
    "\n",
    "The classification accuracy can be calculated from this confusion matrix as the sum of correct cells in the table (true positives and true negatives) divided by all cells in the table.\n",
    "* Accuracy = (TP + TN) / (TP + FN + FP + TN)\n",
    "<br/><br/>\n",
    "\n",
    "Similarly, the error rate can also be calculated from the confusion matrix as the sum of incorrect cells of the table (false positives and false negatives) divided by all cells of the table.\n",
    "* Error Rate = (FP + FN) / (TP + FN + FP + TN)\n",
    "<br/><br/>\n",
    "\n",
    "Now that we are familiar with classification accuracy and its complement error rate, let’s discover why they might be a bad idea to use for imbalanced classification problems."
   ]
  },
  {
   "cell_type": "markdown",
   "metadata": {},
   "source": [
    "<a id='sect2'></a>\n",
    "## <font color='darkblue'>Accuracy Fails for Imbalanced Classification</font>\n",
    "* <b><a href='#sect2_1'>Accuracy Paradox</a></b>\n",
    "\n",
    "Classification accuracy is the most-used metric for evaluating classification models.\n",
    "\n",
    "The reason for its wide use is because it is easy to calculate, easy to interpret, and is a single number to summarize the model’s capability.\n",
    "\n",
    "As such, it is natural to use it on imbalanced classification problems, where the distribution of examples in the training dataset across the classes is not equal.\n",
    "\n",
    "This is the most common mistake made by beginners to imbalanced classification.\n",
    "\n",
    "<font size='3ptx' color='darkred'><b>When the class distribution is slightly skewed, accuracy can still be a useful metric. When the skew in the class distributions are severe, accuracy can become an unreliable measure of model performance.</b></font>\n",
    "\n",
    "The reason for this unreliability is centered around the average machine learning practitioner and the intuitions for classification accuracy.\n",
    "\n",
    "Typically, classification predictive modeling is practiced with small datasets where the class distribution is equal or very close to equal. Therefore, most practitioners develop an intuition that large accuracy score (<font color='brown'>or conversely small error rate scores</font>) are good, and values above 90 percent are great.\n",
    "\n",
    "<b>Achieving 90 percent classification accuracy, or even 99 percent classification accuracy, may be trivial on an imbalanced classification problem.</b>\n",
    "\n",
    "This means that intuitions for classification accuracy developed on balanced class distributions will be applied and will be wrong, misleading the practitioner into thinking that a model has good or even excellent performance when it, in fact, does not."
   ]
  },
  {
   "cell_type": "markdown",
   "metadata": {},
   "source": [
    "<a id='sect2_1'></a>\n",
    "### <font color='darkgreen'>Accuracy Paradox</font>\n",
    "<b><font size='3ptx'>Consider the case of an imbalanced dataset with a 1:100 class imbalance.</font></b>\n",
    "\n",
    "In this problem, each example of the minority class (class 1) will have a corresponding 100 examples for the majority class (class 0).\n",
    "\n",
    "In problems of this type, the majority class represents “normal” and the minority class represents “abnormal,” such as a fault, a diagnosis, or a fraud. Good performance on the minority class will be preferred over good performance on both classes.\n",
    "> Considering a user preference bias towards the minority (positive) class examples, accuracy is not suitable because the impact of the least represented, but more important examples, is reduced when compared to that of the majority class. <br/><br/>\n",
    "> <b><a href='https://arxiv.org/abs/1505.01658'>— A Survey of Predictive Modelling under Imbalanced Distributions, 2015.</a></b>\n",
    "<br/><br/>\n",
    "\n",
    "On this problem, a model that predicts the majority class (class 0) for all examples in the test set will have a classification accuracy of 99 percent, mirroring the distribution of major and minor examples expected in the test set on average.\n",
    "\n",
    "Many machine learning models are designed around the assumption of balanced class distribution, and often learn simple rules (explicit or otherwise) like always predict the majority class, causing them to achieve an accuracy of 99 percent, although in practice performing no better than an unskilled majority class classifier.\n",
    "\n",
    "A beginner will see the performance of a sophisticated model achieving 99 percent on an imbalanced dataset of this type and believe their work is done, when in fact, they have been misled.\n",
    "\n",
    "This situation is so common that it has a name, referred to as the “<b><a href='https://en.wikipedia.org/wiki/Accuracy_paradox'>accuracy paradox.</a></b>”\n",
    "> … in the framework of imbalanced data-sets, accuracy is no longer a proper measure, since it does not distinguish between the numbers of correctly classified examples of different classes. Hence, it may lead to erroneous conclusions …\n",
    "> <b><a href='https://ieeexplore.ieee.org/document/5978225'>— A Review on Ensembles for the Class Imbalance Problem: Bagging-, Boosting-, and Hybrid-Based Approaches, 2011.</a></b>\n",
    "<br/><br/>\n",
    "\n",
    "Strictly speaking, accuracy does report a correct result; it is only the practitioner’s intuition of high accuracy scores that is the point of failure. Instead of correcting faulty intuitions, it is common to use alternative metrics to summarize model performance for imbalanced classification problems.\n",
    "\n",
    "Now that we are familiar with the idea that classification can be misleading, let’s look at a worked example."
   ]
  },
  {
   "cell_type": "markdown",
   "metadata": {},
   "source": [
    "<a id='sect3'></a>\n",
    "## <font color='darkblue'>Example of Accuracy for Imbalanced Classification</font>\n",
    "Although the explanation of why accuracy is a bad idea for imbalanced classification has been given, it is still an abstract idea.\n",
    "\n",
    "<b><font size='3ptx'>We can make the failure of accuracy concrete with a worked example, and attempt to counter any intuitions for accuracy on balanced class distributions that you may have developed, or more likely dissuade the use of accuracy for imbalanced datasets.</font></b>\n",
    "\n",
    "First, we can define a synthetic dataset with a 1:100 class distribution.\n",
    "\n",
    "The <a href='https://scikit-learn.org/stable/modules/generated/sklearn.datasets.make_blobs.html'>make_blobs()</a> scikit-learn function will always create synthetic datasets with an equal class distribution.\n",
    "\n",
    "Nevertheless, we can use this function to create synthetic classification datasets with arbitrary class distributions with a few extra lines of code. A class distribution can be defined as a dictionary where the key is the class value (<font color='brown'>e.g. 0 or 1</font>) and the value is the number of randomly generated examples to include in the dataset.\n",
    "\n",
    "The function below, named <font color='blue'>get_dataset()</font>, will take a class distribution and return a synthetic dataset with that class distribution."
   ]
  },
  {
   "cell_type": "code",
   "execution_count": 12,
   "metadata": {},
   "outputs": [],
   "source": [
    "# define an imbalanced dataset with a 1:100 class ratio\n",
    "from numpy import mean\n",
    "from numpy import unique\n",
    "from numpy import hstack\n",
    "from numpy import vstack\n",
    "from numpy import where\n",
    "from matplotlib import pyplot\n",
    "from sklearn.datasets import make_blobs\n",
    "from sklearn.dummy import DummyClassifier\n",
    "from sklearn.model_selection import cross_val_score\n",
    "from sklearn.model_selection import RepeatedStratifiedKFold"
   ]
  },
  {
   "cell_type": "code",
   "execution_count": 1,
   "metadata": {},
   "outputs": [],
   "source": [
    "# create a dataset with a given class distribution\n",
    "def get_dataset(proportions):\n",
    "    # determine the number of classes\n",
    "    n_classes = len(proportions)\n",
    "    # determine the number of examples to generate for each class\n",
    "    largest = max([v for k,v in proportions.items()])\n",
    "    n_samples = largest * n_classes\n",
    "    # create dataset\n",
    "    X, y = make_blobs(n_samples=n_samples, centers=n_classes, n_features=2, random_state=1, cluster_std=3)\n",
    "    # collect the examples\n",
    "    X_list, y_list = list(), list()\n",
    "    for k,v in proportions.items():\n",
    "        row_ix = where(y == k)[0]\n",
    "        selected = row_ix[:v]\n",
    "        X_list.append(X[selected, :])\n",
    "        y_list.append(y[selected])\n",
    "\n",
    "    return vstack(X_list), hstack(y_list)"
   ]
  },
  {
   "cell_type": "markdown",
   "metadata": {},
   "source": [
    "The function can take any number of classes, although we will use it for simple binary classification problems.\n",
    "\n",
    "Next, we can take the code from the previous section for creating a scatter plot for a created dataset and place it in a helper function. Below is the <font color='blue'>plot_dataset()</font> function that will plot the dataset and show a legend to indicate the mapping of colors to class labels."
   ]
  },
  {
   "cell_type": "code",
   "execution_count": 3,
   "metadata": {},
   "outputs": [],
   "source": [
    "# scatter plot of dataset, different color for each class\n",
    "def plot_dataset(X, y):\n",
    "    # create scatter plot for samples from each class\n",
    "    n_classes = len(unique(y))\n",
    "    for class_value in range(n_classes):\n",
    "        # get row indexes for samples with this class\n",
    "        row_ix = where(y == class_value)[0]\n",
    "        # create scatter of these samples\n",
    "        pyplot.scatter(X[row_ix, 0], X[row_ix, 1], label=str(class_value))\n",
    "    # show a legend\n",
    "    pyplot.legend()\n",
    "    # show the plot\n",
    "    pyplot.show()"
   ]
  },
  {
   "cell_type": "markdown",
   "metadata": {},
   "source": [
    "Finally, we can test these new functions.\n",
    "\n",
    "We will define a dataset with 1:100 ratio, with 1,000 examples for the minority class and 10,000 examples for the majority class, and plot the result.\n",
    "\n",
    "The complete example is listed below."
   ]
  },
  {
   "cell_type": "code",
   "execution_count": 14,
   "metadata": {},
   "outputs": [
    {
     "name": "stdout",
     "output_type": "stream",
     "text": [
      "Class 0: 99.010%, Class 1: 0.990%\n"
     ]
    },
    {
     "data": {
      "image/png": "[encoded data removed]",
      "text/plain": [
       "<Figure size 720x360 with 1 Axes>"
      ]
     },
     "metadata": {
      "needs_background": "light"
     },
     "output_type": "display_data"
    }
   ],
   "source": [
    "# define the class distribution 1:100\n",
    "proportions = {0:100000, 1:1000}\n",
    "\n",
    "# generate dataset\n",
    "X, y = get_dataset(proportions)\n",
    "\n",
    "# summarize class distribution:\n",
    "major = (len(where(y == 0)[0]) / len(X)) * 100\n",
    "minor = (len(where(y == 1)[0]) / len(X)) * 100\n",
    "print('Class 0: %.3f%%, Class 1: %.3f%%' % (major, minor))\n",
    "\n",
    "# plot dataset\n",
    "pyplot.rcParams['figure.figsize'] = [10, 5]\n",
    "plot_dataset(X, y)"
   ]
  },
  {
   "cell_type": "markdown",
   "metadata": {},
   "source": [
    "A plot of the dataset is created and we can see that there are many more examples for each class and a helpful legend to indicate the mapping of plot colors to class labels.\n",
    "\n",
    "<b>Next, we can fit a naive classifier model that always predicts the majority class.</b>\n",
    "\n",
    "We can achieve this using the <b><a href='https://scikit-learn.org/stable/modules/generated/sklearn.dummy.DummyClassifier.html'>DummyClassifier</a></b> from scikit-learn and use the ‘<font color='violet'>most_frequent</font>‘ strategy that will always predict the class label that is most observed in the training dataset."
   ]
  },
  {
   "cell_type": "code",
   "execution_count": 15,
   "metadata": {},
   "outputs": [],
   "source": [
    "# define model\n",
    "model = DummyClassifier(strategy='most_frequent')"
   ]
  },
  {
   "cell_type": "markdown",
   "metadata": {},
   "source": [
    "We can then evaluate this model on the training dataset using repeated k-fold cross-validation. It is important that we <b>use stratified cross-validation to ensure that each split of the dataset has the same class distribution as the training dataset. This can be achieved using the <a href='https://scikit-learn.org/stable/modules/generated/sklearn.model_selection.RepeatedStratifiedKFold.html'>RepeatedStratifiedKFold</a> class.</b>\n",
    "\n",
    "The <font color='blue'>evaluate_model()</font> function below implements this and returns a list of scores for each evaluation of the model."
   ]
  },
  {
   "cell_type": "code",
   "execution_count": 16,
   "metadata": {},
   "outputs": [],
   "source": [
    "# evaluate a model using repeated k-fold cross-validation\n",
    "def evaluate_model(X, y, metric):\n",
    "    # define model\n",
    "    model = DummyClassifier(strategy='most_frequent')\n",
    "    # evaluate a model with repeated stratified k fold cv\n",
    "    cv = RepeatedStratifiedKFold(n_splits=10, n_repeats=3, random_state=1)\n",
    "    scores = cross_val_score(model, X, y, scoring=metric, cv=cv, n_jobs=-1)\n",
    "    return scores"
   ]
  },
  {
   "cell_type": "markdown",
   "metadata": {},
   "source": [
    "We can then evaluate the model and calculate the mean of the scores across each evaluation.\n",
    "\n",
    "<b>We would expect that the naive classifier would achieve a classification accuracy of about 99 percent, which we know because that is the distribution of the majority class in the training dataset.</b>"
   ]
  },
  {
   "cell_type": "code",
   "execution_count": 17,
   "metadata": {},
   "outputs": [
    {
     "name": "stdout",
     "output_type": "stream",
     "text": [
      "Accuracy: 99.010%\n"
     ]
    }
   ],
   "source": [
    "# evaluate model\n",
    "scores = evaluate_model(X, y, 'accuracy')\n",
    "\n",
    "# report score\n",
    "print('Accuracy: %.3f%%' % (mean(scores) * 100))"
   ]
  },
  {
   "cell_type": "markdown",
   "metadata": {},
   "source": [
    "Normally, achieving 99 percent classification accuracy would be cause for celebration. <font color='darkgreen'><b>Although, as we have seen, because the class distribution is imbalanced, 99 percent is actually the lowest acceptable accuracy for this dataset and the starting point from which more sophisticated models must improve.</b></font>"
   ]
  }
 ],
 "metadata": {
  "kernelspec": {
   "display_name": "Python 3",
   "language": "python",
   "name": "python3"
  },
  "language_info": {
   "codemirror_mode": {
    "name": "ipython",
    "version": 3
   },
   "file_extension": ".py",
   "mimetype": "text/x-python",
   "name": "python",
   "nbconvert_exporter": "python",
   "pygments_lexer": "ipython3",
   "version": "3.8.7"
  }
 },
 "nbformat": 4,
 "nbformat_minor": 4
}
