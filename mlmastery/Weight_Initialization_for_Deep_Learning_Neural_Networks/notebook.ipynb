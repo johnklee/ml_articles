{
 "cells": [
  {
   "cell_type": "markdown",
   "metadata": {},
   "source": [
    "## <font color='darkblue'>Preface</font>\n",
    "([source](https://machinelearningmastery.com/weight-initialization-for-deep-learning-neural-networks/)) <font size='3ptx'>**Weight initialization is an important design choice when developing deep learning neural network models.**</font>\n",
    "\n",
    "Historically, weight initialization involved using small random numbers, although over the last decade, more specific heuristics have been developed that use information, such as the type of activation function that is being used and the number of inputs to the node.\n",
    "\n",
    "**These more tailored heuristics can result in more effective training of neural network models using the stochastic gradient descent optimization algorithm. In this tutorial, you will discover how to implement weight initialization techniques for deep learning neural networks.**\n",
    "\n",
    "After completing this tutorial, you will know:\n",
    "* Weight initialization is used to define the initial values for the parameters in neural network models prior to training the models on a dataset.\n",
    "* How to implement the xavier and normalized xavier weight initialization heuristics used for nodes that use the Sigmoid or Tanh activation functions.\n",
    "* How to implement the he weight initialization heuristic used for nodes that use the ReLU activation function."
   ]
  },
  {
   "cell_type": "markdown",
   "metadata": {},
   "source": [
    "### <font color='darkgreen'>Tutorial Overview</font>\n",
    "This tutorial is divided into three parts; they are:\n",
    "* <font size='3ptx'>[**Weight Initialization for Neural Networks**](#sect1)</font>\n",
    "* <font size='3ptx'>[**Weight Initialization for Sigmoid and Tanh**](#sect2)</font>\n",
    "    * [Xavier Weight Initialization](#sect2_1)\n",
    "    * [Normalized Xavier Weight Initialization](#sect2_2)\n",
    "* <font size='3ptx'>[**Weight Initialization for ReLU**](#sect3)</font>\n",
    "    * [He Weight Initialization](#sect3_1)"
   ]
  },
  {
   "cell_type": "markdown",
   "metadata": {},
   "source": [
    "<a id='sect1'></a>\n",
    "## <font color='darkblue'>Weight Initialization for Neural Networks</font>\n",
    "**<font color='darkblue'>Weight initialization</font>** is an important consideration in the design of a neural network model. The nodes in neural networks are composed of parameters referred to as weights used to calculate a weighted sum of the inputs.\n",
    "\n",
    "Neural network models are fit using an optimization algorithm called stochastic gradient descent that incrementally changes the network weights to minimize a loss function, hopefully resulting in a set of weights for the mode that is capable of making useful predictions.\n",
    "\n",
    "This optimization algorithm requires a starting point in the space of possible weight values from which to begin the optimization process. **Weight initialization is a procedure to set the weights of a neural network to small random values that define the starting point for the optimization** (<font color='brown'>learning or training</font>) **of the neural network model**.\n",
    "> … training deep models is a sufficiently difficult task that most algorithms are strongly affected by the choice of initialization. The initial point can determine whether the algorithm converges at all, with some initial points being so unstable that the algorithm encounters numerical difficulties and fails altogether.<br/><br/>\n",
    "> [**— Page 301, Deep Learning, 2016.**](https://amzn.to/3qSk3C2)\n",
    "\n",
    "Each time, a neural network is initialized with a different set of weights, resulting in a different starting point for the optimization process, and potentially resulting in a different final set of weights with different performance characteristics.\n",
    "\n",
    "For more on the expectation of different results each time the same algorithm is trained on the same dataset, see the tutorial:\n",
    "* [Why Do I Get Different Results Each Time in Machine Learning?](https://machinelearningmastery.com/different-results-each-time-in-machine-learning/)\n",
    "\n",
    "**We cannot initialize all weights to the value 0.0 as the optimization algorithm results in some asymmetry in the error gradient to begin searching effectively.** For more on why we initialize neural networks with random weights, see the tutorial:\n",
    "* [Why Initialize a Neural Network With Random Weights?](https://machinelearningmastery.com/why-initialize-a-neural-network-with-random-weights/)\n",
    "\n",
    "Historically, weight initialization follows simple heuristics, such as:\n",
    "* Small random values in the range \\[-0.3, 0.3]\n",
    "* Small random values in the range \\[0, 1]\n",
    "* Small random values in the range \\[-1, 1]\n",
    "\n",
    "These heuristics continue to work well in general.\n",
    "> We almost always initialize all the weights in the model to values drawn randomly from a Gaussian or uniform distribution. The choice of Gaussian or uniform distribution does not seem to matter very much, but has not been exhaustively studied. The scale of the initial distribution, however, does have a large effect on both the outcome of the optimization procedure and on the ability of the network to generalize.<br/><br/>\n",
    "> [**— Page 302, Deep Learning, 2016.**](https://amzn.to/3qSk3C2)\n",
    "\n",
    "Nevertheless, **more tailored approaches have been developed over the last decade that have become the defacto standard given they may result in a slightly more effective optimization** (<font color='brown'>model training</font>) **process**.\n",
    "\n",
    "These modern weight initialization techniques are divided based on the type of activation function used in the nodes that are being initialized, such as “[**Sigmoid**](https://en.wikipedia.org/wiki/Sigmoid_function) and [**Tanh**](https://en.wikipedia.org/wiki/Hyperbolic_functions)” and “[**ReLU**](https://en.wikipedia.org/wiki/Rectifier_(neural_networks)).”\n",
    "\n",
    "Next, let’s take a closer look at these modern weight initialization heuristics for nodes with Sigmoid and Tanh activation functions."
   ]
  },
  {
   "cell_type": "markdown",
   "metadata": {},
   "source": [
    "<a id='sect2'></a>\n",
    "## <font color='darkblue'>Weight Initialization for Sigmoid and Tanh</font>\n",
    "The current standard approach for initialization of the weights of neural network layers and nodes that use the Sigmoid or TanH activation function is called “**glorot**” or “**xavier**” initialization.\n",
    "\n",
    "It is named for [Xavier Glorot](https://www.linkedin.com/in/xglorot/), currently a research scientist at Google DeepMind, and was described in the 2010 paper by Xavier and Yoshua Bengio titled “[**Understanding The Difficulty Of Training Deep Feedforward Neural Networks.**](http://proceedings.mlr.press/v9/glorot10a.html)”\n",
    "\n",
    "There are two versions of this weight initialization method, which we will refer to as “xavier” and “normalized xavier.”\n",
    "> Glorot and Bengio proposed to adopt a properly scaled uniform distribution for initialization. This is called “Xavier” initialization \\[…] Its derivation is based on the assumption that the activations are linear. This assumption is invalid for ReLU and PReLU. <br/><br/>\n",
    "> [**— Delving Deep into Rectifiers: Surpassing Human-Level Performance on ImageNet Classification, 2015.**](https://arxiv.org/abs/1502.01852)\n",
    "\n",
    "**Both approaches were derived assuming that the activation function is linear**, nevertheless, they have become the standard for nonlinear activation functions like Sigmoid and Tanh, but not ReLU."
   ]
  },
  {
   "cell_type": "markdown",
   "metadata": {},
   "source": [
    "<a id='sect2_1'></a>\n",
    "### <font color='darkgreen'>Xavier Weight Initialization</font>\n",
    "The xavier initialization method is calculated as a random number with a uniform probability distribution (U) between the range `-(1/sqrt(n))` and `1/sqrt(n)`, where `n` is the number of inputs to the node.\n",
    "* $weight = U [-(1/sqrt(n)), 1/sqrt(n)]$\n",
    "\n",
    "We can implement this directly in Python.\n",
    "\n",
    "The example below assumes 10 inputs to a node, then calculates the lower and upper bounds of the range and calculates 1,000 initial weight values that could be used for the nodes in a layer or a network that uses the sigmoid or tanh activation function.\n",
    "\n",
    "After calculating the weights, the lower and upper bounds are printed as are the min, max, mean, and standard deviation of the generated weights. The complete example is listed below."
   ]
  },
  {
   "cell_type": "code",
   "execution_count": 1,
   "metadata": {},
   "outputs": [
    {
     "name": "stdout",
     "output_type": "stream",
     "text": [
      "-0.31622776601683794 0.31622776601683794\n",
      "-0.31550562952607164 0.3158295818131977\n",
      "0.0029724367624866604 0.18734252245868385\n"
     ]
    }
   ],
   "source": [
    "# example of the xavier weight initialization\n",
    "from math import sqrt\n",
    "from numpy import mean\n",
    "from numpy.random import rand\n",
    "\n",
    "# number of nodes in the previous layer\n",
    "n = 10\n",
    "# calculate the range for the weights\n",
    "lower, upper = -(1.0 / sqrt(n)), (1.0 / sqrt(n))\n",
    "\n",
    "# generate random numbers\n",
    "numbers = rand(1000)\n",
    "\n",
    "# scale to the desired range\n",
    "scaled = lower + numbers * (upper - lower)\n",
    "\n",
    "# summarize\n",
    "print(lower, upper)\n",
    "print(scaled.min(), scaled.max())\n",
    "print(scaled.mean(), scaled.std())"
   ]
  },
  {
   "cell_type": "code",
   "execution_count": 5,
   "metadata": {},
   "outputs": [
    {
     "data": {
      "image/png": "[encoded data removed]",
      "text/plain": [
       "<Figure size 432x288 with 1 Axes>"
      ]
     },
     "metadata": {
      "needs_background": "light"
     },
     "output_type": "display_data"
    }
   ],
   "source": [
    "import matplotlib.pyplot as plt\n",
    "\n",
    "plt.hist(scaled, bins = 20)\n",
    "plt.show()"
   ]
  },
  {
   "cell_type": "markdown",
   "metadata": {},
   "source": [
    "Running the example generates the weights and prints the summary statistics. We can see that the bounds of **the weight values are about -0.316 and 0.316.** These bounds would become wider with fewer inputs and more narrow with more inputs.\n",
    "\n",
    "We can see that the generated weights respect these bounds and that **the mean weight value is close to zero with the standard deviation close to 0.18.**\n",
    "\n",
    "It can also help to see how the spread of the weights changes with the number of inputs.\n",
    "\n",
    "For this, we can **calculate the bounds on the weight initialization with different numbers of inputs from 1 to 100 and plot the result.** The complete example is listed below:"
   ]
  },
  {
   "cell_type": "code",
   "execution_count": 6,
   "metadata": {},
   "outputs": [
    {
     "data": {
      "image/png": "[encoded data removed]",
      "text/plain": [
       "<Figure size 432x288 with 1 Axes>"
      ]
     },
     "metadata": {
      "needs_background": "light"
     },
     "output_type": "display_data"
    }
   ],
   "source": [
    "# plot of the bounds on xavier weight initialization for different numbers of inputs\n",
    "from math import sqrt\n",
    "from matplotlib import pyplot\n",
    "\n",
    "# define the number of inputs from 1 to 100\n",
    "values = [i for i in range(1, 101)]\n",
    "\n",
    "# calculate the range for each number of inputs\n",
    "results = [1.0 / sqrt(n) for n in values]\n",
    "\n",
    "# create an error bar plot centered on 0 for each number of inputs\n",
    "pyplot.errorbar(values, [0.0 for _ in values], yerr=results)\n",
    "pyplot.show()"
   ]
  },
  {
   "cell_type": "markdown",
   "metadata": {},
   "source": [
    "Running the example creates a plot that allows us to compare the range of weights with different numbers of input values. We can see that with **very few inputs, the range is large, such as between -1 and 1 or -0.7 to -7**. We can then see that our range rapidly drops to about 20 weights to near -0.1 and 0.1, where it remains reasonably constant."
   ]
  },
  {
   "cell_type": "markdown",
   "metadata": {},
   "source": [
    "<a id='sect2_2'></a>\n",
    "### <font color='darkgreen'>Normalized Xavier Weight Initialization</font>\n",
    "The normalized xavier initialization method is calculated as a random number with a uniform probability distribution (U) between the range `-(sqrt(6)/sqrt(n + m))` and `sqrt(6)/sqrt(n + m)`, where `n` us the number of inputs to the node (<font color='brown'>e.g. number of nodes in the previous layer</font>) and `m` is the number of outputs from the layer (<font color='brown'>e.g. number of nodes in the current layer</font>).\n",
    "* $weight = U [-(sqrt(6)/sqrt(n + m)), sqrt(6)/sqrt(n + m)]$\n",
    "\n",
    "We can implement this directly in Python as we did in the previous section and summarize the statistical summary of 1,000 generated weights. The complete example is listed below."
   ]
  },
  {
   "cell_type": "code",
   "execution_count": 7,
   "metadata": {},
   "outputs": [
    {
     "name": "stdout",
     "output_type": "stream",
     "text": [
      "-0.44721359549995787 0.44721359549995787\n",
      "-0.44612061747515624 0.4465036926421888\n",
      "0.0051130845760912645 0.2542398974273523\n"
     ]
    }
   ],
   "source": [
    "# example of the normalized xavier weight initialization\n",
    "from math import sqrt\n",
    "from numpy import mean\n",
    "from numpy.random import rand\n",
    "\n",
    "# number of nodes in the previous layer\n",
    "n = 10\n",
    "\n",
    "# number of nodes in the next layer\n",
    "m = 20\n",
    "\n",
    "# calculate the range for the weights\n",
    "lower, upper = -(sqrt(6.0) / sqrt(n + m)), (sqrt(6.0) / sqrt(n + m))\n",
    "\n",
    "# generate random numbers\n",
    "numbers = rand(1000)\n",
    "\n",
    "# scale to the desired range\n",
    "scaled = lower + numbers * (upper - lower)\n",
    "\n",
    "# summarize\n",
    "print(lower, upper)\n",
    "print(scaled.min(), scaled.max())\n",
    "print(scaled.mean(), scaled.std())"
   ]
  },
  {
   "cell_type": "code",
   "execution_count": 8,
   "metadata": {},
   "outputs": [
    {
     "data": {
      "image/png": "[encoded data removed]",
      "text/plain": [
       "<Figure size 432x288 with 1 Axes>"
      ]
     },
     "metadata": {
      "needs_background": "light"
     },
     "output_type": "display_data"
    }
   ],
   "source": [
    "plt.hist(scaled, bins = 20)\n",
    "plt.show()"
   ]
  },
  {
   "cell_type": "markdown",
   "metadata": {},
   "source": [
    "Running the example generates the weights and prints the summary statistics.\n",
    "\n",
    "We can see that the bounds of the weight values are about -0.447 and 0.447. **These bounds would become wider with fewer inputs and more narrow with more inputs.**\n",
    "\n",
    "**It can also help to see how the spread of the weights changes with the number of inputs.** For this, we can calculate the bounds on the weight initialization with different numbers of inputs from 1 to 100 and a fixed number of 10 outputs and plot the result.\n",
    "\n",
    "The complete example is listed below."
   ]
  },
  {
   "cell_type": "code",
   "execution_count": 9,
   "metadata": {},
   "outputs": [
    {
     "data": {
      "image/png": "[encoded data removed]",
      "text/plain": [
       "<Figure size 432x288 with 1 Axes>"
      ]
     },
     "metadata": {
      "needs_background": "light"
     },
     "output_type": "display_data"
    }
   ],
   "source": [
    "# plot of the bounds of normalized xavier weight initialization for different numbers of inputs\n",
    "from math import sqrt\n",
    "from matplotlib import pyplot\n",
    "\n",
    "# define the number of inputs from 1 to 100\n",
    "values = [i for i in range(1, 101)]\n",
    "\n",
    "# define the number of outputs\n",
    "m = 10\n",
    "\n",
    "# calculate the range for each number of inputs\n",
    "results = [1.0 / sqrt(n + m) for n in values]\n",
    "\n",
    "# create an error bar plot centered on 0 for each number of inputs\n",
    "pyplot.errorbar(values, [0.0 for _ in values], yerr=results)\n",
    "pyplot.show()"
   ]
  },
  {
   "cell_type": "markdown",
   "metadata": {},
   "source": [
    "Running the example creates a plot that allows us to compare the range of weights with different numbers of input values. **Compared to the non-normalized version in the previous section, the range is initially smaller, although transitions to the compact range at a similar rate.**"
   ]
  },
  {
   "cell_type": "markdown",
   "metadata": {},
   "source": [
    "<a id='sect3'></a>\n",
    "## <font color='darkblue'>Weight Initialization for ReLU</font>\n",
    "**The “xavier” weight initialization was found to have problems when used to initialize networks that use the rectified linear** ([ReLU](https://machinelearningmastery.com/rectified-linear-activation-function-for-deep-learning-neural-networks/)) **activation function**.\n",
    "\n",
    "As such, a modified version of the approach was developed specifically for nodes and layers that use ReLU activation, popular in the hidden layers of most multilayer Perceptron and convolutional neural network models.\n",
    "\n",
    "The current standard approach for initialization of the weights of neural network layers and nodes that use the rectified linear (ReLU) activation function is called “**<font color='darkblue'>he</font>**” initialization.\n",
    "\n",
    "It is named for [Kaiming He](https://www.linkedin.com/in/kaiming-he-90664838/), currently a research scientist at Facebook, and was described in the 2015 paper by Kaiming He, et al. titled “[**Delving Deep into Rectifiers: Surpassing Human-Level Performance on ImageNet Classification.**](https://arxiv.org/abs/1502.01852)”"
   ]
  },
  {
   "cell_type": "markdown",
   "metadata": {},
   "source": [
    "<a id='sect3_1'></a>\n",
    "### <font color='darkgreen'>He Weight Initialization</font>\n",
    "The he initialization method is calculated as a random number with a Gaussian probability distribution (G) with a mean of 0.0 and a standard deviation of `sqrt(2/n)`, where `n` is the number of inputs to the node.\n",
    "* $weight = G (0.0, sqrt(2/n))$\n",
    "\n",
    "We can implement this directly in Python.\n",
    "\n",
    "The example below assumes 10 inputs to a node, then calculates the standard deviation of the Gaussian distribution and calculates 1,000 initial weight values that could be used for the nodes in a layer or a network that uses the ReLU activation function.\n",
    "\n",
    "After calculating the weights, the calculated standard deviation is printed as are the min, max, mean, and standard deviation of the generated weights. The complete example is listed below."
   ]
  },
  {
   "cell_type": "code",
   "execution_count": 12,
   "metadata": {},
   "outputs": [
    {
     "name": "stdout",
     "output_type": "stream",
     "text": [
      "std=0.4472135954999579\n",
      "scaled with min=-1.5281244996915078, max=1.4774721631440522\n",
      "scaled with mean=-0.01845565553195259, std=0.4438195702725045\n"
     ]
    }
   ],
   "source": [
    "# example of the he weight initialization\n",
    "from math import sqrt\n",
    "from numpy.random import randn\n",
    "\n",
    "# number of nodes in the previous layer\n",
    "n = 10\n",
    "\n",
    "# calculate the range for the weights\n",
    "std = sqrt(2.0 / n)\n",
    "\n",
    "# generate random numbers\n",
    "numbers = randn(1000)\n",
    "\n",
    "# scale to the desired range\n",
    "scaled = numbers * std\n",
    "\n",
    "# summarize\n",
    "print(f'std={std}')\n",
    "print(f'scaled with min={scaled.min()}, max={scaled.max()}')\n",
    "print(f'scaled with mean={scaled.mean()}, std={scaled.std()}')"
   ]
  },
  {
   "cell_type": "code",
   "execution_count": 11,
   "metadata": {},
   "outputs": [
    {
     "data": {
      "image/png": "[encoded data removed]",
      "text/plain": [
       "<Figure size 432x288 with 1 Axes>"
      ]
     },
     "metadata": {
      "needs_background": "light"
     },
     "output_type": "display_data"
    }
   ],
   "source": [
    "plt.hist(scaled, bins = 20)\n",
    "plt.show()"
   ]
  },
  {
   "cell_type": "markdown",
   "metadata": {},
   "source": [
    "We can see that the bound of the calculated standard deviation of the weights is about 0.447. **This standard deviation would become larger with fewer inputs and smaller with more inputs.**\n",
    "\n",
    "We can see that the range of the weights is about -1.528 to 1.47 which is close to the theoretical range of about -1.788 and 1.788, which is [four times the standard deviation, capturing 99.7% of observations in the Gaussian distribution](https://en.wikipedia.org/wiki/68%E2%80%9395%E2%80%9399.7_rule). We can also see that the mean and standard deviation of the generated weights are close to the prescribed 0.0 and 0.447 respectively.\n",
    "\n",
    "It can also help to see how the spread of the weights changes with the number of inputs.\n",
    "\n",
    "For this, we can calculate the bounds on the weight initialization with different numbers of inputs from 1 to 100 and plot the result. The complete example is listed below."
   ]
  },
  {
   "cell_type": "code",
   "execution_count": 14,
   "metadata": {},
   "outputs": [
    {
     "data": {
      "image/png": "[encoded data removed]",
      "text/plain": [
       "<Figure size 432x288 with 1 Axes>"
      ]
     },
     "metadata": {
      "needs_background": "light"
     },
     "output_type": "display_data"
    }
   ],
   "source": [
    "# plot of the bounds on he weight initialization for different numbers of inputs\n",
    "from math import sqrt\n",
    "from matplotlib import pyplot\n",
    "\n",
    "# define the number of inputs from 1 to 100\n",
    "values = [i for i in range(1, 101)]\n",
    "\n",
    "# calculate the range for each number of inputs\n",
    "results = [sqrt(2.0 / n) for n in values]\n",
    "\n",
    "# create an error bar plot centered on 0 for each number of inputs\n",
    "pyplot.errorbar(values, [0.0 for _ in values], yerr=results)\n",
    "pyplot.show()"
   ]
  },
  {
   "cell_type": "markdown",
   "metadata": {},
   "source": [
    "We can see that with very few inputs, the range is large, near -1.5 and 1.5 or -1.0 to -1.0. We can then see that our range rapidly drops to about 20 weights to near -0.1 and 0.1, where it remains reasonably constant."
   ]
  },
  {
   "cell_type": "markdown",
   "metadata": {},
   "source": [
    "## <font color='darkblue'>Summary</font>\n",
    "In this tutorial, you discovered how to implement weight initialization techniques for deep learning neural networks.\n",
    "\n",
    "Specifically, you learned:\n",
    "* Weight initialization is used to define the initial values for the parameters in neural network models prior to training the models on a dataset.\n",
    "* How to implement the xavier and normalized xavier weight initialization heuristics used for nodes that use the Sigmoid or Tanh activation functions.\n",
    "* How to implement the he weight initialization heuristic used for nodes that use the ReLU activation function."
   ]
  }
 ],
 "metadata": {
  "kernelspec": {
   "display_name": "Python 3",
   "language": "python",
   "name": "python3"
  },
  "language_info": {
   "codemirror_mode": {
    "name": "ipython",
    "version": 3
   },
   "file_extension": ".py",
   "mimetype": "text/x-python",
   "name": "python",
   "nbconvert_exporter": "python",
   "pygments_lexer": "ipython3",
   "version": "3.8.7"
  }
 },
 "nbformat": 4,
 "nbformat_minor": 4
}
