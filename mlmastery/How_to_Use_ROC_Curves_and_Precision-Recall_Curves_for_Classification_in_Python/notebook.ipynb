{
 "cells": [
  {
   "cell_type": "markdown",
   "metadata": {},
   "source": [
    "## <font color='darkblue'>Preface</font>\n",
    "([article source](https://machinelearningmastery.com/roc-curves-and-precision-recall-curves-for-classification-in-python/)) It can be **more flexible to predict probabilities of an observation belonging to each class in a classification problem rather than predicting classes directly.**\n",
    "\n",
    "This flexibility comes from the way that <font color='darkred'>**probabilities may be interpreted using different thresholds that allow the operator of the model to trade-off concerns in the errors made by the model, such as the number of false positives compared to the number of false negatives.**</font> This is required when using models where the cost of one error outweighs the cost of other types of errors.\n",
    "\n",
    "Two diagnostic tools that help in the interpretation of probabilistic forecast for binary (two-class) classification predictive modeling problems are [**ROC Curves**](https://en.wikipedia.org/wiki/Receiver_operating_characteristic) and [**Precision-Recall curves**](http://mlwiki.org/index.php/Precision_and_Recall#Precision.2FRecall_Curves). **In this tutorial, you will discover ROC Curves, Precision-Recall Curves, and when to use each to interpret the prediction of probabilities for binary classification problems.**\n",
    "\n",
    "After completing this tutorial, you will know:\n",
    "* **ROC Curves** summarize the trade-off between the true positive rate and false positive rate for a predictive model using different probability thresholds.\n",
    "* **Precision-Recall curves** summarize the trade-off between the true positive rate and the positive predictive value for a predictive model using different probability thresholds.\n",
    "* **ROC curves are appropriate when the observations are balanced between each class, whereas precision-recall curves are appropriate for imbalanced datasets.**\n",
    "\n",
    "\n",
    "### <font color='darkgreen'>Tutorial Overview</font>\n",
    "This tutorial is divided into 6 parts; they are:\n",
    "1. <font size='3ptx'>[**Predicting Probabilities**](#sect1)</font>\n",
    "2. <font size='3ptx'>[**What Are ROC Curves?**](#sect2)</font>\n",
    "3. <font size='3ptx'>[**ROC Curves and AUC in Python**](#sect3)</font>\n",
    "4. <font size='3ptx'>[**What Are Precision-Recall Curves?**](#sect4)</font>\n",
    "5. <font size='3ptx'>[**Precision-Recall Curves and AUC in Python**](#sect5)</font>\n",
    "6. <font size='3ptx'>[**When to Use ROC vs. Precision-Recall Curves?**](#sect6)</font>"
   ]
  },
  {
   "cell_type": "markdown",
   "metadata": {},
   "source": [
    "<a id='sect1'></a>\n",
    "## <font color='darkblue'>Predicting Probabilities</font>\n",
    "In a classification problem, we may decide to predict the class values directly.\n",
    "\n",
    "Alternately, **it can be more flexible to predict the probabilities for each class instead. The reason for this is to provide the capability to choose and even calibrate the threshold for how to interpret the predicted probabilities.**\n",
    "\n",
    "For example, a default might be to use a threshold of 0.5, meaning that a probability in [0.0, 0.49] is a negative outcome (0) and a probability in [0.5, 1.0] is a positive outcome (1). This threshold can be adjusted to tune the behavior of the model for a specific problem. An example would be to reduce more of one or another type of error.\n",
    "\n",
    "When making a prediction for a binary or two-class classification problem, there are two types of errors that we could make:\n",
    "* **False Positive**. Predict an event when there was no event.\n",
    "* **False Negative**. Predict no event when in fact there was an event.\n",
    "\n",
    "**By predicting probabilities and calibrating a threshold, a balance of these two concerns can be chosen by the operator of the model.**\n",
    "\n",
    "For example, in a smog prediction system, we may be far more concerned with having low false negatives than low false positives. A false negative would mean not warning about a smog day when in fact it is a high smog day, leading to health issues in the public that are unable to take precautions. A false positive means the public would take precautionary measures when they didn’t need to.\n",
    "\n",
    "A common way to compare models that predict probabilities for two-class problems is to use a ROC curve."
   ]
  },
  {
   "cell_type": "markdown",
   "metadata": {},
   "source": [
    "<a id='sect2'></a>\n",
    "## <font color='darkblue'>What Are ROC Curves?</font>\n",
    "A useful tool when predicting the probability of a binary outcome is the [**Receiver Operating Characteristic curve**](https://en.wikipedia.org/wiki/Receiver_operating_characteristic), or ROC curve.\n",
    "![1](images/1.png)\n",
    "<br/>\n",
    "\n",
    "It is **a plot of the false positive rate** (<font color='brown'>x-axis</font>) **versus the true positive rate** (<font color='brown'>y-axis</font>) **for a number of different candidate threshold values between 0.0 and 1.0. Put another way, it plots the false alarm rate versus the hit rate**.\n",
    "\n",
    "The true positive rate is calculated as the number of true positives divided by the sum of the number of true positives and the number of false negatives. It describes how good the model is at predicting the positive class when the actual outcome is positive.\n",
    "> True Positive Rate = True Positives / (True Positives + False Negatives)\n",
    "\n",
    "The true positive rate is also referred to as <font color='darkblue'>**sensitivity**</font>:\n",
    "> Sensitivity = True Positives / (True Positives + False Negatives)\n",
    "\n",
    "The false positive rate is calculated as the number of false positives divided by the sum of the number of false positives and the number of true negatives. It is also called the <font color='darkblue'>**false alarm rate**</font> as it summarizes how often a positive class is predicted when the actual outcome is negative.\n",
    "> False Positive Rate = False Positives / (False Positives + True Negatives)\n",
    "\n",
    "\n",
    "The false positive rate is also referred to as the inverted specificity where specificity is the total number of true negatives divided by the sum of the number of true negatives and false positives.\n",
    "> Specificity = True Negatives / (True Negatives + False Positives)\n",
    "\n",
    "Where:\n",
    "> False Positive Rate = 1 - Specificity\n",
    "\n",
    "The ROC curve is a useful tool for a few reasons:\n",
    "* The curves of different models can be compared directly in general or for different thresholds.\n",
    "* The area under the curve (AUC) can be used as a summary of the model skill.\n",
    "\n",
    "The shape of the curve contains a lot of information, including what we might care about most for a problem, the expected false positive rate, and the false negative rate. To make this clear:\n",
    "* Smaller values on the x-axis of the plot indicate lower false positives and higher true negatives.\n",
    "* Larger values on the y-axis of the plot indicate higher true positives and lower false negatives.\n",
    "\n",
    "If you are confused, remember, when we predict a binary outcome, it is either a correct prediction (<font color='brown'>true positive</font>) or not (<font color='brown'>false positive</font>). There is a tension between these options, the same with true negative and false negative.\n",
    "\n",
    "A skilful model will assign a higher probability to a randomly chosen real positive occurrence than a negative occurrence on average. This is what we mean when we say that the model has skill. **Generally, skilful models are represented by curves that bow up to the top left of the plot.**\n",
    "\n",
    "A no-skill classifier is one that cannot discriminate between the classes and would predict a random class or a constant class in all cases. A model with no skill is represented at the point (0.5, 0.5). A model with no skill at each threshold is represented by a diagonal line from the bottom left of the plot to the top right and has an AUC of 0.5.\n",
    "\n",
    "A model with perfect skill is represented at a point (0,1). A model with perfect skill is represented by a line that travels from the bottom left of the plot to the top left and then across the top to the top right.\n",
    "\n",
    "**An operator may plot the ROC curve for the final model and choose a threshold that gives a desirable balance between the false positives and false negatives.**"
   ]
  },
  {
   "cell_type": "markdown",
   "metadata": {},
   "source": [
    "<a id='sect3'></a>\n",
    "## <font color='darkblue'>ROC Curves and AUC in Python</font>\n",
    "We can plot a ROC curve for a model in Python using the [roc_curve()](https://scikit-learn.org/stable/modules/generated/sklearn.metrics.roc_curve.html) scikit-learn function. The function takes both the true outcomes (0,1) from the test set and the predicted probabilities for the 1 class. The function returns the false positive rates for each threshold, true positive rates for each threshold and thresholds. First of all, let's prepare fake dataset:"
   ]
  },
  {
   "cell_type": "code",
   "execution_count": 6,
   "metadata": {},
   "outputs": [],
   "source": [
    "from sklearn.datasets import make_classification\n",
    "from sklearn.model_selection import train_test_split\n",
    "\n",
    "# generate 2 class dataset\n",
    "X, y = make_classification(n_samples=5000, n_classes=2, random_state=1)\n",
    "# split into train/test sets\n",
    "trainX, testX, trainy, testy = train_test_split(X, y, test_size=0.2, random_state=2)"
   ]
  },
  {
   "cell_type": "code",
   "execution_count": 7,
   "metadata": {},
   "outputs": [
    {
     "data": {
      "text/plain": [
       "(4000, 20)"
      ]
     },
     "execution_count": 7,
     "metadata": {},
     "output_type": "execute_result"
    }
   ],
   "source": [
    "trainX.shape"
   ]
  },
  {
   "cell_type": "markdown",
   "metadata": {},
   "source": [
    "Then we define a Logistic model and start training:"
   ]
  },
  {
   "cell_type": "code",
   "execution_count": 8,
   "metadata": {},
   "outputs": [
    {
     "data": {
      "text/plain": [
       "LogisticRegression()"
      ]
     },
     "execution_count": 8,
     "metadata": {},
     "output_type": "execute_result"
    }
   ],
   "source": [
    "from sklearn.linear_model import LogisticRegression\n",
    "\n",
    "model = LogisticRegression(solver='lbfgs')\n",
    "model.fit(trainX, trainy)"
   ]
  },
  {
   "cell_type": "markdown",
   "metadata": {},
   "source": [
    "Then we need to calculate some data used for ROC curve:"
   ]
  },
  {
   "cell_type": "code",
   "execution_count": 10,
   "metadata": {},
   "outputs": [
    {
     "name": "stdout",
     "output_type": "stream",
     "text": [
      "No Skill: ROC AUC=0.500\n",
      "Logistic: ROC AUC=0.929\n"
     ]
    }
   ],
   "source": [
    "from sklearn.metrics import roc_curve\n",
    "from sklearn.metrics import roc_auc_score\n",
    "\n",
    "# generate a no skill prediction (majority class)\n",
    "ns_probs = [0 for _ in range(len(testy))]\n",
    "\n",
    "# predict probabilities\n",
    "lr_probs = model.predict_proba(testX)\n",
    "\n",
    "# keep probabilities for the positive outcome only\n",
    "lr_probs = lr_probs[:, 1]\n",
    "\n",
    "# calculate scores\n",
    "ns_auc = roc_auc_score(testy, ns_probs)\n",
    "lr_auc = roc_auc_score(testy, lr_probs)\n",
    "\n",
    "# summarize scores\n",
    "print('No Skill: ROC AUC=%.3f' % (ns_auc))\n",
    "print('Logistic: ROC AUC=%.3f' % (lr_auc))"
   ]
  },
  {
   "cell_type": "markdown",
   "metadata": {},
   "source": [
    "Finally, let's draw the ROC curve:"
   ]
  },
  {
   "cell_type": "code",
   "execution_count": 14,
   "metadata": {},
   "outputs": [
    {
     "data": {
      "image/png": "[encoded data removed]",
      "text/plain": [
       "<Figure size 720x432 with 1 Axes>"
      ]
     },
     "metadata": {
      "needs_background": "light"
     },
     "output_type": "display_data"
    }
   ],
   "source": [
    "from matplotlib import pyplot\n",
    "\n",
    "pyplot.rcParams['figure.figsize'] = [10, 6]\n",
    "\n",
    "# calculate roc curves\n",
    "ns_fpr, ns_tpr, _ = roc_curve(testy, ns_probs)\n",
    "lr_fpr, lr_tpr, _ = roc_curve(testy, lr_probs)\n",
    "# plot the roc curve for the model\n",
    "pyplot.plot(ns_fpr, ns_tpr, linestyle='--', label='No Skill')\n",
    "pyplot.plot(lr_fpr, lr_tpr, marker='.', label='Logistic')\n",
    "# axis labels\n",
    "pyplot.xlabel('False Positive Rate')\n",
    "pyplot.ylabel('True Positive Rate')\n",
    "# show the legend\n",
    "pyplot.legend()\n",
    "# show the plot\n",
    "pyplot.show();"
   ]
  },
  {
   "cell_type": "markdown",
   "metadata": {},
   "source": [
    "<a id='sect4'></a>\n",
    "## <font color='darkblue'>What Are Precision-Recall Curves?</font>\n",
    "There are many ways to evaluate the skill of a prediction model. An approach in the related field of [**information retrieval**](https://en.wikipedia.org/wiki/Information_retrieval) (<font color='brown'>finding documents based on queries</font>) measures [**precision and recall**](https://en.wikipedia.org/wiki/Precision_and_recall).\n",
    "\n",
    "These measures are also useful in applied machine learning for evaluating binary classification models.\n",
    "\n",
    "**Precision is a ratio of the number of true positives divided by the sum of the true positives and false positives**. It describes how good a model is at predicting the positive class. Precision is referred to as the **<font color='darkblue'>positive predictive value</font>**.\n",
    "> Precision = True Positives / (True Positives + False Positives)\n",
    "\n",
    "**Recall is calculated as the ratio of the number of true positives divided by the sum of the true positives and the false negatives**. Recall is the same as <font color='darkblue'>**sensitivity**</font>.\n",
    "> Recall = True Positives / (True Positives + False Negatives)\n",
    "\n",
    "**Reviewing both precision and recall is useful in cases where there is an imbalance in the observations between the two classes.** Specifically, there are many examples of no event (<font color='brown'>class 0</font>) and only a few examples of an event (<font color='brown'>class 1</font>).\n",
    "\n",
    "The reason for this is that typically the large number of class 0 examples means we are less interested in the skill of the model at predicting class 0 correctly, e.g. high true negatives. **Key to the calculation of precision and recall is that the calculations do not make use of the true negatives. It is only concerned with the correct prediction of the minority class, class 1.**\n",
    "\n",
    "A precision-recall curve is a plot of the precision (<font color='brown'>y-axis</font>) and the recall (<font color='brown'>x-axis</font>) for different thresholds, much like the ROC curve:\n",
    "![2](images/2.png)\n",
    "<br/>\n",
    "A no-skill classifier is one that cannot discriminate between the classes and would predict a random class or a constant class in all cases. The no-skill line changes based on the distribution of the positive to negative classes. It is a horizontal line with the value of the ratio of positive cases in the dataset. For a balanced dataset, this is 0.5.\n",
    "> While the baseline is fixed with ROC, the baseline of [precision-recall curve] is determined by the ratio of positives (P) and negatives (N) as y = P / (P + N). For instance, we have y = 0.5 for a balanced class distribution <br/><br/>\n",
    "> **[- The Precision-Recall Plot Is More Informative than the ROC Plot When Evaluating Binary Classifiers on Imbalanced Datasets, 2015.](https://journals.plos.org/plosone/article?id=10.1371/journal.pone.0118432)**\n",
    "\n",
    "A model with perfect skill is depicted as a point at (1,1). A skilful model is represented by a curve that bows towards (1,1) above the flat line of no skill. There are also composite scores that attempt to summarize the precision and recall; two examples include:\n",
    "* **F-Measure or F1 score:** that calculates the harmonic mean of the precision and recall (harmonic mean because the precision and recall are rates).\n",
    "* **Area Under Curve:** like the AUC, summarizes the integral or an approximation of the area under the precision-recall curve.\n",
    "\n",
    "In terms of model selection, F-Measure summarizes model skill for a specific probability threshold (<font color='brown'>e.g. 0.5</font>), whereas the area under curve summarize the skill of a model across thresholds, like ROC AUC.\n",
    "\n",
    "This makes precision-recall and a plot of precision vs. recall and summary measures useful tools for binary classification problems that have an imbalance in the observations for each class."
   ]
  },
  {
   "cell_type": "markdown",
   "metadata": {},
   "source": [
    "<a id='sect5'></a>\n",
    "## <font color='darkblue'>Precision-Recall Curves in Python</font>\n",
    "Precision and recall can be calculated in scikit-learn.\n",
    "\n",
    "The precision and recall can be calculated for thresholds using the [precision_recall_curve()](https://scikit-learn.org/stable/modules/generated/sklearn.metrics.precision_recall_curve.html) function that takes the true output values and the probabilities for the positive class as output and returns the precision, recall and threshold values."
   ]
  },
  {
   "cell_type": "code",
   "execution_count": 16,
   "metadata": {},
   "outputs": [
    {
     "name": "stdout",
     "output_type": "stream",
     "text": [
      "Logistic: f1=0.851 auc=0.929\n"
     ]
    }
   ],
   "source": [
    "from sklearn.metrics import precision_recall_curve, f1_score, auc\n",
    "\n",
    "yhat = model.predict(testX)\n",
    "lr_precision, lr_recall, _ = precision_recall_curve(testy, lr_probs)\n",
    "lr_f1, lr_auc = f1_score(testy, yhat), auc(lr_recall, lr_precision)\n",
    "\n",
    "# summarize scores\n",
    "print('Logistic: f1=%.3f auc=%.3f' % (lr_f1, lr_auc))"
   ]
  },
  {
   "cell_type": "markdown",
   "metadata": {},
   "source": [
    "Now let's draw the PR curve:"
   ]
  },
  {
   "cell_type": "code",
   "execution_count": 17,
   "metadata": {},
   "outputs": [
    {
     "data": {
      "image/png": "[encoded data removed]",
      "text/plain": [
       "<Figure size 720x432 with 1 Axes>"
      ]
     },
     "metadata": {
      "needs_background": "light"
     },
     "output_type": "display_data"
    }
   ],
   "source": [
    "# plot the precision-recall curves\n",
    "no_skill = len(testy[testy==1]) / len(testy)\n",
    "pyplot.plot([0, 1], [no_skill, no_skill], linestyle='--', label='No Skill')\n",
    "pyplot.plot(lr_recall, lr_precision, marker='.', label='Logistic')\n",
    "\n",
    "# axis labels\n",
    "pyplot.xlabel('Recall')\n",
    "pyplot.ylabel('Precision')\n",
    "\n",
    "# show the legend\n",
    "pyplot.legend()\n",
    "\n",
    "# show the plot\n",
    "pyplot.show()"
   ]
  },
  {
   "cell_type": "markdown",
   "metadata": {},
   "source": [
    "<a id='sect6'></a>\n",
    "## <font color='darkblue'>When to Use ROC vs. Precision-Recall Curves?</font>\n",
    "Generally, the use of ROC curves and precision-recall curves are as follows:\n",
    "* ROC curves should be used when there are roughly equal numbers of observations for each class.\n",
    "* Precision-Recall curves should be used when there is a moderate to large class imbalance.\n",
    "\n",
    "The reason for this recommendation is that **<font color='darkred'>ROC curves present an optimistic picture of the model on datasets with a class imbalance.</font>**\n",
    "> However, ROC curves can present an overly optimistic view of an algorithm’s performance if there is a large skew in the class distribution. […] Precision-Recall (PR) curves, often used in Information Retrieval , have been cited as an alternative to ROC curves for tasks with a large skew in the class distribution. <br/><br/>\n",
    "> [— The Relationship Between Precision-Recall and ROC Curves, 2006.](https://dl.acm.org/citation.cfm?id=1143874)\n",
    "\n",
    "Some go further and suggest that using **a ROC curve with an imbalanced dataset might be deceptive and lead to incorrect interpretations of the model skill.**\n",
    "> the visual interpretability of ROC plots in the context of imbalanced datasets can be deceptive with respect to conclusions about the reliability of classification performance, owing to an intuitive but wrong interpretation of specificity. [Precision-recall curve] plots, on the other hand, can provide the viewer with an accurate prediction of future classification performance due to the fact that they evaluate the fraction of true positives among positive predictions <br/><br/>\n",
    "> [— The Precision-Recall Plot Is More Informative than the ROC Plot When Evaluating Binary Classifiers on Imbalanced Datasets, 2015.](https://www.ncbi.nlm.nih.gov/pmc/articles/PMC4349800/)\n",
    "\n",
    "The main reason for this optimistic picture is because of the use of true negatives in the False Positive Rate in the ROC Curve and the careful avoidance of this rate in the Precision-Recall curve.\n",
    "> If the proportion of positive to negative instances changes in a test set, the ROC curves will not change. Metrics such as accuracy, precision, lift and F scores use values from both columns of the confusion matrix. As a class distribution changes these measures will change as well, even if the fundamental classifier performance does not. ROC graphs are based upon TP rate and FP rate, in which each dimension is a strict columnar ratio, so do not depend on class distributions. <br/><br/>\n",
    "> [— ROC Graphs: Notes and Practical Considerations for Data Mining Researchers, 2003.](http://www.blogspot.udec.ugto.saedsayad.com/docs/ROC101.pdf)\n",
    "\n",
    "We can make this concrete with a short example.\n",
    "\n",
    "Below is the same ROC Curve example with a modified problem where there is **a ratio of about 100:1 ratio of class=0 to class=1 observations** (<font color='brown'>specifically Class0=985, Class1=15</font>)."
   ]
  },
  {
   "cell_type": "code",
   "execution_count": 18,
   "metadata": {},
   "outputs": [],
   "source": [
    "# generate 2 class dataset\n",
    "X, y = make_classification(n_samples=1000, n_classes=2, weights=[0.99, 0.01], random_state=1)\n",
    "\n",
    "# split into train/test sets\n",
    "trainX, testX, trainy, testy = train_test_split(X, y, test_size=0.5, random_state=2)\n",
    "\n",
    "# generate a no skill prediction (majority class)\n",
    "ns_probs = [0 for _ in range(len(testy))]"
   ]
  },
  {
   "cell_type": "markdown",
   "metadata": {},
   "source": [
    "Then let's train the model and draw the ROC curve:"
   ]
  },
  {
   "cell_type": "code",
   "execution_count": 19,
   "metadata": {},
   "outputs": [
    {
     "name": "stdout",
     "output_type": "stream",
     "text": [
      "No Skill: ROC AUC=0.500\n",
      "Logistic: ROC AUC=0.716\n"
     ]
    },
    {
     "data": {
      "image/png": "[encoded data removed]",
      "text/plain": [
       "<Figure size 720x432 with 1 Axes>"
      ]
     },
     "metadata": {
      "needs_background": "light"
     },
     "output_type": "display_data"
    }
   ],
   "source": [
    "# fit a model\n",
    "model = LogisticRegression(solver='lbfgs')\n",
    "model.fit(trainX, trainy)\n",
    "# predict probabilities\n",
    "lr_probs = model.predict_proba(testX)\n",
    "# keep probabilities for the positive outcome only\n",
    "lr_probs = lr_probs[:, 1]\n",
    "# calculate scores\n",
    "ns_auc = roc_auc_score(testy, ns_probs)\n",
    "lr_auc = roc_auc_score(testy, lr_probs)\n",
    "# summarize scores\n",
    "print('No Skill: ROC AUC=%.3f' % (ns_auc))\n",
    "print('Logistic: ROC AUC=%.3f' % (lr_auc))\n",
    "# calculate roc curves\n",
    "ns_fpr, ns_tpr, _ = roc_curve(testy, ns_probs)\n",
    "lr_fpr, lr_tpr, _ = roc_curve(testy, lr_probs)\n",
    "# plot the roc curve for the model\n",
    "pyplot.plot(ns_fpr, ns_tpr, linestyle='--', label='No Skill')\n",
    "pyplot.plot(lr_fpr, lr_tpr, marker='.', label='Logistic')\n",
    "# axis labels\n",
    "pyplot.xlabel('False Positive Rate')\n",
    "pyplot.ylabel('True Positive Rate')\n",
    "# show the legend\n",
    "pyplot.legend()\n",
    "# show the plot\n",
    "pyplot.show()"
   ]
  },
  {
   "cell_type": "markdown",
   "metadata": {},
   "source": [
    "Indeed, it has skill, <font color='darkred'>**but all of that skill is measured as making correct true negative predictions and there are a lot of negative predictions to make**</font>. If you review the predictions, you will see that the model predicts the majority class (class 0) in all cases on the test set. The score is very misleading."
   ]
  },
  {
   "cell_type": "code",
   "execution_count": 20,
   "metadata": {},
   "outputs": [
    {
     "name": "stdout",
     "output_type": "stream",
     "text": [
      "              precision    recall  f1-score   support\n",
      "\n",
      "           0       0.98      1.00      0.99       489\n",
      "           1       0.00      0.00      0.00        11\n",
      "\n",
      "    accuracy                           0.98       500\n",
      "   macro avg       0.49      0.50      0.49       500\n",
      "weighted avg       0.96      0.98      0.97       500\n",
      "\n"
     ]
    },
    {
     "name": "stderr",
     "output_type": "stream",
     "text": [
      "c:\\users\\johnlee\\appdata\\local\\programs\\python\\python36\\lib\\site-packages\\sklearn\\metrics\\_classification.py:1221: UndefinedMetricWarning: Precision and F-score are ill-defined and being set to 0.0 in labels with no predicted samples. Use `zero_division` parameter to control this behavior.\n",
      "  _warn_prf(average, modifier, msg_start, len(result))\n"
     ]
    }
   ],
   "source": [
    "from sklearn.metrics import classification_report\n",
    "\n",
    "pred_y = lr_probs > 0.5\n",
    "print(classification_report(testy, pred_y))"
   ]
  },
  {
   "cell_type": "markdown",
   "metadata": {},
   "source": [
    "We can also repeat the test of the same model on the same dataset and calculate a precision-recall curve:"
   ]
  },
  {
   "cell_type": "code",
   "execution_count": 21,
   "metadata": {},
   "outputs": [
    {
     "name": "stdout",
     "output_type": "stream",
     "text": [
      "Logistic: f1=0.000 auc=0.054\n"
     ]
    },
    {
     "data": {
      "image/png": "[encoded data removed]",
      "text/plain": [
       "<Figure size 720x432 with 1 Axes>"
      ]
     },
     "metadata": {
      "needs_background": "light"
     },
     "output_type": "display_data"
    }
   ],
   "source": [
    "# predict class values\n",
    "yhat = model.predict(testX)\n",
    "# calculate precision and recall for each threshold\n",
    "lr_precision, lr_recall, _ = precision_recall_curve(testy, lr_probs)\n",
    "# calculate scores\n",
    "lr_f1, lr_auc = f1_score(testy, yhat), auc(lr_recall, lr_precision)\n",
    "# summarize scores\n",
    "print('Logistic: f1=%.3f auc=%.3f' % (lr_f1, lr_auc))\n",
    "# plot the precision-recall curves\n",
    "no_skill = len(testy[testy==1]) / len(testy)\n",
    "pyplot.plot([0, 1], [no_skill, no_skill], linestyle='--', label='No Skill')\n",
    "pyplot.plot(lr_recall, lr_precision, marker='.', label='Logistic')\n",
    "# axis labels\n",
    "pyplot.xlabel('Recall')\n",
    "pyplot.ylabel('Precision')\n",
    "# show the legend\n",
    "pyplot.legend()\n",
    "# show the plot\n",
    "pyplot.show()"
   ]
  },
  {
   "cell_type": "markdown",
   "metadata": {},
   "source": [
    "We can see that the model is penalized for predicting the majority class in all cases. The scores show that the model that looked good according to the ROC Curve is in fact barely skillful when considered using using precision and recall that focus on the positive class."
   ]
  },
  {
   "cell_type": "markdown",
   "metadata": {},
   "source": [
    "## <font color='darkblue'>Supplement</font>\n",
    "* [深入介紹及比較ROC曲線及PR曲線](https://medium.com/nlp-tsupei/roc-pr-%E6%9B%B2%E7%B7%9A-f3faa2231b8c)"
   ]
  }
 ],
 "metadata": {
  "kernelspec": {
   "display_name": "Python 3",
   "language": "python",
   "name": "python3"
  },
  "language_info": {
   "codemirror_mode": {
    "name": "ipython",
    "version": 3
   },
   "file_extension": ".py",
   "mimetype": "text/x-python",
   "name": "python",
   "nbconvert_exporter": "python",
   "pygments_lexer": "ipython3",
   "version": "3.6.7"
  }
 },
 "nbformat": 4,
 "nbformat_minor": 2
}
