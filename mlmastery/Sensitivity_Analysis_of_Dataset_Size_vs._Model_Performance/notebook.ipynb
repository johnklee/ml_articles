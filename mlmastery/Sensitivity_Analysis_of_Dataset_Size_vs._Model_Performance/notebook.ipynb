{
 "cells": [
  {
   "cell_type": "markdown",
   "metadata": {},
   "source": [
    "## <font color='darkblue'>Preface</font>\n",
    "([article source](https://machinelearningmastery.com/sensitivity-analysis-of-dataset-size-vs-model-performance/)) <font size='3ptx'>**Machine learning model performance often improves with dataset size for predictive modeling.**</font>\n",
    "\n",
    "This depends on the specific datasets and on the choice of model, although it often means that using more data can result in better performance and that discoveries made using smaller datasets to estimate model performance often scale to using larger datasets.\n",
    "\n",
    "<font color='darkred'>**The problem is the relationship is unknown for a given dataset and model, and may not exist for some datasets and models.**</font> Additionally, if such a relationship does exist, there may be a point or points of diminishing returns where adding more data may not improve model performance or where datasets are too small to effectively capture the capability of a model at a larger scale.\n",
    "\n",
    "**These issues can be addressed by performing a <font color='darkblue'>sensitivity analysis</font> to quantify the relationship between dataset size and model performance.** Once calculated, we can interpret the results of the analysis and make decisions about how much data is enough, and how small a dataset may be to effectively estimate performance on larger datasets.\n",
    "\n",
    "**In this tutorial, you will discover how to perform a sensitivity analysis of dataset size vs. model performance.**\n",
    "\n",
    "After completing this tutorial, you will know:\n",
    "* Selecting a dataset size for machine learning is a challenging open problem.\n",
    "* Sensitivity analysis provides an approach to quantifying the relationship between model performance and dataset size for a given model and prediction problem.\n",
    "* How to perform a sensitivity analysis of dataset size and interpret the results."
   ]
  },
  {
   "cell_type": "markdown",
   "metadata": {},
   "source": [
    "### <font color='darkgreen'>Tutorial Overview</font>\n",
    "This tutorial is divided into three parts; they are:\n",
    "* <font size='3ptx'>[**Dataset Size Sensitivity Analysis**](#sect1)</font>\n",
    "* <font size='3ptx'>[**Synthetic Prediction Task and Baseline Model**](#sect2)</font>\n",
    "* <font size='3ptx'>[**Sensitivity Analysis of Dataset Size**](#sect3)</font>"
   ]
  },
  {
   "cell_type": "code",
   "execution_count": 11,
   "metadata": {},
   "outputs": [],
   "source": [
    "# test classification dataset\n",
    "from sklearn.datasets import make_classification\n",
    "from sklearn.model_selection import cross_val_score\n",
    "from sklearn.model_selection import RepeatedStratifiedKFold\n",
    "from sklearn.tree import DecisionTreeClassifier\n",
    "from tqdm import tqdm\n",
    "import matplotlib.pyplot as plt"
   ]
  },
  {
   "cell_type": "markdown",
   "metadata": {},
   "source": [
    "<a id='sect1'></a>\n",
    "## <font color='darkblue'>Dataset Size Sensitivity Analysis</font>\n",
    "<font size='3ptx'>**The amount of training data required for a machine learning predictive model is an open question.**</font> It depends on your choice of model, on the way you prepare the data, and on the specifics of the data itself.\n",
    "\n",
    "It depends on your choice of model, on the way you prepare the data, and on the specifics of the data itself.\n",
    "* [How Much Training Data is Required for Machine Learning?](https://machinelearningmastery.com/much-training-data-required-machine-learning/)\n",
    "\n",
    "One way to approach this problem is to perform a [**sensitivity analysis**](https://en.wikipedia.org/wiki/Sensitivity_analysis) and discover how the performance of your model on your dataset varies with more or less data. **This might involve evaluating the same model with different sized datasets and looking for a relationship between dataset size and performance or a point of diminishing returns.**\n",
    "\n",
    "Typically, there is a strong relationship between training dataset size and model performance, especially for nonlinear models. The relationship often involves an improvement in performance to a point and a general reduction in the expected variance of the model as the dataset size is increased.\n",
    "\n",
    "**Knowing this relationship for your model and dataset can be helpful for a number of reasons, such as:**\n",
    "* Evaluate more models.\n",
    "* Find a better model.\n",
    "* Decide to gather more data.\n",
    "\n",
    "You can evaluate a large number of models and model configurations quickly on a smaller sample of the dataset with confidence that the performance will likely generalize in a specific way to a larger training dataset.\n",
    "\n",
    "This may allow evaluating many more models and configurations than you may otherwise be able to given the time available, and in turn, perhaps discover a better overall performing model.\n",
    "\n",
    "You may also be able to generalize and estimate the expected performance of model performance to much larger datasets and estimate whether it is worth the effort or expense of gathering more training data.\n",
    "\n",
    "Now that we are familiar with the idea of performing a sensitivity analysis of model performance to dataset size, let’s look at a worked example."
   ]
  },
  {
   "cell_type": "markdown",
   "metadata": {},
   "source": [
    "<a id='sect2'></a>\n",
    "## <font color='darkblue'>Synthetic Prediction Task and Baseline Model</font>\n",
    "<font size='3ptx'>**Before we dive into a sensitivity analysis, let’s select a dataset and baseline model for the investigation.**</font>\n",
    "\n",
    "**We will use a synthetic binary** (<font color='brown'>two-class</font>) **classification dataset in this tutorial**. This is ideal as it allows us to scale the number of generated samples for the same problem as needed.\n",
    "\n",
    "The [make_classification() scikit-learn function](https://scikit-learn.org/stable/modules/generated/sklearn.datasets.make_classification.html) can be used to create a synthetic classification dataset. **In this case, we will use 20 input features** (<font color='brown'>columns</font>) **and generate 1,000 samples** (<font color='brown'>rows</font>). The seed for the pseudo-random number generator is fixed to ensure the same base “problem” is used each time samples are generated.\n",
    "\n",
    "The example below generates the synthetic classification dataset and summarizes the shape of the generated data."
   ]
  },
  {
   "cell_type": "code",
   "execution_count": 2,
   "metadata": {},
   "outputs": [
    {
     "name": "stdout",
     "output_type": "stream",
     "text": [
      "(1000, 20) (1000,)\n"
     ]
    }
   ],
   "source": [
    "# define dataset\n",
    "X, y = make_classification(n_samples=1000, n_features=20, n_informative=15, n_redundant=5, random_state=1)\n",
    "\n",
    "# summarize the dataset\n",
    "print(X.shape, y.shape)"
   ]
  },
  {
   "cell_type": "markdown",
   "metadata": {},
   "source": [
    "Next, we can evaluate a predictive model on this dataset.\n",
    "\n",
    "We will use a decision tree ([**DecisionTreeClassifier**](https://scikit-learn.org/stable/modules/generated/sklearn.tree.DecisionTreeClassifier.html)) as the predictive model. **It was chosen because it is a nonlinear algorithm and has a high variance**, which means that we would expect performance to improve with increases in the size of the training dataset.\n",
    "\n",
    "We will use a best practice of [repeated stratified k-fold cross-validation](https://machinelearningmastery.com/repeated-k-fold-cross-validation-with-python/) to evaluate the model on the dataset, with 3 repeats and 10 folds. The complete example of evaluating the decision tree model on the synthetic classification dataset is listed below."
   ]
  },
  {
   "cell_type": "code",
   "execution_count": 3,
   "metadata": {},
   "outputs": [
    {
     "name": "stdout",
     "output_type": "stream",
     "text": [
      "Mean Accuracy: 0.821 (0.042)\n"
     ]
    }
   ],
   "source": [
    "# evaluate a decision tree model on the synthetic classification dataset\n",
    "\n",
    "# load dataset\n",
    "X, y = make_classification(n_samples=1000, n_features=20, n_informative=15, n_redundant=5, random_state=1)\n",
    "\n",
    "# define model evaluation procedure\n",
    "cv = RepeatedStratifiedKFold(n_splits=10, n_repeats=3, random_state=1)\n",
    "\n",
    "# define model\n",
    "model = DecisionTreeClassifier()\n",
    "\n",
    "# evaluate model\n",
    "scores = cross_val_score(model, X, y, scoring='accuracy', cv=cv, n_jobs=-1)\n",
    "\n",
    "# report performance\n",
    "print('Mean Accuracy: %.3f (%.3f)' % (scores.mean(), scores.std()))"
   ]
  },
  {
   "cell_type": "markdown",
   "metadata": {},
   "source": [
    "In this case, we can see that the mean classification accuracy is about 82%."
   ]
  },
  {
   "cell_type": "markdown",
   "metadata": {},
   "source": [
    "<a id='sect3'></a>\n",
    "## <font color='darkblue'>Sensitivity Analysis of Dataset Size</font>\n",
    "The previous section showed how to evaluate a chosen model on the available dataset.\n",
    "\n",
    "It raises questions, such as:\n",
    "> **Will the model perform better on more data?**\n",
    "\n",
    "More generally, we may have sophisticated questions such as:\n",
    "> **Does the estimated performance hold on smaller or larger samples from the problem domain?**\n",
    "\n",
    "These are hard questions to answer, but we can approach them by using a <font color='darkblue'>**sensitivity analysis**</font>. Specifically, we can use a sensitivity analysis to learn:\n",
    "> **How sensitive is model performance to dataset size?**\n",
    "\n",
    "Or more generally:\n",
    "> **What is the relationship of dataset size to model performance?**\n",
    "\n",
    "There are many ways to perform a sensitivity analysis, but perhaps the simplest approach is to define a test harness to evaluate model performance and then evaluate the same model on the same problem with differently sized datasets.\n",
    "\n",
    "This will allow the train and test portions of the dataset to increase with the size of the overall dataset. To make the code easier to read, we will split it up into functions. First, we can define a function that will prepare (<font color='brown'>or load</font>) the dataset of a given size. The number of rows in the dataset is specified by an argument to the function.\n",
    "\n",
    "If you are using this code as a template, this function can be changed to load your dataset from file and select a random sample of a given size."
   ]
  },
  {
   "cell_type": "code",
   "execution_count": 4,
   "metadata": {},
   "outputs": [],
   "source": [
    "RANDOM_STATE = 1\n",
    "\n",
    "# load dataset\n",
    "def load_dataset(n_samples):\n",
    "    # define the dataset\n",
    "    X, y = make_classification(\n",
    "        n_samples=int(n_samples), \n",
    "        n_features=20,\n",
    "        n_informative=15,\n",
    "        n_redundant=5,\n",
    "        random_state=RANDOM_STATE\n",
    "    )\n",
    "    return X, y"
   ]
  },
  {
   "cell_type": "markdown",
   "metadata": {},
   "source": [
    "Next, we need a function to evaluate a model on a loaded dataset. We will define a function that takes a dataset and returns a summary of the performance of the model evaluated using the test harness on the dataset.\n",
    "\n",
    "This function is listed below, taking the input and output elements of a dataset and returning the mean and standard deviation of the decision tree model on the dataset."
   ]
  },
  {
   "cell_type": "code",
   "execution_count": 5,
   "metadata": {},
   "outputs": [],
   "source": [
    "# evaluate a model\n",
    "def evaluate_model(X, y):\n",
    "    # define model evaluation procedure\n",
    "    cv = RepeatedStratifiedKFold(n_splits=10, n_repeats=3, random_state=1)\n",
    "\n",
    "    # define model\n",
    "    model = DecisionTreeClassifier()\n",
    "\n",
    "    # evaluate model\n",
    "    scores = cross_val_score(model, X, y, scoring='accuracy', cv=cv, n_jobs=-1)\n",
    "\n",
    "    # return summary stats\n",
    "    return [scores.mean(), scores.std()]"
   ]
  },
  {
   "cell_type": "markdown",
   "metadata": {},
   "source": [
    "Next, we can define a range of different dataset sizes to evaluate.\n",
    "\n",
    "**The sizes should be chosen proportional to the amount of data you have available and the amount of running time you are willing to expend.**\n",
    "\n",
    "In this case, we will keep the sizes modest to limit running time, from 50 to one million rows on a rough $log_{10}$ scale."
   ]
  },
  {
   "cell_type": "code",
   "execution_count": 6,
   "metadata": {},
   "outputs": [],
   "source": [
    "# define number of samples to consider\n",
    "sizes = [50, 100, 500, 1000, 5000, 10000, 50000, 100000, 500000, 1000000]"
   ]
  },
  {
   "cell_type": "markdown",
   "metadata": {},
   "source": [
    "Next, we can enumerate each dataset size, create the dataset, evaluate a model on the dataset, and store the results for later analysis."
   ]
  },
  {
   "cell_type": "code",
   "execution_count": 10,
   "metadata": {},
   "outputs": [
    {
     "name": "stderr",
     "output_type": "stream",
     "text": [
      "100%|█████████████████████████████████████████████████████████████████████████████████| 10/10 [20:17<00:00, 121.75s/it]"
     ]
    },
    {
     "name": "stdout",
     "output_type": "stream",
     "text": [
      "Wall time: 20min 17s\n"
     ]
    },
    {
     "name": "stderr",
     "output_type": "stream",
     "text": [
      "\n"
     ]
    }
   ],
   "source": [
    "%%time\n",
    "# evaluate each number of samples\n",
    "means, stds = list(), list()\n",
    "with tqdm(total=len(sizes)) as pbar:\n",
    "    for n_samples in sizes:\n",
    "        # get a dataset\n",
    "        X, y = load_dataset(n_samples)\n",
    "\n",
    "        # evaluate a model on this dataset size\n",
    "        mean, std = evaluate_model(X, y)\n",
    "\n",
    "        # store\n",
    "        means.append(mean)\n",
    "        stds.append(std)\n",
    "        pbar.update(1)"
   ]
  },
  {
   "cell_type": "markdown",
   "metadata": {},
   "source": [
    "Next, we can summarize the relationship between the dataset size and model performance.\n",
    "\n",
    "In this case, we will simply plot the result with error bars so we can spot any trends visually.\n",
    "\n",
    "We will **use the standard deviation as a measure of uncertainty on the estimated model performance**. This can be achieved by multiplying the value by 2 to cover approximately 95% of the expected performance if the performance follows a normal distribution.\n",
    "\n",
    "This can be shown on the plot as an error bar around the mean expected performance for a dataset size."
   ]
  },
  {
   "cell_type": "code",
   "execution_count": 18,
   "metadata": {},
   "outputs": [
    {
     "data": {
      "text/plain": [
       "<ErrorbarContainer object of 3 artists>"
      ]
     },
     "execution_count": 18,
     "metadata": {},
     "output_type": "execute_result"
    },
    {
     "data": {
      "image/png": "[encoded data removed]",
      "text/plain": [
       "<Figure size 720x432 with 1 Axes>"
      ]
     },
     "metadata": {
      "needs_background": "light"
     },
     "output_type": "display_data"
    }
   ],
   "source": [
    "# define error bar as 2 standard deviations from the mean or 95%\n",
    "err = [min(1, s * 2) for s in stds]\n",
    "\n",
    "# plot dataset size vs mean performance with error bars\n",
    "plt.rcParams['figure.figsize'] = [10, 6]\n",
    "plt.errorbar(sizes, means, yerr=err, fmt='-o')"
   ]
  },
  {
   "cell_type": "markdown",
   "metadata": {},
   "source": [
    "**To make the plot more readable, we can change the scale of the x-axis to log**, given that our dataset sizes are on a rough log10 scale."
   ]
  },
  {
   "cell_type": "code",
   "execution_count": 20,
   "metadata": {},
   "outputs": [
    {
     "data": {
      "image/png": "[encoded data removed]",
      "text/plain": [
       "<Figure size 720x432 with 1 Axes>"
      ]
     },
     "metadata": {
      "needs_background": "light"
     },
     "output_type": "display_data"
    }
   ],
   "source": [
    "# change the scale of the x-axis to log\n",
    "plt.errorbar(sizes, means, yerr=err, fmt='-o')\n",
    "ax = plt.gca()\n",
    "ax.set_xscale(\"log\", nonpositive='clip')\n",
    "\n",
    "# show the plot\n",
    "plt.show()"
   ]
  },
  {
   "cell_type": "markdown",
   "metadata": {},
   "source": [
    "**We would generally expect mean model performance to increase with dataset size. We would also expect the uncertainty in model performance to decrease with dataset size.**\n",
    "\n",
    "We can see that there is perhaps a **point of diminishing returns in estimating model performance at perhaps 10,000 or 50,000 rows**.\n",
    "\n",
    "Specifically, we do see an improvement in performance with more rows, but we can probably capture this relationship with little variance with 10K or 50K rows of data.\n",
    "\n",
    "<font color='darkred'>**We can also see a drop-off in estimated performance with 1,000,000 rows of data**</font>, suggesting that we are probably maxing out the capability of the model above 100,000 rows and are instead measuring statistical noise in the estimate.\n",
    "\n",
    "This might mean an upper bound on expected performance and likely that more data beyond this point will not improve the specific model and configuration on the chosen test harness.\n",
    "\n",
    "**The plot makes the relationship between dataset size and estimated model performance much clearer.**\n",
    "\n",
    "Given the modest spread with 5,000 and 10,000 samples and the practically log-linear relationship, we could probably get away with using 5K or 10K rows to approximate model performance.\n",
    "\n",
    "**We could use these findings as the basis for testing additional model configurations and even different model types.**\n",
    "\n",
    "**The danger is that different models may perform very differently with more or less data and it may be wise to repeat the sensitivity analysis with a different chosen model to confirm the relationship holds**. Alternately, it may be interesting to repeat the analysis with a suite of different model types."
   ]
  }
 ],
 "metadata": {
  "kernelspec": {
   "display_name": "Python 3",
   "language": "python",
   "name": "python3"
  },
  "language_info": {
   "codemirror_mode": {
    "name": "ipython",
    "version": 3
   },
   "file_extension": ".py",
   "mimetype": "text/x-python",
   "name": "python",
   "nbconvert_exporter": "python",
   "pygments_lexer": "ipython3",
   "version": "3.8.7"
  }
 },
 "nbformat": 4,
 "nbformat_minor": 4
}
