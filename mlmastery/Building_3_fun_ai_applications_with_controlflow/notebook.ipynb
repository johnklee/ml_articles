{
 "cells": [
  {
   "cell_type": "markdown",
   "id": "b8d8bf6d-1a53-40d2-9fb5-a8e51a21ae0f",
   "metadata": {},
   "source": [
    "## <b><font color='darkblue'>Preface</font></b>\n",
    "([article source](12e7b402d496fed1bcfe7ad3261f86c197dac868df84620e)) <b><font size='3ptx'>The AI industry is rapidly advancing towards creating solutions using large language models (LLMs) and maximizing the potential of AI models. </font></b>\n",
    "\n",
    "<b>Companies are seeking tools that seamlessly integrate AI into existing codebases without the hefty costs associated with hiring professionals and acquiring resources</b>. This is where [**Controlflow**](https://controlflow.ai/welcome) comes into play. With ControlFlow, you can develop complex AI applications using just a few lines of code.\n",
    "\n",
    "<b>In this tutorial, we will explore [ControlFlow](https://controlflow.ai/welcome) and use it to build three exciting AI applications</b>. The projects range from a simple text classifier to complex AI with multiple agents, tasks, and flow."
   ]
  },
  {
   "cell_type": "markdown",
   "id": "d75885bb-93e8-4e09-9690-29223357bf65",
   "metadata": {},
   "source": [
    "## <b><font color='darkblue'>What is ControlFlow?</font></b>\n",
    "<b><font size='3ptx'>[ControlFlow](https://controlflow.ai/welcome) is a Python framework that provides a structured approach for defining LLM workflows. </font></b>\n",
    "\n",
    "It consists of three main components for creating AI applications:\n",
    "* **Tasks**: These are the fundamental building blocks of AI workflows. They define discrete, well-defined objectives that need to be accomplished by one or more AI agents.\n",
    "* **Agents**: These are the intelligent, autonomous entities powering your AI workflows. You can define a model, provide it with custom instructions, and add various tools to create the agents.\n",
    "* **Flows**: Flows are responsible for running multiple AI workflows in a specified order. They offer a structured way to manage tasks, agents, tools, and shared contexts.\n",
    "\n",
    "<b>By using [ControlFlow](https://controlflow.ai/welcome), you can seamlessly integrate AI capabilities into your Python applications, gain more control over AI workflows, and generate structured outputs rather than just text</b>. It allows you to build complex workflows with ease and is incredibly user-friendly. <b>The best part of using [ControlFlow](https://controlflow.ai/welcome) is that it enables you to observe the AI model’s decision-making process at every task</b>.\n",
    "\n",
    "In simple terms, [**ControlFlow**](https://controlflow.ai/welcome) has two significant uses: it orchestrates your LLM workflows and helps you generate structured outputs, giving you more control over AI."
   ]
  },
  {
   "cell_type": "code",
   "execution_count": 5,
   "id": "7e1d3d33-e330-4aac-83d3-3b23843d80d5",
   "metadata": {},
   "outputs": [],
   "source": [
    "import datetime\n",
    "import os\n",
    "import openai\n",
    "from dotenv import load_dotenv, find_dotenv\n",
    "from openai import OpenAI\n",
    "import controlflow as cf\n",
    "\n",
    "a = load_dotenv(find_dotenv(os.path.expanduser('~/.env'))) # read local .env file\n",
    "openai.api_key = os.environ['OPENAI_API_KEY']\n",
    "client = OpenAI()"
   ]
  },
  {
   "cell_type": "markdown",
   "id": "8bbe0ded-28e5-4841-9352-4c63b8b2f8c4",
   "metadata": {},
   "source": [
    "## <b><font color='darkblue'>Setting up ControlFlow</font></b>\n",
    "We can simply install ControlFlow by typing the following command in the terminal. It will automatically install all the dependencies. "
   ]
  },
  {
   "cell_type": "code",
   "execution_count": 1,
   "id": "e3a4edda-e27a-4c06-b11f-f945bc20cbd6",
   "metadata": {},
   "outputs": [],
   "source": [
    "# !pip install controlflow"
   ]
  },
  {
   "cell_type": "code",
   "execution_count": 2,
   "id": "d4dde34f-9394-4231-9b7d-e32921bf04b6",
   "metadata": {},
   "outputs": [
    {
     "name": "stdout",
     "output_type": "stream",
     "text": [
      "controlflow==0.10.0\n"
     ]
    }
   ],
   "source": [
    "!pip freeze | grep 'controlflow'"
   ]
  },
  {
   "cell_type": "markdown",
   "id": "9c9d4c20-f804-4204-b7b3-0665cc5802a2",
   "metadata": {},
   "source": [
    "Generate the OpenAI API key and set it as an environment variable. "
   ]
  },
  {
   "cell_type": "code",
   "execution_count": 2,
   "id": "34543a84-1ba5-46e3-9cc9-db01d309db36",
   "metadata": {},
   "outputs": [],
   "source": [
    "# !export OPENAI_API_KEY=\"your-api-key\""
   ]
  },
  {
   "cell_type": "code",
   "execution_count": 6,
   "id": "ff06fd34-5661-4a11-851e-5a5afda5d56d",
   "metadata": {},
   "outputs": [
    {
     "name": "stdout",
     "output_type": "stream",
     "text": [
      "***************************************************\n"
     ]
    }
   ],
   "source": [
    "print('*' * len(os.environ['OPENAI_API_KEY']))"
   ]
  },
  {
   "cell_type": "markdown",
   "id": "150c994c-ec68-4098-b635-42d6eab60e74",
   "metadata": {},
   "source": [
    "Before using [**ControlFlow**](https://controlflow.ai/welcome), ensure it is properly installed. Type the following command in the terminal to view all Python package versions associated with ControlFlow."
   ]
  },
  {
   "cell_type": "code",
   "execution_count": 7,
   "id": "b1bc1173-7ff2-4735-b719-e4305ff51755",
   "metadata": {},
   "outputs": [
    {
     "name": "stdout",
     "output_type": "stream",
     "text": [
      "   ControlFlow version: 0.10.0                                                  \n",
      "       Prefect version: 3.0.3                                                   \n",
      "LangChain Core version: 0.3.6                                                   \n",
      "        Python version: 3.11.9                                                  \n",
      "              Platform: Linux-6.9.10-1rodete5-amd64-x86_64-with-glibc2.38       \n",
      "                  Path: /usr/local/google/home/johnkclee/Github/ml_articles/env…\n"
     ]
    }
   ],
   "source": [
    "!controlflow version"
   ]
  },
  {
   "cell_type": "markdown",
   "id": "c8b57110-f943-4d01-ad2b-18c658fb20d2",
   "metadata": {},
   "source": [
    "<b>Creating an agent and running the task is quite simple in [ControlFlow](https://controlflow.ai/welcome).</b>\n",
    "\n",
    "<b>In this example, we have created the Horror storytelling agent by providing it with custom instructions</b>. Then, we will use it to run a simple task by providing it with a prompt. Ultimately, we are generating a short story."
   ]
  },
  {
   "cell_type": "code",
   "execution_count": 3,
   "id": "6fb0d4ca-c91a-459e-ba16-0b09f0068150",
   "metadata": {},
   "outputs": [
    {
     "name": "stderr",
     "output_type": "stream",
     "text": [
      "01:16:15.794 | \u001b[38;5;184mWARNING\u001b[0m | prefect.retries - Attempt 1 of function 'get_lost_followers' failed with OperationalError. Retrying in 1.27 seconds...\n"
     ]
    },
    {
     "data": {
      "application/vnd.jupyter.widget-view+json": {
       "model_id": "d0904ffdabd3443e8ba82d326a74934a",
       "version_major": 2,
       "version_minor": 0
      },
      "text/plain": [
       "Output()"
      ]
     },
     "metadata": {},
     "output_type": "display_data"
    },
    {
     "data": {
      "text/html": [
       "<pre style=\"white-space:pre;overflow-x:auto;line-height:normal;font-family:Menlo,'DejaVu Sans Mono',consolas,'Courier New',monospace\"></pre>\n"
      ],
      "text/plain": []
     },
     "metadata": {},
     "output_type": "display_data"
    }
   ],
   "source": [
    "import controlflow as cf\n",
    " \n",
    "teller = cf.Agent(name=\"Horror Storyteller\",\n",
    "                  model=\"openai/gpt-3.5-turbo\",\n",
    "                  instructions=\"You are an older man telling horror stories to kids.\")\n",
    " \n",
    "story = cf.run(\"Write a short story.\", agents=[teller])"
   ]
  },
  {
   "cell_type": "markdown",
   "id": "81baa2e8-af06-4f62-b184-01d012bf07e5",
   "metadata": {},
   "source": [
    "## <b><font color='darkblue'>User Cases</font></b>"
   ]
  },
  {
   "cell_type": "markdown",
   "id": "14676cf5-dbee-4e96-bd90-852c953d97d5",
   "metadata": {},
   "source": [
    "### <b><font color='darkgreen'>1. Tweet Classification</font></b>\n",
    "<b><font size='3ptx'>Tweet Classifier is a popular small project for students, and it usually takes them months to build a proper text classifier.</font></b> By using [**ControlFlow**](https://controlflow.ai/welcome), we can create a proper tweet classifier using a few lines of code."
   ]
  },
  {
   "cell_type": "markdown",
   "id": "35a38965-c0b9-4888-b84d-24fb9c36da49",
   "metadata": {},
   "source": [
    "1. Create a list of 4 short tweets.\n",
    "2. Setup an agent with custom instructions using the model `gpt-3.5-turbo`."
   ]
  },
  {
   "cell_type": "code",
   "execution_count": 9,
   "id": "3c9157ca-1137-4afd-b0b3-12e0de914e61",
   "metadata": {},
   "outputs": [],
   "source": [
    "tweets = [\n",
    "    \"Negativity spreads too easily here. #sigh\",\n",
    "    \"Sometimes venting is necessary. #HateTherapy\",\n",
    "    \"Love fills the air today! 💖 #Blessed\",\n",
    "    \"Thankful for all my Twitter friends! 🌟\"\n",
    "]\n",
    "# Create a specialized agent\n",
    "classifier = cf.Agent(\n",
    "    name=\"Tweet Classifier\",\n",
    "    model=\"openai/gpt-3.5-turbo\",\n",
    "    instructions=\"You are an expert at quickly classifying tweets.\",\n",
    ")"
   ]
  },
  {
   "cell_type": "markdown",
   "id": "0a6f8fca-d033-455b-ad46-a814b24cfdd2",
   "metadata": {},
   "source": [
    "3. Create a task to classify tweets as “hate” or “love”, with a prompt, `result_type`, `agents`, and `context`. We will provide a list of tweets as context.\n",
    "4. Run the task and display the results. "
   ]
  },
  {
   "cell_type": "code",
   "execution_count": 11,
   "id": "f806540d-2f9a-4e47-8836-cf8dc9fd48ca",
   "metadata": {},
   "outputs": [
    {
     "data": {
      "application/vnd.jupyter.widget-view+json": {
       "model_id": "4dd212fb44664526a9ac7d9dda94cc59",
       "version_major": 2,
       "version_minor": 0
      },
      "text/plain": [
       "Output()"
      ]
     },
     "metadata": {},
     "output_type": "display_data"
    },
    {
     "data": {
      "text/html": [
       "<pre style=\"white-space:pre;overflow-x:auto;line-height:normal;font-family:Menlo,'DejaVu Sans Mono',consolas,'Courier New',monospace\"></pre>\n"
      ],
      "text/plain": []
     },
     "metadata": {},
     "output_type": "display_data"
    }
   ],
   "source": [
    "from typing import Literal\n",
    "\n",
    "# Set up a ControlFlow task to classify tweets\n",
    "classifications = cf.run(\n",
    "    'Classify the tweets',\n",
    "    result_type=list[Literal['hate', 'love']],\n",
    "    agents=[classifier],\n",
    "    context=dict(tweets=tweets),\n",
    ")\n",
    "\n",
    "result = classifications"
   ]
  },
  {
   "cell_type": "code",
   "execution_count": 12,
   "id": "f240c81a-5eea-4722-a4f4-d5d86c06dd49",
   "metadata": {},
   "outputs": [
    {
     "name": "stdout",
     "output_type": "stream",
     "text": [
      "Result (<class 'list'>): ['hate', 'hate', 'love', 'love']\n"
     ]
    }
   ],
   "source": [
    "print(f'Result ({type(result)}): {result}')"
   ]
  },
  {
   "cell_type": "markdown",
   "id": "3111cdf7-a238-4a54-99b5-aad8c4e3cd45",
   "metadata": {},
   "source": [
    "Let’s display them in a proper way using the color code (red for hate and green for love)."
   ]
  },
  {
   "cell_type": "code",
   "execution_count": 13,
   "id": "16ab3029-83b8-46a4-9a04-01d9c6ea7ffb",
   "metadata": {},
   "outputs": [
    {
     "name": "stdout",
     "output_type": "stream",
     "text": [
      "Tweet: Negativity spreads too easily here. #sigh | Classification: \u001b[91mHATE\u001b[0m\n",
      "\n",
      "Tweet: Sometimes venting is necessary. #HateTherapy | Classification: \u001b[91mHATE\u001b[0m\n",
      "\n",
      "Tweet: Love fills the air today! 💖 #Blessed | Classification: \u001b[92mLOVE\u001b[0m\n",
      "\n",
      "Tweet: Thankful for all my Twitter friends! 🌟 | Classification: \u001b[92mLOVE\u001b[0m\n",
      "\n"
     ]
    }
   ],
   "source": [
    "# ANSI escape code for green text\n",
    "GREEN = '\\033[92m'\n",
    "RED = '\\033[91m'\n",
    "RESET = '\\033[0m'\n",
    " \n",
    "# Print tweets alongside their classifications with classification in green\n",
    "for twt, cls in zip(tweets, result):\n",
    "  if cls == 'hate':\n",
    "    print(f\"Tweet: {twt} | Classification: {RED}{cls.upper()}{RESET}\\n\")\n",
    "  else:\n",
    "    print(f\"Tweet: {twt} | Classification: {GREEN}{cls.upper()}{RESET}\\n\")"
   ]
  },
  {
   "cell_type": "markdown",
   "id": "d541f0db-39ce-42d2-8ad2-2bc14accff6b",
   "metadata": {},
   "source": [
    "Two tweets are labeled “hate,” and two tweets are labeled “love.” <b>This is quite accurate and gives output in a structured format that we can integrate into our existing applications.</b>"
   ]
  },
  {
   "cell_type": "markdown",
   "id": "09abb03e-c4a9-451a-b657-20ea16bc3245",
   "metadata": {},
   "source": [
    "### <b><font color='darkgreen'>2. Book Recommender</font></b>\n",
    "<b><font size='3ptx'>Two years ago, I built a Goodreads application on Deepnote, which sparked my interest in creating a book recommendation application. </font></b>\n",
    "\n",
    "<b>In this project, we will define a data model for book recommendations using the Pydantic model</b>. This model will ensure that each recommendation includes a title, author, publication year, and genre with the correct field types.\n",
    "\n",
    "<b>The `recommend_books` function will use this Pydantic model to define the result type and generate a list of book recommendations based on a specified genre and number of books.</b>"
   ]
  },
  {
   "cell_type": "code",
   "execution_count": 14,
   "id": "3cc55cfc-0b63-495e-bc8e-e924d9b97b5d",
   "metadata": {},
   "outputs": [],
   "source": [
    "from pydantic import BaseModel, Field\n",
    "\n",
    "class BookRecommendation(BaseModel):\n",
    "    title: str = Field(description='The title of the recommended book')\n",
    "    author: str = Field(description='The author of the book')\n",
    "    year_published: int = Field(description='The year the book was published')\n",
    "    genre: str = Field(description='The genre of the book')\n",
    "\n",
    "def recommend_books(genre: str, count: int) -> list[BookRecommendation]:\n",
    "    return cf.run(\n",
    "        f\"Recommend {count} books in the {genre} genre with their details\",\n",
    "        result_type=list[BookRecommendation],\n",
    "        context={\"genre\": genre, \"count\": count}\n",
    "    )"
   ]
  },
  {
   "cell_type": "markdown",
   "id": "40e02131-b584-4157-af42-ea049fde77b4",
   "metadata": {},
   "source": [
    "We will now generate 5 Science fiction books:"
   ]
  },
  {
   "cell_type": "code",
   "execution_count": 15,
   "id": "e7d73d28-7656-4612-816c-c280b0b17a61",
   "metadata": {},
   "outputs": [
    {
     "data": {
      "application/vnd.jupyter.widget-view+json": {
       "model_id": "65aa4b1cb83c40bd8af3bc591f5258ab",
       "version_major": 2,
       "version_minor": 0
      },
      "text/plain": [
       "Output()"
      ]
     },
     "metadata": {},
     "output_type": "display_data"
    },
    {
     "data": {
      "text/html": [
       "<pre style=\"white-space:pre;overflow-x:auto;line-height:normal;font-family:Menlo,'DejaVu Sans Mono',consolas,'Courier New',monospace\"></pre>\n"
      ],
      "text/plain": []
     },
     "metadata": {},
     "output_type": "display_data"
    }
   ],
   "source": [
    "recommended_books = recommend_books(genre=\"Science Fiction\", count=5)"
   ]
  },
  {
   "cell_type": "code",
   "execution_count": 18,
   "id": "61ab7115-1765-4059-bbe3-15859322aa35",
   "metadata": {},
   "outputs": [
    {
     "name": "stdout",
     "output_type": "stream",
     "text": [
      "title='Dune' author='Frank Herbert' year_published=1965 genre='Science Fiction'\n",
      "title='Neuromancer' author='William Gibson' year_published=1984 genre='Science Fiction'\n",
      "title='The Left Hand of Darkness' author='Ursula K. Le Guin' year_published=1969 genre='Science Fiction'\n",
      "title='Foundation' author='Isaac Asimov' year_published=1951 genre='Science Fiction'\n",
      "title='Snow Crash' author='Neal Stephenson' year_published=1992 genre='Science Fiction'\n"
     ]
    }
   ],
   "source": [
    "for book in recommended_books:\n",
    "    print(book)"
   ]
  },
  {
   "cell_type": "markdown",
   "id": "21606537-3090-40c2-bce6-a81978c238cb",
   "metadata": {},
   "source": [
    "To convert the output into the JSON format, we only have to use the `.model_dump_json(indent=2)` function. "
   ]
  },
  {
   "cell_type": "code",
   "execution_count": 19,
   "id": "2072a4be-5ee4-4bb6-ada9-03387871192d",
   "metadata": {},
   "outputs": [
    {
     "name": "stdout",
     "output_type": "stream",
     "text": [
      "{\n",
      "  \"title\": \"Dune\",\n",
      "  \"author\": \"Frank Herbert\",\n",
      "  \"year_published\": 1965,\n",
      "  \"genre\": \"Science Fiction\"\n",
      "}\n",
      "{\n",
      "  \"title\": \"Neuromancer\",\n",
      "  \"author\": \"William Gibson\",\n",
      "  \"year_published\": 1984,\n",
      "  \"genre\": \"Science Fiction\"\n",
      "}\n",
      "{\n",
      "  \"title\": \"The Left Hand of Darkness\",\n",
      "  \"author\": \"Ursula K. Le Guin\",\n",
      "  \"year_published\": 1969,\n",
      "  \"genre\": \"Science Fiction\"\n",
      "}\n",
      "{\n",
      "  \"title\": \"Foundation\",\n",
      "  \"author\": \"Isaac Asimov\",\n",
      "  \"year_published\": 1951,\n",
      "  \"genre\": \"Science Fiction\"\n",
      "}\n",
      "{\n",
      "  \"title\": \"Snow Crash\",\n",
      "  \"author\": \"Neal Stephenson\",\n",
      "  \"year_published\": 1992,\n",
      "  \"genre\": \"Science Fiction\"\n",
      "}\n"
     ]
    }
   ],
   "source": [
    "for book in recommended_books:\n",
    "  print(book.model_dump_json(indent=2))"
   ]
  },
  {
   "cell_type": "markdown",
   "id": "64af5574-5060-41e1-bfa6-e41c35893f58",
   "metadata": {},
   "source": [
    "### <b><font color='darkgreen'>3. Travel Agent</font></b>\n",
    "In this project, we are going to connect two tasks. One task will generate the destination based on user preferences, and then use this destination to create a detailed itinerary. <b>To create this project, we will use multiple agents, multiple tasks, and combine them using a flow</b>.\n",
    "\n",
    "<b>We will define two model classes for travel preferences and travel itinerary. One will be used for user input, and the other will be used as a structure for output.</b>\n",
    "\n",
    "<b>Also, we will create a flow function that contains two tasks</b>: one for generating the destination and another for planning the trip based on the user’s preferences.\n",
    "\n",
    "The process will involve generating the destinations and then using the destination to plan a trip for “n” days."
   ]
  },
  {
   "cell_type": "code",
   "execution_count": 21,
   "id": "d50c4d65-b9b8-45f3-a443-92dd4a01817f",
   "metadata": {},
   "outputs": [],
   "source": [
    "import controlflow as cf\n",
    "from pydantic import BaseModel\n",
    "from typing import List\n",
    "\n",
    "# Create specialized agents\n",
    "destination_recommender = cf.Agent(name=\"DestinationRecommender\", model=\"openai/gpt-4o-mini\")\n",
    "itinerary_planner = cf.Agent(name=\"ItineraryPlanner\", model=\"openai/gpt-4o\")\n",
    "\n",
    "\n",
    "# Define our data models\n",
    "class TravelPreferences(BaseModel):\n",
    "    preferred_activities: List[str]\n",
    "    budget: str  # e.g., \"low\", \"medium\", \"high\"\n",
    "    travel_duration: int  # in days\n",
    "    preferred_region: str  # e.g., \"Asia\", \"Europe\", \"South America\"\n",
    "\n",
    "\n",
    "class TravelItinerary(BaseModel):\n",
    "    destination: str\n",
    "    daily_schedule: List[str]\n",
    "\n",
    "\n",
    "@cf.flow\n",
    "def create_travel_itinerary(preferences: TravelPreferences) -> TravelItinerary:\n",
    "    # Recommend a single destination within the preferred region\n",
    "    destination = cf.run(\n",
    "        \"Suggest a travel destination based on user preference.\",\n",
    "        agents=[destination_recommender],\n",
    "        result_type=str,\n",
    "        context={\n",
    "            \"preferred_activities\": preferences.preferred_activities,\n",
    "            \"budget\": preferences.budget,\n",
    "            \"travel_duration\": preferences.travel_duration,\n",
    "            \"preferred_region\": preferences.preferred_region\n",
    "        }\n",
    "    )\n",
    "\n",
    "    # Plan daily schedule using the destination\n",
    "    daily_schedule = cf.run(\n",
    "        \"Create a daily schedule for the trip at the chosen destination\",\n",
    "        agents=[itinerary_planner],\n",
    "        result_type=List[str],\n",
    "        context={\n",
    "            \"destination\": destination,\n",
    "            \"travel_duration\": preferences.travel_duration,\n",
    "            \"preferred_activities\": preferences.preferred_activities\n",
    "        }\n",
    "    )\n",
    "\n",
    "    return TravelItinerary(destination=destination, daily_schedule=daily_schedule)"
   ]
  },
  {
   "cell_type": "markdown",
   "id": "2a87c006-b38c-463a-b3e8-4431bd2d77e2",
   "metadata": {},
   "source": [
    "<b>When you are used to coding ControFlow workflows, you will know that it gets quite easy to create a new application and project with just a few lines of code.</b>\n",
    "\n",
    "We will create user preferences by providing the preferred activity, budget, travel duration, and preferred region. Then, we will use these user preferences to run the flow."
   ]
  },
  {
   "cell_type": "code",
   "execution_count": 22,
   "id": "26900c2a-ba20-4098-90de-6152b664e522",
   "metadata": {},
   "outputs": [
    {
     "data": {
      "application/vnd.jupyter.widget-view+json": {
       "model_id": "b99bd0bb2bdb4a3ea09182cbdbcd5e90",
       "version_major": 2,
       "version_minor": 0
      },
      "text/plain": [
       "Output()"
      ]
     },
     "metadata": {},
     "output_type": "display_data"
    },
    {
     "data": {
      "text/html": [
       "<pre style=\"white-space:pre;overflow-x:auto;line-height:normal;font-family:Menlo,'DejaVu Sans Mono',consolas,'Courier New',monospace\"></pre>\n"
      ],
      "text/plain": []
     },
     "metadata": {},
     "output_type": "display_data"
    },
    {
     "data": {
      "application/vnd.jupyter.widget-view+json": {
       "model_id": "afe59fd6c3164d8190f6f98892687992",
       "version_major": 2,
       "version_minor": 0
      },
      "text/plain": [
       "Output()"
      ]
     },
     "metadata": {},
     "output_type": "display_data"
    },
    {
     "data": {
      "text/html": [
       "<pre style=\"white-space:pre;overflow-x:auto;line-height:normal;font-family:Menlo,'DejaVu Sans Mono',consolas,'Courier New',monospace\"></pre>\n"
      ],
      "text/plain": []
     },
     "metadata": {},
     "output_type": "display_data"
    }
   ],
   "source": [
    "preferences = TravelPreferences(\n",
    "    preferred_activities=[\"old street\", \"local cuisine\", \"coffee shop\"],\n",
    "    budget=\"medium\",\n",
    "    travel_duration=3,\n",
    "    preferred_region=\"Taiwan\"\n",
    ")\n",
    "\n",
    "# Create a personalized travel itinerary\n",
    "itinerary = create_travel_itinerary(preferences)"
   ]
  },
  {
   "cell_type": "code",
   "execution_count": 23,
   "id": "6bdfc493-dd47-4633-94dd-188fda418912",
   "metadata": {},
   "outputs": [
    {
     "name": "stdout",
     "output_type": "stream",
     "text": [
      "Recommended Destination:\n",
      "- For a 3-day trip in Taiwan focusing on old streets, local cuisine, and coffee shops, I recommend visiting Taipei. Explore the historic streets of Dihua Street and Bopiliao Old Street, indulge in the famous street food at Raohe Night Market, and enjoy a coffee at one of the many charming cafes in the city, like VVG Something or The Lobby of Simple Kaffa.\n",
      "\n",
      "\n",
      "Daily Schedule:\n",
      "Day 1: Exploring Historic Streets\n",
      "Morning: Dihua Street - Start your day by exploring Dihua Street, known for its rich history and traditional shops. Enjoy the architecture and visit some of the traditional Chinese medicine shops, fabric stores, and tea houses.\n",
      "Lunch: Local Restaurant - Have lunch at a local restaurant on Dihua Street, where you can try traditional Taiwanese dishes.\n",
      "Afternoon: Bopiliao Old Street - Head over to Bopiliao Old Street, an area that has preserved its historical buildings dating back to the Qing Dynasty. Explore the cultural and historical exhibitions.\n",
      "Evening: Raohe Night Market - End your day by visiting Raohe Night Market. Indulge in famous street food like pepper buns, stinky tofu, and bubble tea. Enjoy the vibrant night market atmosphere.\n",
      "Day 2: Local Cuisine and Cultural Sights\n",
      "Morning: Chiang Kai-shek Memorial Hall - Visit this iconic landmark and explore the beautiful gardens and historical exhibits.\n",
      "Lunch: Din Tai Fung - Enjoy a world-renowned meal at Din Tai Fung, famous for its soup dumplings (xiaolongbao).\n",
      "Afternoon: National Palace Museum - Spend your afternoon exploring the extensive collection of Chinese art and artifacts at the National Palace Museum.\n",
      "Evening: Shilin Night Market - Head to Shilin Night Market for dinner. Try a variety of local street foods and enjoy shopping for souvenirs.\n",
      "Day 3: Coffee Shops and Relaxation\n",
      "Morning: VVG Something - Start your day at VVG Something, a charming café known for its cozy atmosphere and delicious coffee.\n",
      "Lunch: Local Bistro - Have a leisurely lunch at a nearby bistro, offering a mix of local and international cuisine.\n",
      "Afternoon: The Lobby of Simple Kaffa - Spend your afternoon at The Lobby of Simple Kaffa, one of Taipei's most beloved coffee shops. Enjoy their award-winning coffee and pastries.\n",
      "Evening: Ximending - Conclude your trip by visiting Ximending, Taipei’s trendy shopping district. Enjoy the lively atmosphere, street performances, and a variety of dining options for your final dinner in Taipei.\n"
     ]
    }
   ],
   "source": [
    "print(\"Recommended Destination:\")\n",
    "print(f\"- {itinerary.destination}\")\n",
    "\n",
    "print(\"\\n\\nDaily Schedule:\")\n",
    "for schedule in itinerary.daily_schedule:\n",
    "    print(f\"{schedule}\")"
   ]
  },
  {
   "cell_type": "markdown",
   "id": "eefe942f-bb0a-4626-ad9a-38a557324b3e",
   "metadata": {},
   "source": [
    "We can easily convert this project into a product and build a website that provides users with travel recommendations. \n",
    "\n",
    "If you are facing issues running the coder, please check out the [**ControlFlow Tutorial Colab notebook**](https://colab.research.google.com/drive/1dXPRoyw7a5KiHoKIMjQm4eVttycwo3FA?usp=sharing#scrollTo=X6jYIysWyhlR). "
   ]
  },
  {
   "cell_type": "markdown",
   "id": "f150b293-9d3c-448d-b532-ccc163a6f3a1",
   "metadata": {},
   "source": [
    "## <b><font color='darkblue'>Final Thoughts</font></b>\n",
    "<b><font size='3ptx'>The [ControlFlow](https://controlflow.ai/welcome) is still new, and you might encounter issues when running some of the examples available in the documentation</font>. The good news is that there’s a dedicated team working to resolve these issues in real time, ensuring a smooth onboarding process. All you have to do is create an issue on the GitHub repository at [Issues · PrefectHQ/ControlFlow](https://github.com/PrefectHQ/ControlFlow/issues).</b>\n",
    "\n",
    "<b>I faced some issues while running it on Colab, but they were resolved within two hours, thanks to Jeremiah Lowin.</b>\n",
    "\n",
    "<b>I believe we should be working towards building AI solutions that provide business value, instead of solely focusing on improving model performance by a few percentage points.</b> To realize the full potential of AI, we need tools like [**ControlFlow**](https://controlflow.ai/welcome), [**LangChain**](https://www.langchain.com/), and other AI frameworks that can help us build complex AI applications with just a few lines of code."
   ]
  }
 ],
 "metadata": {
  "kernelspec": {
   "display_name": "Python 3 (ipykernel)",
   "language": "python",
   "name": "python3"
  },
  "language_info": {
   "codemirror_mode": {
    "name": "ipython",
    "version": 3
   },
   "file_extension": ".py",
   "mimetype": "text/x-python",
   "name": "python",
   "nbconvert_exporter": "python",
   "pygments_lexer": "ipython3",
   "version": "3.11.9"
  }
 },
 "nbformat": 4,
 "nbformat_minor": 5
}
