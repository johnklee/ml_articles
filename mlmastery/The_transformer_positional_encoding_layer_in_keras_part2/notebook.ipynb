{
 "cells": [
  {
   "cell_type": "markdown",
   "id": "48e4326b",
   "metadata": {},
   "source": [
    "## <font color='darkblue'>Preface</font>\n",
    "([article source](https://machinelearningmastery.com/the-transformer-positional-encoding-layer-in-keras-part-2/)) In [part 1: A gentle introduction to positional encoding in transformer models](https://nbviewer.ipython.org/github/johnklee/ml_articles/blob/master/mlmastery/A_gentle_introduction_to_positional_encoding_in_transformer_models_part1/notebook.ipynb#sect2), we discussed the positional encoding layer of the transformer model. We also showed how you can implement this layer and its functions yourself in Python. <b>In this tutorial, we’ll implement the positional encoding layer in Keras and Tensorflow. You can then use this layer in a complete transformer model.</b>\n",
    "\n",
    "After completing this tutorial, you will know:\n",
    "* Text vectorization in Keras\n",
    "* Embedding layer in Keras\n",
    "* How to subclass the embedding layer and write your own positional encoding layer."
   ]
  },
  {
   "cell_type": "markdown",
   "id": "38e504fa",
   "metadata": {},
   "source": [
    "### <font color='darkgreen'>Tutorial Overview</font>\n",
    "This tutorial is divided into 3 parts; they are:\n",
    "1. <b><font size='3ptx'><a href='#sect1'>Text vectorization and embedding layer in Keras</a></font></b>\n",
    "2. <b><font size='3ptx'><a href='#sect2'>Writing your own positional encoding layer in Keras</a></font></b>\n",
    "    * Randomly initialized and tunable embeddings\n",
    "    * Fixed weight embeddings from Attention is All You Need\n",
    "3. <b><font size='3ptx'><a href='#sect3'>Graphical view of the output of the positional encoding layer</a></font></b>"
   ]
  },
  {
   "cell_type": "markdown",
   "id": "d3c9861e",
   "metadata": {},
   "source": [
    "### <font color='darkgreen'>The Import Section</font>\n",
    "First let’s write the section to import all the required libraries:"
   ]
  },
  {
   "cell_type": "code",
   "execution_count": 18,
   "id": "2c80785a",
   "metadata": {},
   "outputs": [],
   "source": [
    "import tensorflow as tf\n",
    "from tensorflow import convert_to_tensor, string\n",
    "from tensorflow.keras.layers import TextVectorization, Embedding, Layer\n",
    "from tensorflow.data import Dataset\n",
    "import numpy as np\n",
    "import matplotlib.pyplot as plt"
   ]
  },
  {
   "cell_type": "markdown",
   "id": "f534cf0e",
   "metadata": {},
   "source": [
    "<a id='sect1'></a>\n",
    "## <font color='darkblue'>The Text Vectorization Layer</font>\n",
    "* <b><a href='#sect1_1'>The Embedding Layer</a></b>\n",
    "<br/>\n",
    "\n",
    "We’ll start with a set of English phrases, which are already preprocessed and cleaned. The text vectorization layer creates a dictionary of words and replaces each word by its corresponding index in the dictionary. **Let’s see how we can map these two sentences using the text vectorization layer**:\n",
    "* I am a robot\n",
    "* you too robot\n",
    "\n",
    "<br/>\n",
    "\n",
    "<b>Note we have already converted the text to lowercase and removed all the punctuations and noise in text. We’ll convert these two phrases to vectors of a fixed length 5</b>. The [**TextVectorization**](https://www.tensorflow.org/api_docs/python/tf/keras/layers/TextVectorization) layer of Keras requires a maximum vocabulary size (<font color='violet'>max_tokens</font>) and the required length of output sequence (<font color='violet'>output_sequence_length</font>) for initialization. The output of the layer is a tensor of shape:\n",
    "> (number of sentences, output sequence length)\n",
    "\n",
    "<br/>\n",
    "\n",
    "The following code snippet uses the adapt method to generate a vocabulary. It next creates a vectorized representation of text."
   ]
  },
  {
   "cell_type": "code",
   "execution_count": 19,
   "id": "57548908",
   "metadata": {},
   "outputs": [
    {
     "name": "stdout",
     "output_type": "stream",
     "text": [
      "Vocabulary:  ['', '[UNK]', 'robot', 'you', 'too', 'i', 'am', 'a']\n",
      "Vectorized words:  tf.Tensor(\n",
      "[[5 6 7 2 0]\n",
      " [3 4 2 0 0]], shape=(2, 5), dtype=int64)\n"
     ]
    }
   ],
   "source": [
    "vocab_size = 10\n",
    "output_sequence_length = 5\n",
    "sentences = [[\"I am a robot\"], [\"you too robot\"]]\n",
    "sentence_data = Dataset.from_tensor_slices(sentences)\n",
    "# Create the TextVectorization layer\n",
    "vectorize_layer = TextVectorization(\n",
    "                  output_sequence_length=output_sequence_length,\n",
    "                  max_tokens=vocab_size)\n",
    "# Train the layer to create a dictionary\n",
    "vectorize_layer.adapt(sentence_data)\n",
    "# Convert all sentences to tensors\n",
    "word_tensors = convert_to_tensor(sentences, dtype=tf.string)\n",
    "# Use the word tensors to get vectorized phrases\n",
    "vectorized_words = vectorize_layer(word_tensors)\n",
    "print(\"Vocabulary: \", vectorize_layer.get_vocabulary())\n",
    "print(\"Vectorized words: \", vectorized_words)"
   ]
  },
  {
   "cell_type": "markdown",
   "id": "1dd963a2",
   "metadata": {},
   "source": [
    "<a id='sect1_1'></a>\n",
    "### <font color='darkgreen'>The Embedding Layer</font>\n",
    "<b>The Keras Embedding layer converts integers to dense vectors. </b> This layer maps these integers to random numbers, which are later tuned during the training phase. However, you also have the option to set the mapping to some predefined weight values (<font color='brown'>shown later</font>). To initialize this layer, we need to specify the maximum value of an integer to map, along with the length of the output sequence."
   ]
  },
  {
   "cell_type": "markdown",
   "id": "ddc84b1f",
   "metadata": {},
   "source": [
    "#### <font size='3ptx'>The Word Embeddings</font>\n",
    "Let’s see how the layer converts our `vectorized_text` to tensors:"
   ]
  },
  {
   "cell_type": "code",
   "execution_count": 3,
   "id": "a1b11173",
   "metadata": {},
   "outputs": [
    {
     "name": "stdout",
     "output_type": "stream",
     "text": [
      "tf.Tensor(\n",
      "[[[ 0.00159255  0.0237377   0.00592186  0.03066633  0.02824649\n",
      "   -0.02402112]\n",
      "  [-0.02659062 -0.00348645 -0.03330173 -0.01515425  0.02998136\n",
      "   -0.00507959]\n",
      "  [-0.01815591  0.0079321   0.01935692  0.00200195  0.04873777\n",
      "    0.00636574]\n",
      "  [ 0.03300695  0.01843351 -0.02699693 -0.00029789 -0.01380252\n",
      "    0.00134264]\n",
      "  [-0.00790211  0.02979622 -0.006251    0.03002688  0.04226694\n",
      "   -0.00930872]]\n",
      "\n",
      " [[-0.01444093  0.02759412 -0.03056091 -0.01953631 -0.0488962\n",
      "   -0.00861239]\n",
      "  [ 0.04594969 -0.04480059  0.04507883 -0.03993602 -0.03007515\n",
      "   -0.03806865]\n",
      "  [ 0.03300695  0.01843351 -0.02699693 -0.00029789 -0.01380252\n",
      "    0.00134264]\n",
      "  [-0.00790211  0.02979622 -0.006251    0.03002688  0.04226694\n",
      "   -0.00930872]\n",
      "  [-0.00790211  0.02979622 -0.006251    0.03002688  0.04226694\n",
      "   -0.00930872]]], shape=(2, 5, 6), dtype=float32)\n"
     ]
    }
   ],
   "source": [
    "output_length = 6\n",
    "word_embedding_layer = Embedding(vocab_size, output_length)\n",
    "embedded_words = word_embedding_layer(vectorized_words)\n",
    "print(embedded_words)"
   ]
  },
  {
   "cell_type": "markdown",
   "id": "27a1eed7",
   "metadata": {},
   "source": [
    "#### <font size='3ptx'>The Position Embeddings</font>\n",
    "We also need the embeddings for the corresponding positions. The maximum positions correspond to the output sequence length of the [**TextVectorization layer**](https://www.tensorflow.org/api_docs/python/tf/keras/layers/TextVectorization)."
   ]
  },
  {
   "cell_type": "code",
   "execution_count": 4,
   "id": "fb6682eb",
   "metadata": {},
   "outputs": [
    {
     "name": "stdout",
     "output_type": "stream",
     "text": [
      "tf.Tensor(\n",
      "[[-0.02082033 -0.04318792  0.03092572 -0.04108962 -0.01013154  0.02009343]\n",
      " [-0.04680616  0.03919676  0.02661523  0.02972138 -0.04719743  0.04678981]\n",
      " [ 0.02515086 -0.02363089  0.00996362 -0.03506092  0.04920613  0.01940448]\n",
      " [ 0.04553506  0.0063465  -0.03883425  0.00496538 -0.00587896  0.01884803]\n",
      " [ 0.01655377 -0.02659873 -0.04445714  0.00044848  0.01358939 -0.00027341]], shape=(5, 6), dtype=float32)\n"
     ]
    }
   ],
   "source": [
    "position_embedding_layer = Embedding(output_sequence_length, output_length)\n",
    "position_indices = tf.range(output_sequence_length)\n",
    "embedded_indices = position_embedding_layer(position_indices)\n",
    "print(embedded_indices)"
   ]
  },
  {
   "cell_type": "markdown",
   "id": "2c58c1b0",
   "metadata": {},
   "source": [
    "One example output is shown below:\n",
    "![position embedding example](images/2.PNG)"
   ]
  },
  {
   "cell_type": "markdown",
   "id": "42646764",
   "metadata": {},
   "source": [
    "### <font size='3ptx'>The Output of Positional Encoding Layer in Transformers</font>\n",
    "In a transformer model the final output is the sum of both the word embeddings and the position embeddings. Hence, when you set up both embedding layers, you need to make sure that the `output_length` is the same for both:"
   ]
  },
  {
   "cell_type": "code",
   "execution_count": 5,
   "id": "7c737350",
   "metadata": {},
   "outputs": [
    {
     "name": "stdout",
     "output_type": "stream",
     "text": [
      "Final output:  tf.Tensor(\n",
      "[[[-0.01922778 -0.01945022  0.03684759 -0.01042329  0.01811495\n",
      "   -0.00392769]\n",
      "  [-0.07339678  0.03571031 -0.0066865   0.01456713 -0.01721606\n",
      "    0.04171022]\n",
      "  [ 0.00699495 -0.01569879  0.02932054 -0.03305897  0.09794389\n",
      "    0.02577022]\n",
      "  [ 0.07854202  0.02478002 -0.06583118  0.00466748 -0.01968148\n",
      "    0.02019067]\n",
      "  [ 0.00865166  0.00319749 -0.05070814  0.03047536  0.05585632\n",
      "   -0.00958212]]\n",
      "\n",
      " [[-0.03526127 -0.01559379  0.00036481 -0.06062592 -0.05902774\n",
      "    0.01148104]\n",
      "  [-0.00085647 -0.00560383  0.07169405 -0.01021463 -0.07727257\n",
      "    0.00872116]\n",
      "  [ 0.05815782 -0.00519738 -0.01703331 -0.03535881  0.03540361\n",
      "    0.02074713]\n",
      "  [ 0.03763295  0.03614272 -0.04508525  0.03499226  0.03638798\n",
      "    0.00953931]\n",
      "  [ 0.00865166  0.00319749 -0.05070814  0.03047536  0.05585632\n",
      "   -0.00958212]]], shape=(2, 5, 6), dtype=float32)\n"
     ]
    }
   ],
   "source": [
    "final_output_embedding = embedded_words + embedded_indices\n",
    "print(\"Final output: \", final_output_embedding)"
   ]
  },
  {
   "cell_type": "markdown",
   "id": "102fba3c",
   "metadata": {},
   "source": [
    "The output is shown below, annotated with my comments. Again, this will be different from your run of the code because of the random weight initialization:\n",
    "![Final position embedding layer output](images/3.PNG)"
   ]
  },
  {
   "cell_type": "markdown",
   "id": "b1c2c7b6",
   "metadata": {},
   "source": [
    "<a id='sect2'></a>\n",
    "## <font color='darkblue'>SubClassing the Keras Embedding Layer</font>\n",
    "<b><font size='3ptx'>When implementing a transformer model, you’ll have to write your own position encoding layer.</font></b>\n",
    "\n",
    "This is quite simple as the basic functionality is already provided for you. This Keras example shows how you can subclass the [**Embedding**](https://keras.io/api/layers/core_layers/embedding/) layer to implement your own functionality. You can add more methods to it as you require."
   ]
  },
  {
   "cell_type": "code",
   "execution_count": 6,
   "id": "3ae47da5",
   "metadata": {},
   "outputs": [],
   "source": [
    "class PositionEmbeddingLayer(Layer):\n",
    "    def __init__(self, sequence_length, vocab_size, output_dim, **kwargs):\n",
    "        super(PositionEmbeddingLayer, self).__init__(**kwargs)\n",
    "        self.word_embedding_layer = Embedding(\n",
    "            input_dim=vocab_size, output_dim=output_dim\n",
    "        )\n",
    "        self.position_embedding_layer = Embedding(\n",
    "            input_dim=sequence_length, output_dim=output_dim\n",
    "        )\n",
    "\n",
    "    def call(self, inputs):        \n",
    "        position_indices = tf.range(tf.shape(inputs)[-1])\n",
    "        embedded_words = self.word_embedding_layer(inputs)\n",
    "        embedded_indices = self.position_embedding_layer(position_indices)\n",
    "        return embedded_words + embedded_indices"
   ]
  },
  {
   "cell_type": "markdown",
   "id": "ed421b5f",
   "metadata": {},
   "source": [
    "Let’s run this layer:"
   ]
  },
  {
   "cell_type": "code",
   "execution_count": 7,
   "id": "84d1113d",
   "metadata": {},
   "outputs": [
    {
     "name": "stdout",
     "output_type": "stream",
     "text": [
      "Output from my_embedded_layer:  tf.Tensor(\n",
      "[[[-0.01124736  0.02593747 -0.06810233 -0.03932019  0.09092823\n",
      "   -0.01732073]\n",
      "  [ 0.04746041  0.06779587 -0.01871127  0.0318888   0.01092607\n",
      "    0.00419025]\n",
      "  [-0.02089459 -0.00541897 -0.03820211  0.01298565 -0.00627899\n",
      "    0.05288449]\n",
      "  [ 0.01188883  0.02479108  0.02228631 -0.0142432  -0.02231615\n",
      "   -0.05673711]\n",
      "  [-0.03524917  0.02475162 -0.00502949 -0.00772779 -0.02771302\n",
      "   -0.02123171]]\n",
      "\n",
      " [[-0.0792498   0.06446094 -0.00887503 -0.03089676  0.08450408\n",
      "   -0.0160342 ]\n",
      "  [ 0.07095969  0.07137029 -0.02816767  0.00542819 -0.08403958\n",
      "    0.00589749]\n",
      "  [ 0.00682367  0.02527088 -0.01284612  0.00982421  0.03484458\n",
      "   -0.04207659]\n",
      "  [ 0.00826899  0.04446514 -0.04583046  0.06557745 -0.01909726\n",
      "    0.00252078]\n",
      "  [-0.03524917  0.02475162 -0.00502949 -0.00772779 -0.02771302\n",
      "   -0.02123171]]], shape=(2, 5, 6), dtype=float32)\n"
     ]
    }
   ],
   "source": [
    "my_embedding_layer = PositionEmbeddingLayer(output_sequence_length,\n",
    "                                            vocab_size, output_length)\n",
    "\n",
    "embedded_layer_output = my_embedding_layer(vectorized_words)\n",
    "print(\"Output from my_embedded_layer: \", embedded_layer_output)"
   ]
  },
  {
   "cell_type": "markdown",
   "id": "59204e07",
   "metadata": {},
   "source": [
    "### <font color='darkgreen'>Positional Encoding in Transformers: Attention is All You Need</font>\n",
    "<b><font size='3ptx'>Note, the above class creates an embedding layer that has trainable weights. Hence, the weights are initialized randomly and tuned in the training phase.</font></b>\n",
    "\n",
    "The authors of [Attention is All You Need](https://arxiv.org/abs/1706.03762) have specified a positional encoding scheme as shown below. You can read the full details in [part 1](https://nbviewer.ipython.org/github/johnklee/ml_articles/blob/master/mlmastery/A_gentle_introduction_to_positional_encoding_in_transformer_models_part1/notebook.ipynb) of this tutorial:\n",
    "\n",
    "![formula](https://nbviewer.ipython.org/github/johnklee/ml_articles/blob/master/mlmastery/A_gentle_introduction_to_positional_encoding_in_transformer_models_part1/images/3.PNG)\n",
    "\n",
    "If you want to use the same positional encoding scheme, you can specify your own embedding matrix as discussed in [part 1](https://nbviewer.ipython.org/github/johnklee/ml_articles/blob/master/mlmastery/A_gentle_introduction_to_positional_encoding_in_transformer_models_part1/notebook.ipynb), which shows how to create your own embeddings in NumPy. When specifying the Embedding layer, you need to provide the positional encoding matrix as weights along with `trainable=False`. Let’s create another positional embedding class that does exactly this."
   ]
  },
  {
   "cell_type": "code",
   "execution_count": 9,
   "id": "961c7627",
   "metadata": {},
   "outputs": [],
   "source": [
    "class PositionEmbeddingFixedWeights(Layer):\n",
    "    def __init__(self, sequence_length, vocab_size, output_dim, **kwargs):\n",
    "        super(PositionEmbeddingFixedWeights, self).__init__(**kwargs)\n",
    "        word_embedding_matrix = self._get_position_encoding(vocab_size, output_dim)   \n",
    "        position_embedding_matrix = self._get_position_encoding(sequence_length, output_dim)                                          \n",
    "        self.word_embedding_layer = Embedding(\n",
    "            input_dim=vocab_size, output_dim=output_dim,\n",
    "            weights=[word_embedding_matrix],\n",
    "            trainable=False\n",
    "        )\n",
    "        self.position_embedding_layer = Embedding(\n",
    "            input_dim=sequence_length, output_dim=output_dim,\n",
    "            weights=[position_embedding_matrix],\n",
    "            trainable=False\n",
    "        )\n",
    "             \n",
    "    def _get_position_encoding(self, seq_len, d, n=10000):\n",
    "        P = np.zeros((seq_len, d))\n",
    "        for k in range(seq_len):\n",
    "            for i in np.arange(int(d/2)):\n",
    "                denominator = np.power(n, 2*i/d)\n",
    "                P[k, 2*i] = np.sin(k/denominator)\n",
    "                P[k, 2*i+1] = np.cos(k/denominator)\n",
    "        return P\n",
    "\n",
    "\n",
    "    def call(self, inputs):        \n",
    "        position_indices = tf.range(tf.shape(inputs)[-1])\n",
    "        embedded_words = self.word_embedding_layer(inputs)\n",
    "        embedded_indices = self.position_embedding_layer(position_indices)\n",
    "        return embedded_words + embedded_indices"
   ]
  },
  {
   "cell_type": "markdown",
   "id": "033cc119",
   "metadata": {},
   "source": [
    "Next, we set up everything to run this layer:"
   ]
  },
  {
   "cell_type": "code",
   "execution_count": 10,
   "id": "ac675e66",
   "metadata": {},
   "outputs": [
    {
     "name": "stdout",
     "output_type": "stream",
     "text": [
      "Output from my_embedded_layer:  tf.Tensor(\n",
      "[[[-0.9589243   1.2836622   0.23000172  1.9731903   0.01077196\n",
      "    1.9999421 ]\n",
      "  [ 0.56205547  1.5004725   0.3213085   1.9603932   0.01508068\n",
      "    1.9999142 ]\n",
      "  [ 1.566284    0.3377554   0.41192317  1.9433732   0.01938933\n",
      "    1.999877  ]\n",
      "  [ 1.0504174  -1.4061394   0.2314966   1.9860148   0.01077211\n",
      "    1.9999698 ]\n",
      "  [-0.7568025   0.3463564   0.18459873  1.982814    0.00861763\n",
      "    1.9999628 ]]\n",
      "\n",
      " [[ 0.14112     0.0100075   0.1387981   1.9903207   0.00646326\n",
      "    1.9999791 ]\n",
      "  [ 0.08466846 -0.11334133  0.23099795  1.9817369   0.01077207\n",
      "    1.9999605 ]\n",
      "  [ 1.8185948  -0.8322937   0.185397    1.9913884   0.00861771\n",
      "    1.9999814 ]\n",
      "  [ 0.14112     0.0100075   0.1387981   1.9903207   0.00646326\n",
      "    1.9999791 ]\n",
      "  [-0.7568025   0.3463564   0.18459873  1.982814    0.00861763\n",
      "    1.9999628 ]]], shape=(2, 5, 6), dtype=float32)\n"
     ]
    }
   ],
   "source": [
    "attnisallyouneed_embedding = PositionEmbeddingFixedWeights(output_sequence_length,\n",
    "                                            vocab_size, output_length)\n",
    "\n",
    "attnisallyouneed_output = attnisallyouneed_embedding(vectorized_words)\n",
    "print(\"Output from my_embedded_layer: \", attnisallyouneed_output)"
   ]
  },
  {
   "cell_type": "markdown",
   "id": "3b4e4a9a",
   "metadata": {},
   "source": [
    "<a id='sect3'></a>\n",
    "## <font color='darkblue'>Visualizing the Final Embedding</font>\n",
    "<b><font size='3ptx'>In order to visualize the embeddings, let’s take two bigger sentences, one technical and the other one just a quote. </font></b>\n",
    "\n",
    "We’ll set up the [**TextVectorization**](https://www.tensorflow.org/api_docs/python/tf/keras/layers/TextVectorization) layer along with the positional encoding layer and see what the final output looks like."
   ]
  },
  {
   "cell_type": "code",
   "execution_count": 15,
   "id": "70dbf6e0",
   "metadata": {},
   "outputs": [],
   "source": [
    "technical_phrase = (\"to understand machine learning algorithms you need\"\n",
    "    \" to understand concepts such as gradient of a function \"\n",
    "    \"Hessians of a matrix and optimization etc\")\n",
    "wise_phrase = (\"patrick henry said give me liberty or give me death \"\n",
    "    \"when he addressed the second virginia convention in march\")\n",
    "\n",
    "total_vocabulary = 200\n",
    "sequence_length = 20\n",
    "final_output_len = 50\n",
    "\n",
    "phrase_vectorization_layer = TextVectorization(\n",
    "                  output_sequence_length=sequence_length,\n",
    "                  max_tokens=total_vocabulary)\n",
    "# Learn the dictionary\n",
    "phrase_vectorization_layer.adapt([technical_phrase, wise_phrase])\n",
    "# Convert all sentences to tensors\n",
    "phrase_tensors = convert_to_tensor([technical_phrase, wise_phrase], \n",
    "                                   dtype=tf.string)\n",
    "# Use the word tensors to get vectorized phrases\n",
    "vectorized_phrases = phrase_vectorization_layer(phrase_tensors)\n",
    "\n",
    "random_weights_embedding_layer = PositionEmbeddingLayer(sequence_length, \n",
    "                                                        total_vocabulary,\n",
    "                                                        final_output_len)\n",
    "fixed_weights_embedding_layer = PositionEmbeddingFixedWeights(sequence_length, \n",
    "                                                        total_vocabulary,\n",
    "                                                        final_output_len)\n",
    "random_embedding = random_weights_embedding_layer(vectorized_phrases)\n",
    "fixed_embedding = fixed_weights_embedding_layer(vectorized_phrases)"
   ]
  },
  {
   "cell_type": "markdown",
   "id": "6b48ceec",
   "metadata": {},
   "source": [
    "Now let’s see what the random embeddings look like for both phrases:"
   ]
  },
  {
   "cell_type": "code",
   "execution_count": 16,
   "id": "d15992c1",
   "metadata": {},
   "outputs": [
    {
     "data": {
      "image/png": "[encoded data removed]",
      "text/plain": [
       "<Figure size 1500x500 with 4 Axes>"
      ]
     },
     "metadata": {},
     "output_type": "display_data"
    }
   ],
   "source": [
    "fig = plt.figure(figsize=(15, 5))    \n",
    "title = [\"Tech Phrase\", \"Wise Phrase\"]\n",
    "for i in range(2):\n",
    "    ax = plt.subplot(1, 2, 1+i)\n",
    "    matrix = tf.reshape(random_embedding[i, :, :], (sequence_length, final_output_len))\n",
    "    cax = ax.matshow(matrix)\n",
    "    plt.gcf().colorbar(cax)   \n",
    "    plt.title(title[i], y=1.2)\n",
    "fig.suptitle(\"Random Embedding\")\n",
    "plt.show()"
   ]
  },
  {
   "cell_type": "markdown",
   "id": "d23dc63a",
   "metadata": {},
   "source": [
    "The embedding from the fixed weights layer are visualized below:"
   ]
  },
  {
   "cell_type": "code",
   "execution_count": 17,
   "id": "1e0cdb3b",
   "metadata": {},
   "outputs": [
    {
     "data": {
      "image/png": "[encoded data removed]",
      "text/plain": [
       "<Figure size 1500x500 with 4 Axes>"
      ]
     },
     "metadata": {},
     "output_type": "display_data"
    }
   ],
   "source": [
    "fig = plt.figure(figsize=(15, 5))    \n",
    "title = [\"Tech Phrase\", \"Wise Phrase\"]\n",
    "for i in range(2):\n",
    "    ax = plt.subplot(1, 2, 1+i)\n",
    "    matrix = tf.reshape(fixed_embedding[i, :, :], (sequence_length, final_output_len))\n",
    "    cax = ax.matshow(matrix)\n",
    "    plt.gcf().colorbar(cax)   \n",
    "    plt.title(title[i], y=1.2)\n",
    "fig.suptitle(\"Fixed Weight Embedding from Attention is All You Need\")\n",
    "plt.show()"
   ]
  },
  {
   "cell_type": "markdown",
   "id": "072a8ad4",
   "metadata": {},
   "source": [
    "We can see that the embedding layer initialized using the default parameter outputs random values. On the other hand, the fixed weights generated using sinusoids create a unique signature for every phrase with information on each word position encoded within it.\n",
    "\n",
    "You can experiment with both tunable or fixed weight implementations for your particular application."
   ]
  },
  {
   "cell_type": "markdown",
   "id": "381261ef",
   "metadata": {},
   "source": [
    "## <font color='darkblue'>Further Reading</font>\n",
    "* **Books**\n",
    "    * [Transformers for natural language processing, by Denis Rothman.](https://www.amazon.com/Transformers-Natural-Language-Processing-architectures/dp/1800565798)\n",
    "* **Papers**\n",
    "    * [Attention Is All You Need, 2017.](https://arxiv.org/abs/1706.03762)\n",
    "* **Articles**\n",
    "    * [The Transformer Attention Mechanism](https://machinelearningmastery.com/the-transformer-attention-mechanism/)\n",
    "    * [The Transformer Model](https://machinelearningmastery.com/the-transformer-model/)\n",
    "    * [Transformer Model for Language Understanding](https://www.tensorflow.org/text/tutorials/transformer)\n",
    "    * [Using Pre-Trained Word Embeddings in a Keras Model](https://blog.keras.io/using-pre-trained-word-embeddings-in-a-keras-model.html)\n",
    "    * [English-to-Spanish translation with a sequence-to-sequence Transformer](https://keras.io/examples/nlp/neural_machine_translation_with_transformer/)\n",
    "    * [A Gentle Introduction to Positional Encoding in Transformer Models, Part 1](https://machinelearningmastery.com/a-gentle-introduction-to-positional-encoding-in-transformer-models-part-1)"
   ]
  },
  {
   "cell_type": "markdown",
   "id": "92b35e2e",
   "metadata": {},
   "source": [
    "## <font color='darkblue'>Supplement</font>\n",
    "* [Google API Blog - Pathways Language Model (PaLM): Scaling to 540 Billion Parameters for Breakthrough Performance](https://ai.googleblog.com/2022/04/pathways-language-model-palm-scaling-to.html)\n",
    ">  [GPT-3](https://arxiv.org/abs/2005.14165) first showed that large language models (LLMs) can be used for few-shot learning and can achieve impressive results without large-scale task-specific data collection or model parameter updating..."
   ]
  }
 ],
 "metadata": {
  "kernelspec": {
   "display_name": "Python 3 (ipykernel)",
   "language": "python",
   "name": "python3"
  },
  "language_info": {
   "codemirror_mode": {
    "name": "ipython",
    "version": 3
   },
   "file_extension": ".py",
   "mimetype": "text/x-python",
   "name": "python",
   "nbconvert_exporter": "python",
   "pygments_lexer": "ipython3",
   "version": "3.10.7"
  }
 },
 "nbformat": 4,
 "nbformat_minor": 5
}
